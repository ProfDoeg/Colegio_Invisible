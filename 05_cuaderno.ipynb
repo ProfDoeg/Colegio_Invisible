{
 "cells": [
  {
   "cell_type": "code",
   "execution_count": 1,
   "metadata": {},
   "outputs": [
    {
     "data": {
      "text/html": [
       "<style>.container { width:100% !important; }</style>"
      ],
      "text/plain": [
       "<IPython.core.display.HTML object>"
      ]
     },
     "metadata": {},
     "output_type": "display_data"
    }
   ],
   "source": [
    "from IPython.core.display import display, HTML\n",
    "display(HTML(\"<style>.container { width:100% !important; }</style>\"))"
   ]
  },
  {
   "cell_type": "code",
   "execution_count": null,
   "metadata": {},
   "outputs": [],
   "source": [
    "! pip install eciespy"
   ]
  },
  {
   "cell_type": "code",
   "execution_count": null,
   "metadata": {},
   "outputs": [],
   "source": [
    "! pip install qrcode"
   ]
  },
  {
   "cell_type": "code",
   "execution_count": 4,
   "metadata": {},
   "outputs": [
    {
     "name": "stdout",
     "output_type": "stream",
     "text": [
      "Requirement already satisfied: eth_keys in /Users/tony/anaconda3/lib/python3.7/site-packages (0.3.3)\n",
      "Requirement already satisfied: eth-typing<3.0.0,>=2.2.1 in /Users/tony/anaconda3/lib/python3.7/site-packages (from eth_keys) (2.2.2)\n",
      "Requirement already satisfied: eth-utils<2.0.0,>=1.3.0 in /Users/tony/anaconda3/lib/python3.7/site-packages (from eth_keys) (1.9.5)\n",
      "Requirement already satisfied: eth-hash<1.0.0,>=0.1.0 in /Users/tony/anaconda3/lib/python3.7/site-packages (from eth-utils<2.0.0,>=1.3.0->eth_keys) (0.2.0)\n",
      "Requirement already satisfied: cytoolz<1.0.0,>=0.10.1; implementation_name == \"cpython\" in /Users/tony/anaconda3/lib/python3.7/site-packages (from eth-utils<2.0.0,>=1.3.0->eth_keys) (0.10.1)\n",
      "Requirement already satisfied: toolz>=0.8.0 in /Users/tony/anaconda3/lib/python3.7/site-packages (from cytoolz<1.0.0,>=0.10.1; implementation_name == \"cpython\"->eth-utils<2.0.0,>=1.3.0->eth_keys) (0.10.0)\n"
     ]
    }
   ],
   "source": [
    "! pip install eth_keys"
   ]
  },
  {
   "cell_type": "code",
   "execution_count": 27,
   "metadata": {},
   "outputs": [
    {
     "name": "stdout",
     "output_type": "stream",
     "text": [
      "Requirement already satisfied: base58 in /Users/tony/anaconda3/lib/python3.7/site-packages (2.0.1)\r\n"
     ]
    }
   ],
   "source": [
    "! pip install base58"
   ]
  },
  {
   "cell_type": "code",
   "execution_count": null,
   "metadata": {},
   "outputs": [],
   "source": [
    "! ls images"
   ]
  },
  {
   "cell_type": "markdown",
   "metadata": {},
   "source": [
    "# Private Keys, Public Keys and Addresses\n",
    "\n",
    "<br></br>\n",
    "<div>\n",
    "<img src=\"images/prv_pub_addr.png\" width=\"800\"/>\n",
    "</div>\n",
    "\n",
    "In order to play the cryptocurrency game we need to be able to manage private keys, public keys and addresses.\n",
    "\n",
    "- **private key** you know from asymmetric cryptography. We are using ECC and the Secp256k1 curve. This is made of 256 bits of entropy. \n",
    "- **public key** you know from asymmetric cryptography. This key is derived from the private key.\n",
    "- **address** is a series of hashes of the public key and base58 encoding.\n",
    "\n",
    "LINKS:\n",
    "- https://en.bitcoin.it/wiki/Secp256k1\n",
    "- https://en.bitcoin.it/wiki/Wallet_import_format\n",
    "- https://en.bitcoin.it/wiki/Technical_background_of_version_1_Bitcoin_addresses\n",
    "- https://en.bitcoin.it/wiki/Base58Check_encoding"
   ]
  },
  {
   "cell_type": "markdown",
   "metadata": {},
   "source": [
    "# Imports and Definitions"
   ]
  },
  {
   "cell_type": "code",
   "execution_count": 2,
   "metadata": {},
   "outputs": [],
   "source": [
    "import hashlib\n",
    "import os\n",
    "import getpass\n",
    "import ecies\n",
    "import eth_keys\n",
    "import cryptos\n",
    "import qrcode\n",
    "import base58\n",
    "from PIL import Image\n",
    "import matplotlib.pyplot as plt\n",
    "import numpy as np\n",
    "%matplotlib inline"
   ]
  },
  {
   "cell_type": "code",
   "execution_count": 5,
   "metadata": {},
   "outputs": [],
   "source": [
    "def save_privkey(privkey,privkey_filepath,password=None):\n",
    "    if password==None:\n",
    "        while True:\n",
    "                password = getpass.getpass(\"Input password for encrypting keyfile: \")\n",
    "                password_2 = getpass.getpass(\"Repeat password for encrypting keyfile: \")\n",
    "                if password==password_2:\n",
    "                    print('\\nPasswords match...')\n",
    "                    break\n",
    "                else:\n",
    "                    print('\\nPasswords do not match...')\n",
    "    encrypted_bytes=ecies.aes_encrypt(key=hashlib.sha256(password.encode()).digest(),\n",
    "                                      plain_text=privkey.to_bytes())\n",
    "    open(privkey_filepath,'wb').write(encrypted_bytes)\n",
    "    print(f'Password protected file written to {privkey_filepath} containing {encrypted_bytes.hex()}')\n",
    "    \n",
    "def save_pubkey(pubkey,pubkey_filepath):\n",
    "    open(pubkey_filepath,'wb').write(pubkey.to_bytes())\n",
    "    print(f'File written to {pubkey_filepath} containing {pubkey.to_bytes().hex()}')\n",
    "    \n",
    "def save_addr(addr,addr_filepath):\n",
    "    open(addr_filepath,'wb').write(addr.encode())\n",
    "    print(f'Address written to {addr_filepath} containing {addr}')\n",
    "\n",
    "def make_qr(data,image_path=None):\n",
    "    qr = qrcode.QRCode(version=1,box_size=5,border=2)\n",
    "    qr.add_data(data)\n",
    "    qr.make(fit=True)\n",
    "    img = qr.make_image(fill='black', back_color='white')\n",
    "    if image_path!=None:\n",
    "        img.save(image_path)\n",
    "    return img\n",
    "    \n",
    "def gen_save_keys_addr(basename_filepath,password=None):\n",
    "    if os.path.isfile(basename_filepath+'_prv.enc'):\n",
    "        privkey2save=import_privKey(basename_filepath+'_prv.enc',password)\n",
    "    else:\n",
    "        privkey2save = ecies.utils.generate_eth_key()\n",
    "    pubkey2save = privkey2save.public_key\n",
    "    doge = cryptos.Doge()\n",
    "    addr2save=doge.pubtoaddr('04'+pubkey2save.to_bytes().hex())    \n",
    "    save_privkey(privkey2save,basename_filepath+'_prv.enc',password=password)\n",
    "    save_pubkey(pubkey2save,basename_filepath+'_pub.bin')\n",
    "    save_addr(addr2save,basename_filepath+'_addr.bin')\n",
    "    return make_qr(addr2save,basename_filepath+'_addr.png')\n",
    "    \n",
    "def import_privKey(privkey_filepath,password=None):\n",
    "    if password==None:\n",
    "        password = getpass.getpass(\"Input password for decrypting keyfile: \")\n",
    "    password=password.encode()\n",
    "    f=open(privkey_filepath,'rb')\n",
    "    decrypted_bytes=ecies.aes_decrypt(key=hashlib.sha256(password).digest(),cipher_text=f.read())\n",
    "    privKey=eth_keys.keys.PrivateKey(decrypted_bytes)\n",
    "    return privKey\n",
    "\n",
    "def import_pubKey(pubkey_filepath):\n",
    "    f=open(pubkey_filepath,'rb')\n",
    "    privKey=eth_keys.keys.PublicKey(f.read())\n",
    "    return privKey\n",
    "\n",
    "def import_addr(addr_filepath):\n",
    "    return open(addr_filepath,'rb').read().decode()"
   ]
  },
  {
   "cell_type": "markdown",
   "metadata": {},
   "source": [
    "# Making Private, Public and Address Files"
   ]
  },
  {
   "cell_type": "code",
   "execution_count": 6,
   "metadata": {},
   "outputs": [],
   "source": [
    "! mkdir keys"
   ]
  },
  {
   "cell_type": "code",
   "execution_count": 7,
   "metadata": {},
   "outputs": [
    {
     "name": "stdout",
     "output_type": "stream",
     "text": [
      "Password protected file written to keys/my_prv.enc containing a41d4c048f7c5205f6bac7609da4cc38c5760850176780460a94de248f7ee201cf04dbcb75fab6b42ba9ea9541731c88b2661119872cf7797195e3561e39a76b\n",
      "File written to keys/my_pub.bin containing 0938514de4e0a2a4c9f3eda196741a6d68523b239e95ed253fa19bd65479c69fbbe22d8bda611de5e52d29b67cf5106297b701b295a2958c2295468d2994cd7e\n",
      "Address written to keys/my_addr.bin containing DDLGhb7pd4Vxdqz6fW77SYHmKRHokq7Xdp\n"
     ]
    },
    {
     "data": {
      "image/png": "[encoded data removed]",
      "text/plain": [
       "<qrcode.image.pil.PilImage at 0x7fa7886a3c90>"
      ]
     },
     "execution_count": 7,
     "metadata": {},
     "output_type": "execute_result"
    }
   ],
   "source": [
    "gen_save_keys_addr('keys/my',password='')"
   ]
  },
  {
   "cell_type": "code",
   "execution_count": 8,
   "metadata": {},
   "outputs": [
    {
     "data": {
      "text/plain": [
       "('0x864001237a01058fdc9be00564b7cf9ddd59ab03efafa37373f56fdbf8412556',\n",
       " eth_keys.datatypes.PrivateKey)"
      ]
     },
     "execution_count": 8,
     "metadata": {},
     "output_type": "execute_result"
    }
   ],
   "source": [
    "privKey=import_privKey('keys/my_prv.enc','')\n",
    "privKey,type(privKey)"
   ]
  },
  {
   "cell_type": "code",
   "execution_count": 9,
   "metadata": {},
   "outputs": [
    {
     "data": {
      "text/plain": [
       "('0x0938514de4e0a2a4c9f3eda196741a6d68523b239e95ed253fa19bd65479c69fbbe22d8bda611de5e52d29b67cf5106297b701b295a2958c2295468d2994cd7e',\n",
       " eth_keys.datatypes.PublicKey)"
      ]
     },
     "execution_count": 9,
     "metadata": {},
     "output_type": "execute_result"
    }
   ],
   "source": [
    "pubKey=import_pubKey('keys/my_pub.bin')\n",
    "pubKey,type(pubKey)"
   ]
  },
  {
   "cell_type": "code",
   "execution_count": 10,
   "metadata": {},
   "outputs": [
    {
     "data": {
      "text/plain": [
       "'DDLGhb7pd4Vxdqz6fW77SYHmKRHokq7Xdp'"
      ]
     },
     "execution_count": 10,
     "metadata": {},
     "output_type": "execute_result"
    }
   ],
   "source": [
    "addr=import_addr('keys/my_addr.bin')\n",
    "addr"
   ]
  },
  {
   "cell_type": "markdown",
   "metadata": {},
   "source": [
    "# Address Generation Details\n",
    "\n",
    "<div>\n",
    "<img src=\"images/PubKeyToAddr.png\" width=\"300\"/>\n",
    "</div>\n",
    "\n",
    "If we wanted to do the address generation by hand, it would go as follows.\n",
    "\n",
    "1) Start with the **PUBLIC KEY** prepended with byte **`04`**"
   ]
  },
  {
   "cell_type": "code",
   "execution_count": 11,
   "metadata": {},
   "outputs": [
    {
     "data": {
      "text/plain": [
       "'040938514de4e0a2a4c9f3eda196741a6d68523b239e95ed253fa19bd65479c69fbbe22d8bda611de5e52d29b67cf5106297b701b295a2958c2295468d2994cd7e'"
      ]
     },
     "execution_count": 11,
     "metadata": {},
     "output_type": "execute_result"
    }
   ],
   "source": [
    "pbkey04='04'+pubKey.to_hex()[2:]\n",
    "pbkey04"
   ]
  },
  {
   "cell_type": "markdown",
   "metadata": {},
   "source": [
    "2) Next apply the **`HASH160`**. Remember this is **`SHA256`** hashing followed by **`RIPMED160`** hashing."
   ]
  },
  {
   "cell_type": "code",
   "execution_count": 12,
   "metadata": {},
   "outputs": [
    {
     "data": {
      "text/plain": [
       "'59de104fe71ad31812da1f05b58a27103598e6bb'"
      ]
     },
     "execution_count": 12,
     "metadata": {},
     "output_type": "execute_result"
    }
   ],
   "source": [
    "cryptos.bin_hash160(bytes.fromhex(pbkey04)).hex()"
   ]
  },
  {
   "cell_type": "code",
   "execution_count": 13,
   "metadata": {},
   "outputs": [
    {
     "data": {
      "text/plain": [
       "'59de104fe71ad31812da1f05b58a27103598e6bb'"
      ]
     },
     "execution_count": 13,
     "metadata": {},
     "output_type": "execute_result"
    }
   ],
   "source": [
    "pbkey_160=cryptos.hex_to_hash160(pbkey04)\n",
    "pbkey_160"
   ]
  },
  {
   "cell_type": "markdown",
   "metadata": {},
   "source": [
    "3) Then prepend the **magic byte** to the **`HASH160`** output."
   ]
  },
  {
   "cell_type": "code",
   "execution_count": 14,
   "metadata": {},
   "outputs": [
    {
     "data": {
      "text/plain": [
       "'0x1e'"
      ]
     },
     "execution_count": 14,
     "metadata": {},
     "output_type": "execute_result"
    }
   ],
   "source": [
    "doge=cryptos.Doge()\n",
    "magic=hex(doge.magicbyte)\n",
    "magic_pbkey_160=magic[2:]+pbkey_160\n",
    "magic"
   ]
  },
  {
   "cell_type": "markdown",
   "metadata": {},
   "source": [
    "4) Take a detour and complete the side project taking the **DOUBLE SHA256** of the previous output. The **first 4 bytes** of this will be the **checksum**. Appending this suffix to the previous output will yield the address in bytes/hex."
   ]
  },
  {
   "cell_type": "code",
   "execution_count": 15,
   "metadata": {},
   "outputs": [],
   "source": [
    "suffix=cryptos.dbl_sha256(bytes.fromhex(magic_pbkey_160))[:8]"
   ]
  },
  {
   "cell_type": "code",
   "execution_count": 16,
   "metadata": {},
   "outputs": [
    {
     "data": {
      "text/plain": [
       "'1e59de104fe71ad31812da1f05b58a27103598e6bb870ed7df'"
      ]
     },
     "execution_count": 16,
     "metadata": {},
     "output_type": "execute_result"
    }
   ],
   "source": [
    "hex_addr=magic_pbkey_160+suffix\n",
    "hex_addr"
   ]
  },
  {
   "cell_type": "markdown",
   "metadata": {},
   "source": [
    "The above yields a legit address though we generally take the additional step of doing a base58 encoding.\n",
    "\n",
    "5) Finally we do a **base58** encoding. Note the magic byte prefix of Dogecoin **`0x1e`** ensures the base58 address will always start with a **`D`**"
   ]
  },
  {
   "cell_type": "code",
   "execution_count": 17,
   "metadata": {},
   "outputs": [
    {
     "data": {
      "text/plain": [
       "'DDLGhb7pd4Vxdqz6fW77SYHmKRHokq7Xdp'"
      ]
     },
     "execution_count": 17,
     "metadata": {},
     "output_type": "execute_result"
    }
   ],
   "source": [
    "base58.b58encode(bytes.fromhex(hex_addr)).decode()"
   ]
  },
  {
   "cell_type": "code",
   "execution_count": 18,
   "metadata": {},
   "outputs": [
    {
     "data": {
      "text/plain": [
       "'DDLGhb7pd4Vxdqz6fW77SYHmKRHokq7Xdp'"
      ]
     },
     "execution_count": 18,
     "metadata": {},
     "output_type": "execute_result"
    }
   ],
   "source": [
    "addr"
   ]
  },
  {
   "cell_type": "markdown",
   "metadata": {},
   "source": [
    "# WIF\n",
    "\n",
    "Wallet Import Format (WIF) is the base58 encoding for private keys. It is worth going over as an exercize.\n",
    "\n",
    "1) Start with a **PRIVATE KEY** and prepend the network specific byte. `0x80` for Bitcoin and `0x9e` for Dogecoin."
   ]
  },
  {
   "cell_type": "code",
   "execution_count": 19,
   "metadata": {},
   "outputs": [
    {
     "data": {
      "text/plain": [
       "'864001237a01058fdc9be00564b7cf9ddd59ab03efafa37373f56fdbf8412556'"
      ]
     },
     "execution_count": 19,
     "metadata": {},
     "output_type": "execute_result"
    }
   ],
   "source": [
    "prvkey=privKey.to_hex()[2:]\n",
    "prvkey"
   ]
  },
  {
   "cell_type": "code",
   "execution_count": 20,
   "metadata": {},
   "outputs": [
    {
     "data": {
      "text/plain": [
       "'9e864001237a01058fdc9be00564b7cf9ddd59ab03efafa37373f56fdbf8412556'"
      ]
     },
     "execution_count": 20,
     "metadata": {},
     "output_type": "execute_result"
    }
   ],
   "source": [
    "prvkey9e='9e'+prvkey\n",
    "prvkey9e"
   ]
  },
  {
   "cell_type": "markdown",
   "metadata": {},
   "source": [
    "2) The second step is to **DOUBLE SHA256** the prepended private key. The **first 4 bytes** of the output provide the **checksum suffix**."
   ]
  },
  {
   "cell_type": "code",
   "execution_count": 21,
   "metadata": {},
   "outputs": [
    {
     "data": {
      "text/plain": [
       "'2353e483'"
      ]
     },
     "execution_count": 21,
     "metadata": {},
     "output_type": "execute_result"
    }
   ],
   "source": [
    "wif_checksum = cryptos.dbl_sha256(bytes.fromhex(prvkey9e))[:8]\n",
    "wif_checksum"
   ]
  },
  {
   "cell_type": "markdown",
   "metadata": {},
   "source": [
    "3) Lastly we append the suffix to the private key and encode using base58."
   ]
  },
  {
   "cell_type": "code",
   "execution_count": 22,
   "metadata": {},
   "outputs": [
    {
     "data": {
      "text/plain": [
       "'6K9k7MYDwen38GfZN7ty8ME7gtN5jFJdB9PtedCVgjKKokSiUnn'"
      ]
     },
     "execution_count": 22,
     "metadata": {},
     "output_type": "execute_result"
    }
   ],
   "source": [
    "prvkey9e_suffixed=prvkey9e+wif_checksum\n",
    "wif=base58.b58encode(bytes.fromhex(prvkey9e_suffixed)).decode()\n",
    "wif"
   ]
  },
  {
   "cell_type": "code",
   "execution_count": 23,
   "metadata": {},
   "outputs": [],
   "source": [
    "def to_wif(pvk,prefix='9e'):\n",
    "    import base58\n",
    "    import cryptos\n",
    "    checksum=cryptos.dbl_sha256(bytes.fromhex(prefix+pvk))[:8]\n",
    "    return base58.b58encode(bytes.fromhex(prefix+pvk+checksum)).decode()\n",
    "\n",
    "def from_wif(wif):\n",
    "    return base58.b58decode(wif).hex()[2:-8]"
   ]
  },
  {
   "cell_type": "code",
   "execution_count": 24,
   "metadata": {},
   "outputs": [
    {
     "data": {
      "text/plain": [
       "'6K9k7MYDwen38GfZN7ty8ME7gtN5jFJdB9PtedCVgjKKokSiUnn'"
      ]
     },
     "execution_count": 24,
     "metadata": {},
     "output_type": "execute_result"
    }
   ],
   "source": [
    "doge_wif=to_wif(privKey.to_hex()[2:])\n",
    "doge_wif"
   ]
  },
  {
   "cell_type": "code",
   "execution_count": 25,
   "metadata": {},
   "outputs": [
    {
     "data": {
      "text/plain": [
       "('864001237a01058fdc9be00564b7cf9ddd59ab03efafa37373f56fdbf8412556', True)"
      ]
     },
     "execution_count": 25,
     "metadata": {},
     "output_type": "execute_result"
    }
   ],
   "source": [
    "og_prvkey=from_wif(doge_wif)\n",
    "prvkey , og_prvkey==prvkey"
   ]
  },
  {
   "cell_type": "markdown",
   "metadata": {},
   "source": [
    "# Base58\n",
    "\n",
    "For creating addresses and WIF private keys, we have been using base58 encodings.\n",
    "\n",
    "What's so dope about base58?\n",
    "\n",
    "- Don't want `0OIl` characters that look the same in some fonts and could be used to create visually identical looking strings.\n",
    "- A string with non-alphanumeric characters is not as easily accepted."
   ]
  },
  {
   "cell_type": "code",
   "execution_count": 26,
   "metadata": {},
   "outputs": [
    {
     "data": {
      "text/plain": [
       "'6K9k7MYDwen38GfZN7ty8ME7gtN5jFJdB9PtedCVgjKKokSiUnn'"
      ]
     },
     "execution_count": 26,
     "metadata": {},
     "output_type": "execute_result"
    }
   ],
   "source": [
    "hexstring=prvkey9e_suffixed\n",
    "\n",
    "code_string = \"123456789ABCDEFGHJKLMNPQRSTUVWXYZabcdefghijkmnopqrstuvwxyz\"\n",
    "x = int(hexstring,base=16)\n",
    "output_list = []\n",
    "   \n",
    "while(x > 0):\n",
    "    (remainder,x) = x%58,x//58\n",
    "    output_list.append(code_string[remainder])\n",
    "\n",
    "''.join(output_list)[::-1]"
   ]
  },
  {
   "cell_type": "code",
   "execution_count": 28,
   "metadata": {},
   "outputs": [
    {
     "data": {
      "text/plain": [
       "'6K9k7MYDwen38GfZN7ty8ME7gtN5jFJdB9PtedCVgjKKokSiUnn'"
      ]
     },
     "execution_count": 28,
     "metadata": {},
     "output_type": "execute_result"
    }
   ],
   "source": [
    "wif"
   ]
  },
  {
   "cell_type": "code",
   "execution_count": null,
   "metadata": {},
   "outputs": [],
   "source": []
  }
 ],
 "metadata": {
  "kernelspec": {
   "display_name": "Python 3",
   "language": "python",
   "name": "python3"
  },
  "language_info": {
   "codemirror_mode": {
    "name": "ipython",
    "version": 3
   },
   "file_extension": ".py",
   "mimetype": "text/x-python",
   "name": "python",
   "nbconvert_exporter": "python",
   "pygments_lexer": "ipython3",
   "version": "3.7.6"
  }
 },
 "nbformat": 4,
 "nbformat_minor": 4
}
