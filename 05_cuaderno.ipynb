{
  "cells": [
    {
      "cell_type": "markdown",
      "metadata": {
        "id": "p8UZNRNTyf01"
      },
      "source": [
        "<a href=\"https://colab.research.google.com/github/ProfDoeg/Colegio_Invisible/blob/master/05_cuaderno.ipynb\" target=\"_parent\"><img src=\"https://colab.research.google.com/assets/colab-badge.svg\" alt=\"Open In Colab\"/></a>"
      ]
    },
    {
      "cell_type": "code",
      "execution_count": 1,
      "metadata": {
        "id": "U5xDMfi6yf06",
        "outputId": "0566f027-de39-4274-9b34-6a239e0210bc",
        "colab": {
          "base_uri": "https://localhost:8080/"
        }
      },
      "outputs": [
        {
          "output_type": "stream",
          "name": "stdout",
          "text": [
            "Collecting eciespy\n",
            "  Downloading eciespy-0.3.11-py3-none-any.whl (11 kB)\n",
            "Collecting eth_keys\n",
            "  Downloading eth_keys-0.4.0-py3-none-any.whl (21 kB)\n",
            "Collecting cryptos\n",
            "  Downloading cryptos-1.36-py3-none-any.whl (69 kB)\n",
            "\u001b[K     |████████████████████████████████| 69 kB 4.7 MB/s \n",
            "\u001b[?25hCollecting qrcode\n",
            "  Downloading qrcode-7.3.1.tar.gz (43 kB)\n",
            "\u001b[K     |████████████████████████████████| 43 kB 2.3 MB/s \n",
            "\u001b[?25hCollecting base58\n",
            "  Downloading base58-2.1.1-py3-none-any.whl (5.6 kB)\n",
            "Collecting eth_keys\n",
            "  Downloading eth_keys-0.3.3-py3-none-any.whl (20 kB)\n",
            "Collecting coincurve<16,>=13\n",
            "  Downloading coincurve-15.0.1-cp37-cp37m-manylinux_2_17_x86_64.manylinux2014_x86_64.whl (555 kB)\n",
            "\u001b[K     |████████████████████████████████| 555 kB 17.0 MB/s \n",
            "\u001b[?25hCollecting pycryptodome<4.0.0,>=3.9.9\n",
            "  Downloading pycryptodome-3.12.0-cp35-abi3-manylinux2010_x86_64.whl (2.0 MB)\n",
            "\u001b[K     |████████████████████████████████| 2.0 MB 49.1 MB/s \n",
            "\u001b[?25hCollecting eth-utils<2.0.0,>=1.3.0\n",
            "  Downloading eth_utils-1.10.0-py3-none-any.whl (24 kB)\n",
            "Collecting eth-typing<3.0.0,>=2.2.1\n",
            "  Downloading eth_typing-2.2.2-py3-none-any.whl (6.2 kB)\n",
            "Requirement already satisfied: cffi>=1.3.0 in /usr/local/lib/python3.7/dist-packages (from coincurve<16,>=13->eciespy) (1.15.0)\n",
            "Collecting asn1crypto\n",
            "  Downloading asn1crypto-1.4.0-py2.py3-none-any.whl (104 kB)\n",
            "\u001b[K     |████████████████████████████████| 104 kB 65.1 MB/s \n",
            "\u001b[?25hRequirement already satisfied: pycparser in /usr/local/lib/python3.7/dist-packages (from cffi>=1.3.0->coincurve<16,>=13->eciespy) (2.21)\n",
            "Collecting cytoolz<1.0.0,>=0.10.1\n",
            "  Downloading cytoolz-0.11.2.tar.gz (481 kB)\n",
            "\u001b[K     |████████████████████████████████| 481 kB 61.7 MB/s \n",
            "\u001b[?25hCollecting eth-hash<0.4.0,>=0.3.1\n",
            "  Downloading eth_hash-0.3.2-py3-none-any.whl (8.8 kB)\n",
            "Requirement already satisfied: toolz>=0.8.0 in /usr/local/lib/python3.7/dist-packages (from cytoolz<1.0.0,>=0.10.1->eth-utils<2.0.0,>=1.3.0->eth_keys) (0.11.2)\n",
            "Building wheels for collected packages: cytoolz, qrcode\n",
            "  Building wheel for cytoolz (setup.py) ... \u001b[?25l\u001b[?25hdone\n",
            "  Created wheel for cytoolz: filename=cytoolz-0.11.2-cp37-cp37m-linux_x86_64.whl size=1230817 sha256=80baa809fd8a25b21d3df41455c4226a6fa31e65099ef0fdc959d08c29f7ee02\n",
            "  Stored in directory: /root/.cache/pip/wheels/38/70/71/ca13ea3d36ccd0b3d0ec7d7a4ca67522048d695b556bba4f59\n",
            "  Building wheel for qrcode (setup.py) ... \u001b[?25l\u001b[?25hdone\n",
            "  Created wheel for qrcode: filename=qrcode-7.3.1-py3-none-any.whl size=40402 sha256=9c9891226dbb3610c07b2dc885a6aaa6403ab9d54038f75bc87fc62dce4f23f1\n",
            "  Stored in directory: /root/.cache/pip/wheels/93/d7/39/a4111be2cfb8e679938aa671a37888b6afb1f9e7d748e94492\n",
            "Successfully built cytoolz qrcode\n",
            "Installing collected packages: eth-typing, eth-hash, cytoolz, eth-utils, asn1crypto, pycryptodome, eth-keys, coincurve, qrcode, eciespy, cryptos, base58\n",
            "Successfully installed asn1crypto-1.4.0 base58-2.1.1 coincurve-15.0.1 cryptos-1.36 cytoolz-0.11.2 eciespy-0.3.11 eth-hash-0.3.2 eth-keys-0.3.3 eth-typing-2.2.2 eth-utils-1.10.0 pycryptodome-3.12.0 qrcode-7.3.1\n"
          ]
        }
      ],
      "source": [
        "! pip install eciespy eth_keys cryptos qrcode base58 "
      ]
    },
    {
      "cell_type": "markdown",
      "metadata": {
        "id": "WBvR9R5Eyf0-"
      },
      "source": [
        "# Private Keys, Public Keys and Addresses\n",
        "\n",
        "<br></br>\n",
        "<div>\n",
        "<img src=\"https://github.com/ProfDoeg/Colegio_Invisible/raw/main/img/prv_pub_addr.png\" width=\"800\"/>\n",
        "</div>\n",
        "\n",
        "In order to play the cryptocurrency game we need to be able to manage private keys, public keys and addresses.\n",
        "\n",
        "- **private key** you know from asymmetric cryptography. We are using ECC and the Secp256k1 curve. This is made of 256 bits of entropy. \n",
        "- **public key** you know from asymmetric cryptography. This key is derived from the private key.\n",
        "- **address** is a series of hashes of the public key and base58 encoding.\n",
        "\n",
        "LINKS:\n",
        "- https://en.bitcoin.it/wiki/Secp256k1\n",
        "- https://en.bitcoin.it/wiki/Wallet_import_format\n",
        "- https://en.bitcoin.it/wiki/Technical_background_of_version_1_Bitcoin_addresses\n",
        "- https://en.bitcoin.it/wiki/Base58Check_encoding"
      ]
    },
    {
      "cell_type": "markdown",
      "metadata": {
        "id": "UCBESxaRyf0_"
      },
      "source": [
        "# Imports and Definitions"
      ]
    },
    {
      "cell_type": "code",
      "execution_count": 2,
      "metadata": {
        "id": "vQZ_mWc-yf1A"
      },
      "outputs": [],
      "source": [
        "import hashlib\n",
        "import os\n",
        "import getpass\n",
        "import ecies\n",
        "import eth_keys\n",
        "import cryptos\n",
        "import qrcode\n",
        "import base58\n",
        "from PIL import Image\n",
        "import matplotlib.pyplot as plt\n",
        "import numpy as np\n",
        "%matplotlib inline"
      ]
    },
    {
      "cell_type": "code",
      "execution_count": 3,
      "metadata": {
        "id": "1wLw3PCpyf1B"
      },
      "outputs": [],
      "source": [
        "def save_privkey(privkey,privkey_filepath,password=None):\n",
        "    if password==None:\n",
        "        while True:\n",
        "                password = getpass.getpass(\"Input password for encrypting keyfile: \")\n",
        "                password_2 = getpass.getpass(\"Repeat password for encrypting keyfile: \")\n",
        "                if password==password_2:\n",
        "                    print('\\nPasswords match...')\n",
        "                    break\n",
        "                else:\n",
        "                    print('\\nPasswords do not match...')\n",
        "    encrypted_bytes=ecies.aes_encrypt(key=hashlib.sha256(password.encode()).digest(),\n",
        "                                      plain_text=privkey.to_bytes())\n",
        "    open(privkey_filepath,'wb').write(encrypted_bytes)\n",
        "    print(f'Password protected file written to {privkey_filepath} containing {encrypted_bytes.hex()}')\n",
        "    \n",
        "def save_pubkey(pubkey,pubkey_filepath):\n",
        "    open(pubkey_filepath,'wb').write(pubkey.to_bytes())\n",
        "    print(f'File written to {pubkey_filepath} containing {pubkey.to_bytes().hex()}')\n",
        "    \n",
        "def save_addr(addr,addr_filepath):\n",
        "    open(addr_filepath,'wb').write(addr.encode())\n",
        "    print(f'Address written to {addr_filepath} containing {addr}')\n",
        "\n",
        "def make_qr(data,image_path=None):\n",
        "    qr = qrcode.QRCode(version=1,box_size=5,border=2)\n",
        "    qr.add_data(data)\n",
        "    qr.make(fit=True)\n",
        "    img = qr.make_image(fill='black', back_color='white')\n",
        "    if image_path!=None:\n",
        "        img.save(image_path)\n",
        "    return img\n",
        "    \n",
        "def gen_save_keys_addr(basename_filepath,password=None):\n",
        "    if os.path.isfile(basename_filepath+'_prv.enc'):\n",
        "        privkey2save=import_privKey(basename_filepath+'_prv.enc',password)\n",
        "    else:\n",
        "        privkey2save = ecies.utils.generate_eth_key()\n",
        "    pubkey2save = privkey2save.public_key\n",
        "    doge = cryptos.Doge()\n",
        "    addr2save=doge.pubtoaddr('04'+pubkey2save.to_bytes().hex())    \n",
        "    save_privkey(privkey2save,basename_filepath+'_prv.enc',password=password)\n",
        "    save_pubkey(pubkey2save,basename_filepath+'_pub.bin')\n",
        "    save_addr(addr2save,basename_filepath+'_addr.bin')\n",
        "    return make_qr(addr2save,basename_filepath+'_addr.png')\n",
        "    \n",
        "def import_privKey(privkey_filepath,password=None):\n",
        "    if password==None:\n",
        "        password = getpass.getpass(\"Input password for decrypting keyfile: \")\n",
        "    password=password.encode()\n",
        "    f=open(privkey_filepath,'rb')\n",
        "    decrypted_bytes=ecies.aes_decrypt(key=hashlib.sha256(password).digest(),cipher_text=f.read())\n",
        "    privKey=eth_keys.keys.PrivateKey(decrypted_bytes)\n",
        "    return privKey\n",
        "\n",
        "def import_pubKey(pubkey_filepath):\n",
        "    f=open(pubkey_filepath,'rb')\n",
        "    privKey=eth_keys.keys.PublicKey(f.read())\n",
        "    return privKey\n",
        "\n",
        "def import_addr(addr_filepath):\n",
        "    return open(addr_filepath,'rb').read().decode()"
      ]
    },
    {
      "cell_type": "markdown",
      "metadata": {
        "id": "NuFDmcu3yf1C"
      },
      "source": [
        "# Making Private, Public and Address Files"
      ]
    },
    {
      "cell_type": "code",
      "execution_count": 4,
      "metadata": {
        "id": "G7EAeuJzyf1C"
      },
      "outputs": [],
      "source": [
        "! mkdir keys"
      ]
    },
    {
      "cell_type": "code",
      "execution_count": 5,
      "metadata": {
        "id": "bUb3fw-1yf1D",
        "outputId": "ae9dae6d-3f5b-4c17-debe-44e87d9460ce",
        "colab": {
          "base_uri": "https://localhost:8080/",
          "height": 254
        }
      },
      "outputs": [
        {
          "output_type": "stream",
          "name": "stdout",
          "text": [
            "Password protected file written to keys/my_prv.enc containing 4e2dfbe58c00368555ad63446208250583e8c010603f1b0112bc0a47309c1f22b7dea4b3c7b585343cc181a9d6d2aa463e4808acaf95c9a6e9aa77ac614832aa\n",
            "File written to keys/my_pub.bin containing bc6214116dea616578bca5ab815336882f4893e54837a72d1c0efad701d153e2669b206bf9b34a122afe066e4f96b1b0fb6b85f78054a6a5f983e587cba3f0dc\n",
            "Address written to keys/my_addr.bin containing DChC7PQRo4DEokjw2JLE4LEZgZ2ZAPnqcg\n"
          ]
        },
        {
          "output_type": "execute_result",
          "data": {
            "image/png": "[encoded data removed]",
            "text/plain": [
              "<qrcode.image.pil.PilImage at 0x7f28cd748410>"
            ]
          },
          "metadata": {},
          "execution_count": 5
        }
      ],
      "source": [
        "gen_save_keys_addr('keys/my',password='')"
      ]
    },
    {
      "cell_type": "code",
      "execution_count": 6,
      "metadata": {
        "id": "_La_EGX-yf1D",
        "outputId": "1a17b974-060e-4597-8c5e-575bdaeb6e29",
        "colab": {
          "base_uri": "https://localhost:8080/"
        }
      },
      "outputs": [
        {
          "output_type": "execute_result",
          "data": {
            "text/plain": [
              "('0xbe5b21a3a2021476846e1861f7c1717fe71a36d944d2953f3961739e48aaacd8',\n",
              " eth_keys.datatypes.PrivateKey)"
            ]
          },
          "metadata": {},
          "execution_count": 6
        }
      ],
      "source": [
        "privKey=import_privKey('keys/my_prv.enc','')\n",
        "privKey,type(privKey)"
      ]
    },
    {
      "cell_type": "code",
      "execution_count": 7,
      "metadata": {
        "id": "TvDvQ1t_yf1D",
        "outputId": "7bc1977a-17de-4b47-e413-94e7e3ebc163",
        "colab": {
          "base_uri": "https://localhost:8080/"
        }
      },
      "outputs": [
        {
          "output_type": "execute_result",
          "data": {
            "text/plain": [
              "('0xbc6214116dea616578bca5ab815336882f4893e54837a72d1c0efad701d153e2669b206bf9b34a122afe066e4f96b1b0fb6b85f78054a6a5f983e587cba3f0dc',\n",
              " eth_keys.datatypes.PublicKey)"
            ]
          },
          "metadata": {},
          "execution_count": 7
        }
      ],
      "source": [
        "pubKey=import_pubKey('keys/my_pub.bin')\n",
        "pubKey,type(pubKey)"
      ]
    },
    {
      "cell_type": "code",
      "execution_count": 8,
      "metadata": {
        "id": "yqFGvtihyf1E",
        "outputId": "9183a60e-ed66-49b0-eff9-2f443d2ede35",
        "colab": {
          "base_uri": "https://localhost:8080/",
          "height": 36
        }
      },
      "outputs": [
        {
          "output_type": "execute_result",
          "data": {
            "application/vnd.google.colaboratory.intrinsic+json": {
              "type": "string"
            },
            "text/plain": [
              "'DChC7PQRo4DEokjw2JLE4LEZgZ2ZAPnqcg'"
            ]
          },
          "metadata": {},
          "execution_count": 8
        }
      ],
      "source": [
        "addr=import_addr('keys/my_addr.bin')\n",
        "addr"
      ]
    },
    {
      "cell_type": "markdown",
      "metadata": {
        "id": "vuaTecrayf1E"
      },
      "source": [
        "# Address Generation Details\n",
        "\n",
        "<div>\n",
        "<img src=\"https://github.com/ProfDoeg/Colegio_Invisible/raw/main/img/PubKeyToAddr.png\" width=\"300\"/>\n",
        "</div>\n",
        "\n",
        "If we wanted to do the address generation by hand, it would go as follows.\n",
        "\n",
        "1) Start with the **PUBLIC KEY** prepended with byte **`04`**"
      ]
    },
    {
      "cell_type": "code",
      "execution_count": 9,
      "metadata": {
        "id": "Y4md_Vjryf1E",
        "outputId": "7fde879b-1e28-40f0-bca3-e21e10b8933b",
        "colab": {
          "base_uri": "https://localhost:8080/",
          "height": 53
        }
      },
      "outputs": [
        {
          "output_type": "execute_result",
          "data": {
            "application/vnd.google.colaboratory.intrinsic+json": {
              "type": "string"
            },
            "text/plain": [
              "'04bc6214116dea616578bca5ab815336882f4893e54837a72d1c0efad701d153e2669b206bf9b34a122afe066e4f96b1b0fb6b85f78054a6a5f983e587cba3f0dc'"
            ]
          },
          "metadata": {},
          "execution_count": 9
        }
      ],
      "source": [
        "pbkey04='04'+pubKey.to_hex()[2:]\n",
        "pbkey04"
      ]
    },
    {
      "cell_type": "markdown",
      "metadata": {
        "id": "Rtsggjkxyf1F"
      },
      "source": [
        "2) Next apply the **`HASH160`**. Remember this is **`SHA256`** hashing followed by **`RIPMED160`** hashing."
      ]
    },
    {
      "cell_type": "code",
      "execution_count": 10,
      "metadata": {
        "id": "avjICEpTyf1F",
        "outputId": "d096a74b-10c2-4afa-e17f-9fb1f004d6b1",
        "colab": {
          "base_uri": "https://localhost:8080/",
          "height": 36
        }
      },
      "outputs": [
        {
          "output_type": "execute_result",
          "data": {
            "application/vnd.google.colaboratory.intrinsic+json": {
              "type": "string"
            },
            "text/plain": [
              "'52dad783b7d754cceb956c084808c6ce46323a12'"
            ]
          },
          "metadata": {},
          "execution_count": 10
        }
      ],
      "source": [
        "cryptos.bin_hash160(bytes.fromhex(pbkey04)).hex()"
      ]
    },
    {
      "cell_type": "code",
      "execution_count": 11,
      "metadata": {
        "id": "LvEuDRaQyf1F",
        "outputId": "7fc38c39-82dd-4921-e243-d1034ebe5f64",
        "colab": {
          "base_uri": "https://localhost:8080/",
          "height": 36
        }
      },
      "outputs": [
        {
          "output_type": "execute_result",
          "data": {
            "application/vnd.google.colaboratory.intrinsic+json": {
              "type": "string"
            },
            "text/plain": [
              "'52dad783b7d754cceb956c084808c6ce46323a12'"
            ]
          },
          "metadata": {},
          "execution_count": 11
        }
      ],
      "source": [
        "pbkey_160=cryptos.hex_to_hash160(pbkey04)\n",
        "pbkey_160"
      ]
    },
    {
      "cell_type": "markdown",
      "metadata": {
        "id": "oDOWpA_0yf1G"
      },
      "source": [
        "3) Then prepend the **magic byte** to the **`HASH160`** output."
      ]
    },
    {
      "cell_type": "code",
      "execution_count": 12,
      "metadata": {
        "id": "srpTuDh8yf1G",
        "outputId": "bb5b477e-9aa0-44b1-a736-dbd72bd8ea89",
        "colab": {
          "base_uri": "https://localhost:8080/",
          "height": 36
        }
      },
      "outputs": [
        {
          "output_type": "execute_result",
          "data": {
            "application/vnd.google.colaboratory.intrinsic+json": {
              "type": "string"
            },
            "text/plain": [
              "'0x1e'"
            ]
          },
          "metadata": {},
          "execution_count": 12
        }
      ],
      "source": [
        "doge=cryptos.Doge()\n",
        "magic=hex(doge.magicbyte)\n",
        "magic_pbkey_160=magic[2:]+pbkey_160\n",
        "magic"
      ]
    },
    {
      "cell_type": "markdown",
      "metadata": {
        "id": "yVda4N2Fyf1G"
      },
      "source": [
        "4) Take a detour and complete the side project taking the **DOUBLE SHA256** of the previous output. The **first 4 bytes** of this will be the **checksum**. Appending this suffix to the previous output will yield the address in bytes/hex."
      ]
    },
    {
      "cell_type": "code",
      "execution_count": 13,
      "metadata": {
        "id": "GpzsK183yf1G"
      },
      "outputs": [],
      "source": [
        "suffix=cryptos.dbl_sha256(bytes.fromhex(magic_pbkey_160))[:8]"
      ]
    },
    {
      "cell_type": "code",
      "execution_count": 14,
      "metadata": {
        "id": "2PYnXTxpyf1H",
        "outputId": "b715c24b-6c03-4b83-d7ad-bea5f79f1671",
        "colab": {
          "base_uri": "https://localhost:8080/",
          "height": 36
        }
      },
      "outputs": [
        {
          "output_type": "execute_result",
          "data": {
            "application/vnd.google.colaboratory.intrinsic+json": {
              "type": "string"
            },
            "text/plain": [
              "'1e52dad783b7d754cceb956c084808c6ce46323a12b6a4ba5d'"
            ]
          },
          "metadata": {},
          "execution_count": 14
        }
      ],
      "source": [
        "hex_addr=magic_pbkey_160+suffix\n",
        "hex_addr"
      ]
    },
    {
      "cell_type": "markdown",
      "metadata": {
        "id": "c_gIjdn8yf1H"
      },
      "source": [
        "The above yields a legit address though we generally take the additional step of doing a base58 encoding.\n",
        "\n",
        "5) Finally we do a **base58** encoding. Note the magic byte prefix of Dogecoin **`0x1e`** ensures the base58 address will always start with a **`D`**"
      ]
    },
    {
      "cell_type": "code",
      "execution_count": 15,
      "metadata": {
        "id": "_7isxX0Oyf1H",
        "outputId": "c8b8d6ec-e48c-4ec4-d5bf-ed2b601aa188",
        "colab": {
          "base_uri": "https://localhost:8080/",
          "height": 36
        }
      },
      "outputs": [
        {
          "output_type": "execute_result",
          "data": {
            "application/vnd.google.colaboratory.intrinsic+json": {
              "type": "string"
            },
            "text/plain": [
              "'DChC7PQRo4DEokjw2JLE4LEZgZ2ZAPnqcg'"
            ]
          },
          "metadata": {},
          "execution_count": 15
        }
      ],
      "source": [
        "base58.b58encode(bytes.fromhex(hex_addr)).decode()"
      ]
    },
    {
      "cell_type": "code",
      "execution_count": 16,
      "metadata": {
        "id": "0TZ97ysxyf1H",
        "outputId": "d0000cef-3512-4a6d-fb0e-e9fc86932008",
        "colab": {
          "base_uri": "https://localhost:8080/",
          "height": 36
        }
      },
      "outputs": [
        {
          "output_type": "execute_result",
          "data": {
            "application/vnd.google.colaboratory.intrinsic+json": {
              "type": "string"
            },
            "text/plain": [
              "'DChC7PQRo4DEokjw2JLE4LEZgZ2ZAPnqcg'"
            ]
          },
          "metadata": {},
          "execution_count": 16
        }
      ],
      "source": [
        "addr"
      ]
    },
    {
      "cell_type": "markdown",
      "metadata": {
        "id": "AiQo-QDqyf1H"
      },
      "source": [
        "# WIF\n",
        "\n",
        "Wallet Import Format (WIF) is the base58 encoding for private keys. It is worth going over as an exercize.\n",
        "\n",
        "1) Start with a **PRIVATE KEY** and prepend the network specific byte. `0x80` for Bitcoin and `0x9e` for Dogecoin."
      ]
    },
    {
      "cell_type": "code",
      "execution_count": 17,
      "metadata": {
        "id": "MMNZBvrJyf1I",
        "outputId": "7be9cc95-ee3a-45e1-9e9d-b33c27e06666",
        "colab": {
          "base_uri": "https://localhost:8080/",
          "height": 36
        }
      },
      "outputs": [
        {
          "output_type": "execute_result",
          "data": {
            "application/vnd.google.colaboratory.intrinsic+json": {
              "type": "string"
            },
            "text/plain": [
              "'be5b21a3a2021476846e1861f7c1717fe71a36d944d2953f3961739e48aaacd8'"
            ]
          },
          "metadata": {},
          "execution_count": 17
        }
      ],
      "source": [
        "prvkey=privKey.to_hex()[2:]\n",
        "prvkey"
      ]
    },
    {
      "cell_type": "code",
      "execution_count": 18,
      "metadata": {
        "id": "40Jnl_Xayf1I",
        "outputId": "5da26543-956f-4dcc-976e-8118e871fb05",
        "colab": {
          "base_uri": "https://localhost:8080/",
          "height": 36
        }
      },
      "outputs": [
        {
          "output_type": "execute_result",
          "data": {
            "application/vnd.google.colaboratory.intrinsic+json": {
              "type": "string"
            },
            "text/plain": [
              "'9ebe5b21a3a2021476846e1861f7c1717fe71a36d944d2953f3961739e48aaacd8'"
            ]
          },
          "metadata": {},
          "execution_count": 18
        }
      ],
      "source": [
        "prvkey9e='9e'+prvkey\n",
        "prvkey9e"
      ]
    },
    {
      "cell_type": "markdown",
      "metadata": {
        "id": "JSlsQxhryf1I"
      },
      "source": [
        "2) The second step is to **DOUBLE SHA256** the prepended private key. The **first 4 bytes** of the output provide the **checksum suffix**."
      ]
    },
    {
      "cell_type": "code",
      "execution_count": 19,
      "metadata": {
        "id": "V5DIu3oayf1I",
        "outputId": "c4ab3e07-d4d8-4766-cd9e-f960128df3a7",
        "colab": {
          "base_uri": "https://localhost:8080/",
          "height": 36
        }
      },
      "outputs": [
        {
          "output_type": "execute_result",
          "data": {
            "application/vnd.google.colaboratory.intrinsic+json": {
              "type": "string"
            },
            "text/plain": [
              "'06a0ba4a'"
            ]
          },
          "metadata": {},
          "execution_count": 19
        }
      ],
      "source": [
        "wif_checksum = cryptos.dbl_sha256(bytes.fromhex(prvkey9e))[:8]\n",
        "wif_checksum"
      ]
    },
    {
      "cell_type": "markdown",
      "metadata": {
        "id": "LSZ5BFZByf1I"
      },
      "source": [
        "3) Lastly we append the suffix to the private key and encode using base58."
      ]
    },
    {
      "cell_type": "code",
      "execution_count": 20,
      "metadata": {
        "id": "gD77d2cuyf1I",
        "outputId": "dc541c84-595c-4f06-987e-95b8320a0d48",
        "colab": {
          "base_uri": "https://localhost:8080/",
          "height": 36
        }
      },
      "outputs": [
        {
          "output_type": "execute_result",
          "data": {
            "application/vnd.google.colaboratory.intrinsic+json": {
              "type": "string"
            },
            "text/plain": [
              "'6KaTG9QSLfUy3eJCh9YkNWtMwW8VtSX3b852WsSEWMwuk3ziLH7'"
            ]
          },
          "metadata": {},
          "execution_count": 20
        }
      ],
      "source": [
        "prvkey9e_suffixed=prvkey9e+wif_checksum\n",
        "wif=base58.b58encode(bytes.fromhex(prvkey9e_suffixed)).decode()\n",
        "wif"
      ]
    },
    {
      "cell_type": "code",
      "execution_count": 21,
      "metadata": {
        "id": "wHX7RF3lyf1J"
      },
      "outputs": [],
      "source": [
        "def to_wif(pvk,prefix='9e'):\n",
        "    import base58\n",
        "    import cryptos\n",
        "    checksum=cryptos.dbl_sha256(bytes.fromhex(prefix+pvk))[:8]\n",
        "    return base58.b58encode(bytes.fromhex(prefix+pvk+checksum)).decode()\n",
        "\n",
        "def from_wif(wif):\n",
        "    return base58.b58decode(wif).hex()[2:-8]"
      ]
    },
    {
      "cell_type": "code",
      "execution_count": 22,
      "metadata": {
        "id": "7ozRHAFfyf1J",
        "outputId": "72c95c9a-58df-4f2b-f37f-1ecb4d7a9b96",
        "colab": {
          "base_uri": "https://localhost:8080/",
          "height": 36
        }
      },
      "outputs": [
        {
          "output_type": "execute_result",
          "data": {
            "application/vnd.google.colaboratory.intrinsic+json": {
              "type": "string"
            },
            "text/plain": [
              "'6KaTG9QSLfUy3eJCh9YkNWtMwW8VtSX3b852WsSEWMwuk3ziLH7'"
            ]
          },
          "metadata": {},
          "execution_count": 22
        }
      ],
      "source": [
        "doge_wif=to_wif(privKey.to_hex()[2:])\n",
        "doge_wif"
      ]
    },
    {
      "cell_type": "code",
      "execution_count": 23,
      "metadata": {
        "id": "FD23WCCOyf1J",
        "outputId": "a18518fc-ba15-4009-e7bf-acf6b77a88cf",
        "colab": {
          "base_uri": "https://localhost:8080/"
        }
      },
      "outputs": [
        {
          "output_type": "execute_result",
          "data": {
            "text/plain": [
              "('be5b21a3a2021476846e1861f7c1717fe71a36d944d2953f3961739e48aaacd8', True)"
            ]
          },
          "metadata": {},
          "execution_count": 23
        }
      ],
      "source": [
        "og_prvkey=from_wif(doge_wif)\n",
        "prvkey , og_prvkey==prvkey"
      ]
    },
    {
      "cell_type": "markdown",
      "metadata": {
        "id": "Y_2dk-LMyf1J"
      },
      "source": [
        "# Base58\n",
        "\n",
        "For creating addresses and WIF private keys, we have been using base58 encodings.\n",
        "\n",
        "What's so dope about base58?\n",
        "\n",
        "- Don't want `0OIl` characters that look the same in some fonts and could be used to create visually identical looking strings.\n",
        "- A string with non-alphanumeric characters is not as easily accepted."
      ]
    },
    {
      "cell_type": "code",
      "execution_count": null,
      "metadata": {
        "id": "UaHXJ74byf1J",
        "outputId": "64ffc4f4-459e-4328-dc59-c23ab214dba2"
      },
      "outputs": [
        {
          "data": {
            "text/plain": [
              "'6K9k7MYDwen38GfZN7ty8ME7gtN5jFJdB9PtedCVgjKKokSiUnn'"
            ]
          },
          "execution_count": 26,
          "metadata": {},
          "output_type": "execute_result"
        }
      ],
      "source": [
        "hexstring=prvkey9e_suffixed\n",
        "\n",
        "code_string = \"123456789ABCDEFGHJKLMNPQRSTUVWXYZabcdefghijkmnopqrstuvwxyz\"\n",
        "x = int(hexstring,base=16)\n",
        "output_list = []\n",
        "   \n",
        "while(x > 0):\n",
        "    (remainder,x) = x%58,x//58\n",
        "    output_list.append(code_string[remainder])\n",
        "\n",
        "''.join(output_list)[::-1]"
      ]
    },
    {
      "cell_type": "code",
      "execution_count": null,
      "metadata": {
        "id": "AjeSg1Ejyf1K",
        "outputId": "b4ec7698-37ea-4549-e85d-b3b9a14a5b31"
      },
      "outputs": [
        {
          "data": {
            "text/plain": [
              "'6K9k7MYDwen38GfZN7ty8ME7gtN5jFJdB9PtedCVgjKKokSiUnn'"
            ]
          },
          "execution_count": 28,
          "metadata": {},
          "output_type": "execute_result"
        }
      ],
      "source": [
        "wif"
      ]
    },
    {
      "cell_type": "code",
      "execution_count": null,
      "metadata": {
        "id": "uFi5CYalyf1K"
      },
      "outputs": [],
      "source": [
        ""
      ]
    }
  ],
  "metadata": {
    "kernelspec": {
      "display_name": "Python 3",
      "language": "python",
      "name": "python3"
    },
    "language_info": {
      "codemirror_mode": {
        "name": "ipython",
        "version": 3
      },
      "file_extension": ".py",
      "mimetype": "text/x-python",
      "name": "python",
      "nbconvert_exporter": "python",
      "pygments_lexer": "ipython3",
      "version": "3.7.6"
    },
    "colab": {
      "name": "05_cuaderno.ipynb",
      "provenance": []
    }
  },
  "nbformat": 4,
  "nbformat_minor": 0
}