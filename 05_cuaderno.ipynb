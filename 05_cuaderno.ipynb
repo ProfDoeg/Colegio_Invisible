{
  "cells": [
    {
      "cell_type": "markdown",
      "metadata": {
        "id": "p8UZNRNTyf01"
      },
      "source": [
        "# Direcciones,\n",
        "# Deuda Alquimia,\n",
        "# y las Transformas\n",
        "\n",
        "<a href=\"https://colab.research.google.com/github/ProfDoeg/Colegio_Invisible/blob/master/05_cuaderno.ipynb\" target=\"_parent\"><img src=\"https://colab.research.google.com/assets/colab-badge.svg\" alt=\"Open In Colab\"/></a>"
      ]
    },
    {
      "cell_type": "markdown",
      "source": [
        "# Preparar el Espacio (Prepare the Space)"
      ],
      "metadata": {
        "id": "qfBpcV6BAe2n"
      }
    },
    {
      "cell_type": "code",
      "execution_count": null,
      "metadata": {
        "id": "U5xDMfi6yf06"
      },
      "outputs": [],
      "source": [
        "! git clone https://github.com/ProfDoeg/Colegio_Invisible.git\n",
        "! pip install eciespy eth_keys cryptos qrcode base58 "
      ]
    },
    {
      "cell_type": "markdown",
      "source": [
        "# Historias"
      ],
      "metadata": {
        "id": "NkGPMyaIvtlG"
      }
    },
    {
      "cell_type": "code",
      "source": [
        "from IPython.display import Audio\n",
        "display(Audio(\"Colegio_Invisible/sound/rump_1.m4a\"))\n",
        "display(Audio(\"Colegio_Invisible/sound/rump_2.m4a\"))"
      ],
      "metadata": {
        "id": "SoyihWlxiKZf"
      },
      "execution_count": null,
      "outputs": []
    },
    {
      "cell_type": "code",
      "source": [
        "from IPython.display import Image \n",
        "import os\n",
        "imgs = [img for img in os.listdir('Colegio_Invisible/img') if 'rum_' in img]\n",
        "for img in sorted(imgs)[1:]:\n",
        "    path = f'Colegio_Invisible/img/{img}'\n",
        "    show=Image(path)\n",
        "    display(show)"
      ],
      "metadata": {
        "id": "VtgTMn9NE_K_"
      },
      "execution_count": null,
      "outputs": []
    },
    {
      "cell_type": "markdown",
      "source": [
        "# Direcciones de Criptomoneda (Cryptocurrency Addresses)\n",
        "\n",
        "## Esquema (Outline)\n",
        "\n",
        "Comenzar a usar criptografía asimétrica y hash para la aplicación de criptomonedas. \n",
        "***\n",
        "Begin using asymmetic cryptography and hashing for appliction of cyptocurrency\n",
        "\n",
        "## Metas (Goals)\n",
        "\n",
        "- comprender el concepto de direcciones de criptomonedas \\\n",
        "(understand concept of cryptomoneda addresses)\n",
        "- comprender el mapeo unidireccional de la clave privada a la pública, y de la pública a la dirección \\\n",
        "(understand one-way mapping from private key to public key, and from public key to address) \n",
        "- ser capaz de usar la función para generar un nuevo par de claves y archivos de direcciones \\\n",
        "(use function to generate new key pair and address files)\n",
        "- guardar archivos de claves localmente y en Google Drive \\\n",
        "(save keyfiles locally and on google drive)\n",
        "- ejecutar a mano el proceso de generación de direcciones \\\n",
        "(exectute address generation process by hand)\n",
        "- comprender la codificación `base58` de Satoshi \\\n",
        "(understand Satoshi's `base58` encoding) \n",
        "- comprender la codificación **WIF** para claves privadas \\\n",
        "(understand **WIF** [Wallet Import Format] encoding for private keys)\n",
        "- convertir entre claves privadas WIF y hexadecimales \\\n",
        "(convert between WIF and hex private keys)"
      ],
      "metadata": {
        "id": "vWF8VduRA3HG"
      }
    },
    {
      "cell_type": "markdown",
      "metadata": {
        "id": "WBvR9R5Eyf0-"
      },
      "source": [
        "# Claves Privadas, Claves Públicas y Direcciones (Private Keys, Public Keys and Addresses)\n",
        "\n",
        "<br></br>\n",
        "<div>\n",
        "<img src=\"https://github.com/ProfDoeg/Colegio_Invisible/raw/main/img/prv_pub_addr.png\" width=\"800\"/>\n",
        "</div>\n",
        "\n",
        "***\n",
        "Para jugar el juego de las criptomonedas, necesitamos poder administrar claves privadas, claves públicas y direcciones.\n",
        "***\n",
        "***\n",
        "In order to play the cryptocurrency game we need to be able to manage private keys, public keys and addresses.\n",
        "***\n",
        "- **clave privada** que conoce de la criptografía asimétrica. Usamos la curva ECC Secp256k1. Esto está hecho de 256 bits de entropía. \\\n",
        " (**private key** you know from asymmetric cryptography. We use the ECC Secp256k1 curve. This is made of 256 bits of entropy) \n",
        "- **clave publica** que conoce de la criptografía asimétrica. Esta clave se deriva de la clave privada.\\\n",
        " (**public key** you know from asymmetric cryptography. This key is derived from the private key)\n",
        "- La **dirección** es una serie de hashes de la clave pública y, más a menudo, una codificación base58\\\n",
        " (The **address** is a series of hashes of the public key and more often a `base58` encoding)\n",
        "***\n",
        "LINKS:\n",
        "- https://en.bitcoin.it/wiki/Secp256k1\n",
        "- https://en.bitcoin.it/wiki/Wallet_import_format\n",
        "- https://en.bitcoin.it/wiki/Technical_background_of_version_1_Bitcoin_addresses\n",
        "- https://en.bitcoin.it/wiki/Base58Check_encoding\n",
        "***"
      ]
    },
    {
      "cell_type": "markdown",
      "metadata": {
        "id": "UCBESxaRyf0_"
      },
      "source": [
        "## Importaciones y Definiciones (Imports and Definitions)\n",
        "\n",
        "Crear funciones para generar pares de claves y direcciones de criptomonedas.\n",
        "***\n",
        "Create functions for generating key pairs and cryptomoneda addresses."
      ]
    },
    {
      "cell_type": "code",
      "execution_count": null,
      "metadata": {
        "id": "vQZ_mWc-yf1A"
      },
      "outputs": [],
      "source": [
        "import hashlib\n",
        "import os\n",
        "import getpass\n",
        "import ecies\n",
        "import eth_keys\n",
        "import cryptos\n",
        "import qrcode\n",
        "import base58\n",
        "from PIL import Image\n",
        "import matplotlib.pyplot as plt\n",
        "%matplotlib inline"
      ]
    },
    {
      "cell_type": "code",
      "execution_count": null,
      "metadata": {
        "id": "1wLw3PCpyf1B"
      },
      "outputs": [],
      "source": [
        "def save_privkey(privkey,privkey_filepath,password=None):\n",
        "    if password==None:\n",
        "        while True:\n",
        "                password = getpass.getpass(\"Input password for encrypting keyfile: \")\n",
        "                password_2 = getpass.getpass(\"Repeat password for encrypting keyfile: \")\n",
        "                if password==password_2:\n",
        "                    print('\\nPasswords match...')\n",
        "                    break\n",
        "                else:\n",
        "                    print('\\nPasswords do not match...')\n",
        "    encrypted_bytes=ecies.aes_encrypt(key=hashlib.sha256(password.encode()).digest(),\n",
        "                                      plain_text=privkey.to_bytes())\n",
        "    open(privkey_filepath,'wb').write(encrypted_bytes)\n",
        "    print(f'Password protected file written to {privkey_filepath} containing {encrypted_bytes.hex()}')\n",
        "    \n",
        "def save_pubkey(pubkey,pubkey_filepath):\n",
        "    open(pubkey_filepath,'wb').write(pubkey.to_bytes())\n",
        "    print(f'File written to {pubkey_filepath} containing {pubkey.to_bytes().hex()}')\n",
        "    \n",
        "def save_addr(addr,addr_filepath):\n",
        "    open(addr_filepath,'wb').write(addr.encode())\n",
        "    print(f'Address written to {addr_filepath} containing {addr}')\n",
        "\n",
        "def make_qr(data,image_path=None):\n",
        "    qr = qrcode.QRCode(version=1,box_size=5,border=2)\n",
        "    qr.add_data(data)\n",
        "    qr.make(fit=True)\n",
        "    img = qr.make_image(fill='black', back_color='white')\n",
        "    if image_path!=None:\n",
        "        img.save(image_path)\n",
        "    return img\n",
        "    \n",
        "def gen_save_keys_addr(basename_filepath,password=None,coin='Doge'):\n",
        "    if os.path.isfile(basename_filepath+'_prv.enc'):\n",
        "        privkey2save=import_privKey(basename_filepath+'_prv.enc',password)\n",
        "    else:\n",
        "        privkey2save = ecies.utils.generate_eth_key()\n",
        "    pubkey2save = privkey2save.public_key    \n",
        "    save_privkey(privkey2save,basename_filepath+'_prv.enc',password=password)\n",
        "    save_pubkey(pubkey2save,basename_filepath+'_pub.bin')\n",
        "    if coin[0].lower()=='d':\n",
        "      doge = cryptos.Doge()\n",
        "    else:\n",
        "      doge = cryptos.Bitcoin()\n",
        "    addr2save=doge.pubtoaddr('04'+pubkey2save.to_bytes().hex())\n",
        "    save_addr(addr2save,basename_filepath+'_addr.bin')\n",
        "    return make_qr(addr2save,basename_filepath+'_addr.png')\n",
        "    \n",
        "def import_privKey(privkey_filepath,password=None):\n",
        "    if password==None:\n",
        "        password = getpass.getpass(\"Input password for decrypting keyfile: \")\n",
        "    password=password.encode()\n",
        "    f=open(privkey_filepath,'rb')\n",
        "    decrypted_bytes=ecies.aes_decrypt(key=hashlib.sha256(password).digest(),cipher_text=f.read())\n",
        "    privKey=eth_keys.keys.PrivateKey(decrypted_bytes)\n",
        "    return privKey\n",
        "\n",
        "def import_pubKey(pubkey_filepath):\n",
        "    f=open(pubkey_filepath,'rb')\n",
        "    privKey=eth_keys.keys.PublicKey(f.read())\n",
        "    return privKey\n",
        "\n",
        "def import_addr(addr_filepath):\n",
        "    return open(addr_filepath,'rb').read().decode()"
      ]
    },
    {
      "cell_type": "markdown",
      "metadata": {
        "id": "NuFDmcu3yf1C"
      },
      "source": [
        "# Crear Archivos de Clave Privada, Clave Pública y Dirección\n",
        "#(Making Private Key, Public Key and Address Files)"
      ]
    },
    {
      "cell_type": "markdown",
      "source": [
        "## Partir Sin Claves\n",
        "## (Start from No Keys)\n",
        "\n",
        "Si es la primera vez que ejecuta este cuaderno, comience creando un directorio `llaves`\n",
        "***\n",
        "If this is the first time you are running this cuaderno then start by creating a `llaves` directory"
      ],
      "metadata": {
        "id": "5NjPkpxtXLI3"
      }
    },
    {
      "cell_type": "code",
      "source": [
        "! ls"
      ],
      "metadata": {
        "id": "yOrJHyVPve9-"
      },
      "execution_count": null,
      "outputs": []
    },
    {
      "cell_type": "code",
      "execution_count": null,
      "metadata": {
        "id": "G7EAeuJzyf1C"
      },
      "outputs": [],
      "source": [
        "! mkdir llaves"
      ]
    },
    {
      "cell_type": "code",
      "source": [
        "#! rm -r llaves.zip"
      ],
      "metadata": {
        "id": "q85dMhiAWYL0"
      },
      "execution_count": null,
      "outputs": []
    },
    {
      "cell_type": "markdown",
      "source": [
        "## Empezar desde Keys en Google Drive\n",
        "## (Start from Keys on Google Drive)\n",
        "\n",
        "Si ha ejecutado este cuaderno anteriormente y tiene claves guardadas en Google Drive\n",
        "***\n",
        "If you have run this cuaderno previously and have keys saved on Google Drive"
      ],
      "metadata": {
        "id": "jfqReszIXaor"
      }
    },
    {
      "cell_type": "code",
      "source": [
        "#from google.colab import drive\n",
        "#drive.mount('/content/drive')"
      ],
      "metadata": {
        "id": "tXzgRBV9LbCw"
      },
      "execution_count": null,
      "outputs": []
    },
    {
      "cell_type": "code",
      "source": [
        "#! cp drive/MyDrive/cinv/llaves.zip llaves.zip \n",
        "#! unzip llaves.zip"
      ],
      "metadata": {
        "id": "xFPhRrBXLd-z"
      },
      "execution_count": null,
      "outputs": []
    },
    {
      "cell_type": "markdown",
      "source": [
        "\n",
        "## Comenzar desde las Claves en la Disco Local \n",
        "##(Start from Keys on Local Drive)\n",
        "\n",
        "Si ha ejecutado este cuaderno anteriormente y tiene claves guardadas en su disco local\n",
        "***\n",
        "If you have run this cuaderno previously and have keys saved on your local disk\n"
      ],
      "metadata": {
        "id": "cpw8N8DWXuxg"
      }
    },
    {
      "cell_type": "code",
      "source": [
        "#from google.colab import files\n",
        "#fu=files.upload();"
      ],
      "metadata": {
        "id": "5FOAaTcOZVw5"
      },
      "execution_count": null,
      "outputs": []
    },
    {
      "cell_type": "code",
      "source": [
        "#! unzip llaves.zip"
      ],
      "metadata": {
        "id": "4bovF-kAZx83"
      },
      "execution_count": null,
      "outputs": []
    },
    {
      "cell_type": "markdown",
      "source": [
        "## Generación de Claves y Direcciones de Criptomoneda\n",
        "## (Generating Keys and Cryptomoneda Address)\n",
        "\n",
        "Si el archivo de clave privada ya existe, la función usará la contraseña para abrir el archivo y generar la dirección a partir de esa clave guardada.\n",
        "***\n",
        "If the private key file already exists the function will use the password to open the file and generate address from that saved key.\n",
        "\n"
      ],
      "metadata": {
        "id": "SbBqqj4HZ1ej"
      }
    },
    {
      "cell_type": "code",
      "source": [
        "! ls llaves"
      ],
      "metadata": {
        "id": "ld1CdC7KwIAB"
      },
      "execution_count": null,
      "outputs": []
    },
    {
      "cell_type": "code",
      "execution_count": null,
      "metadata": {
        "id": "bUb3fw-1yf1D"
      },
      "outputs": [],
      "source": [
        "gen_save_keys_addr('llaves/mi',password='',coin='D')"
      ]
    },
    {
      "cell_type": "code",
      "execution_count": null,
      "metadata": {
        "id": "_La_EGX-yf1D"
      },
      "outputs": [],
      "source": [
        "privKey=import_privKey('llaves/mi_prv.enc','')\n",
        "privKey,type(privKey)"
      ]
    },
    {
      "cell_type": "code",
      "execution_count": null,
      "metadata": {
        "id": "TvDvQ1t_yf1D"
      },
      "outputs": [],
      "source": [
        "pubKey=import_pubKey('llaves/mi_pub.bin')\n",
        "pubKey,type(pubKey)"
      ]
    },
    {
      "cell_type": "code",
      "execution_count": null,
      "metadata": {
        "id": "yqFGvtihyf1E"
      },
      "outputs": [],
      "source": [
        "addr=import_addr('llaves/mi_addr.bin')\n",
        "addr"
      ]
    },
    {
      "cell_type": "markdown",
      "source": [
        "# Guardar Claves (Save Keys)\n",
        "\n",
        "Para guardar las claves recién generadas primero comprimimos el directorio `llaves`\n",
        "***\n",
        "To save newly generated keys we first zip the `llaves` directory"
      ],
      "metadata": {
        "id": "epIbNZ-zBBYj"
      }
    },
    {
      "cell_type": "code",
      "source": [
        "! zip -r llaves.zip llaves"
      ],
      "metadata": {
        "id": "q8UAI8cLBHnF"
      },
      "execution_count": null,
      "outputs": []
    },
    {
      "cell_type": "markdown",
      "source": [
        "## Guardar en Disco Local (Save on Local Disk)\n",
        "\n",
        "Use el menú lateral para administrar archivos.\n",
        "\n",
        "Descargue llaves.zip a su computadora local usando la GUI.\n",
        "\n",
        "O podría descomentar y ejecutar la siguiente celda.\n",
        "***\n",
        "\n",
        "Use the side menu to manage files.\n",
        "\n",
        "Download `llaves.zip` to your local computer using the GUI.\n",
        "\n",
        "Or you could uncomment and run the following cell."
      ],
      "metadata": {
        "id": "NY8bSG6tN_uM"
      }
    },
    {
      "cell_type": "code",
      "source": [
        "from google.colab import files\n",
        "f=files.download('llaves.zip');"
      ],
      "metadata": {
        "id": "DCgx54EwQ0Ud"
      },
      "execution_count": null,
      "outputs": []
    },
    {
      "cell_type": "markdown",
      "source": [
        "## Guardar en Google Disco (Save on Google Drive)"
      ],
      "metadata": {
        "id": "DXmp-ZNaSZ_X"
      }
    },
    {
      "cell_type": "code",
      "source": [
        "from google.colab import drive\n",
        "drive.mount('/content/drive')"
      ],
      "metadata": {
        "id": "bGiuX9ZvJD8M"
      },
      "execution_count": null,
      "outputs": []
    },
    {
      "cell_type": "code",
      "source": [
        "! mkdir drive/MyDrive/cinv"
      ],
      "metadata": {
        "id": "a6YGVMu9KhWk"
      },
      "execution_count": null,
      "outputs": []
    },
    {
      "cell_type": "code",
      "source": [
        "! cp llaves.zip drive/MyDrive/cinv/llaves.zip "
      ],
      "metadata": {
        "id": "6AzvG6hRKuno"
      },
      "execution_count": null,
      "outputs": []
    },
    {
      "cell_type": "markdown",
      "source": [
        "# Detalles de Generación de Direcciones\n",
        "# (Address Generation Details)\n",
        "\n",
        "## Ethereum\n",
        "\n",
        "Generando una dirección para Ethereum:\n",
        "\n",
        "use los últimos 20 bytes del hash **Keccak256** de la clave pública\n",
        "\n",
        "***\n",
        "Generating an address for Ethereum:\n",
        "\n",
        "use last 20 bytes of the **Keccak256** hash of the public key "
      ],
      "metadata": {
        "id": "0gThlx5GIixG"
      }
    },
    {
      "cell_type": "code",
      "source": [
        "from Crypto.Hash import keccak"
      ],
      "metadata": {
        "id": "Iug6NL5YImfs"
      },
      "execution_count": null,
      "outputs": []
    },
    {
      "cell_type": "code",
      "source": [
        "kek=keccak.new(digest_bits=256)\n",
        "kek.update(pubKey.to_bytes())\n",
        "'0x'+kek.hexdigest()[-40:]"
      ],
      "metadata": {
        "id": "rnbcOOPpI2nW"
      },
      "execution_count": null,
      "outputs": []
    },
    {
      "cell_type": "code",
      "source": [
        "pubKey.to_checksum_address()"
      ],
      "metadata": {
        "id": "rydN5HCRJksD"
      },
      "execution_count": null,
      "outputs": []
    },
    {
      "cell_type": "markdown",
      "source": [
        "## Bitcoin, Dogecoin y Otros"
      ],
      "metadata": {
        "id": "Yqlzn9N3G2-v"
      }
    },
    {
      "cell_type": "markdown",
      "metadata": {
        "id": "vuaTecrayf1E"
      },
      "source": [
        "\n",
        "\n",
        "<div>\n",
        "<img src=\"https://github.com/ProfDoeg/Colegio_Invisible/raw/main/img/PubKeyToAddr.png\" width=\"300\"/>\n",
        "</div>\n",
        "\n",
        "Si quisiéramos hacer la generación de direcciones a mano, sería de la siguiente manera.\n",
        "***\n",
        "If we wanted to do the address generation by hand, it would go as follows.\n",
        "\n",
        "1) Comience con la **CLAVE PÚBLICA** precedida del byte **`04`**\\\n",
        " (Start with the **PUBLIC KEY** prepended with byte **`04`**)"
      ]
    },
    {
      "cell_type": "code",
      "source": [
        "pubKey.to_hex()"
      ],
      "metadata": {
        "id": "uxLPHy3L1G3d"
      },
      "execution_count": null,
      "outputs": []
    },
    {
      "cell_type": "code",
      "execution_count": null,
      "metadata": {
        "id": "Y4md_Vjryf1E"
      },
      "outputs": [],
      "source": [
        "pbkey04='04'+pubKey.to_hex()[2:]\n",
        "pbkey04"
      ]
    },
    {
      "cell_type": "markdown",
      "metadata": {
        "id": "Rtsggjkxyf1F"
      },
      "source": [
        "2) Luego aplique el **`HASH160`**. Recuerde que esto es **`SHA256`** hash seguido de **`RIPMED160`** hash.\\\n",
        " (Next apply the **`HASH160`**. Remember this is **`SHA256`** hashing followed by **`RIPMED160`** hashing)"
      ]
    },
    {
      "cell_type": "code",
      "source": [
        "from Crypto.Hash import RIPEMD160\n",
        "import hashlib\n",
        "\n",
        "h_256=hashlib.sha256(bytes.fromhex(pbkey04)).digest()\n",
        "h_rip = RIPEMD160.new()\n",
        "h_rip.update(h_256)\n",
        "h_rip.hexdigest()"
      ],
      "metadata": {
        "id": "GlG9D6JDO3zb"
      },
      "execution_count": null,
      "outputs": []
    },
    {
      "cell_type": "markdown",
      "source": [
        "Podemos hacer esto usando la biblioteca `cryptos` con una de las dos versiones de `*_hash160()`\n",
        "***\n",
        "We can do this using the `cryptos` library with one of two versions of `*_hash160()`\n",
        "\n"
      ],
      "metadata": {
        "id": "66vDjnNNQCH4"
      }
    },
    {
      "cell_type": "code",
      "execution_count": null,
      "metadata": {
        "id": "avjICEpTyf1F"
      },
      "outputs": [],
      "source": [
        "cryptos.bin_hash160(bytes.fromhex(pbkey04)).hex()"
      ]
    },
    {
      "cell_type": "code",
      "execution_count": null,
      "metadata": {
        "id": "LvEuDRaQyf1F"
      },
      "outputs": [],
      "source": [
        "pbkey_160=cryptos.hex_to_hash160(pbkey04)\n",
        "pbkey_160"
      ]
    },
    {
      "cell_type": "markdown",
      "metadata": {
        "id": "oDOWpA_0yf1G"
      },
      "source": [
        "3) Luego anteponga el **byte mágico** a la salida **`HASH160`**.\\\n",
        "  (Then prepend the **magic byte** to the **`HASH160`** output)"
      ]
    },
    {
      "cell_type": "code",
      "execution_count": null,
      "metadata": {
        "id": "srpTuDh8yf1G"
      },
      "outputs": [],
      "source": [
        "doge=cryptos.Doge()\n",
        "magic=hex(doge.magicbyte)\n",
        "#magic='0x00'\n",
        "magic_pbkey_160=magic[2:]+pbkey_160\n",
        "\n",
        "magic,magic_pbkey_160"
      ]
    },
    {
      "cell_type": "code",
      "source": [
        "btc=cryptos.Bitcoin()\n",
        "hex(btc.magicbyte)"
      ],
      "metadata": {
        "id": "55H4gXua_dbh"
      },
      "execution_count": null,
      "outputs": []
    },
    {
      "cell_type": "markdown",
      "metadata": {
        "id": "yVda4N2Fyf1G"
      },
      "source": [
        "4) \\\n",
        "Tome un desvío y complete el proyecto paralelo tomando el **DOBLE SHA256** de la salida anterior.\\\n",
        "(Take a detour and complete the side project taking the **DOUBLE SHA256** of the previous output)\\\n",
        "Los **primeros 4 bytes** de esto serán la **suma de verificación**\\\n",
        "(The **first 4 bytes** of this will be the **checksum**)\\\n",
        "Agregar este sufijo a la salida anterior generará la dirección en bytes/hex.\\\n",
        "(Appending this suffix to the previous output will yield the address in bytes/hex)"
      ]
    },
    {
      "cell_type": "code",
      "execution_count": null,
      "metadata": {
        "id": "GpzsK183yf1G"
      },
      "outputs": [],
      "source": [
        "suffix=cryptos.dbl_sha256(bytes.fromhex(magic_pbkey_160))[:8]\n",
        "suffix"
      ]
    },
    {
      "cell_type": "code",
      "execution_count": null,
      "metadata": {
        "id": "2PYnXTxpyf1H"
      },
      "outputs": [],
      "source": [
        "hex_addr=magic_pbkey_160+suffix\n",
        "hex_addr"
      ]
    },
    {
      "cell_type": "markdown",
      "metadata": {
        "id": "c_gIjdn8yf1H"
      },
      "source": [
        "***\n",
        "***\n",
        "Lo anterior produce una dirección legítima, aunque generalmente tomamos el paso adicional de hacer una codificación base58.\n",
        "***\n",
        "The above yields a legit address though we generally take the additional step of doing a base58 encoding.\n",
        "***\n",
        "***\n",
        "5) \\\n",
        "Finalmente hacemos una codificación **base58**\\\n",
        "(Finally we do a **base58** encoding)\\\n",
        "Tenga en cuenta que el prefijo de byte mágico de Dogecoin **`0x1e`** garantiza que la dirección base58 siempre comenzará con **`D`**\\\n",
        "(Note the magic byte prefix of Dogecoin **`0x1e`** ensures the base58 address will always start with a **`D`**)"
      ]
    },
    {
      "cell_type": "code",
      "execution_count": null,
      "metadata": {
        "id": "_7isxX0Oyf1H"
      },
      "outputs": [],
      "source": [
        "base58.b58encode(bytes.fromhex(hex_addr)).decode()"
      ]
    },
    {
      "cell_type": "code",
      "execution_count": null,
      "metadata": {
        "id": "0TZ97ysxyf1H"
      },
      "outputs": [],
      "source": [
        "addr"
      ]
    },
    {
      "cell_type": "markdown",
      "metadata": {
        "id": "AiQo-QDqyf1H"
      },
      "source": [
        "# WIF\n",
        "***\n",
        "***\n",
        "Wallet Import Format (WIF) es la codificación base58 para claves privadas. Vale la pena repasarlo como ejercicio.\n",
        "***\n",
        "Wallet Import Format (WIF) is the base58 encoding for private keys. It is worth going over as an exercize.\n",
        "***\n",
        "***\n",
        "1) \\\n",
        "Comience con una **CLAVE PRIVADA** y anteponga el byte específico de la red\\\n",
        "(Start with a **PRIVATE KEY** and prepend the network specific byte)\\\n",
        "`0x80` para Bitcoin y `0x9e` para Dogecoin.\\\n",
        "(`0x80` for Bitcoin and `0x9e` for Dogecoin)"
      ]
    },
    {
      "cell_type": "code",
      "execution_count": null,
      "metadata": {
        "id": "MMNZBvrJyf1I"
      },
      "outputs": [],
      "source": [
        "prvkey=privKey.to_hex()[2:]\n",
        "prvkey"
      ]
    },
    {
      "cell_type": "code",
      "execution_count": null,
      "metadata": {
        "id": "40Jnl_Xayf1I"
      },
      "outputs": [],
      "source": [
        "prvkey9e='9e'+prvkey\n",
        "prvkey9e"
      ]
    },
    {
      "cell_type": "markdown",
      "metadata": {
        "id": "JSlsQxhryf1I"
      },
      "source": [
        "2) \n",
        "El segundo paso es **DOBLE SHA256** la clave privada antepuesta\\\n",
        "(Second step is to **DOUBLE SHA256** the prepended private key)\\\n",
        "Los **primeros 4 bytes** de la salida proporcionan el **sufijo de suma de comprobación**\\\n",
        "(The **first 4 bytes** of the output provide the **checksum suffix**)"
      ]
    },
    {
      "cell_type": "code",
      "execution_count": null,
      "metadata": {
        "id": "V5DIu3oayf1I"
      },
      "outputs": [],
      "source": [
        "wif_checksum = cryptos.dbl_sha256(bytes.fromhex(prvkey9e))[:8]\n",
        "wif_checksum"
      ]
    },
    {
      "cell_type": "markdown",
      "metadata": {
        "id": "LSZ5BFZByf1I"
      },
      "source": [
        "3) Por último, agregamos el sufijo a la clave privada y codificamos usando `base58`\\\n",
        "(Lastly we append the suffix to the private key and encode using `base58`)"
      ]
    },
    {
      "cell_type": "code",
      "source": [
        "prvkey9e_suffixed=prvkey9e+wif_checksum\n",
        "prvkey9e_suffixed"
      ],
      "metadata": {
        "id": "j6V0j_n93VXS"
      },
      "execution_count": null,
      "outputs": []
    },
    {
      "cell_type": "code",
      "execution_count": null,
      "metadata": {
        "id": "gD77d2cuyf1I"
      },
      "outputs": [],
      "source": [
        "wif=base58.b58encode(bytes.fromhex(prvkey9e_suffixed)).decode()\n",
        "wif"
      ]
    },
    {
      "cell_type": "code",
      "execution_count": null,
      "metadata": {
        "id": "wHX7RF3lyf1J"
      },
      "outputs": [],
      "source": [
        "def to_wif(pvk,prefix='9e'):\n",
        "    import base58\n",
        "    import cryptos\n",
        "    checksum=cryptos.dbl_sha256(bytes.fromhex(prefix+pvk))[:8]\n",
        "    return base58.b58encode(bytes.fromhex(prefix+pvk+checksum)).decode()\n",
        "\n",
        "def from_wif(wif):\n",
        "    return base58.b58decode(wif).hex()[2:-8]"
      ]
    },
    {
      "cell_type": "code",
      "execution_count": null,
      "metadata": {
        "id": "7ozRHAFfyf1J"
      },
      "outputs": [],
      "source": [
        "doge_wif=to_wif(privKey.to_hex()[2:])\n",
        "doge_wif"
      ]
    },
    {
      "cell_type": "code",
      "execution_count": null,
      "metadata": {
        "id": "FD23WCCOyf1J"
      },
      "outputs": [],
      "source": [
        "og_prvkey=from_wif(doge_wif)\n",
        "prvkey , og_prvkey==prvkey"
      ]
    },
    {
      "cell_type": "markdown",
      "metadata": {
        "id": "Y_2dk-LMyf1J"
      },
      "source": [
        "# Base58\n",
        "***\n",
        "***\n",
        "Para crear direcciones y claves privadas WIF, hemos estado usando codificaciones base58.\n",
        "***\n",
        "For creating addresses and WIF private keys, we have been using base58 encodings.\n",
        "***\n",
        "***\n",
        "¿Qué tiene de genial base58?\n",
        "***\n",
        "What's so dope about base58?\n",
        "***\n",
        "***\n",
        "- No deseamos que los caracteres `0OIl` tengan el mismo aspecto y puedan usarse para crear cadenas visualmente idénticas.\\\n",
        " (We don't want `0OIl` characters that look the same in some fonts and could be used to create visually identical looking strings)\n",
        "- Una cadena con caracteres no alfanuméricos no se acepta tan fácilmente.\\\n",
        "(A string with non-alphanumeric characters is not as easily accepted)"
      ]
    },
    {
      "cell_type": "code",
      "execution_count": null,
      "metadata": {
        "id": "UaHXJ74byf1J"
      },
      "outputs": [],
      "source": [
        "hexstring=prvkey9e_suffixed\n",
        "\n",
        "code_string = \"123456789ABCDEFGHJKLMNPQRSTUVWXYZabcdefghijkmnopqrstuvwxyz\"\n",
        "x = int(hexstring,base=16)\n",
        "output_list = []\n",
        "   \n",
        "while(x > 0):\n",
        "    (remainder,x) = x%58,x//58\n",
        "    output_list.append(code_string[remainder])\n",
        "\n",
        "''.join(output_list)[::-1]"
      ]
    },
    {
      "cell_type": "code",
      "execution_count": null,
      "metadata": {
        "id": "AjeSg1Ejyf1K"
      },
      "outputs": [],
      "source": [
        "wif"
      ]
    },
    {
      "cell_type": "code",
      "source": [
        ""
      ],
      "metadata": {
        "id": "HhOBCx1o8EEX"
      },
      "execution_count": null,
      "outputs": []
    }
  ],
  "metadata": {
    "kernelspec": {
      "display_name": "Python 3",
      "language": "python",
      "name": "python3"
    },
    "language_info": {
      "codemirror_mode": {
        "name": "ipython",
        "version": 3
      },
      "file_extension": ".py",
      "mimetype": "text/x-python",
      "name": "python",
      "nbconvert_exporter": "python",
      "pygments_lexer": "ipython3",
      "version": "3.7.6"
    },
    "colab": {
      "name": "05_cuaderno.ipynb",
      "provenance": []
    }
  },
  "nbformat": 4,
  "nbformat_minor": 0
}