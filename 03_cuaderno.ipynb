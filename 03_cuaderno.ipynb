{
  "nbformat": 4,
  "nbformat_minor": 0,
  "metadata": {
    "colab": {
      "name": "03_cuaderno.ipynb",
      "provenance": [],
      "authorship_tag": "ABX9TyPwUdhEZUYKGVm/HV9Btre6",
      "include_colab_link": true
    },
    "kernelspec": {
      "name": "python3",
      "display_name": "Python 3"
    },
    "language_info": {
      "name": "python"
    }
  },
  "cells": [
    {
      "cell_type": "markdown",
      "metadata": {
        "id": "view-in-github",
        "colab_type": "text"
      },
      "source": [
        "<a href=\"https://colab.research.google.com/github/ProfDoeg/Colegio_Invisible/blob/main/03_cuaderno.ipynb\" target=\"_parent\"><img src=\"https://colab.research.google.com/assets/colab-badge.svg\" alt=\"Open In Colab\"/></a>"
      ]
    },
    {
      "cell_type": "code",
      "source": [
        "! git clone https://github.com/ProfDoeg/Colegio_Invisible.git\n",
        "! pip install cryptos\n",
        "! pip install eciespy\n"
      ],
      "metadata": {
        "id": "8Z2GvrR-Z5VA",
        "outputId": "4328c5d3-63b0-4660-9a1a-6346166c8b34",
        "colab": {
          "base_uri": "https://localhost:8080/"
        }
      },
      "execution_count": 1,
      "outputs": [
        {
          "output_type": "stream",
          "name": "stdout",
          "text": [
            "Cloning into 'Colegio_Invisible'...\n",
            "remote: Enumerating objects: 282, done.\u001b[K\n",
            "remote: Counting objects: 100% (96/96), done.\u001b[K\n",
            "remote: Compressing objects: 100% (73/73), done.\u001b[K\n",
            "remote: Total 282 (delta 69), reused 23 (delta 23), pack-reused 186\u001b[K\n",
            "Receiving objects: 100% (282/282), 12.16 MiB | 34.01 MiB/s, done.\n",
            "Resolving deltas: 100% (181/181), done.\n",
            "Collecting cryptos\n",
            "  Downloading cryptos-1.36-py3-none-any.whl (69 kB)\n",
            "\u001b[K     |████████████████████████████████| 69 kB 3.4 MB/s \n",
            "\u001b[?25hInstalling collected packages: cryptos\n",
            "Successfully installed cryptos-1.36\n",
            "Collecting eciespy\n",
            "  Downloading eciespy-0.3.11-py3-none-any.whl (11 kB)\n",
            "Collecting pycryptodome<4.0.0,>=3.9.9\n",
            "  Downloading pycryptodome-3.12.0-cp35-abi3-manylinux2010_x86_64.whl (2.0 MB)\n",
            "\u001b[K     |████████████████████████████████| 2.0 MB 5.4 MB/s \n",
            "\u001b[?25hCollecting coincurve<16,>=13\n",
            "  Downloading coincurve-15.0.1-cp37-cp37m-manylinux_2_17_x86_64.manylinux2014_x86_64.whl (555 kB)\n",
            "\u001b[K     |████████████████████████████████| 555 kB 49.7 MB/s \n",
            "\u001b[?25hCollecting eth-keys<0.4.0,>=0.3.3\n",
            "  Downloading eth_keys-0.3.3-py3-none-any.whl (20 kB)\n",
            "Requirement already satisfied: cffi>=1.3.0 in /usr/local/lib/python3.7/dist-packages (from coincurve<16,>=13->eciespy) (1.15.0)\n",
            "Collecting asn1crypto\n",
            "  Downloading asn1crypto-1.4.0-py2.py3-none-any.whl (104 kB)\n",
            "\u001b[K     |████████████████████████████████| 104 kB 57.0 MB/s \n",
            "\u001b[?25hRequirement already satisfied: pycparser in /usr/local/lib/python3.7/dist-packages (from cffi>=1.3.0->coincurve<16,>=13->eciespy) (2.21)\n",
            "Collecting eth-typing<3.0.0,>=2.2.1\n",
            "  Downloading eth_typing-2.2.2-py3-none-any.whl (6.2 kB)\n",
            "Collecting eth-utils<2.0.0,>=1.3.0\n",
            "  Downloading eth_utils-1.10.0-py3-none-any.whl (24 kB)\n",
            "Collecting eth-hash<0.4.0,>=0.3.1\n",
            "  Downloading eth_hash-0.3.2-py3-none-any.whl (8.8 kB)\n",
            "Collecting cytoolz<1.0.0,>=0.10.1\n",
            "  Downloading cytoolz-0.11.2.tar.gz (481 kB)\n",
            "\u001b[K     |████████████████████████████████| 481 kB 49.6 MB/s \n",
            "\u001b[?25hRequirement already satisfied: toolz>=0.8.0 in /usr/local/lib/python3.7/dist-packages (from cytoolz<1.0.0,>=0.10.1->eth-utils<2.0.0,>=1.3.0->eth-keys<0.4.0,>=0.3.3->eciespy) (0.11.2)\n",
            "Building wheels for collected packages: cytoolz\n",
            "  Building wheel for cytoolz (setup.py) ... \u001b[?25l\u001b[?25hdone\n",
            "  Created wheel for cytoolz: filename=cytoolz-0.11.2-cp37-cp37m-linux_x86_64.whl size=1231117 sha256=682953734d868a61447b20c3d6822763af52bcbf00f7bfd3c6fc093f1aa02e04\n",
            "  Stored in directory: /root/.cache/pip/wheels/38/70/71/ca13ea3d36ccd0b3d0ec7d7a4ca67522048d695b556bba4f59\n",
            "Successfully built cytoolz\n",
            "Installing collected packages: eth-typing, eth-hash, cytoolz, eth-utils, asn1crypto, pycryptodome, eth-keys, coincurve, eciespy\n",
            "Successfully installed asn1crypto-1.4.0 coincurve-15.0.1 cytoolz-0.11.2 eciespy-0.3.11 eth-hash-0.3.2 eth-keys-0.3.3 eth-typing-2.2.2 eth-utils-1.10.0 pycryptodome-3.12.0\n"
          ]
        }
      ]
    },
    {
      "cell_type": "code",
      "source": [
        " #! rm -r Colegio_Invisible"
      ],
      "metadata": {
        "id": "JQzUMyG5rP1Q"
      },
      "execution_count": null,
      "outputs": []
    },
    {
      "cell_type": "markdown",
      "source": [
        "# Intermediate Cryptography and Python Scripts\n",
        "\n",
        "## Outline\n",
        "\n",
        "In this deeper dive we cover:\n",
        "\n",
        "- asymmetric cryptography\n",
        "- python scripts\n",
        "\n",
        "## Goals\n",
        "\n",
        "By the end of the exposition you will be able to :\n",
        "\n",
        "- understand the features of **asymmetric cryptography**\n",
        "- generate a new **private key** object\n",
        "- access the byte or hex value of the private key\n",
        "- import a previously generated **private key** from bytes\n",
        "- generate and save a password protected private key file using a python script\n",
        "- derive a **public key** from the private key\n",
        "- access the byte or hex value of the public key\n",
        "- import a previously generated **public key** from bytes\n",
        "- derive and save a password protected public key file using a python script\n",
        "- dump the contents of an AES protected key file\n",
        "- use the keyboard to type and save AES password protected key files using a python script \n",
        "- understand ECDSA digital signature\n",
        "- **sign** a message with a private key\n",
        "- **verify** a message signature with a public key\n",
        "- understand ECIES\n",
        "- **ECIES encrypt** with a public key\n",
        "- **ECIES decrypt** with a private key\n"
      ],
      "metadata": {
        "id": "FXxgyYDJZ7HJ"
      }
    },
    {
      "cell_type": "markdown",
      "source": [
        "# Asymmetric Cryptography\n",
        "\n",
        "Asymmetric cryptography, or public-key cryptography, is a system that uses pairs of keys: public keys (which may be known to others), and private keys (which may never be known by any except the owner).\n",
        "\n",
        "- Public keys are generated from private keys\n",
        "- Public keys are shown to others\n",
        "- Private keys are held private\n",
        "\n",
        "<br></br>\n",
        "<div>\n",
        "<img src=\"https://github.com/ProfDoeg/Colegio_Invisible/raw/main/img/asymmetric.png\" width=\"500\"/>\n",
        "</div>\n",
        "\n",
        "The two keys have the opposite action. If one locks the other unlocks.\n",
        "\n",
        "- one key is used to encrypt (lock) and the other is used to decrypt (unlock)\n",
        "- when the public key is used to encrypt (lock) only the private key can decrypt (unlock). this means only one entity can decrypt (unlock) but anyone can encrypt (lock)\n",
        "- when the private key is used to encrypt (lock) only the public key can decrypt (unlock). this means anyone can decrypt (unlock) but only one entity can encrypt (lock)\n",
        "\n",
        "**ENCRYPTION**\n",
        "For encryption and decryption:\n",
        "- the recipients public key is used to encrypt\n",
        "- the recipients private key is used to decrypt\n",
        "\n",
        "**DIGITAL SIGNATURE**\n",
        "For signature and verification\n",
        "- the sender's private key is used the sign the hash of a text to generate a signature\n",
        "- the sender's public key is used to turn the signature back into the hash and compared to the hash of the text. if the hashes match then the text/signature/pubkey fit and the signature is deemed valid.\n",
        "\n",
        "**ECC** and RSA are different kinds of asymmetric cryptography.\n",
        "Elliptic-curve cryptography (ECC) is an approach to public-key cryptography based on the algebraic structure of elliptic curves over finite fields. ECC allows smaller keys compared to RSA.\n",
        "\n",
        "**secp256k1** refers to the parameters of the elliptic curve used in Ethereum's, Bitcoin's, and their derivatives' public-key cryptography.\n",
        "\n",
        "## Python Implementation\n",
        "\n",
        "We will be using the asymmetric cryptography library developed by Weiliang Li.\n",
        "- https://github.com/kigawas\n",
        "- https://github.com/ecies/py"
      ],
      "metadata": {
        "id": "Bu0Ig0Upm2-D"
      }
    },
    {
      "cell_type": "markdown",
      "source": [
        "## Imports\n",
        "\n",
        "- import the required libraries\n",
        "- have a look at the scripts\n",
        "- make a directory for keys"
      ],
      "metadata": {
        "id": "BscMIvbdnHQY"
      }
    },
    {
      "cell_type": "code",
      "source": [
        "import ecies\n",
        "import eth_keys"
      ],
      "metadata": {
        "id": "wbpYMFUfo2Ia"
      },
      "execution_count": 2,
      "outputs": []
    },
    {
      "cell_type": "code",
      "source": [
        "! ls Colegio_Invisible/scripts"
      ],
      "metadata": {
        "id": "2frl1AIaIJV_",
        "outputId": "a423e7a2-05ef-4515-f89f-c80037e658c0",
        "colab": {
          "base_uri": "https://localhost:8080/"
        }
      },
      "execution_count": 3,
      "outputs": [
        {
          "output_type": "stream",
          "name": "stdout",
          "text": [
            "aes_decrypt.py\tecc_encrypt.py\t ecc_keydump.py\t\tecc_verify.py\n",
            "aes_encrypt.py\tecc_generate.py  ecc_pubkey_extract.py\tsha_256.py\n",
            "ecc_decrypt.py\tecc_keyboard.py  ecc_sign.py\n"
          ]
        }
      ]
    },
    {
      "cell_type": "code",
      "source": [
        "! mkdir keys"
      ],
      "metadata": {
        "id": "A60IXIQ_-QtB"
      },
      "execution_count": 9,
      "outputs": []
    },
    {
      "cell_type": "markdown",
      "source": [
        "# Key Management\n",
        "\n",
        "This journey begins by managing keys and keyfiles.\n",
        "\n",
        "In this implementation of ECC:\n",
        "- private keys are 32 bytes (64 hex numerals)\n",
        "- public keys are 64 bytes (128 hex numerals)\n",
        "\n",
        "\n",
        "\n"
      ],
      "metadata": {
        "id": "eIP43RetnKWV"
      }
    },
    {
      "cell_type": "markdown",
      "source": [
        "## Private Keys\n",
        "\n",
        "Private keys must be kept secret. Never ever share them.\n",
        "\n",
        "Security goals:\n",
        "- private keys must be unique\n",
        "- private keys must be secret"
      ],
      "metadata": {
        "id": "7WargbM0nZVf"
      }
    },
    {
      "cell_type": "markdown",
      "source": [
        "### Generate Private Key\n",
        "\n",
        "There are various methods for creating keys. We will start by using the `generate_eth_key()` method. This produces a unique key using a psuedo-random number generator.\n",
        "\n",
        "The method produces a private key object."
      ],
      "metadata": {
        "id": "kYu5bisBoYII"
      }
    },
    {
      "cell_type": "code",
      "source": [
        "#this generates a private key object\n",
        "privKey1 = ecies.utils.generate_eth_key()\n",
        "privKey1, type(privKey1)"
      ],
      "metadata": {
        "id": "eVfBLSNjod-h"
      },
      "execution_count": null,
      "outputs": []
    },
    {
      "cell_type": "code",
      "source": [
        "#this generates a private key\n",
        "privKey2 = ecies.utils.generate_eth_key()\n",
        "privKey2, type(privKey2)"
      ],
      "metadata": {
        "id": "Q8RHzikPpvxQ"
      },
      "execution_count": null,
      "outputs": []
    },
    {
      "cell_type": "markdown",
      "source": [
        "### Dump Private Key Bytes\n",
        "\n",
        "Here we get the actual 32 bytes of data from the private key object."
      ],
      "metadata": {
        "id": "IT2rzmBSqBxr"
      }
    },
    {
      "cell_type": "code",
      "source": [
        "#here we can dump the contents of the private key as bytes\n",
        "privKey1_bytes=privKey1.to_bytes()\n",
        "privKey1_bytes,privKey1_bytes.hex()"
      ],
      "metadata": {
        "id": "VdYZ1RhfqA1R"
      },
      "execution_count": null,
      "outputs": []
    },
    {
      "cell_type": "markdown",
      "source": [
        "### Import Previously Generated Private Key From Bytes\n",
        "\n",
        "Here we create a private key object from 32 bytes of data."
      ],
      "metadata": {
        "id": "-gNzea7cqkmP"
      }
    },
    {
      "cell_type": "code",
      "source": [
        "#here we are generating a key object from previously generated bytes\n",
        "privKey1_copy=eth_keys.keys.PrivateKey(privKey1_bytes)\n",
        "privKey1_copy,type(privKey1_copy)"
      ],
      "metadata": {
        "id": "bC7FJMvfqqfr"
      },
      "execution_count": null,
      "outputs": []
    },
    {
      "cell_type": "markdown",
      "source": [
        "### Generate Private Key and Save in AES Password Protected File Using a Python Script\n",
        "\n",
        "The script `ecc_generate.py` is a command line tools for producing a private key. The 32 bytes are stored in an AES password protected file."
      ],
      "metadata": {
        "id": "IPngDvAkq_qH"
      }
    },
    {
      "cell_type": "code",
      "source": [
        "! ls Colegio_Invisible/scripts\n",
        "! cat Colegio_Invisible/scripts/ecc_generate.py"
      ],
      "metadata": {
        "id": "XboIvv1nHDRB"
      },
      "execution_count": null,
      "outputs": []
    },
    {
      "cell_type": "code",
      "source": [
        "! python Colegio_Invisible/scripts/ecc_generate.py keys/my_privkey.enc"
      ],
      "metadata": {
        "id": "-sGizOzKHDXb"
      },
      "execution_count": null,
      "outputs": []
    },
    {
      "cell_type": "markdown",
      "source": [
        "## Public Keys"
      ],
      "metadata": {
        "id": "WpbvndicnomY"
      }
    },
    {
      "cell_type": "markdown",
      "source": [
        "### Derive Public Key From Private Key"
      ],
      "metadata": {
        "id": "BkdBHG91rm-j"
      }
    },
    {
      "cell_type": "code",
      "source": [
        "pubKey1=privKey1.public_key\n",
        "pubKey1"
      ],
      "metadata": {
        "id": "gGhofhGRr55Z"
      },
      "execution_count": null,
      "outputs": []
    },
    {
      "cell_type": "code",
      "source": [
        "pubKey2=privKey2.public_key\n",
        "pubKey2"
      ],
      "metadata": {
        "id": "2J5cshRWDunK"
      },
      "execution_count": null,
      "outputs": []
    },
    {
      "cell_type": "markdown",
      "source": [
        "### Dump Public Key Bytes"
      ],
      "metadata": {
        "id": "mXd9cUuqsbWv"
      }
    },
    {
      "cell_type": "code",
      "source": [
        "pubKey1_bytes=pubKey1.to_bytes()\n",
        "pubKey1_bytes"
      ],
      "metadata": {
        "id": "cEnNOTq9sUiO"
      },
      "execution_count": null,
      "outputs": []
    },
    {
      "cell_type": "markdown",
      "source": [
        "### Import Previously Generated Private Key From Bytes"
      ],
      "metadata": {
        "id": "2cNlVbVps-Cw"
      }
    },
    {
      "cell_type": "code",
      "source": [
        "pubKey1_import=eth_keys.keys.PublicKey(pubKey1_bytes)\n",
        "pubKey1_import,type(pubKey1_import)"
      ],
      "metadata": {
        "id": "3wSGzDW_srMd"
      },
      "execution_count": null,
      "outputs": []
    },
    {
      "cell_type": "markdown",
      "source": [
        "### Extracting Public Key and Saving to AES Password Protected File Using Python Script"
      ],
      "metadata": {
        "id": "kBnRf_QOxX-8"
      }
    },
    {
      "cell_type": "code",
      "source": [
        "! cat Colegio_Invisible/scripts/ecc_pubkey_extract.py"
      ],
      "metadata": {
        "id": "9O_Vtv2xubi_"
      },
      "execution_count": null,
      "outputs": []
    },
    {
      "cell_type": "code",
      "source": [
        "! python Colegio_Invisible/scripts/ecc_pubkey_extract.py keys/my_privkey.enc keys/my_pubkey.enc"
      ],
      "metadata": {
        "id": "prTaNWG2HlUs"
      },
      "execution_count": null,
      "outputs": []
    },
    {
      "cell_type": "markdown",
      "source": [
        "## Input / Output"
      ],
      "metadata": {
        "id": "Y0Dm00uKn5Z8"
      }
    },
    {
      "cell_type": "markdown",
      "source": [
        "### Dumping the Contents of an AES Password Protected Key File Using a Python Script"
      ],
      "metadata": {
        "id": "KIqqHFLP4LPp"
      }
    },
    {
      "cell_type": "code",
      "source": [
        "! cat Colegio_Invisible/scripts/ecc_keydump.py "
      ],
      "metadata": {
        "id": "eIDTGLpe6CLE"
      },
      "execution_count": null,
      "outputs": []
    },
    {
      "cell_type": "code",
      "source": [
        "! python Colegio_Invisible/scripts/ecc_keydump.py keys/my_pubkey.enc"
      ],
      "metadata": {
        "id": "Ltrd5U5RHLVO"
      },
      "execution_count": null,
      "outputs": []
    },
    {
      "cell_type": "code",
      "source": [
        "pubkey=!{'python Colegio_Invisible/scripts/ecc_keydump.py keys/my_pubkey.enc'}\n",
        "pubkey"
      ],
      "metadata": {
        "id": "olPnJ0UIHdMM"
      },
      "execution_count": null,
      "outputs": []
    },
    {
      "cell_type": "code",
      "source": [
        "bytes.fromhex(pubkey[-1])"
      ],
      "metadata": {
        "id": "q86xgC-5H53K"
      },
      "execution_count": null,
      "outputs": []
    },
    {
      "cell_type": "markdown",
      "source": [
        "### Keyboard Input Contents of an AES Password Protected Key File Using a Python Script"
      ],
      "metadata": {
        "id": "1TbwRK8Xn_en"
      }
    },
    {
      "cell_type": "code",
      "source": [
        "! cat Colegio_Invisible/scripts/ecc_keyboard.py "
      ],
      "metadata": {
        "id": "rPvX45TQoTGB",
        "outputId": "818f7612-8d25-4f82-947a-709f274e711e",
        "colab": {
          "base_uri": "https://localhost:8080/"
        }
      },
      "execution_count": 4,
      "outputs": [
        {
          "output_type": "stream",
          "name": "stdout",
          "text": [
            "##################################################################################\n",
            "# this script will generate an ECC private or public key from keyboard input\n",
            "# the key is saved to an AEC encrypted (password protected) file\n",
            "#\n",
            "# run at the terminal using the following\n",
            "# > python ecc_keyboard.py <KEY_PATH> <KEY_PASSWORD> <KEY_HEX>\n",
            "# <KEY_PATH>: path to keyboard input key file\n",
            "# <KEY_PASSWORD>: password for key file\n",
            "# <KEY_HEX>: hex key (64 hex values for private key and 128 hex values for public key)\n",
            "#\n",
            "#EXAMPLE:\n",
            "#>python ecc_keyboard.py keys\\privkey.bin password123 0123456789abcdef0123456789abcdef0123456789abcdef0123456789abcdef\n",
            "#\n",
            "# IF <KEY_PASSWORD> AND <KEY_HEX> ARE NOT INCLUDED USER WILL BE PROMPTED TO ENTER THEM SECURELY\n",
            "##################################################################################\n",
            "\n",
            "from sys import argv\n",
            "import getpass\n",
            "import ecies\n",
            "import eth_keys\n",
            "import hashlib\n",
            "from Crypto.PublicKey import ECC\n",
            "#from Crypto.Random import get_random_bytes\n",
            "\n",
            "\n",
            "if len(argv)==4:\n",
            "    _, key_path,  key_password, key_hex = argv\n",
            "elif len(argv)==2:\n",
            "    _, key_path = argv\n",
            "    while True:\n",
            "        key_password = getpass.getpass(\"Input password for encrypting keyfile: \")\n",
            "        key_password_2 = getpass.getpass(\"Repeat password for encrypting keyfile: \")\n",
            "        if key_password==key_password_2:\n",
            "            print('\\nPasswords match...')\n",
            "            break\n",
            "        else:\n",
            "            print('\\nPasswords do not match...')\n",
            "    while True:\n",
            "        key_hex = getpass.getpass(\"Input key in hex: \")\n",
            "        key_hex_2 = getpass.getpass(\"Repeat key in hex: \")\n",
            "        if key_hex==key_hex_2:\n",
            "            print('\\nHex keys match...')\n",
            "            break\n",
            "        else:\n",
            "            print('\\nHex keys do not match...')\n",
            "else:\n",
            "    print('Wrong number arguments. 1 or 3 expected.')\n",
            "    print('>python ecc_keyboard.py <KEY_PATH> <KEY_PASSWORD> <KEY_HEX>')\n",
            "    print('IF <KEY_PASSWORD> AND <KEY_HEX> ARE NOT INCLUDED USER WILL BE PROMPTED TO ENTER THEM SECURELY')\n",
            "    exit()\n",
            "\n",
            "\n",
            "def make_key(keyhex):\n",
            "    if len(keyhex)==64:\n",
            "        return eth_keys.keys.PrivateKey( bytes.fromhex(keyhex) ) \n",
            "    elif len(keyhex)==128:\n",
            "        return eth_keys.keys.PublicKey( bytes.fromhex(keyhex) )\n",
            "    else:\n",
            "        print('Bad key length: 64 hex for private or 128 hex for public.')\n",
            "        exit()\n",
            "\n",
            "def save_key(key,path,password):\n",
            "    if type(password)!=bytes:\n",
            "        password=password.encode()\n",
            "    encrypted_bytes=ecies.aes_encrypt(key=hashlib.sha256(password).digest(),plain_text=key.to_bytes())\n",
            "    f=open(path,'wb')\n",
            "    f.write(encrypted_bytes)\n",
            "    f.close()\n",
            "    return encrypted_bytes\n",
            "\n",
            "#make key\n",
            "key=make_key(key_hex)\n",
            "\n",
            "#generate password protected file\n",
            "encrypted_bytes=save_key(key,key_path,key_password)\n",
            "\n",
            "print('Key generation complete') \n",
            "print('Key encrypted and written to binary file:', key_path)\n",
            "print(encrypted_bytes.hex())"
          ]
        }
      ]
    },
    {
      "cell_type": "code",
      "source": [
        "! python Colegio_Invisible/scripts/ecc_keyboard.py keys/tecla_privkey.bin password123 0123456789abcdef0123456789abcdef0123456789abcdef0123456789abcdef"
      ],
      "metadata": {
        "id": "If2AEYsZoTW5",
        "outputId": "da28543f-1acb-4a07-a863-f2aa471c8472",
        "colab": {
          "base_uri": "https://localhost:8080/"
        }
      },
      "execution_count": 10,
      "outputs": [
        {
          "output_type": "stream",
          "name": "stdout",
          "text": [
            "Key generation complete\n",
            "Key encrypted and written to binary file: keys/tecla_privkey.bin\n",
            "3117957cbcf6cf6503f450bd57e38572ecdae662fd3408c70924ad34fa5bead69e7a0f2673b1d0c2645f2786ff7de07dee815454ca68fafe028562e37f37e4ef\n"
          ]
        }
      ]
    },
    {
      "cell_type": "code",
      "source": [
        "! python Colegio_Invisible/scripts/ecc_keyboard.py keys/tecla_pubkey.bin password123 0123456789abcdef0123456789abcdef0123456789abcdef0123456789abcdef0123456789abcdef0123456789abcdef0123456789abcdef0123456789abcdef"
      ],
      "metadata": {
        "id": "ZhzgjnQDoTmQ",
        "outputId": "3c9652cb-fb5b-4979-a81c-39f54fb52315",
        "colab": {
          "base_uri": "https://localhost:8080/"
        }
      },
      "execution_count": 11,
      "outputs": [
        {
          "output_type": "stream",
          "name": "stdout",
          "text": [
            "Key generation complete\n",
            "Key encrypted and written to binary file: keys/tecla_pubkey.bin\n",
            "a28b3586a7a238ef5f6f203172dbd74d0713a22f1ecb2dd95be711be268ed57ab44926efdcf9cc803a4c8637672f69c724d68fd0fee0672312dd48d941062e9cee60275c5df8de442c5420ed0986e16107cb7950632905552e850723ae15ff2e\n"
          ]
        }
      ]
    },
    {
      "cell_type": "markdown",
      "source": [
        "---\n",
        "# Digital Signature ECDSA\n",
        "\n",
        "\n",
        "Digital signature is a means by which we ensure the authenticity and integrity of a message.\n",
        "\n",
        "- authenticity relates to the source of a message\n",
        "- integrity relates to the fact that a message has not been tampered with by adding, removing or changing its content\n",
        "\n",
        "**ECDSA** (Elliptic Curve Digital Signature Algoritm) is an algorithm for performing digital signature using elliptic curve cryptography. \n",
        "\n",
        "- signature is performed using a private key and a text in byte form\n",
        "- the signature algortitm is used generate a signature \n",
        "- verification is performed using the triplet signature/text/publickey\n",
        " \n",
        "https://en.wikipedia.org/wiki/Elliptic_Curve_Digital_Signature_Algorithm\n",
        "\n",
        "*SECURITY NOTE:* the text and signature can be used to recover the public key value\n",
        "\n",
        "<br></br>\n",
        "<div>\n",
        "<img src=\"https://github.com/ProfDoeg/Colegio_Invisible/raw/main/img/signature.png\" width=\"500\"/>\n",
        "</div>\n"
      ],
      "metadata": {
        "id": "-xRcwytz7NtV"
      }
    },
    {
      "cell_type": "markdown",
      "source": [
        "## Sign Message"
      ],
      "metadata": {
        "id": "feMY7yG98J25"
      }
    },
    {
      "cell_type": "code",
      "source": [
        "### lets make two messages\n",
        "message_A=b'this is message A'\n",
        "message_B=b'this is message B'"
      ],
      "metadata": {
        "id": "wQgJi-bu70YH"
      },
      "execution_count": null,
      "outputs": []
    },
    {
      "cell_type": "code",
      "source": [
        "### now lets criss-cross the two keys and two messages\n",
        "signature_1A=privKey1.sign_msg(message_A)\n",
        "signature_1B=privKey1.sign_msg(message_B)\n",
        "signature_2A=privKey2.sign_msg(message_A)\n",
        "signature_2B=privKey2.sign_msg(message_B)"
      ],
      "metadata": {
        "id": "a2Uonml28Sxf"
      },
      "execution_count": null,
      "outputs": []
    },
    {
      "cell_type": "markdown",
      "source": [
        "## Dump the Contents of the Signature as Bytes"
      ],
      "metadata": {
        "id": "XHyhPAWA8YCs"
      }
    },
    {
      "cell_type": "code",
      "source": [
        "sig_bytes=signature_1A.to_bytes()\n",
        "sig_bytes"
      ],
      "metadata": {
        "id": "gOFc0Ep48WTo"
      },
      "execution_count": null,
      "outputs": []
    },
    {
      "cell_type": "code",
      "source": [
        "new_sig=eth_keys.datatypes.Signature(sig_bytes)\n",
        "new_sig, type(new_sig)"
      ],
      "metadata": {
        "id": "CevYLJagAj1U"
      },
      "execution_count": null,
      "outputs": []
    },
    {
      "cell_type": "markdown",
      "source": [
        "## Sign File with Private Key using Python Script"
      ],
      "metadata": {
        "id": "RVVtmbWR8-0m"
      }
    },
    {
      "cell_type": "code",
      "source": [
        "! cat Colegio_Invisible/scripts/ecc_sign.py"
      ],
      "metadata": {
        "id": "Cms3vKI870yh"
      },
      "execution_count": null,
      "outputs": []
    },
    {
      "cell_type": "code",
      "source": [
        "! python Colegio_Invisible/scripts/ecc_sign.py  keys/my_privkey.enc '' Colegio_Invisible/img/colegio_invisible.jpeg ic_img.sig"
      ],
      "metadata": {
        "id": "YMUccqeQqphM"
      },
      "execution_count": null,
      "outputs": []
    },
    {
      "cell_type": "code",
      "source": [
        "! python Colegio_Invisible/scripts/sha_256.py Colegio_Invisible/img/colegio_invisible.jpeg"
      ],
      "metadata": {
        "id": "RHdsMyhcpoA1"
      },
      "execution_count": null,
      "outputs": []
    },
    {
      "cell_type": "markdown",
      "source": [
        "## Verify Signature"
      ],
      "metadata": {
        "id": "1cKbbDLV_9Vm"
      }
    },
    {
      "cell_type": "code",
      "source": [
        "#if signature, message and key match then True\n",
        "signature_1A.verify_msg(message_A,pubKey1)"
      ],
      "metadata": {
        "id": "Zc53d2f3DXab"
      },
      "execution_count": null,
      "outputs": []
    },
    {
      "cell_type": "code",
      "source": [
        "#if message does not match\n",
        "signature_1A.verify_msg(message_B,pubKey1)"
      ],
      "metadata": {
        "id": "qJaV970wDaxq"
      },
      "execution_count": null,
      "outputs": []
    },
    {
      "cell_type": "code",
      "source": [
        "#if public key does not match\n",
        "signature_1A.verify_msg(message_A,pubKey2)"
      ],
      "metadata": {
        "id": "0I1RBBB0DeVn"
      },
      "execution_count": null,
      "outputs": []
    },
    {
      "cell_type": "code",
      "source": [
        "signature_2B.verify_msg(message_B,pubKey2)"
      ],
      "metadata": {
        "id": "aqIP8lKGDejG"
      },
      "execution_count": null,
      "outputs": []
    },
    {
      "cell_type": "markdown",
      "source": [
        "## Verify Signature/Message/PublicKey Triplet with Python Script"
      ],
      "metadata": {
        "id": "Qc5Lmg3fFcs_"
      }
    },
    {
      "cell_type": "code",
      "source": [
        "! cat Colegio_Invisible/scripts/ecc_verify.py"
      ],
      "metadata": {
        "id": "19NC9QC9ulIn"
      },
      "execution_count": null,
      "outputs": []
    },
    {
      "cell_type": "code",
      "source": [
        "! python Colegio_Invisible/scripts/ecc_verify.py keys/my_pubkey.enc '' Colegio_Invisible/img/colegio_invisible.jpeg ic_img.sig"
      ],
      "metadata": {
        "id": "rGhZ6-nqsY1V"
      },
      "execution_count": null,
      "outputs": []
    },
    {
      "cell_type": "markdown",
      "source": [
        "# Hybrid Encryption ECIES\n",
        "\n",
        "ECIES stands for Elliptic Curve Integrated Encryption Scheme. It is a hybrid scheme where we use both ECC and AES.\n",
        "\n",
        "The process goes as follows:\n",
        "\n",
        "***SENDING...***\n",
        "\n",
        "1. The sender generates a one-time-use AES encryption key (session key)\n",
        "2. The sender encrypts the plain text with the **AES session key** and produces a cipher text\n",
        "3. The sender then encrypts the AES session key with the **reciever public key**\n",
        "4. The sender then packages the encrypted file and the encrypted key together\n",
        "\n",
        "***RECIEVING...***\n",
        "\n",
        "5. The **reciever private key** is used to decrypt the **encrypted AES session key**\n",
        "6. The **decrypted AES session key** is used to decrypt the ciper text...recovering the plain text\n",
        "\n",
        "---\n",
        "---"
      ],
      "metadata": {
        "id": "kGR4w7qkFtgt"
      }
    },
    {
      "cell_type": "markdown",
      "source": [
        "## Encrypt"
      ],
      "metadata": {
        "id": "ddHFhTxYF6U6"
      }
    },
    {
      "cell_type": "code",
      "source": [
        "ciphertext_1A=ecies.encrypt(pubKey1.to_hex(),msg=message_A)\n",
        "ciphertext_1A"
      ],
      "metadata": {
        "id": "RNxRoI8yF_FL"
      },
      "execution_count": null,
      "outputs": []
    },
    {
      "cell_type": "code",
      "source": [
        "ciphertext_2B=ecies.encrypt(pubKey2.to_hex(),msg=message_B)\n",
        "ciphertext_2B"
      ],
      "metadata": {
        "id": "t3XGXv_6F_TU"
      },
      "execution_count": null,
      "outputs": []
    },
    {
      "cell_type": "markdown",
      "source": [
        "## Encrypt File with Python Script"
      ],
      "metadata": {
        "id": "IT5R65jtGGXn"
      }
    },
    {
      "cell_type": "code",
      "source": [
        "! cat Colegio_Invisible/scripts/ecc_encrypt.py"
      ],
      "metadata": {
        "id": "Xa_rCKjiGNwV"
      },
      "execution_count": null,
      "outputs": []
    },
    {
      "cell_type": "code",
      "source": [
        "! python Colegio_Invisible/scripts/ecc_encrypt.py keys/my_pubkey.enc '' Colegio_Invisible/img/colegio_invisible.jpeg colegio_invisible.enc"
      ],
      "metadata": {
        "id": "t9p6w_0nvlnm"
      },
      "execution_count": null,
      "outputs": []
    },
    {
      "cell_type": "markdown",
      "source": [
        "## Decrypt"
      ],
      "metadata": {
        "id": "cBcLXZPHGeVp"
      }
    },
    {
      "cell_type": "code",
      "source": [
        "ecies.decrypt(privKey1.to_hex(),ciphertext_1A)"
      ],
      "metadata": {
        "id": "bglRA62tGhyi"
      },
      "execution_count": null,
      "outputs": []
    },
    {
      "cell_type": "code",
      "source": [
        "ecies.decrypt(privKey2.to_hex(),ciphertext_2B)"
      ],
      "metadata": {
        "id": "aY_20Zv3Gh-i"
      },
      "execution_count": null,
      "outputs": []
    },
    {
      "cell_type": "code",
      "source": [
        "#if we use the wrong key...\n",
        "ecies.decrypt(privKey1.to_hex(),ciphertext_2B)"
      ],
      "metadata": {
        "id": "YMf8b79dGiI8"
      },
      "execution_count": null,
      "outputs": []
    },
    {
      "cell_type": "markdown",
      "source": [
        "## Decrypt Using Python Script"
      ],
      "metadata": {
        "id": "JFIJbrsfHgOw"
      }
    },
    {
      "cell_type": "code",
      "source": [
        "! python Colegio_Invisible/scripts/ecc_decrypt.py keys/my_privkey.enc '' colegio_invisible.enc colegio_invisible_dec.jpeg"
      ],
      "metadata": {
        "id": "XI7k1rrGDhfZ"
      },
      "execution_count": null,
      "outputs": []
    },
    {
      "cell_type": "code",
      "source": [
        "from IPython.display import Image\n",
        "display(Image('colegio_invisible_dec.jpeg'))"
      ],
      "metadata": {
        "id": "3MRHbz2TGAjJ"
      },
      "execution_count": null,
      "outputs": []
    },
    {
      "cell_type": "code",
      "source": [
        ""
      ],
      "metadata": {
        "id": "AH1HjzyFKiHp"
      },
      "execution_count": null,
      "outputs": []
    },
    {
      "cell_type": "code",
      "source": [
        ""
      ],
      "metadata": {
        "id": "eM3jE-fBIs4B"
      },
      "execution_count": null,
      "outputs": []
    }
  ]
}