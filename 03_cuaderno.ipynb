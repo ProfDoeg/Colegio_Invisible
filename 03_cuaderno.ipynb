{
  "nbformat": 4,
  "nbformat_minor": 0,
  "metadata": {
    "colab": {
      "name": "03_cuaderno.ipynb",
      "provenance": [],
      "authorship_tag": "ABX9TyN/jwFDFA8r+GYqjV9uluEY",
      "include_colab_link": true
    },
    "kernelspec": {
      "name": "python3",
      "display_name": "Python 3"
    },
    "language_info": {
      "name": "python"
    }
  },
  "cells": [
    {
      "cell_type": "markdown",
      "metadata": {
        "id": "view-in-github",
        "colab_type": "text"
      },
      "source": [
        "<a href=\"https://colab.research.google.com/github/ProfDoeg/Colegio_Invisible/blob/main/03_cuaderno.ipynb\" target=\"_parent\"><img src=\"https://colab.research.google.com/assets/colab-badge.svg\" alt=\"Open In Colab\"/></a>"
      ]
    },
    {
      "cell_type": "code",
      "source": [
        "! git clone https://github.com/ProfDoeg/Colegio_Invisible.git\n",
        "! pip install cryptos\n",
        "! pip install eciespy\n"
      ],
      "metadata": {
        "id": "8Z2GvrR-Z5VA",
        "outputId": "cbc4afba-cc88-4d91-d339-117f9467fc73",
        "colab": {
          "base_uri": "https://localhost:8080/"
        }
      },
      "execution_count": 2,
      "outputs": [
        {
          "output_type": "stream",
          "name": "stdout",
          "text": [
            "Cloning into 'Colegio_Invisible'...\n",
            "remote: Enumerating objects: 222, done.\u001b[K\n",
            "remote: Counting objects: 100% (36/36), done.\u001b[K\n",
            "remote: Compressing objects: 100% (13/13), done.\u001b[K\n",
            "remote: Total 222 (delta 29), reused 23 (delta 23), pack-reused 186\u001b[K\n",
            "Receiving objects: 100% (222/222), 11.72 MiB | 34.19 MiB/s, done.\n",
            "Resolving deltas: 100% (141/141), done.\n",
            "Collecting cryptos\n",
            "  Downloading cryptos-1.36-py3-none-any.whl (69 kB)\n",
            "\u001b[K     |████████████████████████████████| 69 kB 3.0 MB/s \n",
            "\u001b[?25hInstalling collected packages: cryptos\n",
            "Successfully installed cryptos-1.36\n",
            "Collecting eciespy\n",
            "  Downloading eciespy-0.3.11-py3-none-any.whl (11 kB)\n",
            "Collecting eth-keys<0.4.0,>=0.3.3\n",
            "  Downloading eth_keys-0.3.3-py3-none-any.whl (20 kB)\n",
            "Collecting coincurve<16,>=13\n",
            "  Downloading coincurve-15.0.1-cp37-cp37m-manylinux_2_17_x86_64.manylinux2014_x86_64.whl (555 kB)\n",
            "\u001b[K     |████████████████████████████████| 555 kB 7.0 MB/s \n",
            "\u001b[?25hCollecting pycryptodome<4.0.0,>=3.9.9\n",
            "  Downloading pycryptodome-3.12.0-cp35-abi3-manylinux2010_x86_64.whl (2.0 MB)\n",
            "\u001b[K     |████████████████████████████████| 2.0 MB 50.8 MB/s \n",
            "\u001b[?25hRequirement already satisfied: cffi>=1.3.0 in /usr/local/lib/python3.7/dist-packages (from coincurve<16,>=13->eciespy) (1.15.0)\n",
            "Collecting asn1crypto\n",
            "  Downloading asn1crypto-1.4.0-py2.py3-none-any.whl (104 kB)\n",
            "\u001b[K     |████████████████████████████████| 104 kB 73.5 MB/s \n",
            "\u001b[?25hRequirement already satisfied: pycparser in /usr/local/lib/python3.7/dist-packages (from cffi>=1.3.0->coincurve<16,>=13->eciespy) (2.21)\n",
            "Collecting eth-utils<2.0.0,>=1.3.0\n",
            "  Downloading eth_utils-1.10.0-py3-none-any.whl (24 kB)\n",
            "Collecting eth-typing<3.0.0,>=2.2.1\n",
            "  Downloading eth_typing-2.2.2-py3-none-any.whl (6.2 kB)\n",
            "Collecting cytoolz<1.0.0,>=0.10.1\n",
            "  Downloading cytoolz-0.11.2.tar.gz (481 kB)\n",
            "\u001b[K     |████████████████████████████████| 481 kB 52.6 MB/s \n",
            "\u001b[?25hCollecting eth-hash<0.4.0,>=0.3.1\n",
            "  Downloading eth_hash-0.3.2-py3-none-any.whl (8.8 kB)\n",
            "Requirement already satisfied: toolz>=0.8.0 in /usr/local/lib/python3.7/dist-packages (from cytoolz<1.0.0,>=0.10.1->eth-utils<2.0.0,>=1.3.0->eth-keys<0.4.0,>=0.3.3->eciespy) (0.11.2)\n",
            "Building wheels for collected packages: cytoolz\n",
            "  Building wheel for cytoolz (setup.py) ... \u001b[?25l\u001b[?25hdone\n",
            "  Created wheel for cytoolz: filename=cytoolz-0.11.2-cp37-cp37m-linux_x86_64.whl size=1231114 sha256=cc9a967ed82dc84f802e8ca5a82134eb3ecd01052b2a431c95a11d9f7818717b\n",
            "  Stored in directory: /root/.cache/pip/wheels/38/70/71/ca13ea3d36ccd0b3d0ec7d7a4ca67522048d695b556bba4f59\n",
            "Successfully built cytoolz\n",
            "Installing collected packages: eth-typing, eth-hash, cytoolz, eth-utils, asn1crypto, pycryptodome, eth-keys, coincurve, eciespy\n",
            "Successfully installed asn1crypto-1.4.0 coincurve-15.0.1 cytoolz-0.11.2 eciespy-0.3.11 eth-hash-0.3.2 eth-keys-0.3.3 eth-typing-2.2.2 eth-utils-1.10.0 pycryptodome-3.12.0\n"
          ]
        }
      ]
    },
    {
      "cell_type": "markdown",
      "source": [
        "# Basic Cryptography and Script Writing\n",
        "\n",
        "## Outline\n",
        "\n",
        "In this deeper dive we cover:\n",
        "\n",
        "- asymmetric cryptography\n",
        "- advanced scripts\n",
        "\n",
        "By the end of the exposition you will:\n",
        "\n",
        "- understand the features of **asymmetric cryptography**\n",
        "- be able to generate a new **private key** object\n",
        "- be able to access the byte or hex value of the private key\n",
        "- be able to import a previously generated **private key** from bytes\n",
        "- be able to extract a **public key** from the private key\n",
        "- be able to access the byte or hex value of the public key\n",
        "- understand ECDSA digital signature\n",
        "- be able to **sign** a message with a private key\n",
        "- be able to **verify** a message signature with a public key\n",
        "- understand ECIES\n",
        "- be able to **ECIES encrypt** with a public key\n",
        "- be able to **ECIES decrypt** with a private key"
      ],
      "metadata": {
        "id": "FXxgyYDJZ7HJ"
      }
    },
    {
      "cell_type": "code",
      "execution_count": 1,
      "metadata": {
        "id": "UYdmML45Y4cc",
        "outputId": "1aa33ed1-1a73-4c70-f833-a86d969e79ca",
        "colab": {
          "base_uri": "https://localhost:8080/",
          "height": 131
        }
      },
      "outputs": [
        {
          "output_type": "error",
          "ename": "SyntaxError",
          "evalue": "ignored",
          "traceback": [
            "\u001b[0;36m  File \u001b[0;32m\"<ipython-input-1-17948d49ffe9>\"\u001b[0;36m, line \u001b[0;32m5\u001b[0m\n\u001b[0;31m    In this deeper dive we cover:\u001b[0m\n\u001b[0m          ^\u001b[0m\n\u001b[0;31mSyntaxError\u001b[0m\u001b[0;31m:\u001b[0m invalid syntax\n"
          ]
        }
      ],
      "source": [
        ""
      ]
    },
    {
      "cell_type": "code",
      "source": [
        "! ls Colegio_Invisible/scripts\n",
        "! cat Colegio_Invisible/scripts/ecc_generate.py"
      ],
      "metadata": {
        "id": "XboIvv1nHDRB",
        "outputId": "cae8cc6d-f648-462b-a8de-4d558e8a82ca",
        "colab": {
          "base_uri": "https://localhost:8080/"
        }
      },
      "execution_count": 3,
      "outputs": [
        {
          "output_type": "stream",
          "name": "stdout",
          "text": [
            "aes_decrypt.py\tecc_generate.py  ecc_pubkey_extract.py\n",
            "aes_encrypt.py\tecc_keydump.py\t sha_256.py\n",
            "##################################################################################\n",
            "# this script will generate an ECC private key from a computer generate 256 bit random number\n",
            "# the key is saved to an AEC encrypted (password protected) file\n",
            "#\n",
            "# run at the terminal using the following\n",
            "# > python ecc_generate.py <PRIVKEY_PATH> <PRIVKEY_PASSWORD>\n",
            "# <PRIVKEY_PATH>: path to generated private key\n",
            "# <PRIVKEY_PASSWORD>: password for private key file\n",
            "#\n",
            "#EXAMPLE:\n",
            "#>python ecc_generate.py keys\\privkey.bin password123\n",
            "#\n",
            "# IF <PRIVKEY_PASSWORD> IS NOT INCLUDED USER WILL BE PROMPTED TO ENTER IT SECURELY\n",
            "##################################################################################\n",
            "\n",
            "from sys import argv\n",
            "import getpass\n",
            "import ecies\n",
            "import eth_keys\n",
            "import hashlib\n",
            "from Crypto.PublicKey import ECC\n",
            "from Crypto.Random import get_random_bytes\n",
            "\n",
            "\n",
            "if len(argv)==3:\n",
            "    _, privkey_path, privkey_password = argv\n",
            "elif len(argv)==2:\n",
            "    _, privkey_path = argv\n",
            "    while True:\n",
            "        privkey_password = getpass.getpass(\"Input password for encrypting keyfile: \")\n",
            "        privkey_password_2 = getpass.getpass(\"Repeat password for encrypting keyfile: \")\n",
            "        if privkey_password==privkey_password_2:\n",
            "            print('\\nPasswords match...')\n",
            "            break\n",
            "        else:\n",
            "            print('\\nPasswords do not match...')\n",
            "else:\n",
            "    print('Wrong number arguments. 1 or 2 expected.')\n",
            "    print('>python ecc_generate.py <PRIVKEY_PATH> <PRIVKEY_PASSWORD>')\n",
            "    print('IF <PRIVKEY_PASSWORD> IS NOT INCLUDED USER WILL BE PROMPTED TO ENTER IT SECURELY')\n",
            "    exit()\n",
            "\n",
            "def gen_privKey():\n",
            "    privKey=eth_keys.keys.PrivateKey(get_random_bytes(32) )\n",
            "    return privKey\n",
            "\n",
            "def save_key(key,path,password):\n",
            "    if type(password)!=bytes:\n",
            "        password=password.encode()\n",
            "    encrypted_bytes=ecies.aes_encrypt(key=hashlib.sha256(password).digest(),plain_text=key.to_bytes())\n",
            "    f=open(path,'wb')\n",
            "    f.write(encrypted_bytes)\n",
            "    f.close()\n",
            "    return encrypted_bytes\n",
            "\n",
            "#generate key\n",
            "privKey=gen_privKey()\n",
            "\n",
            "#generate password protected file\n",
            "encrypted_bytes=save_key(privKey,privkey_path,privkey_password)\n",
            "\n",
            "print('Private key generation complete') \n",
            "print('Private key encrypted and written to binary file:', privkey_path)\n",
            "print(encrypted_bytes.hex())"
          ]
        }
      ]
    },
    {
      "cell_type": "code",
      "source": [
        "! mkdir keys"
      ],
      "metadata": {
        "id": "rdIp-BuDHDUg"
      },
      "execution_count": 4,
      "outputs": []
    },
    {
      "cell_type": "code",
      "source": [
        "! python Colegio_Invisible/scripts/ecc_generate.py keys/my_privkey.enc"
      ],
      "metadata": {
        "id": "-sGizOzKHDXb",
        "outputId": "855c9dce-e4c7-4d9a-845d-df809a5e83b4",
        "colab": {
          "base_uri": "https://localhost:8080/"
        }
      },
      "execution_count": 6,
      "outputs": [
        {
          "output_type": "stream",
          "name": "stdout",
          "text": [
            "Input password for encrypting keyfile: \n",
            "Repeat password for encrypting keyfile: \n",
            "\n",
            "Passwords match...\n",
            "Private key generation complete\n",
            "Private key encrypted and written to binary file: keys/my_privkey.enc\n",
            "df75e344ecd170e099a26b939915c12edb2ce2fc67fe87c4ef9c50e1ea05fa5fa8c90a17faf810f37d65f17198fca8c806054d41fbe3bbe78db61faa72efc06c\n"
          ]
        }
      ]
    },
    {
      "cell_type": "code",
      "source": [
        "! python Colegio_Invisible/scripts/ecc_pubkey_extract.py keys/my_privkey.enc keys/my_pubkey.enc"
      ],
      "metadata": {
        "id": "prTaNWG2HlUs",
        "outputId": "3c708bc7-b6ed-46ed-b52d-b72935a5e6a9",
        "colab": {
          "base_uri": "https://localhost:8080/"
        }
      },
      "execution_count": 8,
      "outputs": [
        {
          "output_type": "stream",
          "name": "stdout",
          "text": [
            "Input password for private key file: \n",
            "Input password for public key file: \n",
            "Repeat password for public key file: \n",
            "\n",
            "Passwords match...\n",
            "Completed public key extraction from: keys/my_privkey.enc\n",
            "Public key encrypted and written to binary file: keys/my_pubkey.enc\n",
            "f083c30bf478817bc0690f6c636ccffebd6794234826ba89efa58920000c4a0e38b2fb86a61f8cf36a1639dc686ac67e8a7087e84e694e6b935691ff539c233214ff2c16ad11a352ae5ad4c6eac383a5683260b302dc0a5b5c9f3ec345bc785c\n"
          ]
        }
      ]
    },
    {
      "cell_type": "code",
      "source": [
        "! python Colegio_Invisible/scripts/ecc_keydump.py keys/my_pubkey.enc"
      ],
      "metadata": {
        "id": "Ltrd5U5RHLVO",
        "outputId": "a9e2eec3-b545-4313-d21d-fecf19dab7bc",
        "colab": {
          "base_uri": "https://localhost:8080/"
        }
      },
      "execution_count": 9,
      "outputs": [
        {
          "output_type": "stream",
          "name": "stdout",
          "text": [
            "Input password for key file: \n",
            "254de8a9b4e2833d8c79615e70d51a7895d19e09bfc4e628e275a95a0553b161e8f6d0b4ca741fbffcab11583fe6c137e22217a731e4f471d021ae6986741ade\n"
          ]
        }
      ]
    },
    {
      "cell_type": "code",
      "source": [
        "pubkey=!{'python Colegio_Invisible/scripts/ecc_keydump.py keys/my_pubkey.enc'}\n",
        "pubkey"
      ],
      "metadata": {
        "id": "olPnJ0UIHdMM",
        "outputId": "904e5364-a455-44d2-ca1c-edc7bac6a28d",
        "colab": {
          "base_uri": "https://localhost:8080/"
        }
      },
      "execution_count": 12,
      "outputs": [
        {
          "output_type": "execute_result",
          "data": {
            "text/plain": [
              "['Input password for key file: ',\n",
              " '254de8a9b4e2833d8c79615e70d51a7895d19e09bfc4e628e275a95a0553b161e8f6d0b4ca741fbffcab11583fe6c137e22217a731e4f471d021ae6986741ade']"
            ]
          },
          "metadata": {},
          "execution_count": 12
        }
      ]
    },
    {
      "cell_type": "code",
      "source": [
        "bytes.fromhex(pubkey[-1])"
      ],
      "metadata": {
        "id": "q86xgC-5H53K",
        "outputId": "a37daae9-17d3-476f-d192-57ce8a6748e6",
        "colab": {
          "base_uri": "https://localhost:8080/"
        }
      },
      "execution_count": 14,
      "outputs": [
        {
          "output_type": "execute_result",
          "data": {
            "text/plain": [
              "b'%M\\xe8\\xa9\\xb4\\xe2\\x83=\\x8cya^p\\xd5\\x1ax\\x95\\xd1\\x9e\\t\\xbf\\xc4\\xe6(\\xe2u\\xa9Z\\x05S\\xb1a\\xe8\\xf6\\xd0\\xb4\\xcat\\x1f\\xbf\\xfc\\xab\\x11X?\\xe6\\xc17\\xe2\"\\x17\\xa71\\xe4\\xf4q\\xd0!\\xaei\\x86t\\x1a\\xde'"
            ]
          },
          "metadata": {},
          "execution_count": 14
        }
      ]
    },
    {
      "cell_type": "code",
      "source": [
        ""
      ],
      "metadata": {
        "id": "2frl1AIaIJV_"
      },
      "execution_count": null,
      "outputs": []
    }
  ]
}