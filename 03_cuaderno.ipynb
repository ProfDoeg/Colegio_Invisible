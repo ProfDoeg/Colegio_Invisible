{
  "nbformat": 4,
  "nbformat_minor": 0,
  "metadata": {
    "colab": {
      "name": "03_cuaderno.ipynb",
      "provenance": [],
      "authorship_tag": "ABX9TyOKeRxBj85SXcgwswN4JVpC",
      "include_colab_link": true
    },
    "kernelspec": {
      "name": "python3",
      "display_name": "Python 3"
    },
    "language_info": {
      "name": "python"
    }
  },
  "cells": [
    {
      "cell_type": "markdown",
      "metadata": {
        "id": "view-in-github",
        "colab_type": "text"
      },
      "source": [
        "<a href=\"https://colab.research.google.com/github/ProfDoeg/Colegio_Invisible/blob/main/03_cuaderno.ipynb\" target=\"_parent\"><img src=\"https://colab.research.google.com/assets/colab-badge.svg\" alt=\"Open In Colab\"/></a>"
      ]
    },
    {
      "cell_type": "code",
      "source": [
        ""
      ],
      "metadata": {
        "id": "8Z2GvrR-Z5VA"
      },
      "execution_count": null,
      "outputs": []
    },
    {
      "cell_type": "markdown",
      "source": [
        ""
      ],
      "metadata": {
        "id": "FXxgyYDJZ7HJ"
      }
    },
    {
      "cell_type": "code",
      "execution_count": null,
      "metadata": {
        "id": "UYdmML45Y4cc"
      },
      "outputs": [],
      "source": [
        "# Basic Cryptography and Script Writing\n",
        "\n",
        "## Outline\n",
        "\n",
        "In this deeper dive we cover:\n",
        "\n",
        "- asymmetric cryptography\n",
        "- advanced scripts\n",
        "\n",
        "By the end of the exposition you will:\n",
        "\n",
        "- understand the features of **asymmetric cryptography**\n",
        "- be able to generate a new **private key** object\n",
        "- be able to access the byte or hex value of the private key\n",
        "- be able to import a previously generated **private key** from bytes\n",
        "- be able to extract a **public key** from the private key\n",
        "- be able to access the byte or hex value of the public key\n",
        "- understand ECDSA digital signature\n",
        "- be able to **sign** a message with a private key\n",
        "- be able to **verify** a message signature with a public key\n",
        "- understand ECIES\n",
        "- be able to **ECIES encrypt** with a public key\n",
        "- be able to **ECIES decrypt** with a private key"
      ]
    }
  ]
}