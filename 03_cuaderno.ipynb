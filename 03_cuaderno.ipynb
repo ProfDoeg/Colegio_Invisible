{
  "nbformat": 4,
  "nbformat_minor": 0,
  "metadata": {
    "colab": {
      "name": "03_cuaderno.ipynb",
      "provenance": [],
      "authorship_tag": "ABX9TyNp+qKQvjn152H3YfDr9wz1",
      "include_colab_link": true
    },
    "kernelspec": {
      "name": "python3",
      "display_name": "Python 3"
    },
    "language_info": {
      "name": "python"
    }
  },
  "cells": [
    {
      "cell_type": "markdown",
      "metadata": {
        "id": "view-in-github",
        "colab_type": "text"
      },
      "source": [
        "<a href=\"https://colab.research.google.com/github/ProfDoeg/Colegio_Invisible/blob/main/03_cuaderno.ipynb\" target=\"_parent\"><img src=\"https://colab.research.google.com/assets/colab-badge.svg\" alt=\"Open In Colab\"/></a>"
      ]
    },
    {
      "cell_type": "code",
      "source": [
        "! git clone https://github.com/ProfDoeg/Colegio_Invisible.git\n",
        "! pip install cryptos\n",
        "! pip install eciespy\n"
      ],
      "metadata": {
        "id": "8Z2GvrR-Z5VA"
      },
      "execution_count": null,
      "outputs": []
    },
    {
      "cell_type": "code",
      "source": [
        " #! rm -r Colegio_Invisible"
      ],
      "metadata": {
        "id": "JQzUMyG5rP1Q"
      },
      "execution_count": null,
      "outputs": []
    },
    {
      "cell_type": "markdown",
      "source": [
        "# Basic Cryptography and Script Writing\n",
        "\n",
        "## Outline\n",
        "\n",
        "In this deeper dive we cover:\n",
        "\n",
        "- asymmetric cryptography\n",
        "- advanced scripts\n",
        "\n",
        "By the end of the exposition you will:\n",
        "\n",
        "- understand the features of **asymmetric cryptography**\n",
        "- be able to generate a new **private key** object\n",
        "- be able to access the byte or hex value of the private key\n",
        "- be able to import a previously generated **private key** from bytes\n",
        "- be able to extract a **public key** from the private key\n",
        "- be able to access the byte or hex value of the public key\n",
        "- understand ECDSA digital signature\n",
        "- be able to **sign** a message with a private key\n",
        "- be able to **verify** a message signature with a public key\n",
        "- understand ECIES\n",
        "- be able to **ECIES encrypt** with a public key\n",
        "- be able to **ECIES decrypt** with a private key"
      ],
      "metadata": {
        "id": "FXxgyYDJZ7HJ"
      }
    },
    {
      "cell_type": "markdown",
      "source": [
        "# Asymmetric Cryptography\n",
        "\n",
        "Asymmetric cryptography, or public-key cryptography, is a system that uses pairs of keys: public keys (which may be known to others), and private keys (which may never be known by any except the owner).\n",
        "\n",
        "- Public keys are generated from private keys\n",
        "- Public keys are shown to others\n",
        "- Private keys are held private\n",
        "\n",
        "<div>\n",
        "<img src=\"attachment:asymmetric.png\" width=\"500\"/>\n",
        "</div>\n",
        "\n",
        "**ENCRYPTION**\n",
        "For encryption and decryption:\n",
        "- the recipients public key is used to encrypt\n",
        "- the recipients private key is used to decrypt\n",
        "\n",
        "**DIGITAL SIGNATURE**\n",
        "For signature and verification\n",
        "- the sender's private key is used the sign the hash of a text to generate a signature\n",
        "- the sender's public key is used to turn the signature back into the hash and compared to the hash of the text. if the hashes match then the text/signature/pubkey fit and the signature is deemed valid.\n",
        "\n",
        "**ECC** and RSA are different kinds of asymmetric cryptography.\n",
        "Elliptic-curve cryptography (ECC) is an approach to public-key cryptography based on the algebraic structure of elliptic curves over finite fields. ECC allows smaller keys compared to RSA.\n",
        "\n",
        "**secp256k1** refers to the parameters of the elliptic curve used in Ethereum's, Bitcoin's, and their derivatives' public-key cryptography."
      ],
      "metadata": {
        "id": "Bu0Ig0Upm2-D"
      }
    },
    {
      "cell_type": "code",
      "source": [
        "import ecies\n",
        "import eth_keys"
      ],
      "metadata": {
        "id": "wbpYMFUfo2Ia"
      },
      "execution_count": null,
      "outputs": []
    },
    {
      "cell_type": "code",
      "source": [
        "! ls Colegio_Invisible/scripts"
      ],
      "metadata": {
        "id": "2frl1AIaIJV_"
      },
      "execution_count": null,
      "outputs": []
    },
    {
      "cell_type": "markdown",
      "source": [
        "## Generate Private Key"
      ],
      "metadata": {
        "id": "kYu5bisBoYII"
      }
    },
    {
      "cell_type": "code",
      "source": [
        "#this generates a private key object\n",
        "privKey1 = ecies.utils.generate_eth_key()\n",
        "privKey1, type(privKey1)"
      ],
      "metadata": {
        "id": "eVfBLSNjod-h"
      },
      "execution_count": null,
      "outputs": []
    },
    {
      "cell_type": "code",
      "source": [
        "#this generates a private key\n",
        "privKey2 = ecies.utils.generate_eth_key()\n",
        "privKey2, type(privKey2)"
      ],
      "metadata": {
        "id": "Q8RHzikPpvxQ"
      },
      "execution_count": null,
      "outputs": []
    },
    {
      "cell_type": "markdown",
      "source": [
        "## Dump Private Key Bytes"
      ],
      "metadata": {
        "id": "IT2rzmBSqBxr"
      }
    },
    {
      "cell_type": "code",
      "source": [
        "#here we can dump the contents of the private key as bytes\n",
        "privKey1_bytes=privKey1.to_bytes()\n",
        "privKey1_bytes,privKey1_bytes.hex()"
      ],
      "metadata": {
        "id": "VdYZ1RhfqA1R"
      },
      "execution_count": null,
      "outputs": []
    },
    {
      "cell_type": "markdown",
      "source": [
        "## Import Previously Generated Private Key From Bytes"
      ],
      "metadata": {
        "id": "-gNzea7cqkmP"
      }
    },
    {
      "cell_type": "code",
      "source": [
        "#here we are generating a key object from previously generated bytes\n",
        "privKey1_copy=eth_keys.keys.PrivateKey(privKey1_bytes)\n",
        "privKey1_copy,type(privKey1_copy)"
      ],
      "metadata": {
        "id": "bC7FJMvfqqfr"
      },
      "execution_count": null,
      "outputs": []
    },
    {
      "cell_type": "markdown",
      "source": [
        "## Generate Private Key and Save in AES Password Protected File Using a Python Script"
      ],
      "metadata": {
        "id": "IPngDvAkq_qH"
      }
    },
    {
      "cell_type": "code",
      "source": [
        "! ls Colegio_Invisible/scripts\n",
        "! cat Colegio_Invisible/scripts/ecc_generate.py"
      ],
      "metadata": {
        "id": "XboIvv1nHDRB"
      },
      "execution_count": null,
      "outputs": []
    },
    {
      "cell_type": "code",
      "source": [
        "! mkdir keys"
      ],
      "metadata": {
        "id": "rdIp-BuDHDUg"
      },
      "execution_count": null,
      "outputs": []
    },
    {
      "cell_type": "code",
      "source": [
        "! python Colegio_Invisible/scripts/ecc_generate.py keys/my_privkey.enc"
      ],
      "metadata": {
        "id": "-sGizOzKHDXb"
      },
      "execution_count": null,
      "outputs": []
    },
    {
      "cell_type": "markdown",
      "source": [
        "# Derive Public Key From Private Key"
      ],
      "metadata": {
        "id": "BkdBHG91rm-j"
      }
    },
    {
      "cell_type": "code",
      "source": [
        "pubKey1=privKey1.public_key\n",
        "pubKey1"
      ],
      "metadata": {
        "id": "gGhofhGRr55Z"
      },
      "execution_count": null,
      "outputs": []
    },
    {
      "cell_type": "code",
      "source": [
        "pubKey2=privKey2.public_key\n",
        "pubKey2"
      ],
      "metadata": {
        "id": "2J5cshRWDunK"
      },
      "execution_count": null,
      "outputs": []
    },
    {
      "cell_type": "markdown",
      "source": [
        "## Dump Public Key Bytes"
      ],
      "metadata": {
        "id": "mXd9cUuqsbWv"
      }
    },
    {
      "cell_type": "code",
      "source": [
        "pubKey1_bytes=pubKey1.to_bytes()\n",
        "pubKey1_bytes"
      ],
      "metadata": {
        "id": "cEnNOTq9sUiO"
      },
      "execution_count": null,
      "outputs": []
    },
    {
      "cell_type": "markdown",
      "source": [
        "## Import Previously Generated Private Key From Bytes"
      ],
      "metadata": {
        "id": "2cNlVbVps-Cw"
      }
    },
    {
      "cell_type": "code",
      "source": [
        "pubKey1_import=eth_keys.keys.PublicKey(pubKey1_bytes)\n",
        "pubKey1_import,type(pubKey1_import)"
      ],
      "metadata": {
        "id": "3wSGzDW_srMd"
      },
      "execution_count": null,
      "outputs": []
    },
    {
      "cell_type": "markdown",
      "source": [
        "# Extracting Public Key and Saving to AES Password Protected File Using Python Script"
      ],
      "metadata": {
        "id": "kBnRf_QOxX-8"
      }
    },
    {
      "cell_type": "code",
      "source": [
        "! cat Colegio_Invisible/scripts/ecc_pubkey_extract.py"
      ],
      "metadata": {
        "id": "9O_Vtv2xubi_"
      },
      "execution_count": null,
      "outputs": []
    },
    {
      "cell_type": "code",
      "source": [
        "! python Colegio_Invisible/scripts/ecc_pubkey_extract.py keys/my_privkey.enc keys/my_pubkey.enc"
      ],
      "metadata": {
        "id": "prTaNWG2HlUs"
      },
      "execution_count": null,
      "outputs": []
    },
    {
      "cell_type": "markdown",
      "source": [
        "## Dumping the Contents of an AES Password Protected Key File Using a Python Script"
      ],
      "metadata": {
        "id": "KIqqHFLP4LPp"
      }
    },
    {
      "cell_type": "code",
      "source": [
        "! cat Colegio_Invisible/scripts/ecc_keydump.py "
      ],
      "metadata": {
        "id": "eIDTGLpe6CLE"
      },
      "execution_count": null,
      "outputs": []
    },
    {
      "cell_type": "code",
      "source": [
        "! python Colegio_Invisible/scripts/ecc_keydump.py keys/my_pubkey.enc"
      ],
      "metadata": {
        "id": "Ltrd5U5RHLVO"
      },
      "execution_count": null,
      "outputs": []
    },
    {
      "cell_type": "code",
      "source": [
        "pubkey=!{'python Colegio_Invisible/scripts/ecc_keydump.py keys/my_pubkey.enc'}\n",
        "pubkey"
      ],
      "metadata": {
        "id": "olPnJ0UIHdMM"
      },
      "execution_count": null,
      "outputs": []
    },
    {
      "cell_type": "code",
      "source": [
        "bytes.fromhex(pubkey[-1])"
      ],
      "metadata": {
        "id": "q86xgC-5H53K"
      },
      "execution_count": null,
      "outputs": []
    },
    {
      "cell_type": "markdown",
      "source": [
        "---\n",
        "## Digital Signature\n",
        "\n",
        "\n",
        "Digital signature is a means by which we ensure the authenticity and integrity of a message.\n",
        "\n",
        "- authenticity relates to the source of a message\n",
        "- integrity relates to the fact that a message has not been tampered with by adding, removing or changing its content\n",
        "\n",
        "**ECDSA** (Elliptic Curve Digital Signature Algoritm) is an algorithm for performing digital signature using elliptic curve cryptography. \n",
        "\n",
        "- signature is performed using a private key and a text in byte form\n",
        "- the signature algortitm is used generate a signature \n",
        "- verification is performed using the triplet signature/text/publickey\n",
        " \n",
        "https://en.wikipedia.org/wiki/Elliptic_Curve_Digital_Signature_Algorithm\n",
        "\n",
        "*SECURITY NOTE:* the text and signature can be used to recover the public key value\n",
        "\n",
        "<br></br>\n",
        "<div>\n",
        "<img src=\"attachment:Digital-signature-signing-and-verification.png\" width=\"500\"/>\n",
        "</div>\n"
      ],
      "metadata": {
        "id": "-xRcwytz7NtV"
      }
    },
    {
      "cell_type": "markdown",
      "source": [
        "## Sign Message"
      ],
      "metadata": {
        "id": "feMY7yG98J25"
      }
    },
    {
      "cell_type": "code",
      "source": [
        "### lets make two messages\n",
        "message_A=b'this is message A'\n",
        "message_B=b'this is message B'"
      ],
      "metadata": {
        "id": "wQgJi-bu70YH"
      },
      "execution_count": null,
      "outputs": []
    },
    {
      "cell_type": "code",
      "source": [
        "### now lets criss-cross the two keys and two messages\n",
        "signature_1A=privKey1.sign_msg(message_A)\n",
        "signature_1B=privKey1.sign_msg(message_B)\n",
        "signature_2A=privKey2.sign_msg(message_A)\n",
        "signature_2B=privKey2.sign_msg(message_B)"
      ],
      "metadata": {
        "id": "a2Uonml28Sxf"
      },
      "execution_count": null,
      "outputs": []
    },
    {
      "cell_type": "markdown",
      "source": [
        "## Dump the Contents of the Signature as Bytes"
      ],
      "metadata": {
        "id": "XHyhPAWA8YCs"
      }
    },
    {
      "cell_type": "code",
      "source": [
        "sig_bytes=signature_1A.to_bytes()\n",
        "sig_bytes"
      ],
      "metadata": {
        "id": "gOFc0Ep48WTo"
      },
      "execution_count": null,
      "outputs": []
    },
    {
      "cell_type": "code",
      "source": [
        "new_sig=eth_keys.datatypes.Signature(sig_bytes)\n",
        "new_sig, type(new_sig)"
      ],
      "metadata": {
        "id": "CevYLJagAj1U"
      },
      "execution_count": null,
      "outputs": []
    },
    {
      "cell_type": "markdown",
      "source": [
        "## Sign File with Private Key using Python Script"
      ],
      "metadata": {
        "id": "RVVtmbWR8-0m"
      }
    },
    {
      "cell_type": "code",
      "source": [
        "! cat Colegio_Invisible/scripts/ecc_sign.py"
      ],
      "metadata": {
        "id": "Cms3vKI870yh"
      },
      "execution_count": null,
      "outputs": []
    },
    {
      "cell_type": "code",
      "source": [
        "! python Colegio_Invisible/scripts/ecc_sign.py  keys/my_privkey.enc '' Colegio_Invisible/img/colegio_invisible.jpeg ic_img.sig"
      ],
      "metadata": {
        "id": "YMUccqeQqphM"
      },
      "execution_count": null,
      "outputs": []
    },
    {
      "cell_type": "code",
      "source": [
        "! python Colegio_Invisible/scripts/sha_256.py Colegio_Invisible/img/colegio_invisible.jpeg"
      ],
      "metadata": {
        "id": "RHdsMyhcpoA1"
      },
      "execution_count": null,
      "outputs": []
    },
    {
      "cell_type": "markdown",
      "source": [
        "## Verify Signature"
      ],
      "metadata": {
        "id": "1cKbbDLV_9Vm"
      }
    },
    {
      "cell_type": "code",
      "source": [
        "#if signature, message and key match then True\n",
        "signature_1A.verify_msg(message_A,pubKey1)"
      ],
      "metadata": {
        "id": "Zc53d2f3DXab"
      },
      "execution_count": null,
      "outputs": []
    },
    {
      "cell_type": "code",
      "source": [
        "#if message does not match\n",
        "signature_1A.verify_msg(message_B,pubKey1)"
      ],
      "metadata": {
        "id": "qJaV970wDaxq"
      },
      "execution_count": null,
      "outputs": []
    },
    {
      "cell_type": "code",
      "source": [
        "#if public key does not match\n",
        "signature_1A.verify_msg(message_A,pubKey2)"
      ],
      "metadata": {
        "id": "0I1RBBB0DeVn"
      },
      "execution_count": null,
      "outputs": []
    },
    {
      "cell_type": "code",
      "source": [
        "signature_2B.verify_msg(message_B,pubKey2)"
      ],
      "metadata": {
        "id": "aqIP8lKGDejG"
      },
      "execution_count": null,
      "outputs": []
    },
    {
      "cell_type": "markdown",
      "source": [
        "## Verify Signature/Message/PublicKey Triplet with Python Script"
      ],
      "metadata": {
        "id": "Qc5Lmg3fFcs_"
      }
    },
    {
      "cell_type": "code",
      "source": [
        "! cat Colegio_Invisible/scripts/ecc_verify.py"
      ],
      "metadata": {
        "id": "19NC9QC9ulIn"
      },
      "execution_count": null,
      "outputs": []
    },
    {
      "cell_type": "code",
      "source": [
        "! python Colegio_Invisible/scripts/ecc_verify.py keys/my_pubkey.enc '' Colegio_Invisible/img/colegio_invisible.jpeg ic_img.sig"
      ],
      "metadata": {
        "id": "rGhZ6-nqsY1V"
      },
      "execution_count": null,
      "outputs": []
    },
    {
      "cell_type": "markdown",
      "source": [
        "# ECIES\n",
        "\n",
        "ECIES stands for Elliptic Curve Integrated Encryption Scheme. It is a hybrid scheme where we use both ECC and AES.\n",
        "\n",
        "The process goes as follows:\n",
        "\n",
        "***SENDING...***\n",
        "\n",
        "1. The sender generates a one-time-use AES encryption key (session key)\n",
        "2. The sender encrypts the plain text with the **AES session key** and produces a cipher text\n",
        "3. The sender then encrypts the AES session key with the **reciever public key**\n",
        "4. The sender then packages the encrypted file and the encrypted key together\n",
        "\n",
        "***RECIEVING...***\n",
        "\n",
        "5. The **reciever private key** is used to decrypt the **encrypted AES session key**\n",
        "6. The **decrypted AES session key** is used to decrypt the ciper text...recovering the plain text\n",
        "\n",
        "---\n",
        "---"
      ],
      "metadata": {
        "id": "kGR4w7qkFtgt"
      }
    },
    {
      "cell_type": "markdown",
      "source": [
        "## Encrypt"
      ],
      "metadata": {
        "id": "ddHFhTxYF6U6"
      }
    },
    {
      "cell_type": "code",
      "source": [
        "ciphertext_1A=ecies.encrypt(pubKey1.to_hex(),msg=message_A)\n",
        "ciphertext_1A"
      ],
      "metadata": {
        "id": "RNxRoI8yF_FL"
      },
      "execution_count": null,
      "outputs": []
    },
    {
      "cell_type": "code",
      "source": [
        "ciphertext_2B=ecies.encrypt(pubKey2.to_hex(),msg=message_B)\n",
        "ciphertext_2B"
      ],
      "metadata": {
        "id": "t3XGXv_6F_TU"
      },
      "execution_count": null,
      "outputs": []
    },
    {
      "cell_type": "markdown",
      "source": [
        "## Encrypt File with Python Script"
      ],
      "metadata": {
        "id": "IT5R65jtGGXn"
      }
    },
    {
      "cell_type": "code",
      "source": [
        "! cat Colegio_Invisible/scripts/ecc_encrypt.py"
      ],
      "metadata": {
        "id": "Xa_rCKjiGNwV"
      },
      "execution_count": null,
      "outputs": []
    },
    {
      "cell_type": "code",
      "source": [
        "! python Colegio_Invisible/scripts/ecc_encrypt.py keys/my_pubkey.enc '' Colegio_Invisible/img/colegio_invisible.jpeg colegio_invisible.enc"
      ],
      "metadata": {
        "id": "t9p6w_0nvlnm"
      },
      "execution_count": null,
      "outputs": []
    },
    {
      "cell_type": "markdown",
      "source": [
        "## Decrypt"
      ],
      "metadata": {
        "id": "cBcLXZPHGeVp"
      }
    },
    {
      "cell_type": "code",
      "source": [
        "ecies.decrypt(privKey1.to_hex(),ciphertext_1A)"
      ],
      "metadata": {
        "id": "bglRA62tGhyi"
      },
      "execution_count": null,
      "outputs": []
    },
    {
      "cell_type": "code",
      "source": [
        "ecies.decrypt(privKey2.to_hex(),ciphertext_2B)"
      ],
      "metadata": {
        "id": "aY_20Zv3Gh-i"
      },
      "execution_count": null,
      "outputs": []
    },
    {
      "cell_type": "code",
      "source": [
        "#if we use the wrong key...\n",
        "ecies.decrypt(privKey1.to_hex(),ciphertext_2B)"
      ],
      "metadata": {
        "id": "YMf8b79dGiI8"
      },
      "execution_count": null,
      "outputs": []
    },
    {
      "cell_type": "markdown",
      "source": [
        "## Decrypt Using Python Script"
      ],
      "metadata": {
        "id": "JFIJbrsfHgOw"
      }
    },
    {
      "cell_type": "code",
      "source": [
        "! python Colegio_Invisible/scripts/ecc_decrypt.py keys/my_privkey.enc '' colegio_invisible.enc colegio_invisible_dec.jpeg"
      ],
      "metadata": {
        "id": "XI7k1rrGDhfZ"
      },
      "execution_count": null,
      "outputs": []
    },
    {
      "cell_type": "code",
      "source": [
        "from IPython.display import Image\n",
        "display(Image('colegio_invisible_dec.jpeg'))"
      ],
      "metadata": {
        "id": "3MRHbz2TGAjJ"
      },
      "execution_count": null,
      "outputs": []
    },
    {
      "cell_type": "code",
      "source": [
        ""
      ],
      "metadata": {
        "id": "AH1HjzyFKiHp"
      },
      "execution_count": null,
      "outputs": []
    },
    {
      "cell_type": "code",
      "source": [
        ""
      ],
      "metadata": {
        "id": "eM3jE-fBIs4B"
      },
      "execution_count": null,
      "outputs": []
    }
  ]
}