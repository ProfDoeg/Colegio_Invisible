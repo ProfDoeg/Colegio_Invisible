{
  "cells": [
    {
      "cell_type": "markdown",
      "metadata": {
        "id": "N5LxjU3GVoI3"
      },
      "source": [
        "<a href=\"https://colab.research.google.com/github/ProfDoeg/Colegio_Invisible/blob/master/02_cuaderno.ipynb\" target=\"_parent\"><img src=\"https://colab.research.google.com/assets/colab-badge.svg\" alt=\"Open In Colab\"/></a>"
      ]
    },
    {
      "cell_type": "code",
      "execution_count": 1,
      "metadata": {
        "colab": {
          "base_uri": "https://localhost:8080/",
          "height": 17
        },
        "id": "GdDylRrmVoI7",
        "outputId": "60de255c-8ef6-4b5a-f90e-f89161ce0cbc"
      },
      "outputs": [
        {
          "output_type": "display_data",
          "data": {
            "text/html": [
              "<style>.container { width:95% !important; }</style>"
            ],
            "text/plain": [
              "<IPython.core.display.HTML object>"
            ]
          },
          "metadata": {}
        }
      ],
      "source": [
        "from IPython.core.display import display, HTML\n",
        "display(HTML(\"<style>.container { width:95% !important; }</style>\"))"
      ]
    },
    {
      "cell_type": "code",
      "source": [
        "#! rm -r Colegio_Invisible"
      ],
      "metadata": {
        "id": "IPvMGuGQKw2v"
      },
      "execution_count": 2,
      "outputs": []
    },
    {
      "cell_type": "code",
      "execution_count": 3,
      "metadata": {
        "colab": {
          "base_uri": "https://localhost:8080/"
        },
        "id": "11xNrqZGVoI9",
        "outputId": "b3765e40-b846-4208-a169-916516bb52e6"
      },
      "outputs": [
        {
          "output_type": "stream",
          "name": "stdout",
          "text": [
            "Cloning into 'Colegio_Invisible'...\n",
            "remote: Enumerating objects: 142, done.\u001b[K\n",
            "remote: Counting objects: 100% (142/142), done.\u001b[K\n",
            "remote: Compressing objects: 100% (140/140), done.\u001b[K\n",
            "remote: Total 142 (delta 82), reused 0 (delta 0), pack-reused 0\u001b[K\n",
            "Receiving objects: 100% (142/142), 8.67 MiB | 13.00 MiB/s, done.\n",
            "Resolving deltas: 100% (82/82), done.\n"
          ]
        }
      ],
      "source": [
        "! git clone https://github.com/ProfDoeg/Colegio_Invisible.git"
      ]
    },
    {
      "cell_type": "code",
      "source": [
        "! pip install cryptos"
      ],
      "metadata": {
        "id": "bBaL_6Hlw1Ql"
      },
      "execution_count": null,
      "outputs": []
    },
    {
      "cell_type": "code",
      "source": [
        "! pip install eciespy"
      ],
      "metadata": {
        "id": "S7rmEsvbw6Ai"
      },
      "execution_count": null,
      "outputs": []
    },
    {
      "cell_type": "markdown",
      "metadata": {
        "id": "wOOQZ8WBVoI8"
      },
      "source": [
        "# Basic Cryptography and Script Writing\n",
        "\n",
        "## Outline\n",
        "\n",
        "In this introduction we cover:\n",
        "\n",
        "- cryptographic hash functions\n",
        "- symmetric cryptography\n",
        "- asymmetric cryptography\n",
        "- scripts\n",
        "\n",
        "By the end of the exposition you will:\n",
        "\n",
        "- understand the structure of python script\n",
        "- be able to run a Python script from terminal\n",
        "- be able direct the script with user input\n",
        "- understand the features of a cryptographic **hash function**\n",
        "- be able to hash a string or file using **SHA256**\n",
        "- understand the features of **symmetric cryptography**\n",
        "- be able to generate an **AES** cryptographic **key**\n",
        "- be able to **AES encrypt** a string or file using a symmetric key\n",
        "- be able to **AES decrypt** a string or file using AES\n",
        "- understand the features of **asymmetric cryptography**\n",
        "- be able to generate a new **private key** object\n",
        "- be able to access the byte or hex value of the private key\n",
        "- be able to import a previously generated **private key** from bytes\n",
        "- be able to extract a **public key** from the private key\n",
        "- be able to access the byte or hex value of the public key\n",
        "- understand ECDSA digital signature\n",
        "- be able to **sign** a message with a private key\n",
        "- be able to **verify** a message signature with a public key\n",
        "- understand ECIES\n",
        "- be able to **ECIES encrypt** with a public key\n",
        "- be able to **ECIES decrypt** with a private key\n",
        "\n",
        "----"
      ]
    },
    {
      "cell_type": "markdown",
      "source": [
        "# Cryptographic Hash Functions\n",
        "\n",
        "A cryptographic hash function is an algorithm that takes an arbitrary amount of data input and produces a fixed-size output  of gibberish called a digest, checksum, fingerprint, hash code, hash value, or just “hash.” \n",
        "\n",
        "$$ F(\\text{input})\\longrightarrow \\text{hash}$$\n",
        "\n",
        "Cryptographic hash function should have the following features. They should be:\n",
        "\n",
        "- **[ONE-WAY FUNCTION]** the input to the function cannot be derived from the output \n",
        "- **[INPUT HYPERSENSITIVITE]** a tiny change in input should drastically change output\n",
        "- **[DETERMINISTIC]** the output of the function should always be the same for a given input\n",
        "-  **[NON-PREDICTABLE]** there are no computational short cuts in producing the hash from the input\n",
        "- **[COLLISION RESISTANT]** two different inputs should never produce the same hash ouput for the remainder of all human history\n",
        "\n",
        "**SHA256** is a cryptographic hash function with a 256 bit output prescribed by the U.S. National Institute of Standards and Technology.\n",
        "\n",
        "We implement SHA256 in Python using the **`hashlib`**"
      ],
      "metadata": {
        "id": "2iIHrHcWglsQ"
      }
    },
    {
      "cell_type": "markdown",
      "source": [
        "## Apply SHA256 using Terminal\n",
        "\n",
        "UNIX like systems can hash from the terminal\n",
        "\n",
        "It can be done on:\n",
        "\n",
        "- a string\n",
        "- a file"
      ],
      "metadata": {
        "id": "dh19kXZU2sP3"
      }
    },
    {
      "cell_type": "code",
      "source": [
        "! echo 🐶| shasum -a 256 "
      ],
      "metadata": {
        "colab": {
          "base_uri": "https://localhost:8080/"
        },
        "id": "_v9w4MCVUY3L",
        "outputId": "1d9a5ac0-4f7e-4f65-a2fe-0da89ab883e8"
      },
      "execution_count": 4,
      "outputs": [
        {
          "output_type": "stream",
          "name": "stdout",
          "text": [
            "8890ce374cabbc70638ffa32507e16ca240fd1631907897c65b3e439dc2fa131  -\n"
          ]
        }
      ]
    },
    {
      "cell_type": "code",
      "source": [
        "! ls Colegio_Invisible/img"
      ],
      "metadata": {
        "colab": {
          "base_uri": "https://localhost:8080/"
        },
        "id": "4Z2w44o_3M-l",
        "outputId": "d4cfc467-f3a8-4846-9381-b5a4ebe8854f"
      },
      "execution_count": 5,
      "outputs": [
        {
          "output_type": "stream",
          "name": "stdout",
          "text": [
            "colegio_invisible.jpeg\thg_drop.jpeg  hg_house.jpeg   hg_rough.png\n",
            "hg_cry.jpeg\t\thg_hide.jpeg  hg_invite.jpeg  hg_xmas.jpeg\n"
          ]
        }
      ]
    },
    {
      "cell_type": "code",
      "source": [
        "! shasum -a 256 Colegio_Invisible/img/colegio_invisible.jpeg"
      ],
      "metadata": {
        "colab": {
          "base_uri": "https://localhost:8080/"
        },
        "id": "gajLm7Dr3Hfw",
        "outputId": "5f979da4-b639-47c3-bf74-dddac49f4a85"
      },
      "execution_count": 6,
      "outputs": [
        {
          "output_type": "stream",
          "name": "stdout",
          "text": [
            "1d5879bb04266dc0c215414dcc2045ea09082c45f532657fc8bc0bbaab588fce  Colegio_Invisible/img/colegio_invisible.jpeg\n"
          ]
        }
      ]
    },
    {
      "cell_type": "markdown",
      "source": [
        "## Hashing Using Python"
      ],
      "metadata": {
        "id": "3qu9kmB2Glbi"
      }
    },
    {
      "cell_type": "markdown",
      "source": [
        "### Python Hashing Module `hashlib`\n",
        "\n",
        "We will be using the **`hashlib`** module to do our hashing work. A module is a toybox filled with delights.\n"
      ],
      "metadata": {
        "id": "F-0wiUL9iKE0"
      }
    },
    {
      "cell_type": "code",
      "source": [
        "import hashlib\n",
        "type(hashlib)"
      ],
      "metadata": {
        "colab": {
          "base_uri": "https://localhost:8080/"
        },
        "id": "ZrtVdbW0lCRn",
        "outputId": "c2397c39-8a2b-40b1-903c-11b960f94efa"
      },
      "execution_count": 7,
      "outputs": [
        {
          "output_type": "execute_result",
          "data": {
            "text/plain": [
              "module"
            ]
          },
          "metadata": {},
          "execution_count": 7
        }
      ]
    },
    {
      "cell_type": "code",
      "source": [
        "hashlib.algorithms_available"
      ],
      "metadata": {
        "colab": {
          "base_uri": "https://localhost:8080/"
        },
        "id": "Xq73WkShlg_U",
        "outputId": "12b9e930-8d3a-4ab9-dddd-64767cb84b6a"
      },
      "execution_count": 8,
      "outputs": [
        {
          "output_type": "execute_result",
          "data": {
            "text/plain": [
              "{'blake2b',\n",
              " 'blake2s',\n",
              " 'md5',\n",
              " 'sha1',\n",
              " 'sha224',\n",
              " 'sha256',\n",
              " 'sha384',\n",
              " 'sha3_224',\n",
              " 'sha3_256',\n",
              " 'sha3_384',\n",
              " 'sha3_512',\n",
              " 'sha512',\n",
              " 'shake_128',\n",
              " 'shake_256'}"
            ]
          },
          "metadata": {},
          "execution_count": 8
        }
      ]
    },
    {
      "cell_type": "markdown",
      "source": [
        "### Prepare the Bytestring Input\n",
        "\n",
        "The input must be a bytestring, a string of `type` **`bytes`**.\n",
        "\n",
        "We can prepare a bytestring by:\n",
        "- using `b'  '` to write the literal\n",
        "- convert a string to `bytes` using `.encode()`  \n"
      ],
      "metadata": {
        "id": "hJgJV8uCvFBW"
      }
    },
    {
      "cell_type": "code",
      "source": [
        "b'a byte string'"
      ],
      "metadata": {
        "colab": {
          "base_uri": "https://localhost:8080/"
        },
        "id": "8zZngqUPu9sn",
        "outputId": "7fa3eccb-15f2-4619-b5e9-54a419b84d4e"
      },
      "execution_count": 19,
      "outputs": [
        {
          "output_type": "execute_result",
          "data": {
            "text/plain": [
              "b'a byte string'"
            ]
          },
          "metadata": {},
          "execution_count": 19
        }
      ]
    },
    {
      "cell_type": "code",
      "source": [
        "type(b'a byte string')"
      ],
      "metadata": {
        "colab": {
          "base_uri": "https://localhost:8080/"
        },
        "id": "9ZkueidDnmz8",
        "outputId": "4e77ab1a-14ca-4143-8635-88f33dfb7538"
      },
      "execution_count": 14,
      "outputs": [
        {
          "output_type": "execute_result",
          "data": {
            "text/plain": [
              "bytes"
            ]
          },
          "metadata": {},
          "execution_count": 14
        }
      ]
    },
    {
      "cell_type": "code",
      "source": [
        "type('🐶')"
      ],
      "metadata": {
        "colab": {
          "base_uri": "https://localhost:8080/"
        },
        "id": "1S9LiMZr0F0t",
        "outputId": "10cca2d9-5031-4b2f-a45c-b769d5c40736"
      },
      "execution_count": 9,
      "outputs": [
        {
          "output_type": "execute_result",
          "data": {
            "text/plain": [
              "str"
            ]
          },
          "metadata": {},
          "execution_count": 9
        }
      ]
    },
    {
      "cell_type": "code",
      "source": [
        "str.encode('🐶')"
      ],
      "metadata": {
        "colab": {
          "base_uri": "https://localhost:8080/"
        },
        "id": "ktrgwEjj0S5b",
        "outputId": "accad334-e758-4ada-ef0b-bfb3e3881672"
      },
      "execution_count": 10,
      "outputs": [
        {
          "output_type": "execute_result",
          "data": {
            "text/plain": [
              "b'\\xf0\\x9f\\x90\\xb6'"
            ]
          },
          "metadata": {},
          "execution_count": 10
        }
      ]
    },
    {
      "cell_type": "code",
      "source": [
        "'🐶'.encode()"
      ],
      "metadata": {
        "colab": {
          "base_uri": "https://localhost:8080/"
        },
        "id": "2RmCa4Wsu4qa",
        "outputId": "abfcdc46-dc0d-4173-bc96-01bc5038f928"
      },
      "execution_count": 12,
      "outputs": [
        {
          "output_type": "execute_result",
          "data": {
            "text/plain": [
              "b'\\xf0\\x9f\\x90\\xb6'"
            ]
          },
          "metadata": {},
          "execution_count": 12
        }
      ]
    },
    {
      "cell_type": "markdown",
      "source": [
        "### Apply SHA256 to Bytestring using Python\n",
        "\n",
        "We will be using `sha256`. The following code creates a `sha256 HASH object`\n",
        "\n",
        "- `.digest()` returns the sha256 digest as a bytestring\n",
        "- `.hexdigest()` returns the sha256 digest as a hexstring"
      ],
      "metadata": {
        "id": "rK8rkYF70K9F"
      }
    },
    {
      "cell_type": "code",
      "source": [
        "H=hashlib.sha256(b'a byte string')\n",
        "H"
      ],
      "metadata": {
        "colab": {
          "base_uri": "https://localhost:8080/"
        },
        "id": "5PpqFli9mF4z",
        "outputId": "cae5dae8-ecf9-4025-9fed-761bad36bb2c"
      },
      "execution_count": 13,
      "outputs": [
        {
          "output_type": "execute_result",
          "data": {
            "text/plain": [
              "<sha256 HASH object @ 0x7f6c6a1f0d20>"
            ]
          },
          "metadata": {},
          "execution_count": 13
        }
      ]
    },
    {
      "cell_type": "code",
      "source": [
        "H.hexdigest()"
      ],
      "metadata": {
        "colab": {
          "base_uri": "https://localhost:8080/",
          "height": 35
        },
        "id": "GPfHc1I5n51-",
        "outputId": "4a8c7b23-e33f-47e7-f1f0-03f4512b82ef"
      },
      "execution_count": 14,
      "outputs": [
        {
          "output_type": "execute_result",
          "data": {
            "application/vnd.google.colaboratory.intrinsic+json": {
              "type": "string"
            },
            "text/plain": [
              "'c4305ca4e36e8476a629d8e9ff44b4edcdc0e1d8843baa06d5e2c070a79f4986'"
            ]
          },
          "metadata": {},
          "execution_count": 14
        }
      ]
    },
    {
      "cell_type": "code",
      "source": [
        "H.digest()"
      ],
      "metadata": {
        "colab": {
          "base_uri": "https://localhost:8080/"
        },
        "id": "8vAKpEpRuuFL",
        "outputId": "913dce9c-76ae-4dff-d085-fcf48087ab3e"
      },
      "execution_count": 15,
      "outputs": [
        {
          "output_type": "execute_result",
          "data": {
            "text/plain": [
              "b'\\xc40\\\\\\xa4\\xe3n\\x84v\\xa6)\\xd8\\xe9\\xffD\\xb4\\xed\\xcd\\xc0\\xe1\\xd8\\x84;\\xaa\\x06\\xd5\\xe2\\xc0p\\xa7\\x9fI\\x86'"
            ]
          },
          "metadata": {},
          "execution_count": 15
        }
      ]
    },
    {
      "cell_type": "code",
      "source": [
        "hashlib.sha256( '🐶'.encode() ).digest()"
      ],
      "metadata": {
        "colab": {
          "base_uri": "https://localhost:8080/"
        },
        "id": "9Mc2HUdPUYw3",
        "outputId": "88935061-750f-459c-dfb6-3667c4b079a8"
      },
      "execution_count": 16,
      "outputs": [
        {
          "output_type": "execute_result",
          "data": {
            "text/plain": [
              "b'\\x89^\\xb9\\xa2\\xe6\\xd4\\x97\\xe2*EjU\\xf4\\x03)=\\x80p1,\\x95&@\\xb4\\x98\\xb7\\xb6\\x80\\xdaG\\xa3\\xac'"
            ]
          },
          "metadata": {},
          "execution_count": 16
        }
      ]
    },
    {
      "cell_type": "code",
      "source": [
        "hashlib.sha256( '🐶'.encode() ).hexdigest()"
      ],
      "metadata": {
        "colab": {
          "base_uri": "https://localhost:8080/",
          "height": 35
        },
        "id": "Q-gSyLLr2i3c",
        "outputId": "aa17c6ea-fef7-452b-977e-c4161418d81b"
      },
      "execution_count": 17,
      "outputs": [
        {
          "output_type": "execute_result",
          "data": {
            "application/vnd.google.colaboratory.intrinsic+json": {
              "type": "string"
            },
            "text/plain": [
              "'895eb9a2e6d497e22a456a55f403293d8070312c952640b498b7b680da47a3ac'"
            ]
          },
          "metadata": {},
          "execution_count": 17
        }
      ]
    },
    {
      "cell_type": "code",
      "source": [
        "hashlib.sha256( '🐶\\n'.encode() ).hexdigest()"
      ],
      "metadata": {
        "colab": {
          "base_uri": "https://localhost:8080/",
          "height": 35
        },
        "id": "7GvYcD8LEXs8",
        "outputId": "c012f822-eda8-488a-9c53-63ab88d930d9"
      },
      "execution_count": 18,
      "outputs": [
        {
          "output_type": "execute_result",
          "data": {
            "application/vnd.google.colaboratory.intrinsic+json": {
              "type": "string"
            },
            "text/plain": [
              "'8890ce374cabbc70638ffa32507e16ca240fd1631907897c65b3e439dc2fa131'"
            ]
          },
          "metadata": {},
          "execution_count": 18
        }
      ]
    },
    {
      "cell_type": "markdown",
      "source": [
        "### Apply SHA256 to File using Python\n",
        "\n",
        "File is opened as **binary** using `open()` in mode `'rb'` read binary."
      ],
      "metadata": {
        "id": "a07T4_YOCGnH"
      }
    },
    {
      "cell_type": "code",
      "source": [
        "img_file=open('Colegio_Invisible/img/colegio_invisible.jpeg','rb')\n",
        "img_bytes=img_file.read()\n",
        "img_file.close()"
      ],
      "metadata": {
        "id": "yCpYiSVjB5Cy"
      },
      "execution_count": 19,
      "outputs": []
    },
    {
      "cell_type": "code",
      "source": [
        "hashlib.sha256( img_bytes ).hexdigest()"
      ],
      "metadata": {
        "colab": {
          "base_uri": "https://localhost:8080/",
          "height": 35
        },
        "id": "G0K2vrLGDNf6",
        "outputId": "47bc9fc4-0e5e-49ae-d32e-98d1fbcf6e29"
      },
      "execution_count": 20,
      "outputs": [
        {
          "output_type": "execute_result",
          "data": {
            "application/vnd.google.colaboratory.intrinsic+json": {
              "type": "string"
            },
            "text/plain": [
              "'1d5879bb04266dc0c215414dcc2045ea09082c45f532657fc8bc0bbaab588fce'"
            ]
          },
          "metadata": {},
          "execution_count": 20
        }
      ]
    },
    {
      "cell_type": "code",
      "source": [
        "def sha256_file(path):\n",
        "  bytestring = open(path,'rb').read()\n",
        "  return hashlib.sha256( bytestring ).hexdigest()"
      ],
      "metadata": {
        "id": "eSsWZ95uDbOz"
      },
      "execution_count": 21,
      "outputs": []
    },
    {
      "cell_type": "code",
      "source": [
        "sha256_file('Colegio_Invisible/img/colegio_invisible.jpeg')"
      ],
      "metadata": {
        "colab": {
          "base_uri": "https://localhost:8080/",
          "height": 35
        },
        "id": "i6uuyzg6DyYB",
        "outputId": "de3f9079-487b-466d-81c6-d51820a4eafb"
      },
      "execution_count": 22,
      "outputs": [
        {
          "output_type": "execute_result",
          "data": {
            "application/vnd.google.colaboratory.intrinsic+json": {
              "type": "string"
            },
            "text/plain": [
              "'1d5879bb04266dc0c215414dcc2045ea09082c45f532657fc8bc0bbaab588fce'"
            ]
          },
          "metadata": {},
          "execution_count": 22
        }
      ]
    },
    {
      "cell_type": "code",
      "source": [
        ""
      ],
      "metadata": {
        "id": "Ve5-yn6tUY6A"
      },
      "execution_count": null,
      "outputs": []
    },
    {
      "cell_type": "markdown",
      "source": [
        "### Apply SHA256 to File Using a Python Script\n",
        "\n",
        "Here the Python program is packaged in a script.\n",
        "\n",
        "- a script is called from the Terminal following a call to `python`\n",
        "- arguments can be passed to the script using `argv`\n",
        "\n",
        "`> python path/to/script.py arg1 arg2`"
      ],
      "metadata": {
        "id": "RGmtIYE3G9Mo"
      }
    },
    {
      "cell_type": "markdown",
      "source": [
        "Look at the contents of script `sha_256.py` in `Colegio_Invisible/scripts` \n",
        "\n",
        "https://www.sublimetext.com/"
      ],
      "metadata": {
        "id": "LDEDh_kDQg14"
      }
    },
    {
      "cell_type": "code",
      "source": [
        "! cat Colegio_Invisible/scripts/sha_256.py"
      ],
      "metadata": {
        "colab": {
          "base_uri": "https://localhost:8080/"
        },
        "id": "6vRc6mQqUY88",
        "outputId": "ba3b5320-d919-4c86-d74c-19c92a4207a4"
      },
      "execution_count": 51,
      "outputs": [
        {
          "output_type": "stream",
          "name": "stdout",
          "text": [
            "##################################################################################\n",
            "# this script will generate an SHA256 hash of input\n",
            "#\n",
            "# run at the terminal using the following\n",
            "# > python sha_256.py <FILE_PATH> \n",
            "# <FILE_PATH>: path to file\n",
            "#\n",
            "#EXAMPLE:\n",
            "#>python sha_256.py files/file_to_hash.bin\n",
            "#\n",
            "##################################################################################\n",
            "\n",
            "from sys import argv\n",
            "import hashlib\n",
            "\n",
            "\n",
            "if len(argv)==2:\n",
            "    _, file_path= argv\n",
            "elif len(argv)!=2:\n",
            "    print('Wrong number arguments. 1 expected.')\n",
            "    print('> python sha_256.py <FILE_PATH> ')\n",
            "    exit()\n",
            "\n",
            "\n",
            "def sha256_file(path):\n",
            "  bytestring = open(path,'rb').read()\n",
            "  return hashlib.sha256( bytestring ).hexdigest()\n",
            "\n",
            "#generate sha256 hash\n",
            "file_hash=sha256_file(file_path)\n",
            "\n",
            "print('Hashing complete') \n",
            "print('SHA256 of :', file_path)\n",
            "print(file_hash)"
          ]
        }
      ]
    },
    {
      "cell_type": "code",
      "source": [
        "! python Colegio_Invisible/scripts/sha_256.py "
      ],
      "metadata": {
        "colab": {
          "base_uri": "https://localhost:8080/"
        },
        "id": "C9PWcx2sLRF1",
        "outputId": "100a81d5-c4db-443c-b8c7-f1bc44da7220"
      },
      "execution_count": 23,
      "outputs": [
        {
          "output_type": "stream",
          "name": "stdout",
          "text": [
            "Wrong number arguments. 1 expected.\n",
            "> python sha_256.py <FILE_PATH> \n"
          ]
        }
      ]
    },
    {
      "cell_type": "code",
      "source": [
        "! python Colegio_Invisible/scripts/sha_256.py Colegio_Invisible/img/colegio_invisible.jpeg"
      ],
      "metadata": {
        "colab": {
          "base_uri": "https://localhost:8080/"
        },
        "id": "TXv_QqnWLZX6",
        "outputId": "a70e6292-e20d-4e9e-e468-8609e99a3e9b"
      },
      "execution_count": 24,
      "outputs": [
        {
          "output_type": "stream",
          "name": "stdout",
          "text": [
            "Hashing complete\n",
            "SHA256 of : Colegio_Invisible/img/colegio_invisible.jpeg\n",
            "1d5879bb04266dc0c215414dcc2045ea09082c45f532657fc8bc0bbaab588fce\n"
          ]
        }
      ]
    },
    {
      "cell_type": "code",
      "source": [
        "fileHash=! {'python Colegio_Invisible/scripts/sha_256.py Colegio_Invisible/img/colegio_invisible.jpeg'}\n",
        "fileHash"
      ],
      "metadata": {
        "colab": {
          "base_uri": "https://localhost:8080/"
        },
        "id": "LNncSCUyPCh-",
        "outputId": "effa7cc7-97bb-4726-c5e4-897b392b9a85"
      },
      "execution_count": 54,
      "outputs": [
        {
          "output_type": "execute_result",
          "data": {
            "text/plain": [
              "['Hashing complete',\n",
              " 'SHA256 of : Colegio_Invisible/img/colegio_invisible.jpeg',\n",
              " '1d5879bb04266dc0c215414dcc2045ea09082c45f532657fc8bc0bbaab588fce']"
            ]
          },
          "metadata": {},
          "execution_count": 54
        }
      ]
    },
    {
      "cell_type": "code",
      "source": [
        "fileHash[-1]"
      ],
      "metadata": {
        "colab": {
          "base_uri": "https://localhost:8080/",
          "height": 35
        },
        "id": "I1GyhnDuPRSt",
        "outputId": "16949beb-655b-4c16-c13d-6146c9a1bb83"
      },
      "execution_count": 55,
      "outputs": [
        {
          "output_type": "execute_result",
          "data": {
            "application/vnd.google.colaboratory.intrinsic+json": {
              "type": "string"
            },
            "text/plain": [
              "'1d5879bb04266dc0c215414dcc2045ea09082c45f532657fc8bc0bbaab588fce'"
            ]
          },
          "metadata": {},
          "execution_count": 55
        }
      ]
    },
    {
      "cell_type": "markdown",
      "source": [
        "# Symmetric Cryptography\n",
        "\n",
        "Encryption uses a key to map a plaintext to a ciphertext. Decryption is the reverse process where a key is used to map the ciphertext back to a plain text.\n",
        "\n",
        "Symmetric cryptography uses one single key that needs to be shared among all participants who are communicating. The encryption and decryption step use the same key.\n",
        "\n"
      ],
      "metadata": {
        "id": "mWUubkZdR8pW"
      }
    },
    {
      "cell_type": "markdown",
      "source": [
        "AES (Advanced Encryption Standard) is a symmetric block cipher standardized by NIST . It has a fixed data block size of 16 bytes. Its keys can be 128, 192, or 256 bits long.\n",
        "\n",
        "https://en.wikipedia.org/wiki/Advanced_Encryption_Standard\n",
        "\n"
      ],
      "metadata": {
        "id": "spGWfk2XwgCh"
      }
    },
    {
      "cell_type": "markdown",
      "source": [
        "## AES in Python Using `ecies`\n",
        "\n",
        "The **`eciespy`** library is an encryption library used in ethereum development. It does lots of things including including AES (symmetric encryption) and ECC (asymmetric cyptography). We will use it do most of our things.\n",
        "\n",
        "https://ecies.org/py/"
      ],
      "metadata": {
        "id": "zqjKOTkdzyS7"
      }
    },
    {
      "cell_type": "code",
      "execution_count": 31,
      "metadata": {
        "colab": {
          "base_uri": "https://localhost:8080/"
        },
        "id": "KyBP1TROVoI9",
        "outputId": "850b2d3c-af5a-4caa-821b-4ff40c6adebd"
      },
      "outputs": [
        {
          "output_type": "execute_result",
          "data": {
            "text/plain": [
              "module"
            ]
          },
          "metadata": {},
          "execution_count": 31
        }
      ],
      "source": [
        "import ecies\n",
        "type(ecies)"
      ]
    },
    {
      "cell_type": "markdown",
      "source": [
        "## Prepare the Encryption Key"
      ],
      "metadata": {
        "id": "NM2ZfEF20szM"
      }
    },
    {
      "cell_type": "code",
      "source": [
        "bytekey256=hashlib.sha256(b'semilla de mostaza').digest()\n",
        "bytekey256"
      ],
      "metadata": {
        "id": "4r1ebt-AyXqb",
        "outputId": "bc1e6fbb-49aa-4421-cff3-c449eac65312",
        "colab": {
          "base_uri": "https://localhost:8080/"
        }
      },
      "execution_count": 28,
      "outputs": [
        {
          "output_type": "execute_result",
          "data": {
            "text/plain": [
              "b'&c\\xa89\\x0f\\x8fq]G@`7\\xab\\xf4B\\x876\\x9ao\\xe5\\x9b=\\x91,7T\\xd8k\\xf5\\x1c\\xca\\xbc'"
            ]
          },
          "metadata": {},
          "execution_count": 28
        }
      ]
    },
    {
      "cell_type": "markdown",
      "source": [
        "The 256 bits are stored as 32 bytes. Remember each byte is 8 bits."
      ],
      "metadata": {
        "id": "_MBb0ksszSps"
      }
    },
    {
      "cell_type": "code",
      "source": [
        "len(bytekey256)"
      ],
      "metadata": {
        "id": "AdUibXy3ywSj",
        "outputId": "f9f2a871-319e-402b-f745-19c67d1edc23",
        "colab": {
          "base_uri": "https://localhost:8080/"
        }
      },
      "execution_count": 29,
      "outputs": [
        {
          "output_type": "execute_result",
          "data": {
            "text/plain": [
              "32"
            ]
          },
          "metadata": {},
          "execution_count": 29
        }
      ]
    },
    {
      "cell_type": "code",
      "source": [
        "len(bytekey256)*8"
      ],
      "metadata": {
        "id": "PmtMxMGEywWz",
        "outputId": "dd96666b-0607-4d01-c550-6d152028ad9a",
        "colab": {
          "base_uri": "https://localhost:8080/"
        }
      },
      "execution_count": 30,
      "outputs": [
        {
          "output_type": "execute_result",
          "data": {
            "text/plain": [
              "256"
            ]
          },
          "metadata": {},
          "execution_count": 30
        }
      ]
    },
    {
      "cell_type": "code",
      "source": [
        "! ls Colegio_Invisible/scripts\n",
        "! cat Colegio_Invisible/scripts/ecc_generate.py"
      ],
      "metadata": {
        "colab": {
          "base_uri": "https://localhost:8080/"
        },
        "id": "CyGdpdSpVda1",
        "outputId": "419b0a8b-a68a-4326-8b1b-95c9809076c5"
      },
      "execution_count": 5,
      "outputs": [
        {
          "output_type": "stream",
          "name": "stdout",
          "text": [
            "ecc_generate.py  ecc_keydump.py  ecc_pubkey_extract.py\n",
            "##################################################################################\n",
            "# this script will generate an ECC private key from a computer generate 256 bit random number\n",
            "# the key is saved to an AEC encrypted (password protected) file\n",
            "#\n",
            "# run at the terminal using the following\n",
            "# > python ecc_generate.py <PRIVKEY_PATH> <PRIVKEY_PASSWORD>\n",
            "# <PRIVKEY_PATH>: path to generated private key\n",
            "# <PRIVKEY_PASSWORD>: password for private key file\n",
            "#\n",
            "#EXAMPLE:\n",
            "#>python ecc_generate.py keys\\privkey.bin password123\n",
            "#\n",
            "# IF <PRIVKEY_PASSWORD> IS NOT INCLUDED USER WILL BE PROMPTED TO ENTER IT SECURELY\n",
            "##################################################################################\n",
            "\n",
            "from sys import argv\n",
            "import getpass\n",
            "import ecies\n",
            "import eth_keys\n",
            "import hashlib\n",
            "from Crypto.PublicKey import ECC\n",
            "from Crypto.Random import get_random_bytes\n",
            "\n",
            "\n",
            "if len(argv)==3:\n",
            "    _, privkey_path, privkey_password = argv\n",
            "elif len(argv)==2:\n",
            "    _, privkey_path = argv\n",
            "    while True:\n",
            "        privkey_password = getpass.getpass(\"Input password for encrypting keyfile: \")\n",
            "        privkey_password_2 = getpass.getpass(\"Repeat password for encrypting keyfile: \")\n",
            "        if privkey_password==privkey_password_2:\n",
            "            print('\\nPasswords match...')\n",
            "            break\n",
            "        else:\n",
            "            print('\\nPasswords do not match...')\n",
            "else:\n",
            "    print('Wrong number arguments. 1 or 2 expected.')\n",
            "    print('>python ecc_generate.py <PRIVKEY_PATH> <PRIVKEY_PASSWORD>')\n",
            "    print('IF <PRIVKEY_PASSWORD> IS NOT INCLUDED USER WILL BE PROMPTED TO ENTER IT SECURELY')\n",
            "    exit()\n",
            "\n",
            "def gen_privKey():\n",
            "    privKey=eth_keys.keys.PrivateKey(get_random_bytes(32) )\n",
            "    return privKey\n",
            "\n",
            "def save_key(key,path,password):\n",
            "    if type(password)!=bytes:\n",
            "        password=password.encode()\n",
            "    encrypted_bytes=ecies.aes_encrypt(key=hashlib.sha256(password).digest(),plain_text=key.to_bytes())\n",
            "    f=open(path,'wb')\n",
            "    f.write(encrypted_bytes)\n",
            "    f.close()\n",
            "    return encrypted_bytes\n",
            "\n",
            "#generate key\n",
            "privKey=gen_privKey()\n",
            "\n",
            "#generate password protected file\n",
            "encrypted_bytes=save_key(privKey,privkey_path,privkey_password)\n",
            "\n",
            "print('Private key generation complete') \n",
            "print('Private key encrypted and written to binary file:', privkey_path)\n",
            "print(encrypted_bytes.hex())"
          ]
        }
      ]
    },
    {
      "cell_type": "code",
      "source": [
        "! mkdir teclas"
      ],
      "metadata": {
        "id": "VtpQeDMOcB0n"
      },
      "execution_count": 5,
      "outputs": []
    },
    {
      "cell_type": "code",
      "source": [
        "! python Colegio_Invisible/scripts/ecc_generate.py teclas/my_privkey.enc"
      ],
      "metadata": {
        "colab": {
          "base_uri": "https://localhost:8080/"
        },
        "id": "xJMgIO8wV6NT",
        "outputId": "13b2eeff-e159-40e6-ae54-1e413d9b9b8f"
      },
      "execution_count": 6,
      "outputs": [
        {
          "output_type": "stream",
          "name": "stdout",
          "text": [
            "Input password for encrypting keyfile: \n",
            "Repeat password for encrypting keyfile: \n",
            "\n",
            "Passwords match...\n",
            "Private key generation complete\n",
            "Private key encrypted and written to binary file: teclas/my_privkey.enc\n",
            "f49ec9fa37a8b64912d1a1b2e5d45929d1bcb83549800841d8ed7e9b5cae4ae68a9a21d8a691fe95dafdc229a9c692b35ae7c3358bef51314d6b5d0bbf10b8e3\n"
          ]
        }
      ]
    },
    {
      "cell_type": "code",
      "source": [
        "#! rm -r Colegio_Invisible"
      ],
      "metadata": {
        "id": "dyHbhpTSYQRQ"
      },
      "execution_count": 7,
      "outputs": []
    },
    {
      "cell_type": "code",
      "source": [
        "! python Colegio_Invisible/scripts/ecc_pubkey_extract.py teclas/my_privkey.enc teclas/my_pubkey.enc"
      ],
      "metadata": {
        "colab": {
          "base_uri": "https://localhost:8080/"
        },
        "id": "b4E8KKXxYjaE",
        "outputId": "82b5d690-b7c2-4754-f896-f665042104c1"
      },
      "execution_count": 7,
      "outputs": [
        {
          "output_type": "stream",
          "name": "stdout",
          "text": [
            "Input password for private key file: \n",
            "Input password for public key file: \n",
            "Repeat password for public key file: \n",
            "\n",
            "Passwords match...\n",
            "Completed public key extraction from: teclas/my_privkey.enc\n",
            "Public key encrypted and written to binary file: teclas/my_pubkey.enc\n",
            "a86b28c0426c6dccf325d6c5d19e7aa798e5501e534c5c18f5be1422919996dbacd3a66a7a6c18337c9473ab5ec23d2aaf8fd9ee03576488a70af573a8c31382546dbae54e2d72936744f7f20cc9703e77864e6dd550fe957d66e1fa7f38badd\n"
          ]
        }
      ]
    },
    {
      "cell_type": "code",
      "source": [
        "! python Colegio_Invisible/scripts/ecc_keydump.py teclas/my_pubkey.enc"
      ],
      "metadata": {
        "colab": {
          "base_uri": "https://localhost:8080/"
        },
        "id": "_k94L3Iv7lUa",
        "outputId": "7f201a75-137d-4e14-8fc2-9e0a1d1e7dc1"
      },
      "execution_count": 8,
      "outputs": [
        {
          "output_type": "stream",
          "name": "stdout",
          "text": [
            "Input password for key file: \n",
            "0a8540f0d683628cb7e52b60c2e94c5b533c0c2febb1d18aa05df6d2413d9d4c19645c058a3675c7c8d3f6233ae239bb55c74d7ef573ec44644c9ac54356f59d\n"
          ]
        }
      ]
    },
    {
      "cell_type": "code",
      "source": [
        "pubkey=!{'python Colegio_Invisible/scripts/ecc_keydump.py teclas/my_pubkey.enc'}\n",
        "pubkey"
      ],
      "metadata": {
        "colab": {
          "base_uri": "https://localhost:8080/"
        },
        "id": "OCXWvtE-WTkP",
        "outputId": "2e909d5f-b0b4-4bb4-ffef-833b3e05c6b4"
      },
      "execution_count": 9,
      "outputs": [
        {
          "output_type": "execute_result",
          "data": {
            "text/plain": [
              "['Input password for key file: ',\n",
              " '0a8540f0d683628cb7e52b60c2e94c5b533c0c2febb1d18aa05df6d2413d9d4c19645c058a3675c7c8d3f6233ae239bb55c74d7ef573ec44644c9ac54356f59d']"
            ]
          },
          "metadata": {},
          "execution_count": 9
        }
      ]
    },
    {
      "cell_type": "code",
      "source": [
        "pbytes.fromhex(pubkey[-1])"
      ],
      "metadata": {
        "colab": {
          "base_uri": "https://localhost:8080/"
        },
        "id": "uxsLMpXtZs7Q",
        "outputId": "8f3324dc-ab0c-4f55-d080-834c40eb51d4"
      },
      "execution_count": 25,
      "outputs": [
        {
          "output_type": "execute_result",
          "data": {
            "text/plain": [
              "b'@\\x9d%\\xe0V[\\x1d\\x9e,\\x86\\x9cJs{o;JT\\xfd\\xf2:\\x82^_[\\xdb\\x03\"\\xec\\x10j\\xdcP!n\\xc5|_htv\\xba\\xe40I\\xf0\\xa4\\x83\\xcf4\\xb2\\x8b\\xc5PH\\xbf\\xe5Ib\\xf0@\\x07\\xc2\\x9b'"
            ]
          },
          "metadata": {},
          "execution_count": 25
        }
      ]
    },
    {
      "cell_type": "code",
      "source": [
        ""
      ],
      "metadata": {
        "id": "QQylCDQ0ZIpC"
      },
      "execution_count": null,
      "outputs": []
    }
  ],
  "metadata": {
    "kernelspec": {
      "display_name": "Python 3",
      "language": "python",
      "name": "python3"
    },
    "language_info": {
      "codemirror_mode": {
        "name": "ipython",
        "version": 3
      },
      "file_extension": ".py",
      "mimetype": "text/x-python",
      "name": "python",
      "nbconvert_exporter": "python",
      "pygments_lexer": "ipython3",
      "version": "3.7.6"
    },
    "colab": {
      "name": "02_cuaderno.ipynb",
      "provenance": []
    }
  },
  "nbformat": 4,
  "nbformat_minor": 0
}