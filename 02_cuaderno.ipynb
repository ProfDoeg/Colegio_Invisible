{
  "cells": [
    {
      "cell_type": "markdown",
      "metadata": {
        "id": "N5LxjU3GVoI3"
      },
      "source": [
        "<a href=\"https://colab.research.google.com/github/ProfDoeg/Colegio_Invisible/blob/master/02_cuaderno.ipynb\" target=\"_parent\"><img src=\"https://colab.research.google.com/assets/colab-badge.svg\" alt=\"Open In Colab\"/></a>"
      ]
    },
    {
      "cell_type": "markdown",
      "source": [
        "# Guinoes, Hashes, \n",
        "# Teclas, Claves, Llaves, Keys\n",
        "# y Contraseñas \n"
      ],
      "metadata": {
        "id": "KsmpJ63j7U-E"
      }
    },
    {
      "cell_type": "markdown",
      "source": [
        "# Preperando el Espacio"
      ],
      "metadata": {
        "id": "8JTU10hy7FJf"
      }
    },
    {
      "cell_type": "code",
      "execution_count": null,
      "metadata": {
        "id": "GdDylRrmVoI7"
      },
      "outputs": [],
      "source": [
        "from IPython.core.display import display, HTML\n",
        "display(HTML(\"<style>.container { width:95% !important; }</style>\"))"
      ]
    },
    {
      "cell_type": "code",
      "source": [
        "#! rm -r Colegio_Invisible"
      ],
      "metadata": {
        "id": "IPvMGuGQKw2v"
      },
      "execution_count": null,
      "outputs": []
    },
    {
      "cell_type": "code",
      "execution_count": null,
      "metadata": {
        "id": "11xNrqZGVoI9"
      },
      "outputs": [],
      "source": [
        "! git clone https://github.com/ProfDoeg/Colegio_Invisible.git"
      ]
    },
    {
      "cell_type": "code",
      "source": [
        "! pip install cryptos"
      ],
      "metadata": {
        "id": "bBaL_6Hlw1Ql"
      },
      "execution_count": null,
      "outputs": []
    },
    {
      "cell_type": "code",
      "source": [
        "! pip install eciespy"
      ],
      "metadata": {
        "id": "S7rmEsvbw6Ai"
      },
      "execution_count": null,
      "outputs": []
    },
    {
      "cell_type": "markdown",
      "source": [
        "\n",
        "\n"
      ],
      "metadata": {
        "id": "2-u5pNb9tzEH"
      }
    },
    {
      "cell_type": "markdown",
      "metadata": {
        "id": "wOOQZ8WBVoI8"
      },
      "source": [
        "# Basic Cryptography and Script Writing\n",
        "\n",
        "## Outline\n",
        "\n",
        "In this introduction we cover:\n",
        "\n",
        "- scripts\n",
        "- cryptographic hash functions\n",
        "- symmetric cryptography\n",
        "\n",
        "\n",
        "\n",
        "By the end of the exposition you will:\n",
        "\n",
        "- understand the structure of python script\n",
        "- be able to run a Python script from terminal\n",
        "- be able direct the script with user input and capture it's output\n",
        "- understand the features of a cryptographic **hash function**\n",
        "- be able to hash a string or file using **SHA256**\n",
        "- understand the features of **symmetric cryptography**\n",
        "- be able to generate an **AES** cryptographic **key**\n",
        "- be able to **AES encrypt** a string or file using a symmetric key\n",
        "- be able to **AES decrypt** a string or file using AES\n",
        "\n",
        "\n",
        "----"
      ]
    },
    {
      "cell_type": "markdown",
      "source": [
        "# Scripts\n",
        "\n",
        "## `*.py`\n",
        "\n",
        "Python scripts are programs that can be saved in text files with a `.py` extension. \n",
        "\n",
        "## `python`\n",
        "The script is called from the bash terminal using the `python` call. \n",
        "\n",
        "##`argv`\n",
        "The script uses `argv` from the `sys` module to pull an argument vector (tuple) from the bash terminal input."
      ],
      "metadata": {
        "id": "BTjh_wRV02Wb"
      }
    },
    {
      "cell_type": "markdown",
      "source": [
        "## Example\n",
        "Here we write a Python script and run it from the bash terminal."
      ],
      "metadata": {
        "id": "IlppW-TW6kYj"
      }
    },
    {
      "cell_type": "code",
      "source": [
        "! echo \"from sys import argv\" > zero.py \n",
        "! echo \"print(argv)\" >> zero.py "
      ],
      "metadata": {
        "id": "t441-Vl_V0pt"
      },
      "execution_count": 54,
      "outputs": []
    },
    {
      "cell_type": "code",
      "source": [
        "! cat zero.py"
      ],
      "metadata": {
        "colab": {
          "base_uri": "https://localhost:8080/"
        },
        "id": "HDjWgpt0WrSa",
        "outputId": "392c56c3-8bbd-44fc-c479-c694d8a9ded9"
      },
      "execution_count": 55,
      "outputs": [
        {
          "output_type": "stream",
          "name": "stdout",
          "text": [
            "from sys import argv\n",
            "print(argv)\n"
          ]
        }
      ]
    },
    {
      "cell_type": "code",
      "source": [
        "! python zero1.py 8 hello 1 8 "
      ],
      "metadata": {
        "colab": {
          "base_uri": "https://localhost:8080/"
        },
        "id": "KgOq9URfPxBq",
        "outputId": "87dd35a6-858e-41bf-bece-b25f5d47bd77"
      },
      "execution_count": 56,
      "outputs": [
        {
          "output_type": "stream",
          "name": "stdout",
          "text": [
            "['zero1.py', '8', 'hello', '1', '8']\n"
          ]
        }
      ]
    },
    {
      "cell_type": "markdown",
      "source": [
        ""
      ],
      "metadata": {
        "id": "wbUMei4y4_P7"
      }
    },
    {
      "cell_type": "markdown",
      "source": [
        "# Cryptographic Hash Functions\n",
        "\n",
        "A cryptographic hash function is an algorithm that takes an arbitrary amount of data input and produces a fixed-size output  of gibberish called a digest, checksum, fingerprint, hash code, hash value, or just “hash.” \n",
        "\n",
        "$$ F(\\text{input})\\longrightarrow \\text{hash}$$\n",
        "\n",
        "Cryptographic hash function should have the following features. They should be:\n",
        "\n",
        "- **[ONE-WAY FUNCTION]** the input to the function cannot be derived from the output \n",
        "- **[INPUT HYPERSENSITIVITE]** a tiny change in input should drastically change output\n",
        "- **[DETERMINISTIC]** the output of the function should always be the same for a given input\n",
        "-  **[NON-PREDICTABLE]** there are no computational short cuts in producing the hash from the input\n",
        "- **[COLLISION RESISTANT]** two different inputs should never produce the same hash ouput for the remainder of all human history\n",
        "\n",
        "**SHA256** is a cryptographic hash function with a 256 bit output prescribed by the U.S. National Institute of Standards and Technology.\n",
        "\n",
        "We implement SHA256 in Python using the **`hashlib`**"
      ],
      "metadata": {
        "id": "2iIHrHcWglsQ"
      }
    },
    {
      "cell_type": "markdown",
      "source": [
        "## Apply SHA256 using Terminal\n",
        "\n",
        "UNIX like systems can hash from the terminal\n",
        "\n",
        "It can be done on:\n",
        "\n",
        "- a string\n",
        "- a file"
      ],
      "metadata": {
        "id": "dh19kXZU2sP3"
      }
    },
    {
      "cell_type": "code",
      "source": [
        "! echo 🐶| shasum -a 256 "
      ],
      "metadata": {
        "id": "_v9w4MCVUY3L"
      },
      "execution_count": null,
      "outputs": []
    },
    {
      "cell_type": "code",
      "source": [
        "! ls Colegio_Invisible/img"
      ],
      "metadata": {
        "id": "4Z2w44o_3M-l"
      },
      "execution_count": null,
      "outputs": []
    },
    {
      "cell_type": "code",
      "source": [
        "! shasum -a 256 Colegio_Invisible/img/colegio_invisible.jpeg"
      ],
      "metadata": {
        "id": "gajLm7Dr3Hfw"
      },
      "execution_count": null,
      "outputs": []
    },
    {
      "cell_type": "markdown",
      "source": [
        "## Hashing Using Python"
      ],
      "metadata": {
        "id": "3qu9kmB2Glbi"
      }
    },
    {
      "cell_type": "markdown",
      "source": [
        "### Python Hashing Module `hashlib`\n",
        "\n",
        "We will be using the **`hashlib`** module to do our hashing work. A module is a toybox filled with delights.\n"
      ],
      "metadata": {
        "id": "F-0wiUL9iKE0"
      }
    },
    {
      "cell_type": "code",
      "source": [
        "import hashlib\n",
        "type(hashlib)"
      ],
      "metadata": {
        "id": "ZrtVdbW0lCRn"
      },
      "execution_count": null,
      "outputs": []
    },
    {
      "cell_type": "code",
      "source": [
        "hashlib.algorithms_available"
      ],
      "metadata": {
        "id": "Xq73WkShlg_U"
      },
      "execution_count": null,
      "outputs": []
    },
    {
      "cell_type": "markdown",
      "source": [
        "### Prepare the Bytestring Input\n",
        "\n",
        "The input must be a bytestring, a string of `type` **`bytes`**.\n",
        "\n",
        "We can prepare a bytestring by:\n",
        "- using `b'  '` to write the literal\n",
        "- convert a string to `bytes` using `.encode()`  \n"
      ],
      "metadata": {
        "id": "hJgJV8uCvFBW"
      }
    },
    {
      "cell_type": "code",
      "source": [
        "b'a byte string'"
      ],
      "metadata": {
        "id": "8zZngqUPu9sn"
      },
      "execution_count": null,
      "outputs": []
    },
    {
      "cell_type": "code",
      "source": [
        "type(b'a byte string')"
      ],
      "metadata": {
        "id": "9ZkueidDnmz8"
      },
      "execution_count": null,
      "outputs": []
    },
    {
      "cell_type": "code",
      "source": [
        "type('🐶')"
      ],
      "metadata": {
        "id": "1S9LiMZr0F0t"
      },
      "execution_count": null,
      "outputs": []
    },
    {
      "cell_type": "code",
      "source": [
        "str.encode('🐶')"
      ],
      "metadata": {
        "id": "ktrgwEjj0S5b"
      },
      "execution_count": null,
      "outputs": []
    },
    {
      "cell_type": "code",
      "source": [
        "'🐶'.encode()"
      ],
      "metadata": {
        "id": "2RmCa4Wsu4qa"
      },
      "execution_count": null,
      "outputs": []
    },
    {
      "cell_type": "markdown",
      "source": [
        "### Apply SHA256 to Bytestring using Python\n",
        "\n",
        "We will be using `sha256`. The following code creates a `sha256 HASH object`\n",
        "\n",
        "- `.digest()` returns the sha256 digest as a bytestring\n",
        "- `.hexdigest()` returns the sha256 digest as a hexstring"
      ],
      "metadata": {
        "id": "rK8rkYF70K9F"
      }
    },
    {
      "cell_type": "code",
      "source": [
        "H=hashlib.sha256(b'a byte string')\n",
        "H"
      ],
      "metadata": {
        "id": "5PpqFli9mF4z"
      },
      "execution_count": null,
      "outputs": []
    },
    {
      "cell_type": "code",
      "source": [
        "H.hexdigest()"
      ],
      "metadata": {
        "id": "GPfHc1I5n51-"
      },
      "execution_count": null,
      "outputs": []
    },
    {
      "cell_type": "code",
      "source": [
        "H.digest()"
      ],
      "metadata": {
        "id": "8vAKpEpRuuFL"
      },
      "execution_count": null,
      "outputs": []
    },
    {
      "cell_type": "code",
      "source": [
        "hashlib.sha256( '🐶'.encode() ).digest()"
      ],
      "metadata": {
        "id": "9Mc2HUdPUYw3"
      },
      "execution_count": null,
      "outputs": []
    },
    {
      "cell_type": "code",
      "source": [
        "hashlib.sha256( '🐶'.encode() ).hexdigest()"
      ],
      "metadata": {
        "id": "Q-gSyLLr2i3c"
      },
      "execution_count": null,
      "outputs": []
    },
    {
      "cell_type": "code",
      "source": [
        "hashlib.sha256( '🐶\\n'.encode() ).hexdigest()"
      ],
      "metadata": {
        "id": "7GvYcD8LEXs8"
      },
      "execution_count": null,
      "outputs": []
    },
    {
      "cell_type": "markdown",
      "source": [
        "### Apply SHA256 to File using Python\n",
        "\n",
        "File is opened as **binary** using `open()` in mode `'rb'` read binary."
      ],
      "metadata": {
        "id": "a07T4_YOCGnH"
      }
    },
    {
      "cell_type": "code",
      "source": [
        "img_file=open('Colegio_Invisible/img/colegio_invisible.jpeg','rb')\n",
        "img_bytes=img_file.read()\n",
        "img_file.close()"
      ],
      "metadata": {
        "id": "yCpYiSVjB5Cy"
      },
      "execution_count": null,
      "outputs": []
    },
    {
      "cell_type": "code",
      "source": [
        "hashlib.sha256( img_bytes ).hexdigest()"
      ],
      "metadata": {
        "id": "G0K2vrLGDNf6"
      },
      "execution_count": null,
      "outputs": []
    },
    {
      "cell_type": "code",
      "source": [
        "def sha256_file(path):\n",
        "  bytestring = open(path,'rb').read()\n",
        "  return hashlib.sha256( bytestring ).hexdigest()"
      ],
      "metadata": {
        "id": "eSsWZ95uDbOz"
      },
      "execution_count": null,
      "outputs": []
    },
    {
      "cell_type": "code",
      "source": [
        "sha256_file('Colegio_Invisible/img/colegio_invisible.jpeg')"
      ],
      "metadata": {
        "id": "i6uuyzg6DyYB"
      },
      "execution_count": null,
      "outputs": []
    },
    {
      "cell_type": "code",
      "source": [
        ""
      ],
      "metadata": {
        "id": "Ve5-yn6tUY6A"
      },
      "execution_count": null,
      "outputs": []
    },
    {
      "cell_type": "markdown",
      "source": [
        "### Apply SHA256 to File Using a Python Script\n",
        "\n",
        "Here the Python program is packaged in a script.\n",
        "\n",
        "- a script is called from the Terminal following a call to `python`\n",
        "- arguments can be passed to the script using `argv`\n",
        "\n",
        "`> python path/to/script.py arg1 arg2`"
      ],
      "metadata": {
        "id": "RGmtIYE3G9Mo"
      }
    },
    {
      "cell_type": "markdown",
      "source": [
        "Look at the contents of script `sha_256.py` in `Colegio_Invisible/scripts` \n",
        "\n",
        "https://www.sublimetext.com/"
      ],
      "metadata": {
        "id": "LDEDh_kDQg14"
      }
    },
    {
      "cell_type": "code",
      "source": [
        "! cat Colegio_Invisible/scripts/sha_256.py"
      ],
      "metadata": {
        "id": "6vRc6mQqUY88"
      },
      "execution_count": null,
      "outputs": []
    },
    {
      "cell_type": "code",
      "source": [
        "! python Colegio_Invisible/scripts/sha_256.py "
      ],
      "metadata": {
        "id": "C9PWcx2sLRF1"
      },
      "execution_count": null,
      "outputs": []
    },
    {
      "cell_type": "code",
      "source": [
        "! python Colegio_Invisible/scripts/sha_256.py Colegio_Invisible/img/colegio_invisible.jpeg"
      ],
      "metadata": {
        "id": "TXv_QqnWLZX6"
      },
      "execution_count": null,
      "outputs": []
    },
    {
      "cell_type": "code",
      "source": [
        "fileHash=! {'python Colegio_Invisible/scripts/sha_256.py Colegio_Invisible/img/colegio_invisible.jpeg'}\n",
        "fileHash"
      ],
      "metadata": {
        "id": "LNncSCUyPCh-"
      },
      "execution_count": null,
      "outputs": []
    },
    {
      "cell_type": "code",
      "source": [
        "fileHash[-1]"
      ],
      "metadata": {
        "id": "I1GyhnDuPRSt"
      },
      "execution_count": null,
      "outputs": []
    },
    {
      "cell_type": "markdown",
      "source": [
        "# Symmetric Cryptography\n",
        "\n",
        "Encryption uses a key to map a plaintext to a ciphertext. Decryption is the reverse process where a key is used to map the ciphertext back to a plain text.\n",
        "\n",
        "Symmetric cryptography uses one single key that needs to be shared among all participants who are communicating. The encryption and decryption step use the same key.\n",
        "\n",
        "AES (Advanced Encryption Standard) is a symmetric block cipher standardized by NIST . It has a fixed data block size of 16 bytes. Its keys can be 128, 192, or 256 bits long.\n",
        "\n",
        "https://en.wikipedia.org/wiki/Advanced_Encryption_Standard\n",
        "\n"
      ],
      "metadata": {
        "id": "mWUubkZdR8pW"
      }
    },
    {
      "cell_type": "markdown",
      "source": [
        ""
      ],
      "metadata": {
        "id": "spGWfk2XwgCh"
      }
    },
    {
      "cell_type": "markdown",
      "source": [
        "## AES in Python Using `ecies`\n",
        "\n",
        "The **`eciespy`** library is an encryption library used in ethereum development. It does lots of things including including AES (symmetric encryption) and ECC (asymmetric cyptography). We will use it do most of our things.\n",
        "\n",
        "https://ecies.org/py/"
      ],
      "metadata": {
        "id": "zqjKOTkdzyS7"
      }
    },
    {
      "cell_type": "code",
      "execution_count": null,
      "metadata": {
        "id": "KyBP1TROVoI9"
      },
      "outputs": [],
      "source": [
        "import ecies\n",
        "type(ecies)"
      ]
    },
    {
      "cell_type": "markdown",
      "source": [
        "## Prepare the Encryption Key"
      ],
      "metadata": {
        "id": "NM2ZfEF20szM"
      }
    },
    {
      "cell_type": "code",
      "source": [
        "bytekey256=hashlib.sha256(b'semilla de mostaza').digest()\n",
        "bytekey256"
      ],
      "metadata": {
        "id": "4r1ebt-AyXqb"
      },
      "execution_count": null,
      "outputs": []
    },
    {
      "cell_type": "markdown",
      "source": [
        "The 256 bits are stored as 32 bytes. Remember each byte is 8 bits."
      ],
      "metadata": {
        "id": "_MBb0ksszSps"
      }
    },
    {
      "cell_type": "code",
      "source": [
        "len(bytekey256)"
      ],
      "metadata": {
        "id": "AdUibXy3ywSj"
      },
      "execution_count": null,
      "outputs": []
    },
    {
      "cell_type": "code",
      "source": [
        "len(bytekey256)*8"
      ],
      "metadata": {
        "id": "PmtMxMGEywWz"
      },
      "execution_count": null,
      "outputs": []
    },
    {
      "cell_type": "markdown",
      "source": [
        "## Encryption: Generating Ciphertext From Plaintext"
      ],
      "metadata": {
        "id": "IKLB5xwu7NSl"
      }
    },
    {
      "cell_type": "code",
      "source": [
        "plaintext=b'this is my plain text byte string'"
      ],
      "metadata": {
        "id": "8W0GPih-7MOt"
      },
      "execution_count": null,
      "outputs": []
    },
    {
      "cell_type": "code",
      "source": [
        "ciphertext=ecies.aes_encrypt(key=bytekey256,plain_text=plaintext)\n",
        "ciphertext"
      ],
      "metadata": {
        "id": "UlyPyHVB6__3"
      },
      "execution_count": null,
      "outputs": []
    },
    {
      "cell_type": "markdown",
      "source": [
        "## Decryption: Recovering Plaintext from Cipertext"
      ],
      "metadata": {
        "id": "bSIgdLTU702r"
      }
    },
    {
      "cell_type": "code",
      "source": [
        "recoveredtext=ecies.aes_decrypt(key=bytekey256,cipher_text=ciphertext)\n",
        "recoveredtext"
      ],
      "metadata": {
        "id": "55bjB7i68Fhj"
      },
      "execution_count": null,
      "outputs": []
    },
    {
      "cell_type": "markdown",
      "source": [
        "## AES on Files\n",
        "\n",
        "\n",
        "\n"
      ],
      "metadata": {
        "id": "G0gb9UXM9cHu"
      }
    },
    {
      "cell_type": "markdown",
      "source": [
        "### Encrypting Files"
      ],
      "metadata": {
        "id": "NifAW0eLITe2"
      }
    },
    {
      "cell_type": "code",
      "source": [
        "f=open('Colegio_Invisible/img/colegio_invisible.jpeg','rb')\n",
        "plainimg=f.read()\n",
        "f.close()\n",
        "\n",
        "cipherimg=ecies.aes_encrypt(key=bytekey256,plain_text=plainimg)"
      ],
      "metadata": {
        "id": "5H1b8YXC_IIc"
      },
      "execution_count": null,
      "outputs": []
    },
    {
      "cell_type": "code",
      "source": [
        "def aes_encrypt_file(plainfile_path,cipherfile_path,password):\n",
        "  plain = open(plainfile_path,'rb').read()\n",
        "  bytekey = hashlib.sha256( password.encode() ).digest()\n",
        "  cipher = ecies.aes_encrypt(key=bytekey,plain_text=plain)\n",
        "  open(cipherfile_path,'wb').write(cipher)\n"
      ],
      "metadata": {
        "id": "wddf3q3P_IYM"
      },
      "execution_count": null,
      "outputs": []
    },
    {
      "cell_type": "code",
      "source": [
        "aes_encrypt_file('Colegio_Invisible/img/colegio_invisible.jpeg','cipher_img.aes','password')"
      ],
      "metadata": {
        "id": "BxXnAWYd_I1r"
      },
      "execution_count": null,
      "outputs": []
    },
    {
      "cell_type": "code",
      "source": [
        "! ls"
      ],
      "metadata": {
        "id": "qiGEzHzuG0Jx"
      },
      "execution_count": null,
      "outputs": []
    },
    {
      "cell_type": "code",
      "source": [
        "! head -c 50 ciper_img.aes"
      ],
      "metadata": {
        "id": "w9qFcKbaHL2V"
      },
      "execution_count": null,
      "outputs": []
    },
    {
      "cell_type": "markdown",
      "source": [
        "### Decrypting Files"
      ],
      "metadata": {
        "id": "iqTIcAfw_KT9"
      }
    },
    {
      "cell_type": "code",
      "source": [
        "f=open('cipher_img.aes','rb')\n",
        "cipherimg2=f.read()\n",
        "f.close()\n",
        "\n",
        "aes_key=hashlib.sha256( 'password'.encode()  ).digest()\n",
        "\n",
        "plainimg2=ecies.aes_decrypt( key= aes_key , cipher_text=cipherimg2)"
      ],
      "metadata": {
        "id": "qQQ9v5NE_JLj"
      },
      "execution_count": null,
      "outputs": []
    },
    {
      "cell_type": "code",
      "source": [
        "def aes_decrypt_file(cipherfile_path,extractfile_path,password):\n",
        "  cipher = open(cipherfile_path,'rb').read()\n",
        "  bytekey = hashlib.sha256( password.encode() ).digest()\n",
        "  extract = ecies.aes_decrypt(key=bytekey,cipher_text=cipher)\n",
        "  open(extractfile_path,'wb').write(extract)"
      ],
      "metadata": {
        "id": "4ROzyk9V_JT6"
      },
      "execution_count": null,
      "outputs": []
    },
    {
      "cell_type": "code",
      "source": [
        "aes_decrypt_file('cipher_img.aes','extract_img.jpeg','password')"
      ],
      "metadata": {
        "id": "V7K84aFq_JdN"
      },
      "execution_count": null,
      "outputs": []
    },
    {
      "cell_type": "code",
      "source": [
        "from IPython.display import Image\n",
        "display(Image('extract_img.jpeg'))"
      ],
      "metadata": {
        "id": "FEmgnl3BP6tn"
      },
      "execution_count": null,
      "outputs": []
    },
    {
      "cell_type": "markdown",
      "source": [
        "## AES Using Python Scripts"
      ],
      "metadata": {
        "id": "tGaW-1lgRhiR"
      }
    },
    {
      "cell_type": "code",
      "source": [
        "! cat Colegio_Invisible/scripts/aes_encrypt.py"
      ],
      "metadata": {
        "colab": {
          "base_uri": "https://localhost:8080/"
        },
        "id": "DiY82X6kYIVx",
        "outputId": "7fe89e46-486e-459f-8668-30d20c3bede5"
      },
      "execution_count": 51,
      "outputs": [
        {
          "output_type": "stream",
          "name": "stdout",
          "text": [
            "##################################################################################\n",
            "# this script will encrypt a file using AES to create a password protected file\n",
            "# the AES key is the SHA256 hash of the user provided password\n",
            "#\n",
            "# run at the terminal using the following\n",
            "# > python aes_encrypt.py <PASSWORD> <PLAINTEXT_PATH> <CIPHERTEXT_PATH>\n",
            "# <PASSWORD>: password used to generate AES key\n",
            "# <PLAINTEXT_PATH>: path to file that will be encrypted\n",
            "# <CIPHERTEXT_PATH>: path to newly generated encrypted file\n",
            "#\n",
            "#EXAMPLE:\n",
            "#>python aes_encrypt.py Password123 file2enc.jpg cipher.aes\n",
            "#\n",
            "# IF <PASSWORD> IS NOT INCLUDED USER WILL BE PROMPTED TO ENTER IT SECURELY\n",
            "##################################################################################\n",
            "\n",
            "from sys import argv\n",
            "import getpass\n",
            "import ecies\n",
            "import eth_keys\n",
            "import hashlib\n",
            "\n",
            "\n",
            "if len(argv)==4:\n",
            "    _, password, plaintext_path, ciphertext_path = argv\n",
            "elif len(argv)==3:\n",
            "    _, plaintext_path, ciphertext_path  = argv\n",
            "    while True:\n",
            "        password = getpass.getpass(\"Input password for encryption: \")\n",
            "        password_2 = getpass.getpass(\"Repeat password for encryption: \")\n",
            "        if password==password_2:\n",
            "            print('\\nPasswords match...')\n",
            "            break\n",
            "        else:\n",
            "            print('\\nPasswords do not match...')\n",
            "else:\n",
            "    print('Incorrect number of arguments. 2 or 3 expected')\n",
            "    print('> python aes_encrypt.py <PASSWORD> <PLAINTEXT_PATH> <CIPHERTEXT_PATH>')\n",
            "    print('IF <PASSWORD> IS NOT INCLUDED USER WILL BE PROMPTED TO ENTER IT SECURELY')\n",
            "    exit()\n",
            "\n",
            "def aes_encrypt_file(plainfile_path,cipherfile_path,password):\n",
            "    plain = open(plainfile_path,'rb').read()\n",
            "    bytekey = hashlib.sha256( password.encode() ).digest()\n",
            "    cipher = ecies.aes_encrypt(key=bytekey,plain_text=plain)\n",
            "    open(cipherfile_path,'wb').write(cipher)\n",
            "\n",
            "\n",
            "\n",
            "aes_encrypt_file(plaintext_path,ciphertext_path,password)\n",
            "print('Success:',plaintext_path, 'AES encryption complete')\n",
            "print('Written to:', ciphertext_path)\n",
            "\n"
          ]
        }
      ]
    },
    {
      "cell_type": "code",
      "source": [
        "! python Colegio_Invisible/scripts/aes_encrypt.py 'Colegio_Invisible/img/colegio_invisible.jpeg' 'pic.aes'"
      ],
      "metadata": {
        "colab": {
          "base_uri": "https://localhost:8080/"
        },
        "id": "VYeoeIwreJBC",
        "outputId": "ff1b39cf-4566-441b-bc51-4ebf65e0943b"
      },
      "execution_count": 52,
      "outputs": [
        {
          "output_type": "stream",
          "name": "stdout",
          "text": [
            "Traceback (most recent call last):\n",
            "  File \"Colegio_Invisible/scripts/aes_encrypt.py\", line 19, in <module>\n",
            "    import ecies\n",
            "ModuleNotFoundError: No module named 'ecies'\n"
          ]
        }
      ]
    },
    {
      "cell_type": "code",
      "source": [
        "! python Colegio_Invisible/scripts/aes_decrypt.py 'pic.aes' 'dec.jpeg'"
      ],
      "metadata": {
        "colab": {
          "base_uri": "https://localhost:8080/"
        },
        "id": "dSt6l9D4eJHn",
        "outputId": "f6ad3585-16af-4250-b354-6bb5ef3288be"
      },
      "execution_count": 53,
      "outputs": [
        {
          "output_type": "stream",
          "name": "stdout",
          "text": [
            "Traceback (most recent call last):\n",
            "  File \"Colegio_Invisible/scripts/aes_decrypt.py\", line 20, in <module>\n",
            "    import ecies\n",
            "ModuleNotFoundError: No module named 'ecies'\n"
          ]
        }
      ]
    },
    {
      "cell_type": "code",
      "source": [
        ""
      ],
      "metadata": {
        "id": "5RZmO_s2gRWL"
      },
      "execution_count": null,
      "outputs": []
    },
    {
      "cell_type": "code",
      "source": [
        "display(Image('dec.jpeg'))"
      ],
      "metadata": {
        "id": "vczu5rXYeJM7"
      },
      "execution_count": null,
      "outputs": []
    },
    {
      "cell_type": "code",
      "source": [
        "! python Colegio_Invisible/scripts/sha_256.py dec.jpeg"
      ],
      "metadata": {
        "colab": {
          "base_uri": "https://localhost:8080/"
        },
        "id": "SOhQxQRUgCm_",
        "outputId": "88aaa815-ddc8-450c-963c-5d3619c2ef68"
      },
      "execution_count": 50,
      "outputs": [
        {
          "output_type": "stream",
          "name": "stdout",
          "text": [
            "Traceback (most recent call last):\n",
            "  File \"Colegio_Invisible/scripts/sha_256.py\", line 30, in <module>\n",
            "    file_hash=sha256_file(file_path)\n",
            "  File \"Colegio_Invisible/scripts/sha_256.py\", line 26, in sha256_file\n",
            "    bytestring = open(path,'rb').read()\n",
            "FileNotFoundError: [Errno 2] No such file or directory: 'dec.jpeg'\n"
          ]
        }
      ]
    },
    {
      "cell_type": "code",
      "source": [
        "! ls Colegio_Invisible/scripts\n",
        "! cat Colegio_Invisible/scripts/ecc_generate.py"
      ],
      "metadata": {
        "id": "CyGdpdSpVda1"
      },
      "execution_count": null,
      "outputs": []
    },
    {
      "cell_type": "code",
      "source": [
        "! mkdir teclas"
      ],
      "metadata": {
        "id": "VtpQeDMOcB0n"
      },
      "execution_count": null,
      "outputs": []
    },
    {
      "cell_type": "code",
      "source": [
        "! python Colegio_Invisible/scripts/ecc_generate.py teclas/my_privkey.enc"
      ],
      "metadata": {
        "id": "xJMgIO8wV6NT"
      },
      "execution_count": null,
      "outputs": []
    },
    {
      "cell_type": "code",
      "source": [
        "#! rm -r Colegio_Invisible"
      ],
      "metadata": {
        "id": "dyHbhpTSYQRQ"
      },
      "execution_count": null,
      "outputs": []
    },
    {
      "cell_type": "code",
      "source": [
        "! python Colegio_Invisible/scripts/ecc_pubkey_extract.py teclas/my_privkey.enc teclas/my_pubkey.enc"
      ],
      "metadata": {
        "id": "b4E8KKXxYjaE"
      },
      "execution_count": null,
      "outputs": []
    },
    {
      "cell_type": "code",
      "source": [
        "! python Colegio_Invisible/scripts/ecc_keydump.py teclas/my_pubkey.enc"
      ],
      "metadata": {
        "id": "_k94L3Iv7lUa"
      },
      "execution_count": null,
      "outputs": []
    },
    {
      "cell_type": "code",
      "source": [
        "pubkey=!{'python Colegio_Invisible/scripts/ecc_keydump.py teclas/my_pubkey.enc'}\n",
        "pubkey"
      ],
      "metadata": {
        "id": "OCXWvtE-WTkP"
      },
      "execution_count": null,
      "outputs": []
    },
    {
      "cell_type": "code",
      "source": [
        "pbytes.fromhex(pubkey[-1])"
      ],
      "metadata": {
        "id": "uxsLMpXtZs7Q"
      },
      "execution_count": null,
      "outputs": []
    },
    {
      "cell_type": "code",
      "source": [
        ""
      ],
      "metadata": {
        "id": "QQylCDQ0ZIpC"
      },
      "execution_count": null,
      "outputs": []
    }
  ],
  "metadata": {
    "kernelspec": {
      "display_name": "Python 3",
      "language": "python",
      "name": "python3"
    },
    "language_info": {
      "codemirror_mode": {
        "name": "ipython",
        "version": 3
      },
      "file_extension": ".py",
      "mimetype": "text/x-python",
      "name": "python",
      "nbconvert_exporter": "python",
      "pygments_lexer": "ipython3",
      "version": "3.7.6"
    },
    "colab": {
      "name": "02_cuaderno.ipynb",
      "provenance": []
    }
  },
  "nbformat": 4,
  "nbformat_minor": 0
}