{
  "cells": [
    {
      "cell_type": "markdown",
      "metadata": {
        "id": "N5LxjU3GVoI3"
      },
      "source": [
        "<a href=\"https://colab.research.google.com/github/ProfDoeg/Colegio_Invisible/blob/master/02_cuaderno.ipynb\" target=\"_parent\"><img src=\"https://colab.research.google.com/assets/colab-badge.svg\" alt=\"Open In Colab\"/></a>"
      ]
    },
    {
      "cell_type": "code",
      "execution_count": null,
      "metadata": {
        "id": "GdDylRrmVoI7",
        "outputId": "39fe062a-70f4-4c71-f97a-3a861b3f4f5e"
      },
      "outputs": [
        {
          "data": {
            "text/html": [
              "<style>.container { width:95% !important; }</style>"
            ],
            "text/plain": [
              "<IPython.core.display.HTML object>"
            ]
          },
          "metadata": {},
          "output_type": "display_data"
        }
      ],
      "source": [
        "from IPython.core.display import display, HTML\n",
        "display(HTML(\"<style>.container { width:95% !important; }</style>\"))"
      ]
    },
    {
      "cell_type": "markdown",
      "metadata": {
        "id": "wOOQZ8WBVoI8"
      },
      "source": [
        "# Colegio Invisible"
      ]
    },
    {
      "cell_type": "code",
      "execution_count": 14,
      "metadata": {
        "id": "KyBP1TROVoI9",
        "outputId": "72144fdc-d549-42e9-ee0d-4acf653e4433",
        "colab": {
          "base_uri": "https://localhost:8080/"
        }
      },
      "outputs": [
        {
          "output_type": "stream",
          "name": "stdout",
          "text": [
            "Collecting cryptos\n",
            "  Downloading cryptos-1.36-py3-none-any.whl (69 kB)\n",
            "\u001b[?25l\r\u001b[K     |████▊                           | 10 kB 18.1 MB/s eta 0:00:01\r\u001b[K     |█████████▌                      | 20 kB 7.0 MB/s eta 0:00:01\r\u001b[K     |██████████████▎                 | 30 kB 4.9 MB/s eta 0:00:01\r\u001b[K     |███████████████████             | 40 kB 4.6 MB/s eta 0:00:01\r\u001b[K     |███████████████████████▊        | 51 kB 3.7 MB/s eta 0:00:01\r\u001b[K     |████████████████████████████▌   | 61 kB 4.0 MB/s eta 0:00:01\r\u001b[K     |████████████████████████████████| 69 kB 2.5 MB/s \n",
            "\u001b[?25hInstalling collected packages: cryptos\n",
            "Successfully installed cryptos-1.36\n"
          ]
        }
      ],
      "source": [
        "! pip install cryptos"
      ]
    },
    {
      "cell_type": "code",
      "source": [
        "! pip install eciespy"
      ],
      "metadata": {
        "id": "9HQ68nZiWWdz",
        "outputId": "e0d0286d-db5d-469e-bfb5-1295ce9de5ca",
        "colab": {
          "base_uri": "https://localhost:8080/"
        }
      },
      "execution_count": 3,
      "outputs": [
        {
          "output_type": "stream",
          "name": "stdout",
          "text": [
            "Collecting eciespy\n",
            "  Downloading eciespy-0.3.11-py3-none-any.whl (11 kB)\n",
            "Collecting coincurve<16,>=13\n",
            "  Downloading coincurve-15.0.1-cp37-cp37m-manylinux_2_17_x86_64.manylinux2014_x86_64.whl (555 kB)\n",
            "\u001b[K     |████████████████████████████████| 555 kB 6.0 MB/s \n",
            "\u001b[?25hCollecting eth-keys<0.4.0,>=0.3.3\n",
            "  Downloading eth_keys-0.3.3-py3-none-any.whl (20 kB)\n",
            "Collecting pycryptodome<4.0.0,>=3.9.9\n",
            "  Downloading pycryptodome-3.12.0-cp35-abi3-manylinux2010_x86_64.whl (2.0 MB)\n",
            "\u001b[K     |████████████████████████████████| 2.0 MB 38.9 MB/s \n",
            "\u001b[?25hRequirement already satisfied: cffi>=1.3.0 in /usr/local/lib/python3.7/dist-packages (from coincurve<16,>=13->eciespy) (1.15.0)\n",
            "Collecting asn1crypto\n",
            "  Downloading asn1crypto-1.4.0-py2.py3-none-any.whl (104 kB)\n",
            "\u001b[K     |████████████████████████████████| 104 kB 42.5 MB/s \n",
            "\u001b[?25hRequirement already satisfied: pycparser in /usr/local/lib/python3.7/dist-packages (from cffi>=1.3.0->coincurve<16,>=13->eciespy) (2.21)\n",
            "Collecting eth-utils<2.0.0,>=1.3.0\n",
            "  Downloading eth_utils-1.10.0-py3-none-any.whl (24 kB)\n",
            "Collecting eth-typing<3.0.0,>=2.2.1\n",
            "  Downloading eth_typing-2.2.2-py3-none-any.whl (6.2 kB)\n",
            "Collecting cytoolz<1.0.0,>=0.10.1\n",
            "  Downloading cytoolz-0.11.2.tar.gz (481 kB)\n",
            "\u001b[K     |████████████████████████████████| 481 kB 27.0 MB/s \n",
            "\u001b[?25hCollecting eth-hash<0.4.0,>=0.3.1\n",
            "  Downloading eth_hash-0.3.2-py3-none-any.whl (8.8 kB)\n",
            "Requirement already satisfied: toolz>=0.8.0 in /usr/local/lib/python3.7/dist-packages (from cytoolz<1.0.0,>=0.10.1->eth-utils<2.0.0,>=1.3.0->eth-keys<0.4.0,>=0.3.3->eciespy) (0.11.2)\n",
            "Building wheels for collected packages: cytoolz\n",
            "  Building wheel for cytoolz (setup.py) ... \u001b[?25l\u001b[?25hdone\n",
            "  Created wheel for cytoolz: filename=cytoolz-0.11.2-cp37-cp37m-linux_x86_64.whl size=1231118 sha256=48c89b7a21fdad5d570a756b199f9734ac19e49adb167ec519d610053aba1ef4\n",
            "  Stored in directory: /root/.cache/pip/wheels/38/70/71/ca13ea3d36ccd0b3d0ec7d7a4ca67522048d695b556bba4f59\n",
            "Successfully built cytoolz\n",
            "Installing collected packages: eth-typing, eth-hash, cytoolz, eth-utils, asn1crypto, pycryptodome, eth-keys, coincurve, eciespy\n",
            "Successfully installed asn1crypto-1.4.0 coincurve-15.0.1 cytoolz-0.11.2 eciespy-0.3.11 eth-hash-0.3.2 eth-keys-0.3.3 eth-typing-2.2.2 eth-utils-1.10.0 pycryptodome-3.12.0\n"
          ]
        }
      ]
    },
    {
      "cell_type": "code",
      "execution_count": 8,
      "metadata": {
        "id": "11xNrqZGVoI9",
        "outputId": "c48bd66a-a9ed-41c1-c863-0c2653f11b12",
        "colab": {
          "base_uri": "https://localhost:8080/"
        }
      },
      "outputs": [
        {
          "output_type": "stream",
          "name": "stdout",
          "text": [
            "Cloning into 'Colegio_Invisible'...\n",
            "remote: Enumerating objects: 123, done.\u001b[K\n",
            "remote: Counting objects: 100% (123/123), done.\u001b[K\n",
            "remote: Compressing objects: 100% (121/121), done.\u001b[K\n",
            "remote: Total 123 (delta 68), reused 0 (delta 0), pack-reused 0\u001b[K\n",
            "Receiving objects: 100% (123/123), 8.66 MiB | 8.32 MiB/s, done.\n",
            "Resolving deltas: 100% (68/68), done.\n"
          ]
        }
      ],
      "source": [
        "! git clone https://github.com/ProfDoeg/Colegio_Invisible.git"
      ]
    },
    {
      "cell_type": "code",
      "source": [
        "! mkdir teclas"
      ],
      "metadata": {
        "id": "VtpQeDMOcB0n"
      },
      "execution_count": 21,
      "outputs": []
    },
    {
      "cell_type": "code",
      "source": [
        "! python Colegio_Invisible/scripts/ecc_generate.py teclas/my_privkey.enc"
      ],
      "metadata": {
        "id": "xJMgIO8wV6NT",
        "outputId": "500376b0-c262-48d1-d808-1723a72671a7",
        "colab": {
          "base_uri": "https://localhost:8080/"
        }
      },
      "execution_count": 22,
      "outputs": [
        {
          "output_type": "stream",
          "name": "stdout",
          "text": [
            "Input password for encrypting keyfile: \n",
            "Repeat password for encrypting keyfile: \n",
            "\n",
            "Passwords match...\n",
            "Private key generation complete\n",
            "Private key encrypted and written to binary file: teclas/my_privkey.enc\n",
            "53b5d6bd0894e2c665eb291b5cf4d2f4858a56c759c55262ca10e752bd3e9417a386c23e45e979cf56d22cc04f3cb7b5f5326c02cce94aa827ec6f01125af0e2\n"
          ]
        }
      ]
    },
    {
      "cell_type": "code",
      "source": [
        "#! rm -r Colegio_Invisible"
      ],
      "metadata": {
        "id": "dyHbhpTSYQRQ"
      },
      "execution_count": 7,
      "outputs": []
    },
    {
      "cell_type": "code",
      "source": [
        "! python Colegio_Invisible/scripts/ecc_pubkey_extract.py teclas/my_privkey.enc teclas/my_pubkey.enc"
      ],
      "metadata": {
        "id": "b4E8KKXxYjaE",
        "outputId": "25530db1-b9d5-429e-a88e-bb7b1ff8570c",
        "colab": {
          "base_uri": "https://localhost:8080/"
        }
      },
      "execution_count": 23,
      "outputs": [
        {
          "output_type": "stream",
          "name": "stdout",
          "text": [
            "Input password for private key file: \n",
            "Input password for public key file: \n",
            "Repeat password for public key file: \n",
            "\n",
            "Passwords do not match...\n",
            "Input password for public key file: \n",
            "Repeat password for public key file: \n",
            "\n",
            "Passwords match...\n",
            "Completed public key extraction from: teclas/my_privkey.enc\n",
            "Public key encrypted and written to binary file: teclas/my_pubkey.enc\n",
            "49fec60bbc395e511ca0c061ab54dac258e8184b4261426a68683abea594c6054e4f66835aaf932c9be1a0dd9e33a20141b3fe752d7c1508d33c23bebfc70b819a70979f1bda2908efd7aa7ca7d313721dcfb732dfb4bed846020125b947ae64\n"
          ]
        }
      ]
    },
    {
      "cell_type": "code",
      "source": [
        "pubkey=!{'python Colegio_Invisible/scripts/ecc_keydump.py teclas/my_pubkey.enc'}\n",
        "pubkey"
      ],
      "metadata": {
        "id": "OCXWvtE-WTkP",
        "outputId": "dae71807-d511-45f0-eb93-7612a8d659f9",
        "colab": {
          "base_uri": "https://localhost:8080/"
        }
      },
      "execution_count": 24,
      "outputs": [
        {
          "output_type": "execute_result",
          "data": {
            "text/plain": [
              "['Input password for key file: ',\n",
              " '409d25e0565b1d9e2c869c4a737b6f3b4a54fdf23a825e5f5bdb0322ec106adc50216ec57c5f687476bae43049f0a483cf34b28bc55048bfe54962f04007c29b']"
            ]
          },
          "metadata": {},
          "execution_count": 24
        }
      ]
    },
    {
      "cell_type": "code",
      "source": [
        "bytes.fromhex(pubkey[-1])"
      ],
      "metadata": {
        "id": "uxsLMpXtZs7Q",
        "outputId": "8f3324dc-ab0c-4f55-d080-834c40eb51d4",
        "colab": {
          "base_uri": "https://localhost:8080/"
        }
      },
      "execution_count": 25,
      "outputs": [
        {
          "output_type": "execute_result",
          "data": {
            "text/plain": [
              "b'@\\x9d%\\xe0V[\\x1d\\x9e,\\x86\\x9cJs{o;JT\\xfd\\xf2:\\x82^_[\\xdb\\x03\"\\xec\\x10j\\xdcP!n\\xc5|_htv\\xba\\xe40I\\xf0\\xa4\\x83\\xcf4\\xb2\\x8b\\xc5PH\\xbf\\xe5Ib\\xf0@\\x07\\xc2\\x9b'"
            ]
          },
          "metadata": {},
          "execution_count": 25
        }
      ]
    },
    {
      "cell_type": "code",
      "source": [
        ""
      ],
      "metadata": {
        "id": "QQylCDQ0ZIpC"
      },
      "execution_count": null,
      "outputs": []
    }
  ],
  "metadata": {
    "kernelspec": {
      "display_name": "Python 3",
      "language": "python",
      "name": "python3"
    },
    "language_info": {
      "codemirror_mode": {
        "name": "ipython",
        "version": 3
      },
      "file_extension": ".py",
      "mimetype": "text/x-python",
      "name": "python",
      "nbconvert_exporter": "python",
      "pygments_lexer": "ipython3",
      "version": "3.7.6"
    },
    "colab": {
      "name": "02_cuaderno.ipynb",
      "provenance": []
    }
  },
  "nbformat": 4,
  "nbformat_minor": 0
}