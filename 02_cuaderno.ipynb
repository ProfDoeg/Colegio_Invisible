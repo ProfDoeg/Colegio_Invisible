{
  "cells": [
    {
      "cell_type": "markdown",
      "metadata": {
        "id": "N5LxjU3GVoI3"
      },
      "source": [
        "<a href=\"https://colab.research.google.com/github/ProfDoeg/Colegio_Invisible/blob/master/02_cuaderno.ipynb\" target=\"_parent\"><img src=\"https://colab.research.google.com/assets/colab-badge.svg\" alt=\"Open In Colab\"/></a>"
      ]
    },
    {
      "cell_type": "code",
      "execution_count": 1,
      "metadata": {
        "colab": {
          "base_uri": "https://localhost:8080/",
          "height": 17
        },
        "id": "GdDylRrmVoI7",
        "outputId": "ec23c318-7dab-4f36-eddc-f47bcb4fef67"
      },
      "outputs": [
        {
          "output_type": "display_data",
          "data": {
            "text/html": [
              "<style>.container { width:95% !important; }</style>"
            ],
            "text/plain": [
              "<IPython.core.display.HTML object>"
            ]
          },
          "metadata": {}
        }
      ],
      "source": [
        "from IPython.core.display import display, HTML\n",
        "display(HTML(\"<style>.container { width:95% !important; }</style>\"))"
      ]
    },
    {
      "cell_type": "markdown",
      "metadata": {
        "id": "wOOQZ8WBVoI8"
      },
      "source": [
        "# Colegio Invisible"
      ]
    },
    {
      "cell_type": "code",
      "execution_count": 2,
      "metadata": {
        "colab": {
          "base_uri": "https://localhost:8080/"
        },
        "id": "KyBP1TROVoI9",
        "outputId": "2bb38713-81c9-4bbd-8e99-4bf919338af9"
      },
      "outputs": [
        {
          "output_type": "stream",
          "name": "stdout",
          "text": [
            "Collecting cryptos\n",
            "  Downloading cryptos-1.36-py3-none-any.whl (69 kB)\n",
            "\u001b[?25l\r\u001b[K     |████▊                           | 10 kB 22.9 MB/s eta 0:00:01\r\u001b[K     |█████████▌                      | 20 kB 25.8 MB/s eta 0:00:01\r\u001b[K     |██████████████▎                 | 30 kB 21.5 MB/s eta 0:00:01\r\u001b[K     |███████████████████             | 40 kB 12.0 MB/s eta 0:00:01\r\u001b[K     |███████████████████████▊        | 51 kB 5.6 MB/s eta 0:00:01\r\u001b[K     |████████████████████████████▌   | 61 kB 5.5 MB/s eta 0:00:01\r\u001b[K     |████████████████████████████████| 69 kB 3.4 MB/s \n",
            "\u001b[?25hInstalling collected packages: cryptos\n",
            "Successfully installed cryptos-1.36\n"
          ]
        }
      ],
      "source": [
        "! pip install cryptos"
      ]
    },
    {
      "cell_type": "code",
      "source": [
        "! pip install eciespy"
      ],
      "metadata": {
        "colab": {
          "base_uri": "https://localhost:8080/"
        },
        "id": "9HQ68nZiWWdz",
        "outputId": "afca4a17-6553-4296-9847-39231b4150f0"
      },
      "execution_count": 3,
      "outputs": [
        {
          "output_type": "stream",
          "name": "stdout",
          "text": [
            "Collecting eciespy\n",
            "  Downloading eciespy-0.3.11-py3-none-any.whl (11 kB)\n",
            "Collecting pycryptodome<4.0.0,>=3.9.9\n",
            "  Downloading pycryptodome-3.12.0-cp35-abi3-manylinux2010_x86_64.whl (2.0 MB)\n",
            "\u001b[K     |████████████████████████████████| 2.0 MB 5.1 MB/s \n",
            "\u001b[?25hCollecting eth-keys<0.4.0,>=0.3.3\n",
            "  Downloading eth_keys-0.3.3-py3-none-any.whl (20 kB)\n",
            "Collecting coincurve<16,>=13\n",
            "  Downloading coincurve-15.0.1-cp37-cp37m-manylinux_2_17_x86_64.manylinux2014_x86_64.whl (555 kB)\n",
            "\u001b[K     |████████████████████████████████| 555 kB 57.2 MB/s \n",
            "\u001b[?25hRequirement already satisfied: cffi>=1.3.0 in /usr/local/lib/python3.7/dist-packages (from coincurve<16,>=13->eciespy) (1.15.0)\n",
            "Collecting asn1crypto\n",
            "  Downloading asn1crypto-1.4.0-py2.py3-none-any.whl (104 kB)\n",
            "\u001b[K     |████████████████████████████████| 104 kB 55.9 MB/s \n",
            "\u001b[?25hRequirement already satisfied: pycparser in /usr/local/lib/python3.7/dist-packages (from cffi>=1.3.0->coincurve<16,>=13->eciespy) (2.21)\n",
            "Collecting eth-typing<3.0.0,>=2.2.1\n",
            "  Downloading eth_typing-2.2.2-py3-none-any.whl (6.2 kB)\n",
            "Collecting eth-utils<2.0.0,>=1.3.0\n",
            "  Downloading eth_utils-1.10.0-py3-none-any.whl (24 kB)\n",
            "Collecting eth-hash<0.4.0,>=0.3.1\n",
            "  Downloading eth_hash-0.3.2-py3-none-any.whl (8.8 kB)\n",
            "Collecting cytoolz<1.0.0,>=0.10.1\n",
            "  Downloading cytoolz-0.11.2.tar.gz (481 kB)\n",
            "\u001b[K     |████████████████████████████████| 481 kB 54.5 MB/s \n",
            "\u001b[?25hRequirement already satisfied: toolz>=0.8.0 in /usr/local/lib/python3.7/dist-packages (from cytoolz<1.0.0,>=0.10.1->eth-utils<2.0.0,>=1.3.0->eth-keys<0.4.0,>=0.3.3->eciespy) (0.11.2)\n",
            "Building wheels for collected packages: cytoolz\n",
            "  Building wheel for cytoolz (setup.py) ... \u001b[?25l\u001b[?25hdone\n",
            "  Created wheel for cytoolz: filename=cytoolz-0.11.2-cp37-cp37m-linux_x86_64.whl size=1231081 sha256=6a405611ca9a009f23c85ad3b40d30a90813ba96a0468949a47b749de56652b6\n",
            "  Stored in directory: /root/.cache/pip/wheels/38/70/71/ca13ea3d36ccd0b3d0ec7d7a4ca67522048d695b556bba4f59\n",
            "Successfully built cytoolz\n",
            "Installing collected packages: eth-typing, eth-hash, cytoolz, eth-utils, asn1crypto, pycryptodome, eth-keys, coincurve, eciespy\n",
            "Successfully installed asn1crypto-1.4.0 coincurve-15.0.1 cytoolz-0.11.2 eciespy-0.3.11 eth-hash-0.3.2 eth-keys-0.3.3 eth-typing-2.2.2 eth-utils-1.10.0 pycryptodome-3.12.0\n"
          ]
        }
      ]
    },
    {
      "cell_type": "code",
      "execution_count": 4,
      "metadata": {
        "colab": {
          "base_uri": "https://localhost:8080/"
        },
        "id": "11xNrqZGVoI9",
        "outputId": "6f1bef3a-42fc-433b-a017-f7c81600ec69"
      },
      "outputs": [
        {
          "output_type": "stream",
          "name": "stdout",
          "text": [
            "Cloning into 'Colegio_Invisible'...\n",
            "remote: Enumerating objects: 126, done.\u001b[K\n",
            "remote: Counting objects: 100% (126/126), done.\u001b[K\n",
            "remote: Compressing objects: 100% (124/124), done.\u001b[K\n",
            "remote: Total 126 (delta 70), reused 0 (delta 0), pack-reused 0\u001b[K\n",
            "Receiving objects: 100% (126/126), 8.66 MiB | 12.47 MiB/s, done.\n",
            "Resolving deltas: 100% (70/70), done.\n"
          ]
        }
      ],
      "source": [
        "! git clone https://github.com/ProfDoeg/Colegio_Invisible.git"
      ]
    },
    {
      "cell_type": "code",
      "source": [
        "! mkdir teclas"
      ],
      "metadata": {
        "id": "VtpQeDMOcB0n"
      },
      "execution_count": 5,
      "outputs": []
    },
    {
      "cell_type": "code",
      "source": [
        "! python Colegio_Invisible/scripts/ecc_generate.py teclas/my_privkey.enc"
      ],
      "metadata": {
        "colab": {
          "base_uri": "https://localhost:8080/"
        },
        "id": "xJMgIO8wV6NT",
        "outputId": "13b2eeff-e159-40e6-ae54-1e413d9b9b8f"
      },
      "execution_count": 6,
      "outputs": [
        {
          "output_type": "stream",
          "name": "stdout",
          "text": [
            "Input password for encrypting keyfile: \n",
            "Repeat password for encrypting keyfile: \n",
            "\n",
            "Passwords match...\n",
            "Private key generation complete\n",
            "Private key encrypted and written to binary file: teclas/my_privkey.enc\n",
            "f49ec9fa37a8b64912d1a1b2e5d45929d1bcb83549800841d8ed7e9b5cae4ae68a9a21d8a691fe95dafdc229a9c692b35ae7c3358bef51314d6b5d0bbf10b8e3\n"
          ]
        }
      ]
    },
    {
      "cell_type": "code",
      "source": [
        "#! rm -r Colegio_Invisible"
      ],
      "metadata": {
        "id": "dyHbhpTSYQRQ"
      },
      "execution_count": 7,
      "outputs": []
    },
    {
      "cell_type": "code",
      "source": [
        "! python Colegio_Invisible/scripts/ecc_pubkey_extract.py teclas/my_privkey.enc teclas/my_pubkey.enc"
      ],
      "metadata": {
        "colab": {
          "base_uri": "https://localhost:8080/"
        },
        "id": "b4E8KKXxYjaE",
        "outputId": "82b5d690-b7c2-4754-f896-f665042104c1"
      },
      "execution_count": 7,
      "outputs": [
        {
          "output_type": "stream",
          "name": "stdout",
          "text": [
            "Input password for private key file: \n",
            "Input password for public key file: \n",
            "Repeat password for public key file: \n",
            "\n",
            "Passwords match...\n",
            "Completed public key extraction from: teclas/my_privkey.enc\n",
            "Public key encrypted and written to binary file: teclas/my_pubkey.enc\n",
            "a86b28c0426c6dccf325d6c5d19e7aa798e5501e534c5c18f5be1422919996dbacd3a66a7a6c18337c9473ab5ec23d2aaf8fd9ee03576488a70af573a8c31382546dbae54e2d72936744f7f20cc9703e77864e6dd550fe957d66e1fa7f38badd\n"
          ]
        }
      ]
    },
    {
      "cell_type": "code",
      "source": [
        "! python Colegio_Invisible/scripts/ecc_keydump.py teclas/my_pubkey.enc"
      ],
      "metadata": {
        "id": "_k94L3Iv7lUa",
        "outputId": "7f201a75-137d-4e14-8fc2-9e0a1d1e7dc1",
        "colab": {
          "base_uri": "https://localhost:8080/"
        }
      },
      "execution_count": 8,
      "outputs": [
        {
          "output_type": "stream",
          "name": "stdout",
          "text": [
            "Input password for key file: \n",
            "0a8540f0d683628cb7e52b60c2e94c5b533c0c2febb1d18aa05df6d2413d9d4c19645c058a3675c7c8d3f6233ae239bb55c74d7ef573ec44644c9ac54356f59d\n"
          ]
        }
      ]
    },
    {
      "cell_type": "code",
      "source": [
        "pubkey=!{'python Colegio_Invisible/scripts/ecc_keydump.py teclas/my_pubkey.enc'}\n",
        "pubkey"
      ],
      "metadata": {
        "colab": {
          "base_uri": "https://localhost:8080/"
        },
        "id": "OCXWvtE-WTkP",
        "outputId": "2e909d5f-b0b4-4bb4-ffef-833b3e05c6b4"
      },
      "execution_count": 9,
      "outputs": [
        {
          "output_type": "execute_result",
          "data": {
            "text/plain": [
              "['Input password for key file: ',\n",
              " '0a8540f0d683628cb7e52b60c2e94c5b533c0c2febb1d18aa05df6d2413d9d4c19645c058a3675c7c8d3f6233ae239bb55c74d7ef573ec44644c9ac54356f59d']"
            ]
          },
          "metadata": {},
          "execution_count": 9
        }
      ]
    },
    {
      "cell_type": "code",
      "source": [
        "pbytes.fromhex(pubkey[-1])"
      ],
      "metadata": {
        "colab": {
          "base_uri": "https://localhost:8080/"
        },
        "id": "uxsLMpXtZs7Q",
        "outputId": "8f3324dc-ab0c-4f55-d080-834c40eb51d4"
      },
      "execution_count": 25,
      "outputs": [
        {
          "output_type": "execute_result",
          "data": {
            "text/plain": [
              "b'@\\x9d%\\xe0V[\\x1d\\x9e,\\x86\\x9cJs{o;JT\\xfd\\xf2:\\x82^_[\\xdb\\x03\"\\xec\\x10j\\xdcP!n\\xc5|_htv\\xba\\xe40I\\xf0\\xa4\\x83\\xcf4\\xb2\\x8b\\xc5PH\\xbf\\xe5Ib\\xf0@\\x07\\xc2\\x9b'"
            ]
          },
          "metadata": {},
          "execution_count": 25
        }
      ]
    },
    {
      "cell_type": "code",
      "source": [
        ""
      ],
      "metadata": {
        "id": "QQylCDQ0ZIpC"
      },
      "execution_count": null,
      "outputs": []
    }
  ],
  "metadata": {
    "kernelspec": {
      "display_name": "Python 3",
      "language": "python",
      "name": "python3"
    },
    "language_info": {
      "codemirror_mode": {
        "name": "ipython",
        "version": 3
      },
      "file_extension": ".py",
      "mimetype": "text/x-python",
      "name": "python",
      "nbconvert_exporter": "python",
      "pygments_lexer": "ipython3",
      "version": "3.7.6"
    },
    "colab": {
      "name": "02_cuaderno.ipynb",
      "provenance": []
    }
  },
  "nbformat": 4,
  "nbformat_minor": 0
}