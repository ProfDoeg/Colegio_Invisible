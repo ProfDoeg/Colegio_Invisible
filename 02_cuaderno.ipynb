{
  "cells": [
    {
      "cell_type": "markdown",
      "metadata": {
        "id": "N5LxjU3GVoI3"
      },
      "source": [
        "<a href=\"https://colab.research.google.com/github/ProfDoeg/Colegio_Invisible/blob/master/02_cuaderno.ipynb\" target=\"_parent\"><img src=\"https://colab.research.google.com/assets/colab-badge.svg\" alt=\"Open In Colab\"/></a>"
      ]
    },
    {
      "cell_type": "code",
      "execution_count": 1,
      "metadata": {
        "colab": {
          "base_uri": "https://localhost:8080/",
          "height": 17
        },
        "id": "GdDylRrmVoI7",
        "outputId": "ec23c318-7dab-4f36-eddc-f47bcb4fef67"
      },
      "outputs": [
        {
          "output_type": "display_data",
          "data": {
            "text/html": [
              "<style>.container { width:95% !important; }</style>"
            ],
            "text/plain": [
              "<IPython.core.display.HTML object>"
            ]
          },
          "metadata": {}
        }
      ],
      "source": [
        "from IPython.core.display import display, HTML\n",
        "display(HTML(\"<style>.container { width:95% !important; }</style>\"))"
      ]
    },
    {
      "cell_type": "code",
      "execution_count": 3,
      "metadata": {
        "colab": {
          "base_uri": "https://localhost:8080/"
        },
        "id": "11xNrqZGVoI9",
        "outputId": "0295db46-21b9-48a2-a816-a9d2f04f60e8"
      },
      "outputs": [
        {
          "output_type": "stream",
          "name": "stdout",
          "text": [
            "Cloning into 'Colegio_Invisible'...\n",
            "remote: Enumerating objects: 129, done.\u001b[K\n",
            "remote: Counting objects: 100% (129/129), done.\u001b[K\n",
            "remote: Compressing objects: 100% (127/127), done.\u001b[K\n",
            "remote: Total 129 (delta 72), reused 0 (delta 0), pack-reused 0\u001b[K\n",
            "Receiving objects: 100% (129/129), 8.66 MiB | 8.77 MiB/s, done.\n",
            "Resolving deltas: 100% (72/72), done.\n"
          ]
        }
      ],
      "source": [
        "! git clone https://github.com/ProfDoeg/Colegio_Invisible.git"
      ]
    },
    {
      "cell_type": "markdown",
      "metadata": {
        "id": "wOOQZ8WBVoI8"
      },
      "source": [
        "# Basic Cryptography and Script Writing\n",
        "\n",
        "## Outline\n",
        "\n",
        "In this introduction we cover:\n",
        "\n",
        "- cryptographic hash functions\n",
        "- symmetric cryptography\n",
        "- asymmetric cryptography\n",
        "- scripts\n",
        "\n",
        "By the end of the exposition you will:\n",
        "\n",
        "- understand the structure of python script\n",
        "- be able to run a Python script from terminal\n",
        "- be able direct the script with user input\n",
        "- understand the features of a cryptographic **hash function**\n",
        "- be able to hash a string or file using **SHA256**\n",
        "- understand the features of **symmetric cryptography**\n",
        "- be able to generate an **AES** cryptographic **key**\n",
        "- be able to **AES encrypt** a string or file using a symmetric key\n",
        "- be able to **AES decrypt** a string or file using AES\n",
        "- understand the features of **asymmetric cryptography**\n",
        "- be able to generate a new **private key** object\n",
        "- be able to access the byte or hex value of the private key\n",
        "- be able to import a previously generated **private key** from bytes\n",
        "- be able to extract a **public key** from the private key\n",
        "- be able to access the byte or hex value of the public key\n",
        "- understand ECDSA digital signature\n",
        "- be able to **sign** a message with a private key\n",
        "- be able to **verify** a message signature with a public key\n",
        "- understand ECIES\n",
        "- be able to **ECIES encrypt** with a public key\n",
        "- be able to **ECIES decrypt** with a private key\n",
        "\n",
        "----"
      ]
    },
    {
      "cell_type": "markdown",
      "source": [
        "# Cryptographic Hash Functions\n",
        "\n",
        "A cryptographic hash function is an algorithm that takes an arbitrary amount of data input and produces a fixed-size output  of gibberish called a digest, checksum, fingerprint, hash code, hash value, or just “hash.” \n",
        "\n",
        "$$ F(\\text{input})\\longrightarrow \\text{hash}$$\n",
        "\n",
        "Cryptographic hash function should have the following features. They should be:\n",
        "\n",
        "- **[ONE-WAY FUNCTION]** the input to the function cannot be derived from the output \n",
        "- **[INPUT HYPERSENSITIVITE]** a tiny change in input should drastically change output\n",
        "- **[DETERMINISTIC]** the output of the function should always be the same for a given input\n",
        "-  **[NON-PREDICTABLE]** there are no computational short cuts in producing the hash from the input\n",
        "- **[COLLISION RESISTANT]** two different inputs should never produce the same hash ouput for the remainder of all human history\n",
        "\n",
        "**SHA256** is a cryptographic hash function with a 256 bit output prescribed by the U.S. National Institute of Standards and Technology.\n",
        "\n",
        "We implement SHA256 in Python using the **`hashlib`**"
      ],
      "metadata": {
        "id": "2iIHrHcWglsQ"
      }
    },
    {
      "cell_type": "markdown",
      "source": [
        "## Apply SHA256 using Terminal\n",
        "\n",
        "UNIX like systems can hash from the terminal\n",
        "\n",
        "It can be done on:\n",
        "\n",
        "- a string\n",
        "- a file"
      ],
      "metadata": {
        "id": "dh19kXZU2sP3"
      }
    },
    {
      "cell_type": "code",
      "source": [
        "! echo 🐶| shasum -a 256 "
      ],
      "metadata": {
        "colab": {
          "base_uri": "https://localhost:8080/"
        },
        "id": "_v9w4MCVUY3L",
        "outputId": "dcb5919f-102f-44c9-88ad-342fe0b8130d"
      },
      "execution_count": 44,
      "outputs": [
        {
          "output_type": "stream",
          "name": "stdout",
          "text": [
            "8890ce374cabbc70638ffa32507e16ca240fd1631907897c65b3e439dc2fa131  -\n"
          ]
        }
      ]
    },
    {
      "cell_type": "code",
      "source": [
        "! ls Colegio_Invisible/img"
      ],
      "metadata": {
        "colab": {
          "base_uri": "https://localhost:8080/"
        },
        "id": "4Z2w44o_3M-l",
        "outputId": "18826e42-318f-4a4f-aa7e-2c96579a3591"
      },
      "execution_count": 33,
      "outputs": [
        {
          "output_type": "stream",
          "name": "stdout",
          "text": [
            "colegio_invisible.jpeg\thg_drop.jpeg  hg_house.jpeg   hg_rough.png\n",
            "hg_cry.jpeg\t\thg_hide.jpeg  hg_invite.jpeg  hg_xmas.jpeg\n"
          ]
        }
      ]
    },
    {
      "cell_type": "code",
      "source": [
        "! shasum -a 256 Colegio_Invisible/img/colegio_invisible.jpeg"
      ],
      "metadata": {
        "colab": {
          "base_uri": "https://localhost:8080/"
        },
        "id": "gajLm7Dr3Hfw",
        "outputId": "397ed427-3aa2-48d1-d2d1-4b998d73ba34"
      },
      "execution_count": 45,
      "outputs": [
        {
          "output_type": "stream",
          "name": "stdout",
          "text": [
            "1d5879bb04266dc0c215414dcc2045ea09082c45f532657fc8bc0bbaab588fce  Colegio_Invisible/img/colegio_invisible.jpeg\n"
          ]
        }
      ]
    },
    {
      "cell_type": "markdown",
      "source": [
        "## Hashing Using Python"
      ],
      "metadata": {
        "id": "3qu9kmB2Glbi"
      }
    },
    {
      "cell_type": "markdown",
      "source": [
        "### Python Hashing Module `hashlib`\n",
        "\n",
        "We will be using the **`hashlib`** module to do our hashing work. A module is a toybox filled with delights.\n"
      ],
      "metadata": {
        "id": "F-0wiUL9iKE0"
      }
    },
    {
      "cell_type": "code",
      "source": [
        "import hashlib\n",
        "type(hashlib)"
      ],
      "metadata": {
        "colab": {
          "base_uri": "https://localhost:8080/"
        },
        "id": "ZrtVdbW0lCRn",
        "outputId": "5e4428b5-8306-4bc7-edd9-61b0267f0d4c"
      },
      "execution_count": 10,
      "outputs": [
        {
          "output_type": "execute_result",
          "data": {
            "text/plain": [
              "module"
            ]
          },
          "metadata": {},
          "execution_count": 10
        }
      ]
    },
    {
      "cell_type": "code",
      "source": [
        "hashlib.algorithms_available"
      ],
      "metadata": {
        "colab": {
          "base_uri": "https://localhost:8080/"
        },
        "id": "Xq73WkShlg_U",
        "outputId": "cee38516-8e38-41bf-b3c9-1acf6cfad4b3"
      },
      "execution_count": 11,
      "outputs": [
        {
          "output_type": "execute_result",
          "data": {
            "text/plain": [
              "{'blake2b',\n",
              " 'blake2s',\n",
              " 'md5',\n",
              " 'sha1',\n",
              " 'sha224',\n",
              " 'sha256',\n",
              " 'sha384',\n",
              " 'sha3_224',\n",
              " 'sha3_256',\n",
              " 'sha3_384',\n",
              " 'sha3_512',\n",
              " 'sha512',\n",
              " 'shake_128',\n",
              " 'shake_256'}"
            ]
          },
          "metadata": {},
          "execution_count": 11
        }
      ]
    },
    {
      "cell_type": "markdown",
      "source": [
        "### Prepare the Bytestring Input\n",
        "\n",
        "The input must be a bytestring, a string of `type` **`bytes`**.\n",
        "\n",
        "We can prepare a bytestring by:\n",
        "- using `b'  '` to write the literal\n",
        "- convert a string to `bytes` using `.encode()`  \n"
      ],
      "metadata": {
        "id": "hJgJV8uCvFBW"
      }
    },
    {
      "cell_type": "code",
      "source": [
        "b'a byte string'"
      ],
      "metadata": {
        "colab": {
          "base_uri": "https://localhost:8080/"
        },
        "id": "8zZngqUPu9sn",
        "outputId": "7fa3eccb-15f2-4619-b5e9-54a419b84d4e"
      },
      "execution_count": 19,
      "outputs": [
        {
          "output_type": "execute_result",
          "data": {
            "text/plain": [
              "b'a byte string'"
            ]
          },
          "metadata": {},
          "execution_count": 19
        }
      ]
    },
    {
      "cell_type": "code",
      "source": [
        "type(b'a byte string')"
      ],
      "metadata": {
        "colab": {
          "base_uri": "https://localhost:8080/"
        },
        "id": "9ZkueidDnmz8",
        "outputId": "4e77ab1a-14ca-4143-8635-88f33dfb7538"
      },
      "execution_count": 14,
      "outputs": [
        {
          "output_type": "execute_result",
          "data": {
            "text/plain": [
              "bytes"
            ]
          },
          "metadata": {},
          "execution_count": 14
        }
      ]
    },
    {
      "cell_type": "code",
      "source": [
        "type('🐶')"
      ],
      "metadata": {
        "colab": {
          "base_uri": "https://localhost:8080/"
        },
        "id": "1S9LiMZr0F0t",
        "outputId": "8833b409-6585-4433-dbdb-c86c2272ea6f"
      },
      "execution_count": 20,
      "outputs": [
        {
          "output_type": "execute_result",
          "data": {
            "text/plain": [
              "str"
            ]
          },
          "metadata": {},
          "execution_count": 20
        }
      ]
    },
    {
      "cell_type": "code",
      "source": [
        "str.encode('🐶')"
      ],
      "metadata": {
        "colab": {
          "base_uri": "https://localhost:8080/"
        },
        "id": "ktrgwEjj0S5b",
        "outputId": "d0567e24-0b8a-41e6-8e1e-208510db7aab"
      },
      "execution_count": 21,
      "outputs": [
        {
          "output_type": "execute_result",
          "data": {
            "text/plain": [
              "b'\\xf0\\x9f\\x90\\xb6'"
            ]
          },
          "metadata": {},
          "execution_count": 21
        }
      ]
    },
    {
      "cell_type": "code",
      "source": [
        "'🐶'.encode()"
      ],
      "metadata": {
        "colab": {
          "base_uri": "https://localhost:8080/"
        },
        "id": "2RmCa4Wsu4qa",
        "outputId": "79f8a8d0-0768-4728-9e8b-4de643b9ddf6"
      },
      "execution_count": 18,
      "outputs": [
        {
          "output_type": "execute_result",
          "data": {
            "text/plain": [
              "b'\\xf0\\x9f\\x90\\xb6'"
            ]
          },
          "metadata": {},
          "execution_count": 18
        }
      ]
    },
    {
      "cell_type": "markdown",
      "source": [
        "### Apply SHA256 to Bytestring using Python\n",
        "\n",
        "We will be using `sha256`. The following code creates a `sha256 HASH object`\n",
        "\n",
        "- `.digest()` returns the sha256 digest as a bytestring\n",
        "- `.hexdigest()` returns the sha256 digest as a hexstring"
      ],
      "metadata": {
        "id": "rK8rkYF70K9F"
      }
    },
    {
      "cell_type": "code",
      "source": [
        "H=hashlib.sha256(b'a byte string')\n",
        "H"
      ],
      "metadata": {
        "colab": {
          "base_uri": "https://localhost:8080/"
        },
        "id": "5PpqFli9mF4z",
        "outputId": "c7761eee-c03a-4d3f-f974-55dd0a4f3d40"
      },
      "execution_count": 15,
      "outputs": [
        {
          "output_type": "execute_result",
          "data": {
            "text/plain": [
              "<sha256 HASH object @ 0x7f37b14e4420>"
            ]
          },
          "metadata": {},
          "execution_count": 15
        }
      ]
    },
    {
      "cell_type": "code",
      "source": [
        "H.hexdigest()"
      ],
      "metadata": {
        "colab": {
          "base_uri": "https://localhost:8080/",
          "height": 35
        },
        "id": "GPfHc1I5n51-",
        "outputId": "e49fbe3d-e3fa-4df2-9aee-b616a8e65347"
      },
      "execution_count": 16,
      "outputs": [
        {
          "output_type": "execute_result",
          "data": {
            "application/vnd.google.colaboratory.intrinsic+json": {
              "type": "string"
            },
            "text/plain": [
              "'c4305ca4e36e8476a629d8e9ff44b4edcdc0e1d8843baa06d5e2c070a79f4986'"
            ]
          },
          "metadata": {},
          "execution_count": 16
        }
      ]
    },
    {
      "cell_type": "code",
      "source": [
        "H.digest()"
      ],
      "metadata": {
        "colab": {
          "base_uri": "https://localhost:8080/"
        },
        "id": "8vAKpEpRuuFL",
        "outputId": "ed2f16cc-fd6a-403b-c4ac-615d63970882"
      },
      "execution_count": 17,
      "outputs": [
        {
          "output_type": "execute_result",
          "data": {
            "text/plain": [
              "b'\\xc40\\\\\\xa4\\xe3n\\x84v\\xa6)\\xd8\\xe9\\xffD\\xb4\\xed\\xcd\\xc0\\xe1\\xd8\\x84;\\xaa\\x06\\xd5\\xe2\\xc0p\\xa7\\x9fI\\x86'"
            ]
          },
          "metadata": {},
          "execution_count": 17
        }
      ]
    },
    {
      "cell_type": "code",
      "source": [
        "hashlib.sha256( '🐶'.encode() ).digest()"
      ],
      "metadata": {
        "colab": {
          "base_uri": "https://localhost:8080/"
        },
        "id": "9Mc2HUdPUYw3",
        "outputId": "2bcb2f18-f72c-4f70-fc90-0cf8e0489f13"
      },
      "execution_count": 42,
      "outputs": [
        {
          "output_type": "execute_result",
          "data": {
            "text/plain": [
              "b'\\x88\\x90\\xce7L\\xab\\xbcpc\\x8f\\xfa2P~\\x16\\xca$\\x0f\\xd1c\\x19\\x07\\x89|e\\xb3\\xe49\\xdc/\\xa11'"
            ]
          },
          "metadata": {},
          "execution_count": 42
        }
      ]
    },
    {
      "cell_type": "code",
      "source": [
        "hashlib.sha256( '🐶'.encode() ).hexdigest()"
      ],
      "metadata": {
        "colab": {
          "base_uri": "https://localhost:8080/",
          "height": 35
        },
        "id": "Q-gSyLLr2i3c",
        "outputId": "084968d0-637c-4408-e753-fffbe146c663"
      },
      "execution_count": 29,
      "outputs": [
        {
          "output_type": "execute_result",
          "data": {
            "application/vnd.google.colaboratory.intrinsic+json": {
              "type": "string"
            },
            "text/plain": [
              "'895eb9a2e6d497e22a456a55f403293d8070312c952640b498b7b680da47a3ac'"
            ]
          },
          "metadata": {},
          "execution_count": 29
        }
      ]
    },
    {
      "cell_type": "code",
      "source": [
        "hashlib.sha256( '🐶\\n'.encode() ).hexdigest()"
      ],
      "metadata": {
        "id": "7GvYcD8LEXs8",
        "outputId": "8e652ac5-78c6-4fd1-84bc-8669ddfec1d6",
        "colab": {
          "base_uri": "https://localhost:8080/",
          "height": 35
        }
      },
      "execution_count": 43,
      "outputs": [
        {
          "output_type": "execute_result",
          "data": {
            "application/vnd.google.colaboratory.intrinsic+json": {
              "type": "string"
            },
            "text/plain": [
              "'8890ce374cabbc70638ffa32507e16ca240fd1631907897c65b3e439dc2fa131'"
            ]
          },
          "metadata": {},
          "execution_count": 43
        }
      ]
    },
    {
      "cell_type": "markdown",
      "source": [
        "### Apply SHA256 to File using Python\n",
        "\n",
        "File is opened as **binary** using `open()` in mode `'rb'` read binary."
      ],
      "metadata": {
        "id": "a07T4_YOCGnH"
      }
    },
    {
      "cell_type": "code",
      "source": [
        "img_file=open('Colegio_Invisible/img/colegio_invisible.jpeg','rb')\n",
        "img_bytes=img_file.read()\n",
        "img_file.close()"
      ],
      "metadata": {
        "id": "yCpYiSVjB5Cy"
      },
      "execution_count": 35,
      "outputs": []
    },
    {
      "cell_type": "code",
      "source": [
        "hashlib.sha256( img_bytes ).hexdigest()"
      ],
      "metadata": {
        "id": "G0K2vrLGDNf6",
        "outputId": "55eac19f-5095-43c0-d065-1e7bd33864a5",
        "colab": {
          "base_uri": "https://localhost:8080/",
          "height": 35
        }
      },
      "execution_count": 36,
      "outputs": [
        {
          "output_type": "execute_result",
          "data": {
            "application/vnd.google.colaboratory.intrinsic+json": {
              "type": "string"
            },
            "text/plain": [
              "'1d5879bb04266dc0c215414dcc2045ea09082c45f532657fc8bc0bbaab588fce'"
            ]
          },
          "metadata": {},
          "execution_count": 36
        }
      ]
    },
    {
      "cell_type": "code",
      "source": [
        "def sha256_file(path):\n",
        "  bytestring = open(path,'rb').read()\n",
        "  return hashlib.sha256( bytestring ).hexdigest()"
      ],
      "metadata": {
        "id": "eSsWZ95uDbOz"
      },
      "execution_count": 37,
      "outputs": []
    },
    {
      "cell_type": "code",
      "source": [
        "sha256_file('Colegio_Invisible/img/colegio_invisible.jpeg')"
      ],
      "metadata": {
        "id": "i6uuyzg6DyYB",
        "outputId": "c1b0661b-6da4-4d2e-e7fe-c9199599ac7f",
        "colab": {
          "base_uri": "https://localhost:8080/",
          "height": 35
        }
      },
      "execution_count": 38,
      "outputs": [
        {
          "output_type": "execute_result",
          "data": {
            "application/vnd.google.colaboratory.intrinsic+json": {
              "type": "string"
            },
            "text/plain": [
              "'1d5879bb04266dc0c215414dcc2045ea09082c45f532657fc8bc0bbaab588fce'"
            ]
          },
          "metadata": {},
          "execution_count": 38
        }
      ]
    },
    {
      "cell_type": "code",
      "source": [
        ""
      ],
      "metadata": {
        "id": "Ve5-yn6tUY6A"
      },
      "execution_count": null,
      "outputs": []
    },
    {
      "cell_type": "markdown",
      "source": [
        "### Apply SHA256 to Using a Python Script\n",
        "\n"
      ],
      "metadata": {
        "id": "RGmtIYE3G9Mo"
      }
    },
    {
      "cell_type": "code",
      "source": [
        ""
      ],
      "metadata": {
        "id": "6vRc6mQqUY88"
      },
      "execution_count": null,
      "outputs": []
    },
    {
      "cell_type": "code",
      "execution_count": 2,
      "metadata": {
        "colab": {
          "base_uri": "https://localhost:8080/"
        },
        "id": "KyBP1TROVoI9",
        "outputId": "2bb38713-81c9-4bbd-8e99-4bf919338af9"
      },
      "outputs": [
        {
          "output_type": "stream",
          "name": "stdout",
          "text": [
            "Collecting cryptos\n",
            "  Downloading cryptos-1.36-py3-none-any.whl (69 kB)\n",
            "\u001b[?25l\r\u001b[K     |████▊                           | 10 kB 22.9 MB/s eta 0:00:01\r\u001b[K     |█████████▌                      | 20 kB 25.8 MB/s eta 0:00:01\r\u001b[K     |██████████████▎                 | 30 kB 21.5 MB/s eta 0:00:01\r\u001b[K     |███████████████████             | 40 kB 12.0 MB/s eta 0:00:01\r\u001b[K     |███████████████████████▊        | 51 kB 5.6 MB/s eta 0:00:01\r\u001b[K     |████████████████████████████▌   | 61 kB 5.5 MB/s eta 0:00:01\r\u001b[K     |████████████████████████████████| 69 kB 3.4 MB/s \n",
            "\u001b[?25hInstalling collected packages: cryptos\n",
            "Successfully installed cryptos-1.36\n"
          ]
        }
      ],
      "source": [
        "! pip install cryptos"
      ]
    },
    {
      "cell_type": "code",
      "source": [
        "! pip install eciespy"
      ],
      "metadata": {
        "colab": {
          "base_uri": "https://localhost:8080/"
        },
        "id": "9HQ68nZiWWdz",
        "outputId": "0d0fd167-19dd-47be-8fd9-6afc68ffefb1"
      },
      "execution_count": 1,
      "outputs": [
        {
          "output_type": "stream",
          "name": "stdout",
          "text": [
            "Collecting eciespy\n",
            "  Downloading eciespy-0.3.11-py3-none-any.whl (11 kB)\n",
            "Collecting pycryptodome<4.0.0,>=3.9.9\n",
            "  Downloading pycryptodome-3.12.0-cp35-abi3-manylinux2010_x86_64.whl (2.0 MB)\n",
            "\u001b[K     |████████████████████████████████| 2.0 MB 4.4 MB/s \n",
            "\u001b[?25hCollecting coincurve<16,>=13\n",
            "  Downloading coincurve-15.0.1-cp37-cp37m-manylinux_2_17_x86_64.manylinux2014_x86_64.whl (555 kB)\n",
            "\u001b[K     |████████████████████████████████| 555 kB 20.5 MB/s \n",
            "\u001b[?25hCollecting eth-keys<0.4.0,>=0.3.3\n",
            "  Downloading eth_keys-0.3.3-py3-none-any.whl (20 kB)\n",
            "Collecting asn1crypto\n",
            "  Downloading asn1crypto-1.4.0-py2.py3-none-any.whl (104 kB)\n",
            "\u001b[K     |████████████████████████████████| 104 kB 55.1 MB/s \n",
            "\u001b[?25hRequirement already satisfied: cffi>=1.3.0 in /usr/local/lib/python3.7/dist-packages (from coincurve<16,>=13->eciespy) (1.15.0)\n",
            "Requirement already satisfied: pycparser in /usr/local/lib/python3.7/dist-packages (from cffi>=1.3.0->coincurve<16,>=13->eciespy) (2.21)\n",
            "Collecting eth-typing<3.0.0,>=2.2.1\n",
            "  Downloading eth_typing-2.2.2-py3-none-any.whl (6.2 kB)\n",
            "Collecting eth-utils<2.0.0,>=1.3.0\n",
            "  Downloading eth_utils-1.10.0-py3-none-any.whl (24 kB)\n",
            "Collecting eth-hash<0.4.0,>=0.3.1\n",
            "  Downloading eth_hash-0.3.2-py3-none-any.whl (8.8 kB)\n",
            "Collecting cytoolz<1.0.0,>=0.10.1\n",
            "  Downloading cytoolz-0.11.2.tar.gz (481 kB)\n",
            "\u001b[K     |████████████████████████████████| 481 kB 65.6 MB/s \n",
            "\u001b[?25hRequirement already satisfied: toolz>=0.8.0 in /usr/local/lib/python3.7/dist-packages (from cytoolz<1.0.0,>=0.10.1->eth-utils<2.0.0,>=1.3.0->eth-keys<0.4.0,>=0.3.3->eciespy) (0.11.2)\n",
            "Building wheels for collected packages: cytoolz\n",
            "  Building wheel for cytoolz (setup.py) ... \u001b[?25l\u001b[?25hdone\n",
            "  Created wheel for cytoolz: filename=cytoolz-0.11.2-cp37-cp37m-linux_x86_64.whl size=1231141 sha256=0aa9a163a8e3529563fd07d86143f033d742939acdb59f0bd5127065ca935d3d\n",
            "  Stored in directory: /root/.cache/pip/wheels/38/70/71/ca13ea3d36ccd0b3d0ec7d7a4ca67522048d695b556bba4f59\n",
            "Successfully built cytoolz\n",
            "Installing collected packages: eth-typing, eth-hash, cytoolz, eth-utils, asn1crypto, pycryptodome, eth-keys, coincurve, eciespy\n",
            "Successfully installed asn1crypto-1.4.0 coincurve-15.0.1 cytoolz-0.11.2 eciespy-0.3.11 eth-hash-0.3.2 eth-keys-0.3.3 eth-typing-2.2.2 eth-utils-1.10.0 pycryptodome-3.12.0\n"
          ]
        }
      ]
    },
    {
      "cell_type": "code",
      "source": [
        "! ls Colegio_Invisible/scripts\n",
        "! cat Colegio_Invisible/scripts/ecc_generate.py"
      ],
      "metadata": {
        "colab": {
          "base_uri": "https://localhost:8080/"
        },
        "id": "CyGdpdSpVda1",
        "outputId": "419b0a8b-a68a-4326-8b1b-95c9809076c5"
      },
      "execution_count": 5,
      "outputs": [
        {
          "output_type": "stream",
          "name": "stdout",
          "text": [
            "ecc_generate.py  ecc_keydump.py  ecc_pubkey_extract.py\n",
            "##################################################################################\n",
            "# this script will generate an ECC private key from a computer generate 256 bit random number\n",
            "# the key is saved to an AEC encrypted (password protected) file\n",
            "#\n",
            "# run at the terminal using the following\n",
            "# > python ecc_generate.py <PRIVKEY_PATH> <PRIVKEY_PASSWORD>\n",
            "# <PRIVKEY_PATH>: path to generated private key\n",
            "# <PRIVKEY_PASSWORD>: password for private key file\n",
            "#\n",
            "#EXAMPLE:\n",
            "#>python ecc_generate.py keys\\privkey.bin password123\n",
            "#\n",
            "# IF <PRIVKEY_PASSWORD> IS NOT INCLUDED USER WILL BE PROMPTED TO ENTER IT SECURELY\n",
            "##################################################################################\n",
            "\n",
            "from sys import argv\n",
            "import getpass\n",
            "import ecies\n",
            "import eth_keys\n",
            "import hashlib\n",
            "from Crypto.PublicKey import ECC\n",
            "from Crypto.Random import get_random_bytes\n",
            "\n",
            "\n",
            "if len(argv)==3:\n",
            "    _, privkey_path, privkey_password = argv\n",
            "elif len(argv)==2:\n",
            "    _, privkey_path = argv\n",
            "    while True:\n",
            "        privkey_password = getpass.getpass(\"Input password for encrypting keyfile: \")\n",
            "        privkey_password_2 = getpass.getpass(\"Repeat password for encrypting keyfile: \")\n",
            "        if privkey_password==privkey_password_2:\n",
            "            print('\\nPasswords match...')\n",
            "            break\n",
            "        else:\n",
            "            print('\\nPasswords do not match...')\n",
            "else:\n",
            "    print('Wrong number arguments. 1 or 2 expected.')\n",
            "    print('>python ecc_generate.py <PRIVKEY_PATH> <PRIVKEY_PASSWORD>')\n",
            "    print('IF <PRIVKEY_PASSWORD> IS NOT INCLUDED USER WILL BE PROMPTED TO ENTER IT SECURELY')\n",
            "    exit()\n",
            "\n",
            "def gen_privKey():\n",
            "    privKey=eth_keys.keys.PrivateKey(get_random_bytes(32) )\n",
            "    return privKey\n",
            "\n",
            "def save_key(key,path,password):\n",
            "    if type(password)!=bytes:\n",
            "        password=password.encode()\n",
            "    encrypted_bytes=ecies.aes_encrypt(key=hashlib.sha256(password).digest(),plain_text=key.to_bytes())\n",
            "    f=open(path,'wb')\n",
            "    f.write(encrypted_bytes)\n",
            "    f.close()\n",
            "    return encrypted_bytes\n",
            "\n",
            "#generate key\n",
            "privKey=gen_privKey()\n",
            "\n",
            "#generate password protected file\n",
            "encrypted_bytes=save_key(privKey,privkey_path,privkey_password)\n",
            "\n",
            "print('Private key generation complete') \n",
            "print('Private key encrypted and written to binary file:', privkey_path)\n",
            "print(encrypted_bytes.hex())"
          ]
        }
      ]
    },
    {
      "cell_type": "code",
      "source": [
        "! mkdir teclas"
      ],
      "metadata": {
        "id": "VtpQeDMOcB0n"
      },
      "execution_count": 5,
      "outputs": []
    },
    {
      "cell_type": "code",
      "source": [
        "! python Colegio_Invisible/scripts/ecc_generate.py teclas/my_privkey.enc"
      ],
      "metadata": {
        "colab": {
          "base_uri": "https://localhost:8080/"
        },
        "id": "xJMgIO8wV6NT",
        "outputId": "13b2eeff-e159-40e6-ae54-1e413d9b9b8f"
      },
      "execution_count": 6,
      "outputs": [
        {
          "output_type": "stream",
          "name": "stdout",
          "text": [
            "Input password for encrypting keyfile: \n",
            "Repeat password for encrypting keyfile: \n",
            "\n",
            "Passwords match...\n",
            "Private key generation complete\n",
            "Private key encrypted and written to binary file: teclas/my_privkey.enc\n",
            "f49ec9fa37a8b64912d1a1b2e5d45929d1bcb83549800841d8ed7e9b5cae4ae68a9a21d8a691fe95dafdc229a9c692b35ae7c3358bef51314d6b5d0bbf10b8e3\n"
          ]
        }
      ]
    },
    {
      "cell_type": "code",
      "source": [
        "#! rm -r Colegio_Invisible"
      ],
      "metadata": {
        "id": "dyHbhpTSYQRQ"
      },
      "execution_count": 7,
      "outputs": []
    },
    {
      "cell_type": "code",
      "source": [
        "! python Colegio_Invisible/scripts/ecc_pubkey_extract.py teclas/my_privkey.enc teclas/my_pubkey.enc"
      ],
      "metadata": {
        "colab": {
          "base_uri": "https://localhost:8080/"
        },
        "id": "b4E8KKXxYjaE",
        "outputId": "82b5d690-b7c2-4754-f896-f665042104c1"
      },
      "execution_count": 7,
      "outputs": [
        {
          "output_type": "stream",
          "name": "stdout",
          "text": [
            "Input password for private key file: \n",
            "Input password for public key file: \n",
            "Repeat password for public key file: \n",
            "\n",
            "Passwords match...\n",
            "Completed public key extraction from: teclas/my_privkey.enc\n",
            "Public key encrypted and written to binary file: teclas/my_pubkey.enc\n",
            "a86b28c0426c6dccf325d6c5d19e7aa798e5501e534c5c18f5be1422919996dbacd3a66a7a6c18337c9473ab5ec23d2aaf8fd9ee03576488a70af573a8c31382546dbae54e2d72936744f7f20cc9703e77864e6dd550fe957d66e1fa7f38badd\n"
          ]
        }
      ]
    },
    {
      "cell_type": "code",
      "source": [
        "! python Colegio_Invisible/scripts/ecc_keydump.py teclas/my_pubkey.enc"
      ],
      "metadata": {
        "colab": {
          "base_uri": "https://localhost:8080/"
        },
        "id": "_k94L3Iv7lUa",
        "outputId": "7f201a75-137d-4e14-8fc2-9e0a1d1e7dc1"
      },
      "execution_count": 8,
      "outputs": [
        {
          "output_type": "stream",
          "name": "stdout",
          "text": [
            "Input password for key file: \n",
            "0a8540f0d683628cb7e52b60c2e94c5b533c0c2febb1d18aa05df6d2413d9d4c19645c058a3675c7c8d3f6233ae239bb55c74d7ef573ec44644c9ac54356f59d\n"
          ]
        }
      ]
    },
    {
      "cell_type": "code",
      "source": [
        "pubkey=!{'python Colegio_Invisible/scripts/ecc_keydump.py teclas/my_pubkey.enc'}\n",
        "pubkey"
      ],
      "metadata": {
        "colab": {
          "base_uri": "https://localhost:8080/"
        },
        "id": "OCXWvtE-WTkP",
        "outputId": "2e909d5f-b0b4-4bb4-ffef-833b3e05c6b4"
      },
      "execution_count": 9,
      "outputs": [
        {
          "output_type": "execute_result",
          "data": {
            "text/plain": [
              "['Input password for key file: ',\n",
              " '0a8540f0d683628cb7e52b60c2e94c5b533c0c2febb1d18aa05df6d2413d9d4c19645c058a3675c7c8d3f6233ae239bb55c74d7ef573ec44644c9ac54356f59d']"
            ]
          },
          "metadata": {},
          "execution_count": 9
        }
      ]
    },
    {
      "cell_type": "code",
      "source": [
        "pbytes.fromhex(pubkey[-1])"
      ],
      "metadata": {
        "colab": {
          "base_uri": "https://localhost:8080/"
        },
        "id": "uxsLMpXtZs7Q",
        "outputId": "8f3324dc-ab0c-4f55-d080-834c40eb51d4"
      },
      "execution_count": 25,
      "outputs": [
        {
          "output_type": "execute_result",
          "data": {
            "text/plain": [
              "b'@\\x9d%\\xe0V[\\x1d\\x9e,\\x86\\x9cJs{o;JT\\xfd\\xf2:\\x82^_[\\xdb\\x03\"\\xec\\x10j\\xdcP!n\\xc5|_htv\\xba\\xe40I\\xf0\\xa4\\x83\\xcf4\\xb2\\x8b\\xc5PH\\xbf\\xe5Ib\\xf0@\\x07\\xc2\\x9b'"
            ]
          },
          "metadata": {},
          "execution_count": 25
        }
      ]
    },
    {
      "cell_type": "code",
      "source": [
        ""
      ],
      "metadata": {
        "id": "QQylCDQ0ZIpC"
      },
      "execution_count": null,
      "outputs": []
    }
  ],
  "metadata": {
    "kernelspec": {
      "display_name": "Python 3",
      "language": "python",
      "name": "python3"
    },
    "language_info": {
      "codemirror_mode": {
        "name": "ipython",
        "version": 3
      },
      "file_extension": ".py",
      "mimetype": "text/x-python",
      "name": "python",
      "nbconvert_exporter": "python",
      "pygments_lexer": "ipython3",
      "version": "3.7.6"
    },
    "colab": {
      "name": "02_cuaderno.ipynb",
      "provenance": []
    }
  },
  "nbformat": 4,
  "nbformat_minor": 0
}