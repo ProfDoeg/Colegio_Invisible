{
  "cells": [
    {
      "cell_type": "markdown",
      "metadata": {
        "id": "N5LxjU3GVoI3"
      },
      "source": [
        "# Guiones, Hashes, \n",
        "# Teclas, Claves, Llaves, Keys\n",
        "# y Contraseñas \n",
        "\n",
        "<a href=\"https://colab.research.google.com/github/ProfDoeg/Colegio_Invisible/blob/master/02_cuaderno.ipynb\" target=\"_parent\"><img src=\"https://colab.research.google.com/assets/colab-badge.svg\" alt=\"Open In Colab\"/></a>"
      ]
    },
    {
      "cell_type": "markdown",
      "source": [
        "# Prepar el Espacio (Prepare the Space)"
      ],
      "metadata": {
        "id": "8JTU10hy7FJf"
      }
    },
    {
      "cell_type": "code",
      "execution_count": null,
      "metadata": {
        "id": "11xNrqZGVoI9"
      },
      "outputs": [],
      "source": [
        "! git clone https://github.com/ProfDoeg/Colegio_Invisible.git\n",
        "! pip install eciespy"
      ]
    },
    {
      "cell_type": "markdown",
      "source": [
        "# Historias\n",
        "\n",
        "<center>\n",
        "<div>\n",
        "<img src=\"https://github.com/ProfDoeg/Colegio_Invisible/raw/main/img/clavis.jpeg\" width=\"600\"/>\n",
        "</div>\n",
        "</center>\n",
        "\n",
        "Volvemos nuestra atención a la ilustración de arriba, con la bruja y los dulces niños. La composición visual del enfrentamiento es útil para la siguiente exposición conceptual. Gretel mira las llaves y la garra que cuelgan del cinturón de la bruja, mientras Hanzel fija su atención en el rostro y el gesto de la mano de la bruja. Podemos usar los focos del foco de Gretel de los niños como un lugar para los pensamientos sobre las claves criptográficas y el de Hansel para los pensamientos sobre las contraseñas.\n",
        "\n",
        "***\n",
        "LATIN : ETIMOLOGÍA \n",
        "\n",
        "La palabra latína **clāvis** significa una clave. \n",
        "La etimología es del protoItálico **klāwis** que significas pestillo, cerradura, o barra. Hay una derivación secundaria del protoIndoEuropeo **klehu** que significas un clavo, alfiler, gancho, o instrumentos para cerrar puertas. Una palabra latín relacionada es **clāvus**, un IndoEuropea palabra que originalmente denotaba un instrumento para cerrar puertas.\n",
        "\n",
        "LATIN A ESPAÑOL : TRIPLE ETIMOLOGÍA \n",
        "\n",
        "LLAVE y CLAVE y CLAVO \n",
        "\n",
        "La palabra latina clavis (key) pasó originalmente al castellano con el sentido de “llave” (key fisical). Siglos después, en el uso culto, la palabra clavis se convirtió en “clave” (key codificada). Eso explica que en el fondo una clave es una llave: es algo que sirve para abrir algo que está cerrado, ya sea una cerradura o un misterio oculto. La palabra \"clavo\" significa muchas cosas: espiga, espárrago, especia de clavo, garra, uña, y pezuña de clavo.\n",
        "\n",
        "- la **llave**:\n",
        "wrench, key, adjusting tool, spanner, faucet, lock, brace, piston\n",
        "\n",
        "- la **clave**:\n",
        "key, code, clef, harpsichord, cipher\n",
        "\n",
        "- el **clavo**:\n",
        "nail, spike, stud, clove spice, claw, fingernail, clove hoof, spike, stud, cleat\n",
        "***\n",
        "\n",
        "Una **key** es un objeto diseñado para ser útil para controlar un instrumento. Puede ser un:\n",
        "- instrumento musical\n",
        "  - tecla de piano (piano key)\n",
        "  - llave de desagüe (trumpet mechanism)\n",
        "  - clavija de afinación (guitar tuning peg)\n",
        "- concepto o notación\n",
        "  - entendimiento clave (key understanding)\n",
        "  - testigo clave (key witness)\n",
        "  - clave de sol (treble clef)\n",
        "- dispositivo mecánico\n",
        "  - llave allen (allen key)\n",
        "  - llave de paso (plumbing knob)\n",
        "  - llave inglesa (wrench)\n",
        "- maquina de computacion\n",
        "  - teclado (keyboard)\n",
        "  - clave de encriptación (encryption key)\n",
        "\n",
        "***\n",
        "La **contraseña** es un método de autenticación, es información secreta para controlar el acceso a los recursos. En la antigüedad, los centinelas que vigilaban una posición solicitaban el *santo y seña* al que quisiera pasar. Solo permiten el acceso a la persona que conoce las palabras y la señal con la mano.  La identidad y autenticidad de una persona requiere que la persona tenga secretos. Sin una buena seguridad de la información personal, se puede robar la identidad de una persona y imposible de autenticarlo.\n",
        "\n",
        "\n"
      ],
      "metadata": {
        "id": "KsmpJ63j7U-E"
      }
    },
    {
      "cell_type": "markdown",
      "source": [
        "\n",
        "https://docs.python.org/es/3/\n",
        "***\n",
        "https://docs.python.org/3/"
      ],
      "metadata": {
        "id": "2-u5pNb9tzEH"
      }
    },
    {
      "cell_type": "markdown",
      "metadata": {
        "id": "wOOQZ8WBVoI8"
      },
      "source": [
        "# Criptografía Básica y Escritura de Guiones (Cryptography and Scripts)\n",
        "\n",
        "\n",
        "## Esquema (Outline)\n",
        "\n",
        "En esta introducción hablamos sobre:\n",
        "\n",
        "- guiones de python (scripts)\n",
        "- función control (cryptographic hash functions) \n",
        "- criptografía simétrica (symmetric cryptography)\n",
        "\n",
        "\n",
        "## Objetivos (Goals)\n",
        "Al final de la exposición (by the end of the exposition you will):\n",
        "\n",
        "- comprender la estructura del **script** de **python** (understand structure of script)\n",
        "- ejecutar un script de python desde la **terminal** (run script from terminal)\n",
        "- dirigir el script con la **entrada** del usuario y capturar su **salida** (direct the script with user **input** and capture **output**)\n",
        "- comprender las características de una **función hash** (understand **hash function**)\n",
        "- hash en una cadena o archivo usando **SHA256** (hash string/file using **SHA256**)\n",
        "- comprender las características de **criptografía simétrica** (understand **symmetric cryptography**)\n",
        "- generar una **clave** criptográfica **AES** ( generate **AES** cryptographic **key**)\n",
        "- **cifrar AES** una cadena o archivo usando una clave simétrica (**AES encrypt** string/file with symmetric key)\n",
        "- **AES descifrar** una cadena o archivo usando AES (**AES decrypt** string/file using AES)\n",
        "\n",
        "\n",
        "----"
      ]
    },
    {
      "cell_type": "markdown",
      "source": [
        "# Guiones (Scripts)\n",
        "---\n",
        "***\n",
        "Un **guión** (**script**) es un conjunto de instrucciones paso a paso para dirigir las acciones y expresiones de los agentes. En informática, un archivo de comando, o archivo por lotes, se conoce como un script. Generalmente el script es un programa simple, almacenado en un **archivo de texto** sin formato. Scripts realizan diversas tareas y pueden trabajar en conjunto.\n",
        "***\n",
        "A **script** is a set of step by step instructions to direct the actions and utterances of agents. In computing, a command file, or batch file, is referred to as a script. Usually a simple program, stored in a **plain text file**. They perform various tasks and can work in concert.\n",
        "***\n",
        "---\n",
        "\n",
        "## `*.py`\n",
        "Los scripts de Python son programas que se pueden guardar en archivos de texto con una extensión `.py`. \n",
        "***\n",
        "Python scripts are programs that can be saved in text files with a `.py` extension.\n",
        "***\n",
        "***\n",
        "## `python`\n",
        "La secuencia de comandos se llama desde la terminal de bash usando `python` seguido del nombre de la secuencia de comandos\n",
        "***\n",
        "The script is called from the bash terminal using `python` followed by the name of the script\n",
        "***\n",
        "***\n",
        "##`argv`\n",
        "Interno el script usa `argv` del módulo` sys` para extraer un vector de argumento (tupla) de la entrada del terminal bash cuando se llama python\n",
        "***\n",
        "Inside the script uses `argv` from the `sys` module to pull an argument vector (tuple) from the bash terminal when python is called\n",
        "***\n",
        "***\n"
      ],
      "metadata": {
        "id": "BTjh_wRV02Wb"
      }
    },
    {
      "cell_type": "markdown",
      "source": [
        "## Ejemplo (Example)\n",
        "Aquí escribimos un script de Python y lo ejecutamos desde la terminal bash.\n",
        "***\n",
        "Here we write a Python script and run it from the bash terminal."
      ],
      "metadata": {
        "id": "IlppW-TW6kYj"
      }
    },
    {
      "cell_type": "code",
      "source": [
        "! echo \"from sys import argv\" > zero.py \n",
        "! echo \"print(argv)\" >> zero.py "
      ],
      "metadata": {
        "id": "t441-Vl_V0pt"
      },
      "execution_count": null,
      "outputs": []
    },
    {
      "cell_type": "code",
      "source": [
        "! cat zero.py"
      ],
      "metadata": {
        "id": "HDjWgpt0WrSa"
      },
      "execution_count": null,
      "outputs": []
    },
    {
      "cell_type": "code",
      "source": [
        "! python zero.py 8 hello 1 8 "
      ],
      "metadata": {
        "id": "KgOq9URfPxBq"
      },
      "execution_count": null,
      "outputs": []
    },
    {
      "cell_type": "markdown",
      "source": [
        "# Funciones Hash Criptográficas \n",
        "\n",
        "\n",
        "\n",
        "---\n",
        "***\n",
        "Una función hash criptográfica es un algoritmo que toma una cantidad arbitraria de entrada de datos y produce una salida de galimatías de tamaño fijo llamada resumen, suma de comprobación, huella digital, código hash, valor hash o simplemente \"hash\".\n",
        "***\n",
        "A cryptographic hash function is an algorithm that takes an arbitrary amount of data input and produces a fixed-size output  of gibberish called a digest, checksum, fingerprint, hash code, hash value, or just “hash.” \n",
        "***\n",
        "___\n",
        "\n",
        "$$ F(\\text{entrada})\\longrightarrow \\text{hash salida}$$\n",
        "\n",
        "---\n",
        "***\n",
        "La función hash criptográfica debe tener las siguientes características. Ellos deberían ser:\n",
        "***\n",
        "Cryptographic hash function should have the following features. They should be:\n",
        "***\n",
        "---\n",
        "- **[FUNCIÓN UNIDIRECCIONAL/ONE-WAY FUNCTION]** \\\\\n",
        "la entrada a la función no puede derivarse de la salida\\\n",
        " (the input to the function cannot be derived from the output) \n",
        "- **[HIPERSENSIBILIDAD DE ENTRADA/INPUT HYPERSENSITIVITE]** \\\\\n",
        "pequeño cambio en la entrada cambiar drásticamente la salida\\\n",
        " (tiny change in input drastically changes output)\n",
        "- **[DETERMINISTICO/DETERMINISTIC]** \\\\\n",
        "a salida es siempre la misma para una entrada dada\\\n",
        " (the output is always the same for a given input)\n",
        "-  **[NO PREVISIBLE/NON-PREDICTABLE]** \\\\\n",
        "no hay atajos computacionales para producir el hash \\\n",
        " (no computational short cuts in producing the hash)\n",
        "- **[RESISTENTE A COLISIONES/COLLISION RESISTANT]**  ***durante el resto de la historia humana...*** \\\\\n",
        "entradas diferentes nunca producen el mismo resultado hash \\\n",
        " (different inputs never produce the same hash ouput)\n",
        "\n",
        "---\n",
        "***\n",
        "**SHA256** es una función hash criptográfica con una salida de 256 bits prescrita por el Instituto Nacional de Estándares y Tecnología de EE. UU. Implementamos SHA256 en Python usando **`hashlib`**\n",
        "***\n",
        "**SHA256** is a cryptographic hash function with a 256 bit output prescribed by the U.S. National Institute of Standards and Technology. We implement SHA256 in Python using the **`hashlib`**\n",
        "***\n",
        "---\n",
        "\n"
      ],
      "metadata": {
        "id": "2iIHrHcWglsQ"
      }
    },
    {
      "cell_type": "markdown",
      "source": [
        "## Aplicar SHA256 usando Terminal (Terminal SHA256)\n",
        "---\n",
        "***\n",
        "Los sistemas similares a UNIX pueden hacer hash desde la terminal.Se puede realizar en:\n",
        "***\n",
        "UNIX like systems can hash from the terminal.It can be done on:\n",
        "***\n",
        "---\n",
        "\n",
        "- cadena (string)\n",
        "- archivo (file)\n",
        "\n",
        "---\n"
      ],
      "metadata": {
        "id": "dh19kXZU2sP3"
      }
    },
    {
      "cell_type": "markdown",
      "source": [
        "### Cadena (String)"
      ],
      "metadata": {
        "id": "AjOJVgnUcjfD"
      }
    },
    {
      "cell_type": "code",
      "source": [
        "! echo 🐶| shasum -a 256 "
      ],
      "metadata": {
        "id": "_v9w4MCVUY3L"
      },
      "execution_count": null,
      "outputs": []
    },
    {
      "cell_type": "markdown",
      "source": [
        "### Archivo (File)"
      ],
      "metadata": {
        "id": "utT5R4_vcqXZ"
      }
    },
    {
      "cell_type": "code",
      "source": [
        "! shasum -a 256 Colegio_Invisible/img/colegio_invisible.jpeg"
      ],
      "metadata": {
        "id": "gajLm7Dr3Hfw"
      },
      "execution_count": null,
      "outputs": []
    },
    {
      "cell_type": "markdown",
      "source": [
        "## Usar Python a Hash"
      ],
      "metadata": {
        "id": "3qu9kmB2Glbi"
      }
    },
    {
      "cell_type": "markdown",
      "source": [
        "### Python Módulo `hashlib`\n",
        "\n",
        "El módulo `hashlib` tiene múltiples funciones disponibles.\n",
        "***\n",
        "The `hashlib` module has multiple functions available\n",
        "\n"
      ],
      "metadata": {
        "id": "F-0wiUL9iKE0"
      }
    },
    {
      "cell_type": "code",
      "source": [
        "import hashlib\n",
        "type(hashlib)"
      ],
      "metadata": {
        "id": "ZrtVdbW0lCRn"
      },
      "execution_count": null,
      "outputs": []
    },
    {
      "cell_type": "code",
      "source": [
        "hashlib.algorithms_available"
      ],
      "metadata": {
        "id": "Xq73WkShlg_U"
      },
      "execution_count": null,
      "outputs": []
    },
    {
      "cell_type": "markdown",
      "source": [
        "### Preparar la Entrada: Cadena de Bytes (Prepare Input: Bytestring)\n",
        "---\n",
        "***\n",
        "La entrada debe ser una cadena de bytes, y de `type` **`bytes`**.\n",
        "Podemos preparar una cadena de bytes de la siguiente manera:\n",
        "***\n",
        "The input must be a bytestring, a string of `type` **`bytes`**.\n",
        "We can prepare a bytestring by:\n",
        "***\n",
        "---\n",
        "- usando `b''` para escribir el ASCII literal (write bytestring literals)\n",
        "- convierte una cadena a `bytes` usando `.encode ()` (string to bytes encoding)\n",
        "\n"
      ],
      "metadata": {
        "id": "hJgJV8uCvFBW"
      }
    },
    {
      "cell_type": "code",
      "source": [
        "b'a byte string'"
      ],
      "metadata": {
        "id": "8zZngqUPu9sn"
      },
      "execution_count": null,
      "outputs": []
    },
    {
      "cell_type": "code",
      "source": [
        "b'🐶'"
      ],
      "metadata": {
        "id": "hBPpBhR60Sal"
      },
      "execution_count": null,
      "outputs": []
    },
    {
      "cell_type": "code",
      "source": [
        "type(b'a byte string')"
      ],
      "metadata": {
        "id": "9ZkueidDnmz8"
      },
      "execution_count": null,
      "outputs": []
    },
    {
      "cell_type": "code",
      "source": [
        "type('🐶')"
      ],
      "metadata": {
        "id": "1S9LiMZr0F0t"
      },
      "execution_count": null,
      "outputs": []
    },
    {
      "cell_type": "code",
      "source": [
        "str.encode('🐶')"
      ],
      "metadata": {
        "id": "ktrgwEjj0S5b"
      },
      "execution_count": null,
      "outputs": []
    },
    {
      "cell_type": "code",
      "source": [
        "'🐶'.encode()"
      ],
      "metadata": {
        "id": "2RmCa4Wsu4qa"
      },
      "execution_count": null,
      "outputs": []
    },
    {
      "cell_type": "markdown",
      "source": [
        "### Aplicar SHA256 a Bytestring usando Python \n",
        "---\n",
        "***\n",
        "Usaremos `sha256`. El siguiente código crea un `objeto HASH sha256`\n",
        "***\n",
        "We will be using `sha256`. The following code creates a `sha256 HASH object`\n",
        "***\n",
        "---\n",
        "\n",
        "- `.digest ()` devuelve el resumen de sha256 como una byte cadena/string \\\n",
        " (returns the sha256 digest as bytestring)\n",
        "- `.hexdigest()` devuelve el resumen sha256 como una string/cadena hexadecimal\\\n",
        " (returns hexstring digest)"
      ],
      "metadata": {
        "id": "rK8rkYF70K9F"
      }
    },
    {
      "cell_type": "code",
      "source": [
        "H=hashlib.sha256(b'a byte string')\n",
        "H"
      ],
      "metadata": {
        "id": "5PpqFli9mF4z"
      },
      "execution_count": null,
      "outputs": []
    },
    {
      "cell_type": "code",
      "source": [
        "H.hexdigest()"
      ],
      "metadata": {
        "id": "GPfHc1I5n51-"
      },
      "execution_count": null,
      "outputs": []
    },
    {
      "cell_type": "code",
      "source": [
        "H.digest()"
      ],
      "metadata": {
        "id": "8vAKpEpRuuFL"
      },
      "execution_count": null,
      "outputs": []
    },
    {
      "cell_type": "code",
      "source": [
        "hashlib.sha256( '🐶'.encode() ).digest()"
      ],
      "metadata": {
        "id": "9Mc2HUdPUYw3"
      },
      "execution_count": null,
      "outputs": []
    },
    {
      "cell_type": "code",
      "source": [
        "hashlib.sha256( '🐶'.encode() ).hexdigest()"
      ],
      "metadata": {
        "id": "Q-gSyLLr2i3c"
      },
      "execution_count": null,
      "outputs": []
    },
    {
      "cell_type": "code",
      "source": [
        "hashlib.sha256( '🐶\\n'.encode() ).hexdigest()"
      ],
      "metadata": {
        "id": "7GvYcD8LEXs8"
      },
      "execution_count": null,
      "outputs": []
    },
    {
      "cell_type": "markdown",
      "source": [
        "### Aplicar Python SHA256 a un Archivo (Apply Python SHA256 to File)\n",
        "\n",
        "El archivo se abre como **binario** usando `open ()` en modo `'rb'` leer binario.\n",
        "***\n",
        "File is opened as **binary** using `open()` in mode `'rb'` read binary."
      ],
      "metadata": {
        "id": "a07T4_YOCGnH"
      }
    },
    {
      "cell_type": "code",
      "source": [
        "img_file=open('Colegio_Invisible/img/colegio_invisible.jpeg','rb')\n",
        "img_bytes=img_file.read()\n",
        "img_file.close()"
      ],
      "metadata": {
        "id": "yCpYiSVjB5Cy"
      },
      "execution_count": null,
      "outputs": []
    },
    {
      "cell_type": "code",
      "source": [
        "hashlib.sha256( img_bytes ).hexdigest()"
      ],
      "metadata": {
        "id": "G0K2vrLGDNf6"
      },
      "execution_count": null,
      "outputs": []
    },
    {
      "cell_type": "code",
      "source": [
        "def sha256_file(path):\n",
        "  bytestring = open(path,'rb').read()\n",
        "  return hashlib.sha256( bytestring ).hexdigest()"
      ],
      "metadata": {
        "id": "eSsWZ95uDbOz"
      },
      "execution_count": null,
      "outputs": []
    },
    {
      "cell_type": "code",
      "source": [
        "sha256_file('Colegio_Invisible/img/colegio_invisible.jpeg')"
      ],
      "metadata": {
        "id": "i6uuyzg6DyYB"
      },
      "execution_count": null,
      "outputs": []
    },
    {
      "cell_type": "code",
      "source": [
        ""
      ],
      "metadata": {
        "id": "Ve5-yn6tUY6A"
      },
      "execution_count": null,
      "outputs": []
    },
    {
      "cell_type": "markdown",
      "source": [
        "### Aplicar SHA256 a un Archivo Usando un Guion de Python \n",
        "###(Apply SHA256 to File Using a Python Script)\n",
        "***\n",
        "***\n",
        "Aquí el programa Python está empaquetado en un script.\n",
        "***\n",
        "Here the Python program is packaged in a script.\n",
        "***\n",
        "***\n",
        "- se llama un script desde la Terminal después de una llamada a `python`\\\n",
        " (script is called from the Terminal following a call to `python`)\n",
        "- los argumentos se pueden pasar al script usando `argv`\\\n",
        " (arguments can be passed to the script using `argv`)\n",
        "***\n",
        "***\n",
        "`> python path/to/script.py arg1 arg2`\n",
        "***\n",
        "***"
      ],
      "metadata": {
        "id": "RGmtIYE3G9Mo"
      }
    },
    {
      "cell_type": "markdown",
      "source": [
        "Mira el contenido del script `sha_256.py` en `Colegio_Invisible/scripts`\n",
        "***\n",
        "\n",
        "Look at the contents of script `sha_256.py` in `Colegio_Invisible/scripts` \n",
        "\n",
        "https://www.sublimetext.com/"
      ],
      "metadata": {
        "id": "LDEDh_kDQg14"
      }
    },
    {
      "cell_type": "code",
      "source": [
        "! cat Colegio_Invisible/scripts/sha_256.py"
      ],
      "metadata": {
        "id": "6vRc6mQqUY88"
      },
      "execution_count": null,
      "outputs": []
    },
    {
      "cell_type": "code",
      "source": [
        "! python Colegio_Invisible/scripts/sha_256.py "
      ],
      "metadata": {
        "id": "C9PWcx2sLRF1"
      },
      "execution_count": null,
      "outputs": []
    },
    {
      "cell_type": "code",
      "source": [
        "! python Colegio_Invisible/scripts/sha_256.py Colegio_Invisible/img/colegio_invisible.jpeg"
      ],
      "metadata": {
        "id": "TXv_QqnWLZX6"
      },
      "execution_count": null,
      "outputs": []
    },
    {
      "cell_type": "code",
      "source": [
        "fileHash=! {'python Colegio_Invisible/scripts/sha_256.py Colegio_Invisible/img/colegio_invisible.jpeg'}\n",
        "fileHash"
      ],
      "metadata": {
        "id": "LNncSCUyPCh-"
      },
      "execution_count": null,
      "outputs": []
    },
    {
      "cell_type": "code",
      "source": [
        "fileHash[-1]"
      ],
      "metadata": {
        "id": "I1GyhnDuPRSt"
      },
      "execution_count": null,
      "outputs": []
    },
    {
      "cell_type": "markdown",
      "source": [
        "# Criptografía Simétrica (Symmetric Cryptography)\n",
        "***\n",
        "***\n",
        "El cifrado utiliza una clave para asignar un texto sin formato a un texto cifrado. El descifrado es el proceso inverso en el que se usa una clave para mapear el texto cifrado a un texto sin formato.\n",
        "\n",
        "La criptografía simétrica utiliza una sola clave que debe compartirse entre todos los participantes que se comunican. El paso de cifrado y descifrado utiliza la misma clave.\n",
        "\n",
        "AES (Advanced Encryption Standard) es un cifrado de bloque simétrico estandarizado por NIST. Tiene un tamaño de bloque de datos fijo de 16 bytes. Sus claves pueden tener una longitud de 128, 192 o 256 bits.\n",
        "***\n",
        "Encryption uses a key to map a plaintext to a ciphertext. Decryption is the reverse process where a key is used to map the ciphertext back to a plain text.\n",
        "\n",
        "Symmetric cryptography uses one single key that needs to be shared among all participants who are communicating. The encryption and decryption step use the same key.\n",
        "\n",
        "AES (Advanced Encryption Standard) is a symmetric block cipher standardized by NIST . It has a fixed data block size of 16 bytes. Its keys can be 128, 192, or 256 bits long.\n",
        "***\n",
        "***\n",
        "\n",
        "\n",
        "https://en.wikipedia.org/wiki/Advanced_Encryption_Standard\n",
        "\n"
      ],
      "metadata": {
        "id": "mWUubkZdR8pW"
      }
    },
    {
      "cell_type": "markdown",
      "source": [
        "## Usar `ecies` por AES en Python (AES in Python Using `ecies`)\n",
        "\n",
        "***\n",
        "***\n",
        "**`eciespy`** es una biblioteca de cifrado utilizada en el desarrollo de ethereum. Hace muchas cosas, incluyendo AES (cifrado simétrico) y ECC (criptografía asimétrica). Lo usaremos para hacer la mayoría de nuestras cosas.\n",
        "***\n",
        "**`eciespy`** is an encryption library used in ethereum development. It does lots of things including including AES (symmetric encryption) and ECC (asymmetric cyptography). We will use it do most of our things.\n",
        "***\n",
        "***\n",
        "\n",
        "https://ecies.org/py/"
      ],
      "metadata": {
        "id": "zqjKOTkdzyS7"
      }
    },
    {
      "cell_type": "code",
      "execution_count": null,
      "metadata": {
        "id": "KyBP1TROVoI9"
      },
      "outputs": [],
      "source": [
        "import ecies\n",
        "type(ecies)"
      ]
    },
    {
      "cell_type": "markdown",
      "source": [
        "## Preparar la Clave de Cifrado (Prepare the Encryption Key)"
      ],
      "metadata": {
        "id": "NM2ZfEF20szM"
      }
    },
    {
      "cell_type": "code",
      "source": [
        "bytekey256=hashlib.sha256(b'semilla de mostaza').digest()\n",
        "bytekey256"
      ],
      "metadata": {
        "id": "4r1ebt-AyXqb"
      },
      "execution_count": null,
      "outputs": []
    },
    {
      "cell_type": "markdown",
      "source": [
        "Los 256 bits se almacenan como 32 bytes. Recuerde que cada byte son 8 bits.\n",
        "***\n",
        "The 256 bits are stored as 32 bytes. Remember each byte is 8 bits."
      ],
      "metadata": {
        "id": "_MBb0ksszSps"
      }
    },
    {
      "cell_type": "code",
      "source": [
        "len(bytekey256)"
      ],
      "metadata": {
        "id": "AdUibXy3ywSj"
      },
      "execution_count": null,
      "outputs": []
    },
    {
      "cell_type": "code",
      "source": [
        "len(bytekey256)*8"
      ],
      "metadata": {
        "id": "PmtMxMGEywWz"
      },
      "execution_count": null,
      "outputs": []
    },
    {
      "cell_type": "markdown",
      "source": [
        "## Cifrado: Generación de Texto Cifrado a Partir de Texto Abierto \n",
        "## (Encryption: Generating Ciphertext From Plaintext)"
      ],
      "metadata": {
        "id": "IKLB5xwu7NSl"
      }
    },
    {
      "cell_type": "code",
      "source": [
        "plaintext=b'this is my plain text byte string'"
      ],
      "metadata": {
        "id": "8W0GPih-7MOt"
      },
      "execution_count": null,
      "outputs": []
    },
    {
      "cell_type": "code",
      "source": [
        "ciphertext=ecies.aes_encrypt(key=bytekey256,plain_text=plaintext)\n",
        "ciphertext"
      ],
      "metadata": {
        "id": "UlyPyHVB6__3"
      },
      "execution_count": null,
      "outputs": []
    },
    {
      "cell_type": "markdown",
      "source": [
        "##Descifrado: Recuperación de Texto Abierto de Texto Cifrado\n",
        "## (Decryption: Recovering Plaintext from Cipertext)"
      ],
      "metadata": {
        "id": "bSIgdLTU702r"
      }
    },
    {
      "cell_type": "code",
      "source": [
        "recoveredtext=ecies.aes_decrypt(key=bytekey256,cipher_text=ciphertext)\n",
        "recoveredtext"
      ],
      "metadata": {
        "id": "55bjB7i68Fhj"
      },
      "execution_count": null,
      "outputs": []
    },
    {
      "cell_type": "markdown",
      "source": [
        "## AES en Archivos (AES on Files)\n",
        "\n",
        "\n",
        "\n"
      ],
      "metadata": {
        "id": "G0gb9UXM9cHu"
      }
    },
    {
      "cell_type": "markdown",
      "source": [
        "### Cifrado Archivos (Encrypting Files)"
      ],
      "metadata": {
        "id": "NifAW0eLITe2"
      }
    },
    {
      "cell_type": "code",
      "source": [
        "f=open('Colegio_Invisible/img/colegio_invisible.jpeg','rb')\n",
        "plainimg=f.read()\n",
        "f.close()\n",
        "\n",
        "cipherimg=ecies.aes_encrypt(key=bytekey256,plain_text=plainimg)"
      ],
      "metadata": {
        "id": "5H1b8YXC_IIc"
      },
      "execution_count": null,
      "outputs": []
    },
    {
      "cell_type": "code",
      "source": [
        "def aes_encrypt_file(plainfile_path,cipherfile_path,password):\n",
        "  plain = open(plainfile_path,'rb').read()\n",
        "  bytekey = hashlib.sha256( password.encode() ).digest()\n",
        "  cipher = ecies.aes_encrypt(key=bytekey,plain_text=plain)\n",
        "  open(cipherfile_path,'wb').write(cipher)\n"
      ],
      "metadata": {
        "id": "wddf3q3P_IYM"
      },
      "execution_count": null,
      "outputs": []
    },
    {
      "cell_type": "code",
      "source": [
        "aes_encrypt_file('Colegio_Invisible/img/colegio_invisible.jpeg','cipher_img.aes','password')"
      ],
      "metadata": {
        "id": "BxXnAWYd_I1r"
      },
      "execution_count": null,
      "outputs": []
    },
    {
      "cell_type": "code",
      "source": [
        "! ls"
      ],
      "metadata": {
        "id": "qiGEzHzuG0Jx"
      },
      "execution_count": null,
      "outputs": []
    },
    {
      "cell_type": "code",
      "source": [
        "! head -c 50 cipher_img.aes"
      ],
      "metadata": {
        "id": "w9qFcKbaHL2V"
      },
      "execution_count": null,
      "outputs": []
    },
    {
      "cell_type": "markdown",
      "source": [
        "### Descifrado Archivos (Decrypting Files)"
      ],
      "metadata": {
        "id": "iqTIcAfw_KT9"
      }
    },
    {
      "cell_type": "code",
      "source": [
        "f=open('cipher_img.aes','rb')\n",
        "cipherimg2=f.read()\n",
        "f.close()\n",
        "\n",
        "aes_key=hashlib.sha256( 'password'.encode()  ).digest()\n",
        "\n",
        "plainimg2=ecies.aes_decrypt( key= aes_key , cipher_text=cipherimg2)"
      ],
      "metadata": {
        "id": "qQQ9v5NE_JLj"
      },
      "execution_count": null,
      "outputs": []
    },
    {
      "cell_type": "code",
      "source": [
        "def aes_decrypt_file(cipherfile_path,extractfile_path,password):\n",
        "  cipher = open(cipherfile_path,'rb').read()\n",
        "  bytekey = hashlib.sha256( password.encode() ).digest()\n",
        "  extract = ecies.aes_decrypt(key=bytekey,cipher_text=cipher)\n",
        "  open(extractfile_path,'wb').write(extract)"
      ],
      "metadata": {
        "id": "4ROzyk9V_JT6"
      },
      "execution_count": null,
      "outputs": []
    },
    {
      "cell_type": "code",
      "source": [
        "aes_decrypt_file('cipher_img.aes','extract_img.jpeg','password')"
      ],
      "metadata": {
        "id": "V7K84aFq_JdN"
      },
      "execution_count": null,
      "outputs": []
    },
    {
      "cell_type": "code",
      "source": [
        "from IPython.display import Image\n",
        "display(Image('extract_img.jpeg'))"
      ],
      "metadata": {
        "id": "FEmgnl3BP6tn"
      },
      "execution_count": null,
      "outputs": []
    },
    {
      "cell_type": "markdown",
      "source": [
        "## Usar Guiones de Python para AES (AES Using Python Scripts)"
      ],
      "metadata": {
        "id": "tGaW-1lgRhiR"
      }
    },
    {
      "cell_type": "code",
      "source": [
        "! cat Colegio_Invisible/scripts/aes_encrypt.py"
      ],
      "metadata": {
        "id": "DiY82X6kYIVx"
      },
      "execution_count": null,
      "outputs": []
    },
    {
      "cell_type": "code",
      "source": [
        "! python Colegio_Invisible/scripts/aes_encrypt.py 'Colegio_Invisible/img/colegio_invisible.jpeg' 'pic.aes'"
      ],
      "metadata": {
        "id": "VYeoeIwreJBC"
      },
      "execution_count": null,
      "outputs": []
    },
    {
      "cell_type": "code",
      "source": [
        "! python Colegio_Invisible/scripts/aes_decrypt.py 'pic.aes' 'dec.jpeg'"
      ],
      "metadata": {
        "id": "dSt6l9D4eJHn"
      },
      "execution_count": null,
      "outputs": []
    },
    {
      "cell_type": "code",
      "source": [
        "display(Image('dec.jpeg'))"
      ],
      "metadata": {
        "id": "vczu5rXYeJM7"
      },
      "execution_count": null,
      "outputs": []
    },
    {
      "cell_type": "code",
      "source": [
        "! python Colegio_Invisible/scripts/sha_256.py dec.jpeg"
      ],
      "metadata": {
        "id": "SOhQxQRUgCm_"
      },
      "execution_count": null,
      "outputs": []
    },
    {
      "cell_type": "code",
      "source": [
        ""
      ],
      "metadata": {
        "id": "CyGdpdSpVda1"
      },
      "execution_count": null,
      "outputs": []
    },
    {
      "cell_type": "code",
      "source": [
        ""
      ],
      "metadata": {
        "id": "QQylCDQ0ZIpC"
      },
      "execution_count": null,
      "outputs": []
    }
  ],
  "metadata": {
    "kernelspec": {
      "display_name": "Python 3",
      "language": "python",
      "name": "python3"
    },
    "language_info": {
      "codemirror_mode": {
        "name": "ipython",
        "version": 3
      },
      "file_extension": ".py",
      "mimetype": "text/x-python",
      "name": "python",
      "nbconvert_exporter": "python",
      "pygments_lexer": "ipython3",
      "version": "3.7.6"
    },
    "colab": {
      "name": "02_cuaderno.ipynb",
      "provenance": []
    }
  },
  "nbformat": 4,
  "nbformat_minor": 0
}