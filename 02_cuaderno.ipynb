{
  "cells": [
    {
      "cell_type": "markdown",
      "metadata": {
        "id": "N5LxjU3GVoI3"
      },
      "source": [
        "<a href=\"https://colab.research.google.com/github/ProfDoeg/Colegio_Invisible/blob/master/02_cuaderno.ipynb\" target=\"_parent\"><img src=\"https://colab.research.google.com/assets/colab-badge.svg\" alt=\"Open In Colab\"/></a>"
      ]
    },
    {
      "cell_type": "markdown",
      "source": [
        "# Guinoes, Hashes, \n",
        "# Teclas, Claves, Llaves, Keys\n",
        "# y Contraseñas \n",
        "\n",
        "<center>\n",
        "<div>\n",
        "<img src=\"https://github.com/ProfDoeg/Colegio_Invisible/raw/main/img/clavis.jpeg\" width=\"600\"/>\n",
        "</div>\n",
        "</center>\n",
        "\n",
        "LATIN : ETIMOLOGÍA \n",
        "\n",
        "clāvis (una clave) Etimología del protoItálico klāwis. O una derivación secundaria del protoIndoEuropeo klehu (clavo/nail, alfiler/pin, gancho/hook, instrumentos para cerrar puertas) que dio también latín clāvus (clavo), un IndoEuropea palabra que originalmente denotaba un instrumento para abrir puertas.\n",
        "\n",
        "LATIN A ESPAÑOL : TRIPLE ETIMOLOGÍA \n",
        "\n",
        "LLAVE y CLAVE y CLAVO \n",
        "\n",
        "La palabra latina clavis (key) pasó originalmente al castellano con el sentido de “llave” (key). Siglos después, en el uso culto, la palabra clavis se convirtió en “clave” (codic key). Eso explica que en el fondo una clave es una llave: es algo que sirve para abrir algo que está cerrado, ya sea una cerradura o un misterio oculto. La palabra \"clavo\" significa muchas cosas clavo, espiga, espárrago, especia de clavo, garra, uña, y pezuña de clavo\n",
        "\n",
        "- la **llave**:\n",
        "wrench, key, adjusting tool, spanner, faucet, lock, brace, piston\n",
        "\n",
        "- la **clave**:\n",
        "key, code, clef, harpsichord, cipher\n",
        "\n",
        "- el **clavo**:\n",
        "nail, spike, stud, clove spice, claw, fingernail, clove hoof, spike, stud, cleat\n",
        "***\n",
        "\n",
        "Una **key** es un objeto diseñado para ser útil para controlar un instrumento. Puede ser un:\n",
        "- instrumento musical\n",
        "  - tecla de piano (piano key)\n",
        "  - llave de desagüe (trumpet mechanism)\n",
        "  - clavija de afinación (guitar tuning peg)\n",
        "- concepto o notación\n",
        "  - entendimiento clave (key understanding)\n",
        "  - testigo clave (key witness)\n",
        "  - clave de sol (treble clef)\n",
        "- mechanical device\n",
        "  - llave allen (allen key)\n",
        "  - llave de paso (plumbing knob)\n",
        "  - llave inglesa (wrench)\n",
        "- machina de computacion\n",
        "  - teclado (keyboard)\n",
        "  - clave de encriptación (encryption key)\n",
        "\n",
        "***\n",
        "La **contraseña** es una metod autentificación, es información secreta para controlar acceso recurso. La contraseña debe secreto. Identidad y autenticidad \n",
        "requiere secreto. En antigüedad centinelas que vigilaban una posición solicitaban el santo y seña al que quisiera pasar. Solamente le permiten el acceso a aquella persona que conoce las palabras y la seña con la mano.\n",
        "\n"
      ],
      "metadata": {
        "id": "KsmpJ63j7U-E"
      }
    },
    {
      "cell_type": "markdown",
      "source": [
        "# Preperando el Espacio"
      ],
      "metadata": {
        "id": "8JTU10hy7FJf"
      }
    },
    {
      "cell_type": "code",
      "execution_count": null,
      "metadata": {
        "id": "GdDylRrmVoI7"
      },
      "outputs": [],
      "source": [
        "from IPython.core.display import display, HTML\n",
        "display(HTML(\"<style>.container { width:95% !important; }</style>\"))"
      ]
    },
    {
      "cell_type": "code",
      "source": [
        "#! rm -r Colegio_Invisible"
      ],
      "metadata": {
        "id": "IPvMGuGQKw2v"
      },
      "execution_count": null,
      "outputs": []
    },
    {
      "cell_type": "code",
      "execution_count": null,
      "metadata": {
        "id": "11xNrqZGVoI9"
      },
      "outputs": [],
      "source": [
        "! git clone https://github.com/ProfDoeg/Colegio_Invisible.git"
      ]
    },
    {
      "cell_type": "code",
      "source": [
        "! pip install cryptos"
      ],
      "metadata": {
        "id": "bBaL_6Hlw1Ql"
      },
      "execution_count": null,
      "outputs": []
    },
    {
      "cell_type": "code",
      "source": [
        "! pip install eciespy"
      ],
      "metadata": {
        "id": "S7rmEsvbw6Ai"
      },
      "execution_count": null,
      "outputs": []
    },
    {
      "cell_type": "markdown",
      "source": [
        "\n",
        "https://docs.python.org/es/3/\n",
        "***\n",
        "https://docs.python.org/3/"
      ],
      "metadata": {
        "id": "2-u5pNb9tzEH"
      }
    },
    {
      "cell_type": "markdown",
      "metadata": {
        "id": "wOOQZ8WBVoI8"
      },
      "source": [
        "# Criptografía Básica y Escritura de Guiones (Cryptography and Scripts)\n",
        "\n",
        "\n",
        "## Esquema (Outline)\n",
        "\n",
        "En esta introducción hablamos sobre:\n",
        "\n",
        "- guiones de python (scripts)\n",
        "- función control (cryptographic hash functions) \n",
        "- criptografía simétrica (symmetric cryptography)\n",
        "\n",
        "\n",
        "## Objetivos (Goals)\n",
        "Al final de la exposición (by the end of the exposition you will):\n",
        "\n",
        "- comprender la estructura del **script** de **python** (understand structure of script)\n",
        "- ejecutar un script de python desde la **terminal** (run script from terminal)\n",
        "- dirigir el script con la **entrada** del usuario y capturar su **salida** (direct the script with user **input** and capture **output**)\n",
        "- comprender las características de una **función hash** (understand **hash function**)\n",
        "- hash en una cadena o archivo usando **SHA256** (hash string/file using **SHA256**)\n",
        "- comprender las características de **criptografía simétrica** (understand **symmetric cryptography**)\n",
        "- generar una **clave** criptográfica **AES** ( generate **AES** cryptographic **key**)\n",
        "- **cifrar AES** una cadena o archivo usando una clave simétrica (**AES encrypt** string/file with symmetric key)\n",
        "- **AES descifrar** una cadena o archivo usando AES (**AES decrypt** string/file using AES)\n",
        "\n",
        "\n",
        "----"
      ]
    },
    {
      "cell_type": "markdown",
      "source": [
        "# Guinoes (Scripts)\n",
        "\n",
        "## `*.py`\n",
        "Los scripts de Python son programas que se pueden guardar en archivos de texto con una extensión `.py`. \n",
        "***\n",
        "Python scripts are programs that can be saved in text files with a `.py` extension.\n",
        "\n",
        "## `python`\n",
        "La secuencia de comandos se llama desde la terminal de bash usando `python` seguido del nombre de la secuencia de comandos\n",
        "***\n",
        "The script is called from the bash terminal using `python` followed by the name of the script\n",
        "\n",
        "##`argv`\n",
        "Interno el script usa `argv` del módulo` sys` para extraer un vector de argumento (tupla) de la entrada del terminal bash cuando se llama python\n",
        "***\n",
        "Inside the script uses `argv` from the `sys` module to pull an argument vector (tuple) from the bash terminal when python is called"
      ],
      "metadata": {
        "id": "BTjh_wRV02Wb"
      }
    },
    {
      "cell_type": "markdown",
      "source": [
        "## Ejemplo\n",
        "Aquí escribimos un script de Python y lo ejecutamos desde la terminal bash.\n",
        "***\n",
        "Here we write a Python script and run it from the bash terminal."
      ],
      "metadata": {
        "id": "IlppW-TW6kYj"
      }
    },
    {
      "cell_type": "code",
      "source": [
        "! echo \"from sys import argv\" > zero.py \n",
        "! echo \"print(argv)\" >> zero.py "
      ],
      "metadata": {
        "id": "t441-Vl_V0pt"
      },
      "execution_count": 54,
      "outputs": []
    },
    {
      "cell_type": "code",
      "source": [
        "! cat zero.py"
      ],
      "metadata": {
        "colab": {
          "base_uri": "https://localhost:8080/"
        },
        "id": "HDjWgpt0WrSa",
        "outputId": "392c56c3-8bbd-44fc-c479-c694d8a9ded9"
      },
      "execution_count": 55,
      "outputs": [
        {
          "output_type": "stream",
          "name": "stdout",
          "text": [
            "from sys import argv\n",
            "print(argv)\n"
          ]
        }
      ]
    },
    {
      "cell_type": "code",
      "source": [
        "! python zero1.py 8 hello 1 8 "
      ],
      "metadata": {
        "colab": {
          "base_uri": "https://localhost:8080/"
        },
        "id": "KgOq9URfPxBq",
        "outputId": "87dd35a6-858e-41bf-bece-b25f5d47bd77"
      },
      "execution_count": 56,
      "outputs": [
        {
          "output_type": "stream",
          "name": "stdout",
          "text": [
            "['zero1.py', '8', 'hello', '1', '8']\n"
          ]
        }
      ]
    },
    {
      "cell_type": "markdown",
      "source": [
        "# Funciones Hash Criptográficas \n",
        "\n",
        "\n",
        "\n",
        "---\n",
        "***\n",
        "Una función hash criptográfica es un algoritmo que toma una cantidad arbitraria de entrada de datos y produce una salida de galimatías de tamaño fijo llamada resumen, suma de comprobación, huella digital, código hash, valor hash o simplemente \"hash\".\n",
        "***\n",
        "A cryptographic hash function is an algorithm that takes an arbitrary amount of data input and produces a fixed-size output  of gibberish called a digest, checksum, fingerprint, hash code, hash value, or just “hash.” \n",
        "***\n",
        "___\n",
        "\n",
        "$$ F(\\text{entrada})\\longrightarrow \\text{hash salida}$$\n",
        "\n",
        "---\n",
        "***\n",
        "La función hash criptográfica debe tener las siguientes características. Ellos deberían ser:\n",
        "***\n",
        "Cryptographic hash function should have the following features. They should be:\n",
        "***\n",
        "---\n",
        "- **[FUNCIÓN UNIDIRECCIONAL/ONE-WAY FUNCTION]** \\\\\n",
        "la entrada a la función no puede derivarse de la salida (the input to the function cannot be derived from the output) \n",
        "- **[HIPERSENSIBILIDAD DE ENTRADA/INPUT HYPERSENSITIVITE]** \\\\\n",
        "pequeño cambio en la entrada cambiar drásticamente la salida (tiny change in input drastically changes output)\n",
        "- **[DETERMINISTICO/DETERMINISTIC]** \\\\\n",
        "a salida es siempre la misma para una entrada dada (the output is always the same for a given input)\n",
        "-  **[NO PREVISIBLE/NON-PREDICTABLE]** \\\\\n",
        "no hay atajos computacionales para producir el hash (no computational short cuts in producing the hash)\n",
        "- **[RESISTENTE A COLISIONES/COLLISION RESISTANT]**  ***durante el resto de la historia humana...*** \\\\\n",
        "entradas diferentes nunca producen el mismo resultado hash (different inputs never produce the same hash ouput)\n",
        "\n",
        "---\n",
        "***\n",
        "**SHA256** es una función hash criptográfica con una salida de 256 bits prescrita por el Instituto Nacional de Estándares y Tecnología de EE. UU. Implementamos SHA256 en Python usando **`hashlib`**\n",
        "***\n",
        "**SHA256** is a cryptographic hash function with a 256 bit output prescribed by the U.S. National Institute of Standards and Technology. We implement SHA256 in Python using the **`hashlib`**\n",
        "***\n",
        "---\n",
        "\n"
      ],
      "metadata": {
        "id": "2iIHrHcWglsQ"
      }
    },
    {
      "cell_type": "markdown",
      "source": [
        "## Aplicar SHA256 usando Terminal (Terminal SHA256)\n",
        "---\n",
        "***\n",
        "Los sistemas similares a UNIX pueden hacer hash desde la terminal.Se puede realizar en:\n",
        "***\n",
        "UNIX like systems can hash from the terminal.It can be done on:\n",
        "***\n",
        "---\n",
        "\n",
        "- cadena (string)\n",
        "- archivo (file)\n",
        "\n",
        "---\n"
      ],
      "metadata": {
        "id": "dh19kXZU2sP3"
      }
    },
    {
      "cell_type": "markdown",
      "source": [
        "### Cadena"
      ],
      "metadata": {
        "id": "AjOJVgnUcjfD"
      }
    },
    {
      "cell_type": "code",
      "source": [
        "! echo 🐶| shasum -a 256 "
      ],
      "metadata": {
        "id": "_v9w4MCVUY3L"
      },
      "execution_count": null,
      "outputs": []
    },
    {
      "cell_type": "markdown",
      "source": [
        "### Archivo"
      ],
      "metadata": {
        "id": "utT5R4_vcqXZ"
      }
    },
    {
      "cell_type": "code",
      "source": [
        "! shasum -a 256 Colegio_Invisible/img/colegio_invisible.jpeg"
      ],
      "metadata": {
        "id": "gajLm7Dr3Hfw"
      },
      "execution_count": null,
      "outputs": []
    },
    {
      "cell_type": "markdown",
      "source": [
        "## Usar Python to Hash"
      ],
      "metadata": {
        "id": "3qu9kmB2Glbi"
      }
    },
    {
      "cell_type": "markdown",
      "source": [
        "### Python Módulo `hashlib`\n",
        "\n",
        "El módulo `hashlib` tiene múltiples funciones disponibles.\n",
        "***\n",
        "The `hashlib` module has multiple functions available\n",
        "\n"
      ],
      "metadata": {
        "id": "F-0wiUL9iKE0"
      }
    },
    {
      "cell_type": "code",
      "source": [
        "import hashlib\n",
        "type(hashlib)"
      ],
      "metadata": {
        "colab": {
          "base_uri": "https://localhost:8080/"
        },
        "id": "ZrtVdbW0lCRn",
        "outputId": "674dc54c-2426-4125-9006-befc9c09d640"
      },
      "execution_count": 1,
      "outputs": [
        {
          "output_type": "execute_result",
          "data": {
            "text/plain": [
              "module"
            ]
          },
          "metadata": {},
          "execution_count": 1
        }
      ]
    },
    {
      "cell_type": "code",
      "source": [
        "hashlib.algorithms_available"
      ],
      "metadata": {
        "colab": {
          "base_uri": "https://localhost:8080/"
        },
        "id": "Xq73WkShlg_U",
        "outputId": "62931d9d-5172-4cb5-f661-046044e00c31"
      },
      "execution_count": 2,
      "outputs": [
        {
          "output_type": "execute_result",
          "data": {
            "text/plain": [
              "{'blake2b',\n",
              " 'blake2s',\n",
              " 'md5',\n",
              " 'sha1',\n",
              " 'sha224',\n",
              " 'sha256',\n",
              " 'sha384',\n",
              " 'sha3_224',\n",
              " 'sha3_256',\n",
              " 'sha3_384',\n",
              " 'sha3_512',\n",
              " 'sha512',\n",
              " 'shake_128',\n",
              " 'shake_256'}"
            ]
          },
          "metadata": {},
          "execution_count": 2
        }
      ]
    },
    {
      "cell_type": "markdown",
      "source": [
        "### Preparar la Entrada: Cadena de Bytes (Prepare Input: Bytestring)\n",
        "---\n",
        "***\n",
        "La entrada debe ser una cadena de bytes, y de `tipo` **`bytes`**.\n",
        "Podemos preparar una cadena de bytes de la siguiente manera:\n",
        "***\n",
        "The input must be a bytestring, a string of `type` **`bytes`**.\n",
        "We can prepare a bytestring by:\n",
        "***\n",
        "---\n",
        "- usando `b''` para escribir el ASCII literal\n",
        "- convierte una cadena a `bytes` usando `.encode ()`\n",
        "\n"
      ],
      "metadata": {
        "id": "hJgJV8uCvFBW"
      }
    },
    {
      "cell_type": "code",
      "source": [
        "b'a byte string'"
      ],
      "metadata": {
        "id": "8zZngqUPu9sn"
      },
      "execution_count": null,
      "outputs": []
    },
    {
      "cell_type": "code",
      "source": [
        "b'🐶'"
      ],
      "metadata": {
        "colab": {
          "base_uri": "https://localhost:8080/",
          "height": 136
        },
        "id": "hBPpBhR60Sal",
        "outputId": "584ca1f1-934a-4228-b788-159230592a21"
      },
      "execution_count": 5,
      "outputs": [
        {
          "output_type": "error",
          "ename": "SyntaxError",
          "evalue": "ignored",
          "traceback": [
            "\u001b[0;36m  File \u001b[0;32m\"<ipython-input-5-a90a5de88e43>\"\u001b[0;36m, line \u001b[0;32m1\u001b[0m\n\u001b[0;31m    b'🐶'\u001b[0m\n\u001b[0m        ^\u001b[0m\n\u001b[0;31mSyntaxError\u001b[0m\u001b[0;31m:\u001b[0m bytes can only contain ASCII literal characters.\n"
          ]
        }
      ]
    },
    {
      "cell_type": "code",
      "source": [
        "type(b'a byte string')"
      ],
      "metadata": {
        "id": "9ZkueidDnmz8"
      },
      "execution_count": null,
      "outputs": []
    },
    {
      "cell_type": "code",
      "source": [
        "type('🐶')"
      ],
      "metadata": {
        "id": "1S9LiMZr0F0t"
      },
      "execution_count": null,
      "outputs": []
    },
    {
      "cell_type": "code",
      "source": [
        "str.encode('🐶')"
      ],
      "metadata": {
        "id": "ktrgwEjj0S5b"
      },
      "execution_count": null,
      "outputs": []
    },
    {
      "cell_type": "code",
      "source": [
        "'🐶'.encode()"
      ],
      "metadata": {
        "id": "2RmCa4Wsu4qa"
      },
      "execution_count": null,
      "outputs": []
    },
    {
      "cell_type": "markdown",
      "source": [
        "### Aplicar SHA256 a Bytestring usando Python \n",
        "\n",
        "Usaremos `sha256`. El siguiente código crea un `objeto HASH sha256`\n",
        "***\n",
        "We will be using `sha256`. The following code creates a `sha256 HASH object`\n",
        "\n",
        "- `.digest ()` devuelve el resumen de sha256 como una byte cadena/string (returns the sha256 digest as bytestring)\n",
        "- `.hexdigest()` devuelve el resumen sha256 como una string/cadena hexadecimal (returns hexstring digest)"
      ],
      "metadata": {
        "id": "rK8rkYF70K9F"
      }
    },
    {
      "cell_type": "code",
      "source": [
        "H=hashlib.sha256(b'a byte string')\n",
        "H"
      ],
      "metadata": {
        "id": "5PpqFli9mF4z"
      },
      "execution_count": null,
      "outputs": []
    },
    {
      "cell_type": "code",
      "source": [
        "H.hexdigest()"
      ],
      "metadata": {
        "id": "GPfHc1I5n51-"
      },
      "execution_count": null,
      "outputs": []
    },
    {
      "cell_type": "code",
      "source": [
        "H.digest()"
      ],
      "metadata": {
        "id": "8vAKpEpRuuFL"
      },
      "execution_count": null,
      "outputs": []
    },
    {
      "cell_type": "code",
      "source": [
        "hashlib.sha256( '🐶'.encode() ).digest()"
      ],
      "metadata": {
        "id": "9Mc2HUdPUYw3"
      },
      "execution_count": null,
      "outputs": []
    },
    {
      "cell_type": "code",
      "source": [
        "hashlib.sha256( '🐶'.encode() ).hexdigest()"
      ],
      "metadata": {
        "id": "Q-gSyLLr2i3c"
      },
      "execution_count": null,
      "outputs": []
    },
    {
      "cell_type": "code",
      "source": [
        "hashlib.sha256( '🐶\\n'.encode() ).hexdigest()"
      ],
      "metadata": {
        "id": "7GvYcD8LEXs8"
      },
      "execution_count": null,
      "outputs": []
    },
    {
      "cell_type": "markdown",
      "source": [
        "### Apply SHA256 to File using Python\n",
        "\n",
        "File is opened as **binary** using `open()` in mode `'rb'` read binary."
      ],
      "metadata": {
        "id": "a07T4_YOCGnH"
      }
    },
    {
      "cell_type": "code",
      "source": [
        "img_file=open('Colegio_Invisible/img/colegio_invisible.jpeg','rb')\n",
        "img_bytes=img_file.read()\n",
        "img_file.close()"
      ],
      "metadata": {
        "id": "yCpYiSVjB5Cy"
      },
      "execution_count": null,
      "outputs": []
    },
    {
      "cell_type": "code",
      "source": [
        "hashlib.sha256( img_bytes ).hexdigest()"
      ],
      "metadata": {
        "id": "G0K2vrLGDNf6"
      },
      "execution_count": null,
      "outputs": []
    },
    {
      "cell_type": "code",
      "source": [
        "def sha256_file(path):\n",
        "  bytestring = open(path,'rb').read()\n",
        "  return hashlib.sha256( bytestring ).hexdigest()"
      ],
      "metadata": {
        "id": "eSsWZ95uDbOz"
      },
      "execution_count": null,
      "outputs": []
    },
    {
      "cell_type": "code",
      "source": [
        "sha256_file('Colegio_Invisible/img/colegio_invisible.jpeg')"
      ],
      "metadata": {
        "id": "i6uuyzg6DyYB"
      },
      "execution_count": null,
      "outputs": []
    },
    {
      "cell_type": "code",
      "source": [
        ""
      ],
      "metadata": {
        "id": "Ve5-yn6tUY6A"
      },
      "execution_count": null,
      "outputs": []
    },
    {
      "cell_type": "markdown",
      "source": [
        "### Apply SHA256 to File Using a Python Script\n",
        "\n",
        "Here the Python program is packaged in a script.\n",
        "\n",
        "- a script is called from the Terminal following a call to `python`\n",
        "- arguments can be passed to the script using `argv`\n",
        "\n",
        "`> python path/to/script.py arg1 arg2`"
      ],
      "metadata": {
        "id": "RGmtIYE3G9Mo"
      }
    },
    {
      "cell_type": "markdown",
      "source": [
        "Look at the contents of script `sha_256.py` in `Colegio_Invisible/scripts` \n",
        "\n",
        "https://www.sublimetext.com/"
      ],
      "metadata": {
        "id": "LDEDh_kDQg14"
      }
    },
    {
      "cell_type": "code",
      "source": [
        "! cat Colegio_Invisible/scripts/sha_256.py"
      ],
      "metadata": {
        "id": "6vRc6mQqUY88"
      },
      "execution_count": null,
      "outputs": []
    },
    {
      "cell_type": "code",
      "source": [
        "! python Colegio_Invisible/scripts/sha_256.py "
      ],
      "metadata": {
        "id": "C9PWcx2sLRF1"
      },
      "execution_count": null,
      "outputs": []
    },
    {
      "cell_type": "code",
      "source": [
        "! python Colegio_Invisible/scripts/sha_256.py Colegio_Invisible/img/colegio_invisible.jpeg"
      ],
      "metadata": {
        "id": "TXv_QqnWLZX6"
      },
      "execution_count": null,
      "outputs": []
    },
    {
      "cell_type": "code",
      "source": [
        "fileHash=! {'python Colegio_Invisible/scripts/sha_256.py Colegio_Invisible/img/colegio_invisible.jpeg'}\n",
        "fileHash"
      ],
      "metadata": {
        "id": "LNncSCUyPCh-"
      },
      "execution_count": null,
      "outputs": []
    },
    {
      "cell_type": "code",
      "source": [
        "fileHash[-1]"
      ],
      "metadata": {
        "id": "I1GyhnDuPRSt"
      },
      "execution_count": null,
      "outputs": []
    },
    {
      "cell_type": "markdown",
      "source": [
        "# Symmetric Cryptography\n",
        "\n",
        "Encryption uses a key to map a plaintext to a ciphertext. Decryption is the reverse process where a key is used to map the ciphertext back to a plain text.\n",
        "\n",
        "Symmetric cryptography uses one single key that needs to be shared among all participants who are communicating. The encryption and decryption step use the same key.\n",
        "\n",
        "AES (Advanced Encryption Standard) is a symmetric block cipher standardized by NIST . It has a fixed data block size of 16 bytes. Its keys can be 128, 192, or 256 bits long.\n",
        "\n",
        "https://en.wikipedia.org/wiki/Advanced_Encryption_Standard\n",
        "\n"
      ],
      "metadata": {
        "id": "mWUubkZdR8pW"
      }
    },
    {
      "cell_type": "markdown",
      "source": [
        ""
      ],
      "metadata": {
        "id": "spGWfk2XwgCh"
      }
    },
    {
      "cell_type": "markdown",
      "source": [
        "## AES in Python Using `ecies`\n",
        "\n",
        "The **`eciespy`** library is an encryption library used in ethereum development. It does lots of things including including AES (symmetric encryption) and ECC (asymmetric cyptography). We will use it do most of our things.\n",
        "\n",
        "https://ecies.org/py/"
      ],
      "metadata": {
        "id": "zqjKOTkdzyS7"
      }
    },
    {
      "cell_type": "code",
      "execution_count": null,
      "metadata": {
        "id": "KyBP1TROVoI9"
      },
      "outputs": [],
      "source": [
        "import ecies\n",
        "type(ecies)"
      ]
    },
    {
      "cell_type": "markdown",
      "source": [
        "## Prepare the Encryption Key"
      ],
      "metadata": {
        "id": "NM2ZfEF20szM"
      }
    },
    {
      "cell_type": "code",
      "source": [
        "bytekey256=hashlib.sha256(b'semilla de mostaza').digest()\n",
        "bytekey256"
      ],
      "metadata": {
        "id": "4r1ebt-AyXqb"
      },
      "execution_count": null,
      "outputs": []
    },
    {
      "cell_type": "markdown",
      "source": [
        "The 256 bits are stored as 32 bytes. Remember each byte is 8 bits."
      ],
      "metadata": {
        "id": "_MBb0ksszSps"
      }
    },
    {
      "cell_type": "code",
      "source": [
        "len(bytekey256)"
      ],
      "metadata": {
        "id": "AdUibXy3ywSj"
      },
      "execution_count": null,
      "outputs": []
    },
    {
      "cell_type": "code",
      "source": [
        "len(bytekey256)*8"
      ],
      "metadata": {
        "id": "PmtMxMGEywWz"
      },
      "execution_count": null,
      "outputs": []
    },
    {
      "cell_type": "markdown",
      "source": [
        "## Encryption: Generating Ciphertext From Plaintext"
      ],
      "metadata": {
        "id": "IKLB5xwu7NSl"
      }
    },
    {
      "cell_type": "code",
      "source": [
        "plaintext=b'this is my plain text byte string'"
      ],
      "metadata": {
        "id": "8W0GPih-7MOt"
      },
      "execution_count": null,
      "outputs": []
    },
    {
      "cell_type": "code",
      "source": [
        "ciphertext=ecies.aes_encrypt(key=bytekey256,plain_text=plaintext)\n",
        "ciphertext"
      ],
      "metadata": {
        "id": "UlyPyHVB6__3"
      },
      "execution_count": null,
      "outputs": []
    },
    {
      "cell_type": "markdown",
      "source": [
        "## Decryption: Recovering Plaintext from Cipertext"
      ],
      "metadata": {
        "id": "bSIgdLTU702r"
      }
    },
    {
      "cell_type": "code",
      "source": [
        "recoveredtext=ecies.aes_decrypt(key=bytekey256,cipher_text=ciphertext)\n",
        "recoveredtext"
      ],
      "metadata": {
        "id": "55bjB7i68Fhj"
      },
      "execution_count": null,
      "outputs": []
    },
    {
      "cell_type": "markdown",
      "source": [
        "## AES on Files\n",
        "\n",
        "\n",
        "\n"
      ],
      "metadata": {
        "id": "G0gb9UXM9cHu"
      }
    },
    {
      "cell_type": "markdown",
      "source": [
        "### Encrypting Files"
      ],
      "metadata": {
        "id": "NifAW0eLITe2"
      }
    },
    {
      "cell_type": "code",
      "source": [
        "f=open('Colegio_Invisible/img/colegio_invisible.jpeg','rb')\n",
        "plainimg=f.read()\n",
        "f.close()\n",
        "\n",
        "cipherimg=ecies.aes_encrypt(key=bytekey256,plain_text=plainimg)"
      ],
      "metadata": {
        "id": "5H1b8YXC_IIc"
      },
      "execution_count": null,
      "outputs": []
    },
    {
      "cell_type": "code",
      "source": [
        "def aes_encrypt_file(plainfile_path,cipherfile_path,password):\n",
        "  plain = open(plainfile_path,'rb').read()\n",
        "  bytekey = hashlib.sha256( password.encode() ).digest()\n",
        "  cipher = ecies.aes_encrypt(key=bytekey,plain_text=plain)\n",
        "  open(cipherfile_path,'wb').write(cipher)\n"
      ],
      "metadata": {
        "id": "wddf3q3P_IYM"
      },
      "execution_count": null,
      "outputs": []
    },
    {
      "cell_type": "code",
      "source": [
        "aes_encrypt_file('Colegio_Invisible/img/colegio_invisible.jpeg','cipher_img.aes','password')"
      ],
      "metadata": {
        "id": "BxXnAWYd_I1r"
      },
      "execution_count": null,
      "outputs": []
    },
    {
      "cell_type": "code",
      "source": [
        "! ls"
      ],
      "metadata": {
        "id": "qiGEzHzuG0Jx"
      },
      "execution_count": null,
      "outputs": []
    },
    {
      "cell_type": "code",
      "source": [
        "! head -c 50 ciper_img.aes"
      ],
      "metadata": {
        "id": "w9qFcKbaHL2V"
      },
      "execution_count": null,
      "outputs": []
    },
    {
      "cell_type": "markdown",
      "source": [
        "### Decrypting Files"
      ],
      "metadata": {
        "id": "iqTIcAfw_KT9"
      }
    },
    {
      "cell_type": "code",
      "source": [
        "f=open('cipher_img.aes','rb')\n",
        "cipherimg2=f.read()\n",
        "f.close()\n",
        "\n",
        "aes_key=hashlib.sha256( 'password'.encode()  ).digest()\n",
        "\n",
        "plainimg2=ecies.aes_decrypt( key= aes_key , cipher_text=cipherimg2)"
      ],
      "metadata": {
        "id": "qQQ9v5NE_JLj"
      },
      "execution_count": null,
      "outputs": []
    },
    {
      "cell_type": "code",
      "source": [
        "def aes_decrypt_file(cipherfile_path,extractfile_path,password):\n",
        "  cipher = open(cipherfile_path,'rb').read()\n",
        "  bytekey = hashlib.sha256( password.encode() ).digest()\n",
        "  extract = ecies.aes_decrypt(key=bytekey,cipher_text=cipher)\n",
        "  open(extractfile_path,'wb').write(extract)"
      ],
      "metadata": {
        "id": "4ROzyk9V_JT6"
      },
      "execution_count": null,
      "outputs": []
    },
    {
      "cell_type": "code",
      "source": [
        "aes_decrypt_file('cipher_img.aes','extract_img.jpeg','password')"
      ],
      "metadata": {
        "id": "V7K84aFq_JdN"
      },
      "execution_count": null,
      "outputs": []
    },
    {
      "cell_type": "code",
      "source": [
        "from IPython.display import Image\n",
        "display(Image('extract_img.jpeg'))"
      ],
      "metadata": {
        "id": "FEmgnl3BP6tn"
      },
      "execution_count": null,
      "outputs": []
    },
    {
      "cell_type": "markdown",
      "source": [
        "## AES Using Python Scripts"
      ],
      "metadata": {
        "id": "tGaW-1lgRhiR"
      }
    },
    {
      "cell_type": "code",
      "source": [
        "! cat Colegio_Invisible/scripts/aes_encrypt.py"
      ],
      "metadata": {
        "colab": {
          "base_uri": "https://localhost:8080/"
        },
        "id": "DiY82X6kYIVx",
        "outputId": "7fe89e46-486e-459f-8668-30d20c3bede5"
      },
      "execution_count": 51,
      "outputs": [
        {
          "output_type": "stream",
          "name": "stdout",
          "text": [
            "##################################################################################\n",
            "# this script will encrypt a file using AES to create a password protected file\n",
            "# the AES key is the SHA256 hash of the user provided password\n",
            "#\n",
            "# run at the terminal using the following\n",
            "# > python aes_encrypt.py <PASSWORD> <PLAINTEXT_PATH> <CIPHERTEXT_PATH>\n",
            "# <PASSWORD>: password used to generate AES key\n",
            "# <PLAINTEXT_PATH>: path to file that will be encrypted\n",
            "# <CIPHERTEXT_PATH>: path to newly generated encrypted file\n",
            "#\n",
            "#EXAMPLE:\n",
            "#>python aes_encrypt.py Password123 file2enc.jpg cipher.aes\n",
            "#\n",
            "# IF <PASSWORD> IS NOT INCLUDED USER WILL BE PROMPTED TO ENTER IT SECURELY\n",
            "##################################################################################\n",
            "\n",
            "from sys import argv\n",
            "import getpass\n",
            "import ecies\n",
            "import eth_keys\n",
            "import hashlib\n",
            "\n",
            "\n",
            "if len(argv)==4:\n",
            "    _, password, plaintext_path, ciphertext_path = argv\n",
            "elif len(argv)==3:\n",
            "    _, plaintext_path, ciphertext_path  = argv\n",
            "    while True:\n",
            "        password = getpass.getpass(\"Input password for encryption: \")\n",
            "        password_2 = getpass.getpass(\"Repeat password for encryption: \")\n",
            "        if password==password_2:\n",
            "            print('\\nPasswords match...')\n",
            "            break\n",
            "        else:\n",
            "            print('\\nPasswords do not match...')\n",
            "else:\n",
            "    print('Incorrect number of arguments. 2 or 3 expected')\n",
            "    print('> python aes_encrypt.py <PASSWORD> <PLAINTEXT_PATH> <CIPHERTEXT_PATH>')\n",
            "    print('IF <PASSWORD> IS NOT INCLUDED USER WILL BE PROMPTED TO ENTER IT SECURELY')\n",
            "    exit()\n",
            "\n",
            "def aes_encrypt_file(plainfile_path,cipherfile_path,password):\n",
            "    plain = open(plainfile_path,'rb').read()\n",
            "    bytekey = hashlib.sha256( password.encode() ).digest()\n",
            "    cipher = ecies.aes_encrypt(key=bytekey,plain_text=plain)\n",
            "    open(cipherfile_path,'wb').write(cipher)\n",
            "\n",
            "\n",
            "\n",
            "aes_encrypt_file(plaintext_path,ciphertext_path,password)\n",
            "print('Success:',plaintext_path, 'AES encryption complete')\n",
            "print('Written to:', ciphertext_path)\n",
            "\n"
          ]
        }
      ]
    },
    {
      "cell_type": "code",
      "source": [
        "! python Colegio_Invisible/scripts/aes_encrypt.py 'Colegio_Invisible/img/colegio_invisible.jpeg' 'pic.aes'"
      ],
      "metadata": {
        "colab": {
          "base_uri": "https://localhost:8080/"
        },
        "id": "VYeoeIwreJBC",
        "outputId": "ab2b9cf4-e80d-4791-a9a5-cf6b40769c87"
      },
      "execution_count": 57,
      "outputs": [
        {
          "output_type": "stream",
          "name": "stdout",
          "text": [
            "Traceback (most recent call last):\n",
            "  File \"Colegio_Invisible/scripts/aes_encrypt.py\", line 19, in <module>\n",
            "    import ecies\n",
            "ModuleNotFoundError: No module named 'ecies'\n"
          ]
        }
      ]
    },
    {
      "cell_type": "code",
      "source": [
        "! python Colegio_Invisible/scripts/aes_decrypt.py 'pic.aes' 'dec.jpeg'"
      ],
      "metadata": {
        "colab": {
          "base_uri": "https://localhost:8080/"
        },
        "id": "dSt6l9D4eJHn",
        "outputId": "f6ad3585-16af-4250-b354-6bb5ef3288be"
      },
      "execution_count": 53,
      "outputs": [
        {
          "output_type": "stream",
          "name": "stdout",
          "text": [
            "Traceback (most recent call last):\n",
            "  File \"Colegio_Invisible/scripts/aes_decrypt.py\", line 20, in <module>\n",
            "    import ecies\n",
            "ModuleNotFoundError: No module named 'ecies'\n"
          ]
        }
      ]
    },
    {
      "cell_type": "code",
      "source": [
        "display(Image('dec.jpeg'))"
      ],
      "metadata": {
        "id": "vczu5rXYeJM7"
      },
      "execution_count": null,
      "outputs": []
    },
    {
      "cell_type": "code",
      "source": [
        "! python Colegio_Invisible/scripts/sha_256.py dec.jpeg"
      ],
      "metadata": {
        "colab": {
          "base_uri": "https://localhost:8080/"
        },
        "id": "SOhQxQRUgCm_",
        "outputId": "88aaa815-ddc8-450c-963c-5d3619c2ef68"
      },
      "execution_count": 50,
      "outputs": [
        {
          "output_type": "stream",
          "name": "stdout",
          "text": [
            "Traceback (most recent call last):\n",
            "  File \"Colegio_Invisible/scripts/sha_256.py\", line 30, in <module>\n",
            "    file_hash=sha256_file(file_path)\n",
            "  File \"Colegio_Invisible/scripts/sha_256.py\", line 26, in sha256_file\n",
            "    bytestring = open(path,'rb').read()\n",
            "FileNotFoundError: [Errno 2] No such file or directory: 'dec.jpeg'\n"
          ]
        }
      ]
    },
    {
      "cell_type": "code",
      "source": [
        ""
      ],
      "metadata": {
        "id": "CyGdpdSpVda1"
      },
      "execution_count": null,
      "outputs": []
    },
    {
      "cell_type": "code",
      "source": [
        ""
      ],
      "metadata": {
        "id": "QQylCDQ0ZIpC"
      },
      "execution_count": null,
      "outputs": []
    }
  ],
  "metadata": {
    "kernelspec": {
      "display_name": "Python 3",
      "language": "python",
      "name": "python3"
    },
    "language_info": {
      "codemirror_mode": {
        "name": "ipython",
        "version": 3
      },
      "file_extension": ".py",
      "mimetype": "text/x-python",
      "name": "python",
      "nbconvert_exporter": "python",
      "pygments_lexer": "ipython3",
      "version": "3.7.6"
    },
    "colab": {
      "name": "02_cuaderno.ipynb",
      "provenance": []
    }
  },
  "nbformat": 4,
  "nbformat_minor": 0
}