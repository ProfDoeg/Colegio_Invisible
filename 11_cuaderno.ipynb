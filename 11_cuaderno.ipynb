{
  "cells": [
    {
      "cell_type": "markdown",
      "metadata": {
        "id": "VvuVL0P4VxMP"
      },
      "source": [
        "#Op Return\n",
        "\n",
        "<a href=\"https://colab.research.google.com/github/ProfDoeg/Colegio_Invisible/blob/master/11_cuaderno.ipynb\" target=\"_parent\"><img src=\"https://colab.research.google.com/assets/colab-badge.svg\" alt=\"Open In Colab\"/></a>"
      ]
    },
    {
      "cell_type": "markdown",
      "metadata": {
        "id": "wM-07E7SjTJW"
      },
      "source": [
        "# Preparar el Espacio (Prepare the Space)"
      ]
    },
    {
      "cell_type": "code",
      "execution_count": 2,
      "metadata": {
        "id": "wSOgJBxoVxMU",
        "colab": {
          "base_uri": "https://localhost:8080/"
        },
        "outputId": "c1b98a64-552f-4285-f1a9-e5443ef7885e"
      },
      "outputs": [
        {
          "output_type": "stream",
          "name": "stdout",
          "text": [
            "Collecting eciespy\n",
            "  Downloading eciespy-0.3.11-py3-none-any.whl (11 kB)\n",
            "Collecting eth_keys\n",
            "  Downloading eth_keys-0.4.0-py3-none-any.whl (21 kB)\n",
            "Collecting cryptos\n",
            "  Downloading cryptos-1.36-py3-none-any.whl (69 kB)\n",
            "\u001b[K     |████████████████████████████████| 69 kB 3.5 MB/s \n",
            "\u001b[?25hCollecting qrcode\n",
            "  Downloading qrcode-7.3.1.tar.gz (43 kB)\n",
            "\u001b[K     |████████████████████████████████| 43 kB 1.4 MB/s \n",
            "\u001b[?25hCollecting base58\n",
            "  Downloading base58-2.1.1-py3-none-any.whl (5.6 kB)\n",
            "Collecting coincurve<16,>=13\n",
            "  Downloading coincurve-15.0.1-cp37-cp37m-manylinux_2_17_x86_64.manylinux2014_x86_64.whl (555 kB)\n",
            "\u001b[K     |████████████████████████████████| 555 kB 48.0 MB/s \n",
            "\u001b[?25hCollecting pycryptodome<4.0.0,>=3.9.9\n",
            "  Downloading pycryptodome-3.14.1-cp35-abi3-manylinux2010_x86_64.whl (2.0 MB)\n",
            "\u001b[K     |████████████████████████████████| 2.0 MB 46.5 MB/s \n",
            "\u001b[?25hCollecting eth_keys\n",
            "  Downloading eth_keys-0.3.4-py3-none-any.whl (21 kB)\n",
            "Collecting eth-utils<2.0.0,>=1.8.2\n",
            "  Downloading eth_utils-1.10.0-py3-none-any.whl (24 kB)\n",
            "Collecting eth-typing<3.0.0,>=2.2.1\n",
            "  Downloading eth_typing-2.3.0-py3-none-any.whl (6.2 kB)\n",
            "Collecting asn1crypto\n",
            "  Downloading asn1crypto-1.5.1-py2.py3-none-any.whl (105 kB)\n",
            "\u001b[K     |████████████████████████████████| 105 kB 47.4 MB/s \n",
            "\u001b[?25hRequirement already satisfied: cffi>=1.3.0 in /usr/local/lib/python3.7/dist-packages (from coincurve<16,>=13->eciespy) (1.15.0)\n",
            "Requirement already satisfied: pycparser in /usr/local/lib/python3.7/dist-packages (from cffi>=1.3.0->coincurve<16,>=13->eciespy) (2.21)\n",
            "Collecting eth-hash<0.4.0,>=0.3.1\n",
            "  Downloading eth_hash-0.3.2-py3-none-any.whl (8.8 kB)\n",
            "Collecting cytoolz<1.0.0,>=0.10.1\n",
            "  Downloading cytoolz-0.11.2.tar.gz (481 kB)\n",
            "\u001b[K     |████████████████████████████████| 481 kB 49.9 MB/s \n",
            "\u001b[?25hRequirement already satisfied: toolz>=0.8.0 in /usr/local/lib/python3.7/dist-packages (from cytoolz<1.0.0,>=0.10.1->eth-utils<2.0.0,>=1.8.2->eth_keys) (0.11.2)\n",
            "Building wheels for collected packages: cytoolz, qrcode\n",
            "  Building wheel for cytoolz (setup.py) ... \u001b[?25l\u001b[?25hdone\n",
            "  Created wheel for cytoolz: filename=cytoolz-0.11.2-cp37-cp37m-linux_x86_64.whl size=1230830 sha256=9f2b75739b17f139ecb02b0b2cbd8b32d8e3dd278fa3c6a5e40466ea0489dafd\n",
            "  Stored in directory: /root/.cache/pip/wheels/38/70/71/ca13ea3d36ccd0b3d0ec7d7a4ca67522048d695b556bba4f59\n",
            "  Building wheel for qrcode (setup.py) ... \u001b[?25l\u001b[?25hdone\n",
            "  Created wheel for qrcode: filename=qrcode-7.3.1-py3-none-any.whl size=40402 sha256=87c9b47e522fdb4f05a2a3b430aeb7aa65e649265b4b9c5ab3f53b59d7b3fe0c\n",
            "  Stored in directory: /root/.cache/pip/wheels/93/d7/39/a4111be2cfb8e679938aa671a37888b6afb1f9e7d748e94492\n",
            "Successfully built cytoolz qrcode\n",
            "Installing collected packages: eth-typing, eth-hash, cytoolz, eth-utils, asn1crypto, pycryptodome, eth-keys, coincurve, qrcode, eciespy, cryptos, base58\n",
            "Successfully installed asn1crypto-1.5.1 base58-2.1.1 coincurve-15.0.1 cryptos-1.36 cytoolz-0.11.2 eciespy-0.3.11 eth-hash-0.3.2 eth-keys-0.3.4 eth-typing-2.3.0 eth-utils-1.10.0 pycryptodome-3.14.1 qrcode-7.3.1\n",
            "Cloning into 'Colegio_Invisible'...\n",
            "remote: Enumerating objects: 959, done.\u001b[K\n",
            "remote: Counting objects: 100% (773/773), done.\u001b[K\n",
            "remote: Compressing objects: 100% (286/286), done.\u001b[K\n",
            "remote: Total 959 (delta 535), reused 701 (delta 485), pack-reused 186\u001b[K\n",
            "Receiving objects: 100% (959/959), 59.56 MiB | 35.58 MiB/s, done.\n",
            "Resolving deltas: 100% (647/647), done.\n"
          ]
        }
      ],
      "source": [
        "! pip install eciespy eth_keys cryptos qrcode base58 \n",
        "! git clone https://github.com/ProfDoeg/Colegio_Invisible.git"
      ]
    },
    {
      "cell_type": "markdown",
      "metadata": {
        "id": "A1DQRCdLxW9P"
      },
      "source": [
        ""
      ]
    },
    {
      "cell_type": "markdown",
      "metadata": {
        "id": "N9BkUDVqjgdA"
      },
      "source": [
        "# Crear Transacciones de Criptomoneda (Create Cryptocurrency Transactions)\n",
        "\n",
        "## Esquema (Outline) \n",
        "\n",
        "***\n",
        "\n",
        " \n",
        "## Metas (Goals)\n",
        "***\n",
        "***\n",
        "By the end of this notebook you should be able to:\n",
        "***\n",
        "Al final de este cuaderno, usted debería ser capaz de:\n",
        "***\n",
        "***\n",
        "- Multisig\n",
        "-"
      ]
    },
    {
      "cell_type": "markdown",
      "metadata": {
        "id": "BETMcDza0M2m"
      },
      "source": [
        "# Importaciones y Definiciones (Imports and Definitions)\n",
        "\n",
        "Crear funciones para importar claves y direcciones de criptomonedas.\n",
        "***\n",
        "Create functions for importing keys and cryptocurrency addresses."
      ]
    },
    {
      "cell_type": "code",
      "execution_count": 3,
      "metadata": {
        "id": "phMoOlb1VxMT"
      },
      "outputs": [],
      "source": [
        "import pandas as pd\n",
        "from cryptos.py3specials import safe_hexlify, from_string_to_bytes, from_int_to_byte, from_string_to_bytes\n",
        "from cryptos import serialize,deserialize\n",
        "\n",
        "import hashlib\n",
        "import os\n",
        "import getpass\n",
        "import ecies\n",
        "import eth_keys\n",
        "import cryptos\n",
        "import qrcode\n",
        "import base58\n",
        "from PIL import Image\n",
        "import matplotlib.pyplot as plt\n",
        "%matplotlib inline"
      ]
    },
    {
      "cell_type": "code",
      "execution_count": 4,
      "metadata": {
        "id": "sPi_0BLRWa1z"
      },
      "outputs": [],
      "source": [
        "def import_privKey(privkey_filepath,password=None):\n",
        "    if password==None:\n",
        "        password = getpass.getpass(\"Input password for decrypting keyfile: \")\n",
        "    password=password.encode()\n",
        "    f=open(privkey_filepath,'rb')\n",
        "    decrypted_bytes=ecies.aes_decrypt(key=hashlib.sha256(password).digest(),cipher_text=f.read())\n",
        "    privKey=eth_keys.keys.PrivateKey(decrypted_bytes)\n",
        "    return privKey\n",
        "\n",
        "def import_pubKey(pubkey_filepath):\n",
        "    f=open(pubkey_filepath,'rb')\n",
        "    privKey=eth_keys.keys.PublicKey(f.read())\n",
        "    return privKey\n",
        "\n",
        "def import_addr(addr_filepath):\n",
        "    return open(addr_filepath,'rb').read().decode()\n",
        "\n",
        "def only_conf(utxos):\n",
        "    return [utxo for utxo in utxos\n",
        "            if doge.fetchtx(utxo['output'].split(':')[0])['confirmations']>0]\n",
        "\n",
        "def mk_opreturn(msg, rawtx=None, json=0):\n",
        "    \n",
        "    def op_push(data):\n",
        "        if type(data) == bytes:\n",
        "            bytedata=data\n",
        "        else:\n",
        "            bytedata=data.encode()\n",
        "        import struct\n",
        "        if len(data) < 0x4c:\n",
        "            return from_int_to_byte(len(bytedata)) + bytedata\n",
        "        elif len(data) < 0xff:\n",
        "            return from_int_to_byte(76) + struct.pack('<B', len(bytedata)) + bytedata\n",
        "        elif len(data) < 0xffff:\n",
        "            return from_int_to_byte(77) + struct.pack('<H', len(bytedata)) + bytedata\n",
        "        elif len(data) < 0xffffffff:\n",
        "            return from_int_to_byte(78) + struct.pack('<I', len(bytedata)) + bytedata\n",
        "        else: raise Exception(\"Input data error. Rawtx must be hex chars\" \\\n",
        "                            + \"0xffffffff > len(data) > 0\")\n",
        "\n",
        "    orhex = safe_hexlify(b'\\x6a' + op_push(msg))\n",
        "    orjson = {'script' : orhex, 'value' : 0}\n",
        "    if rawtx is not None:\n",
        "        try:\n",
        "            txo = deserialize(rawtx)\n",
        "            if not 'outs' in txo.keys(): raise Exception(\"OP_Return cannot be the sole output!\")\n",
        "            txo['outs'].append(orjson)\n",
        "            newrawtx = serialize(txo)\n",
        "            return newrawtx\n",
        "        except Exception as E:\n",
        "            print(E)\n",
        "            print(type(E))\n",
        "            raise Exception(\"Raw Tx Error!\")\n",
        "    return orhex if not json else orjson"
      ]
    },
    {
      "cell_type": "markdown",
      "metadata": {
        "id": "yOcQvpiFXag0"
      },
      "source": [
        "# Comenzar con Claves Existentes (Start with Existing Keys)\n",
        "\n",
        "Acceder a las claves generadas en el cuaderno 5\n",
        "***\n",
        "Access the keys generated in the cuaderno 5"
      ]
    },
    {
      "cell_type": "markdown",
      "metadata": {
        "id": "0kYYEFx40an1"
      },
      "source": [
        "## Comenzar con Claves en Google Drive (Start with Keys on Google Drive)"
      ]
    },
    {
      "cell_type": "code",
      "execution_count": 5,
      "metadata": {
        "id": "DLmgNafNWa5O",
        "colab": {
          "base_uri": "https://localhost:8080/"
        },
        "outputId": "be6fd1d8-a08d-49d2-bafe-4fa2f3cd865f"
      },
      "outputs": [
        {
          "output_type": "stream",
          "name": "stdout",
          "text": [
            "Mounted at /content/drive\n"
          ]
        }
      ],
      "source": [
        "from google.colab import drive\n",
        "drive.mount('/content/drive')"
      ]
    },
    {
      "cell_type": "code",
      "execution_count": 6,
      "metadata": {
        "id": "x6oDx7tbWa72",
        "colab": {
          "base_uri": "https://localhost:8080/"
        },
        "outputId": "396159bc-a9d6-42c0-9a5c-dda573b0c67b"
      },
      "outputs": [
        {
          "output_type": "stream",
          "name": "stdout",
          "text": [
            "Archive:  llaves.zip\n",
            "   creating: llaves/\n",
            " extracting: llaves/mi_addr.bin      \n",
            " extracting: llaves/mi_addr.png      \n",
            " extracting: llaves/mi_pub.bin       \n",
            " extracting: llaves/mi_prv.enc       \n"
          ]
        }
      ],
      "source": [
        "! cp drive/MyDrive/cinv/llaves.zip llaves.zip \n",
        "! unzip llaves.zip\n"
      ]
    },
    {
      "cell_type": "markdown",
      "metadata": {
        "id": "sPvP5mkdcRu6"
      },
      "source": [
        "## Comenzar con Claves en la Disco Local\n",
        "## (Start with Keys on Local Drive)"
      ]
    },
    {
      "cell_type": "code",
      "execution_count": null,
      "metadata": {
        "id": "HIfCIuaRWa_b"
      },
      "outputs": [],
      "source": [
        "#from google.colab import files\n",
        "#fu=files.upload();"
      ]
    },
    {
      "cell_type": "code",
      "execution_count": null,
      "metadata": {
        "id": "Mk7eTjCPWbCS"
      },
      "outputs": [],
      "source": [
        "#! unzip llaves.zip"
      ]
    },
    {
      "cell_type": "code",
      "execution_count": null,
      "metadata": {
        "id": "hmAorBMjeA8j"
      },
      "outputs": [],
      "source": [
        "#! ls llaves"
      ]
    },
    {
      "cell_type": "markdown",
      "metadata": {
        "id": "QCY7Dye8dlXo"
      },
      "source": [
        "# Import Private Key, Public Key and Address"
      ]
    },
    {
      "cell_type": "code",
      "execution_count": 7,
      "metadata": {
        "id": "P6sggp7WdmQ7",
        "colab": {
          "base_uri": "https://localhost:8080/",
          "height": 218
        },
        "outputId": "cee5acb0-d28f-4615-ca8c-58a72a407cf6"
      },
      "outputs": [
        {
          "output_type": "display_data",
          "data": {
            "text/plain": [
              "<IPython.core.display.Image object>"
            ],
            "image/png": "[encoded data removed]"
          },
          "metadata": {}
        },
        {
          "output_type": "display_data",
          "data": {
            "text/plain": [
              "'0x7c88e9a4df6e9f45656c10bf66f28e28be235a15b64820b254f1b9eb2738314e6769f5c94da0c7640ffe76dcffca053b07a0804cd53a1c51ad03bfe0133ce8c5'"
            ],
            "application/vnd.google.colaboratory.intrinsic+json": {
              "type": "string"
            }
          },
          "metadata": {}
        },
        {
          "output_type": "display_data",
          "data": {
            "text/plain": [
              "'D6zKNnkupqRbkB9p5rwix8QiobQWJazjyX'"
            ],
            "application/vnd.google.colaboratory.intrinsic+json": {
              "type": "string"
            }
          },
          "metadata": {}
        }
      ],
      "source": [
        "from IPython.display import Image\n",
        "qr=Image('llaves/mi_addr.png')\n",
        "\n",
        "privKey=import_privKey('llaves/mi_prv.enc','')\n",
        "pub=import_pubKey('llaves/mi_pub.bin').to_hex()\n",
        "addr=import_addr('llaves/mi_addr.bin')\n",
        "\n",
        "display(qr)\n",
        "display(pub)\n",
        "display(addr)"
      ]
    },
    {
      "cell_type": "code",
      "source": [
        "message='''Radio, live transmission.\n",
        "Radio, live transmission.\n",
        "\n",
        "Listen to the silence, let it ring on.\n",
        "Eyes, dark grey lenses frightened of the sun.\n",
        "We would have a fine time living in the night,\n",
        "Left to blind destruction,\n",
        "Waiting for our sight.\n",
        "\n",
        "And we would go on as though nothing was wrong.\n",
        "And hide from these days we remained all alone.\n",
        "Staying in the same place, just staying out the time.\n",
        "Touching from a distance,\n",
        "Further all the time.\n",
        "\n",
        "Dance, dance, dance, dance, dance, to the radio.\n",
        "Dance, dance, dance, dance, dance, to the radio...\n",
        "\n",
        "Well I could call out when the going gets tough.\n",
        "The things that we've learnt are no longer enough.\n",
        "No language, just sound, that's all we need know,\n",
        "To synchronise love to the beat of the show.\n",
        "\n",
        "And we could dance.\n",
        "\n",
        "Dance, dance, dance, dance, dance, to the radio.\n",
        "Dance, dance, dance, dance, dance, to the radio...\n",
        "'''.encode()"
      ],
      "metadata": {
        "id": "ymwgS9GYQeKg"
      },
      "execution_count": 17,
      "outputs": []
    },
    {
      "cell_type": "code",
      "source": [
        "#message='hello to the world. this is a message to everyone who likes gravy. slow down. it is not healthy. it is too thick and sloppy'.encode()\n",
        "n = 76 \n",
        "chunks = [message[i:i+n] for i in range(0, len(message), n)]\n",
        "chunks"
      ],
      "metadata": {
        "colab": {
          "base_uri": "https://localhost:8080/"
        },
        "id": "rHAZSMvAMLnW",
        "outputId": "58062637-61ec-4cf1-9d70-5dcec02727fc"
      },
      "execution_count": 18,
      "outputs": [
        {
          "output_type": "execute_result",
          "data": {
            "text/plain": [
              "[b'Radio, live transmission.\\nRadio, live transmission.\\n\\nListen to the silence, ',\n",
              " b'let it ring on.\\nEyes, dark grey lenses frightened of the sun.\\nWe would have ',\n",
              " b'a fine time living in the night,\\nLeft to blind destruction,\\nWaiting for our ',\n",
              " b'sight.\\n\\nAnd we would go on as though nothing was wrong.\\nAnd hide from these ',\n",
              " b'days we remained all alone.\\nStaying in the same place, just staying out the ',\n",
              " b'time.\\nTouching from a distance,\\nFurther all the time.\\n\\nDance, dance, dance, ',\n",
              " b'dance, dance, to the radio.\\nDance, dance, dance, dance, dance, to the radio.',\n",
              " b\"..\\n\\nWell I could call out when the going gets tough.\\nThe things that we've l\",\n",
              " b\"earnt are no longer enough.\\nNo language, just sound, that's all we need know\",\n",
              " b',\\nTo synchronise love to the beat of the show.\\n\\nAnd we could dance.\\n\\nDance, ',\n",
              " b'dance, dance, dance, dance, to the radio.\\nDance, dance, dance, dance, dance,',\n",
              " b' to the radio...\\n']"
            ]
          },
          "metadata": {},
          "execution_count": 18
        }
      ]
    },
    {
      "cell_type": "code",
      "source": [
        "def pieces(bites,size):\n",
        "    return [bites[i:i+n] for i in range(0, len(bites), n)]"
      ],
      "metadata": {
        "id": "82AI9THBL7ok"
      },
      "execution_count": 19,
      "outputs": []
    },
    {
      "cell_type": "code",
      "source": [
        "def prepend_index(L):\n",
        "    return [ int(i).to_bytes(1, 'big')+int(len(chunks)-1).to_bytes(1, 'big')+chunk for i,chunk in enumerate(L)]"
      ],
      "metadata": {
        "id": "_Moi8ZzIVIXG"
      },
      "execution_count": 20,
      "outputs": []
    },
    {
      "cell_type": "code",
      "source": [
        "def prepend_head(L,byte_head):\n",
        "    return [ byte_head+chunk for chunk in L]\n",
        "\n",
        "# byte head contains leading byte \"\\xdd\" and byte to represent embed type\n",
        "# a single line text will be embed type \"\\x00\"\n",
        "# a single line hash will be embed type \"\\x01\"\n",
        "# a multiline text will be embed type \"\\x02\"\n",
        "# a multiline ecies encrypted text will be embed type \"\\x03\""
      ],
      "metadata": {
        "id": "O6sWIcLAs4ii"
      },
      "execution_count": 21,
      "outputs": []
    },
    {
      "cell_type": "code",
      "source": [
        "def multiline_setup(mensaje):\n",
        "    mensaje_partes=pieces(mensaje,76)\n",
        "    indexed_mensaje_partes=prepend_index(mensaje_partes)\n",
        "    return prepend_head(indexed_mensaje_partes,b'\\xdd\\x02')"
      ],
      "metadata": {
        "id": "XIOhnOWd0xoX"
      },
      "execution_count": 25,
      "outputs": []
    },
    {
      "cell_type": "code",
      "source": [
        "chunks=pieces(message,76)\n",
        "chunks"
      ],
      "metadata": {
        "colab": {
          "base_uri": "https://localhost:8080/"
        },
        "id": "WA1jWjkARJmN",
        "outputId": "14de1785-7128-4edb-a721-19b5ccd06459"
      },
      "execution_count": 22,
      "outputs": [
        {
          "output_type": "execute_result",
          "data": {
            "text/plain": [
              "[b'Radio, live transmission.\\nRadio, live transmission.\\n\\nListen to the silence, ',\n",
              " b'let it ring on.\\nEyes, dark grey lenses frightened of the sun.\\nWe would have ',\n",
              " b'a fine time living in the night,\\nLeft to blind destruction,\\nWaiting for our ',\n",
              " b'sight.\\n\\nAnd we would go on as though nothing was wrong.\\nAnd hide from these ',\n",
              " b'days we remained all alone.\\nStaying in the same place, just staying out the ',\n",
              " b'time.\\nTouching from a distance,\\nFurther all the time.\\n\\nDance, dance, dance, ',\n",
              " b'dance, dance, to the radio.\\nDance, dance, dance, dance, dance, to the radio.',\n",
              " b\"..\\n\\nWell I could call out when the going gets tough.\\nThe things that we've l\",\n",
              " b\"earnt are no longer enough.\\nNo language, just sound, that's all we need know\",\n",
              " b',\\nTo synchronise love to the beat of the show.\\n\\nAnd we could dance.\\n\\nDance, ',\n",
              " b'dance, dance, dance, dance, to the radio.\\nDance, dance, dance, dance, dance,',\n",
              " b' to the radio...\\n']"
            ]
          },
          "metadata": {},
          "execution_count": 22
        }
      ]
    },
    {
      "cell_type": "code",
      "source": [
        "indexed_chunks=prepend_index(chunks)\n",
        "indexed_chunks"
      ],
      "metadata": {
        "colab": {
          "base_uri": "https://localhost:8080/"
        },
        "id": "bL03zboJTP3v",
        "outputId": "0754ec25-287b-4575-d0cb-3e88b1e31a65"
      },
      "execution_count": 23,
      "outputs": [
        {
          "output_type": "execute_result",
          "data": {
            "text/plain": [
              "[b'\\x00\\x0bRadio, live transmission.\\nRadio, live transmission.\\n\\nListen to the silence, ',\n",
              " b'\\x01\\x0blet it ring on.\\nEyes, dark grey lenses frightened of the sun.\\nWe would have ',\n",
              " b'\\x02\\x0ba fine time living in the night,\\nLeft to blind destruction,\\nWaiting for our ',\n",
              " b'\\x03\\x0bsight.\\n\\nAnd we would go on as though nothing was wrong.\\nAnd hide from these ',\n",
              " b'\\x04\\x0bdays we remained all alone.\\nStaying in the same place, just staying out the ',\n",
              " b'\\x05\\x0btime.\\nTouching from a distance,\\nFurther all the time.\\n\\nDance, dance, dance, ',\n",
              " b'\\x06\\x0bdance, dance, to the radio.\\nDance, dance, dance, dance, dance, to the radio.',\n",
              " b\"\\x07\\x0b..\\n\\nWell I could call out when the going gets tough.\\nThe things that we've l\",\n",
              " b\"\\x08\\x0bearnt are no longer enough.\\nNo language, just sound, that's all we need know\",\n",
              " b'\\t\\x0b,\\nTo synchronise love to the beat of the show.\\n\\nAnd we could dance.\\n\\nDance, ',\n",
              " b'\\n\\x0bdance, dance, dance, dance, to the radio.\\nDance, dance, dance, dance, dance,',\n",
              " b'\\x0b\\x0b to the radio...\\n']"
            ]
          },
          "metadata": {},
          "execution_count": 23
        }
      ]
    },
    {
      "cell_type": "code",
      "source": [
        "headed_chunks=prepend_head(indexed_chunks,b'\\xdd\\x02')\n",
        "headed_chunks"
      ],
      "metadata": {
        "colab": {
          "base_uri": "https://localhost:8080/"
        },
        "id": "BqiMa6HTX9nB",
        "outputId": "978a95ab-3e34-480c-89bf-317c8cea6d4a"
      },
      "execution_count": 24,
      "outputs": [
        {
          "output_type": "execute_result",
          "data": {
            "text/plain": [
              "[b'\\xdd\\x02\\x00\\x0bRadio, live transmission.\\nRadio, live transmission.\\n\\nListen to the silence, ',\n",
              " b'\\xdd\\x02\\x01\\x0blet it ring on.\\nEyes, dark grey lenses frightened of the sun.\\nWe would have ',\n",
              " b'\\xdd\\x02\\x02\\x0ba fine time living in the night,\\nLeft to blind destruction,\\nWaiting for our ',\n",
              " b'\\xdd\\x02\\x03\\x0bsight.\\n\\nAnd we would go on as though nothing was wrong.\\nAnd hide from these ',\n",
              " b'\\xdd\\x02\\x04\\x0bdays we remained all alone.\\nStaying in the same place, just staying out the ',\n",
              " b'\\xdd\\x02\\x05\\x0btime.\\nTouching from a distance,\\nFurther all the time.\\n\\nDance, dance, dance, ',\n",
              " b'\\xdd\\x02\\x06\\x0bdance, dance, to the radio.\\nDance, dance, dance, dance, dance, to the radio.',\n",
              " b\"\\xdd\\x02\\x07\\x0b..\\n\\nWell I could call out when the going gets tough.\\nThe things that we've l\",\n",
              " b\"\\xdd\\x02\\x08\\x0bearnt are no longer enough.\\nNo language, just sound, that's all we need know\",\n",
              " b'\\xdd\\x02\\t\\x0b,\\nTo synchronise love to the beat of the show.\\n\\nAnd we could dance.\\n\\nDance, ',\n",
              " b'\\xdd\\x02\\n\\x0bdance, dance, dance, dance, to the radio.\\nDance, dance, dance, dance, dance,',\n",
              " b'\\xdd\\x02\\x0b\\x0b to the radio...\\n']"
            ]
          },
          "metadata": {},
          "execution_count": 24
        }
      ]
    },
    {
      "cell_type": "code",
      "source": [
        "opreturn_list=multiline_setup(message)\n",
        "opreturn_list"
      ],
      "metadata": {
        "colab": {
          "base_uri": "https://localhost:8080/"
        },
        "id": "mNnt_g8Z0XfY",
        "outputId": "8b91f363-01a9-4788-c83f-f19fddf53a46"
      },
      "execution_count": 27,
      "outputs": [
        {
          "output_type": "execute_result",
          "data": {
            "text/plain": [
              "[b'\\xdd\\x02\\x00\\x0bRadio, live transmission.\\nRadio, live transmission.\\n\\nListen to the silence, ',\n",
              " b'\\xdd\\x02\\x01\\x0blet it ring on.\\nEyes, dark grey lenses frightened of the sun.\\nWe would have ',\n",
              " b'\\xdd\\x02\\x02\\x0ba fine time living in the night,\\nLeft to blind destruction,\\nWaiting for our ',\n",
              " b'\\xdd\\x02\\x03\\x0bsight.\\n\\nAnd we would go on as though nothing was wrong.\\nAnd hide from these ',\n",
              " b'\\xdd\\x02\\x04\\x0bdays we remained all alone.\\nStaying in the same place, just staying out the ',\n",
              " b'\\xdd\\x02\\x05\\x0btime.\\nTouching from a distance,\\nFurther all the time.\\n\\nDance, dance, dance, ',\n",
              " b'\\xdd\\x02\\x06\\x0bdance, dance, to the radio.\\nDance, dance, dance, dance, dance, to the radio.',\n",
              " b\"\\xdd\\x02\\x07\\x0b..\\n\\nWell I could call out when the going gets tough.\\nThe things that we've l\",\n",
              " b\"\\xdd\\x02\\x08\\x0bearnt are no longer enough.\\nNo language, just sound, that's all we need know\",\n",
              " b'\\xdd\\x02\\t\\x0b,\\nTo synchronise love to the beat of the show.\\n\\nAnd we could dance.\\n\\nDance, ',\n",
              " b'\\xdd\\x02\\n\\x0bdance, dance, dance, dance, to the radio.\\nDance, dance, dance, dance, dance,',\n",
              " b'\\xdd\\x02\\x0b\\x0b to the radio...\\n']"
            ]
          },
          "metadata": {},
          "execution_count": 27
        }
      ]
    },
    {
      "cell_type": "code",
      "source": [
        "def embed_message_list(L,privkeyhex,tip=2_00_000_000):\n",
        "    import time\n",
        "    txn_ids=[]\n",
        "    doge=cryptos.Doge()\n",
        "    addy=doge.privtoaddr(privkeyhex)\n",
        "    doge_unspents=only_conf( doge.unspent(addy) )\n",
        "    doge_unspent_total=sum([unspent['value'] for unspent in doge_unspents])\n",
        "    if ( tip*len(L) + 3_00_000_000 ) > doge_unspent_total:\n",
        "        raise Exception(\"Not enough coins available\")\n",
        "    # at this point we know we have enough coins...\n",
        "    # now we will iterate through the list\n",
        "    for op_return in L:\n",
        "        print(op_return)\n",
        "    # make sure to wait for utxos to confirm, if not wait 10 sec\n",
        "        while True:\n",
        "            doge_unspents=only_conf( doge.unspent(addy) )\n",
        "            if doge_unspents != []:\n",
        "              print('COINS UP')\n",
        "              break\n",
        "            time.sleep(20)\n",
        "        doge_unspent_total=sum([unspent['value'] for unspent in doge_unspents]) \n",
        "        doge_gift=doge_unspent_total-tip\n",
        "        doge_outputs=[ {'value':doge_gift , 'address': addy}]\n",
        "        doge_tx=doge.mktx(doge_unspents,doge_outputs)\n",
        "        doge_serial_tx=cryptos.serialize(doge_tx)\n",
        "        doge_inscribed_serial_tx=mk_opreturn( op_return , doge_serial_tx)\n",
        "        doge_inscribed_tx=cryptos.deserialize(doge_inscribed_serial_tx)\n",
        "        doge_signed_inscribed_tx=doge.signall(doge_inscribed_tx,privkeyhex)\n",
        "        broadcast_doge_signed_inscribed_tx=doge.pushtx(doge_signed_inscribed_tx)\n",
        "        txn_ids.append(broadcast_doge_signed_inscribed_tx['data']['txid'])\n",
        "    return txn_ids"
      ],
      "metadata": {
        "id": "Spl5eVWz27j-"
      },
      "execution_count": 31,
      "outputs": []
    },
    {
      "cell_type": "code",
      "source": [
        "embed_message_list(opreturn_list[7:],privKey.to_hex()[2:],tip=2_00_000_000)"
      ],
      "metadata": {
        "colab": {
          "base_uri": "https://localhost:8080/"
        },
        "id": "KmJw96J_G9iq",
        "outputId": "0967e2a5-251b-4f8d-a95f-e0793ab7aca8"
      },
      "execution_count": 35,
      "outputs": [
        {
          "output_type": "stream",
          "name": "stdout",
          "text": [
            "b\"\\xdd\\x02\\x07\\x0b..\\n\\nWell I could call out when the going gets tough.\\nThe things that we've l\"\n",
            "COINS UP\n",
            "b\"\\xdd\\x02\\x08\\x0bearnt are no longer enough.\\nNo language, just sound, that's all we need know\"\n",
            "COINS UP\n",
            "b'\\xdd\\x02\\t\\x0b,\\nTo synchronise love to the beat of the show.\\n\\nAnd we could dance.\\n\\nDance, '\n",
            "COINS UP\n",
            "b'\\xdd\\x02\\n\\x0bdance, dance, dance, dance, to the radio.\\nDance, dance, dance, dance, dance,'\n",
            "COINS UP\n",
            "b'\\xdd\\x02\\x0b\\x0b to the radio...\\n'\n",
            "COINS UP\n"
          ]
        },
        {
          "output_type": "execute_result",
          "data": {
            "text/plain": [
              "['a76fbc9a793ecacabf28ee12ecb1716dbabe315e3b6fd58f0d3dc04b73bac1ae',\n",
              " '471720c333030d8c16c1ca35ddfab6705a2ca8d39d09dde37f486616b63972ba',\n",
              " '466ee54dbb8df470c075fd397274fee5f0c66e318c2be2cfa229fc88671cdec3',\n",
              " 'b8ec2f72fd103ba895ca0c61a2bc6af84129fc5d924f6cd435be572b4183ed5c',\n",
              " '91d9f1573bacfac0e781764e5598318e1f9c00d22002db680e827469f268c7a8']"
            ]
          },
          "metadata": {},
          "execution_count": 35
        }
      ]
    },
    {
      "cell_type": "code",
      "source": [
        "H=doge.history('D6zKNnkupqRbkB9p5rwix8QiobQWJazjyX')\n"
      ],
      "metadata": {
        "id": "gAhpgoBJNpOj"
      },
      "execution_count": 48,
      "outputs": []
    },
    {
      "cell_type": "code",
      "source": [
        "lyric_txs=[ tx['txid'] for tx in H['data']['txs'][:12]][::-1]\n",
        "lyric_txs"
      ],
      "metadata": {
        "colab": {
          "base_uri": "https://localhost:8080/"
        },
        "id": "iq0szIWXO42S",
        "outputId": "19f5ec2e-b092-4f47-820c-52298a17608a"
      },
      "execution_count": 47,
      "outputs": [
        {
          "output_type": "execute_result",
          "data": {
            "text/plain": [
              "['4a3c2a16db96681b4351b3bb642d12e69a27f1f695323ef5dd1b4c5628cd8127',\n",
              " '58f58c2d1694653a8396f0feae41f00a1852fe4a6b6ba782d72e22f93720a9ba',\n",
              " 'f30809fbe7ccba952712695bf827f9595744d4c8ae9fb5f6a8d7d21b39960024',\n",
              " '48192af05a3aaf8cf8b3eaae01aa280573cf2f4e402a94e3fdda0748a45fd341',\n",
              " '0bb797690b76e7c678d06565220ba7dcdbafed92373ea22fe49494a7e0f55fe5',\n",
              " 'c24330aaa69b0b6ec7ec04824a4eed28982d6c6d049adc986705945fc96db6d5',\n",
              " 'b0821e8b53e2985c59f06d32318ae89743943e3d901ca7d95b6dd1d453f0d56b',\n",
              " 'a76fbc9a793ecacabf28ee12ecb1716dbabe315e3b6fd58f0d3dc04b73bac1ae',\n",
              " '471720c333030d8c16c1ca35ddfab6705a2ca8d39d09dde37f486616b63972ba',\n",
              " '466ee54dbb8df470c075fd397274fee5f0c66e318c2be2cfa229fc88671cdec3',\n",
              " 'b8ec2f72fd103ba895ca0c61a2bc6af84129fc5d924f6cd435be572b4183ed5c',\n",
              " '91d9f1573bacfac0e781764e5598318e1f9c00d22002db680e827469f268c7a8']"
            ]
          },
          "metadata": {},
          "execution_count": 47
        }
      ]
    },
    {
      "cell_type": "code",
      "source": [
        "#weird opreturn i found in dogecoin blockchain\n",
        "bytes.fromhex('737761703a424e422e425553442d4244313a626e6231726e7667326b3537776e6d32747578336c386e34647672753671676465746e6b7739647368343a313738333134373632343939')"
      ],
      "metadata": {
        "colab": {
          "base_uri": "https://localhost:8080/"
        },
        "id": "fsUAnFDdSkUB",
        "outputId": "78e0b5c8-57e1-4dbe-ac9c-1e7553201584"
      },
      "execution_count": 143,
      "outputs": [
        {
          "output_type": "execute_result",
          "data": {
            "text/plain": [
              "b'swap:BNB.BUSD-BD1:bnb1rnvg2k57wnm2tux3l8n4dvru6qgdetnkw9dsh4:178314762499'"
            ]
          },
          "metadata": {},
          "execution_count": 143
        }
      ]
    },
    {
      "cell_type": "code",
      "source": [
        ""
      ],
      "metadata": {
        "id": "LHHx8sRs-KbQ"
      },
      "execution_count": null,
      "outputs": []
    }
  ],
  "metadata": {
    "colab": {
      "name": "11_cuaderno.ipynb",
      "provenance": [],
      "background_execution": "on"
    },
    "kernelspec": {
      "display_name": "Python 3",
      "language": "python",
      "name": "python3"
    },
    "language_info": {
      "codemirror_mode": {
        "name": "ipython",
        "version": 3
      },
      "file_extension": ".py",
      "mimetype": "text/x-python",
      "name": "python",
      "nbconvert_exporter": "python",
      "pygments_lexer": "ipython3",
      "version": "3.7.6"
    }
  },
  "nbformat": 4,
  "nbformat_minor": 0
}