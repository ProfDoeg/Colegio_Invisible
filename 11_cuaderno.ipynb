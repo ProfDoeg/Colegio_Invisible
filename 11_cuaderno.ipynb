{
  "cells": [
    {
      "cell_type": "markdown",
      "metadata": {
        "id": "VvuVL0P4VxMP"
      },
      "source": [
        "#Op Return\n",
        "\n",
        "<a href=\"https://colab.research.google.com/github/ProfDoeg/Colegio_Invisible/blob/master/11_cuaderno.ipynb\" target=\"_parent\"><img src=\"https://colab.research.google.com/assets/colab-badge.svg\" alt=\"Open In Colab\"/></a>"
      ]
    },
    {
      "cell_type": "markdown",
      "metadata": {
        "id": "wM-07E7SjTJW"
      },
      "source": [
        "# Preparar el Espacio (Prepare the Space)"
      ]
    },
    {
      "cell_type": "code",
      "execution_count": 1,
      "metadata": {
        "id": "wSOgJBxoVxMU",
        "colab": {
          "base_uri": "https://localhost:8080/"
        },
        "outputId": "8cb8fa17-22ad-4c88-b275-839d50c448c1"
      },
      "outputs": [
        {
          "output_type": "stream",
          "name": "stdout",
          "text": [
            "Collecting eciespy\n",
            "  Downloading eciespy-0.3.11-py3-none-any.whl (11 kB)\n",
            "Collecting eth_keys\n",
            "  Downloading eth_keys-0.4.0-py3-none-any.whl (21 kB)\n",
            "Collecting cryptos\n",
            "  Downloading cryptos-1.36-py3-none-any.whl (69 kB)\n",
            "\u001b[K     |████████████████████████████████| 69 kB 3.8 MB/s \n",
            "\u001b[?25hCollecting qrcode\n",
            "  Downloading qrcode-7.3.1.tar.gz (43 kB)\n",
            "\u001b[K     |████████████████████████████████| 43 kB 1.2 MB/s \n",
            "\u001b[?25hCollecting base58\n",
            "  Downloading base58-2.1.1-py3-none-any.whl (5.6 kB)\n",
            "Collecting eth_keys\n",
            "  Downloading eth_keys-0.3.4-py3-none-any.whl (21 kB)\n",
            "Collecting coincurve<16,>=13\n",
            "  Downloading coincurve-15.0.1-cp37-cp37m-manylinux_2_17_x86_64.manylinux2014_x86_64.whl (555 kB)\n",
            "\u001b[K     |████████████████████████████████| 555 kB 27.9 MB/s \n",
            "\u001b[?25hCollecting pycryptodome<4.0.0,>=3.9.9\n",
            "  Downloading pycryptodome-3.14.1-cp35-abi3-manylinux2010_x86_64.whl (2.0 MB)\n",
            "\u001b[K     |████████████████████████████████| 2.0 MB 50.2 MB/s \n",
            "\u001b[?25hCollecting eth-typing<3.0.0,>=2.2.1\n",
            "  Downloading eth_typing-2.3.0-py3-none-any.whl (6.2 kB)\n",
            "Collecting eth-utils<2.0.0,>=1.8.2\n",
            "  Downloading eth_utils-1.10.0-py3-none-any.whl (24 kB)\n",
            "Requirement already satisfied: cffi>=1.3.0 in /usr/local/lib/python3.7/dist-packages (from coincurve<16,>=13->eciespy) (1.15.0)\n",
            "Collecting asn1crypto\n",
            "  Downloading asn1crypto-1.5.1-py2.py3-none-any.whl (105 kB)\n",
            "\u001b[K     |████████████████████████████████| 105 kB 49.5 MB/s \n",
            "\u001b[?25hRequirement already satisfied: pycparser in /usr/local/lib/python3.7/dist-packages (from cffi>=1.3.0->coincurve<16,>=13->eciespy) (2.21)\n",
            "Collecting eth-hash<0.4.0,>=0.3.1\n",
            "  Downloading eth_hash-0.3.2-py3-none-any.whl (8.8 kB)\n",
            "Collecting cytoolz<1.0.0,>=0.10.1\n",
            "  Downloading cytoolz-0.11.2.tar.gz (481 kB)\n",
            "\u001b[K     |████████████████████████████████| 481 kB 52.0 MB/s \n",
            "\u001b[?25hRequirement already satisfied: toolz>=0.8.0 in /usr/local/lib/python3.7/dist-packages (from cytoolz<1.0.0,>=0.10.1->eth-utils<2.0.0,>=1.8.2->eth_keys) (0.11.2)\n",
            "Building wheels for collected packages: cytoolz, qrcode\n",
            "  Building wheel for cytoolz (setup.py) ... \u001b[?25l\u001b[?25hdone\n",
            "  Created wheel for cytoolz: filename=cytoolz-0.11.2-cp37-cp37m-linux_x86_64.whl size=1230874 sha256=d68a617e2ffdca083963f63b43859ee174623fc9aa1e6e307b23bc3e31252096\n",
            "  Stored in directory: /root/.cache/pip/wheels/38/70/71/ca13ea3d36ccd0b3d0ec7d7a4ca67522048d695b556bba4f59\n",
            "  Building wheel for qrcode (setup.py) ... \u001b[?25l\u001b[?25hdone\n",
            "  Created wheel for qrcode: filename=qrcode-7.3.1-py3-none-any.whl size=40402 sha256=0fe65779f1f1345547a9c10516adae586fd221e7b2640dc46f6e3c03a9944efd\n",
            "  Stored in directory: /root/.cache/pip/wheels/93/d7/39/a4111be2cfb8e679938aa671a37888b6afb1f9e7d748e94492\n",
            "Successfully built cytoolz qrcode\n",
            "Installing collected packages: eth-typing, eth-hash, cytoolz, eth-utils, asn1crypto, pycryptodome, eth-keys, coincurve, qrcode, eciespy, cryptos, base58\n",
            "Successfully installed asn1crypto-1.5.1 base58-2.1.1 coincurve-15.0.1 cryptos-1.36 cytoolz-0.11.2 eciespy-0.3.11 eth-hash-0.3.2 eth-keys-0.3.4 eth-typing-2.3.0 eth-utils-1.10.0 pycryptodome-3.14.1 qrcode-7.3.1\n",
            "Cloning into 'Colegio_Invisible'...\n",
            "remote: Enumerating objects: 953, done.\u001b[K\n",
            "remote: Counting objects: 100% (767/767), done.\u001b[K\n",
            "remote: Compressing objects: 100% (280/280), done.\u001b[K\n",
            "remote: Total 953 (delta 529), reused 701 (delta 485), pack-reused 186\u001b[K\n",
            "Receiving objects: 100% (953/953), 59.56 MiB | 29.25 MiB/s, done.\n",
            "Resolving deltas: 100% (641/641), done.\n"
          ]
        }
      ],
      "source": [
        "! pip install eciespy eth_keys cryptos qrcode base58 \n",
        "! git clone https://github.com/ProfDoeg/Colegio_Invisible.git"
      ]
    },
    {
      "cell_type": "markdown",
      "metadata": {
        "id": "A1DQRCdLxW9P"
      },
      "source": [
        ""
      ]
    },
    {
      "cell_type": "markdown",
      "metadata": {
        "id": "N9BkUDVqjgdA"
      },
      "source": [
        "# Crear Transacciones de Criptomoneda (Create Cryptocurrency Transactions)\n",
        "\n",
        "## Esquema (Outline) \n",
        "\n",
        "***\n",
        "\n",
        " \n",
        "## Metas (Goals)\n",
        "***\n",
        "***\n",
        "By the end of this notebook you should be able to:\n",
        "***\n",
        "Al final de este cuaderno, usted debería ser capaz de:\n",
        "***\n",
        "***\n",
        "- Multisig\n",
        "-"
      ]
    },
    {
      "cell_type": "markdown",
      "metadata": {
        "id": "BETMcDza0M2m"
      },
      "source": [
        "# Importaciones y Definiciones (Imports and Definitions)\n",
        "\n",
        "Crear funciones para importar claves y direcciones de criptomonedas.\n",
        "***\n",
        "Create functions for importing keys and cryptocurrency addresses."
      ]
    },
    {
      "cell_type": "code",
      "execution_count": 2,
      "metadata": {
        "id": "phMoOlb1VxMT"
      },
      "outputs": [],
      "source": [
        "import pandas as pd\n",
        "from cryptos.py3specials import safe_hexlify, from_string_to_bytes, from_int_to_byte, from_string_to_bytes\n",
        "from cryptos import serialize,deserialize\n",
        "\n",
        "import hashlib\n",
        "import os\n",
        "import getpass\n",
        "import ecies\n",
        "import eth_keys\n",
        "import cryptos\n",
        "import qrcode\n",
        "import base58\n",
        "from PIL import Image\n",
        "import matplotlib.pyplot as plt\n",
        "%matplotlib inline"
      ]
    },
    {
      "cell_type": "code",
      "execution_count": 3,
      "metadata": {
        "id": "sPi_0BLRWa1z"
      },
      "outputs": [],
      "source": [
        "def import_privKey(privkey_filepath,password=None):\n",
        "    if password==None:\n",
        "        password = getpass.getpass(\"Input password for decrypting keyfile: \")\n",
        "    password=password.encode()\n",
        "    f=open(privkey_filepath,'rb')\n",
        "    decrypted_bytes=ecies.aes_decrypt(key=hashlib.sha256(password).digest(),cipher_text=f.read())\n",
        "    privKey=eth_keys.keys.PrivateKey(decrypted_bytes)\n",
        "    return privKey\n",
        "\n",
        "def import_pubKey(pubkey_filepath):\n",
        "    f=open(pubkey_filepath,'rb')\n",
        "    privKey=eth_keys.keys.PublicKey(f.read())\n",
        "    return privKey\n",
        "\n",
        "def import_addr(addr_filepath):\n",
        "    return open(addr_filepath,'rb').read().decode()\n",
        "\n",
        "def only_conf(utxos):\n",
        "    return [utxo for utxo in utxos\n",
        "            if doge.fetchtx(utxo['output'].split(':')[0])['confirmations']>1]\n",
        "\n",
        "def mk_opreturn(msg, rawtx=None, json=0):\n",
        "    \n",
        "    def op_push(data):\n",
        "        if type(data) == bytes:\n",
        "            bytedata=data\n",
        "        else:\n",
        "            bytedata=data.encode()\n",
        "        import struct\n",
        "        if len(data) < 0x4c:\n",
        "            return from_int_to_byte(len(bytedata)) + bytedata\n",
        "        elif len(data) < 0xff:\n",
        "            return from_int_to_byte(76) + struct.pack('<B', len(bytedata)) + bytedata\n",
        "        elif len(data) < 0xffff:\n",
        "            return from_int_to_byte(77) + struct.pack('<H', len(bytedata)) + bytedata\n",
        "        elif len(data) < 0xffffffff:\n",
        "            return from_int_to_byte(78) + struct.pack('<I', len(bytedata)) + bytedata\n",
        "        else: raise Exception(\"Input data error. Rawtx must be hex chars\" \\\n",
        "                            + \"0xffffffff > len(data) > 0\")\n",
        "\n",
        "    orhex = safe_hexlify(b'\\x6a' + op_push(msg))\n",
        "    orjson = {'script' : orhex, 'value' : 0}\n",
        "    if rawtx is not None:\n",
        "        try:\n",
        "            txo = deserialize(rawtx)\n",
        "            if not 'outs' in txo.keys(): raise Exception(\"OP_Return cannot be the sole output!\")\n",
        "            txo['outs'].append(orjson)\n",
        "            newrawtx = serialize(txo)\n",
        "            return newrawtx\n",
        "        except Exception as E:\n",
        "            print(E)\n",
        "            print(type(E))\n",
        "            raise Exception(\"Raw Tx Error!\")\n",
        "    return orhex if not json else orjson"
      ]
    },
    {
      "cell_type": "markdown",
      "metadata": {
        "id": "yOcQvpiFXag0"
      },
      "source": [
        "# Comenzar con Claves Existentes (Start with Existing Keys)\n",
        "\n",
        "Acceder a las claves generadas en el cuaderno 5\n",
        "***\n",
        "Access the keys generated in the cuaderno 5"
      ]
    },
    {
      "cell_type": "markdown",
      "metadata": {
        "id": "0kYYEFx40an1"
      },
      "source": [
        "## Comenzar con Claves en Google Drive (Start with Keys on Google Drive)"
      ]
    },
    {
      "cell_type": "code",
      "execution_count": 4,
      "metadata": {
        "id": "DLmgNafNWa5O",
        "colab": {
          "base_uri": "https://localhost:8080/"
        },
        "outputId": "ce969af7-9575-4957-f76f-9f9ce6d49f3a"
      },
      "outputs": [
        {
          "output_type": "stream",
          "name": "stdout",
          "text": [
            "Mounted at /content/drive\n"
          ]
        }
      ],
      "source": [
        "from google.colab import drive\n",
        "drive.mount('/content/drive')"
      ]
    },
    {
      "cell_type": "code",
      "execution_count": 5,
      "metadata": {
        "id": "x6oDx7tbWa72",
        "colab": {
          "base_uri": "https://localhost:8080/"
        },
        "outputId": "3f84a63f-df41-4b2d-d0f0-f7986e61713e"
      },
      "outputs": [
        {
          "output_type": "stream",
          "name": "stdout",
          "text": [
            "Archive:  llaves.zip\n",
            "   creating: llaves/\n",
            " extracting: llaves/mi_addr.bin      \n",
            " extracting: llaves/mi_addr.png      \n",
            " extracting: llaves/mi_pub.bin       \n",
            " extracting: llaves/mi_prv.enc       \n"
          ]
        }
      ],
      "source": [
        "! cp drive/MyDrive/cinv/llaves.zip llaves.zip \n",
        "! unzip llaves.zip\n"
      ]
    },
    {
      "cell_type": "markdown",
      "metadata": {
        "id": "sPvP5mkdcRu6"
      },
      "source": [
        "## Comenzar con Claves en la Disco Local\n",
        "## (Start with Keys on Local Drive)"
      ]
    },
    {
      "cell_type": "code",
      "execution_count": null,
      "metadata": {
        "id": "HIfCIuaRWa_b"
      },
      "outputs": [],
      "source": [
        "#from google.colab import files\n",
        "#fu=files.upload();"
      ]
    },
    {
      "cell_type": "code",
      "execution_count": null,
      "metadata": {
        "id": "Mk7eTjCPWbCS"
      },
      "outputs": [],
      "source": [
        "#! unzip llaves.zip"
      ]
    },
    {
      "cell_type": "code",
      "execution_count": null,
      "metadata": {
        "id": "hmAorBMjeA8j"
      },
      "outputs": [],
      "source": [
        "#! ls llaves"
      ]
    },
    {
      "cell_type": "markdown",
      "metadata": {
        "id": "QCY7Dye8dlXo"
      },
      "source": [
        "# Import Private Key, Public Key and Address"
      ]
    },
    {
      "cell_type": "code",
      "execution_count": 6,
      "metadata": {
        "id": "P6sggp7WdmQ7",
        "colab": {
          "base_uri": "https://localhost:8080/",
          "height": 218
        },
        "outputId": "35847f53-becb-489c-d21a-85b8ced2f06d"
      },
      "outputs": [
        {
          "output_type": "display_data",
          "data": {
            "text/plain": [
              "<IPython.core.display.Image object>"
            ],
            "image/png": "[encoded data removed]"
          },
          "metadata": {}
        },
        {
          "output_type": "display_data",
          "data": {
            "text/plain": [
              "'0x7c88e9a4df6e9f45656c10bf66f28e28be235a15b64820b254f1b9eb2738314e6769f5c94da0c7640ffe76dcffca053b07a0804cd53a1c51ad03bfe0133ce8c5'"
            ],
            "application/vnd.google.colaboratory.intrinsic+json": {
              "type": "string"
            }
          },
          "metadata": {}
        },
        {
          "output_type": "display_data",
          "data": {
            "text/plain": [
              "'D6zKNnkupqRbkB9p5rwix8QiobQWJazjyX'"
            ],
            "application/vnd.google.colaboratory.intrinsic+json": {
              "type": "string"
            }
          },
          "metadata": {}
        }
      ],
      "source": [
        "from IPython.display import Image\n",
        "qr=Image('llaves/mi_addr.png')\n",
        "\n",
        "privKey=import_privKey('llaves/mi_prv.enc','')\n",
        "pub=import_pubKey('llaves/mi_pub.bin').to_hex()\n",
        "addr=import_addr('llaves/mi_addr.bin')\n",
        "\n",
        "display(qr)\n",
        "display(pub)\n",
        "display(addr)"
      ]
    },
    {
      "cell_type": "markdown",
      "source": [
        "# Import "
      ],
      "metadata": {
        "id": "2eJi4dcY1HDK"
      }
    },
    {
      "cell_type": "markdown",
      "metadata": {
        "id": "84vTBrTc0hQm"
      },
      "source": [
        "# Connect to Colegio Message Spreadsheet"
      ]
    },
    {
      "cell_type": "markdown",
      "metadata": {
        "id": "1txSB4pVjGpU"
      },
      "source": [
        "## Decrypt Credentials\n",
        "\n",
        "$\\color{white}{\\text{c0leg101nv1s1ble}}$\n",
        "\n",
        "Use la contraseña de arriba para descifrar las credenciales\n",
        "***\n",
        "Use password above to decrypt credentials\n"
      ]
    },
    {
      "cell_type": "code",
      "execution_count": 7,
      "metadata": {
        "id": "7KJWkuzviJut",
        "colab": {
          "base_uri": "https://localhost:8080/"
        },
        "outputId": "c0db6ebb-750a-4ac6-850d-53618b419bf9"
      },
      "outputs": [
        {
          "output_type": "stream",
          "name": "stdout",
          "text": [
            "Éxito (Success): Colegio_Invisible/secrets/client_secret.aes decifrado con éxito (decryption complete)\n",
            "Escrito a (Written to): Colegio_Invisible/secrets/client_secret.json\n"
          ]
        }
      ],
      "source": [
        "! python Colegio_Invisible/scripts/aes_decrypt.py c0leg101nv1s1ble Colegio_Invisible/secrets/client_secret.aes Colegio_Invisible/secrets/client_secret.json "
      ]
    },
    {
      "cell_type": "markdown",
      "metadata": {
        "id": "IE3ReCLc0-Un"
      },
      "source": [
        "## Autenticar y Conectarse a la Google Sheet de Mensajes (Authenticate and Connect to Message Google Sheet)\n",
        "\n",
        "Autenticarse usando credenciales descifradas para la API de Google Drive.\\\n",
        "Use la biblioteca `gspread` para leer y escribir en una hoja de cálculo compartida.\n",
        "***\n",
        "Authenticate using decrypted credentials for Google Drive API.\\\n",
        "Use `gspread` library to read and write to shared spreadsheet."
      ]
    },
    {
      "cell_type": "code",
      "execution_count": null,
      "metadata": {
        "id": "wAojvQCldmX0"
      },
      "outputs": [],
      "source": [
        "import gspread\n",
        "from oauth2client.service_account import ServiceAccountCredentials\n",
        "# use creds to create a client to interact with the Google Drive API\n",
        "scope = ['https://spreadsheets.google.com/feeds',\n",
        "         'https://www.googleapis.com/auth/drive']\n",
        "creds = ServiceAccountCredentials.from_json_keyfile_name('Colegio_Invisible/secrets/client_secret.json', scope)\n",
        "client = gspread.authorize(creds)\n",
        "sheets = client.open(\"signatures\")"
      ]
    },
    {
      "cell_type": "markdown",
      "metadata": {
        "id": "pcbvfyY42VGH"
      },
      "source": [
        "# Leer y Escribir en la Google Sheet de Mensajes (Read and Write to Messages Google Sheet)"
      ]
    },
    {
      "cell_type": "markdown",
      "metadata": {
        "id": "SjknPsHI1ks1"
      },
      "source": [
        "## Leer Google Sheet (Read Google Sheet)"
      ]
    },
    {
      "cell_type": "code",
      "execution_count": null,
      "metadata": {
        "id": "BllKzSYnk6QG",
        "colab": {
          "base_uri": "https://localhost:8080/"
        },
        "outputId": "b60d35d3-7cd2-4f2d-8297-266b5ba7cb60"
      },
      "outputs": [
        {
          "output_type": "execute_result",
          "data": {
            "text/plain": [
              "['name', 'address', 'pubkey']"
            ]
          },
          "metadata": {},
          "execution_count": 16
        }
      ],
      "source": [
        "sheet4=sheets.worksheets()[4]\n",
        "sheet4.row_values(1)"
      ]
    },
    {
      "cell_type": "code",
      "execution_count": null,
      "metadata": {
        "id": "aiq3qxz0lHjP"
      },
      "outputs": [],
      "source": [
        "#sheet4.clear()\n",
        "#sheet4.append_row([\"name\", \"address\",\"pubkey\"])"
      ]
    },
    {
      "cell_type": "markdown",
      "metadata": {
        "id": "jBL17WWm1shB"
      },
      "source": [
        "## Ingresar el Nombre (Input Name)"
      ]
    },
    {
      "cell_type": "code",
      "execution_count": null,
      "metadata": {
        "id": "qcmkQn-nlq1a",
        "colab": {
          "base_uri": "https://localhost:8080/"
        },
        "outputId": "92cffb55-bcee-4468-dbb8-8b712ec5285c"
      },
      "outputs": [
        {
          "name": "stdout",
          "output_type": "stream",
          "text": [
            "input nameDrDoeg\n"
          ]
        }
      ],
      "source": [
        "my_name=input('input name')"
      ]
    },
    {
      "cell_type": "markdown",
      "metadata": {
        "id": "px9ZVFpW6OJ7"
      },
      "source": [
        "## Leer Nombres Publicados (Read Posted Names)"
      ]
    },
    {
      "cell_type": "code",
      "execution_count": null,
      "metadata": {
        "id": "jgODKrZC16-Q",
        "colab": {
          "base_uri": "https://localhost:8080/"
        },
        "outputId": "7f66b5a3-10b9-4197-aa9d-e9f29949463a"
      },
      "outputs": [
        {
          "output_type": "execute_result",
          "data": {
            "text/plain": [
              "['DrDoeg', 'Laura']"
            ]
          },
          "metadata": {},
          "execution_count": 18
        }
      ],
      "source": [
        "peeps=sheet4.col_values(1)[1:]\n",
        "peeps"
      ]
    },
    {
      "cell_type": "markdown",
      "metadata": {
        "id": "c0v2nESr6SvE"
      },
      "source": [
        "## Escribir en la Google Sheet para Publicar Nombre (Write to Google Sheet to Publish Name)\n",
        "\n",
        "Si el nombre está en la lista, escriba la dirección en la celda correspondiente de la hoja\\\n",
        "Si el nombre no está presente, agregue el nombre y la dirección a la hoja\n",
        "***\n",
        "If the name is in the list then write address to the appropriate cell of sheet\\\n",
        "If name is not present append name and address to sheet"
      ]
    },
    {
      "cell_type": "code",
      "source": [
        "pub"
      ],
      "metadata": {
        "colab": {
          "base_uri": "https://localhost:8080/",
          "height": 35
        },
        "id": "I1WwJ1jE4ETS",
        "outputId": "465c9781-7502-462a-b0d6-51a325651d90"
      },
      "execution_count": null,
      "outputs": [
        {
          "output_type": "execute_result",
          "data": {
            "text/plain": [
              "'0x7c88e9a4df6e9f45656c10bf66f28e28be235a15b64820b254f1b9eb2738314e6769f5c94da0c7640ffe76dcffca053b07a0804cd53a1c51ad03bfe0133ce8c5'"
            ],
            "application/vnd.google.colaboratory.intrinsic+json": {
              "type": "string"
            }
          },
          "metadata": {},
          "execution_count": 19
        }
      ]
    },
    {
      "cell_type": "code",
      "source": [
        "addr"
      ],
      "metadata": {
        "colab": {
          "base_uri": "https://localhost:8080/",
          "height": 35
        },
        "id": "t6-V8weP4HiG",
        "outputId": "7238d5c5-3056-4f68-9a81-b2859ea848d9"
      },
      "execution_count": null,
      "outputs": [
        {
          "output_type": "execute_result",
          "data": {
            "text/plain": [
              "'D6zKNnkupqRbkB9p5rwix8QiobQWJazjyX'"
            ],
            "application/vnd.google.colaboratory.intrinsic+json": {
              "type": "string"
            }
          },
          "metadata": {},
          "execution_count": 20
        }
      ]
    },
    {
      "cell_type": "code",
      "execution_count": null,
      "metadata": {
        "id": "62v7BkKEl0XZ"
      },
      "outputs": [],
      "source": [
        "if not (my_name in peeps) :\n",
        "  sheet4.append_row([my_name,addr,pub])\n",
        "else:\n",
        "  sheet4.update_cell(row=peeps.index(my_name)+2,col=2,value=addr)\n",
        "  sheet4.update_cell(row=peeps.index(my_name)+2,col=3,value=pub)"
      ]
    },
    {
      "cell_type": "markdown",
      "metadata": {
        "id": "tqnTEwK16tVd"
      },
      "source": [
        "## Leer Claves Publicas (Read Public Keys)"
      ]
    },
    {
      "cell_type": "code",
      "execution_count": null,
      "metadata": {
        "colab": {
          "base_uri": "https://localhost:8080/",
          "height": 185
        },
        "id": "FTpvcVvRlwCH",
        "outputId": "c7792a6c-fc2a-46f1-8579-710c89c51523"
      },
      "outputs": [
        {
          "output_type": "display_data",
          "data": {
            "text/plain": [
              "     name                             address  \\\n",
              "0  DrDoeg  D6zKNnkupqRbkB9p5rwix8QiobQWJazjyX   \n",
              "1   Laura  DJBkcc9zShCCWPTvPuLUiHQegNPbmMipEH   \n",
              "\n",
              "                                              pubkey  \n",
              "0  0x7c88e9a4df6e9f45656c10bf66f28e28be235a15b648...  \n",
              "1  0x2478459160f8e4563ad84a1faa998158c2e47b3c8eac...  "
            ],
            "text/html": [
              "\n",
              "  <div id=\"df-6fea0457-9234-4186-ad37-b8b4aa501ec2\">\n",
              "    <div class=\"colab-df-container\">\n",
              "      <div>\n",
              "<style scoped>\n",
              "    .dataframe tbody tr th:only-of-type {\n",
              "        vertical-align: middle;\n",
              "    }\n",
              "\n",
              "    .dataframe tbody tr th {\n",
              "        vertical-align: top;\n",
              "    }\n",
              "\n",
              "    .dataframe thead th {\n",
              "        text-align: right;\n",
              "    }\n",
              "</style>\n",
              "<table border=\"1\" class=\"dataframe\">\n",
              "  <thead>\n",
              "    <tr style=\"text-align: right;\">\n",
              "      <th></th>\n",
              "      <th>name</th>\n",
              "      <th>address</th>\n",
              "      <th>pubkey</th>\n",
              "    </tr>\n",
              "  </thead>\n",
              "  <tbody>\n",
              "    <tr>\n",
              "      <th>0</th>\n",
              "      <td>DrDoeg</td>\n",
              "      <td>D6zKNnkupqRbkB9p5rwix8QiobQWJazjyX</td>\n",
              "      <td>0x7c88e9a4df6e9f45656c10bf66f28e28be235a15b648...</td>\n",
              "    </tr>\n",
              "    <tr>\n",
              "      <th>1</th>\n",
              "      <td>Laura</td>\n",
              "      <td>DJBkcc9zShCCWPTvPuLUiHQegNPbmMipEH</td>\n",
              "      <td>0x2478459160f8e4563ad84a1faa998158c2e47b3c8eac...</td>\n",
              "    </tr>\n",
              "  </tbody>\n",
              "</table>\n",
              "</div>\n",
              "      <button class=\"colab-df-convert\" onclick=\"convertToInteractive('df-6fea0457-9234-4186-ad37-b8b4aa501ec2')\"\n",
              "              title=\"Convert this dataframe to an interactive table.\"\n",
              "              style=\"display:none;\">\n",
              "        \n",
              "  <svg xmlns=\"http://www.w3.org/2000/svg\" height=\"24px\"viewBox=\"0 0 24 24\"\n",
              "       width=\"24px\">\n",
              "    <path d=\"M0 0h24v24H0V0z\" fill=\"none\"/>\n",
              "    <path d=\"M18.56 5.44l.94 2.06.94-2.06 2.06-.94-2.06-.94-.94-2.06-.94 2.06-2.06.94zm-11 1L8.5 8.5l.94-2.06 2.06-.94-2.06-.94L8.5 2.5l-.94 2.06-2.06.94zm10 10l.94 2.06.94-2.06 2.06-.94-2.06-.94-.94-2.06-.94 2.06-2.06.94z\"/><path d=\"M17.41 7.96l-1.37-1.37c-.4-.4-.92-.59-1.43-.59-.52 0-1.04.2-1.43.59L10.3 9.45l-7.72 7.72c-.78.78-.78 2.05 0 2.83L4 21.41c.39.39.9.59 1.41.59.51 0 1.02-.2 1.41-.59l7.78-7.78 2.81-2.81c.8-.78.8-2.07 0-2.86zM5.41 20L4 18.59l7.72-7.72 1.47 1.35L5.41 20z\"/>\n",
              "  </svg>\n",
              "      </button>\n",
              "      \n",
              "  <style>\n",
              "    .colab-df-container {\n",
              "      display:flex;\n",
              "      flex-wrap:wrap;\n",
              "      gap: 12px;\n",
              "    }\n",
              "\n",
              "    .colab-df-convert {\n",
              "      background-color: #E8F0FE;\n",
              "      border: none;\n",
              "      border-radius: 50%;\n",
              "      cursor: pointer;\n",
              "      display: none;\n",
              "      fill: #1967D2;\n",
              "      height: 32px;\n",
              "      padding: 0 0 0 0;\n",
              "      width: 32px;\n",
              "    }\n",
              "\n",
              "    .colab-df-convert:hover {\n",
              "      background-color: #E2EBFA;\n",
              "      box-shadow: 0px 1px 2px rgba(60, 64, 67, 0.3), 0px 1px 3px 1px rgba(60, 64, 67, 0.15);\n",
              "      fill: #174EA6;\n",
              "    }\n",
              "\n",
              "    [theme=dark] .colab-df-convert {\n",
              "      background-color: #3B4455;\n",
              "      fill: #D2E3FC;\n",
              "    }\n",
              "\n",
              "    [theme=dark] .colab-df-convert:hover {\n",
              "      background-color: #434B5C;\n",
              "      box-shadow: 0px 1px 3px 1px rgba(0, 0, 0, 0.15);\n",
              "      filter: drop-shadow(0px 1px 2px rgba(0, 0, 0, 0.3));\n",
              "      fill: #FFFFFF;\n",
              "    }\n",
              "  </style>\n",
              "\n",
              "      <script>\n",
              "        const buttonEl =\n",
              "          document.querySelector('#df-6fea0457-9234-4186-ad37-b8b4aa501ec2 button.colab-df-convert');\n",
              "        buttonEl.style.display =\n",
              "          google.colab.kernel.accessAllowed ? 'block' : 'none';\n",
              "\n",
              "        async function convertToInteractive(key) {\n",
              "          const element = document.querySelector('#df-6fea0457-9234-4186-ad37-b8b4aa501ec2');\n",
              "          const dataTable =\n",
              "            await google.colab.kernel.invokeFunction('convertToInteractive',\n",
              "                                                     [key], {});\n",
              "          if (!dataTable) return;\n",
              "\n",
              "          const docLinkHtml = 'Like what you see? Visit the ' +\n",
              "            '<a target=\"_blank\" href=https://colab.research.google.com/notebooks/data_table.ipynb>data table notebook</a>'\n",
              "            + ' to learn more about interactive tables.';\n",
              "          element.innerHTML = '';\n",
              "          dataTable['output_type'] = 'display_data';\n",
              "          await google.colab.output.renderOutput(dataTable, element);\n",
              "          const docLink = document.createElement('div');\n",
              "          docLink.innerHTML = docLinkHtml;\n",
              "          element.appendChild(docLink);\n",
              "        }\n",
              "      </script>\n",
              "    </div>\n",
              "  </div>\n",
              "  "
            ]
          },
          "metadata": {}
        },
        {
          "output_type": "display_data",
          "data": {
            "text/plain": [
              "['047c88e9a4df6e9f45656c10bf66f28e28be235a15b64820b254f1b9eb2738314e6769f5c94da0c7640ffe76dcffca053b07a0804cd53a1c51ad03bfe0133ce8c5',\n",
              " '042478459160f8e4563ad84a1faa998158c2e47b3c8eac04654ca30f892d4c873db08339cabb0f5c775f1f798919ab4ce5772666a88ea39cf811b73c95d28ee9f9']"
            ]
          },
          "metadata": {}
        }
      ],
      "source": [
        "import pandas as pd\n",
        "\n",
        "sheet4=sheets.worksheets()[4]\n",
        "dataframe4 = pd.DataFrame(sheet4.get_all_records())\n",
        "display(dataframe4)\n",
        "\n",
        "pubs = dataframe4.pubkey.tolist()\n",
        "pubs = [ '04'+pb[2:] for pb in pubs ]\n",
        "display(pubs)"
      ]
    },
    {
      "cell_type": "markdown",
      "source": [
        "# Make Transaction to Self with op_return\n",
        "\n"
      ],
      "metadata": {
        "id": "zDlgUySNsFvg"
      }
    },
    {
      "cell_type": "code",
      "source": [
        "doge=cryptos.Doge()\n",
        "mi_unspents=doge.unspent(addr)\n",
        "mi_unspents"
      ],
      "metadata": {
        "colab": {
          "base_uri": "https://localhost:8080/"
        },
        "id": "RTBWQRWmsf0T",
        "outputId": "57f1a441-aa64-4ae8-8515-eed08283700e"
      },
      "execution_count": 8,
      "outputs": [
        {
          "output_type": "execute_result",
          "data": {
            "text/plain": [
              "[{'output': 'f026d68ddd2a4388448c0bcdc12c16c6b0a9a2ba4cca3ae1e0f5766d21feb5cf:0',\n",
              "  'value': 1900000000}]"
            ]
          },
          "metadata": {},
          "execution_count": 8
        }
      ]
    },
    {
      "cell_type": "code",
      "source": [
        "mi_unspent_total=sum([unspent['value'] for unspent in mi_unspents])\n",
        "mi_unspent_total"
      ],
      "metadata": {
        "colab": {
          "base_uri": "https://localhost:8080/"
        },
        "id": "qn6fyslNBNDZ",
        "outputId": "64178ddf-4d8a-472a-d932-6d2b4ee35bf8"
      },
      "execution_count": 9,
      "outputs": [
        {
          "output_type": "execute_result",
          "data": {
            "text/plain": [
              "1900000000"
            ]
          },
          "metadata": {},
          "execution_count": 9
        }
      ]
    },
    {
      "cell_type": "code",
      "source": [
        "mining_fee=1_00_000_000\n",
        "mi_gift=mi_unspent_total-mining_fee"
      ],
      "metadata": {
        "id": "Xav8zMOXBikj"
      },
      "execution_count": 10,
      "outputs": []
    },
    {
      "cell_type": "code",
      "source": [
        "mi_outputs=[{'value':mi_gift , 'address': addr}]\n",
        "mi_outputs"
      ],
      "metadata": {
        "colab": {
          "base_uri": "https://localhost:8080/"
        },
        "id": "MoX5DX4Xsgqf",
        "outputId": "57509ae2-69a2-4fc9-df7d-3fe8338ae5b0"
      },
      "execution_count": 11,
      "outputs": [
        {
          "output_type": "execute_result",
          "data": {
            "text/plain": [
              "[{'address': 'D6zKNnkupqRbkB9p5rwix8QiobQWJazjyX', 'value': 1800000000}]"
            ]
          },
          "metadata": {},
          "execution_count": 11
        }
      ]
    },
    {
      "cell_type": "code",
      "source": [
        "mi_tx=doge.mktx(mi_unspents,mi_outputs)\n",
        "mi_tx"
      ],
      "metadata": {
        "colab": {
          "base_uri": "https://localhost:8080/"
        },
        "id": "sAi4cu7wsg-1",
        "outputId": "a921bfe0-b7f3-4073-e258-14af4eed287f"
      },
      "execution_count": 12,
      "outputs": [
        {
          "output_type": "execute_result",
          "data": {
            "text/plain": [
              "{'ins': [{'amount': 1900000000,\n",
              "   'outpoint': {'hash': 'f026d68ddd2a4388448c0bcdc12c16c6b0a9a2ba4cca3ae1e0f5766d21feb5cf',\n",
              "    'index': 0},\n",
              "   'script': '',\n",
              "   'sequence': 4294967295}],\n",
              " 'locktime': 0,\n",
              " 'outs': [{'script': '76a914144739367df0ff8d1c61d03704298d49cf93ef3f88ac',\n",
              "   'value': 1800000000}],\n",
              " 'version': 1}"
            ]
          },
          "metadata": {},
          "execution_count": 12
        }
      ]
    },
    {
      "cell_type": "code",
      "source": [
        "mi_serial_tx=cryptos.serialize(mi_tx)"
      ],
      "metadata": {
        "id": "KZrMb7pztnhD"
      },
      "execution_count": 29,
      "outputs": []
    },
    {
      "cell_type": "code",
      "source": [
        "len(b'x'*80)"
      ],
      "metadata": {
        "id": "I_opkcdsB_8B",
        "outputId": "ba43da22-2bfe-4407-84b8-5b806145f9b3",
        "colab": {
          "base_uri": "https://localhost:8080/"
        }
      },
      "execution_count": 17,
      "outputs": [
        {
          "output_type": "execute_result",
          "data": {
            "text/plain": [
              "80"
            ]
          },
          "metadata": {},
          "execution_count": 17
        }
      ]
    },
    {
      "cell_type": "code",
      "source": [
        "mi_inscribed_serial_tx=mk_opreturn(b'x'*80, mi_serial_tx)\n",
        "mi_inscribed_serial_tx"
      ],
      "metadata": {
        "colab": {
          "base_uri": "https://localhost:8080/",
          "height": 71
        },
        "id": "M8TAv_cIr7Nm",
        "outputId": "90899dda-bb28-4504-cad1-ef4174f0adb1"
      },
      "execution_count": 30,
      "outputs": [
        {
          "output_type": "execute_result",
          "data": {
            "text/plain": [
              "'0100000001cfb5fe216d76f5e0e13aca4cbaa2a9b0c6162cc1cd0b8c4488432add8dd626f00000000000ffffffff0200d2496b000000001976a914144739367df0ff8d1c61d03704298d49cf93ef3f88ac0000000000000000536a4c50787878787878787878787878787878787878787878787878787878787878787878787878787878787878787878787878787878787878787878787878787878787878787878787878787878787878787800000000'"
            ],
            "application/vnd.google.colaboratory.intrinsic+json": {
              "type": "string"
            }
          },
          "metadata": {},
          "execution_count": 30
        }
      ]
    },
    {
      "cell_type": "code",
      "source": [
        "mi_inscribed_tx=cryptos.deserialize(mi_inscribed_serial_tx)\n",
        "mi_inscribed_tx"
      ],
      "metadata": {
        "colab": {
          "base_uri": "https://localhost:8080/"
        },
        "id": "bIclerser8Fr",
        "outputId": "6caf32c4-aaa1-4a5a-c4a7-01b759aa18e6"
      },
      "execution_count": 31,
      "outputs": [
        {
          "output_type": "execute_result",
          "data": {
            "text/plain": [
              "{'ins': [{'outpoint': {'hash': 'f026d68ddd2a4388448c0bcdc12c16c6b0a9a2ba4cca3ae1e0f5766d21feb5cf',\n",
              "    'index': 0},\n",
              "   'script': '',\n",
              "   'sequence': 4294967295}],\n",
              " 'locktime': 0,\n",
              " 'outs': [{'script': '76a914144739367df0ff8d1c61d03704298d49cf93ef3f88ac',\n",
              "   'value': 1800000000},\n",
              "  {'script': '6a4c507878787878787878787878787878787878787878787878787878787878787878787878787878787878787878787878787878787878787878787878787878787878787878787878787878787878787878',\n",
              "   'value': 0}],\n",
              " 'version': 1}"
            ]
          },
          "metadata": {},
          "execution_count": 31
        }
      ]
    },
    {
      "cell_type": "code",
      "source": [
        "mi_signed_inscribed_tx=doge.signall(mi_inscribed_tx,privKey.to_hex()[2:])\n",
        "mi_signed_inscribed_tx"
      ],
      "metadata": {
        "colab": {
          "base_uri": "https://localhost:8080/",
          "height": 107
        },
        "id": "BflWQZw__Nh-",
        "outputId": "81b95b97-02f5-42d8-9e11-f933db962b01"
      },
      "execution_count": 32,
      "outputs": [
        {
          "output_type": "execute_result",
          "data": {
            "text/plain": [
              "'0100000001cfb5fe216d76f5e0e13aca4cbaa2a9b0c6162cc1cd0b8c4488432add8dd626f0000000008b483045022100be06a6935a36b09ab4509c32c4c5f851429664e2de3c2adf8d37f0ee01c7623402200ad530e8f25d8d4c34feffd72a9b4bbd909b18ab4de98f9327aafcb9f60619bd0141047c88e9a4df6e9f45656c10bf66f28e28be235a15b64820b254f1b9eb2738314e6769f5c94da0c7640ffe76dcffca053b07a0804cd53a1c51ad03bfe0133ce8c5ffffffff0200d2496b000000001976a914144739367df0ff8d1c61d03704298d49cf93ef3f88ac0000000000000000536a4c50787878787878787878787878787878787878787878787878787878787878787878787878787878787878787878787878787878787878787878787878787878787878787878787878787878787878787800000000'"
            ],
            "application/vnd.google.colaboratory.intrinsic+json": {
              "type": "string"
            }
          },
          "metadata": {},
          "execution_count": 32
        }
      ]
    },
    {
      "cell_type": "code",
      "source": [
        "broadcast_mi_txn=doge.pushtx(mi_signed_inscribed_tx)\n",
        "broadcast_mi_txn"
      ],
      "metadata": {
        "colab": {
          "base_uri": "https://localhost:8080/"
        },
        "id": "2jfoXTb6_b10",
        "outputId": "6f4068cb-7778-47ff-d281-2e014f1c439c"
      },
      "execution_count": 33,
      "outputs": [
        {
          "output_type": "execute_result",
          "data": {
            "text/plain": [
              "{'data': {'network': 'DOGE',\n",
              "  'txid': '51c0c084392ac04f902224e7cd94dffe1ac7ed7adde9048178ddfb8bce2b5fa2'},\n",
              " 'status': 'success'}"
            ]
          },
          "metadata": {},
          "execution_count": 33
        }
      ]
    },
    {
      "cell_type": "code",
      "source": [
        "doge.fetchtx(broadcast_mi_txn['data']['txid'])"
      ],
      "metadata": {
        "colab": {
          "base_uri": "https://localhost:8080/"
        },
        "id": "iJJ2boDj_cEj",
        "outputId": "b69c3e21-fd4b-42cd-850c-ab6527037e3a"
      },
      "execution_count": 34,
      "outputs": [
        {
          "output_type": "execute_result",
          "data": {
            "text/plain": [
              "{'blockhash': None,\n",
              " 'confirmations': 0,\n",
              " 'inputs': [{'address': 'D6zKNnkupqRbkB9p5rwix8QiobQWJazjyX',\n",
              "   'from_output': {'output_no': 0,\n",
              "    'txid': 'f026d68ddd2a4388448c0bcdc12c16c6b0a9a2ba4cca3ae1e0f5766d21feb5cf'},\n",
              "   'input_no': 0,\n",
              "   'script': '3045022100be06a6935a36b09ab4509c32c4c5f851429664e2de3c2adf8d37f0ee01c7623402200ad530e8f25d8d4c34feffd72a9b4bbd909b18ab4de98f9327aafcb9f60619bd01 047c88e9a4df6e9f45656c10bf66f28e28be235a15b64820b254f1b9eb2738314e6769f5c94da0c7640ffe76dcffca053b07a0804cd53a1c51ad03bfe0133ce8c5',\n",
              "   'sequence': 4294967295,\n",
              "   'type': 'pubkeyhash',\n",
              "   'value': '19.00000000',\n",
              "   'witness': None}],\n",
              " 'locktime': 0,\n",
              " 'network': 'DOGE',\n",
              " 'network_fee': '1.00000000',\n",
              " 'outputs': [{'address': 'D6zKNnkupqRbkB9p5rwix8QiobQWJazjyX',\n",
              "   'output_no': 0,\n",
              "   'script': 'OP_DUP OP_HASH160 144739367df0ff8d1c61d03704298d49cf93ef3f OP_EQUALVERIFY OP_CHECKSIG',\n",
              "   'type': 'pubkeyhash',\n",
              "   'value': '18.00000000'},\n",
              "  {'address': 'nonstandard',\n",
              "   'output_no': 1,\n",
              "   'script': 'OP_RETURN 7878787878787878787878787878787878787878787878787878787878787878787878787878787878787878787878787878787878787878787878787878787878787878787878787878787878787878',\n",
              "   'type': 'nulldata',\n",
              "   'value': '0.00000000'}],\n",
              " 'size': 316,\n",
              " 'time': 1650492882,\n",
              " 'tx_hex': '0100000001cfb5fe216d76f5e0e13aca4cbaa2a9b0c6162cc1cd0b8c4488432add8dd626f0000000008b483045022100be06a6935a36b09ab4509c32c4c5f851429664e2de3c2adf8d37f0ee01c7623402200ad530e8f25d8d4c34feffd72a9b4bbd909b18ab4de98f9327aafcb9f60619bd0141047c88e9a4df6e9f45656c10bf66f28e28be235a15b64820b254f1b9eb2738314e6769f5c94da0c7640ffe76dcffca053b07a0804cd53a1c51ad03bfe0133ce8c5ffffffff0200d2496b000000001976a914144739367df0ff8d1c61d03704298d49cf93ef3f88ac0000000000000000536a4c50787878787878787878787878787878787878787878787878787878787878787878787878787878787878787878787878787878787878787878787878787878787878787878787878787878787878787800000000',\n",
              " 'txid': '51c0c084392ac04f902224e7cd94dffe1ac7ed7adde9048178ddfb8bce2b5fa2',\n",
              " 'version': 1,\n",
              " 'vsize': 316}"
            ]
          },
          "metadata": {},
          "execution_count": 34
        }
      ]
    },
    {
      "cell_type": "code",
      "source": [
        "op_tx_data=doge.fetchtx(broadcast_mi_txn['data']['txid'])\n",
        "op_hex=[output['script'][10:] for output in op_tx_data['outputs'] if 'OP_RETURN' in output['script'] ][0]\n",
        "len(bytes.fromhex(op_hex).decode())"
      ],
      "metadata": {
        "id": "eoRr_f1GKrRH",
        "outputId": "d9a27ffd-e096-43e5-c78d-e63a2bd55dda",
        "colab": {
          "base_uri": "https://localhost:8080/"
        }
      },
      "execution_count": 38,
      "outputs": [
        {
          "output_type": "execute_result",
          "data": {
            "text/plain": [
              "80"
            ]
          },
          "metadata": {},
          "execution_count": 38
        }
      ]
    },
    {
      "cell_type": "code",
      "source": [
        "bytes.fromhex('dd')"
      ],
      "metadata": {
        "id": "q-oFyerYEw6h",
        "outputId": "ba3fba93-a133-4f39-a031-bba6d5d4ae40",
        "colab": {
          "base_uri": "https://localhost:8080/"
        }
      },
      "execution_count": 39,
      "outputs": [
        {
          "output_type": "execute_result",
          "data": {
            "text/plain": [
              "b'\\xdd'"
            ]
          },
          "metadata": {},
          "execution_count": 39
        }
      ]
    },
    {
      "cell_type": "code",
      "source": [
        "message='''Radio, live transmission.\n",
        "Radio, live transmission.\n",
        "\n",
        "Listen to the silence, let it ring on.\n",
        "Eyes, dark grey lenses frightened of the sun.\n",
        "We would have a fine time living in the night,\n",
        "Left to blind destruction,\n",
        "Waiting for our sight.\n",
        "\n",
        "And we would go on as though nothing was wrong.\n",
        "And hide from these days we remained all alone.\n",
        "Staying in the same place, just staying out the time.\n",
        "Touching from a distance,\n",
        "Further all the time.\n",
        "\n",
        "Dance, dance, dance, dance, dance, to the radio.\n",
        "Dance, dance, dance, dance, dance, to the radio...\n",
        "\n",
        "Well I could call out when the going gets tough.\n",
        "The things that we've learnt are no longer enough.\n",
        "No language, just sound, that's all we need know,\n",
        "To synchronise love to the beat of the show.\n",
        "\n",
        "And we could dance.\n",
        "\n",
        "Dance, dance, dance, dance, dance, to the radio.\n",
        "Dance, dance, dance, dance, dance, to the radio...\n",
        "'''.encode()"
      ],
      "metadata": {
        "id": "ymwgS9GYQeKg"
      },
      "execution_count": 46,
      "outputs": []
    },
    {
      "cell_type": "code",
      "source": [
        "#message='hello to the world. this is a message to everyone who likes gravy. slow down. it is not healthy. it is too thick and sloppy'.encode()\n",
        "n = 76 \n",
        "chunks = [message[i:i+n] for i in range(0, len(message), n)]\n",
        "chunks"
      ],
      "metadata": {
        "id": "rHAZSMvAMLnW",
        "outputId": "c90b16a5-526c-4d35-85ad-f3a9a6d5dac3",
        "colab": {
          "base_uri": "https://localhost:8080/"
        }
      },
      "execution_count": 47,
      "outputs": [
        {
          "output_type": "execute_result",
          "data": {
            "text/plain": [
              "[b'Radio, live transmission.\\nRadio, live transmission.\\n\\nListen to the silence, ',\n",
              " b'let it ring on.\\nEyes, dark grey lenses frightened of the sun.\\nWe would have ',\n",
              " b'a fine time living in the night,\\nLeft to blind destruction,\\nWaiting for our ',\n",
              " b'sight.\\n\\nAnd we would go on as though nothing was wrong.\\nAnd hide from these ',\n",
              " b'days we remained all alone.\\nStaying in the same place, just staying out the ',\n",
              " b'time.\\nTouching from a distance,\\nFurther all the time.\\n\\nDance, dance, dance, ',\n",
              " b'dance, dance, to the radio.\\nDance, dance, dance, dance, dance, to the radio.',\n",
              " b\"..\\n\\nWell I could call out when the going gets tough.\\nThe things that we've l\",\n",
              " b\"earnt are no longer enough.\\nNo language, just sound, that's all we need know\",\n",
              " b',\\nTo synchronise love to the beat of the show.\\n\\nAnd we could dance.\\n\\nDance, ',\n",
              " b'dance, dance, dance, dance, to the radio.\\nDance, dance, dance, dance, dance,',\n",
              " b' to the radio...\\n']"
            ]
          },
          "metadata": {},
          "execution_count": 47
        }
      ]
    },
    {
      "cell_type": "code",
      "source": [
        "def pieces(bites,size):\n",
        "    return [bites[i:i+n] for i in range(0, len(bites), n)]"
      ],
      "metadata": {
        "id": "82AI9THBL7ok"
      },
      "execution_count": 48,
      "outputs": []
    },
    {
      "cell_type": "code",
      "source": [
        "chunks=pieces(message,76)\n",
        "chunks"
      ],
      "metadata": {
        "id": "WA1jWjkARJmN",
        "outputId": "1f84f33f-d395-4683-eef6-2a42d27a0b70",
        "colab": {
          "base_uri": "https://localhost:8080/"
        }
      },
      "execution_count": 50,
      "outputs": [
        {
          "output_type": "execute_result",
          "data": {
            "text/plain": [
              "[b'Radio, live transmission.\\nRadio, live transmission.\\n\\nListen to the silence, ',\n",
              " b'let it ring on.\\nEyes, dark grey lenses frightened of the sun.\\nWe would have ',\n",
              " b'a fine time living in the night,\\nLeft to blind destruction,\\nWaiting for our ',\n",
              " b'sight.\\n\\nAnd we would go on as though nothing was wrong.\\nAnd hide from these ',\n",
              " b'days we remained all alone.\\nStaying in the same place, just staying out the ',\n",
              " b'time.\\nTouching from a distance,\\nFurther all the time.\\n\\nDance, dance, dance, ',\n",
              " b'dance, dance, to the radio.\\nDance, dance, dance, dance, dance, to the radio.',\n",
              " b\"..\\n\\nWell I could call out when the going gets tough.\\nThe things that we've l\",\n",
              " b\"earnt are no longer enough.\\nNo language, just sound, that's all we need know\",\n",
              " b',\\nTo synchronise love to the beat of the show.\\n\\nAnd we could dance.\\n\\nDance, ',\n",
              " b'dance, dance, dance, dance, to the radio.\\nDance, dance, dance, dance, dance,',\n",
              " b' to the radio...\\n']"
            ]
          },
          "metadata": {},
          "execution_count": 50
        }
      ]
    },
    {
      "cell_type": "code",
      "source": [
        "int(100).to_bytes(2, 'big')"
      ],
      "metadata": {
        "id": "bL03zboJTP3v",
        "outputId": "deef6ab4-f1cf-4153-8059-532dc3cea107",
        "colab": {
          "base_uri": "https://localhost:8080/"
        }
      },
      "execution_count": 57,
      "outputs": [
        {
          "output_type": "execute_result",
          "data": {
            "text/plain": [
              "2"
            ]
          },
          "metadata": {},
          "execution_count": 57
        }
      ]
    },
    {
      "cell_type": "code",
      "source": [
        "[ (str(i)+str(len(chunks))).encode() for i,chunk in enumerate(chunks)]"
      ],
      "metadata": {
        "id": "16IB7yhARqwt",
        "outputId": "259d1eec-a0b9-4f21-c8fc-b8f9b53a6586",
        "colab": {
          "base_uri": "https://localhost:8080/"
        }
      },
      "execution_count": 55,
      "outputs": [
        {
          "output_type": "execute_result",
          "data": {
            "text/plain": [
              "[b'012',\n",
              " b'112',\n",
              " b'212',\n",
              " b'312',\n",
              " b'412',\n",
              " b'512',\n",
              " b'612',\n",
              " b'712',\n",
              " b'812',\n",
              " b'912',\n",
              " b'1012',\n",
              " b'1112']"
            ]
          },
          "metadata": {},
          "execution_count": 55
        }
      ]
    },
    {
      "cell_type": "code",
      "source": [
        ""
      ],
      "metadata": {
        "id": "fsUAnFDdSkUB"
      },
      "execution_count": null,
      "outputs": []
    }
  ],
  "metadata": {
    "colab": {
      "name": "11_cuaderno.ipynb",
      "provenance": []
    },
    "kernelspec": {
      "display_name": "Python 3",
      "language": "python",
      "name": "python3"
    },
    "language_info": {
      "codemirror_mode": {
        "name": "ipython",
        "version": 3
      },
      "file_extension": ".py",
      "mimetype": "text/x-python",
      "name": "python",
      "nbconvert_exporter": "python",
      "pygments_lexer": "ipython3",
      "version": "3.7.6"
    }
  },
  "nbformat": 4,
  "nbformat_minor": 0
}