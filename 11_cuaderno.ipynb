{
  "cells": [
    {
      "cell_type": "markdown",
      "metadata": {
        "id": "VvuVL0P4VxMP"
      },
      "source": [
        "#Op Return\n",
        "\n",
        "<a href=\"https://colab.research.google.com/github/ProfDoeg/Colegio_Invisible/blob/master/11_cuaderno.ipynb\" target=\"_parent\"><img src=\"https://colab.research.google.com/assets/colab-badge.svg\" alt=\"Open In Colab\"/></a>"
      ]
    },
    {
      "cell_type": "markdown",
      "metadata": {
        "id": "wM-07E7SjTJW"
      },
      "source": [
        "# Preparar el Espacio (Prepare the Space)"
      ]
    },
    {
      "cell_type": "code",
      "execution_count": 2,
      "metadata": {
        "id": "wSOgJBxoVxMU",
        "colab": {
          "base_uri": "https://localhost:8080/"
        },
        "outputId": "c1b98a64-552f-4285-f1a9-e5443ef7885e"
      },
      "outputs": [
        {
          "output_type": "stream",
          "name": "stdout",
          "text": [
            "Collecting eciespy\n",
            "  Downloading eciespy-0.3.11-py3-none-any.whl (11 kB)\n",
            "Collecting eth_keys\n",
            "  Downloading eth_keys-0.4.0-py3-none-any.whl (21 kB)\n",
            "Collecting cryptos\n",
            "  Downloading cryptos-1.36-py3-none-any.whl (69 kB)\n",
            "\u001b[K     |████████████████████████████████| 69 kB 3.5 MB/s \n",
            "\u001b[?25hCollecting qrcode\n",
            "  Downloading qrcode-7.3.1.tar.gz (43 kB)\n",
            "\u001b[K     |████████████████████████████████| 43 kB 1.4 MB/s \n",
            "\u001b[?25hCollecting base58\n",
            "  Downloading base58-2.1.1-py3-none-any.whl (5.6 kB)\n",
            "Collecting coincurve<16,>=13\n",
            "  Downloading coincurve-15.0.1-cp37-cp37m-manylinux_2_17_x86_64.manylinux2014_x86_64.whl (555 kB)\n",
            "\u001b[K     |████████████████████████████████| 555 kB 48.0 MB/s \n",
            "\u001b[?25hCollecting pycryptodome<4.0.0,>=3.9.9\n",
            "  Downloading pycryptodome-3.14.1-cp35-abi3-manylinux2010_x86_64.whl (2.0 MB)\n",
            "\u001b[K     |████████████████████████████████| 2.0 MB 46.5 MB/s \n",
            "\u001b[?25hCollecting eth_keys\n",
            "  Downloading eth_keys-0.3.4-py3-none-any.whl (21 kB)\n",
            "Collecting eth-utils<2.0.0,>=1.8.2\n",
            "  Downloading eth_utils-1.10.0-py3-none-any.whl (24 kB)\n",
            "Collecting eth-typing<3.0.0,>=2.2.1\n",
            "  Downloading eth_typing-2.3.0-py3-none-any.whl (6.2 kB)\n",
            "Collecting asn1crypto\n",
            "  Downloading asn1crypto-1.5.1-py2.py3-none-any.whl (105 kB)\n",
            "\u001b[K     |████████████████████████████████| 105 kB 47.4 MB/s \n",
            "\u001b[?25hRequirement already satisfied: cffi>=1.3.0 in /usr/local/lib/python3.7/dist-packages (from coincurve<16,>=13->eciespy) (1.15.0)\n",
            "Requirement already satisfied: pycparser in /usr/local/lib/python3.7/dist-packages (from cffi>=1.3.0->coincurve<16,>=13->eciespy) (2.21)\n",
            "Collecting eth-hash<0.4.0,>=0.3.1\n",
            "  Downloading eth_hash-0.3.2-py3-none-any.whl (8.8 kB)\n",
            "Collecting cytoolz<1.0.0,>=0.10.1\n",
            "  Downloading cytoolz-0.11.2.tar.gz (481 kB)\n",
            "\u001b[K     |████████████████████████████████| 481 kB 49.9 MB/s \n",
            "\u001b[?25hRequirement already satisfied: toolz>=0.8.0 in /usr/local/lib/python3.7/dist-packages (from cytoolz<1.0.0,>=0.10.1->eth-utils<2.0.0,>=1.8.2->eth_keys) (0.11.2)\n",
            "Building wheels for collected packages: cytoolz, qrcode\n",
            "  Building wheel for cytoolz (setup.py) ... \u001b[?25l\u001b[?25hdone\n",
            "  Created wheel for cytoolz: filename=cytoolz-0.11.2-cp37-cp37m-linux_x86_64.whl size=1230830 sha256=9f2b75739b17f139ecb02b0b2cbd8b32d8e3dd278fa3c6a5e40466ea0489dafd\n",
            "  Stored in directory: /root/.cache/pip/wheels/38/70/71/ca13ea3d36ccd0b3d0ec7d7a4ca67522048d695b556bba4f59\n",
            "  Building wheel for qrcode (setup.py) ... \u001b[?25l\u001b[?25hdone\n",
            "  Created wheel for qrcode: filename=qrcode-7.3.1-py3-none-any.whl size=40402 sha256=87c9b47e522fdb4f05a2a3b430aeb7aa65e649265b4b9c5ab3f53b59d7b3fe0c\n",
            "  Stored in directory: /root/.cache/pip/wheels/93/d7/39/a4111be2cfb8e679938aa671a37888b6afb1f9e7d748e94492\n",
            "Successfully built cytoolz qrcode\n",
            "Installing collected packages: eth-typing, eth-hash, cytoolz, eth-utils, asn1crypto, pycryptodome, eth-keys, coincurve, qrcode, eciespy, cryptos, base58\n",
            "Successfully installed asn1crypto-1.5.1 base58-2.1.1 coincurve-15.0.1 cryptos-1.36 cytoolz-0.11.2 eciespy-0.3.11 eth-hash-0.3.2 eth-keys-0.3.4 eth-typing-2.3.0 eth-utils-1.10.0 pycryptodome-3.14.1 qrcode-7.3.1\n",
            "Cloning into 'Colegio_Invisible'...\n",
            "remote: Enumerating objects: 959, done.\u001b[K\n",
            "remote: Counting objects: 100% (773/773), done.\u001b[K\n",
            "remote: Compressing objects: 100% (286/286), done.\u001b[K\n",
            "remote: Total 959 (delta 535), reused 701 (delta 485), pack-reused 186\u001b[K\n",
            "Receiving objects: 100% (959/959), 59.56 MiB | 35.58 MiB/s, done.\n",
            "Resolving deltas: 100% (647/647), done.\n"
          ]
        }
      ],
      "source": [
        "! pip install eciespy eth_keys cryptos qrcode base58 \n",
        "! git clone https://github.com/ProfDoeg/Colegio_Invisible.git"
      ]
    },
    {
      "cell_type": "markdown",
      "metadata": {
        "id": "A1DQRCdLxW9P"
      },
      "source": [
        ""
      ]
    },
    {
      "cell_type": "markdown",
      "metadata": {
        "id": "N9BkUDVqjgdA"
      },
      "source": [
        "# Crear Transacciones de Criptomoneda (Create Cryptocurrency Transactions)\n",
        "\n",
        "## Esquema (Outline) \n",
        "\n",
        "***\n",
        "\n",
        " \n",
        "## Metas (Goals)\n",
        "***\n",
        "***\n",
        "By the end of this notebook you should be able to:\n",
        "***\n",
        "Al final de este cuaderno, usted debería ser capaz de:\n",
        "***\n",
        "***\n",
        "- Multisig\n",
        "-"
      ]
    },
    {
      "cell_type": "markdown",
      "metadata": {
        "id": "BETMcDza0M2m"
      },
      "source": [
        "# Importaciones y Definiciones (Imports and Definitions)\n",
        "\n",
        "Crear funciones para importar claves y direcciones de criptomonedas.\n",
        "***\n",
        "Create functions for importing keys and cryptocurrency addresses."
      ]
    },
    {
      "cell_type": "code",
      "execution_count": 3,
      "metadata": {
        "id": "phMoOlb1VxMT"
      },
      "outputs": [],
      "source": [
        "import pandas as pd\n",
        "from cryptos.py3specials import safe_hexlify, from_string_to_bytes, from_int_to_byte, from_string_to_bytes\n",
        "from cryptos import serialize,deserialize\n",
        "\n",
        "import hashlib\n",
        "import os\n",
        "import getpass\n",
        "import ecies\n",
        "import eth_keys\n",
        "import cryptos\n",
        "import qrcode\n",
        "import base58\n",
        "from PIL import Image\n",
        "import matplotlib.pyplot as plt\n",
        "%matplotlib inline"
      ]
    },
    {
      "cell_type": "code",
      "execution_count": 4,
      "metadata": {
        "id": "sPi_0BLRWa1z"
      },
      "outputs": [],
      "source": [
        "def import_privKey(privkey_filepath,password=None):\n",
        "    if password==None:\n",
        "        password = getpass.getpass(\"Input password for decrypting keyfile: \")\n",
        "    password=password.encode()\n",
        "    f=open(privkey_filepath,'rb')\n",
        "    decrypted_bytes=ecies.aes_decrypt(key=hashlib.sha256(password).digest(),cipher_text=f.read())\n",
        "    privKey=eth_keys.keys.PrivateKey(decrypted_bytes)\n",
        "    return privKey\n",
        "\n",
        "def import_pubKey(pubkey_filepath):\n",
        "    f=open(pubkey_filepath,'rb')\n",
        "    privKey=eth_keys.keys.PublicKey(f.read())\n",
        "    return privKey\n",
        "\n",
        "def import_addr(addr_filepath):\n",
        "    return open(addr_filepath,'rb').read().decode()\n",
        "\n",
        "def only_conf(utxos):\n",
        "    return [utxo for utxo in utxos\n",
        "            if doge.fetchtx(utxo['output'].split(':')[0])['confirmations']>0]\n",
        "\n",
        "def mk_opreturn(msg, rawtx=None, json=0):\n",
        "    \n",
        "    def op_push(data):\n",
        "        if type(data) == bytes:\n",
        "            bytedata=data\n",
        "        else:\n",
        "            bytedata=data.encode()\n",
        "        import struct\n",
        "        if len(data) < 0x4c:\n",
        "            return from_int_to_byte(len(bytedata)) + bytedata\n",
        "        elif len(data) < 0xff:\n",
        "            return from_int_to_byte(76) + struct.pack('<B', len(bytedata)) + bytedata\n",
        "        elif len(data) < 0xffff:\n",
        "            return from_int_to_byte(77) + struct.pack('<H', len(bytedata)) + bytedata\n",
        "        elif len(data) < 0xffffffff:\n",
        "            return from_int_to_byte(78) + struct.pack('<I', len(bytedata)) + bytedata\n",
        "        else: raise Exception(\"Input data error. Rawtx must be hex chars\" \\\n",
        "                            + \"0xffffffff > len(data) > 0\")\n",
        "\n",
        "    orhex = safe_hexlify(b'\\x6a' + op_push(msg))\n",
        "    orjson = {'script' : orhex, 'value' : 0}\n",
        "    if rawtx is not None:\n",
        "        try:\n",
        "            txo = deserialize(rawtx)\n",
        "            if not 'outs' in txo.keys(): raise Exception(\"OP_Return cannot be the sole output!\")\n",
        "            txo['outs'].append(orjson)\n",
        "            newrawtx = serialize(txo)\n",
        "            return newrawtx\n",
        "        except Exception as E:\n",
        "            print(E)\n",
        "            print(type(E))\n",
        "            raise Exception(\"Raw Tx Error!\")\n",
        "    return orhex if not json else orjson"
      ]
    },
    {
      "cell_type": "markdown",
      "metadata": {
        "id": "yOcQvpiFXag0"
      },
      "source": [
        "# Comenzar con Claves Existentes (Start with Existing Keys)\n",
        "\n",
        "Acceder a las claves generadas en el cuaderno 5\n",
        "***\n",
        "Access the keys generated in the cuaderno 5"
      ]
    },
    {
      "cell_type": "markdown",
      "metadata": {
        "id": "0kYYEFx40an1"
      },
      "source": [
        "## Comenzar con Claves en Google Drive (Start with Keys on Google Drive)"
      ]
    },
    {
      "cell_type": "code",
      "execution_count": 5,
      "metadata": {
        "id": "DLmgNafNWa5O",
        "colab": {
          "base_uri": "https://localhost:8080/"
        },
        "outputId": "be6fd1d8-a08d-49d2-bafe-4fa2f3cd865f"
      },
      "outputs": [
        {
          "output_type": "stream",
          "name": "stdout",
          "text": [
            "Mounted at /content/drive\n"
          ]
        }
      ],
      "source": [
        "from google.colab import drive\n",
        "drive.mount('/content/drive')"
      ]
    },
    {
      "cell_type": "code",
      "execution_count": 6,
      "metadata": {
        "id": "x6oDx7tbWa72",
        "colab": {
          "base_uri": "https://localhost:8080/"
        },
        "outputId": "396159bc-a9d6-42c0-9a5c-dda573b0c67b"
      },
      "outputs": [
        {
          "output_type": "stream",
          "name": "stdout",
          "text": [
            "Archive:  llaves.zip\n",
            "   creating: llaves/\n",
            " extracting: llaves/mi_addr.bin      \n",
            " extracting: llaves/mi_addr.png      \n",
            " extracting: llaves/mi_pub.bin       \n",
            " extracting: llaves/mi_prv.enc       \n"
          ]
        }
      ],
      "source": [
        "! cp drive/MyDrive/cinv/llaves.zip llaves.zip \n",
        "! unzip llaves.zip\n"
      ]
    },
    {
      "cell_type": "markdown",
      "metadata": {
        "id": "sPvP5mkdcRu6"
      },
      "source": [
        "## Comenzar con Claves en la Disco Local\n",
        "## (Start with Keys on Local Drive)"
      ]
    },
    {
      "cell_type": "code",
      "execution_count": null,
      "metadata": {
        "id": "HIfCIuaRWa_b"
      },
      "outputs": [],
      "source": [
        "#from google.colab import files\n",
        "#fu=files.upload();"
      ]
    },
    {
      "cell_type": "code",
      "execution_count": null,
      "metadata": {
        "id": "Mk7eTjCPWbCS"
      },
      "outputs": [],
      "source": [
        "#! unzip llaves.zip"
      ]
    },
    {
      "cell_type": "code",
      "execution_count": null,
      "metadata": {
        "id": "hmAorBMjeA8j"
      },
      "outputs": [],
      "source": [
        "#! ls llaves"
      ]
    },
    {
      "cell_type": "markdown",
      "metadata": {
        "id": "QCY7Dye8dlXo"
      },
      "source": [
        "# Import Private Key, Public Key and Address"
      ]
    },
    {
      "cell_type": "code",
      "execution_count": 7,
      "metadata": {
        "id": "P6sggp7WdmQ7",
        "colab": {
          "base_uri": "https://localhost:8080/",
          "height": 218
        },
        "outputId": "cee5acb0-d28f-4615-ca8c-58a72a407cf6"
      },
      "outputs": [
        {
          "output_type": "display_data",
          "data": {
            "text/plain": [
              "<IPython.core.display.Image object>"
            ],
            "image/png": "[encoded data removed]"
          },
          "metadata": {}
        },
        {
          "output_type": "display_data",
          "data": {
            "text/plain": [
              "'0x7c88e9a4df6e9f45656c10bf66f28e28be235a15b64820b254f1b9eb2738314e6769f5c94da0c7640ffe76dcffca053b07a0804cd53a1c51ad03bfe0133ce8c5'"
            ],
            "application/vnd.google.colaboratory.intrinsic+json": {
              "type": "string"
            }
          },
          "metadata": {}
        },
        {
          "output_type": "display_data",
          "data": {
            "text/plain": [
              "'D6zKNnkupqRbkB9p5rwix8QiobQWJazjyX'"
            ],
            "application/vnd.google.colaboratory.intrinsic+json": {
              "type": "string"
            }
          },
          "metadata": {}
        }
      ],
      "source": [
        "from IPython.display import Image\n",
        "qr=Image('llaves/mi_addr.png')\n",
        "\n",
        "privKey=import_privKey('llaves/mi_prv.enc','')\n",
        "pub=import_pubKey('llaves/mi_pub.bin').to_hex()\n",
        "addr=import_addr('llaves/mi_addr.bin')\n",
        "\n",
        "display(qr)\n",
        "display(pub)\n",
        "display(addr)"
      ]
    },
    {
      "cell_type": "markdown",
      "source": [
        "# Import "
      ],
      "metadata": {
        "id": "2eJi4dcY1HDK"
      }
    },
    {
      "cell_type": "markdown",
      "metadata": {
        "id": "84vTBrTc0hQm"
      },
      "source": [
        "# Connect to Colegio Message Spreadsheet"
      ]
    },
    {
      "cell_type": "markdown",
      "metadata": {
        "id": "1txSB4pVjGpU"
      },
      "source": [
        "## Decrypt Credentials\n",
        "\n",
        "$\\color{white}{\\text{c0leg101nv1s1ble}}$\n",
        "\n",
        "Use la contraseña de arriba para descifrar las credenciales\n",
        "***\n",
        "Use password above to decrypt credentials\n"
      ]
    },
    {
      "cell_type": "code",
      "execution_count": 7,
      "metadata": {
        "id": "7KJWkuzviJut",
        "colab": {
          "base_uri": "https://localhost:8080/"
        },
        "outputId": "c0db6ebb-750a-4ac6-850d-53618b419bf9"
      },
      "outputs": [
        {
          "output_type": "stream",
          "name": "stdout",
          "text": [
            "Éxito (Success): Colegio_Invisible/secrets/client_secret.aes decifrado con éxito (decryption complete)\n",
            "Escrito a (Written to): Colegio_Invisible/secrets/client_secret.json\n"
          ]
        }
      ],
      "source": [
        "! python Colegio_Invisible/scripts/aes_decrypt.py c0leg101nv1s1ble Colegio_Invisible/secrets/client_secret.aes Colegio_Invisible/secrets/client_secret.json "
      ]
    },
    {
      "cell_type": "markdown",
      "metadata": {
        "id": "IE3ReCLc0-Un"
      },
      "source": [
        "## Autenticar y Conectarse a la Google Sheet de Mensajes (Authenticate and Connect to Message Google Sheet)\n",
        "\n",
        "Autenticarse usando credenciales descifradas para la API de Google Drive.\\\n",
        "Use la biblioteca `gspread` para leer y escribir en una hoja de cálculo compartida.\n",
        "***\n",
        "Authenticate using decrypted credentials for Google Drive API.\\\n",
        "Use `gspread` library to read and write to shared spreadsheet."
      ]
    },
    {
      "cell_type": "code",
      "execution_count": null,
      "metadata": {
        "id": "wAojvQCldmX0"
      },
      "outputs": [],
      "source": [
        "import gspread\n",
        "from oauth2client.service_account import ServiceAccountCredentials\n",
        "# use creds to create a client to interact with the Google Drive API\n",
        "scope = ['https://spreadsheets.google.com/feeds',\n",
        "         'https://www.googleapis.com/auth/drive']\n",
        "creds = ServiceAccountCredentials.from_json_keyfile_name('Colegio_Invisible/secrets/client_secret.json', scope)\n",
        "client = gspread.authorize(creds)\n",
        "sheets = client.open(\"signatures\")"
      ]
    },
    {
      "cell_type": "markdown",
      "metadata": {
        "id": "pcbvfyY42VGH"
      },
      "source": [
        "# Leer y Escribir en la Google Sheet de Mensajes (Read and Write to Messages Google Sheet)"
      ]
    },
    {
      "cell_type": "markdown",
      "metadata": {
        "id": "SjknPsHI1ks1"
      },
      "source": [
        "## Leer Google Sheet (Read Google Sheet)"
      ]
    },
    {
      "cell_type": "code",
      "execution_count": null,
      "metadata": {
        "id": "BllKzSYnk6QG",
        "colab": {
          "base_uri": "https://localhost:8080/"
        },
        "outputId": "b60d35d3-7cd2-4f2d-8297-266b5ba7cb60"
      },
      "outputs": [
        {
          "output_type": "execute_result",
          "data": {
            "text/plain": [
              "['name', 'address', 'pubkey']"
            ]
          },
          "metadata": {},
          "execution_count": 16
        }
      ],
      "source": [
        "sheet4=sheets.worksheets()[4]\n",
        "sheet4.row_values(1)"
      ]
    },
    {
      "cell_type": "code",
      "execution_count": null,
      "metadata": {
        "id": "aiq3qxz0lHjP"
      },
      "outputs": [],
      "source": [
        "#sheet4.clear()\n",
        "#sheet4.append_row([\"name\", \"address\",\"pubkey\"])"
      ]
    },
    {
      "cell_type": "markdown",
      "metadata": {
        "id": "jBL17WWm1shB"
      },
      "source": [
        "## Ingresar el Nombre (Input Name)"
      ]
    },
    {
      "cell_type": "code",
      "execution_count": null,
      "metadata": {
        "id": "qcmkQn-nlq1a",
        "colab": {
          "base_uri": "https://localhost:8080/"
        },
        "outputId": "92cffb55-bcee-4468-dbb8-8b712ec5285c"
      },
      "outputs": [
        {
          "name": "stdout",
          "output_type": "stream",
          "text": [
            "input nameDrDoeg\n"
          ]
        }
      ],
      "source": [
        "my_name=input('input name')"
      ]
    },
    {
      "cell_type": "markdown",
      "metadata": {
        "id": "px9ZVFpW6OJ7"
      },
      "source": [
        "## Leer Nombres Publicados (Read Posted Names)"
      ]
    },
    {
      "cell_type": "code",
      "execution_count": null,
      "metadata": {
        "id": "jgODKrZC16-Q",
        "colab": {
          "base_uri": "https://localhost:8080/"
        },
        "outputId": "7f66b5a3-10b9-4197-aa9d-e9f29949463a"
      },
      "outputs": [
        {
          "output_type": "execute_result",
          "data": {
            "text/plain": [
              "['DrDoeg', 'Laura']"
            ]
          },
          "metadata": {},
          "execution_count": 18
        }
      ],
      "source": [
        "peeps=sheet4.col_values(1)[1:]\n",
        "peeps"
      ]
    },
    {
      "cell_type": "markdown",
      "metadata": {
        "id": "c0v2nESr6SvE"
      },
      "source": [
        "## Escribir en la Google Sheet para Publicar Nombre (Write to Google Sheet to Publish Name)\n",
        "\n",
        "Si el nombre está en la lista, escriba la dirección en la celda correspondiente de la hoja\\\n",
        "Si el nombre no está presente, agregue el nombre y la dirección a la hoja\n",
        "***\n",
        "If the name is in the list then write address to the appropriate cell of sheet\\\n",
        "If name is not present append name and address to sheet"
      ]
    },
    {
      "cell_type": "code",
      "source": [
        "pub"
      ],
      "metadata": {
        "colab": {
          "base_uri": "https://localhost:8080/",
          "height": 35
        },
        "id": "I1WwJ1jE4ETS",
        "outputId": "465c9781-7502-462a-b0d6-51a325651d90"
      },
      "execution_count": null,
      "outputs": [
        {
          "output_type": "execute_result",
          "data": {
            "text/plain": [
              "'0x7c88e9a4df6e9f45656c10bf66f28e28be235a15b64820b254f1b9eb2738314e6769f5c94da0c7640ffe76dcffca053b07a0804cd53a1c51ad03bfe0133ce8c5'"
            ],
            "application/vnd.google.colaboratory.intrinsic+json": {
              "type": "string"
            }
          },
          "metadata": {},
          "execution_count": 19
        }
      ]
    },
    {
      "cell_type": "code",
      "source": [
        "addr"
      ],
      "metadata": {
        "colab": {
          "base_uri": "https://localhost:8080/",
          "height": 35
        },
        "id": "t6-V8weP4HiG",
        "outputId": "7238d5c5-3056-4f68-9a81-b2859ea848d9"
      },
      "execution_count": null,
      "outputs": [
        {
          "output_type": "execute_result",
          "data": {
            "text/plain": [
              "'D6zKNnkupqRbkB9p5rwix8QiobQWJazjyX'"
            ],
            "application/vnd.google.colaboratory.intrinsic+json": {
              "type": "string"
            }
          },
          "metadata": {},
          "execution_count": 20
        }
      ]
    },
    {
      "cell_type": "code",
      "execution_count": null,
      "metadata": {
        "id": "62v7BkKEl0XZ"
      },
      "outputs": [],
      "source": [
        "if not (my_name in peeps) :\n",
        "  sheet4.append_row([my_name,addr,pub])\n",
        "else:\n",
        "  sheet4.update_cell(row=peeps.index(my_name)+2,col=2,value=addr)\n",
        "  sheet4.update_cell(row=peeps.index(my_name)+2,col=3,value=pub)"
      ]
    },
    {
      "cell_type": "markdown",
      "metadata": {
        "id": "tqnTEwK16tVd"
      },
      "source": [
        "## Leer Claves Publicas (Read Public Keys)"
      ]
    },
    {
      "cell_type": "code",
      "execution_count": null,
      "metadata": {
        "colab": {
          "base_uri": "https://localhost:8080/",
          "height": 185
        },
        "id": "FTpvcVvRlwCH",
        "outputId": "c7792a6c-fc2a-46f1-8579-710c89c51523"
      },
      "outputs": [
        {
          "output_type": "display_data",
          "data": {
            "text/plain": [
              "     name                             address  \\\n",
              "0  DrDoeg  D6zKNnkupqRbkB9p5rwix8QiobQWJazjyX   \n",
              "1   Laura  DJBkcc9zShCCWPTvPuLUiHQegNPbmMipEH   \n",
              "\n",
              "                                              pubkey  \n",
              "0  0x7c88e9a4df6e9f45656c10bf66f28e28be235a15b648...  \n",
              "1  0x2478459160f8e4563ad84a1faa998158c2e47b3c8eac...  "
            ],
            "text/html": [
              "\n",
              "  <div id=\"df-6fea0457-9234-4186-ad37-b8b4aa501ec2\">\n",
              "    <div class=\"colab-df-container\">\n",
              "      <div>\n",
              "<style scoped>\n",
              "    .dataframe tbody tr th:only-of-type {\n",
              "        vertical-align: middle;\n",
              "    }\n",
              "\n",
              "    .dataframe tbody tr th {\n",
              "        vertical-align: top;\n",
              "    }\n",
              "\n",
              "    .dataframe thead th {\n",
              "        text-align: right;\n",
              "    }\n",
              "</style>\n",
              "<table border=\"1\" class=\"dataframe\">\n",
              "  <thead>\n",
              "    <tr style=\"text-align: right;\">\n",
              "      <th></th>\n",
              "      <th>name</th>\n",
              "      <th>address</th>\n",
              "      <th>pubkey</th>\n",
              "    </tr>\n",
              "  </thead>\n",
              "  <tbody>\n",
              "    <tr>\n",
              "      <th>0</th>\n",
              "      <td>DrDoeg</td>\n",
              "      <td>D6zKNnkupqRbkB9p5rwix8QiobQWJazjyX</td>\n",
              "      <td>0x7c88e9a4df6e9f45656c10bf66f28e28be235a15b648...</td>\n",
              "    </tr>\n",
              "    <tr>\n",
              "      <th>1</th>\n",
              "      <td>Laura</td>\n",
              "      <td>DJBkcc9zShCCWPTvPuLUiHQegNPbmMipEH</td>\n",
              "      <td>0x2478459160f8e4563ad84a1faa998158c2e47b3c8eac...</td>\n",
              "    </tr>\n",
              "  </tbody>\n",
              "</table>\n",
              "</div>\n",
              "      <button class=\"colab-df-convert\" onclick=\"convertToInteractive('df-6fea0457-9234-4186-ad37-b8b4aa501ec2')\"\n",
              "              title=\"Convert this dataframe to an interactive table.\"\n",
              "              style=\"display:none;\">\n",
              "        \n",
              "  <svg xmlns=\"http://www.w3.org/2000/svg\" height=\"24px\"viewBox=\"0 0 24 24\"\n",
              "       width=\"24px\">\n",
              "    <path d=\"M0 0h24v24H0V0z\" fill=\"none\"/>\n",
              "    <path d=\"M18.56 5.44l.94 2.06.94-2.06 2.06-.94-2.06-.94-.94-2.06-.94 2.06-2.06.94zm-11 1L8.5 8.5l.94-2.06 2.06-.94-2.06-.94L8.5 2.5l-.94 2.06-2.06.94zm10 10l.94 2.06.94-2.06 2.06-.94-2.06-.94-.94-2.06-.94 2.06-2.06.94z\"/><path d=\"M17.41 7.96l-1.37-1.37c-.4-.4-.92-.59-1.43-.59-.52 0-1.04.2-1.43.59L10.3 9.45l-7.72 7.72c-.78.78-.78 2.05 0 2.83L4 21.41c.39.39.9.59 1.41.59.51 0 1.02-.2 1.41-.59l7.78-7.78 2.81-2.81c.8-.78.8-2.07 0-2.86zM5.41 20L4 18.59l7.72-7.72 1.47 1.35L5.41 20z\"/>\n",
              "  </svg>\n",
              "      </button>\n",
              "      \n",
              "  <style>\n",
              "    .colab-df-container {\n",
              "      display:flex;\n",
              "      flex-wrap:wrap;\n",
              "      gap: 12px;\n",
              "    }\n",
              "\n",
              "    .colab-df-convert {\n",
              "      background-color: #E8F0FE;\n",
              "      border: none;\n",
              "      border-radius: 50%;\n",
              "      cursor: pointer;\n",
              "      display: none;\n",
              "      fill: #1967D2;\n",
              "      height: 32px;\n",
              "      padding: 0 0 0 0;\n",
              "      width: 32px;\n",
              "    }\n",
              "\n",
              "    .colab-df-convert:hover {\n",
              "      background-color: #E2EBFA;\n",
              "      box-shadow: 0px 1px 2px rgba(60, 64, 67, 0.3), 0px 1px 3px 1px rgba(60, 64, 67, 0.15);\n",
              "      fill: #174EA6;\n",
              "    }\n",
              "\n",
              "    [theme=dark] .colab-df-convert {\n",
              "      background-color: #3B4455;\n",
              "      fill: #D2E3FC;\n",
              "    }\n",
              "\n",
              "    [theme=dark] .colab-df-convert:hover {\n",
              "      background-color: #434B5C;\n",
              "      box-shadow: 0px 1px 3px 1px rgba(0, 0, 0, 0.15);\n",
              "      filter: drop-shadow(0px 1px 2px rgba(0, 0, 0, 0.3));\n",
              "      fill: #FFFFFF;\n",
              "    }\n",
              "  </style>\n",
              "\n",
              "      <script>\n",
              "        const buttonEl =\n",
              "          document.querySelector('#df-6fea0457-9234-4186-ad37-b8b4aa501ec2 button.colab-df-convert');\n",
              "        buttonEl.style.display =\n",
              "          google.colab.kernel.accessAllowed ? 'block' : 'none';\n",
              "\n",
              "        async function convertToInteractive(key) {\n",
              "          const element = document.querySelector('#df-6fea0457-9234-4186-ad37-b8b4aa501ec2');\n",
              "          const dataTable =\n",
              "            await google.colab.kernel.invokeFunction('convertToInteractive',\n",
              "                                                     [key], {});\n",
              "          if (!dataTable) return;\n",
              "\n",
              "          const docLinkHtml = 'Like what you see? Visit the ' +\n",
              "            '<a target=\"_blank\" href=https://colab.research.google.com/notebooks/data_table.ipynb>data table notebook</a>'\n",
              "            + ' to learn more about interactive tables.';\n",
              "          element.innerHTML = '';\n",
              "          dataTable['output_type'] = 'display_data';\n",
              "          await google.colab.output.renderOutput(dataTable, element);\n",
              "          const docLink = document.createElement('div');\n",
              "          docLink.innerHTML = docLinkHtml;\n",
              "          element.appendChild(docLink);\n",
              "        }\n",
              "      </script>\n",
              "    </div>\n",
              "  </div>\n",
              "  "
            ]
          },
          "metadata": {}
        },
        {
          "output_type": "display_data",
          "data": {
            "text/plain": [
              "['047c88e9a4df6e9f45656c10bf66f28e28be235a15b64820b254f1b9eb2738314e6769f5c94da0c7640ffe76dcffca053b07a0804cd53a1c51ad03bfe0133ce8c5',\n",
              " '042478459160f8e4563ad84a1faa998158c2e47b3c8eac04654ca30f892d4c873db08339cabb0f5c775f1f798919ab4ce5772666a88ea39cf811b73c95d28ee9f9']"
            ]
          },
          "metadata": {}
        }
      ],
      "source": [
        "import pandas as pd\n",
        "\n",
        "sheet4=sheets.worksheets()[4]\n",
        "dataframe4 = pd.DataFrame(sheet4.get_all_records())\n",
        "display(dataframe4)\n",
        "\n",
        "pubs = dataframe4.pubkey.tolist()\n",
        "pubs = [ '04'+pb[2:] for pb in pubs ]\n",
        "display(pubs)"
      ]
    },
    {
      "cell_type": "markdown",
      "source": [
        "# Make Transaction to Self with op_return\n",
        "\n"
      ],
      "metadata": {
        "id": "zDlgUySNsFvg"
      }
    },
    {
      "cell_type": "code",
      "source": [
        "doge=cryptos.Doge()\n",
        "mi_unspents=doge.unspent(addr)\n",
        "mi_unspents=only_conf(mi_unspents)\n",
        "mi_unspents"
      ],
      "metadata": {
        "colab": {
          "base_uri": "https://localhost:8080/"
        },
        "id": "RTBWQRWmsf0T",
        "outputId": "4d24529b-93b8-477a-8d16-41d05c79d3a3"
      },
      "execution_count": 8,
      "outputs": [
        {
          "output_type": "execute_result",
          "data": {
            "text/plain": [
              "[{'output': '9cc1d1a9f705aee36a90bdee6897c35181cb717b7cac9c4afb6cf147f0daf18d:0',\n",
              "  'value': 1700000000},\n",
              " {'output': 'c77225a5287d802c4bfb05ee07c99cbf25a50c4245744b6e00e61e494578970c:0',\n",
              "  'value': 9800000000}]"
            ]
          },
          "metadata": {},
          "execution_count": 8
        }
      ]
    },
    {
      "cell_type": "code",
      "source": [
        "mi_unspent_total=sum([unspent['value'] for unspent in mi_unspents])\n",
        "mi_unspent_total"
      ],
      "metadata": {
        "colab": {
          "base_uri": "https://localhost:8080/"
        },
        "id": "qn6fyslNBNDZ",
        "outputId": "f0f7c638-adb8-49c8-b63f-d2e3206f2a2e"
      },
      "execution_count": 9,
      "outputs": [
        {
          "output_type": "execute_result",
          "data": {
            "text/plain": [
              "11500000000"
            ]
          },
          "metadata": {},
          "execution_count": 9
        }
      ]
    },
    {
      "cell_type": "code",
      "source": [
        "mining_fee=2_00_000_000\n",
        "mi_gift=mi_unspent_total-mining_fee"
      ],
      "metadata": {
        "id": "Xav8zMOXBikj"
      },
      "execution_count": 10,
      "outputs": []
    },
    {
      "cell_type": "code",
      "source": [
        "mi_outputs=[{'value':mi_gift , 'address': addr}]\n",
        "mi_outputs"
      ],
      "metadata": {
        "colab": {
          "base_uri": "https://localhost:8080/"
        },
        "id": "MoX5DX4Xsgqf",
        "outputId": "d42aadae-061a-4a88-f4a5-86ed07314a9b"
      },
      "execution_count": 12,
      "outputs": [
        {
          "output_type": "execute_result",
          "data": {
            "text/plain": [
              "[{'address': 'D6zKNnkupqRbkB9p5rwix8QiobQWJazjyX', 'value': 11300000000}]"
            ]
          },
          "metadata": {},
          "execution_count": 12
        }
      ]
    },
    {
      "cell_type": "code",
      "source": [
        "mi_tx=doge.mktx(mi_unspents,mi_outputs)\n",
        "mi_tx"
      ],
      "metadata": {
        "colab": {
          "base_uri": "https://localhost:8080/"
        },
        "id": "sAi4cu7wsg-1",
        "outputId": "4546fa29-db17-49ec-cdc1-d0b26b18ac68"
      },
      "execution_count": 13,
      "outputs": [
        {
          "output_type": "execute_result",
          "data": {
            "text/plain": [
              "{'ins': [{'amount': 1700000000,\n",
              "   'outpoint': {'hash': '9cc1d1a9f705aee36a90bdee6897c35181cb717b7cac9c4afb6cf147f0daf18d',\n",
              "    'index': 0},\n",
              "   'script': '',\n",
              "   'sequence': 4294967295},\n",
              "  {'amount': 9800000000,\n",
              "   'outpoint': {'hash': 'c77225a5287d802c4bfb05ee07c99cbf25a50c4245744b6e00e61e494578970c',\n",
              "    'index': 0},\n",
              "   'script': '',\n",
              "   'sequence': 4294967295}],\n",
              " 'locktime': 0,\n",
              " 'outs': [{'script': '76a914144739367df0ff8d1c61d03704298d49cf93ef3f88ac',\n",
              "   'value': 11300000000}],\n",
              " 'version': 1}"
            ]
          },
          "metadata": {},
          "execution_count": 13
        }
      ]
    },
    {
      "cell_type": "code",
      "source": [
        "mi_serial_tx=cryptos.serialize(mi_tx)\n",
        "mi_serial_tx"
      ],
      "metadata": {
        "id": "KZrMb7pztnhD",
        "colab": {
          "base_uri": "https://localhost:8080/",
          "height": 53
        },
        "outputId": "47c4cc6d-1d39-4e5a-b211-0ca45ac769dc"
      },
      "execution_count": 165,
      "outputs": [
        {
          "output_type": "execute_result",
          "data": {
            "text/plain": [
              "'010000000125cb3c68c25435b1507d3d5fc00e382570c0986761d61bbbe9ea22e5ce9484480100000000ffffffff0100222048020000001976a914144739367df0ff8d1c61d03704298d49cf93ef3f88ac00000000'"
            ],
            "application/vnd.google.colaboratory.intrinsic+json": {
              "type": "string"
            }
          },
          "metadata": {},
          "execution_count": 165
        }
      ]
    },
    {
      "cell_type": "code",
      "source": [
        "len(b'x'*80)"
      ],
      "metadata": {
        "colab": {
          "base_uri": "https://localhost:8080/"
        },
        "id": "I_opkcdsB_8B",
        "outputId": "e527043b-efcd-44f8-96ec-e131d8ba6b7c"
      },
      "execution_count": 152,
      "outputs": [
        {
          "output_type": "execute_result",
          "data": {
            "text/plain": [
              "80"
            ]
          },
          "metadata": {},
          "execution_count": 152
        }
      ]
    },
    {
      "cell_type": "code",
      "source": [
        "mi_inscribed_serial_tx=mk_opreturn('hello Francisca', mi_serial_tx)\n",
        "mi_inscribed_serial_tx"
      ],
      "metadata": {
        "colab": {
          "base_uri": "https://localhost:8080/",
          "height": 53
        },
        "id": "M8TAv_cIr7Nm",
        "outputId": "6cb88a0f-2dfe-402c-f0d4-9a6a0290faa1"
      },
      "execution_count": 166,
      "outputs": [
        {
          "output_type": "execute_result",
          "data": {
            "text/plain": [
              "'010000000125cb3c68c25435b1507d3d5fc00e382570c0986761d61bbbe9ea22e5ce9484480100000000ffffffff0200222048020000001976a914144739367df0ff8d1c61d03704298d49cf93ef3f88ac0000000000000000116a0f68656c6c6f204672616e636973636100000000'"
            ],
            "application/vnd.google.colaboratory.intrinsic+json": {
              "type": "string"
            }
          },
          "metadata": {},
          "execution_count": 166
        }
      ]
    },
    {
      "cell_type": "code",
      "source": [
        "mi_inscribed_tx=cryptos.deserialize(mi_inscribed_serial_tx)\n",
        "mi_inscribed_tx"
      ],
      "metadata": {
        "colab": {
          "base_uri": "https://localhost:8080/"
        },
        "id": "bIclerser8Fr",
        "outputId": "f497df09-5128-4f6d-9fc7-ee3baa018a9c"
      },
      "execution_count": 167,
      "outputs": [
        {
          "output_type": "execute_result",
          "data": {
            "text/plain": [
              "{'ins': [{'outpoint': {'hash': '488494cee522eae9bb1bd6616798c07025380ec05f3d7d50b13554c2683ccb25',\n",
              "    'index': 1},\n",
              "   'script': '',\n",
              "   'sequence': 4294967295}],\n",
              " 'locktime': 0,\n",
              " 'outs': [{'script': '76a914144739367df0ff8d1c61d03704298d49cf93ef3f88ac',\n",
              "   'value': 9800000000},\n",
              "  {'script': '6a0f68656c6c6f204672616e6369736361', 'value': 0}],\n",
              " 'version': 1}"
            ]
          },
          "metadata": {},
          "execution_count": 167
        }
      ]
    },
    {
      "cell_type": "code",
      "source": [
        "mi_signed_inscribed_tx=doge.signall(mi_inscribed_tx,privKey.to_hex()[2:])\n",
        "mi_signed_inscribed_tx"
      ],
      "metadata": {
        "colab": {
          "base_uri": "https://localhost:8080/",
          "height": 89
        },
        "id": "BflWQZw__Nh-",
        "outputId": "e7181381-2d39-4b20-aab2-1b5d195034b8"
      },
      "execution_count": 168,
      "outputs": [
        {
          "output_type": "execute_result",
          "data": {
            "text/plain": [
              "'010000000125cb3c68c25435b1507d3d5fc00e382570c0986761d61bbbe9ea22e5ce948448010000008a4730440220624b74f756ec6ca3dacd540c399159361bc453845fdc6e06182ad06ba20cc14e022034b7d080de5bfe67171a5ee4c4569c452c010ea0b39464050791147f5add28d00141047c88e9a4df6e9f45656c10bf66f28e28be235a15b64820b254f1b9eb2738314e6769f5c94da0c7640ffe76dcffca053b07a0804cd53a1c51ad03bfe0133ce8c5ffffffff0200222048020000001976a914144739367df0ff8d1c61d03704298d49cf93ef3f88ac0000000000000000116a0f68656c6c6f204672616e636973636100000000'"
            ],
            "application/vnd.google.colaboratory.intrinsic+json": {
              "type": "string"
            }
          },
          "metadata": {},
          "execution_count": 168
        }
      ]
    },
    {
      "cell_type": "code",
      "source": [
        "broadcast_mi_txn=doge.pushtx(mi_signed_inscribed_tx)\n",
        "broadcast_mi_txn"
      ],
      "metadata": {
        "colab": {
          "base_uri": "https://localhost:8080/"
        },
        "id": "2jfoXTb6_b10",
        "outputId": "a05cde60-9031-468a-b4f7-638e5dea01ff"
      },
      "execution_count": 169,
      "outputs": [
        {
          "output_type": "execute_result",
          "data": {
            "text/plain": [
              "{'data': {'network': 'DOGE',\n",
              "  'txid': 'c77225a5287d802c4bfb05ee07c99cbf25a50c4245744b6e00e61e494578970c'},\n",
              " 'status': 'success'}"
            ]
          },
          "metadata": {},
          "execution_count": 169
        }
      ]
    },
    {
      "cell_type": "code",
      "source": [
        "doge.fetchtx(broadcast_mi_txn['data']['txid'])"
      ],
      "metadata": {
        "colab": {
          "base_uri": "https://localhost:8080/"
        },
        "id": "iJJ2boDj_cEj",
        "outputId": "b8e7d002-ba5f-470f-805f-2dc99bee62f5"
      },
      "execution_count": 172,
      "outputs": [
        {
          "output_type": "execute_result",
          "data": {
            "text/plain": [
              "{'blockhash': None,\n",
              " 'confirmations': 0,\n",
              " 'inputs': [{'address': 'D6zKNnkupqRbkB9p5rwix8QiobQWJazjyX',\n",
              "   'from_output': {'output_no': 1,\n",
              "    'txid': '488494cee522eae9bb1bd6616798c07025380ec05f3d7d50b13554c2683ccb25'},\n",
              "   'input_no': 0,\n",
              "   'script': '30440220624b74f756ec6ca3dacd540c399159361bc453845fdc6e06182ad06ba20cc14e022034b7d080de5bfe67171a5ee4c4569c452c010ea0b39464050791147f5add28d001 047c88e9a4df6e9f45656c10bf66f28e28be235a15b64820b254f1b9eb2738314e6769f5c94da0c7640ffe76dcffca053b07a0804cd53a1c51ad03bfe0133ce8c5',\n",
              "   'sequence': 4294967295,\n",
              "   'type': 'pubkeyhash',\n",
              "   'value': '100.00000000',\n",
              "   'witness': None}],\n",
              " 'locktime': 0,\n",
              " 'network': 'DOGE',\n",
              " 'network_fee': '2.00000000',\n",
              " 'outputs': [{'address': 'D6zKNnkupqRbkB9p5rwix8QiobQWJazjyX',\n",
              "   'output_no': 0,\n",
              "   'script': 'OP_DUP OP_HASH160 144739367df0ff8d1c61d03704298d49cf93ef3f OP_EQUALVERIFY OP_CHECKSIG',\n",
              "   'type': 'pubkeyhash',\n",
              "   'value': '98.00000000'},\n",
              "  {'address': 'nonstandard',\n",
              "   'output_no': 1,\n",
              "   'script': 'OP_RETURN 68656c6c6f204672616e6369736361',\n",
              "   'type': 'nulldata',\n",
              "   'value': '0.00000000'}],\n",
              " 'size': 249,\n",
              " 'time': 1650544972,\n",
              " 'tx_hex': '010000000125cb3c68c25435b1507d3d5fc00e382570c0986761d61bbbe9ea22e5ce948448010000008a4730440220624b74f756ec6ca3dacd540c399159361bc453845fdc6e06182ad06ba20cc14e022034b7d080de5bfe67171a5ee4c4569c452c010ea0b39464050791147f5add28d00141047c88e9a4df6e9f45656c10bf66f28e28be235a15b64820b254f1b9eb2738314e6769f5c94da0c7640ffe76dcffca053b07a0804cd53a1c51ad03bfe0133ce8c5ffffffff0200222048020000001976a914144739367df0ff8d1c61d03704298d49cf93ef3f88ac0000000000000000116a0f68656c6c6f204672616e636973636100000000',\n",
              " 'txid': 'c77225a5287d802c4bfb05ee07c99cbf25a50c4245744b6e00e61e494578970c',\n",
              " 'version': 1,\n",
              " 'vsize': 249}"
            ]
          },
          "metadata": {},
          "execution_count": 172
        }
      ]
    },
    {
      "cell_type": "code",
      "source": [
        "op_tx_data=doge.fetchtx(broadcast_mi_txn['data']['txid'])\n",
        "op_hex=[output['script'][10:] for output in op_tx_data['outputs'] if 'OP_RETURN' in output['script'] ][0]\n",
        "bytes.fromhex(op_hex).decode()"
      ],
      "metadata": {
        "id": "eoRr_f1GKrRH",
        "outputId": "e28c76c7-b146-41fa-9d2a-52bf32cab576",
        "colab": {
          "base_uri": "https://localhost:8080/",
          "height": 35
        }
      },
      "execution_count": 158,
      "outputs": [
        {
          "output_type": "execute_result",
          "data": {
            "text/plain": [
              "'hello Francisca'"
            ],
            "application/vnd.google.colaboratory.intrinsic+json": {
              "type": "string"
            }
          },
          "metadata": {},
          "execution_count": 158
        }
      ]
    },
    {
      "cell_type": "code",
      "source": [
        "bytes.fromhex('dd')"
      ],
      "metadata": {
        "colab": {
          "base_uri": "https://localhost:8080/"
        },
        "id": "q-oFyerYEw6h",
        "outputId": "ce8945e0-1a2e-48be-cdcb-7dde223f2bad"
      },
      "execution_count": 79,
      "outputs": [
        {
          "output_type": "execute_result",
          "data": {
            "text/plain": [
              "b'\\xdd'"
            ]
          },
          "metadata": {},
          "execution_count": 79
        }
      ]
    },
    {
      "cell_type": "code",
      "source": [
        "message='''Radio, live transmission.\n",
        "Radio, live transmission.\n",
        "\n",
        "Listen to the silence, let it ring on.\n",
        "Eyes, dark grey lenses frightened of the sun.\n",
        "We would have a fine time living in the night,\n",
        "Left to blind destruction,\n",
        "Waiting for our sight.\n",
        "\n",
        "And we would go on as though nothing was wrong.\n",
        "And hide from these days we remained all alone.\n",
        "Staying in the same place, just staying out the time.\n",
        "Touching from a distance,\n",
        "Further all the time.\n",
        "\n",
        "Dance, dance, dance, dance, dance, to the radio.\n",
        "Dance, dance, dance, dance, dance, to the radio...\n",
        "\n",
        "Well I could call out when the going gets tough.\n",
        "The things that we've learnt are no longer enough.\n",
        "No language, just sound, that's all we need know,\n",
        "To synchronise love to the beat of the show.\n",
        "\n",
        "And we could dance.\n",
        "\n",
        "Dance, dance, dance, dance, dance, to the radio.\n",
        "Dance, dance, dance, dance, dance, to the radio...\n",
        "'''.encode()"
      ],
      "metadata": {
        "id": "ymwgS9GYQeKg"
      },
      "execution_count": 17,
      "outputs": []
    },
    {
      "cell_type": "code",
      "source": [
        "#message='hello to the world. this is a message to everyone who likes gravy. slow down. it is not healthy. it is too thick and sloppy'.encode()\n",
        "n = 76 \n",
        "chunks = [message[i:i+n] for i in range(0, len(message), n)]\n",
        "chunks"
      ],
      "metadata": {
        "colab": {
          "base_uri": "https://localhost:8080/"
        },
        "id": "rHAZSMvAMLnW",
        "outputId": "58062637-61ec-4cf1-9d70-5dcec02727fc"
      },
      "execution_count": 18,
      "outputs": [
        {
          "output_type": "execute_result",
          "data": {
            "text/plain": [
              "[b'Radio, live transmission.\\nRadio, live transmission.\\n\\nListen to the silence, ',\n",
              " b'let it ring on.\\nEyes, dark grey lenses frightened of the sun.\\nWe would have ',\n",
              " b'a fine time living in the night,\\nLeft to blind destruction,\\nWaiting for our ',\n",
              " b'sight.\\n\\nAnd we would go on as though nothing was wrong.\\nAnd hide from these ',\n",
              " b'days we remained all alone.\\nStaying in the same place, just staying out the ',\n",
              " b'time.\\nTouching from a distance,\\nFurther all the time.\\n\\nDance, dance, dance, ',\n",
              " b'dance, dance, to the radio.\\nDance, dance, dance, dance, dance, to the radio.',\n",
              " b\"..\\n\\nWell I could call out when the going gets tough.\\nThe things that we've l\",\n",
              " b\"earnt are no longer enough.\\nNo language, just sound, that's all we need know\",\n",
              " b',\\nTo synchronise love to the beat of the show.\\n\\nAnd we could dance.\\n\\nDance, ',\n",
              " b'dance, dance, dance, dance, to the radio.\\nDance, dance, dance, dance, dance,',\n",
              " b' to the radio...\\n']"
            ]
          },
          "metadata": {},
          "execution_count": 18
        }
      ]
    },
    {
      "cell_type": "code",
      "source": [
        "def pieces(bites,size):\n",
        "    return [bites[i:i+n] for i in range(0, len(bites), n)]"
      ],
      "metadata": {
        "id": "82AI9THBL7ok"
      },
      "execution_count": 19,
      "outputs": []
    },
    {
      "cell_type": "code",
      "source": [
        "def prepend_index(L):\n",
        "    return [ int(i).to_bytes(1, 'big')+int(len(chunks)-1).to_bytes(1, 'big')+chunk for i,chunk in enumerate(L)]"
      ],
      "metadata": {
        "id": "_Moi8ZzIVIXG"
      },
      "execution_count": 20,
      "outputs": []
    },
    {
      "cell_type": "code",
      "source": [
        "def prepend_head(L,byte_head):\n",
        "    return [ byte_head+chunk for chunk in L]\n",
        "\n",
        "# byte head contains leading byte \"\\xdd\" and byte to represent embed type\n",
        "# a single line text will be embed type \"\\x00\"\n",
        "# a single line hash will be embed type \"\\x01\"\n",
        "# a multiline text will be embed type \"\\x02\"\n",
        "# a multiline ecies encrypted text will be embed type \"\\x03\""
      ],
      "metadata": {
        "id": "O6sWIcLAs4ii"
      },
      "execution_count": 21,
      "outputs": []
    },
    {
      "cell_type": "code",
      "source": [
        "def multiline_setup(mensaje):\n",
        "    mensaje_partes=pieces(mensaje,76)\n",
        "    indexed_mensaje_partes=prepend_index(mensaje_partes)\n",
        "    return prepend_head(indexed_mensaje_partes,b'\\xdd\\x02')"
      ],
      "metadata": {
        "id": "XIOhnOWd0xoX"
      },
      "execution_count": 25,
      "outputs": []
    },
    {
      "cell_type": "code",
      "source": [
        "chunks=pieces(message,76)\n",
        "chunks"
      ],
      "metadata": {
        "colab": {
          "base_uri": "https://localhost:8080/"
        },
        "id": "WA1jWjkARJmN",
        "outputId": "14de1785-7128-4edb-a721-19b5ccd06459"
      },
      "execution_count": 22,
      "outputs": [
        {
          "output_type": "execute_result",
          "data": {
            "text/plain": [
              "[b'Radio, live transmission.\\nRadio, live transmission.\\n\\nListen to the silence, ',\n",
              " b'let it ring on.\\nEyes, dark grey lenses frightened of the sun.\\nWe would have ',\n",
              " b'a fine time living in the night,\\nLeft to blind destruction,\\nWaiting for our ',\n",
              " b'sight.\\n\\nAnd we would go on as though nothing was wrong.\\nAnd hide from these ',\n",
              " b'days we remained all alone.\\nStaying in the same place, just staying out the ',\n",
              " b'time.\\nTouching from a distance,\\nFurther all the time.\\n\\nDance, dance, dance, ',\n",
              " b'dance, dance, to the radio.\\nDance, dance, dance, dance, dance, to the radio.',\n",
              " b\"..\\n\\nWell I could call out when the going gets tough.\\nThe things that we've l\",\n",
              " b\"earnt are no longer enough.\\nNo language, just sound, that's all we need know\",\n",
              " b',\\nTo synchronise love to the beat of the show.\\n\\nAnd we could dance.\\n\\nDance, ',\n",
              " b'dance, dance, dance, dance, to the radio.\\nDance, dance, dance, dance, dance,',\n",
              " b' to the radio...\\n']"
            ]
          },
          "metadata": {},
          "execution_count": 22
        }
      ]
    },
    {
      "cell_type": "code",
      "source": [
        "indexed_chunks=prepend_index(chunks)\n",
        "indexed_chunks"
      ],
      "metadata": {
        "colab": {
          "base_uri": "https://localhost:8080/"
        },
        "id": "bL03zboJTP3v",
        "outputId": "0754ec25-287b-4575-d0cb-3e88b1e31a65"
      },
      "execution_count": 23,
      "outputs": [
        {
          "output_type": "execute_result",
          "data": {
            "text/plain": [
              "[b'\\x00\\x0bRadio, live transmission.\\nRadio, live transmission.\\n\\nListen to the silence, ',\n",
              " b'\\x01\\x0blet it ring on.\\nEyes, dark grey lenses frightened of the sun.\\nWe would have ',\n",
              " b'\\x02\\x0ba fine time living in the night,\\nLeft to blind destruction,\\nWaiting for our ',\n",
              " b'\\x03\\x0bsight.\\n\\nAnd we would go on as though nothing was wrong.\\nAnd hide from these ',\n",
              " b'\\x04\\x0bdays we remained all alone.\\nStaying in the same place, just staying out the ',\n",
              " b'\\x05\\x0btime.\\nTouching from a distance,\\nFurther all the time.\\n\\nDance, dance, dance, ',\n",
              " b'\\x06\\x0bdance, dance, to the radio.\\nDance, dance, dance, dance, dance, to the radio.',\n",
              " b\"\\x07\\x0b..\\n\\nWell I could call out when the going gets tough.\\nThe things that we've l\",\n",
              " b\"\\x08\\x0bearnt are no longer enough.\\nNo language, just sound, that's all we need know\",\n",
              " b'\\t\\x0b,\\nTo synchronise love to the beat of the show.\\n\\nAnd we could dance.\\n\\nDance, ',\n",
              " b'\\n\\x0bdance, dance, dance, dance, to the radio.\\nDance, dance, dance, dance, dance,',\n",
              " b'\\x0b\\x0b to the radio...\\n']"
            ]
          },
          "metadata": {},
          "execution_count": 23
        }
      ]
    },
    {
      "cell_type": "code",
      "source": [
        "headed_chunks=prepend_head(indexed_chunks,b'\\xdd\\x02')\n",
        "headed_chunks"
      ],
      "metadata": {
        "id": "BqiMa6HTX9nB",
        "outputId": "978a95ab-3e34-480c-89bf-317c8cea6d4a",
        "colab": {
          "base_uri": "https://localhost:8080/"
        }
      },
      "execution_count": 24,
      "outputs": [
        {
          "output_type": "execute_result",
          "data": {
            "text/plain": [
              "[b'\\xdd\\x02\\x00\\x0bRadio, live transmission.\\nRadio, live transmission.\\n\\nListen to the silence, ',\n",
              " b'\\xdd\\x02\\x01\\x0blet it ring on.\\nEyes, dark grey lenses frightened of the sun.\\nWe would have ',\n",
              " b'\\xdd\\x02\\x02\\x0ba fine time living in the night,\\nLeft to blind destruction,\\nWaiting for our ',\n",
              " b'\\xdd\\x02\\x03\\x0bsight.\\n\\nAnd we would go on as though nothing was wrong.\\nAnd hide from these ',\n",
              " b'\\xdd\\x02\\x04\\x0bdays we remained all alone.\\nStaying in the same place, just staying out the ',\n",
              " b'\\xdd\\x02\\x05\\x0btime.\\nTouching from a distance,\\nFurther all the time.\\n\\nDance, dance, dance, ',\n",
              " b'\\xdd\\x02\\x06\\x0bdance, dance, to the radio.\\nDance, dance, dance, dance, dance, to the radio.',\n",
              " b\"\\xdd\\x02\\x07\\x0b..\\n\\nWell I could call out when the going gets tough.\\nThe things that we've l\",\n",
              " b\"\\xdd\\x02\\x08\\x0bearnt are no longer enough.\\nNo language, just sound, that's all we need know\",\n",
              " b'\\xdd\\x02\\t\\x0b,\\nTo synchronise love to the beat of the show.\\n\\nAnd we could dance.\\n\\nDance, ',\n",
              " b'\\xdd\\x02\\n\\x0bdance, dance, dance, dance, to the radio.\\nDance, dance, dance, dance, dance,',\n",
              " b'\\xdd\\x02\\x0b\\x0b to the radio...\\n']"
            ]
          },
          "metadata": {},
          "execution_count": 24
        }
      ]
    },
    {
      "cell_type": "code",
      "source": [
        "opreturn_list=multiline_setup(message)\n",
        "opreturn_list"
      ],
      "metadata": {
        "id": "mNnt_g8Z0XfY",
        "outputId": "8b91f363-01a9-4788-c83f-f19fddf53a46",
        "colab": {
          "base_uri": "https://localhost:8080/"
        }
      },
      "execution_count": 27,
      "outputs": [
        {
          "output_type": "execute_result",
          "data": {
            "text/plain": [
              "[b'\\xdd\\x02\\x00\\x0bRadio, live transmission.\\nRadio, live transmission.\\n\\nListen to the silence, ',\n",
              " b'\\xdd\\x02\\x01\\x0blet it ring on.\\nEyes, dark grey lenses frightened of the sun.\\nWe would have ',\n",
              " b'\\xdd\\x02\\x02\\x0ba fine time living in the night,\\nLeft to blind destruction,\\nWaiting for our ',\n",
              " b'\\xdd\\x02\\x03\\x0bsight.\\n\\nAnd we would go on as though nothing was wrong.\\nAnd hide from these ',\n",
              " b'\\xdd\\x02\\x04\\x0bdays we remained all alone.\\nStaying in the same place, just staying out the ',\n",
              " b'\\xdd\\x02\\x05\\x0btime.\\nTouching from a distance,\\nFurther all the time.\\n\\nDance, dance, dance, ',\n",
              " b'\\xdd\\x02\\x06\\x0bdance, dance, to the radio.\\nDance, dance, dance, dance, dance, to the radio.',\n",
              " b\"\\xdd\\x02\\x07\\x0b..\\n\\nWell I could call out when the going gets tough.\\nThe things that we've l\",\n",
              " b\"\\xdd\\x02\\x08\\x0bearnt are no longer enough.\\nNo language, just sound, that's all we need know\",\n",
              " b'\\xdd\\x02\\t\\x0b,\\nTo synchronise love to the beat of the show.\\n\\nAnd we could dance.\\n\\nDance, ',\n",
              " b'\\xdd\\x02\\n\\x0bdance, dance, dance, dance, to the radio.\\nDance, dance, dance, dance, dance,',\n",
              " b'\\xdd\\x02\\x0b\\x0b to the radio...\\n']"
            ]
          },
          "metadata": {},
          "execution_count": 27
        }
      ]
    },
    {
      "cell_type": "code",
      "source": [
        "def embed_message_list(L,privkeyhex,tip=2_00_000_000):\n",
        "    import time\n",
        "    txn_ids=[]\n",
        "    doge=cryptos.Doge()\n",
        "    addy=doge.privtoaddr(privkeyhex)\n",
        "    doge_unspents=only_conf( doge.unspent(addy) )\n",
        "    doge_unspent_total=sum([unspent['value'] for unspent in doge_unspents])\n",
        "    if ( tip*len(L) + 3_00_000_000 ) > doge_unspent_total:\n",
        "        raise Exception(\"Not enough coins available\")\n",
        "    # at this point we know we have enough coins...\n",
        "    # now we will iterate through the list\n",
        "    for op_return in L:\n",
        "        print(op_return)\n",
        "    # make sure to wait for utxos to confirm, if not wait 10 sec\n",
        "        while True:\n",
        "            doge_unspents=only_conf( doge.unspent(addy) )\n",
        "            if doge_unspents != []:\n",
        "              print('COINS UP')\n",
        "              break\n",
        "            time.sleep(10)\n",
        "        doge_unspent_total=sum([unspent['value'] for unspent in doge_unspents]) \n",
        "        doge_gift=doge_unspent_total-tip\n",
        "        doge_outputs=[ {'value':doge_gift , 'address': addy}]\n",
        "        doge_tx=doge.mktx(doge_unspents,doge_outputs)\n",
        "        doge_serial_tx=cryptos.serialize(doge_tx)\n",
        "        doge_inscribed_serial_tx=mk_opreturn( op_return , doge_serial_tx)\n",
        "        doge_inscribed_tx=cryptos.deserialize(doge_inscribed_serial_tx)\n",
        "        doge_signed_inscribed_tx=doge.signall(doge_inscribed_tx,privkeyhex)\n",
        "        broadcast_doge_signed_inscribed_tx=doge.pushtx(doge_signed_inscribed_tx)\n",
        "        txn_ids.append(broadcast_doge_signed_inscribed_tx['data']['txid'])\n",
        "    return txn_ids"
      ],
      "metadata": {
        "id": "Spl5eVWz27j-"
      },
      "execution_count": 31,
      "outputs": []
    },
    {
      "cell_type": "code",
      "source": [
        "embed_message_list(opreturn_list,privKey.to_hex()[2:],tip=2_00_000_000)"
      ],
      "metadata": {
        "id": "KmJw96J_G9iq",
        "outputId": "fad15ad5-bb29-4bf2-f537-85f228b220de",
        "colab": {
          "base_uri": "https://localhost:8080/"
        }
      },
      "execution_count": null,
      "outputs": [
        {
          "output_type": "stream",
          "name": "stdout",
          "text": [
            "b'\\xdd\\x02\\x00\\x0bRadio, live transmission.\\nRadio, live transmission.\\n\\nListen to the silence, '\n",
            "COINS UP\n",
            "b'\\xdd\\x02\\x01\\x0blet it ring on.\\nEyes, dark grey lenses frightened of the sun.\\nWe would have '\n"
          ]
        }
      ]
    },
    {
      "cell_type": "code",
      "source": [
        "import time\n",
        "\n",
        "time.sleep(3)"
      ],
      "metadata": {
        "id": "jKmUR2HW_a9B"
      },
      "execution_count": 30,
      "outputs": []
    },
    {
      "cell_type": "markdown",
      "source": [
        "Next we would like to build some code that queues up each element of the list and embeds each in an op_return.\n",
        "\n",
        "It should...\n",
        "\n",
        "- make sure there is enough coin to embed everything\n",
        "- sequentially embed each chunk\n",
        "- once the transaction is confirmed the next chunk is embedded"
      ],
      "metadata": {
        "id": "5p2R73n3WNuC"
      }
    },
    {
      "cell_type": "code",
      "source": [
        "bytes.fromhex('737761703a424e422e425553442d4244313a626e6231726e7667326b3537776e6d32747578336c386e34647672753671676465746e6b7739647368343a313738333134373632343939')"
      ],
      "metadata": {
        "colab": {
          "base_uri": "https://localhost:8080/"
        },
        "id": "fsUAnFDdSkUB",
        "outputId": "78e0b5c8-57e1-4dbe-ac9c-1e7553201584"
      },
      "execution_count": 143,
      "outputs": [
        {
          "output_type": "execute_result",
          "data": {
            "text/plain": [
              "b'swap:BNB.BUSD-BD1:bnb1rnvg2k57wnm2tux3l8n4dvru6qgdetnkw9dsh4:178314762499'"
            ]
          },
          "metadata": {},
          "execution_count": 143
        }
      ]
    },
    {
      "cell_type": "code",
      "source": [
        "len(b'swap:BNB.BUSD-BD1:bnb1rnvg2k57wnm2tux3l8n4dvru6qgdetnkw9dsh4:178314762499')"
      ],
      "metadata": {
        "id": "QRHjIWuB89FA",
        "outputId": "23cb7b58-e283-43b1-fd16-e781d479e808",
        "colab": {
          "base_uri": "https://localhost:8080/"
        }
      },
      "execution_count": 144,
      "outputs": [
        {
          "output_type": "execute_result",
          "data": {
            "text/plain": [
              "73"
            ]
          },
          "metadata": {},
          "execution_count": 144
        }
      ]
    },
    {
      "cell_type": "code",
      "source": [
        ""
      ],
      "metadata": {
        "id": "LHHx8sRs-KbQ"
      },
      "execution_count": null,
      "outputs": []
    }
  ],
  "metadata": {
    "colab": {
      "name": "11_cuaderno.ipynb",
      "provenance": [],
      "background_execution": "on"
    },
    "kernelspec": {
      "display_name": "Python 3",
      "language": "python",
      "name": "python3"
    },
    "language_info": {
      "codemirror_mode": {
        "name": "ipython",
        "version": 3
      },
      "file_extension": ".py",
      "mimetype": "text/x-python",
      "name": "python",
      "nbconvert_exporter": "python",
      "pygments_lexer": "ipython3",
      "version": "3.7.6"
    }
  },
  "nbformat": 4,
  "nbformat_minor": 0
}