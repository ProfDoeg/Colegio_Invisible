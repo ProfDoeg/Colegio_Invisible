{
  "cells": [
    {
      "cell_type": "markdown",
      "metadata": {
        "id": "VvuVL0P4VxMP"
      },
      "source": [
        "#Op Return\n",
        "\n",
        "<a href=\"https://colab.research.google.com/github/ProfDoeg/Colegio_Invisible/blob/master/11_cuaderno.ipynb\" target=\"_parent\"><img src=\"https://colab.research.google.com/assets/colab-badge.svg\" alt=\"Open In Colab\"/></a>"
      ]
    },
    {
      "cell_type": "markdown",
      "metadata": {
        "id": "wM-07E7SjTJW"
      },
      "source": [
        "# Preparar el Espacio (Prepare the Space)"
      ]
    },
    {
      "cell_type": "code",
      "execution_count": null,
      "metadata": {
        "id": "wSOgJBxoVxMU",
        "colab": {
          "base_uri": "https://localhost:8080/"
        },
        "outputId": "8ba1151d-422b-45fa-aaf7-9827f8e3efe5"
      },
      "outputs": [
        {
          "output_type": "stream",
          "name": "stdout",
          "text": [
            "Requirement already satisfied: eciespy in /usr/local/lib/python3.7/dist-packages (0.3.11)\n",
            "Requirement already satisfied: eth_keys in /usr/local/lib/python3.7/dist-packages (0.3.4)\n",
            "Requirement already satisfied: cryptos in /usr/local/lib/python3.7/dist-packages (1.36)\n",
            "Requirement already satisfied: qrcode in /usr/local/lib/python3.7/dist-packages (7.3.1)\n",
            "Requirement already satisfied: base58 in /usr/local/lib/python3.7/dist-packages (2.1.1)\n",
            "Requirement already satisfied: coincurve<16,>=13 in /usr/local/lib/python3.7/dist-packages (from eciespy) (15.0.1)\n",
            "Requirement already satisfied: pycryptodome<4.0.0,>=3.9.9 in /usr/local/lib/python3.7/dist-packages (from eciespy) (3.14.1)\n",
            "Requirement already satisfied: eth-utils<2.0.0,>=1.8.2 in /usr/local/lib/python3.7/dist-packages (from eth_keys) (1.10.0)\n",
            "Requirement already satisfied: eth-typing<3.0.0,>=2.2.1 in /usr/local/lib/python3.7/dist-packages (from eth_keys) (2.3.0)\n",
            "Requirement already satisfied: asn1crypto in /usr/local/lib/python3.7/dist-packages (from coincurve<16,>=13->eciespy) (1.5.1)\n",
            "Requirement already satisfied: cffi>=1.3.0 in /usr/local/lib/python3.7/dist-packages (from coincurve<16,>=13->eciespy) (1.15.0)\n",
            "Requirement already satisfied: pycparser in /usr/local/lib/python3.7/dist-packages (from cffi>=1.3.0->coincurve<16,>=13->eciespy) (2.21)\n",
            "Requirement already satisfied: eth-hash<0.4.0,>=0.3.1 in /usr/local/lib/python3.7/dist-packages (from eth-utils<2.0.0,>=1.8.2->eth_keys) (0.3.2)\n",
            "Requirement already satisfied: cytoolz<1.0.0,>=0.10.1 in /usr/local/lib/python3.7/dist-packages (from eth-utils<2.0.0,>=1.8.2->eth_keys) (0.11.2)\n",
            "Requirement already satisfied: toolz>=0.8.0 in /usr/local/lib/python3.7/dist-packages (from cytoolz<1.0.0,>=0.10.1->eth-utils<2.0.0,>=1.8.2->eth_keys) (0.11.2)\n",
            "fatal: destination path 'Colegio_Invisible' already exists and is not an empty directory.\n"
          ]
        }
      ],
      "source": [
        "! pip install eciespy eth_keys cryptos qrcode base58 \n",
        "! git clone https://github.com/ProfDoeg/Colegio_Invisible.git"
      ]
    },
    {
      "cell_type": "markdown",
      "metadata": {
        "id": "A1DQRCdLxW9P"
      },
      "source": [
        ""
      ]
    },
    {
      "cell_type": "markdown",
      "metadata": {
        "id": "N9BkUDVqjgdA"
      },
      "source": [
        "# Crear Transacciones de Criptomoneda (Create Cryptocurrency Transactions)\n",
        "\n",
        "## Esquema (Outline) \n",
        "\n",
        "***\n",
        "\n",
        " \n",
        "## Metas (Goals)\n",
        "***\n",
        "***\n",
        "By the end of this notebook you should be able to:\n",
        "***\n",
        "Al final de este cuaderno, usted debería ser capaz de:\n",
        "***\n",
        "***\n",
        "- Multisig\n",
        "-"
      ]
    },
    {
      "cell_type": "markdown",
      "metadata": {
        "id": "BETMcDza0M2m"
      },
      "source": [
        "# Importaciones y Definiciones (Imports and Definitions)\n",
        "\n",
        "Crear funciones para importar claves y direcciones de criptomonedas.\n",
        "***\n",
        "Create functions for importing keys and cryptocurrency addresses."
      ]
    },
    {
      "cell_type": "code",
      "execution_count": 103,
      "metadata": {
        "id": "phMoOlb1VxMT"
      },
      "outputs": [],
      "source": [
        "import pandas as pd\n",
        "from cryptos.py3specials import safe_hexlify, from_string_to_bytes, from_int_to_byte, from_string_to_bytes\n",
        "from cryptos import serialize,deserialize\n",
        "\n",
        "import hashlib\n",
        "import os\n",
        "import getpass\n",
        "import ecies\n",
        "import eth_keys\n",
        "import cryptos\n",
        "import qrcode\n",
        "import base58\n",
        "from PIL import Image\n",
        "import matplotlib.pyplot as plt\n",
        "%matplotlib inline"
      ]
    },
    {
      "cell_type": "code",
      "execution_count": 104,
      "metadata": {
        "id": "sPi_0BLRWa1z"
      },
      "outputs": [],
      "source": [
        "def import_privKey(privkey_filepath,password=None):\n",
        "    if password==None:\n",
        "        password = getpass.getpass(\"Input password for decrypting keyfile: \")\n",
        "    password=password.encode()\n",
        "    f=open(privkey_filepath,'rb')\n",
        "    decrypted_bytes=ecies.aes_decrypt(key=hashlib.sha256(password).digest(),cipher_text=f.read())\n",
        "    privKey=eth_keys.keys.PrivateKey(decrypted_bytes)\n",
        "    return privKey\n",
        "\n",
        "def import_pubKey(pubkey_filepath):\n",
        "    f=open(pubkey_filepath,'rb')\n",
        "    privKey=eth_keys.keys.PublicKey(f.read())\n",
        "    return privKey\n",
        "\n",
        "def import_addr(addr_filepath):\n",
        "    return open(addr_filepath,'rb').read().decode()\n",
        "\n",
        "def only_conf(utxos):\n",
        "    return [utxo for utxo in utxos\n",
        "            if doge.fetchtx(utxo['output'].split(':')[0])['confirmations']>0]\n",
        "\n",
        "def mk_opreturn(msg, rawtx=None, json=0):\n",
        "    \n",
        "    def op_push(data):\n",
        "        if type(data) == bytes:\n",
        "            bytedata=data\n",
        "        else:\n",
        "            bytedata=data.encode()\n",
        "        import struct\n",
        "        if len(data) < 0x4c:\n",
        "            return from_int_to_byte(len(bytedata)) + bytedata\n",
        "        elif len(data) < 0xff:\n",
        "            return from_int_to_byte(76) + struct.pack('<B', len(bytedata)) + bytedata\n",
        "        elif len(data) < 0xffff:\n",
        "            return from_int_to_byte(77) + struct.pack('<H', len(bytedata)) + bytedata\n",
        "        elif len(data) < 0xffffffff:\n",
        "            return from_int_to_byte(78) + struct.pack('<I', len(bytedata)) + bytedata\n",
        "        else: raise Exception(\"Input data error. Rawtx must be hex chars\" \\\n",
        "                            + \"0xffffffff > len(data) > 0\")\n",
        "\n",
        "    orhex = safe_hexlify(b'\\x6a' + op_push(msg))\n",
        "    orjson = {'script' : orhex, 'value' : 0}\n",
        "    if rawtx is not None:\n",
        "        try:\n",
        "            txo = deserialize(rawtx)\n",
        "            if not 'outs' in txo.keys(): raise Exception(\"OP_Return cannot be the sole output!\")\n",
        "            txo['outs'].append(orjson)\n",
        "            newrawtx = serialize(txo)\n",
        "            return newrawtx\n",
        "        except Exception as E:\n",
        "            print(E)\n",
        "            print(type(E))\n",
        "            raise Exception(\"Raw Tx Error!\")\n",
        "    return orhex if not json else orjson"
      ]
    },
    {
      "cell_type": "markdown",
      "metadata": {
        "id": "yOcQvpiFXag0"
      },
      "source": [
        "# Comenzar con Claves Existentes (Start with Existing Keys)\n",
        "\n",
        "Acceder a las claves generadas en el cuaderno 5\n",
        "***\n",
        "Access the keys generated in the cuaderno 5"
      ]
    },
    {
      "cell_type": "markdown",
      "metadata": {
        "id": "0kYYEFx40an1"
      },
      "source": [
        "## Comenzar con Claves en Google Drive (Start with Keys on Google Drive)"
      ]
    },
    {
      "cell_type": "code",
      "execution_count": 105,
      "metadata": {
        "id": "DLmgNafNWa5O",
        "colab": {
          "base_uri": "https://localhost:8080/"
        },
        "outputId": "2652036d-28c5-4711-ba98-24904ba0006f"
      },
      "outputs": [
        {
          "output_type": "stream",
          "name": "stdout",
          "text": [
            "Drive already mounted at /content/drive; to attempt to forcibly remount, call drive.mount(\"/content/drive\", force_remount=True).\n"
          ]
        }
      ],
      "source": [
        "from google.colab import drive\n",
        "drive.mount('/content/drive')"
      ]
    },
    {
      "cell_type": "code",
      "execution_count": 106,
      "metadata": {
        "id": "x6oDx7tbWa72",
        "colab": {
          "base_uri": "https://localhost:8080/"
        },
        "outputId": "213a24c9-7aff-48e5-dcdc-5d6c8d4719be"
      },
      "outputs": [
        {
          "output_type": "stream",
          "name": "stdout",
          "text": [
            "Archive:  llaves.zip\n",
            "replace llaves/mi_addr.bin? [y]es, [n]o, [A]ll, [N]one, [r]ename: Y\n",
            " extracting: llaves/mi_addr.bin      \n",
            "replace llaves/mi_addr.png? [y]es, [n]o, [A]ll, [N]one, [r]ename: A\n",
            " extracting: llaves/mi_addr.png      \n",
            " extracting: llaves/mi_pub.bin       \n",
            " extracting: llaves/mi_prv.enc       \n"
          ]
        }
      ],
      "source": [
        "! cp drive/MyDrive/cinv/llaves.zip llaves.zip \n",
        "! unzip llaves.zip\n"
      ]
    },
    {
      "cell_type": "markdown",
      "metadata": {
        "id": "sPvP5mkdcRu6"
      },
      "source": [
        "## Comenzar con Claves en la Disco Local\n",
        "## (Start with Keys on Local Drive)"
      ]
    },
    {
      "cell_type": "code",
      "execution_count": null,
      "metadata": {
        "id": "HIfCIuaRWa_b"
      },
      "outputs": [],
      "source": [
        "#from google.colab import files\n",
        "#fu=files.upload();"
      ]
    },
    {
      "cell_type": "code",
      "execution_count": null,
      "metadata": {
        "id": "Mk7eTjCPWbCS"
      },
      "outputs": [],
      "source": [
        "#! unzip llaves.zip"
      ]
    },
    {
      "cell_type": "code",
      "execution_count": null,
      "metadata": {
        "id": "hmAorBMjeA8j"
      },
      "outputs": [],
      "source": [
        "#! ls llaves"
      ]
    },
    {
      "cell_type": "markdown",
      "metadata": {
        "id": "QCY7Dye8dlXo"
      },
      "source": [
        "# Import Private Key, Public Key and Address"
      ]
    },
    {
      "cell_type": "code",
      "execution_count": 107,
      "metadata": {
        "id": "P6sggp7WdmQ7",
        "colab": {
          "base_uri": "https://localhost:8080/",
          "height": 290
        },
        "outputId": "fbc604e0-efbd-49c7-d5ea-1bcd84df4791"
      },
      "outputs": [
        {
          "output_type": "display_data",
          "data": {
            "text/plain": [
              "<IPython.core.display.Image object>"
            ],
            "image/png": "[encoded data removed]"
          },
          "metadata": {}
        },
        {
          "output_type": "display_data",
          "data": {
            "text/plain": [
              "'0x7c88e9a4df6e9f45656c10bf66f28e28be235a15b64820b254f1b9eb2738314e6769f5c94da0c7640ffe76dcffca053b07a0804cd53a1c51ad03bfe0133ce8c5'"
            ],
            "application/vnd.google.colaboratory.intrinsic+json": {
              "type": "string"
            }
          },
          "metadata": {}
        },
        {
          "output_type": "display_data",
          "data": {
            "text/plain": [
              "'D6zKNnkupqRbkB9p5rwix8QiobQWJazjyX'"
            ],
            "application/vnd.google.colaboratory.intrinsic+json": {
              "type": "string"
            }
          },
          "metadata": {}
        }
      ],
      "source": [
        "from IPython.display import Image\n",
        "qr=Image('llaves/mi_addr.png')\n",
        "\n",
        "privKey=import_privKey('llaves/mi_prv.enc','')\n",
        "pub=import_pubKey('llaves/mi_pub.bin').to_hex()\n",
        "addr=import_addr('llaves/mi_addr.bin')\n",
        "\n",
        "display(qr)\n",
        "display(pub)\n",
        "display(addr)"
      ]
    },
    {
      "cell_type": "code",
      "source": [
        "message='''Radio, live transmission.\n",
        "Radio, live transmission.\n",
        "\n",
        "Listen to the silence, let it ring on.\n",
        "Eyes, dark grey lenses frightened of the sun.\n",
        "We would have a fine time living in the night,\n",
        "Left to blind destruction,\n",
        "Waiting for our sight.\n",
        "\n",
        "And we would go on as though nothing was wrong.\n",
        "And hide from these days we remained all alone.\n",
        "Staying in the same place, just staying out the time.\n",
        "Touching from a distance,\n",
        "Further all the time.\n",
        "\n",
        "Dance, dance, dance, dance, dance, to the radio.\n",
        "Dance, dance, dance, dance, dance, to the radio...\n",
        "\n",
        "Well I could call out when the going gets tough.\n",
        "The things that we've learnt are no longer enough.\n",
        "No language, just sound, that's all we need know,\n",
        "To synchronise love to the beat of the show.\n",
        "\n",
        "And we could dance.\n",
        "\n",
        "Dance, dance, dance, dance, dance, to the radio.\n",
        "Dance, dance, dance, dance, dance, to the radio...\n",
        "'''.encode()"
      ],
      "metadata": {
        "id": "ymwgS9GYQeKg"
      },
      "execution_count": null,
      "outputs": []
    },
    {
      "cell_type": "code",
      "source": [
        "message1='''Bajan\n",
        "\n",
        "Tengo tiempo para saber\n",
        "Si lo que sueño concluye en algo\n",
        "No te apures ya más loco\n",
        "Porque es entonces cuando las horas\n",
        "Bajan, el día es vidrio sin sol\n",
        "Bajan, la noche te oculta la voz\n",
        "Y además vos querés sol\n",
        "Despacio también podés hallar la luna\n",
        "Viejo roble del camino, tus hojas siempre se agitan algo\n",
        "Nena, nena, que bien te ves\n",
        "Cuando en tus ojos no importa si las horas\n",
        "Bajan, la noche es día sin sol\n",
        "Bajan, el día que nunca acabó\n",
        "Y además vos sos el sol\n",
        "Despacio también podés ser la luna'''.encode()"
      ],
      "metadata": {
        "id": "bN1pA36Cqwv5"
      },
      "execution_count": null,
      "outputs": []
    },
    {
      "cell_type": "code",
      "source": [
        "message2='''Confusion in her eyes that says it all\n",
        "She's lost control\n",
        "And she's clinging to the nearest passerby\n",
        "She's lost control\n",
        "And she gave away the secrets of her past\n",
        "And said, \"I've lost control again\"\n",
        "And to the voice that told her when and where to act\n",
        "She said, \"I've lost control again\"\n",
        "And she turned around and took me by the hand\n",
        "And said, \"I've lost control again\"\n",
        "And how I'll never know just why or understand\n",
        "She said, \"I've lost control again\"\n",
        "And she screamed out, kicking on her side, and said\n",
        "\"I've lost control again\"\n",
        "And seized up on the floor, I thought she'd die\n",
        "She said, \"I've lost control\"\n",
        "She's lost control again\n",
        "She's lost control\n",
        "She's lost control again\n",
        "She's lost control\n",
        "That I had to phone her friend to state my case\n",
        "And say she's lost control again\n",
        "And she showed up all the errors and mistakes\n",
        "And said, \"I've lost control again\"\n",
        "And she expressed herself in many different ways\n",
        "Until she lost control again\n",
        "And walked upon the edge of no escape\n",
        "And laughed, \"I've lost control\"\n",
        "She's lost control again\n",
        "She's lost control\n",
        "She's lost control again\n",
        "She's lost control'''.encode()"
      ],
      "metadata": {
        "id": "BzXqXBk7VkDW"
      },
      "execution_count": 108,
      "outputs": []
    },
    {
      "cell_type": "code",
      "source": [
        "type(message)"
      ],
      "metadata": {
        "colab": {
          "base_uri": "https://localhost:8080/"
        },
        "id": "vcWjClQV4Qhr",
        "outputId": "56274136-75f5-4d86-f97c-f5d3bb2a212a"
      },
      "execution_count": null,
      "outputs": [
        {
          "output_type": "execute_result",
          "data": {
            "text/plain": [
              "bytes"
            ]
          },
          "metadata": {},
          "execution_count": 9
        }
      ]
    },
    {
      "cell_type": "code",
      "source": [
        "len(message1)"
      ],
      "metadata": {
        "colab": {
          "base_uri": "https://localhost:8080/"
        },
        "id": "S4JPuTbo4bsQ",
        "outputId": "7b2ac5d5-9691-42ce-c631-3dabb52c3272"
      },
      "execution_count": null,
      "outputs": [
        {
          "output_type": "execute_result",
          "data": {
            "text/plain": [
              "512"
            ]
          },
          "metadata": {},
          "execution_count": 70
        }
      ]
    },
    {
      "cell_type": "code",
      "source": [
        "list(range(0, len(message), 76))"
      ],
      "metadata": {
        "colab": {
          "base_uri": "https://localhost:8080/"
        },
        "id": "Ljt2GCjn4mQP",
        "outputId": "4b81c03d-83a9-4a19-e43e-6543bc751fa1"
      },
      "execution_count": null,
      "outputs": [
        {
          "output_type": "execute_result",
          "data": {
            "text/plain": [
              "[0, 76, 152, 228, 304, 380, 456, 532, 608, 684, 760, 836]"
            ]
          },
          "metadata": {},
          "execution_count": 12
        }
      ]
    },
    {
      "cell_type": "code",
      "source": [
        "#message='hello to the world. this is a message to everyone who likes gravy. slow down. it is not healthy. it is too thick and sloppy'.encode()\n",
        "n = 76 \n",
        "chunks = [message[i:i+n] for i in range(0, len(message), n)]\n",
        "chunks"
      ],
      "metadata": {
        "colab": {
          "base_uri": "https://localhost:8080/"
        },
        "id": "rHAZSMvAMLnW",
        "outputId": "ac8b7715-691b-4961-ab6a-f7b31642ecc1"
      },
      "execution_count": null,
      "outputs": [
        {
          "output_type": "execute_result",
          "data": {
            "text/plain": [
              "[b'Radio, live transmission.\\nRadio, live transmission.\\n\\nListen to the silence, ',\n",
              " b'let it ring on.\\nEyes, dark grey lenses frightened of the sun.\\nWe would have ',\n",
              " b'a fine time living in the night,\\nLeft to blind destruction,\\nWaiting for our ',\n",
              " b'sight.\\n\\nAnd we would go on as though nothing was wrong.\\nAnd hide from these ',\n",
              " b'days we remained all alone.\\nStaying in the same place, just staying out the ',\n",
              " b'time.\\nTouching from a distance,\\nFurther all the time.\\n\\nDance, dance, dance, ',\n",
              " b'dance, dance, to the radio.\\nDance, dance, dance, dance, dance, to the radio.',\n",
              " b\"..\\n\\nWell I could call out when the going gets tough.\\nThe things that we've l\",\n",
              " b\"earnt are no longer enough.\\nNo language, just sound, that's all we need know\",\n",
              " b',\\nTo synchronise love to the beat of the show.\\n\\nAnd we could dance.\\n\\nDance, ',\n",
              " b'dance, dance, dance, dance, to the radio.\\nDance, dance, dance, dance, dance,',\n",
              " b' to the radio...\\n']"
            ]
          },
          "metadata": {},
          "execution_count": 13
        }
      ]
    },
    {
      "cell_type": "code",
      "source": [
        "def pieces(bites,size):\n",
        "    return [bites[i:i+size] for i in range(0, len(bites), size)]"
      ],
      "metadata": {
        "id": "82AI9THBL7ok"
      },
      "execution_count": 109,
      "outputs": []
    },
    {
      "cell_type": "code",
      "source": [
        "def prepend_index(L):\n",
        "    return [ int(i).to_bytes(1, 'big')+int(len(L)-1).to_bytes(1, 'big')+chunk for i,chunk in enumerate(L)]"
      ],
      "metadata": {
        "id": "_Moi8ZzIVIXG"
      },
      "execution_count": 110,
      "outputs": []
    },
    {
      "cell_type": "code",
      "source": [
        "def prepend_head(L,byte_head):\n",
        "    return [ byte_head+chunk for chunk in L]\n",
        "\n",
        "# byte head contains leading byte \"\\xdd\" and byte to represent embed type\n",
        "# a single line text will be embed type \"\\x00\"\n",
        "# a single line hash will be embed type \"\\x01\"\n",
        "# a multiline text will be embed type \"\\x02\"\n",
        "# a multiline ecies encrypted text will be embed type \"\\x03\""
      ],
      "metadata": {
        "id": "O6sWIcLAs4ii"
      },
      "execution_count": 111,
      "outputs": []
    },
    {
      "cell_type": "code",
      "source": [
        "def multiline_setup(mensaje):\n",
        "    mensaje_partes=pieces(mensaje,76)\n",
        "    indexed_mensaje_partes=prepend_index(mensaje_partes)\n",
        "    return prepend_head(indexed_mensaje_partes,b'\\xdd\\x02')"
      ],
      "metadata": {
        "id": "XIOhnOWd0xoX"
      },
      "execution_count": 112,
      "outputs": []
    },
    {
      "cell_type": "code",
      "source": [
        "chunks=pieces(message,76)\n",
        "chunks"
      ],
      "metadata": {
        "colab": {
          "base_uri": "https://localhost:8080/"
        },
        "id": "WA1jWjkARJmN",
        "outputId": "6f994aa1-cf9d-4d35-f25f-392e24fc5450"
      },
      "execution_count": null,
      "outputs": [
        {
          "output_type": "execute_result",
          "data": {
            "text/plain": [
              "[b'Radio, live transmission.\\nRadio, live transmission.\\n\\nListen to the silence, ',\n",
              " b'let it ring on.\\nEyes, dark grey lenses frightened of the sun.\\nWe would have ',\n",
              " b'a fine time living in the night,\\nLeft to blind destruction,\\nWaiting for our ',\n",
              " b'sight.\\n\\nAnd we would go on as though nothing was wrong.\\nAnd hide from these ',\n",
              " b'days we remained all alone.\\nStaying in the same place, just staying out the ',\n",
              " b'time.\\nTouching from a distance,\\nFurther all the time.\\n\\nDance, dance, dance, ',\n",
              " b'dance, dance, to the radio.\\nDance, dance, dance, dance, dance, to the radio.',\n",
              " b\"..\\n\\nWell I could call out when the going gets tough.\\nThe things that we've l\",\n",
              " b\"earnt are no longer enough.\\nNo language, just sound, that's all we need know\",\n",
              " b',\\nTo synchronise love to the beat of the show.\\n\\nAnd we could dance.\\n\\nDance, ',\n",
              " b'dance, dance, dance, dance, to the radio.\\nDance, dance, dance, dance, dance,',\n",
              " b' to the radio...\\n']"
            ]
          },
          "metadata": {},
          "execution_count": 19
        }
      ]
    },
    {
      "cell_type": "code",
      "source": [
        "indexed_chunks=prepend_index(chunks)\n",
        "indexed_chunks"
      ],
      "metadata": {
        "colab": {
          "base_uri": "https://localhost:8080/"
        },
        "id": "bL03zboJTP3v",
        "outputId": "d3d4ffe6-b9f5-44c1-e5fd-afba6082dd92"
      },
      "execution_count": null,
      "outputs": [
        {
          "output_type": "execute_result",
          "data": {
            "text/plain": [
              "[b'\\x00\\x0bRadio, live transmission.\\nRadio, live transmission.\\n\\nListen to the silence, ',\n",
              " b'\\x01\\x0blet it ring on.\\nEyes, dark grey lenses frightened of the sun.\\nWe would have ',\n",
              " b'\\x02\\x0ba fine time living in the night,\\nLeft to blind destruction,\\nWaiting for our ',\n",
              " b'\\x03\\x0bsight.\\n\\nAnd we would go on as though nothing was wrong.\\nAnd hide from these ',\n",
              " b'\\x04\\x0bdays we remained all alone.\\nStaying in the same place, just staying out the ',\n",
              " b'\\x05\\x0btime.\\nTouching from a distance,\\nFurther all the time.\\n\\nDance, dance, dance, ',\n",
              " b'\\x06\\x0bdance, dance, to the radio.\\nDance, dance, dance, dance, dance, to the radio.',\n",
              " b\"\\x07\\x0b..\\n\\nWell I could call out when the going gets tough.\\nThe things that we've l\",\n",
              " b\"\\x08\\x0bearnt are no longer enough.\\nNo language, just sound, that's all we need know\",\n",
              " b'\\t\\x0b,\\nTo synchronise love to the beat of the show.\\n\\nAnd we could dance.\\n\\nDance, ',\n",
              " b'\\n\\x0bdance, dance, dance, dance, to the radio.\\nDance, dance, dance, dance, dance,',\n",
              " b'\\x0b\\x0b to the radio...\\n']"
            ]
          },
          "metadata": {},
          "execution_count": 20
        }
      ]
    },
    {
      "cell_type": "code",
      "source": [
        "headed_chunks=prepend_head(indexed_chunks,b'\\xdd\\x02')\n",
        "headed_chunks"
      ],
      "metadata": {
        "colab": {
          "base_uri": "https://localhost:8080/"
        },
        "id": "BqiMa6HTX9nB",
        "outputId": "978a95ab-3e34-480c-89bf-317c8cea6d4a"
      },
      "execution_count": null,
      "outputs": [
        {
          "output_type": "execute_result",
          "data": {
            "text/plain": [
              "[b'\\xdd\\x02\\x00\\x0bRadio, live transmission.\\nRadio, live transmission.\\n\\nListen to the silence, ',\n",
              " b'\\xdd\\x02\\x01\\x0blet it ring on.\\nEyes, dark grey lenses frightened of the sun.\\nWe would have ',\n",
              " b'\\xdd\\x02\\x02\\x0ba fine time living in the night,\\nLeft to blind destruction,\\nWaiting for our ',\n",
              " b'\\xdd\\x02\\x03\\x0bsight.\\n\\nAnd we would go on as though nothing was wrong.\\nAnd hide from these ',\n",
              " b'\\xdd\\x02\\x04\\x0bdays we remained all alone.\\nStaying in the same place, just staying out the ',\n",
              " b'\\xdd\\x02\\x05\\x0btime.\\nTouching from a distance,\\nFurther all the time.\\n\\nDance, dance, dance, ',\n",
              " b'\\xdd\\x02\\x06\\x0bdance, dance, to the radio.\\nDance, dance, dance, dance, dance, to the radio.',\n",
              " b\"\\xdd\\x02\\x07\\x0b..\\n\\nWell I could call out when the going gets tough.\\nThe things that we've l\",\n",
              " b\"\\xdd\\x02\\x08\\x0bearnt are no longer enough.\\nNo language, just sound, that's all we need know\",\n",
              " b'\\xdd\\x02\\t\\x0b,\\nTo synchronise love to the beat of the show.\\n\\nAnd we could dance.\\n\\nDance, ',\n",
              " b'\\xdd\\x02\\n\\x0bdance, dance, dance, dance, to the radio.\\nDance, dance, dance, dance, dance,',\n",
              " b'\\xdd\\x02\\x0b\\x0b to the radio...\\n']"
            ]
          },
          "metadata": {},
          "execution_count": 24
        }
      ]
    },
    {
      "cell_type": "code",
      "source": [
        "opreturn_list=multiline_setup(message)\n",
        "opreturn_list"
      ],
      "metadata": {
        "colab": {
          "base_uri": "https://localhost:8080/"
        },
        "id": "mNnt_g8Z0XfY",
        "outputId": "b8f9a777-50d8-47c1-a813-7afb83ac05c2"
      },
      "execution_count": null,
      "outputs": [
        {
          "output_type": "execute_result",
          "data": {
            "text/plain": [
              "[b'\\xdd\\x02\\x00\\x0bRadio, live transmission.\\nRadio, live transmission.\\n\\nListen to the silence, ',\n",
              " b'\\xdd\\x02\\x01\\x0blet it ring on.\\nEyes, dark grey lenses frightened of the sun.\\nWe would have ',\n",
              " b'\\xdd\\x02\\x02\\x0ba fine time living in the night,\\nLeft to blind destruction,\\nWaiting for our ',\n",
              " b'\\xdd\\x02\\x03\\x0bsight.\\n\\nAnd we would go on as though nothing was wrong.\\nAnd hide from these ',\n",
              " b'\\xdd\\x02\\x04\\x0bdays we remained all alone.\\nStaying in the same place, just staying out the ',\n",
              " b'\\xdd\\x02\\x05\\x0btime.\\nTouching from a distance,\\nFurther all the time.\\n\\nDance, dance, dance, ',\n",
              " b'\\xdd\\x02\\x06\\x0bdance, dance, to the radio.\\nDance, dance, dance, dance, dance, to the radio.',\n",
              " b\"\\xdd\\x02\\x07\\x0b..\\n\\nWell I could call out when the going gets tough.\\nThe things that we've l\",\n",
              " b\"\\xdd\\x02\\x08\\x0bearnt are no longer enough.\\nNo language, just sound, that's all we need know\",\n",
              " b'\\xdd\\x02\\t\\x0b,\\nTo synchronise love to the beat of the show.\\n\\nAnd we could dance.\\n\\nDance, ',\n",
              " b'\\xdd\\x02\\n\\x0bdance, dance, dance, dance, to the radio.\\nDance, dance, dance, dance, dance,',\n",
              " b'\\xdd\\x02\\x0b\\x0b to the radio...\\n']"
            ]
          },
          "metadata": {},
          "execution_count": 21
        }
      ]
    },
    {
      "cell_type": "code",
      "source": [
        "opreturn_list1=multiline_setup(message1)\n",
        "opreturn_list1"
      ],
      "metadata": {
        "id": "sCjYgtApsWa6",
        "outputId": "a08f8af1-f832-4338-aa92-22dbc5a921a5",
        "colab": {
          "base_uri": "https://localhost:8080/"
        }
      },
      "execution_count": 113,
      "outputs": [
        {
          "output_type": "execute_result",
          "data": {
            "text/plain": [
              "[b'\\xdd\\x02\\x00\\x06Bajan\\n\\nTengo tiempo para saber\\nSi lo que sue\\xc3\\xb1o concluye en algo\\nNo te apure',\n",
              " b'\\xdd\\x02\\x01\\x06s ya m\\xc3\\xa1s loco\\nPorque es entonces cuando las horas\\nBajan, el d\\xc3\\xada es vidrio ',\n",
              " b'\\xdd\\x02\\x02\\x06sin sol\\nBajan, la noche te oculta la voz\\nY adem\\xc3\\xa1s vos quer\\xc3\\xa9s sol\\nDespacio ',\n",
              " b'\\xdd\\x02\\x03\\x06tambi\\xc3\\xa9n pod\\xc3\\xa9s hallar la luna\\nViejo roble del camino, tus hojas siempre se ',\n",
              " b'\\xdd\\x02\\x04\\x06agitan algo\\nNena, nena, que bien te ves\\nCuando en tus ojos no importa si las',\n",
              " b'\\xdd\\x02\\x05\\x06 horas\\nBajan, la noche es d\\xc3\\xada sin sol\\nBajan, el d\\xc3\\xada que nunca acab\\xc3\\xb3\\nY ade',\n",
              " b'\\xdd\\x02\\x06\\x06m\\xc3\\xa1s vos sos el sol\\nDespacio tambi\\xc3\\xa9n pod\\xc3\\xa9s ser la luna']"
            ]
          },
          "metadata": {},
          "execution_count": 113
        }
      ]
    },
    {
      "cell_type": "code",
      "source": [
        "opreturn_list2=multiline_setup(message2)"
      ],
      "metadata": {
        "id": "5mlSRaNXWzjb"
      },
      "execution_count": 114,
      "outputs": []
    },
    {
      "cell_type": "code",
      "source": [
        "def embed_message_list(L,privkeyhex,tip=2_00_000_000):\n",
        "    import time\n",
        "    txn_ids=[]\n",
        "    doge=cryptos.Doge()\n",
        "    addy=doge.privtoaddr(privkeyhex)\n",
        "    doge_unspents=only_conf( doge.unspent(addy) )\n",
        "    doge_unspent_total=sum([unspent['value'] for unspent in doge_unspents])\n",
        "    if ( tip*len(L) + 3_00_000_000 ) > doge_unspent_total:\n",
        "        raise Exception(\"Not enough coins available\")\n",
        "    # at this point we know we have enough coins...\n",
        "    # now we will iterate through the list\n",
        "    for op_return in L:\n",
        "        print(op_return)\n",
        "    # make sure to wait for utxos to confirm, if not wait 10 sec\n",
        "        while True:\n",
        "            doge_unspents=only_conf( doge.unspent(addy) )\n",
        "            if doge_unspents != []:\n",
        "              print('COINS UP')\n",
        "              break\n",
        "            time.sleep(20)\n",
        "        doge_unspent_total=sum([unspent['value'] for unspent in doge_unspents]) \n",
        "        doge_gift=doge_unspent_total-tip\n",
        "        doge_outputs=[ {'value':doge_gift , 'address': addy}]\n",
        "        doge_tx=doge.mktx(doge_unspents,doge_outputs)\n",
        "        doge_serial_tx=cryptos.serialize(doge_tx)\n",
        "        doge_inscribed_serial_tx=mk_opreturn( op_return , doge_serial_tx)\n",
        "        doge_inscribed_tx=cryptos.deserialize(doge_inscribed_serial_tx)\n",
        "        doge_signed_inscribed_tx=doge.signall(doge_inscribed_tx,privkeyhex)\n",
        "        broadcast_doge_signed_inscribed_tx=doge.pushtx(doge_signed_inscribed_tx)\n",
        "        txn_ids.append(broadcast_doge_signed_inscribed_tx['data']['txid'])\n",
        "    return txn_ids"
      ],
      "metadata": {
        "id": "Spl5eVWz27j-"
      },
      "execution_count": 115,
      "outputs": []
    },
    {
      "cell_type": "code",
      "source": [
        "tt=embed_message_list(opreturn_list2,privKey.to_hex()[2:],tip=2_00_000_000)"
      ],
      "metadata": {
        "colab": {
          "base_uri": "https://localhost:8080/"
        },
        "id": "KmJw96J_G9iq",
        "outputId": "ec49a1be-f776-4e53-c944-411547f4ce59"
      },
      "execution_count": 127,
      "outputs": [
        {
          "metadata": {
            "tags": null
          },
          "name": "stdout",
          "output_type": "stream",
          "text": [
            "b\"\\xdd\\x02\\x00\\x0eConfusion in her eyes that says it all\\nShe's lost control\\nAnd she's clinging\"\n",
            "COINS UP\n",
            "b\"\\xdd\\x02\\x01\\x0e to the nearest passerby\\nShe's lost control\\nAnd she gave away the secrets of\"\n",
            "COINS UP\n",
            "b'\\xdd\\x02\\x02\\x0e her past\\nAnd said, \"I\\'ve lost control again\"\\nAnd to the voice that told her'\n",
            "COINS UP\n",
            "b'\\xdd\\x02\\x03\\x0e when and where to act\\nShe said, \"I\\'ve lost control again\"\\nAnd she turned ar'\n",
            "COINS UP\n",
            "b'\\xdd\\x02\\x04\\x0eound and took me by the hand\\nAnd said, \"I\\'ve lost control again\"\\nAnd how I\\'l'\n",
            "COINS UP\n",
            "b'\\xdd\\x02\\x05\\x0el never know just why or understand\\nShe said, \"I\\'ve lost control again\"\\nAnd '\n",
            "COINS UP\n",
            "b'\\xdd\\x02\\x06\\x0eshe screamed out, kicking on her side, and said\\n\"I\\'ve lost control again\"\\nAn'\n",
            "COINS UP\n",
            "b'\\xdd\\x02\\x07\\x0ed seized up on the floor, I thought she\\'d die\\nShe said, \"I\\'ve lost control\"\\n'\n",
            "COINS UP\n",
            "b\"\\xdd\\x02\\x08\\x0eShe's lost control again\\nShe's lost control\\nShe's lost control again\\nShe's l\"\n",
            "COINS UP\n",
            "b\"\\xdd\\x02\\t\\x0eost control\\nThat I had to phone her friend to state my case\\nAnd say she's lo\"\n",
            "COINS UP\n",
            "b'\\xdd\\x02\\n\\x0est control again\\nAnd she showed up all the errors and mistakes\\nAnd said, \"I\\''\n",
            "COINS UP\n",
            "b'\\xdd\\x02\\x0b\\x0eve lost control again\"\\nAnd she expressed herself in many different ways\\nUnti'\n",
            "COINS UP\n",
            "b'\\xdd\\x02\\x0c\\x0el she lost control again\\nAnd walked upon the edge of no escape\\nAnd laughed, '\n",
            "COINS UP\n",
            "b'\\xdd\\x02\\r\\x0e\"I\\'ve lost control\"\\nShe\\'s lost control again\\nShe\\'s lost control\\nShe\\'s lost c'\n",
            "COINS UP\n",
            "b\"\\xdd\\x02\\x0e\\x0eontrol again\\nShe's lost control\"\n",
            "COINS UP\n"
          ]
        }
      ]
    },
    {
      "cell_type": "code",
      "source": [
        "doge=cryptos.Doge()"
      ],
      "metadata": {
        "id": "6xvFQKAIX93i"
      },
      "execution_count": 128,
      "outputs": []
    },
    {
      "cell_type": "code",
      "source": [
        "H=doge.history('D6zKNnkupqRbkB9p5rwix8QiobQWJazjyX')\n"
      ],
      "metadata": {
        "id": "gAhpgoBJNpOj"
      },
      "execution_count": null,
      "outputs": []
    },
    {
      "cell_type": "code",
      "source": [
        "lyric_txs=[ tx['txid'] for tx in H['data']['txs'][:13]][::-1]\n",
        "#print(lyric_txs.pop(7))\n",
        "lyric_txs"
      ],
      "metadata": {
        "colab": {
          "base_uri": "https://localhost:8080/"
        },
        "id": "iq0szIWXO42S",
        "outputId": "a97bc6ce-887f-4b3d-94cb-be1870f4399f"
      },
      "execution_count": null,
      "outputs": [
        {
          "output_type": "execute_result",
          "data": {
            "text/plain": [
              "['49c862b789f6d4b9d681e5c4cb8523157f730cb7f108a71ae2a9bbb77c7d95f4',\n",
              " '4a3c2a16db96681b4351b3bb642d12e69a27f1f695323ef5dd1b4c5628cd8127',\n",
              " '58f58c2d1694653a8396f0feae41f00a1852fe4a6b6ba782d72e22f93720a9ba',\n",
              " 'f30809fbe7ccba952712695bf827f9595744d4c8ae9fb5f6a8d7d21b39960024',\n",
              " '48192af05a3aaf8cf8b3eaae01aa280573cf2f4e402a94e3fdda0748a45fd341',\n",
              " '0bb797690b76e7c678d06565220ba7dcdbafed92373ea22fe49494a7e0f55fe5',\n",
              " 'c24330aaa69b0b6ec7ec04824a4eed28982d6c6d049adc986705945fc96db6d5',\n",
              " 'b0821e8b53e2985c59f06d32318ae89743943e3d901ca7d95b6dd1d453f0d56b',\n",
              " 'a76fbc9a793ecacabf28ee12ecb1716dbabe315e3b6fd58f0d3dc04b73bac1ae',\n",
              " '471720c333030d8c16c1ca35ddfab6705a2ca8d39d09dde37f486616b63972ba',\n",
              " '466ee54dbb8df470c075fd397274fee5f0c66e318c2be2cfa229fc88671cdec3',\n",
              " 'b8ec2f72fd103ba895ca0c61a2bc6af84129fc5d924f6cd435be572b4183ed5c',\n",
              " '91d9f1573bacfac0e781764e5598318e1f9c00d22002db680e827469f268c7a8']"
            ]
          },
          "metadata": {},
          "execution_count": 36
        }
      ]
    },
    {
      "cell_type": "code",
      "source": [
        "lyric_txs1=['74de5e9bf0c292287e08c201d26676e26a5c2f21ddb639e9268af6d52d0e0c1c',\n",
        " 'd5e4be06e1b631a28d2bbea11b8e2ba0bbcae0c0a9bb44041fca368f65782b84',\n",
        " '50b6d86e343b7f34e28ca4ba09ec80da4b1c3a1d541a0c6718290d134301c5ef',\n",
        " 'd163ae8b500eb3d5b32112b8fe60a8c089f424c4649afd3f8d29bf99fe2f4280',\n",
        " 'bff8132fe5a0629cb2ea364c476c588da6fc0a2cd6d25738ae905082894de4b3',\n",
        " '352cc874e23088f47bf7d5bc195063dc30b62e88acb3ffcb2d97fc48cd704c60',\n",
        " '5eb370b059634ac152c1abf834f869dd7937e43f7c21ef6418022d3551f4766f']"
      ],
      "metadata": {
        "id": "VtK1AYuFwyw3"
      },
      "execution_count": null,
      "outputs": []
    },
    {
      "cell_type": "code",
      "source": [
        "[ output['script'] for output in doge.fetchtx(lyric_txs[0])['outputs'] if 'OP_RETURN' in output['script']][0][10:]"
      ],
      "metadata": {
        "colab": {
          "base_uri": "https://localhost:8080/",
          "height": 53
        },
        "id": "C0-qe23oYTK0",
        "outputId": "20dc8798-d826-4170-a6a2-90dae4398055"
      },
      "execution_count": null,
      "outputs": [
        {
          "output_type": "execute_result",
          "data": {
            "text/plain": [
              "'dd02000b526164696f2c206c697665207472616e736d697373696f6e2e0a526164696f2c206c697665207472616e736d697373696f6e2e0a0a4c697374656e20746f207468652073696c656e63652c20'"
            ],
            "application/vnd.google.colaboratory.intrinsic+json": {
              "type": "string"
            }
          },
          "metadata": {},
          "execution_count": 37
        }
      ]
    },
    {
      "cell_type": "code",
      "source": [
        "def tx2opreturn(txn):\n",
        "    doge=cryptos.Doge()\n",
        "    return [ output['script'] for output in doge.fetchtx(txn)['outputs'] if 'OP_RETURN' in output['script']][0][10:]"
      ],
      "metadata": {
        "id": "CpKAvBW3Zh4n"
      },
      "execution_count": 129,
      "outputs": []
    },
    {
      "cell_type": "code",
      "source": [
        "opreturns=[bytes.fromhex(tx2opreturn(txn)) for txn in lyric_txs]\n",
        "opreturns"
      ],
      "metadata": {
        "colab": {
          "base_uri": "https://localhost:8080/"
        },
        "id": "Ah3jAiB92jCY",
        "outputId": "a0b5a24b-6a9c-49eb-e6f0-ce7c200cb4bb"
      },
      "execution_count": null,
      "outputs": [
        {
          "output_type": "execute_result",
          "data": {
            "text/plain": [
              "[b'\\xdd\\x02\\x00\\x0bRadio, live transmission.\\nRadio, live transmission.\\n\\nListen to the silence, ',\n",
              " b'\\xdd\\x02\\x01\\x0blet it ring on.\\nEyes, dark grey lenses frightened of the sun.\\nWe would have ',\n",
              " b'\\xdd\\x02\\x02\\x0ba fine time living in the night,\\nLeft to blind destruction,\\nWaiting for our ',\n",
              " b'\\xdd\\x02\\x03\\x0bsight.\\n\\nAnd we would go on as though nothing was wrong.\\nAnd hide from these ',\n",
              " b'\\xdd\\x02\\x04\\x0bdays we remained all alone.\\nStaying in the same place, just staying out the ',\n",
              " b'\\xdd\\x02\\x05\\x0btime.\\nTouching from a distance,\\nFurther all the time.\\n\\nDance, dance, dance, ',\n",
              " b'\\xdd\\x02\\x06\\x0bdance, dance, to the radio.\\nDance, dance, dance, dance, dance, to the radio.',\n",
              " b\"\\xdd\\x02\\x07\\x0b..\\n\\nWell I could call out when the going gets tough.\\nThe things that we've l\",\n",
              " b\"\\xdd\\x02\\x07\\x0b..\\n\\nWell I could call out when the going gets tough.\\nThe things that we've l\",\n",
              " b\"\\xdd\\x02\\x08\\x0bearnt are no longer enough.\\nNo language, just sound, that's all we need know\",\n",
              " b'\\xdd\\x02\\t\\x0b,\\nTo synchronise love to the beat of the show.\\n\\nAnd we could dance.\\n\\nDance, ',\n",
              " b'\\xdd\\x02\\n\\x0bdance, dance, dance, dance, to the radio.\\nDance, dance, dance, dance, dance,',\n",
              " b'\\xdd\\x02\\x0b\\x0b to the radio...\\n']"
            ]
          },
          "metadata": {},
          "execution_count": 42
        }
      ]
    },
    {
      "cell_type": "code",
      "source": [
        "import pandas as pd\n",
        "opreturns_series=pd.Series(opreturns)\n",
        "opreturns_series.drop_duplicates(inplace=True)\n",
        "opreturns=opreturns_series.to_list()\n",
        "opreturns"
      ],
      "metadata": {
        "colab": {
          "base_uri": "https://localhost:8080/"
        },
        "id": "dsJw7aWa5vXw",
        "outputId": "0e203e9e-a2bc-4b92-8f3e-9fd460b35018"
      },
      "execution_count": null,
      "outputs": [
        {
          "output_type": "execute_result",
          "data": {
            "text/plain": [
              "[b'\\xdd\\x02\\x00\\x0bRadio, live transmission.\\nRadio, live transmission.\\n\\nListen to the silence, ',\n",
              " b'\\xdd\\x02\\x01\\x0blet it ring on.\\nEyes, dark grey lenses frightened of the sun.\\nWe would have ',\n",
              " b'\\xdd\\x02\\x02\\x0ba fine time living in the night,\\nLeft to blind destruction,\\nWaiting for our ',\n",
              " b'\\xdd\\x02\\x03\\x0bsight.\\n\\nAnd we would go on as though nothing was wrong.\\nAnd hide from these ',\n",
              " b'\\xdd\\x02\\x04\\x0bdays we remained all alone.\\nStaying in the same place, just staying out the ',\n",
              " b'\\xdd\\x02\\x05\\x0btime.\\nTouching from a distance,\\nFurther all the time.\\n\\nDance, dance, dance, ',\n",
              " b'\\xdd\\x02\\x06\\x0bdance, dance, to the radio.\\nDance, dance, dance, dance, dance, to the radio.',\n",
              " b\"\\xdd\\x02\\x07\\x0b..\\n\\nWell I could call out when the going gets tough.\\nThe things that we've l\",\n",
              " b\"\\xdd\\x02\\x08\\x0bearnt are no longer enough.\\nNo language, just sound, that's all we need know\",\n",
              " b'\\xdd\\x02\\t\\x0b,\\nTo synchronise love to the beat of the show.\\n\\nAnd we could dance.\\n\\nDance, ',\n",
              " b'\\xdd\\x02\\n\\x0bdance, dance, dance, dance, to the radio.\\nDance, dance, dance, dance, dance,',\n",
              " b'\\xdd\\x02\\x0b\\x0b to the radio...\\n']"
            ]
          },
          "metadata": {},
          "execution_count": 59
        }
      ]
    },
    {
      "cell_type": "code",
      "source": [
        "[ opreturn[4:] for opreturn in opreturns] "
      ],
      "metadata": {
        "colab": {
          "base_uri": "https://localhost:8080/"
        },
        "id": "SMiE92-V_Pf6",
        "outputId": "b83a3454-d65d-405c-8504-1a4827051d9b"
      },
      "execution_count": null,
      "outputs": [
        {
          "output_type": "execute_result",
          "data": {
            "text/plain": [
              "[b'Radio, live transmission.\\nRadio, live transmission.\\n\\nListen to the silence, ',\n",
              " b'let it ring on.\\nEyes, dark grey lenses frightened of the sun.\\nWe would have ',\n",
              " b'a fine time living in the night,\\nLeft to blind destruction,\\nWaiting for our ',\n",
              " b'sight.\\n\\nAnd we would go on as though nothing was wrong.\\nAnd hide from these ',\n",
              " b'days we remained all alone.\\nStaying in the same place, just staying out the ',\n",
              " b'time.\\nTouching from a distance,\\nFurther all the time.\\n\\nDance, dance, dance, ',\n",
              " b'dance, dance, to the radio.\\nDance, dance, dance, dance, dance, to the radio.',\n",
              " b\"..\\n\\nWell I could call out when the going gets tough.\\nThe things that we've l\",\n",
              " b\"earnt are no longer enough.\\nNo language, just sound, that's all we need know\",\n",
              " b',\\nTo synchronise love to the beat of the show.\\n\\nAnd we could dance.\\n\\nDance, ',\n",
              " b'dance, dance, dance, dance, to the radio.\\nDance, dance, dance, dance, dance,',\n",
              " b' to the radio...\\n']"
            ]
          },
          "metadata": {},
          "execution_count": 62
        }
      ]
    },
    {
      "cell_type": "code",
      "source": [
        "[bytes.fromhex(tx2opreturn(txn)[8:]).decode() for txn in lyric_txs]"
      ],
      "metadata": {
        "colab": {
          "base_uri": "https://localhost:8080/"
        },
        "id": "E-FF_hizc-VO",
        "outputId": "fcc5cfb2-b28f-4214-85ee-4e791bb4db06"
      },
      "execution_count": null,
      "outputs": [
        {
          "output_type": "execute_result",
          "data": {
            "text/plain": [
              "['Radio, live transmission.\\nRadio, live transmission.\\n\\nListen to the silence, ',\n",
              " 'let it ring on.\\nEyes, dark grey lenses frightened of the sun.\\nWe would have ',\n",
              " 'a fine time living in the night,\\nLeft to blind destruction,\\nWaiting for our ',\n",
              " 'sight.\\n\\nAnd we would go on as though nothing was wrong.\\nAnd hide from these ',\n",
              " 'days we remained all alone.\\nStaying in the same place, just staying out the ',\n",
              " 'time.\\nTouching from a distance,\\nFurther all the time.\\n\\nDance, dance, dance, ',\n",
              " 'dance, dance, to the radio.\\nDance, dance, dance, dance, dance, to the radio.',\n",
              " \"..\\n\\nWell I could call out when the going gets tough.\\nThe things that we've l\",\n",
              " \"earnt are no longer enough.\\nNo language, just sound, that's all we need know\",\n",
              " ',\\nTo synchronise love to the beat of the show.\\n\\nAnd we could dance.\\n\\nDance, ',\n",
              " 'dance, dance, dance, dance, to the radio.\\nDance, dance, dance, dance, dance,',\n",
              " ' to the radio...\\n']"
            ]
          },
          "metadata": {},
          "execution_count": 30
        }
      ]
    },
    {
      "cell_type": "code",
      "source": [
        "print(''.join([bytes.fromhex(tx2opreturn(txn)[4:]).decode() for txn in lyric_txs]))"
      ],
      "metadata": {
        "colab": {
          "base_uri": "https://localhost:8080/"
        },
        "id": "sepK76szaO9e",
        "outputId": "2ba703fe-3470-4b4a-b341-81709d6ca1c8"
      },
      "execution_count": null,
      "outputs": [
        {
          "output_type": "stream",
          "name": "stdout",
          "text": [
            "Radio, live transmission.\n",
            "Radio, live transmission.\n",
            "\n",
            "Listen to the silence, let it ring on.\n",
            "Eyes, dark grey lenses frightened of the sun.\n",
            "We would have a fine time living in the night,\n",
            "Left to blind destruction,\n",
            "Waiting for our sight.\n",
            "\n",
            "And we would go on as though nothing was wrong.\n",
            "And hide from these days we remained all alone.\n",
            "Staying in the same place, just staying out the time.\n",
            "Touching from a distance,\n",
            "Further all the time.\n",
            "\n",
            "Dance, dance, dance, dance, dance, to the radio.\n",
            "Dance, dance, dance, dance, dance, to the radio...\n",
            "\n",
            "Well I could call out when the going gets tough.\n",
            "The things that we've learnt are no longer enough.\n",
            "No language, just sound, that's all we need know,\n",
            "To synchronise love to the beat of the show.\n",
            "\n",
            "And we could dance.\n",
            "\n",
            "Dance, dance, dance, dance, dance, to the radio.\n",
            "Dance, dance, dance, dance, dance, to the radio...\n",
            "\n"
          ]
        }
      ]
    },
    {
      "cell_type": "code",
      "source": [
        "def extract_multiline(txs):\n",
        "    import pandas as pd\n",
        "    byte_returns=[bytes.fromhex(tx2opreturn(txn)) for txn in txs]\n",
        "    unique_byte_returns=sorted(pd.Series(byte_returns).drop_duplicates().to_list())\n",
        "    return ''.join([elem[4:].decode() for elem in unique_byte_returns])"
      ],
      "metadata": {
        "id": "WIpgltJh-mrN"
      },
      "execution_count": 130,
      "outputs": []
    },
    {
      "cell_type": "code",
      "source": [
        "print(extract_multiline(tt))"
      ],
      "metadata": {
        "id": "3kPqvy5mgB0X",
        "outputId": "7a3800c4-2811-49d2-bc7b-2ebb1a5ef420",
        "colab": {
          "base_uri": "https://localhost:8080/"
        }
      },
      "execution_count": 131,
      "outputs": [
        {
          "output_type": "stream",
          "name": "stdout",
          "text": [
            "Confusion in her eyes that says it all\n",
            "She's lost control\n",
            "And she's clinging to the nearest passerby\n",
            "She's lost control\n",
            "And she gave away the secrets of her past\n",
            "And said, \"I've lost control again\"\n",
            "And to the voice that told her when and where to act\n",
            "She said, \"I've lost control again\"\n",
            "And she turned around and took me by the hand\n",
            "And said, \"I've lost control again\"\n",
            "And how I'll never know just why or understand\n",
            "She said, \"I've lost control again\"\n",
            "And she screamed out, kicking on her side, and said\n",
            "\"I've lost control again\"\n",
            "And seized up on the floor, I thought she'd die\n",
            "She said, \"I've lost control\"\n",
            "She's lost control again\n",
            "She's lost control\n",
            "She's lost control again\n",
            "She's lost control\n",
            "That I had to phone her friend to state my case\n",
            "And say she's lost control again\n",
            "And she showed up all the errors and mistakes\n",
            "And said, \"I've lost control again\"\n",
            "And she expressed herself in many different ways\n",
            "Until she lost control again\n",
            "And walked upon the edge of no escape\n",
            "And laughed, \"I've lost control\"\n",
            "She's lost control again\n",
            "She's lost control\n",
            "She's lost control again\n",
            "She's lost control\n"
          ]
        }
      ]
    },
    {
      "cell_type": "code",
      "source": [
        "joy_div=extract_multiline(lyric_txs)\n",
        "print(joy_div)"
      ],
      "metadata": {
        "colab": {
          "base_uri": "https://localhost:8080/"
        },
        "id": "poqoLghaboTO",
        "outputId": "026a04b9-2e17-4e3d-c589-742d5758f3fe"
      },
      "execution_count": null,
      "outputs": [
        {
          "output_type": "stream",
          "name": "stdout",
          "text": [
            "Radio, live transmission.\n",
            "Radio, live transmission.\n",
            "\n",
            "Listen to the silence, let it ring on.\n",
            "Eyes, dark grey lenses frightened of the sun.\n",
            "We would have a fine time living in the night,\n",
            "Left to blind destruction,\n",
            "Waiting for our sight.\n",
            "\n",
            "And we would go on as though nothing was wrong.\n",
            "And hide from these days we remained all alone.\n",
            "Staying in the same place, just staying out the time.\n",
            "Touching from a distance,\n",
            "Further all the time.\n",
            "\n",
            "Dance, dance, dance, dance, dance, to the radio.\n",
            "Dance, dance, dance, dance, dance, to the radio...\n",
            "\n",
            "Well I could call out when the going gets tough.\n",
            "The things that we've learnt are no longer enough.\n",
            "No language, just sound, that's all we need know,\n",
            "To synchronise love to the beat of the show.\n",
            "\n",
            "And we could dance.\n",
            "\n",
            "Dance, dance, dance, dance, dance, to the radio.\n",
            "Dance, dance, dance, dance, dance, to the radio...\n",
            "\n"
          ]
        }
      ]
    },
    {
      "cell_type": "code",
      "source": [
        "spineta=extract_multiline(lyric_txs1)\n",
        "print(spineta)"
      ],
      "metadata": {
        "id": "LWvxVdDdxBA1",
        "outputId": "ae050a5f-2cfb-4875-bc45-faefee185e9a",
        "colab": {
          "base_uri": "https://localhost:8080/"
        }
      },
      "execution_count": null,
      "outputs": [
        {
          "output_type": "stream",
          "name": "stdout",
          "text": [
            "Bajan\n",
            "\n",
            "Tengo tiempo para saber\n",
            "Si lo que sueño concluye en algo\n",
            "No te apures ya más loco\n",
            "Porque es entonces cuando las horas\n",
            "Bajan, el día es vidrio sin sol\n",
            "Bajan, la noche te oculta la voz\n",
            "Y además vos querés sol\n",
            "Despacio también podés hallar la luna\n",
            "Viejo roble del camino, tus hojas siempre se agitan algo\n",
            "Nena, nena, que bien te ves\n",
            "Cuando en tus ojos no importa si las horas\n",
            "Bajan, la noche es día sin sol\n",
            "Bajan, el día que nunca acabó\n",
            "Y además vos sos el sol\n",
            "Despacio también podés ser la luna\n"
          ]
        }
      ]
    },
    {
      "cell_type": "code",
      "source": [
        "#weird opreturn i found in dogecoin blockchain\n",
        "bytes.fromhex('737761703a424e422e425553442d4244313a626e6231726e7667326b3537776e6d32747578336c386e34647672753671676465746e6b7739647368343a313738333134373632343939')"
      ],
      "metadata": {
        "colab": {
          "base_uri": "https://localhost:8080/"
        },
        "id": "fsUAnFDdSkUB",
        "outputId": "78e0b5c8-57e1-4dbe-ac9c-1e7553201584"
      },
      "execution_count": null,
      "outputs": [
        {
          "output_type": "execute_result",
          "data": {
            "text/plain": [
              "b'swap:BNB.BUSD-BD1:bnb1rnvg2k57wnm2tux3l8n4dvru6qgdetnkw9dsh4:178314762499'"
            ]
          },
          "metadata": {},
          "execution_count": 143
        }
      ]
    },
    {
      "cell_type": "code",
      "source": [
        ""
      ],
      "metadata": {
        "id": "LHHx8sRs-KbQ"
      },
      "execution_count": null,
      "outputs": []
    }
  ],
  "metadata": {
    "colab": {
      "name": "11_cuaderno.ipynb",
      "provenance": [],
      "background_execution": "on"
    },
    "kernelspec": {
      "display_name": "Python 3",
      "language": "python",
      "name": "python3"
    },
    "language_info": {
      "codemirror_mode": {
        "name": "ipython",
        "version": 3
      },
      "file_extension": ".py",
      "mimetype": "text/x-python",
      "name": "python",
      "nbconvert_exporter": "python",
      "pygments_lexer": "ipython3",
      "version": "3.7.6"
    }
  },
  "nbformat": 4,
  "nbformat_minor": 0
}