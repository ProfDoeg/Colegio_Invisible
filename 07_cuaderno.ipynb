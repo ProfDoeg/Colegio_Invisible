{
 "cells": [
  {
   "cell_type": "markdown",
   "metadata": {
    "id": "VvuVL0P4VxMP"
   },
   "source": [
    "# Transacciones,\n",
    "# Entradas y Salidas,\n",
    "# y Transmisión\n",
    "\n",
    "<a href=\"https://colab.research.google.com/github/ProfDoeg/Colegio_Invisible/blob/master/06_cuaderno.ipynb\" target=\"_parent\"><img src=\"https://colab.research.google.com/assets/colab-badge.svg\" alt=\"Open In Colab\"/></a>"
   ]
  },
  {
   "cell_type": "markdown",
   "metadata": {
    "id": "wM-07E7SjTJW"
   },
   "source": [
    "# Preparar el Espacio (Prepare the Space)"
   ]
  },
  {
   "cell_type": "code",
   "execution_count": 16,
   "metadata": {
    "colab": {
     "base_uri": "https://localhost:8080/"
    },
    "id": "wSOgJBxoVxMU",
    "outputId": "0b714516-c028-4ed8-dd13-efe3832eb58b"
   },
   "outputs": [
    {
     "name": "stdout",
     "output_type": "stream",
     "text": [
      "Collecting eciespy\n",
      "  Downloading eciespy-0.3.11-py3-none-any.whl (11 kB)\n",
      "Collecting eth_keys\n",
      "  Downloading eth_keys-0.4.0-py3-none-any.whl (21 kB)\n",
      "Collecting cryptos\n",
      "  Downloading cryptos-1.36-py3-none-any.whl (69 kB)\n",
      "\u001b[K     |████████████████████████████████| 69 kB 3.9 MB/s \n",
      "\u001b[?25hCollecting qrcode\n",
      "  Downloading qrcode-7.3.1.tar.gz (43 kB)\n",
      "\u001b[K     |████████████████████████████████| 43 kB 1.2 MB/s \n",
      "\u001b[?25hCollecting base58\n",
      "  Downloading base58-2.1.1-py3-none-any.whl (5.6 kB)\n",
      "Collecting pycryptodome<4.0.0,>=3.9.9\n",
      "  Downloading pycryptodome-3.14.1-cp35-abi3-manylinux2010_x86_64.whl (2.0 MB)\n",
      "\u001b[K     |████████████████████████████████| 2.0 MB 33.9 MB/s \n",
      "\u001b[?25hCollecting coincurve<16,>=13\n",
      "  Downloading coincurve-15.0.1-cp37-cp37m-manylinux_2_17_x86_64.manylinux2014_x86_64.whl (555 kB)\n",
      "\u001b[K     |████████████████████████████████| 555 kB 72.0 MB/s \n",
      "\u001b[?25hCollecting eth_keys\n",
      "  Downloading eth_keys-0.3.4-py3-none-any.whl (21 kB)\n",
      "Collecting eth-typing<3.0.0,>=2.2.1\n",
      "  Downloading eth_typing-2.3.0-py3-none-any.whl (6.2 kB)\n",
      "Collecting eth-utils<2.0.0,>=1.8.2\n",
      "  Downloading eth_utils-1.10.0-py3-none-any.whl (24 kB)\n",
      "Requirement already satisfied: cffi>=1.3.0 in /usr/local/lib/python3.7/dist-packages (from coincurve<16,>=13->eciespy) (1.15.0)\n",
      "Collecting asn1crypto\n",
      "  Downloading asn1crypto-1.4.0-py2.py3-none-any.whl (104 kB)\n",
      "\u001b[K     |████████████████████████████████| 104 kB 43.2 MB/s \n",
      "\u001b[?25hRequirement already satisfied: pycparser in /usr/local/lib/python3.7/dist-packages (from cffi>=1.3.0->coincurve<16,>=13->eciespy) (2.21)\n",
      "Collecting cytoolz<1.0.0,>=0.10.1\n",
      "  Downloading cytoolz-0.11.2.tar.gz (481 kB)\n",
      "\u001b[K     |████████████████████████████████| 481 kB 55.1 MB/s \n",
      "\u001b[?25hCollecting eth-hash<0.4.0,>=0.3.1\n",
      "  Downloading eth_hash-0.3.2-py3-none-any.whl (8.8 kB)\n",
      "Requirement already satisfied: toolz>=0.8.0 in /usr/local/lib/python3.7/dist-packages (from cytoolz<1.0.0,>=0.10.1->eth-utils<2.0.0,>=1.8.2->eth_keys) (0.11.2)\n",
      "Building wheels for collected packages: cytoolz, qrcode\n",
      "  Building wheel for cytoolz (setup.py) ... \u001b[?25l\u001b[?25hdone\n",
      "  Created wheel for cytoolz: filename=cytoolz-0.11.2-cp37-cp37m-linux_x86_64.whl size=1230832 sha256=d1df807bd0543786b28deb7cee31fb15889d0f218ab756c053613c3830831395\n",
      "  Stored in directory: /root/.cache/pip/wheels/38/70/71/ca13ea3d36ccd0b3d0ec7d7a4ca67522048d695b556bba4f59\n",
      "  Building wheel for qrcode (setup.py) ... \u001b[?25l\u001b[?25hdone\n",
      "  Created wheel for qrcode: filename=qrcode-7.3.1-py3-none-any.whl size=40402 sha256=c9c57fa10d71ec403f2c8d158baae7ba491729fac032790486c6a260f21e7579\n",
      "  Stored in directory: /root/.cache/pip/wheels/93/d7/39/a4111be2cfb8e679938aa671a37888b6afb1f9e7d748e94492\n",
      "Successfully built cytoolz qrcode\n",
      "Installing collected packages: eth-typing, eth-hash, cytoolz, eth-utils, asn1crypto, pycryptodome, eth-keys, coincurve, qrcode, eciespy, cryptos, base58\n",
      "Successfully installed asn1crypto-1.4.0 base58-2.1.1 coincurve-15.0.1 cryptos-1.36 cytoolz-0.11.2 eciespy-0.3.11 eth-hash-0.3.2 eth-keys-0.3.4 eth-typing-2.3.0 eth-utils-1.10.0 pycryptodome-3.14.1 qrcode-7.3.1\n",
      "Cloning into 'Colegio_Invisible'...\n",
      "remote: Enumerating objects: 734, done.\u001b[K\n",
      "remote: Counting objects: 100% (548/548), done.\u001b[K\n",
      "remote: Compressing objects: 100% (523/523), done.\u001b[K\n",
      "remote: Total 734 (delta 374), reused 23 (delta 23), pack-reused 186\u001b[K\n",
      "Receiving objects: 100% (734/734), 51.96 MiB | 19.10 MiB/s, done.\n",
      "Resolving deltas: 100% (486/486), done.\n"
     ]
    }
   ],
   "source": [
    "! pip install eciespy eth_keys cryptos qrcode base58 \n",
    "! git clone https://github.com/ProfDoeg/Colegio_Invisible.git"
   ]
  },
  {
   "cell_type": "markdown",
   "metadata": {
    "id": "A1DQRCdLxW9P"
   },
   "source": [
    "# Historias\n",
    "\n",
    "<img src=\"https://github.com/ProfDoeg/Colegio_Invisible/raw/main/img/rump_final.jpeg\" width=\"250\"/>\n",
    "\n",
    "***ilocución***: un acto de hablar o escribir que en sí mismo efectúa o constituye la acción intencionada\n",
    "***\n",
    "\n",
    "***illocution***: an act of speaking or writing which in itself effects or constitutes the intended action"
   ]
  },
  {
   "cell_type": "markdown",
   "metadata": {
    "id": "N9BkUDVqjgdA"
   },
   "source": [
    "# Crear Transacciones de Criptomoneda (Create Cryptocurrency Transactions)\n",
    "\n",
    "## Esquema (Outline) \n",
    "Esta será una introducción a las transacciones de criptomonedas. Los participantes se conectan a la red del Colegio Invisible y publican su dirección criptográfica para recibir monedas. La transacción de financiación se construye, firma y transmite. Una vez que se confirma la transacción de financiación, los participantes devuelven las monedas construyendo, firmando y transmitiendo.\n",
    "***\n",
    "This will be an introduction to cryptocurrency transactions. Participants connect to the Invisible College network and post their crypto address to receive coins. The funding transaction is constructed, signed and broadcast. Once the funding transaction confirms, participants return the coins by constructing, signing, and broadcasting.\n",
    " \n",
    "## Metas (Goals)\n",
    "***\n",
    "***\n",
    "By the end of this notebook you should be able to:\n",
    "***\n",
    "Al final de este cuaderno, usted debería ser capaz de:\n",
    "***\n",
    "***\n",
    "- Comprender la estructura de una transacción de Bitcoin/Dogecoin\\\n",
    "(Understand the structure of a Bitcoin/Dogecoin transaction)\n",
    "- Importar las claves\\\n",
    "(Import Keys)\n",
    "- Conectarse a Google Sheets compartidas\\\n",
    "(Connect to shared Google Sheets)\n",
    "- Publicar la dirección\\\n",
    "(Post address)\n",
    "- Consultar las otras direcciones\\\n",
    "(Query the addresses)\n",
    "- Recibir criptomonedas\\\n",
    "(Receive crypto coins)\n",
    "- Comprender UTXO las salidas de transacciones no gastadas\\\n",
    "(Understand UTXO Unspent Transaction Outputs)\n",
    "- Comprender las entradas y salidas de transacciones\\\n",
    "(Understand Transaction Inputs and Outputs)\n",
    "- Construir la transacción\\\n",
    "(Construct the transaction)\n",
    "- Firmar transacción\\\n",
    "(Sign transaction)\n",
    "- Convertir transacción a hexadecimal\\\n",
    "(Convert transaction to hex)\n",
    "- Transmitir la transacción\\\n",
    "(Broadcast transaction)\n",
    "- Supervisar la red para la confirmación\\\n",
    "(Monitor the network for confirmation)"
   ]
  },
  {
   "cell_type": "markdown",
   "metadata": {
    "id": "BETMcDza0M2m"
   },
   "source": [
    "# Importaciones y Definiciones (Imports and Definitions)\n",
    "\n",
    "Crear funciones para importar claves y direcciones de criptomonedas.\n",
    "***\n",
    "Create functions for importing keys and cryptocurrency addresses."
   ]
  },
  {
   "cell_type": "code",
   "execution_count": 17,
   "metadata": {
    "id": "phMoOlb1VxMT"
   },
   "outputs": [],
   "source": [
    "import hashlib\n",
    "import os\n",
    "import getpass\n",
    "import ecies\n",
    "import eth_keys\n",
    "import cryptos\n",
    "import qrcode\n",
    "import base58\n",
    "from PIL import Image\n",
    "import matplotlib.pyplot as plt\n",
    "%matplotlib inline"
   ]
  },
  {
   "cell_type": "code",
   "execution_count": 18,
   "metadata": {
    "id": "sPi_0BLRWa1z"
   },
   "outputs": [],
   "source": [
    "def import_privKey(privkey_filepath,password=None):\n",
    "    if password==None:\n",
    "        password = getpass.getpass(\"Input password for decrypting keyfile: \")\n",
    "    password=password.encode()\n",
    "    f=open(privkey_filepath,'rb')\n",
    "    decrypted_bytes=ecies.aes_decrypt(key=hashlib.sha256(password).digest(),cipher_text=f.read())\n",
    "    privKey=eth_keys.keys.PrivateKey(decrypted_bytes)\n",
    "    return privKey\n",
    "\n",
    "def import_pubKey(pubkey_filepath):\n",
    "    f=open(pubkey_filepath,'rb')\n",
    "    privKey=eth_keys.keys.PublicKey(f.read())\n",
    "    return privKey\n",
    "\n",
    "def import_addr(addr_filepath):\n",
    "    return open(addr_filepath,'rb').read().decode()"
   ]
  },
  {
   "cell_type": "markdown",
   "metadata": {
    "id": "yOcQvpiFXag0"
   },
   "source": [
    "# Comenzar con Claves Existentes (Start with Existing Keys)\n",
    "\n",
    "Acceder a las claves generadas en el cuaderno 5\n",
    "***\n",
    "Access the keys generated in the cuaderno 5"
   ]
  },
  {
   "cell_type": "markdown",
   "metadata": {
    "id": "0kYYEFx40an1"
   },
   "source": [
    "## Comenzar con Claves en Google Drive (Start with Keys on Google Drive)"
   ]
  },
  {
   "cell_type": "code",
   "execution_count": 19,
   "metadata": {
    "colab": {
     "base_uri": "https://localhost:8080/"
    },
    "id": "DLmgNafNWa5O",
    "outputId": "b9459f86-a09c-4715-8320-634b15d06726"
   },
   "outputs": [
    {
     "name": "stdout",
     "output_type": "stream",
     "text": [
      "Mounted at /content/drive\n"
     ]
    }
   ],
   "source": [
    "from google.colab import drive\n",
    "drive.mount('/content/drive')"
   ]
  },
  {
   "cell_type": "code",
   "execution_count": 20,
   "metadata": {
    "colab": {
     "base_uri": "https://localhost:8080/"
    },
    "id": "x6oDx7tbWa72",
    "outputId": "019011e1-3d7b-49a0-f5da-57797ecf8a09"
   },
   "outputs": [
    {
     "name": "stdout",
     "output_type": "stream",
     "text": [
      "Archive:  llaves.zip\n",
      "   creating: llaves/\n",
      " extracting: llaves/mi_addr.bin      \n",
      " extracting: llaves/mi_addr.png      \n",
      " extracting: llaves/mi_pub.bin       \n",
      " extracting: llaves/mi_prv.enc       \n"
     ]
    }
   ],
   "source": [
    "! cp drive/MyDrive/cinv/llaves.zip llaves.zip \n",
    "! unzip llaves.zip"
   ]
  },
  {
   "cell_type": "markdown",
   "metadata": {
    "id": "sPvP5mkdcRu6"
   },
   "source": [
    "## Comenzar con Claves en la Disco Local\n",
    "## (Start with Keys on Local Drive)"
   ]
  },
  {
   "cell_type": "code",
   "execution_count": 21,
   "metadata": {
    "id": "HIfCIuaRWa_b"
   },
   "outputs": [],
   "source": [
    "#from google.colab import files\n",
    "#fu=files.upload();"
   ]
  },
  {
   "cell_type": "code",
   "execution_count": 22,
   "metadata": {
    "id": "Mk7eTjCPWbCS"
   },
   "outputs": [],
   "source": [
    "#! unzip llaves.zip"
   ]
  },
  {
   "cell_type": "code",
   "execution_count": 23,
   "metadata": {
    "id": "hmAorBMjeA8j"
   },
   "outputs": [],
   "source": [
    "#! ls llaves"
   ]
  },
  {
   "cell_type": "markdown",
   "metadata": {
    "id": "QCY7Dye8dlXo"
   },
   "source": [
    "# Import Private Key and Address"
   ]
  },
  {
   "cell_type": "code",
   "execution_count": 24,
   "metadata": {
    "id": "P6sggp7WdmQ7"
   },
   "outputs": [],
   "source": [
    "privKey=import_privKey('llaves/mi_prv.enc','')\n",
    "addr=import_addr('llaves/mi_addr.bin')"
   ]
  },
  {
   "cell_type": "code",
   "execution_count": 25,
   "metadata": {
    "colab": {
     "base_uri": "https://localhost:8080/",
     "height": 36
    },
    "id": "4DozdPP8dmUT",
    "outputId": "197aa216-6e6e-435a-ddab-bb4eefeaa4b0"
   },
   "outputs": [
    {
     "data": {
      "application/vnd.google.colaboratory.intrinsic+json": {
       "type": "string"
      },
      "text/plain": [
       "'D6zKNnkupqRbkB9p5rwix8QiobQWJazjyX'"
      ]
     },
     "execution_count": 25,
     "metadata": {},
     "output_type": "execute_result"
    }
   ],
   "source": [
    "addr"
   ]
  },
  {
   "cell_type": "code",
   "execution_count": 26,
   "metadata": {
    "colab": {
     "base_uri": "https://localhost:8080/",
     "height": 182
    },
    "id": "5PL8cGwYnvGp",
    "outputId": "a21dee6b-2790-4923-ad81-b961bf496d6b"
   },
   "outputs": [
    {
     "data": {
      "image/png": "[encoded data removed]",
      "text/plain": [
       "<IPython.core.display.Image object>"
      ]
     },
     "metadata": {},
     "output_type": "display_data"
    }
   ],
   "source": [
    "from IPython.display import Image\n",
    "qr=Image('llaves/mi_addr.png')\n",
    "display(qr)"
   ]
  },
  {
   "cell_type": "markdown",
   "metadata": {
    "id": "84vTBrTc0hQm"
   },
   "source": [
    "# Connect to Colegio Message Spreadsheet"
   ]
  },
  {
   "cell_type": "markdown",
   "metadata": {
    "id": "1txSB4pVjGpU"
   },
   "source": [
    "## Decrypt Credentials\n",
    "\n",
    "$\\color{white}{\\text{c0leg101nv1s1ble}}$\n",
    "\n",
    "Use la contraseña de arriba para descifrar las credenciales\n",
    "***\n",
    "Use password above to decrypt credentials\n"
   ]
  },
  {
   "cell_type": "code",
   "execution_count": 27,
   "metadata": {
    "colab": {
     "base_uri": "https://localhost:8080/"
    },
    "id": "7KJWkuzviJut",
    "outputId": "d5e61a8d-b5e7-43e0-ed98-ab4e753169a2"
   },
   "outputs": [
    {
     "name": "stdout",
     "output_type": "stream",
     "text": [
      "Éxito (Success): Colegio_Invisible/secrets/client_secret.aes decifrado con éxito (decryption complete)\n",
      "Escrito a (Written to): Colegio_Invisible/secrets/client_secret.json\n"
     ]
    }
   ],
   "source": [
    "! python Colegio_Invisible/scripts/aes_decrypt.py c0leg101nv1s1ble Colegio_Invisible/secrets/client_secret.aes Colegio_Invisible/secrets/client_secret.json "
   ]
  },
  {
   "cell_type": "markdown",
   "metadata": {
    "id": "IE3ReCLc0-Un"
   },
   "source": [
    "## Autenticar y Conectarse a la Google Sheet de Mensajes (Authenticate and Connect to Message Google Sheet)\n",
    "\n",
    "Autenticarse usando credenciales descifradas para la API de Google Drive.\\\n",
    "Use la biblioteca `gspread` para leer y escribir en una hoja de cálculo compartida.\n",
    "***\n",
    "Authenticate using decrypted credentials for Google Drive API.\\\n",
    "Use `gspread` library to read and write to shared spreadsheet."
   ]
  },
  {
   "cell_type": "code",
   "execution_count": 28,
   "metadata": {
    "id": "wAojvQCldmX0"
   },
   "outputs": [],
   "source": [
    "import gspread\n",
    "from oauth2client.service_account import ServiceAccountCredentials\n",
    "# use creds to create a client to interact with the Google Drive API\n",
    "scope = ['https://spreadsheets.google.com/feeds',\n",
    "         'https://www.googleapis.com/auth/drive']\n",
    "creds = ServiceAccountCredentials.from_json_keyfile_name('Colegio_Invisible/secrets/client_secret.json', scope)\n",
    "client = gspread.authorize(creds)\n",
    "sheets = client.open(\"signatures\")"
   ]
  },
  {
   "cell_type": "markdown",
   "metadata": {
    "id": "pcbvfyY42VGH"
   },
   "source": [
    "# Leer y Escribir en la Google Sheet de Mensajes (Read and Write to Messages Google Sheet)"
   ]
  },
  {
   "cell_type": "markdown",
   "metadata": {
    "id": "SjknPsHI1ks1"
   },
   "source": [
    "## Leer Google Sheet (Read Google Sheet)"
   ]
  },
  {
   "cell_type": "code",
   "execution_count": 29,
   "metadata": {
    "colab": {
     "base_uri": "https://localhost:8080/"
    },
    "id": "PkHtmQi5dmbL",
    "outputId": "d8fe9103-7b94-4787-dfc8-6b5af2908e41"
   },
   "outputs": [
    {
     "data": {
      "text/plain": [
       "[<Worksheet 'Roster' id:0>,\n",
       " <Worksheet 'OpenMessage' id:2092809244>,\n",
       " <Worksheet 'CipherMessage' id:549527758>,\n",
       " <Worksheet 'SignCipherMessage' id:858983463>,\n",
       " <Worksheet 'Addresses' id:475665302>,\n",
       " <Worksheet 'Test' id:2104752728>]"
      ]
     },
     "execution_count": 29,
     "metadata": {},
     "output_type": "execute_result"
    }
   ],
   "source": [
    "sheets.worksheets()"
   ]
  },
  {
   "cell_type": "code",
   "execution_count": 30,
   "metadata": {
    "colab": {
     "base_uri": "https://localhost:8080/"
    },
    "id": "BllKzSYnk6QG",
    "outputId": "edf54bec-6570-496f-d831-e2830fd4f7dc"
   },
   "outputs": [
    {
     "data": {
      "text/plain": [
       "['name', 'address']"
      ]
     },
     "execution_count": 30,
     "metadata": {},
     "output_type": "execute_result"
    }
   ],
   "source": [
    "sheet4=sheets.worksheets()[4]\n",
    "sheet4.row_values(1)"
   ]
  },
  {
   "cell_type": "code",
   "execution_count": 31,
   "metadata": {
    "id": "aiq3qxz0lHjP"
   },
   "outputs": [],
   "source": [
    "#sheet4.clear()\n",
    "#sheet4.append_row([\"name\", \"address\"])"
   ]
  },
  {
   "cell_type": "markdown",
   "metadata": {
    "id": "jBL17WWm1shB"
   },
   "source": [
    "## Ingresar el Nombre (Input Name)"
   ]
  },
  {
   "cell_type": "code",
   "execution_count": 32,
   "metadata": {
    "colab": {
     "base_uri": "https://localhost:8080/"
    },
    "id": "qcmkQn-nlq1a",
    "outputId": "03a99526-b207-44a4-82ff-2d952f3dfd13"
   },
   "outputs": [
    {
     "name": "stdout",
     "output_type": "stream",
     "text": [
      "input nameDrDoeg\n"
     ]
    }
   ],
   "source": [
    "my_name=input('input name')"
   ]
  },
  {
   "cell_type": "markdown",
   "metadata": {
    "id": "px9ZVFpW6OJ7"
   },
   "source": [
    "## Leer Nombres Publicados (Read Posted Names)"
   ]
  },
  {
   "cell_type": "code",
   "execution_count": 33,
   "metadata": {
    "colab": {
     "base_uri": "https://localhost:8080/"
    },
    "id": "jgODKrZC16-Q",
    "outputId": "1525b5f0-c0b7-4c0e-dae3-9303aff750d4"
   },
   "outputs": [
    {
     "data": {
      "text/plain": [
       "['DrDoeg']"
      ]
     },
     "execution_count": 33,
     "metadata": {},
     "output_type": "execute_result"
    }
   ],
   "source": [
    "peeps=sheet4.col_values(1)[1:]\n",
    "peeps"
   ]
  },
  {
   "cell_type": "markdown",
   "metadata": {
    "id": "c0v2nESr6SvE"
   },
   "source": [
    "## Escribir en la Google Sheet para Publicar Nombre (Write to Google Sheet to Publish Name)\n",
    "\n",
    "Si el nombre está en la lista, escriba la dirección en la celda correspondiente de la hoja\\\n",
    "Si el nombre no está presente, agregue el nombre y la dirección a la hoja\n",
    "***\n",
    "If the name is in the list then write address to the appropriate cell of sheet\\\n",
    "If name is not present append name and address to sheet"
   ]
  },
  {
   "cell_type": "code",
   "execution_count": 34,
   "metadata": {
    "id": "62v7BkKEl0XZ"
   },
   "outputs": [],
   "source": [
    "if not (my_name in peeps) :\n",
    "  sheet4.append_row([my_name,addr])\n",
    "else:\n",
    "  sheet4.update_cell(row=peeps.index(my_name)+2,col=2,value=addr)"
   ]
  },
  {
   "cell_type": "markdown",
   "metadata": {
    "id": "tqnTEwK16tVd"
   },
   "source": [
    "## Leer Direcciones (Read Addresses)"
   ]
  },
  {
   "cell_type": "code",
   "execution_count": 35,
   "metadata": {
    "colab": {
     "base_uri": "https://localhost:8080/",
     "height": 81
    },
    "id": "FTpvcVvRlwCH",
    "outputId": "c842e566-48f5-407d-c11e-79a93d5ed73d"
   },
   "outputs": [
    {
     "data": {
      "text/html": [
       "\n",
       "  <div id=\"df-a8e60ce8-986d-4426-aae3-627795c90ce9\">\n",
       "    <div class=\"colab-df-container\">\n",
       "      <div>\n",
       "<style scoped>\n",
       "    .dataframe tbody tr th:only-of-type {\n",
       "        vertical-align: middle;\n",
       "    }\n",
       "\n",
       "    .dataframe tbody tr th {\n",
       "        vertical-align: top;\n",
       "    }\n",
       "\n",
       "    .dataframe thead th {\n",
       "        text-align: right;\n",
       "    }\n",
       "</style>\n",
       "<table border=\"1\" class=\"dataframe\">\n",
       "  <thead>\n",
       "    <tr style=\"text-align: right;\">\n",
       "      <th></th>\n",
       "      <th>name</th>\n",
       "      <th>address</th>\n",
       "    </tr>\n",
       "  </thead>\n",
       "  <tbody>\n",
       "    <tr>\n",
       "      <th>0</th>\n",
       "      <td>DrDoeg</td>\n",
       "      <td>D6zKNnkupqRbkB9p5rwix8QiobQWJazjyX</td>\n",
       "    </tr>\n",
       "  </tbody>\n",
       "</table>\n",
       "</div>\n",
       "      <button class=\"colab-df-convert\" onclick=\"convertToInteractive('df-a8e60ce8-986d-4426-aae3-627795c90ce9')\"\n",
       "              title=\"Convert this dataframe to an interactive table.\"\n",
       "              style=\"display:none;\">\n",
       "        \n",
       "  <svg xmlns=\"http://www.w3.org/2000/svg\" height=\"24px\"viewBox=\"0 0 24 24\"\n",
       "       width=\"24px\">\n",
       "    <path d=\"M0 0h24v24H0V0z\" fill=\"none\"/>\n",
       "    <path d=\"M18.56 5.44l.94 2.06.94-2.06 2.06-.94-2.06-.94-.94-2.06-.94 2.06-2.06.94zm-11 1L8.5 8.5l.94-2.06 2.06-.94-2.06-.94L8.5 2.5l-.94 2.06-2.06.94zm10 10l.94 2.06.94-2.06 2.06-.94-2.06-.94-.94-2.06-.94 2.06-2.06.94z\"/><path d=\"M17.41 7.96l-1.37-1.37c-.4-.4-.92-.59-1.43-.59-.52 0-1.04.2-1.43.59L10.3 9.45l-7.72 7.72c-.78.78-.78 2.05 0 2.83L4 21.41c.39.39.9.59 1.41.59.51 0 1.02-.2 1.41-.59l7.78-7.78 2.81-2.81c.8-.78.8-2.07 0-2.86zM5.41 20L4 18.59l7.72-7.72 1.47 1.35L5.41 20z\"/>\n",
       "  </svg>\n",
       "      </button>\n",
       "      \n",
       "  <style>\n",
       "    .colab-df-container {\n",
       "      display:flex;\n",
       "      flex-wrap:wrap;\n",
       "      gap: 12px;\n",
       "    }\n",
       "\n",
       "    .colab-df-convert {\n",
       "      background-color: #E8F0FE;\n",
       "      border: none;\n",
       "      border-radius: 50%;\n",
       "      cursor: pointer;\n",
       "      display: none;\n",
       "      fill: #1967D2;\n",
       "      height: 32px;\n",
       "      padding: 0 0 0 0;\n",
       "      width: 32px;\n",
       "    }\n",
       "\n",
       "    .colab-df-convert:hover {\n",
       "      background-color: #E2EBFA;\n",
       "      box-shadow: 0px 1px 2px rgba(60, 64, 67, 0.3), 0px 1px 3px 1px rgba(60, 64, 67, 0.15);\n",
       "      fill: #174EA6;\n",
       "    }\n",
       "\n",
       "    [theme=dark] .colab-df-convert {\n",
       "      background-color: #3B4455;\n",
       "      fill: #D2E3FC;\n",
       "    }\n",
       "\n",
       "    [theme=dark] .colab-df-convert:hover {\n",
       "      background-color: #434B5C;\n",
       "      box-shadow: 0px 1px 3px 1px rgba(0, 0, 0, 0.15);\n",
       "      filter: drop-shadow(0px 1px 2px rgba(0, 0, 0, 0.3));\n",
       "      fill: #FFFFFF;\n",
       "    }\n",
       "  </style>\n",
       "\n",
       "      <script>\n",
       "        const buttonEl =\n",
       "          document.querySelector('#df-a8e60ce8-986d-4426-aae3-627795c90ce9 button.colab-df-convert');\n",
       "        buttonEl.style.display =\n",
       "          google.colab.kernel.accessAllowed ? 'block' : 'none';\n",
       "\n",
       "        async function convertToInteractive(key) {\n",
       "          const element = document.querySelector('#df-a8e60ce8-986d-4426-aae3-627795c90ce9');\n",
       "          const dataTable =\n",
       "            await google.colab.kernel.invokeFunction('convertToInteractive',\n",
       "                                                     [key], {});\n",
       "          if (!dataTable) return;\n",
       "\n",
       "          const docLinkHtml = 'Like what you see? Visit the ' +\n",
       "            '<a target=\"_blank\" href=https://colab.research.google.com/notebooks/data_table.ipynb>data table notebook</a>'\n",
       "            + ' to learn more about interactive tables.';\n",
       "          element.innerHTML = '';\n",
       "          dataTable['output_type'] = 'display_data';\n",
       "          await google.colab.output.renderOutput(dataTable, element);\n",
       "          const docLink = document.createElement('div');\n",
       "          docLink.innerHTML = docLinkHtml;\n",
       "          element.appendChild(docLink);\n",
       "        }\n",
       "      </script>\n",
       "    </div>\n",
       "  </div>\n",
       "  "
      ],
      "text/plain": [
       "     name                             address\n",
       "0  DrDoeg  D6zKNnkupqRbkB9p5rwix8QiobQWJazjyX"
      ]
     },
     "execution_count": 35,
     "metadata": {},
     "output_type": "execute_result"
    }
   ],
   "source": [
    "import pandas as pd\n",
    "\n",
    "dataframe4 = pd.DataFrame(sheet4.get_all_records())\n",
    "dataframe4"
   ]
  },
  {
   "cell_type": "markdown",
   "metadata": {
    "id": "41-zTbdU6zh3"
   },
   "source": [
    "## Construir Lista de los Direcciones de Destinatario (Construct List of Recipient Addresses) "
   ]
  },
  {
   "cell_type": "code",
   "execution_count": 36,
   "metadata": {
    "colab": {
     "base_uri": "https://localhost:8080/"
    },
    "id": "w1agxI8tnGw2",
    "outputId": "a4d90638-341a-45cc-f2af-58227f3dbccd"
   },
   "outputs": [
    {
     "data": {
      "text/plain": [
       "['D6zKNnkupqRbkB9p5rwix8QiobQWJazjyX']"
      ]
     },
     "execution_count": 36,
     "metadata": {},
     "output_type": "execute_result"
    }
   ],
   "source": [
    "addresses=dataframe4.address.tolist()\n",
    "addresses"
   ]
  },
  {
   "cell_type": "markdown",
   "metadata": {
    "id": "urg0zfXO22qn"
   },
   "source": [
    "# Enviar Direcciones de Criptomonedas con Transacción de Financiación (Send Addresses Cryptocurrency with Funding Transaction)"
   ]
  },
  {
   "cell_type": "markdown",
   "metadata": {
    "id": "I4OpF8TV69_A"
   },
   "source": [
    "## Importar 'cryptos' y Crear un Objeto de Dogecoin (Import `cryptos` and Create Dogecoin Object)"
   ]
  },
  {
   "cell_type": "code",
   "execution_count": 37,
   "metadata": {
    "id": "qgRWDKftnWuo"
   },
   "outputs": [],
   "source": [
    "import cryptos"
   ]
  },
  {
   "cell_type": "code",
   "execution_count": 38,
   "metadata": {
    "id": "9xKsmVLenZe8"
   },
   "outputs": [],
   "source": [
    "doge=cryptos.Doge()"
   ]
  },
  {
   "cell_type": "markdown",
   "metadata": {
    "id": "VEAUYQzS3oNH"
   },
   "source": [
    "## Las Entradas (Inputs)"
   ]
  },
  {
   "cell_type": "markdown",
   "metadata": {
    "id": "EqKLFurZ7EaA"
   },
   "source": [
    "### Identificar la Dirección de Financiación (Identify Funding Address)"
   ]
  },
  {
   "cell_type": "code",
   "execution_count": 39,
   "metadata": {
    "colab": {
     "base_uri": "https://localhost:8080/",
     "height": 36
    },
    "id": "4UucG0XUE-2R",
    "outputId": "fa506e42-49be-4efe-95fe-7d582a300d79"
   },
   "outputs": [
    {
     "data": {
      "application/vnd.google.colaboratory.intrinsic+json": {
       "type": "string"
      },
      "text/plain": [
       "'D6zKNnkupqRbkB9p5rwix8QiobQWJazjyX'"
      ]
     },
     "execution_count": 39,
     "metadata": {},
     "output_type": "execute_result"
    }
   ],
   "source": [
    "banco=addresses[0]\n",
    "banco"
   ]
  },
  {
   "cell_type": "markdown",
   "metadata": {
    "id": "-pPp22Q17NdY"
   },
   "source": [
    "### Determinar las Entradas de UTXO (Determine UTXO Inputs)\n",
    "\n",
    "***\n",
    "***\n",
    "Los UTXO son salidas de transacciones no gastadas. Comenzamos revisando la cadena de bloques para identificar las monedas que la dirección de financiación ha recibido pero que aún no ha gastado. Estos son UTXO.\n",
    "***\n",
    "UTXOs are Unspent Transaction Outputs. We start by checking the blockchain to identify coins the funding address has received but has not yet spent. These are UTXOs. \n",
    "***\n",
    "***\n",
    "\n",
    "Cada UTXO contiene (each UTXO contains):\n",
    "- valor (value)\n",
    "- transacción (transaction)\n",
    "  - hash (hash)\n",
    "  - índice (index)"
   ]
  },
  {
   "cell_type": "code",
   "execution_count": 40,
   "metadata": {
    "colab": {
     "base_uri": "https://localhost:8080/"
    },
    "id": "pE9-8fKVnm09",
    "outputId": "d35a120f-f33a-44e5-a3e4-789594899306"
   },
   "outputs": [
    {
     "data": {
      "text/plain": [
       "[{'output': 'b40389d5ebbef896e78570a83e646e922522f445b10f532e53b45ea4a054caf0:0',\n",
       "  'value': 200000000},\n",
       " {'output': 'b40389d5ebbef896e78570a83e646e922522f445b10f532e53b45ea4a054caf0:6',\n",
       "  'value': 6600000000}]"
      ]
     },
     "execution_count": 40,
     "metadata": {},
     "output_type": "execute_result"
    }
   ],
   "source": [
    "#UTXOS\n",
    "unspents=doge.unspent(banco)\n",
    "unspents"
   ]
  },
  {
   "cell_type": "markdown",
   "metadata": {
    "id": "eFg05v_CLnUH"
   },
   "source": [
    "### Satoshis\n",
    "\n",
    "El valor se informa en unidades de Satoshis/Dogetoshis. Un Satoshi es un $\\frac{1}{100,000,000}$ de una moneda.\n",
    "***\n",
    "The value is reported in units of Satoshis/Dogetoshis. A Satoshi is $\\frac{1}{100,000,000}$ of a coin."
   ]
  },
  {
   "cell_type": "markdown",
   "metadata": {
    "id": "9b9ut-cB7dqw"
   },
   "source": [
    "### Sumar Salidas No Gastadas (Sum Unspent Outputs)"
   ]
  },
  {
   "cell_type": "code",
   "execution_count": 41,
   "metadata": {
    "colab": {
     "base_uri": "https://localhost:8080/"
    },
    "id": "s0iz3fLn5k29",
    "outputId": "b09a284f-68a5-4cd7-9047-7264fe131a8e"
   },
   "outputs": [
    {
     "data": {
      "text/plain": [
       "6800000000"
      ]
     },
     "execution_count": 41,
     "metadata": {},
     "output_type": "execute_result"
    }
   ],
   "source": [
    "unspent_total=sum([unspent['value'] for unspent in unspents])\n",
    "unspent_total"
   ]
  },
  {
   "cell_type": "markdown",
   "metadata": {
    "id": "ptMLdngF3v-U"
   },
   "source": [
    "## Salidas (Outputs)"
   ]
  },
  {
   "cell_type": "markdown",
   "metadata": {
    "id": "HGWo-6mW399r"
   },
   "source": [
    "### Calcular Valores de Salida (Calculate Output Values)\n",
    "\n",
    "- `gift`: es la cantidad entregada a cada participante\\\n",
    "(the amount given to each participant)\n",
    "- `gift_total`: la cantidad total entregada\\\n",
    "(the total amount given)\n",
    "- `mining_fee`: cantidad entregada a los mineros\\\n",
    "(amount given to miners)\n",
    "- `change`: cantidad sobrante que el remitente enviará a una dirección de cambio\\\n",
    "(the left over amount that the sender will send to a change address)"
   ]
  },
  {
   "cell_type": "code",
   "execution_count": 50,
   "metadata": {
    "id": "ExFkHqcUGAEl"
   },
   "outputs": [],
   "source": [
    "gift=10_00_000_000\n",
    "gift_total = gift * len(addresses)\n",
    "mining_fee = 2_00_000_000\n",
    "change = unspent_total - gift_total - mining_fee "
   ]
  },
  {
   "cell_type": "markdown",
   "metadata": {
    "id": "GkZ4MaOI4H7X"
   },
   "source": [
    "### Construir Lista de Salidas (Construct Output List)\n",
    "***\n",
    "***\n",
    "Crear salidas que incluyan:\n",
    "***\n",
    "Create outputs including:\n",
    "***\n",
    "***\n",
    "- `gift` regalo a cada participante\\\n",
    " (`gift` to each participant)\n",
    "- `change` enviado de vuelta a `banco` direccion\\\n",
    "(`change` sent back to `banco` address)"
   ]
  },
  {
   "cell_type": "code",
   "execution_count": 51,
   "metadata": {
    "colab": {
     "base_uri": "https://localhost:8080/"
    },
    "id": "GcWKCCrCK2sN",
    "outputId": "c6979c2e-08a8-41ea-8edb-0bf8982fa254"
   },
   "outputs": [
    {
     "data": {
      "text/plain": [
       "[{'address': 'D6zKNnkupqRbkB9p5rwix8QiobQWJazjyX', 'value': 1000000000},\n",
       " {'address': 'D6zKNnkupqRbkB9p5rwix8QiobQWJazjyX', 'value': 5700000000}]"
      ]
     },
     "execution_count": 51,
     "metadata": {},
     "output_type": "execute_result"
    }
   ],
   "source": [
    "outputs=[{'value': gift, 'address': address} for address in addresses]\n",
    "outputs.append({'value': change, 'address': banco})\n",
    "outputs"
   ]
  },
  {
   "cell_type": "markdown",
   "metadata": {
    "id": "0RQU2CM3CLcq"
   },
   "source": [
    "\n",
    "## Hacer Transacción de Financiamiento (Make Funding Transaction)"
   ]
  },
  {
   "cell_type": "code",
   "execution_count": 52,
   "metadata": {
    "colab": {
     "base_uri": "https://localhost:8080/"
    },
    "id": "AvPMjFT5-8-i",
    "outputId": "5fb72491-9e27-4107-ea0b-004468881086"
   },
   "outputs": [
    {
     "data": {
      "text/plain": [
       "{'ins': [{'amount': 200000000,\n",
       "   'outpoint': {'hash': 'b40389d5ebbef896e78570a83e646e922522f445b10f532e53b45ea4a054caf0',\n",
       "    'index': 0},\n",
       "   'script': '',\n",
       "   'sequence': 4294967295},\n",
       "  {'amount': 6600000000,\n",
       "   'outpoint': {'hash': 'b40389d5ebbef896e78570a83e646e922522f445b10f532e53b45ea4a054caf0',\n",
       "    'index': 6},\n",
       "   'script': '',\n",
       "   'sequence': 4294967295}],\n",
       " 'locktime': 0,\n",
       " 'outs': [{'script': '76a914144739367df0ff8d1c61d03704298d49cf93ef3f88ac',\n",
       "   'value': 1000000000},\n",
       "  {'script': '76a914144739367df0ff8d1c61d03704298d49cf93ef3f88ac',\n",
       "   'value': 5700000000}],\n",
       " 'version': 1}"
      ]
     },
     "execution_count": 52,
     "metadata": {},
     "output_type": "execute_result"
    }
   ],
   "source": [
    "fund_txn=doge.mktx(unspents,outputs )\n",
    "fund_txn"
   ]
  },
  {
   "cell_type": "markdown",
   "metadata": {
    "id": "aWB-diD2B4KJ"
   },
   "source": [
    "## Firmar Transacción de Financiamiento (Sign Funding Transaction)"
   ]
  },
  {
   "cell_type": "code",
   "execution_count": 53,
   "metadata": {
    "colab": {
     "base_uri": "https://localhost:8080/",
     "height": 110
    },
    "id": "WNLLf9_CDhEt",
    "outputId": "1cdcc818-cae8-4312-d140-65336246ceb5"
   },
   "outputs": [
    {
     "data": {
      "application/vnd.google.colaboratory.intrinsic+json": {
       "type": "string"
      },
      "text/plain": [
       "'0100000002f0ca54a0a45eb4532e530fb145f42225926e643ea87085e796f8beebd58903b4000000008b483045022100c0292317f2bd31f41c73d07a06b68c24d5acb9cc9f8ede5262facd6d2e3b41e8022054a4fe08d1b81b03e1cc3ac21f35b85f8376ef6c2547d0d29cb828c216e253450141047c88e9a4df6e9f45656c10bf66f28e28be235a15b64820b254f1b9eb2738314e6769f5c94da0c7640ffe76dcffca053b07a0804cd53a1c51ad03bfe0133ce8c5fffffffff0ca54a0a45eb4532e530fb145f42225926e643ea87085e796f8beebd58903b4060000008b483045022100d7b03a60fc7ff676860a66379b564d9a77e1266ea1c5f740700bf183d27129ae022071910f9219c5857c00b9b89048552d21ce2149edc77c8da31a950ee0d854b9450141047c88e9a4df6e9f45656c10bf66f28e28be235a15b64820b254f1b9eb2738314e6769f5c94da0c7640ffe76dcffca053b07a0804cd53a1c51ad03bfe0133ce8c5ffffffff0200ca9a3b000000001976a914144739367df0ff8d1c61d03704298d49cf93ef3f88ac0019bf53010000001976a914144739367df0ff8d1c61d03704298d49cf93ef3f88ac00000000'"
      ]
     },
     "execution_count": 53,
     "metadata": {},
     "output_type": "execute_result"
    }
   ],
   "source": [
    "doge.signall(fund_txn,privKey.to_hex()[2:])"
   ]
  },
  {
   "cell_type": "code",
   "execution_count": 54,
   "metadata": {
    "colab": {
     "base_uri": "https://localhost:8080/"
    },
    "id": "qb9yNJodD1ua",
    "outputId": "2ad23f28-b596-48cb-f227-394ed71520d5"
   },
   "outputs": [
    {
     "data": {
      "text/plain": [
       "{'ins': [{'amount': 200000000,\n",
       "   'outpoint': {'hash': 'b40389d5ebbef896e78570a83e646e922522f445b10f532e53b45ea4a054caf0',\n",
       "    'index': 0},\n",
       "   'script': '483045022100c0292317f2bd31f41c73d07a06b68c24d5acb9cc9f8ede5262facd6d2e3b41e8022054a4fe08d1b81b03e1cc3ac21f35b85f8376ef6c2547d0d29cb828c216e253450141047c88e9a4df6e9f45656c10bf66f28e28be235a15b64820b254f1b9eb2738314e6769f5c94da0c7640ffe76dcffca053b07a0804cd53a1c51ad03bfe0133ce8c5',\n",
       "   'sequence': 4294967295},\n",
       "  {'amount': 6600000000,\n",
       "   'outpoint': {'hash': 'b40389d5ebbef896e78570a83e646e922522f445b10f532e53b45ea4a054caf0',\n",
       "    'index': 6},\n",
       "   'script': '483045022100d7b03a60fc7ff676860a66379b564d9a77e1266ea1c5f740700bf183d27129ae022071910f9219c5857c00b9b89048552d21ce2149edc77c8da31a950ee0d854b9450141047c88e9a4df6e9f45656c10bf66f28e28be235a15b64820b254f1b9eb2738314e6769f5c94da0c7640ffe76dcffca053b07a0804cd53a1c51ad03bfe0133ce8c5',\n",
       "   'sequence': 4294967295}],\n",
       " 'locktime': 0,\n",
       " 'outs': [{'script': '76a914144739367df0ff8d1c61d03704298d49cf93ef3f88ac',\n",
       "   'value': 1000000000},\n",
       "  {'script': '76a914144739367df0ff8d1c61d03704298d49cf93ef3f88ac',\n",
       "   'value': 5700000000}],\n",
       " 'version': 1}"
      ]
     },
     "execution_count": 54,
     "metadata": {},
     "output_type": "execute_result"
    }
   ],
   "source": [
    "fund_txn"
   ]
  },
  {
   "cell_type": "code",
   "execution_count": 55,
   "metadata": {
    "colab": {
     "base_uri": "https://localhost:8080/",
     "height": 110
    },
    "id": "y1F5mNnND-6y",
    "outputId": "0594dc58-a8b9-449e-cff3-0a0652ed0aa0"
   },
   "outputs": [
    {
     "data": {
      "application/vnd.google.colaboratory.intrinsic+json": {
       "type": "string"
      },
      "text/plain": [
       "'0100000002f0ca54a0a45eb4532e530fb145f42225926e643ea87085e796f8beebd58903b4000000008b483045022100c0292317f2bd31f41c73d07a06b68c24d5acb9cc9f8ede5262facd6d2e3b41e8022054a4fe08d1b81b03e1cc3ac21f35b85f8376ef6c2547d0d29cb828c216e253450141047c88e9a4df6e9f45656c10bf66f28e28be235a15b64820b254f1b9eb2738314e6769f5c94da0c7640ffe76dcffca053b07a0804cd53a1c51ad03bfe0133ce8c5fffffffff0ca54a0a45eb4532e530fb145f42225926e643ea87085e796f8beebd58903b4060000008b483045022100d7b03a60fc7ff676860a66379b564d9a77e1266ea1c5f740700bf183d27129ae022071910f9219c5857c00b9b89048552d21ce2149edc77c8da31a950ee0d854b9450141047c88e9a4df6e9f45656c10bf66f28e28be235a15b64820b254f1b9eb2738314e6769f5c94da0c7640ffe76dcffca053b07a0804cd53a1c51ad03bfe0133ce8c5ffffffff0200ca9a3b000000001976a914144739367df0ff8d1c61d03704298d49cf93ef3f88ac0019bf53010000001976a914144739367df0ff8d1c61d03704298d49cf93ef3f88ac00000000'"
      ]
     },
     "execution_count": 55,
     "metadata": {},
     "output_type": "execute_result"
    }
   ],
   "source": [
    "fund_txn_hex=cryptos.serialize(fund_txn)\n",
    "fund_txn_hex"
   ]
  },
  {
   "cell_type": "markdown",
   "metadata": {
    "id": "HAdwajyjFW0i"
   },
   "source": [
    "## Comprobar el Tamaño en Kilobytes de la Transacción (Check Kilobyte Size of Transaction)\n",
    "\n",
    "https://chain.so/DOGE"
   ]
  },
  {
   "cell_type": "code",
   "execution_count": 56,
   "metadata": {
    "colab": {
     "base_uri": "https://localhost:8080/"
    },
    "id": "xhQCkpBLFXXA",
    "outputId": "a9a9414f-e726-4450-ecbd-f61b17c84f03"
   },
   "outputs": [
    {
     "data": {
      "text/plain": [
       "0.438"
      ]
     },
     "execution_count": 56,
     "metadata": {},
     "output_type": "execute_result"
    }
   ],
   "source": [
    "kb=len(fund_txn_hex)/2000\n",
    "kb"
   ]
  },
  {
   "cell_type": "code",
   "execution_count": 57,
   "metadata": {
    "colab": {
     "base_uri": "https://localhost:8080/"
    },
    "id": "oGEUIJmJFzMi",
    "outputId": "86ea0f5b-54d8-4f0a-e9b2-8a9317b7af81"
   },
   "outputs": [
    {
     "data": {
      "text/plain": [
       "2.2831050228310503"
      ]
     },
     "execution_count": 57,
     "metadata": {},
     "output_type": "execute_result"
    }
   ],
   "source": [
    "mining_fee/1E8/kb"
   ]
  },
  {
   "cell_type": "markdown",
   "metadata": {
    "id": "0tkeC4o0EjjA"
   },
   "source": [
    "## Transmitir la Transacción (Broadcast Transaction)"
   ]
  },
  {
   "cell_type": "code",
   "execution_count": 58,
   "metadata": {
    "colab": {
     "base_uri": "https://localhost:8080/"
    },
    "id": "BqrRV5E8EfmQ",
    "outputId": "60b562c6-5f33-4fa1-a427-e799465071ae"
   },
   "outputs": [
    {
     "data": {
      "text/plain": [
       "{'data': {'network': 'DOGE',\n",
       "  'txid': '5f656cdf221788c5b871d620fddbf36837ccef9a0f99bff97c05b470e9ae86d2'},\n",
       " 'status': 'success'}"
      ]
     },
     "execution_count": 58,
     "metadata": {},
     "output_type": "execute_result"
    }
   ],
   "source": [
    "broadcast_fund_txn=doge.pushtx(fund_txn_hex)\n",
    "broadcast_fund_txn"
   ]
  },
  {
   "cell_type": "markdown",
   "metadata": {
    "id": "o_DwTVZYElzf"
   },
   "source": [
    "## Inspeccionar la Transacción (Inspect Transaction)"
   ]
  },
  {
   "cell_type": "code",
   "execution_count": 59,
   "metadata": {
    "colab": {
     "base_uri": "https://localhost:8080/"
    },
    "id": "rcSsInUZEmMM",
    "outputId": "d61fe249-d074-44b5-8ea2-1cababf86775"
   },
   "outputs": [
    {
     "data": {
      "text/plain": [
       "{'blockhash': None,\n",
       " 'confirmations': 0,\n",
       " 'inputs': [{'address': 'D6zKNnkupqRbkB9p5rwix8QiobQWJazjyX',\n",
       "   'from_output': {'output_no': 0,\n",
       "    'txid': 'b40389d5ebbef896e78570a83e646e922522f445b10f532e53b45ea4a054caf0'},\n",
       "   'input_no': 0,\n",
       "   'script': '3045022100c0292317f2bd31f41c73d07a06b68c24d5acb9cc9f8ede5262facd6d2e3b41e8022054a4fe08d1b81b03e1cc3ac21f35b85f8376ef6c2547d0d29cb828c216e2534501 047c88e9a4df6e9f45656c10bf66f28e28be235a15b64820b254f1b9eb2738314e6769f5c94da0c7640ffe76dcffca053b07a0804cd53a1c51ad03bfe0133ce8c5',\n",
       "   'sequence': 4294967295,\n",
       "   'type': 'pubkeyhash',\n",
       "   'value': '2.00000000',\n",
       "   'witness': None},\n",
       "  {'address': 'D6zKNnkupqRbkB9p5rwix8QiobQWJazjyX',\n",
       "   'from_output': {'output_no': 6,\n",
       "    'txid': 'b40389d5ebbef896e78570a83e646e922522f445b10f532e53b45ea4a054caf0'},\n",
       "   'input_no': 1,\n",
       "   'script': '3045022100d7b03a60fc7ff676860a66379b564d9a77e1266ea1c5f740700bf183d27129ae022071910f9219c5857c00b9b89048552d21ce2149edc77c8da31a950ee0d854b94501 047c88e9a4df6e9f45656c10bf66f28e28be235a15b64820b254f1b9eb2738314e6769f5c94da0c7640ffe76dcffca053b07a0804cd53a1c51ad03bfe0133ce8c5',\n",
       "   'sequence': 4294967295,\n",
       "   'type': 'pubkeyhash',\n",
       "   'value': '66.00000000',\n",
       "   'witness': None}],\n",
       " 'locktime': 0,\n",
       " 'network': 'DOGE',\n",
       " 'network_fee': '1.00000000',\n",
       " 'outputs': [{'address': 'D6zKNnkupqRbkB9p5rwix8QiobQWJazjyX',\n",
       "   'output_no': 0,\n",
       "   'script': 'OP_DUP OP_HASH160 144739367df0ff8d1c61d03704298d49cf93ef3f OP_EQUALVERIFY OP_CHECKSIG',\n",
       "   'type': 'pubkeyhash',\n",
       "   'value': '10.00000000'},\n",
       "  {'address': 'D6zKNnkupqRbkB9p5rwix8QiobQWJazjyX',\n",
       "   'output_no': 1,\n",
       "   'script': 'OP_DUP OP_HASH160 144739367df0ff8d1c61d03704298d49cf93ef3f OP_EQUALVERIFY OP_CHECKSIG',\n",
       "   'type': 'pubkeyhash',\n",
       "   'value': '57.00000000'}],\n",
       " 'size': 438,\n",
       " 'time': 1644094820,\n",
       " 'tx_hex': '0100000002f0ca54a0a45eb4532e530fb145f42225926e643ea87085e796f8beebd58903b4000000008b483045022100c0292317f2bd31f41c73d07a06b68c24d5acb9cc9f8ede5262facd6d2e3b41e8022054a4fe08d1b81b03e1cc3ac21f35b85f8376ef6c2547d0d29cb828c216e253450141047c88e9a4df6e9f45656c10bf66f28e28be235a15b64820b254f1b9eb2738314e6769f5c94da0c7640ffe76dcffca053b07a0804cd53a1c51ad03bfe0133ce8c5fffffffff0ca54a0a45eb4532e530fb145f42225926e643ea87085e796f8beebd58903b4060000008b483045022100d7b03a60fc7ff676860a66379b564d9a77e1266ea1c5f740700bf183d27129ae022071910f9219c5857c00b9b89048552d21ce2149edc77c8da31a950ee0d854b9450141047c88e9a4df6e9f45656c10bf66f28e28be235a15b64820b254f1b9eb2738314e6769f5c94da0c7640ffe76dcffca053b07a0804cd53a1c51ad03bfe0133ce8c5ffffffff0200ca9a3b000000001976a914144739367df0ff8d1c61d03704298d49cf93ef3f88ac0019bf53010000001976a914144739367df0ff8d1c61d03704298d49cf93ef3f88ac00000000',\n",
       " 'txid': '5f656cdf221788c5b871d620fddbf36837ccef9a0f99bff97c05b470e9ae86d2',\n",
       " 'version': 1,\n",
       " 'vsize': 438}"
      ]
     },
     "execution_count": 59,
     "metadata": {},
     "output_type": "execute_result"
    }
   ],
   "source": [
    "inspect_fund_txn=doge.fetchtx( broadcast_fund_txn['data']['txid'])\n",
    "inspect_fund_txn"
   ]
  },
  {
   "cell_type": "markdown",
   "metadata": {
    "id": "PEeT1FR9bRhG"
   },
   "source": [
    "# Devolver la Criptomoneda (Return Coins)"
   ]
  },
  {
   "cell_type": "markdown",
   "metadata": {
    "id": "mGBBhevI6E42"
   },
   "source": [
    "## Construir la Transacción de Devolver (Construct Return Transaction)"
   ]
  },
  {
   "cell_type": "markdown",
   "metadata": {
    "id": "IcBKlHhv6NgZ"
   },
   "source": [
    "### Entradas (Inputs)"
   ]
  },
  {
   "cell_type": "code",
   "execution_count": 60,
   "metadata": {
    "colab": {
     "base_uri": "https://localhost:8080/"
    },
    "id": "sAAjmEc7EmT-",
    "outputId": "12fced66-b0d3-4204-ac50-539cfc1d435f"
   },
   "outputs": [
    {
     "data": {
      "text/plain": [
       "[{'output': '5f656cdf221788c5b871d620fddbf36837ccef9a0f99bff97c05b470e9ae86d2:0',\n",
       "  'value': 1000000000},\n",
       " {'output': '5f656cdf221788c5b871d620fddbf36837ccef9a0f99bff97c05b470e9ae86d2:1',\n",
       "  'value': 5700000000}]"
      ]
     },
     "execution_count": 60,
     "metadata": {},
     "output_type": "execute_result"
    }
   ],
   "source": [
    "mi_unspents=doge.unspent(addr)\n",
    "mi_unspents\n"
   ]
  },
  {
   "cell_type": "code",
   "execution_count": 61,
   "metadata": {
    "colab": {
     "base_uri": "https://localhost:8080/"
    },
    "id": "B8NpTvfAY94c",
    "outputId": "6ebbafe2-6c06-4608-a653-d6d6df46a280"
   },
   "outputs": [
    {
     "data": {
      "text/plain": [
       "6700000000"
      ]
     },
     "execution_count": 61,
     "metadata": {},
     "output_type": "execute_result"
    }
   ],
   "source": [
    "mi_unspent_total=sum([unspent['value'] for unspent in mi_unspents])\n",
    "mi_unspent_total"
   ]
  },
  {
   "cell_type": "markdown",
   "metadata": {
    "id": "mrhpz6Uu6UiL"
   },
   "source": [
    "### Salidas (Outputs)"
   ]
  },
  {
   "cell_type": "code",
   "execution_count": 62,
   "metadata": {
    "colab": {
     "base_uri": "https://localhost:8080/"
    },
    "id": "FPXpqiQmZM9m",
    "outputId": "2399fe9f-0f08-4fa1-cce9-035a0c7a05aa"
   },
   "outputs": [
    {
     "data": {
      "text/plain": [
       "6600000000"
      ]
     },
     "execution_count": 62,
     "metadata": {},
     "output_type": "execute_result"
    }
   ],
   "source": [
    "mi_mining_fee = 1_00_000_000\n",
    "disponible = mi_unspent_total - mi_mining_fee\n",
    "disponible"
   ]
  },
  {
   "cell_type": "code",
   "execution_count": 63,
   "metadata": {
    "colab": {
     "base_uri": "https://localhost:8080/"
    },
    "id": "ddlAokUEbSq9",
    "outputId": "b4d02328-6234-47d4-8223-38f7b9aa387c"
   },
   "outputs": [
    {
     "data": {
      "text/plain": [
       "[{'address': 'D6zKNnkupqRbkB9p5rwix8QiobQWJazjyX', 'value': 6600000000}]"
      ]
     },
     "execution_count": 63,
     "metadata": {},
     "output_type": "execute_result"
    }
   ],
   "source": [
    "destinos=[{'value': disponible, 'address': banco} ]\n",
    "destinos"
   ]
  },
  {
   "cell_type": "markdown",
   "metadata": {
    "id": "urwleyYGq1G0"
   },
   "source": [
    "## Pare !! Ladrón !! (Stop Thief)\n",
    "\n",
    "Para robar las monedas en lugar de devolverlas, ejecute las celdas **`Ladrón`** al final del cuaderno.\n",
    "***\n",
    "To steal the coins instead of returning them, run the **`Ladrón`** cells at the end of the notebook."
   ]
  },
  {
   "cell_type": "markdown",
   "metadata": {
    "id": "NFyHIOEw6gpJ"
   },
   "source": [
    "### Construcción (Constuction)"
   ]
  },
  {
   "cell_type": "code",
   "execution_count": 72,
   "metadata": {
    "colab": {
     "base_uri": "https://localhost:8080/"
    },
    "id": "UeGISrRzbEBm",
    "outputId": "0c292ab8-a73d-493a-ca28-1d14ca6591b7"
   },
   "outputs": [
    {
     "data": {
      "text/plain": [
       "{'ins': [{'amount': 1000000000,\n",
       "   'outpoint': {'hash': '5f656cdf221788c5b871d620fddbf36837ccef9a0f99bff97c05b470e9ae86d2',\n",
       "    'index': 0},\n",
       "   'script': '',\n",
       "   'sequence': 4294967295},\n",
       "  {'amount': 5700000000,\n",
       "   'outpoint': {'hash': '5f656cdf221788c5b871d620fddbf36837ccef9a0f99bff97c05b470e9ae86d2',\n",
       "    'index': 1},\n",
       "   'script': '',\n",
       "   'sequence': 4294967295}],\n",
       " 'locktime': 0,\n",
       " 'outs': [{'script': '76a914a8a2e5833974f40b826c0df633e2f131286d6ee188ac',\n",
       "   'value': 6600000000}],\n",
       " 'version': 1}"
      ]
     },
     "execution_count": 72,
     "metadata": {},
     "output_type": "execute_result"
    }
   ],
   "source": [
    "volver_txn=doge.mktx(mi_unspents, destinos)\n",
    "volver_txn"
   ]
  },
  {
   "cell_type": "markdown",
   "metadata": {
    "id": "PrLgczn26uoP"
   },
   "source": [
    "## Firmar y Serializar (Sign and Serialize)"
   ]
  },
  {
   "cell_type": "code",
   "execution_count": 73,
   "metadata": {
    "id": "G9Jts_ercWh7"
   },
   "outputs": [],
   "source": [
    "doge.signall(volver_txn,privKey.to_hex()[2:]);"
   ]
  },
  {
   "cell_type": "code",
   "execution_count": 74,
   "metadata": {
    "colab": {
     "base_uri": "https://localhost:8080/",
     "height": 110
    },
    "id": "sUaXWuf7c1xS",
    "outputId": "cce7ef8e-4467-4a79-fba2-2ae431e04f0c"
   },
   "outputs": [
    {
     "data": {
      "application/vnd.google.colaboratory.intrinsic+json": {
       "type": "string"
      },
      "text/plain": [
       "'0100000002d286aee970b4057cf9bf990f9aefcc3768f3dbfd20d671b8c5881722df6c655f000000008a47304402205f109040569820ebd288c47e3bfe86b3ff2f79357c39a6261baeb31d4338954002204127f6aa7a7f0db347b8309bfdccb389d095b0001ca59027b3551940221be5b70141047c88e9a4df6e9f45656c10bf66f28e28be235a15b64820b254f1b9eb2738314e6769f5c94da0c7640ffe76dcffca053b07a0804cd53a1c51ad03bfe0133ce8c5ffffffffd286aee970b4057cf9bf990f9aefcc3768f3dbfd20d671b8c5881722df6c655f010000008a473044022022f9b090acebefa0a22c733f3230aa542ee10df93d19d49d7868155214e1f2b40220719620c05ffcb6a0aadd59869099e02ded1195ea413b0b8db77e6e2b9144b74d0141047c88e9a4df6e9f45656c10bf66f28e28be235a15b64820b254f1b9eb2738314e6769f5c94da0c7640ffe76dcffca053b07a0804cd53a1c51ad03bfe0133ce8c5ffffffff0100026489010000001976a914a8a2e5833974f40b826c0df633e2f131286d6ee188ac00000000'"
      ]
     },
     "execution_count": 74,
     "metadata": {},
     "output_type": "execute_result"
    }
   ],
   "source": [
    "volver_txn_hex=cryptos.serialize(volver_txn)\n",
    "volver_txn_hex"
   ]
  },
  {
   "cell_type": "markdown",
   "metadata": {
    "id": "V2J8P19261CF"
   },
   "source": [
    "## Transmisión (Broadcast)"
   ]
  },
  {
   "cell_type": "code",
   "execution_count": 75,
   "metadata": {
    "colab": {
     "base_uri": "https://localhost:8080/"
    },
    "id": "k-igOHK9co_s",
    "outputId": "c2a06f77-e385-43f0-f61a-de24f4f1e5af"
   },
   "outputs": [
    {
     "data": {
      "text/plain": [
       "{'data': {'network': 'DOGE',\n",
       "  'txid': '9bdf9d2d157368e01bbf1737c9bb73e957ea6c41f4d17c0fec187f3bf7f76bd2'},\n",
       " 'status': 'success'}"
      ]
     },
     "execution_count": 75,
     "metadata": {},
     "output_type": "execute_result"
    }
   ],
   "source": [
    "broadcast_volver_txn=doge.pushtx(volver_txn_hex)\n",
    "broadcast_volver_txn"
   ]
  },
  {
   "cell_type": "markdown",
   "metadata": {
    "id": "t5jxiWL664vU"
   },
   "source": [
    "## Supervisar la Red (Monitor the Network)"
   ]
  },
  {
   "cell_type": "code",
   "execution_count": 76,
   "metadata": {
    "colab": {
     "base_uri": "https://localhost:8080/"
    },
    "id": "njKNyjK6d7-L",
    "outputId": "ab9f6e68-1da6-4ac8-d06c-9f425a171310"
   },
   "outputs": [
    {
     "data": {
      "text/plain": [
       "{'blockhash': None,\n",
       " 'confirmations': 0,\n",
       " 'inputs': [{'address': 'D6zKNnkupqRbkB9p5rwix8QiobQWJazjyX',\n",
       "   'from_output': {'output_no': 0,\n",
       "    'txid': '5f656cdf221788c5b871d620fddbf36837ccef9a0f99bff97c05b470e9ae86d2'},\n",
       "   'input_no': 0,\n",
       "   'script': '304402205f109040569820ebd288c47e3bfe86b3ff2f79357c39a6261baeb31d4338954002204127f6aa7a7f0db347b8309bfdccb389d095b0001ca59027b3551940221be5b701 047c88e9a4df6e9f45656c10bf66f28e28be235a15b64820b254f1b9eb2738314e6769f5c94da0c7640ffe76dcffca053b07a0804cd53a1c51ad03bfe0133ce8c5',\n",
       "   'sequence': 4294967295,\n",
       "   'type': 'pubkeyhash',\n",
       "   'value': '10.00000000',\n",
       "   'witness': None},\n",
       "  {'address': 'D6zKNnkupqRbkB9p5rwix8QiobQWJazjyX',\n",
       "   'from_output': {'output_no': 1,\n",
       "    'txid': '5f656cdf221788c5b871d620fddbf36837ccef9a0f99bff97c05b470e9ae86d2'},\n",
       "   'input_no': 1,\n",
       "   'script': '3044022022f9b090acebefa0a22c733f3230aa542ee10df93d19d49d7868155214e1f2b40220719620c05ffcb6a0aadd59869099e02ded1195ea413b0b8db77e6e2b9144b74d01 047c88e9a4df6e9f45656c10bf66f28e28be235a15b64820b254f1b9eb2738314e6769f5c94da0c7640ffe76dcffca053b07a0804cd53a1c51ad03bfe0133ce8c5',\n",
       "   'sequence': 4294967295,\n",
       "   'type': 'pubkeyhash',\n",
       "   'value': '57.00000000',\n",
       "   'witness': None}],\n",
       " 'locktime': 0,\n",
       " 'network': 'DOGE',\n",
       " 'network_fee': '1.00000000',\n",
       " 'outputs': [{'address': 'DLWmCjcZRnGCpaWZxD2uZZ8Tad1oKAhBwa',\n",
       "   'output_no': 0,\n",
       "   'script': 'OP_DUP OP_HASH160 a8a2e5833974f40b826c0df633e2f131286d6ee1 OP_EQUALVERIFY OP_CHECKSIG',\n",
       "   'type': 'pubkeyhash',\n",
       "   'value': '66.00000000'}],\n",
       " 'size': 402,\n",
       " 'time': 1644095037,\n",
       " 'tx_hex': '0100000002d286aee970b4057cf9bf990f9aefcc3768f3dbfd20d671b8c5881722df6c655f000000008a47304402205f109040569820ebd288c47e3bfe86b3ff2f79357c39a6261baeb31d4338954002204127f6aa7a7f0db347b8309bfdccb389d095b0001ca59027b3551940221be5b70141047c88e9a4df6e9f45656c10bf66f28e28be235a15b64820b254f1b9eb2738314e6769f5c94da0c7640ffe76dcffca053b07a0804cd53a1c51ad03bfe0133ce8c5ffffffffd286aee970b4057cf9bf990f9aefcc3768f3dbfd20d671b8c5881722df6c655f010000008a473044022022f9b090acebefa0a22c733f3230aa542ee10df93d19d49d7868155214e1f2b40220719620c05ffcb6a0aadd59869099e02ded1195ea413b0b8db77e6e2b9144b74d0141047c88e9a4df6e9f45656c10bf66f28e28be235a15b64820b254f1b9eb2738314e6769f5c94da0c7640ffe76dcffca053b07a0804cd53a1c51ad03bfe0133ce8c5ffffffff0100026489010000001976a914a8a2e5833974f40b826c0df633e2f131286d6ee188ac00000000',\n",
       " 'txid': '9bdf9d2d157368e01bbf1737c9bb73e957ea6c41f4d17c0fec187f3bf7f76bd2',\n",
       " 'version': 1,\n",
       " 'vsize': 402}"
      ]
     },
     "execution_count": 76,
     "metadata": {},
     "output_type": "execute_result"
    }
   ],
   "source": [
    "inspect_volver_txn=doge.fetchtx( broadcast_volver_txn['data']['txid'])\n",
    "inspect_volver_txn"
   ]
  },
  {
   "cell_type": "markdown",
   "metadata": {
    "id": "d1hJ9VO5s9Zo"
   },
   "source": [
    "****\n",
    "****\n",
    "\n",
    "# Ladrón \n",
    "\n",
    "***\n",
    "***"
   ]
  },
  {
   "cell_type": "code",
   "execution_count": 64,
   "metadata": {
    "colab": {
     "base_uri": "https://localhost:8080/"
    },
    "id": "ALEaskA_twHn",
    "outputId": "3fefa7a1-65eb-4c4f-ffd8-89dee9b17fb1"
   },
   "outputs": [
    {
     "name": "stdout",
     "output_type": "stream",
     "text": [
      "Requirement already satisfied: pyzbar[scripts] in /usr/local/lib/python3.7/dist-packages (0.1.8)\n",
      "Requirement already satisfied: Pillow>=3.2.0 in /usr/local/lib/python3.7/dist-packages (from pyzbar[scripts]) (7.1.2)\n",
      "Reading package lists... Done\n",
      "Building dependency tree       \n",
      "Reading state information... Done\n",
      "libzbar0 is already the newest version (0.10+doc-10.1build2).\n",
      "The following packages were automatically installed and are no longer required:\n",
      "  cuda-command-line-tools-10-0 cuda-command-line-tools-10-1\n",
      "  cuda-command-line-tools-11-0 cuda-compiler-10-0 cuda-compiler-10-1\n",
      "  cuda-compiler-11-0 cuda-cuobjdump-10-0 cuda-cuobjdump-10-1\n",
      "  cuda-cuobjdump-11-0 cuda-cupti-10-0 cuda-cupti-10-1 cuda-cupti-11-0\n",
      "  cuda-cupti-dev-11-0 cuda-documentation-10-0 cuda-documentation-10-1\n",
      "  cuda-documentation-11-0 cuda-documentation-11-1 cuda-gdb-10-0 cuda-gdb-10-1\n",
      "  cuda-gdb-11-0 cuda-gpu-library-advisor-10-0 cuda-gpu-library-advisor-10-1\n",
      "  cuda-libraries-10-0 cuda-libraries-10-1 cuda-libraries-11-0\n",
      "  cuda-memcheck-10-0 cuda-memcheck-10-1 cuda-memcheck-11-0 cuda-nsight-10-0\n",
      "  cuda-nsight-10-1 cuda-nsight-11-0 cuda-nsight-11-1 cuda-nsight-compute-10-0\n",
      "  cuda-nsight-compute-10-1 cuda-nsight-compute-11-0 cuda-nsight-compute-11-1\n",
      "  cuda-nsight-systems-10-1 cuda-nsight-systems-11-0 cuda-nsight-systems-11-1\n",
      "  cuda-nvcc-10-0 cuda-nvcc-10-1 cuda-nvcc-11-0 cuda-nvdisasm-10-0\n",
      "  cuda-nvdisasm-10-1 cuda-nvdisasm-11-0 cuda-nvml-dev-10-0 cuda-nvml-dev-10-1\n",
      "  cuda-nvml-dev-11-0 cuda-nvprof-10-0 cuda-nvprof-10-1 cuda-nvprof-11-0\n",
      "  cuda-nvprune-10-0 cuda-nvprune-10-1 cuda-nvprune-11-0 cuda-nvtx-10-0\n",
      "  cuda-nvtx-10-1 cuda-nvtx-11-0 cuda-nvvp-10-0 cuda-nvvp-10-1 cuda-nvvp-11-0\n",
      "  cuda-nvvp-11-1 cuda-samples-10-0 cuda-samples-10-1 cuda-samples-11-0\n",
      "  cuda-samples-11-1 cuda-sanitizer-11-0 cuda-sanitizer-api-10-1\n",
      "  cuda-toolkit-10-0 cuda-toolkit-10-1 cuda-toolkit-11-0 cuda-toolkit-11-1\n",
      "  cuda-tools-10-0 cuda-tools-10-1 cuda-tools-11-0 cuda-tools-11-1\n",
      "  cuda-visual-tools-10-0 cuda-visual-tools-10-1 cuda-visual-tools-11-0\n",
      "  cuda-visual-tools-11-1 default-jre dkms freeglut3 freeglut3-dev\n",
      "  keyboard-configuration libargon2-0 libcap2 libcryptsetup12\n",
      "  libdevmapper1.02.1 libfontenc1 libidn11 libip4tc0 libjansson4\n",
      "  libnvidia-cfg1-510 libnvidia-common-460 libnvidia-common-510\n",
      "  libnvidia-extra-510 libnvidia-fbc1-510 libnvidia-gl-510 libpam-systemd\n",
      "  libpolkit-agent-1-0 libpolkit-backend-1-0 libpolkit-gobject-1-0 libxfont2\n",
      "  libxi-dev libxkbfile1 libxmu-dev libxmu-headers libxnvctrl0 libxtst6\n",
      "  nsight-compute-2020.2.1 nsight-compute-2022.1.0 nsight-systems-2020.3.2\n",
      "  nsight-systems-2020.3.4 nsight-systems-2021.5.2 nvidia-dkms-510\n",
      "  nvidia-kernel-common-510 nvidia-kernel-source-510 nvidia-modprobe\n",
      "  nvidia-settings openjdk-11-jre policykit-1 policykit-1-gnome python3-xkit\n",
      "  screen-resolution-extra systemd systemd-sysv udev x11-xkb-utils\n",
      "  xserver-common xserver-xorg-core-hwe-18.04 xserver-xorg-video-nvidia-510\n",
      "Use 'apt autoremove' to remove them.\n",
      "0 upgraded, 0 newly installed, 0 to remove and 39 not upgraded.\n"
     ]
    }
   ],
   "source": [
    "!pip install pyzbar[scripts]\n",
    "!apt install libzbar0"
   ]
  },
  {
   "cell_type": "code",
   "execution_count": 65,
   "metadata": {
    "id": "svnHbzwrtDv8"
   },
   "outputs": [],
   "source": [
    "from IPython.display import display, Javascript\n",
    "from google.colab.output import eval_js\n",
    "from base64 import b64decode\n",
    "\n",
    "def take_photo(filename='photo.jpg', quality=0.8):\n",
    "  js = Javascript('''\n",
    "    async function takePhoto(quality) {\n",
    "      const div = document.createElement('div');\n",
    "      const capture = document.createElement('button');\n",
    "      capture.textContent = 'Capture';\n",
    "      div.appendChild(capture);\n",
    "\n",
    "      const video = document.createElement('video');\n",
    "      video.style.display = 'block';\n",
    "      const stream = await navigator.mediaDevices.getUserMedia({video: true});\n",
    "\n",
    "      document.body.appendChild(div);\n",
    "      div.appendChild(video);\n",
    "      video.srcObject = stream;\n",
    "      await video.play();\n",
    "\n",
    "      // Resize the output to fit the video element.\n",
    "      google.colab.output.setIframeHeight(document.documentElement.scrollHeight, true);\n",
    "\n",
    "      // Wait for Capture to be clicked.\n",
    "      await new Promise((resolve) => capture.onclick = resolve);\n",
    "\n",
    "      const canvas = document.createElement('canvas');\n",
    "      canvas.width = video.videoWidth;\n",
    "      canvas.height = video.videoHeight;\n",
    "      canvas.getContext('2d').drawImage(video, 0, 0);\n",
    "      stream.getVideoTracks()[0].stop();\n",
    "      div.remove();\n",
    "      return canvas.toDataURL('image/jpeg', quality);\n",
    "    }\n",
    "    ''')\n",
    "  display(js)\n",
    "  data = eval_js('takePhoto({})'.format(quality))\n",
    "  binary = b64decode(data.split(',')[1])\n",
    "  with open(filename, 'wb') as f:\n",
    "    f.write(binary)\n",
    "  return filename"
   ]
  },
  {
   "cell_type": "code",
   "execution_count": 66,
   "metadata": {
    "colab": {
     "base_uri": "https://localhost:8080/",
     "height": 515
    },
    "id": "AY9lIlIathRa",
    "outputId": "d479a3c5-1fcd-4490-bd20-649c54a1bf90"
   },
   "outputs": [
    {
     "data": {
      "application/javascript": [
       "\n",
       "    async function takePhoto(quality) {\n",
       "      const div = document.createElement('div');\n",
       "      const capture = document.createElement('button');\n",
       "      capture.textContent = 'Capture';\n",
       "      div.appendChild(capture);\n",
       "\n",
       "      const video = document.createElement('video');\n",
       "      video.style.display = 'block';\n",
       "      const stream = await navigator.mediaDevices.getUserMedia({video: true});\n",
       "\n",
       "      document.body.appendChild(div);\n",
       "      div.appendChild(video);\n",
       "      video.srcObject = stream;\n",
       "      await video.play();\n",
       "\n",
       "      // Resize the output to fit the video element.\n",
       "      google.colab.output.setIframeHeight(document.documentElement.scrollHeight, true);\n",
       "\n",
       "      // Wait for Capture to be clicked.\n",
       "      await new Promise((resolve) => capture.onclick = resolve);\n",
       "\n",
       "      const canvas = document.createElement('canvas');\n",
       "      canvas.width = video.videoWidth;\n",
       "      canvas.height = video.videoHeight;\n",
       "      canvas.getContext('2d').drawImage(video, 0, 0);\n",
       "      stream.getVideoTracks()[0].stop();\n",
       "      div.remove();\n",
       "      return canvas.toDataURL('image/jpeg', quality);\n",
       "    }\n",
       "    "
      ],
      "text/plain": [
       "<IPython.core.display.Javascript object>"
      ]
     },
     "metadata": {},
     "output_type": "display_data"
    },
    {
     "name": "stdout",
     "output_type": "stream",
     "text": [
      "Saved to photo.jpg\n"
     ]
    },
    {
     "data": {
      "image/jpeg": "[encoded data removed]",
      "text/plain": [
       "<IPython.core.display.Image object>"
      ]
     },
     "metadata": {},
     "output_type": "display_data"
    }
   ],
   "source": [
    "from IPython.display import Image\n",
    "try:\n",
    "  filename = take_photo()\n",
    "  print('Saved to {}'.format(filename))\n",
    "  \n",
    "  # Show the image which was just taken.\n",
    "  display(Image(filename))\n",
    "except Exception as err:\n",
    "  # Errors will be thrown if the user does not have a webcam or if they do not\n",
    "  # grant the page permission to access it.\n",
    "  print(str(err))"
   ]
  },
  {
   "cell_type": "code",
   "execution_count": 67,
   "metadata": {
    "colab": {
     "base_uri": "https://localhost:8080/"
    },
    "id": "wvfgx-Dnti8p",
    "outputId": "436b77a6-2582-44f9-d9bb-6fb93ca8d8fd"
   },
   "outputs": [
    {
     "data": {
      "text/plain": [
       "[Decoded(data=b'DLWmCjcZRnGCpaWZxD2uZZ8Tad1oKAhBwa', type='QRCODE', rect=Rect(left=247, top=144, width=240, height=239), polygon=[Point(x=247, y=174), Point(x=273, y=383), Point(x=487, y=368), Point(x=465, y=144)])]"
      ]
     },
     "execution_count": 67,
     "metadata": {},
     "output_type": "execute_result"
    }
   ],
   "source": [
    "from pyzbar.pyzbar import decode\n",
    "from PIL import Image\n",
    "scan=decode(Image.open('photo.jpg'))\n",
    "scan"
   ]
  },
  {
   "cell_type": "code",
   "execution_count": 68,
   "metadata": {
    "colab": {
     "base_uri": "https://localhost:8080/"
    },
    "id": "_VBFfeajuKtH",
    "outputId": "68a6a8ed-1a88-4d88-a140-213716f1ada8"
   },
   "outputs": [
    {
     "data": {
      "text/plain": [
       "Decoded(data=b'DLWmCjcZRnGCpaWZxD2uZZ8Tad1oKAhBwa', type='QRCODE', rect=Rect(left=247, top=144, width=240, height=239), polygon=[Point(x=247, y=174), Point(x=273, y=383), Point(x=487, y=368), Point(x=465, y=144)])"
      ]
     },
     "execution_count": 68,
     "metadata": {},
     "output_type": "execute_result"
    }
   ],
   "source": [
    "scan[0]"
   ]
  },
  {
   "cell_type": "code",
   "execution_count": 69,
   "metadata": {
    "colab": {
     "base_uri": "https://localhost:8080/",
     "height": 36
    },
    "id": "AAozxKb4uN5Y",
    "outputId": "31cdeba2-7206-4ec8-b323-3d914d531cb8"
   },
   "outputs": [
    {
     "data": {
      "application/vnd.google.colaboratory.intrinsic+json": {
       "type": "string"
      },
      "text/plain": [
       "'DLWmCjcZRnGCpaWZxD2uZZ8Tad1oKAhBwa'"
      ]
     },
     "execution_count": 69,
     "metadata": {},
     "output_type": "execute_result"
    }
   ],
   "source": [
    "thief=scan[0].data.decode().split(':')[-1]\n",
    "thief"
   ]
  },
  {
   "cell_type": "code",
   "execution_count": 71,
   "metadata": {
    "colab": {
     "base_uri": "https://localhost:8080/"
    },
    "id": "utJryMiGvksQ",
    "outputId": "b9c250d7-8e97-4644-fa2d-71a0ba09cd2e"
   },
   "outputs": [
    {
     "data": {
      "text/plain": [
       "[{'address': 'DLWmCjcZRnGCpaWZxD2uZZ8Tad1oKAhBwa', 'value': 6600000000}]"
      ]
     },
     "execution_count": 71,
     "metadata": {},
     "output_type": "execute_result"
    }
   ],
   "source": [
    "destinos=[{'value': disponible, 'address': thief} ]\n",
    "destinos"
   ]
  },
  {
   "cell_type": "code",
   "execution_count": null,
   "metadata": {
    "id": "J3ZTNuSLwHzk"
   },
   "outputs": [],
   "source": []
  }
 ],
 "metadata": {
  "colab": {
   "name": "06_cuaderno.ipynb",
   "provenance": []
  },
  "kernelspec": {
   "display_name": "Python 3",
   "language": "python",
   "name": "python3"
  },
  "language_info": {
   "codemirror_mode": {
    "name": "ipython",
    "version": 3
   },
   "file_extension": ".py",
   "mimetype": "text/x-python",
   "name": "python",
   "nbconvert_exporter": "python",
   "pygments_lexer": "ipython3",
   "version": "3.7.6"
  }
 },
 "nbformat": 4,
 "nbformat_minor": 1
}
