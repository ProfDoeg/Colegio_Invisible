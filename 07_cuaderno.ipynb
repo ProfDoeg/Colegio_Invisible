{
  "cells": [
    {
      "cell_type": "markdown",
      "metadata": {
        "id": "VvuVL0P4VxMP"
      },
      "source": [
        "#MultiSig\n",
        "\n",
        "<a href=\"https://colab.research.google.com/github/ProfDoeg/Colegio_Invisible/blob/master/07_cuaderno.ipynb\" target=\"_parent\"><img src=\"https://colab.research.google.com/assets/colab-badge.svg\" alt=\"Open In Colab\"/></a>"
      ]
    },
    {
      "cell_type": "markdown",
      "metadata": {
        "id": "wM-07E7SjTJW"
      },
      "source": [
        "# Preparar el Espacio (Prepare the Space)"
      ]
    },
    {
      "cell_type": "code",
      "execution_count": null,
      "metadata": {
        "id": "wSOgJBxoVxMU"
      },
      "outputs": [],
      "source": [
        "! pip install eciespy eth_keys cryptos qrcode base58 \n",
        "! git clone https://github.com/ProfDoeg/Colegio_Invisible.git"
      ]
    },
    {
      "cell_type": "markdown",
      "metadata": {
        "id": "A1DQRCdLxW9P"
      },
      "source": [
        ""
      ]
    },
    {
      "cell_type": "markdown",
      "metadata": {
        "id": "N9BkUDVqjgdA"
      },
      "source": [
        "# Crear Transacciones de Criptomoneda (Create Cryptocurrency Transactions)\n",
        "\n",
        "## Esquema (Outline) \n",
        "\n",
        "***\n",
        "\n",
        " \n",
        "## Metas (Goals)\n",
        "***\n",
        "***\n",
        "By the end of this notebook you should be able to:\n",
        "***\n",
        "Al final de este cuaderno, usted debería ser capaz de:\n",
        "***\n",
        "***\n",
        "- Multisig\n",
        "-"
      ]
    },
    {
      "cell_type": "markdown",
      "metadata": {
        "id": "BETMcDza0M2m"
      },
      "source": [
        "# Importaciones y Definiciones (Imports and Definitions)\n",
        "\n",
        "Crear funciones para importar claves y direcciones de criptomonedas.\n",
        "***\n",
        "Create functions for importing keys and cryptocurrency addresses."
      ]
    },
    {
      "cell_type": "code",
      "execution_count": null,
      "metadata": {
        "id": "phMoOlb1VxMT"
      },
      "outputs": [],
      "source": [
        "import hashlib\n",
        "import os\n",
        "import getpass\n",
        "import ecies\n",
        "import eth_keys\n",
        "import cryptos\n",
        "import qrcode\n",
        "import base58\n",
        "from PIL import Image\n",
        "import matplotlib.pyplot as plt\n",
        "%matplotlib inline"
      ]
    },
    {
      "cell_type": "code",
      "execution_count": null,
      "metadata": {
        "id": "sPi_0BLRWa1z"
      },
      "outputs": [],
      "source": [
        "def import_privKey(privkey_filepath,password=None):\n",
        "    if password==None:\n",
        "        password = getpass.getpass(\"Input password for decrypting keyfile: \")\n",
        "    password=password.encode()\n",
        "    f=open(privkey_filepath,'rb')\n",
        "    decrypted_bytes=ecies.aes_decrypt(key=hashlib.sha256(password).digest(),cipher_text=f.read())\n",
        "    privKey=eth_keys.keys.PrivateKey(decrypted_bytes)\n",
        "    return privKey\n",
        "\n",
        "def import_pubKey(pubkey_filepath):\n",
        "    f=open(pubkey_filepath,'rb')\n",
        "    privKey=eth_keys.keys.PublicKey(f.read())\n",
        "    return privKey\n",
        "\n",
        "def import_addr(addr_filepath):\n",
        "    return open(addr_filepath,'rb').read().decode()"
      ]
    },
    {
      "cell_type": "markdown",
      "metadata": {
        "id": "yOcQvpiFXag0"
      },
      "source": [
        "# Comenzar con Claves Existentes (Start with Existing Keys)\n",
        "\n",
        "Acceder a las claves generadas en el cuaderno 5\n",
        "***\n",
        "Access the keys generated in the cuaderno 5"
      ]
    },
    {
      "cell_type": "markdown",
      "metadata": {
        "id": "0kYYEFx40an1"
      },
      "source": [
        "## Comenzar con Claves en Google Drive (Start with Keys on Google Drive)"
      ]
    },
    {
      "cell_type": "code",
      "execution_count": null,
      "metadata": {
        "id": "DLmgNafNWa5O"
      },
      "outputs": [],
      "source": [
        "from google.colab import drive\n",
        "drive.mount('/content/drive')"
      ]
    },
    {
      "cell_type": "code",
      "execution_count": null,
      "metadata": {
        "id": "x6oDx7tbWa72"
      },
      "outputs": [],
      "source": [
        "! cp drive/MyDrive/cinv/llaves.zip llaves.zip \n",
        "! unzip llaves.zip\n"
      ]
    },
    {
      "cell_type": "markdown",
      "metadata": {
        "id": "sPvP5mkdcRu6"
      },
      "source": [
        "## Comenzar con Claves en la Disco Local\n",
        "## (Start with Keys on Local Drive)"
      ]
    },
    {
      "cell_type": "code",
      "execution_count": null,
      "metadata": {
        "id": "HIfCIuaRWa_b"
      },
      "outputs": [],
      "source": [
        "#from google.colab import files\n",
        "#fu=files.upload();"
      ]
    },
    {
      "cell_type": "code",
      "execution_count": null,
      "metadata": {
        "id": "Mk7eTjCPWbCS"
      },
      "outputs": [],
      "source": [
        "#! unzip llaves.zip"
      ]
    },
    {
      "cell_type": "code",
      "execution_count": null,
      "metadata": {
        "id": "hmAorBMjeA8j"
      },
      "outputs": [],
      "source": [
        "#! ls llaves"
      ]
    },
    {
      "cell_type": "markdown",
      "metadata": {
        "id": "QCY7Dye8dlXo"
      },
      "source": [
        "# Import Private Key, Public Key and Address"
      ]
    },
    {
      "cell_type": "code",
      "execution_count": null,
      "metadata": {
        "id": "P6sggp7WdmQ7"
      },
      "outputs": [],
      "source": [
        "privKey=import_privKey('llaves/mi_prv.enc','')\n",
        "pub=import_pubKey('llaves/mi_pub.bin').to_hex()\n",
        "addr=import_addr('llaves/mi_addr.bin')"
      ]
    },
    {
      "cell_type": "code",
      "source": [
        "pub"
      ],
      "metadata": {
        "id": "uJ_bZ0341mux"
      },
      "execution_count": null,
      "outputs": []
    },
    {
      "cell_type": "code",
      "execution_count": null,
      "metadata": {
        "id": "4DozdPP8dmUT"
      },
      "outputs": [],
      "source": [
        "addr"
      ]
    },
    {
      "cell_type": "code",
      "execution_count": null,
      "metadata": {
        "id": "5PL8cGwYnvGp"
      },
      "outputs": [],
      "source": [
        "from IPython.display import Image\n",
        "qr=Image('llaves/mi_addr.png')\n",
        "display(qr)"
      ]
    },
    {
      "cell_type": "markdown",
      "source": [
        "# Import "
      ],
      "metadata": {
        "id": "2eJi4dcY1HDK"
      }
    },
    {
      "cell_type": "markdown",
      "metadata": {
        "id": "84vTBrTc0hQm"
      },
      "source": [
        "# Connect to Colegio Message Spreadsheet"
      ]
    },
    {
      "cell_type": "markdown",
      "metadata": {
        "id": "1txSB4pVjGpU"
      },
      "source": [
        "## Decrypt Credentials\n",
        "\n",
        "$\\color{white}{\\text{c0leg101nv1s1ble}}$\n",
        "\n",
        "Use la contraseña de arriba para descifrar las credenciales\n",
        "***\n",
        "Use password above to decrypt credentials\n"
      ]
    },
    {
      "cell_type": "code",
      "execution_count": null,
      "metadata": {
        "id": "7KJWkuzviJut"
      },
      "outputs": [],
      "source": [
        "! python Colegio_Invisible/scripts/aes_decrypt.py c0leg101nv1s1ble Colegio_Invisible/secrets/client_secret.aes Colegio_Invisible/secrets/client_secret.json "
      ]
    },
    {
      "cell_type": "markdown",
      "metadata": {
        "id": "IE3ReCLc0-Un"
      },
      "source": [
        "## Autenticar y Conectarse a la Google Sheet de Mensajes (Authenticate and Connect to Message Google Sheet)\n",
        "\n",
        "Autenticarse usando credenciales descifradas para la API de Google Drive.\\\n",
        "Use la biblioteca `gspread` para leer y escribir en una hoja de cálculo compartida.\n",
        "***\n",
        "Authenticate using decrypted credentials for Google Drive API.\\\n",
        "Use `gspread` library to read and write to shared spreadsheet."
      ]
    },
    {
      "cell_type": "code",
      "execution_count": null,
      "metadata": {
        "id": "wAojvQCldmX0"
      },
      "outputs": [],
      "source": [
        "import gspread\n",
        "from oauth2client.service_account import ServiceAccountCredentials\n",
        "# use creds to create a client to interact with the Google Drive API\n",
        "scope = ['https://spreadsheets.google.com/feeds',\n",
        "         'https://www.googleapis.com/auth/drive']\n",
        "creds = ServiceAccountCredentials.from_json_keyfile_name('Colegio_Invisible/secrets/client_secret.json', scope)\n",
        "client = gspread.authorize(creds)\n",
        "sheets = client.open(\"signatures\")"
      ]
    },
    {
      "cell_type": "markdown",
      "metadata": {
        "id": "pcbvfyY42VGH"
      },
      "source": [
        "# Leer y Escribir en la Google Sheet de Mensajes (Read and Write to Messages Google Sheet)"
      ]
    },
    {
      "cell_type": "markdown",
      "metadata": {
        "id": "SjknPsHI1ks1"
      },
      "source": [
        "## Leer Google Sheet (Read Google Sheet)"
      ]
    },
    {
      "cell_type": "code",
      "execution_count": null,
      "metadata": {
        "id": "PkHtmQi5dmbL"
      },
      "outputs": [],
      "source": [
        "sheets.worksheets()"
      ]
    },
    {
      "cell_type": "code",
      "execution_count": null,
      "metadata": {
        "id": "BllKzSYnk6QG"
      },
      "outputs": [],
      "source": [
        "sheet4=sheets.worksheets()[4]\n",
        "sheet4.row_values(1)"
      ]
    },
    {
      "cell_type": "code",
      "execution_count": null,
      "metadata": {
        "id": "aiq3qxz0lHjP"
      },
      "outputs": [],
      "source": [
        "#sheet4.clear()\n",
        "#sheet4.append_row([\"name\", \"address\",\"pubkey\"])"
      ]
    },
    {
      "cell_type": "markdown",
      "metadata": {
        "id": "jBL17WWm1shB"
      },
      "source": [
        "## Ingresar el Nombre (Input Name)"
      ]
    },
    {
      "cell_type": "code",
      "execution_count": null,
      "metadata": {
        "id": "qcmkQn-nlq1a"
      },
      "outputs": [],
      "source": [
        "my_name=input('input name')"
      ]
    },
    {
      "cell_type": "markdown",
      "metadata": {
        "id": "px9ZVFpW6OJ7"
      },
      "source": [
        "## Leer Nombres Publicados (Read Posted Names)"
      ]
    },
    {
      "cell_type": "code",
      "execution_count": null,
      "metadata": {
        "id": "jgODKrZC16-Q"
      },
      "outputs": [],
      "source": [
        "peeps=sheet4.col_values(1)[1:]\n",
        "peeps"
      ]
    },
    {
      "cell_type": "markdown",
      "metadata": {
        "id": "c0v2nESr6SvE"
      },
      "source": [
        "## Escribir en la Google Sheet para Publicar Nombre (Write to Google Sheet to Publish Name)\n",
        "\n",
        "Si el nombre está en la lista, escriba la dirección en la celda correspondiente de la hoja\\\n",
        "Si el nombre no está presente, agregue el nombre y la dirección a la hoja\n",
        "***\n",
        "If the name is in the list then write address to the appropriate cell of sheet\\\n",
        "If name is not present append name and address to sheet"
      ]
    },
    {
      "cell_type": "code",
      "source": [
        "pub"
      ],
      "metadata": {
        "id": "I1WwJ1jE4ETS"
      },
      "execution_count": null,
      "outputs": []
    },
    {
      "cell_type": "code",
      "source": [
        "addr"
      ],
      "metadata": {
        "id": "t6-V8weP4HiG"
      },
      "execution_count": null,
      "outputs": []
    },
    {
      "cell_type": "code",
      "execution_count": null,
      "metadata": {
        "id": "62v7BkKEl0XZ"
      },
      "outputs": [],
      "source": [
        "if not (my_name in peeps) :\n",
        "  sheet4.append_row([my_name,addr,pub])\n",
        "else:\n",
        "  sheet4.update_cell(row=peeps.index(my_name)+2,col=2,value=addr)\n",
        "  sheet4.update_cell(row=peeps.index(my_name)+2,col=3,value=pub)"
      ]
    },
    {
      "cell_type": "markdown",
      "metadata": {
        "id": "tqnTEwK16tVd"
      },
      "source": [
        "## Leer Direcciones (Read Addresses)"
      ]
    },
    {
      "cell_type": "code",
      "execution_count": null,
      "metadata": {
        "id": "FTpvcVvRlwCH"
      },
      "outputs": [],
      "source": [
        "import pandas as pd\n",
        "\n",
        "sheet4=sheets.worksheets()[4]\n",
        "dataframe4 = pd.DataFrame(sheet4.get_all_records())\n",
        "dataframe4"
      ]
    },
    {
      "cell_type": "markdown",
      "metadata": {
        "id": "41-zTbdU6zh3"
      },
      "source": [
        "## Construir Lista de los Direcciones de Destinatario (Construct List of Recipient Addresses) "
      ]
    },
    {
      "cell_type": "code",
      "execution_count": null,
      "metadata": {
        "id": "w1agxI8tnGw2"
      },
      "outputs": [],
      "source": [
        "addresses = dataframe4.address.tolist()\n",
        "addresses"
      ]
    },
    {
      "cell_type": "code",
      "source": [
        "pubs = dataframe4.pubkey.tolist()\n",
        "pubs = [ '04'+pb[2:] for pb in pubs ]\n",
        "pubs"
      ],
      "metadata": {
        "id": "fx1oXYmm7YuE"
      },
      "execution_count": null,
      "outputs": []
    },
    {
      "cell_type": "markdown",
      "metadata": {
        "id": "urg0zfXO22qn"
      },
      "source": [
        "# Enviar Direcciones de Criptomonedas con Transacción de Financiación (Send Addresses Cryptocurrency with Funding Transaction)"
      ]
    },
    {
      "cell_type": "markdown",
      "metadata": {
        "id": "I4OpF8TV69_A"
      },
      "source": [
        "## Importar 'cryptos' y Crear un Objeto de Dogecoin (Import `cryptos` and Create Dogecoin Object)"
      ]
    },
    {
      "cell_type": "code",
      "execution_count": null,
      "metadata": {
        "id": "qgRWDKftnWuo"
      },
      "outputs": [],
      "source": [
        "import cryptos"
      ]
    },
    {
      "cell_type": "code",
      "execution_count": null,
      "metadata": {
        "id": "9xKsmVLenZe8"
      },
      "outputs": [],
      "source": [
        "doge=cryptos.Doge()\n",
        "doge.script_magicbyte=22"
      ]
    },
    {
      "cell_type": "code",
      "source": [
        "multi_tup=doge.mk_multsig_address(pubs,1)\n",
        "multi_tup"
      ],
      "metadata": {
        "id": "ba0UpUBJ7Sqh"
      },
      "execution_count": null,
      "outputs": []
    },
    {
      "cell_type": "markdown",
      "metadata": {
        "id": "VEAUYQzS3oNH"
      },
      "source": [
        "## Las Entradas (Inputs)"
      ]
    },
    {
      "cell_type": "markdown",
      "metadata": {
        "id": "EqKLFurZ7EaA"
      },
      "source": [
        "### Identificar la Dirección de Financiación (Identify Funding Address)"
      ]
    },
    {
      "cell_type": "code",
      "execution_count": null,
      "metadata": {
        "id": "4UucG0XUE-2R"
      },
      "outputs": [],
      "source": [
        "banco=addresses[0]\n",
        "banco"
      ]
    },
    {
      "cell_type": "markdown",
      "metadata": {
        "id": "-pPp22Q17NdY"
      },
      "source": [
        "### Determinar las Entradas de UTXO (Determine UTXO Inputs)\n",
        "\n",
        "***\n",
        "***\n",
        "Los UTXO son salidas de transacciones no gastadas. Comenzamos revisando la cadena de bloques para identificar las monedas que la dirección de financiación ha recibido pero que aún no ha gastado. Estos son UTXO.\n",
        "***\n",
        "UTXOs are Unspent Transaction Outputs. We start by checking the blockchain to identify coins the funding address has received but has not yet spent. These are UTXOs. \n",
        "***\n",
        "***\n",
        "\n",
        "Cada UTXO contiene (each UTXO contains):\n",
        "- valor (value)\n",
        "- transacción (transaction)\n",
        "  - hash (hash)\n",
        "  - índice (index)"
      ]
    },
    {
      "cell_type": "code",
      "execution_count": null,
      "metadata": {
        "id": "pE9-8fKVnm09"
      },
      "outputs": [],
      "source": [
        "#UTXOS\n",
        "unspents=doge.unspent(banco)\n",
        "unspents"
      ]
    },
    {
      "cell_type": "markdown",
      "metadata": {
        "id": "eFg05v_CLnUH"
      },
      "source": [
        "### Satoshis\n",
        "\n",
        "El valor se informa en unidades de Satoshis/Dogetoshis. Un Satoshi es un $\\frac{1}{100,000,000}$ de una moneda.\n",
        "***\n",
        "The value is reported in units of Satoshis/Dogetoshis. A Satoshi is $\\frac{1}{100,000,000}$ of a coin."
      ]
    },
    {
      "cell_type": "markdown",
      "metadata": {
        "id": "9b9ut-cB7dqw"
      },
      "source": [
        "### Sumar Salidas No Gastadas (Sum Unspent Outputs)"
      ]
    },
    {
      "cell_type": "code",
      "execution_count": null,
      "metadata": {
        "id": "s0iz3fLn5k29"
      },
      "outputs": [],
      "source": [
        "unspent_total=sum([unspent['value'] for unspent in unspents])\n",
        "unspent_total"
      ]
    },
    {
      "cell_type": "markdown",
      "metadata": {
        "id": "ptMLdngF3v-U"
      },
      "source": [
        "## Salidas (Outputs)"
      ]
    },
    {
      "cell_type": "markdown",
      "metadata": {
        "id": "HGWo-6mW399r"
      },
      "source": [
        "### Calcular Valores de Salida (Calculate Output Values)\n",
        "\n",
        "- `gift`: es la cantidad entregada a cada participante\\\n",
        "(the amount given to each participant)\n",
        "- `gift_total`: la cantidad total entregada\\\n",
        "(the total amount given)\n",
        "- `mining_fee`: cantidad entregada a los mineros\\\n",
        "(amount given to miners)\n",
        "- `change`: cantidad sobrante que el remitente enviará a una dirección de cambio\\\n",
        "(the left over amount that the sender will send to a change address)"
      ]
    },
    {
      "cell_type": "code",
      "execution_count": null,
      "metadata": {
        "id": "ExFkHqcUGAEl"
      },
      "outputs": [],
      "source": [
        "gift=10_00_000_000\n",
        "gift_total = gift * len(addresses)\n",
        "mining_fee = 2_00_000_000\n",
        "change = unspent_total - gift_total - mining_fee "
      ]
    },
    {
      "cell_type": "markdown",
      "metadata": {
        "id": "GkZ4MaOI4H7X"
      },
      "source": [
        "### Construir Lista de Salidas (Construct Output List)\n",
        "***\n",
        "***\n",
        "Crear salidas que incluyan:\n",
        "***\n",
        "Create outputs including:\n",
        "***\n",
        "***\n",
        "- `gift` regalo a cada participante\\\n",
        " (`gift` to each participant)\n",
        "- `change` enviado de vuelta a `banco` direccion\\\n",
        "(`change` sent back to `banco` address)"
      ]
    },
    {
      "cell_type": "code",
      "execution_count": null,
      "metadata": {
        "id": "GcWKCCrCK2sN"
      },
      "outputs": [],
      "source": [
        "outputs=[{'value': gift, 'address': address} for address in addresses]\n",
        "outputs.append({'value': change, 'address': banco})\n",
        "outputs"
      ]
    },
    {
      "cell_type": "markdown",
      "metadata": {
        "id": "0RQU2CM3CLcq"
      },
      "source": [
        "\n",
        "## Hacer Transacción de Financiamiento (Make Funding Transaction)"
      ]
    },
    {
      "cell_type": "code",
      "execution_count": null,
      "metadata": {
        "id": "AvPMjFT5-8-i"
      },
      "outputs": [],
      "source": [
        "fund_txn=doge.mktx(unspents,outputs )\n",
        "fund_txn"
      ]
    },
    {
      "cell_type": "markdown",
      "metadata": {
        "id": "aWB-diD2B4KJ"
      },
      "source": [
        "## Firmar Transacción de Financiamiento (Sign Funding Transaction)"
      ]
    },
    {
      "cell_type": "code",
      "execution_count": null,
      "metadata": {
        "id": "WNLLf9_CDhEt"
      },
      "outputs": [],
      "source": [
        "doge.signall(fund_txn,privKey.to_hex()[2:])"
      ]
    },
    {
      "cell_type": "code",
      "execution_count": null,
      "metadata": {
        "id": "qb9yNJodD1ua"
      },
      "outputs": [],
      "source": [
        "fund_txn"
      ]
    },
    {
      "cell_type": "code",
      "execution_count": null,
      "metadata": {
        "id": "y1F5mNnND-6y"
      },
      "outputs": [],
      "source": [
        "fund_txn_hex=cryptos.serialize(fund_txn)\n",
        "fund_txn_hex"
      ]
    },
    {
      "cell_type": "markdown",
      "metadata": {
        "id": "HAdwajyjFW0i"
      },
      "source": [
        "## Comprobar el Tamaño en Kilobytes de la Transacción (Check Kilobyte Size of Transaction)\n",
        "\n",
        "https://chain.so/DOGE"
      ]
    },
    {
      "cell_type": "code",
      "execution_count": null,
      "metadata": {
        "id": "xhQCkpBLFXXA"
      },
      "outputs": [],
      "source": [
        "kb=len(fund_txn_hex)/2000\n",
        "kb"
      ]
    },
    {
      "cell_type": "code",
      "execution_count": null,
      "metadata": {
        "id": "oGEUIJmJFzMi"
      },
      "outputs": [],
      "source": [
        "mining_fee/1E8/kb"
      ]
    },
    {
      "cell_type": "markdown",
      "metadata": {
        "id": "0tkeC4o0EjjA"
      },
      "source": [
        "## Transmitir la Transacción (Broadcast Transaction)"
      ]
    },
    {
      "cell_type": "code",
      "execution_count": null,
      "metadata": {
        "id": "BqrRV5E8EfmQ"
      },
      "outputs": [],
      "source": [
        "broadcast_fund_txn=doge.pushtx(fund_txn_hex)\n",
        "broadcast_fund_txn"
      ]
    },
    {
      "cell_type": "markdown",
      "metadata": {
        "id": "o_DwTVZYElzf"
      },
      "source": [
        "## Inspeccionar la Transacción (Inspect Transaction)"
      ]
    },
    {
      "cell_type": "code",
      "execution_count": null,
      "metadata": {
        "id": "rcSsInUZEmMM"
      },
      "outputs": [],
      "source": [
        "inspect_fund_txn=doge.fetchtx( broadcast_fund_txn['data']['txid'])\n",
        "inspect_fund_txn"
      ]
    },
    {
      "cell_type": "markdown",
      "metadata": {
        "id": "PEeT1FR9bRhG"
      },
      "source": [
        "# Devolver la Criptomoneda (Return Coins)"
      ]
    },
    {
      "cell_type": "markdown",
      "metadata": {
        "id": "mGBBhevI6E42"
      },
      "source": [
        "## Construir la Transacción de Devolver (Construct Return Transaction)"
      ]
    },
    {
      "cell_type": "markdown",
      "metadata": {
        "id": "IcBKlHhv6NgZ"
      },
      "source": [
        "### Entradas (Inputs)"
      ]
    },
    {
      "cell_type": "code",
      "execution_count": null,
      "metadata": {
        "id": "sAAjmEc7EmT-"
      },
      "outputs": [],
      "source": [
        "mi_unspents=doge.unspent(addr)\n",
        "mi_unspents\n"
      ]
    },
    {
      "cell_type": "code",
      "execution_count": null,
      "metadata": {
        "id": "B8NpTvfAY94c"
      },
      "outputs": [],
      "source": [
        "mi_unspent_total=sum([unspent['value'] for unspent in mi_unspents])\n",
        "mi_unspent_total"
      ]
    },
    {
      "cell_type": "markdown",
      "metadata": {
        "id": "mrhpz6Uu6UiL"
      },
      "source": [
        "### Salidas (Outputs)"
      ]
    },
    {
      "cell_type": "code",
      "execution_count": null,
      "metadata": {
        "id": "FPXpqiQmZM9m"
      },
      "outputs": [],
      "source": [
        "mi_mining_fee = 1_00_000_000\n",
        "disponible = mi_unspent_total - mi_mining_fee\n",
        "disponible"
      ]
    },
    {
      "cell_type": "code",
      "execution_count": null,
      "metadata": {
        "id": "ddlAokUEbSq9"
      },
      "outputs": [],
      "source": [
        "destinos=[{'value': disponible, 'address': banco} ]\n",
        "destinos"
      ]
    },
    {
      "cell_type": "markdown",
      "metadata": {
        "id": "urwleyYGq1G0"
      },
      "source": [
        "## Pare !! Ladrón !! (Stop Thief)\n",
        "\n",
        "Para robar las monedas en lugar de devolverlas, ejecute las celdas **`Ladrón`** al final del cuaderno.\n",
        "***\n",
        "To steal the coins instead of returning them, run the **`Ladrón`** cells at the end of the notebook."
      ]
    },
    {
      "cell_type": "markdown",
      "metadata": {
        "id": "NFyHIOEw6gpJ"
      },
      "source": [
        "### Construcción (Constuction)"
      ]
    },
    {
      "cell_type": "code",
      "execution_count": null,
      "metadata": {
        "id": "UeGISrRzbEBm"
      },
      "outputs": [],
      "source": [
        "volver_txn=doge.mktx(mi_unspents, destinos)\n",
        "volver_txn"
      ]
    },
    {
      "cell_type": "markdown",
      "metadata": {
        "id": "PrLgczn26uoP"
      },
      "source": [
        "## Firmar y Serializar (Sign and Serialize)"
      ]
    },
    {
      "cell_type": "code",
      "execution_count": null,
      "metadata": {
        "id": "G9Jts_ercWh7"
      },
      "outputs": [],
      "source": [
        "doge.signall(volver_txn,privKey.to_hex()[2:]);"
      ]
    },
    {
      "cell_type": "code",
      "execution_count": null,
      "metadata": {
        "id": "sUaXWuf7c1xS"
      },
      "outputs": [],
      "source": [
        "volver_txn_hex=cryptos.serialize(volver_txn)\n",
        "volver_txn_hex"
      ]
    },
    {
      "cell_type": "markdown",
      "metadata": {
        "id": "V2J8P19261CF"
      },
      "source": [
        "## Transmisión (Broadcast)"
      ]
    },
    {
      "cell_type": "code",
      "execution_count": null,
      "metadata": {
        "id": "k-igOHK9co_s"
      },
      "outputs": [],
      "source": [
        "broadcast_volver_txn=doge.pushtx(volver_txn_hex)\n",
        "broadcast_volver_txn"
      ]
    },
    {
      "cell_type": "markdown",
      "metadata": {
        "id": "t5jxiWL664vU"
      },
      "source": [
        "## Supervisar la Red (Monitor the Network)"
      ]
    },
    {
      "cell_type": "code",
      "execution_count": null,
      "metadata": {
        "id": "njKNyjK6d7-L"
      },
      "outputs": [],
      "source": [
        "inspect_volver_txn=doge.fetchtx( broadcast_volver_txn['data']['txid'])\n",
        "inspect_volver_txn"
      ]
    },
    {
      "cell_type": "markdown",
      "metadata": {
        "id": "d1hJ9VO5s9Zo"
      },
      "source": [
        "****\n",
        "****\n",
        "\n",
        "# Ladrón \n",
        "\n",
        "***\n",
        "***"
      ]
    },
    {
      "cell_type": "code",
      "execution_count": null,
      "metadata": {
        "id": "ALEaskA_twHn"
      },
      "outputs": [],
      "source": [
        "!pip install pyzbar[scripts]\n",
        "!apt install libzbar0"
      ]
    },
    {
      "cell_type": "code",
      "execution_count": null,
      "metadata": {
        "id": "svnHbzwrtDv8"
      },
      "outputs": [],
      "source": [
        "from IPython.display import display, Javascript\n",
        "from google.colab.output import eval_js\n",
        "from base64 import b64decode\n",
        "\n",
        "def take_photo(filename='photo.jpg', quality=0.8):\n",
        "  js = Javascript('''\n",
        "    async function takePhoto(quality) {\n",
        "      const div = document.createElement('div');\n",
        "      const capture = document.createElement('button');\n",
        "      capture.textContent = 'Capture';\n",
        "      div.appendChild(capture);\n",
        "\n",
        "      const video = document.createElement('video');\n",
        "      video.style.display = 'block';\n",
        "      const stream = await navigator.mediaDevices.getUserMedia({video: true});\n",
        "\n",
        "      document.body.appendChild(div);\n",
        "      div.appendChild(video);\n",
        "      video.srcObject = stream;\n",
        "      await video.play();\n",
        "\n",
        "      // Resize the output to fit the video element.\n",
        "      google.colab.output.setIframeHeight(document.documentElement.scrollHeight, true);\n",
        "\n",
        "      // Wait for Capture to be clicked.\n",
        "      await new Promise((resolve) => capture.onclick = resolve);\n",
        "\n",
        "      const canvas = document.createElement('canvas');\n",
        "      canvas.width = video.videoWidth;\n",
        "      canvas.height = video.videoHeight;\n",
        "      canvas.getContext('2d').drawImage(video, 0, 0);\n",
        "      stream.getVideoTracks()[0].stop();\n",
        "      div.remove();\n",
        "      return canvas.toDataURL('image/jpeg', quality);\n",
        "    }\n",
        "    ''')\n",
        "  display(js)\n",
        "  data = eval_js('takePhoto({})'.format(quality))\n",
        "  binary = b64decode(data.split(',')[1])\n",
        "  with open(filename, 'wb') as f:\n",
        "    f.write(binary)\n",
        "  return filename"
      ]
    },
    {
      "cell_type": "code",
      "execution_count": null,
      "metadata": {
        "id": "AY9lIlIathRa"
      },
      "outputs": [],
      "source": [
        "from IPython.display import Image\n",
        "try:\n",
        "  filename = take_photo()\n",
        "  print('Saved to {}'.format(filename))\n",
        "  \n",
        "  # Show the image which was just taken.\n",
        "  display(Image(filename))\n",
        "except Exception as err:\n",
        "  # Errors will be thrown if the user does not have a webcam or if they do not\n",
        "  # grant the page permission to access it.\n",
        "  print(str(err))"
      ]
    },
    {
      "cell_type": "code",
      "execution_count": null,
      "metadata": {
        "id": "wvfgx-Dnti8p"
      },
      "outputs": [],
      "source": [
        "from pyzbar.pyzbar import decode\n",
        "from PIL import Image\n",
        "scan=decode(Image.open('photo.jpg'))\n",
        "scan"
      ]
    },
    {
      "cell_type": "code",
      "execution_count": null,
      "metadata": {
        "id": "_VBFfeajuKtH"
      },
      "outputs": [],
      "source": [
        "scan[0]"
      ]
    },
    {
      "cell_type": "code",
      "execution_count": null,
      "metadata": {
        "id": "AAozxKb4uN5Y"
      },
      "outputs": [],
      "source": [
        "thief=scan[0].data.decode().split(':')[-1]\n",
        "thief"
      ]
    },
    {
      "cell_type": "code",
      "execution_count": null,
      "metadata": {
        "id": "utJryMiGvksQ"
      },
      "outputs": [],
      "source": [
        "destinos=[{'value': disponible, 'address': thief} ]\n",
        "destinos"
      ]
    },
    {
      "cell_type": "code",
      "execution_count": null,
      "metadata": {
        "id": "J3ZTNuSLwHzk"
      },
      "outputs": [],
      "source": [
        ""
      ]
    }
  ],
  "metadata": {
    "colab": {
      "name": "07_cuaderno.ipynb",
      "provenance": []
    },
    "kernelspec": {
      "display_name": "Python 3",
      "language": "python",
      "name": "python3"
    },
    "language_info": {
      "codemirror_mode": {
        "name": "ipython",
        "version": 3
      },
      "file_extension": ".py",
      "mimetype": "text/x-python",
      "name": "python",
      "nbconvert_exporter": "python",
      "pygments_lexer": "ipython3",
      "version": "3.7.6"
    }
  },
  "nbformat": 4,
  "nbformat_minor": 0
}