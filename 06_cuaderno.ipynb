{
  "cells": [
    {
      "cell_type": "markdown",
      "metadata": {
        "id": "VvuVL0P4VxMP"
      },
      "source": [
        "<a href=\"https://colab.research.google.com/github/ProfDoeg/Colegio_Invisible/blob/master/06_cuaderno.ipynb\" target=\"_parent\"><img src=\"https://colab.research.google.com/assets/colab-badge.svg\" alt=\"Open In Colab\"/></a>"
      ]
    },
    {
      "cell_type": "code",
      "execution_count": null,
      "metadata": {
        "id": "wSOgJBxoVxMU"
      },
      "outputs": [],
      "source": [
        "! pip install eciespy eth_keys cryptos qrcode base58 \n",
        "! git clone https://github.com/ProfDoeg/Colegio_Invisible.git"
      ]
    },
    {
      "cell_type": "code",
      "execution_count": null,
      "metadata": {
        "id": "phMoOlb1VxMT"
      },
      "outputs": [],
      "source": [
        "import hashlib\n",
        "import os\n",
        "import getpass\n",
        "import ecies\n",
        "import eth_keys\n",
        "import cryptos\n",
        "import qrcode\n",
        "import base58\n",
        "from PIL import Image\n",
        "import matplotlib.pyplot as plt\n",
        "%matplotlib inline"
      ]
    },
    {
      "cell_type": "code",
      "source": [
        "def import_privKey(privkey_filepath,password=None):\n",
        "    if password==None:\n",
        "        password = getpass.getpass(\"Input password for decrypting keyfile: \")\n",
        "    password=password.encode()\n",
        "    f=open(privkey_filepath,'rb')\n",
        "    decrypted_bytes=ecies.aes_decrypt(key=hashlib.sha256(password).digest(),cipher_text=f.read())\n",
        "    privKey=eth_keys.keys.PrivateKey(decrypted_bytes)\n",
        "    return privKey\n",
        "\n",
        "def import_pubKey(pubkey_filepath):\n",
        "    f=open(pubkey_filepath,'rb')\n",
        "    privKey=eth_keys.keys.PublicKey(f.read())\n",
        "    return privKey\n",
        "\n",
        "def import_addr(addr_filepath):\n",
        "    return open(addr_filepath,'rb').read().decode()"
      ],
      "metadata": {
        "id": "sPi_0BLRWa1z"
      },
      "execution_count": null,
      "outputs": []
    },
    {
      "cell_type": "markdown",
      "source": [
        "# starting from existing keys\n",
        "\n",
        "## Empezar desde Keys en Google Drive\n",
        "## (Start from Keys on Google Drive)"
      ],
      "metadata": {
        "id": "yOcQvpiFXag0"
      }
    },
    {
      "cell_type": "code",
      "source": [
        "from google.colab import drive\n",
        "drive.mount('/content/drive')"
      ],
      "metadata": {
        "id": "DLmgNafNWa5O"
      },
      "execution_count": null,
      "outputs": []
    },
    {
      "cell_type": "code",
      "source": [
        "! cp drive/MyDrive/cinv/llaves.zip llaves.zip \n",
        "! unzip llaves.zip"
      ],
      "metadata": {
        "id": "x6oDx7tbWa72"
      },
      "execution_count": null,
      "outputs": []
    },
    {
      "cell_type": "markdown",
      "source": [
        "## Comenzar desde las Claves en la Disco Local\n",
        "## (Start from Keys on Local Drive)"
      ],
      "metadata": {
        "id": "sPvP5mkdcRu6"
      }
    },
    {
      "cell_type": "code",
      "source": [
        "from google.colab import files\n",
        "fu=files.upload();"
      ],
      "metadata": {
        "id": "HIfCIuaRWa_b"
      },
      "execution_count": null,
      "outputs": []
    },
    {
      "cell_type": "code",
      "source": [
        "! unzip llaves.zip"
      ],
      "metadata": {
        "id": "Mk7eTjCPWbCS"
      },
      "execution_count": null,
      "outputs": []
    },
    {
      "cell_type": "code",
      "source": [
        "! ls llaves"
      ],
      "metadata": {
        "id": "hmAorBMjeA8j"
      },
      "execution_count": null,
      "outputs": []
    },
    {
      "cell_type": "code",
      "source": [
        "! ls\n",
        "#! rm -r llaves\n",
        "#! rm llaves_.zip"
      ],
      "metadata": {
        "id": "ccC-pggE7lYN"
      },
      "execution_count": null,
      "outputs": []
    },
    {
      "cell_type": "markdown",
      "source": [
        "# Import Private Key and Address"
      ],
      "metadata": {
        "id": "QCY7Dye8dlXo"
      }
    },
    {
      "cell_type": "code",
      "source": [
        "privKey=import_privKey('llaves/mi_prv.enc','')\n",
        "addr=import_addr('llaves/mi_addr.bin')"
      ],
      "metadata": {
        "id": "P6sggp7WdmQ7"
      },
      "execution_count": null,
      "outputs": []
    },
    {
      "cell_type": "code",
      "source": [
        "addr"
      ],
      "metadata": {
        "id": "4DozdPP8dmUT"
      },
      "execution_count": null,
      "outputs": []
    },
    {
      "cell_type": "code",
      "source": [
        "from IPython.display import Image\n",
        "qr=Image('llaves/mi_addr.png')\n",
        "display(qr)"
      ],
      "metadata": {
        "id": "5PL8cGwYnvGp"
      },
      "execution_count": null,
      "outputs": []
    },
    {
      "cell_type": "markdown",
      "source": [
        "# Decrypt Credentials"
      ],
      "metadata": {
        "id": "1txSB4pVjGpU"
      }
    },
    {
      "cell_type": "code",
      "source": [
        ""
      ],
      "metadata": {
        "id": "bRrqV_VUojRI"
      },
      "execution_count": null,
      "outputs": []
    },
    {
      "cell_type": "code",
      "source": [
        "! python Colegio_Invisible/scripts/aes_decrypt.py Colegio_Invisible/secrets/client_secret.aes Colegio_Invisible/secrets/client_secret.json "
      ],
      "metadata": {
        "id": "7KJWkuzviJut"
      },
      "execution_count": null,
      "outputs": []
    },
    {
      "cell_type": "markdown",
      "source": [
        "# Authenticate and Connect to Sheets"
      ],
      "metadata": {
        "id": "IE3ReCLc0-Un"
      }
    },
    {
      "cell_type": "code",
      "source": [
        "import gspread\n",
        "from oauth2client.service_account import ServiceAccountCredentials\n",
        "# use creds to create a client to interact with the Google Drive API\n",
        "scope = ['https://spreadsheets.google.com/feeds',\n",
        "         'https://www.googleapis.com/auth/drive']\n",
        "creds = ServiceAccountCredentials.from_json_keyfile_name('Colegio_Invisible/secrets/client_secret.json', scope)\n",
        "client = gspread.authorize(creds)\n",
        "sheets = client.open(\"signatures\")"
      ],
      "metadata": {
        "id": "wAojvQCldmX0"
      },
      "execution_count": null,
      "outputs": []
    },
    {
      "cell_type": "markdown",
      "source": [
        "# View Sheets"
      ],
      "metadata": {
        "id": "SjknPsHI1ks1"
      }
    },
    {
      "cell_type": "code",
      "source": [
        "sheets.worksheets()"
      ],
      "metadata": {
        "id": "PkHtmQi5dmbL"
      },
      "execution_count": null,
      "outputs": []
    },
    {
      "cell_type": "code",
      "source": [
        "sheet4=sheets.worksheets()[4]\n",
        "sheet4.row_values(1)"
      ],
      "metadata": {
        "id": "BllKzSYnk6QG"
      },
      "execution_count": null,
      "outputs": []
    },
    {
      "cell_type": "code",
      "source": [
        "#sheet4.clear()\n",
        "#sheet4.append_row([\"name\", \"address\"])"
      ],
      "metadata": {
        "id": "aiq3qxz0lHjP"
      },
      "execution_count": null,
      "outputs": []
    },
    {
      "cell_type": "markdown",
      "source": [
        "# Input Name"
      ],
      "metadata": {
        "id": "jBL17WWm1shB"
      }
    },
    {
      "cell_type": "code",
      "source": [
        "my_name=input('input name')"
      ],
      "metadata": {
        "id": "qcmkQn-nlq1a"
      },
      "execution_count": null,
      "outputs": []
    },
    {
      "cell_type": "markdown",
      "source": [
        "# Posted Names"
      ],
      "metadata": {
        "id": "px9ZVFpW6OJ7"
      }
    },
    {
      "cell_type": "code",
      "source": [
        "peeps=sheet4.col_values(1)[1:]\n",
        "peeps"
      ],
      "metadata": {
        "id": "jgODKrZC16-Q"
      },
      "execution_count": null,
      "outputs": []
    },
    {
      "cell_type": "markdown",
      "source": [
        "If your name is in the list then write address to the appropriate cell of sheet. \n",
        "\n",
        "If name is not present append name and address to sheet"
      ],
      "metadata": {
        "id": "c0v2nESr6SvE"
      }
    },
    {
      "cell_type": "code",
      "source": [
        "if not (my_name in peeps) :\n",
        "  sheet4.append_row([my_name,addr])\n",
        "else:\n",
        "  sheet4.update_cell(row=peeps.index(my_name)+2,col=2,value=addr)"
      ],
      "metadata": {
        "id": "62v7BkKEl0XZ"
      },
      "execution_count": null,
      "outputs": []
    },
    {
      "cell_type": "markdown",
      "source": [
        "# View Sheet"
      ],
      "metadata": {
        "id": "tqnTEwK16tVd"
      }
    },
    {
      "cell_type": "code",
      "source": [
        "import pandas as pd\n",
        "\n",
        "dataframe4 = pd.DataFrame(sheet4.get_all_records())\n",
        "dataframe4"
      ],
      "metadata": {
        "id": "FTpvcVvRlwCH"
      },
      "execution_count": null,
      "outputs": []
    },
    {
      "cell_type": "markdown",
      "source": [
        "# Extract Addresses"
      ],
      "metadata": {
        "id": "41-zTbdU6zh3"
      }
    },
    {
      "cell_type": "code",
      "source": [
        "addresses=dataframe4.address.tolist()\n",
        "addresses"
      ],
      "metadata": {
        "id": "w1agxI8tnGw2"
      },
      "execution_count": null,
      "outputs": []
    },
    {
      "cell_type": "markdown",
      "source": [
        "import cryptos library and create Dogecoin object"
      ],
      "metadata": {
        "id": "I4OpF8TV69_A"
      }
    },
    {
      "cell_type": "code",
      "source": [
        "import cryptos"
      ],
      "metadata": {
        "id": "qgRWDKftnWuo"
      },
      "execution_count": null,
      "outputs": []
    },
    {
      "cell_type": "code",
      "source": [
        "doge=cryptos.Doge()"
      ],
      "metadata": {
        "id": "9xKsmVLenZe8"
      },
      "execution_count": null,
      "outputs": []
    },
    {
      "cell_type": "markdown",
      "source": [
        "# Identify Funding Address as `banco`"
      ],
      "metadata": {
        "id": "EqKLFurZ7EaA"
      }
    },
    {
      "cell_type": "code",
      "source": [
        "banco=addresses[0]\n",
        "banco"
      ],
      "metadata": {
        "id": "4UucG0XUE-2R"
      },
      "execution_count": null,
      "outputs": []
    },
    {
      "cell_type": "markdown",
      "source": [
        "## Determine Unspent Outputs"
      ],
      "metadata": {
        "id": "-pPp22Q17NdY"
      }
    },
    {
      "cell_type": "code",
      "source": [
        "unspents=doge.unspent(banco)\n",
        "unspents"
      ],
      "metadata": {
        "id": "pE9-8fKVnm09"
      },
      "execution_count": null,
      "outputs": []
    },
    {
      "cell_type": "markdown",
      "source": [
        "## Sum Unspent Outputs"
      ],
      "metadata": {
        "id": "9b9ut-cB7dqw"
      }
    },
    {
      "cell_type": "code",
      "source": [
        "unspent_total=sum([unspent['value'] for unspent in unspents])\n",
        "unspent_total"
      ],
      "metadata": {
        "id": "s0iz3fLn5k29"
      },
      "execution_count": null,
      "outputs": []
    },
    {
      "cell_type": "code",
      "source": [
        "gift=10_00_000_000\n",
        "gift_total = gift * len(addresses)\n",
        "mining_fee = 2_00_000_000\n",
        "change = unspent_total - gift_total - mining_fee "
      ],
      "metadata": {
        "id": "ExFkHqcUGAEl"
      },
      "execution_count": null,
      "outputs": []
    },
    {
      "cell_type": "code",
      "source": [
        "outputs=[{'value': gift, 'address': address} for address in addresses]\n",
        "outputs.append({'value': change, 'address': banco})\n",
        "outputs"
      ],
      "metadata": {
        "id": "GcWKCCrCK2sN"
      },
      "execution_count": null,
      "outputs": []
    },
    {
      "cell_type": "markdown",
      "source": [
        "# Make Funding Transaction"
      ],
      "metadata": {
        "id": "0RQU2CM3CLcq"
      }
    },
    {
      "cell_type": "code",
      "source": [
        "fund_txn=doge.mktx(unspents,outputs )\n",
        "fund_txn"
      ],
      "metadata": {
        "id": "AvPMjFT5-8-i"
      },
      "execution_count": null,
      "outputs": []
    },
    {
      "cell_type": "markdown",
      "source": [
        "#Sign Transaction"
      ],
      "metadata": {
        "id": "aWB-diD2B4KJ"
      }
    },
    {
      "cell_type": "code",
      "source": [
        "doge.signall(fund_txn,privKey.to_hex()[2:])"
      ],
      "metadata": {
        "id": "WNLLf9_CDhEt"
      },
      "execution_count": null,
      "outputs": []
    },
    {
      "cell_type": "code",
      "source": [
        "fund_txn"
      ],
      "metadata": {
        "id": "qb9yNJodD1ua"
      },
      "execution_count": null,
      "outputs": []
    },
    {
      "cell_type": "code",
      "source": [
        "fund_txn_hex=cryptos.serialize(fund_txn)\n",
        "fund_txn_hex"
      ],
      "metadata": {
        "id": "y1F5mNnND-6y"
      },
      "execution_count": null,
      "outputs": []
    },
    {
      "cell_type": "markdown",
      "source": [
        "# Check kilobyte size of transaction"
      ],
      "metadata": {
        "id": "HAdwajyjFW0i"
      }
    },
    {
      "cell_type": "code",
      "source": [
        "kb=len(fund_txn_hex)/2000\n",
        "kb"
      ],
      "metadata": {
        "id": "xhQCkpBLFXXA"
      },
      "execution_count": null,
      "outputs": []
    },
    {
      "cell_type": "code",
      "source": [
        "mining_fee/1E8/kb"
      ],
      "metadata": {
        "id": "oGEUIJmJFzMi"
      },
      "execution_count": null,
      "outputs": []
    },
    {
      "cell_type": "markdown",
      "source": [
        "# Broadcast Transaction"
      ],
      "metadata": {
        "id": "0tkeC4o0EjjA"
      }
    },
    {
      "cell_type": "code",
      "source": [
        "broadcast_fund_txn=doge.pushtx(fund_txn_hex)\n",
        "broadcast_fund_txn"
      ],
      "metadata": {
        "id": "BqrRV5E8EfmQ"
      },
      "execution_count": null,
      "outputs": []
    },
    {
      "cell_type": "markdown",
      "source": [
        "# Inspect Transaction"
      ],
      "metadata": {
        "id": "o_DwTVZYElzf"
      }
    },
    {
      "cell_type": "code",
      "source": [
        "inspect_fund_txn=doge.fetchtx( broadcast_fund_txn_hex['data']['txid'])\n",
        "inspect_fund_txn"
      ],
      "metadata": {
        "id": "rcSsInUZEmMM"
      },
      "execution_count": null,
      "outputs": []
    },
    {
      "cell_type": "code",
      "source": [
        ""
      ],
      "metadata": {
        "id": "sAAjmEc7EmT-"
      },
      "execution_count": null,
      "outputs": []
    }
  ],
  "metadata": {
    "kernelspec": {
      "display_name": "Python 3",
      "language": "python",
      "name": "python3"
    },
    "language_info": {
      "codemirror_mode": {
        "name": "ipython",
        "version": 3
      },
      "file_extension": ".py",
      "mimetype": "text/x-python",
      "name": "python",
      "nbconvert_exporter": "python",
      "pygments_lexer": "ipython3",
      "version": "3.7.6"
    },
    "colab": {
      "name": "06_cuaderno.ipynb",
      "provenance": []
    }
  },
  "nbformat": 4,
  "nbformat_minor": 0
}