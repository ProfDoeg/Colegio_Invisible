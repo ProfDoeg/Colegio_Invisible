{
  "cells": [
    {
      "cell_type": "markdown",
      "metadata": {
        "id": "VvuVL0P4VxMP"
      },
      "source": [
        "# Transacciones,\n",
        "# Entradas y Salidas,\n",
        "# y Emisión\n",
        "\n",
        "<a href=\"https://colab.research.google.com/github/ProfDoeg/Colegio_Invisible/blob/master/06_cuaderno.ipynb\" target=\"_parent\"><img src=\"https://colab.research.google.com/assets/colab-badge.svg\" alt=\"Open In Colab\"/></a>"
      ]
    },
    {
      "cell_type": "markdown",
      "source": [
        "# Preparar el Espacio (Prepare the Space)"
      ],
      "metadata": {
        "id": "wM-07E7SjTJW"
      }
    },
    {
      "cell_type": "code",
      "execution_count": null,
      "metadata": {
        "id": "wSOgJBxoVxMU"
      },
      "outputs": [],
      "source": [
        "! pip install eciespy eth_keys cryptos qrcode base58 \n",
        "! git clone https://github.com/ProfDoeg/Colegio_Invisible.git"
      ]
    },
    {
      "cell_type": "markdown",
      "source": [
        "# Crear Transacciones de Criptomoneda (Create Cryptocurrency Transactions)\n",
        "\n",
        "## Esquema (Outline) \n",
        "Esta será una introducción a las transacciones de criptomonedas. Los participantes se conectan a la red del Colegio Invisible y publican su dirección criptográfica para recibir monedas. La transacción de financiación se construye, firma y transmite. Una vez que se confirma la transacción de financiación, los participantes devuelven las monedas construyendo, firmando y transmitiendo.\n",
        "***\n",
        "This will be an introduction to cryptocurrency transactions. Participants connect to the Invisible College network and post their crypto address to receive coins. The funding transaction is constructed, signed and broadcast. Once the funding transaction confirms, participants return the coins by constructing, signing, and broadcasting.\n",
        " \n",
        "## Metas (Goals)\n",
        "***\n",
        "***\n",
        "By the end of this notebook you should be able to:\n",
        "***\n",
        "Al final de este cuaderno, usted debería ser capaz de:\n",
        "***\n",
        "***\n",
        "- Comprender la estructura de una transacción de Bitcoin/Dogecoin\\\n",
        "(Understand the structure of a Bitcoin/Dogecoin transaction)\n",
        "- Importar las claves\\\n",
        "(Import Keys)\n",
        "- Conectarse a Google Sheets compartidas\\\n",
        "(Connect to shared Google Sheets)\n",
        "- Publicar la dirección\\\n",
        "(Post address)\n",
        "- Consultar las otras direcciones\\\n",
        "(Query the addresses)\n",
        "- Recibir criptomonedas\\\n",
        "(Receive crypto coins)\n",
        "- Comprender UTXO las salidas de transacciones no gastadas\\\n",
        "(Understand UTXO Unspent Transaction Outputs)\n",
        "- Comprender las entradas y salidas de transacciones\\\n",
        "(Understand Transaction Inputs and Outputs)\n",
        "- Construir la transacción\\\n",
        "(Construct the transaction)\n",
        "- Firmar transacción\\\n",
        "(Sign transaction)\n",
        "- Convertir transacción a hexadecimal\\\n",
        "(Convert transaction to hex)\n",
        "- Transmitir la transacción\\\n",
        "(Broadcast transaction)\n",
        "- Supervisar la red para la confirmación\\\n",
        "(Monitor the network for confirmation)"
      ],
      "metadata": {
        "id": "N9BkUDVqjgdA"
      }
    },
    {
      "cell_type": "markdown",
      "source": [
        "# Importaciones y Definiciones (Imports and Definitions)\n",
        "\n",
        "Crear funciones para importar claves y direcciones de criptomonedas.\n",
        "***\n",
        "Create functions for importing keys and cryptocurrency addresses."
      ],
      "metadata": {
        "id": "BETMcDza0M2m"
      }
    },
    {
      "cell_type": "code",
      "execution_count": null,
      "metadata": {
        "id": "phMoOlb1VxMT"
      },
      "outputs": [],
      "source": [
        "import hashlib\n",
        "import os\n",
        "import getpass\n",
        "import ecies\n",
        "import eth_keys\n",
        "import cryptos\n",
        "import qrcode\n",
        "import base58\n",
        "from PIL import Image\n",
        "import matplotlib.pyplot as plt\n",
        "%matplotlib inline"
      ]
    },
    {
      "cell_type": "code",
      "source": [
        "def import_privKey(privkey_filepath,password=None):\n",
        "    if password==None:\n",
        "        password = getpass.getpass(\"Input password for decrypting keyfile: \")\n",
        "    password=password.encode()\n",
        "    f=open(privkey_filepath,'rb')\n",
        "    decrypted_bytes=ecies.aes_decrypt(key=hashlib.sha256(password).digest(),cipher_text=f.read())\n",
        "    privKey=eth_keys.keys.PrivateKey(decrypted_bytes)\n",
        "    return privKey\n",
        "\n",
        "def import_pubKey(pubkey_filepath):\n",
        "    f=open(pubkey_filepath,'rb')\n",
        "    privKey=eth_keys.keys.PublicKey(f.read())\n",
        "    return privKey\n",
        "\n",
        "def import_addr(addr_filepath):\n",
        "    return open(addr_filepath,'rb').read().decode()"
      ],
      "metadata": {
        "id": "sPi_0BLRWa1z"
      },
      "execution_count": null,
      "outputs": []
    },
    {
      "cell_type": "markdown",
      "source": [
        "# Comenzar con Claves Existentes (Start with Existing Keys)\n",
        "\n",
        "Acceder a las claves generadas en el cuaderno 5\n",
        "***\n",
        "Access the keys generated in the cuaderno 5"
      ],
      "metadata": {
        "id": "yOcQvpiFXag0"
      }
    },
    {
      "cell_type": "markdown",
      "source": [
        "## Comenzar con Claves en Google Drive\n",
        "## (Start with Keys on Google Drive)"
      ],
      "metadata": {
        "id": "0kYYEFx40an1"
      }
    },
    {
      "cell_type": "code",
      "source": [
        "from google.colab import drive\n",
        "drive.mount('/content/drive')"
      ],
      "metadata": {
        "id": "DLmgNafNWa5O"
      },
      "execution_count": null,
      "outputs": []
    },
    {
      "cell_type": "code",
      "source": [
        "! cp drive/MyDrive/cinv/llaves.zip llaves.zip \n",
        "! unzip llaves.zip"
      ],
      "metadata": {
        "id": "x6oDx7tbWa72"
      },
      "execution_count": null,
      "outputs": []
    },
    {
      "cell_type": "markdown",
      "source": [
        "## Comenzar con Claves en la Disco Local\n",
        "## (Start with Keys on Local Drive)"
      ],
      "metadata": {
        "id": "sPvP5mkdcRu6"
      }
    },
    {
      "cell_type": "code",
      "source": [
        "#from google.colab import files\n",
        "#fu=files.upload();"
      ],
      "metadata": {
        "id": "HIfCIuaRWa_b"
      },
      "execution_count": null,
      "outputs": []
    },
    {
      "cell_type": "code",
      "source": [
        "#! unzip llaves.zip"
      ],
      "metadata": {
        "id": "Mk7eTjCPWbCS"
      },
      "execution_count": null,
      "outputs": []
    },
    {
      "cell_type": "code",
      "source": [
        "#! ls llaves"
      ],
      "metadata": {
        "id": "hmAorBMjeA8j"
      },
      "execution_count": null,
      "outputs": []
    },
    {
      "cell_type": "markdown",
      "source": [
        "# Import Private Key and Address"
      ],
      "metadata": {
        "id": "QCY7Dye8dlXo"
      }
    },
    {
      "cell_type": "code",
      "source": [
        "privKey=import_privKey('llaves/mi_prv.enc','')\n",
        "addr=import_addr('llaves/mi_addr.bin')"
      ],
      "metadata": {
        "id": "P6sggp7WdmQ7"
      },
      "execution_count": null,
      "outputs": []
    },
    {
      "cell_type": "code",
      "source": [
        "addr"
      ],
      "metadata": {
        "id": "4DozdPP8dmUT"
      },
      "execution_count": null,
      "outputs": []
    },
    {
      "cell_type": "code",
      "source": [
        "from IPython.display import Image\n",
        "qr=Image('llaves/mi_addr.png')\n",
        "display(qr)"
      ],
      "metadata": {
        "id": "5PL8cGwYnvGp"
      },
      "execution_count": null,
      "outputs": []
    },
    {
      "cell_type": "markdown",
      "source": [
        "# Connect to Colegio Message Spreadsheet"
      ],
      "metadata": {
        "id": "84vTBrTc0hQm"
      }
    },
    {
      "cell_type": "markdown",
      "source": [
        "## Decrypt Credentials\n",
        "\n",
        "$\\color{white}{\\text{c0leg101nv1s1ble}}$\n",
        "\n",
        "Use la contraseña de arriba para descifrar las credenciales\n",
        "***\n",
        "Use password above to decrypt credentials\n"
      ],
      "metadata": {
        "id": "1txSB4pVjGpU"
      }
    },
    {
      "cell_type": "code",
      "source": [
        "! python Colegio_Invisible/scripts/aes_decrypt.py Colegio_Invisible/secrets/client_secret.aes Colegio_Invisible/secrets/client_secret.json "
      ],
      "metadata": {
        "id": "7KJWkuzviJut"
      },
      "execution_count": null,
      "outputs": []
    },
    {
      "cell_type": "markdown",
      "source": [
        "## Autenticar y Conectarse a la Google Sheet de Mensajes (Authenticate and Connect to Message Google Sheet)\n",
        "\n",
        "Autenticarse usando credenciales descifradas para la API de Google Drive. Use la biblioteca `gspread` para leer y escribir en una hoja de cálculo compartida.\n",
        "***\n",
        "Authenticate using decrypted credentials for Google Drive API. Use `gspread` library to read and write to shared spreadsheet."
      ],
      "metadata": {
        "id": "IE3ReCLc0-Un"
      }
    },
    {
      "cell_type": "code",
      "source": [
        "import gspread\n",
        "from oauth2client.service_account import ServiceAccountCredentials\n",
        "# use creds to create a client to interact with the Google Drive API\n",
        "scope = ['https://spreadsheets.google.com/feeds',\n",
        "         'https://www.googleapis.com/auth/drive']\n",
        "creds = ServiceAccountCredentials.from_json_keyfile_name('Colegio_Invisible/secrets/client_secret.json', scope)\n",
        "client = gspread.authorize(creds)\n",
        "sheets = client.open(\"signatures\")"
      ],
      "metadata": {
        "id": "wAojvQCldmX0"
      },
      "execution_count": null,
      "outputs": []
    },
    {
      "cell_type": "markdown",
      "source": [
        "# Leer y Escribir en la Google Sheet de Mensajes (Read and Write to Messages Google Sheet)"
      ],
      "metadata": {
        "id": "pcbvfyY42VGH"
      }
    },
    {
      "cell_type": "markdown",
      "source": [
        "## Leer Google Sheet (Read Google Sheet)"
      ],
      "metadata": {
        "id": "SjknPsHI1ks1"
      }
    },
    {
      "cell_type": "code",
      "source": [
        "sheets.worksheets()"
      ],
      "metadata": {
        "id": "PkHtmQi5dmbL"
      },
      "execution_count": null,
      "outputs": []
    },
    {
      "cell_type": "code",
      "source": [
        "sheet4=sheets.worksheets()[4]\n",
        "sheet4.row_values(1)"
      ],
      "metadata": {
        "id": "BllKzSYnk6QG"
      },
      "execution_count": null,
      "outputs": []
    },
    {
      "cell_type": "code",
      "source": [
        "#sheet4.clear()\n",
        "#sheet4.append_row([\"name\", \"address\"])"
      ],
      "metadata": {
        "id": "aiq3qxz0lHjP"
      },
      "execution_count": null,
      "outputs": []
    },
    {
      "cell_type": "markdown",
      "source": [
        "## Ingresar el Nombre (Input Name)"
      ],
      "metadata": {
        "id": "jBL17WWm1shB"
      }
    },
    {
      "cell_type": "code",
      "source": [
        "my_name=input('input name')"
      ],
      "metadata": {
        "id": "qcmkQn-nlq1a"
      },
      "execution_count": null,
      "outputs": []
    },
    {
      "cell_type": "markdown",
      "source": [
        "## Leer Nombres Publicados (Read Posted Names)"
      ],
      "metadata": {
        "id": "px9ZVFpW6OJ7"
      }
    },
    {
      "cell_type": "code",
      "source": [
        "peeps=sheet4.col_values(1)[1:]\n",
        "peeps"
      ],
      "metadata": {
        "id": "jgODKrZC16-Q"
      },
      "execution_count": null,
      "outputs": []
    },
    {
      "cell_type": "markdown",
      "source": [
        "## Escribir en la Google Sheet para Publicar Nombre (Write to Google Sheet to Publish Name)\n",
        "\n",
        "Si el nombre está en la lista, escriba la dirección en la celda correspondiente de la hoja\\\n",
        "(If the name is in the list then write address to the appropriate cell of sheet)\\\n",
        "Si el nombre no está presente, agregue el nombre y la dirección a la hoja\\\n",
        "(If name is not present append name and address to sheet)"
      ],
      "metadata": {
        "id": "c0v2nESr6SvE"
      }
    },
    {
      "cell_type": "code",
      "source": [
        "if not (my_name in peeps) :\n",
        "  sheet4.append_row([my_name,addr])\n",
        "else:\n",
        "  sheet4.update_cell(row=peeps.index(my_name)+2,col=2,value=addr)"
      ],
      "metadata": {
        "id": "62v7BkKEl0XZ"
      },
      "execution_count": null,
      "outputs": []
    },
    {
      "cell_type": "markdown",
      "source": [
        "## Leer Direcciones (Read Addresses)"
      ],
      "metadata": {
        "id": "tqnTEwK16tVd"
      }
    },
    {
      "cell_type": "code",
      "source": [
        "import pandas as pd\n",
        "\n",
        "dataframe4 = pd.DataFrame(sheet4.get_all_records())\n",
        "dataframe4"
      ],
      "metadata": {
        "id": "FTpvcVvRlwCH"
      },
      "execution_count": null,
      "outputs": []
    },
    {
      "cell_type": "markdown",
      "source": [
        "## Construir Lista de los Direcciones de Destinatario (Construct List of Recipient Addresses) "
      ],
      "metadata": {
        "id": "41-zTbdU6zh3"
      }
    },
    {
      "cell_type": "code",
      "source": [
        "addresses=dataframe4.address.tolist()\n",
        "addresses"
      ],
      "metadata": {
        "id": "w1agxI8tnGw2"
      },
      "execution_count": null,
      "outputs": []
    },
    {
      "cell_type": "markdown",
      "source": [
        "# Enviar Direcciones de Criptomonedas con Transacción de Financiación (Send Addresses Cryptocurrency with Funding Transaction)"
      ],
      "metadata": {
        "id": "urg0zfXO22qn"
      }
    },
    {
      "cell_type": "markdown",
      "source": [
        "## Importar 'cryptos' y Crear un Objeto de Dogecoin (Import `cryptos` and Create Dogecoin Object)"
      ],
      "metadata": {
        "id": "I4OpF8TV69_A"
      }
    },
    {
      "cell_type": "code",
      "source": [
        "import cryptos"
      ],
      "metadata": {
        "id": "qgRWDKftnWuo"
      },
      "execution_count": null,
      "outputs": []
    },
    {
      "cell_type": "code",
      "source": [
        "doge=cryptos.Doge()"
      ],
      "metadata": {
        "id": "9xKsmVLenZe8"
      },
      "execution_count": null,
      "outputs": []
    },
    {
      "cell_type": "markdown",
      "source": [
        "## Las Entradas (Inputs)"
      ],
      "metadata": {
        "id": "VEAUYQzS3oNH"
      }
    },
    {
      "cell_type": "markdown",
      "source": [
        "### Identificar la Dirección de Financiación (Identify Funding Address)"
      ],
      "metadata": {
        "id": "EqKLFurZ7EaA"
      }
    },
    {
      "cell_type": "code",
      "source": [
        "banco=addresses[0]\n",
        "banco"
      ],
      "metadata": {
        "id": "4UucG0XUE-2R"
      },
      "execution_count": null,
      "outputs": []
    },
    {
      "cell_type": "markdown",
      "source": [
        "### Determinar las Entradas de UTXO (Determine UTXO Inputs)\n",
        "\n",
        "***\n",
        "***\n",
        "Los UTXO son salidas de transacciones no gastadas. Comenzamos revisando la cadena de bloques para identificar las monedas que la dirección de financiación ha recibido pero que aún no ha gastado. Estos son UTXO.\n",
        "***\n",
        "UTXOs are Unspent Transaction Outputs. We start by checking the blockchain to identify coins the funding address has received but has not yet spent. These are UTXOs. \n",
        "***\n",
        "***\n",
        "\n",
        "Cada UTXO contiene (each UTXO contains):\n",
        "- valor (value)\n",
        "- transacción (transaction)\n",
        "  - hash (hash)\n",
        "  - índice (index)"
      ],
      "metadata": {
        "id": "-pPp22Q17NdY"
      }
    },
    {
      "cell_type": "code",
      "source": [
        "#UTXOS\n",
        "unspents=doge.unspent(banco)\n",
        "unspents"
      ],
      "metadata": {
        "id": "pE9-8fKVnm09"
      },
      "execution_count": null,
      "outputs": []
    },
    {
      "cell_type": "markdown",
      "source": [
        "### Satoshis\n",
        "\n",
        "El valor se informa en unidades de Satoshis/Dogetoshis. Un Satoshi es un $\\frac{1}{100,000,000}$ de una moneda.\n",
        "***\n",
        "The value is reported in units of Satoshis/Dogetoshis. A Satoshi is $\\frac{1}{100,000,000}$ of a coin."
      ],
      "metadata": {
        "id": "eFg05v_CLnUH"
      }
    },
    {
      "cell_type": "markdown",
      "source": [
        "### Sumar Salidas No Gastadas (Sum Unspent Outputs)"
      ],
      "metadata": {
        "id": "9b9ut-cB7dqw"
      }
    },
    {
      "cell_type": "code",
      "source": [
        "unspent_total=sum([unspent['value'] for unspent in unspents])\n",
        "unspent_total"
      ],
      "metadata": {
        "id": "s0iz3fLn5k29"
      },
      "execution_count": null,
      "outputs": []
    },
    {
      "cell_type": "markdown",
      "source": [
        "## Salidas (Outputs)"
      ],
      "metadata": {
        "id": "ptMLdngF3v-U"
      }
    },
    {
      "cell_type": "markdown",
      "source": [
        "### Calcular Valores de Salida (Calculate Output Values)\n",
        "\n",
        "- `gift`: es la cantidad entregada a cada participante\\\n",
        "(the amount given to each participant)\n",
        "- `gift_total`: la cantidad total entregada\\\n",
        "(the total amount given)\n",
        "- `mining_fee`: cantidad entregada a los mineros\\\n",
        "(amount given to miners)\n",
        "- `change`: cantidad sobrante que el remitente enviará a una dirección de cambio\\\n",
        "(the left over amount that the sender will send to a change address)"
      ],
      "metadata": {
        "id": "HGWo-6mW399r"
      }
    },
    {
      "cell_type": "code",
      "source": [
        "gift=10_00_000_000\n",
        "gift_total = gift * len(addresses)\n",
        "mining_fee = 2_00_000_000\n",
        "change = unspent_total - gift_total - mining_fee "
      ],
      "metadata": {
        "id": "ExFkHqcUGAEl"
      },
      "execution_count": null,
      "outputs": []
    },
    {
      "cell_type": "markdown",
      "source": [
        "### Construct Output List\n",
        "\n",
        "Create outputs including:\n",
        "- `gift` regalo a cada participante\\\n",
        " `gift` to each participant\n",
        "- `change` enviado de vuelta a `banco` direccion\\\n",
        "`change` sent back to `banco` address"
      ],
      "metadata": {
        "id": "GkZ4MaOI4H7X"
      }
    },
    {
      "cell_type": "code",
      "source": [
        "outputs=[{'value': gift, 'address': address} for address in addresses]\n",
        "outputs.append({'value': change, 'address': banco})\n",
        "outputs"
      ],
      "metadata": {
        "id": "GcWKCCrCK2sN"
      },
      "execution_count": null,
      "outputs": []
    },
    {
      "cell_type": "markdown",
      "source": [
        "\n",
        "## Make Funding Transaction"
      ],
      "metadata": {
        "id": "0RQU2CM3CLcq"
      }
    },
    {
      "cell_type": "code",
      "source": [
        "fund_txn=doge.mktx(unspents,outputs )\n",
        "fund_txn"
      ],
      "metadata": {
        "id": "AvPMjFT5-8-i"
      },
      "execution_count": null,
      "outputs": []
    },
    {
      "cell_type": "markdown",
      "source": [
        "## Sign Funding Transaction"
      ],
      "metadata": {
        "id": "aWB-diD2B4KJ"
      }
    },
    {
      "cell_type": "code",
      "source": [
        "doge.signall(fund_txn,privKey.to_hex()[2:])"
      ],
      "metadata": {
        "id": "WNLLf9_CDhEt"
      },
      "execution_count": null,
      "outputs": []
    },
    {
      "cell_type": "code",
      "source": [
        "fund_txn"
      ],
      "metadata": {
        "id": "qb9yNJodD1ua"
      },
      "execution_count": null,
      "outputs": []
    },
    {
      "cell_type": "code",
      "source": [
        "fund_txn_hex=cryptos.serialize(fund_txn)\n",
        "fund_txn_hex"
      ],
      "metadata": {
        "id": "y1F5mNnND-6y"
      },
      "execution_count": null,
      "outputs": []
    },
    {
      "cell_type": "markdown",
      "source": [
        "## Check kilobyte Size of Transaction"
      ],
      "metadata": {
        "id": "HAdwajyjFW0i"
      }
    },
    {
      "cell_type": "code",
      "source": [
        "kb=len(fund_txn_hex)/2000\n",
        "kb"
      ],
      "metadata": {
        "id": "xhQCkpBLFXXA"
      },
      "execution_count": null,
      "outputs": []
    },
    {
      "cell_type": "code",
      "source": [
        "mining_fee/1E8/kb"
      ],
      "metadata": {
        "id": "oGEUIJmJFzMi"
      },
      "execution_count": null,
      "outputs": []
    },
    {
      "cell_type": "markdown",
      "source": [
        "## Broadcast Transaction"
      ],
      "metadata": {
        "id": "0tkeC4o0EjjA"
      }
    },
    {
      "cell_type": "code",
      "source": [
        "broadcast_fund_txn=doge.pushtx(fund_txn_hex)\n",
        "broadcast_fund_txn"
      ],
      "metadata": {
        "id": "BqrRV5E8EfmQ"
      },
      "execution_count": null,
      "outputs": []
    },
    {
      "cell_type": "markdown",
      "source": [
        "## Inspect Transaction"
      ],
      "metadata": {
        "id": "o_DwTVZYElzf"
      }
    },
    {
      "cell_type": "code",
      "source": [
        "inspect_fund_txn=doge.fetchtx( broadcast_fund_txn['data']['txid'])\n",
        "inspect_fund_txn"
      ],
      "metadata": {
        "id": "rcSsInUZEmMM"
      },
      "execution_count": null,
      "outputs": []
    },
    {
      "cell_type": "markdown",
      "source": [
        "# Return Coins"
      ],
      "metadata": {
        "id": "PEeT1FR9bRhG"
      }
    },
    {
      "cell_type": "markdown",
      "source": [
        "## Construct Return Transaction"
      ],
      "metadata": {
        "id": "mGBBhevI6E42"
      }
    },
    {
      "cell_type": "markdown",
      "source": [
        "### Inputs"
      ],
      "metadata": {
        "id": "IcBKlHhv6NgZ"
      }
    },
    {
      "cell_type": "code",
      "source": [
        "mi_unspents=doge.unspent(addr)\n",
        "mi_unspents\n"
      ],
      "metadata": {
        "id": "sAAjmEc7EmT-"
      },
      "execution_count": null,
      "outputs": []
    },
    {
      "cell_type": "code",
      "source": [
        "mi_unspent_total=sum([unspent['value'] for unspent in mi_unspents])\n",
        "mi_unspent_total"
      ],
      "metadata": {
        "id": "B8NpTvfAY94c"
      },
      "execution_count": null,
      "outputs": []
    },
    {
      "cell_type": "markdown",
      "source": [
        "### Outputs"
      ],
      "metadata": {
        "id": "mrhpz6Uu6UiL"
      }
    },
    {
      "cell_type": "code",
      "source": [
        "mi_mining_fee = 1_00_000_000\n",
        "disponible = mi_unspent_total - mi_mining_fee\n",
        "disponible"
      ],
      "metadata": {
        "id": "FPXpqiQmZM9m"
      },
      "execution_count": null,
      "outputs": []
    },
    {
      "cell_type": "code",
      "source": [
        "destinos=[{'value': disponible, 'address': banco} ]\n",
        "destinos"
      ],
      "metadata": {
        "id": "ddlAokUEbSq9"
      },
      "execution_count": null,
      "outputs": []
    },
    {
      "cell_type": "markdown",
      "source": [
        "### Constuction"
      ],
      "metadata": {
        "id": "NFyHIOEw6gpJ"
      }
    },
    {
      "cell_type": "code",
      "source": [
        "volver_txn=doge.mktx(mi_unspents, destinos)\n",
        "volver_txn"
      ],
      "metadata": {
        "id": "UeGISrRzbEBm"
      },
      "execution_count": null,
      "outputs": []
    },
    {
      "cell_type": "markdown",
      "source": [
        "## Signing and Serializing"
      ],
      "metadata": {
        "id": "PrLgczn26uoP"
      }
    },
    {
      "cell_type": "code",
      "source": [
        "doge.signall(volver_txn,privKey.to_hex()[2:])"
      ],
      "metadata": {
        "id": "G9Jts_ercWh7"
      },
      "execution_count": null,
      "outputs": []
    },
    {
      "cell_type": "code",
      "source": [
        "volver_txn_hex=cryptos.serialize(volver_txn)\n",
        "volver_txn_hex"
      ],
      "metadata": {
        "id": "sUaXWuf7c1xS"
      },
      "execution_count": null,
      "outputs": []
    },
    {
      "cell_type": "markdown",
      "source": [
        "## Broadcasting"
      ],
      "metadata": {
        "id": "V2J8P19261CF"
      }
    },
    {
      "cell_type": "code",
      "source": [
        "broadcast_volver_txn=doge.pushtx(volver_txn_hex)\n",
        "broadcast_volver_txn"
      ],
      "metadata": {
        "id": "k-igOHK9co_s"
      },
      "execution_count": null,
      "outputs": []
    },
    {
      "cell_type": "markdown",
      "source": [
        "## Monitoring Network"
      ],
      "metadata": {
        "id": "t5jxiWL664vU"
      }
    },
    {
      "cell_type": "code",
      "source": [
        "inspect_volver_txn=doge.fetchtx( broadcast_volver_txn['data']['txid'])\n",
        "inspect_volver_txn"
      ],
      "metadata": {
        "id": "njKNyjK6d7-L"
      },
      "execution_count": null,
      "outputs": []
    },
    {
      "cell_type": "code",
      "source": [
        ""
      ],
      "metadata": {
        "id": "MM4UGO3AeQDL"
      },
      "execution_count": null,
      "outputs": []
    }
  ],
  "metadata": {
    "kernelspec": {
      "display_name": "Python 3",
      "language": "python",
      "name": "python3"
    },
    "language_info": {
      "codemirror_mode": {
        "name": "ipython",
        "version": 3
      },
      "file_extension": ".py",
      "mimetype": "text/x-python",
      "name": "python",
      "nbconvert_exporter": "python",
      "pygments_lexer": "ipython3",
      "version": "3.7.6"
    },
    "colab": {
      "name": "06_cuaderno.ipynb",
      "provenance": []
    }
  },
  "nbformat": 4,
  "nbformat_minor": 0
}