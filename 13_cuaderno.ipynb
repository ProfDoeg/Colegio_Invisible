{
  "nbformat": 4,
  "nbformat_minor": 0,
  "metadata": {
    "colab": {
      "name": "13_cuaderno.ipynb",
      "provenance": [],
      "include_colab_link": true
    },
    "kernelspec": {
      "name": "python3",
      "display_name": "Python 3"
    },
    "language_info": {
      "name": "python"
    }
  },
  "cells": [
    {
      "cell_type": "markdown",
      "metadata": {
        "id": "view-in-github",
        "colab_type": "text"
      },
      "source": [
        "<a href=\"https://colab.research.google.com/github/ProfDoeg/Colegio_Invisible/blob/main/13_cuaderno.ipynb\" target=\"_parent\"><img src=\"https://colab.research.google.com/assets/colab-badge.svg\" alt=\"Open In Colab\"/></a>"
      ]
    },
    {
      "cell_type": "code",
      "source": [
        "#! rm Colegio_Invisible -r"
      ],
      "metadata": {
        "id": "6YV5qP8RODUW"
      },
      "execution_count": null,
      "outputs": []
    },
    {
      "cell_type": "code",
      "execution_count": 1,
      "metadata": {
        "id": "p80LxM-iMpBC",
        "colab": {
          "base_uri": "https://localhost:8080/"
        },
        "outputId": "0841abca-ac72-4d6e-f9d8-a4997d606bf4"
      },
      "outputs": [
        {
          "output_type": "stream",
          "name": "stdout",
          "text": [
            "Cloning into 'Colegio_Invisible'...\n",
            "remote: Enumerating objects: 1074, done.\u001b[K\n",
            "remote: Counting objects: 100% (84/84), done.\u001b[K\n",
            "remote: Compressing objects: 100% (84/84), done.\u001b[K\n",
            "remote: Total 1074 (delta 56), reused 0 (delta 0), pack-reused 990\u001b[K\n",
            "Receiving objects: 100% (1074/1074), 106.67 MiB | 27.79 MiB/s, done.\n",
            "Resolving deltas: 100% (737/737), done.\n"
          ]
        }
      ],
      "source": [
        "! git clone https://github.com/ProfDoeg/Colegio_Invisible.git"
      ]
    },
    {
      "cell_type": "markdown",
      "source": [
        "for an image...there are pixels\n",
        "\n",
        "each pixel has 3,4 values (Red Green Blue and sometime Alpha)\n",
        "\n",
        "those numbers are...1 byte...0 to 255"
      ],
      "metadata": {
        "id": "A54RU5ZeUZZk"
      }
    },
    {
      "cell_type": "code",
      "source": [
        "from PIL import Image\n",
        "import numpy as np"
      ],
      "metadata": {
        "id": "jSzywLaHMsem"
      },
      "execution_count": 2,
      "outputs": []
    },
    {
      "cell_type": "markdown",
      "source": [
        "what can we put into blockchain...\n",
        "Op_Return\n",
        "80 bytes and we will use 64 bytes for image data\n",
        "\n",
        "each byte is made up of 8 binary values 1/0 called bits\n",
        "\n",
        "64 bytes = 64*8...512 bits\n",
        "\n",
        "We want to put image in single block\n",
        "\n",
        "PROPOSAL:\n",
        "\n",
        "16x16 image = 256 pixels\n",
        "\n",
        "only get to use 2 bits per pixel\n",
        "\n",
        "- 0,0  0 \n",
        "- 0,1  64\n",
        "- 1,0  128\n",
        "- 1,1  192\n",
        "\n",
        "1 byte [ , , , , , , , ]\n",
        "\n",
        "1 byte can tell us color of 4 pixels\n",
        "each one taking up 2 bits"
      ],
      "metadata": {
        "id": "g5RXqfJ_VK9u"
      }
    },
    {
      "cell_type": "code",
      "source": [
        "!ls Colegio_Invisible/img"
      ],
      "metadata": {
        "id": "zo2ZCW_xNzMj",
        "colab": {
          "base_uri": "https://localhost:8080/"
        },
        "outputId": "51a0bc0a-dd58-41a2-bb17-1856d35bef73"
      },
      "execution_count": null,
      "outputs": [
        {
          "output_type": "stream",
          "name": "stdout",
          "text": [
            "Apollo_Slays_Python_1853.jpeg  hg_cry.jpeg\t rum_0.jpeg\n",
            "asymmetric.png\t\t       hg_drop.jpeg\t rum_1.jpeg\n",
            "bab_crop.jpeg\t\t       hg_hide.jpeg\t rum_2.jpeg\n",
            "barb_1.jpeg\t\t       hg_house.jpeg\t rum_3.jpeg\n",
            "barb_2.jpeg\t\t       hg_invite.jpeg\t rum_4.jpeg\n",
            "barb_3.jpeg\t\t       hg_rough.png\t rum_5.jpeg\n",
            "barb_4.jpeg\t\t       hg_xmas.jpeg\t rum_6.jpeg\n",
            "barb_5.jpeg\t\t       mask.png\t\t rum_7.jpeg\n",
            "barb_6.jpeg\t\t       peter2.png\t rump_final.jpeg\n",
            "barb_7.jpeg\t\t       peter3.png\t signature.png\n",
            "cat.png\t\t\t       peter.png\t stego.png\n",
            "clavis.jpeg\t\t       prv_pub_addr.png  symmetric.png\n",
            "colegio_invisible.jpeg\t       PubKeyToAddr.png  zomnd.png\n"
          ]
        }
      ]
    },
    {
      "cell_type": "code",
      "source": [
        "stego_image=Image.open('Colegio_Invisible/img/cat.png')\n",
        "stego_image=stego_image.resize((32,32))\n",
        "stego_image"
      ],
      "metadata": {
        "id": "3cAzcOtCNoF-",
        "colab": {
          "base_uri": "https://localhost:8080/",
          "height": 49
        },
        "outputId": "5a018fb7-9f3b-4a4a-f95c-c128868a0cc5"
      },
      "execution_count": null,
      "outputs": [
        {
          "output_type": "execute_result",
          "data": {
            "text/plain": [
              "<PIL.Image.Image image mode=RGBA size=32x32 at 0x7F837ADAF110>"
            ],
            "image/png": "[encoded data removed]"
          },
          "metadata": {},
          "execution_count": 38
        }
      ]
    },
    {
      "cell_type": "code",
      "source": [
        "type(stego_image)"
      ],
      "metadata": {
        "id": "vJ758msHNu5T",
        "colab": {
          "base_uri": "https://localhost:8080/"
        },
        "outputId": "f3da3c42-b5d9-481a-eda1-8ff1d59ce46a"
      },
      "execution_count": null,
      "outputs": [
        {
          "output_type": "execute_result",
          "data": {
            "text/plain": [
              "PIL.Image.Image"
            ]
          },
          "metadata": {},
          "execution_count": 39
        }
      ]
    },
    {
      "cell_type": "code",
      "source": [
        "stego_array = np.array(stego_image)\n",
        "stego_array"
      ],
      "metadata": {
        "id": "MK5bUIKbOTbj",
        "colab": {
          "base_uri": "https://localhost:8080/"
        },
        "outputId": "0fdcced8-795c-47d8-a93a-4176ed6c61ce"
      },
      "execution_count": null,
      "outputs": [
        {
          "output_type": "execute_result",
          "data": {
            "text/plain": [
              "array([[[226, 223, 218, 255],\n",
              "        [224, 220, 215, 255],\n",
              "        [221, 218, 212, 255],\n",
              "        ...,\n",
              "        [204, 198, 192, 255],\n",
              "        [201, 196, 189, 255],\n",
              "        [200, 194, 188, 255]],\n",
              "\n",
              "       [[219, 216, 210, 255],\n",
              "        [217, 214, 208, 255],\n",
              "        [214, 211, 205, 255],\n",
              "        ...,\n",
              "        [202, 197, 190, 255],\n",
              "        [200, 195, 188, 255],\n",
              "        [198, 193, 186, 255]],\n",
              "\n",
              "       [[209, 206, 199, 255],\n",
              "        [207, 204, 197, 255],\n",
              "        [205, 201, 195, 255],\n",
              "        ...,\n",
              "        [200, 194, 187, 255],\n",
              "        [199, 193, 186, 255],\n",
              "        [197, 191, 185, 255]],\n",
              "\n",
              "       ...,\n",
              "\n",
              "       [[135, 127, 120, 255],\n",
              "        [133, 125, 118, 255],\n",
              "        [130, 122, 116, 255],\n",
              "        ...,\n",
              "        [162, 154, 146, 255],\n",
              "        [162, 155, 147, 255],\n",
              "        [163, 156, 148, 255]],\n",
              "\n",
              "       [[134, 126, 120, 255],\n",
              "        [132, 124, 118, 255],\n",
              "        [129, 122, 115, 255],\n",
              "        ...,\n",
              "        [161, 153, 145, 255],\n",
              "        [162, 154, 146, 255],\n",
              "        [162, 155, 147, 255]],\n",
              "\n",
              "       [[133, 126, 119, 255],\n",
              "        [131, 124, 117, 255],\n",
              "        [129, 122, 115, 255],\n",
              "        ...,\n",
              "        [160, 152, 144, 255],\n",
              "        [161, 153, 145, 255],\n",
              "        [163, 155, 147, 255]]], dtype=uint8)"
            ]
          },
          "metadata": {},
          "execution_count": 40
        }
      ]
    },
    {
      "cell_type": "markdown",
      "source": [
        "**`uint8`** stands for unsigned 8-bit integer\n",
        "- 8 binary 1/0 values\n",
        "- that is one byte\n",
        "- a number from 0-255\n",
        "- two hex values like ff"
      ],
      "metadata": {
        "id": "5Gq3lpQ2Oh92"
      }
    },
    {
      "cell_type": "code",
      "source": [
        "2**8"
      ],
      "metadata": {
        "colab": {
          "base_uri": "https://localhost:8080/"
        },
        "id": "K1Cc4FPg7JwG",
        "outputId": "eac9cec4-3966-4647-a2c9-07fdbac2383a"
      },
      "execution_count": null,
      "outputs": [
        {
          "output_type": "execute_result",
          "data": {
            "text/plain": [
              "256"
            ]
          },
          "metadata": {},
          "execution_count": 41
        }
      ]
    },
    {
      "cell_type": "code",
      "source": [
        "stego_array.dtype"
      ],
      "metadata": {
        "id": "HnvaTb7qOcCX",
        "colab": {
          "base_uri": "https://localhost:8080/"
        },
        "outputId": "8318b352-0630-42ec-fabb-713190b462b4"
      },
      "execution_count": null,
      "outputs": [
        {
          "output_type": "execute_result",
          "data": {
            "text/plain": [
              "dtype('uint8')"
            ]
          },
          "metadata": {},
          "execution_count": 42
        }
      ]
    },
    {
      "cell_type": "code",
      "source": [
        "stego_array.shape"
      ],
      "metadata": {
        "id": "ZtupzBOJOWjT",
        "colab": {
          "base_uri": "https://localhost:8080/"
        },
        "outputId": "59c47ee3-d0d1-47d3-b412-96736a4e0ba5"
      },
      "execution_count": null,
      "outputs": [
        {
          "output_type": "execute_result",
          "data": {
            "text/plain": [
              "(32, 32, 4)"
            ]
          },
          "metadata": {},
          "execution_count": 43
        }
      ]
    },
    {
      "cell_type": "code",
      "source": [
        "stego_array[:,:,:3]"
      ],
      "metadata": {
        "colab": {
          "base_uri": "https://localhost:8080/"
        },
        "id": "kCWICwyyYpxN",
        "outputId": "e1099fc6-402b-46a2-cda2-11dc0df43766"
      },
      "execution_count": null,
      "outputs": [
        {
          "output_type": "execute_result",
          "data": {
            "text/plain": [
              "array([[[226, 223, 218],\n",
              "        [224, 220, 215],\n",
              "        [221, 218, 212],\n",
              "        ...,\n",
              "        [204, 198, 192],\n",
              "        [201, 196, 189],\n",
              "        [200, 194, 188]],\n",
              "\n",
              "       [[219, 216, 210],\n",
              "        [217, 214, 208],\n",
              "        [214, 211, 205],\n",
              "        ...,\n",
              "        [202, 197, 190],\n",
              "        [200, 195, 188],\n",
              "        [198, 193, 186]],\n",
              "\n",
              "       [[209, 206, 199],\n",
              "        [207, 204, 197],\n",
              "        [205, 201, 195],\n",
              "        ...,\n",
              "        [200, 194, 187],\n",
              "        [199, 193, 186],\n",
              "        [197, 191, 185]],\n",
              "\n",
              "       ...,\n",
              "\n",
              "       [[135, 127, 120],\n",
              "        [133, 125, 118],\n",
              "        [130, 122, 116],\n",
              "        ...,\n",
              "        [162, 154, 146],\n",
              "        [162, 155, 147],\n",
              "        [163, 156, 148]],\n",
              "\n",
              "       [[134, 126, 120],\n",
              "        [132, 124, 118],\n",
              "        [129, 122, 115],\n",
              "        ...,\n",
              "        [161, 153, 145],\n",
              "        [162, 154, 146],\n",
              "        [162, 155, 147]],\n",
              "\n",
              "       [[133, 126, 119],\n",
              "        [131, 124, 117],\n",
              "        [129, 122, 115],\n",
              "        ...,\n",
              "        [160, 152, 144],\n",
              "        [161, 153, 145],\n",
              "        [163, 155, 147]]], dtype=uint8)"
            ]
          },
          "metadata": {},
          "execution_count": 44
        }
      ]
    },
    {
      "cell_type": "code",
      "source": [
        "def grey_imgarr(imgarr):\n",
        "  return imgarr[:,:,:3].mean(axis=2).astype('uint8')"
      ],
      "metadata": {
        "id": "_etmN93CuY2-"
      },
      "execution_count": null,
      "outputs": []
    },
    {
      "cell_type": "code",
      "source": [
        "stego_array_grey=stego_array[:,:,:3].mean(axis=2).astype('uint8')\n",
        "stego_array_grey.shape,stego_array_grey.dtype"
      ],
      "metadata": {
        "id": "kWBZaDEZOgW_",
        "colab": {
          "base_uri": "https://localhost:8080/"
        },
        "outputId": "da323e2d-89ac-4b56-f0ce-e03dd15e4cc6"
      },
      "execution_count": null,
      "outputs": [
        {
          "output_type": "execute_result",
          "data": {
            "text/plain": [
              "((32, 32), dtype('uint8'))"
            ]
          },
          "metadata": {},
          "execution_count": 46
        }
      ]
    },
    {
      "cell_type": "code",
      "source": [
        "stego_array_grey"
      ],
      "metadata": {
        "id": "A0nsbRaZOnxN",
        "colab": {
          "base_uri": "https://localhost:8080/"
        },
        "outputId": "93590324-218f-4af8-d907-856745b53632"
      },
      "execution_count": null,
      "outputs": [
        {
          "output_type": "execute_result",
          "data": {
            "text/plain": [
              "array([[222, 219, 217, ..., 198, 195, 194],\n",
              "       [215, 213, 210, ..., 196, 194, 192],\n",
              "       [204, 202, 200, ..., 193, 192, 191],\n",
              "       ...,\n",
              "       [127, 125, 122, ..., 154, 154, 155],\n",
              "       [126, 124, 122, ..., 153, 154, 154],\n",
              "       [126, 124, 122, ..., 152, 153, 155]], dtype=uint8)"
            ]
          },
          "metadata": {},
          "execution_count": 47
        }
      ]
    },
    {
      "cell_type": "code",
      "source": [
        "stego_image_grey = Image.fromarray(stego_array_grey)\n",
        "stego_image_grey"
      ],
      "metadata": {
        "id": "IiMfNkWmOulw",
        "colab": {
          "base_uri": "https://localhost:8080/",
          "height": 49
        },
        "outputId": "6420d0a2-9323-425a-e65b-431b2b2b91d3"
      },
      "execution_count": null,
      "outputs": [
        {
          "output_type": "execute_result",
          "data": {
            "text/plain": [
              "<PIL.Image.Image image mode=L size=32x32 at 0x7F837ADB9C10>"
            ],
            "image/png": "[encoded data removed]"
          },
          "metadata": {},
          "execution_count": 48
        }
      ]
    },
    {
      "cell_type": "code",
      "source": [
        "def int_2_bit_array(num):\n",
        "    bin_str=bin(num)\n",
        "    bit_list=[int(bit) for bit in bin_str[2:]]\n",
        "    bit_list=[0]*(8-len(bit_list))+bit_list\n",
        "    bit_array=np.array(bit_list,dtype='uint8')\n",
        "    return bit_array"
      ],
      "metadata": {
        "id": "TsrD8_OFO1n6"
      },
      "execution_count": null,
      "outputs": []
    },
    {
      "cell_type": "code",
      "source": [
        "int_2_bit_array(255)"
      ],
      "metadata": {
        "colab": {
          "base_uri": "https://localhost:8080/"
        },
        "id": "Fcwm8Rm187LD",
        "outputId": "7e14ff93-875e-4108-849f-d6d7e6c54649"
      },
      "execution_count": null,
      "outputs": [
        {
          "output_type": "execute_result",
          "data": {
            "text/plain": [
              "array([1, 1, 1, 1, 1, 1, 1, 1], dtype=uint8)"
            ]
          },
          "metadata": {},
          "execution_count": 50
        }
      ]
    },
    {
      "cell_type": "code",
      "source": [
        "int_2_bit_array(2)"
      ],
      "metadata": {
        "colab": {
          "base_uri": "https://localhost:8080/"
        },
        "id": "ZnC3XzE49YD0",
        "outputId": "75ab8f63-6dc4-46eb-c6ce-f84742664658"
      },
      "execution_count": null,
      "outputs": [
        {
          "output_type": "execute_result",
          "data": {
            "text/plain": [
              "array([0, 0, 0, 0, 0, 0, 1, 0], dtype=uint8)"
            ]
          },
          "metadata": {},
          "execution_count": 51
        }
      ]
    },
    {
      "cell_type": "code",
      "source": [
        "int_2_bit_array(64)"
      ],
      "metadata": {
        "colab": {
          "base_uri": "https://localhost:8080/"
        },
        "id": "xDfN1uS99cJN",
        "outputId": "a1ae565b-4bee-4dfb-cbe1-14fc4862192c"
      },
      "execution_count": null,
      "outputs": [
        {
          "output_type": "execute_result",
          "data": {
            "text/plain": [
              "array([0, 1, 0, 0, 0, 0, 0, 0], dtype=uint8)"
            ]
          },
          "metadata": {},
          "execution_count": 52
        }
      ]
    },
    {
      "cell_type": "code",
      "source": [
        "int_2_bit_array(65)"
      ],
      "metadata": {
        "colab": {
          "base_uri": "https://localhost:8080/"
        },
        "id": "GCE5EUEZ9mWt",
        "outputId": "5c8d7139-b5f6-450f-d07d-3d31b6dfd1d3"
      },
      "execution_count": null,
      "outputs": [
        {
          "output_type": "execute_result",
          "data": {
            "text/plain": [
              "array([0, 1, 0, 0, 0, 0, 0, 1], dtype=uint8)"
            ]
          },
          "metadata": {},
          "execution_count": 53
        }
      ]
    },
    {
      "cell_type": "code",
      "source": [
        "int_2_bit_array(68)"
      ],
      "metadata": {
        "colab": {
          "base_uri": "https://localhost:8080/"
        },
        "id": "3kg214gB9uIJ",
        "outputId": "d83fe7a6-711b-4559-e615-c3c32ef44283"
      },
      "execution_count": null,
      "outputs": [
        {
          "output_type": "execute_result",
          "data": {
            "text/plain": [
              "array([0, 1, 0, 0, 0, 1, 0, 0], dtype=uint8)"
            ]
          },
          "metadata": {},
          "execution_count": 54
        }
      ]
    },
    {
      "cell_type": "code",
      "source": [
        "int_2_bit_array(1)"
      ],
      "metadata": {
        "colab": {
          "base_uri": "https://localhost:8080/"
        },
        "id": "WJ3jeAqi8680",
        "outputId": "0e08b2e3-d222-425e-fed3-b6d08a566bc1"
      },
      "execution_count": null,
      "outputs": [
        {
          "output_type": "execute_result",
          "data": {
            "text/plain": [
              "array([0, 0, 0, 0, 0, 0, 0, 1], dtype=uint8)"
            ]
          },
          "metadata": {},
          "execution_count": 55
        }
      ]
    },
    {
      "cell_type": "code",
      "source": [
        "int_2_bit_array(0)"
      ],
      "metadata": {
        "colab": {
          "base_uri": "https://localhost:8080/"
        },
        "id": "7gO-XCC38zfG",
        "outputId": "95062780-a420-4409-857f-af5d49049b4a"
      },
      "execution_count": null,
      "outputs": [
        {
          "output_type": "execute_result",
          "data": {
            "text/plain": [
              "array([0, 0, 0, 0, 0, 0, 0, 0], dtype=uint8)"
            ]
          },
          "metadata": {},
          "execution_count": 56
        }
      ]
    },
    {
      "cell_type": "markdown",
      "source": [
        "Goal:\n",
        "\n",
        "- take image of 256 bytes and reduce each byte to 2 bit in form of 2 element array\n",
        "- turn that all into 512 bits\n",
        "- turn 512 bits into 64 bytes"
      ],
      "metadata": {
        "id": "KDXmg93RcmvX"
      }
    },
    {
      "cell_type": "markdown",
      "source": [
        "# Generalize Standard For Images (MxN)\n",
        "\n",
        "If we create a standard for the header that describes the data stored then we can choose the following paramenters:\n",
        "\n",
        "- length\n",
        "- width\n",
        "- color dim \n",
        "- color bit count\n",
        "\n",
        "In total the number of bits is the product of all the parameters\n",
        "\n",
        "## Greyscale Image \n",
        "\n",
        "## RGB Image\n",
        "\n",
        "## Two Channel Color Standard\n",
        "\n",
        "## Four Channel\n",
        "\n",
        "## General Color Dim\n",
        "\n"
      ],
      "metadata": {
        "id": "kFmxqVuDea6r"
      }
    },
    {
      "cell_type": "code",
      "source": [
        "def grey_imgarr(imgarr):\n",
        "  return imgarr[:,:,:3].mean(axis=2).astype('uint8')\n",
        "\n",
        "def message_2_bit_array(message,mode=None):\n",
        "    '''This function takes in a message as string, bytestring or hextring.\n",
        "    If hexstring input the set mode='hex' '''\n",
        "    if type(message)==bytes:\n",
        "        hex_str=message.hex()\n",
        "    elif (type(message)==str):\n",
        "        if mode not in ('hex','hexstring'):\n",
        "            hex_str=message.encode().hex()\n",
        "        else:\n",
        "            hex_str=message\n",
        "    else:\n",
        "        print('fix the input and mode')\n",
        "        return None\n",
        "    \n",
        "    num=int('0x'+hex_str,base=16)\n",
        "    byte_len=(len(hex_str)+1)//2\n",
        "    bit_len=byte_len*8\n",
        "    bin_str=bin(num)\n",
        "    bit_list=[int(bit) for bit in bin_str[2:]]\n",
        "    bit_list=[0]*(bit_len-len(bit_list))+bit_list\n",
        "    bit_array=np.array(bit_list,dtype='uint8')\n",
        "    return bit_array\n",
        "\n",
        "def bit_array_2_byte_str(bit_array):\n",
        "    '''Convert bit array to a bytestring'''\n",
        "    bit_list=[ str(bit) for bit in bit_array]\n",
        "    bin_str='0b'+(''.join(bit_list))\n",
        "    num=int(bin_str,base=2)\n",
        "    return num.to_bytes(len(bit_array)//8,'big')\n",
        "\n",
        "def bit_array_2_hex_str(bit_array):  \n",
        "    '''Convert a bit array to a hexstring'''\n",
        "    return bit_array_2_byte_str(bit_array).hex()\n",
        "\n",
        "def bit_array_2_str(bit_array,encoding='utf-8'):\n",
        "    '''Convert a bit array to a string'''\n",
        "    return bit_array_2_byte_str(bit_array).decode(encoding)\n",
        "\n",
        "def int2bitarray(x,bit=8):\n",
        "  return message_2_bit_array(hex(x)[2:],mode='hex')[:bit]\n",
        "\n",
        "def bitarray2int(b_arr):\n",
        "  ln=b_arr.shape[0]\n",
        "  scales=(2**np.arange(7,-1,-1))[:ln]\n",
        "  return (b_arr*scales).sum()\n",
        "\n",
        "def imgarr2bitarray(imgarr,bit=8):\n",
        "  return np.array([ int2bitarray(it,bit) for it in imgarr.reshape(-1)]).reshape(-1)\n",
        "\n",
        "def bitarray2imgarr(barrs,imgshape=(16,16),bit=2,color=1):\n",
        "  lns=len(barrs.reshape(-1))\n",
        "  #Bs=barrs.reshape(*imgshape,bit)\n",
        "  intlst=[ bitarray2int(barrs.reshape(-1)[i:i+bit]) for i in range(0,lns,bit) ]\n",
        "  intarr=np.array(intlst).reshape(*imgshape,color).astype('uint8')\n",
        "  return intarr\n",
        " \n",
        "def bitarray2imgarr_scale(barrs,imgshape=(16,16),bit=2,color=1):\n",
        "  lns=len(barrs.reshape(-1))\n",
        "  #Bs=barrs.reshape(*imgshape,bit)\n",
        "  intlst=[ bitarray2int_scale(barrs.reshape(-1)[i:i+bit]) for i in range(0,lns,bit) ]\n",
        "  intarr=np.array(intlst).reshape(*imgshape,color).astype('uint8')\n",
        "  return intarr"
      ],
      "metadata": {
        "id": "rsUqVeQXiaH4"
      },
      "execution_count": 3,
      "outputs": []
    },
    {
      "cell_type": "code",
      "source": [
        "class bitimage():\n",
        "\n",
        "  def __init__(self,imgpath,dims=(16,16),bit=2,color=1):\n",
        "    from PIL import Image\n",
        "    self.color=color\n",
        "    self.bit=bit\n",
        "    self.dims=list(dims)\n",
        "    self.img_og=Image.open(imgpath)\n",
        "    self.img_resize=self.img_og.resize(dims)\n",
        "    self.grey=grey_imgarr(np.array(self.img_resize))\n",
        "    self.img_grey=Image.fromarray(self.grey)\n",
        "    self.bitarray=imgarr2bitarray(self.grey,bit)\n",
        "    self.bitarray_color=imgarr2bitarray(np.array(self.img_resize)[:,:,:color],bit)\n",
        "    self.newimg=Image.fromarray(bitarray2imgarr(self.bitarray,imgshape=dims,bit=bit,color=1).squeeze())\n",
        "    self.newimg_color=Image.fromarray(bitarray2imgarr(self.bitarray_color,imgshape=dims,bit=bit,color=3).squeeze())\n",
        "    self.bytestring=bit_array_2_byte_str(self.bitarray)\n",
        "    self.bytestring_color=bit_array_2_byte_str(self.bitarray_color)\n",
        "\n",
        "\n"
      ],
      "metadata": {
        "id": "zaDY5mN6q_eR"
      },
      "execution_count": 4,
      "outputs": []
    },
    {
      "cell_type": "code",
      "source": [
        "!ls Colegio_Invisible/img"
      ],
      "metadata": {
        "colab": {
          "base_uri": "https://localhost:8080/"
        },
        "id": "BMHGoycbRTmT",
        "outputId": "fffeb70a-69c7-4bab-f8f9-8bc52caec13d"
      },
      "execution_count": null,
      "outputs": [
        {
          "output_type": "stream",
          "name": "stdout",
          "text": [
            "Apollo_Slays_Python_1853.jpeg  colegio_invisible.jpeg  rum_1.jpeg\n",
            "asymmetric.png\t\t       hg_cry.jpeg\t       rum_2.jpeg\n",
            "bab_crop.jpeg\t\t       hg_drop.jpeg\t       rum_3.jpeg\n",
            "barb_1.jpeg\t\t       hg_hide.jpeg\t       rum_4.jpeg\n",
            "barb_2.jpeg\t\t       hg_house.jpeg\t       rum_5.jpeg\n",
            "barb_3.jpeg\t\t       hg_invite.jpeg\t       rum_6.jpeg\n",
            "barb_4.jpeg\t\t       hg_rough.png\t       rum_7.jpeg\n",
            "barb_5.jpeg\t\t       hg_xmas.jpeg\t       rump_final.jpeg\n",
            "barb_6.jpeg\t\t       mask.png\t\t       signature.png\n",
            "barb_7.jpeg\t\t       prv_pub_addr.png        stego.png\n",
            "cat.png\t\t\t       PubKeyToAddr.png        symmetric.png\n",
            "clavis.jpeg\t\t       rum_0.jpeg\t       zomnd.png\n"
          ]
        }
      ]
    },
    {
      "cell_type": "markdown",
      "source": [
        "# Transform Image and Create Byte Encoding "
      ],
      "metadata": {
        "id": "2XqOjTOpAFSm"
      }
    },
    {
      "cell_type": "code",
      "source": [
        "bimg=bitimage('Colegio_Invisible/img/peter2.png',dims=(64,64),bit=5,color=3)\n",
        "display(bimg.newimg)\n",
        "display(bimg.img_grey)\n",
        "display(bimg.newimg_color)\n",
        "display(bimg.img_resize)\n",
        "len(bimg.bytestring)//80,len(bimg.bytestring_color)//80"
      ],
      "metadata": {
        "colab": {
          "base_uri": "https://localhost:8080/",
          "height": 291
        },
        "id": "JNi4bF6sH_Gd",
        "outputId": "84fff859-d3f6-41ca-e55f-852c0667b7b6"
      },
      "execution_count": null,
      "outputs": [
        {
          "output_type": "display_data",
          "data": {
            "text/plain": [
              "<PIL.Image.Image image mode=L size=64x64 at 0x7F8370FFED90>"
            ],
            "image/png": "[encoded data removed]"
          },
          "metadata": {}
        },
        {
          "output_type": "display_data",
          "data": {
            "text/plain": [
              "<PIL.Image.Image image mode=L size=64x64 at 0x7F8370FA7E50>"
            ],
            "image/png": "[encoded data removed]"
          },
          "metadata": {}
        },
        {
          "output_type": "display_data",
          "data": {
            "text/plain": [
              "<PIL.Image.Image image mode=RGB size=64x64 at 0x7F8370304090>"
            ],
            "image/png": "[encoded data removed]"
          },
          "metadata": {}
        },
        {
          "output_type": "display_data",
          "data": {
            "text/plain": [
              "<PIL.Image.Image image mode=RGBA size=64x64 at 0x7F8370FA77D0>"
            ],
            "image/png": "[encoded data removed]"
          },
          "metadata": {}
        },
        {
          "output_type": "execute_result",
          "data": {
            "text/plain": [
              "(32, 96)"
            ]
          },
          "metadata": {},
          "execution_count": 68
        }
      ]
    },
    {
      "cell_type": "markdown",
      "source": [
        "# Create Embedding for Blockchain"
      ],
      "metadata": {
        "id": "XUPKMXFM_-QB"
      }
    },
    {
      "cell_type": "code",
      "source": [
        "import hashlib \n",
        "\n",
        "message=bimg.bytestring_color\n",
        "H=hashlib.sha256(message)\n",
        "\n",
        "n=80\n",
        "chunks = [message[i:i+n] for i in range(0, len(message), n)]\n",
        "\n",
        "print(len(chunks))\n",
        "print(len(chunks[-1]))\n",
        "\n",
        "print(H.digest())"
      ],
      "metadata": {
        "colab": {
          "base_uri": "https://localhost:8080/"
        },
        "id": "clOFe3jmD8Iq",
        "outputId": "136e53a7-672f-45fe-9b5a-71b707df6d27"
      },
      "execution_count": null,
      "outputs": [
        {
          "output_type": "stream",
          "name": "stdout",
          "text": [
            "96\n",
            "80\n",
            "b'\\xf4\\xad\\x9e\\xac\\x85\\xe9\\x14{W\\xfa\\xab\\xf3\\x08\\x85\\xbb\\xa6\\x9a\\xe9L4\\xbf\\xda\\xcbH\\xae\\xe25\\x90|\\x9d4\\x98'\n"
          ]
        }
      ]
    },
    {
      "cell_type": "code",
      "source": [
        "header=b'\\xc1\\xdd\\x00\\x01\\x03\\xff\\x01\\x00\\x40\\x00\\x40\\x05'\n",
        "text='Peter Bea'.encode()\n",
        "print(len(header))\n",
        "print(len(text))\n",
        "header+text"
      ],
      "metadata": {
        "id": "3rv-SKod-DXx",
        "colab": {
          "base_uri": "https://localhost:8080/"
        },
        "outputId": "7e44d79f-1e23-4772-930d-5baf842f3746"
      },
      "execution_count": null,
      "outputs": [
        {
          "output_type": "stream",
          "name": "stdout",
          "text": [
            "12\n",
            "9\n"
          ]
        },
        {
          "output_type": "execute_result",
          "data": {
            "text/plain": [
              "b'\\xc1\\xdd\\x00\\x01\\x03\\xff\\x01\\x00@\\x00@\\x05Peter Bea'"
            ]
          },
          "metadata": {},
          "execution_count": 70
        }
      ]
    },
    {
      "cell_type": "code",
      "source": [
        "package=[header+text]+chunks\n",
        "package"
      ],
      "metadata": {
        "colab": {
          "base_uri": "https://localhost:8080/"
        },
        "id": "yXA37A0yLCJB",
        "outputId": "bd36bd80-4eed-4f7d-fe5b-e7027a185c89"
      },
      "execution_count": null,
      "outputs": [
        {
          "output_type": "execute_result",
          "data": {
            "text/plain": [
              "[b'\\xc1\\xdd\\x00\\x01\\x03\\xff\\x01\\x00@\\x00@\\x05Peter Bea',\n",
              " b\"\\x84\\x1f(\\xc20\\x84\\x1e\\xe7\\xb9\\xcek\\\\\\xd69\\xad{Z\\xf79\\xees\\xdc\\xe8=\\xf1\\x84#\\x08F\\x10\\x8cc\\x18\\xc6R\\x94\\xa5)\\xces\\x9d':R\\x94\\xa5+JV\\xb5\\xb5mj\\xda\\xd5\\xb5\\xebk\\xda\\xd7\\xb5\\xaf[^\\xb6\\xbdmz\\xda\\xf5\\xb5\\xedlZ\\xf8\\xe7;\\xde\\xf7\\x9d\",\n",
              " b'\\xef9\\xdd\\xf3\\x9e\\xf7\\xb1\\x8c\\xd6\\xd7\\x9d+9\\xd2\\xb5\\xb5)YJr\\x94\\xa3\\x19B1\\x84c\\x08F\\x10\\x84!\\x08>\\x0f|\\x1e\\xf8A\\xef\\x8c\\x1e\\xf79\\xedk\\xdc\\xd75\\xadc\\x1a\\xc69\\xacsZ\\xf75\\xees\\xdc\\xe8=\\xf0{\\xe0\\xf7\\xc6\\x10\\x8c!\\x18\\xc61\\x8c\\xa5)\\xces',\n",
              " b'\\x9c\\xe79\\xcet\\x9c\\xe9JV\\x94\\xad\\xadz\\xd6\\xd4\\xad\\xab[V\\xb6\\xad\\xafk_\\x18\\xcd\\xaf\\x8a\\xda\\xf5\\xad\\xe9[_\\x19\\xf7\\xbd\\xef{|\\xe6\\xb7\\xbew\\xbd\\xefm|N\\x95\\xa5+k^\\x94\\xac\\xa59JQ\\x8ce)Z\\xd7\\x94\\xa7\\x08B\\x10\\x83\\xdf\\x07\\xbe\\x0f| \\xf8A\\xef',\n",
              " b'sX\\xe6\\xb1\\xcdk\\xda\\xd75\\x8dc\\x1a\\xc5\\xb5\\x8csX\\xe6\\xb5\\xees\\xdc\\xe7\\xb9\\xd0{\\xe0\\xf7\\xc1\\xf0\\x84!\\x18B1\\x8c\\xa5)JR\\x94\\xa5)\\xcaS\\x9c\\xe7Z\\xd6\\xf7\\xc5\\xadz\\xd6\\xd4\\xa5iJ\\xd2\\x95\\xa5+J\\xd7:\\xd6\\xf9\\xcc\\xebU\\xb5\\xeb[o\\x9c\\xff\\xff\\xff\\xff\\xde',\n",
              " b'\\xff{\\xdf{\\xdd\\xef\\xadk\\xce\\x95\\xc6s\\x9dk\\x18\\xcdkiJv\\xb5\\xbb\\xde\\xf3\\x9c\\xc63Z\\xd6\\x10\\x83\\xde\\xf7\\xbd\\xf0| \\xf7\\xbd\\xefsX\\xe6\\xb1\\xcdc\\x9a\\xc6\\xb1\\x8db\\xd8\\xb5\\xb5\\x8ck\\x18\\xe61\\xcdk\\xdc\\xe7\\xb9\\xcfs\\xa0\\xf7\\xc1\\xef\\x83\\xdf\\x18BR\\x8c\\xa5\\x19JR',\n",
              " b\"\\x94\\xa5)V\\xb5\\xadm)N\\xb5\\xb63\\x9cc\\x13\\xa5'JR\\x94\\xa5):R\\x94\\xad\\xaf{\\xdf\\x1a\\xd6\\xfb\\xde\\xff\\xff\\xff\\xff\\xff\\xff\\xde\\xf7{\\xdf\\xff\\xfb\\xdf)J\\xd2\\x95\\xdf9\\xef{\\xde\\xf79\\xcd\\xef}\\xef\\xb9\\xce{\\xde\\xef{\\x9c\\xe6\\x10\\x8b\\xde\\xf7\\xbd\\xef{\\xde\\xf7\\xbd\\xef\",\n",
              " b's\\x16\\xe61\\xcdc\\x98\\xc6\\xb1lZ\\xd8\\xb5\\xb1kk\\x16\\xd61\\xacc\\x9a\\xd79\\xcfs\\x9e\\xe7=\\xef\\x83\\xdf\\x18\\xc61\\x8cc\\x18\\xc61\\x8cc\\x18\\xd6\\xb5\\xde\\xf7\\x9c\\xe6\\x95\\xad)K\\xde\\xf6\\xbd\\xe9J\\xcet\\xa5+[[Z\\xd6\\xb5\\xbes\\x9f\\xff\\xff\\xff\\xfb\\xde\\xf7\\xbd\\xff\\xff\\xff',\n",
              " b'\\xff\\xbd\\xef{\\xd8\\xc6iJg9\\xf7\\xbb\\xbd\\xeb{\\xdf{\\xdf{\\xdc\\xe7;\\xdfs\\x9d\\xcesJR1\\x8d)JR\\xb0{\\xde\\xf7\\xbd\\xefj\\xd4\\xd5\\xad\\xac[X\\xb6\\xb1lZ\\xd8\\xb5\\xb1kb\\xd6\\xc5\\xad\\x8b[X\\xc75\\xaek\\\\\\xe7=\\xce\\x84!\\x18B\\x10\\x84c\\x08\\xc61',\n",
              " b'\\x8cc\\x18\\xc61\\x94\\xa5Z\\xd79\\xces\\x9bZ\\xd9\\xd6\\xb3\\x9c\\xeb[\\xf7\\xbd\\xff\\xff\\xff\\xff\\xff\\xff\\xff\\xfd\\xef{\\xde\\xff\\xff\\xef{\\xff\\xfb\\xff\\xff\\xff\\xfe\\xf7\\xb6\\xbd\\xf1\\x8cs\\x9c\\xef{\\xbd\\xef\\xbd\\xef\\xff\\xff{\\xdf\\xff\\xfb\\xde\\xe3\\x18\\xadk\\x8cc{\\xdf9\\xcb\\xde\\xf1\\x8ca\\x08=\\xef',\n",
              " b'Z\\x92\\xb5%\\x8aS\\x16\\xa6-LZ\\xd8\\xb5\\xb1kZ\\xd6\\xb5\\xad\\x8b[\\x16\\xb61\\x8dc\\x1c\\xd6\\xbd\\xef\\x84\\x1f\\x08>\\x0f|!\\x08\\xc6\\x11\\x84#\\x18\\xc61\\x8cc)JR\\x95\\xef~s\\x9d\\xef}\\xef{\\xde\\xff\\xff\\xef{\\xde\\xf7\\xff\\xff\\xff\\xfe\\xff\\xbd\\xef\\x7f\\xfe\\xf7\\xbd\\xces\\xde',\n",
              " b'\\xef\\xff\\xee\\xf7\\x9e\\xf7}\\xef{\\xdd\\xef\\xbb\\xces\\xff\\xff\\xff\\xff\\xff\\xdc\\xe75\\xado{\\xe79\\xcew\\xff\\xff\\xbd\\xedkV\\xb5\\xa9JJ1s\\x9a\\xe6\\xb1\\xac\\\\\\x1c\\xd89\\xaec\\x18\\xb5\\xb1kZ\\xd6\\xb5)jZ\\xd6\\xb61mc\\x1c\\xe7=\\xef{\\xde\\xf7\\xbe\\x0f|a\\tF0',\n",
              " b'\\x84!\\x08JR\\xa5){\\xdfZ\\xd7{\\xdf{\\xdf\\xff\\xff\\xff\\xfb\\xde\\xf7\\xbd\\xde\\xf39\\xcf9\\xbf\\xff\\xde\\xf7\\xbf\\xff\\x7f\\xdd\\xff\\xfd\\xceo\\xde\\xef\\xfd\\xdf\\xff\\xff\\xff\\xff\\xff\\xff\\xff\\xff\\xff\\xff\\xff\\xff\\xff\\xff\\xff{\\xdd\\xef\\x7f\\xff\\xff\\xff\\xff\\xff\\xff\\xff\\xff\\xff9\\xces\\x9b\\xde\\xf3\\x9c\\xd6\\x95',\n",
              " b'\\x94aI\\xcb\\x17\\xa6oN\\xef<\\xdeq{F\\x0fb\\xd6\\xb5)JR\\xd4\\xa6-mk\\\\\\xe79\\xces\\x9c\\xe7:\\x10\\x85)IJT\\xa4\\xe79\\xde\\xf7\\xf7\\xbd\\xff\\xff\\xff\\xff\\xff\\xef\\xff\\xff\\xff\\xff\\xff\\xff\\xff\\xff\\xff\\xff\\xfbZ\\xd61\\x8d\\xef|\\xe7=\\xee\\xff\\xfd\\xff\\xfd\\xffw\\xff',\n",
              " b'\\xf7\\xfd\\xdf\\xff\\xff\\xff\\xff\\xff\\xff\\xff\\xff\\xff\\xff\\xff\\xff\\xff\\xff\\xff\\xff\\xff\\xff\\xff\\xff\\xff\\xff\\xff\\xff\\xff\\xff\\x9c\\xe6s\\x8bZ\\xd2\\x94\\x9e\\xf7\\xbd\\xce\\x83\\xddjK\\x99\\xb6\\xf3n\\xef\\x1f\\xff?\\xffw\\x9a\\xad(\\xf79\\x8cb\\xd6\\xb6-mkZ\\xd6\\xb5\\xadsZ\\xf7:R\\x96\\xf7\\xbes\\x9a',\n",
              " b\"\\xd6\\xbb\\xde\\xf7\\xbd\\xff\\xff\\xff\\xff\\xff\\xff\\xbd\\xcf\\xff\\xdf\\xff\\xff\\xff\\xff\\xff\\xff\\xff\\xff\\xff\\xff\\xfe\\xf7\\xbd\\xef}\\xef\\x7f\\xff\\xff\\xdc\\xff\\xb7\\xee\\xef\\xff\\xff\\xbd\\xdf\\xff\\xff\\xff\\xfd\\xde\\xfb\\xdd\\xff\\xfd\\xff\\xfb\\xff\\xff\\xff\\xff\\xff\\xff\\xff\\xff\\xff\\xff\\xff\\xff\\xff\\xde\\xf7{\\xd5'9JT\\x9c\\xe5)9\\xce\",\n",
              " b'\\x9c\\xa3\\x8a\\xce\\x90sV\\x971r\\x83\\xb1i\\xefW\\xf7y{V\\x0fs\\x9c\\xd7\\xb9\\xcfs\\x9c\\xd6\\xb5\\x8ck[\\x08B\\xb5\\xae\\xf7\\xbf\\xff\\xff\\xff\\xff\\xff\\xff\\xff\\xff\\xff\\xff\\xff\\xff\\xff\\xff\\xff\\xff\\xdf\\xff\\xbf\\xff\\x7f\\xff\\xff\\xff\\xff\\xff\\xff\\xff\\xff\\xff\\xff\\xff\\xff\\xff\\xff\\xfb\\xbb\\xf73\\xefs\\xff',\n",
              " b\"\\xff{\\xbe\\xf3|\\xde\\xbb\\xce\\x7f\\xfe\\xff\\xff\\xff\\xff\\xff\\xff\\xff\\xff\\xff\\xff\\xff\\xfd\\xef\\x7f\\xff\\xff\\xff\\xefw{\\xde\\xb5\\x9cc\\x12\\x94\\x9c\\xe79\\xad\\xac\\xe3i\\xc2\\rZ\\x92\\x85!\\nJZ\\xb5A\\xcc\\x94\\x1fj\\xd39\\xbd'(A\\xefs^\\xf7F0\\x8ca\\x18BR\\x8es\\x9f\\xff\\xff\",\n",
              " b'\\xff\\xff\\xff\\xff\\xff\\xff\\xff\\xff\\xff\\xff\\xff\\xff\\xff\\xff\\xff\\xff\\xff\\xff\\x7f\\xfe\\xff\\xbb\\xff\\xf7\\xff\\xff\\xff\\xff\\xff\\xff\\xff\\xff\\xff\\xf7y\\xe6\\xaf\\xefs\\xde\\xee\\xf5\\x9eo;\\xd6{\\xce\\x7f\\xfe\\xff\\xff\\xff\\xff\\xff\\xff\\xff\\xff\\xff\\xff\\xff\\xfd\\xee\\xff\\xff\\xff\\xff\\xff\\xff\\xde\\xee\\xb5\\x99\\xcens\\x9c\\xe6\\xb5\\xad',\n",
              " b'\\xa4\\xa1zF.b\\x90\\x85!\\nJT\\x94\\xa9)ZR\\xd5\\xaa\\x0f~q{Z\\xb6\\xb5c\\x18\\xc1\\xef\\xadi\\xbd\\xef\\xbd\\xef\\xbd\\xef\\xff\\xff\\xff\\xff\\xff\\xff\\xff\\xff\\xff\\xff\\xff\\xff\\xff\\xff\\xef\\xff\\xff\\xff\\xbf\\xee\\xff\\xfd\\xff\\xb9\\xdek\\xfe\\xe7\\xff\\xdf\\xff\\xdf\\xff\\xff\\xeesW\\xdem\\xdek\\x9b',\n",
              " b'\\xce\\xf5\\x9dg\\x1b\\xde\\x7f\\xff\\x7f\\xff\\xff\\xff\\xff\\xff\\xff\\xff\\xff\\xff\\xff\\xff\\xff\\xfd\\xde{\\xde\\xff\\xff\\xde\\xf3\\x18\\xbd)IJ0\\x83\\xdc\\xe6\\xb5\\xac\\x83\\x99Y\\xc2pr\\x90\\x84\\xa1\\nB\\x16\\x94\\xad)R\\x12\\xa4\\xa5jR\\xd6\\xb9J:\\xd6\\xbd\\xffg8\\xadk\\xbd\\xef\\xff\\xff\\xff\\xff\\xff\\xff',\n",
              " b'\\xff\\xff\\xff\\x7f\\xff\\xff\\xff\\xff\\xfb\\xfe\\xef\\xbb\\xbfw}\\xe6\\xbb\\xcdw\\x99\\xf75\\xdd\\xe7z\\xbfw\\x9fs_\\xf7;\\xcc\\xeb\\x16\\xd5\\xe9\\xcd_z\\xc6\\xb3}f\\xfd\\xe6\\xbb\\xcd{\\xbc\\xff\\xff\\xff\\xff\\xff\\xff\\xfd\\xdf{\\x9f\\xff\\xbf\\xff\\xf7\\xbc\\xd6\\xb5\\x9c\\xe7\\x18\\xc5\\xefjRq\\x84\\x1a\\xd6\\xb5\\x8c',\n",
              " b'{\\x15\\x172.Z\\x90\\x84\\xa1\\nB\\x16\\x94\\xad)ZR\\xa4\\xa5iK\\x14\\xb8\\xc6\\x1b\\xde\\xbf\\xff\\xff\\xff\\xff\\xff\\xff\\xff\\xff\\xff\\xff\\xff\\xff\\xff\\xff\\xbb\\xdd\\xf7\\x9b\\xefw\\xdeky\\xbe\\xb1mf\\xdb\\xcd\\xb3z\\xeb\\x15\\xcd\\xe9\\x9b\\xd7\\x16\\xa6mM\\xe6\\xdc\\xd5\\xf7\\x9bf\\xf4\\xc5e\\xac[Y',\n",
              " b'\\xbeqmb\\xdb\\xcd\\xf7\\xacsz\\xe6\\xf5\\xcek\\x9b\\xcf7\\x9fw~\\xf7?\\xffw\\xbc\\xde\\xf5\\xbd\\xef{\\xd61x\\xc2\\x0esZ\\xd6\\xb5\\x8cs\\x14\\xf6\\xae\\x0eb\\x92\\x84\\x1c\\xe9B\\x14\\x84-)ZR\\xb4\\xa5iKX\\xc7\\xb9\\xd3\\x94u\\x9b\\xf3y\\xe6\\xf3\\xdek\\xff\\xf7\\xff\\xff{\\xbc',\n",
              " b'\\xdeu\\x9b\\xe2\\xd4\\xc5\\xeb\\x9b\\xd7\\x16\\xa5\\xeb:\\xd2W\\xac\\xefIVq\\xac\\xe3Y\\xc6\\xb3\\x8dg\\x1cZz\\xc5qi\\xe6\\xf4\\xb4\\xe3\\x8bS\\x16\\xa6-L\\xde\\xba\\xcd\\xb5\\x8bb\\xf6\\xce/\\xbdcy\\xbe\\xf3~o<\\xe6\\xf9\\xcew\\xbc\\xef{\\xbd\\xee\\xd6\\xb4\\xe7)JO{\\xda\\xc61\\x8b',\n",
              " b'j\\xd4\\xe6./cV\\xa4\\x18\\xe99\\xd4\\x84-)ZR\\xb4\\xa5iK\\x14\\xa6\\xb1s\\x8c-IRP\\xce-\\xdek\\xbc\\xd7y\\xad\\xeb\\x1a\\xcd\\xf3\\x8bb\\xd4\\xc5\\xebz\\xce\\xb4\\x95%\\x19\\xc5\\xf3\\x8b\\xe9(N/\\x94\\x1f8\\xbeq}\\xa7\\x1b\\xd6W\\xac\\xafI^\\xb3\\xac\\xa1\\x8bR\\xf5',\n",
              " b'\\x9d\\xeb,Z\\x98\\xbd1jg\\x16\\xde\\xb1\\xbc\\xdfY\\xb6\\xf5~\\xf3^\\xf7=\\xde{\\xdc\\xf7\\xbb\\xef\\xfb\\xff\\xf79\\xbbZ\\xd0\\x83\\xda\\xd61kj\\xd4\\xe6*\\x0e\\\\\\x1c\\xb4\\x1c\\xe89\\xd2\\x84-)ZR\\xb4\\xa5iK\\x16\\xa7\\xb5\\x92\\x83\\xeb8\\xda\\x92\\xce-\\xac\\xdf8\\xb6ql\\xde\\xb8',\n",
              " b'\\xb5/Y\\xd6\\x92\\xb5%Y\\xc6q\\x84\\xa0\\xf8\\xbd\\xd0sd\\xf7E\\xee\\x83\\x9b\\x17\\xbaP}e\\n\\xce\\x14\\x94)(V\\x92\\xa4\\xa1jK\\x16\\xa5g\\x1bRX\\xb4\\xf3z\\xe6\\xf5\\xcd\\xeb\\x8bS7\\xa6\\xb1m\\xea\\xfb\\xd6;\\xcd\\x7f\\xfd\\xff\\xfd\\xffw\\xbd\\xe79\\xbdk3\\x9c\\xdc\\xd6\\xb5\\x8c',\n",
              " b'Z\\x92\\xd5\\xa5\\xed\\\\\\xe0\\xe5!\\x071\\xd0s\\xa5\\x08ZP\\xb4\\xa1iK\\x14\\x97\\xb5\\x93\\x8c+8\\xde\\xb4\\xc5\\xab\\x8b\\xd7\\x17\\xae/[Vu\\x9cg(J\\x0e\\x8b\\xdd\\x17\\xba\\x0fl\\x1c\\xd7\\xb5\\x8ek \\xe6\\xbd\\xcdsZ\\xf6\\xb6/t\\xa0\\xe9=\\xd2\\x83\\xa7(NQ\\x93\\xdd(:\\x92',\n",
              " b'\\x85g\\x1bRW\\xac\\xedYZ\\x92\\xb5%jJ\\xf5\\x9d\\xeb<Z\\x9a\\xcd\\xb9\\xacsy\\xde\\xb3\\xbdgZ\\xce1{Z\\xb4\\xa4\\xe7)A\\xefR\\x0e\\xb4\\xa1\\xabT\\x9e\\xd5\\xa5\\x071\\x90c\\xa0\\xe7I\\xce\\xa4!iC\\x12\\x971q\\x83\\xe5\\x17\\xce0\\xad%\\x8bS7\\xad\\xeb:\\xce\\x13',\n",
              " b\"\\x8b\\xe2\\xf7=\\xcdsX\\xe61\\xac[X\\xb6-mZ\\xdc\\xc65\\x8cb\\xd6\\xd6-\\xedcX\\xb75\\x8fs`\\xe79\\xac{Y\\x06\\xb2/m%\\x0bRU\\x9ckI^\\xd4\\xcd\\xed\\x8bR\\xd5\\x9d\\xa9+\\xd6W\\xac\\xefjb\\xd4\\xc5\\xeb\\x8b\\xd7\\x17\\xb4\\xe7'\\xbd\\xedc\\x18\\xb5\\xadJ\",\n",
              " b'ZP\\x94\\x1diD\\\\\\xc85i9\\xd0c \\xc7A\\x8e\\x93\\x9dHB\\x90\\x86)-Z\\xe5\\x18^\\xd5\\xd6-\\x8bR\\xf5\\x9d%\\x08\\xbd\\xcfk\\x1c\\xc61kZ\\xd4\\xa5))J\\x94\\xa5\\xa9JR\\x96\\xa5-JZ\\x94\\xc5\\xad\\x8bZ\\x92\\xa5\\xa9LZ\\xda\\xc5\\xb9\\x8ck\\x17\\x06\\xb2q',\n",
              " b\"}%\\t\\xca\\x14\\x94k9Vq\\xa4\\xa18>\\x92}g\\n\\xce\\x16\\xa4\\xafY\\xda\\xb3\\xbdg{R\\xd5\\x9c\\xe5\\x16-kRT\\xa4\\xadIj\\xd2\\xb4\\xa1H<\\x1a\\xbaE\\xcdZPc\\x1c\\xc69\\x8e\\x83\\x9d':\\x92\\x96)LR\\xa0\\xe6\\xd2P\\xac\\xe5IB/k\\x98\\xb6\\xadL\",\n",
              " b'Z\\x96\\xa5%)B\\x12\\x84%\\x08I\\xd0\\x84\\xa5*JR\\x94\\xa9*Z\\x94\\xb5)IJ\\x10\\x94\\xa5*R\\x98\\xb5\\xc5\\xee\\x94\\x1f\\x17\\xb6\\x0ek\\xda\\xc7\\xb5\\x8fs^\\xd6=\\xac\\x8b\\xdb8:\\x92}$\\xfaJ\\x13\\x8b\\xe7\\x17\\xd2P\\xac\\xe3ZJ\\xd4\\x94`\\xf5\\xadJJT\\x94\\xa9(',\n",
              " b'j\\xd4\\xd5\\xa5iB\\xd4\\x889\\x91s\\x12s\\x9c\\xc69\\x8cs\\x19\\x07:P\\x85%\\x0eb\\xe7\\x17\\xce0\\x8b\\xda\\xf6\\xad\\xccSV\\xa6)IJP\\x84\\x1c\\xe81\\xd0c\\xa0\\xe7A\\xd0\\x83\\xa1\\tBR\\x84\\xa5\\tRR\\xa4\\xa5(J\\x10\\x83\\xa1\\x08BT\\x94\\xb5\\x8csX\\xc5\\xadj',\n",
              " b'R\\xd2\\xa5%+R\\x9a\\xb5\\xbd\\xac\\x83\\x99\\x17\\xb6Pt\\xa0\\xe8\\xbd\\xb1sb\\xf6\\xca\\x0e\\x94\\x1d8\\xbe\\xb3\\x8e/l\\xe78\\xc5\\xedZ\\xd2sj\\xd4\\xd5\\xa9\\x8aKV\\x97\\xb5qs\\x1a\\xa4\\x9c\\xc69\\x8cs\\x18\\xe62\\x0eu\\xa90s \\xe6=\\x8ar\\xd4\\xd5\\xa5\\xabS\\x14\\x94\\xa1\\x07',\n",
              " b':\\x0cc\\x98\\xc81\\xd0c\\xa0\\xc7A\\xce\\x83\\x9d\\x07:\\x0et!\\x08J\\x12\\x84!\\x08A\\xce\\x83\\x9d\\x08B\\x10\\x84!\\x08B\\x10\\x84!\\x08B\\x10\\x84\\xa1\\tBT\\x94\\xb1Js\\x16\\xe6-\\xedd\\x1c\\xc8\\xb9\\xb1{b\\xf6\\xc5\\xed\\x8b\\xdb\\x17\\xb6q}i+V\\x96\\xb5s\\x8b\\xf3{',\n",
              " b'j\\xd4\\xd5\\xa9\\xabKV\\x971Oj\\xde\\xc5%\\x079\\x8cs\\x19\\x07:\\x90\\x85\\xa5\\x0eb\\x9e\\xc59jj\\xd2\\xd5\\xa5\\x8aJ\\xd2\\x83\\x9d\\x061\\xccc\\x98\\xc81\\x8ec\\x9c\\xa69\\x8e\\x83\\x9d\\x069\\xccc\\x9c\\xe79\\xd0s\\xa0\\xe7A\\xce\\x83\\x9d\\x07:\\x0et\\x1c\\xe89\\xd0s\\x9c\\xe7',\n",
              " b'B\\x10\\x84!\\x08B\\x10\\x84%)b\\x94\\xd5\\xa9\\xcc[\\xda\\xb8\\xb9\\xb1{`\\xe6=\\xacs\\x16\\xf6\\xae\\x0ed\\x1c\\xd7\\xb9\\xb1{\\xa7(\\xd2rj\\xd4\\xd5\\xa9\\xabKV\\x97\\xb1Ob\\x9c\\xc4\\xb1(I\\xce\\x83\\x9dH:\\x92\\x86).b\\x9c\\xc59ij\\x92\\xd5%\\x89J\\x90\\x83\\x9c\\xe7',\n",
              " b'9\\xces\\x98\\xc71\\x8ec\\x1c\\xc79\\xce\\x83\\x9d\\x079\\xces\\x98\\xc71\\xces\\xa0\\xe7A\\xces\\x1c\\xe61\\xccs\\x9c\\xe79\\xcec\\x1c\\xe79\\xce\\x83\\x9d\\x07:\\x0es\\x9c\\xe89\\xd0\\x94!\\x8aS\\x98\\xb7\\xb5\\x8fk\\x1a\\xb55jb\\xd2\\xc5%\\x8aK\\x16\\x96\\xb1os`\\xe6\\xc5\\xee',\n",
              " b'j\\xd2\\xd5\\xa9\\xabKV\\xa6\\xadMZZ\\xb4\\xb5HZP\\x83\\x99H:\\xd2\\x86)-Z\\\\\\xb55Ib\\x90\\xc4\\xa1HBPt\\x1c\\xe79\\xces\\x98\\xc71\\x8es\\x9c\\xe79\\x8es\\x9d\\x07:\\x0es\\x9c\\xe71\\x8es\\x9c\\xe79\\x8cs\\x18\\xe61\\xccc\\x98\\xc71\\x8ec\\x1c\\xc6',\n",
              " b'9\\x8cs\\x18\\xe61\\xccc\\x98\\xc7)\\x8eS\\x18\\xe7;\\x14\\xa6\\xadLRX\\xa4\\xb1Ik\\x14\\xe6\\xb2\\x0ft\\xa3\\t\\xca3\\x94e\\x18J\\x0fj\\xd2\\xd5\\xa5\\xabKV\\x96-,RZ\\xb4\\xb9\\x8aj\\x92\\xa4\\x1dH:\\xd2\\x86)-RZ\\xb4\\xb5Ij\\x90\\xd5!\\x89B\\x90\\x84\\x9c\\xe7',\n",
              " b'9\\xces\\x9c\\xe71\\x8ec\\x1c\\xc69\\x8cs\\x18\\xe8B\\x10\\x84\\x1c\\xe79\\xcec\\x1c\\xc69\\x8cs\\x18\\xe61\\xccc\\x98\\xc79\\xces\\x1c\\xc69\\x8cc\\x18\\xc61\\xcac\\x94\\xc6)\\x8eR\\x98\\xa62\\x90\\x85\\xa5+JX\\xa4\\xbd\\xab\\x8c\\x1dI\\xc6\\xf6\\xae\\xb3\\x8d\\xef^\\xef\\x7f\\xff\\x7f\\xfe',\n",
              " b'j\\xd2\\xd5\\xa9\\xabSV\\x96\\xad,ZX\\xb4\\xb9\\x8aj\\x92\\xa4\\x1dH:\\xd2\\x85\\xa5\\rRZ\\xb4\\xb5Hj\\x92\\xc5!\\x89B\\xd2\\x84\\xa0\\xe89\\xces\\x9c\\xc79\\x8es\\x1c\\xc69\\x8cs\\x18\\xe79\\xd0\\x84\\x1c\\xe71\\x8ec\\x1c\\xc69\\x8cs\\x18\\xe61\\xccc\\x9c\\xe79\\xces\\x9c\\xc6',\n",
              " b'9\\x8cs\\x18\\xc5)\\x8aS\\x14\\xa6)LR\\x98\\xa52\\x0et\\xa1\\tB\\x18\\xa4\\xb9\\x8b\\x83\\x99(\\xbe\\x93\\x8d\\xab<^\\xda\\xd6y\\xcd\\xf7\\xbdj\\xd2\\xd5\\xa5\\xabKV\\x96\\xadMZ\\x9a\\xb4\\xb5jj\\xd2\\xb4\\xa1\\x89C\\x12\\x86)-ZZ\\xa41Hb\\x90\\xc5!\\x89B\\xd2\\x85%\\t',\n",
              " b\"B\\x0es\\x9c\\xc69\\x8es\\x9d\\x07:\\x0e\\x84\\x1c\\xe89\\xces\\xa0\\xe79\\xces\\x18\\xc69\\x8cs\\x18\\xc51\\x8cc\\x9c\\xe79\\xcec\\x1c\\xc69\\x8cs\\x18\\xe61\\xccc\\x94\\xa6)LB\\x98\\xa51\\x8cc\\x98\\xc9A\\xd6\\xa4\\xb5\\x8b{\\x99\\x18:Q}'\\x1bVx\\xbd\\xb3\\x8b\\xebY\",\n",
              " b'b\\x92\\xd5\\xa5\\xabKV\\x96\\xad,ZZ\\xb4\\xb5ib\\xd2\\xc5!\\xaaCT\\x96\\xa9,R\\x1a\\xa45HbP\\xc4\\xa1iB\\xd2\\x85\\xa1\\tA\\xd2s\\xa5\\x07J\\x10\\x94!(BP\\x84\\xa1\\x089\\xd0s\\x9c\\xe79\\xce\\x83\\x9c\\xe61\\x8cc\\x18\\xc61\\x8cc\\x18\\xc61\\x8cc\\x18\\xc6',\n",
              " b'1\\x8cc\\x18\\xc61\\xccc\\x14\\xc6)LR\\x98\\xa51Jc\\x18\\xc9B\\x16\\xa4\\xb5\\x8a{Y\\x07\\xb6Pt\\xe5\\nNV\\xad/j\\xe7\\x17b\\x92\\xc5%\\x8aKV\\x96-,RX\\xb4\\xb5ib\\x92\\xc5%\\x8aCT\\x96%\\rRZ\\xa41HbP\\xc5!\\x89B\\xd2\\x85\\xa5\\x0b',\n",
              " b'B\\x14\\x83\\xa9\\x07ZP\\xc5%\\x8aJ\\xd2\\x85!\\t9\\xd0s\\xa0\\xe7A\\xce\\x93\\x9d\\x079\\xcet!\\x079\\xccc\\x18\\xc61\\x8cs\\x9c\\xe79\\xccc\\x98\\xc61\\x8cc\\x14\\xa6)LR\\x98\\xa51Jc\\x18\\xc9B\\x16\\xa4\\xb5jsY\\x07\\xb60t\\xa2\\xfaN6\\xac\\xefj\\xe2\\xf6',\n",
              " b'b\\x90\\xb5!jC\\x14\\x96),RX\\xa4\\xb1Ib\\x92\\xc5%\\x89C\\x12\\x86)\\rZZ\\xa45Hj\\x90\\xd5!\\x8aC\\x14\\x86%\\x0cJ\\x16\\x94-(ZP\\xb4\\xa1HB\\xd2\\x85\\xa5\\nB\\x10s\\x9c\\xc69\\x8cs\\x9c\\xe79\\xcet!\\x07:\\x0et \\xe8J\\x10\\xa4\\xa1I',\n",
              " b'BP\\x84\\x1c\\xe71\\x8cc\\x18\\xc61\\x8cR\\x98\\xa51JS\\x98\\xc9B\\x16\\xa4\\xb5jsX\\xf76/t\\xa2\\xfaN5\\xa4\\xefj^\\xd5Z\\x90\\xb4\\xa1iB\\xd2\\x86),RX\\xa4\\xb1Ib\\x92\\xc5%\\x89C\\x14\\x86\\xad-R\\x1a\\xa45Hj\\x90\\xc4\\xa1\\x89C\\x12\\x86%\\x0b',\n",
              " b'J\\x16\\x94-\\x08Z\\x10\\xb4\\x1dhB\\x90\\x85 \\xe99\\xd0c\\x1c\\xc69\\x8c\\xa3\\xa1HI\\xccr\\x94\\xc5)\\x8cc\\x98\\xc7B\\x10\\x94!IB\\x90\\x84\\x1c\\xe89\\xd0s\\x9c\\xe71\\x8cc\\x18\\xc61\\x8cc\\x9c\\xe9J\\x16\\xa4\\xb5jsW\\x07\\xb60t\\xe5\\t\\xca5\\xa4\\xabI\\xda\\xb4',\n",
              " b'ZP\\xb4\\xa1iB\\x92\\x85\\xa5\\x0bJ\\x16\\xa4-Hb\\x92\\xc5%\\xaaKT\\x86\\xa9-R\\x1a\\xa45Hj\\x90\\xd5!\\xaaCT\\x86%\\x0bI\\xd6\\x94-(ZP\\xb4\\x1dH:Pt\\x1c\\xe71\\x8cS$\\xc7Z\\x10\\xc4%\\x86B\\xce\\x83\\x14\\xc4!HB\\x90\\x85!JR\\x98\\xc6',\n",
              " b':\\x0et\\x9c\\xe89\\xd0s\\x9c\\xc61\\x8cR\\x94\\xa5)JS\\x9c\\xe9J\\x16\\xa4\\xb5\\x8b{\\x99\\x07\\xb60t\\xa2\\xf9\\xca5\\xa4\\xadY\\xde\\xd4b\\xd6\\xa4\\xa1IB\\x90\\x85!\\nB\\x14\\x94-(ZP\\xb4\\xa1\\x8aKT\\x86\\xa9\\x0cR\\x1a\\xa45Hj\\x90\\xe5%\\xcbKT\\x96)\\x0c',\n",
              " b'J\\x18\\x941Hb\\x90\\xb4\\xa1G9\\xccc\\x98\\xc9:\\x18\\x955*jT\\xf5-\\x052Lt\\x9d\\x05)\\x88B\\x90\\x85!\\nB\\x14\\x85)Lc\\x98\\xc89\\x90c\\x1c\\xc61\\x8cR\\x94\\xa5)\\x8cd \\xeaJX\\xb55\\x8bsX\\xf76\\x0fl`\\xe9E\\xf3\\x94)9V\\x92',\n",
              " b'k\\x18\\xc6-jR\\x92\\x84\\xa1\\tA\\xd2\\x83\\xa5\\x08J\\x10\\xa4\\xa1\\x8aC\\x14\\x86\\xa9-R\\x1a\\xa45Ij\\x92\\xe5\\xa5\\xcbK\\x96\\x97-.ZZ\\xa4\\xb5Hb\\x90\\xb4\\x9dhC\\x12\\x96\\xa5N[ \\xd7=\\x8d\\x82\\xd8\\xd4\\xa9\\x061\\x88S\\x94\\xc71\\x88B\\x90\\x85!\\nB\\x14\\x84',\n",
              " b')\\x08S\\x98\\xc89\\xd0s\\x1c\\xc61JR\\x94\\xa5)\\xccd\\xa1\\nRX\\xb55\\x8bsX\\xf76\\x0fl^\\xe8\\xc1\\xd2\\x83\\xe7(Rqc\\x18\\xe75\\xces\\x16\\xb5\\xa9JRR\\x94!\\x08B\\x10\\xa4\\xa1\\x8aK\\x14\\x96\\xad,R\\x1a\\xa45Hb\\x90\\xc5!\\x89C\\x12v%\\x0c',\n",
              " b'J\\x18\\xa49jr\\x92\\xe5)\\xea[\\x94\\xb6\\xa5LBZ\\x955)rT\\xc4%\\x89R\\x8e\\x84\\x98\\xe7)\\x8cR\\x90\\x85!\\n2\\x10d!\\x08S\\x18\\xc81\\x8eb\\x98\\xa5)JR\\x14\\xa5)\\xccd \\xeaJ\\x18\\xb4\\xb5\\x8bsX\\xf72\\x0fl`\\xe9F\\x14\\x9c\\xabIV\\x93',\n",
              " b\"| \\xe79\\xadkZ\\xd5\\xadlb\\xd6\\xb5!\\x08J\\x10\\xa4\\xa1\\x8aK\\x14\\x96)\\x0cR\\x1a\\xa41'bN\\xc4\\x9d\\x89;\\x12v%\\x0cJ\\x1a\\xa4\\xc1KzT\\xd4\\xa9\\xa8K\\x10\\x95\\x9d\\x0b:\\x16t5\\tb\\x12\\xb3\\xa1gB\\xce\\x85\\xa1+BTt\\x18\\xa6 \\xc81\\x90c\",\n",
              " b'!\\x08C\\x14\\xa71\\x8eb\\x98\\xa5)JB\\x14\\xa5)\\xccd \\xeaJ\\x16\\xa4\\xb5\\x8asX\\xf76/t\\xa2\\xfaN5\\xa4\\xadZ^\\xd5c\\x1a\\xd6\\xb9\\xadk\\x1a\\xc5\\xadKZ\\xd4\\xa5%)J\\x10\\xa4\\xa1jC\\x14\\x86)-R\\x18\\x941(bP\\xc4\\xa1\\xaaCT\\x86)\\x0c',\n",
              " b'R\\x1c\\xa4\\xbd\\ti\\xd0\\xc3\\xa1f:\\x8cu\\x9d\\x0b:\\x16d1\\x08Y\\xd0\\xa3\\x1d&:Lu\\x9d\\x0cBZ\\xa5\\xb9lA\\x8e1\\x90c!\\x08C\\x14\\xa71\\x8ec\\x1c\\xc6)JR\\x94\\xc62\\x0et\\xa1\\nRX\\xb4\\xb5\\x8b{\\x99\\x07\\xba0|\\xe5\\nJ4\\x9c\\xadZ^\\xf5',\n",
              " b'\\x84 \\xf7\\xc1\\xcesZ\\xd5)JJT\\xa5%)RR\\xa4\\xa1iB\\xd2\\x85\\xa5\\x0bJ\\x16\\x93\\xb1(bP\\xc5!\\x8aC\\x12u\\xa0\\xebA\\xda\\x94=\\ta\\xd0\\xb3\\x1df:\\x8cu\\x9d\\x0b:\\x16c\\xac\\xe8Q\\x8e\\xa3\\x1d&2Lu\\x9d\\x0c:\\x18\\x84\\xb9KrT\\x83\\x18d',\n",
              " b'!\\x08C\\x14\\xa71Nc\\x1c\\xc6)JR\\x94\\xe62\\x10u%\\x0bRZ\\xc5=\\xac\\x83\\xdb\\x18:Q|\\xe5\\nNV\\xad/j\\xe2\\xf6cZ\\xb61kb\\xd6\\xb5)IJT\\xa5!\\x08B\\x10\\x84\\x1d\\x08:\\x0et\\x1c\\xe89\\xd4\\x83\\xb1(bP\\xc4\\xa1i:\\xd0u\\x1c\\xc9',\n",
              " b'9\\x98\\x849\\ta\\x8e\\xb3\\x1df:\\xce\\x85\\x9d\\x0b:\\x14c\\xac\\xe7Y\\x8e\\x93\\x1d&:\\x8eu\\x9d\\x0cB\\x18t0\\xe8i\\xd0\\xd4$\\xa4)HC\\x98\\xc71\\x8ec\\x18\\xa51Jc\\x15\\x07:\\x92\\x85\\xa9-b\\x9c\\xd6=\\xcd\\x83\\xdb\\x18:Q|\\xe5\\n\\xd2V\\xac\\xedZ^\\xd5',\n",
              " b'JT\\xa5)JRR\\x94\\xa5+Z\\xd6\\xb5\\xa5)9\\xcec\\x18\\xc61\\x8cc\\x18\\xc71\\x92\\x83\\xad(bP\\xc4\\x9dh:\\xd0u\\x1c\\xca9\\xd8\\x849\\ta\\xce\\xb3\\x1df:\\xce\\x86!,:\\x16c\\xac\\xe8Q\\x8e\\x93\\x1d&:\\x8ev\\x1d\\r:\\x18t0\\xe8i\\xd0\\xa3\\x1c\\x84',\n",
              " b'!HS\\x98\\xa89\\x90s\\x1c\\xc61\\x8as\\x99(B\\xd4\\x96-Mb\\x9a\\xc5\\xb9\\xab\\x83\\x99\\x07\\xb60t\\xa2\\xf9\\xca\\x14\\x9ckIZ\\xb3c\\x18\\xc6\\xb5kb\\x94\\xb4\\xa5)JR\\x94\\xa5)9\\xcec\\x18\\xa5)JR\\x94\\xa6)Ps)\\x07bP\\xc4\\x9d\\x89:\\xd2u\\xa0\\xea',\n",
              " b'A\\xd4\\x83\\xb5\\ti\\xce\\xa2\\x99F2\\x8cu\\x9d\\x0c:\\x16t0\\xe8Y\\xce\\x93\\x1dF:\\xce\\x86!\\r:\\x18t4\\xe8a\\xd0R\\x14\\x84!HS\\x14\\xa71\\x90s \\xe6A\\xce\\x84\\x1dIB\\xd4\\x96-LZ\\x9a\\xc5\\xbd\\xac{\\x99\\x07\\xb60t\\xa0\\xe9E\\xf3\\x94)8\\xd6r',\n",
              " b'Z\\xd6\\xa5))JR\\x95)IJR\\x94\\xa1\\x089\\xcec\\x18\\xa5)JR\\x94\\xa6)Ps)\\x07ZN\\xb4\\x9d\\x89B\\xd2u\\xa0\\xea9\\xd0s1\\x08i\\xce\\xa2\\x99%2Le\\x98\\xeb:\\x16s\\xac\\xe8Q\\xce\\xa3\\x1dG;\\x0e\\x86\\xa1\\rB\\x1ct4\\xe89LB\\x10\\xa4',\n",
              " b'!HS\\x14\\xa71\\x8ec \\xe6A\\xce\\x94\\x1dIB\\xd4\\x96-Mb\\xdc\\xd5\\xbd\\xcc\\x83\\x99\\x07\\xb6/l`\\xe9E\\xf3\\x8b\\xe7(RPZ\\xd6\\xa5))J\\x94\\xa4\\xa5)JP\\x84!\\x079\\xcec\\x18\\xa5)\\nR\\x94\\xa5)Lb\\xa4\\xe6ZP\\xb4\\xa1h:Nd\\x9c\\xc8',\n",
              " b'9\\x8eR\\xa8\\xe7i\\xce\\xa2\\x99\\x05*Je\\x18\\xea1\\xd6c\\xac\\xc7Q\\x8e\\x93\\x19F:\\x8cv\\x1d\\x0eB\\x1e\\x84\\xa8\\xc7!\\x08B\\x10\\xa4!HS\\x14\\xa6)LR\\x98\\xc59\\x8c\\x94\\x1dIK\\x16\\xa6\\xadNb\\xdc\\xd6=\\xcc\\x83\\xdb\\x17\\xb6/l`\\xe8\\xc1\\xd2\\x8b\\xa5\\x17\\xce/',\n",
              " b\"c\\x18\\xa5)JR\\x94\\xa4\\xa5(B\\x10\\x84!\\x089\\xcec\\x18\\xa5)JR\\x94\\xa5)LR\\xa4\\xe7ZP\\xa4\\x1d'2Nd\\x18\\xc7)JB$\\xc7i\\xce\\xa2\\x98\\xe4*\\ne\\x18\\xea1\\xd4c\\xa8\\xc7I\\x8c\\x93\\x19&2Je\\x98\\xee:\\x1as\\x94\\x84 \\xc8B\\x10\\xa4\",\n",
              " b'!HR\\x90\\xa5!\\nB\\x94\\xa59\\x8a\\x94\\x1djK\\x16\\xa6\\xb1Nj\\xde\\xd6=\\xcc\\x83\\xdb\\x17\\xb60l`\\xe9A\\xd2\\x8b\\xa7\\x17\\xd2PkZ\\xa5)JR\\x92\\x94!\\x08A\\xd0s\\x9c\\xe79\\xces\\x98\\xc61\\x8cb\\x94\\xa4!JR\\xa5\\x07ZP\\x94\\x1d\\x071\\xccS\\x94\\xa6',\n",
              " b')LR\\xa4\\xc6Y\\x8c\\x92\\x14\\xc4)\\xcaU\\x18\\xca1\\x94c(\\xc7I\\x8c\\x82\\x99\\x052Je\\x98\\xed9\\xd2c\\x10d!\\x08B\\x10\\xa4!HB\\x10\\x84!\\nB\\x14\\xa59\\x8c\\x94!jK\\x16\\xa71nj\\xde\\xe6A\\xcc\\x83\\xdb\\x17\\xb60t\\xa0\\xe9\\xc5\\xf3\\x94)(RP',\n",
              " b'\\xbd\\xee\\xb6-JRR\\x94\\xa1\\x08B\\x10\\x83\\xa5\\x08B\\x0es\\x9c\\xe61\\x8cb\\x94\\xa5)JR\\xa0\\xe7R\\x0e\\x83\\x18\\xe6)\\xccT\\x18\\xa71Nb\\x9c\\xa59Jb\\x14\\x84!HT\\x94\\xca1\\x94c(\\xa6IL\\x82\\x98\\xe5*\\ne\\x98\\xcc9\\xd2c\\x10\\x84 \\xc8B\\x10\\x84',\n",
              " b'!\\x06B\\x10\\x84!\\nB\\x18\\xa5A\\xce\\xa4\\xa1jKV\\xa71ok \\xe6A\\xed\\x8c\\x1b(\\xbaq|\\xe4\\xfaJ\\x14\\x9ci8\\xd6q\\xff\\xffZ\\xd5kZR\\x94!\\x079\\xces\\xa1\\x07J\\x10\\x94!\\x079\\x8cb\\x94\\xa5)JR\\x9c\\xc61\\x8aR\\x95\\x062\\x0ed\\x9c\\xc8',\n",
              " b'9\\x90c\\x1c\\xc51JR\\x94\\x84!HD\\x14\\xca1\\x94c$\\xa6AL\\x82\\x98\\xe5)\\xcaT\\x94\\xcc9\\xd0c\\x10d\\x18\\xc81\\x90\\x83!\\x06B\\x10\\x85!\\x0cR\\x9c\\xc6J\\x0e\\xb4\\xa1\\x8bKX\\xa75os \\xf6\\xc6\\r\\x94]9>\\x92\\x85g\\x1a\\xd2U\\xa4\\xadY\\xda\\xb3',\n",
              " b'\\xff\\xff\\xefzs\\x9aR\\x93\\x9c\\xe8B\\x12\\x94%\\x08J\\x10\\x94!\\x079\\xccc\\x14\\xa5)JR\\x94\\xa5!\\x08R\\x94\\xe62Nd\\x9c\\xc71Nb\\xa0\\xc59\\x8ar\\x94\\xc5)HC\\x10\\xa8)NR\\x9c\\x859Jr\\x94\\xa4)\\x08C\\x90\\xaa1\\x8cR\\x90d \\xc81\\x90\\x83',\n",
              " b'!\\x08B\\x90\\x86)Nc \\xe7RP\\xb5%\\xabS\\x98\\xb7\\xb5ps\"\\xf6\\xca\\x0e\\x9c_IB\\x93\\x8di\\x1bRV\\xac\\xefY\\xde\\xd4\\xff\\xff\\xff\\xff\\xbd\\xecc\\x15)JRT\\x94\\xa5(RP\\xa4\\xa1(9\\xccc\\x14\\xa5)LR\\x94\\xa5)\\x08R\\x94\\xe61\\xccc\\x98\\xc8',\n",
              " b'9\\x90s \\xc59\\x8ar\\x94\\xc5)\\x8aR\\x10\\x84\\x19\\x062\\x0cd \\xc8A\\x90c \\xc6B\\x0c\\x84!\\x08B\\x10d \\xc8A\\x90\\x84!HC\\x14\\xa71\\x90s)\\x07ZP\\xc5%\\xabS\\x98\\xb7\\xb5ps#\\x06\\xca\\x0e\\x9c_IB\\xb3\\x8di\\x1a\\xd2V\\xa4\\xadY\\xde\\xb3',\n",
              " b'\\xff\\xff\\xff\\xff\\xff\\xff9\\xc7\\xbd\\xe79\\xccc\\x1c\\xe79\\xce\\x83\\x9d\\x07:\\x0es\\x18\\xc5)Lc\\x14\\xa5)JR\\x94\\xa5)\\x8aS\\x14\\xa71\\x90c \\xc69Jb\\x94\\xa4!\\x8aS\\x14\\x85!\\x08B\\x10d \\xc8A\\x90\\x84!\\x08B\\x10\\x84!\\x08B\\x10d \\xc8B\\x10\\xa5',\n",
              " b\")\\x8aS\\x98\\xc89\\x94\\x83\\xad(b\\x92\\xd5\\xa5\\xccS\\xda\\xb89\\x90{c\\x06\\xca\\x0e\\x9c_9B\\x92\\x85'\\n\\xce5\\xa4\\xadIZ\\xb3\\xff\\xff\\xff\\xff\\xff\\xff\\xff\\xfd\\xefns\\x92\\x94%\\x08J\\x10\\x94!\\x079\\xcec\\x98\\xc61\\x8aR\\x94\\xa51Jb\\x94\\xa4!HB\\x94\\xa6\",\n",
              " b')LR\\x98\\xa51JR\\x10\\xa4!JB\\x90\\x85!\\nB\\x14\\x84)\\x08R\\x10\\xa4!HB\\x90\\x85!\\x08B\\x10d!\\x08R\\x94\\xc5)\\xccd\\x1c\\xc9A\\xd6\\x94-Hj\\xd2\\xe6)\\xed\\\\\\x1a\\xb89\\x91{c\\x06\\xca\\x0e\\x9c_8\\xber}%\\nN\\x15\\xa4\\xadY\\xde\\xd4',\n",
              " b'\\xff\\xff\\xff\\xff\\xff\\xff\\xff\\xff\\xff\\xfa\\xd6\\x9e\\xe7)IJP\\x94\\xa1(B\\x0es\\x9c\\xc61\\x8aR\\x94\\xa51\\x8aR\\x94\\xa4!\\x08B\\x10\\x84!\\nR\\x14\\xa4)\\x08B\\x10\\x84!HB\\x90\\x85!\\nB\\x18\\xa5)\\x08b\\x10\\xa4!HC\\x14\\xa6!\\nB\\x10\\x841Jb\\x94\\xe6',\n",
              " b'2\\x0ed\\xa0\\xeaJ\\x18\\xa45is\\x14\\xf6)\\xed\\\\\\x1c\\xc89\\x91{e\\x06\\xca\\x0e\\x94]8\\xbeq}%\\n\\xce5\\xa4\\xadY\\xde\\xb4\\xff\\xff\\xff\\xff\\xff\\xff\\xff\\xff\\xff\\xff\\xff\\xf3\\x9c\\xb5\\xadJP\\x84\\x1d(BPt\\x1c\\xc71\\x8aR\\x90\\x84)Jb\\x94\\xa5!\\x08B\\x10\\x84',\n",
              " b'!\\x08B\\x10\\x84!\\x08B\\x10\\x84!\\x06B\\x90\\x85!\\x0cR\\x18\\xa41Jb\\x94\\xe5)\\x8aS\\x94\\xa6)NR\\x9c\\xc59\\x8c\\x83\\x99\\x072Pu$\\xebR\\x1a\\xb4\\xb9j{\\x14\\xf6\\xae\\x0e\\\\\\x1c\\xc8\\xbd\\x91{e\\x06\\xca\\x0e\\x94]8\\xbar}%\\n\\xce5\\xa4mIZ\\xb3',\n",
              " b'\\xff\\xff\\xff\\xff\\xff\\xff\\xff\\xff\\xff\\xff\\xff\\xff\\xff\\xe78k\\x18\\x83\\x9c\\xe7:\\x10t\\x1c\\xe79\\x8cc\\x14\\xa5)Jc\\x18\\xa5)\\x08B\\x10\\x84!\\x08B\\x10\\x84!\\x08B\\x10\\x84!\\x06B\\x10\\x86)JB\\x14\\x841Js\\x19\\x072\\x0cd\\x18\\xc81\\x90s \\xe6A\\xcc\\x94\\x1dH',\n",
              " b':\\xd2\\x86)-ZZ\\xb59\\x8a{W\\x07.\\x0ed^\\xc8\\xbd\\x91{e\\x06\\xca\\r\\x94]8\\xbar}%\\nN5\\xa4mIZ\\xb3\\xff\\xff\\xff\\xff\\xff\\xff\\xff\\xff\\xff\\xff\\xff\\xff\\xff\\xff\\xff\\xc60\\xd6\\xb5\\x08A\\xcet\\x1c\\xe79\\x8ec\\x18\\xa5)Jc\\x18\\xc61\\x08B\\x10\\x84',\n",
              " b'!\\x08B\\x10\\x84!\\x08B\\x10\\x84!\\x08B\\x10\\x85)\\x08B\\x10\\x849\\x8a\\x94\\x1d(:Pt\\xa0\\xe9A\\xd2\\x83\\xa5\\x07RN\\xb4\\xa1iC\\x14\\x96\\xad-b\\x9c\\xc5=\\xab\\x83W\\x07.\\x0ed^\\xc8\\xbd\\x91{e\\x06\\xca\\r\\x94\\x1d8\\xbaq|\\xe4\\xfaJ\\x14\\x9cmIb\\xd4',\n",
              " b'\\xff\\xff\\xff\\xff\\xff\\xff\\xff\\xff\\xff\\xff\\xff\\xff\\xff\\xff\\xff\\xff\\xff\\x8c]\\x8cZ\\x0et\\x1c\\xe79\\x8ec\\x18\\xc61Jb\\x94\\xe61\\x08B\\x10\\x84!\\x062\\x10\\x84!\\x08R\\x94\\xa4!\\x08B\\x10\\x84!\\x08B\\x0cc9\\x8c\\xb5!iB\\x92\\x85 \\xeaJ\\x14\\x94)(ZP\\xc5%\\x8b',\n",
              " b'KV\\x971Nb\\x9e\\xd5\\xbd\\xab\\x83\\x97\\x07.\\x0ed^\\xc8\\xbd\\x91{d\\xf6\\xca\\r\\x94\\x1b(:qt\\xe2\\xfaJ\\x15\\x9cmI^\\xd3\\xff\\xff\\xff\\xff\\xff\\xff\\xff\\xff\\xff\\xff\\xff\\xff\\xff\\xff\\xff\\xff\\xff\\xefz\\xb5\\xaa\\x94\\xa3\\x9c\\xc71\\x8ec\\x18\\xc61\\x8aR\\x94\\xc61JR\\x10\\x84',\n",
              " b'!\\x08B\\x10\\x84!\\x08R\\x10\\xa5!HB\\x10\\x84!\\x062\\x0cd9\\x8c\\xc5\\xa5\\x8aJ\\xd2\\x85%\\x0bJ\\x16\\x94-Hb\\x92\\xc5\\xa5\\xabK\\x98\\xa71Oj\\xde\\xd5\\xc1\\xab\\x83\\x97\\x072/d^\\xc8\\xbd\\xb1{e\\x06\\xca\\r\\x94\\x1b(6Pt\\xe2\\xeaJ\\x15\\x9ckH\\xda\\x92',\n",
              " b\"\\xff\\xff\\xff\\xff\\xff\\xff\\xff\\xff\\xff\\xff\\xff\\xff\\xff\\xff\\xff\\xff\\xff\\xff\\xff\\xbd\\xed'4\\xa5\\x071\\x8cc\\x18\\xc61\\x8cb\\x94\\xc61JR\\x94\\xa5)JB\\x10\\x84!\\x08B\\x10\\xa5)JR\\x94\\xa4!\\x08B\\x10\\x841\\x8a\\xd5\\xa9\\xabK\\x14\\x95\\xa9\\x0bJ\\x16\\xa41Ib\\xd2\\xd5\\xa5\\xab\",\n",
              " b'S\\x98\\xa7\\xb5oj\\xde\\xd5\\xc1\\xcb\\x83\\x99\\x172/d^\\xc8\\xbd\\xb2\\x83e\\x06\\xca\\r\\x94\\x1b(6Pt\\xe2\\xeaI\\xf4\\x9c+8\\xd6\\x91\\xff\\xff\\xff\\xff\\xff\\xff\\xff\\xff\\xff\\xff\\xff\\xff\\xff\\xff\\xff\\xff\\xff\\xff\\xff\\xff\\xff9\\xb8\\xc6)JNs\\x18\\xc61\\x8cc\\x14\\xc61\\x8cb\\x94\\xa5',\n",
              " b')JR\\x94\\xa5)Jb\\x94\\xa5)JR\\x10\\x84!\\x08B\\x10\\x84)J\\xc5\\xa5\\xacSV\\x96)+R\\x16\\xa4\\xb1ij\\xd2\\xd5\\xa5\\xccS\\xda\\xb7\\xb5oj\\xe0\\xe5\\xc1\\xcc\\x83\\x99\\x17\\xb2/d^\\xd8\\xbd\\xb2\\x83e\\x06\\xca\\r\\x94\\x1b(6Qt\\xe2\\xe9\\xc9\\xf4\\x94+8\\xd6\\x91',\n",
              " b'\\xff\\xff\\xff\\xff\\xff\\xff\\xff\\xff\\xff\\xff\\xff\\xff\\xff\\xff\\xff\\xff\\xff\\xff\\xff\\xff\\xff\\xff\\xfd\\xefP\\x84\\x10s\\x98\\xa51Jc\\x18\\xe61\\x8cb\\x10\\x85)JR\\x98\\xa51\\x8cb\\x94\\xa5!\\x08B\\x10\\x84!\\x08B\\x10\\x84)\\x08\\xb5!\\xcd[\\x98\\xa6\\xadLZX\\xb55jj\\xd4\\xd6)\\xcd',\n",
              " b'[\\xda\\xb7\\xb5pj\\xe0\\xe6A\\xcc\\x8b\\xd9\\x17\\xb2/l^\\xd8\\xbd\\xb1{e\\x06\\xca\\r\\x94\\x1b(:Qt\\xe2\\xfaI\\xf4\\x94+8Vq\\xff\\xff\\xff\\xff\\xff\\xff\\xff\\xff\\xff\\xff\\xff\\xff\\xff\\xff\\xff\\xff\\xff\\xff\\xff\\xff\\xff\\xff\\xff\\xff\\xd9\\xce\\x1c\\xd6\\x9c\\xe71\\x8cc\\x18\\xc61JR\\x14\\xa5',\n",
              " b')JR\\x98\\xa51\\x8cR\\x94\\xa5!\\x08B\\x94\\x85)JR\\x94\\x84)J\\xa4\\x9d\\xcd[\\x9a\\xb71Mb\\x9a\\xc59\\x8as\\x14\\xe6)\\xed[\\xda\\xb7\\xb5pr\\xe0\\xe6E\\xcc\\x8b\\xd9\\x17\\xb2/l^\\xd8\\xbd\\xb1{e\\x06\\xca\\r\\x94\\x1b(:Qt\\xe2\\xe9\\xc5\\xf4\\x93\\xe9(Vp']"
            ]
          },
          "metadata": {},
          "execution_count": 61
        }
      ]
    },
    {
      "cell_type": "code",
      "source": [
        "! pip install eciespy eth_keys cryptos qrcode base58 "
      ],
      "metadata": {
        "colab": {
          "base_uri": "https://localhost:8080/"
        },
        "id": "QZifm154JW46",
        "outputId": "b225067a-08a1-441c-e87f-4e39d9e81aee"
      },
      "execution_count": 6,
      "outputs": [
        {
          "output_type": "stream",
          "name": "stdout",
          "text": [
            "Collecting eciespy\n",
            "  Downloading eciespy-0.3.11-py3-none-any.whl (11 kB)\n",
            "Collecting eth_keys\n",
            "  Downloading eth_keys-0.4.0-py3-none-any.whl (21 kB)\n",
            "Collecting cryptos\n",
            "  Downloading cryptos-1.36-py3-none-any.whl (69 kB)\n",
            "\u001b[K     |████████████████████████████████| 69 kB 4.4 MB/s \n",
            "\u001b[?25hCollecting qrcode\n",
            "  Downloading qrcode-7.3.1.tar.gz (43 kB)\n",
            "\u001b[K     |████████████████████████████████| 43 kB 2.0 MB/s \n",
            "\u001b[?25hCollecting base58\n",
            "  Downloading base58-2.1.1-py3-none-any.whl (5.6 kB)\n",
            "Collecting eth_keys\n",
            "  Downloading eth_keys-0.3.4-py3-none-any.whl (21 kB)\n",
            "Collecting coincurve<16,>=13\n",
            "  Downloading coincurve-15.0.1-cp37-cp37m-manylinux_2_17_x86_64.manylinux2014_x86_64.whl (555 kB)\n",
            "\u001b[K     |████████████████████████████████| 555 kB 18.3 MB/s \n",
            "\u001b[?25hCollecting pycryptodome<4.0.0,>=3.9.9\n",
            "  Downloading pycryptodome-3.14.1-cp35-abi3-manylinux2010_x86_64.whl (2.0 MB)\n",
            "\u001b[K     |████████████████████████████████| 2.0 MB 51.6 MB/s \n",
            "\u001b[?25hCollecting eth-utils<2.0.0,>=1.8.2\n",
            "  Downloading eth_utils-1.10.0-py3-none-any.whl (24 kB)\n",
            "Collecting eth-typing<3.0.0,>=2.2.1\n",
            "  Downloading eth_typing-2.3.0-py3-none-any.whl (6.2 kB)\n",
            "Requirement already satisfied: cffi>=1.3.0 in /usr/local/lib/python3.7/dist-packages (from coincurve<16,>=13->eciespy) (1.15.0)\n",
            "Collecting asn1crypto\n",
            "  Downloading asn1crypto-1.5.1-py2.py3-none-any.whl (105 kB)\n",
            "\u001b[K     |████████████████████████████████| 105 kB 44.9 MB/s \n",
            "\u001b[?25hRequirement already satisfied: pycparser in /usr/local/lib/python3.7/dist-packages (from cffi>=1.3.0->coincurve<16,>=13->eciespy) (2.21)\n",
            "Collecting cytoolz<1.0.0,>=0.10.1\n",
            "  Downloading cytoolz-0.11.2.tar.gz (481 kB)\n",
            "\u001b[K     |████████████████████████████████| 481 kB 72.8 MB/s \n",
            "\u001b[?25hCollecting eth-hash<0.4.0,>=0.3.1\n",
            "  Downloading eth_hash-0.3.2-py3-none-any.whl (8.8 kB)\n",
            "Requirement already satisfied: toolz>=0.8.0 in /usr/local/lib/python3.7/dist-packages (from cytoolz<1.0.0,>=0.10.1->eth-utils<2.0.0,>=1.8.2->eth_keys) (0.11.2)\n",
            "Building wheels for collected packages: cytoolz, qrcode\n",
            "  Building wheel for cytoolz (setup.py) ... \u001b[?25l\u001b[?25hdone\n",
            "  Created wheel for cytoolz: filename=cytoolz-0.11.2-cp37-cp37m-linux_x86_64.whl size=1230828 sha256=eb232e9ab58e70ffedcf4db579026d381f8edbbf9a63e5c8dda716372e608d2b\n",
            "  Stored in directory: /root/.cache/pip/wheels/38/70/71/ca13ea3d36ccd0b3d0ec7d7a4ca67522048d695b556bba4f59\n",
            "  Building wheel for qrcode (setup.py) ... \u001b[?25l\u001b[?25hdone\n",
            "  Created wheel for qrcode: filename=qrcode-7.3.1-py3-none-any.whl size=40402 sha256=bdada86bb9eb34b586d2c33b76a1d8ea187ed568f9ea147d44b96b55d0cc4cf0\n",
            "  Stored in directory: /root/.cache/pip/wheels/93/d7/39/a4111be2cfb8e679938aa671a37888b6afb1f9e7d748e94492\n",
            "Successfully built cytoolz qrcode\n",
            "Installing collected packages: eth-typing, eth-hash, cytoolz, eth-utils, asn1crypto, pycryptodome, eth-keys, coincurve, qrcode, eciespy, cryptos, base58\n",
            "Successfully installed asn1crypto-1.5.1 base58-2.1.1 coincurve-15.0.1 cryptos-1.36 cytoolz-0.11.2 eciespy-0.3.11 eth-hash-0.3.2 eth-keys-0.3.4 eth-typing-2.3.0 eth-utils-1.10.0 pycryptodome-3.14.1 qrcode-7.3.1\n"
          ]
        }
      ]
    },
    {
      "cell_type": "code",
      "source": [
        "import pandas as pd\n",
        "from cryptos.py3specials import safe_hexlify, from_string_to_bytes, from_int_to_byte, from_string_to_bytes\n",
        "from cryptos import serialize,deserialize\n",
        "\n",
        "import hashlib\n",
        "import os\n",
        "import getpass\n",
        "import ecies\n",
        "import eth_keys\n",
        "import cryptos\n",
        "import qrcode\n",
        "import base58\n",
        "from PIL import Image\n",
        "import matplotlib.pyplot as plt\n",
        "%matplotlib inline\n",
        "\n",
        "def import_privKey(privkey_filepath,password=None):\n",
        "    if password==None:\n",
        "        password = getpass.getpass(\"Input password for decrypting keyfile: \")\n",
        "    password=password.encode()\n",
        "    f=open(privkey_filepath,'rb')\n",
        "    decrypted_bytes=ecies.aes_decrypt(key=hashlib.sha256(password).digest(),cipher_text=f.read())\n",
        "    privKey=eth_keys.keys.PrivateKey(decrypted_bytes)\n",
        "    return privKey\n",
        "\n",
        "def import_pubKey(pubkey_filepath):\n",
        "    f=open(pubkey_filepath,'rb')\n",
        "    privKey=eth_keys.keys.PublicKey(f.read())\n",
        "    return privKey\n",
        "\n",
        "def import_addr(addr_filepath):\n",
        "    return open(addr_filepath,'rb').read().decode()\n",
        "\n",
        "def only_conf(utxos):\n",
        "    return [utxo for utxo in utxos\n",
        "            if doge.fetchtx(utxo['output'].split(':')[0])['confirmations']>0]\n",
        "\n",
        "def mk_opreturn(msg, rawtx=None, json=0):\n",
        "    \n",
        "    def op_push(data):\n",
        "        if type(data) == bytes:\n",
        "            bytedata=data\n",
        "        else:\n",
        "            bytedata=data.encode()\n",
        "        import struct\n",
        "        if len(data) < 0x4c:\n",
        "            return from_int_to_byte(len(bytedata)) + bytedata\n",
        "        elif len(data) < 0xff:\n",
        "            return from_int_to_byte(76) + struct.pack('<B', len(bytedata)) + bytedata\n",
        "        elif len(data) < 0xffff:\n",
        "            return from_int_to_byte(77) + struct.pack('<H', len(bytedata)) + bytedata\n",
        "        elif len(data) < 0xffffffff:\n",
        "            return from_int_to_byte(78) + struct.pack('<I', len(bytedata)) + bytedata\n",
        "        else: raise Exception(\"Input data error. Rawtx must be hex chars\" \\\n",
        "                            + \"0xffffffff > len(data) > 0\")\n",
        "\n",
        "    orhex = safe_hexlify(b'\\x6a' + op_push(msg))\n",
        "    orjson = {'script' : orhex, 'value' : 0}\n",
        "    if rawtx is not None:\n",
        "        try:\n",
        "            txo = deserialize(rawtx)\n",
        "            if not 'outs' in txo.keys(): raise Exception(\"OP_Return cannot be the sole output!\")\n",
        "            txo['outs'].append(orjson)\n",
        "            newrawtx = serialize(txo)\n",
        "            return newrawtx\n",
        "        except Exception as E:\n",
        "            print(E)\n",
        "            print(type(E))\n",
        "            raise Exception(\"Raw Tx Error!\")\n",
        "    return orhex if not json else orjson"
      ],
      "metadata": {
        "id": "grmMh1V2M9sL"
      },
      "execution_count": 7,
      "outputs": []
    },
    {
      "cell_type": "markdown",
      "source": [
        "# Load Keys and Addresses"
      ],
      "metadata": {
        "id": "gUmrbQ38-h9c"
      }
    },
    {
      "cell_type": "code",
      "source": [
        "from google.colab import drive\n",
        "drive.mount('/content/drive')"
      ],
      "metadata": {
        "colab": {
          "base_uri": "https://localhost:8080/"
        },
        "id": "qsBg50AOOqE_",
        "outputId": "98596cb0-e21a-435e-cd72-bfe12a552550"
      },
      "execution_count": null,
      "outputs": [
        {
          "output_type": "stream",
          "name": "stdout",
          "text": [
            "Mounted at /content/drive\n"
          ]
        }
      ]
    },
    {
      "cell_type": "code",
      "source": [
        "! cp drive/MyDrive/cinv/llaves.zip llaves.zip \n",
        "! unzip llaves.zip"
      ],
      "metadata": {
        "colab": {
          "base_uri": "https://localhost:8080/"
        },
        "id": "6KAu2_OsQBf_",
        "outputId": "dcd98e90-ead2-4e10-9c35-782c18e430a8"
      },
      "execution_count": null,
      "outputs": [
        {
          "output_type": "stream",
          "name": "stdout",
          "text": [
            "Archive:  llaves.zip\n",
            "   creating: llaves/\n",
            " extracting: llaves/mi_addr.bin      \n",
            " extracting: llaves/mi_addr.png      \n",
            " extracting: llaves/mi_pub.bin       \n",
            " extracting: llaves/mi_prv.enc       \n"
          ]
        }
      ]
    },
    {
      "cell_type": "code",
      "source": [
        "from IPython.display import Image\n",
        "qr=Image('llaves/mi_addr.png')\n",
        "\n",
        "privKey=import_privKey('llaves/mi_prv.enc','')\n",
        "pub=import_pubKey('llaves/mi_pub.bin').to_hex()\n",
        "addr=import_addr('llaves/mi_addr.bin')\n",
        "\n",
        "display(qr)\n",
        "display(pub)\n",
        "display(addr)"
      ],
      "metadata": {
        "colab": {
          "base_uri": "https://localhost:8080/",
          "height": 218
        },
        "id": "_Zok6MGCQKnu",
        "outputId": "84640993-17cf-47dd-aa5f-a615f252b9dc"
      },
      "execution_count": null,
      "outputs": [
        {
          "output_type": "display_data",
          "data": {
            "text/plain": [
              "<IPython.core.display.Image object>"
            ],
            "image/png": "[encoded data removed]"
          },
          "metadata": {}
        },
        {
          "output_type": "display_data",
          "data": {
            "text/plain": [
              "'0x7c88e9a4df6e9f45656c10bf66f28e28be235a15b64820b254f1b9eb2738314e6769f5c94da0c7640ffe76dcffca053b07a0804cd53a1c51ad03bfe0133ce8c5'"
            ],
            "application/vnd.google.colaboratory.intrinsic+json": {
              "type": "string"
            }
          },
          "metadata": {}
        },
        {
          "output_type": "display_data",
          "data": {
            "text/plain": [
              "'D6zKNnkupqRbkB9p5rwix8QiobQWJazjyX'"
            ],
            "application/vnd.google.colaboratory.intrinsic+json": {
              "type": "string"
            }
          },
          "metadata": {}
        }
      ]
    },
    {
      "cell_type": "markdown",
      "source": [
        "# Inspect Outputs"
      ],
      "metadata": {
        "id": "-5nTrJB_-zsM"
      }
    },
    {
      "cell_type": "code",
      "source": [
        "doge=cryptos.Doge()\n",
        "#addy=doge.privtoaddr(privkeyhex)\n",
        "doge_unspents=only_conf( doge.unspent(addr) )\n",
        "doge_unspent_total=sum([unspent['value'] for unspent in doge_unspents])\n",
        "doge_unspent_total/10**8"
      ],
      "metadata": {
        "colab": {
          "base_uri": "https://localhost:8080/"
        },
        "id": "LcQ5g4f_QP67",
        "outputId": "42c88699-afd9-4f26-db69-7cf42c0a5c2d"
      },
      "execution_count": null,
      "outputs": [
        {
          "output_type": "execute_result",
          "data": {
            "text/plain": [
              "577.46557057"
            ]
          },
          "metadata": {},
          "execution_count": 67
        }
      ]
    },
    {
      "cell_type": "markdown",
      "source": [
        "# Create UTXO set for Enscription"
      ],
      "metadata": {
        "id": "Wund19uk-6kJ"
      }
    },
    {
      "cell_type": "code",
      "source": [
        "tip=13_70_000_000\n",
        "available=doge_unspent_total-tip\n",
        "n=len(package)\n",
        "gift=int(available/n)\n",
        "outputs=[{'value':gift , 'address': addr} for i in range(len(package))]\n",
        "setup_tx=doge.mktx(doge_unspents,outputs)"
      ],
      "metadata": {
        "id": "HHyH8E3yQ8Mg"
      },
      "execution_count": null,
      "outputs": []
    },
    {
      "cell_type": "code",
      "source": [
        "doge.signall(setup_tx,privKey.to_hex()[2:])"
      ],
      "metadata": {
        "colab": {
          "base_uri": "https://localhost:8080/",
          "height": 160
        },
        "id": "am6AtFyBQ-uI",
        "outputId": "5ce520c6-a08f-47a4-fdbe-be611b5cc8b3"
      },
      "execution_count": null,
      "outputs": [
        {
          "output_type": "execute_result",
          "data": {
            "text/plain": [
              "'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'"
            ],
            "application/vnd.google.colaboratory.intrinsic+json": {
              "type": "string"
            }
          },
          "metadata": {},
          "execution_count": 75
        }
      ]
    },
    {
      "cell_type": "code",
      "source": [
        "tip/(len(cryptos.serialize(setup_tx))/2)/100000"
      ],
      "metadata": {
        "colab": {
          "base_uri": "https://localhost:8080/"
        },
        "id": "JeOmghAEWoZa",
        "outputId": "70ed5901-b8f3-425f-bd52-2fc7ae9b2e62"
      },
      "execution_count": null,
      "outputs": [
        {
          "output_type": "execute_result",
          "data": {
            "text/plain": [
              "1.455124800849708"
            ]
          },
          "metadata": {},
          "execution_count": 76
        }
      ]
    },
    {
      "cell_type": "code",
      "source": [
        "funding=doge.pushtx(cryptos.serialize(setup_tx))\n",
        "funding"
      ],
      "metadata": {
        "colab": {
          "base_uri": "https://localhost:8080/"
        },
        "id": "cjn_Pt28WDJx",
        "outputId": "e42c7501-6841-41d1-9857-cfc1fbc6b8c1"
      },
      "execution_count": null,
      "outputs": [
        {
          "output_type": "execute_result",
          "data": {
            "text/plain": [
              "{'data': {'network': 'DOGE',\n",
              "  'txid': 'a01e8625d653f4a8686b5b9e20ca653e59ebcd8bf2ca2a7b8370fdc52417f7b9'},\n",
              " 'status': 'success'}"
            ]
          },
          "metadata": {},
          "execution_count": 77
        }
      ]
    },
    {
      "cell_type": "code",
      "source": [
        "doge.fetchtx(funding['data']['txid'])"
      ],
      "metadata": {
        "colab": {
          "base_uri": "https://localhost:8080/"
        },
        "id": "aSKkBI_MWN-4",
        "outputId": "a957c7cf-5eee-46a9-dfdc-7f9a25d49b42"
      },
      "execution_count": null,
      "outputs": [
        {
          "output_type": "execute_result",
          "data": {
            "text/plain": [
              "{'blockhash': None,\n",
              " 'confirmations': 0,\n",
              " 'inputs': [{'address': 'D6zKNnkupqRbkB9p5rwix8QiobQWJazjyX',\n",
              "   'from_output': {'output_no': 0,\n",
              "    'txid': '53ae86951b38d91cc01a90e7cf9e7089ffff0a4b81a46fcd02a104d696247cb2'},\n",
              "   'input_no': 0,\n",
              "   'script': '304402203ae7b7a459935093fe7534f8d728592047eba5efeb1501936f66da97519bdad70220340831c96477fb031ba7ae694da6eda389d8203ef17a8dd81fbc7d045f7ded2801 047c88e9a4df6e9f45656c10bf66f28e28be235a15b64820b254f1b9eb2738314e6769f5c94da0c7640ffe76dcffca053b07a0804cd53a1c51ad03bfe0133ce8c5',\n",
              "   'sequence': 4294967295,\n",
              "   'type': 'pubkeyhash',\n",
              "   'value': '5.17545453',\n",
              "   'witness': None},\n",
              "  {'address': 'D6zKNnkupqRbkB9p5rwix8QiobQWJazjyX',\n",
              "   'from_output': {'output_no': 0,\n",
              "    'txid': '7de555db92ec394ebb6050928c9b70fd34bf6fb2ed5e33e33c3f4b9dfc9e8900'},\n",
              "   'input_no': 1,\n",
              "   'script': '3045022100d6bc4339f8616e77d69357f61ad273b5f77ac5e27364abeccab987856af5557f022059e182df185ea1ae3671f5161658611391f52764d51742bd7a4eaba8b36c0b3901 047c88e9a4df6e9f45656c10bf66f28e28be235a15b64820b254f1b9eb2738314e6769f5c94da0c7640ffe76dcffca053b07a0804cd53a1c51ad03bfe0133ce8c5',\n",
              "   'sequence': 4294967295,\n",
              "   'type': 'pubkeyhash',\n",
              "   'value': '5.17545453',\n",
              "   'witness': None},\n",
              "  {'address': 'D6zKNnkupqRbkB9p5rwix8QiobQWJazjyX',\n",
              "   'from_output': {'output_no': 0,\n",
              "    'txid': '1c1479726fd2832bae02564234e2eb59f6eedb36ed1b74acf4f557006eb9540e'},\n",
              "   'input_no': 2,\n",
              "   'script': '304502210093faa1f283dd4ec13d67f50fda8360d6c76d8353a4e37d47eb5747f63824115202201f8c2aa2fbc8761bd1430c5c0df6e126934dee599616d889563319b55a91b64301 047c88e9a4df6e9f45656c10bf66f28e28be235a15b64820b254f1b9eb2738314e6769f5c94da0c7640ffe76dcffca053b07a0804cd53a1c51ad03bfe0133ce8c5',\n",
              "   'sequence': 4294967295,\n",
              "   'type': 'pubkeyhash',\n",
              "   'value': '5.17545453',\n",
              "   'witness': None},\n",
              "  {'address': 'D6zKNnkupqRbkB9p5rwix8QiobQWJazjyX',\n",
              "   'from_output': {'output_no': 0,\n",
              "    'txid': '1a5b286ce3e440fade57d07c23484996f70049ddc11123d79875b99aa9dfc914'},\n",
              "   'input_no': 3,\n",
              "   'script': '3045022100d4b6681db0b83cf148e6be6822d78246b003ea7089739a98fef7f75649794fea02201b9cead55c12f2efd2eae3afdb8e8725c66c2f267687a85af88411d2da6dccb901 047c88e9a4df6e9f45656c10bf66f28e28be235a15b64820b254f1b9eb2738314e6769f5c94da0c7640ffe76dcffca053b07a0804cd53a1c51ad03bfe0133ce8c5',\n",
              "   'sequence': 4294967295,\n",
              "   'type': 'pubkeyhash',\n",
              "   'value': '5.17545453',\n",
              "   'witness': None},\n",
              "  {'address': 'D6zKNnkupqRbkB9p5rwix8QiobQWJazjyX',\n",
              "   'from_output': {'output_no': 0,\n",
              "    'txid': 'bb5f99b53d66282d920c00c4cdb0ca32309f14754dfa43ae3beca55e85cba934'},\n",
              "   'input_no': 4,\n",
              "   'script': '3045022100911dfa48097c8629907f934d2ad7e00d896afa60e6c0cfa43547aaf04a4d7624022013741b24b8848717397b55d46a941379a5af1c230cef3f16a6e0ef906435df8301 047c88e9a4df6e9f45656c10bf66f28e28be235a15b64820b254f1b9eb2738314e6769f5c94da0c7640ffe76dcffca053b07a0804cd53a1c51ad03bfe0133ce8c5',\n",
              "   'sequence': 4294967295,\n",
              "   'type': 'pubkeyhash',\n",
              "   'value': '5.17545453',\n",
              "   'witness': None},\n",
              "  {'address': 'D6zKNnkupqRbkB9p5rwix8QiobQWJazjyX',\n",
              "   'from_output': {'output_no': 0,\n",
              "    'txid': 'd10c6b53dd83a3c337399e13b321f9661e4618c767f2a148c19327563e09573c'},\n",
              "   'input_no': 5,\n",
              "   'script': '304502210081650e376f2775a528263f450f3565dbd771052a755c4714864dad86eed857f802202a79d38a99c9985abf6cb9b340fc206c567bd36fb54ce5c6cd3fac69e7f58fa601 047c88e9a4df6e9f45656c10bf66f28e28be235a15b64820b254f1b9eb2738314e6769f5c94da0c7640ffe76dcffca053b07a0804cd53a1c51ad03bfe0133ce8c5',\n",
              "   'sequence': 4294967295,\n",
              "   'type': 'pubkeyhash',\n",
              "   'value': '5.17545453',\n",
              "   'witness': None},\n",
              "  {'address': 'D6zKNnkupqRbkB9p5rwix8QiobQWJazjyX',\n",
              "   'from_output': {'output_no': 0,\n",
              "    'txid': '2a1d66ec1e63ec0c756aaa189051ac79b54190cc78881033d8df6abdfa751d61'},\n",
              "   'input_no': 6,\n",
              "   'script': '3045022100d056a1955a40dba998be1de34f4fa86a3276b45c7e3a50a9b7856be83c9d80c802203407e600ea7b5bc845b45ce57f353efa33de81ac831c20a0afbd8364dc7949a001 047c88e9a4df6e9f45656c10bf66f28e28be235a15b64820b254f1b9eb2738314e6769f5c94da0c7640ffe76dcffca053b07a0804cd53a1c51ad03bfe0133ce8c5',\n",
              "   'sequence': 4294967295,\n",
              "   'type': 'pubkeyhash',\n",
              "   'value': '5.17545453',\n",
              "   'witness': None},\n",
              "  {'address': 'D6zKNnkupqRbkB9p5rwix8QiobQWJazjyX',\n",
              "   'from_output': {'output_no': 0,\n",
              "    'txid': '140f0c2e4f95c046c2361181ee67e4922a27fc9db0e31d64d46467470c86fc6a'},\n",
              "   'input_no': 7,\n",
              "   'script': '3045022100bea4aa18c2c08605231e779ed1318967f2644fae6cb29312dd57f76f899b5ac5022034d9c90c930f011088993c9875a7060a903a1e9050a24121dc55388e7a03629e01 047c88e9a4df6e9f45656c10bf66f28e28be235a15b64820b254f1b9eb2738314e6769f5c94da0c7640ffe76dcffca053b07a0804cd53a1c51ad03bfe0133ce8c5',\n",
              "   'sequence': 4294967295,\n",
              "   'type': 'pubkeyhash',\n",
              "   'value': '5.17545453',\n",
              "   'witness': None},\n",
              "  {'address': 'D6zKNnkupqRbkB9p5rwix8QiobQWJazjyX',\n",
              "   'from_output': {'output_no': 0,\n",
              "    'txid': '7176b077494c85a7fbc34c174fc75e4d009c2a294de6884de22ad9256a15216e'},\n",
              "   'input_no': 8,\n",
              "   'script': '3045022100fddb1357c970b69361dbf409fec474829381d3ebd33be500cb15594c3e714c6902207ab1eb6283e8c31966e0c4009b179292efd150ea3932aabd93f3f5ef0009072901 047c88e9a4df6e9f45656c10bf66f28e28be235a15b64820b254f1b9eb2738314e6769f5c94da0c7640ffe76dcffca053b07a0804cd53a1c51ad03bfe0133ce8c5',\n",
              "   'sequence': 4294967295,\n",
              "   'type': 'pubkeyhash',\n",
              "   'value': '5.17545453',\n",
              "   'witness': None},\n",
              "  {'address': 'D6zKNnkupqRbkB9p5rwix8QiobQWJazjyX',\n",
              "   'from_output': {'output_no': 0,\n",
              "    'txid': 'ebcd6115961bcef1a4bad384000dc4fa4d66cafc24d029bbec340a084f95a76e'},\n",
              "   'input_no': 9,\n",
              "   'script': '3045022100fa1cddcaca225ff7548a3eac57cdcf271efb9f503d34959aa7e9ed4aa370a32202207719b76c8e6f1be4f56746893dedef8905d6ff2acea4162fc1bca70764ecb54801 047c88e9a4df6e9f45656c10bf66f28e28be235a15b64820b254f1b9eb2738314e6769f5c94da0c7640ffe76dcffca053b07a0804cd53a1c51ad03bfe0133ce8c5',\n",
              "   'sequence': 4294967295,\n",
              "   'type': 'pubkeyhash',\n",
              "   'value': '5.17545453',\n",
              "   'witness': None},\n",
              "  {'address': 'D6zKNnkupqRbkB9p5rwix8QiobQWJazjyX',\n",
              "   'from_output': {'output_no': 0,\n",
              "    'txid': '61ffbaef642a5810196d6bee7f918eb15f3492764ec63806c76c4b29a6f32f8e'},\n",
              "   'input_no': 10,\n",
              "   'script': '3044022042c43487e32d3afa90167695d514e52ca64a9fe736c66fd692af812911c94393022015eafbee61975337507e0f233c23c2edeb280504a5762792f52bfa7bd4aeca1901 047c88e9a4df6e9f45656c10bf66f28e28be235a15b64820b254f1b9eb2738314e6769f5c94da0c7640ffe76dcffca053b07a0804cd53a1c51ad03bfe0133ce8c5',\n",
              "   'sequence': 4294967295,\n",
              "   'type': 'pubkeyhash',\n",
              "   'value': '5.17545453',\n",
              "   'witness': None},\n",
              "  {'address': 'D6zKNnkupqRbkB9p5rwix8QiobQWJazjyX',\n",
              "   'from_output': {'output_no': 0,\n",
              "    'txid': '05258574937feee15ca3b62d3adf7e6419c0d8eacd7d9cf1da2f3a9b4cbc4791'},\n",
              "   'input_no': 11,\n",
              "   'script': '3045022100a0ebe8b11a44aa80faca87c943c1b9eff4c77d1b38e65c25a66cb9d9307ffe4c022047efc14f564980007cc76a9680cdbd831c7ea68a6a40fad37ef3982dbee3b25a01 047c88e9a4df6e9f45656c10bf66f28e28be235a15b64820b254f1b9eb2738314e6769f5c94da0c7640ffe76dcffca053b07a0804cd53a1c51ad03bfe0133ce8c5',\n",
              "   'sequence': 4294967295,\n",
              "   'type': 'pubkeyhash',\n",
              "   'value': '5.17545453',\n",
              "   'witness': None},\n",
              "  {'address': 'D6zKNnkupqRbkB9p5rwix8QiobQWJazjyX',\n",
              "   'from_output': {'output_no': 0,\n",
              "    'txid': '53b6990a5ff193acc212287463b0eb183018c67935debffd061ccba0187612b6'},\n",
              "   'input_no': 12,\n",
              "   'script': '3045022100f0de0ed2ffb892ac40312930dab045fc5394ffffeabaf17c903686a1931f1a0b02206e2a89dfc3c0a6adbd96622e8d4c1db08459f4d714db32edde29c41518852b6f01 047c88e9a4df6e9f45656c10bf66f28e28be235a15b64820b254f1b9eb2738314e6769f5c94da0c7640ffe76dcffca053b07a0804cd53a1c51ad03bfe0133ce8c5',\n",
              "   'sequence': 4294967295,\n",
              "   'type': 'pubkeyhash',\n",
              "   'value': '5.17545453',\n",
              "   'witness': None},\n",
              "  {'address': 'D6zKNnkupqRbkB9p5rwix8QiobQWJazjyX',\n",
              "   'from_output': {'output_no': 0,\n",
              "    'txid': '3c660aac73dc85dfbba77e3697ce9e29166b05b4931952125eafb337c174f9c1'},\n",
              "   'input_no': 13,\n",
              "   'script': '304502210088b9921e17ef09ef6e503ee5fd360661ed781c61777f2eb70146b8d04dbbe3d402203ab0199be232d064b6b137178f1bae8dea55a00b21aa0685d04980a05444d5d201 047c88e9a4df6e9f45656c10bf66f28e28be235a15b64820b254f1b9eb2738314e6769f5c94da0c7640ffe76dcffca053b07a0804cd53a1c51ad03bfe0133ce8c5',\n",
              "   'sequence': 4294967295,\n",
              "   'type': 'pubkeyhash',\n",
              "   'value': '5.17545453',\n",
              "   'witness': None},\n",
              "  {'address': 'D6zKNnkupqRbkB9p5rwix8QiobQWJazjyX',\n",
              "   'from_output': {'output_no': 0,\n",
              "    'txid': 'de84f6f0dab5da79cc78799c254406646f232fc2246c0cf2ecae8ea3600bd9c9'},\n",
              "   'input_no': 14,\n",
              "   'script': '3044022001644c76086969076991a4ff081f45be69cc976aaaa6461bb6e0c16b35d5f9e802206d78970f7fced1e4735dbe7e0504c91d51fa11cb9a0d6c189a07ff2160fe7bbc01 047c88e9a4df6e9f45656c10bf66f28e28be235a15b64820b254f1b9eb2738314e6769f5c94da0c7640ffe76dcffca053b07a0804cd53a1c51ad03bfe0133ce8c5',\n",
              "   'sequence': 4294967295,\n",
              "   'type': 'pubkeyhash',\n",
              "   'value': '5.17545453',\n",
              "   'witness': None},\n",
              "  {'address': 'D6zKNnkupqRbkB9p5rwix8QiobQWJazjyX',\n",
              "   'from_output': {'output_no': 0,\n",
              "    'txid': 'a872861d4cc200139f804cfbeb687015ed3b2eb7c4c490077ef537c5bb1143d2'},\n",
              "   'input_no': 15,\n",
              "   'script': '3045022100d8adb1ecd04dda2935ea0fd67a7f420ec071519487652ab9f752f206cc76f63702206ece574498853b3f87a2d525f8b66e003a8c9a6d4b65041374a688e559a1d4b701 047c88e9a4df6e9f45656c10bf66f28e28be235a15b64820b254f1b9eb2738314e6769f5c94da0c7640ffe76dcffca053b07a0804cd53a1c51ad03bfe0133ce8c5',\n",
              "   'sequence': 4294967295,\n",
              "   'type': 'pubkeyhash',\n",
              "   'value': '5.17545453',\n",
              "   'witness': None},\n",
              "  {'address': 'D6zKNnkupqRbkB9p5rwix8QiobQWJazjyX',\n",
              "   'from_output': {'output_no': 0,\n",
              "    'txid': '9a18605e2f78a5e2c20e3c7546893b042266762e9e1db599c00072dea802d8df'},\n",
              "   'input_no': 16,\n",
              "   'script': '3045022100a9bf0567f8820ad9b5f89ab279a3be34900227141f88208f8dcb38877b6dfd8202202a25547c4c9856686d15b60382553c540be652de94f0708dd57fc96649f05b7501 047c88e9a4df6e9f45656c10bf66f28e28be235a15b64820b254f1b9eb2738314e6769f5c94da0c7640ffe76dcffca053b07a0804cd53a1c51ad03bfe0133ce8c5',\n",
              "   'sequence': 4294967295,\n",
              "   'type': 'pubkeyhash',\n",
              "   'value': '5.17545453',\n",
              "   'witness': None},\n",
              "  {'address': 'D6zKNnkupqRbkB9p5rwix8QiobQWJazjyX',\n",
              "   'from_output': {'output_no': 0,\n",
              "    'txid': 'f5966121a6d69fac636c9b9148c9454cf19387bd153def1de1c77e1ff0a7a828'},\n",
              "   'input_no': 17,\n",
              "   'script': '30440220317c18a82edfe508afafd3e0eccae722a3e615c7d471848cdb425515fb36369c02204252d0a0a797900f4a26d3e0606a0c06cc9a440c999dcbcf5d6708e722a1baf901 047c88e9a4df6e9f45656c10bf66f28e28be235a15b64820b254f1b9eb2738314e6769f5c94da0c7640ffe76dcffca053b07a0804cd53a1c51ad03bfe0133ce8c5',\n",
              "   'sequence': 4294967295,\n",
              "   'type': 'pubkeyhash',\n",
              "   'value': '5.17545453',\n",
              "   'witness': None},\n",
              "  {'address': 'D6zKNnkupqRbkB9p5rwix8QiobQWJazjyX',\n",
              "   'from_output': {'output_no': 0,\n",
              "    'txid': '8945c36e6e93fa0128a64bc8a2dc36f042652f8d7f50930dd6250f34b93dc72f'},\n",
              "   'input_no': 18,\n",
              "   'script': '304402202e201db3289948e741f7e275d1177fe5c595af084c1e788d04eecbd02eafdc9002201487ff34a921a5fffb8bf4a994127ac2db120b041bd33cf91fdb54148bd233d601 047c88e9a4df6e9f45656c10bf66f28e28be235a15b64820b254f1b9eb2738314e6769f5c94da0c7640ffe76dcffca053b07a0804cd53a1c51ad03bfe0133ce8c5',\n",
              "   'sequence': 4294967295,\n",
              "   'type': 'pubkeyhash',\n",
              "   'value': '5.17545453',\n",
              "   'witness': None},\n",
              "  {'address': 'D6zKNnkupqRbkB9p5rwix8QiobQWJazjyX',\n",
              "   'from_output': {'output_no': 0,\n",
              "    'txid': '9e5cc64874aa80076765b0ab06d6858c4f16b32dbe5c3f504a9695b49cfd953c'},\n",
              "   'input_no': 19,\n",
              "   'script': '3045022100fa36ba631d56e807ec4a79af3b25da0470e2ce383491d36d8edbebe4747a978302203d61d5ebb3a464f4fc85ad8ab4ac2d32028385e31511e7dd577d60da36f5e87c01 047c88e9a4df6e9f45656c10bf66f28e28be235a15b64820b254f1b9eb2738314e6769f5c94da0c7640ffe76dcffca053b07a0804cd53a1c51ad03bfe0133ce8c5',\n",
              "   'sequence': 4294967295,\n",
              "   'type': 'pubkeyhash',\n",
              "   'value': '5.17545453',\n",
              "   'witness': None},\n",
              "  {'address': 'D6zKNnkupqRbkB9p5rwix8QiobQWJazjyX',\n",
              "   'from_output': {'output_no': 0,\n",
              "    'txid': 'c0c0100357741223008b3d543d248b0be2fa2a4ebb17b113729298088951774b'},\n",
              "   'input_no': 20,\n",
              "   'script': '3045022100da7832cd07419402543c686bcda72d6b8444fa63a35447c1260bdc6a9ebb5d3d02203b490ba761d196d458de1f99ef8ee93d116d3bb8be5be7846ac84fad77ba038601 047c88e9a4df6e9f45656c10bf66f28e28be235a15b64820b254f1b9eb2738314e6769f5c94da0c7640ffe76dcffca053b07a0804cd53a1c51ad03bfe0133ce8c5',\n",
              "   'sequence': 4294967295,\n",
              "   'type': 'pubkeyhash',\n",
              "   'value': '5.17545453',\n",
              "   'witness': None},\n",
              "  {'address': 'D6zKNnkupqRbkB9p5rwix8QiobQWJazjyX',\n",
              "   'from_output': {'output_no': 0,\n",
              "    'txid': 'a3559b089d1bd48c6c395c47e0d86e81565342edf8979548337f022f39842356'},\n",
              "   'input_no': 21,\n",
              "   'script': '30440220093f25e79fe032ee9e23f248cdf695f4ba010492a7a430bfc34670c7b8f49bb6022007b33b2050169c1caf74353c02b5bffb71cdb79c114be6bb2b3a1614c183b5e601 047c88e9a4df6e9f45656c10bf66f28e28be235a15b64820b254f1b9eb2738314e6769f5c94da0c7640ffe76dcffca053b07a0804cd53a1c51ad03bfe0133ce8c5',\n",
              "   'sequence': 4294967295,\n",
              "   'type': 'pubkeyhash',\n",
              "   'value': '5.17545453',\n",
              "   'witness': None},\n",
              "  {'address': 'D6zKNnkupqRbkB9p5rwix8QiobQWJazjyX',\n",
              "   'from_output': {'output_no': 0,\n",
              "    'txid': '85981e0d4245c10cdba9c1d869cc0db10505da89bb2936e464a63b5b21e9095b'},\n",
              "   'input_no': 22,\n",
              "   'script': '3044022058a59ab78ca391fe369b6067999c5c5b80dbb8756e573687f100dbb50b45887402205a185aab424b45bcfdd34608b7cddc79a271977a2b9a651561105a13c31b731e01 047c88e9a4df6e9f45656c10bf66f28e28be235a15b64820b254f1b9eb2738314e6769f5c94da0c7640ffe76dcffca053b07a0804cd53a1c51ad03bfe0133ce8c5',\n",
              "   'sequence': 4294967295,\n",
              "   'type': 'pubkeyhash',\n",
              "   'value': '5.17545453',\n",
              "   'witness': None},\n",
              "  {'address': 'D6zKNnkupqRbkB9p5rwix8QiobQWJazjyX',\n",
              "   'from_output': {'output_no': 0,\n",
              "    'txid': '3c940d05069c830176016044cf23cd8ed727bb078a0d5c8cca54cd7013b09f71'},\n",
              "   'input_no': 23,\n",
              "   'script': '304402202bb73e0ae262856c2addcd856472863dfa6459a8f9867522c988e4959b45047c0220384d5c9cd2253ed7f081dad2e3ed2e3a003037b2bbd6eb413ee3b2ec5593bed201 047c88e9a4df6e9f45656c10bf66f28e28be235a15b64820b254f1b9eb2738314e6769f5c94da0c7640ffe76dcffca053b07a0804cd53a1c51ad03bfe0133ce8c5',\n",
              "   'sequence': 4294967295,\n",
              "   'type': 'pubkeyhash',\n",
              "   'value': '5.17545453',\n",
              "   'witness': None},\n",
              "  {'address': 'D6zKNnkupqRbkB9p5rwix8QiobQWJazjyX',\n",
              "   'from_output': {'output_no': 0,\n",
              "    'txid': 'e970f755be8b9926f319157d1362926ba4b0b62e28bbccf7667d5b242c010f7c'},\n",
              "   'input_no': 24,\n",
              "   'script': '30440220159176146015bf6141fb53bbaa058a850282d72a654b421a6cf93394ca02581e022072e29fe576dc26216e71046d276d388104fa8e0509b655018d1b99411136fca701 047c88e9a4df6e9f45656c10bf66f28e28be235a15b64820b254f1b9eb2738314e6769f5c94da0c7640ffe76dcffca053b07a0804cd53a1c51ad03bfe0133ce8c5',\n",
              "   'sequence': 4294967295,\n",
              "   'type': 'pubkeyhash',\n",
              "   'value': '5.17545453',\n",
              "   'witness': None},\n",
              "  {'address': 'D6zKNnkupqRbkB9p5rwix8QiobQWJazjyX',\n",
              "   'from_output': {'output_no': 0,\n",
              "    'txid': '2f3162731462b52420ef5954c7d634f0c2a779dae3688795b53d5a9eed15508c'},\n",
              "   'input_no': 25,\n",
              "   'script': '3044022072c6bc7b065d90f89fa9b51813329aaa94d33be66cd8b0cb85a7475f025a23d40220643630e93bb3467f986541a6f02a6c1e9b34e35d138a123d26e07759743a057701 047c88e9a4df6e9f45656c10bf66f28e28be235a15b64820b254f1b9eb2738314e6769f5c94da0c7640ffe76dcffca053b07a0804cd53a1c51ad03bfe0133ce8c5',\n",
              "   'sequence': 4294967295,\n",
              "   'type': 'pubkeyhash',\n",
              "   'value': '5.17545453',\n",
              "   'witness': None},\n",
              "  {'address': 'D6zKNnkupqRbkB9p5rwix8QiobQWJazjyX',\n",
              "   'from_output': {'output_no': 0,\n",
              "    'txid': '47c5dd87328ae082e876f4e23c2eb253e861f1525293063d92b45a43e183b697'},\n",
              "   'input_no': 26,\n",
              "   'script': '30450221009304ce6b2682ada1412ec4f7ee1b85f57f070198cdfa5539a48d1e70f18628fd02202d57f6c7e084ab6f2e62dd1e14d7d4edf62bba67a437efd2adb2dd3acd30c15c01 047c88e9a4df6e9f45656c10bf66f28e28be235a15b64820b254f1b9eb2738314e6769f5c94da0c7640ffe76dcffca053b07a0804cd53a1c51ad03bfe0133ce8c5',\n",
              "   'sequence': 4294967295,\n",
              "   'type': 'pubkeyhash',\n",
              "   'value': '5.17545453',\n",
              "   'witness': None},\n",
              "  {'address': 'D6zKNnkupqRbkB9p5rwix8QiobQWJazjyX',\n",
              "   'from_output': {'output_no': 0,\n",
              "    'txid': '5c57cad54308ffac804dbaee849bdcddc03b520148009a10f85427958773109a'},\n",
              "   'input_no': 27,\n",
              "   'script': '30450221008d8f094137ad30ebd3d09bdddc6310bfa7fbfcdbe10488912379e4c9bcf92362022037dfc1e01ec60f5426fbc566e07b48d94556fd4e2902751e2aa7f68f54d0812401 047c88e9a4df6e9f45656c10bf66f28e28be235a15b64820b254f1b9eb2738314e6769f5c94da0c7640ffe76dcffca053b07a0804cd53a1c51ad03bfe0133ce8c5',\n",
              "   'sequence': 4294967295,\n",
              "   'type': 'pubkeyhash',\n",
              "   'value': '5.17545453',\n",
              "   'witness': None},\n",
              "  {'address': 'D6zKNnkupqRbkB9p5rwix8QiobQWJazjyX',\n",
              "   'from_output': {'output_no': 0,\n",
              "    'txid': '8ef8d8e2f58a1b9765c5df7ac576abcb817cfea17c31e03df923070d984f54a6'},\n",
              "   'input_no': 28,\n",
              "   'script': '30440220346363854b8cab7a6099686a1e0a114966101b3006cf68c1dccbec7fa42d9f71022063b4aef5c2676ffda87eba8bd18c63d9dd06ebe486caf106a0a669f38413519601 047c88e9a4df6e9f45656c10bf66f28e28be235a15b64820b254f1b9eb2738314e6769f5c94da0c7640ffe76dcffca053b07a0804cd53a1c51ad03bfe0133ce8c5',\n",
              "   'sequence': 4294967295,\n",
              "   'type': 'pubkeyhash',\n",
              "   'value': '5.17545453',\n",
              "   'witness': None},\n",
              "  {'address': 'D6zKNnkupqRbkB9p5rwix8QiobQWJazjyX',\n",
              "   'from_output': {'output_no': 0,\n",
              "    'txid': '8a77887d58c01356e03a2c78af159908ef3274abf93945309b86e9b3e797d4ac'},\n",
              "   'input_no': 29,\n",
              "   'script': '304402200f55629dc2f6470ca337adcfdca933a3306783edf411b345af8fef3a6c24ac2202205363c660aecf89feb2194597912657ec2d8f4aa7586b54a380b30658a09bc67201 047c88e9a4df6e9f45656c10bf66f28e28be235a15b64820b254f1b9eb2738314e6769f5c94da0c7640ffe76dcffca053b07a0804cd53a1c51ad03bfe0133ce8c5',\n",
              "   'sequence': 4294967295,\n",
              "   'type': 'pubkeyhash',\n",
              "   'value': '5.17545453',\n",
              "   'witness': None},\n",
              "  {'address': 'D6zKNnkupqRbkB9p5rwix8QiobQWJazjyX',\n",
              "   'from_output': {'output_no': 0,\n",
              "    'txid': 'a23f334f08af6e56fa7553bc204c3b9e04f8c6f0e93f3c9bf300ef0a0ba8e3b1'},\n",
              "   'input_no': 30,\n",
              "   'script': '30450221008a72ec0d01b270068f779bf8d8e524802be1fc06d94bf14465118829b3334a5802205664f33db796ca903c46db00516e6612fbd03b0c1d30b8d325bf0c020c6437f301 047c88e9a4df6e9f45656c10bf66f28e28be235a15b64820b254f1b9eb2738314e6769f5c94da0c7640ffe76dcffca053b07a0804cd53a1c51ad03bfe0133ce8c5',\n",
              "   'sequence': 4294967295,\n",
              "   'type': 'pubkeyhash',\n",
              "   'value': '5.17545453',\n",
              "   'witness': None},\n",
              "  {'address': 'D6zKNnkupqRbkB9p5rwix8QiobQWJazjyX',\n",
              "   'from_output': {'output_no': 0,\n",
              "    'txid': 'c926f0d9a2311ccb422de595908bd8c9c7c5332a8c78a39a33645a26076400ca'},\n",
              "   'input_no': 31,\n",
              "   'script': '3044022055fd999dd68b30396c9653125db67f6b9b6b43dfb44aedb452bc216293bcbc8f02200c3750e5a2f107de73678de9d599bad32b2647805baac3291d320c5918e4c17501 047c88e9a4df6e9f45656c10bf66f28e28be235a15b64820b254f1b9eb2738314e6769f5c94da0c7640ffe76dcffca053b07a0804cd53a1c51ad03bfe0133ce8c5',\n",
              "   'sequence': 4294967295,\n",
              "   'type': 'pubkeyhash',\n",
              "   'value': '5.17545453',\n",
              "   'witness': None},\n",
              "  {'address': 'D6zKNnkupqRbkB9p5rwix8QiobQWJazjyX',\n",
              "   'from_output': {'output_no': 0,\n",
              "    'txid': '5ce5a1e96c64eb1d917f1ae6883f47a86c2a06e42709cc77fbdbb5256492ecdd'},\n",
              "   'input_no': 32,\n",
              "   'script': '3045022100a41eee78bd253b39ff72327a3fe82e6d0090e65b602cfdeffa795482fcccb13502203357bc2687aa0541554998f7058bce99a0766ee48e7dde21c538fbf8d4f6f91701 047c88e9a4df6e9f45656c10bf66f28e28be235a15b64820b254f1b9eb2738314e6769f5c94da0c7640ffe76dcffca053b07a0804cd53a1c51ad03bfe0133ce8c5',\n",
              "   'sequence': 4294967295,\n",
              "   'type': 'pubkeyhash',\n",
              "   'value': '5.17545453',\n",
              "   'witness': None},\n",
              "  {'address': 'D6zKNnkupqRbkB9p5rwix8QiobQWJazjyX',\n",
              "   'from_output': {'output_no': 0,\n",
              "    'txid': '66db18121392ec6b65887c36ea303407533f38ed176a01f819d5f2aacd862872'},\n",
              "   'input_no': 33,\n",
              "   'script': '3045022100adbdeb4e3716c016c85c6611f03fba8af04a703beed065b50d20ab61a38b3bf7022010c3815f4033c45f59bd326b431f799b3bbdb4b89f43936c45a06bfdecbebe3801 047c88e9a4df6e9f45656c10bf66f28e28be235a15b64820b254f1b9eb2738314e6769f5c94da0c7640ffe76dcffca053b07a0804cd53a1c51ad03bfe0133ce8c5',\n",
              "   'sequence': 4294967295,\n",
              "   'type': 'pubkeyhash',\n",
              "   'value': '406.67557108',\n",
              "   'witness': None}],\n",
              " 'locktime': 0,\n",
              " 'network': 'DOGE',\n",
              " 'network_fee': '13.70000014',\n",
              " 'outputs': [{'address': 'D6zKNnkupqRbkB9p5rwix8QiobQWJazjyX',\n",
              "   'output_no': 0,\n",
              "   'script': 'OP_DUP OP_HASH160 144739367df0ff8d1c61d03704298d49cf93ef3f OP_EQUALVERIFY OP_CHECKSIG',\n",
              "   'type': 'pubkeyhash',\n",
              "   'value': '5.81201619'},\n",
              "  {'address': 'D6zKNnkupqRbkB9p5rwix8QiobQWJazjyX',\n",
              "   'output_no': 1,\n",
              "   'script': 'OP_DUP OP_HASH160 144739367df0ff8d1c61d03704298d49cf93ef3f OP_EQUALVERIFY OP_CHECKSIG',\n",
              "   'type': 'pubkeyhash',\n",
              "   'value': '5.81201619'},\n",
              "  {'address': 'D6zKNnkupqRbkB9p5rwix8QiobQWJazjyX',\n",
              "   'output_no': 2,\n",
              "   'script': 'OP_DUP OP_HASH160 144739367df0ff8d1c61d03704298d49cf93ef3f OP_EQUALVERIFY OP_CHECKSIG',\n",
              "   'type': 'pubkeyhash',\n",
              "   'value': '5.81201619'},\n",
              "  {'address': 'D6zKNnkupqRbkB9p5rwix8QiobQWJazjyX',\n",
              "   'output_no': 3,\n",
              "   'script': 'OP_DUP OP_HASH160 144739367df0ff8d1c61d03704298d49cf93ef3f OP_EQUALVERIFY OP_CHECKSIG',\n",
              "   'type': 'pubkeyhash',\n",
              "   'value': '5.81201619'},\n",
              "  {'address': 'D6zKNnkupqRbkB9p5rwix8QiobQWJazjyX',\n",
              "   'output_no': 4,\n",
              "   'script': 'OP_DUP OP_HASH160 144739367df0ff8d1c61d03704298d49cf93ef3f OP_EQUALVERIFY OP_CHECKSIG',\n",
              "   'type': 'pubkeyhash',\n",
              "   'value': '5.81201619'},\n",
              "  {'address': 'D6zKNnkupqRbkB9p5rwix8QiobQWJazjyX',\n",
              "   'output_no': 5,\n",
              "   'script': 'OP_DUP OP_HASH160 144739367df0ff8d1c61d03704298d49cf93ef3f OP_EQUALVERIFY OP_CHECKSIG',\n",
              "   'type': 'pubkeyhash',\n",
              "   'value': '5.81201619'},\n",
              "  {'address': 'D6zKNnkupqRbkB9p5rwix8QiobQWJazjyX',\n",
              "   'output_no': 6,\n",
              "   'script': 'OP_DUP OP_HASH160 144739367df0ff8d1c61d03704298d49cf93ef3f OP_EQUALVERIFY OP_CHECKSIG',\n",
              "   'type': 'pubkeyhash',\n",
              "   'value': '5.81201619'},\n",
              "  {'address': 'D6zKNnkupqRbkB9p5rwix8QiobQWJazjyX',\n",
              "   'output_no': 7,\n",
              "   'script': 'OP_DUP OP_HASH160 144739367df0ff8d1c61d03704298d49cf93ef3f OP_EQUALVERIFY OP_CHECKSIG',\n",
              "   'type': 'pubkeyhash',\n",
              "   'value': '5.81201619'},\n",
              "  {'address': 'D6zKNnkupqRbkB9p5rwix8QiobQWJazjyX',\n",
              "   'output_no': 8,\n",
              "   'script': 'OP_DUP OP_HASH160 144739367df0ff8d1c61d03704298d49cf93ef3f OP_EQUALVERIFY OP_CHECKSIG',\n",
              "   'type': 'pubkeyhash',\n",
              "   'value': '5.81201619'},\n",
              "  {'address': 'D6zKNnkupqRbkB9p5rwix8QiobQWJazjyX',\n",
              "   'output_no': 9,\n",
              "   'script': 'OP_DUP OP_HASH160 144739367df0ff8d1c61d03704298d49cf93ef3f OP_EQUALVERIFY OP_CHECKSIG',\n",
              "   'type': 'pubkeyhash',\n",
              "   'value': '5.81201619'},\n",
              "  {'address': 'D6zKNnkupqRbkB9p5rwix8QiobQWJazjyX',\n",
              "   'output_no': 10,\n",
              "   'script': 'OP_DUP OP_HASH160 144739367df0ff8d1c61d03704298d49cf93ef3f OP_EQUALVERIFY OP_CHECKSIG',\n",
              "   'type': 'pubkeyhash',\n",
              "   'value': '5.81201619'},\n",
              "  {'address': 'D6zKNnkupqRbkB9p5rwix8QiobQWJazjyX',\n",
              "   'output_no': 11,\n",
              "   'script': 'OP_DUP OP_HASH160 144739367df0ff8d1c61d03704298d49cf93ef3f OP_EQUALVERIFY OP_CHECKSIG',\n",
              "   'type': 'pubkeyhash',\n",
              "   'value': '5.81201619'},\n",
              "  {'address': 'D6zKNnkupqRbkB9p5rwix8QiobQWJazjyX',\n",
              "   'output_no': 12,\n",
              "   'script': 'OP_DUP OP_HASH160 144739367df0ff8d1c61d03704298d49cf93ef3f OP_EQUALVERIFY OP_CHECKSIG',\n",
              "   'type': 'pubkeyhash',\n",
              "   'value': '5.81201619'},\n",
              "  {'address': 'D6zKNnkupqRbkB9p5rwix8QiobQWJazjyX',\n",
              "   'output_no': 13,\n",
              "   'script': 'OP_DUP OP_HASH160 144739367df0ff8d1c61d03704298d49cf93ef3f OP_EQUALVERIFY OP_CHECKSIG',\n",
              "   'type': 'pubkeyhash',\n",
              "   'value': '5.81201619'},\n",
              "  {'address': 'D6zKNnkupqRbkB9p5rwix8QiobQWJazjyX',\n",
              "   'output_no': 14,\n",
              "   'script': 'OP_DUP OP_HASH160 144739367df0ff8d1c61d03704298d49cf93ef3f OP_EQUALVERIFY OP_CHECKSIG',\n",
              "   'type': 'pubkeyhash',\n",
              "   'value': '5.81201619'},\n",
              "  {'address': 'D6zKNnkupqRbkB9p5rwix8QiobQWJazjyX',\n",
              "   'output_no': 15,\n",
              "   'script': 'OP_DUP OP_HASH160 144739367df0ff8d1c61d03704298d49cf93ef3f OP_EQUALVERIFY OP_CHECKSIG',\n",
              "   'type': 'pubkeyhash',\n",
              "   'value': '5.81201619'},\n",
              "  {'address': 'D6zKNnkupqRbkB9p5rwix8QiobQWJazjyX',\n",
              "   'output_no': 16,\n",
              "   'script': 'OP_DUP OP_HASH160 144739367df0ff8d1c61d03704298d49cf93ef3f OP_EQUALVERIFY OP_CHECKSIG',\n",
              "   'type': 'pubkeyhash',\n",
              "   'value': '5.81201619'},\n",
              "  {'address': 'D6zKNnkupqRbkB9p5rwix8QiobQWJazjyX',\n",
              "   'output_no': 17,\n",
              "   'script': 'OP_DUP OP_HASH160 144739367df0ff8d1c61d03704298d49cf93ef3f OP_EQUALVERIFY OP_CHECKSIG',\n",
              "   'type': 'pubkeyhash',\n",
              "   'value': '5.81201619'},\n",
              "  {'address': 'D6zKNnkupqRbkB9p5rwix8QiobQWJazjyX',\n",
              "   'output_no': 18,\n",
              "   'script': 'OP_DUP OP_HASH160 144739367df0ff8d1c61d03704298d49cf93ef3f OP_EQUALVERIFY OP_CHECKSIG',\n",
              "   'type': 'pubkeyhash',\n",
              "   'value': '5.81201619'},\n",
              "  {'address': 'D6zKNnkupqRbkB9p5rwix8QiobQWJazjyX',\n",
              "   'output_no': 19,\n",
              "   'script': 'OP_DUP OP_HASH160 144739367df0ff8d1c61d03704298d49cf93ef3f OP_EQUALVERIFY OP_CHECKSIG',\n",
              "   'type': 'pubkeyhash',\n",
              "   'value': '5.81201619'},\n",
              "  {'address': 'D6zKNnkupqRbkB9p5rwix8QiobQWJazjyX',\n",
              "   'output_no': 20,\n",
              "   'script': 'OP_DUP OP_HASH160 144739367df0ff8d1c61d03704298d49cf93ef3f OP_EQUALVERIFY OP_CHECKSIG',\n",
              "   'type': 'pubkeyhash',\n",
              "   'value': '5.81201619'},\n",
              "  {'address': 'D6zKNnkupqRbkB9p5rwix8QiobQWJazjyX',\n",
              "   'output_no': 21,\n",
              "   'script': 'OP_DUP OP_HASH160 144739367df0ff8d1c61d03704298d49cf93ef3f OP_EQUALVERIFY OP_CHECKSIG',\n",
              "   'type': 'pubkeyhash',\n",
              "   'value': '5.81201619'},\n",
              "  {'address': 'D6zKNnkupqRbkB9p5rwix8QiobQWJazjyX',\n",
              "   'output_no': 22,\n",
              "   'script': 'OP_DUP OP_HASH160 144739367df0ff8d1c61d03704298d49cf93ef3f OP_EQUALVERIFY OP_CHECKSIG',\n",
              "   'type': 'pubkeyhash',\n",
              "   'value': '5.81201619'},\n",
              "  {'address': 'D6zKNnkupqRbkB9p5rwix8QiobQWJazjyX',\n",
              "   'output_no': 23,\n",
              "   'script': 'OP_DUP OP_HASH160 144739367df0ff8d1c61d03704298d49cf93ef3f OP_EQUALVERIFY OP_CHECKSIG',\n",
              "   'type': 'pubkeyhash',\n",
              "   'value': '5.81201619'},\n",
              "  {'address': 'D6zKNnkupqRbkB9p5rwix8QiobQWJazjyX',\n",
              "   'output_no': 24,\n",
              "   'script': 'OP_DUP OP_HASH160 144739367df0ff8d1c61d03704298d49cf93ef3f OP_EQUALVERIFY OP_CHECKSIG',\n",
              "   'type': 'pubkeyhash',\n",
              "   'value': '5.81201619'},\n",
              "  {'address': 'D6zKNnkupqRbkB9p5rwix8QiobQWJazjyX',\n",
              "   'output_no': 25,\n",
              "   'script': 'OP_DUP OP_HASH160 144739367df0ff8d1c61d03704298d49cf93ef3f OP_EQUALVERIFY OP_CHECKSIG',\n",
              "   'type': 'pubkeyhash',\n",
              "   'value': '5.81201619'},\n",
              "  {'address': 'D6zKNnkupqRbkB9p5rwix8QiobQWJazjyX',\n",
              "   'output_no': 26,\n",
              "   'script': 'OP_DUP OP_HASH160 144739367df0ff8d1c61d03704298d49cf93ef3f OP_EQUALVERIFY OP_CHECKSIG',\n",
              "   'type': 'pubkeyhash',\n",
              "   'value': '5.81201619'},\n",
              "  {'address': 'D6zKNnkupqRbkB9p5rwix8QiobQWJazjyX',\n",
              "   'output_no': 27,\n",
              "   'script': 'OP_DUP OP_HASH160 144739367df0ff8d1c61d03704298d49cf93ef3f OP_EQUALVERIFY OP_CHECKSIG',\n",
              "   'type': 'pubkeyhash',\n",
              "   'value': '5.81201619'},\n",
              "  {'address': 'D6zKNnkupqRbkB9p5rwix8QiobQWJazjyX',\n",
              "   'output_no': 28,\n",
              "   'script': 'OP_DUP OP_HASH160 144739367df0ff8d1c61d03704298d49cf93ef3f OP_EQUALVERIFY OP_CHECKSIG',\n",
              "   'type': 'pubkeyhash',\n",
              "   'value': '5.81201619'},\n",
              "  {'address': 'D6zKNnkupqRbkB9p5rwix8QiobQWJazjyX',\n",
              "   'output_no': 29,\n",
              "   'script': 'OP_DUP OP_HASH160 144739367df0ff8d1c61d03704298d49cf93ef3f OP_EQUALVERIFY OP_CHECKSIG',\n",
              "   'type': 'pubkeyhash',\n",
              "   'value': '5.81201619'},\n",
              "  {'address': 'D6zKNnkupqRbkB9p5rwix8QiobQWJazjyX',\n",
              "   'output_no': 30,\n",
              "   'script': 'OP_DUP OP_HASH160 144739367df0ff8d1c61d03704298d49cf93ef3f OP_EQUALVERIFY OP_CHECKSIG',\n",
              "   'type': 'pubkeyhash',\n",
              "   'value': '5.81201619'},\n",
              "  {'address': 'D6zKNnkupqRbkB9p5rwix8QiobQWJazjyX',\n",
              "   'output_no': 31,\n",
              "   'script': 'OP_DUP OP_HASH160 144739367df0ff8d1c61d03704298d49cf93ef3f OP_EQUALVERIFY OP_CHECKSIG',\n",
              "   'type': 'pubkeyhash',\n",
              "   'value': '5.81201619'},\n",
              "  {'address': 'D6zKNnkupqRbkB9p5rwix8QiobQWJazjyX',\n",
              "   'output_no': 32,\n",
              "   'script': 'OP_DUP OP_HASH160 144739367df0ff8d1c61d03704298d49cf93ef3f OP_EQUALVERIFY OP_CHECKSIG',\n",
              "   'type': 'pubkeyhash',\n",
              "   'value': '5.81201619'},\n",
              "  {'address': 'D6zKNnkupqRbkB9p5rwix8QiobQWJazjyX',\n",
              "   'output_no': 33,\n",
              "   'script': 'OP_DUP OP_HASH160 144739367df0ff8d1c61d03704298d49cf93ef3f OP_EQUALVERIFY OP_CHECKSIG',\n",
              "   'type': 'pubkeyhash',\n",
              "   'value': '5.81201619'},\n",
              "  {'address': 'D6zKNnkupqRbkB9p5rwix8QiobQWJazjyX',\n",
              "   'output_no': 34,\n",
              "   'script': 'OP_DUP OP_HASH160 144739367df0ff8d1c61d03704298d49cf93ef3f OP_EQUALVERIFY OP_CHECKSIG',\n",
              "   'type': 'pubkeyhash',\n",
              "   'value': '5.81201619'},\n",
              "  {'address': 'D6zKNnkupqRbkB9p5rwix8QiobQWJazjyX',\n",
              "   'output_no': 35,\n",
              "   'script': 'OP_DUP OP_HASH160 144739367df0ff8d1c61d03704298d49cf93ef3f OP_EQUALVERIFY OP_CHECKSIG',\n",
              "   'type': 'pubkeyhash',\n",
              "   'value': '5.81201619'},\n",
              "  {'address': 'D6zKNnkupqRbkB9p5rwix8QiobQWJazjyX',\n",
              "   'output_no': 36,\n",
              "   'script': 'OP_DUP OP_HASH160 144739367df0ff8d1c61d03704298d49cf93ef3f OP_EQUALVERIFY OP_CHECKSIG',\n",
              "   'type': 'pubkeyhash',\n",
              "   'value': '5.81201619'},\n",
              "  {'address': 'D6zKNnkupqRbkB9p5rwix8QiobQWJazjyX',\n",
              "   'output_no': 37,\n",
              "   'script': 'OP_DUP OP_HASH160 144739367df0ff8d1c61d03704298d49cf93ef3f OP_EQUALVERIFY OP_CHECKSIG',\n",
              "   'type': 'pubkeyhash',\n",
              "   'value': '5.81201619'},\n",
              "  {'address': 'D6zKNnkupqRbkB9p5rwix8QiobQWJazjyX',\n",
              "   'output_no': 38,\n",
              "   'script': 'OP_DUP OP_HASH160 144739367df0ff8d1c61d03704298d49cf93ef3f OP_EQUALVERIFY OP_CHECKSIG',\n",
              "   'type': 'pubkeyhash',\n",
              "   'value': '5.81201619'},\n",
              "  {'address': 'D6zKNnkupqRbkB9p5rwix8QiobQWJazjyX',\n",
              "   'output_no': 39,\n",
              "   'script': 'OP_DUP OP_HASH160 144739367df0ff8d1c61d03704298d49cf93ef3f OP_EQUALVERIFY OP_CHECKSIG',\n",
              "   'type': 'pubkeyhash',\n",
              "   'value': '5.81201619'},\n",
              "  {'address': 'D6zKNnkupqRbkB9p5rwix8QiobQWJazjyX',\n",
              "   'output_no': 40,\n",
              "   'script': 'OP_DUP OP_HASH160 144739367df0ff8d1c61d03704298d49cf93ef3f OP_EQUALVERIFY OP_CHECKSIG',\n",
              "   'type': 'pubkeyhash',\n",
              "   'value': '5.81201619'},\n",
              "  {'address': 'D6zKNnkupqRbkB9p5rwix8QiobQWJazjyX',\n",
              "   'output_no': 41,\n",
              "   'script': 'OP_DUP OP_HASH160 144739367df0ff8d1c61d03704298d49cf93ef3f OP_EQUALVERIFY OP_CHECKSIG',\n",
              "   'type': 'pubkeyhash',\n",
              "   'value': '5.81201619'},\n",
              "  {'address': 'D6zKNnkupqRbkB9p5rwix8QiobQWJazjyX',\n",
              "   'output_no': 42,\n",
              "   'script': 'OP_DUP OP_HASH160 144739367df0ff8d1c61d03704298d49cf93ef3f OP_EQUALVERIFY OP_CHECKSIG',\n",
              "   'type': 'pubkeyhash',\n",
              "   'value': '5.81201619'},\n",
              "  {'address': 'D6zKNnkupqRbkB9p5rwix8QiobQWJazjyX',\n",
              "   'output_no': 43,\n",
              "   'script': 'OP_DUP OP_HASH160 144739367df0ff8d1c61d03704298d49cf93ef3f OP_EQUALVERIFY OP_CHECKSIG',\n",
              "   'type': 'pubkeyhash',\n",
              "   'value': '5.81201619'},\n",
              "  {'address': 'D6zKNnkupqRbkB9p5rwix8QiobQWJazjyX',\n",
              "   'output_no': 44,\n",
              "   'script': 'OP_DUP OP_HASH160 144739367df0ff8d1c61d03704298d49cf93ef3f OP_EQUALVERIFY OP_CHECKSIG',\n",
              "   'type': 'pubkeyhash',\n",
              "   'value': '5.81201619'},\n",
              "  {'address': 'D6zKNnkupqRbkB9p5rwix8QiobQWJazjyX',\n",
              "   'output_no': 45,\n",
              "   'script': 'OP_DUP OP_HASH160 144739367df0ff8d1c61d03704298d49cf93ef3f OP_EQUALVERIFY OP_CHECKSIG',\n",
              "   'type': 'pubkeyhash',\n",
              "   'value': '5.81201619'},\n",
              "  {'address': 'D6zKNnkupqRbkB9p5rwix8QiobQWJazjyX',\n",
              "   'output_no': 46,\n",
              "   'script': 'OP_DUP OP_HASH160 144739367df0ff8d1c61d03704298d49cf93ef3f OP_EQUALVERIFY OP_CHECKSIG',\n",
              "   'type': 'pubkeyhash',\n",
              "   'value': '5.81201619'},\n",
              "  {'address': 'D6zKNnkupqRbkB9p5rwix8QiobQWJazjyX',\n",
              "   'output_no': 47,\n",
              "   'script': 'OP_DUP OP_HASH160 144739367df0ff8d1c61d03704298d49cf93ef3f OP_EQUALVERIFY OP_CHECKSIG',\n",
              "   'type': 'pubkeyhash',\n",
              "   'value': '5.81201619'},\n",
              "  {'address': 'D6zKNnkupqRbkB9p5rwix8QiobQWJazjyX',\n",
              "   'output_no': 48,\n",
              "   'script': 'OP_DUP OP_HASH160 144739367df0ff8d1c61d03704298d49cf93ef3f OP_EQUALVERIFY OP_CHECKSIG',\n",
              "   'type': 'pubkeyhash',\n",
              "   'value': '5.81201619'},\n",
              "  {'address': 'D6zKNnkupqRbkB9p5rwix8QiobQWJazjyX',\n",
              "   'output_no': 49,\n",
              "   'script': 'OP_DUP OP_HASH160 144739367df0ff8d1c61d03704298d49cf93ef3f OP_EQUALVERIFY OP_CHECKSIG',\n",
              "   'type': 'pubkeyhash',\n",
              "   'value': '5.81201619'},\n",
              "  {'address': 'D6zKNnkupqRbkB9p5rwix8QiobQWJazjyX',\n",
              "   'output_no': 50,\n",
              "   'script': 'OP_DUP OP_HASH160 144739367df0ff8d1c61d03704298d49cf93ef3f OP_EQUALVERIFY OP_CHECKSIG',\n",
              "   'type': 'pubkeyhash',\n",
              "   'value': '5.81201619'},\n",
              "  {'address': 'D6zKNnkupqRbkB9p5rwix8QiobQWJazjyX',\n",
              "   'output_no': 51,\n",
              "   'script': 'OP_DUP OP_HASH160 144739367df0ff8d1c61d03704298d49cf93ef3f OP_EQUALVERIFY OP_CHECKSIG',\n",
              "   'type': 'pubkeyhash',\n",
              "   'value': '5.81201619'},\n",
              "  {'address': 'D6zKNnkupqRbkB9p5rwix8QiobQWJazjyX',\n",
              "   'output_no': 52,\n",
              "   'script': 'OP_DUP OP_HASH160 144739367df0ff8d1c61d03704298d49cf93ef3f OP_EQUALVERIFY OP_CHECKSIG',\n",
              "   'type': 'pubkeyhash',\n",
              "   'value': '5.81201619'},\n",
              "  {'address': 'D6zKNnkupqRbkB9p5rwix8QiobQWJazjyX',\n",
              "   'output_no': 53,\n",
              "   'script': 'OP_DUP OP_HASH160 144739367df0ff8d1c61d03704298d49cf93ef3f OP_EQUALVERIFY OP_CHECKSIG',\n",
              "   'type': 'pubkeyhash',\n",
              "   'value': '5.81201619'},\n",
              "  {'address': 'D6zKNnkupqRbkB9p5rwix8QiobQWJazjyX',\n",
              "   'output_no': 54,\n",
              "   'script': 'OP_DUP OP_HASH160 144739367df0ff8d1c61d03704298d49cf93ef3f OP_EQUALVERIFY OP_CHECKSIG',\n",
              "   'type': 'pubkeyhash',\n",
              "   'value': '5.81201619'},\n",
              "  {'address': 'D6zKNnkupqRbkB9p5rwix8QiobQWJazjyX',\n",
              "   'output_no': 55,\n",
              "   'script': 'OP_DUP OP_HASH160 144739367df0ff8d1c61d03704298d49cf93ef3f OP_EQUALVERIFY OP_CHECKSIG',\n",
              "   'type': 'pubkeyhash',\n",
              "   'value': '5.81201619'},\n",
              "  {'address': 'D6zKNnkupqRbkB9p5rwix8QiobQWJazjyX',\n",
              "   'output_no': 56,\n",
              "   'script': 'OP_DUP OP_HASH160 144739367df0ff8d1c61d03704298d49cf93ef3f OP_EQUALVERIFY OP_CHECKSIG',\n",
              "   'type': 'pubkeyhash',\n",
              "   'value': '5.81201619'},\n",
              "  {'address': 'D6zKNnkupqRbkB9p5rwix8QiobQWJazjyX',\n",
              "   'output_no': 57,\n",
              "   'script': 'OP_DUP OP_HASH160 144739367df0ff8d1c61d03704298d49cf93ef3f OP_EQUALVERIFY OP_CHECKSIG',\n",
              "   'type': 'pubkeyhash',\n",
              "   'value': '5.81201619'},\n",
              "  {'address': 'D6zKNnkupqRbkB9p5rwix8QiobQWJazjyX',\n",
              "   'output_no': 58,\n",
              "   'script': 'OP_DUP OP_HASH160 144739367df0ff8d1c61d03704298d49cf93ef3f OP_EQUALVERIFY OP_CHECKSIG',\n",
              "   'type': 'pubkeyhash',\n",
              "   'value': '5.81201619'},\n",
              "  {'address': 'D6zKNnkupqRbkB9p5rwix8QiobQWJazjyX',\n",
              "   'output_no': 59,\n",
              "   'script': 'OP_DUP OP_HASH160 144739367df0ff8d1c61d03704298d49cf93ef3f OP_EQUALVERIFY OP_CHECKSIG',\n",
              "   'type': 'pubkeyhash',\n",
              "   'value': '5.81201619'},\n",
              "  {'address': 'D6zKNnkupqRbkB9p5rwix8QiobQWJazjyX',\n",
              "   'output_no': 60,\n",
              "   'script': 'OP_DUP OP_HASH160 144739367df0ff8d1c61d03704298d49cf93ef3f OP_EQUALVERIFY OP_CHECKSIG',\n",
              "   'type': 'pubkeyhash',\n",
              "   'value': '5.81201619'},\n",
              "  {'address': 'D6zKNnkupqRbkB9p5rwix8QiobQWJazjyX',\n",
              "   'output_no': 61,\n",
              "   'script': 'OP_DUP OP_HASH160 144739367df0ff8d1c61d03704298d49cf93ef3f OP_EQUALVERIFY OP_CHECKSIG',\n",
              "   'type': 'pubkeyhash',\n",
              "   'value': '5.81201619'},\n",
              "  {'address': 'D6zKNnkupqRbkB9p5rwix8QiobQWJazjyX',\n",
              "   'output_no': 62,\n",
              "   'script': 'OP_DUP OP_HASH160 144739367df0ff8d1c61d03704298d49cf93ef3f OP_EQUALVERIFY OP_CHECKSIG',\n",
              "   'type': 'pubkeyhash',\n",
              "   'value': '5.81201619'},\n",
              "  {'address': 'D6zKNnkupqRbkB9p5rwix8QiobQWJazjyX',\n",
              "   'output_no': 63,\n",
              "   'script': 'OP_DUP OP_HASH160 144739367df0ff8d1c61d03704298d49cf93ef3f OP_EQUALVERIFY OP_CHECKSIG',\n",
              "   'type': 'pubkeyhash',\n",
              "   'value': '5.81201619'},\n",
              "  {'address': 'D6zKNnkupqRbkB9p5rwix8QiobQWJazjyX',\n",
              "   'output_no': 64,\n",
              "   'script': 'OP_DUP OP_HASH160 144739367df0ff8d1c61d03704298d49cf93ef3f OP_EQUALVERIFY OP_CHECKSIG',\n",
              "   'type': 'pubkeyhash',\n",
              "   'value': '5.81201619'},\n",
              "  {'address': 'D6zKNnkupqRbkB9p5rwix8QiobQWJazjyX',\n",
              "   'output_no': 65,\n",
              "   'script': 'OP_DUP OP_HASH160 144739367df0ff8d1c61d03704298d49cf93ef3f OP_EQUALVERIFY OP_CHECKSIG',\n",
              "   'type': 'pubkeyhash',\n",
              "   'value': '5.81201619'},\n",
              "  {'address': 'D6zKNnkupqRbkB9p5rwix8QiobQWJazjyX',\n",
              "   'output_no': 66,\n",
              "   'script': 'OP_DUP OP_HASH160 144739367df0ff8d1c61d03704298d49cf93ef3f OP_EQUALVERIFY OP_CHECKSIG',\n",
              "   'type': 'pubkeyhash',\n",
              "   'value': '5.81201619'},\n",
              "  {'address': 'D6zKNnkupqRbkB9p5rwix8QiobQWJazjyX',\n",
              "   'output_no': 67,\n",
              "   'script': 'OP_DUP OP_HASH160 144739367df0ff8d1c61d03704298d49cf93ef3f OP_EQUALVERIFY OP_CHECKSIG',\n",
              "   'type': 'pubkeyhash',\n",
              "   'value': '5.81201619'},\n",
              "  {'address': 'D6zKNnkupqRbkB9p5rwix8QiobQWJazjyX',\n",
              "   'output_no': 68,\n",
              "   'script': 'OP_DUP OP_HASH160 144739367df0ff8d1c61d03704298d49cf93ef3f OP_EQUALVERIFY OP_CHECKSIG',\n",
              "   'type': 'pubkeyhash',\n",
              "   'value': '5.81201619'},\n",
              "  {'address': 'D6zKNnkupqRbkB9p5rwix8QiobQWJazjyX',\n",
              "   'output_no': 69,\n",
              "   'script': 'OP_DUP OP_HASH160 144739367df0ff8d1c61d03704298d49cf93ef3f OP_EQUALVERIFY OP_CHECKSIG',\n",
              "   'type': 'pubkeyhash',\n",
              "   'value': '5.81201619'},\n",
              "  {'address': 'D6zKNnkupqRbkB9p5rwix8QiobQWJazjyX',\n",
              "   'output_no': 70,\n",
              "   'script': 'OP_DUP OP_HASH160 144739367df0ff8d1c61d03704298d49cf93ef3f OP_EQUALVERIFY OP_CHECKSIG',\n",
              "   'type': 'pubkeyhash',\n",
              "   'value': '5.81201619'},\n",
              "  {'address': 'D6zKNnkupqRbkB9p5rwix8QiobQWJazjyX',\n",
              "   'output_no': 71,\n",
              "   'script': 'OP_DUP OP_HASH160 144739367df0ff8d1c61d03704298d49cf93ef3f OP_EQUALVERIFY OP_CHECKSIG',\n",
              "   'type': 'pubkeyhash',\n",
              "   'value': '5.81201619'},\n",
              "  {'address': 'D6zKNnkupqRbkB9p5rwix8QiobQWJazjyX',\n",
              "   'output_no': 72,\n",
              "   'script': 'OP_DUP OP_HASH160 144739367df0ff8d1c61d03704298d49cf93ef3f OP_EQUALVERIFY OP_CHECKSIG',\n",
              "   'type': 'pubkeyhash',\n",
              "   'value': '5.81201619'},\n",
              "  {'address': 'D6zKNnkupqRbkB9p5rwix8QiobQWJazjyX',\n",
              "   'output_no': 73,\n",
              "   'script': 'OP_DUP OP_HASH160 144739367df0ff8d1c61d03704298d49cf93ef3f OP_EQUALVERIFY OP_CHECKSIG',\n",
              "   'type': 'pubkeyhash',\n",
              "   'value': '5.81201619'},\n",
              "  {'address': 'D6zKNnkupqRbkB9p5rwix8QiobQWJazjyX',\n",
              "   'output_no': 74,\n",
              "   'script': 'OP_DUP OP_HASH160 144739367df0ff8d1c61d03704298d49cf93ef3f OP_EQUALVERIFY OP_CHECKSIG',\n",
              "   'type': 'pubkeyhash',\n",
              "   'value': '5.81201619'},\n",
              "  {'address': 'D6zKNnkupqRbkB9p5rwix8QiobQWJazjyX',\n",
              "   'output_no': 75,\n",
              "   'script': 'OP_DUP OP_HASH160 144739367df0ff8d1c61d03704298d49cf93ef3f OP_EQUALVERIFY OP_CHECKSIG',\n",
              "   'type': 'pubkeyhash',\n",
              "   'value': '5.81201619'},\n",
              "  {'address': 'D6zKNnkupqRbkB9p5rwix8QiobQWJazjyX',\n",
              "   'output_no': 76,\n",
              "   'script': 'OP_DUP OP_HASH160 144739367df0ff8d1c61d03704298d49cf93ef3f OP_EQUALVERIFY OP_CHECKSIG',\n",
              "   'type': 'pubkeyhash',\n",
              "   'value': '5.81201619'},\n",
              "  {'address': 'D6zKNnkupqRbkB9p5rwix8QiobQWJazjyX',\n",
              "   'output_no': 77,\n",
              "   'script': 'OP_DUP OP_HASH160 144739367df0ff8d1c61d03704298d49cf93ef3f OP_EQUALVERIFY OP_CHECKSIG',\n",
              "   'type': 'pubkeyhash',\n",
              "   'value': '5.81201619'},\n",
              "  {'address': 'D6zKNnkupqRbkB9p5rwix8QiobQWJazjyX',\n",
              "   'output_no': 78,\n",
              "   'script': 'OP_DUP OP_HASH160 144739367df0ff8d1c61d03704298d49cf93ef3f OP_EQUALVERIFY OP_CHECKSIG',\n",
              "   'type': 'pubkeyhash',\n",
              "   'value': '5.81201619'},\n",
              "  {'address': 'D6zKNnkupqRbkB9p5rwix8QiobQWJazjyX',\n",
              "   'output_no': 79,\n",
              "   'script': 'OP_DUP OP_HASH160 144739367df0ff8d1c61d03704298d49cf93ef3f OP_EQUALVERIFY OP_CHECKSIG',\n",
              "   'type': 'pubkeyhash',\n",
              "   'value': '5.81201619'},\n",
              "  {'address': 'D6zKNnkupqRbkB9p5rwix8QiobQWJazjyX',\n",
              "   'output_no': 80,\n",
              "   'script': 'OP_DUP OP_HASH160 144739367df0ff8d1c61d03704298d49cf93ef3f OP_EQUALVERIFY OP_CHECKSIG',\n",
              "   'type': 'pubkeyhash',\n",
              "   'value': '5.81201619'},\n",
              "  {'address': 'D6zKNnkupqRbkB9p5rwix8QiobQWJazjyX',\n",
              "   'output_no': 81,\n",
              "   'script': 'OP_DUP OP_HASH160 144739367df0ff8d1c61d03704298d49cf93ef3f OP_EQUALVERIFY OP_CHECKSIG',\n",
              "   'type': 'pubkeyhash',\n",
              "   'value': '5.81201619'},\n",
              "  {'address': 'D6zKNnkupqRbkB9p5rwix8QiobQWJazjyX',\n",
              "   'output_no': 82,\n",
              "   'script': 'OP_DUP OP_HASH160 144739367df0ff8d1c61d03704298d49cf93ef3f OP_EQUALVERIFY OP_CHECKSIG',\n",
              "   'type': 'pubkeyhash',\n",
              "   'value': '5.81201619'},\n",
              "  {'address': 'D6zKNnkupqRbkB9p5rwix8QiobQWJazjyX',\n",
              "   'output_no': 83,\n",
              "   'script': 'OP_DUP OP_HASH160 144739367df0ff8d1c61d03704298d49cf93ef3f OP_EQUALVERIFY OP_CHECKSIG',\n",
              "   'type': 'pubkeyhash',\n",
              "   'value': '5.81201619'},\n",
              "  {'address': 'D6zKNnkupqRbkB9p5rwix8QiobQWJazjyX',\n",
              "   'output_no': 84,\n",
              "   'script': 'OP_DUP OP_HASH160 144739367df0ff8d1c61d03704298d49cf93ef3f OP_EQUALVERIFY OP_CHECKSIG',\n",
              "   'type': 'pubkeyhash',\n",
              "   'value': '5.81201619'},\n",
              "  {'address': 'D6zKNnkupqRbkB9p5rwix8QiobQWJazjyX',\n",
              "   'output_no': 85,\n",
              "   'script': 'OP_DUP OP_HASH160 144739367df0ff8d1c61d03704298d49cf93ef3f OP_EQUALVERIFY OP_CHECKSIG',\n",
              "   'type': 'pubkeyhash',\n",
              "   'value': '5.81201619'},\n",
              "  {'address': 'D6zKNnkupqRbkB9p5rwix8QiobQWJazjyX',\n",
              "   'output_no': 86,\n",
              "   'script': 'OP_DUP OP_HASH160 144739367df0ff8d1c61d03704298d49cf93ef3f OP_EQUALVERIFY OP_CHECKSIG',\n",
              "   'type': 'pubkeyhash',\n",
              "   'value': '5.81201619'},\n",
              "  {'address': 'D6zKNnkupqRbkB9p5rwix8QiobQWJazjyX',\n",
              "   'output_no': 87,\n",
              "   'script': 'OP_DUP OP_HASH160 144739367df0ff8d1c61d03704298d49cf93ef3f OP_EQUALVERIFY OP_CHECKSIG',\n",
              "   'type': 'pubkeyhash',\n",
              "   'value': '5.81201619'},\n",
              "  {'address': 'D6zKNnkupqRbkB9p5rwix8QiobQWJazjyX',\n",
              "   'output_no': 88,\n",
              "   'script': 'OP_DUP OP_HASH160 144739367df0ff8d1c61d03704298d49cf93ef3f OP_EQUALVERIFY OP_CHECKSIG',\n",
              "   'type': 'pubkeyhash',\n",
              "   'value': '5.81201619'},\n",
              "  {'address': 'D6zKNnkupqRbkB9p5rwix8QiobQWJazjyX',\n",
              "   'output_no': 89,\n",
              "   'script': 'OP_DUP OP_HASH160 144739367df0ff8d1c61d03704298d49cf93ef3f OP_EQUALVERIFY OP_CHECKSIG',\n",
              "   'type': 'pubkeyhash',\n",
              "   'value': '5.81201619'},\n",
              "  {'address': 'D6zKNnkupqRbkB9p5rwix8QiobQWJazjyX',\n",
              "   'output_no': 90,\n",
              "   'script': 'OP_DUP OP_HASH160 144739367df0ff8d1c61d03704298d49cf93ef3f OP_EQUALVERIFY OP_CHECKSIG',\n",
              "   'type': 'pubkeyhash',\n",
              "   'value': '5.81201619'},\n",
              "  {'address': 'D6zKNnkupqRbkB9p5rwix8QiobQWJazjyX',\n",
              "   'output_no': 91,\n",
              "   'script': 'OP_DUP OP_HASH160 144739367df0ff8d1c61d03704298d49cf93ef3f OP_EQUALVERIFY OP_CHECKSIG',\n",
              "   'type': 'pubkeyhash',\n",
              "   'value': '5.81201619'},\n",
              "  {'address': 'D6zKNnkupqRbkB9p5rwix8QiobQWJazjyX',\n",
              "   'output_no': 92,\n",
              "   'script': 'OP_DUP OP_HASH160 144739367df0ff8d1c61d03704298d49cf93ef3f OP_EQUALVERIFY OP_CHECKSIG',\n",
              "   'type': 'pubkeyhash',\n",
              "   'value': '5.81201619'},\n",
              "  {'address': 'D6zKNnkupqRbkB9p5rwix8QiobQWJazjyX',\n",
              "   'output_no': 93,\n",
              "   'script': 'OP_DUP OP_HASH160 144739367df0ff8d1c61d03704298d49cf93ef3f OP_EQUALVERIFY OP_CHECKSIG',\n",
              "   'type': 'pubkeyhash',\n",
              "   'value': '5.81201619'},\n",
              "  {'address': 'D6zKNnkupqRbkB9p5rwix8QiobQWJazjyX',\n",
              "   'output_no': 94,\n",
              "   'script': 'OP_DUP OP_HASH160 144739367df0ff8d1c61d03704298d49cf93ef3f OP_EQUALVERIFY OP_CHECKSIG',\n",
              "   'type': 'pubkeyhash',\n",
              "   'value': '5.81201619'},\n",
              "  {'address': 'D6zKNnkupqRbkB9p5rwix8QiobQWJazjyX',\n",
              "   'output_no': 95,\n",
              "   'script': 'OP_DUP OP_HASH160 144739367df0ff8d1c61d03704298d49cf93ef3f OP_EQUALVERIFY OP_CHECKSIG',\n",
              "   'type': 'pubkeyhash',\n",
              "   'value': '5.81201619'},\n",
              "  {'address': 'D6zKNnkupqRbkB9p5rwix8QiobQWJazjyX',\n",
              "   'output_no': 96,\n",
              "   'script': 'OP_DUP OP_HASH160 144739367df0ff8d1c61d03704298d49cf93ef3f OP_EQUALVERIFY OP_CHECKSIG',\n",
              "   'type': 'pubkeyhash',\n",
              "   'value': '5.81201619'}],\n",
              " 'size': 9415,\n",
              " 'time': 1652540671,\n",
              " 'tx_hex': '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',\n",
              " 'txid': 'a01e8625d653f4a8686b5b9e20ca653e59ebcd8bf2ca2a7b8370fdc52417f7b9',\n",
              " 'version': 1,\n",
              " 'vsize': 9415}"
            ]
          },
          "metadata": {},
          "execution_count": 78
        }
      ]
    },
    {
      "cell_type": "code",
      "source": [
        "#UTXO set\n",
        "sparkle_unspents=only_conf( doge.unspent(addr) )\n",
        "sparkle_unspents"
      ],
      "metadata": {
        "colab": {
          "base_uri": "https://localhost:8080/"
        },
        "id": "f7_3zSOzWa5f",
        "outputId": "3a519816-c123-49a9-f5ba-41f2e6822efe"
      },
      "execution_count": null,
      "outputs": [
        {
          "output_type": "execute_result",
          "data": {
            "text/plain": [
              "[{'output': 'a01e8625d653f4a8686b5b9e20ca653e59ebcd8bf2ca2a7b8370fdc52417f7b9:0',\n",
              "  'value': 581201619},\n",
              " {'output': 'a01e8625d653f4a8686b5b9e20ca653e59ebcd8bf2ca2a7b8370fdc52417f7b9:1',\n",
              "  'value': 581201619},\n",
              " {'output': 'a01e8625d653f4a8686b5b9e20ca653e59ebcd8bf2ca2a7b8370fdc52417f7b9:2',\n",
              "  'value': 581201619},\n",
              " {'output': 'a01e8625d653f4a8686b5b9e20ca653e59ebcd8bf2ca2a7b8370fdc52417f7b9:3',\n",
              "  'value': 581201619},\n",
              " {'output': 'a01e8625d653f4a8686b5b9e20ca653e59ebcd8bf2ca2a7b8370fdc52417f7b9:4',\n",
              "  'value': 581201619},\n",
              " {'output': 'a01e8625d653f4a8686b5b9e20ca653e59ebcd8bf2ca2a7b8370fdc52417f7b9:5',\n",
              "  'value': 581201619},\n",
              " {'output': 'a01e8625d653f4a8686b5b9e20ca653e59ebcd8bf2ca2a7b8370fdc52417f7b9:6',\n",
              "  'value': 581201619},\n",
              " {'output': 'a01e8625d653f4a8686b5b9e20ca653e59ebcd8bf2ca2a7b8370fdc52417f7b9:7',\n",
              "  'value': 581201619},\n",
              " {'output': 'a01e8625d653f4a8686b5b9e20ca653e59ebcd8bf2ca2a7b8370fdc52417f7b9:8',\n",
              "  'value': 581201619},\n",
              " {'output': 'a01e8625d653f4a8686b5b9e20ca653e59ebcd8bf2ca2a7b8370fdc52417f7b9:9',\n",
              "  'value': 581201619},\n",
              " {'output': 'a01e8625d653f4a8686b5b9e20ca653e59ebcd8bf2ca2a7b8370fdc52417f7b9:10',\n",
              "  'value': 581201619},\n",
              " {'output': 'a01e8625d653f4a8686b5b9e20ca653e59ebcd8bf2ca2a7b8370fdc52417f7b9:11',\n",
              "  'value': 581201619},\n",
              " {'output': 'a01e8625d653f4a8686b5b9e20ca653e59ebcd8bf2ca2a7b8370fdc52417f7b9:12',\n",
              "  'value': 581201619},\n",
              " {'output': 'a01e8625d653f4a8686b5b9e20ca653e59ebcd8bf2ca2a7b8370fdc52417f7b9:13',\n",
              "  'value': 581201619},\n",
              " {'output': 'a01e8625d653f4a8686b5b9e20ca653e59ebcd8bf2ca2a7b8370fdc52417f7b9:14',\n",
              "  'value': 581201619},\n",
              " {'output': 'a01e8625d653f4a8686b5b9e20ca653e59ebcd8bf2ca2a7b8370fdc52417f7b9:15',\n",
              "  'value': 581201619},\n",
              " {'output': 'a01e8625d653f4a8686b5b9e20ca653e59ebcd8bf2ca2a7b8370fdc52417f7b9:16',\n",
              "  'value': 581201619},\n",
              " {'output': 'a01e8625d653f4a8686b5b9e20ca653e59ebcd8bf2ca2a7b8370fdc52417f7b9:17',\n",
              "  'value': 581201619},\n",
              " {'output': 'a01e8625d653f4a8686b5b9e20ca653e59ebcd8bf2ca2a7b8370fdc52417f7b9:18',\n",
              "  'value': 581201619},\n",
              " {'output': 'a01e8625d653f4a8686b5b9e20ca653e59ebcd8bf2ca2a7b8370fdc52417f7b9:19',\n",
              "  'value': 581201619},\n",
              " {'output': 'a01e8625d653f4a8686b5b9e20ca653e59ebcd8bf2ca2a7b8370fdc52417f7b9:20',\n",
              "  'value': 581201619},\n",
              " {'output': 'a01e8625d653f4a8686b5b9e20ca653e59ebcd8bf2ca2a7b8370fdc52417f7b9:21',\n",
              "  'value': 581201619},\n",
              " {'output': 'a01e8625d653f4a8686b5b9e20ca653e59ebcd8bf2ca2a7b8370fdc52417f7b9:22',\n",
              "  'value': 581201619},\n",
              " {'output': 'a01e8625d653f4a8686b5b9e20ca653e59ebcd8bf2ca2a7b8370fdc52417f7b9:23',\n",
              "  'value': 581201619},\n",
              " {'output': 'a01e8625d653f4a8686b5b9e20ca653e59ebcd8bf2ca2a7b8370fdc52417f7b9:24',\n",
              "  'value': 581201619},\n",
              " {'output': 'a01e8625d653f4a8686b5b9e20ca653e59ebcd8bf2ca2a7b8370fdc52417f7b9:25',\n",
              "  'value': 581201619},\n",
              " {'output': 'a01e8625d653f4a8686b5b9e20ca653e59ebcd8bf2ca2a7b8370fdc52417f7b9:26',\n",
              "  'value': 581201619},\n",
              " {'output': 'a01e8625d653f4a8686b5b9e20ca653e59ebcd8bf2ca2a7b8370fdc52417f7b9:27',\n",
              "  'value': 581201619},\n",
              " {'output': 'a01e8625d653f4a8686b5b9e20ca653e59ebcd8bf2ca2a7b8370fdc52417f7b9:28',\n",
              "  'value': 581201619},\n",
              " {'output': 'a01e8625d653f4a8686b5b9e20ca653e59ebcd8bf2ca2a7b8370fdc52417f7b9:29',\n",
              "  'value': 581201619},\n",
              " {'output': 'a01e8625d653f4a8686b5b9e20ca653e59ebcd8bf2ca2a7b8370fdc52417f7b9:30',\n",
              "  'value': 581201619},\n",
              " {'output': 'a01e8625d653f4a8686b5b9e20ca653e59ebcd8bf2ca2a7b8370fdc52417f7b9:31',\n",
              "  'value': 581201619},\n",
              " {'output': 'a01e8625d653f4a8686b5b9e20ca653e59ebcd8bf2ca2a7b8370fdc52417f7b9:32',\n",
              "  'value': 581201619},\n",
              " {'output': 'a01e8625d653f4a8686b5b9e20ca653e59ebcd8bf2ca2a7b8370fdc52417f7b9:33',\n",
              "  'value': 581201619},\n",
              " {'output': 'a01e8625d653f4a8686b5b9e20ca653e59ebcd8bf2ca2a7b8370fdc52417f7b9:34',\n",
              "  'value': 581201619},\n",
              " {'output': 'a01e8625d653f4a8686b5b9e20ca653e59ebcd8bf2ca2a7b8370fdc52417f7b9:35',\n",
              "  'value': 581201619},\n",
              " {'output': 'a01e8625d653f4a8686b5b9e20ca653e59ebcd8bf2ca2a7b8370fdc52417f7b9:36',\n",
              "  'value': 581201619},\n",
              " {'output': 'a01e8625d653f4a8686b5b9e20ca653e59ebcd8bf2ca2a7b8370fdc52417f7b9:37',\n",
              "  'value': 581201619},\n",
              " {'output': 'a01e8625d653f4a8686b5b9e20ca653e59ebcd8bf2ca2a7b8370fdc52417f7b9:38',\n",
              "  'value': 581201619},\n",
              " {'output': 'a01e8625d653f4a8686b5b9e20ca653e59ebcd8bf2ca2a7b8370fdc52417f7b9:39',\n",
              "  'value': 581201619},\n",
              " {'output': 'a01e8625d653f4a8686b5b9e20ca653e59ebcd8bf2ca2a7b8370fdc52417f7b9:40',\n",
              "  'value': 581201619},\n",
              " {'output': 'a01e8625d653f4a8686b5b9e20ca653e59ebcd8bf2ca2a7b8370fdc52417f7b9:41',\n",
              "  'value': 581201619},\n",
              " {'output': 'a01e8625d653f4a8686b5b9e20ca653e59ebcd8bf2ca2a7b8370fdc52417f7b9:42',\n",
              "  'value': 581201619},\n",
              " {'output': 'a01e8625d653f4a8686b5b9e20ca653e59ebcd8bf2ca2a7b8370fdc52417f7b9:43',\n",
              "  'value': 581201619},\n",
              " {'output': 'a01e8625d653f4a8686b5b9e20ca653e59ebcd8bf2ca2a7b8370fdc52417f7b9:44',\n",
              "  'value': 581201619},\n",
              " {'output': 'a01e8625d653f4a8686b5b9e20ca653e59ebcd8bf2ca2a7b8370fdc52417f7b9:45',\n",
              "  'value': 581201619},\n",
              " {'output': 'a01e8625d653f4a8686b5b9e20ca653e59ebcd8bf2ca2a7b8370fdc52417f7b9:46',\n",
              "  'value': 581201619},\n",
              " {'output': 'a01e8625d653f4a8686b5b9e20ca653e59ebcd8bf2ca2a7b8370fdc52417f7b9:47',\n",
              "  'value': 581201619},\n",
              " {'output': 'a01e8625d653f4a8686b5b9e20ca653e59ebcd8bf2ca2a7b8370fdc52417f7b9:48',\n",
              "  'value': 581201619},\n",
              " {'output': 'a01e8625d653f4a8686b5b9e20ca653e59ebcd8bf2ca2a7b8370fdc52417f7b9:49',\n",
              "  'value': 581201619},\n",
              " {'output': 'a01e8625d653f4a8686b5b9e20ca653e59ebcd8bf2ca2a7b8370fdc52417f7b9:50',\n",
              "  'value': 581201619},\n",
              " {'output': 'a01e8625d653f4a8686b5b9e20ca653e59ebcd8bf2ca2a7b8370fdc52417f7b9:51',\n",
              "  'value': 581201619},\n",
              " {'output': 'a01e8625d653f4a8686b5b9e20ca653e59ebcd8bf2ca2a7b8370fdc52417f7b9:52',\n",
              "  'value': 581201619},\n",
              " {'output': 'a01e8625d653f4a8686b5b9e20ca653e59ebcd8bf2ca2a7b8370fdc52417f7b9:53',\n",
              "  'value': 581201619},\n",
              " {'output': 'a01e8625d653f4a8686b5b9e20ca653e59ebcd8bf2ca2a7b8370fdc52417f7b9:54',\n",
              "  'value': 581201619},\n",
              " {'output': 'a01e8625d653f4a8686b5b9e20ca653e59ebcd8bf2ca2a7b8370fdc52417f7b9:55',\n",
              "  'value': 581201619},\n",
              " {'output': 'a01e8625d653f4a8686b5b9e20ca653e59ebcd8bf2ca2a7b8370fdc52417f7b9:56',\n",
              "  'value': 581201619},\n",
              " {'output': 'a01e8625d653f4a8686b5b9e20ca653e59ebcd8bf2ca2a7b8370fdc52417f7b9:57',\n",
              "  'value': 581201619},\n",
              " {'output': 'a01e8625d653f4a8686b5b9e20ca653e59ebcd8bf2ca2a7b8370fdc52417f7b9:58',\n",
              "  'value': 581201619},\n",
              " {'output': 'a01e8625d653f4a8686b5b9e20ca653e59ebcd8bf2ca2a7b8370fdc52417f7b9:59',\n",
              "  'value': 581201619},\n",
              " {'output': 'a01e8625d653f4a8686b5b9e20ca653e59ebcd8bf2ca2a7b8370fdc52417f7b9:60',\n",
              "  'value': 581201619},\n",
              " {'output': 'a01e8625d653f4a8686b5b9e20ca653e59ebcd8bf2ca2a7b8370fdc52417f7b9:61',\n",
              "  'value': 581201619},\n",
              " {'output': 'a01e8625d653f4a8686b5b9e20ca653e59ebcd8bf2ca2a7b8370fdc52417f7b9:62',\n",
              "  'value': 581201619},\n",
              " {'output': 'a01e8625d653f4a8686b5b9e20ca653e59ebcd8bf2ca2a7b8370fdc52417f7b9:63',\n",
              "  'value': 581201619},\n",
              " {'output': 'a01e8625d653f4a8686b5b9e20ca653e59ebcd8bf2ca2a7b8370fdc52417f7b9:64',\n",
              "  'value': 581201619},\n",
              " {'output': 'a01e8625d653f4a8686b5b9e20ca653e59ebcd8bf2ca2a7b8370fdc52417f7b9:65',\n",
              "  'value': 581201619},\n",
              " {'output': 'a01e8625d653f4a8686b5b9e20ca653e59ebcd8bf2ca2a7b8370fdc52417f7b9:66',\n",
              "  'value': 581201619},\n",
              " {'output': 'a01e8625d653f4a8686b5b9e20ca653e59ebcd8bf2ca2a7b8370fdc52417f7b9:67',\n",
              "  'value': 581201619},\n",
              " {'output': 'a01e8625d653f4a8686b5b9e20ca653e59ebcd8bf2ca2a7b8370fdc52417f7b9:68',\n",
              "  'value': 581201619},\n",
              " {'output': 'a01e8625d653f4a8686b5b9e20ca653e59ebcd8bf2ca2a7b8370fdc52417f7b9:69',\n",
              "  'value': 581201619},\n",
              " {'output': 'a01e8625d653f4a8686b5b9e20ca653e59ebcd8bf2ca2a7b8370fdc52417f7b9:70',\n",
              "  'value': 581201619},\n",
              " {'output': 'a01e8625d653f4a8686b5b9e20ca653e59ebcd8bf2ca2a7b8370fdc52417f7b9:71',\n",
              "  'value': 581201619},\n",
              " {'output': 'a01e8625d653f4a8686b5b9e20ca653e59ebcd8bf2ca2a7b8370fdc52417f7b9:72',\n",
              "  'value': 581201619},\n",
              " {'output': 'a01e8625d653f4a8686b5b9e20ca653e59ebcd8bf2ca2a7b8370fdc52417f7b9:73',\n",
              "  'value': 581201619},\n",
              " {'output': 'a01e8625d653f4a8686b5b9e20ca653e59ebcd8bf2ca2a7b8370fdc52417f7b9:74',\n",
              "  'value': 581201619},\n",
              " {'output': 'a01e8625d653f4a8686b5b9e20ca653e59ebcd8bf2ca2a7b8370fdc52417f7b9:75',\n",
              "  'value': 581201619},\n",
              " {'output': 'a01e8625d653f4a8686b5b9e20ca653e59ebcd8bf2ca2a7b8370fdc52417f7b9:76',\n",
              "  'value': 581201619},\n",
              " {'output': 'a01e8625d653f4a8686b5b9e20ca653e59ebcd8bf2ca2a7b8370fdc52417f7b9:77',\n",
              "  'value': 581201619},\n",
              " {'output': 'a01e8625d653f4a8686b5b9e20ca653e59ebcd8bf2ca2a7b8370fdc52417f7b9:78',\n",
              "  'value': 581201619},\n",
              " {'output': 'a01e8625d653f4a8686b5b9e20ca653e59ebcd8bf2ca2a7b8370fdc52417f7b9:79',\n",
              "  'value': 581201619},\n",
              " {'output': 'a01e8625d653f4a8686b5b9e20ca653e59ebcd8bf2ca2a7b8370fdc52417f7b9:80',\n",
              "  'value': 581201619},\n",
              " {'output': 'a01e8625d653f4a8686b5b9e20ca653e59ebcd8bf2ca2a7b8370fdc52417f7b9:81',\n",
              "  'value': 581201619},\n",
              " {'output': 'a01e8625d653f4a8686b5b9e20ca653e59ebcd8bf2ca2a7b8370fdc52417f7b9:82',\n",
              "  'value': 581201619},\n",
              " {'output': 'a01e8625d653f4a8686b5b9e20ca653e59ebcd8bf2ca2a7b8370fdc52417f7b9:83',\n",
              "  'value': 581201619},\n",
              " {'output': 'a01e8625d653f4a8686b5b9e20ca653e59ebcd8bf2ca2a7b8370fdc52417f7b9:84',\n",
              "  'value': 581201619},\n",
              " {'output': 'a01e8625d653f4a8686b5b9e20ca653e59ebcd8bf2ca2a7b8370fdc52417f7b9:85',\n",
              "  'value': 581201619},\n",
              " {'output': 'a01e8625d653f4a8686b5b9e20ca653e59ebcd8bf2ca2a7b8370fdc52417f7b9:86',\n",
              "  'value': 581201619},\n",
              " {'output': 'a01e8625d653f4a8686b5b9e20ca653e59ebcd8bf2ca2a7b8370fdc52417f7b9:87',\n",
              "  'value': 581201619},\n",
              " {'output': 'a01e8625d653f4a8686b5b9e20ca653e59ebcd8bf2ca2a7b8370fdc52417f7b9:88',\n",
              "  'value': 581201619},\n",
              " {'output': 'a01e8625d653f4a8686b5b9e20ca653e59ebcd8bf2ca2a7b8370fdc52417f7b9:89',\n",
              "  'value': 581201619},\n",
              " {'output': 'a01e8625d653f4a8686b5b9e20ca653e59ebcd8bf2ca2a7b8370fdc52417f7b9:90',\n",
              "  'value': 581201619},\n",
              " {'output': 'a01e8625d653f4a8686b5b9e20ca653e59ebcd8bf2ca2a7b8370fdc52417f7b9:91',\n",
              "  'value': 581201619},\n",
              " {'output': 'a01e8625d653f4a8686b5b9e20ca653e59ebcd8bf2ca2a7b8370fdc52417f7b9:92',\n",
              "  'value': 581201619},\n",
              " {'output': 'a01e8625d653f4a8686b5b9e20ca653e59ebcd8bf2ca2a7b8370fdc52417f7b9:93',\n",
              "  'value': 581201619},\n",
              " {'output': 'a01e8625d653f4a8686b5b9e20ca653e59ebcd8bf2ca2a7b8370fdc52417f7b9:94',\n",
              "  'value': 581201619},\n",
              " {'output': 'a01e8625d653f4a8686b5b9e20ca653e59ebcd8bf2ca2a7b8370fdc52417f7b9:95',\n",
              "  'value': 581201619},\n",
              " {'output': 'a01e8625d653f4a8686b5b9e20ca653e59ebcd8bf2ca2a7b8370fdc52417f7b9:96',\n",
              "  'value': 581201619}]"
            ]
          },
          "metadata": {},
          "execution_count": 80
        }
      ]
    },
    {
      "cell_type": "code",
      "source": [
        "len(sparkle_unspents)"
      ],
      "metadata": {
        "id": "W7HfG-KLHwXo",
        "outputId": "8d89fdf4-910a-437b-c3f6-eff39415a3c8",
        "colab": {
          "base_uri": "https://localhost:8080/"
        }
      },
      "execution_count": null,
      "outputs": [
        {
          "output_type": "execute_result",
          "data": {
            "text/plain": [
              "97"
            ]
          },
          "metadata": {},
          "execution_count": 81
        }
      ]
    },
    {
      "cell_type": "code",
      "source": [
        "input_monolists=[ [elem] for elem in sparkle_unspents]"
      ],
      "metadata": {
        "id": "jWsw8FwjW7-R"
      },
      "execution_count": null,
      "outputs": []
    },
    {
      "cell_type": "markdown",
      "source": [
        "# Send 32*3 + 1 UTXOS from same txn back to self\n",
        "\n",
        "# Create list of transactions each containing op_return"
      ],
      "metadata": {
        "id": "zrocheeX_TfK"
      }
    },
    {
      "cell_type": "code",
      "source": [
        "write_tip=1_37_000_000\n",
        "outputs=[ [{'value':elem['value']-write_tip , 'address': addr}] for elem in sparkle_unspents]"
      ],
      "metadata": {
        "id": "va9YuOSTXVYK"
      },
      "execution_count": null,
      "outputs": []
    },
    {
      "cell_type": "code",
      "source": [
        "outputs"
      ],
      "metadata": {
        "colab": {
          "base_uri": "https://localhost:8080/"
        },
        "id": "CWR_bruJZB8J",
        "outputId": "0f88d24d-a4d5-42c9-c7e2-a275f8d9b1c5"
      },
      "execution_count": null,
      "outputs": [
        {
          "output_type": "execute_result",
          "data": {
            "text/plain": [
              "[[{'address': 'D6zKNnkupqRbkB9p5rwix8QiobQWJazjyX', 'value': 444201619}],\n",
              " [{'address': 'D6zKNnkupqRbkB9p5rwix8QiobQWJazjyX', 'value': 444201619}],\n",
              " [{'address': 'D6zKNnkupqRbkB9p5rwix8QiobQWJazjyX', 'value': 444201619}],\n",
              " [{'address': 'D6zKNnkupqRbkB9p5rwix8QiobQWJazjyX', 'value': 444201619}],\n",
              " [{'address': 'D6zKNnkupqRbkB9p5rwix8QiobQWJazjyX', 'value': 444201619}],\n",
              " [{'address': 'D6zKNnkupqRbkB9p5rwix8QiobQWJazjyX', 'value': 444201619}],\n",
              " [{'address': 'D6zKNnkupqRbkB9p5rwix8QiobQWJazjyX', 'value': 444201619}],\n",
              " [{'address': 'D6zKNnkupqRbkB9p5rwix8QiobQWJazjyX', 'value': 444201619}],\n",
              " [{'address': 'D6zKNnkupqRbkB9p5rwix8QiobQWJazjyX', 'value': 444201619}],\n",
              " [{'address': 'D6zKNnkupqRbkB9p5rwix8QiobQWJazjyX', 'value': 444201619}],\n",
              " [{'address': 'D6zKNnkupqRbkB9p5rwix8QiobQWJazjyX', 'value': 444201619}],\n",
              " [{'address': 'D6zKNnkupqRbkB9p5rwix8QiobQWJazjyX', 'value': 444201619}],\n",
              " [{'address': 'D6zKNnkupqRbkB9p5rwix8QiobQWJazjyX', 'value': 444201619}],\n",
              " [{'address': 'D6zKNnkupqRbkB9p5rwix8QiobQWJazjyX', 'value': 444201619}],\n",
              " [{'address': 'D6zKNnkupqRbkB9p5rwix8QiobQWJazjyX', 'value': 444201619}],\n",
              " [{'address': 'D6zKNnkupqRbkB9p5rwix8QiobQWJazjyX', 'value': 444201619}],\n",
              " [{'address': 'D6zKNnkupqRbkB9p5rwix8QiobQWJazjyX', 'value': 444201619}],\n",
              " [{'address': 'D6zKNnkupqRbkB9p5rwix8QiobQWJazjyX', 'value': 444201619}],\n",
              " [{'address': 'D6zKNnkupqRbkB9p5rwix8QiobQWJazjyX', 'value': 444201619}],\n",
              " [{'address': 'D6zKNnkupqRbkB9p5rwix8QiobQWJazjyX', 'value': 444201619}],\n",
              " [{'address': 'D6zKNnkupqRbkB9p5rwix8QiobQWJazjyX', 'value': 444201619}],\n",
              " [{'address': 'D6zKNnkupqRbkB9p5rwix8QiobQWJazjyX', 'value': 444201619}],\n",
              " [{'address': 'D6zKNnkupqRbkB9p5rwix8QiobQWJazjyX', 'value': 444201619}],\n",
              " [{'address': 'D6zKNnkupqRbkB9p5rwix8QiobQWJazjyX', 'value': 444201619}],\n",
              " [{'address': 'D6zKNnkupqRbkB9p5rwix8QiobQWJazjyX', 'value': 444201619}],\n",
              " [{'address': 'D6zKNnkupqRbkB9p5rwix8QiobQWJazjyX', 'value': 444201619}],\n",
              " [{'address': 'D6zKNnkupqRbkB9p5rwix8QiobQWJazjyX', 'value': 444201619}],\n",
              " [{'address': 'D6zKNnkupqRbkB9p5rwix8QiobQWJazjyX', 'value': 444201619}],\n",
              " [{'address': 'D6zKNnkupqRbkB9p5rwix8QiobQWJazjyX', 'value': 444201619}],\n",
              " [{'address': 'D6zKNnkupqRbkB9p5rwix8QiobQWJazjyX', 'value': 444201619}],\n",
              " [{'address': 'D6zKNnkupqRbkB9p5rwix8QiobQWJazjyX', 'value': 444201619}],\n",
              " [{'address': 'D6zKNnkupqRbkB9p5rwix8QiobQWJazjyX', 'value': 444201619}],\n",
              " [{'address': 'D6zKNnkupqRbkB9p5rwix8QiobQWJazjyX', 'value': 444201619}],\n",
              " [{'address': 'D6zKNnkupqRbkB9p5rwix8QiobQWJazjyX', 'value': 444201619}],\n",
              " [{'address': 'D6zKNnkupqRbkB9p5rwix8QiobQWJazjyX', 'value': 444201619}],\n",
              " [{'address': 'D6zKNnkupqRbkB9p5rwix8QiobQWJazjyX', 'value': 444201619}],\n",
              " [{'address': 'D6zKNnkupqRbkB9p5rwix8QiobQWJazjyX', 'value': 444201619}],\n",
              " [{'address': 'D6zKNnkupqRbkB9p5rwix8QiobQWJazjyX', 'value': 444201619}],\n",
              " [{'address': 'D6zKNnkupqRbkB9p5rwix8QiobQWJazjyX', 'value': 444201619}],\n",
              " [{'address': 'D6zKNnkupqRbkB9p5rwix8QiobQWJazjyX', 'value': 444201619}],\n",
              " [{'address': 'D6zKNnkupqRbkB9p5rwix8QiobQWJazjyX', 'value': 444201619}],\n",
              " [{'address': 'D6zKNnkupqRbkB9p5rwix8QiobQWJazjyX', 'value': 444201619}],\n",
              " [{'address': 'D6zKNnkupqRbkB9p5rwix8QiobQWJazjyX', 'value': 444201619}],\n",
              " [{'address': 'D6zKNnkupqRbkB9p5rwix8QiobQWJazjyX', 'value': 444201619}],\n",
              " [{'address': 'D6zKNnkupqRbkB9p5rwix8QiobQWJazjyX', 'value': 444201619}],\n",
              " [{'address': 'D6zKNnkupqRbkB9p5rwix8QiobQWJazjyX', 'value': 444201619}],\n",
              " [{'address': 'D6zKNnkupqRbkB9p5rwix8QiobQWJazjyX', 'value': 444201619}],\n",
              " [{'address': 'D6zKNnkupqRbkB9p5rwix8QiobQWJazjyX', 'value': 444201619}],\n",
              " [{'address': 'D6zKNnkupqRbkB9p5rwix8QiobQWJazjyX', 'value': 444201619}],\n",
              " [{'address': 'D6zKNnkupqRbkB9p5rwix8QiobQWJazjyX', 'value': 444201619}],\n",
              " [{'address': 'D6zKNnkupqRbkB9p5rwix8QiobQWJazjyX', 'value': 444201619}],\n",
              " [{'address': 'D6zKNnkupqRbkB9p5rwix8QiobQWJazjyX', 'value': 444201619}],\n",
              " [{'address': 'D6zKNnkupqRbkB9p5rwix8QiobQWJazjyX', 'value': 444201619}],\n",
              " [{'address': 'D6zKNnkupqRbkB9p5rwix8QiobQWJazjyX', 'value': 444201619}],\n",
              " [{'address': 'D6zKNnkupqRbkB9p5rwix8QiobQWJazjyX', 'value': 444201619}],\n",
              " [{'address': 'D6zKNnkupqRbkB9p5rwix8QiobQWJazjyX', 'value': 444201619}],\n",
              " [{'address': 'D6zKNnkupqRbkB9p5rwix8QiobQWJazjyX', 'value': 444201619}],\n",
              " [{'address': 'D6zKNnkupqRbkB9p5rwix8QiobQWJazjyX', 'value': 444201619}],\n",
              " [{'address': 'D6zKNnkupqRbkB9p5rwix8QiobQWJazjyX', 'value': 444201619}],\n",
              " [{'address': 'D6zKNnkupqRbkB9p5rwix8QiobQWJazjyX', 'value': 444201619}],\n",
              " [{'address': 'D6zKNnkupqRbkB9p5rwix8QiobQWJazjyX', 'value': 444201619}],\n",
              " [{'address': 'D6zKNnkupqRbkB9p5rwix8QiobQWJazjyX', 'value': 444201619}],\n",
              " [{'address': 'D6zKNnkupqRbkB9p5rwix8QiobQWJazjyX', 'value': 444201619}],\n",
              " [{'address': 'D6zKNnkupqRbkB9p5rwix8QiobQWJazjyX', 'value': 444201619}],\n",
              " [{'address': 'D6zKNnkupqRbkB9p5rwix8QiobQWJazjyX', 'value': 444201619}],\n",
              " [{'address': 'D6zKNnkupqRbkB9p5rwix8QiobQWJazjyX', 'value': 444201619}],\n",
              " [{'address': 'D6zKNnkupqRbkB9p5rwix8QiobQWJazjyX', 'value': 444201619}],\n",
              " [{'address': 'D6zKNnkupqRbkB9p5rwix8QiobQWJazjyX', 'value': 444201619}],\n",
              " [{'address': 'D6zKNnkupqRbkB9p5rwix8QiobQWJazjyX', 'value': 444201619}],\n",
              " [{'address': 'D6zKNnkupqRbkB9p5rwix8QiobQWJazjyX', 'value': 444201619}],\n",
              " [{'address': 'D6zKNnkupqRbkB9p5rwix8QiobQWJazjyX', 'value': 444201619}],\n",
              " [{'address': 'D6zKNnkupqRbkB9p5rwix8QiobQWJazjyX', 'value': 444201619}],\n",
              " [{'address': 'D6zKNnkupqRbkB9p5rwix8QiobQWJazjyX', 'value': 444201619}],\n",
              " [{'address': 'D6zKNnkupqRbkB9p5rwix8QiobQWJazjyX', 'value': 444201619}],\n",
              " [{'address': 'D6zKNnkupqRbkB9p5rwix8QiobQWJazjyX', 'value': 444201619}],\n",
              " [{'address': 'D6zKNnkupqRbkB9p5rwix8QiobQWJazjyX', 'value': 444201619}],\n",
              " [{'address': 'D6zKNnkupqRbkB9p5rwix8QiobQWJazjyX', 'value': 444201619}],\n",
              " [{'address': 'D6zKNnkupqRbkB9p5rwix8QiobQWJazjyX', 'value': 444201619}],\n",
              " [{'address': 'D6zKNnkupqRbkB9p5rwix8QiobQWJazjyX', 'value': 444201619}],\n",
              " [{'address': 'D6zKNnkupqRbkB9p5rwix8QiobQWJazjyX', 'value': 444201619}],\n",
              " [{'address': 'D6zKNnkupqRbkB9p5rwix8QiobQWJazjyX', 'value': 444201619}],\n",
              " [{'address': 'D6zKNnkupqRbkB9p5rwix8QiobQWJazjyX', 'value': 444201619}],\n",
              " [{'address': 'D6zKNnkupqRbkB9p5rwix8QiobQWJazjyX', 'value': 444201619}],\n",
              " [{'address': 'D6zKNnkupqRbkB9p5rwix8QiobQWJazjyX', 'value': 444201619}],\n",
              " [{'address': 'D6zKNnkupqRbkB9p5rwix8QiobQWJazjyX', 'value': 444201619}],\n",
              " [{'address': 'D6zKNnkupqRbkB9p5rwix8QiobQWJazjyX', 'value': 444201619}],\n",
              " [{'address': 'D6zKNnkupqRbkB9p5rwix8QiobQWJazjyX', 'value': 444201619}],\n",
              " [{'address': 'D6zKNnkupqRbkB9p5rwix8QiobQWJazjyX', 'value': 444201619}],\n",
              " [{'address': 'D6zKNnkupqRbkB9p5rwix8QiobQWJazjyX', 'value': 444201619}],\n",
              " [{'address': 'D6zKNnkupqRbkB9p5rwix8QiobQWJazjyX', 'value': 444201619}],\n",
              " [{'address': 'D6zKNnkupqRbkB9p5rwix8QiobQWJazjyX', 'value': 444201619}],\n",
              " [{'address': 'D6zKNnkupqRbkB9p5rwix8QiobQWJazjyX', 'value': 444201619}],\n",
              " [{'address': 'D6zKNnkupqRbkB9p5rwix8QiobQWJazjyX', 'value': 444201619}],\n",
              " [{'address': 'D6zKNnkupqRbkB9p5rwix8QiobQWJazjyX', 'value': 444201619}],\n",
              " [{'address': 'D6zKNnkupqRbkB9p5rwix8QiobQWJazjyX', 'value': 444201619}],\n",
              " [{'address': 'D6zKNnkupqRbkB9p5rwix8QiobQWJazjyX', 'value': 444201619}],\n",
              " [{'address': 'D6zKNnkupqRbkB9p5rwix8QiobQWJazjyX', 'value': 444201619}]]"
            ]
          },
          "metadata": {},
          "execution_count": 85
        }
      ]
    },
    {
      "cell_type": "code",
      "source": [
        ""
      ],
      "metadata": {
        "id": "oOxcnyEoaHQy"
      },
      "execution_count": null,
      "outputs": []
    },
    {
      "cell_type": "markdown",
      "source": [
        "        doge_serial_tx=cryptos.serialize(doge_tx)\n",
        "        doge_inscribed_serial_tx=mk_opreturn( op_return , doge_serial_tx)\n",
        "        doge_inscribed_tx=cryptos.deserialize(doge_inscribed_serial_tx)\n",
        "        doge_signed_inscribed_tx=doge.signall(doge_inscribed_tx,privkeyhex)\n",
        "        broadcast_doge_signed_inscribed_tx=doge.pushtx(doge_signed_inscribed_tx)"
      ],
      "metadata": {
        "id": "ZoLKLTRAaIMA"
      }
    },
    {
      "cell_type": "code",
      "source": [
        "txns=[ doge.mktx(input_monolists[i],outputs[i]) for i in range(len(package))]"
      ],
      "metadata": {
        "id": "OKdRi52wZDVT"
      },
      "execution_count": null,
      "outputs": []
    },
    {
      "cell_type": "code",
      "source": [
        "serial_txns=[cryptos.serialize(tx) for tx in txns]"
      ],
      "metadata": {
        "id": "coyyPLO1Z4Xo"
      },
      "execution_count": null,
      "outputs": []
    },
    {
      "cell_type": "code",
      "source": [
        "inscribed_serial_txs=[mk_opreturn( package[i] , serial_txns[i]) for i in range(len(package))]"
      ],
      "metadata": {
        "id": "4oP0KQqFaTD3"
      },
      "execution_count": null,
      "outputs": []
    },
    {
      "cell_type": "code",
      "source": [
        "1.37/len(inscribed_serial_txs[0])/2"
      ],
      "metadata": {
        "colab": {
          "base_uri": "https://localhost:8080/"
        },
        "id": "82IWQr4uMS3m",
        "outputId": "91a78ed2-ae24-49e5-dae0-48836a4ccde1"
      },
      "execution_count": null,
      "outputs": [
        {
          "output_type": "execute_result",
          "data": {
            "text/plain": [
              "0.0029273504273504276"
            ]
          },
          "metadata": {},
          "execution_count": 89
        }
      ]
    },
    {
      "cell_type": "code",
      "source": [
        "inscribed_serial_txs"
      ],
      "metadata": {
        "colab": {
          "base_uri": "https://localhost:8080/"
        },
        "id": "TjjbY7FBbEFs",
        "outputId": "3fadfa7d-9c96-4534-a3fd-8c659f9b5ec9"
      },
      "execution_count": null,
      "outputs": [
        {
          "output_type": "execute_result",
          "data": {
            "text/plain": [
              "['0100000001b9f71724c5fd70837b2acaf28bcdeb593e65ca209e5b6b68a8f453d625861ea00000000000ffffffff0293fa791a000000001976a914144739367df0ff8d1c61d03704298d49cf93ef3f88ac0000000000000000176a15c1dd000103ff01004000400550657465722042656100000000',\n",
              " '0100000001b9f71724c5fd70837b2acaf28bcdeb593e65ca209e5b6b68a8f453d625861ea00100000000ffffffff0293fa791a000000001976a914144739367df0ff8d1c61d03704298d49cf93ef3f88ac0000000000000000536a4c50841f28c230841ee7b9ce6b5cd639ad7b5af739ee73dce83df184230846108c6318c65294a529ce739d273a5294a52b4a56b5b56d6adad5b5eb6bdad7b5af5b5eb6bd6d7adaf5b5ed6c5af8e73bdef79d00000000',\n",
              " '0100000001b9f71724c5fd70837b2acaf28bcdeb593e65ca209e5b6b68a8f453d625861ea00200000000ffffffff0293fa791a000000001976a914144739367df0ff8d1c61d03704298d49cf93ef3f88ac0000000000000000536a4c50ef39ddf39ef7b18cd6d79d2b39d2b5b529594a7294a319423184630846108421083e0f7c1ef841ef8c1ef739ed6bdcd735ad631ac639ac735af735ee73dce83df07be0f7c6108c2118c6318ca529ce7300000000',\n",
              " '0100000001b9f71724c5fd70837b2acaf28bcdeb593e65ca209e5b6b68a8f453d625861ea00300000000ffffffff0293fa791a000000001976a914144739367df0ff8d1c61d03704298d49cf93ef3f88ac0000000000000000536a4c509ce739ce749ce94a5694adad7ad6d4adab5b56b6adaf6b5f18cdaf8adaf5ade95b5f19f7bdef7b7ce6b7be77bdef6d7c4e95a52b6b5e94aca5394a518c65295ad794a708421083df07be0f7c20f841ef00000000',\n",
              " '0100000001b9f71724c5fd70837b2acaf28bcdeb593e65ca209e5b6b68a8f453d625861ea00400000000ffffffff0293fa791a000000001976a914144739367df0ff8d1c61d03704298d49cf93ef3f88ac0000000000000000536a4c507358e6b1cd6bdad7358d631ac5b58c7358e6b5ee73dce7b9d07be0f7c1f084211842318ca5294a5294a529ca539ce75ad6f7c5ad7ad6d4a5694ad295a52b4ad73ad6f9cceb55b5eb5b6f9cffffffffde00000000',\n",
              " '0100000001b9f71724c5fd70837b2acaf28bcdeb593e65ca209e5b6b68a8f453d625861ea00500000000ffffffff0293fa791a000000001976a914144739367df0ff8d1c61d03704298d49cf93ef3f88ac0000000000000000536a4c50ff7bdf7bddefad6bce95c6739d6b18cd6b694a76b5bbdef39cc6335ad61083def7bdf07c20f7bdef7358e6b1cd639ac6b18d62d8b5b58c6b18e631cd6bdce7b9cf73a0f7c1ef83df1842528ca5194a5200000000',\n",
              " '0100000001b9f71724c5fd70837b2acaf28bcdeb593e65ca209e5b6b68a8f453d625861ea00600000000ffffffff0293fa791a000000001976a914144739367df0ff8d1c61d03704298d49cf93ef3f88ac0000000000000000536a4c5094a52956b5ad6d294eb5b6339c6313a5274a5294a5293a5294adaf7bdf1ad6fbdeffffffffffffdef77bdffffbdf294ad295df39ef7bdef739cdef7defb9ce7bdeef7b9ce6108bdef7bdef7bdef7bdef00000000',\n",
              " '0100000001b9f71724c5fd70837b2acaf28bcdeb593e65ca209e5b6b68a8f453d625861ea00700000000ffffffff0293fa791a000000001976a914144739367df0ff8d1c61d03704298d49cf93ef3f88ac0000000000000000536a4c507316e631cd6398c6b16c5ad8b5b16b6b16d631ac639ad739cf739ee73def83df18c6318c6318c6318c6318d6b5def79ce695ad294bdef6bde94ace74a52b5b5b5ad6b5be739ffffffffbdef7bdffffff00000000',\n",
              " '0100000001b9f71724c5fd70837b2acaf28bcdeb593e65ca209e5b6b68a8f453d625861ea00800000000ffffffff0293fa791a000000001976a914144739367df0ff8d1c61d03704298d49cf93ef3f88ac0000000000000000536a4c50ffbdef7bd8c6694a6739f7bbbdeb7bdf7bdf7bdce73bdf739dce734a52318d294a52b07bdef7bdef6ad4d5adac5b58b6b16c5ad8b5b16b62d6c5ad8b5b58c735ae6b5ce73dce8421184210846308c63100000000',\n",
              " '0100000001b9f71724c5fd70837b2acaf28bcdeb593e65ca209e5b6b68a8f453d625861ea00900000000ffffffff0293fa791a000000001976a914144739367df0ff8d1c61d03704298d49cf93ef3f88ac0000000000000000536a4c508c6318c63194a55ad739ce739b5ad9d6b39ceb5bf7bdfffffffffffffffdef7bdeffffef7bfffbfffffffef7b6bdf18c739cef7bbdefbdefffff7bdffffbdee318ad6b8c637bdf39cbdef18c61083def00000000',\n",
              " '0100000001b9f71724c5fd70837b2acaf28bcdeb593e65ca209e5b6b68a8f453d625861ea00a00000000ffffffff0293fa791a000000001976a914144739367df0ff8d1c61d03704298d49cf93ef3f88ac0000000000000000536a4c505a92b5258a5316a62d4c5ad8b5b16b5ad6b5ad8b5b16b6318d631cd6bdef841f083e0f7c2108c611842318c6318c63294a5295ef7e739def7def7bdeffffef7bdef7fffffffeffbdef7ffef7bdce73de00000000',\n",
              " '0100000001b9f71724c5fd70837b2acaf28bcdeb593e65ca209e5b6b68a8f453d625861ea00b00000000ffffffff0293fa791a000000001976a914144739367df0ff8d1c61d03704298d49cf93ef3f88ac0000000000000000536a4c50efffeef79ef77def7bddefbbce73ffffffffffdce735ad6f7be739ce77ffffbded6b56b5a94a4a31739ae6b1ac5c1cd839ae6318b5b16b5ad6b5296a5ad6b6316d631ce73def7bdef7be0f7c6109463000000000',\n",
              " '0100000001b9f71724c5fd70837b2acaf28bcdeb593e65ca209e5b6b68a8f453d625861ea00c00000000ffffffff0293fa791a000000001976a914144739367df0ff8d1c61d03704298d49cf93ef3f88ac0000000000000000536a4c508421084a52a5297bdf5ad77bdf7bdffffffffbdef7bddef339cf39bfffdef7bfff7fddfffdce6fdeeffddfffffffffffffffffffffffffffffff7bddef7fffffffffffffffffff39ce739bdef39cd69500000000',\n",
              " '0100000001b9f71724c5fd70837b2acaf28bcdeb593e65ca209e5b6b68a8f453d625861ea00d00000000ffffffff0293fa791a000000001976a914144739367df0ff8d1c61d03704298d49cf93ef3f88ac0000000000000000536a4c50946149cb17a66f4eef3cde717b460f62d6b5294a52d4a62d6d6b5ce739ce739ce73a108529494a54a4e739def7f7bdffffffffffeffffffffffffffffffffffb5ad6318def7ce73deefffdfffdff77ff00000000',\n",
              " '0100000001b9f71724c5fd70837b2acaf28bcdeb593e65ca209e5b6b68a8f453d625861ea00e00000000ffffffff0293fa791a000000001976a914144739367df0ff8d1c61d03704298d49cf93ef3f88ac0000000000000000536a4c50f7fddfffffffffffffffffffffffffffffffffffffffffffffffffffff9ce6738b5ad2949ef7bdce83dd6a4b99b6f36eef1fff3fff779aad28f7398c62d6b62d6d6b5ad6b5ad735af73a5296f7be739a00000000',\n",
              " '0100000001b9f71724c5fd70837b2acaf28bcdeb593e65ca209e5b6b68a8f453d625861ea00f00000000ffffffff0293fa791a000000001976a914144739367df0ff8d1c61d03704298d49cf93ef3f88ac0000000000000000536a4c50d6bbdef7bdffffffffffffbdcfffdffffffffffffffffffffffef7bdef7def7fffffdcffb7eeefffffbddffffffffddefbddfffdfffbffffffffffffffffffffffffffdef77bd527394a549ce52939ce00000000',\n",
              " '0100000001b9f71724c5fd70837b2acaf28bcdeb593e65ca209e5b6b68a8f453d625861ea01000000000ffffffff0293fa791a000000001976a914144739367df0ff8d1c61d03704298d49cf93ef3f88ac0000000000000000536a4c509ca38ace90735697317283b169ef57f7797b560f739cd7b9cf739cd6b58c6b5b0842b5aef7bfffffffffffffffffffffffffffffffffdfffbfff7ffffffffffffffffffffffffffffffbbbf733ef73ff00000000',\n",
              " '0100000001b9f71724c5fd70837b2acaf28bcdeb593e65ca209e5b6b68a8f453d625861ea01100000000ffffffff0293fa791a000000001976a914144739367df0ff8d1c61d03704298d49cf93ef3f88ac0000000000000000536a4c50ff7bbef37cdebbce7ffefffffffffffffffffffffffdef7fffffffef777bdeb59c6312949ce739adace369c20d5a9285210a4a5ab541cc941f6ad339bd272841ef735ef746308c611842528e739fffff00000000',\n",
              " '0100000001b9f71724c5fd70837b2acaf28bcdeb593e65ca209e5b6b68a8f453d625861ea01200000000ffffffff0293fa791a000000001976a914144739367df0ff8d1c61d03704298d49cf93ef3f88ac0000000000000000536a4c50ffffffffffffffffffffffffffffffffffff7ffeffbbfff7fffffffffffffffffff779e6afef73deeef59e6f3bd67bce7ffefffffffffffffffffffffffdeeffffffffffffdeeeb599ce6e739ce6b5ad00000000',\n",
              " '0100000001b9f71724c5fd70837b2acaf28bcdeb593e65ca209e5b6b68a8f453d625861ea01300000000ffffffff0293fa791a000000001976a914144739367df0ff8d1c61d03704298d49cf93ef3f88ac0000000000000000536a4c50a4a17a462e629085210a4a5494a9295a52d5aa0f7e717b5ab6b56318c1efad69bdefbdefbdefffffffffffffffffffffffffffffefffffffbfeefffdffb9de6bfee7ffdfffdfffffee7357de6dde6b9b00000000',\n",
              " '0100000001b9f71724c5fd70837b2acaf28bcdeb593e65ca209e5b6b68a8f453d625861ea01400000000ffffffff0293fa791a000000001976a914144739367df0ff8d1c61d03704298d49cf93ef3f88ac0000000000000000536a4c50cef59d671bde7fff7ffffffffffffffffffffffffffdde7bdeffffdef318bd29494a3083dce6b5ac839959c270729084a10a421694ad295212a4a56a52d6b94a3ad6bdff6738ad6bbdefffffffffffff00000000',\n",
              " '0100000001b9f71724c5fd70837b2acaf28bcdeb593e65ca209e5b6b68a8f453d625861ea01500000000ffffffff0293fa791a000000001976a914144739367df0ff8d1c61d03704298d49cf93ef3f88ac0000000000000000536a4c50ffffff7ffffffffffbfeefbbbf777de6bbcd7799f735dde77abf779f735ff73bcceb16d5e9cd5f7ac6b37d66fde6bbcd7bbcfffffffffffffddf7b9fffbffff7bcd6b59ce718c5ef6a5271841ad6b58c00000000',\n",
              " '0100000001b9f71724c5fd70837b2acaf28bcdeb593e65ca209e5b6b68a8f453d625861ea01600000000ffffffff0293fa791a000000001976a914144739367df0ff8d1c61d03704298d49cf93ef3f88ac0000000000000000536a4c507b1517322e5a9084a10a421694ad295a52a4a5694b14b8c61bdebfffffffffffffffffffffffffffffbbddf79bef77de6b79beb16d66dbcdb37aeb15cde99bd716a66d4de6dcd5f79b66f4c565ac5b5900000000',\n",
              " '0100000001b9f71724c5fd70837b2acaf28bcdeb593e65ca209e5b6b68a8f453d625861ea01700000000ffffffff0293fa791a000000001976a914144739367df0ff8d1c61d03704298d49cf93ef3f88ac0000000000000000536a4c50be716d62dbcdf7ac737ae6f5ce6b9bcf379f777ef73fff77bcdef5bdef7bd63178c20e735ad6b58c7314f6ae0e6292841ce94214842d295a52b4a5694b58c7b9d394759bf379e6f3de6bfff7ffff7bbc00000000',\n",
              " '0100000001b9f71724c5fd70837b2acaf28bcdeb593e65ca209e5b6b68a8f453d625861ea01800000000ffffffff0293fa791a000000001976a914144739367df0ff8d1c61d03704298d49cf93ef3f88ac0000000000000000536a4c50de759be2d4c5eb9bd716a5eb3ad257acef495671ace359c6b38d671c5a7ac57169e6f4b4e38b5316a62d4cdebacdb58b62f6ce2fbd6379bef37e6f3ce6f9ce77bcef7bbdeed6b4e7294a4f7bdac6318b00000000',\n",
              " '0100000001b9f71724c5fd70837b2acaf28bcdeb593e65ca209e5b6b68a8f453d625861ea01900000000ffffffff0293fa791a000000001976a914144739367df0ff8d1c61d03704298d49cf93ef3f88ac0000000000000000536a4c506ad4e62e2f6356a418e939d4842d295a52b4a5694b14a6b1738c2d495250ce2dde6bbcd779adeb1acdf38b62d4c5eb7aceb4952519c5f38be9284e2f941f38be717da71bd657acaf495eb3aca18b52f500000000',\n",
              " '0100000001b9f71724c5fd70837b2acaf28bcdeb593e65ca209e5b6b68a8f453d625861ea01a00000000ffffffff0293fa791a000000001976a914144739367df0ff8d1c61d03704298d49cf93ef3f88ac0000000000000000536a4c509deb2c5a98bd316a6716deb1bcdf59b6f57ef35ef73dde7bdcf7bbeffbfff739bb5ad083dad6316b6ad4e62a0e5c1cb41ce839d2842d295a52b4a5694b16a7b59283eb38da92ce2dacdf38b6716cdeb800000000',\n",
              " '0100000001b9f71724c5fd70837b2acaf28bcdeb593e65ca209e5b6b68a8f453d625861ea01b00000000ffffffff0293fa791a000000001976a914144739367df0ff8d1c61d03704298d49cf93ef3f88ac0000000000000000536a4c50b52f59d692b52559c67184a0f8bdd07364f745ee839b17ba507d650ace149429285692a4a16a4b16a5671b5258b4f37ae6f5cdeb8b5337a6b16deafbd63bcd7ffdfffdff77bde739bd6b339cdcd6b58c00000000',\n",
              " '0100000001b9f71724c5fd70837b2acaf28bcdeb593e65ca209e5b6b68a8f453d625861ea01c00000000ffffffff0293fa791a000000001976a914144739367df0ff8d1c61d03704298d49cf93ef3f88ac0000000000000000536a4c505a92d5a5ed5ce0e5210731d073a5085a50b4a1694b1497b5938c2b38deb4c5ab8bd717ae2f5b56759c67284a0e8bdd17ba0f6c1cd7b58e6b20e6bdcd735af6b62f74a0e93dd283a7284e5193dd283a9200000000',\n",
              " '0100000001b9f71724c5fd70837b2acaf28bcdeb593e65ca209e5b6b68a8f453d625861ea01d00000000ffffffff0293fa791a000000001976a914144739367df0ff8d1c61d03704298d49cf93ef3f88ac0000000000000000536a4c5085671b5257aced595a92b5256a4af59deb3c5a9acdb9ac7379deb3bd675ace317b5ab4a4e72941ef520eb4a1ab549ed5a507319063a0e749cea42169431297317183e517ce30ad258b5337adeb3ace1300000000',\n",
              " '0100000001b9f71724c5fd70837b2acaf28bcdeb593e65ca209e5b6b68a8f453d625861ea01e00000000ffffffff0293fa791a000000001976a914144739367df0ff8d1c61d03704298d49cf93ef3f88ac0000000000000000536a4c508be2f73dcd7358e631ac5b58b62d6d5adcc6358c62d6d62ded6358b7358f7360e739ac7b5906b22f6d250b52559c6b495ed4cded8b52d59da92bd657acef6a62d4c5eb8bd717b4e727bded6318b5ad4a00000000',\n",
              " '0100000001b9f71724c5fd70837b2acaf28bcdeb593e65ca209e5b6b68a8f453d625861ea01f00000000ffffffff0293fa791a000000001976a914144739367df0ff8d1c61d03704298d49cf93ef3f88ac0000000000000000536a4c505a50941d69445cc8356939d06320c7418e939d48429086292d5ae5185ed5d62d8b52f59d2508bdcf6b1cc6316b5ad4a529294a94a5a94a5296a52d4a5a94c5ad8b5a92a5a94c5adac5b98c6b1706b27100000000',\n",
              " '0100000001b9f71724c5fd70837b2acaf28bcdeb593e65ca209e5b6b68a8f453d625861ea02000000000ffffffff0293fa791a000000001976a914144739367df0ff8d1c61d03704298d49cf93ef3f88ac0000000000000000536a4c507d2509ca14946b395671a4a1383e927d670ace16a4af59dab3bd677b52d59ce5162d6b5254a4ad496ad2b4a1483c1aba45cd5a50631cc6398e839d273a9296294c52a0e6d250ace549422f6b98b6ad4c00000000',\n",
              " '0100000001b9f71724c5fd70837b2acaf28bcdeb593e65ca209e5b6b68a8f453d625861ea02100000000ffffffff0293fa791a000000001976a914144739367df0ff8d1c61d03704298d49cf93ef3f88ac0000000000000000536a4c505a96a52529421284250849d084a52a4a5294a92a5a94b529494a1094a52a5298b5c5ee941f17b60e6bdac7b58f735ed63dac8bdb383a927d24fa4a138be717d250ace35a4ad49460f5ad4a4a5494a92800000000',\n",
              " '0100000001b9f71724c5fd70837b2acaf28bcdeb593e65ca209e5b6b68a8f453d625861ea02200000000ffffffff0293fa791a000000001976a914144739367df0ff8d1c61d03704298d49cf93ef3f88ac0000000000000000536a4c506ad4d5a56942d48839917312739cc6398c7319073a5085250e62e717ce308bdaf6adcc5356a629494a50841ce831d063a0e741d083a109425284a5095252a4a5284a1083a108425494b58c7358c5ad6a00000000',\n",
              " '0100000001b9f71724c5fd70837b2acaf28bcdeb593e65ca209e5b6b68a8f453d625861ea02300000000ffffffff0293fa791a000000001976a914144739367df0ff8d1c61d03704298d49cf93ef3f88ac0000000000000000536a4c5052d2a5252b529ab5bdac839917b65074a0e8bdb17362f6ca0e941d38beb38e2f6ce738c5ed5ad2736ad4d5a98a4b5697b571731aa49cc6398c7318e6320e75a9307320e63d8a72d4d5a5ab531494a10700000000',\n",
              " '0100000001b9f71724c5fd70837b2acaf28bcdeb593e65ca209e5b6b68a8f453d625861ea02400000000ffffffff0293fa791a000000001976a914144739367df0ff8d1c61d03704298d49cf93ef3f88ac0000000000000000536a4c503a0c6398c831d063a0c741ce839d073a0e7421084a1284210841ce839d0842108421084210842108421084a109425494b14a7316e62ded641cc8b9b17b62f6c5ed8bdb17b6717d692b5696b5738bf37b00000000',\n",
              " '0100000001b9f71724c5fd70837b2acaf28bcdeb593e65ca209e5b6b68a8f453d625861ea02500000000ffffffff0293fa791a000000001976a914144739367df0ff8d1c61d03704298d49cf93ef3f88ac0000000000000000536a4c506ad4d5a9ab4b5697314f6adec52507398c7319073a9085a50e629ec5396a6ad2d5a58a4ad2839d0631cc6398c8318e639ca6398e839d0639cc639ce739d073a0e741ce839d073a0e741ce839d0739ce700000000',\n",
              " '0100000001b9f71724c5fd70837b2acaf28bcdeb593e65ca209e5b6b68a8f453d625861ea02600000000ffffffff0293fa791a000000001976a914144739367df0ff8d1c61d03704298d49cf93ef3f88ac0000000000000000536a4c50421084210842108425296294d5a9cc5bdab8b9b17b60e63dac7316f6ae0e641cd7b9b17ba728d2726ad4d5a9ab4b5697b14f629cc4b12849ce839d483a9286292e629cc539696a92d525894a90839ce700000000',\n",
              " '0100000001b9f71724c5fd70837b2acaf28bcdeb593e65ca209e5b6b68a8f453d625861ea02700000000ffffffff0293fa791a000000001976a914144739367df0ff8d1c61d03704298d49cf93ef3f88ac0000000000000000536a4c5039ce7398c7318e631cc739ce839d0739ce7398c731ce73a0e741ce731ce631cc739ce739ce631ce739ce839d073a0e739ce839d094218a5398b7b58f6b1ab5356a62d2c5258a4b1696b16f7360e6c5ee00000000',\n",
              " '0100000001b9f71724c5fd70837b2acaf28bcdeb593e65ca209e5b6b68a8f453d625861ea02800000000ffffffff0293fa791a000000001976a914144739367df0ff8d1c61d03704298d49cf93ef3f88ac0000000000000000536a4c506ad2d5a9ab4b56a6ad4d5a5ab4b5485a508399483ad286292d5a5cb535496290c4a1484250741ce739ce7398c7318e739ce7398e739d073a0e739ce7318e739ce7398c7318e631cc6398c7318e631cc600000000',\n",
              " '0100000001b9f71724c5fd70837b2acaf28bcdeb593e65ca209e5b6b68a8f453d625861ea02900000000ffffffff0293fa791a000000001976a914144739367df0ff8d1c61d03704298d49cf93ef3f88ac0000000000000000536a4c50398c7318e631cc6398c7298e5318e73b14a6ad4c5258a4b1496b14e6b20f74a309ca339465184a0f6ad2d5a5ab4b56962d2c525ab4b98a6a92a41d483ad286292d525ab4b5496a90d521894290849ce700000000',\n",
              " '0100000001b9f71724c5fd70837b2acaf28bcdeb593e65ca209e5b6b68a8f453d625861ea02a00000000ffffffff0293fa791a000000001976a914144739367df0ff8d1c61d03704298d49cf93ef3f88ac0000000000000000536a4c5039ce739ce7318e631cc6398c7318e84210841ce739ce631cc6398c7318e631cc6398c739ce731cc6398c6318c631ca6394c6298e5298a6329085a52b4a58a4bdab8c1d49c6f6aeb38def5eef7fff7ffe00000000',\n",
              " '0100000001b9f71724c5fd70837b2acaf28bcdeb593e65ca209e5b6b68a8f453d625861ea02b00000000ffffffff0293fa791a000000001976a914144739367df0ff8d1c61d03704298d49cf93ef3f88ac0000000000000000536a4c506ad2d5a9ab535696ad2c5a58b4b98a6a92a41d483ad285a50d525ab4b5486a92c5218942d284a0e839ce739cc7398e731cc6398c7318e739d0841ce7318e631cc6398c7318e631cc639ce739ce739cc600000000',\n",
              " '0100000001b9f71724c5fd70837b2acaf28bcdeb593e65ca209e5b6b68a8f453d625861ea02c00000000ffffffff0293fa791a000000001976a914144739367df0ff8d1c61d03704298d49cf93ef3f88ac0000000000000000536a4c50398c7318c5298a5314a6294c5298a5320e74a1094218a4b98b839928be938dab3c5edad679cdf7bd6ad2d5a5ab4b5696ad4d5a9ab4b56a6ad2b4a189431286292d5a5aa431486290c5218942d285250900000000',\n",
              " '0100000001b9f71724c5fd70837b2acaf28bcdeb593e65ca209e5b6b68a8f453d625861ea02d00000000ffffffff0293fa791a000000001976a914144739367df0ff8d1c61d03704298d49cf93ef3f88ac0000000000000000536a4c50420e739cc6398e739d073a0e841ce839ce73a0e739ce7318c6398c7318c5318c639ce739ce631cc6398c7318e631cc6394a6294c4298a5318c6398c941d6a4b58b7b99183a517d271b5678bdb38beb5900000000',\n",
              " '0100000001b9f71724c5fd70837b2acaf28bcdeb593e65ca209e5b6b68a8f453d625861ea02e00000000ffffffff0293fa791a000000001976a914144739367df0ff8d1c61d03704298d49cf93ef3f88ac0000000000000000536a4c506292d5a5ab4b5696ad2c5a5ab4b56962d2c521aa435496a92c521aa435486250c4a16942d285a10941d273a5074a10942128425084a10839d0739ce739ce839ce6318c6318c6318c6318c6318c6318c600000000',\n",
              " '0100000001b9f71724c5fd70837b2acaf28bcdeb593e65ca209e5b6b68a8f453d625861ea02f00000000ffffffff0293fa791a000000001976a914144739367df0ff8d1c61d03704298d49cf93ef3f88ac0000000000000000536a4c50318c6318c631cc6314c6294c5298a5314a6318c94216a4b58a7b5907b65074e50a4e56ad2f6ae7176292c5258a4b56962d2c5258b4b5696292c5258a435496250d525aa431486250c5218942d285a50b00000000',\n",
              " '0100000001b9f71724c5fd70837b2acaf28bcdeb593e65ca209e5b6b68a8f453d625861ea03000000000ffffffff0293fa791a000000001976a914144739367df0ff8d1c61d03704298d49cf93ef3f88ac0000000000000000536a4c50421483a9075a50c5258a4ad285210939d073a0e741ce939d0739ce74210739cc6318c6318c739ce739cc6398c6318c6314a6294c5298a5314a6318c94216a4b56a735907b63074a2fa4e36acef6ae2f600000000',\n",
              " '0100000001b9f71724c5fd70837b2acaf28bcdeb593e65ca209e5b6b68a8f453d625861ea03100000000ffffffff0293fa791a000000001976a914144739367df0ff8d1c61d03704298d49cf93ef3f88ac0000000000000000536a4c506290b5216a431496292c5258a4b1496292c52589431286290d5a5aa435486a90d5218a431486250c4a16942d285a50b4a14842d285a50a4210739cc6398c739ce739ce7421073a0e7420e84a10a4a14900000000',\n",
              " '0100000001b9f71724c5fd70837b2acaf28bcdeb593e65ca209e5b6b68a8f453d625861ea03200000000ffffffff0293fa791a000000001976a914144739367df0ff8d1c61d03704298d49cf93ef3f88ac0000000000000000536a4c504250841ce7318c6318c6318c5298a5314a5398c94216a4b56a7358f7362f74a2fa4e35a4ef6a5ed55a90b4a16942d286292c5258a4b1496292c52589431486ad2d521aa435486a90c4a189431286250b00000000',\n",
              " '0100000001b9f71724c5fd70837b2acaf28bcdeb593e65ca209e5b6b68a8f453d625861ea03300000000ffffffff0293fa791a000000001976a914144739367df0ff8d1c61d03704298d49cf93ef3f88ac0000000000000000536a4c504a16942d085a10b41d6842908520e939d0631cc6398ca3a14849cc7294c5298c6398c742109421494290841ce839d0739ce7318c6318c6318c639ce94a16a4b56a735707b63074e509ca35a4ab49dab400000000',\n",
              " '0100000001b9f71724c5fd70837b2acaf28bcdeb593e65ca209e5b6b68a8f453d625861ea03400000000ffffffff0293fa791a000000001976a914144739367df0ff8d1c61d03704298d49cf93ef3f88ac0000000000000000536a4c505a50b4a169429285a50b4a16a42d486292c525aa4b5486a92d521aa435486a90d521aa435486250b49d6942d285a50b41d483a50741ce7318c5324c75a10c4258642ce8314c42148429085214a5298c600000000',\n",
              " '0100000001b9f71724c5fd70837b2acaf28bcdeb593e65ca209e5b6b68a8f453d625861ea03500000000ffffffff0293fa791a000000001976a914144739367df0ff8d1c61d03704298d49cf93ef3f88ac0000000000000000536a4c503a0e749ce839d0739cc6318c5294a5294a539ce94a16a4b58b7b9907b63074a2f9ca35a4ad59ded462d6a4a149429085210a4214942d285a50b4a18a4b5486a90c521aa435486a90e525cb4b5496290c00000000',\n",
              " '0100000001b9f71724c5fd70837b2acaf28bcdeb593e65ca209e5b6b68a8f453d625861ea03600000000ffffffff0293fa791a000000001976a914144739367df0ff8d1c61d03704298d49cf93ef3f88ac0000000000000000536a4c504a189431486290b4a14739cc6398c93a1895352a6a54f52d05324c749d052988429085210a421485294c6398c83990631cc6318c5294a5298c6420ea4a58b5358b7358f7360f6c60e945f3942939569200000000',\n",
              " '0100000001b9f71724c5fd70837b2acaf28bcdeb593e65ca209e5b6b68a8f453d625861ea03700000000ffffffff0293fa791a000000001976a914144739367df0ff8d1c61d03704298d49cf93ef3f88ac0000000000000000536a4c506b18c62d6a529284a10941d283a5084a10a4a18a431486a92d521aa435496a92e5a5cb4b96972d2e5a5aa4b5486290b49d68431296a54e5b20d73d8d82d8d4a90631885394c73188429085210a42148400000000',\n",
              " '0100000001b9f71724c5fd70837b2acaf28bcdeb593e65ca209e5b6b68a8f453d625861ea03800000000ffffffff0293fa791a000000001976a914144739367df0ff8d1c61d03704298d49cf93ef3f88ac0000000000000000536a4c5029085398c839d0731cc6314a5294a529cc64a10a5258b5358b7358f7360f6c5ee8c1d283e72852716318e735ce7316b5a94a52529421084210a4a18a4b1496ad2c521aa435486290c52189431276250c00000000',\n",
              " '0100000001b9f71724c5fd70837b2acaf28bcdeb593e65ca209e5b6b68a8f453d625861ea03900000000ffffffff0293fa791a000000001976a914144739367df0ff8d1c61d03704298d49cf93ef3f88ac0000000000000000536a4c504a18a4396a7292e529ea5b94b6a54c425a9535297254c42589528e8498e7298c529085210a32106421085318c8318e6298a5294a5214a529cc6420ea4a18b4b58b7358f7320f6c60e946149cab49569300000000',\n",
              " '0100000001b9f71724c5fd70837b2acaf28bcdeb593e65ca209e5b6b68a8f453d625861ea03a00000000ffffffff0293fa791a000000001976a914144739367df0ff8d1c61d03704298d49cf93ef3f88ac0000000000000000536a4c507c20e739ad6b5ad5ad6c62d6b521084a10a4a18a4b1496290c521aa43127624ec49d893b1276250c4a1aa4c14b7a54d4a9a84b10959d0b3a167435096212b3a16742ce85a12b42547418a620c831906300000000',\n",
              " '0100000001b9f71724c5fd70837b2acaf28bcdeb593e65ca209e5b6b68a8f453d625861ea03b00000000ffffffff0293fa791a000000001976a914144739367df0ff8d1c61d03704298d49cf93ef3f88ac0000000000000000536a4c5021084314a7318e6298a5294a4214a529cc6420ea4a16a4b58a7358f7362f74a2fa4e35a4ad5a5ed5631ad6b9ad6b1ac5ad4b5ad4a525294a10a4a16a431486292d52189431286250c4a1aa435486290c00000000',\n",
              " '0100000001b9f71724c5fd70837b2acaf28bcdeb593e65ca209e5b6b68a8f453d625861ea03c00000000ffffffff0293fa791a000000001976a914144739367df0ff8d1c61d03704298d49cf93ef3f88ac0000000000000000536a4c50521ca4bd0969d0c3a1663a8c759d0b3a1664310859d0a31d263a4c759d0c425aa5b96c418e31906321084314a7318e631cc6294a5294c6320e74a10a5258b4b58b7b9907ba307ce50a4a349cad5a5ef500000000',\n",
              " '0100000001b9f71724c5fd70837b2acaf28bcdeb593e65ca209e5b6b68a8f453d625861ea03d00000000ffffffff0293fa791a000000001976a914144739367df0ff8d1c61d03704298d49cf93ef3f88ac0000000000000000536a4c508420f7c1ce735ad5294a4a54a525295252a4a16942d285a50b4a1693b1286250c5218a431275a0eb41da943d0961d0b31d663a8c759d0b3a1663ace8518ea31d26324c759d0c3a1884b94b725483186400000000',\n",
              " '0100000001b9f71724c5fd70837b2acaf28bcdeb593e65ca209e5b6b68a8f453d625861ea03e00000000ffffffff0293fa791a000000001976a914144739367df0ff8d1c61d03704298d49cf93ef3f88ac0000000000000000536a4c5021084314a7314e631cc6294a5294e6321075250b525ac53dac83db183a517ce50a4e56ad2f6ae2f6635ab6316b62d6b529494a54a521084210841d083a0e741ce839d483b1286250c4a1693ad0751cc900000000',\n",
              " '0100000001b9f71724c5fd70837b2acaf28bcdeb593e65ca209e5b6b68a8f453d625861ea03f00000000ffffffff0293fa791a000000001976a914144739367df0ff8d1c61d03704298d49cf93ef3f88ac0000000000000000536a4c503998843909618eb31d663ace859d0b3a1463ace7598e931d263a8e759d0c42187430e869d0d424a429484398c7318e6318a5314a6315073a9285a92d629cd63dcd83db183a517ce50ad256aced5a5ed500000000',\n",
              " '0100000001b9f71724c5fd70837b2acaf28bcdeb593e65ca209e5b6b68a8f453d625861ea04000000000ffffffff0293fa791a000000001976a914144739367df0ff8d1c61d03704298d49cf93ef3f88ac0000000000000000536a4c504a54a5294a525294a52b5ad6b5a52939ce6318c6318c6318c7319283ad286250c49d683ad0751cca39d884390961ceb31d663ace86212c3a1663ace8518e931d263a8e761d0d3a187430e869d0a31c8400000000',\n",
              " '0100000001b9f71724c5fd70837b2acaf28bcdeb593e65ca209e5b6b68a8f453d625861ea04100000000ffffffff0293fa791a000000001976a914144739367df0ff8d1c61d03704298d49cf93ef3f88ac0000000000000000536a4c5021485398a83990731cc6318a73992842d4962d4d629ac5b9ab839907b63074a2f9ca149c6b495ab36318c6b56b6294b4a5294a5294a52939ce6318a5294a5294a629507329076250c49d893ad275a0ea00000000',\n",
              " '0100000001b9f71724c5fd70837b2acaf28bcdeb593e65ca209e5b6b68a8f453d625861ea04200000000ffffffff0293fa791a000000001976a914144739367df0ff8d1c61d03704298d49cf93ef3f88ac0000000000000000536a4c5041d483b50969cea29946328c759d0c3a167430e859ce931d463ace86210d3a187434e861d052148421485314a731907320e641ce841d4942d4962d4c5a9ac5bdac7b9907b63074a0e945f3942938d67200000000',\n",
              " '0100000001b9f71724c5fd70837b2acaf28bcdeb593e65ca209e5b6b68a8f453d625861ea04300000000ffffffff0293fa791a000000001976a914144739367df0ff8d1c61d03704298d49cf93ef3f88ac0000000000000000536a4c505ad6a529294a529529494a5294a10839ce6318a5294a5294a629507329075a4eb49d8942d275a0ea39d073310869cea29925324c6598eb3a1673ace851cea31d473b0e86a10d421c7434e8394c4210a400000000',\n",
              " '0100000001b9f71724c5fd70837b2acaf28bcdeb593e65ca209e5b6b68a8f453d625861ea04400000000ffffffff0293fa791a000000001976a914144739367df0ff8d1c61d03704298d49cf93ef3f88ac0000000000000000536a4c5021485314a7318e6320e641ce941d4942d4962d4d62dcd5bdcc839907b62f6c60e945f38be72852505ad6a529294a94a4a5294a5084210739ce6318a5290a5294a5294c62a4e65a50b4a1683a4e649cc800000000',\n",
              " '0100000001b9f71724c5fd70837b2acaf28bcdeb593e65ca209e5b6b68a8f453d625861ea04500000000ffffffff0293fa791a000000001976a914144739367df0ff8d1c61d03704298d49cf93ef3f88ac0000000000000000536a4c50398e52a8e769cea299052a4a6518ea31d663acc7518e9319463a8c761d0e421e84a8c721084210a421485314a6294c5298c5398c941d494b16a6ad4e62dcd63dcc83db17b62f6c60e8c1d28ba517ce2f00000000',\n",
              " '0100000001b9f71724c5fd70837b2acaf28bcdeb593e65ca209e5b6b68a8f453d625861ea04600000000ffffffff0293fa791a000000001976a914144739367df0ff8d1c61d03704298d49cf93ef3f88ac0000000000000000536a4c506318a5294a5294a4a528421084210839ce6318a5294a5294a5294c52a4e75a50a41d27324e6418c7294a4224c769cea298e42a0a6518ea31d463a8c7498c931926324a6598ee3a1a73948420c84210a400000000',\n",
              " '0100000001b9f71724c5fd70837b2acaf28bcdeb593e65ca209e5b6b68a8f453d625861ea04700000000ffffffff0293fa791a000000001976a914144739367df0ff8d1c61d03704298d49cf93ef3f88ac0000000000000000536a4c5021485290a5210a4294a5398a941d6a4b16a6b14e6aded63dcc83db17b6306c60e941d28ba717d2506b5aa5294a529294210841d0739ce739ce7398c6318c6294a4214a52a5075a50941d0731cc5394a600000000',\n",
              " '0100000001b9f71724c5fd70837b2acaf28bcdeb593e65ca209e5b6b68a8f453d625861ea04800000000ffffffff0293fa791a000000001976a914144739367df0ff8d1c61d03704298d49cf93ef3f88ac0000000000000000536a4c50294c52a4c6598c9214c429ca5518ca31946328c7498c829905324a6598ed39d263106421084210a42148421084210a4214a5398c94216a4b16a7316e6adee641cc83db17b63074a0e9c5f3942928525000000000',\n",
              " '0100000001b9f71724c5fd70837b2acaf28bcdeb593e65ca209e5b6b68a8f453d625861ea04900000000ffffffff0293fa791a000000001976a914144739367df0ff8d1c61d03704298d49cf93ef3f88ac0000000000000000536a4c50bdeeb62d4a525294a108421083a508420e739ce6318c6294a5294a52a0e7520e8318e629cc5418a7314e629ca5394a62148421485494ca31946328a6494c8298e52a0a6598cc39d263108420c842108400000000',\n",
              " '0100000001b9f71724c5fd70837b2acaf28bcdeb593e65ca209e5b6b68a8f453d625861ea04a00000000ffffffff0293fa791a000000001976a914144739367df0ff8d1c61d03704298d49cf93ef3f88ac0000000000000000536a4c502106421084210a4218a541cea4a16a4b56a7316f6b20e641ed8c1b28ba717ce4fa4a149c6938d671ffff5ad56b5a5294210739ce73a1074a10942107398c6294a5294a529cc6318a529506320e649cc800000000',\n",
              " '0100000001b9f71724c5fd70837b2acaf28bcdeb593e65ca209e5b6b68a8f453d625861ea04b00000000ffffffff0293fa791a000000001976a914144739367df0ff8d1c61d03704298d49cf93ef3f88ac0000000000000000536a4c503990631cc5314a52948421484414ca31946324a6414c8298e529ca5494cc39d063106418c83190832106421085210c529cc64a0eb4a18b4b58a7356f7320f6c60d945d393e9285671ad255a4ad59dab300000000',\n",
              " '0100000001b9f71724c5fd70837b2acaf28bcdeb593e65ca209e5b6b68a8f453d625861ea04c00000000ffffffff0293fa791a000000001976a914144739367df0ff8d1c61d03704298d49cf93ef3f88ac0000000000000000536a4c50ffffef7a739a52939ce842129425084a1094210739cc6314a5294a5294a521085294e6324e649cc7314e62a0c5398a7294c529484310a8294e529c85394a7294a429084390aa318c52906420c831908300000000',\n",
              " '0100000001b9f71724c5fd70837b2acaf28bcdeb593e65ca209e5b6b68a8f453d625861ea04d00000000ffffffff0293fa791a000000001976a914144739367df0ff8d1c61d03704298d49cf93ef3f88ac0000000000000000536a4c502108429086294e6320e75250b525ab5398b7b5707322f6ca0e9c5f4942938d691b5256acef59ded4ffffffffbdec6315294a525494a5285250a4a12839cc6314a5294c5294a529085294e631cc6398c800000000',\n",
              " '0100000001b9f71724c5fd70837b2acaf28bcdeb593e65ca209e5b6b68a8f453d625861ea04e00000000ffffffff0293fa791a000000001976a914144739367df0ff8d1c61d03704298d49cf93ef3f88ac0000000000000000536a4c5039907320c5398a7294c5298a5210841906320c6420c841906320c6420c84210842106420c841908421484314a731907329075a50c525ab5398b7b570732306ca0e9c5f4942b38d691ad256a4ad59deb300000000',\n",
              " '0100000001b9f71724c5fd70837b2acaf28bcdeb593e65ca209e5b6b68a8f453d625861ea04f00000000ffffffff0293fa791a000000001976a914144739367df0ff8d1c61d03704298d49cf93ef3f88ac0000000000000000536a4c50ffffffffffff39c7bde739cc631ce739ce839d073a0e7318c5294c6314a5294a5294a5298a5314a731906320c6394a6294a4218a531485210842106420c84190842108421084210842106420c84210a500000000',\n",
              " '0100000001b9f71724c5fd70837b2acaf28bcdeb593e65ca209e5b6b68a8f453d625861ea05000000000ffffffff0293fa791a000000001976a914144739367df0ff8d1c61d03704298d49cf93ef3f88ac0000000000000000536a4c50298a5398c8399483ad286292d5a5cc53dab839907b6306ca0e9c5f39429285270ace35a4ad495ab3fffffffffffffffdef6e73929425084a1094210739ce6398c6318a5294a5314a6294a421484294a600000000',\n",
              " '0100000001b9f71724c5fd70837b2acaf28bcdeb593e65ca209e5b6b68a8f453d625861ea05100000000ffffffff0293fa791a000000001976a914144739367df0ff8d1c61d03704298d49cf93ef3f88ac0000000000000000536a4c50294c5298a5314a5210a4214a429085210a42148429085210a42148429085210842106421085294c529cc641cc941d6942d486ad2e629ed5c1ab839917b6306ca0e9c5f38be727d250a4e15a4ad59ded400000000',\n",
              " '0100000001b9f71724c5fd70837b2acaf28bcdeb593e65ca209e5b6b68a8f453d625861ea05200000000ffffffff0293fa791a000000001976a914144739367df0ff8d1c61d03704298d49cf93ef3f88ac0000000000000000536a4c50fffffffffffffffffffad69ee729494a5094a128420e739cc6318a5294a5318a5294a42108421084210a5214a429084210842148429085210a4218a529086210a421484314a6210a421084314a6294e600000000',\n",
              " '0100000001b9f71724c5fd70837b2acaf28bcdeb593e65ca209e5b6b68a8f453d625861ea05300000000ffffffff0293fa791a000000001976a914144739367df0ff8d1c61d03704298d49cf93ef3f88ac0000000000000000536a4c50320e64a0ea4a18a435697314f629ed5c1cc839917b6506ca0e945d38be717d250ace35a4ad59deb4fffffffffffffffffffffff39cb5ad4a50841d284250741cc7318a529084294a6294a5210842108400000000',\n",
              " '0100000001b9f71724c5fd70837b2acaf28bcdeb593e65ca209e5b6b68a8f453d625861ea05400000000ffffffff0293fa791a000000001976a914144739367df0ff8d1c61d03704298d49cf93ef3f88ac0000000000000000536a4c50210842108421084210842106429085210c5218a4314a6294e5298a5394a6294e529cc5398c83990732507524eb521ab4b96a7b14f6ae0e5c1cc8bd917b6506ca0e945d38ba727d250ace35a46d495ab300000000',\n",
              " '0100000001b9f71724c5fd70837b2acaf28bcdeb593e65ca209e5b6b68a8f453d625861ea05500000000ffffffff0293fa791a000000001976a914144739367df0ff8d1c61d03704298d49cf93ef3f88ac0000000000000000536a4c50ffffffffffffffffffffffffffe7386b18839ce73a10741ce7398c6314a5294a6318a52908421084210842108421084210842106421086294a421484314a731907320c6418c831907320e641cc941d4800000000',\n",
              " '0100000001b9f71724c5fd70837b2acaf28bcdeb593e65ca209e5b6b68a8f453d625861ea05600000000ffffffff0293fa791a000000001976a914144739367df0ff8d1c61d03704298d49cf93ef3f88ac0000000000000000536a4c503ad286292d5a5ab5398a7b57072e0e645ec8bd917b6506ca0d945d38ba727d250a4e35a46d495ab3ffffffffffffffffffffffffffffffc630d6b50841ce741ce7398e6318a5294a6318c6310842108400000000',\n",
              " '0100000001b9f71724c5fd70837b2acaf28bcdeb593e65ca209e5b6b68a8f453d625861ea05700000000ffffffff0293fa791a000000001976a914144739367df0ff8d1c61d03704298d49cf93ef3f88ac0000000000000000536a4c502108421084210842108421084210852908421084398a941d283a5074a0e941d283a507524eb4a169431496ad2d629cc53dab8357072e0e645ec8bd917b6506ca0d941d38ba717ce4fa4a149c6d4962d400000000',\n",
              " '0100000001b9f71724c5fd70837b2acaf28bcdeb593e65ca209e5b6b68a8f453d625861ea05800000000ffffffff0293fa791a000000001976a914144739367df0ff8d1c61d03704298d49cf93ef3f88ac0000000000000000536a4c50ffffffffffffffffffffffffffffffffff8c5d8c5a0e741ce7398e6318c6314a6294e63108421084210632108421085294a421084210842108420c63398cb5216942928520ea4a149429285a50c5258b00000000',\n",
              " '0100000001b9f71724c5fd70837b2acaf28bcdeb593e65ca209e5b6b68a8f453d625861ea05900000000ffffffff0293fa791a000000001976a914144739367df0ff8d1c61d03704298d49cf93ef3f88ac0000000000000000536a4c504b5697314e629ed5bdab8397072e0e645ec8bd917b64f6ca0d941b283a7174e2fa4a159c6d495ed3ffffffffffffffffffffffffffffffffffef7ab5aa94a39cc7318e6318c6318a5294c6314a52108400000000',\n",
              " '0100000001b9f71724c5fd70837b2acaf28bcdeb593e65ca209e5b6b68a8f453d625861ea05a00000000ffffffff0293fa791a000000001976a914144739367df0ff8d1c61d03704298d49cf93ef3f88ac0000000000000000536a4c50210842108421085210a521484210842106320c64398cc5a58a4ad285250b4a16942d486292c5a5ab4b98a7314f6aded5c1ab839707322f645ec8bdb17b6506ca0d941b28365074e2ea4a159c6b48da9200000000',\n",
              " '0100000001b9f71724c5fd70837b2acaf28bcdeb593e65ca209e5b6b68a8f453d625861ea05b00000000ffffffff0293fa791a000000001976a914144739367df0ff8d1c61d03704298d49cf93ef3f88ac0000000000000000536a4c50ffffffffffffffffffffffffffffffffffffffbded2734a507318c6318c6318c6294c6314a5294a5294a42108421084210a5294a5294a42108421084318ad5a9ab4b1495a90b4a16a4314962d2d5a5ab00000000',\n",
              " '0100000001b9f71724c5fd70837b2acaf28bcdeb593e65ca209e5b6b68a8f453d625861ea05c00000000ffffffff0293fa791a000000001976a914144739367df0ff8d1c61d03704298d49cf93ef3f88ac0000000000000000536a4c505398a7b56f6aded5c1cb839917322f645ec8bdb2836506ca0d941b28365074e2ea49f49c2b38d691ffffffffffffffffffffffffffffffffffffffffff39b8c6294a4e7318c6318c6314c6318c6294a500000000',\n",
              " '0100000001b9f71724c5fd70837b2acaf28bcdeb593e65ca209e5b6b68a8f453d625861ea05d00000000ffffffff0293fa791a000000001976a914144739367df0ff8d1c61d03704298d49cf93ef3f88ac0000000000000000536a4c50294a5294a5294a6294a5294a5210842108421084294ac5a5ac535696292b5216a4b1696ad2d5a5cc53dab7b56f6ae0e5c1cc839917b22f645ed8bdb2836506ca0d941b28365174e2e9c9f4942b38d69100000000',\n",
              " '0100000001b9f71724c5fd70837b2acaf28bcdeb593e65ca209e5b6b68a8f453d625861ea05e00000000ffffffff0293fa791a000000001976a914144739367df0ff8d1c61d03704298d49cf93ef3f88ac0000000000000000536a4c50fffffffffffffffffffffffffffffffffffffffffffffdef5084107398a5314a6318e6318c621085294a5298a5318c6294a5210842108421084210842908b521cd5b98a6ad4c5a58b5356a6ad4d629cd00000000',\n",
              " '0100000001b9f71724c5fd70837b2acaf28bcdeb593e65ca209e5b6b68a8f453d625861ea05f00000000ffffffff0293fa791a000000001976a914144739367df0ff8d1c61d03704298d49cf93ef3f88ac0000000000000000536a4c505bdab7b5706ae0e641cc8bd917b22f6c5ed8bdb17b6506ca0d941b283a5174e2fa49f4942b385671ffffffffffffffffffffffffffffffffffffffffffffffffd9ce1cd69ce7318c6318c6314a5214a500000000',\n",
              " '0100000001b9f71724c5fd70837b2acaf28bcdeb593e65ca209e5b6b68a8f453d625861ea06000000000ffffffff0293fa791a000000001976a914144739367df0ff8d1c61d03704298d49cf93ef3f88ac0000000000000000536a4c50294a5298a5318c5294a52108429485294a529484294aa49dcd5b9ab7314d629ac5398a7314e629ed5bdab7b57072e0e645cc8bd917b22f6c5ed8bdb17b6506ca0d941b283a5174e2e9c5f493e928567000000000']"
            ]
          },
          "metadata": {},
          "execution_count": 90
        }
      ]
    },
    {
      "cell_type": "code",
      "source": [
        "inscribed_txs=[cryptos.deserialize(elem) for elem in inscribed_serial_txs]"
      ],
      "metadata": {
        "id": "S1XhYY8lay8F"
      },
      "execution_count": null,
      "outputs": []
    },
    {
      "cell_type": "code",
      "source": [
        "signed_inscribed_txs=[doge.signall(elem,privKey.to_hex()[2:]) for elem in inscribed_txs]"
      ],
      "metadata": {
        "id": "jEMY1eARbJlE"
      },
      "execution_count": null,
      "outputs": []
    },
    {
      "cell_type": "code",
      "source": [
        "broadcasts=[doge.pushtx(elem) for elem in signed_inscribed_txs]\n",
        "broadcasts"
      ],
      "metadata": {
        "colab": {
          "base_uri": "https://localhost:8080/"
        },
        "id": "VvEcOPG9bp5g",
        "outputId": "779cfab1-815f-4cb6-d418-86da1d188732"
      },
      "execution_count": null,
      "outputs": [
        {
          "output_type": "execute_result",
          "data": {
            "text/plain": [
              "[{'data': {'network': 'DOGE',\n",
              "   'txid': '90c01813156e594c4dbe8bd39436597c68ffaaa201c458f9c1ccae3e86d2c33f'},\n",
              "  'status': 'success'},\n",
              " {'data': {'network': 'DOGE',\n",
              "   'txid': 'cf0f325d00cc33cedde905f1132855c569ae573f3aa1493c837652aeebee18bc'},\n",
              "  'status': 'success'},\n",
              " {'data': {'network': 'DOGE',\n",
              "   'txid': 'c682f3de33dd6e882d6cbf499d28d6ebd87fecd2fad7108065fa5390d7a00458'},\n",
              "  'status': 'success'},\n",
              " {'data': {'network': 'DOGE',\n",
              "   'txid': '7f9b29b2044836633e01d4d47f503f53633433eaa4916e816ac7e59bc3adc60f'},\n",
              "  'status': 'success'},\n",
              " {'data': {'network': 'DOGE',\n",
              "   'txid': '2ae27a0deaa2d5d9552cddca69d230f3805d96a33d9f7b23441545fea3449b15'},\n",
              "  'status': 'success'},\n",
              " {'data': {'network': 'DOGE',\n",
              "   'txid': '7d2b514eec23fd6e5fe54b9ff6ef960e497006bb67e9d9346dc17afa773441e0'},\n",
              "  'status': 'success'},\n",
              " {'data': {'network': 'DOGE',\n",
              "   'txid': 'e37652ffd099b7228e54c6c5c1409ae005c18f4d8b4ba84e006311c056a311f2'},\n",
              "  'status': 'success'},\n",
              " {'data': {'network': 'DOGE',\n",
              "   'txid': '0238f55d0b9f7072fbb8d7c55c75624cc61c3b9bf3a49710ddc5c1b8ee370d59'},\n",
              "  'status': 'success'},\n",
              " {'data': {'network': 'DOGE',\n",
              "   'txid': '40a1252151a21a47834a1e34f467ccdcf9eae17aba7a12334e02d1aae4193e4a'},\n",
              "  'status': 'success'},\n",
              " {'data': {'network': 'DOGE',\n",
              "   'txid': 'fc77eabae6b98782fe9e53a4d1682d8a5da798aec4c77992b947913e03c3f314'},\n",
              "  'status': 'success'},\n",
              " {'data': {'network': 'DOGE',\n",
              "   'txid': '0f888cafb1a66e00cb7a9186a2b0ec88424d1ca17c84f9087d45d8dae80ebcea'},\n",
              "  'status': 'success'},\n",
              " {'data': {'network': 'DOGE',\n",
              "   'txid': 'c8b41a54da2a57288d14e31fb380dc74e5866b4341e5c279a4e1c596c3aa2ea0'},\n",
              "  'status': 'success'},\n",
              " {'data': {'network': 'DOGE',\n",
              "   'txid': 'd1265f7ae5cf0cde3bb1450ea5623f17cf5c86ad5064f64925421645e54c95e8'},\n",
              "  'status': 'success'},\n",
              " {'data': {'network': 'DOGE',\n",
              "   'txid': 'c60866a55c283d3cbb4ffe09dd678a7fe2e48c8304e8472a41889ffbbc7eb277'},\n",
              "  'status': 'success'},\n",
              " {'data': {'network': 'DOGE',\n",
              "   'txid': '5f746e2bf3f21b192430938e340ae3ae90c53bd1171a302207c487d8f8477adb'},\n",
              "  'status': 'success'},\n",
              " {'data': {'network': 'DOGE',\n",
              "   'txid': '9f1ff70299b078ee5f379c0d06a07315c4410d421977507726fc8213ac9c2bf9'},\n",
              "  'status': 'success'},\n",
              " {'data': {'network': 'DOGE',\n",
              "   'txid': 'c89ff8f7072d68ba8e247fe82c50c4b82b1bf3213dfb42562d19f9f1da271424'},\n",
              "  'status': 'success'},\n",
              " {'data': {'network': 'DOGE',\n",
              "   'txid': '4bf826fefdfef41cdfedaf4751bf061dd176e8bbd0fe95fb631dfa9016c014b1'},\n",
              "  'status': 'success'},\n",
              " {'data': {'network': 'DOGE',\n",
              "   'txid': '66c955eb95380d15aea91a62af4db992fc771f3141795ae538881c6b82843db8'},\n",
              "  'status': 'success'},\n",
              " {'data': {'network': 'DOGE',\n",
              "   'txid': 'ddf7931c3496951277e0649e8b41cffb128bb3173cc97cd304ec52a8afcb6ca9'},\n",
              "  'status': 'success'},\n",
              " {'data': {'network': 'DOGE',\n",
              "   'txid': '180266599f7e86a7a5145d41e38d91f17062a627c4d7ec57b9de9c4ac57f7b30'},\n",
              "  'status': 'success'},\n",
              " {'data': {'network': 'DOGE',\n",
              "   'txid': '0b2553583268d2fe005ccbb7749f5bee9b7d06e0ccc90a3ae3c242c7f4de2b4a'},\n",
              "  'status': 'success'},\n",
              " {'data': {'network': 'DOGE',\n",
              "   'txid': 'c6b60a5cc92f39856378232a8fd684b43ad2cecdfa843976d70d44dd8c1a6daf'},\n",
              "  'status': 'success'},\n",
              " {'data': {'network': 'DOGE',\n",
              "   'txid': '262fd6e7c5baa3709490491e1788b076683333cc81b72f0a756ea9dbc248914c'},\n",
              "  'status': 'success'},\n",
              " {'data': {'network': 'DOGE',\n",
              "   'txid': 'bcb3cc090a3aecbd62f840e236d4ff057011c4425baef15ae8980e6142fc2a44'},\n",
              "  'status': 'success'},\n",
              " {'data': {'network': 'DOGE',\n",
              "   'txid': '10bd23d4102714d59f2b49370b895ee29927f596438612a3ee233078a2cd1ea6'},\n",
              "  'status': 'success'},\n",
              " {'data': {'network': 'DOGE',\n",
              "   'txid': '9f78e3b51675f12af2c543b0b64e8127efe3c1fa84c914f438bb1bb912775bba'},\n",
              "  'status': 'success'},\n",
              " {'data': {'network': 'DOGE',\n",
              "   'txid': 'd9a70d4bc60da66f2274a1055135318fc1aa30424e0a859da08ca0e0a0718b8a'},\n",
              "  'status': 'success'},\n",
              " {'data': {'network': 'DOGE',\n",
              "   'txid': 'a08031856af787fad11190821048790d8b58ac399564d90a54e250990d3a49bb'},\n",
              "  'status': 'success'},\n",
              " {'data': {'network': 'DOGE',\n",
              "   'txid': '03400a6574c16e9921c0f663356f9cf9cbd3143ec14c33a0c08e55dcada35e72'},\n",
              "  'status': 'success'},\n",
              " {'data': {'network': 'DOGE',\n",
              "   'txid': '9487370ec1a5b1c70f90934751853ba617154d8b05df7b99a14a05ae3b268041'},\n",
              "  'status': 'success'},\n",
              " {'data': {'network': 'DOGE',\n",
              "   'txid': '222a41643de2a8a4e16953ccd80b4d641968a7fa31d528f0a60cd0dc807e5106'},\n",
              "  'status': 'success'},\n",
              " {'data': {'network': 'DOGE',\n",
              "   'txid': 'c071ee86a369002e05f8c3045797d7b122f7544c4a6b797e0fa743912e216c7a'},\n",
              "  'status': 'success'},\n",
              " {'data': {'network': 'DOGE',\n",
              "   'txid': '309ea930f13173083f4d18371302911328a3e6f3008e9520d9227e6bab7b4fe4'},\n",
              "  'status': 'success'},\n",
              " {'data': {'network': 'DOGE',\n",
              "   'txid': 'b7dc71ea27c14f658447fecd0323713733ede6690d27bb6589d9222dd039e975'},\n",
              "  'status': 'success'},\n",
              " {'data': {'network': 'DOGE',\n",
              "   'txid': '90cc928faf256e36942b83a27338c8ef6e26ea33e6d3836d07d67d3c2a702b75'},\n",
              "  'status': 'success'},\n",
              " {'data': {'network': 'DOGE',\n",
              "   'txid': '437567570aa719f03cb60376b6fe0244ecf5df8702e33f0f6557f411dea6354d'},\n",
              "  'status': 'success'},\n",
              " {'data': {'network': 'DOGE',\n",
              "   'txid': '0aabb58fd889a5a1c8d40d2a7e1a580eec7bf10af447a455168aca04cd9e1573'},\n",
              "  'status': 'success'},\n",
              " {'data': {'network': 'DOGE',\n",
              "   'txid': 'af8e8c63f9a7c87e99810e5158f6838bf70d44bad1f2854b8c90187b88bac35b'},\n",
              "  'status': 'success'},\n",
              " {'data': {'network': 'DOGE',\n",
              "   'txid': '9ffc0dbeb9d28864727472778bfc064358b6535661c37612ef155fe75c1cd190'},\n",
              "  'status': 'success'},\n",
              " {'data': {'network': 'DOGE',\n",
              "   'txid': 'ad47d7ce7f0fd6c9b31f477525ea7cd3c263e83e7823137964113b86999dcf3f'},\n",
              "  'status': 'success'},\n",
              " {'data': {'network': 'DOGE',\n",
              "   'txid': '7767c489efb2b168c60f55b2675ae389659390b5e4fb8ab81182fd42f596bb53'},\n",
              "  'status': 'success'},\n",
              " {'data': {'network': 'DOGE',\n",
              "   'txid': 'b4f4f10e1d5273db2dad770ae0365409b600fe7e383c11add2bd41f4b3813d9a'},\n",
              "  'status': 'success'},\n",
              " {'data': {'network': 'DOGE',\n",
              "   'txid': '3687ac2c4627b7ab8346b18d4dc451666e92e84b7586bbe49935a5ae28c4575a'},\n",
              "  'status': 'success'},\n",
              " {'data': {'network': 'DOGE',\n",
              "   'txid': 'd3a2e785c19670e6fb8bee680113c25d5ddc60c22961d81b8b9518def944fdae'},\n",
              "  'status': 'success'},\n",
              " {'data': {'network': 'DOGE',\n",
              "   'txid': '383528ee4350b341f8da29f4b77aee95ac736fea254b9eada70a281da2ed9fb7'},\n",
              "  'status': 'success'},\n",
              " {'data': {'network': 'DOGE',\n",
              "   'txid': 'a370003aaeca0c34e2dd8fec9b75691f2936c6edcf4454cc6afbcf8dac05c320'},\n",
              "  'status': 'success'},\n",
              " {'data': {'network': 'DOGE',\n",
              "   'txid': 'abe82abdc08f9f15bc960ab4bbc06633aa264d9cf820ca98c5008e53c7fda6bc'},\n",
              "  'status': 'success'},\n",
              " {'data': {'network': 'DOGE',\n",
              "   'txid': '12535e35946edada7230251e7f02907dd9249215eecedfdd3b5f80ca5db4681e'},\n",
              "  'status': 'success'},\n",
              " {'data': {'network': 'DOGE',\n",
              "   'txid': '081540527d59df80ab658ea41c6da6a4227fc4b69543e1f7883a0cb1e31e31da'},\n",
              "  'status': 'success'},\n",
              " {'data': {'network': 'DOGE',\n",
              "   'txid': '6664b2eb9d5815b3b9842df6c85cd0547ec623f636e7208eac9c084093484972'},\n",
              "  'status': 'success'},\n",
              " {'data': {'network': 'DOGE',\n",
              "   'txid': 'ad0d49ad271254a000bec48f2189e8378ced4de80af8468d625be01a964cf178'},\n",
              "  'status': 'success'},\n",
              " {'data': {'network': 'DOGE',\n",
              "   'txid': 'bf18a6d8568c9ac646751ac003cad0bc93b7df985a27867b9466a6a118749700'},\n",
              "  'status': 'success'},\n",
              " {'data': {'network': 'DOGE',\n",
              "   'txid': '68d3bfb1dddd9fc3fbae65a804a44a0e5e702d19171636906284141f80d247a9'},\n",
              "  'status': 'success'},\n",
              " {'data': {'network': 'DOGE',\n",
              "   'txid': '7af59d776c6608e88cbe97edd972a474caf8bbc245f5e050bc933815edd31dd7'},\n",
              "  'status': 'success'},\n",
              " {'data': {'network': 'DOGE',\n",
              "   'txid': 'e0c2cec1c6bfb05ac2456c90349388b972d274346f927f2ef8e0d3ff58a30795'},\n",
              "  'status': 'success'},\n",
              " {'data': {'network': 'DOGE',\n",
              "   'txid': 'b0af23b60e6a74ae58fe037e46203faaae0ac86dc0f391094376ef86409cc056'},\n",
              "  'status': 'success'},\n",
              " {'data': {'network': 'DOGE',\n",
              "   'txid': '39d400543327c556a68c052bfcbc88057b9c69ca920e15c02d65cea92268d3e1'},\n",
              "  'status': 'success'},\n",
              " {'data': {'network': 'DOGE',\n",
              "   'txid': '92e1f7cecd860214e29ed4812587adb229c9a01223f979ba251574de40ebefea'},\n",
              "  'status': 'success'},\n",
              " {'data': {'network': 'DOGE',\n",
              "   'txid': '02692a84b320424672717ceb5fecc3810f40c1b2cc08a72942453c1e7e0f33a9'},\n",
              "  'status': 'success'},\n",
              " {'data': {'network': 'DOGE',\n",
              "   'txid': 'a08027c1dc768c42a05656758acb754a96807aacb55e1543f59bee0716f5a7e7'},\n",
              "  'status': 'success'},\n",
              " {'data': {'network': 'DOGE',\n",
              "   'txid': 'dcb7b63d5674b6348d7dbd09b7dead726869eac3abda28af662df8a2c1c7201d'},\n",
              "  'status': 'success'},\n",
              " {'data': {'network': 'DOGE',\n",
              "   'txid': 'b9cc27fe275432a2bc5271a110717b80f7c38eb98488ba7c5badc81aca8c9ce2'},\n",
              "  'status': 'success'},\n",
              " {'data': {'network': 'DOGE',\n",
              "   'txid': 'eb4f18ef7fb289fa6308f81c9ce7ffc2e67a465c9bd4b341a0031eba0f91c969'},\n",
              "  'status': 'success'},\n",
              " {'data': {'network': 'DOGE',\n",
              "   'txid': 'aea03646805aab297381a91cc932944ee8c5acd94a478a8aec6e12145f187a25'},\n",
              "  'status': 'success'},\n",
              " {'data': {'network': 'DOGE',\n",
              "   'txid': '626395187fd315223dee06b32b4665b7a60b29b44327666999833a61634a91a4'},\n",
              "  'status': 'success'},\n",
              " {'data': {'network': 'DOGE',\n",
              "   'txid': 'c9adcfbeab9a6dad91e9a829e40136afee93e68cd8084b74647f4d05c455a0b6'},\n",
              "  'status': 'success'},\n",
              " {'data': {'network': 'DOGE',\n",
              "   'txid': '889cb63f36b5570eb5e7923953b593766879901334e61b25e8d9c2fdebd719e3'},\n",
              "  'status': 'success'},\n",
              " {'data': {'network': 'DOGE',\n",
              "   'txid': 'f20cffc21bbca27cb199f8af2d8818da18cb0ffcead6e24c2d49cffb5edcc87e'},\n",
              "  'status': 'success'},\n",
              " {'data': {'network': 'DOGE',\n",
              "   'txid': 'c4979860c533118bcabe815ef6c59e36c7904619fdbb3fbabdeeea332778a38e'},\n",
              "  'status': 'success'},\n",
              " {'data': {'network': 'DOGE',\n",
              "   'txid': 'abc0380548a183da56a3a9a1d68a62c43b495850207814c3960cdd94db1988c0'},\n",
              "  'status': 'success'},\n",
              " {'data': {'network': 'DOGE',\n",
              "   'txid': '7295fd0f0077113e380eb11dbc396a7e90a13784938e5b5fb357eef233d045c3'},\n",
              "  'status': 'success'},\n",
              " {'data': {'network': 'DOGE',\n",
              "   'txid': 'b4b2f97aea774a8f36ee529b34f2b7120aa796ea94b1be504e41cfe6072535ad'},\n",
              "  'status': 'success'},\n",
              " {'data': {'network': 'DOGE',\n",
              "   'txid': '0ef29b72d74744793c3ba12ee25722369c9295547ae6cd449309d97996119dd4'},\n",
              "  'status': 'success'},\n",
              " {'data': {'network': 'DOGE',\n",
              "   'txid': 'd31e438f44adca12f0810f57e5985f97ab8ad7d92c4030519c90388eeb58dc75'},\n",
              "  'status': 'success'},\n",
              " {'data': {'network': 'DOGE',\n",
              "   'txid': '0519da18d8c5b8a34d1db9cf5026a724d82405f70dcf8e188aa2097db41bc758'},\n",
              "  'status': 'success'},\n",
              " {'data': {'network': 'DOGE',\n",
              "   'txid': '75276ac84d81f8860245f33d30128b4778370400b8523266b7c7df14622674fb'},\n",
              "  'status': 'success'},\n",
              " {'data': {'network': 'DOGE',\n",
              "   'txid': 'cb53631d1887c7dc1ace696af823ab3c40e397307b07e395b6c0932fa7fc4a40'},\n",
              "  'status': 'success'},\n",
              " {'data': {'network': 'DOGE',\n",
              "   'txid': '3ec57790a913cbcfe0fd0c755179f1b955a1824fff04102f84b166ea99ced159'},\n",
              "  'status': 'success'},\n",
              " {'data': {'network': 'DOGE',\n",
              "   'txid': '0c6e2b90d493b7ba92edfdeee49844dd5554ebba4b2a45bf88798587b1eff520'},\n",
              "  'status': 'success'},\n",
              " {'data': {'network': 'DOGE',\n",
              "   'txid': '9a4189cfaeeab32c7360bd3593b0183c9d146e10495d836efd42edc92fd7fb90'},\n",
              "  'status': 'success'},\n",
              " {'data': {'network': 'DOGE',\n",
              "   'txid': '9f7a12875ba05495c0fcf4bd708f5cd993d6fda7bb9841cc22a397372d179c8b'},\n",
              "  'status': 'success'},\n",
              " {'data': {'network': 'DOGE',\n",
              "   'txid': '744c6bc87e4868e00f0d6e3fe8246fccafb1f28e19da44210f995593455a2bd8'},\n",
              "  'status': 'success'},\n",
              " {'data': {'network': 'DOGE',\n",
              "   'txid': '66e30736ce21c22e26fc1c3801887a7aec15f7a299e73dc9ea665b9496796eec'},\n",
              "  'status': 'success'},\n",
              " {'data': {'network': 'DOGE',\n",
              "   'txid': '4fc22683a724233157c17bd8efcb21af531d5b7041d79f1ce3dedb53135cb24a'},\n",
              "  'status': 'success'},\n",
              " {'data': {'network': 'DOGE',\n",
              "   'txid': '46a44c5954995664a7880aa4fd407617171d42fa48281676c8e08040d61ee2de'},\n",
              "  'status': 'success'},\n",
              " {'data': {'network': 'DOGE',\n",
              "   'txid': 'e8aa6877639e2ad2dcd48beaf4eb40948a8066de07a9b646c81864594e746dc5'},\n",
              "  'status': 'success'},\n",
              " {'data': {'network': 'DOGE',\n",
              "   'txid': '1bcb9dfd5c910284f10cd1d153ad6cb74cd2602399bf238cdb358a867c6c042a'},\n",
              "  'status': 'success'},\n",
              " {'data': {'network': 'DOGE',\n",
              "   'txid': '79f40bb83121120e949e6b7a79bc95ddcd43a31881a262aa1227e0e53adfcc45'},\n",
              "  'status': 'success'},\n",
              " {'data': {'network': 'DOGE',\n",
              "   'txid': '49bb82e6976c0bbc2309581d647a5e94beef3d2620a90d2f492d0f8a469c7cfe'},\n",
              "  'status': 'success'},\n",
              " {'data': {'network': 'DOGE',\n",
              "   'txid': '0e2f7c1df82b6cda5996085819a9a73b7555d115d85f4edc5623678809e6b6cb'},\n",
              "  'status': 'success'},\n",
              " {'data': {'network': 'DOGE',\n",
              "   'txid': 'ba8b77d77d812f0e4e1ba0fe722d89daa3e596923e031d2b7baf1124f0532099'},\n",
              "  'status': 'success'},\n",
              " {'data': {'network': 'DOGE',\n",
              "   'txid': '375a55faf217c90327849c973c07ad9d00f3ad7ca6b5285ac7b80c4b6583bb14'},\n",
              "  'status': 'success'},\n",
              " {'data': {'network': 'DOGE',\n",
              "   'txid': '91dd52cab0b3ea190fe58b67559b066d4f02808960e053dea5111e252d3fe902'},\n",
              "  'status': 'success'},\n",
              " {'data': {'network': 'DOGE',\n",
              "   'txid': 'ae981cae8df2f29ce95654a61484341070947e1d4adf2a91a21765559a6cd20c'},\n",
              "  'status': 'success'},\n",
              " {'data': {'network': 'DOGE',\n",
              "   'txid': '67a83f6b33cb8492a750ee0bc9ab9c9c26fb048a15261c939a8a1f748cfc0af9'},\n",
              "  'status': 'success'},\n",
              " {'data': {'network': 'DOGE',\n",
              "   'txid': '499ea653841751ff89eb02d049b20a08ee75b112d345c72e495afa6dcd86130d'},\n",
              "  'status': 'success'}]"
            ]
          },
          "metadata": {},
          "execution_count": 93
        }
      ]
    },
    {
      "cell_type": "code",
      "source": [
        "broadcasts[0]['data']['txid']"
      ],
      "metadata": {
        "id": "-n11MzFuJbHb",
        "outputId": "41236608-a381-46d3-979d-03b9e8634730",
        "colab": {
          "base_uri": "https://localhost:8080/",
          "height": 35
        }
      },
      "execution_count": null,
      "outputs": [
        {
          "output_type": "execute_result",
          "data": {
            "text/plain": [
              "'90c01813156e594c4dbe8bd39436597c68ffaaa201c458f9c1ccae3e86d2c33f'"
            ],
            "application/vnd.google.colaboratory.intrinsic+json": {
              "type": "string"
            }
          },
          "metadata": {},
          "execution_count": 95
        }
      ]
    },
    {
      "cell_type": "markdown",
      "source": [
        "# Everything is Retrievable From the TX Hash of Header Transaction \n",
        "\n",
        "The first transaction, spending the first output of the prepared UTXOs\n",
        "\n",
        "```\n",
        "53ae86951b38d91cc01a90e7cf9e7089ffff0a4b81a46fcd02a104d696247cb2\n",
        "\n",
        "90c01813156e594c4dbe8bd39436597c68ffaaa201c458f9c1ccae3e86d2c33f\n",
        "```\n",
        "\n",
        "Or use the UTXO set transactions\n",
        "\n",
        "```\n",
        "c1542c10399a09a5471799133c472a6652d5cb3b7b421e1a7e80e2039f5b393b\n",
        "\n",
        "a01e8625d653f4a8686b5b9e20ca653e59ebcd8bf2ca2a7b8370fdc52417f7b9\n",
        "```"
      ],
      "metadata": {
        "id": "PLKBeRyZNsfW"
      }
    },
    {
      "cell_type": "code",
      "source": [
        "[doge.fetchtx(broadcast['data']['txid'])['confirmations'] for broadcast in broadcasts]"
      ],
      "metadata": {
        "id": "nijVN8UncB51",
        "outputId": "8512d111-80c9-4922-9a03-444a651f1003",
        "colab": {
          "base_uri": "https://localhost:8080/"
        }
      },
      "execution_count": null,
      "outputs": [
        {
          "output_type": "execute_result",
          "data": {
            "text/plain": [
              "[5,\n",
              " 5,\n",
              " 5,\n",
              " 5,\n",
              " 5,\n",
              " 5,\n",
              " 5,\n",
              " 5,\n",
              " 5,\n",
              " 5,\n",
              " 5,\n",
              " 5,\n",
              " 5,\n",
              " 5,\n",
              " 5,\n",
              " 5,\n",
              " 5,\n",
              " 5,\n",
              " 5,\n",
              " 5,\n",
              " 5,\n",
              " 5,\n",
              " 5,\n",
              " 5,\n",
              " 5,\n",
              " 5,\n",
              " 5,\n",
              " 5,\n",
              " 5,\n",
              " 5,\n",
              " 5,\n",
              " 5,\n",
              " 5,\n",
              " 5,\n",
              " 5,\n",
              " 5,\n",
              " 5,\n",
              " 5,\n",
              " 5,\n",
              " 5,\n",
              " 5,\n",
              " 5,\n",
              " 5,\n",
              " 5,\n",
              " 5,\n",
              " 5,\n",
              " 5,\n",
              " 5,\n",
              " 5,\n",
              " 5,\n",
              " 5,\n",
              " 5,\n",
              " 5,\n",
              " 5,\n",
              " 5,\n",
              " 5,\n",
              " 5,\n",
              " 5,\n",
              " 5,\n",
              " 5,\n",
              " 5,\n",
              " 5,\n",
              " 5,\n",
              " 5,\n",
              " 5,\n",
              " 5,\n",
              " 5,\n",
              " 5,\n",
              " 5,\n",
              " 5,\n",
              " 5,\n",
              " 5,\n",
              " 5,\n",
              " 5,\n",
              " 5,\n",
              " 5,\n",
              " 5,\n",
              " 5,\n",
              " 5,\n",
              " 5,\n",
              " 4,\n",
              " 4,\n",
              " 4,\n",
              " 4,\n",
              " 4,\n",
              " 4,\n",
              " 4,\n",
              " 4,\n",
              " 4,\n",
              " 4,\n",
              " 4,\n",
              " 4,\n",
              " 4,\n",
              " 4,\n",
              " 4,\n",
              " 3,\n",
              " 3]"
            ]
          },
          "metadata": {},
          "execution_count": 97
        }
      ]
    },
    {
      "cell_type": "code",
      "source": [
        "doge.block_height()"
      ],
      "metadata": {
        "id": "HUNYk5HDWYZP"
      },
      "execution_count": null,
      "outputs": []
    },
    {
      "cell_type": "markdown",
      "source": [
        "# Automate Reading From Dogecoin Blockchain"
      ],
      "metadata": {
        "id": "IlK7oSOV91Dw"
      }
    },
    {
      "cell_type": "code",
      "source": [
        "doge=cryptos.Doge()\n",
        "doge.fetchtx('a01e8625d653f4a8686b5b9e20ca653e59ebcd8bf2ca2a7b8370fdc52417f7b9')"
      ],
      "metadata": {
        "id": "0A2B9EEA5yIF",
        "outputId": "ae4a957f-438a-4342-8fd0-9d2a383fc6be",
        "colab": {
          "base_uri": "https://localhost:8080/"
        }
      },
      "execution_count": 10,
      "outputs": [
        {
          "output_type": "execute_result",
          "data": {
            "text/plain": [
              "{'blockhash': '4fc98c5553dc5fe736db42ff1aab70c70bac53db4c53552b26374e2b80535884',\n",
              " 'confirmations': 1258,\n",
              " 'inputs': [{'address': 'D6zKNnkupqRbkB9p5rwix8QiobQWJazjyX',\n",
              "   'from_output': {'output_no': 0,\n",
              "    'txid': '53ae86951b38d91cc01a90e7cf9e7089ffff0a4b81a46fcd02a104d696247cb2'},\n",
              "   'input_no': 0,\n",
              "   'script': '304402203ae7b7a459935093fe7534f8d728592047eba5efeb1501936f66da97519bdad70220340831c96477fb031ba7ae694da6eda389d8203ef17a8dd81fbc7d045f7ded2801 047c88e9a4df6e9f45656c10bf66f28e28be235a15b64820b254f1b9eb2738314e6769f5c94da0c7640ffe76dcffca053b07a0804cd53a1c51ad03bfe0133ce8c5',\n",
              "   'sequence': 4294967295,\n",
              "   'type': 'pubkeyhash',\n",
              "   'value': '5.17545453',\n",
              "   'witness': None},\n",
              "  {'address': 'D6zKNnkupqRbkB9p5rwix8QiobQWJazjyX',\n",
              "   'from_output': {'output_no': 0,\n",
              "    'txid': '7de555db92ec394ebb6050928c9b70fd34bf6fb2ed5e33e33c3f4b9dfc9e8900'},\n",
              "   'input_no': 1,\n",
              "   'script': '3045022100d6bc4339f8616e77d69357f61ad273b5f77ac5e27364abeccab987856af5557f022059e182df185ea1ae3671f5161658611391f52764d51742bd7a4eaba8b36c0b3901 047c88e9a4df6e9f45656c10bf66f28e28be235a15b64820b254f1b9eb2738314e6769f5c94da0c7640ffe76dcffca053b07a0804cd53a1c51ad03bfe0133ce8c5',\n",
              "   'sequence': 4294967295,\n",
              "   'type': 'pubkeyhash',\n",
              "   'value': '5.17545453',\n",
              "   'witness': None},\n",
              "  {'address': 'D6zKNnkupqRbkB9p5rwix8QiobQWJazjyX',\n",
              "   'from_output': {'output_no': 0,\n",
              "    'txid': '1c1479726fd2832bae02564234e2eb59f6eedb36ed1b74acf4f557006eb9540e'},\n",
              "   'input_no': 2,\n",
              "   'script': '304502210093faa1f283dd4ec13d67f50fda8360d6c76d8353a4e37d47eb5747f63824115202201f8c2aa2fbc8761bd1430c5c0df6e126934dee599616d889563319b55a91b64301 047c88e9a4df6e9f45656c10bf66f28e28be235a15b64820b254f1b9eb2738314e6769f5c94da0c7640ffe76dcffca053b07a0804cd53a1c51ad03bfe0133ce8c5',\n",
              "   'sequence': 4294967295,\n",
              "   'type': 'pubkeyhash',\n",
              "   'value': '5.17545453',\n",
              "   'witness': None},\n",
              "  {'address': 'D6zKNnkupqRbkB9p5rwix8QiobQWJazjyX',\n",
              "   'from_output': {'output_no': 0,\n",
              "    'txid': '1a5b286ce3e440fade57d07c23484996f70049ddc11123d79875b99aa9dfc914'},\n",
              "   'input_no': 3,\n",
              "   'script': '3045022100d4b6681db0b83cf148e6be6822d78246b003ea7089739a98fef7f75649794fea02201b9cead55c12f2efd2eae3afdb8e8725c66c2f267687a85af88411d2da6dccb901 047c88e9a4df6e9f45656c10bf66f28e28be235a15b64820b254f1b9eb2738314e6769f5c94da0c7640ffe76dcffca053b07a0804cd53a1c51ad03bfe0133ce8c5',\n",
              "   'sequence': 4294967295,\n",
              "   'type': 'pubkeyhash',\n",
              "   'value': '5.17545453',\n",
              "   'witness': None},\n",
              "  {'address': 'D6zKNnkupqRbkB9p5rwix8QiobQWJazjyX',\n",
              "   'from_output': {'output_no': 0,\n",
              "    'txid': 'bb5f99b53d66282d920c00c4cdb0ca32309f14754dfa43ae3beca55e85cba934'},\n",
              "   'input_no': 4,\n",
              "   'script': '3045022100911dfa48097c8629907f934d2ad7e00d896afa60e6c0cfa43547aaf04a4d7624022013741b24b8848717397b55d46a941379a5af1c230cef3f16a6e0ef906435df8301 047c88e9a4df6e9f45656c10bf66f28e28be235a15b64820b254f1b9eb2738314e6769f5c94da0c7640ffe76dcffca053b07a0804cd53a1c51ad03bfe0133ce8c5',\n",
              "   'sequence': 4294967295,\n",
              "   'type': 'pubkeyhash',\n",
              "   'value': '5.17545453',\n",
              "   'witness': None},\n",
              "  {'address': 'D6zKNnkupqRbkB9p5rwix8QiobQWJazjyX',\n",
              "   'from_output': {'output_no': 0,\n",
              "    'txid': 'd10c6b53dd83a3c337399e13b321f9661e4618c767f2a148c19327563e09573c'},\n",
              "   'input_no': 5,\n",
              "   'script': '304502210081650e376f2775a528263f450f3565dbd771052a755c4714864dad86eed857f802202a79d38a99c9985abf6cb9b340fc206c567bd36fb54ce5c6cd3fac69e7f58fa601 047c88e9a4df6e9f45656c10bf66f28e28be235a15b64820b254f1b9eb2738314e6769f5c94da0c7640ffe76dcffca053b07a0804cd53a1c51ad03bfe0133ce8c5',\n",
              "   'sequence': 4294967295,\n",
              "   'type': 'pubkeyhash',\n",
              "   'value': '5.17545453',\n",
              "   'witness': None},\n",
              "  {'address': 'D6zKNnkupqRbkB9p5rwix8QiobQWJazjyX',\n",
              "   'from_output': {'output_no': 0,\n",
              "    'txid': '2a1d66ec1e63ec0c756aaa189051ac79b54190cc78881033d8df6abdfa751d61'},\n",
              "   'input_no': 6,\n",
              "   'script': '3045022100d056a1955a40dba998be1de34f4fa86a3276b45c7e3a50a9b7856be83c9d80c802203407e600ea7b5bc845b45ce57f353efa33de81ac831c20a0afbd8364dc7949a001 047c88e9a4df6e9f45656c10bf66f28e28be235a15b64820b254f1b9eb2738314e6769f5c94da0c7640ffe76dcffca053b07a0804cd53a1c51ad03bfe0133ce8c5',\n",
              "   'sequence': 4294967295,\n",
              "   'type': 'pubkeyhash',\n",
              "   'value': '5.17545453',\n",
              "   'witness': None},\n",
              "  {'address': 'D6zKNnkupqRbkB9p5rwix8QiobQWJazjyX',\n",
              "   'from_output': {'output_no': 0,\n",
              "    'txid': '140f0c2e4f95c046c2361181ee67e4922a27fc9db0e31d64d46467470c86fc6a'},\n",
              "   'input_no': 7,\n",
              "   'script': '3045022100bea4aa18c2c08605231e779ed1318967f2644fae6cb29312dd57f76f899b5ac5022034d9c90c930f011088993c9875a7060a903a1e9050a24121dc55388e7a03629e01 047c88e9a4df6e9f45656c10bf66f28e28be235a15b64820b254f1b9eb2738314e6769f5c94da0c7640ffe76dcffca053b07a0804cd53a1c51ad03bfe0133ce8c5',\n",
              "   'sequence': 4294967295,\n",
              "   'type': 'pubkeyhash',\n",
              "   'value': '5.17545453',\n",
              "   'witness': None},\n",
              "  {'address': 'D6zKNnkupqRbkB9p5rwix8QiobQWJazjyX',\n",
              "   'from_output': {'output_no': 0,\n",
              "    'txid': '7176b077494c85a7fbc34c174fc75e4d009c2a294de6884de22ad9256a15216e'},\n",
              "   'input_no': 8,\n",
              "   'script': '3045022100fddb1357c970b69361dbf409fec474829381d3ebd33be500cb15594c3e714c6902207ab1eb6283e8c31966e0c4009b179292efd150ea3932aabd93f3f5ef0009072901 047c88e9a4df6e9f45656c10bf66f28e28be235a15b64820b254f1b9eb2738314e6769f5c94da0c7640ffe76dcffca053b07a0804cd53a1c51ad03bfe0133ce8c5',\n",
              "   'sequence': 4294967295,\n",
              "   'type': 'pubkeyhash',\n",
              "   'value': '5.17545453',\n",
              "   'witness': None},\n",
              "  {'address': 'D6zKNnkupqRbkB9p5rwix8QiobQWJazjyX',\n",
              "   'from_output': {'output_no': 0,\n",
              "    'txid': 'ebcd6115961bcef1a4bad384000dc4fa4d66cafc24d029bbec340a084f95a76e'},\n",
              "   'input_no': 9,\n",
              "   'script': '3045022100fa1cddcaca225ff7548a3eac57cdcf271efb9f503d34959aa7e9ed4aa370a32202207719b76c8e6f1be4f56746893dedef8905d6ff2acea4162fc1bca70764ecb54801 047c88e9a4df6e9f45656c10bf66f28e28be235a15b64820b254f1b9eb2738314e6769f5c94da0c7640ffe76dcffca053b07a0804cd53a1c51ad03bfe0133ce8c5',\n",
              "   'sequence': 4294967295,\n",
              "   'type': 'pubkeyhash',\n",
              "   'value': '5.17545453',\n",
              "   'witness': None},\n",
              "  {'address': 'D6zKNnkupqRbkB9p5rwix8QiobQWJazjyX',\n",
              "   'from_output': {'output_no': 0,\n",
              "    'txid': '61ffbaef642a5810196d6bee7f918eb15f3492764ec63806c76c4b29a6f32f8e'},\n",
              "   'input_no': 10,\n",
              "   'script': '3044022042c43487e32d3afa90167695d514e52ca64a9fe736c66fd692af812911c94393022015eafbee61975337507e0f233c23c2edeb280504a5762792f52bfa7bd4aeca1901 047c88e9a4df6e9f45656c10bf66f28e28be235a15b64820b254f1b9eb2738314e6769f5c94da0c7640ffe76dcffca053b07a0804cd53a1c51ad03bfe0133ce8c5',\n",
              "   'sequence': 4294967295,\n",
              "   'type': 'pubkeyhash',\n",
              "   'value': '5.17545453',\n",
              "   'witness': None},\n",
              "  {'address': 'D6zKNnkupqRbkB9p5rwix8QiobQWJazjyX',\n",
              "   'from_output': {'output_no': 0,\n",
              "    'txid': '05258574937feee15ca3b62d3adf7e6419c0d8eacd7d9cf1da2f3a9b4cbc4791'},\n",
              "   'input_no': 11,\n",
              "   'script': '3045022100a0ebe8b11a44aa80faca87c943c1b9eff4c77d1b38e65c25a66cb9d9307ffe4c022047efc14f564980007cc76a9680cdbd831c7ea68a6a40fad37ef3982dbee3b25a01 047c88e9a4df6e9f45656c10bf66f28e28be235a15b64820b254f1b9eb2738314e6769f5c94da0c7640ffe76dcffca053b07a0804cd53a1c51ad03bfe0133ce8c5',\n",
              "   'sequence': 4294967295,\n",
              "   'type': 'pubkeyhash',\n",
              "   'value': '5.17545453',\n",
              "   'witness': None},\n",
              "  {'address': 'D6zKNnkupqRbkB9p5rwix8QiobQWJazjyX',\n",
              "   'from_output': {'output_no': 0,\n",
              "    'txid': '53b6990a5ff193acc212287463b0eb183018c67935debffd061ccba0187612b6'},\n",
              "   'input_no': 12,\n",
              "   'script': '3045022100f0de0ed2ffb892ac40312930dab045fc5394ffffeabaf17c903686a1931f1a0b02206e2a89dfc3c0a6adbd96622e8d4c1db08459f4d714db32edde29c41518852b6f01 047c88e9a4df6e9f45656c10bf66f28e28be235a15b64820b254f1b9eb2738314e6769f5c94da0c7640ffe76dcffca053b07a0804cd53a1c51ad03bfe0133ce8c5',\n",
              "   'sequence': 4294967295,\n",
              "   'type': 'pubkeyhash',\n",
              "   'value': '5.17545453',\n",
              "   'witness': None},\n",
              "  {'address': 'D6zKNnkupqRbkB9p5rwix8QiobQWJazjyX',\n",
              "   'from_output': {'output_no': 0,\n",
              "    'txid': '3c660aac73dc85dfbba77e3697ce9e29166b05b4931952125eafb337c174f9c1'},\n",
              "   'input_no': 13,\n",
              "   'script': '304502210088b9921e17ef09ef6e503ee5fd360661ed781c61777f2eb70146b8d04dbbe3d402203ab0199be232d064b6b137178f1bae8dea55a00b21aa0685d04980a05444d5d201 047c88e9a4df6e9f45656c10bf66f28e28be235a15b64820b254f1b9eb2738314e6769f5c94da0c7640ffe76dcffca053b07a0804cd53a1c51ad03bfe0133ce8c5',\n",
              "   'sequence': 4294967295,\n",
              "   'type': 'pubkeyhash',\n",
              "   'value': '5.17545453',\n",
              "   'witness': None},\n",
              "  {'address': 'D6zKNnkupqRbkB9p5rwix8QiobQWJazjyX',\n",
              "   'from_output': {'output_no': 0,\n",
              "    'txid': 'de84f6f0dab5da79cc78799c254406646f232fc2246c0cf2ecae8ea3600bd9c9'},\n",
              "   'input_no': 14,\n",
              "   'script': '3044022001644c76086969076991a4ff081f45be69cc976aaaa6461bb6e0c16b35d5f9e802206d78970f7fced1e4735dbe7e0504c91d51fa11cb9a0d6c189a07ff2160fe7bbc01 047c88e9a4df6e9f45656c10bf66f28e28be235a15b64820b254f1b9eb2738314e6769f5c94da0c7640ffe76dcffca053b07a0804cd53a1c51ad03bfe0133ce8c5',\n",
              "   'sequence': 4294967295,\n",
              "   'type': 'pubkeyhash',\n",
              "   'value': '5.17545453',\n",
              "   'witness': None},\n",
              "  {'address': 'D6zKNnkupqRbkB9p5rwix8QiobQWJazjyX',\n",
              "   'from_output': {'output_no': 0,\n",
              "    'txid': 'a872861d4cc200139f804cfbeb687015ed3b2eb7c4c490077ef537c5bb1143d2'},\n",
              "   'input_no': 15,\n",
              "   'script': '3045022100d8adb1ecd04dda2935ea0fd67a7f420ec071519487652ab9f752f206cc76f63702206ece574498853b3f87a2d525f8b66e003a8c9a6d4b65041374a688e559a1d4b701 047c88e9a4df6e9f45656c10bf66f28e28be235a15b64820b254f1b9eb2738314e6769f5c94da0c7640ffe76dcffca053b07a0804cd53a1c51ad03bfe0133ce8c5',\n",
              "   'sequence': 4294967295,\n",
              "   'type': 'pubkeyhash',\n",
              "   'value': '5.17545453',\n",
              "   'witness': None},\n",
              "  {'address': 'D6zKNnkupqRbkB9p5rwix8QiobQWJazjyX',\n",
              "   'from_output': {'output_no': 0,\n",
              "    'txid': '9a18605e2f78a5e2c20e3c7546893b042266762e9e1db599c00072dea802d8df'},\n",
              "   'input_no': 16,\n",
              "   'script': '3045022100a9bf0567f8820ad9b5f89ab279a3be34900227141f88208f8dcb38877b6dfd8202202a25547c4c9856686d15b60382553c540be652de94f0708dd57fc96649f05b7501 047c88e9a4df6e9f45656c10bf66f28e28be235a15b64820b254f1b9eb2738314e6769f5c94da0c7640ffe76dcffca053b07a0804cd53a1c51ad03bfe0133ce8c5',\n",
              "   'sequence': 4294967295,\n",
              "   'type': 'pubkeyhash',\n",
              "   'value': '5.17545453',\n",
              "   'witness': None},\n",
              "  {'address': 'D6zKNnkupqRbkB9p5rwix8QiobQWJazjyX',\n",
              "   'from_output': {'output_no': 0,\n",
              "    'txid': 'f5966121a6d69fac636c9b9148c9454cf19387bd153def1de1c77e1ff0a7a828'},\n",
              "   'input_no': 17,\n",
              "   'script': '30440220317c18a82edfe508afafd3e0eccae722a3e615c7d471848cdb425515fb36369c02204252d0a0a797900f4a26d3e0606a0c06cc9a440c999dcbcf5d6708e722a1baf901 047c88e9a4df6e9f45656c10bf66f28e28be235a15b64820b254f1b9eb2738314e6769f5c94da0c7640ffe76dcffca053b07a0804cd53a1c51ad03bfe0133ce8c5',\n",
              "   'sequence': 4294967295,\n",
              "   'type': 'pubkeyhash',\n",
              "   'value': '5.17545453',\n",
              "   'witness': None},\n",
              "  {'address': 'D6zKNnkupqRbkB9p5rwix8QiobQWJazjyX',\n",
              "   'from_output': {'output_no': 0,\n",
              "    'txid': '8945c36e6e93fa0128a64bc8a2dc36f042652f8d7f50930dd6250f34b93dc72f'},\n",
              "   'input_no': 18,\n",
              "   'script': '304402202e201db3289948e741f7e275d1177fe5c595af084c1e788d04eecbd02eafdc9002201487ff34a921a5fffb8bf4a994127ac2db120b041bd33cf91fdb54148bd233d601 047c88e9a4df6e9f45656c10bf66f28e28be235a15b64820b254f1b9eb2738314e6769f5c94da0c7640ffe76dcffca053b07a0804cd53a1c51ad03bfe0133ce8c5',\n",
              "   'sequence': 4294967295,\n",
              "   'type': 'pubkeyhash',\n",
              "   'value': '5.17545453',\n",
              "   'witness': None},\n",
              "  {'address': 'D6zKNnkupqRbkB9p5rwix8QiobQWJazjyX',\n",
              "   'from_output': {'output_no': 0,\n",
              "    'txid': '9e5cc64874aa80076765b0ab06d6858c4f16b32dbe5c3f504a9695b49cfd953c'},\n",
              "   'input_no': 19,\n",
              "   'script': '3045022100fa36ba631d56e807ec4a79af3b25da0470e2ce383491d36d8edbebe4747a978302203d61d5ebb3a464f4fc85ad8ab4ac2d32028385e31511e7dd577d60da36f5e87c01 047c88e9a4df6e9f45656c10bf66f28e28be235a15b64820b254f1b9eb2738314e6769f5c94da0c7640ffe76dcffca053b07a0804cd53a1c51ad03bfe0133ce8c5',\n",
              "   'sequence': 4294967295,\n",
              "   'type': 'pubkeyhash',\n",
              "   'value': '5.17545453',\n",
              "   'witness': None},\n",
              "  {'address': 'D6zKNnkupqRbkB9p5rwix8QiobQWJazjyX',\n",
              "   'from_output': {'output_no': 0,\n",
              "    'txid': 'c0c0100357741223008b3d543d248b0be2fa2a4ebb17b113729298088951774b'},\n",
              "   'input_no': 20,\n",
              "   'script': '3045022100da7832cd07419402543c686bcda72d6b8444fa63a35447c1260bdc6a9ebb5d3d02203b490ba761d196d458de1f99ef8ee93d116d3bb8be5be7846ac84fad77ba038601 047c88e9a4df6e9f45656c10bf66f28e28be235a15b64820b254f1b9eb2738314e6769f5c94da0c7640ffe76dcffca053b07a0804cd53a1c51ad03bfe0133ce8c5',\n",
              "   'sequence': 4294967295,\n",
              "   'type': 'pubkeyhash',\n",
              "   'value': '5.17545453',\n",
              "   'witness': None},\n",
              "  {'address': 'D6zKNnkupqRbkB9p5rwix8QiobQWJazjyX',\n",
              "   'from_output': {'output_no': 0,\n",
              "    'txid': 'a3559b089d1bd48c6c395c47e0d86e81565342edf8979548337f022f39842356'},\n",
              "   'input_no': 21,\n",
              "   'script': '30440220093f25e79fe032ee9e23f248cdf695f4ba010492a7a430bfc34670c7b8f49bb6022007b33b2050169c1caf74353c02b5bffb71cdb79c114be6bb2b3a1614c183b5e601 047c88e9a4df6e9f45656c10bf66f28e28be235a15b64820b254f1b9eb2738314e6769f5c94da0c7640ffe76dcffca053b07a0804cd53a1c51ad03bfe0133ce8c5',\n",
              "   'sequence': 4294967295,\n",
              "   'type': 'pubkeyhash',\n",
              "   'value': '5.17545453',\n",
              "   'witness': None},\n",
              "  {'address': 'D6zKNnkupqRbkB9p5rwix8QiobQWJazjyX',\n",
              "   'from_output': {'output_no': 0,\n",
              "    'txid': '85981e0d4245c10cdba9c1d869cc0db10505da89bb2936e464a63b5b21e9095b'},\n",
              "   'input_no': 22,\n",
              "   'script': '3044022058a59ab78ca391fe369b6067999c5c5b80dbb8756e573687f100dbb50b45887402205a185aab424b45bcfdd34608b7cddc79a271977a2b9a651561105a13c31b731e01 047c88e9a4df6e9f45656c10bf66f28e28be235a15b64820b254f1b9eb2738314e6769f5c94da0c7640ffe76dcffca053b07a0804cd53a1c51ad03bfe0133ce8c5',\n",
              "   'sequence': 4294967295,\n",
              "   'type': 'pubkeyhash',\n",
              "   'value': '5.17545453',\n",
              "   'witness': None},\n",
              "  {'address': 'D6zKNnkupqRbkB9p5rwix8QiobQWJazjyX',\n",
              "   'from_output': {'output_no': 0,\n",
              "    'txid': '3c940d05069c830176016044cf23cd8ed727bb078a0d5c8cca54cd7013b09f71'},\n",
              "   'input_no': 23,\n",
              "   'script': '304402202bb73e0ae262856c2addcd856472863dfa6459a8f9867522c988e4959b45047c0220384d5c9cd2253ed7f081dad2e3ed2e3a003037b2bbd6eb413ee3b2ec5593bed201 047c88e9a4df6e9f45656c10bf66f28e28be235a15b64820b254f1b9eb2738314e6769f5c94da0c7640ffe76dcffca053b07a0804cd53a1c51ad03bfe0133ce8c5',\n",
              "   'sequence': 4294967295,\n",
              "   'type': 'pubkeyhash',\n",
              "   'value': '5.17545453',\n",
              "   'witness': None},\n",
              "  {'address': 'D6zKNnkupqRbkB9p5rwix8QiobQWJazjyX',\n",
              "   'from_output': {'output_no': 0,\n",
              "    'txid': 'e970f755be8b9926f319157d1362926ba4b0b62e28bbccf7667d5b242c010f7c'},\n",
              "   'input_no': 24,\n",
              "   'script': '30440220159176146015bf6141fb53bbaa058a850282d72a654b421a6cf93394ca02581e022072e29fe576dc26216e71046d276d388104fa8e0509b655018d1b99411136fca701 047c88e9a4df6e9f45656c10bf66f28e28be235a15b64820b254f1b9eb2738314e6769f5c94da0c7640ffe76dcffca053b07a0804cd53a1c51ad03bfe0133ce8c5',\n",
              "   'sequence': 4294967295,\n",
              "   'type': 'pubkeyhash',\n",
              "   'value': '5.17545453',\n",
              "   'witness': None},\n",
              "  {'address': 'D6zKNnkupqRbkB9p5rwix8QiobQWJazjyX',\n",
              "   'from_output': {'output_no': 0,\n",
              "    'txid': '2f3162731462b52420ef5954c7d634f0c2a779dae3688795b53d5a9eed15508c'},\n",
              "   'input_no': 25,\n",
              "   'script': '3044022072c6bc7b065d90f89fa9b51813329aaa94d33be66cd8b0cb85a7475f025a23d40220643630e93bb3467f986541a6f02a6c1e9b34e35d138a123d26e07759743a057701 047c88e9a4df6e9f45656c10bf66f28e28be235a15b64820b254f1b9eb2738314e6769f5c94da0c7640ffe76dcffca053b07a0804cd53a1c51ad03bfe0133ce8c5',\n",
              "   'sequence': 4294967295,\n",
              "   'type': 'pubkeyhash',\n",
              "   'value': '5.17545453',\n",
              "   'witness': None},\n",
              "  {'address': 'D6zKNnkupqRbkB9p5rwix8QiobQWJazjyX',\n",
              "   'from_output': {'output_no': 0,\n",
              "    'txid': '47c5dd87328ae082e876f4e23c2eb253e861f1525293063d92b45a43e183b697'},\n",
              "   'input_no': 26,\n",
              "   'script': '30450221009304ce6b2682ada1412ec4f7ee1b85f57f070198cdfa5539a48d1e70f18628fd02202d57f6c7e084ab6f2e62dd1e14d7d4edf62bba67a437efd2adb2dd3acd30c15c01 047c88e9a4df6e9f45656c10bf66f28e28be235a15b64820b254f1b9eb2738314e6769f5c94da0c7640ffe76dcffca053b07a0804cd53a1c51ad03bfe0133ce8c5',\n",
              "   'sequence': 4294967295,\n",
              "   'type': 'pubkeyhash',\n",
              "   'value': '5.17545453',\n",
              "   'witness': None},\n",
              "  {'address': 'D6zKNnkupqRbkB9p5rwix8QiobQWJazjyX',\n",
              "   'from_output': {'output_no': 0,\n",
              "    'txid': '5c57cad54308ffac804dbaee849bdcddc03b520148009a10f85427958773109a'},\n",
              "   'input_no': 27,\n",
              "   'script': '30450221008d8f094137ad30ebd3d09bdddc6310bfa7fbfcdbe10488912379e4c9bcf92362022037dfc1e01ec60f5426fbc566e07b48d94556fd4e2902751e2aa7f68f54d0812401 047c88e9a4df6e9f45656c10bf66f28e28be235a15b64820b254f1b9eb2738314e6769f5c94da0c7640ffe76dcffca053b07a0804cd53a1c51ad03bfe0133ce8c5',\n",
              "   'sequence': 4294967295,\n",
              "   'type': 'pubkeyhash',\n",
              "   'value': '5.17545453',\n",
              "   'witness': None},\n",
              "  {'address': 'D6zKNnkupqRbkB9p5rwix8QiobQWJazjyX',\n",
              "   'from_output': {'output_no': 0,\n",
              "    'txid': '8ef8d8e2f58a1b9765c5df7ac576abcb817cfea17c31e03df923070d984f54a6'},\n",
              "   'input_no': 28,\n",
              "   'script': '30440220346363854b8cab7a6099686a1e0a114966101b3006cf68c1dccbec7fa42d9f71022063b4aef5c2676ffda87eba8bd18c63d9dd06ebe486caf106a0a669f38413519601 047c88e9a4df6e9f45656c10bf66f28e28be235a15b64820b254f1b9eb2738314e6769f5c94da0c7640ffe76dcffca053b07a0804cd53a1c51ad03bfe0133ce8c5',\n",
              "   'sequence': 4294967295,\n",
              "   'type': 'pubkeyhash',\n",
              "   'value': '5.17545453',\n",
              "   'witness': None},\n",
              "  {'address': 'D6zKNnkupqRbkB9p5rwix8QiobQWJazjyX',\n",
              "   'from_output': {'output_no': 0,\n",
              "    'txid': '8a77887d58c01356e03a2c78af159908ef3274abf93945309b86e9b3e797d4ac'},\n",
              "   'input_no': 29,\n",
              "   'script': '304402200f55629dc2f6470ca337adcfdca933a3306783edf411b345af8fef3a6c24ac2202205363c660aecf89feb2194597912657ec2d8f4aa7586b54a380b30658a09bc67201 047c88e9a4df6e9f45656c10bf66f28e28be235a15b64820b254f1b9eb2738314e6769f5c94da0c7640ffe76dcffca053b07a0804cd53a1c51ad03bfe0133ce8c5',\n",
              "   'sequence': 4294967295,\n",
              "   'type': 'pubkeyhash',\n",
              "   'value': '5.17545453',\n",
              "   'witness': None},\n",
              "  {'address': 'D6zKNnkupqRbkB9p5rwix8QiobQWJazjyX',\n",
              "   'from_output': {'output_no': 0,\n",
              "    'txid': 'a23f334f08af6e56fa7553bc204c3b9e04f8c6f0e93f3c9bf300ef0a0ba8e3b1'},\n",
              "   'input_no': 30,\n",
              "   'script': '30450221008a72ec0d01b270068f779bf8d8e524802be1fc06d94bf14465118829b3334a5802205664f33db796ca903c46db00516e6612fbd03b0c1d30b8d325bf0c020c6437f301 047c88e9a4df6e9f45656c10bf66f28e28be235a15b64820b254f1b9eb2738314e6769f5c94da0c7640ffe76dcffca053b07a0804cd53a1c51ad03bfe0133ce8c5',\n",
              "   'sequence': 4294967295,\n",
              "   'type': 'pubkeyhash',\n",
              "   'value': '5.17545453',\n",
              "   'witness': None},\n",
              "  {'address': 'D6zKNnkupqRbkB9p5rwix8QiobQWJazjyX',\n",
              "   'from_output': {'output_no': 0,\n",
              "    'txid': 'c926f0d9a2311ccb422de595908bd8c9c7c5332a8c78a39a33645a26076400ca'},\n",
              "   'input_no': 31,\n",
              "   'script': '3044022055fd999dd68b30396c9653125db67f6b9b6b43dfb44aedb452bc216293bcbc8f02200c3750e5a2f107de73678de9d599bad32b2647805baac3291d320c5918e4c17501 047c88e9a4df6e9f45656c10bf66f28e28be235a15b64820b254f1b9eb2738314e6769f5c94da0c7640ffe76dcffca053b07a0804cd53a1c51ad03bfe0133ce8c5',\n",
              "   'sequence': 4294967295,\n",
              "   'type': 'pubkeyhash',\n",
              "   'value': '5.17545453',\n",
              "   'witness': None},\n",
              "  {'address': 'D6zKNnkupqRbkB9p5rwix8QiobQWJazjyX',\n",
              "   'from_output': {'output_no': 0,\n",
              "    'txid': '5ce5a1e96c64eb1d917f1ae6883f47a86c2a06e42709cc77fbdbb5256492ecdd'},\n",
              "   'input_no': 32,\n",
              "   'script': '3045022100a41eee78bd253b39ff72327a3fe82e6d0090e65b602cfdeffa795482fcccb13502203357bc2687aa0541554998f7058bce99a0766ee48e7dde21c538fbf8d4f6f91701 047c88e9a4df6e9f45656c10bf66f28e28be235a15b64820b254f1b9eb2738314e6769f5c94da0c7640ffe76dcffca053b07a0804cd53a1c51ad03bfe0133ce8c5',\n",
              "   'sequence': 4294967295,\n",
              "   'type': 'pubkeyhash',\n",
              "   'value': '5.17545453',\n",
              "   'witness': None},\n",
              "  {'address': 'D6zKNnkupqRbkB9p5rwix8QiobQWJazjyX',\n",
              "   'from_output': {'output_no': 0,\n",
              "    'txid': '66db18121392ec6b65887c36ea303407533f38ed176a01f819d5f2aacd862872'},\n",
              "   'input_no': 33,\n",
              "   'script': '3045022100adbdeb4e3716c016c85c6611f03fba8af04a703beed065b50d20ab61a38b3bf7022010c3815f4033c45f59bd326b431f799b3bbdb4b89f43936c45a06bfdecbebe3801 047c88e9a4df6e9f45656c10bf66f28e28be235a15b64820b254f1b9eb2738314e6769f5c94da0c7640ffe76dcffca053b07a0804cd53a1c51ad03bfe0133ce8c5',\n",
              "   'sequence': 4294967295,\n",
              "   'type': 'pubkeyhash',\n",
              "   'value': '406.67557108',\n",
              "   'witness': None}],\n",
              " 'locktime': 0,\n",
              " 'network': 'DOGE',\n",
              " 'network_fee': '13.70000014',\n",
              " 'outputs': [{'address': 'D6zKNnkupqRbkB9p5rwix8QiobQWJazjyX',\n",
              "   'output_no': 0,\n",
              "   'script': 'OP_DUP OP_HASH160 144739367df0ff8d1c61d03704298d49cf93ef3f OP_EQUALVERIFY OP_CHECKSIG',\n",
              "   'type': 'pubkeyhash',\n",
              "   'value': '5.81201619'},\n",
              "  {'address': 'D6zKNnkupqRbkB9p5rwix8QiobQWJazjyX',\n",
              "   'output_no': 1,\n",
              "   'script': 'OP_DUP OP_HASH160 144739367df0ff8d1c61d03704298d49cf93ef3f OP_EQUALVERIFY OP_CHECKSIG',\n",
              "   'type': 'pubkeyhash',\n",
              "   'value': '5.81201619'},\n",
              "  {'address': 'D6zKNnkupqRbkB9p5rwix8QiobQWJazjyX',\n",
              "   'output_no': 2,\n",
              "   'script': 'OP_DUP OP_HASH160 144739367df0ff8d1c61d03704298d49cf93ef3f OP_EQUALVERIFY OP_CHECKSIG',\n",
              "   'type': 'pubkeyhash',\n",
              "   'value': '5.81201619'},\n",
              "  {'address': 'D6zKNnkupqRbkB9p5rwix8QiobQWJazjyX',\n",
              "   'output_no': 3,\n",
              "   'script': 'OP_DUP OP_HASH160 144739367df0ff8d1c61d03704298d49cf93ef3f OP_EQUALVERIFY OP_CHECKSIG',\n",
              "   'type': 'pubkeyhash',\n",
              "   'value': '5.81201619'},\n",
              "  {'address': 'D6zKNnkupqRbkB9p5rwix8QiobQWJazjyX',\n",
              "   'output_no': 4,\n",
              "   'script': 'OP_DUP OP_HASH160 144739367df0ff8d1c61d03704298d49cf93ef3f OP_EQUALVERIFY OP_CHECKSIG',\n",
              "   'type': 'pubkeyhash',\n",
              "   'value': '5.81201619'},\n",
              "  {'address': 'D6zKNnkupqRbkB9p5rwix8QiobQWJazjyX',\n",
              "   'output_no': 5,\n",
              "   'script': 'OP_DUP OP_HASH160 144739367df0ff8d1c61d03704298d49cf93ef3f OP_EQUALVERIFY OP_CHECKSIG',\n",
              "   'type': 'pubkeyhash',\n",
              "   'value': '5.81201619'},\n",
              "  {'address': 'D6zKNnkupqRbkB9p5rwix8QiobQWJazjyX',\n",
              "   'output_no': 6,\n",
              "   'script': 'OP_DUP OP_HASH160 144739367df0ff8d1c61d03704298d49cf93ef3f OP_EQUALVERIFY OP_CHECKSIG',\n",
              "   'type': 'pubkeyhash',\n",
              "   'value': '5.81201619'},\n",
              "  {'address': 'D6zKNnkupqRbkB9p5rwix8QiobQWJazjyX',\n",
              "   'output_no': 7,\n",
              "   'script': 'OP_DUP OP_HASH160 144739367df0ff8d1c61d03704298d49cf93ef3f OP_EQUALVERIFY OP_CHECKSIG',\n",
              "   'type': 'pubkeyhash',\n",
              "   'value': '5.81201619'},\n",
              "  {'address': 'D6zKNnkupqRbkB9p5rwix8QiobQWJazjyX',\n",
              "   'output_no': 8,\n",
              "   'script': 'OP_DUP OP_HASH160 144739367df0ff8d1c61d03704298d49cf93ef3f OP_EQUALVERIFY OP_CHECKSIG',\n",
              "   'type': 'pubkeyhash',\n",
              "   'value': '5.81201619'},\n",
              "  {'address': 'D6zKNnkupqRbkB9p5rwix8QiobQWJazjyX',\n",
              "   'output_no': 9,\n",
              "   'script': 'OP_DUP OP_HASH160 144739367df0ff8d1c61d03704298d49cf93ef3f OP_EQUALVERIFY OP_CHECKSIG',\n",
              "   'type': 'pubkeyhash',\n",
              "   'value': '5.81201619'},\n",
              "  {'address': 'D6zKNnkupqRbkB9p5rwix8QiobQWJazjyX',\n",
              "   'output_no': 10,\n",
              "   'script': 'OP_DUP OP_HASH160 144739367df0ff8d1c61d03704298d49cf93ef3f OP_EQUALVERIFY OP_CHECKSIG',\n",
              "   'type': 'pubkeyhash',\n",
              "   'value': '5.81201619'},\n",
              "  {'address': 'D6zKNnkupqRbkB9p5rwix8QiobQWJazjyX',\n",
              "   'output_no': 11,\n",
              "   'script': 'OP_DUP OP_HASH160 144739367df0ff8d1c61d03704298d49cf93ef3f OP_EQUALVERIFY OP_CHECKSIG',\n",
              "   'type': 'pubkeyhash',\n",
              "   'value': '5.81201619'},\n",
              "  {'address': 'D6zKNnkupqRbkB9p5rwix8QiobQWJazjyX',\n",
              "   'output_no': 12,\n",
              "   'script': 'OP_DUP OP_HASH160 144739367df0ff8d1c61d03704298d49cf93ef3f OP_EQUALVERIFY OP_CHECKSIG',\n",
              "   'type': 'pubkeyhash',\n",
              "   'value': '5.81201619'},\n",
              "  {'address': 'D6zKNnkupqRbkB9p5rwix8QiobQWJazjyX',\n",
              "   'output_no': 13,\n",
              "   'script': 'OP_DUP OP_HASH160 144739367df0ff8d1c61d03704298d49cf93ef3f OP_EQUALVERIFY OP_CHECKSIG',\n",
              "   'type': 'pubkeyhash',\n",
              "   'value': '5.81201619'},\n",
              "  {'address': 'D6zKNnkupqRbkB9p5rwix8QiobQWJazjyX',\n",
              "   'output_no': 14,\n",
              "   'script': 'OP_DUP OP_HASH160 144739367df0ff8d1c61d03704298d49cf93ef3f OP_EQUALVERIFY OP_CHECKSIG',\n",
              "   'type': 'pubkeyhash',\n",
              "   'value': '5.81201619'},\n",
              "  {'address': 'D6zKNnkupqRbkB9p5rwix8QiobQWJazjyX',\n",
              "   'output_no': 15,\n",
              "   'script': 'OP_DUP OP_HASH160 144739367df0ff8d1c61d03704298d49cf93ef3f OP_EQUALVERIFY OP_CHECKSIG',\n",
              "   'type': 'pubkeyhash',\n",
              "   'value': '5.81201619'},\n",
              "  {'address': 'D6zKNnkupqRbkB9p5rwix8QiobQWJazjyX',\n",
              "   'output_no': 16,\n",
              "   'script': 'OP_DUP OP_HASH160 144739367df0ff8d1c61d03704298d49cf93ef3f OP_EQUALVERIFY OP_CHECKSIG',\n",
              "   'type': 'pubkeyhash',\n",
              "   'value': '5.81201619'},\n",
              "  {'address': 'D6zKNnkupqRbkB9p5rwix8QiobQWJazjyX',\n",
              "   'output_no': 17,\n",
              "   'script': 'OP_DUP OP_HASH160 144739367df0ff8d1c61d03704298d49cf93ef3f OP_EQUALVERIFY OP_CHECKSIG',\n",
              "   'type': 'pubkeyhash',\n",
              "   'value': '5.81201619'},\n",
              "  {'address': 'D6zKNnkupqRbkB9p5rwix8QiobQWJazjyX',\n",
              "   'output_no': 18,\n",
              "   'script': 'OP_DUP OP_HASH160 144739367df0ff8d1c61d03704298d49cf93ef3f OP_EQUALVERIFY OP_CHECKSIG',\n",
              "   'type': 'pubkeyhash',\n",
              "   'value': '5.81201619'},\n",
              "  {'address': 'D6zKNnkupqRbkB9p5rwix8QiobQWJazjyX',\n",
              "   'output_no': 19,\n",
              "   'script': 'OP_DUP OP_HASH160 144739367df0ff8d1c61d03704298d49cf93ef3f OP_EQUALVERIFY OP_CHECKSIG',\n",
              "   'type': 'pubkeyhash',\n",
              "   'value': '5.81201619'},\n",
              "  {'address': 'D6zKNnkupqRbkB9p5rwix8QiobQWJazjyX',\n",
              "   'output_no': 20,\n",
              "   'script': 'OP_DUP OP_HASH160 144739367df0ff8d1c61d03704298d49cf93ef3f OP_EQUALVERIFY OP_CHECKSIG',\n",
              "   'type': 'pubkeyhash',\n",
              "   'value': '5.81201619'},\n",
              "  {'address': 'D6zKNnkupqRbkB9p5rwix8QiobQWJazjyX',\n",
              "   'output_no': 21,\n",
              "   'script': 'OP_DUP OP_HASH160 144739367df0ff8d1c61d03704298d49cf93ef3f OP_EQUALVERIFY OP_CHECKSIG',\n",
              "   'type': 'pubkeyhash',\n",
              "   'value': '5.81201619'},\n",
              "  {'address': 'D6zKNnkupqRbkB9p5rwix8QiobQWJazjyX',\n",
              "   'output_no': 22,\n",
              "   'script': 'OP_DUP OP_HASH160 144739367df0ff8d1c61d03704298d49cf93ef3f OP_EQUALVERIFY OP_CHECKSIG',\n",
              "   'type': 'pubkeyhash',\n",
              "   'value': '5.81201619'},\n",
              "  {'address': 'D6zKNnkupqRbkB9p5rwix8QiobQWJazjyX',\n",
              "   'output_no': 23,\n",
              "   'script': 'OP_DUP OP_HASH160 144739367df0ff8d1c61d03704298d49cf93ef3f OP_EQUALVERIFY OP_CHECKSIG',\n",
              "   'type': 'pubkeyhash',\n",
              "   'value': '5.81201619'},\n",
              "  {'address': 'D6zKNnkupqRbkB9p5rwix8QiobQWJazjyX',\n",
              "   'output_no': 24,\n",
              "   'script': 'OP_DUP OP_HASH160 144739367df0ff8d1c61d03704298d49cf93ef3f OP_EQUALVERIFY OP_CHECKSIG',\n",
              "   'type': 'pubkeyhash',\n",
              "   'value': '5.81201619'},\n",
              "  {'address': 'D6zKNnkupqRbkB9p5rwix8QiobQWJazjyX',\n",
              "   'output_no': 25,\n",
              "   'script': 'OP_DUP OP_HASH160 144739367df0ff8d1c61d03704298d49cf93ef3f OP_EQUALVERIFY OP_CHECKSIG',\n",
              "   'type': 'pubkeyhash',\n",
              "   'value': '5.81201619'},\n",
              "  {'address': 'D6zKNnkupqRbkB9p5rwix8QiobQWJazjyX',\n",
              "   'output_no': 26,\n",
              "   'script': 'OP_DUP OP_HASH160 144739367df0ff8d1c61d03704298d49cf93ef3f OP_EQUALVERIFY OP_CHECKSIG',\n",
              "   'type': 'pubkeyhash',\n",
              "   'value': '5.81201619'},\n",
              "  {'address': 'D6zKNnkupqRbkB9p5rwix8QiobQWJazjyX',\n",
              "   'output_no': 27,\n",
              "   'script': 'OP_DUP OP_HASH160 144739367df0ff8d1c61d03704298d49cf93ef3f OP_EQUALVERIFY OP_CHECKSIG',\n",
              "   'type': 'pubkeyhash',\n",
              "   'value': '5.81201619'},\n",
              "  {'address': 'D6zKNnkupqRbkB9p5rwix8QiobQWJazjyX',\n",
              "   'output_no': 28,\n",
              "   'script': 'OP_DUP OP_HASH160 144739367df0ff8d1c61d03704298d49cf93ef3f OP_EQUALVERIFY OP_CHECKSIG',\n",
              "   'type': 'pubkeyhash',\n",
              "   'value': '5.81201619'},\n",
              "  {'address': 'D6zKNnkupqRbkB9p5rwix8QiobQWJazjyX',\n",
              "   'output_no': 29,\n",
              "   'script': 'OP_DUP OP_HASH160 144739367df0ff8d1c61d03704298d49cf93ef3f OP_EQUALVERIFY OP_CHECKSIG',\n",
              "   'type': 'pubkeyhash',\n",
              "   'value': '5.81201619'},\n",
              "  {'address': 'D6zKNnkupqRbkB9p5rwix8QiobQWJazjyX',\n",
              "   'output_no': 30,\n",
              "   'script': 'OP_DUP OP_HASH160 144739367df0ff8d1c61d03704298d49cf93ef3f OP_EQUALVERIFY OP_CHECKSIG',\n",
              "   'type': 'pubkeyhash',\n",
              "   'value': '5.81201619'},\n",
              "  {'address': 'D6zKNnkupqRbkB9p5rwix8QiobQWJazjyX',\n",
              "   'output_no': 31,\n",
              "   'script': 'OP_DUP OP_HASH160 144739367df0ff8d1c61d03704298d49cf93ef3f OP_EQUALVERIFY OP_CHECKSIG',\n",
              "   'type': 'pubkeyhash',\n",
              "   'value': '5.81201619'},\n",
              "  {'address': 'D6zKNnkupqRbkB9p5rwix8QiobQWJazjyX',\n",
              "   'output_no': 32,\n",
              "   'script': 'OP_DUP OP_HASH160 144739367df0ff8d1c61d03704298d49cf93ef3f OP_EQUALVERIFY OP_CHECKSIG',\n",
              "   'type': 'pubkeyhash',\n",
              "   'value': '5.81201619'},\n",
              "  {'address': 'D6zKNnkupqRbkB9p5rwix8QiobQWJazjyX',\n",
              "   'output_no': 33,\n",
              "   'script': 'OP_DUP OP_HASH160 144739367df0ff8d1c61d03704298d49cf93ef3f OP_EQUALVERIFY OP_CHECKSIG',\n",
              "   'type': 'pubkeyhash',\n",
              "   'value': '5.81201619'},\n",
              "  {'address': 'D6zKNnkupqRbkB9p5rwix8QiobQWJazjyX',\n",
              "   'output_no': 34,\n",
              "   'script': 'OP_DUP OP_HASH160 144739367df0ff8d1c61d03704298d49cf93ef3f OP_EQUALVERIFY OP_CHECKSIG',\n",
              "   'type': 'pubkeyhash',\n",
              "   'value': '5.81201619'},\n",
              "  {'address': 'D6zKNnkupqRbkB9p5rwix8QiobQWJazjyX',\n",
              "   'output_no': 35,\n",
              "   'script': 'OP_DUP OP_HASH160 144739367df0ff8d1c61d03704298d49cf93ef3f OP_EQUALVERIFY OP_CHECKSIG',\n",
              "   'type': 'pubkeyhash',\n",
              "   'value': '5.81201619'},\n",
              "  {'address': 'D6zKNnkupqRbkB9p5rwix8QiobQWJazjyX',\n",
              "   'output_no': 36,\n",
              "   'script': 'OP_DUP OP_HASH160 144739367df0ff8d1c61d03704298d49cf93ef3f OP_EQUALVERIFY OP_CHECKSIG',\n",
              "   'type': 'pubkeyhash',\n",
              "   'value': '5.81201619'},\n",
              "  {'address': 'D6zKNnkupqRbkB9p5rwix8QiobQWJazjyX',\n",
              "   'output_no': 37,\n",
              "   'script': 'OP_DUP OP_HASH160 144739367df0ff8d1c61d03704298d49cf93ef3f OP_EQUALVERIFY OP_CHECKSIG',\n",
              "   'type': 'pubkeyhash',\n",
              "   'value': '5.81201619'},\n",
              "  {'address': 'D6zKNnkupqRbkB9p5rwix8QiobQWJazjyX',\n",
              "   'output_no': 38,\n",
              "   'script': 'OP_DUP OP_HASH160 144739367df0ff8d1c61d03704298d49cf93ef3f OP_EQUALVERIFY OP_CHECKSIG',\n",
              "   'type': 'pubkeyhash',\n",
              "   'value': '5.81201619'},\n",
              "  {'address': 'D6zKNnkupqRbkB9p5rwix8QiobQWJazjyX',\n",
              "   'output_no': 39,\n",
              "   'script': 'OP_DUP OP_HASH160 144739367df0ff8d1c61d03704298d49cf93ef3f OP_EQUALVERIFY OP_CHECKSIG',\n",
              "   'type': 'pubkeyhash',\n",
              "   'value': '5.81201619'},\n",
              "  {'address': 'D6zKNnkupqRbkB9p5rwix8QiobQWJazjyX',\n",
              "   'output_no': 40,\n",
              "   'script': 'OP_DUP OP_HASH160 144739367df0ff8d1c61d03704298d49cf93ef3f OP_EQUALVERIFY OP_CHECKSIG',\n",
              "   'type': 'pubkeyhash',\n",
              "   'value': '5.81201619'},\n",
              "  {'address': 'D6zKNnkupqRbkB9p5rwix8QiobQWJazjyX',\n",
              "   'output_no': 41,\n",
              "   'script': 'OP_DUP OP_HASH160 144739367df0ff8d1c61d03704298d49cf93ef3f OP_EQUALVERIFY OP_CHECKSIG',\n",
              "   'type': 'pubkeyhash',\n",
              "   'value': '5.81201619'},\n",
              "  {'address': 'D6zKNnkupqRbkB9p5rwix8QiobQWJazjyX',\n",
              "   'output_no': 42,\n",
              "   'script': 'OP_DUP OP_HASH160 144739367df0ff8d1c61d03704298d49cf93ef3f OP_EQUALVERIFY OP_CHECKSIG',\n",
              "   'type': 'pubkeyhash',\n",
              "   'value': '5.81201619'},\n",
              "  {'address': 'D6zKNnkupqRbkB9p5rwix8QiobQWJazjyX',\n",
              "   'output_no': 43,\n",
              "   'script': 'OP_DUP OP_HASH160 144739367df0ff8d1c61d03704298d49cf93ef3f OP_EQUALVERIFY OP_CHECKSIG',\n",
              "   'type': 'pubkeyhash',\n",
              "   'value': '5.81201619'},\n",
              "  {'address': 'D6zKNnkupqRbkB9p5rwix8QiobQWJazjyX',\n",
              "   'output_no': 44,\n",
              "   'script': 'OP_DUP OP_HASH160 144739367df0ff8d1c61d03704298d49cf93ef3f OP_EQUALVERIFY OP_CHECKSIG',\n",
              "   'type': 'pubkeyhash',\n",
              "   'value': '5.81201619'},\n",
              "  {'address': 'D6zKNnkupqRbkB9p5rwix8QiobQWJazjyX',\n",
              "   'output_no': 45,\n",
              "   'script': 'OP_DUP OP_HASH160 144739367df0ff8d1c61d03704298d49cf93ef3f OP_EQUALVERIFY OP_CHECKSIG',\n",
              "   'type': 'pubkeyhash',\n",
              "   'value': '5.81201619'},\n",
              "  {'address': 'D6zKNnkupqRbkB9p5rwix8QiobQWJazjyX',\n",
              "   'output_no': 46,\n",
              "   'script': 'OP_DUP OP_HASH160 144739367df0ff8d1c61d03704298d49cf93ef3f OP_EQUALVERIFY OP_CHECKSIG',\n",
              "   'type': 'pubkeyhash',\n",
              "   'value': '5.81201619'},\n",
              "  {'address': 'D6zKNnkupqRbkB9p5rwix8QiobQWJazjyX',\n",
              "   'output_no': 47,\n",
              "   'script': 'OP_DUP OP_HASH160 144739367df0ff8d1c61d03704298d49cf93ef3f OP_EQUALVERIFY OP_CHECKSIG',\n",
              "   'type': 'pubkeyhash',\n",
              "   'value': '5.81201619'},\n",
              "  {'address': 'D6zKNnkupqRbkB9p5rwix8QiobQWJazjyX',\n",
              "   'output_no': 48,\n",
              "   'script': 'OP_DUP OP_HASH160 144739367df0ff8d1c61d03704298d49cf93ef3f OP_EQUALVERIFY OP_CHECKSIG',\n",
              "   'type': 'pubkeyhash',\n",
              "   'value': '5.81201619'},\n",
              "  {'address': 'D6zKNnkupqRbkB9p5rwix8QiobQWJazjyX',\n",
              "   'output_no': 49,\n",
              "   'script': 'OP_DUP OP_HASH160 144739367df0ff8d1c61d03704298d49cf93ef3f OP_EQUALVERIFY OP_CHECKSIG',\n",
              "   'type': 'pubkeyhash',\n",
              "   'value': '5.81201619'},\n",
              "  {'address': 'D6zKNnkupqRbkB9p5rwix8QiobQWJazjyX',\n",
              "   'output_no': 50,\n",
              "   'script': 'OP_DUP OP_HASH160 144739367df0ff8d1c61d03704298d49cf93ef3f OP_EQUALVERIFY OP_CHECKSIG',\n",
              "   'type': 'pubkeyhash',\n",
              "   'value': '5.81201619'},\n",
              "  {'address': 'D6zKNnkupqRbkB9p5rwix8QiobQWJazjyX',\n",
              "   'output_no': 51,\n",
              "   'script': 'OP_DUP OP_HASH160 144739367df0ff8d1c61d03704298d49cf93ef3f OP_EQUALVERIFY OP_CHECKSIG',\n",
              "   'type': 'pubkeyhash',\n",
              "   'value': '5.81201619'},\n",
              "  {'address': 'D6zKNnkupqRbkB9p5rwix8QiobQWJazjyX',\n",
              "   'output_no': 52,\n",
              "   'script': 'OP_DUP OP_HASH160 144739367df0ff8d1c61d03704298d49cf93ef3f OP_EQUALVERIFY OP_CHECKSIG',\n",
              "   'type': 'pubkeyhash',\n",
              "   'value': '5.81201619'},\n",
              "  {'address': 'D6zKNnkupqRbkB9p5rwix8QiobQWJazjyX',\n",
              "   'output_no': 53,\n",
              "   'script': 'OP_DUP OP_HASH160 144739367df0ff8d1c61d03704298d49cf93ef3f OP_EQUALVERIFY OP_CHECKSIG',\n",
              "   'type': 'pubkeyhash',\n",
              "   'value': '5.81201619'},\n",
              "  {'address': 'D6zKNnkupqRbkB9p5rwix8QiobQWJazjyX',\n",
              "   'output_no': 54,\n",
              "   'script': 'OP_DUP OP_HASH160 144739367df0ff8d1c61d03704298d49cf93ef3f OP_EQUALVERIFY OP_CHECKSIG',\n",
              "   'type': 'pubkeyhash',\n",
              "   'value': '5.81201619'},\n",
              "  {'address': 'D6zKNnkupqRbkB9p5rwix8QiobQWJazjyX',\n",
              "   'output_no': 55,\n",
              "   'script': 'OP_DUP OP_HASH160 144739367df0ff8d1c61d03704298d49cf93ef3f OP_EQUALVERIFY OP_CHECKSIG',\n",
              "   'type': 'pubkeyhash',\n",
              "   'value': '5.81201619'},\n",
              "  {'address': 'D6zKNnkupqRbkB9p5rwix8QiobQWJazjyX',\n",
              "   'output_no': 56,\n",
              "   'script': 'OP_DUP OP_HASH160 144739367df0ff8d1c61d03704298d49cf93ef3f OP_EQUALVERIFY OP_CHECKSIG',\n",
              "   'type': 'pubkeyhash',\n",
              "   'value': '5.81201619'},\n",
              "  {'address': 'D6zKNnkupqRbkB9p5rwix8QiobQWJazjyX',\n",
              "   'output_no': 57,\n",
              "   'script': 'OP_DUP OP_HASH160 144739367df0ff8d1c61d03704298d49cf93ef3f OP_EQUALVERIFY OP_CHECKSIG',\n",
              "   'type': 'pubkeyhash',\n",
              "   'value': '5.81201619'},\n",
              "  {'address': 'D6zKNnkupqRbkB9p5rwix8QiobQWJazjyX',\n",
              "   'output_no': 58,\n",
              "   'script': 'OP_DUP OP_HASH160 144739367df0ff8d1c61d03704298d49cf93ef3f OP_EQUALVERIFY OP_CHECKSIG',\n",
              "   'type': 'pubkeyhash',\n",
              "   'value': '5.81201619'},\n",
              "  {'address': 'D6zKNnkupqRbkB9p5rwix8QiobQWJazjyX',\n",
              "   'output_no': 59,\n",
              "   'script': 'OP_DUP OP_HASH160 144739367df0ff8d1c61d03704298d49cf93ef3f OP_EQUALVERIFY OP_CHECKSIG',\n",
              "   'type': 'pubkeyhash',\n",
              "   'value': '5.81201619'},\n",
              "  {'address': 'D6zKNnkupqRbkB9p5rwix8QiobQWJazjyX',\n",
              "   'output_no': 60,\n",
              "   'script': 'OP_DUP OP_HASH160 144739367df0ff8d1c61d03704298d49cf93ef3f OP_EQUALVERIFY OP_CHECKSIG',\n",
              "   'type': 'pubkeyhash',\n",
              "   'value': '5.81201619'},\n",
              "  {'address': 'D6zKNnkupqRbkB9p5rwix8QiobQWJazjyX',\n",
              "   'output_no': 61,\n",
              "   'script': 'OP_DUP OP_HASH160 144739367df0ff8d1c61d03704298d49cf93ef3f OP_EQUALVERIFY OP_CHECKSIG',\n",
              "   'type': 'pubkeyhash',\n",
              "   'value': '5.81201619'},\n",
              "  {'address': 'D6zKNnkupqRbkB9p5rwix8QiobQWJazjyX',\n",
              "   'output_no': 62,\n",
              "   'script': 'OP_DUP OP_HASH160 144739367df0ff8d1c61d03704298d49cf93ef3f OP_EQUALVERIFY OP_CHECKSIG',\n",
              "   'type': 'pubkeyhash',\n",
              "   'value': '5.81201619'},\n",
              "  {'address': 'D6zKNnkupqRbkB9p5rwix8QiobQWJazjyX',\n",
              "   'output_no': 63,\n",
              "   'script': 'OP_DUP OP_HASH160 144739367df0ff8d1c61d03704298d49cf93ef3f OP_EQUALVERIFY OP_CHECKSIG',\n",
              "   'type': 'pubkeyhash',\n",
              "   'value': '5.81201619'},\n",
              "  {'address': 'D6zKNnkupqRbkB9p5rwix8QiobQWJazjyX',\n",
              "   'output_no': 64,\n",
              "   'script': 'OP_DUP OP_HASH160 144739367df0ff8d1c61d03704298d49cf93ef3f OP_EQUALVERIFY OP_CHECKSIG',\n",
              "   'type': 'pubkeyhash',\n",
              "   'value': '5.81201619'},\n",
              "  {'address': 'D6zKNnkupqRbkB9p5rwix8QiobQWJazjyX',\n",
              "   'output_no': 65,\n",
              "   'script': 'OP_DUP OP_HASH160 144739367df0ff8d1c61d03704298d49cf93ef3f OP_EQUALVERIFY OP_CHECKSIG',\n",
              "   'type': 'pubkeyhash',\n",
              "   'value': '5.81201619'},\n",
              "  {'address': 'D6zKNnkupqRbkB9p5rwix8QiobQWJazjyX',\n",
              "   'output_no': 66,\n",
              "   'script': 'OP_DUP OP_HASH160 144739367df0ff8d1c61d03704298d49cf93ef3f OP_EQUALVERIFY OP_CHECKSIG',\n",
              "   'type': 'pubkeyhash',\n",
              "   'value': '5.81201619'},\n",
              "  {'address': 'D6zKNnkupqRbkB9p5rwix8QiobQWJazjyX',\n",
              "   'output_no': 67,\n",
              "   'script': 'OP_DUP OP_HASH160 144739367df0ff8d1c61d03704298d49cf93ef3f OP_EQUALVERIFY OP_CHECKSIG',\n",
              "   'type': 'pubkeyhash',\n",
              "   'value': '5.81201619'},\n",
              "  {'address': 'D6zKNnkupqRbkB9p5rwix8QiobQWJazjyX',\n",
              "   'output_no': 68,\n",
              "   'script': 'OP_DUP OP_HASH160 144739367df0ff8d1c61d03704298d49cf93ef3f OP_EQUALVERIFY OP_CHECKSIG',\n",
              "   'type': 'pubkeyhash',\n",
              "   'value': '5.81201619'},\n",
              "  {'address': 'D6zKNnkupqRbkB9p5rwix8QiobQWJazjyX',\n",
              "   'output_no': 69,\n",
              "   'script': 'OP_DUP OP_HASH160 144739367df0ff8d1c61d03704298d49cf93ef3f OP_EQUALVERIFY OP_CHECKSIG',\n",
              "   'type': 'pubkeyhash',\n",
              "   'value': '5.81201619'},\n",
              "  {'address': 'D6zKNnkupqRbkB9p5rwix8QiobQWJazjyX',\n",
              "   'output_no': 70,\n",
              "   'script': 'OP_DUP OP_HASH160 144739367df0ff8d1c61d03704298d49cf93ef3f OP_EQUALVERIFY OP_CHECKSIG',\n",
              "   'type': 'pubkeyhash',\n",
              "   'value': '5.81201619'},\n",
              "  {'address': 'D6zKNnkupqRbkB9p5rwix8QiobQWJazjyX',\n",
              "   'output_no': 71,\n",
              "   'script': 'OP_DUP OP_HASH160 144739367df0ff8d1c61d03704298d49cf93ef3f OP_EQUALVERIFY OP_CHECKSIG',\n",
              "   'type': 'pubkeyhash',\n",
              "   'value': '5.81201619'},\n",
              "  {'address': 'D6zKNnkupqRbkB9p5rwix8QiobQWJazjyX',\n",
              "   'output_no': 72,\n",
              "   'script': 'OP_DUP OP_HASH160 144739367df0ff8d1c61d03704298d49cf93ef3f OP_EQUALVERIFY OP_CHECKSIG',\n",
              "   'type': 'pubkeyhash',\n",
              "   'value': '5.81201619'},\n",
              "  {'address': 'D6zKNnkupqRbkB9p5rwix8QiobQWJazjyX',\n",
              "   'output_no': 73,\n",
              "   'script': 'OP_DUP OP_HASH160 144739367df0ff8d1c61d03704298d49cf93ef3f OP_EQUALVERIFY OP_CHECKSIG',\n",
              "   'type': 'pubkeyhash',\n",
              "   'value': '5.81201619'},\n",
              "  {'address': 'D6zKNnkupqRbkB9p5rwix8QiobQWJazjyX',\n",
              "   'output_no': 74,\n",
              "   'script': 'OP_DUP OP_HASH160 144739367df0ff8d1c61d03704298d49cf93ef3f OP_EQUALVERIFY OP_CHECKSIG',\n",
              "   'type': 'pubkeyhash',\n",
              "   'value': '5.81201619'},\n",
              "  {'address': 'D6zKNnkupqRbkB9p5rwix8QiobQWJazjyX',\n",
              "   'output_no': 75,\n",
              "   'script': 'OP_DUP OP_HASH160 144739367df0ff8d1c61d03704298d49cf93ef3f OP_EQUALVERIFY OP_CHECKSIG',\n",
              "   'type': 'pubkeyhash',\n",
              "   'value': '5.81201619'},\n",
              "  {'address': 'D6zKNnkupqRbkB9p5rwix8QiobQWJazjyX',\n",
              "   'output_no': 76,\n",
              "   'script': 'OP_DUP OP_HASH160 144739367df0ff8d1c61d03704298d49cf93ef3f OP_EQUALVERIFY OP_CHECKSIG',\n",
              "   'type': 'pubkeyhash',\n",
              "   'value': '5.81201619'},\n",
              "  {'address': 'D6zKNnkupqRbkB9p5rwix8QiobQWJazjyX',\n",
              "   'output_no': 77,\n",
              "   'script': 'OP_DUP OP_HASH160 144739367df0ff8d1c61d03704298d49cf93ef3f OP_EQUALVERIFY OP_CHECKSIG',\n",
              "   'type': 'pubkeyhash',\n",
              "   'value': '5.81201619'},\n",
              "  {'address': 'D6zKNnkupqRbkB9p5rwix8QiobQWJazjyX',\n",
              "   'output_no': 78,\n",
              "   'script': 'OP_DUP OP_HASH160 144739367df0ff8d1c61d03704298d49cf93ef3f OP_EQUALVERIFY OP_CHECKSIG',\n",
              "   'type': 'pubkeyhash',\n",
              "   'value': '5.81201619'},\n",
              "  {'address': 'D6zKNnkupqRbkB9p5rwix8QiobQWJazjyX',\n",
              "   'output_no': 79,\n",
              "   'script': 'OP_DUP OP_HASH160 144739367df0ff8d1c61d03704298d49cf93ef3f OP_EQUALVERIFY OP_CHECKSIG',\n",
              "   'type': 'pubkeyhash',\n",
              "   'value': '5.81201619'},\n",
              "  {'address': 'D6zKNnkupqRbkB9p5rwix8QiobQWJazjyX',\n",
              "   'output_no': 80,\n",
              "   'script': 'OP_DUP OP_HASH160 144739367df0ff8d1c61d03704298d49cf93ef3f OP_EQUALVERIFY OP_CHECKSIG',\n",
              "   'type': 'pubkeyhash',\n",
              "   'value': '5.81201619'},\n",
              "  {'address': 'D6zKNnkupqRbkB9p5rwix8QiobQWJazjyX',\n",
              "   'output_no': 81,\n",
              "   'script': 'OP_DUP OP_HASH160 144739367df0ff8d1c61d03704298d49cf93ef3f OP_EQUALVERIFY OP_CHECKSIG',\n",
              "   'type': 'pubkeyhash',\n",
              "   'value': '5.81201619'},\n",
              "  {'address': 'D6zKNnkupqRbkB9p5rwix8QiobQWJazjyX',\n",
              "   'output_no': 82,\n",
              "   'script': 'OP_DUP OP_HASH160 144739367df0ff8d1c61d03704298d49cf93ef3f OP_EQUALVERIFY OP_CHECKSIG',\n",
              "   'type': 'pubkeyhash',\n",
              "   'value': '5.81201619'},\n",
              "  {'address': 'D6zKNnkupqRbkB9p5rwix8QiobQWJazjyX',\n",
              "   'output_no': 83,\n",
              "   'script': 'OP_DUP OP_HASH160 144739367df0ff8d1c61d03704298d49cf93ef3f OP_EQUALVERIFY OP_CHECKSIG',\n",
              "   'type': 'pubkeyhash',\n",
              "   'value': '5.81201619'},\n",
              "  {'address': 'D6zKNnkupqRbkB9p5rwix8QiobQWJazjyX',\n",
              "   'output_no': 84,\n",
              "   'script': 'OP_DUP OP_HASH160 144739367df0ff8d1c61d03704298d49cf93ef3f OP_EQUALVERIFY OP_CHECKSIG',\n",
              "   'type': 'pubkeyhash',\n",
              "   'value': '5.81201619'},\n",
              "  {'address': 'D6zKNnkupqRbkB9p5rwix8QiobQWJazjyX',\n",
              "   'output_no': 85,\n",
              "   'script': 'OP_DUP OP_HASH160 144739367df0ff8d1c61d03704298d49cf93ef3f OP_EQUALVERIFY OP_CHECKSIG',\n",
              "   'type': 'pubkeyhash',\n",
              "   'value': '5.81201619'},\n",
              "  {'address': 'D6zKNnkupqRbkB9p5rwix8QiobQWJazjyX',\n",
              "   'output_no': 86,\n",
              "   'script': 'OP_DUP OP_HASH160 144739367df0ff8d1c61d03704298d49cf93ef3f OP_EQUALVERIFY OP_CHECKSIG',\n",
              "   'type': 'pubkeyhash',\n",
              "   'value': '5.81201619'},\n",
              "  {'address': 'D6zKNnkupqRbkB9p5rwix8QiobQWJazjyX',\n",
              "   'output_no': 87,\n",
              "   'script': 'OP_DUP OP_HASH160 144739367df0ff8d1c61d03704298d49cf93ef3f OP_EQUALVERIFY OP_CHECKSIG',\n",
              "   'type': 'pubkeyhash',\n",
              "   'value': '5.81201619'},\n",
              "  {'address': 'D6zKNnkupqRbkB9p5rwix8QiobQWJazjyX',\n",
              "   'output_no': 88,\n",
              "   'script': 'OP_DUP OP_HASH160 144739367df0ff8d1c61d03704298d49cf93ef3f OP_EQUALVERIFY OP_CHECKSIG',\n",
              "   'type': 'pubkeyhash',\n",
              "   'value': '5.81201619'},\n",
              "  {'address': 'D6zKNnkupqRbkB9p5rwix8QiobQWJazjyX',\n",
              "   'output_no': 89,\n",
              "   'script': 'OP_DUP OP_HASH160 144739367df0ff8d1c61d03704298d49cf93ef3f OP_EQUALVERIFY OP_CHECKSIG',\n",
              "   'type': 'pubkeyhash',\n",
              "   'value': '5.81201619'},\n",
              "  {'address': 'D6zKNnkupqRbkB9p5rwix8QiobQWJazjyX',\n",
              "   'output_no': 90,\n",
              "   'script': 'OP_DUP OP_HASH160 144739367df0ff8d1c61d03704298d49cf93ef3f OP_EQUALVERIFY OP_CHECKSIG',\n",
              "   'type': 'pubkeyhash',\n",
              "   'value': '5.81201619'},\n",
              "  {'address': 'D6zKNnkupqRbkB9p5rwix8QiobQWJazjyX',\n",
              "   'output_no': 91,\n",
              "   'script': 'OP_DUP OP_HASH160 144739367df0ff8d1c61d03704298d49cf93ef3f OP_EQUALVERIFY OP_CHECKSIG',\n",
              "   'type': 'pubkeyhash',\n",
              "   'value': '5.81201619'},\n",
              "  {'address': 'D6zKNnkupqRbkB9p5rwix8QiobQWJazjyX',\n",
              "   'output_no': 92,\n",
              "   'script': 'OP_DUP OP_HASH160 144739367df0ff8d1c61d03704298d49cf93ef3f OP_EQUALVERIFY OP_CHECKSIG',\n",
              "   'type': 'pubkeyhash',\n",
              "   'value': '5.81201619'},\n",
              "  {'address': 'D6zKNnkupqRbkB9p5rwix8QiobQWJazjyX',\n",
              "   'output_no': 93,\n",
              "   'script': 'OP_DUP OP_HASH160 144739367df0ff8d1c61d03704298d49cf93ef3f OP_EQUALVERIFY OP_CHECKSIG',\n",
              "   'type': 'pubkeyhash',\n",
              "   'value': '5.81201619'},\n",
              "  {'address': 'D6zKNnkupqRbkB9p5rwix8QiobQWJazjyX',\n",
              "   'output_no': 94,\n",
              "   'script': 'OP_DUP OP_HASH160 144739367df0ff8d1c61d03704298d49cf93ef3f OP_EQUALVERIFY OP_CHECKSIG',\n",
              "   'type': 'pubkeyhash',\n",
              "   'value': '5.81201619'},\n",
              "  {'address': 'D6zKNnkupqRbkB9p5rwix8QiobQWJazjyX',\n",
              "   'output_no': 95,\n",
              "   'script': 'OP_DUP OP_HASH160 144739367df0ff8d1c61d03704298d49cf93ef3f OP_EQUALVERIFY OP_CHECKSIG',\n",
              "   'type': 'pubkeyhash',\n",
              "   'value': '5.81201619'},\n",
              "  {'address': 'D6zKNnkupqRbkB9p5rwix8QiobQWJazjyX',\n",
              "   'output_no': 96,\n",
              "   'script': 'OP_DUP OP_HASH160 144739367df0ff8d1c61d03704298d49cf93ef3f OP_EQUALVERIFY OP_CHECKSIG',\n",
              "   'type': 'pubkeyhash',\n",
              "   'value': '5.81201619'}],\n",
              " 'size': 9415,\n",
              " 'time': 1652540740,\n",
              " 'tx_hex': '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',\n",
              " 'txid': 'a01e8625d653f4a8686b5b9e20ca653e59ebcd8bf2ca2a7b8370fdc52417f7b9',\n",
              " 'version': 1,\n",
              " 'vsize': 9415}"
            ]
          },
          "metadata": {},
          "execution_count": 10
        }
      ]
    },
    {
      "cell_type": "code",
      "source": [
        "import requests\n",
        "bea_txn='a01e8625d653f4a8686b5b9e20ca653e59ebcd8bf2ca2a7b8370fdc52417f7b9'\n",
        "\n",
        "r = requests.get(f'https://sochain.com/api/v2/tx/DOGE/{bea_txn}')\n",
        "r.status_code"
      ],
      "metadata": {
        "id": "ROgwLXl56FtY",
        "outputId": "e3e5f32b-7a3c-4512-8912-9b0a8489aca8",
        "colab": {
          "base_uri": "https://localhost:8080/"
        }
      },
      "execution_count": 12,
      "outputs": [
        {
          "output_type": "execute_result",
          "data": {
            "text/plain": [
              "200"
            ]
          },
          "metadata": {},
          "execution_count": 12
        }
      ]
    },
    {
      "cell_type": "code",
      "source": [
        "type(r.text)"
      ],
      "metadata": {
        "id": "s4zg138s9MLV",
        "outputId": "575009dc-2b92-4333-a9fd-12d44a9c387d",
        "colab": {
          "base_uri": "https://localhost:8080/"
        }
      },
      "execution_count": 20,
      "outputs": [
        {
          "output_type": "execute_result",
          "data": {
            "text/plain": [
              "str"
            ]
          },
          "metadata": {},
          "execution_count": 20
        }
      ]
    },
    {
      "cell_type": "code",
      "source": [
        "def get_output_spend_txns(txn_ident):\n",
        "  import requests\n",
        "  import json\n",
        "  r = requests.get(f'https://sochain.com/api/v2/tx/DOGE/{txn_ident}')\n",
        "  tmp=open('tmp.json','wt')\n",
        "  tmp.write(r.text)\n",
        "  tmp.close()\n",
        "  tmp2=open('tmp.json','rt')\n",
        "  spend_data=json.load(tmp2)\n",
        "  return [out['spent']['txid'] for out in spend_data['data']['outputs']]"
      ],
      "metadata": {
        "id": "ddrcwI2t65tQ"
      },
      "execution_count": 26,
      "outputs": []
    },
    {
      "cell_type": "code",
      "source": [
        "get_output_spend_txns('a01e8625d653f4a8686b5b9e20ca653e59ebcd8bf2ca2a7b8370fdc52417f7b9')"
      ],
      "metadata": {
        "id": "pl6bocdV94uF",
        "outputId": "617a8e4a-4f4d-4ebe-ede4-69c370a0e301",
        "colab": {
          "base_uri": "https://localhost:8080/"
        }
      },
      "execution_count": 27,
      "outputs": [
        {
          "output_type": "execute_result",
          "data": {
            "text/plain": [
              "['90c01813156e594c4dbe8bd39436597c68ffaaa201c458f9c1ccae3e86d2c33f',\n",
              " 'cf0f325d00cc33cedde905f1132855c569ae573f3aa1493c837652aeebee18bc',\n",
              " 'c682f3de33dd6e882d6cbf499d28d6ebd87fecd2fad7108065fa5390d7a00458',\n",
              " '7f9b29b2044836633e01d4d47f503f53633433eaa4916e816ac7e59bc3adc60f',\n",
              " '2ae27a0deaa2d5d9552cddca69d230f3805d96a33d9f7b23441545fea3449b15',\n",
              " '7d2b514eec23fd6e5fe54b9ff6ef960e497006bb67e9d9346dc17afa773441e0',\n",
              " 'e37652ffd099b7228e54c6c5c1409ae005c18f4d8b4ba84e006311c056a311f2',\n",
              " '0238f55d0b9f7072fbb8d7c55c75624cc61c3b9bf3a49710ddc5c1b8ee370d59',\n",
              " '40a1252151a21a47834a1e34f467ccdcf9eae17aba7a12334e02d1aae4193e4a',\n",
              " 'fc77eabae6b98782fe9e53a4d1682d8a5da798aec4c77992b947913e03c3f314',\n",
              " '0f888cafb1a66e00cb7a9186a2b0ec88424d1ca17c84f9087d45d8dae80ebcea',\n",
              " 'c8b41a54da2a57288d14e31fb380dc74e5866b4341e5c279a4e1c596c3aa2ea0',\n",
              " 'd1265f7ae5cf0cde3bb1450ea5623f17cf5c86ad5064f64925421645e54c95e8',\n",
              " 'c60866a55c283d3cbb4ffe09dd678a7fe2e48c8304e8472a41889ffbbc7eb277',\n",
              " '5f746e2bf3f21b192430938e340ae3ae90c53bd1171a302207c487d8f8477adb',\n",
              " '9f1ff70299b078ee5f379c0d06a07315c4410d421977507726fc8213ac9c2bf9',\n",
              " 'c89ff8f7072d68ba8e247fe82c50c4b82b1bf3213dfb42562d19f9f1da271424',\n",
              " '4bf826fefdfef41cdfedaf4751bf061dd176e8bbd0fe95fb631dfa9016c014b1',\n",
              " '66c955eb95380d15aea91a62af4db992fc771f3141795ae538881c6b82843db8',\n",
              " 'ddf7931c3496951277e0649e8b41cffb128bb3173cc97cd304ec52a8afcb6ca9',\n",
              " '180266599f7e86a7a5145d41e38d91f17062a627c4d7ec57b9de9c4ac57f7b30',\n",
              " '0b2553583268d2fe005ccbb7749f5bee9b7d06e0ccc90a3ae3c242c7f4de2b4a',\n",
              " 'c6b60a5cc92f39856378232a8fd684b43ad2cecdfa843976d70d44dd8c1a6daf',\n",
              " '262fd6e7c5baa3709490491e1788b076683333cc81b72f0a756ea9dbc248914c',\n",
              " 'bcb3cc090a3aecbd62f840e236d4ff057011c4425baef15ae8980e6142fc2a44',\n",
              " '10bd23d4102714d59f2b49370b895ee29927f596438612a3ee233078a2cd1ea6',\n",
              " '9f78e3b51675f12af2c543b0b64e8127efe3c1fa84c914f438bb1bb912775bba',\n",
              " 'd9a70d4bc60da66f2274a1055135318fc1aa30424e0a859da08ca0e0a0718b8a',\n",
              " 'a08031856af787fad11190821048790d8b58ac399564d90a54e250990d3a49bb',\n",
              " '03400a6574c16e9921c0f663356f9cf9cbd3143ec14c33a0c08e55dcada35e72',\n",
              " '9487370ec1a5b1c70f90934751853ba617154d8b05df7b99a14a05ae3b268041',\n",
              " '222a41643de2a8a4e16953ccd80b4d641968a7fa31d528f0a60cd0dc807e5106',\n",
              " 'c071ee86a369002e05f8c3045797d7b122f7544c4a6b797e0fa743912e216c7a',\n",
              " '309ea930f13173083f4d18371302911328a3e6f3008e9520d9227e6bab7b4fe4',\n",
              " 'b7dc71ea27c14f658447fecd0323713733ede6690d27bb6589d9222dd039e975',\n",
              " '90cc928faf256e36942b83a27338c8ef6e26ea33e6d3836d07d67d3c2a702b75',\n",
              " '437567570aa719f03cb60376b6fe0244ecf5df8702e33f0f6557f411dea6354d',\n",
              " '0aabb58fd889a5a1c8d40d2a7e1a580eec7bf10af447a455168aca04cd9e1573',\n",
              " 'af8e8c63f9a7c87e99810e5158f6838bf70d44bad1f2854b8c90187b88bac35b',\n",
              " '9ffc0dbeb9d28864727472778bfc064358b6535661c37612ef155fe75c1cd190',\n",
              " 'ad47d7ce7f0fd6c9b31f477525ea7cd3c263e83e7823137964113b86999dcf3f',\n",
              " '7767c489efb2b168c60f55b2675ae389659390b5e4fb8ab81182fd42f596bb53',\n",
              " 'b4f4f10e1d5273db2dad770ae0365409b600fe7e383c11add2bd41f4b3813d9a',\n",
              " '3687ac2c4627b7ab8346b18d4dc451666e92e84b7586bbe49935a5ae28c4575a',\n",
              " 'd3a2e785c19670e6fb8bee680113c25d5ddc60c22961d81b8b9518def944fdae',\n",
              " '383528ee4350b341f8da29f4b77aee95ac736fea254b9eada70a281da2ed9fb7',\n",
              " 'a370003aaeca0c34e2dd8fec9b75691f2936c6edcf4454cc6afbcf8dac05c320',\n",
              " 'abe82abdc08f9f15bc960ab4bbc06633aa264d9cf820ca98c5008e53c7fda6bc',\n",
              " '12535e35946edada7230251e7f02907dd9249215eecedfdd3b5f80ca5db4681e',\n",
              " '081540527d59df80ab658ea41c6da6a4227fc4b69543e1f7883a0cb1e31e31da',\n",
              " '6664b2eb9d5815b3b9842df6c85cd0547ec623f636e7208eac9c084093484972',\n",
              " 'ad0d49ad271254a000bec48f2189e8378ced4de80af8468d625be01a964cf178',\n",
              " 'bf18a6d8568c9ac646751ac003cad0bc93b7df985a27867b9466a6a118749700',\n",
              " '68d3bfb1dddd9fc3fbae65a804a44a0e5e702d19171636906284141f80d247a9',\n",
              " '7af59d776c6608e88cbe97edd972a474caf8bbc245f5e050bc933815edd31dd7',\n",
              " 'e0c2cec1c6bfb05ac2456c90349388b972d274346f927f2ef8e0d3ff58a30795',\n",
              " 'b0af23b60e6a74ae58fe037e46203faaae0ac86dc0f391094376ef86409cc056',\n",
              " '39d400543327c556a68c052bfcbc88057b9c69ca920e15c02d65cea92268d3e1',\n",
              " '92e1f7cecd860214e29ed4812587adb229c9a01223f979ba251574de40ebefea',\n",
              " '02692a84b320424672717ceb5fecc3810f40c1b2cc08a72942453c1e7e0f33a9',\n",
              " 'a08027c1dc768c42a05656758acb754a96807aacb55e1543f59bee0716f5a7e7',\n",
              " 'dcb7b63d5674b6348d7dbd09b7dead726869eac3abda28af662df8a2c1c7201d',\n",
              " 'b9cc27fe275432a2bc5271a110717b80f7c38eb98488ba7c5badc81aca8c9ce2',\n",
              " 'eb4f18ef7fb289fa6308f81c9ce7ffc2e67a465c9bd4b341a0031eba0f91c969',\n",
              " 'aea03646805aab297381a91cc932944ee8c5acd94a478a8aec6e12145f187a25',\n",
              " '626395187fd315223dee06b32b4665b7a60b29b44327666999833a61634a91a4',\n",
              " 'c9adcfbeab9a6dad91e9a829e40136afee93e68cd8084b74647f4d05c455a0b6',\n",
              " '889cb63f36b5570eb5e7923953b593766879901334e61b25e8d9c2fdebd719e3',\n",
              " 'f20cffc21bbca27cb199f8af2d8818da18cb0ffcead6e24c2d49cffb5edcc87e',\n",
              " 'c4979860c533118bcabe815ef6c59e36c7904619fdbb3fbabdeeea332778a38e',\n",
              " 'abc0380548a183da56a3a9a1d68a62c43b495850207814c3960cdd94db1988c0',\n",
              " '7295fd0f0077113e380eb11dbc396a7e90a13784938e5b5fb357eef233d045c3',\n",
              " 'b4b2f97aea774a8f36ee529b34f2b7120aa796ea94b1be504e41cfe6072535ad',\n",
              " '0ef29b72d74744793c3ba12ee25722369c9295547ae6cd449309d97996119dd4',\n",
              " 'd31e438f44adca12f0810f57e5985f97ab8ad7d92c4030519c90388eeb58dc75',\n",
              " '0519da18d8c5b8a34d1db9cf5026a724d82405f70dcf8e188aa2097db41bc758',\n",
              " '75276ac84d81f8860245f33d30128b4778370400b8523266b7c7df14622674fb',\n",
              " 'cb53631d1887c7dc1ace696af823ab3c40e397307b07e395b6c0932fa7fc4a40',\n",
              " '3ec57790a913cbcfe0fd0c755179f1b955a1824fff04102f84b166ea99ced159',\n",
              " '0c6e2b90d493b7ba92edfdeee49844dd5554ebba4b2a45bf88798587b1eff520',\n",
              " '9a4189cfaeeab32c7360bd3593b0183c9d146e10495d836efd42edc92fd7fb90',\n",
              " '9f7a12875ba05495c0fcf4bd708f5cd993d6fda7bb9841cc22a397372d179c8b',\n",
              " '744c6bc87e4868e00f0d6e3fe8246fccafb1f28e19da44210f995593455a2bd8',\n",
              " '66e30736ce21c22e26fc1c3801887a7aec15f7a299e73dc9ea665b9496796eec',\n",
              " '4fc22683a724233157c17bd8efcb21af531d5b7041d79f1ce3dedb53135cb24a',\n",
              " '46a44c5954995664a7880aa4fd407617171d42fa48281676c8e08040d61ee2de',\n",
              " 'e8aa6877639e2ad2dcd48beaf4eb40948a8066de07a9b646c81864594e746dc5',\n",
              " '1bcb9dfd5c910284f10cd1d153ad6cb74cd2602399bf238cdb358a867c6c042a',\n",
              " '79f40bb83121120e949e6b7a79bc95ddcd43a31881a262aa1227e0e53adfcc45',\n",
              " '49bb82e6976c0bbc2309581d647a5e94beef3d2620a90d2f492d0f8a469c7cfe',\n",
              " '0e2f7c1df82b6cda5996085819a9a73b7555d115d85f4edc5623678809e6b6cb',\n",
              " 'ba8b77d77d812f0e4e1ba0fe722d89daa3e596923e031d2b7baf1124f0532099',\n",
              " '375a55faf217c90327849c973c07ad9d00f3ad7ca6b5285ac7b80c4b6583bb14',\n",
              " '91dd52cab0b3ea190fe58b67559b066d4f02808960e053dea5111e252d3fe902',\n",
              " 'ae981cae8df2f29ce95654a61484341070947e1d4adf2a91a21765559a6cd20c',\n",
              " '67a83f6b33cb8492a750ee0bc9ab9c9c26fb048a15261c939a8a1f748cfc0af9',\n",
              " '499ea653841751ff89eb02d049b20a08ee75b112d345c72e495afa6dcd86130d']"
            ]
          },
          "metadata": {},
          "execution_count": 27
        }
      ]
    },
    {
      "cell_type": "code",
      "source": [
        "import numpy as np\n",
        "import cryptos\n",
        "from PIL import Image\n",
        "\n",
        "def read_image(txn_id):\n",
        "  doge=cryptos.Doge()\n",
        "  img_header_tx_data=doge.fetchtx(txn_id)\n",
        "  op_return=img_header_tx_data['outputs'][1]['script'][10:]\n",
        "  utxo_id=img_header_tx_data['inputs'][0]['from_output']['txid']\n",
        "  blk_height= doge.block_height(txn_id)\n",
        "  cand_txns=doge.block_info(blk_height)['tx_hashes'][1:]+doge.block_info(blk_height-1)['tx_hashes'][1:]+doge.block_info(blk_height+1)['tx_hashes'][1:]+doge.block_info(blk_height+2)['tx_hashes'][1:]\n",
        "  cand_txns_info=[(cand,doge.fetchtx(cand)) for cand in cand_txns]\n",
        "  img_txn_info=[ ( info['inputs'][0]['from_output']['output_no'],info['outputs'][1]['script'][10:] ) for (_,info) in cand_txns_info if info['inputs'][0]['from_output']['txid']==utxo_id]\n",
        "  img_data_list=sorted(img_txn_info)\n",
        "  hex_header=img_data_list[0][1]\n",
        "  img_hex = ''.join([elem[1] for elem in img_data_list[1:]])\n",
        "  image_bytes=bytes.fromhex(img_hex)\n",
        "  L=int(hex_header[14:18],16)\n",
        "  W=int(hex_header[18:22],16)\n",
        "  B=int(hex_header[22:24],16)\n",
        "  print(L,W,B)\n",
        "  print(len(img_data_list))\n",
        "  sparkle_bits=message_2_bit_array(image_bytes,mode=None)\n",
        "  spark_array=bitarray2imgarr(sparkle_bits,imgshape=(L,W),bit=B,color=1).squeeze()\n",
        "  return op_return,spark_array\n",
        "  \n",
        "def read_image_color(txn_id):\n",
        "  doge=cryptos.Doge()\n",
        "  img_header_tx_data=doge.fetchtx(txn_id)\n",
        "  op_return=img_header_tx_data['outputs'][1]['script'][10:]\n",
        "  utxo_id=img_header_tx_data['inputs'][0]['from_output']['txid']\n",
        "  blk_height= doge.block_height(txn_id)\n",
        "  cand_txns=doge.block_info(blk_height)['tx_hashes'][1:]+doge.block_info(blk_height-1)['tx_hashes'][1:]+doge.block_info(blk_height+1)['tx_hashes'][1:]+doge.block_info(blk_height+2)['tx_hashes'][1:]\n",
        "  cand_txns_info=[(cand,doge.fetchtx(cand)) for cand in cand_txns]\n",
        "  img_txn_info=[ ( info['inputs'][0]['from_output']['output_no'],info['outputs'][1]['script'][10:] ) for (_,info) in cand_txns_info if info['inputs'][0]['from_output']['txid']==utxo_id]\n",
        "  img_data_list=sorted(img_txn_info)\n",
        "  hex_header=img_data_list[0][1]\n",
        "  img_hex = ''.join([elem[1] for elem in img_data_list[1:]])\n",
        "  image_bytes=bytes.fromhex(img_hex)\n",
        "  L=int(hex_header[14:18],16)\n",
        "  W=int(hex_header[18:22],16)\n",
        "  B=int(hex_header[22:24],16)\n",
        "  print(L,W,B)\n",
        "  print(len(img_data_list))\n",
        "  sparkle_bits=message_2_bit_array(image_bytes,mode=None)\n",
        "  spark_array=bitarray2imgarr(sparkle_bits,imgshape=(L,W),bit=B,color=3).squeeze()\n",
        "  return op_return,spark_array\n",
        "  "
      ],
      "metadata": {
        "id": "cWrzYStAO6SY"
      },
      "execution_count": 8,
      "outputs": []
    },
    {
      "cell_type": "code",
      "source": [
        "def read_image_fund(txn_id):\n",
        "  doge=cryptos.Doge()\n",
        "  L=get_output_spend_txns(txn_id)\n",
        "  img_header_tx_data=doge.fetchtx(L[0])\n",
        "  op_return=img_header_tx_data['outputs'][1]['script'][10:]\n",
        "  img_data_list=[doge.fetchtx(elem)['outputs'][1]['script'][10:] for elem in L ]\n",
        "  hex_header=img_data_list[0]\n",
        "  img_hex = ''.join([elem[1] for elem in img_data_list[1:]])\n",
        "  image_bytes=bytes.fromhex(img_hex)\n",
        "  L=int(hex_header[14:18],16)\n",
        "  W=int(hex_header[18:22],16)\n",
        "  B=int(hex_header[22:24],16)\n",
        "  print(L,W,B)\n",
        "  print(len(img_data_list))\n",
        "  sparkle_bits=message_2_bit_array(image_bytes,mode=None)\n",
        "  spark_array=bitarray2imgarr(sparkle_bits,imgshape=(L,W),bit=B,color=1).squeeze()\n",
        "  return op_return,spark_array"
      ],
      "metadata": {
        "id": "5koX26ubUvx7"
      },
      "execution_count": 28,
      "outputs": []
    },
    {
      "cell_type": "code",
      "source": [
        "\n",
        "op_ret,sp_ar=read_image('53ae86951b38d91cc01a90e7cf9e7089ffff0a4b81a46fcd02a104d696247cb2')"
      ],
      "metadata": {
        "colab": {
          "base_uri": "https://localhost:8080/"
        },
        "id": "qY_BU0bMWH_m",
        "outputId": "b5a11260-c03c-4074-e4d7-f81ea33c9a47"
      },
      "execution_count": null,
      "outputs": [
        {
          "output_type": "stream",
          "name": "stdout",
          "text": [
            "64 64 5\n",
            "33\n"
          ]
        }
      ]
    },
    {
      "cell_type": "code",
      "source": [
        "from PIL import Image\n",
        "Image.fromarray(sp_ar)"
      ],
      "metadata": {
        "colab": {
          "base_uri": "https://localhost:8080/",
          "height": 81
        },
        "id": "XOMXNCV_Y63R",
        "outputId": "c23a61cc-ed4a-4735-c4d6-5bd20c2f35d6"
      },
      "execution_count": null,
      "outputs": [
        {
          "output_type": "execute_result",
          "data": {
            "text/plain": [
              "<PIL.Image.Image image mode=L size=64x64 at 0x7F836E5FEF50>"
            ],
            "image/png": "[encoded data removed]"
          },
          "metadata": {},
          "execution_count": 108
        }
      ]
    },
    {
      "cell_type": "code",
      "source": [
        "op_ret_color,sp_ar_color=read_image_color('90c01813156e594c4dbe8bd39436597c68ffaaa201c458f9c1ccae3e86d2c33f')"
      ],
      "metadata": {
        "id": "-v-Meq_2KzZd",
        "outputId": "edf0cb76-37dc-40b7-81fe-d7098086949c",
        "colab": {
          "base_uri": "https://localhost:8080/"
        }
      },
      "execution_count": null,
      "outputs": [
        {
          "output_type": "stream",
          "name": "stdout",
          "text": [
            "64 64 5\n",
            "97\n"
          ]
        }
      ]
    },
    {
      "cell_type": "code",
      "source": [
        "\n",
        "sp_ar_color.shape"
      ],
      "metadata": {
        "id": "JNtAa9mwLxf4",
        "outputId": "751f306d-c785-48d4-d539-9430440a100c",
        "colab": {
          "base_uri": "https://localhost:8080/"
        }
      },
      "execution_count": null,
      "outputs": [
        {
          "output_type": "execute_result",
          "data": {
            "text/plain": [
              "(64, 64, 3)"
            ]
          },
          "metadata": {},
          "execution_count": 110
        }
      ]
    },
    {
      "cell_type": "code",
      "source": [
        "Image.fromarray(sp_ar_color)"
      ],
      "metadata": {
        "id": "PX_l1JSNLXvY",
        "outputId": "fbe97397-83f8-4cc4-f722-7719a7e7c3d6",
        "colab": {
          "base_uri": "https://localhost:8080/",
          "height": 81
        }
      },
      "execution_count": null,
      "outputs": [
        {
          "output_type": "execute_result",
          "data": {
            "text/plain": [
              "<PIL.Image.Image image mode=RGB size=64x64 at 0x7F836E54A790>"
            ],
            "image/png": "[encoded data removed]"
          },
          "metadata": {},
          "execution_count": 111
        }
      ]
    },
    {
      "cell_type": "code",
      "source": [
        "op_ret_color"
      ],
      "metadata": {
        "colab": {
          "base_uri": "https://localhost:8080/",
          "height": 35
        },
        "id": "ydPX5PxOZaut",
        "outputId": "8f6566e0-886a-4f55-b176-52440d78b537"
      },
      "execution_count": null,
      "outputs": [
        {
          "output_type": "execute_result",
          "data": {
            "text/plain": [
              "'c1dd000103ff010040004005506574657220426561'"
            ],
            "application/vnd.google.colaboratory.intrinsic+json": {
              "type": "string"
            }
          },
          "metadata": {},
          "execution_count": 112
        }
      ]
    },
    {
      "cell_type": "code",
      "source": [
        "bytes.fromhex(op_ret_color[24:]).decode()"
      ],
      "metadata": {
        "id": "bN8fsg8MoJ0T",
        "outputId": "813ae182-18dd-4742-92ee-f5243b591e60",
        "colab": {
          "base_uri": "https://localhost:8080/",
          "height": 35
        }
      },
      "execution_count": null,
      "outputs": [
        {
          "output_type": "execute_result",
          "data": {
            "text/plain": [
              "'Peter Bea'"
            ],
            "application/vnd.google.colaboratory.intrinsic+json": {
              "type": "string"
            }
          },
          "metadata": {},
          "execution_count": 114
        }
      ]
    },
    {
      "cell_type": "code",
      "source": [
        ""
      ],
      "metadata": {
        "id": "UJGnj3S7qHnJ"
      },
      "execution_count": null,
      "outputs": []
    }
  ]
}