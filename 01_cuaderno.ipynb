{
  "cells": [
    {
      "cell_type": "markdown",
      "metadata": {
        "id": "OVQ274cGcLL6"
      },
      "source": [
        "<a href=\"https://colab.research.google.com/github/ProfDoeg/Colegio_Invisible/blob/master/01_cuaderno.ipynb\" target=\"_parent\"><img src=\"https://colab.research.google.com/assets/colab-badge.svg\" alt=\"Open In Colab\"/></a>"
      ]
    },
    {
      "cell_type": "code",
      "execution_count": null,
      "metadata": {
        "id": "-U-OK9g6cLL9",
        "outputId": "f85db3e3-808f-47e4-ef63-719688a49838",
        "colab": {
          "base_uri": "https://localhost:8080/",
          "height": 17
        }
      },
      "outputs": [
        {
          "output_type": "display_data",
          "data": {
            "text/html": [
              "<style>.container { width:95% !important; }</style>"
            ],
            "text/plain": [
              "<IPython.core.display.HTML object>"
            ]
          },
          "metadata": {}
        }
      ],
      "source": [
        "from IPython.core.display import display, HTML\n",
        "display(HTML(\"<style>.container { width:95% !important; }</style>\"))"
      ]
    },
    {
      "cell_type": "markdown",
      "metadata": {
        "id": "UJ-SuSwAcLL_"
      },
      "source": [
        "# Colegio Invisible"
      ]
    },
    {
      "cell_type": "code",
      "execution_count": 3,
      "metadata": {
        "id": "QcKDQ9zTcLL_",
        "outputId": "e4a15f8d-d4a5-43c2-9621-95e7616f960d",
        "colab": {
          "base_uri": "https://localhost:8080/"
        }
      },
      "outputs": [
        {
          "output_type": "stream",
          "name": "stdout",
          "text": [
            "Requirement already satisfied: cryptos in /usr/local/lib/python3.7/dist-packages (1.36)\n"
          ]
        }
      ],
      "source": [
        "! pip install cryptos"
      ]
    },
    {
      "cell_type": "code",
      "execution_count": 17,
      "metadata": {
        "id": "M6ibRITfcLMA"
      },
      "outputs": [],
      "source": [
        "import cryptos\n",
        "dog = cryptos.Doge()\n",
        "btc = cryptos.Bitcoin()"
      ]
    },
    {
      "cell_type": "code",
      "source": [
        "dog.__dir__()"
      ],
      "metadata": {
        "colab": {
          "base_uri": "https://localhost:8080/"
        },
        "id": "ATnY8aUVf7oJ",
        "outputId": "15c9dc0e-b7dd-4366-9cdd-725bee76ad3a"
      },
      "execution_count": 18,
      "outputs": [
        {
          "output_type": "execute_result",
          "data": {
            "text/plain": [
              "['address_prefixes',\n",
              " 'script_prefixes',\n",
              " '__module__',\n",
              " 'coin_symbol',\n",
              " 'display_name',\n",
              " 'segwit_supported',\n",
              " 'magicbyte',\n",
              " 'explorer',\n",
              " 'testnet_overrides',\n",
              " '__doc__',\n",
              " 'script_magicbyte',\n",
              " 'enabled',\n",
              " 'is_testnet',\n",
              " 'hashcode',\n",
              " '__init__',\n",
              " 'unspent',\n",
              " 'history',\n",
              " 'fetchtx',\n",
              " 'txinputs',\n",
              " 'pushtx',\n",
              " 'privtopub',\n",
              " 'pubtoaddr',\n",
              " 'privtoaddr',\n",
              " 'electrum_address',\n",
              " 'electrum_address_segwit',\n",
              " 'is_address',\n",
              " 'is_p2sh',\n",
              " 'scripttoaddr',\n",
              " 'p2sh_scriptaddr',\n",
              " 'addrtoscript',\n",
              " 'pubtop2w',\n",
              " 'privtop2w',\n",
              " 'mk_multsig_address',\n",
              " 'is_segwit',\n",
              " 'sign',\n",
              " 'signall',\n",
              " 'multisign',\n",
              " 'mktx',\n",
              " 'mksend',\n",
              " 'preparesignedtx',\n",
              " 'send',\n",
              " 'preparesignedmultitx',\n",
              " 'sendmultitx',\n",
              " 'preparetx',\n",
              " 'preparemultitx',\n",
              " 'block_height',\n",
              " 'current_block_height',\n",
              " 'block_info',\n",
              " 'inspect',\n",
              " 'merkle_prove',\n",
              " '__dict__',\n",
              " '__weakref__',\n",
              " '__repr__',\n",
              " '__hash__',\n",
              " '__str__',\n",
              " '__getattribute__',\n",
              " '__setattr__',\n",
              " '__delattr__',\n",
              " '__lt__',\n",
              " '__le__',\n",
              " '__eq__',\n",
              " '__ne__',\n",
              " '__gt__',\n",
              " '__ge__',\n",
              " '__new__',\n",
              " '__reduce_ex__',\n",
              " '__reduce__',\n",
              " '__subclasshook__',\n",
              " '__init_subclass__',\n",
              " '__format__',\n",
              " '__sizeof__',\n",
              " '__dir__',\n",
              " '__class__']"
            ]
          },
          "metadata": {},
          "execution_count": 18
        }
      ]
    },
    {
      "cell_type": "code",
      "source": [
        "dog.__dict__"
      ],
      "metadata": {
        "colab": {
          "base_uri": "https://localhost:8080/"
        },
        "id": "akgHVsEGjqYk",
        "outputId": "47c879f2-980d-4306-df89-e1795f49e0c0"
      },
      "execution_count": 21,
      "outputs": [
        {
          "output_type": "execute_result",
          "data": {
            "text/plain": [
              "{'address_prefixes': ('D',), 'script_prefixes': ('3',)}"
            ]
          },
          "metadata": {},
          "execution_count": 21
        }
      ]
    },
    {
      "cell_type": "code",
      "source": [
        "btc.__dict__"
      ],
      "metadata": {
        "colab": {
          "base_uri": "https://localhost:8080/"
        },
        "id": "ayAq4D4Gjwd_",
        "outputId": "2c28167c-af05-42a1-a71c-3d40efbec989"
      },
      "execution_count": 22,
      "outputs": [
        {
          "output_type": "execute_result",
          "data": {
            "text/plain": [
              "{'address_prefixes': ('1',), 'script_prefixes': ('3',)}"
            ]
          },
          "metadata": {},
          "execution_count": 22
        }
      ]
    },
    {
      "cell_type": "code",
      "source": [
        "dog.block_info(0)"
      ],
      "metadata": {
        "colab": {
          "base_uri": "https://localhost:8080/"
        },
        "id": "6iv_rkReglWj",
        "outputId": "27632d42-7412-4264-a514-abe3cf26f80f"
      },
      "execution_count": 23,
      "outputs": [
        {
          "output_type": "execute_result",
          "data": {
            "text/plain": [
              "{'bits': '1e0ffff0',\n",
              " 'hash': '1a91e3dace36e2be3bf030a65679fe821aa1d6ef92e7c9902eb318182c355691',\n",
              " 'merkle_root': '5b2a3f53f605d62c53e62932dac6925e3d74afa5a4b459745c36d42d0ed26a69',\n",
              " 'nonce': 99943,\n",
              " 'prevhash': None,\n",
              " 'timestamp': 1386325540,\n",
              " 'tx_hashes': ['5b2a3f53f605d62c53e62932dac6925e3d74afa5a4b459745c36d42d0ed26a69'],\n",
              " 'version': 1}"
            ]
          },
          "metadata": {},
          "execution_count": 23
        }
      ]
    },
    {
      "cell_type": "code",
      "source": [
        "i=0\n",
        "while True:\n",
        "  D1=dog.block_info(i)\n",
        "  if len(D1['tx_hashes'])!=1:\n",
        "    break\n",
        "  i=i+1\n",
        "D1,i"
      ],
      "metadata": {
        "colab": {
          "base_uri": "https://localhost:8080/"
        },
        "id": "FEQHGW5DgQrl",
        "outputId": "edbd30de-f11d-4f8e-9fd9-a3a8ab46af90"
      },
      "execution_count": 25,
      "outputs": [
        {
          "output_type": "execute_result",
          "data": {
            "text/plain": [
              "({'bits': '1e0ffff0',\n",
              "  'hash': '7b1768277085d9bfe7e7aacd40f7bc3ecdb03c45114579ef009990d22f332095',\n",
              "  'merkle_root': 'a563ac4c10cd961047b36876d36a81e13cba531ae8f8e9801467703ca51e23b6',\n",
              "  'nonce': 225968384,\n",
              "  'prevhash': '094c05f77c969f3285eb440c855573d090e5730800275668c446be91a86ef690',\n",
              "  'timestamp': 1386475579,\n",
              "  'tx_hashes': ['bed1b555fc45ec14ba9d8d3e2debe740e141c746e02171b401ba8cfbf67ae31f',\n",
              "   '4418a8e4fc4180028babd401299f720206ea3afec2959e685091fae9e9d9fdd4'],\n",
              "  'version': 1},\n",
              " 168)"
            ]
          },
          "metadata": {},
          "execution_count": 25
        }
      ]
    },
    {
      "cell_type": "code",
      "source": [
        "j=0\n",
        "while True:\n",
        "  B1=btc.block_info(j)\n",
        "  if len(B1['tx_hashes'])!=1:\n",
        "    break\n",
        "  j=j+1\n",
        "B1,j"
      ],
      "metadata": {
        "colab": {
          "base_uri": "https://localhost:8080/"
        },
        "id": "ajLQj9syhuBT",
        "outputId": "65b8929d-089f-4b20-f228-0e0775878120"
      },
      "execution_count": 27,
      "outputs": [
        {
          "output_type": "execute_result",
          "data": {
            "text/plain": [
              "({'bits': 486604799,\n",
              "  'hash': '00000000d1145790a8694403d4063f323d499e655c83426834d4ce2f8dd4a2ee',\n",
              "  'merkle_root': '7dac2c5666815c17a3b36427de37bb9d2e2c5ccec3f8633eb91a4205cb4c10ff',\n",
              "  'nonce': 1889418792,\n",
              "  'prevhash': '000000002a22cfee1f2c846adbd12b3e183d4f97683f85dad08a79780a84bd55',\n",
              "  'timestamp': 1231731025,\n",
              "  'tx_hashes': ['b1fea52486ce0c62bb442b530a3f0132b826c74e473d1f2c220bfa78111c5082',\n",
              "   'f4184fc596403b9d638783cf57adfe4c75c605f6356fbc91338530e9831e9e16'],\n",
              "  'version': 1},\n",
              " 170)"
            ]
          },
          "metadata": {},
          "execution_count": 27
        }
      ]
    },
    {
      "cell_type": "code",
      "source": [
        "! git clone https://github.com/ProfDoeg/Colegio_Invisible.git"
      ],
      "metadata": {
        "colab": {
          "base_uri": "https://localhost:8080/"
        },
        "id": "GoUSdDZPiBJn",
        "outputId": "1fc48037-dde4-4351-cbe2-af321667cb07"
      },
      "execution_count": 36,
      "outputs": [
        {
          "output_type": "stream",
          "name": "stdout",
          "text": [
            "Cloning into 'Colegio_Invisible'...\n",
            "remote: Enumerating objects: 21, done.\u001b[K\n",
            "remote: Counting objects: 100% (21/21), done.\u001b[K\n",
            "remote: Compressing objects: 100% (20/20), done.\u001b[K\n",
            "remote: Total 21 (delta 5), reused 0 (delta 0), pack-reused 0\u001b[K\n",
            "Unpacking objects: 100% (21/21), done.\n"
          ]
        }
      ]
    },
    {
      "cell_type": "code",
      "source": [
        "#! rm -r Colegio_Invisible\n"
      ],
      "metadata": {
        "id": "hBcpUFnfx8Hh"
      },
      "execution_count": 35,
      "outputs": []
    },
    {
      "cell_type": "code",
      "source": [
        "! ls Colegio_Invisible"
      ],
      "metadata": {
        "colab": {
          "base_uri": "https://localhost:8080/"
        },
        "id": "_OPq3n4MyNoS",
        "outputId": "f514f9bf-3203-412e-aa18-c11199ea52cc"
      },
      "execution_count": 37,
      "outputs": [
        {
          "output_type": "stream",
          "name": "stdout",
          "text": [
            "01_cuaderno.ipynb  img.zip  README.md\n"
          ]
        }
      ]
    },
    {
      "cell_type": "code",
      "source": [
        "! unzip Colegio_Invisible/img.zip \n"
      ],
      "metadata": {
        "colab": {
          "base_uri": "https://localhost:8080/"
        },
        "id": "g_zXw-J9yfFk",
        "outputId": "b5b0dbb8-7e94-4792-f9ec-63c552a13e59"
      },
      "execution_count": 39,
      "outputs": [
        {
          "output_type": "stream",
          "name": "stdout",
          "text": [
            "Archive:  Colegio_Invisible/img.zip\n",
            "   creating: img/\n",
            "  inflating: img/hg_cry.jpeg         \n",
            "  inflating: __MACOSX/img/._hg_cry.jpeg  \n",
            "  inflating: img/hg_drop.jpeg        \n",
            "  inflating: __MACOSX/img/._hg_drop.jpeg  \n",
            "  inflating: img/hg_house.jpeg       \n",
            "  inflating: __MACOSX/img/._hg_house.jpeg  \n",
            "  inflating: img/hg_invite.jpeg      \n",
            "  inflating: __MACOSX/img/._hg_invite.jpeg  \n",
            "  inflating: img/hg_xmas.jpeg        \n",
            "  inflating: __MACOSX/img/._hg_xmas.jpeg  \n",
            "  inflating: img/hg_hide.jpeg        \n",
            "  inflating: __MACOSX/img/._hg_hide.jpeg  \n",
            "  inflating: img/hg_rough.png        \n",
            "  inflating: __MACOSX/img/._hg_rough.png  \n"
          ]
        }
      ]
    },
    {
      "cell_type": "code",
      "source": [
        "!ls img"
      ],
      "metadata": {
        "colab": {
          "base_uri": "https://localhost:8080/"
        },
        "id": "IFoJ875DspAi",
        "outputId": "2cb87df8-971f-4459-a28c-b99573c83736"
      },
      "execution_count": 41,
      "outputs": [
        {
          "output_type": "stream",
          "name": "stdout",
          "text": [
            "hg_cry.jpeg   hg_hide.jpeg   hg_invite.jpeg  hg_xmas.jpeg\n",
            "hg_drop.jpeg  hg_house.jpeg  hg_rough.png\n"
          ]
        }
      ]
    },
    {
      "cell_type": "code",
      "source": [
        "! rm -r Colegio_Invisible\n",
        "! rm -r img"
      ],
      "metadata": {
        "id": "3NyuNictszyo"
      },
      "execution_count": 42,
      "outputs": []
    },
    {
      "cell_type": "code",
      "source": [
        "! ls"
      ],
      "metadata": {
        "colab": {
          "base_uri": "https://localhost:8080/"
        },
        "id": "K13hW5NCzdDe",
        "outputId": "bc35f30b-367f-4032-e02f-4a305b1aeaf0"
      },
      "execution_count": 44,
      "outputs": [
        {
          "output_type": "stream",
          "name": "stdout",
          "text": [
            "__MACOSX  sample_data\n"
          ]
        }
      ]
    },
    {
      "cell_type": "code",
      "source": [
        ""
      ],
      "metadata": {
        "id": "kY3p6-kNzeen"
      },
      "execution_count": null,
      "outputs": []
    }
  ],
  "metadata": {
    "kernelspec": {
      "display_name": "Python 3",
      "language": "python",
      "name": "python3"
    },
    "language_info": {
      "codemirror_mode": {
        "name": "ipython",
        "version": 3
      },
      "file_extension": ".py",
      "mimetype": "text/x-python",
      "name": "python",
      "nbconvert_exporter": "python",
      "pygments_lexer": "ipython3",
      "version": "3.7.6"
    },
    "colab": {
      "name": "01_cuaderno.ipynb",
      "provenance": []
    }
  },
  "nbformat": 4,
  "nbformat_minor": 0
}