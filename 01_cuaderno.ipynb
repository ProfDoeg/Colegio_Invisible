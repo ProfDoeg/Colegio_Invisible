{
  "cells": [
    {
      "cell_type": "markdown",
      "metadata": {
        "id": "OVQ274cGcLL6"
      },
      "source": [
        "<a href=\"https://colab.research.google.com/github/ProfDoeg/Colegio_Invisible/blob/master/01_cuaderno.ipynb\" target=\"_parent\"><img src=\"https://colab.research.google.com/assets/colab-badge.svg\" alt=\"Open In Colab\"/></a>"
      ]
    },
    {
      "cell_type": "code",
      "execution_count": 1,
      "metadata": {
        "id": "-U-OK9g6cLL9",
        "outputId": "f85db3e3-808f-47e4-ef63-719688a49838",
        "colab": {
          "base_uri": "https://localhost:8080/",
          "height": 17
        }
      },
      "outputs": [
        {
          "output_type": "display_data",
          "data": {
            "text/html": [
              "<style>.container { width:95% !important; }</style>"
            ],
            "text/plain": [
              "<IPython.core.display.HTML object>"
            ]
          },
          "metadata": {}
        }
      ],
      "source": [
        "from IPython.core.display import display, HTML\n",
        "display(HTML(\"<style>.container { width:95% !important; }</style>\"))"
      ]
    },
    {
      "cell_type": "markdown",
      "metadata": {
        "id": "UJ-SuSwAcLL_"
      },
      "source": [
        "# Colegio Invisible"
      ]
    },
    {
      "cell_type": "code",
      "execution_count": 2,
      "metadata": {
        "id": "QcKDQ9zTcLL_",
        "outputId": "0c387550-31a7-4444-abb8-29905dd376c1",
        "colab": {
          "base_uri": "https://localhost:8080/"
        }
      },
      "outputs": [
        {
          "output_type": "stream",
          "name": "stdout",
          "text": [
            "Collecting cryptos\n",
            "  Downloading cryptos-1.36-py3-none-any.whl (69 kB)\n",
            "\u001b[?25l\r\u001b[K     |████▊                           | 10 kB 21.4 MB/s eta 0:00:01\r\u001b[K     |█████████▌                      | 20 kB 27.9 MB/s eta 0:00:01\r\u001b[K     |██████████████▎                 | 30 kB 15.5 MB/s eta 0:00:01\r\u001b[K     |███████████████████             | 40 kB 11.9 MB/s eta 0:00:01\r\u001b[K     |███████████████████████▊        | 51 kB 7.3 MB/s eta 0:00:01\r\u001b[K     |████████████████████████████▌   | 61 kB 7.7 MB/s eta 0:00:01\r\u001b[K     |████████████████████████████████| 69 kB 3.9 MB/s \n",
            "\u001b[?25hInstalling collected packages: cryptos\n",
            "Successfully installed cryptos-1.36\n"
          ]
        }
      ],
      "source": [
        "! pip install cryptos"
      ]
    },
    {
      "cell_type": "code",
      "execution_count": null,
      "metadata": {
        "id": "M6ibRITfcLMA"
      },
      "outputs": [],
      "source": [
        ""
      ]
    }
  ],
  "metadata": {
    "kernelspec": {
      "display_name": "Python 3",
      "language": "python",
      "name": "python3"
    },
    "language_info": {
      "codemirror_mode": {
        "name": "ipython",
        "version": 3
      },
      "file_extension": ".py",
      "mimetype": "text/x-python",
      "name": "python",
      "nbconvert_exporter": "python",
      "pygments_lexer": "ipython3",
      "version": "3.7.6"
    },
    "colab": {
      "name": "01_cuaderno.ipynb",
      "provenance": []
    }
  },
  "nbformat": 4,
  "nbformat_minor": 0
}