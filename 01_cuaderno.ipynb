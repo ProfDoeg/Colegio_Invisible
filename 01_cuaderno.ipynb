{
  "cells": [
    {
      "cell_type": "markdown",
      "metadata": {
        "id": "OVQ274cGcLL6"
      },
      "source": [
        "<a href=\"https://colab.research.google.com/github/ProfDoeg/Colegio_Invisible/blob/master/01_cuaderno.ipynb\" target=\"_parent\"><img src=\"https://colab.research.google.com/assets/colab-badge.svg\" alt=\"Open In Colab\"/></a>"
      ]
    },
    {
      "cell_type": "code",
      "execution_count": null,
      "metadata": {
        "id": "-U-OK9g6cLL9",
        "outputId": "73791654-163b-487e-c12b-882872002ed2",
        "colab": {
          "base_uri": "https://localhost:8080/",
          "height": 17
        }
      },
      "outputs": [
        {
          "output_type": "display_data",
          "data": {
            "text/html": [
              "<style>.container { width:95% !important; }</style>"
            ],
            "text/plain": [
              "<IPython.core.display.HTML object>"
            ]
          },
          "metadata": {}
        }
      ],
      "source": [
        "from IPython.core.display import display, HTML\n",
        "display(HTML(\"<style>.container { width:95% !important; }</style>\"))"
      ]
    },
    {
      "cell_type": "markdown",
      "source": [
        "# Colegio Invisible\n",
        "<center>\n",
        "<div>\n",
        "<img src=\"https://github.com/ProfDoeg/Colegio_Invisible/raw/main/img/colegio_invisible.jpeg\" width=\"250\"/>\n",
        "</div>\n",
        "</center>\n",
        "\n",
        "\n",
        "---\n",
        "***\n",
        "The Invisible College was a small community of interacting Enlightenment scholars who often met face-to-face, exchanged ideas and encouraged each other. One group that has been described as a precursor group to the Royal Society of London. The concept of \"invisible college\" is mentioned in German Rosicrucian pamphlets in the early 17th century.\n",
        "***\n",
        "El Colegio Invisible era una pequeña comunidad de eruditos de la Ilustración que interactuaban y que a menudo se encontraban cara a cara, intercambiaban ideas y se animaban mutuamente. Un grupo que ha sido descrito como un grupo precursor de la Royal Society of London. El concepto de \"universidad invisible\" se menciona en los folletos rosacruces alemanes a principios del siglo XVII.\n",
        "***\n",
        "---\n",
        "\n"
      ],
      "metadata": {
        "id": "ZQsYYWNKOfN9"
      }
    },
    {
      "cell_type": "markdown",
      "metadata": {
        "id": "UJ-SuSwAcLL_"
      },
      "source": [
        "# Preparando El Espacio\n",
        "\n",
        "\n",
        "---\n",
        "***\n",
        "Because we are working in the Google Cloud there are none of the files available from the original Github repository. In order to access those files we will clone the git repository into the cloud, access the files we need, and delete the repository.\n",
        "***\n",
        "Debido a que estamos trabajando en Google Cloud, no hay ninguno de los archivos disponibles en el repositorio original de Github. Para acceder a esos archivos, clonaremos el repositorio de git en la nube, accederemos a los archivos que necesitamos y eliminaremos el repositorio.\n",
        "***\n",
        "---"
      ]
    },
    {
      "cell_type": "code",
      "source": [
        "! ls"
      ],
      "metadata": {
        "id": "sR-j7TQ1gI1R"
      },
      "execution_count": null,
      "outputs": []
    },
    {
      "cell_type": "code",
      "source": [
        "!ls\n",
        "! git clone https://github.com/ProfDoeg/Colegio_Invisible.git\n",
        "! unzip Colegio_Invisible/img.zip\n",
        "! rm -r Colegio_Invisible\n",
        "!ls"
      ],
      "metadata": {
        "id": "b_N9KjbrCjNg"
      },
      "execution_count": null,
      "outputs": []
    },
    {
      "cell_type": "code",
      "source": [
        "! ls img"
      ],
      "metadata": {
        "id": "2tT6yG4rXXW3"
      },
      "execution_count": null,
      "outputs": []
    },
    {
      "cell_type": "markdown",
      "source": [
        "# Mirando el Espacio\n",
        "\n",
        "---\n",
        "***\n",
        "Now that we have local files we can access them from Python as follows:\n",
        "***\n",
        "Ahora que tenemos archivos locales, podemos acceder a ellos desde Python de la siguiente manera:\n",
        "***\n",
        "---"
      ],
      "metadata": {
        "id": "Nwn0hCzMYab6"
      }
    },
    {
      "cell_type": "code",
      "source": [
        "from PIL import Image\n",
        "import time\n",
        "imgs = [('xmas','jpeg',20), \n",
        "        ('cry','jpeg',15),('rough','png',10),\n",
        "        ('drop','jpeg',15), ('house','jpeg',15), ('hide','jpeg',15) ]"
      ],
      "metadata": {
        "id": "ljmBJmIk0oDv"
      },
      "execution_count": null,
      "outputs": []
    },
    {
      "cell_type": "code",
      "source": [
        "from IPython.display import Image \n",
        "\n",
        "for name,ext,dt in imgs:\n",
        "    path = f'img/hg_{name}.{ext}'\n",
        "    show=Image(path)\n",
        "    display(show)\n",
        "    time.sleep(dt/5)"
      ],
      "metadata": {
        "id": "O53Qx6pV0ko9"
      },
      "execution_count": null,
      "outputs": []
    },
    {
      "cell_type": "markdown",
      "source": [
        "# Metas (Goals)\n",
        "\n",
        "---\n",
        "***\n",
        "By the end of this Introduction to Python you should understand:\n",
        "***\n",
        "Al final de esta Introducción a Python, debería comprender:\n",
        "***\n",
        "---\n",
        "- Lanzamiento de un cuaderno CoLab desde Github (Launching a CoLab Notebook from Github)\n",
        "- Comprensión de la estructura de un cuaderno CoLab (Understanding the Structure of a CoLab Notebook)\n",
        "- Comandos básicos de la terminal (Basic Terminal Commands)\n",
        "- Guardar el cuaderno (Saving the Notebook)\n",
        "- Guardar otros archivos (Saving Other Files)\n",
        "- Carga de otros archivos (Uploading Other Files)\n",
        "- Instalación e importación de bibliotecas (Installing and Importing Libraries)\n",
        "- Tener curiosidad por las cripto (Getting Curious About Crypto)\n",
        "\n"
      ],
      "metadata": {
        "id": "Ia8Tq2vsDi9y"
      }
    },
    {
      "cell_type": "markdown",
      "source": [
        "# Lazamiento CoLab desde Github (Launching a CoLab Notebook from Github)\n",
        "\n",
        "---\n",
        "***\n",
        "Launching the Jupyter notebook from Github is easy. We can simply click on the supplied banner.\n",
        "***\n",
        "Lanzar el cuaderno Jupyter desde Github es fácil. Simplemente podemos hacer clic en el banner suministrado.\n",
        "***\n",
        "---\n",
        "<a href=\"https://colab.research.google.com/github/ProfDoeg/Colegio_Invisible/blob/master/01_cuaderno.ipynb\" target=\"_parent\"><img src=\"https://colab.research.google.com/assets/colab-badge.svg\" alt=\"Open In Colab\"/></a>\n",
        "\n",
        "# Comprensión de la estructura de un cuaderno CoLab (Understanding the Structure of a CoLab Notebook)\n",
        "\n",
        "\n",
        "---\n",
        "***\n",
        "There are two kinds of cells in a notebook:\n",
        "***\n",
        "Hay dos tipos de celdas en un cuaderno:\n",
        "***\n",
        "---\n",
        "\n",
        "- `+ Code` esto es para **Python** y comandos de **Terminal**\n",
        "- `+ Text` esto es para **Markdown**\n",
        "\n",
        "Este celda es **Markdown**\n"
      ],
      "metadata": {
        "id": "xw-4bm2Nz_oN"
      }
    },
    {
      "cell_type": "code",
      "source": [
        "# este celda es Python\n",
        "print('Hola Python')"
      ],
      "metadata": {
        "id": "acDUxsnJ1dHK"
      },
      "execution_count": null,
      "outputs": []
    },
    {
      "cell_type": "markdown",
      "source": [
        "Uns celda de `Code` con un signo de exclamación `!` al principio es con un signo de exclamación! al principio es para comandos de **Terminal**"
      ],
      "metadata": {
        "id": "r5q6ifgK244P"
      }
    },
    {
      "cell_type": "code",
      "source": [
        "! ls"
      ],
      "metadata": {
        "id": "YtAEA1QG23o2"
      },
      "execution_count": null,
      "outputs": []
    },
    {
      "cell_type": "markdown",
      "source": [
        "# Comandos básicos de la terminal (Basic Terminal Commands)\n",
        "\n",
        "- `ls` list\n",
        "- `cd` change directory\n",
        "- `echo` repeat\n",
        "- `>` fill\n",
        "- `rm` remove file\n",
        "- `cp` copy file\n",
        "- `mv` move file\n",
        "- `cat` view contents file"
      ],
      "metadata": {
        "id": "7_4Jv_zjQ70-"
      }
    },
    {
      "cell_type": "code",
      "source": [
        "! ls "
      ],
      "metadata": {
        "id": "hutGivm6Q2mW"
      },
      "execution_count": null,
      "outputs": []
    },
    {
      "cell_type": "code",
      "source": [
        "! ls sample_data"
      ],
      "metadata": {
        "id": "XCf3tSwFRmRB"
      },
      "execution_count": null,
      "outputs": []
    },
    {
      "cell_type": "code",
      "source": [
        "! ls sample_data "
      ],
      "metadata": {
        "id": "atAsyLntRp89"
      },
      "execution_count": null,
      "outputs": []
    },
    {
      "cell_type": "code",
      "source": [
        "%%!\n",
        "cd sample_data\n",
        "ls"
      ],
      "metadata": {
        "id": "lRwkUfgTSIyK"
      },
      "execution_count": null,
      "outputs": []
    },
    {
      "cell_type": "code",
      "source": [
        "! echo hola > text.txt"
      ],
      "metadata": {
        "id": "3HHZYRStTBeT"
      },
      "execution_count": null,
      "outputs": []
    },
    {
      "cell_type": "code",
      "source": [
        "! ls"
      ],
      "metadata": {
        "id": "5adt026XTSE9"
      },
      "execution_count": null,
      "outputs": []
    },
    {
      "cell_type": "code",
      "source": [
        "! cat text.txt"
      ],
      "metadata": {
        "id": "DskgIarUTVBg",
        "outputId": "2c37cfd5-6ad7-42e6-fa07-116f1759b4ae",
        "colab": {
          "base_uri": "https://localhost:8080/"
        }
      },
      "execution_count": null,
      "outputs": [
        {
          "output_type": "stream",
          "name": "stdout",
          "text": [
            "hola\n"
          ]
        }
      ]
    },
    {
      "cell_type": "code",
      "source": [
        "! cp text.txt sample_data/text_copy.txt"
      ],
      "metadata": {
        "id": "ZElA5x44TZC_"
      },
      "execution_count": null,
      "outputs": []
    },
    {
      "cell_type": "code",
      "source": [
        "!ls"
      ],
      "metadata": {
        "id": "5e43J7g1TkV_"
      },
      "execution_count": null,
      "outputs": []
    },
    {
      "cell_type": "code",
      "source": [
        "! ls sample_data"
      ],
      "metadata": {
        "id": "-yTF0Hx0TmCi"
      },
      "execution_count": null,
      "outputs": []
    },
    {
      "cell_type": "code",
      "source": [
        "! rm sample_data/text_copy.txt"
      ],
      "metadata": {
        "id": "PH80GNaiTvPH"
      },
      "execution_count": null,
      "outputs": []
    },
    {
      "cell_type": "code",
      "source": [
        "! ls sample_data"
      ],
      "metadata": {
        "id": "ox00kbhwT7mE"
      },
      "execution_count": null,
      "outputs": []
    },
    {
      "cell_type": "code",
      "source": [
        "! mv text.txt sample_data/text2.txt"
      ],
      "metadata": {
        "id": "WIJF8JHdT-H3"
      },
      "execution_count": null,
      "outputs": []
    },
    {
      "cell_type": "code",
      "source": [
        "! ls"
      ],
      "metadata": {
        "id": "slvr3x_-UMFL"
      },
      "execution_count": null,
      "outputs": []
    },
    {
      "cell_type": "code",
      "source": [
        "! ls sample_data"
      ],
      "metadata": {
        "id": "4MM93OvVUMKp"
      },
      "execution_count": null,
      "outputs": []
    },
    {
      "cell_type": "markdown",
      "source": [
        "# Guardar el cuaderno (Saving the Notebook)\n",
        "\n",
        "---\n",
        "***\n",
        "Save the notebook by clicking the pulldown `File` and selecting the appropriate method:\n",
        "***\n",
        "Guarde el cuaderno haciendo clic en el menú desplegable `Archivo` y seleccionando el método apropiado:\n",
        "***\n",
        "---\n",
        "- Guardar una copia en Drive (Save a copy in Drive)\n",
        "- Guardar una copia en Github (Save a Copy in Github)\n",
        "- Descargar (Download)"
      ],
      "metadata": {
        "id": "xs90FgVq3_CN"
      }
    },
    {
      "cell_type": "markdown",
      "source": [
        "# Guardar otros archivos (Saving Other Files)\n",
        "\n",
        "---\n",
        "***\n",
        "Save a file by clicking the appropritate method:\n",
        "***\n",
        "Guarde un archivo haciendo clic en el método apropiado:\n",
        "***\n",
        "---\n",
        "- Mount the Google Drive and save file to it\n",
        "- Download the File to local computer\n"
      ],
      "metadata": {
        "id": "QdBd04_xFlvC"
      }
    },
    {
      "cell_type": "code",
      "source": [
        "! echo hola mis gatos > hola.txt"
      ],
      "metadata": {
        "id": "FG4UEAnnJsg4"
      },
      "execution_count": null,
      "outputs": []
    },
    {
      "cell_type": "code",
      "source": [
        "! cat hola.txt"
      ],
      "metadata": {
        "id": "It3w4fl5HtJW"
      },
      "execution_count": null,
      "outputs": []
    },
    {
      "cell_type": "code",
      "source": [
        "!ls"
      ],
      "metadata": {
        "id": "RQ_6UotRJjr1"
      },
      "execution_count": null,
      "outputs": []
    },
    {
      "cell_type": "code",
      "source": [
        "#mounting Drive\n",
        "from google.colab import drive\n",
        "drive.mount('/content/drive')"
      ],
      "metadata": {
        "id": "1VKRetUHJNPk"
      },
      "execution_count": null,
      "outputs": []
    },
    {
      "cell_type": "code",
      "source": [
        "!ls"
      ],
      "metadata": {
        "id": "WMleMCxzJlg2"
      },
      "execution_count": null,
      "outputs": []
    },
    {
      "cell_type": "code",
      "source": [
        "! ls drive/MyDrive"
      ],
      "metadata": {
        "id": "lYff-DVGJRZX"
      },
      "execution_count": null,
      "outputs": []
    },
    {
      "cell_type": "code",
      "source": [
        "! mkdir drive/MyDrive/test"
      ],
      "metadata": {
        "id": "mDejWCYpKqKR"
      },
      "execution_count": null,
      "outputs": []
    },
    {
      "cell_type": "code",
      "source": [
        "! cp hola.txt drive/MyDrive/test/hola.txt"
      ],
      "metadata": {
        "id": "MHx6bBQAJ6dA"
      },
      "execution_count": null,
      "outputs": []
    },
    {
      "cell_type": "code",
      "source": [
        "# downloading files to local\n",
        "from google.colab import files\n",
        "f=files.download('hola.txt');"
      ],
      "metadata": {
        "colab": {
          "base_uri": "https://localhost:8080/",
          "height": 17
        },
        "id": "OSudXJA-HI2k",
        "outputId": "425639b6-f91e-4db8-df12-a1faad3de1a6"
      },
      "execution_count": null,
      "outputs": [
        {
          "output_type": "display_data",
          "data": {
            "application/javascript": [
              "\n",
              "    async function download(id, filename, size) {\n",
              "      if (!google.colab.kernel.accessAllowed) {\n",
              "        return;\n",
              "      }\n",
              "      const div = document.createElement('div');\n",
              "      const label = document.createElement('label');\n",
              "      label.textContent = `Downloading \"${filename}\": `;\n",
              "      div.appendChild(label);\n",
              "      const progress = document.createElement('progress');\n",
              "      progress.max = size;\n",
              "      div.appendChild(progress);\n",
              "      document.body.appendChild(div);\n",
              "\n",
              "      const buffers = [];\n",
              "      let downloaded = 0;\n",
              "\n",
              "      const channel = await google.colab.kernel.comms.open(id);\n",
              "      // Send a message to notify the kernel that we're ready.\n",
              "      channel.send({})\n",
              "\n",
              "      for await (const message of channel.messages) {\n",
              "        // Send a message to notify the kernel that we're ready.\n",
              "        channel.send({})\n",
              "        if (message.buffers) {\n",
              "          for (const buffer of message.buffers) {\n",
              "            buffers.push(buffer);\n",
              "            downloaded += buffer.byteLength;\n",
              "            progress.value = downloaded;\n",
              "          }\n",
              "        }\n",
              "      }\n",
              "      const blob = new Blob(buffers, {type: 'application/binary'});\n",
              "      const a = document.createElement('a');\n",
              "      a.href = window.URL.createObjectURL(blob);\n",
              "      a.download = filename;\n",
              "      div.appendChild(a);\n",
              "      a.click();\n",
              "      div.remove();\n",
              "    }\n",
              "  "
            ],
            "text/plain": [
              "<IPython.core.display.Javascript object>"
            ]
          },
          "metadata": {}
        },
        {
          "output_type": "display_data",
          "data": {
            "application/javascript": [
              "download(\"download_b7094407-b5e3-4cd4-962f-b9ff4bc6002b\", \"hola.txt\", 15)"
            ],
            "text/plain": [
              "<IPython.core.display.Javascript object>"
            ]
          },
          "metadata": {}
        }
      ]
    },
    {
      "cell_type": "markdown",
      "source": [
        "# Carga de otros archivos (Uploading Other Files)\n",
        "\n",
        "---\n",
        "***\n",
        "We upload files by:\n",
        "***\n",
        "Subimos archivos por:\n",
        "***\n",
        "---\n",
        "- copiar desde Google Drive después del montaje (copying from the Google Drive after mounting)\n",
        "- cargar desde la computadora local (upload from local computer)\n",
        "- clonar un repositorio de github (clone a github repositiory)\n",
        "\n"
      ],
      "metadata": {
        "id": "86wcp5E9FhEw"
      }
    },
    {
      "cell_type": "markdown",
      "source": [
        "## Method 1: Google Drive"
      ],
      "metadata": {
        "id": "EdBeaf73O5Vr"
      }
    },
    {
      "cell_type": "code",
      "source": [
        "! cp  drive/MyDrive/test/hola.txt hola2.txt"
      ],
      "metadata": {
        "id": "V71mLWwsOBLD"
      },
      "execution_count": null,
      "outputs": []
    },
    {
      "cell_type": "code",
      "source": [
        "! ls"
      ],
      "metadata": {
        "id": "mIBOjPQ2OI7q"
      },
      "execution_count": null,
      "outputs": []
    },
    {
      "cell_type": "markdown",
      "source": [
        "## Method 2: Local Drive"
      ],
      "metadata": {
        "id": "DaD6bFi3PBb5"
      }
    },
    {
      "cell_type": "code",
      "source": [
        "#upload\n",
        "from google.colab import files\n",
        "fu=files.upload();"
      ],
      "metadata": {
        "id": "DcS3SKmKOBaC"
      },
      "execution_count": null,
      "outputs": []
    },
    {
      "cell_type": "code",
      "source": [
        "! ls"
      ],
      "metadata": {
        "id": "R62ErDi9OdkS"
      },
      "execution_count": null,
      "outputs": []
    },
    {
      "cell_type": "markdown",
      "source": [
        "## Method 3: Github Clone"
      ],
      "metadata": {
        "id": "UNaEJ0YQPIIS"
      }
    },
    {
      "cell_type": "code",
      "source": [
        "! git clone https://github.com/ProfDoeg/Colegio_Invisible.git"
      ],
      "metadata": {
        "id": "C4XScNdJOBlK"
      },
      "execution_count": null,
      "outputs": []
    },
    {
      "cell_type": "code",
      "source": [
        "! ls "
      ],
      "metadata": {
        "id": "YvUDG7F-OtXI"
      },
      "execution_count": null,
      "outputs": []
    },
    {
      "cell_type": "code",
      "source": [
        "! ls Colegio_Invisible"
      ],
      "metadata": {
        "id": "PE7uwr-HPRrP"
      },
      "execution_count": null,
      "outputs": []
    },
    {
      "cell_type": "code",
      "source": [
        "! rm -r Colegio_Invisible"
      ],
      "metadata": {
        "id": "11VSkbv7QTp6"
      },
      "execution_count": null,
      "outputs": []
    },
    {
      "cell_type": "code",
      "source": [
        "! ls"
      ],
      "metadata": {
        "id": "s2_av5t5QXy8"
      },
      "execution_count": null,
      "outputs": []
    },
    {
      "cell_type": "markdown",
      "source": [
        "# Instalación e importación de bibliotecas (Installing and Importing Libraries)\n",
        "\n",
        "---\n",
        "***\n",
        "To use special libraries:\n",
        "***\n",
        "Usar bibliotecas especial:\n",
        "***\n",
        "---\n",
        "\n",
        "- install using `pip` at *Terminal*\n",
        "- import using `import`"
      ],
      "metadata": {
        "id": "gL7PM1bDYljm"
      }
    },
    {
      "cell_type": "markdown",
      "source": [
        "# Tener curiosidad por las cripto (Getting Curious About Crypto)"
      ],
      "metadata": {
        "id": "xCjVPbVL1dnZ"
      }
    },
    {
      "cell_type": "code",
      "execution_count": null,
      "metadata": {
        "id": "QcKDQ9zTcLL_"
      },
      "outputs": [],
      "source": [
        "! pip install cryptos"
      ]
    },
    {
      "cell_type": "code",
      "execution_count": null,
      "metadata": {
        "id": "M6ibRITfcLMA"
      },
      "outputs": [],
      "source": [
        "import cryptos\n",
        "dog = cryptos.Doge()\n",
        "btc = cryptos.Bitcoin()"
      ]
    },
    {
      "cell_type": "code",
      "source": [
        "#dog.__dir__()"
      ],
      "metadata": {
        "id": "ATnY8aUVf7oJ"
      },
      "execution_count": null,
      "outputs": []
    },
    {
      "cell_type": "code",
      "source": [
        "#dog.__dict__"
      ],
      "metadata": {
        "id": "akgHVsEGjqYk"
      },
      "execution_count": null,
      "outputs": []
    },
    {
      "cell_type": "code",
      "source": [
        "#btc.__dict__"
      ],
      "metadata": {
        "id": "ayAq4D4Gjwd_"
      },
      "execution_count": null,
      "outputs": []
    },
    {
      "cell_type": "code",
      "source": [
        "dog.block_info(0)"
      ],
      "metadata": {
        "id": "6iv_rkReglWj"
      },
      "execution_count": null,
      "outputs": []
    },
    {
      "cell_type": "code",
      "source": [
        "i=0\n",
        "while True:\n",
        "  D1=dog.block_info(i)\n",
        "  if len(D1['tx_hashes'])!=1:\n",
        "    break\n",
        "  i=i+1\n",
        "D1,i"
      ],
      "metadata": {
        "id": "FEQHGW5DgQrl"
      },
      "execution_count": null,
      "outputs": []
    },
    {
      "cell_type": "code",
      "source": [
        "j=0\n",
        "while True:\n",
        "  B1=btc.block_info(j)\n",
        "  if len(B1['tx_hashes'])!=1:\n",
        "    break\n",
        "  j=j+1\n",
        "B1,j"
      ],
      "metadata": {
        "id": "ajLQj9syhuBT"
      },
      "execution_count": null,
      "outputs": []
    }
  ],
  "metadata": {
    "kernelspec": {
      "display_name": "Python 3",
      "language": "python",
      "name": "python3"
    },
    "language_info": {
      "codemirror_mode": {
        "name": "ipython",
        "version": 3
      },
      "file_extension": ".py",
      "mimetype": "text/x-python",
      "name": "python",
      "nbconvert_exporter": "python",
      "pygments_lexer": "ipython3",
      "version": "3.7.6"
    },
    "colab": {
      "name": "01_cuaderno.ipynb",
      "provenance": []
    }
  },
  "nbformat": 4,
  "nbformat_minor": 0
}