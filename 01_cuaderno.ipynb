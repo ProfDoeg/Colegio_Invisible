{
  "cells": [
    {
      "cell_type": "markdown",
      "metadata": {
        "id": "OVQ274cGcLL6"
      },
      "source": [
        "<a href=\"https://colab.research.google.com/github/ProfDoeg/Colegio_Invisible/blob/master/01_cuaderno.ipynb\" target=\"_parent\"><img src=\"https://colab.research.google.com/assets/colab-badge.svg\" alt=\"Open In Colab\"/></a>"
      ]
    },
    {
      "cell_type": "code",
      "execution_count": null,
      "metadata": {
        "id": "-U-OK9g6cLL9"
      },
      "outputs": [],
      "source": [
        "from IPython.core.display import display, HTML\n",
        "display(HTML(\"<style>.container { width:95% !important; }</style>\"))"
      ]
    },
    {
      "cell_type": "markdown",
      "source": [
        "# Colegio Invisible\n",
        "<center>\n",
        "<div>\n",
        "<img src=\"https://github.com/ProfDoeg/Colegio_Invisible/raw/main/img/colegio_invisible.jpeg\" width=\"250\"/>\n",
        "</div>\n",
        "</center>\n",
        "\n",
        "---\n",
        "***\n",
        "La ilustración de arriba es de *Speculum Sophicum Rhodostauroticum*, una obra de 1618 de Theophilus Schweighardt. Frances Yates identifica este emblema mecánico para representar el ***Colegio Invisible de la Rosa Cruz***. Note el conjunto de lenguaje, mecanismo, humanos, ángeles, aire, luz, sonido y estrellas.\n",
        "El Colegio Invisible era una pequeña comunidad de eruditos de la Ilustración que interactuaban y que intercambiaban ideas y se animaban mutuamente. A menudo se encontraban cara a cara o mediante notas cifradas en los márgenes de los libros. Un grupo que ha sido descrito como un grupo precursor de la Royal Society of London. El concepto de colegio invisible se menciona en los folletos rosacruces alemanes a principios del siglo XVII.\n",
        "***\n",
        "The above illustration is from *Speculum Sophicum Rhodostauroticum*, a 1618 work by Theophilus Schweighardt. Frances Yates identifies this mechanical emblem to represent the ***Invisible College of the Rosy Cross***. Note the assembly of language, mechanism, humans, angels, air, light, sound, and stars.\n",
        "The Invisible College was a small community of interacting Enlightenment scholars who exchanged ideas and encouraged each other. They often met face-to-face or by encrypted notes in the margins of books. One group that has been described as a precursor group to the Royal Society of London. The concept of invisible college is mentioned in German Rosicrucian pamphlets in the early 17th century.\n",
        "***\n",
        "---\n",
        "\n"
      ],
      "metadata": {
        "id": "ZQsYYWNKOfN9"
      }
    },
    {
      "cell_type": "markdown",
      "metadata": {
        "id": "UJ-SuSwAcLL_"
      },
      "source": [
        "# Preparando El Espacio\n",
        "\n",
        "\n",
        "---\n",
        "***\n",
        "Because we are working in the Google Cloud there are none of the files available from the original Github repository. In order to access those files we will clone the git repository into the cloud, access the files we need, and delete the repository.\n",
        "***\n",
        "Debido a que estamos trabajando en Google Cloud, no hay ninguno de los archivos disponibles en el repositorio original de Github. Para acceder a esos archivos, clonaremos el repositorio de git en la nube, accederemos a los archivos que necesitamos y eliminaremos el repositorio.\n",
        "***\n",
        "---"
      ]
    },
    {
      "cell_type": "markdown",
      "source": [
        "- Mirar los archivos (Look at the files)\n",
        "\n",
        "\n",
        "\n"
      ],
      "metadata": {
        "id": "Ex3yIUdrk8AS"
      }
    },
    {
      "cell_type": "code",
      "source": [
        "! ls"
      ],
      "metadata": {
        "id": "sR-j7TQ1gI1R"
      },
      "execution_count": null,
      "outputs": []
    },
    {
      "cell_type": "markdown",
      "source": [
        "- Clonar el repositorio de github `Colegio_Invisible` (Clone the repository)\n",
        "- Descomprimer `unzip` el archivo `img.zip` (Unzip the file )\n",
        "- Eliminar el repositorio `Colegio_Invisible` (Remove the repository) \n",
        "- Mirar los archivos (View the files)\n",
        "\n"
      ],
      "metadata": {
        "id": "FyBvvWPilCdI"
      }
    },
    {
      "cell_type": "code",
      "source": [
        "! git clone https://github.com/ProfDoeg/Colegio_Invisible.git\n",
        "! unzip Colegio_Invisible/img.zip\n",
        "! rm -r Colegio_Invisible\n",
        "!ls"
      ],
      "metadata": {
        "id": "b_N9KjbrCjNg"
      },
      "execution_count": null,
      "outputs": []
    },
    {
      "cell_type": "code",
      "source": [
        "! ls img"
      ],
      "metadata": {
        "id": "2tT6yG4rXXW3"
      },
      "execution_count": null,
      "outputs": []
    },
    {
      "cell_type": "markdown",
      "source": [
        "# Mirando el Espacio\n",
        "\n",
        "---\n",
        "***\n",
        "Now that we have local files we can access them from Python as follows:\n",
        "***\n",
        "Ahora que tenemos archivos locales, podemos acceder a ellos desde Python de la siguiente manera:\n",
        "***\n",
        "---"
      ],
      "metadata": {
        "id": "Nwn0hCzMYab6"
      }
    },
    {
      "cell_type": "code",
      "source": [
        "from IPython.display import Image \n",
        "import os\n",
        "imgs = os.listdir('img')\n",
        "imgs"
      ],
      "metadata": {
        "id": "ljmBJmIk0oDv"
      },
      "execution_count": null,
      "outputs": []
    },
    {
      "cell_type": "code",
      "source": [
        "for img in imgs:\n",
        "    path = f'img/{img}'\n",
        "    show=Image(path)\n",
        "    display(show)"
      ],
      "metadata": {
        "id": "O53Qx6pV0ko9"
      },
      "execution_count": null,
      "outputs": []
    },
    {
      "cell_type": "markdown",
      "source": [
        "# Metas (Goals)\n",
        "\n",
        "---\n",
        "***\n",
        "By the end of this Introduction to Python you should understand:\n",
        "***\n",
        "Al final de esta Introducción a Python, debería comprender:\n",
        "***\n",
        "---\n",
        "- Lanzamiento de un cuaderno CoLab desde Github (Launching a CoLab Notebook from Github)\n",
        "- Comprensión de la estructura de un cuaderno CoLab (Understanding the Structure of a CoLab Notebook)\n",
        "- Comandos básicos de la terminal (Basic Terminal Commands)\n",
        "- Guardar el cuaderno (Save the Notebook)\n",
        "- Guardar otros archivos (Save Other Files)\n",
        "- Cargar de otros archivos (Upload Other Files)\n",
        "- Crear y Leer archivos en Python (Create and Read Files in Python)\n",
        "- Ingresar datos en Python por teclado (Input data into Python by keyboard)\n",
        "- Obtener datos la web con Python `requests` (Get web data with Python `requests`)\n",
        "- Ver Directorios con Python (View Directories with Python)\n",
        "- Ejecutar comandos de terminal en Python (Execute Terminal Commands in Python )\n",
        "- Instalar e importar bibliotecas (Install and Import Libraries)\n",
        "- Tener curiosidad por las cripto (Get Curious About Crypto)\n",
        "\n"
      ],
      "metadata": {
        "id": "Ia8Tq2vsDi9y"
      }
    },
    {
      "cell_type": "markdown",
      "source": [
        "# Lazamiento CoLab desde Github (Launching a CoLab Notebook from Github)\n",
        "\n",
        "---\n",
        "***\n",
        "Launching the Jupyter notebook from Github is easy. We can simply click on the supplied banner.\n",
        "***\n",
        "Lanzar el cuaderno Jupyter desde Github es fácil. Simplemente podemos hacer clic en el banner suministrado.\n",
        "***\n",
        "---\n",
        "<a href=\"https://colab.research.google.com/github/ProfDoeg/Colegio_Invisible/blob/master/01_cuaderno.ipynb\" target=\"_parent\"><img src=\"https://colab.research.google.com/assets/colab-badge.svg\" alt=\"Open In Colab\"/></a>\n",
        "\n",
        "# Comprensión de la estructura de un cuaderno CoLab (Understanding the Structure of a CoLab Notebook)\n",
        "\n",
        "\n",
        "---\n",
        "***\n",
        "There are two kinds of cells in a notebook:\n",
        "***\n",
        "Hay dos tipos de celdas en un cuaderno:\n",
        "***\n",
        "---\n",
        "\n",
        "- `+ Code` esto es para **Python** y comandos de **Terminal**\n",
        "- `+ Text` esto es para **Markdown**\n",
        "\n",
        "Este celda es **Markdown**\n"
      ],
      "metadata": {
        "id": "xw-4bm2Nz_oN"
      }
    },
    {
      "cell_type": "code",
      "source": [
        "# este celda es Python\n",
        "print('Hola Python')"
      ],
      "metadata": {
        "id": "acDUxsnJ1dHK"
      },
      "execution_count": null,
      "outputs": []
    },
    {
      "cell_type": "markdown",
      "source": [
        "---\n",
        "***\n",
        "Uns celda de `Code` con un signo de exclamación `!` al principio es para comandos de **Terminal**\n",
        "\n",
        "***\n",
        "\n",
        "A `Code` cell with an exclamation point`!` at the beginning is for **Terminal** commands\n",
        "***\n",
        "---"
      ],
      "metadata": {
        "id": "r5q6ifgK244P"
      }
    },
    {
      "cell_type": "code",
      "source": [
        "! ls -a -l"
      ],
      "metadata": {
        "id": "YtAEA1QG23o2"
      },
      "execution_count": null,
      "outputs": []
    },
    {
      "cell_type": "markdown",
      "source": [
        "# Comandos básicos de la terminal (Basic Terminal Commands)\n",
        "\n",
        "- `pwd` directorio de trabajo actual \\\\\n",
        "present working directory\n",
        "- `ls` lista de archivos y carpetas \\\\\n",
        "list files and folders\n",
        "- `cd` cambiar directorio \\\\\n",
        "change directory\n",
        "- `echo` repetición de \\\\\n",
        "repeat\n",
        "- `>` llenar \\\\\n",
        "fill\n",
        "- `rm` eliminar archivo \\\\\n",
        "remove file \n",
        "\n",
        "- `cp` copiar archivo \\\\\n",
        "copy file\n",
        "- `mv` movar archivo \\\\\n",
        "move file\n",
        "- `cat` ver contenido de archivo \\\\\n",
        "view file content\n",
        "- `zip` comprimer archivos en un zip \\\\\n",
        "compress files into a zip \n",
        "- `unzip` descomprimer el zip \\\\\n",
        "decompress zip\n",
        "\n"
      ],
      "metadata": {
        "id": "7_4Jv_zjQ70-"
      }
    },
    {
      "cell_type": "markdown",
      "source": [
        "enumerar el contenido actual del directorio \n",
        "***\n",
        "list present directory contents"
      ],
      "metadata": {
        "id": "DJ-e7BYKrElX"
      }
    },
    {
      "cell_type": "code",
      "source": [
        "! ls "
      ],
      "metadata": {
        "id": "hutGivm6Q2mW"
      },
      "execution_count": null,
      "outputs": []
    },
    {
      "cell_type": "markdown",
      "source": [
        "enumerar el contenido en la carpeta hacia abajo en la estructura del directorio\n",
        "***\n",
        "list contents down in directory stucture"
      ],
      "metadata": {
        "id": "Ilh6fn8yrhBt"
      }
    },
    {
      "cell_type": "code",
      "source": [
        "! ls sample_data"
      ],
      "metadata": {
        "id": "XCf3tSwFRmRB"
      },
      "execution_count": null,
      "outputs": []
    },
    {
      "cell_type": "markdown",
      "source": [
        "list directory contents up in the directory structure\n",
        "***\n",
        "enumerar el contenido del directorio en la estructura del directorio"
      ],
      "metadata": {
        "id": "uYE7EJPkriP_"
      }
    },
    {
      "cell_type": "code",
      "source": [
        "! ls .."
      ],
      "metadata": {
        "id": "atAsyLntRp89"
      },
      "execution_count": null,
      "outputs": []
    },
    {
      "cell_type": "code",
      "source": [
        "! ls ../"
      ],
      "metadata": {
        "id": "zJz59lmLwiRi"
      },
      "execution_count": null,
      "outputs": []
    },
    {
      "cell_type": "markdown",
      "source": [
        "execute multiple lines in one cell\n",
        "***\n",
        "ejecutar varias líneas en una celda"
      ],
      "metadata": {
        "id": "NjLxSyG5rjfL"
      }
    },
    {
      "cell_type": "code",
      "source": [
        "%%!\n",
        "cd sample_data\n",
        "ls"
      ],
      "metadata": {
        "id": "lRwkUfgTSIyK"
      },
      "execution_count": null,
      "outputs": []
    },
    {
      "cell_type": "markdown",
      "source": [
        "echo\n",
        "***\n",
        "eco"
      ],
      "metadata": {
        "id": "4CZwdjJKrkjV"
      }
    },
    {
      "cell_type": "code",
      "source": [
        "! echo hola"
      ],
      "metadata": {
        "id": "vaK0mPz6rmk9"
      },
      "execution_count": null,
      "outputs": []
    },
    {
      "cell_type": "markdown",
      "source": [
        "route echo into file\n",
        "***\n",
        "enrutar el eco al archivo"
      ],
      "metadata": {
        "id": "1xfkqa8VroG9"
      }
    },
    {
      "cell_type": "code",
      "source": [
        "! echo hola > text.txt"
      ],
      "metadata": {
        "id": "3HHZYRStTBeT"
      },
      "execution_count": null,
      "outputs": []
    },
    {
      "cell_type": "code",
      "source": [
        "! ls"
      ],
      "metadata": {
        "id": "5adt026XTSE9"
      },
      "execution_count": null,
      "outputs": []
    },
    {
      "cell_type": "code",
      "source": [
        "! cat text.txt"
      ],
      "metadata": {
        "id": "DskgIarUTVBg"
      },
      "execution_count": null,
      "outputs": []
    },
    {
      "cell_type": "markdown",
      "source": [
        "copy file\n",
        "***\n",
        "copiar archivo"
      ],
      "metadata": {
        "id": "1U1Y_hc_rs1e"
      }
    },
    {
      "cell_type": "code",
      "source": [
        "! cp text.txt sample_data/text_copy.txt"
      ],
      "metadata": {
        "id": "ZElA5x44TZC_"
      },
      "execution_count": null,
      "outputs": []
    },
    {
      "cell_type": "code",
      "source": [
        "!ls"
      ],
      "metadata": {
        "id": "5e43J7g1TkV_"
      },
      "execution_count": null,
      "outputs": []
    },
    {
      "cell_type": "code",
      "source": [
        "! ls sample_data"
      ],
      "metadata": {
        "id": "-yTF0Hx0TmCi"
      },
      "execution_count": null,
      "outputs": []
    },
    {
      "cell_type": "markdown",
      "source": [
        "remove file\n",
        "***\n",
        "\n",
        "remover archivo"
      ],
      "metadata": {
        "id": "XUx2qdpbtVFe"
      }
    },
    {
      "cell_type": "code",
      "source": [
        "! rm sample_data/text_copy.txt"
      ],
      "metadata": {
        "id": "PH80GNaiTvPH"
      },
      "execution_count": null,
      "outputs": []
    },
    {
      "cell_type": "code",
      "source": [
        "! ls sample_data"
      ],
      "metadata": {
        "id": "ox00kbhwT7mE"
      },
      "execution_count": null,
      "outputs": []
    },
    {
      "cell_type": "markdown",
      "source": [
        "move file\n",
        "***\n",
        "mover archivo"
      ],
      "metadata": {
        "id": "s0so_Ic6tXQj"
      }
    },
    {
      "cell_type": "code",
      "source": [
        "! mv text.txt sample_data/text2.txt"
      ],
      "metadata": {
        "id": "WIJF8JHdT-H3"
      },
      "execution_count": null,
      "outputs": []
    },
    {
      "cell_type": "code",
      "source": [
        "! ls"
      ],
      "metadata": {
        "id": "slvr3x_-UMFL"
      },
      "execution_count": null,
      "outputs": []
    },
    {
      "cell_type": "code",
      "source": [
        "! ls sample_data"
      ],
      "metadata": {
        "id": "4MM93OvVUMKp"
      },
      "execution_count": null,
      "outputs": []
    },
    {
      "cell_type": "markdown",
      "source": [
        "# Guardar el cuaderno (Saving the Notebook)\n",
        "\n",
        "---\n",
        "***\n",
        "Save the notebook by clicking the pulldown `File` and selecting the appropriate method:\n",
        "- Save a copy in Google Drive (Guardar a Google Drive)\n",
        "- Save a Copy in Github (Guardar a Github)\n",
        "- Download (Descargar)\n",
        "***\n",
        "Guarde el cuaderno haciendo clic en el menú desplegable `Archivo` y seleccionando el método apropiado:\n",
        "- Guardar una copia en Drive\n",
        "- Guardar una copia en Github\n",
        "- Descargar\n",
        "***\n",
        "---\n"
      ],
      "metadata": {
        "id": "xs90FgVq3_CN"
      }
    },
    {
      "cell_type": "markdown",
      "source": [
        "# Guardar otros archivos (Saving Other Files)\n",
        "\n",
        "---\n",
        "***\n",
        "Save a file by clicking the appropritate method:\n",
        "- Mount the Google Drive and save file to it\n",
        "- Download the File to local computer\n",
        "***\n",
        "Guardar un archivo haciendo clic en el método apropiado:\n",
        "\n",
        "- Montar Google Drive y guardar el archivo en él\n",
        "- Descargar el archivo a la computadora local\n",
        "***\n",
        "---"
      ],
      "metadata": {
        "id": "QdBd04_xFlvC"
      }
    },
    {
      "cell_type": "markdown",
      "source": [
        "Crear un archivo (Create a file)"
      ],
      "metadata": {
        "id": "OuSBf3Zu-ecB"
      }
    },
    {
      "cell_type": "code",
      "source": [
        "! echo hola mis gatos > hola.txt"
      ],
      "metadata": {
        "id": "FG4UEAnnJsg4"
      },
      "execution_count": null,
      "outputs": []
    },
    {
      "cell_type": "markdown",
      "source": [
        "Mirar el contenido del archivo (Look at contents of file)"
      ],
      "metadata": {
        "id": "OhZXVeY1-jD1"
      }
    },
    {
      "cell_type": "code",
      "source": [
        "! cat hola.txt"
      ],
      "metadata": {
        "id": "It3w4fl5HtJW"
      },
      "execution_count": null,
      "outputs": []
    },
    {
      "cell_type": "markdown",
      "source": [
        "Obtener nombres de archivos en el directorio (Obtain file names in the directory)"
      ],
      "metadata": {
        "id": "MJQ3q7Pm-rWm"
      }
    },
    {
      "cell_type": "code",
      "source": [
        "!ls"
      ],
      "metadata": {
        "id": "RQ_6UotRJjr1"
      },
      "execution_count": null,
      "outputs": []
    },
    {
      "cell_type": "code",
      "source": [
        ""
      ],
      "metadata": {
        "id": "d5aPgej4-wB3"
      },
      "execution_count": null,
      "outputs": []
    },
    {
      "cell_type": "markdown",
      "source": [
        "## Método 1: Google Drive\n",
        "\n",
        "Montar su Google Drive \n",
        "\n",
        "---\n",
        "Mount your Google Drive"
      ],
      "metadata": {
        "id": "f23oLtMy-xo5"
      }
    },
    {
      "cell_type": "code",
      "source": [
        "#mounting Drive\n",
        "from google.colab import drive\n",
        "drive.mount('/content/drive')"
      ],
      "metadata": {
        "id": "1VKRetUHJNPk"
      },
      "execution_count": null,
      "outputs": []
    },
    {
      "cell_type": "code",
      "source": [
        "!ls"
      ],
      "metadata": {
        "id": "WMleMCxzJlg2"
      },
      "execution_count": null,
      "outputs": []
    },
    {
      "cell_type": "code",
      "source": [
        "! ls drive/MyDrive"
      ],
      "metadata": {
        "id": "lYff-DVGJRZX"
      },
      "execution_count": null,
      "outputs": []
    },
    {
      "cell_type": "markdown",
      "source": [
        "Crear directorio en Google Drive \n",
        "\n",
        "---\n",
        "Create directory on Google Drive"
      ],
      "metadata": {
        "id": "u7gMdFCG_LUF"
      }
    },
    {
      "cell_type": "code",
      "source": [
        "! mkdir drive/MyDrive/test"
      ],
      "metadata": {
        "id": "mDejWCYpKqKR"
      },
      "execution_count": null,
      "outputs": []
    },
    {
      "cell_type": "markdown",
      "source": [
        "copiar archivo del espacio de trabajo a Google Drive \n",
        "\n",
        "---\n",
        "Copy file from workspace to Google Drive"
      ],
      "metadata": {
        "id": "ba2Fk4uF_RED"
      }
    },
    {
      "cell_type": "code",
      "source": [
        "! cp hola.txt drive/MyDrive/test/hola.txt"
      ],
      "metadata": {
        "id": "MHx6bBQAJ6dA"
      },
      "execution_count": null,
      "outputs": []
    },
    {
      "cell_type": "markdown",
      "source": [
        "## Método 2: Local Drive\n",
        "\n",
        "\n",
        "\n",
        "Descargar archivos del espacio de trabajo a la unidad local \n",
        "\n",
        "---\n",
        "Download files from workspace to local drive)"
      ],
      "metadata": {
        "id": "1sCAxa7V_gfr"
      }
    },
    {
      "cell_type": "code",
      "source": [
        "# downloading files to local\n",
        "from google.colab import files\n",
        "f=files.download('hola.txt');"
      ],
      "metadata": {
        "id": "OSudXJA-HI2k"
      },
      "execution_count": null,
      "outputs": []
    },
    {
      "cell_type": "markdown",
      "source": [
        "# Carga de otros archivos (Uploading Other Files)\n",
        "\n",
        "---\n",
        "\n",
        "***\n",
        "Subimos archivos por:\n",
        "- copiar desde Google Drive después del montaje\n",
        "- cargar desde la computadora local\n",
        "- clonar un repositorio de github\n",
        "***\n",
        "We upload files by:\n",
        "- copy from the Google Drive after mounting\n",
        "- upload from local computer\n",
        "- clone a github repositiory\n",
        "***\n",
        "---\n",
        "\n",
        "\n"
      ],
      "metadata": {
        "id": "86wcp5E9FhEw"
      }
    },
    {
      "cell_type": "markdown",
      "source": [
        "## Método 1: Google Drive"
      ],
      "metadata": {
        "id": "EdBeaf73O5Vr"
      }
    },
    {
      "cell_type": "code",
      "source": [
        "! cp  drive/MyDrive/test/hola.txt hola2.txt"
      ],
      "metadata": {
        "id": "V71mLWwsOBLD"
      },
      "execution_count": null,
      "outputs": []
    },
    {
      "cell_type": "code",
      "source": [
        "! ls"
      ],
      "metadata": {
        "id": "mIBOjPQ2OI7q"
      },
      "execution_count": null,
      "outputs": []
    },
    {
      "cell_type": "markdown",
      "source": [
        "## Método 2: Local Drive"
      ],
      "metadata": {
        "id": "DaD6bFi3PBb5"
      }
    },
    {
      "cell_type": "code",
      "source": [
        "#upload\n",
        "from google.colab import files\n",
        "fu=files.upload();"
      ],
      "metadata": {
        "id": "DcS3SKmKOBaC"
      },
      "execution_count": null,
      "outputs": []
    },
    {
      "cell_type": "code",
      "source": [
        "! ls"
      ],
      "metadata": {
        "id": "R62ErDi9OdkS"
      },
      "execution_count": null,
      "outputs": []
    },
    {
      "cell_type": "markdown",
      "source": [
        "## Método 3: Github Clone"
      ],
      "metadata": {
        "id": "UNaEJ0YQPIIS"
      }
    },
    {
      "cell_type": "code",
      "source": [
        "! git clone https://github.com/ProfDoeg/Colegio_Invisible.git"
      ],
      "metadata": {
        "id": "C4XScNdJOBlK"
      },
      "execution_count": null,
      "outputs": []
    },
    {
      "cell_type": "code",
      "source": [
        "! ls "
      ],
      "metadata": {
        "id": "YvUDG7F-OtXI"
      },
      "execution_count": null,
      "outputs": []
    },
    {
      "cell_type": "code",
      "source": [
        "! ls Colegio_Invisible"
      ],
      "metadata": {
        "id": "PE7uwr-HPRrP"
      },
      "execution_count": null,
      "outputs": []
    },
    {
      "cell_type": "code",
      "source": [
        "! rm -r Colegio_Invisible"
      ],
      "metadata": {
        "id": "11VSkbv7QTp6"
      },
      "execution_count": null,
      "outputs": []
    },
    {
      "cell_type": "code",
      "source": [
        "! ls"
      ],
      "metadata": {
        "id": "s2_av5t5QXy8"
      },
      "execution_count": null,
      "outputs": []
    },
    {
      "cell_type": "markdown",
      "source": [
        "# Crear y Leer archivos en Python (Create and Read Files in Python)\n",
        "\n",
        "---\n",
        "***\n",
        "To interact with files we use the `open()` function\n",
        "***\n",
        "Para interactuar con archivos usamos la función `open ()`\n",
        "***\n",
        "---"
      ],
      "metadata": {
        "id": "-Ollc4IWyD_I"
      }
    },
    {
      "cell_type": "code",
      "source": [
        "! echo palabras en el archivo > palabras.txt"
      ],
      "metadata": {
        "id": "IRF5BRn74Pk4"
      },
      "execution_count": null,
      "outputs": []
    },
    {
      "cell_type": "code",
      "source": [
        "arc_obj=open('palabras.txt','rt')\n",
        "arc_obj"
      ],
      "metadata": {
        "id": "SdFtrNtK33WU"
      },
      "execution_count": null,
      "outputs": []
    },
    {
      "cell_type": "code",
      "source": [
        "arc_obj.read()"
      ],
      "metadata": {
        "id": "5rPHJuJ_5DE4"
      },
      "execution_count": null,
      "outputs": []
    },
    {
      "cell_type": "code",
      "source": [
        "arc_obj.read()"
      ],
      "metadata": {
        "id": "a9qOslZN5GM6"
      },
      "execution_count": null,
      "outputs": []
    },
    {
      "cell_type": "code",
      "source": [
        "arc_obj.close()"
      ],
      "metadata": {
        "id": "m3Te0Ird5H0-"
      },
      "execution_count": null,
      "outputs": []
    },
    {
      "cell_type": "code",
      "source": [
        "arc_obj_bytes=open(f'img/{imgs[3]}','rb')\n",
        "arc_obj_bytes"
      ],
      "metadata": {
        "id": "VAhrDVQS5Po5"
      },
      "execution_count": null,
      "outputs": []
    },
    {
      "cell_type": "code",
      "source": [
        "arc_obj_bytes.read(4).hex()"
      ],
      "metadata": {
        "id": "wi3tLxeGFOEi"
      },
      "execution_count": null,
      "outputs": []
    },
    {
      "cell_type": "code",
      "source": [
        "arc_obj_bytes.close()"
      ],
      "metadata": {
        "id": "2qXo4JCjpP4H"
      },
      "execution_count": null,
      "outputs": []
    },
    {
      "cell_type": "markdown",
      "source": [
        "# Ingrese datos en Python por teclado (Input data into Python by keyboard)\n",
        "\n",
        "---\n",
        "***\n",
        "- Utilicer la función `input` para ingresar datos \n",
        "- Utilicer el módulo y la función `getpass` para introducir datos de forma segura\n",
        "***\n",
        "- Use the `input` function to input data)\n",
        "- Use the `getpass` module and function to securely input data)\n",
        "***\n",
        "---\n",
        "\n",
        "\n",
        "\n"
      ],
      "metadata": {
        "id": "2OEwRJ5RBPeY"
      }
    },
    {
      "cell_type": "markdown",
      "source": [
        "## Método 1: `input`\n",
        "\n",
        "The `input()` function allows us to input data into a program through a dialog bow while some code is running.\n",
        "***\n",
        "La función `input ()` nos permite ingresar datos en un programa a través de un arco de diálogo mientras se ejecuta algún código.\n"
      ],
      "metadata": {
        "id": "6beiVr4txSNX"
      }
    },
    {
      "cell_type": "code",
      "source": [
        "x=input('input a number')"
      ],
      "metadata": {
        "id": "O3a7OA4MB0Kq"
      },
      "execution_count": null,
      "outputs": []
    },
    {
      "cell_type": "code",
      "source": [
        "#note the type of the input value\n",
        "print(x,type(x))"
      ],
      "metadata": {
        "id": "JtdfjUMqFeAT"
      },
      "execution_count": null,
      "outputs": []
    },
    {
      "cell_type": "markdown",
      "source": [
        "## Método 2: `getpass`\n",
        "\n",
        "Sometimes we want a dialog box that does not reveal what we are typing into it for security puposes. The `getpass` module and function allows this.\n",
        "***\n",
        "A veces queremos un cuadro de diálogo que no revele lo que estamos escribiendo en él por motivos de seguridad. El módulo y la función `getpass` lo permiten."
      ],
      "metadata": {
        "id": "PTJ97hCoFjbl"
      }
    },
    {
      "cell_type": "code",
      "source": [
        "import getpass\n",
        "secret=getpass.getpass('Input a secret')"
      ],
      "metadata": {
        "id": "Acnj8dxfGvM2"
      },
      "execution_count": null,
      "outputs": []
    },
    {
      "cell_type": "code",
      "source": [
        "type(secret)"
      ],
      "metadata": {
        "id": "wWXb1_MCHAU3"
      },
      "execution_count": null,
      "outputs": []
    },
    {
      "cell_type": "markdown",
      "source": [
        "\n",
        "# Obtener datos la web con Python `requests` (Get web data with Python `requests`)\n",
        "\n",
        "---\n",
        "***\n",
        "The `requests` module allows interacting with the internet. The `get` function allows us to send GET requests in order to access website contents. \n",
        "***\n",
        "El módulo de `requests` permite interactuar con Internet. La función `get` nos permite enviar solicitudes GET para acceder a los contenidos del sitio web.\n",
        "***\n",
        "---\n",
        "\n"
      ],
      "metadata": {
        "id": "-XcZygtYB0up"
      }
    },
    {
      "cell_type": "code",
      "source": [
        "import requests\n",
        "moby=requests.get('https://www.gutenberg.org/files/2701/2701-0.txt')\n",
        "\n",
        "moby"
      ],
      "metadata": {
        "id": "mDnYr33-EMJ0"
      },
      "execution_count": null,
      "outputs": []
    },
    {
      "cell_type": "code",
      "source": [
        "moby.encoding\n"
      ],
      "metadata": {
        "id": "23tn4z3rHlBo"
      },
      "execution_count": null,
      "outputs": []
    },
    {
      "cell_type": "code",
      "source": [
        "moby.content[:1100]"
      ],
      "metadata": {
        "id": "8o4qRpDVHqi6"
      },
      "execution_count": null,
      "outputs": []
    },
    {
      "cell_type": "code",
      "source": [
        "moby.text[:1000]"
      ],
      "metadata": {
        "id": "eAqmInG5H1rv"
      },
      "execution_count": null,
      "outputs": []
    },
    {
      "cell_type": "markdown",
      "source": [
        "# Ver Directorios con Python `os` (View Directories with Python `os`)\n",
        "\n",
        "---\n",
        "***\n",
        "The `os` module is a usefule tool for file management\n",
        "- `listdir` reports all the files and folder in the current directory) \n",
        "- `walk` recursively crawls all files in each folder \n",
        "***\n",
        "El módulo `os` es una herramienta útil para la gestión de archivos\n",
        "- `listdir` informa todos los archivos y carpetas en el directorio actual \n",
        "- `walk` rastrea recursivamente todos los archivos en cada carpeta \n",
        "***\n",
        "---\n"
      ],
      "metadata": {
        "id": "E-4h48ZtEM14"
      }
    },
    {
      "cell_type": "code",
      "source": [
        "import os\n",
        "\n",
        "os.listdir()"
      ],
      "metadata": {
        "id": "3Elte4kdHpwW"
      },
      "execution_count": null,
      "outputs": []
    },
    {
      "cell_type": "code",
      "source": [
        "list(os.walk(os.curdir))"
      ],
      "metadata": {
        "id": "NL9m5eolIgXH"
      },
      "execution_count": null,
      "outputs": []
    },
    {
      "cell_type": "code",
      "source": [
        "def get_all_file_paths(dir_path): \n",
        "    file_paths = [] \n",
        "    for root, directories, files in os.walk(dir_path): \n",
        "        for filename in files: \n",
        "            filepath = os.path.join(root, filename) \n",
        "            file_paths.append(filepath) \n",
        "    return file_paths\n",
        "\n",
        "get_all_file_paths(os.curdir)"
      ],
      "metadata": {
        "id": "Gt1vakFAIgko"
      },
      "execution_count": null,
      "outputs": []
    },
    {
      "cell_type": "code",
      "source": [
        "! cat ./sample_data/anscombe.json\n"
      ],
      "metadata": {
        "id": "dNmKf9kfKGxD"
      },
      "execution_count": null,
      "outputs": []
    },
    {
      "cell_type": "markdown",
      "source": [
        "# Ejecutar Comandos de Terminal en Python (Execute Terminal Commands in Python )\n",
        "\n",
        "---\n",
        "***\n",
        "In a typical Python environment access to the Terminal is mediated through `os` and `subprocess`\n",
        "***\n",
        "En un entorno típico de Python, el acceso a la Terminal se realiza a través de `os` y `subprocess`\n",
        "***\n",
        "---\n",
        "\n",
        "\n",
        "- `os.system ()` \n",
        "  - envíar comandos a la Terminal (send commands to the Terminal)\n",
        "  - la **respuesta** del terminal **no** está **disponible** (the terminal response is unavailable)\n",
        "- `subprocess.run()` \n",
        "  - envíar comandos a la Terminal (send commands to the Terminal)\n",
        "  - la **respuesta** del terminal está **disponible** (the terminal response is available)\n",
        "\n",
        "\n",
        "\n"
      ],
      "metadata": {
        "id": "ivk0OqEoOSoA"
      }
    },
    {
      "cell_type": "code",
      "source": [
        "os.system('ls')"
      ],
      "metadata": {
        "id": "u_C9kakDQdKK"
      },
      "execution_count": null,
      "outputs": []
    },
    {
      "cell_type": "code",
      "source": [
        "import subprocess\n",
        "subprocess.run(['ls'])"
      ],
      "metadata": {
        "id": "HQ73TMWMQdg8"
      },
      "execution_count": null,
      "outputs": []
    },
    {
      "cell_type": "markdown",
      "source": [
        "## Funcion Alternativo `!{}` en CoLab (Alternative Function `!{}` in CoLab)\n",
        "\n",
        "`os.system()` y `subprocess.run()` no funciona en CoLab\n",
        "\n",
        "**Solución:** `!{}`\n",
        "\n",
        "---\n",
        "***\n",
        "CoLab Python has an added utility. The `!{}` is a kind of added Python function that allows easy two-way communication with the Terminal.\n",
        "***\n",
        "CoLab Python tiene una utilidad adicional. `!{}` es un tipo de función Python agregada que permite una fácil comunicación bidireccional con la Terminal.\n",
        "***\n",
        "---"
      ],
      "metadata": {
        "id": "sMVq1NVnQxfY"
      }
    },
    {
      "cell_type": "code",
      "source": [
        "x=!{'ls'}\n",
        "x"
      ],
      "metadata": {
        "id": "DjJBJhOnMiBt"
      },
      "execution_count": null,
      "outputs": []
    },
    {
      "cell_type": "code",
      "source": [
        "x=!{'echo print\\(1\\) > prog.py'}\n",
        "x"
      ],
      "metadata": {
        "id": "-t4AP0hRNPRP"
      },
      "execution_count": null,
      "outputs": []
    },
    {
      "cell_type": "code",
      "source": [
        "x=!{'cat prog.py'}\n",
        "x"
      ],
      "metadata": {
        "id": "_hHUWH6dN6zS"
      },
      "execution_count": null,
      "outputs": []
    },
    {
      "cell_type": "code",
      "source": [
        "x=!{'python prog.py'}\n",
        "x"
      ],
      "metadata": {
        "id": "zh_EUCMqOFbG"
      },
      "execution_count": null,
      "outputs": []
    },
    {
      "cell_type": "code",
      "source": [
        "x=!{'git clone https://github.com/ProfDoeg/Colegio_Invisible.git'}"
      ],
      "metadata": {
        "id": "PfzYNQkIOpO9"
      },
      "execution_count": null,
      "outputs": []
    },
    {
      "cell_type": "code",
      "source": [
        "x=!{'ls Colegio_Invisible\\nls Colegio_Invisible/img'}\n",
        "x"
      ],
      "metadata": {
        "id": "8YmggHEhPA9I"
      },
      "execution_count": null,
      "outputs": []
    },
    {
      "cell_type": "code",
      "source": [
        "x=!{'ls -R Colegio_Invisible'}\n",
        "x"
      ],
      "metadata": {
        "id": "0ocK5cY6Sipr"
      },
      "execution_count": null,
      "outputs": []
    },
    {
      "cell_type": "markdown",
      "source": [
        "# Instalación e importación de bibliotecas (Installing and Importing Libraries)\n",
        "\n",
        "---\n",
        "***\n",
        "To use special libraries:\n",
        "- install using `pip` at *Terminal*\n",
        "- import using `import`\n",
        "***\n",
        "Usar bibliotecas especial:\n",
        "- instalar usando `pip` en * Terminal *\n",
        "- importar usando `importar`\n",
        "***\n",
        "---\n",
        "\n"
      ],
      "metadata": {
        "id": "gL7PM1bDYljm"
      }
    },
    {
      "cell_type": "code",
      "source": [
        ""
      ],
      "metadata": {
        "id": "M68Vuyu4OQy-"
      },
      "execution_count": null,
      "outputs": []
    },
    {
      "cell_type": "markdown",
      "source": [
        "# Tener curiosidad por las cripto (Getting Curious About Crypto)\n",
        "\n",
        "`cryptos` es una pequeña biblioteca dulce que es una bifurcación de` pybitcointools` de Vitalik Buterin. Tiene capacidad para interactuar con varias cadenas de bloques o ***blockchains*** , incluidas **Bitcoin** y **Dogecoin**. Además, esta biblioteca se puede utilizar para crear, firmar y difundir una variedad de transacciones.\n",
        "\n",
        "---\n",
        "\n",
        "`cryptos` is a sweet little library that is a fork of Vitalik Buterin's `pybitcointools`. It has capacity to interact with various blockchains, including **Bitcoin** and **Dogecoin**. In addition this library can be used to author, sign and broadcast a variety of transactions. \n"
      ],
      "metadata": {
        "id": "xCjVPbVL1dnZ"
      }
    },
    {
      "cell_type": "markdown",
      "source": [
        "First we install the `cryptos` library\n",
        "\n",
        "---\n",
        "\n",
        "Primero instalamos la biblioteca `cryptos`"
      ],
      "metadata": {
        "id": "B5liIMwaEZp6"
      }
    },
    {
      "cell_type": "code",
      "execution_count": null,
      "metadata": {
        "id": "QcKDQ9zTcLL_"
      },
      "outputs": [],
      "source": [
        "! pip install cryptos"
      ]
    },
    {
      "cell_type": "markdown",
      "source": [
        "Next we import the `cryptos` library and the `datetime` function from the `datetime` library. Also make objects to interact with the Dogecoin and BTC blockchains.\n",
        "\n",
        "---\n",
        "\n",
        "A continuación, importamos la biblioteca `cryptos` y la función` datetime` de la biblioteca `datetime`. También crea objetos para interactuar con las cadenas de bloques Dogecoin y BTC."
      ],
      "metadata": {
        "id": "Y4nfJKx6E-86"
      }
    },
    {
      "cell_type": "code",
      "execution_count": null,
      "metadata": {
        "id": "M6ibRITfcLMA"
      },
      "outputs": [],
      "source": [
        "import cryptos\n",
        "from datetime import datetime, timedelta\n",
        "\n",
        "dog = cryptos.Doge()\n",
        "btc = cryptos.Bitcoin()"
      ]
    },
    {
      "cell_type": "code",
      "source": [
        "#dog.__dir__()"
      ],
      "metadata": {
        "id": "ATnY8aUVf7oJ"
      },
      "execution_count": null,
      "outputs": []
    },
    {
      "cell_type": "code",
      "source": [
        "#dog.__dict__"
      ],
      "metadata": {
        "id": "akgHVsEGjqYk"
      },
      "execution_count": null,
      "outputs": []
    },
    {
      "cell_type": "code",
      "source": [
        "#btc.__dict__"
      ],
      "metadata": {
        "id": "ayAq4D4Gjwd_"
      },
      "execution_count": null,
      "outputs": []
    },
    {
      "cell_type": "markdown",
      "source": [
        "Get data for genesis, block number 0, on Dogecoin blockchain\n",
        "\n",
        "---\n",
        "\n",
        "Obtenga datos para génesis, bloque número 0, en la cadena de bloques Dogecoin"
      ],
      "metadata": {
        "id": "0O-kxxn2GDHf"
      }
    },
    {
      "cell_type": "code",
      "source": [
        "dog_blk_0=dog.block_info(0)\n",
        "dog_blk_0"
      ],
      "metadata": {
        "id": "6iv_rkReglWj"
      },
      "execution_count": null,
      "outputs": []
    },
    {
      "cell_type": "code",
      "source": [
        "#AÑOS DE DOGECOIN\n",
        "(datetime.now()-datetime.utcfromtimestamp(dog_blk_0['timestamp'])).days/365.24"
      ],
      "metadata": {
        "id": "myrNh9NfnzNZ"
      },
      "execution_count": null,
      "outputs": []
    },
    {
      "cell_type": "markdown",
      "source": [
        "Write a function for printing the UTC timestamp as a date and time\n",
        "\n",
        "---\n",
        "\n",
        "Escribir una función para imprimir la marca de tiempo UTC como fecha y hora"
      ],
      "metadata": {
        "id": "k6Ib8VQvGmX4"
      }
    },
    {
      "cell_type": "code",
      "source": [
        "print_unixtime= lambda x : print(datetime.utcfromtimestamp(x).strftime('%Y-%m-%d %H:%M:%S'))\n",
        "\n",
        "print_unixtime(dog_blk_0['timestamp'])"
      ],
      "metadata": {
        "id": "uPqeTZ7YALJL"
      },
      "execution_count": null,
      "outputs": []
    },
    {
      "cell_type": "markdown",
      "source": [
        "Get data for genesis, block number 0, on Bitcoin blockchain.\n",
        "\n",
        "---\n",
        "\n",
        "Obtenga datos para génesis, bloque número 0, en la cadena de bloques de Bitcoin."
      ],
      "metadata": {
        "id": "afp6MHcQI_zJ"
      }
    },
    {
      "cell_type": "code",
      "source": [
        "btc_blk_0=btc.block_info(0)\n",
        "btc_blk_0"
      ],
      "metadata": {
        "id": "yGGbUkxy6jyC"
      },
      "execution_count": null,
      "outputs": []
    },
    {
      "cell_type": "code",
      "source": [
        "print_unixtime(btc_blk_0['timestamp'])"
      ],
      "metadata": {
        "id": "Ga8wqIhYAsnd"
      },
      "execution_count": null,
      "outputs": []
    },
    {
      "cell_type": "code",
      "source": [
        "#AÑOS DE BITCOIN\n",
        "(datetime.now()-datetime.utcfromtimestamp(btc_blk_0['timestamp'])).days/365.24"
      ],
      "metadata": {
        "id": "2YtrWcXCnc4m"
      },
      "execution_count": null,
      "outputs": []
    },
    {
      "cell_type": "markdown",
      "source": [
        "We can see the transaction fields for both genesis blocks only had the \"coinbase\" transaction. This is the transaction that mints new coins as the block reward. Here we use a while loop to see the first transactions between two participants on the network.\n",
        "\n",
        "---\n",
        "\n",
        "Podemos ver que los campos de transacción para ambos bloques de génesis solo tenían la transacción de \"coinbase\". Esta es la transacción que acuña nuevas monedas como recompensa en bloque. Aquí usamos un ciclo while para ver las primeras transacciones entre dos participantes en la red."
      ],
      "metadata": {
        "id": "Dl40xbtvJFjv"
      }
    },
    {
      "cell_type": "code",
      "source": [
        "i=0\n",
        "while True:\n",
        "  D1=dog.block_info(i)\n",
        "  if len(D1['tx_hashes'])!=1:\n",
        "    break\n",
        "  i=i+1\n",
        "D1,i"
      ],
      "metadata": {
        "id": "FEQHGW5DgQrl"
      },
      "execution_count": null,
      "outputs": []
    },
    {
      "cell_type": "code",
      "source": [
        "print_unixtime(dog_blk_0['timestamp'])\n",
        "print_unixtime(D1['timestamp'])"
      ],
      "metadata": {
        "id": "_4OSjSoOBUSE"
      },
      "execution_count": null,
      "outputs": []
    },
    {
      "cell_type": "code",
      "source": [
        "# HORAS A PRIMER TRANSACTION\n",
        "(D1['timestamp']-dog_blk_0['timestamp'])/3600"
      ],
      "metadata": {
        "id": "4fTaKSBpBmHJ"
      },
      "execution_count": null,
      "outputs": []
    },
    {
      "cell_type": "code",
      "source": [
        "# MINUTOS PER BLOCK\n",
        "(D1['timestamp']-dog_blk_0['timestamp'])/i/60"
      ],
      "metadata": {
        "id": "1EG-IK_1DbYk"
      },
      "execution_count": null,
      "outputs": []
    },
    {
      "cell_type": "code",
      "source": [
        "j=0\n",
        "while True:\n",
        "  B1=btc.block_info(j)\n",
        "  if len(B1['tx_hashes'])!=1:\n",
        "    break\n",
        "  j=j+1\n",
        "B1,j"
      ],
      "metadata": {
        "id": "ajLQj9syhuBT"
      },
      "execution_count": null,
      "outputs": []
    },
    {
      "cell_type": "code",
      "source": [
        "print_unixtime(btc_blk_0['timestamp'])\n",
        "print_unixtime(B1['timestamp'])"
      ],
      "metadata": {
        "id": "0-0gLjPuBPIs"
      },
      "execution_count": null,
      "outputs": []
    },
    {
      "cell_type": "code",
      "source": [
        "# DIAS A PRIMER TRANSACTION\n",
        "(B1['timestamp']-btc_blk_0['timestamp'])/3600/24"
      ],
      "metadata": {
        "id": "QI-_QXF2CvBY"
      },
      "execution_count": null,
      "outputs": []
    },
    {
      "cell_type": "code",
      "source": [
        "#MINUTOS PER BLOCK\n",
        "(B1['timestamp']-btc_blk_0['timestamp'])/j/60"
      ],
      "metadata": {
        "id": "AorV2CMkC3kh"
      },
      "execution_count": null,
      "outputs": []
    }
  ],
  "metadata": {
    "kernelspec": {
      "display_name": "Python 3",
      "language": "python",
      "name": "python3"
    },
    "language_info": {
      "codemirror_mode": {
        "name": "ipython",
        "version": 3
      },
      "file_extension": ".py",
      "mimetype": "text/x-python",
      "name": "python",
      "nbconvert_exporter": "python",
      "pygments_lexer": "ipython3",
      "version": "3.7.6"
    },
    "colab": {
      "name": "01_cuaderno.ipynb",
      "provenance": []
    }
  },
  "nbformat": 4,
  "nbformat_minor": 0
}