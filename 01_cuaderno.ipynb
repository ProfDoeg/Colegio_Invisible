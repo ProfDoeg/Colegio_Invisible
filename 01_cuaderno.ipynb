{
  "cells": [
    {
      "cell_type": "markdown",
      "metadata": {
        "id": "OVQ274cGcLL6"
      },
      "source": [
        "<a href=\"https://colab.research.google.com/github/ProfDoeg/Colegio_Invisible/blob/master/01_cuaderno.ipynb\" target=\"_parent\"><img src=\"https://colab.research.google.com/assets/colab-badge.svg\" alt=\"Open In Colab\"/></a>"
      ]
    },
    {
      "cell_type": "code",
      "execution_count": 3,
      "metadata": {
        "id": "-U-OK9g6cLL9",
        "outputId": "73791654-163b-487e-c12b-882872002ed2",
        "colab": {
          "base_uri": "https://localhost:8080/",
          "height": 17
        }
      },
      "outputs": [
        {
          "output_type": "display_data",
          "data": {
            "text/html": [
              "<style>.container { width:95% !important; }</style>"
            ],
            "text/plain": [
              "<IPython.core.display.HTML object>"
            ]
          },
          "metadata": {}
        }
      ],
      "source": [
        "from IPython.core.display import display, HTML\n",
        "display(HTML(\"<style>.container { width:95% !important; }</style>\"))"
      ]
    },
    {
      "cell_type": "markdown",
      "source": [
        "# Colegio Invisible\n",
        "<center>\n",
        "<div>\n",
        "<img src=\"https://github.com/ProfDoeg/Colegio_Invisible/raw/main/img/colegio_invisible.jpeg\" width=\"250\"/>\n",
        "</div>\n",
        "</center>\n",
        "\n",
        "\n",
        "---\n",
        "***\n",
        "The Invisible College was a small community of interacting Enlightenment scholars who often met face-to-face, exchanged ideas and encouraged each other. One group that has been described as a precursor group to the Royal Society of London. The concept of \"invisible college\" is mentioned in German Rosicrucian pamphlets in the early 17th century.\n",
        "***\n",
        "El Colegio Invisible era una pequeña comunidad de eruditos de la Ilustración que interactuaban y que a menudo se encontraban cara a cara, intercambiaban ideas y se animaban mutuamente. Un grupo que ha sido descrito como un grupo precursor de la Royal Society of London. El concepto de \"universidad invisible\" se menciona en los folletos rosacruces alemanes a principios del siglo XVII.\n",
        "***\n",
        "---\n",
        "\n"
      ],
      "metadata": {
        "id": "ZQsYYWNKOfN9"
      }
    },
    {
      "cell_type": "markdown",
      "metadata": {
        "id": "UJ-SuSwAcLL_"
      },
      "source": [
        "# Preparando El Espacio\n",
        "\n",
        "\n",
        "---\n",
        "***\n",
        "Because we are working in the Google Cloud there are none of the files available from the original Github repository. In order to access those files we will clone the git repository into the cloud, access the files we need, and delete the repository.\n",
        "***\n",
        "Debido a que estamos trabajando en Google Cloud, no hay ninguno de los archivos disponibles en el repositorio original de Github. Para acceder a esos archivos, clonaremos el repositorio de git en la nube, accederemos a los archivos que necesitamos y eliminaremos el repositorio.\n",
        "***\n",
        "---"
      ]
    },
    {
      "cell_type": "code",
      "source": [
        "! ls"
      ],
      "metadata": {
        "id": "sR-j7TQ1gI1R"
      },
      "execution_count": null,
      "outputs": []
    },
    {
      "cell_type": "code",
      "source": [
        "!ls\n",
        "! git clone https://github.com/ProfDoeg/Colegio_Invisible.git\n",
        "! unzip Colegio_Invisible/img.zip\n",
        "! rm -r Colegio_Invisible\n",
        "!ls"
      ],
      "metadata": {
        "id": "b_N9KjbrCjNg"
      },
      "execution_count": null,
      "outputs": []
    },
    {
      "cell_type": "code",
      "source": [
        "! ls img"
      ],
      "metadata": {
        "id": "2tT6yG4rXXW3"
      },
      "execution_count": null,
      "outputs": []
    },
    {
      "cell_type": "markdown",
      "source": [
        "# Mirando el Espacio\n",
        "\n",
        "---\n",
        "***\n",
        "Now that we have local files we can access them from Python as follows:\n",
        "***\n",
        "Ahora que tenemos archivos locales, podemos acceder a ellos desde Python de la siguiente manera:\n",
        "***\n",
        "---"
      ],
      "metadata": {
        "id": "Nwn0hCzMYab6"
      }
    },
    {
      "cell_type": "code",
      "source": [
        "from PIL import Image\n",
        "import time\n",
        "imgs = [('xmas','jpeg',20), \n",
        "        ('cry','jpeg',15),('rough','png',10),\n",
        "        ('drop','jpeg',15), ('house','jpeg',15), ('hide','jpeg',15) ]"
      ],
      "metadata": {
        "id": "ljmBJmIk0oDv"
      },
      "execution_count": null,
      "outputs": []
    },
    {
      "cell_type": "code",
      "source": [
        "from IPython.display import Image \n",
        "\n",
        "for name,ext,dt in imgs:\n",
        "    path = f'img/hg_{name}.{ext}'\n",
        "    show=Image(path)\n",
        "    display(show)\n",
        "    time.sleep(dt//5)"
      ],
      "metadata": {
        "id": "O53Qx6pV0ko9"
      },
      "execution_count": null,
      "outputs": []
    },
    {
      "cell_type": "markdown",
      "source": [
        "# Goals\n",
        "\n",
        "---\n",
        "***\n",
        "By the end of this Introduction to Python you should understand:\n",
        "***\n",
        "Al final de esta Introducción a Python, debería comprender:\n",
        "***\n",
        "---\n",
        "- Lanzamiento de un cuaderno CoLab desde Github (Launching a CoLab Notebook from Github)\n",
        "- Saving the Notebook to your Google Drive\n",
        "- Saving Other Files to Google Drive\n",
        "- Basic Terminal Commands\n",
        "- Installing and Importing Libraries"
      ],
      "metadata": {
        "id": "Ia8Tq2vsDi9y"
      }
    },
    {
      "cell_type": "code",
      "execution_count": null,
      "metadata": {
        "id": "QcKDQ9zTcLL_"
      },
      "outputs": [],
      "source": [
        "! pip install cryptos"
      ]
    },
    {
      "cell_type": "code",
      "execution_count": 73,
      "metadata": {
        "id": "M6ibRITfcLMA"
      },
      "outputs": [],
      "source": [
        "import cryptos\n",
        "dog = cryptos.Doge()\n",
        "btc = cryptos.Bitcoin()"
      ]
    },
    {
      "cell_type": "code",
      "source": [
        "#dog.__dir__()"
      ],
      "metadata": {
        "id": "ATnY8aUVf7oJ"
      },
      "execution_count": null,
      "outputs": []
    },
    {
      "cell_type": "code",
      "source": [
        "#dog.__dict__"
      ],
      "metadata": {
        "id": "akgHVsEGjqYk"
      },
      "execution_count": null,
      "outputs": []
    },
    {
      "cell_type": "code",
      "source": [
        "#btc.__dict__"
      ],
      "metadata": {
        "id": "ayAq4D4Gjwd_"
      },
      "execution_count": null,
      "outputs": []
    },
    {
      "cell_type": "code",
      "source": [
        "dog.block_info(0)"
      ],
      "metadata": {
        "id": "6iv_rkReglWj"
      },
      "execution_count": null,
      "outputs": []
    },
    {
      "cell_type": "code",
      "source": [
        "i=0\n",
        "while True:\n",
        "  D1=dog.block_info(i)\n",
        "  if len(D1['tx_hashes'])!=1:\n",
        "    break\n",
        "  i=i+1\n",
        "D1,i"
      ],
      "metadata": {
        "id": "FEQHGW5DgQrl"
      },
      "execution_count": null,
      "outputs": []
    },
    {
      "cell_type": "code",
      "source": [
        "j=0\n",
        "while True:\n",
        "  B1=btc.block_info(j)\n",
        "  if len(B1['tx_hashes'])!=1:\n",
        "    break\n",
        "  j=j+1\n",
        "B1,j"
      ],
      "metadata": {
        "id": "ajLQj9syhuBT"
      },
      "execution_count": null,
      "outputs": []
    },
    {
      "cell_type": "code",
      "source": [
        "\n"
      ],
      "metadata": {
        "id": "hBcpUFnfx8Hh"
      },
      "execution_count": null,
      "outputs": []
    },
    {
      "cell_type": "code",
      "source": [
        ""
      ],
      "metadata": {
        "id": "kY3p6-kNzeen"
      },
      "execution_count": null,
      "outputs": []
    }
  ],
  "metadata": {
    "kernelspec": {
      "display_name": "Python 3",
      "language": "python",
      "name": "python3"
    },
    "language_info": {
      "codemirror_mode": {
        "name": "ipython",
        "version": 3
      },
      "file_extension": ".py",
      "mimetype": "text/x-python",
      "name": "python",
      "nbconvert_exporter": "python",
      "pygments_lexer": "ipython3",
      "version": "3.7.6"
    },
    "colab": {
      "name": "01_cuaderno.ipynb",
      "provenance": []
    }
  },
  "nbformat": 4,
  "nbformat_minor": 0
}