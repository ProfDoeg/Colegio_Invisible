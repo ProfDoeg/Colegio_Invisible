{
  "cells": [
    {
      "cell_type": "markdown",
      "metadata": {
        "id": "OVQ274cGcLL6"
      },
      "source": [
        "<a href=\"https://colab.research.google.com/github/ProfDoeg/Colegio_Invisible/blob/master/01_cuaderno.ipynb\" target=\"_parent\"><img src=\"https://colab.research.google.com/assets/colab-badge.svg\" alt=\"Open In Colab\"/></a>"
      ]
    },
    {
      "cell_type": "code",
      "execution_count": null,
      "metadata": {
        "id": "-U-OK9g6cLL9"
      },
      "outputs": [],
      "source": [
        "from IPython.core.display import display, HTML\n",
        "display(HTML(\"<style>.container { width:95% !important; }</style>\"))"
      ]
    },
    {
      "cell_type": "markdown",
      "source": [
        "# Colegio Invisible\n",
        "<center>\n",
        "<div>\n",
        "<img src=\"https://github.com/ProfDoeg/Colegio_Invisible/raw/main/img/colegio_invisible.jpeg\" width=\"250\"/>\n",
        "</div>\n",
        "</center>\n",
        "\n",
        "\n",
        "---\n",
        "***\n",
        "The Invisible College was a small community of interacting Enlightenment scholars who often met face-to-face, exchanged ideas and encouraged each other. One group that has been described as a precursor group to the Royal Society of London. The concept of \"invisible college\" is mentioned in German Rosicrucian pamphlets in the early 17th century.\n",
        "***\n",
        "El Colegio Invisible era una pequeña comunidad de eruditos de la Ilustración que interactuaban y que a menudo se encontraban cara a cara, intercambiaban ideas y se animaban mutuamente. Un grupo que ha sido descrito como un grupo precursor de la Royal Society of London. El concepto de \"universidad invisible\" se menciona en los folletos rosacruces alemanes a principios del siglo XVII.\n",
        "***\n",
        "---\n",
        "\n"
      ],
      "metadata": {
        "id": "ZQsYYWNKOfN9"
      }
    },
    {
      "cell_type": "markdown",
      "metadata": {
        "id": "UJ-SuSwAcLL_"
      },
      "source": [
        "# Preparando El Espacio\n",
        "\n",
        "\n",
        "---\n",
        "***\n",
        "Because we are working in the Google Cloud there are none of the files available from the original Github repository. In order to access those files we will clone the git repository into the cloud, access the files we need, and delete the repository.\n",
        "***\n",
        "Debido a que estamos trabajando en Google Cloud, no hay ninguno de los archivos disponibles en el repositorio original de Github. Para acceder a esos archivos, clonaremos el repositorio de git en la nube, accederemos a los archivos que necesitamos y eliminaremos el repositorio.\n",
        "***\n",
        "---"
      ]
    },
    {
      "cell_type": "markdown",
      "source": [
        "- Mirar los archivos (Look at the files)\n",
        "\n",
        "\n",
        "\n"
      ],
      "metadata": {
        "id": "Ex3yIUdrk8AS"
      }
    },
    {
      "cell_type": "code",
      "source": [
        "! ls"
      ],
      "metadata": {
        "id": "sR-j7TQ1gI1R"
      },
      "execution_count": null,
      "outputs": []
    },
    {
      "cell_type": "markdown",
      "source": [
        "- Clonar el repositorio de github `Colegio_Invisible` (Clone the `Colegio_Invisible` github repository)\n",
        "- Descomprimer `unzip` el archivo `img.zip` (Unzip the `img.zip` )\n",
        "- Eliminar el repositorio `Colegio_Invisible` (Remove the `Colegio_Invisible` repository) \n",
        "- Mirar los archivos (Look at the files)\n",
        "\n"
      ],
      "metadata": {
        "id": "FyBvvWPilCdI"
      }
    },
    {
      "cell_type": "code",
      "source": [
        "! git clone https://github.com/ProfDoeg/Colegio_Invisible.git\n",
        "! unzip Colegio_Invisible/img.zip\n",
        "! rm -r Colegio_Invisible\n",
        "!ls"
      ],
      "metadata": {
        "id": "b_N9KjbrCjNg"
      },
      "execution_count": null,
      "outputs": []
    },
    {
      "cell_type": "code",
      "source": [
        "! ls img"
      ],
      "metadata": {
        "id": "2tT6yG4rXXW3"
      },
      "execution_count": null,
      "outputs": []
    },
    {
      "cell_type": "markdown",
      "source": [
        "# Mirando el Espacio\n",
        "\n",
        "---\n",
        "***\n",
        "Now that we have local files we can access them from Python as follows:\n",
        "***\n",
        "Ahora que tenemos archivos locales, podemos acceder a ellos desde Python de la siguiente manera:\n",
        "***\n",
        "---"
      ],
      "metadata": {
        "id": "Nwn0hCzMYab6"
      }
    },
    {
      "cell_type": "code",
      "source": [
        "from IPython.display import Image \n",
        "import os\n",
        "imgs = os.listdir('img')\n",
        "imgs"
      ],
      "metadata": {
        "id": "ljmBJmIk0oDv"
      },
      "execution_count": null,
      "outputs": []
    },
    {
      "cell_type": "code",
      "source": [
        "for img in imgs:\n",
        "    path = f'img/{img}'\n",
        "    show=Image(path)\n",
        "    display(show)"
      ],
      "metadata": {
        "id": "O53Qx6pV0ko9"
      },
      "execution_count": null,
      "outputs": []
    },
    {
      "cell_type": "markdown",
      "source": [
        "# Metas (Goals)\n",
        "\n",
        "---\n",
        "***\n",
        "By the end of this Introduction to Python you should understand:\n",
        "***\n",
        "Al final de esta Introducción a Python, debería comprender:\n",
        "***\n",
        "---\n",
        "- Lanzamiento de un cuaderno CoLab desde Github (Launching a CoLab Notebook from Github)\n",
        "- Comprensión de la estructura de un cuaderno CoLab (Understanding the Structure of a CoLab Notebook)\n",
        "- Comandos básicos de la terminal (Basic Terminal Commands)\n",
        "- Guardar el cuaderno (Saving the Notebook)\n",
        "- Guardar otros archivos (Saving Other Files)\n",
        "- Carga de otros archivos (Uploading Other Files)\n",
        "- Crear y Leer archivos en Python (Create and Read Files in Python)\n",
        "- Instalación e importación de bibliotecas (Installing and Importing Libraries)\n",
        "- Tener curiosidad por las cripto (Getting Curious About Crypto)\n",
        "\n"
      ],
      "metadata": {
        "id": "Ia8Tq2vsDi9y"
      }
    },
    {
      "cell_type": "markdown",
      "source": [
        "# Lazamiento CoLab desde Github (Launching a CoLab Notebook from Github)\n",
        "\n",
        "---\n",
        "***\n",
        "Launching the Jupyter notebook from Github is easy. We can simply click on the supplied banner.\n",
        "***\n",
        "Lanzar el cuaderno Jupyter desde Github es fácil. Simplemente podemos hacer clic en el banner suministrado.\n",
        "***\n",
        "---\n",
        "<a href=\"https://colab.research.google.com/github/ProfDoeg/Colegio_Invisible/blob/master/01_cuaderno.ipynb\" target=\"_parent\"><img src=\"https://colab.research.google.com/assets/colab-badge.svg\" alt=\"Open In Colab\"/></a>\n",
        "\n",
        "# Comprensión de la estructura de un cuaderno CoLab (Understanding the Structure of a CoLab Notebook)\n",
        "\n",
        "\n",
        "---\n",
        "***\n",
        "There are two kinds of cells in a notebook:\n",
        "***\n",
        "Hay dos tipos de celdas en un cuaderno:\n",
        "***\n",
        "---\n",
        "\n",
        "- `+ Code` esto es para **Python** y comandos de **Terminal**\n",
        "- `+ Text` esto es para **Markdown**\n",
        "\n",
        "Este celda es **Markdown**\n"
      ],
      "metadata": {
        "id": "xw-4bm2Nz_oN"
      }
    },
    {
      "cell_type": "code",
      "source": [
        "# este celda es Python\n",
        "print('Hola Python')"
      ],
      "metadata": {
        "id": "acDUxsnJ1dHK"
      },
      "execution_count": null,
      "outputs": []
    },
    {
      "cell_type": "markdown",
      "source": [
        "---\n",
        "***\n",
        "Uns celda de `Code` con un signo de exclamación `!` al principio es para comandos de **Terminal**\n",
        "\n",
        "***\n",
        "\n",
        "A `Code` cell with an exclamation point`!` at the beginning is for **Terminal** commands\n",
        "***\n",
        "---"
      ],
      "metadata": {
        "id": "r5q6ifgK244P"
      }
    },
    {
      "cell_type": "code",
      "source": [
        "! ls"
      ],
      "metadata": {
        "id": "YtAEA1QG23o2"
      },
      "execution_count": null,
      "outputs": []
    },
    {
      "cell_type": "markdown",
      "source": [
        "# Comandos básicos de la terminal (Basic Terminal Commands)\n",
        "\n",
        "- `pwd` present working directory\n",
        "- `ls` list files and folders\n",
        "- `cd` change directory\n",
        "- `echo` repeat\n",
        "- `>` fill\n",
        "- `rm` remove file\n",
        "- `cp` copy file\n",
        "- `mv` move file\n",
        "- `cat` view contents file\n",
        "- `zip` compress files into zip file\n",
        "- `unzip` decompress zip file"
      ],
      "metadata": {
        "id": "7_4Jv_zjQ70-"
      }
    },
    {
      "cell_type": "code",
      "source": [
        "! pwd"
      ],
      "metadata": {
        "id": "_KmppTY1uVnT"
      },
      "execution_count": null,
      "outputs": []
    },
    {
      "cell_type": "code",
      "source": [
        "! ls "
      ],
      "metadata": {
        "id": "hutGivm6Q2mW"
      },
      "execution_count": null,
      "outputs": []
    },
    {
      "cell_type": "code",
      "source": [
        "! ls sample_data"
      ],
      "metadata": {
        "id": "XCf3tSwFRmRB"
      },
      "execution_count": null,
      "outputs": []
    },
    {
      "cell_type": "code",
      "source": [
        "! ls .."
      ],
      "metadata": {
        "id": "atAsyLntRp89"
      },
      "execution_count": null,
      "outputs": []
    },
    {
      "cell_type": "code",
      "source": [
        "! ls ../"
      ],
      "metadata": {
        "id": "zJz59lmLwiRi"
      },
      "execution_count": null,
      "outputs": []
    },
    {
      "cell_type": "code",
      "source": [
        "%%!\n",
        "cd sample_data\n",
        "ls"
      ],
      "metadata": {
        "id": "lRwkUfgTSIyK"
      },
      "execution_count": null,
      "outputs": []
    },
    {
      "cell_type": "code",
      "source": [
        "! echo hola > text.txt"
      ],
      "metadata": {
        "id": "3HHZYRStTBeT"
      },
      "execution_count": null,
      "outputs": []
    },
    {
      "cell_type": "code",
      "source": [
        "! ls"
      ],
      "metadata": {
        "id": "5adt026XTSE9"
      },
      "execution_count": null,
      "outputs": []
    },
    {
      "cell_type": "code",
      "source": [
        "! cat text.txt"
      ],
      "metadata": {
        "id": "DskgIarUTVBg"
      },
      "execution_count": null,
      "outputs": []
    },
    {
      "cell_type": "code",
      "source": [
        "! cp text.txt sample_data/text_copy.txt"
      ],
      "metadata": {
        "id": "ZElA5x44TZC_"
      },
      "execution_count": null,
      "outputs": []
    },
    {
      "cell_type": "code",
      "source": [
        "!ls"
      ],
      "metadata": {
        "id": "5e43J7g1TkV_"
      },
      "execution_count": null,
      "outputs": []
    },
    {
      "cell_type": "code",
      "source": [
        "! ls sample_data"
      ],
      "metadata": {
        "id": "-yTF0Hx0TmCi"
      },
      "execution_count": null,
      "outputs": []
    },
    {
      "cell_type": "code",
      "source": [
        "! rm sample_data/text_copy.txt"
      ],
      "metadata": {
        "id": "PH80GNaiTvPH"
      },
      "execution_count": null,
      "outputs": []
    },
    {
      "cell_type": "code",
      "source": [
        "! ls sample_data"
      ],
      "metadata": {
        "id": "ox00kbhwT7mE"
      },
      "execution_count": null,
      "outputs": []
    },
    {
      "cell_type": "code",
      "source": [
        "! mv text.txt sample_data/text2.txt"
      ],
      "metadata": {
        "id": "WIJF8JHdT-H3"
      },
      "execution_count": null,
      "outputs": []
    },
    {
      "cell_type": "code",
      "source": [
        "! ls"
      ],
      "metadata": {
        "id": "slvr3x_-UMFL"
      },
      "execution_count": null,
      "outputs": []
    },
    {
      "cell_type": "code",
      "source": [
        "! ls sample_data"
      ],
      "metadata": {
        "id": "4MM93OvVUMKp"
      },
      "execution_count": null,
      "outputs": []
    },
    {
      "cell_type": "markdown",
      "source": [
        "# Guardar el cuaderno (Saving the Notebook)\n",
        "\n",
        "---\n",
        "***\n",
        "Save the notebook by clicking the pulldown `File` and selecting the appropriate method:\n",
        "***\n",
        "Guarde el cuaderno haciendo clic en el menú desplegable `Archivo` y seleccionando el método apropiado:\n",
        "***\n",
        "---\n",
        "- Guardar una copia en Drive (Save a copy in Drive)\n",
        "- Guardar una copia en Github (Save a Copy in Github)\n",
        "- Descargar (Download)"
      ],
      "metadata": {
        "id": "xs90FgVq3_CN"
      }
    },
    {
      "cell_type": "markdown",
      "source": [
        "# Guardar otros archivos (Saving Other Files)\n",
        "\n",
        "---\n",
        "***\n",
        "Save a file by clicking the appropritate method:\n",
        "***\n",
        "Guarde un archivo haciendo clic en el método apropiado:\n",
        "***\n",
        "---\n",
        "- Mount the Google Drive and save file to it\n",
        "- Download the File to local computer\n"
      ],
      "metadata": {
        "id": "QdBd04_xFlvC"
      }
    },
    {
      "cell_type": "markdown",
      "source": [
        "Create a file"
      ],
      "metadata": {
        "id": "OuSBf3Zu-ecB"
      }
    },
    {
      "cell_type": "code",
      "source": [
        "! echo hola mis gatos > hola.txt"
      ],
      "metadata": {
        "id": "FG4UEAnnJsg4"
      },
      "execution_count": null,
      "outputs": []
    },
    {
      "cell_type": "markdown",
      "source": [
        "Look at contents of file"
      ],
      "metadata": {
        "id": "OhZXVeY1-jD1"
      }
    },
    {
      "cell_type": "code",
      "source": [
        "! cat hola.txt"
      ],
      "metadata": {
        "id": "It3w4fl5HtJW"
      },
      "execution_count": null,
      "outputs": []
    },
    {
      "cell_type": "markdown",
      "source": [
        "List files in the directory"
      ],
      "metadata": {
        "id": "MJQ3q7Pm-rWm"
      }
    },
    {
      "cell_type": "code",
      "source": [
        "!ls"
      ],
      "metadata": {
        "id": "RQ_6UotRJjr1"
      },
      "execution_count": null,
      "outputs": []
    },
    {
      "cell_type": "code",
      "source": [
        ""
      ],
      "metadata": {
        "id": "d5aPgej4-wB3"
      },
      "execution_count": null,
      "outputs": []
    },
    {
      "cell_type": "markdown",
      "source": [
        "## Method 1: Google Drive\n",
        "\n",
        "Montar su Google Drive \n",
        "\n",
        "---\n",
        "Mount your Google Drive"
      ],
      "metadata": {
        "id": "f23oLtMy-xo5"
      }
    },
    {
      "cell_type": "code",
      "source": [
        "#mounting Drive\n",
        "from google.colab import drive\n",
        "drive.mount('/content/drive')"
      ],
      "metadata": {
        "id": "1VKRetUHJNPk"
      },
      "execution_count": null,
      "outputs": []
    },
    {
      "cell_type": "code",
      "source": [
        "!ls"
      ],
      "metadata": {
        "id": "WMleMCxzJlg2"
      },
      "execution_count": null,
      "outputs": []
    },
    {
      "cell_type": "code",
      "source": [
        "! ls drive/MyDrive"
      ],
      "metadata": {
        "id": "lYff-DVGJRZX"
      },
      "execution_count": null,
      "outputs": []
    },
    {
      "cell_type": "markdown",
      "source": [
        "Crear directorio en Google Drive \n",
        "\n",
        "---\n",
        "Create directory on Google Drive"
      ],
      "metadata": {
        "id": "u7gMdFCG_LUF"
      }
    },
    {
      "cell_type": "code",
      "source": [
        "! mkdir drive/MyDrive/test"
      ],
      "metadata": {
        "id": "mDejWCYpKqKR"
      },
      "execution_count": null,
      "outputs": []
    },
    {
      "cell_type": "markdown",
      "source": [
        "copiar archivo del espacio de trabajo a Google Drive \n",
        "\n",
        "---\n",
        "Copy file from workspace to Google Drive"
      ],
      "metadata": {
        "id": "ba2Fk4uF_RED"
      }
    },
    {
      "cell_type": "code",
      "source": [
        "! cp hola.txt drive/MyDrive/test/hola.txt"
      ],
      "metadata": {
        "id": "MHx6bBQAJ6dA"
      },
      "execution_count": null,
      "outputs": []
    },
    {
      "cell_type": "markdown",
      "source": [
        "## Method 2: Local Drive\n",
        "\n",
        "\n",
        "\n",
        "Descargar archivos del espacio de trabajo a la unidad local \n",
        "\n",
        "---\n",
        "Download files from workspace to local drive)"
      ],
      "metadata": {
        "id": "1sCAxa7V_gfr"
      }
    },
    {
      "cell_type": "code",
      "source": [
        "# downloading files to local\n",
        "from google.colab import files\n",
        "f=files.download('hola.txt');"
      ],
      "metadata": {
        "id": "OSudXJA-HI2k"
      },
      "execution_count": null,
      "outputs": []
    },
    {
      "cell_type": "markdown",
      "source": [
        "# Carga de otros archivos (Uploading Other Files)\n",
        "\n",
        "---\n",
        "***\n",
        "We upload files by:\n",
        "***\n",
        "Subimos archivos por:\n",
        "***\n",
        "---\n",
        "- copiar desde Google Drive después del montaje (copying from the Google Drive after mounting)\n",
        "- cargar desde la computadora local (upload from local computer)\n",
        "- clonar un repositorio de github (clone a github repositiory)\n",
        "\n"
      ],
      "metadata": {
        "id": "86wcp5E9FhEw"
      }
    },
    {
      "cell_type": "markdown",
      "source": [
        "## Method 1: Google Drive"
      ],
      "metadata": {
        "id": "EdBeaf73O5Vr"
      }
    },
    {
      "cell_type": "code",
      "source": [
        "! cp  drive/MyDrive/test/hola.txt hola2.txt"
      ],
      "metadata": {
        "id": "V71mLWwsOBLD"
      },
      "execution_count": null,
      "outputs": []
    },
    {
      "cell_type": "code",
      "source": [
        "! ls"
      ],
      "metadata": {
        "id": "mIBOjPQ2OI7q"
      },
      "execution_count": null,
      "outputs": []
    },
    {
      "cell_type": "markdown",
      "source": [
        "## Method 2: Local Drive"
      ],
      "metadata": {
        "id": "DaD6bFi3PBb5"
      }
    },
    {
      "cell_type": "code",
      "source": [
        "#upload\n",
        "from google.colab import files\n",
        "fu=files.upload();"
      ],
      "metadata": {
        "id": "DcS3SKmKOBaC"
      },
      "execution_count": null,
      "outputs": []
    },
    {
      "cell_type": "code",
      "source": [
        "! ls"
      ],
      "metadata": {
        "id": "R62ErDi9OdkS"
      },
      "execution_count": null,
      "outputs": []
    },
    {
      "cell_type": "markdown",
      "source": [
        "## Method 3: Github Clone"
      ],
      "metadata": {
        "id": "UNaEJ0YQPIIS"
      }
    },
    {
      "cell_type": "code",
      "source": [
        "! git clone https://github.com/ProfDoeg/Colegio_Invisible.git"
      ],
      "metadata": {
        "id": "C4XScNdJOBlK"
      },
      "execution_count": null,
      "outputs": []
    },
    {
      "cell_type": "code",
      "source": [
        "! ls "
      ],
      "metadata": {
        "id": "YvUDG7F-OtXI"
      },
      "execution_count": null,
      "outputs": []
    },
    {
      "cell_type": "code",
      "source": [
        "! ls Colegio_Invisible"
      ],
      "metadata": {
        "id": "PE7uwr-HPRrP"
      },
      "execution_count": null,
      "outputs": []
    },
    {
      "cell_type": "code",
      "source": [
        "! rm -r Colegio_Invisible"
      ],
      "metadata": {
        "id": "11VSkbv7QTp6"
      },
      "execution_count": null,
      "outputs": []
    },
    {
      "cell_type": "code",
      "source": [
        "! ls"
      ],
      "metadata": {
        "id": "s2_av5t5QXy8"
      },
      "execution_count": null,
      "outputs": []
    },
    {
      "cell_type": "markdown",
      "source": [
        "# Crear y Leer archivos en Python (Create and Read Files in Python)\n",
        "\n",
        "---\n",
        "***\n",
        "To interact with files we use the `open()` function"
      ],
      "metadata": {
        "id": "-Ollc4IWyD_I"
      }
    },
    {
      "cell_type": "code",
      "source": [
        "! echo palabras en el archivo > palabras.txt"
      ],
      "metadata": {
        "id": "IRF5BRn74Pk4"
      },
      "execution_count": null,
      "outputs": []
    },
    {
      "cell_type": "code",
      "source": [
        "arc_obj=open('palabras.txt','rt')\n",
        "arc_obj"
      ],
      "metadata": {
        "id": "SdFtrNtK33WU"
      },
      "execution_count": null,
      "outputs": []
    },
    {
      "cell_type": "code",
      "source": [
        "arc_obj.read()"
      ],
      "metadata": {
        "id": "5rPHJuJ_5DE4"
      },
      "execution_count": null,
      "outputs": []
    },
    {
      "cell_type": "code",
      "source": [
        "arc_obj.read()"
      ],
      "metadata": {
        "id": "a9qOslZN5GM6"
      },
      "execution_count": null,
      "outputs": []
    },
    {
      "cell_type": "code",
      "source": [
        "arc_obj.close()"
      ],
      "metadata": {
        "id": "m3Te0Ird5H0-"
      },
      "execution_count": null,
      "outputs": []
    },
    {
      "cell_type": "code",
      "source": [
        "arc_obj_bytes=open(f'img/{imgs[3]}','rb')\n",
        "arc_obj_bytes"
      ],
      "metadata": {
        "id": "VAhrDVQS5Po5"
      },
      "execution_count": null,
      "outputs": []
    },
    {
      "cell_type": "code",
      "source": [
        "arc_obj_bytes.read(4).hex()"
      ],
      "metadata": {
        "id": "wi3tLxeGFOEi"
      },
      "execution_count": null,
      "outputs": []
    },
    {
      "cell_type": "code",
      "source": [
        "arc_obj_bytes.close()"
      ],
      "metadata": {
        "id": "2qXo4JCjpP4H"
      },
      "execution_count": null,
      "outputs": []
    },
    {
      "cell_type": "markdown",
      "source": [
        "# Input data into Python by keyboard\n",
        "- Use the `input` function to input data\n",
        "- Use the `getpass` module and function to securely input data\n",
        "\n",
        "## `input`\n",
        "\n",
        "The `input()` function allows us to input data into a program through a dialog bow while some code is running.\n"
      ],
      "metadata": {
        "id": "2OEwRJ5RBPeY"
      }
    },
    {
      "cell_type": "code",
      "source": [
        "x=input('input a number')"
      ],
      "metadata": {
        "id": "O3a7OA4MB0Kq",
        "outputId": "b5fcbe4b-c538-43bb-cdb5-5a955f291ab6",
        "colab": {
          "base_uri": "https://localhost:8080/"
        }
      },
      "execution_count": 1,
      "outputs": [
        {
          "name": "stdout",
          "output_type": "stream",
          "text": [
            "input a number5\n"
          ]
        }
      ]
    },
    {
      "cell_type": "code",
      "source": [
        "#note the type of the input value\n",
        "print(x,type(x))"
      ],
      "metadata": {
        "id": "JtdfjUMqFeAT",
        "outputId": "713390fd-7908-4e10-cbb7-851376ff5107",
        "colab": {
          "base_uri": "https://localhost:8080/"
        }
      },
      "execution_count": 2,
      "outputs": [
        {
          "output_type": "stream",
          "name": "stdout",
          "text": [
            "5 <class 'str'>\n"
          ]
        }
      ]
    },
    {
      "cell_type": "markdown",
      "source": [
        "##`getpass`\n",
        "\n",
        "Sometimes we will want a dialog box that does not reveal what we are typing into it for security puposes. The `getpass` module and function allows this."
      ],
      "metadata": {
        "id": "PTJ97hCoFjbl"
      }
    },
    {
      "cell_type": "code",
      "source": [
        "import getpass\n",
        "secret=getpass.getpass('Input a secret')"
      ],
      "metadata": {
        "id": "Acnj8dxfGvM2",
        "outputId": "c27b089a-0721-4824-8e0d-39b85943d2a9",
        "colab": {
          "base_uri": "https://localhost:8080/"
        }
      },
      "execution_count": 6,
      "outputs": [
        {
          "name": "stdout",
          "output_type": "stream",
          "text": [
            "Input a secret··········\n"
          ]
        }
      ]
    },
    {
      "cell_type": "code",
      "source": [
        "type(secret)"
      ],
      "metadata": {
        "id": "wWXb1_MCHAU3",
        "outputId": "0ddd0ec8-a740-4dc3-9bf0-44851c3a4f57",
        "colab": {
          "base_uri": "https://localhost:8080/"
        }
      },
      "execution_count": 5,
      "outputs": [
        {
          "output_type": "execute_result",
          "data": {
            "text/plain": [
              "str"
            ]
          },
          "metadata": {},
          "execution_count": 5
        }
      ]
    },
    {
      "cell_type": "markdown",
      "source": [
        "\n",
        "# Get network and web data with Python `requests`\n",
        "- Use the `requests` module to access data using `HTTP GET`\n",
        "\n",
        "The `requests` module allows interacting with the internet. The `get` function allows us to send GET requests in order to access website contents. "
      ],
      "metadata": {
        "id": "-XcZygtYB0up"
      }
    },
    {
      "cell_type": "code",
      "source": [
        "import requests\n",
        "moby=requests.get('https://www.gutenberg.org/files/2701/2701-0.txt')\n",
        "\n",
        "moby"
      ],
      "metadata": {
        "id": "mDnYr33-EMJ0",
        "outputId": "ae8ed217-e18e-44a4-9a47-1284b8bba73f",
        "colab": {
          "base_uri": "https://localhost:8080/"
        }
      },
      "execution_count": 7,
      "outputs": [
        {
          "output_type": "execute_result",
          "data": {
            "text/plain": [
              "<Response [200]>"
            ]
          },
          "metadata": {},
          "execution_count": 7
        }
      ]
    },
    {
      "cell_type": "code",
      "source": [
        "moby.encoding\n"
      ],
      "metadata": {
        "id": "23tn4z3rHlBo",
        "outputId": "c1394680-4cc6-44eb-9a76-cfb83482e87c",
        "colab": {
          "base_uri": "https://localhost:8080/",
          "height": 35
        }
      },
      "execution_count": 8,
      "outputs": [
        {
          "output_type": "execute_result",
          "data": {
            "application/vnd.google.colaboratory.intrinsic+json": {
              "type": "string"
            },
            "text/plain": [
              "'ISO-8859-1'"
            ]
          },
          "metadata": {},
          "execution_count": 8
        }
      ]
    },
    {
      "cell_type": "code",
      "source": [
        "moby.content[:1100]"
      ],
      "metadata": {
        "id": "8o4qRpDVHqi6",
        "outputId": "512d218b-f30e-41de-cccf-38db82c1d500",
        "colab": {
          "base_uri": "https://localhost:8080/"
        }
      },
      "execution_count": 9,
      "outputs": [
        {
          "output_type": "execute_result",
          "data": {
            "text/plain": [
              "b'\\xef\\xbb\\xbfThe Project Gutenberg eBook of Moby-Dick; or The Whale, by Herman Melville\\r\\n\\r\\nThis eBook is for the use of anyone anywhere in the United States and\\r\\nmost other parts of the world at no cost and with almost no restrictions\\r\\nwhatsoever. You may copy it, give it away or re-use it under the terms\\r\\nof the Project Gutenberg License included with this eBook or online at\\r\\nwww.gutenberg.org. If you are not located in the United States, you\\r\\nwill have to check the laws of the country where you are located before\\r\\nusing this eBook.\\r\\n\\r\\nTitle: Moby-Dick; or The Whale\\r\\n\\r\\nAuthor: Herman Melville\\r\\n\\r\\nRelease Date: June, 2001 [eBook #2701]\\r\\n[Most recently updated: August 18, 2021]\\r\\n\\r\\nLanguage: English\\r\\n\\r\\nCharacter set encoding: UTF-8\\r\\n\\r\\nProduced by: Daniel Lazarus, Jonesey, and David Widger\\r\\n\\r\\n*** START OF THE PROJECT GUTENBERG EBOOK MOBY-DICK; OR THE WHALE ***\\r\\n\\r\\n\\r\\n\\r\\n\\r\\nMOBY-DICK;\\r\\n\\r\\nor, THE WHALE.\\r\\n\\r\\nBy Herman Melville\\r\\n\\r\\n\\r\\n\\r\\nCONTENTS\\r\\n\\r\\nETYMOLOGY.\\r\\n\\r\\nEXTRACTS (Supplied by a Sub-Sub-Librarian).\\r\\n\\r\\nCHAPTER 1. Loomings.\\r\\n\\r\\nCHAPTER 2. The Carpet-Bag.\\r\\n\\r\\nCHAPTER 3. The Spouter-Inn.\\r\\n\\r\\nCHAPTER 4. The C'"
            ]
          },
          "metadata": {},
          "execution_count": 9
        }
      ]
    },
    {
      "cell_type": "code",
      "source": [
        "moby.text[:1000]"
      ],
      "metadata": {
        "id": "eAqmInG5H1rv",
        "outputId": "48c747df-15c5-4548-d8e4-550284e90ed3",
        "colab": {
          "base_uri": "https://localhost:8080/",
          "height": 244
        }
      },
      "execution_count": 10,
      "outputs": [
        {
          "output_type": "execute_result",
          "data": {
            "application/vnd.google.colaboratory.intrinsic+json": {
              "type": "string"
            },
            "text/plain": [
              "'ï»¿The Project Gutenberg eBook of Moby-Dick; or The Whale, by Herman Melville\\r\\n\\r\\nThis eBook is for the use of anyone anywhere in the United States and\\r\\nmost other parts of the world at no cost and with almost no restrictions\\r\\nwhatsoever. You may copy it, give it away or re-use it under the terms\\r\\nof the Project Gutenberg License included with this eBook or online at\\r\\nwww.gutenberg.org. If you are not located in the United States, you\\r\\nwill have to check the laws of the country where you are located before\\r\\nusing this eBook.\\r\\n\\r\\nTitle: Moby-Dick; or The Whale\\r\\n\\r\\nAuthor: Herman Melville\\r\\n\\r\\nRelease Date: June, 2001 [eBook #2701]\\r\\n[Most recently updated: August 18, 2021]\\r\\n\\r\\nLanguage: English\\r\\n\\r\\nCharacter set encoding: UTF-8\\r\\n\\r\\nProduced by: Daniel Lazarus, Jonesey, and David Widger\\r\\n\\r\\n*** START OF THE PROJECT GUTENBERG EBOOK MOBY-DICK; OR THE WHALE ***\\r\\n\\r\\n\\r\\n\\r\\n\\r\\nMOBY-DICK;\\r\\n\\r\\nor, THE WHALE.\\r\\n\\r\\nBy Herman Melville\\r\\n\\r\\n\\r\\n\\r\\nCONTENTS\\r\\n\\r\\nETYMOLOGY.\\r\\n\\r\\nEXTRACTS (Supplied by a Sub-Sub-Librarian).\\r\\n\\r\\nC'"
            ]
          },
          "metadata": {},
          "execution_count": 10
        }
      ]
    },
    {
      "cell_type": "markdown",
      "source": [
        "# Doing Terminal Actions with Python\n",
        "\n",
        "## `os` module\n",
        "The `os` module is a usefule tool for file management\n",
        "\n",
        "- `listdir` reports all the files and folder in the current directory\n",
        "- `walk` recursively crawls all files in each folder "
      ],
      "metadata": {
        "id": "E-4h48ZtEM14"
      }
    },
    {
      "cell_type": "code",
      "source": [
        "import os\n",
        "\n",
        "os.listdir()"
      ],
      "metadata": {
        "id": "3Elte4kdHpwW",
        "outputId": "280ea5a0-1e46-4780-84b3-986f5f4503f4",
        "colab": {
          "base_uri": "https://localhost:8080/"
        }
      },
      "execution_count": 11,
      "outputs": [
        {
          "output_type": "execute_result",
          "data": {
            "text/plain": [
              "['.config', 'sample_data']"
            ]
          },
          "metadata": {},
          "execution_count": 11
        }
      ]
    },
    {
      "cell_type": "code",
      "source": [
        "list(os.walk(os.curdir))"
      ],
      "metadata": {
        "id": "NL9m5eolIgXH",
        "outputId": "48e20ac0-d263-4c3d-d670-32eaa0fa033e",
        "colab": {
          "base_uri": "https://localhost:8080/"
        }
      },
      "execution_count": 12,
      "outputs": [
        {
          "output_type": "execute_result",
          "data": {
            "text/plain": [
              "[('.', ['.config', 'sample_data'], []),\n",
              " ('./.config',\n",
              "  ['logs', 'configurations'],\n",
              "  ['gce',\n",
              "   '.last_opt_in_prompt.yaml',\n",
              "   'config_sentinel',\n",
              "   '.last_update_check.json',\n",
              "   '.last_survey_prompt.yaml',\n",
              "   'active_config']),\n",
              " ('./.config/logs', ['2021.12.03'], []),\n",
              " ('./.config/logs/2021.12.03',\n",
              "  [],\n",
              "  ['14.33.36.903459.log',\n",
              "   '14.32.50.522723.log',\n",
              "   '14.33.37.701606.log',\n",
              "   '14.32.30.027140.log',\n",
              "   '14.33.16.964195.log',\n",
              "   '14.33.09.955489.log']),\n",
              " ('./.config/configurations', [], ['config_default']),\n",
              " ('./sample_data',\n",
              "  [],\n",
              "  ['README.md',\n",
              "   'anscombe.json',\n",
              "   'mnist_train_small.csv',\n",
              "   'california_housing_test.csv',\n",
              "   'california_housing_train.csv',\n",
              "   'mnist_test.csv'])]"
            ]
          },
          "metadata": {},
          "execution_count": 12
        }
      ]
    },
    {
      "cell_type": "code",
      "source": [
        "def get_all_file_paths(dir_path): \n",
        "    file_paths = [] \n",
        "    for root, directories, files in os.walk(dir_path): \n",
        "        for filename in files: \n",
        "            filepath = os.path.join(root, filename) \n",
        "            file_paths.append(filepath) \n",
        "    return file_paths\n",
        "\n",
        "get_all_file_paths(os.curdir)"
      ],
      "metadata": {
        "id": "Gt1vakFAIgko",
        "outputId": "ce08b5a3-b3fd-4261-9e18-e79cec3f801f",
        "colab": {
          "base_uri": "https://localhost:8080/"
        }
      },
      "execution_count": 13,
      "outputs": [
        {
          "output_type": "execute_result",
          "data": {
            "text/plain": [
              "['./.config/gce',\n",
              " './.config/.last_opt_in_prompt.yaml',\n",
              " './.config/config_sentinel',\n",
              " './.config/.last_update_check.json',\n",
              " './.config/.last_survey_prompt.yaml',\n",
              " './.config/active_config',\n",
              " './.config/logs/2021.12.03/14.33.36.903459.log',\n",
              " './.config/logs/2021.12.03/14.32.50.522723.log',\n",
              " './.config/logs/2021.12.03/14.33.37.701606.log',\n",
              " './.config/logs/2021.12.03/14.32.30.027140.log',\n",
              " './.config/logs/2021.12.03/14.33.16.964195.log',\n",
              " './.config/logs/2021.12.03/14.33.09.955489.log',\n",
              " './.config/configurations/config_default',\n",
              " './sample_data/README.md',\n",
              " './sample_data/anscombe.json',\n",
              " './sample_data/mnist_train_small.csv',\n",
              " './sample_data/california_housing_test.csv',\n",
              " './sample_data/california_housing_train.csv',\n",
              " './sample_data/mnist_test.csv']"
            ]
          },
          "metadata": {},
          "execution_count": 13
        }
      ]
    },
    {
      "cell_type": "code",
      "source": [
        "! cat ./sample_data/anscombe.json\n"
      ],
      "metadata": {
        "id": "dNmKf9kfKGxD",
        "outputId": "f6c4cb1c-b90b-46d3-ba1d-a65089e15225",
        "colab": {
          "base_uri": "https://localhost:8080/"
        }
      },
      "execution_count": 16,
      "outputs": [
        {
          "output_type": "stream",
          "name": "stdout",
          "text": [
            "[\n",
            "  {\"Series\":\"I\", \"X\":10.0, \"Y\":8.04},\n",
            "  {\"Series\":\"I\", \"X\":8.0, \"Y\":6.95},\n",
            "  {\"Series\":\"I\", \"X\":13.0, \"Y\":7.58},\n",
            "  {\"Series\":\"I\", \"X\":9.0, \"Y\":8.81},\n",
            "  {\"Series\":\"I\", \"X\":11.0, \"Y\":8.33},\n",
            "  {\"Series\":\"I\", \"X\":14.0, \"Y\":9.96},\n",
            "  {\"Series\":\"I\", \"X\":6.0, \"Y\":7.24},\n",
            "  {\"Series\":\"I\", \"X\":4.0, \"Y\":4.26},\n",
            "  {\"Series\":\"I\", \"X\":12.0, \"Y\":10.84},\n",
            "  {\"Series\":\"I\", \"X\":7.0, \"Y\":4.81},\n",
            "  {\"Series\":\"I\", \"X\":5.0, \"Y\":5.68},\n",
            "\n",
            "  {\"Series\":\"II\", \"X\":10.0, \"Y\":9.14},\n",
            "  {\"Series\":\"II\", \"X\":8.0, \"Y\":8.14},\n",
            "  {\"Series\":\"II\", \"X\":13.0, \"Y\":8.74},\n",
            "  {\"Series\":\"II\", \"X\":9.0, \"Y\":8.77},\n",
            "  {\"Series\":\"II\", \"X\":11.0, \"Y\":9.26},\n",
            "  {\"Series\":\"II\", \"X\":14.0, \"Y\":8.10},\n",
            "  {\"Series\":\"II\", \"X\":6.0, \"Y\":6.13},\n",
            "  {\"Series\":\"II\", \"X\":4.0, \"Y\":3.10},\n",
            "  {\"Series\":\"II\", \"X\":12.0, \"Y\":9.13},\n",
            "  {\"Series\":\"II\", \"X\":7.0, \"Y\":7.26},\n",
            "  {\"Series\":\"II\", \"X\":5.0, \"Y\":4.74},\n",
            "\n",
            "  {\"Series\":\"III\", \"X\":10.0, \"Y\":7.46},\n",
            "  {\"Series\":\"III\", \"X\":8.0, \"Y\":6.77},\n",
            "  {\"Series\":\"III\", \"X\":13.0, \"Y\":12.74},\n",
            "  {\"Series\":\"III\", \"X\":9.0, \"Y\":7.11},\n",
            "  {\"Series\":\"III\", \"X\":11.0, \"Y\":7.81},\n",
            "  {\"Series\":\"III\", \"X\":14.0, \"Y\":8.84},\n",
            "  {\"Series\":\"III\", \"X\":6.0, \"Y\":6.08},\n",
            "  {\"Series\":\"III\", \"X\":4.0, \"Y\":5.39},\n",
            "  {\"Series\":\"III\", \"X\":12.0, \"Y\":8.15},\n",
            "  {\"Series\":\"III\", \"X\":7.0, \"Y\":6.42},\n",
            "  {\"Series\":\"III\", \"X\":5.0, \"Y\":5.73},\n",
            "\n",
            "  {\"Series\":\"IV\", \"X\":8.0, \"Y\":6.58},\n",
            "  {\"Series\":\"IV\", \"X\":8.0, \"Y\":5.76},\n",
            "  {\"Series\":\"IV\", \"X\":8.0, \"Y\":7.71},\n",
            "  {\"Series\":\"IV\", \"X\":8.0, \"Y\":8.84},\n",
            "  {\"Series\":\"IV\", \"X\":8.0, \"Y\":8.47},\n",
            "  {\"Series\":\"IV\", \"X\":8.0, \"Y\":7.04},\n",
            "  {\"Series\":\"IV\", \"X\":8.0, \"Y\":5.25},\n",
            "  {\"Series\":\"IV\", \"X\":19.0, \"Y\":12.50},\n",
            "  {\"Series\":\"IV\", \"X\":8.0, \"Y\":5.56},\n",
            "  {\"Series\":\"IV\", \"X\":8.0, \"Y\":7.91},\n",
            "  {\"Series\":\"IV\", \"X\":8.0, \"Y\":6.89}\n",
            "]\n"
          ]
        }
      ]
    },
    {
      "cell_type": "markdown",
      "source": [
        "# Execution of Terminal Commands in Python \n",
        "\n",
        "In a typical Python environment access to the Terminal is mediated through `os` and `subprocess`\n",
        "\n",
        "- `os.system()` sends commands to the Terminal. the terminal response is unavailable\n",
        "- `subprocess.run()` sends commands to the Terminal. the terminal response is available as a list\n",
        "\n"
      ],
      "metadata": {
        "id": "ivk0OqEoOSoA"
      }
    },
    {
      "cell_type": "code",
      "source": [
        "os.system('ls')"
      ],
      "metadata": {
        "id": "u_C9kakDQdKK",
        "outputId": "ced61068-722a-401b-b125-7328036710da",
        "colab": {
          "base_uri": "https://localhost:8080/"
        }
      },
      "execution_count": 51,
      "outputs": [
        {
          "output_type": "execute_result",
          "data": {
            "text/plain": [
              "0"
            ]
          },
          "metadata": {},
          "execution_count": 51
        }
      ]
    },
    {
      "cell_type": "code",
      "source": [
        "import subprocess\n",
        "subprocess.run(['ls'])"
      ],
      "metadata": {
        "id": "HQ73TMWMQdg8",
        "outputId": "c72c571a-6eb1-4e3e-bc91-ba667c1de57c",
        "colab": {
          "base_uri": "https://localhost:8080/"
        }
      },
      "execution_count": 53,
      "outputs": [
        {
          "output_type": "execute_result",
          "data": {
            "text/plain": [
              "CompletedProcess(args=['ls'], returncode=0)"
            ]
          },
          "metadata": {},
          "execution_count": 53
        }
      ]
    },
    {
      "cell_type": "markdown",
      "source": [
        "Neither of these work in CoLab...\n",
        "\n",
        "Solution `!{}`\n",
        "\n",
        "CoLab Python has an added utility. The `!{}` is a kind of added Python function that allows easy two-way communication with the Terminal."
      ],
      "metadata": {
        "id": "sMVq1NVnQxfY"
      }
    },
    {
      "cell_type": "code",
      "source": [
        "x=!{'ls'}\n",
        "x"
      ],
      "metadata": {
        "id": "DjJBJhOnMiBt",
        "outputId": "209d8073-f2c4-46fa-9f71-e4f5db9b5d97",
        "colab": {
          "base_uri": "https://localhost:8080/"
        }
      },
      "execution_count": 36,
      "outputs": [
        {
          "output_type": "execute_result",
          "data": {
            "text/plain": [
              "['sample_data']"
            ]
          },
          "metadata": {},
          "execution_count": 36
        }
      ]
    },
    {
      "cell_type": "code",
      "source": [
        "x=!{'echo print\\(1\\) > prog.py'}\n",
        "x"
      ],
      "metadata": {
        "id": "-t4AP0hRNPRP",
        "outputId": "0c18598c-25dd-4f71-c42d-254157b5c25f",
        "colab": {
          "base_uri": "https://localhost:8080/"
        }
      },
      "execution_count": 43,
      "outputs": [
        {
          "output_type": "execute_result",
          "data": {
            "text/plain": [
              "[]"
            ]
          },
          "metadata": {},
          "execution_count": 43
        }
      ]
    },
    {
      "cell_type": "code",
      "source": [
        "x=!{'cat prog.py'}\n",
        "x"
      ],
      "metadata": {
        "id": "_hHUWH6dN6zS",
        "outputId": "c0976409-28ac-4aa4-aa32-e890935d64c2",
        "colab": {
          "base_uri": "https://localhost:8080/"
        }
      },
      "execution_count": 44,
      "outputs": [
        {
          "output_type": "execute_result",
          "data": {
            "text/plain": [
              "['print(1)']"
            ]
          },
          "metadata": {},
          "execution_count": 44
        }
      ]
    },
    {
      "cell_type": "code",
      "source": [
        "x=!{'python prog.py'}\n",
        "x"
      ],
      "metadata": {
        "id": "zh_EUCMqOFbG",
        "outputId": "ae1a573a-855e-42a4-80fa-dc165c000c30",
        "colab": {
          "base_uri": "https://localhost:8080/"
        }
      },
      "execution_count": 45,
      "outputs": [
        {
          "output_type": "execute_result",
          "data": {
            "text/plain": [
              "['1']"
            ]
          },
          "metadata": {},
          "execution_count": 45
        }
      ]
    },
    {
      "cell_type": "code",
      "source": [
        "x=!{'git clone https://github.com/ProfDoeg/Colegio_Invisible.git'}"
      ],
      "metadata": {
        "id": "PfzYNQkIOpO9"
      },
      "execution_count": 47,
      "outputs": []
    },
    {
      "cell_type": "code",
      "source": [
        "x=!{'ls Colegio_Invisible\\nls Colegio_Invisible/img'}\n",
        "x"
      ],
      "metadata": {
        "id": "8YmggHEhPA9I",
        "outputId": "c08608fe-a258-4337-9584-1553b8cbbc5b",
        "colab": {
          "base_uri": "https://localhost:8080/"
        }
      },
      "execution_count": 59,
      "outputs": [
        {
          "output_type": "execute_result",
          "data": {
            "text/plain": [
              "['01_cuaderno.ipynb  02_cuaderno.ipynb  img  img.zip  README.md',\n",
              " 'colegio_invisible.jpeg\\thg_drop.jpeg  hg_house.jpeg   hg_rough.png',\n",
              " 'hg_cry.jpeg\\t\\thg_hide.jpeg  hg_invite.jpeg  hg_xmas.jpeg']"
            ]
          },
          "metadata": {},
          "execution_count": 59
        }
      ]
    },
    {
      "cell_type": "code",
      "source": [
        "x=!{'ls -R Colegio_Invisible'}\n",
        "x"
      ],
      "metadata": {
        "id": "0ocK5cY6Sipr",
        "outputId": "c49ef658-788e-4165-f48b-9a1ecb4f4a76",
        "colab": {
          "base_uri": "https://localhost:8080/"
        }
      },
      "execution_count": 64,
      "outputs": [
        {
          "output_type": "execute_result",
          "data": {
            "text/plain": [
              "['Colegio_Invisible:',\n",
              " '01_cuaderno.ipynb  02_cuaderno.ipynb  img  img.zip  README.md',\n",
              " '',\n",
              " 'Colegio_Invisible/img:',\n",
              " 'colegio_invisible.jpeg\\thg_drop.jpeg  hg_house.jpeg   hg_rough.png',\n",
              " 'hg_cry.jpeg\\t\\thg_hide.jpeg  hg_invite.jpeg  hg_xmas.jpeg']"
            ]
          },
          "metadata": {},
          "execution_count": 64
        }
      ]
    },
    {
      "cell_type": "markdown",
      "source": [
        "# Instalación e importación de bibliotecas (Installing and Importing Libraries)\n",
        "\n",
        "---\n",
        "***\n",
        "To use special libraries:\n",
        "***\n",
        "Usar bibliotecas especial:\n",
        "***\n",
        "---\n",
        "\n",
        "- install using `pip` at *Terminal*\n",
        "- import using `import`"
      ],
      "metadata": {
        "id": "gL7PM1bDYljm"
      }
    },
    {
      "cell_type": "code",
      "source": [
        ""
      ],
      "metadata": {
        "id": "M68Vuyu4OQy-"
      },
      "execution_count": null,
      "outputs": []
    },
    {
      "cell_type": "markdown",
      "source": [
        "# Tener curiosidad por las cripto (Getting Curious About Crypto)\n",
        "\n",
        "`cryptos` es una pequeña biblioteca dulce que es una bifurcación de` pybitcointools` de Vitalik Buterin. Tiene capacidad para interactuar con varias cadenas de bloques o ***blockchains*** , incluidas **Bitcoin** y **Dogecoin**. Además, esta biblioteca se puede utilizar para crear, firmar y difundir una variedad de transacciones.\n",
        "\n",
        "---\n",
        "\n",
        "`cryptos` is a sweet little library that is a fork of Vitalik Buterin's `pybitcointools`. It has capacity to interact with various blockchains, including **Bitcoin** and **Dogecoin**. In addition this library can be used to author, sign and broadcast a variety of transactions. \n"
      ],
      "metadata": {
        "id": "xCjVPbVL1dnZ"
      }
    },
    {
      "cell_type": "markdown",
      "source": [
        "First we install the `cryptos` library\n",
        "\n",
        "---\n",
        "\n",
        "Primero instalamos la biblioteca `cryptos`"
      ],
      "metadata": {
        "id": "B5liIMwaEZp6"
      }
    },
    {
      "cell_type": "code",
      "execution_count": null,
      "metadata": {
        "id": "QcKDQ9zTcLL_"
      },
      "outputs": [],
      "source": [
        "! pip install cryptos"
      ]
    },
    {
      "cell_type": "markdown",
      "source": [
        "Next we import the `cryptos` library and the `datetime` function from the `datetime` library. Also make objects to interact with the Dogecoin and BTC blockchains.\n",
        "\n",
        "---\n",
        "\n",
        "A continuación, importamos la biblioteca `cryptos` y la función` datetime` de la biblioteca `datetime`. También crea objetos para interactuar con las cadenas de bloques Dogecoin y BTC."
      ],
      "metadata": {
        "id": "Y4nfJKx6E-86"
      }
    },
    {
      "cell_type": "code",
      "execution_count": null,
      "metadata": {
        "id": "M6ibRITfcLMA"
      },
      "outputs": [],
      "source": [
        "import cryptos\n",
        "from datetime import datetime, timedelta\n",
        "\n",
        "dog = cryptos.Doge()\n",
        "btc = cryptos.Bitcoin()"
      ]
    },
    {
      "cell_type": "code",
      "source": [
        "#dog.__dir__()"
      ],
      "metadata": {
        "id": "ATnY8aUVf7oJ"
      },
      "execution_count": null,
      "outputs": []
    },
    {
      "cell_type": "code",
      "source": [
        "#dog.__dict__"
      ],
      "metadata": {
        "id": "akgHVsEGjqYk"
      },
      "execution_count": null,
      "outputs": []
    },
    {
      "cell_type": "code",
      "source": [
        "#btc.__dict__"
      ],
      "metadata": {
        "id": "ayAq4D4Gjwd_"
      },
      "execution_count": null,
      "outputs": []
    },
    {
      "cell_type": "markdown",
      "source": [
        "Get data for genesis, block number 0, on Dogecoin blockchain\n",
        "\n",
        "---\n",
        "\n",
        "Obtenga datos para génesis, bloque número 0, en la cadena de bloques Dogecoin"
      ],
      "metadata": {
        "id": "0O-kxxn2GDHf"
      }
    },
    {
      "cell_type": "code",
      "source": [
        "dog_blk_0=dog.block_info(0)\n",
        "dog_blk_0"
      ],
      "metadata": {
        "id": "6iv_rkReglWj"
      },
      "execution_count": null,
      "outputs": []
    },
    {
      "cell_type": "code",
      "source": [
        "#AÑOS DE DOGECOIN\n",
        "(datetime.now()-datetime.utcfromtimestamp(dog_blk_0['timestamp'])).days/365.24"
      ],
      "metadata": {
        "id": "myrNh9NfnzNZ"
      },
      "execution_count": null,
      "outputs": []
    },
    {
      "cell_type": "markdown",
      "source": [
        "Write a function for printing the UTC timestamp as a date and time\n",
        "\n",
        "---\n",
        "\n",
        "Escribir una función para imprimir la marca de tiempo UTC como fecha y hora"
      ],
      "metadata": {
        "id": "k6Ib8VQvGmX4"
      }
    },
    {
      "cell_type": "code",
      "source": [
        "print_unixtime= lambda x : print(datetime.utcfromtimestamp(x).strftime('%Y-%m-%d %H:%M:%S'))\n",
        "\n",
        "print_unixtime(dog_blk_0['timestamp'])"
      ],
      "metadata": {
        "id": "uPqeTZ7YALJL"
      },
      "execution_count": null,
      "outputs": []
    },
    {
      "cell_type": "markdown",
      "source": [
        "Get data for genesis, block number 0, on Bitcoin blockchain.\n",
        "\n",
        "---\n",
        "\n",
        "Obtenga datos para génesis, bloque número 0, en la cadena de bloques de Bitcoin."
      ],
      "metadata": {
        "id": "afp6MHcQI_zJ"
      }
    },
    {
      "cell_type": "code",
      "source": [
        "btc_blk_0=btc.block_info(0)\n",
        "btc_blk_0"
      ],
      "metadata": {
        "id": "yGGbUkxy6jyC"
      },
      "execution_count": null,
      "outputs": []
    },
    {
      "cell_type": "code",
      "source": [
        "print_unixtime(btc_blk_0['timestamp'])"
      ],
      "metadata": {
        "id": "Ga8wqIhYAsnd"
      },
      "execution_count": null,
      "outputs": []
    },
    {
      "cell_type": "code",
      "source": [
        "#AÑOS DE BITCOIN\n",
        "(datetime.now()-datetime.utcfromtimestamp(btc_blk_0['timestamp'])).days/365.24"
      ],
      "metadata": {
        "id": "2YtrWcXCnc4m"
      },
      "execution_count": null,
      "outputs": []
    },
    {
      "cell_type": "markdown",
      "source": [
        "We can see the transaction fields for both genesis blocks only had the \"coinbase\" transaction. This is the transaction that mints new coins as the block reward. Here we use a while loop to see the first transactions between two participants on the network.\n",
        "\n",
        "---\n",
        "\n",
        "Podemos ver que los campos de transacción para ambos bloques de génesis solo tenían la transacción de \"coinbase\". Esta es la transacción que acuña nuevas monedas como recompensa en bloque. Aquí usamos un ciclo while para ver las primeras transacciones entre dos participantes en la red."
      ],
      "metadata": {
        "id": "Dl40xbtvJFjv"
      }
    },
    {
      "cell_type": "code",
      "source": [
        "i=0\n",
        "while True:\n",
        "  D1=dog.block_info(i)\n",
        "  if len(D1['tx_hashes'])!=1:\n",
        "    break\n",
        "  i=i+1\n",
        "D1,i"
      ],
      "metadata": {
        "id": "FEQHGW5DgQrl"
      },
      "execution_count": null,
      "outputs": []
    },
    {
      "cell_type": "code",
      "source": [
        "print_unixtime(dog_blk_0['timestamp'])\n",
        "print_unixtime(D1['timestamp'])"
      ],
      "metadata": {
        "id": "_4OSjSoOBUSE"
      },
      "execution_count": null,
      "outputs": []
    },
    {
      "cell_type": "code",
      "source": [
        "# HORAS A PRIMER TRANSACTION\n",
        "(D1['timestamp']-dog_blk_0['timestamp'])/3600"
      ],
      "metadata": {
        "id": "4fTaKSBpBmHJ"
      },
      "execution_count": null,
      "outputs": []
    },
    {
      "cell_type": "code",
      "source": [
        "# MINUTOS PER BLOCK\n",
        "(D1['timestamp']-dog_blk_0['timestamp'])/i/60"
      ],
      "metadata": {
        "id": "1EG-IK_1DbYk"
      },
      "execution_count": null,
      "outputs": []
    },
    {
      "cell_type": "code",
      "source": [
        "j=0\n",
        "while True:\n",
        "  B1=btc.block_info(j)\n",
        "  if len(B1['tx_hashes'])!=1:\n",
        "    break\n",
        "  j=j+1\n",
        "B1,j"
      ],
      "metadata": {
        "id": "ajLQj9syhuBT"
      },
      "execution_count": null,
      "outputs": []
    },
    {
      "cell_type": "code",
      "source": [
        "print_unixtime(btc_blk_0['timestamp'])\n",
        "print_unixtime(B1['timestamp'])"
      ],
      "metadata": {
        "id": "0-0gLjPuBPIs"
      },
      "execution_count": null,
      "outputs": []
    },
    {
      "cell_type": "code",
      "source": [
        "# DIAS A PRIMER TRANSACTION\n",
        "(B1['timestamp']-btc_blk_0['timestamp'])/3600/24"
      ],
      "metadata": {
        "id": "QI-_QXF2CvBY"
      },
      "execution_count": null,
      "outputs": []
    },
    {
      "cell_type": "code",
      "source": [
        "#MINUTOS PER BLOCK\n",
        "(B1['timestamp']-btc_blk_0['timestamp'])/j/60"
      ],
      "metadata": {
        "id": "AorV2CMkC3kh"
      },
      "execution_count": null,
      "outputs": []
    }
  ],
  "metadata": {
    "kernelspec": {
      "display_name": "Python 3",
      "language": "python",
      "name": "python3"
    },
    "language_info": {
      "codemirror_mode": {
        "name": "ipython",
        "version": 3
      },
      "file_extension": ".py",
      "mimetype": "text/x-python",
      "name": "python",
      "nbconvert_exporter": "python",
      "pygments_lexer": "ipython3",
      "version": "3.7.6"
    },
    "colab": {
      "name": "01_cuaderno.ipynb",
      "provenance": []
    }
  },
  "nbformat": 4,
  "nbformat_minor": 0
}