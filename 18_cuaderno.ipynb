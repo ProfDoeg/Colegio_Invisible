{
  "nbformat": 4,
  "nbformat_minor": 0,
  "metadata": {
    "colab": {
      "name": "18_cuaderno.ipynb",
      "provenance": [],
      "authorship_tag": "ABX9TyOVuK/TH/mbUl3gC4KSiI9s",
      "include_colab_link": true
    },
    "kernelspec": {
      "name": "python3",
      "display_name": "Python 3"
    },
    "language_info": {
      "name": "python"
    }
  },
  "cells": [
    {
      "cell_type": "markdown",
      "metadata": {
        "id": "view-in-github",
        "colab_type": "text"
      },
      "source": [
        "<a href=\"https://colab.research.google.com/github/ProfDoeg/Colegio_Invisible/blob/main/18_cuaderno.ipynb\" target=\"_parent\"><img src=\"https://colab.research.google.com/assets/colab-badge.svg\" alt=\"Open In Colab\"/></a>"
      ]
    },
    {
      "cell_type": "code",
      "execution_count": 3,
      "metadata": {
        "id": "QU-j-ie4xl3n",
        "colab": {
          "base_uri": "https://localhost:8080/"
        },
        "outputId": "1118c6fe-ece6-47ea-87b3-1f7a22669430"
      },
      "outputs": [
        {
          "output_type": "stream",
          "name": "stdout",
          "text": [
            "Looking in indexes: https://pypi.org/simple, https://us-python.pkg.dev/colab-wheels/public/simple/\n",
            "Collecting eciespy\n",
            "  Downloading eciespy-0.3.12-py3-none-any.whl (11 kB)\n",
            "Collecting eth_keys\n",
            "  Downloading eth_keys-0.4.0-py3-none-any.whl (21 kB)\n",
            "Collecting cryptos\n",
            "  Downloading cryptos-1.36-py3-none-any.whl (69 kB)\n",
            "\u001b[K     |████████████████████████████████| 69 kB 3.4 MB/s \n",
            "\u001b[?25hCollecting qrcode\n",
            "  Downloading qrcode-7.3.1.tar.gz (43 kB)\n",
            "\u001b[K     |████████████████████████████████| 43 kB 1.6 MB/s \n",
            "\u001b[?25hCollecting pycryptodome<4.0.0,>=3.14.1\n",
            "  Downloading pycryptodome-3.14.1-cp35-abi3-manylinux2010_x86_64.whl (2.0 MB)\n",
            "\u001b[K     |████████████████████████████████| 2.0 MB 39.9 MB/s \n",
            "\u001b[?25hCollecting coincurve<18,>=13\n",
            "  Downloading coincurve-17.0.0-cp37-cp37m-manylinux_2_17_x86_64.manylinux2014_x86_64.whl (1.3 MB)\n",
            "\u001b[K     |████████████████████████████████| 1.3 MB 44.5 MB/s \n",
            "\u001b[?25hCollecting eth-utils<3.0.0,>=2.0.0\n",
            "  Downloading eth_utils-2.0.0-py3-none-any.whl (24 kB)\n",
            "Collecting eth-typing<4,>=3.0.0\n",
            "  Downloading eth_typing-3.0.0-py3-none-any.whl (6.2 kB)\n",
            "Requirement already satisfied: cffi>=1.3.0 in /usr/local/lib/python3.7/dist-packages (from coincurve<18,>=13->eciespy) (1.15.0)\n",
            "Collecting asn1crypto\n",
            "  Downloading asn1crypto-1.5.1-py2.py3-none-any.whl (105 kB)\n",
            "\u001b[K     |████████████████████████████████| 105 kB 38.6 MB/s \n",
            "\u001b[?25hRequirement already satisfied: pycparser in /usr/local/lib/python3.7/dist-packages (from cffi>=1.3.0->coincurve<18,>=13->eciespy) (2.21)\n",
            "Collecting eth-hash<0.4.0,>=0.3.1\n",
            "  Downloading eth_hash-0.3.2-py3-none-any.whl (8.8 kB)\n",
            "Collecting cytoolz<1.0.0,>=0.10.1\n",
            "  Downloading cytoolz-0.11.2.tar.gz (481 kB)\n",
            "\u001b[K     |████████████████████████████████| 481 kB 49.3 MB/s \n",
            "\u001b[?25hRequirement already satisfied: toolz>=0.8.0 in /usr/local/lib/python3.7/dist-packages (from cytoolz<1.0.0,>=0.10.1->eth-utils<3.0.0,>=2.0.0->eth_keys) (0.11.2)\n",
            "Building wheels for collected packages: cytoolz, qrcode\n",
            "  Building wheel for cytoolz (setup.py) ... \u001b[?25l\u001b[?25hdone\n",
            "  Created wheel for cytoolz: filename=cytoolz-0.11.2-cp37-cp37m-linux_x86_64.whl size=1236725 sha256=8073e72465b3dd4da37d4d3bc99953e5619cf677fe91c5fba6605d48c32d6643\n",
            "  Stored in directory: /root/.cache/pip/wheels/38/70/71/ca13ea3d36ccd0b3d0ec7d7a4ca67522048d695b556bba4f59\n",
            "  Building wheel for qrcode (setup.py) ... \u001b[?25l\u001b[?25hdone\n",
            "  Created wheel for qrcode: filename=qrcode-7.3.1-py3-none-any.whl size=40402 sha256=8b075931a5aa1ccb614c320b8364567640d2a1804860c171a8e5122e27fd37fb\n",
            "  Stored in directory: /root/.cache/pip/wheels/93/d7/39/a4111be2cfb8e679938aa671a37888b6afb1f9e7d748e94492\n",
            "Successfully built cytoolz qrcode\n",
            "Installing collected packages: eth-typing, eth-hash, cytoolz, eth-utils, asn1crypto, pycryptodome, eth-keys, coincurve, qrcode, eciespy, cryptos\n",
            "Successfully installed asn1crypto-1.5.1 coincurve-17.0.0 cryptos-1.36 cytoolz-0.11.2 eciespy-0.3.12 eth-hash-0.3.2 eth-keys-0.4.0 eth-typing-3.0.0 eth-utils-2.0.0 pycryptodome-3.14.1 qrcode-7.3.1\n",
            "Cloning into 'Colegio_Invisible'...\n",
            "remote: Enumerating objects: 1236, done.\u001b[K\n",
            "remote: Counting objects: 100% (106/106), done.\u001b[K\n",
            "remote: Compressing objects: 100% (103/103), done.\u001b[K\n",
            "remote: Total 1236 (delta 68), reused 0 (delta 0), pack-reused 1130\u001b[K\n",
            "Receiving objects: 100% (1236/1236), 137.57 MiB | 32.88 MiB/s, done.\n",
            "Resolving deltas: 100% (851/851), done.\n"
          ]
        }
      ],
      "source": [
        "! pip install eciespy eth_keys cryptos qrcode\n",
        "! git clone https://github.com/ProfDoeg/Colegio_Invisible.git\n",
        "! cp Colegio_Invisible/modules/colegio_tools.py colegio_tools.py"
      ]
    },
    {
      "cell_type": "code",
      "source": [
        "from colegio_tools import *"
      ],
      "metadata": {
        "id": "4EH5rI0eTup6"
      },
      "execution_count": 4,
      "outputs": []
    },
    {
      "cell_type": "markdown",
      "source": [
        "# Now We Have Colegio Tools"
      ],
      "metadata": {
        "id": "9sle-DZ9UKGi"
      }
    },
    {
      "cell_type": "markdown",
      "source": [
        "## Load Real Keys"
      ],
      "metadata": {
        "id": "1EKLOFme-8PH"
      }
    },
    {
      "cell_type": "code",
      "source": [
        "from google.colab import drive\n",
        "drive.mount('/content/drive')"
      ],
      "metadata": {
        "id": "lygP0eiD-7HW",
        "colab": {
          "base_uri": "https://localhost:8080/"
        },
        "outputId": "db2e8fbe-2858-45f1-8693-99a4e8a66767"
      },
      "execution_count": 5,
      "outputs": [
        {
          "output_type": "stream",
          "name": "stdout",
          "text": [
            "Mounted at /content/drive\n"
          ]
        }
      ]
    },
    {
      "cell_type": "code",
      "source": [
        "! cp drive/MyDrive/cinv/llaves.zip llaves.zip \n",
        "! unzip llaves.zip"
      ],
      "metadata": {
        "id": "wMysZY0d-7D9",
        "colab": {
          "base_uri": "https://localhost:8080/"
        },
        "outputId": "5e6c0759-3816-4661-d8f0-ae477ea766aa"
      },
      "execution_count": 6,
      "outputs": [
        {
          "output_type": "stream",
          "name": "stdout",
          "text": [
            "Archive:  llaves.zip\n",
            "   creating: llaves/\n",
            " extracting: llaves/mi_addr.bin      \n",
            " extracting: llaves/mi_addr.png      \n",
            " extracting: llaves/mi_pub.bin       \n",
            " extracting: llaves/mi_prv.enc       \n"
          ]
        }
      ]
    },
    {
      "cell_type": "code",
      "source": [
        "my_qr=IPython.display.Image('llaves/mi_addr.png')\n",
        "my_privKey=import_privKey('llaves/mi_prv.enc','')\n",
        "my_pub=import_pubKey('llaves/mi_pub.bin')\n",
        "my_addr=import_addr('llaves/mi_addr.bin')\n",
        "\n",
        "display(my_qr)\n",
        "print('*'*50)\n",
        "print('PUBLIC:',my_pub)\n",
        "print('ADDR:',my_addr)\n",
        "\n",
        "import cryptos\n",
        "doge=cryptos.Doge()\n",
        "\n",
        "doge_unspents=doge.unspent(my_addr) \n",
        "doge_unspent_total=sum([unspent['value'] for unspent in doge_unspents])\n",
        "\n",
        "print('*'*50)\n",
        "print('BALANCE:\\t',doge_unspent_total/10**8)\n",
        "print('NUM_UTXO:\\t',len(doge_unspents))\n",
        "print('*'*50)"
      ],
      "metadata": {
        "id": "gxyqvA0R-V6T",
        "colab": {
          "base_uri": "https://localhost:8080/",
          "height": 307
        },
        "outputId": "7f9cb1be-a499-4c09-a218-82b3b6fd6730"
      },
      "execution_count": 7,
      "outputs": [
        {
          "output_type": "display_data",
          "data": {
            "text/plain": [
              "<IPython.core.display.Image object>"
            ],
            "image/png": "[encoded data removed]"
          },
          "metadata": {}
        },
        {
          "output_type": "stream",
          "name": "stdout",
          "text": [
            "**************************************************\n",
            "PUBLIC: 0x7c88e9a4df6e9f45656c10bf66f28e28be235a15b64820b254f1b9eb2738314e6769f5c94da0c7640ffe76dcffca053b07a0804cd53a1c51ad03bfe0133ce8c5\n",
            "ADDR: D6zKNnkupqRbkB9p5rwix8QiobQWJazjyX\n",
            "**************************************************\n",
            "BALANCE:\t 1161.917069\n",
            "NUM_UTXO:\t 2\n",
            "**************************************************\n"
          ]
        }
      ]
    },
    {
      "cell_type": "markdown",
      "source": [
        "# Accessing Encypted Files From Blockchain\n",
        "\n",
        "We will be accessing an encrypted color image file woven from transaction:\n",
        "\n",
        "```d0209a0f85872d6826c58bc23fab37c8b21feb22c15a5a6469f45358fb78ba41```\n",
        "\n",
        "Remeber the header data contains the following:\n",
        "```text\n",
        "b'\\xc1\\xdd\\x00\\x01\\x0e\\x03\\x01'+length_bytes+width_bytes+bitnum_bytes+recip_bytes... + some_text_bytes\n",
        "```"
      ],
      "metadata": {
        "id": "4PQwSkjTFOti"
      }
    },
    {
      "cell_type": "code",
      "source": [
        "Txn='d0209a0f85872d6826c58bc23fab37c8b21feb22c15a5a6469f45358fb78ba41'\n",
        "\n",
        "(head_d02,bytes_d02)=read_cadenas(Txn)\n",
        "\n",
        "num_keys=int(head_d02[24:26])\n",
        "zipkeys=[bytes_d02[i*64:i*64+64] for i in range(num_keys) ]\n",
        "zipdata=bytes_d02[num_keys*64:]\n",
        "print('HEADER:',head_d02)\n",
        "\n",
        "txn_pub_hex=get_txn_pub(Txn)\n",
        "print('AUTHOR:',txn_pub_hex)\n",
        "print('NUM_RECIP:',num_keys)"
      ],
      "metadata": {
        "id": "sqh9iLM8CEWy"
      },
      "execution_count": null,
      "outputs": []
    },
    {
      "cell_type": "code",
      "source": [
        "N=0\n",
        "\n",
        "txn_pubKey=eth_keys.keys.PublicKey(bytes.fromhex(txn_pub_hex))\n",
        "my_shared_key=shared_key(my_privKey,txn_pubKey)\n",
        "ses_kee=ecies.aes_decrypt(my_shared_key,zipkeys[N])\n",
        "data_do2=ecies.aes_decrypt(ses_kee,zipdata)\n",
        "array_do2=read_image_data(head_d02,data_do2)\n",
        "\n",
        "Image.fromarray(array_do2)"
      ],
      "metadata": {
        "id": "2MpKHnyfFfxx"
      },
      "execution_count": null,
      "outputs": []
    },
    {
      "cell_type": "code",
      "source": [
        "\n",
        "(d68_head,d68_array)=array_dec_from_txn('d68175766b70f7163aec93e5a4e81480a6c6dd51d0577319d6f3392e8725f53b',my_privKey,0)\n",
        "Image.fromarray(d68_array)"
      ],
      "metadata": {
        "id": "JlCv9OQFC4fE"
      },
      "execution_count": null,
      "outputs": []
    },
    {
      "cell_type": "markdown",
      "source": [
        "# Key Drop\n",
        "\n",
        "Create Transaction with op_return \n",
        "\n",
        "For key drop header is:\n",
        "\n",
        "```text\n",
        "b'\\xc1\\xdd\\x00\\x01\\x0e\\x0e\\x0d'+text_bytes\n",
        "```\n",
        "and body is:\n",
        "```\n",
        "enc_txid_bytes+aes_key_bytes\n",
        "```\n"
      ],
      "metadata": {
        "id": "XWRfPGKb6xlO"
      }
    },
    {
      "cell_type": "code",
      "source": [
        "drop_header=b'\\xc1\\xdd\\x00\\x01\\x0e\\x0e\\x0d'+b'|Release something glorious to the world|'\n",
        "enc_txid_bytes=bytes.fromhex('d0209a0f85872d6826c58bc23fab37c8b21feb22c15a5a6469f45358fb78ba41')\n",
        "aes_key_bytes=ses_kee\n",
        "drop_package=[drop_header]+[enc_txid_bytes+aes_key_bytes]\n",
        "print(drop_package)"
      ],
      "metadata": {
        "id": "19-gAEzadmxw"
      },
      "execution_count": null,
      "outputs": []
    },
    {
      "cell_type": "code",
      "source": [
        "#prepare\n",
        "tip=1_00_000_000\n",
        "available=doge_unspent_total-tip\n",
        "gift=int(available/len(drop_package))\n",
        "outputs=[{'value':gift , 'address': my_addr} for i in range(len(drop_package))]\n",
        "setup_tx=doge.mktx(doge_unspents,outputs)\n",
        "print(gift/100_000_000)\n",
        "print(len(outputs))"
      ],
      "metadata": {
        "id": "NC1KXOsCdzbO"
      },
      "execution_count": null,
      "outputs": []
    },
    {
      "cell_type": "code",
      "source": [
        "doge.signall(setup_tx,my_privKey.to_hex()[2:])"
      ],
      "metadata": {
        "id": "EuSH9Wfq-V-S"
      },
      "execution_count": null,
      "outputs": []
    },
    {
      "cell_type": "code",
      "source": [
        "tip/(len(cryptos.serialize(setup_tx))/2)/100000"
      ],
      "metadata": {
        "id": "tex_gHdx-zwa"
      },
      "execution_count": null,
      "outputs": []
    },
    {
      "cell_type": "code",
      "source": [
        "funding=doge.pushtx(cryptos.serialize(setup_tx))\n",
        "funding"
      ],
      "metadata": {
        "id": "USyTpmdO-4oe"
      },
      "execution_count": null,
      "outputs": []
    },
    {
      "cell_type": "code",
      "source": [
        "drop_txid='89b51b4852b0e80f49cdb229d85ef4757d943c9fe4ba62e39e886f31c70142c4'"
      ],
      "metadata": {
        "id": "mMyXsSYkD5YR"
      },
      "execution_count": null,
      "outputs": []
    },
    {
      "cell_type": "code",
      "source": [
        "doge.fetchtx(funding['data']['txid'])['confirmations']"
      ],
      "metadata": {
        "id": "00cU92PnEopf"
      },
      "execution_count": null,
      "outputs": []
    },
    {
      "cell_type": "code",
      "source": [
        "drop_unspents=doge.unspent(my_addr)\n",
        "drop_unspents"
      ],
      "metadata": {
        "id": "aYDNHS68EwPA"
      },
      "execution_count": null,
      "outputs": []
    },
    {
      "cell_type": "code",
      "source": [
        "cadenas=[ Cadena(my_privKey.to_hex()[2:],*datum_utxo,100_000_000)for datum_utxo in zip(drop_package,drop_unspents) ]"
      ],
      "metadata": {
        "id": "0Xz_kG7hFOmZ"
      },
      "execution_count": null,
      "outputs": []
    },
    {
      "cell_type": "code",
      "source": [
        "import time\n",
        "\n",
        "height=doge.current_block_height()-1\n",
        "print(height)\n",
        "while True:\n",
        "  check_height=doge.current_block_height()\n",
        "  if check_height>height:\n",
        "    height=check_height\n",
        "    print(height)\n",
        "    #[cad.make_tx() for cad in cadenas if cad.state=='CONF'];\n",
        "    #[cad.broadcast() for cad in cadenas if cad.state=='READY'];\n",
        "    [cad.update() for cad in cadenas if cad.state=='SENT'];\n",
        "    [cad.make_tx() for cad in cadenas if cad.state=='CONF'];\n",
        "    [cad.broadcast() for cad in cadenas if cad.state=='READY'];\n",
        "    print([cad.state for cad in cadenas])\n",
        "    if all([cad.state=='DONE' for cad in cadenas]):\n",
        "      break\n",
        "  time.sleep(10)"
      ],
      "metadata": {
        "id": "JcGMQ30_FmLu"
      },
      "execution_count": null,
      "outputs": []
    },
    {
      "cell_type": "markdown",
      "source": [
        "# Now We Have a Txn_id for the KeyDrop\n",
        "\n",
        "```\n",
        "89b51b4852b0e80f49cdb229d85ef4757d943c9fe4ba62e39e886f31c70142c4\n",
        "```\n",
        "\n",
        "We can use this to access the header and data"
      ],
      "metadata": {
        "id": "uOXDgmbsGnrO"
      }
    },
    {
      "cell_type": "code",
      "source": [
        "drop_txid"
      ],
      "metadata": {
        "id": "ChL2mGmQIZkG"
      },
      "execution_count": null,
      "outputs": []
    },
    {
      "cell_type": "code",
      "source": [
        "#drop_txid='89b51b4852b0e80f49cdb229d85ef4757d943c9fe4ba62e39e886f31c70142c4'"
      ],
      "metadata": {
        "id": "bszPnWQcIazo"
      },
      "execution_count": null,
      "outputs": []
    },
    {
      "cell_type": "code",
      "source": [
        "(head_89b,body_89b)=read_cadenas(drop_txid)"
      ],
      "metadata": {
        "id": "RQwjhqDlGDwT"
      },
      "execution_count": null,
      "outputs": []
    },
    {
      "cell_type": "code",
      "source": [
        "droplock_id=body_89b[:32]\n",
        "drop_key=body_89b[32:]"
      ],
      "metadata": {
        "id": "BQ4-hKzqIump"
      },
      "execution_count": null,
      "outputs": []
    },
    {
      "cell_type": "code",
      "source": [
        "(head_lock,body_lock)=read_cadenas(droplock_id.hex())"
      ],
      "metadata": {
        "id": "xgcH4q6bNSkW"
      },
      "execution_count": null,
      "outputs": []
    },
    {
      "cell_type": "code",
      "source": [
        "num_keys=int(head_lock[24:26])\n",
        "body_unlock=ecies.aes_decrypt(drop_key,body_lock[num_keys*64:])"
      ],
      "metadata": {
        "id": "bvixKsb_NkCM"
      },
      "execution_count": 53,
      "outputs": []
    },
    {
      "cell_type": "code",
      "source": [
        "array_lock=read_image_data(head_lock,body_unlock)\n",
        "\n",
        "Image.fromarray(array_lock)"
      ],
      "metadata": {
        "id": "JUVfjaI0PmC3"
      },
      "execution_count": null,
      "outputs": []
    },
    {
      "cell_type": "code",
      "source": [
        "def read_array_drop(txid):\n",
        "  (head_x,body_x)=read_cadenas(txid)\n",
        "  dropL_id=body_x[:32]\n",
        "  drop_K=body_x[32:]\n",
        "  (head_L,body_L)=read_cadenas(dropL_id.hex())\n",
        "  num_keys=int(head_L[24:26])\n",
        "  body_UL=ecies.aes_decrypt(drop_K,body_L[num_keys*64:])\n",
        "  return read_image_data(head_L,body_UL)"
      ],
      "metadata": {
        "id": "RIuPwXRfRCA6"
      },
      "execution_count": 10,
      "outputs": []
    },
    {
      "cell_type": "code",
      "source": [
        "array_secret=read_array_drop('89b51b4852b0e80f49cdb229d85ef4757d943c9fe4ba62e39e886f31c70142c4')\n",
        "Image.fromarray(array_secret)"
      ],
      "metadata": {
        "id": "9MfAnU7qfMr0",
        "outputId": "e9115a57-4e48-4f08-99d8-8571f0508c10",
        "colab": {
          "base_uri": "https://localhost:8080/",
          "height": 163
        }
      },
      "execution_count": 11,
      "outputs": [
        {
          "output_type": "stream",
          "name": "stdout",
          "text": [
            "3 64 128 5\n"
          ]
        },
        {
          "output_type": "execute_result",
          "data": {
            "text/plain": [
              "<PIL.Image.Image image mode=RGB size=64x128 at 0x7FA04A238890>"
            ],
            "image/png": "[encoded data removed]"
          },
          "metadata": {},
          "execution_count": 11
        }
      ]
    },
    {
      "cell_type": "code",
      "source": [
        ""
      ],
      "metadata": {
        "id": "pW9FMPywfnPk"
      },
      "execution_count": null,
      "outputs": []
    }
  ]
}