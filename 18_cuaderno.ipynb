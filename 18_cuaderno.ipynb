{
  "nbformat": 4,
  "nbformat_minor": 0,
  "metadata": {
    "colab": {
      "name": "18_cuaderno.ipynb",
      "provenance": [],
      "authorship_tag": "ABX9TyNBcHrJf1W7vor+YnpXPqLI",
      "include_colab_link": true
    },
    "kernelspec": {
      "name": "python3",
      "display_name": "Python 3"
    },
    "language_info": {
      "name": "python"
    }
  },
  "cells": [
    {
      "cell_type": "markdown",
      "metadata": {
        "id": "view-in-github",
        "colab_type": "text"
      },
      "source": [
        "<a href=\"https://colab.research.google.com/github/ProfDoeg/Colegio_Invisible/blob/main/18_cuaderno.ipynb\" target=\"_parent\"><img src=\"https://colab.research.google.com/assets/colab-badge.svg\" alt=\"Open In Colab\"/></a>"
      ]
    },
    {
      "cell_type": "code",
      "execution_count": null,
      "metadata": {
        "id": "QU-j-ie4xl3n"
      },
      "outputs": [],
      "source": [
        "! pip install eciespy eth_keys cryptos qrcode\n",
        "! git clone https://github.com/ProfDoeg/Colegio_Invisible.git\n",
        "! cp Colegio_Invisible/modules/colegio_tools.py colegio_tools.py"
      ]
    },
    {
      "cell_type": "code",
      "source": [
        "from colegio_tools import *"
      ],
      "metadata": {
        "id": "4EH5rI0eTup6"
      },
      "execution_count": null,
      "outputs": []
    },
    {
      "cell_type": "markdown",
      "source": [
        "# Now We Have Colegio Tools"
      ],
      "metadata": {
        "id": "9sle-DZ9UKGi"
      }
    },
    {
      "cell_type": "markdown",
      "source": [
        "## Load Real Keys"
      ],
      "metadata": {
        "id": "1EKLOFme-8PH"
      }
    },
    {
      "cell_type": "code",
      "source": [
        "from google.colab import drive\n",
        "drive.mount('/content/drive')"
      ],
      "metadata": {
        "id": "lygP0eiD-7HW"
      },
      "execution_count": null,
      "outputs": []
    },
    {
      "cell_type": "code",
      "source": [
        "! cp drive/MyDrive/cinv/llaves.zip llaves.zip \n",
        "! unzip llaves.zip"
      ],
      "metadata": {
        "id": "wMysZY0d-7D9"
      },
      "execution_count": null,
      "outputs": []
    },
    {
      "cell_type": "code",
      "source": [
        "my_qr=IPython.display.Image('llaves/mi_addr.png')\n",
        "my_privKey=import_privKey('llaves/mi_prv.enc','')\n",
        "my_pub=import_pubKey('llaves/mi_pub.bin')\n",
        "my_addr=import_addr('llaves/mi_addr.bin')\n",
        "\n",
        "display(my_qr)\n",
        "print('*'*50)\n",
        "print('PUBLIC:',my_pub)\n",
        "print('ADDR:',my_addr)\n",
        "\n",
        "import cryptos\n",
        "doge=cryptos.Doge()\n",
        "\n",
        "doge_unspents=doge.unspent(my_addr) \n",
        "doge_unspent_total=sum([unspent['value'] for unspent in doge_unspents])\n",
        "\n",
        "print('*'*50)\n",
        "print('BALANCE:\\t',doge_unspent_total/10**8)\n",
        "print('NUM_UTXO:\\t',len(doge_unspents))\n",
        "print('*'*50)"
      ],
      "metadata": {
        "id": "gxyqvA0R-V6T"
      },
      "execution_count": null,
      "outputs": []
    },
    {
      "cell_type": "markdown",
      "source": [
        "# Accessing Encypted Files From Blockchain\n",
        "\n",
        "We will be accessing an encrypted color image file woven from transaction:\n",
        "\n",
        "```d0209a0f85872d6826c58bc23fab37c8b21feb22c15a5a6469f45358fb78ba41```\n",
        "\n",
        "Remeber the header data contains the following:\n",
        "```text\n",
        "b'\\xc1\\xdd\\x00\\x01\\x0e\\x03\\x01'+length_bytes+width_bytes+bitnum_bytes+recip_bytes... + some_text_bytes\n",
        "```"
      ],
      "metadata": {
        "id": "4PQwSkjTFOti"
      }
    },
    {
      "cell_type": "code",
      "source": [
        "Txn='d0209a0f85872d6826c58bc23fab37c8b21feb22c15a5a6469f45358fb78ba41'\n",
        "\n",
        "(head_d02,bytes_d02)=read_cadenas(Txn)\n",
        "\n",
        "num_keys=int(head_d02[24:26])\n",
        "zipkeys=[bytes_d02[i*64:i*64+64] for i in range(num_keys) ]\n",
        "zipdata=bytes_d02[num_keys*64:]\n",
        "print('HEADER:',head_d02)\n",
        "\n",
        "txn_pub_hex=get_txn_pub(Txn)\n",
        "print('AUTHOR:',txn_pub_hex)\n",
        "print('NUM_RECIP:',num_keys)"
      ],
      "metadata": {
        "id": "sqh9iLM8CEWy"
      },
      "execution_count": null,
      "outputs": []
    },
    {
      "cell_type": "code",
      "source": [
        "N=0\n",
        "\n",
        "txn_pubKey=eth_keys.keys.PublicKey(bytes.fromhex(txn_pub_hex))\n",
        "my_shared_key=shared_key(my_privKey,txn_pubKey)\n",
        "ses_kee=ecies.aes_decrypt(my_shared_key,zipkeys[N])\n",
        "data_do2=ecies.aes_decrypt(ses_kee,zipdata)\n",
        "array_do2=read_image_data(head_d02,data_do2)\n",
        "\n",
        "Image.fromarray(array_do2)"
      ],
      "metadata": {
        "id": "2MpKHnyfFfxx"
      },
      "execution_count": null,
      "outputs": []
    },
    {
      "cell_type": "code",
      "source": [
        "\n",
        "(d68_head,d68_array)=array_dec_from_txn('d68175766b70f7163aec93e5a4e81480a6c6dd51d0577319d6f3392e8725f53b',my_privKey,0)\n",
        "Image.fromarray(d68_array)"
      ],
      "metadata": {
        "id": "JlCv9OQFC4fE"
      },
      "execution_count": null,
      "outputs": []
    },
    {
      "cell_type": "markdown",
      "source": [
        "# Key Drop\n",
        "\n",
        "Create Transaction with op_return \n",
        "\n",
        "For key drop header is:\n",
        "\n",
        "```text\n",
        "b'\\xc1\\xdd\\x00\\x01\\x0e\\x0e\\x0d'+text_bytes\n",
        "```\n",
        "and body is:\n",
        "```\n",
        "enc_txid_bytes+aes_key_bytes\n",
        "```\n"
      ],
      "metadata": {
        "id": "XWRfPGKb6xlO"
      }
    },
    {
      "cell_type": "code",
      "source": [
        "drop_header=b'\\xc1\\xdd\\x00\\x01\\x0e\\x0e\\x0d'+b'|Release something glorious to the world|'\n",
        "enc_txid_bytes=bytes.fromhex('d0209a0f85872d6826c58bc23fab37c8b21feb22c15a5a6469f45358fb78ba41')\n",
        "aes_key_bytes=ses_kee\n",
        "drop_package=[drop_header]+[enc_txid_bytes+aes_key_bytes]\n",
        "print(drop_package)"
      ],
      "metadata": {
        "id": "19-gAEzadmxw"
      },
      "execution_count": null,
      "outputs": []
    },
    {
      "cell_type": "code",
      "source": [
        "#prepare\n",
        "tip=1_00_000_000\n",
        "available=doge_unspent_total-tip\n",
        "gift=int(available/len(drop_package))\n",
        "outputs=[{'value':gift , 'address': my_addr} for i in range(len(drop_package))]\n",
        "setup_tx=doge.mktx(doge_unspents,outputs)\n",
        "print(gift/100_000_000)\n",
        "print(len(outputs))"
      ],
      "metadata": {
        "id": "NC1KXOsCdzbO"
      },
      "execution_count": null,
      "outputs": []
    },
    {
      "cell_type": "code",
      "source": [
        "doge.signall(setup_tx,my_privKey.to_hex()[2:])"
      ],
      "metadata": {
        "id": "EuSH9Wfq-V-S"
      },
      "execution_count": null,
      "outputs": []
    },
    {
      "cell_type": "code",
      "source": [
        "tip/(len(cryptos.serialize(setup_tx))/2)/100000"
      ],
      "metadata": {
        "id": "tex_gHdx-zwa"
      },
      "execution_count": null,
      "outputs": []
    },
    {
      "cell_type": "code",
      "source": [
        "funding=doge.pushtx(cryptos.serialize(setup_tx))\n",
        "funding"
      ],
      "metadata": {
        "id": "USyTpmdO-4oe"
      },
      "execution_count": null,
      "outputs": []
    },
    {
      "cell_type": "code",
      "source": [
        "drop_txid='89b51b4852b0e80f49cdb229d85ef4757d943c9fe4ba62e39e886f31c70142c4'"
      ],
      "metadata": {
        "id": "mMyXsSYkD5YR"
      },
      "execution_count": null,
      "outputs": []
    },
    {
      "cell_type": "code",
      "source": [
        "doge.fetchtx(funding['data']['txid'])['confirmations']"
      ],
      "metadata": {
        "id": "00cU92PnEopf"
      },
      "execution_count": null,
      "outputs": []
    },
    {
      "cell_type": "code",
      "source": [
        "drop_unspents=doge.unspent(my_addr)\n",
        "drop_unspents"
      ],
      "metadata": {
        "id": "aYDNHS68EwPA"
      },
      "execution_count": null,
      "outputs": []
    },
    {
      "cell_type": "code",
      "source": [
        "cadenas=[ Cadena(my_privKey.to_hex()[2:],*datum_utxo,100_000_000)for datum_utxo in zip(drop_package,drop_unspents) ]"
      ],
      "metadata": {
        "id": "0Xz_kG7hFOmZ"
      },
      "execution_count": null,
      "outputs": []
    },
    {
      "cell_type": "code",
      "source": [
        "import time\n",
        "\n",
        "height=doge.current_block_height()-1\n",
        "print(height)\n",
        "while True:\n",
        "  check_height=doge.current_block_height()\n",
        "  if check_height>height:\n",
        "    height=check_height\n",
        "    print(height)\n",
        "    #[cad.make_tx() for cad in cadenas if cad.state=='CONF'];\n",
        "    #[cad.broadcast() for cad in cadenas if cad.state=='READY'];\n",
        "    [cad.update() for cad in cadenas if cad.state=='SENT'];\n",
        "    [cad.make_tx() for cad in cadenas if cad.state=='CONF'];\n",
        "    [cad.broadcast() for cad in cadenas if cad.state=='READY'];\n",
        "    print([cad.state for cad in cadenas])\n",
        "    if all([cad.state=='DONE' for cad in cadenas]):\n",
        "      break\n",
        "  time.sleep(10)"
      ],
      "metadata": {
        "id": "JcGMQ30_FmLu"
      },
      "execution_count": null,
      "outputs": []
    },
    {
      "cell_type": "markdown",
      "source": [
        "# Now We Have a Txn_id for the KeyDrop\n",
        "\n",
        "```\n",
        "89b51b4852b0e80f49cdb229d85ef4757d943c9fe4ba62e39e886f31c70142c4\n",
        "```\n",
        "\n",
        "We can use this to access the header and data"
      ],
      "metadata": {
        "id": "uOXDgmbsGnrO"
      }
    },
    {
      "cell_type": "code",
      "source": [
        "drop_txid"
      ],
      "metadata": {
        "id": "ChL2mGmQIZkG"
      },
      "execution_count": null,
      "outputs": []
    },
    {
      "cell_type": "code",
      "source": [
        "#drop_txid='89b51b4852b0e80f49cdb229d85ef4757d943c9fe4ba62e39e886f31c70142c4'"
      ],
      "metadata": {
        "id": "bszPnWQcIazo"
      },
      "execution_count": null,
      "outputs": []
    },
    {
      "cell_type": "code",
      "source": [
        "(head_89b,body_89b)=read_cadenas(drop_txid)"
      ],
      "metadata": {
        "id": "RQwjhqDlGDwT"
      },
      "execution_count": null,
      "outputs": []
    },
    {
      "cell_type": "code",
      "source": [
        "droplock_id=body_89b[:32]\n",
        "drop_key=body_89b[32:]"
      ],
      "metadata": {
        "id": "BQ4-hKzqIump"
      },
      "execution_count": null,
      "outputs": []
    },
    {
      "cell_type": "code",
      "source": [
        "(head_lock,body_lock)=read_cadenas(droplock_id.hex())"
      ],
      "metadata": {
        "id": "xgcH4q6bNSkW"
      },
      "execution_count": null,
      "outputs": []
    },
    {
      "cell_type": "code",
      "source": [
        "num_keys=int(head_lock[24:26])\n",
        "body_unlock=ecies.aes_decrypt(drop_key,body_lock[num_keys*64:])"
      ],
      "metadata": {
        "id": "bvixKsb_NkCM"
      },
      "execution_count": 53,
      "outputs": []
    },
    {
      "cell_type": "code",
      "source": [
        "array_lock=read_image_data(head_lock,body_unlock)\n",
        "\n",
        "Image.fromarray(array_lock)"
      ],
      "metadata": {
        "id": "JUVfjaI0PmC3"
      },
      "execution_count": null,
      "outputs": []
    },
    {
      "cell_type": "code",
      "source": [
        ""
      ],
      "metadata": {
        "id": "RIuPwXRfRCA6"
      },
      "execution_count": null,
      "outputs": []
    }
  ]
}