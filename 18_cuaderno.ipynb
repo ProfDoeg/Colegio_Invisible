{
  "nbformat": 4,
  "nbformat_minor": 0,
  "metadata": {
    "colab": {
      "name": "18_cuaderno.ipynb",
      "provenance": [],
      "authorship_tag": "ABX9TyMEtDY2n7AqeHgsMtwR2UGi",
      "include_colab_link": true
    },
    "kernelspec": {
      "name": "python3",
      "display_name": "Python 3"
    },
    "language_info": {
      "name": "python"
    }
  },
  "cells": [
    {
      "cell_type": "markdown",
      "metadata": {
        "id": "view-in-github",
        "colab_type": "text"
      },
      "source": [
        "<a href=\"https://colab.research.google.com/github/ProfDoeg/Colegio_Invisible/blob/main/18_cuaderno.ipynb\" target=\"_parent\"><img src=\"https://colab.research.google.com/assets/colab-badge.svg\" alt=\"Open In Colab\"/></a>"
      ]
    },
    {
      "cell_type": "code",
      "execution_count": 13,
      "metadata": {
        "id": "QU-j-ie4xl3n",
        "colab": {
          "base_uri": "https://localhost:8080/"
        },
        "outputId": "999a03ac-3cbb-4c60-cf5d-29744092aa96"
      },
      "outputs": [
        {
          "output_type": "stream",
          "name": "stdout",
          "text": [
            "Looking in indexes: https://pypi.org/simple, https://us-python.pkg.dev/colab-wheels/public/simple/\n",
            "Requirement already satisfied: eciespy in /usr/local/lib/python3.7/dist-packages (0.3.12)\n",
            "Requirement already satisfied: eth_keys in /usr/local/lib/python3.7/dist-packages (0.4.0)\n",
            "Requirement already satisfied: cryptos in /usr/local/lib/python3.7/dist-packages (1.36)\n",
            "Requirement already satisfied: qrcode in /usr/local/lib/python3.7/dist-packages (7.3.1)\n",
            "Requirement already satisfied: pycryptodome<4.0.0,>=3.14.1 in /usr/local/lib/python3.7/dist-packages (from eciespy) (3.14.1)\n",
            "Requirement already satisfied: coincurve<18,>=13 in /usr/local/lib/python3.7/dist-packages (from eciespy) (17.0.0)\n",
            "Requirement already satisfied: eth-utils<3.0.0,>=2.0.0 in /usr/local/lib/python3.7/dist-packages (from eth_keys) (2.0.0)\n",
            "Requirement already satisfied: eth-typing<4,>=3.0.0 in /usr/local/lib/python3.7/dist-packages (from eth_keys) (3.0.0)\n",
            "Requirement already satisfied: asn1crypto in /usr/local/lib/python3.7/dist-packages (from coincurve<18,>=13->eciespy) (1.5.1)\n",
            "Requirement already satisfied: cffi>=1.3.0 in /usr/local/lib/python3.7/dist-packages (from coincurve<18,>=13->eciespy) (1.15.0)\n",
            "Requirement already satisfied: pycparser in /usr/local/lib/python3.7/dist-packages (from cffi>=1.3.0->coincurve<18,>=13->eciespy) (2.21)\n",
            "Requirement already satisfied: eth-hash<0.4.0,>=0.3.1 in /usr/local/lib/python3.7/dist-packages (from eth-utils<3.0.0,>=2.0.0->eth_keys) (0.3.2)\n",
            "Requirement already satisfied: cytoolz<1.0.0,>=0.10.1 in /usr/local/lib/python3.7/dist-packages (from eth-utils<3.0.0,>=2.0.0->eth_keys) (0.11.2)\n",
            "Requirement already satisfied: toolz>=0.8.0 in /usr/local/lib/python3.7/dist-packages (from cytoolz<1.0.0,>=0.10.1->eth-utils<3.0.0,>=2.0.0->eth_keys) (0.11.2)\n",
            "fatal: destination path 'Colegio_Invisible' already exists and is not an empty directory.\n"
          ]
        }
      ],
      "source": [
        "! pip install eciespy eth_keys cryptos qrcode\n",
        "! git clone https://github.com/ProfDoeg/Colegio_Invisible.git\n",
        "! cp Colegio_Invisible/modules/colegio_tools.py colegio_tools.py"
      ]
    },
    {
      "cell_type": "code",
      "source": [
        "from colegio_tools import *"
      ],
      "metadata": {
        "id": "4EH5rI0eTup6"
      },
      "execution_count": 14,
      "outputs": []
    },
    {
      "cell_type": "markdown",
      "source": [
        "# Now We Have Colegio Tools"
      ],
      "metadata": {
        "id": "9sle-DZ9UKGi"
      }
    },
    {
      "cell_type": "markdown",
      "source": [
        "## Load Real Keys"
      ],
      "metadata": {
        "id": "1EKLOFme-8PH"
      }
    },
    {
      "cell_type": "code",
      "source": [
        "from google.colab import drive\n",
        "drive.mount('/content/drive')"
      ],
      "metadata": {
        "id": "lygP0eiD-7HW"
      },
      "execution_count": null,
      "outputs": []
    },
    {
      "cell_type": "code",
      "source": [
        "! cp drive/MyDrive/cinv/llaves.zip llaves.zip \n",
        "! unzip llaves.zip"
      ],
      "metadata": {
        "id": "wMysZY0d-7D9",
        "colab": {
          "base_uri": "https://localhost:8080/"
        },
        "outputId": "d3ab34b0-0a75-4655-fa3b-2fc13e2d8093"
      },
      "execution_count": 15,
      "outputs": [
        {
          "output_type": "stream",
          "name": "stdout",
          "text": [
            "Archive:  llaves.zip\n",
            "replace llaves/mi_addr.bin? [y]es, [n]o, [A]ll, [N]one, [r]ename: A\n",
            " extracting: llaves/mi_addr.bin      \n",
            " extracting: llaves/mi_addr.png      \n",
            " extracting: llaves/mi_pub.bin       \n",
            " extracting: llaves/mi_prv.enc       \n"
          ]
        }
      ]
    },
    {
      "cell_type": "code",
      "source": [
        "my_qr=IPython.display.Image('llaves/mi_addr.png')\n",
        "my_privKey=import_privKey('llaves/mi_prv.enc','')\n",
        "my_pub=import_pubKey('llaves/mi_pub.bin')\n",
        "my_addr=import_addr('llaves/mi_addr.bin')\n",
        "\n",
        "display(my_qr)\n",
        "print('*'*50)\n",
        "print('PUBLIC:',my_pub)\n",
        "print('ADDR:',my_addr)\n",
        "\n",
        "import cryptos\n",
        "doge=cryptos.Doge()\n",
        "\n",
        "doge_unspents=doge.unspent(my_addr) \n",
        "doge_unspent_total=sum([unspent['value'] for unspent in doge_unspents])\n",
        "\n",
        "print('*'*50)\n",
        "print('BALANCE:\\t',doge_unspent_total/10**8)\n",
        "print('NUM_UTXO:\\t',len(doge_unspents))\n",
        "print('*'*50)"
      ],
      "metadata": {
        "id": "gxyqvA0R-V6T",
        "colab": {
          "base_uri": "https://localhost:8080/",
          "height": 307
        },
        "outputId": "bfb99e50-47bf-48ec-f993-d3e59c5e2387"
      },
      "execution_count": 16,
      "outputs": [
        {
          "output_type": "display_data",
          "data": {
            "text/plain": [
              "<IPython.core.display.Image object>"
            ],
            "image/png": "[encoded data removed]"
          },
          "metadata": {}
        },
        {
          "output_type": "stream",
          "name": "stdout",
          "text": [
            "**************************************************\n",
            "PUBLIC: 0x7c88e9a4df6e9f45656c10bf66f28e28be235a15b64820b254f1b9eb2738314e6769f5c94da0c7640ffe76dcffca053b07a0804cd53a1c51ad03bfe0133ce8c5\n",
            "ADDR: D6zKNnkupqRbkB9p5rwix8QiobQWJazjyX\n",
            "**************************************************\n",
            "BALANCE:\t 1164.917069\n",
            "NUM_UTXO:\t 1\n",
            "**************************************************\n"
          ]
        }
      ]
    },
    {
      "cell_type": "markdown",
      "source": [
        "# Accessing Encypted Files From Blockchain\n",
        "\n",
        "We will be accessing an encrypted color image file woven from transaction:\n",
        "\n",
        "```d0209a0f85872d6826c58bc23fab37c8b21feb22c15a5a6469f45358fb78ba41```\n",
        "\n",
        "Remeber the header data contains the following:\n",
        "```text\n",
        "b'\\xc1\\xdd\\x00\\x01\\x0e\\x03\\x01'+length_bytes+width_bytes+bitnum_bytes+recip_bytes... + some_text_bytes\n",
        "```"
      ],
      "metadata": {
        "id": "4PQwSkjTFOti"
      }
    },
    {
      "cell_type": "code",
      "source": [
        "Txn='d0209a0f85872d6826c58bc23fab37c8b21feb22c15a5a6469f45358fb78ba41'\n",
        "\n",
        "(head_d02,bytes_d02)=read_cadenas(Txn)\n",
        "\n",
        "num_keys=int(head_d02[24:26])\n",
        "zipkeys=[bytes_d02[i*64:i*64+64] for i in range(num_keys) ]\n",
        "zipdata=bytes_d02[num_keys*64:]\n",
        "print('HEADER:',head_d02)\n",
        "\n",
        "txn_pub_hex=get_txn_pub(Txn)\n",
        "print('AUTHOR:',txn_pub_hex)\n",
        "print('NUM_RECIP:',num_keys)"
      ],
      "metadata": {
        "id": "sqh9iLM8CEWy",
        "colab": {
          "base_uri": "https://localhost:8080/"
        },
        "outputId": "791bfb6c-466c-4c2d-ae5f-6b53ff161bfc"
      },
      "execution_count": 17,
      "outputs": [
        {
          "output_type": "stream",
          "name": "stdout",
          "text": [
            "HEADER: c1dd00010e03010040008005037c5468697320697320616e20656e6372797074656420696d61676520666f722074776f207370656369616c206c61646965732e2e2e486f6c617c\n",
            "AUTHOR: 7c88e9a4df6e9f45656c10bf66f28e28be235a15b64820b254f1b9eb2738314e6769f5c94da0c7640ffe76dcffca053b07a0804cd53a1c51ad03bfe0133ce8c5\n",
            "NUM_RECIP: 3\n"
          ]
        }
      ]
    },
    {
      "cell_type": "code",
      "source": [
        "N=0\n",
        "\n",
        "txn_pubKey=eth_keys.keys.PublicKey(bytes.fromhex(txn_pub_hex))\n",
        "my_shared_key=shared_key(my_privKey,txn_pubKey)\n",
        "ses_kee=ecies.aes_decrypt(my_shared_key,zipkeys[N])\n",
        "data_do2=ecies.aes_decrypt(ses_kee,zipdata)\n",
        "array_do2=read_image_data(head_d02,data_do2)\n",
        "\n",
        "Image.fromarray(array_do2)"
      ],
      "metadata": {
        "id": "2MpKHnyfFfxx",
        "colab": {
          "base_uri": "https://localhost:8080/",
          "height": 163
        },
        "outputId": "25137ac8-ecf2-4055-df7b-b5550464cf88"
      },
      "execution_count": 18,
      "outputs": [
        {
          "output_type": "stream",
          "name": "stdout",
          "text": [
            "3 64 128 5\n"
          ]
        },
        {
          "output_type": "execute_result",
          "data": {
            "text/plain": [
              "<PIL.Image.Image image mode=RGB size=64x128 at 0x7F4EEC4D0590>"
            ],
            "image/png": "[encoded data removed]"
          },
          "metadata": {},
          "execution_count": 18
        }
      ]
    },
    {
      "cell_type": "code",
      "source": [
        "\n",
        "(d68_head,d68_array)=array_dec_from_txn('d68175766b70f7163aec93e5a4e81480a6c6dd51d0577319d6f3392e8725f53b',my_privKey,0)\n",
        "Image.fromarray(d68_array)"
      ],
      "metadata": {
        "id": "JlCv9OQFC4fE",
        "colab": {
          "base_uri": "https://localhost:8080/",
          "height": 99
        },
        "outputId": "9a66b0f7-1910-45e4-dca1-5fe72eb7f0be"
      },
      "execution_count": 19,
      "outputs": [
        {
          "output_type": "stream",
          "name": "stdout",
          "text": [
            "1 64 64 5\n"
          ]
        },
        {
          "output_type": "execute_result",
          "data": {
            "text/plain": [
              "<PIL.Image.Image image mode=L size=64x64 at 0x7F4EEC526A90>"
            ],
            "image/png": "[encoded data removed]"
          },
          "metadata": {},
          "execution_count": 19
        }
      ]
    },
    {
      "cell_type": "markdown",
      "source": [
        "# Key Drop\n",
        "\n",
        "Create Transaction with op_return \n",
        "\n",
        "For key drop header is:\n",
        "\n",
        "```text\n",
        "b'\\xc1\\xdd\\x00\\x01\\x0e\\x0e\\x0d'+text_bytes\n",
        "```\n",
        "and body is:\n",
        "```\n",
        "enc_txid_bytes+aes_key_bytes\n",
        "```\n"
      ],
      "metadata": {
        "id": "XWRfPGKb6xlO"
      }
    },
    {
      "cell_type": "code",
      "source": [
        "drop_header=b'\\xc1\\xdd\\x00\\x01\\x0e\\x0e\\x0d'+b'|Release something glorious to the world|'\n",
        "enc_txid_bytes=bytes.fromhex('d0209a0f85872d6826c58bc23fab37c8b21feb22c15a5a6469f45358fb78ba41')\n",
        "aes_key_bytes=ses_kee\n",
        "drop_package=[drop_header]+[enc_txid_bytes+aes_key_bytes]\n",
        "print(drop_package)"
      ],
      "metadata": {
        "id": "19-gAEzadmxw",
        "colab": {
          "base_uri": "https://localhost:8080/"
        },
        "outputId": "71a8c932-5e16-46f4-ccad-8cafb5cd5ac3"
      },
      "execution_count": 22,
      "outputs": [
        {
          "output_type": "stream",
          "name": "stdout",
          "text": [
            "[b'\\xc1\\xdd\\x00\\x01\\x0e\\x0e\\r|Release something glorious to the world|', b'\\xd0 \\x9a\\x0f\\x85\\x87-h&\\xc5\\x8b\\xc2?\\xab7\\xc8\\xb2\\x1f\\xeb\"\\xc1ZZdi\\xf4SX\\xfbx\\xbaA\\x184pj\\x14\\xeddl\\xb4\\xcd-Q\\xd1>`y\\x94\\x05^\\xeb\\xa4X\\x1bnS\\x93\\x88\\x9f4\\xc0=]']\n"
          ]
        }
      ]
    },
    {
      "cell_type": "code",
      "source": [
        "#prepare\n",
        "tip=1_00_000_000\n",
        "available=doge_unspent_total-tip\n",
        "gift=int(available/len(drop_package))\n",
        "outputs=[{'value':gift , 'address': my_addr} for i in range(len(drop_package))]\n",
        "setup_tx=doge.mktx(doge_unspents,outputs)\n",
        "print(gift/100_000_000)\n",
        "print(len(outputs))"
      ],
      "metadata": {
        "id": "NC1KXOsCdzbO",
        "colab": {
          "base_uri": "https://localhost:8080/"
        },
        "outputId": "df4aed58-bc3e-4609-9c1b-c505d8697565"
      },
      "execution_count": 26,
      "outputs": [
        {
          "output_type": "stream",
          "name": "stdout",
          "text": [
            "581.9585345\n",
            "2\n"
          ]
        }
      ]
    },
    {
      "cell_type": "code",
      "source": [
        "doge.signall(setup_tx,my_privKey.to_hex()[2:])"
      ],
      "metadata": {
        "id": "EuSH9Wfq-V-S",
        "outputId": "a7aeb5b5-1434-4556-e9f1-9c8559d60ac9",
        "colab": {
          "base_uri": "https://localhost:8080/",
          "height": 71
        }
      },
      "execution_count": 27,
      "outputs": [
        {
          "output_type": "execute_result",
          "data": {
            "text/plain": [
              "'010000000169c7af61b8f895d8e4e11e47cb651afa28e94cbd3b43efccd2019b1275bbf222000000008b483045022100c39299e289a6c2b18cfc4020ee1412bf96397507315e36fc33328d27fc735f9d02202d69a59a28408712b83dbeb670d291fab70f197c2afe8bdb219b8f94ca24c6ac0141047c88e9a4df6e9f45656c10bf66f28e28be235a15b64820b254f1b9eb2738314e6769f5c94da0c7640ffe76dcffca053b07a0804cd53a1c51ad03bfe0133ce8c5ffffffff028a40be8c0d0000001976a914144739367df0ff8d1c61d03704298d49cf93ef3f88ac8a40be8c0d0000001976a914144739367df0ff8d1c61d03704298d49cf93ef3f88ac00000000'"
            ],
            "application/vnd.google.colaboratory.intrinsic+json": {
              "type": "string"
            }
          },
          "metadata": {},
          "execution_count": 27
        }
      ]
    },
    {
      "cell_type": "code",
      "source": [
        "tip/(len(cryptos.serialize(setup_tx))/2)/100000"
      ],
      "metadata": {
        "id": "tex_gHdx-zwa",
        "outputId": "f0bb261c-0783-4d8c-c5a8-6e11ca4366c6",
        "colab": {
          "base_uri": "https://localhost:8080/"
        }
      },
      "execution_count": 28,
      "outputs": [
        {
          "output_type": "execute_result",
          "data": {
            "text/plain": [
              "3.8759689922480622"
            ]
          },
          "metadata": {},
          "execution_count": 28
        }
      ]
    },
    {
      "cell_type": "code",
      "source": [
        "funding=doge.pushtx(cryptos.serialize(setup_tx))\n",
        "funding"
      ],
      "metadata": {
        "id": "USyTpmdO-4oe",
        "outputId": "ac4269d3-6b9a-48cf-e17a-c46d8777b05f",
        "colab": {
          "base_uri": "https://localhost:8080/"
        }
      },
      "execution_count": 29,
      "outputs": [
        {
          "output_type": "execute_result",
          "data": {
            "text/plain": [
              "{'data': {'network': 'DOGE',\n",
              "  'txid': '89b51b4852b0e80f49cdb229d85ef4757d943c9fe4ba62e39e886f31c70142c4'},\n",
              " 'status': 'success'}"
            ]
          },
          "metadata": {},
          "execution_count": 29
        }
      ]
    },
    {
      "cell_type": "code",
      "source": [
        "drop_txid='89b51b4852b0e80f49cdb229d85ef4757d943c9fe4ba62e39e886f31c70142c4'"
      ],
      "metadata": {
        "id": "mMyXsSYkD5YR"
      },
      "execution_count": 30,
      "outputs": []
    },
    {
      "cell_type": "code",
      "source": [
        "doge.fetchtx(funding['data']['txid'])['confirmations']"
      ],
      "metadata": {
        "id": "00cU92PnEopf",
        "outputId": "a8a209ac-8161-404c-d9cc-faef407d7f56",
        "colab": {
          "base_uri": "https://localhost:8080/"
        }
      },
      "execution_count": 35,
      "outputs": [
        {
          "output_type": "execute_result",
          "data": {
            "text/plain": [
              "1"
            ]
          },
          "metadata": {},
          "execution_count": 35
        }
      ]
    },
    {
      "cell_type": "code",
      "source": [
        "drop_unspents=doge.unspent(my_addr)\n",
        "drop_unspents"
      ],
      "metadata": {
        "id": "aYDNHS68EwPA",
        "outputId": "b52979da-5805-460a-ef74-6efe2d1a48c5",
        "colab": {
          "base_uri": "https://localhost:8080/"
        }
      },
      "execution_count": 36,
      "outputs": [
        {
          "output_type": "execute_result",
          "data": {
            "text/plain": [
              "[{'output': '89b51b4852b0e80f49cdb229d85ef4757d943c9fe4ba62e39e886f31c70142c4:0',\n",
              "  'value': 58195853450},\n",
              " {'output': '89b51b4852b0e80f49cdb229d85ef4757d943c9fe4ba62e39e886f31c70142c4:1',\n",
              "  'value': 58195853450}]"
            ]
          },
          "metadata": {},
          "execution_count": 36
        }
      ]
    },
    {
      "cell_type": "code",
      "source": [
        "cadenas=[ Cadena(my_privKey.to_hex()[2:],*datum_utxo,100_000_000)for datum_utxo in zip(drop_package,drop_unspents) ]"
      ],
      "metadata": {
        "id": "0Xz_kG7hFOmZ"
      },
      "execution_count": 37,
      "outputs": []
    },
    {
      "cell_type": "code",
      "source": [
        "import time\n",
        "\n",
        "height=doge.current_block_height()-1\n",
        "print(height)\n",
        "while True:\n",
        "  check_height=doge.current_block_height()\n",
        "  if check_height>height:\n",
        "    height=check_height\n",
        "    print(height)\n",
        "    #[cad.make_tx() for cad in cadenas if cad.state=='CONF'];\n",
        "    #[cad.broadcast() for cad in cadenas if cad.state=='READY'];\n",
        "    [cad.update() for cad in cadenas if cad.state=='SENT'];\n",
        "    [cad.make_tx() for cad in cadenas if cad.state=='CONF'];\n",
        "    [cad.broadcast() for cad in cadenas if cad.state=='READY'];\n",
        "    print([cad.state for cad in cadenas])\n",
        "    if all([cad.state=='DONE' for cad in cadenas]):\n",
        "      break\n",
        "  time.sleep(10)"
      ],
      "metadata": {
        "id": "JcGMQ30_FmLu",
        "outputId": "bcfc11d2-6148-4594-f3e7-05308b06f02f",
        "colab": {
          "base_uri": "https://localhost:8080/"
        }
      },
      "execution_count": 38,
      "outputs": [
        {
          "output_type": "stream",
          "name": "stdout",
          "text": [
            "4267979\n",
            "4267980\n",
            "['SENT', 'SENT']\n",
            "4267981\n",
            "['SENT', 'SENT']\n",
            "4267982\n",
            "['DONE', 'DONE']\n"
          ]
        }
      ]
    },
    {
      "cell_type": "code",
      "source": [
        ""
      ],
      "metadata": {
        "id": "RQwjhqDlGDwT"
      },
      "execution_count": null,
      "outputs": []
    }
  ]
}