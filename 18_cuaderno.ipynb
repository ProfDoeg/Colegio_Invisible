{
  "nbformat": 4,
  "nbformat_minor": 0,
  "metadata": {
    "colab": {
      "name": "17_cuaderno.ipynb",
      "provenance": [],
      "authorship_tag": "ABX9TyORlXQlT7bMGa+uutVyvw+e",
      "include_colab_link": true
    },
    "kernelspec": {
      "name": "python3",
      "display_name": "Python 3"
    },
    "language_info": {
      "name": "python"
    }
  },
  "cells": [
    {
      "cell_type": "markdown",
      "metadata": {
        "id": "view-in-github",
        "colab_type": "text"
      },
      "source": [
        "<a href=\"https://colab.research.google.com/github/ProfDoeg/Colegio_Invisible/blob/main/18_cuaderno.ipynb\" target=\"_parent\"><img src=\"https://colab.research.google.com/assets/colab-badge.svg\" alt=\"Open In Colab\"/></a>"
      ]
    },
    {
      "cell_type": "code",
      "execution_count": 1,
      "metadata": {
        "colab": {
          "base_uri": "https://localhost:8080/"
        },
        "id": "QU-j-ie4xl3n",
        "outputId": "ad12d723-53ef-4399-ade5-6da4b8a9bd83"
      },
      "outputs": [
        {
          "output_type": "stream",
          "name": "stdout",
          "text": [
            "Looking in indexes: https://pypi.org/simple, https://us-python.pkg.dev/colab-wheels/public/simple/\n",
            "Collecting eciespy\n",
            "  Downloading eciespy-0.3.12-py3-none-any.whl (11 kB)\n",
            "Collecting eth_keys\n",
            "  Downloading eth_keys-0.4.0-py3-none-any.whl (21 kB)\n",
            "Collecting cryptos\n",
            "  Downloading cryptos-1.36-py3-none-any.whl (69 kB)\n",
            "\u001b[K     |████████████████████████████████| 69 kB 2.7 MB/s \n",
            "\u001b[?25hCollecting qrcode\n",
            "  Downloading qrcode-7.3.1.tar.gz (43 kB)\n",
            "\u001b[K     |████████████████████████████████| 43 kB 1.6 MB/s \n",
            "\u001b[?25hCollecting coincurve<18,>=13\n",
            "  Downloading coincurve-17.0.0-cp37-cp37m-manylinux_2_17_x86_64.manylinux2014_x86_64.whl (1.3 MB)\n",
            "\u001b[K     |████████████████████████████████| 1.3 MB 12.5 MB/s \n",
            "\u001b[?25hCollecting pycryptodome<4.0.0,>=3.14.1\n",
            "  Downloading pycryptodome-3.14.1-cp35-abi3-manylinux2010_x86_64.whl (2.0 MB)\n",
            "\u001b[K     |████████████████████████████████| 2.0 MB 14.2 MB/s \n",
            "\u001b[?25hCollecting eth-utils<3.0.0,>=2.0.0\n",
            "  Downloading eth_utils-2.0.0-py3-none-any.whl (24 kB)\n",
            "Collecting eth-typing<4,>=3.0.0\n",
            "  Downloading eth_typing-3.0.0-py3-none-any.whl (6.2 kB)\n",
            "Requirement already satisfied: cffi>=1.3.0 in /usr/local/lib/python3.7/dist-packages (from coincurve<18,>=13->eciespy) (1.15.0)\n",
            "Collecting asn1crypto\n",
            "  Downloading asn1crypto-1.5.1-py2.py3-none-any.whl (105 kB)\n",
            "\u001b[K     |████████████████████████████████| 105 kB 45.8 MB/s \n",
            "\u001b[?25hRequirement already satisfied: pycparser in /usr/local/lib/python3.7/dist-packages (from cffi>=1.3.0->coincurve<18,>=13->eciespy) (2.21)\n",
            "Collecting eth-hash<0.4.0,>=0.3.1\n",
            "  Downloading eth_hash-0.3.2-py3-none-any.whl (8.8 kB)\n",
            "Collecting cytoolz<1.0.0,>=0.10.1\n",
            "  Downloading cytoolz-0.11.2.tar.gz (481 kB)\n",
            "\u001b[K     |████████████████████████████████| 481 kB 49.7 MB/s \n",
            "\u001b[?25hRequirement already satisfied: toolz>=0.8.0 in /usr/local/lib/python3.7/dist-packages (from cytoolz<1.0.0,>=0.10.1->eth-utils<3.0.0,>=2.0.0->eth_keys) (0.11.2)\n",
            "Building wheels for collected packages: cytoolz, qrcode\n",
            "  Building wheel for cytoolz (setup.py) ... \u001b[?25l\u001b[?25hdone\n",
            "  Created wheel for cytoolz: filename=cytoolz-0.11.2-cp37-cp37m-linux_x86_64.whl size=1236752 sha256=79c22d396222a2da9f96c13ad023cd5d9204107c008d6b571d0e54fe99dd47f5\n",
            "  Stored in directory: /root/.cache/pip/wheels/38/70/71/ca13ea3d36ccd0b3d0ec7d7a4ca67522048d695b556bba4f59\n",
            "  Building wheel for qrcode (setup.py) ... \u001b[?25l\u001b[?25hdone\n",
            "  Created wheel for qrcode: filename=qrcode-7.3.1-py3-none-any.whl size=40402 sha256=2a22fb939ad56b1357a20329ffdb4f6c28122f5bb09e96cfd3ef36d66d5d7c47\n",
            "  Stored in directory: /root/.cache/pip/wheels/93/d7/39/a4111be2cfb8e679938aa671a37888b6afb1f9e7d748e94492\n",
            "Successfully built cytoolz qrcode\n",
            "Installing collected packages: eth-typing, eth-hash, cytoolz, eth-utils, asn1crypto, pycryptodome, eth-keys, coincurve, qrcode, eciespy, cryptos\n",
            "Successfully installed asn1crypto-1.5.1 coincurve-17.0.0 cryptos-1.36 cytoolz-0.11.2 eciespy-0.3.12 eth-hash-0.3.2 eth-keys-0.4.0 eth-typing-3.0.0 eth-utils-2.0.0 pycryptodome-3.14.1 qrcode-7.3.1\n"
          ]
        }
      ],
      "source": [
        "! pip install eciespy eth_keys cryptos qrcode"
      ]
    },
    {
      "cell_type": "code",
      "source": [
        "import ecies\n",
        "import eth_keys\n",
        "import coincurve\n",
        "import hashlib"
      ],
      "metadata": {
        "id": "zarlKnDDxuEI"
      },
      "execution_count": 11,
      "outputs": []
    },
    {
      "cell_type": "code",
      "source": [
        "broad_message=b'''Tell the world something. Encrypt with AES key.\n",
        "AES encrypt multiple copes of that key using a list of shared secrets.'''\n",
        "print(broad_message.decode(),len(broad_message))"
      ],
      "metadata": {
        "colab": {
          "base_uri": "https://localhost:8080/"
        },
        "id": "qz8wc0m3qJPL",
        "outputId": "35555cf9-28cc-4365-b173-73dd8394c953"
      },
      "execution_count": 12,
      "outputs": [
        {
          "output_type": "stream",
          "name": "stdout",
          "text": [
            "Tell the world something. Encrypt with AES key.\n",
            "AES encrypt multiple copes of that key using a list of shared secrets. 118\n"
          ]
        }
      ]
    },
    {
      "cell_type": "code",
      "source": [
        "from coincurve.utils import get_valid_secret\n",
        "\n",
        "master_aes=get_valid_secret()\n",
        "broad_message_aes=ecies.aes_encrypt(master_aes,broad_message)"
      ],
      "metadata": {
        "id": "7hCqAYj60hyn"
      },
      "execution_count": 13,
      "outputs": []
    },
    {
      "cell_type": "markdown",
      "source": [
        "Now we have an encrypted message and we want to distribute it so select key holders can open it. \n",
        "\n",
        "We will encrypt the `master_aes` encryption key (using aes) so that each recipient can access it using their special-unique encrypted copy.\n",
        "\n",
        "**HOT DIGGITY DOG !!! HOW DO WE MAKE SURE ONLY THE SELECT KEY HOLDER CAN OPEN THEIR COPY ???**\n",
        "\n",
        "#Diffie Helman Key Exchange...Broadcast"
      ],
      "metadata": {
        "id": "c1k8Q48e1DxY"
      }
    },
    {
      "cell_type": "code",
      "source": [
        ""
      ],
      "metadata": {
        "id": "qUChCFme1Cn-"
      },
      "execution_count": null,
      "outputs": []
    },
    {
      "cell_type": "code",
      "source": [
        "privKey1 = ecies.utils.generate_eth_key()\n",
        "privKey2 = ecies.utils.generate_eth_key()\n",
        "privKey3 = ecies.utils.generate_eth_key()\n",
        "print(privKey1, type(privKey1))\n",
        "print(privKey2, type(privKey2))\n",
        "print(privKey3, type(privKey3))"
      ],
      "metadata": {
        "colab": {
          "base_uri": "https://localhost:8080/"
        },
        "id": "pr1ytF2yUC0m",
        "outputId": "1bd964d9-5600-4a4d-f199-6e45cd00c467"
      },
      "execution_count": null,
      "outputs": [
        {
          "output_type": "stream",
          "name": "stdout",
          "text": [
            "0xdca87f90bd5b6a44d8190d2457eeed81e7f433575fc8212684e3158534e62f5b <class 'eth_keys.datatypes.PrivateKey'>\n",
            "0x655a6d66426d69f0ca6ea9c5fddd596a7adc5fb70d18cc543af714bb6697262d <class 'eth_keys.datatypes.PrivateKey'>\n",
            "0x6641d7a39ffbb3296fcd16ba066a8caeeea8ab18d5ba4e007147e5d7084992fc <class 'eth_keys.datatypes.PrivateKey'>\n"
          ]
        }
      ]
    },
    {
      "cell_type": "code",
      "source": [
        "#convert from ecies private/public key to concurve private/public key\n",
        "\n",
        "k1 = coincurve.PrivateKey(privKey1.to_bytes())\n",
        "k2 = coincurve.PrivateKey(privKey2.to_bytes())\n",
        "k3 = coincurve.PrivateKey(privKey2.to_bytes())\n",
        "\n",
        "p1 = coincurve.PublicKey( privKey1.public_key.to_compressed_bytes() )\n",
        "p2 = coincurve.PublicKey( privKey2.public_key.to_compressed_bytes() )\n",
        "p3 = coincurve.PublicKey( privKey3.public_key.to_compressed_bytes() )"
      ],
      "metadata": {
        "id": "RrCx912DULLJ"
      },
      "execution_count": null,
      "outputs": []
    },
    {
      "cell_type": "code",
      "source": [
        "shared12 = p2.multiply(k1.secret)\n",
        "shared21 = p1.multiply(k2.secret)"
      ],
      "metadata": {
        "id": "dUQEo3NVUcNT"
      },
      "execution_count": null,
      "outputs": []
    },
    {
      "cell_type": "code",
      "source": [
        "shared12.format().hex(),shared21.format().hex()"
      ],
      "metadata": {
        "colab": {
          "base_uri": "https://localhost:8080/"
        },
        "id": "JNIBLpVzUiV4",
        "outputId": "c5f7333c-70fa-4c84-930e-386bf8e2796a"
      },
      "execution_count": null,
      "outputs": [
        {
          "output_type": "execute_result",
          "data": {
            "text/plain": [
              "('03494315c53ff8f6eca88866fb289f4619f9c45750bf58a5d5b28ad1892257534c',\n",
              " '03494315c53ff8f6eca88866fb289f4619f9c45750bf58a5d5b28ad1892257534c')"
            ]
          },
          "metadata": {},
          "execution_count": 10
        }
      ]
    },
    {
      "cell_type": "code",
      "source": [
        "from Crypto.Protocol.KDF import HKDF\n",
        "AES_KEY_BYTES_LEN = 32\n",
        "from Crypto.Hash import SHA256"
      ],
      "metadata": {
        "id": "HNlkFRQxWSJX"
      },
      "execution_count": 14,
      "outputs": []
    },
    {
      "cell_type": "code",
      "source": [
        "ps=[p1,p2,p3]\n",
        "shared_secrets=[p.multiply(k1.secret) for p in ps]"
      ],
      "metadata": {
        "id": "ki5TAOoA4ET7"
      },
      "execution_count": null,
      "outputs": []
    },
    {
      "cell_type": "code",
      "source": [
        "def shared_key(prvKey,pubKey):\n",
        "  cc_prvKey=coincurve.PrivateKey(prvKey.to_bytes())\n",
        "  cc_pubKey= coincurve.PublicKey( pubKey.to_compressed_bytes() )\n",
        "  return HKDF(cc_pubKey.multiply(cc_prvKey.secret).format(), AES_KEY_BYTES_LEN, b\"\", SHA256)"
      ],
      "metadata": {
        "id": "gJHZWz4_ISOO"
      },
      "execution_count": null,
      "outputs": []
    },
    {
      "cell_type": "code",
      "source": [
        "shared_key(privKey3,privKey1.public_key)"
      ],
      "metadata": {
        "colab": {
          "base_uri": "https://localhost:8080/"
        },
        "id": "zvN00RiKKcck",
        "outputId": "d1e81e18-feed-4c3f-ae2b-e9908355475b"
      },
      "execution_count": null,
      "outputs": [
        {
          "output_type": "execute_result",
          "data": {
            "text/plain": [
              "b'\\xe6\\xc0:D\\xc2\\xfdmi\\x18a\\x12\\xdb\\x97\\xbe_\\x1d\\x0f)\\xb2\\xb3\\x84\\xd5)\\xb4%\\xa4\\x86\\xa1I\\xab\\x15 '"
            ]
          },
          "metadata": {},
          "execution_count": 14
        }
      ]
    },
    {
      "cell_type": "code",
      "source": [
        "shared_keys=[ HKDF(shared_secret.format(), AES_KEY_BYTES_LEN, b\"\", SHA256) for shared_secret in shared_secrets]"
      ],
      "metadata": {
        "id": "Wa5Bq5THJuev"
      },
      "execution_count": null,
      "outputs": []
    },
    {
      "cell_type": "code",
      "source": [
        "access_keys=[ ecies.aes_encrypt(shared_key,master_aes) for shared_key in shared_keys]\n",
        "print(len(b''.join(access_keys)))\n",
        "access_keys"
      ],
      "metadata": {
        "colab": {
          "base_uri": "https://localhost:8080/"
        },
        "id": "_d16pr3F8RSi",
        "outputId": "eda6adfb-3b28-40d0-e4da-07aa58748175"
      },
      "execution_count": null,
      "outputs": [
        {
          "output_type": "stream",
          "name": "stdout",
          "text": [
            "192\n"
          ]
        },
        {
          "output_type": "execute_result",
          "data": {
            "text/plain": [
              "[b\"\\xb8\\rH'9\\xfa\\xff\\x07\\x0f\\x8a9\\x7f\\xa7\\xdbK\\xb7YO_Y2C\\xd3M\\xcf\\x96\\xb5\\xe2\\xf2\\xe3\\xda\\xa6\\x04\\x80h\\xb6\\xbf6\\xcc|u4\\xca\\xd8\\xcb\\x0b2/\\xba\\xef@\\x8d\\xeb1k\\xb6)\\x8b\\xd8\\xc7d\\x18Q\\xe0\",\n",
              " b'\\x19@\\xe5Y\\xf5$\\xa0\\xa6\\xcf)0U>\\xca\\xcf\\xb3\\x14\\x11c\\xf3W\\x1f\\xfb\\xdd\"\\xe5r!J\\xac\\x97\\xe0\\xe6{\\x18\\\\p\\xff\\xdbE\\x99U\\xde\\xf5\\xfb\\x93y\\x9a\\xb5\\x96\\xf7\\xbc\\x82]\\x8b\\xc4\\x85\\x146\\xa8\\x89\\xa9\\xdc\\xe3',\n",
              " b'\\x9d)\\xb8\\x90\\x90f\\xfc)N\\xf0\\xa9\\x14\\xab\\x9c\\x7f\\xf7_\\xd5r1C\\x9cn\\x05\\x14\\x9dH\\x19\\x91\\x88E\\xf8\\r\\xcd\\xa7\\xef\\xe4\\xa3\\xe2\\x1bA\\xad\\xebWK\\x93\\x9aP\\xee\\x03\\xf1s~\\x9a/A\\xa6\\xde\\xcf\\xcdJh$Z']"
            ]
          },
          "metadata": {},
          "execution_count": 16
        }
      ]
    },
    {
      "cell_type": "code",
      "source": [
        "ecies.aes_decrypt(shared_keys[0],access_keys[0])"
      ],
      "metadata": {
        "colab": {
          "base_uri": "https://localhost:8080/"
        },
        "id": "xYWix2Q8Aco6",
        "outputId": "8289bc0d-0bc1-41d8-8279-a8aef1216ce8"
      },
      "execution_count": null,
      "outputs": [
        {
          "output_type": "execute_result",
          "data": {
            "text/plain": [
              "b'\\xb2p\\xa7v\\xa0_VM\\x96\\r\\x02\\xcf\\xd7X\\x81m\\x06XW\\x8e\\xc8\\xee:\\r}\\x0cd\\xd8#E\\xe2$'"
            ]
          },
          "metadata": {},
          "execution_count": 17
        }
      ]
    },
    {
      "cell_type": "code",
      "source": [
        "dist_keys=[ecies.aes_decrypt(*args)  for args in zip(shared_keys,access_keys)]\n",
        "dist_keys"
      ],
      "metadata": {
        "colab": {
          "base_uri": "https://localhost:8080/"
        },
        "id": "oOSS3xVxW3iR",
        "outputId": "2f3aa03e-595b-4532-f39f-3f4db33b9597"
      },
      "execution_count": null,
      "outputs": [
        {
          "output_type": "execute_result",
          "data": {
            "text/plain": [
              "[b'\\xb2p\\xa7v\\xa0_VM\\x96\\r\\x02\\xcf\\xd7X\\x81m\\x06XW\\x8e\\xc8\\xee:\\r}\\x0cd\\xd8#E\\xe2$',\n",
              " b'\\xb2p\\xa7v\\xa0_VM\\x96\\r\\x02\\xcf\\xd7X\\x81m\\x06XW\\x8e\\xc8\\xee:\\r}\\x0cd\\xd8#E\\xe2$',\n",
              " b'\\xb2p\\xa7v\\xa0_VM\\x96\\r\\x02\\xcf\\xd7X\\x81m\\x06XW\\x8e\\xc8\\xee:\\r}\\x0cd\\xd8#E\\xe2$']"
            ]
          },
          "metadata": {},
          "execution_count": 18
        }
      ]
    },
    {
      "cell_type": "code",
      "source": [
        "master_aes"
      ],
      "metadata": {
        "id": "gGmnf3g8UlHd",
        "colab": {
          "base_uri": "https://localhost:8080/"
        },
        "outputId": "c13ca49e-67c4-4b32-ac41-474030b05f5b"
      },
      "execution_count": null,
      "outputs": [
        {
          "output_type": "execute_result",
          "data": {
            "text/plain": [
              "b'\\xb2p\\xa7v\\xa0_VM\\x96\\r\\x02\\xcf\\xd7X\\x81m\\x06XW\\x8e\\xc8\\xee:\\r}\\x0cd\\xd8#E\\xe2$'"
            ]
          },
          "metadata": {},
          "execution_count": 19
        }
      ]
    },
    {
      "cell_type": "code",
      "source": [
        "ecies.aes_decrypt(dist_keys[2],broad_message_aes)"
      ],
      "metadata": {
        "colab": {
          "base_uri": "https://localhost:8080/"
        },
        "id": "VTVrQNeax1eI",
        "outputId": "650643a3-c382-4d4f-acdf-28f705d20dce"
      },
      "execution_count": null,
      "outputs": [
        {
          "output_type": "execute_result",
          "data": {
            "text/plain": [
              "b'Tell the world something. Encrypt with AES key.\\nAES encrypt multiple copes of that key using a list of shared secrets.'"
            ]
          },
          "metadata": {},
          "execution_count": 20
        }
      ]
    },
    {
      "cell_type": "code",
      "source": [
        "mess2post=len(access_keys).to_bytes(1,'big')+b''.join(access_keys)+broad_message_aes"
      ],
      "metadata": {
        "id": "lnzqRxtlEJeG"
      },
      "execution_count": null,
      "outputs": []
    },
    {
      "cell_type": "code",
      "source": [
        "mess2post"
      ],
      "metadata": {
        "colab": {
          "base_uri": "https://localhost:8080/"
        },
        "id": "t7MFiqePWJAK",
        "outputId": "d41a55d6-f6f6-41cf-c72d-f8e2fe416df8"
      },
      "execution_count": null,
      "outputs": [
        {
          "output_type": "execute_result",
          "data": {
            "text/plain": [
              "b'\\x03\\xb8\\rH\\'9\\xfa\\xff\\x07\\x0f\\x8a9\\x7f\\xa7\\xdbK\\xb7YO_Y2C\\xd3M\\xcf\\x96\\xb5\\xe2\\xf2\\xe3\\xda\\xa6\\x04\\x80h\\xb6\\xbf6\\xcc|u4\\xca\\xd8\\xcb\\x0b2/\\xba\\xef@\\x8d\\xeb1k\\xb6)\\x8b\\xd8\\xc7d\\x18Q\\xe0\\x19@\\xe5Y\\xf5$\\xa0\\xa6\\xcf)0U>\\xca\\xcf\\xb3\\x14\\x11c\\xf3W\\x1f\\xfb\\xdd\"\\xe5r!J\\xac\\x97\\xe0\\xe6{\\x18\\\\p\\xff\\xdbE\\x99U\\xde\\xf5\\xfb\\x93y\\x9a\\xb5\\x96\\xf7\\xbc\\x82]\\x8b\\xc4\\x85\\x146\\xa8\\x89\\xa9\\xdc\\xe3\\x9d)\\xb8\\x90\\x90f\\xfc)N\\xf0\\xa9\\x14\\xab\\x9c\\x7f\\xf7_\\xd5r1C\\x9cn\\x05\\x14\\x9dH\\x19\\x91\\x88E\\xf8\\r\\xcd\\xa7\\xef\\xe4\\xa3\\xe2\\x1bA\\xad\\xebWK\\x93\\x9aP\\xee\\x03\\xf1s~\\x9a/A\\xa6\\xde\\xcf\\xcdJh$Z/Jn*\\xaa?^\\xf0A\\xb6\\x90\\x06mZ\\xbdX\\xf5\\xdc^&.\\xc8\\xfb\\xee\\x01(9a\\x1c\\xcfz\\xe2\\xddJ\\x17\\xaev\\xbd\\xb9\\x04yb\\xfaU\\'~\\x9dT\\xd0\\x92\\xb8\\xca\\x02\\x18\\xe7^-\\xcf2\\xac\\x01\\xef\\x03\\xd3\\xf6|\\x11\\x0b@N\\xf5\\xfa\\x12\\n!\\xc7\\xc5\\x15u\\x0c\\x99\\xe1p\\x85\\x8e\\'\\\\W\\x83\\x8b\\x88p\\x00\\x0cl\\x9b\\xd0\\x8f\\xd9\\xd1#\\x05}\\xa0]\\x9b\\x1f\\xb6\\xc1i\\xbb\\x00\\xf3\\x92\\xf5F;U\\xdb#8t\\xf39\\x8d`\\x88\\xee\\xcb\\xb0%\\x88\\x12\\xdbj\\x00,\\xbd\\xbf\\x1d\"C\\x97\\x0ef\\x94\\x9cA5\\x1a'"
            ]
          },
          "metadata": {},
          "execution_count": 22
        }
      ]
    },
    {
      "cell_type": "code",
      "source": [
        "len(mess2post)"
      ],
      "metadata": {
        "colab": {
          "base_uri": "https://localhost:8080/"
        },
        "id": "QgPC7n95WRv-",
        "outputId": "2ad8fef8-4df1-43c9-ff0a-8d298728314c"
      },
      "execution_count": null,
      "outputs": [
        {
          "output_type": "execute_result",
          "data": {
            "text/plain": [
              "343"
            ]
          },
          "metadata": {},
          "execution_count": 23
        }
      ]
    },
    {
      "cell_type": "code",
      "source": [
        "len(broad_message)"
      ],
      "metadata": {
        "colab": {
          "base_uri": "https://localhost:8080/"
        },
        "id": "tiCD2oZOWW5F",
        "outputId": "01ca9d9f-0897-4875-c188-d713e58f0865"
      },
      "execution_count": null,
      "outputs": [
        {
          "output_type": "execute_result",
          "data": {
            "text/plain": [
              "118"
            ]
          },
          "metadata": {},
          "execution_count": 24
        }
      ]
    },
    {
      "cell_type": "code",
      "source": [
        ""
      ],
      "metadata": {
        "id": "UF6nvlJ1Wq7o"
      },
      "execution_count": null,
      "outputs": []
    },
    {
      "cell_type": "code",
      "source": [
        "! git clone https://github.com/ProfDoeg/Colegio_Invisible.git\n",
        "! pip install cryptos"
      ],
      "metadata": {
        "colab": {
          "base_uri": "https://localhost:8080/"
        },
        "id": "qhDM2aRqoNWT",
        "outputId": "adaeae34-221b-4880-f3d5-62adf305d3ae"
      },
      "execution_count": null,
      "outputs": [
        {
          "output_type": "stream",
          "name": "stdout",
          "text": [
            "Cloning into 'Colegio_Invisible'...\n",
            "remote: Enumerating objects: 1185, done.\u001b[K\n",
            "remote: Counting objects: 100% (55/55), done.\u001b[K\n",
            "remote: Compressing objects: 100% (55/55), done.\u001b[K\n",
            "remote: Total 1185 (delta 34), reused 0 (delta 0), pack-reused 1130\u001b[K\n",
            "Receiving objects: 100% (1185/1185), 137.51 MiB | 33.31 MiB/s, done.\n",
            "Resolving deltas: 100% (817/817), done.\n",
            "Looking in indexes: https://pypi.org/simple, https://us-python.pkg.dev/colab-wheels/public/simple/\n",
            "Requirement already satisfied: cryptos in /usr/local/lib/python3.7/dist-packages (1.36)\n"
          ]
        }
      ]
    },
    {
      "cell_type": "code",
      "source": [
        "from PIL import Image\n",
        "import numpy as np\n",
        "\n",
        "def grey_imgarr(imgarr):\n",
        "  return imgarr[:,:,:3].mean(axis=2).astype('uint8')\n",
        "\n",
        "def message_2_bit_array(message,mode=None):\n",
        "    '''This function takes in a message as string, bytestring or hextring.\n",
        "    If hexstring input the set mode='hex' '''\n",
        "    if type(message)==bytes:\n",
        "        hex_str=message.hex()\n",
        "    elif (type(message)==str):\n",
        "        if mode not in ('hex','hexstring'):\n",
        "            hex_str=message.encode().hex()\n",
        "        else:\n",
        "            hex_str=message\n",
        "    else:\n",
        "        print('fix the input and mode')\n",
        "        return None\n",
        "    \n",
        "    num=int('0x'+hex_str,base=16)\n",
        "    byte_len=(len(hex_str)+1)//2\n",
        "    bit_len=byte_len*8\n",
        "    bin_str=bin(num)\n",
        "    bit_list=[int(bit) for bit in bin_str[2:]]\n",
        "    bit_list=[0]*(bit_len-len(bit_list))+bit_list\n",
        "    bit_array=np.array(bit_list,dtype='uint8')\n",
        "    return bit_array\n",
        "\n",
        "def bit_array_2_byte_str(bit_array):\n",
        "    '''Convert bit array to a bytestring'''\n",
        "    bit_list=[ str(bit) for bit in bit_array]\n",
        "    bin_str='0b'+(''.join(bit_list))\n",
        "    num=int(bin_str,base=2)\n",
        "    return num.to_bytes(len(bit_array)//8,'big')\n",
        "\n",
        "def bit_array_2_hex_str(bit_array):  \n",
        "    '''Convert a bit array to a hexstring'''\n",
        "    return bit_array_2_byte_str(bit_array).hex()\n",
        "\n",
        "def bit_array_2_str(bit_array,encoding='utf-8'):\n",
        "    '''Convert a bit array to a string'''\n",
        "    return bit_array_2_byte_str(bit_array).decode(encoding)\n",
        "\n",
        "def int2bitarray(x,bit=8):\n",
        "  return message_2_bit_array(hex(x)[2:],mode='hex')[:bit]\n",
        "\n",
        "def bitarray2int(b_arr):\n",
        "  ln=b_arr.shape[0]\n",
        "  scales=(2**np.arange(7,-1,-1))[:ln]\n",
        "  return (b_arr*scales).sum()\n",
        "\n",
        "def imgarr2bitarray(imgarr,bit=8):\n",
        "  return np.array([ int2bitarray(it,bit) for it in imgarr.reshape(-1)]).reshape(-1)\n",
        "\n",
        "def bitarray2imgarr(barrs,imgshape=(16,16),bit=2,color=1):\n",
        "  lns=len(barrs.reshape(-1))\n",
        "  #Bs=barrs.reshape(*imgshape,bit)\n",
        "  intlst=[ bitarray2int(barrs.reshape(-1)[i:i+bit]) for i in range(0,lns,bit) ]\n",
        "  intarr=np.array(intlst).reshape(*imgshape,color).astype('uint8')\n",
        "  return intarr\n",
        " \n",
        "def bitarray2imgarr_scale(barrs,imgshape=(16,16),bit=2,color=1):\n",
        "  lns=len(barrs.reshape(-1))\n",
        "  #Bs=barrs.reshape(*imgshape,bit)\n",
        "  intlst=[ bitarray2int_scale(barrs.reshape(-1)[i:i+bit]) for i in range(0,lns,bit) ]\n",
        "  intarr=np.array(intlst).reshape(*imgshape,color).astype('uint8')\n",
        "  return intarr\n",
        "\n",
        "class bitimage():\n",
        "\n",
        "  def __init__(self,imgpath,dims=(16,16),bit=2,color=1):\n",
        "    from PIL import Image\n",
        "    self.color=color\n",
        "    self.bit=bit\n",
        "    self.dims=list(dims)\n",
        "    self.img_og=Image.open(imgpath)\n",
        "    self.img_resize=self.img_og.resize(dims)\n",
        "    self.grey=grey_imgarr(np.array(self.img_resize))\n",
        "    self.img_grey=Image.fromarray(self.grey)\n",
        "    self.bitarray=imgarr2bitarray(self.grey,bit)\n",
        "    self.bitarray_color=imgarr2bitarray(np.array(self.img_resize)[:,:,:color],bit)\n",
        "    self.newimg=Image.fromarray(bitarray2imgarr(self.bitarray,imgshape=dims[::-1],bit=bit,color=1).squeeze())\n",
        "    self.newimg_color=Image.fromarray(bitarray2imgarr(self.bitarray_color,imgshape=dims[::-1],bit=bit,color=3).squeeze())\n",
        "    self.bytestring=bit_array_2_byte_str(self.bitarray)\n",
        "    self.bytestring_color=bit_array_2_byte_str(self.bitarray_color)"
      ],
      "metadata": {
        "id": "eJxLhJRm-atP"
      },
      "execution_count": 4,
      "outputs": []
    },
    {
      "cell_type": "code",
      "source": [
        "!ls Colegio_Invisible/img"
      ],
      "metadata": {
        "colab": {
          "base_uri": "https://localhost:8080/"
        },
        "id": "GqFnyKLQ_V5I",
        "outputId": "1f6aa1fc-d768-4f60-af51-63b1eab9c4d5"
      },
      "execution_count": null,
      "outputs": [
        {
          "output_type": "stream",
          "name": "stdout",
          "text": [
            "Apollo_Slays_Python_1853.jpeg  hg_cry.jpeg\t PubKeyToAddr.png\n",
            "asymmetric.png\t\t       hg_drop.jpeg\t rum_0.jpeg\n",
            "bab_crop.jpeg\t\t       hg_hide.jpeg\t rum_1.jpeg\n",
            "barb_1.jpeg\t\t       hg_house.jpeg\t rum_2.jpeg\n",
            "barb_2.jpeg\t\t       hg_invite.jpeg\t rum_3.jpeg\n",
            "barb_3.jpeg\t\t       hg_rough.png\t rum_4.jpeg\n",
            "barb_4.jpeg\t\t       hg_xmas.jpeg\t rum_5.jpeg\n",
            "barb_5.jpeg\t\t       mask.png\t\t rum_6.jpeg\n",
            "barb_6.jpeg\t\t       paco.png\t\t rum_7.jpeg\n",
            "barb_7.jpeg\t\t       peter2.png\t rump_final.jpeg\n",
            "cat.png\t\t\t       peter3.png\t signature.png\n",
            "chris.png\t\t       peter4.png\t stego.png\n",
            "clavis.jpeg\t\t       peter.png\t symmetric.png\n",
            "colegio_invisible.jpeg\t       prv_pub_addr.png  zomnd.png\n"
          ]
        }
      ]
    },
    {
      "cell_type": "code",
      "source": [
        "length=64\n",
        "width=128\n",
        "bit_num=5\n",
        "\n",
        "\n",
        "bimg=bitimage('Colegio_Invisible/img/hola.png',dims=(length,width),bit=bit_num,color=3)\n",
        "display(bimg.newimg)\n",
        "display(bimg.img_grey)\n",
        "display(bimg.newimg_color)\n",
        "display(bimg.img_resize)\n",
        "len(bimg.bytestring)/80,len(bimg.bytestring_color)/80"
      ],
      "metadata": {
        "colab": {
          "base_uri": "https://localhost:8080/"
        },
        "id": "mzDzOE42-tr1",
        "outputId": "4c9c5862-6054-4c45-b09f-3d284ace9a01"
      },
      "execution_count": null,
      "outputs": [
        {
          "output_type": "execute_result",
          "data": {
            "text/plain": [
              "(64.0, 192.0)"
            ]
          },
          "metadata": {},
          "execution_count": 209
        }
      ]
    },
    {
      "cell_type": "markdown",
      "source": [
        "We will encrypt this message for ourselves and ... \n",
        "\n",
        "```text\n",
        "0x2478459160f8e4563ad84a1faa998158c2e47b3c8eac04654ca30f892d4c873db08339cabb0f5c775f1f798919ab4ce5772666a88ea39cf811b73c95d28ee9f9\n",
        "\n",
        "0x5701dec1853f3b5eb1039bea648438ff90c95a97fb0b601b0ce8aaf476a5c73f4c42a1f00c5b09cebcc8ed8f9c2663e1cbd2601376cf5fc226569b22c0239c73\n",
        "```"
      ],
      "metadata": {
        "id": "hLt2mkp_8FSQ"
      }
    },
    {
      "cell_type": "code",
      "source": [
        "p2hex='2478459160f8e4563ad84a1faa998158c2e47b3c8eac04654ca30f892d4c873db08339cabb0f5c775f1f798919ab4ce5772666a88ea39cf811b73c95d28ee9f9'\n",
        "p3hex='5701dec1853f3b5eb1039bea648438ff90c95a97fb0b601b0ce8aaf476a5c73f4c42a1f00c5b09cebcc8ed8f9c2663e1cbd2601376cf5fc226569b22c0239c73'"
      ],
      "metadata": {
        "id": "ofCSPjKZ_h7U"
      },
      "execution_count": null,
      "outputs": []
    },
    {
      "cell_type": "markdown",
      "source": [
        "# Step 1: Create a Session Key and Encrypt Payload "
      ],
      "metadata": {
        "id": "NcYRkOLGCEWl"
      }
    },
    {
      "cell_type": "code",
      "source": [
        "session_aes=get_valid_secret()\n",
        "enc_img=ecies.aes_encrypt(session_aes,bimg.bytestring_color)"
      ],
      "metadata": {
        "id": "CaFK7UamCg0d"
      },
      "execution_count": null,
      "outputs": []
    },
    {
      "cell_type": "markdown",
      "source": [
        "## Load Real Keys"
      ],
      "metadata": {
        "id": "1EKLOFme-8PH"
      }
    },
    {
      "cell_type": "code",
      "source": [
        "import os\n",
        "import getpass\n",
        "import ecies\n",
        "import eth_keys\n",
        "import qrcode\n",
        "\n",
        "\n",
        "%matplotlib inline\n",
        "\n",
        "def import_privKey(privkey_filepath,password=None):\n",
        "    if password==None:\n",
        "        password = getpass.getpass(\"Input password for decrypting keyfile: \")\n",
        "    password=password.encode()\n",
        "    f=open(privkey_filepath,'rb')\n",
        "    decrypted_bytes=ecies.aes_decrypt(key=hashlib.sha256(password).digest(),cipher_text=f.read())\n",
        "    privKey=eth_keys.keys.PrivateKey(decrypted_bytes)\n",
        "    return privKey\n",
        "\n",
        "def import_pubKey(pubkey_filepath):\n",
        "    f=open(pubkey_filepath,'rb')\n",
        "    privKey=eth_keys.keys.PublicKey(f.read())\n",
        "    return privKey\n",
        "\n",
        "def import_addr(addr_filepath):\n",
        "    return open(addr_filepath,'rb').read().decode()"
      ],
      "metadata": {
        "id": "fNGbTssS_m7u"
      },
      "execution_count": null,
      "outputs": []
    },
    {
      "cell_type": "code",
      "source": [
        "from google.colab import drive\n",
        "drive.mount('/content/drive')"
      ],
      "metadata": {
        "colab": {
          "base_uri": "https://localhost:8080/"
        },
        "id": "lygP0eiD-7HW",
        "outputId": "ca4253ff-9b59-4d9f-ed0b-f98bbcd60447"
      },
      "execution_count": null,
      "outputs": [
        {
          "output_type": "stream",
          "name": "stdout",
          "text": [
            "Mounted at /content/drive\n"
          ]
        }
      ]
    },
    {
      "cell_type": "code",
      "source": [
        "! cp drive/MyDrive/cinv/llaves.zip llaves.zip \n",
        "! unzip llaves.zip"
      ],
      "metadata": {
        "colab": {
          "base_uri": "https://localhost:8080/"
        },
        "id": "wMysZY0d-7D9",
        "outputId": "756a9e05-ae29-43b8-c068-97bc4d1b05ce"
      },
      "execution_count": null,
      "outputs": [
        {
          "output_type": "stream",
          "name": "stdout",
          "text": [
            "Archive:  llaves.zip\n",
            "   creating: llaves/\n",
            " extracting: llaves/mi_addr.bin      \n",
            " extracting: llaves/mi_addr.png      \n",
            " extracting: llaves/mi_pub.bin       \n",
            " extracting: llaves/mi_prv.enc       \n"
          ]
        }
      ]
    },
    {
      "cell_type": "code",
      "source": [
        "import IPython.display\n",
        "my_qr=IPython.display.Image('llaves/mi_addr.png')\n",
        "\n",
        "my_privKey=import_privKey('llaves/mi_prv.enc','')\n",
        "my_pub=import_pubKey('llaves/mi_pub.bin')\n",
        "my_addr=import_addr('llaves/mi_addr.bin')\n",
        "\n",
        "display(my_qr)\n",
        "display(my_pub)\n",
        "display(my_addr)"
      ],
      "metadata": {
        "colab": {
          "base_uri": "https://localhost:8080/",
          "height": 218
        },
        "id": "gxyqvA0R-V6T",
        "outputId": "2c773266-f4ef-484e-de4f-70177b6c7398"
      },
      "execution_count": null,
      "outputs": [
        {
          "output_type": "display_data",
          "data": {
            "text/plain": [
              "<IPython.core.display.Image object>"
            ],
            "image/png": "[encoded data removed]"
          },
          "metadata": {}
        },
        {
          "output_type": "display_data",
          "data": {
            "text/plain": [
              "'0x7c88e9a4df6e9f45656c10bf66f28e28be235a15b64820b254f1b9eb2738314e6769f5c94da0c7640ffe76dcffca053b07a0804cd53a1c51ad03bfe0133ce8c5'"
            ]
          },
          "metadata": {}
        },
        {
          "output_type": "display_data",
          "data": {
            "text/plain": [
              "'D6zKNnkupqRbkB9p5rwix8QiobQWJazjyX'"
            ],
            "application/vnd.google.colaboratory.intrinsic+json": {
              "type": "string"
            }
          },
          "metadata": {}
        }
      ]
    },
    {
      "cell_type": "code",
      "source": [
        "pub2=eth_keys.keys.PublicKey(bytes.fromhex(p2hex))\n",
        "pub2"
      ],
      "metadata": {
        "colab": {
          "base_uri": "https://localhost:8080/"
        },
        "id": "0ovw2tww-V3F",
        "outputId": "39b41fc8-1c55-4933-d147-132b9ddf9e26"
      },
      "execution_count": null,
      "outputs": [
        {
          "output_type": "execute_result",
          "data": {
            "text/plain": [
              "'0x2478459160f8e4563ad84a1faa998158c2e47b3c8eac04654ca30f892d4c873db08339cabb0f5c775f1f798919ab4ce5772666a88ea39cf811b73c95d28ee9f9'"
            ]
          },
          "metadata": {},
          "execution_count": 47
        }
      ]
    },
    {
      "cell_type": "code",
      "source": [
        "pub3=eth_keys.keys.PublicKey(bytes.fromhex(p3hex))\n",
        "pub3"
      ],
      "metadata": {
        "colab": {
          "base_uri": "https://localhost:8080/"
        },
        "id": "8WkZ7ibJtQMk",
        "outputId": "6f13552e-add0-4030-a803-18b4b090904d"
      },
      "execution_count": null,
      "outputs": [
        {
          "output_type": "execute_result",
          "data": {
            "text/plain": [
              "'0x5701dec1853f3b5eb1039bea648438ff90c95a97fb0b601b0ce8aaf476a5c73f4c42a1f00c5b09cebcc8ed8f9c2663e1cbd2601376cf5fc226569b22c0239c73'"
            ]
          },
          "metadata": {},
          "execution_count": 151
        }
      ]
    },
    {
      "cell_type": "code",
      "source": [
        "#make list of shared secrets\n",
        "our_shared_keys=[ shared_key(prvKey=my_privKey,pubKey=p) for p in [my_pub,pub2,pub3]]"
      ],
      "metadata": {
        "id": "o7Vo1igy-Von"
      },
      "execution_count": null,
      "outputs": []
    },
    {
      "cell_type": "code",
      "source": [
        "locked_keys=[ ecies.aes_encrypt(sharekey,session_aes) for sharekey in our_shared_keys ]\n",
        "#key_prepend=len(locked_keys).to_bytes(1,'big')+b''.join(locked_keys)\n",
        "key_prepend=b''.join(locked_keys)\n",
        "print(key_prepend)\n",
        "print(len(key_prepend))"
      ],
      "metadata": {
        "colab": {
          "base_uri": "https://localhost:8080/"
        },
        "id": "yPzRSve8-Vkv",
        "outputId": "c4cd621d-50bb-42b0-a70b-85d16b130a62"
      },
      "execution_count": null,
      "outputs": [
        {
          "output_type": "stream",
          "name": "stdout",
          "text": [
            "b'\\xc8UK:\\x97jB\\xa3Tr,U\\x00\\xa0Lz\\x97\\xf9fx\\x8a\\xca\\xf2\\xf2\\xe5\\xa1\\x93*Fs\\xb01\\x93f\\xfe|M5\\xdc\\x81\\xae\\x8b\\x0f9\\xe3\\xad\\xbe\\xe1\\x0f\\xdc\\x11\\xa1\\x16U\\x9b0\\x1f-\\'OF?M\\nT\\x1c\\xce\\xfc\\xfc\\xe1+\"4\\xb2\\x83\\xe9\\x88(\\xc5V\\xa0J\\xfc\\xbd\\xcf\\xe76c9\\xf19p!\\xdb\\xd9Q:\\x7f\\x17n:\\xf7\\xe7\\x92\\xd4;\\xae\\xa8\\xe59p\\xbdA/;\\xf1\\xad\\xe0*w\\x1b\\xa0>CH@k\\xd0m\\xadT\\xadY\\xd8\\x9f\"\\xd8\\x13\\xf2\\x84\\x1f\\x10\\xe9q\\x04G\\xd66p\\xe3\\xcf\\x8e\\x81\\x06\\x14\\xab\\x9d\\xbe\\xe9\\xdd\\x9bH\\xaf\\xd4)\\xd6\\xb3\\x0c\\xdeX~\\xc9@H\\xc9\\xb4\\xdb3\\xf3$\\x90\\nU\\x0eC\\xba]\\xb7\\xe1\\xad\\xba\\xd7'\n",
            "192\n"
          ]
        }
      ]
    },
    {
      "cell_type": "code",
      "source": [
        "192/3"
      ],
      "metadata": {
        "id": "6GpL0QUSJZQq",
        "outputId": "95929d78-c7c9-4ded-b6e4-7c05dcbd6c1a",
        "colab": {
          "base_uri": "https://localhost:8080/"
        }
      },
      "execution_count": null,
      "outputs": [
        {
          "output_type": "execute_result",
          "data": {
            "text/plain": [
              "64.0"
            ]
          },
          "metadata": {},
          "execution_count": 228
        }
      ]
    },
    {
      "cell_type": "code",
      "source": [
        "\n",
        "\n",
        "#message=bimg.bytestring\n",
        "message=key_prepend+enc_img\n",
        "\n",
        "n=4*80\n",
        "chunks = [message[i:i+n] for i in range(0, len(message), n)]\n",
        "\n",
        "print(len(message))\n",
        "print(len(chunks))\n",
        "print(len(chunks[0]))\n",
        "print(len(chunks[-1]))\n",
        "\n"
      ],
      "metadata": {
        "colab": {
          "base_uri": "https://localhost:8080/"
        },
        "id": "ZDvj0ajd8Vig",
        "outputId": "48a5b5c9-59e3-403c-917c-fcde2a6b09e0"
      },
      "execution_count": null,
      "outputs": [
        {
          "output_type": "stream",
          "name": "stdout",
          "text": [
            "15584\n",
            "49\n",
            "320\n",
            "224\n"
          ]
        }
      ]
    },
    {
      "cell_type": "markdown",
      "source": [
        "For encrypted transmissions to single recipients...it is possible to encrypt directly with the shared key (derived from shared secret). This way both sender and recipient will have access without needing to post anything else.\n",
        "\n",
        "Sometimes we may post an AES encrypted message without any intended recipient. In this case we will use a temporary AES key and encrypt for ourselves using the same protocol. It could be for personal access or the session AES key could be published at some point in the future. In other words, the encoding protocol is identical for the case when the only recipient is ourselves."
      ],
      "metadata": {
        "id": "4PQwSkjTFOti"
      }
    },
    {
      "cell_type": "code",
      "source": [
        "recip_bytes=len(locked_keys).to_bytes(1,'big')\n",
        "length_bytes=length.to_bytes(2,'big')\n",
        "width_bytes=width.to_bytes(2,'big')\n",
        "bitnum_bytes=bit_num.to_bytes(1,'big')\n",
        "print(recip_bytes)\n",
        "print(length_bytes)\n",
        "print(width_bytes)\n",
        "print(bitnum_bytes)"
      ],
      "metadata": {
        "colab": {
          "base_uri": "https://localhost:8080/"
        },
        "id": "E3Du3AnR-NWg",
        "outputId": "2b84730e-d267-4765-9e45-dcc936baa78f"
      },
      "execution_count": null,
      "outputs": [
        {
          "output_type": "stream",
          "name": "stdout",
          "text": [
            "b'\\x03'\n",
            "b'\\x00@'\n",
            "b'\\x00\\x80'\n",
            "b'\\x05'\n"
          ]
        }
      ]
    },
    {
      "cell_type": "code",
      "source": [
        "#04 videos\n",
        "#05 files\n",
        "#0e encryption\n",
        "\n",
        "#For 0e we can declare encoding of encrypted data\n",
        "#This would be color image\n",
        "\n",
        "header=b'\\xc1\\xdd\\x00\\x01\\x0e\\x03\\x01'+length_bytes+width_bytes+bitnum_bytes+recip_bytes\n",
        "\n",
        "#For opaque encoding with internal/encryption header we use ...\n",
        "#header=b'\\xc1\\xdd\\x00\\x01\\x0e\\x0e\\x00 + recip_bytes'\n",
        "\n",
        "header"
      ],
      "metadata": {
        "colab": {
          "base_uri": "https://localhost:8080/"
        },
        "id": "mtgfcTHSFz-4",
        "outputId": "7da2421d-9cff-4707-bb63-465f96154813"
      },
      "execution_count": null,
      "outputs": [
        {
          "output_type": "execute_result",
          "data": {
            "text/plain": [
              "b'\\xc1\\xdd\\x00\\x01\\x0e\\x03\\x01\\x00@\\x00\\x80\\x05\\x03'"
            ]
          },
          "metadata": {},
          "execution_count": 157
        }
      ]
    },
    {
      "cell_type": "code",
      "source": [
        "text='''|This is an encrypted image for two special ladies...Hola|'''.encode() \n",
        "print(len(header))\n",
        "print(len(text))\n",
        "print(len(header+text))\n",
        "package=[header+text]+chunks\n",
        "print(len(package))"
      ],
      "metadata": {
        "colab": {
          "base_uri": "https://localhost:8080/"
        },
        "id": "Koqa8JWCIcz_",
        "outputId": "7b869a9b-c85e-40c8-b896-2f96135af345"
      },
      "execution_count": null,
      "outputs": [
        {
          "output_type": "stream",
          "name": "stdout",
          "text": [
            "13\n",
            "58\n",
            "71\n",
            "50\n"
          ]
        }
      ]
    },
    {
      "cell_type": "code",
      "source": [
        "import cryptos\n",
        "doge=cryptos.Doge()\n",
        "#addy=doge.privtoaddr(privkeyhex)\n",
        "doge_unspents=doge.unspent(addr) \n",
        "doge_unspent_total=sum([unspent['value'] for unspent in doge_unspents])\n",
        "print(doge_unspent_total/10**8)\n",
        "print(len(doge_unspents))"
      ],
      "metadata": {
        "colab": {
          "base_uri": "https://localhost:8080/"
        },
        "id": "Ch8I6YcxLq6P",
        "outputId": "0c0b757d-0d5c-40f9-f442-d026a8cbf085"
      },
      "execution_count": null,
      "outputs": [
        {
          "output_type": "stream",
          "name": "stdout",
          "text": [
            "1388.9170694\n",
            "1\n"
          ]
        }
      ]
    },
    {
      "cell_type": "code",
      "source": [
        "tip=4_00_000_000\n",
        "available=doge_unspent_total-tip\n",
        "n=len(package)\n",
        "gift=int(available/n)\n",
        "outputs=[{'value':gift , 'address': addr} for i in range(len(package))]\n",
        "setup_tx=doge.mktx(doge_unspents,outputs)\n",
        "print(gift/100_000_000)\n",
        "print(len(outputs))"
      ],
      "metadata": {
        "colab": {
          "base_uri": "https://localhost:8080/"
        },
        "id": "6doIe-QlOFKr",
        "outputId": "39a8abdb-5c84-4579-b91f-744abee47886"
      },
      "execution_count": null,
      "outputs": [
        {
          "output_type": "stream",
          "name": "stdout",
          "text": [
            "27.69834138\n",
            "50\n"
          ]
        }
      ]
    },
    {
      "cell_type": "code",
      "source": [
        "doge.signall(setup_tx,my_privKey.to_hex()[2:])"
      ],
      "metadata": {
        "colab": {
          "base_uri": "https://localhost:8080/",
          "height": 124
        },
        "id": "c_c7kVzDOfrd",
        "outputId": "f50afe2a-bcac-46b5-a2b2-a8df961efcfe"
      },
      "execution_count": null,
      "outputs": [
        {
          "output_type": "execute_result",
          "data": {
            "text/plain": [
              "'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'"
            ],
            "application/vnd.google.colaboratory.intrinsic+json": {
              "type": "string"
            }
          },
          "metadata": {},
          "execution_count": 177
        }
      ]
    },
    {
      "cell_type": "code",
      "source": [
        "tip/(len(cryptos.serialize(setup_tx))/2)/100000"
      ],
      "metadata": {
        "colab": {
          "base_uri": "https://localhost:8080/"
        },
        "id": "37ydeFupOq_8",
        "outputId": "d9637d1d-4fa3-4265-ff17-3f266681d7c3"
      },
      "execution_count": null,
      "outputs": [
        {
          "output_type": "execute_result",
          "data": {
            "text/plain": [
              "2.1175224986765486"
            ]
          },
          "metadata": {},
          "execution_count": 178
        }
      ]
    },
    {
      "cell_type": "code",
      "source": [
        "funding=doge.pushtx(cryptos.serialize(setup_tx))\n",
        "funding"
      ],
      "metadata": {
        "colab": {
          "base_uri": "https://localhost:8080/"
        },
        "id": "qvKhFjEROwO2",
        "outputId": "8d54116f-7035-46ca-ee21-0652ee6c38db"
      },
      "execution_count": null,
      "outputs": [
        {
          "output_type": "execute_result",
          "data": {
            "text/plain": [
              "{'data': {'network': 'DOGE',\n",
              "  'txid': 'd0209a0f85872d6826c58bc23fab37c8b21feb22c15a5a6469f45358fb78ba41'},\n",
              " 'status': 'success'}"
            ]
          },
          "metadata": {},
          "execution_count": 179
        }
      ]
    },
    {
      "cell_type": "markdown",
      "source": [
        "```d68175766b70f7163aec93e5a4e81480a6c6dd51d0577319d6f3392e8725f53b```\n",
        "\n",
        "```d0209a0f85872d6826c58bc23fab37c8b21feb22c15a5a6469f45358fb78ba41```"
      ],
      "metadata": {
        "id": "RYTq-jH1RJCY"
      }
    },
    {
      "cell_type": "code",
      "source": [
        "doge.fetchtx(funding['data']['txid'])['confirmations']"
      ],
      "metadata": {
        "colab": {
          "base_uri": "https://localhost:8080/"
        },
        "id": "pkJbRPNJPYsq",
        "outputId": "a3dc8a71-bcad-4225-f88d-11f98a6df031"
      },
      "execution_count": null,
      "outputs": [
        {
          "output_type": "execute_result",
          "data": {
            "text/plain": [
              "2"
            ]
          },
          "metadata": {},
          "execution_count": 180
        }
      ]
    },
    {
      "cell_type": "code",
      "source": [
        "class Cadena():\n",
        "\n",
        "  def __init__(self,prvkey,data,utxo_dct,tip):\n",
        "    self.data=data\n",
        "    self.doge=cryptos.Doge()\n",
        "    self.clip=[self.data[i:i+80] for i in range(0,len(self.data),80) ]\n",
        "    self.og_len=len(self.clip)\n",
        "    self.state='CONF'\n",
        "    self.utxo=utxo_dct\n",
        "    self.head_utxo=self.utxo\n",
        "    self.txn_ids=[self.utxo['output'].split(':')[0]]\n",
        "    self.prv=prvkey\n",
        "    self.addr=self.doge.privtoaddr(self.prv)\n",
        "    self.tip=tip\n",
        "    self.index=0\n",
        "\n",
        "  def make_tx(self):\n",
        "    tx = self.doge.mktx([self.head_utxo],[ {'value':self.head_utxo['value']-self.tip , 'address': self.addr}])\n",
        "    doge_inscribed_serial_tx=mk_opreturn( self.clip[self.index] , cryptos.serialize(tx))\n",
        "    doge_inscribed_tx=cryptos.deserialize(doge_inscribed_serial_tx)\n",
        "    self.signed_inscribed_tx=self.doge.signall(doge_inscribed_tx,self.prv)\n",
        "    self.state='READY'\n",
        "  \n",
        "  def broadcast(self):\n",
        "    self.cast=self.doge.pushtx(self.signed_inscribed_tx)\n",
        "    cast_txid=self.cast['data']['txid']\n",
        "    self.txn_ids.append(cast_txid)\n",
        "    self.head_utxo={'output':cast_txid+':0' ,'value':self.head_utxo['value']-self.tip }\n",
        "    self.index=self.index+1\n",
        "    self.state='SENT'\n",
        "\n",
        "  def update(self):\n",
        "    if self.doge.fetchtx(self.head_utxo['output'].split(':')[0])['confirmations']:\n",
        "      self.state='CONF'\n",
        "      if self.index==self.og_len:\n",
        "        self.state='DONE'\n",
        "\n",
        "import pandas as pd\n",
        "from cryptos.py3specials import safe_hexlify, from_string_to_bytes, from_int_to_byte, from_string_to_bytes\n",
        "from cryptos import serialize,deserialize\n",
        "\n",
        "def only_conf(utxos):\n",
        "    return [utxo for utxo in utxos\n",
        "            if doge.fetchtx(utxo['output'].split(':')[0])['confirmations']>0]\n",
        "\n",
        "def mk_opreturn(msg, rawtx=None, json=0):\n",
        "    \n",
        "    def op_push(data):\n",
        "        if type(data) == bytes:\n",
        "            bytedata=data\n",
        "        else:\n",
        "            bytedata=data.encode()\n",
        "        import struct\n",
        "        if len(data) < 0x4c:\n",
        "            return from_int_to_byte(len(bytedata)) + bytedata\n",
        "        elif len(data) < 0xff:\n",
        "            return from_int_to_byte(76) + struct.pack('<B', len(bytedata)) + bytedata\n",
        "        elif len(data) < 0xffff:\n",
        "            return from_int_to_byte(77) + struct.pack('<H', len(bytedata)) + bytedata\n",
        "        elif len(data) < 0xffffffff:\n",
        "            return from_int_to_byte(78) + struct.pack('<I', len(bytedata)) + bytedata\n",
        "        else: raise Exception(\"Input data error. Rawtx must be hex chars\" \\\n",
        "                            + \"0xffffffff > len(data) > 0\")\n",
        "\n",
        "    orhex = safe_hexlify(b'\\x6a' + op_push(msg))\n",
        "    orjson = {'script' : orhex, 'value' : 0}\n",
        "    if rawtx is not None:\n",
        "        try:\n",
        "            txo = deserialize(rawtx)\n",
        "            if not 'outs' in txo.keys(): raise Exception(\"OP_Return cannot be the sole output!\")\n",
        "            txo['outs'].append(orjson)\n",
        "            newrawtx = serialize(txo)\n",
        "            return newrawtx\n",
        "        except Exception as E:\n",
        "            print(E)\n",
        "            print(type(E))\n",
        "            raise Exception(\"Raw Tx Error!\")\n",
        "    return orhex if not json else orjson"
      ],
      "metadata": {
        "id": "OGL2KbcSPc6U"
      },
      "execution_count": null,
      "outputs": []
    },
    {
      "cell_type": "code",
      "source": [
        "sparkle_unspents=only_conf(doge.unspent(addr) )"
      ],
      "metadata": {
        "id": "TFf-8JXtQ2Sz"
      },
      "execution_count": null,
      "outputs": []
    },
    {
      "cell_type": "code",
      "source": [
        "len(sparkle_unspents)"
      ],
      "metadata": {
        "colab": {
          "base_uri": "https://localhost:8080/"
        },
        "id": "6FZmCz3QRvgS",
        "outputId": "d28ce6a2-6401-4948-ffa5-4b69028b6f3f"
      },
      "execution_count": null,
      "outputs": [
        {
          "output_type": "execute_result",
          "data": {
            "text/plain": [
              "50"
            ]
          },
          "metadata": {},
          "execution_count": 183
        }
      ]
    },
    {
      "cell_type": "code",
      "source": [
        "cadenas=[ Cadena(privKey.to_hex()[2:],*datum_utxo,100_000_000)for datum_utxo in zip(package,sparkle_unspents) ]"
      ],
      "metadata": {
        "id": "eUxe63uUQlhc"
      },
      "execution_count": null,
      "outputs": []
    },
    {
      "cell_type": "code",
      "source": [
        "import time\n",
        "\n",
        "height=doge.current_block_height()-1\n",
        "print(height)\n",
        "while True:\n",
        "  check_height=doge.current_block_height()\n",
        "  if check_height>height:\n",
        "    height=check_height\n",
        "    print(height)\n",
        "    [cad.make_tx() for cad in cadenas if cad.state=='CONF'];\n",
        "    [cad.broadcast() for cad in cadenas if cad.state=='READY'];\n",
        "    [cad.update() for cad in cadenas if cad.state=='SENT'];\n",
        "    [cad.make_tx() for cad in cadenas if cad.state=='CONF'];\n",
        "    [cad.broadcast() for cad in cadenas if cad.state=='READY'];\n",
        "    print([cad.state for cad in cadenas])\n",
        "    if all([cad.state=='DONE' for cad in cadenas]):\n",
        "      break\n",
        "  time.sleep(10)\n"
      ],
      "metadata": {
        "colab": {
          "base_uri": "https://localhost:8080/"
        },
        "id": "9gdtAphqQsSl",
        "outputId": "5c794e65-0ec1-4d97-a7bd-cc2ba091036a"
      },
      "execution_count": null,
      "outputs": [
        {
          "output_type": "stream",
          "name": "stdout",
          "text": [
            "4252447\n",
            "4252448\n",
            "['SENT', 'SENT', 'SENT', 'SENT', 'SENT', 'SENT', 'SENT', 'SENT', 'SENT', 'SENT', 'SENT', 'SENT', 'SENT', 'SENT', 'SENT', 'SENT', 'SENT', 'SENT', 'SENT', 'SENT', 'SENT', 'SENT', 'SENT', 'SENT', 'SENT', 'SENT', 'SENT', 'SENT', 'SENT', 'SENT', 'SENT', 'SENT', 'SENT', 'SENT', 'SENT', 'SENT', 'SENT', 'SENT', 'SENT', 'SENT', 'SENT', 'SENT', 'SENT', 'SENT', 'SENT', 'SENT', 'SENT', 'SENT', 'SENT', 'SENT']\n",
            "4252449\n",
            "['SENT', 'SENT', 'SENT', 'SENT', 'SENT', 'SENT', 'SENT', 'SENT', 'SENT', 'SENT', 'SENT', 'SENT', 'SENT', 'SENT', 'SENT', 'SENT', 'SENT', 'SENT', 'SENT', 'SENT', 'SENT', 'SENT', 'SENT', 'SENT', 'SENT', 'SENT', 'SENT', 'SENT', 'SENT', 'SENT', 'SENT', 'SENT', 'SENT', 'SENT', 'SENT', 'SENT', 'SENT', 'SENT', 'SENT', 'SENT', 'SENT', 'SENT', 'SENT', 'SENT', 'SENT', 'SENT', 'SENT', 'SENT', 'SENT', 'SENT']\n",
            "4252450\n",
            "['DONE', 'SENT', 'SENT', 'SENT', 'SENT', 'SENT', 'SENT', 'SENT', 'SENT', 'SENT', 'SENT', 'SENT', 'SENT', 'SENT', 'SENT', 'SENT', 'SENT', 'SENT', 'SENT', 'SENT', 'SENT', 'SENT', 'SENT', 'SENT', 'SENT', 'SENT', 'SENT', 'SENT', 'SENT', 'SENT', 'SENT', 'SENT', 'SENT', 'SENT', 'SENT', 'SENT', 'SENT', 'SENT', 'SENT', 'SENT', 'SENT', 'SENT', 'SENT', 'SENT', 'SENT', 'SENT', 'SENT', 'SENT', 'SENT', 'SENT']\n",
            "4252451\n",
            "['DONE', 'SENT', 'SENT', 'SENT', 'SENT', 'SENT', 'SENT', 'SENT', 'SENT', 'SENT', 'SENT', 'SENT', 'SENT', 'SENT', 'SENT', 'SENT', 'SENT', 'SENT', 'SENT', 'SENT', 'SENT', 'SENT', 'SENT', 'SENT', 'SENT', 'SENT', 'SENT', 'SENT', 'SENT', 'SENT', 'SENT', 'SENT', 'SENT', 'SENT', 'SENT', 'SENT', 'SENT', 'SENT', 'SENT', 'SENT', 'SENT', 'SENT', 'SENT', 'SENT', 'SENT', 'SENT', 'SENT', 'SENT', 'SENT', 'SENT']\n",
            "4252452\n",
            "['DONE', 'SENT', 'SENT', 'SENT', 'SENT', 'SENT', 'SENT', 'SENT', 'SENT', 'SENT', 'SENT', 'SENT', 'SENT', 'SENT', 'SENT', 'SENT', 'SENT', 'SENT', 'SENT', 'SENT', 'SENT', 'SENT', 'SENT', 'SENT', 'SENT', 'SENT', 'SENT', 'SENT', 'SENT', 'SENT', 'SENT', 'SENT', 'SENT', 'SENT', 'SENT', 'SENT', 'SENT', 'SENT', 'SENT', 'SENT', 'SENT', 'SENT', 'SENT', 'SENT', 'SENT', 'SENT', 'SENT', 'SENT', 'SENT', 'SENT']\n",
            "4252453\n",
            "['DONE', 'SENT', 'SENT', 'SENT', 'SENT', 'SENT', 'SENT', 'SENT', 'SENT', 'SENT', 'SENT', 'SENT', 'SENT', 'SENT', 'SENT', 'SENT', 'SENT', 'SENT', 'SENT', 'SENT', 'SENT', 'SENT', 'SENT', 'SENT', 'SENT', 'SENT', 'SENT', 'SENT', 'SENT', 'SENT', 'SENT', 'SENT', 'SENT', 'SENT', 'SENT', 'SENT', 'SENT', 'SENT', 'SENT', 'SENT', 'SENT', 'SENT', 'SENT', 'SENT', 'SENT', 'SENT', 'SENT', 'SENT', 'SENT', 'SENT']\n",
            "4252454\n",
            "['DONE', 'SENT', 'SENT', 'SENT', 'SENT', 'SENT', 'SENT', 'SENT', 'SENT', 'SENT', 'SENT', 'SENT', 'SENT', 'SENT', 'SENT', 'SENT', 'SENT', 'SENT', 'SENT', 'SENT', 'SENT', 'SENT', 'SENT', 'SENT', 'SENT', 'SENT', 'SENT', 'SENT', 'SENT', 'SENT', 'SENT', 'SENT', 'SENT', 'SENT', 'SENT', 'SENT', 'SENT', 'SENT', 'SENT', 'SENT', 'SENT', 'SENT', 'SENT', 'SENT', 'SENT', 'SENT', 'SENT', 'SENT', 'SENT', 'DONE']\n",
            "4252455\n",
            "['DONE', 'SENT', 'SENT', 'SENT', 'SENT', 'SENT', 'SENT', 'SENT', 'SENT', 'SENT', 'SENT', 'SENT', 'SENT', 'SENT', 'SENT', 'SENT', 'SENT', 'SENT', 'SENT', 'SENT', 'SENT', 'SENT', 'SENT', 'SENT', 'SENT', 'SENT', 'SENT', 'SENT', 'SENT', 'SENT', 'SENT', 'SENT', 'SENT', 'SENT', 'SENT', 'SENT', 'SENT', 'SENT', 'SENT', 'SENT', 'SENT', 'DONE', 'DONE', 'DONE', 'DONE', 'DONE', 'DONE', 'DONE', 'DONE', 'DONE']\n",
            "4252456\n",
            "['DONE', 'DONE', 'DONE', 'DONE', 'DONE', 'DONE', 'DONE', 'DONE', 'DONE', 'DONE', 'DONE', 'DONE', 'DONE', 'DONE', 'DONE', 'DONE', 'DONE', 'DONE', 'DONE', 'DONE', 'DONE', 'DONE', 'DONE', 'DONE', 'DONE', 'DONE', 'DONE', 'DONE', 'DONE', 'DONE', 'DONE', 'DONE', 'DONE', 'DONE', 'DONE', 'DONE', 'DONE', 'DONE', 'DONE', 'DONE', 'DONE', 'DONE', 'DONE', 'DONE', 'DONE', 'DONE', 'DONE', 'DONE', 'DONE', 'DONE']\n"
          ]
        }
      ]
    },
    {
      "cell_type": "code",
      "source": [
        "doge.privtopub(my_privKey.to_hex()[2:])"
      ],
      "metadata": {
        "colab": {
          "base_uri": "https://localhost:8080/",
          "height": 35
        },
        "id": "pxZifSYSge3W",
        "outputId": "b560392a-c58c-4991-8f05-1a9d7ed79ac7"
      },
      "execution_count": null,
      "outputs": [
        {
          "output_type": "execute_result",
          "data": {
            "text/plain": [
              "'047c88e9a4df6e9f45656c10bf66f28e28be235a15b64820b254f1b9eb2738314e6769f5c94da0c7640ffe76dcffca053b07a0804cd53a1c51ad03bfe0133ce8c5'"
            ],
            "application/vnd.google.colaboratory.intrinsic+json": {
              "type": "string"
            }
          },
          "metadata": {},
          "execution_count": 186
        }
      ]
    },
    {
      "cell_type": "code",
      "source": [
        "addys=[doge.pubtoaddr(bytes.fromhex('04'+p.to_hex()[2:])) for p in [my_pub,pub2,pub3]]\n",
        "addys"
      ],
      "metadata": {
        "colab": {
          "base_uri": "https://localhost:8080/"
        },
        "id": "sVHUjmKIfjLC",
        "outputId": "f8af7362-1876-417c-9d9b-9eea319dd467"
      },
      "execution_count": null,
      "outputs": [
        {
          "output_type": "execute_result",
          "data": {
            "text/plain": [
              "['D6zKNnkupqRbkB9p5rwix8QiobQWJazjyX',\n",
              " 'DJBkcc9zShCCWPTvPuLUiHQegNPbmMipEH',\n",
              " 'DJ8tHm9dkR9KYTRWYeEPa5iXEygattqqsd']"
            ]
          },
          "metadata": {},
          "execution_count": 187
        }
      ]
    },
    {
      "cell_type": "code",
      "source": [
        "doge_unspents=doge.unspent(addr) \n",
        "doge_unspent_total=sum([unspent['value'] for unspent in doge_unspents])\n",
        "tip=20_00_000_000\n",
        "available=doge_unspent_total-tip\n",
        "\n",
        "outputs=[{'value':doge_unspent_total-tip-4_00_000_000 , 'address': 'D6zKNnkupqRbkB9p5rwix8QiobQWJazjyX'},\n",
        "         {'value':2_00_000_000 , 'address': 'DJBkcc9zShCCWPTvPuLUiHQegNPbmMipEH'},\n",
        "         {'value':2_00_000_000 , 'address': 'DJ8tHm9dkR9KYTRWYeEPa5iXEygattqqsd'}]\n",
        "close_tx=doge.mktx(doge_unspents,outputs)"
      ],
      "metadata": {
        "id": "5ItWf44tRP_w"
      },
      "execution_count": null,
      "outputs": []
    },
    {
      "cell_type": "code",
      "source": [
        "doge.signall(close_tx,my_privKey.to_hex()[2:])"
      ],
      "metadata": {
        "colab": {
          "base_uri": "https://localhost:8080/",
          "height": 124
        },
        "id": "87YSY49PiZhQ",
        "outputId": "37cebf0c-fd2b-4dac-b68b-1f91da3440fd"
      },
      "execution_count": null,
      "outputs": [
        {
          "output_type": "execute_result",
          "data": {
            "text/plain": [
              "'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'"
            ],
            "application/vnd.google.colaboratory.intrinsic+json": {
              "type": "string"
            }
          },
          "metadata": {},
          "execution_count": 204
        }
      ]
    },
    {
      "cell_type": "code",
      "source": [
        "tip/(len(cryptos.serialize(close_tx))/2)/100000"
      ],
      "metadata": {
        "colab": {
          "base_uri": "https://localhost:8080/"
        },
        "id": "Y4j9sanBifmS",
        "outputId": "d319f774-6a11-4ddc-a272-da924b6463e8"
      },
      "execution_count": null,
      "outputs": [
        {
          "output_type": "execute_result",
          "data": {
            "text/plain": [
              "2.1997360316761987"
            ]
          },
          "metadata": {},
          "execution_count": 205
        }
      ]
    },
    {
      "cell_type": "code",
      "source": [
        "closing=doge.pushtx(cryptos.serialize(close_tx))\n",
        "closing"
      ],
      "metadata": {
        "colab": {
          "base_uri": "https://localhost:8080/"
        },
        "id": "Q5Z_2nPPiwEv",
        "outputId": "849087c8-5b46-469a-e919-cabb1aadb694"
      },
      "execution_count": null,
      "outputs": [
        {
          "output_type": "execute_result",
          "data": {
            "text/plain": [
              "{'data': {'network': 'DOGE',\n",
              "  'txid': '22f2bb75129b01d2ccef433bbd4ce928fa1a65cb471ee1e4d895f8b861afc769'},\n",
              " 'status': 'success'}"
            ]
          },
          "metadata": {},
          "execution_count": 206
        }
      ]
    },
    {
      "cell_type": "code",
      "source": [
        "doge.fetchtx(closing['data']['txid'])['confirmations']"
      ],
      "metadata": {
        "colab": {
          "base_uri": "https://localhost:8080/"
        },
        "id": "OcH-Bd1gjAiD",
        "outputId": "efbf1231-0117-427e-e3fa-3c9844a75cf3"
      },
      "execution_count": null,
      "outputs": [
        {
          "output_type": "execute_result",
          "data": {
            "text/plain": [
              "320"
            ]
          },
          "metadata": {},
          "execution_count": 213
        }
      ]
    },
    {
      "cell_type": "markdown",
      "source": [
        "# Now Read"
      ],
      "metadata": {
        "id": "Ooyw02ZZBw80"
      }
    },
    {
      "cell_type": "code",
      "source": [
        "def get_output_spend_txns(txn_ident):\n",
        "  import requests\n",
        "  import json\n",
        "  r = requests.get(f'https://sochain.com/api/v2/tx/DOGE/{txn_ident}')\n",
        "  return [out['spent']['txid'] for out in json.loads(r.text)['data']['outputs']]\n",
        "\n",
        "def get_op_return(txn_ident):\n",
        "  import requests\n",
        "  import json\n",
        "  r = requests.get(f'https://sochain.com/api/v2/tx/DOGE/{txn_ident}')\n",
        "  outs=json.loads(r.text)['data']['outputs']\n",
        "  asm=outs[-1]['script_asm']\n",
        "  return (asm[10:] if 'OP_RETURN' in asm else None),outs[0]['spent']['txid'] if outs[0]['spent'] else None\n",
        "\n",
        "def get_op_returns(tx_head,prefix=''):\n",
        "  import time\n",
        "  time.sleep(0.25)\n",
        "  op_ret,next_txn=get_op_return(tx_head)\n",
        "  if (op_ret and next_txn):\n",
        "    return get_op_returns(next_txn,prefix+op_ret)\n",
        "  if op_ret==None:\n",
        "    return prefix\n",
        "  else:\n",
        "    return prefix+op_ret\n",
        "\n",
        "def read_cadenas(txn_ident):\n",
        "  datalist=[get_op_returns(txn) for txn in get_output_spend_txns(txn_ident)]\n",
        "  return datalist[0],b''.join([bytes.fromhex(x) for x in datalist[1:] ])"
      ],
      "metadata": {
        "id": "s6k6jU9LjI7h"
      },
      "execution_count": 5,
      "outputs": []
    },
    {
      "cell_type": "code",
      "source": [
        "(head_d02,bytes_d02)=read_cadenas('d0209a0f85872d6826c58bc23fab37c8b21feb22c15a5a6469f45358fb78ba41')"
      ],
      "metadata": {
        "id": "sqh9iLM8CEWy"
      },
      "execution_count": null,
      "outputs": []
    },
    {
      "cell_type": "code",
      "source": [
        "print(head_d02)\n",
        "print(bytes.fromhex(head_d02).decode('latin'))"
      ],
      "metadata": {
        "id": "Dznk8ZDxCnP5",
        "outputId": "ccf732f3-b6ac-415b-98aa-52357f7b7d0d",
        "colab": {
          "base_uri": "https://localhost:8080/"
        }
      },
      "execution_count": null,
      "outputs": [
        {
          "output_type": "stream",
          "name": "stdout",
          "text": [
            "c1dd00010e03010040008005037c5468697320697320616e20656e6372797074656420696d61676520666f722074776f207370656369616c206c61646965732e2e2e486f6c617c\n",
            "ÁÝ\u0000\u0001\u000e\u0003\u0001\u0000@\u0000\u0005\u0003|This is an encrypted image for two special ladies...Hola|\n"
          ]
        }
      ]
    },
    {
      "cell_type": "code",
      "source": [
        "num_keys=int(head_d02[24:26])\n",
        "zipkeys=[bytes_d02[i*64:i*64+64] for i in range(num_keys) ]\n",
        "zipdata=bytes_d02[num_keys*64:]"
      ],
      "metadata": {
        "id": "egnNm1MVGiko"
      },
      "execution_count": null,
      "outputs": []
    },
    {
      "cell_type": "code",
      "source": [
        "def get_txn_pub(txn_ident):\n",
        "  import requests\n",
        "  import json\n",
        "  r = requests.get(f'https://sochain.com/api/v2/tx/DOGE/{txn_ident}')\n",
        "  ins=json.loads(r.text)['data']['inputs']\n",
        "  publica=ins[0]['script_asm'][-128:]\n",
        "  return publica"
      ],
      "metadata": {
        "id": "N04yNWxbM-pM"
      },
      "execution_count": null,
      "outputs": []
    },
    {
      "cell_type": "code",
      "source": [
        "#this is the \n",
        "txn_pub_hex=get_txn_pub('d0209a0f85872d6826c58bc23fab37c8b21feb22c15a5a6469f45358fb78ba41')\n",
        "txn_pub_hex"
      ],
      "metadata": {
        "id": "ocg3t4VLNqB5",
        "outputId": "d2894093-28f0-4caa-bac7-5ca4b285b10a",
        "colab": {
          "base_uri": "https://localhost:8080/",
          "height": 35
        }
      },
      "execution_count": null,
      "outputs": [
        {
          "output_type": "execute_result",
          "data": {
            "text/plain": [
              "'7c88e9a4df6e9f45656c10bf66f28e28be235a15b64820b254f1b9eb2738314e6769f5c94da0c7640ffe76dcffca053b07a0804cd53a1c51ad03bfe0133ce8c5'"
            ],
            "application/vnd.google.colaboratory.intrinsic+json": {
              "type": "string"
            }
          },
          "metadata": {},
          "execution_count": 237
        }
      ]
    },
    {
      "cell_type": "code",
      "source": [
        "txn_pubKey=eth_keys.keys.PublicKey(bytes.fromhex(txn_pub_hex))\n",
        "txn_pubKey"
      ],
      "metadata": {
        "id": "2MpKHnyfFfxx",
        "outputId": "af4deee4-22c0-4783-964d-156aa9ae180d",
        "colab": {
          "base_uri": "https://localhost:8080/"
        }
      },
      "execution_count": null,
      "outputs": [
        {
          "output_type": "execute_result",
          "data": {
            "text/plain": [
              "'0x7c88e9a4df6e9f45656c10bf66f28e28be235a15b64820b254f1b9eb2738314e6769f5c94da0c7640ffe76dcffca053b07a0804cd53a1c51ad03bfe0133ce8c5'"
            ]
          },
          "metadata": {},
          "execution_count": 253
        }
      ]
    },
    {
      "cell_type": "code",
      "source": [
        "my_pub"
      ],
      "metadata": {
        "id": "uQ1UtTYhKoMQ",
        "outputId": "6f8943bb-19fd-4be8-fe84-bd21742bd246",
        "colab": {
          "base_uri": "https://localhost:8080/"
        }
      },
      "execution_count": null,
      "outputs": [
        {
          "output_type": "execute_result",
          "data": {
            "text/plain": [
              "'0x7c88e9a4df6e9f45656c10bf66f28e28be235a15b64820b254f1b9eb2738314e6769f5c94da0c7640ffe76dcffca053b07a0804cd53a1c51ad03bfe0133ce8c5'"
            ]
          },
          "metadata": {},
          "execution_count": 231
        }
      ]
    },
    {
      "cell_type": "code",
      "source": [
        "my_shared_key=shared_key(my_privKey,txn_pubKey)\n"
      ],
      "metadata": {
        "id": "Uic1wvgASB6e"
      },
      "execution_count": null,
      "outputs": []
    },
    {
      "cell_type": "code",
      "source": [
        "ses_kee=ecies.aes_decrypt(my_shared_key,zipkeys[0])\n",
        "data_do2=ecies.aes_decrypt(ses_kee,zipdata)"
      ],
      "metadata": {
        "id": "52roY4nySwmb"
      },
      "execution_count": null,
      "outputs": []
    },
    {
      "cell_type": "code",
      "source": [
        "def read_image_data(hex_header,image_bytes):\n",
        "  C={0:1,1:3}[int(hex_header[12:14],16)]\n",
        "  L=int(hex_header[14:18],16)\n",
        "  W=int(hex_header[18:22],16)\n",
        "  B=int(hex_header[22:24],16)\n",
        "  print(C,L,W,B)\n",
        "  sparkle_bits=message_2_bit_array(image_bytes,mode=None)\n",
        "  spark_array=bitarray2imgarr(sparkle_bits,imgshape=(W,L),bit=B,color=C).squeeze()\n",
        "  return spark_array"
      ],
      "metadata": {
        "id": "3F18AbxnXUit"
      },
      "execution_count": 6,
      "outputs": []
    },
    {
      "cell_type": "code",
      "source": [
        "array_do2=read_image_data(head_d02,data_do2)"
      ],
      "metadata": {
        "id": "8PdjFcj7XUR-",
        "outputId": "27aa3fe9-402e-4288-fa85-024e91a7f9ed",
        "colab": {
          "base_uri": "https://localhost:8080/",
          "height": 169
        }
      },
      "execution_count": 7,
      "outputs": [
        {
          "output_type": "error",
          "ename": "NameError",
          "evalue": "ignored",
          "traceback": [
            "\u001b[0;31m---------------------------------------------------------------------------\u001b[0m",
            "\u001b[0;31mNameError\u001b[0m                                 Traceback (most recent call last)",
            "\u001b[0;32m<ipython-input-7-a86de3b3229a>\u001b[0m in \u001b[0;36m<module>\u001b[0;34m()\u001b[0m\n\u001b[0;32m----> 1\u001b[0;31m \u001b[0marray_do2\u001b[0m\u001b[0;34m=\u001b[0m\u001b[0mread_image_data\u001b[0m\u001b[0;34m(\u001b[0m\u001b[0mhead_d02\u001b[0m\u001b[0;34m,\u001b[0m\u001b[0mdata_do2\u001b[0m\u001b[0;34m)\u001b[0m\u001b[0;34m\u001b[0m\u001b[0;34m\u001b[0m\u001b[0m\n\u001b[0m",
            "\u001b[0;31mNameError\u001b[0m: name 'head_d02' is not defined"
          ]
        }
      ]
    },
    {
      "cell_type": "code",
      "source": [
        "Image.fromarray(array_do2)"
      ],
      "metadata": {
        "id": "0Og01mNzXUP5"
      },
      "execution_count": null,
      "outputs": []
    },
    {
      "cell_type": "code",
      "source": [
        "def array_dec_from_txn(txn_ident,prvKey_input,index_key):\n",
        "  hex_header,enc_bytes=read_cadenas(txn_ident)\n",
        "  N_keys=int(hex_header[24:26])\n",
        "  Zipkeys=[enc_bytes[i*64:i*64+64] for i in range(N_keys) ]\n",
        "  Zipdata=enc_bytes[N_keys*64:]\n",
        "  Txn_pub=eth_keys.keys.PublicKey(bytes.fromhex(get_txn_pub(txn_ident)))\n",
        "  Shared_key=shared_key(prvKey_input,Txn_pub)\n",
        "  Ses_key=ecies.aes_decrypt(Shared_key,Zipkeys[index_key])\n",
        "  Data=ecies.aes_decrypt(Ses_key,Zipdata)\n",
        "  return hex_header,read_image_data(hex_header,Data)\n"
      ],
      "metadata": {
        "id": "hYeQjwEPaH1L"
      },
      "execution_count": 8,
      "outputs": []
    },
    {
      "cell_type": "code",
      "source": [
        "\n",
        "(d68_head,d68_array)=array_dec_from_txn('d68175766b70f7163aec93e5a4e81480a6c6dd51d0577319d6f3392e8725f53b',my_privKey,0)"
      ],
      "metadata": {
        "id": "JlCv9OQFC4fE",
        "outputId": "55e219e8-0c86-43dd-a309-2aa552de04df",
        "colab": {
          "base_uri": "https://localhost:8080/",
          "height": 187
        }
      },
      "execution_count": 9,
      "outputs": [
        {
          "output_type": "error",
          "ename": "NameError",
          "evalue": "ignored",
          "traceback": [
            "\u001b[0;31m---------------------------------------------------------------------------\u001b[0m",
            "\u001b[0;31mNameError\u001b[0m                                 Traceback (most recent call last)",
            "\u001b[0;32m<ipython-input-9-97a0d982319b>\u001b[0m in \u001b[0;36m<module>\u001b[0;34m()\u001b[0m\n\u001b[1;32m      1\u001b[0m \u001b[0;34m\u001b[0m\u001b[0m\n\u001b[0;32m----> 2\u001b[0;31m \u001b[0;34m(\u001b[0m\u001b[0md68_head\u001b[0m\u001b[0;34m,\u001b[0m\u001b[0md68_array\u001b[0m\u001b[0;34m)\u001b[0m\u001b[0;34m=\u001b[0m\u001b[0marray_dec_from_txn\u001b[0m\u001b[0;34m(\u001b[0m\u001b[0;34m'd68175766b70f7163aec93e5a4e81480a6c6dd51d0577319d6f3392e8725f53b'\u001b[0m\u001b[0;34m,\u001b[0m\u001b[0mmy_privKey\u001b[0m\u001b[0;34m,\u001b[0m\u001b[0;36m0\u001b[0m\u001b[0;34m)\u001b[0m\u001b[0;34m\u001b[0m\u001b[0;34m\u001b[0m\u001b[0m\n\u001b[0m",
            "\u001b[0;31mNameError\u001b[0m: name 'my_privKey' is not defined"
          ]
        }
      ]
    },
    {
      "cell_type": "code",
      "source": [
        "Image.fromarray(d68_array)"
      ],
      "metadata": {
        "id": "19-gAEzadmxw"
      },
      "execution_count": null,
      "outputs": []
    },
    {
      "cell_type": "code",
      "source": [
        ""
      ],
      "metadata": {
        "id": "NC1KXOsCdzbO"
      },
      "execution_count": null,
      "outputs": []
    }
  ]
}