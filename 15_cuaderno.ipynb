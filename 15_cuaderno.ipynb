{
  "nbformat": 4,
  "nbformat_minor": 0,
  "metadata": {
    "colab": {
      "name": "15_cuaderno.ipynb",
      "provenance": [],
      "include_colab_link": true
    },
    "kernelspec": {
      "name": "python3",
      "display_name": "Python 3"
    },
    "language_info": {
      "name": "python"
    }
  },
  "cells": [
    {
      "cell_type": "markdown",
      "metadata": {
        "id": "view-in-github",
        "colab_type": "text"
      },
      "source": [
        "<a href=\"https://colab.research.google.com/github/ProfDoeg/Colegio_Invisible/blob/main/15_cuaderno.ipynb\" target=\"_parent\"><img src=\"https://colab.research.google.com/assets/colab-badge.svg\" alt=\"Open In Colab\"/></a>"
      ]
    },
    {
      "cell_type": "code",
      "source": [
        "#! rm Colegio_Invisible -r"
      ],
      "metadata": {
        "id": "6YV5qP8RODUW"
      },
      "execution_count": null,
      "outputs": []
    },
    {
      "cell_type": "code",
      "execution_count": 2,
      "metadata": {
        "id": "p80LxM-iMpBC",
        "colab": {
          "base_uri": "https://localhost:8080/"
        },
        "outputId": "0ec7da0e-3881-4d76-c6b9-299356bb24c3"
      },
      "outputs": [
        {
          "output_type": "stream",
          "name": "stdout",
          "text": [
            "Cloning into 'Colegio_Invisible'...\n",
            "remote: Enumerating objects: 1136, done.\u001b[K\n",
            "remote: Counting objects: 100% (6/6), done.\u001b[K\n",
            "remote: Compressing objects: 100% (6/6), done.\u001b[K\n",
            "remote: Total 1136 (delta 2), reused 0 (delta 0), pack-reused 1130\u001b[K\n",
            "Receiving objects: 100% (1136/1136), 131.61 MiB | 21.05 MiB/s, done.\n",
            "Resolving deltas: 100% (785/785), done.\n",
            "Looking in indexes: https://pypi.org/simple, https://us-python.pkg.dev/colab-wheels/public/simple/\n",
            "Collecting cryptos\n",
            "  Downloading cryptos-1.36-py3-none-any.whl (69 kB)\n",
            "\u001b[K     |████████████████████████████████| 69 kB 3.5 MB/s \n",
            "\u001b[?25hInstalling collected packages: cryptos\n",
            "Successfully installed cryptos-1.36\n"
          ]
        }
      ],
      "source": [
        "! git clone https://github.com/ProfDoeg/Colegio_Invisible.git\n",
        "! pip install cryptos"
      ]
    },
    {
      "cell_type": "markdown",
      "source": [
        "#Parallel Transaction Chains\n",
        "\n"
      ],
      "metadata": {
        "id": "A54RU5ZeUZZk"
      }
    },
    {
      "cell_type": "code",
      "source": [
        "from PIL import Image\n",
        "import numpy as np"
      ],
      "metadata": {
        "id": "jSzywLaHMsem"
      },
      "execution_count": 3,
      "outputs": []
    },
    {
      "cell_type": "code",
      "source": [
        "def grey_imgarr(imgarr):\n",
        "  return imgarr[:,:,:3].mean(axis=2).astype('uint8')\n",
        "\n",
        "def message_2_bit_array(message,mode=None):\n",
        "    '''This function takes in a message as string, bytestring or hextring.\n",
        "    If hexstring input the set mode='hex' '''\n",
        "    if type(message)==bytes:\n",
        "        hex_str=message.hex()\n",
        "    elif (type(message)==str):\n",
        "        if mode not in ('hex','hexstring'):\n",
        "            hex_str=message.encode().hex()\n",
        "        else:\n",
        "            hex_str=message\n",
        "    else:\n",
        "        print('fix the input and mode')\n",
        "        return None\n",
        "    \n",
        "    num=int('0x'+hex_str,base=16)\n",
        "    byte_len=(len(hex_str)+1)//2\n",
        "    bit_len=byte_len*8\n",
        "    bin_str=bin(num)\n",
        "    bit_list=[int(bit) for bit in bin_str[2:]]\n",
        "    bit_list=[0]*(bit_len-len(bit_list))+bit_list\n",
        "    bit_array=np.array(bit_list,dtype='uint8')\n",
        "    return bit_array\n",
        "\n",
        "def bit_array_2_byte_str(bit_array):\n",
        "    '''Convert bit array to a bytestring'''\n",
        "    bit_list=[ str(bit) for bit in bit_array]\n",
        "    bin_str='0b'+(''.join(bit_list))\n",
        "    num=int(bin_str,base=2)\n",
        "    return num.to_bytes(len(bit_array)//8,'big')\n",
        "\n",
        "def bit_array_2_hex_str(bit_array):  \n",
        "    '''Convert a bit array to a hexstring'''\n",
        "    return bit_array_2_byte_str(bit_array).hex()\n",
        "\n",
        "def bit_array_2_str(bit_array,encoding='utf-8'):\n",
        "    '''Convert a bit array to a string'''\n",
        "    return bit_array_2_byte_str(bit_array).decode(encoding)\n",
        "\n",
        "def int2bitarray(x,bit=8):\n",
        "  return message_2_bit_array(hex(x)[2:],mode='hex')[:bit]\n",
        "\n",
        "def bitarray2int(b_arr):\n",
        "  ln=b_arr.shape[0]\n",
        "  scales=(2**np.arange(7,-1,-1))[:ln]\n",
        "  return (b_arr*scales).sum()\n",
        "\n",
        "def imgarr2bitarray(imgarr,bit=8):\n",
        "  return np.array([ int2bitarray(it,bit) for it in imgarr.reshape(-1)]).reshape(-1)\n",
        "\n",
        "def bitarray2imgarr(barrs,imgshape=(16,16),bit=2,color=1):\n",
        "  lns=len(barrs.reshape(-1))\n",
        "  #Bs=barrs.reshape(*imgshape,bit)\n",
        "  intlst=[ bitarray2int(barrs.reshape(-1)[i:i+bit]) for i in range(0,lns,bit) ]\n",
        "  intarr=np.array(intlst).reshape(*imgshape,color).astype('uint8')\n",
        "  return intarr\n",
        " \n",
        "def bitarray2imgarr_scale(barrs,imgshape=(16,16),bit=2,color=1):\n",
        "  lns=len(barrs.reshape(-1))\n",
        "  #Bs=barrs.reshape(*imgshape,bit)\n",
        "  intlst=[ bitarray2int_scale(barrs.reshape(-1)[i:i+bit]) for i in range(0,lns,bit) ]\n",
        "  intarr=np.array(intlst).reshape(*imgshape,color).astype('uint8')\n",
        "  return intarr"
      ],
      "metadata": {
        "id": "rsUqVeQXiaH4"
      },
      "execution_count": 4,
      "outputs": []
    },
    {
      "cell_type": "code",
      "source": [
        "class bitimage():\n",
        "\n",
        "  def __init__(self,imgpath,dims=(16,16),bit=2,color=1):\n",
        "    from PIL import Image\n",
        "    self.color=color\n",
        "    self.bit=bit\n",
        "    self.dims=list(dims)\n",
        "    self.img_og=Image.open(imgpath)\n",
        "    self.img_resize=self.img_og.resize(dims)\n",
        "    self.grey=grey_imgarr(np.array(self.img_resize))\n",
        "    self.img_grey=Image.fromarray(self.grey)\n",
        "    self.bitarray=imgarr2bitarray(self.grey,bit)\n",
        "    self.bitarray_color=imgarr2bitarray(np.array(self.img_resize)[:,:,:color],bit)\n",
        "    self.newimg=Image.fromarray(bitarray2imgarr(self.bitarray,imgshape=dims[::-1],bit=bit,color=1).squeeze())\n",
        "    self.newimg_color=Image.fromarray(bitarray2imgarr(self.bitarray_color,imgshape=dims[::-1],bit=bit,color=3).squeeze())\n",
        "    self.bytestring=bit_array_2_byte_str(self.bitarray)\n",
        "    self.bytestring_color=bit_array_2_byte_str(self.bitarray_color)\n",
        "\n",
        "\n"
      ],
      "metadata": {
        "id": "zaDY5mN6q_eR"
      },
      "execution_count": 5,
      "outputs": []
    },
    {
      "cell_type": "code",
      "source": [
        "!ls Colegio_Invisible/img"
      ],
      "metadata": {
        "id": "BMHGoycbRTmT",
        "outputId": "528adee3-655d-48d7-ace5-9fd643ad9236",
        "colab": {
          "base_uri": "https://localhost:8080/"
        }
      },
      "execution_count": 9,
      "outputs": [
        {
          "output_type": "stream",
          "name": "stdout",
          "text": [
            "Apollo_Slays_Python_1853.jpeg  hg_cry.jpeg\t rum_0.jpeg\n",
            "asymmetric.png\t\t       hg_drop.jpeg\t rum_1.jpeg\n",
            "bab_crop.jpeg\t\t       hg_hide.jpeg\t rum_2.jpeg\n",
            "barb_1.jpeg\t\t       hg_house.jpeg\t rum_3.jpeg\n",
            "barb_2.jpeg\t\t       hg_invite.jpeg\t rum_4.jpeg\n",
            "barb_3.jpeg\t\t       hg_rough.png\t rum_5.jpeg\n",
            "barb_4.jpeg\t\t       hg_xmas.jpeg\t rum_6.jpeg\n",
            "barb_5.jpeg\t\t       mask.png\t\t rum_7.jpeg\n",
            "barb_6.jpeg\t\t       peter2.png\t rump_final.jpeg\n",
            "barb_7.jpeg\t\t       peter3.png\t signature.png\n",
            "cat.png\t\t\t       peter4.png\t stego.png\n",
            "chris.png\t\t       peter.png\t symmetric.png\n",
            "clavis.jpeg\t\t       prv_pub_addr.png  zomnd.png\n",
            "colegio_invisible.jpeg\t       PubKeyToAddr.png\n"
          ]
        }
      ]
    },
    {
      "cell_type": "markdown",
      "source": [
        "# Transform Image and Create Byte Encoding "
      ],
      "metadata": {
        "id": "2XqOjTOpAFSm"
      }
    },
    {
      "cell_type": "code",
      "source": [
        "length=128\n",
        "width=64\n",
        "bit_num=5\n",
        "\n",
        "\n",
        "bimg=bitimage('Colegio_Invisible/img/peter3.png',dims=(length,width),bit=bit_num,color=3)\n",
        "display(bimg.newimg)\n",
        "display(bimg.img_grey)\n",
        "display(bimg.newimg_color)\n",
        "display(bimg.img_resize)\n",
        "len(bimg.bytestring)/80,len(bimg.bytestring_color)/80"
      ],
      "metadata": {
        "colab": {
          "base_uri": "https://localhost:8080/",
          "height": 291
        },
        "id": "JNi4bF6sH_Gd",
        "outputId": "43b7095e-c00c-44de-c9a1-a6189a36ac4c"
      },
      "execution_count": 27,
      "outputs": [
        {
          "output_type": "display_data",
          "data": {
            "text/plain": [
              "<PIL.Image.Image image mode=L size=128x64 at 0x7F6D78E4E1D0>"
            ],
            "image/png": "[encoded data removed]"
          },
          "metadata": {}
        },
        {
          "output_type": "display_data",
          "data": {
            "text/plain": [
              "<PIL.Image.Image image mode=L size=128x64 at 0x7F6D78D7FBD0>"
            ],
            "image/png": "[encoded data removed]"
          },
          "metadata": {}
        },
        {
          "output_type": "display_data",
          "data": {
            "text/plain": [
              "<PIL.Image.Image image mode=RGB size=128x64 at 0x7F6D78D75D90>"
            ],
            "image/png": "[encoded data removed]"
          },
          "metadata": {}
        },
        {
          "output_type": "display_data",
          "data": {
            "text/plain": [
              "<PIL.Image.Image image mode=RGBA size=128x64 at 0x7F6D78DED150>"
            ],
            "image/png": "[encoded data removed]"
          },
          "metadata": {}
        },
        {
          "output_type": "execute_result",
          "data": {
            "text/plain": [
              "(64.0, 192.0)"
            ]
          },
          "metadata": {},
          "execution_count": 27
        }
      ]
    },
    {
      "cell_type": "markdown",
      "source": [
        "# Create Embedding for Blockchain"
      ],
      "metadata": {
        "id": "XUPKMXFM_-QB"
      }
    },
    {
      "cell_type": "code",
      "source": [
        "length"
      ],
      "metadata": {
        "id": "hveHLetVd8of",
        "outputId": "448cfeec-f669-4479-fe85-09343131ae5b",
        "colab": {
          "base_uri": "https://localhost:8080/"
        }
      },
      "execution_count": 21,
      "outputs": [
        {
          "output_type": "execute_result",
          "data": {
            "text/plain": [
              "128"
            ]
          },
          "metadata": {},
          "execution_count": 21
        }
      ]
    },
    {
      "cell_type": "code",
      "source": [
        "depth=4 #depth of transaction chain\n",
        "\n",
        "import hashlib \n",
        "\n",
        "message=bimg.bytestring_color\n",
        "H=hashlib.sha256(message)\n",
        "\n",
        "n=4*80\n",
        "chunks = [message[i:i+n] for i in range(0, len(message), n)]\n",
        "\n",
        "print(len(chunks))\n",
        "print(len(chunks[-1]))\n",
        "\n",
        "print(H.digest())"
      ],
      "metadata": {
        "id": "clOFe3jmD8Iq",
        "colab": {
          "base_uri": "https://localhost:8080/"
        },
        "outputId": "259a05c6-bac2-4f4c-c235-0b86df8ee3e3"
      },
      "execution_count": 31,
      "outputs": [
        {
          "output_type": "stream",
          "name": "stdout",
          "text": [
            "48\n",
            "320\n",
            "b'\\x08\\xbb\\xbe\\x8a\\x13\\x9c,\\xa1\\xf4?\\xffI\\xack\\xb2\"e\\x84h\\xe2)\\xc3O\\x13\\x80\\xcc\\x91\\x0eO\\x1a\\xa4P'\n"
          ]
        }
      ]
    },
    {
      "cell_type": "code",
      "source": [
        "length_bytes=length.to_bytes(2,'big')\n",
        "width_bytes=width.to_bytes(2,'big')\n",
        "bitnum_bytes=bit_num.to_bytes(1,'big')\n",
        "print(length_bytes)\n",
        "print(width_bytes)\n",
        "print(bitnum_bytes)"
      ],
      "metadata": {
        "id": "UI1fkdjRcr9v",
        "outputId": "33f93b09-c4f7-4a38-a4e6-8b2cbea336f8",
        "colab": {
          "base_uri": "https://localhost:8080/"
        }
      },
      "execution_count": 29,
      "outputs": [
        {
          "output_type": "stream",
          "name": "stdout",
          "text": [
            "b'\\x00\\x80'\n",
            "b'\\x00@'\n",
            "b'\\x05'\n"
          ]
        }
      ]
    },
    {
      "cell_type": "code",
      "source": [
        "header=b'\\xc1\\xdd\\x00\\x01\\x03\\xff\\x01'+length_bytes+width_bytes+bitnum_bytes\n",
        "text='|This was Peter on her blanket during a ride to the country|🐴🐶'.encode() + H.digest()\n",
        "print(len(header))\n",
        "print(len(text))\n",
        "header+text"
      ],
      "metadata": {
        "id": "3rv-SKod-DXx",
        "outputId": "1869cc96-d980-4ea1-9540-97fa3e90bb80",
        "colab": {
          "base_uri": "https://localhost:8080/"
        }
      },
      "execution_count": 41,
      "outputs": [
        {
          "output_type": "stream",
          "name": "stdout",
          "text": [
            "12\n",
            "100\n"
          ]
        },
        {
          "output_type": "execute_result",
          "data": {
            "text/plain": [
              "b'\\xc1\\xdd\\x00\\x01\\x03\\xff\\x01\\x00\\x80\\x00@\\x05|This was Peter on her blanket during a ride to the country|\\xf0\\x9f\\x90\\xb4\\xf0\\x9f\\x90\\xb6\\x08\\xbb\\xbe\\x8a\\x13\\x9c,\\xa1\\xf4?\\xffI\\xack\\xb2\"e\\x84h\\xe2)\\xc3O\\x13\\x80\\xcc\\x91\\x0eO\\x1a\\xa4P'"
            ]
          },
          "metadata": {},
          "execution_count": 41
        }
      ]
    },
    {
      "cell_type": "code",
      "source": [
        "package=[header+text]+chunks\n",
        "package"
      ],
      "metadata": {
        "id": "yXA37A0yLCJB",
        "outputId": "f3dc34d0-88aa-4d74-ad21-ff91b318d95c",
        "colab": {
          "base_uri": "https://localhost:8080/"
        }
      },
      "execution_count": 43,
      "outputs": [
        {
          "output_type": "execute_result",
          "data": {
            "text/plain": [
              "[b'\\xc1\\xdd\\x00\\x01\\x03\\xff\\x01\\x00\\x80\\x00@\\x05|This was Peter on her blanket during a ride to the country|\\xf0\\x9f\\x90\\xb4\\xf0\\x9f\\x90\\xb6\\x08\\xbb\\xbe\\x8a\\x13\\x9c,\\xa1\\xf4?\\xffI\\xack\\xb2\"e\\x84h\\xe2)\\xc3O\\x13\\x80\\xcc\\x91\\x0eO\\x1a\\xa4P',\n",
              " b')\\x8eS\\x1c\\xa69Lr\\x98\\xe51\\x88S\\x10\\xa6!LB\\x98\\x851\\nb\\x14\\xc4)F2\\x0c\\x85!\\x8eS \\xc7A\\x90\\x93!&:\\x08S\\x0c\\x85\\x19\\n2\\x14d(\\xc8Q\\x90\\xa3!FB\\x8c\\x84\\x19\\x081\\x90c \\xc6A\\x0c\\x83\\x19\\x042\\x04B\\x00B2\\x14\\x851\\nR\\x14\\xc4)\\x86R\\x8c\\x85\\x19\\n2\\x14d(\\xc8Q\\x90\\x83!\\x042\\x0c\\x85\\x19\\n!\\x90B\\x18\\x86A\\x0c\\x82\\x10\\xc2!\\x04C\\x10\\x86\\x11\\x08\"\\x10B \\x84A\\x08\\x84!\\x84\"\\x08D\\x10\\x88\\xc7A\\na\\x8c\\x83!FB\\x90\\xa6\\x19\\n!\\x90d)N\\x84\\xb1\\xcb|\\x92\\xb6\\x94\\xc8\\x18\\xca!\\x0cB\\x18\\x861\\x10\\x84)\\x88S\\x19\\n)\\x902\\x14c \\x860\\x88a\\x10\\x82!\\x04\"\\x08D\\x11\\x08\"\\x10D \\x88A\\x10\\x82\\x11\\x04\"\\x08\\x84\\x10\\x88!\\x08\\x02\\x10\\x84!\\x08B\\x11\\x04B\\x19\\n\\xa6\\xbd+iL\\x81\\x08a\\x08\\x82\\x11\\x04\")\\x8eS\\x1c\\xa61Jb\\x14\\xc4)\\x88S\\x10\\xa6!LB\\x98\\x851\\na\\x90\\xa2\\x19\\x06B\\x94\\xc7)\\xd0c\\xa0\\xc8I\\x90\\x93\\x1d\\x04)\\x86B\\x8c\\x85\\x19\\n2\\x14d(\\xc8Q\\x90\\xa3!FB\\x0c\\x84\\x19\\x082\\x10c \\xc6A\\x8c\\x82\\x19\\x042\\x08c\\x08B!\\x90\\x85',\n",
              " b'1\\nb\\x14\\xc4)FR\\x8c\\x85\\x19\\n2\\x14d(\\xc8Q\\x90\\xa2\\x19\\x06B\\x8c\\x85\\x10\\x86\\x11\\x0cB\\x18\\xc6A\\x0c\\x81\\x10\\x82!\\x04B\\x08\\x84\\x11\\x08\"\\x10D \\x84A\\x10\\x82!\\x84B\\x08\\x84!\\x8c\\xa7A\\na\\x0c\\x82\\x19\\x062\\x0c\\x84\\x10\\xc8!\\x90d)L\\x84\\xb1\\xcc|R\\xc7\\x14\\xc8\\x10\\xc8!\\x90B\\x18D1\\x08c!\\x06B\\x94\\xc7)\\xd02\\x14C D1\\x08a\\x10\\x82!\\x04\"\\x08D\\x10\\x88\"\\x10B \\x88A\\x10\\x82\\x11\\x04B\\x08\\x84\\x10\\x88!\\x08B \\x84!\\x08B\\x11\\x04\"\\x08\\x86\\x965\\ni\\x0cq\\x0c\\x81\\x10\\x82\\x11\\x04\")\\x8cS\\x1c\\xa61\\nb\\x14\\xc4)\\x88S\\x10\\xa6!LB\\x98\\x850\\xc8A\\x8c\\x84)\\x8ac\\x98\\xe81\\xd2d$\\xe8IN\\x82\\x14\\xc3!FB\\x8c\\x85\\x19\\n2\\x14d(\\xc8Q\\x90\\xa3!FB\\x0c\\x84\\x19\\n2\\x10C \\x86A\\x90\\x82\\x19\\x06B\\x0cd\\x18\\xc6\\xa5$\\xa69\\nb\\x14\\xc4)FB\\x8c\\x85\\x19\\n2\\x14d(\\xc8Q\\x90\\xa3!FB\\x84C\\x08\\x84\\x11\\x0cC\\x18\\x841\\x08a\\x10\\x82!\\x10\\x84)\\x8cB\\x94d(D \\x88A\\x10\\x82!\\x04B\\x08\\x84!\\x90\\x858\\xc8Q\\x0c\\x82\\x18\\xc42\\x08d\\x10\\xc8!\\x90d)N\\x855\\xec',\n",
              " b'|\\x92\\xb7\\x10\\xc7\\x10\\xc8!\\x90C\\x18D0\\x88a\\x10\\xc2!\\x88d\\x19\\x0c2\\x14C \\x86@\\x88a\\x10\\x82!\\x04\"\\x08D\\x11\\x08!\\x10B \\x84A\\x10\\x82!\\x84B\\x08D\\x10\\x88\"\\x10B\\x10\\x04!\\x08B\\x11\\x04\"\\x08\\x84\\x965\\x0bi\\nq\\x0c\\x81\\x10\\x82\\x11\\x04\"!LR\\x98\\xa51\\nb\\x14\\xc4)\\x88S\\x10\\xa6!LB\\x94c \\xc8R\\x14\\xe52\\x0ct\\x18\\xe8:\\x12d$\\xa69\\nQ\\x90\\xa3!FB\\x8c\\x85\\x19\\n2\\x14d(\\xc8A\\x90\\xa3!FB\\x8c\\x85\\x19\\n!\\x90d(\\xc8A\\x8c\\x83!FB\\x10\\x85\\x8c\\x1a\\xc5\\xa8\\x851\\nb\\x14\\xc4)FB\\x8c\\x85\\x19\\n2\\x14d(\\xc8Q\\x90\\xa3!B!\\x84B\\x08\\x84\\x11\\x0cB\\x18\\x840\\x88A\\x10\\x8aR\\xca\\rb\\xd41\\x90\"\\x18\\x841\\x08a\\x10\\x82!\\x04B\\x10\\x86B\\x98\\x850\\x86A\\x08a\\x10\\xc4!\\x84C\\x10\\xc8!\\x90d)\\x90\\xa51\\xec|\\x92\\xc7\\x10\\xc7\\x10\\xc8!\\x90C \\x841\\x08a\\x10\\xc2!\\x84B\\x10\\xc8S\\x1cd(\\x841\\x08a\\x10\\x82!\\x04B\\x08D\\x11\\x08!\\x10B \\x84A\\x10\\x82!\\x04\"\\x08D\\x11\\x08!\\x10\\x02\\x10\\x84!\\x08B\\x10\\x84\"\\x08Dc\\xa4\\xe9YL\\x81\\x0c\\x81\\x10\\xc2\\x11\\x04\"',\n",
              " b'!LB\\x98\\x851\\nb\\x14\\xc4)\\x88S\\x10\\xa6\\x19\\n2\\x10\\x851Lr\\x99\\x06:\\x0ct\\x99\\t1\\xd0C\\x1cd(\\xc8Q\\x90\\xa3!FB\\x8c\\x85\\x19\\n2\\x14d(\\xc8Q\\x90\\x83!\\x06B\\x90\\xa5\\x19\\n2\\x10d \\xc8Q\\x90\\x83!\\x06BJ0\\x8c\\x1a1\\x8c\\x851\\nb\\x10\\xc3!FB\\x8c\\x85!\\n2\\x14d(\\xc8Q\\x90\\x81\\x10\\xc2!\\x04B\\x08\\x84!\\x8cC \\x841\\x08c!\\\\\\xd6A\\xaa9\\x8a!\\x0c\"\\x10D0\\x88A\\x10\\x82!\\x84B\\x10\\xc6B\\x98d(\\x860\\x88b\\x10\\xc41\\x88C\\x10\\xc6!\\x90d)\\x90\\xa4\\xb1\\xcbtT\\xc7\\x94\\xe8\\x19\\n!\\x90C\\x18\\x86A\\x0c\\x82\\x10\\xc2!\\x04C\\x08\\x842\\x14\\x850\\x86A\\x0c\\x82\\x18\\xc2!\\x84\"\\x08\\x84\\x10\\x88\"\\x10B \\x84A\\x10\\x82!\\x04B\\x08D\\x11\\x08\"\\x10B\\x10\\x84!\\x08@\\x10\\x84!\\x00BC\\x1dMyL\\x81\\x90\\xa2\\x18\\xc2!\\x04B!LB\\x98\\x851\\nb\\x14\\xc4)\\x88S\\x0c\\x84\\x19\\nB\\x98\\xa69N\\x83\\x1d\\x06:Lt\\x94\\xe8!L2\\x14d(\\xc8Q\\x90\\xa3!FB\\x8c\\x85\\x19\\n2\\x14d \\xc8A\\x90\\x83!FB\\x10\\x85!JS\\x18\\xe8@\\xc8Q\\x8c\\x83\\x19\\x1e\\xe7b\\xf4!\\x08\\x11\\x0c\\x85',\n",
              " b'1\\nb\\x14\\xc4)\\x88S\\x0c\\x85!L2\\x14d(\\x86@\\x88a\\x10\\x82\\x11\\x04B\\x08D\\x11\\x08C \\x86A\\x90\\xaaR\\x96\\xa4 \\xe6JP1\\x90d \\xc8A\\x0ca\\x10\\x82!\\x88C\\x10\\xc8B\\x9cd(\\x860\\x88b\\x10\\xc4!\\x88C\\x10\\x86!\\x90\\x851\\x8e\\x94)\\x8al\\x14\\xc7\\x94\\xe9\\x19\\n!\\x90C \\xc8A\\x0c\\x82\\x10\\xc2!\\x04C\\x08\\x86!\\x8ce0\\xc8Q\\x0c\\x83!D2\\x04B\\x10\\x86\\x10\\x88\"\\x10B \\x88B\\x10\\xc2!\\x04\"\\x08\\x84\\x11\\x08!\\x10\\x02\\x10\\x04!\\x08B\\x10\\x84!\\x00B2\\x99+i\\x90\\xa2\\x10\\xc1\\x10\\x82!\\x04B!JB\\x94\\x851\\nb\\x14\\xc3!F2\\x0c\\x85!\\x8eS\\x1c\\xc7A\\x8e\\x83\\x1d\\x06:Jc\\x90\\xa5\\x19\\n2\\x14d(\\xc8Q\\x90\\xa3!FB\\x8c\\x85\\x19\\n2\\x14d \\xc8A\\x90\\x83!HR\\x98\\xe7R\\xd4\\xb60\\xc79\\nQ\\x0clc7\\xab\\xa9I\\x08\\x84!\\x0c\\x851\\xd0\\x94%F:\\nc\\x90\\xa6!LC\\x1c\\x868\\x86@\\x84C\\x18\\xc8B\\x04\"\\x08D\\x10\\x88\"\\x18\\xc8D\\xa5.j\\xceb\\xa0\\xe6sX\\xc6\\xb5lbR\\x92\\x14\\xa2\\x18\\xc2!\\x08d\\x19\\nB\\x98d(\\x840\\x88A\\x10\\xc2!\\x88C\\x10\\x86!\\x90d1L\\x84-\\xab',\n",
              " b'l\\x14\\xd7\\x94\\xe8!N2\\x14d(\\x88Q\\x0c\\x82\\x18\\xc2!\\x08C\\x10\\xc8!\\x90d(\\xc8Q\\x90\\xa3!FB\\x88c\\x10\\x86\\x10\\x88\"\\x10D!\\x08b\\x10\\xc2!\\x04B\\x08D\\x10\\x88!\\x10B\\x10\\x84A\\x08\\x82\\x10\\x80!\\x00B\\x11\\x0c\\xc8I\\x8e\\x81\\x0c\\x82\\x10\\xc4!\\x88B!\\nB\\x14\\x85)\\nQ\\x8c\\x83!\\x08S\\x14\\xc7)\\x8eS\\xa0\\xc7I\\x8e\\x93\\x1d\\x041\\xc6B\\x8c\\x85\\x19\\n2\\x14d(\\xc8Q\\x90\\xa3!\\x06B\\x0c\\x84\\x19\\n2\\x14d(\\xc8R\\x14\\xc69\\xc8S9\\xef\\x8c\\xa2\\xb5\\xac\\x84)\\nd%<\\xdec\\x17\\x98\\xe7\\x10\\x86R\\x96\\x10\\x85\\xadj\\xd6\\xb2\\x9c\\xa3(\\xcer\\xa5%9\\xc9\\xf0zT\\xb4%0\\x83\\xces\\x88C\\x08\\x84\\x11\\x08\"\\x1aR\\xa89\\xadZLc!\\x06\\x83\\xdc\\xc6\\xb1KYL`\\x88A\\x10\\xc2!\\x88d\\x19\\nB\\x98d(\\x840\\x88A\\x10\\x82!\\x04C\\x10\\x86!\\x90d)N\\x84-\\xaak\\xd2\\xc7\\x19\\n!NB\\x9ce0\\xc8Q\\x0c\\x82\\x18\\xc2!\\x04C\\x10\\xc8!\\x90C \\xc8b\\x9d\\x03!\\x86C\\x08d\\x10\\xc6\\x11\\x0c\"\\x18D \\x88A\\x10\\x82!\\x04B\\x08D\\x10\\x88!\\x10B \\x84A\\x08\\x82\\x11\\x00!\\x00B!\\x8d\\nY\\x0cq\\x0cb\\x10\\xc2\\x11\\x04!',\n",
              " b'\\x19\\nB\\x14d \\x86A\\x90\\xa4)\\x8ac\\x94\\xc7)\\xd0S\\xa0\\xc7IL\\x82\\x14\\xc3!FB\\x0c\\x84\\x19\\x082\\x10d \\xc8A\\x90\\x83\\x19\\x042\\x0cd\\x19\\n2\\x10c!\\nU-iR\\x8ctV\\xb5\\x8c\\xa2t\\x1c\\x85*R\\x9c\\xe7\\x16\\xb5\\x10\\x94\\x9d\\x08s\\x9b\\xadc\\xde\\xef{\\xbe\\xf7~\\xf6\\xfd\\xddwx\\xce+I\\xc6\\x10|\\xe7-f\\xf4\\xa4\\xd2\\x94\\xa1)!\\n!\\x8dJT`\\xf8\\xb9jA\\xcaB%\\x06\\x83\\x96\\xe75\\xcfs\\x9c\\xd3\\x1c\\xe1\\x10\\xc2!\\x08C\\x19\\n2\\x14d(\\x86@\\x88A\\x08\\x82!\\x04B\\x10\\xc6!\\x90C!\\nd)\\x8ac\\xd4\\xc7\\xa1L1\\xd2C\\x1c\\x858\\xc8Q\\x90\\xa2\\x18\\xc2!\\x04B\\x18\\xc8!\\x90d(\\x86B\\x14\\xc4)\\x86B\\x88d\\x10\\xc8\\x11\\x0cB\\x18D0\\x88B\\x10\\xc4!\\x84B\\x08\\x84\\x11\\x08\"\\x10D \\x84A\\x10\\x82\\x11\\x00!\\x00B!\\x8d\\x0biN\\x81\\x94\\xc2\\x10\\xc2\\x11\\x04\"\\x19\\n!\\x90C \\xc8R\\x14\\xe51\\xcat\\x14\\xc8)\\xd0S\\xa0\\xc7IN\\x82\\x9d\\x06:Jt\\x14\\xc7!\\x8eB\\x98d(\\xc8A\\x0c\\x83!\\x06B\\x0cd\\x19\\n2\\x10d!Lg9\\xc9R\\x94\\xb6c8s\\x9c\\x84\\xa9\\x8dfs~\\xf7R\\x8c\\x1e\\xf6\\xde\\xf6\\xff\\xfb\\xff\\xf7\\xfe',\n",
              " b'\\xd7\\xb9\\x8e\\xea\\xda\\xc5-YB\\x0e{\\xdc\\xe75\\xaenqowY\\xcd\\xf3\\x9b\\xd6\\xb5c\\x18\\xf7\\xbe\\x94\\x94\\xe2\\xf6\\xad\\'1JB1Gs\\x14\\x84\\xa0\\xc61\\x8er\\x14\\xa2\\x10\\xc2!\\x04B\\x10\\xc61\\x90C \\x860\\x88a\\x10\\x82!\\x04B\\x10\\xc6!\\x8cC \\xc8S\\xa9kl\\x14\\xd7\\xa5\\x8eB\\x98c\\xa4\\xa6A\\na\\x90\\xa2\\x19\\x02!\\x84B\\x08\\x86!\\x90d \\x861\\x10\\xa3!FB\\x88d\\x10\\xc8!\\x8c\"\\x18\\x861\\x0cb\\x18\\xc4!\\x84B\\x08\\x84\\x11\\x08\"\\x10D \\x88A\\x10\\x82\\x11\\x04!\\x00B!\\x91\\x0ba\\x0c\\x81\\x0ca\\x10\\xc2!\\x04\"\\x10\\xc82\\x14\\x851\\nb\\x14\\xc4)\\x86B\\x8c\\x85\\x19\\n2\\x14e0\\xc8Q\\x90\\xa4)\\x8ac\\x94\\xc7)\\x8eC\\x1c\\xa6AL\\x82\\x99\\x051\\xccc\\x94\\xc7!\\nB\\x94\\x84*T\\xa79\\xc69\\x98\\xd6gYs\\xdc\\xf7\\xbf\\x18\\xb79\\xad\\xeb\\x13\\x94u\\x9c\\x7f\\xfc\\xff\\xb5\\xeec\\xba\\xae\\xaf;R\\x15\\xa4g(Rp\\xad%{S\\x17\\xaf\\xb9\\x9fw_\\xf6\\xbf\\xddsw\\xd6+jN\\x93\\x83\\x98\\xb3\\x14\\xa5!\\x0eb\\xb9ik\\x16c\\x1c\"\\x18\\x02\\x10\\x84A\\x08\\x82!\\x04C\\x10\\xc6!\\x8cC\\x18\\x861\\x0c\\x82\\x18\\xc2!\\x04B\\x08\\x84!\\x0cC!\\nt)\\x8a',\n",
              " b'k\\xd2\\xb6\\xa1mJ\\xda\\x85,\\xa7@\\xc8a\\x90\\xa3!D2\\x04C\\x08\\x86!\\x8cC \\x86A\\x94\\xa41\\xc6B\\x8c\\x85\\x10\\xc81\\x90C\\x18\\x86A\\x08a\\x10\\xc2!\\x84C\\x08\\x84\\x11\\x0c\"\\x10D \\x88A\\x10\\x82\\x11\\x04\"\\x00B\\x00\\x84\\x851N\\x91\\x08b\\x10\\xc2!\\x04\"\\x19\\n2\\x14C \\x86A\\x0cb\\x18\\xc41\\x88c\\x10\\xc6\\x11\\x0cC\\x18\\x86A\\x08a\\x10\\xc41\\x88c\\x10\\xc6!\\x8cC \\xc8R\\x14\\xc7J\\x9c\\xf7\\xa9k!JB\\x94\\x85+\\\\\\xd8A\\xe9J\\x1a\\xe7s\\xbc\\xa5k{\\xd7Z\\xcf\\xbd\\xdc\\xe2\\xdb\\xde?\\xed\\xff\\xb9\\xf71\\xcc\\xd76\\x95\\xeb,^\\x9d\\xdd\\xf9\\xabRp\\x84\\x1dI\\xc7z\\xbf\\xfd\\xbf\\xf7?\\xee}\\xbbs\\x14\\xbdeY\\xc2\\x0fj\\x92\\x83\\x98\\xa5!\\x14\\x82\\xbd\\xcck\\x9c\\xa5\\xac\\xe8@\\x86A\\x08a\\x10\\x82!\\x84B\\x10\\x86\\x11\\x0cC\\x18\\x86A\\x0c\\x82\\x18\\xc2!\\x04\"\\x08D\\x11\\x08C\\x18\\xc8S!HS\\x10\\xa6\\x1d+B\\x96u,\\xc8Q\\x0cq\\x94\\xc3)\\x86B\\x88d\\x10\\xc6!\\x8cC \\x86A\\x90\\xa5:\\x08c\\x90\\xa6\\x19\\n!\\x90B\\x18\\x860\\x88a\\x10\\x82!\\x84C\\x08\\x84\\x11\\x08\"\\x10D \\x88A\\x10\\xc2\\x11\\x04\"\\x00B!\\r\\nY\\nq\\x08a\\x10\\xc2!\\x04B',\n",
              " b'\\x10\\xc8!\\x8cC\\x18\\x861\\x08b\\x10\\xc2!\\x84C\\x10\\x86\\x11\\x0cB\\x18\\xc8A\\x90\\x81\\x10\\x82!\\x84C\\x10\\x86!\\x8c\\x85)\\x8e\\x82\\x14\\xc9R\\xedj\\xb9\\xefs\\xde\\xd79*T\\xe99\\xceQ\\x8c+Zs\\x9a\\xde\\xf5\\xbd\\xe3\\xbd\\xe7\\xff\\xde\\xf7_\\xf6\\xff\\xed\\x7f\\xb9\\xe6\\xad\\xacSX\\xae\\xb3^\\xee\\xfa\\xcdc\\x07B\\x0e\\xc5\\xe9\\xdd\\xe3\\xfd\\xd7\\xfb\\x9f\\xf3\\x1e\\xdd\\xbb\\x99\\xe2\\x90\\xa4\\x1bH5(1\\x062\\x0cG)\\x1e\\xd5\\xca0k\\xe0\\xe8I\\xaez\\xd8\\xd5-\\xa9[\\x06R\\x84B\\x08\\x84\\x11\\x0c\"\\x10D0\\x88A\\x10\\x82\\x11\\x04\"\\x08D\\x10\\x88!\\x11\\ne\\xb5\\xec|P\\xa6!LJ\\xda\\x850\\xeaY\\x90\\xa3\\x1d&BHc\\x90\\xa7\\x19L!\\x90C \\x86B\\x14\\xc8R\\xce\\x95\\x1d\\n1\\xd02\\x18C\\x18D1\\x08b\\x19\\x02!\\x88c\\x08\\x84\\x11\\x08\"\\x10D \\x88a\\x10\\x82\\x11\\x04\"\\x00B\\x11\\x08\\xe9Y\\x0cq\\x0c\\x81\\x10\\xc2!\\x84B\\x10\\x86!\\x0c\"\\x18D1\\x0cb\\x10\\xc4!\\x88B\\x10\\x86\\x11\\x08\"\\x10\\x863\\xa0\\xe3!\\x02\\x11\\x0cd1\\xce\\xa5)\\x8ccZ\\xc8F\\x13\\xa4\\xf3\\x8coz\\xceq\\xadgZ\\xc7{\\xabZ\\x8dk)I\\xf3x\\xde\\xf1\\xde\\xef\\xff\\xf7\\xff\\xdf\\xff\\x9f\\xf6\\xbf\\xed{\\x98\\xe6\\xef\\xac\\xdbz',\n",
              " b'\\xbf\\xb9\\x8db\\x95\\xa4mYo6\\xee\\xf1\\xdd\\xdf\\xfd\\xcf\\xf9\\x8f\\xf2\\xfe\\xcd5W\\xce\\r\\xacZ\\xe5\\xa4\\xa4!H4\\x1c\\xcek\"\\xf6A\\xee\\x84\\xe9\\x19\\xd6U\\xb4\\xedy\\xd6\\xef\\x8c\\x8c\\x84\\x0c\\x84\\x19\\x082\\x14\\x850\\x840\\x84A\\x10\\x86B\\x08c\\x08DB\\x99\\x8e|\\'Z_0\\x9d]\\x19F\\x96k\\xe2\\x95\\xb1Ms\\xe5H\\xd2\\xcf\\x8c\\xda\\xf89\\xf1t$\\xd7\\xc5\\xaf\\x8b\\xa1\\'BLk\\x90\\x95!*[^\\xc7=mz\\x98\\xd4%C!D2\\x08d\\x10\\x86\\x11\\x0cC\\x18D0\\x88A\\x10\\x82!\\x04\"\\x00B\\x11\\x08\\xe9Q\\x90\\x92\\x14\\xe2\\x19\\x02!\\x84C\\x10\\x86!\\x0c\"\\x18D \\x88a\\x10\\xc2!\\x04B\\x08\\x86\\x11\\x08B\\x18\\x863\\x9c\\xccb\\x88B\\x08c!\\x08\\xa5*\\x10}\\'*NW\\xb59\\xcd{\\xdc\\xff\\xfd\\xff\\xfb\\xde\\xef\\xfd\\xdesY\\xcd\\xf3\\x9c{\\xba\\xe6\\xaf\\xee\\xef\\xff\\xff\\xff\\xdf\\xff\\x9f\\xf6\\xbf\\xed{\\xba\\xd6m\\xac\\xdb\\xfd\\xd6\\xb1KR9\\xb4\\xf7\\x8asV\\xee\\xf1\\xdd_\\xfd\\xcf\\xf9\\x8fj\\xbc\\xbci\\x06M\\xec\\xa4\\\\\\xb4\\xa1\\xac[\\xdc\\xe7\\xb9\\xafb^\\xc4\\xcas\\xad\\xf3K\\xe2\\xb8\\xcd/\\x98\\xd2\\xaf\\x8c\\xd8\\xe7\\xb1\\xd0td\\xd7\\xc1+b\\x12\\xa4)kk\\x9a\\xf81\\xd0|eK\\xe2\\xb8\\xcdq\\xaa\\xdf2',\n",
              " b'\\xad\\xab|\\xd7\\x1a\\xa5\\xf3K\\xe6\\xb8\\xd5q\\xaa_3\\xad\\xe7lR\\xf8\\xa5\\xf1K\\xe6\\xb8\\xcd/\\x99\\xda\\xf0\\x94\\xe1*N\\xb7\\xa5\\xb1*ZT\\xb3\\xe36\\xbe\\'BFB\\x88d\\x19\\n!\\x8c\"\\x18\\x86A\\x08b\\x10\\xc2\\x11\\x04\"\\x00B\\x00\\x84\\xe9Z\\x14\\xc2\\x14\\xc2\\x19\\x02!\\x84C\\x08\\x86!\\x0c\"\\x10D!\\x08a\\x10\\xc2!\\x04C\\x08\\x84!\\x8cc!\\x08C\\x18\\xcbZ\\xa0\\xf6\\xb9\\xcc\\x8c\\x1dI\\xc2r\\x8di;\\xda\\xba\\xd69\\xbd\\x7f\\xfe\\xff\\xff\\xff\\xff\\xff\\xff\\xff\\xff\\xff\\xde\\xf7=\\xee\\xff\\xfd\\xef3\\xcd\\xe7\\xff\\xf7\\xff\\xdf\\xff\\x9f\\xf6\\xff\\xfeww\\xcd\\xe7\\xee\\xe7\\xbb\\xb6+\\x1cV:\\xbc\\xf7y\\xf7W\\xee\\xef\\xcc\\xdb\\xfd\\xd7\\xf9\\x8e^V\\x8bd\\xe5^\\x91\\xa4\\xe0\\xc5%\\x8bS\\x98\\xa6)\\rQ\\xde\\xd5\\xc6R\\x95+*\\xdav\\xbc\\xedyV\\xd3\\xb5\\xe9|R\\xf9\\x8d-\\t\\xd6U\\xb5/\\x8a_4\\xbei|R\\xf9\\xa5\\xf3K\\xe6\\xb7\\xcdq\\xaa\\xe3T\\xbe+\\x8c\\xd7\\x1a\\xb6w}r\\xd9\\xdd/\\x9a_5\\xc6\\xad\\x9d\\xdf\\\\\\xc6\\xf9\\x8d\\xf6\\xf9\\xddq\\xaa\\xe35\\xbek|\\xd2\\xd8\\x8d+\\tQ\\xd0\\x92\\xd8\\xe69\\xe9R\\xcc\\x84\\x1d\\t\\x19\\n2\\x10C\\x18\\x841\\x08a\\x10\\xc2\\x11\\x04\"\\x08D\\x00\\x84\\xa69\\x90\\x91\\x0c\\x81\\x10\\xc2!\\x84C',\n",
              " b\"\\x10\\xc6!\\x0cC\\x18D \\x88a\\x10\\x82!\\x88C\\x10\\x86!\\x8c\\xa5*\\x94\\x879\\x91\\x83\\xa9(^\\xd2\\xbd\\xa7{O7\\xa6/Mf\\xdd\\xe6}\\xdd\\xff\\xdd\\xff\\xfd\\xff\\xfb\\xff\\xff\\xff\\xff\\xff\\xff\\xff\\xbf\\xff\\x7f\\xff\\xff\\xb9\\xdec\\xff\\xef\\xff\\xdf\\xff\\x7f\\xff?\\xfe\\xf7V\\xe6\\xab\\xfe\\xe7w\\x96k\\x1c\\xd6;\\xbc\\xf5y{\\x99\\xe6\\xaf\\xdd\\xe3\\xfd\\xcf\\xb7l\\xd1\\xd2z\\xeb8o7\\xac\\xe3\\x075\\xedZ\\x92t\\x18\\xacQ\\xde\\xe5\\xc2\\x0f\\x8c\\xa5*Vv\\xbc\\xebiV\\xd3\\xb5\\xe7lJ\\xb7\\x95mK\\xe2\\xb8\\xd5\\xb3\\xaa\\xe3U\\xc6\\xa9|N\\xd7\\xad\\xf3l\\xea\\xd9\\xdd\\xb3\\xbbgV\\xce\\xeb\\x8d[;\\xbewl\\xee\\xb8\\xd5o\\x9a_4\\xbek\\x8dg\\x9d\\xcf;l\\xee\\x97\\xcc\\xebz[\\x15\\xc6o\\x9d\\xdf;\\xb65Kb3\\xa3\\xa1'BLs\\xda\\xf7\\xa1K:\\x12t$\\xc7@\\xc8Q\\x08a\\x10\\xc2!\\x04B\\x08D\\x10\\x88d)\\x90\\xa1\\x94\\xc1\\x10\\xc2!\\x84C\\x10\\x86!\\x0cC\\x18\\xc6@\\x88B\\x10\\xc2!\\x04B\\x10\\xc6B\\x10\\xe8:\\xd6\\x96\\xb1mk\\x1c\\xe6\\xbd\\xee\\x8ca\\x8c[\\x9b\\xce\\xf5\\x8en\\xfc\\xde;\\xcc\\xf7\\x99\\xf7u\\xefs\\xde\\xe7\\xff\\xef\\xff\\xff\\xff\\xff\\xff\\xff\\xff\\xff\\xff\\xee\\xe7\\xff\\xe7\\xff\\xcf\\xff\\x7f\\xff\\x7f\\xff\\xfb\\x98\\xf71\\xee_\\x98\",\n",
              " b\"\\xa6\\xad-Z[\\xc4\\xf9\\x9a\\xfb\\xba\\xdek\\xeeg\\xfd\\xd6\\xf1J\\xc9\\xd1{5\\x8bg\\x16\\xb5$\\xe6%')\\x884\\xa0\\xcdba\\x07F1\\x8c\\xe7\\x1aR\\x13\\xa4gH\\xce\\x91\\xa5e[J\\xb6\\xa5\\xf1[\\xe6\\x96\\xc4\\xedz[\\x14\\xb6)k\\xdb\\x1a\\xbe\\xb7}o\\x1b\\xe5\\xf5\\xbbgv\\xce\\xeb\\x8dR\\xf8\\x9do\\x19\\xd1\\xf1\\x94%9R\\xd6\\xce\\xf1\\xbe\\xe3|\\xbe\\xb9\\x9d\\xf7\\x1a\\xdd\\xb1\\xack\\x99\\xdfq\\xae_;\\xbeulf\\x96\\xc4\\xebyN\\xb0\\x94\\xdd\\x08\\xb1\\xaeJ\\x96\\x95\\xb1ljV\\xc3\\x1d\\x03!D2\\x08C\\x08\\x86\\x10\\x88C!\\x90\\x92\\x14\\xe2\\x19\\x041\\x88c\\x08\\x841\\x8c\\x84!\\x8cS\\x18\\xc69\\xccc\\x14\\xa5)JB\\x10\\xa5)\\x8cc\\x18\\xc79\\xd6\\xb5\\xc2\\x0f\\xce/ZJ\\x93\\x8e\\xb5\\x7fw~\\xee\\xbf\\xed\\xff\\xfc\\xff\\xfb\\xff\\xfb\\xff\\xff\\xff\\xff\\xff\\xff\\xff\\xff\\xff\\xff\\xff\\xff\\xff\\xff\\xf3\\xfd\\xcf\\xfb\\xaf\\xff\\x7f\\xff\\xbf\\xff\\xff\\xbb\\xff\\xb5\\xffg\\xdc\\xbe\\xaf=\\xde|\\xcd{\\xbc{\\xba\\xd5\\xe9\\xee\\xeb\\xfd\\xd6+)\\xc5\\xd8\\xb57\\xab\\xda\\xb2{\\x14\\xc4\\x99'*\\xd2\\x86\\xad.j\\xdf\\x07\\xbe\\x0f|b\\xf8\\xca\\x12\\x9c\\xa9XJp\\x94\\xa3)\\xcat\\x95+\\tN2\\x9c\\xebj\\xe36\\xce\\xad\\x9d[:\\xb65|\\xee\\xf9\\xddq\\x9a\\xe37\",\n",
              " b'\\xd7/\\x9d\\xd2\\xd7\\x95+*\\xda\\x97\\xc5\\xf3\\xbb\\xeb\\x99\\xdfs\\xbe\\xe7}\\xcf=l\\xea\\x96\\xbd\\xb1\\x9b\\xe7w\\xce\\xed\\x8dV\\xf8\\xa5\\xaf:\\xdaT\\xb4\\xa7XFm|\\x18\\xe7\\xb5\\xf0c\\x9e\\xc7=LjT\\xb4\\xadhJ\\x86B\\x84B\\x08\\x86\\x10\\x88\"\\x19\\xd2\\xa2\\x99\\x04)\\x862\\x08d9\\xce\\xe6\\xaa/k\\xda\\xb71Ok\\x1c\\xd5\\xb5\\x8as\\x14\\xe6\\xad\\xcdcX\\xb6-LZ\\xa3\\x07\\xe2\\xf5\\xadg9F\\xf6\\xafy\\xaf\\xff\\x9f\\xff?\\xfe\\x7f\\xfd\\xff\\xfd\\xff\\xff\\xff\\xff\\xff\\xff\\xff\\xff\\xff\\xff\\xff\\xff\\xff\\xff\\xff\\xff\\xff\\xfd\\xd7\\xb9\\x8f\\xfb_\\xff\\xbf\\xff\\xff\\xdd\\xff\\xb5\\xff\\xf3\\xfd\\xcf1>b}\\xd5\\xbd\\xddwy\\xde-\\xffs\\xbb\\xc5g\\x0cZ\\x9c\\xe6\\xafi\\xca\\x0es\\x14\\xe6)\\xacS\\xda\\xb71Nj\\xe0\\xf6\\xc2\\x0f| \\xe8A\\xf0\\x8b\\xa1\\x16\\xbd\\xef\\x84\\\\\\xf7\\xb5\\xces\\xde\\xf8F2\\x9c\\xa9YR\\xb2\\xa5g[\\xd7\\x19\\xad\\xf3:\\xdat\\xac\\xa7I\\xd6\\xd5\\xbek|\\xd6\\xf9\\xb65l\\xee\\xd8\\xd5/\\x8bcV\\xc6\\xb1\\xaec|\\x94\\xeb\\x08\\xca\\x12\\x9c\\xa9Z\\xdf6\\xc6\\xad\\x8c\\xd6\\xf9\\xa5\\xb1:ZT\\xac\\xa7XJm|V\\xc7)mR\\xda\\xa65\\x8ez\\x98\\xd4%GBJc\\x0c\\x84!LS\\x1c\\x851N\\x82\\x9d#)\\x84B\\x88d',\n",
              " b\")J\\xf6\\xaepk\\x98\\xa6-+RX\\xb4\\xb1ij\\xd2\\xf6\\xaa/d\\xa0\\xd9A\\xb2\\x83b\\xf6\\xceP\\xbd\\xa9\\xad_\\xbc\\xcf\\xfd\\xbf\\xff\\x9f\\xff\\x7f\\xfe\\xff\\xfe\\xff\\xfd\\xff\\xff\\xff\\xff\\xff\\xff\\xff\\xff\\xff\\xff\\xff\\xff\\xff\\xff\\xff\\xff\\xff\\xff\\xef\\xb7\\x7fw?\\xff\\x7f\\xff\\xff\\xff\\xff\\xb9\\xff\\xfb\\xff\\xe73]\\xde|\\xcd\\xbb\\xcc\\xf3X\\xee\\xf5\\xffsy\\xbe\\xb1n\\xf7y\\xc5\\xab8NP\\x8b\\xdd\\x0760s\\xda\\xc6\\xad/j\\xa1\\x07B\\x0f| \\xe8B\\x12\\x9c%8JO\\x84\\x1f\\x18\\xbe1t \\xf8\\xc6\\x11\\x93\\xe1\\x17\\xc61\\x9d'k\\xd2\\xd8\\x9dm\\x19\\xd2\\x12\\x9c%9R\\xb4\\xb5\\xe7[J\\x96\\xa5\\xb1l\\xee\\xf9\\xddq\\xaa[\\x13\\xad\\xe5:\\xbe\\x11k\\x9f\\x08\\xcat\\xb5\\xb1\\x9b\\xe7v\\xce\\xa9lJu\\x84g)\\xd2t\\xb4\\xa7X\\xca\\x90\\x95#:\\xc6u\\x84\\xa9\\tQ\\xf1\\x9b\\xa1&\\xbe,t\\x18\\xe7\\xb1\\xcfS\\x1at\\xa4\\x85(\\x86C!D1\\xc6C\\x0c\\x86\\x10\\x86B\\x11\\xaaD\\x1a\\xa5\\xa9)B\\x14\\x94)(Z\\x92\\xc5\\xa5\\xabS\\xda\\xb8\\xbd\\x94\\x93\\xf1i\\xef7\\xe6\\xf1\\xac\\xdbX\\xae\\xf3no\\x1e\\xee\\xbf\\xee\\x7f\\xfc\\xff\\xf7\\xff\\xf7\\xff\\xf7\\xff\\xef\\xff\\xdf\\xff\\xff\\xff\\xff\\xff\\xff\\xff\\xff\\xff\\xff\\xf7\\xb9\\x8e\\xef\\x1f\\xf7?\\xff\\x7f\\xff\\xff\\xfd\\xff\\xfb\\xff\",\n",
              " b'\\xef\\xb7}\\xe2|\\xcdw\\x9bsX\\xf7w\\xde\\xefz\\xc7\\xbb\\xbd\\xef6\\xac\\xafY\\xd2q\\x8c\\x1f(\\xbd\\xcd[\\x98\\xa8\\xbd\\x92\\x83c\\x06\\xc2\\x0es\\x9c\\xa5)\\nS_\\x07F-s\\x98\\xd7>\\x11s\\xde\\xc79\\x8ds\\x9e\\xf7>\\x0e|\\x1f\\x08\\xb9\\xf0c\\\\\\xe7\\xc22\\xa4\\xebyR\\xb1\\x9d#*N\\xb6\\xa5\\xaf)\\xd5\\xf1\\x9b\\xa1\\x17\\xc6P\\x8c\\xa1\\x08\\xc2\\x11\\x84e\\x19Nu\\xbdm\\x8a\\xdb\\x14\\xb6%:\\xcat\\x94\\xe9)\\xd6t\\xac\\xa7X\\xca\\x8f\\x8c\\xdf\\x19\\xc23\\x84g\\x08\\xce\\x12\\xa4%H\\xce\\xb0\\x95\\x18\\xf8!K1\\xd0t \\xc79\\nd)fB\\x88c\\x94\\xe8\\x08\\x86!\\x0c\\x84#V\\x889lZ\\x92\\x94%(RP\\xb5%\\x8bS\\xda\\xb9\\xc5\\xf6\\xa4\\xafY\\xda\\x91\\xb5#IB\\xf5\\x96\\xf3nj\\xfc\\xde;\\xbcwx\\xee\\xf1\\xeec\\xdd\\xcf\\xfd\\xbf\\xff\\x9f\\xff?\\xfe\\xff\\xfe\\xff\\xff\\xff\\xff\\xff\\xf7\\xfd\\xafs\\x1e\\xee\\xbf\\xfe\\xff\\xfd\\xff\\xff\\xff\\xff\\xff\\xef\\xbb\\x9d\\xe2\\x9b\\xc55\\x8asX\\xf7w\\xdek\\xbc\\xdf7\\xab\\xda\\x98\\xbd-Y\\xca/{\\x98\\xd5\\xa5\\xed\\\\^\\xc8\\xbd\\x92\\x83e\\x07A\\xedk\\x9c\\xa61+Z\\x98\\xc69\\xce\\x84\\x1f\\x18\\xb1\\xadR\\xd6\\x95)KZ\\xd8\\xc65\\xackX\\xc61\\xaes\\xde\\xd7=\\xf1\\x94e7\\xc2-',\n",
              " b'k\\x98\\xc6\\xad\\x8cc\\\\\\xe7\\xc1\\xf0\\x8c\\xa9Z\\xdf2\\x9d\\\\\\xe7\\xb9\\xef\\x84e:\\xde\\xd7\\xcdo\\x8a\\xdb\\x14\\xad\\xe9[\\xce\\xb7\\x9do:ZT\\xb4\\xa7X\\xce\\x90\\x94\\xdf\\x19>\\x12\\x84d\\xf8\\xc9\\xd0\\x8b_\\x07B/\\x8c\\xda\\xf8\\xa5K:\\x12c\\xa0\\xc79Lt)h[L\\x85\\x14\\xe9\\x19\\x082\\x14d)\\xcex9\\x91{V\\xa5%(ZR\\xb5%\\x8aK\\xda\\xc9A\\xd3\\x8b\\xe2\\xf6\\xce/\\xc5\\xa7\\xacW\\x9a\\xbe\\xf3]\\xe6\\x9b\\xc4\\xf7\\x89\\xeb\\x13\\xd6)\\xbc\\xd7\\x9a\\xb7\\xb9\\x9f\\xfb\\x7f\\xff?\\xfe\\x7f\\xfc\\xff\\xfb\\xff\\xfb\\xff\\xf7\\xff\\xdf\\xf7>\\xe6}\\xdd\\xff\\xdc\\xff\\xfb\\xff\\xff\\xff\\xf7\\xfd\\xad\\xe2\\xb9\\xb4\\xf3zsX\\xf7w\\xcek{\\xce/l^\\xb8\\xbdi8\\xc1\\xccs\\x14\\xf6\\xad\\xacKX\\x989\\x93\\x93\\xe98B\\x0fR\\xd6\\xa61\\nZV\\xb51\\x8d|%J\\xbe\\x11cZ\\xb61ljT\\xb5)jZ\\xd6\\xc6-lZ\\xd8\\xd7=\\xcf\\x83\\\\\\xf6\\xb9\\xef\\x84e:N\\xb6\\x9dm)\\xd23\\xa5+w\\xc2,k\\x98\\xd7BS\\x95-:\\xdaT\\xb4\\xe9j[\\x16\\xbem|\\xd2\\xb7\\x9d-\\x19\\xd2\\x12\\x9b\\xe38Fo\\x84\\x9a\\xf85\\xcfk\\xa0\\xe8E\\xd0\\x8b\\xa1\\x16\\xb9\\xeds\\xd8\\xd7\\xa9\\x8dJ\\xd8t$\\xc8A\\xd0\\x94)hS\\x0e\\xa6\\x1d+',\n",
              " b'\\x10\\x86!\\x8cd \\xc8C\\x9c\\xf0r\\xe2\\xe5\\xadHJ\\x0e\\x94\\x1diCX\\xa71P{i8\\xe7\\x15\\xe6\\xf1\\xdd\\xdf\\x9a\\xae\\xf1=\\xe2{\\xc4\\xf5y\\xea\\xf3\\xd5\\xe7\\xbcOx\\xa73^\\xee\\xfe\\xe6?\\xdd\\x7f\\xdb\\xff\\xb7\\xff\\xf7\\xff\\xf7\\xff\\xef\\xfb_\\xee\\xbd\\xcc\\xfb\\x99\\xff\\xb9\\xff\\xff\\xff\\xf7\\xfd\\xad\\xe2\\xb8\\xac\\xb3zsY\\xe6\\xf3\\xbd\\xe78\\xb6/\\\\^\\xb5\\xa4\\xa3\\x07=\\xab{V\\xd5\\xa5\\xcdT^\\xd9\\xc5\\xf3\\x93\\xe3\\x18)jJ\\x94t\\xa5LbV\\xc3\\xa5(R\\x9a\\xf7\\xbe2|\"\\xc6\\xb5Kb\\x96\\xb4\\xa5IJ\\x94\\xa5)JZ\\xd8\\xd7>\\x12\\x9cgH\\xce\\x91\\x9d%J\\xcau\\x8c\\xe9:V\\x96\\xbc\\xa9X\\xca\\x93\\xad\\xab|\\xdb\\x1a\\xad\\xf3Kbu\\xb4\\xa7YN\\xb3\\xa5e:\\xce\\x95\\x9do:Z2\\xac%HJn\\x84Z\\xe85\\xcfc\\x1c\\xb6\\xb9lk\\x1a\\xe6\\xb9\\xeds\\xda\\xe7\\xad\\xadR\\xd8\\x84\\xa8\\xc79\\x8e\\x82\\x98\\xe7J\\xd0\\xa6\\x1d+\\x08D\\x11\\x08B\\x18\\x861\\x08d)\\x1a\\xb4=\\xaaRP\\x94\\x1d(:\\x90v\\xadT\\x9c\\xb3\\x8bw\\x98\\xee\\xf1\\xcd[\\x99\\xa73M\\xe2\\x9b\\xc55\\x8af\\xf4\\xcd\\xa7\\xab\\xd3\\x99\\xafun\\xea\\xde\\xde?\\xcc\\x7f\\xb9\\xff3\\xee\\xeb\\xff\\xf7\\xff\\xdf\\xff\\x9f\\xf6\\xff\\xeewW\\xf7w\\xff\\xff\\xff',\n",
              " b'\\xe7\\xbb\\xaef\\xf7\\xac\\xb3zo7\\xdeo\\xac\\xdf8\\xb61l^\\xb3\\x94\\x1c\\xd5\\xb9\\x8a\\x83\\x99\\x17\\xb2Pl\\xa0\\xd8\\xbd\\xb0{^\\xf7-\\x8cBR\\x85(\\xe9R\\xda\\xd4)HJV\\xd6\\xba\\x11t \\xe7\\xc1\\x8dk\\x1a\\xe65\\xa9R\\x92\\xa5)l[\\x1a\\xd7>\\x11\\x93\\xe1\\x17>\\x0f\\x84_\\x08\\xb9\\xcfk\\x9c\\xe7\\xc1\\xcf\\x83\\xe1\\x19R\\xb6\\xc6\\xaf\\x9eV\\xf9\\x9do:\\xdeu\\xbd+zZ\\xf5\\xbek|\\xd6\\xd8\\xa5\\xb1:\\xdeS\\xacgXJo\\x84X\\xd7\\xad\\x8dS\\x1a\\xb65lj\\x96\\xc5-j[\\x18\\xd75\\xcec\\x1a\\xb61*QLq\\x94\\xa7J\\x90\\xa6\\x9dL\\x08D!\\x08c \\x84!\\x08B\\x18\\xces\\xb9\\xab\\x8b\\xd6\\xd5\\xa5iC\\xdc\\xcb\\xda\\x9a\\xd5\\xf9\\xbcw\\x98\\xe6\\xef\\xcc\\xd3x\\xa5\\xa6\\xfbN\\x18\\xac\\xb5\\x8bwx\\xee\\xf1\\xcd_\\x9a\\xbf\\xb7\\x8fo\\x1e\\xe6=\\xcc\\x7f\\x98\\xffs\\xed\\xe3\\xfd\\xdf\\xff\\xdf\\xfb_\\xf6\\xbf\\xfe\\xfb\\xba\\xff\\xb9\\xff\\xff\\xfe\\xdf\\xb9\\x8e\\xef\\x19\\xbd1Y\\xe6\\xf4\\xc5\\xe9\\x8b\\xd7Y\\xb6qj\\xd2os\\x1e\\xd5\\xc1\\xcc\\x8b\\xdb\\x17\\xb1\\xed[X\\xa6\\xb1Lb\\x90\\x94\\x1c\\xe71\\xce\\x84\\xa9\\nQ\\xd0\\x83!\\x05)\\x90\\x94\\xb1\\xcet\"\\xe8A\\xaez\\x96\\xb5\\xb1\\xaaR\\xd4\\xb5\\xa9JR\\x96\\xb5\\xb1\\x8ck\\x1a\\xd79\\xf1',\n",
              " b'\\x94\\xe7[R\\xd7\\xad\\xf1k\\xe6\\xb7\\xc5-z\\xdb\\x15\\xb6\\'J\\xce\\x96\\x95+:Z\\xd7\\xcd\\xf3\\xba\\xdf4\\xb6\\'KN\\x96\\x95-)\\xd6S\\xaceG\\xc6p\\x8c\\xdd\\t5\\xd0[\\\\\\x95\\xb1+Z\\xd8\\xc5\\xb1\\x8a[\\x14\\xb5\\xad\\x8c[\\x1a\\xa5\\xb1Ka\\xd0\\x92\\x14\\xa51\\xce\\x95\\x9dL\\x08D\\x11\\x08\"\\x10D!\\x08B\\x10\\x841\\x9c\\xe7{W(6\\xd4\\x8e/\\\\b\\xdc\\xde;\\xbcw\\x98\\xe6\\xad\\xcd[6\\x9d\\xa9\\x1bN\\x16\\xa4qi\\xef6\\xee\\xf1\\xdeg\\xbb\\xc7\\xb7\\x8fs?\\xee\\x7f\\xdc\\xff\\x98\\xffs\\xfe\\xe7\\xdd\\xd7\\xff\\xef\\xfb~\\xe6?\\xed\\xff\\xfd\\xff\\xf9\\xff\\xf7\\xdc\\xcfw\\x8e\\xf39\\xbd-H\\xde\\xb2\\xc5\\xa9\\xac\\xdb8\\xb5\\')\\xca0{`\\xe6A\\xcc\\x83\\x96\\xe6)\\xabKV\\x95\\xad(A\\xcab\\x90\\x841\\xceS\\x19\\tQ\\xd0\\x82\\x14\\xa69\\xd2\\xa4\\xa9ls\\xe0\\xe7\\xc1\\x8er\\xda\\xd5\\xb1\\x8bc\\x12\\x95)kcZ\\xd7=\\xae{\\x9f\\x07\\xbe\\x0es\\xde\\xf8Jt\\xad\\xafK^\\xb7\\xc5\\xb1\\x98\\xcams\\x9c\\xf8=\\xf0\\x8c\\xa7)\\xd6\\x95\\xbdm\\x8aV\\xf4\\xad\\xe7[\\xce\\xb6\\x8c\\xe9\\x08\\xcd\\xf0\\x8b\\xa1\\x17>\\x0e|\\x1a\\xe7\\xb1\\xcfc^\\xb65KbT\\xb4\\xa9IR\\xd2\\xa5\\xa5JBT\\x84\\xa9\\tI\\xd0\\x82\\x98\\xc4!L\\x84\\x9d+',\n",
              " b'\\x08D\\x10\\x88!\\x10B \\x84A\\x08\\x82!\\x08dB\\x0f\\x18:r}g\\x0c\\xe6\\xfc\\xde9\\xbcw\\x98\\xe6\\xef\\xbc\\xdby\\xbe\\xf5}\\xe6\\xdb\\xcd\\xb9\\xacw\\x99\\xf75\\xee\\xeb\\xdd\\xdf\\xbb\\xafs>\\xe6\\x7f\\xdd\\xff\\xda\\xffs\\xfe\\xe7\\xfe\\xdf\\xff\\xef\\xfb^\\xde=\\xdd\\x7f\\xfc\\xff\\xb7\\xffo\\xba\\xbfw\\x8e\\xf38\\xac\\xab(g\\x15\\xce-{R\\x94\\x94\\xe5\\t\\xca\\x0fs\\x1e\\xd5\\xc1\\xcb\\x83V\\xe6)\\x8bJ\\x94\\x84\\x1c\\xc79\\x90\\x83\\x94\\xa5:Rc\\x9c\\xa5)\\x8er\\x98\\xc7B\\x10\\x94\\xa1*k\\x9e\\xc7=+Z\\x96\\xc5-j[\\x18\\xc61\\x8c[\\x18\\xa5\\xad\\xcf\\x84\\xe9ZZ\\xf4\\xb6)[\\xce\\x95\\x8c\\xa7\\x08E\\xf0\\x8c\\xa7K_3\\xad\\xa5*R\\xb6\\xb5\\xf3lj\\xd8\\xd5o\\x99\\xd2\\xd2\\x9de:\\xce\\x96\\x94\\xeb\\tM\\xf0\\x8b\\xe1\\x16\\xb9\\xeck\\x9a\\xe7\\xb5\\xcfc\\\\\\xb65Kb\\x96\\xc4\\xa9hR\\x90\\x95!):\\x10c\\x9c\\xc69\\x8cr\\x94\\xc3!\\x0e\\x84\\xa1L\\x08D\\x10\\x88!\\x10D \\x88B\\x10\\xc2!\\x04B)J\\x84!\\x8bT\\xa5\\rf\\xfb\\xde9\\xbc\\xf7\\x99\\xdemjK8\\xb75\\x8e\\xf3^\\xe6\\xfd\\xee\\x7f\\xdc\\xff\\xb9\\xee\\xef\\xde\\xdf\\xfd\\xcf\\xff\\x9f\\xee\\xff\\xdd\\xff\\xdc\\xff\\xb7\\xeeg\\xdc\\xcf\\xff\\xcf\\xf3>\\xde=\\xcc\\xff\\xba\\xff3\\xeecx',\n",
              " b'\\xa7w~j\\xf6\\x9cqi\\xeb6\\xac\\xe3I\\xcaPt\\xe4\\xf9A\\xb0j\\xa2\\xf6E\\xcb{\\x14\\xc5!I:Pd \\xccZX\\xc5\\x18\\xe7:\\x10\\x84\\xa4\\xa61\\x8er\\x14\\xa9R\\x94\\xb5\\xa9kR\\x96\\xc7=\\x8drT\\xb5-jZ\\xd8\\xc6\\xb9\\xcfs\\x9e\\xe7=\\xf0\\x84\\xa7JV\\xf5\\xb6-\\x8dc|\\xb65\\x08\\xceS\\xa4\\xe9j\\xdf\\x18\\xd7-\\x8c\\xd6\\xd8\\xad\\xb1lf\\xd7\\xcdo\\x9a[\\x14\\xad\\xe9[\\xca\\x96\\x8c\\xeb\\x08\\xcd\\xf0\\x93\\xe1\\x17\\xc2N|\\x1a\\xf85\\xcfc\\\\\\xc6\\xb9lj\\x96\\xc4\\xa9HJN\\x84\\x98\\xe81\\xceS\\x1c\\x85)Jb\\x98\\xc3\\x19\\x08S\\x1d*\\x08D\\x10\\x88\"\\x10D \\x88A\\x10\\x82!\\x04B\\x18\\xc6B\\x94\\xe8:\\xd6\\xbc^\\xda\\xce;\\xdd\\xf7\\xba\\xd6mz\\xca\\xf5\\x9e\\xf5\\x8e\\xf3^\\xef=\\xcdoW\\xdeo\\xdek\\xdd\\xdf\\xfd\\xdf\\xfb\\x9f\\xf6\\xff\\xdd\\xff\\xdb\\xffu\\xfe\\xeb\\xba\\xbf\\xb9\\x9fo\\x1d\\xd5\\xfb\\xab\\xfb\\x98\\xee\\xad\\xdd[\\x15\\x8f3l\\xdau\\x947\\x8bZ\\x91\\xac\\xe3ZF\\x92}\\xa9\\x1aI\\xf4\\x93\\xe4\\xf6A\\xabs\\x12\\xc5\\x1di2\\x92f)\\x0fj\\xda\\xc5)IBP\\x95(\\xc79\\x8es\\xa1\\tR\\x92\\xa51\\xadcZ\\x84\\xa5\\x8ez\\x98\\xc4\\xa9IR\\xd8\\xd75\\xce{\\xe1\\x08\\xcaS\\xa5\\xaf\\x8bcV',\n",
              " b'\\xbek|_;\\xd7=|\\xeet\\xb5o\\x8a\\xda\\xf7\\xc6\\xb1\\xad\\xdb\\x1a\\xb65k\\xe6\\xb6\\xc5-\\x89\\xd6\\xd2\\xa5e:\\xcau|f\\xf8I\\xf0\\x93\\xe1\\x17>\\x0e|\\x1c\\xf89\\xf0k\\x9e\\xc6\\xb5lj\\xd8\\xd5-iR\\x8e\\x94\\x9d\\t:\\x10c\\x1c\\x85(\\xc8B\\x10\\xa3\\x19\\x041\\x99\\t\\x10\\xc8!\\x0c\"\\x18D \\x88A\\x10\\xc2!\\x08C\\x19\\n!\\x90d!\\xd0\\x88\\xcaY\\xd6}\\xeeoy\\xde\\xaf\\xbc\\xdb\\x9b\\xc7y\\xafw\\x9d\\xe6y\\xab\\xf3W\\xe6\\xf3\\xdek\\xdd\\xdf\\xbd\\xcf\\xfb\\xbf\\xf7=\\xcd{\\x99\\xf71\\xfeg\\xbb\\xbf3^\\xea\\xdd\\xcd\\xb9\\x8a\\xf75\\xde\\'\\xbcR\\xf3~\\xf1KM\\xf6\\x9b\\xf3zZ\\x91\\xbdejF\\xd5\\x95\\xed:\\xce3\\x8b\\xa5\\x06\\xc1\\xccr\\xd2\\xd5\\xa1\\xabC\\x96\\x889pj\\xd4\\x94)IZ\\xd4\\x84\\xa4\\xc79\\x8es\\x1c\\xeaZ\\xd2\\xa5-\\xads\\xe0\\x94\\xa9Kc\\x1a\\xe5\\xb1\\x88B\\x16\\xc6>\\x11s\\x9d\\x08F\\x96\\xc5o\\x9a\\xdf\\x17\\xce\\xaf\\x9d\\xdf\\x1a\\xb65\\x9d\\xf6\\xf9\\xdd-\\x8b_4\\xad\\xef\\x8d_;\\xb65k\\xe6\\x95\\xbc\\xa9YR\\xb1\\x9d#:>2|\"\\xd7A\\xaf\\x83\\x9f\\x06\\xb9\\xeds\\xda\\xe71\\xaec\\\\\\xc6\\xb9\\x8e{\\x1a\\xe5\\xb1\\x8a[\\x12\\xa5\\x9d\\t9\\xd0c\\xa0\\xa69La\\x90\\x82\\x18\\xc4!\\x90\\xa5',\n",
              " b')\\xd0S\\xa0\\xa6A\\na\\x90\\xc3!HS\\x10\\xa6\\x19L2\\x14\\xa69\\xd0\\x98FZ\\xd6\\xb3\\x8b\\xd6\\xb4\\xc6-\\xbdg\\xbc\\xdf\\xb9\\xaej\\xfd\\xd69\\xacsX\\xef5\\xee\\xef\\xdd\\xe7\\xfd\\xdf\\xff\\xbf\\xf7=\\xdd\\xfb\\x99\\xee\\xaf\\xed\\xdb\\xdb\\xbf3^b\\x9b\\xbc\\xf7y\\xee\\xd2\\xcda\\x9a\\xc7\\x14\\x86k\\n\\xc1\\xb7\\x9b\\xef8^\\xb2\\xc5\\xa7\\x8bN\\xd4\\x8c\\xe4\\xf9E\\xd3\\x8b\\xe5\\x06\\xbd\\xaa{\\x12\\xf6%\\xedT\\x1a\\xa89oj\\x98\\xb51jBP\\x85(\\xe8A\\x8es\\x1c\\xe9R\\x96\\xc61\\xaek\\x9e\\xa5\\xad*S\\x1a\\xe65\\xa9JV\\xc69\\xcf\\x84e\\x19Nt\\xad\\xb1\\xabcV\\xc6\\xaf\\x9d\\xdb\\x1a\\xad\\xf3lk\\x1a\\xe5\\xf1\\xaa\\xdb\\x15\\xb5\\xe7KZ\\xf9\\xb63J\\xde\\x96\\xc4\\xa9X\\xca\\x8f\\x8c\\x9f\\t5\\xf0[\\x1a\\xb65\\x8ds\\x1a\\xf65\\xcbk\\x96\\xc6\\xad\\x8dR\\xd8\\x95-KZ\\x96\\xc65\\xcbcR\\xa5\\x9d\\x081\\x8eS\\x18\\x851\\nR\\x10\\xa2\\x18\\xc41\\x88c\\x10\\xc82\\x14e1\\nr\\x99\\x06:N\\x95\\x9d+:Vt\\xac\\xe9R\\x14\\xb7\\xc22\\x9c\\x98\\xc6B\\x10\\xces\\xde\\xf3\\xbd\\xdf5\\x8ej\\xfb\\xcd\\xb7\\x9bsX\\xef5\\xffw\\xff\\xf7\\xfd\\xdfw~\\xe6\\xbb\\xbcwX\\xee\\xad\\xcc\\xd3\\xb9\\xafs]\\xdez\\xacsHbo\\xc4\\x9d\\x89;\\x13',\n",
              " b\"}\\xa2\\xdaA\\x96\\x93\\xad'\\xde\\x92\\xb4\\xe1H\\xbaOl\\xa0\\xea\\xce3\\x8b\\xe0\\xe5\\xc1\\xcb{\\x12\\xf6&-\\\\\\x1a\\xa7\\xb5NbV\\xa4\\x98\\xc6)J\\x84\\xa5\\x08I\\x8es\\xa1\\x08JV\\xc61\\xadk\\xde\\xc6\\xb9Kb\\x98\\xc65\\xcbZ\\xdf\\x08B\\x10{\\xe1:V\\x95\\xb5o\\x9b\\xe7U\\xbekl[\\x1a\\xad\\xb1J\\xde\\xb6\\xc5-zZ\\xf5\\xb6)[\\xce\\x96\\x9dm:\\xde2\\xa4\\xa7X\\xca\\x8f\\x84\\x9c\\xf8\\xb5\\xf0k\\x9e\\xb65Kb\\xd8\\xd65\\xcbcT\\xc6\\xa9\\x8dS\\x18\\xa5\\xb1+ZT\\xa4\\xa9HJP\\x94\\xa1):\\x12c\\x9c\\xa50\\xc8A\\x8c\\x83\\x18\\xc41\\x84B\\x08\\x86!\\x0cB\\x18\\x841\\x0c\\x83!FC\\x10\\xa7!NS \\x869\\xd0\\xa4%IR\\xda\\xe7^\\xf7\\xefy\\xde\\xef\\x9a\\xc75\\x8db\\xba\\xc5y\\xacw\\x9a\\xff\\xbb\\xff\\xf7\\xdd\\xdf\\xbb\\xbfs]\\xde{\\xab\\xf36\\xdd\\xe9\\xbb\\xcfV\\x8e\\xef-V\\x19\\xa3\\xb1&\\xde,\\xb4Yx\\xb6\\xd0e`\\xca=t{&\\xf6\\xd2\\r\\x9b\\xd97\\xb2.\\\\^\\xd9A\\xafj\\x9a\\xb4\\xb1's\\x13\\x06\\xae\\rS\\xd8\\x96\\xad\\nJ\\x14\\xa4\\x94\\xa5\\x18\\xc8c\\x9c\\xc79Ld%HR\\x94\\xb5\\xb5\\xcfk\\x9e\\xe7\\xc1\\xaez\\xd8\\xd65\\xcbc\\x1f\\x08Jt\\x84#\\x08FS\\xa4\\xebj\\xdb\\x15\",\n",
              " b'\\xbeilN\\xb6\\xa5oKb\\x96\\xc4\\xeby\\xd2\\xd3\\xa5\\xa7[\\xce\\xb7\\x95+\\x19\\xd62\\xa4#7\\xc6O\\x84\\x9a\\xf81\\xcfS\\x1a\\xc6\\xb9\\x8dr\\xd8\\xd5\\xb1\\xaa[\\x12\\xa5\\xa5KJ\\x96\\x95-+bV\\xb4\\xadiR\\xce\\x84\\x18\\xe81\\xd0c\\xa0\\xc79Ja\\x90\\x83\\x18\\xc41\\x88C\\x08\\x84\\x11\\x08\"\\x18D1\\x08b\\x10\\xc4!\\x88C\\x10\\x861\\x90d)\\nb\\x14\\xc9R\\xe3)g9\\xde\\xf7\\x9c\\xdf8\\xb5\\xedJ\\xce7\\xad9\\xbc\\xfb\\xdc\\xf7y\\xdek\\xde\\xe7\\xff\\xef\\xff\\x9f\\xf6\\xfd\\xcc\\xf7W\\xe6)\\xabG\\x14~&\\xecQ\\xd7\\x93o\\x15\\xda\\x0b\\xb4\\x19X2\\x8eT\\xdc\\xba9s{\"\\xd5I\\xcb\\x83\\x14\\xe5\\xa1\\xcbL\\x9c\\xc7-KR\\x10s\\xa0\\xe6j\\x90\\xe5\\xa1\\xecK\\x98\\x95\\xa9\\x0bRNs\\x14\\xa5\\x19\\x08c\\x9d\\tILd\\xa9KcT\\xb6-\\xaek\\xe0\\xf8\\xc9\\xcf\\x83\\\\\\xe5\\xb1\\x8bc\\\\\\xe8Ju\\xad\\xb1:Vt\\xb5m\\x8aV\\xf3\\xa5gJ\\xd2\\xb7\\x9do:Z\\x96\\xc4\\xeby\\xd6\\xf2\\xa5\\xa5KFu|g\\tM\\xf1\\x93\\x9f\\x17>.|Z\\xf85\\xf0S\\x1a\\x95\\xadlj\\xd8\\xd5-\\x8acT\\xb6)lR\\xd8\\x95,\\xe8I\\x8e\\x83\\x1d\\x07B\\x0e\\x84\\x98\\xe81\\x8eS\\x1c\\xc69Lr\\x14\\xa4)FB\\x0c\\x84',\n",
              " b'\\x08D\\x11\\x08\"\\x10D \\x88a\\x10\\x82!\\x04C\\x10\\x86!\\x90c \\x862\\x10\\xa9R\\xe79\\xd6\\xb5\\x9d)9\\xca\\x93\\x93\\xde\\xe8\\xc6\\x19\\xc5\\xbb\\xcd\\xeb7\\xdeo\\xee\\xef\\xff\\xef\\xfd\\xcfw]\\xd5\\xfb\\x9a\\xf3\\x14\\xdd\\xe7\\x9a\\xc7\\x13}\\xe4\\xdbE\\x96\\x8b+\\x05V\\x0b\\xac\\x196\\xa6LL\\x9a\\x991Sr\\xe4\\xd5\\xc5\\x8aj\\x90\\xc5\"\\x0cRR\\x92\\x10\\xa4!\\x0cc\\x9c\\xc5bN\\xe6%\\xccK\\x14\\x86-+R\\x12\\x83\\x94\\xc6\\x19\\x08S\\x18\\xe8BT\\xa5-m{\\xda\\xe71\\xae|%\\tM\\xcf\\x8b\\x1a\\xe5\\xb1\\x8bc\\x1d\\x08\\xce\\xb7\\x94\\xebK^\\x96\\xbd+{\\xe7v\\xbegKN\\x95\\xa5\\xb1:\\xdeu\\xbc\\xabyR\\xd2\\xa5\\xa7KFu|f\\xe8I\\xd0\\x93\\xa1\\x16\\xbe-|X\\xe81\\xcfc^\\xa65\\nZ\\xd8\\xd5\\xb1\\xa9Z\\xd2\\xa5\\xa5KJ\\x96\\x95-\\tQ\\xce\\x82\\x98\\xc51\\xcct\\x1d\\x081\\xceS\\x1c\\x850\\xc8Q\\x90\\x84)HR\\x90\\xa5\\x08\\x84\\x11\\x08C\\x18\\x86@\\x88a\\x10\\x84!\\x88C\\x10\\x86!\\x90C \\x86C\\x1d\\x0e{\\xd8\\xd6\\xa1*B\\x96\\xc6\\xb5KZ\\xd6\\xb9J:\\xce3\\x8bf\\xf5\\xf75\\xdd\\xe3\\x99\\xb6\\xf1]\\xe2\\x9b\\xc57y\\xee\\xf2\\xcda\\x89\\xbe\\xf3}\\xa2\\xda\\xc1tz\\xa6\\xe4\\xcd\\xa8\\x9bU\\x16!\\xea',\n",
              " b';\\x94w\\xa9\\x11b\\xa4\\xd5\\xc5\\xabr\\x90\\xd5 \\xc60\\xcc\\x80\\x8c\\xa3\\x19\\nB\\xa4\\xe6r\\xd0\\xe5\\xa5\\xcbK\\x96\\x96\\xad-ZX\\xb5\\x98\\xc6!Jc\\xa0\\xa62T\\xa65\\xcds\\xe1\\x19:\\x11\\x8c\\xe9\\x19\\xd1\\xd0\\x8b\\x1a\\xe5-\\x8a[!)\\xca\\x96\\xb65:\\xdaS\\xa4\\xe9i\\xd6\\xf5\\xbeklJ\\x96\\x94\\xeb:\\xde\\x96\\xc4\\xabyV\\xf1\\x9da*FT|d\\xe8I\\xaf\\x83\\x1d\\x07B.\\x84\\x9d\\x08\\xad\\xae[\\x1a\\xb6\\xb9Lj\\x14\\xb4\\xadjcR\\xa5\\xa1*BTt$\\xc7A\\xce\\x83\\xa1\\x05)\\x8ac\\x14\\xc6)\\x8cR\\x98\\xa51\\nQ\\x90\\x83!\\x06B\\x0c\\x84\\x10\\x86!\\x0cB\\x18\\x841\\x08b\\x10\\xc2!\\x88c\\x10\\xc8!\\x90d(\\xc8S\\xa1(JHS\\x90\\xc71\\xd2d$\\xe9R\\x96\\xca\\xd2\\x9a\\xcd\\xf1z\\xef6\\xd6+\\xbcSx\\xa6\\xf1Nb\\x9c\\xc55if\\xb1\\xbc\\xdfX6\\xd1u\\xa2\\xea\\xbdsr\\xa6\\xe5Ag\\x82\\x8f\\x05\\xa1\\xea:\\xd0V\\xa4\\xf0Zd\\xe5\\xc5\\x8ajP\\x83\\x98B\\x18D1\\x08e)LR\\xad\\x06bL\\xe5\\x1d\\xebC\\xd6\\x971/j\\xdc\\xe6\\x98\\xe71\\xcet \\xe8A\\xd0\\x86\\xb9\\xee|\\x1a\\xe7\\xc2S\\x8c\\xe9\\x19\\xd1\\xcf\\x83\\x1c\\xf5-iR\\xe1)\\xc6T\\xa5\\xb1|\\xee\\x12\\x9ceJ[\\x13',\n",
              " b'\\xad\\xe3*Fu\\x8c\\xa9\\x19R3\\xacih\\xd2\\xd0\\x95\\x1d\\t:\\x11k\\xe0\\xd7\\xc1\\xaf\\x83\\x1c\\xf69\\xecs\\xda\\xf8:\\x11[\\\\\\xa5\\xb5*ZV\\xc51\\xabcV\\xc6%KBTt$\\xc79Lr\\x98\\xe61\\xcac\\x14\\xc6!LB\\x94\\x84)\\nR\\x10\\xa3\\x19\\x062\\x0cd\\x10\\xc8!\\x90C \\x86A\\x0c\\x82\\x19\\x042\\x10\\xc7)\\xd0c\\xa4\\xa7AL\\x82\\x9d%2\\nd\\x14\\xe92\\x14d$\\xc8K\\x1a\\xec\\xe2\\xf8\\xbd\\xb3zb\\xd5\\xb5\\'\\x8a\\xcb5\\x8em-^y\\xac\\xaf7\\xd6\\x0c\\xa3\\xd77*n]\\x1e\\xba9sjd\\xd5=GrN\\xf5!\\xca;Rg(\\xefZ\"\\xc5A\\x8aR\\x0eB\\x10\\x84!\\x08B\\x94\\xa5!\\x12r\\xb1&j\\x8e\\xf5\\xa6\\rT\\x9c\\xb7\\xb13\\x94\\x1a\\xd5\\xadkR\\xd6\\x84\\xa5\\tR\\x12\\x965\\xd1\\x94\\xdf\\x08\\xbe\\x11|e\\x19\\xd2\\x11\\x93\\x1a\\xe5\\xb1\\xaa[\\x1d\\x08\\xce\\xb7\\x95-|\\xeeu\\xbb\\x9f\\x19\\xd6\\xd3\\xad\\xe1*>2|d\\xf8\\xce\\x12\\xa3\\xe3\\'BN\\x84\\x9d\\x08\\xb5\\xf0c\\xa0\\xb6\\xbdLj\\x14\\xa4)IR\\xd4\\xc6\\xb1\\xcfc\\xe0\\xd8E\\x8ezT\\xb4\\xa9hJ\\x94\\xb6-\\x8c:\\x10t$\\xc79Lr\\x98\\xc51\\xcac\\x98\\xe7!L2\\x10d!\\nR\\x98\\xc5)\\x8aS\\x14\\xa6',\n",
              " b'\\x19\\n2\\x14d(\\x86A\\x90\\xa3!FB\\x8c\\x861\\xd2d)\\na\\xd2\\xb3!E2\\x08S\\x90\\xc7)\\xd0c\\xa4\\xe8Tc,\\xe7\\x15\\xa4\\xefjF0\\x8c\\x1dI>\\xf3\\x86)\\x1c\\xd6V\\x93\\xe9\\x07R\\r\\x93\\x99\\x16\\xb2N]\\x1e\\xda9rj\\xa0\\xb4=Hr\\x90\\xe5\"\\x0cS\\xd6\\x97\\xad/Z^\\xc55jA\\xccs\\x19(A\\x8aS\\x14\\xa99X\\x835\\'z\\xd1\\x16\\xaapl\\x9e\\xbaE\\xd5\\x9c^\\xe6J0s\\xde\\x95\\xadlc\\x1a\\xd69\\xcd|\\x1c\\xf8B2s\\xe3\\x08\\xc9\\xcf\\x83\\x1c\\xf6\\xbe\\x0bc_\\tR\\xf9\\x9doKb\\x96\\xc3\\xa1\\x17\\xc6T\\xad\\xe5KBT|f\\xf8\\xcd\\xf1\\x93\\xe1&\\xbe\\x0cs\\xda\\xf85\\xf0t\"\\xd7\\xc5\\x8ez\\xda\\xe5-\\x88R\\x92\\xa5\\xad\\x8e[^\\xc7=\\x8e\\x82\\x98\\xd4%HR\\x92\\xa5\\xb5\\xceJ\\x94t!*Q\\xd0\\x92\\x98\\xe6:\\x0e\\x84\\x9d\\x081\\xceS\\x18d)\\x08R\\x14\\xc5)\\x88R\\x90\\x84\\x10\\xc8!\\x0cB\\x18\\x841\\x08b\\x10\\xc4!\\x88d\\x19\\n2\\x98\\x850\\xc8a\\x90\\xa3\\x19D2\\x08d\\x19\\nB\\x99\\tUmiJS\\x9cg(-j\\x94\\x1bY>\\xd3}\\xe4\\xebE\\xb2j\\x9e\\xc5 \\xc7)Nt-jT\\\\\\xc8\\xb1PZ^\\xb4\\xbd\\x8a\\x8bU\\x05\\xa6N',\n",
              " b'\\\\\\xde\\xd8\\xb5pb\\xde\\xc5\\xb1jJ\\x0e\\x83\\x19\\'*LU\\xa0\\xceZ\\x1e\\xb4=gz\\xd1\\x16\\xaaN]\"\\xecZr\\x83\\xa9(J/\\x84b\\xb61\\x8dk^\\xf7B\\rs\\xd6\\xc6\\xb9\\xf0\\x84d\\xf8E\\xcf\\x82\\xda\\xe7\\xc6p\\x94\\xdf\\x19\\xce\\xb7\\xa5\\xf1*V\\xb7\\xcc\\xebx\\xca\\x93\\xa5\\xa3::\\x11k\\xe0\\xe8J\\x12\\xa4%7B,s\\xda\\xf8\\xbe3\\x84f\\xe7\\xc5\\x8dz\\xda\\xe51\\xabkX\\xd71\\xaec\\x9e\\xc7A\\xaf\\x83\\x9f\\x16\\xbe\\x0bcT\\xb6-\\x8c[\\x18\\x85)*RT\\xb3\\xa1&:\\x0c\\x84\\x1d):Rt\\xa4\\xc69\\x08B\\x14\\xc51\\x8aS\\x10\\x85\\x10\\x86\\x11\\x0c\"\\x18D0\\x88a\\x10\\xc4!\\x84C\\x08\\x84\\x11\\x08\"\\x18\\x861\\x0cb\\x18\\xc2!\\x88C\\x10\\x862\\x15\\xcf|\\xa75-r\\x8c\\x1c\\xe6\\xa9)\\x9c\\x1b\\x17-\\xccT\\x1a\\xba=\\x95\\x83\\\\\\xc6\\x14\\xc7\\x19\\x0c3$\\x86J\\x10\\x86\\xa9NZ\\xde\\xd5\\xc1\\xab\\x93\\x99\\'2-]b\\xfaF\\x11s\\x1a\\xb59\\x8bj\\xd4\\xb4\\xa1\\xecK\\xd8\\x97\\xad\\x11j\\xa2\\xd5E\\xa9\\x93\\x977\\xb2\\xf3\\x86\\xafJ\\xc9\\xf5\\x9c%(=\\xcc\\x84`\\xd79\\xae{\\\\\\xf69\\xcds\\x9f\\x08\\xc2R|d\\xf8F\\x11\\x93\\x1c\\xe6\\xbe3\\xad\\xe5KFu\\x9d\\xaf*Z\\x97\\xcc\\xebz\\xdf1',\n",
              " b'\\x9dc:\\xbe\\x12k\\xa0\\xc7=\\x8e\\x83\\xe38J\\x91\\x9d\\x1f\\x19:2\\x8c\\xeb\\tQ\\xaf\\x83\\x1c\\xf5\\xb5\\xcbcV\\xd7-\\xaek\\xa0\\xe8I\\xd0\\x93\\xe38Jq\\x95\\x1f\\x08\\xb5\\xcfcZ\\xd7=\\xf0\\x8b\\x9f\\x06\\xb9\\xef\\x84\\\\\\xf81\\xaec\\\\\\xc6\\xb5Kb\\x12\\xa3\\x9d\\x05)HR\\x8cd\\x08\\x84\\x11\\x08\"\\x10D \\x88A\\x10\\x82!\\x04B\\x08\\x84\\x11\\x08\"\\x10\\x841\\x08b\\x10\\xc2!\\x84B\\x08\\x84S\\x19\\xadj\\x12\\x94!/{\\xd0\\x84))R\\x90B\\x94\\x84)\\x08U \\xefb\\xa9\\x071k)LR\\x98\\xe7B\\xd6\\xc5\\xa9-Z\\xe5\\x07\\xd20\\x93\\xdd\\'6-]c\\n\\xca1sZ\\xc5\\xbd\\xac\\x94\\x1d\\'\\xb6.\\\\\\xde\\xcaA\\x96\\x93\\xad\\'\\xdep\\xc5#\\x9a\\xcbw\\xa6)\\x1a\\xca\\x11\\x83\\xe3\\x18A\\xed| \\xe8A\\xf0\\x8c#&5\\xads\\x9f\\x08Jt|\"\\xe7\\xc1\\xf0\\x8b\\x9f\\x07B3\\xad\\xa7k\\xc6u\\x8c\\xe9*Zu\\xbcgY\\xd6\\xf1\\x9da*:\\x12c\\xa0\\xc7=ms\\x1a\\xf7BP\\x95\\x1f\\x19\\xbe2t%\\tQ\\xf1\\x9b\\xa1&\\xbe,s\\xd8\\xe8-\\xaf[\\x1a\\xd7=\\xf0\\x8b\\xe1\\x19N\\x93\\xa5e)\\xb9\\xcfs\\x9f\\x18\\xc6R\\x9c\\xa59N\\x92\\x9d%:FSs\\xe0\\xe7\\xc1\\xf0\\x8b\\\\\\xf3\\xa1\\x03!\\x062\\x08C',\n",
              " b'\\x10\\x86\\x11\\x08\"\\x10D \\x88A\\x10\\x82!\\x04B\\x08\\x84\\x11\\x08\"\\x10D1\\x08a\\x10\\x82!\\x04B\\x08\\x84B\\x14\\x85(\\x86C\\x18\\xeaR\\x88B\\x90\\xa5\\x19\\n2\\x14c \\x86A\\x8c\\x85)\\xa0\\xd5\\xda.\\x93\\xda\\xd5\\xad\\x8bR\\x90v\\xa9\\x12{m8\\xde\\x93\\xa4a\\x176-l\\x9e\\xeaF\\x0eb\\xda\\xc69\\xac\\x8b\\xdb\\x17\\xb5\\xedd\\x9e\\xcaA\\x97\\x93\\xb17\\xe2o\\xc4\\xdf\\x8aBpc\\xda\\xb79\\xacb\\xda\\xd6=\\xees\\xde\\xc6\\xb9\\xd0\\x8ce7=\\xef\\x83\\xe3\\x18\\xd2\\xb5\\xa5)\\x19J\\x11\\x94#\\'>\\x10\\x94\\xe5J\\xc6t|d\\xe8J3\\xacgH\\xce\\xb1\\x9d]\\t>S|d\\xd7\\xc1\\xd0\\x93\\xa1\\x169\\xed|\\x1c\\xf8\\xbe3|f\\xe8E\\xf1\\x93\\xa1\\'BN\\x84\\x9c\\xf8\\xb9\\xf0k\\x9e\\xe7>t\\xa4\\xe9KZ\\xd8\\xc6-Z\\xd2R\\xad)Y\\xce\\x93\\x9d\\'9\\xcas\\x9d)Z\\xce\\x95\\x95*\\xf8\\xc9\\x8dz\\xda\\xe4\\xa9c!\\x04!\\x84B\\x08\\x86!\\x0cB\\x18\\x840\\x88A\\x10\\xc2!\\x84B\\x08\\x84\\x11\\x08\"\\x18\\x861\\x08b\\x10\\xc4!\\x84B\\x08\\x84\\x11\\x08\"\\x10D\"\\x98\\xc3!D1\\x88c\\x19\\x0cB\\x98d)\\nR\\x10\\xa3!\\nR\\xc1\\xab\\xc5#\\x9aB\\xf1m\\xe2\\xdb\\xc5\\xd7\\x9c/I^r\\xbd\\'8\\xc2\\r',\n",
              " b'c\\xda\\xc9=\\xeec\\x1c\\xc65\\x8c{Z\\xe6\\xb1\\xcekX\\xb85S{$\\xe5\\xcd\\xeb\\x8b\\x96\\xe5\\xa5I:\\x0ec\\x9c\\xccb\\xd4\\xb5%JZ\\xd6\\xb61\\xf1\\x8cg9Np\\x84)I\\xde\\xf6\\xbd\\xefkZt\\xa5+XFQ\\x9d#:BS|d\\xe8J\\x12\\xa4gX\\xce\\x93\\xad\\xe7[BS\\x95+\\x19\\xd63\\xa4gHJp\\x94\\xe1)\\xc6t\\xa5\\xb1:\\xde3\\xacgX\\xce\\xb1\\x9d_*BS\\x94\\xe9J\\xdb9\\xces\\x9d\\xeb\\\\\\xde\\xf7\\xadk\\x18\\xd61\\x9b\\xde\\xf5\\xad\\xebZ\\xd2\\x92\\x94\\xe7:FS\\x8c\\xa9\\x19Q\\x8dz\\x96\\xc4\\xa9e)D!\\x04\"\\x08\\x84\\x11\\x08\"\\x10\\x841\\x08b\\x10\\xc4!\\x88c\\x10\\x86!\\x0cB\\x18\\x86A\\x90\\xa2\\x19\\x06B\\x8c\\x85\\x10\\xc6!\\x0cB\\x18D!\\x0cb\\x10\\xc2!\\x88d\\x19\\n!\\x90d \\xc8Q\\x0c\\x82\\x18\\xc8S5j\\xb4\\x9d\\x89\\xbf4\\x86\\xab\\x1d\\xdaz\\xb4\\xb3Y^\\x92\\xb4\\xe5H\\xc2\\x0et\\x1a\\xd8\\xb9\\xcec\\x1c\\xd6\\xb5\\x8cs[\\x18B0\\x83\\x14\\x96)\\x0fZ\"\\xd5Zp\\x94\\x1a\\xd5\\xa5i:Pc\\x9c\\xccb\\xe3\\x18\\xb5\\xcek\\x9a\\xf8BS\\xa4\\xebY\\xd2\\x93\\x9c\\xadj\\xd2\\x93\\x9c\\xe5JR\\xb6\\xb5\\xaf\\x8aV\\xd4\\xb5\\xa5:FS\\x95+\\x19\\xd23\\xaciXJ\\x90',\n",
              " b'\\x95\\x1f\\x19:\\x11\\x84\\xa7J\\xde\\x97\\xc5\\xb1\\xab\\xe7w\\xce\\xef\\x9d\\xdb\\x1a\\xbe5|\\xea\\xd7\\xcd+z\\xdb\\x14\\xb5\\xe9[\\xca\\x95\\xa5m\\x9c\\xe7\\xbc\\xe7y\\xce\\xf3\\x9e\\xe7=\\xcewz\\xe6s\\xab\\xdf6\\xb5\\xebKV\\xb3\\x9c\\xe3)\\xcats\\xe0\\xf8I\\x8dr\\x12\\x95\\xb1\\xa6:\\x02!\\x04!\\x08\\x86\\x11\\x0c\"\\x18\\x841\\x08b\\x19\\x042\\x08d\\x10\\xc8!\\x90C \\x86A\\x90\\xa3!HS\\x14\\xc7!L2\\x10C\\x18D1\\x08b\\x19\\x042\\x0cd\\x19\\n2\\x14d \\xc8B\\x10\\xa2\\x19\\x08B\\xb9\\x8a\\xb4\\x9f\\x9aCU\\x86\\xed.b\\x9b\\xb4\\xb3H\\xdaq\\xa4a\\x17\\xb9\\xedk\\x9a\\xd61\\x8cc\\x16\\xb6%)b\\xd7\\x18>/sT\\x95\\xa4\\xecR&\\xf6^\\x90\\x8b\\x96\\xb4\\x9djB\\xd4\\x93\\x9c\\xa9J!\\x08R\\xb4\\xad\\xad[Z\\x96\\xb5\\xaf\\x8aR\\x94\\xa4\\xe9I\\xc1\\xee\\x83\\xdd\\x18\\xc1\\xaet#\\x1a\\xda\\xd4\\xb5\\xa59\\xbe\\x10\\x94\\xe7:\\xd6t\\xac\\xe9Y\\xd6\\xf1\\x9d]\\x08\\xbe\\x11\\x8c\\xa7\\tNu\\xbd\\xb1\\xabcT\\xad\\xe5)\\xce0\\x94\\x1f\\x17\\xbaq\\x8dkj\\xda\\xf5\\xb5\\xebkV\\xb5\\xb5\\xad\\xac\\xe7\\xbb\\xdfw\\xbe\\xf3\\x9e\\xe7=\\xde\\xfb\\x9c\\xe6\\xb5\\xac_6\\xb5\\xa9KV\\xb4\\xa5a\\x18\\xc6S\\x8c\\xa6\\xc6\\xb9\\tR\\x10\\x84\\xa9HJB\\x11\\x00!',\n",
              " b'\\x10\\x86\\x11\\x0cB\\x18\\x86A\\x0c\\x82\\x19\\x062\\x0c\\x85\\x11\\n2\\x14C \\xc8Q\\x90\\xc3!FS\\x10\\xa6\\x19\\n2\\x14C \\x86A\\x0c\\x82\\x19\\x06B\\x10\\xa6\\x19\\n2\\x14\\xa61\\x8eu\\xadKZ\\x92\\x84J\\r\\xbde\\xbc[\\xba\\xbfs~b\\x9b\\xbd5jf\\xb3\\xac\\xa5\\x17\\xbe\\x0e{\\x16\\xc6-\\x8dkV\\xb6%)Z\\x94\\xb5%\\xcbS\\xd8\\xb6-*A\\xe4\\xf6^\\x90j\\xd0\\xd6)\\xeda\\xccT\\x1c\\xcbZ\\x9a\\xd6F1\\xad\\xab\\x8c\\xe2\\xb6\\xad\\xadi\\xceu\\xad#\\x07\\xc1\\xedkX\\x94\\xa1\\tJ\\x12\\x95\\xb1\\xb0\\x8c\\xa5)JR\\xadi{\\xda\\xd6\\xadi;Z\\xd7\\xbe\\'J\\xc22\\x84e\\x19Rt\\xac\\xa7HB0\\x84#\\x18NQ\\xa4\\xa1(:\\x91}\\xa9;\\xde\\xf6\\xbe3\\x9do{\\xe6\\xf7\\xdd\\xef\\xbc\\xe7y\\xcfs\\x9e\\xe7?\\xde\\xfb\\x9c\\xee\\xf5\\xbcc7\\xb5\\xeb[V\\xb5\\xb5\\xe1\\x19B2|\"\\xc6\\xb9\\x08A\\xd0\\x84\\xa5(JB\\x10\\x80!\\x10\\xc8!\\x90C(\\xc8Q\\x90\\xa3!FB\\x8c\\x85\\x19\\n2\\x18d(\\xc8R\\x14\\xe3)\\x86C\\x0c\\x86\\x11\\n2\\x14d(\\xc8R\\x14\\xc41\\xcac\\x8c\\x85!\\x08!\\x8cc\"\\x10\\x88\\xbd\\xd8\\xac\\xab8I\\xed\\x8b\\xdbi\\xc7W\\xa6\\xed-\\xd6\\x19\\xa4oIRQ\\x94\\x1f\\x17\\xbe\\x0f',\n",
              " b'{Z\\xd6-\\x8aR\\xd0\\x84%JRTR\\x95IC\\x14\\x95\\xa5\\tA\\x9e\\xc4\\xcd\\xec\\x8b\\x96\\xe6(\\xe6)H4\\x1c\\xccZ\\x9c\\xe6=\\xcd\\xa5)|^\\xf7\\xb5mZ\\xd6\\x94\\xa4\\xe3\\x07\\xbd\\xedB\\x102\\x10\\x84)\\x8es\\x9d\\x069\\xd2\\x951\\x8c\\xa5\\'j\\xd3\\x16\\xae/k\\xda\\xd8\\xbd\\xf3\\x9c\\xd6\\xb6\\x9c\\xe99\\xd22\\x93\\\\\\xf4\\xa9IR\\x98\\xc6B\\x11\\x84!8\\xc2\\xb2}e\\x0b\\xde\\xf9\\xd6\\xf5\\xad\\xeb[\\xe6\\xb5\\xdes\\xbc\\xe7y\\xce\\xf3\\x9e\\xe7=\\xce{\\x9c\\xee\\xf7\\xbc\\xe7X\\xc6/{Z\\xd5\\xad\\xa59\\xc22c\\\\\\xc6\\xb5\\tI\\xd0\\x84\\xa5\\'B\\x00\\x10\\x84\"\\x19\\n2\\x18d(\\xc8Q\\x90\\xa3!FB\\x8c\\x85!N2\\x98e0\\xc8R\\x14\\xe4)\\xc8S\\x10\\xc7!LC\\x1c\\x851Lr\\x98\\xe41\\xc6B\\x98\\xc6j\\xd4\\xe6)\\xecM\"\\xeb\\xd2Y\\xb4\\xf3Yf\\xb1\\xcdc\\x9a\\xcb5\\x96f\\xfc\\xc9\\xba\\xa3\\xf18E\\xeeb\\xd6\\xb5\\xa9\\xcdk\\xdc\\xf5\\xa9h:\\x10\\x841\\x8cJPs\\x19H;\\x14\\x95\\xa5\\x0bJ\\x1e\\xc4\\xc9\\xcb\\x93\\xda\\xa4\\x18\\xc4\\x19\\x8aC\\x98\\xaaI\\xd4\\x94=\\xee\\x9c\\xa5\\x9c\\xe2\\xd6\\xadm[Z\\xb2\\x94e\\x18)k!\\n2\\x10d)\\nR\\x14\\xc3!\\x062\\x0cd1\\xces\\x9dJS\\x9c\\xe8\\xc60',\n",
              " b'\\x84#\\x18\\xcaR\\x84\"\\xf8A\\x8dr\\x12\\xa3\\x1c\\xe51\\xcac\\x14\\xc72\\x10\\x84\\xa9\\xcde\"\\xfcc:\\xde\\xf5\\xadk9\\xc5\\xad\\xbc\\xe7\\x9b\\xdf7\\xbe\\xef}\\xde\\xfb\\xcd\\xf7\\x9c\\xe6\\xf7\\xbdkZ\\xd61\\x8b^\\xf4\\xade9\\xb9\\xef[\\x18\\xb61\\tI\\xd0\\x84%%)B!\\x84C)\\x8e2\\x18C \\x86A\\x0c\\xa3!FB\\x8c\\x85!L2\\x18\\x851\\nb\\x14\\xe41\\xcat\\x99\\n)\\xd0C\\x1c\\x850\\xc8Q\\x90\\xa3!D2 \\xe6\\xa3\\xd9\\x9aC\\x97\\x9e\\xef]^\\xbb\\xbdyy\\xf2\\xf3\\xdd\\xa5\\xabO\\x13\\x86$\\xeb\\xc5\\xd9\\x9b\\xf5Y^r\\x8b\\xdc\\x94\\xa1\\x07C\\xdc\\xf6-iJV\\xa5\\xadIZR\\x94\\x1d\\x8bK\\x14\\x96)\\x0bR \\xd5I\\xecs\\x12\\xa4\\x18\\xe5\\x1aNU\\xa4\\xebI\\xd4\\x93\\xbd\\xac\\x94\\xa1j\\xd2\\xd6\\xa5):\\xd6\\x90\\x83\\xd0\\x94\\x90\\xa5!\\nB\\x98\\x851\\x08Q\\x8c\\x84)FB\\x88d\\x10\\xc6!\\x90c \\xc8A\\x90\\xa51\\x8e\\x84\\x18\\xe81\\xd0S\\x1c\\xa50\\xc8R\\x14\\xc6:\\nd\\x14\\xe8!Lc\\xa4\\xa6;\\xde\\xfdox\\xb5qZg\\x17\\xcd\\xa9\\xac_Y\\xc6\\xb3\\x8dc\\x1b\\xd6y\\xbd\\xf3z\\xde\\xb5\\xbdk9\\xcd\\xefz\\xda\\xd3\\xa5%:9\\xf0J\\x94\\xa5\\xad\\x08I\\xcer\\x98\\xc2\\x10\\x841\\x88d',\n",
              " b'!N2\\x14C \\x86A\\x90\\x82\\x19\\x06B\\x8c\\x85\\x19\\n2\\x18\\xa6A\\nr\\x99\\x052\\nt\\x19\\t2\\x14c\\xa4\\xa6A\\na\\x90\\xa3!F2 \\xe7\\xa4\\x1d\\x9bSW\\xb71}\\xde\\xbb\\xbd7y\\xee\\xd3\\xdd\\xe7\\xbb\\xd3V\\xa6\\xed]Z\\x9a\\xb4\\xf5Y\\xe2q\\xb4\\xa1\\x075jS\\xdc\\xe75\\xcdkZ\\xc6)(RP\\x83\\x99jB\\xd2\\x86)\\x0eZb\\xe5\\xc1\\xaabN\\xa3\\x95&\"\\x8eX5S\\x8b\\xa7\\'\\xd2q\\xad\\'j\\xd2\\xd6\\xa4\\xe5\\x179\\x879\\xc6B\\x10\\xa6\\x19\\nB\\x98\\xa69L\\x81\\x90\\xa51\\xcac\\x8c\\x85\\x19\\x082\\x14\\x85(\\xc8Q\\x90\\x83!\\x06B\\x90\\x85!LB\\x98\\x851Ls\\x1d\\x052\\x08c\\x98\\xe8\\x19\\x0cS\\xa0\\xe9U\\xaf\\x8bV\\xb6\\x94-(b\\xb3\\xc5e\\x8a\\xca\\xf5\\x9e-L\\xe2\\xd9\\xc5\\xf3{\\xe7\\x18\\xceq\\x9cb\\xf7\\xbdki\\xd2\\x94\\xadgJ5\\xaeBR\\x95(\\xc68\\xc8A\\x08b\\x19\\x06B\\x8c\\xa6\\x19\\x0c!\\x90C \\x841\\x08b\\x10\\xc42\\x08C\\x10\\xc82\\x14\\x859\\na\\x94\\xc4)\\x8ad\\x19\\n2\\x14d$\\xa7ALr\\x18\\xe4)\\x842\\x14\\xa4\\xa4_\\xabS6\\xae\\xf1}\\xe2\\xdb\\xbd5ij\\xd3\\xdd\\xeb\\xbbSw\\xaf1m\\xde\\xdb\\xbd5Y^q\\xac\\xa1\\x17\\xbaP',\n",
              " b'\\x84\\xe58\\xc6Q\\x8c\\xe0\\xf8%\\t1\\x8cB\\x10\\xc5*\\x90w\\xb5pr\\xe2\\xf6=\\x8aj\\x8e\\xc4\\x19\\x88+\\x92w)\\x14\\x8b\\xf3z\\xeb8\\xce/j\\xd2\\xd6\\xab\\xde\\xe3\\x1c\\xe4)\\x842\\x08d\\x10\\xc8S\\x1c\\xa69\\x8e\\x82\\x14\\xc51\\xc8S\\x10\\xa6\\x19\\nB\\x14d \\xc8Q\\x90\\xa3!FB\\x8c\\x85)\\x8eS \\xa6AN\\x82\\x98\\xe3!D2\\x0c\\x85!\\x8e\\x84\\xaeT\\xab\\xe3&\\xb5\\xb2\\x83\\xab(^\\x91\\xbd#zF\\xf5\\x95\\xeb;\\xd6w\\xb5ok^\\xf7\\xbd\\xefk\\xde\\x95\\xb4\\xe9JV\\xb3\\xa5\\\\\\xf8-\\x8cR\\xd6S\\x18d \\xc8Q\\x0c\\x83!FC\\x10\\xa6\\x10\\xc8!\\x90C \\x861\\x08b\\x10\\xc41\\x88C\\x10\\xc82\\x14d(\\x86Q\\x90\\xa41\\xc8S\\x10\\xa7!\\x8eS \\xa6A\\x8e\\x93!%:\\nt\\x10\\xa69\\x8d\\x06\\xb2\\xd3\\x96\\xf1}\\xe2\\xfb\\xbd\\xb7z\\xf3\\x17\\xe6/\\xabW5\\xa6\\xafm\\xde\\xd9\\xb4\\xf5X\\xdeq\\xa4a(>Q\\x8d)h\\xc2Q\\x8c\\x9f\\x08\\xa1*!\\x081\\x8cc\\x1a\\x0eg10s\"\\xe6Ai\\x8b\\x13\\x16&-L\\x9c\\xaaA\\x93\\x83)\\'\\xde\\xb3\\xce-{V\\xb4\\x9aT\\xa1\\x90\\xa4)FB\\x88B\\x18\\xc8B\\x98\\xa6A\\xd0\\xa2\\x14\\xc2\\x19\\x08S\\x0c\\x84\\x18\\xc8!\\x90C \\xc8Q\\x90\\xa3',\n",
              " b\"!D2\\x10\\xa6)\\xd0c\\xa4\\xc8Q\\x8e\\x92\\x98\\xe3!FB\\x94\\xc8:U\\tQ\\x8dq\\x8e\\x94)Osi(\\xde\\xb3\\xcd\\xed\\xac_\\x17\\xb5\\xabJ\\xd6\\x96\\xad1\\x8b\\xe3\\x18\\xb5\\xefJ\\xdat\\xa4e'\\xbe\\x0bkX\\xd7!)!J2\\x10d)\\na\\x90\\xa2\\x19\\x06B\\x8c\\xa6\\x10\\xc8!\\x90C \\x841\\x08b\\x10\\xc42\\x0c\\x85\\x19\\n!\\x90C \\xc8b\\x14\\xc4)\\xcac\\x90\\xa6!NS\\xa0\\xc8Q\\xd2\\xb3\\xa5fB\\x8c\\x85\\x10\\xc7\\x19\\nB\\x11\\x07;\\xda\\xda\\xcey\\xb5\\xb5{^\\x94\\xa4\\xa2\\xd6-JS\\x18\\xc6\\xb1\\x92\\x83\\xb3Yf\\xb2\\xac\\xa1\\x17\\xbd\\xadt\\xe9iN\\xb0\\x8c\\xdf\\x19)\\x8d!\\x08!\\x08c\\x1a\\x0ef\\xad2{i\\x06\\xd2\\r\\x9b\\x97G\\xb2\\xb1m`\\xda\\xc5\\xd6\\x9c&\\xf6\\xca\\x0e\\xa4\\xe3{Q\\xadi\\na\\x90\\xa4)\\x842\\x0cd\\x10\\x861\\x90\\x851Lq\\x90\\xa2\\x18\\xc62\\x08C\\x10\\x86!\\x8c\\x85)\\nb\\x14\\xc3!F2\\x14\\xc72\\x12d$\\xc8ILq\\x90\\xa51\\xcct\\x19\\t:\\x12S\\x1cc!L\\x83\\xa1Lb\\xe5\\x18^\\xf6\\xd6s\\x8cb\\xb5\\xac\\xa79F\\x15\\xa4\\xedZ\\xde\\xf7\\xb5\\xaf)M\\xaer\\x12\\xa3\\x1d\\x06:\\x0ct\\x10\\x85!\\nC\\x1ce0\\xc8a\\x90\\xa2\\x19FB\\x90\\xa6\",\n",
              " b'\\x10\\xc8!\\x0cC\\x18\\x861\\x8c\\x83\\x19\\x042\\x08d\\x19\\n2\\x14\\x851\\x8e\\x82\\x99\\x07J\\x90\\x95\\x9d\\n2\\x14d(\\xc8Q\\x8e\\x93\\x1d&BHS\\x10\\xa6!L2\\x14C \\xc8C\\x18\\xc9JR\\x84\\x18\\xe7:\\x12t$\\xc8I\\x8e\\x84%.km8\\xea\\xb2\\xcd#X\\xbd\\x8cl\\xa9j_3\\xad\\xe3:\\xa9l!\\x08!\\x08\\xa4\"\\xd0y\\xbd\\x95\\x8b\\xad\\'\\xe2\\x92\\xb4\\xdfi>\\x91u\"\\xf9\\xc1\\xd4\\x94)(Vp\\x9c^\\xe74\\x85(\\xc8Q\\x8c\\x82\\x10\\xc2!\\x08C\\x08\\x84!\\x90C \\xc8Q\\x90\\x82\\x10\\xc42\\x08c\\x10\\xc62\\x10d(\\xc8Q\\x90\\xa3!FB\\x94\\xc82\\x12t(\\xc7H\\x862\\x14\\xc5:\\x08S\\x04C\\x10\\x86B\\x98\\xa7A\\nb\\x14\\xc7B^\\xf7\\xc60\\x8ce\\x19J2\\x94c\\'\\xc1\\xees\\x9a\\xd6\\xb1\\xaeJ\\x96c\\xa0\\x850\\xc8R\\x14\\xe4)\\x88S\\x08d!LS \\x850\\xcaa\\x10\\xa52\\nd\\x08d\\x10\\xc8!\\x90C \\x86A\\x0c\\x82\\x19\\x08C\\x14\\xc7)\\x8eS\\x1c\\xc7A\\xd0\\xa3\\xa5gJ\\xce\\x85\\x99\\n)\\xd2C\\x1cd)\\nb\\x14\\xc4)\\x86B\\x8c\\x85\\x19\\n2\\x14C \\xc8Q\\x8c\\x82\\x19\\x042\\x10\\xa61\\xd0t\\xa9\\nZT\\xc3\\xa5IR\\xde\\xe7b\\x91\\xdd\\xa5\\xaa\\xc9\\xcd',\n",
              " b'k\\x1a\\xe7BKk\\x8e\\x84\\x8cd\\x10\\xc6R\\x91\\x071\\xccW5w\\xac\\xb3jj\\xf4\\xcd\\xe9\\x9bR\\x92\\x83\\xdc\\xd5)Lb\\xe3\\x07\\xb5\\x8bBRB\\x14\"\\x18D \\x84A\\x08B!\\x04B\\x08D\\x11\\x08C\\x18\\xc8R\\x14\\xc3!\\x041\\x8c\\x84\\x19\\x082\\x14d(\\x86A\\x90\\xa3!FB\\x98\\xe8:\\x14t\\xa8\\xc8IN\\x83\\xa1E1\\xc4!\\x84B1\\xd2c\\xa4e1\\x08Q\\x90\\xa41\\xce\\x95%LR\\xd8\\x85-\\nY\\xd0\\x93!&:\\nc\\x90\\xa7!LB\\x98\\x869L\\x81\\x90\\xa2\\x19\\x042\\x08d\\x19\\nB\\x98d0\\xc8R\\x14\\xc52\\x06B\\x8c\\x85\\x10\\xc82\\x14d0\\xc8Q\\x0c\\x84)\\x8at\\x19\\n:Vt\\xac\\xc8Q\\x0cr\\x14\\xe3)\\x86C\\x10\\xc7\\x19L2\\x14e(\\x86A\\x0c\\x82\\x19\\x042\\x08d\\x19\\n2\\x14c \\xc6A\\x90\\xa3!HS\\x10\\xa62\\x12\\x851\\nY\\xd0\\xa2\\x98\\xe5:\\x0ct)(\\x93\\xdb\\x89\\xc2\\xf3\\x83\\xda\\xc4!\\x04!\\x041\\x88c!\\x08b\\x94\\xa5 \\x86A\\x08e1\\x98\\xc5\\xc1\\xee\\x83\\xdc\\xf75\\x8cY\\xd0\\x82\\x10\\xa4)Lc\\x8c\\x85\\x19\\n1\\x90\"\\x10D \\x84A\\x08B!\\x04\"\\x08D\\x10\\x88\"\\x10\\x861\\x0c\\x84!D2\\x0c\\x84)\\x8eB\\x98\\x851\\nb\\x98\\xe5',\n",
              " b'1\\xc8S\\x14\\xc72\\x12d(\\xc8I\\x90\\x94)c\\x19\\x00\\x10\\x88C)\\x90S \\x850\\xc8Q\\x90\\x84)\\x8ct\\x99\\n:Vt\\xac\\xc7I\\x8e\\x93!&B\\x8c\\x84\\x99\\t)\\xd0C\\x1c\\xa6A\\na\\x0c\\x82\\x19\\x042\\x08d\\x10\\xc82\\x14\\x851\\nr\\x14\\xe4)\\x88c\\x98\\xe9\\x19\\n2\\x14e1\\nb\\x14\\xc7B\\x92\\xc7%nB\\x9ad(\\xa7H\\xc6Q\\x90\\xa3!F2\\x08C\\x08\\x86!\\x8cB\\x18\\x861\\x0cb\\x10\\xc41\\x8c\\x85\\x19\\n2\\x10C \\x86A\\x90\\xa4)\\x8at%lS\\x1cS d(\\xc8R\\x10\\xa3\\x19\\x04!\\x88C!\\x08\\x84!\\xabS\\x96\\xa5%\\x06)JR\\x90\\x84\\x19\\n1\\x90d(\\xc8Q\\x0c\\x83!\\x062\\x10\\xa6\\x19\\nS\\x1c\\x851\\x8e\\x82\\x98\\xe4)\\x8ac\\x0cd\\x10\\x86!\\x0c\"\\x10B \\x88A\\x08\\x82\\x11\\x04B\\x08\\x84!\\x0cB\\x18D \\x88c!FB\\x88d\\x18\\xc8S\\x1c\\xc8I\\x8e\\x83\\x1d\\x06:HS\\x10\\xa6)\\x8eS\\xa0\\xc7AN\\x83\\xa1B\\x18\\xc4!\\x8c\\x851\\xd2C\\x1cd(\\x86A\\x90\\xa5:\\x0e\\x85!+:Vt\\xa8\\xc7IL\\x83\\x1d&:Jt\\x10\\xa6\\x19\\n2\\x98C \\x861\\x0c\\x82\\x19\\x06B\\x88d\\x19\\n2\\x14\\x858\\xc8b\\x98\\xe52\\nt\\x19\\t',\n",
              " b'\\x19\\x0cB\\x98e1\\xd0\\xa4\\xb1\\xcal\\x12\\xc7\\x90\\xc7\\x19L\"\\x14C \\xc8Q\\x0c\\xa3!F2\\x08d\\x10\\xc8!\\x0c\"\\x18D0\\x88a\\x10\\x84!\\x8cd\\x10\\xc8!\\x90C!\\nc\\x1d&BP\\x95\\xa5n)\\x901\\x90C\\x18D!\\x0cb\\x18\\xc2\\x11\\x04\"\\x10\\xc6B\\x14B\\x18\\x86A\\x08c\\x19\\x08S\\x0c\\x85\\x19\\nB\\x98\\xa69\\x08Q\\x90\\xa4)\\x84!\\x88c\\x19\\nS\\x1c\\xa69Lr\\x14\\xc3!\\x06B\\x8c\\x85\\x19\\x08\\x11\\x08B\\x18B \\x84A\\x10\\x82\\x11\\x04B\\x10\\xc81\\x90B\\x18D!\\x08c\\x19\\x042\\x08d\\x10\\x862\\x14\\xc8J\\x12\\xb3\\xa1FBHS\\x0c\\x86)\\x8eS\\x1c\\xa7A\\x8e\\x93\\xa1D)\\x88S\\x99\\t)\\x902\\x14C \\x86B\\x14\\xc6B\\x8e\\x95\\x99\\t1\\xd2c\\xa4\\x869\\na\\x90\\xa3!FB\\x88d\\x08\\x86\\x11\\x0c\"\\x10B!\\x08c!FB\\x88d\\x19\\x0cB\\x98\\x869N\\x83\\x1d%2\\nd\\x10\\xc7)\\x90S\\xa5+r\\xdb\\x04-\\xc52Jd\\x0c\\x86\\x10\\xc8!\\x0c\\x840\\xc8Q\\x90\\xa3!D2\\x08d\\x10\\xc8!\\x0c\"\\x10\\x841\\x90\\xa3!D2\\x0c\\x85!LS\\x1d*bX\\xe4)\\x86:Jt\\x14\\xc7\\x10\\x862\\x14B\\x18B!\\x08A\\x08@\\x00\\x84B\\x18\\xc81\\x90d',\n",
              " b'(\\x860\\x88B\\x18\\xc6B\\x90\\x85!LS\\x1c\\x850\\xc6A\\x0c\\x83!HS\\x10\\xa5!\\n2\\x14d(\\x86A\\x0c\\x82\\x10\\xc41\\x90\\x85\\x19\\x08!\\x8cB\\x18D \\x84A\\x10\\x82!\\x0c\\x85\\x19\\n!\\x90B\\x18\\x841\\x08b\\x18\\xc42\\x08d\\x10\\xc8!\\x0cd)\\nr\\x14\\xc4)\\x86B\\x8c\\x85!LB\\x18d)\\nr\\x14\\xe2\\x19\\x08S\\x14\\xe8\\x19\\n1\\x90C\\x18\\xc6B\\x99\\x06B\\x8c\\x85\\x14\\xc8!LB\\x9cd(\\x86A\\x0c\\x82\\x10\\xc2!\\x08d\\x08\\x86\\x11\\x08c \\x86B\\x14\\xc3!FB\\x90\\xc7)\\x90c\\xa4\\xc8I\\x8e\\x93\\x1d%2\\nt\\x10\\xa6K\\x1c\\x95\\xb9\\x0biN\\x91\\x90\\xa52\\x06C\\x10\\xa6\\x10\\x86!\\x0cC \\xc6A\\x0c\\x82\\x19\\x042\\x08c\\x10\\xc8\\x11\\x0cC\\x18\\xc8c\\xa5E2\\nd\\x1d\\nK\\x1c\\xa69+iN\\x82\\x14\\xe4)\\xcad\\x04\"\\x08D1\\x90\"\\x10B \\x88A\\x08B\\x11\\x08C\\x18\\xc8!\\x0cC\\x18D!\\x0cc!D2\\x0c\\x85!\\n2\\x14d \\xc6A\\x0c\\x83!F2\\x08c\\x10\\x86\\x11\\x08B\\x18B \\x88B\\x10\\xc2\\x11\\x04B\\x08\\x84B\\x94c \\x840\\x88A\\x10\\x86B\\x94\\xc7!J!\\x90C\\x18\\xc6@\\x88b\\x10\\xc4!\\x88c\\x18\\xc8\\x11\\x0c\"\\x10\\xc8A\\x8c\\x83',\n",
              " b'!FB\\x8c\\x85\\x19\\n2\\x10c \\xc8Q\\x8c\\x84)\\x88c\\x90\\xa6\\x19\\n!\\x90C \\xc8R\\x9d\\x06BJd\\x10\\xa6!\\x0c2\\x14B\\x18D1\\x08a\\x08\\x82!\\x04C\\x08\\x86!\\x90B\\x18\\xc8Q\\x90\\xa3!Hc\\x98\\xe92\\x14c\\xa4\\xc8QN\\x92\\x9d\\x05:Jt\\x14\\xc8B\\x98t\\xb0\\x858D1\\x08b\\x10\\xc4!\\x84C\\x10\\xc8!\\x0cd(\\xc8Q\\x0c\\x82\\x19\\x042\\x0c\\x84\\x19\\x08!\\x90d)\\ns\\x1d$)\\xd0\\xb6\\xb1\\xf1J\\xdcS\\xa0C \\xc8Q\\x90\\xa3!\\x84!\\x80!\\x10\\x86!\\x8c!\\x08\\x860\\x88A\\x10\\x82\\x11\\x08c\\x10\\x86\\x11\\x08C\\x18\\x841\\x0cb\\x18\\xc42\\x10\\xa6\\x18\\xc8!\\x8cC\\x18\\x86A\\x0c\\x82\\x18\\xc4!\\x88C\\x08D\\x10\\x88!\\x10D \\x84A\\x08\\x82\\x11\\x04B\\x10\\x862\\x14C\\x18D1\\x0c\\x84)\\x8at\\x18\\xe8!L!\\x90B\\x18\\x841\\x08b\\x10\\xc4!\\x88c\\x10\\x86!\\x8c\"\\x10D!\\x90\\xa3!FB\\x08d\\x08\\x86!\\x0cd \\x840\\x88d)\\x88c\\x8c\\x85\\x19\\n!\\x0cC \\xc8c\\x1d&B\\x8ac\\x90\\xa6\\x19\\x0c!\\x90C\\x18D1\\x08a\\x10\\x82!\\x04C\\x10\\xc6!\\x0cC \\xc8R\\x18\\xe51\\xcat\\x10\\xc7:\\x14S\\xa4\\xa6AL\\x82\\x9d&:Hd\\x10\\xc7']"
            ]
          },
          "metadata": {},
          "execution_count": 43
        }
      ]
    },
    {
      "cell_type": "code",
      "source": [
        "! pip install eciespy eth_keys cryptos qrcode base58 "
      ],
      "metadata": {
        "colab": {
          "base_uri": "https://localhost:8080/"
        },
        "id": "QZifm154JW46",
        "outputId": "8a36cd18-d49d-46f2-ec21-ccf65f2e28bf"
      },
      "execution_count": 44,
      "outputs": [
        {
          "output_type": "stream",
          "name": "stdout",
          "text": [
            "Looking in indexes: https://pypi.org/simple, https://us-python.pkg.dev/colab-wheels/public/simple/\n",
            "Collecting eciespy\n",
            "  Downloading eciespy-0.3.11-py3-none-any.whl (11 kB)\n",
            "Collecting eth_keys\n",
            "  Downloading eth_keys-0.4.0-py3-none-any.whl (21 kB)\n",
            "Requirement already satisfied: cryptos in /usr/local/lib/python3.7/dist-packages (1.36)\n",
            "Collecting qrcode\n",
            "  Downloading qrcode-7.3.1.tar.gz (43 kB)\n",
            "\u001b[K     |████████████████████████████████| 43 kB 2.0 MB/s \n",
            "\u001b[?25hCollecting base58\n",
            "  Downloading base58-2.1.1-py3-none-any.whl (5.6 kB)\n",
            "Collecting coincurve<16,>=13\n",
            "  Downloading coincurve-15.0.1-cp37-cp37m-manylinux_2_17_x86_64.manylinux2014_x86_64.whl (555 kB)\n",
            "\u001b[K     |████████████████████████████████| 555 kB 13.1 MB/s \n",
            "\u001b[?25hCollecting eth_keys\n",
            "  Downloading eth_keys-0.3.4-py3-none-any.whl (21 kB)\n",
            "Collecting pycryptodome<4.0.0,>=3.9.9\n",
            "  Downloading pycryptodome-3.14.1-cp35-abi3-manylinux2010_x86_64.whl (2.0 MB)\n",
            "\u001b[K     |████████████████████████████████| 2.0 MB 45.7 MB/s \n",
            "\u001b[?25hCollecting eth-typing<3.0.0,>=2.2.1\n",
            "  Downloading eth_typing-2.3.0-py3-none-any.whl (6.2 kB)\n",
            "Collecting eth-utils<2.0.0,>=1.8.2\n",
            "  Downloading eth_utils-1.10.0-py3-none-any.whl (24 kB)\n",
            "Requirement already satisfied: cffi>=1.3.0 in /usr/local/lib/python3.7/dist-packages (from coincurve<16,>=13->eciespy) (1.15.0)\n",
            "Collecting asn1crypto\n",
            "  Downloading asn1crypto-1.5.1-py2.py3-none-any.whl (105 kB)\n",
            "\u001b[K     |████████████████████████████████| 105 kB 66.5 MB/s \n",
            "\u001b[?25hRequirement already satisfied: pycparser in /usr/local/lib/python3.7/dist-packages (from cffi>=1.3.0->coincurve<16,>=13->eciespy) (2.21)\n",
            "Collecting cytoolz<1.0.0,>=0.10.1\n",
            "  Downloading cytoolz-0.11.2.tar.gz (481 kB)\n",
            "\u001b[K     |████████████████████████████████| 481 kB 61.3 MB/s \n",
            "\u001b[?25hCollecting eth-hash<0.4.0,>=0.3.1\n",
            "  Downloading eth_hash-0.3.2-py3-none-any.whl (8.8 kB)\n",
            "Requirement already satisfied: toolz>=0.8.0 in /usr/local/lib/python3.7/dist-packages (from cytoolz<1.0.0,>=0.10.1->eth-utils<2.0.0,>=1.8.2->eth_keys) (0.11.2)\n",
            "Building wheels for collected packages: cytoolz, qrcode\n",
            "  Building wheel for cytoolz (setup.py) ... \u001b[?25l\u001b[?25hdone\n",
            "  Created wheel for cytoolz: filename=cytoolz-0.11.2-cp37-cp37m-linux_x86_64.whl size=1236710 sha256=81989efda797bfc99a4ed443394bcac5ca605c8874761bf8cdb6a2a6f02151c9\n",
            "  Stored in directory: /root/.cache/pip/wheels/38/70/71/ca13ea3d36ccd0b3d0ec7d7a4ca67522048d695b556bba4f59\n",
            "  Building wheel for qrcode (setup.py) ... \u001b[?25l\u001b[?25hdone\n",
            "  Created wheel for qrcode: filename=qrcode-7.3.1-py3-none-any.whl size=40402 sha256=d4d170f87204f912716ce746c2b5ae27ef3eaa6672568c6b3d5708398cb85868\n",
            "  Stored in directory: /root/.cache/pip/wheels/93/d7/39/a4111be2cfb8e679938aa671a37888b6afb1f9e7d748e94492\n",
            "Successfully built cytoolz qrcode\n",
            "Installing collected packages: eth-typing, eth-hash, cytoolz, eth-utils, asn1crypto, pycryptodome, eth-keys, coincurve, qrcode, eciespy, base58\n",
            "Successfully installed asn1crypto-1.5.1 base58-2.1.1 coincurve-15.0.1 cytoolz-0.11.2 eciespy-0.3.11 eth-hash-0.3.2 eth-keys-0.3.4 eth-typing-2.3.0 eth-utils-1.10.0 pycryptodome-3.14.1 qrcode-7.3.1\n"
          ]
        }
      ]
    },
    {
      "cell_type": "code",
      "source": [
        "import pandas as pd\n",
        "from cryptos.py3specials import safe_hexlify, from_string_to_bytes, from_int_to_byte, from_string_to_bytes\n",
        "from cryptos import serialize,deserialize\n",
        "\n",
        "import hashlib\n",
        "import os\n",
        "import getpass\n",
        "import ecies\n",
        "import eth_keys\n",
        "import cryptos\n",
        "import qrcode\n",
        "import base58\n",
        "from PIL import Image\n",
        "import matplotlib.pyplot as plt\n",
        "%matplotlib inline\n",
        "\n",
        "def import_privKey(privkey_filepath,password=None):\n",
        "    if password==None:\n",
        "        password = getpass.getpass(\"Input password for decrypting keyfile: \")\n",
        "    password=password.encode()\n",
        "    f=open(privkey_filepath,'rb')\n",
        "    decrypted_bytes=ecies.aes_decrypt(key=hashlib.sha256(password).digest(),cipher_text=f.read())\n",
        "    privKey=eth_keys.keys.PrivateKey(decrypted_bytes)\n",
        "    return privKey\n",
        "\n",
        "def import_pubKey(pubkey_filepath):\n",
        "    f=open(pubkey_filepath,'rb')\n",
        "    privKey=eth_keys.keys.PublicKey(f.read())\n",
        "    return privKey\n",
        "\n",
        "def import_addr(addr_filepath):\n",
        "    return open(addr_filepath,'rb').read().decode()\n",
        "\n",
        "def only_conf(utxos):\n",
        "    return [utxo for utxo in utxos\n",
        "            if doge.fetchtx(utxo['output'].split(':')[0])['confirmations']>0]\n",
        "\n",
        "def mk_opreturn(msg, rawtx=None, json=0):\n",
        "    \n",
        "    def op_push(data):\n",
        "        if type(data) == bytes:\n",
        "            bytedata=data\n",
        "        else:\n",
        "            bytedata=data.encode()\n",
        "        import struct\n",
        "        if len(data) < 0x4c:\n",
        "            return from_int_to_byte(len(bytedata)) + bytedata\n",
        "        elif len(data) < 0xff:\n",
        "            return from_int_to_byte(76) + struct.pack('<B', len(bytedata)) + bytedata\n",
        "        elif len(data) < 0xffff:\n",
        "            return from_int_to_byte(77) + struct.pack('<H', len(bytedata)) + bytedata\n",
        "        elif len(data) < 0xffffffff:\n",
        "            return from_int_to_byte(78) + struct.pack('<I', len(bytedata)) + bytedata\n",
        "        else: raise Exception(\"Input data error. Rawtx must be hex chars\" \\\n",
        "                            + \"0xffffffff > len(data) > 0\")\n",
        "\n",
        "    orhex = safe_hexlify(b'\\x6a' + op_push(msg))\n",
        "    orjson = {'script' : orhex, 'value' : 0}\n",
        "    if rawtx is not None:\n",
        "        try:\n",
        "            txo = deserialize(rawtx)\n",
        "            if not 'outs' in txo.keys(): raise Exception(\"OP_Return cannot be the sole output!\")\n",
        "            txo['outs'].append(orjson)\n",
        "            newrawtx = serialize(txo)\n",
        "            return newrawtx\n",
        "        except Exception as E:\n",
        "            print(E)\n",
        "            print(type(E))\n",
        "            raise Exception(\"Raw Tx Error!\")\n",
        "    return orhex if not json else orjson"
      ],
      "metadata": {
        "id": "grmMh1V2M9sL"
      },
      "execution_count": 45,
      "outputs": []
    },
    {
      "cell_type": "markdown",
      "source": [
        "# Load Keys and Addresses"
      ],
      "metadata": {
        "id": "gUmrbQ38-h9c"
      }
    },
    {
      "cell_type": "code",
      "source": [
        "from google.colab import drive\n",
        "drive.mount('/content/drive')"
      ],
      "metadata": {
        "id": "qsBg50AOOqE_",
        "colab": {
          "base_uri": "https://localhost:8080/"
        },
        "outputId": "806520a5-ce6e-4dfd-ed60-63e0939122b8"
      },
      "execution_count": 46,
      "outputs": [
        {
          "output_type": "stream",
          "name": "stdout",
          "text": [
            "Mounted at /content/drive\n"
          ]
        }
      ]
    },
    {
      "cell_type": "code",
      "source": [
        "! cp drive/MyDrive/cinv/llaves.zip llaves.zip \n",
        "! unzip llaves.zip"
      ],
      "metadata": {
        "id": "6KAu2_OsQBf_",
        "colab": {
          "base_uri": "https://localhost:8080/"
        },
        "outputId": "f4cd55c5-9fc5-4922-ed4d-d6ff5578b2ee"
      },
      "execution_count": 47,
      "outputs": [
        {
          "output_type": "stream",
          "name": "stdout",
          "text": [
            "Archive:  llaves.zip\n",
            "   creating: llaves/\n",
            " extracting: llaves/mi_addr.bin      \n",
            " extracting: llaves/mi_addr.png      \n",
            " extracting: llaves/mi_pub.bin       \n",
            " extracting: llaves/mi_prv.enc       \n"
          ]
        }
      ]
    },
    {
      "cell_type": "code",
      "source": [
        "import IPython.display\n",
        "qr=IPython.display.Image('llaves/mi_addr.png')\n",
        "\n",
        "privKey=import_privKey('llaves/mi_prv.enc','')\n",
        "pub=import_pubKey('llaves/mi_pub.bin').to_hex()\n",
        "addr=import_addr('llaves/mi_addr.bin')\n",
        "\n",
        "display(qr)\n",
        "display(pub)\n",
        "display(addr)"
      ],
      "metadata": {
        "id": "_Zok6MGCQKnu",
        "colab": {
          "base_uri": "https://localhost:8080/",
          "height": 236
        },
        "outputId": "248c69f9-d9bf-406b-c8b6-688ad45b34da"
      },
      "execution_count": 48,
      "outputs": [
        {
          "output_type": "display_data",
          "data": {
            "text/plain": [
              "<IPython.core.display.Image object>"
            ],
            "image/png": "[encoded data removed]"
          },
          "metadata": {}
        },
        {
          "output_type": "display_data",
          "data": {
            "text/plain": [
              "'0x7c88e9a4df6e9f45656c10bf66f28e28be235a15b64820b254f1b9eb2738314e6769f5c94da0c7640ffe76dcffca053b07a0804cd53a1c51ad03bfe0133ce8c5'"
            ],
            "application/vnd.google.colaboratory.intrinsic+json": {
              "type": "string"
            }
          },
          "metadata": {}
        },
        {
          "output_type": "display_data",
          "data": {
            "text/plain": [
              "'D6zKNnkupqRbkB9p5rwix8QiobQWJazjyX'"
            ],
            "application/vnd.google.colaboratory.intrinsic+json": {
              "type": "string"
            }
          },
          "metadata": {}
        }
      ]
    },
    {
      "cell_type": "markdown",
      "source": [
        "# Inspect Outputs"
      ],
      "metadata": {
        "id": "-5nTrJB_-zsM"
      }
    },
    {
      "cell_type": "code",
      "source": [
        "doge=cryptos.Doge()\n",
        "#addy=doge.privtoaddr(privkeyhex)\n",
        "doge_unspents=only_conf( doge.unspent(addr) )\n",
        "doge_unspent_total=sum([unspent['value'] for unspent in doge_unspents])\n",
        "doge_unspent_total/10**8"
      ],
      "metadata": {
        "id": "LcQ5g4f_QP67",
        "colab": {
          "base_uri": "https://localhost:8080/"
        },
        "outputId": "e11c3614-841c-44bc-8e90-9279abbf0ffb"
      },
      "execution_count": 123,
      "outputs": [
        {
          "output_type": "execute_result",
          "data": {
            "text/plain": [
              "2577.91707005"
            ]
          },
          "metadata": {},
          "execution_count": 123
        }
      ]
    },
    {
      "cell_type": "markdown",
      "source": [
        "# Create UTXO set for Enscription"
      ],
      "metadata": {
        "id": "Wund19uk-6kJ"
      }
    },
    {
      "cell_type": "code",
      "source": [
        "len(package),len(package[0]),len(package[1]),len(package[-1])"
      ],
      "metadata": {
        "id": "ZsSN0gK1l62O",
        "outputId": "6eee1d57-1d5b-445f-d700-34402275d52e",
        "colab": {
          "base_uri": "https://localhost:8080/"
        }
      },
      "execution_count": 124,
      "outputs": [
        {
          "output_type": "execute_result",
          "data": {
            "text/plain": [
              "(49, 112, 320, 320)"
            ]
          },
          "metadata": {},
          "execution_count": 124
        }
      ]
    },
    {
      "cell_type": "code",
      "source": [
        "tip=6_95_850_003\n",
        "available=doge_unspent_total-tip\n",
        "n=len(package)\n",
        "gift=int(available/n)\n",
        "outputs=[{'value':gift , 'address': addr} for i in range(len(package))]\n",
        "setup_tx=doge.mktx(doge_unspents,outputs)\n",
        "gift/100_000_000"
      ],
      "metadata": {
        "id": "HHyH8E3yQ8Mg",
        "outputId": "ccf86814-9e79-4c5d-957e-e097784ea4e0",
        "colab": {
          "base_uri": "https://localhost:8080/"
        }
      },
      "execution_count": 125,
      "outputs": [
        {
          "output_type": "execute_result",
          "data": {
            "text/plain": [
              "52.46854224"
            ]
          },
          "metadata": {},
          "execution_count": 125
        }
      ]
    },
    {
      "cell_type": "code",
      "source": [
        "doge.signall(setup_tx,privKey.to_hex()[2:])"
      ],
      "metadata": {
        "id": "am6AtFyBQ-uI",
        "colab": {
          "base_uri": "https://localhost:8080/",
          "height": 249
        },
        "outputId": "4a3887ed-d4d1-4b8b-ae3a-4d6a7f8ca7fe"
      },
      "execution_count": 110,
      "outputs": [
        {
          "output_type": "execute_result",
          "data": {
            "text/plain": [
              "'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'"
            ],
            "application/vnd.google.colaboratory.intrinsic+json": {
              "type": "string"
            }
          },
          "metadata": {},
          "execution_count": 110
        }
      ]
    },
    {
      "cell_type": "code",
      "source": [
        "tip/(len(cryptos.serialize(setup_tx))/2)/100000"
      ],
      "metadata": {
        "id": "JeOmghAEWoZa",
        "colab": {
          "base_uri": "https://localhost:8080/"
        },
        "outputId": "722884c0-2478-40ec-bf9c-a3b754ad9906"
      },
      "execution_count": 111,
      "outputs": [
        {
          "output_type": "execute_result",
          "data": {
            "text/plain": [
              "3.1415350022573363"
            ]
          },
          "metadata": {},
          "execution_count": 111
        }
      ]
    },
    {
      "cell_type": "code",
      "source": [
        "funding=doge.pushtx(cryptos.serialize(setup_tx))\n",
        "funding"
      ],
      "metadata": {
        "id": "cjn_Pt28WDJx",
        "colab": {
          "base_uri": "https://localhost:8080/"
        },
        "outputId": "c76fc2a7-2333-4d34-c768-ea2163aeb68c"
      },
      "execution_count": 112,
      "outputs": [
        {
          "output_type": "execute_result",
          "data": {
            "text/plain": [
              "{'data': {'network': 'DOGE',\n",
              "  'txid': '9e42c7ab6f47dadc0c36d22fb20f69c9db0daa5c719cd8ff83c8ecf250efa519'},\n",
              " 'status': 'success'}"
            ]
          },
          "metadata": {},
          "execution_count": 112
        }
      ]
    },
    {
      "cell_type": "code",
      "source": [
        "doge.fetchtx(funding['data']['txid'])['confirmations']"
      ],
      "metadata": {
        "id": "aSKkBI_MWN-4",
        "colab": {
          "base_uri": "https://localhost:8080/"
        },
        "outputId": "efe9a20e-18a5-4444-f00d-2cb55a604029"
      },
      "execution_count": 116,
      "outputs": [
        {
          "output_type": "execute_result",
          "data": {
            "text/plain": [
              "1"
            ]
          },
          "metadata": {},
          "execution_count": 116
        }
      ]
    },
    {
      "cell_type": "code",
      "source": [
        "#UTXO set\n",
        "sparkle_unspents=only_conf( doge.unspent(addr) )\n",
        "sparkle_unspents"
      ],
      "metadata": {
        "id": "f7_3zSOzWa5f",
        "colab": {
          "base_uri": "https://localhost:8080/"
        },
        "outputId": "95c135dd-9c1b-4366-a64f-40eaa5932202"
      },
      "execution_count": 117,
      "outputs": [
        {
          "output_type": "execute_result",
          "data": {
            "text/plain": [
              "[{'output': '9e42c7ab6f47dadc0c36d22fb20f69c9db0daa5c719cd8ff83c8ecf250efa519:0',\n",
              "  'value': 5261055245},\n",
              " {'output': '9e42c7ab6f47dadc0c36d22fb20f69c9db0daa5c719cd8ff83c8ecf250efa519:1',\n",
              "  'value': 5261055245},\n",
              " {'output': '9e42c7ab6f47dadc0c36d22fb20f69c9db0daa5c719cd8ff83c8ecf250efa519:2',\n",
              "  'value': 5261055245},\n",
              " {'output': '9e42c7ab6f47dadc0c36d22fb20f69c9db0daa5c719cd8ff83c8ecf250efa519:3',\n",
              "  'value': 5261055245},\n",
              " {'output': '9e42c7ab6f47dadc0c36d22fb20f69c9db0daa5c719cd8ff83c8ecf250efa519:4',\n",
              "  'value': 5261055245},\n",
              " {'output': '9e42c7ab6f47dadc0c36d22fb20f69c9db0daa5c719cd8ff83c8ecf250efa519:5',\n",
              "  'value': 5261055245},\n",
              " {'output': '9e42c7ab6f47dadc0c36d22fb20f69c9db0daa5c719cd8ff83c8ecf250efa519:6',\n",
              "  'value': 5261055245},\n",
              " {'output': '9e42c7ab6f47dadc0c36d22fb20f69c9db0daa5c719cd8ff83c8ecf250efa519:7',\n",
              "  'value': 5261055245},\n",
              " {'output': '9e42c7ab6f47dadc0c36d22fb20f69c9db0daa5c719cd8ff83c8ecf250efa519:8',\n",
              "  'value': 5261055245},\n",
              " {'output': '9e42c7ab6f47dadc0c36d22fb20f69c9db0daa5c719cd8ff83c8ecf250efa519:9',\n",
              "  'value': 5261055245},\n",
              " {'output': '9e42c7ab6f47dadc0c36d22fb20f69c9db0daa5c719cd8ff83c8ecf250efa519:10',\n",
              "  'value': 5261055245},\n",
              " {'output': '9e42c7ab6f47dadc0c36d22fb20f69c9db0daa5c719cd8ff83c8ecf250efa519:11',\n",
              "  'value': 5261055245},\n",
              " {'output': '9e42c7ab6f47dadc0c36d22fb20f69c9db0daa5c719cd8ff83c8ecf250efa519:12',\n",
              "  'value': 5261055245},\n",
              " {'output': '9e42c7ab6f47dadc0c36d22fb20f69c9db0daa5c719cd8ff83c8ecf250efa519:13',\n",
              "  'value': 5261055245},\n",
              " {'output': '9e42c7ab6f47dadc0c36d22fb20f69c9db0daa5c719cd8ff83c8ecf250efa519:14',\n",
              "  'value': 5261055245},\n",
              " {'output': '9e42c7ab6f47dadc0c36d22fb20f69c9db0daa5c719cd8ff83c8ecf250efa519:15',\n",
              "  'value': 5261055245},\n",
              " {'output': '9e42c7ab6f47dadc0c36d22fb20f69c9db0daa5c719cd8ff83c8ecf250efa519:16',\n",
              "  'value': 5261055245},\n",
              " {'output': '9e42c7ab6f47dadc0c36d22fb20f69c9db0daa5c719cd8ff83c8ecf250efa519:17',\n",
              "  'value': 5261055245},\n",
              " {'output': '9e42c7ab6f47dadc0c36d22fb20f69c9db0daa5c719cd8ff83c8ecf250efa519:18',\n",
              "  'value': 5261055245},\n",
              " {'output': '9e42c7ab6f47dadc0c36d22fb20f69c9db0daa5c719cd8ff83c8ecf250efa519:19',\n",
              "  'value': 5261055245},\n",
              " {'output': '9e42c7ab6f47dadc0c36d22fb20f69c9db0daa5c719cd8ff83c8ecf250efa519:20',\n",
              "  'value': 5261055245},\n",
              " {'output': '9e42c7ab6f47dadc0c36d22fb20f69c9db0daa5c719cd8ff83c8ecf250efa519:21',\n",
              "  'value': 5261055245},\n",
              " {'output': '9e42c7ab6f47dadc0c36d22fb20f69c9db0daa5c719cd8ff83c8ecf250efa519:22',\n",
              "  'value': 5261055245},\n",
              " {'output': '9e42c7ab6f47dadc0c36d22fb20f69c9db0daa5c719cd8ff83c8ecf250efa519:23',\n",
              "  'value': 5261055245},\n",
              " {'output': '9e42c7ab6f47dadc0c36d22fb20f69c9db0daa5c719cd8ff83c8ecf250efa519:24',\n",
              "  'value': 5261055245},\n",
              " {'output': '9e42c7ab6f47dadc0c36d22fb20f69c9db0daa5c719cd8ff83c8ecf250efa519:25',\n",
              "  'value': 5261055245},\n",
              " {'output': '9e42c7ab6f47dadc0c36d22fb20f69c9db0daa5c719cd8ff83c8ecf250efa519:26',\n",
              "  'value': 5261055245},\n",
              " {'output': '9e42c7ab6f47dadc0c36d22fb20f69c9db0daa5c719cd8ff83c8ecf250efa519:27',\n",
              "  'value': 5261055245},\n",
              " {'output': '9e42c7ab6f47dadc0c36d22fb20f69c9db0daa5c719cd8ff83c8ecf250efa519:28',\n",
              "  'value': 5261055245},\n",
              " {'output': '9e42c7ab6f47dadc0c36d22fb20f69c9db0daa5c719cd8ff83c8ecf250efa519:29',\n",
              "  'value': 5261055245},\n",
              " {'output': '9e42c7ab6f47dadc0c36d22fb20f69c9db0daa5c719cd8ff83c8ecf250efa519:30',\n",
              "  'value': 5261055245},\n",
              " {'output': '9e42c7ab6f47dadc0c36d22fb20f69c9db0daa5c719cd8ff83c8ecf250efa519:31',\n",
              "  'value': 5261055245},\n",
              " {'output': '9e42c7ab6f47dadc0c36d22fb20f69c9db0daa5c719cd8ff83c8ecf250efa519:32',\n",
              "  'value': 5261055245},\n",
              " {'output': '9e42c7ab6f47dadc0c36d22fb20f69c9db0daa5c719cd8ff83c8ecf250efa519:33',\n",
              "  'value': 5261055245},\n",
              " {'output': '9e42c7ab6f47dadc0c36d22fb20f69c9db0daa5c719cd8ff83c8ecf250efa519:34',\n",
              "  'value': 5261055245},\n",
              " {'output': '9e42c7ab6f47dadc0c36d22fb20f69c9db0daa5c719cd8ff83c8ecf250efa519:35',\n",
              "  'value': 5261055245},\n",
              " {'output': '9e42c7ab6f47dadc0c36d22fb20f69c9db0daa5c719cd8ff83c8ecf250efa519:36',\n",
              "  'value': 5261055245},\n",
              " {'output': '9e42c7ab6f47dadc0c36d22fb20f69c9db0daa5c719cd8ff83c8ecf250efa519:37',\n",
              "  'value': 5261055245},\n",
              " {'output': '9e42c7ab6f47dadc0c36d22fb20f69c9db0daa5c719cd8ff83c8ecf250efa519:38',\n",
              "  'value': 5261055245},\n",
              " {'output': '9e42c7ab6f47dadc0c36d22fb20f69c9db0daa5c719cd8ff83c8ecf250efa519:39',\n",
              "  'value': 5261055245},\n",
              " {'output': '9e42c7ab6f47dadc0c36d22fb20f69c9db0daa5c719cd8ff83c8ecf250efa519:40',\n",
              "  'value': 5261055245},\n",
              " {'output': '9e42c7ab6f47dadc0c36d22fb20f69c9db0daa5c719cd8ff83c8ecf250efa519:41',\n",
              "  'value': 5261055245},\n",
              " {'output': '9e42c7ab6f47dadc0c36d22fb20f69c9db0daa5c719cd8ff83c8ecf250efa519:42',\n",
              "  'value': 5261055245},\n",
              " {'output': '9e42c7ab6f47dadc0c36d22fb20f69c9db0daa5c719cd8ff83c8ecf250efa519:43',\n",
              "  'value': 5261055245},\n",
              " {'output': '9e42c7ab6f47dadc0c36d22fb20f69c9db0daa5c719cd8ff83c8ecf250efa519:44',\n",
              "  'value': 5261055245},\n",
              " {'output': '9e42c7ab6f47dadc0c36d22fb20f69c9db0daa5c719cd8ff83c8ecf250efa519:45',\n",
              "  'value': 5261055245},\n",
              " {'output': '9e42c7ab6f47dadc0c36d22fb20f69c9db0daa5c719cd8ff83c8ecf250efa519:46',\n",
              "  'value': 5261055245},\n",
              " {'output': '9e42c7ab6f47dadc0c36d22fb20f69c9db0daa5c719cd8ff83c8ecf250efa519:47',\n",
              "  'value': 5261055245},\n",
              " {'output': '9e42c7ab6f47dadc0c36d22fb20f69c9db0daa5c719cd8ff83c8ecf250efa519:48',\n",
              "  'value': 5261055245}]"
            ]
          },
          "metadata": {},
          "execution_count": 117
        }
      ]
    },
    {
      "cell_type": "code",
      "source": [
        "\n",
        "len(sparkle_unspents),len(package)"
      ],
      "metadata": {
        "id": "W7HfG-KLHwXo",
        "colab": {
          "base_uri": "https://localhost:8080/"
        },
        "outputId": "a0b0c6ec-8c1e-46c6-9fc3-21e35ca8033a"
      },
      "execution_count": 127,
      "outputs": [
        {
          "output_type": "execute_result",
          "data": {
            "text/plain": [
              "(49, 49)"
            ]
          },
          "metadata": {},
          "execution_count": 127
        }
      ]
    },
    {
      "cell_type": "code",
      "source": [
        "data_and_utxo=zip(packages,parkle_unspents)"
      ],
      "metadata": {
        "id": "3zkWduyzwt2G"
      },
      "execution_count": null,
      "outputs": []
    },
    {
      "cell_type": "code",
      "source": [
        "class Cadena():\n",
        "\n",
        "  def __init__(self,prvkey,data,utxo_dct,tip):\n",
        "    self.data=data\n",
        "    self.doge=cryptos.Doge()\n",
        "    self.clip=[self.data[i:i+80] for i in range(0,len(self.data),80) ]\n",
        "    self.og_len=len(self.clip)\n",
        "    self.state='CONF'\n",
        "    self.utxo=utxo_dct\n",
        "    self.head_utxo=self.utxo\n",
        "    self.txn_ids=[self.utxo['output'].split(':')[0]]\n",
        "    self.prv=prvkey\n",
        "    self.addr=self.doge.privtoaddr(self.prv)\n",
        "    self.tip=tip\n",
        "    self.index=0\n",
        "\n",
        "  def make_tx(self):\n",
        "    tx = self.doge.mktx([self.head_utxo],[ {'value':self.head_utxo['value']-self.tip , 'address': self.addr}])\n",
        "    doge_inscribed_serial_tx=mk_opreturn( self.clip[self.index] , cryptos.serialize(tx))\n",
        "    doge_inscribed_tx=cryptos.deserialize(doge_inscribed_serial_tx)\n",
        "    self.signed_inscribed_tx=self.doge.signall(doge_inscribed_tx,self.prv)\n",
        "    self.state='READY'\n",
        "  \n",
        "  def broadcast(self):\n",
        "    self.cast=self.doge.pushtx(self.signed_inscribed_tx)\n",
        "    cast_txid=self.cast['data']['txid']\n",
        "    self.txn_ids.append(cast_txid)\n",
        "    self.head_utxo={'output':cast_txid+':0' ,'value':self.head_utxo['value']-self.tip }\n",
        "    self.index=self.index+1\n",
        "    self.state='SENT'\n",
        "\n",
        "  def update(self):\n",
        "    if self.doge.fetchtx(self.head_utxo['output'].split(':')[0])['confirmations']:\n",
        "      self.state='CONF'\n",
        "      if self.index==self.og_len:\n",
        "        self.state='DONE'\n",
        "    "
      ],
      "metadata": {
        "id": "kzClIKZQJ8Ni"
      },
      "execution_count": 128,
      "outputs": []
    },
    {
      "cell_type": "code",
      "source": [
        "cadenas=[ Cadena(privKey.to_hex()[2:],*datum_utxo,100_000_000)for datum_utxo in zip(package,sparkle_unspents) ]"
      ],
      "metadata": {
        "id": "yhpcOVrZvkw7"
      },
      "execution_count": 138,
      "outputs": []
    },
    {
      "cell_type": "code",
      "source": [
        "[cad.make_tx() for cad in cadenas if cad.state=='CONF'];\n",
        "[cad.state for cad in cadenas]"
      ],
      "metadata": {
        "id": "ElRaPUBExrDB",
        "outputId": "8a08c4f7-296c-48d0-9393-82b2f7322911",
        "colab": {
          "base_uri": "https://localhost:8080/"
        }
      },
      "execution_count": 153,
      "outputs": [
        {
          "output_type": "execute_result",
          "data": {
            "text/plain": [
              "['DONE',\n",
              " 'READY',\n",
              " 'READY',\n",
              " 'READY',\n",
              " 'READY',\n",
              " 'READY',\n",
              " 'READY',\n",
              " 'READY',\n",
              " 'READY',\n",
              " 'READY',\n",
              " 'READY',\n",
              " 'READY',\n",
              " 'READY',\n",
              " 'READY',\n",
              " 'READY',\n",
              " 'READY',\n",
              " 'READY',\n",
              " 'READY',\n",
              " 'READY',\n",
              " 'READY',\n",
              " 'READY',\n",
              " 'READY',\n",
              " 'READY',\n",
              " 'READY',\n",
              " 'READY',\n",
              " 'READY',\n",
              " 'READY',\n",
              " 'READY',\n",
              " 'READY',\n",
              " 'READY',\n",
              " 'READY',\n",
              " 'READY',\n",
              " 'READY',\n",
              " 'READY',\n",
              " 'READY',\n",
              " 'READY',\n",
              " 'READY',\n",
              " 'READY',\n",
              " 'READY',\n",
              " 'READY',\n",
              " 'READY',\n",
              " 'READY',\n",
              " 'READY',\n",
              " 'READY',\n",
              " 'READY',\n",
              " 'READY',\n",
              " 'READY',\n",
              " 'READY',\n",
              " 'READY']"
            ]
          },
          "metadata": {},
          "execution_count": 153
        }
      ]
    },
    {
      "cell_type": "code",
      "source": [
        "[cad.broadcast() for cad in cadenas if cad.state=='READY'];\n",
        "[cad.state for cad in cadenas]"
      ],
      "metadata": {
        "id": "-izMtx5Dye9E",
        "outputId": "7ce33c2a-14fd-44d1-862b-db9d12016488",
        "colab": {
          "base_uri": "https://localhost:8080/"
        }
      },
      "execution_count": 154,
      "outputs": [
        {
          "output_type": "execute_result",
          "data": {
            "text/plain": [
              "['DONE',\n",
              " 'SENT',\n",
              " 'SENT',\n",
              " 'SENT',\n",
              " 'SENT',\n",
              " 'SENT',\n",
              " 'SENT',\n",
              " 'SENT',\n",
              " 'SENT',\n",
              " 'SENT',\n",
              " 'SENT',\n",
              " 'SENT',\n",
              " 'SENT',\n",
              " 'SENT',\n",
              " 'SENT',\n",
              " 'SENT',\n",
              " 'SENT',\n",
              " 'SENT',\n",
              " 'SENT',\n",
              " 'SENT',\n",
              " 'SENT',\n",
              " 'SENT',\n",
              " 'SENT',\n",
              " 'SENT',\n",
              " 'SENT',\n",
              " 'SENT',\n",
              " 'SENT',\n",
              " 'SENT',\n",
              " 'SENT',\n",
              " 'SENT',\n",
              " 'SENT',\n",
              " 'SENT',\n",
              " 'SENT',\n",
              " 'SENT',\n",
              " 'SENT',\n",
              " 'SENT',\n",
              " 'SENT',\n",
              " 'SENT',\n",
              " 'SENT',\n",
              " 'SENT',\n",
              " 'SENT',\n",
              " 'SENT',\n",
              " 'SENT',\n",
              " 'SENT',\n",
              " 'SENT',\n",
              " 'SENT',\n",
              " 'SENT',\n",
              " 'SENT',\n",
              " 'SENT']"
            ]
          },
          "metadata": {},
          "execution_count": 154
        }
      ]
    },
    {
      "cell_type": "code",
      "source": [
        "[cad.update() for cad in cadenas if cad.state=='SENT'];\n",
        "[cad.state for cad in cadenas]"
      ],
      "metadata": {
        "id": "ubzi3GuuzufH",
        "outputId": "084788eb-e14f-4fce-db55-af5b948d0a94",
        "colab": {
          "base_uri": "https://localhost:8080/"
        }
      },
      "execution_count": 157,
      "outputs": [
        {
          "output_type": "execute_result",
          "data": {
            "text/plain": [
              "['DONE',\n",
              " 'DONE',\n",
              " 'DONE',\n",
              " 'DONE',\n",
              " 'DONE',\n",
              " 'DONE',\n",
              " 'DONE',\n",
              " 'DONE',\n",
              " 'DONE',\n",
              " 'DONE',\n",
              " 'DONE',\n",
              " 'DONE',\n",
              " 'DONE',\n",
              " 'DONE',\n",
              " 'DONE',\n",
              " 'DONE',\n",
              " 'DONE',\n",
              " 'DONE',\n",
              " 'DONE',\n",
              " 'DONE',\n",
              " 'DONE',\n",
              " 'DONE',\n",
              " 'DONE',\n",
              " 'DONE',\n",
              " 'DONE',\n",
              " 'DONE',\n",
              " 'DONE',\n",
              " 'DONE',\n",
              " 'DONE',\n",
              " 'DONE',\n",
              " 'DONE',\n",
              " 'DONE',\n",
              " 'DONE',\n",
              " 'DONE',\n",
              " 'DONE',\n",
              " 'DONE',\n",
              " 'DONE',\n",
              " 'DONE',\n",
              " 'DONE',\n",
              " 'DONE',\n",
              " 'DONE',\n",
              " 'DONE',\n",
              " 'DONE',\n",
              " 'DONE',\n",
              " 'DONE',\n",
              " 'DONE',\n",
              " 'DONE',\n",
              " 'DONE',\n",
              " 'DONE']"
            ]
          },
          "metadata": {},
          "execution_count": 157
        }
      ]
    },
    {
      "cell_type": "code",
      "source": [
        "cadenas[1].utxo"
      ],
      "metadata": {
        "id": "mVzHg_Wb2UiH",
        "outputId": "a2127ee7-6007-4ecd-a3f7-4818cce36180",
        "colab": {
          "base_uri": "https://localhost:8080/"
        }
      },
      "execution_count": 160,
      "outputs": [
        {
          "output_type": "execute_result",
          "data": {
            "text/plain": [
              "{'output': '9e42c7ab6f47dadc0c36d22fb20f69c9db0daa5c719cd8ff83c8ecf250efa519:1',\n",
              " 'value': 5261055245}"
            ]
          },
          "metadata": {},
          "execution_count": 160
        }
      ]
    },
    {
      "cell_type": "code",
      "source": [
        "cadenas[0].head_utxo"
      ],
      "metadata": {
        "id": "XnSusnlj2Yow",
        "outputId": "f9c3f1b2-5275-4fcf-cae6-5172d28e2ac0",
        "colab": {
          "base_uri": "https://localhost:8080/"
        }
      },
      "execution_count": 158,
      "outputs": [
        {
          "output_type": "execute_result",
          "data": {
            "text/plain": [
              "{'output': 'f808c0b199f58a86aa00b08547a9641915bb6e295ec9e88dfbb024d6f39e975a:0',\n",
              " 'value': 5061055245}"
            ]
          },
          "metadata": {},
          "execution_count": 158
        }
      ]
    },
    {
      "cell_type": "markdown",
      "source": [
        "# Everything is Retrievable From the TX Hash of Header Transaction \n",
        "\n",
        "\n",
        "\n",
        "Use the UTXO set transactions\n",
        "\n",
        "The first is greyscale. The second is color. They are both super parallel, meaning there is no series processing of the data.\n",
        "\n",
        "The third\n",
        "\n",
        "```\n",
        "c1542c10399a09a5471799133c472a6652d5cb3b7b421e1a7e80e2039f5b393b\n",
        "\n",
        "a01e8625d653f4a8686b5b9e20ca653e59ebcd8bf2ca2a7b8370fdc52417f7b9\n",
        "\n",
        "9e42c7ab6f47dadc0c36d22fb20f69c9db0daa5c719cd8ff83c8ecf250efa519\n",
        "```"
      ],
      "metadata": {
        "id": "PLKBeRyZNsfW"
      }
    },
    {
      "cell_type": "code",
      "source": [
        "[doge.fetchtx(broadcast['data']['txid'])['confirmations'] for broadcast in broadcasts]"
      ],
      "metadata": {
        "id": "nijVN8UncB51"
      },
      "execution_count": null,
      "outputs": []
    },
    {
      "cell_type": "code",
      "source": [
        "doge.block_height()"
      ],
      "metadata": {
        "id": "HUNYk5HDWYZP"
      },
      "execution_count": null,
      "outputs": []
    },
    {
      "cell_type": "markdown",
      "source": [
        "# Automate Reading From Dogecoin Blockchain"
      ],
      "metadata": {
        "id": "IlK7oSOV91Dw"
      }
    },
    {
      "cell_type": "code",
      "source": [
        "doge=cryptos.Doge()\n",
        "doge.fetchtx('a01e8625d653f4a8686b5b9e20ca653e59ebcd8bf2ca2a7b8370fdc52417f7b9')"
      ],
      "metadata": {
        "id": "0A2B9EEA5yIF",
        "outputId": "a89b65f1-e817-40b0-d283-ffd574a9bd6a",
        "colab": {
          "base_uri": "https://localhost:8080/"
        }
      },
      "execution_count": null,
      "outputs": [
        {
          "output_type": "execute_result",
          "data": {
            "text/plain": [
              "{'blockhash': '4fc98c5553dc5fe736db42ff1aab70c70bac53db4c53552b26374e2b80535884',\n",
              " 'confirmations': 13533,\n",
              " 'inputs': [{'address': 'D6zKNnkupqRbkB9p5rwix8QiobQWJazjyX',\n",
              "   'from_output': {'output_no': 0,\n",
              "    'txid': '53ae86951b38d91cc01a90e7cf9e7089ffff0a4b81a46fcd02a104d696247cb2'},\n",
              "   'input_no': 0,\n",
              "   'script': '304402203ae7b7a459935093fe7534f8d728592047eba5efeb1501936f66da97519bdad70220340831c96477fb031ba7ae694da6eda389d8203ef17a8dd81fbc7d045f7ded2801 047c88e9a4df6e9f45656c10bf66f28e28be235a15b64820b254f1b9eb2738314e6769f5c94da0c7640ffe76dcffca053b07a0804cd53a1c51ad03bfe0133ce8c5',\n",
              "   'sequence': 4294967295,\n",
              "   'type': 'pubkeyhash',\n",
              "   'value': '5.17545453',\n",
              "   'witness': None},\n",
              "  {'address': 'D6zKNnkupqRbkB9p5rwix8QiobQWJazjyX',\n",
              "   'from_output': {'output_no': 0,\n",
              "    'txid': '7de555db92ec394ebb6050928c9b70fd34bf6fb2ed5e33e33c3f4b9dfc9e8900'},\n",
              "   'input_no': 1,\n",
              "   'script': '3045022100d6bc4339f8616e77d69357f61ad273b5f77ac5e27364abeccab987856af5557f022059e182df185ea1ae3671f5161658611391f52764d51742bd7a4eaba8b36c0b3901 047c88e9a4df6e9f45656c10bf66f28e28be235a15b64820b254f1b9eb2738314e6769f5c94da0c7640ffe76dcffca053b07a0804cd53a1c51ad03bfe0133ce8c5',\n",
              "   'sequence': 4294967295,\n",
              "   'type': 'pubkeyhash',\n",
              "   'value': '5.17545453',\n",
              "   'witness': None},\n",
              "  {'address': 'D6zKNnkupqRbkB9p5rwix8QiobQWJazjyX',\n",
              "   'from_output': {'output_no': 0,\n",
              "    'txid': '1c1479726fd2832bae02564234e2eb59f6eedb36ed1b74acf4f557006eb9540e'},\n",
              "   'input_no': 2,\n",
              "   'script': '304502210093faa1f283dd4ec13d67f50fda8360d6c76d8353a4e37d47eb5747f63824115202201f8c2aa2fbc8761bd1430c5c0df6e126934dee599616d889563319b55a91b64301 047c88e9a4df6e9f45656c10bf66f28e28be235a15b64820b254f1b9eb2738314e6769f5c94da0c7640ffe76dcffca053b07a0804cd53a1c51ad03bfe0133ce8c5',\n",
              "   'sequence': 4294967295,\n",
              "   'type': 'pubkeyhash',\n",
              "   'value': '5.17545453',\n",
              "   'witness': None},\n",
              "  {'address': 'D6zKNnkupqRbkB9p5rwix8QiobQWJazjyX',\n",
              "   'from_output': {'output_no': 0,\n",
              "    'txid': '1a5b286ce3e440fade57d07c23484996f70049ddc11123d79875b99aa9dfc914'},\n",
              "   'input_no': 3,\n",
              "   'script': '3045022100d4b6681db0b83cf148e6be6822d78246b003ea7089739a98fef7f75649794fea02201b9cead55c12f2efd2eae3afdb8e8725c66c2f267687a85af88411d2da6dccb901 047c88e9a4df6e9f45656c10bf66f28e28be235a15b64820b254f1b9eb2738314e6769f5c94da0c7640ffe76dcffca053b07a0804cd53a1c51ad03bfe0133ce8c5',\n",
              "   'sequence': 4294967295,\n",
              "   'type': 'pubkeyhash',\n",
              "   'value': '5.17545453',\n",
              "   'witness': None},\n",
              "  {'address': 'D6zKNnkupqRbkB9p5rwix8QiobQWJazjyX',\n",
              "   'from_output': {'output_no': 0,\n",
              "    'txid': 'bb5f99b53d66282d920c00c4cdb0ca32309f14754dfa43ae3beca55e85cba934'},\n",
              "   'input_no': 4,\n",
              "   'script': '3045022100911dfa48097c8629907f934d2ad7e00d896afa60e6c0cfa43547aaf04a4d7624022013741b24b8848717397b55d46a941379a5af1c230cef3f16a6e0ef906435df8301 047c88e9a4df6e9f45656c10bf66f28e28be235a15b64820b254f1b9eb2738314e6769f5c94da0c7640ffe76dcffca053b07a0804cd53a1c51ad03bfe0133ce8c5',\n",
              "   'sequence': 4294967295,\n",
              "   'type': 'pubkeyhash',\n",
              "   'value': '5.17545453',\n",
              "   'witness': None},\n",
              "  {'address': 'D6zKNnkupqRbkB9p5rwix8QiobQWJazjyX',\n",
              "   'from_output': {'output_no': 0,\n",
              "    'txid': 'd10c6b53dd83a3c337399e13b321f9661e4618c767f2a148c19327563e09573c'},\n",
              "   'input_no': 5,\n",
              "   'script': '304502210081650e376f2775a528263f450f3565dbd771052a755c4714864dad86eed857f802202a79d38a99c9985abf6cb9b340fc206c567bd36fb54ce5c6cd3fac69e7f58fa601 047c88e9a4df6e9f45656c10bf66f28e28be235a15b64820b254f1b9eb2738314e6769f5c94da0c7640ffe76dcffca053b07a0804cd53a1c51ad03bfe0133ce8c5',\n",
              "   'sequence': 4294967295,\n",
              "   'type': 'pubkeyhash',\n",
              "   'value': '5.17545453',\n",
              "   'witness': None},\n",
              "  {'address': 'D6zKNnkupqRbkB9p5rwix8QiobQWJazjyX',\n",
              "   'from_output': {'output_no': 0,\n",
              "    'txid': '2a1d66ec1e63ec0c756aaa189051ac79b54190cc78881033d8df6abdfa751d61'},\n",
              "   'input_no': 6,\n",
              "   'script': '3045022100d056a1955a40dba998be1de34f4fa86a3276b45c7e3a50a9b7856be83c9d80c802203407e600ea7b5bc845b45ce57f353efa33de81ac831c20a0afbd8364dc7949a001 047c88e9a4df6e9f45656c10bf66f28e28be235a15b64820b254f1b9eb2738314e6769f5c94da0c7640ffe76dcffca053b07a0804cd53a1c51ad03bfe0133ce8c5',\n",
              "   'sequence': 4294967295,\n",
              "   'type': 'pubkeyhash',\n",
              "   'value': '5.17545453',\n",
              "   'witness': None},\n",
              "  {'address': 'D6zKNnkupqRbkB9p5rwix8QiobQWJazjyX',\n",
              "   'from_output': {'output_no': 0,\n",
              "    'txid': '140f0c2e4f95c046c2361181ee67e4922a27fc9db0e31d64d46467470c86fc6a'},\n",
              "   'input_no': 7,\n",
              "   'script': '3045022100bea4aa18c2c08605231e779ed1318967f2644fae6cb29312dd57f76f899b5ac5022034d9c90c930f011088993c9875a7060a903a1e9050a24121dc55388e7a03629e01 047c88e9a4df6e9f45656c10bf66f28e28be235a15b64820b254f1b9eb2738314e6769f5c94da0c7640ffe76dcffca053b07a0804cd53a1c51ad03bfe0133ce8c5',\n",
              "   'sequence': 4294967295,\n",
              "   'type': 'pubkeyhash',\n",
              "   'value': '5.17545453',\n",
              "   'witness': None},\n",
              "  {'address': 'D6zKNnkupqRbkB9p5rwix8QiobQWJazjyX',\n",
              "   'from_output': {'output_no': 0,\n",
              "    'txid': '7176b077494c85a7fbc34c174fc75e4d009c2a294de6884de22ad9256a15216e'},\n",
              "   'input_no': 8,\n",
              "   'script': '3045022100fddb1357c970b69361dbf409fec474829381d3ebd33be500cb15594c3e714c6902207ab1eb6283e8c31966e0c4009b179292efd150ea3932aabd93f3f5ef0009072901 047c88e9a4df6e9f45656c10bf66f28e28be235a15b64820b254f1b9eb2738314e6769f5c94da0c7640ffe76dcffca053b07a0804cd53a1c51ad03bfe0133ce8c5',\n",
              "   'sequence': 4294967295,\n",
              "   'type': 'pubkeyhash',\n",
              "   'value': '5.17545453',\n",
              "   'witness': None},\n",
              "  {'address': 'D6zKNnkupqRbkB9p5rwix8QiobQWJazjyX',\n",
              "   'from_output': {'output_no': 0,\n",
              "    'txid': 'ebcd6115961bcef1a4bad384000dc4fa4d66cafc24d029bbec340a084f95a76e'},\n",
              "   'input_no': 9,\n",
              "   'script': '3045022100fa1cddcaca225ff7548a3eac57cdcf271efb9f503d34959aa7e9ed4aa370a32202207719b76c8e6f1be4f56746893dedef8905d6ff2acea4162fc1bca70764ecb54801 047c88e9a4df6e9f45656c10bf66f28e28be235a15b64820b254f1b9eb2738314e6769f5c94da0c7640ffe76dcffca053b07a0804cd53a1c51ad03bfe0133ce8c5',\n",
              "   'sequence': 4294967295,\n",
              "   'type': 'pubkeyhash',\n",
              "   'value': '5.17545453',\n",
              "   'witness': None},\n",
              "  {'address': 'D6zKNnkupqRbkB9p5rwix8QiobQWJazjyX',\n",
              "   'from_output': {'output_no': 0,\n",
              "    'txid': '61ffbaef642a5810196d6bee7f918eb15f3492764ec63806c76c4b29a6f32f8e'},\n",
              "   'input_no': 10,\n",
              "   'script': '3044022042c43487e32d3afa90167695d514e52ca64a9fe736c66fd692af812911c94393022015eafbee61975337507e0f233c23c2edeb280504a5762792f52bfa7bd4aeca1901 047c88e9a4df6e9f45656c10bf66f28e28be235a15b64820b254f1b9eb2738314e6769f5c94da0c7640ffe76dcffca053b07a0804cd53a1c51ad03bfe0133ce8c5',\n",
              "   'sequence': 4294967295,\n",
              "   'type': 'pubkeyhash',\n",
              "   'value': '5.17545453',\n",
              "   'witness': None},\n",
              "  {'address': 'D6zKNnkupqRbkB9p5rwix8QiobQWJazjyX',\n",
              "   'from_output': {'output_no': 0,\n",
              "    'txid': '05258574937feee15ca3b62d3adf7e6419c0d8eacd7d9cf1da2f3a9b4cbc4791'},\n",
              "   'input_no': 11,\n",
              "   'script': '3045022100a0ebe8b11a44aa80faca87c943c1b9eff4c77d1b38e65c25a66cb9d9307ffe4c022047efc14f564980007cc76a9680cdbd831c7ea68a6a40fad37ef3982dbee3b25a01 047c88e9a4df6e9f45656c10bf66f28e28be235a15b64820b254f1b9eb2738314e6769f5c94da0c7640ffe76dcffca053b07a0804cd53a1c51ad03bfe0133ce8c5',\n",
              "   'sequence': 4294967295,\n",
              "   'type': 'pubkeyhash',\n",
              "   'value': '5.17545453',\n",
              "   'witness': None},\n",
              "  {'address': 'D6zKNnkupqRbkB9p5rwix8QiobQWJazjyX',\n",
              "   'from_output': {'output_no': 0,\n",
              "    'txid': '53b6990a5ff193acc212287463b0eb183018c67935debffd061ccba0187612b6'},\n",
              "   'input_no': 12,\n",
              "   'script': '3045022100f0de0ed2ffb892ac40312930dab045fc5394ffffeabaf17c903686a1931f1a0b02206e2a89dfc3c0a6adbd96622e8d4c1db08459f4d714db32edde29c41518852b6f01 047c88e9a4df6e9f45656c10bf66f28e28be235a15b64820b254f1b9eb2738314e6769f5c94da0c7640ffe76dcffca053b07a0804cd53a1c51ad03bfe0133ce8c5',\n",
              "   'sequence': 4294967295,\n",
              "   'type': 'pubkeyhash',\n",
              "   'value': '5.17545453',\n",
              "   'witness': None},\n",
              "  {'address': 'D6zKNnkupqRbkB9p5rwix8QiobQWJazjyX',\n",
              "   'from_output': {'output_no': 0,\n",
              "    'txid': '3c660aac73dc85dfbba77e3697ce9e29166b05b4931952125eafb337c174f9c1'},\n",
              "   'input_no': 13,\n",
              "   'script': '304502210088b9921e17ef09ef6e503ee5fd360661ed781c61777f2eb70146b8d04dbbe3d402203ab0199be232d064b6b137178f1bae8dea55a00b21aa0685d04980a05444d5d201 047c88e9a4df6e9f45656c10bf66f28e28be235a15b64820b254f1b9eb2738314e6769f5c94da0c7640ffe76dcffca053b07a0804cd53a1c51ad03bfe0133ce8c5',\n",
              "   'sequence': 4294967295,\n",
              "   'type': 'pubkeyhash',\n",
              "   'value': '5.17545453',\n",
              "   'witness': None},\n",
              "  {'address': 'D6zKNnkupqRbkB9p5rwix8QiobQWJazjyX',\n",
              "   'from_output': {'output_no': 0,\n",
              "    'txid': 'de84f6f0dab5da79cc78799c254406646f232fc2246c0cf2ecae8ea3600bd9c9'},\n",
              "   'input_no': 14,\n",
              "   'script': '3044022001644c76086969076991a4ff081f45be69cc976aaaa6461bb6e0c16b35d5f9e802206d78970f7fced1e4735dbe7e0504c91d51fa11cb9a0d6c189a07ff2160fe7bbc01 047c88e9a4df6e9f45656c10bf66f28e28be235a15b64820b254f1b9eb2738314e6769f5c94da0c7640ffe76dcffca053b07a0804cd53a1c51ad03bfe0133ce8c5',\n",
              "   'sequence': 4294967295,\n",
              "   'type': 'pubkeyhash',\n",
              "   'value': '5.17545453',\n",
              "   'witness': None},\n",
              "  {'address': 'D6zKNnkupqRbkB9p5rwix8QiobQWJazjyX',\n",
              "   'from_output': {'output_no': 0,\n",
              "    'txid': 'a872861d4cc200139f804cfbeb687015ed3b2eb7c4c490077ef537c5bb1143d2'},\n",
              "   'input_no': 15,\n",
              "   'script': '3045022100d8adb1ecd04dda2935ea0fd67a7f420ec071519487652ab9f752f206cc76f63702206ece574498853b3f87a2d525f8b66e003a8c9a6d4b65041374a688e559a1d4b701 047c88e9a4df6e9f45656c10bf66f28e28be235a15b64820b254f1b9eb2738314e6769f5c94da0c7640ffe76dcffca053b07a0804cd53a1c51ad03bfe0133ce8c5',\n",
              "   'sequence': 4294967295,\n",
              "   'type': 'pubkeyhash',\n",
              "   'value': '5.17545453',\n",
              "   'witness': None},\n",
              "  {'address': 'D6zKNnkupqRbkB9p5rwix8QiobQWJazjyX',\n",
              "   'from_output': {'output_no': 0,\n",
              "    'txid': '9a18605e2f78a5e2c20e3c7546893b042266762e9e1db599c00072dea802d8df'},\n",
              "   'input_no': 16,\n",
              "   'script': '3045022100a9bf0567f8820ad9b5f89ab279a3be34900227141f88208f8dcb38877b6dfd8202202a25547c4c9856686d15b60382553c540be652de94f0708dd57fc96649f05b7501 047c88e9a4df6e9f45656c10bf66f28e28be235a15b64820b254f1b9eb2738314e6769f5c94da0c7640ffe76dcffca053b07a0804cd53a1c51ad03bfe0133ce8c5',\n",
              "   'sequence': 4294967295,\n",
              "   'type': 'pubkeyhash',\n",
              "   'value': '5.17545453',\n",
              "   'witness': None},\n",
              "  {'address': 'D6zKNnkupqRbkB9p5rwix8QiobQWJazjyX',\n",
              "   'from_output': {'output_no': 0,\n",
              "    'txid': 'f5966121a6d69fac636c9b9148c9454cf19387bd153def1de1c77e1ff0a7a828'},\n",
              "   'input_no': 17,\n",
              "   'script': '30440220317c18a82edfe508afafd3e0eccae722a3e615c7d471848cdb425515fb36369c02204252d0a0a797900f4a26d3e0606a0c06cc9a440c999dcbcf5d6708e722a1baf901 047c88e9a4df6e9f45656c10bf66f28e28be235a15b64820b254f1b9eb2738314e6769f5c94da0c7640ffe76dcffca053b07a0804cd53a1c51ad03bfe0133ce8c5',\n",
              "   'sequence': 4294967295,\n",
              "   'type': 'pubkeyhash',\n",
              "   'value': '5.17545453',\n",
              "   'witness': None},\n",
              "  {'address': 'D6zKNnkupqRbkB9p5rwix8QiobQWJazjyX',\n",
              "   'from_output': {'output_no': 0,\n",
              "    'txid': '8945c36e6e93fa0128a64bc8a2dc36f042652f8d7f50930dd6250f34b93dc72f'},\n",
              "   'input_no': 18,\n",
              "   'script': '304402202e201db3289948e741f7e275d1177fe5c595af084c1e788d04eecbd02eafdc9002201487ff34a921a5fffb8bf4a994127ac2db120b041bd33cf91fdb54148bd233d601 047c88e9a4df6e9f45656c10bf66f28e28be235a15b64820b254f1b9eb2738314e6769f5c94da0c7640ffe76dcffca053b07a0804cd53a1c51ad03bfe0133ce8c5',\n",
              "   'sequence': 4294967295,\n",
              "   'type': 'pubkeyhash',\n",
              "   'value': '5.17545453',\n",
              "   'witness': None},\n",
              "  {'address': 'D6zKNnkupqRbkB9p5rwix8QiobQWJazjyX',\n",
              "   'from_output': {'output_no': 0,\n",
              "    'txid': '9e5cc64874aa80076765b0ab06d6858c4f16b32dbe5c3f504a9695b49cfd953c'},\n",
              "   'input_no': 19,\n",
              "   'script': '3045022100fa36ba631d56e807ec4a79af3b25da0470e2ce383491d36d8edbebe4747a978302203d61d5ebb3a464f4fc85ad8ab4ac2d32028385e31511e7dd577d60da36f5e87c01 047c88e9a4df6e9f45656c10bf66f28e28be235a15b64820b254f1b9eb2738314e6769f5c94da0c7640ffe76dcffca053b07a0804cd53a1c51ad03bfe0133ce8c5',\n",
              "   'sequence': 4294967295,\n",
              "   'type': 'pubkeyhash',\n",
              "   'value': '5.17545453',\n",
              "   'witness': None},\n",
              "  {'address': 'D6zKNnkupqRbkB9p5rwix8QiobQWJazjyX',\n",
              "   'from_output': {'output_no': 0,\n",
              "    'txid': 'c0c0100357741223008b3d543d248b0be2fa2a4ebb17b113729298088951774b'},\n",
              "   'input_no': 20,\n",
              "   'script': '3045022100da7832cd07419402543c686bcda72d6b8444fa63a35447c1260bdc6a9ebb5d3d02203b490ba761d196d458de1f99ef8ee93d116d3bb8be5be7846ac84fad77ba038601 047c88e9a4df6e9f45656c10bf66f28e28be235a15b64820b254f1b9eb2738314e6769f5c94da0c7640ffe76dcffca053b07a0804cd53a1c51ad03bfe0133ce8c5',\n",
              "   'sequence': 4294967295,\n",
              "   'type': 'pubkeyhash',\n",
              "   'value': '5.17545453',\n",
              "   'witness': None},\n",
              "  {'address': 'D6zKNnkupqRbkB9p5rwix8QiobQWJazjyX',\n",
              "   'from_output': {'output_no': 0,\n",
              "    'txid': 'a3559b089d1bd48c6c395c47e0d86e81565342edf8979548337f022f39842356'},\n",
              "   'input_no': 21,\n",
              "   'script': '30440220093f25e79fe032ee9e23f248cdf695f4ba010492a7a430bfc34670c7b8f49bb6022007b33b2050169c1caf74353c02b5bffb71cdb79c114be6bb2b3a1614c183b5e601 047c88e9a4df6e9f45656c10bf66f28e28be235a15b64820b254f1b9eb2738314e6769f5c94da0c7640ffe76dcffca053b07a0804cd53a1c51ad03bfe0133ce8c5',\n",
              "   'sequence': 4294967295,\n",
              "   'type': 'pubkeyhash',\n",
              "   'value': '5.17545453',\n",
              "   'witness': None},\n",
              "  {'address': 'D6zKNnkupqRbkB9p5rwix8QiobQWJazjyX',\n",
              "   'from_output': {'output_no': 0,\n",
              "    'txid': '85981e0d4245c10cdba9c1d869cc0db10505da89bb2936e464a63b5b21e9095b'},\n",
              "   'input_no': 22,\n",
              "   'script': '3044022058a59ab78ca391fe369b6067999c5c5b80dbb8756e573687f100dbb50b45887402205a185aab424b45bcfdd34608b7cddc79a271977a2b9a651561105a13c31b731e01 047c88e9a4df6e9f45656c10bf66f28e28be235a15b64820b254f1b9eb2738314e6769f5c94da0c7640ffe76dcffca053b07a0804cd53a1c51ad03bfe0133ce8c5',\n",
              "   'sequence': 4294967295,\n",
              "   'type': 'pubkeyhash',\n",
              "   'value': '5.17545453',\n",
              "   'witness': None},\n",
              "  {'address': 'D6zKNnkupqRbkB9p5rwix8QiobQWJazjyX',\n",
              "   'from_output': {'output_no': 0,\n",
              "    'txid': '3c940d05069c830176016044cf23cd8ed727bb078a0d5c8cca54cd7013b09f71'},\n",
              "   'input_no': 23,\n",
              "   'script': '304402202bb73e0ae262856c2addcd856472863dfa6459a8f9867522c988e4959b45047c0220384d5c9cd2253ed7f081dad2e3ed2e3a003037b2bbd6eb413ee3b2ec5593bed201 047c88e9a4df6e9f45656c10bf66f28e28be235a15b64820b254f1b9eb2738314e6769f5c94da0c7640ffe76dcffca053b07a0804cd53a1c51ad03bfe0133ce8c5',\n",
              "   'sequence': 4294967295,\n",
              "   'type': 'pubkeyhash',\n",
              "   'value': '5.17545453',\n",
              "   'witness': None},\n",
              "  {'address': 'D6zKNnkupqRbkB9p5rwix8QiobQWJazjyX',\n",
              "   'from_output': {'output_no': 0,\n",
              "    'txid': 'e970f755be8b9926f319157d1362926ba4b0b62e28bbccf7667d5b242c010f7c'},\n",
              "   'input_no': 24,\n",
              "   'script': '30440220159176146015bf6141fb53bbaa058a850282d72a654b421a6cf93394ca02581e022072e29fe576dc26216e71046d276d388104fa8e0509b655018d1b99411136fca701 047c88e9a4df6e9f45656c10bf66f28e28be235a15b64820b254f1b9eb2738314e6769f5c94da0c7640ffe76dcffca053b07a0804cd53a1c51ad03bfe0133ce8c5',\n",
              "   'sequence': 4294967295,\n",
              "   'type': 'pubkeyhash',\n",
              "   'value': '5.17545453',\n",
              "   'witness': None},\n",
              "  {'address': 'D6zKNnkupqRbkB9p5rwix8QiobQWJazjyX',\n",
              "   'from_output': {'output_no': 0,\n",
              "    'txid': '2f3162731462b52420ef5954c7d634f0c2a779dae3688795b53d5a9eed15508c'},\n",
              "   'input_no': 25,\n",
              "   'script': '3044022072c6bc7b065d90f89fa9b51813329aaa94d33be66cd8b0cb85a7475f025a23d40220643630e93bb3467f986541a6f02a6c1e9b34e35d138a123d26e07759743a057701 047c88e9a4df6e9f45656c10bf66f28e28be235a15b64820b254f1b9eb2738314e6769f5c94da0c7640ffe76dcffca053b07a0804cd53a1c51ad03bfe0133ce8c5',\n",
              "   'sequence': 4294967295,\n",
              "   'type': 'pubkeyhash',\n",
              "   'value': '5.17545453',\n",
              "   'witness': None},\n",
              "  {'address': 'D6zKNnkupqRbkB9p5rwix8QiobQWJazjyX',\n",
              "   'from_output': {'output_no': 0,\n",
              "    'txid': '47c5dd87328ae082e876f4e23c2eb253e861f1525293063d92b45a43e183b697'},\n",
              "   'input_no': 26,\n",
              "   'script': '30450221009304ce6b2682ada1412ec4f7ee1b85f57f070198cdfa5539a48d1e70f18628fd02202d57f6c7e084ab6f2e62dd1e14d7d4edf62bba67a437efd2adb2dd3acd30c15c01 047c88e9a4df6e9f45656c10bf66f28e28be235a15b64820b254f1b9eb2738314e6769f5c94da0c7640ffe76dcffca053b07a0804cd53a1c51ad03bfe0133ce8c5',\n",
              "   'sequence': 4294967295,\n",
              "   'type': 'pubkeyhash',\n",
              "   'value': '5.17545453',\n",
              "   'witness': None},\n",
              "  {'address': 'D6zKNnkupqRbkB9p5rwix8QiobQWJazjyX',\n",
              "   'from_output': {'output_no': 0,\n",
              "    'txid': '5c57cad54308ffac804dbaee849bdcddc03b520148009a10f85427958773109a'},\n",
              "   'input_no': 27,\n",
              "   'script': '30450221008d8f094137ad30ebd3d09bdddc6310bfa7fbfcdbe10488912379e4c9bcf92362022037dfc1e01ec60f5426fbc566e07b48d94556fd4e2902751e2aa7f68f54d0812401 047c88e9a4df6e9f45656c10bf66f28e28be235a15b64820b254f1b9eb2738314e6769f5c94da0c7640ffe76dcffca053b07a0804cd53a1c51ad03bfe0133ce8c5',\n",
              "   'sequence': 4294967295,\n",
              "   'type': 'pubkeyhash',\n",
              "   'value': '5.17545453',\n",
              "   'witness': None},\n",
              "  {'address': 'D6zKNnkupqRbkB9p5rwix8QiobQWJazjyX',\n",
              "   'from_output': {'output_no': 0,\n",
              "    'txid': '8ef8d8e2f58a1b9765c5df7ac576abcb817cfea17c31e03df923070d984f54a6'},\n",
              "   'input_no': 28,\n",
              "   'script': '30440220346363854b8cab7a6099686a1e0a114966101b3006cf68c1dccbec7fa42d9f71022063b4aef5c2676ffda87eba8bd18c63d9dd06ebe486caf106a0a669f38413519601 047c88e9a4df6e9f45656c10bf66f28e28be235a15b64820b254f1b9eb2738314e6769f5c94da0c7640ffe76dcffca053b07a0804cd53a1c51ad03bfe0133ce8c5',\n",
              "   'sequence': 4294967295,\n",
              "   'type': 'pubkeyhash',\n",
              "   'value': '5.17545453',\n",
              "   'witness': None},\n",
              "  {'address': 'D6zKNnkupqRbkB9p5rwix8QiobQWJazjyX',\n",
              "   'from_output': {'output_no': 0,\n",
              "    'txid': '8a77887d58c01356e03a2c78af159908ef3274abf93945309b86e9b3e797d4ac'},\n",
              "   'input_no': 29,\n",
              "   'script': '304402200f55629dc2f6470ca337adcfdca933a3306783edf411b345af8fef3a6c24ac2202205363c660aecf89feb2194597912657ec2d8f4aa7586b54a380b30658a09bc67201 047c88e9a4df6e9f45656c10bf66f28e28be235a15b64820b254f1b9eb2738314e6769f5c94da0c7640ffe76dcffca053b07a0804cd53a1c51ad03bfe0133ce8c5',\n",
              "   'sequence': 4294967295,\n",
              "   'type': 'pubkeyhash',\n",
              "   'value': '5.17545453',\n",
              "   'witness': None},\n",
              "  {'address': 'D6zKNnkupqRbkB9p5rwix8QiobQWJazjyX',\n",
              "   'from_output': {'output_no': 0,\n",
              "    'txid': 'a23f334f08af6e56fa7553bc204c3b9e04f8c6f0e93f3c9bf300ef0a0ba8e3b1'},\n",
              "   'input_no': 30,\n",
              "   'script': '30450221008a72ec0d01b270068f779bf8d8e524802be1fc06d94bf14465118829b3334a5802205664f33db796ca903c46db00516e6612fbd03b0c1d30b8d325bf0c020c6437f301 047c88e9a4df6e9f45656c10bf66f28e28be235a15b64820b254f1b9eb2738314e6769f5c94da0c7640ffe76dcffca053b07a0804cd53a1c51ad03bfe0133ce8c5',\n",
              "   'sequence': 4294967295,\n",
              "   'type': 'pubkeyhash',\n",
              "   'value': '5.17545453',\n",
              "   'witness': None},\n",
              "  {'address': 'D6zKNnkupqRbkB9p5rwix8QiobQWJazjyX',\n",
              "   'from_output': {'output_no': 0,\n",
              "    'txid': 'c926f0d9a2311ccb422de595908bd8c9c7c5332a8c78a39a33645a26076400ca'},\n",
              "   'input_no': 31,\n",
              "   'script': '3044022055fd999dd68b30396c9653125db67f6b9b6b43dfb44aedb452bc216293bcbc8f02200c3750e5a2f107de73678de9d599bad32b2647805baac3291d320c5918e4c17501 047c88e9a4df6e9f45656c10bf66f28e28be235a15b64820b254f1b9eb2738314e6769f5c94da0c7640ffe76dcffca053b07a0804cd53a1c51ad03bfe0133ce8c5',\n",
              "   'sequence': 4294967295,\n",
              "   'type': 'pubkeyhash',\n",
              "   'value': '5.17545453',\n",
              "   'witness': None},\n",
              "  {'address': 'D6zKNnkupqRbkB9p5rwix8QiobQWJazjyX',\n",
              "   'from_output': {'output_no': 0,\n",
              "    'txid': '5ce5a1e96c64eb1d917f1ae6883f47a86c2a06e42709cc77fbdbb5256492ecdd'},\n",
              "   'input_no': 32,\n",
              "   'script': '3045022100a41eee78bd253b39ff72327a3fe82e6d0090e65b602cfdeffa795482fcccb13502203357bc2687aa0541554998f7058bce99a0766ee48e7dde21c538fbf8d4f6f91701 047c88e9a4df6e9f45656c10bf66f28e28be235a15b64820b254f1b9eb2738314e6769f5c94da0c7640ffe76dcffca053b07a0804cd53a1c51ad03bfe0133ce8c5',\n",
              "   'sequence': 4294967295,\n",
              "   'type': 'pubkeyhash',\n",
              "   'value': '5.17545453',\n",
              "   'witness': None},\n",
              "  {'address': 'D6zKNnkupqRbkB9p5rwix8QiobQWJazjyX',\n",
              "   'from_output': {'output_no': 0,\n",
              "    'txid': '66db18121392ec6b65887c36ea303407533f38ed176a01f819d5f2aacd862872'},\n",
              "   'input_no': 33,\n",
              "   'script': '3045022100adbdeb4e3716c016c85c6611f03fba8af04a703beed065b50d20ab61a38b3bf7022010c3815f4033c45f59bd326b431f799b3bbdb4b89f43936c45a06bfdecbebe3801 047c88e9a4df6e9f45656c10bf66f28e28be235a15b64820b254f1b9eb2738314e6769f5c94da0c7640ffe76dcffca053b07a0804cd53a1c51ad03bfe0133ce8c5',\n",
              "   'sequence': 4294967295,\n",
              "   'type': 'pubkeyhash',\n",
              "   'value': '406.67557108',\n",
              "   'witness': None}],\n",
              " 'locktime': 0,\n",
              " 'network': 'DOGE',\n",
              " 'network_fee': '13.70000014',\n",
              " 'outputs': [{'address': 'D6zKNnkupqRbkB9p5rwix8QiobQWJazjyX',\n",
              "   'output_no': 0,\n",
              "   'script': 'OP_DUP OP_HASH160 144739367df0ff8d1c61d03704298d49cf93ef3f OP_EQUALVERIFY OP_CHECKSIG',\n",
              "   'type': 'pubkeyhash',\n",
              "   'value': '5.81201619'},\n",
              "  {'address': 'D6zKNnkupqRbkB9p5rwix8QiobQWJazjyX',\n",
              "   'output_no': 1,\n",
              "   'script': 'OP_DUP OP_HASH160 144739367df0ff8d1c61d03704298d49cf93ef3f OP_EQUALVERIFY OP_CHECKSIG',\n",
              "   'type': 'pubkeyhash',\n",
              "   'value': '5.81201619'},\n",
              "  {'address': 'D6zKNnkupqRbkB9p5rwix8QiobQWJazjyX',\n",
              "   'output_no': 2,\n",
              "   'script': 'OP_DUP OP_HASH160 144739367df0ff8d1c61d03704298d49cf93ef3f OP_EQUALVERIFY OP_CHECKSIG',\n",
              "   'type': 'pubkeyhash',\n",
              "   'value': '5.81201619'},\n",
              "  {'address': 'D6zKNnkupqRbkB9p5rwix8QiobQWJazjyX',\n",
              "   'output_no': 3,\n",
              "   'script': 'OP_DUP OP_HASH160 144739367df0ff8d1c61d03704298d49cf93ef3f OP_EQUALVERIFY OP_CHECKSIG',\n",
              "   'type': 'pubkeyhash',\n",
              "   'value': '5.81201619'},\n",
              "  {'address': 'D6zKNnkupqRbkB9p5rwix8QiobQWJazjyX',\n",
              "   'output_no': 4,\n",
              "   'script': 'OP_DUP OP_HASH160 144739367df0ff8d1c61d03704298d49cf93ef3f OP_EQUALVERIFY OP_CHECKSIG',\n",
              "   'type': 'pubkeyhash',\n",
              "   'value': '5.81201619'},\n",
              "  {'address': 'D6zKNnkupqRbkB9p5rwix8QiobQWJazjyX',\n",
              "   'output_no': 5,\n",
              "   'script': 'OP_DUP OP_HASH160 144739367df0ff8d1c61d03704298d49cf93ef3f OP_EQUALVERIFY OP_CHECKSIG',\n",
              "   'type': 'pubkeyhash',\n",
              "   'value': '5.81201619'},\n",
              "  {'address': 'D6zKNnkupqRbkB9p5rwix8QiobQWJazjyX',\n",
              "   'output_no': 6,\n",
              "   'script': 'OP_DUP OP_HASH160 144739367df0ff8d1c61d03704298d49cf93ef3f OP_EQUALVERIFY OP_CHECKSIG',\n",
              "   'type': 'pubkeyhash',\n",
              "   'value': '5.81201619'},\n",
              "  {'address': 'D6zKNnkupqRbkB9p5rwix8QiobQWJazjyX',\n",
              "   'output_no': 7,\n",
              "   'script': 'OP_DUP OP_HASH160 144739367df0ff8d1c61d03704298d49cf93ef3f OP_EQUALVERIFY OP_CHECKSIG',\n",
              "   'type': 'pubkeyhash',\n",
              "   'value': '5.81201619'},\n",
              "  {'address': 'D6zKNnkupqRbkB9p5rwix8QiobQWJazjyX',\n",
              "   'output_no': 8,\n",
              "   'script': 'OP_DUP OP_HASH160 144739367df0ff8d1c61d03704298d49cf93ef3f OP_EQUALVERIFY OP_CHECKSIG',\n",
              "   'type': 'pubkeyhash',\n",
              "   'value': '5.81201619'},\n",
              "  {'address': 'D6zKNnkupqRbkB9p5rwix8QiobQWJazjyX',\n",
              "   'output_no': 9,\n",
              "   'script': 'OP_DUP OP_HASH160 144739367df0ff8d1c61d03704298d49cf93ef3f OP_EQUALVERIFY OP_CHECKSIG',\n",
              "   'type': 'pubkeyhash',\n",
              "   'value': '5.81201619'},\n",
              "  {'address': 'D6zKNnkupqRbkB9p5rwix8QiobQWJazjyX',\n",
              "   'output_no': 10,\n",
              "   'script': 'OP_DUP OP_HASH160 144739367df0ff8d1c61d03704298d49cf93ef3f OP_EQUALVERIFY OP_CHECKSIG',\n",
              "   'type': 'pubkeyhash',\n",
              "   'value': '5.81201619'},\n",
              "  {'address': 'D6zKNnkupqRbkB9p5rwix8QiobQWJazjyX',\n",
              "   'output_no': 11,\n",
              "   'script': 'OP_DUP OP_HASH160 144739367df0ff8d1c61d03704298d49cf93ef3f OP_EQUALVERIFY OP_CHECKSIG',\n",
              "   'type': 'pubkeyhash',\n",
              "   'value': '5.81201619'},\n",
              "  {'address': 'D6zKNnkupqRbkB9p5rwix8QiobQWJazjyX',\n",
              "   'output_no': 12,\n",
              "   'script': 'OP_DUP OP_HASH160 144739367df0ff8d1c61d03704298d49cf93ef3f OP_EQUALVERIFY OP_CHECKSIG',\n",
              "   'type': 'pubkeyhash',\n",
              "   'value': '5.81201619'},\n",
              "  {'address': 'D6zKNnkupqRbkB9p5rwix8QiobQWJazjyX',\n",
              "   'output_no': 13,\n",
              "   'script': 'OP_DUP OP_HASH160 144739367df0ff8d1c61d03704298d49cf93ef3f OP_EQUALVERIFY OP_CHECKSIG',\n",
              "   'type': 'pubkeyhash',\n",
              "   'value': '5.81201619'},\n",
              "  {'address': 'D6zKNnkupqRbkB9p5rwix8QiobQWJazjyX',\n",
              "   'output_no': 14,\n",
              "   'script': 'OP_DUP OP_HASH160 144739367df0ff8d1c61d03704298d49cf93ef3f OP_EQUALVERIFY OP_CHECKSIG',\n",
              "   'type': 'pubkeyhash',\n",
              "   'value': '5.81201619'},\n",
              "  {'address': 'D6zKNnkupqRbkB9p5rwix8QiobQWJazjyX',\n",
              "   'output_no': 15,\n",
              "   'script': 'OP_DUP OP_HASH160 144739367df0ff8d1c61d03704298d49cf93ef3f OP_EQUALVERIFY OP_CHECKSIG',\n",
              "   'type': 'pubkeyhash',\n",
              "   'value': '5.81201619'},\n",
              "  {'address': 'D6zKNnkupqRbkB9p5rwix8QiobQWJazjyX',\n",
              "   'output_no': 16,\n",
              "   'script': 'OP_DUP OP_HASH160 144739367df0ff8d1c61d03704298d49cf93ef3f OP_EQUALVERIFY OP_CHECKSIG',\n",
              "   'type': 'pubkeyhash',\n",
              "   'value': '5.81201619'},\n",
              "  {'address': 'D6zKNnkupqRbkB9p5rwix8QiobQWJazjyX',\n",
              "   'output_no': 17,\n",
              "   'script': 'OP_DUP OP_HASH160 144739367df0ff8d1c61d03704298d49cf93ef3f OP_EQUALVERIFY OP_CHECKSIG',\n",
              "   'type': 'pubkeyhash',\n",
              "   'value': '5.81201619'},\n",
              "  {'address': 'D6zKNnkupqRbkB9p5rwix8QiobQWJazjyX',\n",
              "   'output_no': 18,\n",
              "   'script': 'OP_DUP OP_HASH160 144739367df0ff8d1c61d03704298d49cf93ef3f OP_EQUALVERIFY OP_CHECKSIG',\n",
              "   'type': 'pubkeyhash',\n",
              "   'value': '5.81201619'},\n",
              "  {'address': 'D6zKNnkupqRbkB9p5rwix8QiobQWJazjyX',\n",
              "   'output_no': 19,\n",
              "   'script': 'OP_DUP OP_HASH160 144739367df0ff8d1c61d03704298d49cf93ef3f OP_EQUALVERIFY OP_CHECKSIG',\n",
              "   'type': 'pubkeyhash',\n",
              "   'value': '5.81201619'},\n",
              "  {'address': 'D6zKNnkupqRbkB9p5rwix8QiobQWJazjyX',\n",
              "   'output_no': 20,\n",
              "   'script': 'OP_DUP OP_HASH160 144739367df0ff8d1c61d03704298d49cf93ef3f OP_EQUALVERIFY OP_CHECKSIG',\n",
              "   'type': 'pubkeyhash',\n",
              "   'value': '5.81201619'},\n",
              "  {'address': 'D6zKNnkupqRbkB9p5rwix8QiobQWJazjyX',\n",
              "   'output_no': 21,\n",
              "   'script': 'OP_DUP OP_HASH160 144739367df0ff8d1c61d03704298d49cf93ef3f OP_EQUALVERIFY OP_CHECKSIG',\n",
              "   'type': 'pubkeyhash',\n",
              "   'value': '5.81201619'},\n",
              "  {'address': 'D6zKNnkupqRbkB9p5rwix8QiobQWJazjyX',\n",
              "   'output_no': 22,\n",
              "   'script': 'OP_DUP OP_HASH160 144739367df0ff8d1c61d03704298d49cf93ef3f OP_EQUALVERIFY OP_CHECKSIG',\n",
              "   'type': 'pubkeyhash',\n",
              "   'value': '5.81201619'},\n",
              "  {'address': 'D6zKNnkupqRbkB9p5rwix8QiobQWJazjyX',\n",
              "   'output_no': 23,\n",
              "   'script': 'OP_DUP OP_HASH160 144739367df0ff8d1c61d03704298d49cf93ef3f OP_EQUALVERIFY OP_CHECKSIG',\n",
              "   'type': 'pubkeyhash',\n",
              "   'value': '5.81201619'},\n",
              "  {'address': 'D6zKNnkupqRbkB9p5rwix8QiobQWJazjyX',\n",
              "   'output_no': 24,\n",
              "   'script': 'OP_DUP OP_HASH160 144739367df0ff8d1c61d03704298d49cf93ef3f OP_EQUALVERIFY OP_CHECKSIG',\n",
              "   'type': 'pubkeyhash',\n",
              "   'value': '5.81201619'},\n",
              "  {'address': 'D6zKNnkupqRbkB9p5rwix8QiobQWJazjyX',\n",
              "   'output_no': 25,\n",
              "   'script': 'OP_DUP OP_HASH160 144739367df0ff8d1c61d03704298d49cf93ef3f OP_EQUALVERIFY OP_CHECKSIG',\n",
              "   'type': 'pubkeyhash',\n",
              "   'value': '5.81201619'},\n",
              "  {'address': 'D6zKNnkupqRbkB9p5rwix8QiobQWJazjyX',\n",
              "   'output_no': 26,\n",
              "   'script': 'OP_DUP OP_HASH160 144739367df0ff8d1c61d03704298d49cf93ef3f OP_EQUALVERIFY OP_CHECKSIG',\n",
              "   'type': 'pubkeyhash',\n",
              "   'value': '5.81201619'},\n",
              "  {'address': 'D6zKNnkupqRbkB9p5rwix8QiobQWJazjyX',\n",
              "   'output_no': 27,\n",
              "   'script': 'OP_DUP OP_HASH160 144739367df0ff8d1c61d03704298d49cf93ef3f OP_EQUALVERIFY OP_CHECKSIG',\n",
              "   'type': 'pubkeyhash',\n",
              "   'value': '5.81201619'},\n",
              "  {'address': 'D6zKNnkupqRbkB9p5rwix8QiobQWJazjyX',\n",
              "   'output_no': 28,\n",
              "   'script': 'OP_DUP OP_HASH160 144739367df0ff8d1c61d03704298d49cf93ef3f OP_EQUALVERIFY OP_CHECKSIG',\n",
              "   'type': 'pubkeyhash',\n",
              "   'value': '5.81201619'},\n",
              "  {'address': 'D6zKNnkupqRbkB9p5rwix8QiobQWJazjyX',\n",
              "   'output_no': 29,\n",
              "   'script': 'OP_DUP OP_HASH160 144739367df0ff8d1c61d03704298d49cf93ef3f OP_EQUALVERIFY OP_CHECKSIG',\n",
              "   'type': 'pubkeyhash',\n",
              "   'value': '5.81201619'},\n",
              "  {'address': 'D6zKNnkupqRbkB9p5rwix8QiobQWJazjyX',\n",
              "   'output_no': 30,\n",
              "   'script': 'OP_DUP OP_HASH160 144739367df0ff8d1c61d03704298d49cf93ef3f OP_EQUALVERIFY OP_CHECKSIG',\n",
              "   'type': 'pubkeyhash',\n",
              "   'value': '5.81201619'},\n",
              "  {'address': 'D6zKNnkupqRbkB9p5rwix8QiobQWJazjyX',\n",
              "   'output_no': 31,\n",
              "   'script': 'OP_DUP OP_HASH160 144739367df0ff8d1c61d03704298d49cf93ef3f OP_EQUALVERIFY OP_CHECKSIG',\n",
              "   'type': 'pubkeyhash',\n",
              "   'value': '5.81201619'},\n",
              "  {'address': 'D6zKNnkupqRbkB9p5rwix8QiobQWJazjyX',\n",
              "   'output_no': 32,\n",
              "   'script': 'OP_DUP OP_HASH160 144739367df0ff8d1c61d03704298d49cf93ef3f OP_EQUALVERIFY OP_CHECKSIG',\n",
              "   'type': 'pubkeyhash',\n",
              "   'value': '5.81201619'},\n",
              "  {'address': 'D6zKNnkupqRbkB9p5rwix8QiobQWJazjyX',\n",
              "   'output_no': 33,\n",
              "   'script': 'OP_DUP OP_HASH160 144739367df0ff8d1c61d03704298d49cf93ef3f OP_EQUALVERIFY OP_CHECKSIG',\n",
              "   'type': 'pubkeyhash',\n",
              "   'value': '5.81201619'},\n",
              "  {'address': 'D6zKNnkupqRbkB9p5rwix8QiobQWJazjyX',\n",
              "   'output_no': 34,\n",
              "   'script': 'OP_DUP OP_HASH160 144739367df0ff8d1c61d03704298d49cf93ef3f OP_EQUALVERIFY OP_CHECKSIG',\n",
              "   'type': 'pubkeyhash',\n",
              "   'value': '5.81201619'},\n",
              "  {'address': 'D6zKNnkupqRbkB9p5rwix8QiobQWJazjyX',\n",
              "   'output_no': 35,\n",
              "   'script': 'OP_DUP OP_HASH160 144739367df0ff8d1c61d03704298d49cf93ef3f OP_EQUALVERIFY OP_CHECKSIG',\n",
              "   'type': 'pubkeyhash',\n",
              "   'value': '5.81201619'},\n",
              "  {'address': 'D6zKNnkupqRbkB9p5rwix8QiobQWJazjyX',\n",
              "   'output_no': 36,\n",
              "   'script': 'OP_DUP OP_HASH160 144739367df0ff8d1c61d03704298d49cf93ef3f OP_EQUALVERIFY OP_CHECKSIG',\n",
              "   'type': 'pubkeyhash',\n",
              "   'value': '5.81201619'},\n",
              "  {'address': 'D6zKNnkupqRbkB9p5rwix8QiobQWJazjyX',\n",
              "   'output_no': 37,\n",
              "   'script': 'OP_DUP OP_HASH160 144739367df0ff8d1c61d03704298d49cf93ef3f OP_EQUALVERIFY OP_CHECKSIG',\n",
              "   'type': 'pubkeyhash',\n",
              "   'value': '5.81201619'},\n",
              "  {'address': 'D6zKNnkupqRbkB9p5rwix8QiobQWJazjyX',\n",
              "   'output_no': 38,\n",
              "   'script': 'OP_DUP OP_HASH160 144739367df0ff8d1c61d03704298d49cf93ef3f OP_EQUALVERIFY OP_CHECKSIG',\n",
              "   'type': 'pubkeyhash',\n",
              "   'value': '5.81201619'},\n",
              "  {'address': 'D6zKNnkupqRbkB9p5rwix8QiobQWJazjyX',\n",
              "   'output_no': 39,\n",
              "   'script': 'OP_DUP OP_HASH160 144739367df0ff8d1c61d03704298d49cf93ef3f OP_EQUALVERIFY OP_CHECKSIG',\n",
              "   'type': 'pubkeyhash',\n",
              "   'value': '5.81201619'},\n",
              "  {'address': 'D6zKNnkupqRbkB9p5rwix8QiobQWJazjyX',\n",
              "   'output_no': 40,\n",
              "   'script': 'OP_DUP OP_HASH160 144739367df0ff8d1c61d03704298d49cf93ef3f OP_EQUALVERIFY OP_CHECKSIG',\n",
              "   'type': 'pubkeyhash',\n",
              "   'value': '5.81201619'},\n",
              "  {'address': 'D6zKNnkupqRbkB9p5rwix8QiobQWJazjyX',\n",
              "   'output_no': 41,\n",
              "   'script': 'OP_DUP OP_HASH160 144739367df0ff8d1c61d03704298d49cf93ef3f OP_EQUALVERIFY OP_CHECKSIG',\n",
              "   'type': 'pubkeyhash',\n",
              "   'value': '5.81201619'},\n",
              "  {'address': 'D6zKNnkupqRbkB9p5rwix8QiobQWJazjyX',\n",
              "   'output_no': 42,\n",
              "   'script': 'OP_DUP OP_HASH160 144739367df0ff8d1c61d03704298d49cf93ef3f OP_EQUALVERIFY OP_CHECKSIG',\n",
              "   'type': 'pubkeyhash',\n",
              "   'value': '5.81201619'},\n",
              "  {'address': 'D6zKNnkupqRbkB9p5rwix8QiobQWJazjyX',\n",
              "   'output_no': 43,\n",
              "   'script': 'OP_DUP OP_HASH160 144739367df0ff8d1c61d03704298d49cf93ef3f OP_EQUALVERIFY OP_CHECKSIG',\n",
              "   'type': 'pubkeyhash',\n",
              "   'value': '5.81201619'},\n",
              "  {'address': 'D6zKNnkupqRbkB9p5rwix8QiobQWJazjyX',\n",
              "   'output_no': 44,\n",
              "   'script': 'OP_DUP OP_HASH160 144739367df0ff8d1c61d03704298d49cf93ef3f OP_EQUALVERIFY OP_CHECKSIG',\n",
              "   'type': 'pubkeyhash',\n",
              "   'value': '5.81201619'},\n",
              "  {'address': 'D6zKNnkupqRbkB9p5rwix8QiobQWJazjyX',\n",
              "   'output_no': 45,\n",
              "   'script': 'OP_DUP OP_HASH160 144739367df0ff8d1c61d03704298d49cf93ef3f OP_EQUALVERIFY OP_CHECKSIG',\n",
              "   'type': 'pubkeyhash',\n",
              "   'value': '5.81201619'},\n",
              "  {'address': 'D6zKNnkupqRbkB9p5rwix8QiobQWJazjyX',\n",
              "   'output_no': 46,\n",
              "   'script': 'OP_DUP OP_HASH160 144739367df0ff8d1c61d03704298d49cf93ef3f OP_EQUALVERIFY OP_CHECKSIG',\n",
              "   'type': 'pubkeyhash',\n",
              "   'value': '5.81201619'},\n",
              "  {'address': 'D6zKNnkupqRbkB9p5rwix8QiobQWJazjyX',\n",
              "   'output_no': 47,\n",
              "   'script': 'OP_DUP OP_HASH160 144739367df0ff8d1c61d03704298d49cf93ef3f OP_EQUALVERIFY OP_CHECKSIG',\n",
              "   'type': 'pubkeyhash',\n",
              "   'value': '5.81201619'},\n",
              "  {'address': 'D6zKNnkupqRbkB9p5rwix8QiobQWJazjyX',\n",
              "   'output_no': 48,\n",
              "   'script': 'OP_DUP OP_HASH160 144739367df0ff8d1c61d03704298d49cf93ef3f OP_EQUALVERIFY OP_CHECKSIG',\n",
              "   'type': 'pubkeyhash',\n",
              "   'value': '5.81201619'},\n",
              "  {'address': 'D6zKNnkupqRbkB9p5rwix8QiobQWJazjyX',\n",
              "   'output_no': 49,\n",
              "   'script': 'OP_DUP OP_HASH160 144739367df0ff8d1c61d03704298d49cf93ef3f OP_EQUALVERIFY OP_CHECKSIG',\n",
              "   'type': 'pubkeyhash',\n",
              "   'value': '5.81201619'},\n",
              "  {'address': 'D6zKNnkupqRbkB9p5rwix8QiobQWJazjyX',\n",
              "   'output_no': 50,\n",
              "   'script': 'OP_DUP OP_HASH160 144739367df0ff8d1c61d03704298d49cf93ef3f OP_EQUALVERIFY OP_CHECKSIG',\n",
              "   'type': 'pubkeyhash',\n",
              "   'value': '5.81201619'},\n",
              "  {'address': 'D6zKNnkupqRbkB9p5rwix8QiobQWJazjyX',\n",
              "   'output_no': 51,\n",
              "   'script': 'OP_DUP OP_HASH160 144739367df0ff8d1c61d03704298d49cf93ef3f OP_EQUALVERIFY OP_CHECKSIG',\n",
              "   'type': 'pubkeyhash',\n",
              "   'value': '5.81201619'},\n",
              "  {'address': 'D6zKNnkupqRbkB9p5rwix8QiobQWJazjyX',\n",
              "   'output_no': 52,\n",
              "   'script': 'OP_DUP OP_HASH160 144739367df0ff8d1c61d03704298d49cf93ef3f OP_EQUALVERIFY OP_CHECKSIG',\n",
              "   'type': 'pubkeyhash',\n",
              "   'value': '5.81201619'},\n",
              "  {'address': 'D6zKNnkupqRbkB9p5rwix8QiobQWJazjyX',\n",
              "   'output_no': 53,\n",
              "   'script': 'OP_DUP OP_HASH160 144739367df0ff8d1c61d03704298d49cf93ef3f OP_EQUALVERIFY OP_CHECKSIG',\n",
              "   'type': 'pubkeyhash',\n",
              "   'value': '5.81201619'},\n",
              "  {'address': 'D6zKNnkupqRbkB9p5rwix8QiobQWJazjyX',\n",
              "   'output_no': 54,\n",
              "   'script': 'OP_DUP OP_HASH160 144739367df0ff8d1c61d03704298d49cf93ef3f OP_EQUALVERIFY OP_CHECKSIG',\n",
              "   'type': 'pubkeyhash',\n",
              "   'value': '5.81201619'},\n",
              "  {'address': 'D6zKNnkupqRbkB9p5rwix8QiobQWJazjyX',\n",
              "   'output_no': 55,\n",
              "   'script': 'OP_DUP OP_HASH160 144739367df0ff8d1c61d03704298d49cf93ef3f OP_EQUALVERIFY OP_CHECKSIG',\n",
              "   'type': 'pubkeyhash',\n",
              "   'value': '5.81201619'},\n",
              "  {'address': 'D6zKNnkupqRbkB9p5rwix8QiobQWJazjyX',\n",
              "   'output_no': 56,\n",
              "   'script': 'OP_DUP OP_HASH160 144739367df0ff8d1c61d03704298d49cf93ef3f OP_EQUALVERIFY OP_CHECKSIG',\n",
              "   'type': 'pubkeyhash',\n",
              "   'value': '5.81201619'},\n",
              "  {'address': 'D6zKNnkupqRbkB9p5rwix8QiobQWJazjyX',\n",
              "   'output_no': 57,\n",
              "   'script': 'OP_DUP OP_HASH160 144739367df0ff8d1c61d03704298d49cf93ef3f OP_EQUALVERIFY OP_CHECKSIG',\n",
              "   'type': 'pubkeyhash',\n",
              "   'value': '5.81201619'},\n",
              "  {'address': 'D6zKNnkupqRbkB9p5rwix8QiobQWJazjyX',\n",
              "   'output_no': 58,\n",
              "   'script': 'OP_DUP OP_HASH160 144739367df0ff8d1c61d03704298d49cf93ef3f OP_EQUALVERIFY OP_CHECKSIG',\n",
              "   'type': 'pubkeyhash',\n",
              "   'value': '5.81201619'},\n",
              "  {'address': 'D6zKNnkupqRbkB9p5rwix8QiobQWJazjyX',\n",
              "   'output_no': 59,\n",
              "   'script': 'OP_DUP OP_HASH160 144739367df0ff8d1c61d03704298d49cf93ef3f OP_EQUALVERIFY OP_CHECKSIG',\n",
              "   'type': 'pubkeyhash',\n",
              "   'value': '5.81201619'},\n",
              "  {'address': 'D6zKNnkupqRbkB9p5rwix8QiobQWJazjyX',\n",
              "   'output_no': 60,\n",
              "   'script': 'OP_DUP OP_HASH160 144739367df0ff8d1c61d03704298d49cf93ef3f OP_EQUALVERIFY OP_CHECKSIG',\n",
              "   'type': 'pubkeyhash',\n",
              "   'value': '5.81201619'},\n",
              "  {'address': 'D6zKNnkupqRbkB9p5rwix8QiobQWJazjyX',\n",
              "   'output_no': 61,\n",
              "   'script': 'OP_DUP OP_HASH160 144739367df0ff8d1c61d03704298d49cf93ef3f OP_EQUALVERIFY OP_CHECKSIG',\n",
              "   'type': 'pubkeyhash',\n",
              "   'value': '5.81201619'},\n",
              "  {'address': 'D6zKNnkupqRbkB9p5rwix8QiobQWJazjyX',\n",
              "   'output_no': 62,\n",
              "   'script': 'OP_DUP OP_HASH160 144739367df0ff8d1c61d03704298d49cf93ef3f OP_EQUALVERIFY OP_CHECKSIG',\n",
              "   'type': 'pubkeyhash',\n",
              "   'value': '5.81201619'},\n",
              "  {'address': 'D6zKNnkupqRbkB9p5rwix8QiobQWJazjyX',\n",
              "   'output_no': 63,\n",
              "   'script': 'OP_DUP OP_HASH160 144739367df0ff8d1c61d03704298d49cf93ef3f OP_EQUALVERIFY OP_CHECKSIG',\n",
              "   'type': 'pubkeyhash',\n",
              "   'value': '5.81201619'},\n",
              "  {'address': 'D6zKNnkupqRbkB9p5rwix8QiobQWJazjyX',\n",
              "   'output_no': 64,\n",
              "   'script': 'OP_DUP OP_HASH160 144739367df0ff8d1c61d03704298d49cf93ef3f OP_EQUALVERIFY OP_CHECKSIG',\n",
              "   'type': 'pubkeyhash',\n",
              "   'value': '5.81201619'},\n",
              "  {'address': 'D6zKNnkupqRbkB9p5rwix8QiobQWJazjyX',\n",
              "   'output_no': 65,\n",
              "   'script': 'OP_DUP OP_HASH160 144739367df0ff8d1c61d03704298d49cf93ef3f OP_EQUALVERIFY OP_CHECKSIG',\n",
              "   'type': 'pubkeyhash',\n",
              "   'value': '5.81201619'},\n",
              "  {'address': 'D6zKNnkupqRbkB9p5rwix8QiobQWJazjyX',\n",
              "   'output_no': 66,\n",
              "   'script': 'OP_DUP OP_HASH160 144739367df0ff8d1c61d03704298d49cf93ef3f OP_EQUALVERIFY OP_CHECKSIG',\n",
              "   'type': 'pubkeyhash',\n",
              "   'value': '5.81201619'},\n",
              "  {'address': 'D6zKNnkupqRbkB9p5rwix8QiobQWJazjyX',\n",
              "   'output_no': 67,\n",
              "   'script': 'OP_DUP OP_HASH160 144739367df0ff8d1c61d03704298d49cf93ef3f OP_EQUALVERIFY OP_CHECKSIG',\n",
              "   'type': 'pubkeyhash',\n",
              "   'value': '5.81201619'},\n",
              "  {'address': 'D6zKNnkupqRbkB9p5rwix8QiobQWJazjyX',\n",
              "   'output_no': 68,\n",
              "   'script': 'OP_DUP OP_HASH160 144739367df0ff8d1c61d03704298d49cf93ef3f OP_EQUALVERIFY OP_CHECKSIG',\n",
              "   'type': 'pubkeyhash',\n",
              "   'value': '5.81201619'},\n",
              "  {'address': 'D6zKNnkupqRbkB9p5rwix8QiobQWJazjyX',\n",
              "   'output_no': 69,\n",
              "   'script': 'OP_DUP OP_HASH160 144739367df0ff8d1c61d03704298d49cf93ef3f OP_EQUALVERIFY OP_CHECKSIG',\n",
              "   'type': 'pubkeyhash',\n",
              "   'value': '5.81201619'},\n",
              "  {'address': 'D6zKNnkupqRbkB9p5rwix8QiobQWJazjyX',\n",
              "   'output_no': 70,\n",
              "   'script': 'OP_DUP OP_HASH160 144739367df0ff8d1c61d03704298d49cf93ef3f OP_EQUALVERIFY OP_CHECKSIG',\n",
              "   'type': 'pubkeyhash',\n",
              "   'value': '5.81201619'},\n",
              "  {'address': 'D6zKNnkupqRbkB9p5rwix8QiobQWJazjyX',\n",
              "   'output_no': 71,\n",
              "   'script': 'OP_DUP OP_HASH160 144739367df0ff8d1c61d03704298d49cf93ef3f OP_EQUALVERIFY OP_CHECKSIG',\n",
              "   'type': 'pubkeyhash',\n",
              "   'value': '5.81201619'},\n",
              "  {'address': 'D6zKNnkupqRbkB9p5rwix8QiobQWJazjyX',\n",
              "   'output_no': 72,\n",
              "   'script': 'OP_DUP OP_HASH160 144739367df0ff8d1c61d03704298d49cf93ef3f OP_EQUALVERIFY OP_CHECKSIG',\n",
              "   'type': 'pubkeyhash',\n",
              "   'value': '5.81201619'},\n",
              "  {'address': 'D6zKNnkupqRbkB9p5rwix8QiobQWJazjyX',\n",
              "   'output_no': 73,\n",
              "   'script': 'OP_DUP OP_HASH160 144739367df0ff8d1c61d03704298d49cf93ef3f OP_EQUALVERIFY OP_CHECKSIG',\n",
              "   'type': 'pubkeyhash',\n",
              "   'value': '5.81201619'},\n",
              "  {'address': 'D6zKNnkupqRbkB9p5rwix8QiobQWJazjyX',\n",
              "   'output_no': 74,\n",
              "   'script': 'OP_DUP OP_HASH160 144739367df0ff8d1c61d03704298d49cf93ef3f OP_EQUALVERIFY OP_CHECKSIG',\n",
              "   'type': 'pubkeyhash',\n",
              "   'value': '5.81201619'},\n",
              "  {'address': 'D6zKNnkupqRbkB9p5rwix8QiobQWJazjyX',\n",
              "   'output_no': 75,\n",
              "   'script': 'OP_DUP OP_HASH160 144739367df0ff8d1c61d03704298d49cf93ef3f OP_EQUALVERIFY OP_CHECKSIG',\n",
              "   'type': 'pubkeyhash',\n",
              "   'value': '5.81201619'},\n",
              "  {'address': 'D6zKNnkupqRbkB9p5rwix8QiobQWJazjyX',\n",
              "   'output_no': 76,\n",
              "   'script': 'OP_DUP OP_HASH160 144739367df0ff8d1c61d03704298d49cf93ef3f OP_EQUALVERIFY OP_CHECKSIG',\n",
              "   'type': 'pubkeyhash',\n",
              "   'value': '5.81201619'},\n",
              "  {'address': 'D6zKNnkupqRbkB9p5rwix8QiobQWJazjyX',\n",
              "   'output_no': 77,\n",
              "   'script': 'OP_DUP OP_HASH160 144739367df0ff8d1c61d03704298d49cf93ef3f OP_EQUALVERIFY OP_CHECKSIG',\n",
              "   'type': 'pubkeyhash',\n",
              "   'value': '5.81201619'},\n",
              "  {'address': 'D6zKNnkupqRbkB9p5rwix8QiobQWJazjyX',\n",
              "   'output_no': 78,\n",
              "   'script': 'OP_DUP OP_HASH160 144739367df0ff8d1c61d03704298d49cf93ef3f OP_EQUALVERIFY OP_CHECKSIG',\n",
              "   'type': 'pubkeyhash',\n",
              "   'value': '5.81201619'},\n",
              "  {'address': 'D6zKNnkupqRbkB9p5rwix8QiobQWJazjyX',\n",
              "   'output_no': 79,\n",
              "   'script': 'OP_DUP OP_HASH160 144739367df0ff8d1c61d03704298d49cf93ef3f OP_EQUALVERIFY OP_CHECKSIG',\n",
              "   'type': 'pubkeyhash',\n",
              "   'value': '5.81201619'},\n",
              "  {'address': 'D6zKNnkupqRbkB9p5rwix8QiobQWJazjyX',\n",
              "   'output_no': 80,\n",
              "   'script': 'OP_DUP OP_HASH160 144739367df0ff8d1c61d03704298d49cf93ef3f OP_EQUALVERIFY OP_CHECKSIG',\n",
              "   'type': 'pubkeyhash',\n",
              "   'value': '5.81201619'},\n",
              "  {'address': 'D6zKNnkupqRbkB9p5rwix8QiobQWJazjyX',\n",
              "   'output_no': 81,\n",
              "   'script': 'OP_DUP OP_HASH160 144739367df0ff8d1c61d03704298d49cf93ef3f OP_EQUALVERIFY OP_CHECKSIG',\n",
              "   'type': 'pubkeyhash',\n",
              "   'value': '5.81201619'},\n",
              "  {'address': 'D6zKNnkupqRbkB9p5rwix8QiobQWJazjyX',\n",
              "   'output_no': 82,\n",
              "   'script': 'OP_DUP OP_HASH160 144739367df0ff8d1c61d03704298d49cf93ef3f OP_EQUALVERIFY OP_CHECKSIG',\n",
              "   'type': 'pubkeyhash',\n",
              "   'value': '5.81201619'},\n",
              "  {'address': 'D6zKNnkupqRbkB9p5rwix8QiobQWJazjyX',\n",
              "   'output_no': 83,\n",
              "   'script': 'OP_DUP OP_HASH160 144739367df0ff8d1c61d03704298d49cf93ef3f OP_EQUALVERIFY OP_CHECKSIG',\n",
              "   'type': 'pubkeyhash',\n",
              "   'value': '5.81201619'},\n",
              "  {'address': 'D6zKNnkupqRbkB9p5rwix8QiobQWJazjyX',\n",
              "   'output_no': 84,\n",
              "   'script': 'OP_DUP OP_HASH160 144739367df0ff8d1c61d03704298d49cf93ef3f OP_EQUALVERIFY OP_CHECKSIG',\n",
              "   'type': 'pubkeyhash',\n",
              "   'value': '5.81201619'},\n",
              "  {'address': 'D6zKNnkupqRbkB9p5rwix8QiobQWJazjyX',\n",
              "   'output_no': 85,\n",
              "   'script': 'OP_DUP OP_HASH160 144739367df0ff8d1c61d03704298d49cf93ef3f OP_EQUALVERIFY OP_CHECKSIG',\n",
              "   'type': 'pubkeyhash',\n",
              "   'value': '5.81201619'},\n",
              "  {'address': 'D6zKNnkupqRbkB9p5rwix8QiobQWJazjyX',\n",
              "   'output_no': 86,\n",
              "   'script': 'OP_DUP OP_HASH160 144739367df0ff8d1c61d03704298d49cf93ef3f OP_EQUALVERIFY OP_CHECKSIG',\n",
              "   'type': 'pubkeyhash',\n",
              "   'value': '5.81201619'},\n",
              "  {'address': 'D6zKNnkupqRbkB9p5rwix8QiobQWJazjyX',\n",
              "   'output_no': 87,\n",
              "   'script': 'OP_DUP OP_HASH160 144739367df0ff8d1c61d03704298d49cf93ef3f OP_EQUALVERIFY OP_CHECKSIG',\n",
              "   'type': 'pubkeyhash',\n",
              "   'value': '5.81201619'},\n",
              "  {'address': 'D6zKNnkupqRbkB9p5rwix8QiobQWJazjyX',\n",
              "   'output_no': 88,\n",
              "   'script': 'OP_DUP OP_HASH160 144739367df0ff8d1c61d03704298d49cf93ef3f OP_EQUALVERIFY OP_CHECKSIG',\n",
              "   'type': 'pubkeyhash',\n",
              "   'value': '5.81201619'},\n",
              "  {'address': 'D6zKNnkupqRbkB9p5rwix8QiobQWJazjyX',\n",
              "   'output_no': 89,\n",
              "   'script': 'OP_DUP OP_HASH160 144739367df0ff8d1c61d03704298d49cf93ef3f OP_EQUALVERIFY OP_CHECKSIG',\n",
              "   'type': 'pubkeyhash',\n",
              "   'value': '5.81201619'},\n",
              "  {'address': 'D6zKNnkupqRbkB9p5rwix8QiobQWJazjyX',\n",
              "   'output_no': 90,\n",
              "   'script': 'OP_DUP OP_HASH160 144739367df0ff8d1c61d03704298d49cf93ef3f OP_EQUALVERIFY OP_CHECKSIG',\n",
              "   'type': 'pubkeyhash',\n",
              "   'value': '5.81201619'},\n",
              "  {'address': 'D6zKNnkupqRbkB9p5rwix8QiobQWJazjyX',\n",
              "   'output_no': 91,\n",
              "   'script': 'OP_DUP OP_HASH160 144739367df0ff8d1c61d03704298d49cf93ef3f OP_EQUALVERIFY OP_CHECKSIG',\n",
              "   'type': 'pubkeyhash',\n",
              "   'value': '5.81201619'},\n",
              "  {'address': 'D6zKNnkupqRbkB9p5rwix8QiobQWJazjyX',\n",
              "   'output_no': 92,\n",
              "   'script': 'OP_DUP OP_HASH160 144739367df0ff8d1c61d03704298d49cf93ef3f OP_EQUALVERIFY OP_CHECKSIG',\n",
              "   'type': 'pubkeyhash',\n",
              "   'value': '5.81201619'},\n",
              "  {'address': 'D6zKNnkupqRbkB9p5rwix8QiobQWJazjyX',\n",
              "   'output_no': 93,\n",
              "   'script': 'OP_DUP OP_HASH160 144739367df0ff8d1c61d03704298d49cf93ef3f OP_EQUALVERIFY OP_CHECKSIG',\n",
              "   'type': 'pubkeyhash',\n",
              "   'value': '5.81201619'},\n",
              "  {'address': 'D6zKNnkupqRbkB9p5rwix8QiobQWJazjyX',\n",
              "   'output_no': 94,\n",
              "   'script': 'OP_DUP OP_HASH160 144739367df0ff8d1c61d03704298d49cf93ef3f OP_EQUALVERIFY OP_CHECKSIG',\n",
              "   'type': 'pubkeyhash',\n",
              "   'value': '5.81201619'},\n",
              "  {'address': 'D6zKNnkupqRbkB9p5rwix8QiobQWJazjyX',\n",
              "   'output_no': 95,\n",
              "   'script': 'OP_DUP OP_HASH160 144739367df0ff8d1c61d03704298d49cf93ef3f OP_EQUALVERIFY OP_CHECKSIG',\n",
              "   'type': 'pubkeyhash',\n",
              "   'value': '5.81201619'},\n",
              "  {'address': 'D6zKNnkupqRbkB9p5rwix8QiobQWJazjyX',\n",
              "   'output_no': 96,\n",
              "   'script': 'OP_DUP OP_HASH160 144739367df0ff8d1c61d03704298d49cf93ef3f OP_EQUALVERIFY OP_CHECKSIG',\n",
              "   'type': 'pubkeyhash',\n",
              "   'value': '5.81201619'}],\n",
              " 'size': 9415,\n",
              " 'time': 1652540740,\n",
              " 'tx_hex': '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',\n",
              " 'txid': 'a01e8625d653f4a8686b5b9e20ca653e59ebcd8bf2ca2a7b8370fdc52417f7b9',\n",
              " 'version': 1,\n",
              " 'vsize': 9415}"
            ]
          },
          "metadata": {},
          "execution_count": 18
        }
      ]
    },
    {
      "cell_type": "code",
      "source": [
        "import requests\n",
        "bea_txn='a01e8625d653f4a8686b5b9e20ca653e59ebcd8bf2ca2a7b8370fdc52417f7b9'\n",
        "\n",
        "r = requests.get(f'https://sochain.com/api/v2/tx/DOGE/{bea_txn}')\n",
        "r.status_code"
      ],
      "metadata": {
        "id": "ROgwLXl56FtY",
        "outputId": "77adf716-5b28-4ac2-9306-598767ea1b14",
        "colab": {
          "base_uri": "https://localhost:8080/"
        }
      },
      "execution_count": null,
      "outputs": [
        {
          "output_type": "execute_result",
          "data": {
            "text/plain": [
              "200"
            ]
          },
          "metadata": {},
          "execution_count": 8
        }
      ]
    },
    {
      "cell_type": "code",
      "source": [
        "type(r.text)"
      ],
      "metadata": {
        "id": "s4zg138s9MLV",
        "outputId": "3b8923a3-7113-4adf-e0cf-d572b59ab922",
        "colab": {
          "base_uri": "https://localhost:8080/"
        }
      },
      "execution_count": null,
      "outputs": [
        {
          "output_type": "execute_result",
          "data": {
            "text/plain": [
              "str"
            ]
          },
          "metadata": {},
          "execution_count": 9
        }
      ]
    },
    {
      "cell_type": "code",
      "source": [
        "def get_output_spend_txns(txn_ident):\n",
        "  import requests\n",
        "  import json\n",
        "  r = requests.get(f'https://sochain.com/api/v2/tx/DOGE/{txn_ident}')\n",
        "  return [out['spent']['txid'] for out in json.loads(r.text)['data']['outputs']]"
      ],
      "metadata": {
        "id": "ddrcwI2t65tQ"
      },
      "execution_count": 119,
      "outputs": []
    },
    {
      "cell_type": "code",
      "source": [
        "#get_output_spend_txns('a01e8625d653f4a8686b5b9e20ca653e59ebcd8bf2ca2a7b8370fdc52417f7b9')"
      ],
      "metadata": {
        "id": "lnfAvfeCwNK4"
      },
      "execution_count": 120,
      "outputs": []
    },
    {
      "cell_type": "code",
      "source": [
        "def get_op_return(txn_ident):\n",
        "  import requests\n",
        "  import json\n",
        "  \n",
        "  r = requests.get(f'https://sochain.com/api/v2/tx/DOGE/{txn_ident}')\n",
        "  outs=json.loads(r.text)['data']['outputs']\n",
        "  asm=outs[-1]['script_asm']\n",
        "  return (asm[10:] if 'OP_RETURN' in asm else None),outs[0]['spent']['txid'] if outs[0]['spent'] else None #( outs[0]['spent']['txid'] if 'spent'in list(outs[0].keys()) else None)"
      ],
      "metadata": {
        "id": "pPogkAmVdXzM"
      },
      "execution_count": null,
      "outputs": []
    },
    {
      "cell_type": "code",
      "source": [
        "get_op_return('90c01813156e594c4dbe8bd39436597c68ffaaa201c458f9c1ccae3e86d2c33f')"
      ],
      "metadata": {
        "colab": {
          "base_uri": "https://localhost:8080/"
        },
        "id": "vTUY87UOfT7S",
        "outputId": "6407361f-0ef4-46e2-eb1c-7376d17c58e0"
      },
      "execution_count": null,
      "outputs": [
        {
          "output_type": "execute_result",
          "data": {
            "text/plain": [
              "('c1dd000103ff010040004005506574657220426561', None)"
            ]
          },
          "metadata": {},
          "execution_count": 15
        }
      ]
    },
    {
      "cell_type": "markdown",
      "source": [
        ""
      ],
      "metadata": {
        "id": "5Wm1OUeSweR-"
      }
    },
    {
      "cell_type": "code",
      "source": [
        "get_op_return('a01e8625d653f4a8686b5b9e20ca653e59ebcd8bf2ca2a7b8370fdc52417f7b9')"
      ],
      "metadata": {
        "colab": {
          "base_uri": "https://localhost:8080/"
        },
        "id": "w7Fx7ltqf3Cy",
        "outputId": "3665405a-435a-4e3e-cb52-2924a97c1c2b"
      },
      "execution_count": null,
      "outputs": [
        {
          "output_type": "execute_result",
          "data": {
            "text/plain": [
              "(None, '90c01813156e594c4dbe8bd39436597c68ffaaa201c458f9c1ccae3e86d2c33f')"
            ]
          },
          "metadata": {},
          "execution_count": 16
        }
      ]
    },
    {
      "cell_type": "code",
      "source": [
        "get_op_return('a01e8625d653f4a8686b5b9e20ca653e59ebcd8bf2ca2a7b8370fdc52417f7b9')"
      ],
      "metadata": {
        "colab": {
          "base_uri": "https://localhost:8080/"
        },
        "id": "Ocfp76dwpgRT",
        "outputId": "4ccae2e7-15b4-4b59-800d-47ea351118c2"
      },
      "execution_count": null,
      "outputs": [
        {
          "output_type": "execute_result",
          "data": {
            "text/plain": [
              "(None, '90c01813156e594c4dbe8bd39436597c68ffaaa201c458f9c1ccae3e86d2c33f')"
            ]
          },
          "metadata": {},
          "execution_count": 17
        }
      ]
    },
    {
      "cell_type": "code",
      "source": [
        "#get_output_spend_txns(bea_txn)"
      ],
      "metadata": {
        "id": "ebEQluSgZIld"
      },
      "execution_count": 121,
      "outputs": []
    },
    {
      "cell_type": "code",
      "source": [
        "get_output_spend_txns('a01e8625d653f4a8686b5b9e20ca653e59ebcd8bf2ca2a7b8370fdc52417f7b9')"
      ],
      "metadata": {
        "id": "pl6bocdV94uF",
        "outputId": "00facfc1-f6ab-4b09-c3e3-c6b0ccb3f0dd",
        "colab": {
          "base_uri": "https://localhost:8080/"
        }
      },
      "execution_count": null,
      "outputs": [
        {
          "output_type": "execute_result",
          "data": {
            "text/plain": [
              "['90c01813156e594c4dbe8bd39436597c68ffaaa201c458f9c1ccae3e86d2c33f',\n",
              " 'cf0f325d00cc33cedde905f1132855c569ae573f3aa1493c837652aeebee18bc',\n",
              " 'c682f3de33dd6e882d6cbf499d28d6ebd87fecd2fad7108065fa5390d7a00458',\n",
              " '7f9b29b2044836633e01d4d47f503f53633433eaa4916e816ac7e59bc3adc60f',\n",
              " '2ae27a0deaa2d5d9552cddca69d230f3805d96a33d9f7b23441545fea3449b15',\n",
              " '7d2b514eec23fd6e5fe54b9ff6ef960e497006bb67e9d9346dc17afa773441e0',\n",
              " 'e37652ffd099b7228e54c6c5c1409ae005c18f4d8b4ba84e006311c056a311f2',\n",
              " '0238f55d0b9f7072fbb8d7c55c75624cc61c3b9bf3a49710ddc5c1b8ee370d59',\n",
              " '40a1252151a21a47834a1e34f467ccdcf9eae17aba7a12334e02d1aae4193e4a',\n",
              " 'fc77eabae6b98782fe9e53a4d1682d8a5da798aec4c77992b947913e03c3f314',\n",
              " '0f888cafb1a66e00cb7a9186a2b0ec88424d1ca17c84f9087d45d8dae80ebcea',\n",
              " 'c8b41a54da2a57288d14e31fb380dc74e5866b4341e5c279a4e1c596c3aa2ea0',\n",
              " 'd1265f7ae5cf0cde3bb1450ea5623f17cf5c86ad5064f64925421645e54c95e8',\n",
              " 'c60866a55c283d3cbb4ffe09dd678a7fe2e48c8304e8472a41889ffbbc7eb277',\n",
              " '5f746e2bf3f21b192430938e340ae3ae90c53bd1171a302207c487d8f8477adb',\n",
              " '9f1ff70299b078ee5f379c0d06a07315c4410d421977507726fc8213ac9c2bf9',\n",
              " 'c89ff8f7072d68ba8e247fe82c50c4b82b1bf3213dfb42562d19f9f1da271424',\n",
              " '4bf826fefdfef41cdfedaf4751bf061dd176e8bbd0fe95fb631dfa9016c014b1',\n",
              " '66c955eb95380d15aea91a62af4db992fc771f3141795ae538881c6b82843db8',\n",
              " 'ddf7931c3496951277e0649e8b41cffb128bb3173cc97cd304ec52a8afcb6ca9',\n",
              " '180266599f7e86a7a5145d41e38d91f17062a627c4d7ec57b9de9c4ac57f7b30',\n",
              " '0b2553583268d2fe005ccbb7749f5bee9b7d06e0ccc90a3ae3c242c7f4de2b4a',\n",
              " 'c6b60a5cc92f39856378232a8fd684b43ad2cecdfa843976d70d44dd8c1a6daf',\n",
              " '262fd6e7c5baa3709490491e1788b076683333cc81b72f0a756ea9dbc248914c',\n",
              " 'bcb3cc090a3aecbd62f840e236d4ff057011c4425baef15ae8980e6142fc2a44',\n",
              " '10bd23d4102714d59f2b49370b895ee29927f596438612a3ee233078a2cd1ea6',\n",
              " '9f78e3b51675f12af2c543b0b64e8127efe3c1fa84c914f438bb1bb912775bba',\n",
              " 'd9a70d4bc60da66f2274a1055135318fc1aa30424e0a859da08ca0e0a0718b8a',\n",
              " 'a08031856af787fad11190821048790d8b58ac399564d90a54e250990d3a49bb',\n",
              " '03400a6574c16e9921c0f663356f9cf9cbd3143ec14c33a0c08e55dcada35e72',\n",
              " '9487370ec1a5b1c70f90934751853ba617154d8b05df7b99a14a05ae3b268041',\n",
              " '222a41643de2a8a4e16953ccd80b4d641968a7fa31d528f0a60cd0dc807e5106',\n",
              " 'c071ee86a369002e05f8c3045797d7b122f7544c4a6b797e0fa743912e216c7a',\n",
              " '309ea930f13173083f4d18371302911328a3e6f3008e9520d9227e6bab7b4fe4',\n",
              " 'b7dc71ea27c14f658447fecd0323713733ede6690d27bb6589d9222dd039e975',\n",
              " '90cc928faf256e36942b83a27338c8ef6e26ea33e6d3836d07d67d3c2a702b75',\n",
              " '437567570aa719f03cb60376b6fe0244ecf5df8702e33f0f6557f411dea6354d',\n",
              " '0aabb58fd889a5a1c8d40d2a7e1a580eec7bf10af447a455168aca04cd9e1573',\n",
              " 'af8e8c63f9a7c87e99810e5158f6838bf70d44bad1f2854b8c90187b88bac35b',\n",
              " '9ffc0dbeb9d28864727472778bfc064358b6535661c37612ef155fe75c1cd190',\n",
              " 'ad47d7ce7f0fd6c9b31f477525ea7cd3c263e83e7823137964113b86999dcf3f',\n",
              " '7767c489efb2b168c60f55b2675ae389659390b5e4fb8ab81182fd42f596bb53',\n",
              " 'b4f4f10e1d5273db2dad770ae0365409b600fe7e383c11add2bd41f4b3813d9a',\n",
              " '3687ac2c4627b7ab8346b18d4dc451666e92e84b7586bbe49935a5ae28c4575a',\n",
              " 'd3a2e785c19670e6fb8bee680113c25d5ddc60c22961d81b8b9518def944fdae',\n",
              " '383528ee4350b341f8da29f4b77aee95ac736fea254b9eada70a281da2ed9fb7',\n",
              " 'a370003aaeca0c34e2dd8fec9b75691f2936c6edcf4454cc6afbcf8dac05c320',\n",
              " 'abe82abdc08f9f15bc960ab4bbc06633aa264d9cf820ca98c5008e53c7fda6bc',\n",
              " '12535e35946edada7230251e7f02907dd9249215eecedfdd3b5f80ca5db4681e',\n",
              " '081540527d59df80ab658ea41c6da6a4227fc4b69543e1f7883a0cb1e31e31da',\n",
              " '6664b2eb9d5815b3b9842df6c85cd0547ec623f636e7208eac9c084093484972',\n",
              " 'ad0d49ad271254a000bec48f2189e8378ced4de80af8468d625be01a964cf178',\n",
              " 'bf18a6d8568c9ac646751ac003cad0bc93b7df985a27867b9466a6a118749700',\n",
              " '68d3bfb1dddd9fc3fbae65a804a44a0e5e702d19171636906284141f80d247a9',\n",
              " '7af59d776c6608e88cbe97edd972a474caf8bbc245f5e050bc933815edd31dd7',\n",
              " 'e0c2cec1c6bfb05ac2456c90349388b972d274346f927f2ef8e0d3ff58a30795',\n",
              " 'b0af23b60e6a74ae58fe037e46203faaae0ac86dc0f391094376ef86409cc056',\n",
              " '39d400543327c556a68c052bfcbc88057b9c69ca920e15c02d65cea92268d3e1',\n",
              " '92e1f7cecd860214e29ed4812587adb229c9a01223f979ba251574de40ebefea',\n",
              " '02692a84b320424672717ceb5fecc3810f40c1b2cc08a72942453c1e7e0f33a9',\n",
              " 'a08027c1dc768c42a05656758acb754a96807aacb55e1543f59bee0716f5a7e7',\n",
              " 'dcb7b63d5674b6348d7dbd09b7dead726869eac3abda28af662df8a2c1c7201d',\n",
              " 'b9cc27fe275432a2bc5271a110717b80f7c38eb98488ba7c5badc81aca8c9ce2',\n",
              " 'eb4f18ef7fb289fa6308f81c9ce7ffc2e67a465c9bd4b341a0031eba0f91c969',\n",
              " 'aea03646805aab297381a91cc932944ee8c5acd94a478a8aec6e12145f187a25',\n",
              " '626395187fd315223dee06b32b4665b7a60b29b44327666999833a61634a91a4',\n",
              " 'c9adcfbeab9a6dad91e9a829e40136afee93e68cd8084b74647f4d05c455a0b6',\n",
              " '889cb63f36b5570eb5e7923953b593766879901334e61b25e8d9c2fdebd719e3',\n",
              " 'f20cffc21bbca27cb199f8af2d8818da18cb0ffcead6e24c2d49cffb5edcc87e',\n",
              " 'c4979860c533118bcabe815ef6c59e36c7904619fdbb3fbabdeeea332778a38e',\n",
              " 'abc0380548a183da56a3a9a1d68a62c43b495850207814c3960cdd94db1988c0',\n",
              " '7295fd0f0077113e380eb11dbc396a7e90a13784938e5b5fb357eef233d045c3',\n",
              " 'b4b2f97aea774a8f36ee529b34f2b7120aa796ea94b1be504e41cfe6072535ad',\n",
              " '0ef29b72d74744793c3ba12ee25722369c9295547ae6cd449309d97996119dd4',\n",
              " 'd31e438f44adca12f0810f57e5985f97ab8ad7d92c4030519c90388eeb58dc75',\n",
              " '0519da18d8c5b8a34d1db9cf5026a724d82405f70dcf8e188aa2097db41bc758',\n",
              " '75276ac84d81f8860245f33d30128b4778370400b8523266b7c7df14622674fb',\n",
              " 'cb53631d1887c7dc1ace696af823ab3c40e397307b07e395b6c0932fa7fc4a40',\n",
              " '3ec57790a913cbcfe0fd0c755179f1b955a1824fff04102f84b166ea99ced159',\n",
              " '0c6e2b90d493b7ba92edfdeee49844dd5554ebba4b2a45bf88798587b1eff520',\n",
              " '9a4189cfaeeab32c7360bd3593b0183c9d146e10495d836efd42edc92fd7fb90',\n",
              " '9f7a12875ba05495c0fcf4bd708f5cd993d6fda7bb9841cc22a397372d179c8b',\n",
              " '744c6bc87e4868e00f0d6e3fe8246fccafb1f28e19da44210f995593455a2bd8',\n",
              " '66e30736ce21c22e26fc1c3801887a7aec15f7a299e73dc9ea665b9496796eec',\n",
              " '4fc22683a724233157c17bd8efcb21af531d5b7041d79f1ce3dedb53135cb24a',\n",
              " '46a44c5954995664a7880aa4fd407617171d42fa48281676c8e08040d61ee2de',\n",
              " 'e8aa6877639e2ad2dcd48beaf4eb40948a8066de07a9b646c81864594e746dc5',\n",
              " '1bcb9dfd5c910284f10cd1d153ad6cb74cd2602399bf238cdb358a867c6c042a',\n",
              " '79f40bb83121120e949e6b7a79bc95ddcd43a31881a262aa1227e0e53adfcc45',\n",
              " '49bb82e6976c0bbc2309581d647a5e94beef3d2620a90d2f492d0f8a469c7cfe',\n",
              " '0e2f7c1df82b6cda5996085819a9a73b7555d115d85f4edc5623678809e6b6cb',\n",
              " 'ba8b77d77d812f0e4e1ba0fe722d89daa3e596923e031d2b7baf1124f0532099',\n",
              " '375a55faf217c90327849c973c07ad9d00f3ad7ca6b5285ac7b80c4b6583bb14',\n",
              " '91dd52cab0b3ea190fe58b67559b066d4f02808960e053dea5111e252d3fe902',\n",
              " 'ae981cae8df2f29ce95654a61484341070947e1d4adf2a91a21765559a6cd20c',\n",
              " '67a83f6b33cb8492a750ee0bc9ab9c9c26fb048a15261c939a8a1f748cfc0af9',\n",
              " '499ea653841751ff89eb02d049b20a08ee75b112d345c72e495afa6dcd86130d']"
            ]
          },
          "metadata": {},
          "execution_count": 19
        }
      ]
    },
    {
      "cell_type": "code",
      "source": [
        "get_op_return('c1542c10399a09a5471799133c472a6652d5cb3b7b421e1a7e80e2039f5b393b')"
      ],
      "metadata": {
        "colab": {
          "base_uri": "https://localhost:8080/"
        },
        "id": "zHvAFXZ6pqZt",
        "outputId": "e99502dd-9779-4b08-8175-462b42fc2e68"
      },
      "execution_count": null,
      "outputs": [
        {
          "output_type": "execute_result",
          "data": {
            "text/plain": [
              "(None, '53ae86951b38d91cc01a90e7cf9e7089ffff0a4b81a46fcd02a104d696247cb2')"
            ]
          },
          "metadata": {},
          "execution_count": 20
        }
      ]
    },
    {
      "cell_type": "code",
      "source": [
        "def get_op_returns(tx_head,prefix=''):\n",
        "  op_ret,next_txn=get_op_return(tx_head)\n",
        "  if (op_ret and next_txn):\n",
        "    return get_op_returns(next_txn,prefix+op_ret)\n",
        "  if op_ret==None:\n",
        "    return prefix\n",
        "  else:\n",
        "    return prefix+op_ret"
      ],
      "metadata": {
        "id": "Nxrtw5KZqOP7"
      },
      "execution_count": null,
      "outputs": []
    },
    {
      "cell_type": "code",
      "source": [
        "print(bytes.fromhex(get_op_returns('6de5b84940f73653196800c747f3a6f86752e4dcc5ccbb3fbc81fcb2d20e1672')).decode('latin'))"
      ],
      "metadata": {
        "id": "4WJIxtxhn8Ej",
        "outputId": "3ec79079-92a8-42d2-8557-4370448ed17f",
        "colab": {
          "base_uri": "https://localhost:8080/"
        }
      },
      "execution_count": null,
      "outputs": [
        {
          "output_type": "stream",
          "name": "stdout",
          "text": [
            "Ý\u0002\u0000\rBlue Monday\n",
            "\n",
            "How does it feel\n",
            "When you treat me like you do\n",
            "And you've laid Ý\u0002\u0001\ryour hands upon me\n",
            "And told me who you are?\n",
            "I thought I was mistaken\n",
            "And I tÝ\u0002\u0002\rhought I heard your words\n",
            "Tell me, how do I feel?\n",
            "Tell me now, how do I feelÝ\u0002\u0003\r?\n",
            "Those who came before me\n",
            "Lived through their vocations\n",
            "From the past untilÝ\u0002\u0004\r completion\n",
            "They will turn away no more\n",
            "And I still find it so hard\n",
            "To say wÝ\u0002\u0005\rhat I need to say\n",
            "But I'm quite sure that you'll tell me\n",
            "Just how I should fÝ\u0002\u0006\reel today\n",
            "I see a ship in the harbor\n",
            "I can and shall obey\n",
            "But if it wasn't fÝ\u0002\u0007\ror your misfortunes\n",
            "I'd be a heavenly person today\n",
            "And I thought I was mistaÝ\u0002\b\rken\n",
            "And I thought I heard you speak\n",
            "Tell me how do I feel?\n",
            "Tell me now, how Ý\u0002\t\rshould I feel?\n",
            "Now I stand here waiting\n",
            "I thought I told you to leave me\n",
            "WhiÝ\u0002\n",
            "\rle I walked down to the beach\n",
            "Tell me, how does it feel\n",
            "When your heart growÝ\u0002\u000b\rs cold?\n",
            "How does it feel?\n",
            "How does it feel?\n",
            "How does it feel?\n",
            "And I thought Ý\u0002\f\rI told you to leave me\n",
            "While I walked down to the beach\n",
            "Tell me, how does itÝ\u0002\r\r feel\n",
            "When your heart grows cold\n"
          ]
        }
      ]
    },
    {
      "cell_type": "code",
      "source": [
        "get_op_returns('90c01813156e594c4dbe8bd39436597c68ffaaa201c458f9c1ccae3e86d2c33f')"
      ],
      "metadata": {
        "colab": {
          "base_uri": "https://localhost:8080/",
          "height": 35
        },
        "id": "V_kCgEn-s3X5",
        "outputId": "0d3f9d74-c32d-4c73-d1a5-373acceee844"
      },
      "execution_count": null,
      "outputs": [
        {
          "output_type": "execute_result",
          "data": {
            "text/plain": [
              "'c1dd000103ff010040004005506574657220426561'"
            ],
            "application/vnd.google.colaboratory.intrinsic+json": {
              "type": "string"
            }
          },
          "metadata": {},
          "execution_count": 22
        }
      ]
    },
    {
      "cell_type": "code",
      "source": [
        "full_op=get_op_returns('74de5e9bf0c292287e08c201d26676e26a5c2f21ddb639e9268af6d52d0e0c1c')"
      ],
      "metadata": {
        "id": "jOgm1piHtHRo"
      },
      "execution_count": null,
      "outputs": []
    },
    {
      "cell_type": "code",
      "source": [
        "A= [get_op_returns(trans) for trans in get_output_spend_txns('a01e8625d653f4a8686b5b9e20ca653e59ebcd8bf2ca2a7b8370fdc52417f7b9')]"
      ],
      "metadata": {
        "id": "0gp-DfclLdR1"
      },
      "execution_count": null,
      "outputs": []
    },
    {
      "cell_type": "code",
      "source": [
        "A"
      ],
      "metadata": {
        "id": "8SsqXIuhMGRD",
        "outputId": "d4c2fe02-3210-4594-e039-6e35e5de0444",
        "colab": {
          "base_uri": "https://localhost:8080/"
        }
      },
      "execution_count": null,
      "outputs": [
        {
          "output_type": "execute_result",
          "data": {
            "text/plain": [
              "['c1dd000103ff010040004005506574657220426561',\n",
              " '841f28c230841ee7b9ce6b5cd639ad7b5af739ee73dce83df184230846108c6318c65294a529ce739d273a5294a52b4a56b5b56d6adad5b5eb6bdad7b5af5b5eb6bd6d7adaf5b5ed6c5af8e73bdef79d',\n",
              " 'ef39ddf39ef7b18cd6d79d2b39d2b5b529594a7294a319423184630846108421083e0f7c1ef841ef8c1ef739ed6bdcd735ad631ac639ac735af735ee73dce83df07be0f7c6108c2118c6318ca529ce73',\n",
              " '9ce739ce749ce94a5694adad7ad6d4adab5b56b6adaf6b5f18cdaf8adaf5ade95b5f19f7bdef7b7ce6b7be77bdef6d7c4e95a52b6b5e94aca5394a518c65295ad794a708421083df07be0f7c20f841ef',\n",
              " '7358e6b1cd6bdad7358d631ac5b58c7358e6b5ee73dce7b9d07be0f7c1f084211842318ca5294a5294a529ca539ce75ad6f7c5ad7ad6d4a5694ad295a52b4ad73ad6f9cceb55b5eb5b6f9cffffffffde',\n",
              " 'ff7bdf7bddefad6bce95c6739d6b18cd6b694a76b5bbdef39cc6335ad61083def7bdf07c20f7bdef7358e6b1cd639ac6b18d62d8b5b58c6b18e631cd6bdce7b9cf73a0f7c1ef83df1842528ca5194a52',\n",
              " '94a52956b5ad6d294eb5b6339c6313a5274a5294a5293a5294adaf7bdf1ad6fbdeffffffffffffdef77bdffffbdf294ad295df39ef7bdef739cdef7defb9ce7bdeef7b9ce6108bdef7bdef7bdef7bdef',\n",
              " '7316e631cd6398c6b16c5ad8b5b16b6b16d631ac639ad739cf739ee73def83df18c6318c6318c6318c6318d6b5def79ce695ad294bdef6bde94ace74a52b5b5b5ad6b5be739ffffffffbdef7bdffffff',\n",
              " 'ffbdef7bd8c6694a6739f7bbbdeb7bdf7bdf7bdce73bdf739dce734a52318d294a52b07bdef7bdef6ad4d5adac5b58b6b16c5ad8b5b16b62d6c5ad8b5b58c735ae6b5ce73dce8421184210846308c631',\n",
              " '8c6318c63194a55ad739ce739b5ad9d6b39ceb5bf7bdfffffffffffffffdef7bdeffffef7bfffbfffffffef7b6bdf18c739cef7bbdefbdefffff7bdffffbdee318ad6b8c637bdf39cbdef18c61083def',\n",
              " '5a92b5258a5316a62d4c5ad8b5b16b5ad6b5ad8b5b16b6318d631cd6bdef841f083e0f7c2108c611842318c6318c63294a5295ef7e739def7def7bdeffffef7bdef7fffffffeffbdef7ffef7bdce73de',\n",
              " 'efffeef79ef77def7bddefbbce73ffffffffffdce735ad6f7be739ce77ffffbded6b56b5a94a4a31739ae6b1ac5c1cd839ae6318b5b16b5ad6b5296a5ad6b6316d631ce73def7bdef7be0f7c61094630',\n",
              " '8421084a52a5297bdf5ad77bdf7bdffffffffbdef7bddef339cf39bfffdef7bfff7fddfffdce6fdeeffddfffffffffffffffffffffffffffffff7bddef7fffffffffffffffffff39ce739bdef39cd695',\n",
              " '946149cb17a66f4eef3cde717b460f62d6b5294a52d4a62d6d6b5ce739ce739ce73a108529494a54a4e739def7f7bdffffffffffeffffffffffffffffffffffb5ad6318def7ce73deefffdfffdff77ff',\n",
              " 'f7fddfffffffffffffffffffffffffffffffffffffffffffffffffffff9ce6738b5ad2949ef7bdce83dd6a4b99b6f36eef1fff3fff779aad28f7398c62d6b62d6d6b5ad6b5ad735af73a5296f7be739a',\n",
              " 'd6bbdef7bdffffffffffffbdcfffdffffffffffffffffffffffef7bdef7def7fffffdcffb7eeefffffbddffffffffddefbddfffdfffbffffffffffffffffffffffffffdef77bd527394a549ce52939ce',\n",
              " '9ca38ace90735697317283b169ef57f7797b560f739cd7b9cf739cd6b58c6b5b0842b5aef7bfffffffffffffffffffffffffffffffffdfffbfff7ffffffffffffffffffffffffffffffbbbf733ef73ff',\n",
              " 'ff7bbef37cdebbce7ffefffffffffffffffffffffffdef7fffffffef777bdeb59c6312949ce739adace369c20d5a9285210a4a5ab541cc941f6ad339bd272841ef735ef746308c611842528e739fffff',\n",
              " 'ffffffffffffffffffffffffffffffffffff7ffeffbbfff7fffffffffffffffffff779e6afef73deeef59e6f3bd67bce7ffefffffffffffffffffffffffdeeffffffffffffdeeeb599ce6e739ce6b5ad',\n",
              " 'a4a17a462e629085210a4a5494a9295a52d5aa0f7e717b5ab6b56318c1efad69bdefbdefbdefffffffffffffffffffffffffffffefffffffbfeefffdffb9de6bfee7ffdfffdfffffee7357de6dde6b9b',\n",
              " 'cef59d671bde7fff7ffffffffffffffffffffffffffdde7bdeffffdef318bd29494a3083dce6b5ac839959c270729084a10a421694ad295212a4a56a52d6b94a3ad6bdff6738ad6bbdefffffffffffff',\n",
              " 'ffffff7ffffffffffbfeefbbbf777de6bbcd7799f735dde77abf779f735ff73bcceb16d5e9cd5f7ac6b37d66fde6bbcd7bbcfffffffffffffddf7b9fffbffff7bcd6b59ce718c5ef6a5271841ad6b58c',\n",
              " '7b1517322e5a9084a10a421694ad295a52a4a5694b14b8c61bdebfffffffffffffffffffffffffffffbbddf79bef77de6b79beb16d66dbcdb37aeb15cde99bd716a66d4de6dcd5f79b66f4c565ac5b59',\n",
              " 'be716d62dbcdf7ac737ae6f5ce6b9bcf379f777ef73fff77bcdef5bdef7bd63178c20e735ad6b58c7314f6ae0e6292841ce94214842d295a52b4a5694b58c7b9d394759bf379e6f3de6bfff7ffff7bbc',\n",
              " 'de759be2d4c5eb9bd716a5eb3ad257acef495671ace359c6b38d671c5a7ac57169e6f4b4e38b5316a62d4cdebacdb58b62f6ce2fbd6379bef37e6f3ce6f9ce77bcef7bbdeed6b4e7294a4f7bdac6318b',\n",
              " '6ad4e62e2f6356a418e939d4842d295a52b4a5694b14a6b1738c2d495250ce2dde6bbcd779adeb1acdf38b62d4c5eb7aceb4952519c5f38be9284e2f941f38be717da71bd657acaf495eb3aca18b52f5',\n",
              " '9deb2c5a98bd316a6716deb1bcdf59b6f57ef35ef73dde7bdcf7bbeffbfff739bb5ad083dad6316b6ad4e62a0e5c1cb41ce839d2842d295a52b4a5694b16a7b59283eb38da92ce2dacdf38b6716cdeb8',\n",
              " 'b52f59d692b52559c67184a0f8bdd07364f745ee839b17ba507d650ace149429285692a4a16a4b16a5671b5258b4f37ae6f5cdeb8b5337a6b16deafbd63bcd7ffdfffdff77bde739bd6b339cdcd6b58c',\n",
              " '5a92d5a5ed5ce0e5210731d073a5085a50b4a1694b1497b5938c2b38deb4c5ab8bd717ae2f5b56759c67284a0e8bdd17ba0f6c1cd7b58e6b20e6bdcd735af6b62f74a0e93dd283a7284e5193dd283a92',\n",
              " '85671b5257aced595a92b5256a4af59deb3c5a9acdb9ac7379deb3bd675ace317b5ab4a4e72941ef520eb4a1ab549ed5a507319063a0e749cea42169431297317183e517ce30ad258b5337adeb3ace13',\n",
              " '8be2f73dcd7358e631ac5b58b62d6d5adcc6358c62d6d62ded6358b7358f7360e739ac7b5906b22f6d250b52559c6b495ed4cded8b52d59da92bd657acef6a62d4c5eb8bd717b4e727bded6318b5ad4a',\n",
              " '5a50941d69445cc8356939d06320c7418e939d48429086292d5ae5185ed5d62d8b52f59d2508bdcf6b1cc6316b5ad4a529294a94a5a94a5296a52d4a5a94c5ad8b5a92a5a94c5adac5b98c6b1706b271',\n",
              " '7d2509ca14946b395671a4a1383e927d670ace16a4af59dab3bd677b52d59ce5162d6b5254a4ad496ad2b4a1483c1aba45cd5a50631cc6398e839d273a9296294c52a0e6d250ace549422f6b98b6ad4c',\n",
              " '5a96a52529421284250849d084a52a4a5294a92a5a94b529494a1094a52a5298b5c5ee941f17b60e6bdac7b58f735ed63dac8bdb383a927d24fa4a138be717d250ace35a4ad49460f5ad4a4a5494a928',\n",
              " '6ad4d5a56942d48839917312739cc6398c7319073a5085250e62e717ce308bdaf6adcc5356a629494a50841ce831d063a0e741d083a109425284a5095252a4a5284a1083a108425494b58c7358c5ad6a',\n",
              " '52d2a5252b529ab5bdac839917b65074a0e8bdb17362f6ca0e941d38beb38e2f6ce738c5ed5ad2736ad4d5a98a4b5697b571731aa49cc6398c7318e6320e75a9307320e63d8a72d4d5a5ab531494a107',\n",
              " '3a0c6398c831d063a0c741ce839d073a0e7421084a1284210841ce839d0842108421084210842108421084a109425494b14a7316e62ded641cc8b9b17b62f6c5ed8bdb17b6717d692b5696b5738bf37b',\n",
              " '6ad4d5a9ab4b5697314f6adec52507398c7319073a9085a50e629ec5396a6ad2d5a58a4ad2839d0631cc6398c8318e639ca6398e839d0639cc639ce739d073a0e741ce839d073a0e741ce839d0739ce7',\n",
              " '421084210842108425296294d5a9cc5bdab8b9b17b60e63dac7316f6ae0e641cd7b9b17ba728d2726ad4d5a9ab4b5697b14f629cc4b12849ce839d483a9286292e629cc539696a92d525894a90839ce7',\n",
              " '39ce7398c7318e631cc739ce839d0739ce7398c731ce73a0e741ce731ce631cc739ce739ce631ce739ce839d073a0e739ce839d094218a5398b7b58f6b1ab5356a62d2c5258a4b1696b16f7360e6c5ee',\n",
              " '6ad2d5a9ab4b56a6ad4d5a5ab4b5485a508399483ad286292d5a5cb535496290c4a1484250741ce739ce7398c7318e739ce7398e739d073a0e739ce7318e739ce7398c7318e631cc6398c7318e631cc6',\n",
              " '398c7318e631cc6398c7298e5318e73b14a6ad4c5258a4b1496b14e6b20f74a309ca339465184a0f6ad2d5a5ab4b56962d2c525ab4b98a6a92a41d483ad286292d525ab4b5496a90d521894290849ce7',\n",
              " '39ce739ce7318e631cc6398c7318e84210841ce739ce631cc6398c7318e631cc6398c739ce731cc6398c6318c631ca6394c6298e5298a6329085a52b4a58a4bdab8c1d49c6f6aeb38def5eef7fff7ffe',\n",
              " '6ad2d5a9ab535696ad2c5a58b4b98a6a92a41d483ad285a50d525ab4b5486a92c5218942d284a0e839ce739cc7398e731cc6398c7318e739d0841ce7318e631cc6398c7318e631cc639ce739ce739cc6',\n",
              " '398c7318c5298a5314a6294c5298a5320e74a1094218a4b98b839928be938dab3c5edad679cdf7bd6ad2d5a5ab4b5696ad4d5a9ab4b56a6ad2b4a189431286292d5a5aa431486290c5218942d2852509',\n",
              " '420e739cc6398e739d073a0e841ce839ce73a0e739ce7318c6398c7318c5318c639ce739ce631cc6398c7318e631cc6394a6294c4298a5318c6398c941d6a4b58b7b99183a517d271b5678bdb38beb59',\n",
              " '6292d5a5ab4b5696ad2c5a5ab4b56962d2c521aa435496a92c521aa435486250c4a16942d285a10941d273a5074a10942128425084a10839d0739ce739ce839ce6318c6318c6318c6318c6318c6318c6',\n",
              " '318c6318c631cc6314c6294c5298a5314a6318c94216a4b58a7b5907b65074e50a4e56ad2f6ae7176292c5258a4b56962d2c5258b4b5696292c5258a435496250d525aa431486250c5218942d285a50b',\n",
              " '421483a9075a50c5258a4ad285210939d073a0e741ce939d0739ce74210739cc6318c6318c739ce739cc6398c6318c6314a6294c5298a5314a6318c94216a4b56a735907b63074a2fa4e36acef6ae2f6',\n",
              " '6290b5216a431496292c5258a4b1496292c52589431286290d5a5aa435486a90d5218a431486250c4a16942d285a50b4a14842d285a50a4210739cc6398c739ce739ce7421073a0e7420e84a10a4a149',\n",
              " '4250841ce7318c6318c6318c5298a5314a5398c94216a4b56a7358f7362f74a2fa4e35a4ef6a5ed55a90b4a16942d286292c5258a4b1496292c52589431486ad2d521aa435486a90c4a189431286250b',\n",
              " '4a16942d085a10b41d6842908520e939d0631cc6398ca3a14849cc7294c5298c6398c742109421494290841ce839d0739ce7318c6318c6318c639ce94a16a4b56a735707b63074e509ca35a4ab49dab4',\n",
              " '5a50b4a169429285a50b4a16a42d486292c525aa4b5486a92d521aa435486a90d521aa435486250b49d6942d285a50b41d483a50741ce7318c5324c75a10c4258642ce8314c42148429085214a5298c6',\n",
              " '3a0e749ce839d0739cc6318c5294a5294a539ce94a16a4b58b7b9907b63074a2f9ca35a4ad59ded462d6a4a149429085210a4214942d285a50b4a18a4b5486a90c521aa435486a90e525cb4b5496290c',\n",
              " '4a189431486290b4a14739cc6398c93a1895352a6a54f52d05324c749d052988429085210a421485294c6398c83990631cc6318c5294a5298c6420ea4a58b5358b7358f7360f6c60e945f39429395692',\n",
              " '6b18c62d6a529284a10941d283a5084a10a4a18a431486a92d521aa435496a92e5a5cb4b96972d2e5a5aa4b5486290b49d68431296a54e5b20d73d8d82d8d4a90631885394c73188429085210a421484',\n",
              " '29085398c839d0731cc6314a5294a529cc64a10a5258b5358b7358f7360f6c5ee8c1d283e72852716318e735ce7316b5a94a52529421084210a4a18a4b1496ad2c521aa435486290c52189431276250c',\n",
              " '4a18a4396a7292e529ea5b94b6a54c425a9535297254c42589528e8498e7298c529085210a32106421085318c8318e6298a5294a5214a529cc6420ea4a18b4b58b7358f7320f6c60e946149cab495693',\n",
              " '7c20e739ad6b5ad5ad6c62d6b521084a10a4a18a4b1496290c521aa43127624ec49d893b1276250c4a1aa4c14b7a54d4a9a84b10959d0b3a167435096212b3a16742ce85a12b42547418a620c8319063',\n",
              " '21084314a7318e6298a5294a4214a529cc6420ea4a16a4b58a7358f7362f74a2fa4e35a4ad5a5ed5631ad6b9ad6b1ac5ad4b5ad4a525294a10a4a16a431486292d52189431286250c4a1aa435486290c',\n",
              " '521ca4bd0969d0c3a1663a8c759d0b3a1664310859d0a31d263a4c759d0c425aa5b96c418e31906321084314a7318e631cc6294a5294c6320e74a10a5258b4b58b7b9907ba307ce50a4a349cad5a5ef5',\n",
              " '8420f7c1ce735ad5294a4a54a525295252a4a16942d285a50b4a1693b1286250c5218a431275a0eb41da943d0961d0b31d663a8c759d0b3a1663ace8518ea31d26324c759d0c3a1884b94b7254831864',\n",
              " '21084314a7314e631cc6294a5294e6321075250b525ac53dac83db183a517ce50a4e56ad2f6ae2f6635ab6316b62d6b529494a54a521084210841d083a0e741ce839d483b1286250c4a1693ad0751cc9',\n",
              " '3998843909618eb31d663ace859d0b3a1463ace7598e931d263a8e759d0c42187430e869d0d424a429484398c7318e6318a5314a6315073a9285a92d629cd63dcd83db183a517ce50ad256aced5a5ed5',\n",
              " '4a54a5294a525294a52b5ad6b5a52939ce6318c6318c6318c7319283ad286250c49d683ad0751cca39d884390961ceb31d663ace86212c3a1663ace8518e931d263a8e761d0d3a187430e869d0a31c84',\n",
              " '21485398a83990731cc6318a73992842d4962d4d629ac5b9ab839907b63074a2f9ca149c6b495ab36318c6b56b6294b4a5294a5294a52939ce6318a5294a5294a629507329076250c49d893ad275a0ea',\n",
              " '41d483b50969cea29946328c759d0c3a167430e859ce931d463ace86210d3a187434e861d052148421485314a731907320e641ce841d4942d4962d4c5a9ac5bdac7b9907b63074a0e945f3942938d672',\n",
              " '5ad6a529294a529529494a5294a10839ce6318a5294a5294a629507329075a4eb49d8942d275a0ea39d073310869cea29925324c6598eb3a1673ace851cea31d473b0e86a10d421c7434e8394c4210a4',\n",
              " '21485314a7318e6320e641ce941d4942d4962d4d62dcd5bdcc839907b62f6c60e945f38be72852505ad6a529294a94a4a5294a5084210739ce6318a5290a5294a5294c62a4e65a50b4a1683a4e649cc8',\n",
              " '398e52a8e769cea299052a4a6518ea31d663acc7518e9319463a8c761d0e421e84a8c721084210a421485314a6294c5298c5398c941d494b16a6ad4e62dcd63dcc83db17b62f6c60e8c1d28ba517ce2f',\n",
              " '6318a5294a5294a4a528421084210839ce6318a5294a5294a5294c52a4e75a50a41d27324e6418c7294a4224c769cea298e42a0a6518ea31d463a8c7498c931926324a6598ee3a1a73948420c84210a4',\n",
              " '21485290a5210a4294a5398a941d6a4b16a6b14e6aded63dcc83db17b6306c60e941d28ba717d2506b5aa5294a529294210841d0739ce739ce7398c6318c6294a4214a52a5075a50941d0731cc5394a6',\n",
              " '294c52a4c6598c9214c429ca5518ca31946328c7498c829905324a6598ed39d263106421084210a42148421084210a4214a5398c94216a4b16a7316e6adee641cc83db17b63074a0e9c5f39429285250',\n",
              " 'bdeeb62d4a525294a108421083a508420e739ce6318c6294a5294a52a0e7520e8318e629cc5418a7314e629ca5394a62148421485494ca31946328a6494c8298e52a0a6598cc39d263108420c8421084',\n",
              " '2106421084210a4218a541cea4a16a4b56a7316f6b20e641ed8c1b28ba717ce4fa4a149c6938d671ffff5ad56b5a5294210739ce73a1074a10942107398c6294a5294a529cc6318a529506320e649cc8',\n",
              " '3990631cc5314a52948421484414ca31946324a6414c8298e529ca5494cc39d063106418c83190832106421085210c529cc64a0eb4a18b4b58a7356f7320f6c60d945d393e9285671ad255a4ad59dab3',\n",
              " 'ffffef7a739a52939ce842129425084a1094210739cc6314a5294a5294a521085294e6324e649cc7314e62a0c5398a7294c529484310a8294e529c85394a7294a429084390aa318c52906420c8319083',\n",
              " '2108429086294e6320e75250b525ab5398b7b5707322f6ca0e9c5f4942938d691b5256acef59ded4ffffffffbdec6315294a525494a5285250a4a12839cc6314a5294c5294a529085294e631cc6398c8',\n",
              " '39907320c5398a7294c5298a5210841906320c6420c841906320c6420c84210842106420c841908421484314a731907329075a50c525ab5398b7b570732306ca0e9c5f4942b38d691ad256a4ad59deb3',\n",
              " 'ffffffffffff39c7bde739cc631ce739ce839d073a0e7318c5294c6314a5294a5294a5298a5314a731906320c6394a6294a4218a531485210842106420c84190842108421084210842106420c84210a5',\n",
              " '298a5398c8399483ad286292d5a5cc53dab839907b6306ca0e9c5f39429285270ace35a4ad495ab3fffffffffffffffdef6e73929425084a1094210739ce6398c6318a5294a5314a6294a421484294a6',\n",
              " '294c5298a5314a5210a4214a429085210a42148429085210a42148429085210842106421085294c529cc641cc941d6942d486ad2e629ed5c1ab839917b6306ca0e9c5f38be727d250a4e15a4ad59ded4',\n",
              " 'fffffffffffffffffffad69ee729494a5094a128420e739cc6318a5294a5318a5294a42108421084210a5214a429084210842148429085210a4218a529086210a421484314a6210a421084314a6294e6',\n",
              " '320e64a0ea4a18a435697314f629ed5c1cc839917b6506ca0e945d38be717d250ace35a4ad59deb4fffffffffffffffffffffff39cb5ad4a50841d284250741cc7318a529084294a6294a52108421084',\n",
              " '210842108421084210842106429085210c5218a4314a6294e5298a5394a6294e529cc5398c83990732507524eb521ab4b96a7b14f6ae0e5c1cc8bd917b6506ca0e945d38ba727d250ace35a46d495ab3',\n",
              " 'ffffffffffffffffffffffffffe7386b18839ce73a10741ce7398c6314a5294a6318a52908421084210842108421084210842106421086294a421484314a731907320c6418c831907320e641cc941d48',\n",
              " '3ad286292d5a5ab5398a7b57072e0e645ec8bd917b6506ca0d945d38ba727d250a4e35a46d495ab3ffffffffffffffffffffffffffffffc630d6b50841ce741ce7398e6318a5294a6318c63108421084',\n",
              " '2108421084210842108421084210852908421084398a941d283a5074a0e941d283a507524eb4a169431496ad2d629cc53dab8357072e0e645ec8bd917b6506ca0d941d38ba717ce4fa4a149c6d4962d4',\n",
              " 'ffffffffffffffffffffffffffffffffff8c5d8c5a0e741ce7398e6318c6314a6294e63108421084210632108421085294a421084210842108420c63398cb5216942928520ea4a149429285a50c5258b',\n",
              " '4b5697314e629ed5bdab8397072e0e645ec8bd917b64f6ca0d941b283a7174e2fa4a159c6d495ed3ffffffffffffffffffffffffffffffffffef7ab5aa94a39cc7318e6318c6318a5294c6314a521084',\n",
              " '210842108421085210a521484210842106320c64398cc5a58a4ad285250b4a16942d486292c5a5ab4b98a7314f6aded5c1ab839707322f645ec8bdb17b6506ca0d941b28365074e2ea4a159c6b48da92',\n",
              " 'ffffffffffffffffffffffffffffffffffffffbded2734a507318c6318c6318c6294c6314a5294a5294a42108421084210a5294a5294a42108421084318ad5a9ab4b1495a90b4a16a4314962d2d5a5ab',\n",
              " '5398a7b56f6aded5c1cb839917322f645ec8bdb2836506ca0d941b28365074e2ea49f49c2b38d691ffffffffffffffffffffffffffffffffffffffffff39b8c6294a4e7318c6318c6314c6318c6294a5',\n",
              " '294a5294a5294a6294a5294a5210842108421084294ac5a5ac535696292b5216a4b1696ad2d5a5cc53dab7b56f6ae0e5c1cc839917b22f645ed8bdb2836506ca0d941b28365174e2e9c9f4942b38d691',\n",
              " 'fffffffffffffffffffffffffffffffffffffffffffffdef5084107398a5314a6318e6318c621085294a5298a5318c6294a5210842108421084210842908b521cd5b98a6ad4c5a58b5356a6ad4d629cd',\n",
              " '5bdab7b5706ae0e641cc8bd917b22f6c5ed8bdb17b6506ca0d941b283a5174e2fa49f4942b385671ffffffffffffffffffffffffffffffffffffffffffffffffd9ce1cd69ce7318c6318c6314a5214a5',\n",
              " '294a5298a5318c5294a52108429485294a529484294aa49dcd5b9ab7314d629ac5398a7314e629ed5bdab7b57072e0e645cc8bd917b22f6c5ed8bdb17b6506ca0d941b283a5174e2e9c5f493e9285670']"
            ]
          },
          "metadata": {},
          "execution_count": 25
        }
      ]
    },
    {
      "cell_type": "code",
      "source": [
        "print(bytes.fromhex(full_op))"
      ],
      "metadata": {
        "id": "-uG1wb6cKEva"
      },
      "execution_count": null,
      "outputs": []
    },
    {
      "cell_type": "code",
      "source": [
        "import numpy as np\n",
        "import cryptos\n",
        "from PIL import Image\n",
        "\n",
        "def read_image(txn_id):\n",
        "  doge=cryptos.Doge()\n",
        "  img_header_tx_data=doge.fetchtx(txn_id)\n",
        "  op_return=img_header_tx_data['outputs'][1]['script'][10:]\n",
        "  utxo_id=img_header_tx_data['inputs'][0]['from_output']['txid']\n",
        "  blk_height= doge.block_height(txn_id)\n",
        "  cand_txns=doge.block_info(blk_height)['tx_hashes'][1:]+doge.block_info(blk_height-1)['tx_hashes'][1:]+doge.block_info(blk_height+1)['tx_hashes'][1:]+doge.block_info(blk_height+2)['tx_hashes'][1:]\n",
        "  cand_txns_info=[(cand,doge.fetchtx(cand)) for cand in cand_txns]\n",
        "  img_txn_info=[ ( info['inputs'][0]['from_output']['output_no'],info['outputs'][1]['script'][10:] ) for (_,info) in cand_txns_info if info['inputs'][0]['from_output']['txid']==utxo_id]\n",
        "  img_data_list=sorted(img_txn_info)\n",
        "  hex_header=img_data_list[0][1]\n",
        "  img_hex = ''.join([elem[1] for elem in img_data_list[1:]])\n",
        "  image_bytes=bytes.fromhex(img_hex)\n",
        "  L=int(hex_header[14:18],16)\n",
        "  W=int(hex_header[18:22],16)\n",
        "  B=int(hex_header[22:24],16)\n",
        "  print(L,W,B)\n",
        "  print(len(img_data_list))\n",
        "  sparkle_bits=message_2_bit_array(image_bytes,mode=None)\n",
        "  spark_array=bitarray2imgarr(sparkle_bits,imgshape=(L,W),bit=B,color=1).squeeze()\n",
        "  return op_return,spark_array\n",
        "  \n",
        "def read_image_color(txn_id):\n",
        "  doge=cryptos.Doge()\n",
        "  img_header_tx_data=doge.fetchtx(txn_id)\n",
        "  op_return=img_header_tx_data['outputs'][1]['script'][10:]\n",
        "  utxo_id=img_header_tx_data['inputs'][0]['from_output']['txid']\n",
        "  blk_height= doge.block_height(txn_id)\n",
        "  cand_txns=doge.block_info(blk_height)['tx_hashes'][1:]+doge.block_info(blk_height-1)['tx_hashes'][1:]+doge.block_info(blk_height+1)['tx_hashes'][1:]+doge.block_info(blk_height+2)['tx_hashes'][1:]\n",
        "  cand_txns_info=[(cand,doge.fetchtx(cand)) for cand in cand_txns]\n",
        "  img_txn_info=[ ( info['inputs'][0]['from_output']['output_no'],info['outputs'][1]['script'][10:] ) for (_,info) in cand_txns_info if info['inputs'][0]['from_output']['txid']==utxo_id]\n",
        "  img_data_list=sorted(img_txn_info)\n",
        "  hex_header=img_data_list[0][1]\n",
        "  img_hex = ''.join([elem[1] for elem in img_data_list[1:]])\n",
        "  image_bytes=bytes.fromhex(img_hex)\n",
        "  L=int(hex_header[14:18],16)\n",
        "  W=int(hex_header[18:22],16)\n",
        "  B=int(hex_header[22:24],16)\n",
        "  print(L,W,B)\n",
        "  print(len(img_data_list))\n",
        "  sparkle_bits=message_2_bit_array(image_bytes,mode=None)\n",
        "  spark_array=bitarray2imgarr(sparkle_bits,imgshape=(L,W),bit=B,color=3).squeeze()\n",
        "  return op_return,spark_array\n",
        "  "
      ],
      "metadata": {
        "id": "cWrzYStAO6SY"
      },
      "execution_count": null,
      "outputs": []
    },
    {
      "cell_type": "code",
      "source": [
        "def read_image_fund(txn_id):\n",
        "  doge=cryptos.Doge()\n",
        "  List=get_output_spend_txns(txn_id)\n",
        "  #img_header_tx_data=doge.fetchtx(L[0])\n",
        "  #op_return=img_header_tx_data['outputs'][1]['script'][10:]\n",
        "  img_data_list=[doge.fetchtx(elem)['outputs'][1]['script'][10:] for elem in List ]\n",
        "  hex_header=img_data_list[0]\n",
        "  img_hex = ''.join([elem for elem in img_data_list[1:]])\n",
        "  image_bytes=bytes.fromhex(img_hex)\n",
        "  L=int(hex_header[14:18],16)\n",
        "  W=int(hex_header[18:22],16)\n",
        "  B=int(hex_header[22:24],16)\n",
        "  print(L,W,B)\n",
        "  print(len(img_data_list))\n",
        "  sparkle_bits=message_2_bit_array(image_bytes,mode=None)\n",
        "  spark_array=bitarray2imgarr(sparkle_bits,imgshape=(L,W),bit=B,color=1).squeeze()\n",
        "  return hex_header,spark_array\n",
        "\n",
        "def read_image_fund_color(txn_id):\n",
        "  doge=cryptos.Doge()\n",
        "  List=get_output_spend_txns(txn_id)\n",
        "  #img_header_tx_data=doge.fetchtx(L[0])\n",
        "  #op_return=img_header_tx_data['outputs'][1]['script'][10:]\n",
        "  img_data_list=[doge.fetchtx(elem)['outputs'][1]['script'][10:] for elem in List ]\n",
        "  hex_header=img_data_list[0]\n",
        "  img_hex = ''.join([elem for elem in img_data_list[1:]])\n",
        "  image_bytes=bytes.fromhex(img_hex)\n",
        "  L=int(hex_header[14:18],16)\n",
        "  W=int(hex_header[18:22],16)\n",
        "  B=int(hex_header[22:24],16)\n",
        "  print(L,W,B)\n",
        "  print(len(img_data_list))\n",
        "  sparkle_bits=message_2_bit_array(image_bytes,mode=None)\n",
        "  spark_array=bitarray2imgarr(sparkle_bits,imgshape=(L,W),bit=B,color=3).squeeze()\n",
        "  return hex_header,spark_array"
      ],
      "metadata": {
        "id": "5koX26ubUvx7"
      },
      "execution_count": null,
      "outputs": []
    },
    {
      "cell_type": "code",
      "source": [
        "\n",
        "op_ret,sp_ar=read_image('53ae86951b38d91cc01a90e7cf9e7089ffff0a4b81a46fcd02a104d696247cb2')"
      ],
      "metadata": {
        "colab": {
          "base_uri": "https://localhost:8080/"
        },
        "id": "qY_BU0bMWH_m",
        "outputId": "94e5a187-ce50-4f1f-d894-0a83ebca99bb"
      },
      "execution_count": null,
      "outputs": [
        {
          "output_type": "stream",
          "name": "stdout",
          "text": [
            "64 64 5\n",
            "33\n"
          ]
        }
      ]
    },
    {
      "cell_type": "code",
      "source": [
        "from PIL import Image\n",
        "Image.fromarray(sp_ar)"
      ],
      "metadata": {
        "colab": {
          "base_uri": "https://localhost:8080/",
          "height": 81
        },
        "id": "XOMXNCV_Y63R",
        "outputId": "8b655681-f019-47c0-cb22-92a5a5293575"
      },
      "execution_count": null,
      "outputs": [
        {
          "output_type": "execute_result",
          "data": {
            "text/plain": [
              "<PIL.Image.Image image mode=L size=64x64 at 0x7F1814CD5650>"
            ],
            "image/png": "[encoded data removed]"
          },
          "metadata": {},
          "execution_count": 30
        }
      ]
    },
    {
      "cell_type": "code",
      "source": [
        "op_ret_color,sp_ar_color=read_image_color('90c01813156e594c4dbe8bd39436597c68ffaaa201c458f9c1ccae3e86d2c33f')"
      ],
      "metadata": {
        "id": "-v-Meq_2KzZd",
        "outputId": "b3522b6b-7db6-4ce2-82aa-7999d02304f0",
        "colab": {
          "base_uri": "https://localhost:8080/"
        }
      },
      "execution_count": null,
      "outputs": [
        {
          "output_type": "stream",
          "name": "stdout",
          "text": [
            "64 64 5\n",
            "97\n"
          ]
        }
      ]
    },
    {
      "cell_type": "code",
      "source": [
        "\n",
        "sp_ar_color.shape"
      ],
      "metadata": {
        "id": "JNtAa9mwLxf4"
      },
      "execution_count": null,
      "outputs": []
    },
    {
      "cell_type": "code",
      "source": [
        "Image.fromarray(sp_ar_color)"
      ],
      "metadata": {
        "id": "PX_l1JSNLXvY",
        "outputId": "6417c9be-2a59-4387-88b0-4edd0c4bba92",
        "colab": {
          "base_uri": "https://localhost:8080/",
          "height": 81
        }
      },
      "execution_count": null,
      "outputs": [
        {
          "output_type": "execute_result",
          "data": {
            "text/plain": [
              "<PIL.Image.Image image mode=RGB size=64x64 at 0x7F1814794B10>"
            ],
            "image/png": "[encoded data removed]"
          },
          "metadata": {},
          "execution_count": 28
        }
      ]
    },
    {
      "cell_type": "code",
      "source": [
        "op_ret_color"
      ],
      "metadata": {
        "id": "ydPX5PxOZaut"
      },
      "execution_count": null,
      "outputs": []
    },
    {
      "cell_type": "code",
      "source": [
        "bytes.fromhex(op_ret_color[24:]).decode()"
      ],
      "metadata": {
        "id": "bN8fsg8MoJ0T"
      },
      "execution_count": null,
      "outputs": []
    },
    {
      "cell_type": "code",
      "source": [
        "OPR,IMG=read_image_fund('c1542c10399a09a5471799133c472a6652d5cb3b7b421e1a7e80e2039f5b393b')"
      ],
      "metadata": {
        "id": "UJGnj3S7qHnJ",
        "colab": {
          "base_uri": "https://localhost:8080/"
        },
        "outputId": "12e223fe-8000-4d38-a348-590f3e2200bd"
      },
      "execution_count": null,
      "outputs": [
        {
          "output_type": "stream",
          "name": "stdout",
          "text": [
            "64 64 5\n",
            "33\n"
          ]
        }
      ]
    },
    {
      "cell_type": "code",
      "source": [
        "print(OPR)\n",
        "Image.fromarray(IMG)"
      ],
      "metadata": {
        "colab": {
          "base_uri": "https://localhost:8080/",
          "height": 99
        },
        "id": "uEIlcnbBIjsi",
        "outputId": "93f5b98e-e9c4-480d-f82a-a35ac7f42423"
      },
      "execution_count": null,
      "outputs": [
        {
          "output_type": "stream",
          "name": "stdout",
          "text": [
            "c1dd000103ff000040004005537061726b6c65f09f9088e2808de2ac9b4d61676963616c436174f09f9088e2808de2ac9be29ca8f09f929c466f7665766572f09f929ce29ca8\n"
          ]
        },
        {
          "output_type": "execute_result",
          "data": {
            "text/plain": [
              "<PIL.Image.Image image mode=L size=64x64 at 0x7F1812C1E910>"
            ],
            "image/png": "[encoded data removed]"
          },
          "metadata": {},
          "execution_count": 40
        }
      ]
    },
    {
      "cell_type": "code",
      "source": [
        "OPR_c,IMG_c=read_image_fund_color('a01e8625d653f4a8686b5b9e20ca653e59ebcd8bf2ca2a7b8370fdc52417f7b9')"
      ],
      "metadata": {
        "colab": {
          "base_uri": "https://localhost:8080/"
        },
        "id": "U-YVyR9sJT_Q",
        "outputId": "3ceb1697-b523-4be6-8f8c-2498ad945d3b"
      },
      "execution_count": null,
      "outputs": [
        {
          "output_type": "stream",
          "name": "stdout",
          "text": [
            "64 64 5\n",
            "97\n"
          ]
        }
      ]
    },
    {
      "cell_type": "code",
      "source": [
        "print(OPR_c)\n",
        "Image.fromarray(IMG_c)"
      ],
      "metadata": {
        "colab": {
          "base_uri": "https://localhost:8080/",
          "height": 99
        },
        "id": "xquyiItSJ2Ng",
        "outputId": "13d9a638-fc88-4357-d3fc-f2d92dc18917"
      },
      "execution_count": null,
      "outputs": [
        {
          "output_type": "stream",
          "name": "stdout",
          "text": [
            "c1dd000103ff010040004005506574657220426561\n"
          ]
        },
        {
          "output_type": "execute_result",
          "data": {
            "text/plain": [
              "<PIL.Image.Image image mode=RGB size=64x64 at 0x7F1812BA1650>"
            ],
            "image/png": "[encoded data removed]"
          },
          "metadata": {},
          "execution_count": 44
        }
      ]
    },
    {
      "cell_type": "code",
      "source": [
        ""
      ],
      "metadata": {
        "id": "F2SHLr51tho2"
      },
      "execution_count": null,
      "outputs": []
    },
    {
      "cell_type": "code",
      "source": [
        "def get_head_utxos(root_txn):\n",
        "  import requests\n",
        "  import json\n",
        "  \n",
        "  r = requests.get(f'https://sochain.com/api/v2/tx/DOGE/{root_txn}')\n",
        "  outs=json.loads(r.text)['data']['outputs']\n",
        "  spents=[ ]\n",
        "  asm=outs[-1]['script_asm']\n",
        "  asms=[ ]\n",
        "  \n",
        "  return (asm[10:] if 'OP_RETURN' in asm else None),outs[0]['spent']['txid'] if outs[0]['spent'] else None"
      ],
      "metadata": {
        "id": "mkcmRxywq3e-"
      },
      "execution_count": null,
      "outputs": []
    },
    {
      "cell_type": "markdown",
      "source": [
        "```\n",
        "\"outputs\": [\n",
        "      {\n",
        "        \"output_no\": 0,\n",
        "        \"address\": \"D6zKNnkupqRbkB9p5rwix8QiobQWJazjyX\",\n",
        "        \"value\": \"41.00000000\",\n",
        "        \"type\": \"pubkeyhash\",\n",
        "        \"req_sigs\": 1,\n",
        "        \"spent\": {\n",
        "          \"txid\": \"dc26f3c5254e447130554bc9f87d1eab9433acd6765f6e65f2ba73db65a5b6b7\",\n",
        "          \"input_no\": 0\n",
        "        },\n",
        "        \"script_asm\": \"OP_DUP OP_HASH160 144739367df0ff8d1c61d03704298d49cf93ef3f OP_EQUALVERIFY OP_CHECKSIG\",\n",
        "        \"script_hex\": \"76a914144739367df0ff8d1c61d03704298d49cf93ef3f88ac\"\n",
        "      },\n",
        "      {\n",
        "        \"output_no\": 1,\n",
        "```"
      ],
      "metadata": {
        "id": "vNDVw56wsHUA"
      }
    },
    {
      "cell_type": "code",
      "source": [
        "D=cryptos.Doge()"
      ],
      "metadata": {
        "id": "8Tb4WeXdzNGS"
      },
      "execution_count": null,
      "outputs": []
    },
    {
      "cell_type": "code",
      "source": [
        "D.unspent(\"D6zKNnkupqRbkB9p5rwix8QiobQWJazjyX\")"
      ],
      "metadata": {
        "colab": {
          "base_uri": "https://localhost:8080/"
        },
        "id": "W1LEWmUc1cVH",
        "outputId": "7e864f3e-fef0-41c9-affb-a5c8f4eedbb9"
      },
      "execution_count": null,
      "outputs": [
        {
          "output_type": "execute_result",
          "data": {
            "text/plain": [
              "[{'output': '6b4ec941af17838dbc7e1e15d77c7f4cdb7ef98bc45e4477547e41b6258a3a33:0',\n",
              "  'value': 20293778521},\n",
              " {'output': '6b4ec941af17838dbc7e1e15d77c7f4cdb7ef98bc45e4477547e41b6258a3a33:1',\n",
              "  'value': 20293778521}]"
            ]
          },
          "metadata": {},
          "execution_count": 90
        }
      ]
    },
    {
      "cell_type": "code",
      "source": [
        "doge=cryptos.Doge()\n",
        "doge.fetchtx('67a83f6b33cb8492a750ee0bc9ab9c9c26fb048a15261c939a8a1f748cfc0af9')['confirmations']"
      ],
      "metadata": {
        "colab": {
          "base_uri": "https://localhost:8080/"
        },
        "id": "empE0bje1i_J",
        "outputId": "dedd4b44-ffc2-44dc-d4e2-1fd756b052e6"
      },
      "execution_count": null,
      "outputs": [
        {
          "output_type": "execute_result",
          "data": {
            "text/plain": [
              "16374"
            ]
          },
          "metadata": {},
          "execution_count": 45
        }
      ]
    },
    {
      "cell_type": "code",
      "source": [
        ""
      ],
      "metadata": {
        "id": "4mPFrVZIg7JN"
      },
      "execution_count": null,
      "outputs": []
    }
  ]
}