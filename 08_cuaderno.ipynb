{
  "cells": [
    {
      "cell_type": "markdown",
      "metadata": {
        "id": "VvuVL0P4VxMP"
      },
      "source": [
        "#MultiSig De Nuevo\n",
        "\n",
        "<a href=\"https://colab.research.google.com/github/ProfDoeg/Colegio_Invisible/blob/master/08_cuaderno.ipynb\" target=\"_parent\"><img src=\"https://colab.research.google.com/assets/colab-badge.svg\" alt=\"Open In Colab\"/></a>"
      ]
    },
    {
      "cell_type": "markdown",
      "metadata": {
        "id": "wM-07E7SjTJW"
      },
      "source": [
        "# Preparar el Espacio (Prepare the Space)"
      ]
    },
    {
      "cell_type": "code",
      "execution_count": 1,
      "metadata": {
        "id": "wSOgJBxoVxMU",
        "colab": {
          "base_uri": "https://localhost:8080/"
        },
        "outputId": "4e72f04d-5f5f-41d6-c5a3-a2e12ac1965e"
      },
      "outputs": [
        {
          "output_type": "stream",
          "name": "stdout",
          "text": [
            "Collecting eciespy\n",
            "  Downloading eciespy-0.3.11-py3-none-any.whl (11 kB)\n",
            "Collecting eth_keys\n",
            "  Downloading eth_keys-0.4.0-py3-none-any.whl (21 kB)\n",
            "Collecting cryptos\n",
            "  Downloading cryptos-1.36-py3-none-any.whl (69 kB)\n",
            "\u001b[K     |████████████████████████████████| 69 kB 1.8 MB/s \n",
            "\u001b[?25hCollecting qrcode\n",
            "  Downloading qrcode-7.3.1.tar.gz (43 kB)\n",
            "\u001b[K     |████████████████████████████████| 43 kB 730 kB/s \n",
            "\u001b[?25hCollecting base58\n",
            "  Downloading base58-2.1.1-py3-none-any.whl (5.6 kB)\n",
            "Collecting pycryptodome<4.0.0,>=3.9.9\n",
            "  Downloading pycryptodome-3.14.1-cp35-abi3-manylinux2010_x86_64.whl (2.0 MB)\n",
            "\u001b[K     |████████████████████████████████| 2.0 MB 18.4 MB/s \n",
            "\u001b[?25hCollecting eth_keys\n",
            "  Downloading eth_keys-0.3.4-py3-none-any.whl (21 kB)\n",
            "Collecting coincurve<16,>=13\n",
            "  Downloading coincurve-15.0.1-cp37-cp37m-manylinux_2_17_x86_64.manylinux2014_x86_64.whl (555 kB)\n",
            "\u001b[K     |████████████████████████████████| 555 kB 33.9 MB/s \n",
            "\u001b[?25hCollecting eth-utils<2.0.0,>=1.8.2\n",
            "  Downloading eth_utils-1.10.0-py3-none-any.whl (24 kB)\n",
            "Collecting eth-typing<3.0.0,>=2.2.1\n",
            "  Downloading eth_typing-2.3.0-py3-none-any.whl (6.2 kB)\n",
            "Requirement already satisfied: cffi>=1.3.0 in /usr/local/lib/python3.7/dist-packages (from coincurve<16,>=13->eciespy) (1.15.0)\n",
            "Collecting asn1crypto\n",
            "  Downloading asn1crypto-1.5.1-py2.py3-none-any.whl (105 kB)\n",
            "\u001b[K     |████████████████████████████████| 105 kB 19.7 MB/s \n",
            "\u001b[?25hRequirement already satisfied: pycparser in /usr/local/lib/python3.7/dist-packages (from cffi>=1.3.0->coincurve<16,>=13->eciespy) (2.21)\n",
            "Collecting eth-hash<0.4.0,>=0.3.1\n",
            "  Downloading eth_hash-0.3.2-py3-none-any.whl (8.8 kB)\n",
            "Collecting cytoolz<1.0.0,>=0.10.1\n",
            "  Downloading cytoolz-0.11.2.tar.gz (481 kB)\n",
            "\u001b[K     |████████████████████████████████| 481 kB 41.0 MB/s \n",
            "\u001b[?25hRequirement already satisfied: toolz>=0.8.0 in /usr/local/lib/python3.7/dist-packages (from cytoolz<1.0.0,>=0.10.1->eth-utils<2.0.0,>=1.8.2->eth_keys) (0.11.2)\n",
            "Building wheels for collected packages: cytoolz, qrcode\n",
            "  Building wheel for cytoolz (setup.py) ... \u001b[?25l\u001b[?25hdone\n",
            "  Created wheel for cytoolz: filename=cytoolz-0.11.2-cp37-cp37m-linux_x86_64.whl size=1230870 sha256=275467476cd75e8e22072fed59c58d74e985d86b6e35005daa43d51e7a876e23\n",
            "  Stored in directory: /root/.cache/pip/wheels/38/70/71/ca13ea3d36ccd0b3d0ec7d7a4ca67522048d695b556bba4f59\n",
            "  Building wheel for qrcode (setup.py) ... \u001b[?25l\u001b[?25hdone\n",
            "  Created wheel for qrcode: filename=qrcode-7.3.1-py3-none-any.whl size=40402 sha256=eb6ad03111f8fbd8864fe3b58225682ff10dc9e9e3d8860f2fecb2af79df5fea\n",
            "  Stored in directory: /root/.cache/pip/wheels/93/d7/39/a4111be2cfb8e679938aa671a37888b6afb1f9e7d748e94492\n",
            "Successfully built cytoolz qrcode\n",
            "Installing collected packages: eth-typing, eth-hash, cytoolz, eth-utils, asn1crypto, pycryptodome, eth-keys, coincurve, qrcode, eciespy, cryptos, base58\n",
            "Successfully installed asn1crypto-1.5.1 base58-2.1.1 coincurve-15.0.1 cryptos-1.36 cytoolz-0.11.2 eciespy-0.3.11 eth-hash-0.3.2 eth-keys-0.3.4 eth-typing-2.3.0 eth-utils-1.10.0 pycryptodome-3.14.1 qrcode-7.3.1\n",
            "Cloning into 'Colegio_Invisible'...\n",
            "remote: Enumerating objects: 850, done.\u001b[K\n",
            "remote: Counting objects: 100% (664/664), done.\u001b[K\n",
            "remote: Compressing objects: 100% (639/639), done.\u001b[K\n",
            "remote: Total 850 (delta 447), reused 23 (delta 23), pack-reused 186\u001b[K\n",
            "Receiving objects: 100% (850/850), 57.39 MiB | 18.03 MiB/s, done.\n",
            "Resolving deltas: 100% (559/559), done.\n"
          ]
        }
      ],
      "source": [
        "! pip install eciespy eth_keys cryptos qrcode base58 \n",
        "! git clone https://github.com/ProfDoeg/Colegio_Invisible.git"
      ]
    },
    {
      "cell_type": "markdown",
      "metadata": {
        "id": "A1DQRCdLxW9P"
      },
      "source": [
        ""
      ]
    },
    {
      "cell_type": "markdown",
      "metadata": {
        "id": "N9BkUDVqjgdA"
      },
      "source": [
        "# Crear Transacciones de Criptomoneda (Create Cryptocurrency Transactions)\n",
        "\n",
        "## Esquema (Outline) \n",
        "\n",
        "***\n",
        "\n",
        " \n",
        "## Metas (Goals)\n",
        "***\n",
        "***\n",
        "By the end of this notebook you should be able to:\n",
        "***\n",
        "Al final de este cuaderno, usted debería ser capaz de:\n",
        "***\n",
        "***\n",
        "- Multisig\n",
        "-"
      ]
    },
    {
      "cell_type": "markdown",
      "metadata": {
        "id": "BETMcDza0M2m"
      },
      "source": [
        "# Importaciones y Definiciones (Imports and Definitions)\n",
        "\n",
        "Crear funciones para importar claves y direcciones de criptomonedas.\n",
        "***\n",
        "Create functions for importing keys and cryptocurrency addresses."
      ]
    },
    {
      "cell_type": "code",
      "execution_count": 28,
      "metadata": {
        "id": "phMoOlb1VxMT"
      },
      "outputs": [],
      "source": [
        "import hashlib\n",
        "import os\n",
        "import getpass\n",
        "import ecies\n",
        "import eth_keys\n",
        "import cryptos\n",
        "import qrcode\n",
        "import base58\n",
        "from PIL import Image\n",
        "import matplotlib.pyplot as plt\n",
        "%matplotlib inline"
      ]
    },
    {
      "cell_type": "code",
      "execution_count": 29,
      "metadata": {
        "id": "sPi_0BLRWa1z"
      },
      "outputs": [],
      "source": [
        "def import_privKey(privkey_filepath,password=None):\n",
        "    if password==None:\n",
        "        password = getpass.getpass(\"Input password for decrypting keyfile: \")\n",
        "    password=password.encode()\n",
        "    f=open(privkey_filepath,'rb')\n",
        "    decrypted_bytes=ecies.aes_decrypt(key=hashlib.sha256(password).digest(),cipher_text=f.read())\n",
        "    privKey=eth_keys.keys.PrivateKey(decrypted_bytes)\n",
        "    return privKey\n",
        "\n",
        "def import_pubKey(pubkey_filepath):\n",
        "    f=open(pubkey_filepath,'rb')\n",
        "    privKey=eth_keys.keys.PublicKey(f.read())\n",
        "    return privKey\n",
        "\n",
        "def import_addr(addr_filepath):\n",
        "    return open(addr_filepath,'rb').read().decode()"
      ]
    },
    {
      "cell_type": "markdown",
      "metadata": {
        "id": "yOcQvpiFXag0"
      },
      "source": [
        "# Comenzar con Claves Existentes (Start with Existing Keys)\n",
        "\n",
        "Acceder a las claves generadas en el cuaderno 5\n",
        "***\n",
        "Access the keys generated in the cuaderno 5"
      ]
    },
    {
      "cell_type": "markdown",
      "metadata": {
        "id": "0kYYEFx40an1"
      },
      "source": [
        "## Comenzar con Claves en Google Drive (Start with Keys on Google Drive)"
      ]
    },
    {
      "cell_type": "code",
      "execution_count": 4,
      "metadata": {
        "id": "DLmgNafNWa5O",
        "colab": {
          "base_uri": "https://localhost:8080/"
        },
        "outputId": "e0a9ecae-74bc-481d-c93c-73fae914fe21"
      },
      "outputs": [
        {
          "output_type": "stream",
          "name": "stdout",
          "text": [
            "Mounted at /content/drive\n"
          ]
        }
      ],
      "source": [
        "from google.colab import drive\n",
        "drive.mount('/content/drive')"
      ]
    },
    {
      "cell_type": "code",
      "execution_count": 5,
      "metadata": {
        "id": "x6oDx7tbWa72",
        "colab": {
          "base_uri": "https://localhost:8080/"
        },
        "outputId": "ef46db46-98a9-4253-eb1e-c727eac11bb9"
      },
      "outputs": [
        {
          "output_type": "stream",
          "name": "stdout",
          "text": [
            "Archive:  llaves.zip\n",
            "   creating: llaves/\n",
            " extracting: llaves/mi_addr.bin      \n",
            " extracting: llaves/mi_addr.png      \n",
            " extracting: llaves/mi_pub.bin       \n",
            " extracting: llaves/mi_prv.enc       \n"
          ]
        }
      ],
      "source": [
        "! cp drive/MyDrive/cinv/llaves.zip llaves.zip \n",
        "! unzip llaves.zip\n"
      ]
    },
    {
      "cell_type": "markdown",
      "metadata": {
        "id": "sPvP5mkdcRu6"
      },
      "source": [
        "## Comenzar con Claves en la Disco Local\n",
        "## (Start with Keys on Local Drive)"
      ]
    },
    {
      "cell_type": "code",
      "execution_count": null,
      "metadata": {
        "id": "HIfCIuaRWa_b"
      },
      "outputs": [],
      "source": [
        "#from google.colab import files\n",
        "#fu=files.upload();"
      ]
    },
    {
      "cell_type": "code",
      "execution_count": null,
      "metadata": {
        "id": "Mk7eTjCPWbCS"
      },
      "outputs": [],
      "source": [
        "#! unzip llaves.zip"
      ]
    },
    {
      "cell_type": "code",
      "execution_count": null,
      "metadata": {
        "id": "hmAorBMjeA8j"
      },
      "outputs": [],
      "source": [
        "#! ls llaves"
      ]
    },
    {
      "cell_type": "markdown",
      "metadata": {
        "id": "QCY7Dye8dlXo"
      },
      "source": [
        "# Import Private Key, Public Key and Address"
      ]
    },
    {
      "cell_type": "code",
      "execution_count": 34,
      "metadata": {
        "id": "P6sggp7WdmQ7",
        "colab": {
          "base_uri": "https://localhost:8080/",
          "height": 218
        },
        "outputId": "fd46e6ce-7611-4114-ac0e-59e72f4dc916"
      },
      "outputs": [
        {
          "output_type": "display_data",
          "data": {
            "text/plain": [
              "<IPython.core.display.Image object>"
            ],
            "image/png": "[encoded data removed]"
          },
          "metadata": {}
        },
        {
          "output_type": "display_data",
          "data": {
            "text/plain": [
              "'0x7c88e9a4df6e9f45656c10bf66f28e28be235a15b64820b254f1b9eb2738314e6769f5c94da0c7640ffe76dcffca053b07a0804cd53a1c51ad03bfe0133ce8c5'"
            ],
            "application/vnd.google.colaboratory.intrinsic+json": {
              "type": "string"
            }
          },
          "metadata": {}
        },
        {
          "output_type": "display_data",
          "data": {
            "text/plain": [
              "'D6zKNnkupqRbkB9p5rwix8QiobQWJazjyX'"
            ],
            "application/vnd.google.colaboratory.intrinsic+json": {
              "type": "string"
            }
          },
          "metadata": {}
        }
      ],
      "source": [
        "from IPython.display import Image\n",
        "qr=Image('llaves/mi_addr.png')\n",
        "\n",
        "privKey=import_privKey('llaves/mi_prv.enc','')\n",
        "pub=import_pubKey('llaves/mi_pub.bin').to_hex()\n",
        "addr=import_addr('llaves/mi_addr.bin')\n",
        "\n",
        "display(qr)\n",
        "display(pub)\n",
        "display(addr)"
      ]
    },
    {
      "cell_type": "markdown",
      "source": [
        "# Import "
      ],
      "metadata": {
        "id": "2eJi4dcY1HDK"
      }
    },
    {
      "cell_type": "markdown",
      "metadata": {
        "id": "84vTBrTc0hQm"
      },
      "source": [
        "# Connect to Colegio Message Spreadsheet"
      ]
    },
    {
      "cell_type": "markdown",
      "metadata": {
        "id": "1txSB4pVjGpU"
      },
      "source": [
        "## Decrypt Credentials\n",
        "\n",
        "$\\color{white}{\\text{c0leg101nv1s1ble}}$\n",
        "\n",
        "Use la contraseña de arriba para descifrar las credenciales\n",
        "***\n",
        "Use password above to decrypt credentials\n"
      ]
    },
    {
      "cell_type": "code",
      "execution_count": 35,
      "metadata": {
        "id": "7KJWkuzviJut",
        "colab": {
          "base_uri": "https://localhost:8080/"
        },
        "outputId": "135a3ecf-32a4-444c-f0a7-08f115393498"
      },
      "outputs": [
        {
          "output_type": "stream",
          "name": "stdout",
          "text": [
            "Éxito (Success): Colegio_Invisible/secrets/client_secret.aes decifrado con éxito (decryption complete)\n",
            "Escrito a (Written to): Colegio_Invisible/secrets/client_secret.json\n"
          ]
        }
      ],
      "source": [
        "! python Colegio_Invisible/scripts/aes_decrypt.py c0leg101nv1s1ble Colegio_Invisible/secrets/client_secret.aes Colegio_Invisible/secrets/client_secret.json "
      ]
    },
    {
      "cell_type": "markdown",
      "metadata": {
        "id": "IE3ReCLc0-Un"
      },
      "source": [
        "## Autenticar y Conectarse a la Google Sheet de Mensajes (Authenticate and Connect to Message Google Sheet)\n",
        "\n",
        "Autenticarse usando credenciales descifradas para la API de Google Drive.\\\n",
        "Use la biblioteca `gspread` para leer y escribir en una hoja de cálculo compartida.\n",
        "***\n",
        "Authenticate using decrypted credentials for Google Drive API.\\\n",
        "Use `gspread` library to read and write to shared spreadsheet."
      ]
    },
    {
      "cell_type": "code",
      "execution_count": 11,
      "metadata": {
        "id": "wAojvQCldmX0"
      },
      "outputs": [],
      "source": [
        "import gspread\n",
        "from oauth2client.service_account import ServiceAccountCredentials\n",
        "# use creds to create a client to interact with the Google Drive API\n",
        "scope = ['https://spreadsheets.google.com/feeds',\n",
        "         'https://www.googleapis.com/auth/drive']\n",
        "creds = ServiceAccountCredentials.from_json_keyfile_name('Colegio_Invisible/secrets/client_secret.json', scope)\n",
        "client = gspread.authorize(creds)\n",
        "sheets = client.open(\"signatures\")"
      ]
    },
    {
      "cell_type": "markdown",
      "metadata": {
        "id": "pcbvfyY42VGH"
      },
      "source": [
        "# Leer y Escribir en la Google Sheet de Mensajes (Read and Write to Messages Google Sheet)"
      ]
    },
    {
      "cell_type": "markdown",
      "metadata": {
        "id": "SjknPsHI1ks1"
      },
      "source": [
        "## Leer Google Sheet (Read Google Sheet)"
      ]
    },
    {
      "cell_type": "code",
      "execution_count": 13,
      "metadata": {
        "id": "BllKzSYnk6QG",
        "colab": {
          "base_uri": "https://localhost:8080/"
        },
        "outputId": "6fe49083-7d5d-4d6f-ccaa-8901aebaa277"
      },
      "outputs": [
        {
          "output_type": "execute_result",
          "data": {
            "text/plain": [
              "['name', 'address', 'pubkey']"
            ]
          },
          "metadata": {},
          "execution_count": 13
        }
      ],
      "source": [
        "sheet4=sheets.worksheets()[4]\n",
        "sheet4.row_values(1)"
      ]
    },
    {
      "cell_type": "code",
      "execution_count": null,
      "metadata": {
        "id": "aiq3qxz0lHjP"
      },
      "outputs": [],
      "source": [
        "#sheet4.clear()\n",
        "#sheet4.append_row([\"name\", \"address\",\"pubkey\"])"
      ]
    },
    {
      "cell_type": "markdown",
      "metadata": {
        "id": "jBL17WWm1shB"
      },
      "source": [
        "## Ingresar el Nombre (Input Name)"
      ]
    },
    {
      "cell_type": "code",
      "execution_count": 14,
      "metadata": {
        "id": "qcmkQn-nlq1a",
        "colab": {
          "base_uri": "https://localhost:8080/"
        },
        "outputId": "faf946fc-a153-457b-f8f0-23ed055f6f95"
      },
      "outputs": [
        {
          "name": "stdout",
          "output_type": "stream",
          "text": [
            "input nameDrDoeg\n"
          ]
        }
      ],
      "source": [
        "my_name=input('input name')"
      ]
    },
    {
      "cell_type": "markdown",
      "metadata": {
        "id": "px9ZVFpW6OJ7"
      },
      "source": [
        "## Leer Nombres Publicados (Read Posted Names)"
      ]
    },
    {
      "cell_type": "code",
      "execution_count": 36,
      "metadata": {
        "id": "jgODKrZC16-Q",
        "colab": {
          "base_uri": "https://localhost:8080/"
        },
        "outputId": "8ebc3afc-d272-4021-eb17-1a518e773c02"
      },
      "outputs": [
        {
          "output_type": "execute_result",
          "data": {
            "text/plain": [
              "['DrDoeg', 'Laura']"
            ]
          },
          "metadata": {},
          "execution_count": 36
        }
      ],
      "source": [
        "peeps=sheet4.col_values(1)[1:]\n",
        "peeps"
      ]
    },
    {
      "cell_type": "markdown",
      "metadata": {
        "id": "c0v2nESr6SvE"
      },
      "source": [
        "## Escribir en la Google Sheet para Publicar Nombre (Write to Google Sheet to Publish Name)\n",
        "\n",
        "Si el nombre está en la lista, escriba la dirección en la celda correspondiente de la hoja\\\n",
        "Si el nombre no está presente, agregue el nombre y la dirección a la hoja\n",
        "***\n",
        "If the name is in the list then write address to the appropriate cell of sheet\\\n",
        "If name is not present append name and address to sheet"
      ]
    },
    {
      "cell_type": "code",
      "source": [
        "pub"
      ],
      "metadata": {
        "colab": {
          "base_uri": "https://localhost:8080/",
          "height": 35
        },
        "id": "I1WwJ1jE4ETS",
        "outputId": "561220d4-d9ac-4b19-91a7-cf96123b2260"
      },
      "execution_count": 37,
      "outputs": [
        {
          "output_type": "execute_result",
          "data": {
            "text/plain": [
              "'0x7c88e9a4df6e9f45656c10bf66f28e28be235a15b64820b254f1b9eb2738314e6769f5c94da0c7640ffe76dcffca053b07a0804cd53a1c51ad03bfe0133ce8c5'"
            ],
            "application/vnd.google.colaboratory.intrinsic+json": {
              "type": "string"
            }
          },
          "metadata": {},
          "execution_count": 37
        }
      ]
    },
    {
      "cell_type": "code",
      "source": [
        "addr"
      ],
      "metadata": {
        "colab": {
          "base_uri": "https://localhost:8080/",
          "height": 35
        },
        "id": "t6-V8weP4HiG",
        "outputId": "b00dadcc-f8a5-46f8-ad03-0df1995d4602"
      },
      "execution_count": 38,
      "outputs": [
        {
          "output_type": "execute_result",
          "data": {
            "text/plain": [
              "'D6zKNnkupqRbkB9p5rwix8QiobQWJazjyX'"
            ],
            "application/vnd.google.colaboratory.intrinsic+json": {
              "type": "string"
            }
          },
          "metadata": {},
          "execution_count": 38
        }
      ]
    },
    {
      "cell_type": "code",
      "execution_count": 39,
      "metadata": {
        "id": "62v7BkKEl0XZ"
      },
      "outputs": [],
      "source": [
        "if not (my_name in peeps) :\n",
        "  sheet4.append_row([my_name,addr,pub])\n",
        "else:\n",
        "  sheet4.update_cell(row=peeps.index(my_name)+2,col=2,value=addr)\n",
        "  sheet4.update_cell(row=peeps.index(my_name)+2,col=3,value=pub)"
      ]
    },
    {
      "cell_type": "markdown",
      "metadata": {
        "id": "tqnTEwK16tVd"
      },
      "source": [
        "## Leer Claves Publicas (Read Public Keys)"
      ]
    },
    {
      "cell_type": "code",
      "execution_count": 43,
      "metadata": {
        "colab": {
          "base_uri": "https://localhost:8080/",
          "height": 147
        },
        "id": "FTpvcVvRlwCH",
        "outputId": "c5f1d0b8-4ee2-409e-e9b5-3029ab948a46"
      },
      "outputs": [
        {
          "output_type": "display_data",
          "data": {
            "text/plain": [
              "     name                             address  \\\n",
              "0  DrDoeg  D6zKNnkupqRbkB9p5rwix8QiobQWJazjyX   \n",
              "1   Laura  DJBkcc9zShCCWPTvPuLUiHQegNPbmMipEH   \n",
              "\n",
              "                                              pubkey  \n",
              "0  0x7c88e9a4df6e9f45656c10bf66f28e28be235a15b648...  \n",
              "1  0x2478459160f8e4563ad84a1faa998158c2e47b3c8eac...  "
            ],
            "text/html": [
              "\n",
              "  <div id=\"df-343e747f-92a3-4675-81a3-4ed668d3465b\">\n",
              "    <div class=\"colab-df-container\">\n",
              "      <div>\n",
              "<style scoped>\n",
              "    .dataframe tbody tr th:only-of-type {\n",
              "        vertical-align: middle;\n",
              "    }\n",
              "\n",
              "    .dataframe tbody tr th {\n",
              "        vertical-align: top;\n",
              "    }\n",
              "\n",
              "    .dataframe thead th {\n",
              "        text-align: right;\n",
              "    }\n",
              "</style>\n",
              "<table border=\"1\" class=\"dataframe\">\n",
              "  <thead>\n",
              "    <tr style=\"text-align: right;\">\n",
              "      <th></th>\n",
              "      <th>name</th>\n",
              "      <th>address</th>\n",
              "      <th>pubkey</th>\n",
              "    </tr>\n",
              "  </thead>\n",
              "  <tbody>\n",
              "    <tr>\n",
              "      <th>0</th>\n",
              "      <td>DrDoeg</td>\n",
              "      <td>D6zKNnkupqRbkB9p5rwix8QiobQWJazjyX</td>\n",
              "      <td>0x7c88e9a4df6e9f45656c10bf66f28e28be235a15b648...</td>\n",
              "    </tr>\n",
              "    <tr>\n",
              "      <th>1</th>\n",
              "      <td>Laura</td>\n",
              "      <td>DJBkcc9zShCCWPTvPuLUiHQegNPbmMipEH</td>\n",
              "      <td>0x2478459160f8e4563ad84a1faa998158c2e47b3c8eac...</td>\n",
              "    </tr>\n",
              "  </tbody>\n",
              "</table>\n",
              "</div>\n",
              "      <button class=\"colab-df-convert\" onclick=\"convertToInteractive('df-343e747f-92a3-4675-81a3-4ed668d3465b')\"\n",
              "              title=\"Convert this dataframe to an interactive table.\"\n",
              "              style=\"display:none;\">\n",
              "        \n",
              "  <svg xmlns=\"http://www.w3.org/2000/svg\" height=\"24px\"viewBox=\"0 0 24 24\"\n",
              "       width=\"24px\">\n",
              "    <path d=\"M0 0h24v24H0V0z\" fill=\"none\"/>\n",
              "    <path d=\"M18.56 5.44l.94 2.06.94-2.06 2.06-.94-2.06-.94-.94-2.06-.94 2.06-2.06.94zm-11 1L8.5 8.5l.94-2.06 2.06-.94-2.06-.94L8.5 2.5l-.94 2.06-2.06.94zm10 10l.94 2.06.94-2.06 2.06-.94-2.06-.94-.94-2.06-.94 2.06-2.06.94z\"/><path d=\"M17.41 7.96l-1.37-1.37c-.4-.4-.92-.59-1.43-.59-.52 0-1.04.2-1.43.59L10.3 9.45l-7.72 7.72c-.78.78-.78 2.05 0 2.83L4 21.41c.39.39.9.59 1.41.59.51 0 1.02-.2 1.41-.59l7.78-7.78 2.81-2.81c.8-.78.8-2.07 0-2.86zM5.41 20L4 18.59l7.72-7.72 1.47 1.35L5.41 20z\"/>\n",
              "  </svg>\n",
              "      </button>\n",
              "      \n",
              "  <style>\n",
              "    .colab-df-container {\n",
              "      display:flex;\n",
              "      flex-wrap:wrap;\n",
              "      gap: 12px;\n",
              "    }\n",
              "\n",
              "    .colab-df-convert {\n",
              "      background-color: #E8F0FE;\n",
              "      border: none;\n",
              "      border-radius: 50%;\n",
              "      cursor: pointer;\n",
              "      display: none;\n",
              "      fill: #1967D2;\n",
              "      height: 32px;\n",
              "      padding: 0 0 0 0;\n",
              "      width: 32px;\n",
              "    }\n",
              "\n",
              "    .colab-df-convert:hover {\n",
              "      background-color: #E2EBFA;\n",
              "      box-shadow: 0px 1px 2px rgba(60, 64, 67, 0.3), 0px 1px 3px 1px rgba(60, 64, 67, 0.15);\n",
              "      fill: #174EA6;\n",
              "    }\n",
              "\n",
              "    [theme=dark] .colab-df-convert {\n",
              "      background-color: #3B4455;\n",
              "      fill: #D2E3FC;\n",
              "    }\n",
              "\n",
              "    [theme=dark] .colab-df-convert:hover {\n",
              "      background-color: #434B5C;\n",
              "      box-shadow: 0px 1px 3px 1px rgba(0, 0, 0, 0.15);\n",
              "      filter: drop-shadow(0px 1px 2px rgba(0, 0, 0, 0.3));\n",
              "      fill: #FFFFFF;\n",
              "    }\n",
              "  </style>\n",
              "\n",
              "      <script>\n",
              "        const buttonEl =\n",
              "          document.querySelector('#df-343e747f-92a3-4675-81a3-4ed668d3465b button.colab-df-convert');\n",
              "        buttonEl.style.display =\n",
              "          google.colab.kernel.accessAllowed ? 'block' : 'none';\n",
              "\n",
              "        async function convertToInteractive(key) {\n",
              "          const element = document.querySelector('#df-343e747f-92a3-4675-81a3-4ed668d3465b');\n",
              "          const dataTable =\n",
              "            await google.colab.kernel.invokeFunction('convertToInteractive',\n",
              "                                                     [key], {});\n",
              "          if (!dataTable) return;\n",
              "\n",
              "          const docLinkHtml = 'Like what you see? Visit the ' +\n",
              "            '<a target=\"_blank\" href=https://colab.research.google.com/notebooks/data_table.ipynb>data table notebook</a>'\n",
              "            + ' to learn more about interactive tables.';\n",
              "          element.innerHTML = '';\n",
              "          dataTable['output_type'] = 'display_data';\n",
              "          await google.colab.output.renderOutput(dataTable, element);\n",
              "          const docLink = document.createElement('div');\n",
              "          docLink.innerHTML = docLinkHtml;\n",
              "          element.appendChild(docLink);\n",
              "        }\n",
              "      </script>\n",
              "    </div>\n",
              "  </div>\n",
              "  "
            ]
          },
          "metadata": {}
        },
        {
          "output_type": "display_data",
          "data": {
            "text/plain": [
              "['047c88e9a4df6e9f45656c10bf66f28e28be235a15b64820b254f1b9eb2738314e6769f5c94da0c7640ffe76dcffca053b07a0804cd53a1c51ad03bfe0133ce8c5',\n",
              " '042478459160f8e4563ad84a1faa998158c2e47b3c8eac04654ca30f892d4c873db08339cabb0f5c775f1f798919ab4ce5772666a88ea39cf811b73c95d28ee9f9']"
            ]
          },
          "metadata": {}
        }
      ],
      "source": [
        "import pandas as pd\n",
        "\n",
        "sheet4=sheets.worksheets()[4]\n",
        "dataframe4 = pd.DataFrame(sheet4.get_all_records())\n",
        "display(dataframe4)\n",
        "\n",
        "pubs = dataframe4.pubkey.tolist()\n",
        "pubs = [ '04'+pb[2:] for pb in pubs ]\n",
        "display(pubs)"
      ]
    },
    {
      "cell_type": "code",
      "source": [
        "pubs = dataframe4.pubkey.tolist()\n",
        "pubs = [ '04'+pb[2:] for pb in pubs ]\n",
        "pubs"
      ],
      "metadata": {
        "colab": {
          "base_uri": "https://localhost:8080/"
        },
        "id": "fx1oXYmm7YuE",
        "outputId": "7e2ed7d1-6a4c-4637-e20e-772401b8010b"
      },
      "execution_count": 25,
      "outputs": [
        {
          "output_type": "execute_result",
          "data": {
            "text/plain": [
              "['047c88e9a4df6e9f45656c10bf66f28e28be235a15b64820b254f1b9eb2738314e6769f5c94da0c7640ffe76dcffca053b07a0804cd53a1c51ad03bfe0133ce8c5',\n",
              " '042478459160f8e4563ad84a1faa998158c2e47b3c8eac04654ca30f892d4c873db08339cabb0f5c775f1f798919ab4ce5772666a88ea39cf811b73c95d28ee9f9']"
            ]
          },
          "metadata": {},
          "execution_count": 25
        }
      ]
    },
    {
      "cell_type": "markdown",
      "metadata": {
        "id": "urg0zfXO22qn"
      },
      "source": [
        "# Create the Multisig Address"
      ]
    },
    {
      "cell_type": "markdown",
      "metadata": {
        "id": "I4OpF8TV69_A"
      },
      "source": [
        "## Importar 'cryptos' y Crear un Objeto de Dogecoin (Import `cryptos` and Create Dogecoin Object)"
      ]
    },
    {
      "cell_type": "code",
      "execution_count": 52,
      "metadata": {
        "id": "qgRWDKftnWuo",
        "colab": {
          "base_uri": "https://localhost:8080/",
          "height": 71
        },
        "outputId": "a4b3ebe5-5377-46d5-e2da-250b5f6af284"
      },
      "outputs": [
        {
          "output_type": "display_data",
          "data": {
            "text/plain": [
              "'5241047c88e9a4df6e9f45656c10bf66f28e28be235a15b64820b254f1b9eb2738314e6769f5c94da0c7640ffe76dcffca053b07a0804cd53a1c51ad03bfe0133ce8c541042478459160f8e4563ad84a1faa998158c2e47b3c8eac04654ca30f892d4c873db08339cabb0f5c775f1f798919ab4ce5772666a88ea39cf811b73c95d28ee9f952ae'"
            ],
            "application/vnd.google.colaboratory.intrinsic+json": {
              "type": "string"
            }
          },
          "metadata": {}
        },
        {
          "output_type": "display_data",
          "data": {
            "text/plain": [
              "'9vvCKFQYC4r4C3ZUsNZqyxkxV4YgFEiNDg'"
            ],
            "application/vnd.google.colaboratory.intrinsic+json": {
              "type": "string"
            }
          },
          "metadata": {}
        }
      ],
      "source": [
        "import cryptos\n",
        "doge=cryptos.Doge()\n",
        "doge.script_magicbyte=22\n",
        "multi_tup=doge.mk_multsig_address(pubs,2)\n",
        "multi_script,multi_addr=multi_tup\n",
        "display(multi_script)\n",
        "display(multi_addr)"
      ]
    },
    {
      "cell_type": "markdown",
      "source": [
        "# Create a Transaction from Funded MultiSig"
      ],
      "metadata": {
        "id": "q8fUDTI6G9ZI"
      }
    },
    {
      "cell_type": "markdown",
      "metadata": {
        "id": "VEAUYQzS3oNH"
      },
      "source": [
        "## Las Entradas (Inputs)"
      ]
    },
    {
      "cell_type": "markdown",
      "metadata": {
        "id": "EqKLFurZ7EaA"
      },
      "source": [
        "### Identificar la Dirección de Financiación (Identify Funding Address)"
      ]
    },
    {
      "cell_type": "markdown",
      "metadata": {
        "id": "-pPp22Q17NdY"
      },
      "source": [
        "### Determinar las Entradas de UTXO (Determine UTXO Inputs)\n",
        "\n",
        "***\n",
        "***\n",
        "Los UTXO son salidas de transacciones no gastadas. Comenzamos revisando la cadena de bloques para identificar las monedas que la dirección de financiación ha recibido pero que aún no ha gastado. Estos son UTXO.\n",
        "***\n",
        "UTXOs are Unspent Transaction Outputs. We start by checking the blockchain to identify coins the funding address has received but has not yet spent. These are UTXOs. \n",
        "***\n",
        "***\n",
        "\n",
        "Cada UTXO contiene (each UTXO contains):\n",
        "- valor (value)\n",
        "- transacción (transaction)\n",
        "  - hash (hash)\n",
        "  - índice (index)"
      ]
    },
    {
      "cell_type": "code",
      "execution_count": 53,
      "metadata": {
        "colab": {
          "base_uri": "https://localhost:8080/"
        },
        "id": "pE9-8fKVnm09",
        "outputId": "8ba01b58-85e8-4a0d-bf4c-3fe88603c4bf"
      },
      "outputs": [
        {
          "output_type": "execute_result",
          "data": {
            "text/plain": [
              "[{'output': '9acd7bee16c465f059ff75d1e3773b1daa90ff5e1c59bfe83e6dd97f196f0e7b:0',\n",
              "  'value': 1900000000}]"
            ]
          },
          "metadata": {},
          "execution_count": 53
        }
      ],
      "source": [
        "#UTXOS\n",
        "unspents=doge.unspent(multi_addr)\n",
        "unspents"
      ]
    },
    {
      "cell_type": "markdown",
      "metadata": {
        "id": "eFg05v_CLnUH"
      },
      "source": [
        "### Satoshis\n",
        "\n",
        "El valor se informa en unidades de Satoshis/Dogetoshis. Un Satoshi es un $\\frac{1}{100,000,000}$ de una moneda.\n",
        "***\n",
        "The value is reported in units of Satoshis/Dogetoshis. A Satoshi is $\\frac{1}{100,000,000}$ of a coin."
      ]
    },
    {
      "cell_type": "markdown",
      "metadata": {
        "id": "9b9ut-cB7dqw"
      },
      "source": [
        "### Sumar Salidas No Gastadas (Sum Unspent Outputs)"
      ]
    },
    {
      "cell_type": "code",
      "execution_count": 54,
      "metadata": {
        "colab": {
          "base_uri": "https://localhost:8080/"
        },
        "id": "s0iz3fLn5k29",
        "outputId": "bce79858-c9dd-40ae-f993-e49196eff1d3"
      },
      "outputs": [
        {
          "output_type": "execute_result",
          "data": {
            "text/plain": [
              "1900000000"
            ]
          },
          "metadata": {},
          "execution_count": 54
        }
      ],
      "source": [
        "unspent_total=sum([unspent['value'] for unspent in unspents])\n",
        "unspent_total"
      ]
    },
    {
      "cell_type": "markdown",
      "metadata": {
        "id": "ptMLdngF3v-U"
      },
      "source": [
        "## Salidas (Outputs)"
      ]
    },
    {
      "cell_type": "markdown",
      "metadata": {
        "id": "HGWo-6mW399r"
      },
      "source": [
        "### Calcular Valores de Salida (Calculate Output Values)\n",
        "\n",
        "- `mining_fee`: cantidad entregada a los mineros\\\n",
        "(amount given to miners)\n",
        "- `change`: cantidad sobrante que el remitente enviará a una dirección de cambio\\\n",
        "(the left over amount that the sender will send to a change address)"
      ]
    },
    {
      "cell_type": "code",
      "execution_count": 55,
      "metadata": {
        "id": "ExFkHqcUGAEl",
        "colab": {
          "base_uri": "https://localhost:8080/"
        },
        "outputId": "2b1e1009-98fb-4c95-9096-e1065c9d8327"
      },
      "outputs": [
        {
          "output_type": "execute_result",
          "data": {
            "text/plain": [
              "1800000000"
            ]
          },
          "metadata": {},
          "execution_count": 55
        }
      ],
      "source": [
        "mining_fee = 1_00_000_000\n",
        "gift = unspent_total - mining_fee\n",
        "gift"
      ]
    },
    {
      "cell_type": "markdown",
      "metadata": {
        "id": "GkZ4MaOI4H7X"
      },
      "source": [
        "### Construir Lista de Salidas (Construct Output List)\n",
        "***\n",
        "***\n",
        "Crear salidas que incluyan:\n",
        "***\n",
        "Create outputs including:\n",
        "***\n",
        "***\n",
        "- `gift` regalo a nos\\\n",
        " (`gift` to us)"
      ]
    },
    {
      "cell_type": "code",
      "execution_count": 56,
      "metadata": {
        "colab": {
          "base_uri": "https://localhost:8080/"
        },
        "id": "GcWKCCrCK2sN",
        "outputId": "826838a2-61cd-4137-fb66-c55a7ce1db05"
      },
      "outputs": [
        {
          "output_type": "execute_result",
          "data": {
            "text/plain": [
              "[{'address': '9vvCKFQYC4r4C3ZUsNZqyxkxV4YgFEiNDg', 'value': 1800000000}]"
            ]
          },
          "metadata": {},
          "execution_count": 56
        }
      ],
      "source": [
        "outputs=[{'value': gift, 'address': multi_addr}]\n",
        "outputs"
      ]
    },
    {
      "cell_type": "markdown",
      "metadata": {
        "id": "0RQU2CM3CLcq"
      },
      "source": [
        "\n",
        "## Hacer Transacción de Financiamiento (Make Funding Transaction)"
      ]
    },
    {
      "cell_type": "code",
      "execution_count": null,
      "metadata": {
        "colab": {
          "base_uri": "https://localhost:8080/"
        },
        "id": "AvPMjFT5-8-i",
        "outputId": "4a2191cc-bbf5-46fa-fe32-5ab0e456378b"
      },
      "outputs": [
        {
          "output_type": "execute_result",
          "data": {
            "text/plain": [
              "{'ins': [{'amount': 4200000000,\n",
              "   'outpoint': {'hash': '98d01787a9f8722c154402e18e59c4251d4583e36067a7013826bc3343fb13af',\n",
              "    'index': 0},\n",
              "   'script': '',\n",
              "   'sequence': 4294967295}],\n",
              " 'locktime': 0,\n",
              " 'outs': [{'script': '76a914144739367df0ff8d1c61d03704298d49cf93ef3f88ac',\n",
              "   'value': 1000000000},\n",
              "  {'script': '76a9148f1a4020cc7a25b8adfe2a04c7a8fe72c8a7665a88ac',\n",
              "   'value': 1000000000},\n",
              "  {'script': '76a914144739367df0ff8d1c61d03704298d49cf93ef3f88ac',\n",
              "   'value': 2100000000}],\n",
              " 'version': 1}"
            ]
          },
          "metadata": {},
          "execution_count": 119
        }
      ],
      "source": [
        "self_txn=doge.mktx(unspents,outputs )\n",
        "self_txn"
      ]
    },
    {
      "cell_type": "markdown",
      "metadata": {
        "id": "aWB-diD2B4KJ"
      },
      "source": [
        "## Firmar Transacción de Financiamiento (Sign Funding Transaction)"
      ]
    },
    {
      "cell_type": "code",
      "execution_count": null,
      "metadata": {
        "colab": {
          "base_uri": "https://localhost:8080/",
          "height": 106
        },
        "id": "WNLLf9_CDhEt",
        "outputId": "55b6c15b-e557-4092-80ba-9c16fdfd3449"
      },
      "outputs": [
        {
          "output_type": "execute_result",
          "data": {
            "text/plain": [
              "'0100000001af13fb4333bc263801a76760e383451d25c4598ee10244152c72f8a98717d098000000008b483045022100dff5ab367016ca22e580f4cbad53002debaea04876cfd9146afe3f7c80f4216b02206d9025334c67d36a50c6e0142fc8020d433e373227249fc3748b36dfe8e903990141047c88e9a4df6e9f45656c10bf66f28e28be235a15b64820b254f1b9eb2738314e6769f5c94da0c7640ffe76dcffca053b07a0804cd53a1c51ad03bfe0133ce8c5ffffffff0300ca9a3b000000001976a914144739367df0ff8d1c61d03704298d49cf93ef3f88ac00ca9a3b000000001976a9148f1a4020cc7a25b8adfe2a04c7a8fe72c8a7665a88ac00752b7d000000001976a914144739367df0ff8d1c61d03704298d49cf93ef3f88ac00000000'"
            ],
            "application/vnd.google.colaboratory.intrinsic+json": {
              "type": "string"
            }
          },
          "metadata": {},
          "execution_count": 120
        }
      ],
      "source": [
        "doge.signall(fund_txn,privKey.to_hex()[2:])"
      ]
    },
    {
      "cell_type": "code",
      "execution_count": null,
      "metadata": {
        "colab": {
          "base_uri": "https://localhost:8080/"
        },
        "id": "qb9yNJodD1ua",
        "outputId": "67c3cbf0-6589-4104-c17e-f35a13fa3b83"
      },
      "outputs": [
        {
          "output_type": "execute_result",
          "data": {
            "text/plain": [
              "{'ins': [{'amount': 4200000000,\n",
              "   'outpoint': {'hash': '98d01787a9f8722c154402e18e59c4251d4583e36067a7013826bc3343fb13af',\n",
              "    'index': 0},\n",
              "   'script': '483045022100dff5ab367016ca22e580f4cbad53002debaea04876cfd9146afe3f7c80f4216b02206d9025334c67d36a50c6e0142fc8020d433e373227249fc3748b36dfe8e903990141047c88e9a4df6e9f45656c10bf66f28e28be235a15b64820b254f1b9eb2738314e6769f5c94da0c7640ffe76dcffca053b07a0804cd53a1c51ad03bfe0133ce8c5',\n",
              "   'sequence': 4294967295}],\n",
              " 'locktime': 0,\n",
              " 'outs': [{'script': '76a914144739367df0ff8d1c61d03704298d49cf93ef3f88ac',\n",
              "   'value': 1000000000},\n",
              "  {'script': '76a9148f1a4020cc7a25b8adfe2a04c7a8fe72c8a7665a88ac',\n",
              "   'value': 1000000000},\n",
              "  {'script': '76a914144739367df0ff8d1c61d03704298d49cf93ef3f88ac',\n",
              "   'value': 2100000000}],\n",
              " 'version': 1}"
            ]
          },
          "metadata": {},
          "execution_count": 121
        }
      ],
      "source": [
        "fund_txn"
      ]
    },
    {
      "cell_type": "code",
      "execution_count": null,
      "metadata": {
        "colab": {
          "base_uri": "https://localhost:8080/",
          "height": 106
        },
        "id": "y1F5mNnND-6y",
        "outputId": "9531411b-a898-4a5e-ab88-09d14843378b"
      },
      "outputs": [
        {
          "output_type": "execute_result",
          "data": {
            "text/plain": [
              "'0100000001af13fb4333bc263801a76760e383451d25c4598ee10244152c72f8a98717d098000000008b483045022100dff5ab367016ca22e580f4cbad53002debaea04876cfd9146afe3f7c80f4216b02206d9025334c67d36a50c6e0142fc8020d433e373227249fc3748b36dfe8e903990141047c88e9a4df6e9f45656c10bf66f28e28be235a15b64820b254f1b9eb2738314e6769f5c94da0c7640ffe76dcffca053b07a0804cd53a1c51ad03bfe0133ce8c5ffffffff0300ca9a3b000000001976a914144739367df0ff8d1c61d03704298d49cf93ef3f88ac00ca9a3b000000001976a9148f1a4020cc7a25b8adfe2a04c7a8fe72c8a7665a88ac00752b7d000000001976a914144739367df0ff8d1c61d03704298d49cf93ef3f88ac00000000'"
            ],
            "application/vnd.google.colaboratory.intrinsic+json": {
              "type": "string"
            }
          },
          "metadata": {},
          "execution_count": 122
        }
      ],
      "source": [
        "fund_txn_hex=cryptos.serialize(fund_txn)\n",
        "fund_txn_hex"
      ]
    },
    {
      "cell_type": "markdown",
      "metadata": {
        "id": "HAdwajyjFW0i"
      },
      "source": [
        "## Comprobar el Tamaño en Kilobytes de la Transacción (Check Kilobyte Size of Transaction)\n",
        "\n",
        "https://chain.so/DOGE"
      ]
    },
    {
      "cell_type": "code",
      "execution_count": null,
      "metadata": {
        "colab": {
          "base_uri": "https://localhost:8080/"
        },
        "id": "xhQCkpBLFXXA",
        "outputId": "4fc8dfa5-77b8-4a00-8de7-1b294b83522a"
      },
      "outputs": [
        {
          "output_type": "execute_result",
          "data": {
            "text/plain": [
              "0.292"
            ]
          },
          "metadata": {},
          "execution_count": 123
        }
      ],
      "source": [
        "kb=len(fund_txn_hex)/2000\n",
        "kb"
      ]
    },
    {
      "cell_type": "code",
      "execution_count": null,
      "metadata": {
        "colab": {
          "base_uri": "https://localhost:8080/"
        },
        "id": "oGEUIJmJFzMi",
        "outputId": "a9d080d4-5cc5-4674-e0ae-f76cf84decc8"
      },
      "outputs": [
        {
          "output_type": "execute_result",
          "data": {
            "text/plain": [
              "3.4246575342465757"
            ]
          },
          "metadata": {},
          "execution_count": 124
        }
      ],
      "source": [
        "\n",
        "mining_fee/1E8/kb"
      ]
    },
    {
      "cell_type": "markdown",
      "metadata": {
        "id": "0tkeC4o0EjjA"
      },
      "source": [
        "## Transmitir la Transacción (Broadcast Transaction)"
      ]
    },
    {
      "cell_type": "code",
      "execution_count": null,
      "metadata": {
        "colab": {
          "base_uri": "https://localhost:8080/"
        },
        "id": "BqrRV5E8EfmQ",
        "outputId": "12ec76c3-75d7-46db-f371-926b9618709d"
      },
      "outputs": [
        {
          "output_type": "execute_result",
          "data": {
            "text/plain": [
              "{'data': {'network': 'DOGE',\n",
              "  'txid': '2e06d1607e15d8be9e7892f56bbad77f647af30538c3f2ab88835ed9200fcd94'},\n",
              " 'status': 'success'}"
            ]
          },
          "metadata": {},
          "execution_count": 125
        }
      ],
      "source": [
        "broadcast_fund_txn=doge.pushtx(fund_txn_hex)\n",
        "broadcast_fund_txn"
      ]
    },
    {
      "cell_type": "markdown",
      "metadata": {
        "id": "o_DwTVZYElzf"
      },
      "source": [
        "## Inspeccionar la Transacción (Inspect Transaction)"
      ]
    },
    {
      "cell_type": "code",
      "execution_count": null,
      "metadata": {
        "colab": {
          "base_uri": "https://localhost:8080/"
        },
        "id": "rcSsInUZEmMM",
        "outputId": "9e2206d6-1dd9-443e-facc-f9ae834930c6"
      },
      "outputs": [
        {
          "output_type": "execute_result",
          "data": {
            "text/plain": [
              "{'blockhash': '580f88a5f3218d13ef9c54d746ca5eb44c19b0e3bd143af4e4d1925ba6020976',\n",
              " 'confirmations': 1,\n",
              " 'inputs': [{'address': 'D6zKNnkupqRbkB9p5rwix8QiobQWJazjyX',\n",
              "   'from_output': {'output_no': 0,\n",
              "    'txid': '98d01787a9f8722c154402e18e59c4251d4583e36067a7013826bc3343fb13af'},\n",
              "   'input_no': 0,\n",
              "   'script': '3045022100dff5ab367016ca22e580f4cbad53002debaea04876cfd9146afe3f7c80f4216b02206d9025334c67d36a50c6e0142fc8020d433e373227249fc3748b36dfe8e9039901 047c88e9a4df6e9f45656c10bf66f28e28be235a15b64820b254f1b9eb2738314e6769f5c94da0c7640ffe76dcffca053b07a0804cd53a1c51ad03bfe0133ce8c5',\n",
              "   'sequence': 4294967295,\n",
              "   'type': 'pubkeyhash',\n",
              "   'value': '42.00000000',\n",
              "   'witness': None}],\n",
              " 'locktime': 0,\n",
              " 'network': 'DOGE',\n",
              " 'network_fee': '1.00000000',\n",
              " 'outputs': [{'address': 'D6zKNnkupqRbkB9p5rwix8QiobQWJazjyX',\n",
              "   'output_no': 0,\n",
              "   'script': 'OP_DUP OP_HASH160 144739367df0ff8d1c61d03704298d49cf93ef3f OP_EQUALVERIFY OP_CHECKSIG',\n",
              "   'type': 'pubkeyhash',\n",
              "   'value': '10.00000000'},\n",
              "  {'address': 'DJBkcc9zShCCWPTvPuLUiHQegNPbmMipEH',\n",
              "   'output_no': 1,\n",
              "   'script': 'OP_DUP OP_HASH160 8f1a4020cc7a25b8adfe2a04c7a8fe72c8a7665a OP_EQUALVERIFY OP_CHECKSIG',\n",
              "   'type': 'pubkeyhash',\n",
              "   'value': '10.00000000'},\n",
              "  {'address': 'D6zKNnkupqRbkB9p5rwix8QiobQWJazjyX',\n",
              "   'output_no': 2,\n",
              "   'script': 'OP_DUP OP_HASH160 144739367df0ff8d1c61d03704298d49cf93ef3f OP_EQUALVERIFY OP_CHECKSIG',\n",
              "   'type': 'pubkeyhash',\n",
              "   'value': '21.00000000'}],\n",
              " 'size': 292,\n",
              " 'time': 1647793916,\n",
              " 'tx_hex': '0100000001af13fb4333bc263801a76760e383451d25c4598ee10244152c72f8a98717d098000000008b483045022100dff5ab367016ca22e580f4cbad53002debaea04876cfd9146afe3f7c80f4216b02206d9025334c67d36a50c6e0142fc8020d433e373227249fc3748b36dfe8e903990141047c88e9a4df6e9f45656c10bf66f28e28be235a15b64820b254f1b9eb2738314e6769f5c94da0c7640ffe76dcffca053b07a0804cd53a1c51ad03bfe0133ce8c5ffffffff0300ca9a3b000000001976a914144739367df0ff8d1c61d03704298d49cf93ef3f88ac00ca9a3b000000001976a9148f1a4020cc7a25b8adfe2a04c7a8fe72c8a7665a88ac00752b7d000000001976a914144739367df0ff8d1c61d03704298d49cf93ef3f88ac00000000',\n",
              " 'txid': '2e06d1607e15d8be9e7892f56bbad77f647af30538c3f2ab88835ed9200fcd94',\n",
              " 'version': 1,\n",
              " 'vsize': 292}"
            ]
          },
          "metadata": {},
          "execution_count": 128
        }
      ],
      "source": [
        "inspect_fund_txn=doge.fetchtx( broadcast_fund_txn['data']['txid'])\n",
        "inspect_fund_txn"
      ]
    },
    {
      "cell_type": "markdown",
      "metadata": {
        "id": "PEeT1FR9bRhG"
      },
      "source": [
        "# Devolver la Criptomoneda (Return Coins)"
      ]
    },
    {
      "cell_type": "markdown",
      "metadata": {
        "id": "mGBBhevI6E42"
      },
      "source": [
        "## Construir la Transacción de Devolver (Construct Return Transaction)"
      ]
    },
    {
      "cell_type": "markdown",
      "metadata": {
        "id": "IcBKlHhv6NgZ"
      },
      "source": [
        "### Entradas (Inputs)"
      ]
    },
    {
      "cell_type": "code",
      "execution_count": null,
      "metadata": {
        "colab": {
          "base_uri": "https://localhost:8080/"
        },
        "id": "sAAjmEc7EmT-",
        "outputId": "6ae1e76e-680e-4b48-d597-97ec34b7105c"
      },
      "outputs": [
        {
          "output_type": "execute_result",
          "data": {
            "text/plain": [
              "[{'output': '2e06d1607e15d8be9e7892f56bbad77f647af30538c3f2ab88835ed9200fcd94:0',\n",
              "  'value': 1000000000}]"
            ]
          },
          "metadata": {},
          "execution_count": 135
        }
      ],
      "source": [
        "mi_unspents=doge.unspent(addr)[:1]\n",
        "mi_unspents\n"
      ]
    },
    {
      "cell_type": "code",
      "source": [
        "all_unspents=[ doge.unspent(addy)[0] for addy in addresses ]\n",
        "all_unspents"
      ],
      "metadata": {
        "colab": {
          "base_uri": "https://localhost:8080/"
        },
        "id": "wSMprZNCL4QL",
        "outputId": "ff57ecbd-1efc-4fc9-fcf0-9d7e1f8ff8cd"
      },
      "execution_count": null,
      "outputs": [
        {
          "output_type": "execute_result",
          "data": {
            "text/plain": [
              "[{'output': '2e06d1607e15d8be9e7892f56bbad77f647af30538c3f2ab88835ed9200fcd94:0',\n",
              "  'value': 1000000000},\n",
              " {'output': '2e06d1607e15d8be9e7892f56bbad77f647af30538c3f2ab88835ed9200fcd94:1',\n",
              "  'value': 1000000000}]"
            ]
          },
          "metadata": {},
          "execution_count": 137
        }
      ]
    },
    {
      "cell_type": "code",
      "execution_count": null,
      "metadata": {
        "colab": {
          "base_uri": "https://localhost:8080/"
        },
        "id": "B8NpTvfAY94c",
        "outputId": "6c850a55-e050-4beb-e1fe-f8343042871f"
      },
      "outputs": [
        {
          "output_type": "execute_result",
          "data": {
            "text/plain": [
              "2000000000"
            ]
          },
          "metadata": {},
          "execution_count": 138
        }
      ],
      "source": [
        "all_unspent_total=sum([unspent['value'] for unspent in all_unspents])\n",
        "all_unspent_total"
      ]
    },
    {
      "cell_type": "markdown",
      "metadata": {
        "id": "mrhpz6Uu6UiL"
      },
      "source": [
        "### Salidas (Outputs)"
      ]
    },
    {
      "cell_type": "code",
      "execution_count": null,
      "metadata": {
        "colab": {
          "base_uri": "https://localhost:8080/"
        },
        "id": "FPXpqiQmZM9m",
        "outputId": "4d84044b-9d50-45ad-c5ec-0c05a2df74c3"
      },
      "outputs": [
        {
          "output_type": "execute_result",
          "data": {
            "text/plain": [
              "1900000000"
            ]
          },
          "metadata": {},
          "execution_count": 139
        }
      ],
      "source": [
        "mi_mining_fee = 1_00_000_000\n",
        "disponible = all_unspent_total - mi_mining_fee\n",
        "disponible"
      ]
    },
    {
      "cell_type": "code",
      "source": [
        "multi_addr=multi_tup[1]\n",
        "multi_addr"
      ],
      "metadata": {
        "colab": {
          "base_uri": "https://localhost:8080/",
          "height": 35
        },
        "id": "1RqEPDY_NWtX",
        "outputId": "57a9f2e6-413d-4364-f48e-278778d75b87"
      },
      "execution_count": null,
      "outputs": [
        {
          "output_type": "execute_result",
          "data": {
            "text/plain": [
              "'9vvCKFQYC4r4C3ZUsNZqyxkxV4YgFEiNDg'"
            ],
            "application/vnd.google.colaboratory.intrinsic+json": {
              "type": "string"
            }
          },
          "metadata": {},
          "execution_count": 142
        }
      ]
    },
    {
      "cell_type": "code",
      "execution_count": null,
      "metadata": {
        "colab": {
          "base_uri": "https://localhost:8080/"
        },
        "id": "ddlAokUEbSq9",
        "outputId": "3e5721ab-7482-4c97-995f-e681aff5394a"
      },
      "outputs": [
        {
          "output_type": "execute_result",
          "data": {
            "text/plain": [
              "[{'address': '9vvCKFQYC4r4C3ZUsNZqyxkxV4YgFEiNDg', 'value': 1900000000}]"
            ]
          },
          "metadata": {},
          "execution_count": 143
        }
      ],
      "source": [
        "destinos=[{'value': disponible, 'address': multi_addr} ]\n",
        "destinos"
      ]
    },
    {
      "cell_type": "markdown",
      "metadata": {
        "id": "urwleyYGq1G0"
      },
      "source": [
        "## Pare !! Ladrón !! (Stop Thief)\n",
        "\n",
        "Para robar las monedas en lugar de devolverlas, ejecute las celdas **`Ladrón`** al final del cuaderno.\n",
        "***\n",
        "To steal the coins instead of returning them, run the **`Ladrón`** cells at the end of the notebook."
      ]
    },
    {
      "cell_type": "markdown",
      "metadata": {
        "id": "NFyHIOEw6gpJ"
      },
      "source": [
        "### Construcción (Constuction)"
      ]
    },
    {
      "cell_type": "code",
      "execution_count": null,
      "metadata": {
        "colab": {
          "base_uri": "https://localhost:8080/"
        },
        "id": "UeGISrRzbEBm",
        "outputId": "4b146265-3153-49be-a277-1c89aa047230"
      },
      "outputs": [
        {
          "output_type": "execute_result",
          "data": {
            "text/plain": [
              "{'ins': [{'amount': 1000000000,\n",
              "   'outpoint': {'hash': '2e06d1607e15d8be9e7892f56bbad77f647af30538c3f2ab88835ed9200fcd94',\n",
              "    'index': 0},\n",
              "   'script': '',\n",
              "   'sequence': 4294967295},\n",
              "  {'amount': 1000000000,\n",
              "   'outpoint': {'hash': '2e06d1607e15d8be9e7892f56bbad77f647af30538c3f2ab88835ed9200fcd94',\n",
              "    'index': 1},\n",
              "   'script': '',\n",
              "   'sequence': 4294967295}],\n",
              " 'locktime': 0,\n",
              " 'outs': [{'script': 'a9143128856aefebe150d940ad7e0c76b4f3f88218ca87',\n",
              "   'value': 1900000000}],\n",
              " 'version': 1}"
            ]
          },
          "metadata": {},
          "execution_count": 144
        }
      ],
      "source": [
        "volver_txn=doge.mktx(all_unspents, destinos)\n",
        "volver_txn"
      ]
    },
    {
      "cell_type": "markdown",
      "metadata": {
        "id": "PrLgczn26uoP"
      },
      "source": [
        "## Firmar y Serializar (Sign and Serialize)"
      ]
    },
    {
      "cell_type": "code",
      "source": [
        "doge.sign(volver_txn, 0,privKey.to_hex()[2:])"
      ],
      "metadata": {
        "colab": {
          "base_uri": "https://localhost:8080/"
        },
        "id": "Bq-B91lSODBJ",
        "outputId": "fc2e648b-e725-4a28-8b33-ee5ec58e73a9"
      },
      "execution_count": null,
      "outputs": [
        {
          "output_type": "execute_result",
          "data": {
            "text/plain": [
              "{'ins': [{'amount': 1000000000,\n",
              "   'outpoint': {'hash': '2e06d1607e15d8be9e7892f56bbad77f647af30538c3f2ab88835ed9200fcd94',\n",
              "    'index': 0},\n",
              "   'script': '483045022100bea26913cac0406069c02d11844543ed17fcf946c0f5cc3006e59d1e3249a5ea0220268d8f4ce6e7cf4319c376b0ada4a581331e7fb67b75d2524f059a5a515d19950141047c88e9a4df6e9f45656c10bf66f28e28be235a15b64820b254f1b9eb2738314e6769f5c94da0c7640ffe76dcffca053b07a0804cd53a1c51ad03bfe0133ce8c5',\n",
              "   'sequence': 4294967295},\n",
              "  {'amount': 1000000000,\n",
              "   'outpoint': {'hash': '2e06d1607e15d8be9e7892f56bbad77f647af30538c3f2ab88835ed9200fcd94',\n",
              "    'index': 1},\n",
              "   'script': '',\n",
              "   'sequence': 4294967295}],\n",
              " 'locktime': 0,\n",
              " 'outs': [{'script': 'a9143128856aefebe150d940ad7e0c76b4f3f88218ca87',\n",
              "   'value': 1900000000}],\n",
              " 'version': 1}"
            ]
          },
          "metadata": {},
          "execution_count": 145
        }
      ]
    },
    {
      "cell_type": "code",
      "execution_count": null,
      "metadata": {
        "id": "G9Jts_ercWh7",
        "colab": {
          "base_uri": "https://localhost:8080/",
          "height": 53
        },
        "outputId": "484b58bb-0c26-4f37-fdd3-b4b182ae3376"
      },
      "outputs": [
        {
          "output_type": "execute_result",
          "data": {
            "text/plain": [
              "'483045022100bea26913cac0406069c02d11844543ed17fcf946c0f5cc3006e59d1e3249a5ea0220268d8f4ce6e7cf4319c376b0ada4a581331e7fb67b75d2524f059a5a515d19950141047c88e9a4df6e9f45656c10bf66f28e28be235a15b64820b254f1b9eb2738314e6769f5c94da0c7640ffe76dcffca053b07a0804cd53a1c51ad03bfe0133ce8c5'"
            ],
            "application/vnd.google.colaboratory.intrinsic+json": {
              "type": "string"
            }
          },
          "metadata": {},
          "execution_count": 150
        }
      ],
      "source": [
        "my_sig=volver_txn['ins'][0]['script']\n",
        "my_sig"
      ]
    },
    {
      "cell_type": "code",
      "source": [
        "sig1='4730440220562629b6e48055d3822696007ee30b0b73b5374f8284a925c8fe362ada2cc08c0220061654549c667330e88231abd01d3da8eae7f3659ed1d2eb3a348e55e3a811280141042478459160f8e4563ad84a1faa998158c2e47b3c8eac04654ca30f892d4c873db08339cabb0f5c775f1f798919ab4ce5772666a88ea39cf811b73c95d28ee9f9'"
      ],
      "metadata": {
        "id": "lMu20T5TSqV1"
      },
      "execution_count": null,
      "outputs": []
    },
    {
      "cell_type": "code",
      "source": [
        "volver_txn['ins'][1]['script']=sig1\n",
        "volver_txn"
      ],
      "metadata": {
        "id": "ukvwQrknSyui",
        "outputId": "21e83a3b-1737-4bb6-bcc0-33fdbea85f8d",
        "colab": {
          "base_uri": "https://localhost:8080/"
        }
      },
      "execution_count": null,
      "outputs": [
        {
          "output_type": "execute_result",
          "data": {
            "text/plain": [
              "{'ins': [{'amount': 1000000000,\n",
              "   'outpoint': {'hash': '2e06d1607e15d8be9e7892f56bbad77f647af30538c3f2ab88835ed9200fcd94',\n",
              "    'index': 0},\n",
              "   'script': '483045022100bea26913cac0406069c02d11844543ed17fcf946c0f5cc3006e59d1e3249a5ea0220268d8f4ce6e7cf4319c376b0ada4a581331e7fb67b75d2524f059a5a515d19950141047c88e9a4df6e9f45656c10bf66f28e28be235a15b64820b254f1b9eb2738314e6769f5c94da0c7640ffe76dcffca053b07a0804cd53a1c51ad03bfe0133ce8c5',\n",
              "   'sequence': 4294967295},\n",
              "  {'amount': 1000000000,\n",
              "   'outpoint': {'hash': '2e06d1607e15d8be9e7892f56bbad77f647af30538c3f2ab88835ed9200fcd94',\n",
              "    'index': 1},\n",
              "   'script': '4730440220562629b6e48055d3822696007ee30b0b73b5374f8284a925c8fe362ada2cc08c0220061654549c667330e88231abd01d3da8eae7f3659ed1d2eb3a348e55e3a811280141042478459160f8e4563ad84a1faa998158c2e47b3c8eac04654ca30f892d4c873db08339cabb0f5c775f1f798919ab4ce5772666a88ea39cf811b73c95d28ee9f9',\n",
              "   'sequence': 4294967295}],\n",
              " 'locktime': 0,\n",
              " 'outs': [{'script': 'a9143128856aefebe150d940ad7e0c76b4f3f88218ca87',\n",
              "   'value': 1900000000}],\n",
              " 'version': 1}"
            ]
          },
          "metadata": {},
          "execution_count": 154
        }
      ]
    },
    {
      "cell_type": "code",
      "execution_count": null,
      "metadata": {
        "colab": {
          "base_uri": "https://localhost:8080/",
          "height": 124
        },
        "id": "sUaXWuf7c1xS",
        "outputId": "de5de61f-a854-4413-eadb-05045fa257c2"
      },
      "outputs": [
        {
          "output_type": "execute_result",
          "data": {
            "text/plain": [
              "'010000000294cd0f20d95e8388abf2c33805f37a647fd7ba6bf592789ebed8157e60d1062e000000008b483045022100bea26913cac0406069c02d11844543ed17fcf946c0f5cc3006e59d1e3249a5ea0220268d8f4ce6e7cf4319c376b0ada4a581331e7fb67b75d2524f059a5a515d19950141047c88e9a4df6e9f45656c10bf66f28e28be235a15b64820b254f1b9eb2738314e6769f5c94da0c7640ffe76dcffca053b07a0804cd53a1c51ad03bfe0133ce8c5ffffffff94cd0f20d95e8388abf2c33805f37a647fd7ba6bf592789ebed8157e60d1062e010000008a4730440220562629b6e48055d3822696007ee30b0b73b5374f8284a925c8fe362ada2cc08c0220061654549c667330e88231abd01d3da8eae7f3659ed1d2eb3a348e55e3a811280141042478459160f8e4563ad84a1faa998158c2e47b3c8eac04654ca30f892d4c873db08339cabb0f5c775f1f798919ab4ce5772666a88ea39cf811b73c95d28ee9f9ffffffff0100b33f710000000017a9143128856aefebe150d940ad7e0c76b4f3f88218ca8700000000'"
            ],
            "application/vnd.google.colaboratory.intrinsic+json": {
              "type": "string"
            }
          },
          "metadata": {},
          "execution_count": 155
        }
      ],
      "source": [
        "volver_txn_hex=cryptos.serialize(volver_txn)\n",
        "volver_txn_hex"
      ]
    },
    {
      "cell_type": "markdown",
      "metadata": {
        "id": "V2J8P19261CF"
      },
      "source": [
        "## Transmisión (Broadcast)"
      ]
    },
    {
      "cell_type": "code",
      "execution_count": null,
      "metadata": {
        "colab": {
          "base_uri": "https://localhost:8080/"
        },
        "id": "k-igOHK9co_s",
        "outputId": "c7c40913-d749-4e89-9e21-80f775d16d08"
      },
      "outputs": [
        {
          "output_type": "execute_result",
          "data": {
            "text/plain": [
              "{'data': {'network': 'DOGE',\n",
              "  'txid': '9acd7bee16c465f059ff75d1e3773b1daa90ff5e1c59bfe83e6dd97f196f0e7b'},\n",
              " 'status': 'success'}"
            ]
          },
          "metadata": {},
          "execution_count": 156
        }
      ],
      "source": [
        "broadcast_volver_txn=doge.pushtx(volver_txn_hex)\n",
        "broadcast_volver_txn"
      ]
    },
    {
      "cell_type": "code",
      "source": [
        "inspect_volver_txn=doge.fetchtx( '9acd7bee16c465f059ff75d1e3773b1daa90ff5e1c59bfe83e6dd97f196f0e7b')\n",
        "inspect_volver_txn"
      ],
      "metadata": {
        "colab": {
          "base_uri": "https://localhost:8080/"
        },
        "id": "s4wCGIkh-UmD",
        "outputId": "d5c791cb-309e-4d88-d87c-36d8051ed8e9"
      },
      "execution_count": 27,
      "outputs": [
        {
          "output_type": "execute_result",
          "data": {
            "text/plain": [
              "{'blockhash': 'a014b28819c4c252e2559b66b0baba73273da38009afdc2aa62ac066a358ab0e',\n",
              " 'confirmations': 8549,\n",
              " 'inputs': [{'address': 'D6zKNnkupqRbkB9p5rwix8QiobQWJazjyX',\n",
              "   'from_output': {'output_no': 0,\n",
              "    'txid': '2e06d1607e15d8be9e7892f56bbad77f647af30538c3f2ab88835ed9200fcd94'},\n",
              "   'input_no': 0,\n",
              "   'script': '3045022100bea26913cac0406069c02d11844543ed17fcf946c0f5cc3006e59d1e3249a5ea0220268d8f4ce6e7cf4319c376b0ada4a581331e7fb67b75d2524f059a5a515d199501 047c88e9a4df6e9f45656c10bf66f28e28be235a15b64820b254f1b9eb2738314e6769f5c94da0c7640ffe76dcffca053b07a0804cd53a1c51ad03bfe0133ce8c5',\n",
              "   'sequence': 4294967295,\n",
              "   'type': 'pubkeyhash',\n",
              "   'value': '10.00000000',\n",
              "   'witness': None},\n",
              "  {'address': 'DJBkcc9zShCCWPTvPuLUiHQegNPbmMipEH',\n",
              "   'from_output': {'output_no': 1,\n",
              "    'txid': '2e06d1607e15d8be9e7892f56bbad77f647af30538c3f2ab88835ed9200fcd94'},\n",
              "   'input_no': 1,\n",
              "   'script': '30440220562629b6e48055d3822696007ee30b0b73b5374f8284a925c8fe362ada2cc08c0220061654549c667330e88231abd01d3da8eae7f3659ed1d2eb3a348e55e3a8112801 042478459160f8e4563ad84a1faa998158c2e47b3c8eac04654ca30f892d4c873db08339cabb0f5c775f1f798919ab4ce5772666a88ea39cf811b73c95d28ee9f9',\n",
              "   'sequence': 4294967295,\n",
              "   'type': 'pubkeyhash',\n",
              "   'value': '10.00000000',\n",
              "   'witness': None}],\n",
              " 'locktime': 0,\n",
              " 'network': 'DOGE',\n",
              " 'network_fee': '1.00000000',\n",
              " 'outputs': [{'address': '9vvCKFQYC4r4C3ZUsNZqyxkxV4YgFEiNDg',\n",
              "   'output_no': 0,\n",
              "   'script': 'OP_HASH160 3128856aefebe150d940ad7e0c76b4f3f88218ca OP_EQUAL',\n",
              "   'type': 'scripthash',\n",
              "   'value': '19.00000000'}],\n",
              " 'size': 401,\n",
              " 'time': 1647796450,\n",
              " 'tx_hex': '010000000294cd0f20d95e8388abf2c33805f37a647fd7ba6bf592789ebed8157e60d1062e000000008b483045022100bea26913cac0406069c02d11844543ed17fcf946c0f5cc3006e59d1e3249a5ea0220268d8f4ce6e7cf4319c376b0ada4a581331e7fb67b75d2524f059a5a515d19950141047c88e9a4df6e9f45656c10bf66f28e28be235a15b64820b254f1b9eb2738314e6769f5c94da0c7640ffe76dcffca053b07a0804cd53a1c51ad03bfe0133ce8c5ffffffff94cd0f20d95e8388abf2c33805f37a647fd7ba6bf592789ebed8157e60d1062e010000008a4730440220562629b6e48055d3822696007ee30b0b73b5374f8284a925c8fe362ada2cc08c0220061654549c667330e88231abd01d3da8eae7f3659ed1d2eb3a348e55e3a811280141042478459160f8e4563ad84a1faa998158c2e47b3c8eac04654ca30f892d4c873db08339cabb0f5c775f1f798919ab4ce5772666a88ea39cf811b73c95d28ee9f9ffffffff0100b33f710000000017a9143128856aefebe150d940ad7e0c76b4f3f88218ca8700000000',\n",
              " 'txid': '9acd7bee16c465f059ff75d1e3773b1daa90ff5e1c59bfe83e6dd97f196f0e7b',\n",
              " 'version': 1,\n",
              " 'vsize': 401}"
            ]
          },
          "metadata": {},
          "execution_count": 27
        }
      ]
    },
    {
      "cell_type": "code",
      "source": [
        ""
      ],
      "metadata": {
        "id": "7f1BRVvj-iky"
      },
      "execution_count": null,
      "outputs": []
    }
  ],
  "metadata": {
    "colab": {
      "name": "08_cuaderno.ipynb",
      "provenance": []
    },
    "kernelspec": {
      "display_name": "Python 3",
      "language": "python",
      "name": "python3"
    },
    "language_info": {
      "codemirror_mode": {
        "name": "ipython",
        "version": 3
      },
      "file_extension": ".py",
      "mimetype": "text/x-python",
      "name": "python",
      "nbconvert_exporter": "python",
      "pygments_lexer": "ipython3",
      "version": "3.7.6"
    }
  },
  "nbformat": 4,
  "nbformat_minor": 0
}