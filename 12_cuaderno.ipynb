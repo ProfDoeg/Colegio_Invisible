{
  "nbformat": 4,
  "nbformat_minor": 0,
  "metadata": {
    "colab": {
      "name": "12_cuaderno.ipynb",
      "provenance": [],
      "include_colab_link": true
    },
    "kernelspec": {
      "name": "python3",
      "display_name": "Python 3"
    },
    "language_info": {
      "name": "python"
    }
  },
  "cells": [
    {
      "cell_type": "markdown",
      "metadata": {
        "id": "view-in-github",
        "colab_type": "text"
      },
      "source": [
        "<a href=\"https://colab.research.google.com/github/ProfDoeg/Colegio_Invisible/blob/main/12_cuaderno.ipynb\" target=\"_parent\"><img src=\"https://colab.research.google.com/assets/colab-badge.svg\" alt=\"Open In Colab\"/></a>"
      ]
    },
    {
      "cell_type": "code",
      "source": [
        "#! rm Colegio_Invisible -r"
      ],
      "metadata": {
        "id": "6YV5qP8RODUW"
      },
      "execution_count": 78,
      "outputs": []
    },
    {
      "cell_type": "code",
      "execution_count": 79,
      "metadata": {
        "id": "p80LxM-iMpBC",
        "colab": {
          "base_uri": "https://localhost:8080/"
        },
        "outputId": "2854d7d0-2323-4b4a-d132-859c0e6acc2c"
      },
      "outputs": [
        {
          "output_type": "stream",
          "name": "stdout",
          "text": [
            "Requirement already satisfied: Pillow in /usr/local/lib/python3.7/dist-packages (7.1.2)\n",
            "Cloning into 'Colegio_Invisible'...\n",
            "remote: Enumerating objects: 1015, done.\u001b[K\n",
            "remote: Counting objects: 100% (25/25), done.\u001b[K\n",
            "remote: Compressing objects: 100% (25/25), done.\u001b[K\n",
            "remote: Total 1015 (delta 13), reused 0 (delta 0), pack-reused 990\u001b[K\n",
            "Receiving objects: 100% (1015/1015), 67.52 MiB | 29.93 MiB/s, done.\n",
            "Resolving deltas: 100% (694/694), done.\n"
          ]
        }
      ],
      "source": [
        "! pip install Pillow\n",
        "! git clone https://github.com/ProfDoeg/Colegio_Invisible.git\n"
      ]
    },
    {
      "cell_type": "markdown",
      "source": [
        "for an image...there are pixels\n",
        "\n",
        "each pixel has 3,4 values (Red Green Blue and sometime Alpha)\n",
        "\n",
        "those numbers are...1 byte...0 to 255"
      ],
      "metadata": {
        "id": "A54RU5ZeUZZk"
      }
    },
    {
      "cell_type": "code",
      "source": [
        "from PIL import Image\n",
        "import numpy as np"
      ],
      "metadata": {
        "id": "jSzywLaHMsem"
      },
      "execution_count": 2,
      "outputs": []
    },
    {
      "cell_type": "code",
      "source": [
        "64*8"
      ],
      "metadata": {
        "colab": {
          "base_uri": "https://localhost:8080/"
        },
        "id": "1JvV7B_FV4xc",
        "outputId": "a474e90a-f046-4543-833c-98225d54af84"
      },
      "execution_count": 3,
      "outputs": [
        {
          "output_type": "execute_result",
          "data": {
            "text/plain": [
              "512"
            ]
          },
          "metadata": {},
          "execution_count": 3
        }
      ]
    },
    {
      "cell_type": "markdown",
      "source": [
        "what can we put into blockchain...\n",
        "Op_Return\n",
        "80 bytes and we will use 64 bytes for image data\n",
        "\n",
        "each byte is made up of 8 binary values 1/0 called bits\n",
        "\n",
        "64 bytes = 64*8...512 bits\n",
        "\n",
        "We want to put image in single block\n",
        "\n",
        "PROPOSAL:\n",
        "\n",
        "16x16 image = 256 pixels\n",
        "\n",
        "only get to use 2 bits per pixel\n",
        "\n",
        "- 0,0  0 \n",
        "- 0,1  64\n",
        "- 1,0  128\n",
        "- 1,1  192\n",
        "\n",
        "1 byte [ , , , , , , , ]\n",
        "\n",
        "1 byte can tell us color of 4 pixels\n",
        "each one taking up 2 bits"
      ],
      "metadata": {
        "id": "g5RXqfJ_VK9u"
      }
    },
    {
      "cell_type": "code",
      "source": [
        "\"\""
      ],
      "metadata": {
        "id": "VpT7x5CIWHyc"
      },
      "execution_count": null,
      "outputs": []
    },
    {
      "cell_type": "code",
      "source": [
        "!ls Colegio_Invisible/img"
      ],
      "metadata": {
        "id": "zo2ZCW_xNzMj",
        "colab": {
          "base_uri": "https://localhost:8080/"
        },
        "outputId": "5f42152d-96b3-4835-9f96-14a230cfe520"
      },
      "execution_count": 4,
      "outputs": [
        {
          "output_type": "stream",
          "name": "stdout",
          "text": [
            "Apollo_Slays_Python_1853.jpeg  colegio_invisible.jpeg  rum_1.jpeg\n",
            "asymmetric.png\t\t       hg_cry.jpeg\t       rum_2.jpeg\n",
            "bab_crop.jpeg\t\t       hg_drop.jpeg\t       rum_3.jpeg\n",
            "barb_1.jpeg\t\t       hg_hide.jpeg\t       rum_4.jpeg\n",
            "barb_2.jpeg\t\t       hg_house.jpeg\t       rum_5.jpeg\n",
            "barb_3.jpeg\t\t       hg_invite.jpeg\t       rum_6.jpeg\n",
            "barb_4.jpeg\t\t       hg_rough.png\t       rum_7.jpeg\n",
            "barb_5.jpeg\t\t       hg_xmas.jpeg\t       rump_final.jpeg\n",
            "barb_6.jpeg\t\t       prv_pub_addr.png        signature.png\n",
            "barb_7.jpeg\t\t       PubKeyToAddr.png        stego.png\n",
            "clavis.jpeg\t\t       rum_0.jpeg\t       symmetric.png\n"
          ]
        }
      ]
    },
    {
      "cell_type": "code",
      "source": [
        "stego_image=Image.open('Colegio_Invisible/img/zomnd.png')\n",
        "stego_image=stego_image.resize((16,16))\n",
        "stego_image"
      ],
      "metadata": {
        "id": "3cAzcOtCNoF-",
        "colab": {
          "base_uri": "https://localhost:8080/",
          "height": 34
        },
        "outputId": "499bca81-60ba-4d25-a046-29b3ab8d54be"
      },
      "execution_count": 80,
      "outputs": [
        {
          "output_type": "execute_result",
          "data": {
            "text/plain": [
              "<PIL.Image.Image image mode=RGBA size=16x16 at 0x7FD788E76450>"
            ],
            "image/png": "[encoded data removed]"
          },
          "metadata": {},
          "execution_count": 80
        }
      ]
    },
    {
      "cell_type": "code",
      "source": [
        "type(stego_image)"
      ],
      "metadata": {
        "id": "vJ758msHNu5T",
        "colab": {
          "base_uri": "https://localhost:8080/"
        },
        "outputId": "1f70a2e5-9c69-46c4-c9df-5231de2a6e4a"
      },
      "execution_count": 81,
      "outputs": [
        {
          "output_type": "execute_result",
          "data": {
            "text/plain": [
              "PIL.Image.Image"
            ]
          },
          "metadata": {},
          "execution_count": 81
        }
      ]
    },
    {
      "cell_type": "code",
      "source": [
        "stego_array = np.array(stego_image)\n",
        "stego_array"
      ],
      "metadata": {
        "id": "MK5bUIKbOTbj",
        "colab": {
          "base_uri": "https://localhost:8080/"
        },
        "outputId": "07203471-77e5-4e19-8974-da740762c5a0"
      },
      "execution_count": 82,
      "outputs": [
        {
          "output_type": "execute_result",
          "data": {
            "text/plain": [
              "array([[[255, 255, 255, 255],\n",
              "        [255, 255, 255, 255],\n",
              "        [255, 255, 255, 255],\n",
              "        ...,\n",
              "        [255, 255, 255, 255],\n",
              "        [255, 255, 255, 255],\n",
              "        [255, 255, 255, 255]],\n",
              "\n",
              "       [[255, 255, 255, 255],\n",
              "        [255, 255, 255, 255],\n",
              "        [255, 255, 255, 255],\n",
              "        ...,\n",
              "        [246, 246, 246, 255],\n",
              "        [255, 255, 255, 255],\n",
              "        [255, 255, 255, 255]],\n",
              "\n",
              "       [[255, 255, 255, 255],\n",
              "        [255, 255, 255, 255],\n",
              "        [255, 255, 255, 255],\n",
              "        ...,\n",
              "        [230, 230, 230, 255],\n",
              "        [255, 255, 255, 255],\n",
              "        [255, 255, 255, 255]],\n",
              "\n",
              "       ...,\n",
              "\n",
              "       [[255, 255, 255, 255],\n",
              "        [250, 250, 250, 255],\n",
              "        [200, 200, 200, 255],\n",
              "        ...,\n",
              "        [254, 254, 254, 255],\n",
              "        [255, 255, 255, 255],\n",
              "        [255, 255, 255, 255]],\n",
              "\n",
              "       [[255, 255, 255, 255],\n",
              "        [252, 252, 252, 255],\n",
              "        [243, 243, 243, 255],\n",
              "        ...,\n",
              "        [255, 255, 255, 255],\n",
              "        [255, 255, 255, 255],\n",
              "        [255, 255, 255, 255]],\n",
              "\n",
              "       [[255, 255, 255, 255],\n",
              "        [255, 255, 255, 255],\n",
              "        [255, 255, 255, 255],\n",
              "        ...,\n",
              "        [255, 255, 255, 255],\n",
              "        [255, 255, 255, 255],\n",
              "        [255, 255, 255, 255]]], dtype=uint8)"
            ]
          },
          "metadata": {},
          "execution_count": 82
        }
      ]
    },
    {
      "cell_type": "markdown",
      "source": [
        "**`uint8`** stands for unsigned 8-bit integer\n",
        "- 8 binary 1/0 values\n",
        "- that is one byte\n",
        "- a number from 0-255\n",
        "- two hex values like ff"
      ],
      "metadata": {
        "id": "5Gq3lpQ2Oh92"
      }
    },
    {
      "cell_type": "code",
      "source": [
        "stego_array.dtype"
      ],
      "metadata": {
        "id": "HnvaTb7qOcCX",
        "colab": {
          "base_uri": "https://localhost:8080/"
        },
        "outputId": "d075452b-7ede-4d70-cd4c-53749e37ceb7"
      },
      "execution_count": 83,
      "outputs": [
        {
          "output_type": "execute_result",
          "data": {
            "text/plain": [
              "dtype('uint8')"
            ]
          },
          "metadata": {},
          "execution_count": 83
        }
      ]
    },
    {
      "cell_type": "code",
      "source": [
        "stego_array.shape"
      ],
      "metadata": {
        "id": "ZtupzBOJOWjT",
        "colab": {
          "base_uri": "https://localhost:8080/"
        },
        "outputId": "339d18a1-f051-4f1a-be22-6345c7b60460"
      },
      "execution_count": 84,
      "outputs": [
        {
          "output_type": "execute_result",
          "data": {
            "text/plain": [
              "(16, 16, 4)"
            ]
          },
          "metadata": {},
          "execution_count": 84
        }
      ]
    },
    {
      "cell_type": "code",
      "source": [
        "stego_array[:,:,:3]"
      ],
      "metadata": {
        "colab": {
          "base_uri": "https://localhost:8080/"
        },
        "id": "kCWICwyyYpxN",
        "outputId": "8eab5490-cf75-4ab6-b34c-29a009cdba99"
      },
      "execution_count": 85,
      "outputs": [
        {
          "output_type": "execute_result",
          "data": {
            "text/plain": [
              "array([[[255, 255, 255],\n",
              "        [255, 255, 255],\n",
              "        [255, 255, 255],\n",
              "        [255, 255, 255],\n",
              "        [241, 241, 241],\n",
              "        [181, 181, 181],\n",
              "        [254, 254, 254],\n",
              "        [255, 255, 255],\n",
              "        [255, 255, 255],\n",
              "        [255, 255, 255],\n",
              "        [255, 255, 255],\n",
              "        [245, 245, 245],\n",
              "        [234, 234, 234],\n",
              "        [255, 255, 255],\n",
              "        [255, 255, 255],\n",
              "        [255, 255, 255]],\n",
              "\n",
              "       [[255, 255, 255],\n",
              "        [255, 255, 255],\n",
              "        [255, 255, 255],\n",
              "        [255, 255, 255],\n",
              "        [225, 225, 225],\n",
              "        [175, 175, 175],\n",
              "        [223, 223, 223],\n",
              "        [255, 255, 255],\n",
              "        [255, 255, 255],\n",
              "        [255, 255, 255],\n",
              "        [231, 231, 231],\n",
              "        [171, 171, 171],\n",
              "        [169, 169, 169],\n",
              "        [246, 246, 246],\n",
              "        [255, 255, 255],\n",
              "        [255, 255, 255]],\n",
              "\n",
              "       [[255, 255, 255],\n",
              "        [255, 255, 255],\n",
              "        [255, 255, 255],\n",
              "        [255, 255, 255],\n",
              "        [199, 199, 199],\n",
              "        [227, 227, 227],\n",
              "        [164, 164, 164],\n",
              "        [202, 202, 202],\n",
              "        [212, 212, 212],\n",
              "        [214, 214, 214],\n",
              "        [179, 179, 179],\n",
              "        [221, 221, 221],\n",
              "        [188, 188, 188],\n",
              "        [230, 230, 230],\n",
              "        [255, 255, 255],\n",
              "        [255, 255, 255]],\n",
              "\n",
              "       [[255, 255, 255],\n",
              "        [255, 255, 255],\n",
              "        [255, 255, 255],\n",
              "        [242, 242, 242],\n",
              "        [161, 161, 161],\n",
              "        [232, 232, 232],\n",
              "        [241, 241, 241],\n",
              "        [234, 234, 234],\n",
              "        [225, 225, 225],\n",
              "        [188, 188, 188],\n",
              "        [217, 217, 217],\n",
              "        [184, 184, 184],\n",
              "        [187, 187, 187],\n",
              "        [227, 227, 227],\n",
              "        [255, 255, 255],\n",
              "        [255, 255, 255]],\n",
              "\n",
              "       [[255, 255, 255],\n",
              "        [255, 255, 255],\n",
              "        [236, 236, 236],\n",
              "        [187, 187, 187],\n",
              "        [239, 239, 239],\n",
              "        [250, 250, 250],\n",
              "        [252, 252, 252],\n",
              "        [252, 252, 252],\n",
              "        [255, 255, 255],\n",
              "        [240, 240, 240],\n",
              "        [173, 173, 173],\n",
              "        [220, 220, 220],\n",
              "        [183, 183, 183],\n",
              "        [237, 237, 237],\n",
              "        [255, 255, 255],\n",
              "        [255, 255, 255]],\n",
              "\n",
              "       [[255, 255, 255],\n",
              "        [255, 255, 255],\n",
              "        [194, 194, 194],\n",
              "        [221, 221, 221],\n",
              "        [159, 159, 159],\n",
              "        [226, 226, 226],\n",
              "        [236, 236, 236],\n",
              "        [235, 235, 235],\n",
              "        [237, 237, 237],\n",
              "        [255, 255, 255],\n",
              "        [234, 234, 234],\n",
              "        [191, 191, 191],\n",
              "        [158, 158, 158],\n",
              "        [215, 215, 215],\n",
              "        [255, 255, 255],\n",
              "        [255, 255, 255]],\n",
              "\n",
              "       [[255, 255, 255],\n",
              "        [244, 244, 244],\n",
              "        [200, 200, 200],\n",
              "        [204, 204, 204],\n",
              "        [ 75,  75,  75],\n",
              "        [228, 228, 228],\n",
              "        [221, 221, 221],\n",
              "        [ 86,  86,  86],\n",
              "        [142, 142, 142],\n",
              "        [254, 254, 254],\n",
              "        [241, 241, 241],\n",
              "        [238, 238, 238],\n",
              "        [201, 201, 201],\n",
              "        [197, 197, 197],\n",
              "        [255, 255, 255],\n",
              "        [255, 255, 255]],\n",
              "\n",
              "       [[255, 255, 255],\n",
              "        [222, 222, 222],\n",
              "        [213, 213, 213],\n",
              "        [140, 140, 140],\n",
              "        [161, 161, 161],\n",
              "        [253, 253, 253],\n",
              "        [247, 247, 247],\n",
              "        [184, 184, 184],\n",
              "        [226, 226, 226],\n",
              "        [247, 247, 247],\n",
              "        [237, 237, 237],\n",
              "        [231, 231, 231],\n",
              "        [245, 245, 245],\n",
              "        [193, 193, 193],\n",
              "        [255, 255, 255],\n",
              "        [255, 255, 255]],\n",
              "\n",
              "       [[255, 255, 255],\n",
              "        [210, 210, 210],\n",
              "        [159, 159, 159],\n",
              "        [ 53,  53,  53],\n",
              "        [ 75,  75,  75],\n",
              "        [235, 235, 235],\n",
              "        [255, 255, 255],\n",
              "        [252, 252, 252],\n",
              "        [251, 251, 251],\n",
              "        [253, 253, 253],\n",
              "        [253, 253, 253],\n",
              "        [250, 250, 250],\n",
              "        [231, 231, 231],\n",
              "        [199, 199, 199],\n",
              "        [240, 240, 240],\n",
              "        [255, 255, 255]],\n",
              "\n",
              "       [[255, 255, 255],\n",
              "        [205, 205, 205],\n",
              "        [176, 176, 176],\n",
              "        [ 74,  74,  74],\n",
              "        [153, 153, 153],\n",
              "        [228, 228, 228],\n",
              "        [249, 249, 249],\n",
              "        [255, 255, 255],\n",
              "        [255, 255, 255],\n",
              "        [255, 255, 255],\n",
              "        [255, 255, 255],\n",
              "        [243, 243, 243],\n",
              "        [245, 245, 245],\n",
              "        [224, 224, 224],\n",
              "        [216, 216, 216],\n",
              "        [255, 255, 255]],\n",
              "\n",
              "       [[255, 255, 255],\n",
              "        [217, 217, 217],\n",
              "        [220, 220, 220],\n",
              "        [124, 124, 124],\n",
              "        [138, 138, 138],\n",
              "        [157, 157, 157],\n",
              "        [178, 178, 178],\n",
              "        [241, 241, 241],\n",
              "        [255, 255, 255],\n",
              "        [255, 255, 255],\n",
              "        [254, 254, 254],\n",
              "        [233, 233, 233],\n",
              "        [253, 253, 253],\n",
              "        [247, 247, 247],\n",
              "        [195, 195, 195],\n",
              "        [255, 255, 255]],\n",
              "\n",
              "       [[255, 255, 255],\n",
              "        [238, 238, 238],\n",
              "        [204, 204, 204],\n",
              "        [225, 225, 225],\n",
              "        [187, 187, 187],\n",
              "        [179, 179, 179],\n",
              "        [227, 227, 227],\n",
              "        [255, 255, 255],\n",
              "        [255, 255, 255],\n",
              "        [255, 255, 255],\n",
              "        [241, 241, 241],\n",
              "        [247, 247, 247],\n",
              "        [255, 255, 255],\n",
              "        [251, 251, 251],\n",
              "        [225, 225, 225],\n",
              "        [254, 254, 254]],\n",
              "\n",
              "       [[255, 255, 255],\n",
              "        [255, 255, 255],\n",
              "        [189, 189, 189],\n",
              "        [245, 245, 245],\n",
              "        [254, 254, 254],\n",
              "        [254, 254, 254],\n",
              "        [255, 255, 255],\n",
              "        [255, 255, 255],\n",
              "        [255, 255, 255],\n",
              "        [255, 255, 255],\n",
              "        [254, 254, 254],\n",
              "        [255, 255, 255],\n",
              "        [229, 229, 229],\n",
              "        [242, 242, 242],\n",
              "        [255, 255, 255],\n",
              "        [255, 255, 255]],\n",
              "\n",
              "       [[255, 255, 255],\n",
              "        [250, 250, 250],\n",
              "        [200, 200, 200],\n",
              "        [228, 228, 228],\n",
              "        [241, 241, 241],\n",
              "        [253, 253, 253],\n",
              "        [248, 248, 248],\n",
              "        [251, 251, 251],\n",
              "        [254, 254, 254],\n",
              "        [255, 255, 255],\n",
              "        [255, 255, 255],\n",
              "        [252, 252, 252],\n",
              "        [239, 239, 239],\n",
              "        [254, 254, 254],\n",
              "        [255, 255, 255],\n",
              "        [255, 255, 255]],\n",
              "\n",
              "       [[255, 255, 255],\n",
              "        [252, 252, 252],\n",
              "        [243, 243, 243],\n",
              "        [252, 252, 252],\n",
              "        [238, 238, 238],\n",
              "        [248, 248, 248],\n",
              "        [248, 248, 248],\n",
              "        [241, 241, 241],\n",
              "        [253, 253, 253],\n",
              "        [255, 255, 255],\n",
              "        [255, 255, 255],\n",
              "        [252, 252, 252],\n",
              "        [255, 255, 255],\n",
              "        [255, 255, 255],\n",
              "        [255, 255, 255],\n",
              "        [255, 255, 255]],\n",
              "\n",
              "       [[255, 255, 255],\n",
              "        [255, 255, 255],\n",
              "        [255, 255, 255],\n",
              "        [255, 255, 255],\n",
              "        [255, 255, 255],\n",
              "        [255, 255, 255],\n",
              "        [255, 255, 255],\n",
              "        [255, 255, 255],\n",
              "        [255, 255, 255],\n",
              "        [255, 255, 255],\n",
              "        [255, 255, 255],\n",
              "        [255, 255, 255],\n",
              "        [255, 255, 255],\n",
              "        [255, 255, 255],\n",
              "        [255, 255, 255],\n",
              "        [255, 255, 255]]], dtype=uint8)"
            ]
          },
          "metadata": {},
          "execution_count": 85
        }
      ]
    },
    {
      "cell_type": "code",
      "source": [
        "stego_array_grey=stego_array[:,:,:3].mean(axis=2).astype('uint8')\n",
        "stego_array_grey.shape,stego_array_grey.dtype"
      ],
      "metadata": {
        "id": "kWBZaDEZOgW_",
        "colab": {
          "base_uri": "https://localhost:8080/"
        },
        "outputId": "66d71889-87a6-4dee-8cd4-c02ffade6acd"
      },
      "execution_count": 86,
      "outputs": [
        {
          "output_type": "execute_result",
          "data": {
            "text/plain": [
              "((16, 16), dtype('uint8'))"
            ]
          },
          "metadata": {},
          "execution_count": 86
        }
      ]
    },
    {
      "cell_type": "code",
      "source": [
        "stego_array_grey"
      ],
      "metadata": {
        "id": "A0nsbRaZOnxN",
        "colab": {
          "base_uri": "https://localhost:8080/"
        },
        "outputId": "429f6947-19a3-41da-b99e-fbda55eb79f3"
      },
      "execution_count": 87,
      "outputs": [
        {
          "output_type": "execute_result",
          "data": {
            "text/plain": [
              "array([[255, 255, 255, 255, 241, 181, 254, 255, 255, 255, 255, 245, 234,\n",
              "        255, 255, 255],\n",
              "       [255, 255, 255, 255, 225, 175, 223, 255, 255, 255, 231, 171, 169,\n",
              "        246, 255, 255],\n",
              "       [255, 255, 255, 255, 199, 227, 164, 202, 212, 214, 179, 221, 188,\n",
              "        230, 255, 255],\n",
              "       [255, 255, 255, 242, 161, 232, 241, 234, 225, 188, 217, 184, 187,\n",
              "        227, 255, 255],\n",
              "       [255, 255, 236, 187, 239, 250, 252, 252, 255, 240, 173, 220, 183,\n",
              "        237, 255, 255],\n",
              "       [255, 255, 194, 221, 159, 226, 236, 235, 237, 255, 234, 191, 158,\n",
              "        215, 255, 255],\n",
              "       [255, 244, 200, 204,  75, 228, 221,  86, 142, 254, 241, 238, 201,\n",
              "        197, 255, 255],\n",
              "       [255, 222, 213, 140, 161, 253, 247, 184, 226, 247, 237, 231, 245,\n",
              "        193, 255, 255],\n",
              "       [255, 210, 159,  53,  75, 235, 255, 252, 251, 253, 253, 250, 231,\n",
              "        199, 240, 255],\n",
              "       [255, 205, 176,  74, 153, 228, 249, 255, 255, 255, 255, 243, 245,\n",
              "        224, 216, 255],\n",
              "       [255, 217, 220, 124, 138, 157, 178, 241, 255, 255, 254, 233, 253,\n",
              "        247, 195, 255],\n",
              "       [255, 238, 204, 225, 187, 179, 227, 255, 255, 255, 241, 247, 255,\n",
              "        251, 225, 254],\n",
              "       [255, 255, 189, 245, 254, 254, 255, 255, 255, 255, 254, 255, 229,\n",
              "        242, 255, 255],\n",
              "       [255, 250, 200, 228, 241, 253, 248, 251, 254, 255, 255, 252, 239,\n",
              "        254, 255, 255],\n",
              "       [255, 252, 243, 252, 238, 248, 248, 241, 253, 255, 255, 252, 255,\n",
              "        255, 255, 255],\n",
              "       [255, 255, 255, 255, 255, 255, 255, 255, 255, 255, 255, 255, 255,\n",
              "        255, 255, 255]], dtype=uint8)"
            ]
          },
          "metadata": {},
          "execution_count": 87
        }
      ]
    },
    {
      "cell_type": "code",
      "source": [
        "stego_image_grey = Image.fromarray(stego_array_grey)\n",
        "stego_image_grey"
      ],
      "metadata": {
        "id": "IiMfNkWmOulw",
        "colab": {
          "base_uri": "https://localhost:8080/",
          "height": 34
        },
        "outputId": "4aed2c0d-27a5-4b04-e57d-7a204a83f5dc"
      },
      "execution_count": 88,
      "outputs": [
        {
          "output_type": "execute_result",
          "data": {
            "text/plain": [
              "<PIL.Image.Image image mode=L size=16x16 at 0x7FD788E79910>"
            ],
            "image/png": "[encoded data removed]"
          },
          "metadata": {},
          "execution_count": 88
        }
      ]
    },
    {
      "cell_type": "code",
      "source": [
        "print(150%64)\n",
        "print(150-22)"
      ],
      "metadata": {
        "colab": {
          "base_uri": "https://localhost:8080/"
        },
        "id": "zU3_UmUGZuZm",
        "outputId": "84c80218-a6b1-44d9-85ad-af825af710fb"
      },
      "execution_count": 89,
      "outputs": [
        {
          "output_type": "stream",
          "name": "stdout",
          "text": [
            "22\n",
            "128\n"
          ]
        }
      ]
    },
    {
      "cell_type": "code",
      "source": [
        "stego_array_grey_2b=stego_array_grey-(stego_array_grey%64)+63\n",
        "stego_array_grey_2b"
      ],
      "metadata": {
        "id": "3WTVKnhIOrBn",
        "colab": {
          "base_uri": "https://localhost:8080/"
        },
        "outputId": "6efcdc5d-3783-41a3-9f7a-ecec0d640f0f"
      },
      "execution_count": 93,
      "outputs": [
        {
          "output_type": "execute_result",
          "data": {
            "text/plain": [
              "array([[255, 255, 255, 255, 255, 191, 255, 255, 255, 255, 255, 255, 255,\n",
              "        255, 255, 255],\n",
              "       [255, 255, 255, 255, 255, 191, 255, 255, 255, 255, 255, 191, 191,\n",
              "        255, 255, 255],\n",
              "       [255, 255, 255, 255, 255, 255, 191, 255, 255, 255, 191, 255, 191,\n",
              "        255, 255, 255],\n",
              "       [255, 255, 255, 255, 191, 255, 255, 255, 255, 191, 255, 191, 191,\n",
              "        255, 255, 255],\n",
              "       [255, 255, 255, 191, 255, 255, 255, 255, 255, 255, 191, 255, 191,\n",
              "        255, 255, 255],\n",
              "       [255, 255, 255, 255, 191, 255, 255, 255, 255, 255, 255, 191, 191,\n",
              "        255, 255, 255],\n",
              "       [255, 255, 255, 255, 127, 255, 255, 127, 191, 255, 255, 255, 255,\n",
              "        255, 255, 255],\n",
              "       [255, 255, 255, 191, 191, 255, 255, 191, 255, 255, 255, 255, 255,\n",
              "        255, 255, 255],\n",
              "       [255, 255, 191,  63, 127, 255, 255, 255, 255, 255, 255, 255, 255,\n",
              "        255, 255, 255],\n",
              "       [255, 255, 191, 127, 191, 255, 255, 255, 255, 255, 255, 255, 255,\n",
              "        255, 255, 255],\n",
              "       [255, 255, 255, 127, 191, 191, 191, 255, 255, 255, 255, 255, 255,\n",
              "        255, 255, 255],\n",
              "       [255, 255, 255, 255, 191, 191, 255, 255, 255, 255, 255, 255, 255,\n",
              "        255, 255, 255],\n",
              "       [255, 255, 191, 255, 255, 255, 255, 255, 255, 255, 255, 255, 255,\n",
              "        255, 255, 255],\n",
              "       [255, 255, 255, 255, 255, 255, 255, 255, 255, 255, 255, 255, 255,\n",
              "        255, 255, 255],\n",
              "       [255, 255, 255, 255, 255, 255, 255, 255, 255, 255, 255, 255, 255,\n",
              "        255, 255, 255],\n",
              "       [255, 255, 255, 255, 255, 255, 255, 255, 255, 255, 255, 255, 255,\n",
              "        255, 255, 255]], dtype=uint8)"
            ]
          },
          "metadata": {},
          "execution_count": 93
        }
      ]
    },
    {
      "cell_type": "code",
      "source": [
        "stego_image_grey_2b = Image.fromarray(stego_array_grey_2b)\n",
        "stego_image_grey_2b"
      ],
      "metadata": {
        "id": "Gq_AEWGVOzKO",
        "colab": {
          "base_uri": "https://localhost:8080/",
          "height": 34
        },
        "outputId": "cc3a1a19-4b26-4f57-98e7-b7516962936e"
      },
      "execution_count": 96,
      "outputs": [
        {
          "output_type": "execute_result",
          "data": {
            "text/plain": [
              "<PIL.Image.Image image mode=L size=16x16 at 0x7FD788F5DC90>"
            ],
            "image/png": "[encoded data removed]"
          },
          "metadata": {},
          "execution_count": 96
        }
      ]
    },
    {
      "cell_type": "code",
      "source": [
        "def int_2_bit_array(num):\n",
        "    bin_str=bin(num)\n",
        "    bit_list=[int(bit) for bit in bin_str[2:]]\n",
        "    bit_list=[0]*(8-len(bit_list))+bit_list\n",
        "    bit_array=np.array(bit_list,dtype='uint8')\n",
        "    return bit_array"
      ],
      "metadata": {
        "id": "TsrD8_OFO1n6"
      },
      "execution_count": 97,
      "outputs": []
    },
    {
      "cell_type": "code",
      "source": [
        "int_2_bit_array(0)"
      ],
      "metadata": {
        "colab": {
          "base_uri": "https://localhost:8080/"
        },
        "id": "MhZSrkOlbEA-",
        "outputId": "3f802c17-6337-4125-a028-ea0c8788d10e"
      },
      "execution_count": 98,
      "outputs": [
        {
          "output_type": "execute_result",
          "data": {
            "text/plain": [
              "array([0, 0, 0, 0, 0, 0, 0, 0], dtype=uint8)"
            ]
          },
          "metadata": {},
          "execution_count": 98
        }
      ]
    },
    {
      "cell_type": "code",
      "source": [
        "int_2_bit_array(64)"
      ],
      "metadata": {
        "colab": {
          "base_uri": "https://localhost:8080/"
        },
        "id": "rQ5H-CISbD1h",
        "outputId": "4059d97e-faee-4486-ccf7-8e450387b1fc"
      },
      "execution_count": 22,
      "outputs": [
        {
          "output_type": "execute_result",
          "data": {
            "text/plain": [
              "array([0, 1, 0, 0, 0, 0, 0, 0], dtype=uint8)"
            ]
          },
          "metadata": {},
          "execution_count": 22
        }
      ]
    },
    {
      "cell_type": "code",
      "source": [
        "int_2_bit_array(128)"
      ],
      "metadata": {
        "colab": {
          "base_uri": "https://localhost:8080/"
        },
        "id": "e36MYQeUbDoa",
        "outputId": "1e81a823-4fff-43fd-907a-645ec1f00a52"
      },
      "execution_count": 23,
      "outputs": [
        {
          "output_type": "execute_result",
          "data": {
            "text/plain": [
              "array([1, 0, 0, 0, 0, 0, 0, 0], dtype=uint8)"
            ]
          },
          "metadata": {},
          "execution_count": 23
        }
      ]
    },
    {
      "cell_type": "code",
      "source": [
        "int_2_bit_array(192)"
      ],
      "metadata": {
        "id": "Aq5OKjODPW42",
        "colab": {
          "base_uri": "https://localhost:8080/"
        },
        "outputId": "2d2b91c0-2448-4f75-861c-76a323e26359"
      },
      "execution_count": 24,
      "outputs": [
        {
          "output_type": "execute_result",
          "data": {
            "text/plain": [
              "array([1, 1, 0, 0, 0, 0, 0, 0], dtype=uint8)"
            ]
          },
          "metadata": {},
          "execution_count": 24
        }
      ]
    },
    {
      "cell_type": "code",
      "source": [
        "int_2_bit_array(153)"
      ],
      "metadata": {
        "id": "vdGnbUspPaVh",
        "colab": {
          "base_uri": "https://localhost:8080/"
        },
        "outputId": "c92f6ccd-3cf2-411a-d4e3-979a565e4b5b"
      },
      "execution_count": 25,
      "outputs": [
        {
          "output_type": "execute_result",
          "data": {
            "text/plain": [
              "array([1, 0, 0, 1, 1, 0, 0, 1], dtype=uint8)"
            ]
          },
          "metadata": {},
          "execution_count": 25
        }
      ]
    },
    {
      "cell_type": "markdown",
      "source": [
        "Goal:\n",
        "\n",
        "- take image of 256 bytes and reduce each byte to 2 bit in form of 2 element array\n",
        "- turn that all into 512 bits\n",
        "- turn 512 bits into 64 bytes"
      ],
      "metadata": {
        "id": "KDXmg93RcmvX"
      }
    },
    {
      "cell_type": "markdown",
      "source": [
        "# Generalize Standard For Images (MxN)\n",
        "\n",
        "If we create a standard for the header that describes the data stored then we can choose the following paramenters:\n",
        "\n",
        "- length\n",
        "- width\n",
        "- color dim \n",
        "- color bit count\n",
        "\n",
        "In total the number of bits is the product of all the parameters\n",
        "\n",
        "## Greyscale Image \n",
        "\n",
        "## RGB Image\n",
        "\n",
        "## Two Channel Color Standard\n",
        "\n",
        "## Four Channel\n",
        "\n",
        "## General Color Dim\n",
        "\n"
      ],
      "metadata": {
        "id": "kFmxqVuDea6r"
      }
    },
    {
      "cell_type": "code",
      "source": [
        "import numpy as np\n",
        "np.packbits(np.array([True]))"
      ],
      "metadata": {
        "colab": {
          "base_uri": "https://localhost:8080/"
        },
        "id": "AsncnL8icIIF",
        "outputId": "e97535b0-001d-40a7-f153-6bb1612dc7bc"
      },
      "execution_count": 28,
      "outputs": [
        {
          "output_type": "execute_result",
          "data": {
            "text/plain": [
              "array([128], dtype=uint8)"
            ]
          },
          "metadata": {},
          "execution_count": 28
        }
      ]
    },
    {
      "cell_type": "code",
      "source": [
        "def message_2_bit_array(message,mode=None):\n",
        "    '''This function takes in a message as string, bytestring or hextring.\n",
        "    If hexstring input the set mode='hex' '''\n",
        "    if type(message)==bytes:\n",
        "        hex_str=message.hex()\n",
        "    elif (type(message)==str):\n",
        "        if mode not in ('hex','hexstring'):\n",
        "            hex_str=message.encode().hex()\n",
        "        else:\n",
        "            hex_str=message\n",
        "    else:\n",
        "        print('fix the input and mode')\n",
        "        return None\n",
        "    \n",
        "    num=int('0x'+hex_str,base=16)\n",
        "    byte_len=(len(hex_str)+1)//2\n",
        "    bit_len=byte_len*8\n",
        "    bin_str=bin(num)\n",
        "    bit_list=[int(bit) for bit in bin_str[2:]]\n",
        "    bit_list=[0]*(bit_len-len(bit_list))+bit_list\n",
        "    bit_array=np.array(bit_list,dtype='uint8')\n",
        "    return bit_array\n",
        "\n",
        "def bit_array_2_byte_str(bit_array):\n",
        "    '''Convert bit array to a bytestring'''\n",
        "    bit_list=[ str(bit) for bit in bit_array]\n",
        "    bin_str='0b'+(''.join(bit_list))\n",
        "    num=int(bin_str,base=2)\n",
        "    return num.to_bytes(len(bit_array)//8,'big')\n",
        "\n",
        "def bit_array_2_hex_str(bit_array):  \n",
        "    '''Convert a bit array to a hexstring'''\n",
        "    return bit_array_2_byte_str(bit_array).hex()\n",
        "\n",
        "def bit_array_2_str(bit_array,encoding='utf-8'):\n",
        "    '''Convert a bit array to a string'''\n",
        "    return bit_array_2_byte_str(bit_array).decode(encoding)"
      ],
      "metadata": {
        "id": "rsUqVeQXiaH4"
      },
      "execution_count": 29,
      "outputs": []
    },
    {
      "cell_type": "code",
      "source": [
        "message_2_bit_array(b'sdjnvsdjnskjnv',mode=None)"
      ],
      "metadata": {
        "id": "zEm5E-uikh8L",
        "outputId": "3896d7d4-ebf6-42f8-fd53-636e1cc30637",
        "colab": {
          "base_uri": "https://localhost:8080/"
        }
      },
      "execution_count": 30,
      "outputs": [
        {
          "output_type": "execute_result",
          "data": {
            "text/plain": [
              "array([0, 1, 1, 1, 0, 0, 1, 1, 0, 1, 1, 0, 0, 1, 0, 0, 0, 1, 1, 0, 1, 0,\n",
              "       1, 0, 0, 1, 1, 0, 1, 1, 1, 0, 0, 1, 1, 1, 0, 1, 1, 0, 0, 1, 1, 1,\n",
              "       0, 0, 1, 1, 0, 1, 1, 0, 0, 1, 0, 0, 0, 1, 1, 0, 1, 0, 1, 0, 0, 1,\n",
              "       1, 0, 1, 1, 1, 0, 0, 1, 1, 1, 0, 0, 1, 1, 0, 1, 1, 0, 1, 0, 1, 1,\n",
              "       0, 1, 1, 0, 1, 0, 1, 0, 0, 1, 1, 0, 1, 1, 1, 0, 0, 1, 1, 1, 0, 1,\n",
              "       1, 0], dtype=uint8)"
            ]
          },
          "metadata": {},
          "execution_count": 30
        }
      ]
    },
    {
      "cell_type": "code",
      "source": [
        ""
      ],
      "metadata": {
        "id": "DQet93sYlV48"
      },
      "execution_count": 30,
      "outputs": []
    },
    {
      "cell_type": "markdown",
      "source": [
        "Now we need a to function that \n",
        "- takes an image and turns to a bit array\n",
        "- takes *uint8* value and turns to bit array"
      ],
      "metadata": {
        "id": "kA88bFFJl5gZ"
      }
    },
    {
      "cell_type": "code",
      "source": [
        "def int2bitarray(x,bit=8):\n",
        "  return message_2_bit_array(hex(x)[2:],mode='hex')[:bit]"
      ],
      "metadata": {
        "id": "BKgZ3zyamhvX"
      },
      "execution_count": 49,
      "outputs": []
    },
    {
      "cell_type": "code",
      "source": [
        "A=int2bitarray(90)\n",
        "A"
      ],
      "metadata": {
        "id": "H9zjOmlhnxoB",
        "outputId": "03573f51-79c3-43e7-c640-26d7d002024a",
        "colab": {
          "base_uri": "https://localhost:8080/"
        }
      },
      "execution_count": 50,
      "outputs": [
        {
          "output_type": "execute_result",
          "data": {
            "text/plain": [
              "array([0, 1, 0, 1, 1, 0, 1, 0], dtype=uint8)"
            ]
          },
          "metadata": {},
          "execution_count": 50
        }
      ]
    },
    {
      "cell_type": "code",
      "source": [
        "A7=int2bitarray(90,bit=7)\n",
        "A7"
      ],
      "metadata": {
        "id": "J4mqtt1gofmP",
        "outputId": "dca6da2e-fb47-4bc4-bd3c-2f0ea0ed6b35",
        "colab": {
          "base_uri": "https://localhost:8080/"
        }
      },
      "execution_count": 51,
      "outputs": [
        {
          "output_type": "execute_result",
          "data": {
            "text/plain": [
              "array([0, 1, 0, 1, 1, 0, 1], dtype=uint8)"
            ]
          },
          "metadata": {},
          "execution_count": 51
        }
      ]
    },
    {
      "cell_type": "code",
      "source": [
        "A2=int2bitarray(90,bit=2)\n",
        "A2"
      ],
      "metadata": {
        "id": "7w3-6JOfp84s",
        "outputId": "bba1cc5e-336f-409a-f741-4ec361264379",
        "colab": {
          "base_uri": "https://localhost:8080/"
        }
      },
      "execution_count": 52,
      "outputs": [
        {
          "output_type": "execute_result",
          "data": {
            "text/plain": [
              "array([0, 1], dtype=uint8)"
            ]
          },
          "metadata": {},
          "execution_count": 52
        }
      ]
    },
    {
      "cell_type": "code",
      "source": [
        "(2**np.arange(7,-1,-1))"
      ],
      "metadata": {
        "id": "wbjFSdiJswWl",
        "outputId": "257f18b4-a9f0-43e1-ebea-472475065c2d",
        "colab": {
          "base_uri": "https://localhost:8080/"
        }
      },
      "execution_count": 53,
      "outputs": [
        {
          "output_type": "execute_result",
          "data": {
            "text/plain": [
              "array([128,  64,  32,  16,   8,   4,   2,   1])"
            ]
          },
          "metadata": {},
          "execution_count": 53
        }
      ]
    },
    {
      "cell_type": "code",
      "source": [
        "def bitarray2int(b_arr):\n",
        "  ln=b_arr.shape[0]\n",
        "  scales=(2**np.arange(7,-1,-1))[:ln]\n",
        "  return (b_arr*scales).sum()"
      ],
      "metadata": {
        "id": "zk1oRgPhqAmp"
      },
      "execution_count": 54,
      "outputs": []
    },
    {
      "cell_type": "code",
      "source": [
        "B=int2bitarray(255,bit=2)\n",
        "B"
      ],
      "metadata": {
        "id": "Dq5dfFgbu2Td",
        "outputId": "9ea3b6c4-f667-4ed8-db46-1ae2babde895",
        "colab": {
          "base_uri": "https://localhost:8080/"
        }
      },
      "execution_count": 55,
      "outputs": [
        {
          "output_type": "execute_result",
          "data": {
            "text/plain": [
              "array([1, 1], dtype=uint8)"
            ]
          },
          "metadata": {},
          "execution_count": 55
        }
      ]
    },
    {
      "cell_type": "code",
      "source": [
        "bitarray2int(A)"
      ],
      "metadata": {
        "id": "jwrC3mSGrk6Z",
        "outputId": "669484cc-e51b-4afa-eee1-9741b9935552",
        "colab": {
          "base_uri": "https://localhost:8080/"
        }
      },
      "execution_count": 56,
      "outputs": [
        {
          "output_type": "execute_result",
          "data": {
            "text/plain": [
              "90"
            ]
          },
          "metadata": {},
          "execution_count": 56
        }
      ]
    },
    {
      "cell_type": "code",
      "source": [
        "bitarray2int(B)"
      ],
      "metadata": {
        "id": "19xKv3EAujOS",
        "outputId": "49f8d4b9-4bcc-478e-8cd9-f498953f88d0",
        "colab": {
          "base_uri": "https://localhost:8080/"
        }
      },
      "execution_count": 57,
      "outputs": [
        {
          "output_type": "execute_result",
          "data": {
            "text/plain": [
              "192"
            ]
          },
          "metadata": {},
          "execution_count": 57
        }
      ]
    },
    {
      "cell_type": "code",
      "source": [
        "def bitarray2int_scale(b_arr):\n",
        "  ln=b_arr.shape[0]\n",
        "  scales=(2**np.arange(7,-1,-1))[:ln]\n",
        "  return int((b_arr*scales).sum()*255/bitarray2int(np.ones(ln,dtype='uint8')))"
      ],
      "metadata": {
        "id": "yX7QEm0ovuZc"
      },
      "execution_count": 58,
      "outputs": []
    },
    {
      "cell_type": "code",
      "source": [
        "bitarray2int_scale(B)"
      ],
      "metadata": {
        "id": "lW750XlFw6Qg",
        "outputId": "f3e08223-a76c-4d83-df45-96d24378247d",
        "colab": {
          "base_uri": "https://localhost:8080/"
        }
      },
      "execution_count": 59,
      "outputs": [
        {
          "output_type": "execute_result",
          "data": {
            "text/plain": [
              "255"
            ]
          },
          "metadata": {},
          "execution_count": 59
        }
      ]
    },
    {
      "cell_type": "code",
      "source": [
        "bitarray2int_scale(np.array([1,1]))"
      ],
      "metadata": {
        "id": "s67MLWLLxCQl",
        "outputId": "fe6028fc-939f-40d1-efdd-3dc997aa930b",
        "colab": {
          "base_uri": "https://localhost:8080/"
        }
      },
      "execution_count": 60,
      "outputs": [
        {
          "output_type": "execute_result",
          "data": {
            "text/plain": [
              "255"
            ]
          },
          "metadata": {},
          "execution_count": 60
        }
      ]
    },
    {
      "cell_type": "code",
      "source": [
        "def imgarr2bitarray(imgarr,bit=8):\n",
        "  return np.array([ int2bitarray(it,bit) for it in imgarr.reshape(-1)]).reshape(-1)"
      ],
      "metadata": {
        "id": "jbDIPfeTxKAe"
      },
      "execution_count": 100,
      "outputs": []
    },
    {
      "cell_type": "code",
      "source": [
        "imgarr2bitarray(stego_array_grey,2)"
      ],
      "metadata": {
        "id": "ihGhAj7pTa-g",
        "outputId": "e5af066f-13ed-4b17-9f79-5da00a8089bc",
        "colab": {
          "base_uri": "https://localhost:8080/",
          "height": 168
        }
      },
      "execution_count": 1,
      "outputs": [
        {
          "output_type": "error",
          "ename": "NameError",
          "evalue": "ignored",
          "traceback": [
            "\u001b[0;31m---------------------------------------------------------------------------\u001b[0m",
            "\u001b[0;31mNameError\u001b[0m                                 Traceback (most recent call last)",
            "\u001b[0;32m<ipython-input-1-9dc5326e9a20>\u001b[0m in \u001b[0;36m<module>\u001b[0;34m()\u001b[0m\n\u001b[0;32m----> 1\u001b[0;31m \u001b[0mimgarr2bitarray\u001b[0m\u001b[0;34m(\u001b[0m\u001b[0mstego_array_grey\u001b[0m\u001b[0;34m,\u001b[0m\u001b[0;36m2\u001b[0m\u001b[0;34m)\u001b[0m\u001b[0;34m\u001b[0m\u001b[0;34m\u001b[0m\u001b[0m\n\u001b[0m",
            "\u001b[0;31mNameError\u001b[0m: name 'imgarr2bitarray' is not defined"
          ]
        }
      ]
    },
    {
      "cell_type": "code",
      "source": [
        "Image.fromarray(imgarr2bitarray(stego_array_grey,4).reshape(32,32)*255)"
      ],
      "metadata": {
        "id": "yKM48wdyTfeX",
        "outputId": "7206b114-7455-4ab1-abca-1d610ea67d37",
        "colab": {
          "base_uri": "https://localhost:8080/",
          "height": 49
        }
      },
      "execution_count": 105,
      "outputs": [
        {
          "output_type": "execute_result",
          "data": {
            "text/plain": [
              "<PIL.Image.Image image mode=L size=32x32 at 0x7FD7892B5850>"
            ],
            "image/png": "[encoded data removed]"
          },
          "metadata": {},
          "execution_count": 105
        }
      ]
    },
    {
      "cell_type": "code",
      "source": [
        "64*32/8"
      ],
      "metadata": {
        "id": "HL8ryaCnZSJ1",
        "outputId": "1851db5f-080b-43e1-c040-dbfb40eb7aaf",
        "colab": {
          "base_uri": "https://localhost:8080/"
        }
      },
      "execution_count": 103,
      "outputs": [
        {
          "output_type": "execute_result",
          "data": {
            "text/plain": [
              "256.0"
            ]
          },
          "metadata": {},
          "execution_count": 103
        }
      ]
    },
    {
      "cell_type": "code",
      "source": [
        "Image.fromarray(imgarr2bitarray(stego_array_grey,1).reshape(16,16)*255)"
      ],
      "metadata": {
        "id": "tt529BB3UP-8",
        "outputId": "15f73e0e-723f-42de-c907-86ca34b692f8",
        "colab": {
          "base_uri": "https://localhost:8080/",
          "height": 34
        }
      },
      "execution_count": 104,
      "outputs": [
        {
          "output_type": "execute_result",
          "data": {
            "text/plain": [
              "<PIL.Image.Image image mode=L size=16x16 at 0x7FD788E7B250>"
            ],
            "image/png": "[encoded data removed]"
          },
          "metadata": {},
          "execution_count": 104
        }
      ]
    },
    {
      "cell_type": "code",
      "source": [
        ""
      ],
      "metadata": {
        "id": "M2z0gZvPWgo_"
      },
      "execution_count": null,
      "outputs": []
    }
  ]
}