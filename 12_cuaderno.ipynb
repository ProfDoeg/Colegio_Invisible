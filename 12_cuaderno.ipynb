{
  "nbformat": 4,
  "nbformat_minor": 0,
  "metadata": {
    "colab": {
      "name": "12_cuaderno.ipynb",
      "provenance": [],
      "include_colab_link": true
    },
    "kernelspec": {
      "name": "python3",
      "display_name": "Python 3"
    },
    "language_info": {
      "name": "python"
    }
  },
  "cells": [
    {
      "cell_type": "markdown",
      "metadata": {
        "id": "view-in-github",
        "colab_type": "text"
      },
      "source": [
        "<a href=\"https://colab.research.google.com/github/ProfDoeg/Colegio_Invisible/blob/main/12_cuaderno.ipynb\" target=\"_parent\"><img src=\"https://colab.research.google.com/assets/colab-badge.svg\" alt=\"Open In Colab\"/></a>"
      ]
    },
    {
      "cell_type": "code",
      "source": [
        "#! rm Colegio_Invisible -r"
      ],
      "metadata": {
        "id": "6YV5qP8RODUW"
      },
      "execution_count": null,
      "outputs": []
    },
    {
      "cell_type": "code",
      "execution_count": 1,
      "metadata": {
        "id": "p80LxM-iMpBC",
        "outputId": "daaec8a0-c6cb-49ce-a3a6-c2b51f9b883e",
        "colab": {
          "base_uri": "https://localhost:8080/"
        }
      },
      "outputs": [
        {
          "output_type": "stream",
          "name": "stdout",
          "text": [
            "Requirement already satisfied: Pillow in /usr/local/lib/python3.7/dist-packages (7.1.2)\n",
            "Cloning into 'Colegio_Invisible'...\n",
            "remote: Enumerating objects: 999, done.\u001b[K\n",
            "remote: Counting objects: 100% (9/9), done.\u001b[K\n",
            "remote: Compressing objects: 100% (9/9), done.\u001b[K\n",
            "remote: Total 999 (delta 3), reused 0 (delta 0), pack-reused 990\u001b[K\n",
            "Receiving objects: 100% (999/999), 67.40 MiB | 35.71 MiB/s, done.\n",
            "Resolving deltas: 100% (684/684), done.\n"
          ]
        }
      ],
      "source": [
        "! pip install Pillow\n",
        "! git clone https://github.com/ProfDoeg/Colegio_Invisible.git\n"
      ]
    },
    {
      "cell_type": "markdown",
      "source": [
        "for an image...there are pixels\n",
        "\n",
        "each pixel has 3,4 values (Red Green Blue and sometime Alpha)\n",
        "\n",
        "those numbers are...1 byte...0 to 255"
      ],
      "metadata": {
        "id": "A54RU5ZeUZZk"
      }
    },
    {
      "cell_type": "code",
      "source": [
        "from PIL import Image\n",
        "import numpy as np"
      ],
      "metadata": {
        "id": "jSzywLaHMsem"
      },
      "execution_count": 2,
      "outputs": []
    },
    {
      "cell_type": "code",
      "source": [
        "64*8"
      ],
      "metadata": {
        "id": "1JvV7B_FV4xc",
        "outputId": "b8a95d4a-4afe-46fb-d581-d32c4522b9e3",
        "colab": {
          "base_uri": "https://localhost:8080/"
        }
      },
      "execution_count": null,
      "outputs": [
        {
          "output_type": "execute_result",
          "data": {
            "text/plain": [
              "512"
            ]
          },
          "metadata": {},
          "execution_count": 4
        }
      ]
    },
    {
      "cell_type": "markdown",
      "source": [
        "what can we put into blockchain...\n",
        "Op_Return\n",
        "80 bytes and we will use 64 bytes for image data\n",
        "\n",
        "each byte is made up of 8 binary values 1/0 called bits\n",
        "\n",
        "64 bytes = 64*8...512 bits\n",
        "\n",
        "We want to put image in single block\n",
        "\n",
        "PROPOSAL:\n",
        "\n",
        "16x16 image = 256 pixels\n",
        "\n",
        "only get to use 2 bits per pixel\n",
        "\n",
        "- 0,0  0 \n",
        "- 0,1  64\n",
        "- 1,0  128\n",
        "- 1,1  192\n",
        "\n",
        "1 byte [ , , , , , , , ]\n",
        "\n",
        "1 byte can tell us color of 4 pixels\n",
        "each one taking up 2 bits"
      ],
      "metadata": {
        "id": "g5RXqfJ_VK9u"
      }
    },
    {
      "cell_type": "code",
      "source": [
        "\"\""
      ],
      "metadata": {
        "id": "VpT7x5CIWHyc"
      },
      "execution_count": null,
      "outputs": []
    },
    {
      "cell_type": "code",
      "source": [
        "!ls Colegio_Invisible/img"
      ],
      "metadata": {
        "id": "zo2ZCW_xNzMj",
        "outputId": "0183cca0-7b26-4f52-be09-450cd9a3d628",
        "colab": {
          "base_uri": "https://localhost:8080/"
        }
      },
      "execution_count": null,
      "outputs": [
        {
          "output_type": "stream",
          "name": "stdout",
          "text": [
            "Apollo_Slays_Python_1853.jpeg  colegio_invisible.jpeg  rum_1.jpeg\n",
            "asymmetric.png\t\t       hg_cry.jpeg\t       rum_2.jpeg\n",
            "bab_crop.jpeg\t\t       hg_drop.jpeg\t       rum_3.jpeg\n",
            "barb_1.jpeg\t\t       hg_hide.jpeg\t       rum_4.jpeg\n",
            "barb_2.jpeg\t\t       hg_house.jpeg\t       rum_5.jpeg\n",
            "barb_3.jpeg\t\t       hg_invite.jpeg\t       rum_6.jpeg\n",
            "barb_4.jpeg\t\t       hg_rough.png\t       rum_7.jpeg\n",
            "barb_5.jpeg\t\t       hg_xmas.jpeg\t       rump_final.jpeg\n",
            "barb_6.jpeg\t\t       prv_pub_addr.png        signature.png\n",
            "barb_7.jpeg\t\t       PubKeyToAddr.png        stego.png\n",
            "clavis.jpeg\t\t       rum_0.jpeg\t       symmetric.png\n"
          ]
        }
      ]
    },
    {
      "cell_type": "code",
      "source": [
        "stego_image=Image.open('Colegio_Invisible/img/stego.png')\n",
        "stego_image=stego_image.resize((16,16))\n",
        "stego_image"
      ],
      "metadata": {
        "id": "3cAzcOtCNoF-",
        "outputId": "c928ab60-7f61-4b11-d842-5fd8481e0a57",
        "colab": {
          "base_uri": "https://localhost:8080/",
          "height": 34
        }
      },
      "execution_count": 3,
      "outputs": [
        {
          "output_type": "execute_result",
          "data": {
            "text/plain": [
              "<PIL.Image.Image image mode=RGBA size=16x16 at 0x7FEE0E74E090>"
            ],
            "image/png": "[encoded data removed]"
          },
          "metadata": {},
          "execution_count": 3
        }
      ]
    },
    {
      "cell_type": "code",
      "source": [
        "type(stego_image)"
      ],
      "metadata": {
        "id": "vJ758msHNu5T",
        "outputId": "7f0a92ac-a109-4aef-ac38-44c08742a07d",
        "colab": {
          "base_uri": "https://localhost:8080/"
        }
      },
      "execution_count": null,
      "outputs": [
        {
          "output_type": "execute_result",
          "data": {
            "text/plain": [
              "PIL.Image.Image"
            ]
          },
          "metadata": {},
          "execution_count": 8
        }
      ]
    },
    {
      "cell_type": "code",
      "source": [
        "stego_array = np.array(stego_image)\n",
        "stego_array"
      ],
      "metadata": {
        "id": "MK5bUIKbOTbj",
        "outputId": "615d765c-3f13-4f1d-fc24-3566435f9088",
        "colab": {
          "base_uri": "https://localhost:8080/"
        }
      },
      "execution_count": 4,
      "outputs": [
        {
          "output_type": "execute_result",
          "data": {
            "text/plain": [
              "array([[[179, 131, 173, 255],\n",
              "        [191, 152, 184, 255],\n",
              "        [207, 172, 201, 255],\n",
              "        ...,\n",
              "        [245, 225, 187, 255],\n",
              "        [233, 215, 197, 255],\n",
              "        [228, 208, 229, 255]],\n",
              "\n",
              "       [[172, 140, 174, 255],\n",
              "        [182, 146, 179, 255],\n",
              "        [181, 149, 179, 255],\n",
              "        ...,\n",
              "        [214, 197,  94, 255],\n",
              "        [234, 214, 137, 255],\n",
              "        [227, 208, 209, 255]],\n",
              "\n",
              "       [[101, 112, 121, 255],\n",
              "        [124, 119, 139, 255],\n",
              "        [141, 105, 100, 255],\n",
              "        ...,\n",
              "        [105, 124,  87, 255],\n",
              "        [130, 140,  98, 255],\n",
              "        [151, 158, 141, 255]],\n",
              "\n",
              "       ...,\n",
              "\n",
              "       [[ 85,  65,  92, 255],\n",
              "        [125,  92,  81, 255],\n",
              "        [221, 154,  38, 255],\n",
              "        ...,\n",
              "        [113,  89, 107, 255],\n",
              "        [102,  85, 101, 255],\n",
              "        [ 93,  81,  97, 255]],\n",
              "\n",
              "       [[111,  79,  96, 255],\n",
              "        [164, 118,  77, 255],\n",
              "        [194, 143,  63, 255],\n",
              "        ...,\n",
              "        [127,  96, 112, 255],\n",
              "        [135, 100, 111, 255],\n",
              "        [110,  96, 106, 255]],\n",
              "\n",
              "       [[ 99,  69,  94, 255],\n",
              "        [124,  85,  93, 255],\n",
              "        [142, 101,  95, 255],\n",
              "        ...,\n",
              "        [121,  87, 100, 255],\n",
              "        [108,  78,  95, 255],\n",
              "        [ 90,  75,  94, 255]]], dtype=uint8)"
            ]
          },
          "metadata": {},
          "execution_count": 4
        }
      ]
    },
    {
      "cell_type": "markdown",
      "source": [
        "**`uint8`** stands for unsigned 8-bit integer\n",
        "- 8 binary 1/0 values\n",
        "- that is one byte\n",
        "- a number from 0-255\n",
        "- two hex values like ff"
      ],
      "metadata": {
        "id": "5Gq3lpQ2Oh92"
      }
    },
    {
      "cell_type": "code",
      "source": [
        "stego_array.dtype"
      ],
      "metadata": {
        "id": "HnvaTb7qOcCX",
        "outputId": "3b68c8e3-5f68-49cf-dbe3-394031529e65",
        "colab": {
          "base_uri": "https://localhost:8080/"
        }
      },
      "execution_count": 5,
      "outputs": [
        {
          "output_type": "execute_result",
          "data": {
            "text/plain": [
              "dtype('uint8')"
            ]
          },
          "metadata": {},
          "execution_count": 5
        }
      ]
    },
    {
      "cell_type": "code",
      "source": [
        "stego_array.shape"
      ],
      "metadata": {
        "id": "ZtupzBOJOWjT",
        "outputId": "f9ba6bb8-5631-49ce-eff9-e40086eb7a90",
        "colab": {
          "base_uri": "https://localhost:8080/"
        }
      },
      "execution_count": 6,
      "outputs": [
        {
          "output_type": "execute_result",
          "data": {
            "text/plain": [
              "(16, 16, 4)"
            ]
          },
          "metadata": {},
          "execution_count": 6
        }
      ]
    },
    {
      "cell_type": "code",
      "source": [
        "stego_array[:,:,:3]"
      ],
      "metadata": {
        "id": "kCWICwyyYpxN",
        "outputId": "daf37e01-2abe-4655-9939-41761b6b31ad",
        "colab": {
          "base_uri": "https://localhost:8080/"
        }
      },
      "execution_count": 7,
      "outputs": [
        {
          "output_type": "execute_result",
          "data": {
            "text/plain": [
              "array([[[179, 131, 173],\n",
              "        [191, 152, 184],\n",
              "        [207, 172, 201],\n",
              "        [220, 191, 217],\n",
              "        [216, 191, 212],\n",
              "        [210, 185, 207],\n",
              "        [209, 180, 206],\n",
              "        [215, 185, 210],\n",
              "        [226, 202, 227],\n",
              "        [220, 195, 219],\n",
              "        [225, 200, 223],\n",
              "        [224, 206, 225],\n",
              "        [238, 217, 214],\n",
              "        [245, 225, 187],\n",
              "        [233, 215, 197],\n",
              "        [228, 208, 229]],\n",
              "\n",
              "       [[172, 140, 174],\n",
              "        [182, 146, 179],\n",
              "        [181, 149, 179],\n",
              "        [187, 166, 192],\n",
              "        [206, 155, 162],\n",
              "        [192, 147, 155],\n",
              "        [184, 148, 160],\n",
              "        [198, 146, 144],\n",
              "        [195, 174, 199],\n",
              "        [198, 175, 190],\n",
              "        [191, 173, 198],\n",
              "        [215, 195, 190],\n",
              "        [205, 189, 126],\n",
              "        [214, 197,  94],\n",
              "        [234, 214, 137],\n",
              "        [227, 208, 209]],\n",
              "\n",
              "       [[101, 112, 121],\n",
              "        [124, 119, 139],\n",
              "        [141, 105, 100],\n",
              "        [102,  97, 104],\n",
              "        [174,  99,  78],\n",
              "        [160,  87,  68],\n",
              "        [159,  93,  74],\n",
              "        [180, 106,  80],\n",
              "        [149, 110,  93],\n",
              "        [142, 113, 100],\n",
              "        [ 95, 105, 120],\n",
              "        [142, 142, 114],\n",
              "        [134, 141, 100],\n",
              "        [105, 124,  87],\n",
              "        [130, 140,  98],\n",
              "        [151, 158, 141]],\n",
              "\n",
              "       [[ 65, 103, 100],\n",
              "        [ 64,  99, 104],\n",
              "        [148,  93,  69],\n",
              "        [122,  79,  62],\n",
              "        [151,  79,  58],\n",
              "        [140,  75,  60],\n",
              "        [162,  83,  53],\n",
              "        [170,  93,  63],\n",
              "        [138,  88,  66],\n",
              "        [122,  98,  78],\n",
              "        [ 63,  85,  83],\n",
              "        [ 78,  87,  71],\n",
              "        [ 57,  81,  72],\n",
              "        [ 45,  67,  70],\n",
              "        [ 54,  61,  69],\n",
              "        [ 65,  65,  86]],\n",
              "\n",
              "       [[ 81,  69,  87],\n",
              "        [ 58,  64,  82],\n",
              "        [104,  64,  70],\n",
              "        [123,  67,  65],\n",
              "        [106,  60,  67],\n",
              "        [ 93,  64,  68],\n",
              "        [115,  68,  64],\n",
              "        [120,  68,  68],\n",
              "        [ 90,  64,  74],\n",
              "        [ 78,  70,  77],\n",
              "        [161,  90,  53],\n",
              "        [110,  66,  71],\n",
              "        [ 63,  48, 101],\n",
              "        [ 81,  48,  97],\n",
              "        [ 76,  43,  85],\n",
              "        [ 62,  43,  90]],\n",
              "\n",
              "       [[134,  76,  86],\n",
              "        [132,  74,  71],\n",
              "        [ 95,  60,  87],\n",
              "        [141,  69,  66],\n",
              "        [152, 103,  65],\n",
              "        [184, 128,  50],\n",
              "        [218, 171,  53],\n",
              "        [213, 167,  56],\n",
              "        [179, 126,  56],\n",
              "        [115,  78,  83],\n",
              "        [168,  77,  58],\n",
              "        [126,  68,  96],\n",
              "        [ 75,  50, 127],\n",
              "        [ 93,  56, 107],\n",
              "        [142,  88,  79],\n",
              "        [128,  82,  77]],\n",
              "\n",
              "       [[ 75,  53,  86],\n",
              "        [113,  66,  64],\n",
              "        [ 97,  70,  85],\n",
              "        [199, 138,  48],\n",
              "        [241, 175,  29],\n",
              "        [230, 163,  38],\n",
              "        [244, 203,  48],\n",
              "        [246, 209,  48],\n",
              "        [244, 189,  29],\n",
              "        [230, 175,  32],\n",
              "        [148, 103,  62],\n",
              "        [103,  56,  90],\n",
              "        [112,  54, 101],\n",
              "        [113,  61,  94],\n",
              "        [197, 143,  70],\n",
              "        [147,  86,  79]],\n",
              "\n",
              "       [[131, 108,  75],\n",
              "        [177, 128,  60],\n",
              "        [192, 138,  49],\n",
              "        [239, 182,  32],\n",
              "        [235, 180,  34],\n",
              "        [236, 186,  38],\n",
              "        [246, 209,  51],\n",
              "        [242, 204,  44],\n",
              "        [235, 187,  33],\n",
              "        [240, 188,  27],\n",
              "        [231, 182,  33],\n",
              "        [171, 117,  50],\n",
              "        [155, 104,  62],\n",
              "        [197, 157,  57],\n",
              "        [213, 170,  64],\n",
              "        [ 70,  70, 100]],\n",
              "\n",
              "       [[218, 170,  64],\n",
              "        [231, 183,  77],\n",
              "        [216, 138,  40],\n",
              "        [237, 186,  29],\n",
              "        [240, 192,  29],\n",
              "        [236, 193,  39],\n",
              "        [240, 203,  50],\n",
              "        [241, 203,  45],\n",
              "        [238, 190,  31],\n",
              "        [238, 185,  31],\n",
              "        [246, 187,  33],\n",
              "        [245, 180,  34],\n",
              "        [247, 186,  30],\n",
              "        [238, 193,  40],\n",
              "        [113,  89,  91],\n",
              "        [ 45,  93, 121]],\n",
              "\n",
              "       [[195, 161,  55],\n",
              "        [217, 160,  36],\n",
              "        [234, 188,  47],\n",
              "        [238, 196,  46],\n",
              "        [237, 187,  27],\n",
              "        [240, 192,  32],\n",
              "        [247, 207,  40],\n",
              "        [241, 201,  39],\n",
              "        [236, 191,  46],\n",
              "        [216, 175,  78],\n",
              "        [217, 178,  84],\n",
              "        [220, 180,  82],\n",
              "        [188, 138,  71],\n",
              "        [113,  74,  81],\n",
              "        [ 66,  83, 108],\n",
              "        [ 52, 123, 120]],\n",
              "\n",
              "       [[207, 173,  59],\n",
              "        [231, 176,  32],\n",
              "        [240, 205,  75],\n",
              "        [242, 203,  60],\n",
              "        [232, 181,  39],\n",
              "        [233, 189,  47],\n",
              "        [241, 200,  43],\n",
              "        [241, 199,  36],\n",
              "        [220, 171,  54],\n",
              "        [118,  66, 103],\n",
              "        [ 83,  37, 106],\n",
              "        [ 91,  41, 100],\n",
              "        [ 78,  31,  98],\n",
              "        [ 85,  62,  99],\n",
              "        [ 69, 106, 109],\n",
              "        [ 33, 144, 136]],\n",
              "\n",
              "       [[162, 170, 106],\n",
              "        [246, 199,  53],\n",
              "        [241, 205,  75],\n",
              "        [240, 204,  59],\n",
              "        [225, 188,  56],\n",
              "        [227, 194,  86],\n",
              "        [242, 201,  41],\n",
              "        [238, 192,  35],\n",
              "        [220, 156,  40],\n",
              "        [110,  59,  93],\n",
              "        [ 86,  43,  99],\n",
              "        [ 88,  46,  91],\n",
              "        [ 85,  43,  88],\n",
              "        [ 89,  78,  99],\n",
              "        [ 78,  78,  89],\n",
              "        [ 55,  87,  95]],\n",
              "\n",
              "       [[ 87,  80,  95],\n",
              "        [169, 141,  90],\n",
              "        [216, 174,  67],\n",
              "        [248, 209,  58],\n",
              "        [250, 204,  31],\n",
              "        [167, 134,  70],\n",
              "        [164, 131,  59],\n",
              "        [241, 194,  33],\n",
              "        [240, 178,  30],\n",
              "        [163, 124,  67],\n",
              "        [102,  69,  92],\n",
              "        [116,  81,  95],\n",
              "        [109,  75,  92],\n",
              "        [ 98,  79,  95],\n",
              "        [ 84,  74,  89],\n",
              "        [ 82,  74,  90]],\n",
              "\n",
              "       [[ 85,  65,  92],\n",
              "        [125,  92,  81],\n",
              "        [221, 154,  38],\n",
              "        [170, 127,  73],\n",
              "        [225, 183,  43],\n",
              "        [194, 154,  54],\n",
              "        [114,  81,  94],\n",
              "        [223, 180,  42],\n",
              "        [215, 170,  45],\n",
              "        [224, 185,  58],\n",
              "        [124,  88,  99],\n",
              "        [111,  82, 101],\n",
              "        [108,  82, 103],\n",
              "        [113,  89, 107],\n",
              "        [102,  85, 101],\n",
              "        [ 93,  81,  97]],\n",
              "\n",
              "       [[111,  79,  96],\n",
              "        [164, 118,  77],\n",
              "        [194, 143,  63],\n",
              "        [116,  80, 103],\n",
              "        [187, 144,  63],\n",
              "        [213, 170,  49],\n",
              "        [114,  81, 102],\n",
              "        [210, 166,  50],\n",
              "        [208, 163,  60],\n",
              "        [190, 150,  84],\n",
              "        [130,  91,  99],\n",
              "        [118,  86, 104],\n",
              "        [116,  89, 108],\n",
              "        [127,  96, 112],\n",
              "        [135, 100, 111],\n",
              "        [110,  96, 106]],\n",
              "\n",
              "       [[ 99,  69,  94],\n",
              "        [124,  85,  93],\n",
              "        [142, 101,  95],\n",
              "        [128,  89, 101],\n",
              "        [153, 111,  87],\n",
              "        [174, 130,  80],\n",
              "        [125,  87, 104],\n",
              "        [177, 133,  85],\n",
              "        [175, 127,  90],\n",
              "        [143, 104, 108],\n",
              "        [130,  91, 106],\n",
              "        [122,  85, 102],\n",
              "        [121,  90, 106],\n",
              "        [121,  87, 100],\n",
              "        [108,  78,  95],\n",
              "        [ 90,  75,  94]]], dtype=uint8)"
            ]
          },
          "metadata": {},
          "execution_count": 7
        }
      ]
    },
    {
      "cell_type": "code",
      "source": [
        "stego_array_grey=stego_array[:,:,:3].mean(axis=2).astype('uint8')\n",
        "stego_array_grey.shape,stego_array_grey.dtype"
      ],
      "metadata": {
        "id": "kWBZaDEZOgW_",
        "outputId": "3143a540-d1c6-41a9-915b-34c237fbfb7b",
        "colab": {
          "base_uri": "https://localhost:8080/"
        }
      },
      "execution_count": 8,
      "outputs": [
        {
          "output_type": "execute_result",
          "data": {
            "text/plain": [
              "((16, 16), dtype('uint8'))"
            ]
          },
          "metadata": {},
          "execution_count": 8
        }
      ]
    },
    {
      "cell_type": "code",
      "source": [
        "stego_array_grey"
      ],
      "metadata": {
        "id": "A0nsbRaZOnxN",
        "outputId": "2372415a-748e-41c4-b729-f32243885d47",
        "colab": {
          "base_uri": "https://localhost:8080/"
        }
      },
      "execution_count": 9,
      "outputs": [
        {
          "output_type": "execute_result",
          "data": {
            "text/plain": [
              "array([[161, 175, 193, 209, 206, 200, 198, 203, 218, 211, 216, 218, 223,\n",
              "        219, 215, 221],\n",
              "       [162, 169, 169, 181, 174, 164, 164, 162, 189, 187, 187, 200, 173,\n",
              "        168, 195, 214],\n",
              "       [111, 127, 115, 101, 117, 105, 108, 122, 117, 118, 106, 132, 125,\n",
              "        105, 122, 150],\n",
              "       [ 89,  89, 103,  87,  96,  91,  99, 108,  97,  99,  77,  78,  70,\n",
              "         60,  61,  72],\n",
              "       [ 79,  68,  79,  85,  77,  75,  82,  85,  76,  75, 101,  82,  70,\n",
              "         75,  68,  65],\n",
              "       [ 98,  92,  80,  92, 106, 120, 147, 145, 120,  92, 101,  96,  84,\n",
              "         85, 103,  95],\n",
              "       [ 71,  81,  84, 128, 148, 143, 165, 167, 154, 145, 104,  83,  89,\n",
              "         89, 136, 104],\n",
              "       [104, 121, 126, 151, 149, 153, 168, 163, 151, 151, 148, 112, 107,\n",
              "        137, 149,  80],\n",
              "       [150, 163, 131, 150, 153, 156, 164, 163, 153, 151, 155, 153, 154,\n",
              "        157,  97,  86],\n",
              "       [137, 137, 156, 160, 150, 154, 164, 160, 157, 156, 159, 160, 132,\n",
              "         89,  85,  98],\n",
              "       [146, 146, 173, 168, 150, 156, 161, 158, 148,  95,  75,  77,  69,\n",
              "         82,  94, 104],\n",
              "       [146, 166, 173, 167, 156, 169, 161, 155, 138,  87,  76,  75,  72,\n",
              "         88,  81,  79],\n",
              "       [ 87, 133, 152, 171, 161, 123, 118, 156, 149, 118,  87,  97,  92,\n",
              "         90,  82,  82],\n",
              "       [ 80,  99, 137, 123, 150, 134,  96, 148, 143, 155, 103,  98,  97,\n",
              "        103,  96,  90],\n",
              "       [ 95, 119, 133,  99, 131, 144,  99, 142, 143, 141, 106, 102, 104,\n",
              "        111, 115, 104],\n",
              "       [ 87, 100, 112, 106, 117, 128, 105, 131, 130, 118, 109, 103, 105,\n",
              "        102,  93,  86]], dtype=uint8)"
            ]
          },
          "metadata": {},
          "execution_count": 9
        }
      ]
    },
    {
      "cell_type": "code",
      "source": [
        "stego_image_grey = Image.fromarray(stego_array_grey)\n",
        "stego_image_grey"
      ],
      "metadata": {
        "id": "IiMfNkWmOulw",
        "outputId": "2ae792a9-f2eb-4a58-b9df-dd6d15a52607",
        "colab": {
          "base_uri": "https://localhost:8080/",
          "height": 34
        }
      },
      "execution_count": 10,
      "outputs": [
        {
          "output_type": "execute_result",
          "data": {
            "text/plain": [
              "<PIL.Image.Image image mode=L size=16x16 at 0x7FEE0E6F3D10>"
            ],
            "image/png": "[encoded data removed]"
          },
          "metadata": {},
          "execution_count": 10
        }
      ]
    },
    {
      "cell_type": "code",
      "source": [
        "print(150%64)\n",
        "print(150-22)"
      ],
      "metadata": {
        "id": "zU3_UmUGZuZm",
        "outputId": "bbd87bed-acd8-4808-c72e-0291ba8fe8c9",
        "colab": {
          "base_uri": "https://localhost:8080/"
        }
      },
      "execution_count": null,
      "outputs": [
        {
          "output_type": "stream",
          "name": "stdout",
          "text": [
            "22\n",
            "128\n"
          ]
        }
      ]
    },
    {
      "cell_type": "code",
      "source": [
        "stego_array_grey_2b=stego_array_grey-(stego_array_grey%64)\n",
        "stego_array_grey_2b"
      ],
      "metadata": {
        "id": "3WTVKnhIOrBn",
        "outputId": "3c75d6a9-6e17-4add-cea8-501c66bdd67e",
        "colab": {
          "base_uri": "https://localhost:8080/"
        }
      },
      "execution_count": 11,
      "outputs": [
        {
          "output_type": "execute_result",
          "data": {
            "text/plain": [
              "array([[128, 128, 192, 192, 192, 192, 192, 192, 192, 192, 192, 192, 192,\n",
              "        192, 192, 192],\n",
              "       [128, 128, 128, 128, 128, 128, 128, 128, 128, 128, 128, 192, 128,\n",
              "        128, 192, 192],\n",
              "       [ 64,  64,  64,  64,  64,  64,  64,  64,  64,  64,  64, 128,  64,\n",
              "         64,  64, 128],\n",
              "       [ 64,  64,  64,  64,  64,  64,  64,  64,  64,  64,  64,  64,  64,\n",
              "          0,   0,  64],\n",
              "       [ 64,  64,  64,  64,  64,  64,  64,  64,  64,  64,  64,  64,  64,\n",
              "         64,  64,  64],\n",
              "       [ 64,  64,  64,  64,  64,  64, 128, 128,  64,  64,  64,  64,  64,\n",
              "         64,  64,  64],\n",
              "       [ 64,  64,  64, 128, 128, 128, 128, 128, 128, 128,  64,  64,  64,\n",
              "         64, 128,  64],\n",
              "       [ 64,  64,  64, 128, 128, 128, 128, 128, 128, 128, 128,  64,  64,\n",
              "        128, 128,  64],\n",
              "       [128, 128, 128, 128, 128, 128, 128, 128, 128, 128, 128, 128, 128,\n",
              "        128,  64,  64],\n",
              "       [128, 128, 128, 128, 128, 128, 128, 128, 128, 128, 128, 128, 128,\n",
              "         64,  64,  64],\n",
              "       [128, 128, 128, 128, 128, 128, 128, 128, 128,  64,  64,  64,  64,\n",
              "         64,  64,  64],\n",
              "       [128, 128, 128, 128, 128, 128, 128, 128, 128,  64,  64,  64,  64,\n",
              "         64,  64,  64],\n",
              "       [ 64, 128, 128, 128, 128,  64,  64, 128, 128,  64,  64,  64,  64,\n",
              "         64,  64,  64],\n",
              "       [ 64,  64, 128,  64, 128, 128,  64, 128, 128, 128,  64,  64,  64,\n",
              "         64,  64,  64],\n",
              "       [ 64,  64, 128,  64, 128, 128,  64, 128, 128, 128,  64,  64,  64,\n",
              "         64,  64,  64],\n",
              "       [ 64,  64,  64,  64,  64, 128,  64, 128, 128,  64,  64,  64,  64,\n",
              "         64,  64,  64]], dtype=uint8)"
            ]
          },
          "metadata": {},
          "execution_count": 11
        }
      ]
    },
    {
      "cell_type": "code",
      "source": [
        "stego_image_grey_2b = Image.fromarray(stego_array_grey_2b)\n",
        "stego_image_grey_2b"
      ],
      "metadata": {
        "id": "Gq_AEWGVOzKO",
        "outputId": "935bc340-e088-4f70-aa71-9676356ee094",
        "colab": {
          "base_uri": "https://localhost:8080/",
          "height": 34
        }
      },
      "execution_count": 12,
      "outputs": [
        {
          "output_type": "execute_result",
          "data": {
            "text/plain": [
              "<PIL.Image.Image image mode=L size=16x16 at 0x7FEE0E6D50D0>"
            ],
            "image/png": "[encoded data removed]"
          },
          "metadata": {},
          "execution_count": 12
        }
      ]
    },
    {
      "cell_type": "code",
      "source": [
        "def int_2_bit_array(num):\n",
        "    bin_str=bin(num)\n",
        "    bit_list=[int(bit) for bit in bin_str[2:]]\n",
        "    bit_list=[0]*(8-len(bit_list))+bit_list\n",
        "    bit_array=np.array(bit_list,dtype='uint8')\n",
        "    return bit_array"
      ],
      "metadata": {
        "id": "TsrD8_OFO1n6"
      },
      "execution_count": 13,
      "outputs": []
    },
    {
      "cell_type": "code",
      "source": [
        "int_2_bit_array(0)"
      ],
      "metadata": {
        "id": "MhZSrkOlbEA-",
        "outputId": "1baf8a40-15b4-4dcd-eb4d-db76eee2c42b",
        "colab": {
          "base_uri": "https://localhost:8080/"
        }
      },
      "execution_count": 16,
      "outputs": [
        {
          "output_type": "execute_result",
          "data": {
            "text/plain": [
              "array([0, 0, 0, 0, 0, 0, 0, 0], dtype=uint8)"
            ]
          },
          "metadata": {},
          "execution_count": 16
        }
      ]
    },
    {
      "cell_type": "code",
      "source": [
        "int_2_bit_array(64)"
      ],
      "metadata": {
        "id": "rQ5H-CISbD1h",
        "outputId": "61daf69f-9b00-46a2-cf3f-f7d751f06202",
        "colab": {
          "base_uri": "https://localhost:8080/"
        }
      },
      "execution_count": 17,
      "outputs": [
        {
          "output_type": "execute_result",
          "data": {
            "text/plain": [
              "array([0, 1, 0, 0, 0, 0, 0, 0], dtype=uint8)"
            ]
          },
          "metadata": {},
          "execution_count": 17
        }
      ]
    },
    {
      "cell_type": "code",
      "source": [
        "int_2_bit_array(128)"
      ],
      "metadata": {
        "id": "e36MYQeUbDoa",
        "outputId": "c78aefbb-3bee-4012-87f5-cd1ec8eea3cf",
        "colab": {
          "base_uri": "https://localhost:8080/"
        }
      },
      "execution_count": null,
      "outputs": [
        {
          "output_type": "execute_result",
          "data": {
            "text/plain": [
              "array([1, 0, 0, 0, 0, 0, 0, 0], dtype=uint8)"
            ]
          },
          "metadata": {},
          "execution_count": 35
        }
      ]
    },
    {
      "cell_type": "code",
      "source": [
        "int_2_bit_array(192)"
      ],
      "metadata": {
        "id": "Aq5OKjODPW42",
        "outputId": "57922140-2f44-4137-ca29-af24ad2bf6a6",
        "colab": {
          "base_uri": "https://localhost:8080/"
        }
      },
      "execution_count": null,
      "outputs": [
        {
          "output_type": "execute_result",
          "data": {
            "text/plain": [
              "array([1, 1, 0, 0, 0, 0, 0, 0], dtype=uint8)"
            ]
          },
          "metadata": {},
          "execution_count": 36
        }
      ]
    },
    {
      "cell_type": "code",
      "source": [
        "int_2_bit_array(153).shape"
      ],
      "metadata": {
        "id": "vdGnbUspPaVh",
        "outputId": "a7334ad0-3021-4c43-a54d-2c55aa74f29e",
        "colab": {
          "base_uri": "https://localhost:8080/"
        }
      },
      "execution_count": 24,
      "outputs": [
        {
          "output_type": "execute_result",
          "data": {
            "text/plain": [
              "(8,)"
            ]
          },
          "metadata": {},
          "execution_count": 24
        }
      ]
    },
    {
      "cell_type": "code",
      "source": [
        "int_2_bit_array(stego_array_grey_2b)"
      ],
      "metadata": {
        "id": "p1SzTdbRbPoV",
        "outputId": "b86b49aa-0f49-4af0-8c47-b64e7528167d",
        "colab": {
          "base_uri": "https://localhost:8080/",
          "height": 293
        }
      },
      "execution_count": null,
      "outputs": [
        {
          "output_type": "error",
          "ename": "TypeError",
          "evalue": "ignored",
          "traceback": [
            "\u001b[0;31m---------------------------------------------------------------------------\u001b[0m",
            "\u001b[0;31mTypeError\u001b[0m                                 Traceback (most recent call last)",
            "\u001b[0;32m<ipython-input-39-8c9591e582d3>\u001b[0m in \u001b[0;36m<module>\u001b[0;34m()\u001b[0m\n\u001b[0;32m----> 1\u001b[0;31m \u001b[0mint_2_bit_array\u001b[0m\u001b[0;34m(\u001b[0m\u001b[0mstego_array_grey_2b\u001b[0m\u001b[0;34m)\u001b[0m\u001b[0;34m\u001b[0m\u001b[0;34m\u001b[0m\u001b[0m\n\u001b[0m",
            "\u001b[0;32m<ipython-input-30-97be5bb41293>\u001b[0m in \u001b[0;36mint_2_bit_array\u001b[0;34m(num)\u001b[0m\n\u001b[1;32m      1\u001b[0m \u001b[0;32mdef\u001b[0m \u001b[0mint_2_bit_array\u001b[0m\u001b[0;34m(\u001b[0m\u001b[0mnum\u001b[0m\u001b[0;34m)\u001b[0m\u001b[0;34m:\u001b[0m\u001b[0;34m\u001b[0m\u001b[0;34m\u001b[0m\u001b[0m\n\u001b[0;32m----> 2\u001b[0;31m     \u001b[0mbin_str\u001b[0m\u001b[0;34m=\u001b[0m\u001b[0mbin\u001b[0m\u001b[0;34m(\u001b[0m\u001b[0mnum\u001b[0m\u001b[0;34m)\u001b[0m\u001b[0;34m\u001b[0m\u001b[0;34m\u001b[0m\u001b[0m\n\u001b[0m\u001b[1;32m      3\u001b[0m     \u001b[0mbit_list\u001b[0m\u001b[0;34m=\u001b[0m\u001b[0;34m[\u001b[0m\u001b[0mint\u001b[0m\u001b[0;34m(\u001b[0m\u001b[0mbit\u001b[0m\u001b[0;34m)\u001b[0m \u001b[0;32mfor\u001b[0m \u001b[0mbit\u001b[0m \u001b[0;32min\u001b[0m \u001b[0mbin_str\u001b[0m\u001b[0;34m[\u001b[0m\u001b[0;36m2\u001b[0m\u001b[0;34m:\u001b[0m\u001b[0;34m]\u001b[0m\u001b[0;34m]\u001b[0m\u001b[0;34m\u001b[0m\u001b[0;34m\u001b[0m\u001b[0m\n\u001b[1;32m      4\u001b[0m     \u001b[0mbit_list\u001b[0m\u001b[0;34m=\u001b[0m\u001b[0;34m[\u001b[0m\u001b[0;36m0\u001b[0m\u001b[0;34m]\u001b[0m\u001b[0;34m*\u001b[0m\u001b[0;34m(\u001b[0m\u001b[0;36m8\u001b[0m\u001b[0;34m-\u001b[0m\u001b[0mlen\u001b[0m\u001b[0;34m(\u001b[0m\u001b[0mbit_list\u001b[0m\u001b[0;34m)\u001b[0m\u001b[0;34m)\u001b[0m\u001b[0;34m+\u001b[0m\u001b[0mbit_list\u001b[0m\u001b[0;34m\u001b[0m\u001b[0;34m\u001b[0m\u001b[0m\n\u001b[1;32m      5\u001b[0m     \u001b[0mbit_array\u001b[0m\u001b[0;34m=\u001b[0m\u001b[0mnp\u001b[0m\u001b[0;34m.\u001b[0m\u001b[0marray\u001b[0m\u001b[0;34m(\u001b[0m\u001b[0mbit_list\u001b[0m\u001b[0;34m,\u001b[0m\u001b[0mdtype\u001b[0m\u001b[0;34m=\u001b[0m\u001b[0;34m'uint8'\u001b[0m\u001b[0;34m)\u001b[0m\u001b[0;34m\u001b[0m\u001b[0;34m\u001b[0m\u001b[0m\n",
            "\u001b[0;31mTypeError\u001b[0m: only integer scalar arrays can be converted to a scalar index"
          ]
        }
      ]
    },
    {
      "cell_type": "code",
      "source": [
        "np.vectorize(int_2_bit_array)"
      ],
      "metadata": {
        "id": "15N615f0bzyp",
        "outputId": "d2a11fa4-8553-4a41-caea-7b29f9b8f930",
        "colab": {
          "base_uri": "https://localhost:8080/"
        }
      },
      "execution_count": 22,
      "outputs": [
        {
          "output_type": "execute_result",
          "data": {
            "text/plain": [
              "<numpy.vectorize at 0x7fee0e6d5c50>"
            ]
          },
          "metadata": {},
          "execution_count": 22
        }
      ]
    },
    {
      "cell_type": "markdown",
      "source": [
        "Goal:\n",
        "\n",
        "- take image of 256 bytes and reduce each byte to 2 bit in form of 2 element array\n",
        "- turn that all into 512 bits\n",
        "- turn 512 bits into 64 bytes"
      ],
      "metadata": {
        "id": "KDXmg93RcmvX"
      }
    },
    {
      "cell_type": "code",
      "source": [
        "data=np.array([int_2_bit_array(elem)[:2] for elem in stego_array_grey_2b.reshape(-1)]).reshape(-1)\n",
        "data"
      ],
      "metadata": {
        "id": "AsncnL8icIIF",
        "outputId": "19e8e9de-7e88-4179-f91e-2ca81b1f3333",
        "colab": {
          "base_uri": "https://localhost:8080/"
        }
      },
      "execution_count": 36,
      "outputs": [
        {
          "output_type": "execute_result",
          "data": {
            "text/plain": [
              "array([1, 0, 1, 0, 1, 1, 1, 1, 1, 1, 1, 1, 1, 1, 1, 1, 1, 1, 1, 1, 1, 1,\n",
              "       1, 1, 1, 1, 1, 1, 1, 1, 1, 1, 1, 0, 1, 0, 1, 0, 1, 0, 1, 0, 1, 0,\n",
              "       1, 0, 1, 0, 1, 0, 1, 0, 1, 0, 1, 1, 1, 0, 1, 0, 1, 1, 1, 1, 0, 1,\n",
              "       0, 1, 0, 1, 0, 1, 0, 1, 0, 1, 0, 1, 0, 1, 0, 1, 0, 1, 0, 1, 1, 0,\n",
              "       0, 1, 0, 1, 0, 1, 1, 0, 0, 1, 0, 1, 0, 1, 0, 1, 0, 1, 0, 1, 0, 1,\n",
              "       0, 1, 0, 1, 0, 1, 0, 1, 0, 1, 0, 1, 0, 0, 0, 0, 0, 1, 0, 1, 0, 1,\n",
              "       0, 1, 0, 1, 0, 1, 0, 1, 0, 1, 0, 1, 0, 1, 0, 1, 0, 1, 0, 1, 0, 1,\n",
              "       0, 1, 0, 1, 0, 1, 0, 1, 0, 1, 0, 1, 0, 1, 0, 1, 0, 1, 1, 0, 1, 0,\n",
              "       0, 1, 0, 1, 0, 1, 0, 1, 0, 1, 0, 1, 0, 1, 0, 1, 0, 1, 0, 1, 0, 1,\n",
              "       1, 0, 1, 0, 1, 0, 1, 0, 1, 0, 1, 0, 1, 0, 0, 1, 0, 1, 0, 1, 0, 1,\n",
              "       1, 0, 0, 1, 0, 1, 0, 1, 0, 1, 1, 0, 1, 0, 1, 0, 1, 0, 1, 0, 1, 0,\n",
              "       1, 0, 1, 0, 0, 1, 0, 1, 1, 0, 1, 0, 0, 1, 1, 0, 1, 0, 1, 0, 1, 0,\n",
              "       1, 0, 1, 0, 1, 0, 1, 0, 1, 0, 1, 0, 1, 0, 1, 0, 1, 0, 1, 0, 0, 1,\n",
              "       0, 1, 1, 0, 1, 0, 1, 0, 1, 0, 1, 0, 1, 0, 1, 0, 1, 0, 1, 0, 1, 0,\n",
              "       1, 0, 1, 0, 1, 0, 0, 1, 0, 1, 0, 1, 1, 0, 1, 0, 1, 0, 1, 0, 1, 0,\n",
              "       1, 0, 1, 0, 1, 0, 1, 0, 0, 1, 0, 1, 0, 1, 0, 1, 0, 1, 0, 1, 0, 1,\n",
              "       1, 0, 1, 0, 1, 0, 1, 0, 1, 0, 1, 0, 1, 0, 1, 0, 1, 0, 0, 1, 0, 1,\n",
              "       0, 1, 0, 1, 0, 1, 0, 1, 0, 1, 0, 1, 1, 0, 1, 0, 1, 0, 1, 0, 0, 1,\n",
              "       0, 1, 1, 0, 1, 0, 0, 1, 0, 1, 0, 1, 0, 1, 0, 1, 0, 1, 0, 1, 0, 1,\n",
              "       0, 1, 1, 0, 0, 1, 1, 0, 1, 0, 0, 1, 1, 0, 1, 0, 1, 0, 0, 1, 0, 1,\n",
              "       0, 1, 0, 1, 0, 1, 0, 1, 0, 1, 0, 1, 1, 0, 0, 1, 1, 0, 1, 0, 0, 1,\n",
              "       1, 0, 1, 0, 1, 0, 0, 1, 0, 1, 0, 1, 0, 1, 0, 1, 0, 1, 0, 1, 0, 1,\n",
              "       0, 1, 0, 1, 0, 1, 1, 0, 0, 1, 1, 0, 1, 0, 0, 1, 0, 1, 0, 1, 0, 1,\n",
              "       0, 1, 0, 1, 0, 1], dtype=uint8)"
            ]
          },
          "metadata": {},
          "execution_count": 36
        }
      ]
    },
    {
      "cell_type": "code",
      "source": [
        "bin_array=data.reshape(-1,8)\n",
        "bin_array"
      ],
      "metadata": {
        "id": "y7wh1mWauttG",
        "outputId": "76714eb1-63a6-4933-9249-73f4405e31b7",
        "colab": {
          "base_uri": "https://localhost:8080/"
        }
      },
      "execution_count": 40,
      "outputs": [
        {
          "output_type": "execute_result",
          "data": {
            "text/plain": [
              "array([[1, 0, 1, 0, 1, 1, 1, 1],\n",
              "       [1, 1, 1, 1, 1, 1, 1, 1],\n",
              "       [1, 1, 1, 1, 1, 1, 1, 1],\n",
              "       [1, 1, 1, 1, 1, 1, 1, 1],\n",
              "       [1, 0, 1, 0, 1, 0, 1, 0],\n",
              "       [1, 0, 1, 0, 1, 0, 1, 0],\n",
              "       [1, 0, 1, 0, 1, 0, 1, 1],\n",
              "       [1, 0, 1, 0, 1, 1, 1, 1],\n",
              "       [0, 1, 0, 1, 0, 1, 0, 1],\n",
              "       [0, 1, 0, 1, 0, 1, 0, 1],\n",
              "       [0, 1, 0, 1, 0, 1, 1, 0],\n",
              "       [0, 1, 0, 1, 0, 1, 1, 0],\n",
              "       [0, 1, 0, 1, 0, 1, 0, 1],\n",
              "       [0, 1, 0, 1, 0, 1, 0, 1],\n",
              "       [0, 1, 0, 1, 0, 1, 0, 1],\n",
              "       [0, 1, 0, 0, 0, 0, 0, 1],\n",
              "       [0, 1, 0, 1, 0, 1, 0, 1],\n",
              "       [0, 1, 0, 1, 0, 1, 0, 1],\n",
              "       [0, 1, 0, 1, 0, 1, 0, 1],\n",
              "       [0, 1, 0, 1, 0, 1, 0, 1],\n",
              "       [0, 1, 0, 1, 0, 1, 0, 1],\n",
              "       [0, 1, 0, 1, 1, 0, 1, 0],\n",
              "       [0, 1, 0, 1, 0, 1, 0, 1],\n",
              "       [0, 1, 0, 1, 0, 1, 0, 1],\n",
              "       [0, 1, 0, 1, 0, 1, 1, 0],\n",
              "       [1, 0, 1, 0, 1, 0, 1, 0],\n",
              "       [1, 0, 1, 0, 0, 1, 0, 1],\n",
              "       [0, 1, 0, 1, 1, 0, 0, 1],\n",
              "       [0, 1, 0, 1, 0, 1, 1, 0],\n",
              "       [1, 0, 1, 0, 1, 0, 1, 0],\n",
              "       [1, 0, 1, 0, 1, 0, 0, 1],\n",
              "       [0, 1, 1, 0, 1, 0, 0, 1],\n",
              "       [1, 0, 1, 0, 1, 0, 1, 0],\n",
              "       [1, 0, 1, 0, 1, 0, 1, 0],\n",
              "       [1, 0, 1, 0, 1, 0, 1, 0],\n",
              "       [1, 0, 1, 0, 0, 1, 0, 1],\n",
              "       [1, 0, 1, 0, 1, 0, 1, 0],\n",
              "       [1, 0, 1, 0, 1, 0, 1, 0],\n",
              "       [1, 0, 1, 0, 1, 0, 1, 0],\n",
              "       [1, 0, 0, 1, 0, 1, 0, 1],\n",
              "       [1, 0, 1, 0, 1, 0, 1, 0],\n",
              "       [1, 0, 1, 0, 1, 0, 1, 0],\n",
              "       [1, 0, 0, 1, 0, 1, 0, 1],\n",
              "       [0, 1, 0, 1, 0, 1, 0, 1],\n",
              "       [1, 0, 1, 0, 1, 0, 1, 0],\n",
              "       [1, 0, 1, 0, 1, 0, 1, 0],\n",
              "       [1, 0, 0, 1, 0, 1, 0, 1],\n",
              "       [0, 1, 0, 1, 0, 1, 0, 1],\n",
              "       [0, 1, 1, 0, 1, 0, 1, 0],\n",
              "       [1, 0, 0, 1, 0, 1, 1, 0],\n",
              "       [1, 0, 0, 1, 0, 1, 0, 1],\n",
              "       [0, 1, 0, 1, 0, 1, 0, 1],\n",
              "       [0, 1, 0, 1, 1, 0, 0, 1],\n",
              "       [1, 0, 1, 0, 0, 1, 1, 0],\n",
              "       [1, 0, 1, 0, 0, 1, 0, 1],\n",
              "       [0, 1, 0, 1, 0, 1, 0, 1],\n",
              "       [0, 1, 0, 1, 1, 0, 0, 1],\n",
              "       [1, 0, 1, 0, 0, 1, 1, 0],\n",
              "       [1, 0, 1, 0, 0, 1, 0, 1],\n",
              "       [0, 1, 0, 1, 0, 1, 0, 1],\n",
              "       [0, 1, 0, 1, 0, 1, 0, 1],\n",
              "       [0, 1, 1, 0, 0, 1, 1, 0],\n",
              "       [1, 0, 0, 1, 0, 1, 0, 1],\n",
              "       [0, 1, 0, 1, 0, 1, 0, 1]], dtype=uint8)"
            ]
          },
          "metadata": {},
          "execution_count": 40
        }
      ]
    },
    {
      "cell_type": "code",
      "source": [
        "def bit8array2byte(bin_array):\n",
        "  return int(''.join([str(i) for i in bin_array]),2).to_bytes(1,'big')"
      ],
      "metadata": {
        "id": "KPOkm2RV5uZ4"
      },
      "execution_count": 52,
      "outputs": []
    },
    {
      "cell_type": "code",
      "source": [
        "def bit8arrays2bytestring(A):\n",
        "  return  b''.join([bit8array2byte( bin8 ) for bin8 in A])"
      ],
      "metadata": {
        "id": "cWrAdpN2wQ8k"
      },
      "execution_count": 55,
      "outputs": []
    },
    {
      "cell_type": "code",
      "source": [
        "len(bit8arrays2bytestring(bin_array))"
      ],
      "metadata": {
        "id": "Bx2k1BU_8g7V",
        "outputId": "39c77076-470c-458a-83e2-541f85b6d947",
        "colab": {
          "base_uri": "https://localhost:8080/"
        }
      },
      "execution_count": 60,
      "outputs": [
        {
          "output_type": "execute_result",
          "data": {
            "text/plain": [
              "64"
            ]
          },
          "metadata": {},
          "execution_count": 60
        }
      ]
    },
    {
      "cell_type": "code",
      "source": [
        ""
      ],
      "metadata": {
        "id": "DWfl_Unl9F8A"
      },
      "execution_count": null,
      "outputs": []
    }
  ]
}