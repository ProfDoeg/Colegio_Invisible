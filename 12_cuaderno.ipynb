{
  "nbformat": 4,
  "nbformat_minor": 0,
  "metadata": {
    "colab": {
      "name": "12_cuaderno.ipynb",
      "provenance": [],
      "include_colab_link": true
    },
    "kernelspec": {
      "name": "python3",
      "display_name": "Python 3"
    },
    "language_info": {
      "name": "python"
    }
  },
  "cells": [
    {
      "cell_type": "markdown",
      "metadata": {
        "id": "view-in-github",
        "colab_type": "text"
      },
      "source": [
        "<a href=\"https://colab.research.google.com/github/ProfDoeg/Colegio_Invisible/blob/main/12_cuaderno.ipynb\" target=\"_parent\"><img src=\"https://colab.research.google.com/assets/colab-badge.svg\" alt=\"Open In Colab\"/></a>"
      ]
    },
    {
      "cell_type": "code",
      "source": [
        "#! rm Colegio_Invisible -r"
      ],
      "metadata": {
        "id": "6YV5qP8RODUW"
      },
      "execution_count": 78,
      "outputs": []
    },
    {
      "cell_type": "code",
      "execution_count": 2,
      "metadata": {
        "id": "p80LxM-iMpBC",
        "colab": {
          "base_uri": "https://localhost:8080/"
        },
        "outputId": "a9503a4e-4e35-4c47-c481-73a1bcab7b2f"
      },
      "outputs": [
        {
          "output_type": "stream",
          "name": "stdout",
          "text": [
            "Requirement already satisfied: Pillow in /usr/local/lib/python3.7/dist-packages (7.1.2)\n",
            "Cloning into 'Colegio_Invisible'...\n",
            "remote: Enumerating objects: 1018, done.\u001b[K\n",
            "remote: Counting objects: 100% (28/28), done.\u001b[K\n",
            "remote: Compressing objects: 100% (28/28), done.\u001b[K\n",
            "remote: Total 1018 (delta 15), reused 0 (delta 0), pack-reused 990\u001b[K\n",
            "Receiving objects: 100% (1018/1018), 67.52 MiB | 29.00 MiB/s, done.\n",
            "Resolving deltas: 100% (696/696), done.\n"
          ]
        }
      ],
      "source": [
        "! pip install Pillow\n",
        "! git clone https://github.com/ProfDoeg/Colegio_Invisible.git\n"
      ]
    },
    {
      "cell_type": "markdown",
      "source": [
        "for an image...there are pixels\n",
        "\n",
        "each pixel has 3,4 values (Red Green Blue and sometime Alpha)\n",
        "\n",
        "those numbers are...1 byte...0 to 255"
      ],
      "metadata": {
        "id": "A54RU5ZeUZZk"
      }
    },
    {
      "cell_type": "code",
      "source": [
        "from PIL import Image\n",
        "import numpy as np"
      ],
      "metadata": {
        "id": "jSzywLaHMsem"
      },
      "execution_count": 3,
      "outputs": []
    },
    {
      "cell_type": "code",
      "source": [
        "64*8"
      ],
      "metadata": {
        "colab": {
          "base_uri": "https://localhost:8080/"
        },
        "id": "1JvV7B_FV4xc",
        "outputId": "e80da4f3-0db1-4579-9fa2-74f2399cdf9b"
      },
      "execution_count": 4,
      "outputs": [
        {
          "output_type": "execute_result",
          "data": {
            "text/plain": [
              "512"
            ]
          },
          "metadata": {},
          "execution_count": 4
        }
      ]
    },
    {
      "cell_type": "markdown",
      "source": [
        "what can we put into blockchain...\n",
        "Op_Return\n",
        "80 bytes and we will use 64 bytes for image data\n",
        "\n",
        "each byte is made up of 8 binary values 1/0 called bits\n",
        "\n",
        "64 bytes = 64*8...512 bits\n",
        "\n",
        "We want to put image in single block\n",
        "\n",
        "PROPOSAL:\n",
        "\n",
        "16x16 image = 256 pixels\n",
        "\n",
        "only get to use 2 bits per pixel\n",
        "\n",
        "- 0,0  0 \n",
        "- 0,1  64\n",
        "- 1,0  128\n",
        "- 1,1  192\n",
        "\n",
        "1 byte [ , , , , , , , ]\n",
        "\n",
        "1 byte can tell us color of 4 pixels\n",
        "each one taking up 2 bits"
      ],
      "metadata": {
        "id": "g5RXqfJ_VK9u"
      }
    },
    {
      "cell_type": "code",
      "source": [
        "\"\""
      ],
      "metadata": {
        "id": "VpT7x5CIWHyc",
        "colab": {
          "base_uri": "https://localhost:8080/",
          "height": 35
        },
        "outputId": "9e422bcc-ee7e-446a-d50d-d9467d390725"
      },
      "execution_count": 5,
      "outputs": [
        {
          "output_type": "execute_result",
          "data": {
            "text/plain": [
              "''"
            ],
            "application/vnd.google.colaboratory.intrinsic+json": {
              "type": "string"
            }
          },
          "metadata": {},
          "execution_count": 5
        }
      ]
    },
    {
      "cell_type": "code",
      "source": [
        "!ls Colegio_Invisible/img"
      ],
      "metadata": {
        "id": "zo2ZCW_xNzMj",
        "colab": {
          "base_uri": "https://localhost:8080/"
        },
        "outputId": "b526f271-73b6-4b68-95df-1cc63532e151"
      },
      "execution_count": 6,
      "outputs": [
        {
          "output_type": "stream",
          "name": "stdout",
          "text": [
            "Apollo_Slays_Python_1853.jpeg  hg_cry.jpeg\t rum_3.jpeg\n",
            "asymmetric.png\t\t       hg_drop.jpeg\t rum_4.jpeg\n",
            "bab_crop.jpeg\t\t       hg_hide.jpeg\t rum_5.jpeg\n",
            "barb_1.jpeg\t\t       hg_house.jpeg\t rum_6.jpeg\n",
            "barb_2.jpeg\t\t       hg_invite.jpeg\t rum_7.jpeg\n",
            "barb_3.jpeg\t\t       hg_rough.png\t rump_final.jpeg\n",
            "barb_4.jpeg\t\t       hg_xmas.jpeg\t signature.png\n",
            "barb_5.jpeg\t\t       prv_pub_addr.png  stego.png\n",
            "barb_6.jpeg\t\t       PubKeyToAddr.png  symmetric.png\n",
            "barb_7.jpeg\t\t       rum_0.jpeg\t zomnd.png\n",
            "clavis.jpeg\t\t       rum_1.jpeg\n",
            "colegio_invisible.jpeg\t       rum_2.jpeg\n"
          ]
        }
      ]
    },
    {
      "cell_type": "code",
      "source": [
        "stego_image=Image.open('Colegio_Invisible/img/zomnd.png')\n",
        "stego_image=stego_image.resize((32,32))\n",
        "stego_image"
      ],
      "metadata": {
        "id": "3cAzcOtCNoF-",
        "colab": {
          "base_uri": "https://localhost:8080/",
          "height": 49
        },
        "outputId": "f396d676-d6de-4592-eb10-9e352b389093"
      },
      "execution_count": 115,
      "outputs": [
        {
          "output_type": "execute_result",
          "data": {
            "text/plain": [
              "<PIL.Image.Image image mode=RGBA size=32x32 at 0x7F01DEAC9810>"
            ],
            "image/png": "[encoded data removed]"
          },
          "metadata": {},
          "execution_count": 115
        }
      ]
    },
    {
      "cell_type": "code",
      "source": [
        "type(stego_image)"
      ],
      "metadata": {
        "id": "vJ758msHNu5T",
        "colab": {
          "base_uri": "https://localhost:8080/"
        },
        "outputId": "30151ab9-106c-4c5b-ec78-0fb24fe0ea20"
      },
      "execution_count": 116,
      "outputs": [
        {
          "output_type": "execute_result",
          "data": {
            "text/plain": [
              "PIL.Image.Image"
            ]
          },
          "metadata": {},
          "execution_count": 116
        }
      ]
    },
    {
      "cell_type": "code",
      "source": [
        "stego_array = np.array(stego_image)\n",
        "stego_array"
      ],
      "metadata": {
        "id": "MK5bUIKbOTbj",
        "colab": {
          "base_uri": "https://localhost:8080/"
        },
        "outputId": "9d2c11c9-5691-4792-d6fe-7950b525a091"
      },
      "execution_count": 117,
      "outputs": [
        {
          "output_type": "execute_result",
          "data": {
            "text/plain": [
              "array([[[255, 255, 255, 255],\n",
              "        [255, 255, 255, 255],\n",
              "        [255, 255, 255, 255],\n",
              "        ...,\n",
              "        [255, 255, 255, 255],\n",
              "        [255, 255, 255, 255],\n",
              "        [255, 255, 255, 255]],\n",
              "\n",
              "       [[255, 255, 255, 255],\n",
              "        [255, 255, 255, 255],\n",
              "        [255, 255, 255, 255],\n",
              "        ...,\n",
              "        [255, 255, 255, 255],\n",
              "        [255, 255, 255, 255],\n",
              "        [255, 255, 255, 255]],\n",
              "\n",
              "       [[255, 255, 255, 255],\n",
              "        [255, 255, 255, 255],\n",
              "        [255, 255, 255, 255],\n",
              "        ...,\n",
              "        [255, 255, 255, 255],\n",
              "        [255, 255, 255, 255],\n",
              "        [255, 255, 255, 255]],\n",
              "\n",
              "       ...,\n",
              "\n",
              "       [[255, 255, 255, 255],\n",
              "        [255, 255, 255, 255],\n",
              "        [255, 255, 255, 255],\n",
              "        ...,\n",
              "        [255, 255, 255, 255],\n",
              "        [255, 255, 255, 255],\n",
              "        [255, 255, 255, 255]],\n",
              "\n",
              "       [[255, 255, 255, 255],\n",
              "        [255, 255, 255, 255],\n",
              "        [255, 255, 255, 255],\n",
              "        ...,\n",
              "        [255, 255, 255, 255],\n",
              "        [255, 255, 255, 255],\n",
              "        [255, 255, 255, 255]],\n",
              "\n",
              "       [[255, 255, 255, 255],\n",
              "        [255, 255, 255, 255],\n",
              "        [255, 255, 255, 255],\n",
              "        ...,\n",
              "        [255, 255, 255, 255],\n",
              "        [255, 255, 255, 255],\n",
              "        [255, 255, 255, 255]]], dtype=uint8)"
            ]
          },
          "metadata": {},
          "execution_count": 117
        }
      ]
    },
    {
      "cell_type": "markdown",
      "source": [
        "**`uint8`** stands for unsigned 8-bit integer\n",
        "- 8 binary 1/0 values\n",
        "- that is one byte\n",
        "- a number from 0-255\n",
        "- two hex values like ff"
      ],
      "metadata": {
        "id": "5Gq3lpQ2Oh92"
      }
    },
    {
      "cell_type": "code",
      "source": [
        "stego_array.dtype"
      ],
      "metadata": {
        "id": "HnvaTb7qOcCX",
        "colab": {
          "base_uri": "https://localhost:8080/"
        },
        "outputId": "f2dd454a-248b-47b0-ba02-dcb1e80fd278"
      },
      "execution_count": 118,
      "outputs": [
        {
          "output_type": "execute_result",
          "data": {
            "text/plain": [
              "dtype('uint8')"
            ]
          },
          "metadata": {},
          "execution_count": 118
        }
      ]
    },
    {
      "cell_type": "code",
      "source": [
        "stego_array.shape"
      ],
      "metadata": {
        "id": "ZtupzBOJOWjT",
        "colab": {
          "base_uri": "https://localhost:8080/"
        },
        "outputId": "b95a9c4b-e2dc-4723-cc6e-0b9c9732d360"
      },
      "execution_count": 119,
      "outputs": [
        {
          "output_type": "execute_result",
          "data": {
            "text/plain": [
              "(32, 32, 4)"
            ]
          },
          "metadata": {},
          "execution_count": 119
        }
      ]
    },
    {
      "cell_type": "code",
      "source": [
        "stego_array[:,:,:3]"
      ],
      "metadata": {
        "colab": {
          "base_uri": "https://localhost:8080/"
        },
        "id": "kCWICwyyYpxN",
        "outputId": "7cead410-0e15-4b79-8a72-2be44fafd086"
      },
      "execution_count": 120,
      "outputs": [
        {
          "output_type": "execute_result",
          "data": {
            "text/plain": [
              "array([[[255, 255, 255],\n",
              "        [255, 255, 255],\n",
              "        [255, 255, 255],\n",
              "        ...,\n",
              "        [255, 255, 255],\n",
              "        [255, 255, 255],\n",
              "        [255, 255, 255]],\n",
              "\n",
              "       [[255, 255, 255],\n",
              "        [255, 255, 255],\n",
              "        [255, 255, 255],\n",
              "        ...,\n",
              "        [255, 255, 255],\n",
              "        [255, 255, 255],\n",
              "        [255, 255, 255]],\n",
              "\n",
              "       [[255, 255, 255],\n",
              "        [255, 255, 255],\n",
              "        [255, 255, 255],\n",
              "        ...,\n",
              "        [255, 255, 255],\n",
              "        [255, 255, 255],\n",
              "        [255, 255, 255]],\n",
              "\n",
              "       ...,\n",
              "\n",
              "       [[255, 255, 255],\n",
              "        [255, 255, 255],\n",
              "        [255, 255, 255],\n",
              "        ...,\n",
              "        [255, 255, 255],\n",
              "        [255, 255, 255],\n",
              "        [255, 255, 255]],\n",
              "\n",
              "       [[255, 255, 255],\n",
              "        [255, 255, 255],\n",
              "        [255, 255, 255],\n",
              "        ...,\n",
              "        [255, 255, 255],\n",
              "        [255, 255, 255],\n",
              "        [255, 255, 255]],\n",
              "\n",
              "       [[255, 255, 255],\n",
              "        [255, 255, 255],\n",
              "        [255, 255, 255],\n",
              "        ...,\n",
              "        [255, 255, 255],\n",
              "        [255, 255, 255],\n",
              "        [255, 255, 255]]], dtype=uint8)"
            ]
          },
          "metadata": {},
          "execution_count": 120
        }
      ]
    },
    {
      "cell_type": "code",
      "source": [
        "stego_array_grey=stego_array[:,:,:3].mean(axis=2).astype('uint8')\n",
        "stego_array_grey.shape,stego_array_grey.dtype"
      ],
      "metadata": {
        "id": "kWBZaDEZOgW_",
        "colab": {
          "base_uri": "https://localhost:8080/"
        },
        "outputId": "71f323d7-5a08-4ef5-bcd7-25228594e630"
      },
      "execution_count": 121,
      "outputs": [
        {
          "output_type": "execute_result",
          "data": {
            "text/plain": [
              "((32, 32), dtype('uint8'))"
            ]
          },
          "metadata": {},
          "execution_count": 121
        }
      ]
    },
    {
      "cell_type": "code",
      "source": [
        "stego_array_grey"
      ],
      "metadata": {
        "id": "A0nsbRaZOnxN",
        "colab": {
          "base_uri": "https://localhost:8080/"
        },
        "outputId": "eb848b44-85c8-4386-f618-f5de4398e122"
      },
      "execution_count": 122,
      "outputs": [
        {
          "output_type": "execute_result",
          "data": {
            "text/plain": [
              "array([[255, 255, 255, ..., 255, 255, 255],\n",
              "       [255, 255, 255, ..., 255, 255, 255],\n",
              "       [255, 255, 255, ..., 255, 255, 255],\n",
              "       ...,\n",
              "       [255, 255, 255, ..., 255, 255, 255],\n",
              "       [255, 255, 255, ..., 255, 255, 255],\n",
              "       [255, 255, 255, ..., 255, 255, 255]], dtype=uint8)"
            ]
          },
          "metadata": {},
          "execution_count": 122
        }
      ]
    },
    {
      "cell_type": "code",
      "source": [
        "stego_image_grey = Image.fromarray(stego_array_grey)\n",
        "stego_image_grey"
      ],
      "metadata": {
        "id": "IiMfNkWmOulw",
        "colab": {
          "base_uri": "https://localhost:8080/",
          "height": 49
        },
        "outputId": "1998b0a5-bdca-431a-9883-9c76d3186b56"
      },
      "execution_count": 123,
      "outputs": [
        {
          "output_type": "execute_result",
          "data": {
            "text/plain": [
              "<PIL.Image.Image image mode=L size=32x32 at 0x7F01DEB42D10>"
            ],
            "image/png": "[encoded data removed]"
          },
          "metadata": {},
          "execution_count": 123
        }
      ]
    },
    {
      "cell_type": "code",
      "source": [
        "print(150%64)\n",
        "print(150-22)"
      ],
      "metadata": {
        "colab": {
          "base_uri": "https://localhost:8080/"
        },
        "id": "zU3_UmUGZuZm",
        "outputId": "4b944b77-6541-45d7-f206-99a49ecd47c6"
      },
      "execution_count": 124,
      "outputs": [
        {
          "output_type": "stream",
          "name": "stdout",
          "text": [
            "22\n",
            "128\n"
          ]
        }
      ]
    },
    {
      "cell_type": "code",
      "source": [
        "stego_array_grey_2b=stego_array_grey-(stego_array_grey%64)+63\n",
        "stego_array_grey_2b"
      ],
      "metadata": {
        "id": "3WTVKnhIOrBn",
        "colab": {
          "base_uri": "https://localhost:8080/"
        },
        "outputId": "eca76897-f477-48cf-ead1-3e996602da5a"
      },
      "execution_count": 125,
      "outputs": [
        {
          "output_type": "execute_result",
          "data": {
            "text/plain": [
              "array([[255, 255, 255, ..., 255, 255, 255],\n",
              "       [255, 255, 255, ..., 255, 255, 255],\n",
              "       [255, 255, 255, ..., 255, 255, 255],\n",
              "       ...,\n",
              "       [255, 255, 255, ..., 255, 255, 255],\n",
              "       [255, 255, 255, ..., 255, 255, 255],\n",
              "       [255, 255, 255, ..., 255, 255, 255]], dtype=uint8)"
            ]
          },
          "metadata": {},
          "execution_count": 125
        }
      ]
    },
    {
      "cell_type": "code",
      "source": [
        "stego_image_grey_2b = Image.fromarray(stego_array_grey_2b)\n",
        "stego_image_grey_2b"
      ],
      "metadata": {
        "id": "Gq_AEWGVOzKO",
        "colab": {
          "base_uri": "https://localhost:8080/",
          "height": 49
        },
        "outputId": "3d1534a2-b32b-4a87-eeef-0dd5e01dc1d2"
      },
      "execution_count": 126,
      "outputs": [
        {
          "output_type": "execute_result",
          "data": {
            "text/plain": [
              "<PIL.Image.Image image mode=L size=32x32 at 0x7F01DEAC4150>"
            ],
            "image/png": "[encoded data removed]"
          },
          "metadata": {},
          "execution_count": 126
        }
      ]
    },
    {
      "cell_type": "code",
      "source": [
        "def int_2_bit_array(num):\n",
        "    bin_str=bin(num)\n",
        "    bit_list=[int(bit) for bit in bin_str[2:]]\n",
        "    bit_list=[0]*(8-len(bit_list))+bit_list\n",
        "    bit_array=np.array(bit_list,dtype='uint8')\n",
        "    return bit_array"
      ],
      "metadata": {
        "id": "TsrD8_OFO1n6"
      },
      "execution_count": 127,
      "outputs": []
    },
    {
      "cell_type": "code",
      "source": [
        "int_2_bit_array(0)"
      ],
      "metadata": {
        "colab": {
          "base_uri": "https://localhost:8080/"
        },
        "id": "MhZSrkOlbEA-",
        "outputId": "ce69a933-0ad4-4f3f-c45e-f4c7d91d4a88"
      },
      "execution_count": 128,
      "outputs": [
        {
          "output_type": "execute_result",
          "data": {
            "text/plain": [
              "array([0, 0, 0, 0, 0, 0, 0, 0], dtype=uint8)"
            ]
          },
          "metadata": {},
          "execution_count": 128
        }
      ]
    },
    {
      "cell_type": "code",
      "source": [
        "int_2_bit_array(64)"
      ],
      "metadata": {
        "colab": {
          "base_uri": "https://localhost:8080/"
        },
        "id": "rQ5H-CISbD1h",
        "outputId": "a3825025-5433-4e19-99b2-80950df75094"
      },
      "execution_count": 129,
      "outputs": [
        {
          "output_type": "execute_result",
          "data": {
            "text/plain": [
              "array([0, 1, 0, 0, 0, 0, 0, 0], dtype=uint8)"
            ]
          },
          "metadata": {},
          "execution_count": 129
        }
      ]
    },
    {
      "cell_type": "code",
      "source": [
        "int_2_bit_array(128)"
      ],
      "metadata": {
        "colab": {
          "base_uri": "https://localhost:8080/"
        },
        "id": "e36MYQeUbDoa",
        "outputId": "f7bb9381-a4da-46c0-d22e-78c92799e308"
      },
      "execution_count": 130,
      "outputs": [
        {
          "output_type": "execute_result",
          "data": {
            "text/plain": [
              "array([1, 0, 0, 0, 0, 0, 0, 0], dtype=uint8)"
            ]
          },
          "metadata": {},
          "execution_count": 130
        }
      ]
    },
    {
      "cell_type": "code",
      "source": [
        "int_2_bit_array(192)"
      ],
      "metadata": {
        "id": "Aq5OKjODPW42",
        "colab": {
          "base_uri": "https://localhost:8080/"
        },
        "outputId": "c568de11-409d-493e-e22b-ab8616ff92d3"
      },
      "execution_count": 131,
      "outputs": [
        {
          "output_type": "execute_result",
          "data": {
            "text/plain": [
              "array([1, 1, 0, 0, 0, 0, 0, 0], dtype=uint8)"
            ]
          },
          "metadata": {},
          "execution_count": 131
        }
      ]
    },
    {
      "cell_type": "code",
      "source": [
        "int_2_bit_array(153)"
      ],
      "metadata": {
        "id": "vdGnbUspPaVh",
        "colab": {
          "base_uri": "https://localhost:8080/"
        },
        "outputId": "7f05f74b-8c0e-4e84-90d7-1d56bf90cd3a"
      },
      "execution_count": 132,
      "outputs": [
        {
          "output_type": "execute_result",
          "data": {
            "text/plain": [
              "array([1, 0, 0, 1, 1, 0, 0, 1], dtype=uint8)"
            ]
          },
          "metadata": {},
          "execution_count": 132
        }
      ]
    },
    {
      "cell_type": "markdown",
      "source": [
        "Goal:\n",
        "\n",
        "- take image of 256 bytes and reduce each byte to 2 bit in form of 2 element array\n",
        "- turn that all into 512 bits\n",
        "- turn 512 bits into 64 bytes"
      ],
      "metadata": {
        "id": "KDXmg93RcmvX"
      }
    },
    {
      "cell_type": "markdown",
      "source": [
        "# Generalize Standard For Images (MxN)\n",
        "\n",
        "If we create a standard for the header that describes the data stored then we can choose the following paramenters:\n",
        "\n",
        "- length\n",
        "- width\n",
        "- color dim \n",
        "- color bit count\n",
        "\n",
        "In total the number of bits is the product of all the parameters\n",
        "\n",
        "## Greyscale Image \n",
        "\n",
        "## RGB Image\n",
        "\n",
        "## Two Channel Color Standard\n",
        "\n",
        "## Four Channel\n",
        "\n",
        "## General Color Dim\n",
        "\n"
      ],
      "metadata": {
        "id": "kFmxqVuDea6r"
      }
    },
    {
      "cell_type": "code",
      "source": [
        "import numpy as np\n",
        "np.packbits(np.array([True]))"
      ],
      "metadata": {
        "colab": {
          "base_uri": "https://localhost:8080/"
        },
        "id": "AsncnL8icIIF",
        "outputId": "c31a7708-8b6c-46e7-8d9d-83c503590d65"
      },
      "execution_count": 133,
      "outputs": [
        {
          "output_type": "execute_result",
          "data": {
            "text/plain": [
              "array([128], dtype=uint8)"
            ]
          },
          "metadata": {},
          "execution_count": 133
        }
      ]
    },
    {
      "cell_type": "code",
      "source": [
        "def message_2_bit_array(message,mode=None):\n",
        "    '''This function takes in a message as string, bytestring or hextring.\n",
        "    If hexstring input the set mode='hex' '''\n",
        "    if type(message)==bytes:\n",
        "        hex_str=message.hex()\n",
        "    elif (type(message)==str):\n",
        "        if mode not in ('hex','hexstring'):\n",
        "            hex_str=message.encode().hex()\n",
        "        else:\n",
        "            hex_str=message\n",
        "    else:\n",
        "        print('fix the input and mode')\n",
        "        return None\n",
        "    \n",
        "    num=int('0x'+hex_str,base=16)\n",
        "    byte_len=(len(hex_str)+1)//2\n",
        "    bit_len=byte_len*8\n",
        "    bin_str=bin(num)\n",
        "    bit_list=[int(bit) for bit in bin_str[2:]]\n",
        "    bit_list=[0]*(bit_len-len(bit_list))+bit_list\n",
        "    bit_array=np.array(bit_list,dtype='uint8')\n",
        "    return bit_array\n",
        "\n",
        "def bit_array_2_byte_str(bit_array):\n",
        "    '''Convert bit array to a bytestring'''\n",
        "    bit_list=[ str(bit) for bit in bit_array]\n",
        "    bin_str='0b'+(''.join(bit_list))\n",
        "    num=int(bin_str,base=2)\n",
        "    return num.to_bytes(len(bit_array)//8,'big')\n",
        "\n",
        "def bit_array_2_hex_str(bit_array):  \n",
        "    '''Convert a bit array to a hexstring'''\n",
        "    return bit_array_2_byte_str(bit_array).hex()\n",
        "\n",
        "def bit_array_2_str(bit_array,encoding='utf-8'):\n",
        "    '''Convert a bit array to a string'''\n",
        "    return bit_array_2_byte_str(bit_array).decode(encoding)"
      ],
      "metadata": {
        "id": "rsUqVeQXiaH4"
      },
      "execution_count": 134,
      "outputs": []
    },
    {
      "cell_type": "code",
      "source": [
        "message_2_bit_array(b'sdjnvsdjnskjnv',mode=None)"
      ],
      "metadata": {
        "id": "zEm5E-uikh8L",
        "outputId": "8517c8e1-d16b-4b31-9fd3-185bb324279d",
        "colab": {
          "base_uri": "https://localhost:8080/"
        }
      },
      "execution_count": 135,
      "outputs": [
        {
          "output_type": "execute_result",
          "data": {
            "text/plain": [
              "array([0, 1, 1, 1, 0, 0, 1, 1, 0, 1, 1, 0, 0, 1, 0, 0, 0, 1, 1, 0, 1, 0,\n",
              "       1, 0, 0, 1, 1, 0, 1, 1, 1, 0, 0, 1, 1, 1, 0, 1, 1, 0, 0, 1, 1, 1,\n",
              "       0, 0, 1, 1, 0, 1, 1, 0, 0, 1, 0, 0, 0, 1, 1, 0, 1, 0, 1, 0, 0, 1,\n",
              "       1, 0, 1, 1, 1, 0, 0, 1, 1, 1, 0, 0, 1, 1, 0, 1, 1, 0, 1, 0, 1, 1,\n",
              "       0, 1, 1, 0, 1, 0, 1, 0, 0, 1, 1, 0, 1, 1, 1, 0, 0, 1, 1, 1, 0, 1,\n",
              "       1, 0], dtype=uint8)"
            ]
          },
          "metadata": {},
          "execution_count": 135
        }
      ]
    },
    {
      "cell_type": "code",
      "source": [
        ""
      ],
      "metadata": {
        "id": "DQet93sYlV48"
      },
      "execution_count": 135,
      "outputs": []
    },
    {
      "cell_type": "markdown",
      "source": [
        "Now we need a to function that \n",
        "- takes an image and turns to a bit array\n",
        "- takes *uint8* value and turns to bit array"
      ],
      "metadata": {
        "id": "kA88bFFJl5gZ"
      }
    },
    {
      "cell_type": "code",
      "source": [
        "def int2bitarray(x,bit=8):\n",
        "  return message_2_bit_array(hex(x)[2:],mode='hex')[:bit]"
      ],
      "metadata": {
        "id": "BKgZ3zyamhvX"
      },
      "execution_count": 136,
      "outputs": []
    },
    {
      "cell_type": "code",
      "source": [
        "A=int2bitarray(90)\n",
        "A"
      ],
      "metadata": {
        "id": "H9zjOmlhnxoB",
        "outputId": "247d4342-e660-450d-f5aa-8f6ee25ed46b",
        "colab": {
          "base_uri": "https://localhost:8080/"
        }
      },
      "execution_count": 137,
      "outputs": [
        {
          "output_type": "execute_result",
          "data": {
            "text/plain": [
              "array([0, 1, 0, 1, 1, 0, 1, 0], dtype=uint8)"
            ]
          },
          "metadata": {},
          "execution_count": 137
        }
      ]
    },
    {
      "cell_type": "code",
      "source": [
        "A7=int2bitarray(90,bit=7)\n",
        "A7"
      ],
      "metadata": {
        "id": "J4mqtt1gofmP",
        "outputId": "9418963f-c686-47b1-bb43-b25fe5414e45",
        "colab": {
          "base_uri": "https://localhost:8080/"
        }
      },
      "execution_count": 138,
      "outputs": [
        {
          "output_type": "execute_result",
          "data": {
            "text/plain": [
              "array([0, 1, 0, 1, 1, 0, 1], dtype=uint8)"
            ]
          },
          "metadata": {},
          "execution_count": 138
        }
      ]
    },
    {
      "cell_type": "code",
      "source": [
        "A2=int2bitarray(90,bit=2)\n",
        "A2"
      ],
      "metadata": {
        "id": "7w3-6JOfp84s",
        "outputId": "e62131f9-077b-4c5c-bd65-de5b87c2ab07",
        "colab": {
          "base_uri": "https://localhost:8080/"
        }
      },
      "execution_count": 139,
      "outputs": [
        {
          "output_type": "execute_result",
          "data": {
            "text/plain": [
              "array([0, 1], dtype=uint8)"
            ]
          },
          "metadata": {},
          "execution_count": 139
        }
      ]
    },
    {
      "cell_type": "code",
      "source": [
        "(2**np.arange(7,-1,-1))"
      ],
      "metadata": {
        "id": "wbjFSdiJswWl",
        "outputId": "22f9bd37-8ed4-484f-cbba-9185724816eb",
        "colab": {
          "base_uri": "https://localhost:8080/"
        }
      },
      "execution_count": 140,
      "outputs": [
        {
          "output_type": "execute_result",
          "data": {
            "text/plain": [
              "array([128,  64,  32,  16,   8,   4,   2,   1])"
            ]
          },
          "metadata": {},
          "execution_count": 140
        }
      ]
    },
    {
      "cell_type": "code",
      "source": [
        "def bitarray2int(b_arr):\n",
        "  ln=b_arr.shape[0]\n",
        "  scales=(2**np.arange(7,-1,-1))[:ln]\n",
        "  return (b_arr*scales).sum()"
      ],
      "metadata": {
        "id": "zk1oRgPhqAmp"
      },
      "execution_count": 141,
      "outputs": []
    },
    {
      "cell_type": "code",
      "source": [
        "B=int2bitarray(255,bit=2)\n",
        "B"
      ],
      "metadata": {
        "id": "Dq5dfFgbu2Td",
        "outputId": "082dda45-3906-4c16-9f11-5cf5266f1c3e",
        "colab": {
          "base_uri": "https://localhost:8080/"
        }
      },
      "execution_count": 142,
      "outputs": [
        {
          "output_type": "execute_result",
          "data": {
            "text/plain": [
              "array([1, 1], dtype=uint8)"
            ]
          },
          "metadata": {},
          "execution_count": 142
        }
      ]
    },
    {
      "cell_type": "code",
      "source": [
        "bitarray2int(A)"
      ],
      "metadata": {
        "id": "jwrC3mSGrk6Z",
        "outputId": "d012db6a-e9d1-4b3a-b42b-b14900ffb9da",
        "colab": {
          "base_uri": "https://localhost:8080/"
        }
      },
      "execution_count": 143,
      "outputs": [
        {
          "output_type": "execute_result",
          "data": {
            "text/plain": [
              "90"
            ]
          },
          "metadata": {},
          "execution_count": 143
        }
      ]
    },
    {
      "cell_type": "code",
      "source": [
        "bitarray2int(B)"
      ],
      "metadata": {
        "id": "19xKv3EAujOS",
        "outputId": "da2569e3-5b28-4569-d9c4-e7e2ad4b3b28",
        "colab": {
          "base_uri": "https://localhost:8080/"
        }
      },
      "execution_count": 144,
      "outputs": [
        {
          "output_type": "execute_result",
          "data": {
            "text/plain": [
              "192"
            ]
          },
          "metadata": {},
          "execution_count": 144
        }
      ]
    },
    {
      "cell_type": "code",
      "source": [
        "def bitarray2int_scale(b_arr):\n",
        "  ln=b_arr.shape[0]\n",
        "  scales=(2**np.arange(7,-1,-1))[:ln]\n",
        "  return int((b_arr*scales).sum()*255/bitarray2int(np.ones(ln,dtype='uint8')))"
      ],
      "metadata": {
        "id": "yX7QEm0ovuZc"
      },
      "execution_count": 145,
      "outputs": []
    },
    {
      "cell_type": "code",
      "source": [
        "bitarray2int_scale(B)"
      ],
      "metadata": {
        "id": "lW750XlFw6Qg",
        "outputId": "effd95d1-6206-4468-9374-edeeb4e13423",
        "colab": {
          "base_uri": "https://localhost:8080/"
        }
      },
      "execution_count": 146,
      "outputs": [
        {
          "output_type": "execute_result",
          "data": {
            "text/plain": [
              "255"
            ]
          },
          "metadata": {},
          "execution_count": 146
        }
      ]
    },
    {
      "cell_type": "code",
      "source": [
        "bitarray2int_scale(np.array([1,1]))"
      ],
      "metadata": {
        "id": "s67MLWLLxCQl",
        "outputId": "7801f317-ceb1-44e9-9a01-a646ad331fc7",
        "colab": {
          "base_uri": "https://localhost:8080/"
        }
      },
      "execution_count": 147,
      "outputs": [
        {
          "output_type": "execute_result",
          "data": {
            "text/plain": [
              "255"
            ]
          },
          "metadata": {},
          "execution_count": 147
        }
      ]
    },
    {
      "cell_type": "code",
      "source": [
        "def imgarr2bitarray(imgarr,bit=8):\n",
        "  return np.array([ int2bitarray(it,bit) for it in imgarr.reshape(-1)]).reshape(-1)"
      ],
      "metadata": {
        "id": "jbDIPfeTxKAe"
      },
      "execution_count": 148,
      "outputs": []
    },
    {
      "cell_type": "code",
      "source": [
        "imgarr2bitarray(stego_array_grey,2)"
      ],
      "metadata": {
        "colab": {
          "base_uri": "https://localhost:8080/"
        },
        "id": "ihGhAj7pTa-g",
        "outputId": "f674042e-b374-4053-d0fb-acbea43696c7"
      },
      "execution_count": 149,
      "outputs": [
        {
          "output_type": "execute_result",
          "data": {
            "text/plain": [
              "array([1, 1, 1, ..., 1, 1, 1], dtype=uint8)"
            ]
          },
          "metadata": {},
          "execution_count": 149
        }
      ]
    },
    {
      "cell_type": "code",
      "source": [
        "Image.fromarray(imgarr2bitarray(stego_array_grey,4).reshape(64,64)*255)"
      ],
      "metadata": {
        "colab": {
          "base_uri": "https://localhost:8080/",
          "height": 81
        },
        "id": "yKM48wdyTfeX",
        "outputId": "7a4eba43-cee1-47c1-9cd5-47dd9685e731"
      },
      "execution_count": 151,
      "outputs": [
        {
          "output_type": "execute_result",
          "data": {
            "text/plain": [
              "<PIL.Image.Image image mode=L size=64x64 at 0x7F01DEB21D10>"
            ],
            "image/png": "[encoded data removed]"
          },
          "metadata": {},
          "execution_count": 151
        }
      ]
    },
    {
      "cell_type": "code",
      "source": [
        "64*32/8"
      ],
      "metadata": {
        "colab": {
          "base_uri": "https://localhost:8080/"
        },
        "id": "HL8ryaCnZSJ1",
        "outputId": "abe4f45e-d36d-48e2-ae5b-1d45700b639b"
      },
      "execution_count": 43,
      "outputs": [
        {
          "output_type": "execute_result",
          "data": {
            "text/plain": [
              "256.0"
            ]
          },
          "metadata": {},
          "execution_count": 43
        }
      ]
    },
    {
      "cell_type": "code",
      "source": [
        "Image.fromarray(imgarr2bitarray(stego_array_grey,1).reshape(32,32)*255)"
      ],
      "metadata": {
        "colab": {
          "base_uri": "https://localhost:8080/",
          "height": 49
        },
        "id": "tt529BB3UP-8",
        "outputId": "9867b16b-f3c0-4513-f0db-fa6c37de0c94"
      },
      "execution_count": 152,
      "outputs": [
        {
          "output_type": "execute_result",
          "data": {
            "text/plain": [
              "<PIL.Image.Image image mode=L size=32x32 at 0x7F01DEAF2450>"
            ],
            "image/png": "[encoded data removed]"
          },
          "metadata": {},
          "execution_count": 152
        }
      ]
    },
    {
      "cell_type": "code",
      "source": [
        "Image.fromarray(imgarr2bitarray(stego_array_grey,2).reshape(16,128)*255)"
      ],
      "metadata": {
        "colab": {
          "base_uri": "https://localhost:8080/",
          "height": 34
        },
        "id": "M2z0gZvPWgo_",
        "outputId": "ac45f135-14c4-4d10-f64d-f5cb49010860"
      },
      "execution_count": 153,
      "outputs": [
        {
          "output_type": "execute_result",
          "data": {
            "text/plain": [
              "<PIL.Image.Image image mode=L size=128x16 at 0x7F01DEB2C9D0>"
            ],
            "image/png": "[encoded data removed]"
          },
          "metadata": {},
          "execution_count": 153
        }
      ]
    },
    {
      "cell_type": "code",
      "source": [
        "g2=imgarr2bitarray(stego_array_grey,2)\n",
        "g3=imgarr2bitarray(stego_array_grey,3)\n",
        "g4=imgarr2bitarray(stego_array_grey,4)\n",
        "\n",
        "G8=[imgarr2bitarray(stego_array_grey,i+1) for i in range(8)]"
      ],
      "metadata": {
        "id": "DNde1uMtdDb2"
      },
      "execution_count": 154,
      "outputs": []
    },
    {
      "cell_type": "code",
      "source": [
        "def bitarray2imgarr(barrs,imgshape=(16,16),bit=2,color=1):\n",
        "  lns=len(barrs.reshape(-1))\n",
        "  #Bs=barrs.reshape(*imgshape,bit)\n",
        "  intlst=[ bitarray2int(barrs.reshape(-1)[i:i+bit]) for i in range(0,lns,bit) ]\n",
        "  intarr=np.array(intlst).reshape(*imgshape,color).astype('uint8')\n",
        "  return intarr\n",
        " \n",
        "def bitarray2imgarr_scale(barrs,imgshape=(16,16),bit=2,color=1):\n",
        "  lns=len(barrs.reshape(-1))\n",
        "  #Bs=barrs.reshape(*imgshape,bit)\n",
        "  intlst=[ bitarray2int_scale(barrs.reshape(-1)[i:i+bit]) for i in range(0,lns,bit) ]\n",
        "  intarr=np.array(intlst).reshape(*imgshape,color).astype('uint8')\n",
        "  return intarr"
      ],
      "metadata": {
        "id": "xY816tYbZOIk"
      },
      "execution_count": 155,
      "outputs": []
    },
    {
      "cell_type": "code",
      "source": [
        "trans=bitarray2imgarr(g3,imgshape=(32,32),bit=3,color=1)\n",
        "trans.shape"
      ],
      "metadata": {
        "colab": {
          "base_uri": "https://localhost:8080/"
        },
        "id": "XvlK0lwVgRR9",
        "outputId": "dc1301a9-e8e0-491e-ddcf-02499533c8c3"
      },
      "execution_count": 156,
      "outputs": [
        {
          "output_type": "execute_result",
          "data": {
            "text/plain": [
              "(32, 32, 1)"
            ]
          },
          "metadata": {},
          "execution_count": 156
        }
      ]
    },
    {
      "cell_type": "code",
      "source": [
        "Image.fromarray(trans.reshape(32,32))"
      ],
      "metadata": {
        "colab": {
          "base_uri": "https://localhost:8080/",
          "height": 49
        },
        "id": "2ELrPXV7gzlw",
        "outputId": "1b0c228f-ad80-4969-a0d7-30f5d1694fa6"
      },
      "execution_count": 157,
      "outputs": [
        {
          "output_type": "execute_result",
          "data": {
            "text/plain": [
              "<PIL.Image.Image image mode=L size=32x32 at 0x7F01DEA7EB90>"
            ],
            "image/png": "[encoded data removed]"
          },
          "metadata": {},
          "execution_count": 157
        }
      ]
    },
    {
      "cell_type": "code",
      "source": [
        "trans_scale=bitarray2imgarr(g4,imgshape=(32,32),bit=4,color=1)\n",
        "trans_scale.shape"
      ],
      "metadata": {
        "colab": {
          "base_uri": "https://localhost:8080/"
        },
        "id": "g515veeph-T9",
        "outputId": "1ae3e1a6-7603-4fa7-cd7f-8df5b454aa8a"
      },
      "execution_count": 158,
      "outputs": [
        {
          "output_type": "execute_result",
          "data": {
            "text/plain": [
              "(32, 32, 1)"
            ]
          },
          "metadata": {},
          "execution_count": 158
        }
      ]
    },
    {
      "cell_type": "code",
      "source": [
        "Image.fromarray(trans_scale.reshape(32,32))"
      ],
      "metadata": {
        "colab": {
          "base_uri": "https://localhost:8080/",
          "height": 49
        },
        "id": "gs5UbMShjjBD",
        "outputId": "c7beeb61-80f2-4b4e-96a3-ce36ed82aa65"
      },
      "execution_count": 159,
      "outputs": [
        {
          "output_type": "execute_result",
          "data": {
            "text/plain": [
              "<PIL.Image.Image image mode=L size=32x32 at 0x7F01DEA7EFD0>"
            ],
            "image/png": "[encoded data removed]"
          },
          "metadata": {},
          "execution_count": 159
        }
      ]
    },
    {
      "cell_type": "code",
      "source": [
        "len(bit_array_2_byte_str(g4))"
      ],
      "metadata": {
        "colab": {
          "base_uri": "https://localhost:8080/"
        },
        "id": "-nPGeawcjmTb",
        "outputId": "458f03f0-f7b2-49b5-e3c6-144bce1211b3"
      },
      "execution_count": 160,
      "outputs": [
        {
          "output_type": "execute_result",
          "data": {
            "text/plain": [
              "512"
            ]
          },
          "metadata": {},
          "execution_count": 160
        }
      ]
    },
    {
      "cell_type": "code",
      "source": [
        "T8=[bitarray2imgarr(g,imgshape=(32,32),bit=i+1,color=1) for i,g in enumerate(G8)]"
      ],
      "metadata": {
        "id": "fvKem93rnPlS"
      },
      "execution_count": 162,
      "outputs": []
    },
    {
      "cell_type": "code",
      "source": [
        "[display(Image.fromarray(t.reshape(32,32))) for t in T8]"
      ],
      "metadata": {
        "colab": {
          "base_uri": "https://localhost:8080/",
          "height": 291
        },
        "id": "BvbqvWpHodFu",
        "outputId": "4f5b19a0-b86e-46ba-da5b-a5e03c100fac"
      },
      "execution_count": 163,
      "outputs": [
        {
          "output_type": "display_data",
          "data": {
            "text/plain": [
              "<PIL.Image.Image image mode=L size=32x32 at 0x7F01DEAC4910>"
            ],
            "image/png": "[encoded data removed]"
          },
          "metadata": {}
        },
        {
          "output_type": "display_data",
          "data": {
            "text/plain": [
              "<PIL.Image.Image image mode=L size=32x32 at 0x7F01DEB6EC10>"
            ],
            "image/png": "[encoded data removed]"
          },
          "metadata": {}
        },
        {
          "output_type": "display_data",
          "data": {
            "text/plain": [
              "<PIL.Image.Image image mode=L size=32x32 at 0x7F01DED16710>"
            ],
            "image/png": "[encoded data removed]"
          },
          "metadata": {}
        },
        {
          "output_type": "display_data",
          "data": {
            "text/plain": [
              "<PIL.Image.Image image mode=L size=32x32 at 0x7F01DEBC58D0>"
            ],
            "image/png": "[encoded data removed]"
          },
          "metadata": {}
        },
        {
          "output_type": "display_data",
          "data": {
            "text/plain": [
              "<PIL.Image.Image image mode=L size=32x32 at 0x7F01DED165D0>"
            ],
            "image/png": "[encoded data removed]"
          },
          "metadata": {}
        },
        {
          "output_type": "display_data",
          "data": {
            "text/plain": [
              "<PIL.Image.Image image mode=L size=32x32 at 0x7F01DEBC58D0>"
            ],
            "image/png": "[encoded data removed]"
          },
          "metadata": {}
        },
        {
          "output_type": "display_data",
          "data": {
            "text/plain": [
              "<PIL.Image.Image image mode=L size=32x32 at 0x7F01DED165D0>"
            ],
            "image/png": "[encoded data removed]"
          },
          "metadata": {}
        },
        {
          "output_type": "display_data",
          "data": {
            "text/plain": [
              "<PIL.Image.Image image mode=L size=32x32 at 0x7F01DEBC58D0>"
            ],
            "image/png": "[encoded data removed]"
          },
          "metadata": {}
        },
        {
          "output_type": "execute_result",
          "data": {
            "text/plain": [
              "[None, None, None, None, None, None, None, None]"
            ]
          },
          "metadata": {},
          "execution_count": 163
        }
      ]
    },
    {
      "cell_type": "code",
      "source": [
        "64*4*4/80"
      ],
      "metadata": {
        "colab": {
          "base_uri": "https://localhost:8080/"
        },
        "id": "Sy6NZdrUpFBx",
        "outputId": "a84da4a2-9783-447f-850e-c260ba50c4c6"
      },
      "execution_count": 165,
      "outputs": [
        {
          "output_type": "execute_result",
          "data": {
            "text/plain": [
              "12.8"
            ]
          },
          "metadata": {},
          "execution_count": 165
        }
      ]
    },
    {
      "cell_type": "code",
      "source": [
        "#bytes\n",
        "[ len(g)/8 for g in G8]"
      ],
      "metadata": {
        "id": "fxyeoNQU6-Od",
        "outputId": "38c30107-7cf9-45ae-8af8-8a705dd40042",
        "colab": {
          "base_uri": "https://localhost:8080/"
        }
      },
      "execution_count": 166,
      "outputs": [
        {
          "output_type": "execute_result",
          "data": {
            "text/plain": [
              "[128.0, 256.0, 384.0, 512.0, 640.0, 768.0, 896.0, 1024.0]"
            ]
          },
          "metadata": {},
          "execution_count": 166
        }
      ]
    },
    {
      "cell_type": "code",
      "source": [
        "#txn\n",
        "[ len(g)/8/80 for g in G8]"
      ],
      "metadata": {
        "id": "WNexER7d8-X7",
        "outputId": "1e75aa83-98aa-4724-d4e4-2e1f48009e04",
        "colab": {
          "base_uri": "https://localhost:8080/"
        }
      },
      "execution_count": 172,
      "outputs": [
        {
          "output_type": "execute_result",
          "data": {
            "text/plain": [
              "[1.6, 3.2, 4.8, 6.4, 8.0, 9.6, 11.2, 12.8]"
            ]
          },
          "metadata": {},
          "execution_count": 172
        }
      ]
    },
    {
      "cell_type": "code",
      "source": [
        "#doge\n",
        "[ len(g)/8/80*2 for g in G8]"
      ],
      "metadata": {
        "id": "_iSQRGgL9DuE",
        "outputId": "44d163d1-e40d-49b6-ae9e-3243878b7bf1",
        "colab": {
          "base_uri": "https://localhost:8080/"
        }
      },
      "execution_count": 173,
      "outputs": [
        {
          "output_type": "execute_result",
          "data": {
            "text/plain": [
              "[3.2, 6.4, 9.6, 12.8, 16.0, 19.2, 22.4, 25.6]"
            ]
          },
          "metadata": {},
          "execution_count": 173
        }
      ]
    },
    {
      "cell_type": "code",
      "source": [
        ""
      ],
      "metadata": {
        "id": "3rv-SKod-DXx"
      },
      "execution_count": null,
      "outputs": []
    }
  ]
}