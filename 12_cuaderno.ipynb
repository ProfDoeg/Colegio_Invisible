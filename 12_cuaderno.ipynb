{
  "nbformat": 4,
  "nbformat_minor": 0,
  "metadata": {
    "colab": {
      "name": "12_cuaderno.ipynb",
      "provenance": [],
      "include_colab_link": true
    },
    "kernelspec": {
      "name": "python3",
      "display_name": "Python 3"
    },
    "language_info": {
      "name": "python"
    }
  },
  "cells": [
    {
      "cell_type": "markdown",
      "metadata": {
        "id": "view-in-github",
        "colab_type": "text"
      },
      "source": [
        "<a href=\"https://colab.research.google.com/github/ProfDoeg/Colegio_Invisible/blob/main/12_cuaderno.ipynb\" target=\"_parent\"><img src=\"https://colab.research.google.com/assets/colab-badge.svg\" alt=\"Open In Colab\"/></a>"
      ]
    },
    {
      "cell_type": "code",
      "source": [
        "#! rm Colegio_Invisible -r"
      ],
      "metadata": {
        "id": "6YV5qP8RODUW"
      },
      "execution_count": null,
      "outputs": []
    },
    {
      "cell_type": "code",
      "execution_count": null,
      "metadata": {
        "id": "p80LxM-iMpBC"
      },
      "outputs": [],
      "source": [
        "! git clone https://github.com/ProfDoeg/Colegio_Invisible.git"
      ]
    },
    {
      "cell_type": "markdown",
      "source": [
        "for an image...there are pixels\n",
        "\n",
        "each pixel has 3,4 values (Red Green Blue and sometime Alpha)\n",
        "\n",
        "those numbers are...1 byte...0 to 255"
      ],
      "metadata": {
        "id": "A54RU5ZeUZZk"
      }
    },
    {
      "cell_type": "code",
      "source": [
        "from PIL import Image\n",
        "import numpy as np"
      ],
      "metadata": {
        "id": "jSzywLaHMsem"
      },
      "execution_count": null,
      "outputs": []
    },
    {
      "cell_type": "code",
      "source": [
        "64*8"
      ],
      "metadata": {
        "id": "1JvV7B_FV4xc"
      },
      "execution_count": null,
      "outputs": []
    },
    {
      "cell_type": "markdown",
      "source": [
        "what can we put into blockchain...\n",
        "Op_Return\n",
        "80 bytes and we will use 64 bytes for image data\n",
        "\n",
        "each byte is made up of 8 binary values 1/0 called bits\n",
        "\n",
        "64 bytes = 64*8...512 bits\n",
        "\n",
        "We want to put image in single block\n",
        "\n",
        "PROPOSAL:\n",
        "\n",
        "16x16 image = 256 pixels\n",
        "\n",
        "only get to use 2 bits per pixel\n",
        "\n",
        "- 0,0  0 \n",
        "- 0,1  64\n",
        "- 1,0  128\n",
        "- 1,1  192\n",
        "\n",
        "1 byte [ , , , , , , , ]\n",
        "\n",
        "1 byte can tell us color of 4 pixels\n",
        "each one taking up 2 bits"
      ],
      "metadata": {
        "id": "g5RXqfJ_VK9u"
      }
    },
    {
      "cell_type": "code",
      "source": [
        "\"\""
      ],
      "metadata": {
        "id": "VpT7x5CIWHyc"
      },
      "execution_count": null,
      "outputs": []
    },
    {
      "cell_type": "code",
      "source": [
        "!ls Colegio_Invisible/img"
      ],
      "metadata": {
        "id": "zo2ZCW_xNzMj"
      },
      "execution_count": null,
      "outputs": []
    },
    {
      "cell_type": "code",
      "source": [
        "stego_image=Image.open('Colegio_Invisible/img/cat.png')\n",
        "stego_image=stego_image.resize((32,32))\n",
        "stego_image"
      ],
      "metadata": {
        "id": "3cAzcOtCNoF-",
        "colab": {
          "base_uri": "https://localhost:8080/",
          "height": 49
        },
        "outputId": "036ffde2-0341-4a8a-dc45-d4bec2ea39ae"
      },
      "execution_count": 9,
      "outputs": [
        {
          "output_type": "execute_result",
          "data": {
            "text/plain": [
              "<PIL.Image.Image image mode=RGBA size=32x32 at 0x7FC41A49B290>"
            ],
            "image/png": "[encoded data removed]"
          },
          "metadata": {},
          "execution_count": 9
        }
      ]
    },
    {
      "cell_type": "code",
      "source": [
        "type(stego_image)"
      ],
      "metadata": {
        "id": "vJ758msHNu5T",
        "colab": {
          "base_uri": "https://localhost:8080/"
        },
        "outputId": "2c2a9cc2-90f4-468c-ce08-ad90f7357ac6"
      },
      "execution_count": 10,
      "outputs": [
        {
          "output_type": "execute_result",
          "data": {
            "text/plain": [
              "PIL.Image.Image"
            ]
          },
          "metadata": {},
          "execution_count": 10
        }
      ]
    },
    {
      "cell_type": "code",
      "source": [
        "stego_array = np.array(stego_image)\n",
        "stego_array"
      ],
      "metadata": {
        "id": "MK5bUIKbOTbj",
        "colab": {
          "base_uri": "https://localhost:8080/"
        },
        "outputId": "1781e807-3997-4877-f4a4-9dd93ed98597"
      },
      "execution_count": 8,
      "outputs": [
        {
          "output_type": "execute_result",
          "data": {
            "text/plain": [
              "array([[[226, 223, 218, 255],\n",
              "        [224, 220, 215, 255],\n",
              "        [221, 218, 212, 255],\n",
              "        ...,\n",
              "        [204, 198, 192, 255],\n",
              "        [201, 196, 189, 255],\n",
              "        [200, 194, 188, 255]],\n",
              "\n",
              "       [[219, 216, 210, 255],\n",
              "        [217, 214, 208, 255],\n",
              "        [214, 211, 205, 255],\n",
              "        ...,\n",
              "        [202, 197, 190, 255],\n",
              "        [200, 195, 188, 255],\n",
              "        [198, 193, 186, 255]],\n",
              "\n",
              "       [[209, 206, 199, 255],\n",
              "        [207, 204, 197, 255],\n",
              "        [205, 201, 195, 255],\n",
              "        ...,\n",
              "        [200, 194, 187, 255],\n",
              "        [199, 193, 186, 255],\n",
              "        [197, 191, 185, 255]],\n",
              "\n",
              "       ...,\n",
              "\n",
              "       [[135, 127, 120, 255],\n",
              "        [133, 125, 118, 255],\n",
              "        [130, 122, 116, 255],\n",
              "        ...,\n",
              "        [162, 154, 146, 255],\n",
              "        [162, 155, 147, 255],\n",
              "        [163, 156, 148, 255]],\n",
              "\n",
              "       [[134, 126, 120, 255],\n",
              "        [132, 124, 118, 255],\n",
              "        [129, 122, 115, 255],\n",
              "        ...,\n",
              "        [161, 153, 145, 255],\n",
              "        [162, 154, 146, 255],\n",
              "        [162, 155, 147, 255]],\n",
              "\n",
              "       [[133, 126, 119, 255],\n",
              "        [131, 124, 117, 255],\n",
              "        [129, 122, 115, 255],\n",
              "        ...,\n",
              "        [160, 152, 144, 255],\n",
              "        [161, 153, 145, 255],\n",
              "        [163, 155, 147, 255]]], dtype=uint8)"
            ]
          },
          "metadata": {},
          "execution_count": 8
        }
      ]
    },
    {
      "cell_type": "markdown",
      "source": [
        "**`uint8`** stands for unsigned 8-bit integer\n",
        "- 8 binary 1/0 values\n",
        "- that is one byte\n",
        "- a number from 0-255\n",
        "- two hex values like ff"
      ],
      "metadata": {
        "id": "5Gq3lpQ2Oh92"
      }
    },
    {
      "cell_type": "code",
      "source": [
        "2**8"
      ],
      "metadata": {
        "colab": {
          "base_uri": "https://localhost:8080/"
        },
        "id": "K1Cc4FPg7JwG",
        "outputId": "6213b20e-ae78-43c3-a017-9f3248f55021"
      },
      "execution_count": 12,
      "outputs": [
        {
          "output_type": "execute_result",
          "data": {
            "text/plain": [
              "256"
            ]
          },
          "metadata": {},
          "execution_count": 12
        }
      ]
    },
    {
      "cell_type": "code",
      "source": [
        "stego_array.dtype"
      ],
      "metadata": {
        "id": "HnvaTb7qOcCX",
        "colab": {
          "base_uri": "https://localhost:8080/"
        },
        "outputId": "f3dc31e9-2079-46df-cd64-19dee4521804"
      },
      "execution_count": 11,
      "outputs": [
        {
          "output_type": "execute_result",
          "data": {
            "text/plain": [
              "dtype('uint8')"
            ]
          },
          "metadata": {},
          "execution_count": 11
        }
      ]
    },
    {
      "cell_type": "code",
      "source": [
        "stego_array.shape"
      ],
      "metadata": {
        "id": "ZtupzBOJOWjT",
        "colab": {
          "base_uri": "https://localhost:8080/"
        },
        "outputId": "67542a8c-781f-490c-f973-39af315a8d21"
      },
      "execution_count": 13,
      "outputs": [
        {
          "output_type": "execute_result",
          "data": {
            "text/plain": [
              "(32, 32, 4)"
            ]
          },
          "metadata": {},
          "execution_count": 13
        }
      ]
    },
    {
      "cell_type": "code",
      "source": [
        "stego_array[:,:,:3]"
      ],
      "metadata": {
        "id": "kCWICwyyYpxN"
      },
      "execution_count": null,
      "outputs": []
    },
    {
      "cell_type": "code",
      "source": [
        "def grey_imgarr(imgarr):\n",
        "  return imgarr[:,:,:3].mean(axis=2).astype('uint8')"
      ],
      "metadata": {
        "id": "_etmN93CuY2-"
      },
      "execution_count": 54,
      "outputs": []
    },
    {
      "cell_type": "code",
      "source": [
        "stego_array_grey=stego_array[:,:,:3].mean(axis=2).astype('uint8')\n",
        "stego_array_grey.shape,stego_array_grey.dtype"
      ],
      "metadata": {
        "id": "kWBZaDEZOgW_",
        "colab": {
          "base_uri": "https://localhost:8080/"
        },
        "outputId": "84b1a361-1992-457a-df39-48a07962138a"
      },
      "execution_count": 14,
      "outputs": [
        {
          "output_type": "execute_result",
          "data": {
            "text/plain": [
              "((32, 32), dtype('uint8'))"
            ]
          },
          "metadata": {},
          "execution_count": 14
        }
      ]
    },
    {
      "cell_type": "code",
      "source": [
        "stego_array_grey"
      ],
      "metadata": {
        "id": "A0nsbRaZOnxN",
        "colab": {
          "base_uri": "https://localhost:8080/"
        },
        "outputId": "6f748b29-c087-4e85-edfd-32bad0c75fb4"
      },
      "execution_count": 15,
      "outputs": [
        {
          "output_type": "execute_result",
          "data": {
            "text/plain": [
              "array([[222, 219, 217, ..., 198, 195, 194],\n",
              "       [215, 213, 210, ..., 196, 194, 192],\n",
              "       [204, 202, 200, ..., 193, 192, 191],\n",
              "       ...,\n",
              "       [127, 125, 122, ..., 154, 154, 155],\n",
              "       [126, 124, 122, ..., 153, 154, 154],\n",
              "       [126, 124, 122, ..., 152, 153, 155]], dtype=uint8)"
            ]
          },
          "metadata": {},
          "execution_count": 15
        }
      ]
    },
    {
      "cell_type": "code",
      "source": [
        "stego_image_grey = Image.fromarray(stego_array_grey)\n",
        "stego_image_grey"
      ],
      "metadata": {
        "id": "IiMfNkWmOulw",
        "colab": {
          "base_uri": "https://localhost:8080/",
          "height": 49
        },
        "outputId": "199d60a9-daad-4c6d-c43c-bfbed3317d13"
      },
      "execution_count": 16,
      "outputs": [
        {
          "output_type": "execute_result",
          "data": {
            "text/plain": [
              "<PIL.Image.Image image mode=L size=32x32 at 0x7FC41A46EBD0>"
            ],
            "image/png": "[encoded data removed]"
          },
          "metadata": {},
          "execution_count": 16
        }
      ]
    },
    {
      "cell_type": "code",
      "source": [
        "def int_2_bit_array(num):\n",
        "    bin_str=bin(num)\n",
        "    bit_list=[int(bit) for bit in bin_str[2:]]\n",
        "    bit_list=[0]*(8-len(bit_list))+bit_list\n",
        "    bit_array=np.array(bit_list,dtype='uint8')\n",
        "    return bit_array"
      ],
      "metadata": {
        "id": "TsrD8_OFO1n6"
      },
      "execution_count": 18,
      "outputs": []
    },
    {
      "cell_type": "code",
      "source": [
        "int_2_bit_array(255)"
      ],
      "metadata": {
        "colab": {
          "base_uri": "https://localhost:8080/"
        },
        "id": "Fcwm8Rm187LD",
        "outputId": "9b3ad700-5f89-4d6b-9cbf-daade6cb9203"
      },
      "execution_count": 20,
      "outputs": [
        {
          "output_type": "execute_result",
          "data": {
            "text/plain": [
              "array([1, 1, 1, 1, 1, 1, 1, 1], dtype=uint8)"
            ]
          },
          "metadata": {},
          "execution_count": 20
        }
      ]
    },
    {
      "cell_type": "code",
      "source": [
        "int_2_bit_array(2)"
      ],
      "metadata": {
        "colab": {
          "base_uri": "https://localhost:8080/"
        },
        "id": "ZnC3XzE49YD0",
        "outputId": "521ac96d-a46b-4424-aa47-5bb713563fa3"
      },
      "execution_count": 22,
      "outputs": [
        {
          "output_type": "execute_result",
          "data": {
            "text/plain": [
              "array([0, 0, 0, 0, 0, 0, 1, 0], dtype=uint8)"
            ]
          },
          "metadata": {},
          "execution_count": 22
        }
      ]
    },
    {
      "cell_type": "code",
      "source": [
        "int_2_bit_array(64)"
      ],
      "metadata": {
        "colab": {
          "base_uri": "https://localhost:8080/"
        },
        "id": "xDfN1uS99cJN",
        "outputId": "a81227fd-f066-46fc-dc6d-5bd448768ee6"
      },
      "execution_count": 23,
      "outputs": [
        {
          "output_type": "execute_result",
          "data": {
            "text/plain": [
              "array([0, 1, 0, 0, 0, 0, 0, 0], dtype=uint8)"
            ]
          },
          "metadata": {},
          "execution_count": 23
        }
      ]
    },
    {
      "cell_type": "code",
      "source": [
        "int_2_bit_array(65)"
      ],
      "metadata": {
        "colab": {
          "base_uri": "https://localhost:8080/"
        },
        "id": "GCE5EUEZ9mWt",
        "outputId": "e19b783b-67ea-4c74-d8b2-f0bc0381c2c8"
      },
      "execution_count": 24,
      "outputs": [
        {
          "output_type": "execute_result",
          "data": {
            "text/plain": [
              "array([0, 1, 0, 0, 0, 0, 0, 1], dtype=uint8)"
            ]
          },
          "metadata": {},
          "execution_count": 24
        }
      ]
    },
    {
      "cell_type": "code",
      "source": [
        "int_2_bit_array(68)"
      ],
      "metadata": {
        "colab": {
          "base_uri": "https://localhost:8080/"
        },
        "id": "3kg214gB9uIJ",
        "outputId": "78fd0c01-7c03-43b5-b715-906293672b5a"
      },
      "execution_count": 25,
      "outputs": [
        {
          "output_type": "execute_result",
          "data": {
            "text/plain": [
              "array([0, 1, 0, 0, 0, 1, 0, 0], dtype=uint8)"
            ]
          },
          "metadata": {},
          "execution_count": 25
        }
      ]
    },
    {
      "cell_type": "code",
      "source": [
        "int_2_bit_array(1)"
      ],
      "metadata": {
        "colab": {
          "base_uri": "https://localhost:8080/"
        },
        "id": "WJ3jeAqi8680",
        "outputId": "c2bcc070-4e85-4aba-dbcb-15a1e862675c"
      },
      "execution_count": 21,
      "outputs": [
        {
          "output_type": "execute_result",
          "data": {
            "text/plain": [
              "array([0, 0, 0, 0, 0, 0, 0, 1], dtype=uint8)"
            ]
          },
          "metadata": {},
          "execution_count": 21
        }
      ]
    },
    {
      "cell_type": "code",
      "source": [
        "int_2_bit_array(0)"
      ],
      "metadata": {
        "colab": {
          "base_uri": "https://localhost:8080/"
        },
        "id": "7gO-XCC38zfG",
        "outputId": "f8f6db89-2bd9-4db2-cf70-ce7d64d7ef65"
      },
      "execution_count": 19,
      "outputs": [
        {
          "output_type": "execute_result",
          "data": {
            "text/plain": [
              "array([0, 0, 0, 0, 0, 0, 0, 0], dtype=uint8)"
            ]
          },
          "metadata": {},
          "execution_count": 19
        }
      ]
    },
    {
      "cell_type": "markdown",
      "source": [
        "Goal:\n",
        "\n",
        "- take image of 256 bytes and reduce each byte to 2 bit in form of 2 element array\n",
        "- turn that all into 512 bits\n",
        "- turn 512 bits into 64 bytes"
      ],
      "metadata": {
        "id": "KDXmg93RcmvX"
      }
    },
    {
      "cell_type": "markdown",
      "source": [
        "# Generalize Standard For Images (MxN)\n",
        "\n",
        "If we create a standard for the header that describes the data stored then we can choose the following paramenters:\n",
        "\n",
        "- length\n",
        "- width\n",
        "- color dim \n",
        "- color bit count\n",
        "\n",
        "In total the number of bits is the product of all the parameters\n",
        "\n",
        "## Greyscale Image \n",
        "\n",
        "## RGB Image\n",
        "\n",
        "## Two Channel Color Standard\n",
        "\n",
        "## Four Channel\n",
        "\n",
        "## General Color Dim\n",
        "\n"
      ],
      "metadata": {
        "id": "kFmxqVuDea6r"
      }
    },
    {
      "cell_type": "code",
      "source": [
        "def grey_imgarr(imgarr):\n",
        "  return imgarr[:,:,:3].mean(axis=2).astype('uint8')\n",
        "\n",
        "def message_2_bit_array(message,mode=None):\n",
        "    '''This function takes in a message as string, bytestring or hextring.\n",
        "    If hexstring input the set mode='hex' '''\n",
        "    if type(message)==bytes:\n",
        "        hex_str=message.hex()\n",
        "    elif (type(message)==str):\n",
        "        if mode not in ('hex','hexstring'):\n",
        "            hex_str=message.encode().hex()\n",
        "        else:\n",
        "            hex_str=message\n",
        "    else:\n",
        "        print('fix the input and mode')\n",
        "        return None\n",
        "    \n",
        "    num=int('0x'+hex_str,base=16)\n",
        "    byte_len=(len(hex_str)+1)//2\n",
        "    bit_len=byte_len*8\n",
        "    bin_str=bin(num)\n",
        "    bit_list=[int(bit) for bit in bin_str[2:]]\n",
        "    bit_list=[0]*(bit_len-len(bit_list))+bit_list\n",
        "    bit_array=np.array(bit_list,dtype='uint8')\n",
        "    return bit_array\n",
        "\n",
        "def bit_array_2_byte_str(bit_array):\n",
        "    '''Convert bit array to a bytestring'''\n",
        "    bit_list=[ str(bit) for bit in bit_array]\n",
        "    bin_str='0b'+(''.join(bit_list))\n",
        "    num=int(bin_str,base=2)\n",
        "    return num.to_bytes(len(bit_array)//8,'big')\n",
        "\n",
        "def bit_array_2_hex_str(bit_array):  \n",
        "    '''Convert a bit array to a hexstring'''\n",
        "    return bit_array_2_byte_str(bit_array).hex()\n",
        "\n",
        "def bit_array_2_str(bit_array,encoding='utf-8'):\n",
        "    '''Convert a bit array to a string'''\n",
        "    return bit_array_2_byte_str(bit_array).decode(encoding)\n",
        "\n",
        "def int2bitarray(x,bit=8):\n",
        "  return message_2_bit_array(hex(x)[2:],mode='hex')[:bit]\n",
        "\n",
        "def bitarray2int(b_arr):\n",
        "  ln=b_arr.shape[0]\n",
        "  scales=(2**np.arange(7,-1,-1))[:ln]\n",
        "  return (b_arr*scales).sum()\n",
        "\n",
        "def imgarr2bitarray(imgarr,bit=8):\n",
        "  return np.array([ int2bitarray(it,bit) for it in imgarr.reshape(-1)]).reshape(-1)\n",
        "\n",
        "def bitarray2imgarr(barrs,imgshape=(16,16),bit=2,color=1):\n",
        "  lns=len(barrs.reshape(-1))\n",
        "  #Bs=barrs.reshape(*imgshape,bit)\n",
        "  intlst=[ bitarray2int(barrs.reshape(-1)[i:i+bit]) for i in range(0,lns,bit) ]\n",
        "  intarr=np.array(intlst).reshape(*imgshape,color).astype('uint8')\n",
        "  return intarr\n",
        " \n",
        "def bitarray2imgarr_scale(barrs,imgshape=(16,16),bit=2,color=1):\n",
        "  lns=len(barrs.reshape(-1))\n",
        "  #Bs=barrs.reshape(*imgshape,bit)\n",
        "  intlst=[ bitarray2int_scale(barrs.reshape(-1)[i:i+bit]) for i in range(0,lns,bit) ]\n",
        "  intarr=np.array(intlst).reshape(*imgshape,color).astype('uint8')\n",
        "  return intarr"
      ],
      "metadata": {
        "id": "rsUqVeQXiaH4"
      },
      "execution_count": 55,
      "outputs": []
    },
    {
      "cell_type": "code",
      "source": [
        "class bitimage():\n",
        "\n",
        "  def __init__(self,imgpath,dims=(16,16),bit=5,color=1):\n",
        "    self.color=color\n",
        "    self.bit=bit\n",
        "    self.dims=list(dims)\n",
        "    self.img_og=Image.open(imgpath)\n",
        "    self.img_resize=self.img_og.resize(dims)\n",
        "    self.grey=grey_imgarr(self.img_resize)\n",
        "    self.bitarray=imgarr2bitarray(self.grey,bit)\n",
        "    self.newimg=Image.fromarray(bitarray2imgarr(self.bitarray,imgshape=dims,bit=bit,color=1))\n",
        "    self.bytestring=bit_array_2_byte_str(self.bitarray)\n",
        "\n",
        "\n"
      ],
      "metadata": {
        "id": "zaDY5mN6q_eR"
      },
      "execution_count": null,
      "outputs": []
    },
    {
      "cell_type": "code",
      "source": [
        "message_2_bit_array(b'sdjnvsdjnskjnv',mode=None)"
      ],
      "metadata": {
        "id": "zEm5E-uikh8L",
        "outputId": "b6af0b97-70e1-42b4-baea-8c9f078089ed",
        "colab": {
          "base_uri": "https://localhost:8080/"
        }
      },
      "execution_count": 27,
      "outputs": [
        {
          "output_type": "execute_result",
          "data": {
            "text/plain": [
              "array([0, 1, 1, 1, 0, 0, 1, 1, 0, 1, 1, 0, 0, 1, 0, 0, 0, 1, 1, 0, 1, 0,\n",
              "       1, 0, 0, 1, 1, 0, 1, 1, 1, 0, 0, 1, 1, 1, 0, 1, 1, 0, 0, 1, 1, 1,\n",
              "       0, 0, 1, 1, 0, 1, 1, 0, 0, 1, 0, 0, 0, 1, 1, 0, 1, 0, 1, 0, 0, 1,\n",
              "       1, 0, 1, 1, 1, 0, 0, 1, 1, 1, 0, 0, 1, 1, 0, 1, 1, 0, 1, 0, 1, 1,\n",
              "       0, 1, 1, 0, 1, 0, 1, 0, 0, 1, 1, 0, 1, 1, 1, 0, 0, 1, 1, 1, 0, 1,\n",
              "       1, 0], dtype=uint8)"
            ]
          },
          "metadata": {},
          "execution_count": 27
        }
      ]
    },
    {
      "cell_type": "code",
      "source": [
        ""
      ],
      "metadata": {
        "id": "DQet93sYlV48"
      },
      "execution_count": null,
      "outputs": []
    },
    {
      "cell_type": "markdown",
      "source": [
        "Now we need a to function that \n",
        "- takes an image and turns to a bit array\n",
        "- takes *uint8* value and turns to bit array"
      ],
      "metadata": {
        "id": "kA88bFFJl5gZ"
      }
    },
    {
      "cell_type": "code",
      "source": [
        "def bitarray2int(b_arr):\n",
        "  ln=b_arr.shape[0]\n",
        "  scales=(2**np.arange(7,-1,-1))[:ln]\n",
        "  return (b_arr*scales).sum()"
      ],
      "metadata": {
        "id": "zk1oRgPhqAmp"
      },
      "execution_count": 29,
      "outputs": []
    },
    {
      "cell_type": "code",
      "source": [
        "B=int2bitarray(255,bit=2)\n",
        "B"
      ],
      "metadata": {
        "id": "Dq5dfFgbu2Td",
        "outputId": "204a1f17-d689-4522-aed1-4cf8b760e26f",
        "colab": {
          "base_uri": "https://localhost:8080/"
        }
      },
      "execution_count": 30,
      "outputs": [
        {
          "output_type": "execute_result",
          "data": {
            "text/plain": [
              "array([1, 1], dtype=uint8)"
            ]
          },
          "metadata": {},
          "execution_count": 30
        }
      ]
    },
    {
      "cell_type": "code",
      "source": [
        "bitarray2int(B)"
      ],
      "metadata": {
        "id": "19xKv3EAujOS",
        "outputId": "aaa56b90-f336-437d-c85e-5280ac37c390",
        "colab": {
          "base_uri": "https://localhost:8080/"
        }
      },
      "execution_count": 32,
      "outputs": [
        {
          "output_type": "execute_result",
          "data": {
            "text/plain": [
              "192"
            ]
          },
          "metadata": {},
          "execution_count": 32
        }
      ]
    },
    {
      "cell_type": "code",
      "source": [
        "def bitarray2int_scale(b_arr):\n",
        "  ln=b_arr.shape[0]\n",
        "  scales=(2**np.arange(7,-1,-1))[:ln]\n",
        "  return int((b_arr*scales).sum()*255/bitarray2int(np.ones(ln,dtype='uint8')))"
      ],
      "metadata": {
        "id": "yX7QEm0ovuZc"
      },
      "execution_count": 33,
      "outputs": []
    },
    {
      "cell_type": "code",
      "source": [
        "bitarray2int_scale(B)"
      ],
      "metadata": {
        "id": "lW750XlFw6Qg",
        "outputId": "eb880cb6-dad9-4f56-e7fe-b8b8bcc0cbfd",
        "colab": {
          "base_uri": "https://localhost:8080/"
        }
      },
      "execution_count": 34,
      "outputs": [
        {
          "output_type": "execute_result",
          "data": {
            "text/plain": [
              "255"
            ]
          },
          "metadata": {},
          "execution_count": 34
        }
      ]
    },
    {
      "cell_type": "code",
      "source": [
        "bitarray2int_scale(np.array([1,1]))"
      ],
      "metadata": {
        "id": "s67MLWLLxCQl"
      },
      "execution_count": null,
      "outputs": []
    },
    {
      "cell_type": "code",
      "source": [
        "def imgarr2bitarray(imgarr,bit=8):\n",
        "  return np.array([ int2bitarray(it,bit) for it in imgarr.reshape(-1)]).reshape(-1)"
      ],
      "metadata": {
        "id": "jbDIPfeTxKAe"
      },
      "execution_count": 36,
      "outputs": []
    },
    {
      "cell_type": "code",
      "source": [
        "imgarr2bitarray(stego_array_grey,2)"
      ],
      "metadata": {
        "colab": {
          "base_uri": "https://localhost:8080/"
        },
        "id": "ihGhAj7pTa-g",
        "outputId": "2f13c458-1c1a-49df-eb22-35f29c264634"
      },
      "execution_count": 37,
      "outputs": [
        {
          "output_type": "execute_result",
          "data": {
            "text/plain": [
              "array([1, 1, 1, ..., 0, 1, 0], dtype=uint8)"
            ]
          },
          "metadata": {},
          "execution_count": 37
        }
      ]
    },
    {
      "cell_type": "code",
      "source": [
        "Image.fromarray(imgarr2bitarray(stego_array_grey,4).reshape(64,64)*255)"
      ],
      "metadata": {
        "colab": {
          "base_uri": "https://localhost:8080/",
          "height": 81
        },
        "id": "yKM48wdyTfeX",
        "outputId": "03130264-a7d0-4244-d767-b4b131420f0c"
      },
      "execution_count": 38,
      "outputs": [
        {
          "output_type": "execute_result",
          "data": {
            "text/plain": [
              "<PIL.Image.Image image mode=L size=64x64 at 0x7FC41A409A50>"
            ],
            "image/png": "[encoded data removed]"
          },
          "metadata": {},
          "execution_count": 38
        }
      ]
    },
    {
      "cell_type": "code",
      "source": [
        "g2=imgarr2bitarray(stego_array_grey,2)\n",
        "g3=imgarr2bitarray(stego_array_grey,3)\n",
        "g4=imgarr2bitarray(stego_array_grey,4)\n",
        "\n",
        "G8=[imgarr2bitarray(stego_array_grey,i+1) for i in range(8)]"
      ],
      "metadata": {
        "id": "DNde1uMtdDb2"
      },
      "execution_count": 39,
      "outputs": []
    },
    {
      "cell_type": "code",
      "source": [
        "def bitarray2imgarr(barrs,imgshape=(16,16),bit=2,color=1):\n",
        "  lns=len(barrs.reshape(-1))\n",
        "  #Bs=barrs.reshape(*imgshape,bit)\n",
        "  intlst=[ bitarray2int(barrs.reshape(-1)[i:i+bit]) for i in range(0,lns,bit) ]\n",
        "  intarr=np.array(intlst).reshape(*imgshape,color).astype('uint8')\n",
        "  return intarr\n",
        " \n",
        "def bitarray2imgarr_scale(barrs,imgshape=(16,16),bit=2,color=1):\n",
        "  lns=len(barrs.reshape(-1))\n",
        "  #Bs=barrs.reshape(*imgshape,bit)\n",
        "  intlst=[ bitarray2int_scale(barrs.reshape(-1)[i:i+bit]) for i in range(0,lns,bit) ]\n",
        "  intarr=np.array(intlst).reshape(*imgshape,color).astype('uint8')\n",
        "  return intarr"
      ],
      "metadata": {
        "id": "xY816tYbZOIk"
      },
      "execution_count": 41,
      "outputs": []
    },
    {
      "cell_type": "code",
      "source": [
        "trans=bitarray2imgarr(g3,imgshape=(32,32),bit=3,color=1)\n",
        "trans.shape"
      ],
      "metadata": {
        "colab": {
          "base_uri": "https://localhost:8080/"
        },
        "id": "XvlK0lwVgRR9",
        "outputId": "bf93f953-2f5e-4db9-e258-33a860a83dce"
      },
      "execution_count": 42,
      "outputs": [
        {
          "output_type": "execute_result",
          "data": {
            "text/plain": [
              "(32, 32, 1)"
            ]
          },
          "metadata": {},
          "execution_count": 42
        }
      ]
    },
    {
      "cell_type": "code",
      "source": [
        "Image.fromarray(trans.reshape(32,32))"
      ],
      "metadata": {
        "colab": {
          "base_uri": "https://localhost:8080/",
          "height": 49
        },
        "id": "2ELrPXV7gzlw",
        "outputId": "a9b2b8fa-539f-44d7-be38-a28f7d121bf9"
      },
      "execution_count": 43,
      "outputs": [
        {
          "output_type": "execute_result",
          "data": {
            "text/plain": [
              "<PIL.Image.Image image mode=L size=32x32 at 0x7FC41A424790>"
            ],
            "image/png": "[encoded data removed]"
          },
          "metadata": {},
          "execution_count": 43
        }
      ]
    },
    {
      "cell_type": "code",
      "source": [
        "trans_scale=bitarray2imgarr(g4,imgshape=(32,32),bit=4,color=1)\n",
        "trans_scale.shape"
      ],
      "metadata": {
        "colab": {
          "base_uri": "https://localhost:8080/"
        },
        "id": "g515veeph-T9",
        "outputId": "cdfc810f-6e67-4543-befd-0b604f19cc34"
      },
      "execution_count": 44,
      "outputs": [
        {
          "output_type": "execute_result",
          "data": {
            "text/plain": [
              "(32, 32, 1)"
            ]
          },
          "metadata": {},
          "execution_count": 44
        }
      ]
    },
    {
      "cell_type": "code",
      "source": [
        "Image.fromarray(trans_scale.reshape(32,32))"
      ],
      "metadata": {
        "colab": {
          "base_uri": "https://localhost:8080/",
          "height": 49
        },
        "id": "gs5UbMShjjBD",
        "outputId": "b3418276-a147-4599-f488-0770ea889082"
      },
      "execution_count": 45,
      "outputs": [
        {
          "output_type": "execute_result",
          "data": {
            "text/plain": [
              "<PIL.Image.Image image mode=L size=32x32 at 0x7FC41A406E90>"
            ],
            "image/png": "[encoded data removed]"
          },
          "metadata": {},
          "execution_count": 45
        }
      ]
    },
    {
      "cell_type": "code",
      "source": [
        "len(bit_array_2_byte_str(g4))"
      ],
      "metadata": {
        "id": "-nPGeawcjmTb"
      },
      "execution_count": null,
      "outputs": []
    },
    {
      "cell_type": "code",
      "source": [
        "T8=[bitarray2imgarr(g,imgshape=(32,32),bit=i+1,color=1) for i,g in enumerate(G8)]"
      ],
      "metadata": {
        "id": "fvKem93rnPlS"
      },
      "execution_count": 46,
      "outputs": []
    },
    {
      "cell_type": "code",
      "source": [
        "[display(Image.fromarray(t.reshape(32,32))) for t in T8]"
      ],
      "metadata": {
        "colab": {
          "base_uri": "https://localhost:8080/",
          "height": 291
        },
        "id": "BvbqvWpHodFu",
        "outputId": "c9c22e8f-b864-4b07-b850-f76289195880"
      },
      "execution_count": 47,
      "outputs": [
        {
          "output_type": "display_data",
          "data": {
            "text/plain": [
              "<PIL.Image.Image image mode=L size=32x32 at 0x7FC41A4160D0>"
            ],
            "image/png": "[encoded data removed]"
          },
          "metadata": {}
        },
        {
          "output_type": "display_data",
          "data": {
            "text/plain": [
              "<PIL.Image.Image image mode=L size=32x32 at 0x7FC41A416C90>"
            ],
            "image/png": "[encoded data removed]"
          },
          "metadata": {}
        },
        {
          "output_type": "display_data",
          "data": {
            "text/plain": [
              "<PIL.Image.Image image mode=L size=32x32 at 0x7FC41A4167D0>"
            ],
            "image/png": "[encoded data removed]"
          },
          "metadata": {}
        },
        {
          "output_type": "display_data",
          "data": {
            "text/plain": [
              "<PIL.Image.Image image mode=L size=32x32 at 0x7FC41A416A10>"
            ],
            "image/png": "[encoded data removed]"
          },
          "metadata": {}
        },
        {
          "output_type": "display_data",
          "data": {
            "text/plain": [
              "<PIL.Image.Image image mode=L size=32x32 at 0x7FC41A416410>"
            ],
            "image/png": "[encoded data removed]"
          },
          "metadata": {}
        },
        {
          "output_type": "display_data",
          "data": {
            "text/plain": [
              "<PIL.Image.Image image mode=L size=32x32 at 0x7FC41A416790>"
            ],
            "image/png": "[encoded data removed]"
          },
          "metadata": {}
        },
        {
          "output_type": "display_data",
          "data": {
            "text/plain": [
              "<PIL.Image.Image image mode=L size=32x32 at 0x7FC41A4160D0>"
            ],
            "image/png": "[encoded data removed]"
          },
          "metadata": {}
        },
        {
          "output_type": "display_data",
          "data": {
            "text/plain": [
              "<PIL.Image.Image image mode=L size=32x32 at 0x7FC41A416C90>"
            ],
            "image/png": "[encoded data removed]"
          },
          "metadata": {}
        },
        {
          "output_type": "execute_result",
          "data": {
            "text/plain": [
              "[None, None, None, None, None, None, None, None]"
            ]
          },
          "metadata": {},
          "execution_count": 47
        }
      ]
    },
    {
      "cell_type": "code",
      "source": [
        "640/72"
      ],
      "metadata": {
        "colab": {
          "base_uri": "https://localhost:8080/"
        },
        "id": "ourTPNUYDYuK",
        "outputId": "47052b5a-e7d9-4b9e-83bf-16614455f9fb"
      },
      "execution_count": 52,
      "outputs": [
        {
          "output_type": "execute_result",
          "data": {
            "text/plain": [
              "8.88888888888889"
            ]
          },
          "metadata": {},
          "execution_count": 52
        }
      ]
    },
    {
      "cell_type": "markdown",
      "source": [
        "To reconstitute the image from the bytestring we need to know...\n",
        "\n",
        "- color (3 channels) or grey (1 channel)\n",
        "- image height and width\n",
        "- bits per pixel"
      ],
      "metadata": {
        "id": "Zz8pvRhJEQo-"
      }
    },
    {
      "cell_type": "code",
      "source": [
        "#need is bitarray to bytestring function\n",
        "cat_bytes5bit=bit_array_2_byte_str(G8[4])\n",
        "len(cat_bytes5bit)"
      ],
      "metadata": {
        "colab": {
          "base_uri": "https://localhost:8080/"
        },
        "id": "WgucDdG8C0pf",
        "outputId": "402330e9-f14e-4a5b-c9dd-67effcfe8d9b"
      },
      "execution_count": 53,
      "outputs": [
        {
          "output_type": "execute_result",
          "data": {
            "text/plain": [
              "640"
            ]
          },
          "metadata": {},
          "execution_count": 53
        }
      ]
    },
    {
      "cell_type": "code",
      "source": [
        "len(G8[4])"
      ],
      "metadata": {
        "colab": {
          "base_uri": "https://localhost:8080/"
        },
        "id": "2Svhk_YQCsFN",
        "outputId": "ff1c8c74-435e-429e-a126-b007314a780a"
      },
      "execution_count": 49,
      "outputs": [
        {
          "output_type": "execute_result",
          "data": {
            "text/plain": [
              "5120"
            ]
          },
          "metadata": {},
          "execution_count": 49
        }
      ]
    },
    {
      "cell_type": "code",
      "source": [
        "64*4*4/80"
      ],
      "metadata": {
        "id": "Sy6NZdrUpFBx"
      },
      "execution_count": null,
      "outputs": []
    },
    {
      "cell_type": "code",
      "source": [
        "#bytes\n",
        "[ len(g)/8 for g in G8]"
      ],
      "metadata": {
        "id": "fxyeoNQU6-Od"
      },
      "execution_count": null,
      "outputs": []
    },
    {
      "cell_type": "code",
      "source": [
        "#txn\n",
        "[ len(g)/8/80 for g in G8]"
      ],
      "metadata": {
        "id": "WNexER7d8-X7"
      },
      "execution_count": null,
      "outputs": []
    },
    {
      "cell_type": "code",
      "source": [
        "#doge\n",
        "[ len(g)/8/80*2 for g in G8]"
      ],
      "metadata": {
        "id": "_iSQRGgL9DuE"
      },
      "execution_count": null,
      "outputs": []
    },
    {
      "cell_type": "code",
      "source": [
        ""
      ],
      "metadata": {
        "id": "3rv-SKod-DXx"
      },
      "execution_count": null,
      "outputs": []
    }
  ]
}