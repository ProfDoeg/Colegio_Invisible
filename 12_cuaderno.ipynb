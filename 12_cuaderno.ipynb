{
  "nbformat": 4,
  "nbformat_minor": 0,
  "metadata": {
    "colab": {
      "name": "12_cuaderno.ipynb",
      "provenance": [],
      "include_colab_link": true
    },
    "kernelspec": {
      "name": "python3",
      "display_name": "Python 3"
    },
    "language_info": {
      "name": "python"
    }
  },
  "cells": [
    {
      "cell_type": "markdown",
      "metadata": {
        "id": "view-in-github",
        "colab_type": "text"
      },
      "source": [
        "<a href=\"https://colab.research.google.com/github/ProfDoeg/Colegio_Invisible/blob/main/12_cuaderno.ipynb\" target=\"_parent\"><img src=\"https://colab.research.google.com/assets/colab-badge.svg\" alt=\"Open In Colab\"/></a>"
      ]
    },
    {
      "cell_type": "code",
      "source": [
        "#! rm Colegio_Invisible -r"
      ],
      "metadata": {
        "id": "6YV5qP8RODUW"
      },
      "execution_count": null,
      "outputs": []
    },
    {
      "cell_type": "code",
      "execution_count": 285,
      "metadata": {
        "id": "p80LxM-iMpBC",
        "colab": {
          "base_uri": "https://localhost:8080/"
        },
        "outputId": "5865e402-9320-427f-be6a-f07cea37faa1"
      },
      "outputs": [
        {
          "output_type": "stream",
          "name": "stdout",
          "text": [
            "fatal: destination path 'Colegio_Invisible' already exists and is not an empty directory.\n"
          ]
        }
      ],
      "source": [
        "! git clone https://github.com/ProfDoeg/Colegio_Invisible.git"
      ]
    },
    {
      "cell_type": "markdown",
      "source": [
        "for an image...there are pixels\n",
        "\n",
        "each pixel has 3,4 values (Red Green Blue and sometime Alpha)\n",
        "\n",
        "those numbers are...1 byte...0 to 255"
      ],
      "metadata": {
        "id": "A54RU5ZeUZZk"
      }
    },
    {
      "cell_type": "code",
      "source": [
        "from PIL import Image\n",
        "import numpy as np"
      ],
      "metadata": {
        "id": "jSzywLaHMsem"
      },
      "execution_count": 422,
      "outputs": []
    },
    {
      "cell_type": "markdown",
      "source": [
        "what can we put into blockchain...\n",
        "Op_Return\n",
        "80 bytes and we will use 64 bytes for image data\n",
        "\n",
        "each byte is made up of 8 binary values 1/0 called bits\n",
        "\n",
        "64 bytes = 64*8...512 bits\n",
        "\n",
        "We want to put image in single block\n",
        "\n",
        "PROPOSAL:\n",
        "\n",
        "16x16 image = 256 pixels\n",
        "\n",
        "only get to use 2 bits per pixel\n",
        "\n",
        "- 0,0  0 \n",
        "- 0,1  64\n",
        "- 1,0  128\n",
        "- 1,1  192\n",
        "\n",
        "1 byte [ , , , , , , , ]\n",
        "\n",
        "1 byte can tell us color of 4 pixels\n",
        "each one taking up 2 bits"
      ],
      "metadata": {
        "id": "g5RXqfJ_VK9u"
      }
    },
    {
      "cell_type": "code",
      "source": [
        "!ls Colegio_Invisible/img"
      ],
      "metadata": {
        "id": "zo2ZCW_xNzMj",
        "colab": {
          "base_uri": "https://localhost:8080/"
        },
        "outputId": "c9bdc6f8-340f-47fa-b6c0-f70946e5afe5"
      },
      "execution_count": 287,
      "outputs": [
        {
          "output_type": "stream",
          "name": "stdout",
          "text": [
            "Apollo_Slays_Python_1853.jpeg  colegio_invisible.jpeg  rum_1.jpeg\n",
            "asymmetric.png\t\t       hg_cry.jpeg\t       rum_2.jpeg\n",
            "bab_crop.jpeg\t\t       hg_drop.jpeg\t       rum_3.jpeg\n",
            "barb_1.jpeg\t\t       hg_hide.jpeg\t       rum_4.jpeg\n",
            "barb_2.jpeg\t\t       hg_house.jpeg\t       rum_5.jpeg\n",
            "barb_3.jpeg\t\t       hg_invite.jpeg\t       rum_6.jpeg\n",
            "barb_4.jpeg\t\t       hg_rough.png\t       rum_7.jpeg\n",
            "barb_5.jpeg\t\t       hg_xmas.jpeg\t       rump_final.jpeg\n",
            "barb_6.jpeg\t\t       mask.png\t\t       signature.png\n",
            "barb_7.jpeg\t\t       prv_pub_addr.png        stego.png\n",
            "cat.png\t\t\t       PubKeyToAddr.png        symmetric.png\n",
            "clavis.jpeg\t\t       rum_0.jpeg\t       zomnd.png\n"
          ]
        }
      ]
    },
    {
      "cell_type": "code",
      "source": [
        "stego_image=Image.open('Colegio_Invisible/img/cat.png')\n",
        "stego_image=stego_image.resize((32,32))\n",
        "stego_image"
      ],
      "metadata": {
        "id": "3cAzcOtCNoF-",
        "colab": {
          "base_uri": "https://localhost:8080/",
          "height": 49
        },
        "outputId": "f3c49e53-195d-444b-f685-b029f3954b28"
      },
      "execution_count": 288,
      "outputs": [
        {
          "output_type": "execute_result",
          "data": {
            "text/plain": [
              "<PIL.Image.Image image mode=RGBA size=32x32 at 0x7F496EA13E50>"
            ],
            "image/png": "[encoded data removed]"
          },
          "metadata": {},
          "execution_count": 288
        }
      ]
    },
    {
      "cell_type": "code",
      "source": [
        "type(stego_image)"
      ],
      "metadata": {
        "id": "vJ758msHNu5T",
        "colab": {
          "base_uri": "https://localhost:8080/"
        },
        "outputId": "e335eb3f-bda7-4dbd-ee4c-1d00a1e304a5"
      },
      "execution_count": 289,
      "outputs": [
        {
          "output_type": "execute_result",
          "data": {
            "text/plain": [
              "PIL.Image.Image"
            ]
          },
          "metadata": {},
          "execution_count": 289
        }
      ]
    },
    {
      "cell_type": "code",
      "source": [
        "stego_array = np.array(stego_image)\n",
        "stego_array"
      ],
      "metadata": {
        "id": "MK5bUIKbOTbj",
        "colab": {
          "base_uri": "https://localhost:8080/"
        },
        "outputId": "75fa7497-319f-4c7e-c507-1bacec9b5de7"
      },
      "execution_count": 290,
      "outputs": [
        {
          "output_type": "execute_result",
          "data": {
            "text/plain": [
              "array([[[226, 223, 218, 255],\n",
              "        [224, 220, 215, 255],\n",
              "        [221, 218, 212, 255],\n",
              "        ...,\n",
              "        [204, 198, 192, 255],\n",
              "        [201, 196, 189, 255],\n",
              "        [200, 194, 188, 255]],\n",
              "\n",
              "       [[219, 216, 210, 255],\n",
              "        [217, 214, 208, 255],\n",
              "        [214, 211, 205, 255],\n",
              "        ...,\n",
              "        [202, 197, 190, 255],\n",
              "        [200, 195, 188, 255],\n",
              "        [198, 193, 186, 255]],\n",
              "\n",
              "       [[209, 206, 199, 255],\n",
              "        [207, 204, 197, 255],\n",
              "        [205, 201, 195, 255],\n",
              "        ...,\n",
              "        [200, 194, 187, 255],\n",
              "        [199, 193, 186, 255],\n",
              "        [197, 191, 185, 255]],\n",
              "\n",
              "       ...,\n",
              "\n",
              "       [[135, 127, 120, 255],\n",
              "        [133, 125, 118, 255],\n",
              "        [130, 122, 116, 255],\n",
              "        ...,\n",
              "        [162, 154, 146, 255],\n",
              "        [162, 155, 147, 255],\n",
              "        [163, 156, 148, 255]],\n",
              "\n",
              "       [[134, 126, 120, 255],\n",
              "        [132, 124, 118, 255],\n",
              "        [129, 122, 115, 255],\n",
              "        ...,\n",
              "        [161, 153, 145, 255],\n",
              "        [162, 154, 146, 255],\n",
              "        [162, 155, 147, 255]],\n",
              "\n",
              "       [[133, 126, 119, 255],\n",
              "        [131, 124, 117, 255],\n",
              "        [129, 122, 115, 255],\n",
              "        ...,\n",
              "        [160, 152, 144, 255],\n",
              "        [161, 153, 145, 255],\n",
              "        [163, 155, 147, 255]]], dtype=uint8)"
            ]
          },
          "metadata": {},
          "execution_count": 290
        }
      ]
    },
    {
      "cell_type": "markdown",
      "source": [
        "**`uint8`** stands for unsigned 8-bit integer\n",
        "- 8 binary 1/0 values\n",
        "- that is one byte\n",
        "- a number from 0-255\n",
        "- two hex values like ff"
      ],
      "metadata": {
        "id": "5Gq3lpQ2Oh92"
      }
    },
    {
      "cell_type": "code",
      "source": [
        "2**8"
      ],
      "metadata": {
        "colab": {
          "base_uri": "https://localhost:8080/"
        },
        "id": "K1Cc4FPg7JwG",
        "outputId": "5c862bd1-2d16-466d-87f9-c5e58610150b"
      },
      "execution_count": 291,
      "outputs": [
        {
          "output_type": "execute_result",
          "data": {
            "text/plain": [
              "256"
            ]
          },
          "metadata": {},
          "execution_count": 291
        }
      ]
    },
    {
      "cell_type": "code",
      "source": [
        "stego_array.dtype"
      ],
      "metadata": {
        "id": "HnvaTb7qOcCX",
        "colab": {
          "base_uri": "https://localhost:8080/"
        },
        "outputId": "03024b95-989f-4e7d-c867-56ca9b62ded0"
      },
      "execution_count": 292,
      "outputs": [
        {
          "output_type": "execute_result",
          "data": {
            "text/plain": [
              "dtype('uint8')"
            ]
          },
          "metadata": {},
          "execution_count": 292
        }
      ]
    },
    {
      "cell_type": "code",
      "source": [
        "stego_array.shape"
      ],
      "metadata": {
        "id": "ZtupzBOJOWjT",
        "colab": {
          "base_uri": "https://localhost:8080/"
        },
        "outputId": "19c0a3a2-59c5-4bd3-f329-8ef542f4b821"
      },
      "execution_count": 293,
      "outputs": [
        {
          "output_type": "execute_result",
          "data": {
            "text/plain": [
              "(32, 32, 4)"
            ]
          },
          "metadata": {},
          "execution_count": 293
        }
      ]
    },
    {
      "cell_type": "code",
      "source": [
        "stego_array[:,:,:3]"
      ],
      "metadata": {
        "colab": {
          "base_uri": "https://localhost:8080/"
        },
        "id": "kCWICwyyYpxN",
        "outputId": "257e272f-29f0-467a-c99c-32442bf3de55"
      },
      "execution_count": 294,
      "outputs": [
        {
          "output_type": "execute_result",
          "data": {
            "text/plain": [
              "array([[[226, 223, 218],\n",
              "        [224, 220, 215],\n",
              "        [221, 218, 212],\n",
              "        ...,\n",
              "        [204, 198, 192],\n",
              "        [201, 196, 189],\n",
              "        [200, 194, 188]],\n",
              "\n",
              "       [[219, 216, 210],\n",
              "        [217, 214, 208],\n",
              "        [214, 211, 205],\n",
              "        ...,\n",
              "        [202, 197, 190],\n",
              "        [200, 195, 188],\n",
              "        [198, 193, 186]],\n",
              "\n",
              "       [[209, 206, 199],\n",
              "        [207, 204, 197],\n",
              "        [205, 201, 195],\n",
              "        ...,\n",
              "        [200, 194, 187],\n",
              "        [199, 193, 186],\n",
              "        [197, 191, 185]],\n",
              "\n",
              "       ...,\n",
              "\n",
              "       [[135, 127, 120],\n",
              "        [133, 125, 118],\n",
              "        [130, 122, 116],\n",
              "        ...,\n",
              "        [162, 154, 146],\n",
              "        [162, 155, 147],\n",
              "        [163, 156, 148]],\n",
              "\n",
              "       [[134, 126, 120],\n",
              "        [132, 124, 118],\n",
              "        [129, 122, 115],\n",
              "        ...,\n",
              "        [161, 153, 145],\n",
              "        [162, 154, 146],\n",
              "        [162, 155, 147]],\n",
              "\n",
              "       [[133, 126, 119],\n",
              "        [131, 124, 117],\n",
              "        [129, 122, 115],\n",
              "        ...,\n",
              "        [160, 152, 144],\n",
              "        [161, 153, 145],\n",
              "        [163, 155, 147]]], dtype=uint8)"
            ]
          },
          "metadata": {},
          "execution_count": 294
        }
      ]
    },
    {
      "cell_type": "code",
      "source": [
        "def grey_imgarr(imgarr):\n",
        "  return imgarr[:,:,:3].mean(axis=2).astype('uint8')"
      ],
      "metadata": {
        "id": "_etmN93CuY2-"
      },
      "execution_count": 295,
      "outputs": []
    },
    {
      "cell_type": "code",
      "source": [
        "stego_array_grey=stego_array[:,:,:3].mean(axis=2).astype('uint8')\n",
        "stego_array_grey.shape,stego_array_grey.dtype"
      ],
      "metadata": {
        "id": "kWBZaDEZOgW_",
        "colab": {
          "base_uri": "https://localhost:8080/"
        },
        "outputId": "c759a020-f92a-4331-ac4b-7f8dd5f0de91"
      },
      "execution_count": 296,
      "outputs": [
        {
          "output_type": "execute_result",
          "data": {
            "text/plain": [
              "((32, 32), dtype('uint8'))"
            ]
          },
          "metadata": {},
          "execution_count": 296
        }
      ]
    },
    {
      "cell_type": "code",
      "source": [
        "stego_array_grey"
      ],
      "metadata": {
        "id": "A0nsbRaZOnxN",
        "colab": {
          "base_uri": "https://localhost:8080/"
        },
        "outputId": "7ca91b91-892c-4c1c-a1eb-52b47003cc3c"
      },
      "execution_count": 297,
      "outputs": [
        {
          "output_type": "execute_result",
          "data": {
            "text/plain": [
              "array([[222, 219, 217, ..., 198, 195, 194],\n",
              "       [215, 213, 210, ..., 196, 194, 192],\n",
              "       [204, 202, 200, ..., 193, 192, 191],\n",
              "       ...,\n",
              "       [127, 125, 122, ..., 154, 154, 155],\n",
              "       [126, 124, 122, ..., 153, 154, 154],\n",
              "       [126, 124, 122, ..., 152, 153, 155]], dtype=uint8)"
            ]
          },
          "metadata": {},
          "execution_count": 297
        }
      ]
    },
    {
      "cell_type": "code",
      "source": [
        "stego_image_grey = Image.fromarray(stego_array_grey)\n",
        "stego_image_grey"
      ],
      "metadata": {
        "id": "IiMfNkWmOulw",
        "colab": {
          "base_uri": "https://localhost:8080/",
          "height": 49
        },
        "outputId": "7f85a93c-939c-4aa2-9a00-8c6ebbac3055"
      },
      "execution_count": 298,
      "outputs": [
        {
          "output_type": "execute_result",
          "data": {
            "text/plain": [
              "<PIL.Image.Image image mode=L size=32x32 at 0x7F496E9F4250>"
            ],
            "image/png": "[encoded data removed]"
          },
          "metadata": {},
          "execution_count": 298
        }
      ]
    },
    {
      "cell_type": "code",
      "source": [
        "def int_2_bit_array(num):\n",
        "    bin_str=bin(num)\n",
        "    bit_list=[int(bit) for bit in bin_str[2:]]\n",
        "    bit_list=[0]*(8-len(bit_list))+bit_list\n",
        "    bit_array=np.array(bit_list,dtype='uint8')\n",
        "    return bit_array"
      ],
      "metadata": {
        "id": "TsrD8_OFO1n6"
      },
      "execution_count": 299,
      "outputs": []
    },
    {
      "cell_type": "code",
      "source": [
        "int_2_bit_array(255)"
      ],
      "metadata": {
        "colab": {
          "base_uri": "https://localhost:8080/"
        },
        "id": "Fcwm8Rm187LD",
        "outputId": "b9e19176-d7c1-45bc-f7e7-7a1ab5395cb5"
      },
      "execution_count": 300,
      "outputs": [
        {
          "output_type": "execute_result",
          "data": {
            "text/plain": [
              "array([1, 1, 1, 1, 1, 1, 1, 1], dtype=uint8)"
            ]
          },
          "metadata": {},
          "execution_count": 300
        }
      ]
    },
    {
      "cell_type": "code",
      "source": [
        "int_2_bit_array(2)"
      ],
      "metadata": {
        "colab": {
          "base_uri": "https://localhost:8080/"
        },
        "id": "ZnC3XzE49YD0",
        "outputId": "adcde4dc-b2f4-4e8e-8e6b-851adeb70bab"
      },
      "execution_count": 301,
      "outputs": [
        {
          "output_type": "execute_result",
          "data": {
            "text/plain": [
              "array([0, 0, 0, 0, 0, 0, 1, 0], dtype=uint8)"
            ]
          },
          "metadata": {},
          "execution_count": 301
        }
      ]
    },
    {
      "cell_type": "code",
      "source": [
        "int_2_bit_array(64)"
      ],
      "metadata": {
        "colab": {
          "base_uri": "https://localhost:8080/"
        },
        "id": "xDfN1uS99cJN",
        "outputId": "47122b54-b930-4e9e-d5da-fac09eb14dd0"
      },
      "execution_count": 302,
      "outputs": [
        {
          "output_type": "execute_result",
          "data": {
            "text/plain": [
              "array([0, 1, 0, 0, 0, 0, 0, 0], dtype=uint8)"
            ]
          },
          "metadata": {},
          "execution_count": 302
        }
      ]
    },
    {
      "cell_type": "code",
      "source": [
        "int_2_bit_array(65)"
      ],
      "metadata": {
        "colab": {
          "base_uri": "https://localhost:8080/"
        },
        "id": "GCE5EUEZ9mWt",
        "outputId": "64793240-2d79-454b-895d-c591b78f9952"
      },
      "execution_count": 303,
      "outputs": [
        {
          "output_type": "execute_result",
          "data": {
            "text/plain": [
              "array([0, 1, 0, 0, 0, 0, 0, 1], dtype=uint8)"
            ]
          },
          "metadata": {},
          "execution_count": 303
        }
      ]
    },
    {
      "cell_type": "code",
      "source": [
        "int_2_bit_array(68)"
      ],
      "metadata": {
        "colab": {
          "base_uri": "https://localhost:8080/"
        },
        "id": "3kg214gB9uIJ",
        "outputId": "09017c0c-4c6d-4d9b-97d9-9231239e02c2"
      },
      "execution_count": 304,
      "outputs": [
        {
          "output_type": "execute_result",
          "data": {
            "text/plain": [
              "array([0, 1, 0, 0, 0, 1, 0, 0], dtype=uint8)"
            ]
          },
          "metadata": {},
          "execution_count": 304
        }
      ]
    },
    {
      "cell_type": "code",
      "source": [
        "int_2_bit_array(1)"
      ],
      "metadata": {
        "colab": {
          "base_uri": "https://localhost:8080/"
        },
        "id": "WJ3jeAqi8680",
        "outputId": "99ad16b6-8175-4cc6-bad4-f1d6c7464cd4"
      },
      "execution_count": 305,
      "outputs": [
        {
          "output_type": "execute_result",
          "data": {
            "text/plain": [
              "array([0, 0, 0, 0, 0, 0, 0, 1], dtype=uint8)"
            ]
          },
          "metadata": {},
          "execution_count": 305
        }
      ]
    },
    {
      "cell_type": "code",
      "source": [
        "int_2_bit_array(0)"
      ],
      "metadata": {
        "colab": {
          "base_uri": "https://localhost:8080/"
        },
        "id": "7gO-XCC38zfG",
        "outputId": "40f849d1-5343-404e-8a90-82b6101754c6"
      },
      "execution_count": 306,
      "outputs": [
        {
          "output_type": "execute_result",
          "data": {
            "text/plain": [
              "array([0, 0, 0, 0, 0, 0, 0, 0], dtype=uint8)"
            ]
          },
          "metadata": {},
          "execution_count": 306
        }
      ]
    },
    {
      "cell_type": "markdown",
      "source": [
        "Goal:\n",
        "\n",
        "- take image of 256 bytes and reduce each byte to 2 bit in form of 2 element array\n",
        "- turn that all into 512 bits\n",
        "- turn 512 bits into 64 bytes"
      ],
      "metadata": {
        "id": "KDXmg93RcmvX"
      }
    },
    {
      "cell_type": "markdown",
      "source": [
        "# Generalize Standard For Images (MxN)\n",
        "\n",
        "If we create a standard for the header that describes the data stored then we can choose the following paramenters:\n",
        "\n",
        "- length\n",
        "- width\n",
        "- color dim \n",
        "- color bit count\n",
        "\n",
        "In total the number of bits is the product of all the parameters\n",
        "\n",
        "## Greyscale Image \n",
        "\n",
        "## RGB Image\n",
        "\n",
        "## Two Channel Color Standard\n",
        "\n",
        "## Four Channel\n",
        "\n",
        "## General Color Dim\n",
        "\n"
      ],
      "metadata": {
        "id": "kFmxqVuDea6r"
      }
    },
    {
      "cell_type": "code",
      "source": [
        "def grey_imgarr(imgarr):\n",
        "  return imgarr[:,:,:3].mean(axis=2).astype('uint8')\n",
        "\n",
        "def message_2_bit_array(message,mode=None):\n",
        "    '''This function takes in a message as string, bytestring or hextring.\n",
        "    If hexstring input the set mode='hex' '''\n",
        "    if type(message)==bytes:\n",
        "        hex_str=message.hex()\n",
        "    elif (type(message)==str):\n",
        "        if mode not in ('hex','hexstring'):\n",
        "            hex_str=message.encode().hex()\n",
        "        else:\n",
        "            hex_str=message\n",
        "    else:\n",
        "        print('fix the input and mode')\n",
        "        return None\n",
        "    \n",
        "    num=int('0x'+hex_str,base=16)\n",
        "    byte_len=(len(hex_str)+1)//2\n",
        "    bit_len=byte_len*8\n",
        "    bin_str=bin(num)\n",
        "    bit_list=[int(bit) for bit in bin_str[2:]]\n",
        "    bit_list=[0]*(bit_len-len(bit_list))+bit_list\n",
        "    bit_array=np.array(bit_list,dtype='uint8')\n",
        "    return bit_array\n",
        "\n",
        "def bit_array_2_byte_str(bit_array):\n",
        "    '''Convert bit array to a bytestring'''\n",
        "    bit_list=[ str(bit) for bit in bit_array]\n",
        "    bin_str='0b'+(''.join(bit_list))\n",
        "    num=int(bin_str,base=2)\n",
        "    return num.to_bytes(len(bit_array)//8,'big')\n",
        "\n",
        "def bit_array_2_hex_str(bit_array):  \n",
        "    '''Convert a bit array to a hexstring'''\n",
        "    return bit_array_2_byte_str(bit_array).hex()\n",
        "\n",
        "def bit_array_2_str(bit_array,encoding='utf-8'):\n",
        "    '''Convert a bit array to a string'''\n",
        "    return bit_array_2_byte_str(bit_array).decode(encoding)\n",
        "\n",
        "def int2bitarray(x,bit=8):\n",
        "  return message_2_bit_array(hex(x)[2:],mode='hex')[:bit]\n",
        "\n",
        "def bitarray2int(b_arr):\n",
        "  ln=b_arr.shape[0]\n",
        "  scales=(2**np.arange(7,-1,-1))[:ln]\n",
        "  return (b_arr*scales).sum()\n",
        "\n",
        "def imgarr2bitarray(imgarr,bit=8):\n",
        "  return np.array([ int2bitarray(it,bit) for it in imgarr.reshape(-1)]).reshape(-1)\n",
        "\n",
        "def bitarray2imgarr(barrs,imgshape=(16,16),bit=2,color=1):\n",
        "  lns=len(barrs.reshape(-1))\n",
        "  #Bs=barrs.reshape(*imgshape,bit)\n",
        "  intlst=[ bitarray2int(barrs.reshape(-1)[i:i+bit]) for i in range(0,lns,bit) ]\n",
        "  intarr=np.array(intlst).reshape(*imgshape,color).astype('uint8')\n",
        "  return intarr\n",
        " \n",
        "def bitarray2imgarr_scale(barrs,imgshape=(16,16),bit=2,color=1):\n",
        "  lns=len(barrs.reshape(-1))\n",
        "  #Bs=barrs.reshape(*imgshape,bit)\n",
        "  intlst=[ bitarray2int_scale(barrs.reshape(-1)[i:i+bit]) for i in range(0,lns,bit) ]\n",
        "  intarr=np.array(intlst).reshape(*imgshape,color).astype('uint8')\n",
        "  return intarr"
      ],
      "metadata": {
        "id": "rsUqVeQXiaH4"
      },
      "execution_count": 308,
      "outputs": []
    },
    {
      "cell_type": "code",
      "source": [
        "class bitimage():\n",
        "\n",
        "  def __init__(self,imgpath,dims=(16,16),bit=2,color=1):\n",
        "    from PIL import Image\n",
        "    self.color=color\n",
        "    self.bit=bit\n",
        "    self.dims=list(dims)\n",
        "    self.img_og=Image.open(imgpath)\n",
        "    self.img_resize=self.img_og.resize(dims)\n",
        "    self.grey=grey_imgarr(np.array(self.img_resize))\n",
        "    self.img_grey=Image.fromarray(self.grey)\n",
        "    self.bitarray=imgarr2bitarray(self.grey,bit)\n",
        "    self.bitarray_color=imgarr2bitarray(np.array(self.img_resize)[:,:,:color],bit)\n",
        "    self.newimg=Image.fromarray(bitarray2imgarr(self.bitarray,imgshape=dims,bit=bit,color=1).squeeze())\n",
        "    self.newimg_color=Image.fromarray(bitarray2imgarr(self.bitarray_color,imgshape=dims,bit=bit,color=3).squeeze())\n",
        "    self.bytestring=bit_array_2_byte_str(self.bitarray)\n",
        "    self.bytestring_color=bit_array_2_byte_str(self.bitarray_color)\n",
        "\n",
        "\n"
      ],
      "metadata": {
        "id": "zaDY5mN6q_eR"
      },
      "execution_count": 309,
      "outputs": []
    },
    {
      "cell_type": "code",
      "source": [
        "!ls Colegio_Invisible/img"
      ],
      "metadata": {
        "colab": {
          "base_uri": "https://localhost:8080/"
        },
        "id": "BMHGoycbRTmT",
        "outputId": "fffeb70a-69c7-4bab-f8f9-8bc52caec13d"
      },
      "execution_count": 310,
      "outputs": [
        {
          "output_type": "stream",
          "name": "stdout",
          "text": [
            "Apollo_Slays_Python_1853.jpeg  colegio_invisible.jpeg  rum_1.jpeg\n",
            "asymmetric.png\t\t       hg_cry.jpeg\t       rum_2.jpeg\n",
            "bab_crop.jpeg\t\t       hg_drop.jpeg\t       rum_3.jpeg\n",
            "barb_1.jpeg\t\t       hg_hide.jpeg\t       rum_4.jpeg\n",
            "barb_2.jpeg\t\t       hg_house.jpeg\t       rum_5.jpeg\n",
            "barb_3.jpeg\t\t       hg_invite.jpeg\t       rum_6.jpeg\n",
            "barb_4.jpeg\t\t       hg_rough.png\t       rum_7.jpeg\n",
            "barb_5.jpeg\t\t       hg_xmas.jpeg\t       rump_final.jpeg\n",
            "barb_6.jpeg\t\t       mask.png\t\t       signature.png\n",
            "barb_7.jpeg\t\t       prv_pub_addr.png        stego.png\n",
            "cat.png\t\t\t       PubKeyToAddr.png        symmetric.png\n",
            "clavis.jpeg\t\t       rum_0.jpeg\t       zomnd.png\n"
          ]
        }
      ]
    },
    {
      "cell_type": "markdown",
      "source": [
        "# Transform Image and Create Byte Encoding "
      ],
      "metadata": {
        "id": "2XqOjTOpAFSm"
      }
    },
    {
      "cell_type": "code",
      "source": [
        "bimg=bitimage('Colegio_Invisible/img/cat.png',dims=(64,64),bit=5,color=3)\n",
        "display(bimg.newimg)\n",
        "display(bimg.img_grey)\n",
        "display(bimg.newimg_color)\n",
        "display(bimg.img_resize)\n",
        "len(bimg.bytestring)//80,len(bimg.bytestring_color)//80"
      ],
      "metadata": {
        "colab": {
          "base_uri": "https://localhost:8080/",
          "height": 291
        },
        "id": "JNi4bF6sH_Gd",
        "outputId": "42dea9ea-8794-4ebe-8b0d-1013fe0c39a0"
      },
      "execution_count": 311,
      "outputs": [
        {
          "output_type": "display_data",
          "data": {
            "text/plain": [
              "<PIL.Image.Image image mode=L size=64x64 at 0x7F496EA4BC10>"
            ],
            "image/png": "[encoded data removed]"
          },
          "metadata": {}
        },
        {
          "output_type": "display_data",
          "data": {
            "text/plain": [
              "<PIL.Image.Image image mode=L size=64x64 at 0x7F497A88BF50>"
            ],
            "image/png": "[encoded data removed]"
          },
          "metadata": {}
        },
        {
          "output_type": "display_data",
          "data": {
            "text/plain": [
              "<PIL.Image.Image image mode=RGB size=64x64 at 0x7F496EABD750>"
            ],
            "image/png": "[encoded data removed]"
          },
          "metadata": {}
        },
        {
          "output_type": "display_data",
          "data": {
            "text/plain": [
              "<PIL.Image.Image image mode=RGBA size=64x64 at 0x7F496EA4B7D0>"
            ],
            "image/png": "[encoded data removed]"
          },
          "metadata": {}
        },
        {
          "output_type": "execute_result",
          "data": {
            "text/plain": [
              "(32, 96)"
            ]
          },
          "metadata": {},
          "execution_count": 311
        }
      ]
    },
    {
      "cell_type": "markdown",
      "source": [
        "# Create Embedding for Blockchain"
      ],
      "metadata": {
        "id": "XUPKMXFM_-QB"
      }
    },
    {
      "cell_type": "code",
      "source": [
        "import hashlib \n",
        "\n",
        "message=bimg.bytestring\n",
        "H=hashlib.sha256(message)\n",
        "\n",
        "n=80\n",
        "chunks = [message[i:i+n] for i in range(0, len(message), n)]\n",
        "\n",
        "print(len(chunks))\n",
        "print(len(chunks[-1]))\n",
        "\n",
        "print(H.digest())"
      ],
      "metadata": {
        "colab": {
          "base_uri": "https://localhost:8080/"
        },
        "id": "clOFe3jmD8Iq",
        "outputId": "63396f9e-3d32-4199-ff6c-a65629a906d0"
      },
      "execution_count": 312,
      "outputs": [
        {
          "output_type": "stream",
          "name": "stdout",
          "text": [
            "32\n",
            "80\n",
            "b'\\xd1\\x9c\\x04\\xdab\\x05\\x01X@]\\xc1\\xc1\\xe7@\\x9d\\xd2\\xe85aAl\\xe0P\\xbf\\x91\\xeb\\xb7w\\xb3\\xa5P\\x13'\n"
          ]
        }
      ]
    },
    {
      "cell_type": "code",
      "source": [
        "header=b'\\xc1\\xdd\\x00\\x01\\x03\\xff\\x00\\x00\\x40\\x00\\x40\\x05'\n",
        "text='Sparkle🐈‍⬛MagicalCat🐈‍⬛✨💜Fovever💜✨'.encode()\n",
        "print(len(header))\n",
        "print(len(text))\n",
        "header+text"
      ],
      "metadata": {
        "id": "3rv-SKod-DXx",
        "colab": {
          "base_uri": "https://localhost:8080/"
        },
        "outputId": "6a844b2a-b3ce-46b3-9a09-964da4b7abf5"
      },
      "execution_count": 345,
      "outputs": [
        {
          "output_type": "stream",
          "name": "stdout",
          "text": [
            "12\n",
            "58\n"
          ]
        },
        {
          "output_type": "execute_result",
          "data": {
            "text/plain": [
              "b'\\xc1\\xdd\\x00\\x01\\x03\\xff\\x00\\x00@\\x00@\\x05Sparkle\\xf0\\x9f\\x90\\x88\\xe2\\x80\\x8d\\xe2\\xac\\x9bMagicalCat\\xf0\\x9f\\x90\\x88\\xe2\\x80\\x8d\\xe2\\xac\\x9b\\xe2\\x9c\\xa8\\xf0\\x9f\\x92\\x9cFovever\\xf0\\x9f\\x92\\x9c\\xe2\\x9c\\xa8'"
            ]
          },
          "metadata": {},
          "execution_count": 345
        }
      ]
    },
    {
      "cell_type": "code",
      "source": [
        "package=[header+text]+chunks\n",
        "package"
      ],
      "metadata": {
        "colab": {
          "base_uri": "https://localhost:8080/"
        },
        "id": "yXA37A0yLCJB",
        "outputId": "f1b89720-ff93-4643-e39c-d37d271ebf47"
      },
      "execution_count": 346,
      "outputs": [
        {
          "output_type": "execute_result",
          "data": {
            "text/plain": [
              "[b'\\xc1\\xdd\\x00\\x01\\x03\\xff\\x00\\x00@\\x00@\\x05Sparkle\\xf0\\x9f\\x90\\x88\\xe2\\x80\\x8d\\xe2\\xac\\x9bMagicalCat\\xf0\\x9f\\x90\\x88\\xe2\\x80\\x8d\\xe2\\xac\\x9b\\xe2\\x9c\\xa8\\xf0\\x9f\\x92\\x9cFovever\\xf0\\x9f\\x92\\x9c\\xe2\\x9c\\xa8',\n",
              " b'\\xe6\\xf7\\xbd\\xef{\\xde\\xf7\\xad\\xefZ\\xd6\\xb5\\xadkZ\\xd6\\xb5\\xadkZ\\xd6\\xb5\\xadkZ\\xd6\\xb5\\xadg9\\xd6s\\x9c\\xe79\\xce1\\x8cc\\x18\\xde\\xf7\\xbd\\xebZ\\xd6\\xb1Z\\xe3Z\\xd6\\xb5\\xadkZ\\xd6\\xb5\\xadkZ\\xd6\\xb5\\xadkZ\\xces\\x9c\\xe7Y\\xc4\\xe3,g9\\xc61\\x8cc\\x18',\n",
              " b\"\\xde\\xf5\\xadkZ\\xd6'\\x08Bw\\xd6s\\x9c\\xe79\\xces\\x9c\\xe79\\xces\\x9c\\xe79\\xces\\x9c\\xe6\\xf4\\x83Z\\xcbg8\\xc61\\x8cc\\x18\\xd6\\xb5\\xadg9\\xcd\\xe2\\xe79\\xaf\\x9es\\x9c\\xe79\\xces\\x9c\\xe79\\xces\\x9c\\xe79\\xces\\x9cI\\xccZ\\x92\\xaa\\xe7\\x18\\xc61\\x8cc\\x18\",\n",
              " b'\\xd6s\\x9c\\xe79\\xcd\\x9e\\xc6\\xb1\\xacdq\\x8cc\\x18\\xc61\\x8cc\\x19\\xces\\x9c\\xe79\\xces\\x87\\xb1kR\\x90\\x9a\\xe7\\x18\\xc61\\x8cc\\x17\\xces\\x8cc\\x18\\xc5Z\\xb6\\xb5\\x8bZ\\x9f|c\\x18\\xc61\\x8cc\\x18\\xc61\\x8cc\\x18\\xc6,\\xd5\\xa9lRP\\x9ac\\x18\\xc61\\x8b\\xde\\xf7',\n",
              " b'\\xc61\\x8b\\xde\\xf7\\xbd\\x18\\xa61IJ\\x12\\xeb^\\xf7\\xbd\\xef{\\xde\\xf7\\xbd\\xef{\\xde\\xf7\\xc5\\x98\\x951\\xadQ\\xce\\x9ac\\x18\\xc6/{\\xde\\xf7\\xbd\\xef{\\xde\\xf7\\xbc\\xd6t\\xad\\x8cJ\\x10vV\\xd6\\xb5\\xadkZ\\xd6\\xb5\\xadk\\xde\\xf7\\xaa\\xd2\\x94\\xadhAL\\x99\\xde\\xf7\\xbd\\xef{\\xde\\xf7',\n",
              " b\"\\xb5\\xadkZ\\xd6\\xb4\\xd6s\\xa9\\xacZ\\x0es2\\x95\\xadkZ\\xd6\\xd6\\xb5\\xadkZ\\xd4Y\\x90\\x94\\xa9'1\\x8e\\xaa^\\xd7\\xbd\\xef{\\xde\\xf7\\xadkZ\\xd6\\xb5\\xac\\xd6s!KZ\\x8ec\\x19\\x93\\xa5)JV\\xb5\\xadkZ\\xd6j)\\x8e\\x86,\\xe5)\\x8c\\xba\\xda\\xd6\\xb5\\xad{\\xde\\xf7\",\n",
              " b'\\xa5)JR\\x94\\xa5\\x18\\x83\\x18\\xebj\\xd4b\\x95\\x0e\\x94\\xe9:R\\x94\\xa5)JR\\x07)\\x8cu\\xb5%1\\x8e\\xebZ\\xd6\\xb5\\xadkZ\\xf7\\xa5)JR\\x93\\x9c\\xdas\\x18\\xcbs\\x10R\\x94\\xect\\xa79\\xces\\xa4\\xe7I\\xc1\\xe7!\\nS!\\x07)\\x93\\x1a\\xd6\\xb5\\xadkkZ\\xd6',\n",
              " b'\\xa5)JRs\\x9d\\x1e\\x83\\x19\\x0cY\\xcaB\\x10\\xe9te(A\\xf0\\x93\\xa1\\x08A\\xc71JR\\x18\\xe6)\\x95:\\xd6\\xb5\\xadk[Z\\xd6\\xa5)JNs\\x9d\\x1e\\xa4\\x14\\xe8)\\nr\\x98\\xc8k\\x9c\\xe75\\x8er\\xd6\\xc5\\xad\\xa8BT\\x84\\x98\\xe5!\\x9dJ\\xd6\\xb5\\xadkZ\\xda\\xd6',\n",
              " b'\\xa5)I\\xces\\x9c\\xe0\\xb4\\x14\\xa61J\\x83\\x9c\\xc9RR\\xc6\\xad\\x8dj\\xd8\\xb4\\xa5\\'9\\x8e\\x85\\x18\\xa4!\\xa1Z\\xd6\\xb5\\xadkZ\\xd6\\xb6\\xa5)I\\xces\\x9c\\xe4\\xc2\\x90\\x84A\\xce\\x83\\x9c\\xe7R\\x94\\xb5\\xb1jR\\x94\\xb5\\xadH1\\x8cc\\xa8\\xc4\"eZ\\xd2\\xb5\\xadkZ\\xd6\\xb5',\n",
              " b'\\xa5)9\\xces\\x9c\\xe6\\xd3\\x10\\x87Z\\x0ct%\\x0cj\\x96\\xb6\\xb1jJ\\xd0\\x85\\xa9lR\\x0e\\x93\\x98\\xc42\\xe9JR\\x95\\xadkZ\\xd6\\xb5\\xa4\\xe79\\xces\\x9c\\xe7\\x05 \\xa8Q\\x8e\\xa3\\xa9\\x8bJT\\xc5\\xa9\\x8aR\\x14\\xb4\\xa5\\nRV\\x95 \\xc53\\xabJR\\x94\\xa5kZ\\xd6\\xb5',\n",
              " b\"\\x9c\\xe79\\xces\\x9c\\xe76\\x18\\xc9:Nt)&9\\xd2\\xd5-KRT\\xc5\\x18\\xecRR\\xa5-'U)JR\\x94\\xa5+Z\\xd6\\xb5\\x9c\\xe79\\xces\\x9c\\xe79 \\xc7:\\xd4\\x84)(I\\x8e\\xc6\\xb5\\tK\\x16\\xd5\\x98\\xedZ\\x92\\xa6)*\\x8diJR\\x94\\xa5)Z\\xd6\\xb5\",\n",
              " b'\\x9c\\xe79\\xces\\x9c\\xe5)9iS\\x10\\xa4%kQ\\xd0\\xc65*R\\xd4\\xc5\\x9dNcV\\x84%)\\x95)JR\\x94\\xa5)Z\\xd6\\xb5\\x9c\\xe79\\xces\\x94\\xa5)J.k\\x16\\xb5\\xa9)I\\x92\\xd6-+c\\x12\\xc6!-S\\x1a\\xb4\\xa4\\xc9})JR\\x94\\xa5)J\\xd6\\xb5',\n",
              " b'\\x9c\\xe79\\xceR\\x94\\xa5)J0{V\\xb6-\\x08I\\xce\\xc5)Kk\\x16\\xa5\\x1d)JT\\xa5%\\tl\\xe9JR\\x94\\xa5)JV\\xb5\\x9c\\xe79\\xcaR\\x94\\xa5)J1\\x83V\\xd6\\x1c\\xa42\\x0e\\xa5%Jb\\xd4s\\x9c\\xa4!\\x8ad)+diJR\\x94\\xa5)JV\\xb5',\n",
              " b'\\x9c\\xe79JR\\x94\\xa5)J1\\x83V\\xa2\\x90\\xe9\\x19P\\xa5\\xa9lc\\x10T\\x1c\\xa3!\\xcaC\\xad\\x8aS\\xa7JR\\x94\\xa5)JR\\xb5\\x9c\\xe7)JR\\x94\\xa5)F1{\\x96\\xd3)\\xcc\\x19\\xce\\xc75mZ\\xced\\x11$*P\\x989F:\\xe5I\\xd2\\x94\\xa5)JR\\x95',\n",
              " b'\\x9c\\xe5)JR\\x94\\xa5)F\\x0ek\\x96\\xc4\\x9e\\rC\\x98\\x889\\xadr\\x8e\\x83\\x11\\x8ec\\x91\\x08-\\x062\\xa3I\\xce\\x94\\xa5)JR\\x94\\x9c\\xa5)JR\\x94\\xa5\\x18\\xc6\\r{\\xd2u\\x1dP\\x84\\x0ehA\\xf0{R\\xa3\\x08\\xcds \\xf5\\xa8\\xe6*#9\\xce\\x94\\xa5)JR\\x94',\n",
              " b'\\x94\\xa5)JR\\x94c\\x18\\xc5\\xeck\\xd6s\\xa5JZ\\x0e\\x97\\xc6\\x11\\x83\\x98\\xc2\\x99l|^\\xa4\\xa0\\xa5*#9\\xcet\\xa5)JR\\x94\\x94\\xa5)JQ\\x8cc\\x18\\xc1\\xcbs\\xda\\xa3\\x9d+k\\x9c\\xa5\\xc6\\x0fsT\\x9422\\x8b\\xd8\\xb4\\x98\\xa5*#9\\xces\\xa5)JR\\x94',\n",
              " b'\\x94\\xa5)F1\\x8cc\\x18\\xc1\\xc9[\\xda\\xa4\\x19)R\\x98\\xe6B\\x11\\x8b\\xd8\\x94\\xad\\xd0r\\xd6\\xa4\\x18\\xa5*#9\\xces\\x9d)JR\\x94\\x94\\xa5(\\xc61\\x8cc\\x18A\\xab[\\xdc\\xa3!(J\\x9a\\xf6B1\\x8b\\xd8\\x84\\xa5\\x8cR\\x94\\x93\\x94\\x84*\\xa59\\xces\\x9d)JR\\x94',\n",
              " b\"\\x94\\xa5\\x18\\xc61\\x8cc\\x08A\\xacR\\xd8\\xd5\\xa4\\xe8J\\xda\\xf7\\xba\\x11s\\x98t\\xa9kR\\x0e\\x83\\x90\\x84+'9\\xces\\x9c\\xe9JR\\x94\\x94\\xa3\\x18\\xc61\\x8c!\\x08A\\x89J\\xd4t\\x1d*Ka\\x081\\xefs\\x92C-iA\\xceB\\x10\\x843g9\\xces\\x9c\\xe9JR\\x94\",\n",
              " b\"\\x94c\\x18\\xc61\\x84!\\x08A\\xcbJ\\x0cb\\x9dH[\\x9e\\xf7\\xa0\\xa51B$\\xa9lI\\n2\\x10\\x83+\\xe79\\xces\\x9c\\xe9JR\\x94\\x94c\\x18\\xc61\\x84!\\x08=\\xcdbLB\\x98\\xeac\\x1a\\xf7\\xb0\\xe2\\x10F\\x85\\xa5JI\\x862\\x10\\x844'9\\xces\\x9c\\xe7JR\\x94\",\n",
              " b'\\x8cc\\x18\\xc60\\x84!\\x07\\xbd\\xcdZLB\\x94\\xecZ\\xd8\\xd6\\xb5\\xc9\\t\\x16\\xc4\\x99)9\\x88A\\x8c\\x84\"\\xa79\\xces\\x9c\\xe7JR\\x94\\x8cc\\x18\\xc6\\x10\\x84!\\x07\\xb5\\x8cQ\\xcet\\x1c\\xeaZR\\xa5\\xa1\\x08\\x12Rs\\x18\\xc6(\\xc6S\\x18\\x83\\x19[9\\xces\\x9c\\xe7JR\\x94',\n",
              " b'\\x8cc\\x18\\xc2\\x10\\x84!\\x07\\xad\\tZ\\x92\\x83\\xa1)R\\x0e\\x94\\x9c\\xa4\\x11Lc\\x18\\xc6(\\xc61\\x8cd!\\x0e\\xe9Ns\\x9c\\xe7JR\\x94\\x8cc\\x18B\\x10\\x84 \\xf7,\\xe5*\\x10s\\xa0\\xe89\\x8ab\\x8cB\\x10\\xc4!\\x94\\xa3!\\x881\\x88\\x84!\\n\\x86\\xcas\\x9c\\xe7JR\\x94',\n",
              " b'\\x8cc\\x18B\\x10\\x84\\x1e\\xf71\\x05)Jc\\x1d\\x089\\x8aR\\x14\\xa5)\\x8cR\\x10b\\x10\\xca!\\x8cc\\x19Jd:s\\x9c\\xe7JR\\x94\\x8cc\\x08B\\x10\\x84\\x1e\\xf6\\xad\\x07)\\x08B\\x98\\xc5(\\xc8C\\x1c\\xe91\\xceQ\\x84A\\x08\\x86Q\\x0cc!LS&3\\x9c\\xe7:R\\x94',\n",
              " b'\\x8cc\\x08B\\x10\\x84\\x1e\\xe6$\\xe79\\x08B\\x98\\xa5\\x19\\x0c1\\x08\\xc6!H\\x10\\x00!\\x08D2\\x88d)\\x8as\\x15\\x93\\x9c\\xe7:R\\x94\\x8ca\\x08B\\x10\\x83\\xde\\xd5\\xa5\\x061LR\\x10\\xc5\\x19\\x8aA\\x04!\\x00\\x02\\x10\\x84!\\x10\\x841\\x94d)Lc\\x11\\x12\\x9c\\xe7:R\\x94',\n",
              " b'\\x8ca\\x08B\\x10{\\xdc\\xd5%\\x06)\\xccq\\x90\\x83!\\x06A\\x08\"\\x08B\\x10\\x84A\\x10\\x841\\x90\\x83)\\x8cb\\x94\\xd0\\x9c\\xe79\\xd2\\x94\\x8c!\\x08B\\x10{\\xdc\\xc4\\xa0\\xe61\\x8aR\\x14d)\\x081\\x8c\"\\x10B \\x88c\\x18\\xc61\\x8c\\x84)\\xceb\\x11\\x10\\x9c\\xe79\\xd2\\x94',\n",
              " b'\\x8c!\\x08B\\x0f{\\xdc\\xb4\\x1c\\xe71H2\\x10\\x851L\\x82\\x94\\xa4\\x18\\x86 \\x88c\\x18\\xc82\\x14\\xc79\\xd0R\\x152\\x9c\\xe79\\xd2\\x94\\x8c!\\x08B\\x0f{\\xdc\\xb4\\x1c\\xc5)\\x88\"\\x0c\\x871V\\xc3\\x1c\\xa3\\x18\\xc8A\\x0cc \\xc8t%\\x06R\\x92\\x83\\x15R\\x9c\\xe79\\xce\\x94',\n",
              " b'\\x84!\\x08A\\xef{\\xdc\\xc4\\x9c\\xc5)J3\\x14\\x852X\\x95$\\xa5!JA\\x8cd!L\\x94\\xa1\\tcZ\\xa3\\x15s\\x9c\\xe79\\xcet\\x84!\\x08=\\xef{\\xdc\\xc5\\xa1\\x07)\\x08c\\x18\\xa5)N\\xb6 \\xc4)\\x882\\x10\\xa6)N\\x84\\xa9,SX\\xc3\\x9d\\xd3\\x9c\\xe79\\xcet',\n",
              " b'\\x84!\\x08=\\xef{\\xdc\\xd5%iI\\xcaB\\x14\\x85!\\x8ct\\x14\\xa51Jc\\x94\\xc7!\\x8a\\x85\\xb1\\x8acX\\xa4\\xaa3\\x9c\\xe79\\xcet\\x84!\\x07\\xbd\\xef{\\xde\\xc5)\\x08Q\\xces\\x14\\x85!JB\\x98\\x85)\\x8c\\x83\\x1c\\xa5)\\x90\\xa5%Kb\\xd6\\xd6\\xbes\\x9c\\xe79\\xces',\n",
              " b'\\x84!\\x07\\xbd\\xef{\\xde\\xe5\\xa1\\x08J\\x10t\\x18\\xe71LS\\x14\\xc8:\\x0es\\x14\\xa61\\xd0\\x94\\xa9\\xacJ\\x9a\\xe7\\xcas\\x9c\\xe79\\xces\\x84 \\xf7\\xbd\\xef{\\xde\\xf6)\\tJ\\x0et!HA\\xccs\\x14\\xe7A\\x8e\\x82\\x94\\xa7*\\x0e\\x84\\xa9\\x8ek\\x1c\\xe8Ns\\x9c\\xe79\\xces',\n",
              " b'\\x84\\x1e\\xf7\\xbd\\xef{\\xde\\xf7-)JP\\x94\\x9d*RPr\\xa1\\x059\\xd0B\\xa1\\x082\\x12\\x95%Jc\\x1a\\xf9Ns\\x9c\\xe79\\xces\\x84\\x1e\\xf7\\xbd\\xef{\\xde\\xf7\\xb9\\x8aZ\\x96\\xc5\\xa5H)\\x062\\x14\\xc69\\x88\\x84$\\xe7A\\xd0\\x94\\x14\\xc8RY\\t\\xces\\x9c\\xe79\\xces',\n",
              " b'\\x83\\xde\\xf7\\xbd\\xef{\\xde\\xf79\\xcdQ\\xd2\\xb6-\\x04\\x10\\x841\\x8chA\\xd0\\xa3\\xa5\\t9\\xceb\\x18\\xe6:\\x9f)\\xces\\x9c\\xe79\\xces{\\xde\\xf7\\xbd\\xef{\\xde\\xf79\\xcea\\xcac\\x9c\\xc3!Lt\\x1c\\xa3\\x19\\x8ad)\\x06)\\xcaR\\x14\\xc9\\\\%)Ns\\x9c\\xe79\\xces',\n",
              " b'{\\xde\\xf7\\xbd\\xef{\\xde\\xe79\\xcesT\\x84\\x18\\x84!\\x8e\\x94\\x18\\xc49\\xcas\\x8cC9\\x88R\\x9d,|\\xa5)Ns\\x9c\\xe79\\xces{\\xde\\xf7\\xbd\\xef{\\x9c\\xe79\\xces\\x9c\\xd6\\xb1\\x06)\\x8cB\\x8c\\x86R\\x0c1\\x0cc!\\nc\\xad\\xf1\\x94\\xa5)Js\\x9c\\xe79\\xces',\n",
              " b'{\\xde\\xf7\\xbd\\xef{\\x9c\\xe79\\xces\\x9c\\xe79\\xcdj\\x8eb\\x99\\nIFB\\x10\\xa6)\\xd4\\xd8FR\\x94\\xa5)JS\\x9c\\xe79\\xces{\\xde\\xf7\\xbd\\xefs\\x9c\\xe79\\xces\\x9c\\xe79\\xcf{\\x9a\\xb4\\xa1\\x08)Lt\\xad\\xadt#)JR\\x94\\xa5)JR\\x94\\xa79\\xces',\n",
              " b'{\\xde\\xf7\\xbd\\xefs\\x9c\\xe79\\xces\\x9c\\xe79\\xcf{\\xde\\xf7\\xb9\\xedc]\\x08\\xc61\\x8cc\\x19JR\\x94\\xa5)JR\\x94\\xa79\\xces{\\xde\\xf7\\xbd\\xefs\\x9c\\xe79\\xces\\x9c\\xe79\\xcf{\\xde\\xf7\\xc2\\x10\\x8cc\\x18\\xc61\\x8cc\\x19JR\\x94\\xa5)JR\\x94\\xa79\\xces']"
            ]
          },
          "metadata": {},
          "execution_count": 346
        }
      ]
    },
    {
      "cell_type": "code",
      "source": [
        "! pip install eciespy eth_keys cryptos qrcode base58 "
      ],
      "metadata": {
        "colab": {
          "base_uri": "https://localhost:8080/"
        },
        "id": "QZifm154JW46",
        "outputId": "e09a4078-8a8e-4105-f77e-8097c5957293"
      },
      "execution_count": 329,
      "outputs": [
        {
          "output_type": "stream",
          "name": "stdout",
          "text": [
            "Requirement already satisfied: eciespy in /usr/local/lib/python3.7/dist-packages (0.3.11)\n",
            "Requirement already satisfied: eth_keys in /usr/local/lib/python3.7/dist-packages (0.3.4)\n",
            "Requirement already satisfied: cryptos in /usr/local/lib/python3.7/dist-packages (1.36)\n",
            "Requirement already satisfied: qrcode in /usr/local/lib/python3.7/dist-packages (7.3.1)\n",
            "Requirement already satisfied: base58 in /usr/local/lib/python3.7/dist-packages (2.1.1)\n",
            "Requirement already satisfied: coincurve<16,>=13 in /usr/local/lib/python3.7/dist-packages (from eciespy) (15.0.1)\n",
            "Requirement already satisfied: pycryptodome<4.0.0,>=3.9.9 in /usr/local/lib/python3.7/dist-packages (from eciespy) (3.14.1)\n",
            "Requirement already satisfied: eth-utils<2.0.0,>=1.8.2 in /usr/local/lib/python3.7/dist-packages (from eth_keys) (1.10.0)\n",
            "Requirement already satisfied: eth-typing<3.0.0,>=2.2.1 in /usr/local/lib/python3.7/dist-packages (from eth_keys) (2.3.0)\n",
            "Requirement already satisfied: asn1crypto in /usr/local/lib/python3.7/dist-packages (from coincurve<16,>=13->eciespy) (1.5.1)\n",
            "Requirement already satisfied: cffi>=1.3.0 in /usr/local/lib/python3.7/dist-packages (from coincurve<16,>=13->eciespy) (1.15.0)\n",
            "Requirement already satisfied: pycparser in /usr/local/lib/python3.7/dist-packages (from cffi>=1.3.0->coincurve<16,>=13->eciespy) (2.21)\n",
            "Requirement already satisfied: cytoolz<1.0.0,>=0.10.1 in /usr/local/lib/python3.7/dist-packages (from eth-utils<2.0.0,>=1.8.2->eth_keys) (0.11.2)\n",
            "Requirement already satisfied: eth-hash<0.4.0,>=0.3.1 in /usr/local/lib/python3.7/dist-packages (from eth-utils<2.0.0,>=1.8.2->eth_keys) (0.3.2)\n",
            "Requirement already satisfied: toolz>=0.8.0 in /usr/local/lib/python3.7/dist-packages (from cytoolz<1.0.0,>=0.10.1->eth-utils<2.0.0,>=1.8.2->eth_keys) (0.11.2)\n"
          ]
        }
      ]
    },
    {
      "cell_type": "code",
      "source": [
        "import pandas as pd\n",
        "from cryptos.py3specials import safe_hexlify, from_string_to_bytes, from_int_to_byte, from_string_to_bytes\n",
        "from cryptos import serialize,deserialize\n",
        "\n",
        "import hashlib\n",
        "import os\n",
        "import getpass\n",
        "import ecies\n",
        "import eth_keys\n",
        "import cryptos\n",
        "import qrcode\n",
        "import base58\n",
        "from PIL import Image\n",
        "import matplotlib.pyplot as plt\n",
        "%matplotlib inline\n",
        "\n",
        "def import_privKey(privkey_filepath,password=None):\n",
        "    if password==None:\n",
        "        password = getpass.getpass(\"Input password for decrypting keyfile: \")\n",
        "    password=password.encode()\n",
        "    f=open(privkey_filepath,'rb')\n",
        "    decrypted_bytes=ecies.aes_decrypt(key=hashlib.sha256(password).digest(),cipher_text=f.read())\n",
        "    privKey=eth_keys.keys.PrivateKey(decrypted_bytes)\n",
        "    return privKey\n",
        "\n",
        "def import_pubKey(pubkey_filepath):\n",
        "    f=open(pubkey_filepath,'rb')\n",
        "    privKey=eth_keys.keys.PublicKey(f.read())\n",
        "    return privKey\n",
        "\n",
        "def import_addr(addr_filepath):\n",
        "    return open(addr_filepath,'rb').read().decode()\n",
        "\n",
        "def only_conf(utxos):\n",
        "    return [utxo for utxo in utxos\n",
        "            if doge.fetchtx(utxo['output'].split(':')[0])['confirmations']>0]\n",
        "\n",
        "def mk_opreturn(msg, rawtx=None, json=0):\n",
        "    \n",
        "    def op_push(data):\n",
        "        if type(data) == bytes:\n",
        "            bytedata=data\n",
        "        else:\n",
        "            bytedata=data.encode()\n",
        "        import struct\n",
        "        if len(data) < 0x4c:\n",
        "            return from_int_to_byte(len(bytedata)) + bytedata\n",
        "        elif len(data) < 0xff:\n",
        "            return from_int_to_byte(76) + struct.pack('<B', len(bytedata)) + bytedata\n",
        "        elif len(data) < 0xffff:\n",
        "            return from_int_to_byte(77) + struct.pack('<H', len(bytedata)) + bytedata\n",
        "        elif len(data) < 0xffffffff:\n",
        "            return from_int_to_byte(78) + struct.pack('<I', len(bytedata)) + bytedata\n",
        "        else: raise Exception(\"Input data error. Rawtx must be hex chars\" \\\n",
        "                            + \"0xffffffff > len(data) > 0\")\n",
        "\n",
        "    orhex = safe_hexlify(b'\\x6a' + op_push(msg))\n",
        "    orjson = {'script' : orhex, 'value' : 0}\n",
        "    if rawtx is not None:\n",
        "        try:\n",
        "            txo = deserialize(rawtx)\n",
        "            if not 'outs' in txo.keys(): raise Exception(\"OP_Return cannot be the sole output!\")\n",
        "            txo['outs'].append(orjson)\n",
        "            newrawtx = serialize(txo)\n",
        "            return newrawtx\n",
        "        except Exception as E:\n",
        "            print(E)\n",
        "            print(type(E))\n",
        "            raise Exception(\"Raw Tx Error!\")\n",
        "    return orhex if not json else orjson"
      ],
      "metadata": {
        "id": "grmMh1V2M9sL"
      },
      "execution_count": 330,
      "outputs": []
    },
    {
      "cell_type": "markdown",
      "source": [
        "# Load Keys and Addresses"
      ],
      "metadata": {
        "id": "gUmrbQ38-h9c"
      }
    },
    {
      "cell_type": "code",
      "source": [
        "from google.colab import drive\n",
        "drive.mount('/content/drive')"
      ],
      "metadata": {
        "colab": {
          "base_uri": "https://localhost:8080/"
        },
        "id": "qsBg50AOOqE_",
        "outputId": "c55c450d-012e-4fc8-bdfc-fa9e6a38fca6"
      },
      "execution_count": 331,
      "outputs": [
        {
          "output_type": "stream",
          "name": "stdout",
          "text": [
            "Drive already mounted at /content/drive; to attempt to forcibly remount, call drive.mount(\"/content/drive\", force_remount=True).\n"
          ]
        }
      ]
    },
    {
      "cell_type": "code",
      "source": [
        "! cp drive/MyDrive/cinv/llaves.zip llaves.zip \n",
        "! unzip llaves.zip"
      ],
      "metadata": {
        "colab": {
          "base_uri": "https://localhost:8080/"
        },
        "id": "6KAu2_OsQBf_",
        "outputId": "5406d666-3874-4c82-ee95-30f5eb579c67"
      },
      "execution_count": 332,
      "outputs": [
        {
          "output_type": "stream",
          "name": "stdout",
          "text": [
            "Archive:  llaves.zip\n",
            "replace llaves/mi_addr.bin? [y]es, [n]o, [A]ll, [N]one, [r]ename: A\n",
            " extracting: llaves/mi_addr.bin      \n",
            " extracting: llaves/mi_addr.png      \n",
            " extracting: llaves/mi_pub.bin       \n",
            " extracting: llaves/mi_prv.enc       \n"
          ]
        }
      ]
    },
    {
      "cell_type": "code",
      "source": [
        "from IPython.display import Image\n",
        "qr=Image('llaves/mi_addr.png')\n",
        "\n",
        "privKey=import_privKey('llaves/mi_prv.enc','')\n",
        "pub=import_pubKey('llaves/mi_pub.bin').to_hex()\n",
        "addr=import_addr('llaves/mi_addr.bin')\n",
        "\n",
        "display(qr)\n",
        "display(pub)\n",
        "display(addr)"
      ],
      "metadata": {
        "colab": {
          "base_uri": "https://localhost:8080/",
          "height": 218
        },
        "id": "_Zok6MGCQKnu",
        "outputId": "0cddf1cd-d49a-4e89-94b2-6e84a9aea818"
      },
      "execution_count": 334,
      "outputs": [
        {
          "output_type": "display_data",
          "data": {
            "text/plain": [
              "<IPython.core.display.Image object>"
            ],
            "image/png": "[encoded data removed]"
          },
          "metadata": {}
        },
        {
          "output_type": "display_data",
          "data": {
            "text/plain": [
              "'0x7c88e9a4df6e9f45656c10bf66f28e28be235a15b64820b254f1b9eb2738314e6769f5c94da0c7640ffe76dcffca053b07a0804cd53a1c51ad03bfe0133ce8c5'"
            ],
            "application/vnd.google.colaboratory.intrinsic+json": {
              "type": "string"
            }
          },
          "metadata": {}
        },
        {
          "output_type": "display_data",
          "data": {
            "text/plain": [
              "'D6zKNnkupqRbkB9p5rwix8QiobQWJazjyX'"
            ],
            "application/vnd.google.colaboratory.intrinsic+json": {
              "type": "string"
            }
          },
          "metadata": {}
        }
      ]
    },
    {
      "cell_type": "markdown",
      "source": [
        "# Inspect Outputs"
      ],
      "metadata": {
        "id": "-5nTrJB_-zsM"
      }
    },
    {
      "cell_type": "code",
      "source": [
        "doge=cryptos.Doge()\n",
        "#addy=doge.privtoaddr(privkeyhex)\n",
        "doge_unspents=only_conf( doge.unspent(addr) )\n",
        "doge_unspent_total=sum([unspent['value'] for unspent in doge_unspents])\n",
        "doge_unspent_total/10**8"
      ],
      "metadata": {
        "colab": {
          "base_uri": "https://localhost:8080/"
        },
        "id": "LcQ5g4f_QP67",
        "outputId": "67c87091-ad26-4d86-d0f2-f6364421bb6c"
      },
      "execution_count": 336,
      "outputs": [
        {
          "output_type": "execute_result",
          "data": {
            "text/plain": [
              "227.99999975"
            ]
          },
          "metadata": {},
          "execution_count": 336
        }
      ]
    },
    {
      "cell_type": "markdown",
      "source": [
        "# Create UTXO set for Enscription"
      ],
      "metadata": {
        "id": "Wund19uk-6kJ"
      }
    },
    {
      "cell_type": "code",
      "source": [
        "tip=12_00_000_000\n",
        "available=doge_unspent_total-tip\n",
        "n=len(package)\n",
        "gift=int(available/n)\n",
        "outputs=[{'value':gift , 'address': addr} for i in range(33)]\n",
        "setup_tx=doge.mktx(doge_unspents,outputs)"
      ],
      "metadata": {
        "id": "HHyH8E3yQ8Mg"
      },
      "execution_count": 350,
      "outputs": []
    },
    {
      "cell_type": "code",
      "source": [
        "doge.signall(setup_tx,privKey.to_hex()[2:])"
      ],
      "metadata": {
        "colab": {
          "base_uri": "https://localhost:8080/",
          "height": 124
        },
        "id": "am6AtFyBQ-uI",
        "outputId": "3d65259b-5fb0-49ff-c6a6-e19e4c0ae590"
      },
      "execution_count": 351,
      "outputs": [
        {
          "output_type": "execute_result",
          "data": {
            "text/plain": [
              "'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'"
            ],
            "application/vnd.google.colaboratory.intrinsic+json": {
              "type": "string"
            }
          },
          "metadata": {},
          "execution_count": 351
        }
      ]
    },
    {
      "cell_type": "code",
      "source": [
        "tip/(len(cryptos.serialize(setup_tx))/2)/100000"
      ],
      "metadata": {
        "colab": {
          "base_uri": "https://localhost:8080/"
        },
        "id": "JeOmghAEWoZa",
        "outputId": "c24c4717-97ab-43db-e716-45db9e529e39"
      },
      "execution_count": 352,
      "outputs": [
        {
          "output_type": "execute_result",
          "data": {
            "text/plain": [
              "1.658833287254631"
            ]
          },
          "metadata": {},
          "execution_count": 352
        }
      ]
    },
    {
      "cell_type": "code",
      "source": [
        "funding=doge.pushtx(cryptos.serialize(setup_tx))\n",
        "funding"
      ],
      "metadata": {
        "colab": {
          "base_uri": "https://localhost:8080/"
        },
        "id": "cjn_Pt28WDJx",
        "outputId": "b2a664cc-04b5-476e-f29c-e035ed2848a1"
      },
      "execution_count": 353,
      "outputs": [
        {
          "output_type": "execute_result",
          "data": {
            "text/plain": [
              "{'data': {'network': 'DOGE',\n",
              "  'txid': 'c1542c10399a09a5471799133c472a6652d5cb3b7b421e1a7e80e2039f5b393b'},\n",
              " 'status': 'success'}"
            ]
          },
          "metadata": {},
          "execution_count": 353
        }
      ]
    },
    {
      "cell_type": "code",
      "source": [
        "doge.fetchtx(funding['data']['txid'])"
      ],
      "metadata": {
        "colab": {
          "base_uri": "https://localhost:8080/"
        },
        "id": "aSKkBI_MWN-4",
        "outputId": "4185128b-e515-49ee-95a2-96da7affe300"
      },
      "execution_count": 356,
      "outputs": [
        {
          "output_type": "execute_result",
          "data": {
            "text/plain": [
              "{'blockhash': '773859d5550e8ab3a28abb1de82712577c73a467c4274b8139a770b4b139c85d',\n",
              " 'confirmations': 1,\n",
              " 'inputs': [{'address': 'D6zKNnkupqRbkB9p5rwix8QiobQWJazjyX',\n",
              "   'from_output': {'output_no': 0,\n",
              "    'txid': 'b07a93efa3e5f989c887843b840a211e7a8cabf60ff4865aef09ee3b9abd0c75'},\n",
              "   'input_no': 0,\n",
              "   'script': '304402202d845ca9e40bf1465cf3d20590e6f22e97417b3c79e984e346b2e920c5844fcf02205a993b3ba8327bf312f7b60f06984e6a1abe162c366df711693e67f46a74c4d701 047c88e9a4df6e9f45656c10bf66f28e28be235a15b64820b254f1b9eb2738314e6769f5c94da0c7640ffe76dcffca053b07a0804cd53a1c51ad03bfe0133ce8c5',\n",
              "   'sequence': 4294967295,\n",
              "   'type': 'pubkeyhash',\n",
              "   'value': '2.75757575',\n",
              "   'witness': None},\n",
              "  {'address': 'D6zKNnkupqRbkB9p5rwix8QiobQWJazjyX',\n",
              "   'from_output': {'output_no': 0,\n",
              "    'txid': '0346d46f337e5c2141e7712e27f69170a401798e1f62209c468a2937af3812fe'},\n",
              "   'input_no': 1,\n",
              "   'script': '3045022100d737588adf220f0b8f41e61d59d3105fdc8f10d9f50ec0098ce8d197c1cba0a502205ad8979c6296933f2fc08897864b8fc6589ad306f050d45ce1202a447ee7096801 047c88e9a4df6e9f45656c10bf66f28e28be235a15b64820b254f1b9eb2738314e6769f5c94da0c7640ffe76dcffca053b07a0804cd53a1c51ad03bfe0133ce8c5',\n",
              "   'sequence': 4294967295,\n",
              "   'type': 'pubkeyhash',\n",
              "   'value': '2.75757575',\n",
              "   'witness': None},\n",
              "  {'address': 'D6zKNnkupqRbkB9p5rwix8QiobQWJazjyX',\n",
              "   'from_output': {'output_no': 0,\n",
              "    'txid': '92033e53c014dcd200872bc4cbb84b1bcfeaac9277278917dc2ffe1be12b7beb'},\n",
              "   'input_no': 2,\n",
              "   'script': '3044022015b42a91ac1968c43ab05e63f3c6e08dd87ecc4e9dfacd30647c6adb3b2482f702205c53084b5810dc31288411ea686629aac7e25523baca963045edd84efda697f301 047c88e9a4df6e9f45656c10bf66f28e28be235a15b64820b254f1b9eb2738314e6769f5c94da0c7640ffe76dcffca053b07a0804cd53a1c51ad03bfe0133ce8c5',\n",
              "   'sequence': 4294967295,\n",
              "   'type': 'pubkeyhash',\n",
              "   'value': '2.75757575',\n",
              "   'witness': None},\n",
              "  {'address': 'D6zKNnkupqRbkB9p5rwix8QiobQWJazjyX',\n",
              "   'from_output': {'output_no': 0,\n",
              "    'txid': '047867263fd62516ee3e8f6c7e39d6dac0238439494ffac025e2a6ea227917de'},\n",
              "   'input_no': 3,\n",
              "   'script': '3044022025404e419992e1c120f78328419214bd46c97ea949fcd0d72f9dbf4ed7e6385b0220506e523254a02a1b9ee28eb26d291e709729d55b854a6261cfbeb1465bc145b501 047c88e9a4df6e9f45656c10bf66f28e28be235a15b64820b254f1b9eb2738314e6769f5c94da0c7640ffe76dcffca053b07a0804cd53a1c51ad03bfe0133ce8c5',\n",
              "   'sequence': 4294967295,\n",
              "   'type': 'pubkeyhash',\n",
              "   'value': '2.75757575',\n",
              "   'witness': None},\n",
              "  {'address': 'D6zKNnkupqRbkB9p5rwix8QiobQWJazjyX',\n",
              "   'from_output': {'output_no': 0,\n",
              "    'txid': 'f4f5d5d037b695ed627be22837d9490f7f1626e0e09625208e91c5bc8a8724c8'},\n",
              "   'input_no': 4,\n",
              "   'script': '3044022002003e06dd2fe957d73f4959fcbdae95b3d4f03339f1e3dfe98abccaf9ff226c0220483bd517e365bd8b330e51ac0944c03f06e30be203db28a7881064760ff6c3b801 047c88e9a4df6e9f45656c10bf66f28e28be235a15b64820b254f1b9eb2738314e6769f5c94da0c7640ffe76dcffca053b07a0804cd53a1c51ad03bfe0133ce8c5',\n",
              "   'sequence': 4294967295,\n",
              "   'type': 'pubkeyhash',\n",
              "   'value': '2.75757575',\n",
              "   'witness': None},\n",
              "  {'address': 'D6zKNnkupqRbkB9p5rwix8QiobQWJazjyX',\n",
              "   'from_output': {'output_no': 0,\n",
              "    'txid': '763f1e7c3c6860247ee8ef78bed06d05d8953baec15c10ce74f446e9eb2c36bc'},\n",
              "   'input_no': 5,\n",
              "   'script': '3044022016b1efc7dccb62107e77415601c5d76914fe09fef922a435003859a3c94c3994022047e3d66e5075a4239863a15522ae5365506425586035d1675c2c7fb1aaa9af1201 047c88e9a4df6e9f45656c10bf66f28e28be235a15b64820b254f1b9eb2738314e6769f5c94da0c7640ffe76dcffca053b07a0804cd53a1c51ad03bfe0133ce8c5',\n",
              "   'sequence': 4294967295,\n",
              "   'type': 'pubkeyhash',\n",
              "   'value': '2.75757575',\n",
              "   'witness': None},\n",
              "  {'address': 'D6zKNnkupqRbkB9p5rwix8QiobQWJazjyX',\n",
              "   'from_output': {'output_no': 0,\n",
              "    'txid': '6b8eae9a4c7ce29f6ee635f7f4e2725c083b7640069d1a1a5416265aa2152da7'},\n",
              "   'input_no': 6,\n",
              "   'script': '3045022100c89aaa5e3e76757e7df824a4f0f44006b83d601e459d70d160bca627b22d352f022044f79a2ed33dc822ff94d932d6e010eed7c25ae39782c8090e17e2ead24a19cc01 047c88e9a4df6e9f45656c10bf66f28e28be235a15b64820b254f1b9eb2738314e6769f5c94da0c7640ffe76dcffca053b07a0804cd53a1c51ad03bfe0133ce8c5',\n",
              "   'sequence': 4294967295,\n",
              "   'type': 'pubkeyhash',\n",
              "   'value': '2.75757575',\n",
              "   'witness': None},\n",
              "  {'address': 'D6zKNnkupqRbkB9p5rwix8QiobQWJazjyX',\n",
              "   'from_output': {'output_no': 0,\n",
              "    'txid': 'a64867e60201ab82b1cb91f1d5d34d18fd8c0bb5d76820c74a6ad93ab934638e'},\n",
              "   'input_no': 7,\n",
              "   'script': '30440220762a9b396440a241b830df12c5a654fdf707961a959cce26cd17d328095c95e70220452eb22d06c91a1358899b312ed11b8206028903acfb783b976388ac9c0aa1ea01 047c88e9a4df6e9f45656c10bf66f28e28be235a15b64820b254f1b9eb2738314e6769f5c94da0c7640ffe76dcffca053b07a0804cd53a1c51ad03bfe0133ce8c5',\n",
              "   'sequence': 4294967295,\n",
              "   'type': 'pubkeyhash',\n",
              "   'value': '2.75757575',\n",
              "   'witness': None},\n",
              "  {'address': 'D6zKNnkupqRbkB9p5rwix8QiobQWJazjyX',\n",
              "   'from_output': {'output_no': 0,\n",
              "    'txid': 'b4cab2d7bec061cc590cf6cb076856ad4d6a42ff407c76e0d9bbc46359ed3a8a'},\n",
              "   'input_no': 8,\n",
              "   'script': '304502210082643103d3bad869054ede78f7ca0751bb5620f5392f01e5fcff4b86be2d6a710220234a70fac8abb46abee17425a73b36bbf2deacba4649f0e234c52627fe2426b101 047c88e9a4df6e9f45656c10bf66f28e28be235a15b64820b254f1b9eb2738314e6769f5c94da0c7640ffe76dcffca053b07a0804cd53a1c51ad03bfe0133ce8c5',\n",
              "   'sequence': 4294967295,\n",
              "   'type': 'pubkeyhash',\n",
              "   'value': '2.75757575',\n",
              "   'witness': None},\n",
              "  {'address': 'D6zKNnkupqRbkB9p5rwix8QiobQWJazjyX',\n",
              "   'from_output': {'output_no': 0,\n",
              "    'txid': '177f4b36a4c7e3395be50450989d31e2e2168a346c0b4073896797a256260a77'},\n",
              "   'input_no': 9,\n",
              "   'script': '30440220635aab9dc7107a51fac966ed9d828b6d7f318af52b225f972e75010fe63badf402203cce968e6f3843db6478d01fd9826eb158ee51956ad418b634aebb2195feb75801 047c88e9a4df6e9f45656c10bf66f28e28be235a15b64820b254f1b9eb2738314e6769f5c94da0c7640ffe76dcffca053b07a0804cd53a1c51ad03bfe0133ce8c5',\n",
              "   'sequence': 4294967295,\n",
              "   'type': 'pubkeyhash',\n",
              "   'value': '2.75757575',\n",
              "   'witness': None},\n",
              "  {'address': 'D6zKNnkupqRbkB9p5rwix8QiobQWJazjyX',\n",
              "   'from_output': {'output_no': 0,\n",
              "    'txid': '38848bcdfa5c5ddfedc3a67df197379da534dc822da287d61bba1efd9c7dbb6e'},\n",
              "   'input_no': 10,\n",
              "   'script': '3045022100b1cca69ca286ef2d8c40b2501683fa992db1b7d47e16fad45fe4212645156e6b022069de9efad6e7713253d0570a3500b765185b94f1ec5f8d67d21ca1b3bf7cebbb01 047c88e9a4df6e9f45656c10bf66f28e28be235a15b64820b254f1b9eb2738314e6769f5c94da0c7640ffe76dcffca053b07a0804cd53a1c51ad03bfe0133ce8c5',\n",
              "   'sequence': 4294967295,\n",
              "   'type': 'pubkeyhash',\n",
              "   'value': '2.75757575',\n",
              "   'witness': None},\n",
              "  {'address': 'D6zKNnkupqRbkB9p5rwix8QiobQWJazjyX',\n",
              "   'from_output': {'output_no': 0,\n",
              "    'txid': '2ded209e42da4336ec43c4e9379b4b6d746b2247de6dc18dcdc2c38e3a20286d'},\n",
              "   'input_no': 11,\n",
              "   'script': '3045022100820d787fa48eec43a0d89589634f0ef65ee30a5c1a779edd69b916c9c6f477c602205c375cad8f2159809131034fffa3cde49d96acd1b59511d5fed4a2433978c38301 047c88e9a4df6e9f45656c10bf66f28e28be235a15b64820b254f1b9eb2738314e6769f5c94da0c7640ffe76dcffca053b07a0804cd53a1c51ad03bfe0133ce8c5',\n",
              "   'sequence': 4294967295,\n",
              "   'type': 'pubkeyhash',\n",
              "   'value': '2.75757575',\n",
              "   'witness': None},\n",
              "  {'address': 'D6zKNnkupqRbkB9p5rwix8QiobQWJazjyX',\n",
              "   'from_output': {'output_no': 0,\n",
              "    'txid': 'eb76cd0317a4914544a4f62ecd8d99341b43dd58183516639b9a991ae12e825f'},\n",
              "   'input_no': 12,\n",
              "   'script': '3044022078cef094fb3e3a5a74a371d74279c05afd7263d1e001ca5f80b6141c67e488290220670001d47ffa86ed30b4b654d523c12ac76a7d5e61ac2a3c43381bc6185d164501 047c88e9a4df6e9f45656c10bf66f28e28be235a15b64820b254f1b9eb2738314e6769f5c94da0c7640ffe76dcffca053b07a0804cd53a1c51ad03bfe0133ce8c5',\n",
              "   'sequence': 4294967295,\n",
              "   'type': 'pubkeyhash',\n",
              "   'value': '2.75757575',\n",
              "   'witness': None},\n",
              "  {'address': 'D6zKNnkupqRbkB9p5rwix8QiobQWJazjyX',\n",
              "   'from_output': {'output_no': 0,\n",
              "    'txid': 'cfe4304471cacadcd3418b0c05bffa41c75f3887d3b2968cce6f41788d7eab56'},\n",
              "   'input_no': 13,\n",
              "   'script': '304402202d5b720349204ac81e34823cba4241ae79b0dc24e9e98e507332228d2124760502202f070b2ca8f981c43704fe7860459cd7cb1d7513ba7ff4233f773cfdd47297bf01 047c88e9a4df6e9f45656c10bf66f28e28be235a15b64820b254f1b9eb2738314e6769f5c94da0c7640ffe76dcffca053b07a0804cd53a1c51ad03bfe0133ce8c5',\n",
              "   'sequence': 4294967295,\n",
              "   'type': 'pubkeyhash',\n",
              "   'value': '2.75757575',\n",
              "   'witness': None},\n",
              "  {'address': 'D6zKNnkupqRbkB9p5rwix8QiobQWJazjyX',\n",
              "   'from_output': {'output_no': 0,\n",
              "    'txid': 'b593a9ee54598abcb2c6147041669b8c8f61f8d166cd4c5e407648ff5ed3164c'},\n",
              "   'input_no': 14,\n",
              "   'script': '3045022100f060320e657f41e6348bccf069c10e3269a8d74ea064504be209dc25bf80417e0220777f5e95d67b16e5441ea99aebaccd0e82ff3579c98fd5c720686deed337355401 047c88e9a4df6e9f45656c10bf66f28e28be235a15b64820b254f1b9eb2738314e6769f5c94da0c7640ffe76dcffca053b07a0804cd53a1c51ad03bfe0133ce8c5',\n",
              "   'sequence': 4294967295,\n",
              "   'type': 'pubkeyhash',\n",
              "   'value': '2.75757575',\n",
              "   'witness': None},\n",
              "  {'address': 'D6zKNnkupqRbkB9p5rwix8QiobQWJazjyX',\n",
              "   'from_output': {'output_no': 0,\n",
              "    'txid': '9ce3372684feef120c1bd9e1c76901542446b8a2babcd859d7ce1acfa1271226'},\n",
              "   'input_no': 15,\n",
              "   'script': '304402205af12cf84ca8cf0bf82958a4b9b0f06e83860ef585ae80e60ce2ebe7b92781a30220532ef10956eb4953b5fc6c46353a8bc71a1d843656c9b07e1dcaff0209e8ee3f01 047c88e9a4df6e9f45656c10bf66f28e28be235a15b64820b254f1b9eb2738314e6769f5c94da0c7640ffe76dcffca053b07a0804cd53a1c51ad03bfe0133ce8c5',\n",
              "   'sequence': 4294967295,\n",
              "   'type': 'pubkeyhash',\n",
              "   'value': '2.75757575',\n",
              "   'witness': None},\n",
              "  {'address': 'D6zKNnkupqRbkB9p5rwix8QiobQWJazjyX',\n",
              "   'from_output': {'output_no': 0,\n",
              "    'txid': '42ce12488613e1cd0ba5c413c8ab4b90ab4dc2488e86220b11c55d630792c422'},\n",
              "   'input_no': 16,\n",
              "   'script': '3045022100e890c25b3af478652b5d17995099a9fa6a022cf61344a3aab06e47df53b3e0f602205494d080e343aada6e71c22239b4d3af67ec7b85e508aae453ffe74a5937745101 047c88e9a4df6e9f45656c10bf66f28e28be235a15b64820b254f1b9eb2738314e6769f5c94da0c7640ffe76dcffca053b07a0804cd53a1c51ad03bfe0133ce8c5',\n",
              "   'sequence': 4294967295,\n",
              "   'type': 'pubkeyhash',\n",
              "   'value': '2.75757575',\n",
              "   'witness': None},\n",
              "  {'address': 'D6zKNnkupqRbkB9p5rwix8QiobQWJazjyX',\n",
              "   'from_output': {'output_no': 0,\n",
              "    'txid': 'a84c290a6cbb01c5e7d33cc53ce1e67781f378561fb7b7685ffb08650d0ef11c'},\n",
              "   'input_no': 17,\n",
              "   'script': '304402207108801531e739e7c2b9e57dd2b46cd66d4a380275322d4dd15bd0adb2bf60fd02205c044675a2fe328bb204034f07e68e7847f8e5fbbcc9ac9b302ea76a238afeeb01 047c88e9a4df6e9f45656c10bf66f28e28be235a15b64820b254f1b9eb2738314e6769f5c94da0c7640ffe76dcffca053b07a0804cd53a1c51ad03bfe0133ce8c5',\n",
              "   'sequence': 4294967295,\n",
              "   'type': 'pubkeyhash',\n",
              "   'value': '2.75757575',\n",
              "   'witness': None},\n",
              "  {'address': 'D6zKNnkupqRbkB9p5rwix8QiobQWJazjyX',\n",
              "   'from_output': {'output_no': 0,\n",
              "    'txid': '472d6e24d271af84e50210472aa60bbfbe04a73eb0716f16bf8b4dab561f01f5'},\n",
              "   'input_no': 18,\n",
              "   'script': '3045022100ce23753d832cf53b746378493bb2679e075697c9eec210082ff1591bebf0938a022023fa9cca3cb95bdde8166925bd16a70d9f78c37bd12e6bd18c1ed3fbe62cdbf001 047c88e9a4df6e9f45656c10bf66f28e28be235a15b64820b254f1b9eb2738314e6769f5c94da0c7640ffe76dcffca053b07a0804cd53a1c51ad03bfe0133ce8c5',\n",
              "   'sequence': 4294967295,\n",
              "   'type': 'pubkeyhash',\n",
              "   'value': '2.75757575',\n",
              "   'witness': None},\n",
              "  {'address': 'D6zKNnkupqRbkB9p5rwix8QiobQWJazjyX',\n",
              "   'from_output': {'output_no': 0,\n",
              "    'txid': 'c64dc9e39a71bd18ea3d1f633fbe8af32b5b73690c776ca9edb1f63afd1e0dda'},\n",
              "   'input_no': 19,\n",
              "   'script': '3045022100a1fdd894bd3b2e60b4618a01d7221eaa290b1f8f32fca40dca675e97bc50857a022055959cd14d669cac18c2e80aa44bc6274abd790c70f71e8dfbbd33e8358bc62f01 047c88e9a4df6e9f45656c10bf66f28e28be235a15b64820b254f1b9eb2738314e6769f5c94da0c7640ffe76dcffca053b07a0804cd53a1c51ad03bfe0133ce8c5',\n",
              "   'sequence': 4294967295,\n",
              "   'type': 'pubkeyhash',\n",
              "   'value': '2.75757575',\n",
              "   'witness': None},\n",
              "  {'address': 'D6zKNnkupqRbkB9p5rwix8QiobQWJazjyX',\n",
              "   'from_output': {'output_no': 0,\n",
              "    'txid': 'cb7b635d35b4abbc9f9c559df94a47bed77d6fcc821fd9e0166fce6ef0795ece'},\n",
              "   'input_no': 20,\n",
              "   'script': '304402205b3940268ee75d846c4c1ce948b34ee5f1ac48f3bbaae7a54b51d1074c9ce16402201db4712daba6db485a310135d2cad9280b8fd9571e6eb6ee2784cd6a732e5ed101 047c88e9a4df6e9f45656c10bf66f28e28be235a15b64820b254f1b9eb2738314e6769f5c94da0c7640ffe76dcffca053b07a0804cd53a1c51ad03bfe0133ce8c5',\n",
              "   'sequence': 4294967295,\n",
              "   'type': 'pubkeyhash',\n",
              "   'value': '2.75757575',\n",
              "   'witness': None},\n",
              "  {'address': 'D6zKNnkupqRbkB9p5rwix8QiobQWJazjyX',\n",
              "   'from_output': {'output_no': 0,\n",
              "    'txid': 'a0dca63e61ad0dd441ec23623bf78f42d725ad82a6d204a12347e5c069f2d41b'},\n",
              "   'input_no': 21,\n",
              "   'script': '3045022100e7d10fadff68ca3aabaf868758900c195f2887c66c8ece1a0f01423a2a3f40bf022045d8f1a19e3dd264c1da68af076dcdccf3249f986e4829df233de8976ceb0a6801 047c88e9a4df6e9f45656c10bf66f28e28be235a15b64820b254f1b9eb2738314e6769f5c94da0c7640ffe76dcffca053b07a0804cd53a1c51ad03bfe0133ce8c5',\n",
              "   'sequence': 4294967295,\n",
              "   'type': 'pubkeyhash',\n",
              "   'value': '2.75757575',\n",
              "   'witness': None},\n",
              "  {'address': 'D6zKNnkupqRbkB9p5rwix8QiobQWJazjyX',\n",
              "   'from_output': {'output_no': 0,\n",
              "    'txid': 'ae0ffd681911b40966717548fc9c0b36ca2769c04ec24b0de581a28948aebb1c'},\n",
              "   'input_no': 22,\n",
              "   'script': '3044022100b2897ac232ea70dfae6b7961f2766bd1c5f0ea13225a18474a1aa08a1ddd2c94021f2fbc612c2ad261018751d813b8ccd71562f3a642300612333a73b8be396b3a01 047c88e9a4df6e9f45656c10bf66f28e28be235a15b64820b254f1b9eb2738314e6769f5c94da0c7640ffe76dcffca053b07a0804cd53a1c51ad03bfe0133ce8c5',\n",
              "   'sequence': 4294967295,\n",
              "   'type': 'pubkeyhash',\n",
              "   'value': '2.75757575',\n",
              "   'witness': None},\n",
              "  {'address': 'D6zKNnkupqRbkB9p5rwix8QiobQWJazjyX',\n",
              "   'from_output': {'output_no': 0,\n",
              "    'txid': '8e360fe128d1260a67d2583ccc487114eff4390de65fb8481e777eac4602f61c'},\n",
              "   'input_no': 23,\n",
              "   'script': '304502210095be3c3ea6c8beca75b9aab6de105ee94ee6f3ace88124dbaf0a91f30ba48ee4022052633f7119bfb13570e33c8868f2e581df5ea18a18be0e2307d476a31417104c01 047c88e9a4df6e9f45656c10bf66f28e28be235a15b64820b254f1b9eb2738314e6769f5c94da0c7640ffe76dcffca053b07a0804cd53a1c51ad03bfe0133ce8c5',\n",
              "   'sequence': 4294967295,\n",
              "   'type': 'pubkeyhash',\n",
              "   'value': '2.75757575',\n",
              "   'witness': None},\n",
              "  {'address': 'D6zKNnkupqRbkB9p5rwix8QiobQWJazjyX',\n",
              "   'from_output': {'output_no': 0,\n",
              "    'txid': 'a57a7839b8f0f6d49c538962767c5cb5588b555f47de34cfd4bb7c0a17089730'},\n",
              "   'input_no': 24,\n",
              "   'script': '30440220033f333585eaec511ff711f9eba57972bcdb96789296de1b6ab610b409806fca0220177d3cd2266ff8f4f527989296ccde92b192664fe30ade0443c5df89e9252bd101 047c88e9a4df6e9f45656c10bf66f28e28be235a15b64820b254f1b9eb2738314e6769f5c94da0c7640ffe76dcffca053b07a0804cd53a1c51ad03bfe0133ce8c5',\n",
              "   'sequence': 4294967295,\n",
              "   'type': 'pubkeyhash',\n",
              "   'value': '2.75757575',\n",
              "   'witness': None},\n",
              "  {'address': 'D6zKNnkupqRbkB9p5rwix8QiobQWJazjyX',\n",
              "   'from_output': {'output_no': 0,\n",
              "    'txid': '942593e0aa3ec2d08e7451e54f68817d9296ffe98f9280b0dabcb22124c7a931'},\n",
              "   'input_no': 25,\n",
              "   'script': '304502210096ee621cd14a316f9d35e5d64f2d48a1e2c3863d27987460fc34e62399c0263902201e1a20168641d5dfd8ac118f817f28992984987d6e9b6fd34e09c5357b72836101 047c88e9a4df6e9f45656c10bf66f28e28be235a15b64820b254f1b9eb2738314e6769f5c94da0c7640ffe76dcffca053b07a0804cd53a1c51ad03bfe0133ce8c5',\n",
              "   'sequence': 4294967295,\n",
              "   'type': 'pubkeyhash',\n",
              "   'value': '2.75757575',\n",
              "   'witness': None},\n",
              "  {'address': 'D6zKNnkupqRbkB9p5rwix8QiobQWJazjyX',\n",
              "   'from_output': {'output_no': 0,\n",
              "    'txid': '4f6e6fc1820dabe640b3bb49017c78a11a2f79af29c7b230782e6c5d9cc15e36'},\n",
              "   'input_no': 26,\n",
              "   'script': '3044022100a16b48b2c9e0742ffc516f7dba2fcd672124fedcf2ee0677afde4fbd33b22a60021f31918befd51eeba3255ece4cd93abf6cfe2d9ba123517654856f8c8ea4305001 047c88e9a4df6e9f45656c10bf66f28e28be235a15b64820b254f1b9eb2738314e6769f5c94da0c7640ffe76dcffca053b07a0804cd53a1c51ad03bfe0133ce8c5',\n",
              "   'sequence': 4294967295,\n",
              "   'type': 'pubkeyhash',\n",
              "   'value': '2.75757575',\n",
              "   'witness': None},\n",
              "  {'address': 'D6zKNnkupqRbkB9p5rwix8QiobQWJazjyX',\n",
              "   'from_output': {'output_no': 0,\n",
              "    'txid': '78c0c38ca6fc753a3b57983d02485804f17c38805370591807c60fd367070f3a'},\n",
              "   'input_no': 27,\n",
              "   'script': '304402201c78b25c0d944946e4e0577872a56875b312084b22dc5c1648915a6852e3567d022069f645c46dfd9364d310fc86b90f847e129d0e36bcf3b917deefb816aeebdc9001 047c88e9a4df6e9f45656c10bf66f28e28be235a15b64820b254f1b9eb2738314e6769f5c94da0c7640ffe76dcffca053b07a0804cd53a1c51ad03bfe0133ce8c5',\n",
              "   'sequence': 4294967295,\n",
              "   'type': 'pubkeyhash',\n",
              "   'value': '2.75757575',\n",
              "   'witness': None},\n",
              "  {'address': 'D6zKNnkupqRbkB9p5rwix8QiobQWJazjyX',\n",
              "   'from_output': {'output_no': 0,\n",
              "    'txid': '83d3478f25d93d1370621371bd92f2e96e9afb03abd3a00b4498ecd7c044e257'},\n",
              "   'input_no': 28,\n",
              "   'script': '3044022054ff7897ec4e5ec4f5e5a02ce62849cc139e179740c929ce46c5f919489566da0220076f144592acd3fcd3f2d811e0b4bf30a3c172ae674a70d751dcb594aad42b6d01 047c88e9a4df6e9f45656c10bf66f28e28be235a15b64820b254f1b9eb2738314e6769f5c94da0c7640ffe76dcffca053b07a0804cd53a1c51ad03bfe0133ce8c5',\n",
              "   'sequence': 4294967295,\n",
              "   'type': 'pubkeyhash',\n",
              "   'value': '2.75757575',\n",
              "   'witness': None},\n",
              "  {'address': 'D6zKNnkupqRbkB9p5rwix8QiobQWJazjyX',\n",
              "   'from_output': {'output_no': 0,\n",
              "    'txid': '8a9b08e092ecb3f9897aeb9434d97df184413579253b0d45d071f1ac4af4c15b'},\n",
              "   'input_no': 29,\n",
              "   'script': '3045022100b767966222bb53c468fbe29004451df5a7932086354e87d1b990abda89b1752c02204858a0cc0a7ec6a4929afd0dbacaa589c14ecf8de27482d439da5df3dd62892a01 047c88e9a4df6e9f45656c10bf66f28e28be235a15b64820b254f1b9eb2738314e6769f5c94da0c7640ffe76dcffca053b07a0804cd53a1c51ad03bfe0133ce8c5',\n",
              "   'sequence': 4294967295,\n",
              "   'type': 'pubkeyhash',\n",
              "   'value': '2.75757575',\n",
              "   'witness': None},\n",
              "  {'address': 'D6zKNnkupqRbkB9p5rwix8QiobQWJazjyX',\n",
              "   'from_output': {'output_no': 0,\n",
              "    'txid': '0a9a3f99540c34113a8ef23be87585a21d154239aeaf8eeafc74a7fb6f86098f'},\n",
              "   'input_no': 30,\n",
              "   'script': '3045022100e2fb2538c010fe5d11359af388e8cf4bdf19df86c59d3de7f6b7374f542bcf5302203a112f1b1c5fd7451e0588df87a52c2c9562929d2763fe1a6de7b98b75ced0c301 047c88e9a4df6e9f45656c10bf66f28e28be235a15b64820b254f1b9eb2738314e6769f5c94da0c7640ffe76dcffca053b07a0804cd53a1c51ad03bfe0133ce8c5',\n",
              "   'sequence': 4294967295,\n",
              "   'type': 'pubkeyhash',\n",
              "   'value': '2.75757575',\n",
              "   'witness': None},\n",
              "  {'address': 'D6zKNnkupqRbkB9p5rwix8QiobQWJazjyX',\n",
              "   'from_output': {'output_no': 0,\n",
              "    'txid': '1d827b2c73a9d4652b8446024a41dbec5d19d839613b8666ae76a9041c29688f'},\n",
              "   'input_no': 31,\n",
              "   'script': '3045022100b5bb1e1d87e8b518296f2853fbfb11df59f511ba45191a088468d00f1fc67dab02204d3179ac4777c3192d77b3d7b7920f637895b35d17516314c1f7da28351fd55b01 047c88e9a4df6e9f45656c10bf66f28e28be235a15b64820b254f1b9eb2738314e6769f5c94da0c7640ffe76dcffca053b07a0804cd53a1c51ad03bfe0133ce8c5',\n",
              "   'sequence': 4294967295,\n",
              "   'type': 'pubkeyhash',\n",
              "   'value': '2.75757575',\n",
              "   'witness': None},\n",
              "  {'address': 'D6zKNnkupqRbkB9p5rwix8QiobQWJazjyX',\n",
              "   'from_output': {'output_no': 0,\n",
              "    'txid': '79030102596081132686854d39a6cb5cecd073e6c3e119897e2f21f6b61a4ec1'},\n",
              "   'input_no': 32,\n",
              "   'script': '3045022100dd1bceab785429cf072b904aaf033a0e202db0cd32be2384468ff8e83a682dad02206687efb522714109984010ce16908aa710ea5fc665f842c266db8a498e19213601 047c88e9a4df6e9f45656c10bf66f28e28be235a15b64820b254f1b9eb2738314e6769f5c94da0c7640ffe76dcffca053b07a0804cd53a1c51ad03bfe0133ce8c5',\n",
              "   'sequence': 4294967295,\n",
              "   'type': 'pubkeyhash',\n",
              "   'value': '2.75757575',\n",
              "   'witness': None},\n",
              "  {'address': 'D6zKNnkupqRbkB9p5rwix8QiobQWJazjyX',\n",
              "   'from_output': {'output_no': 0,\n",
              "    'txid': '67da5cd4951b5548e6a5063359460da6a421429b4d2d4ca23515288feb11a15f'},\n",
              "   'input_no': 33,\n",
              "   'script': '3044022078d7d6041c633d1b07c0a1b8c38efd9462b3a4e25f2cee24c2077d83db8cb3b602201d83d4f17affe7bbcc478edcd779280d6355544f650d7f58655683d3847f454d01 047c88e9a4df6e9f45656c10bf66f28e28be235a15b64820b254f1b9eb2738314e6769f5c94da0c7640ffe76dcffca053b07a0804cd53a1c51ad03bfe0133ce8c5',\n",
              "   'sequence': 4294967295,\n",
              "   'type': 'pubkeyhash',\n",
              "   'value': '137.00000000',\n",
              "   'witness': None}],\n",
              " 'locktime': 0,\n",
              " 'network': 'DOGE',\n",
              " 'network_fee': '12.00000026',\n",
              " 'outputs': [{'address': 'D6zKNnkupqRbkB9p5rwix8QiobQWJazjyX',\n",
              "   'output_no': 0,\n",
              "   'script': 'OP_DUP OP_HASH160 144739367df0ff8d1c61d03704298d49cf93ef3f OP_EQUALVERIFY OP_CHECKSIG',\n",
              "   'type': 'pubkeyhash',\n",
              "   'value': '6.54545453'},\n",
              "  {'address': 'D6zKNnkupqRbkB9p5rwix8QiobQWJazjyX',\n",
              "   'output_no': 1,\n",
              "   'script': 'OP_DUP OP_HASH160 144739367df0ff8d1c61d03704298d49cf93ef3f OP_EQUALVERIFY OP_CHECKSIG',\n",
              "   'type': 'pubkeyhash',\n",
              "   'value': '6.54545453'},\n",
              "  {'address': 'D6zKNnkupqRbkB9p5rwix8QiobQWJazjyX',\n",
              "   'output_no': 2,\n",
              "   'script': 'OP_DUP OP_HASH160 144739367df0ff8d1c61d03704298d49cf93ef3f OP_EQUALVERIFY OP_CHECKSIG',\n",
              "   'type': 'pubkeyhash',\n",
              "   'value': '6.54545453'},\n",
              "  {'address': 'D6zKNnkupqRbkB9p5rwix8QiobQWJazjyX',\n",
              "   'output_no': 3,\n",
              "   'script': 'OP_DUP OP_HASH160 144739367df0ff8d1c61d03704298d49cf93ef3f OP_EQUALVERIFY OP_CHECKSIG',\n",
              "   'type': 'pubkeyhash',\n",
              "   'value': '6.54545453'},\n",
              "  {'address': 'D6zKNnkupqRbkB9p5rwix8QiobQWJazjyX',\n",
              "   'output_no': 4,\n",
              "   'script': 'OP_DUP OP_HASH160 144739367df0ff8d1c61d03704298d49cf93ef3f OP_EQUALVERIFY OP_CHECKSIG',\n",
              "   'type': 'pubkeyhash',\n",
              "   'value': '6.54545453'},\n",
              "  {'address': 'D6zKNnkupqRbkB9p5rwix8QiobQWJazjyX',\n",
              "   'output_no': 5,\n",
              "   'script': 'OP_DUP OP_HASH160 144739367df0ff8d1c61d03704298d49cf93ef3f OP_EQUALVERIFY OP_CHECKSIG',\n",
              "   'type': 'pubkeyhash',\n",
              "   'value': '6.54545453'},\n",
              "  {'address': 'D6zKNnkupqRbkB9p5rwix8QiobQWJazjyX',\n",
              "   'output_no': 6,\n",
              "   'script': 'OP_DUP OP_HASH160 144739367df0ff8d1c61d03704298d49cf93ef3f OP_EQUALVERIFY OP_CHECKSIG',\n",
              "   'type': 'pubkeyhash',\n",
              "   'value': '6.54545453'},\n",
              "  {'address': 'D6zKNnkupqRbkB9p5rwix8QiobQWJazjyX',\n",
              "   'output_no': 7,\n",
              "   'script': 'OP_DUP OP_HASH160 144739367df0ff8d1c61d03704298d49cf93ef3f OP_EQUALVERIFY OP_CHECKSIG',\n",
              "   'type': 'pubkeyhash',\n",
              "   'value': '6.54545453'},\n",
              "  {'address': 'D6zKNnkupqRbkB9p5rwix8QiobQWJazjyX',\n",
              "   'output_no': 8,\n",
              "   'script': 'OP_DUP OP_HASH160 144739367df0ff8d1c61d03704298d49cf93ef3f OP_EQUALVERIFY OP_CHECKSIG',\n",
              "   'type': 'pubkeyhash',\n",
              "   'value': '6.54545453'},\n",
              "  {'address': 'D6zKNnkupqRbkB9p5rwix8QiobQWJazjyX',\n",
              "   'output_no': 9,\n",
              "   'script': 'OP_DUP OP_HASH160 144739367df0ff8d1c61d03704298d49cf93ef3f OP_EQUALVERIFY OP_CHECKSIG',\n",
              "   'type': 'pubkeyhash',\n",
              "   'value': '6.54545453'},\n",
              "  {'address': 'D6zKNnkupqRbkB9p5rwix8QiobQWJazjyX',\n",
              "   'output_no': 10,\n",
              "   'script': 'OP_DUP OP_HASH160 144739367df0ff8d1c61d03704298d49cf93ef3f OP_EQUALVERIFY OP_CHECKSIG',\n",
              "   'type': 'pubkeyhash',\n",
              "   'value': '6.54545453'},\n",
              "  {'address': 'D6zKNnkupqRbkB9p5rwix8QiobQWJazjyX',\n",
              "   'output_no': 11,\n",
              "   'script': 'OP_DUP OP_HASH160 144739367df0ff8d1c61d03704298d49cf93ef3f OP_EQUALVERIFY OP_CHECKSIG',\n",
              "   'type': 'pubkeyhash',\n",
              "   'value': '6.54545453'},\n",
              "  {'address': 'D6zKNnkupqRbkB9p5rwix8QiobQWJazjyX',\n",
              "   'output_no': 12,\n",
              "   'script': 'OP_DUP OP_HASH160 144739367df0ff8d1c61d03704298d49cf93ef3f OP_EQUALVERIFY OP_CHECKSIG',\n",
              "   'type': 'pubkeyhash',\n",
              "   'value': '6.54545453'},\n",
              "  {'address': 'D6zKNnkupqRbkB9p5rwix8QiobQWJazjyX',\n",
              "   'output_no': 13,\n",
              "   'script': 'OP_DUP OP_HASH160 144739367df0ff8d1c61d03704298d49cf93ef3f OP_EQUALVERIFY OP_CHECKSIG',\n",
              "   'type': 'pubkeyhash',\n",
              "   'value': '6.54545453'},\n",
              "  {'address': 'D6zKNnkupqRbkB9p5rwix8QiobQWJazjyX',\n",
              "   'output_no': 14,\n",
              "   'script': 'OP_DUP OP_HASH160 144739367df0ff8d1c61d03704298d49cf93ef3f OP_EQUALVERIFY OP_CHECKSIG',\n",
              "   'type': 'pubkeyhash',\n",
              "   'value': '6.54545453'},\n",
              "  {'address': 'D6zKNnkupqRbkB9p5rwix8QiobQWJazjyX',\n",
              "   'output_no': 15,\n",
              "   'script': 'OP_DUP OP_HASH160 144739367df0ff8d1c61d03704298d49cf93ef3f OP_EQUALVERIFY OP_CHECKSIG',\n",
              "   'type': 'pubkeyhash',\n",
              "   'value': '6.54545453'},\n",
              "  {'address': 'D6zKNnkupqRbkB9p5rwix8QiobQWJazjyX',\n",
              "   'output_no': 16,\n",
              "   'script': 'OP_DUP OP_HASH160 144739367df0ff8d1c61d03704298d49cf93ef3f OP_EQUALVERIFY OP_CHECKSIG',\n",
              "   'type': 'pubkeyhash',\n",
              "   'value': '6.54545453'},\n",
              "  {'address': 'D6zKNnkupqRbkB9p5rwix8QiobQWJazjyX',\n",
              "   'output_no': 17,\n",
              "   'script': 'OP_DUP OP_HASH160 144739367df0ff8d1c61d03704298d49cf93ef3f OP_EQUALVERIFY OP_CHECKSIG',\n",
              "   'type': 'pubkeyhash',\n",
              "   'value': '6.54545453'},\n",
              "  {'address': 'D6zKNnkupqRbkB9p5rwix8QiobQWJazjyX',\n",
              "   'output_no': 18,\n",
              "   'script': 'OP_DUP OP_HASH160 144739367df0ff8d1c61d03704298d49cf93ef3f OP_EQUALVERIFY OP_CHECKSIG',\n",
              "   'type': 'pubkeyhash',\n",
              "   'value': '6.54545453'},\n",
              "  {'address': 'D6zKNnkupqRbkB9p5rwix8QiobQWJazjyX',\n",
              "   'output_no': 19,\n",
              "   'script': 'OP_DUP OP_HASH160 144739367df0ff8d1c61d03704298d49cf93ef3f OP_EQUALVERIFY OP_CHECKSIG',\n",
              "   'type': 'pubkeyhash',\n",
              "   'value': '6.54545453'},\n",
              "  {'address': 'D6zKNnkupqRbkB9p5rwix8QiobQWJazjyX',\n",
              "   'output_no': 20,\n",
              "   'script': 'OP_DUP OP_HASH160 144739367df0ff8d1c61d03704298d49cf93ef3f OP_EQUALVERIFY OP_CHECKSIG',\n",
              "   'type': 'pubkeyhash',\n",
              "   'value': '6.54545453'},\n",
              "  {'address': 'D6zKNnkupqRbkB9p5rwix8QiobQWJazjyX',\n",
              "   'output_no': 21,\n",
              "   'script': 'OP_DUP OP_HASH160 144739367df0ff8d1c61d03704298d49cf93ef3f OP_EQUALVERIFY OP_CHECKSIG',\n",
              "   'type': 'pubkeyhash',\n",
              "   'value': '6.54545453'},\n",
              "  {'address': 'D6zKNnkupqRbkB9p5rwix8QiobQWJazjyX',\n",
              "   'output_no': 22,\n",
              "   'script': 'OP_DUP OP_HASH160 144739367df0ff8d1c61d03704298d49cf93ef3f OP_EQUALVERIFY OP_CHECKSIG',\n",
              "   'type': 'pubkeyhash',\n",
              "   'value': '6.54545453'},\n",
              "  {'address': 'D6zKNnkupqRbkB9p5rwix8QiobQWJazjyX',\n",
              "   'output_no': 23,\n",
              "   'script': 'OP_DUP OP_HASH160 144739367df0ff8d1c61d03704298d49cf93ef3f OP_EQUALVERIFY OP_CHECKSIG',\n",
              "   'type': 'pubkeyhash',\n",
              "   'value': '6.54545453'},\n",
              "  {'address': 'D6zKNnkupqRbkB9p5rwix8QiobQWJazjyX',\n",
              "   'output_no': 24,\n",
              "   'script': 'OP_DUP OP_HASH160 144739367df0ff8d1c61d03704298d49cf93ef3f OP_EQUALVERIFY OP_CHECKSIG',\n",
              "   'type': 'pubkeyhash',\n",
              "   'value': '6.54545453'},\n",
              "  {'address': 'D6zKNnkupqRbkB9p5rwix8QiobQWJazjyX',\n",
              "   'output_no': 25,\n",
              "   'script': 'OP_DUP OP_HASH160 144739367df0ff8d1c61d03704298d49cf93ef3f OP_EQUALVERIFY OP_CHECKSIG',\n",
              "   'type': 'pubkeyhash',\n",
              "   'value': '6.54545453'},\n",
              "  {'address': 'D6zKNnkupqRbkB9p5rwix8QiobQWJazjyX',\n",
              "   'output_no': 26,\n",
              "   'script': 'OP_DUP OP_HASH160 144739367df0ff8d1c61d03704298d49cf93ef3f OP_EQUALVERIFY OP_CHECKSIG',\n",
              "   'type': 'pubkeyhash',\n",
              "   'value': '6.54545453'},\n",
              "  {'address': 'D6zKNnkupqRbkB9p5rwix8QiobQWJazjyX',\n",
              "   'output_no': 27,\n",
              "   'script': 'OP_DUP OP_HASH160 144739367df0ff8d1c61d03704298d49cf93ef3f OP_EQUALVERIFY OP_CHECKSIG',\n",
              "   'type': 'pubkeyhash',\n",
              "   'value': '6.54545453'},\n",
              "  {'address': 'D6zKNnkupqRbkB9p5rwix8QiobQWJazjyX',\n",
              "   'output_no': 28,\n",
              "   'script': 'OP_DUP OP_HASH160 144739367df0ff8d1c61d03704298d49cf93ef3f OP_EQUALVERIFY OP_CHECKSIG',\n",
              "   'type': 'pubkeyhash',\n",
              "   'value': '6.54545453'},\n",
              "  {'address': 'D6zKNnkupqRbkB9p5rwix8QiobQWJazjyX',\n",
              "   'output_no': 29,\n",
              "   'script': 'OP_DUP OP_HASH160 144739367df0ff8d1c61d03704298d49cf93ef3f OP_EQUALVERIFY OP_CHECKSIG',\n",
              "   'type': 'pubkeyhash',\n",
              "   'value': '6.54545453'},\n",
              "  {'address': 'D6zKNnkupqRbkB9p5rwix8QiobQWJazjyX',\n",
              "   'output_no': 30,\n",
              "   'script': 'OP_DUP OP_HASH160 144739367df0ff8d1c61d03704298d49cf93ef3f OP_EQUALVERIFY OP_CHECKSIG',\n",
              "   'type': 'pubkeyhash',\n",
              "   'value': '6.54545453'},\n",
              "  {'address': 'D6zKNnkupqRbkB9p5rwix8QiobQWJazjyX',\n",
              "   'output_no': 31,\n",
              "   'script': 'OP_DUP OP_HASH160 144739367df0ff8d1c61d03704298d49cf93ef3f OP_EQUALVERIFY OP_CHECKSIG',\n",
              "   'type': 'pubkeyhash',\n",
              "   'value': '6.54545453'},\n",
              "  {'address': 'D6zKNnkupqRbkB9p5rwix8QiobQWJazjyX',\n",
              "   'output_no': 32,\n",
              "   'script': 'OP_DUP OP_HASH160 144739367df0ff8d1c61d03704298d49cf93ef3f OP_EQUALVERIFY OP_CHECKSIG',\n",
              "   'type': 'pubkeyhash',\n",
              "   'value': '6.54545453'}],\n",
              " 'size': 7234,\n",
              " 'time': 1652407816,\n",
              " 'tx_hex': '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',\n",
              " 'txid': 'c1542c10399a09a5471799133c472a6652d5cb3b7b421e1a7e80e2039f5b393b',\n",
              " 'version': 1,\n",
              " 'vsize': 7234}"
            ]
          },
          "metadata": {},
          "execution_count": 356
        }
      ]
    },
    {
      "cell_type": "code",
      "source": [
        "#UTXO set\n",
        "sparkle_unspents=only_conf( doge.unspent(addr) )\n",
        "sparkle_unspents"
      ],
      "metadata": {
        "colab": {
          "base_uri": "https://localhost:8080/"
        },
        "id": "f7_3zSOzWa5f",
        "outputId": "452ad8da-453d-4157-c531-a40c1cd928ab"
      },
      "execution_count": 357,
      "outputs": [
        {
          "output_type": "execute_result",
          "data": {
            "text/plain": [
              "[{'output': 'c1542c10399a09a5471799133c472a6652d5cb3b7b421e1a7e80e2039f5b393b:0',\n",
              "  'value': 654545453},\n",
              " {'output': 'c1542c10399a09a5471799133c472a6652d5cb3b7b421e1a7e80e2039f5b393b:1',\n",
              "  'value': 654545453},\n",
              " {'output': 'c1542c10399a09a5471799133c472a6652d5cb3b7b421e1a7e80e2039f5b393b:2',\n",
              "  'value': 654545453},\n",
              " {'output': 'c1542c10399a09a5471799133c472a6652d5cb3b7b421e1a7e80e2039f5b393b:3',\n",
              "  'value': 654545453},\n",
              " {'output': 'c1542c10399a09a5471799133c472a6652d5cb3b7b421e1a7e80e2039f5b393b:4',\n",
              "  'value': 654545453},\n",
              " {'output': 'c1542c10399a09a5471799133c472a6652d5cb3b7b421e1a7e80e2039f5b393b:5',\n",
              "  'value': 654545453},\n",
              " {'output': 'c1542c10399a09a5471799133c472a6652d5cb3b7b421e1a7e80e2039f5b393b:6',\n",
              "  'value': 654545453},\n",
              " {'output': 'c1542c10399a09a5471799133c472a6652d5cb3b7b421e1a7e80e2039f5b393b:7',\n",
              "  'value': 654545453},\n",
              " {'output': 'c1542c10399a09a5471799133c472a6652d5cb3b7b421e1a7e80e2039f5b393b:8',\n",
              "  'value': 654545453},\n",
              " {'output': 'c1542c10399a09a5471799133c472a6652d5cb3b7b421e1a7e80e2039f5b393b:9',\n",
              "  'value': 654545453},\n",
              " {'output': 'c1542c10399a09a5471799133c472a6652d5cb3b7b421e1a7e80e2039f5b393b:10',\n",
              "  'value': 654545453},\n",
              " {'output': 'c1542c10399a09a5471799133c472a6652d5cb3b7b421e1a7e80e2039f5b393b:11',\n",
              "  'value': 654545453},\n",
              " {'output': 'c1542c10399a09a5471799133c472a6652d5cb3b7b421e1a7e80e2039f5b393b:12',\n",
              "  'value': 654545453},\n",
              " {'output': 'c1542c10399a09a5471799133c472a6652d5cb3b7b421e1a7e80e2039f5b393b:13',\n",
              "  'value': 654545453},\n",
              " {'output': 'c1542c10399a09a5471799133c472a6652d5cb3b7b421e1a7e80e2039f5b393b:14',\n",
              "  'value': 654545453},\n",
              " {'output': 'c1542c10399a09a5471799133c472a6652d5cb3b7b421e1a7e80e2039f5b393b:15',\n",
              "  'value': 654545453},\n",
              " {'output': 'c1542c10399a09a5471799133c472a6652d5cb3b7b421e1a7e80e2039f5b393b:16',\n",
              "  'value': 654545453},\n",
              " {'output': 'c1542c10399a09a5471799133c472a6652d5cb3b7b421e1a7e80e2039f5b393b:17',\n",
              "  'value': 654545453},\n",
              " {'output': 'c1542c10399a09a5471799133c472a6652d5cb3b7b421e1a7e80e2039f5b393b:18',\n",
              "  'value': 654545453},\n",
              " {'output': 'c1542c10399a09a5471799133c472a6652d5cb3b7b421e1a7e80e2039f5b393b:19',\n",
              "  'value': 654545453},\n",
              " {'output': 'c1542c10399a09a5471799133c472a6652d5cb3b7b421e1a7e80e2039f5b393b:20',\n",
              "  'value': 654545453},\n",
              " {'output': 'c1542c10399a09a5471799133c472a6652d5cb3b7b421e1a7e80e2039f5b393b:21',\n",
              "  'value': 654545453},\n",
              " {'output': 'c1542c10399a09a5471799133c472a6652d5cb3b7b421e1a7e80e2039f5b393b:22',\n",
              "  'value': 654545453},\n",
              " {'output': 'c1542c10399a09a5471799133c472a6652d5cb3b7b421e1a7e80e2039f5b393b:23',\n",
              "  'value': 654545453},\n",
              " {'output': 'c1542c10399a09a5471799133c472a6652d5cb3b7b421e1a7e80e2039f5b393b:24',\n",
              "  'value': 654545453},\n",
              " {'output': 'c1542c10399a09a5471799133c472a6652d5cb3b7b421e1a7e80e2039f5b393b:25',\n",
              "  'value': 654545453},\n",
              " {'output': 'c1542c10399a09a5471799133c472a6652d5cb3b7b421e1a7e80e2039f5b393b:26',\n",
              "  'value': 654545453},\n",
              " {'output': 'c1542c10399a09a5471799133c472a6652d5cb3b7b421e1a7e80e2039f5b393b:27',\n",
              "  'value': 654545453},\n",
              " {'output': 'c1542c10399a09a5471799133c472a6652d5cb3b7b421e1a7e80e2039f5b393b:28',\n",
              "  'value': 654545453},\n",
              " {'output': 'c1542c10399a09a5471799133c472a6652d5cb3b7b421e1a7e80e2039f5b393b:29',\n",
              "  'value': 654545453},\n",
              " {'output': 'c1542c10399a09a5471799133c472a6652d5cb3b7b421e1a7e80e2039f5b393b:30',\n",
              "  'value': 654545453},\n",
              " {'output': 'c1542c10399a09a5471799133c472a6652d5cb3b7b421e1a7e80e2039f5b393b:31',\n",
              "  'value': 654545453},\n",
              " {'output': 'c1542c10399a09a5471799133c472a6652d5cb3b7b421e1a7e80e2039f5b393b:32',\n",
              "  'value': 654545453}]"
            ]
          },
          "metadata": {},
          "execution_count": 357
        }
      ]
    },
    {
      "cell_type": "code",
      "source": [
        "input_monolists=[ [elem] for elem in sparkle_unspents]"
      ],
      "metadata": {
        "id": "jWsw8FwjW7-R"
      },
      "execution_count": 362,
      "outputs": []
    },
    {
      "cell_type": "markdown",
      "source": [
        "# Send 33 UTXOS from same txn back to self\n",
        "\n",
        "# Create list of transactions each containing op_return"
      ],
      "metadata": {
        "id": "zrocheeX_TfK"
      }
    },
    {
      "cell_type": "code",
      "source": [
        "write_tip=1_37_000_000\n",
        "outputs=[ [{'value':elem['value']-write_tip , 'address': addr}] for elem in sparkle_unspents]"
      ],
      "metadata": {
        "id": "va9YuOSTXVYK"
      },
      "execution_count": 363,
      "outputs": []
    },
    {
      "cell_type": "code",
      "source": [
        "outputs"
      ],
      "metadata": {
        "colab": {
          "base_uri": "https://localhost:8080/"
        },
        "id": "CWR_bruJZB8J",
        "outputId": "033523f8-3b52-4c85-86f9-0254aad7821d"
      },
      "execution_count": 364,
      "outputs": [
        {
          "output_type": "execute_result",
          "data": {
            "text/plain": [
              "[[{'address': 'D6zKNnkupqRbkB9p5rwix8QiobQWJazjyX', 'value': 517545453}],\n",
              " [{'address': 'D6zKNnkupqRbkB9p5rwix8QiobQWJazjyX', 'value': 517545453}],\n",
              " [{'address': 'D6zKNnkupqRbkB9p5rwix8QiobQWJazjyX', 'value': 517545453}],\n",
              " [{'address': 'D6zKNnkupqRbkB9p5rwix8QiobQWJazjyX', 'value': 517545453}],\n",
              " [{'address': 'D6zKNnkupqRbkB9p5rwix8QiobQWJazjyX', 'value': 517545453}],\n",
              " [{'address': 'D6zKNnkupqRbkB9p5rwix8QiobQWJazjyX', 'value': 517545453}],\n",
              " [{'address': 'D6zKNnkupqRbkB9p5rwix8QiobQWJazjyX', 'value': 517545453}],\n",
              " [{'address': 'D6zKNnkupqRbkB9p5rwix8QiobQWJazjyX', 'value': 517545453}],\n",
              " [{'address': 'D6zKNnkupqRbkB9p5rwix8QiobQWJazjyX', 'value': 517545453}],\n",
              " [{'address': 'D6zKNnkupqRbkB9p5rwix8QiobQWJazjyX', 'value': 517545453}],\n",
              " [{'address': 'D6zKNnkupqRbkB9p5rwix8QiobQWJazjyX', 'value': 517545453}],\n",
              " [{'address': 'D6zKNnkupqRbkB9p5rwix8QiobQWJazjyX', 'value': 517545453}],\n",
              " [{'address': 'D6zKNnkupqRbkB9p5rwix8QiobQWJazjyX', 'value': 517545453}],\n",
              " [{'address': 'D6zKNnkupqRbkB9p5rwix8QiobQWJazjyX', 'value': 517545453}],\n",
              " [{'address': 'D6zKNnkupqRbkB9p5rwix8QiobQWJazjyX', 'value': 517545453}],\n",
              " [{'address': 'D6zKNnkupqRbkB9p5rwix8QiobQWJazjyX', 'value': 517545453}],\n",
              " [{'address': 'D6zKNnkupqRbkB9p5rwix8QiobQWJazjyX', 'value': 517545453}],\n",
              " [{'address': 'D6zKNnkupqRbkB9p5rwix8QiobQWJazjyX', 'value': 517545453}],\n",
              " [{'address': 'D6zKNnkupqRbkB9p5rwix8QiobQWJazjyX', 'value': 517545453}],\n",
              " [{'address': 'D6zKNnkupqRbkB9p5rwix8QiobQWJazjyX', 'value': 517545453}],\n",
              " [{'address': 'D6zKNnkupqRbkB9p5rwix8QiobQWJazjyX', 'value': 517545453}],\n",
              " [{'address': 'D6zKNnkupqRbkB9p5rwix8QiobQWJazjyX', 'value': 517545453}],\n",
              " [{'address': 'D6zKNnkupqRbkB9p5rwix8QiobQWJazjyX', 'value': 517545453}],\n",
              " [{'address': 'D6zKNnkupqRbkB9p5rwix8QiobQWJazjyX', 'value': 517545453}],\n",
              " [{'address': 'D6zKNnkupqRbkB9p5rwix8QiobQWJazjyX', 'value': 517545453}],\n",
              " [{'address': 'D6zKNnkupqRbkB9p5rwix8QiobQWJazjyX', 'value': 517545453}],\n",
              " [{'address': 'D6zKNnkupqRbkB9p5rwix8QiobQWJazjyX', 'value': 517545453}],\n",
              " [{'address': 'D6zKNnkupqRbkB9p5rwix8QiobQWJazjyX', 'value': 517545453}],\n",
              " [{'address': 'D6zKNnkupqRbkB9p5rwix8QiobQWJazjyX', 'value': 517545453}],\n",
              " [{'address': 'D6zKNnkupqRbkB9p5rwix8QiobQWJazjyX', 'value': 517545453}],\n",
              " [{'address': 'D6zKNnkupqRbkB9p5rwix8QiobQWJazjyX', 'value': 517545453}],\n",
              " [{'address': 'D6zKNnkupqRbkB9p5rwix8QiobQWJazjyX', 'value': 517545453}],\n",
              " [{'address': 'D6zKNnkupqRbkB9p5rwix8QiobQWJazjyX', 'value': 517545453}]]"
            ]
          },
          "metadata": {},
          "execution_count": 364
        }
      ]
    },
    {
      "cell_type": "code",
      "source": [
        ""
      ],
      "metadata": {
        "id": "oOxcnyEoaHQy"
      },
      "execution_count": null,
      "outputs": []
    },
    {
      "cell_type": "markdown",
      "source": [
        "        doge_serial_tx=cryptos.serialize(doge_tx)\n",
        "        doge_inscribed_serial_tx=mk_opreturn( op_return , doge_serial_tx)\n",
        "        doge_inscribed_tx=cryptos.deserialize(doge_inscribed_serial_tx)\n",
        "        doge_signed_inscribed_tx=doge.signall(doge_inscribed_tx,privkeyhex)\n",
        "        broadcast_doge_signed_inscribed_tx=doge.pushtx(doge_signed_inscribed_tx)"
      ],
      "metadata": {
        "id": "ZoLKLTRAaIMA"
      }
    },
    {
      "cell_type": "code",
      "source": [
        "txns=[ doge.mktx(input_monolists[i],outputs[i]) for i in range(33)]"
      ],
      "metadata": {
        "id": "OKdRi52wZDVT"
      },
      "execution_count": 365,
      "outputs": []
    },
    {
      "cell_type": "code",
      "source": [
        "serial_txns=[cryptos.serialize(tx) for tx in txns]"
      ],
      "metadata": {
        "id": "coyyPLO1Z4Xo"
      },
      "execution_count": 366,
      "outputs": []
    },
    {
      "cell_type": "code",
      "source": [
        "inscribed_serial_txs=[mk_opreturn( package[i] , serial_txns[i]) for i in range(33)]"
      ],
      "metadata": {
        "id": "4oP0KQqFaTD3"
      },
      "execution_count": 367,
      "outputs": []
    },
    {
      "cell_type": "code",
      "source": [
        "1.37/len(inscribed_serial_txs[0])/2"
      ],
      "metadata": {
        "colab": {
          "base_uri": "https://localhost:8080/"
        },
        "id": "82IWQr4uMS3m",
        "outputId": "ea0c549d-cc36-4977-cca6-8194200ac0e7"
      },
      "execution_count": 368,
      "outputs": [
        {
          "output_type": "execute_result",
          "data": {
            "text/plain": [
              "0.002063253012048193"
            ]
          },
          "metadata": {},
          "execution_count": 368
        }
      ]
    },
    {
      "cell_type": "code",
      "source": [
        "inscribed_serial_txs"
      ],
      "metadata": {
        "colab": {
          "base_uri": "https://localhost:8080/"
        },
        "id": "TjjbY7FBbEFs",
        "outputId": "aaaf2859-dee2-42b0-da89-1e35b7322ce3"
      },
      "execution_count": 369,
      "outputs": [
        {
          "output_type": "execute_result",
          "data": {
            "text/plain": [
              "['01000000013b395b9f03e2807e1a1e427b3bcbd552662a473c13991747a5099a39102c54c10000000000ffffffff02ed1dd91e000000001976a914144739367df0ff8d1c61d03704298d49cf93ef3f88ac0000000000000000486a46c1dd000103ff000040004005537061726b6c65f09f9088e2808de2ac9b4d61676963616c436174f09f9088e2808de2ac9be29ca8f09f929c466f7665766572f09f929ce29ca800000000',\n",
              " '01000000013b395b9f03e2807e1a1e427b3bcbd552662a473c13991747a5099a39102c54c10100000000ffffffff02ed1dd91e000000001976a914144739367df0ff8d1c61d03704298d49cf93ef3f88ac0000000000000000536a4c50e6f7bdef7bdef7adef5ad6b5ad6b5ad6b5ad6b5ad6b5ad6b5ad6b5ad6739d6739ce739ce318c6318def7bdeb5ad6b15ae35ad6b5ad6b5ad6b5ad6b5ad6b5ad6b5ace739ce759c4e32c6739c6318c631800000000',\n",
              " '01000000013b395b9f03e2807e1a1e427b3bcbd552662a473c13991747a5099a39102c54c10200000000ffffffff02ed1dd91e000000001976a914144739367df0ff8d1c61d03704298d49cf93ef3f88ac0000000000000000536a4c50def5ad6b5ad627084277d6739ce739ce739ce739ce739ce739ce739ce6f4835acb6738c6318c6318d6b5ad6739cde2e739af9e739ce739ce739ce739ce739ce739ce739c49cc5a92aae718c6318c631800000000',\n",
              " '01000000013b395b9f03e2807e1a1e427b3bcbd552662a473c13991747a5099a39102c54c10300000000ffffffff02ed1dd91e000000001976a914144739367df0ff8d1c61d03704298d49cf93ef3f88ac0000000000000000536a4c50d6739ce739cd9ec6b1ac64718c6318c6318c6319ce739ce739ce7387b16b52909ae718c6318c6317ce738c6318c55ab6b58b5a9f7c6318c6318c6318c6318c6318c62cd5a96c52509a6318c6318bdef700000000',\n",
              " '01000000013b395b9f03e2807e1a1e427b3bcbd552662a473c13991747a5099a39102c54c10400000000ffffffff02ed1dd91e000000001976a914144739367df0ff8d1c61d03704298d49cf93ef3f88ac0000000000000000536a4c50c6318bdef7bd18a631494a12eb5ef7bdef7bdef7bdef7bdef7c5989531ad51ce9a6318c62f7bdef7bdef7bdef7bcd674ad8c4a107656d6b5ad6b5ad6b5ad6bdef7aad294ad68414c99def7bdef7bdef700000000',\n",
              " '01000000013b395b9f03e2807e1a1e427b3bcbd552662a473c13991747a5099a39102c54c10500000000ffffffff02ed1dd91e000000001976a914144739367df0ff8d1c61d03704298d49cf93ef3f88ac0000000000000000536a4c50b5ad6b5ad6b4d673a9ac5a0e733295ad6b5ad6d6b5ad6b5ad4599094a927318eaa5ed7bdef7bdef7ad6b5ad6b5acd673214b5a8e631993a5294a56b5ad6b5ad66a298e862ce5298cbadad6b5ad7bdef700000000',\n",
              " '01000000013b395b9f03e2807e1a1e427b3bcbd552662a473c13991747a5099a39102c54c10600000000ffffffff02ed1dd91e000000001976a914144739367df0ff8d1c61d03704298d49cf93ef3f88ac0000000000000000536a4c50a5294a5294a5188318eb6ad462950e94e93a5294a5294a5207298c75b525318eeb5ad6b5ad6b5af7a5294a52939cda7318cb73105294ec74a739ce73a4e749c1e7210a53210729931ad6b5ad6b6b5ad600000000',\n",
              " '01000000013b395b9f03e2807e1a1e427b3bcbd552662a473c13991747a5099a39102c54c10700000000ffffffff02ed1dd91e000000001976a914144739367df0ff8d1c61d03704298d49cf93ef3f88ac0000000000000000536a4c50a5294a52739d1e83190c59ca4210e974652841f093a10841c7314a5218e629953ad6b5ad6b5b5ad6a5294a4e739d1ea414e8290a7298c86b9ce7358e72d6c5ada842548498e5219d4ad6b5ad6b5adad600000000',\n",
              " '01000000013b395b9f03e2807e1a1e427b3bcbd552662a473c13991747a5099a39102c54c10800000000ffffffff02ed1dd91e000000001976a914144739367df0ff8d1c61d03704298d49cf93ef3f88ac0000000000000000536a4c50a52949ce739ce0b414a6314a839cc95252c6ad8d6ad8b4a527398e8518a421a15ad6b5ad6b5ad6b6a52949ce739ce4c2908441ce839ce75294b5b16a5294b5ad48318c63a8c422655ad2b5ad6b5ad6b500000000',\n",
              " '01000000013b395b9f03e2807e1a1e427b3bcbd552662a473c13991747a5099a39102c54c10900000000ffffffff02ed1dd91e000000001976a914144739367df0ff8d1c61d03704298d49cf93ef3f88ac0000000000000000536a4c50a52939ce739ce6d310875a0c74250c6a96b6b16a4ad085a96c520e9398c432e94a5295ad6b5ad6b5a4e739ce739ce70520a8518ea3a98b4a54c5a98a5214b4a50a52569520c533ab4a5294a56b5ad6b500000000',\n",
              " '01000000013b395b9f03e2807e1a1e427b3bcbd552662a473c13991747a5099a39102c54c10a00000000ffffffff02ed1dd91e000000001976a914144739367df0ff8d1c61d03704298d49cf93ef3f88ac0000000000000000536a4c509ce739ce739ce73618c93a4e74292639d2d52d4b5254c518ec5252a52d2755294a5294a52b5ad6b59ce739ce739ce73920c73ad4842928498ec6b5094b16d598ed5a92a6292a8d694a5294a5295ad6b500000000',\n",
              " '01000000013b395b9f03e2807e1a1e427b3bcbd552662a473c13991747a5099a39102c54c10b00000000ffffffff02ed1dd91e000000001976a914144739367df0ff8d1c61d03704298d49cf93ef3f88ac0000000000000000536a4c509ce739ce739ce52939695310a4256b51d0c6352a52d4c59d4e635684252995294a5294a5295ad6b59ce739ce7394a5294a2e6b16b5a9294992d62d2b6312c6212d531ab4a4c97d294a5294a5294ad6b500000000',\n",
              " '01000000013b395b9f03e2807e1a1e427b3bcbd552662a473c13991747a5099a39102c54c10c00000000ffffffff02ed1dd91e000000001976a914144739367df0ff8d1c61d03704298d49cf93ef3f88ac0000000000000000536a4c509ce739ce5294a5294a307b56b62d0849cec5294b6b16a51d294a54a525096ce94a5294a5294a56b59ce739ca5294a5294a318356d61ca4320ea5254a62d4739ca4218a64292b64694a5294a5294a56b500000000',\n",
              " '01000000013b395b9f03e2807e1a1e427b3bcbd552662a473c13991747a5099a39102c54c10d00000000ffffffff02ed1dd91e000000001976a914144739367df0ff8d1c61d03704298d49cf93ef3f88ac0000000000000000536a4c509ce7394a5294a5294a318356a290e91950a5a96c6310541ca321ca43ad8a53a74a5294a5294a52b59ce7294a5294a52946317b96d329cc19cec7356d5ace6411242a509839463ae549d294a5294a529500000000',\n",
              " '01000000013b395b9f03e2807e1a1e427b3bcbd552662a473c13991747a5099a39102c54c10e00000000ffffffff02ed1dd91e000000001976a914144739367df0ff8d1c61d03704298d49cf93ef3f88ac0000000000000000536a4c509ce5294a5294a529460e6b96c49e0d43988839ad728e83118e6391082d0632a349ce94a5294a52949ca5294a5294a518c60d7bd2751d50840e6841f07b52a308cd7320f5a8e62a2339ce94a5294a529400000000',\n",
              " '01000000013b395b9f03e2807e1a1e427b3bcbd552662a473c13991747a5099a39102c54c10f00000000ffffffff02ed1dd91e000000001976a914144739367df0ff8d1c61d03704298d49cf93ef3f88ac0000000000000000536a4c5094a5294a52946318c5ec6bd673a54a5a0e97c6118398c2996c7c5ea4a0a52a2339ce74a5294a529494a5294a518c6318c1cb73daa39d2b6b9ca5c60f73549432328bd8b498a52a2339ce73a5294a529400000000',\n",
              " '01000000013b395b9f03e2807e1a1e427b3bcbd552662a473c13991747a5099a39102c54c11000000000ffffffff02ed1dd91e000000001976a914144739367df0ff8d1c61d03704298d49cf93ef3f88ac0000000000000000536a4c5094a52946318c6318c1c95bdaa419295298e642118bd894add072d6a418a52a2339ce739d294a529494a528c6318c631841ab5bdca321284a9af642318bd884a58c52949394842aa539ce739d294a529400000000',\n",
              " '01000000013b395b9f03e2807e1a1e427b3bcbd552662a473c13991747a5099a39102c54c11100000000ffffffff02ed1dd91e000000001976a914144739367df0ff8d1c61d03704298d49cf93ef3f88ac0000000000000000536a4c5094a518c6318c630841ac52d8d5a4e84adaf7ba11739874a96b520e8390842b2739ce739ce94a529494a318c6318c210841894ad4741d2a4b610831ef7392432d6941ce421084336739ce739ce94a529400000000',\n",
              " '01000000013b395b9f03e2807e1a1e427b3bcbd552662a473c13991747a5099a39102c54c11200000000ffffffff02ed1dd91e000000001976a914144739367df0ff8d1c61d03704298d49cf93ef3f88ac0000000000000000536a4c50946318c63184210841cb4a0c629d485b9ef7a0a5314224a96c490a3210832be739ce739ce94a5294946318c6318421083dcd624c4298ea631af7b0e2104685a54a4986321084342739ce739ce74a529400000000',\n",
              " '01000000013b395b9f03e2807e1a1e427b3bcbd552662a473c13991747a5099a39102c54c11300000000ffffffff02ed1dd91e000000001976a914144739367df0ff8d1c61d03704298d49cf93ef3f88ac0000000000000000536a4c508c6318c630842107bdcd5a4c4294ec5ad8d6b5c90916c499293988418c8422a739ce739ce74a52948c6318c610842107b58c51ce741cea5a52a5a10812527318c628c6531883195b39ce739ce74a529400000000',\n",
              " '01000000013b395b9f03e2807e1a1e427b3bcbd552662a473c13991747a5099a39102c54c11400000000ffffffff02ed1dd91e000000001976a914144739367df0ff8d1c61d03704298d49cf93ef3f88ac0000000000000000536a4c508c6318c210842107ad095a9283a129520e949ca4114c6318c628c6318c64210ee94e739ce74a52948c631842108420f72ce52a1073a0e8398a628c4210c42194a32188318884210a86ca739ce74a529400000000',\n",
              " '01000000013b395b9f03e2807e1a1e427b3bcbd552662a473c13991747a5099a39102c54c11500000000ffffffff02ed1dd91e000000001976a914144739367df0ff8d1c61d03704298d49cf93ef3f88ac0000000000000000536a4c508c63184210841ef73105294a631d08398a5214a5298c52106210ca218c63194a643a739ce74a52948c63084210841ef6ad0729084298c528c8431ce931ce5184410886510c63214c5326339ce73a529400000000',\n",
              " '01000000013b395b9f03e2807e1a1e427b3bcbd552662a473c13991747a5099a39102c54c11600000000ffffffff02ed1dd91e000000001976a914144739367df0ff8d1c61d03704298d49cf93ef3f88ac0000000000000000536a4c508c63084210841ee624e739084298a5190c3108c621481000210844328864298a7315939ce73a52948c6108421083ded5a506314c5210c5198a41042100021084211084319464294c6311129ce73a529400000000',\n",
              " '01000000013b395b9f03e2807e1a1e427b3bcbd552662a473c13991747a5099a39102c54c11700000000ffffffff02ed1dd91e000000001976a914144739367df0ff8d1c61d03704298d49cf93ef3f88ac0000000000000000536a4c508c610842107bdcd5250629cc719083210641082208421084411084319083298c6294d09ce739d2948c210842107bdcc4a0e6318a5214642908318c22104220886318c6318c8429ce6211109ce739d29400000000',\n",
              " '01000000013b395b9f03e2807e1a1e427b3bcbd552662a473c13991747a5099a39102c54c11800000000ffffffff02ed1dd91e000000001976a914144739367df0ff8d1c61d03704298d49cf93ef3f88ac0000000000000000536a4c508c2108420f7bdcb41ce73148321085314c8294a4188620886318c83214c739d05215329ce739d2948c2108420f7bdcb41cc52988220c873156c31ca318c8410c6320c874250652928315529ce739ce9400000000',\n",
              " '01000000013b395b9f03e2807e1a1e427b3bcbd552662a473c13991747a5099a39102c54c11900000000ffffffff02ed1dd91e000000001976a914144739367df0ff8d1c61d03704298d49cf93ef3f88ac0000000000000000536a4c5084210841ef7bdcc49cc5294a33148532589524a5214a418c64214c94a109635aa315739ce739ce748421083def7bdcc5a10729086318a5294eb620c429883210a6294e84a92c5358c39dd39ce739ce7400000000',\n",
              " '01000000013b395b9f03e2807e1a1e427b3bcbd552662a473c13991747a5099a39102c54c11a00000000ffffffff02ed1dd91e000000001976a914144739367df0ff8d1c61d03704298d49cf93ef3f88ac0000000000000000536a4c508421083def7bdcd5256949ca421485218c7414a5314a6394c7218a85b18a6358a4aa339ce739ce74842107bdef7bdec5290851ce731485214a429885298c831ca52990a5254b62d6d6be739ce739ce7300000000',\n",
              " '01000000013b395b9f03e2807e1a1e427b3bcbd552662a473c13991747a5099a39102c54c11b00000000ffffffff02ed1dd91e000000001976a914144739367df0ff8d1c61d03704298d49cf93ef3f88ac0000000000000000536a4c50842107bdef7bdee5a1084a107418e7314c5314c83a0e7314a631d094a9ac4a9ae7ca739ce739ce738420f7bdef7bdef629094a0e74214841cc7314e7418e8294a72a0e84a98e6b1ce84e739ce739ce7300000000',\n",
              " '01000000013b395b9f03e2807e1a1e427b3bcbd552662a473c13991747a5099a39102c54c11c00000000ffffffff02ed1dd91e000000001976a914144739367df0ff8d1c61d03704298d49cf93ef3f88ac0000000000000000536a4c50841ef7bdef7bdef72d294a50949d2a525072a10539d042a108321295254a631af94e739ce739ce73841ef7bdef7bdef7b98a5a96c5a54829063214c639888424e741d09414c8525909ce739ce739ce7300000000',\n",
              " '01000000013b395b9f03e2807e1a1e427b3bcbd552662a473c13991747a5099a39102c54c11d00000000ffffffff02ed1dd91e000000001976a914144739367df0ff8d1c61d03704298d49cf93ef3f88ac0000000000000000536a4c5083def7bdef7bdef739cd51d2b62d041084318c6841d0a3a50939ce6218e63a9f29ce739ce739ce737bdef7bdef7bdef739ce61ca639cc3214c741ca3198a64290629ca5214c95c25294e739ce739ce7300000000',\n",
              " '01000000013b395b9f03e2807e1a1e427b3bcbd552662a473c13991747a5099a39102c54c11e00000000ffffffff02ed1dd91e000000001976a914144739367df0ff8d1c61d03704298d49cf93ef3f88ac0000000000000000536a4c507bdef7bdef7bdee739ce7354841884218e9418c439ca738c433988529d2c7ca5294e739ce739ce737bdef7bdef7b9ce739ce739cd6b106298c428c86520c310c63210a63adf194a5294a739ce739ce7300000000',\n",
              " '01000000013b395b9f03e2807e1a1e427b3bcbd552662a473c13991747a5099a39102c54c11f00000000ffffffff02ed1dd91e000000001976a914144739367df0ff8d1c61d03704298d49cf93ef3f88ac0000000000000000536a4c507bdef7bdef7b9ce739ce739ce739cd6a8e62990a49464210a629d4d8465294a5294a539ce739ce737bdef7bdef739ce739ce739ce739cf7b9ab4a108294c74adad7423294a5294a5294a5294a739ce7300000000',\n",
              " '01000000013b395b9f03e2807e1a1e427b3bcbd552662a473c13991747a5099a39102c54c12000000000ffffffff02ed1dd91e000000001976a914144739367df0ff8d1c61d03704298d49cf93ef3f88ac0000000000000000536a4c507bdef7bdef739ce739ce739ce739cf7bdef7b9ed635d08c6318c63194a5294a5294a5294a739ce737bdef7bdef739ce739ce739ce739cf7bdef7c2108c6318c6318c63194a5294a5294a5294a739ce7300000000']"
            ]
          },
          "metadata": {},
          "execution_count": 369
        }
      ]
    },
    {
      "cell_type": "code",
      "source": [
        "inscribed_txs=[cryptos.deserialize(elem) for elem in inscribed_serial_txs]"
      ],
      "metadata": {
        "id": "S1XhYY8lay8F"
      },
      "execution_count": 370,
      "outputs": []
    },
    {
      "cell_type": "code",
      "source": [
        "signed_inscribed_txs=[doge.signall(elem,privKey.to_hex()[2:]) for elem in inscribed_txs]"
      ],
      "metadata": {
        "id": "jEMY1eARbJlE"
      },
      "execution_count": 371,
      "outputs": []
    },
    {
      "cell_type": "code",
      "source": [
        "broadcasts=[doge.pushtx(elem) for elem in signed_inscribed_txs]\n",
        "broadcasts"
      ],
      "metadata": {
        "colab": {
          "base_uri": "https://localhost:8080/"
        },
        "id": "VvEcOPG9bp5g",
        "outputId": "abbdf262-e67f-4aea-f9a5-5d9eac282acb"
      },
      "execution_count": 372,
      "outputs": [
        {
          "output_type": "execute_result",
          "data": {
            "text/plain": [
              "[{'data': {'network': 'DOGE',\n",
              "   'txid': '53ae86951b38d91cc01a90e7cf9e7089ffff0a4b81a46fcd02a104d696247cb2'},\n",
              "  'status': 'success'},\n",
              " {'data': {'network': 'DOGE',\n",
              "   'txid': 'c0c0100357741223008b3d543d248b0be2fa2a4ebb17b113729298088951774b'},\n",
              "  'status': 'success'},\n",
              " {'data': {'network': 'DOGE',\n",
              "   'txid': '2f3162731462b52420ef5954c7d634f0c2a779dae3688795b53d5a9eed15508c'},\n",
              "  'status': 'success'},\n",
              " {'data': {'network': 'DOGE',\n",
              "   'txid': '9e5cc64874aa80076765b0ab06d6858c4f16b32dbe5c3f504a9695b49cfd953c'},\n",
              "  'status': 'success'},\n",
              " {'data': {'network': 'DOGE',\n",
              "   'txid': 'a23f334f08af6e56fa7553bc204c3b9e04f8c6f0e93f3c9bf300ef0a0ba8e3b1'},\n",
              "  'status': 'success'},\n",
              " {'data': {'network': 'DOGE',\n",
              "   'txid': '1a5b286ce3e440fade57d07c23484996f70049ddc11123d79875b99aa9dfc914'},\n",
              "  'status': 'success'},\n",
              " {'data': {'network': 'DOGE',\n",
              "   'txid': '85981e0d4245c10cdba9c1d869cc0db10505da89bb2936e464a63b5b21e9095b'},\n",
              "  'status': 'success'},\n",
              " {'data': {'network': 'DOGE',\n",
              "   'txid': 'ebcd6115961bcef1a4bad384000dc4fa4d66cafc24d029bbec340a084f95a76e'},\n",
              "  'status': 'success'},\n",
              " {'data': {'network': 'DOGE',\n",
              "   'txid': 'bb5f99b53d66282d920c00c4cdb0ca32309f14754dfa43ae3beca55e85cba934'},\n",
              "  'status': 'success'},\n",
              " {'data': {'network': 'DOGE',\n",
              "   'txid': '9a18605e2f78a5e2c20e3c7546893b042266762e9e1db599c00072dea802d8df'},\n",
              "  'status': 'success'},\n",
              " {'data': {'network': 'DOGE',\n",
              "   'txid': 'e970f755be8b9926f319157d1362926ba4b0b62e28bbccf7667d5b242c010f7c'},\n",
              "  'status': 'success'},\n",
              " {'data': {'network': 'DOGE',\n",
              "   'txid': '61ffbaef642a5810196d6bee7f918eb15f3492764ec63806c76c4b29a6f32f8e'},\n",
              "  'status': 'success'},\n",
              " {'data': {'network': 'DOGE',\n",
              "   'txid': '7de555db92ec394ebb6050928c9b70fd34bf6fb2ed5e33e33c3f4b9dfc9e8900'},\n",
              "  'status': 'success'},\n",
              " {'data': {'network': 'DOGE',\n",
              "   'txid': '8ef8d8e2f58a1b9765c5df7ac576abcb817cfea17c31e03df923070d984f54a6'},\n",
              "  'status': 'success'},\n",
              " {'data': {'network': 'DOGE',\n",
              "   'txid': 'a3559b089d1bd48c6c395c47e0d86e81565342edf8979548337f022f39842356'},\n",
              "  'status': 'success'},\n",
              " {'data': {'network': 'DOGE',\n",
              "   'txid': '7176b077494c85a7fbc34c174fc75e4d009c2a294de6884de22ad9256a15216e'},\n",
              "  'status': 'success'},\n",
              " {'data': {'network': 'DOGE',\n",
              "   'txid': 'a872861d4cc200139f804cfbeb687015ed3b2eb7c4c490077ef537c5bb1143d2'},\n",
              "  'status': 'success'},\n",
              " {'data': {'network': 'DOGE',\n",
              "   'txid': 'c926f0d9a2311ccb422de595908bd8c9c7c5332a8c78a39a33645a26076400ca'},\n",
              "  'status': 'success'},\n",
              " {'data': {'network': 'DOGE',\n",
              "   'txid': 'f5966121a6d69fac636c9b9148c9454cf19387bd153def1de1c77e1ff0a7a828'},\n",
              "  'status': 'success'},\n",
              " {'data': {'network': 'DOGE',\n",
              "   'txid': '1c1479726fd2832bae02564234e2eb59f6eedb36ed1b74acf4f557006eb9540e'},\n",
              "  'status': 'success'},\n",
              " {'data': {'network': 'DOGE',\n",
              "   'txid': '5ce5a1e96c64eb1d917f1ae6883f47a86c2a06e42709cc77fbdbb5256492ecdd'},\n",
              "  'status': 'success'},\n",
              " {'data': {'network': 'DOGE',\n",
              "   'txid': '8a77887d58c01356e03a2c78af159908ef3274abf93945309b86e9b3e797d4ac'},\n",
              "  'status': 'success'},\n",
              " {'data': {'network': 'DOGE',\n",
              "   'txid': '3c940d05069c830176016044cf23cd8ed727bb078a0d5c8cca54cd7013b09f71'},\n",
              "  'status': 'success'},\n",
              " {'data': {'network': 'DOGE',\n",
              "   'txid': 'de84f6f0dab5da79cc78799c254406646f232fc2246c0cf2ecae8ea3600bd9c9'},\n",
              "  'status': 'success'},\n",
              " {'data': {'network': 'DOGE',\n",
              "   'txid': '2a1d66ec1e63ec0c756aaa189051ac79b54190cc78881033d8df6abdfa751d61'},\n",
              "  'status': 'success'},\n",
              " {'data': {'network': 'DOGE',\n",
              "   'txid': '5c57cad54308ffac804dbaee849bdcddc03b520148009a10f85427958773109a'},\n",
              "  'status': 'success'},\n",
              " {'data': {'network': 'DOGE',\n",
              "   'txid': '05258574937feee15ca3b62d3adf7e6419c0d8eacd7d9cf1da2f3a9b4cbc4791'},\n",
              "  'status': 'success'},\n",
              " {'data': {'network': 'DOGE',\n",
              "   'txid': '140f0c2e4f95c046c2361181ee67e4922a27fc9db0e31d64d46467470c86fc6a'},\n",
              "  'status': 'success'},\n",
              " {'data': {'network': 'DOGE',\n",
              "   'txid': '3c660aac73dc85dfbba77e3697ce9e29166b05b4931952125eafb337c174f9c1'},\n",
              "  'status': 'success'},\n",
              " {'data': {'network': 'DOGE',\n",
              "   'txid': '53b6990a5ff193acc212287463b0eb183018c67935debffd061ccba0187612b6'},\n",
              "  'status': 'success'},\n",
              " {'data': {'network': 'DOGE',\n",
              "   'txid': '47c5dd87328ae082e876f4e23c2eb253e861f1525293063d92b45a43e183b697'},\n",
              "  'status': 'success'},\n",
              " {'data': {'network': 'DOGE',\n",
              "   'txid': '8945c36e6e93fa0128a64bc8a2dc36f042652f8d7f50930dd6250f34b93dc72f'},\n",
              "  'status': 'success'},\n",
              " {'data': {'network': 'DOGE',\n",
              "   'txid': 'd10c6b53dd83a3c337399e13b321f9661e4618c767f2a148c19327563e09573c'},\n",
              "  'status': 'success'}]"
            ]
          },
          "metadata": {},
          "execution_count": 372
        }
      ]
    },
    {
      "cell_type": "markdown",
      "source": [
        "# Everything is Retrievable From the TX Hash of Header Transaction \n",
        "\n",
        "The first transaction, spending the first output of the prepared UTXOs\n",
        "\n",
        "```\n",
        "53ae86951b38d91cc01a90e7cf9e7089ffff0a4b81a46fcd02a104d696247cb2\n",
        "```"
      ],
      "metadata": {
        "id": "PLKBeRyZNsfW"
      }
    },
    {
      "cell_type": "code",
      "source": [
        "[doge.fetchtx(broadcast['data']['txid'])['confirmations'] for broadcast in broadcasts]"
      ],
      "metadata": {
        "id": "nijVN8UncB51"
      },
      "execution_count": 2,
      "outputs": []
    },
    {
      "cell_type": "code",
      "source": [
        "doge.block_height()"
      ],
      "metadata": {
        "id": "HUNYk5HDWYZP"
      },
      "execution_count": null,
      "outputs": []
    },
    {
      "cell_type": "markdown",
      "source": [
        "# Automate Reading From Dogecoin Blockchain"
      ],
      "metadata": {
        "id": "IlK7oSOV91Dw"
      }
    },
    {
      "cell_type": "code",
      "source": [
        "def read_image(txn_id):\n",
        "  img_header_tx_data=doge.fetchtx(txn_id)\n",
        "  op_return=img_header_tx_data['outputs'][1]['script'][10:]\n",
        "  utxo_id=img_header_tx_data['inputs'][0]['from_output']['txid']\n",
        "  blk_height= doge.block_height(txn_id)\n",
        "  cand_txns=doge.block_info(blk_height)['tx_hashes'][1:]+doge.block_info(blk_height-1)['tx_hashes'][1:]+doge.block_info(blk_height+1)['tx_hashes'][1:]\n",
        "  cand_txns_info=[(cand,doge.fetchtx(cand)) for cand in cand_txns]\n",
        "  img_txn_info=[ ( info['inputs'][0]['from_output']['output_no'],info['outputs'][1]['script'][10:] ) for (_,info) in cand_txns_info if info['inputs'][0]['from_output']['txid']==utxo_id]\n",
        "  img_data_list=sorted(img_txn_info)\n",
        "  hex_header=img_data_list[0][1]\n",
        "  img_hex = ''.join([elem[1] for elem in img_data_list[1:]])\n",
        "  image_bytes=bytes.fromhex(image_hex)\n",
        "  L=int(hex_header[14:18],16)\n",
        "  W=int(hex_header[18:22],16)\n",
        "  B=int(hex_header[22:24],16)\n",
        "  print(L,W,B)\n",
        "  print(len(img_data_list))\n",
        "  sparkle_bits=message_2_bit_array(image_bytes,mode=None)\n",
        "  spark_array=bitarray2imgarr(sparkle_bits,imgshape=(L,W),bit=B,color=1).squeeze()\n",
        "  return spark_array\n",
        "  "
      ],
      "metadata": {
        "id": "cWrzYStAO6SY"
      },
      "execution_count": 418,
      "outputs": []
    },
    {
      "cell_type": "code",
      "source": [
        "sp_ar=read_image('53ae86951b38d91cc01a90e7cf9e7089ffff0a4b81a46fcd02a104d696247cb2')"
      ],
      "metadata": {
        "colab": {
          "base_uri": "https://localhost:8080/"
        },
        "id": "qY_BU0bMWH_m",
        "outputId": "dab4a89b-2478-4777-8997-b2261a1baf63"
      },
      "execution_count": 419,
      "outputs": [
        {
          "output_type": "stream",
          "name": "stdout",
          "text": [
            "64 64 5\n",
            "33\n"
          ]
        }
      ]
    },
    {
      "cell_type": "code",
      "source": [
        "Image.fromarray(sp_ar)"
      ],
      "metadata": {
        "colab": {
          "base_uri": "https://localhost:8080/",
          "height": 81
        },
        "id": "XOMXNCV_Y63R",
        "outputId": "71ae490f-59ec-4c3b-d48d-327d1fff679b"
      },
      "execution_count": 424,
      "outputs": [
        {
          "output_type": "execute_result",
          "data": {
            "text/plain": [
              "<PIL.Image.Image image mode=L size=64x64 at 0x7F496E70C1D0>"
            ],
            "image/png": "[encoded data removed]"
          },
          "metadata": {},
          "execution_count": 424
        }
      ]
    },
    {
      "cell_type": "code",
      "source": [
        ""
      ],
      "metadata": {
        "id": "ydPX5PxOZaut"
      },
      "execution_count": null,
      "outputs": []
    }
  ]
}