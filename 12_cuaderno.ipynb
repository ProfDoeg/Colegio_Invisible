{
  "nbformat": 4,
  "nbformat_minor": 0,
  "metadata": {
    "colab": {
      "name": "12_cuaderno.ipynb",
      "provenance": [],
      "include_colab_link": true
    },
    "kernelspec": {
      "name": "python3",
      "display_name": "Python 3"
    },
    "language_info": {
      "name": "python"
    }
  },
  "cells": [
    {
      "cell_type": "markdown",
      "metadata": {
        "id": "view-in-github",
        "colab_type": "text"
      },
      "source": [
        "<a href=\"https://colab.research.google.com/github/ProfDoeg/Colegio_Invisible/blob/main/12_cuaderno.ipynb\" target=\"_parent\"><img src=\"https://colab.research.google.com/assets/colab-badge.svg\" alt=\"Open In Colab\"/></a>"
      ]
    },
    {
      "cell_type": "code",
      "source": [
        "#! rm Colegio_Invisible -r"
      ],
      "metadata": {
        "id": "6YV5qP8RODUW"
      },
      "execution_count": null,
      "outputs": []
    },
    {
      "cell_type": "code",
      "execution_count": 1,
      "metadata": {
        "id": "p80LxM-iMpBC",
        "colab": {
          "base_uri": "https://localhost:8080/"
        },
        "outputId": "16d39a28-b425-4187-a7cd-b4656ed1924f"
      },
      "outputs": [
        {
          "output_type": "stream",
          "name": "stdout",
          "text": [
            "Cloning into 'Colegio_Invisible'...\n",
            "remote: Enumerating objects: 1044, done.\u001b[K\n",
            "remote: Counting objects: 100% (54/54), done.\u001b[K\n",
            "remote: Compressing objects: 100% (54/54), done.\u001b[K\n",
            "remote: Total 1044 (delta 34), reused 0 (delta 0), pack-reused 990\u001b[K\n",
            "Receiving objects: 100% (1044/1044), 78.73 MiB | 34.07 MiB/s, done.\n",
            "Resolving deltas: 100% (715/715), done.\n"
          ]
        }
      ],
      "source": [
        "! git clone https://github.com/ProfDoeg/Colegio_Invisible.git"
      ]
    },
    {
      "cell_type": "markdown",
      "source": [
        "for an image...there are pixels\n",
        "\n",
        "each pixel has 3,4 values (Red Green Blue and sometime Alpha)\n",
        "\n",
        "those numbers are...1 byte...0 to 255"
      ],
      "metadata": {
        "id": "A54RU5ZeUZZk"
      }
    },
    {
      "cell_type": "code",
      "source": [
        "from PIL import Image\n",
        "import numpy as np"
      ],
      "metadata": {
        "id": "jSzywLaHMsem"
      },
      "execution_count": 279,
      "outputs": []
    },
    {
      "cell_type": "markdown",
      "source": [
        "what can we put into blockchain...\n",
        "Op_Return\n",
        "80 bytes and we will use 64 bytes for image data\n",
        "\n",
        "each byte is made up of 8 binary values 1/0 called bits\n",
        "\n",
        "64 bytes = 64*8...512 bits\n",
        "\n",
        "We want to put image in single block\n",
        "\n",
        "PROPOSAL:\n",
        "\n",
        "16x16 image = 256 pixels\n",
        "\n",
        "only get to use 2 bits per pixel\n",
        "\n",
        "- 0,0  0 \n",
        "- 0,1  64\n",
        "- 1,0  128\n",
        "- 1,1  192\n",
        "\n",
        "1 byte [ , , , , , , , ]\n",
        "\n",
        "1 byte can tell us color of 4 pixels\n",
        "each one taking up 2 bits"
      ],
      "metadata": {
        "id": "g5RXqfJ_VK9u"
      }
    },
    {
      "cell_type": "code",
      "source": [
        "!ls Colegio_Invisible/img"
      ],
      "metadata": {
        "id": "zo2ZCW_xNzMj",
        "colab": {
          "base_uri": "https://localhost:8080/"
        },
        "outputId": "546b78ce-eecb-48ef-bc44-f41626992d06"
      },
      "execution_count": 3,
      "outputs": [
        {
          "output_type": "stream",
          "name": "stdout",
          "text": [
            "Apollo_Slays_Python_1853.jpeg  colegio_invisible.jpeg  rum_1.jpeg\n",
            "asymmetric.png\t\t       hg_cry.jpeg\t       rum_2.jpeg\n",
            "bab_crop.jpeg\t\t       hg_drop.jpeg\t       rum_3.jpeg\n",
            "barb_1.jpeg\t\t       hg_hide.jpeg\t       rum_4.jpeg\n",
            "barb_2.jpeg\t\t       hg_house.jpeg\t       rum_5.jpeg\n",
            "barb_3.jpeg\t\t       hg_invite.jpeg\t       rum_6.jpeg\n",
            "barb_4.jpeg\t\t       hg_rough.png\t       rum_7.jpeg\n",
            "barb_5.jpeg\t\t       hg_xmas.jpeg\t       rump_final.jpeg\n",
            "barb_6.jpeg\t\t       mask.png\t\t       signature.png\n",
            "barb_7.jpeg\t\t       prv_pub_addr.png        stego.png\n",
            "cat.png\t\t\t       PubKeyToAddr.png        symmetric.png\n",
            "clavis.jpeg\t\t       rum_0.jpeg\t       zomnd.png\n"
          ]
        }
      ]
    },
    {
      "cell_type": "code",
      "source": [
        "stego_image=Image.open('Colegio_Invisible/img/cat.png')\n",
        "stego_image=stego_image.resize((32,32))\n",
        "stego_image"
      ],
      "metadata": {
        "id": "3cAzcOtCNoF-",
        "colab": {
          "base_uri": "https://localhost:8080/",
          "height": 49
        },
        "outputId": "445cc5db-b510-4665-9fff-0de4f2958dc9"
      },
      "execution_count": 4,
      "outputs": [
        {
          "output_type": "execute_result",
          "data": {
            "text/plain": [
              "<PIL.Image.Image image mode=RGBA size=32x32 at 0x7F497E1F1290>"
            ],
            "image/png": "[encoded data removed]"
          },
          "metadata": {},
          "execution_count": 4
        }
      ]
    },
    {
      "cell_type": "code",
      "source": [
        "type(stego_image)"
      ],
      "metadata": {
        "id": "vJ758msHNu5T",
        "colab": {
          "base_uri": "https://localhost:8080/"
        },
        "outputId": "914b344d-14e5-4117-92a3-6aba56b6d093"
      },
      "execution_count": 5,
      "outputs": [
        {
          "output_type": "execute_result",
          "data": {
            "text/plain": [
              "PIL.Image.Image"
            ]
          },
          "metadata": {},
          "execution_count": 5
        }
      ]
    },
    {
      "cell_type": "code",
      "source": [
        "stego_array = np.array(stego_image)\n",
        "stego_array"
      ],
      "metadata": {
        "id": "MK5bUIKbOTbj",
        "colab": {
          "base_uri": "https://localhost:8080/"
        },
        "outputId": "8b18860d-f288-402d-c7a5-1bc730982751"
      },
      "execution_count": 6,
      "outputs": [
        {
          "output_type": "execute_result",
          "data": {
            "text/plain": [
              "array([[[226, 223, 218, 255],\n",
              "        [224, 220, 215, 255],\n",
              "        [221, 218, 212, 255],\n",
              "        ...,\n",
              "        [204, 198, 192, 255],\n",
              "        [201, 196, 189, 255],\n",
              "        [200, 194, 188, 255]],\n",
              "\n",
              "       [[219, 216, 210, 255],\n",
              "        [217, 214, 208, 255],\n",
              "        [214, 211, 205, 255],\n",
              "        ...,\n",
              "        [202, 197, 190, 255],\n",
              "        [200, 195, 188, 255],\n",
              "        [198, 193, 186, 255]],\n",
              "\n",
              "       [[209, 206, 199, 255],\n",
              "        [207, 204, 197, 255],\n",
              "        [205, 201, 195, 255],\n",
              "        ...,\n",
              "        [200, 194, 187, 255],\n",
              "        [199, 193, 186, 255],\n",
              "        [197, 191, 185, 255]],\n",
              "\n",
              "       ...,\n",
              "\n",
              "       [[135, 127, 120, 255],\n",
              "        [133, 125, 118, 255],\n",
              "        [130, 122, 116, 255],\n",
              "        ...,\n",
              "        [162, 154, 146, 255],\n",
              "        [162, 155, 147, 255],\n",
              "        [163, 156, 148, 255]],\n",
              "\n",
              "       [[134, 126, 120, 255],\n",
              "        [132, 124, 118, 255],\n",
              "        [129, 122, 115, 255],\n",
              "        ...,\n",
              "        [161, 153, 145, 255],\n",
              "        [162, 154, 146, 255],\n",
              "        [162, 155, 147, 255]],\n",
              "\n",
              "       [[133, 126, 119, 255],\n",
              "        [131, 124, 117, 255],\n",
              "        [129, 122, 115, 255],\n",
              "        ...,\n",
              "        [160, 152, 144, 255],\n",
              "        [161, 153, 145, 255],\n",
              "        [163, 155, 147, 255]]], dtype=uint8)"
            ]
          },
          "metadata": {},
          "execution_count": 6
        }
      ]
    },
    {
      "cell_type": "markdown",
      "source": [
        "**`uint8`** stands for unsigned 8-bit integer\n",
        "- 8 binary 1/0 values\n",
        "- that is one byte\n",
        "- a number from 0-255\n",
        "- two hex values like ff"
      ],
      "metadata": {
        "id": "5Gq3lpQ2Oh92"
      }
    },
    {
      "cell_type": "code",
      "source": [
        "2**8"
      ],
      "metadata": {
        "colab": {
          "base_uri": "https://localhost:8080/"
        },
        "id": "K1Cc4FPg7JwG",
        "outputId": "b962dfa7-3ed5-4812-cfc2-454aadee3869"
      },
      "execution_count": 7,
      "outputs": [
        {
          "output_type": "execute_result",
          "data": {
            "text/plain": [
              "256"
            ]
          },
          "metadata": {},
          "execution_count": 7
        }
      ]
    },
    {
      "cell_type": "code",
      "source": [
        "stego_array.dtype"
      ],
      "metadata": {
        "id": "HnvaTb7qOcCX",
        "colab": {
          "base_uri": "https://localhost:8080/"
        },
        "outputId": "f878830e-bbff-4849-b74f-552b801ed0a6"
      },
      "execution_count": 8,
      "outputs": [
        {
          "output_type": "execute_result",
          "data": {
            "text/plain": [
              "dtype('uint8')"
            ]
          },
          "metadata": {},
          "execution_count": 8
        }
      ]
    },
    {
      "cell_type": "code",
      "source": [
        "stego_array.shape"
      ],
      "metadata": {
        "id": "ZtupzBOJOWjT",
        "colab": {
          "base_uri": "https://localhost:8080/"
        },
        "outputId": "285887c7-6662-469d-b76f-debef0d1ec40"
      },
      "execution_count": 9,
      "outputs": [
        {
          "output_type": "execute_result",
          "data": {
            "text/plain": [
              "(32, 32, 4)"
            ]
          },
          "metadata": {},
          "execution_count": 9
        }
      ]
    },
    {
      "cell_type": "code",
      "source": [
        "stego_array[:,:,:3]"
      ],
      "metadata": {
        "colab": {
          "base_uri": "https://localhost:8080/"
        },
        "id": "kCWICwyyYpxN",
        "outputId": "1c535c3e-e117-4801-83a1-e7025b6c032a"
      },
      "execution_count": 10,
      "outputs": [
        {
          "output_type": "execute_result",
          "data": {
            "text/plain": [
              "array([[[226, 223, 218],\n",
              "        [224, 220, 215],\n",
              "        [221, 218, 212],\n",
              "        ...,\n",
              "        [204, 198, 192],\n",
              "        [201, 196, 189],\n",
              "        [200, 194, 188]],\n",
              "\n",
              "       [[219, 216, 210],\n",
              "        [217, 214, 208],\n",
              "        [214, 211, 205],\n",
              "        ...,\n",
              "        [202, 197, 190],\n",
              "        [200, 195, 188],\n",
              "        [198, 193, 186]],\n",
              "\n",
              "       [[209, 206, 199],\n",
              "        [207, 204, 197],\n",
              "        [205, 201, 195],\n",
              "        ...,\n",
              "        [200, 194, 187],\n",
              "        [199, 193, 186],\n",
              "        [197, 191, 185]],\n",
              "\n",
              "       ...,\n",
              "\n",
              "       [[135, 127, 120],\n",
              "        [133, 125, 118],\n",
              "        [130, 122, 116],\n",
              "        ...,\n",
              "        [162, 154, 146],\n",
              "        [162, 155, 147],\n",
              "        [163, 156, 148]],\n",
              "\n",
              "       [[134, 126, 120],\n",
              "        [132, 124, 118],\n",
              "        [129, 122, 115],\n",
              "        ...,\n",
              "        [161, 153, 145],\n",
              "        [162, 154, 146],\n",
              "        [162, 155, 147]],\n",
              "\n",
              "       [[133, 126, 119],\n",
              "        [131, 124, 117],\n",
              "        [129, 122, 115],\n",
              "        ...,\n",
              "        [160, 152, 144],\n",
              "        [161, 153, 145],\n",
              "        [163, 155, 147]]], dtype=uint8)"
            ]
          },
          "metadata": {},
          "execution_count": 10
        }
      ]
    },
    {
      "cell_type": "code",
      "source": [
        "def grey_imgarr(imgarr):\n",
        "  return imgarr[:,:,:3].mean(axis=2).astype('uint8')"
      ],
      "metadata": {
        "id": "_etmN93CuY2-"
      },
      "execution_count": 11,
      "outputs": []
    },
    {
      "cell_type": "code",
      "source": [
        "stego_array_grey=stego_array[:,:,:3].mean(axis=2).astype('uint8')\n",
        "stego_array_grey.shape,stego_array_grey.dtype"
      ],
      "metadata": {
        "id": "kWBZaDEZOgW_",
        "colab": {
          "base_uri": "https://localhost:8080/"
        },
        "outputId": "8c6114f4-225e-4d5e-be6b-4c351247ebb1"
      },
      "execution_count": 12,
      "outputs": [
        {
          "output_type": "execute_result",
          "data": {
            "text/plain": [
              "((32, 32), dtype('uint8'))"
            ]
          },
          "metadata": {},
          "execution_count": 12
        }
      ]
    },
    {
      "cell_type": "code",
      "source": [
        "stego_array_grey"
      ],
      "metadata": {
        "id": "A0nsbRaZOnxN",
        "colab": {
          "base_uri": "https://localhost:8080/"
        },
        "outputId": "94e7f1ab-f2a7-4d8c-b125-984ebf482fc6"
      },
      "execution_count": 13,
      "outputs": [
        {
          "output_type": "execute_result",
          "data": {
            "text/plain": [
              "array([[222, 219, 217, ..., 198, 195, 194],\n",
              "       [215, 213, 210, ..., 196, 194, 192],\n",
              "       [204, 202, 200, ..., 193, 192, 191],\n",
              "       ...,\n",
              "       [127, 125, 122, ..., 154, 154, 155],\n",
              "       [126, 124, 122, ..., 153, 154, 154],\n",
              "       [126, 124, 122, ..., 152, 153, 155]], dtype=uint8)"
            ]
          },
          "metadata": {},
          "execution_count": 13
        }
      ]
    },
    {
      "cell_type": "code",
      "source": [
        "stego_image_grey = Image.fromarray(stego_array_grey)\n",
        "stego_image_grey"
      ],
      "metadata": {
        "id": "IiMfNkWmOulw",
        "colab": {
          "base_uri": "https://localhost:8080/",
          "height": 49
        },
        "outputId": "11005d36-5f3b-44e0-ec07-a0d930bc66b0"
      },
      "execution_count": 14,
      "outputs": [
        {
          "output_type": "execute_result",
          "data": {
            "text/plain": [
              "<PIL.Image.Image image mode=L size=32x32 at 0x7F497A8D7990>"
            ],
            "image/png": "[encoded data removed]"
          },
          "metadata": {},
          "execution_count": 14
        }
      ]
    },
    {
      "cell_type": "code",
      "source": [
        "def int_2_bit_array(num):\n",
        "    bin_str=bin(num)\n",
        "    bit_list=[int(bit) for bit in bin_str[2:]]\n",
        "    bit_list=[0]*(8-len(bit_list))+bit_list\n",
        "    bit_array=np.array(bit_list,dtype='uint8')\n",
        "    return bit_array"
      ],
      "metadata": {
        "id": "TsrD8_OFO1n6"
      },
      "execution_count": 15,
      "outputs": []
    },
    {
      "cell_type": "code",
      "source": [
        "int_2_bit_array(255)"
      ],
      "metadata": {
        "colab": {
          "base_uri": "https://localhost:8080/"
        },
        "id": "Fcwm8Rm187LD",
        "outputId": "a3741889-fbfa-48fd-bbfe-167084b9b429"
      },
      "execution_count": 16,
      "outputs": [
        {
          "output_type": "execute_result",
          "data": {
            "text/plain": [
              "array([1, 1, 1, 1, 1, 1, 1, 1], dtype=uint8)"
            ]
          },
          "metadata": {},
          "execution_count": 16
        }
      ]
    },
    {
      "cell_type": "code",
      "source": [
        "int_2_bit_array(2)"
      ],
      "metadata": {
        "colab": {
          "base_uri": "https://localhost:8080/"
        },
        "id": "ZnC3XzE49YD0",
        "outputId": "681d5484-2a09-4860-89f3-46a4b8ebbbc4"
      },
      "execution_count": 17,
      "outputs": [
        {
          "output_type": "execute_result",
          "data": {
            "text/plain": [
              "array([0, 0, 0, 0, 0, 0, 1, 0], dtype=uint8)"
            ]
          },
          "metadata": {},
          "execution_count": 17
        }
      ]
    },
    {
      "cell_type": "code",
      "source": [
        "int_2_bit_array(64)"
      ],
      "metadata": {
        "colab": {
          "base_uri": "https://localhost:8080/"
        },
        "id": "xDfN1uS99cJN",
        "outputId": "9f686941-bcca-451c-8560-90898de20273"
      },
      "execution_count": 18,
      "outputs": [
        {
          "output_type": "execute_result",
          "data": {
            "text/plain": [
              "array([0, 1, 0, 0, 0, 0, 0, 0], dtype=uint8)"
            ]
          },
          "metadata": {},
          "execution_count": 18
        }
      ]
    },
    {
      "cell_type": "code",
      "source": [
        "int_2_bit_array(65)"
      ],
      "metadata": {
        "colab": {
          "base_uri": "https://localhost:8080/"
        },
        "id": "GCE5EUEZ9mWt",
        "outputId": "75404886-c568-480b-f813-13e63b58f557"
      },
      "execution_count": 19,
      "outputs": [
        {
          "output_type": "execute_result",
          "data": {
            "text/plain": [
              "array([0, 1, 0, 0, 0, 0, 0, 1], dtype=uint8)"
            ]
          },
          "metadata": {},
          "execution_count": 19
        }
      ]
    },
    {
      "cell_type": "code",
      "source": [
        "int_2_bit_array(68)"
      ],
      "metadata": {
        "colab": {
          "base_uri": "https://localhost:8080/"
        },
        "id": "3kg214gB9uIJ",
        "outputId": "89ca45c4-bf1d-45e0-9cd3-b541ce9533df"
      },
      "execution_count": 20,
      "outputs": [
        {
          "output_type": "execute_result",
          "data": {
            "text/plain": [
              "array([0, 1, 0, 0, 0, 1, 0, 0], dtype=uint8)"
            ]
          },
          "metadata": {},
          "execution_count": 20
        }
      ]
    },
    {
      "cell_type": "code",
      "source": [
        "int_2_bit_array(1)"
      ],
      "metadata": {
        "colab": {
          "base_uri": "https://localhost:8080/"
        },
        "id": "WJ3jeAqi8680",
        "outputId": "1c7551a9-00cc-4fdc-c870-5a2686843304"
      },
      "execution_count": 21,
      "outputs": [
        {
          "output_type": "execute_result",
          "data": {
            "text/plain": [
              "array([0, 0, 0, 0, 0, 0, 0, 1], dtype=uint8)"
            ]
          },
          "metadata": {},
          "execution_count": 21
        }
      ]
    },
    {
      "cell_type": "code",
      "source": [
        "int_2_bit_array(0)"
      ],
      "metadata": {
        "colab": {
          "base_uri": "https://localhost:8080/"
        },
        "id": "7gO-XCC38zfG",
        "outputId": "b5590bfb-fcea-49a1-8ef4-ae51bd0d8064"
      },
      "execution_count": 22,
      "outputs": [
        {
          "output_type": "execute_result",
          "data": {
            "text/plain": [
              "array([0, 0, 0, 0, 0, 0, 0, 0], dtype=uint8)"
            ]
          },
          "metadata": {},
          "execution_count": 22
        }
      ]
    },
    {
      "cell_type": "markdown",
      "source": [
        "Goal:\n",
        "\n",
        "- take image of 256 bytes and reduce each byte to 2 bit in form of 2 element array\n",
        "- turn that all into 512 bits\n",
        "- turn 512 bits into 64 bytes"
      ],
      "metadata": {
        "id": "KDXmg93RcmvX"
      }
    },
    {
      "cell_type": "markdown",
      "source": [
        "# Generalize Standard For Images (MxN)\n",
        "\n",
        "If we create a standard for the header that describes the data stored then we can choose the following paramenters:\n",
        "\n",
        "- length\n",
        "- width\n",
        "- color dim \n",
        "- color bit count\n",
        "\n",
        "In total the number of bits is the product of all the parameters\n",
        "\n",
        "## Greyscale Image \n",
        "\n",
        "## RGB Image\n",
        "\n",
        "## Two Channel Color Standard\n",
        "\n",
        "## Four Channel\n",
        "\n",
        "## General Color Dim\n",
        "\n"
      ],
      "metadata": {
        "id": "kFmxqVuDea6r"
      }
    },
    {
      "cell_type": "code",
      "source": [
        "message_2_bit_array(message,mode=None)\n",
        "bitarray2imgarr(barrs,imgshape=(16,16),bit=2,color=1)\n",
        "Image.fromarray(bitarray2imgarr(bitarray,imgshape=dims,bit=bit,color=1).squeeze())\n"
      ],
      "metadata": {
        "id": "HXStx_DETZfO"
      },
      "execution_count": null,
      "outputs": []
    },
    {
      "cell_type": "code",
      "source": [
        "def grey_imgarr(imgarr):\n",
        "  return imgarr[:,:,:3].mean(axis=2).astype('uint8')\n",
        "\n",
        "def message_2_bit_array(message,mode=None):\n",
        "    '''This function takes in a message as string, bytestring or hextring.\n",
        "    If hexstring input the set mode='hex' '''\n",
        "    if type(message)==bytes:\n",
        "        hex_str=message.hex()\n",
        "    elif (type(message)==str):\n",
        "        if mode not in ('hex','hexstring'):\n",
        "            hex_str=message.encode().hex()\n",
        "        else:\n",
        "            hex_str=message\n",
        "    else:\n",
        "        print('fix the input and mode')\n",
        "        return None\n",
        "    \n",
        "    num=int('0x'+hex_str,base=16)\n",
        "    byte_len=(len(hex_str)+1)//2\n",
        "    bit_len=byte_len*8\n",
        "    bin_str=bin(num)\n",
        "    bit_list=[int(bit) for bit in bin_str[2:]]\n",
        "    bit_list=[0]*(bit_len-len(bit_list))+bit_list\n",
        "    bit_array=np.array(bit_list,dtype='uint8')\n",
        "    return bit_array\n",
        "\n",
        "def bit_array_2_byte_str(bit_array):\n",
        "    '''Convert bit array to a bytestring'''\n",
        "    bit_list=[ str(bit) for bit in bit_array]\n",
        "    bin_str='0b'+(''.join(bit_list))\n",
        "    num=int(bin_str,base=2)\n",
        "    return num.to_bytes(len(bit_array)//8,'big')\n",
        "\n",
        "def bit_array_2_hex_str(bit_array):  \n",
        "    '''Convert a bit array to a hexstring'''\n",
        "    return bit_array_2_byte_str(bit_array).hex()\n",
        "\n",
        "def bit_array_2_str(bit_array,encoding='utf-8'):\n",
        "    '''Convert a bit array to a string'''\n",
        "    return bit_array_2_byte_str(bit_array).decode(encoding)\n",
        "\n",
        "def int2bitarray(x,bit=8):\n",
        "  return message_2_bit_array(hex(x)[2:],mode='hex')[:bit]\n",
        "\n",
        "def bitarray2int(b_arr):\n",
        "  ln=b_arr.shape[0]\n",
        "  scales=(2**np.arange(7,-1,-1))[:ln]\n",
        "  return (b_arr*scales).sum()\n",
        "\n",
        "def imgarr2bitarray(imgarr,bit=8):\n",
        "  return np.array([ int2bitarray(it,bit) for it in imgarr.reshape(-1)]).reshape(-1)\n",
        "\n",
        "def bitarray2imgarr(barrs,imgshape=(16,16),bit=2,color=1):\n",
        "  lns=len(barrs.reshape(-1))\n",
        "  #Bs=barrs.reshape(*imgshape,bit)\n",
        "  intlst=[ bitarray2int(barrs.reshape(-1)[i:i+bit]) for i in range(0,lns,bit) ]\n",
        "  intarr=np.array(intlst).reshape(*imgshape,color).astype('uint8')\n",
        "  return intarr\n",
        " \n",
        "def bitarray2imgarr_scale(barrs,imgshape=(16,16),bit=2,color=1):\n",
        "  lns=len(barrs.reshape(-1))\n",
        "  #Bs=barrs.reshape(*imgshape,bit)\n",
        "  intlst=[ bitarray2int_scale(barrs.reshape(-1)[i:i+bit]) for i in range(0,lns,bit) ]\n",
        "  intarr=np.array(intlst).reshape(*imgshape,color).astype('uint8')\n",
        "  return intarr"
      ],
      "metadata": {
        "id": "rsUqVeQXiaH4"
      },
      "execution_count": 23,
      "outputs": []
    },
    {
      "cell_type": "code",
      "source": [
        "class bitimage():\n",
        "\n",
        "  def __init__(self,imgpath,dims=(16,16),bit=2,color=1):\n",
        "    from PIL import Image\n",
        "    self.color=color\n",
        "    self.bit=bit\n",
        "    self.dims=list(dims)\n",
        "    self.img_og=Image.open(imgpath)\n",
        "    self.img_resize=self.img_og.resize(dims)\n",
        "    self.grey=grey_imgarr(np.array(self.img_resize))\n",
        "    self.img_grey=Image.fromarray(self.grey)\n",
        "    self.bitarray=imgarr2bitarray(self.grey,bit)\n",
        "    self.bitarray_color=imgarr2bitarray(np.array(self.img_resize)[:,:,:color],bit)\n",
        "    self.newimg=Image.fromarray(bitarray2imgarr(self.bitarray,imgshape=dims,bit=bit,color=1).squeeze())\n",
        "    self.newimg_color=Image.fromarray(bitarray2imgarr(self.bitarray_color,imgshape=dims,bit=bit,color=3).squeeze())\n",
        "    self.bytestring=bit_array_2_byte_str(self.bitarray)\n",
        "    self.bytestring_color=bit_array_2_byte_str(self.bitarray_color)\n",
        "\n",
        "\n"
      ],
      "metadata": {
        "id": "zaDY5mN6q_eR"
      },
      "execution_count": 24,
      "outputs": []
    },
    {
      "cell_type": "code",
      "source": [
        "!ls Colegio_Invisible/img"
      ],
      "metadata": {
        "colab": {
          "base_uri": "https://localhost:8080/"
        },
        "id": "BMHGoycbRTmT",
        "outputId": "70236d8b-4b98-40c7-99c6-ba78020d7d49"
      },
      "execution_count": 25,
      "outputs": [
        {
          "output_type": "stream",
          "name": "stdout",
          "text": [
            "Apollo_Slays_Python_1853.jpeg  colegio_invisible.jpeg  rum_1.jpeg\n",
            "asymmetric.png\t\t       hg_cry.jpeg\t       rum_2.jpeg\n",
            "bab_crop.jpeg\t\t       hg_drop.jpeg\t       rum_3.jpeg\n",
            "barb_1.jpeg\t\t       hg_hide.jpeg\t       rum_4.jpeg\n",
            "barb_2.jpeg\t\t       hg_house.jpeg\t       rum_5.jpeg\n",
            "barb_3.jpeg\t\t       hg_invite.jpeg\t       rum_6.jpeg\n",
            "barb_4.jpeg\t\t       hg_rough.png\t       rum_7.jpeg\n",
            "barb_5.jpeg\t\t       hg_xmas.jpeg\t       rump_final.jpeg\n",
            "barb_6.jpeg\t\t       mask.png\t\t       signature.png\n",
            "barb_7.jpeg\t\t       prv_pub_addr.png        stego.png\n",
            "cat.png\t\t\t       PubKeyToAddr.png        symmetric.png\n",
            "clavis.jpeg\t\t       rum_0.jpeg\t       zomnd.png\n"
          ]
        }
      ]
    },
    {
      "cell_type": "code",
      "source": [
        "bimg=bitimage('Colegio_Invisible/img/cat.png',dims=(64,64),bit=5,color=3)\n",
        "display(bimg.newimg)\n",
        "display(bimg.img_grey)\n",
        "display(bimg.newimg_color)\n",
        "display(bimg.img_resize)\n",
        "len(bimg.bytestring)//80,len(bimg.bytestring_color)//80"
      ],
      "metadata": {
        "colab": {
          "base_uri": "https://localhost:8080/",
          "height": 291
        },
        "id": "JNi4bF6sH_Gd",
        "outputId": "a9ccd578-16e4-46ac-8609-f3d7cf55b9b1"
      },
      "execution_count": 250,
      "outputs": [
        {
          "output_type": "display_data",
          "data": {
            "text/plain": [
              "<PIL.Image.Image image mode=L size=64x64 at 0x7F496EA4B8D0>"
            ],
            "image/png": "[encoded data removed]"
          },
          "metadata": {}
        },
        {
          "output_type": "display_data",
          "data": {
            "text/plain": [
              "<PIL.Image.Image image mode=L size=64x64 at 0x7F497A4F5F90>"
            ],
            "image/png": "[encoded data removed]"
          },
          "metadata": {}
        },
        {
          "output_type": "display_data",
          "data": {
            "text/plain": [
              "<PIL.Image.Image image mode=RGB size=64x64 at 0x7F496EAC2810>"
            ],
            "image/png": "[encoded data removed]"
          },
          "metadata": {}
        },
        {
          "output_type": "display_data",
          "data": {
            "text/plain": [
              "<PIL.Image.Image image mode=RGBA size=64x64 at 0x7F496EAC2BD0>"
            ],
            "image/png": "[encoded data removed]"
          },
          "metadata": {}
        },
        {
          "output_type": "execute_result",
          "data": {
            "text/plain": [
              "(32, 96)"
            ]
          },
          "metadata": {},
          "execution_count": 250
        }
      ]
    },
    {
      "cell_type": "code",
      "source": [
        "import hashlib \n",
        "\n",
        "message=bimg.bytestring\n",
        "H=hashlib.sha256(message)\n",
        "\n",
        "n=80\n",
        "chunks = [message[i:i+n] for i in range(0, len(message), n)]\n",
        "\n",
        "print(len(chunks))\n",
        "print(len(chunks[-1]))\n",
        "\n",
        "print(H.digest())"
      ],
      "metadata": {
        "id": "clOFe3jmD8Iq",
        "outputId": "cf2dfac8-adbb-4f16-ea8d-92b00a7cde3c",
        "colab": {
          "base_uri": "https://localhost:8080/"
        }
      },
      "execution_count": 36,
      "outputs": [
        {
          "output_type": "stream",
          "name": "stdout",
          "text": [
            "32\n",
            "80\n",
            "b'\\xd1\\x9c\\x04\\xdab\\x05\\x01X@]\\xc1\\xc1\\xe7@\\x9d\\xd2\\xe85aAl\\xe0P\\xbf\\x91\\xeb\\xb7w\\xb3\\xa5P\\x13'\n"
          ]
        }
      ]
    },
    {
      "cell_type": "code",
      "source": [
        "header=b'\\xc1\\xdd\\x00\\x01\\x03\\xff\\x20\\x20\\x05'\n",
        "text='Sparkle\\nMagical Cat\\n✨💜Fovever💜✨\\n'.encode()\n",
        "header+text"
      ],
      "metadata": {
        "id": "3rv-SKod-DXx",
        "colab": {
          "base_uri": "https://localhost:8080/"
        },
        "outputId": "06342b5d-fc31-43ab-f245-30f741148964"
      },
      "execution_count": 66,
      "outputs": [
        {
          "output_type": "execute_result",
          "data": {
            "text/plain": [
              "b'\\xc1\\xdd\\x00\\x01\\x03\\xff  \\x05Sparkle\\nMagical Cat\\n\\xe2\\x9c\\xa8\\xf0\\x9f\\x92\\x9cFovever\\xf0\\x9f\\x92\\x9c\\xe2\\x9c\\xa8\\n'"
            ]
          },
          "metadata": {},
          "execution_count": 66
        }
      ]
    },
    {
      "cell_type": "code",
      "source": [
        "package=[header+text]+chunks\n",
        "package"
      ],
      "metadata": {
        "id": "yXA37A0yLCJB",
        "outputId": "acf0a987-f91c-4bd3-ff1b-6ec0530d866c",
        "colab": {
          "base_uri": "https://localhost:8080/"
        }
      },
      "execution_count": 67,
      "outputs": [
        {
          "output_type": "execute_result",
          "data": {
            "text/plain": [
              "[b'\\xc1\\xdd\\x00\\x01\\x03\\xff  \\x05Sparkle\\nMagical Cat\\n\\xe2\\x9c\\xa8\\xf0\\x9f\\x92\\x9cFovever\\xf0\\x9f\\x92\\x9c\\xe2\\x9c\\xa8\\n',\n",
              " b'\\xe6\\xf7\\xbd\\xef{\\xde\\xf7\\xad\\xefZ\\xd6\\xb5\\xadkZ\\xd6\\xb5\\xadkZ\\xd6\\xb5\\xadkZ\\xd6\\xb5\\xadg9\\xd6s\\x9c\\xe79\\xce1\\x8cc\\x18\\xde\\xf7\\xbd\\xebZ\\xd6\\xb1Z\\xe3Z\\xd6\\xb5\\xadkZ\\xd6\\xb5\\xadkZ\\xd6\\xb5\\xadkZ\\xces\\x9c\\xe7Y\\xc4\\xe3,g9\\xc61\\x8cc\\x18',\n",
              " b\"\\xde\\xf5\\xadkZ\\xd6'\\x08Bw\\xd6s\\x9c\\xe79\\xces\\x9c\\xe79\\xces\\x9c\\xe79\\xces\\x9c\\xe6\\xf4\\x83Z\\xcbg8\\xc61\\x8cc\\x18\\xd6\\xb5\\xadg9\\xcd\\xe2\\xe79\\xaf\\x9es\\x9c\\xe79\\xces\\x9c\\xe79\\xces\\x9c\\xe79\\xces\\x9cI\\xccZ\\x92\\xaa\\xe7\\x18\\xc61\\x8cc\\x18\",\n",
              " b'\\xd6s\\x9c\\xe79\\xcd\\x9e\\xc6\\xb1\\xacdq\\x8cc\\x18\\xc61\\x8cc\\x19\\xces\\x9c\\xe79\\xces\\x87\\xb1kR\\x90\\x9a\\xe7\\x18\\xc61\\x8cc\\x17\\xces\\x8cc\\x18\\xc5Z\\xb6\\xb5\\x8bZ\\x9f|c\\x18\\xc61\\x8cc\\x18\\xc61\\x8cc\\x18\\xc6,\\xd5\\xa9lRP\\x9ac\\x18\\xc61\\x8b\\xde\\xf7',\n",
              " b'\\xc61\\x8b\\xde\\xf7\\xbd\\x18\\xa61IJ\\x12\\xeb^\\xf7\\xbd\\xef{\\xde\\xf7\\xbd\\xef{\\xde\\xf7\\xc5\\x98\\x951\\xadQ\\xce\\x9ac\\x18\\xc6/{\\xde\\xf7\\xbd\\xef{\\xde\\xf7\\xbc\\xd6t\\xad\\x8cJ\\x10vV\\xd6\\xb5\\xadkZ\\xd6\\xb5\\xadk\\xde\\xf7\\xaa\\xd2\\x94\\xadhAL\\x99\\xde\\xf7\\xbd\\xef{\\xde\\xf7',\n",
              " b\"\\xb5\\xadkZ\\xd6\\xb4\\xd6s\\xa9\\xacZ\\x0es2\\x95\\xadkZ\\xd6\\xd6\\xb5\\xadkZ\\xd4Y\\x90\\x94\\xa9'1\\x8e\\xaa^\\xd7\\xbd\\xef{\\xde\\xf7\\xadkZ\\xd6\\xb5\\xac\\xd6s!KZ\\x8ec\\x19\\x93\\xa5)JV\\xb5\\xadkZ\\xd6j)\\x8e\\x86,\\xe5)\\x8c\\xba\\xda\\xd6\\xb5\\xad{\\xde\\xf7\",\n",
              " b'\\xa5)JR\\x94\\xa5\\x18\\x83\\x18\\xebj\\xd4b\\x95\\x0e\\x94\\xe9:R\\x94\\xa5)JR\\x07)\\x8cu\\xb5%1\\x8e\\xebZ\\xd6\\xb5\\xadkZ\\xf7\\xa5)JR\\x93\\x9c\\xdas\\x18\\xcbs\\x10R\\x94\\xect\\xa79\\xces\\xa4\\xe7I\\xc1\\xe7!\\nS!\\x07)\\x93\\x1a\\xd6\\xb5\\xadkkZ\\xd6',\n",
              " b'\\xa5)JRs\\x9d\\x1e\\x83\\x19\\x0cY\\xcaB\\x10\\xe9te(A\\xf0\\x93\\xa1\\x08A\\xc71JR\\x18\\xe6)\\x95:\\xd6\\xb5\\xadk[Z\\xd6\\xa5)JNs\\x9d\\x1e\\xa4\\x14\\xe8)\\nr\\x98\\xc8k\\x9c\\xe75\\x8er\\xd6\\xc5\\xad\\xa8BT\\x84\\x98\\xe5!\\x9dJ\\xd6\\xb5\\xadkZ\\xda\\xd6',\n",
              " b'\\xa5)I\\xces\\x9c\\xe0\\xb4\\x14\\xa61J\\x83\\x9c\\xc9RR\\xc6\\xad\\x8dj\\xd8\\xb4\\xa5\\'9\\x8e\\x85\\x18\\xa4!\\xa1Z\\xd6\\xb5\\xadkZ\\xd6\\xb6\\xa5)I\\xces\\x9c\\xe4\\xc2\\x90\\x84A\\xce\\x83\\x9c\\xe7R\\x94\\xb5\\xb1jR\\x94\\xb5\\xadH1\\x8cc\\xa8\\xc4\"eZ\\xd2\\xb5\\xadkZ\\xd6\\xb5',\n",
              " b'\\xa5)9\\xces\\x9c\\xe6\\xd3\\x10\\x87Z\\x0ct%\\x0cj\\x96\\xb6\\xb1jJ\\xd0\\x85\\xa9lR\\x0e\\x93\\x98\\xc42\\xe9JR\\x95\\xadkZ\\xd6\\xb5\\xa4\\xe79\\xces\\x9c\\xe7\\x05 \\xa8Q\\x8e\\xa3\\xa9\\x8bJT\\xc5\\xa9\\x8aR\\x14\\xb4\\xa5\\nRV\\x95 \\xc53\\xabJR\\x94\\xa5kZ\\xd6\\xb5',\n",
              " b\"\\x9c\\xe79\\xces\\x9c\\xe76\\x18\\xc9:Nt)&9\\xd2\\xd5-KRT\\xc5\\x18\\xecRR\\xa5-'U)JR\\x94\\xa5+Z\\xd6\\xb5\\x9c\\xe79\\xces\\x9c\\xe79 \\xc7:\\xd4\\x84)(I\\x8e\\xc6\\xb5\\tK\\x16\\xd5\\x98\\xedZ\\x92\\xa6)*\\x8diJR\\x94\\xa5)Z\\xd6\\xb5\",\n",
              " b'\\x9c\\xe79\\xces\\x9c\\xe5)9iS\\x10\\xa4%kQ\\xd0\\xc65*R\\xd4\\xc5\\x9dNcV\\x84%)\\x95)JR\\x94\\xa5)Z\\xd6\\xb5\\x9c\\xe79\\xces\\x94\\xa5)J.k\\x16\\xb5\\xa9)I\\x92\\xd6-+c\\x12\\xc6!-S\\x1a\\xb4\\xa4\\xc9})JR\\x94\\xa5)J\\xd6\\xb5',\n",
              " b'\\x9c\\xe79\\xceR\\x94\\xa5)J0{V\\xb6-\\x08I\\xce\\xc5)Kk\\x16\\xa5\\x1d)JT\\xa5%\\tl\\xe9JR\\x94\\xa5)JV\\xb5\\x9c\\xe79\\xcaR\\x94\\xa5)J1\\x83V\\xd6\\x1c\\xa42\\x0e\\xa5%Jb\\xd4s\\x9c\\xa4!\\x8ad)+diJR\\x94\\xa5)JV\\xb5',\n",
              " b'\\x9c\\xe79JR\\x94\\xa5)J1\\x83V\\xa2\\x90\\xe9\\x19P\\xa5\\xa9lc\\x10T\\x1c\\xa3!\\xcaC\\xad\\x8aS\\xa7JR\\x94\\xa5)JR\\xb5\\x9c\\xe7)JR\\x94\\xa5)F1{\\x96\\xd3)\\xcc\\x19\\xce\\xc75mZ\\xced\\x11$*P\\x989F:\\xe5I\\xd2\\x94\\xa5)JR\\x95',\n",
              " b'\\x9c\\xe5)JR\\x94\\xa5)F\\x0ek\\x96\\xc4\\x9e\\rC\\x98\\x889\\xadr\\x8e\\x83\\x11\\x8ec\\x91\\x08-\\x062\\xa3I\\xce\\x94\\xa5)JR\\x94\\x9c\\xa5)JR\\x94\\xa5\\x18\\xc6\\r{\\xd2u\\x1dP\\x84\\x0ehA\\xf0{R\\xa3\\x08\\xcds \\xf5\\xa8\\xe6*#9\\xce\\x94\\xa5)JR\\x94',\n",
              " b'\\x94\\xa5)JR\\x94c\\x18\\xc5\\xeck\\xd6s\\xa5JZ\\x0e\\x97\\xc6\\x11\\x83\\x98\\xc2\\x99l|^\\xa4\\xa0\\xa5*#9\\xcet\\xa5)JR\\x94\\x94\\xa5)JQ\\x8cc\\x18\\xc1\\xcbs\\xda\\xa3\\x9d+k\\x9c\\xa5\\xc6\\x0fsT\\x9422\\x8b\\xd8\\xb4\\x98\\xa5*#9\\xces\\xa5)JR\\x94',\n",
              " b'\\x94\\xa5)F1\\x8cc\\x18\\xc1\\xc9[\\xda\\xa4\\x19)R\\x98\\xe6B\\x11\\x8b\\xd8\\x94\\xad\\xd0r\\xd6\\xa4\\x18\\xa5*#9\\xces\\x9d)JR\\x94\\x94\\xa5(\\xc61\\x8cc\\x18A\\xab[\\xdc\\xa3!(J\\x9a\\xf6B1\\x8b\\xd8\\x84\\xa5\\x8cR\\x94\\x93\\x94\\x84*\\xa59\\xces\\x9d)JR\\x94',\n",
              " b\"\\x94\\xa5\\x18\\xc61\\x8cc\\x08A\\xacR\\xd8\\xd5\\xa4\\xe8J\\xda\\xf7\\xba\\x11s\\x98t\\xa9kR\\x0e\\x83\\x90\\x84+'9\\xces\\x9c\\xe9JR\\x94\\x94\\xa3\\x18\\xc61\\x8c!\\x08A\\x89J\\xd4t\\x1d*Ka\\x081\\xefs\\x92C-iA\\xceB\\x10\\x843g9\\xces\\x9c\\xe9JR\\x94\",\n",
              " b\"\\x94c\\x18\\xc61\\x84!\\x08A\\xcbJ\\x0cb\\x9dH[\\x9e\\xf7\\xa0\\xa51B$\\xa9lI\\n2\\x10\\x83+\\xe79\\xces\\x9c\\xe9JR\\x94\\x94c\\x18\\xc61\\x84!\\x08=\\xcdbLB\\x98\\xeac\\x1a\\xf7\\xb0\\xe2\\x10F\\x85\\xa5JI\\x862\\x10\\x844'9\\xces\\x9c\\xe7JR\\x94\",\n",
              " b'\\x8cc\\x18\\xc60\\x84!\\x07\\xbd\\xcdZLB\\x94\\xecZ\\xd8\\xd6\\xb5\\xc9\\t\\x16\\xc4\\x99)9\\x88A\\x8c\\x84\"\\xa79\\xces\\x9c\\xe7JR\\x94\\x8cc\\x18\\xc6\\x10\\x84!\\x07\\xb5\\x8cQ\\xcet\\x1c\\xeaZR\\xa5\\xa1\\x08\\x12Rs\\x18\\xc6(\\xc6S\\x18\\x83\\x19[9\\xces\\x9c\\xe7JR\\x94',\n",
              " b'\\x8cc\\x18\\xc2\\x10\\x84!\\x07\\xad\\tZ\\x92\\x83\\xa1)R\\x0e\\x94\\x9c\\xa4\\x11Lc\\x18\\xc6(\\xc61\\x8cd!\\x0e\\xe9Ns\\x9c\\xe7JR\\x94\\x8cc\\x18B\\x10\\x84 \\xf7,\\xe5*\\x10s\\xa0\\xe89\\x8ab\\x8cB\\x10\\xc4!\\x94\\xa3!\\x881\\x88\\x84!\\n\\x86\\xcas\\x9c\\xe7JR\\x94',\n",
              " b'\\x8cc\\x18B\\x10\\x84\\x1e\\xf71\\x05)Jc\\x1d\\x089\\x8aR\\x14\\xa5)\\x8cR\\x10b\\x10\\xca!\\x8cc\\x19Jd:s\\x9c\\xe7JR\\x94\\x8cc\\x08B\\x10\\x84\\x1e\\xf6\\xad\\x07)\\x08B\\x98\\xc5(\\xc8C\\x1c\\xe91\\xceQ\\x84A\\x08\\x86Q\\x0cc!LS&3\\x9c\\xe7:R\\x94',\n",
              " b'\\x8cc\\x08B\\x10\\x84\\x1e\\xe6$\\xe79\\x08B\\x98\\xa5\\x19\\x0c1\\x08\\xc6!H\\x10\\x00!\\x08D2\\x88d)\\x8as\\x15\\x93\\x9c\\xe7:R\\x94\\x8ca\\x08B\\x10\\x83\\xde\\xd5\\xa5\\x061LR\\x10\\xc5\\x19\\x8aA\\x04!\\x00\\x02\\x10\\x84!\\x10\\x841\\x94d)Lc\\x11\\x12\\x9c\\xe7:R\\x94',\n",
              " b'\\x8ca\\x08B\\x10{\\xdc\\xd5%\\x06)\\xccq\\x90\\x83!\\x06A\\x08\"\\x08B\\x10\\x84A\\x10\\x841\\x90\\x83)\\x8cb\\x94\\xd0\\x9c\\xe79\\xd2\\x94\\x8c!\\x08B\\x10{\\xdc\\xc4\\xa0\\xe61\\x8aR\\x14d)\\x081\\x8c\"\\x10B \\x88c\\x18\\xc61\\x8c\\x84)\\xceb\\x11\\x10\\x9c\\xe79\\xd2\\x94',\n",
              " b'\\x8c!\\x08B\\x0f{\\xdc\\xb4\\x1c\\xe71H2\\x10\\x851L\\x82\\x94\\xa4\\x18\\x86 \\x88c\\x18\\xc82\\x14\\xc79\\xd0R\\x152\\x9c\\xe79\\xd2\\x94\\x8c!\\x08B\\x0f{\\xdc\\xb4\\x1c\\xc5)\\x88\"\\x0c\\x871V\\xc3\\x1c\\xa3\\x18\\xc8A\\x0cc \\xc8t%\\x06R\\x92\\x83\\x15R\\x9c\\xe79\\xce\\x94',\n",
              " b'\\x84!\\x08A\\xef{\\xdc\\xc4\\x9c\\xc5)J3\\x14\\x852X\\x95$\\xa5!JA\\x8cd!L\\x94\\xa1\\tcZ\\xa3\\x15s\\x9c\\xe79\\xcet\\x84!\\x08=\\xef{\\xdc\\xc5\\xa1\\x07)\\x08c\\x18\\xa5)N\\xb6 \\xc4)\\x882\\x10\\xa6)N\\x84\\xa9,SX\\xc3\\x9d\\xd3\\x9c\\xe79\\xcet',\n",
              " b'\\x84!\\x08=\\xef{\\xdc\\xd5%iI\\xcaB\\x14\\x85!\\x8ct\\x14\\xa51Jc\\x94\\xc7!\\x8a\\x85\\xb1\\x8acX\\xa4\\xaa3\\x9c\\xe79\\xcet\\x84!\\x07\\xbd\\xef{\\xde\\xc5)\\x08Q\\xces\\x14\\x85!JB\\x98\\x85)\\x8c\\x83\\x1c\\xa5)\\x90\\xa5%Kb\\xd6\\xd6\\xbes\\x9c\\xe79\\xces',\n",
              " b'\\x84!\\x07\\xbd\\xef{\\xde\\xe5\\xa1\\x08J\\x10t\\x18\\xe71LS\\x14\\xc8:\\x0es\\x14\\xa61\\xd0\\x94\\xa9\\xacJ\\x9a\\xe7\\xcas\\x9c\\xe79\\xces\\x84 \\xf7\\xbd\\xef{\\xde\\xf6)\\tJ\\x0et!HA\\xccs\\x14\\xe7A\\x8e\\x82\\x94\\xa7*\\x0e\\x84\\xa9\\x8ek\\x1c\\xe8Ns\\x9c\\xe79\\xces',\n",
              " b'\\x84\\x1e\\xf7\\xbd\\xef{\\xde\\xf7-)JP\\x94\\x9d*RPr\\xa1\\x059\\xd0B\\xa1\\x082\\x12\\x95%Jc\\x1a\\xf9Ns\\x9c\\xe79\\xces\\x84\\x1e\\xf7\\xbd\\xef{\\xde\\xf7\\xb9\\x8aZ\\x96\\xc5\\xa5H)\\x062\\x14\\xc69\\x88\\x84$\\xe7A\\xd0\\x94\\x14\\xc8RY\\t\\xces\\x9c\\xe79\\xces',\n",
              " b'\\x83\\xde\\xf7\\xbd\\xef{\\xde\\xf79\\xcdQ\\xd2\\xb6-\\x04\\x10\\x841\\x8chA\\xd0\\xa3\\xa5\\t9\\xceb\\x18\\xe6:\\x9f)\\xces\\x9c\\xe79\\xces{\\xde\\xf7\\xbd\\xef{\\xde\\xf79\\xcea\\xcac\\x9c\\xc3!Lt\\x1c\\xa3\\x19\\x8ad)\\x06)\\xcaR\\x14\\xc9\\\\%)Ns\\x9c\\xe79\\xces',\n",
              " b'{\\xde\\xf7\\xbd\\xef{\\xde\\xe79\\xcesT\\x84\\x18\\x84!\\x8e\\x94\\x18\\xc49\\xcas\\x8cC9\\x88R\\x9d,|\\xa5)Ns\\x9c\\xe79\\xces{\\xde\\xf7\\xbd\\xef{\\x9c\\xe79\\xces\\x9c\\xd6\\xb1\\x06)\\x8cB\\x8c\\x86R\\x0c1\\x0cc!\\nc\\xad\\xf1\\x94\\xa5)Js\\x9c\\xe79\\xces',\n",
              " b'{\\xde\\xf7\\xbd\\xef{\\x9c\\xe79\\xces\\x9c\\xe79\\xcdj\\x8eb\\x99\\nIFB\\x10\\xa6)\\xd4\\xd8FR\\x94\\xa5)JS\\x9c\\xe79\\xces{\\xde\\xf7\\xbd\\xefs\\x9c\\xe79\\xces\\x9c\\xe79\\xcf{\\x9a\\xb4\\xa1\\x08)Lt\\xad\\xadt#)JR\\x94\\xa5)JR\\x94\\xa79\\xces',\n",
              " b'{\\xde\\xf7\\xbd\\xefs\\x9c\\xe79\\xces\\x9c\\xe79\\xcf{\\xde\\xf7\\xb9\\xedc]\\x08\\xc61\\x8cc\\x19JR\\x94\\xa5)JR\\x94\\xa79\\xces{\\xde\\xf7\\xbd\\xefs\\x9c\\xe79\\xces\\x9c\\xe79\\xcf{\\xde\\xf7\\xc2\\x10\\x8cc\\x18\\xc61\\x8cc\\x19JR\\x94\\xa5)JR\\x94\\xa79\\xces']"
            ]
          },
          "metadata": {},
          "execution_count": 67
        }
      ]
    },
    {
      "cell_type": "code",
      "source": [
        "! pip install eciespy eth_keys cryptos qrcode base58 "
      ],
      "metadata": {
        "id": "QZifm154JW46",
        "outputId": "8424a1c1-47f1-4b7b-cec0-ad5fb72a161e",
        "colab": {
          "base_uri": "https://localhost:8080/"
        }
      },
      "execution_count": 69,
      "outputs": [
        {
          "output_type": "stream",
          "name": "stdout",
          "text": [
            "Requirement already satisfied: eciespy in /usr/local/lib/python3.7/dist-packages (0.3.11)\n",
            "Requirement already satisfied: eth_keys in /usr/local/lib/python3.7/dist-packages (0.3.4)\n",
            "Requirement already satisfied: cryptos in /usr/local/lib/python3.7/dist-packages (1.36)\n",
            "Requirement already satisfied: qrcode in /usr/local/lib/python3.7/dist-packages (7.3.1)\n",
            "Requirement already satisfied: base58 in /usr/local/lib/python3.7/dist-packages (2.1.1)\n",
            "Requirement already satisfied: coincurve<16,>=13 in /usr/local/lib/python3.7/dist-packages (from eciespy) (15.0.1)\n",
            "Requirement already satisfied: pycryptodome<4.0.0,>=3.9.9 in /usr/local/lib/python3.7/dist-packages (from eciespy) (3.14.1)\n",
            "Requirement already satisfied: eth-typing<3.0.0,>=2.2.1 in /usr/local/lib/python3.7/dist-packages (from eth_keys) (2.3.0)\n",
            "Requirement already satisfied: eth-utils<2.0.0,>=1.8.2 in /usr/local/lib/python3.7/dist-packages (from eth_keys) (1.10.0)\n",
            "Requirement already satisfied: asn1crypto in /usr/local/lib/python3.7/dist-packages (from coincurve<16,>=13->eciespy) (1.5.1)\n",
            "Requirement already satisfied: cffi>=1.3.0 in /usr/local/lib/python3.7/dist-packages (from coincurve<16,>=13->eciespy) (1.15.0)\n",
            "Requirement already satisfied: pycparser in /usr/local/lib/python3.7/dist-packages (from cffi>=1.3.0->coincurve<16,>=13->eciespy) (2.21)\n",
            "Requirement already satisfied: eth-hash<0.4.0,>=0.3.1 in /usr/local/lib/python3.7/dist-packages (from eth-utils<2.0.0,>=1.8.2->eth_keys) (0.3.2)\n",
            "Requirement already satisfied: cytoolz<1.0.0,>=0.10.1 in /usr/local/lib/python3.7/dist-packages (from eth-utils<2.0.0,>=1.8.2->eth_keys) (0.11.2)\n",
            "Requirement already satisfied: toolz>=0.8.0 in /usr/local/lib/python3.7/dist-packages (from cytoolz<1.0.0,>=0.10.1->eth-utils<2.0.0,>=1.8.2->eth_keys) (0.11.2)\n"
          ]
        }
      ]
    },
    {
      "cell_type": "code",
      "source": [
        "import pandas as pd\n",
        "from cryptos.py3specials import safe_hexlify, from_string_to_bytes, from_int_to_byte, from_string_to_bytes\n",
        "from cryptos import serialize,deserialize\n",
        "\n",
        "import hashlib\n",
        "import os\n",
        "import getpass\n",
        "import ecies\n",
        "import eth_keys\n",
        "import cryptos\n",
        "import qrcode\n",
        "import base58\n",
        "from PIL import Image\n",
        "import matplotlib.pyplot as plt\n",
        "%matplotlib inline\n",
        "\n",
        "def import_privKey(privkey_filepath,password=None):\n",
        "    if password==None:\n",
        "        password = getpass.getpass(\"Input password for decrypting keyfile: \")\n",
        "    password=password.encode()\n",
        "    f=open(privkey_filepath,'rb')\n",
        "    decrypted_bytes=ecies.aes_decrypt(key=hashlib.sha256(password).digest(),cipher_text=f.read())\n",
        "    privKey=eth_keys.keys.PrivateKey(decrypted_bytes)\n",
        "    return privKey\n",
        "\n",
        "def import_pubKey(pubkey_filepath):\n",
        "    f=open(pubkey_filepath,'rb')\n",
        "    privKey=eth_keys.keys.PublicKey(f.read())\n",
        "    return privKey\n",
        "\n",
        "def import_addr(addr_filepath):\n",
        "    return open(addr_filepath,'rb').read().decode()\n",
        "\n",
        "def only_conf(utxos):\n",
        "    return [utxo for utxo in utxos\n",
        "            if doge.fetchtx(utxo['output'].split(':')[0])['confirmations']>0]\n",
        "\n",
        "def mk_opreturn(msg, rawtx=None, json=0):\n",
        "    \n",
        "    def op_push(data):\n",
        "        if type(data) == bytes:\n",
        "            bytedata=data\n",
        "        else:\n",
        "            bytedata=data.encode()\n",
        "        import struct\n",
        "        if len(data) < 0x4c:\n",
        "            return from_int_to_byte(len(bytedata)) + bytedata\n",
        "        elif len(data) < 0xff:\n",
        "            return from_int_to_byte(76) + struct.pack('<B', len(bytedata)) + bytedata\n",
        "        elif len(data) < 0xffff:\n",
        "            return from_int_to_byte(77) + struct.pack('<H', len(bytedata)) + bytedata\n",
        "        elif len(data) < 0xffffffff:\n",
        "            return from_int_to_byte(78) + struct.pack('<I', len(bytedata)) + bytedata\n",
        "        else: raise Exception(\"Input data error. Rawtx must be hex chars\" \\\n",
        "                            + \"0xffffffff > len(data) > 0\")\n",
        "\n",
        "    orhex = safe_hexlify(b'\\x6a' + op_push(msg))\n",
        "    orjson = {'script' : orhex, 'value' : 0}\n",
        "    if rawtx is not None:\n",
        "        try:\n",
        "            txo = deserialize(rawtx)\n",
        "            if not 'outs' in txo.keys(): raise Exception(\"OP_Return cannot be the sole output!\")\n",
        "            txo['outs'].append(orjson)\n",
        "            newrawtx = serialize(txo)\n",
        "            return newrawtx\n",
        "        except Exception as E:\n",
        "            print(E)\n",
        "            print(type(E))\n",
        "            raise Exception(\"Raw Tx Error!\")\n",
        "    return orhex if not json else orjson"
      ],
      "metadata": {
        "id": "grmMh1V2M9sL"
      },
      "execution_count": 71,
      "outputs": []
    },
    {
      "cell_type": "code",
      "source": [
        "from google.colab import drive\n",
        "drive.mount('/content/drive')"
      ],
      "metadata": {
        "id": "qsBg50AOOqE_",
        "outputId": "4718160e-cc6b-4674-bb45-58d967173db6",
        "colab": {
          "base_uri": "https://localhost:8080/"
        }
      },
      "execution_count": 72,
      "outputs": [
        {
          "output_type": "stream",
          "name": "stdout",
          "text": [
            "Mounted at /content/drive\n"
          ]
        }
      ]
    },
    {
      "cell_type": "code",
      "source": [
        "! cp drive/MyDrive/cinv/llaves.zip llaves.zip \n",
        "! unzip llaves.zip"
      ],
      "metadata": {
        "id": "6KAu2_OsQBf_",
        "outputId": "998478d4-a34a-40d6-ca4d-e64183447982",
        "colab": {
          "base_uri": "https://localhost:8080/"
        }
      },
      "execution_count": 73,
      "outputs": [
        {
          "output_type": "stream",
          "name": "stdout",
          "text": [
            "Archive:  llaves.zip\n",
            "   creating: llaves/\n",
            " extracting: llaves/mi_addr.bin      \n",
            " extracting: llaves/mi_addr.png      \n",
            " extracting: llaves/mi_pub.bin       \n",
            " extracting: llaves/mi_prv.enc       \n"
          ]
        }
      ]
    },
    {
      "cell_type": "code",
      "source": [
        "from IPython.display import Image\n",
        "qr=Image('llaves/mi_addr.png')\n",
        "\n",
        "privKey=import_privKey('llaves/mi_prv.enc','')\n",
        "pub=import_pubKey('llaves/mi_pub.bin').to_hex()\n",
        "addr=import_addr('llaves/mi_addr.bin')\n",
        "\n",
        "display(qr)\n",
        "display(pub)\n",
        "display(addr)"
      ],
      "metadata": {
        "id": "_Zok6MGCQKnu",
        "outputId": "1b7ea4bb-2720-495a-a353-e3a92e1bb5fa",
        "colab": {
          "base_uri": "https://localhost:8080/",
          "height": 218
        }
      },
      "execution_count": 74,
      "outputs": [
        {
          "output_type": "display_data",
          "data": {
            "text/plain": [
              "<IPython.core.display.Image object>"
            ],
            "image/png": "[encoded data removed]"
          },
          "metadata": {}
        },
        {
          "output_type": "display_data",
          "data": {
            "text/plain": [
              "'0x7c88e9a4df6e9f45656c10bf66f28e28be235a15b64820b254f1b9eb2738314e6769f5c94da0c7640ffe76dcffca053b07a0804cd53a1c51ad03bfe0133ce8c5'"
            ],
            "application/vnd.google.colaboratory.intrinsic+json": {
              "type": "string"
            }
          },
          "metadata": {}
        },
        {
          "output_type": "display_data",
          "data": {
            "text/plain": [
              "'D6zKNnkupqRbkB9p5rwix8QiobQWJazjyX'"
            ],
            "application/vnd.google.colaboratory.intrinsic+json": {
              "type": "string"
            }
          },
          "metadata": {}
        }
      ]
    },
    {
      "cell_type": "code",
      "source": [
        "doge=cryptos.Doge()\n",
        "#addy=doge.privtoaddr(privkeyhex)\n",
        "doge_unspents=only_conf( doge.unspent(addr) )\n",
        "doge_unspent_total=sum([unspent['value'] for unspent in doge_unspents])\n",
        "doge_unspent_total/10**8"
      ],
      "metadata": {
        "id": "LcQ5g4f_QP67",
        "outputId": "6ac20f70-8456-4190-995e-ae83c2704712",
        "colab": {
          "base_uri": "https://localhost:8080/"
        }
      },
      "execution_count": 84,
      "outputs": [
        {
          "output_type": "execute_result",
          "data": {
            "text/plain": [
              "165.0"
            ]
          },
          "metadata": {},
          "execution_count": 84
        }
      ]
    },
    {
      "cell_type": "code",
      "source": [
        "tip=8_00_000_000\n",
        "available=doge_unspent_total-tip\n",
        "n=len(package)\n",
        "gift=int(available/n)\n",
        "outputs=[{'value':gift , 'address': addr} for i in range(33)]\n",
        "setup_tx=doge.mktx(doge_unspents,outputs)"
      ],
      "metadata": {
        "id": "HHyH8E3yQ8Mg"
      },
      "execution_count": 85,
      "outputs": []
    },
    {
      "cell_type": "code",
      "source": [
        "doge.signall(setup_tx,privKey.to_hex()[2:])"
      ],
      "metadata": {
        "id": "am6AtFyBQ-uI",
        "outputId": "bbd9865a-7e6d-4634-a453-f1fefdc89dd6",
        "colab": {
          "base_uri": "https://localhost:8080/",
          "height": 160
        }
      },
      "execution_count": 86,
      "outputs": [
        {
          "output_type": "execute_result",
          "data": {
            "text/plain": [
              "'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'"
            ],
            "application/vnd.google.colaboratory.intrinsic+json": {
              "type": "string"
            }
          },
          "metadata": {},
          "execution_count": 86
        }
      ]
    },
    {
      "cell_type": "code",
      "source": [
        "len(cryptos.serialize(setup_tx))/2"
      ],
      "metadata": {
        "id": "JeOmghAEWoZa",
        "outputId": "2a8b9811-8437-4ae7-890b-bed6aa2112f1",
        "colab": {
          "base_uri": "https://localhost:8080/"
        }
      },
      "execution_count": 90,
      "outputs": [
        {
          "output_type": "execute_result",
          "data": {
            "text/plain": [
              "1491.0"
            ]
          },
          "metadata": {},
          "execution_count": 90
        }
      ]
    },
    {
      "cell_type": "code",
      "source": [
        "doge.pushtx(cryptos.serialize(setup_tx))"
      ],
      "metadata": {
        "id": "cjn_Pt28WDJx",
        "outputId": "6142289c-9338-48b1-b0c5-148fcabb1f7e",
        "colab": {
          "base_uri": "https://localhost:8080/"
        }
      },
      "execution_count": 88,
      "outputs": [
        {
          "output_type": "execute_result",
          "data": {
            "text/plain": [
              "{'data': {'network': 'DOGE',\n",
              "  'txid': 'a2e9f2ebe1ceeae368b734fcd861549c813d5cfb009093237f86b71f0048bda7'},\n",
              " 'status': 'success'}"
            ]
          },
          "metadata": {},
          "execution_count": 88
        }
      ]
    },
    {
      "cell_type": "code",
      "source": [
        "doge.fetchtx('a2e9f2ebe1ceeae368b734fcd861549c813d5cfb009093237f86b71f0048bda7')"
      ],
      "metadata": {
        "id": "aSKkBI_MWN-4",
        "outputId": "92ad38bf-2713-43f4-ab22-c06c23d52231",
        "colab": {
          "base_uri": "https://localhost:8080/"
        }
      },
      "execution_count": 89,
      "outputs": [
        {
          "output_type": "execute_result",
          "data": {
            "text/plain": [
              "{'blockhash': '2813436a75e902fb9992fce65f1376484daa369ebe7bd04a04d361464dc3142d',\n",
              " 'confirmations': 1,\n",
              " 'inputs': [{'address': 'D6zKNnkupqRbkB9p5rwix8QiobQWJazjyX',\n",
              "   'from_output': {'output_no': 0,\n",
              "    'txid': '8227df752e185d74665dbd726a4fad822c7edf61cb6ea2baf6a4c670299d7e2f'},\n",
              "   'input_no': 0,\n",
              "   'script': '3045022100bbaa02298c147eb7ac3430365adf58acca55e1d0d4ea481383c81c478fb3842a0220719eee2ed36f745b3cf0169bd6535d968da022c840c13e79eaf9e4ec3b63943201 047c88e9a4df6e9f45656c10bf66f28e28be235a15b64820b254f1b9eb2738314e6769f5c94da0c7640ffe76dcffca053b07a0804cd53a1c51ad03bfe0133ce8c5',\n",
              "   'sequence': 4294967295,\n",
              "   'type': 'pubkeyhash',\n",
              "   'value': '15.00000000',\n",
              "   'witness': None},\n",
              "  {'address': 'D6zKNnkupqRbkB9p5rwix8QiobQWJazjyX',\n",
              "   'from_output': {'output_no': 0,\n",
              "    'txid': '4cae213cae278402d2034e61cd4ea6c7ef44dfaeadec0ee400547a03ebe45e8c'},\n",
              "   'input_no': 1,\n",
              "   'script': '304402205b6f2e1697d31a14aac4823af75950fec3da411670b2b4448255e1834df6e16502203915681a91ea5ed745ce57f7c8e20d20af9f35a3797119669f3d54e817b77e1301 047c88e9a4df6e9f45656c10bf66f28e28be235a15b64820b254f1b9eb2738314e6769f5c94da0c7640ffe76dcffca053b07a0804cd53a1c51ad03bfe0133ce8c5',\n",
              "   'sequence': 4294967295,\n",
              "   'type': 'pubkeyhash',\n",
              "   'value': '150.00000000',\n",
              "   'witness': None}],\n",
              " 'locktime': 0,\n",
              " 'network': 'DOGE',\n",
              " 'network_fee': '8.00000025',\n",
              " 'outputs': [{'address': 'D6zKNnkupqRbkB9p5rwix8QiobQWJazjyX',\n",
              "   'output_no': 0,\n",
              "   'script': 'OP_DUP OP_HASH160 144739367df0ff8d1c61d03704298d49cf93ef3f OP_EQUALVERIFY OP_CHECKSIG',\n",
              "   'type': 'pubkeyhash',\n",
              "   'value': '4.75757575'},\n",
              "  {'address': 'D6zKNnkupqRbkB9p5rwix8QiobQWJazjyX',\n",
              "   'output_no': 1,\n",
              "   'script': 'OP_DUP OP_HASH160 144739367df0ff8d1c61d03704298d49cf93ef3f OP_EQUALVERIFY OP_CHECKSIG',\n",
              "   'type': 'pubkeyhash',\n",
              "   'value': '4.75757575'},\n",
              "  {'address': 'D6zKNnkupqRbkB9p5rwix8QiobQWJazjyX',\n",
              "   'output_no': 2,\n",
              "   'script': 'OP_DUP OP_HASH160 144739367df0ff8d1c61d03704298d49cf93ef3f OP_EQUALVERIFY OP_CHECKSIG',\n",
              "   'type': 'pubkeyhash',\n",
              "   'value': '4.75757575'},\n",
              "  {'address': 'D6zKNnkupqRbkB9p5rwix8QiobQWJazjyX',\n",
              "   'output_no': 3,\n",
              "   'script': 'OP_DUP OP_HASH160 144739367df0ff8d1c61d03704298d49cf93ef3f OP_EQUALVERIFY OP_CHECKSIG',\n",
              "   'type': 'pubkeyhash',\n",
              "   'value': '4.75757575'},\n",
              "  {'address': 'D6zKNnkupqRbkB9p5rwix8QiobQWJazjyX',\n",
              "   'output_no': 4,\n",
              "   'script': 'OP_DUP OP_HASH160 144739367df0ff8d1c61d03704298d49cf93ef3f OP_EQUALVERIFY OP_CHECKSIG',\n",
              "   'type': 'pubkeyhash',\n",
              "   'value': '4.75757575'},\n",
              "  {'address': 'D6zKNnkupqRbkB9p5rwix8QiobQWJazjyX',\n",
              "   'output_no': 5,\n",
              "   'script': 'OP_DUP OP_HASH160 144739367df0ff8d1c61d03704298d49cf93ef3f OP_EQUALVERIFY OP_CHECKSIG',\n",
              "   'type': 'pubkeyhash',\n",
              "   'value': '4.75757575'},\n",
              "  {'address': 'D6zKNnkupqRbkB9p5rwix8QiobQWJazjyX',\n",
              "   'output_no': 6,\n",
              "   'script': 'OP_DUP OP_HASH160 144739367df0ff8d1c61d03704298d49cf93ef3f OP_EQUALVERIFY OP_CHECKSIG',\n",
              "   'type': 'pubkeyhash',\n",
              "   'value': '4.75757575'},\n",
              "  {'address': 'D6zKNnkupqRbkB9p5rwix8QiobQWJazjyX',\n",
              "   'output_no': 7,\n",
              "   'script': 'OP_DUP OP_HASH160 144739367df0ff8d1c61d03704298d49cf93ef3f OP_EQUALVERIFY OP_CHECKSIG',\n",
              "   'type': 'pubkeyhash',\n",
              "   'value': '4.75757575'},\n",
              "  {'address': 'D6zKNnkupqRbkB9p5rwix8QiobQWJazjyX',\n",
              "   'output_no': 8,\n",
              "   'script': 'OP_DUP OP_HASH160 144739367df0ff8d1c61d03704298d49cf93ef3f OP_EQUALVERIFY OP_CHECKSIG',\n",
              "   'type': 'pubkeyhash',\n",
              "   'value': '4.75757575'},\n",
              "  {'address': 'D6zKNnkupqRbkB9p5rwix8QiobQWJazjyX',\n",
              "   'output_no': 9,\n",
              "   'script': 'OP_DUP OP_HASH160 144739367df0ff8d1c61d03704298d49cf93ef3f OP_EQUALVERIFY OP_CHECKSIG',\n",
              "   'type': 'pubkeyhash',\n",
              "   'value': '4.75757575'},\n",
              "  {'address': 'D6zKNnkupqRbkB9p5rwix8QiobQWJazjyX',\n",
              "   'output_no': 10,\n",
              "   'script': 'OP_DUP OP_HASH160 144739367df0ff8d1c61d03704298d49cf93ef3f OP_EQUALVERIFY OP_CHECKSIG',\n",
              "   'type': 'pubkeyhash',\n",
              "   'value': '4.75757575'},\n",
              "  {'address': 'D6zKNnkupqRbkB9p5rwix8QiobQWJazjyX',\n",
              "   'output_no': 11,\n",
              "   'script': 'OP_DUP OP_HASH160 144739367df0ff8d1c61d03704298d49cf93ef3f OP_EQUALVERIFY OP_CHECKSIG',\n",
              "   'type': 'pubkeyhash',\n",
              "   'value': '4.75757575'},\n",
              "  {'address': 'D6zKNnkupqRbkB9p5rwix8QiobQWJazjyX',\n",
              "   'output_no': 12,\n",
              "   'script': 'OP_DUP OP_HASH160 144739367df0ff8d1c61d03704298d49cf93ef3f OP_EQUALVERIFY OP_CHECKSIG',\n",
              "   'type': 'pubkeyhash',\n",
              "   'value': '4.75757575'},\n",
              "  {'address': 'D6zKNnkupqRbkB9p5rwix8QiobQWJazjyX',\n",
              "   'output_no': 13,\n",
              "   'script': 'OP_DUP OP_HASH160 144739367df0ff8d1c61d03704298d49cf93ef3f OP_EQUALVERIFY OP_CHECKSIG',\n",
              "   'type': 'pubkeyhash',\n",
              "   'value': '4.75757575'},\n",
              "  {'address': 'D6zKNnkupqRbkB9p5rwix8QiobQWJazjyX',\n",
              "   'output_no': 14,\n",
              "   'script': 'OP_DUP OP_HASH160 144739367df0ff8d1c61d03704298d49cf93ef3f OP_EQUALVERIFY OP_CHECKSIG',\n",
              "   'type': 'pubkeyhash',\n",
              "   'value': '4.75757575'},\n",
              "  {'address': 'D6zKNnkupqRbkB9p5rwix8QiobQWJazjyX',\n",
              "   'output_no': 15,\n",
              "   'script': 'OP_DUP OP_HASH160 144739367df0ff8d1c61d03704298d49cf93ef3f OP_EQUALVERIFY OP_CHECKSIG',\n",
              "   'type': 'pubkeyhash',\n",
              "   'value': '4.75757575'},\n",
              "  {'address': 'D6zKNnkupqRbkB9p5rwix8QiobQWJazjyX',\n",
              "   'output_no': 16,\n",
              "   'script': 'OP_DUP OP_HASH160 144739367df0ff8d1c61d03704298d49cf93ef3f OP_EQUALVERIFY OP_CHECKSIG',\n",
              "   'type': 'pubkeyhash',\n",
              "   'value': '4.75757575'},\n",
              "  {'address': 'D6zKNnkupqRbkB9p5rwix8QiobQWJazjyX',\n",
              "   'output_no': 17,\n",
              "   'script': 'OP_DUP OP_HASH160 144739367df0ff8d1c61d03704298d49cf93ef3f OP_EQUALVERIFY OP_CHECKSIG',\n",
              "   'type': 'pubkeyhash',\n",
              "   'value': '4.75757575'},\n",
              "  {'address': 'D6zKNnkupqRbkB9p5rwix8QiobQWJazjyX',\n",
              "   'output_no': 18,\n",
              "   'script': 'OP_DUP OP_HASH160 144739367df0ff8d1c61d03704298d49cf93ef3f OP_EQUALVERIFY OP_CHECKSIG',\n",
              "   'type': 'pubkeyhash',\n",
              "   'value': '4.75757575'},\n",
              "  {'address': 'D6zKNnkupqRbkB9p5rwix8QiobQWJazjyX',\n",
              "   'output_no': 19,\n",
              "   'script': 'OP_DUP OP_HASH160 144739367df0ff8d1c61d03704298d49cf93ef3f OP_EQUALVERIFY OP_CHECKSIG',\n",
              "   'type': 'pubkeyhash',\n",
              "   'value': '4.75757575'},\n",
              "  {'address': 'D6zKNnkupqRbkB9p5rwix8QiobQWJazjyX',\n",
              "   'output_no': 20,\n",
              "   'script': 'OP_DUP OP_HASH160 144739367df0ff8d1c61d03704298d49cf93ef3f OP_EQUALVERIFY OP_CHECKSIG',\n",
              "   'type': 'pubkeyhash',\n",
              "   'value': '4.75757575'},\n",
              "  {'address': 'D6zKNnkupqRbkB9p5rwix8QiobQWJazjyX',\n",
              "   'output_no': 21,\n",
              "   'script': 'OP_DUP OP_HASH160 144739367df0ff8d1c61d03704298d49cf93ef3f OP_EQUALVERIFY OP_CHECKSIG',\n",
              "   'type': 'pubkeyhash',\n",
              "   'value': '4.75757575'},\n",
              "  {'address': 'D6zKNnkupqRbkB9p5rwix8QiobQWJazjyX',\n",
              "   'output_no': 22,\n",
              "   'script': 'OP_DUP OP_HASH160 144739367df0ff8d1c61d03704298d49cf93ef3f OP_EQUALVERIFY OP_CHECKSIG',\n",
              "   'type': 'pubkeyhash',\n",
              "   'value': '4.75757575'},\n",
              "  {'address': 'D6zKNnkupqRbkB9p5rwix8QiobQWJazjyX',\n",
              "   'output_no': 23,\n",
              "   'script': 'OP_DUP OP_HASH160 144739367df0ff8d1c61d03704298d49cf93ef3f OP_EQUALVERIFY OP_CHECKSIG',\n",
              "   'type': 'pubkeyhash',\n",
              "   'value': '4.75757575'},\n",
              "  {'address': 'D6zKNnkupqRbkB9p5rwix8QiobQWJazjyX',\n",
              "   'output_no': 24,\n",
              "   'script': 'OP_DUP OP_HASH160 144739367df0ff8d1c61d03704298d49cf93ef3f OP_EQUALVERIFY OP_CHECKSIG',\n",
              "   'type': 'pubkeyhash',\n",
              "   'value': '4.75757575'},\n",
              "  {'address': 'D6zKNnkupqRbkB9p5rwix8QiobQWJazjyX',\n",
              "   'output_no': 25,\n",
              "   'script': 'OP_DUP OP_HASH160 144739367df0ff8d1c61d03704298d49cf93ef3f OP_EQUALVERIFY OP_CHECKSIG',\n",
              "   'type': 'pubkeyhash',\n",
              "   'value': '4.75757575'},\n",
              "  {'address': 'D6zKNnkupqRbkB9p5rwix8QiobQWJazjyX',\n",
              "   'output_no': 26,\n",
              "   'script': 'OP_DUP OP_HASH160 144739367df0ff8d1c61d03704298d49cf93ef3f OP_EQUALVERIFY OP_CHECKSIG',\n",
              "   'type': 'pubkeyhash',\n",
              "   'value': '4.75757575'},\n",
              "  {'address': 'D6zKNnkupqRbkB9p5rwix8QiobQWJazjyX',\n",
              "   'output_no': 27,\n",
              "   'script': 'OP_DUP OP_HASH160 144739367df0ff8d1c61d03704298d49cf93ef3f OP_EQUALVERIFY OP_CHECKSIG',\n",
              "   'type': 'pubkeyhash',\n",
              "   'value': '4.75757575'},\n",
              "  {'address': 'D6zKNnkupqRbkB9p5rwix8QiobQWJazjyX',\n",
              "   'output_no': 28,\n",
              "   'script': 'OP_DUP OP_HASH160 144739367df0ff8d1c61d03704298d49cf93ef3f OP_EQUALVERIFY OP_CHECKSIG',\n",
              "   'type': 'pubkeyhash',\n",
              "   'value': '4.75757575'},\n",
              "  {'address': 'D6zKNnkupqRbkB9p5rwix8QiobQWJazjyX',\n",
              "   'output_no': 29,\n",
              "   'script': 'OP_DUP OP_HASH160 144739367df0ff8d1c61d03704298d49cf93ef3f OP_EQUALVERIFY OP_CHECKSIG',\n",
              "   'type': 'pubkeyhash',\n",
              "   'value': '4.75757575'},\n",
              "  {'address': 'D6zKNnkupqRbkB9p5rwix8QiobQWJazjyX',\n",
              "   'output_no': 30,\n",
              "   'script': 'OP_DUP OP_HASH160 144739367df0ff8d1c61d03704298d49cf93ef3f OP_EQUALVERIFY OP_CHECKSIG',\n",
              "   'type': 'pubkeyhash',\n",
              "   'value': '4.75757575'},\n",
              "  {'address': 'D6zKNnkupqRbkB9p5rwix8QiobQWJazjyX',\n",
              "   'output_no': 31,\n",
              "   'script': 'OP_DUP OP_HASH160 144739367df0ff8d1c61d03704298d49cf93ef3f OP_EQUALVERIFY OP_CHECKSIG',\n",
              "   'type': 'pubkeyhash',\n",
              "   'value': '4.75757575'},\n",
              "  {'address': 'D6zKNnkupqRbkB9p5rwix8QiobQWJazjyX',\n",
              "   'output_no': 32,\n",
              "   'script': 'OP_DUP OP_HASH160 144739367df0ff8d1c61d03704298d49cf93ef3f OP_EQUALVERIFY OP_CHECKSIG',\n",
              "   'type': 'pubkeyhash',\n",
              "   'value': '4.75757575'}],\n",
              " 'size': 1491,\n",
              " 'time': 1652377090,\n",
              " 'tx_hex': '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',\n",
              " 'txid': 'a2e9f2ebe1ceeae368b734fcd861549c813d5cfb009093237f86b71f0048bda7',\n",
              " 'version': 1,\n",
              " 'vsize': 1491}"
            ]
          },
          "metadata": {},
          "execution_count": 89
        }
      ]
    },
    {
      "cell_type": "code",
      "source": [
        "sparkle_unspents=only_conf( doge.unspent(addr) )\n",
        "sparkle_unspents"
      ],
      "metadata": {
        "id": "f7_3zSOzWa5f",
        "outputId": "199a5633-dbf5-479d-faba-ad33a90445ab",
        "colab": {
          "base_uri": "https://localhost:8080/"
        }
      },
      "execution_count": 92,
      "outputs": [
        {
          "output_type": "execute_result",
          "data": {
            "text/plain": [
              "[{'output': 'a2e9f2ebe1ceeae368b734fcd861549c813d5cfb009093237f86b71f0048bda7:0',\n",
              "  'value': 475757575},\n",
              " {'output': 'a2e9f2ebe1ceeae368b734fcd861549c813d5cfb009093237f86b71f0048bda7:1',\n",
              "  'value': 475757575},\n",
              " {'output': 'a2e9f2ebe1ceeae368b734fcd861549c813d5cfb009093237f86b71f0048bda7:2',\n",
              "  'value': 475757575},\n",
              " {'output': 'a2e9f2ebe1ceeae368b734fcd861549c813d5cfb009093237f86b71f0048bda7:3',\n",
              "  'value': 475757575},\n",
              " {'output': 'a2e9f2ebe1ceeae368b734fcd861549c813d5cfb009093237f86b71f0048bda7:4',\n",
              "  'value': 475757575},\n",
              " {'output': 'a2e9f2ebe1ceeae368b734fcd861549c813d5cfb009093237f86b71f0048bda7:5',\n",
              "  'value': 475757575},\n",
              " {'output': 'a2e9f2ebe1ceeae368b734fcd861549c813d5cfb009093237f86b71f0048bda7:6',\n",
              "  'value': 475757575},\n",
              " {'output': 'a2e9f2ebe1ceeae368b734fcd861549c813d5cfb009093237f86b71f0048bda7:7',\n",
              "  'value': 475757575},\n",
              " {'output': 'a2e9f2ebe1ceeae368b734fcd861549c813d5cfb009093237f86b71f0048bda7:8',\n",
              "  'value': 475757575},\n",
              " {'output': 'a2e9f2ebe1ceeae368b734fcd861549c813d5cfb009093237f86b71f0048bda7:9',\n",
              "  'value': 475757575},\n",
              " {'output': 'a2e9f2ebe1ceeae368b734fcd861549c813d5cfb009093237f86b71f0048bda7:10',\n",
              "  'value': 475757575},\n",
              " {'output': 'a2e9f2ebe1ceeae368b734fcd861549c813d5cfb009093237f86b71f0048bda7:11',\n",
              "  'value': 475757575},\n",
              " {'output': 'a2e9f2ebe1ceeae368b734fcd861549c813d5cfb009093237f86b71f0048bda7:12',\n",
              "  'value': 475757575},\n",
              " {'output': 'a2e9f2ebe1ceeae368b734fcd861549c813d5cfb009093237f86b71f0048bda7:13',\n",
              "  'value': 475757575},\n",
              " {'output': 'a2e9f2ebe1ceeae368b734fcd861549c813d5cfb009093237f86b71f0048bda7:14',\n",
              "  'value': 475757575},\n",
              " {'output': 'a2e9f2ebe1ceeae368b734fcd861549c813d5cfb009093237f86b71f0048bda7:15',\n",
              "  'value': 475757575},\n",
              " {'output': 'a2e9f2ebe1ceeae368b734fcd861549c813d5cfb009093237f86b71f0048bda7:16',\n",
              "  'value': 475757575},\n",
              " {'output': 'a2e9f2ebe1ceeae368b734fcd861549c813d5cfb009093237f86b71f0048bda7:17',\n",
              "  'value': 475757575},\n",
              " {'output': 'a2e9f2ebe1ceeae368b734fcd861549c813d5cfb009093237f86b71f0048bda7:18',\n",
              "  'value': 475757575},\n",
              " {'output': 'a2e9f2ebe1ceeae368b734fcd861549c813d5cfb009093237f86b71f0048bda7:19',\n",
              "  'value': 475757575},\n",
              " {'output': 'a2e9f2ebe1ceeae368b734fcd861549c813d5cfb009093237f86b71f0048bda7:20',\n",
              "  'value': 475757575},\n",
              " {'output': 'a2e9f2ebe1ceeae368b734fcd861549c813d5cfb009093237f86b71f0048bda7:21',\n",
              "  'value': 475757575},\n",
              " {'output': 'a2e9f2ebe1ceeae368b734fcd861549c813d5cfb009093237f86b71f0048bda7:22',\n",
              "  'value': 475757575},\n",
              " {'output': 'a2e9f2ebe1ceeae368b734fcd861549c813d5cfb009093237f86b71f0048bda7:23',\n",
              "  'value': 475757575},\n",
              " {'output': 'a2e9f2ebe1ceeae368b734fcd861549c813d5cfb009093237f86b71f0048bda7:24',\n",
              "  'value': 475757575},\n",
              " {'output': 'a2e9f2ebe1ceeae368b734fcd861549c813d5cfb009093237f86b71f0048bda7:25',\n",
              "  'value': 475757575},\n",
              " {'output': 'a2e9f2ebe1ceeae368b734fcd861549c813d5cfb009093237f86b71f0048bda7:26',\n",
              "  'value': 475757575},\n",
              " {'output': 'a2e9f2ebe1ceeae368b734fcd861549c813d5cfb009093237f86b71f0048bda7:27',\n",
              "  'value': 475757575},\n",
              " {'output': 'a2e9f2ebe1ceeae368b734fcd861549c813d5cfb009093237f86b71f0048bda7:28',\n",
              "  'value': 475757575},\n",
              " {'output': 'a2e9f2ebe1ceeae368b734fcd861549c813d5cfb009093237f86b71f0048bda7:29',\n",
              "  'value': 475757575},\n",
              " {'output': 'a2e9f2ebe1ceeae368b734fcd861549c813d5cfb009093237f86b71f0048bda7:30',\n",
              "  'value': 475757575},\n",
              " {'output': 'a2e9f2ebe1ceeae368b734fcd861549c813d5cfb009093237f86b71f0048bda7:31',\n",
              "  'value': 475757575},\n",
              " {'output': 'a2e9f2ebe1ceeae368b734fcd861549c813d5cfb009093237f86b71f0048bda7:32',\n",
              "  'value': 475757575}]"
            ]
          },
          "metadata": {},
          "execution_count": 92
        }
      ]
    },
    {
      "cell_type": "code",
      "source": [
        "input_monolists=[ [elem] for elem in sparkle_unspents]"
      ],
      "metadata": {
        "id": "jWsw8FwjW7-R"
      },
      "execution_count": 97,
      "outputs": []
    },
    {
      "cell_type": "code",
      "source": [
        "write_tip=2_00_000_000\n",
        "outputs=[ [{'value':elem['value']-write_tip , 'address': addr}] for elem in sparkle_unspents]"
      ],
      "metadata": {
        "id": "va9YuOSTXVYK"
      },
      "execution_count": 98,
      "outputs": []
    },
    {
      "cell_type": "code",
      "source": [
        "outputs"
      ],
      "metadata": {
        "id": "CWR_bruJZB8J",
        "outputId": "85df6167-3c52-461a-aecb-4cf9bf1d8a27",
        "colab": {
          "base_uri": "https://localhost:8080/"
        }
      },
      "execution_count": 99,
      "outputs": [
        {
          "output_type": "execute_result",
          "data": {
            "text/plain": [
              "[[{'address': 'D6zKNnkupqRbkB9p5rwix8QiobQWJazjyX', 'value': 275757575}],\n",
              " [{'address': 'D6zKNnkupqRbkB9p5rwix8QiobQWJazjyX', 'value': 275757575}],\n",
              " [{'address': 'D6zKNnkupqRbkB9p5rwix8QiobQWJazjyX', 'value': 275757575}],\n",
              " [{'address': 'D6zKNnkupqRbkB9p5rwix8QiobQWJazjyX', 'value': 275757575}],\n",
              " [{'address': 'D6zKNnkupqRbkB9p5rwix8QiobQWJazjyX', 'value': 275757575}],\n",
              " [{'address': 'D6zKNnkupqRbkB9p5rwix8QiobQWJazjyX', 'value': 275757575}],\n",
              " [{'address': 'D6zKNnkupqRbkB9p5rwix8QiobQWJazjyX', 'value': 275757575}],\n",
              " [{'address': 'D6zKNnkupqRbkB9p5rwix8QiobQWJazjyX', 'value': 275757575}],\n",
              " [{'address': 'D6zKNnkupqRbkB9p5rwix8QiobQWJazjyX', 'value': 275757575}],\n",
              " [{'address': 'D6zKNnkupqRbkB9p5rwix8QiobQWJazjyX', 'value': 275757575}],\n",
              " [{'address': 'D6zKNnkupqRbkB9p5rwix8QiobQWJazjyX', 'value': 275757575}],\n",
              " [{'address': 'D6zKNnkupqRbkB9p5rwix8QiobQWJazjyX', 'value': 275757575}],\n",
              " [{'address': 'D6zKNnkupqRbkB9p5rwix8QiobQWJazjyX', 'value': 275757575}],\n",
              " [{'address': 'D6zKNnkupqRbkB9p5rwix8QiobQWJazjyX', 'value': 275757575}],\n",
              " [{'address': 'D6zKNnkupqRbkB9p5rwix8QiobQWJazjyX', 'value': 275757575}],\n",
              " [{'address': 'D6zKNnkupqRbkB9p5rwix8QiobQWJazjyX', 'value': 275757575}],\n",
              " [{'address': 'D6zKNnkupqRbkB9p5rwix8QiobQWJazjyX', 'value': 275757575}],\n",
              " [{'address': 'D6zKNnkupqRbkB9p5rwix8QiobQWJazjyX', 'value': 275757575}],\n",
              " [{'address': 'D6zKNnkupqRbkB9p5rwix8QiobQWJazjyX', 'value': 275757575}],\n",
              " [{'address': 'D6zKNnkupqRbkB9p5rwix8QiobQWJazjyX', 'value': 275757575}],\n",
              " [{'address': 'D6zKNnkupqRbkB9p5rwix8QiobQWJazjyX', 'value': 275757575}],\n",
              " [{'address': 'D6zKNnkupqRbkB9p5rwix8QiobQWJazjyX', 'value': 275757575}],\n",
              " [{'address': 'D6zKNnkupqRbkB9p5rwix8QiobQWJazjyX', 'value': 275757575}],\n",
              " [{'address': 'D6zKNnkupqRbkB9p5rwix8QiobQWJazjyX', 'value': 275757575}],\n",
              " [{'address': 'D6zKNnkupqRbkB9p5rwix8QiobQWJazjyX', 'value': 275757575}],\n",
              " [{'address': 'D6zKNnkupqRbkB9p5rwix8QiobQWJazjyX', 'value': 275757575}],\n",
              " [{'address': 'D6zKNnkupqRbkB9p5rwix8QiobQWJazjyX', 'value': 275757575}],\n",
              " [{'address': 'D6zKNnkupqRbkB9p5rwix8QiobQWJazjyX', 'value': 275757575}],\n",
              " [{'address': 'D6zKNnkupqRbkB9p5rwix8QiobQWJazjyX', 'value': 275757575}],\n",
              " [{'address': 'D6zKNnkupqRbkB9p5rwix8QiobQWJazjyX', 'value': 275757575}],\n",
              " [{'address': 'D6zKNnkupqRbkB9p5rwix8QiobQWJazjyX', 'value': 275757575}],\n",
              " [{'address': 'D6zKNnkupqRbkB9p5rwix8QiobQWJazjyX', 'value': 275757575}],\n",
              " [{'address': 'D6zKNnkupqRbkB9p5rwix8QiobQWJazjyX', 'value': 275757575}]]"
            ]
          },
          "metadata": {},
          "execution_count": 99
        }
      ]
    },
    {
      "cell_type": "code",
      "source": [
        ""
      ],
      "metadata": {
        "id": "oOxcnyEoaHQy"
      },
      "execution_count": null,
      "outputs": []
    },
    {
      "cell_type": "markdown",
      "source": [
        "        doge_serial_tx=cryptos.serialize(doge_tx)\n",
        "        doge_inscribed_serial_tx=mk_opreturn( op_return , doge_serial_tx)\n",
        "        doge_inscribed_tx=cryptos.deserialize(doge_inscribed_serial_tx)\n",
        "        doge_signed_inscribed_tx=doge.signall(doge_inscribed_tx,privkeyhex)\n",
        "        broadcast_doge_signed_inscribed_tx=doge.pushtx(doge_signed_inscribed_tx)"
      ],
      "metadata": {
        "id": "ZoLKLTRAaIMA"
      }
    },
    {
      "cell_type": "code",
      "source": [
        "txns=[ doge.mktx(input_monolists[i],outputs[i]) for i in range(33)]"
      ],
      "metadata": {
        "id": "OKdRi52wZDVT"
      },
      "execution_count": 101,
      "outputs": []
    },
    {
      "cell_type": "code",
      "source": [
        "serial_txns=[cryptos.serialize(tx) for tx in txns]"
      ],
      "metadata": {
        "id": "coyyPLO1Z4Xo"
      },
      "execution_count": 102,
      "outputs": []
    },
    {
      "cell_type": "code",
      "source": [
        "inscribed_serial_txs=[mk_opreturn( package[i] , serial_txns[i]) for i in range(33)]"
      ],
      "metadata": {
        "id": "4oP0KQqFaTD3"
      },
      "execution_count": 103,
      "outputs": []
    },
    {
      "cell_type": "code",
      "source": [
        "inscribed_serial_txs"
      ],
      "metadata": {
        "id": "TjjbY7FBbEFs",
        "outputId": "7043ac5c-ec62-417e-e7ba-631607b9a7c6",
        "colab": {
          "base_uri": "https://localhost:8080/"
        }
      },
      "execution_count": 104,
      "outputs": [
        {
          "output_type": "execute_result",
          "data": {
            "text/plain": [
              "['0100000001a7bd48001fb7867f23939000fb5c3d819c5461d8fc34b768e3eacee1ebf2e9a20000000000ffffffff0207ba6f10000000001976a914144739367df0ff8d1c61d03704298d49cf93ef3f88ac0000000000000000356a33c1dd000103ff202005537061726b6c650a4d61676963616c204361740ae29ca8f09f929c466f7665766572f09f929ce29ca80a00000000',\n",
              " '0100000001a7bd48001fb7867f23939000fb5c3d819c5461d8fc34b768e3eacee1ebf2e9a20100000000ffffffff0207ba6f10000000001976a914144739367df0ff8d1c61d03704298d49cf93ef3f88ac0000000000000000536a4c50e6f7bdef7bdef7adef5ad6b5ad6b5ad6b5ad6b5ad6b5ad6b5ad6b5ad6739d6739ce739ce318c6318def7bdeb5ad6b15ae35ad6b5ad6b5ad6b5ad6b5ad6b5ad6b5ace739ce759c4e32c6739c6318c631800000000',\n",
              " '0100000001a7bd48001fb7867f23939000fb5c3d819c5461d8fc34b768e3eacee1ebf2e9a20200000000ffffffff0207ba6f10000000001976a914144739367df0ff8d1c61d03704298d49cf93ef3f88ac0000000000000000536a4c50def5ad6b5ad627084277d6739ce739ce739ce739ce739ce739ce739ce6f4835acb6738c6318c6318d6b5ad6739cde2e739af9e739ce739ce739ce739ce739ce739ce739c49cc5a92aae718c6318c631800000000',\n",
              " '0100000001a7bd48001fb7867f23939000fb5c3d819c5461d8fc34b768e3eacee1ebf2e9a20300000000ffffffff0207ba6f10000000001976a914144739367df0ff8d1c61d03704298d49cf93ef3f88ac0000000000000000536a4c50d6739ce739cd9ec6b1ac64718c6318c6318c6319ce739ce739ce7387b16b52909ae718c6318c6317ce738c6318c55ab6b58b5a9f7c6318c6318c6318c6318c6318c62cd5a96c52509a6318c6318bdef700000000',\n",
              " '0100000001a7bd48001fb7867f23939000fb5c3d819c5461d8fc34b768e3eacee1ebf2e9a20400000000ffffffff0207ba6f10000000001976a914144739367df0ff8d1c61d03704298d49cf93ef3f88ac0000000000000000536a4c50c6318bdef7bd18a631494a12eb5ef7bdef7bdef7bdef7bdef7c5989531ad51ce9a6318c62f7bdef7bdef7bdef7bcd674ad8c4a107656d6b5ad6b5ad6b5ad6bdef7aad294ad68414c99def7bdef7bdef700000000',\n",
              " '0100000001a7bd48001fb7867f23939000fb5c3d819c5461d8fc34b768e3eacee1ebf2e9a20500000000ffffffff0207ba6f10000000001976a914144739367df0ff8d1c61d03704298d49cf93ef3f88ac0000000000000000536a4c50b5ad6b5ad6b4d673a9ac5a0e733295ad6b5ad6d6b5ad6b5ad4599094a927318eaa5ed7bdef7bdef7ad6b5ad6b5acd673214b5a8e631993a5294a56b5ad6b5ad66a298e862ce5298cbadad6b5ad7bdef700000000',\n",
              " '0100000001a7bd48001fb7867f23939000fb5c3d819c5461d8fc34b768e3eacee1ebf2e9a20600000000ffffffff0207ba6f10000000001976a914144739367df0ff8d1c61d03704298d49cf93ef3f88ac0000000000000000536a4c50a5294a5294a5188318eb6ad462950e94e93a5294a5294a5207298c75b525318eeb5ad6b5ad6b5af7a5294a52939cda7318cb73105294ec74a739ce73a4e749c1e7210a53210729931ad6b5ad6b6b5ad600000000',\n",
              " '0100000001a7bd48001fb7867f23939000fb5c3d819c5461d8fc34b768e3eacee1ebf2e9a20700000000ffffffff0207ba6f10000000001976a914144739367df0ff8d1c61d03704298d49cf93ef3f88ac0000000000000000536a4c50a5294a52739d1e83190c59ca4210e974652841f093a10841c7314a5218e629953ad6b5ad6b5b5ad6a5294a4e739d1ea414e8290a7298c86b9ce7358e72d6c5ada842548498e5219d4ad6b5ad6b5adad600000000',\n",
              " '0100000001a7bd48001fb7867f23939000fb5c3d819c5461d8fc34b768e3eacee1ebf2e9a20800000000ffffffff0207ba6f10000000001976a914144739367df0ff8d1c61d03704298d49cf93ef3f88ac0000000000000000536a4c50a52949ce739ce0b414a6314a839cc95252c6ad8d6ad8b4a527398e8518a421a15ad6b5ad6b5ad6b6a52949ce739ce4c2908441ce839ce75294b5b16a5294b5ad48318c63a8c422655ad2b5ad6b5ad6b500000000',\n",
              " '0100000001a7bd48001fb7867f23939000fb5c3d819c5461d8fc34b768e3eacee1ebf2e9a20900000000ffffffff0207ba6f10000000001976a914144739367df0ff8d1c61d03704298d49cf93ef3f88ac0000000000000000536a4c50a52939ce739ce6d310875a0c74250c6a96b6b16a4ad085a96c520e9398c432e94a5295ad6b5ad6b5a4e739ce739ce70520a8518ea3a98b4a54c5a98a5214b4a50a52569520c533ab4a5294a56b5ad6b500000000',\n",
              " '0100000001a7bd48001fb7867f23939000fb5c3d819c5461d8fc34b768e3eacee1ebf2e9a20a00000000ffffffff0207ba6f10000000001976a914144739367df0ff8d1c61d03704298d49cf93ef3f88ac0000000000000000536a4c509ce739ce739ce73618c93a4e74292639d2d52d4b5254c518ec5252a52d2755294a5294a52b5ad6b59ce739ce739ce73920c73ad4842928498ec6b5094b16d598ed5a92a6292a8d694a5294a5295ad6b500000000',\n",
              " '0100000001a7bd48001fb7867f23939000fb5c3d819c5461d8fc34b768e3eacee1ebf2e9a20b00000000ffffffff0207ba6f10000000001976a914144739367df0ff8d1c61d03704298d49cf93ef3f88ac0000000000000000536a4c509ce739ce739ce52939695310a4256b51d0c6352a52d4c59d4e635684252995294a5294a5295ad6b59ce739ce7394a5294a2e6b16b5a9294992d62d2b6312c6212d531ab4a4c97d294a5294a5294ad6b500000000',\n",
              " '0100000001a7bd48001fb7867f23939000fb5c3d819c5461d8fc34b768e3eacee1ebf2e9a20c00000000ffffffff0207ba6f10000000001976a914144739367df0ff8d1c61d03704298d49cf93ef3f88ac0000000000000000536a4c509ce739ce5294a5294a307b56b62d0849cec5294b6b16a51d294a54a525096ce94a5294a5294a56b59ce739ca5294a5294a318356d61ca4320ea5254a62d4739ca4218a64292b64694a5294a5294a56b500000000',\n",
              " '0100000001a7bd48001fb7867f23939000fb5c3d819c5461d8fc34b768e3eacee1ebf2e9a20d00000000ffffffff0207ba6f10000000001976a914144739367df0ff8d1c61d03704298d49cf93ef3f88ac0000000000000000536a4c509ce7394a5294a5294a318356a290e91950a5a96c6310541ca321ca43ad8a53a74a5294a5294a52b59ce7294a5294a52946317b96d329cc19cec7356d5ace6411242a509839463ae549d294a5294a529500000000',\n",
              " '0100000001a7bd48001fb7867f23939000fb5c3d819c5461d8fc34b768e3eacee1ebf2e9a20e00000000ffffffff0207ba6f10000000001976a914144739367df0ff8d1c61d03704298d49cf93ef3f88ac0000000000000000536a4c509ce5294a5294a529460e6b96c49e0d43988839ad728e83118e6391082d0632a349ce94a5294a52949ca5294a5294a518c60d7bd2751d50840e6841f07b52a308cd7320f5a8e62a2339ce94a5294a529400000000',\n",
              " '0100000001a7bd48001fb7867f23939000fb5c3d819c5461d8fc34b768e3eacee1ebf2e9a20f00000000ffffffff0207ba6f10000000001976a914144739367df0ff8d1c61d03704298d49cf93ef3f88ac0000000000000000536a4c5094a5294a52946318c5ec6bd673a54a5a0e97c6118398c2996c7c5ea4a0a52a2339ce74a5294a529494a5294a518c6318c1cb73daa39d2b6b9ca5c60f73549432328bd8b498a52a2339ce73a5294a529400000000',\n",
              " '0100000001a7bd48001fb7867f23939000fb5c3d819c5461d8fc34b768e3eacee1ebf2e9a21000000000ffffffff0207ba6f10000000001976a914144739367df0ff8d1c61d03704298d49cf93ef3f88ac0000000000000000536a4c5094a52946318c6318c1c95bdaa419295298e642118bd894add072d6a418a52a2339ce739d294a529494a528c6318c631841ab5bdca321284a9af642318bd884a58c52949394842aa539ce739d294a529400000000',\n",
              " '0100000001a7bd48001fb7867f23939000fb5c3d819c5461d8fc34b768e3eacee1ebf2e9a21100000000ffffffff0207ba6f10000000001976a914144739367df0ff8d1c61d03704298d49cf93ef3f88ac0000000000000000536a4c5094a518c6318c630841ac52d8d5a4e84adaf7ba11739874a96b520e8390842b2739ce739ce94a529494a318c6318c210841894ad4741d2a4b610831ef7392432d6941ce421084336739ce739ce94a529400000000',\n",
              " '0100000001a7bd48001fb7867f23939000fb5c3d819c5461d8fc34b768e3eacee1ebf2e9a21200000000ffffffff0207ba6f10000000001976a914144739367df0ff8d1c61d03704298d49cf93ef3f88ac0000000000000000536a4c50946318c63184210841cb4a0c629d485b9ef7a0a5314224a96c490a3210832be739ce739ce94a5294946318c6318421083dcd624c4298ea631af7b0e2104685a54a4986321084342739ce739ce74a529400000000',\n",
              " '0100000001a7bd48001fb7867f23939000fb5c3d819c5461d8fc34b768e3eacee1ebf2e9a21300000000ffffffff0207ba6f10000000001976a914144739367df0ff8d1c61d03704298d49cf93ef3f88ac0000000000000000536a4c508c6318c630842107bdcd5a4c4294ec5ad8d6b5c90916c499293988418c8422a739ce739ce74a52948c6318c610842107b58c51ce741cea5a52a5a10812527318c628c6531883195b39ce739ce74a529400000000',\n",
              " '0100000001a7bd48001fb7867f23939000fb5c3d819c5461d8fc34b768e3eacee1ebf2e9a21400000000ffffffff0207ba6f10000000001976a914144739367df0ff8d1c61d03704298d49cf93ef3f88ac0000000000000000536a4c508c6318c210842107ad095a9283a129520e949ca4114c6318c628c6318c64210ee94e739ce74a52948c631842108420f72ce52a1073a0e8398a628c4210c42194a32188318884210a86ca739ce74a529400000000',\n",
              " '0100000001a7bd48001fb7867f23939000fb5c3d819c5461d8fc34b768e3eacee1ebf2e9a21500000000ffffffff0207ba6f10000000001976a914144739367df0ff8d1c61d03704298d49cf93ef3f88ac0000000000000000536a4c508c63184210841ef73105294a631d08398a5214a5298c52106210ca218c63194a643a739ce74a52948c63084210841ef6ad0729084298c528c8431ce931ce5184410886510c63214c5326339ce73a529400000000',\n",
              " '0100000001a7bd48001fb7867f23939000fb5c3d819c5461d8fc34b768e3eacee1ebf2e9a21600000000ffffffff0207ba6f10000000001976a914144739367df0ff8d1c61d03704298d49cf93ef3f88ac0000000000000000536a4c508c63084210841ee624e739084298a5190c3108c621481000210844328864298a7315939ce73a52948c6108421083ded5a506314c5210c5198a41042100021084211084319464294c6311129ce73a529400000000',\n",
              " '0100000001a7bd48001fb7867f23939000fb5c3d819c5461d8fc34b768e3eacee1ebf2e9a21700000000ffffffff0207ba6f10000000001976a914144739367df0ff8d1c61d03704298d49cf93ef3f88ac0000000000000000536a4c508c610842107bdcd5250629cc719083210641082208421084411084319083298c6294d09ce739d2948c210842107bdcc4a0e6318a5214642908318c22104220886318c6318c8429ce6211109ce739d29400000000',\n",
              " '0100000001a7bd48001fb7867f23939000fb5c3d819c5461d8fc34b768e3eacee1ebf2e9a21800000000ffffffff0207ba6f10000000001976a914144739367df0ff8d1c61d03704298d49cf93ef3f88ac0000000000000000536a4c508c2108420f7bdcb41ce73148321085314c8294a4188620886318c83214c739d05215329ce739d2948c2108420f7bdcb41cc52988220c873156c31ca318c8410c6320c874250652928315529ce739ce9400000000',\n",
              " '0100000001a7bd48001fb7867f23939000fb5c3d819c5461d8fc34b768e3eacee1ebf2e9a21900000000ffffffff0207ba6f10000000001976a914144739367df0ff8d1c61d03704298d49cf93ef3f88ac0000000000000000536a4c5084210841ef7bdcc49cc5294a33148532589524a5214a418c64214c94a109635aa315739ce739ce748421083def7bdcc5a10729086318a5294eb620c429883210a6294e84a92c5358c39dd39ce739ce7400000000',\n",
              " '0100000001a7bd48001fb7867f23939000fb5c3d819c5461d8fc34b768e3eacee1ebf2e9a21a00000000ffffffff0207ba6f10000000001976a914144739367df0ff8d1c61d03704298d49cf93ef3f88ac0000000000000000536a4c508421083def7bdcd5256949ca421485218c7414a5314a6394c7218a85b18a6358a4aa339ce739ce74842107bdef7bdec5290851ce731485214a429885298c831ca52990a5254b62d6d6be739ce739ce7300000000',\n",
              " '0100000001a7bd48001fb7867f23939000fb5c3d819c5461d8fc34b768e3eacee1ebf2e9a21b00000000ffffffff0207ba6f10000000001976a914144739367df0ff8d1c61d03704298d49cf93ef3f88ac0000000000000000536a4c50842107bdef7bdee5a1084a107418e7314c5314c83a0e7314a631d094a9ac4a9ae7ca739ce739ce738420f7bdef7bdef629094a0e74214841cc7314e7418e8294a72a0e84a98e6b1ce84e739ce739ce7300000000',\n",
              " '0100000001a7bd48001fb7867f23939000fb5c3d819c5461d8fc34b768e3eacee1ebf2e9a21c00000000ffffffff0207ba6f10000000001976a914144739367df0ff8d1c61d03704298d49cf93ef3f88ac0000000000000000536a4c50841ef7bdef7bdef72d294a50949d2a525072a10539d042a108321295254a631af94e739ce739ce73841ef7bdef7bdef7b98a5a96c5a54829063214c639888424e741d09414c8525909ce739ce739ce7300000000',\n",
              " '0100000001a7bd48001fb7867f23939000fb5c3d819c5461d8fc34b768e3eacee1ebf2e9a21d00000000ffffffff0207ba6f10000000001976a914144739367df0ff8d1c61d03704298d49cf93ef3f88ac0000000000000000536a4c5083def7bdef7bdef739cd51d2b62d041084318c6841d0a3a50939ce6218e63a9f29ce739ce739ce737bdef7bdef7bdef739ce61ca639cc3214c741ca3198a64290629ca5214c95c25294e739ce739ce7300000000',\n",
              " '0100000001a7bd48001fb7867f23939000fb5c3d819c5461d8fc34b768e3eacee1ebf2e9a21e00000000ffffffff0207ba6f10000000001976a914144739367df0ff8d1c61d03704298d49cf93ef3f88ac0000000000000000536a4c507bdef7bdef7bdee739ce7354841884218e9418c439ca738c433988529d2c7ca5294e739ce739ce737bdef7bdef7b9ce739ce739cd6b106298c428c86520c310c63210a63adf194a5294a739ce739ce7300000000',\n",
              " '0100000001a7bd48001fb7867f23939000fb5c3d819c5461d8fc34b768e3eacee1ebf2e9a21f00000000ffffffff0207ba6f10000000001976a914144739367df0ff8d1c61d03704298d49cf93ef3f88ac0000000000000000536a4c507bdef7bdef7b9ce739ce739ce739cd6a8e62990a49464210a629d4d8465294a5294a539ce739ce737bdef7bdef739ce739ce739ce739cf7b9ab4a108294c74adad7423294a5294a5294a5294a739ce7300000000',\n",
              " '0100000001a7bd48001fb7867f23939000fb5c3d819c5461d8fc34b768e3eacee1ebf2e9a22000000000ffffffff0207ba6f10000000001976a914144739367df0ff8d1c61d03704298d49cf93ef3f88ac0000000000000000536a4c507bdef7bdef739ce739ce739ce739cf7bdef7b9ed635d08c6318c63194a5294a5294a5294a739ce737bdef7bdef739ce739ce739ce739cf7bdef7c2108c6318c6318c63194a5294a5294a5294a739ce7300000000']"
            ]
          },
          "metadata": {},
          "execution_count": 104
        }
      ]
    },
    {
      "cell_type": "code",
      "source": [
        "inscribed_txs=[cryptos.deserialize(elem) for elem in inscribed_serial_txs]"
      ],
      "metadata": {
        "id": "S1XhYY8lay8F"
      },
      "execution_count": 106,
      "outputs": []
    },
    {
      "cell_type": "code",
      "source": [
        "signed_inscribed_txs=[doge.signall(elem,privKey.to_hex()[2:]) for elem in inscribed_txs]"
      ],
      "metadata": {
        "id": "jEMY1eARbJlE"
      },
      "execution_count": 107,
      "outputs": []
    },
    {
      "cell_type": "code",
      "source": [
        "broadcasts=[doge.pushtx(elem) for elem in signed_inscribed_txs]\n",
        "broadcasts"
      ],
      "metadata": {
        "id": "VvEcOPG9bp5g",
        "outputId": "05029b31-b5fb-4cca-f014-7fcf63ab0378",
        "colab": {
          "base_uri": "https://localhost:8080/"
        }
      },
      "execution_count": 108,
      "outputs": [
        {
          "output_type": "execute_result",
          "data": {
            "text/plain": [
              "[{'data': {'network': 'DOGE',\n",
              "   'txid': 'b07a93efa3e5f989c887843b840a211e7a8cabf60ff4865aef09ee3b9abd0c75'},\n",
              "  'status': 'success'},\n",
              " {'data': {'network': 'DOGE',\n",
              "   'txid': '763f1e7c3c6860247ee8ef78bed06d05d8953baec15c10ce74f446e9eb2c36bc'},\n",
              "  'status': 'success'},\n",
              " {'data': {'network': 'DOGE',\n",
              "   'txid': 'f4f5d5d037b695ed627be22837d9490f7f1626e0e09625208e91c5bc8a8724c8'},\n",
              "  'status': 'success'},\n",
              " {'data': {'network': 'DOGE',\n",
              "   'txid': 'b4cab2d7bec061cc590cf6cb076856ad4d6a42ff407c76e0d9bbc46359ed3a8a'},\n",
              "  'status': 'success'},\n",
              " {'data': {'network': 'DOGE',\n",
              "   'txid': '9ce3372684feef120c1bd9e1c76901542446b8a2babcd859d7ce1acfa1271226'},\n",
              "  'status': 'success'},\n",
              " {'data': {'network': 'DOGE',\n",
              "   'txid': '0a9a3f99540c34113a8ef23be87585a21d154239aeaf8eeafc74a7fb6f86098f'},\n",
              "  'status': 'success'},\n",
              " {'data': {'network': 'DOGE',\n",
              "   'txid': 'a0dca63e61ad0dd441ec23623bf78f42d725ad82a6d204a12347e5c069f2d41b'},\n",
              "  'status': 'success'},\n",
              " {'data': {'network': 'DOGE',\n",
              "   'txid': 'ae0ffd681911b40966717548fc9c0b36ca2769c04ec24b0de581a28948aebb1c'},\n",
              "  'status': 'success'},\n",
              " {'data': {'network': 'DOGE',\n",
              "   'txid': 'a57a7839b8f0f6d49c538962767c5cb5588b555f47de34cfd4bb7c0a17089730'},\n",
              "  'status': 'success'},\n",
              " {'data': {'network': 'DOGE',\n",
              "   'txid': '8a9b08e092ecb3f9897aeb9434d97df184413579253b0d45d071f1ac4af4c15b'},\n",
              "  'status': 'success'},\n",
              " {'data': {'network': 'DOGE',\n",
              "   'txid': 'a64867e60201ab82b1cb91f1d5d34d18fd8c0bb5d76820c74a6ad93ab934638e'},\n",
              "  'status': 'success'},\n",
              " {'data': {'network': 'DOGE',\n",
              "   'txid': '1d827b2c73a9d4652b8446024a41dbec5d19d839613b8666ae76a9041c29688f'},\n",
              "  'status': 'success'},\n",
              " {'data': {'network': 'DOGE',\n",
              "   'txid': 'eb76cd0317a4914544a4f62ecd8d99341b43dd58183516639b9a991ae12e825f'},\n",
              "  'status': 'success'},\n",
              " {'data': {'network': 'DOGE',\n",
              "   'txid': '0346d46f337e5c2141e7712e27f69170a401798e1f62209c468a2937af3812fe'},\n",
              "  'status': 'success'},\n",
              " {'data': {'network': 'DOGE',\n",
              "   'txid': '83d3478f25d93d1370621371bd92f2e96e9afb03abd3a00b4498ecd7c044e257'},\n",
              "  'status': 'success'},\n",
              " {'data': {'network': 'DOGE',\n",
              "   'txid': '78c0c38ca6fc753a3b57983d02485804f17c38805370591807c60fd367070f3a'},\n",
              "  'status': 'success'},\n",
              " {'data': {'network': 'DOGE',\n",
              "   'txid': 'cb7b635d35b4abbc9f9c559df94a47bed77d6fcc821fd9e0166fce6ef0795ece'},\n",
              "  'status': 'success'},\n",
              " {'data': {'network': 'DOGE',\n",
              "   'txid': 'c64dc9e39a71bd18ea3d1f633fbe8af32b5b73690c776ca9edb1f63afd1e0dda'},\n",
              "  'status': 'success'},\n",
              " {'data': {'network': 'DOGE',\n",
              "   'txid': '8e360fe128d1260a67d2583ccc487114eff4390de65fb8481e777eac4602f61c'},\n",
              "  'status': 'success'},\n",
              " {'data': {'network': 'DOGE',\n",
              "   'txid': '047867263fd62516ee3e8f6c7e39d6dac0238439494ffac025e2a6ea227917de'},\n",
              "  'status': 'success'},\n",
              " {'data': {'network': 'DOGE',\n",
              "   'txid': '2ded209e42da4336ec43c4e9379b4b6d746b2247de6dc18dcdc2c38e3a20286d'},\n",
              "  'status': 'success'},\n",
              " {'data': {'network': 'DOGE',\n",
              "   'txid': '472d6e24d271af84e50210472aa60bbfbe04a73eb0716f16bf8b4dab561f01f5'},\n",
              "  'status': 'success'},\n",
              " {'data': {'network': 'DOGE',\n",
              "   'txid': '38848bcdfa5c5ddfedc3a67df197379da534dc822da287d61bba1efd9c7dbb6e'},\n",
              "  'status': 'success'},\n",
              " {'data': {'network': 'DOGE',\n",
              "   'txid': 'a84c290a6cbb01c5e7d33cc53ce1e67781f378561fb7b7685ffb08650d0ef11c'},\n",
              "  'status': 'success'},\n",
              " {'data': {'network': 'DOGE',\n",
              "   'txid': '92033e53c014dcd200872bc4cbb84b1bcfeaac9277278917dc2ffe1be12b7beb'},\n",
              "  'status': 'success'},\n",
              " {'data': {'network': 'DOGE',\n",
              "   'txid': 'cfe4304471cacadcd3418b0c05bffa41c75f3887d3b2968cce6f41788d7eab56'},\n",
              "  'status': 'success'},\n",
              " {'data': {'network': 'DOGE',\n",
              "   'txid': 'b593a9ee54598abcb2c6147041669b8c8f61f8d166cd4c5e407648ff5ed3164c'},\n",
              "  'status': 'success'},\n",
              " {'data': {'network': 'DOGE',\n",
              "   'txid': '942593e0aa3ec2d08e7451e54f68817d9296ffe98f9280b0dabcb22124c7a931'},\n",
              "  'status': 'success'},\n",
              " {'data': {'network': 'DOGE',\n",
              "   'txid': '79030102596081132686854d39a6cb5cecd073e6c3e119897e2f21f6b61a4ec1'},\n",
              "  'status': 'success'},\n",
              " {'data': {'network': 'DOGE',\n",
              "   'txid': '177f4b36a4c7e3395be50450989d31e2e2168a346c0b4073896797a256260a77'},\n",
              "  'status': 'success'},\n",
              " {'data': {'network': 'DOGE',\n",
              "   'txid': '42ce12488613e1cd0ba5c413c8ab4b90ab4dc2488e86220b11c55d630792c422'},\n",
              "  'status': 'success'},\n",
              " {'data': {'network': 'DOGE',\n",
              "   'txid': '4f6e6fc1820dabe640b3bb49017c78a11a2f79af29c7b230782e6c5d9cc15e36'},\n",
              "  'status': 'success'},\n",
              " {'data': {'network': 'DOGE',\n",
              "   'txid': '6b8eae9a4c7ce29f6ee635f7f4e2725c083b7640069d1a1a5416265aa2152da7'},\n",
              "  'status': 'success'}]"
            ]
          },
          "metadata": {},
          "execution_count": 108
        }
      ]
    },
    {
      "cell_type": "code",
      "source": [
        "[doge.fetchtx(broadcast['data']['txid'])['confirmations'] for broadcast in broadcasts]"
      ],
      "metadata": {
        "id": "nijVN8UncB51",
        "outputId": "f12d9cef-7d1a-4091-967b-90da4c91eeb2",
        "colab": {
          "base_uri": "https://localhost:8080/"
        }
      },
      "execution_count": 115,
      "outputs": [
        {
          "output_type": "execute_result",
          "data": {
            "text/plain": [
              "[67,\n",
              " 67,\n",
              " 67,\n",
              " 67,\n",
              " 67,\n",
              " 67,\n",
              " 67,\n",
              " 67,\n",
              " 67,\n",
              " 67,\n",
              " 67,\n",
              " 67,\n",
              " 67,\n",
              " 67,\n",
              " 67,\n",
              " 67,\n",
              " 67,\n",
              " 67,\n",
              " 67,\n",
              " 67,\n",
              " 67,\n",
              " 67,\n",
              " 67,\n",
              " 67,\n",
              " 67,\n",
              " 67,\n",
              " 67,\n",
              " 67,\n",
              " 67,\n",
              " 67,\n",
              " 67,\n",
              " 67,\n",
              " 67]"
            ]
          },
          "metadata": {},
          "execution_count": 115
        }
      ]
    },
    {
      "cell_type": "code",
      "source": [
        "sparkle_txn=sparkle_unspents[0]['output'].split(':')[0]\n",
        "sparkle_txn"
      ],
      "metadata": {
        "id": "8Of0KnsBcJoE",
        "outputId": "945d780c-22e4-4970-d42b-8da9b67e7806",
        "colab": {
          "base_uri": "https://localhost:8080/",
          "height": 35
        }
      },
      "execution_count": 126,
      "outputs": [
        {
          "output_type": "execute_result",
          "data": {
            "text/plain": [
              "'a2e9f2ebe1ceeae368b734fcd861549c813d5cfb009093237f86b71f0048bda7'"
            ],
            "application/vnd.google.colaboratory.intrinsic+json": {
              "type": "string"
            }
          },
          "metadata": {},
          "execution_count": 126
        }
      ]
    },
    {
      "cell_type": "code",
      "source": [
        "sparkle_txn_info=doge.fetchtx(sparkle_txn)\n",
        "sparkle_txn_info"
      ],
      "metadata": {
        "id": "ktQlIDST2uf6",
        "outputId": "8316658c-7752-4648-d490-e3e07005f025",
        "colab": {
          "base_uri": "https://localhost:8080/"
        }
      },
      "execution_count": 154,
      "outputs": [
        {
          "output_type": "execute_result",
          "data": {
            "text/plain": [
              "{'blockhash': '2813436a75e902fb9992fce65f1376484daa369ebe7bd04a04d361464dc3142d',\n",
              " 'confirmations': 132,\n",
              " 'inputs': [{'address': 'D6zKNnkupqRbkB9p5rwix8QiobQWJazjyX',\n",
              "   'from_output': {'output_no': 0,\n",
              "    'txid': '8227df752e185d74665dbd726a4fad822c7edf61cb6ea2baf6a4c670299d7e2f'},\n",
              "   'input_no': 0,\n",
              "   'script': '3045022100bbaa02298c147eb7ac3430365adf58acca55e1d0d4ea481383c81c478fb3842a0220719eee2ed36f745b3cf0169bd6535d968da022c840c13e79eaf9e4ec3b63943201 047c88e9a4df6e9f45656c10bf66f28e28be235a15b64820b254f1b9eb2738314e6769f5c94da0c7640ffe76dcffca053b07a0804cd53a1c51ad03bfe0133ce8c5',\n",
              "   'sequence': 4294967295,\n",
              "   'type': 'pubkeyhash',\n",
              "   'value': '15.00000000',\n",
              "   'witness': None},\n",
              "  {'address': 'D6zKNnkupqRbkB9p5rwix8QiobQWJazjyX',\n",
              "   'from_output': {'output_no': 0,\n",
              "    'txid': '4cae213cae278402d2034e61cd4ea6c7ef44dfaeadec0ee400547a03ebe45e8c'},\n",
              "   'input_no': 1,\n",
              "   'script': '304402205b6f2e1697d31a14aac4823af75950fec3da411670b2b4448255e1834df6e16502203915681a91ea5ed745ce57f7c8e20d20af9f35a3797119669f3d54e817b77e1301 047c88e9a4df6e9f45656c10bf66f28e28be235a15b64820b254f1b9eb2738314e6769f5c94da0c7640ffe76dcffca053b07a0804cd53a1c51ad03bfe0133ce8c5',\n",
              "   'sequence': 4294967295,\n",
              "   'type': 'pubkeyhash',\n",
              "   'value': '150.00000000',\n",
              "   'witness': None}],\n",
              " 'locktime': 0,\n",
              " 'network': 'DOGE',\n",
              " 'network_fee': '8.00000025',\n",
              " 'outputs': [{'address': 'D6zKNnkupqRbkB9p5rwix8QiobQWJazjyX',\n",
              "   'output_no': 0,\n",
              "   'script': 'OP_DUP OP_HASH160 144739367df0ff8d1c61d03704298d49cf93ef3f OP_EQUALVERIFY OP_CHECKSIG',\n",
              "   'type': 'pubkeyhash',\n",
              "   'value': '4.75757575'},\n",
              "  {'address': 'D6zKNnkupqRbkB9p5rwix8QiobQWJazjyX',\n",
              "   'output_no': 1,\n",
              "   'script': 'OP_DUP OP_HASH160 144739367df0ff8d1c61d03704298d49cf93ef3f OP_EQUALVERIFY OP_CHECKSIG',\n",
              "   'type': 'pubkeyhash',\n",
              "   'value': '4.75757575'},\n",
              "  {'address': 'D6zKNnkupqRbkB9p5rwix8QiobQWJazjyX',\n",
              "   'output_no': 2,\n",
              "   'script': 'OP_DUP OP_HASH160 144739367df0ff8d1c61d03704298d49cf93ef3f OP_EQUALVERIFY OP_CHECKSIG',\n",
              "   'type': 'pubkeyhash',\n",
              "   'value': '4.75757575'},\n",
              "  {'address': 'D6zKNnkupqRbkB9p5rwix8QiobQWJazjyX',\n",
              "   'output_no': 3,\n",
              "   'script': 'OP_DUP OP_HASH160 144739367df0ff8d1c61d03704298d49cf93ef3f OP_EQUALVERIFY OP_CHECKSIG',\n",
              "   'type': 'pubkeyhash',\n",
              "   'value': '4.75757575'},\n",
              "  {'address': 'D6zKNnkupqRbkB9p5rwix8QiobQWJazjyX',\n",
              "   'output_no': 4,\n",
              "   'script': 'OP_DUP OP_HASH160 144739367df0ff8d1c61d03704298d49cf93ef3f OP_EQUALVERIFY OP_CHECKSIG',\n",
              "   'type': 'pubkeyhash',\n",
              "   'value': '4.75757575'},\n",
              "  {'address': 'D6zKNnkupqRbkB9p5rwix8QiobQWJazjyX',\n",
              "   'output_no': 5,\n",
              "   'script': 'OP_DUP OP_HASH160 144739367df0ff8d1c61d03704298d49cf93ef3f OP_EQUALVERIFY OP_CHECKSIG',\n",
              "   'type': 'pubkeyhash',\n",
              "   'value': '4.75757575'},\n",
              "  {'address': 'D6zKNnkupqRbkB9p5rwix8QiobQWJazjyX',\n",
              "   'output_no': 6,\n",
              "   'script': 'OP_DUP OP_HASH160 144739367df0ff8d1c61d03704298d49cf93ef3f OP_EQUALVERIFY OP_CHECKSIG',\n",
              "   'type': 'pubkeyhash',\n",
              "   'value': '4.75757575'},\n",
              "  {'address': 'D6zKNnkupqRbkB9p5rwix8QiobQWJazjyX',\n",
              "   'output_no': 7,\n",
              "   'script': 'OP_DUP OP_HASH160 144739367df0ff8d1c61d03704298d49cf93ef3f OP_EQUALVERIFY OP_CHECKSIG',\n",
              "   'type': 'pubkeyhash',\n",
              "   'value': '4.75757575'},\n",
              "  {'address': 'D6zKNnkupqRbkB9p5rwix8QiobQWJazjyX',\n",
              "   'output_no': 8,\n",
              "   'script': 'OP_DUP OP_HASH160 144739367df0ff8d1c61d03704298d49cf93ef3f OP_EQUALVERIFY OP_CHECKSIG',\n",
              "   'type': 'pubkeyhash',\n",
              "   'value': '4.75757575'},\n",
              "  {'address': 'D6zKNnkupqRbkB9p5rwix8QiobQWJazjyX',\n",
              "   'output_no': 9,\n",
              "   'script': 'OP_DUP OP_HASH160 144739367df0ff8d1c61d03704298d49cf93ef3f OP_EQUALVERIFY OP_CHECKSIG',\n",
              "   'type': 'pubkeyhash',\n",
              "   'value': '4.75757575'},\n",
              "  {'address': 'D6zKNnkupqRbkB9p5rwix8QiobQWJazjyX',\n",
              "   'output_no': 10,\n",
              "   'script': 'OP_DUP OP_HASH160 144739367df0ff8d1c61d03704298d49cf93ef3f OP_EQUALVERIFY OP_CHECKSIG',\n",
              "   'type': 'pubkeyhash',\n",
              "   'value': '4.75757575'},\n",
              "  {'address': 'D6zKNnkupqRbkB9p5rwix8QiobQWJazjyX',\n",
              "   'output_no': 11,\n",
              "   'script': 'OP_DUP OP_HASH160 144739367df0ff8d1c61d03704298d49cf93ef3f OP_EQUALVERIFY OP_CHECKSIG',\n",
              "   'type': 'pubkeyhash',\n",
              "   'value': '4.75757575'},\n",
              "  {'address': 'D6zKNnkupqRbkB9p5rwix8QiobQWJazjyX',\n",
              "   'output_no': 12,\n",
              "   'script': 'OP_DUP OP_HASH160 144739367df0ff8d1c61d03704298d49cf93ef3f OP_EQUALVERIFY OP_CHECKSIG',\n",
              "   'type': 'pubkeyhash',\n",
              "   'value': '4.75757575'},\n",
              "  {'address': 'D6zKNnkupqRbkB9p5rwix8QiobQWJazjyX',\n",
              "   'output_no': 13,\n",
              "   'script': 'OP_DUP OP_HASH160 144739367df0ff8d1c61d03704298d49cf93ef3f OP_EQUALVERIFY OP_CHECKSIG',\n",
              "   'type': 'pubkeyhash',\n",
              "   'value': '4.75757575'},\n",
              "  {'address': 'D6zKNnkupqRbkB9p5rwix8QiobQWJazjyX',\n",
              "   'output_no': 14,\n",
              "   'script': 'OP_DUP OP_HASH160 144739367df0ff8d1c61d03704298d49cf93ef3f OP_EQUALVERIFY OP_CHECKSIG',\n",
              "   'type': 'pubkeyhash',\n",
              "   'value': '4.75757575'},\n",
              "  {'address': 'D6zKNnkupqRbkB9p5rwix8QiobQWJazjyX',\n",
              "   'output_no': 15,\n",
              "   'script': 'OP_DUP OP_HASH160 144739367df0ff8d1c61d03704298d49cf93ef3f OP_EQUALVERIFY OP_CHECKSIG',\n",
              "   'type': 'pubkeyhash',\n",
              "   'value': '4.75757575'},\n",
              "  {'address': 'D6zKNnkupqRbkB9p5rwix8QiobQWJazjyX',\n",
              "   'output_no': 16,\n",
              "   'script': 'OP_DUP OP_HASH160 144739367df0ff8d1c61d03704298d49cf93ef3f OP_EQUALVERIFY OP_CHECKSIG',\n",
              "   'type': 'pubkeyhash',\n",
              "   'value': '4.75757575'},\n",
              "  {'address': 'D6zKNnkupqRbkB9p5rwix8QiobQWJazjyX',\n",
              "   'output_no': 17,\n",
              "   'script': 'OP_DUP OP_HASH160 144739367df0ff8d1c61d03704298d49cf93ef3f OP_EQUALVERIFY OP_CHECKSIG',\n",
              "   'type': 'pubkeyhash',\n",
              "   'value': '4.75757575'},\n",
              "  {'address': 'D6zKNnkupqRbkB9p5rwix8QiobQWJazjyX',\n",
              "   'output_no': 18,\n",
              "   'script': 'OP_DUP OP_HASH160 144739367df0ff8d1c61d03704298d49cf93ef3f OP_EQUALVERIFY OP_CHECKSIG',\n",
              "   'type': 'pubkeyhash',\n",
              "   'value': '4.75757575'},\n",
              "  {'address': 'D6zKNnkupqRbkB9p5rwix8QiobQWJazjyX',\n",
              "   'output_no': 19,\n",
              "   'script': 'OP_DUP OP_HASH160 144739367df0ff8d1c61d03704298d49cf93ef3f OP_EQUALVERIFY OP_CHECKSIG',\n",
              "   'type': 'pubkeyhash',\n",
              "   'value': '4.75757575'},\n",
              "  {'address': 'D6zKNnkupqRbkB9p5rwix8QiobQWJazjyX',\n",
              "   'output_no': 20,\n",
              "   'script': 'OP_DUP OP_HASH160 144739367df0ff8d1c61d03704298d49cf93ef3f OP_EQUALVERIFY OP_CHECKSIG',\n",
              "   'type': 'pubkeyhash',\n",
              "   'value': '4.75757575'},\n",
              "  {'address': 'D6zKNnkupqRbkB9p5rwix8QiobQWJazjyX',\n",
              "   'output_no': 21,\n",
              "   'script': 'OP_DUP OP_HASH160 144739367df0ff8d1c61d03704298d49cf93ef3f OP_EQUALVERIFY OP_CHECKSIG',\n",
              "   'type': 'pubkeyhash',\n",
              "   'value': '4.75757575'},\n",
              "  {'address': 'D6zKNnkupqRbkB9p5rwix8QiobQWJazjyX',\n",
              "   'output_no': 22,\n",
              "   'script': 'OP_DUP OP_HASH160 144739367df0ff8d1c61d03704298d49cf93ef3f OP_EQUALVERIFY OP_CHECKSIG',\n",
              "   'type': 'pubkeyhash',\n",
              "   'value': '4.75757575'},\n",
              "  {'address': 'D6zKNnkupqRbkB9p5rwix8QiobQWJazjyX',\n",
              "   'output_no': 23,\n",
              "   'script': 'OP_DUP OP_HASH160 144739367df0ff8d1c61d03704298d49cf93ef3f OP_EQUALVERIFY OP_CHECKSIG',\n",
              "   'type': 'pubkeyhash',\n",
              "   'value': '4.75757575'},\n",
              "  {'address': 'D6zKNnkupqRbkB9p5rwix8QiobQWJazjyX',\n",
              "   'output_no': 24,\n",
              "   'script': 'OP_DUP OP_HASH160 144739367df0ff8d1c61d03704298d49cf93ef3f OP_EQUALVERIFY OP_CHECKSIG',\n",
              "   'type': 'pubkeyhash',\n",
              "   'value': '4.75757575'},\n",
              "  {'address': 'D6zKNnkupqRbkB9p5rwix8QiobQWJazjyX',\n",
              "   'output_no': 25,\n",
              "   'script': 'OP_DUP OP_HASH160 144739367df0ff8d1c61d03704298d49cf93ef3f OP_EQUALVERIFY OP_CHECKSIG',\n",
              "   'type': 'pubkeyhash',\n",
              "   'value': '4.75757575'},\n",
              "  {'address': 'D6zKNnkupqRbkB9p5rwix8QiobQWJazjyX',\n",
              "   'output_no': 26,\n",
              "   'script': 'OP_DUP OP_HASH160 144739367df0ff8d1c61d03704298d49cf93ef3f OP_EQUALVERIFY OP_CHECKSIG',\n",
              "   'type': 'pubkeyhash',\n",
              "   'value': '4.75757575'},\n",
              "  {'address': 'D6zKNnkupqRbkB9p5rwix8QiobQWJazjyX',\n",
              "   'output_no': 27,\n",
              "   'script': 'OP_DUP OP_HASH160 144739367df0ff8d1c61d03704298d49cf93ef3f OP_EQUALVERIFY OP_CHECKSIG',\n",
              "   'type': 'pubkeyhash',\n",
              "   'value': '4.75757575'},\n",
              "  {'address': 'D6zKNnkupqRbkB9p5rwix8QiobQWJazjyX',\n",
              "   'output_no': 28,\n",
              "   'script': 'OP_DUP OP_HASH160 144739367df0ff8d1c61d03704298d49cf93ef3f OP_EQUALVERIFY OP_CHECKSIG',\n",
              "   'type': 'pubkeyhash',\n",
              "   'value': '4.75757575'},\n",
              "  {'address': 'D6zKNnkupqRbkB9p5rwix8QiobQWJazjyX',\n",
              "   'output_no': 29,\n",
              "   'script': 'OP_DUP OP_HASH160 144739367df0ff8d1c61d03704298d49cf93ef3f OP_EQUALVERIFY OP_CHECKSIG',\n",
              "   'type': 'pubkeyhash',\n",
              "   'value': '4.75757575'},\n",
              "  {'address': 'D6zKNnkupqRbkB9p5rwix8QiobQWJazjyX',\n",
              "   'output_no': 30,\n",
              "   'script': 'OP_DUP OP_HASH160 144739367df0ff8d1c61d03704298d49cf93ef3f OP_EQUALVERIFY OP_CHECKSIG',\n",
              "   'type': 'pubkeyhash',\n",
              "   'value': '4.75757575'},\n",
              "  {'address': 'D6zKNnkupqRbkB9p5rwix8QiobQWJazjyX',\n",
              "   'output_no': 31,\n",
              "   'script': 'OP_DUP OP_HASH160 144739367df0ff8d1c61d03704298d49cf93ef3f OP_EQUALVERIFY OP_CHECKSIG',\n",
              "   'type': 'pubkeyhash',\n",
              "   'value': '4.75757575'},\n",
              "  {'address': 'D6zKNnkupqRbkB9p5rwix8QiobQWJazjyX',\n",
              "   'output_no': 32,\n",
              "   'script': 'OP_DUP OP_HASH160 144739367df0ff8d1c61d03704298d49cf93ef3f OP_EQUALVERIFY OP_CHECKSIG',\n",
              "   'type': 'pubkeyhash',\n",
              "   'value': '4.75757575'}],\n",
              " 'size': 1491,\n",
              " 'time': 1652377090,\n",
              " 'tx_hex': '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',\n",
              " 'txid': 'a2e9f2ebe1ceeae368b734fcd861549c813d5cfb009093237f86b71f0048bda7',\n",
              " 'version': 1,\n",
              " 'vsize': 1491}"
            ]
          },
          "metadata": {},
          "execution_count": 154
        }
      ]
    },
    {
      "cell_type": "code",
      "source": [
        "speaker=doge.fetchtx(sparkle_txn)['outputs'][0]['address']"
      ],
      "metadata": {
        "id": "8ywBEz4PtfTc"
      },
      "execution_count": 124,
      "outputs": []
    },
    {
      "cell_type": "code",
      "source": [
        "speaker_txs = doge.history(speaker)['data']['txs']"
      ],
      "metadata": {
        "id": "oB1J7cR3uBE1"
      },
      "execution_count": 133,
      "outputs": []
    },
    {
      "cell_type": "code",
      "source": [
        "len(speaker_txs)"
      ],
      "metadata": {
        "id": "AFNI1IvTzd-H",
        "outputId": "cbfc30a8-20ab-4097-f90e-44a1d0d7e32a",
        "colab": {
          "base_uri": "https://localhost:8080/"
        }
      },
      "execution_count": 149,
      "outputs": [
        {
          "output_type": "execute_result",
          "data": {
            "text/plain": [
              "47"
            ]
          },
          "metadata": {},
          "execution_count": 149
        }
      ]
    },
    {
      "cell_type": "code",
      "source": [
        "[tx for tx in speaker_txs if ('incoming' in tx.keys() ) ] "
      ],
      "metadata": {
        "id": "LgncL0JzxbnP",
        "outputId": "c8ff387a-d91f-4c97-ea4f-a136748b5f11",
        "colab": {
          "base_uri": "https://localhost:8080/"
        }
      },
      "execution_count": 147,
      "outputs": [
        {
          "output_type": "execute_result",
          "data": {
            "text/plain": [
              "[{'block_no': 4196535,\n",
              "  'confirmations': 25243,\n",
              "  'incoming': {'inputs': [{'address': 'D6zKNnkupqRbkB9p5rwix8QiobQWJazjyX',\n",
              "     'input_no': 0,\n",
              "     'received_from': {'output_no': 0,\n",
              "      'txid': '8a5b9ee802d70746f6a7ec213ef486d0f908951443df35a650f327b3ec07351e'}}],\n",
              "   'output_no': 0,\n",
              "   'req_sigs': 1,\n",
              "   'script_asm': 'OP_DUP OP_HASH160 144739367df0ff8d1c61d03704298d49cf93ef3f OP_EQUALVERIFY OP_CHECKSIG',\n",
              "   'script_hex': '76a914144739367df0ff8d1c61d03704298d49cf93ef3f88ac',\n",
              "   'spent': {'input_no': 0,\n",
              "    'txid': 'e53bd1a35a4419ca765e14dc38f80b2ddc62473ed9147fc73f69537a6e6f9577'},\n",
              "   'value': '71.00000000'},\n",
              "  'outgoing': {'outputs': [{'address': 'D6zKNnkupqRbkB9p5rwix8QiobQWJazjyX',\n",
              "     'output_no': 0,\n",
              "     'spent': {'input_no': 0,\n",
              "      'txid': 'e53bd1a35a4419ca765e14dc38f80b2ddc62473ed9147fc73f69537a6e6f9577'},\n",
              "     'value': '71.00000000'},\n",
              "    {'address': 'nulldata',\n",
              "     'output_no': 1,\n",
              "     'spent': None,\n",
              "     'value': '0.00000000'}],\n",
              "   'value': '73.00000000'},\n",
              "  'time': 1650767240,\n",
              "  'txid': '8ceaae7d6d209c8180069edca6b7f70d1d015450e492984e48621e04e6ea5554'},\n",
              " {'block_no': 4196533,\n",
              "  'confirmations': 25245,\n",
              "  'incoming': {'inputs': [{'address': 'D6zKNnkupqRbkB9p5rwix8QiobQWJazjyX',\n",
              "     'input_no': 0,\n",
              "     'received_from': {'output_no': 0,\n",
              "      'txid': '5eb370b059634ac152c1abf834f869dd7937e43f7c21ef6418022d3551f4766f'}}],\n",
              "   'output_no': 0,\n",
              "   'req_sigs': 1,\n",
              "   'script_asm': 'OP_DUP OP_HASH160 144739367df0ff8d1c61d03704298d49cf93ef3f OP_EQUALVERIFY OP_CHECKSIG',\n",
              "   'script_hex': '76a914144739367df0ff8d1c61d03704298d49cf93ef3f88ac',\n",
              "   'spent': {'input_no': 0,\n",
              "    'txid': '8ceaae7d6d209c8180069edca6b7f70d1d015450e492984e48621e04e6ea5554'},\n",
              "   'value': '73.00000000'},\n",
              "  'outgoing': {'outputs': [{'address': 'D6zKNnkupqRbkB9p5rwix8QiobQWJazjyX',\n",
              "     'output_no': 0,\n",
              "     'spent': {'input_no': 0,\n",
              "      'txid': '8ceaae7d6d209c8180069edca6b7f70d1d015450e492984e48621e04e6ea5554'},\n",
              "     'value': '73.00000000'},\n",
              "    {'address': 'nulldata',\n",
              "     'output_no': 1,\n",
              "     'spent': None,\n",
              "     'value': '0.00000000'}],\n",
              "   'value': '75.00000000'},\n",
              "  'time': 1650767070,\n",
              "  'txid': '8a5b9ee802d70746f6a7ec213ef486d0f908951443df35a650f327b3ec07351e'},\n",
              " {'block_no': 4196365,\n",
              "  'confirmations': 25413,\n",
              "  'incoming': {'inputs': [{'address': 'D6zKNnkupqRbkB9p5rwix8QiobQWJazjyX',\n",
              "     'input_no': 0,\n",
              "     'received_from': {'output_no': 0,\n",
              "      'txid': '352cc874e23088f47bf7d5bc195063dc30b62e88acb3ffcb2d97fc48cd704c60'}}],\n",
              "   'output_no': 0,\n",
              "   'req_sigs': 1,\n",
              "   'script_asm': 'OP_DUP OP_HASH160 144739367df0ff8d1c61d03704298d49cf93ef3f OP_EQUALVERIFY OP_CHECKSIG',\n",
              "   'script_hex': '76a914144739367df0ff8d1c61d03704298d49cf93ef3f88ac',\n",
              "   'spent': {'input_no': 0,\n",
              "    'txid': '8a5b9ee802d70746f6a7ec213ef486d0f908951443df35a650f327b3ec07351e'},\n",
              "   'value': '75.00000000'},\n",
              "  'outgoing': {'outputs': [{'address': 'D6zKNnkupqRbkB9p5rwix8QiobQWJazjyX',\n",
              "     'output_no': 0,\n",
              "     'spent': {'input_no': 0,\n",
              "      'txid': '8a5b9ee802d70746f6a7ec213ef486d0f908951443df35a650f327b3ec07351e'},\n",
              "     'value': '75.00000000'},\n",
              "    {'address': 'nulldata',\n",
              "     'output_no': 1,\n",
              "     'spent': None,\n",
              "     'value': '0.00000000'}],\n",
              "   'value': '77.00000000'},\n",
              "  'time': 1650756593,\n",
              "  'txid': '5eb370b059634ac152c1abf834f869dd7937e43f7c21ef6418022d3551f4766f'},\n",
              " {'block_no': 4196364,\n",
              "  'confirmations': 25414,\n",
              "  'incoming': {'inputs': [{'address': 'D6zKNnkupqRbkB9p5rwix8QiobQWJazjyX',\n",
              "     'input_no': 0,\n",
              "     'received_from': {'output_no': 0,\n",
              "      'txid': 'bff8132fe5a0629cb2ea364c476c588da6fc0a2cd6d25738ae905082894de4b3'}}],\n",
              "   'output_no': 0,\n",
              "   'req_sigs': 1,\n",
              "   'script_asm': 'OP_DUP OP_HASH160 144739367df0ff8d1c61d03704298d49cf93ef3f OP_EQUALVERIFY OP_CHECKSIG',\n",
              "   'script_hex': '76a914144739367df0ff8d1c61d03704298d49cf93ef3f88ac',\n",
              "   'spent': {'input_no': 0,\n",
              "    'txid': '5eb370b059634ac152c1abf834f869dd7937e43f7c21ef6418022d3551f4766f'},\n",
              "   'value': '77.00000000'},\n",
              "  'outgoing': {'outputs': [{'address': 'D6zKNnkupqRbkB9p5rwix8QiobQWJazjyX',\n",
              "     'output_no': 0,\n",
              "     'spent': {'input_no': 0,\n",
              "      'txid': '5eb370b059634ac152c1abf834f869dd7937e43f7c21ef6418022d3551f4766f'},\n",
              "     'value': '77.00000000'},\n",
              "    {'address': 'nulldata',\n",
              "     'output_no': 1,\n",
              "     'spent': None,\n",
              "     'value': '0.00000000'}],\n",
              "   'value': '79.00000000'},\n",
              "  'time': 1650756470,\n",
              "  'txid': '352cc874e23088f47bf7d5bc195063dc30b62e88acb3ffcb2d97fc48cd704c60'},\n",
              " {'block_no': 4196362,\n",
              "  'confirmations': 25416,\n",
              "  'incoming': {'inputs': [{'address': 'D6zKNnkupqRbkB9p5rwix8QiobQWJazjyX',\n",
              "     'input_no': 0,\n",
              "     'received_from': {'output_no': 0,\n",
              "      'txid': 'd163ae8b500eb3d5b32112b8fe60a8c089f424c4649afd3f8d29bf99fe2f4280'}}],\n",
              "   'output_no': 0,\n",
              "   'req_sigs': 1,\n",
              "   'script_asm': 'OP_DUP OP_HASH160 144739367df0ff8d1c61d03704298d49cf93ef3f OP_EQUALVERIFY OP_CHECKSIG',\n",
              "   'script_hex': '76a914144739367df0ff8d1c61d03704298d49cf93ef3f88ac',\n",
              "   'spent': {'input_no': 0,\n",
              "    'txid': '352cc874e23088f47bf7d5bc195063dc30b62e88acb3ffcb2d97fc48cd704c60'},\n",
              "   'value': '79.00000000'},\n",
              "  'outgoing': {'outputs': [{'address': 'D6zKNnkupqRbkB9p5rwix8QiobQWJazjyX',\n",
              "     'output_no': 0,\n",
              "     'spent': {'input_no': 0,\n",
              "      'txid': '352cc874e23088f47bf7d5bc195063dc30b62e88acb3ffcb2d97fc48cd704c60'},\n",
              "     'value': '79.00000000'},\n",
              "    {'address': 'nulldata',\n",
              "     'output_no': 1,\n",
              "     'spent': None,\n",
              "     'value': '0.00000000'}],\n",
              "   'value': '81.00000000'},\n",
              "  'time': 1650756019,\n",
              "  'txid': 'bff8132fe5a0629cb2ea364c476c588da6fc0a2cd6d25738ae905082894de4b3'},\n",
              " {'block_no': 4196360,\n",
              "  'confirmations': 25418,\n",
              "  'incoming': {'inputs': [{'address': 'D6zKNnkupqRbkB9p5rwix8QiobQWJazjyX',\n",
              "     'input_no': 0,\n",
              "     'received_from': {'output_no': 0,\n",
              "      'txid': '50b6d86e343b7f34e28ca4ba09ec80da4b1c3a1d541a0c6718290d134301c5ef'}}],\n",
              "   'output_no': 0,\n",
              "   'req_sigs': 1,\n",
              "   'script_asm': 'OP_DUP OP_HASH160 144739367df0ff8d1c61d03704298d49cf93ef3f OP_EQUALVERIFY OP_CHECKSIG',\n",
              "   'script_hex': '76a914144739367df0ff8d1c61d03704298d49cf93ef3f88ac',\n",
              "   'spent': {'input_no': 0,\n",
              "    'txid': 'bff8132fe5a0629cb2ea364c476c588da6fc0a2cd6d25738ae905082894de4b3'},\n",
              "   'value': '81.00000000'},\n",
              "  'outgoing': {'outputs': [{'address': 'D6zKNnkupqRbkB9p5rwix8QiobQWJazjyX',\n",
              "     'output_no': 0,\n",
              "     'spent': {'input_no': 0,\n",
              "      'txid': 'bff8132fe5a0629cb2ea364c476c588da6fc0a2cd6d25738ae905082894de4b3'},\n",
              "     'value': '81.00000000'},\n",
              "    {'address': 'nulldata',\n",
              "     'output_no': 1,\n",
              "     'spent': None,\n",
              "     'value': '0.00000000'}],\n",
              "   'value': '83.00000000'},\n",
              "  'time': 1650755835,\n",
              "  'txid': 'd163ae8b500eb3d5b32112b8fe60a8c089f424c4649afd3f8d29bf99fe2f4280'},\n",
              " {'block_no': 4196358,\n",
              "  'confirmations': 25420,\n",
              "  'incoming': {'inputs': [{'address': 'D6zKNnkupqRbkB9p5rwix8QiobQWJazjyX',\n",
              "     'input_no': 0,\n",
              "     'received_from': {'output_no': 0,\n",
              "      'txid': 'd5e4be06e1b631a28d2bbea11b8e2ba0bbcae0c0a9bb44041fca368f65782b84'}}],\n",
              "   'output_no': 0,\n",
              "   'req_sigs': 1,\n",
              "   'script_asm': 'OP_DUP OP_HASH160 144739367df0ff8d1c61d03704298d49cf93ef3f OP_EQUALVERIFY OP_CHECKSIG',\n",
              "   'script_hex': '76a914144739367df0ff8d1c61d03704298d49cf93ef3f88ac',\n",
              "   'spent': {'input_no': 0,\n",
              "    'txid': 'd163ae8b500eb3d5b32112b8fe60a8c089f424c4649afd3f8d29bf99fe2f4280'},\n",
              "   'value': '83.00000000'},\n",
              "  'outgoing': {'outputs': [{'address': 'D6zKNnkupqRbkB9p5rwix8QiobQWJazjyX',\n",
              "     'output_no': 0,\n",
              "     'spent': {'input_no': 0,\n",
              "      'txid': 'd163ae8b500eb3d5b32112b8fe60a8c089f424c4649afd3f8d29bf99fe2f4280'},\n",
              "     'value': '83.00000000'},\n",
              "    {'address': 'nulldata',\n",
              "     'output_no': 1,\n",
              "     'spent': None,\n",
              "     'value': '0.00000000'}],\n",
              "   'value': '85.00000000'},\n",
              "  'time': 1650755752,\n",
              "  'txid': '50b6d86e343b7f34e28ca4ba09ec80da4b1c3a1d541a0c6718290d134301c5ef'},\n",
              " {'block_no': 4196357,\n",
              "  'confirmations': 25421,\n",
              "  'incoming': {'inputs': [{'address': 'D6zKNnkupqRbkB9p5rwix8QiobQWJazjyX',\n",
              "     'input_no': 0,\n",
              "     'received_from': {'output_no': 0,\n",
              "      'txid': '74de5e9bf0c292287e08c201d26676e26a5c2f21ddb639e9268af6d52d0e0c1c'}}],\n",
              "   'output_no': 0,\n",
              "   'req_sigs': 1,\n",
              "   'script_asm': 'OP_DUP OP_HASH160 144739367df0ff8d1c61d03704298d49cf93ef3f OP_EQUALVERIFY OP_CHECKSIG',\n",
              "   'script_hex': '76a914144739367df0ff8d1c61d03704298d49cf93ef3f88ac',\n",
              "   'spent': {'input_no': 0,\n",
              "    'txid': '50b6d86e343b7f34e28ca4ba09ec80da4b1c3a1d541a0c6718290d134301c5ef'},\n",
              "   'value': '85.00000000'},\n",
              "  'outgoing': {'outputs': [{'address': 'D6zKNnkupqRbkB9p5rwix8QiobQWJazjyX',\n",
              "     'output_no': 0,\n",
              "     'spent': {'input_no': 0,\n",
              "      'txid': '50b6d86e343b7f34e28ca4ba09ec80da4b1c3a1d541a0c6718290d134301c5ef'},\n",
              "     'value': '85.00000000'},\n",
              "    {'address': 'nulldata',\n",
              "     'output_no': 1,\n",
              "     'spent': None,\n",
              "     'value': '0.00000000'}],\n",
              "   'value': '87.00000000'},\n",
              "  'time': 1650755710,\n",
              "  'txid': 'd5e4be06e1b631a28d2bbea11b8e2ba0bbcae0c0a9bb44041fca368f65782b84'},\n",
              " {'block_no': 4196355,\n",
              "  'confirmations': 25423,\n",
              "  'incoming': {'inputs': [{'address': 'D6zKNnkupqRbkB9p5rwix8QiobQWJazjyX',\n",
              "     'input_no': 0,\n",
              "     'received_from': {'output_no': 0,\n",
              "      'txid': '91d9f1573bacfac0e781764e5598318e1f9c00d22002db680e827469f268c7a8'}}],\n",
              "   'output_no': 0,\n",
              "   'req_sigs': 1,\n",
              "   'script_asm': 'OP_DUP OP_HASH160 144739367df0ff8d1c61d03704298d49cf93ef3f OP_EQUALVERIFY OP_CHECKSIG',\n",
              "   'script_hex': '76a914144739367df0ff8d1c61d03704298d49cf93ef3f88ac',\n",
              "   'spent': {'input_no': 0,\n",
              "    'txid': 'd5e4be06e1b631a28d2bbea11b8e2ba0bbcae0c0a9bb44041fca368f65782b84'},\n",
              "   'value': '87.00000000'},\n",
              "  'outgoing': {'outputs': [{'address': 'D6zKNnkupqRbkB9p5rwix8QiobQWJazjyX',\n",
              "     'output_no': 0,\n",
              "     'spent': {'input_no': 0,\n",
              "      'txid': 'd5e4be06e1b631a28d2bbea11b8e2ba0bbcae0c0a9bb44041fca368f65782b84'},\n",
              "     'value': '87.00000000'},\n",
              "    {'address': 'nulldata',\n",
              "     'output_no': 1,\n",
              "     'spent': None,\n",
              "     'value': '0.00000000'}],\n",
              "   'value': '89.00000000'},\n",
              "  'time': 1650755668,\n",
              "  'txid': '74de5e9bf0c292287e08c201d26676e26a5c2f21ddb639e9268af6d52d0e0c1c'},\n",
              " {'block_no': 4193868,\n",
              "  'confirmations': 27910,\n",
              "  'incoming': {'inputs': [{'address': 'D6zKNnkupqRbkB9p5rwix8QiobQWJazjyX',\n",
              "     'input_no': 0,\n",
              "     'received_from': {'output_no': 0,\n",
              "      'txid': 'b8ec2f72fd103ba895ca0c61a2bc6af84129fc5d924f6cd435be572b4183ed5c'}}],\n",
              "   'output_no': 0,\n",
              "   'req_sigs': 1,\n",
              "   'script_asm': 'OP_DUP OP_HASH160 144739367df0ff8d1c61d03704298d49cf93ef3f OP_EQUALVERIFY OP_CHECKSIG',\n",
              "   'script_hex': '76a914144739367df0ff8d1c61d03704298d49cf93ef3f88ac',\n",
              "   'spent': {'input_no': 0,\n",
              "    'txid': '74de5e9bf0c292287e08c201d26676e26a5c2f21ddb639e9268af6d52d0e0c1c'},\n",
              "   'value': '89.00000000'},\n",
              "  'outgoing': {'outputs': [{'address': 'D6zKNnkupqRbkB9p5rwix8QiobQWJazjyX',\n",
              "     'output_no': 0,\n",
              "     'spent': {'input_no': 0,\n",
              "      'txid': '74de5e9bf0c292287e08c201d26676e26a5c2f21ddb639e9268af6d52d0e0c1c'},\n",
              "     'value': '89.00000000'},\n",
              "    {'address': 'nulldata',\n",
              "     'output_no': 1,\n",
              "     'spent': None,\n",
              "     'value': '0.00000000'}],\n",
              "   'value': '91.00000000'},\n",
              "  'time': 1650596393,\n",
              "  'txid': '91d9f1573bacfac0e781764e5598318e1f9c00d22002db680e827469f268c7a8'},\n",
              " {'block_no': 4193865,\n",
              "  'confirmations': 27913,\n",
              "  'incoming': {'inputs': [{'address': 'D6zKNnkupqRbkB9p5rwix8QiobQWJazjyX',\n",
              "     'input_no': 0,\n",
              "     'received_from': {'output_no': 0,\n",
              "      'txid': '466ee54dbb8df470c075fd397274fee5f0c66e318c2be2cfa229fc88671cdec3'}}],\n",
              "   'output_no': 0,\n",
              "   'req_sigs': 1,\n",
              "   'script_asm': 'OP_DUP OP_HASH160 144739367df0ff8d1c61d03704298d49cf93ef3f OP_EQUALVERIFY OP_CHECKSIG',\n",
              "   'script_hex': '76a914144739367df0ff8d1c61d03704298d49cf93ef3f88ac',\n",
              "   'spent': {'input_no': 0,\n",
              "    'txid': '91d9f1573bacfac0e781764e5598318e1f9c00d22002db680e827469f268c7a8'},\n",
              "   'value': '91.00000000'},\n",
              "  'outgoing': {'outputs': [{'address': 'D6zKNnkupqRbkB9p5rwix8QiobQWJazjyX',\n",
              "     'output_no': 0,\n",
              "     'spent': {'input_no': 0,\n",
              "      'txid': '91d9f1573bacfac0e781764e5598318e1f9c00d22002db680e827469f268c7a8'},\n",
              "     'value': '91.00000000'},\n",
              "    {'address': 'nulldata',\n",
              "     'output_no': 1,\n",
              "     'spent': None,\n",
              "     'value': '0.00000000'}],\n",
              "   'value': '93.00000000'},\n",
              "  'time': 1650596341,\n",
              "  'txid': 'b8ec2f72fd103ba895ca0c61a2bc6af84129fc5d924f6cd435be572b4183ed5c'},\n",
              " {'block_no': 4193863,\n",
              "  'confirmations': 27915,\n",
              "  'incoming': {'inputs': [{'address': 'D6zKNnkupqRbkB9p5rwix8QiobQWJazjyX',\n",
              "     'input_no': 0,\n",
              "     'received_from': {'output_no': 0,\n",
              "      'txid': '471720c333030d8c16c1ca35ddfab6705a2ca8d39d09dde37f486616b63972ba'}}],\n",
              "   'output_no': 0,\n",
              "   'req_sigs': 1,\n",
              "   'script_asm': 'OP_DUP OP_HASH160 144739367df0ff8d1c61d03704298d49cf93ef3f OP_EQUALVERIFY OP_CHECKSIG',\n",
              "   'script_hex': '76a914144739367df0ff8d1c61d03704298d49cf93ef3f88ac',\n",
              "   'spent': {'input_no': 0,\n",
              "    'txid': 'b8ec2f72fd103ba895ca0c61a2bc6af84129fc5d924f6cd435be572b4183ed5c'},\n",
              "   'value': '93.00000000'},\n",
              "  'outgoing': {'outputs': [{'address': 'D6zKNnkupqRbkB9p5rwix8QiobQWJazjyX',\n",
              "     'output_no': 0,\n",
              "     'spent': {'input_no': 0,\n",
              "      'txid': 'b8ec2f72fd103ba895ca0c61a2bc6af84129fc5d924f6cd435be572b4183ed5c'},\n",
              "     'value': '93.00000000'},\n",
              "    {'address': 'nulldata',\n",
              "     'output_no': 1,\n",
              "     'spent': None,\n",
              "     'value': '0.00000000'}],\n",
              "   'value': '95.00000000'},\n",
              "  'time': 1650596238,\n",
              "  'txid': '466ee54dbb8df470c075fd397274fee5f0c66e318c2be2cfa229fc88671cdec3'},\n",
              " {'block_no': 4193862,\n",
              "  'confirmations': 27916,\n",
              "  'incoming': {'inputs': [{'address': 'D6zKNnkupqRbkB9p5rwix8QiobQWJazjyX',\n",
              "     'input_no': 0,\n",
              "     'received_from': {'output_no': 0,\n",
              "      'txid': 'a76fbc9a793ecacabf28ee12ecb1716dbabe315e3b6fd58f0d3dc04b73bac1ae'}}],\n",
              "   'output_no': 0,\n",
              "   'req_sigs': 1,\n",
              "   'script_asm': 'OP_DUP OP_HASH160 144739367df0ff8d1c61d03704298d49cf93ef3f OP_EQUALVERIFY OP_CHECKSIG',\n",
              "   'script_hex': '76a914144739367df0ff8d1c61d03704298d49cf93ef3f88ac',\n",
              "   'spent': {'input_no': 0,\n",
              "    'txid': '466ee54dbb8df470c075fd397274fee5f0c66e318c2be2cfa229fc88671cdec3'},\n",
              "   'value': '95.00000000'},\n",
              "  'outgoing': {'outputs': [{'address': 'D6zKNnkupqRbkB9p5rwix8QiobQWJazjyX',\n",
              "     'output_no': 0,\n",
              "     'spent': {'input_no': 0,\n",
              "      'txid': '466ee54dbb8df470c075fd397274fee5f0c66e318c2be2cfa229fc88671cdec3'},\n",
              "     'value': '95.00000000'},\n",
              "    {'address': 'nulldata',\n",
              "     'output_no': 1,\n",
              "     'spent': None,\n",
              "     'value': '0.00000000'}],\n",
              "   'value': '97.00000000'},\n",
              "  'time': 1650596083,\n",
              "  'txid': '471720c333030d8c16c1ca35ddfab6705a2ca8d39d09dde37f486616b63972ba'},\n",
              " {'block_no': 4193861,\n",
              "  'confirmations': 27917,\n",
              "  'incoming': {'inputs': [{'address': 'D6zKNnkupqRbkB9p5rwix8QiobQWJazjyX',\n",
              "     'input_no': 0,\n",
              "     'received_from': {'output_no': 0,\n",
              "      'txid': 'b0821e8b53e2985c59f06d32318ae89743943e3d901ca7d95b6dd1d453f0d56b'}}],\n",
              "   'output_no': 0,\n",
              "   'req_sigs': 1,\n",
              "   'script_asm': 'OP_DUP OP_HASH160 144739367df0ff8d1c61d03704298d49cf93ef3f OP_EQUALVERIFY OP_CHECKSIG',\n",
              "   'script_hex': '76a914144739367df0ff8d1c61d03704298d49cf93ef3f88ac',\n",
              "   'spent': {'input_no': 0,\n",
              "    'txid': '471720c333030d8c16c1ca35ddfab6705a2ca8d39d09dde37f486616b63972ba'},\n",
              "   'value': '97.00000000'},\n",
              "  'outgoing': {'outputs': [{'address': 'D6zKNnkupqRbkB9p5rwix8QiobQWJazjyX',\n",
              "     'output_no': 0,\n",
              "     'spent': {'input_no': 0,\n",
              "      'txid': '471720c333030d8c16c1ca35ddfab6705a2ca8d39d09dde37f486616b63972ba'},\n",
              "     'value': '97.00000000'},\n",
              "    {'address': 'nulldata',\n",
              "     'output_no': 1,\n",
              "     'spent': None,\n",
              "     'value': '0.00000000'}],\n",
              "   'value': '99.00000000'},\n",
              "  'time': 1650595969,\n",
              "  'txid': 'a76fbc9a793ecacabf28ee12ecb1716dbabe315e3b6fd58f0d3dc04b73bac1ae'},\n",
              " {'block_no': 4193854,\n",
              "  'confirmations': 27924,\n",
              "  'incoming': {'inputs': [{'address': 'D6zKNnkupqRbkB9p5rwix8QiobQWJazjyX',\n",
              "     'input_no': 0,\n",
              "     'received_from': {'output_no': 0,\n",
              "      'txid': 'c24330aaa69b0b6ec7ec04824a4eed28982d6c6d049adc986705945fc96db6d5'}}],\n",
              "   'output_no': 0,\n",
              "   'req_sigs': 1,\n",
              "   'script_asm': 'OP_DUP OP_HASH160 144739367df0ff8d1c61d03704298d49cf93ef3f OP_EQUALVERIFY OP_CHECKSIG',\n",
              "   'script_hex': '76a914144739367df0ff8d1c61d03704298d49cf93ef3f88ac',\n",
              "   'spent': {'input_no': 0,\n",
              "    'txid': 'a76fbc9a793ecacabf28ee12ecb1716dbabe315e3b6fd58f0d3dc04b73bac1ae'},\n",
              "   'value': '99.00000000'},\n",
              "  'outgoing': {'outputs': [{'address': 'D6zKNnkupqRbkB9p5rwix8QiobQWJazjyX',\n",
              "     'output_no': 0,\n",
              "     'spent': {'input_no': 0,\n",
              "      'txid': 'a76fbc9a793ecacabf28ee12ecb1716dbabe315e3b6fd58f0d3dc04b73bac1ae'},\n",
              "     'value': '99.00000000'},\n",
              "    {'address': 'nulldata',\n",
              "     'output_no': 1,\n",
              "     'spent': None,\n",
              "     'value': '0.00000000'}],\n",
              "   'value': '101.00000000'},\n",
              "  'time': 1650595620,\n",
              "  'txid': 'b0821e8b53e2985c59f06d32318ae89743943e3d901ca7d95b6dd1d453f0d56b'},\n",
              " {'block_no': 4193852,\n",
              "  'confirmations': 27926,\n",
              "  'incoming': {'inputs': [{'address': 'D6zKNnkupqRbkB9p5rwix8QiobQWJazjyX',\n",
              "     'input_no': 0,\n",
              "     'received_from': {'output_no': 0,\n",
              "      'txid': '0bb797690b76e7c678d06565220ba7dcdbafed92373ea22fe49494a7e0f55fe5'}}],\n",
              "   'output_no': 0,\n",
              "   'req_sigs': 1,\n",
              "   'script_asm': 'OP_DUP OP_HASH160 144739367df0ff8d1c61d03704298d49cf93ef3f OP_EQUALVERIFY OP_CHECKSIG',\n",
              "   'script_hex': '76a914144739367df0ff8d1c61d03704298d49cf93ef3f88ac',\n",
              "   'spent': {'input_no': 0,\n",
              "    'txid': 'b0821e8b53e2985c59f06d32318ae89743943e3d901ca7d95b6dd1d453f0d56b'},\n",
              "   'value': '101.00000000'},\n",
              "  'outgoing': {'outputs': [{'address': 'D6zKNnkupqRbkB9p5rwix8QiobQWJazjyX',\n",
              "     'output_no': 0,\n",
              "     'spent': {'input_no': 0,\n",
              "      'txid': 'b0821e8b53e2985c59f06d32318ae89743943e3d901ca7d95b6dd1d453f0d56b'},\n",
              "     'value': '101.00000000'},\n",
              "    {'address': 'nulldata',\n",
              "     'output_no': 1,\n",
              "     'spent': None,\n",
              "     'value': '0.00000000'}],\n",
              "   'value': '103.00000000'},\n",
              "  'time': 1650595527,\n",
              "  'txid': 'c24330aaa69b0b6ec7ec04824a4eed28982d6c6d049adc986705945fc96db6d5'},\n",
              " {'block_no': 4193850,\n",
              "  'confirmations': 27928,\n",
              "  'incoming': {'inputs': [{'address': 'D6zKNnkupqRbkB9p5rwix8QiobQWJazjyX',\n",
              "     'input_no': 0,\n",
              "     'received_from': {'output_no': 0,\n",
              "      'txid': '48192af05a3aaf8cf8b3eaae01aa280573cf2f4e402a94e3fdda0748a45fd341'}}],\n",
              "   'output_no': 0,\n",
              "   'req_sigs': 1,\n",
              "   'script_asm': 'OP_DUP OP_HASH160 144739367df0ff8d1c61d03704298d49cf93ef3f OP_EQUALVERIFY OP_CHECKSIG',\n",
              "   'script_hex': '76a914144739367df0ff8d1c61d03704298d49cf93ef3f88ac',\n",
              "   'spent': {'input_no': 0,\n",
              "    'txid': 'c24330aaa69b0b6ec7ec04824a4eed28982d6c6d049adc986705945fc96db6d5'},\n",
              "   'value': '103.00000000'},\n",
              "  'outgoing': {'outputs': [{'address': 'D6zKNnkupqRbkB9p5rwix8QiobQWJazjyX',\n",
              "     'output_no': 0,\n",
              "     'spent': {'input_no': 0,\n",
              "      'txid': 'c24330aaa69b0b6ec7ec04824a4eed28982d6c6d049adc986705945fc96db6d5'},\n",
              "     'value': '103.00000000'},\n",
              "    {'address': 'nulldata',\n",
              "     'output_no': 1,\n",
              "     'spent': None,\n",
              "     'value': '0.00000000'}],\n",
              "   'value': '105.00000000'},\n",
              "  'time': 1650595280,\n",
              "  'txid': '0bb797690b76e7c678d06565220ba7dcdbafed92373ea22fe49494a7e0f55fe5'},\n",
              " {'block_no': 4193848,\n",
              "  'confirmations': 27930,\n",
              "  'incoming': {'inputs': [{'address': 'D6zKNnkupqRbkB9p5rwix8QiobQWJazjyX',\n",
              "     'input_no': 0,\n",
              "     'received_from': {'output_no': 0,\n",
              "      'txid': 'f30809fbe7ccba952712695bf827f9595744d4c8ae9fb5f6a8d7d21b39960024'}}],\n",
              "   'output_no': 0,\n",
              "   'req_sigs': 1,\n",
              "   'script_asm': 'OP_DUP OP_HASH160 144739367df0ff8d1c61d03704298d49cf93ef3f OP_EQUALVERIFY OP_CHECKSIG',\n",
              "   'script_hex': '76a914144739367df0ff8d1c61d03704298d49cf93ef3f88ac',\n",
              "   'spent': {'input_no': 0,\n",
              "    'txid': '0bb797690b76e7c678d06565220ba7dcdbafed92373ea22fe49494a7e0f55fe5'},\n",
              "   'value': '105.00000000'},\n",
              "  'outgoing': {'outputs': [{'address': 'D6zKNnkupqRbkB9p5rwix8QiobQWJazjyX',\n",
              "     'output_no': 0,\n",
              "     'spent': {'input_no': 0,\n",
              "      'txid': '0bb797690b76e7c678d06565220ba7dcdbafed92373ea22fe49494a7e0f55fe5'},\n",
              "     'value': '105.00000000'},\n",
              "    {'address': 'nulldata',\n",
              "     'output_no': 1,\n",
              "     'spent': None,\n",
              "     'value': '0.00000000'}],\n",
              "   'value': '107.00000000'},\n",
              "  'time': 1650595207,\n",
              "  'txid': '48192af05a3aaf8cf8b3eaae01aa280573cf2f4e402a94e3fdda0748a45fd341'},\n",
              " {'block_no': 4193846,\n",
              "  'confirmations': 27932,\n",
              "  'incoming': {'inputs': [{'address': 'D6zKNnkupqRbkB9p5rwix8QiobQWJazjyX',\n",
              "     'input_no': 0,\n",
              "     'received_from': {'output_no': 0,\n",
              "      'txid': '58f58c2d1694653a8396f0feae41f00a1852fe4a6b6ba782d72e22f93720a9ba'}}],\n",
              "   'output_no': 0,\n",
              "   'req_sigs': 1,\n",
              "   'script_asm': 'OP_DUP OP_HASH160 144739367df0ff8d1c61d03704298d49cf93ef3f OP_EQUALVERIFY OP_CHECKSIG',\n",
              "   'script_hex': '76a914144739367df0ff8d1c61d03704298d49cf93ef3f88ac',\n",
              "   'spent': {'input_no': 0,\n",
              "    'txid': '48192af05a3aaf8cf8b3eaae01aa280573cf2f4e402a94e3fdda0748a45fd341'},\n",
              "   'value': '107.00000000'},\n",
              "  'outgoing': {'outputs': [{'address': 'D6zKNnkupqRbkB9p5rwix8QiobQWJazjyX',\n",
              "     'output_no': 0,\n",
              "     'spent': {'input_no': 0,\n",
              "      'txid': '48192af05a3aaf8cf8b3eaae01aa280573cf2f4e402a94e3fdda0748a45fd341'},\n",
              "     'value': '107.00000000'},\n",
              "    {'address': 'nulldata',\n",
              "     'output_no': 1,\n",
              "     'spent': None,\n",
              "     'value': '0.00000000'}],\n",
              "   'value': '109.00000000'},\n",
              "  'time': 1650595083,\n",
              "  'txid': 'f30809fbe7ccba952712695bf827f9595744d4c8ae9fb5f6a8d7d21b39960024'},\n",
              " {'block_no': 4193845,\n",
              "  'confirmations': 27933,\n",
              "  'incoming': {'inputs': [{'address': 'D6zKNnkupqRbkB9p5rwix8QiobQWJazjyX',\n",
              "     'input_no': 0,\n",
              "     'received_from': {'output_no': 0,\n",
              "      'txid': '4a3c2a16db96681b4351b3bb642d12e69a27f1f695323ef5dd1b4c5628cd8127'}}],\n",
              "   'output_no': 0,\n",
              "   'req_sigs': 1,\n",
              "   'script_asm': 'OP_DUP OP_HASH160 144739367df0ff8d1c61d03704298d49cf93ef3f OP_EQUALVERIFY OP_CHECKSIG',\n",
              "   'script_hex': '76a914144739367df0ff8d1c61d03704298d49cf93ef3f88ac',\n",
              "   'spent': {'input_no': 0,\n",
              "    'txid': 'f30809fbe7ccba952712695bf827f9595744d4c8ae9fb5f6a8d7d21b39960024'},\n",
              "   'value': '109.00000000'},\n",
              "  'outgoing': {'outputs': [{'address': 'D6zKNnkupqRbkB9p5rwix8QiobQWJazjyX',\n",
              "     'output_no': 0,\n",
              "     'spent': {'input_no': 0,\n",
              "      'txid': 'f30809fbe7ccba952712695bf827f9595744d4c8ae9fb5f6a8d7d21b39960024'},\n",
              "     'value': '109.00000000'},\n",
              "    {'address': 'nulldata',\n",
              "     'output_no': 1,\n",
              "     'spent': None,\n",
              "     'value': '0.00000000'}],\n",
              "   'value': '111.00000000'},\n",
              "  'time': 1650595041,\n",
              "  'txid': '58f58c2d1694653a8396f0feae41f00a1852fe4a6b6ba782d72e22f93720a9ba'},\n",
              " {'block_no': 4193843,\n",
              "  'confirmations': 27935,\n",
              "  'incoming': {'inputs': [{'address': 'D6zKNnkupqRbkB9p5rwix8QiobQWJazjyX',\n",
              "     'input_no': 0,\n",
              "     'received_from': {'output_no': 0,\n",
              "      'txid': '49c862b789f6d4b9d681e5c4cb8523157f730cb7f108a71ae2a9bbb77c7d95f4'}}],\n",
              "   'output_no': 0,\n",
              "   'req_sigs': 1,\n",
              "   'script_asm': 'OP_DUP OP_HASH160 144739367df0ff8d1c61d03704298d49cf93ef3f OP_EQUALVERIFY OP_CHECKSIG',\n",
              "   'script_hex': '76a914144739367df0ff8d1c61d03704298d49cf93ef3f88ac',\n",
              "   'spent': {'input_no': 0,\n",
              "    'txid': '58f58c2d1694653a8396f0feae41f00a1852fe4a6b6ba782d72e22f93720a9ba'},\n",
              "   'value': '111.00000000'},\n",
              "  'outgoing': {'outputs': [{'address': 'D6zKNnkupqRbkB9p5rwix8QiobQWJazjyX',\n",
              "     'output_no': 0,\n",
              "     'spent': {'input_no': 0,\n",
              "      'txid': '58f58c2d1694653a8396f0feae41f00a1852fe4a6b6ba782d72e22f93720a9ba'},\n",
              "     'value': '111.00000000'},\n",
              "    {'address': 'nulldata',\n",
              "     'output_no': 1,\n",
              "     'spent': None,\n",
              "     'value': '0.00000000'}],\n",
              "   'value': '113.00000000'},\n",
              "  'time': 1650595020,\n",
              "  'txid': '4a3c2a16db96681b4351b3bb642d12e69a27f1f695323ef5dd1b4c5628cd8127'},\n",
              " {'block_no': 4193840,\n",
              "  'confirmations': 27938,\n",
              "  'incoming': {'inputs': [{'address': 'D6zKNnkupqRbkB9p5rwix8QiobQWJazjyX',\n",
              "     'input_no': 0,\n",
              "     'received_from': {'output_no': 0,\n",
              "      'txid': '9cc1d1a9f705aee36a90bdee6897c35181cb717b7cac9c4afb6cf147f0daf18d'}},\n",
              "    {'address': 'D6zKNnkupqRbkB9p5rwix8QiobQWJazjyX',\n",
              "     'input_no': 1,\n",
              "     'received_from': {'output_no': 0,\n",
              "      'txid': 'c77225a5287d802c4bfb05ee07c99cbf25a50c4245744b6e00e61e494578970c'}}],\n",
              "   'output_no': 0,\n",
              "   'req_sigs': 1,\n",
              "   'script_asm': 'OP_DUP OP_HASH160 144739367df0ff8d1c61d03704298d49cf93ef3f OP_EQUALVERIFY OP_CHECKSIG',\n",
              "   'script_hex': '76a914144739367df0ff8d1c61d03704298d49cf93ef3f88ac',\n",
              "   'spent': {'input_no': 0,\n",
              "    'txid': '4a3c2a16db96681b4351b3bb642d12e69a27f1f695323ef5dd1b4c5628cd8127'},\n",
              "   'value': '113.00000000'},\n",
              "  'outgoing': {'outputs': [{'address': 'D6zKNnkupqRbkB9p5rwix8QiobQWJazjyX',\n",
              "     'output_no': 0,\n",
              "     'spent': {'input_no': 0,\n",
              "      'txid': '4a3c2a16db96681b4351b3bb642d12e69a27f1f695323ef5dd1b4c5628cd8127'},\n",
              "     'value': '113.00000000'},\n",
              "    {'address': 'nulldata',\n",
              "     'output_no': 1,\n",
              "     'spent': None,\n",
              "     'value': '0.00000000'}],\n",
              "   'value': '115.00000000'},\n",
              "  'time': 1650594711,\n",
              "  'txid': '49c862b789f6d4b9d681e5c4cb8523157f730cb7f108a71ae2a9bbb77c7d95f4'},\n",
              " {'block_no': 4193067,\n",
              "  'confirmations': 28711,\n",
              "  'incoming': {'inputs': [{'address': 'D6zKNnkupqRbkB9p5rwix8QiobQWJazjyX',\n",
              "     'input_no': 0,\n",
              "     'received_from': {'output_no': 1,\n",
              "      'txid': '488494cee522eae9bb1bd6616798c07025380ec05f3d7d50b13554c2683ccb25'}}],\n",
              "   'output_no': 0,\n",
              "   'req_sigs': 1,\n",
              "   'script_asm': 'OP_DUP OP_HASH160 144739367df0ff8d1c61d03704298d49cf93ef3f OP_EQUALVERIFY OP_CHECKSIG',\n",
              "   'script_hex': '76a914144739367df0ff8d1c61d03704298d49cf93ef3f88ac',\n",
              "   'spent': {'input_no': 1,\n",
              "    'txid': '49c862b789f6d4b9d681e5c4cb8523157f730cb7f108a71ae2a9bbb77c7d95f4'},\n",
              "   'value': '98.00000000'},\n",
              "  'outgoing': {'outputs': [{'address': 'D6zKNnkupqRbkB9p5rwix8QiobQWJazjyX',\n",
              "     'output_no': 0,\n",
              "     'spent': {'input_no': 1,\n",
              "      'txid': '49c862b789f6d4b9d681e5c4cb8523157f730cb7f108a71ae2a9bbb77c7d95f4'},\n",
              "     'value': '98.00000000'},\n",
              "    {'address': 'nulldata',\n",
              "     'output_no': 1,\n",
              "     'spent': None,\n",
              "     'value': '0.00000000'}],\n",
              "   'value': '100.00000000'},\n",
              "  'time': 1650544936,\n",
              "  'txid': 'c77225a5287d802c4bfb05ee07c99cbf25a50c4245744b6e00e61e494578970c'},\n",
              " {'block_no': 4193061,\n",
              "  'confirmations': 28717,\n",
              "  'incoming': {'inputs': [{'address': 'D9miQpHstPX9E4Yrut4hhEuKUynKj7ML9V',\n",
              "     'input_no': 0,\n",
              "     'received_from': {'output_no': 1,\n",
              "      'txid': '76056897b2e32d482b4f1b2557be51db98a1298f7fb5c651ae3aa2c2974b5dc5'}}],\n",
              "   'output_no': 1,\n",
              "   'req_sigs': 1,\n",
              "   'script_asm': 'OP_DUP OP_HASH160 144739367df0ff8d1c61d03704298d49cf93ef3f OP_EQUALVERIFY OP_CHECKSIG',\n",
              "   'script_hex': '76a914144739367df0ff8d1c61d03704298d49cf93ef3f88ac',\n",
              "   'spent': {'input_no': 0,\n",
              "    'txid': 'c77225a5287d802c4bfb05ee07c99cbf25a50c4245744b6e00e61e494578970c'},\n",
              "   'value': '100.00000000'},\n",
              "  'time': 1650544680,\n",
              "  'txid': '488494cee522eae9bb1bd6616798c07025380ec05f3d7d50b13554c2683ccb25'},\n",
              " {'block_no': 4192343,\n",
              "  'confirmations': 29435,\n",
              "  'incoming': {'inputs': [{'address': 'D6zKNnkupqRbkB9p5rwix8QiobQWJazjyX',\n",
              "     'input_no': 0,\n",
              "     'received_from': {'output_no': 0,\n",
              "      'txid': '51c0c084392ac04f902224e7cd94dffe1ac7ed7adde9048178ddfb8bce2b5fa2'}}],\n",
              "   'output_no': 0,\n",
              "   'req_sigs': 1,\n",
              "   'script_asm': 'OP_DUP OP_HASH160 144739367df0ff8d1c61d03704298d49cf93ef3f OP_EQUALVERIFY OP_CHECKSIG',\n",
              "   'script_hex': '76a914144739367df0ff8d1c61d03704298d49cf93ef3f88ac',\n",
              "   'spent': {'input_no': 0,\n",
              "    'txid': '49c862b789f6d4b9d681e5c4cb8523157f730cb7f108a71ae2a9bbb77c7d95f4'},\n",
              "   'value': '17.00000000'},\n",
              "  'outgoing': {'outputs': [{'address': 'D6zKNnkupqRbkB9p5rwix8QiobQWJazjyX',\n",
              "     'output_no': 0,\n",
              "     'spent': {'input_no': 0,\n",
              "      'txid': '49c862b789f6d4b9d681e5c4cb8523157f730cb7f108a71ae2a9bbb77c7d95f4'},\n",
              "     'value': '17.00000000'},\n",
              "    {'address': 'nulldata',\n",
              "     'output_no': 1,\n",
              "     'spent': None,\n",
              "     'value': '0.00000000'}],\n",
              "   'value': '18.00000000'},\n",
              "  'time': 1650498494,\n",
              "  'txid': '9cc1d1a9f705aee36a90bdee6897c35181cb717b7cac9c4afb6cf147f0daf18d'},\n",
              " {'block_no': 4192251,\n",
              "  'confirmations': 29527,\n",
              "  'incoming': {'inputs': [{'address': 'D6zKNnkupqRbkB9p5rwix8QiobQWJazjyX',\n",
              "     'input_no': 0,\n",
              "     'received_from': {'output_no': 0,\n",
              "      'txid': 'f026d68ddd2a4388448c0bcdc12c16c6b0a9a2ba4cca3ae1e0f5766d21feb5cf'}}],\n",
              "   'output_no': 0,\n",
              "   'req_sigs': 1,\n",
              "   'script_asm': 'OP_DUP OP_HASH160 144739367df0ff8d1c61d03704298d49cf93ef3f OP_EQUALVERIFY OP_CHECKSIG',\n",
              "   'script_hex': '76a914144739367df0ff8d1c61d03704298d49cf93ef3f88ac',\n",
              "   'spent': {'input_no': 0,\n",
              "    'txid': '9cc1d1a9f705aee36a90bdee6897c35181cb717b7cac9c4afb6cf147f0daf18d'},\n",
              "   'value': '18.00000000'},\n",
              "  'outgoing': {'outputs': [{'address': 'D6zKNnkupqRbkB9p5rwix8QiobQWJazjyX',\n",
              "     'output_no': 0,\n",
              "     'spent': {'input_no': 0,\n",
              "      'txid': '9cc1d1a9f705aee36a90bdee6897c35181cb717b7cac9c4afb6cf147f0daf18d'},\n",
              "     'value': '18.00000000'},\n",
              "    {'address': 'nulldata',\n",
              "     'output_no': 1,\n",
              "     'spent': None,\n",
              "     'value': '0.00000000'}],\n",
              "   'value': '19.00000000'},\n",
              "  'time': 1650492865,\n",
              "  'txid': '51c0c084392ac04f902224e7cd94dffe1ac7ed7adde9048178ddfb8bce2b5fa2'},\n",
              " {'block_no': 4169012,\n",
              "  'confirmations': 52766,\n",
              "  'incoming': {'inputs': [{'address': 'D6zKNnkupqRbkB9p5rwix8QiobQWJazjyX',\n",
              "     'input_no': 0,\n",
              "     'received_from': {'output_no': 0,\n",
              "      'txid': 'fcea383e211a1019b370e9c832455d251f965639db67144903c6315afdbdea14'}}],\n",
              "   'output_no': 0,\n",
              "   'req_sigs': 1,\n",
              "   'script_asm': 'OP_DUP OP_HASH160 144739367df0ff8d1c61d03704298d49cf93ef3f OP_EQUALVERIFY OP_CHECKSIG',\n",
              "   'script_hex': '76a914144739367df0ff8d1c61d03704298d49cf93ef3f88ac',\n",
              "   'spent': {'input_no': 0,\n",
              "    'txid': '51c0c084392ac04f902224e7cd94dffe1ac7ed7adde9048178ddfb8bce2b5fa2'},\n",
              "   'value': '19.00000000'},\n",
              "  'outgoing': {'outputs': [{'address': 'D6zKNnkupqRbkB9p5rwix8QiobQWJazjyX',\n",
              "     'output_no': 0,\n",
              "     'spent': {'input_no': 0,\n",
              "      'txid': '51c0c084392ac04f902224e7cd94dffe1ac7ed7adde9048178ddfb8bce2b5fa2'},\n",
              "     'value': '19.00000000'},\n",
              "    {'address': 'nulldata',\n",
              "     'output_no': 1,\n",
              "     'spent': None,\n",
              "     'value': '0.00000000'}],\n",
              "   'value': '20.00000000'},\n",
              "  'time': 1649001773,\n",
              "  'txid': 'f026d68ddd2a4388448c0bcdc12c16c6b0a9a2ba4cca3ae1e0f5766d21feb5cf'},\n",
              " {'block_no': 4169011,\n",
              "  'confirmations': 52767,\n",
              "  'incoming': {'inputs': [{'address': 'D6zKNnkupqRbkB9p5rwix8QiobQWJazjyX',\n",
              "     'input_no': 0,\n",
              "     'received_from': {'output_no': 2,\n",
              "      'txid': '2e06d1607e15d8be9e7892f56bbad77f647af30538c3f2ab88835ed9200fcd94'}}],\n",
              "   'output_no': 0,\n",
              "   'req_sigs': 1,\n",
              "   'script_asm': 'OP_DUP OP_HASH160 144739367df0ff8d1c61d03704298d49cf93ef3f OP_EQUALVERIFY OP_CHECKSIG',\n",
              "   'script_hex': '76a914144739367df0ff8d1c61d03704298d49cf93ef3f88ac',\n",
              "   'spent': {'input_no': 0,\n",
              "    'txid': 'f026d68ddd2a4388448c0bcdc12c16c6b0a9a2ba4cca3ae1e0f5766d21feb5cf'},\n",
              "   'value': '20.00000000'},\n",
              "  'outgoing': {'outputs': [{'address': 'D6zKNnkupqRbkB9p5rwix8QiobQWJazjyX',\n",
              "     'output_no': 0,\n",
              "     'spent': {'input_no': 0,\n",
              "      'txid': 'f026d68ddd2a4388448c0bcdc12c16c6b0a9a2ba4cca3ae1e0f5766d21feb5cf'},\n",
              "     'value': '20.00000000'},\n",
              "    {'address': 'nulldata',\n",
              "     'output_no': 1,\n",
              "     'spent': None,\n",
              "     'value': '0.00000000'}],\n",
              "   'value': '21.00000000'},\n",
              "  'time': 1649001377,\n",
              "  'txid': 'fcea383e211a1019b370e9c832455d251f965639db67144903c6315afdbdea14'},\n",
              " {'block_no': 4150150,\n",
              "  'confirmations': 71628,\n",
              "  'incoming': {'inputs': [{'address': 'D6zKNnkupqRbkB9p5rwix8QiobQWJazjyX',\n",
              "     'input_no': 0,\n",
              "     'received_from': {'output_no': 0,\n",
              "      'txid': '98d01787a9f8722c154402e18e59c4251d4583e36067a7013826bc3343fb13af'}}],\n",
              "   'output_no': 2,\n",
              "   'req_sigs': 1,\n",
              "   'script_asm': 'OP_DUP OP_HASH160 144739367df0ff8d1c61d03704298d49cf93ef3f OP_EQUALVERIFY OP_CHECKSIG',\n",
              "   'script_hex': '76a914144739367df0ff8d1c61d03704298d49cf93ef3f88ac',\n",
              "   'spent': {'input_no': 0,\n",
              "    'txid': 'fcea383e211a1019b370e9c832455d251f965639db67144903c6315afdbdea14'},\n",
              "   'value': '31.00000000'},\n",
              "  'outgoing': {'outputs': [{'address': 'D6zKNnkupqRbkB9p5rwix8QiobQWJazjyX',\n",
              "     'output_no': 0,\n",
              "     'spent': {'input_no': 0,\n",
              "      'txid': '9acd7bee16c465f059ff75d1e3773b1daa90ff5e1c59bfe83e6dd97f196f0e7b'},\n",
              "     'value': '10.00000000'},\n",
              "    {'address': 'DJBkcc9zShCCWPTvPuLUiHQegNPbmMipEH',\n",
              "     'output_no': 1,\n",
              "     'spent': {'input_no': 1,\n",
              "      'txid': '9acd7bee16c465f059ff75d1e3773b1daa90ff5e1c59bfe83e6dd97f196f0e7b'},\n",
              "     'value': '10.00000000'},\n",
              "    {'address': 'D6zKNnkupqRbkB9p5rwix8QiobQWJazjyX',\n",
              "     'output_no': 2,\n",
              "     'spent': {'input_no': 0,\n",
              "      'txid': 'fcea383e211a1019b370e9c832455d251f965639db67144903c6315afdbdea14'},\n",
              "     'value': '21.00000000'}],\n",
              "   'value': '42.00000000'},\n",
              "  'time': 1647793832,\n",
              "  'txid': '2e06d1607e15d8be9e7892f56bbad77f647af30538c3f2ab88835ed9200fcd94'},\n",
              " {'block_no': 4100287,\n",
              "  'confirmations': 121491,\n",
              "  'incoming': {'inputs': [{'address': 'D6zKNnkupqRbkB9p5rwix8QiobQWJazjyX',\n",
              "     'input_no': 0,\n",
              "     'received_from': {'output_no': 0,\n",
              "      'txid': '72afb36d56e2f5c7aff134f9d07ce0b07c90d6dbfe0fa5163d9585d015178a15'}},\n",
              "    {'address': 'D6zKNnkupqRbkB9p5rwix8QiobQWJazjyX',\n",
              "     'input_no': 1,\n",
              "     'received_from': {'output_no': 3,\n",
              "      'txid': '72afb36d56e2f5c7aff134f9d07ce0b07c90d6dbfe0fa5163d9585d015178a15'}}],\n",
              "   'output_no': 0,\n",
              "   'req_sigs': 1,\n",
              "   'script_asm': 'OP_DUP OP_HASH160 144739367df0ff8d1c61d03704298d49cf93ef3f OP_EQUALVERIFY OP_CHECKSIG',\n",
              "   'script_hex': '76a914144739367df0ff8d1c61d03704298d49cf93ef3f88ac',\n",
              "   'spent': {'input_no': 0,\n",
              "    'txid': '2e06d1607e15d8be9e7892f56bbad77f647af30538c3f2ab88835ed9200fcd94'},\n",
              "   'value': '42.00000000'},\n",
              "  'outgoing': {'outputs': [{'address': 'D6zKNnkupqRbkB9p5rwix8QiobQWJazjyX',\n",
              "     'output_no': 0,\n",
              "     'spent': {'input_no': 0,\n",
              "      'txid': '2e06d1607e15d8be9e7892f56bbad77f647af30538c3f2ab88835ed9200fcd94'},\n",
              "     'value': '42.00000000'}],\n",
              "   'value': '43.00000000'},\n",
              "  'time': 1644606082,\n",
              "  'txid': '98d01787a9f8722c154402e18e59c4251d4583e36067a7013826bc3343fb13af'},\n",
              " {'block_no': 4100272,\n",
              "  'confirmations': 121506,\n",
              "  'incoming': {'inputs': [{'address': 'D6zKNnkupqRbkB9p5rwix8QiobQWJazjyX',\n",
              "     'input_no': 0,\n",
              "     'received_from': {'output_no': 0,\n",
              "      'txid': 'cd8aba9c6e42ea897eaf778bf91318f7a4bad364c9654a00d7089179b87905f0'}},\n",
              "    {'address': 'D6zKNnkupqRbkB9p5rwix8QiobQWJazjyX',\n",
              "     'input_no': 1,\n",
              "     'received_from': {'output_no': 0,\n",
              "      'txid': '08a06f7c01399476123121d39d2a422785bbcb6b785a62d852f28159a9f56565'}}],\n",
              "   'output_no': 3,\n",
              "   'req_sigs': 1,\n",
              "   'script_asm': 'OP_DUP OP_HASH160 144739367df0ff8d1c61d03704298d49cf93ef3f OP_EQUALVERIFY OP_CHECKSIG',\n",
              "   'script_hex': '76a914144739367df0ff8d1c61d03704298d49cf93ef3f88ac',\n",
              "   'spent': {'input_no': 1,\n",
              "    'txid': '98d01787a9f8722c154402e18e59c4251d4583e36067a7013826bc3343fb13af'},\n",
              "   'value': '43.00000000'},\n",
              "  'outgoing': {'outputs': [{'address': 'D6zKNnkupqRbkB9p5rwix8QiobQWJazjyX',\n",
              "     'output_no': 0,\n",
              "     'spent': {'input_no': 0,\n",
              "      'txid': '98d01787a9f8722c154402e18e59c4251d4583e36067a7013826bc3343fb13af'},\n",
              "     'value': '30.00000000'},\n",
              "    {'address': 'DJsBhHaWg3osuTGUdCVoXh8zimGWSEFmJA',\n",
              "     'output_no': 1,\n",
              "     'spent': {'input_no': 0,\n",
              "      'txid': '8c90d58c5afa49338a72b28bd1a2bd9df3ded17ebcc83cf26880f471a16749ed'},\n",
              "     'value': '30.00000000'},\n",
              "    {'address': 'DSsgmapjVcAaZyttDzdKWriC1fxMw2Fxt7',\n",
              "     'output_no': 2,\n",
              "     'spent': {'input_no': 0,\n",
              "      'txid': '8aa00909fcadfe9e2ff4a69aeb2488c4a140fa4979cf8ebfc2085aed29795a28'},\n",
              "     'value': '30.00000000'},\n",
              "    {'address': 'D6zKNnkupqRbkB9p5rwix8QiobQWJazjyX',\n",
              "     'output_no': 3,\n",
              "     'spent': {'input_no': 1,\n",
              "      'txid': '98d01787a9f8722c154402e18e59c4251d4583e36067a7013826bc3343fb13af'},\n",
              "     'value': '13.00000000'}],\n",
              "   'value': '105.00000000'},\n",
              "  'time': 1644605238,\n",
              "  'txid': '72afb36d56e2f5c7aff134f9d07ce0b07c90d6dbfe0fa5163d9585d015178a15'},\n",
              " {'block_no': 4100252,\n",
              "  'confirmations': 121526,\n",
              "  'incoming': {'inputs': [{'address': 'DNAPTJ1cXAXZiDbYM2YQLT1pVjxeDvRtnf',\n",
              "     'input_no': 0,\n",
              "     'received_from': {'output_no': 0,\n",
              "      'txid': '4bd3c08fbe5cdd8df8810408c4096602b3b0c994ff8de6748ea9bc61210ea0f7'}}],\n",
              "   'output_no': 0,\n",
              "   'req_sigs': 1,\n",
              "   'script_asm': 'OP_DUP OP_HASH160 144739367df0ff8d1c61d03704298d49cf93ef3f OP_EQUALVERIFY OP_CHECKSIG',\n",
              "   'script_hex': '76a914144739367df0ff8d1c61d03704298d49cf93ef3f88ac',\n",
              "   'spent': {'input_no': 1,\n",
              "    'txid': '72afb36d56e2f5c7aff134f9d07ce0b07c90d6dbfe0fa5163d9585d015178a15'},\n",
              "   'value': '40.00000000'},\n",
              "  'time': 1644603891,\n",
              "  'txid': '08a06f7c01399476123121d39d2a422785bbcb6b785a62d852f28159a9f56565'},\n",
              " {'block_no': 4092297,\n",
              "  'confirmations': 129481,\n",
              "  'incoming': {'inputs': [{'address': 'DLWmCjcZRnGCpaWZxD2uZZ8Tad1oKAhBwa',\n",
              "     'input_no': 0,\n",
              "     'received_from': {'output_no': 0,\n",
              "      'txid': '9bdf9d2d157368e01bbf1737c9bb73e957ea6c41f4d17c0fec187f3bf7f76bd2'}}],\n",
              "   'output_no': 0,\n",
              "   'req_sigs': 1,\n",
              "   'script_asm': 'OP_DUP OP_HASH160 144739367df0ff8d1c61d03704298d49cf93ef3f OP_EQUALVERIFY OP_CHECKSIG',\n",
              "   'script_hex': '76a914144739367df0ff8d1c61d03704298d49cf93ef3f88ac',\n",
              "   'spent': {'input_no': 0,\n",
              "    'txid': '72afb36d56e2f5c7aff134f9d07ce0b07c90d6dbfe0fa5163d9585d015178a15'},\n",
              "   'value': '65.00000000'},\n",
              "  'time': 1644097122,\n",
              "  'txid': 'cd8aba9c6e42ea897eaf778bf91318f7a4bad364c9654a00d7089179b87905f0'},\n",
              " {'block_no': 4092255,\n",
              "  'confirmations': 129523,\n",
              "  'incoming': {'inputs': [{'address': 'D6zKNnkupqRbkB9p5rwix8QiobQWJazjyX',\n",
              "     'input_no': 0,\n",
              "     'received_from': {'output_no': 0,\n",
              "      'txid': 'b40389d5ebbef896e78570a83e646e922522f445b10f532e53b45ea4a054caf0'}},\n",
              "    {'address': 'D6zKNnkupqRbkB9p5rwix8QiobQWJazjyX',\n",
              "     'input_no': 1,\n",
              "     'received_from': {'output_no': 6,\n",
              "      'txid': 'b40389d5ebbef896e78570a83e646e922522f445b10f532e53b45ea4a054caf0'}}],\n",
              "   'output_no': 1,\n",
              "   'req_sigs': 1,\n",
              "   'script_asm': 'OP_DUP OP_HASH160 144739367df0ff8d1c61d03704298d49cf93ef3f OP_EQUALVERIFY OP_CHECKSIG',\n",
              "   'script_hex': '76a914144739367df0ff8d1c61d03704298d49cf93ef3f88ac',\n",
              "   'spent': {'input_no': 1,\n",
              "    'txid': '9bdf9d2d157368e01bbf1737c9bb73e957ea6c41f4d17c0fec187f3bf7f76bd2'},\n",
              "   'value': '67.00000000'},\n",
              "  'outgoing': {'outputs': [{'address': 'D6zKNnkupqRbkB9p5rwix8QiobQWJazjyX',\n",
              "     'output_no': 0,\n",
              "     'spent': {'input_no': 0,\n",
              "      'txid': '9bdf9d2d157368e01bbf1737c9bb73e957ea6c41f4d17c0fec187f3bf7f76bd2'},\n",
              "     'value': '10.00000000'},\n",
              "    {'address': 'D6zKNnkupqRbkB9p5rwix8QiobQWJazjyX',\n",
              "     'output_no': 1,\n",
              "     'spent': {'input_no': 1,\n",
              "      'txid': '9bdf9d2d157368e01bbf1737c9bb73e957ea6c41f4d17c0fec187f3bf7f76bd2'},\n",
              "     'value': '57.00000000'}],\n",
              "   'value': '68.00000000'},\n",
              "  'time': 1644094815,\n",
              "  'txid': '5f656cdf221788c5b871d620fddbf36837ccef9a0f99bff97c05b470e9ae86d2'},\n",
              " {'block_no': 4083950,\n",
              "  'confirmations': 137828,\n",
              "  'incoming': {'inputs': [{'address': 'D6zKNnkupqRbkB9p5rwix8QiobQWJazjyX',\n",
              "     'input_no': 0,\n",
              "     'received_from': {'output_no': 0,\n",
              "      'txid': '678af23975486316a9a6ef09589c437bc96fec1dff6ee5300dffad88dba26880'}},\n",
              "    {'address': 'D6zKNnkupqRbkB9p5rwix8QiobQWJazjyX',\n",
              "     'input_no': 1,\n",
              "     'received_from': {'output_no': 0,\n",
              "      'txid': 'a8a10a68ad54753a9c73c110af26e8accf68457dd9cb2e7a78b4f9ffd548a3cf'}},\n",
              "    {'address': 'D6zKNnkupqRbkB9p5rwix8QiobQWJazjyX',\n",
              "     'input_no': 2,\n",
              "     'received_from': {'output_no': 0,\n",
              "      'txid': '95d5dd13e80204ccaf058e067c7af7a70ba9229069cfc0ab5df20b2011ebb0d4'}},\n",
              "    {'address': 'D6zKNnkupqRbkB9p5rwix8QiobQWJazjyX',\n",
              "     'input_no': 3,\n",
              "     'received_from': {'output_no': 0,\n",
              "      'txid': '3cb27b37c42077ea9317ca2bdb377f5ddadc2cb4b4f0129cbec06bb486881d64'}},\n",
              "    {'address': 'D6zKNnkupqRbkB9p5rwix8QiobQWJazjyX',\n",
              "     'input_no': 4,\n",
              "     'received_from': {'output_no': 0,\n",
              "      'txid': '5c0a0e35a1e5aefbd408bd6702a9062873caff5325bbaf135f581066803e2b26'}}],\n",
              "   'output_no': 6,\n",
              "   'req_sigs': 1,\n",
              "   'script_asm': 'OP_DUP OP_HASH160 144739367df0ff8d1c61d03704298d49cf93ef3f OP_EQUALVERIFY OP_CHECKSIG',\n",
              "   'script_hex': '76a914144739367df0ff8d1c61d03704298d49cf93ef3f88ac',\n",
              "   'spent': {'input_no': 1,\n",
              "    'txid': '5f656cdf221788c5b871d620fddbf36837ccef9a0f99bff97c05b470e9ae86d2'},\n",
              "   'value': '68.00000000'},\n",
              "  'outgoing': {'outputs': [{'address': 'D6zKNnkupqRbkB9p5rwix8QiobQWJazjyX',\n",
              "     'output_no': 0,\n",
              "     'spent': {'input_no': 0,\n",
              "      'txid': '5f656cdf221788c5b871d620fddbf36837ccef9a0f99bff97c05b470e9ae86d2'},\n",
              "     'value': '2.00000000'},\n",
              "    {'address': 'DEDHBhvR8axAXccfHH6fW5CgxC94PiA7gj',\n",
              "     'output_no': 1,\n",
              "     'spent': None,\n",
              "     'value': '2.00000000'},\n",
              "    {'address': 'DHQ6bVfCHfDHHcbhWngCpg9ApTVayt1ua3',\n",
              "     'output_no': 2,\n",
              "     'spent': None,\n",
              "     'value': '2.00000000'},\n",
              "    {'address': 'D8BewGXZHvkSNsNTeMuTsckYXxPu384xr6',\n",
              "     'output_no': 3,\n",
              "     'spent': None,\n",
              "     'value': '2.00000000'},\n",
              "    {'address': 'DQBWafvf78pU9xA8giUAnCjJj4dutRfn6B',\n",
              "     'output_no': 4,\n",
              "     'spent': None,\n",
              "     'value': '2.00000000'},\n",
              "    {'address': 'D9czW5LFU1nT9D5pBvjNfFwh4YrG8kJz7w',\n",
              "     'output_no': 5,\n",
              "     'spent': None,\n",
              "     'value': '2.00000000'},\n",
              "    {'address': 'D6zKNnkupqRbkB9p5rwix8QiobQWJazjyX',\n",
              "     'output_no': 6,\n",
              "     'spent': {'input_no': 1,\n",
              "      'txid': '5f656cdf221788c5b871d620fddbf36837ccef9a0f99bff97c05b470e9ae86d2'},\n",
              "     'value': '66.00000000'}],\n",
              "   'value': '80.00000000'},\n",
              "  'time': 1643562076,\n",
              "  'txid': 'b40389d5ebbef896e78570a83e646e922522f445b10f532e53b45ea4a054caf0'},\n",
              " {'block_no': 4074486,\n",
              "  'confirmations': 147292,\n",
              "  'incoming': {'inputs': [{'address': 'DEDHBhvR8axAXccfHH6fW5CgxC94PiA7gj',\n",
              "     'input_no': 0,\n",
              "     'received_from': {'output_no': 1,\n",
              "      'txid': '6b4129dd6872096b41e831da210e56d1f3906bdcf58dde8386befba7581ba1ea'}}],\n",
              "   'output_no': 0,\n",
              "   'req_sigs': 1,\n",
              "   'script_asm': 'OP_DUP OP_HASH160 144739367df0ff8d1c61d03704298d49cf93ef3f OP_EQUALVERIFY OP_CHECKSIG',\n",
              "   'script_hex': '76a914144739367df0ff8d1c61d03704298d49cf93ef3f88ac',\n",
              "   'spent': {'input_no': 4,\n",
              "    'txid': 'b40389d5ebbef896e78570a83e646e922522f445b10f532e53b45ea4a054caf0'},\n",
              "   'value': '9.00000000'},\n",
              "  'time': 1642958950,\n",
              "  'txid': '5c0a0e35a1e5aefbd408bd6702a9062873caff5325bbaf135f581066803e2b26'},\n",
              " {'block_no': 4074486,\n",
              "  'confirmations': 147292,\n",
              "  'incoming': {'inputs': [{'address': 'D8BewGXZHvkSNsNTeMuTsckYXxPu384xr6',\n",
              "     'input_no': 0,\n",
              "     'received_from': {'output_no': 3,\n",
              "      'txid': '6b4129dd6872096b41e831da210e56d1f3906bdcf58dde8386befba7581ba1ea'}}],\n",
              "   'output_no': 0,\n",
              "   'req_sigs': 1,\n",
              "   'script_asm': 'OP_DUP OP_HASH160 144739367df0ff8d1c61d03704298d49cf93ef3f OP_EQUALVERIFY OP_CHECKSIG',\n",
              "   'script_hex': '76a914144739367df0ff8d1c61d03704298d49cf93ef3f88ac',\n",
              "   'spent': {'input_no': 3,\n",
              "    'txid': 'b40389d5ebbef896e78570a83e646e922522f445b10f532e53b45ea4a054caf0'},\n",
              "   'value': '9.00000000'},\n",
              "  'time': 1642958938,\n",
              "  'txid': '3cb27b37c42077ea9317ca2bdb377f5ddadc2cb4b4f0129cbec06bb486881d64'},\n",
              " {'block_no': 4074485,\n",
              "  'confirmations': 147293,\n",
              "  'incoming': {'inputs': [{'address': 'DHQ6bVfCHfDHHcbhWngCpg9ApTVayt1ua3',\n",
              "     'input_no': 0,\n",
              "     'received_from': {'output_no': 2,\n",
              "      'txid': '6b4129dd6872096b41e831da210e56d1f3906bdcf58dde8386befba7581ba1ea'}}],\n",
              "   'output_no': 0,\n",
              "   'req_sigs': 1,\n",
              "   'script_asm': 'OP_DUP OP_HASH160 144739367df0ff8d1c61d03704298d49cf93ef3f OP_EQUALVERIFY OP_CHECKSIG',\n",
              "   'script_hex': '76a914144739367df0ff8d1c61d03704298d49cf93ef3f88ac',\n",
              "   'spent': {'input_no': 2,\n",
              "    'txid': 'b40389d5ebbef896e78570a83e646e922522f445b10f532e53b45ea4a054caf0'},\n",
              "   'value': '9.00000000'},\n",
              "  'time': 1642958937,\n",
              "  'txid': '95d5dd13e80204ccaf058e067c7af7a70ba9229069cfc0ab5df20b2011ebb0d4'},\n",
              " {'block_no': 4074485,\n",
              "  'confirmations': 147293,\n",
              "  'incoming': {'inputs': [{'address': 'D6zKNnkupqRbkB9p5rwix8QiobQWJazjyX',\n",
              "     'input_no': 0,\n",
              "     'received_from': {'output_no': 0,\n",
              "      'txid': '6b4129dd6872096b41e831da210e56d1f3906bdcf58dde8386befba7581ba1ea'}},\n",
              "    {'address': 'D6zKNnkupqRbkB9p5rwix8QiobQWJazjyX',\n",
              "     'input_no': 1,\n",
              "     'received_from': {'output_no': 6,\n",
              "      'txid': '6b4129dd6872096b41e831da210e56d1f3906bdcf58dde8386befba7581ba1ea'}}],\n",
              "   'output_no': 0,\n",
              "   'req_sigs': 1,\n",
              "   'script_asm': 'OP_DUP OP_HASH160 144739367df0ff8d1c61d03704298d49cf93ef3f OP_EQUALVERIFY OP_CHECKSIG',\n",
              "   'script_hex': '76a914144739367df0ff8d1c61d03704298d49cf93ef3f88ac',\n",
              "   'spent': {'input_no': 0,\n",
              "    'txid': 'b40389d5ebbef896e78570a83e646e922522f445b10f532e53b45ea4a054caf0'},\n",
              "   'value': '44.00000000'},\n",
              "  'outgoing': {'outputs': [{'address': 'D6zKNnkupqRbkB9p5rwix8QiobQWJazjyX',\n",
              "     'output_no': 0,\n",
              "     'spent': {'input_no': 0,\n",
              "      'txid': 'b40389d5ebbef896e78570a83e646e922522f445b10f532e53b45ea4a054caf0'},\n",
              "     'value': '44.00000000'}],\n",
              "   'value': '45.00000000'},\n",
              "  'time': 1642958930,\n",
              "  'txid': '678af23975486316a9a6ef09589c437bc96fec1dff6ee5300dffad88dba26880'},\n",
              " {'block_no': 4074485,\n",
              "  'confirmations': 147293,\n",
              "  'incoming': {'inputs': [{'address': 'D9czW5LFU1nT9D5pBvjNfFwh4YrG8kJz7w',\n",
              "     'input_no': 0,\n",
              "     'received_from': {'output_no': 5,\n",
              "      'txid': '6b4129dd6872096b41e831da210e56d1f3906bdcf58dde8386befba7581ba1ea'}}],\n",
              "   'output_no': 0,\n",
              "   'req_sigs': 1,\n",
              "   'script_asm': 'OP_DUP OP_HASH160 144739367df0ff8d1c61d03704298d49cf93ef3f OP_EQUALVERIFY OP_CHECKSIG',\n",
              "   'script_hex': '76a914144739367df0ff8d1c61d03704298d49cf93ef3f88ac',\n",
              "   'spent': {'input_no': 1,\n",
              "    'txid': 'b40389d5ebbef896e78570a83e646e922522f445b10f532e53b45ea4a054caf0'},\n",
              "   'value': '9.00000000'},\n",
              "  'time': 1642958916,\n",
              "  'txid': 'a8a10a68ad54753a9c73c110af26e8accf68457dd9cb2e7a78b4f9ffd548a3cf'},\n",
              " {'block_no': 4074478,\n",
              "  'confirmations': 147300,\n",
              "  'incoming': {'inputs': [{'address': 'D6zKNnkupqRbkB9p5rwix8QiobQWJazjyX',\n",
              "     'input_no': 0,\n",
              "     'received_from': {'output_no': 0,\n",
              "      'txid': 'b2c81698491ac74836319bf31281bdc91503b5dcef83a9a8ff2a8b38d9bcbbd8'}}],\n",
              "   'output_no': 6,\n",
              "   'req_sigs': 1,\n",
              "   'script_asm': 'OP_DUP OP_HASH160 144739367df0ff8d1c61d03704298d49cf93ef3f OP_EQUALVERIFY OP_CHECKSIG',\n",
              "   'script_hex': '76a914144739367df0ff8d1c61d03704298d49cf93ef3f88ac',\n",
              "   'spent': {'input_no': 1,\n",
              "    'txid': '678af23975486316a9a6ef09589c437bc96fec1dff6ee5300dffad88dba26880'},\n",
              "   'value': '45.00000000'},\n",
              "  'outgoing': {'outputs': [{'address': 'D6zKNnkupqRbkB9p5rwix8QiobQWJazjyX',\n",
              "     'output_no': 0,\n",
              "     'spent': {'input_no': 0,\n",
              "      'txid': '678af23975486316a9a6ef09589c437bc96fec1dff6ee5300dffad88dba26880'},\n",
              "     'value': '10.00000000'},\n",
              "    {'address': 'DEDHBhvR8axAXccfHH6fW5CgxC94PiA7gj',\n",
              "     'output_no': 1,\n",
              "     'spent': {'input_no': 0,\n",
              "      'txid': '5c0a0e35a1e5aefbd408bd6702a9062873caff5325bbaf135f581066803e2b26'},\n",
              "     'value': '10.00000000'},\n",
              "    {'address': 'DHQ6bVfCHfDHHcbhWngCpg9ApTVayt1ua3',\n",
              "     'output_no': 2,\n",
              "     'spent': {'input_no': 0,\n",
              "      'txid': '95d5dd13e80204ccaf058e067c7af7a70ba9229069cfc0ab5df20b2011ebb0d4'},\n",
              "     'value': '10.00000000'},\n",
              "    {'address': 'D8BewGXZHvkSNsNTeMuTsckYXxPu384xr6',\n",
              "     'output_no': 3,\n",
              "     'spent': {'input_no': 0,\n",
              "      'txid': '3cb27b37c42077ea9317ca2bdb377f5ddadc2cb4b4f0129cbec06bb486881d64'},\n",
              "     'value': '10.00000000'},\n",
              "    {'address': 'DQBWafvf78pU9xA8giUAnCjJj4dutRfn6B',\n",
              "     'output_no': 4,\n",
              "     'spent': None,\n",
              "     'value': '10.00000000'},\n",
              "    {'address': 'D9czW5LFU1nT9D5pBvjNfFwh4YrG8kJz7w',\n",
              "     'output_no': 5,\n",
              "     'spent': {'input_no': 0,\n",
              "      'txid': 'a8a10a68ad54753a9c73c110af26e8accf68457dd9cb2e7a78b4f9ffd548a3cf'},\n",
              "     'value': '10.00000000'},\n",
              "    {'address': 'D6zKNnkupqRbkB9p5rwix8QiobQWJazjyX',\n",
              "     'output_no': 6,\n",
              "     'spent': {'input_no': 1,\n",
              "      'txid': '678af23975486316a9a6ef09589c437bc96fec1dff6ee5300dffad88dba26880'},\n",
              "     'value': '35.00000000'}],\n",
              "   'value': '97.00000000'},\n",
              "  'time': 1642958456,\n",
              "  'txid': '6b4129dd6872096b41e831da210e56d1f3906bdcf58dde8386befba7581ba1ea'},\n",
              " {'block_no': 4071747,\n",
              "  'confirmations': 150031,\n",
              "  'incoming': {'inputs': [{'address': 'D6zKNnkupqRbkB9p5rwix8QiobQWJazjyX',\n",
              "     'input_no': 0,\n",
              "     'received_from': {'output_no': 0,\n",
              "      'txid': '4438523cd9b73e9b8ec098053d1a5eba6597b0e66108d6077df9e926b656b0d4'}},\n",
              "    {'address': 'D6zKNnkupqRbkB9p5rwix8QiobQWJazjyX',\n",
              "     'input_no': 1,\n",
              "     'received_from': {'output_no': 1,\n",
              "      'txid': '4438523cd9b73e9b8ec098053d1a5eba6597b0e66108d6077df9e926b656b0d4'}}],\n",
              "   'output_no': 0,\n",
              "   'req_sigs': 1,\n",
              "   'script_asm': 'OP_DUP OP_HASH160 144739367df0ff8d1c61d03704298d49cf93ef3f OP_EQUALVERIFY OP_CHECKSIG',\n",
              "   'script_hex': '76a914144739367df0ff8d1c61d03704298d49cf93ef3f88ac',\n",
              "   'spent': {'input_no': 0,\n",
              "    'txid': '6b4129dd6872096b41e831da210e56d1f3906bdcf58dde8386befba7581ba1ea'},\n",
              "   'value': '97.00000000'},\n",
              "  'outgoing': {'outputs': [{'address': 'D6zKNnkupqRbkB9p5rwix8QiobQWJazjyX',\n",
              "     'output_no': 0,\n",
              "     'spent': {'input_no': 0,\n",
              "      'txid': '6b4129dd6872096b41e831da210e56d1f3906bdcf58dde8386befba7581ba1ea'},\n",
              "     'value': '97.00000000'}],\n",
              "   'value': '98.00000000'},\n",
              "  'time': 1642782507,\n",
              "  'txid': 'b2c81698491ac74836319bf31281bdc91503b5dcef83a9a8ff2a8b38d9bcbbd8'},\n",
              " {'block_no': 4070334,\n",
              "  'confirmations': 151444,\n",
              "  'incoming': {'inputs': [{'address': 'D6zKNnkupqRbkB9p5rwix8QiobQWJazjyX',\n",
              "     'input_no': 0,\n",
              "     'received_from': {'output_no': 1,\n",
              "      'txid': '4bd3c08fbe5cdd8df8810408c4096602b3b0c994ff8de6748ea9bc61210ea0f7'}}],\n",
              "   'output_no': 1,\n",
              "   'req_sigs': 1,\n",
              "   'script_asm': 'OP_DUP OP_HASH160 144739367df0ff8d1c61d03704298d49cf93ef3f OP_EQUALVERIFY OP_CHECKSIG',\n",
              "   'script_hex': '76a914144739367df0ff8d1c61d03704298d49cf93ef3f88ac',\n",
              "   'spent': {'input_no': 1,\n",
              "    'txid': 'b2c81698491ac74836319bf31281bdc91503b5dcef83a9a8ff2a8b38d9bcbbd8'},\n",
              "   'value': '98.00000000'},\n",
              "  'outgoing': {'outputs': [{'address': 'D6zKNnkupqRbkB9p5rwix8QiobQWJazjyX',\n",
              "     'output_no': 0,\n",
              "     'spent': {'input_no': 0,\n",
              "      'txid': 'b2c81698491ac74836319bf31281bdc91503b5dcef83a9a8ff2a8b38d9bcbbd8'},\n",
              "     'value': '10.00000000'},\n",
              "    {'address': 'D6zKNnkupqRbkB9p5rwix8QiobQWJazjyX',\n",
              "     'output_no': 1,\n",
              "     'spent': {'input_no': 1,\n",
              "      'txid': 'b2c81698491ac74836319bf31281bdc91503b5dcef83a9a8ff2a8b38d9bcbbd8'},\n",
              "     'value': '88.00000000'}],\n",
              "   'value': '100.00000000'},\n",
              "  'time': 1642692080,\n",
              "  'txid': '4438523cd9b73e9b8ec098053d1a5eba6597b0e66108d6077df9e926b656b0d4'},\n",
              " {'block_no': 4067956,\n",
              "  'confirmations': 153822,\n",
              "  'incoming': {'inputs': [{'address': 'D6iZYqUfDfnxKeXR4dYkZdLWDyF8rQ86KR',\n",
              "     'input_no': 0,\n",
              "     'received_from': {'output_no': 1,\n",
              "      'txid': '48a90a12eb9239056874994fb3c53fc16cf3f65dd87502e681493bcf3e67ef9b'}},\n",
              "    {'address': 'DLM5fZLnqbaoFnXKGBpMiyvEWpsPDVdnvp',\n",
              "     'input_no': 1,\n",
              "     'received_from': {'output_no': 0,\n",
              "      'txid': '76ff9957e80dfc4fe3ca7fdbabd8f4a74cfd0dbe1a90250ce4a6b1639f7d8ebf'}},\n",
              "    {'address': 'DQeYwshnxprWDzqiott2ticTdLAWSDqg88',\n",
              "     'input_no': 2,\n",
              "     'received_from': {'output_no': 1,\n",
              "      'txid': '504fbb582f05afe65a8615828a614c5f9c972d29397eafe75cb71fbdd11c96cb'}}],\n",
              "   'output_no': 1,\n",
              "   'req_sigs': 1,\n",
              "   'script_asm': 'OP_DUP OP_HASH160 144739367df0ff8d1c61d03704298d49cf93ef3f OP_EQUALVERIFY OP_CHECKSIG',\n",
              "   'script_hex': '76a914144739367df0ff8d1c61d03704298d49cf93ef3f88ac',\n",
              "   'spent': {'input_no': 0,\n",
              "    'txid': '4438523cd9b73e9b8ec098053d1a5eba6597b0e66108d6077df9e926b656b0d4'},\n",
              "   'value': '100.00000000'},\n",
              "  'time': 1642539910,\n",
              "  'txid': '4bd3c08fbe5cdd8df8810408c4096602b3b0c994ff8de6748ea9bc61210ea0f7'}]"
            ]
          },
          "metadata": {},
          "execution_count": 147
        }
      ]
    },
    {
      "cell_type": "code",
      "source": [
        "len(speaker_txs)"
      ],
      "metadata": {
        "id": "FEw3LXOjzJpu",
        "outputId": "8a236844-67fb-4317-c8c4-e85623257d5d",
        "colab": {
          "base_uri": "https://localhost:8080/"
        }
      },
      "execution_count": 150,
      "outputs": [
        {
          "output_type": "execute_result",
          "data": {
            "text/plain": [
              "47"
            ]
          },
          "metadata": {},
          "execution_count": 150
        }
      ]
    },
    {
      "cell_type": "code",
      "source": [
        "speaker_txs_snd = [tx for tx in speaker_txs if 'outgoing'in tx.keys() ]\n",
        "len(speaker_txs_snd)"
      ],
      "metadata": {
        "id": "KZ5dpxen1vfW",
        "outputId": "8f5a9c7b-8d71-4dcf-d184-b2e9729fbd1d",
        "colab": {
          "base_uri": "https://localhost:8080/"
        }
      },
      "execution_count": 151,
      "outputs": [
        {
          "output_type": "execute_result",
          "data": {
            "text/plain": [
              "39"
            ]
          },
          "metadata": {},
          "execution_count": 151
        }
      ]
    },
    {
      "cell_type": "code",
      "source": [
        "#speaker_txs_snd"
      ],
      "metadata": {
        "id": "V1xdV1mR2SEV"
      },
      "execution_count": 248,
      "outputs": []
    },
    {
      "cell_type": "code",
      "source": [
        "\n",
        "{'block_no': 4067956,\n",
        "    'confirmations': 153809,\n",
        "    'incoming': {'inputs': [{'address': 'D6iZYqUfDfnxKeXR4dYkZdLWDyF8rQ86KR',\n",
        "       'input_no': 0,\n",
        "       'received_from': {'output_no': 1,\n",
        "        'txid': '48a90a12eb9239056874994fb3c53fc16cf3f65dd87502e681493bcf3e67ef9b'}},\n",
        "      {'address': 'DLM5fZLnqbaoFnXKGBpMiyvEWpsPDVdnvp',\n",
        "       'input_no': 1,\n",
        "       'received_from': {'output_no': 0,\n",
        "        'txid': '76ff9957e80dfc4fe3ca7fdbabd8f4a74cfd0dbe1a90250ce4a6b1639f7d8ebf'}},\n",
        "      {'address': 'DQeYwshnxprWDzqiott2ticTdLAWSDqg88',\n",
        "       'input_no': 2,\n",
        "       'received_from': {'output_no': 1,\n",
        "        'txid': '504fbb582f05afe65a8615828a614c5f9c972d29397eafe75cb71fbdd11c96cb'}}],\n",
        "     'output_no': 1,\n",
        "     'req_sigs': 1,\n",
        "     'script_asm': 'OP_DUP OP_HASH160 144739367df0ff8d1c61d03704298d49cf93ef3f OP_EQUALVERIFY OP_CHECKSIG',\n",
        "     'script_hex': '76a914144739367df0ff8d1c61d03704298d49cf93ef3f88ac',\n",
        "     'spent': {'input_no': 0,\n",
        "      'txid': '4438523cd9b73e9b8ec098053d1a5eba6597b0e66108d6077df9e926b656b0d4'},\n",
        "     'value': '100.00000000'},\n",
        "    'time': 1642539910,\n",
        "    'txid': '4bd3c08fbe5cdd8df8810408c4096602b3b0c994ff8de6748ea9bc61210ea0f7'}"
      ],
      "metadata": {
        "id": "F1p24o-dvM_W",
        "outputId": "16e14a9a-1400-4d41-fff9-7719c0235fb3",
        "colab": {
          "base_uri": "https://localhost:8080/"
        }
      },
      "execution_count": 127,
      "outputs": [
        {
          "output_type": "execute_result",
          "data": {
            "text/plain": [
              "{'block_no': 4067956,\n",
              " 'confirmations': 153809,\n",
              " 'incoming': {'inputs': [{'address': 'D6iZYqUfDfnxKeXR4dYkZdLWDyF8rQ86KR',\n",
              "    'input_no': 0,\n",
              "    'received_from': {'output_no': 1,\n",
              "     'txid': '48a90a12eb9239056874994fb3c53fc16cf3f65dd87502e681493bcf3e67ef9b'}},\n",
              "   {'address': 'DLM5fZLnqbaoFnXKGBpMiyvEWpsPDVdnvp',\n",
              "    'input_no': 1,\n",
              "    'received_from': {'output_no': 0,\n",
              "     'txid': '76ff9957e80dfc4fe3ca7fdbabd8f4a74cfd0dbe1a90250ce4a6b1639f7d8ebf'}},\n",
              "   {'address': 'DQeYwshnxprWDzqiott2ticTdLAWSDqg88',\n",
              "    'input_no': 2,\n",
              "    'received_from': {'output_no': 1,\n",
              "     'txid': '504fbb582f05afe65a8615828a614c5f9c972d29397eafe75cb71fbdd11c96cb'}}],\n",
              "  'output_no': 1,\n",
              "  'req_sigs': 1,\n",
              "  'script_asm': 'OP_DUP OP_HASH160 144739367df0ff8d1c61d03704298d49cf93ef3f OP_EQUALVERIFY OP_CHECKSIG',\n",
              "  'script_hex': '76a914144739367df0ff8d1c61d03704298d49cf93ef3f88ac',\n",
              "  'spent': {'input_no': 0,\n",
              "   'txid': '4438523cd9b73e9b8ec098053d1a5eba6597b0e66108d6077df9e926b656b0d4'},\n",
              "  'value': '100.00000000'},\n",
              " 'time': 1642539910,\n",
              " 'txid': '4bd3c08fbe5cdd8df8810408c4096602b3b0c994ff8de6748ea9bc61210ea0f7'}"
            ]
          },
          "metadata": {},
          "execution_count": 127
        }
      ]
    },
    {
      "cell_type": "code",
      "source": [
        "sparkle_txn"
      ],
      "metadata": {
        "id": "ge17g4YDwR19",
        "outputId": "8065c393-2607-45f4-ee1f-b0dac283d9fe",
        "colab": {
          "base_uri": "https://localhost:8080/",
          "height": 35
        }
      },
      "execution_count": 128,
      "outputs": [
        {
          "output_type": "execute_result",
          "data": {
            "text/plain": [
              "'a2e9f2ebe1ceeae368b734fcd861549c813d5cfb009093237f86b71f0048bda7'"
            ],
            "application/vnd.google.colaboratory.intrinsic+json": {
              "type": "string"
            }
          },
          "metadata": {},
          "execution_count": 128
        }
      ]
    },
    {
      "cell_type": "code",
      "source": [
        "[tx for tx in speaker_txs if tx['confirmations']<10000 ]"
      ],
      "metadata": {
        "id": "AjS5EqM7wq0R",
        "outputId": "70d82ef9-a0ef-49c1-f578-d22701aa0f71",
        "colab": {
          "base_uri": "https://localhost:8080/"
        }
      },
      "execution_count": 159,
      "outputs": [
        {
          "output_type": "execute_result",
          "data": {
            "text/plain": [
              "[]"
            ]
          },
          "metadata": {},
          "execution_count": 159
        }
      ]
    },
    {
      "cell_type": "code",
      "source": [
        "speaker"
      ],
      "metadata": {
        "id": "NPOqWgTp4I-U",
        "outputId": "be5a859a-b955-4b5e-8271-962bf08451fb",
        "colab": {
          "base_uri": "https://localhost:8080/",
          "height": 35
        }
      },
      "execution_count": 160,
      "outputs": [
        {
          "output_type": "execute_result",
          "data": {
            "text/plain": [
              "'D6zKNnkupqRbkB9p5rwix8QiobQWJazjyX'"
            ],
            "application/vnd.google.colaboratory.intrinsic+json": {
              "type": "string"
            }
          },
          "metadata": {},
          "execution_count": 160
        }
      ]
    },
    {
      "cell_type": "code",
      "source": [
        "addr"
      ],
      "metadata": {
        "id": "clftd6al4iVp",
        "outputId": "072e1002-34fd-4b1a-84f9-eb7498867344",
        "colab": {
          "base_uri": "https://localhost:8080/",
          "height": 35
        }
      },
      "execution_count": 161,
      "outputs": [
        {
          "output_type": "execute_result",
          "data": {
            "text/plain": [
              "'D6zKNnkupqRbkB9p5rwix8QiobQWJazjyX'"
            ],
            "application/vnd.google.colaboratory.intrinsic+json": {
              "type": "string"
            }
          },
          "metadata": {},
          "execution_count": 161
        }
      ]
    },
    {
      "cell_type": "code",
      "source": [
        "doge.fetchtx('8ceaae7d6d209c8180069edca6b7f70d1d015450e492984e48621e04e6ea5554')"
      ],
      "metadata": {
        "id": "L8P0Fry36Kxf",
        "outputId": "089992c0-c87e-4d34-8610-6b542e4ebdfa",
        "colab": {
          "base_uri": "https://localhost:8080/"
        }
      },
      "execution_count": 166,
      "outputs": [
        {
          "output_type": "execute_result",
          "data": {
            "text/plain": [
              "{'blockhash': '96e5d5b375d398e7c9c35bd1f7ae5ddbbacbb3942ce32971f210319a72c267d7',\n",
              " 'confirmations': 25273,\n",
              " 'inputs': [{'address': 'D6zKNnkupqRbkB9p5rwix8QiobQWJazjyX',\n",
              "   'from_output': {'output_no': 0,\n",
              "    'txid': '8a5b9ee802d70746f6a7ec213ef486d0f908951443df35a650f327b3ec07351e'},\n",
              "   'input_no': 0,\n",
              "   'script': '304402206ae2b5d621a631112519877d0f10df5325f2ccd34c6ad1c869edbcb5aae0571b02201fbd3937b623231c09f06cf86e3daf40e1043da0f0bfb02ce13c18d05bd3983901 047c88e9a4df6e9f45656c10bf66f28e28be235a15b64820b254f1b9eb2738314e6769f5c94da0c7640ffe76dcffca053b07a0804cd53a1c51ad03bfe0133ce8c5',\n",
              "   'sequence': 4294967295,\n",
              "   'type': 'pubkeyhash',\n",
              "   'value': '73.00000000',\n",
              "   'witness': None}],\n",
              " 'locktime': 0,\n",
              " 'network': 'DOGE',\n",
              " 'network_fee': '2.00000000',\n",
              " 'outputs': [{'address': 'D6zKNnkupqRbkB9p5rwix8QiobQWJazjyX',\n",
              "   'output_no': 0,\n",
              "   'script': 'OP_DUP OP_HASH160 144739367df0ff8d1c61d03704298d49cf93ef3f OP_EQUALVERIFY OP_CHECKSIG',\n",
              "   'type': 'pubkeyhash',\n",
              "   'value': '71.00000000'},\n",
              "  {'address': 'nonstandard',\n",
              "   'output_no': 1,\n",
              "   'script': 'OP_RETURN dd02000e436f6e667573696f6e20696e2068657220657965732074686174207361797320697420616c6c0a5368652773206c6f737420636f6e74726f6c0a416e6420736865277320636c696e67696e67',\n",
              "   'type': 'nulldata',\n",
              "   'value': '0.00000000'}],\n",
              " 'size': 315,\n",
              " 'time': 1650767294,\n",
              " 'tx_hex': '01000000011e3507ecb327f350a635df43149508f9d086f43e21eca7f64607d702e89e5b8a000000008a47304402206ae2b5d621a631112519877d0f10df5325f2ccd34c6ad1c869edbcb5aae0571b02201fbd3937b623231c09f06cf86e3daf40e1043da0f0bfb02ce13c18d05bd398390141047c88e9a4df6e9f45656c10bf66f28e28be235a15b64820b254f1b9eb2738314e6769f5c94da0c7640ffe76dcffca053b07a0804cd53a1c51ad03bfe0133ce8c5ffffffff02006731a7010000001976a914144739367df0ff8d1c61d03704298d49cf93ef3f88ac0000000000000000536a4c50dd02000e436f6e667573696f6e20696e2068657220657965732074686174207361797320697420616c6c0a5368652773206c6f737420636f6e74726f6c0a416e6420736865277320636c696e67696e6700000000',\n",
              " 'txid': '8ceaae7d6d209c8180069edca6b7f70d1d015450e492984e48621e04e6ea5554',\n",
              " 'version': 1,\n",
              " 'vsize': 315}"
            ]
          },
          "metadata": {},
          "execution_count": 166
        }
      ]
    },
    {
      "cell_type": "code",
      "source": [
        ""
      ],
      "metadata": {
        "id": "x2Z1-BJa6t9l"
      },
      "execution_count": null,
      "outputs": []
    },
    {
      "cell_type": "code",
      "source": [
        "h=doge.history(addr)['data']['txs']\n",
        "houts=[ i for i in h if 'outgoing' in i.keys()]\n",
        "hins=[ i for i in h if 'incoming' in i.keys()]"
      ],
      "metadata": {
        "id": "FFjOLKyY4rfl"
      },
      "execution_count": 167,
      "outputs": []
    },
    {
      "cell_type": "code",
      "source": [
        ""
      ],
      "metadata": {
        "id": "v_v1b2_l8qS8"
      },
      "execution_count": null,
      "outputs": []
    },
    {
      "cell_type": "code",
      "source": [
        "len(h),len(houts),len(hins)"
      ],
      "metadata": {
        "id": "4fp8CQ2941E7",
        "outputId": "864a454a-5100-4cbe-aee3-78d06d75ac7b",
        "colab": {
          "base_uri": "https://localhost:8080/"
        }
      },
      "execution_count": 169,
      "outputs": [
        {
          "output_type": "execute_result",
          "data": {
            "text/plain": [
              "(47, 39, 44)"
            ]
          },
          "metadata": {},
          "execution_count": 169
        }
      ]
    },
    {
      "cell_type": "code",
      "source": [
        "#hins"
      ],
      "metadata": {
        "id": "mTLF4wpd8rO8"
      },
      "execution_count": 247,
      "outputs": []
    },
    {
      "cell_type": "code",
      "source": [
        "hins_txs=[ hin['incoming']['inputs'][0]['received_from']['txid'] for hin in hins]"
      ],
      "metadata": {
        "id": "pX2pFub25PAq"
      },
      "execution_count": 180,
      "outputs": []
    },
    {
      "cell_type": "code",
      "source": [
        "sparkle_txn in hins_txs"
      ],
      "metadata": {
        "id": "DkdZTmop7zSM",
        "outputId": "c011f7fc-8808-4c25-c579-b32b08749344",
        "colab": {
          "base_uri": "https://localhost:8080/"
        }
      },
      "execution_count": 182,
      "outputs": [
        {
          "output_type": "execute_result",
          "data": {
            "text/plain": [
              "False"
            ]
          },
          "metadata": {},
          "execution_count": 182
        }
      ]
    },
    {
      "cell_type": "code",
      "source": [
        "houts_txs=[ hout['outgoing']['outputs'][0]['spent']['txid'] for hout in houts]"
      ],
      "metadata": {
        "id": "sJNS8QNr86wz"
      },
      "execution_count": 187,
      "outputs": []
    },
    {
      "cell_type": "code",
      "source": [
        "sparkle_txn in houts_txs"
      ],
      "metadata": {
        "id": "Q008ZEj_ALZq",
        "outputId": "efea43e6-a1d2-4aac-e974-a8eb14b54bec",
        "colab": {
          "base_uri": "https://localhost:8080/"
        }
      },
      "execution_count": 189,
      "outputs": [
        {
          "output_type": "execute_result",
          "data": {
            "text/plain": [
              "False"
            ]
          },
          "metadata": {},
          "execution_count": 189
        }
      ]
    },
    {
      "cell_type": "code",
      "source": [
        "broadcasts"
      ],
      "metadata": {
        "id": "3On_IPyPASCJ",
        "outputId": "823999e3-4840-4a0e-f50f-f5e4b8844508",
        "colab": {
          "base_uri": "https://localhost:8080/"
        }
      },
      "execution_count": 190,
      "outputs": [
        {
          "output_type": "execute_result",
          "data": {
            "text/plain": [
              "[{'data': {'network': 'DOGE',\n",
              "   'txid': 'b07a93efa3e5f989c887843b840a211e7a8cabf60ff4865aef09ee3b9abd0c75'},\n",
              "  'status': 'success'},\n",
              " {'data': {'network': 'DOGE',\n",
              "   'txid': '763f1e7c3c6860247ee8ef78bed06d05d8953baec15c10ce74f446e9eb2c36bc'},\n",
              "  'status': 'success'},\n",
              " {'data': {'network': 'DOGE',\n",
              "   'txid': 'f4f5d5d037b695ed627be22837d9490f7f1626e0e09625208e91c5bc8a8724c8'},\n",
              "  'status': 'success'},\n",
              " {'data': {'network': 'DOGE',\n",
              "   'txid': 'b4cab2d7bec061cc590cf6cb076856ad4d6a42ff407c76e0d9bbc46359ed3a8a'},\n",
              "  'status': 'success'},\n",
              " {'data': {'network': 'DOGE',\n",
              "   'txid': '9ce3372684feef120c1bd9e1c76901542446b8a2babcd859d7ce1acfa1271226'},\n",
              "  'status': 'success'},\n",
              " {'data': {'network': 'DOGE',\n",
              "   'txid': '0a9a3f99540c34113a8ef23be87585a21d154239aeaf8eeafc74a7fb6f86098f'},\n",
              "  'status': 'success'},\n",
              " {'data': {'network': 'DOGE',\n",
              "   'txid': 'a0dca63e61ad0dd441ec23623bf78f42d725ad82a6d204a12347e5c069f2d41b'},\n",
              "  'status': 'success'},\n",
              " {'data': {'network': 'DOGE',\n",
              "   'txid': 'ae0ffd681911b40966717548fc9c0b36ca2769c04ec24b0de581a28948aebb1c'},\n",
              "  'status': 'success'},\n",
              " {'data': {'network': 'DOGE',\n",
              "   'txid': 'a57a7839b8f0f6d49c538962767c5cb5588b555f47de34cfd4bb7c0a17089730'},\n",
              "  'status': 'success'},\n",
              " {'data': {'network': 'DOGE',\n",
              "   'txid': '8a9b08e092ecb3f9897aeb9434d97df184413579253b0d45d071f1ac4af4c15b'},\n",
              "  'status': 'success'},\n",
              " {'data': {'network': 'DOGE',\n",
              "   'txid': 'a64867e60201ab82b1cb91f1d5d34d18fd8c0bb5d76820c74a6ad93ab934638e'},\n",
              "  'status': 'success'},\n",
              " {'data': {'network': 'DOGE',\n",
              "   'txid': '1d827b2c73a9d4652b8446024a41dbec5d19d839613b8666ae76a9041c29688f'},\n",
              "  'status': 'success'},\n",
              " {'data': {'network': 'DOGE',\n",
              "   'txid': 'eb76cd0317a4914544a4f62ecd8d99341b43dd58183516639b9a991ae12e825f'},\n",
              "  'status': 'success'},\n",
              " {'data': {'network': 'DOGE',\n",
              "   'txid': '0346d46f337e5c2141e7712e27f69170a401798e1f62209c468a2937af3812fe'},\n",
              "  'status': 'success'},\n",
              " {'data': {'network': 'DOGE',\n",
              "   'txid': '83d3478f25d93d1370621371bd92f2e96e9afb03abd3a00b4498ecd7c044e257'},\n",
              "  'status': 'success'},\n",
              " {'data': {'network': 'DOGE',\n",
              "   'txid': '78c0c38ca6fc753a3b57983d02485804f17c38805370591807c60fd367070f3a'},\n",
              "  'status': 'success'},\n",
              " {'data': {'network': 'DOGE',\n",
              "   'txid': 'cb7b635d35b4abbc9f9c559df94a47bed77d6fcc821fd9e0166fce6ef0795ece'},\n",
              "  'status': 'success'},\n",
              " {'data': {'network': 'DOGE',\n",
              "   'txid': 'c64dc9e39a71bd18ea3d1f633fbe8af32b5b73690c776ca9edb1f63afd1e0dda'},\n",
              "  'status': 'success'},\n",
              " {'data': {'network': 'DOGE',\n",
              "   'txid': '8e360fe128d1260a67d2583ccc487114eff4390de65fb8481e777eac4602f61c'},\n",
              "  'status': 'success'},\n",
              " {'data': {'network': 'DOGE',\n",
              "   'txid': '047867263fd62516ee3e8f6c7e39d6dac0238439494ffac025e2a6ea227917de'},\n",
              "  'status': 'success'},\n",
              " {'data': {'network': 'DOGE',\n",
              "   'txid': '2ded209e42da4336ec43c4e9379b4b6d746b2247de6dc18dcdc2c38e3a20286d'},\n",
              "  'status': 'success'},\n",
              " {'data': {'network': 'DOGE',\n",
              "   'txid': '472d6e24d271af84e50210472aa60bbfbe04a73eb0716f16bf8b4dab561f01f5'},\n",
              "  'status': 'success'},\n",
              " {'data': {'network': 'DOGE',\n",
              "   'txid': '38848bcdfa5c5ddfedc3a67df197379da534dc822da287d61bba1efd9c7dbb6e'},\n",
              "  'status': 'success'},\n",
              " {'data': {'network': 'DOGE',\n",
              "   'txid': 'a84c290a6cbb01c5e7d33cc53ce1e67781f378561fb7b7685ffb08650d0ef11c'},\n",
              "  'status': 'success'},\n",
              " {'data': {'network': 'DOGE',\n",
              "   'txid': '92033e53c014dcd200872bc4cbb84b1bcfeaac9277278917dc2ffe1be12b7beb'},\n",
              "  'status': 'success'},\n",
              " {'data': {'network': 'DOGE',\n",
              "   'txid': 'cfe4304471cacadcd3418b0c05bffa41c75f3887d3b2968cce6f41788d7eab56'},\n",
              "  'status': 'success'},\n",
              " {'data': {'network': 'DOGE',\n",
              "   'txid': 'b593a9ee54598abcb2c6147041669b8c8f61f8d166cd4c5e407648ff5ed3164c'},\n",
              "  'status': 'success'},\n",
              " {'data': {'network': 'DOGE',\n",
              "   'txid': '942593e0aa3ec2d08e7451e54f68817d9296ffe98f9280b0dabcb22124c7a931'},\n",
              "  'status': 'success'},\n",
              " {'data': {'network': 'DOGE',\n",
              "   'txid': '79030102596081132686854d39a6cb5cecd073e6c3e119897e2f21f6b61a4ec1'},\n",
              "  'status': 'success'},\n",
              " {'data': {'network': 'DOGE',\n",
              "   'txid': '177f4b36a4c7e3395be50450989d31e2e2168a346c0b4073896797a256260a77'},\n",
              "  'status': 'success'},\n",
              " {'data': {'network': 'DOGE',\n",
              "   'txid': '42ce12488613e1cd0ba5c413c8ab4b90ab4dc2488e86220b11c55d630792c422'},\n",
              "  'status': 'success'},\n",
              " {'data': {'network': 'DOGE',\n",
              "   'txid': '4f6e6fc1820dabe640b3bb49017c78a11a2f79af29c7b230782e6c5d9cc15e36'},\n",
              "  'status': 'success'},\n",
              " {'data': {'network': 'DOGE',\n",
              "   'txid': '6b8eae9a4c7ce29f6ee635f7f4e2725c083b7640069d1a1a5416265aa2152da7'},\n",
              "  'status': 'success'}]"
            ]
          },
          "metadata": {},
          "execution_count": 190
        }
      ]
    },
    {
      "cell_type": "code",
      "source": [
        "doge.fetchtx(broadcasts[0]['data']['txid'])"
      ],
      "metadata": {
        "id": "9WkkUVrDArK6",
        "outputId": "b6f1a309-3222-43f8-eca1-35bafd49bdde",
        "colab": {
          "base_uri": "https://localhost:8080/"
        }
      },
      "execution_count": 194,
      "outputs": [
        {
          "output_type": "execute_result",
          "data": {
            "text/plain": [
              "{'blockhash': 'a56297ac11edf78cf6e5ea0c8d9a933cc961a0ae6982af4e0b2b59d084e1b34c',\n",
              " 'confirmations': 148,\n",
              " 'inputs': [{'address': 'D6zKNnkupqRbkB9p5rwix8QiobQWJazjyX',\n",
              "   'from_output': {'output_no': 0,\n",
              "    'txid': 'a2e9f2ebe1ceeae368b734fcd861549c813d5cfb009093237f86b71f0048bda7'},\n",
              "   'input_no': 0,\n",
              "   'script': '3045022100d84d6a3cac0435bea532e41cbb8518227b365cfa078b2fcf7da39a2c0377f0d9022045ab6287025f3204bc27fb43a7c73de555425a8b6a2485b11c4703a8fd2849b801 047c88e9a4df6e9f45656c10bf66f28e28be235a15b64820b254f1b9eb2738314e6769f5c94da0c7640ffe76dcffca053b07a0804cd53a1c51ad03bfe0133ce8c5',\n",
              "   'sequence': 4294967295,\n",
              "   'type': 'pubkeyhash',\n",
              "   'value': '4.75757575',\n",
              "   'witness': None}],\n",
              " 'locktime': 0,\n",
              " 'network': 'DOGE',\n",
              " 'network_fee': '2.00000000',\n",
              " 'outputs': [{'address': 'D6zKNnkupqRbkB9p5rwix8QiobQWJazjyX',\n",
              "   'output_no': 0,\n",
              "   'script': 'OP_DUP OP_HASH160 144739367df0ff8d1c61d03704298d49cf93ef3f OP_EQUALVERIFY OP_CHECKSIG',\n",
              "   'type': 'pubkeyhash',\n",
              "   'value': '2.75757575'},\n",
              "  {'address': 'nonstandard',\n",
              "   'output_no': 1,\n",
              "   'script': 'OP_RETURN c1dd000103ff202005537061726b6c650a4d61676963616c204361740ae29ca8f09f929c466f7665766572f09f929ce29ca80a',\n",
              "   'type': 'nulldata',\n",
              "   'value': '0.00000000'}],\n",
              " 'size': 286,\n",
              " 'time': 1652378608,\n",
              " 'tx_hex': '0100000001a7bd48001fb7867f23939000fb5c3d819c5461d8fc34b768e3eacee1ebf2e9a2000000008b483045022100d84d6a3cac0435bea532e41cbb8518227b365cfa078b2fcf7da39a2c0377f0d9022045ab6287025f3204bc27fb43a7c73de555425a8b6a2485b11c4703a8fd2849b80141047c88e9a4df6e9f45656c10bf66f28e28be235a15b64820b254f1b9eb2738314e6769f5c94da0c7640ffe76dcffca053b07a0804cd53a1c51ad03bfe0133ce8c5ffffffff0207ba6f10000000001976a914144739367df0ff8d1c61d03704298d49cf93ef3f88ac0000000000000000356a33c1dd000103ff202005537061726b6c650a4d61676963616c204361740ae29ca8f09f929c466f7665766572f09f929ce29ca80a00000000',\n",
              " 'txid': 'b07a93efa3e5f989c887843b840a211e7a8cabf60ff4865aef09ee3b9abd0c75',\n",
              " 'version': 1,\n",
              " 'vsize': 286}"
            ]
          },
          "metadata": {},
          "execution_count": 194
        }
      ]
    },
    {
      "cell_type": "code",
      "source": [
        "doge.block_height(broadcasts[0]['data']['txid'])"
      ],
      "metadata": {
        "id": "hzPNJDL8C2Ho",
        "outputId": "f93628e1-0ec4-4d84-904b-c50dbf92b3d5",
        "colab": {
          "base_uri": "https://localhost:8080/"
        }
      },
      "execution_count": 198,
      "outputs": [
        {
          "output_type": "execute_result",
          "data": {
            "text/plain": [
              "4221691"
            ]
          },
          "metadata": {},
          "execution_count": 198
        }
      ]
    },
    {
      "cell_type": "code",
      "source": [
        "posible_txns=doge.block_info(4221691)['tx_hashes']\n",
        "posible_txns"
      ],
      "metadata": {
        "id": "KRTqgC-hBXaA",
        "outputId": "48a5d0c0-7851-4429-b406-d8ff0427386d",
        "colab": {
          "base_uri": "https://localhost:8080/"
        }
      },
      "execution_count": 211,
      "outputs": [
        {
          "output_type": "execute_result",
          "data": {
            "text/plain": [
              "['87b49a6e1fd35d0240a8ddcdcde753810f729a83456ecd8a7e6386e40aaa5e13',\n",
              " '6b0f1e706bef5b9292ddaae4c29748dd8d3f3816be9e35df3a1bb2aac374ff3c',\n",
              " '1b0076b4b485ab3730b4bc8e9925c989a417088a3796105b46e90a384004619f',\n",
              " '24fa2c84e88ebd766aed1f1054c6b1c45b41854009456f6821ed8b6488687d31',\n",
              " 'e7f80fff937dba305284da183dfb9234f014bf0381c1b3877569eff796e0f613',\n",
              " 'e686a8622f9afcce890d1aeae7196c6136c2c9fb45b61310090aa703c3b5ebac',\n",
              " 'd8bb229293daabde9f341490c306d4401b8a4a0ff0c81d5bdae90731460e274e',\n",
              " '5a9f442c05820c0db41e3d8212a6fde7dd52f2368faa3c02cfc5fa7a6f2a9a42',\n",
              " 'c27d0a828b694f3d46faaa76a51bda00f00f4bd3237136178c4dc26d28022a90',\n",
              " 'afaa4bfcf09ca671c6bafbacc085ef72539302f380190f0e36699e2123939aaf',\n",
              " '39fca080375bd123dbbd024c6e541784d6162356beff9802e617e6bc4a561fb5',\n",
              " '0f0d43ffef9b4cba10a64c20671c01e4ee29826b42036ac5d8da6f1ae6b2476e',\n",
              " 'c14ef0fc0e2cab3c9a379387a78aa3f076f9b429d72b61b28e0b146f4437a135',\n",
              " 'f3e2ae1ad40c5287780c9204513853a01d5ba27edcf4b876259d2eb53cf35bd7',\n",
              " '67abc6e64e6df2e34aaf25a0ca954003ecd5eeb107cddf1c53b08d3ccb1ca260',\n",
              " '8e0a163c002960ac9be099bc29d6e0ff00d443e1e677dffdc3b9354466b98fa9',\n",
              " '87dbf06d97b0fc104925d4b81c990a11a545a20e3f596a22a51e61d0bebdaab5',\n",
              " 'b120d68e1608432152677e2069179a8a0fe9419b4d3c49100b064bde4a35fcb3',\n",
              " '2c64ae17d95b34902476be5bb69aeb37ee52a508afe49c902fb946a1ceaf3676',\n",
              " '5a188e4a35919468a17f665642f81d24c00de6450029f9cda88a793023b5f6e0',\n",
              " 'a7fcfbbf681bc9516af392c7bb827e8e4b48d7e0bffca1cbede90f097ba2b223',\n",
              " '48a822509970b46dcaefe272fbf9f9752c37251bcd773b91456fce9e09d919d6',\n",
              " 'be24649b56f0a4f24dc2df6fc81f016d24347f45a0e7c225c708a477907db708',\n",
              " 'a3d47fb34e0b482590b1d62f40ce00871e34fb7ed8560bdca4d49c9b46e4e376',\n",
              " '5387ceab5b0104ceae8e26f3bfb8e92740966ae2eb4810669387627d4f3f181c',\n",
              " 'e253c9c64fb7cc8863334e76fdb97de3a0ca84ac95381a8eb47220b187d24c32',\n",
              " 'c0d459a1f7481681a9c5f48d8e2ceedfe817e9705bc654545417aa47f5e3fbf2',\n",
              " 'e5c960b375881a87ef57db553dd978dca11ca446424b852203ad5ed80580d070',\n",
              " '4f8d3275f1cb625b50ce05bbdca1559a1f076a0caec50da6d08e21a92f05effc',\n",
              " '50429d842e21059280bfa37975a06213050605a26033d32574bfb93a31834274',\n",
              " '83e0bf67dc2a4cb697b8fe1bece8285ea073eeda86bc9501a73656a595abcc95',\n",
              " 'c3a3fd03c11263b031ddd21da098c53cd7df98c7aa70f603c43da7be90af6619',\n",
              " 'c2d2553ab5943374389fc22b9fdbd9ff4580378024fef9f1ee32df19a4c41636',\n",
              " '4b49d239d85b89dbdfb723a5dd17293e94f26a0b758d9b7d1f35e907da8f701a',\n",
              " 'b7fd4456d6a0d461fe1dce0521a511a3d358cd80448697ed0308d2ec659fa1a9',\n",
              " '8500e5bfde11053aa00d2a11a982ad37e3daec6ed816386afe3210dbbf6e6b5f',\n",
              " '9bce67986cf4285807f162c028461dea99314385bf4da3809aa1835c75255ed1',\n",
              " '9e3f2f2581f44819a8cd926191b9d1ac6d96b6898f02829ef457c078c86ea3ea',\n",
              " 'e155ce2bdd12720f9f7e25830798a8273ceb2d165cdd0ff4b69f13430df402df',\n",
              " '16fc6932f9ef3abf3f34bbf2f56b8aa7f3c9df6082c3d0cbc8b1671cede11e5f',\n",
              " '538fe2142990a5060053c423ce1214fd4901017d1d47e25b6a71d3a64b99f016',\n",
              " 'ac644e134f0b7ac8159c53914975cc0b6337a199267febd05c91859993f628fd',\n",
              " '26f891b4cca22e195d31937c893f58ac6f00c690b8305f5d8d442572e68723b9',\n",
              " 'd215dcb2790e026dbc10dbcf5932c7916f7241ccd081f5c8d4b4764594936e54',\n",
              " 'e12b32ddef2f297d681b298af557cfa0bb836ce23837deb364b352c7a6971c36',\n",
              " '2def11256c1281152d024387fe116925370b07b1df6dc16edbf9b0d7cf77ab99',\n",
              " 'a3906914e30b9d98d6552900c7c25750f8d8fa63cd9ba30d7ad5ef011beff1bc',\n",
              " 'a6c13632b6ff3cbb0ded8146dc23d856a924f2e694d6eeb0329783c8b65b3e6e',\n",
              " '98acbed4cb470eb01e383c28a9b25f9fddd0a1b29034829d1b02a53af447e6b6',\n",
              " '22bf8a01a4dd4d89e4343c45f0033868493c6b45ed8f31e01544e5f42387a0b5',\n",
              " 'b07a93efa3e5f989c887843b840a211e7a8cabf60ff4865aef09ee3b9abd0c75',\n",
              " '0346d46f337e5c2141e7712e27f69170a401798e1f62209c468a2937af3812fe',\n",
              " '92033e53c014dcd200872bc4cbb84b1bcfeaac9277278917dc2ffe1be12b7beb',\n",
              " '047867263fd62516ee3e8f6c7e39d6dac0238439494ffac025e2a6ea227917de',\n",
              " 'f4f5d5d037b695ed627be22837d9490f7f1626e0e09625208e91c5bc8a8724c8',\n",
              " '763f1e7c3c6860247ee8ef78bed06d05d8953baec15c10ce74f446e9eb2c36bc',\n",
              " '6b8eae9a4c7ce29f6ee635f7f4e2725c083b7640069d1a1a5416265aa2152da7',\n",
              " 'a64867e60201ab82b1cb91f1d5d34d18fd8c0bb5d76820c74a6ad93ab934638e',\n",
              " 'b4cab2d7bec061cc590cf6cb076856ad4d6a42ff407c76e0d9bbc46359ed3a8a',\n",
              " '177f4b36a4c7e3395be50450989d31e2e2168a346c0b4073896797a256260a77',\n",
              " '38848bcdfa5c5ddfedc3a67df197379da534dc822da287d61bba1efd9c7dbb6e',\n",
              " '2ded209e42da4336ec43c4e9379b4b6d746b2247de6dc18dcdc2c38e3a20286d',\n",
              " 'eb76cd0317a4914544a4f62ecd8d99341b43dd58183516639b9a991ae12e825f',\n",
              " 'cfe4304471cacadcd3418b0c05bffa41c75f3887d3b2968cce6f41788d7eab56',\n",
              " 'b593a9ee54598abcb2c6147041669b8c8f61f8d166cd4c5e407648ff5ed3164c',\n",
              " '9ce3372684feef120c1bd9e1c76901542446b8a2babcd859d7ce1acfa1271226',\n",
              " '42ce12488613e1cd0ba5c413c8ab4b90ab4dc2488e86220b11c55d630792c422',\n",
              " 'a84c290a6cbb01c5e7d33cc53ce1e67781f378561fb7b7685ffb08650d0ef11c',\n",
              " '472d6e24d271af84e50210472aa60bbfbe04a73eb0716f16bf8b4dab561f01f5',\n",
              " 'c64dc9e39a71bd18ea3d1f633fbe8af32b5b73690c776ca9edb1f63afd1e0dda',\n",
              " 'cb7b635d35b4abbc9f9c559df94a47bed77d6fcc821fd9e0166fce6ef0795ece',\n",
              " 'a0dca63e61ad0dd441ec23623bf78f42d725ad82a6d204a12347e5c069f2d41b',\n",
              " 'ae0ffd681911b40966717548fc9c0b36ca2769c04ec24b0de581a28948aebb1c',\n",
              " '8e360fe128d1260a67d2583ccc487114eff4390de65fb8481e777eac4602f61c',\n",
              " 'a57a7839b8f0f6d49c538962767c5cb5588b555f47de34cfd4bb7c0a17089730',\n",
              " '942593e0aa3ec2d08e7451e54f68817d9296ffe98f9280b0dabcb22124c7a931',\n",
              " '4f6e6fc1820dabe640b3bb49017c78a11a2f79af29c7b230782e6c5d9cc15e36',\n",
              " '78c0c38ca6fc753a3b57983d02485804f17c38805370591807c60fd367070f3a',\n",
              " '83d3478f25d93d1370621371bd92f2e96e9afb03abd3a00b4498ecd7c044e257',\n",
              " '8a9b08e092ecb3f9897aeb9434d97df184413579253b0d45d071f1ac4af4c15b',\n",
              " '0a9a3f99540c34113a8ef23be87585a21d154239aeaf8eeafc74a7fb6f86098f',\n",
              " '1d827b2c73a9d4652b8446024a41dbec5d19d839613b8666ae76a9041c29688f',\n",
              " '79030102596081132686854d39a6cb5cecd073e6c3e119897e2f21f6b61a4ec1',\n",
              " 'ed5e1846bee152ac86de5d4dde9876695905b87c2721146a4e6508d709d2d140']"
            ]
          },
          "metadata": {},
          "execution_count": 211
        }
      ]
    },
    {
      "cell_type": "code",
      "source": [
        "doge.fetchtx(posible_txns[1])['inputs'][0]"
      ],
      "metadata": {
        "id": "M2ZoX3lVGiJF",
        "outputId": "41fd2f47-def0-480a-a9c7-f3db49c2d76c",
        "colab": {
          "base_uri": "https://localhost:8080/"
        }
      },
      "execution_count": 219,
      "outputs": [
        {
          "output_type": "execute_result",
          "data": {
            "text/plain": [
              "{'address': 'DDc2aAjL93Pk76RzpGkJvGftQDfSUSG3Kz',\n",
              " 'from_output': {'output_no': 0,\n",
              "  'txid': '833d7f9241c998c1aede5d64f633f3cddb149ad8fe70f50382a18927207f2ec1'},\n",
              " 'input_no': 0,\n",
              " 'script': '3045022100c7281f185ff9087113e2c1f587bdee66cebf18f8264f19adf243913fff39c38f0220407976ff24a4fbf79f7db7aa088497d033edb21eb101a4eb9b24b4bc338695c701 02f18ebea127bc8477a1c08200e64b66ab26983f41cb043a5b38f4e1c9b82259b6',\n",
              " 'sequence': 4294967280,\n",
              " 'type': 'pubkeyhash',\n",
              " 'value': '3184.81550000',\n",
              " 'witness': None}"
            ]
          },
          "metadata": {},
          "execution_count": 219
        }
      ]
    },
    {
      "cell_type": "code",
      "source": [
        "posible_txn_info=[(pos,doge.fetchtx(pos)) for pos in posible_txns[1:]]"
      ],
      "metadata": {
        "id": "kckK519eKZ5j"
      },
      "execution_count": 234,
      "outputs": []
    },
    {
      "cell_type": "code",
      "source": [
        "def_txn_info=[ ( info['inputs'][0]['from_output']['output_no'],info['outputs'][1]['script'][10:] ) for (pos_tx,info) in posible_txn_info if info['inputs'][0]['from_output']['txid']==sparkle_txn]"
      ],
      "metadata": {
        "id": "3xQf3JFzLXEt"
      },
      "execution_count": 238,
      "outputs": []
    },
    {
      "cell_type": "code",
      "source": [
        "hexheader=sorted(def_txn_info)[0][1]\n",
        "\n",
        "image_hex = ''.join([elem[1] for elem in sorted(def_txn_info)[1:]])\n",
        "image_hex"
      ],
      "metadata": {
        "id": "XK0s2G6YMujo",
        "outputId": "cce7bb6c-83c8-4bce-f297-db4356c163e1",
        "colab": {
          "base_uri": "https://localhost:8080/",
          "height": 160
        }
      },
      "execution_count": 244,
      "outputs": [
        {
          "output_type": "execute_result",
          "data": {
            "text/plain": [
              "'e6f7bdef7bdef7adef5ad6b5ad6b5ad6b5ad6b5ad6b5ad6b5ad6b5ad6739d6739ce739ce318c6318def7bdeb5ad6b15ae35ad6b5ad6b5ad6b5ad6b5ad6b5ad6b5ace739ce759c4e32c6739c6318c6318def5ad6b5ad627084277d6739ce739ce739ce739ce739ce739ce739ce6f4835acb6738c6318c6318d6b5ad6739cde2e739af9e739ce739ce739ce739ce739ce739ce739c49cc5a92aae718c6318c6318d6739ce739cd9ec6b1ac64718c6318c6318c6319ce739ce739ce7387b16b52909ae718c6318c6317ce738c6318c55ab6b58b5a9f7c6318c6318c6318c6318c6318c62cd5a96c52509a6318c6318bdef7c6318bdef7bd18a631494a12eb5ef7bdef7bdef7bdef7bdef7c5989531ad51ce9a6318c62f7bdef7bdef7bdef7bcd674ad8c4a107656d6b5ad6b5ad6b5ad6bdef7aad294ad68414c99def7bdef7bdef7b5ad6b5ad6b4d673a9ac5a0e733295ad6b5ad6d6b5ad6b5ad4599094a927318eaa5ed7bdef7bdef7ad6b5ad6b5acd673214b5a8e631993a5294a56b5ad6b5ad66a298e862ce5298cbadad6b5ad7bdef7a5294a5294a5188318eb6ad462950e94e93a5294a5294a5207298c75b525318eeb5ad6b5ad6b5af7a5294a52939cda7318cb73105294ec74a739ce73a4e749c1e7210a53210729931ad6b5ad6b6b5ad6a5294a52739d1e83190c59ca4210e974652841f093a10841c7314a5218e629953ad6b5ad6b5b5ad6a5294a4e739d1ea414e8290a7298c86b9ce7358e72d6c5ada842548498e5219d4ad6b5ad6b5adad6a52949ce739ce0b414a6314a839cc95252c6ad8d6ad8b4a527398e8518a421a15ad6b5ad6b5ad6b6a52949ce739ce4c2908441ce839ce75294b5b16a5294b5ad48318c63a8c422655ad2b5ad6b5ad6b5a52939ce739ce6d310875a0c74250c6a96b6b16a4ad085a96c520e9398c432e94a5295ad6b5ad6b5a4e739ce739ce70520a8518ea3a98b4a54c5a98a5214b4a50a52569520c533ab4a5294a56b5ad6b59ce739ce739ce73618c93a4e74292639d2d52d4b5254c518ec5252a52d2755294a5294a52b5ad6b59ce739ce739ce73920c73ad4842928498ec6b5094b16d598ed5a92a6292a8d694a5294a5295ad6b59ce739ce739ce52939695310a4256b51d0c6352a52d4c59d4e635684252995294a5294a5295ad6b59ce739ce7394a5294a2e6b16b5a9294992d62d2b6312c6212d531ab4a4c97d294a5294a5294ad6b59ce739ce5294a5294a307b56b62d0849cec5294b6b16a51d294a54a525096ce94a5294a5294a56b59ce739ca5294a5294a318356d61ca4320ea5254a62d4739ca4218a64292b64694a5294a5294a56b59ce7394a5294a5294a318356a290e91950a5a96c6310541ca321ca43ad8a53a74a5294a5294a52b59ce7294a5294a52946317b96d329cc19cec7356d5ace6411242a509839463ae549d294a5294a52959ce5294a5294a529460e6b96c49e0d43988839ad728e83118e6391082d0632a349ce94a5294a52949ca5294a5294a518c60d7bd2751d50840e6841f07b52a308cd7320f5a8e62a2339ce94a5294a529494a5294a52946318c5ec6bd673a54a5a0e97c6118398c2996c7c5ea4a0a52a2339ce74a5294a529494a5294a518c6318c1cb73daa39d2b6b9ca5c60f73549432328bd8b498a52a2339ce73a5294a529494a52946318c6318c1c95bdaa419295298e642118bd894add072d6a418a52a2339ce739d294a529494a528c6318c631841ab5bdca321284a9af642318bd884a58c52949394842aa539ce739d294a529494a518c6318c630841ac52d8d5a4e84adaf7ba11739874a96b520e8390842b2739ce739ce94a529494a318c6318c210841894ad4741d2a4b610831ef7392432d6941ce421084336739ce739ce94a5294946318c63184210841cb4a0c629d485b9ef7a0a5314224a96c490a3210832be739ce739ce94a5294946318c6318421083dcd624c4298ea631af7b0e2104685a54a4986321084342739ce739ce74a52948c6318c630842107bdcd5a4c4294ec5ad8d6b5c90916c499293988418c8422a739ce739ce74a52948c6318c610842107b58c51ce741cea5a52a5a10812527318c628c6531883195b39ce739ce74a52948c6318c210842107ad095a9283a129520e949ca4114c6318c628c6318c64210ee94e739ce74a52948c631842108420f72ce52a1073a0e8398a628c4210c42194a32188318884210a86ca739ce74a52948c63184210841ef73105294a631d08398a5214a5298c52106210ca218c63194a643a739ce74a52948c63084210841ef6ad0729084298c528c8431ce931ce5184410886510c63214c5326339ce73a52948c63084210841ee624e739084298a5190c3108c621481000210844328864298a7315939ce73a52948c6108421083ded5a506314c5210c5198a41042100021084211084319464294c6311129ce73a52948c610842107bdcd5250629cc719083210641082208421084411084319083298c6294d09ce739d2948c210842107bdcc4a0e6318a5214642908318c22104220886318c6318c8429ce6211109ce739d2948c2108420f7bdcb41ce73148321085314c8294a4188620886318c83214c739d05215329ce739d2948c2108420f7bdcb41cc52988220c873156c31ca318c8410c6320c874250652928315529ce739ce9484210841ef7bdcc49cc5294a33148532589524a5214a418c64214c94a109635aa315739ce739ce748421083def7bdcc5a10729086318a5294eb620c429883210a6294e84a92c5358c39dd39ce739ce748421083def7bdcd5256949ca421485218c7414a5314a6394c7218a85b18a6358a4aa339ce739ce74842107bdef7bdec5290851ce731485214a429885298c831ca52990a5254b62d6d6be739ce739ce73842107bdef7bdee5a1084a107418e7314c5314c83a0e7314a631d094a9ac4a9ae7ca739ce739ce738420f7bdef7bdef629094a0e74214841cc7314e7418e8294a72a0e84a98e6b1ce84e739ce739ce73841ef7bdef7bdef72d294a50949d2a525072a10539d042a108321295254a631af94e739ce739ce73841ef7bdef7bdef7b98a5a96c5a54829063214c639888424e741d09414c8525909ce739ce739ce7383def7bdef7bdef739cd51d2b62d041084318c6841d0a3a50939ce6218e63a9f29ce739ce739ce737bdef7bdef7bdef739ce61ca639cc3214c741ca3198a64290629ca5214c95c25294e739ce739ce737bdef7bdef7bdee739ce7354841884218e9418c439ca738c433988529d2c7ca5294e739ce739ce737bdef7bdef7b9ce739ce739cd6b106298c428c86520c310c63210a63adf194a5294a739ce739ce737bdef7bdef7b9ce739ce739ce739cd6a8e62990a49464210a629d4d8465294a5294a539ce739ce737bdef7bdef739ce739ce739ce739cf7b9ab4a108294c74adad7423294a5294a5294a5294a739ce737bdef7bdef739ce739ce739ce739cf7bdef7b9ed635d08c6318c63194a5294a5294a5294a739ce737bdef7bdef739ce739ce739ce739cf7bdef7c2108c6318c6318c63194a5294a5294a5294a739ce73'"
            ],
            "application/vnd.google.colaboratory.intrinsic+json": {
              "type": "string"
            }
          },
          "metadata": {},
          "execution_count": 244
        }
      ]
    },
    {
      "cell_type": "code",
      "source": [
        "image_bytes=bytes.fromhex(image_hex)\n",
        "L=int(hexheader[12:14],16)\n",
        "W=int(hexheader[14:16],16)\n",
        "B=int(hexheader[16:18],16)\n",
        "L,W,B"
      ],
      "metadata": {
        "id": "oRvZNAZuOTZO",
        "outputId": "7fbaeba4-c295-4844-ed6b-eabf85165796",
        "colab": {
          "base_uri": "https://localhost:8080/"
        }
      },
      "execution_count": 260,
      "outputs": [
        {
          "output_type": "execute_result",
          "data": {
            "text/plain": [
              "(32, 32, 5)"
            ]
          },
          "metadata": {},
          "execution_count": 260
        }
      ]
    },
    {
      "cell_type": "code",
      "source": [
        "\n",
        "\n"
      ],
      "metadata": {
        "id": "ZQ3FzDYIP3xc"
      },
      "execution_count": null,
      "outputs": []
    },
    {
      "cell_type": "code",
      "source": [
        "#posible_txn_info"
      ],
      "metadata": {
        "id": "47DzGemRKySd"
      },
      "execution_count": 235,
      "outputs": []
    },
    {
      "cell_type": "code",
      "source": [
        "def_txns =[ (,pos) for pos in posible_txns[1:] if doge.fetchtx(pos)['inputs'][0]['from_output']['txid']==sparkle_txn]"
      ],
      "metadata": {
        "id": "rAUPKNm_GHmT"
      },
      "execution_count": 220,
      "outputs": []
    },
    {
      "cell_type": "code",
      "source": [
        " [out for out in doge.fetchtx(def_txns[0])['outputs'] if 'OP_RETURN' in out['script']]"
      ],
      "metadata": {
        "id": "dP293z6DINTY",
        "outputId": "db97761b-86c8-4c77-e1a7-61cc1c4bf468",
        "colab": {
          "base_uri": "https://localhost:8080/"
        }
      },
      "execution_count": 230,
      "outputs": [
        {
          "output_type": "execute_result",
          "data": {
            "text/plain": [
              "[{'address': 'nonstandard',\n",
              "  'output_no': 1,\n",
              "  'script': 'OP_RETURN c1dd000103ff202005537061726b6c650a4d61676963616c204361740ae29ca8f09f929c466f7665766572f09f929ce29ca80a',\n",
              "  'type': 'nulldata',\n",
              "  'value': '0.00000000'}]"
            ]
          },
          "metadata": {},
          "execution_count": 230
        }
      ]
    },
    {
      "cell_type": "code",
      "source": [
        "broadcasts[0]['data']['txid']"
      ],
      "metadata": {
        "id": "HbP7MkaBDLnj",
        "outputId": "46abcbad-6a06-4cac-9aa0-4cfc2cfb95cc",
        "colab": {
          "base_uri": "https://localhost:8080/",
          "height": 35
        }
      },
      "execution_count": 206,
      "outputs": [
        {
          "output_type": "execute_result",
          "data": {
            "text/plain": [
              "'b07a93efa3e5f989c887843b840a211e7a8cabf60ff4865aef09ee3b9abd0c75'"
            ],
            "application/vnd.google.colaboratory.intrinsic+json": {
              "type": "string"
            }
          },
          "metadata": {},
          "execution_count": 206
        }
      ]
    },
    {
      "cell_type": "code",
      "source": [
        "doge.fetchtx(broadcasts[0]['data']['txid'])"
      ],
      "metadata": {
        "id": "T0GsnVx2EoDt",
        "outputId": "8a493534-dcb4-4da4-e8aa-ae73cf0808fc",
        "colab": {
          "base_uri": "https://localhost:8080/"
        }
      },
      "execution_count": 207,
      "outputs": [
        {
          "output_type": "execute_result",
          "data": {
            "text/plain": [
              "{'blockhash': 'a56297ac11edf78cf6e5ea0c8d9a933cc961a0ae6982af4e0b2b59d084e1b34c',\n",
              " 'confirmations': 167,\n",
              " 'inputs': [{'address': 'D6zKNnkupqRbkB9p5rwix8QiobQWJazjyX',\n",
              "   'from_output': {'output_no': 0,\n",
              "    'txid': 'a2e9f2ebe1ceeae368b734fcd861549c813d5cfb009093237f86b71f0048bda7'},\n",
              "   'input_no': 0,\n",
              "   'script': '3045022100d84d6a3cac0435bea532e41cbb8518227b365cfa078b2fcf7da39a2c0377f0d9022045ab6287025f3204bc27fb43a7c73de555425a8b6a2485b11c4703a8fd2849b801 047c88e9a4df6e9f45656c10bf66f28e28be235a15b64820b254f1b9eb2738314e6769f5c94da0c7640ffe76dcffca053b07a0804cd53a1c51ad03bfe0133ce8c5',\n",
              "   'sequence': 4294967295,\n",
              "   'type': 'pubkeyhash',\n",
              "   'value': '4.75757575',\n",
              "   'witness': None}],\n",
              " 'locktime': 0,\n",
              " 'network': 'DOGE',\n",
              " 'network_fee': '2.00000000',\n",
              " 'outputs': [{'address': 'D6zKNnkupqRbkB9p5rwix8QiobQWJazjyX',\n",
              "   'output_no': 0,\n",
              "   'script': 'OP_DUP OP_HASH160 144739367df0ff8d1c61d03704298d49cf93ef3f OP_EQUALVERIFY OP_CHECKSIG',\n",
              "   'type': 'pubkeyhash',\n",
              "   'value': '2.75757575'},\n",
              "  {'address': 'nonstandard',\n",
              "   'output_no': 1,\n",
              "   'script': 'OP_RETURN c1dd000103ff202005537061726b6c650a4d61676963616c204361740ae29ca8f09f929c466f7665766572f09f929ce29ca80a',\n",
              "   'type': 'nulldata',\n",
              "   'value': '0.00000000'}],\n",
              " 'size': 286,\n",
              " 'time': 1652378608,\n",
              " 'tx_hex': '0100000001a7bd48001fb7867f23939000fb5c3d819c5461d8fc34b768e3eacee1ebf2e9a2000000008b483045022100d84d6a3cac0435bea532e41cbb8518227b365cfa078b2fcf7da39a2c0377f0d9022045ab6287025f3204bc27fb43a7c73de555425a8b6a2485b11c4703a8fd2849b80141047c88e9a4df6e9f45656c10bf66f28e28be235a15b64820b254f1b9eb2738314e6769f5c94da0c7640ffe76dcffca053b07a0804cd53a1c51ad03bfe0133ce8c5ffffffff0207ba6f10000000001976a914144739367df0ff8d1c61d03704298d49cf93ef3f88ac0000000000000000356a33c1dd000103ff202005537061726b6c650a4d61676963616c204361740ae29ca8f09f929c466f7665766572f09f929ce29ca80a00000000',\n",
              " 'txid': 'b07a93efa3e5f989c887843b840a211e7a8cabf60ff4865aef09ee3b9abd0c75',\n",
              " 'version': 1,\n",
              " 'vsize': 286}"
            ]
          },
          "metadata": {},
          "execution_count": 207
        }
      ]
    },
    {
      "cell_type": "code",
      "source": [
        "doge.fetchtx('b07a93efa3e5f989c887843b840a211e7a8cabf60ff4865aef09ee3b9abd0c75')"
      ],
      "metadata": {
        "id": "su1pfOUQYG7n",
        "outputId": "c3ecd67c-926b-4d62-bfa3-02b5849ed432",
        "colab": {
          "base_uri": "https://localhost:8080/"
        }
      },
      "execution_count": 282,
      "outputs": [
        {
          "output_type": "execute_result",
          "data": {
            "text/plain": [
              "{'blockhash': 'a56297ac11edf78cf6e5ea0c8d9a933cc961a0ae6982af4e0b2b59d084e1b34c',\n",
              " 'confirmations': 254,\n",
              " 'inputs': [{'address': 'D6zKNnkupqRbkB9p5rwix8QiobQWJazjyX',\n",
              "   'from_output': {'output_no': 0,\n",
              "    'txid': 'a2e9f2ebe1ceeae368b734fcd861549c813d5cfb009093237f86b71f0048bda7'},\n",
              "   'input_no': 0,\n",
              "   'script': '3045022100d84d6a3cac0435bea532e41cbb8518227b365cfa078b2fcf7da39a2c0377f0d9022045ab6287025f3204bc27fb43a7c73de555425a8b6a2485b11c4703a8fd2849b801 047c88e9a4df6e9f45656c10bf66f28e28be235a15b64820b254f1b9eb2738314e6769f5c94da0c7640ffe76dcffca053b07a0804cd53a1c51ad03bfe0133ce8c5',\n",
              "   'sequence': 4294967295,\n",
              "   'type': 'pubkeyhash',\n",
              "   'value': '4.75757575',\n",
              "   'witness': None}],\n",
              " 'locktime': 0,\n",
              " 'network': 'DOGE',\n",
              " 'network_fee': '2.00000000',\n",
              " 'outputs': [{'address': 'D6zKNnkupqRbkB9p5rwix8QiobQWJazjyX',\n",
              "   'output_no': 0,\n",
              "   'script': 'OP_DUP OP_HASH160 144739367df0ff8d1c61d03704298d49cf93ef3f OP_EQUALVERIFY OP_CHECKSIG',\n",
              "   'type': 'pubkeyhash',\n",
              "   'value': '2.75757575'},\n",
              "  {'address': 'nonstandard',\n",
              "   'output_no': 1,\n",
              "   'script': 'OP_RETURN c1dd000103ff202005537061726b6c650a4d61676963616c204361740ae29ca8f09f929c466f7665766572f09f929ce29ca80a',\n",
              "   'type': 'nulldata',\n",
              "   'value': '0.00000000'}],\n",
              " 'size': 286,\n",
              " 'time': 1652378608,\n",
              " 'tx_hex': '0100000001a7bd48001fb7867f23939000fb5c3d819c5461d8fc34b768e3eacee1ebf2e9a2000000008b483045022100d84d6a3cac0435bea532e41cbb8518227b365cfa078b2fcf7da39a2c0377f0d9022045ab6287025f3204bc27fb43a7c73de555425a8b6a2485b11c4703a8fd2849b80141047c88e9a4df6e9f45656c10bf66f28e28be235a15b64820b254f1b9eb2738314e6769f5c94da0c7640ffe76dcffca053b07a0804cd53a1c51ad03bfe0133ce8c5ffffffff0207ba6f10000000001976a914144739367df0ff8d1c61d03704298d49cf93ef3f88ac0000000000000000356a33c1dd000103ff202005537061726b6c650a4d61676963616c204361740ae29ca8f09f929c466f7665766572f09f929ce29ca80a00000000',\n",
              " 'txid': 'b07a93efa3e5f989c887843b840a211e7a8cabf60ff4865aef09ee3b9abd0c75',\n",
              " 'version': 1,\n",
              " 'vsize': 286}"
            ]
          },
          "metadata": {},
          "execution_count": 282
        }
      ]
    },
    {
      "cell_type": "code",
      "source": [
        "sparkle_bits=message_2_bit_array(image_bytes,mode=None)\n",
        "spark_array=bitarray2imgarr(sparkle_bits,imgshape=(64,64),bit=5,color=1).squeeze()\n",
        "len(sparkle_bits)\n",
        "Image.fromarray(spark_array)"
      ],
      "metadata": {
        "id": "v-HnGyYFF77T",
        "outputId": "7420da4f-5a44-47cf-db96-f994da0d4669",
        "colab": {
          "base_uri": "https://localhost:8080/",
          "height": 81
        }
      },
      "execution_count": 281,
      "outputs": [
        {
          "output_type": "execute_result",
          "data": {
            "text/plain": [
              "<PIL.Image.Image image mode=L size=64x64 at 0x7F496E6BADD0>"
            ],
            "image/png": "[encoded data removed]"
          },
          "metadata": {},
          "execution_count": 281
        }
      ]
    }
  ]
}