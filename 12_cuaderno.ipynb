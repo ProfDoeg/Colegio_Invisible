{
  "nbformat": 4,
  "nbformat_minor": 0,
  "metadata": {
    "colab": {
      "name": "12_cuaderno.ipynb",
      "provenance": [],
      "include_colab_link": true
    },
    "kernelspec": {
      "name": "python3",
      "display_name": "Python 3"
    },
    "language_info": {
      "name": "python"
    }
  },
  "cells": [
    {
      "cell_type": "markdown",
      "metadata": {
        "id": "view-in-github",
        "colab_type": "text"
      },
      "source": [
        "<a href=\"https://colab.research.google.com/github/ProfDoeg/Colegio_Invisible/blob/main/12_cuaderno.ipynb\" target=\"_parent\"><img src=\"https://colab.research.google.com/assets/colab-badge.svg\" alt=\"Open In Colab\"/></a>"
      ]
    },
    {
      "cell_type": "code",
      "source": [
        "#! rm Colegio_Invisible -r"
      ],
      "metadata": {
        "id": "6YV5qP8RODUW"
      },
      "execution_count": 78,
      "outputs": []
    },
    {
      "cell_type": "code",
      "execution_count": 2,
      "metadata": {
        "id": "p80LxM-iMpBC",
        "colab": {
          "base_uri": "https://localhost:8080/"
        },
        "outputId": "a9503a4e-4e35-4c47-c481-73a1bcab7b2f"
      },
      "outputs": [
        {
          "output_type": "stream",
          "name": "stdout",
          "text": [
            "Requirement already satisfied: Pillow in /usr/local/lib/python3.7/dist-packages (7.1.2)\n",
            "Cloning into 'Colegio_Invisible'...\n",
            "remote: Enumerating objects: 1018, done.\u001b[K\n",
            "remote: Counting objects: 100% (28/28), done.\u001b[K\n",
            "remote: Compressing objects: 100% (28/28), done.\u001b[K\n",
            "remote: Total 1018 (delta 15), reused 0 (delta 0), pack-reused 990\u001b[K\n",
            "Receiving objects: 100% (1018/1018), 67.52 MiB | 29.00 MiB/s, done.\n",
            "Resolving deltas: 100% (696/696), done.\n"
          ]
        }
      ],
      "source": [
        "! pip install Pillow\n",
        "! git clone https://github.com/ProfDoeg/Colegio_Invisible.git\n"
      ]
    },
    {
      "cell_type": "markdown",
      "source": [
        "for an image...there are pixels\n",
        "\n",
        "each pixel has 3,4 values (Red Green Blue and sometime Alpha)\n",
        "\n",
        "those numbers are...1 byte...0 to 255"
      ],
      "metadata": {
        "id": "A54RU5ZeUZZk"
      }
    },
    {
      "cell_type": "code",
      "source": [
        "from PIL import Image\n",
        "import numpy as np"
      ],
      "metadata": {
        "id": "jSzywLaHMsem"
      },
      "execution_count": 3,
      "outputs": []
    },
    {
      "cell_type": "code",
      "source": [
        "64*8"
      ],
      "metadata": {
        "colab": {
          "base_uri": "https://localhost:8080/"
        },
        "id": "1JvV7B_FV4xc",
        "outputId": "e80da4f3-0db1-4579-9fa2-74f2399cdf9b"
      },
      "execution_count": 4,
      "outputs": [
        {
          "output_type": "execute_result",
          "data": {
            "text/plain": [
              "512"
            ]
          },
          "metadata": {},
          "execution_count": 4
        }
      ]
    },
    {
      "cell_type": "markdown",
      "source": [
        "what can we put into blockchain...\n",
        "Op_Return\n",
        "80 bytes and we will use 64 bytes for image data\n",
        "\n",
        "each byte is made up of 8 binary values 1/0 called bits\n",
        "\n",
        "64 bytes = 64*8...512 bits\n",
        "\n",
        "We want to put image in single block\n",
        "\n",
        "PROPOSAL:\n",
        "\n",
        "16x16 image = 256 pixels\n",
        "\n",
        "only get to use 2 bits per pixel\n",
        "\n",
        "- 0,0  0 \n",
        "- 0,1  64\n",
        "- 1,0  128\n",
        "- 1,1  192\n",
        "\n",
        "1 byte [ , , , , , , , ]\n",
        "\n",
        "1 byte can tell us color of 4 pixels\n",
        "each one taking up 2 bits"
      ],
      "metadata": {
        "id": "g5RXqfJ_VK9u"
      }
    },
    {
      "cell_type": "code",
      "source": [
        "\"\""
      ],
      "metadata": {
        "id": "VpT7x5CIWHyc",
        "colab": {
          "base_uri": "https://localhost:8080/",
          "height": 35
        },
        "outputId": "9e422bcc-ee7e-446a-d50d-d9467d390725"
      },
      "execution_count": 5,
      "outputs": [
        {
          "output_type": "execute_result",
          "data": {
            "text/plain": [
              "''"
            ],
            "application/vnd.google.colaboratory.intrinsic+json": {
              "type": "string"
            }
          },
          "metadata": {},
          "execution_count": 5
        }
      ]
    },
    {
      "cell_type": "code",
      "source": [
        "!ls Colegio_Invisible/img"
      ],
      "metadata": {
        "id": "zo2ZCW_xNzMj",
        "colab": {
          "base_uri": "https://localhost:8080/"
        },
        "outputId": "b526f271-73b6-4b68-95df-1cc63532e151"
      },
      "execution_count": 6,
      "outputs": [
        {
          "output_type": "stream",
          "name": "stdout",
          "text": [
            "Apollo_Slays_Python_1853.jpeg  hg_cry.jpeg\t rum_3.jpeg\n",
            "asymmetric.png\t\t       hg_drop.jpeg\t rum_4.jpeg\n",
            "bab_crop.jpeg\t\t       hg_hide.jpeg\t rum_5.jpeg\n",
            "barb_1.jpeg\t\t       hg_house.jpeg\t rum_6.jpeg\n",
            "barb_2.jpeg\t\t       hg_invite.jpeg\t rum_7.jpeg\n",
            "barb_3.jpeg\t\t       hg_rough.png\t rump_final.jpeg\n",
            "barb_4.jpeg\t\t       hg_xmas.jpeg\t signature.png\n",
            "barb_5.jpeg\t\t       prv_pub_addr.png  stego.png\n",
            "barb_6.jpeg\t\t       PubKeyToAddr.png  symmetric.png\n",
            "barb_7.jpeg\t\t       rum_0.jpeg\t zomnd.png\n",
            "clavis.jpeg\t\t       rum_1.jpeg\n",
            "colegio_invisible.jpeg\t       rum_2.jpeg\n"
          ]
        }
      ]
    },
    {
      "cell_type": "code",
      "source": [
        "stego_image=Image.open('Colegio_Invisible/img/zomnd.png')\n",
        "stego_image=stego_image.resize((16,16))\n",
        "stego_image"
      ],
      "metadata": {
        "id": "3cAzcOtCNoF-",
        "colab": {
          "base_uri": "https://localhost:8080/",
          "height": 34
        },
        "outputId": "ba6c051c-e2fd-4c75-8a4a-7d148c14269a"
      },
      "execution_count": 7,
      "outputs": [
        {
          "output_type": "execute_result",
          "data": {
            "text/plain": [
              "<PIL.Image.Image image mode=RGBA size=16x16 at 0x7F01E75E2E50>"
            ],
            "image/png": "[encoded data removed]"
          },
          "metadata": {},
          "execution_count": 7
        }
      ]
    },
    {
      "cell_type": "code",
      "source": [
        "type(stego_image)"
      ],
      "metadata": {
        "id": "vJ758msHNu5T",
        "colab": {
          "base_uri": "https://localhost:8080/"
        },
        "outputId": "b272bd9e-77eb-4066-e414-4e3ee371bca3"
      },
      "execution_count": 8,
      "outputs": [
        {
          "output_type": "execute_result",
          "data": {
            "text/plain": [
              "PIL.Image.Image"
            ]
          },
          "metadata": {},
          "execution_count": 8
        }
      ]
    },
    {
      "cell_type": "code",
      "source": [
        "stego_array = np.array(stego_image)\n",
        "stego_array"
      ],
      "metadata": {
        "id": "MK5bUIKbOTbj",
        "colab": {
          "base_uri": "https://localhost:8080/"
        },
        "outputId": "11a88073-f121-422d-d741-bb3c6219ae77"
      },
      "execution_count": 9,
      "outputs": [
        {
          "output_type": "execute_result",
          "data": {
            "text/plain": [
              "array([[[255, 255, 255, 255],\n",
              "        [255, 255, 255, 255],\n",
              "        [255, 255, 255, 255],\n",
              "        ...,\n",
              "        [255, 255, 255, 255],\n",
              "        [255, 255, 255, 255],\n",
              "        [255, 255, 255, 255]],\n",
              "\n",
              "       [[255, 255, 255, 255],\n",
              "        [255, 255, 255, 255],\n",
              "        [255, 255, 255, 255],\n",
              "        ...,\n",
              "        [246, 246, 246, 255],\n",
              "        [255, 255, 255, 255],\n",
              "        [255, 255, 255, 255]],\n",
              "\n",
              "       [[255, 255, 255, 255],\n",
              "        [255, 255, 255, 255],\n",
              "        [255, 255, 255, 255],\n",
              "        ...,\n",
              "        [230, 230, 230, 255],\n",
              "        [255, 255, 255, 255],\n",
              "        [255, 255, 255, 255]],\n",
              "\n",
              "       ...,\n",
              "\n",
              "       [[255, 255, 255, 255],\n",
              "        [250, 250, 250, 255],\n",
              "        [200, 200, 200, 255],\n",
              "        ...,\n",
              "        [254, 254, 254, 255],\n",
              "        [255, 255, 255, 255],\n",
              "        [255, 255, 255, 255]],\n",
              "\n",
              "       [[255, 255, 255, 255],\n",
              "        [252, 252, 252, 255],\n",
              "        [243, 243, 243, 255],\n",
              "        ...,\n",
              "        [255, 255, 255, 255],\n",
              "        [255, 255, 255, 255],\n",
              "        [255, 255, 255, 255]],\n",
              "\n",
              "       [[255, 255, 255, 255],\n",
              "        [255, 255, 255, 255],\n",
              "        [255, 255, 255, 255],\n",
              "        ...,\n",
              "        [255, 255, 255, 255],\n",
              "        [255, 255, 255, 255],\n",
              "        [255, 255, 255, 255]]], dtype=uint8)"
            ]
          },
          "metadata": {},
          "execution_count": 9
        }
      ]
    },
    {
      "cell_type": "markdown",
      "source": [
        "**`uint8`** stands for unsigned 8-bit integer\n",
        "- 8 binary 1/0 values\n",
        "- that is one byte\n",
        "- a number from 0-255\n",
        "- two hex values like ff"
      ],
      "metadata": {
        "id": "5Gq3lpQ2Oh92"
      }
    },
    {
      "cell_type": "code",
      "source": [
        "stego_array.dtype"
      ],
      "metadata": {
        "id": "HnvaTb7qOcCX",
        "colab": {
          "base_uri": "https://localhost:8080/"
        },
        "outputId": "b05de3e7-7fd5-46a0-9270-5508fcd2d67d"
      },
      "execution_count": 10,
      "outputs": [
        {
          "output_type": "execute_result",
          "data": {
            "text/plain": [
              "dtype('uint8')"
            ]
          },
          "metadata": {},
          "execution_count": 10
        }
      ]
    },
    {
      "cell_type": "code",
      "source": [
        "stego_array.shape"
      ],
      "metadata": {
        "id": "ZtupzBOJOWjT",
        "colab": {
          "base_uri": "https://localhost:8080/"
        },
        "outputId": "8b4e1d6a-dc40-494a-e60b-232be1c26d15"
      },
      "execution_count": 11,
      "outputs": [
        {
          "output_type": "execute_result",
          "data": {
            "text/plain": [
              "(16, 16, 4)"
            ]
          },
          "metadata": {},
          "execution_count": 11
        }
      ]
    },
    {
      "cell_type": "code",
      "source": [
        "stego_array[:,:,:3]"
      ],
      "metadata": {
        "colab": {
          "base_uri": "https://localhost:8080/"
        },
        "id": "kCWICwyyYpxN",
        "outputId": "6d702a62-b651-439f-9ac9-e6876b14f7d7"
      },
      "execution_count": 12,
      "outputs": [
        {
          "output_type": "execute_result",
          "data": {
            "text/plain": [
              "array([[[255, 255, 255],\n",
              "        [255, 255, 255],\n",
              "        [255, 255, 255],\n",
              "        [255, 255, 255],\n",
              "        [241, 241, 241],\n",
              "        [181, 181, 181],\n",
              "        [254, 254, 254],\n",
              "        [255, 255, 255],\n",
              "        [255, 255, 255],\n",
              "        [255, 255, 255],\n",
              "        [255, 255, 255],\n",
              "        [245, 245, 245],\n",
              "        [234, 234, 234],\n",
              "        [255, 255, 255],\n",
              "        [255, 255, 255],\n",
              "        [255, 255, 255]],\n",
              "\n",
              "       [[255, 255, 255],\n",
              "        [255, 255, 255],\n",
              "        [255, 255, 255],\n",
              "        [255, 255, 255],\n",
              "        [225, 225, 225],\n",
              "        [175, 175, 175],\n",
              "        [223, 223, 223],\n",
              "        [255, 255, 255],\n",
              "        [255, 255, 255],\n",
              "        [255, 255, 255],\n",
              "        [231, 231, 231],\n",
              "        [171, 171, 171],\n",
              "        [169, 169, 169],\n",
              "        [246, 246, 246],\n",
              "        [255, 255, 255],\n",
              "        [255, 255, 255]],\n",
              "\n",
              "       [[255, 255, 255],\n",
              "        [255, 255, 255],\n",
              "        [255, 255, 255],\n",
              "        [255, 255, 255],\n",
              "        [199, 199, 199],\n",
              "        [227, 227, 227],\n",
              "        [164, 164, 164],\n",
              "        [202, 202, 202],\n",
              "        [212, 212, 212],\n",
              "        [214, 214, 214],\n",
              "        [179, 179, 179],\n",
              "        [221, 221, 221],\n",
              "        [188, 188, 188],\n",
              "        [230, 230, 230],\n",
              "        [255, 255, 255],\n",
              "        [255, 255, 255]],\n",
              "\n",
              "       [[255, 255, 255],\n",
              "        [255, 255, 255],\n",
              "        [255, 255, 255],\n",
              "        [242, 242, 242],\n",
              "        [161, 161, 161],\n",
              "        [232, 232, 232],\n",
              "        [241, 241, 241],\n",
              "        [234, 234, 234],\n",
              "        [225, 225, 225],\n",
              "        [188, 188, 188],\n",
              "        [217, 217, 217],\n",
              "        [184, 184, 184],\n",
              "        [187, 187, 187],\n",
              "        [227, 227, 227],\n",
              "        [255, 255, 255],\n",
              "        [255, 255, 255]],\n",
              "\n",
              "       [[255, 255, 255],\n",
              "        [255, 255, 255],\n",
              "        [236, 236, 236],\n",
              "        [187, 187, 187],\n",
              "        [239, 239, 239],\n",
              "        [250, 250, 250],\n",
              "        [252, 252, 252],\n",
              "        [252, 252, 252],\n",
              "        [255, 255, 255],\n",
              "        [240, 240, 240],\n",
              "        [173, 173, 173],\n",
              "        [220, 220, 220],\n",
              "        [183, 183, 183],\n",
              "        [237, 237, 237],\n",
              "        [255, 255, 255],\n",
              "        [255, 255, 255]],\n",
              "\n",
              "       [[255, 255, 255],\n",
              "        [255, 255, 255],\n",
              "        [194, 194, 194],\n",
              "        [221, 221, 221],\n",
              "        [159, 159, 159],\n",
              "        [226, 226, 226],\n",
              "        [236, 236, 236],\n",
              "        [235, 235, 235],\n",
              "        [237, 237, 237],\n",
              "        [255, 255, 255],\n",
              "        [234, 234, 234],\n",
              "        [191, 191, 191],\n",
              "        [158, 158, 158],\n",
              "        [215, 215, 215],\n",
              "        [255, 255, 255],\n",
              "        [255, 255, 255]],\n",
              "\n",
              "       [[255, 255, 255],\n",
              "        [244, 244, 244],\n",
              "        [200, 200, 200],\n",
              "        [204, 204, 204],\n",
              "        [ 75,  75,  75],\n",
              "        [228, 228, 228],\n",
              "        [221, 221, 221],\n",
              "        [ 86,  86,  86],\n",
              "        [142, 142, 142],\n",
              "        [254, 254, 254],\n",
              "        [241, 241, 241],\n",
              "        [238, 238, 238],\n",
              "        [201, 201, 201],\n",
              "        [197, 197, 197],\n",
              "        [255, 255, 255],\n",
              "        [255, 255, 255]],\n",
              "\n",
              "       [[255, 255, 255],\n",
              "        [222, 222, 222],\n",
              "        [213, 213, 213],\n",
              "        [140, 140, 140],\n",
              "        [161, 161, 161],\n",
              "        [253, 253, 253],\n",
              "        [247, 247, 247],\n",
              "        [184, 184, 184],\n",
              "        [226, 226, 226],\n",
              "        [247, 247, 247],\n",
              "        [237, 237, 237],\n",
              "        [231, 231, 231],\n",
              "        [245, 245, 245],\n",
              "        [193, 193, 193],\n",
              "        [255, 255, 255],\n",
              "        [255, 255, 255]],\n",
              "\n",
              "       [[255, 255, 255],\n",
              "        [210, 210, 210],\n",
              "        [159, 159, 159],\n",
              "        [ 53,  53,  53],\n",
              "        [ 75,  75,  75],\n",
              "        [235, 235, 235],\n",
              "        [255, 255, 255],\n",
              "        [252, 252, 252],\n",
              "        [251, 251, 251],\n",
              "        [253, 253, 253],\n",
              "        [253, 253, 253],\n",
              "        [250, 250, 250],\n",
              "        [231, 231, 231],\n",
              "        [199, 199, 199],\n",
              "        [240, 240, 240],\n",
              "        [255, 255, 255]],\n",
              "\n",
              "       [[255, 255, 255],\n",
              "        [205, 205, 205],\n",
              "        [176, 176, 176],\n",
              "        [ 74,  74,  74],\n",
              "        [153, 153, 153],\n",
              "        [228, 228, 228],\n",
              "        [249, 249, 249],\n",
              "        [255, 255, 255],\n",
              "        [255, 255, 255],\n",
              "        [255, 255, 255],\n",
              "        [255, 255, 255],\n",
              "        [243, 243, 243],\n",
              "        [245, 245, 245],\n",
              "        [224, 224, 224],\n",
              "        [216, 216, 216],\n",
              "        [255, 255, 255]],\n",
              "\n",
              "       [[255, 255, 255],\n",
              "        [217, 217, 217],\n",
              "        [220, 220, 220],\n",
              "        [124, 124, 124],\n",
              "        [138, 138, 138],\n",
              "        [157, 157, 157],\n",
              "        [178, 178, 178],\n",
              "        [241, 241, 241],\n",
              "        [255, 255, 255],\n",
              "        [255, 255, 255],\n",
              "        [254, 254, 254],\n",
              "        [233, 233, 233],\n",
              "        [253, 253, 253],\n",
              "        [247, 247, 247],\n",
              "        [195, 195, 195],\n",
              "        [255, 255, 255]],\n",
              "\n",
              "       [[255, 255, 255],\n",
              "        [238, 238, 238],\n",
              "        [204, 204, 204],\n",
              "        [225, 225, 225],\n",
              "        [187, 187, 187],\n",
              "        [179, 179, 179],\n",
              "        [227, 227, 227],\n",
              "        [255, 255, 255],\n",
              "        [255, 255, 255],\n",
              "        [255, 255, 255],\n",
              "        [241, 241, 241],\n",
              "        [247, 247, 247],\n",
              "        [255, 255, 255],\n",
              "        [251, 251, 251],\n",
              "        [225, 225, 225],\n",
              "        [254, 254, 254]],\n",
              "\n",
              "       [[255, 255, 255],\n",
              "        [255, 255, 255],\n",
              "        [189, 189, 189],\n",
              "        [245, 245, 245],\n",
              "        [254, 254, 254],\n",
              "        [254, 254, 254],\n",
              "        [255, 255, 255],\n",
              "        [255, 255, 255],\n",
              "        [255, 255, 255],\n",
              "        [255, 255, 255],\n",
              "        [254, 254, 254],\n",
              "        [255, 255, 255],\n",
              "        [229, 229, 229],\n",
              "        [242, 242, 242],\n",
              "        [255, 255, 255],\n",
              "        [255, 255, 255]],\n",
              "\n",
              "       [[255, 255, 255],\n",
              "        [250, 250, 250],\n",
              "        [200, 200, 200],\n",
              "        [228, 228, 228],\n",
              "        [241, 241, 241],\n",
              "        [253, 253, 253],\n",
              "        [248, 248, 248],\n",
              "        [251, 251, 251],\n",
              "        [254, 254, 254],\n",
              "        [255, 255, 255],\n",
              "        [255, 255, 255],\n",
              "        [252, 252, 252],\n",
              "        [239, 239, 239],\n",
              "        [254, 254, 254],\n",
              "        [255, 255, 255],\n",
              "        [255, 255, 255]],\n",
              "\n",
              "       [[255, 255, 255],\n",
              "        [252, 252, 252],\n",
              "        [243, 243, 243],\n",
              "        [252, 252, 252],\n",
              "        [238, 238, 238],\n",
              "        [248, 248, 248],\n",
              "        [248, 248, 248],\n",
              "        [241, 241, 241],\n",
              "        [253, 253, 253],\n",
              "        [255, 255, 255],\n",
              "        [255, 255, 255],\n",
              "        [252, 252, 252],\n",
              "        [255, 255, 255],\n",
              "        [255, 255, 255],\n",
              "        [255, 255, 255],\n",
              "        [255, 255, 255]],\n",
              "\n",
              "       [[255, 255, 255],\n",
              "        [255, 255, 255],\n",
              "        [255, 255, 255],\n",
              "        [255, 255, 255],\n",
              "        [255, 255, 255],\n",
              "        [255, 255, 255],\n",
              "        [255, 255, 255],\n",
              "        [255, 255, 255],\n",
              "        [255, 255, 255],\n",
              "        [255, 255, 255],\n",
              "        [255, 255, 255],\n",
              "        [255, 255, 255],\n",
              "        [255, 255, 255],\n",
              "        [255, 255, 255],\n",
              "        [255, 255, 255],\n",
              "        [255, 255, 255]]], dtype=uint8)"
            ]
          },
          "metadata": {},
          "execution_count": 12
        }
      ]
    },
    {
      "cell_type": "code",
      "source": [
        "stego_array_grey=stego_array[:,:,:3].mean(axis=2).astype('uint8')\n",
        "stego_array_grey.shape,stego_array_grey.dtype"
      ],
      "metadata": {
        "id": "kWBZaDEZOgW_",
        "colab": {
          "base_uri": "https://localhost:8080/"
        },
        "outputId": "6dd001fa-be28-43a9-9ea4-d9fbc8b66c3c"
      },
      "execution_count": 13,
      "outputs": [
        {
          "output_type": "execute_result",
          "data": {
            "text/plain": [
              "((16, 16), dtype('uint8'))"
            ]
          },
          "metadata": {},
          "execution_count": 13
        }
      ]
    },
    {
      "cell_type": "code",
      "source": [
        "stego_array_grey"
      ],
      "metadata": {
        "id": "A0nsbRaZOnxN",
        "colab": {
          "base_uri": "https://localhost:8080/"
        },
        "outputId": "a0e4b98a-ec61-44bb-9bd8-f4309a5e4f77"
      },
      "execution_count": 14,
      "outputs": [
        {
          "output_type": "execute_result",
          "data": {
            "text/plain": [
              "array([[255, 255, 255, 255, 241, 181, 254, 255, 255, 255, 255, 245, 234,\n",
              "        255, 255, 255],\n",
              "       [255, 255, 255, 255, 225, 175, 223, 255, 255, 255, 231, 171, 169,\n",
              "        246, 255, 255],\n",
              "       [255, 255, 255, 255, 199, 227, 164, 202, 212, 214, 179, 221, 188,\n",
              "        230, 255, 255],\n",
              "       [255, 255, 255, 242, 161, 232, 241, 234, 225, 188, 217, 184, 187,\n",
              "        227, 255, 255],\n",
              "       [255, 255, 236, 187, 239, 250, 252, 252, 255, 240, 173, 220, 183,\n",
              "        237, 255, 255],\n",
              "       [255, 255, 194, 221, 159, 226, 236, 235, 237, 255, 234, 191, 158,\n",
              "        215, 255, 255],\n",
              "       [255, 244, 200, 204,  75, 228, 221,  86, 142, 254, 241, 238, 201,\n",
              "        197, 255, 255],\n",
              "       [255, 222, 213, 140, 161, 253, 247, 184, 226, 247, 237, 231, 245,\n",
              "        193, 255, 255],\n",
              "       [255, 210, 159,  53,  75, 235, 255, 252, 251, 253, 253, 250, 231,\n",
              "        199, 240, 255],\n",
              "       [255, 205, 176,  74, 153, 228, 249, 255, 255, 255, 255, 243, 245,\n",
              "        224, 216, 255],\n",
              "       [255, 217, 220, 124, 138, 157, 178, 241, 255, 255, 254, 233, 253,\n",
              "        247, 195, 255],\n",
              "       [255, 238, 204, 225, 187, 179, 227, 255, 255, 255, 241, 247, 255,\n",
              "        251, 225, 254],\n",
              "       [255, 255, 189, 245, 254, 254, 255, 255, 255, 255, 254, 255, 229,\n",
              "        242, 255, 255],\n",
              "       [255, 250, 200, 228, 241, 253, 248, 251, 254, 255, 255, 252, 239,\n",
              "        254, 255, 255],\n",
              "       [255, 252, 243, 252, 238, 248, 248, 241, 253, 255, 255, 252, 255,\n",
              "        255, 255, 255],\n",
              "       [255, 255, 255, 255, 255, 255, 255, 255, 255, 255, 255, 255, 255,\n",
              "        255, 255, 255]], dtype=uint8)"
            ]
          },
          "metadata": {},
          "execution_count": 14
        }
      ]
    },
    {
      "cell_type": "code",
      "source": [
        "stego_image_grey = Image.fromarray(stego_array_grey)\n",
        "stego_image_grey"
      ],
      "metadata": {
        "id": "IiMfNkWmOulw",
        "colab": {
          "base_uri": "https://localhost:8080/",
          "height": 34
        },
        "outputId": "60d76914-a00d-434a-fb45-dddbf82560d8"
      },
      "execution_count": 15,
      "outputs": [
        {
          "output_type": "execute_result",
          "data": {
            "text/plain": [
              "<PIL.Image.Image image mode=L size=16x16 at 0x7F01E755A6D0>"
            ],
            "image/png": "[encoded data removed]"
          },
          "metadata": {},
          "execution_count": 15
        }
      ]
    },
    {
      "cell_type": "code",
      "source": [
        "print(150%64)\n",
        "print(150-22)"
      ],
      "metadata": {
        "colab": {
          "base_uri": "https://localhost:8080/"
        },
        "id": "zU3_UmUGZuZm",
        "outputId": "e1eadd69-5df5-401b-d322-9c22681b41ac"
      },
      "execution_count": 16,
      "outputs": [
        {
          "output_type": "stream",
          "name": "stdout",
          "text": [
            "22\n",
            "128\n"
          ]
        }
      ]
    },
    {
      "cell_type": "code",
      "source": [
        "stego_array_grey_2b=stego_array_grey-(stego_array_grey%64)+63\n",
        "stego_array_grey_2b"
      ],
      "metadata": {
        "id": "3WTVKnhIOrBn",
        "colab": {
          "base_uri": "https://localhost:8080/"
        },
        "outputId": "d0beaecd-1eec-4db9-c42d-31883fd483a8"
      },
      "execution_count": 17,
      "outputs": [
        {
          "output_type": "execute_result",
          "data": {
            "text/plain": [
              "array([[255, 255, 255, 255, 255, 191, 255, 255, 255, 255, 255, 255, 255,\n",
              "        255, 255, 255],\n",
              "       [255, 255, 255, 255, 255, 191, 255, 255, 255, 255, 255, 191, 191,\n",
              "        255, 255, 255],\n",
              "       [255, 255, 255, 255, 255, 255, 191, 255, 255, 255, 191, 255, 191,\n",
              "        255, 255, 255],\n",
              "       [255, 255, 255, 255, 191, 255, 255, 255, 255, 191, 255, 191, 191,\n",
              "        255, 255, 255],\n",
              "       [255, 255, 255, 191, 255, 255, 255, 255, 255, 255, 191, 255, 191,\n",
              "        255, 255, 255],\n",
              "       [255, 255, 255, 255, 191, 255, 255, 255, 255, 255, 255, 191, 191,\n",
              "        255, 255, 255],\n",
              "       [255, 255, 255, 255, 127, 255, 255, 127, 191, 255, 255, 255, 255,\n",
              "        255, 255, 255],\n",
              "       [255, 255, 255, 191, 191, 255, 255, 191, 255, 255, 255, 255, 255,\n",
              "        255, 255, 255],\n",
              "       [255, 255, 191,  63, 127, 255, 255, 255, 255, 255, 255, 255, 255,\n",
              "        255, 255, 255],\n",
              "       [255, 255, 191, 127, 191, 255, 255, 255, 255, 255, 255, 255, 255,\n",
              "        255, 255, 255],\n",
              "       [255, 255, 255, 127, 191, 191, 191, 255, 255, 255, 255, 255, 255,\n",
              "        255, 255, 255],\n",
              "       [255, 255, 255, 255, 191, 191, 255, 255, 255, 255, 255, 255, 255,\n",
              "        255, 255, 255],\n",
              "       [255, 255, 191, 255, 255, 255, 255, 255, 255, 255, 255, 255, 255,\n",
              "        255, 255, 255],\n",
              "       [255, 255, 255, 255, 255, 255, 255, 255, 255, 255, 255, 255, 255,\n",
              "        255, 255, 255],\n",
              "       [255, 255, 255, 255, 255, 255, 255, 255, 255, 255, 255, 255, 255,\n",
              "        255, 255, 255],\n",
              "       [255, 255, 255, 255, 255, 255, 255, 255, 255, 255, 255, 255, 255,\n",
              "        255, 255, 255]], dtype=uint8)"
            ]
          },
          "metadata": {},
          "execution_count": 17
        }
      ]
    },
    {
      "cell_type": "code",
      "source": [
        "stego_image_grey_2b = Image.fromarray(stego_array_grey_2b)\n",
        "stego_image_grey_2b"
      ],
      "metadata": {
        "id": "Gq_AEWGVOzKO",
        "colab": {
          "base_uri": "https://localhost:8080/",
          "height": 34
        },
        "outputId": "94b4aa80-e7c4-4cd1-cd07-dd977bf4c8e0"
      },
      "execution_count": 18,
      "outputs": [
        {
          "output_type": "execute_result",
          "data": {
            "text/plain": [
              "<PIL.Image.Image image mode=L size=16x16 at 0x7F01E7570FD0>"
            ],
            "image/png": "[encoded data removed]"
          },
          "metadata": {},
          "execution_count": 18
        }
      ]
    },
    {
      "cell_type": "code",
      "source": [
        "def int_2_bit_array(num):\n",
        "    bin_str=bin(num)\n",
        "    bit_list=[int(bit) for bit in bin_str[2:]]\n",
        "    bit_list=[0]*(8-len(bit_list))+bit_list\n",
        "    bit_array=np.array(bit_list,dtype='uint8')\n",
        "    return bit_array"
      ],
      "metadata": {
        "id": "TsrD8_OFO1n6"
      },
      "execution_count": 19,
      "outputs": []
    },
    {
      "cell_type": "code",
      "source": [
        "int_2_bit_array(0)"
      ],
      "metadata": {
        "colab": {
          "base_uri": "https://localhost:8080/"
        },
        "id": "MhZSrkOlbEA-",
        "outputId": "b0da8210-1f04-4b90-b357-3b2fc170d970"
      },
      "execution_count": 20,
      "outputs": [
        {
          "output_type": "execute_result",
          "data": {
            "text/plain": [
              "array([0, 0, 0, 0, 0, 0, 0, 0], dtype=uint8)"
            ]
          },
          "metadata": {},
          "execution_count": 20
        }
      ]
    },
    {
      "cell_type": "code",
      "source": [
        "int_2_bit_array(64)"
      ],
      "metadata": {
        "colab": {
          "base_uri": "https://localhost:8080/"
        },
        "id": "rQ5H-CISbD1h",
        "outputId": "4bd9bab0-974c-4be4-91ca-fcb923b774fb"
      },
      "execution_count": 21,
      "outputs": [
        {
          "output_type": "execute_result",
          "data": {
            "text/plain": [
              "array([0, 1, 0, 0, 0, 0, 0, 0], dtype=uint8)"
            ]
          },
          "metadata": {},
          "execution_count": 21
        }
      ]
    },
    {
      "cell_type": "code",
      "source": [
        "int_2_bit_array(128)"
      ],
      "metadata": {
        "colab": {
          "base_uri": "https://localhost:8080/"
        },
        "id": "e36MYQeUbDoa",
        "outputId": "a9fb5e0e-82b5-4c84-e8a4-c1200fa3759f"
      },
      "execution_count": 22,
      "outputs": [
        {
          "output_type": "execute_result",
          "data": {
            "text/plain": [
              "array([1, 0, 0, 0, 0, 0, 0, 0], dtype=uint8)"
            ]
          },
          "metadata": {},
          "execution_count": 22
        }
      ]
    },
    {
      "cell_type": "code",
      "source": [
        "int_2_bit_array(192)"
      ],
      "metadata": {
        "id": "Aq5OKjODPW42",
        "colab": {
          "base_uri": "https://localhost:8080/"
        },
        "outputId": "b6681e51-d1c9-4eaf-9269-8c43e03f0b89"
      },
      "execution_count": 23,
      "outputs": [
        {
          "output_type": "execute_result",
          "data": {
            "text/plain": [
              "array([1, 1, 0, 0, 0, 0, 0, 0], dtype=uint8)"
            ]
          },
          "metadata": {},
          "execution_count": 23
        }
      ]
    },
    {
      "cell_type": "code",
      "source": [
        "int_2_bit_array(153)"
      ],
      "metadata": {
        "id": "vdGnbUspPaVh",
        "colab": {
          "base_uri": "https://localhost:8080/"
        },
        "outputId": "057b6ba3-13ea-4c31-96ac-00dbef000d23"
      },
      "execution_count": 24,
      "outputs": [
        {
          "output_type": "execute_result",
          "data": {
            "text/plain": [
              "array([1, 0, 0, 1, 1, 0, 0, 1], dtype=uint8)"
            ]
          },
          "metadata": {},
          "execution_count": 24
        }
      ]
    },
    {
      "cell_type": "markdown",
      "source": [
        "Goal:\n",
        "\n",
        "- take image of 256 bytes and reduce each byte to 2 bit in form of 2 element array\n",
        "- turn that all into 512 bits\n",
        "- turn 512 bits into 64 bytes"
      ],
      "metadata": {
        "id": "KDXmg93RcmvX"
      }
    },
    {
      "cell_type": "markdown",
      "source": [
        "# Generalize Standard For Images (MxN)\n",
        "\n",
        "If we create a standard for the header that describes the data stored then we can choose the following paramenters:\n",
        "\n",
        "- length\n",
        "- width\n",
        "- color dim \n",
        "- color bit count\n",
        "\n",
        "In total the number of bits is the product of all the parameters\n",
        "\n",
        "## Greyscale Image \n",
        "\n",
        "## RGB Image\n",
        "\n",
        "## Two Channel Color Standard\n",
        "\n",
        "## Four Channel\n",
        "\n",
        "## General Color Dim\n",
        "\n"
      ],
      "metadata": {
        "id": "kFmxqVuDea6r"
      }
    },
    {
      "cell_type": "code",
      "source": [
        "import numpy as np\n",
        "np.packbits(np.array([True]))"
      ],
      "metadata": {
        "colab": {
          "base_uri": "https://localhost:8080/"
        },
        "id": "AsncnL8icIIF",
        "outputId": "2d3bb2b5-a886-438f-f75d-978035c8e216"
      },
      "execution_count": 25,
      "outputs": [
        {
          "output_type": "execute_result",
          "data": {
            "text/plain": [
              "array([128], dtype=uint8)"
            ]
          },
          "metadata": {},
          "execution_count": 25
        }
      ]
    },
    {
      "cell_type": "code",
      "source": [
        "def message_2_bit_array(message,mode=None):\n",
        "    '''This function takes in a message as string, bytestring or hextring.\n",
        "    If hexstring input the set mode='hex' '''\n",
        "    if type(message)==bytes:\n",
        "        hex_str=message.hex()\n",
        "    elif (type(message)==str):\n",
        "        if mode not in ('hex','hexstring'):\n",
        "            hex_str=message.encode().hex()\n",
        "        else:\n",
        "            hex_str=message\n",
        "    else:\n",
        "        print('fix the input and mode')\n",
        "        return None\n",
        "    \n",
        "    num=int('0x'+hex_str,base=16)\n",
        "    byte_len=(len(hex_str)+1)//2\n",
        "    bit_len=byte_len*8\n",
        "    bin_str=bin(num)\n",
        "    bit_list=[int(bit) for bit in bin_str[2:]]\n",
        "    bit_list=[0]*(bit_len-len(bit_list))+bit_list\n",
        "    bit_array=np.array(bit_list,dtype='uint8')\n",
        "    return bit_array\n",
        "\n",
        "def bit_array_2_byte_str(bit_array):\n",
        "    '''Convert bit array to a bytestring'''\n",
        "    bit_list=[ str(bit) for bit in bit_array]\n",
        "    bin_str='0b'+(''.join(bit_list))\n",
        "    num=int(bin_str,base=2)\n",
        "    return num.to_bytes(len(bit_array)//8,'big')\n",
        "\n",
        "def bit_array_2_hex_str(bit_array):  \n",
        "    '''Convert a bit array to a hexstring'''\n",
        "    return bit_array_2_byte_str(bit_array).hex()\n",
        "\n",
        "def bit_array_2_str(bit_array,encoding='utf-8'):\n",
        "    '''Convert a bit array to a string'''\n",
        "    return bit_array_2_byte_str(bit_array).decode(encoding)"
      ],
      "metadata": {
        "id": "rsUqVeQXiaH4"
      },
      "execution_count": 26,
      "outputs": []
    },
    {
      "cell_type": "code",
      "source": [
        "message_2_bit_array(b'sdjnvsdjnskjnv',mode=None)"
      ],
      "metadata": {
        "id": "zEm5E-uikh8L",
        "outputId": "27de9d0b-2ef7-43da-d7e4-2dd2954b00e3",
        "colab": {
          "base_uri": "https://localhost:8080/"
        }
      },
      "execution_count": 27,
      "outputs": [
        {
          "output_type": "execute_result",
          "data": {
            "text/plain": [
              "array([0, 1, 1, 1, 0, 0, 1, 1, 0, 1, 1, 0, 0, 1, 0, 0, 0, 1, 1, 0, 1, 0,\n",
              "       1, 0, 0, 1, 1, 0, 1, 1, 1, 0, 0, 1, 1, 1, 0, 1, 1, 0, 0, 1, 1, 1,\n",
              "       0, 0, 1, 1, 0, 1, 1, 0, 0, 1, 0, 0, 0, 1, 1, 0, 1, 0, 1, 0, 0, 1,\n",
              "       1, 0, 1, 1, 1, 0, 0, 1, 1, 1, 0, 0, 1, 1, 0, 1, 1, 0, 1, 0, 1, 1,\n",
              "       0, 1, 1, 0, 1, 0, 1, 0, 0, 1, 1, 0, 1, 1, 1, 0, 0, 1, 1, 1, 0, 1,\n",
              "       1, 0], dtype=uint8)"
            ]
          },
          "metadata": {},
          "execution_count": 27
        }
      ]
    },
    {
      "cell_type": "code",
      "source": [
        ""
      ],
      "metadata": {
        "id": "DQet93sYlV48"
      },
      "execution_count": 27,
      "outputs": []
    },
    {
      "cell_type": "markdown",
      "source": [
        "Now we need a to function that \n",
        "- takes an image and turns to a bit array\n",
        "- takes *uint8* value and turns to bit array"
      ],
      "metadata": {
        "id": "kA88bFFJl5gZ"
      }
    },
    {
      "cell_type": "code",
      "source": [
        "def int2bitarray(x,bit=8):\n",
        "  return message_2_bit_array(hex(x)[2:],mode='hex')[:bit]"
      ],
      "metadata": {
        "id": "BKgZ3zyamhvX"
      },
      "execution_count": 28,
      "outputs": []
    },
    {
      "cell_type": "code",
      "source": [
        "A=int2bitarray(90)\n",
        "A"
      ],
      "metadata": {
        "id": "H9zjOmlhnxoB",
        "outputId": "249372f6-e206-49e5-e6b8-efce3aae434f",
        "colab": {
          "base_uri": "https://localhost:8080/"
        }
      },
      "execution_count": 29,
      "outputs": [
        {
          "output_type": "execute_result",
          "data": {
            "text/plain": [
              "array([0, 1, 0, 1, 1, 0, 1, 0], dtype=uint8)"
            ]
          },
          "metadata": {},
          "execution_count": 29
        }
      ]
    },
    {
      "cell_type": "code",
      "source": [
        "A7=int2bitarray(90,bit=7)\n",
        "A7"
      ],
      "metadata": {
        "id": "J4mqtt1gofmP",
        "outputId": "717df52c-36c8-4174-a0f0-747279617e96",
        "colab": {
          "base_uri": "https://localhost:8080/"
        }
      },
      "execution_count": 30,
      "outputs": [
        {
          "output_type": "execute_result",
          "data": {
            "text/plain": [
              "array([0, 1, 0, 1, 1, 0, 1], dtype=uint8)"
            ]
          },
          "metadata": {},
          "execution_count": 30
        }
      ]
    },
    {
      "cell_type": "code",
      "source": [
        "A2=int2bitarray(90,bit=2)\n",
        "A2"
      ],
      "metadata": {
        "id": "7w3-6JOfp84s",
        "outputId": "4cd436d1-4bb3-4775-ceb9-da79094066ac",
        "colab": {
          "base_uri": "https://localhost:8080/"
        }
      },
      "execution_count": 31,
      "outputs": [
        {
          "output_type": "execute_result",
          "data": {
            "text/plain": [
              "array([0, 1], dtype=uint8)"
            ]
          },
          "metadata": {},
          "execution_count": 31
        }
      ]
    },
    {
      "cell_type": "code",
      "source": [
        "(2**np.arange(7,-1,-1))"
      ],
      "metadata": {
        "id": "wbjFSdiJswWl",
        "outputId": "f99c694f-0ae0-4b33-cc9b-d5597698bc3c",
        "colab": {
          "base_uri": "https://localhost:8080/"
        }
      },
      "execution_count": 32,
      "outputs": [
        {
          "output_type": "execute_result",
          "data": {
            "text/plain": [
              "array([128,  64,  32,  16,   8,   4,   2,   1])"
            ]
          },
          "metadata": {},
          "execution_count": 32
        }
      ]
    },
    {
      "cell_type": "code",
      "source": [
        "def bitarray2int(b_arr):\n",
        "  ln=b_arr.shape[0]\n",
        "  scales=(2**np.arange(7,-1,-1))[:ln]\n",
        "  return (b_arr*scales).sum()"
      ],
      "metadata": {
        "id": "zk1oRgPhqAmp"
      },
      "execution_count": 33,
      "outputs": []
    },
    {
      "cell_type": "code",
      "source": [
        "B=int2bitarray(255,bit=2)\n",
        "B"
      ],
      "metadata": {
        "id": "Dq5dfFgbu2Td",
        "outputId": "e39b7d95-df80-487d-9d7e-2c8c02142531",
        "colab": {
          "base_uri": "https://localhost:8080/"
        }
      },
      "execution_count": 34,
      "outputs": [
        {
          "output_type": "execute_result",
          "data": {
            "text/plain": [
              "array([1, 1], dtype=uint8)"
            ]
          },
          "metadata": {},
          "execution_count": 34
        }
      ]
    },
    {
      "cell_type": "code",
      "source": [
        "bitarray2int(A)"
      ],
      "metadata": {
        "id": "jwrC3mSGrk6Z",
        "outputId": "2975cd33-bc08-4354-bba3-f07391a4c73f",
        "colab": {
          "base_uri": "https://localhost:8080/"
        }
      },
      "execution_count": 35,
      "outputs": [
        {
          "output_type": "execute_result",
          "data": {
            "text/plain": [
              "90"
            ]
          },
          "metadata": {},
          "execution_count": 35
        }
      ]
    },
    {
      "cell_type": "code",
      "source": [
        "bitarray2int(B)"
      ],
      "metadata": {
        "id": "19xKv3EAujOS",
        "outputId": "ec149c33-b241-4c6d-c2f9-73a1c64e48e7",
        "colab": {
          "base_uri": "https://localhost:8080/"
        }
      },
      "execution_count": 36,
      "outputs": [
        {
          "output_type": "execute_result",
          "data": {
            "text/plain": [
              "192"
            ]
          },
          "metadata": {},
          "execution_count": 36
        }
      ]
    },
    {
      "cell_type": "code",
      "source": [
        "def bitarray2int_scale(b_arr):\n",
        "  ln=b_arr.shape[0]\n",
        "  scales=(2**np.arange(7,-1,-1))[:ln]\n",
        "  return int((b_arr*scales).sum()*255/bitarray2int(np.ones(ln,dtype='uint8')))"
      ],
      "metadata": {
        "id": "yX7QEm0ovuZc"
      },
      "execution_count": 37,
      "outputs": []
    },
    {
      "cell_type": "code",
      "source": [
        "bitarray2int_scale(B)"
      ],
      "metadata": {
        "id": "lW750XlFw6Qg",
        "outputId": "d391b85b-19d2-40e9-ca1d-719083007b5c",
        "colab": {
          "base_uri": "https://localhost:8080/"
        }
      },
      "execution_count": 38,
      "outputs": [
        {
          "output_type": "execute_result",
          "data": {
            "text/plain": [
              "255"
            ]
          },
          "metadata": {},
          "execution_count": 38
        }
      ]
    },
    {
      "cell_type": "code",
      "source": [
        "bitarray2int_scale(np.array([1,1]))"
      ],
      "metadata": {
        "id": "s67MLWLLxCQl",
        "outputId": "b3493ff7-6808-4f95-badb-70e0991e4ab2",
        "colab": {
          "base_uri": "https://localhost:8080/"
        }
      },
      "execution_count": 39,
      "outputs": [
        {
          "output_type": "execute_result",
          "data": {
            "text/plain": [
              "255"
            ]
          },
          "metadata": {},
          "execution_count": 39
        }
      ]
    },
    {
      "cell_type": "code",
      "source": [
        "def imgarr2bitarray(imgarr,bit=8):\n",
        "  return np.array([ int2bitarray(it,bit) for it in imgarr.reshape(-1)]).reshape(-1)"
      ],
      "metadata": {
        "id": "jbDIPfeTxKAe"
      },
      "execution_count": 40,
      "outputs": []
    },
    {
      "cell_type": "code",
      "source": [
        "imgarr2bitarray(stego_array_grey,2)"
      ],
      "metadata": {
        "colab": {
          "base_uri": "https://localhost:8080/"
        },
        "id": "ihGhAj7pTa-g",
        "outputId": "f3886f94-d421-4045-e500-890a3f6c922c"
      },
      "execution_count": 41,
      "outputs": [
        {
          "output_type": "execute_result",
          "data": {
            "text/plain": [
              "array([1, 1, 1, 1, 1, 1, 1, 1, 1, 1, 1, 0, 1, 1, 1, 1, 1, 1, 1, 1, 1, 1,\n",
              "       1, 1, 1, 1, 1, 1, 1, 1, 1, 1, 1, 1, 1, 1, 1, 1, 1, 1, 1, 1, 1, 0,\n",
              "       1, 1, 1, 1, 1, 1, 1, 1, 1, 1, 1, 0, 1, 0, 1, 1, 1, 1, 1, 1, 1, 1,\n",
              "       1, 1, 1, 1, 1, 1, 1, 1, 1, 1, 1, 0, 1, 1, 1, 1, 1, 1, 1, 0, 1, 1,\n",
              "       1, 0, 1, 1, 1, 1, 1, 1, 1, 1, 1, 1, 1, 1, 1, 1, 1, 0, 1, 1, 1, 1,\n",
              "       1, 1, 1, 1, 1, 0, 1, 1, 1, 0, 1, 0, 1, 1, 1, 1, 1, 1, 1, 1, 1, 1,\n",
              "       1, 1, 1, 0, 1, 1, 1, 1, 1, 1, 1, 1, 1, 1, 1, 1, 1, 0, 1, 1, 1, 0,\n",
              "       1, 1, 1, 1, 1, 1, 1, 1, 1, 1, 1, 1, 1, 1, 1, 0, 1, 1, 1, 1, 1, 1,\n",
              "       1, 1, 1, 1, 1, 1, 1, 0, 1, 0, 1, 1, 1, 1, 1, 1, 1, 1, 1, 1, 1, 1,\n",
              "       1, 1, 0, 1, 1, 1, 1, 1, 0, 1, 1, 0, 1, 1, 1, 1, 1, 1, 1, 1, 1, 1,\n",
              "       1, 1, 1, 1, 1, 1, 1, 1, 1, 1, 1, 0, 1, 0, 1, 1, 1, 1, 1, 0, 1, 1,\n",
              "       1, 1, 1, 1, 1, 1, 1, 1, 1, 1, 1, 1, 1, 1, 1, 1, 1, 1, 1, 0, 0, 0,\n",
              "       0, 1, 1, 1, 1, 1, 1, 1, 1, 1, 1, 1, 1, 1, 1, 1, 1, 1, 1, 1, 1, 1,\n",
              "       1, 1, 1, 1, 1, 1, 1, 0, 0, 1, 1, 0, 1, 1, 1, 1, 1, 1, 1, 1, 1, 1,\n",
              "       1, 1, 1, 1, 1, 1, 1, 1, 1, 1, 1, 1, 1, 1, 1, 1, 1, 1, 0, 1, 1, 0,\n",
              "       1, 0, 1, 0, 1, 1, 1, 1, 1, 1, 1, 1, 1, 1, 1, 1, 1, 1, 1, 1, 1, 1,\n",
              "       1, 1, 1, 1, 1, 1, 1, 1, 1, 0, 1, 0, 1, 1, 1, 1, 1, 1, 1, 1, 1, 1,\n",
              "       1, 1, 1, 1, 1, 1, 1, 1, 1, 1, 1, 1, 1, 1, 1, 0, 1, 1, 1, 1, 1, 1,\n",
              "       1, 1, 1, 1, 1, 1, 1, 1, 1, 1, 1, 1, 1, 1, 1, 1, 1, 1, 1, 1, 1, 1,\n",
              "       1, 1, 1, 1, 1, 1, 1, 1, 1, 1, 1, 1, 1, 1, 1, 1, 1, 1, 1, 1, 1, 1,\n",
              "       1, 1, 1, 1, 1, 1, 1, 1, 1, 1, 1, 1, 1, 1, 1, 1, 1, 1, 1, 1, 1, 1,\n",
              "       1, 1, 1, 1, 1, 1, 1, 1, 1, 1, 1, 1, 1, 1, 1, 1, 1, 1, 1, 1, 1, 1,\n",
              "       1, 1, 1, 1, 1, 1, 1, 1, 1, 1, 1, 1, 1, 1, 1, 1, 1, 1, 1, 1, 1, 1,\n",
              "       1, 1, 1, 1, 1, 1], dtype=uint8)"
            ]
          },
          "metadata": {},
          "execution_count": 41
        }
      ]
    },
    {
      "cell_type": "code",
      "source": [
        "Image.fromarray(imgarr2bitarray(stego_array_grey,4).reshape(32,32)*255)"
      ],
      "metadata": {
        "colab": {
          "base_uri": "https://localhost:8080/",
          "height": 49
        },
        "id": "yKM48wdyTfeX",
        "outputId": "4ee2a198-a0a1-4918-a032-51e0c42fdb3b"
      },
      "execution_count": 42,
      "outputs": [
        {
          "output_type": "execute_result",
          "data": {
            "text/plain": [
              "<PIL.Image.Image image mode=L size=32x32 at 0x7F01E75D2F10>"
            ],
            "image/png": "[encoded data removed]"
          },
          "metadata": {},
          "execution_count": 42
        }
      ]
    },
    {
      "cell_type": "code",
      "source": [
        "64*32/8"
      ],
      "metadata": {
        "colab": {
          "base_uri": "https://localhost:8080/"
        },
        "id": "HL8ryaCnZSJ1",
        "outputId": "abe4f45e-d36d-48e2-ae5b-1d45700b639b"
      },
      "execution_count": 43,
      "outputs": [
        {
          "output_type": "execute_result",
          "data": {
            "text/plain": [
              "256.0"
            ]
          },
          "metadata": {},
          "execution_count": 43
        }
      ]
    },
    {
      "cell_type": "code",
      "source": [
        "Image.fromarray(imgarr2bitarray(stego_array_grey,1).reshape(16,16)*255)"
      ],
      "metadata": {
        "colab": {
          "base_uri": "https://localhost:8080/",
          "height": 34
        },
        "id": "tt529BB3UP-8",
        "outputId": "3e9326e3-e595-4c08-b2b5-807ae75dbb5e"
      },
      "execution_count": 44,
      "outputs": [
        {
          "output_type": "execute_result",
          "data": {
            "text/plain": [
              "<PIL.Image.Image image mode=L size=16x16 at 0x7F01E7584390>"
            ],
            "image/png": "[encoded data removed]"
          },
          "metadata": {},
          "execution_count": 44
        }
      ]
    },
    {
      "cell_type": "code",
      "source": [
        "Image.fromarray(imgarr2bitarray(stego_array_grey,2).reshape(4,128)*255)"
      ],
      "metadata": {
        "colab": {
          "base_uri": "https://localhost:8080/",
          "height": 34
        },
        "id": "M2z0gZvPWgo_",
        "outputId": "530a7d21-a7ea-4089-f545-ca52c843768b"
      },
      "execution_count": 48,
      "outputs": [
        {
          "output_type": "execute_result",
          "data": {
            "text/plain": [
              "<PIL.Image.Image image mode=L size=128x4 at 0x7F01ED76D290>"
            ],
            "image/png": "[encoded data removed]"
          },
          "metadata": {},
          "execution_count": 48
        }
      ]
    },
    {
      "cell_type": "code",
      "source": [
        "g2=imgarr2bitarray(stego_array_grey,2)\n",
        "g3=imgarr2bitarray(stego_array_grey,3)\n",
        "g4=imgarr2bitarray(stego_array_grey,4)"
      ],
      "metadata": {
        "id": "DNde1uMtdDb2"
      },
      "execution_count": 83,
      "outputs": []
    },
    {
      "cell_type": "code",
      "source": [
        "def bitarray2imgarr(barrs,imgshape=(16,16),bit=2,color=1):\n",
        "  lns=len(barrs.reshape(-1))\n",
        "  #Bs=barrs.reshape(*imgshape,bit)\n",
        "  intlst=[ bitarray2int(barrs.reshape(-1)[i:i+bit]) for i in range(0,lns,bit) ]\n",
        "  intarr=np.array(intlst).reshape(*imgshape,color).astype('uint8')\n",
        "  return intarr\n",
        " \n",
        "def bitarray2imgarr_scale(barrs,imgshape=(16,16),bit=2,color=1):\n",
        "  lns=len(barrs.reshape(-1))\n",
        "  #Bs=barrs.reshape(*imgshape,bit)\n",
        "  intlst=[ bitarray2int_scale(barrs.reshape(-1)[i:i+bit]) for i in range(0,lns,bit) ]\n",
        "  intarr=np.array(intlst).reshape(*imgshape,color).astype('uint8')\n",
        "  return intarr"
      ],
      "metadata": {
        "id": "xY816tYbZOIk"
      },
      "execution_count": 73,
      "outputs": []
    },
    {
      "cell_type": "code",
      "source": [
        "trans=bitarray2imgarr(g3,imgshape=(16,16),bit=3,color=1)\n",
        "trans.shape"
      ],
      "metadata": {
        "id": "XvlK0lwVgRR9",
        "outputId": "4f50b332-86f0-4ec6-a2ec-a4283b8b2b18",
        "colab": {
          "base_uri": "https://localhost:8080/"
        }
      },
      "execution_count": 91,
      "outputs": [
        {
          "output_type": "execute_result",
          "data": {
            "text/plain": [
              "(16, 16, 1)"
            ]
          },
          "metadata": {},
          "execution_count": 91
        }
      ]
    },
    {
      "cell_type": "code",
      "source": [
        "Image.fromarray(trans.reshape(16,16))"
      ],
      "metadata": {
        "id": "2ELrPXV7gzlw",
        "outputId": "ed87b54b-cb5e-4fc0-9fe0-d1a2424d324d",
        "colab": {
          "base_uri": "https://localhost:8080/",
          "height": 34
        }
      },
      "execution_count": 92,
      "outputs": [
        {
          "output_type": "execute_result",
          "data": {
            "text/plain": [
              "<PIL.Image.Image image mode=L size=16x16 at 0x7F01DED0B050>"
            ],
            "image/png": "[encoded data removed]"
          },
          "metadata": {},
          "execution_count": 92
        }
      ]
    },
    {
      "cell_type": "code",
      "source": [
        "trans_scale=bitarray2imgarr(g3,imgshape=(16,16),bit=3,color=1)\n",
        "trans_scale.shape"
      ],
      "metadata": {
        "id": "g515veeph-T9",
        "outputId": "18282cfe-8776-4c1d-a8f1-acf521d64377",
        "colab": {
          "base_uri": "https://localhost:8080/"
        }
      },
      "execution_count": 89,
      "outputs": [
        {
          "output_type": "execute_result",
          "data": {
            "text/plain": [
              "(16, 16, 1)"
            ]
          },
          "metadata": {},
          "execution_count": 89
        }
      ]
    },
    {
      "cell_type": "code",
      "source": [
        "Image.fromarray(trans_scale.reshape(16,16))"
      ],
      "metadata": {
        "id": "gs5UbMShjjBD",
        "outputId": "ee824fa5-e306-4e16-ec6c-c84d7a5a9d40",
        "colab": {
          "base_uri": "https://localhost:8080/",
          "height": 34
        }
      },
      "execution_count": 90,
      "outputs": [
        {
          "output_type": "execute_result",
          "data": {
            "text/plain": [
              "<PIL.Image.Image image mode=L size=16x16 at 0x7F01DED0BC10>"
            ],
            "image/png": "[encoded data removed]"
          },
          "metadata": {},
          "execution_count": 90
        }
      ]
    },
    {
      "cell_type": "code",
      "source": [
        ""
      ],
      "metadata": {
        "id": "-nPGeawcjmTb"
      },
      "execution_count": 77,
      "outputs": []
    }
  ]
}