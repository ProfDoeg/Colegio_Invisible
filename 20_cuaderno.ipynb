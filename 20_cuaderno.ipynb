{
  "nbformat": 4,
  "nbformat_minor": 0,
  "metadata": {
    "colab": {
      "name": "20_cuaderno.ipynb",
      "provenance": [],
      "collapsed_sections": [],
      "authorship_tag": "ABX9TyOOSNhuyxnRAbc16mAPC5Gm",
      "include_colab_link": true
    },
    "kernelspec": {
      "name": "python3",
      "display_name": "Python 3"
    },
    "language_info": {
      "name": "python"
    }
  },
  "cells": [
    {
      "cell_type": "markdown",
      "metadata": {
        "id": "view-in-github",
        "colab_type": "text"
      },
      "source": [
        "<a href=\"https://colab.research.google.com/github/ProfDoeg/Colegio_Invisible/blob/main/20_cuaderno.ipynb\" target=\"_parent\"><img src=\"https://colab.research.google.com/assets/colab-badge.svg\" alt=\"Open In Colab\"/></a>"
      ]
    },
    {
      "cell_type": "code",
      "execution_count": 1,
      "metadata": {
        "id": "ERT60jl5s4EK",
        "colab": {
          "base_uri": "https://localhost:8080/"
        },
        "outputId": "15ad2f73-de27-457d-e240-669a093070a6"
      },
      "outputs": [
        {
          "output_type": "stream",
          "name": "stdout",
          "text": [
            "Looking in indexes: https://pypi.org/simple, https://us-python.pkg.dev/colab-wheels/public/simple/\n",
            "Collecting hdwallet\n",
            "  Downloading hdwallet-2.1.1-py3-none-any.whl (68 kB)\n",
            "\u001b[K     |████████████████████████████████| 68 kB 3.1 MB/s \n",
            "\u001b[?25hCollecting py_crypto_hd_wallet\n",
            "  Downloading py_crypto_hd_wallet-1.2.0.tar.gz (65 kB)\n",
            "\u001b[K     |████████████████████████████████| 65 kB 2.4 MB/s \n",
            "\u001b[?25hCollecting cryptos\n",
            "  Downloading cryptos-1.36-py3-none-any.whl (69 kB)\n",
            "\u001b[K     |████████████████████████████████| 69 kB 5.6 MB/s \n",
            "\u001b[?25hCollecting eciespy\n",
            "  Downloading eciespy-0.3.12-py3-none-any.whl (11 kB)\n",
            "Collecting qrcode\n",
            "  Downloading qrcode-7.3.1.tar.gz (43 kB)\n",
            "\u001b[K     |████████████████████████████████| 43 kB 1.5 MB/s \n",
            "\u001b[?25hCollecting base58<3,>=2.0.1\n",
            "  Downloading base58-2.1.1-py3-none-any.whl (5.6 kB)\n",
            "Collecting mnemonic<1,>=0.19\n",
            "  Downloading mnemonic-0.20-py3-none-any.whl (62 kB)\n",
            "\u001b[K     |████████████████████████████████| 62 kB 283 kB/s \n",
            "\u001b[?25hCollecting ecdsa<1,>=0.13\n",
            "  Downloading ecdsa-0.17.0-py2.py3-none-any.whl (119 kB)\n",
            "\u001b[K     |████████████████████████████████| 119 kB 40.0 MB/s \n",
            "\u001b[?25hCollecting pysha3<2,>=1.0.2\n",
            "  Downloading pysha3-1.0.2.tar.gz (829 kB)\n",
            "\u001b[K     |████████████████████████████████| 829 kB 39.2 MB/s \n",
            "\u001b[?25hRequirement already satisfied: six>=1.9.0 in /usr/local/lib/python3.7/dist-packages (from ecdsa<1,>=0.13->hdwallet) (1.15.0)\n",
            "Collecting bip_utils<3.0,>=2.5.1\n",
            "  Downloading bip_utils-2.5.1.tar.gz (305 kB)\n",
            "\u001b[K     |████████████████████████████████| 305 kB 45.1 MB/s \n",
            "\u001b[?25hCollecting coincurve<18.0.0,>=15.0.1\n",
            "  Downloading coincurve-17.0.0-cp37-cp37m-manylinux_2_17_x86_64.manylinux2014_x86_64.whl (1.3 MB)\n",
            "\u001b[K     |████████████████████████████████| 1.3 MB 29.7 MB/s \n",
            "\u001b[?25hRequirement already satisfied: crcmod~=1.7 in /usr/local/lib/python3.7/dist-packages (from bip_utils<3.0,>=2.5.1->py_crypto_hd_wallet) (1.7)\n",
            "Collecting ed25519-blake2b~=1.4\n",
            "  Downloading ed25519-blake2b-1.4.tar.gz (871 kB)\n",
            "\u001b[K     |████████████████████████████████| 871 kB 17.9 MB/s \n",
            "\u001b[?25hCollecting pycryptodome~=3.6\n",
            "  Downloading pycryptodome-3.15.0-cp35-abi3-manylinux2010_x86_64.whl (2.3 MB)\n",
            "\u001b[K     |████████████████████████████████| 2.3 MB 37.0 MB/s \n",
            "\u001b[?25hCollecting pynacl~=1.1\n",
            "  Downloading PyNaCl-1.5.0-cp36-abi3-manylinux_2_17_x86_64.manylinux2014_x86_64.manylinux_2_24_x86_64.whl (856 kB)\n",
            "\u001b[K     |████████████████████████████████| 856 kB 58.2 MB/s \n",
            "\u001b[?25hCollecting py-sr25519-bindings<2.0.0,>=0.1.3\n",
            "  Downloading py_sr25519_bindings-0.1.4-cp37-cp37m-manylinux_2_5_x86_64.manylinux1_x86_64.whl (1.0 MB)\n",
            "\u001b[K     |████████████████████████████████| 1.0 MB 63.2 MB/s \n",
            "\u001b[?25hCollecting asn1crypto\n",
            "  Downloading asn1crypto-1.5.1-py2.py3-none-any.whl (105 kB)\n",
            "\u001b[K     |████████████████████████████████| 105 kB 39.9 MB/s \n",
            "\u001b[?25hRequirement already satisfied: cffi>=1.3.0 in /usr/local/lib/python3.7/dist-packages (from coincurve<18.0.0,>=15.0.1->bip_utils<3.0,>=2.5.1->py_crypto_hd_wallet) (1.15.0)\n",
            "Requirement already satisfied: pycparser in /usr/local/lib/python3.7/dist-packages (from cffi>=1.3.0->coincurve<18.0.0,>=15.0.1->bip_utils<3.0,>=2.5.1->py_crypto_hd_wallet) (2.21)\n",
            "Collecting eth-keys<0.5.0,>=0.4.0\n",
            "  Downloading eth_keys-0.4.0-py3-none-any.whl (21 kB)\n",
            "Collecting eth-typing<4,>=3.0.0\n",
            "  Downloading eth_typing-3.1.0-py3-none-any.whl (6.3 kB)\n",
            "Collecting eth-utils<3.0.0,>=2.0.0\n",
            "  Downloading eth_utils-2.0.0-py3-none-any.whl (24 kB)\n",
            "Collecting cytoolz<1.0.0,>=0.10.1\n",
            "  Downloading cytoolz-0.11.2.tar.gz (481 kB)\n",
            "\u001b[K     |████████████████████████████████| 481 kB 48.4 MB/s \n",
            "\u001b[?25hCollecting eth-hash<0.4.0,>=0.3.1\n",
            "  Downloading eth_hash-0.3.3-py3-none-any.whl (8.9 kB)\n",
            "Requirement already satisfied: toolz>=0.8.0 in /usr/local/lib/python3.7/dist-packages (from cytoolz<1.0.0,>=0.10.1->eth-utils<3.0.0,>=2.0.0->eth-keys<0.5.0,>=0.4.0->eciespy) (0.11.2)\n",
            "Building wheels for collected packages: pysha3, py-crypto-hd-wallet, bip-utils, ed25519-blake2b, cytoolz, qrcode\n",
            "  Building wheel for pysha3 (setup.py) ... \u001b[?25l\u001b[?25hdone\n",
            "  Created wheel for pysha3: filename=pysha3-1.0.2-cp37-cp37m-linux_x86_64.whl size=133601 sha256=7608d3bc92dcd3bddf61c0c72b591355eb8ac881f0142f197af321659bb9be02\n",
            "  Stored in directory: /root/.cache/pip/wheels/0d/9e/bc/789fa0986c1fef30cafcc29da4dd07bc17ecba3fab78e27ed6\n",
            "  Building wheel for py-crypto-hd-wallet (setup.py) ... \u001b[?25l\u001b[?25hdone\n",
            "  Created wheel for py-crypto-hd-wallet: filename=py_crypto_hd_wallet-1.2.0-py3-none-any.whl size=66469 sha256=79d3982300425865736f8353b9c395250b4dd6ac32acdc0f661f3dfaa71f0f22\n",
            "  Stored in directory: /root/.cache/pip/wheels/49/dd/a6/083c6b5cd127d93e06f7b34bd0557de6478a2488ac628bbbb2\n",
            "  Building wheel for bip-utils (setup.py) ... \u001b[?25l\u001b[?25hdone\n",
            "  Created wheel for bip-utils: filename=bip_utils-2.5.1-py3-none-any.whl size=518166 sha256=29ec21ed36623a452edc13d95134b1ed78a38a0210ead48ec7731ca6e18de8f4\n",
            "  Stored in directory: /root/.cache/pip/wheels/5a/ff/e5/8efd333b510c349dc850dd052e52fd04cf3d8dc2f7fe78ca43\n",
            "  Building wheel for ed25519-blake2b (setup.py) ... \u001b[?25l\u001b[?25hdone\n",
            "  Created wheel for ed25519-blake2b: filename=ed25519_blake2b-1.4-cp37-cp37m-linux_x86_64.whl size=104476 sha256=3ca85ec5fd03f24feb1831bb320153722e23473779861cd752410daa810e76be\n",
            "  Stored in directory: /root/.cache/pip/wheels/37/7a/30/c952781d2bb70000791b68e2a38237f415f46e0d654d682c2a\n",
            "  Building wheel for cytoolz (setup.py) ... \u001b[?25l\u001b[?25hdone\n",
            "  Created wheel for cytoolz: filename=cytoolz-0.11.2-cp37-cp37m-linux_x86_64.whl size=1236741 sha256=d388e186a8d096f8209d395887037acdb5e7b49a599c4665a145e21094e66291\n",
            "  Stored in directory: /root/.cache/pip/wheels/38/70/71/ca13ea3d36ccd0b3d0ec7d7a4ca67522048d695b556bba4f59\n",
            "  Building wheel for qrcode (setup.py) ... \u001b[?25l\u001b[?25hdone\n",
            "  Created wheel for qrcode: filename=qrcode-7.3.1-py3-none-any.whl size=40402 sha256=08dce02eb163b044ac1127f6d8ab6b726ac64dbddbbd93885df43627944a39e3\n",
            "  Stored in directory: /root/.cache/pip/wheels/93/d7/39/a4111be2cfb8e679938aa671a37888b6afb1f9e7d748e94492\n",
            "Successfully built pysha3 py-crypto-hd-wallet bip-utils ed25519-blake2b cytoolz qrcode\n",
            "Installing collected packages: eth-typing, eth-hash, cytoolz, asn1crypto, pynacl, pycryptodome, py-sr25519-bindings, eth-utils, ed25519-blake2b, ecdsa, coincurve, pysha3, mnemonic, eth-keys, bip-utils, base58, qrcode, py-crypto-hd-wallet, hdwallet, eciespy, cryptos\n",
            "Successfully installed asn1crypto-1.5.1 base58-2.1.1 bip-utils-2.5.1 coincurve-17.0.0 cryptos-1.36 cytoolz-0.11.2 ecdsa-0.17.0 eciespy-0.3.12 ed25519-blake2b-1.4 eth-hash-0.3.3 eth-keys-0.4.0 eth-typing-3.1.0 eth-utils-2.0.0 hdwallet-2.1.1 mnemonic-0.20 py-crypto-hd-wallet-1.2.0 py-sr25519-bindings-0.1.4 pycryptodome-3.15.0 pynacl-1.5.0 pysha3-1.0.2 qrcode-7.3.1\n"
          ]
        }
      ],
      "source": [
        "! pip install hdwallet py_crypto_hd_wallet cryptos eciespy qrcode"
      ]
    },
    {
      "cell_type": "markdown",
      "source": [
        "# Our Key Handing Up Until Now\n",
        "\n",
        "Real drawbacks:\n",
        "\n",
        "- To send and recieve coins we would have to create a new private key, public key and address. \n",
        "- If we wanted to send coins from one address to another we'd have to create another private key, public key and address.\n",
        "- If we wanted to send to one another we'd have to send each other our addresses.\n",
        "- If we wanted to create a multisig wallet together we'd have to share our public keys.\n",
        "\n",
        "Wouldn't it be nice if we could generate a single private key from which we could generate a whole set of private keys in a deterministic fashion?\n",
        "\n",
        "Wouldn't it be nice if we could share a single public key (associate with the above single private key) from which we could generate the whole set of associated public keys in a deterministic fashion?\n",
        "\n",
        "**This better world is possible with hierarchical deterministic wallets (HD wallets)**\n",
        "\n",
        "\n",
        "Hierarchical deterministic wallets, also know as HD-wallets, are the standard in the cryptocurrency world but applicable for any application where we new to generate and share keys in this fashion.  We will learn how to use them appropriately.\n",
        "\n",
        "https://pypi.org/project/py-crypto-hd-wallet/\n",
        "\n",
        "\n",
        "\n",
        "# BIP44 Derivation Paths\n",
        "\n",
        "| Coin | Symbol | Derivation Path |\n",
        "| :------ | :----: | ----------:|\n",
        "|**Bitcoin**| BTC |`m/44'/0'/0'/0/0`|\n",
        "|**Litecoin**| LTC |`m/44'/2'/0'/0/0`|\n",
        "|**Dogecoin**| DOGE |`m/44'/3'/0'/0/0`|\n",
        "|**DigiByte**| DGB |`m/44'/20'/0'/0/0`|\n",
        "|**Zcash**| ZEC |`m/44'/133'/0'/0/0`|\n",
        "|**BitcoinCash**| BCH |`m/44'/145'/0'/0/0`|\n",
        "|**BitcoinSV**| BSV | `m/44'/236'/0'/0/0`|\n",
        "\n",
        "Bitcoin Improvement Proposal (BIP) 44 defines the standard derivation path for wallets which generate Pay-to-Public-Key-Hash (P2PKH) addresses. BIP 44 also defines the prefixes to be used with associated extended keys.\n",
        "\n",
        "According to BIP 44, wallets which generate P2PKH addresses should use a derivation path beginning with `m/44'/`. This means the first address generated by a mainnet Bitcoin wallet will have a derivation path of `m/44'/0'/0'/0/0`.\n",
        "\n",
        "\n",
        "\n",
        "`m/44'/0'/0'/0/0` is labeled as `master / purpose / coin_type / account / change / address_index`\n",
        "\n",
        "- **master** all HD wallets begin with `m` in the first position\n",
        "- **purpose** all coins adoptin BIP44  use `44`\n",
        "- **coin_type** is used to differentiate between different coins \n",
        "- **account** is used to have a branch point for different subsets of key pairs\n",
        "- **change** this field is used to differentiate between receipt addresses and change addresses\n",
        "- **address_index** this final field is used to iterate through different keypairs/addresses\n",
        "\n",
        "<div>\n",
        "<img src=\"https://github.com/ProfDoeg/Colegio_Invisible/raw/main/img/hd_wallet.png\"  width=\"500\"/>\n",
        "</div>\n",
        "\n",
        "The brilliant feature of this structure is that there is a hierarchy of public and private keys.\n",
        "\n",
        "With ONE master private key you can control/generate many private keys for many different coins.  In addition you can share ONE public key to share ALL the derived public keys and addresses.\n",
        "\n",
        "Say you have a business with a point-of-sale cash register that collects DOGE transactions. Each transaction can have a seperate address. You need only share the public key with the `m/44'/3'/0'/0` derivation path. The POS software can then derive the addresses for `m/44'/3'/0'/0/0`, `m/44'/3'/0'/0/1`, `m/44'/0'/0'/0/2`...etc\n",
        "\n",
        "For our purposes...all the students can generate a single master private key and share one public key with hq. HQ can then access an array of derived public keys and the associated crypto addresses.\n",
        "\n",
        "# Mnemonic Seed Phrases\n",
        "\n",
        "BIP39 is the use of a mnemonic phrase -- a group of easy to remember words -- to serve as a back up to recover your wallet and coins in the event your wallet becomes compromised, lost, or destroyed. This is also known as a mnemonic seed (phrase), recovery phrase, wallet back up, master seed, etc. \n",
        "\n",
        "<div>\n",
        "<img src=\"https://github.com/ProfDoeg/Colegio_Invisible/raw/main/img/mnemonic.png\" width=\"400\"/>\n",
        "</div>\n",
        "\n",
        "These words aren't just any words. They are pulled from a specific list of 2048 words known as the BIP39 wordlist. Upon start up, wallets that utilize the BIP39 standard will provide you a 12-24 word phrase randomly chosen from the standard BIP39 wordlist.\n",
        "\n",
        "Mnemonic seeds are a way of storing the root private key in a human readable format.\n",
        "\n",
        "The `hdwallet.utils.generate_mnemonic()` function uses a two arguments, strength and language. \n",
        "\n",
        "- **strength** 128, 160, 192, 224 or 256\n",
        "- **language** english, french, italian, spanish, chinese_simplified, chinese_traditional, japanese or korean"
      ],
      "metadata": {
        "id": "PHmcF1QsLr9v"
      }
    },
    {
      "cell_type": "code",
      "source": [
        "from hdwallet.utils import generate_mnemonic\n",
        "from py_crypto_hd_wallet import HdWalletBipFactory, HdWalletBip44Coins, HdWalletBipChanges\n",
        "import psutil\n",
        "import os\n",
        "import pandas as pd\n",
        "import ecies\n",
        "import eth_keys"
      ],
      "metadata": {
        "id": "emljPfZ6tI11"
      },
      "execution_count": 2,
      "outputs": []
    },
    {
      "cell_type": "code",
      "source": [
        "secret_phrase=generate_mnemonic(language=\"english\", strength=256)\n",
        "secret_phrase"
      ],
      "metadata": {
        "id": "MmhwSF5VvRt5",
        "colab": {
          "base_uri": "https://localhost:8080/",
          "height": 35
        },
        "outputId": "42aa45ba-96e6-4208-edfb-52f761a90b4a"
      },
      "execution_count": 3,
      "outputs": [
        {
          "output_type": "execute_result",
          "data": {
            "text/plain": [
              "'one cave album require steak empower scheme shine ride runway bright solve afraid swift enable club depend more involve cradle estate style guide sleep'"
            ],
            "application/vnd.google.colaboratory.intrinsic+json": {
              "type": "string"
            }
          },
          "metadata": {},
          "execution_count": 3
        }
      ]
    },
    {
      "cell_type": "code",
      "source": [
        "hd_wallet_factory = HdWalletBipFactory(HdWalletBip44Coins.DOGECOIN)"
      ],
      "metadata": {
        "id": "Q_lekiyrvRnZ"
      },
      "execution_count": 4,
      "outputs": []
    },
    {
      "cell_type": "code",
      "source": [
        "my_doge_wallet = hd_wallet_factory.CreateFromMnemonic('DD_wallet', secret_phrase)"
      ],
      "metadata": {
        "id": "dsQNIetFvRhU"
      },
      "execution_count": 5,
      "outputs": []
    },
    {
      "cell_type": "code",
      "source": [
        "my_doge_wallet.Generate(account_idx = 0, change_idx = HdWalletBipChanges.CHAIN_EXT, addr_num = 4)"
      ],
      "metadata": {
        "id": "BuD9RFL5tYhv"
      },
      "execution_count": 6,
      "outputs": []
    },
    {
      "cell_type": "code",
      "source": [
        "my_doge_wallet_dict=my_doge_wallet.ToDict()\n",
        "my_doge_wallet_dict"
      ],
      "metadata": {
        "id": "IyhVjqvFw9oY",
        "colab": {
          "base_uri": "https://localhost:8080/"
        },
        "outputId": "de1945e9-9a44-4399-cf49-252424e1b42c"
      },
      "execution_count": 7,
      "outputs": [
        {
          "output_type": "execute_result",
          "data": {
            "text/plain": [
              "{'account_idx': 0,\n",
              " 'account_key': {'address': 'DABjC3UrVho9QcR4K6wKFpaeobRLCeLxXL',\n",
              "  'ex_priv': 'dgpv57arGcvU6WZ2UAp14uCUfMf5VsAfTsHirkBV2bcUF1utCFec5cWg5GyeJVKdodpD4kCoeGTWnXeGuKAiLzW5dvBex6oKMh9q8ZgX4G6AVm2',\n",
              "  'ex_pub': 'dgub8rTscJrMefDMm2UA78pSnDCfxRYJHzKS9LxhBi1T38xtkJmJVP4SiaPHshJmZavqw9euxmXcR7d4ghyXcuyYAxDyQVZPivEED1TfwDpxXzT',\n",
              "  'raw_compr_pub': '0265ed8348284e2feddb4b91255913a7cb09e6ca7253b59200a5af57c5117f5669',\n",
              "  'raw_priv': 'e24d80be006f37b49843009f31ccfe88188631623c2aa7eabff558ff622d85ab',\n",
              "  'raw_uncompr_pub': '0465ed8348284e2feddb4b91255913a7cb09e6ca7253b59200a5af57c5117f56698897f4b0863378692722fe610550ce2bbfece6f560a2786521d7daec996099cc',\n",
              "  'wif_priv': 'QWCXi5NjSC6SHFyKc1nH2oK3pQX6vXyCqeGuCYxpG51iA3GQ1QFy'},\n",
              " 'address': {'address_0': {'address': 'DGya8kKyo1Lm1RUo1g6sJHo31v2w48sA5Q',\n",
              "   'ex_priv': 'dgpv5BdudMp6RWUPrC7N7z778Q6T91zpbw6B7cxb1geCtjNDMvoqjCkqkp9H788yATusxXuEwykPNeHFP95kNBBZV7KwysjVaKbwHnqeEe25hY6',\n",
              "   'ex_pub': 'dgub8vWvy3jyyf8j93mXADj5FFe3baNTS47tQDjoAo3BgrRDuyvY8yJcQ7YvgQatGh4jn3F44ijb2phGYFH9aPBHDJQpG3MYVwpkQbNYrzCUUJ4',\n",
              "   'raw_compr_pub': '03d70b1a4237581d08b1bad524b6d755865d1c64d5e6fc4a6d64a1631e58730f0a',\n",
              "   'raw_priv': '07d2885606acc634d19262ceec0210e688ed9f4f2040bd669646a75ee6426afb',\n",
              "   'raw_uncompr_pub': '04d70b1a4237581d08b1bad524b6d755865d1c64d5e6fc4a6d64a1631e58730f0a461b46fb5fee64150e024c428e4bd03b36b0d00eddd17ce3d1aaa88cdaba534d',\n",
              "   'wif_priv': 'QNsqGWKSFzSWKDVZYPtQ1xyC4qhjZEXZK8TwUvJiCYpzTW8vt9cN'},\n",
              "  'address_1': {'address': 'DTMpsQwuFohWLQtQ7MNiAoZfpJQm2qgNMN',\n",
              "   'ex_priv': 'dgpv5BdudMp6RWUPvRCQhZi65x5FLmN5TeJf7yi3WTvHsBctmxuEheEdQjoEg8LoGCC2Q6qqSMqNs2cgRecu9xHRTswdxyf6bmxdewAp1eQCUh6',\n",
              "   'ex_pub': 'dgub8vWvy3jyyf8jDGrZjoL4CocqoKjiHmLNQaVFfaKGfJfuL21w7QnQ43CtFPQ53HY7zZvPvQnFvsYTtYTkuNJzww3dxxehN8vU89A5JE8TgYX',\n",
              "   'raw_compr_pub': '03c0f24d1658389818cc5c99e8b2f6c6f39ac7f5b1c01c2fc6e8a1d3d8e7de48e4',\n",
              "   'raw_priv': 'a8d632ee9499b9f338d3bd749ca6515edcce0b5924577141428f8c46f89f3e31',\n",
              "   'raw_uncompr_pub': '04c0f24d1658389818cc5c99e8b2f6c6f39ac7f5b1c01c2fc6e8a1d3d8e7de48e4e4e606076ed3417e340e4f974105167db57cf406dbaf7748577d015e8cd6eb75',\n",
              "   'wif_priv': 'QUGpjZXTJFDT76g9dAwVq3p3cQnVDZnZsVLoxexHtP4DXXu352by'},\n",
              "  'address_2': {'address': 'DR9WACjXTK2MFUxcC35Hkzmaz9Jb2vijSb',\n",
              "   'ex_priv': 'dgpv5BdudMp6RWUPwu3cfPizXiFwsThtMySY2R2NS5kyCv1XnTiMYWSk6uPKzmMxqYecrgAdCL71MxJhdPWuae5TfNky7FxyUPRggVADW1h2nLP',\n",
              "   'ex_pub': 'dgub8vWvy3jyyf8jEkhmhdLxeZoYL25XC6UFK1oabC9x134YLWq3xGzWkCnya2WgCtFR99Q668hmqqmyskHnQrRKVjj3Ak9BNYcLzzDUT8KBL3f',\n",
              "   'raw_compr_pub': '03df02b774fab5b00e525ad6de73862875fe7ed8e8723e4c34f64c2aefa7fb03cb',\n",
              "   'raw_priv': 'ba8bbfbd2a97aa82ce7224cc9f09c3b7fc2b113a3c40b8c229e69a76d4dd1233',\n",
              "   'raw_uncompr_pub': '04df02b774fab5b00e525ad6de73862875fe7ed8e8723e4c34f64c2aefa7fb03cb61d523d2b8423f1fa0f80d62eba76bfc234dc9fde22c37f82b2764ba3b49ed55',\n",
              "   'wif_priv': 'QUsFM1fsahwZ7LpGUQnHctVRhELAoAYeejt83hv8Fdo69GKC4Q6A'},\n",
              "  'address_3': {'address': 'D8Wr8FFEJ3XUX3hAhkseBDBNAxtRG4RwW3',\n",
              "   'ex_priv': 'dgpv5BdudMp6RWUPzKs1y1n2G29KDsxZvoeP2GySKajpD42sVNaFTPQkRPqpqpNDFxhYZNbb5JdTLQ3YXEVjA4ycTGLHMfu7mwt35YG8mp2DSzL',\n",
              "   'ex_pub': 'dgub8vWvy3jyyf8jHBXB1FPzNsgugSLCkvg6JskeUh8o1B5t3Rgws9xX4hFUR516MRzGpeJrk2kpEbyLGrkCxg6uEeNiThHSvgQbbaGgxzo5Pyg',\n",
              "   'raw_compr_pub': '03d9bd465fd1c7dab3b67da281a0b55d79ba3299d1b5283c9b786689f1e3673adb',\n",
              "   'raw_priv': 'f903353f46f8c37254acf8488bf1237fc4260597e519ad6548949c0160a9e92a',\n",
              "   'raw_uncompr_pub': '04d9bd465fd1c7dab3b67da281a0b55d79ba3299d1b5283c9b786689f1e3673adbd32cb6e4ad1b32a3c84526afd52dcad9fb4b5d749f55cd75cb0f2f72905d39ef',\n",
              "   'wif_priv': 'QWxg7NRQvmkWm88eHvAxeBBMHRENq4XUzYwfxnyhEgxF18HZPn8y'}},\n",
              " 'address_off': 0,\n",
              " 'change_idx': 0,\n",
              " 'change_key': {'address': 'DCRgHe4aySe5GoxaXeFy8MaDqYNaHoa1S6',\n",
              "  'ex_priv': 'dgpv59aJ5q4QYvWw3eCYGDNdZRCiSBoL5yzAL2PxcGi5ydCHtbtF2S8tWrzq64cz5CTkLtExPpET8sjFH7A7z3nb3ymSpi8rtz3zt4Hg88CKbAh',\n",
              "  'ex_pub': 'dgub8tTKRWzJ75BGLVrhJSzbgGkJtkAxv71scdBAmP74mkFJSezwSCgfAAQUfGKSYQCteThMWttyfy62XPYndYMr2XznbQXbMcd84BtmuMcJqH4',\n",
              "  'raw_compr_pub': '021f74cbaca34fb1bbe7e0f0cbfbcaaf7db0d89561c8559368a9350d82ec6b70cf',\n",
              "  'raw_priv': 'c1b30247905b61e22fc93fb3b394f6b5c565fdf3095d4d9352ca941718a7ad70',\n",
              "  'raw_uncompr_pub': '041f74cbaca34fb1bbe7e0f0cbfbcaaf7db0d89561c8559368a9350d82ec6b70cfe07d34bb9dca54cec5574295cd707389edc3bb3ac77e710e6a7df5737cdfa34a',\n",
              "  'wif_priv': 'QV79r68kQqvqvsjR4qqzg5VS6tdxiBmJ4G2bxPryHzp4p3xHtnmq'},\n",
              " 'coin_key': {'address': 'D8qUFwJdFFepPNn1haVE8CaWGPgR92Wees',\n",
              "  'ex_priv': 'dgpv55YkxaGY8cSgVRqRUHeZmaMrEWAJ7ionqVJrfMtbep7p3sZZK9JRnZDQjsoMmRzgzzGSvRiTAbYPAk2dtTUSCq4gRuuCJuxDi7tJA36ATrL',\n",
              "  'ex_pub': 'dgub8pRnJGCRgm71nHVaWXGXtRuSh4XvwqqW8664pUHaSwApbvgFiurCRrd4K9H63N6hFbxiaE34CMgVwuGjr44Pb8PpCSSzSvBuTtJFUybjS6c',\n",
              "  'raw_compr_pub': '03d1ebe15ed3dd06760ea79ccc39e415049d22678f99aa20518ced6ee95183c548',\n",
              "  'raw_priv': '82478480d557b14f9eeb9e44dcf38a134b5c0daf7d827e8c0727cceaa7e54b0e',\n",
              "  'raw_uncompr_pub': '04d1ebe15ed3dd06760ea79ccc39e415049d22678f99aa20518ced6ee95183c548f62218f54ae15fc91b388c1dfa8e925165cb5012ab216df3b6fdba9658649a35',\n",
              "  'wif_priv': 'QSyscFgtedBxZxoGdW86YoEpr8AYNmVurAcSGnxBtodXrDDQjCq5'},\n",
              " 'coin_name': 'Dogecoin (DOGE)',\n",
              " 'master_key': {'address': 'DNzkfCsRBByxyoQuatvjePLiqe5QEkck2g',\n",
              "  'ex_priv': 'dgpv51eADS3spNJh9cbdQKz4Z3fW4V6GtveU3Pi2X4tpaVMqwPArSSweeLJCpSSAq9JFuvHnKoD4hW58NjZLYSnrbg11EsHkxYckZ6oH4xa32DL',\n",
              "  'ex_pub': 'dgub8kXBZ7ymNWy2SUFnSZc2fuD6X3Tuj3gBKzVEgBHoNcQrVSHYrDVRHdhrPeaVsyT4ALDYpXdBgvcWYgw1bJfEqUUVGiEVXJHqmq2MYACoAJJ',\n",
              "  'raw_compr_pub': '0246c2b04356e69f6d2275aedde9140b45a21e9dae30e5852e9bf2b907997b9558',\n",
              "  'raw_priv': 'ae42015fb0c171329e23754b1f70b4ecb96f859395c9f903abcc180255331b67',\n",
              "  'raw_uncompr_pub': '0446c2b04356e69f6d2275aedde9140b45a21e9dae30e5852e9bf2b907997b9558bfe92e4b0ffd158cb162c8b4ad224e0d0f0cade5449084141d45d8e752f1924c',\n",
              "  'wif_priv': 'QUTMwDMStFFaSn3vtYYRpv9Y1qhKPb6WETJ2hv1sXnTRpYYmVXwF'},\n",
              " 'mnemonic': 'one cave album require steak empower scheme shine ride runway bright solve afraid swift enable club depend more involve cradle estate style guide sleep',\n",
              " 'passphrase': '',\n",
              " 'purpose_key': {'address': 'D6vPWJL17rv2R24NmWCqmktDQFJPDNAuLD',\n",
              "  'ex_priv': 'dgpv54xo7w9F1b5LwXSRhpMHFYtznm9QuRAfQ1Xk11LFKqkENwPWbwiNLgET9DhttKi3ShRTK1Ts4epCVogVxPZveu9Pynn3s3G51ydPGXpM17k',\n",
              "  'ex_pub': 'dgub8oqpTd58ZjjgEP6ak3yFNQSbFKX3jYCNgcJxA7jE7xoEvzWD1iG8yye6iUyaZpVxGEALDNvMA1NUEdihpJMYcUiqGHVPk6KhMGASNVq6HPz',\n",
              "  'raw_compr_pub': '03e4c7b401b7d887ee058830b62bef13d240d119a094a14f5ca780e4da607addce',\n",
              "  'raw_priv': 'b07cafccd0c893b28b359eaa953d0aeed94e32fda90ddd42ad6b1c836a36b7db',\n",
              "  'raw_uncompr_pub': '04e4c7b401b7d887ee058830b62bef13d240d119a094a14f5ca780e4da607addce395e93a2765605cc5f4b0f3b78f357a6bbc22389e21d0e2c041cb306d3cc67a3',\n",
              "  'wif_priv': 'QUXhGW8Ndjgfk1jswUWGk44t7cREK2E2q1zU4VMpdyMWY7oACCHR'},\n",
              " 'seed_bytes': 'e6a54795ecd30684dbe4d76f6b304a74009444e15e62b97005ecc878d1024cbe8cd5fa12e5d276a06eb9c3a87c60080c05bb5be8174a074f1ada5a17345cbed4',\n",
              " 'spec_name': 'BIP-0044',\n",
              " 'wallet_name': 'DD_wallet'}"
            ]
          },
          "metadata": {},
          "execution_count": 7
        }
      ]
    },
    {
      "cell_type": "code",
      "source": [
        "my_doge_wallet_dict.keys()"
      ],
      "metadata": {
        "id": "P1pDEpaV66XQ",
        "colab": {
          "base_uri": "https://localhost:8080/"
        },
        "outputId": "88b5e75b-6888-4077-f438-bd383e9d4705"
      },
      "execution_count": 8,
      "outputs": [
        {
          "output_type": "execute_result",
          "data": {
            "text/plain": [
              "dict_keys(['wallet_name', 'spec_name', 'coin_name', 'mnemonic', 'passphrase', 'seed_bytes', 'master_key', 'purpose_key', 'coin_key', 'account_idx', 'account_key', 'change_idx', 'change_key', 'address_off', 'address'])"
            ]
          },
          "metadata": {},
          "execution_count": 8
        }
      ]
    },
    {
      "cell_type": "code",
      "source": [
        "my_doge_wallet_dict['address']['address_1']['wif_priv'] #this is the private key to address 1"
      ],
      "metadata": {
        "id": "CoYmE11nxE5Y",
        "colab": {
          "base_uri": "https://localhost:8080/",
          "height": 35
        },
        "outputId": "74917a16-a467-420d-f133-9e1f934b4578"
      },
      "execution_count": 9,
      "outputs": [
        {
          "output_type": "execute_result",
          "data": {
            "text/plain": [
              "'QUGpjZXTJFDT76g9dAwVq3p3cQnVDZnZsVLoxexHtP4DXXu352by'"
            ],
            "application/vnd.google.colaboratory.intrinsic+json": {
              "type": "string"
            }
          },
          "metadata": {},
          "execution_count": 9
        }
      ]
    },
    {
      "cell_type": "code",
      "source": [
        "my_doge_wallet_dict['address']['address_1']['raw_uncompr_pub'] #this is the public key to address 1"
      ],
      "metadata": {
        "id": "Q7KPNvH_6lA9",
        "colab": {
          "base_uri": "https://localhost:8080/",
          "height": 35
        },
        "outputId": "b7af9236-f9e3-4352-db97-339cf45b5da3"
      },
      "execution_count": 10,
      "outputs": [
        {
          "output_type": "execute_result",
          "data": {
            "text/plain": [
              "'04c0f24d1658389818cc5c99e8b2f6c6f39ac7f5b1c01c2fc6e8a1d3d8e7de48e4e4e606076ed3417e340e4f974105167db57cf406dbaf7748577d015e8cd6eb75'"
            ],
            "application/vnd.google.colaboratory.intrinsic+json": {
              "type": "string"
            }
          },
          "metadata": {},
          "execution_count": 10
        }
      ]
    },
    {
      "cell_type": "markdown",
      "source": [
        "Remember the hierarchy is `master / purpose / coin_type / account / change / address_index`. Each of these nodes has it's own xpub hierarchical public key. Sharing a xpub gives all of the child public keys. In order to share all of the external addresses (not internal change adresses) we share the xpub associated with the `change` node.\n",
        "\n",
        "Sharing the xpub from a higher node would reveal more public keys. Sharing at the `account` level would reveal the public keys for receive addresses and change addresses (external and internal)."
      ],
      "metadata": {
        "id": "OH6qaPr9qej2"
      }
    },
    {
      "cell_type": "code",
      "source": [
        "my_doge_wallet_dict['change_key']['ex_pub'] #this is the xpub key that can be used to generate all the public keys "
      ],
      "metadata": {
        "id": "TS6Oxq5H7X66",
        "colab": {
          "base_uri": "https://localhost:8080/",
          "height": 35
        },
        "outputId": "7894d16a-95bb-47aa-a470-b3cd68b56c19"
      },
      "execution_count": 11,
      "outputs": [
        {
          "output_type": "execute_result",
          "data": {
            "text/plain": [
              "'dgub8tTKRWzJ75BGLVrhJSzbgGkJtkAxv71scdBAmP74mkFJSezwSCgfAAQUfGKSYQCteThMWttyfy62XPYndYMr2XznbQXbMcd84BtmuMcJqH4'"
            ],
            "application/vnd.google.colaboratory.intrinsic+json": {
              "type": "string"
            }
          },
          "metadata": {},
          "execution_count": 11
        }
      ]
    },
    {
      "cell_type": "code",
      "source": [
        "def get_addresses(wallet):\n",
        "    addys=wallet.ToDict()['address']\n",
        "    return [ addys[addy]['address'] for addy in addys]\n",
        "\n",
        "def get_privates(wallet,form='wif'):\n",
        "    addys=wallet.ToDict()['address']\n",
        "    if form=='wif':\n",
        "      return [ addys[addy]['wif_priv'] for addy in addys]\n",
        "    else:\n",
        "      return [ addys[addy]['raw_priv'] for addy in addys]\n",
        "def get_publics(wallet):\n",
        "    addys=wallet.ToDict()['address']\n",
        "    return [ addys[addy]['raw_uncompr_pub'] for addy in addys]"
      ],
      "metadata": {
        "id": "x_cWWmJe7i6V"
      },
      "execution_count": 12,
      "outputs": []
    },
    {
      "cell_type": "code",
      "source": [
        "get_addresses(my_doge_wallet)"
      ],
      "metadata": {
        "id": "dJTeWurJ8AE4",
        "colab": {
          "base_uri": "https://localhost:8080/"
        },
        "outputId": "30d1e416-990a-4f82-9808-d95b187e9544"
      },
      "execution_count": 13,
      "outputs": [
        {
          "output_type": "execute_result",
          "data": {
            "text/plain": [
              "['DGya8kKyo1Lm1RUo1g6sJHo31v2w48sA5Q',\n",
              " 'DTMpsQwuFohWLQtQ7MNiAoZfpJQm2qgNMN',\n",
              " 'DR9WACjXTK2MFUxcC35Hkzmaz9Jb2vijSb',\n",
              " 'D8Wr8FFEJ3XUX3hAhkseBDBNAxtRG4RwW3']"
            ]
          },
          "metadata": {},
          "execution_count": 13
        }
      ]
    },
    {
      "cell_type": "markdown",
      "source": [
        "# File With Some Ex_PubKeys\n",
        "\n",
        "```text\n",
        "student,ex_pubkey\n",
        "00,dgub8uu2ChGGLQcFXt5QEBoHJNHhxubH6LXWxzMcVKNRfMyQgCfpWquMYkNsiXsQeEddLzX692Am7rgZ7s7wLqts1FbXNuA2pGtRdPuht92J4pm\n",
        "01,dgub8tiZR8EbP42Rg4EAn7jYYQRLjCZ2UHg5Bwdb4eASRBvNYwanrTdp8jvN2bHdakaevMj82u9tknJaYvsiaSMpijn7aP2hSsJbLbj8qbuBmZU\n",
        "02,dgub8tTFHkG1FajRZH2nscUV9166uRMRRAvbeh6zXCctUVgpNwvWpZ16JT1WrSwW46p2hvfPZNCKmb5xQBcUwKBip7iM3tUNMzAkqDDysR1UhbE\n",
        "03,dgub8tZWJSrqUJ9KDRAQEHU4YH9ToP6f16jLsvi1cP4kA45MRve9PnBM3BPUgPshBoJBS1BebakEw5Qh9W2pAfTWV8YVgSeUfmyjCkScMGabGMK\n",
        "04,dgub8tP4gsyL1R7U5eZVTDZbA5DF4foatJGq9EikgtaX3rtUp5hZ1QT9CnCxhf1GmceVsH8xjJmzcCMyXdSxekjvQ8M5fZKaNoenMenPDDmPfwM\n",
        "05,dgub8uqjRZAXa5dvQ2wTaaxTeS45EDd3BbNCo6X1ifCnH2AJvRiH3CsdS3yTqFMvfU3EptHTtDVUb2V7pb5YNaecf5xPkUQ16CWxWpbPLAxo7hL\n",
        "06,dgub8uTT3NrNwnwMW1pYo4AHR4XSEUf4pZQtHjg1xSuxSBZCvvketHKK3gKcLuiu8BNW9LTgQ5oZs35PT6ToR6xr4Q2PCqfvvoxQ18HSsS2fPcw\n",
        "\n",
        "\n",
        "09,dgub8seQT7BUFMQfoVNgMG7W9tXhDcLEYxyM6Ntf4k5qN49cMaeRK1iZegYCpQ4RGeEMUxBtFFvhpWqvvk3McuEUojdhPvYy3wWmXPP4u89RcmN\n",
        "```\n",
        "\n",
        "The 00 key and 09 key are xpubs to the same wallet. 00 is from change=0 node while 09 is from account=0 node"
      ],
      "metadata": {
        "id": "pJDcPwlEQ6fH"
      }
    },
    {
      "cell_type": "code",
      "source": [
        "ex_00='dgub8uu2ChGGLQcFXt5QEBoHJNHhxubH6LXWxzMcVKNRfMyQgCfpWquMYkNsiXsQeEddLzX692Am7rgZ7s7wLqts1FbXNuA2pGtRdPuht92J4pm'"
      ],
      "metadata": {
        "id": "s02Z04PO8KTn"
      },
      "execution_count": 14,
      "outputs": []
    },
    {
      "cell_type": "code",
      "source": [
        "watch_00=hd_wallet_factory.CreateFromExtendedKey(\"watcher_00\",ex_00)"
      ],
      "metadata": {
        "id": "ZiiBV4otRUdA"
      },
      "execution_count": 15,
      "outputs": []
    },
    {
      "cell_type": "code",
      "source": [
        "watch_00.Generate(account_idx = 0, change_idx = HdWalletBipChanges.CHAIN_EXT, addr_num = 10)"
      ],
      "metadata": {
        "id": "UuVrZug7SQoC"
      },
      "execution_count": 16,
      "outputs": []
    },
    {
      "cell_type": "code",
      "source": [
        "watch_00.IsWatchOnly()"
      ],
      "metadata": {
        "id": "5ji5jt1MScdk",
        "colab": {
          "base_uri": "https://localhost:8080/"
        },
        "outputId": "754d57de-0eba-4f53-f95f-143ea99974e9"
      },
      "execution_count": 17,
      "outputs": [
        {
          "output_type": "execute_result",
          "data": {
            "text/plain": [
              "True"
            ]
          },
          "metadata": {},
          "execution_count": 17
        }
      ]
    },
    {
      "cell_type": "code",
      "source": [
        "watch_00.ToDict()"
      ],
      "metadata": {
        "id": "2bYc9KVtSoqg",
        "colab": {
          "base_uri": "https://localhost:8080/"
        },
        "outputId": "590c00cd-5be3-45f9-c03f-3c66af828593"
      },
      "execution_count": 18,
      "outputs": [
        {
          "output_type": "execute_result",
          "data": {
            "text/plain": [
              "{'address': {'address_0': {'address': 'DBcNgj9T7zy8b12igfRPQw7XbnaptwqCbm',\n",
              "   'ex_pub': 'dgub8w6D9esvEam9y5RLQDUvZ8ie96mxQYHeDpq9kBbzKtpT5vcrmCh7BQq1KEJ1aW7m85qQdnynLNxjgd7J3dRG2ZAfWAupuGDKrx5EQTsQKVH',\n",
              "   'raw_compr_pub': '03797a01b3e9c7ac5273ab0ff37c0917dfe0f7909ec2144977aad5f2d96bae1fc7',\n",
              "   'raw_uncompr_pub': '04797a01b3e9c7ac5273ab0ff37c0917dfe0f7909ec2144977aad5f2d96bae1fc74f41335fc8ae94be4d55daaf3afed7af3057dcb44aede7ca9d9888a02ed62da9'},\n",
              "  'address_1': {'address': 'DTAvSJgxbQ7hQSffTB5tg9MPZzJ6VKLQGJ',\n",
              "   'ex_pub': 'dgub8w6D9esvEamA1HhaMSogPDau7oWhnThpS2phDqstSoJJKdUD5iZRQXPZSeP2mM2gkVxeSadkUSeqhN98HDYBEziAU2oad46F4osv58MnFwZ',\n",
              "   'raw_compr_pub': '03bf03dea1cb1dddb81f968d3828e6da8f6e34447c507c6add66b54f59551a2afb',\n",
              "   'raw_uncompr_pub': '04bf03dea1cb1dddb81f968d3828e6da8f6e34447c507c6add66b54f59551a2afbb3c676fb42d6e71ea3073a006d6073bb023de3d987fa4cb4373281fb9e8aac8f'},\n",
              "  'address_2': {'address': 'DJvdop5eker2ZHij9Gmh1qGCc7G2TijPy3',\n",
              "   'ex_pub': 'dgub8w6D9esvEamA5TFkyAF4Yh5ixfpD69mz4DofXz9fosiY8KC4uKm4x2EJig6iUQHRhTgRmkjBGVzJ7LMo44RVcv5rXRFpBHt7Nxo4rRjE3uQ',\n",
              "   'raw_compr_pub': '034e459cd3a4001a1985eb1e6b1c443e83b46e9876f96ff135ad1d054b1906384e',\n",
              "   'raw_uncompr_pub': '044e459cd3a4001a1985eb1e6b1c443e83b46e9876f96ff135ad1d054b1906384ee0760b13a6d78cb5b3ef973943f7af3d42d7e06533aa7063149e1057c7c1422f'},\n",
              "  'address_3': {'address': 'DRsTTHnf9SYiMt8vinTfNDi78Ag55te62e',\n",
              "   'ex_pub': 'dgub8w6D9esvEamA7AovfaLrRDNbGXuj1ebJ3K6Pvmr4qUdsiLKG6ksBqr6RTP26fRmzCVjPSS5AVHNp1tcKcxt67RXDCZHHp5XrBUoigQP84eV',\n",
              "   'raw_compr_pub': '033f22fc0173e8c2b08b0664001828dde27eb6b2cf9232f95ccb22e045ae41a706',\n",
              "   'raw_uncompr_pub': '043f22fc0173e8c2b08b0664001828dde27eb6b2cf9232f95ccb22e045ae41a70649a78b381fb467fa75e6f0a73652a15849438181e25b7cb5afbf48eb72cf703d'},\n",
              "  'address_4': {'address': 'DPjudXU9XHz487RpXcAfSPbY4h1F85cyzd',\n",
              "   'ex_pub': 'dgub8w6D9esvEamAAeGPdQu3Bmsp79cWcvBTQQSHtP8jZ2C9McHAxdbjmELDLDHjPgYs5Ndyva1RTaKsFGzNmhaWC33a3yFpTNLU9GuvTwz8jVd',\n",
              "   'raw_compr_pub': '03e0e6ce917c8cb5e3b5afe9ed7d6e27c3c44eae17fd6a5afa3262745f8c664182',\n",
              "   'raw_uncompr_pub': '04e0e6ce917c8cb5e3b5afe9ed7d6e27c3c44eae17fd6a5afa3262745f8c664182b64106eea6fc4b13efbc78877a92624864a013e09fdfd95d23d6cc8d992be311'},\n",
              "  'address_5': {'address': 'DJuRujqNU6yYRx7TUPhdSBomnyjq3fJvUF',\n",
              "   'ex_pub': 'dgub8w6D9esvEamABc5sbNzUKBqLYQUUzurqm5JgPXtYPSZfZNN8mNEapAvFnPcMbnv4jEqhHH34Xq8bPGKEMRkEqnx5QzoZHDKnBhtL5WXdLVr',\n",
              "   'raw_compr_pub': '02f3b5b03ef1a86d08e7ec13eb9652ebcabfd57a132b7e26ddc45c514d77c8a98e',\n",
              "   'raw_uncompr_pub': '04f3b5b03ef1a86d08e7ec13eb9652ebcabfd57a132b7e26ddc45c514d77c8a98e87b8a314ba66425c6fb6e836ccca40f8eda79f38ce93c197c828c3ae2c7c9c06'},\n",
              "  'address_6': {'address': 'D8XbpiDauFQftCbf1gy8FTUHKQKm9KcfuX',\n",
              "   'ex_pub': 'dgub8w6D9esvEamADzteJYc9yvJAcVoP1Nqz1DhaXiUtwvja7p9KV44vACEDZu2zqzZNtFXizndqsnf8EZNEBukXxG6XoP8mhjX4qD2f2gowJ7Q',\n",
              "   'raw_compr_pub': '02b2040c9077bb452f0fb20d7076606f96b2e3eed8a33ba60ef81a78696fb0355d',\n",
              "   'raw_uncompr_pub': '04b2040c9077bb452f0fb20d7076606f96b2e3eed8a33ba60ef81a78696fb0355d79b7e8f4203d48c694bd856096150a2e063aa6bb2098ee876e366fe2f3f58f2e'},\n",
              "  'address_7': {'address': 'D8VhDPNQzsHCqrLkPWERVJyxT4SoLZNSzL',\n",
              "   'ex_pub': 'dgub8w6D9esvEamAGo7McFxCgvfmXowpxpYeRVUd3pHB2Gt7SA8CjFaMpfsj2txcUd9pDCQvjkEsMUTh55HyaFqmyhVPokn1C6rZbftTtX6NqdG',\n",
              "   'raw_compr_pub': '02ef7d91d82a4f3d92675fc09f32baa27534c345ff085979cedecf682086eae326',\n",
              "   'raw_uncompr_pub': '04ef7d91d82a4f3d92675fc09f32baa27534c345ff085979cedecf682086eae326b2116a5513a4891e4e3e4cb93af2eda31d488603ac15123876dff43441734ea0'},\n",
              "  'address_8': {'address': 'DFb5pALcHZrTtFdRVKma8rWM73XZADQWRN',\n",
              "   'ex_pub': 'dgub8w6D9esvEamAL6SqzGrtGU636GNgma3ER8uUjyj4M3m9T73vSXVS2tQkKoWoiUihbMPeueLyCCzHcUQvWHVhShQVsdZuNPQtx4fjRBaKWoZ',\n",
              "   'raw_compr_pub': '02f3a50c43578d7e380932d9169881fda14ae472c5332cd389829ac786a5070897',\n",
              "   'raw_uncompr_pub': '04f3a50c43578d7e380932d9169881fda14ae472c5332cd389829ac786a50708970bd8257b567051bdcaceda115048526784295697ba6d9fd2fa2c179d8c393b40'},\n",
              "  'address_9': {'address': 'DDpZQ8uPNXMrcADuY2fphnHgYeVwpD5CA2',\n",
              "   'ex_pub': 'dgub8w6D9esvEamAPK9ZLJLMehaq3nKupPReZA1igrmy144MRzUP83uL2XYCJRStTyzSC8wZsHcwd8Fp1UYgTmbvqFNAXh1dQdkCZLUqaFWH1jm',\n",
              "   'raw_compr_pub': '024d85bfa61befa59f5d07865152bbdb1d42dd002293a76817d658563bc54067c1',\n",
              "   'raw_uncompr_pub': '044d85bfa61befa59f5d07865152bbdb1d42dd002293a76817d658563bc54067c17a45fe8d8ef0a6efae10d905645fa8a84f26d6e0d631dff20e608cc0eb7a3bdc'}},\n",
              " 'address_off': 0,\n",
              " 'change_key': {'address': 'DKYSGcCF7js6TwFFaYKqzA6dTfsCrz2iUj',\n",
              "  'ex_pub': 'dgub8uu2ChGGLQcFXt5QEBoHJNHhxubH6LXWxzMcVKNRfMyQgCfpWquMYkNsiXsQeEddLzX692Am7rgZ7s7wLqts1FbXNuA2pGtRdPuht92J4pm',\n",
              "  'raw_compr_pub': '0276ccc3aeb941db55bb864150c85e2ed4574903dc2f5140af260ef0b6f1692ab2',\n",
              "  'raw_uncompr_pub': '0476ccc3aeb941db55bb864150c85e2ed4574903dc2f5140af260ef0b6f1692ab2bc853a337073bb05d7a7a9eede826eeead3f19d01a20c1deee515e2a49492958'},\n",
              " 'coin_name': 'Dogecoin (DOGE)',\n",
              " 'spec_name': 'BIP-0044',\n",
              " 'wallet_name': 'watcher_00'}"
            ]
          },
          "metadata": {},
          "execution_count": 18
        }
      ]
    },
    {
      "cell_type": "code",
      "source": [
        "get_addresses(watch_00)"
      ],
      "metadata": {
        "id": "KoPcR56cS1JD",
        "colab": {
          "base_uri": "https://localhost:8080/"
        },
        "outputId": "789cd65d-e759-489e-e80e-522a10ae0433"
      },
      "execution_count": 56,
      "outputs": [
        {
          "output_type": "execute_result",
          "data": {
            "text/plain": [
              "['DBcNgj9T7zy8b12igfRPQw7XbnaptwqCbm',\n",
              " 'DTAvSJgxbQ7hQSffTB5tg9MPZzJ6VKLQGJ',\n",
              " 'DJvdop5eker2ZHij9Gmh1qGCc7G2TijPy3',\n",
              " 'DRsTTHnf9SYiMt8vinTfNDi78Ag55te62e',\n",
              " 'DPjudXU9XHz487RpXcAfSPbY4h1F85cyzd',\n",
              " 'DJuRujqNU6yYRx7TUPhdSBomnyjq3fJvUF',\n",
              " 'D8XbpiDauFQftCbf1gy8FTUHKQKm9KcfuX',\n",
              " 'D8VhDPNQzsHCqrLkPWERVJyxT4SoLZNSzL',\n",
              " 'DFb5pALcHZrTtFdRVKma8rWM73XZADQWRN',\n",
              " 'DDpZQ8uPNXMrcADuY2fphnHgYeVwpD5CA2']"
            ]
          },
          "metadata": {},
          "execution_count": 56
        }
      ]
    },
    {
      "cell_type": "markdown",
      "source": [
        "This xpub number 9 is from the account 0 node, therefore both internal and external addresses are available"
      ],
      "metadata": {
        "id": "76FxBa8lvNE6"
      }
    },
    {
      "cell_type": "code",
      "source": [
        "ex_09='dgub8seQT7BUFMQfoVNgMG7W9tXhDcLEYxyM6Ntf4k5qN49cMaeRK1iZegYCpQ4RGeEMUxBtFFvhpWqvvk3McuEUojdhPvYy3wWmXPP4u89RcmN'\n",
        "watch_09_ext=hd_wallet_factory.CreateFromExtendedKey(\"watcher_09\",ex_09)\n",
        "watch_09_int=hd_wallet_factory.CreateFromExtendedKey(\"watcher_09\",ex_09)\n",
        "watch_09_ext.Generate(account_idx = 0, change_idx = HdWalletBipChanges.CHAIN_EXT, addr_num = 4)\n",
        "watch_09_int.Generate(account_idx = 0, change_idx = HdWalletBipChanges.CHAIN_INT, addr_num = 4)\n",
        "print(get_addresses(watch_09_ext))\n",
        "print('-'*50)\n",
        "print(get_addresses(watch_09_int))"
      ],
      "metadata": {
        "id": "_hieP5u9S7Dw"
      },
      "execution_count": null,
      "outputs": []
    },
    {
      "cell_type": "markdown",
      "source": [
        "#Identity\n",
        "\n",
        "\n",
        "Identity has different compnents and posible constructions. Here we will form identity as a json dictionary. Every key value pair is opt-in. \n",
        "\n",
        "```python\n",
        "identity_dict = { 'name' : 'DrDoeg',\n",
        "                  'field' : 'Physics', \n",
        "                  'twitter' : 't_physics',\n",
        "                  'hd_pub_0' : {'pub/44/3/0/0':'dgub8uu2ChGGLQcFXt5QEBoHJNHhxubH6LXWxzMcVKNRfMyQgCfpWquMYkNsiXsQeEddLzX692Am7rgZ7s7wLqts1FbXNuA2pGtRdPuht92J4pm',\n",
        "                                 'sig_trans':'HexSignatutureOfTheTransactionThatStoresThis'} }\n",
        "```\n",
        "\n",
        "\n",
        "```python\n",
        "identity_dict = { 'name' : 'DrDoeg',\n",
        "                  'field' : 'Physics', \n",
        "                  'twitter' : 't_physics',\n",
        "                  'image' : 'aa0c3ea6b38b2238725df2457eb328bbebd7d91ac5241c24de8ea11616c2bb6d',\n",
        "                  'addr_0' : 'DRdoEgDC7naAn9bsXEHqdCCPaYN7S8i5ro'\n",
        "                  'hd_pub_0' : {'pub/44/3/0/0':'dgub8uu2ChGGLQcFXt5QEBoHJNHhxubH6LXWxzMcVKNRfMyQgCfpWquMYkNsiXsQeEddLzX692Am7rgZ7s7wLqts1FbXNuA2pGtRdPuht92J4pm',\n",
        "                                 'sig_trans':'d1ec81ffae055329a23787dc0d9e1525af8893ef3f00a7568505f6220a9b82de4147da07d2a00552a12406c708c571869e0bc892266f9a13dc15528b491cc8f101'} }\n",
        "```\n",
        "\n",
        "There can be four types of entries:\n",
        "- declaritive entries: these are names or datapoints which are stated unproven as self identifiers\n",
        "- social pointers: these are pointers to social media or websites that contain references to the identity transaction. these references serve as proof in the identity handshake.\n",
        "- public keys: these are references to hd keys or single keys. these entries are dictionaries that contain the a public key reference and a signature from that keypair of the identity transaction\n",
        "- prev_id: this is a previous identity transaction hash \n",
        "\n",
        "There should be different types of trust/proofs implemented. Maybe and account with both keys capable of withdraw. This method of identity construction does allow for redefined personal digital boundaries.\n",
        "\n",
        "We can also reference other identity transactions. The authenticated dictionary should be constructed publickeys first, then previous identity transactions, then finally declaratives and socials.\n",
        "\n",
        "# Header\n",
        "\n",
        "the header is `\\xc1\\xdd\\x00\\x01\\x1d\\x00\\x00`\n",
        "\n",
        "`1d` is the byte for Identity inscriptions"
      ],
      "metadata": {
        "id": "WDYDR3IrZY-s"
      }
    },
    {
      "cell_type": "code",
      "source": [
        "identity_dict = { 'name' : 'DrDoeg',\n",
        "                  'field' : 'Physics', \n",
        "                  'twitter' : 't_physics',\n",
        "                  'image' : 'aa0c3ea6b38b2238725df2457eb328bbebd7d91ac5241c24de8ea11616c2bb6d',\n",
        "                  'addr_0' : {'addr':'DRdoEgDC7naAn9bsXEHqdCCPaYN7S8i5ro',\n",
        "                              'sig_trans':'d1ec81ffae055329a23787dc0d9e1525af8893ef3f00a7568505f6220a9b82de4147da07d2a00552a12406c708c571869e0bc892266f9a13dc15528b491cc8f101'},\n",
        "                  'hd_pub_0' : {'pub/44/3/0/0':'dgub8uu2ChGGLQcFXt5QEBoHJNHhxubH6LXWxzMcVKNRfMyQgCfpWquMYkNsiXsQeEddLzX692Am7rgZ7s7wLqts1FbXNuA2pGtRdPuht92J4pm',\n",
        "                                 'sig_trans':'d1ec81ffae055329a23787dc0d9e1525af8893ef3f00a7568505f6220a9b82de4147da07d2a00552a12406c708c571869e0bc892266f9a13dc15528b491cc8f101'} }\n",
        "\n",
        "identity_dict       "
      ],
      "metadata": {
        "id": "HfhFiBcjMzMh",
        "colab": {
          "base_uri": "https://localhost:8080/"
        },
        "outputId": "300dbc0e-11a0-436a-b0ac-d6822105ce7e"
      },
      "execution_count": 20,
      "outputs": [
        {
          "output_type": "execute_result",
          "data": {
            "text/plain": [
              "{'addr_0': {'addr': 'DRdoEgDC7naAn9bsXEHqdCCPaYN7S8i5ro',\n",
              "  'sig_trans': 'd1ec81ffae055329a23787dc0d9e1525af8893ef3f00a7568505f6220a9b82de4147da07d2a00552a12406c708c571869e0bc892266f9a13dc15528b491cc8f101'},\n",
              " 'field': 'Physics',\n",
              " 'hd_pub_0': {'pub/44/3/0/0': 'dgub8uu2ChGGLQcFXt5QEBoHJNHhxubH6LXWxzMcVKNRfMyQgCfpWquMYkNsiXsQeEddLzX692Am7rgZ7s7wLqts1FbXNuA2pGtRdPuht92J4pm',\n",
              "  'sig_trans': 'd1ec81ffae055329a23787dc0d9e1525af8893ef3f00a7568505f6220a9b82de4147da07d2a00552a12406c708c571869e0bc892266f9a13dc15528b491cc8f101'},\n",
              " 'image': 'aa0c3ea6b38b2238725df2457eb328bbebd7d91ac5241c24de8ea11616c2bb6d',\n",
              " 'name': 'DrDoeg',\n",
              " 'twitter': 't_physics'}"
            ]
          },
          "metadata": {},
          "execution_count": 20
        }
      ]
    },
    {
      "cell_type": "code",
      "source": [
        "import json\n",
        "\n",
        "pack=json.dumps(identity_dict, indent = '\\t').encode()\n",
        "print(len(pack)/80)\n",
        "print(pack.decode())"
      ],
      "metadata": {
        "id": "gQfuvsgtPLSO",
        "colab": {
          "base_uri": "https://localhost:8080/"
        },
        "outputId": "0e6a66bf-c242-44d3-bfc2-bcbe3c618380"
      },
      "execution_count": 23,
      "outputs": [
        {
          "output_type": "stream",
          "name": "stdout",
          "text": [
            "8.225\n",
            "{\n",
            "\t\"name\": \"DrDoeg\",\n",
            "\t\"field\": \"Physics\",\n",
            "\t\"twitter\": \"t_physics\",\n",
            "\t\"image\": \"aa0c3ea6b38b2238725df2457eb328bbebd7d91ac5241c24de8ea11616c2bb6d\",\n",
            "\t\"addr_0\": {\n",
            "\t\t\"addr\": \"DRdoEgDC7naAn9bsXEHqdCCPaYN7S8i5ro\",\n",
            "\t\t\"sig_trans\": \"d1ec81ffae055329a23787dc0d9e1525af8893ef3f00a7568505f6220a9b82de4147da07d2a00552a12406c708c571869e0bc892266f9a13dc15528b491cc8f101\"\n",
            "\t},\n",
            "\t\"hd_pub_0\": {\n",
            "\t\t\"pub/44/3/0/0\": \"dgub8uu2ChGGLQcFXt5QEBoHJNHhxubH6LXWxzMcVKNRfMyQgCfpWquMYkNsiXsQeEddLzX692Am7rgZ7s7wLqts1FbXNuA2pGtRdPuht92J4pm\",\n",
            "\t\t\"sig_trans\": \"d1ec81ffae055329a23787dc0d9e1525af8893ef3f00a7568505f6220a9b82de4147da07d2a00552a12406c708c571869e0bc892266f9a13dc15528b491cc8f101\"\n",
            "\t}\n",
            "}\n"
          ]
        }
      ]
    },
    {
      "cell_type": "markdown",
      "source": [
        "This is the identity transaction id:\n",
        "\n",
        "`1566b4b36e938e4dab05718d16d1d3261ad7b40a2ea4ecaa34b52a822bbe4299`"
      ],
      "metadata": {
        "id": "JBBXbZujigdX"
      }
    },
    {
      "cell_type": "code",
      "source": [
        "identity_txn='1566b4b36e938e4dab05718d16d1d3261ad7b40a2ea4ecaa34b52a822bbe4299'"
      ],
      "metadata": {
        "id": "JQ0SAbENifo3"
      },
      "execution_count": 24,
      "outputs": []
    },
    {
      "cell_type": "code",
      "source": [
        "(hdr,bdy)=read_cadenas('1566b4b36e938e4dab05718d16d1d3261ad7b40a2ea4ecaa34b52a822bbe4299')"
      ],
      "metadata": {
        "id": "1yMQ_4OAoUUS"
      },
      "execution_count": 25,
      "outputs": []
    },
    {
      "cell_type": "code",
      "source": [
        "id_dct=json.loads(bdy.decode())\n",
        "id_dct"
      ],
      "metadata": {
        "id": "2xyugDYNyIUi",
        "colab": {
          "base_uri": "https://localhost:8080/"
        },
        "outputId": "63587724-5fd3-454d-979f-33938366087b"
      },
      "execution_count": 26,
      "outputs": [
        {
          "output_type": "execute_result",
          "data": {
            "text/plain": [
              "{'addr_0': {'addr': 'DRdoEgDC7naAn9bsXEHqdCCPaYN7S8i5ro',\n",
              "  'sig_trans': '3211a4fe8361c35fbd83c243010c73ca4872e2f4646e5ed3042ff5708797ca0a777760ae2e2ca4a87bc9fb0bccb45f7ed5779cfff93814d38d7aa9e06977aac801'},\n",
              " 'field': 'Physics',\n",
              " 'hd_pub_0': {'pub/44/3/0/0': 'dgub8uu2ChGGLQcFXt5QEBoHJNHhxubH6LXWxzMcVKNRfMyQgCfpWquMYkNsiXsQeEddLzX692Am7rgZ7s7wLqts1FbXNuA2pGtRdPuht92J4pm',\n",
              "  'sig_trans': '406f42781965a23fa10fa547db1861f1fe85c3fb9e76ad3e1132e0d33e7d8b0111375b062e4edc754032c7dedaa6fc135dae131d1639be2c9e19f5423dc6712301'},\n",
              " 'image': 'aa0c3ea6b38b2238725df2457eb328bbebd7d91ac5241c24de8ea11616c2bb6d',\n",
              " 'name': 'DrDoeg',\n",
              " 'twitter': 't_physics'}"
            ]
          },
          "metadata": {},
          "execution_count": 26
        }
      ]
    },
    {
      "cell_type": "code",
      "source": [
        "hdr"
      ],
      "metadata": {
        "id": "rERTERdzyu6G",
        "colab": {
          "base_uri": "https://localhost:8080/",
          "height": 35
        },
        "outputId": "ed853d97-b1f9-4483-8dd7-8cfd65ca1ae7"
      },
      "execution_count": 27,
      "outputs": [
        {
          "output_type": "execute_result",
          "data": {
            "text/plain": [
              "'c1dd00011d00007c4465636c61726174696f6e206f66204964656e746974797c'"
            ],
            "application/vnd.google.colaboratory.intrinsic+json": {
              "type": "string"
            }
          },
          "metadata": {},
          "execution_count": 27
        }
      ]
    },
    {
      "cell_type": "code",
      "source": [
        "utterance=b'\\x1d\\x00\\x00'+bytes.fromhex('1566b4b36e938e4dab05718d16d1d3261ad7b40a2ea4ecaa34b52a822bbe4299')\n",
        "utterance"
      ],
      "metadata": {
        "id": "1iytJTpjyu3v",
        "colab": {
          "base_uri": "https://localhost:8080/"
        },
        "outputId": "e91616b6-101d-4006-cd01-63109fc14502"
      },
      "execution_count": 28,
      "outputs": [
        {
          "output_type": "execute_result",
          "data": {
            "text/plain": [
              "b'\\x1d\\x00\\x00\\x15f\\xb4\\xb3n\\x93\\x8eM\\xab\\x05q\\x8d\\x16\\xd1\\xd3&\\x1a\\xd7\\xb4\\n.\\xa4\\xec\\xaa4\\xb5*\\x82+\\xbeB\\x99'"
            ]
          },
          "metadata": {},
          "execution_count": 28
        }
      ]
    },
    {
      "cell_type": "code",
      "source": [
        "import eth_keys\n",
        "signature_addr_0=eth_keys.datatypes.Signature(bytes.fromhex('3211a4fe8361c35fbd83c243010c73ca4872e2f4646e5ed3042ff5708797ca0a777760ae2e2ca4a87bc9fb0bccb45f7ed5779cfff93814d38d7aa9e06977aac801'))\n",
        "signature_hdpub_0=eth_keys.datatypes.Signature(bytes.fromhex('406f42781965a23fa10fa547db1861f1fe85c3fb9e76ad3e1132e0d33e7d8b0111375b062e4edc754032c7dedaa6fc135dae131d1639be2c9e19f5423dc6712301'))"
      ],
      "metadata": {
        "id": "KRW8V4KHyuxs"
      },
      "execution_count": 32,
      "outputs": []
    },
    {
      "cell_type": "code",
      "source": [
        "import cryptos \n",
        "doge=cryptos.Doge()\n",
        "doge.pubtoaddr('04'+signature_addr_0.recover_public_key_from_msg(utterance).to_hex()[2:])"
      ],
      "metadata": {
        "colab": {
          "base_uri": "https://localhost:8080/",
          "height": 35
        },
        "id": "bUxNtDJZ8Tlk",
        "outputId": "2960903c-28c4-4893-9f3f-8aef193c00aa"
      },
      "execution_count": 45,
      "outputs": [
        {
          "output_type": "execute_result",
          "data": {
            "text/plain": [
              "'DRdoEgDC7naAn9bsXEHqdCCPaYN7S8i5ro'"
            ],
            "application/vnd.google.colaboratory.intrinsic+json": {
              "type": "string"
            }
          },
          "metadata": {},
          "execution_count": 45
        }
      ]
    },
    {
      "cell_type": "code",
      "source": [
        "doge.pubtoaddr('04'+signature_hdpub_0.recover_public_key_from_msg(utterance).to_hex()[2:])"
      ],
      "metadata": {
        "id": "8IhzDHIFyutc",
        "colab": {
          "base_uri": "https://localhost:8080/",
          "height": 35
        },
        "outputId": "7ec2dc93-80c8-4355-fb30-479d3fe5aafd"
      },
      "execution_count": 47,
      "outputs": [
        {
          "output_type": "execute_result",
          "data": {
            "text/plain": [
              "'DBsM3r6RiTX8PAKfyzasNdBZUCSEz52nJf'"
            ],
            "application/vnd.google.colaboratory.intrinsic+json": {
              "type": "string"
            }
          },
          "metadata": {},
          "execution_count": 47
        }
      ]
    },
    {
      "cell_type": "code",
      "source": [
        "'04'+signature_hdpub_0.recover_public_key_from_msg(utterance).to_hex()[2:]"
      ],
      "metadata": {
        "id": "lJ90JS7Hyuq6",
        "colab": {
          "base_uri": "https://localhost:8080/",
          "height": 35
        },
        "outputId": "c2d82c48-4959-4db0-d6cf-7c9a016627fa"
      },
      "execution_count": 48,
      "outputs": [
        {
          "output_type": "execute_result",
          "data": {
            "text/plain": [
              "'04797a01b3e9c7ac5273ab0ff37c0917dfe0f7909ec2144977aad5f2d96bae1fc74f41335fc8ae94be4d55daaf3afed7af3057dcb44aede7ca9d9888a02ed62da9'"
            ],
            "application/vnd.google.colaboratory.intrinsic+json": {
              "type": "string"
            }
          },
          "metadata": {},
          "execution_count": 48
        }
      ]
    },
    {
      "cell_type": "code",
      "source": [
        "'04797a01b3e9c7ac5273ab0ff37c0917dfe0f7909ec2144977aad5f2d96bae1fc74f41335fc8ae94be4d55daaf3afed7af3057dcb44aede7ca9d9888a02ed62da9'"
      ],
      "metadata": {
        "id": "RsAiAVMiyuns"
      },
      "execution_count": null,
      "outputs": []
    },
    {
      "cell_type": "code",
      "source": [
        "doge.pubtoaddr('04797a01b3e9c7ac5273ab0ff37c0917dfe0f7909ec2144977aad5f2d96bae1fc74f41335fc8ae94be4d55daaf3afed7af3057dcb44aede7ca9d9888a02ed62da9')"
      ],
      "metadata": {
        "id": "qHfn-nPD_i5G",
        "outputId": "01785396-cc17-4fff-f0ef-f9666628e3ea",
        "colab": {
          "base_uri": "https://localhost:8080/",
          "height": 35
        }
      },
      "execution_count": 55,
      "outputs": [
        {
          "output_type": "execute_result",
          "data": {
            "text/plain": [
              "'DBsM3r6RiTX8PAKfyzasNdBZUCSEz52nJf'"
            ],
            "application/vnd.google.colaboratory.intrinsic+json": {
              "type": "string"
            }
          },
          "metadata": {},
          "execution_count": 55
        }
      ]
    },
    {
      "cell_type": "code",
      "source": [
        "doge.pubtoaddr('03797a01b3e9c7ac5273ab0ff37c0917dfe0f7909ec2144977aad5f2d96bae1fc7')"
      ],
      "metadata": {
        "id": "DNRU-en4yulY",
        "colab": {
          "base_uri": "https://localhost:8080/",
          "height": 35
        },
        "outputId": "66f780dc-7009-4ee0-cf30-3d88728b4335"
      },
      "execution_count": 49,
      "outputs": [
        {
          "output_type": "execute_result",
          "data": {
            "text/plain": [
              "'DBcNgj9T7zy8b12igfRPQw7XbnaptwqCbm'"
            ],
            "application/vnd.google.colaboratory.intrinsic+json": {
              "type": "string"
            }
          },
          "metadata": {},
          "execution_count": 49
        }
      ]
    },
    {
      "cell_type": "code",
      "source": [
        "doge.pubtoaddr('03797a01b3e9c7ac5273ab0ff37c0917dfe0f7909ec2144977aad5f2d96bae1fc7')"
      ],
      "metadata": {
        "id": "HccSegycyuh7",
        "colab": {
          "base_uri": "https://localhost:8080/",
          "height": 35
        },
        "outputId": "9984cb58-21c9-4816-c29f-976731404642"
      },
      "execution_count": 53,
      "outputs": [
        {
          "output_type": "execute_result",
          "data": {
            "text/plain": [
              "'DBcNgj9T7zy8b12igfRPQw7XbnaptwqCbm'"
            ],
            "application/vnd.google.colaboratory.intrinsic+json": {
              "type": "string"
            }
          },
          "metadata": {},
          "execution_count": 53
        }
      ]
    },
    {
      "cell_type": "code",
      "source": [
        ""
      ],
      "metadata": {
        "id": "KKXrIgoFyue4"
      },
      "execution_count": null,
      "outputs": []
    },
    {
      "cell_type": "code",
      "source": [
        ""
      ],
      "metadata": {
        "id": "T6zWma3dyubx"
      },
      "execution_count": null,
      "outputs": []
    },
    {
      "cell_type": "code",
      "source": [
        ""
      ],
      "metadata": {
        "id": "K9PwKK9lyuYS"
      },
      "execution_count": null,
      "outputs": []
    }
  ]
}