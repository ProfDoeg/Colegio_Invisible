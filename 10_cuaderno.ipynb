{
  "cells": [
    {
      "cell_type": "markdown",
      "metadata": {
        "id": "p8UZNRNTyf01"
      },
      "source": [
        "# Direcciones,\n",
        "# Deuda Alquimia,\n",
        "# y las Transformas\n",
        "\n",
        "<a href=\"https://colab.research.google.com/github/ProfDoeg/Colegio_Invisible/blob/master/10_cuaderno.ipynb\" target=\"_parent\"><img src=\"https://colab.research.google.com/assets/colab-badge.svg\" alt=\"Open In Colab\"/></a>"
      ]
    },
    {
      "cell_type": "markdown",
      "source": [
        "# Preparar el Espacio (Prepare the Space)"
      ],
      "metadata": {
        "id": "qfBpcV6BAe2n"
      }
    },
    {
      "cell_type": "code",
      "execution_count": 2,
      "metadata": {
        "id": "U5xDMfi6yf06",
        "outputId": "a7823271-2cc8-40fa-e589-a0411ec8f82c",
        "colab": {
          "base_uri": "https://localhost:8080/"
        }
      },
      "outputs": [
        {
          "output_type": "stream",
          "name": "stdout",
          "text": [
            "Cloning into 'Colegio_Invisible'...\n",
            "remote: Enumerating objects: 925, done.\u001b[K\n",
            "remote: Counting objects: 100% (739/739), done.\u001b[K\n",
            "remote: Compressing objects: 100% (712/712), done.\u001b[K\n",
            "remote: Total 925 (delta 494), reused 29 (delta 25), pack-reused 186\u001b[K\n",
            "Receiving objects: 100% (925/925), 57.60 MiB | 11.14 MiB/s, done.\n",
            "Resolving deltas: 100% (606/606), done.\n",
            "Collecting eciespy\n",
            "  Downloading eciespy-0.3.11-py3-none-any.whl (11 kB)\n",
            "Collecting eth_keys\n",
            "  Downloading eth_keys-0.4.0-py3-none-any.whl (21 kB)\n",
            "Collecting cryptos\n",
            "  Downloading cryptos-1.36-py3-none-any.whl (69 kB)\n",
            "\u001b[K     |████████████████████████████████| 69 kB 3.1 MB/s \n",
            "\u001b[?25hCollecting qrcode\n",
            "  Downloading qrcode-7.3.1.tar.gz (43 kB)\n",
            "\u001b[K     |████████████████████████████████| 43 kB 1.6 MB/s \n",
            "\u001b[?25hCollecting base58\n",
            "  Downloading base58-2.1.1-py3-none-any.whl (5.6 kB)\n",
            "Collecting coincurve<16,>=13\n",
            "  Downloading coincurve-15.0.1-cp37-cp37m-manylinux_2_17_x86_64.manylinux2014_x86_64.whl (555 kB)\n",
            "\u001b[K     |████████████████████████████████| 555 kB 24.5 MB/s \n",
            "\u001b[?25hCollecting eth_keys\n",
            "  Downloading eth_keys-0.3.4-py3-none-any.whl (21 kB)\n",
            "Collecting pycryptodome<4.0.0,>=3.9.9\n",
            "  Downloading pycryptodome-3.14.1-cp35-abi3-manylinux2010_x86_64.whl (2.0 MB)\n",
            "\u001b[K     |████████████████████████████████| 2.0 MB 63.6 MB/s \n",
            "\u001b[?25hCollecting eth-typing<3.0.0,>=2.2.1\n",
            "  Downloading eth_typing-2.3.0-py3-none-any.whl (6.2 kB)\n",
            "Collecting eth-utils<2.0.0,>=1.8.2\n",
            "  Downloading eth_utils-1.10.0-py3-none-any.whl (24 kB)\n",
            "Collecting asn1crypto\n",
            "  Downloading asn1crypto-1.5.1-py2.py3-none-any.whl (105 kB)\n",
            "\u001b[K     |████████████████████████████████| 105 kB 70.5 MB/s \n",
            "\u001b[?25hRequirement already satisfied: cffi>=1.3.0 in /usr/local/lib/python3.7/dist-packages (from coincurve<16,>=13->eciespy) (1.15.0)\n",
            "Requirement already satisfied: pycparser in /usr/local/lib/python3.7/dist-packages (from cffi>=1.3.0->coincurve<16,>=13->eciespy) (2.21)\n",
            "Collecting cytoolz<1.0.0,>=0.10.1\n",
            "  Downloading cytoolz-0.11.2.tar.gz (481 kB)\n",
            "\u001b[K     |████████████████████████████████| 481 kB 64.8 MB/s \n",
            "\u001b[?25hCollecting eth-hash<0.4.0,>=0.3.1\n",
            "  Downloading eth_hash-0.3.2-py3-none-any.whl (8.8 kB)\n",
            "Requirement already satisfied: toolz>=0.8.0 in /usr/local/lib/python3.7/dist-packages (from cytoolz<1.0.0,>=0.10.1->eth-utils<2.0.0,>=1.8.2->eth_keys) (0.11.2)\n",
            "Building wheels for collected packages: cytoolz, qrcode\n",
            "  Building wheel for cytoolz (setup.py) ... \u001b[?25l\u001b[?25hdone\n",
            "  Created wheel for cytoolz: filename=cytoolz-0.11.2-cp37-cp37m-linux_x86_64.whl size=1230852 sha256=bab94692f5c3dc65db950b3403994b4fad9f5d2231fae6d901ce7ad9eccbf4cb\n",
            "  Stored in directory: /root/.cache/pip/wheels/38/70/71/ca13ea3d36ccd0b3d0ec7d7a4ca67522048d695b556bba4f59\n",
            "  Building wheel for qrcode (setup.py) ... \u001b[?25l\u001b[?25hdone\n",
            "  Created wheel for qrcode: filename=qrcode-7.3.1-py3-none-any.whl size=40402 sha256=a553d1a9951defa08c4fa33ba126790470f9814c268b024675da75a81b2d6dcf\n",
            "  Stored in directory: /root/.cache/pip/wheels/93/d7/39/a4111be2cfb8e679938aa671a37888b6afb1f9e7d748e94492\n",
            "Successfully built cytoolz qrcode\n",
            "Installing collected packages: eth-typing, eth-hash, cytoolz, eth-utils, asn1crypto, pycryptodome, eth-keys, coincurve, qrcode, eciespy, cryptos, base58\n",
            "Successfully installed asn1crypto-1.5.1 base58-2.1.1 coincurve-15.0.1 cryptos-1.36 cytoolz-0.11.2 eciespy-0.3.11 eth-hash-0.3.2 eth-keys-0.3.4 eth-typing-2.3.0 eth-utils-1.10.0 pycryptodome-3.14.1 qrcode-7.3.1\n"
          ]
        }
      ],
      "source": [
        "! git clone https://github.com/ProfDoeg/Colegio_Invisible.git\n",
        "! pip install eciespy eth_keys cryptos qrcode base58 "
      ]
    },
    {
      "cell_type": "markdown",
      "metadata": {
        "id": "UCBESxaRyf0_"
      },
      "source": [
        "## Importaciones y Definiciones (Imports and Definitions)\n",
        "\n",
        "Crear funciones para generar pares de claves y direcciones de criptomonedas.\n",
        "***\n",
        "Create functions for generating key pairs and cryptomoneda addresses."
      ]
    },
    {
      "cell_type": "code",
      "execution_count": 3,
      "metadata": {
        "id": "vQZ_mWc-yf1A"
      },
      "outputs": [],
      "source": [
        "import hashlib\n",
        "import os\n",
        "import getpass\n",
        "import ecies\n",
        "import eth_keys\n",
        "import cryptos\n",
        "import qrcode\n",
        "import base58\n",
        "from PIL import Image\n",
        "import matplotlib.pyplot as plt\n",
        "%matplotlib inline"
      ]
    },
    {
      "cell_type": "code",
      "source": [
        "from Crypto.Random import get_random_bytes\n",
        "\n",
        "#def gen_privKey():\n",
        "#    privKey=eth_keys.keys.PrivateKey(get_random_bytes(32) )\n",
        "#    return privKey\n",
        "\n",
        "doge=cryptos.Doge()"
      ],
      "metadata": {
        "id": "tQHy0yevNxJs"
      },
      "execution_count": 4,
      "outputs": []
    },
    {
      "cell_type": "code",
      "source": [
        "privnum_try=get_random_bytes(32)\n",
        "addy_try=doge.privtoaddr(privnum_try)\n",
        "addy_try"
      ],
      "metadata": {
        "colab": {
          "base_uri": "https://localhost:8080/",
          "height": 35
        },
        "id": "-KABXWb4OLcl",
        "outputId": "0c318bf3-32dc-42d3-e61d-4ad0d34de92b"
      },
      "execution_count": 5,
      "outputs": [
        {
          "output_type": "execute_result",
          "data": {
            "text/plain": [
              "'DPjodFZzqCg9xppTJT7xADCAAxWBufg3HL'"
            ],
            "application/vnd.google.colaboratory.intrinsic+json": {
              "type": "string"
            }
          },
          "metadata": {},
          "execution_count": 5
        }
      ]
    },
    {
      "cell_type": "code",
      "source": [
        "import getpass\n",
        "passwrd=getpass.getpass('password')\n"
      ],
      "metadata": {
        "colab": {
          "base_uri": "https://localhost:8080/"
        },
        "id": "V9d0YwnE835A",
        "outputId": "335c1e1b-642e-46ed-9731-96a655e7d1b4"
      },
      "execution_count": 6,
      "outputs": [
        {
          "name": "stdout",
          "output_type": "stream",
          "text": [
            "password··········\n"
          ]
        }
      ]
    },
    {
      "cell_type": "code",
      "source": [
        "from google.colab import drive\n",
        "drive.mount('/content/drive')"
      ],
      "metadata": {
        "id": "bGiuX9ZvJD8M",
        "colab": {
          "base_uri": "https://localhost:8080/"
        },
        "outputId": "a85a18de-cc14-4852-b99d-f7fe1778c90e"
      },
      "execution_count": 7,
      "outputs": [
        {
          "output_type": "stream",
          "name": "stdout",
          "text": [
            "Mounted at /content/drive\n"
          ]
        }
      ]
    },
    {
      "cell_type": "code",
      "source": [
        "! ls "
      ],
      "metadata": {
        "colab": {
          "base_uri": "https://localhost:8080/"
        },
        "id": "5uXApZuI_Rfj",
        "outputId": "7ce025ad-24f3-45e1-aabb-fb69b53a7e59"
      },
      "execution_count": 8,
      "outputs": [
        {
          "output_type": "stream",
          "name": "stdout",
          "text": [
            "Colegio_Invisible  drive  sample_data\n"
          ]
        }
      ]
    },
    {
      "cell_type": "code",
      "source": [
        "! ls drive/MyDrive"
      ],
      "metadata": {
        "colab": {
          "base_uri": "https://localhost:8080/"
        },
        "id": "ijJRbvg0AAFt",
        "outputId": "f8b3d3e0-89f3-4f50-b390-680ce15cc6eb"
      },
      "execution_count": 9,
      "outputs": [
        {
          "output_type": "stream",
          "name": "stdout",
          "text": [
            " cinv  'Colab Notebooks'   test\n"
          ]
        }
      ]
    },
    {
      "cell_type": "code",
      "source": [
        "exe_string=f'python Colegio_Invisible/scripts/ecc_keyboard.py drive/MyDrive/cinv/vanity3_privkey.bin {passwrd} {privnum_try.hex()}'\n",
        "!{exe_string}\n"
      ],
      "metadata": {
        "colab": {
          "base_uri": "https://localhost:8080/"
        },
        "id": "5E8JHD9N7Jkg",
        "outputId": "1076e7a5-7759-480e-b598-da2671426721"
      },
      "execution_count": 13,
      "outputs": [
        {
          "output_type": "stream",
          "name": "stdout",
          "text": [
            "Key generation complete\n",
            "Generación de la clave está hecho\n",
            "La clave esta cifrada y escrita en un archivo binario:\n",
            "Key encrypted and written to binary file: drive/MyDrive/cinv/vanity3_privkey.bin\n",
            "bb15fac8434fe837545fae1c32210f0df92d3eb8b9c6f7f2a5fc64ca1e255cd4fd8a543f0696d7dbac53a60191fe2c66b79f96f3c98b4cec9bd77957137e1271\n"
          ]
        }
      ]
    },
    {
      "cell_type": "code",
      "source": [
        "match_text='dcris'.lower()\n",
        "length=len(match_text)\n",
        "i=0\n",
        "while True:\n",
        "  #if i%100_000==0:\n",
        "  #  print(i)\n",
        "  # i=i+1\n",
        "  privnum_try=get_random_bytes(32)\n",
        "  addy_try=doge.privtoaddr(privnum_try)\n",
        "  if addy_try[:length].lower()==match_text:\n",
        "    break\n",
        "print(addy_try)\n",
        "\n",
        "exe_string=f'python Colegio_Invisible/scripts/ecc_keyboard.py drive/MyDrive/cinv/cris_prv.enc {passwrd} {privnum_try.hex()}'\n",
        "!{exe_string}"
      ],
      "metadata": {
        "id": "r0lxtRMnOrZJ"
      },
      "execution_count": null,
      "outputs": []
    },
    {
      "cell_type": "code",
      "source": [
        "def gen_save_keys_addr(basename_filepath,password=None,coin='Doge'):\n",
        "    if os.path.isfile(basename_filepath+'_prv.enc'):\n",
        "        privkey2save=import_privKey(basename_filepath+'_prv.enc',password)\n",
        "    else:\n",
        "        privkey2save = ecies.utils.generate_eth_key()\n",
        "    pubkey2save = privkey2save.public_key    \n",
        "    save_privkey(privkey2save,basename_filepath+'_prv.enc',password=password)\n",
        "    save_pubkey(pubkey2save,basename_filepath+'_pub.bin')\n",
        "    if coin[0].lower()=='d':\n",
        "      doge = cryptos.Doge()\n",
        "    else:\n",
        "      doge = cryptos.Bitcoin()\n",
        "    addr2save=doge.pubtoaddr('04'+pubkey2save.to_bytes().hex())\n",
        "    save_addr(addr2save,basename_filepath+'_addr.bin')\n",
        "    return make_qr(addr2save,basename_filepath+'_addr.png')\n",
        "\n",
        "def save_privkey(privkey,privkey_filepath,password=None):\n",
        "    if password==None:\n",
        "        while True:\n",
        "                password = getpass.getpass(\"Input password for encrypting keyfile: \")\n",
        "                password_2 = getpass.getpass(\"Repeat password for encrypting keyfile: \")\n",
        "                if password==password_2:\n",
        "                    print('\\nPasswords match...')\n",
        "                    break\n",
        "                else:\n",
        "                    print('\\nPasswords do not match...')\n",
        "    encrypted_bytes=ecies.aes_encrypt(key=hashlib.sha256(password.encode()).digest(),\n",
        "                                      plain_text=privkey.to_bytes())\n",
        "    open(privkey_filepath,'wb').write(encrypted_bytes)\n",
        "    print(f'Password protected file written to {privkey_filepath} containing {encrypted_bytes.hex()}')\n",
        "    \n",
        "def save_pubkey(pubkey,pubkey_filepath):\n",
        "    open(pubkey_filepath,'wb').write(pubkey.to_bytes())\n",
        "    print(f'File written to {pubkey_filepath} containing {pubkey.to_bytes().hex()}')\n",
        "    \n",
        "def save_addr(addr,addr_filepath):\n",
        "    open(addr_filepath,'wb').write(addr.encode())\n",
        "    print(f'Address written to {addr_filepath} containing {addr}')\n",
        "\n",
        "def make_qr(data,image_path=None):\n",
        "    qr = qrcode.QRCode(version=1,box_size=5,border=2)\n",
        "    qr.add_data(data)\n",
        "    qr.make(fit=True)\n",
        "    img = qr.make_image(fill='black', back_color='white')\n",
        "    if image_path!=None:\n",
        "        img.save(image_path)\n",
        "    return img\n",
        "\n",
        "def import_privKey(privkey_filepath,password=None):\n",
        "    if password==None:\n",
        "        password = getpass.getpass(\"Input password for decrypting keyfile: \")\n",
        "    password=password.encode()\n",
        "    f=open(privkey_filepath,'rb')\n",
        "    decrypted_bytes=ecies.aes_decrypt(key=hashlib.sha256(password).digest(),cipher_text=f.read())\n",
        "    privKey=eth_keys.keys.PrivateKey(decrypted_bytes)\n",
        "    return privKey\n",
        "\n",
        "def import_pubKey(pubkey_filepath):\n",
        "    f=open(pubkey_filepath,'rb')\n",
        "    privKey=eth_keys.keys.PublicKey(f.read())\n",
        "    return privKey\n",
        "\n",
        "def import_addr(addr_filepath):\n",
        "    return open(addr_filepath,'rb').read().decode()\n"
      ],
      "metadata": {
        "id": "XVeyo-e9zhs0"
      },
      "execution_count": 10,
      "outputs": []
    },
    {
      "cell_type": "code",
      "source": [
        "gen_save_keys_addr('cris',password=\"\",coin='Doge')"
      ],
      "metadata": {
        "colab": {
          "base_uri": "https://localhost:8080/",
          "height": 255
        },
        "id": "eCUSbKbXzmQ2",
        "outputId": "2e3436ab-a322-4fec-9440-e8ac833e6b80"
      },
      "execution_count": 11,
      "outputs": [
        {
          "output_type": "stream",
          "name": "stdout",
          "text": [
            "Password protected file written to chris_prv.enc containing cdfa2ad97e6d7746f55f67028ad6df9e84a0ff50f9fb064f131d271f5ad025eb771c40f3f290c8ff67ffb1f533fc048d887a9d77b82c84a869abf5c4c98b2344\n",
            "File written to chris_pub.bin containing f494114c924db44cf140d4799af72d9410581eb4af04527ddada2a9e859210647a574e4b050b42a0ccb3d5ad3a16e43e5d09f1f4f5ea1abeaa27e3e7b0f645dd\n",
            "Address written to chris_addr.bin containing DCwoowQ3mLkM2DMahLGH9h6qndjZ8k23Ty\n"
          ]
        },
        {
          "output_type": "execute_result",
          "data": {
            "text/plain": [
              "<qrcode.image.pil.PilImage at 0x7f6011a30dd0>"
            ],
            "image/png": "[encoded data removed]"
          },
          "metadata": {},
          "execution_count": 11
        }
      ]
    },
    {
      "cell_type": "code",
      "source": [
        "base58.alphabet"
      ],
      "metadata": {
        "colab": {
          "base_uri": "https://localhost:8080/"
        },
        "id": "-yDBH-wOtxaX",
        "outputId": "bdf7bf3b-da79-41e9-ce90-7b0ca848b84b"
      },
      "execution_count": 24,
      "outputs": [
        {
          "output_type": "execute_result",
          "data": {
            "text/plain": [
              "b'123456789ABCDEFGHJKLMNPQRSTUVWXYZabcdefghijkmnopqrstuvwxyz'"
            ]
          },
          "metadata": {},
          "execution_count": 24
        }
      ]
    },
    {
      "cell_type": "code",
      "source": [
        "58**4"
      ],
      "metadata": {
        "colab": {
          "base_uri": "https://localhost:8080/"
        },
        "id": "vzrPfthsf5bw",
        "outputId": "6fa726ca-5b5d-4de7-ecd8-4b3b8a772160"
      },
      "execution_count": 26,
      "outputs": [
        {
          "output_type": "execute_result",
          "data": {
            "text/plain": [
              "11316496"
            ]
          },
          "metadata": {},
          "execution_count": 26
        }
      ]
    },
    {
      "cell_type": "code",
      "source": [
        ""
      ],
      "metadata": {
        "id": "WbSJ58MZuVMy"
      },
      "execution_count": null,
      "outputs": []
    }
  ],
  "metadata": {
    "kernelspec": {
      "display_name": "Python 3",
      "language": "python",
      "name": "python3"
    },
    "language_info": {
      "codemirror_mode": {
        "name": "ipython",
        "version": 3
      },
      "file_extension": ".py",
      "mimetype": "text/x-python",
      "name": "python",
      "nbconvert_exporter": "python",
      "pygments_lexer": "ipython3",
      "version": "3.7.6"
    },
    "colab": {
      "name": "10_cuaderno.ipynb",
      "provenance": [],
      "machine_shape": "hm",
      "background_execution": "on"
    }
  },
  "nbformat": 4,
  "nbformat_minor": 0
}