{
  "cells": [
    {
      "cell_type": "markdown",
      "metadata": {
        "id": "p8UZNRNTyf01"
      },
      "source": [
        "# Direcciones,\n",
        "# Deuda Alquimia,\n",
        "# y las Transformas\n",
        "\n",
        "<a href=\"https://colab.research.google.com/github/ProfDoeg/Colegio_Invisible/blob/master/10_cuaderno.ipynb\" target=\"_parent\"><img src=\"https://colab.research.google.com/assets/colab-badge.svg\" alt=\"Open In Colab\"/></a>"
      ]
    },
    {
      "cell_type": "markdown",
      "source": [
        "# Preparar el Espacio (Prepare the Space)"
      ],
      "metadata": {
        "id": "qfBpcV6BAe2n"
      }
    },
    {
      "cell_type": "code",
      "execution_count": 4,
      "metadata": {
        "id": "U5xDMfi6yf06",
        "outputId": "5dbb9f94-7520-4b36-9432-1b129c4a6373",
        "colab": {
          "base_uri": "https://localhost:8080/"
        }
      },
      "outputs": [
        {
          "output_type": "stream",
          "name": "stdout",
          "text": [
            "Cloning into 'Colegio_Invisible'...\n",
            "remote: Enumerating objects: 893, done.\u001b[K\n",
            "remote: Counting objects: 100% (707/707), done.\u001b[K\n",
            "remote: Compressing objects: 100% (682/682), done.\u001b[K\n",
            "remote: Total 893 (delta 478), reused 23 (delta 23), pack-reused 186\u001b[K\n",
            "Receiving objects: 100% (893/893), 57.42 MiB | 11.17 MiB/s, done.\n",
            "Resolving deltas: 100% (590/590), done.\n",
            "Collecting eciespy\n",
            "  Downloading eciespy-0.3.11-py3-none-any.whl (11 kB)\n",
            "Collecting eth_keys\n",
            "  Downloading eth_keys-0.4.0-py3-none-any.whl (21 kB)\n",
            "Collecting cryptos\n",
            "  Downloading cryptos-1.36-py3-none-any.whl (69 kB)\n",
            "\u001b[K     |████████████████████████████████| 69 kB 2.8 MB/s \n",
            "\u001b[?25hCollecting qrcode\n",
            "  Downloading qrcode-7.3.1.tar.gz (43 kB)\n",
            "\u001b[K     |████████████████████████████████| 43 kB 1.9 MB/s \n",
            "\u001b[?25hCollecting base58\n",
            "  Downloading base58-2.1.1-py3-none-any.whl (5.6 kB)\n",
            "Collecting coincurve<16,>=13\n",
            "  Downloading coincurve-15.0.1-cp37-cp37m-manylinux_2_17_x86_64.manylinux2014_x86_64.whl (555 kB)\n",
            "\u001b[K     |████████████████████████████████| 555 kB 8.6 MB/s \n",
            "\u001b[?25hCollecting pycryptodome<4.0.0,>=3.9.9\n",
            "  Downloading pycryptodome-3.14.1-cp35-abi3-manylinux2010_x86_64.whl (2.0 MB)\n",
            "\u001b[K     |████████████████████████████████| 2.0 MB 50.2 MB/s \n",
            "\u001b[?25hCollecting eth_keys\n",
            "  Downloading eth_keys-0.3.4-py3-none-any.whl (21 kB)\n",
            "Collecting eth-typing<3.0.0,>=2.2.1\n",
            "  Downloading eth_typing-2.3.0-py3-none-any.whl (6.2 kB)\n",
            "Collecting eth-utils<2.0.0,>=1.8.2\n",
            "  Downloading eth_utils-1.10.0-py3-none-any.whl (24 kB)\n",
            "Requirement already satisfied: cffi>=1.3.0 in /usr/local/lib/python3.7/dist-packages (from coincurve<16,>=13->eciespy) (1.15.0)\n",
            "Collecting asn1crypto\n",
            "  Downloading asn1crypto-1.5.1-py2.py3-none-any.whl (105 kB)\n",
            "\u001b[K     |████████████████████████████████| 105 kB 66.4 MB/s \n",
            "\u001b[?25hRequirement already satisfied: pycparser in /usr/local/lib/python3.7/dist-packages (from cffi>=1.3.0->coincurve<16,>=13->eciespy) (2.21)\n",
            "Collecting cytoolz<1.0.0,>=0.10.1\n",
            "  Downloading cytoolz-0.11.2.tar.gz (481 kB)\n",
            "\u001b[K     |████████████████████████████████| 481 kB 62.3 MB/s \n",
            "\u001b[?25hCollecting eth-hash<0.4.0,>=0.3.1\n",
            "  Downloading eth_hash-0.3.2-py3-none-any.whl (8.8 kB)\n",
            "Requirement already satisfied: toolz>=0.8.0 in /usr/local/lib/python3.7/dist-packages (from cytoolz<1.0.0,>=0.10.1->eth-utils<2.0.0,>=1.8.2->eth_keys) (0.11.2)\n",
            "Building wheels for collected packages: cytoolz, qrcode\n",
            "  Building wheel for cytoolz (setup.py) ... \u001b[?25l\u001b[?25hdone\n",
            "  Created wheel for cytoolz: filename=cytoolz-0.11.2-cp37-cp37m-linux_x86_64.whl size=1230875 sha256=c8f61c28a7f908e08e3e62a6d13c2d5f8711bdca9b59bf7177c9154ea0e16806\n",
            "  Stored in directory: /root/.cache/pip/wheels/38/70/71/ca13ea3d36ccd0b3d0ec7d7a4ca67522048d695b556bba4f59\n",
            "  Building wheel for qrcode (setup.py) ... \u001b[?25l\u001b[?25hdone\n",
            "  Created wheel for qrcode: filename=qrcode-7.3.1-py3-none-any.whl size=40402 sha256=24ac8b8f2537123372071ae2558982debdefc5218ac4e5b57df1a31a4fbedd48\n",
            "  Stored in directory: /root/.cache/pip/wheels/93/d7/39/a4111be2cfb8e679938aa671a37888b6afb1f9e7d748e94492\n",
            "Successfully built cytoolz qrcode\n",
            "Installing collected packages: eth-typing, eth-hash, cytoolz, eth-utils, asn1crypto, pycryptodome, eth-keys, coincurve, qrcode, eciespy, cryptos, base58\n",
            "Successfully installed asn1crypto-1.5.1 base58-2.1.1 coincurve-15.0.1 cryptos-1.36 cytoolz-0.11.2 eciespy-0.3.11 eth-hash-0.3.2 eth-keys-0.3.4 eth-typing-2.3.0 eth-utils-1.10.0 pycryptodome-3.14.1 qrcode-7.3.1\n"
          ]
        }
      ],
      "source": [
        "! git clone https://github.com/ProfDoeg/Colegio_Invisible.git\n",
        "! pip install eciespy eth_keys cryptos qrcode base58 "
      ]
    },
    {
      "cell_type": "markdown",
      "metadata": {
        "id": "UCBESxaRyf0_"
      },
      "source": [
        "## Importaciones y Definiciones (Imports and Definitions)\n",
        "\n",
        "Crear funciones para generar pares de claves y direcciones de criptomonedas.\n",
        "***\n",
        "Create functions for generating key pairs and cryptomoneda addresses."
      ]
    },
    {
      "cell_type": "code",
      "execution_count": 5,
      "metadata": {
        "id": "vQZ_mWc-yf1A"
      },
      "outputs": [],
      "source": [
        "import hashlib\n",
        "import os\n",
        "import getpass\n",
        "import ecies\n",
        "import eth_keys\n",
        "import cryptos\n",
        "import qrcode\n",
        "import base58\n",
        "from PIL import Image\n",
        "import matplotlib.pyplot as plt\n",
        "%matplotlib inline"
      ]
    },
    {
      "cell_type": "code",
      "source": [
        "from Crypto.Random import get_random_bytes\n",
        "\n",
        "#def gen_privKey():\n",
        "#    privKey=eth_keys.keys.PrivateKey(get_random_bytes(32) )\n",
        "#    return privKey\n",
        "\n",
        "doge=cryptos.Doge()"
      ],
      "metadata": {
        "id": "tQHy0yevNxJs"
      },
      "execution_count": 6,
      "outputs": []
    },
    {
      "cell_type": "code",
      "source": [
        "privnum_try=get_random_bytes(32)\n",
        "addy_try=doge.privtoaddr(privnum_try)\n",
        "addy_try"
      ],
      "metadata": {
        "colab": {
          "base_uri": "https://localhost:8080/",
          "height": 35
        },
        "id": "-KABXWb4OLcl",
        "outputId": "bb75a21c-88d7-41dc-91aa-aada37685b87"
      },
      "execution_count": 8,
      "outputs": [
        {
          "output_type": "execute_result",
          "data": {
            "text/plain": [
              "'DDNcfmWFt4ZdnNRppzXKDA2dG58PcQtK3p'"
            ],
            "application/vnd.google.colaboratory.intrinsic+json": {
              "type": "string"
            }
          },
          "metadata": {},
          "execution_count": 8
        }
      ]
    },
    {
      "cell_type": "code",
      "source": [
        "import getpass\n",
        "passwrd=getpass.getpass('password')\n"
      ],
      "metadata": {
        "colab": {
          "base_uri": "https://localhost:8080/"
        },
        "id": "V9d0YwnE835A",
        "outputId": "e2778d24-f952-4e8a-ba09-3bbfe2a64202"
      },
      "execution_count": 9,
      "outputs": [
        {
          "name": "stdout",
          "output_type": "stream",
          "text": [
            "password··········\n"
          ]
        }
      ]
    },
    {
      "cell_type": "code",
      "source": [
        "from google.colab import drive\n",
        "drive.mount('/content/drive')"
      ],
      "metadata": {
        "id": "bGiuX9ZvJD8M",
        "colab": {
          "base_uri": "https://localhost:8080/"
        },
        "outputId": "79670e16-ce28-43aa-b264-3cc5f3d3f5fb"
      },
      "execution_count": 10,
      "outputs": [
        {
          "output_type": "stream",
          "name": "stdout",
          "text": [
            "Drive already mounted at /content/drive; to attempt to forcibly remount, call drive.mount(\"/content/drive\", force_remount=True).\n"
          ]
        }
      ]
    },
    {
      "cell_type": "code",
      "source": [
        "! ls drive/MyDrive"
      ],
      "metadata": {
        "colab": {
          "base_uri": "https://localhost:8080/"
        },
        "id": "ijJRbvg0AAFt",
        "outputId": "7d07aa78-fba1-4a53-df64-fd4ca7db1153"
      },
      "execution_count": 15,
      "outputs": [
        {
          "output_type": "stream",
          "name": "stdout",
          "text": [
            " cinv  'Colab Notebooks'   test\n"
          ]
        }
      ]
    },
    {
      "cell_type": "code",
      "source": [
        "! ls "
      ],
      "metadata": {
        "colab": {
          "base_uri": "https://localhost:8080/"
        },
        "id": "5uXApZuI_Rfj",
        "outputId": "755ac1db-2190-4151-b137-149c528390c4"
      },
      "execution_count": 12,
      "outputs": [
        {
          "output_type": "stream",
          "name": "stdout",
          "text": [
            "bin\t datalab  home\t lib64\topt\t    root  srv\t\t     tmp    var\n",
            "boot\t dev\t  lib\t media\tproc\t    run   sys\t\t     tools\n",
            "content  etc\t  lib32  mnt\tpython-apt  sbin  tensorflow-1.15.2  usr\n"
          ]
        }
      ]
    },
    {
      "cell_type": "code",
      "source": [
        "exe_string=f'python Colegio_Invisible/scripts/ecc_keyboard.py drive/MyDrive/cinv/vanity2_privkey.bin {passwrd} {privnum_try.hex()}'\n",
        "!{exe_string}\n"
      ],
      "metadata": {
        "colab": {
          "base_uri": "https://localhost:8080/"
        },
        "id": "5E8JHD9N7Jkg",
        "outputId": "ddb36f1e-323d-450a-9182-472921861b19"
      },
      "execution_count": 16,
      "outputs": [
        {
          "output_type": "stream",
          "name": "stdout",
          "text": [
            "Key generation complete\n",
            "Generación de la clave está hecho\n",
            "La clave esta cifrada y escrita en un archivo binario:\n",
            "Key encrypted and written to binary file: drive/MyDrive/cinv/vanity2_privkey.bin\n",
            "1669fb214d62794d1b889c2c879987d7030cee993c6df6572b7b7764a57cf12bfc8b920156a1caa7708eea3b950f55108655ac365b181c5f63727a518415e725\n"
          ]
        }
      ]
    },
    {
      "cell_type": "code",
      "source": [
        "match_text='drdoeg'.lower()\n",
        "length=len(match_text)\n",
        "while True:\n",
        "  privnum_try=get_random_bytes(32)\n",
        "  addy_try=doge.privtoaddr(privnum_try)\n",
        "  if addy_try[:length].lower()==match_text:\n",
        "    break\n",
        "print(addy_try)\n",
        "\n",
        "exe_string=f'python Colegio_Invisible/scripts/ecc_keyboard.py .gdrive/MyDrive/cinv/vanity2_privkey.bin {passwrd} {privnum_try.hex()}'\n",
        "!{exe_string}"
      ],
      "metadata": {
        "colab": {
          "base_uri": "https://localhost:8080/"
        },
        "id": "r0lxtRMnOrZJ",
        "outputId": "5b5f0bda-c745-40d7-ab77-00f68b027949"
      },
      "execution_count": 33,
      "outputs": [
        {
          "output_type": "stream",
          "name": "stdout",
          "text": [
            "DRdoEgDC7naAn9bsXEHqdCCPaYN7S8i5ro\n",
            "Key generation complete\n",
            "Generación de la clave está hecho\n",
            "La clave esta cifrada y escrita en un archivo binario:\n",
            "Key encrypted and written to binary file: ../gdrive/MyDrive/cinv/vanity_privkey.bin\n",
            "5bb1ebccc8554845c5780144da06393decba450ceab6b7eff93d57375afa1f1f6b4d8e22b0735bcf3c61510bb06d3ab33e873a1bd4720959ac52e3aa37713264\n"
          ]
        }
      ]
    },
    {
      "cell_type": "code",
      "source": [
        "58**5"
      ],
      "metadata": {
        "colab": {
          "base_uri": "https://localhost:8080/"
        },
        "id": "vzrPfthsf5bw",
        "outputId": "60ceb10b-3c2c-4f30-9c50-f6de93875651"
      },
      "execution_count": 34,
      "outputs": [
        {
          "output_type": "execute_result",
          "data": {
            "text/plain": [
              "656356768"
            ]
          },
          "metadata": {},
          "execution_count": 34
        }
      ]
    }
  ],
  "metadata": {
    "kernelspec": {
      "display_name": "Python 3",
      "language": "python",
      "name": "python3"
    },
    "language_info": {
      "codemirror_mode": {
        "name": "ipython",
        "version": 3
      },
      "file_extension": ".py",
      "mimetype": "text/x-python",
      "name": "python",
      "nbconvert_exporter": "python",
      "pygments_lexer": "ipython3",
      "version": "3.7.6"
    },
    "colab": {
      "name": "10_cuaderno.ipynb",
      "provenance": [],
      "machine_shape": "hm",
      "background_execution": "on"
    }
  },
  "nbformat": 4,
  "nbformat_minor": 0
}