{
  "cells": [
    {
      "cell_type": "markdown",
      "metadata": {
        "id": "p8UZNRNTyf01"
      },
      "source": [
        "# Direcciones,\n",
        "# Deuda Alquimia,\n",
        "# y las Transformas\n",
        "\n",
        "<a href=\"https://colab.research.google.com/github/ProfDoeg/Colegio_Invisible/blob/master/10_cuaderno.ipynb\" target=\"_parent\"><img src=\"https://colab.research.google.com/assets/colab-badge.svg\" alt=\"Open In Colab\"/></a>"
      ]
    },
    {
      "cell_type": "markdown",
      "source": [
        "# Preparar el Espacio (Prepare the Space)"
      ],
      "metadata": {
        "id": "qfBpcV6BAe2n"
      }
    },
    {
      "cell_type": "code",
      "execution_count": 1,
      "metadata": {
        "id": "U5xDMfi6yf06",
        "outputId": "6cf21770-70db-46bc-ac4f-a0602bdadb2e",
        "colab": {
          "base_uri": "https://localhost:8080/"
        }
      },
      "outputs": [
        {
          "output_type": "stream",
          "name": "stdout",
          "text": [
            "Cloning into 'Colegio_Invisible'...\n",
            "remote: Enumerating objects: 922, done.\u001b[K\n",
            "remote: Counting objects: 100% (736/736), done.\u001b[K\n",
            "remote: Compressing objects: 100% (709/709), done.\u001b[K\n",
            "remote: Total 922 (delta 491), reused 29 (delta 25), pack-reused 186\u001b[K\n",
            "Receiving objects: 100% (922/922), 57.60 MiB | 17.95 MiB/s, done.\n",
            "Resolving deltas: 100% (603/603), done.\n",
            "Collecting eciespy\n",
            "  Downloading eciespy-0.3.11-py3-none-any.whl (11 kB)\n",
            "Collecting eth_keys\n",
            "  Downloading eth_keys-0.4.0-py3-none-any.whl (21 kB)\n",
            "Collecting cryptos\n",
            "  Downloading cryptos-1.36-py3-none-any.whl (69 kB)\n",
            "\u001b[K     |████████████████████████████████| 69 kB 7.8 MB/s \n",
            "\u001b[?25hCollecting qrcode\n",
            "  Downloading qrcode-7.3.1.tar.gz (43 kB)\n",
            "\u001b[K     |████████████████████████████████| 43 kB 2.0 MB/s \n",
            "\u001b[?25hCollecting base58\n",
            "  Downloading base58-2.1.1-py3-none-any.whl (5.6 kB)\n",
            "Collecting eth_keys\n",
            "  Downloading eth_keys-0.3.4-py3-none-any.whl (21 kB)\n",
            "Collecting coincurve<16,>=13\n",
            "  Downloading coincurve-15.0.1-cp37-cp37m-manylinux_2_17_x86_64.manylinux2014_x86_64.whl (555 kB)\n",
            "\u001b[K     |████████████████████████████████| 555 kB 61.0 MB/s \n",
            "\u001b[?25hCollecting pycryptodome<4.0.0,>=3.9.9\n",
            "  Downloading pycryptodome-3.14.1-cp35-abi3-manylinux2010_x86_64.whl (2.0 MB)\n",
            "\u001b[K     |████████████████████████████████| 2.0 MB 54.6 MB/s \n",
            "\u001b[?25hCollecting eth-utils<2.0.0,>=1.8.2\n",
            "  Downloading eth_utils-1.10.0-py3-none-any.whl (24 kB)\n",
            "Collecting eth-typing<3.0.0,>=2.2.1\n",
            "  Downloading eth_typing-2.3.0-py3-none-any.whl (6.2 kB)\n",
            "Collecting asn1crypto\n",
            "  Downloading asn1crypto-1.5.1-py2.py3-none-any.whl (105 kB)\n",
            "\u001b[K     |████████████████████████████████| 105 kB 62.4 MB/s \n",
            "\u001b[?25hRequirement already satisfied: cffi>=1.3.0 in /usr/local/lib/python3.7/dist-packages (from coincurve<16,>=13->eciespy) (1.15.0)\n",
            "Requirement already satisfied: pycparser in /usr/local/lib/python3.7/dist-packages (from cffi>=1.3.0->coincurve<16,>=13->eciespy) (2.21)\n",
            "Collecting cytoolz<1.0.0,>=0.10.1\n",
            "  Downloading cytoolz-0.11.2.tar.gz (481 kB)\n",
            "\u001b[K     |████████████████████████████████| 481 kB 70.7 MB/s \n",
            "\u001b[?25hCollecting eth-hash<0.4.0,>=0.3.1\n",
            "  Downloading eth_hash-0.3.2-py3-none-any.whl (8.8 kB)\n",
            "Requirement already satisfied: toolz>=0.8.0 in /usr/local/lib/python3.7/dist-packages (from cytoolz<1.0.0,>=0.10.1->eth-utils<2.0.0,>=1.8.2->eth_keys) (0.11.2)\n",
            "Building wheels for collected packages: cytoolz, qrcode\n",
            "  Building wheel for cytoolz (setup.py) ... \u001b[?25l\u001b[?25hdone\n",
            "  Created wheel for cytoolz: filename=cytoolz-0.11.2-cp37-cp37m-linux_x86_64.whl size=1230843 sha256=2c1b5dc4d3c6cdff90ef881a6ee22b185f926e093525265718d000d81e49eef2\n",
            "  Stored in directory: /root/.cache/pip/wheels/38/70/71/ca13ea3d36ccd0b3d0ec7d7a4ca67522048d695b556bba4f59\n",
            "  Building wheel for qrcode (setup.py) ... \u001b[?25l\u001b[?25hdone\n",
            "  Created wheel for qrcode: filename=qrcode-7.3.1-py3-none-any.whl size=40402 sha256=9f4856722714c00d3c2290c28ba0d28836129955c113d36076d78eb28de8ff48\n",
            "  Stored in directory: /root/.cache/pip/wheels/93/d7/39/a4111be2cfb8e679938aa671a37888b6afb1f9e7d748e94492\n",
            "Successfully built cytoolz qrcode\n",
            "Installing collected packages: eth-typing, eth-hash, cytoolz, eth-utils, asn1crypto, pycryptodome, eth-keys, coincurve, qrcode, eciespy, cryptos, base58\n",
            "Successfully installed asn1crypto-1.5.1 base58-2.1.1 coincurve-15.0.1 cryptos-1.36 cytoolz-0.11.2 eciespy-0.3.11 eth-hash-0.3.2 eth-keys-0.3.4 eth-typing-2.3.0 eth-utils-1.10.0 pycryptodome-3.14.1 qrcode-7.3.1\n"
          ]
        }
      ],
      "source": [
        "! git clone https://github.com/ProfDoeg/Colegio_Invisible.git\n",
        "! pip install eciespy eth_keys cryptos qrcode base58 "
      ]
    },
    {
      "cell_type": "markdown",
      "metadata": {
        "id": "UCBESxaRyf0_"
      },
      "source": [
        "## Importaciones y Definiciones (Imports and Definitions)\n",
        "\n",
        "Crear funciones para generar pares de claves y direcciones de criptomonedas.\n",
        "***\n",
        "Create functions for generating key pairs and cryptomoneda addresses."
      ]
    },
    {
      "cell_type": "code",
      "execution_count": 2,
      "metadata": {
        "id": "vQZ_mWc-yf1A"
      },
      "outputs": [],
      "source": [
        "import hashlib\n",
        "import os\n",
        "import getpass\n",
        "import ecies\n",
        "import eth_keys\n",
        "import cryptos\n",
        "import qrcode\n",
        "import base58\n",
        "from PIL import Image\n",
        "import matplotlib.pyplot as plt\n",
        "%matplotlib inline"
      ]
    },
    {
      "cell_type": "code",
      "source": [
        "from Crypto.Random import get_random_bytes\n",
        "\n",
        "#def gen_privKey():\n",
        "#    privKey=eth_keys.keys.PrivateKey(get_random_bytes(32) )\n",
        "#    return privKey\n",
        "\n",
        "doge=cryptos.Doge()"
      ],
      "metadata": {
        "id": "tQHy0yevNxJs"
      },
      "execution_count": 3,
      "outputs": []
    },
    {
      "cell_type": "code",
      "source": [
        "privnum_try=get_random_bytes(32)\n",
        "addy_try=doge.privtoaddr(privnum_try)\n",
        "addy_try"
      ],
      "metadata": {
        "colab": {
          "base_uri": "https://localhost:8080/",
          "height": 35
        },
        "id": "-KABXWb4OLcl",
        "outputId": "a1644141-3e70-4cd9-cb76-1a7a9aca2deb"
      },
      "execution_count": 4,
      "outputs": [
        {
          "output_type": "execute_result",
          "data": {
            "text/plain": [
              "'DRnvspf37o7fzngoUNj57xNtQ9b9Rv5YPj'"
            ],
            "application/vnd.google.colaboratory.intrinsic+json": {
              "type": "string"
            }
          },
          "metadata": {},
          "execution_count": 4
        }
      ]
    },
    {
      "cell_type": "code",
      "source": [
        "import getpass\n",
        "passwrd=getpass.getpass('password')\n"
      ],
      "metadata": {
        "colab": {
          "base_uri": "https://localhost:8080/"
        },
        "id": "V9d0YwnE835A",
        "outputId": "ede2013a-e9fa-4f36-92c3-fa0d13dc2f8a"
      },
      "execution_count": 5,
      "outputs": [
        {
          "name": "stdout",
          "output_type": "stream",
          "text": [
            "password··········\n"
          ]
        }
      ]
    },
    {
      "cell_type": "code",
      "source": [
        "passwrd"
      ],
      "metadata": {
        "id": "VpA_QkQ-Mqd7",
        "outputId": "9e66b33d-7a7a-4618-abae-f3c16a0daffb",
        "colab": {
          "base_uri": "https://localhost:8080/",
          "height": 35
        }
      },
      "execution_count": 6,
      "outputs": [
        {
          "output_type": "execute_result",
          "data": {
            "text/plain": [
              "'Beadog666!'"
            ],
            "application/vnd.google.colaboratory.intrinsic+json": {
              "type": "string"
            }
          },
          "metadata": {},
          "execution_count": 6
        }
      ]
    },
    {
      "cell_type": "code",
      "source": [
        "from google.colab import drive\n",
        "drive.mount('/content/drive')"
      ],
      "metadata": {
        "id": "bGiuX9ZvJD8M",
        "colab": {
          "base_uri": "https://localhost:8080/"
        },
        "outputId": "bbb382bb-c9c1-4b8c-d0ca-a90a5ec8f7aa"
      },
      "execution_count": 7,
      "outputs": [
        {
          "output_type": "stream",
          "name": "stdout",
          "text": [
            "Mounted at /content/drive\n"
          ]
        }
      ]
    },
    {
      "cell_type": "code",
      "source": [
        "! ls "
      ],
      "metadata": {
        "colab": {
          "base_uri": "https://localhost:8080/"
        },
        "id": "5uXApZuI_Rfj",
        "outputId": "4ba488df-7f7c-46ce-8d5f-ff7ba062da87"
      },
      "execution_count": 9,
      "outputs": [
        {
          "output_type": "stream",
          "name": "stdout",
          "text": [
            "Colegio_Invisible  drive  sample_data\n"
          ]
        }
      ]
    },
    {
      "cell_type": "code",
      "source": [
        "! ls drive/MyDrive"
      ],
      "metadata": {
        "colab": {
          "base_uri": "https://localhost:8080/"
        },
        "id": "ijJRbvg0AAFt",
        "outputId": "066ac853-a58b-4781-81d0-40429170f55e"
      },
      "execution_count": 12,
      "outputs": [
        {
          "output_type": "stream",
          "name": "stdout",
          "text": [
            " cinv  'Colab Notebooks'   test\n"
          ]
        }
      ]
    },
    {
      "cell_type": "code",
      "source": [
        "exe_string=f'python Colegio_Invisible/scripts/ecc_keyboard.py drive/MyDrive/cinv/vanity3_privkey.bin {passwrd} {privnum_try.hex()}'\n",
        "!{exe_string}\n"
      ],
      "metadata": {
        "colab": {
          "base_uri": "https://localhost:8080/"
        },
        "id": "5E8JHD9N7Jkg",
        "outputId": "1076e7a5-7759-480e-b598-da2671426721"
      },
      "execution_count": 13,
      "outputs": [
        {
          "output_type": "stream",
          "name": "stdout",
          "text": [
            "Key generation complete\n",
            "Generación de la clave está hecho\n",
            "La clave esta cifrada y escrita en un archivo binario:\n",
            "Key encrypted and written to binary file: drive/MyDrive/cinv/vanity3_privkey.bin\n",
            "bb15fac8434fe837545fae1c32210f0df92d3eb8b9c6f7f2a5fc64ca1e255cd4fd8a543f0696d7dbac53a60191fe2c66b79f96f3c98b4cec9bd77957137e1271\n"
          ]
        }
      ]
    },
    {
      "cell_type": "code",
      "source": [
        "match_text='dc'.lower()\n",
        "length=len(match_text)\n",
        "while True:\n",
        "  privnum_try=get_random_bytes(32)\n",
        "  addy_try=doge.privtoaddr(privnum_try)\n",
        "  if addy_try[:length].lower()==match_text:\n",
        "    break\n",
        "print(addy_try)\n",
        "\n",
        "exe_string=f'python Colegio_Invisible/scripts/ecc_keyboard.py drive/MyDrive/cinv/chris_privkey.bin {passwrd} {privnum_try.hex()}'\n",
        "!{exe_string}"
      ],
      "metadata": {
        "colab": {
          "base_uri": "https://localhost:8080/"
        },
        "id": "r0lxtRMnOrZJ",
        "outputId": "1b80637f-6fa2-4849-f5ac-340ad5c5819a"
      },
      "execution_count": 17,
      "outputs": [
        {
          "output_type": "stream",
          "name": "stdout",
          "text": [
            "DCwoowQ3mLkM2DMahLGH9h6qndjZ8k23Ty\n",
            "Key generation complete\n",
            "Generación de la clave está hecho\n",
            "La clave esta cifrada y escrita en un archivo binario:\n",
            "Key encrypted and written to binary file: drive/MyDrive/cinv/chris_privkey.bin\n",
            "f6aef5ef44b261935f70420c99edc8e632bd9724163c73240dc67381c8be260593593d562c86f2f2975c5d1df1111f12cdbddbafd6d785a82bad239e52ba739c\n"
          ]
        }
      ]
    },
    {
      "cell_type": "code",
      "source": [
        "58**5"
      ],
      "metadata": {
        "colab": {
          "base_uri": "https://localhost:8080/"
        },
        "id": "vzrPfthsf5bw",
        "outputId": "60ceb10b-3c2c-4f30-9c50-f6de93875651"
      },
      "execution_count": null,
      "outputs": [
        {
          "output_type": "execute_result",
          "data": {
            "text/plain": [
              "656356768"
            ]
          },
          "metadata": {},
          "execution_count": 34
        }
      ]
    }
  ],
  "metadata": {
    "kernelspec": {
      "display_name": "Python 3",
      "language": "python",
      "name": "python3"
    },
    "language_info": {
      "codemirror_mode": {
        "name": "ipython",
        "version": 3
      },
      "file_extension": ".py",
      "mimetype": "text/x-python",
      "name": "python",
      "nbconvert_exporter": "python",
      "pygments_lexer": "ipython3",
      "version": "3.7.6"
    },
    "colab": {
      "name": "10_cuaderno.ipynb",
      "provenance": [],
      "machine_shape": "hm",
      "background_execution": "on"
    }
  },
  "nbformat": 4,
  "nbformat_minor": 0
}