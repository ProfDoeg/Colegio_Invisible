{
  "nbformat": 4,
  "nbformat_minor": 0,
  "metadata": {
    "colab": {
      "name": "19_cuaderno.ipynb",
      "provenance": [],
      "authorship_tag": "ABX9TyP3frhlwq7uW5wKAoY4dAUc",
      "include_colab_link": true
    },
    "kernelspec": {
      "name": "python3",
      "display_name": "Python 3"
    },
    "language_info": {
      "name": "python"
    }
  },
  "cells": [
    {
      "cell_type": "markdown",
      "metadata": {
        "id": "view-in-github",
        "colab_type": "text"
      },
      "source": [
        "<a href=\"https://colab.research.google.com/github/ProfDoeg/Colegio_Invisible/blob/main/19_cuaderno.ipynb\" target=\"_parent\"><img src=\"https://colab.research.google.com/assets/colab-badge.svg\" alt=\"Open In Colab\"/></a>"
      ]
    },
    {
      "cell_type": "code",
      "execution_count": 1,
      "metadata": {
        "colab": {
          "base_uri": "https://localhost:8080/"
        },
        "id": "ERT60jl5s4EK",
        "outputId": "7e794fb3-6eea-4e27-ddbf-8c9e04f47061"
      },
      "outputs": [
        {
          "output_type": "stream",
          "name": "stdout",
          "text": [
            "Looking in indexes: https://pypi.org/simple, https://us-python.pkg.dev/colab-wheels/public/simple/\n",
            "Collecting hdwallet\n",
            "  Downloading hdwallet-2.1.1-py3-none-any.whl (68 kB)\n",
            "\u001b[K     |████████████████████████████████| 68 kB 1.3 MB/s \n",
            "\u001b[?25hCollecting py_crypto_hd_wallet\n",
            "  Downloading py_crypto_hd_wallet-1.1.0.tar.gz (96 kB)\n",
            "\u001b[K     |████████████████████████████████| 96 kB 4.1 MB/s \n",
            "\u001b[?25hCollecting cryptos\n",
            "  Downloading cryptos-1.36-py3-none-any.whl (69 kB)\n",
            "\u001b[K     |████████████████████████████████| 69 kB 6.2 MB/s \n",
            "\u001b[?25hCollecting mnemonic<1,>=0.19\n",
            "  Downloading mnemonic-0.20-py3-none-any.whl (62 kB)\n",
            "\u001b[K     |████████████████████████████████| 62 kB 576 kB/s \n",
            "\u001b[?25hCollecting base58<3,>=2.0.1\n",
            "  Downloading base58-2.1.1-py3-none-any.whl (5.6 kB)\n",
            "Collecting pysha3<2,>=1.0.2\n",
            "  Downloading pysha3-1.0.2.tar.gz (829 kB)\n",
            "\u001b[K     |████████████████████████████████| 829 kB 50.1 MB/s \n",
            "\u001b[?25hCollecting ecdsa<1,>=0.13\n",
            "  Downloading ecdsa-0.17.0-py2.py3-none-any.whl (119 kB)\n",
            "\u001b[K     |████████████████████████████████| 119 kB 62.5 MB/s \n",
            "\u001b[?25hRequirement already satisfied: six>=1.9.0 in /usr/local/lib/python3.7/dist-packages (from ecdsa<1,>=0.13->hdwallet) (1.15.0)\n",
            "Collecting bip_utils~=2.3\n",
            "  Downloading bip_utils-2.4.0.tar.gz (278 kB)\n",
            "\u001b[K     |████████████████████████████████| 278 kB 44.1 MB/s \n",
            "\u001b[?25hCollecting coincurve<18.0.0,>=15.0.1\n",
            "  Downloading coincurve-17.0.0-cp37-cp37m-manylinux_2_17_x86_64.manylinux2014_x86_64.whl (1.3 MB)\n",
            "\u001b[K     |████████████████████████████████| 1.3 MB 42.5 MB/s \n",
            "\u001b[?25hRequirement already satisfied: crcmod~=1.7 in /usr/local/lib/python3.7/dist-packages (from bip_utils~=2.3->py_crypto_hd_wallet) (1.7)\n",
            "Collecting ed25519-blake2b~=1.4\n",
            "  Downloading ed25519-blake2b-1.4.tar.gz (871 kB)\n",
            "\u001b[K     |████████████████████████████████| 871 kB 49.3 MB/s \n",
            "\u001b[?25hCollecting pycryptodome~=3.6\n",
            "  Downloading pycryptodome-3.15.0-cp35-abi3-manylinux2010_x86_64.whl (2.3 MB)\n",
            "\u001b[K     |████████████████████████████████| 2.3 MB 27.0 MB/s \n",
            "\u001b[?25hCollecting pynacl~=1.1\n",
            "  Downloading PyNaCl-1.5.0-cp36-abi3-manylinux_2_17_x86_64.manylinux2014_x86_64.manylinux_2_24_x86_64.whl (856 kB)\n",
            "\u001b[K     |████████████████████████████████| 856 kB 20.5 MB/s \n",
            "\u001b[?25hCollecting py-sr25519-bindings<2.0.0,>=0.1.3\n",
            "  Downloading py_sr25519_bindings-0.1.4-cp37-cp37m-manylinux_2_5_x86_64.manylinux1_x86_64.whl (1.0 MB)\n",
            "\u001b[K     |████████████████████████████████| 1.0 MB 65.7 MB/s \n",
            "\u001b[?25hRequirement already satisfied: cffi>=1.3.0 in /usr/local/lib/python3.7/dist-packages (from coincurve<18.0.0,>=15.0.1->bip_utils~=2.3->py_crypto_hd_wallet) (1.15.0)\n",
            "Collecting asn1crypto\n",
            "  Downloading asn1crypto-1.5.1-py2.py3-none-any.whl (105 kB)\n",
            "\u001b[K     |████████████████████████████████| 105 kB 58.0 MB/s \n",
            "\u001b[?25hRequirement already satisfied: pycparser in /usr/local/lib/python3.7/dist-packages (from cffi>=1.3.0->coincurve<18.0.0,>=15.0.1->bip_utils~=2.3->py_crypto_hd_wallet) (2.21)\n",
            "Building wheels for collected packages: pysha3, py-crypto-hd-wallet, bip-utils, ed25519-blake2b\n",
            "  Building wheel for pysha3 (setup.py) ... \u001b[?25l\u001b[?25hdone\n",
            "  Created wheel for pysha3: filename=pysha3-1.0.2-cp37-cp37m-linux_x86_64.whl size=133594 sha256=a4ef850b2ab86af35c5e6c8fcb97fc46d079c64c4d1c27763f6f26159d356d45\n",
            "  Stored in directory: /root/.cache/pip/wheels/0d/9e/bc/789fa0986c1fef30cafcc29da4dd07bc17ecba3fab78e27ed6\n",
            "  Building wheel for py-crypto-hd-wallet (setup.py) ... \u001b[?25l\u001b[?25hdone\n",
            "  Created wheel for py-crypto-hd-wallet: filename=py_crypto_hd_wallet-1.1.0-py3-none-any.whl size=64294 sha256=c487e229f1f408e3dbbe86fa7452fec7d5d644627056037ad95c3a9d77fb6acb\n",
            "  Stored in directory: /root/.cache/pip/wheels/81/44/6c/ffd625b339e990363ced6ee1e1e80dd817833e41b284ad2d3d\n",
            "  Building wheel for bip-utils (setup.py) ... \u001b[?25l\u001b[?25hdone\n",
            "  Created wheel for bip-utils: filename=bip_utils-2.4.0-py3-none-any.whl size=471169 sha256=b3318ca5845ee5ebcffcc50a9ec39cfb212d98293986944005624e1d1ee86591\n",
            "  Stored in directory: /root/.cache/pip/wheels/ca/06/12/f8a09310e838632c2bad9e2d58ce29bd05591fe38de1b2c97f\n",
            "  Building wheel for ed25519-blake2b (setup.py) ... \u001b[?25l\u001b[?25hdone\n",
            "  Created wheel for ed25519-blake2b: filename=ed25519_blake2b-1.4-cp37-cp37m-linux_x86_64.whl size=104518 sha256=d0cece3d9ca1f1fc4ccb958a327375de2b2df16c08fb080f7134d4932298a638\n",
            "  Stored in directory: /root/.cache/pip/wheels/37/7a/30/c952781d2bb70000791b68e2a38237f415f46e0d654d682c2a\n",
            "Successfully built pysha3 py-crypto-hd-wallet bip-utils ed25519-blake2b\n",
            "Installing collected packages: asn1crypto, pynacl, pycryptodome, py-sr25519-bindings, ed25519-blake2b, ecdsa, coincurve, pysha3, mnemonic, bip-utils, base58, py-crypto-hd-wallet, hdwallet, cryptos\n",
            "Successfully installed asn1crypto-1.5.1 base58-2.1.1 bip-utils-2.4.0 coincurve-17.0.0 cryptos-1.36 ecdsa-0.17.0 ed25519-blake2b-1.4 hdwallet-2.1.1 mnemonic-0.20 py-crypto-hd-wallet-1.1.0 py-sr25519-bindings-0.1.4 pycryptodome-3.15.0 pynacl-1.5.0 pysha3-1.0.2\n"
          ]
        }
      ],
      "source": [
        "! pip install hdwallet py_crypto_hd_wallet cryptos"
      ]
    },
    {
      "cell_type": "markdown",
      "source": [
        "# Our Key Handing Up Until Now\n",
        "\n",
        "Real drawbacks:\n",
        "\n",
        "- To send and recieve coins we would have to create a new private key, public key and address. \n",
        "- If we wanted to send coins from one address to another we'd have to create another private key, public key and address.\n",
        "- If we wanted to send to one another we'd have to send each other our addresses.\n",
        "- If we wanted to create a multisig wallet together we'd have to share our public keys.\n",
        "\n",
        "Wouldn't it be nice if we could generate a single private key from which we could generate a whole set of private keys in a deterministic fashion?\n",
        "\n",
        "Wouldn't it be nice if we could share a single public key (associate with the above single private key) from which we could generate the whole set of associated public keys in a deterministic fashion?\n",
        "\n",
        "**This better world is possible with hierarchical deterministic wallets (HD wallets)**\n",
        "\n",
        "\n",
        "Hierarchical deterministic wallets, also know as HD-wallets, are the standard in the cryptocurrency world but applicable for any application where we new to generate and share keys in this fashion.  We will learn how to use them appropriately.\n",
        "\n",
        "https://pypi.org/project/py-crypto-hd-wallet/\n",
        "\n",
        "\n",
        "\n",
        "# BIP44 Derivation Paths\n",
        "\n",
        "| Coin | Symbol | Derivation Path |\n",
        "| :------ | :----: | ----------:|\n",
        "|**Bitcoin**| BTC |`m/44'/0'/0'/0/0`|\n",
        "|**Litecoin**| LTC |`m/44'/2'/0'/0/0`|\n",
        "|**Dogecoin**| DOGE |`m/44'/3'/0'/0/0`|\n",
        "|**DigiByte**| DGB |`m/44'/20'/0'/0/0`|\n",
        "|**Zcash**| ZEC |`m/44'/133'/0'/0/0`|\n",
        "|**BitcoinCash**| BCH |`m/44'/145'/0'/0/0`|\n",
        "|**BitcoinSV**| BSV | `m/44'/236'/0'/0/0`|\n",
        "\n",
        "Bitcoin Improvement Proposal (BIP) 44 defines the standard derivation path for wallets which generate Pay-to-Public-Key-Hash (P2PKH) addresses. BIP 44 also defines the prefixes to be used with associated extended keys.\n",
        "\n",
        "According to BIP 44, wallets which generate P2PKH addresses should use a derivation path beginning with `m/44'/`. This means the first address generated by a mainnet Bitcoin wallet will have a derivation path of `m/44'/0'/0'/0/0`.\n",
        "\n",
        "\n",
        "\n",
        "`m/44'/0'/0'/0/0` is labeled as `master / purpose / coin_type / account / change / address_index`\n",
        "\n",
        "- **master** all HD wallets begin with `m` in the first position\n",
        "- **purpose** all coins adoptin BIP44  use `44`\n",
        "- **coin_type** is used to differentiate between different coins \n",
        "- **account** is used to have a branch point for different subsets of key pairs\n",
        "- **change** this field is used to differentiate between receipt addresses and change addresses\n",
        "- **address_index** this final field is used to iterate through different keypairs/addresses\n",
        "\n",
        "<div>\n",
        "<img src=\"https://github.com/ProfDoeg/Colegio_Invisible/raw/main/img/hd_wallet.png\"  width=\"500\"/>\n",
        "</div>\n",
        "\n",
        "The brilliant feature of this structure is that there is a hierarchy of public and private keys.\n",
        "\n",
        "With ONE master private key you can control/generate many private keys for many different coins.  In addition you can share ONE public key to share ALL the derived public keys and addresses.\n",
        "\n",
        "Say you have a business with a point-of-sale cash register that collects DOGE transactions. Each transaction can have a seperate address. You need only share the public key with the `m/44'/3'/0'/0` derivation path. The POS software can then derive the addresses for `m/44'/3'/0'/0/0`, `m/44'/3'/0'/0/1`, `m/44'/0'/0'/0/2`...etc\n",
        "\n",
        "For our purposes...all the students can generate a single master private key and share one public key with hq. HQ can then access an array of derived public keys and the associated crypto addresses.\n",
        "\n",
        "# Mnemonic Seed Phrases\n",
        "\n",
        "BIP39 is the use of a mnemonic phrase -- a group of easy to remember words -- to serve as a back up to recover your wallet and coins in the event your wallet becomes compromised, lost, or destroyed. This is also known as a mnemonic seed (phrase), recovery phrase, wallet back up, master seed, etc. \n",
        "\n",
        "<div>\n",
        "<img src=\"https://github.com/ProfDoeg/Colegio_Invisible/raw/main/img/mnemonic.png\" width=\"400\"/>\n",
        "</div>\n",
        "\n",
        "These words aren't just any words. They are pulled from a specific list of 2048 words known as the BIP39 wordlist. Upon start up, wallets that utilize the BIP39 standard will provide you a 12-24 word phrase randomly chosen from the standard BIP39 wordlist.\n",
        "\n",
        "Mnemonic seeds are a way of storing the root private key in a human readable format.\n",
        "\n",
        "The `hdwallet.utils.generate_mnemonic()` function uses a two arguments, strength and language. \n",
        "\n",
        "- **strength** 128, 160, 192, 224 or 256\n",
        "- **language** english, french, italian, spanish, chinese_simplified, chinese_traditional, japanese or korean"
      ],
      "metadata": {
        "id": "PHmcF1QsLr9v"
      }
    },
    {
      "cell_type": "code",
      "source": [
        "from hdwallet.utils import generate_mnemonic\n",
        "from py_crypto_hd_wallet import HdWalletBipFactory, HdWalletBip44Coins, HdWalletBipChanges\n",
        "import psutil\n",
        "import os\n",
        "import pandas as pd"
      ],
      "metadata": {
        "id": "emljPfZ6tI11"
      },
      "execution_count": 2,
      "outputs": []
    },
    {
      "cell_type": "code",
      "source": [
        "secret_phrase=generate_mnemonic(language=\"english\", strength=256)\n",
        "secret_phrase"
      ],
      "metadata": {
        "colab": {
          "base_uri": "https://localhost:8080/",
          "height": 53
        },
        "id": "MmhwSF5VvRt5",
        "outputId": "3de2a993-dd81-40b3-d0e2-833db3af2d97"
      },
      "execution_count": 3,
      "outputs": [
        {
          "output_type": "execute_result",
          "data": {
            "text/plain": [
              "'top leg more target ketchup access magnet evidence smile warrior jungle scatter border crowd fluid repair coral action casual rookie fresh nest practice load'"
            ],
            "application/vnd.google.colaboratory.intrinsic+json": {
              "type": "string"
            }
          },
          "metadata": {},
          "execution_count": 3
        }
      ]
    },
    {
      "cell_type": "code",
      "source": [
        "hd_wallet_factory = HdWalletBipFactory(HdWalletBip44Coins.DOGECOIN)"
      ],
      "metadata": {
        "id": "Q_lekiyrvRnZ"
      },
      "execution_count": 4,
      "outputs": []
    },
    {
      "cell_type": "code",
      "source": [
        "my_doge_wallet = hd_wallet_factory.CreateFromMnemonic('DD_wallet', secret_phrase)"
      ],
      "metadata": {
        "id": "dsQNIetFvRhU"
      },
      "execution_count": 5,
      "outputs": []
    },
    {
      "cell_type": "code",
      "source": [
        "my_doge_wallet.Generate(account_idx = 0, change_idx = HdWalletBipChanges.CHAIN_EXT, addr_num = 4)"
      ],
      "metadata": {
        "id": "BuD9RFL5tYhv"
      },
      "execution_count": 6,
      "outputs": []
    },
    {
      "cell_type": "code",
      "source": [
        "my_doge_wallet_dict=my_doge_wallet.ToDict()\n",
        "my_doge_wallet_dict"
      ],
      "metadata": {
        "colab": {
          "base_uri": "https://localhost:8080/"
        },
        "id": "IyhVjqvFw9oY",
        "outputId": "de10a4c4-6c88-4f89-9c6b-435f689767a8"
      },
      "execution_count": 7,
      "outputs": [
        {
          "output_type": "execute_result",
          "data": {
            "text/plain": [
              "{'account_idx': 0,\n",
              " 'account_key': {'address': 'DDPNdR4odtgABZcbb7tuTuufgThVMkdrB3',\n",
              "  'ex_priv': 'dgpv58Sjpe6yv8BjYUGN8xTHi8wWHrYs5UiZ7XafGG9uUnpokArvrKkU4kTMqjCjn3Htjb1bjZaQBx3j6NAiab6zVg3vbocNnqDN2hv5UkEUgU1',\n",
              "  'ex_pub': 'dgub8sKmAL2sUGr4qKvXBC5FpzV6kQvVubkGQ8MsRNYtGuspJDydG6JEi3s1QxCkeqh7YxdpozgW4h6dL1DEYU4SW93KF2ZvWWy2cCtWks2u9Ti',\n",
              "  'raw_compr_pub': '02995458f4ca6714c4b7a16295184869433c14910c8b626ca1d135a64240893b58',\n",
              "  'raw_priv': '9001d42258ba37de2384861e59a4b2ef1510f848c2662dacc229df1a8bb3da09',\n",
              "  'raw_uncompr_pub': '04995458f4ca6714c4b7a16295184869433c14910c8b626ca1d135a64240893b588829023c667ff8ad33de1397c330516c621d7070845c4bb66d1ad73bb2da3ef2',\n",
              "  'wif_priv': 'QTSZLcXWDU4bS2eCGscBt4hbEMJCnEixLKhRdCcJ3gCavcnQQPti'},\n",
              " 'address': {'address_0': {'address': 'DN5yjNRh1e4Y8yFUS8GmbhVqAhwPqgmCDs',\n",
              "   'ex_priv': 'dgpv5Ce8AHfCh4m1Zoca8rSoyjMHgKRA8F5cpX8Mjboy3N1m2eFiNrE2gWv9WWDxBZGDocgLfZKLZPuQz4jk8ZDpH8obinuwE2baRXbZ6Z2TtxD',\n",
              "   'ex_pub': 'dgub8wX9Vyb6FDRLrfGjB64n6att8snnxN7L77uZtiCwqV4mahNQncmoKpKo5hvUsoQxwCZd8452jmWNiuvTPMee6qMb9kCSxt27w3FgDdctidb',\n",
              "   'raw_compr_pub': '02184fe1917718790d4c95680058db07471e1e488ff32046994a923f61318c5e50',\n",
              "   'raw_priv': 'ba63c0b14212b286036c24ad9c19352164abb49a0a564e0959b7549180a8f878',\n",
              "   'raw_uncompr_pub': '04184fe1917718790d4c95680058db07471e1e488ff32046994a923f61318c5e502eb763fbb008933e660e0183a2297207695ea11a63fb08e4c7fb96c81a066a36',\n",
              "   'wif_priv': 'QUrwjMuKMtjc7a1sevr83Md5G6ZC77bNkB67qWUeKZFPqTRTMkmN'},\n",
              "  'address_1': {'address': 'DL4WXCHEKAv26rCj8WcaB9rPjFTK8yEKVh',\n",
              "   'ex_priv': 'dgpv5Ce8AHfCh4m1bm2WuMwme1Gpcwf85kFzg4ygKbLy6Qoh7zndCNg2BsxUbsGNtu3zZpxRfr6zcScxPunxfxrvtwAEN5FaGRPGcpVdPp64TCZ',\n",
              "   'ex_pub': 'dgub8wX9Vyb6FDRLtcgfwbZjkrpR5W2kusHhxfktUhjwtXrhg3uKc9DnqBN8B5ZrJApPiVtvkrPHbMnX24r8KBHMs2qW9kaUHASE8YNRKr5jiNt',\n",
              "   'raw_compr_pub': '02204bc18aedfd5f174ca55ebee3e3380a5df3bc7d256db0058e992fe12ad77aef',\n",
              "   'raw_priv': '7307d9b1492627bf4a0baf3f85abd3bd075f4538bcb233cb601c4152f802f004',\n",
              "   'raw_uncompr_pub': '04204bc18aedfd5f174ca55ebee3e3380a5df3bc7d256db0058e992fe12ad77aefd8746872c16b2e1a32bcf9c6f285c2964ae876a0de09c2d039fa25e91809b0a6',\n",
              "   'wif_priv': 'QSUEQKAPqKP2np5BUHzMr3rDFmyhT9gGveykizNXftawsGB1xMWv'},\n",
              "  'address_2': {'address': 'DCEKUdWy96ppg2X48gHb2vMBKMS6hYh2Ho',\n",
              "   'ex_priv': 'dgpv5Ce8AHfCh4m1cge1ic7oorMSPqmiLu3JG2Bc8dBMsEBZKywcG4pqHNJS58ADdJ2cCwkWEMazjhrcK2bkPZdtSXdzGxuJjqsTHpUmSB8v1jb',\n",
              "   'ex_pub': 'dgub8wX9Vyb6FDRLuYJAkqjmvhu2rQ9MB251YcxpHjaLfMEZt34JfqNbvfi5eL98G2NM1BmbvTq9h6gQReMGh8MoBzJcJNedUzbq1gKEqRU3WrT',\n",
              "   'raw_compr_pub': '027f774c61fdc0d4efaefe2029f515c9e2c22df18102e84f3a480c887d869666a7',\n",
              "   'raw_priv': 'fc5ad2a393d59dc06e1c9b4e74d77c0f6d950f1591f60729f410eadd2c589454',\n",
              "   'raw_uncompr_pub': '047f774c61fdc0d4efaefe2029f515c9e2c22df18102e84f3a480c887d869666a7b0cfaa71e2376174d8f83c71ee099707c896673a568708f0a73b0cf0dfdd077e',\n",
              "   'wif_priv': 'QX5AvuH6C3TQJhFKVNydGKAaWccpusnrUtvANnsGC1cfMnPdih1R'},\n",
              "  'address_3': {'address': 'DFBkgmycqkE61U8HQ3jKUgyiQ1cujaQi8G',\n",
              "   'ex_priv': 'dgpv5Ce8AHfCh4m1fLZztwirz5JGQHqEjEzwVPae7MZRYRLX64g4EkQ6PeXGgG97CRZJEYfGQB2J4NqcGLc7bDsULKeue6TV2iPvwJStXa84PGv',\n",
              "   'ex_pub': 'dgub8wX9Vyb6FDRLxCE9wBLq6vqrrrCsZN2emzMrGTxQLYPXe7nkeWws2wvvFWCvNuiFMmRrD5VP9npm7UC8VcHRo75xAk1Uq2EF19XeNrGnoQ2',\n",
              "   'raw_compr_pub': '0317951954c60e81fbb768a8da10a6a490076bd5659391ac15ef5f973d916f3b5a',\n",
              "   'raw_priv': '81f078a03ef742eb46a442c6ad4e6c6cce0576ab0e17b0d663b0ff7e837e012f',\n",
              "   'raw_uncompr_pub': '0417951954c60e81fbb768a8da10a6a490076bd5659391ac15ef5f973d916f3b5a7f6db71d7c8f7924cd136f6c15c05526d46ceed21b475278849579d090a1f227',\n",
              "   'wif_priv': 'QSyDGmeuSkdMHNMrYUpv9p91Af2bYFph1Aw26PRyVLE4ehES88VP'}},\n",
              " 'change_idx': 0,\n",
              " 'change_key': {'address': 'DQsjJBGEGYtXQHigCJntqNXkBpLs2BUzML',\n",
              "  'ex_priv': 'dgpv59qGDdLiik3jh7i6igaqwJvfHwbHV4UZk9ttjo3kw5HULSB7Qr1YkEhr6d1jyV6PrwNe3xdFoBWneTyw6oqxCaw8rjuPEJ3xn4W94Tg44eu',\n",
              "  'ex_pub': 'dgub8tiHZKGcGti4yyNFkvCp4AUFkVxvKBWH2kg6tuSjjCLUtVHopcZKPY7Vfse7E4gsaj8X6jpoNwnMN4R3UFWiyTQzLk9ddaEycRx3LjKsMYf',\n",
              "  'raw_compr_pub': '02f25e3d2086f1980ff3f7b0c1b4b15a1aa92c4b0157ffbcdeee88203f1221cd9d',\n",
              "  'raw_priv': '12cf4278dec80f57ff73d8492648c181b7fceb842ff24accf443c2e9b591a0d5',\n",
              "  'raw_uncompr_pub': '04f25e3d2086f1980ff3f7b0c1b4b15a1aa92c4b0157ffbcdeee88203f1221cd9dde0119da0a711f695f3df0e8b2aa4f6d78db8e1673977710f21e45eaffba067c',\n",
              "  'wif_priv': 'QPFC1qxHprBmLXLeYHRvDk95cnC32deNnqdiQPyqKuXYzJmNnkus'},\n",
              " 'coin_key': {'address': 'DKWEsUasaNifn6dL9riJNXVBE7Xhgw8F7V',\n",
              "  'ex_priv': 'dgpv56ETvotLLNfBp2SYWAFfgb3CZXzTN9kSSbkKj37bau8BmcQt28d7eswuXDSWyb4yPoAGEvegV7PVUrgc76RrpSAsVXkkHPk34RUqkzgFVmb',\n",
              "  'ex_pub': 'dgub8q7VGVpDtXKX6t6hYPsdoSao26N6CGn9jCXXt9WaP2BCKfXaRuAtJBMZ6STMk2fVXjoE5LRT2RqLF4TT8wKVUcaAfAnPnCzu22bHMmm4NB1',\n",
              "  'raw_compr_pub': '028d3b57609e912bbb68ee1bad4be7107f3724d32259be366dcfc444c352eea435',\n",
              "  'raw_priv': '8208dccbc30cf37c57374b1c7c23f7f729bb5fa60606456fca06dc863919568f',\n",
              "  'raw_uncompr_pub': '048d3b57609e912bbb68ee1bad4be7107f3724d32259be366dcfc444c352eea4354f399c4d0f7d4561f879f5be6f49df0396b26cf1db2d0455cb86f88012db7d60',\n",
              "  'wif_priv': 'QSyQ1p8giaSJ7BkvyqdBLacYq7f2HWZkwPeDiKq7vwVDB4qobsTc'},\n",
              " 'coin_name': 'Dogecoin (DOGE)',\n",
              " 'master_key': {'address': 'DLpBekDSsKJhmxzBUoZiZkGTJ2LuHWudGs',\n",
              "  'ex_priv': 'dgpv51eADS3spNJh8GVJTsdNb3WDijmJt8gjsHRD63DWdzmKrijv4y9eBUsnQYTKHQjcuzBoDRtVEpC3WhoVWuqm2thZQNjqpbTaGqDx3FWuf3t',\n",
              "  'ex_pub': 'dgub8kXBZ7ymNWy2R89TW7FLhu3pBJ8wiFiT9tCRF9cVS7pLQmrcUjhQpnHRynRupVMHNLxWzckZgvRj5PwBGQvqTnb2dkRuj1H5RUNEh56jYfD',\n",
              "  'raw_compr_pub': '035a3cb19ce2ef34dd61ac01c014d404ee562284d949f3b2e3edfb37ae0318b5cd',\n",
              "  'raw_priv': 'd07130da204417fdc9a35a2f6b03ef35361a76c641373beb3ac3629d8eaa0bf2',\n",
              "  'raw_uncompr_pub': '045a3cb19ce2ef34dd61ac01c014d404ee562284d949f3b2e3edfb37ae0318b5cdfb582ea1dd6c0163b79f90201e21f2910487786466dad8bdc5b460a2675e4743',\n",
              "  'wif_priv': 'QVbp2W1uAq8dcHRpebF7BQXyFdcp2hZ2pNdv5aG9RU2ThuKLhyCC'},\n",
              " 'mnemonic': 'top leg more target ketchup access magnet evidence smile warrior jungle scatter border crowd fluid repair coral action casual rookie fresh nest practice load',\n",
              " 'passphrase': '',\n",
              " 'purpose_key': {'address': 'DFQs9UrqXMjyZ7iQDPCZ9BY6knknBeLjEM',\n",
              "  'ex_priv': 'dgpv54nbFA92psbfKFZYUKKvhEV1dkWuizDHaZFAGUjstyucXi5NZrPM6DFQvDjhMHU57KA88hR4VAYdxX3XW5dJFhttg2EJm6Ba25oHuNLPv6s',\n",
              "  'ex_pub': 'dgub8ofcar4vP2Fzc7DhWYwtp62c6JtYZ7EzsA2NRb8rh6xd5mC4ycw7jWf4VUGwridRk4widU5QjzHknirAuUYb6sJBuFvX5ygicDTvo8SiJGw',\n",
              "  'raw_compr_pub': '0313553801ec514fdb098de6646d5803e2ca639caa93b7f92d7904b9b09535a6a4',\n",
              "  'raw_priv': '3f64394ec1ec6fd327cf4bd86c2170efb51eb55fcaedcea69831185631467b1c',\n",
              "  'raw_uncompr_pub': '0413553801ec514fdb098de6646d5803e2ca639caa93b7f92d7904b9b09535a6a450769c0931592cc9ffd321a649eee9cf34a90b736ca99fc908f6ef48269be91d',\n",
              "  'wif_priv': 'QQjrNhQmwymzfeAF6Rffr7qxQqbfLT6gA2bG3kX5KdA9mKj5W1GV'},\n",
              " 'seed_bytes': '213695458e566041c5eb2d62dce66ce8bc749d2e4304ed90e0083969aaac0344b1b1581a14fa1ca66ad637222089b9e3dad489195309f190324f6cb160d1aaec',\n",
              " 'spec_name': 'BIP-0044',\n",
              " 'wallet_name': 'DD_wallet'}"
            ]
          },
          "metadata": {},
          "execution_count": 7
        }
      ]
    },
    {
      "cell_type": "code",
      "source": [
        "my_doge_wallet_dict.keys()"
      ],
      "metadata": {
        "colab": {
          "base_uri": "https://localhost:8080/"
        },
        "id": "P1pDEpaV66XQ",
        "outputId": "5fcd9933-5bdd-4ac1-d60a-4ea0456970ce"
      },
      "execution_count": 8,
      "outputs": [
        {
          "output_type": "execute_result",
          "data": {
            "text/plain": [
              "dict_keys(['wallet_name', 'spec_name', 'coin_name', 'mnemonic', 'passphrase', 'seed_bytes', 'master_key', 'purpose_key', 'coin_key', 'account_idx', 'account_key', 'change_idx', 'change_key', 'address'])"
            ]
          },
          "metadata": {},
          "execution_count": 8
        }
      ]
    },
    {
      "cell_type": "code",
      "source": [
        "my_doge_wallet_dict['address']['address_1']['wif_priv'] #this is the private key to address 1"
      ],
      "metadata": {
        "colab": {
          "base_uri": "https://localhost:8080/",
          "height": 35
        },
        "id": "CoYmE11nxE5Y",
        "outputId": "adb28375-484d-4838-8be1-3cb7585a87d6"
      },
      "execution_count": 9,
      "outputs": [
        {
          "output_type": "execute_result",
          "data": {
            "text/plain": [
              "'QSUEQKAPqKP2np5BUHzMr3rDFmyhT9gGveykizNXftawsGB1xMWv'"
            ],
            "application/vnd.google.colaboratory.intrinsic+json": {
              "type": "string"
            }
          },
          "metadata": {},
          "execution_count": 9
        }
      ]
    },
    {
      "cell_type": "code",
      "source": [
        "my_doge_wallet_dict['address']['address_1']['raw_uncompr_pub'] #this is the public key to address 1"
      ],
      "metadata": {
        "colab": {
          "base_uri": "https://localhost:8080/",
          "height": 35
        },
        "id": "Q7KPNvH_6lA9",
        "outputId": "13c3f1f1-2377-4c40-ed27-3321a5956c06"
      },
      "execution_count": 10,
      "outputs": [
        {
          "output_type": "execute_result",
          "data": {
            "text/plain": [
              "'04204bc18aedfd5f174ca55ebee3e3380a5df3bc7d256db0058e992fe12ad77aefd8746872c16b2e1a32bcf9c6f285c2964ae876a0de09c2d039fa25e91809b0a6'"
            ],
            "application/vnd.google.colaboratory.intrinsic+json": {
              "type": "string"
            }
          },
          "metadata": {},
          "execution_count": 10
        }
      ]
    },
    {
      "cell_type": "code",
      "source": [
        "my_doge_wallet_dict['change_key']['ex_pub'] #this is the xpub key that can be used to generate all the public keys "
      ],
      "metadata": {
        "colab": {
          "base_uri": "https://localhost:8080/",
          "height": 35
        },
        "id": "TS6Oxq5H7X66",
        "outputId": "0ccd3e0b-4215-4d7d-bb5e-d091dcaf4931"
      },
      "execution_count": 11,
      "outputs": [
        {
          "output_type": "execute_result",
          "data": {
            "text/plain": [
              "'dgub8tiHZKGcGti4yyNFkvCp4AUFkVxvKBWH2kg6tuSjjCLUtVHopcZKPY7Vfse7E4gsaj8X6jpoNwnMN4R3UFWiyTQzLk9ddaEycRx3LjKsMYf'"
            ],
            "application/vnd.google.colaboratory.intrinsic+json": {
              "type": "string"
            }
          },
          "metadata": {},
          "execution_count": 11
        }
      ]
    },
    {
      "cell_type": "code",
      "source": [
        "def get_addresses(wallet):\n",
        "    addys=wallet.ToDict()['address']\n",
        "    return [ addys[addy]['address'] for addy in addys]\n",
        "\n",
        "def get_privates(wallet):\n",
        "    addys=wallet.ToDict()['address']\n",
        "    return [ addys[addy]['wif_priv'] for addy in addys]\n",
        "\n",
        "def get_publics(wallet):\n",
        "    addys=wallet.ToDict()['address']\n",
        "    return [ addys[addy]['raw_uncompr_pub'] for addy in addys]"
      ],
      "metadata": {
        "id": "x_cWWmJe7i6V"
      },
      "execution_count": 12,
      "outputs": []
    },
    {
      "cell_type": "code",
      "source": [
        "get_addresses(my_doge_wallet)"
      ],
      "metadata": {
        "colab": {
          "base_uri": "https://localhost:8080/"
        },
        "id": "dJTeWurJ8AE4",
        "outputId": "a5fe9919-7f6d-4760-bb6f-86fb1f3566f3"
      },
      "execution_count": 13,
      "outputs": [
        {
          "output_type": "execute_result",
          "data": {
            "text/plain": [
              "['DN5yjNRh1e4Y8yFUS8GmbhVqAhwPqgmCDs',\n",
              " 'DL4WXCHEKAv26rCj8WcaB9rPjFTK8yEKVh',\n",
              " 'DCEKUdWy96ppg2X48gHb2vMBKMS6hYh2Ho',\n",
              " 'DFBkgmycqkE61U8HQ3jKUgyiQ1cujaQi8G']"
            ]
          },
          "metadata": {},
          "execution_count": 13
        }
      ]
    },
    {
      "cell_type": "markdown",
      "source": [
        "# File With Some Ex_PubKeys\n",
        "\n",
        "```text\n",
        "student,ex_pubkey\n",
        "00,dgub8uu2ChGGLQcFXt5QEBoHJNHhxubH6LXWxzMcVKNRfMyQgCfpWquMYkNsiXsQeEddLzX692Am7rgZ7s7wLqts1FbXNuA2pGtRdPuht92J4pm\n",
        "01,dgub8tiZR8EbP42Rg4EAn7jYYQRLjCZ2UHg5Bwdb4eASRBvNYwanrTdp8jvN2bHdakaevMj82u9tknJaYvsiaSMpijn7aP2hSsJbLbj8qbuBmZU\n",
        "02,dgub8tTFHkG1FajRZH2nscUV9166uRMRRAvbeh6zXCctUVgpNwvWpZ16JT1WrSwW46p2hvfPZNCKmb5xQBcUwKBip7iM3tUNMzAkqDDysR1UhbE\n",
        "03,dgub8tZWJSrqUJ9KDRAQEHU4YH9ToP6f16jLsvi1cP4kA45MRve9PnBM3BPUgPshBoJBS1BebakEw5Qh9W2pAfTWV8YVgSeUfmyjCkScMGabGMK\n",
        "04,dgub8tP4gsyL1R7U5eZVTDZbA5DF4foatJGq9EikgtaX3rtUp5hZ1QT9CnCxhf1GmceVsH8xjJmzcCMyXdSxekjvQ8M5fZKaNoenMenPDDmPfwM\n",
        "05,dgub8uqjRZAXa5dvQ2wTaaxTeS45EDd3BbNCo6X1ifCnH2AJvRiH3CsdS3yTqFMvfU3EptHTtDVUb2V7pb5YNaecf5xPkUQ16CWxWpbPLAxo7hL\n",
        "06,dgub8uTT3NrNwnwMW1pYo4AHR4XSEUf4pZQtHjg1xSuxSBZCvvketHKK3gKcLuiu8BNW9LTgQ5oZs35PT6ToR6xr4Q2PCqfvvoxQ18HSsS2fPcw\n",
        "```"
      ],
      "metadata": {
        "id": "pJDcPwlEQ6fH"
      }
    },
    {
      "cell_type": "code",
      "source": [
        "ex_00='dgub8uu2ChGGLQcFXt5QEBoHJNHhxubH6LXWxzMcVKNRfMyQgCfpWquMYkNsiXsQeEddLzX692Am7rgZ7s7wLqts1FbXNuA2pGtRdPuht92J4pm'"
      ],
      "metadata": {
        "id": "s02Z04PO8KTn"
      },
      "execution_count": 14,
      "outputs": []
    },
    {
      "cell_type": "code",
      "source": [
        "watch_00=hd_wallet_factory.CreateFromExtendedKey(\"watcher_00\",ex_00)"
      ],
      "metadata": {
        "id": "ZiiBV4otRUdA"
      },
      "execution_count": 15,
      "outputs": []
    },
    {
      "cell_type": "code",
      "source": [
        "watch_00.Generate(account_idx = 0, change_idx = HdWalletBipChanges.CHAIN_EXT, addr_num = 10)"
      ],
      "metadata": {
        "id": "UuVrZug7SQoC"
      },
      "execution_count": 17,
      "outputs": []
    },
    {
      "cell_type": "code",
      "source": [
        "watch_00.IsWatchOnly()"
      ],
      "metadata": {
        "colab": {
          "base_uri": "https://localhost:8080/"
        },
        "id": "5ji5jt1MScdk",
        "outputId": "647273ef-7890-4201-e6f9-236ca20b6fca"
      },
      "execution_count": 18,
      "outputs": [
        {
          "output_type": "execute_result",
          "data": {
            "text/plain": [
              "True"
            ]
          },
          "metadata": {},
          "execution_count": 18
        }
      ]
    },
    {
      "cell_type": "code",
      "source": [
        "watch_00.ToDict()"
      ],
      "metadata": {
        "colab": {
          "base_uri": "https://localhost:8080/"
        },
        "id": "2bYc9KVtSoqg",
        "outputId": "fed08dcb-a824-4ecb-f353-6a8e7dbe842b"
      },
      "execution_count": 19,
      "outputs": [
        {
          "output_type": "execute_result",
          "data": {
            "text/plain": [
              "{'address': {'address_0': {'address': 'DBcNgj9T7zy8b12igfRPQw7XbnaptwqCbm',\n",
              "   'ex_pub': 'dgub8w6D9esvEam9y5RLQDUvZ8ie96mxQYHeDpq9kBbzKtpT5vcrmCh7BQq1KEJ1aW7m85qQdnynLNxjgd7J3dRG2ZAfWAupuGDKrx5EQTsQKVH',\n",
              "   'raw_compr_pub': '03797a01b3e9c7ac5273ab0ff37c0917dfe0f7909ec2144977aad5f2d96bae1fc7',\n",
              "   'raw_uncompr_pub': '04797a01b3e9c7ac5273ab0ff37c0917dfe0f7909ec2144977aad5f2d96bae1fc74f41335fc8ae94be4d55daaf3afed7af3057dcb44aede7ca9d9888a02ed62da9'},\n",
              "  'address_1': {'address': 'DTAvSJgxbQ7hQSffTB5tg9MPZzJ6VKLQGJ',\n",
              "   'ex_pub': 'dgub8w6D9esvEamA1HhaMSogPDau7oWhnThpS2phDqstSoJJKdUD5iZRQXPZSeP2mM2gkVxeSadkUSeqhN98HDYBEziAU2oad46F4osv58MnFwZ',\n",
              "   'raw_compr_pub': '03bf03dea1cb1dddb81f968d3828e6da8f6e34447c507c6add66b54f59551a2afb',\n",
              "   'raw_uncompr_pub': '04bf03dea1cb1dddb81f968d3828e6da8f6e34447c507c6add66b54f59551a2afbb3c676fb42d6e71ea3073a006d6073bb023de3d987fa4cb4373281fb9e8aac8f'},\n",
              "  'address_2': {'address': 'DJvdop5eker2ZHij9Gmh1qGCc7G2TijPy3',\n",
              "   'ex_pub': 'dgub8w6D9esvEamA5TFkyAF4Yh5ixfpD69mz4DofXz9fosiY8KC4uKm4x2EJig6iUQHRhTgRmkjBGVzJ7LMo44RVcv5rXRFpBHt7Nxo4rRjE3uQ',\n",
              "   'raw_compr_pub': '034e459cd3a4001a1985eb1e6b1c443e83b46e9876f96ff135ad1d054b1906384e',\n",
              "   'raw_uncompr_pub': '044e459cd3a4001a1985eb1e6b1c443e83b46e9876f96ff135ad1d054b1906384ee0760b13a6d78cb5b3ef973943f7af3d42d7e06533aa7063149e1057c7c1422f'},\n",
              "  'address_3': {'address': 'DRsTTHnf9SYiMt8vinTfNDi78Ag55te62e',\n",
              "   'ex_pub': 'dgub8w6D9esvEamA7AovfaLrRDNbGXuj1ebJ3K6Pvmr4qUdsiLKG6ksBqr6RTP26fRmzCVjPSS5AVHNp1tcKcxt67RXDCZHHp5XrBUoigQP84eV',\n",
              "   'raw_compr_pub': '033f22fc0173e8c2b08b0664001828dde27eb6b2cf9232f95ccb22e045ae41a706',\n",
              "   'raw_uncompr_pub': '043f22fc0173e8c2b08b0664001828dde27eb6b2cf9232f95ccb22e045ae41a70649a78b381fb467fa75e6f0a73652a15849438181e25b7cb5afbf48eb72cf703d'},\n",
              "  'address_4': {'address': 'DPjudXU9XHz487RpXcAfSPbY4h1F85cyzd',\n",
              "   'ex_pub': 'dgub8w6D9esvEamAAeGPdQu3Bmsp79cWcvBTQQSHtP8jZ2C9McHAxdbjmELDLDHjPgYs5Ndyva1RTaKsFGzNmhaWC33a3yFpTNLU9GuvTwz8jVd',\n",
              "   'raw_compr_pub': '03e0e6ce917c8cb5e3b5afe9ed7d6e27c3c44eae17fd6a5afa3262745f8c664182',\n",
              "   'raw_uncompr_pub': '04e0e6ce917c8cb5e3b5afe9ed7d6e27c3c44eae17fd6a5afa3262745f8c664182b64106eea6fc4b13efbc78877a92624864a013e09fdfd95d23d6cc8d992be311'},\n",
              "  'address_5': {'address': 'DJuRujqNU6yYRx7TUPhdSBomnyjq3fJvUF',\n",
              "   'ex_pub': 'dgub8w6D9esvEamABc5sbNzUKBqLYQUUzurqm5JgPXtYPSZfZNN8mNEapAvFnPcMbnv4jEqhHH34Xq8bPGKEMRkEqnx5QzoZHDKnBhtL5WXdLVr',\n",
              "   'raw_compr_pub': '02f3b5b03ef1a86d08e7ec13eb9652ebcabfd57a132b7e26ddc45c514d77c8a98e',\n",
              "   'raw_uncompr_pub': '04f3b5b03ef1a86d08e7ec13eb9652ebcabfd57a132b7e26ddc45c514d77c8a98e87b8a314ba66425c6fb6e836ccca40f8eda79f38ce93c197c828c3ae2c7c9c06'},\n",
              "  'address_6': {'address': 'D8XbpiDauFQftCbf1gy8FTUHKQKm9KcfuX',\n",
              "   'ex_pub': 'dgub8w6D9esvEamADzteJYc9yvJAcVoP1Nqz1DhaXiUtwvja7p9KV44vACEDZu2zqzZNtFXizndqsnf8EZNEBukXxG6XoP8mhjX4qD2f2gowJ7Q',\n",
              "   'raw_compr_pub': '02b2040c9077bb452f0fb20d7076606f96b2e3eed8a33ba60ef81a78696fb0355d',\n",
              "   'raw_uncompr_pub': '04b2040c9077bb452f0fb20d7076606f96b2e3eed8a33ba60ef81a78696fb0355d79b7e8f4203d48c694bd856096150a2e063aa6bb2098ee876e366fe2f3f58f2e'},\n",
              "  'address_7': {'address': 'D8VhDPNQzsHCqrLkPWERVJyxT4SoLZNSzL',\n",
              "   'ex_pub': 'dgub8w6D9esvEamAGo7McFxCgvfmXowpxpYeRVUd3pHB2Gt7SA8CjFaMpfsj2txcUd9pDCQvjkEsMUTh55HyaFqmyhVPokn1C6rZbftTtX6NqdG',\n",
              "   'raw_compr_pub': '02ef7d91d82a4f3d92675fc09f32baa27534c345ff085979cedecf682086eae326',\n",
              "   'raw_uncompr_pub': '04ef7d91d82a4f3d92675fc09f32baa27534c345ff085979cedecf682086eae326b2116a5513a4891e4e3e4cb93af2eda31d488603ac15123876dff43441734ea0'},\n",
              "  'address_8': {'address': 'DFb5pALcHZrTtFdRVKma8rWM73XZADQWRN',\n",
              "   'ex_pub': 'dgub8w6D9esvEamAL6SqzGrtGU636GNgma3ER8uUjyj4M3m9T73vSXVS2tQkKoWoiUihbMPeueLyCCzHcUQvWHVhShQVsdZuNPQtx4fjRBaKWoZ',\n",
              "   'raw_compr_pub': '02f3a50c43578d7e380932d9169881fda14ae472c5332cd389829ac786a5070897',\n",
              "   'raw_uncompr_pub': '04f3a50c43578d7e380932d9169881fda14ae472c5332cd389829ac786a50708970bd8257b567051bdcaceda115048526784295697ba6d9fd2fa2c179d8c393b40'},\n",
              "  'address_9': {'address': 'DDpZQ8uPNXMrcADuY2fphnHgYeVwpD5CA2',\n",
              "   'ex_pub': 'dgub8w6D9esvEamAPK9ZLJLMehaq3nKupPReZA1igrmy144MRzUP83uL2XYCJRStTyzSC8wZsHcwd8Fp1UYgTmbvqFNAXh1dQdkCZLUqaFWH1jm',\n",
              "   'raw_compr_pub': '024d85bfa61befa59f5d07865152bbdb1d42dd002293a76817d658563bc54067c1',\n",
              "   'raw_uncompr_pub': '044d85bfa61befa59f5d07865152bbdb1d42dd002293a76817d658563bc54067c17a45fe8d8ef0a6efae10d905645fa8a84f26d6e0d631dff20e608cc0eb7a3bdc'}},\n",
              " 'change_key': {'address': 'DKYSGcCF7js6TwFFaYKqzA6dTfsCrz2iUj',\n",
              "  'ex_pub': 'dgub8uu2ChGGLQcFXt5QEBoHJNHhxubH6LXWxzMcVKNRfMyQgCfpWquMYkNsiXsQeEddLzX692Am7rgZ7s7wLqts1FbXNuA2pGtRdPuht92J4pm',\n",
              "  'raw_compr_pub': '0276ccc3aeb941db55bb864150c85e2ed4574903dc2f5140af260ef0b6f1692ab2',\n",
              "  'raw_uncompr_pub': '0476ccc3aeb941db55bb864150c85e2ed4574903dc2f5140af260ef0b6f1692ab2bc853a337073bb05d7a7a9eede826eeead3f19d01a20c1deee515e2a49492958'},\n",
              " 'coin_name': 'Dogecoin (DOGE)',\n",
              " 'spec_name': 'BIP-0044',\n",
              " 'wallet_name': 'watcher_00'}"
            ]
          },
          "metadata": {},
          "execution_count": 19
        }
      ]
    },
    {
      "cell_type": "code",
      "source": [
        "get_addresses(watch_00)"
      ],
      "metadata": {
        "colab": {
          "base_uri": "https://localhost:8080/"
        },
        "id": "KoPcR56cS1JD",
        "outputId": "8a49ee79-2a13-4acb-8b2c-33900b3fa3aa"
      },
      "execution_count": 20,
      "outputs": [
        {
          "output_type": "execute_result",
          "data": {
            "text/plain": [
              "['DBcNgj9T7zy8b12igfRPQw7XbnaptwqCbm',\n",
              " 'DTAvSJgxbQ7hQSffTB5tg9MPZzJ6VKLQGJ',\n",
              " 'DJvdop5eker2ZHij9Gmh1qGCc7G2TijPy3',\n",
              " 'DRsTTHnf9SYiMt8vinTfNDi78Ag55te62e',\n",
              " 'DPjudXU9XHz487RpXcAfSPbY4h1F85cyzd',\n",
              " 'DJuRujqNU6yYRx7TUPhdSBomnyjq3fJvUF',\n",
              " 'D8XbpiDauFQftCbf1gy8FTUHKQKm9KcfuX',\n",
              " 'D8VhDPNQzsHCqrLkPWERVJyxT4SoLZNSzL',\n",
              " 'DFb5pALcHZrTtFdRVKma8rWM73XZADQWRN',\n",
              " 'DDpZQ8uPNXMrcADuY2fphnHgYeVwpD5CA2']"
            ]
          },
          "metadata": {},
          "execution_count": 20
        }
      ]
    },
    {
      "cell_type": "code",
      "source": [
        ""
      ],
      "metadata": {
        "id": "_hieP5u9S7Dw"
      },
      "execution_count": null,
      "outputs": []
    }
  ]
}
