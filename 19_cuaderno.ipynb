{
  "nbformat": 4,
  "nbformat_minor": 0,
  "metadata": {
    "colab": {
      "name": "19_cuaderno.ipynb",
      "provenance": [],
      "authorship_tag": "ABX9TyP4F+7mGbaNMarK/dsltBg2",
      "include_colab_link": true
    },
    "kernelspec": {
      "name": "python3",
      "display_name": "Python 3"
    },
    "language_info": {
      "name": "python"
    }
  },
  "cells": [
    {
      "cell_type": "markdown",
      "metadata": {
        "id": "view-in-github",
        "colab_type": "text"
      },
      "source": [
        "<a href=\"https://colab.research.google.com/github/ProfDoeg/Colegio_Invisible/blob/main/19_cuaderno.ipynb\" target=\"_parent\"><img src=\"https://colab.research.google.com/assets/colab-badge.svg\" alt=\"Open In Colab\"/></a>"
      ]
    },
    {
      "cell_type": "code",
      "execution_count": 1,
      "metadata": {
        "id": "ERT60jl5s4EK",
        "colab": {
          "base_uri": "https://localhost:8080/"
        },
        "outputId": "04f28248-f4ce-4a29-bb39-b3183066db0e"
      },
      "outputs": [
        {
          "output_type": "stream",
          "name": "stdout",
          "text": [
            "Looking in indexes: https://pypi.org/simple, https://us-python.pkg.dev/colab-wheels/public/simple/\n",
            "Collecting hdwallet\n",
            "  Downloading hdwallet-2.1.1-py3-none-any.whl (68 kB)\n",
            "\u001b[K     |████████████████████████████████| 68 kB 2.0 MB/s \n",
            "\u001b[?25hCollecting py_crypto_hd_wallet\n",
            "  Downloading py_crypto_hd_wallet-1.1.0.tar.gz (96 kB)\n",
            "\u001b[K     |████████████████████████████████| 96 kB 3.3 MB/s \n",
            "\u001b[?25hCollecting cryptos\n",
            "  Downloading cryptos-1.36-py3-none-any.whl (69 kB)\n",
            "\u001b[K     |████████████████████████████████| 69 kB 4.0 MB/s \n",
            "\u001b[?25hCollecting ecdsa<1,>=0.13\n",
            "  Downloading ecdsa-0.17.0-py2.py3-none-any.whl (119 kB)\n",
            "\u001b[K     |████████████████████████████████| 119 kB 39.7 MB/s \n",
            "\u001b[?25hCollecting base58<3,>=2.0.1\n",
            "  Downloading base58-2.1.1-py3-none-any.whl (5.6 kB)\n",
            "Collecting pysha3<2,>=1.0.2\n",
            "  Downloading pysha3-1.0.2.tar.gz (829 kB)\n",
            "\u001b[K     |████████████████████████████████| 829 kB 40.0 MB/s \n",
            "\u001b[?25hCollecting mnemonic<1,>=0.19\n",
            "  Downloading mnemonic-0.20-py3-none-any.whl (62 kB)\n",
            "\u001b[K     |████████████████████████████████| 62 kB 675 kB/s \n",
            "\u001b[?25hRequirement already satisfied: six>=1.9.0 in /usr/local/lib/python3.7/dist-packages (from ecdsa<1,>=0.13->hdwallet) (1.15.0)\n",
            "Collecting bip_utils~=2.3\n",
            "  Downloading bip_utils-2.4.0.tar.gz (278 kB)\n",
            "\u001b[K     |████████████████████████████████| 278 kB 36.4 MB/s \n",
            "\u001b[?25hCollecting coincurve<18.0.0,>=15.0.1\n",
            "  Downloading coincurve-17.0.0-cp37-cp37m-manylinux_2_17_x86_64.manylinux2014_x86_64.whl (1.3 MB)\n",
            "\u001b[K     |████████████████████████████████| 1.3 MB 26.1 MB/s \n",
            "\u001b[?25hRequirement already satisfied: crcmod~=1.7 in /usr/local/lib/python3.7/dist-packages (from bip_utils~=2.3->py_crypto_hd_wallet) (1.7)\n",
            "Collecting ed25519-blake2b~=1.4\n",
            "  Downloading ed25519-blake2b-1.4.tar.gz (871 kB)\n",
            "\u001b[K     |████████████████████████████████| 871 kB 27.1 MB/s \n",
            "\u001b[?25hCollecting pycryptodome~=3.6\n",
            "  Downloading pycryptodome-3.15.0-cp35-abi3-manylinux2010_x86_64.whl (2.3 MB)\n",
            "\u001b[K     |████████████████████████████████| 2.3 MB 33.4 MB/s \n",
            "\u001b[?25hCollecting pynacl~=1.1\n",
            "  Downloading PyNaCl-1.5.0-cp36-abi3-manylinux_2_17_x86_64.manylinux2014_x86_64.manylinux_2_24_x86_64.whl (856 kB)\n",
            "\u001b[K     |████████████████████████████████| 856 kB 54.1 MB/s \n",
            "\u001b[?25hCollecting py-sr25519-bindings<2.0.0,>=0.1.3\n",
            "  Downloading py_sr25519_bindings-0.1.4-cp37-cp37m-manylinux_2_5_x86_64.manylinux1_x86_64.whl (1.0 MB)\n",
            "\u001b[K     |████████████████████████████████| 1.0 MB 44.9 MB/s \n",
            "\u001b[?25hCollecting asn1crypto\n",
            "  Downloading asn1crypto-1.5.1-py2.py3-none-any.whl (105 kB)\n",
            "\u001b[K     |████████████████████████████████| 105 kB 48.9 MB/s \n",
            "\u001b[?25hRequirement already satisfied: cffi>=1.3.0 in /usr/local/lib/python3.7/dist-packages (from coincurve<18.0.0,>=15.0.1->bip_utils~=2.3->py_crypto_hd_wallet) (1.15.0)\n",
            "Requirement already satisfied: pycparser in /usr/local/lib/python3.7/dist-packages (from cffi>=1.3.0->coincurve<18.0.0,>=15.0.1->bip_utils~=2.3->py_crypto_hd_wallet) (2.21)\n",
            "Building wheels for collected packages: pysha3, py-crypto-hd-wallet, bip-utils, ed25519-blake2b\n",
            "  Building wheel for pysha3 (setup.py) ... \u001b[?25l\u001b[?25hdone\n",
            "  Created wheel for pysha3: filename=pysha3-1.0.2-cp37-cp37m-linux_x86_64.whl size=133585 sha256=8b9c8304e3c9c043adb085526b9847eba1e26e64d78a522a4eece22fd1b4e4c2\n",
            "  Stored in directory: /root/.cache/pip/wheels/0d/9e/bc/789fa0986c1fef30cafcc29da4dd07bc17ecba3fab78e27ed6\n",
            "  Building wheel for py-crypto-hd-wallet (setup.py) ... \u001b[?25l\u001b[?25hdone\n",
            "  Created wheel for py-crypto-hd-wallet: filename=py_crypto_hd_wallet-1.1.0-py3-none-any.whl size=64294 sha256=90762ccacea720979fe4961e320565b63c2dc1ad9a15fdfa80ac188065d42d60\n",
            "  Stored in directory: /root/.cache/pip/wheels/81/44/6c/ffd625b339e990363ced6ee1e1e80dd817833e41b284ad2d3d\n",
            "  Building wheel for bip-utils (setup.py) ... \u001b[?25l\u001b[?25hdone\n",
            "  Created wheel for bip-utils: filename=bip_utils-2.4.0-py3-none-any.whl size=471169 sha256=e93bf8e9635bcb4041b25728d706b8ad87447dc39a7080796c577d136a257664\n",
            "  Stored in directory: /root/.cache/pip/wheels/ca/06/12/f8a09310e838632c2bad9e2d58ce29bd05591fe38de1b2c97f\n",
            "  Building wheel for ed25519-blake2b (setup.py) ... \u001b[?25l\u001b[?25hdone\n",
            "  Created wheel for ed25519-blake2b: filename=ed25519_blake2b-1.4-cp37-cp37m-linux_x86_64.whl size=104456 sha256=7997eecfc1adc9b4c7be6e96bc5268dbe451918ba7e69361d9602e4a749b3301\n",
            "  Stored in directory: /root/.cache/pip/wheels/37/7a/30/c952781d2bb70000791b68e2a38237f415f46e0d654d682c2a\n",
            "Successfully built pysha3 py-crypto-hd-wallet bip-utils ed25519-blake2b\n",
            "Installing collected packages: asn1crypto, pynacl, pycryptodome, py-sr25519-bindings, ed25519-blake2b, ecdsa, coincurve, pysha3, mnemonic, bip-utils, base58, py-crypto-hd-wallet, hdwallet, cryptos\n",
            "Successfully installed asn1crypto-1.5.1 base58-2.1.1 bip-utils-2.4.0 coincurve-17.0.0 cryptos-1.36 ecdsa-0.17.0 ed25519-blake2b-1.4 hdwallet-2.1.1 mnemonic-0.20 py-crypto-hd-wallet-1.1.0 py-sr25519-bindings-0.1.4 pycryptodome-3.15.0 pynacl-1.5.0 pysha3-1.0.2\n"
          ]
        }
      ],
      "source": [
        "! pip install hdwallet py_crypto_hd_wallet cryptos"
      ]
    },
    {
      "cell_type": "markdown",
      "source": [
        "# Our Key Handing Up Until Now\n",
        "\n",
        "Real drawbacks:\n",
        "\n",
        "- To send and recieve coins we would have to create a new private key, public key and address. \n",
        "- If we wanted to send coins from one address to another we'd have to create another private key, public key and address.\n",
        "- If we wanted to send to one another we'd have to send each other our addresses.\n",
        "- If we wanted to create a multisig wallet together we'd have to share our public keys.\n",
        "\n",
        "Wouldn't it be nice if we could generate a single private key from which we could generate a whole set of private keys in a deterministic fashion?\n",
        "\n",
        "Wouldn't it be nice if we could share a single public key (associate with the above single private key) from which we could generate the whole set of associated public keys in a deterministic fashion?\n",
        "\n",
        "**This better world is possible with hierarchical deterministic wallets (HD wallets)**\n",
        "\n",
        "\n",
        "Hierarchical deterministic wallets, also know as HD-wallets, are the standard in the cryptocurrency world but applicable for any application where we new to generate and share keys in this fashion.  We will learn how to use them appropriately.\n",
        "\n",
        "https://pypi.org/project/py-crypto-hd-wallet/\n",
        "\n",
        "\n",
        "\n",
        "# BIP44 Derivation Paths\n",
        "\n",
        "| Coin | Symbol | Derivation Path |\n",
        "| :------ | :----: | ----------:|\n",
        "|**Bitcoin**| BTC |`m/44'/0'/0'/0/0`|\n",
        "|**Litecoin**| LTC |`m/44'/2'/0'/0/0`|\n",
        "|**Dogecoin**| DOGE |`m/44'/3'/0'/0/0`|\n",
        "|**DigiByte**| DGB |`m/44'/20'/0'/0/0`|\n",
        "|**Zcash**| ZEC |`m/44'/133'/0'/0/0`|\n",
        "|**BitcoinCash**| BCH |`m/44'/145'/0'/0/0`|\n",
        "|**BitcoinSV**| BSV | `m/44'/236'/0'/0/0`|\n",
        "\n",
        "Bitcoin Improvement Proposal (BIP) 44 defines the standard derivation path for wallets which generate Pay-to-Public-Key-Hash (P2PKH) addresses. BIP 44 also defines the prefixes to be used with associated extended keys.\n",
        "\n",
        "According to BIP 44, wallets which generate P2PKH addresses should use a derivation path beginning with `m/44'/`. This means the first address generated by a mainnet Bitcoin wallet will have a derivation path of `m/44'/0'/0'/0/0`.\n",
        "\n",
        "\n",
        "\n",
        "`m/44'/0'/0'/0/0` is labeled as `master / purpose / coin_type / account / change / address_index`\n",
        "\n",
        "- **master** all HD wallets begin with `m` in the first position\n",
        "- **purpose** all coins adoptin BIP44  use `44`\n",
        "- **coin_type** is used to differentiate between different coins \n",
        "- **account** is used to have a branch point for different subsets of key pairs\n",
        "- **change** this field is used to differentiate between receipt addresses and change addresses\n",
        "- **address_index** this final field is used to iterate through different keypairs/addresses\n",
        "\n",
        "<div>\n",
        "<img src=\"https://github.com/ProfDoeg/Colegio_Invisible/raw/main/img/hd_wallet.png\"  width=\"500\"/>\n",
        "</div>\n",
        "\n",
        "The brilliant feature of this structure is that there is a hierarchy of public and private keys.\n",
        "\n",
        "With ONE master private key you can control/generate many private keys for many different coins.  In addition you can share ONE public key to share ALL the derived public keys and addresses.\n",
        "\n",
        "Say you have a business with a point-of-sale cash register that collects DOGE transactions. Each transaction can have a seperate address. You need only share the public key with the `m/44'/3'/0'/0` derivation path. The POS software can then derive the addresses for `m/44'/3'/0'/0/0`, `m/44'/3'/0'/0/1`, `m/44'/0'/0'/0/2`...etc\n",
        "\n",
        "For our purposes...all the students can generate a single master private key and share one public key with hq. HQ can then access an array of derived public keys and the associated crypto addresses.\n",
        "\n",
        "# Mnemonic Seed Phrases\n",
        "\n",
        "BIP39 is the use of a mnemonic phrase -- a group of easy to remember words -- to serve as a back up to recover your wallet and coins in the event your wallet becomes compromised, lost, or destroyed. This is also known as a mnemonic seed (phrase), recovery phrase, wallet back up, master seed, etc. \n",
        "\n",
        "<div>\n",
        "<img src=\"https://github.com/ProfDoeg/Colegio_Invisible/raw/main/img/mnemonic.png\" width=\"400\"/>\n",
        "</div>\n",
        "\n",
        "These words aren't just any words. They are pulled from a specific list of 2048 words known as the BIP39 wordlist. Upon start up, wallets that utilize the BIP39 standard will provide you a 12-24 word phrase randomly chosen from the standard BIP39 wordlist.\n",
        "\n",
        "Mnemonic seeds are a way of storing the root private key in a human readable format.\n",
        "\n",
        "The `hdwallet.utils.generate_mnemonic()` function uses a two arguments, strength and language. \n",
        "\n",
        "- **strength** 128, 160, 192, 224 or 256\n",
        "- **language** english, french, italian, spanish, chinese_simplified, chinese_traditional, japanese or korean"
      ],
      "metadata": {
        "id": "PHmcF1QsLr9v"
      }
    },
    {
      "cell_type": "code",
      "source": [
        "from hdwallet.utils import generate_mnemonic\n",
        "from py_crypto_hd_wallet import HdWalletBipFactory, HdWalletBip44Coins, HdWalletBipChanges\n",
        "import psutil\n",
        "import os\n",
        "import pandas as pd"
      ],
      "metadata": {
        "id": "emljPfZ6tI11"
      },
      "execution_count": 2,
      "outputs": []
    },
    {
      "cell_type": "code",
      "source": [
        "secret_phrase=generate_mnemonic(language=\"english\", strength=256)\n",
        "secret_phrase"
      ],
      "metadata": {
        "id": "MmhwSF5VvRt5"
      },
      "execution_count": 5,
      "outputs": []
    },
    {
      "cell_type": "code",
      "source": [
        "hd_wallet_factory = HdWalletBipFactory(HdWalletBip44Coins.DOGECOIN)"
      ],
      "metadata": {
        "id": "Q_lekiyrvRnZ"
      },
      "execution_count": 6,
      "outputs": []
    },
    {
      "cell_type": "code",
      "source": [
        "my_doge_wallet = hd_wallet_factory.CreateFromMnemonic('DD_wallet', secret_phrase)"
      ],
      "metadata": {
        "id": "dsQNIetFvRhU"
      },
      "execution_count": 7,
      "outputs": []
    },
    {
      "cell_type": "code",
      "source": [
        "my_doge_wallet.Generate(account_idx = 0, change_idx = HdWalletBipChanges.CHAIN_EXT, addr_num = 4)"
      ],
      "metadata": {
        "id": "BuD9RFL5tYhv"
      },
      "execution_count": 8,
      "outputs": []
    },
    {
      "cell_type": "code",
      "source": [
        "my_doge_wallet_dict=my_doge_wallet.ToDict()\n",
        "#my_doge_wallet_dict"
      ],
      "metadata": {
        "id": "IyhVjqvFw9oY"
      },
      "execution_count": 54,
      "outputs": []
    },
    {
      "cell_type": "code",
      "source": [
        "my_doge_wallet_dict.keys()"
      ],
      "metadata": {
        "id": "P1pDEpaV66XQ",
        "colab": {
          "base_uri": "https://localhost:8080/"
        },
        "outputId": "6fbc78fa-aac1-4288-9c4f-388795fde9b1"
      },
      "execution_count": 10,
      "outputs": [
        {
          "output_type": "execute_result",
          "data": {
            "text/plain": [
              "dict_keys(['wallet_name', 'spec_name', 'coin_name', 'mnemonic', 'passphrase', 'seed_bytes', 'master_key', 'purpose_key', 'coin_key', 'account_idx', 'account_key', 'change_idx', 'change_key', 'address'])"
            ]
          },
          "metadata": {},
          "execution_count": 10
        }
      ]
    },
    {
      "cell_type": "code",
      "source": [
        "my_doge_wallet_dict['address']['address_1']['wif_priv'] #this is the private key to address 1"
      ],
      "metadata": {
        "id": "CoYmE11nxE5Y"
      },
      "execution_count": 53,
      "outputs": []
    },
    {
      "cell_type": "code",
      "source": [
        "my_doge_wallet_dict['address']['address_1']['raw_uncompr_pub'] #this is the public key to address 1"
      ],
      "metadata": {
        "id": "Q7KPNvH_6lA9",
        "colab": {
          "base_uri": "https://localhost:8080/",
          "height": 36
        },
        "outputId": "331c06c7-caa5-4240-ec96-d775089baf8c"
      },
      "execution_count": 12,
      "outputs": [
        {
          "output_type": "execute_result",
          "data": {
            "text/plain": [
              "'04bf03dea1cb1dddb81f968d3828e6da8f6e34447c507c6add66b54f59551a2afbb3c676fb42d6e71ea3073a006d6073bb023de3d987fa4cb4373281fb9e8aac8f'"
            ],
            "application/vnd.google.colaboratory.intrinsic+json": {
              "type": "string"
            }
          },
          "metadata": {},
          "execution_count": 12
        }
      ]
    },
    {
      "cell_type": "code",
      "source": [
        "my_doge_wallet_dict['change_key']['ex_pub'] #this is the xpub key that can be used to generate all the public keys "
      ],
      "metadata": {
        "id": "TS6Oxq5H7X66",
        "colab": {
          "base_uri": "https://localhost:8080/",
          "height": 36
        },
        "outputId": "d602f1dd-637a-44a1-9cc9-78a43472dc62"
      },
      "execution_count": 13,
      "outputs": [
        {
          "output_type": "execute_result",
          "data": {
            "text/plain": [
              "'dgub8uu2ChGGLQcFXt5QEBoHJNHhxubH6LXWxzMcVKNRfMyQgCfpWquMYkNsiXsQeEddLzX692Am7rgZ7s7wLqts1FbXNuA2pGtRdPuht92J4pm'"
            ],
            "application/vnd.google.colaboratory.intrinsic+json": {
              "type": "string"
            }
          },
          "metadata": {},
          "execution_count": 13
        }
      ]
    },
    {
      "cell_type": "code",
      "source": [
        "def get_addresses(wallet):\n",
        "    addys=wallet.ToDict()['address']\n",
        "    return [ addys[addy]['address'] for addy in addys]\n",
        "\n",
        "def get_privates(wallet):\n",
        "    addys=wallet.ToDict()['address']\n",
        "    return [ addys[addy]['wif_priv'] for addy in addys]\n",
        "\n",
        "def get_publics(wallet):\n",
        "    addys=wallet.ToDict()['address']\n",
        "    return [ addys[addy]['raw_uncompr_pub'] for addy in addys]"
      ],
      "metadata": {
        "id": "x_cWWmJe7i6V"
      },
      "execution_count": 14,
      "outputs": []
    },
    {
      "cell_type": "code",
      "source": [
        "get_addresses(my_doge_wallet)"
      ],
      "metadata": {
        "id": "dJTeWurJ8AE4",
        "colab": {
          "base_uri": "https://localhost:8080/"
        },
        "outputId": "4b05ccf6-870b-4c4b-d669-dfcbf7844624"
      },
      "execution_count": 15,
      "outputs": [
        {
          "output_type": "execute_result",
          "data": {
            "text/plain": [
              "['DBcNgj9T7zy8b12igfRPQw7XbnaptwqCbm',\n",
              " 'DTAvSJgxbQ7hQSffTB5tg9MPZzJ6VKLQGJ',\n",
              " 'DJvdop5eker2ZHij9Gmh1qGCc7G2TijPy3',\n",
              " 'DRsTTHnf9SYiMt8vinTfNDi78Ag55te62e']"
            ]
          },
          "metadata": {},
          "execution_count": 15
        }
      ]
    },
    {
      "cell_type": "markdown",
      "source": [
        "# File With Some Ex_PubKeys\n",
        "\n",
        "```text\n",
        "student,ex_pubkey\n",
        "00,dgub8uu2ChGGLQcFXt5QEBoHJNHhxubH6LXWxzMcVKNRfMyQgCfpWquMYkNsiXsQeEddLzX692Am7rgZ7s7wLqts1FbXNuA2pGtRdPuht92J4pm\n",
        "01,dgub8tiZR8EbP42Rg4EAn7jYYQRLjCZ2UHg5Bwdb4eASRBvNYwanrTdp8jvN2bHdakaevMj82u9tknJaYvsiaSMpijn7aP2hSsJbLbj8qbuBmZU\n",
        "02,dgub8tTFHkG1FajRZH2nscUV9166uRMRRAvbeh6zXCctUVgpNwvWpZ16JT1WrSwW46p2hvfPZNCKmb5xQBcUwKBip7iM3tUNMzAkqDDysR1UhbE\n",
        "03,dgub8tZWJSrqUJ9KDRAQEHU4YH9ToP6f16jLsvi1cP4kA45MRve9PnBM3BPUgPshBoJBS1BebakEw5Qh9W2pAfTWV8YVgSeUfmyjCkScMGabGMK\n",
        "04,dgub8tP4gsyL1R7U5eZVTDZbA5DF4foatJGq9EikgtaX3rtUp5hZ1QT9CnCxhf1GmceVsH8xjJmzcCMyXdSxekjvQ8M5fZKaNoenMenPDDmPfwM\n",
        "05,dgub8uqjRZAXa5dvQ2wTaaxTeS45EDd3BbNCo6X1ifCnH2AJvRiH3CsdS3yTqFMvfU3EptHTtDVUb2V7pb5YNaecf5xPkUQ16CWxWpbPLAxo7hL\n",
        "06,dgub8uTT3NrNwnwMW1pYo4AHR4XSEUf4pZQtHjg1xSuxSBZCvvketHKK3gKcLuiu8BNW9LTgQ5oZs35PT6ToR6xr4Q2PCqfvvoxQ18HSsS2fPcw\n",
        "09,dgub8seQT7BUFMQfoVNgMG7W9tXhDcLEYxyM6Ntf4k5qN49cMaeRK1iZegYCpQ4RGeEMUxBtFFvhpWqvvk3McuEUojdhPvYy3wWmXPP4u89RcmN\n",
        "```"
      ],
      "metadata": {
        "id": "pJDcPwlEQ6fH"
      }
    },
    {
      "cell_type": "code",
      "source": [
        "ex_00='dgub8uu2ChGGLQcFXt5QEBoHJNHhxubH6LXWxzMcVKNRfMyQgCfpWquMYkNsiXsQeEddLzX692Am7rgZ7s7wLqts1FbXNuA2pGtRdPuht92J4pm'"
      ],
      "metadata": {
        "id": "s02Z04PO8KTn"
      },
      "execution_count": 37,
      "outputs": []
    },
    {
      "cell_type": "code",
      "source": [
        "watch_00=hd_wallet_factory.CreateFromExtendedKey(\"watcher_00\",ex_00)"
      ],
      "metadata": {
        "id": "ZiiBV4otRUdA"
      },
      "execution_count": 38,
      "outputs": []
    },
    {
      "cell_type": "code",
      "source": [
        "watch_00.Generate(account_idx = 0, change_idx = HdWalletBipChanges.CHAIN_EXT, addr_num = 10)"
      ],
      "metadata": {
        "id": "UuVrZug7SQoC"
      },
      "execution_count": 48,
      "outputs": []
    },
    {
      "cell_type": "code",
      "source": [
        "watch_00.IsWatchOnly()"
      ],
      "metadata": {
        "id": "5ji5jt1MScdk",
        "colab": {
          "base_uri": "https://localhost:8080/"
        },
        "outputId": "d54e21df-c9c4-4f00-adfd-8d167b588efa"
      },
      "execution_count": 49,
      "outputs": [
        {
          "output_type": "execute_result",
          "data": {
            "text/plain": [
              "True"
            ]
          },
          "metadata": {},
          "execution_count": 49
        }
      ]
    },
    {
      "cell_type": "code",
      "source": [
        "watch_00.ToDict()"
      ],
      "metadata": {
        "id": "2bYc9KVtSoqg",
        "colab": {
          "base_uri": "https://localhost:8080/"
        },
        "outputId": "4ac3f6d1-cc31-4a67-8218-e289bf7323b7"
      },
      "execution_count": 50,
      "outputs": [
        {
          "output_type": "execute_result",
          "data": {
            "text/plain": [
              "{'address': {'address_0': {'address': 'DBcNgj9T7zy8b12igfRPQw7XbnaptwqCbm',\n",
              "   'ex_pub': 'dgub8w6D9esvEam9y5RLQDUvZ8ie96mxQYHeDpq9kBbzKtpT5vcrmCh7BQq1KEJ1aW7m85qQdnynLNxjgd7J3dRG2ZAfWAupuGDKrx5EQTsQKVH',\n",
              "   'raw_compr_pub': '03797a01b3e9c7ac5273ab0ff37c0917dfe0f7909ec2144977aad5f2d96bae1fc7',\n",
              "   'raw_uncompr_pub': '04797a01b3e9c7ac5273ab0ff37c0917dfe0f7909ec2144977aad5f2d96bae1fc74f41335fc8ae94be4d55daaf3afed7af3057dcb44aede7ca9d9888a02ed62da9'},\n",
              "  'address_1': {'address': 'DTAvSJgxbQ7hQSffTB5tg9MPZzJ6VKLQGJ',\n",
              "   'ex_pub': 'dgub8w6D9esvEamA1HhaMSogPDau7oWhnThpS2phDqstSoJJKdUD5iZRQXPZSeP2mM2gkVxeSadkUSeqhN98HDYBEziAU2oad46F4osv58MnFwZ',\n",
              "   'raw_compr_pub': '03bf03dea1cb1dddb81f968d3828e6da8f6e34447c507c6add66b54f59551a2afb',\n",
              "   'raw_uncompr_pub': '04bf03dea1cb1dddb81f968d3828e6da8f6e34447c507c6add66b54f59551a2afbb3c676fb42d6e71ea3073a006d6073bb023de3d987fa4cb4373281fb9e8aac8f'},\n",
              "  'address_2': {'address': 'DJvdop5eker2ZHij9Gmh1qGCc7G2TijPy3',\n",
              "   'ex_pub': 'dgub8w6D9esvEamA5TFkyAF4Yh5ixfpD69mz4DofXz9fosiY8KC4uKm4x2EJig6iUQHRhTgRmkjBGVzJ7LMo44RVcv5rXRFpBHt7Nxo4rRjE3uQ',\n",
              "   'raw_compr_pub': '034e459cd3a4001a1985eb1e6b1c443e83b46e9876f96ff135ad1d054b1906384e',\n",
              "   'raw_uncompr_pub': '044e459cd3a4001a1985eb1e6b1c443e83b46e9876f96ff135ad1d054b1906384ee0760b13a6d78cb5b3ef973943f7af3d42d7e06533aa7063149e1057c7c1422f'},\n",
              "  'address_3': {'address': 'DRsTTHnf9SYiMt8vinTfNDi78Ag55te62e',\n",
              "   'ex_pub': 'dgub8w6D9esvEamA7AovfaLrRDNbGXuj1ebJ3K6Pvmr4qUdsiLKG6ksBqr6RTP26fRmzCVjPSS5AVHNp1tcKcxt67RXDCZHHp5XrBUoigQP84eV',\n",
              "   'raw_compr_pub': '033f22fc0173e8c2b08b0664001828dde27eb6b2cf9232f95ccb22e045ae41a706',\n",
              "   'raw_uncompr_pub': '043f22fc0173e8c2b08b0664001828dde27eb6b2cf9232f95ccb22e045ae41a70649a78b381fb467fa75e6f0a73652a15849438181e25b7cb5afbf48eb72cf703d'},\n",
              "  'address_4': {'address': 'DPjudXU9XHz487RpXcAfSPbY4h1F85cyzd',\n",
              "   'ex_pub': 'dgub8w6D9esvEamAAeGPdQu3Bmsp79cWcvBTQQSHtP8jZ2C9McHAxdbjmELDLDHjPgYs5Ndyva1RTaKsFGzNmhaWC33a3yFpTNLU9GuvTwz8jVd',\n",
              "   'raw_compr_pub': '03e0e6ce917c8cb5e3b5afe9ed7d6e27c3c44eae17fd6a5afa3262745f8c664182',\n",
              "   'raw_uncompr_pub': '04e0e6ce917c8cb5e3b5afe9ed7d6e27c3c44eae17fd6a5afa3262745f8c664182b64106eea6fc4b13efbc78877a92624864a013e09fdfd95d23d6cc8d992be311'},\n",
              "  'address_5': {'address': 'DJuRujqNU6yYRx7TUPhdSBomnyjq3fJvUF',\n",
              "   'ex_pub': 'dgub8w6D9esvEamABc5sbNzUKBqLYQUUzurqm5JgPXtYPSZfZNN8mNEapAvFnPcMbnv4jEqhHH34Xq8bPGKEMRkEqnx5QzoZHDKnBhtL5WXdLVr',\n",
              "   'raw_compr_pub': '02f3b5b03ef1a86d08e7ec13eb9652ebcabfd57a132b7e26ddc45c514d77c8a98e',\n",
              "   'raw_uncompr_pub': '04f3b5b03ef1a86d08e7ec13eb9652ebcabfd57a132b7e26ddc45c514d77c8a98e87b8a314ba66425c6fb6e836ccca40f8eda79f38ce93c197c828c3ae2c7c9c06'},\n",
              "  'address_6': {'address': 'D8XbpiDauFQftCbf1gy8FTUHKQKm9KcfuX',\n",
              "   'ex_pub': 'dgub8w6D9esvEamADzteJYc9yvJAcVoP1Nqz1DhaXiUtwvja7p9KV44vACEDZu2zqzZNtFXizndqsnf8EZNEBukXxG6XoP8mhjX4qD2f2gowJ7Q',\n",
              "   'raw_compr_pub': '02b2040c9077bb452f0fb20d7076606f96b2e3eed8a33ba60ef81a78696fb0355d',\n",
              "   'raw_uncompr_pub': '04b2040c9077bb452f0fb20d7076606f96b2e3eed8a33ba60ef81a78696fb0355d79b7e8f4203d48c694bd856096150a2e063aa6bb2098ee876e366fe2f3f58f2e'},\n",
              "  'address_7': {'address': 'D8VhDPNQzsHCqrLkPWERVJyxT4SoLZNSzL',\n",
              "   'ex_pub': 'dgub8w6D9esvEamAGo7McFxCgvfmXowpxpYeRVUd3pHB2Gt7SA8CjFaMpfsj2txcUd9pDCQvjkEsMUTh55HyaFqmyhVPokn1C6rZbftTtX6NqdG',\n",
              "   'raw_compr_pub': '02ef7d91d82a4f3d92675fc09f32baa27534c345ff085979cedecf682086eae326',\n",
              "   'raw_uncompr_pub': '04ef7d91d82a4f3d92675fc09f32baa27534c345ff085979cedecf682086eae326b2116a5513a4891e4e3e4cb93af2eda31d488603ac15123876dff43441734ea0'},\n",
              "  'address_8': {'address': 'DFb5pALcHZrTtFdRVKma8rWM73XZADQWRN',\n",
              "   'ex_pub': 'dgub8w6D9esvEamAL6SqzGrtGU636GNgma3ER8uUjyj4M3m9T73vSXVS2tQkKoWoiUihbMPeueLyCCzHcUQvWHVhShQVsdZuNPQtx4fjRBaKWoZ',\n",
              "   'raw_compr_pub': '02f3a50c43578d7e380932d9169881fda14ae472c5332cd389829ac786a5070897',\n",
              "   'raw_uncompr_pub': '04f3a50c43578d7e380932d9169881fda14ae472c5332cd389829ac786a50708970bd8257b567051bdcaceda115048526784295697ba6d9fd2fa2c179d8c393b40'},\n",
              "  'address_9': {'address': 'DDpZQ8uPNXMrcADuY2fphnHgYeVwpD5CA2',\n",
              "   'ex_pub': 'dgub8w6D9esvEamAPK9ZLJLMehaq3nKupPReZA1igrmy144MRzUP83uL2XYCJRStTyzSC8wZsHcwd8Fp1UYgTmbvqFNAXh1dQdkCZLUqaFWH1jm',\n",
              "   'raw_compr_pub': '024d85bfa61befa59f5d07865152bbdb1d42dd002293a76817d658563bc54067c1',\n",
              "   'raw_uncompr_pub': '044d85bfa61befa59f5d07865152bbdb1d42dd002293a76817d658563bc54067c17a45fe8d8ef0a6efae10d905645fa8a84f26d6e0d631dff20e608cc0eb7a3bdc'}},\n",
              " 'change_key': {'address': 'DKYSGcCF7js6TwFFaYKqzA6dTfsCrz2iUj',\n",
              "  'ex_pub': 'dgub8uu2ChGGLQcFXt5QEBoHJNHhxubH6LXWxzMcVKNRfMyQgCfpWquMYkNsiXsQeEddLzX692Am7rgZ7s7wLqts1FbXNuA2pGtRdPuht92J4pm',\n",
              "  'raw_compr_pub': '0276ccc3aeb941db55bb864150c85e2ed4574903dc2f5140af260ef0b6f1692ab2',\n",
              "  'raw_uncompr_pub': '0476ccc3aeb941db55bb864150c85e2ed4574903dc2f5140af260ef0b6f1692ab2bc853a337073bb05d7a7a9eede826eeead3f19d01a20c1deee515e2a49492958'},\n",
              " 'coin_name': 'Dogecoin (DOGE)',\n",
              " 'spec_name': 'BIP-0044',\n",
              " 'wallet_name': 'watcher_00'}"
            ]
          },
          "metadata": {},
          "execution_count": 50
        }
      ]
    },
    {
      "cell_type": "code",
      "source": [
        "get_addresses(watch_00)"
      ],
      "metadata": {
        "id": "KoPcR56cS1JD",
        "colab": {
          "base_uri": "https://localhost:8080/"
        },
        "outputId": "1e39c86c-fc65-4c9a-d060-942f7fa14b20"
      },
      "execution_count": 27,
      "outputs": [
        {
          "output_type": "execute_result",
          "data": {
            "text/plain": [
              "['DBcNgj9T7zy8b12igfRPQw7XbnaptwqCbm',\n",
              " 'DTAvSJgxbQ7hQSffTB5tg9MPZzJ6VKLQGJ',\n",
              " 'DJvdop5eker2ZHij9Gmh1qGCc7G2TijPy3',\n",
              " 'DRsTTHnf9SYiMt8vinTfNDi78Ag55te62e',\n",
              " 'DPjudXU9XHz487RpXcAfSPbY4h1F85cyzd',\n",
              " 'DJuRujqNU6yYRx7TUPhdSBomnyjq3fJvUF',\n",
              " 'D8XbpiDauFQftCbf1gy8FTUHKQKm9KcfuX',\n",
              " 'D8VhDPNQzsHCqrLkPWERVJyxT4SoLZNSzL',\n",
              " 'DFb5pALcHZrTtFdRVKma8rWM73XZADQWRN',\n",
              " 'DDpZQ8uPNXMrcADuY2fphnHgYeVwpD5CA2']"
            ]
          },
          "metadata": {},
          "execution_count": 27
        }
      ]
    },
    {
      "cell_type": "code",
      "source": [
        "ex_09='dgub8seQT7BUFMQfoVNgMG7W9tXhDcLEYxyM6Ntf4k5qN49cMaeRK1iZegYCpQ4RGeEMUxBtFFvhpWqvvk3McuEUojdhPvYy3wWmXPP4u89RcmN'\n",
        "watch_09=hd_wallet_factory.CreateFromExtendedKey(\"watcher_09\",ex_09)\n",
        "watch_09.Generate(account_idx = 0, change_idx = HdWalletBipChanges.CHAIN_EXT, addr_num = 10)\n",
        "watch_09.ToDict()"
      ],
      "metadata": {
        "id": "_hieP5u9S7Dw",
        "colab": {
          "base_uri": "https://localhost:8080/"
        },
        "outputId": "7755e49b-917c-4e56-fc25-0f2d6c120ea3"
      },
      "execution_count": 52,
      "outputs": [
        {
          "output_type": "execute_result",
          "data": {
            "text/plain": [
              "{'account_key': {'address': 'DU5tpiNJvU1sfCBCrqFnfwX1hZjb7gBnyx',\n",
              "  'ex_pub': 'dgub8seQT7BUFMQfoVNgMG7W9tXhDcLEYxyM6Ntf4k5qN49cMaeRK1iZegYCpQ4RGeEMUxBtFFvhpWqvvk3McuEUojdhPvYy3wWmXPP4u89RcmN',\n",
              "  'raw_compr_pub': '020040b3ed404b79f3107f8ee6bb8f4c51227094374081e8a88437f59cac0ec896',\n",
              "  'raw_uncompr_pub': '040040b3ed404b79f3107f8ee6bb8f4c51227094374081e8a88437f59cac0ec896134cef5ff2c6092ed0049b6baa9323039fcf70c0965e739198fd005fe80a1822'},\n",
              " 'address': {'address_0': {'address': 'DBcNgj9T7zy8b12igfRPQw7XbnaptwqCbm',\n",
              "   'ex_pub': 'dgub8w6D9esvEam9y5RLQDUvZ8ie96mxQYHeDpq9kBbzKtpT5vcrmCh7BQq1KEJ1aW7m85qQdnynLNxjgd7J3dRG2ZAfWAupuGDKrx5EQTsQKVH',\n",
              "   'raw_compr_pub': '03797a01b3e9c7ac5273ab0ff37c0917dfe0f7909ec2144977aad5f2d96bae1fc7',\n",
              "   'raw_uncompr_pub': '04797a01b3e9c7ac5273ab0ff37c0917dfe0f7909ec2144977aad5f2d96bae1fc74f41335fc8ae94be4d55daaf3afed7af3057dcb44aede7ca9d9888a02ed62da9'},\n",
              "  'address_1': {'address': 'DTAvSJgxbQ7hQSffTB5tg9MPZzJ6VKLQGJ',\n",
              "   'ex_pub': 'dgub8w6D9esvEamA1HhaMSogPDau7oWhnThpS2phDqstSoJJKdUD5iZRQXPZSeP2mM2gkVxeSadkUSeqhN98HDYBEziAU2oad46F4osv58MnFwZ',\n",
              "   'raw_compr_pub': '03bf03dea1cb1dddb81f968d3828e6da8f6e34447c507c6add66b54f59551a2afb',\n",
              "   'raw_uncompr_pub': '04bf03dea1cb1dddb81f968d3828e6da8f6e34447c507c6add66b54f59551a2afbb3c676fb42d6e71ea3073a006d6073bb023de3d987fa4cb4373281fb9e8aac8f'},\n",
              "  'address_2': {'address': 'DJvdop5eker2ZHij9Gmh1qGCc7G2TijPy3',\n",
              "   'ex_pub': 'dgub8w6D9esvEamA5TFkyAF4Yh5ixfpD69mz4DofXz9fosiY8KC4uKm4x2EJig6iUQHRhTgRmkjBGVzJ7LMo44RVcv5rXRFpBHt7Nxo4rRjE3uQ',\n",
              "   'raw_compr_pub': '034e459cd3a4001a1985eb1e6b1c443e83b46e9876f96ff135ad1d054b1906384e',\n",
              "   'raw_uncompr_pub': '044e459cd3a4001a1985eb1e6b1c443e83b46e9876f96ff135ad1d054b1906384ee0760b13a6d78cb5b3ef973943f7af3d42d7e06533aa7063149e1057c7c1422f'},\n",
              "  'address_3': {'address': 'DRsTTHnf9SYiMt8vinTfNDi78Ag55te62e',\n",
              "   'ex_pub': 'dgub8w6D9esvEamA7AovfaLrRDNbGXuj1ebJ3K6Pvmr4qUdsiLKG6ksBqr6RTP26fRmzCVjPSS5AVHNp1tcKcxt67RXDCZHHp5XrBUoigQP84eV',\n",
              "   'raw_compr_pub': '033f22fc0173e8c2b08b0664001828dde27eb6b2cf9232f95ccb22e045ae41a706',\n",
              "   'raw_uncompr_pub': '043f22fc0173e8c2b08b0664001828dde27eb6b2cf9232f95ccb22e045ae41a70649a78b381fb467fa75e6f0a73652a15849438181e25b7cb5afbf48eb72cf703d'},\n",
              "  'address_4': {'address': 'DPjudXU9XHz487RpXcAfSPbY4h1F85cyzd',\n",
              "   'ex_pub': 'dgub8w6D9esvEamAAeGPdQu3Bmsp79cWcvBTQQSHtP8jZ2C9McHAxdbjmELDLDHjPgYs5Ndyva1RTaKsFGzNmhaWC33a3yFpTNLU9GuvTwz8jVd',\n",
              "   'raw_compr_pub': '03e0e6ce917c8cb5e3b5afe9ed7d6e27c3c44eae17fd6a5afa3262745f8c664182',\n",
              "   'raw_uncompr_pub': '04e0e6ce917c8cb5e3b5afe9ed7d6e27c3c44eae17fd6a5afa3262745f8c664182b64106eea6fc4b13efbc78877a92624864a013e09fdfd95d23d6cc8d992be311'},\n",
              "  'address_5': {'address': 'DJuRujqNU6yYRx7TUPhdSBomnyjq3fJvUF',\n",
              "   'ex_pub': 'dgub8w6D9esvEamABc5sbNzUKBqLYQUUzurqm5JgPXtYPSZfZNN8mNEapAvFnPcMbnv4jEqhHH34Xq8bPGKEMRkEqnx5QzoZHDKnBhtL5WXdLVr',\n",
              "   'raw_compr_pub': '02f3b5b03ef1a86d08e7ec13eb9652ebcabfd57a132b7e26ddc45c514d77c8a98e',\n",
              "   'raw_uncompr_pub': '04f3b5b03ef1a86d08e7ec13eb9652ebcabfd57a132b7e26ddc45c514d77c8a98e87b8a314ba66425c6fb6e836ccca40f8eda79f38ce93c197c828c3ae2c7c9c06'},\n",
              "  'address_6': {'address': 'D8XbpiDauFQftCbf1gy8FTUHKQKm9KcfuX',\n",
              "   'ex_pub': 'dgub8w6D9esvEamADzteJYc9yvJAcVoP1Nqz1DhaXiUtwvja7p9KV44vACEDZu2zqzZNtFXizndqsnf8EZNEBukXxG6XoP8mhjX4qD2f2gowJ7Q',\n",
              "   'raw_compr_pub': '02b2040c9077bb452f0fb20d7076606f96b2e3eed8a33ba60ef81a78696fb0355d',\n",
              "   'raw_uncompr_pub': '04b2040c9077bb452f0fb20d7076606f96b2e3eed8a33ba60ef81a78696fb0355d79b7e8f4203d48c694bd856096150a2e063aa6bb2098ee876e366fe2f3f58f2e'},\n",
              "  'address_7': {'address': 'D8VhDPNQzsHCqrLkPWERVJyxT4SoLZNSzL',\n",
              "   'ex_pub': 'dgub8w6D9esvEamAGo7McFxCgvfmXowpxpYeRVUd3pHB2Gt7SA8CjFaMpfsj2txcUd9pDCQvjkEsMUTh55HyaFqmyhVPokn1C6rZbftTtX6NqdG',\n",
              "   'raw_compr_pub': '02ef7d91d82a4f3d92675fc09f32baa27534c345ff085979cedecf682086eae326',\n",
              "   'raw_uncompr_pub': '04ef7d91d82a4f3d92675fc09f32baa27534c345ff085979cedecf682086eae326b2116a5513a4891e4e3e4cb93af2eda31d488603ac15123876dff43441734ea0'},\n",
              "  'address_8': {'address': 'DFb5pALcHZrTtFdRVKma8rWM73XZADQWRN',\n",
              "   'ex_pub': 'dgub8w6D9esvEamAL6SqzGrtGU636GNgma3ER8uUjyj4M3m9T73vSXVS2tQkKoWoiUihbMPeueLyCCzHcUQvWHVhShQVsdZuNPQtx4fjRBaKWoZ',\n",
              "   'raw_compr_pub': '02f3a50c43578d7e380932d9169881fda14ae472c5332cd389829ac786a5070897',\n",
              "   'raw_uncompr_pub': '04f3a50c43578d7e380932d9169881fda14ae472c5332cd389829ac786a50708970bd8257b567051bdcaceda115048526784295697ba6d9fd2fa2c179d8c393b40'},\n",
              "  'address_9': {'address': 'DDpZQ8uPNXMrcADuY2fphnHgYeVwpD5CA2',\n",
              "   'ex_pub': 'dgub8w6D9esvEamAPK9ZLJLMehaq3nKupPReZA1igrmy144MRzUP83uL2XYCJRStTyzSC8wZsHcwd8Fp1UYgTmbvqFNAXh1dQdkCZLUqaFWH1jm',\n",
              "   'raw_compr_pub': '024d85bfa61befa59f5d07865152bbdb1d42dd002293a76817d658563bc54067c1',\n",
              "   'raw_uncompr_pub': '044d85bfa61befa59f5d07865152bbdb1d42dd002293a76817d658563bc54067c17a45fe8d8ef0a6efae10d905645fa8a84f26d6e0d631dff20e608cc0eb7a3bdc'}},\n",
              " 'change_idx': 0,\n",
              " 'change_key': {'address': 'DKYSGcCF7js6TwFFaYKqzA6dTfsCrz2iUj',\n",
              "  'ex_pub': 'dgub8uu2ChGGLQcFXt5QEBoHJNHhxubH6LXWxzMcVKNRfMyQgCfpWquMYkNsiXsQeEddLzX692Am7rgZ7s7wLqts1FbXNuA2pGtRdPuht92J4pm',\n",
              "  'raw_compr_pub': '0276ccc3aeb941db55bb864150c85e2ed4574903dc2f5140af260ef0b6f1692ab2',\n",
              "  'raw_uncompr_pub': '0476ccc3aeb941db55bb864150c85e2ed4574903dc2f5140af260ef0b6f1692ab2bc853a337073bb05d7a7a9eede826eeead3f19d01a20c1deee515e2a49492958'},\n",
              " 'coin_name': 'Dogecoin (DOGE)',\n",
              " 'spec_name': 'BIP-0044',\n",
              " 'wallet_name': 'watcher_09'}"
            ]
          },
          "metadata": {},
          "execution_count": 52
        }
      ]
    },
    {
      "cell_type": "markdown",
      "source": [
        "#Identity\n",
        "\n",
        "\n",
        "Identity has different compnents and posible constructions. Here we will form identity as a json dictionary. Every key value pair is opt-in. \n",
        "\n",
        "```python\n",
        "identity_dict = { 'name' : 'DrDoeg',\n",
        "                  'field' : 'Physics', \n",
        "                  'twitter' : 't_physics',\n",
        "                  'hd_pub_0' : {'pub/44/3/0/0':'dgub8uu2ChGGLQcFXt5QEBoHJNHhxubH6LXWxzMcVKNRfMyQgCfpWquMYkNsiXsQeEddLzX692Am7rgZ7s7wLqts1FbXNuA2pGtRdPuht92J4pm',\n",
        "                                 'sig_trans':'HexSignatutureOfTheTransactionThatStoresThis'} }\n",
        "```\n",
        "\n",
        "There can be three types of entries:\n",
        "- declaritive entries: these are names or datapoints which are stated unproven as self identifiers\n",
        "- social pointers: these are pointers to social media or websites that contain references to the identity transaction. these references serve as proof in the identity handshake.\n",
        "- public keys: these are references to hd keys or single keys. these entries are dictionaries that contain the a public key reference and a signature from that keypair of the identity transaction"
      ],
      "metadata": {
        "id": "WDYDR3IrZY-s"
      }
    },
    {
      "cell_type": "code",
      "source": [
        ""
      ],
      "metadata": {
        "id": "NIGLYwDIfJ5o"
      },
      "execution_count": null,
      "outputs": []
    }
  ]
}