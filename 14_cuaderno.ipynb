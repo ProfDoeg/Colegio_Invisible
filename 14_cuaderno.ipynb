{
  "nbformat": 4,
  "nbformat_minor": 0,
  "metadata": {
    "colab": {
      "name": "14_cuaderno.ipynb",
      "provenance": [],
      "include_colab_link": true
    },
    "kernelspec": {
      "name": "python3",
      "display_name": "Python 3"
    },
    "language_info": {
      "name": "python"
    }
  },
  "cells": [
    {
      "cell_type": "markdown",
      "metadata": {
        "id": "view-in-github",
        "colab_type": "text"
      },
      "source": [
        "<a href=\"https://colab.research.google.com/github/ProfDoeg/Colegio_Invisible/blob/main/14_cuaderno.ipynb\" target=\"_parent\"><img src=\"https://colab.research.google.com/assets/colab-badge.svg\" alt=\"Open In Colab\"/></a>"
      ]
    },
    {
      "cell_type": "code",
      "source": [
        "#! rm Colegio_Invisible -r"
      ],
      "metadata": {
        "id": "6YV5qP8RODUW"
      },
      "execution_count": null,
      "outputs": []
    },
    {
      "cell_type": "code",
      "execution_count": null,
      "metadata": {
        "id": "p80LxM-iMpBC",
        "colab": {
          "base_uri": "https://localhost:8080/"
        },
        "outputId": "7fe125cd-e805-467b-ca32-27cb6d367476"
      },
      "outputs": [
        {
          "output_type": "stream",
          "name": "stdout",
          "text": [
            "Cloning into 'Colegio_Invisible'...\n",
            "remote: Enumerating objects: 1118, done.\u001b[K\n",
            "remote: Counting objects: 100% (128/128), done.\u001b[K\n",
            "remote: Compressing objects: 100% (45/45), done.\u001b[K\n",
            "remote: Total 1118 (delta 91), reused 120 (delta 83), pack-reused 990\u001b[K\n",
            "Receiving objects: 100% (1118/1118), 131.12 MiB | 16.20 MiB/s, done.\n",
            "Resolving deltas: 100% (773/773), done.\n"
          ]
        }
      ],
      "source": [
        "! git clone https://github.com/ProfDoeg/Colegio_Invisible.git"
      ]
    },
    {
      "cell_type": "markdown",
      "source": [
        "In Notebook 11 we input data through a chain of op_returns. In Notebook 12 and 13 this evolved to embedding data from using op_returns embedded in parallel transactions. Parallel transactions are spent from UTXO's from the same transaction and can be broadcast simultaneously.\n",
        "\n",
        "Here we take a hybrid approach, call them parallel chains.\n",
        "\n",
        "We will need \n",
        "- a function that reads down the chain, appending op_returns\n",
        "- a system that will grow the chain until the data clip is empty\n"
      ],
      "metadata": {
        "id": "A54RU5ZeUZZk"
      }
    },
    {
      "cell_type": "code",
      "source": [
        "from PIL import Image\n",
        "import numpy as np"
      ],
      "metadata": {
        "id": "jSzywLaHMsem"
      },
      "execution_count": null,
      "outputs": []
    },
    {
      "cell_type": "markdown",
      "source": [
        "what can we put into blockchain...\n",
        "Op_Return\n",
        "80 bytes and we will use 64 bytes for image data\n",
        "\n",
        "each byte is made up of 8 binary values 1/0 called bits\n",
        "\n",
        "64 bytes = 64*8...512 bits\n",
        "\n",
        "We want to put image in single block\n",
        "\n",
        "PROPOSAL:\n",
        "\n",
        "16x16 image = 256 pixels\n",
        "\n",
        "only get to use 2 bits per pixel\n",
        "\n",
        "- 0,0  0 \n",
        "- 0,1  64\n",
        "- 1,0  128\n",
        "- 1,1  192\n",
        "\n",
        "1 byte [ , , , , , , , ]\n",
        "\n",
        "1 byte can tell us color of 4 pixels\n",
        "each one taking up 2 bits"
      ],
      "metadata": {
        "id": "g5RXqfJ_VK9u"
      }
    },
    {
      "cell_type": "code",
      "source": [
        "!ls Colegio_Invisible/img"
      ],
      "metadata": {
        "id": "zo2ZCW_xNzMj"
      },
      "execution_count": null,
      "outputs": []
    },
    {
      "cell_type": "code",
      "source": [
        "stego_image=Image.open('Colegio_Invisible/img/cat.png')\n",
        "stego_image=stego_image.resize((32,32))\n",
        "stego_image"
      ],
      "metadata": {
        "id": "3cAzcOtCNoF-"
      },
      "execution_count": null,
      "outputs": []
    },
    {
      "cell_type": "code",
      "source": [
        "type(stego_image)"
      ],
      "metadata": {
        "id": "vJ758msHNu5T"
      },
      "execution_count": null,
      "outputs": []
    },
    {
      "cell_type": "code",
      "source": [
        "stego_array = np.array(stego_image)\n",
        "stego_array"
      ],
      "metadata": {
        "id": "MK5bUIKbOTbj"
      },
      "execution_count": null,
      "outputs": []
    },
    {
      "cell_type": "markdown",
      "source": [
        "**`uint8`** stands for unsigned 8-bit integer\n",
        "- 8 binary 1/0 values\n",
        "- that is one byte\n",
        "- a number from 0-255\n",
        "- two hex values like ff"
      ],
      "metadata": {
        "id": "5Gq3lpQ2Oh92"
      }
    },
    {
      "cell_type": "code",
      "source": [
        "2**8"
      ],
      "metadata": {
        "id": "K1Cc4FPg7JwG"
      },
      "execution_count": null,
      "outputs": []
    },
    {
      "cell_type": "code",
      "source": [
        "stego_array.dtype"
      ],
      "metadata": {
        "id": "HnvaTb7qOcCX"
      },
      "execution_count": null,
      "outputs": []
    },
    {
      "cell_type": "code",
      "source": [
        "stego_array.shape"
      ],
      "metadata": {
        "id": "ZtupzBOJOWjT"
      },
      "execution_count": null,
      "outputs": []
    },
    {
      "cell_type": "code",
      "source": [
        "stego_array[:,:,:3]"
      ],
      "metadata": {
        "id": "kCWICwyyYpxN"
      },
      "execution_count": null,
      "outputs": []
    },
    {
      "cell_type": "code",
      "source": [
        "def grey_imgarr(imgarr):\n",
        "  return imgarr[:,:,:3].mean(axis=2).astype('uint8')"
      ],
      "metadata": {
        "id": "_etmN93CuY2-"
      },
      "execution_count": null,
      "outputs": []
    },
    {
      "cell_type": "code",
      "source": [
        "stego_array_grey=stego_array[:,:,:3].mean(axis=2).astype('uint8')\n",
        "stego_array_grey.shape,stego_array_grey.dtype"
      ],
      "metadata": {
        "id": "kWBZaDEZOgW_"
      },
      "execution_count": null,
      "outputs": []
    },
    {
      "cell_type": "code",
      "source": [
        "stego_array_grey"
      ],
      "metadata": {
        "id": "A0nsbRaZOnxN"
      },
      "execution_count": null,
      "outputs": []
    },
    {
      "cell_type": "code",
      "source": [
        "stego_image_grey = Image.fromarray(stego_array_grey)\n",
        "stego_image_grey"
      ],
      "metadata": {
        "id": "IiMfNkWmOulw"
      },
      "execution_count": null,
      "outputs": []
    },
    {
      "cell_type": "code",
      "source": [
        "def int_2_bit_array(num):\n",
        "    bin_str=bin(num)\n",
        "    bit_list=[int(bit) for bit in bin_str[2:]]\n",
        "    bit_list=[0]*(8-len(bit_list))+bit_list\n",
        "    bit_array=np.array(bit_list,dtype='uint8')\n",
        "    return bit_array"
      ],
      "metadata": {
        "id": "TsrD8_OFO1n6"
      },
      "execution_count": null,
      "outputs": []
    },
    {
      "cell_type": "code",
      "source": [
        "int_2_bit_array(255)"
      ],
      "metadata": {
        "id": "Fcwm8Rm187LD"
      },
      "execution_count": null,
      "outputs": []
    },
    {
      "cell_type": "code",
      "source": [
        "int_2_bit_array(2)"
      ],
      "metadata": {
        "id": "ZnC3XzE49YD0"
      },
      "execution_count": null,
      "outputs": []
    },
    {
      "cell_type": "code",
      "source": [
        "int_2_bit_array(64)"
      ],
      "metadata": {
        "id": "xDfN1uS99cJN"
      },
      "execution_count": null,
      "outputs": []
    },
    {
      "cell_type": "code",
      "source": [
        "int_2_bit_array(65)"
      ],
      "metadata": {
        "id": "GCE5EUEZ9mWt"
      },
      "execution_count": null,
      "outputs": []
    },
    {
      "cell_type": "code",
      "source": [
        "int_2_bit_array(68)"
      ],
      "metadata": {
        "id": "3kg214gB9uIJ"
      },
      "execution_count": null,
      "outputs": []
    },
    {
      "cell_type": "code",
      "source": [
        "int_2_bit_array(1)"
      ],
      "metadata": {
        "id": "WJ3jeAqi8680"
      },
      "execution_count": null,
      "outputs": []
    },
    {
      "cell_type": "code",
      "source": [
        "int_2_bit_array(0)"
      ],
      "metadata": {
        "id": "7gO-XCC38zfG"
      },
      "execution_count": null,
      "outputs": []
    },
    {
      "cell_type": "markdown",
      "source": [
        "Goal:\n",
        "\n",
        "- take image of 256 bytes and reduce each byte to 2 bit in form of 2 element array\n",
        "- turn that all into 512 bits\n",
        "- turn 512 bits into 64 bytes"
      ],
      "metadata": {
        "id": "KDXmg93RcmvX"
      }
    },
    {
      "cell_type": "markdown",
      "source": [
        "# Generalize Standard For Images (MxN)\n",
        "\n",
        "If we create a standard for the header that describes the data stored then we can choose the following paramenters:\n",
        "\n",
        "- length\n",
        "- width\n",
        "- color dim \n",
        "- color bit count\n",
        "\n",
        "In total the number of bits is the product of all the parameters\n",
        "\n",
        "## Greyscale Image \n",
        "\n",
        "## RGB Image\n",
        "\n",
        "## Two Channel Color Standard\n",
        "\n",
        "## Four Channel\n",
        "\n",
        "## General Color Dim\n",
        "\n"
      ],
      "metadata": {
        "id": "kFmxqVuDea6r"
      }
    },
    {
      "cell_type": "code",
      "source": [
        "def grey_imgarr(imgarr):\n",
        "  return imgarr[:,:,:3].mean(axis=2).astype('uint8')\n",
        "\n",
        "def message_2_bit_array(message,mode=None):\n",
        "    '''This function takes in a message as string, bytestring or hextring.\n",
        "    If hexstring input the set mode='hex' '''\n",
        "    if type(message)==bytes:\n",
        "        hex_str=message.hex()\n",
        "    elif (type(message)==str):\n",
        "        if mode not in ('hex','hexstring'):\n",
        "            hex_str=message.encode().hex()\n",
        "        else:\n",
        "            hex_str=message\n",
        "    else:\n",
        "        print('fix the input and mode')\n",
        "        return None\n",
        "    \n",
        "    num=int('0x'+hex_str,base=16)\n",
        "    byte_len=(len(hex_str)+1)//2\n",
        "    bit_len=byte_len*8\n",
        "    bin_str=bin(num)\n",
        "    bit_list=[int(bit) for bit in bin_str[2:]]\n",
        "    bit_list=[0]*(bit_len-len(bit_list))+bit_list\n",
        "    bit_array=np.array(bit_list,dtype='uint8')\n",
        "    return bit_array\n",
        "\n",
        "def bit_array_2_byte_str(bit_array):\n",
        "    '''Convert bit array to a bytestring'''\n",
        "    bit_list=[ str(bit) for bit in bit_array]\n",
        "    bin_str='0b'+(''.join(bit_list))\n",
        "    num=int(bin_str,base=2)\n",
        "    return num.to_bytes(len(bit_array)//8,'big')\n",
        "\n",
        "def bit_array_2_hex_str(bit_array):  \n",
        "    '''Convert a bit array to a hexstring'''\n",
        "    return bit_array_2_byte_str(bit_array).hex()\n",
        "\n",
        "def bit_array_2_str(bit_array,encoding='utf-8'):\n",
        "    '''Convert a bit array to a string'''\n",
        "    return bit_array_2_byte_str(bit_array).decode(encoding)\n",
        "\n",
        "def int2bitarray(x,bit=8):\n",
        "  return message_2_bit_array(hex(x)[2:],mode='hex')[:bit]\n",
        "\n",
        "def bitarray2int(b_arr):\n",
        "  ln=b_arr.shape[0]\n",
        "  scales=(2**np.arange(7,-1,-1))[:ln]\n",
        "  return (b_arr*scales).sum()\n",
        "\n",
        "def imgarr2bitarray(imgarr,bit=8):\n",
        "  return np.array([ int2bitarray(it,bit) for it in imgarr.reshape(-1)]).reshape(-1)\n",
        "\n",
        "def bitarray2imgarr(barrs,imgshape=(16,16),bit=2,color=1):\n",
        "  lns=len(barrs.reshape(-1))\n",
        "  #Bs=barrs.reshape(*imgshape,bit)\n",
        "  intlst=[ bitarray2int(barrs.reshape(-1)[i:i+bit]) for i in range(0,lns,bit) ]\n",
        "  intarr=np.array(intlst).reshape(*imgshape,color).astype('uint8')\n",
        "  return intarr\n",
        " \n",
        "def bitarray2imgarr_scale(barrs,imgshape=(16,16),bit=2,color=1):\n",
        "  lns=len(barrs.reshape(-1))\n",
        "  #Bs=barrs.reshape(*imgshape,bit)\n",
        "  intlst=[ bitarray2int_scale(barrs.reshape(-1)[i:i+bit]) for i in range(0,lns,bit) ]\n",
        "  intarr=np.array(intlst).reshape(*imgshape,color).astype('uint8')\n",
        "  return intarr"
      ],
      "metadata": {
        "id": "rsUqVeQXiaH4"
      },
      "execution_count": null,
      "outputs": []
    },
    {
      "cell_type": "code",
      "source": [
        "class bitimage():\n",
        "\n",
        "  def __init__(self,imgpath,dims=(16,16),bit=2,color=1):\n",
        "    from PIL import Image\n",
        "    self.color=color\n",
        "    self.bit=bit\n",
        "    self.dims=list(dims)\n",
        "    self.img_og=Image.open(imgpath)\n",
        "    self.img_resize=self.img_og.resize(dims)\n",
        "    self.grey=grey_imgarr(np.array(self.img_resize))\n",
        "    self.img_grey=Image.fromarray(self.grey)\n",
        "    self.bitarray=imgarr2bitarray(self.grey,bit)\n",
        "    self.bitarray_color=imgarr2bitarray(np.array(self.img_resize)[:,:,:color],bit)\n",
        "    self.newimg=Image.fromarray(bitarray2imgarr(self.bitarray,imgshape=dims[::-1],bit=bit,color=1).squeeze())\n",
        "    self.newimg_color=Image.fromarray(bitarray2imgarr(self.bitarray_color,imgshape=dims[::-1],bit=bit,color=3).squeeze())\n",
        "    self.bytestring=bit_array_2_byte_str(self.bitarray)\n",
        "    self.bytestring_color=bit_array_2_byte_str(self.bitarray_color)\n",
        "\n",
        "\n"
      ],
      "metadata": {
        "id": "zaDY5mN6q_eR"
      },
      "execution_count": null,
      "outputs": []
    },
    {
      "cell_type": "code",
      "source": [
        "!ls Colegio_Invisible/img"
      ],
      "metadata": {
        "id": "BMHGoycbRTmT"
      },
      "execution_count": null,
      "outputs": []
    },
    {
      "cell_type": "markdown",
      "source": [
        "# Transform Image and Create Byte Encoding "
      ],
      "metadata": {
        "id": "2XqOjTOpAFSm"
      }
    },
    {
      "cell_type": "code",
      "source": [
        "bimg=bitimage('Colegio_Invisible/img/cat.png',dims=(256,256),bit=5,color=3)\n",
        "display(bimg.newimg)\n",
        "display(bimg.img_grey)\n",
        "display(bimg.newimg_color)\n",
        "display(bimg.img_resize)\n",
        "len(bimg.bytestring)/80,len(bimg.bytestring_color)/80"
      ],
      "metadata": {
        "colab": {
          "base_uri": "https://localhost:8080/",
          "height": 1000
        },
        "id": "JNi4bF6sH_Gd",
        "outputId": "05ec2ccb-eecd-4285-b95c-6cd0a6572fe2"
      },
      "execution_count": null,
      "outputs": [
        {
          "output_type": "display_data",
          "data": {
            "text/plain": [
              "<PIL.Image.Image image mode=L size=256x256 at 0x7F1824CD6C50>"
            ],
            "image/png": "[encoded data removed]"
          },
          "metadata": {}
        },
        {
          "output_type": "display_data",
          "data": {
            "text/plain": [
              "<PIL.Image.Image image mode=L size=256x256 at 0x7F1826DDF050>"
            ],
            "image/png": "[encoded data removed]"
          },
          "metadata": {}
        },
        {
          "output_type": "display_data",
          "data": {
            "text/plain": [
              "<PIL.Image.Image image mode=RGB size=256x256 at 0x7F182657DFD0>"
            ],
            "image/png": "[encoded data removed]"
          },
          "metadata": {}
        },
        {
          "output_type": "display_data",
          "data": {
            "text/plain": [
              "<PIL.Image.Image image mode=RGBA size=256x256 at 0x7F18265FBF10>"
            ],
            "image/png": "[encoded data removed]"
          },
          "metadata": {}
        },
        {
          "output_type": "execute_result",
          "data": {
            "text/plain": [
              "(512.0, 1536.0)"
            ]
          },
          "metadata": {},
          "execution_count": 14
        }
      ]
    },
    {
      "cell_type": "markdown",
      "source": [
        "# Create Embedding for Blockchain"
      ],
      "metadata": {
        "id": "XUPKMXFM_-QB"
      }
    },
    {
      "cell_type": "code",
      "source": [
        "import hashlib \n",
        "\n",
        "message=bimg.bytestring_color\n",
        "H=hashlib.sha256(message)\n",
        "\n",
        "n=80\n",
        "chunks = [message[i:i+n] for i in range(0, len(message), n)]\n",
        "\n",
        "print(len(chunks))\n",
        "print(len(chunks[-1]))\n",
        "\n",
        "print(H.digest())"
      ],
      "metadata": {
        "id": "clOFe3jmD8Iq"
      },
      "execution_count": null,
      "outputs": []
    },
    {
      "cell_type": "code",
      "source": [
        "header=b'\\xc1\\xdd\\x00\\x01\\x03\\xff\\x01\\x00\\x40\\x00\\x40\\x05'\n",
        "text='Peter Bea'.encode()\n",
        "print(len(header))\n",
        "print(len(text))\n",
        "header+text"
      ],
      "metadata": {
        "id": "3rv-SKod-DXx"
      },
      "execution_count": null,
      "outputs": []
    },
    {
      "cell_type": "code",
      "source": [
        "package=[header+text]+chunks\n",
        "package"
      ],
      "metadata": {
        "id": "yXA37A0yLCJB"
      },
      "execution_count": null,
      "outputs": []
    },
    {
      "cell_type": "code",
      "source": [
        "! pip install eciespy eth_keys cryptos qrcode base58 "
      ],
      "metadata": {
        "colab": {
          "base_uri": "https://localhost:8080/"
        },
        "id": "QZifm154JW46",
        "outputId": "93898bc3-31f9-4126-df87-4287892115eb"
      },
      "execution_count": null,
      "outputs": [
        {
          "output_type": "stream",
          "name": "stdout",
          "text": [
            "Looking in indexes: https://pypi.org/simple, https://us-python.pkg.dev/colab-wheels/public/simple/\n",
            "Collecting eciespy\n",
            "  Downloading eciespy-0.3.11-py3-none-any.whl (11 kB)\n",
            "Collecting eth_keys\n",
            "  Downloading eth_keys-0.4.0-py3-none-any.whl (21 kB)\n",
            "Requirement already satisfied: cryptos in /usr/local/lib/python3.7/dist-packages (1.36)\n",
            "Collecting qrcode\n",
            "  Downloading qrcode-7.3.1.tar.gz (43 kB)\n",
            "\u001b[K     |████████████████████████████████| 43 kB 2.0 MB/s \n",
            "\u001b[?25hCollecting base58\n",
            "  Downloading base58-2.1.1-py3-none-any.whl (5.6 kB)\n",
            "Collecting pycryptodome<4.0.0,>=3.9.9\n",
            "  Downloading pycryptodome-3.14.1-cp35-abi3-manylinux2010_x86_64.whl (2.0 MB)\n",
            "\u001b[K     |████████████████████████████████| 2.0 MB 61.7 MB/s \n",
            "\u001b[?25hCollecting coincurve<16,>=13\n",
            "  Downloading coincurve-15.0.1-cp37-cp37m-manylinux_2_17_x86_64.manylinux2014_x86_64.whl (555 kB)\n",
            "\u001b[K     |████████████████████████████████| 555 kB 40.7 MB/s \n",
            "\u001b[?25hCollecting eth_keys\n",
            "  Downloading eth_keys-0.3.4-py3-none-any.whl (21 kB)\n",
            "Collecting eth-typing<3.0.0,>=2.2.1\n",
            "  Downloading eth_typing-2.3.0-py3-none-any.whl (6.2 kB)\n",
            "Collecting eth-utils<2.0.0,>=1.8.2\n",
            "  Downloading eth_utils-1.10.0-py3-none-any.whl (24 kB)\n",
            "Collecting asn1crypto\n",
            "  Downloading asn1crypto-1.5.1-py2.py3-none-any.whl (105 kB)\n",
            "\u001b[K     |████████████████████████████████| 105 kB 19.8 MB/s \n",
            "\u001b[?25hRequirement already satisfied: cffi>=1.3.0 in /usr/local/lib/python3.7/dist-packages (from coincurve<16,>=13->eciespy) (1.15.0)\n",
            "Requirement already satisfied: pycparser in /usr/local/lib/python3.7/dist-packages (from cffi>=1.3.0->coincurve<16,>=13->eciespy) (2.21)\n",
            "Collecting cytoolz<1.0.0,>=0.10.1\n",
            "  Downloading cytoolz-0.11.2.tar.gz (481 kB)\n",
            "\u001b[K     |████████████████████████████████| 481 kB 40.1 MB/s \n",
            "\u001b[?25hCollecting eth-hash<0.4.0,>=0.3.1\n",
            "  Downloading eth_hash-0.3.2-py3-none-any.whl (8.8 kB)\n",
            "Requirement already satisfied: toolz>=0.8.0 in /usr/local/lib/python3.7/dist-packages (from cytoolz<1.0.0,>=0.10.1->eth-utils<2.0.0,>=1.8.2->eth_keys) (0.11.2)\n",
            "Building wheels for collected packages: cytoolz, qrcode\n",
            "  Building wheel for cytoolz (setup.py) ... \u001b[?25l\u001b[?25hdone\n",
            "  Created wheel for cytoolz: filename=cytoolz-0.11.2-cp37-cp37m-linux_x86_64.whl size=1236710 sha256=aa93fab3759d4a375f9526c4d4269cd10a07cda06ec996a77ab7e88f42ad86fc\n",
            "  Stored in directory: /root/.cache/pip/wheels/38/70/71/ca13ea3d36ccd0b3d0ec7d7a4ca67522048d695b556bba4f59\n",
            "  Building wheel for qrcode (setup.py) ... \u001b[?25l\u001b[?25hdone\n",
            "  Created wheel for qrcode: filename=qrcode-7.3.1-py3-none-any.whl size=40402 sha256=a61edffa59f6fc106ec7ab242ed8edcdcd0cd916bbed4983f269e17a9928bca1\n",
            "  Stored in directory: /root/.cache/pip/wheels/93/d7/39/a4111be2cfb8e679938aa671a37888b6afb1f9e7d748e94492\n",
            "Successfully built cytoolz qrcode\n",
            "Installing collected packages: eth-typing, eth-hash, cytoolz, eth-utils, asn1crypto, pycryptodome, eth-keys, coincurve, qrcode, eciespy, base58\n",
            "Successfully installed asn1crypto-1.5.1 base58-2.1.1 coincurve-15.0.1 cytoolz-0.11.2 eciespy-0.3.11 eth-hash-0.3.2 eth-keys-0.3.4 eth-typing-2.3.0 eth-utils-1.10.0 pycryptodome-3.14.1 qrcode-7.3.1\n"
          ]
        }
      ]
    },
    {
      "cell_type": "code",
      "source": [
        "import pandas as pd\n",
        "from cryptos.py3specials import safe_hexlify, from_string_to_bytes, from_int_to_byte, from_string_to_bytes\n",
        "from cryptos import serialize,deserialize\n",
        "\n",
        "import hashlib\n",
        "import os\n",
        "import getpass\n",
        "import ecies\n",
        "import eth_keys\n",
        "import cryptos\n",
        "import qrcode\n",
        "import base58\n",
        "from PIL import Image\n",
        "import matplotlib.pyplot as plt\n",
        "%matplotlib inline\n",
        "\n",
        "def import_privKey(privkey_filepath,password=None):\n",
        "    if password==None:\n",
        "        password = getpass.getpass(\"Input password for decrypting keyfile: \")\n",
        "    password=password.encode()\n",
        "    f=open(privkey_filepath,'rb')\n",
        "    decrypted_bytes=ecies.aes_decrypt(key=hashlib.sha256(password).digest(),cipher_text=f.read())\n",
        "    privKey=eth_keys.keys.PrivateKey(decrypted_bytes)\n",
        "    return privKey\n",
        "\n",
        "def import_pubKey(pubkey_filepath):\n",
        "    f=open(pubkey_filepath,'rb')\n",
        "    privKey=eth_keys.keys.PublicKey(f.read())\n",
        "    return privKey\n",
        "\n",
        "def import_addr(addr_filepath):\n",
        "    return open(addr_filepath,'rb').read().decode()\n",
        "\n",
        "def only_conf(utxos):\n",
        "    return [utxo for utxo in utxos\n",
        "            if doge.fetchtx(utxo['output'].split(':')[0])['confirmations']>0]\n",
        "\n",
        "def mk_opreturn(msg, rawtx=None, json=0):\n",
        "    \n",
        "    def op_push(data):\n",
        "        if type(data) == bytes:\n",
        "            bytedata=data\n",
        "        else:\n",
        "            bytedata=data.encode()\n",
        "        import struct\n",
        "        if len(data) < 0x4c:\n",
        "            return from_int_to_byte(len(bytedata)) + bytedata\n",
        "        elif len(data) < 0xff:\n",
        "            return from_int_to_byte(76) + struct.pack('<B', len(bytedata)) + bytedata\n",
        "        elif len(data) < 0xffff:\n",
        "            return from_int_to_byte(77) + struct.pack('<H', len(bytedata)) + bytedata\n",
        "        elif len(data) < 0xffffffff:\n",
        "            return from_int_to_byte(78) + struct.pack('<I', len(bytedata)) + bytedata\n",
        "        else: raise Exception(\"Input data error. Rawtx must be hex chars\" \\\n",
        "                            + \"0xffffffff > len(data) > 0\")\n",
        "\n",
        "    orhex = safe_hexlify(b'\\x6a' + op_push(msg))\n",
        "    orjson = {'script' : orhex, 'value' : 0}\n",
        "    if rawtx is not None:\n",
        "        try:\n",
        "            txo = deserialize(rawtx)\n",
        "            if not 'outs' in txo.keys(): raise Exception(\"OP_Return cannot be the sole output!\")\n",
        "            txo['outs'].append(orjson)\n",
        "            newrawtx = serialize(txo)\n",
        "            return newrawtx\n",
        "        except Exception as E:\n",
        "            print(E)\n",
        "            print(type(E))\n",
        "            raise Exception(\"Raw Tx Error!\")\n",
        "    return orhex if not json else orjson"
      ],
      "metadata": {
        "id": "grmMh1V2M9sL"
      },
      "execution_count": null,
      "outputs": []
    },
    {
      "cell_type": "markdown",
      "source": [
        "# Load Keys and Addresses"
      ],
      "metadata": {
        "id": "gUmrbQ38-h9c"
      }
    },
    {
      "cell_type": "code",
      "source": [
        "from google.colab import drive\n",
        "drive.mount('/content/drive')"
      ],
      "metadata": {
        "id": "qsBg50AOOqE_"
      },
      "execution_count": null,
      "outputs": []
    },
    {
      "cell_type": "code",
      "source": [
        "! cp drive/MyDrive/cinv/llaves.zip llaves.zip \n",
        "! unzip llaves.zip"
      ],
      "metadata": {
        "id": "6KAu2_OsQBf_"
      },
      "execution_count": null,
      "outputs": []
    },
    {
      "cell_type": "code",
      "source": [
        "from IPython.display import Image\n",
        "qr=Image('llaves/mi_addr.png')\n",
        "\n",
        "privKey=import_privKey('llaves/mi_prv.enc','')\n",
        "pub=import_pubKey('llaves/mi_pub.bin').to_hex()\n",
        "addr=import_addr('llaves/mi_addr.bin')\n",
        "\n",
        "display(qr)\n",
        "display(pub)\n",
        "display(addr)"
      ],
      "metadata": {
        "id": "_Zok6MGCQKnu"
      },
      "execution_count": null,
      "outputs": []
    },
    {
      "cell_type": "markdown",
      "source": [
        "# Inspect Outputs"
      ],
      "metadata": {
        "id": "-5nTrJB_-zsM"
      }
    },
    {
      "cell_type": "code",
      "source": [
        "doge=cryptos.Doge()\n",
        "#addy=doge.privtoaddr(privkeyhex)\n",
        "doge_unspents=only_conf( doge.unspent(addr) )\n",
        "doge_unspent_total=sum([unspent['value'] for unspent in doge_unspents])\n",
        "doge_unspent_total/10**8"
      ],
      "metadata": {
        "id": "LcQ5g4f_QP67"
      },
      "execution_count": null,
      "outputs": []
    },
    {
      "cell_type": "markdown",
      "source": [
        "# Create UTXO set for Enscription"
      ],
      "metadata": {
        "id": "Wund19uk-6kJ"
      }
    },
    {
      "cell_type": "code",
      "source": [
        "tip=13_70_000_000\n",
        "available=doge_unspent_total-tip\n",
        "n=len(package)\n",
        "gift=int(available/n)\n",
        "outputs=[{'value':gift , 'address': addr} for i in range(len(package))]\n",
        "setup_tx=doge.mktx(doge_unspents,outputs)"
      ],
      "metadata": {
        "id": "HHyH8E3yQ8Mg"
      },
      "execution_count": null,
      "outputs": []
    },
    {
      "cell_type": "code",
      "source": [
        "doge.signall(setup_tx,privKey.to_hex()[2:])"
      ],
      "metadata": {
        "id": "am6AtFyBQ-uI"
      },
      "execution_count": null,
      "outputs": []
    },
    {
      "cell_type": "code",
      "source": [
        "tip/(len(cryptos.serialize(setup_tx))/2)/100000"
      ],
      "metadata": {
        "id": "JeOmghAEWoZa"
      },
      "execution_count": null,
      "outputs": []
    },
    {
      "cell_type": "code",
      "source": [
        "funding=doge.pushtx(cryptos.serialize(setup_tx))\n",
        "funding"
      ],
      "metadata": {
        "id": "cjn_Pt28WDJx"
      },
      "execution_count": null,
      "outputs": []
    },
    {
      "cell_type": "code",
      "source": [
        "doge.fetchtx(funding['data']['txid'])"
      ],
      "metadata": {
        "id": "aSKkBI_MWN-4"
      },
      "execution_count": null,
      "outputs": []
    },
    {
      "cell_type": "code",
      "source": [
        "#UTXO set\n",
        "sparkle_unspents=only_conf( doge.unspent(addr) )\n",
        "sparkle_unspents"
      ],
      "metadata": {
        "id": "f7_3zSOzWa5f"
      },
      "execution_count": null,
      "outputs": []
    },
    {
      "cell_type": "code",
      "source": [
        "len(sparkle_unspents)"
      ],
      "metadata": {
        "id": "W7HfG-KLHwXo"
      },
      "execution_count": null,
      "outputs": []
    },
    {
      "cell_type": "code",
      "source": [
        "input_monolists=[ [elem] for elem in sparkle_unspents]"
      ],
      "metadata": {
        "id": "jWsw8FwjW7-R"
      },
      "execution_count": null,
      "outputs": []
    },
    {
      "cell_type": "markdown",
      "source": [
        "# Send 32*3 + 1 UTXOS from same txn back to self\n",
        "\n",
        "# Create list of transactions each containing op_return"
      ],
      "metadata": {
        "id": "zrocheeX_TfK"
      }
    },
    {
      "cell_type": "code",
      "source": [
        "write_tip=1_37_000_000\n",
        "outputs=[ [{'value':elem['value']-write_tip , 'address': addr}] for elem in sparkle_unspents]"
      ],
      "metadata": {
        "id": "va9YuOSTXVYK"
      },
      "execution_count": null,
      "outputs": []
    },
    {
      "cell_type": "code",
      "source": [
        "outputs"
      ],
      "metadata": {
        "id": "CWR_bruJZB8J"
      },
      "execution_count": null,
      "outputs": []
    },
    {
      "cell_type": "code",
      "source": [
        ""
      ],
      "metadata": {
        "id": "oOxcnyEoaHQy"
      },
      "execution_count": null,
      "outputs": []
    },
    {
      "cell_type": "markdown",
      "source": [
        "        doge_serial_tx=cryptos.serialize(doge_tx)\n",
        "        doge_inscribed_serial_tx=mk_opreturn( op_return , doge_serial_tx)\n",
        "        doge_inscribed_tx=cryptos.deserialize(doge_inscribed_serial_tx)\n",
        "        doge_signed_inscribed_tx=doge.signall(doge_inscribed_tx,privkeyhex)\n",
        "        broadcast_doge_signed_inscribed_tx=doge.pushtx(doge_signed_inscribed_tx)"
      ],
      "metadata": {
        "id": "ZoLKLTRAaIMA"
      }
    },
    {
      "cell_type": "code",
      "source": [
        "txns=[ doge.mktx(input_monolists[i],outputs[i]) for i in range(len(package))]"
      ],
      "metadata": {
        "id": "OKdRi52wZDVT"
      },
      "execution_count": null,
      "outputs": []
    },
    {
      "cell_type": "code",
      "source": [
        "serial_txns=[cryptos.serialize(tx) for tx in txns]"
      ],
      "metadata": {
        "id": "coyyPLO1Z4Xo"
      },
      "execution_count": null,
      "outputs": []
    },
    {
      "cell_type": "code",
      "source": [
        "inscribed_serial_txs=[mk_opreturn( package[i] , serial_txns[i]) for i in range(len(package))]"
      ],
      "metadata": {
        "id": "4oP0KQqFaTD3"
      },
      "execution_count": null,
      "outputs": []
    },
    {
      "cell_type": "code",
      "source": [
        "1.37/len(inscribed_serial_txs[0])/2"
      ],
      "metadata": {
        "id": "82IWQr4uMS3m"
      },
      "execution_count": null,
      "outputs": []
    },
    {
      "cell_type": "code",
      "source": [
        "inscribed_serial_txs"
      ],
      "metadata": {
        "id": "TjjbY7FBbEFs"
      },
      "execution_count": null,
      "outputs": []
    },
    {
      "cell_type": "code",
      "source": [
        "inscribed_txs=[cryptos.deserialize(elem) for elem in inscribed_serial_txs]"
      ],
      "metadata": {
        "id": "S1XhYY8lay8F"
      },
      "execution_count": null,
      "outputs": []
    },
    {
      "cell_type": "code",
      "source": [
        "signed_inscribed_txs=[doge.signall(elem,privKey.to_hex()[2:]) for elem in inscribed_txs]"
      ],
      "metadata": {
        "id": "jEMY1eARbJlE"
      },
      "execution_count": null,
      "outputs": []
    },
    {
      "cell_type": "code",
      "source": [
        "broadcasts=[doge.pushtx(elem) for elem in signed_inscribed_txs]\n",
        "broadcasts"
      ],
      "metadata": {
        "id": "VvEcOPG9bp5g"
      },
      "execution_count": null,
      "outputs": []
    },
    {
      "cell_type": "code",
      "source": [
        "broadcasts[0]['data']['txid']"
      ],
      "metadata": {
        "id": "-n11MzFuJbHb"
      },
      "execution_count": null,
      "outputs": []
    },
    {
      "cell_type": "markdown",
      "source": [
        "# Everything is Retrievable From the TX Hash of Header Transaction \n",
        "\n",
        "The first transaction, spending the first output of the prepared UTXOs\n",
        "\n",
        "```\n",
        "53ae86951b38d91cc01a90e7cf9e7089ffff0a4b81a46fcd02a104d696247cb2\n",
        "\n",
        "90c01813156e594c4dbe8bd39436597c68ffaaa201c458f9c1ccae3e86d2c33f\n",
        "```\n",
        "\n",
        "Or use the UTXO set transactions\n",
        "\n",
        "```\n",
        "c1542c10399a09a5471799133c472a6652d5cb3b7b421e1a7e80e2039f5b393b\n",
        "\n",
        "a01e8625d653f4a8686b5b9e20ca653e59ebcd8bf2ca2a7b8370fdc52417f7b9\n",
        "```"
      ],
      "metadata": {
        "id": "PLKBeRyZNsfW"
      }
    },
    {
      "cell_type": "code",
      "source": [
        "[doge.fetchtx(broadcast['data']['txid'])['confirmations'] for broadcast in broadcasts]"
      ],
      "metadata": {
        "id": "nijVN8UncB51"
      },
      "execution_count": null,
      "outputs": []
    },
    {
      "cell_type": "code",
      "source": [
        "doge.block_height()"
      ],
      "metadata": {
        "id": "HUNYk5HDWYZP"
      },
      "execution_count": null,
      "outputs": []
    },
    {
      "cell_type": "markdown",
      "source": [
        "# Automate Reading From Dogecoin Blockchain"
      ],
      "metadata": {
        "id": "IlK7oSOV91Dw"
      }
    },
    {
      "cell_type": "code",
      "source": [
        "!pip install cryptos"
      ],
      "metadata": {
        "colab": {
          "base_uri": "https://localhost:8080/"
        },
        "id": "LBd6xnbAtVmL",
        "outputId": "54b589b8-c226-4c92-cad0-c27461dd324b"
      },
      "execution_count": null,
      "outputs": [
        {
          "output_type": "stream",
          "name": "stdout",
          "text": [
            "Looking in indexes: https://pypi.org/simple, https://us-python.pkg.dev/colab-wheels/public/simple/\n",
            "Collecting cryptos\n",
            "  Downloading cryptos-1.36-py3-none-any.whl (69 kB)\n",
            "\u001b[?25l\r\u001b[K     |████▊                           | 10 kB 19.3 MB/s eta 0:00:01\r\u001b[K     |█████████▌                      | 20 kB 25.1 MB/s eta 0:00:01\r\u001b[K     |██████████████▎                 | 30 kB 30.4 MB/s eta 0:00:01\r\u001b[K     |███████████████████             | 40 kB 30.6 MB/s eta 0:00:01\r\u001b[K     |███████████████████████▊        | 51 kB 21.3 MB/s eta 0:00:01\r\u001b[K     |████████████████████████████▌   | 61 kB 24.0 MB/s eta 0:00:01\r\u001b[K     |████████████████████████████████| 69 kB 5.9 MB/s \n",
            "\u001b[?25hInstalling collected packages: cryptos\n",
            "Successfully installed cryptos-1.36\n"
          ]
        }
      ]
    },
    {
      "cell_type": "code",
      "source": [
        "doge=cryptos.Doge()\n",
        "doge.fetchtx('a01e8625d653f4a8686b5b9e20ca653e59ebcd8bf2ca2a7b8370fdc52417f7b9')"
      ],
      "metadata": {
        "id": "0A2B9EEA5yIF",
        "outputId": "a89b65f1-e817-40b0-d283-ffd574a9bd6a",
        "colab": {
          "base_uri": "https://localhost:8080/"
        }
      },
      "execution_count": null,
      "outputs": [
        {
          "output_type": "execute_result",
          "data": {
            "text/plain": [
              "{'blockhash': '4fc98c5553dc5fe736db42ff1aab70c70bac53db4c53552b26374e2b80535884',\n",
              " 'confirmations': 13533,\n",
              " 'inputs': [{'address': 'D6zKNnkupqRbkB9p5rwix8QiobQWJazjyX',\n",
              "   'from_output': {'output_no': 0,\n",
              "    'txid': '53ae86951b38d91cc01a90e7cf9e7089ffff0a4b81a46fcd02a104d696247cb2'},\n",
              "   'input_no': 0,\n",
              "   'script': '304402203ae7b7a459935093fe7534f8d728592047eba5efeb1501936f66da97519bdad70220340831c96477fb031ba7ae694da6eda389d8203ef17a8dd81fbc7d045f7ded2801 047c88e9a4df6e9f45656c10bf66f28e28be235a15b64820b254f1b9eb2738314e6769f5c94da0c7640ffe76dcffca053b07a0804cd53a1c51ad03bfe0133ce8c5',\n",
              "   'sequence': 4294967295,\n",
              "   'type': 'pubkeyhash',\n",
              "   'value': '5.17545453',\n",
              "   'witness': None},\n",
              "  {'address': 'D6zKNnkupqRbkB9p5rwix8QiobQWJazjyX',\n",
              "   'from_output': {'output_no': 0,\n",
              "    'txid': '7de555db92ec394ebb6050928c9b70fd34bf6fb2ed5e33e33c3f4b9dfc9e8900'},\n",
              "   'input_no': 1,\n",
              "   'script': '3045022100d6bc4339f8616e77d69357f61ad273b5f77ac5e27364abeccab987856af5557f022059e182df185ea1ae3671f5161658611391f52764d51742bd7a4eaba8b36c0b3901 047c88e9a4df6e9f45656c10bf66f28e28be235a15b64820b254f1b9eb2738314e6769f5c94da0c7640ffe76dcffca053b07a0804cd53a1c51ad03bfe0133ce8c5',\n",
              "   'sequence': 4294967295,\n",
              "   'type': 'pubkeyhash',\n",
              "   'value': '5.17545453',\n",
              "   'witness': None},\n",
              "  {'address': 'D6zKNnkupqRbkB9p5rwix8QiobQWJazjyX',\n",
              "   'from_output': {'output_no': 0,\n",
              "    'txid': '1c1479726fd2832bae02564234e2eb59f6eedb36ed1b74acf4f557006eb9540e'},\n",
              "   'input_no': 2,\n",
              "   'script': '304502210093faa1f283dd4ec13d67f50fda8360d6c76d8353a4e37d47eb5747f63824115202201f8c2aa2fbc8761bd1430c5c0df6e126934dee599616d889563319b55a91b64301 047c88e9a4df6e9f45656c10bf66f28e28be235a15b64820b254f1b9eb2738314e6769f5c94da0c7640ffe76dcffca053b07a0804cd53a1c51ad03bfe0133ce8c5',\n",
              "   'sequence': 4294967295,\n",
              "   'type': 'pubkeyhash',\n",
              "   'value': '5.17545453',\n",
              "   'witness': None},\n",
              "  {'address': 'D6zKNnkupqRbkB9p5rwix8QiobQWJazjyX',\n",
              "   'from_output': {'output_no': 0,\n",
              "    'txid': '1a5b286ce3e440fade57d07c23484996f70049ddc11123d79875b99aa9dfc914'},\n",
              "   'input_no': 3,\n",
              "   'script': '3045022100d4b6681db0b83cf148e6be6822d78246b003ea7089739a98fef7f75649794fea02201b9cead55c12f2efd2eae3afdb8e8725c66c2f267687a85af88411d2da6dccb901 047c88e9a4df6e9f45656c10bf66f28e28be235a15b64820b254f1b9eb2738314e6769f5c94da0c7640ffe76dcffca053b07a0804cd53a1c51ad03bfe0133ce8c5',\n",
              "   'sequence': 4294967295,\n",
              "   'type': 'pubkeyhash',\n",
              "   'value': '5.17545453',\n",
              "   'witness': None},\n",
              "  {'address': 'D6zKNnkupqRbkB9p5rwix8QiobQWJazjyX',\n",
              "   'from_output': {'output_no': 0,\n",
              "    'txid': 'bb5f99b53d66282d920c00c4cdb0ca32309f14754dfa43ae3beca55e85cba934'},\n",
              "   'input_no': 4,\n",
              "   'script': '3045022100911dfa48097c8629907f934d2ad7e00d896afa60e6c0cfa43547aaf04a4d7624022013741b24b8848717397b55d46a941379a5af1c230cef3f16a6e0ef906435df8301 047c88e9a4df6e9f45656c10bf66f28e28be235a15b64820b254f1b9eb2738314e6769f5c94da0c7640ffe76dcffca053b07a0804cd53a1c51ad03bfe0133ce8c5',\n",
              "   'sequence': 4294967295,\n",
              "   'type': 'pubkeyhash',\n",
              "   'value': '5.17545453',\n",
              "   'witness': None},\n",
              "  {'address': 'D6zKNnkupqRbkB9p5rwix8QiobQWJazjyX',\n",
              "   'from_output': {'output_no': 0,\n",
              "    'txid': 'd10c6b53dd83a3c337399e13b321f9661e4618c767f2a148c19327563e09573c'},\n",
              "   'input_no': 5,\n",
              "   'script': '304502210081650e376f2775a528263f450f3565dbd771052a755c4714864dad86eed857f802202a79d38a99c9985abf6cb9b340fc206c567bd36fb54ce5c6cd3fac69e7f58fa601 047c88e9a4df6e9f45656c10bf66f28e28be235a15b64820b254f1b9eb2738314e6769f5c94da0c7640ffe76dcffca053b07a0804cd53a1c51ad03bfe0133ce8c5',\n",
              "   'sequence': 4294967295,\n",
              "   'type': 'pubkeyhash',\n",
              "   'value': '5.17545453',\n",
              "   'witness': None},\n",
              "  {'address': 'D6zKNnkupqRbkB9p5rwix8QiobQWJazjyX',\n",
              "   'from_output': {'output_no': 0,\n",
              "    'txid': '2a1d66ec1e63ec0c756aaa189051ac79b54190cc78881033d8df6abdfa751d61'},\n",
              "   'input_no': 6,\n",
              "   'script': '3045022100d056a1955a40dba998be1de34f4fa86a3276b45c7e3a50a9b7856be83c9d80c802203407e600ea7b5bc845b45ce57f353efa33de81ac831c20a0afbd8364dc7949a001 047c88e9a4df6e9f45656c10bf66f28e28be235a15b64820b254f1b9eb2738314e6769f5c94da0c7640ffe76dcffca053b07a0804cd53a1c51ad03bfe0133ce8c5',\n",
              "   'sequence': 4294967295,\n",
              "   'type': 'pubkeyhash',\n",
              "   'value': '5.17545453',\n",
              "   'witness': None},\n",
              "  {'address': 'D6zKNnkupqRbkB9p5rwix8QiobQWJazjyX',\n",
              "   'from_output': {'output_no': 0,\n",
              "    'txid': '140f0c2e4f95c046c2361181ee67e4922a27fc9db0e31d64d46467470c86fc6a'},\n",
              "   'input_no': 7,\n",
              "   'script': '3045022100bea4aa18c2c08605231e779ed1318967f2644fae6cb29312dd57f76f899b5ac5022034d9c90c930f011088993c9875a7060a903a1e9050a24121dc55388e7a03629e01 047c88e9a4df6e9f45656c10bf66f28e28be235a15b64820b254f1b9eb2738314e6769f5c94da0c7640ffe76dcffca053b07a0804cd53a1c51ad03bfe0133ce8c5',\n",
              "   'sequence': 4294967295,\n",
              "   'type': 'pubkeyhash',\n",
              "   'value': '5.17545453',\n",
              "   'witness': None},\n",
              "  {'address': 'D6zKNnkupqRbkB9p5rwix8QiobQWJazjyX',\n",
              "   'from_output': {'output_no': 0,\n",
              "    'txid': '7176b077494c85a7fbc34c174fc75e4d009c2a294de6884de22ad9256a15216e'},\n",
              "   'input_no': 8,\n",
              "   'script': '3045022100fddb1357c970b69361dbf409fec474829381d3ebd33be500cb15594c3e714c6902207ab1eb6283e8c31966e0c4009b179292efd150ea3932aabd93f3f5ef0009072901 047c88e9a4df6e9f45656c10bf66f28e28be235a15b64820b254f1b9eb2738314e6769f5c94da0c7640ffe76dcffca053b07a0804cd53a1c51ad03bfe0133ce8c5',\n",
              "   'sequence': 4294967295,\n",
              "   'type': 'pubkeyhash',\n",
              "   'value': '5.17545453',\n",
              "   'witness': None},\n",
              "  {'address': 'D6zKNnkupqRbkB9p5rwix8QiobQWJazjyX',\n",
              "   'from_output': {'output_no': 0,\n",
              "    'txid': 'ebcd6115961bcef1a4bad384000dc4fa4d66cafc24d029bbec340a084f95a76e'},\n",
              "   'input_no': 9,\n",
              "   'script': '3045022100fa1cddcaca225ff7548a3eac57cdcf271efb9f503d34959aa7e9ed4aa370a32202207719b76c8e6f1be4f56746893dedef8905d6ff2acea4162fc1bca70764ecb54801 047c88e9a4df6e9f45656c10bf66f28e28be235a15b64820b254f1b9eb2738314e6769f5c94da0c7640ffe76dcffca053b07a0804cd53a1c51ad03bfe0133ce8c5',\n",
              "   'sequence': 4294967295,\n",
              "   'type': 'pubkeyhash',\n",
              "   'value': '5.17545453',\n",
              "   'witness': None},\n",
              "  {'address': 'D6zKNnkupqRbkB9p5rwix8QiobQWJazjyX',\n",
              "   'from_output': {'output_no': 0,\n",
              "    'txid': '61ffbaef642a5810196d6bee7f918eb15f3492764ec63806c76c4b29a6f32f8e'},\n",
              "   'input_no': 10,\n",
              "   'script': '3044022042c43487e32d3afa90167695d514e52ca64a9fe736c66fd692af812911c94393022015eafbee61975337507e0f233c23c2edeb280504a5762792f52bfa7bd4aeca1901 047c88e9a4df6e9f45656c10bf66f28e28be235a15b64820b254f1b9eb2738314e6769f5c94da0c7640ffe76dcffca053b07a0804cd53a1c51ad03bfe0133ce8c5',\n",
              "   'sequence': 4294967295,\n",
              "   'type': 'pubkeyhash',\n",
              "   'value': '5.17545453',\n",
              "   'witness': None},\n",
              "  {'address': 'D6zKNnkupqRbkB9p5rwix8QiobQWJazjyX',\n",
              "   'from_output': {'output_no': 0,\n",
              "    'txid': '05258574937feee15ca3b62d3adf7e6419c0d8eacd7d9cf1da2f3a9b4cbc4791'},\n",
              "   'input_no': 11,\n",
              "   'script': '3045022100a0ebe8b11a44aa80faca87c943c1b9eff4c77d1b38e65c25a66cb9d9307ffe4c022047efc14f564980007cc76a9680cdbd831c7ea68a6a40fad37ef3982dbee3b25a01 047c88e9a4df6e9f45656c10bf66f28e28be235a15b64820b254f1b9eb2738314e6769f5c94da0c7640ffe76dcffca053b07a0804cd53a1c51ad03bfe0133ce8c5',\n",
              "   'sequence': 4294967295,\n",
              "   'type': 'pubkeyhash',\n",
              "   'value': '5.17545453',\n",
              "   'witness': None},\n",
              "  {'address': 'D6zKNnkupqRbkB9p5rwix8QiobQWJazjyX',\n",
              "   'from_output': {'output_no': 0,\n",
              "    'txid': '53b6990a5ff193acc212287463b0eb183018c67935debffd061ccba0187612b6'},\n",
              "   'input_no': 12,\n",
              "   'script': '3045022100f0de0ed2ffb892ac40312930dab045fc5394ffffeabaf17c903686a1931f1a0b02206e2a89dfc3c0a6adbd96622e8d4c1db08459f4d714db32edde29c41518852b6f01 047c88e9a4df6e9f45656c10bf66f28e28be235a15b64820b254f1b9eb2738314e6769f5c94da0c7640ffe76dcffca053b07a0804cd53a1c51ad03bfe0133ce8c5',\n",
              "   'sequence': 4294967295,\n",
              "   'type': 'pubkeyhash',\n",
              "   'value': '5.17545453',\n",
              "   'witness': None},\n",
              "  {'address': 'D6zKNnkupqRbkB9p5rwix8QiobQWJazjyX',\n",
              "   'from_output': {'output_no': 0,\n",
              "    'txid': '3c660aac73dc85dfbba77e3697ce9e29166b05b4931952125eafb337c174f9c1'},\n",
              "   'input_no': 13,\n",
              "   'script': '304502210088b9921e17ef09ef6e503ee5fd360661ed781c61777f2eb70146b8d04dbbe3d402203ab0199be232d064b6b137178f1bae8dea55a00b21aa0685d04980a05444d5d201 047c88e9a4df6e9f45656c10bf66f28e28be235a15b64820b254f1b9eb2738314e6769f5c94da0c7640ffe76dcffca053b07a0804cd53a1c51ad03bfe0133ce8c5',\n",
              "   'sequence': 4294967295,\n",
              "   'type': 'pubkeyhash',\n",
              "   'value': '5.17545453',\n",
              "   'witness': None},\n",
              "  {'address': 'D6zKNnkupqRbkB9p5rwix8QiobQWJazjyX',\n",
              "   'from_output': {'output_no': 0,\n",
              "    'txid': 'de84f6f0dab5da79cc78799c254406646f232fc2246c0cf2ecae8ea3600bd9c9'},\n",
              "   'input_no': 14,\n",
              "   'script': '3044022001644c76086969076991a4ff081f45be69cc976aaaa6461bb6e0c16b35d5f9e802206d78970f7fced1e4735dbe7e0504c91d51fa11cb9a0d6c189a07ff2160fe7bbc01 047c88e9a4df6e9f45656c10bf66f28e28be235a15b64820b254f1b9eb2738314e6769f5c94da0c7640ffe76dcffca053b07a0804cd53a1c51ad03bfe0133ce8c5',\n",
              "   'sequence': 4294967295,\n",
              "   'type': 'pubkeyhash',\n",
              "   'value': '5.17545453',\n",
              "   'witness': None},\n",
              "  {'address': 'D6zKNnkupqRbkB9p5rwix8QiobQWJazjyX',\n",
              "   'from_output': {'output_no': 0,\n",
              "    'txid': 'a872861d4cc200139f804cfbeb687015ed3b2eb7c4c490077ef537c5bb1143d2'},\n",
              "   'input_no': 15,\n",
              "   'script': '3045022100d8adb1ecd04dda2935ea0fd67a7f420ec071519487652ab9f752f206cc76f63702206ece574498853b3f87a2d525f8b66e003a8c9a6d4b65041374a688e559a1d4b701 047c88e9a4df6e9f45656c10bf66f28e28be235a15b64820b254f1b9eb2738314e6769f5c94da0c7640ffe76dcffca053b07a0804cd53a1c51ad03bfe0133ce8c5',\n",
              "   'sequence': 4294967295,\n",
              "   'type': 'pubkeyhash',\n",
              "   'value': '5.17545453',\n",
              "   'witness': None},\n",
              "  {'address': 'D6zKNnkupqRbkB9p5rwix8QiobQWJazjyX',\n",
              "   'from_output': {'output_no': 0,\n",
              "    'txid': '9a18605e2f78a5e2c20e3c7546893b042266762e9e1db599c00072dea802d8df'},\n",
              "   'input_no': 16,\n",
              "   'script': '3045022100a9bf0567f8820ad9b5f89ab279a3be34900227141f88208f8dcb38877b6dfd8202202a25547c4c9856686d15b60382553c540be652de94f0708dd57fc96649f05b7501 047c88e9a4df6e9f45656c10bf66f28e28be235a15b64820b254f1b9eb2738314e6769f5c94da0c7640ffe76dcffca053b07a0804cd53a1c51ad03bfe0133ce8c5',\n",
              "   'sequence': 4294967295,\n",
              "   'type': 'pubkeyhash',\n",
              "   'value': '5.17545453',\n",
              "   'witness': None},\n",
              "  {'address': 'D6zKNnkupqRbkB9p5rwix8QiobQWJazjyX',\n",
              "   'from_output': {'output_no': 0,\n",
              "    'txid': 'f5966121a6d69fac636c9b9148c9454cf19387bd153def1de1c77e1ff0a7a828'},\n",
              "   'input_no': 17,\n",
              "   'script': '30440220317c18a82edfe508afafd3e0eccae722a3e615c7d471848cdb425515fb36369c02204252d0a0a797900f4a26d3e0606a0c06cc9a440c999dcbcf5d6708e722a1baf901 047c88e9a4df6e9f45656c10bf66f28e28be235a15b64820b254f1b9eb2738314e6769f5c94da0c7640ffe76dcffca053b07a0804cd53a1c51ad03bfe0133ce8c5',\n",
              "   'sequence': 4294967295,\n",
              "   'type': 'pubkeyhash',\n",
              "   'value': '5.17545453',\n",
              "   'witness': None},\n",
              "  {'address': 'D6zKNnkupqRbkB9p5rwix8QiobQWJazjyX',\n",
              "   'from_output': {'output_no': 0,\n",
              "    'txid': '8945c36e6e93fa0128a64bc8a2dc36f042652f8d7f50930dd6250f34b93dc72f'},\n",
              "   'input_no': 18,\n",
              "   'script': '304402202e201db3289948e741f7e275d1177fe5c595af084c1e788d04eecbd02eafdc9002201487ff34a921a5fffb8bf4a994127ac2db120b041bd33cf91fdb54148bd233d601 047c88e9a4df6e9f45656c10bf66f28e28be235a15b64820b254f1b9eb2738314e6769f5c94da0c7640ffe76dcffca053b07a0804cd53a1c51ad03bfe0133ce8c5',\n",
              "   'sequence': 4294967295,\n",
              "   'type': 'pubkeyhash',\n",
              "   'value': '5.17545453',\n",
              "   'witness': None},\n",
              "  {'address': 'D6zKNnkupqRbkB9p5rwix8QiobQWJazjyX',\n",
              "   'from_output': {'output_no': 0,\n",
              "    'txid': '9e5cc64874aa80076765b0ab06d6858c4f16b32dbe5c3f504a9695b49cfd953c'},\n",
              "   'input_no': 19,\n",
              "   'script': '3045022100fa36ba631d56e807ec4a79af3b25da0470e2ce383491d36d8edbebe4747a978302203d61d5ebb3a464f4fc85ad8ab4ac2d32028385e31511e7dd577d60da36f5e87c01 047c88e9a4df6e9f45656c10bf66f28e28be235a15b64820b254f1b9eb2738314e6769f5c94da0c7640ffe76dcffca053b07a0804cd53a1c51ad03bfe0133ce8c5',\n",
              "   'sequence': 4294967295,\n",
              "   'type': 'pubkeyhash',\n",
              "   'value': '5.17545453',\n",
              "   'witness': None},\n",
              "  {'address': 'D6zKNnkupqRbkB9p5rwix8QiobQWJazjyX',\n",
              "   'from_output': {'output_no': 0,\n",
              "    'txid': 'c0c0100357741223008b3d543d248b0be2fa2a4ebb17b113729298088951774b'},\n",
              "   'input_no': 20,\n",
              "   'script': '3045022100da7832cd07419402543c686bcda72d6b8444fa63a35447c1260bdc6a9ebb5d3d02203b490ba761d196d458de1f99ef8ee93d116d3bb8be5be7846ac84fad77ba038601 047c88e9a4df6e9f45656c10bf66f28e28be235a15b64820b254f1b9eb2738314e6769f5c94da0c7640ffe76dcffca053b07a0804cd53a1c51ad03bfe0133ce8c5',\n",
              "   'sequence': 4294967295,\n",
              "   'type': 'pubkeyhash',\n",
              "   'value': '5.17545453',\n",
              "   'witness': None},\n",
              "  {'address': 'D6zKNnkupqRbkB9p5rwix8QiobQWJazjyX',\n",
              "   'from_output': {'output_no': 0,\n",
              "    'txid': 'a3559b089d1bd48c6c395c47e0d86e81565342edf8979548337f022f39842356'},\n",
              "   'input_no': 21,\n",
              "   'script': '30440220093f25e79fe032ee9e23f248cdf695f4ba010492a7a430bfc34670c7b8f49bb6022007b33b2050169c1caf74353c02b5bffb71cdb79c114be6bb2b3a1614c183b5e601 047c88e9a4df6e9f45656c10bf66f28e28be235a15b64820b254f1b9eb2738314e6769f5c94da0c7640ffe76dcffca053b07a0804cd53a1c51ad03bfe0133ce8c5',\n",
              "   'sequence': 4294967295,\n",
              "   'type': 'pubkeyhash',\n",
              "   'value': '5.17545453',\n",
              "   'witness': None},\n",
              "  {'address': 'D6zKNnkupqRbkB9p5rwix8QiobQWJazjyX',\n",
              "   'from_output': {'output_no': 0,\n",
              "    'txid': '85981e0d4245c10cdba9c1d869cc0db10505da89bb2936e464a63b5b21e9095b'},\n",
              "   'input_no': 22,\n",
              "   'script': '3044022058a59ab78ca391fe369b6067999c5c5b80dbb8756e573687f100dbb50b45887402205a185aab424b45bcfdd34608b7cddc79a271977a2b9a651561105a13c31b731e01 047c88e9a4df6e9f45656c10bf66f28e28be235a15b64820b254f1b9eb2738314e6769f5c94da0c7640ffe76dcffca053b07a0804cd53a1c51ad03bfe0133ce8c5',\n",
              "   'sequence': 4294967295,\n",
              "   'type': 'pubkeyhash',\n",
              "   'value': '5.17545453',\n",
              "   'witness': None},\n",
              "  {'address': 'D6zKNnkupqRbkB9p5rwix8QiobQWJazjyX',\n",
              "   'from_output': {'output_no': 0,\n",
              "    'txid': '3c940d05069c830176016044cf23cd8ed727bb078a0d5c8cca54cd7013b09f71'},\n",
              "   'input_no': 23,\n",
              "   'script': '304402202bb73e0ae262856c2addcd856472863dfa6459a8f9867522c988e4959b45047c0220384d5c9cd2253ed7f081dad2e3ed2e3a003037b2bbd6eb413ee3b2ec5593bed201 047c88e9a4df6e9f45656c10bf66f28e28be235a15b64820b254f1b9eb2738314e6769f5c94da0c7640ffe76dcffca053b07a0804cd53a1c51ad03bfe0133ce8c5',\n",
              "   'sequence': 4294967295,\n",
              "   'type': 'pubkeyhash',\n",
              "   'value': '5.17545453',\n",
              "   'witness': None},\n",
              "  {'address': 'D6zKNnkupqRbkB9p5rwix8QiobQWJazjyX',\n",
              "   'from_output': {'output_no': 0,\n",
              "    'txid': 'e970f755be8b9926f319157d1362926ba4b0b62e28bbccf7667d5b242c010f7c'},\n",
              "   'input_no': 24,\n",
              "   'script': '30440220159176146015bf6141fb53bbaa058a850282d72a654b421a6cf93394ca02581e022072e29fe576dc26216e71046d276d388104fa8e0509b655018d1b99411136fca701 047c88e9a4df6e9f45656c10bf66f28e28be235a15b64820b254f1b9eb2738314e6769f5c94da0c7640ffe76dcffca053b07a0804cd53a1c51ad03bfe0133ce8c5',\n",
              "   'sequence': 4294967295,\n",
              "   'type': 'pubkeyhash',\n",
              "   'value': '5.17545453',\n",
              "   'witness': None},\n",
              "  {'address': 'D6zKNnkupqRbkB9p5rwix8QiobQWJazjyX',\n",
              "   'from_output': {'output_no': 0,\n",
              "    'txid': '2f3162731462b52420ef5954c7d634f0c2a779dae3688795b53d5a9eed15508c'},\n",
              "   'input_no': 25,\n",
              "   'script': '3044022072c6bc7b065d90f89fa9b51813329aaa94d33be66cd8b0cb85a7475f025a23d40220643630e93bb3467f986541a6f02a6c1e9b34e35d138a123d26e07759743a057701 047c88e9a4df6e9f45656c10bf66f28e28be235a15b64820b254f1b9eb2738314e6769f5c94da0c7640ffe76dcffca053b07a0804cd53a1c51ad03bfe0133ce8c5',\n",
              "   'sequence': 4294967295,\n",
              "   'type': 'pubkeyhash',\n",
              "   'value': '5.17545453',\n",
              "   'witness': None},\n",
              "  {'address': 'D6zKNnkupqRbkB9p5rwix8QiobQWJazjyX',\n",
              "   'from_output': {'output_no': 0,\n",
              "    'txid': '47c5dd87328ae082e876f4e23c2eb253e861f1525293063d92b45a43e183b697'},\n",
              "   'input_no': 26,\n",
              "   'script': '30450221009304ce6b2682ada1412ec4f7ee1b85f57f070198cdfa5539a48d1e70f18628fd02202d57f6c7e084ab6f2e62dd1e14d7d4edf62bba67a437efd2adb2dd3acd30c15c01 047c88e9a4df6e9f45656c10bf66f28e28be235a15b64820b254f1b9eb2738314e6769f5c94da0c7640ffe76dcffca053b07a0804cd53a1c51ad03bfe0133ce8c5',\n",
              "   'sequence': 4294967295,\n",
              "   'type': 'pubkeyhash',\n",
              "   'value': '5.17545453',\n",
              "   'witness': None},\n",
              "  {'address': 'D6zKNnkupqRbkB9p5rwix8QiobQWJazjyX',\n",
              "   'from_output': {'output_no': 0,\n",
              "    'txid': '5c57cad54308ffac804dbaee849bdcddc03b520148009a10f85427958773109a'},\n",
              "   'input_no': 27,\n",
              "   'script': '30450221008d8f094137ad30ebd3d09bdddc6310bfa7fbfcdbe10488912379e4c9bcf92362022037dfc1e01ec60f5426fbc566e07b48d94556fd4e2902751e2aa7f68f54d0812401 047c88e9a4df6e9f45656c10bf66f28e28be235a15b64820b254f1b9eb2738314e6769f5c94da0c7640ffe76dcffca053b07a0804cd53a1c51ad03bfe0133ce8c5',\n",
              "   'sequence': 4294967295,\n",
              "   'type': 'pubkeyhash',\n",
              "   'value': '5.17545453',\n",
              "   'witness': None},\n",
              "  {'address': 'D6zKNnkupqRbkB9p5rwix8QiobQWJazjyX',\n",
              "   'from_output': {'output_no': 0,\n",
              "    'txid': '8ef8d8e2f58a1b9765c5df7ac576abcb817cfea17c31e03df923070d984f54a6'},\n",
              "   'input_no': 28,\n",
              "   'script': '30440220346363854b8cab7a6099686a1e0a114966101b3006cf68c1dccbec7fa42d9f71022063b4aef5c2676ffda87eba8bd18c63d9dd06ebe486caf106a0a669f38413519601 047c88e9a4df6e9f45656c10bf66f28e28be235a15b64820b254f1b9eb2738314e6769f5c94da0c7640ffe76dcffca053b07a0804cd53a1c51ad03bfe0133ce8c5',\n",
              "   'sequence': 4294967295,\n",
              "   'type': 'pubkeyhash',\n",
              "   'value': '5.17545453',\n",
              "   'witness': None},\n",
              "  {'address': 'D6zKNnkupqRbkB9p5rwix8QiobQWJazjyX',\n",
              "   'from_output': {'output_no': 0,\n",
              "    'txid': '8a77887d58c01356e03a2c78af159908ef3274abf93945309b86e9b3e797d4ac'},\n",
              "   'input_no': 29,\n",
              "   'script': '304402200f55629dc2f6470ca337adcfdca933a3306783edf411b345af8fef3a6c24ac2202205363c660aecf89feb2194597912657ec2d8f4aa7586b54a380b30658a09bc67201 047c88e9a4df6e9f45656c10bf66f28e28be235a15b64820b254f1b9eb2738314e6769f5c94da0c7640ffe76dcffca053b07a0804cd53a1c51ad03bfe0133ce8c5',\n",
              "   'sequence': 4294967295,\n",
              "   'type': 'pubkeyhash',\n",
              "   'value': '5.17545453',\n",
              "   'witness': None},\n",
              "  {'address': 'D6zKNnkupqRbkB9p5rwix8QiobQWJazjyX',\n",
              "   'from_output': {'output_no': 0,\n",
              "    'txid': 'a23f334f08af6e56fa7553bc204c3b9e04f8c6f0e93f3c9bf300ef0a0ba8e3b1'},\n",
              "   'input_no': 30,\n",
              "   'script': '30450221008a72ec0d01b270068f779bf8d8e524802be1fc06d94bf14465118829b3334a5802205664f33db796ca903c46db00516e6612fbd03b0c1d30b8d325bf0c020c6437f301 047c88e9a4df6e9f45656c10bf66f28e28be235a15b64820b254f1b9eb2738314e6769f5c94da0c7640ffe76dcffca053b07a0804cd53a1c51ad03bfe0133ce8c5',\n",
              "   'sequence': 4294967295,\n",
              "   'type': 'pubkeyhash',\n",
              "   'value': '5.17545453',\n",
              "   'witness': None},\n",
              "  {'address': 'D6zKNnkupqRbkB9p5rwix8QiobQWJazjyX',\n",
              "   'from_output': {'output_no': 0,\n",
              "    'txid': 'c926f0d9a2311ccb422de595908bd8c9c7c5332a8c78a39a33645a26076400ca'},\n",
              "   'input_no': 31,\n",
              "   'script': '3044022055fd999dd68b30396c9653125db67f6b9b6b43dfb44aedb452bc216293bcbc8f02200c3750e5a2f107de73678de9d599bad32b2647805baac3291d320c5918e4c17501 047c88e9a4df6e9f45656c10bf66f28e28be235a15b64820b254f1b9eb2738314e6769f5c94da0c7640ffe76dcffca053b07a0804cd53a1c51ad03bfe0133ce8c5',\n",
              "   'sequence': 4294967295,\n",
              "   'type': 'pubkeyhash',\n",
              "   'value': '5.17545453',\n",
              "   'witness': None},\n",
              "  {'address': 'D6zKNnkupqRbkB9p5rwix8QiobQWJazjyX',\n",
              "   'from_output': {'output_no': 0,\n",
              "    'txid': '5ce5a1e96c64eb1d917f1ae6883f47a86c2a06e42709cc77fbdbb5256492ecdd'},\n",
              "   'input_no': 32,\n",
              "   'script': '3045022100a41eee78bd253b39ff72327a3fe82e6d0090e65b602cfdeffa795482fcccb13502203357bc2687aa0541554998f7058bce99a0766ee48e7dde21c538fbf8d4f6f91701 047c88e9a4df6e9f45656c10bf66f28e28be235a15b64820b254f1b9eb2738314e6769f5c94da0c7640ffe76dcffca053b07a0804cd53a1c51ad03bfe0133ce8c5',\n",
              "   'sequence': 4294967295,\n",
              "   'type': 'pubkeyhash',\n",
              "   'value': '5.17545453',\n",
              "   'witness': None},\n",
              "  {'address': 'D6zKNnkupqRbkB9p5rwix8QiobQWJazjyX',\n",
              "   'from_output': {'output_no': 0,\n",
              "    'txid': '66db18121392ec6b65887c36ea303407533f38ed176a01f819d5f2aacd862872'},\n",
              "   'input_no': 33,\n",
              "   'script': '3045022100adbdeb4e3716c016c85c6611f03fba8af04a703beed065b50d20ab61a38b3bf7022010c3815f4033c45f59bd326b431f799b3bbdb4b89f43936c45a06bfdecbebe3801 047c88e9a4df6e9f45656c10bf66f28e28be235a15b64820b254f1b9eb2738314e6769f5c94da0c7640ffe76dcffca053b07a0804cd53a1c51ad03bfe0133ce8c5',\n",
              "   'sequence': 4294967295,\n",
              "   'type': 'pubkeyhash',\n",
              "   'value': '406.67557108',\n",
              "   'witness': None}],\n",
              " 'locktime': 0,\n",
              " 'network': 'DOGE',\n",
              " 'network_fee': '13.70000014',\n",
              " 'outputs': [{'address': 'D6zKNnkupqRbkB9p5rwix8QiobQWJazjyX',\n",
              "   'output_no': 0,\n",
              "   'script': 'OP_DUP OP_HASH160 144739367df0ff8d1c61d03704298d49cf93ef3f OP_EQUALVERIFY OP_CHECKSIG',\n",
              "   'type': 'pubkeyhash',\n",
              "   'value': '5.81201619'},\n",
              "  {'address': 'D6zKNnkupqRbkB9p5rwix8QiobQWJazjyX',\n",
              "   'output_no': 1,\n",
              "   'script': 'OP_DUP OP_HASH160 144739367df0ff8d1c61d03704298d49cf93ef3f OP_EQUALVERIFY OP_CHECKSIG',\n",
              "   'type': 'pubkeyhash',\n",
              "   'value': '5.81201619'},\n",
              "  {'address': 'D6zKNnkupqRbkB9p5rwix8QiobQWJazjyX',\n",
              "   'output_no': 2,\n",
              "   'script': 'OP_DUP OP_HASH160 144739367df0ff8d1c61d03704298d49cf93ef3f OP_EQUALVERIFY OP_CHECKSIG',\n",
              "   'type': 'pubkeyhash',\n",
              "   'value': '5.81201619'},\n",
              "  {'address': 'D6zKNnkupqRbkB9p5rwix8QiobQWJazjyX',\n",
              "   'output_no': 3,\n",
              "   'script': 'OP_DUP OP_HASH160 144739367df0ff8d1c61d03704298d49cf93ef3f OP_EQUALVERIFY OP_CHECKSIG',\n",
              "   'type': 'pubkeyhash',\n",
              "   'value': '5.81201619'},\n",
              "  {'address': 'D6zKNnkupqRbkB9p5rwix8QiobQWJazjyX',\n",
              "   'output_no': 4,\n",
              "   'script': 'OP_DUP OP_HASH160 144739367df0ff8d1c61d03704298d49cf93ef3f OP_EQUALVERIFY OP_CHECKSIG',\n",
              "   'type': 'pubkeyhash',\n",
              "   'value': '5.81201619'},\n",
              "  {'address': 'D6zKNnkupqRbkB9p5rwix8QiobQWJazjyX',\n",
              "   'output_no': 5,\n",
              "   'script': 'OP_DUP OP_HASH160 144739367df0ff8d1c61d03704298d49cf93ef3f OP_EQUALVERIFY OP_CHECKSIG',\n",
              "   'type': 'pubkeyhash',\n",
              "   'value': '5.81201619'},\n",
              "  {'address': 'D6zKNnkupqRbkB9p5rwix8QiobQWJazjyX',\n",
              "   'output_no': 6,\n",
              "   'script': 'OP_DUP OP_HASH160 144739367df0ff8d1c61d03704298d49cf93ef3f OP_EQUALVERIFY OP_CHECKSIG',\n",
              "   'type': 'pubkeyhash',\n",
              "   'value': '5.81201619'},\n",
              "  {'address': 'D6zKNnkupqRbkB9p5rwix8QiobQWJazjyX',\n",
              "   'output_no': 7,\n",
              "   'script': 'OP_DUP OP_HASH160 144739367df0ff8d1c61d03704298d49cf93ef3f OP_EQUALVERIFY OP_CHECKSIG',\n",
              "   'type': 'pubkeyhash',\n",
              "   'value': '5.81201619'},\n",
              "  {'address': 'D6zKNnkupqRbkB9p5rwix8QiobQWJazjyX',\n",
              "   'output_no': 8,\n",
              "   'script': 'OP_DUP OP_HASH160 144739367df0ff8d1c61d03704298d49cf93ef3f OP_EQUALVERIFY OP_CHECKSIG',\n",
              "   'type': 'pubkeyhash',\n",
              "   'value': '5.81201619'},\n",
              "  {'address': 'D6zKNnkupqRbkB9p5rwix8QiobQWJazjyX',\n",
              "   'output_no': 9,\n",
              "   'script': 'OP_DUP OP_HASH160 144739367df0ff8d1c61d03704298d49cf93ef3f OP_EQUALVERIFY OP_CHECKSIG',\n",
              "   'type': 'pubkeyhash',\n",
              "   'value': '5.81201619'},\n",
              "  {'address': 'D6zKNnkupqRbkB9p5rwix8QiobQWJazjyX',\n",
              "   'output_no': 10,\n",
              "   'script': 'OP_DUP OP_HASH160 144739367df0ff8d1c61d03704298d49cf93ef3f OP_EQUALVERIFY OP_CHECKSIG',\n",
              "   'type': 'pubkeyhash',\n",
              "   'value': '5.81201619'},\n",
              "  {'address': 'D6zKNnkupqRbkB9p5rwix8QiobQWJazjyX',\n",
              "   'output_no': 11,\n",
              "   'script': 'OP_DUP OP_HASH160 144739367df0ff8d1c61d03704298d49cf93ef3f OP_EQUALVERIFY OP_CHECKSIG',\n",
              "   'type': 'pubkeyhash',\n",
              "   'value': '5.81201619'},\n",
              "  {'address': 'D6zKNnkupqRbkB9p5rwix8QiobQWJazjyX',\n",
              "   'output_no': 12,\n",
              "   'script': 'OP_DUP OP_HASH160 144739367df0ff8d1c61d03704298d49cf93ef3f OP_EQUALVERIFY OP_CHECKSIG',\n",
              "   'type': 'pubkeyhash',\n",
              "   'value': '5.81201619'},\n",
              "  {'address': 'D6zKNnkupqRbkB9p5rwix8QiobQWJazjyX',\n",
              "   'output_no': 13,\n",
              "   'script': 'OP_DUP OP_HASH160 144739367df0ff8d1c61d03704298d49cf93ef3f OP_EQUALVERIFY OP_CHECKSIG',\n",
              "   'type': 'pubkeyhash',\n",
              "   'value': '5.81201619'},\n",
              "  {'address': 'D6zKNnkupqRbkB9p5rwix8QiobQWJazjyX',\n",
              "   'output_no': 14,\n",
              "   'script': 'OP_DUP OP_HASH160 144739367df0ff8d1c61d03704298d49cf93ef3f OP_EQUALVERIFY OP_CHECKSIG',\n",
              "   'type': 'pubkeyhash',\n",
              "   'value': '5.81201619'},\n",
              "  {'address': 'D6zKNnkupqRbkB9p5rwix8QiobQWJazjyX',\n",
              "   'output_no': 15,\n",
              "   'script': 'OP_DUP OP_HASH160 144739367df0ff8d1c61d03704298d49cf93ef3f OP_EQUALVERIFY OP_CHECKSIG',\n",
              "   'type': 'pubkeyhash',\n",
              "   'value': '5.81201619'},\n",
              "  {'address': 'D6zKNnkupqRbkB9p5rwix8QiobQWJazjyX',\n",
              "   'output_no': 16,\n",
              "   'script': 'OP_DUP OP_HASH160 144739367df0ff8d1c61d03704298d49cf93ef3f OP_EQUALVERIFY OP_CHECKSIG',\n",
              "   'type': 'pubkeyhash',\n",
              "   'value': '5.81201619'},\n",
              "  {'address': 'D6zKNnkupqRbkB9p5rwix8QiobQWJazjyX',\n",
              "   'output_no': 17,\n",
              "   'script': 'OP_DUP OP_HASH160 144739367df0ff8d1c61d03704298d49cf93ef3f OP_EQUALVERIFY OP_CHECKSIG',\n",
              "   'type': 'pubkeyhash',\n",
              "   'value': '5.81201619'},\n",
              "  {'address': 'D6zKNnkupqRbkB9p5rwix8QiobQWJazjyX',\n",
              "   'output_no': 18,\n",
              "   'script': 'OP_DUP OP_HASH160 144739367df0ff8d1c61d03704298d49cf93ef3f OP_EQUALVERIFY OP_CHECKSIG',\n",
              "   'type': 'pubkeyhash',\n",
              "   'value': '5.81201619'},\n",
              "  {'address': 'D6zKNnkupqRbkB9p5rwix8QiobQWJazjyX',\n",
              "   'output_no': 19,\n",
              "   'script': 'OP_DUP OP_HASH160 144739367df0ff8d1c61d03704298d49cf93ef3f OP_EQUALVERIFY OP_CHECKSIG',\n",
              "   'type': 'pubkeyhash',\n",
              "   'value': '5.81201619'},\n",
              "  {'address': 'D6zKNnkupqRbkB9p5rwix8QiobQWJazjyX',\n",
              "   'output_no': 20,\n",
              "   'script': 'OP_DUP OP_HASH160 144739367df0ff8d1c61d03704298d49cf93ef3f OP_EQUALVERIFY OP_CHECKSIG',\n",
              "   'type': 'pubkeyhash',\n",
              "   'value': '5.81201619'},\n",
              "  {'address': 'D6zKNnkupqRbkB9p5rwix8QiobQWJazjyX',\n",
              "   'output_no': 21,\n",
              "   'script': 'OP_DUP OP_HASH160 144739367df0ff8d1c61d03704298d49cf93ef3f OP_EQUALVERIFY OP_CHECKSIG',\n",
              "   'type': 'pubkeyhash',\n",
              "   'value': '5.81201619'},\n",
              "  {'address': 'D6zKNnkupqRbkB9p5rwix8QiobQWJazjyX',\n",
              "   'output_no': 22,\n",
              "   'script': 'OP_DUP OP_HASH160 144739367df0ff8d1c61d03704298d49cf93ef3f OP_EQUALVERIFY OP_CHECKSIG',\n",
              "   'type': 'pubkeyhash',\n",
              "   'value': '5.81201619'},\n",
              "  {'address': 'D6zKNnkupqRbkB9p5rwix8QiobQWJazjyX',\n",
              "   'output_no': 23,\n",
              "   'script': 'OP_DUP OP_HASH160 144739367df0ff8d1c61d03704298d49cf93ef3f OP_EQUALVERIFY OP_CHECKSIG',\n",
              "   'type': 'pubkeyhash',\n",
              "   'value': '5.81201619'},\n",
              "  {'address': 'D6zKNnkupqRbkB9p5rwix8QiobQWJazjyX',\n",
              "   'output_no': 24,\n",
              "   'script': 'OP_DUP OP_HASH160 144739367df0ff8d1c61d03704298d49cf93ef3f OP_EQUALVERIFY OP_CHECKSIG',\n",
              "   'type': 'pubkeyhash',\n",
              "   'value': '5.81201619'},\n",
              "  {'address': 'D6zKNnkupqRbkB9p5rwix8QiobQWJazjyX',\n",
              "   'output_no': 25,\n",
              "   'script': 'OP_DUP OP_HASH160 144739367df0ff8d1c61d03704298d49cf93ef3f OP_EQUALVERIFY OP_CHECKSIG',\n",
              "   'type': 'pubkeyhash',\n",
              "   'value': '5.81201619'},\n",
              "  {'address': 'D6zKNnkupqRbkB9p5rwix8QiobQWJazjyX',\n",
              "   'output_no': 26,\n",
              "   'script': 'OP_DUP OP_HASH160 144739367df0ff8d1c61d03704298d49cf93ef3f OP_EQUALVERIFY OP_CHECKSIG',\n",
              "   'type': 'pubkeyhash',\n",
              "   'value': '5.81201619'},\n",
              "  {'address': 'D6zKNnkupqRbkB9p5rwix8QiobQWJazjyX',\n",
              "   'output_no': 27,\n",
              "   'script': 'OP_DUP OP_HASH160 144739367df0ff8d1c61d03704298d49cf93ef3f OP_EQUALVERIFY OP_CHECKSIG',\n",
              "   'type': 'pubkeyhash',\n",
              "   'value': '5.81201619'},\n",
              "  {'address': 'D6zKNnkupqRbkB9p5rwix8QiobQWJazjyX',\n",
              "   'output_no': 28,\n",
              "   'script': 'OP_DUP OP_HASH160 144739367df0ff8d1c61d03704298d49cf93ef3f OP_EQUALVERIFY OP_CHECKSIG',\n",
              "   'type': 'pubkeyhash',\n",
              "   'value': '5.81201619'},\n",
              "  {'address': 'D6zKNnkupqRbkB9p5rwix8QiobQWJazjyX',\n",
              "   'output_no': 29,\n",
              "   'script': 'OP_DUP OP_HASH160 144739367df0ff8d1c61d03704298d49cf93ef3f OP_EQUALVERIFY OP_CHECKSIG',\n",
              "   'type': 'pubkeyhash',\n",
              "   'value': '5.81201619'},\n",
              "  {'address': 'D6zKNnkupqRbkB9p5rwix8QiobQWJazjyX',\n",
              "   'output_no': 30,\n",
              "   'script': 'OP_DUP OP_HASH160 144739367df0ff8d1c61d03704298d49cf93ef3f OP_EQUALVERIFY OP_CHECKSIG',\n",
              "   'type': 'pubkeyhash',\n",
              "   'value': '5.81201619'},\n",
              "  {'address': 'D6zKNnkupqRbkB9p5rwix8QiobQWJazjyX',\n",
              "   'output_no': 31,\n",
              "   'script': 'OP_DUP OP_HASH160 144739367df0ff8d1c61d03704298d49cf93ef3f OP_EQUALVERIFY OP_CHECKSIG',\n",
              "   'type': 'pubkeyhash',\n",
              "   'value': '5.81201619'},\n",
              "  {'address': 'D6zKNnkupqRbkB9p5rwix8QiobQWJazjyX',\n",
              "   'output_no': 32,\n",
              "   'script': 'OP_DUP OP_HASH160 144739367df0ff8d1c61d03704298d49cf93ef3f OP_EQUALVERIFY OP_CHECKSIG',\n",
              "   'type': 'pubkeyhash',\n",
              "   'value': '5.81201619'},\n",
              "  {'address': 'D6zKNnkupqRbkB9p5rwix8QiobQWJazjyX',\n",
              "   'output_no': 33,\n",
              "   'script': 'OP_DUP OP_HASH160 144739367df0ff8d1c61d03704298d49cf93ef3f OP_EQUALVERIFY OP_CHECKSIG',\n",
              "   'type': 'pubkeyhash',\n",
              "   'value': '5.81201619'},\n",
              "  {'address': 'D6zKNnkupqRbkB9p5rwix8QiobQWJazjyX',\n",
              "   'output_no': 34,\n",
              "   'script': 'OP_DUP OP_HASH160 144739367df0ff8d1c61d03704298d49cf93ef3f OP_EQUALVERIFY OP_CHECKSIG',\n",
              "   'type': 'pubkeyhash',\n",
              "   'value': '5.81201619'},\n",
              "  {'address': 'D6zKNnkupqRbkB9p5rwix8QiobQWJazjyX',\n",
              "   'output_no': 35,\n",
              "   'script': 'OP_DUP OP_HASH160 144739367df0ff8d1c61d03704298d49cf93ef3f OP_EQUALVERIFY OP_CHECKSIG',\n",
              "   'type': 'pubkeyhash',\n",
              "   'value': '5.81201619'},\n",
              "  {'address': 'D6zKNnkupqRbkB9p5rwix8QiobQWJazjyX',\n",
              "   'output_no': 36,\n",
              "   'script': 'OP_DUP OP_HASH160 144739367df0ff8d1c61d03704298d49cf93ef3f OP_EQUALVERIFY OP_CHECKSIG',\n",
              "   'type': 'pubkeyhash',\n",
              "   'value': '5.81201619'},\n",
              "  {'address': 'D6zKNnkupqRbkB9p5rwix8QiobQWJazjyX',\n",
              "   'output_no': 37,\n",
              "   'script': 'OP_DUP OP_HASH160 144739367df0ff8d1c61d03704298d49cf93ef3f OP_EQUALVERIFY OP_CHECKSIG',\n",
              "   'type': 'pubkeyhash',\n",
              "   'value': '5.81201619'},\n",
              "  {'address': 'D6zKNnkupqRbkB9p5rwix8QiobQWJazjyX',\n",
              "   'output_no': 38,\n",
              "   'script': 'OP_DUP OP_HASH160 144739367df0ff8d1c61d03704298d49cf93ef3f OP_EQUALVERIFY OP_CHECKSIG',\n",
              "   'type': 'pubkeyhash',\n",
              "   'value': '5.81201619'},\n",
              "  {'address': 'D6zKNnkupqRbkB9p5rwix8QiobQWJazjyX',\n",
              "   'output_no': 39,\n",
              "   'script': 'OP_DUP OP_HASH160 144739367df0ff8d1c61d03704298d49cf93ef3f OP_EQUALVERIFY OP_CHECKSIG',\n",
              "   'type': 'pubkeyhash',\n",
              "   'value': '5.81201619'},\n",
              "  {'address': 'D6zKNnkupqRbkB9p5rwix8QiobQWJazjyX',\n",
              "   'output_no': 40,\n",
              "   'script': 'OP_DUP OP_HASH160 144739367df0ff8d1c61d03704298d49cf93ef3f OP_EQUALVERIFY OP_CHECKSIG',\n",
              "   'type': 'pubkeyhash',\n",
              "   'value': '5.81201619'},\n",
              "  {'address': 'D6zKNnkupqRbkB9p5rwix8QiobQWJazjyX',\n",
              "   'output_no': 41,\n",
              "   'script': 'OP_DUP OP_HASH160 144739367df0ff8d1c61d03704298d49cf93ef3f OP_EQUALVERIFY OP_CHECKSIG',\n",
              "   'type': 'pubkeyhash',\n",
              "   'value': '5.81201619'},\n",
              "  {'address': 'D6zKNnkupqRbkB9p5rwix8QiobQWJazjyX',\n",
              "   'output_no': 42,\n",
              "   'script': 'OP_DUP OP_HASH160 144739367df0ff8d1c61d03704298d49cf93ef3f OP_EQUALVERIFY OP_CHECKSIG',\n",
              "   'type': 'pubkeyhash',\n",
              "   'value': '5.81201619'},\n",
              "  {'address': 'D6zKNnkupqRbkB9p5rwix8QiobQWJazjyX',\n",
              "   'output_no': 43,\n",
              "   'script': 'OP_DUP OP_HASH160 144739367df0ff8d1c61d03704298d49cf93ef3f OP_EQUALVERIFY OP_CHECKSIG',\n",
              "   'type': 'pubkeyhash',\n",
              "   'value': '5.81201619'},\n",
              "  {'address': 'D6zKNnkupqRbkB9p5rwix8QiobQWJazjyX',\n",
              "   'output_no': 44,\n",
              "   'script': 'OP_DUP OP_HASH160 144739367df0ff8d1c61d03704298d49cf93ef3f OP_EQUALVERIFY OP_CHECKSIG',\n",
              "   'type': 'pubkeyhash',\n",
              "   'value': '5.81201619'},\n",
              "  {'address': 'D6zKNnkupqRbkB9p5rwix8QiobQWJazjyX',\n",
              "   'output_no': 45,\n",
              "   'script': 'OP_DUP OP_HASH160 144739367df0ff8d1c61d03704298d49cf93ef3f OP_EQUALVERIFY OP_CHECKSIG',\n",
              "   'type': 'pubkeyhash',\n",
              "   'value': '5.81201619'},\n",
              "  {'address': 'D6zKNnkupqRbkB9p5rwix8QiobQWJazjyX',\n",
              "   'output_no': 46,\n",
              "   'script': 'OP_DUP OP_HASH160 144739367df0ff8d1c61d03704298d49cf93ef3f OP_EQUALVERIFY OP_CHECKSIG',\n",
              "   'type': 'pubkeyhash',\n",
              "   'value': '5.81201619'},\n",
              "  {'address': 'D6zKNnkupqRbkB9p5rwix8QiobQWJazjyX',\n",
              "   'output_no': 47,\n",
              "   'script': 'OP_DUP OP_HASH160 144739367df0ff8d1c61d03704298d49cf93ef3f OP_EQUALVERIFY OP_CHECKSIG',\n",
              "   'type': 'pubkeyhash',\n",
              "   'value': '5.81201619'},\n",
              "  {'address': 'D6zKNnkupqRbkB9p5rwix8QiobQWJazjyX',\n",
              "   'output_no': 48,\n",
              "   'script': 'OP_DUP OP_HASH160 144739367df0ff8d1c61d03704298d49cf93ef3f OP_EQUALVERIFY OP_CHECKSIG',\n",
              "   'type': 'pubkeyhash',\n",
              "   'value': '5.81201619'},\n",
              "  {'address': 'D6zKNnkupqRbkB9p5rwix8QiobQWJazjyX',\n",
              "   'output_no': 49,\n",
              "   'script': 'OP_DUP OP_HASH160 144739367df0ff8d1c61d03704298d49cf93ef3f OP_EQUALVERIFY OP_CHECKSIG',\n",
              "   'type': 'pubkeyhash',\n",
              "   'value': '5.81201619'},\n",
              "  {'address': 'D6zKNnkupqRbkB9p5rwix8QiobQWJazjyX',\n",
              "   'output_no': 50,\n",
              "   'script': 'OP_DUP OP_HASH160 144739367df0ff8d1c61d03704298d49cf93ef3f OP_EQUALVERIFY OP_CHECKSIG',\n",
              "   'type': 'pubkeyhash',\n",
              "   'value': '5.81201619'},\n",
              "  {'address': 'D6zKNnkupqRbkB9p5rwix8QiobQWJazjyX',\n",
              "   'output_no': 51,\n",
              "   'script': 'OP_DUP OP_HASH160 144739367df0ff8d1c61d03704298d49cf93ef3f OP_EQUALVERIFY OP_CHECKSIG',\n",
              "   'type': 'pubkeyhash',\n",
              "   'value': '5.81201619'},\n",
              "  {'address': 'D6zKNnkupqRbkB9p5rwix8QiobQWJazjyX',\n",
              "   'output_no': 52,\n",
              "   'script': 'OP_DUP OP_HASH160 144739367df0ff8d1c61d03704298d49cf93ef3f OP_EQUALVERIFY OP_CHECKSIG',\n",
              "   'type': 'pubkeyhash',\n",
              "   'value': '5.81201619'},\n",
              "  {'address': 'D6zKNnkupqRbkB9p5rwix8QiobQWJazjyX',\n",
              "   'output_no': 53,\n",
              "   'script': 'OP_DUP OP_HASH160 144739367df0ff8d1c61d03704298d49cf93ef3f OP_EQUALVERIFY OP_CHECKSIG',\n",
              "   'type': 'pubkeyhash',\n",
              "   'value': '5.81201619'},\n",
              "  {'address': 'D6zKNnkupqRbkB9p5rwix8QiobQWJazjyX',\n",
              "   'output_no': 54,\n",
              "   'script': 'OP_DUP OP_HASH160 144739367df0ff8d1c61d03704298d49cf93ef3f OP_EQUALVERIFY OP_CHECKSIG',\n",
              "   'type': 'pubkeyhash',\n",
              "   'value': '5.81201619'},\n",
              "  {'address': 'D6zKNnkupqRbkB9p5rwix8QiobQWJazjyX',\n",
              "   'output_no': 55,\n",
              "   'script': 'OP_DUP OP_HASH160 144739367df0ff8d1c61d03704298d49cf93ef3f OP_EQUALVERIFY OP_CHECKSIG',\n",
              "   'type': 'pubkeyhash',\n",
              "   'value': '5.81201619'},\n",
              "  {'address': 'D6zKNnkupqRbkB9p5rwix8QiobQWJazjyX',\n",
              "   'output_no': 56,\n",
              "   'script': 'OP_DUP OP_HASH160 144739367df0ff8d1c61d03704298d49cf93ef3f OP_EQUALVERIFY OP_CHECKSIG',\n",
              "   'type': 'pubkeyhash',\n",
              "   'value': '5.81201619'},\n",
              "  {'address': 'D6zKNnkupqRbkB9p5rwix8QiobQWJazjyX',\n",
              "   'output_no': 57,\n",
              "   'script': 'OP_DUP OP_HASH160 144739367df0ff8d1c61d03704298d49cf93ef3f OP_EQUALVERIFY OP_CHECKSIG',\n",
              "   'type': 'pubkeyhash',\n",
              "   'value': '5.81201619'},\n",
              "  {'address': 'D6zKNnkupqRbkB9p5rwix8QiobQWJazjyX',\n",
              "   'output_no': 58,\n",
              "   'script': 'OP_DUP OP_HASH160 144739367df0ff8d1c61d03704298d49cf93ef3f OP_EQUALVERIFY OP_CHECKSIG',\n",
              "   'type': 'pubkeyhash',\n",
              "   'value': '5.81201619'},\n",
              "  {'address': 'D6zKNnkupqRbkB9p5rwix8QiobQWJazjyX',\n",
              "   'output_no': 59,\n",
              "   'script': 'OP_DUP OP_HASH160 144739367df0ff8d1c61d03704298d49cf93ef3f OP_EQUALVERIFY OP_CHECKSIG',\n",
              "   'type': 'pubkeyhash',\n",
              "   'value': '5.81201619'},\n",
              "  {'address': 'D6zKNnkupqRbkB9p5rwix8QiobQWJazjyX',\n",
              "   'output_no': 60,\n",
              "   'script': 'OP_DUP OP_HASH160 144739367df0ff8d1c61d03704298d49cf93ef3f OP_EQUALVERIFY OP_CHECKSIG',\n",
              "   'type': 'pubkeyhash',\n",
              "   'value': '5.81201619'},\n",
              "  {'address': 'D6zKNnkupqRbkB9p5rwix8QiobQWJazjyX',\n",
              "   'output_no': 61,\n",
              "   'script': 'OP_DUP OP_HASH160 144739367df0ff8d1c61d03704298d49cf93ef3f OP_EQUALVERIFY OP_CHECKSIG',\n",
              "   'type': 'pubkeyhash',\n",
              "   'value': '5.81201619'},\n",
              "  {'address': 'D6zKNnkupqRbkB9p5rwix8QiobQWJazjyX',\n",
              "   'output_no': 62,\n",
              "   'script': 'OP_DUP OP_HASH160 144739367df0ff8d1c61d03704298d49cf93ef3f OP_EQUALVERIFY OP_CHECKSIG',\n",
              "   'type': 'pubkeyhash',\n",
              "   'value': '5.81201619'},\n",
              "  {'address': 'D6zKNnkupqRbkB9p5rwix8QiobQWJazjyX',\n",
              "   'output_no': 63,\n",
              "   'script': 'OP_DUP OP_HASH160 144739367df0ff8d1c61d03704298d49cf93ef3f OP_EQUALVERIFY OP_CHECKSIG',\n",
              "   'type': 'pubkeyhash',\n",
              "   'value': '5.81201619'},\n",
              "  {'address': 'D6zKNnkupqRbkB9p5rwix8QiobQWJazjyX',\n",
              "   'output_no': 64,\n",
              "   'script': 'OP_DUP OP_HASH160 144739367df0ff8d1c61d03704298d49cf93ef3f OP_EQUALVERIFY OP_CHECKSIG',\n",
              "   'type': 'pubkeyhash',\n",
              "   'value': '5.81201619'},\n",
              "  {'address': 'D6zKNnkupqRbkB9p5rwix8QiobQWJazjyX',\n",
              "   'output_no': 65,\n",
              "   'script': 'OP_DUP OP_HASH160 144739367df0ff8d1c61d03704298d49cf93ef3f OP_EQUALVERIFY OP_CHECKSIG',\n",
              "   'type': 'pubkeyhash',\n",
              "   'value': '5.81201619'},\n",
              "  {'address': 'D6zKNnkupqRbkB9p5rwix8QiobQWJazjyX',\n",
              "   'output_no': 66,\n",
              "   'script': 'OP_DUP OP_HASH160 144739367df0ff8d1c61d03704298d49cf93ef3f OP_EQUALVERIFY OP_CHECKSIG',\n",
              "   'type': 'pubkeyhash',\n",
              "   'value': '5.81201619'},\n",
              "  {'address': 'D6zKNnkupqRbkB9p5rwix8QiobQWJazjyX',\n",
              "   'output_no': 67,\n",
              "   'script': 'OP_DUP OP_HASH160 144739367df0ff8d1c61d03704298d49cf93ef3f OP_EQUALVERIFY OP_CHECKSIG',\n",
              "   'type': 'pubkeyhash',\n",
              "   'value': '5.81201619'},\n",
              "  {'address': 'D6zKNnkupqRbkB9p5rwix8QiobQWJazjyX',\n",
              "   'output_no': 68,\n",
              "   'script': 'OP_DUP OP_HASH160 144739367df0ff8d1c61d03704298d49cf93ef3f OP_EQUALVERIFY OP_CHECKSIG',\n",
              "   'type': 'pubkeyhash',\n",
              "   'value': '5.81201619'},\n",
              "  {'address': 'D6zKNnkupqRbkB9p5rwix8QiobQWJazjyX',\n",
              "   'output_no': 69,\n",
              "   'script': 'OP_DUP OP_HASH160 144739367df0ff8d1c61d03704298d49cf93ef3f OP_EQUALVERIFY OP_CHECKSIG',\n",
              "   'type': 'pubkeyhash',\n",
              "   'value': '5.81201619'},\n",
              "  {'address': 'D6zKNnkupqRbkB9p5rwix8QiobQWJazjyX',\n",
              "   'output_no': 70,\n",
              "   'script': 'OP_DUP OP_HASH160 144739367df0ff8d1c61d03704298d49cf93ef3f OP_EQUALVERIFY OP_CHECKSIG',\n",
              "   'type': 'pubkeyhash',\n",
              "   'value': '5.81201619'},\n",
              "  {'address': 'D6zKNnkupqRbkB9p5rwix8QiobQWJazjyX',\n",
              "   'output_no': 71,\n",
              "   'script': 'OP_DUP OP_HASH160 144739367df0ff8d1c61d03704298d49cf93ef3f OP_EQUALVERIFY OP_CHECKSIG',\n",
              "   'type': 'pubkeyhash',\n",
              "   'value': '5.81201619'},\n",
              "  {'address': 'D6zKNnkupqRbkB9p5rwix8QiobQWJazjyX',\n",
              "   'output_no': 72,\n",
              "   'script': 'OP_DUP OP_HASH160 144739367df0ff8d1c61d03704298d49cf93ef3f OP_EQUALVERIFY OP_CHECKSIG',\n",
              "   'type': 'pubkeyhash',\n",
              "   'value': '5.81201619'},\n",
              "  {'address': 'D6zKNnkupqRbkB9p5rwix8QiobQWJazjyX',\n",
              "   'output_no': 73,\n",
              "   'script': 'OP_DUP OP_HASH160 144739367df0ff8d1c61d03704298d49cf93ef3f OP_EQUALVERIFY OP_CHECKSIG',\n",
              "   'type': 'pubkeyhash',\n",
              "   'value': '5.81201619'},\n",
              "  {'address': 'D6zKNnkupqRbkB9p5rwix8QiobQWJazjyX',\n",
              "   'output_no': 74,\n",
              "   'script': 'OP_DUP OP_HASH160 144739367df0ff8d1c61d03704298d49cf93ef3f OP_EQUALVERIFY OP_CHECKSIG',\n",
              "   'type': 'pubkeyhash',\n",
              "   'value': '5.81201619'},\n",
              "  {'address': 'D6zKNnkupqRbkB9p5rwix8QiobQWJazjyX',\n",
              "   'output_no': 75,\n",
              "   'script': 'OP_DUP OP_HASH160 144739367df0ff8d1c61d03704298d49cf93ef3f OP_EQUALVERIFY OP_CHECKSIG',\n",
              "   'type': 'pubkeyhash',\n",
              "   'value': '5.81201619'},\n",
              "  {'address': 'D6zKNnkupqRbkB9p5rwix8QiobQWJazjyX',\n",
              "   'output_no': 76,\n",
              "   'script': 'OP_DUP OP_HASH160 144739367df0ff8d1c61d03704298d49cf93ef3f OP_EQUALVERIFY OP_CHECKSIG',\n",
              "   'type': 'pubkeyhash',\n",
              "   'value': '5.81201619'},\n",
              "  {'address': 'D6zKNnkupqRbkB9p5rwix8QiobQWJazjyX',\n",
              "   'output_no': 77,\n",
              "   'script': 'OP_DUP OP_HASH160 144739367df0ff8d1c61d03704298d49cf93ef3f OP_EQUALVERIFY OP_CHECKSIG',\n",
              "   'type': 'pubkeyhash',\n",
              "   'value': '5.81201619'},\n",
              "  {'address': 'D6zKNnkupqRbkB9p5rwix8QiobQWJazjyX',\n",
              "   'output_no': 78,\n",
              "   'script': 'OP_DUP OP_HASH160 144739367df0ff8d1c61d03704298d49cf93ef3f OP_EQUALVERIFY OP_CHECKSIG',\n",
              "   'type': 'pubkeyhash',\n",
              "   'value': '5.81201619'},\n",
              "  {'address': 'D6zKNnkupqRbkB9p5rwix8QiobQWJazjyX',\n",
              "   'output_no': 79,\n",
              "   'script': 'OP_DUP OP_HASH160 144739367df0ff8d1c61d03704298d49cf93ef3f OP_EQUALVERIFY OP_CHECKSIG',\n",
              "   'type': 'pubkeyhash',\n",
              "   'value': '5.81201619'},\n",
              "  {'address': 'D6zKNnkupqRbkB9p5rwix8QiobQWJazjyX',\n",
              "   'output_no': 80,\n",
              "   'script': 'OP_DUP OP_HASH160 144739367df0ff8d1c61d03704298d49cf93ef3f OP_EQUALVERIFY OP_CHECKSIG',\n",
              "   'type': 'pubkeyhash',\n",
              "   'value': '5.81201619'},\n",
              "  {'address': 'D6zKNnkupqRbkB9p5rwix8QiobQWJazjyX',\n",
              "   'output_no': 81,\n",
              "   'script': 'OP_DUP OP_HASH160 144739367df0ff8d1c61d03704298d49cf93ef3f OP_EQUALVERIFY OP_CHECKSIG',\n",
              "   'type': 'pubkeyhash',\n",
              "   'value': '5.81201619'},\n",
              "  {'address': 'D6zKNnkupqRbkB9p5rwix8QiobQWJazjyX',\n",
              "   'output_no': 82,\n",
              "   'script': 'OP_DUP OP_HASH160 144739367df0ff8d1c61d03704298d49cf93ef3f OP_EQUALVERIFY OP_CHECKSIG',\n",
              "   'type': 'pubkeyhash',\n",
              "   'value': '5.81201619'},\n",
              "  {'address': 'D6zKNnkupqRbkB9p5rwix8QiobQWJazjyX',\n",
              "   'output_no': 83,\n",
              "   'script': 'OP_DUP OP_HASH160 144739367df0ff8d1c61d03704298d49cf93ef3f OP_EQUALVERIFY OP_CHECKSIG',\n",
              "   'type': 'pubkeyhash',\n",
              "   'value': '5.81201619'},\n",
              "  {'address': 'D6zKNnkupqRbkB9p5rwix8QiobQWJazjyX',\n",
              "   'output_no': 84,\n",
              "   'script': 'OP_DUP OP_HASH160 144739367df0ff8d1c61d03704298d49cf93ef3f OP_EQUALVERIFY OP_CHECKSIG',\n",
              "   'type': 'pubkeyhash',\n",
              "   'value': '5.81201619'},\n",
              "  {'address': 'D6zKNnkupqRbkB9p5rwix8QiobQWJazjyX',\n",
              "   'output_no': 85,\n",
              "   'script': 'OP_DUP OP_HASH160 144739367df0ff8d1c61d03704298d49cf93ef3f OP_EQUALVERIFY OP_CHECKSIG',\n",
              "   'type': 'pubkeyhash',\n",
              "   'value': '5.81201619'},\n",
              "  {'address': 'D6zKNnkupqRbkB9p5rwix8QiobQWJazjyX',\n",
              "   'output_no': 86,\n",
              "   'script': 'OP_DUP OP_HASH160 144739367df0ff8d1c61d03704298d49cf93ef3f OP_EQUALVERIFY OP_CHECKSIG',\n",
              "   'type': 'pubkeyhash',\n",
              "   'value': '5.81201619'},\n",
              "  {'address': 'D6zKNnkupqRbkB9p5rwix8QiobQWJazjyX',\n",
              "   'output_no': 87,\n",
              "   'script': 'OP_DUP OP_HASH160 144739367df0ff8d1c61d03704298d49cf93ef3f OP_EQUALVERIFY OP_CHECKSIG',\n",
              "   'type': 'pubkeyhash',\n",
              "   'value': '5.81201619'},\n",
              "  {'address': 'D6zKNnkupqRbkB9p5rwix8QiobQWJazjyX',\n",
              "   'output_no': 88,\n",
              "   'script': 'OP_DUP OP_HASH160 144739367df0ff8d1c61d03704298d49cf93ef3f OP_EQUALVERIFY OP_CHECKSIG',\n",
              "   'type': 'pubkeyhash',\n",
              "   'value': '5.81201619'},\n",
              "  {'address': 'D6zKNnkupqRbkB9p5rwix8QiobQWJazjyX',\n",
              "   'output_no': 89,\n",
              "   'script': 'OP_DUP OP_HASH160 144739367df0ff8d1c61d03704298d49cf93ef3f OP_EQUALVERIFY OP_CHECKSIG',\n",
              "   'type': 'pubkeyhash',\n",
              "   'value': '5.81201619'},\n",
              "  {'address': 'D6zKNnkupqRbkB9p5rwix8QiobQWJazjyX',\n",
              "   'output_no': 90,\n",
              "   'script': 'OP_DUP OP_HASH160 144739367df0ff8d1c61d03704298d49cf93ef3f OP_EQUALVERIFY OP_CHECKSIG',\n",
              "   'type': 'pubkeyhash',\n",
              "   'value': '5.81201619'},\n",
              "  {'address': 'D6zKNnkupqRbkB9p5rwix8QiobQWJazjyX',\n",
              "   'output_no': 91,\n",
              "   'script': 'OP_DUP OP_HASH160 144739367df0ff8d1c61d03704298d49cf93ef3f OP_EQUALVERIFY OP_CHECKSIG',\n",
              "   'type': 'pubkeyhash',\n",
              "   'value': '5.81201619'},\n",
              "  {'address': 'D6zKNnkupqRbkB9p5rwix8QiobQWJazjyX',\n",
              "   'output_no': 92,\n",
              "   'script': 'OP_DUP OP_HASH160 144739367df0ff8d1c61d03704298d49cf93ef3f OP_EQUALVERIFY OP_CHECKSIG',\n",
              "   'type': 'pubkeyhash',\n",
              "   'value': '5.81201619'},\n",
              "  {'address': 'D6zKNnkupqRbkB9p5rwix8QiobQWJazjyX',\n",
              "   'output_no': 93,\n",
              "   'script': 'OP_DUP OP_HASH160 144739367df0ff8d1c61d03704298d49cf93ef3f OP_EQUALVERIFY OP_CHECKSIG',\n",
              "   'type': 'pubkeyhash',\n",
              "   'value': '5.81201619'},\n",
              "  {'address': 'D6zKNnkupqRbkB9p5rwix8QiobQWJazjyX',\n",
              "   'output_no': 94,\n",
              "   'script': 'OP_DUP OP_HASH160 144739367df0ff8d1c61d03704298d49cf93ef3f OP_EQUALVERIFY OP_CHECKSIG',\n",
              "   'type': 'pubkeyhash',\n",
              "   'value': '5.81201619'},\n",
              "  {'address': 'D6zKNnkupqRbkB9p5rwix8QiobQWJazjyX',\n",
              "   'output_no': 95,\n",
              "   'script': 'OP_DUP OP_HASH160 144739367df0ff8d1c61d03704298d49cf93ef3f OP_EQUALVERIFY OP_CHECKSIG',\n",
              "   'type': 'pubkeyhash',\n",
              "   'value': '5.81201619'},\n",
              "  {'address': 'D6zKNnkupqRbkB9p5rwix8QiobQWJazjyX',\n",
              "   'output_no': 96,\n",
              "   'script': 'OP_DUP OP_HASH160 144739367df0ff8d1c61d03704298d49cf93ef3f OP_EQUALVERIFY OP_CHECKSIG',\n",
              "   'type': 'pubkeyhash',\n",
              "   'value': '5.81201619'}],\n",
              " 'size': 9415,\n",
              " 'time': 1652540740,\n",
              " 'tx_hex': '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',\n",
              " 'txid': 'a01e8625d653f4a8686b5b9e20ca653e59ebcd8bf2ca2a7b8370fdc52417f7b9',\n",
              " 'version': 1,\n",
              " 'vsize': 9415}"
            ]
          },
          "metadata": {},
          "execution_count": 18
        }
      ]
    },
    {
      "cell_type": "code",
      "source": [
        "import requests\n",
        "bea_txn='a01e8625d653f4a8686b5b9e20ca653e59ebcd8bf2ca2a7b8370fdc52417f7b9'\n",
        "\n",
        "r = requests.get(f'https://sochain.com/api/v2/tx/DOGE/{bea_txn}')\n",
        "r.status_code"
      ],
      "metadata": {
        "id": "ROgwLXl56FtY",
        "outputId": "77adf716-5b28-4ac2-9306-598767ea1b14",
        "colab": {
          "base_uri": "https://localhost:8080/"
        }
      },
      "execution_count": null,
      "outputs": [
        {
          "output_type": "execute_result",
          "data": {
            "text/plain": [
              "200"
            ]
          },
          "metadata": {},
          "execution_count": 8
        }
      ]
    },
    {
      "cell_type": "code",
      "source": [
        "type(r.text)"
      ],
      "metadata": {
        "id": "s4zg138s9MLV",
        "outputId": "3b8923a3-7113-4adf-e0cf-d572b59ab922",
        "colab": {
          "base_uri": "https://localhost:8080/"
        }
      },
      "execution_count": null,
      "outputs": [
        {
          "output_type": "execute_result",
          "data": {
            "text/plain": [
              "str"
            ]
          },
          "metadata": {},
          "execution_count": 9
        }
      ]
    },
    {
      "cell_type": "code",
      "source": [
        "def get_output_spend_txns(txn_ident):\n",
        "  import requests\n",
        "  import json\n",
        "  r = requests.get(f'https://sochain.com/api/v2/tx/DOGE/{txn_ident}')\n",
        "  return [out['spent']['txid'] for out in json.loads(r.text)['data']['outputs']]"
      ],
      "metadata": {
        "id": "ddrcwI2t65tQ"
      },
      "execution_count": null,
      "outputs": []
    },
    {
      "cell_type": "code",
      "source": [
        "import requests\n",
        "import json\n",
        "#bea_txn='90c01813156e594c4dbe8bd39436597c68ffaaa201c458f9c1ccae3e86d2c33f'\n",
        "r = requests.get(f'https://sochain.com/api/v2/tx/DOGE/{bea_txn}')\n",
        "bea_json=json.loads(r.text)\n",
        "bea_json\n"
      ],
      "metadata": {
        "colab": {
          "base_uri": "https://localhost:8080/"
        },
        "id": "O7vZbq6zZA1E",
        "outputId": "803e6f2d-a94c-4da1-d247-567926239be9"
      },
      "execution_count": null,
      "outputs": [
        {
          "output_type": "execute_result",
          "data": {
            "text/plain": [
              "{'code': 200,\n",
              " 'data': {'block_no': 4224224,\n",
              "  'blockhash': '4fc98c5553dc5fe736db42ff1aab70c70bac53db4c53552b26374e2b80535884',\n",
              "  'confirmations': 15355,\n",
              "  'fee': '13.70000014',\n",
              "  'inputs': [{'address': 'D6zKNnkupqRbkB9p5rwix8QiobQWJazjyX',\n",
              "    'input_no': 0,\n",
              "    'received_from': {'output_no': 0,\n",
              "     'txid': '53ae86951b38d91cc01a90e7cf9e7089ffff0a4b81a46fcd02a104d696247cb2'},\n",
              "    'script_asm': '304402203ae7b7a459935093fe7534f8d728592047eba5efeb1501936f66da97519bdad70220340831c96477fb031ba7ae694da6eda389d8203ef17a8dd81fbc7d045f7ded2801 047c88e9a4df6e9f45656c10bf66f28e28be235a15b64820b254f1b9eb2738314e6769f5c94da0c7640ffe76dcffca053b07a0804cd53a1c51ad03bfe0133ce8c5',\n",
              "    'script_hex': '47304402203ae7b7a459935093fe7534f8d728592047eba5efeb1501936f66da97519bdad70220340831c96477fb031ba7ae694da6eda389d8203ef17a8dd81fbc7d045f7ded280141047c88e9a4df6e9f45656c10bf66f28e28be235a15b64820b254f1b9eb2738314e6769f5c94da0c7640ffe76dcffca053b07a0804cd53a1c51ad03bfe0133ce8c5',\n",
              "    'value': '5.17545453',\n",
              "    'witness': None},\n",
              "   {'address': 'D6zKNnkupqRbkB9p5rwix8QiobQWJazjyX',\n",
              "    'input_no': 1,\n",
              "    'received_from': {'output_no': 0,\n",
              "     'txid': '7de555db92ec394ebb6050928c9b70fd34bf6fb2ed5e33e33c3f4b9dfc9e8900'},\n",
              "    'script_asm': '3045022100d6bc4339f8616e77d69357f61ad273b5f77ac5e27364abeccab987856af5557f022059e182df185ea1ae3671f5161658611391f52764d51742bd7a4eaba8b36c0b3901 047c88e9a4df6e9f45656c10bf66f28e28be235a15b64820b254f1b9eb2738314e6769f5c94da0c7640ffe76dcffca053b07a0804cd53a1c51ad03bfe0133ce8c5',\n",
              "    'script_hex': '483045022100d6bc4339f8616e77d69357f61ad273b5f77ac5e27364abeccab987856af5557f022059e182df185ea1ae3671f5161658611391f52764d51742bd7a4eaba8b36c0b390141047c88e9a4df6e9f45656c10bf66f28e28be235a15b64820b254f1b9eb2738314e6769f5c94da0c7640ffe76dcffca053b07a0804cd53a1c51ad03bfe0133ce8c5',\n",
              "    'value': '5.17545453',\n",
              "    'witness': None},\n",
              "   {'address': 'D6zKNnkupqRbkB9p5rwix8QiobQWJazjyX',\n",
              "    'input_no': 2,\n",
              "    'received_from': {'output_no': 0,\n",
              "     'txid': '1c1479726fd2832bae02564234e2eb59f6eedb36ed1b74acf4f557006eb9540e'},\n",
              "    'script_asm': '304502210093faa1f283dd4ec13d67f50fda8360d6c76d8353a4e37d47eb5747f63824115202201f8c2aa2fbc8761bd1430c5c0df6e126934dee599616d889563319b55a91b64301 047c88e9a4df6e9f45656c10bf66f28e28be235a15b64820b254f1b9eb2738314e6769f5c94da0c7640ffe76dcffca053b07a0804cd53a1c51ad03bfe0133ce8c5',\n",
              "    'script_hex': '48304502210093faa1f283dd4ec13d67f50fda8360d6c76d8353a4e37d47eb5747f63824115202201f8c2aa2fbc8761bd1430c5c0df6e126934dee599616d889563319b55a91b6430141047c88e9a4df6e9f45656c10bf66f28e28be235a15b64820b254f1b9eb2738314e6769f5c94da0c7640ffe76dcffca053b07a0804cd53a1c51ad03bfe0133ce8c5',\n",
              "    'value': '5.17545453',\n",
              "    'witness': None},\n",
              "   {'address': 'D6zKNnkupqRbkB9p5rwix8QiobQWJazjyX',\n",
              "    'input_no': 3,\n",
              "    'received_from': {'output_no': 0,\n",
              "     'txid': '1a5b286ce3e440fade57d07c23484996f70049ddc11123d79875b99aa9dfc914'},\n",
              "    'script_asm': '3045022100d4b6681db0b83cf148e6be6822d78246b003ea7089739a98fef7f75649794fea02201b9cead55c12f2efd2eae3afdb8e8725c66c2f267687a85af88411d2da6dccb901 047c88e9a4df6e9f45656c10bf66f28e28be235a15b64820b254f1b9eb2738314e6769f5c94da0c7640ffe76dcffca053b07a0804cd53a1c51ad03bfe0133ce8c5',\n",
              "    'script_hex': '483045022100d4b6681db0b83cf148e6be6822d78246b003ea7089739a98fef7f75649794fea02201b9cead55c12f2efd2eae3afdb8e8725c66c2f267687a85af88411d2da6dccb90141047c88e9a4df6e9f45656c10bf66f28e28be235a15b64820b254f1b9eb2738314e6769f5c94da0c7640ffe76dcffca053b07a0804cd53a1c51ad03bfe0133ce8c5',\n",
              "    'value': '5.17545453',\n",
              "    'witness': None},\n",
              "   {'address': 'D6zKNnkupqRbkB9p5rwix8QiobQWJazjyX',\n",
              "    'input_no': 4,\n",
              "    'received_from': {'output_no': 0,\n",
              "     'txid': 'bb5f99b53d66282d920c00c4cdb0ca32309f14754dfa43ae3beca55e85cba934'},\n",
              "    'script_asm': '3045022100911dfa48097c8629907f934d2ad7e00d896afa60e6c0cfa43547aaf04a4d7624022013741b24b8848717397b55d46a941379a5af1c230cef3f16a6e0ef906435df8301 047c88e9a4df6e9f45656c10bf66f28e28be235a15b64820b254f1b9eb2738314e6769f5c94da0c7640ffe76dcffca053b07a0804cd53a1c51ad03bfe0133ce8c5',\n",
              "    'script_hex': '483045022100911dfa48097c8629907f934d2ad7e00d896afa60e6c0cfa43547aaf04a4d7624022013741b24b8848717397b55d46a941379a5af1c230cef3f16a6e0ef906435df830141047c88e9a4df6e9f45656c10bf66f28e28be235a15b64820b254f1b9eb2738314e6769f5c94da0c7640ffe76dcffca053b07a0804cd53a1c51ad03bfe0133ce8c5',\n",
              "    'value': '5.17545453',\n",
              "    'witness': None},\n",
              "   {'address': 'D6zKNnkupqRbkB9p5rwix8QiobQWJazjyX',\n",
              "    'input_no': 5,\n",
              "    'received_from': {'output_no': 0,\n",
              "     'txid': 'd10c6b53dd83a3c337399e13b321f9661e4618c767f2a148c19327563e09573c'},\n",
              "    'script_asm': '304502210081650e376f2775a528263f450f3565dbd771052a755c4714864dad86eed857f802202a79d38a99c9985abf6cb9b340fc206c567bd36fb54ce5c6cd3fac69e7f58fa601 047c88e9a4df6e9f45656c10bf66f28e28be235a15b64820b254f1b9eb2738314e6769f5c94da0c7640ffe76dcffca053b07a0804cd53a1c51ad03bfe0133ce8c5',\n",
              "    'script_hex': '48304502210081650e376f2775a528263f450f3565dbd771052a755c4714864dad86eed857f802202a79d38a99c9985abf6cb9b340fc206c567bd36fb54ce5c6cd3fac69e7f58fa60141047c88e9a4df6e9f45656c10bf66f28e28be235a15b64820b254f1b9eb2738314e6769f5c94da0c7640ffe76dcffca053b07a0804cd53a1c51ad03bfe0133ce8c5',\n",
              "    'value': '5.17545453',\n",
              "    'witness': None},\n",
              "   {'address': 'D6zKNnkupqRbkB9p5rwix8QiobQWJazjyX',\n",
              "    'input_no': 6,\n",
              "    'received_from': {'output_no': 0,\n",
              "     'txid': '2a1d66ec1e63ec0c756aaa189051ac79b54190cc78881033d8df6abdfa751d61'},\n",
              "    'script_asm': '3045022100d056a1955a40dba998be1de34f4fa86a3276b45c7e3a50a9b7856be83c9d80c802203407e600ea7b5bc845b45ce57f353efa33de81ac831c20a0afbd8364dc7949a001 047c88e9a4df6e9f45656c10bf66f28e28be235a15b64820b254f1b9eb2738314e6769f5c94da0c7640ffe76dcffca053b07a0804cd53a1c51ad03bfe0133ce8c5',\n",
              "    'script_hex': '483045022100d056a1955a40dba998be1de34f4fa86a3276b45c7e3a50a9b7856be83c9d80c802203407e600ea7b5bc845b45ce57f353efa33de81ac831c20a0afbd8364dc7949a00141047c88e9a4df6e9f45656c10bf66f28e28be235a15b64820b254f1b9eb2738314e6769f5c94da0c7640ffe76dcffca053b07a0804cd53a1c51ad03bfe0133ce8c5',\n",
              "    'value': '5.17545453',\n",
              "    'witness': None},\n",
              "   {'address': 'D6zKNnkupqRbkB9p5rwix8QiobQWJazjyX',\n",
              "    'input_no': 7,\n",
              "    'received_from': {'output_no': 0,\n",
              "     'txid': '140f0c2e4f95c046c2361181ee67e4922a27fc9db0e31d64d46467470c86fc6a'},\n",
              "    'script_asm': '3045022100bea4aa18c2c08605231e779ed1318967f2644fae6cb29312dd57f76f899b5ac5022034d9c90c930f011088993c9875a7060a903a1e9050a24121dc55388e7a03629e01 047c88e9a4df6e9f45656c10bf66f28e28be235a15b64820b254f1b9eb2738314e6769f5c94da0c7640ffe76dcffca053b07a0804cd53a1c51ad03bfe0133ce8c5',\n",
              "    'script_hex': '483045022100bea4aa18c2c08605231e779ed1318967f2644fae6cb29312dd57f76f899b5ac5022034d9c90c930f011088993c9875a7060a903a1e9050a24121dc55388e7a03629e0141047c88e9a4df6e9f45656c10bf66f28e28be235a15b64820b254f1b9eb2738314e6769f5c94da0c7640ffe76dcffca053b07a0804cd53a1c51ad03bfe0133ce8c5',\n",
              "    'value': '5.17545453',\n",
              "    'witness': None},\n",
              "   {'address': 'D6zKNnkupqRbkB9p5rwix8QiobQWJazjyX',\n",
              "    'input_no': 8,\n",
              "    'received_from': {'output_no': 0,\n",
              "     'txid': '7176b077494c85a7fbc34c174fc75e4d009c2a294de6884de22ad9256a15216e'},\n",
              "    'script_asm': '3045022100fddb1357c970b69361dbf409fec474829381d3ebd33be500cb15594c3e714c6902207ab1eb6283e8c31966e0c4009b179292efd150ea3932aabd93f3f5ef0009072901 047c88e9a4df6e9f45656c10bf66f28e28be235a15b64820b254f1b9eb2738314e6769f5c94da0c7640ffe76dcffca053b07a0804cd53a1c51ad03bfe0133ce8c5',\n",
              "    'script_hex': '483045022100fddb1357c970b69361dbf409fec474829381d3ebd33be500cb15594c3e714c6902207ab1eb6283e8c31966e0c4009b179292efd150ea3932aabd93f3f5ef000907290141047c88e9a4df6e9f45656c10bf66f28e28be235a15b64820b254f1b9eb2738314e6769f5c94da0c7640ffe76dcffca053b07a0804cd53a1c51ad03bfe0133ce8c5',\n",
              "    'value': '5.17545453',\n",
              "    'witness': None},\n",
              "   {'address': 'D6zKNnkupqRbkB9p5rwix8QiobQWJazjyX',\n",
              "    'input_no': 9,\n",
              "    'received_from': {'output_no': 0,\n",
              "     'txid': 'ebcd6115961bcef1a4bad384000dc4fa4d66cafc24d029bbec340a084f95a76e'},\n",
              "    'script_asm': '3045022100fa1cddcaca225ff7548a3eac57cdcf271efb9f503d34959aa7e9ed4aa370a32202207719b76c8e6f1be4f56746893dedef8905d6ff2acea4162fc1bca70764ecb54801 047c88e9a4df6e9f45656c10bf66f28e28be235a15b64820b254f1b9eb2738314e6769f5c94da0c7640ffe76dcffca053b07a0804cd53a1c51ad03bfe0133ce8c5',\n",
              "    'script_hex': '483045022100fa1cddcaca225ff7548a3eac57cdcf271efb9f503d34959aa7e9ed4aa370a32202207719b76c8e6f1be4f56746893dedef8905d6ff2acea4162fc1bca70764ecb5480141047c88e9a4df6e9f45656c10bf66f28e28be235a15b64820b254f1b9eb2738314e6769f5c94da0c7640ffe76dcffca053b07a0804cd53a1c51ad03bfe0133ce8c5',\n",
              "    'value': '5.17545453',\n",
              "    'witness': None},\n",
              "   {'address': 'D6zKNnkupqRbkB9p5rwix8QiobQWJazjyX',\n",
              "    'input_no': 10,\n",
              "    'received_from': {'output_no': 0,\n",
              "     'txid': '61ffbaef642a5810196d6bee7f918eb15f3492764ec63806c76c4b29a6f32f8e'},\n",
              "    'script_asm': '3044022042c43487e32d3afa90167695d514e52ca64a9fe736c66fd692af812911c94393022015eafbee61975337507e0f233c23c2edeb280504a5762792f52bfa7bd4aeca1901 047c88e9a4df6e9f45656c10bf66f28e28be235a15b64820b254f1b9eb2738314e6769f5c94da0c7640ffe76dcffca053b07a0804cd53a1c51ad03bfe0133ce8c5',\n",
              "    'script_hex': '473044022042c43487e32d3afa90167695d514e52ca64a9fe736c66fd692af812911c94393022015eafbee61975337507e0f233c23c2edeb280504a5762792f52bfa7bd4aeca190141047c88e9a4df6e9f45656c10bf66f28e28be235a15b64820b254f1b9eb2738314e6769f5c94da0c7640ffe76dcffca053b07a0804cd53a1c51ad03bfe0133ce8c5',\n",
              "    'value': '5.17545453',\n",
              "    'witness': None},\n",
              "   {'address': 'D6zKNnkupqRbkB9p5rwix8QiobQWJazjyX',\n",
              "    'input_no': 11,\n",
              "    'received_from': {'output_no': 0,\n",
              "     'txid': '05258574937feee15ca3b62d3adf7e6419c0d8eacd7d9cf1da2f3a9b4cbc4791'},\n",
              "    'script_asm': '3045022100a0ebe8b11a44aa80faca87c943c1b9eff4c77d1b38e65c25a66cb9d9307ffe4c022047efc14f564980007cc76a9680cdbd831c7ea68a6a40fad37ef3982dbee3b25a01 047c88e9a4df6e9f45656c10bf66f28e28be235a15b64820b254f1b9eb2738314e6769f5c94da0c7640ffe76dcffca053b07a0804cd53a1c51ad03bfe0133ce8c5',\n",
              "    'script_hex': '483045022100a0ebe8b11a44aa80faca87c943c1b9eff4c77d1b38e65c25a66cb9d9307ffe4c022047efc14f564980007cc76a9680cdbd831c7ea68a6a40fad37ef3982dbee3b25a0141047c88e9a4df6e9f45656c10bf66f28e28be235a15b64820b254f1b9eb2738314e6769f5c94da0c7640ffe76dcffca053b07a0804cd53a1c51ad03bfe0133ce8c5',\n",
              "    'value': '5.17545453',\n",
              "    'witness': None},\n",
              "   {'address': 'D6zKNnkupqRbkB9p5rwix8QiobQWJazjyX',\n",
              "    'input_no': 12,\n",
              "    'received_from': {'output_no': 0,\n",
              "     'txid': '53b6990a5ff193acc212287463b0eb183018c67935debffd061ccba0187612b6'},\n",
              "    'script_asm': '3045022100f0de0ed2ffb892ac40312930dab045fc5394ffffeabaf17c903686a1931f1a0b02206e2a89dfc3c0a6adbd96622e8d4c1db08459f4d714db32edde29c41518852b6f01 047c88e9a4df6e9f45656c10bf66f28e28be235a15b64820b254f1b9eb2738314e6769f5c94da0c7640ffe76dcffca053b07a0804cd53a1c51ad03bfe0133ce8c5',\n",
              "    'script_hex': '483045022100f0de0ed2ffb892ac40312930dab045fc5394ffffeabaf17c903686a1931f1a0b02206e2a89dfc3c0a6adbd96622e8d4c1db08459f4d714db32edde29c41518852b6f0141047c88e9a4df6e9f45656c10bf66f28e28be235a15b64820b254f1b9eb2738314e6769f5c94da0c7640ffe76dcffca053b07a0804cd53a1c51ad03bfe0133ce8c5',\n",
              "    'value': '5.17545453',\n",
              "    'witness': None},\n",
              "   {'address': 'D6zKNnkupqRbkB9p5rwix8QiobQWJazjyX',\n",
              "    'input_no': 13,\n",
              "    'received_from': {'output_no': 0,\n",
              "     'txid': '3c660aac73dc85dfbba77e3697ce9e29166b05b4931952125eafb337c174f9c1'},\n",
              "    'script_asm': '304502210088b9921e17ef09ef6e503ee5fd360661ed781c61777f2eb70146b8d04dbbe3d402203ab0199be232d064b6b137178f1bae8dea55a00b21aa0685d04980a05444d5d201 047c88e9a4df6e9f45656c10bf66f28e28be235a15b64820b254f1b9eb2738314e6769f5c94da0c7640ffe76dcffca053b07a0804cd53a1c51ad03bfe0133ce8c5',\n",
              "    'script_hex': '48304502210088b9921e17ef09ef6e503ee5fd360661ed781c61777f2eb70146b8d04dbbe3d402203ab0199be232d064b6b137178f1bae8dea55a00b21aa0685d04980a05444d5d20141047c88e9a4df6e9f45656c10bf66f28e28be235a15b64820b254f1b9eb2738314e6769f5c94da0c7640ffe76dcffca053b07a0804cd53a1c51ad03bfe0133ce8c5',\n",
              "    'value': '5.17545453',\n",
              "    'witness': None},\n",
              "   {'address': 'D6zKNnkupqRbkB9p5rwix8QiobQWJazjyX',\n",
              "    'input_no': 14,\n",
              "    'received_from': {'output_no': 0,\n",
              "     'txid': 'de84f6f0dab5da79cc78799c254406646f232fc2246c0cf2ecae8ea3600bd9c9'},\n",
              "    'script_asm': '3044022001644c76086969076991a4ff081f45be69cc976aaaa6461bb6e0c16b35d5f9e802206d78970f7fced1e4735dbe7e0504c91d51fa11cb9a0d6c189a07ff2160fe7bbc01 047c88e9a4df6e9f45656c10bf66f28e28be235a15b64820b254f1b9eb2738314e6769f5c94da0c7640ffe76dcffca053b07a0804cd53a1c51ad03bfe0133ce8c5',\n",
              "    'script_hex': '473044022001644c76086969076991a4ff081f45be69cc976aaaa6461bb6e0c16b35d5f9e802206d78970f7fced1e4735dbe7e0504c91d51fa11cb9a0d6c189a07ff2160fe7bbc0141047c88e9a4df6e9f45656c10bf66f28e28be235a15b64820b254f1b9eb2738314e6769f5c94da0c7640ffe76dcffca053b07a0804cd53a1c51ad03bfe0133ce8c5',\n",
              "    'value': '5.17545453',\n",
              "    'witness': None},\n",
              "   {'address': 'D6zKNnkupqRbkB9p5rwix8QiobQWJazjyX',\n",
              "    'input_no': 15,\n",
              "    'received_from': {'output_no': 0,\n",
              "     'txid': 'a872861d4cc200139f804cfbeb687015ed3b2eb7c4c490077ef537c5bb1143d2'},\n",
              "    'script_asm': '3045022100d8adb1ecd04dda2935ea0fd67a7f420ec071519487652ab9f752f206cc76f63702206ece574498853b3f87a2d525f8b66e003a8c9a6d4b65041374a688e559a1d4b701 047c88e9a4df6e9f45656c10bf66f28e28be235a15b64820b254f1b9eb2738314e6769f5c94da0c7640ffe76dcffca053b07a0804cd53a1c51ad03bfe0133ce8c5',\n",
              "    'script_hex': '483045022100d8adb1ecd04dda2935ea0fd67a7f420ec071519487652ab9f752f206cc76f63702206ece574498853b3f87a2d525f8b66e003a8c9a6d4b65041374a688e559a1d4b70141047c88e9a4df6e9f45656c10bf66f28e28be235a15b64820b254f1b9eb2738314e6769f5c94da0c7640ffe76dcffca053b07a0804cd53a1c51ad03bfe0133ce8c5',\n",
              "    'value': '5.17545453',\n",
              "    'witness': None},\n",
              "   {'address': 'D6zKNnkupqRbkB9p5rwix8QiobQWJazjyX',\n",
              "    'input_no': 16,\n",
              "    'received_from': {'output_no': 0,\n",
              "     'txid': '9a18605e2f78a5e2c20e3c7546893b042266762e9e1db599c00072dea802d8df'},\n",
              "    'script_asm': '3045022100a9bf0567f8820ad9b5f89ab279a3be34900227141f88208f8dcb38877b6dfd8202202a25547c4c9856686d15b60382553c540be652de94f0708dd57fc96649f05b7501 047c88e9a4df6e9f45656c10bf66f28e28be235a15b64820b254f1b9eb2738314e6769f5c94da0c7640ffe76dcffca053b07a0804cd53a1c51ad03bfe0133ce8c5',\n",
              "    'script_hex': '483045022100a9bf0567f8820ad9b5f89ab279a3be34900227141f88208f8dcb38877b6dfd8202202a25547c4c9856686d15b60382553c540be652de94f0708dd57fc96649f05b750141047c88e9a4df6e9f45656c10bf66f28e28be235a15b64820b254f1b9eb2738314e6769f5c94da0c7640ffe76dcffca053b07a0804cd53a1c51ad03bfe0133ce8c5',\n",
              "    'value': '5.17545453',\n",
              "    'witness': None},\n",
              "   {'address': 'D6zKNnkupqRbkB9p5rwix8QiobQWJazjyX',\n",
              "    'input_no': 17,\n",
              "    'received_from': {'output_no': 0,\n",
              "     'txid': 'f5966121a6d69fac636c9b9148c9454cf19387bd153def1de1c77e1ff0a7a828'},\n",
              "    'script_asm': '30440220317c18a82edfe508afafd3e0eccae722a3e615c7d471848cdb425515fb36369c02204252d0a0a797900f4a26d3e0606a0c06cc9a440c999dcbcf5d6708e722a1baf901 047c88e9a4df6e9f45656c10bf66f28e28be235a15b64820b254f1b9eb2738314e6769f5c94da0c7640ffe76dcffca053b07a0804cd53a1c51ad03bfe0133ce8c5',\n",
              "    'script_hex': '4730440220317c18a82edfe508afafd3e0eccae722a3e615c7d471848cdb425515fb36369c02204252d0a0a797900f4a26d3e0606a0c06cc9a440c999dcbcf5d6708e722a1baf90141047c88e9a4df6e9f45656c10bf66f28e28be235a15b64820b254f1b9eb2738314e6769f5c94da0c7640ffe76dcffca053b07a0804cd53a1c51ad03bfe0133ce8c5',\n",
              "    'value': '5.17545453',\n",
              "    'witness': None},\n",
              "   {'address': 'D6zKNnkupqRbkB9p5rwix8QiobQWJazjyX',\n",
              "    'input_no': 18,\n",
              "    'received_from': {'output_no': 0,\n",
              "     'txid': '8945c36e6e93fa0128a64bc8a2dc36f042652f8d7f50930dd6250f34b93dc72f'},\n",
              "    'script_asm': '304402202e201db3289948e741f7e275d1177fe5c595af084c1e788d04eecbd02eafdc9002201487ff34a921a5fffb8bf4a994127ac2db120b041bd33cf91fdb54148bd233d601 047c88e9a4df6e9f45656c10bf66f28e28be235a15b64820b254f1b9eb2738314e6769f5c94da0c7640ffe76dcffca053b07a0804cd53a1c51ad03bfe0133ce8c5',\n",
              "    'script_hex': '47304402202e201db3289948e741f7e275d1177fe5c595af084c1e788d04eecbd02eafdc9002201487ff34a921a5fffb8bf4a994127ac2db120b041bd33cf91fdb54148bd233d60141047c88e9a4df6e9f45656c10bf66f28e28be235a15b64820b254f1b9eb2738314e6769f5c94da0c7640ffe76dcffca053b07a0804cd53a1c51ad03bfe0133ce8c5',\n",
              "    'value': '5.17545453',\n",
              "    'witness': None},\n",
              "   {'address': 'D6zKNnkupqRbkB9p5rwix8QiobQWJazjyX',\n",
              "    'input_no': 19,\n",
              "    'received_from': {'output_no': 0,\n",
              "     'txid': '9e5cc64874aa80076765b0ab06d6858c4f16b32dbe5c3f504a9695b49cfd953c'},\n",
              "    'script_asm': '3045022100fa36ba631d56e807ec4a79af3b25da0470e2ce383491d36d8edbebe4747a978302203d61d5ebb3a464f4fc85ad8ab4ac2d32028385e31511e7dd577d60da36f5e87c01 047c88e9a4df6e9f45656c10bf66f28e28be235a15b64820b254f1b9eb2738314e6769f5c94da0c7640ffe76dcffca053b07a0804cd53a1c51ad03bfe0133ce8c5',\n",
              "    'script_hex': '483045022100fa36ba631d56e807ec4a79af3b25da0470e2ce383491d36d8edbebe4747a978302203d61d5ebb3a464f4fc85ad8ab4ac2d32028385e31511e7dd577d60da36f5e87c0141047c88e9a4df6e9f45656c10bf66f28e28be235a15b64820b254f1b9eb2738314e6769f5c94da0c7640ffe76dcffca053b07a0804cd53a1c51ad03bfe0133ce8c5',\n",
              "    'value': '5.17545453',\n",
              "    'witness': None},\n",
              "   {'address': 'D6zKNnkupqRbkB9p5rwix8QiobQWJazjyX',\n",
              "    'input_no': 20,\n",
              "    'received_from': {'output_no': 0,\n",
              "     'txid': 'c0c0100357741223008b3d543d248b0be2fa2a4ebb17b113729298088951774b'},\n",
              "    'script_asm': '3045022100da7832cd07419402543c686bcda72d6b8444fa63a35447c1260bdc6a9ebb5d3d02203b490ba761d196d458de1f99ef8ee93d116d3bb8be5be7846ac84fad77ba038601 047c88e9a4df6e9f45656c10bf66f28e28be235a15b64820b254f1b9eb2738314e6769f5c94da0c7640ffe76dcffca053b07a0804cd53a1c51ad03bfe0133ce8c5',\n",
              "    'script_hex': '483045022100da7832cd07419402543c686bcda72d6b8444fa63a35447c1260bdc6a9ebb5d3d02203b490ba761d196d458de1f99ef8ee93d116d3bb8be5be7846ac84fad77ba03860141047c88e9a4df6e9f45656c10bf66f28e28be235a15b64820b254f1b9eb2738314e6769f5c94da0c7640ffe76dcffca053b07a0804cd53a1c51ad03bfe0133ce8c5',\n",
              "    'value': '5.17545453',\n",
              "    'witness': None},\n",
              "   {'address': 'D6zKNnkupqRbkB9p5rwix8QiobQWJazjyX',\n",
              "    'input_no': 21,\n",
              "    'received_from': {'output_no': 0,\n",
              "     'txid': 'a3559b089d1bd48c6c395c47e0d86e81565342edf8979548337f022f39842356'},\n",
              "    'script_asm': '30440220093f25e79fe032ee9e23f248cdf695f4ba010492a7a430bfc34670c7b8f49bb6022007b33b2050169c1caf74353c02b5bffb71cdb79c114be6bb2b3a1614c183b5e601 047c88e9a4df6e9f45656c10bf66f28e28be235a15b64820b254f1b9eb2738314e6769f5c94da0c7640ffe76dcffca053b07a0804cd53a1c51ad03bfe0133ce8c5',\n",
              "    'script_hex': '4730440220093f25e79fe032ee9e23f248cdf695f4ba010492a7a430bfc34670c7b8f49bb6022007b33b2050169c1caf74353c02b5bffb71cdb79c114be6bb2b3a1614c183b5e60141047c88e9a4df6e9f45656c10bf66f28e28be235a15b64820b254f1b9eb2738314e6769f5c94da0c7640ffe76dcffca053b07a0804cd53a1c51ad03bfe0133ce8c5',\n",
              "    'value': '5.17545453',\n",
              "    'witness': None},\n",
              "   {'address': 'D6zKNnkupqRbkB9p5rwix8QiobQWJazjyX',\n",
              "    'input_no': 22,\n",
              "    'received_from': {'output_no': 0,\n",
              "     'txid': '85981e0d4245c10cdba9c1d869cc0db10505da89bb2936e464a63b5b21e9095b'},\n",
              "    'script_asm': '3044022058a59ab78ca391fe369b6067999c5c5b80dbb8756e573687f100dbb50b45887402205a185aab424b45bcfdd34608b7cddc79a271977a2b9a651561105a13c31b731e01 047c88e9a4df6e9f45656c10bf66f28e28be235a15b64820b254f1b9eb2738314e6769f5c94da0c7640ffe76dcffca053b07a0804cd53a1c51ad03bfe0133ce8c5',\n",
              "    'script_hex': '473044022058a59ab78ca391fe369b6067999c5c5b80dbb8756e573687f100dbb50b45887402205a185aab424b45bcfdd34608b7cddc79a271977a2b9a651561105a13c31b731e0141047c88e9a4df6e9f45656c10bf66f28e28be235a15b64820b254f1b9eb2738314e6769f5c94da0c7640ffe76dcffca053b07a0804cd53a1c51ad03bfe0133ce8c5',\n",
              "    'value': '5.17545453',\n",
              "    'witness': None},\n",
              "   {'address': 'D6zKNnkupqRbkB9p5rwix8QiobQWJazjyX',\n",
              "    'input_no': 23,\n",
              "    'received_from': {'output_no': 0,\n",
              "     'txid': '3c940d05069c830176016044cf23cd8ed727bb078a0d5c8cca54cd7013b09f71'},\n",
              "    'script_asm': '304402202bb73e0ae262856c2addcd856472863dfa6459a8f9867522c988e4959b45047c0220384d5c9cd2253ed7f081dad2e3ed2e3a003037b2bbd6eb413ee3b2ec5593bed201 047c88e9a4df6e9f45656c10bf66f28e28be235a15b64820b254f1b9eb2738314e6769f5c94da0c7640ffe76dcffca053b07a0804cd53a1c51ad03bfe0133ce8c5',\n",
              "    'script_hex': '47304402202bb73e0ae262856c2addcd856472863dfa6459a8f9867522c988e4959b45047c0220384d5c9cd2253ed7f081dad2e3ed2e3a003037b2bbd6eb413ee3b2ec5593bed20141047c88e9a4df6e9f45656c10bf66f28e28be235a15b64820b254f1b9eb2738314e6769f5c94da0c7640ffe76dcffca053b07a0804cd53a1c51ad03bfe0133ce8c5',\n",
              "    'value': '5.17545453',\n",
              "    'witness': None},\n",
              "   {'address': 'D6zKNnkupqRbkB9p5rwix8QiobQWJazjyX',\n",
              "    'input_no': 24,\n",
              "    'received_from': {'output_no': 0,\n",
              "     'txid': 'e970f755be8b9926f319157d1362926ba4b0b62e28bbccf7667d5b242c010f7c'},\n",
              "    'script_asm': '30440220159176146015bf6141fb53bbaa058a850282d72a654b421a6cf93394ca02581e022072e29fe576dc26216e71046d276d388104fa8e0509b655018d1b99411136fca701 047c88e9a4df6e9f45656c10bf66f28e28be235a15b64820b254f1b9eb2738314e6769f5c94da0c7640ffe76dcffca053b07a0804cd53a1c51ad03bfe0133ce8c5',\n",
              "    'script_hex': '4730440220159176146015bf6141fb53bbaa058a850282d72a654b421a6cf93394ca02581e022072e29fe576dc26216e71046d276d388104fa8e0509b655018d1b99411136fca70141047c88e9a4df6e9f45656c10bf66f28e28be235a15b64820b254f1b9eb2738314e6769f5c94da0c7640ffe76dcffca053b07a0804cd53a1c51ad03bfe0133ce8c5',\n",
              "    'value': '5.17545453',\n",
              "    'witness': None},\n",
              "   {'address': 'D6zKNnkupqRbkB9p5rwix8QiobQWJazjyX',\n",
              "    'input_no': 25,\n",
              "    'received_from': {'output_no': 0,\n",
              "     'txid': '2f3162731462b52420ef5954c7d634f0c2a779dae3688795b53d5a9eed15508c'},\n",
              "    'script_asm': '3044022072c6bc7b065d90f89fa9b51813329aaa94d33be66cd8b0cb85a7475f025a23d40220643630e93bb3467f986541a6f02a6c1e9b34e35d138a123d26e07759743a057701 047c88e9a4df6e9f45656c10bf66f28e28be235a15b64820b254f1b9eb2738314e6769f5c94da0c7640ffe76dcffca053b07a0804cd53a1c51ad03bfe0133ce8c5',\n",
              "    'script_hex': '473044022072c6bc7b065d90f89fa9b51813329aaa94d33be66cd8b0cb85a7475f025a23d40220643630e93bb3467f986541a6f02a6c1e9b34e35d138a123d26e07759743a05770141047c88e9a4df6e9f45656c10bf66f28e28be235a15b64820b254f1b9eb2738314e6769f5c94da0c7640ffe76dcffca053b07a0804cd53a1c51ad03bfe0133ce8c5',\n",
              "    'value': '5.17545453',\n",
              "    'witness': None},\n",
              "   {'address': 'D6zKNnkupqRbkB9p5rwix8QiobQWJazjyX',\n",
              "    'input_no': 26,\n",
              "    'received_from': {'output_no': 0,\n",
              "     'txid': '47c5dd87328ae082e876f4e23c2eb253e861f1525293063d92b45a43e183b697'},\n",
              "    'script_asm': '30450221009304ce6b2682ada1412ec4f7ee1b85f57f070198cdfa5539a48d1e70f18628fd02202d57f6c7e084ab6f2e62dd1e14d7d4edf62bba67a437efd2adb2dd3acd30c15c01 047c88e9a4df6e9f45656c10bf66f28e28be235a15b64820b254f1b9eb2738314e6769f5c94da0c7640ffe76dcffca053b07a0804cd53a1c51ad03bfe0133ce8c5',\n",
              "    'script_hex': '4830450221009304ce6b2682ada1412ec4f7ee1b85f57f070198cdfa5539a48d1e70f18628fd02202d57f6c7e084ab6f2e62dd1e14d7d4edf62bba67a437efd2adb2dd3acd30c15c0141047c88e9a4df6e9f45656c10bf66f28e28be235a15b64820b254f1b9eb2738314e6769f5c94da0c7640ffe76dcffca053b07a0804cd53a1c51ad03bfe0133ce8c5',\n",
              "    'value': '5.17545453',\n",
              "    'witness': None},\n",
              "   {'address': 'D6zKNnkupqRbkB9p5rwix8QiobQWJazjyX',\n",
              "    'input_no': 27,\n",
              "    'received_from': {'output_no': 0,\n",
              "     'txid': '5c57cad54308ffac804dbaee849bdcddc03b520148009a10f85427958773109a'},\n",
              "    'script_asm': '30450221008d8f094137ad30ebd3d09bdddc6310bfa7fbfcdbe10488912379e4c9bcf92362022037dfc1e01ec60f5426fbc566e07b48d94556fd4e2902751e2aa7f68f54d0812401 047c88e9a4df6e9f45656c10bf66f28e28be235a15b64820b254f1b9eb2738314e6769f5c94da0c7640ffe76dcffca053b07a0804cd53a1c51ad03bfe0133ce8c5',\n",
              "    'script_hex': '4830450221008d8f094137ad30ebd3d09bdddc6310bfa7fbfcdbe10488912379e4c9bcf92362022037dfc1e01ec60f5426fbc566e07b48d94556fd4e2902751e2aa7f68f54d081240141047c88e9a4df6e9f45656c10bf66f28e28be235a15b64820b254f1b9eb2738314e6769f5c94da0c7640ffe76dcffca053b07a0804cd53a1c51ad03bfe0133ce8c5',\n",
              "    'value': '5.17545453',\n",
              "    'witness': None},\n",
              "   {'address': 'D6zKNnkupqRbkB9p5rwix8QiobQWJazjyX',\n",
              "    'input_no': 28,\n",
              "    'received_from': {'output_no': 0,\n",
              "     'txid': '8ef8d8e2f58a1b9765c5df7ac576abcb817cfea17c31e03df923070d984f54a6'},\n",
              "    'script_asm': '30440220346363854b8cab7a6099686a1e0a114966101b3006cf68c1dccbec7fa42d9f71022063b4aef5c2676ffda87eba8bd18c63d9dd06ebe486caf106a0a669f38413519601 047c88e9a4df6e9f45656c10bf66f28e28be235a15b64820b254f1b9eb2738314e6769f5c94da0c7640ffe76dcffca053b07a0804cd53a1c51ad03bfe0133ce8c5',\n",
              "    'script_hex': '4730440220346363854b8cab7a6099686a1e0a114966101b3006cf68c1dccbec7fa42d9f71022063b4aef5c2676ffda87eba8bd18c63d9dd06ebe486caf106a0a669f3841351960141047c88e9a4df6e9f45656c10bf66f28e28be235a15b64820b254f1b9eb2738314e6769f5c94da0c7640ffe76dcffca053b07a0804cd53a1c51ad03bfe0133ce8c5',\n",
              "    'value': '5.17545453',\n",
              "    'witness': None},\n",
              "   {'address': 'D6zKNnkupqRbkB9p5rwix8QiobQWJazjyX',\n",
              "    'input_no': 29,\n",
              "    'received_from': {'output_no': 0,\n",
              "     'txid': '8a77887d58c01356e03a2c78af159908ef3274abf93945309b86e9b3e797d4ac'},\n",
              "    'script_asm': '304402200f55629dc2f6470ca337adcfdca933a3306783edf411b345af8fef3a6c24ac2202205363c660aecf89feb2194597912657ec2d8f4aa7586b54a380b30658a09bc67201 047c88e9a4df6e9f45656c10bf66f28e28be235a15b64820b254f1b9eb2738314e6769f5c94da0c7640ffe76dcffca053b07a0804cd53a1c51ad03bfe0133ce8c5',\n",
              "    'script_hex': '47304402200f55629dc2f6470ca337adcfdca933a3306783edf411b345af8fef3a6c24ac2202205363c660aecf89feb2194597912657ec2d8f4aa7586b54a380b30658a09bc6720141047c88e9a4df6e9f45656c10bf66f28e28be235a15b64820b254f1b9eb2738314e6769f5c94da0c7640ffe76dcffca053b07a0804cd53a1c51ad03bfe0133ce8c5',\n",
              "    'value': '5.17545453',\n",
              "    'witness': None},\n",
              "   {'address': 'D6zKNnkupqRbkB9p5rwix8QiobQWJazjyX',\n",
              "    'input_no': 30,\n",
              "    'received_from': {'output_no': 0,\n",
              "     'txid': 'a23f334f08af6e56fa7553bc204c3b9e04f8c6f0e93f3c9bf300ef0a0ba8e3b1'},\n",
              "    'script_asm': '30450221008a72ec0d01b270068f779bf8d8e524802be1fc06d94bf14465118829b3334a5802205664f33db796ca903c46db00516e6612fbd03b0c1d30b8d325bf0c020c6437f301 047c88e9a4df6e9f45656c10bf66f28e28be235a15b64820b254f1b9eb2738314e6769f5c94da0c7640ffe76dcffca053b07a0804cd53a1c51ad03bfe0133ce8c5',\n",
              "    'script_hex': '4830450221008a72ec0d01b270068f779bf8d8e524802be1fc06d94bf14465118829b3334a5802205664f33db796ca903c46db00516e6612fbd03b0c1d30b8d325bf0c020c6437f30141047c88e9a4df6e9f45656c10bf66f28e28be235a15b64820b254f1b9eb2738314e6769f5c94da0c7640ffe76dcffca053b07a0804cd53a1c51ad03bfe0133ce8c5',\n",
              "    'value': '5.17545453',\n",
              "    'witness': None},\n",
              "   {'address': 'D6zKNnkupqRbkB9p5rwix8QiobQWJazjyX',\n",
              "    'input_no': 31,\n",
              "    'received_from': {'output_no': 0,\n",
              "     'txid': 'c926f0d9a2311ccb422de595908bd8c9c7c5332a8c78a39a33645a26076400ca'},\n",
              "    'script_asm': '3044022055fd999dd68b30396c9653125db67f6b9b6b43dfb44aedb452bc216293bcbc8f02200c3750e5a2f107de73678de9d599bad32b2647805baac3291d320c5918e4c17501 047c88e9a4df6e9f45656c10bf66f28e28be235a15b64820b254f1b9eb2738314e6769f5c94da0c7640ffe76dcffca053b07a0804cd53a1c51ad03bfe0133ce8c5',\n",
              "    'script_hex': '473044022055fd999dd68b30396c9653125db67f6b9b6b43dfb44aedb452bc216293bcbc8f02200c3750e5a2f107de73678de9d599bad32b2647805baac3291d320c5918e4c1750141047c88e9a4df6e9f45656c10bf66f28e28be235a15b64820b254f1b9eb2738314e6769f5c94da0c7640ffe76dcffca053b07a0804cd53a1c51ad03bfe0133ce8c5',\n",
              "    'value': '5.17545453',\n",
              "    'witness': None},\n",
              "   {'address': 'D6zKNnkupqRbkB9p5rwix8QiobQWJazjyX',\n",
              "    'input_no': 32,\n",
              "    'received_from': {'output_no': 0,\n",
              "     'txid': '5ce5a1e96c64eb1d917f1ae6883f47a86c2a06e42709cc77fbdbb5256492ecdd'},\n",
              "    'script_asm': '3045022100a41eee78bd253b39ff72327a3fe82e6d0090e65b602cfdeffa795482fcccb13502203357bc2687aa0541554998f7058bce99a0766ee48e7dde21c538fbf8d4f6f91701 047c88e9a4df6e9f45656c10bf66f28e28be235a15b64820b254f1b9eb2738314e6769f5c94da0c7640ffe76dcffca053b07a0804cd53a1c51ad03bfe0133ce8c5',\n",
              "    'script_hex': '483045022100a41eee78bd253b39ff72327a3fe82e6d0090e65b602cfdeffa795482fcccb13502203357bc2687aa0541554998f7058bce99a0766ee48e7dde21c538fbf8d4f6f9170141047c88e9a4df6e9f45656c10bf66f28e28be235a15b64820b254f1b9eb2738314e6769f5c94da0c7640ffe76dcffca053b07a0804cd53a1c51ad03bfe0133ce8c5',\n",
              "    'value': '5.17545453',\n",
              "    'witness': None},\n",
              "   {'address': 'D6zKNnkupqRbkB9p5rwix8QiobQWJazjyX',\n",
              "    'input_no': 33,\n",
              "    'received_from': {'output_no': 0,\n",
              "     'txid': '66db18121392ec6b65887c36ea303407533f38ed176a01f819d5f2aacd862872'},\n",
              "    'script_asm': '3045022100adbdeb4e3716c016c85c6611f03fba8af04a703beed065b50d20ab61a38b3bf7022010c3815f4033c45f59bd326b431f799b3bbdb4b89f43936c45a06bfdecbebe3801 047c88e9a4df6e9f45656c10bf66f28e28be235a15b64820b254f1b9eb2738314e6769f5c94da0c7640ffe76dcffca053b07a0804cd53a1c51ad03bfe0133ce8c5',\n",
              "    'script_hex': '483045022100adbdeb4e3716c016c85c6611f03fba8af04a703beed065b50d20ab61a38b3bf7022010c3815f4033c45f59bd326b431f799b3bbdb4b89f43936c45a06bfdecbebe380141047c88e9a4df6e9f45656c10bf66f28e28be235a15b64820b254f1b9eb2738314e6769f5c94da0c7640ffe76dcffca053b07a0804cd53a1c51ad03bfe0133ce8c5',\n",
              "    'value': '406.67557108',\n",
              "    'witness': None}],\n",
              "  'locktime': 0,\n",
              "  'network': 'DOGE',\n",
              "  'outputs': [{'address': 'D6zKNnkupqRbkB9p5rwix8QiobQWJazjyX',\n",
              "    'output_no': 0,\n",
              "    'req_sigs': 1,\n",
              "    'script_asm': 'OP_DUP OP_HASH160 144739367df0ff8d1c61d03704298d49cf93ef3f OP_EQUALVERIFY OP_CHECKSIG',\n",
              "    'script_hex': '76a914144739367df0ff8d1c61d03704298d49cf93ef3f88ac',\n",
              "    'spent': {'input_no': 0,\n",
              "     'txid': '90c01813156e594c4dbe8bd39436597c68ffaaa201c458f9c1ccae3e86d2c33f'},\n",
              "    'type': 'pubkeyhash',\n",
              "    'value': '5.81201619'},\n",
              "   {'address': 'D6zKNnkupqRbkB9p5rwix8QiobQWJazjyX',\n",
              "    'output_no': 1,\n",
              "    'req_sigs': 1,\n",
              "    'script_asm': 'OP_DUP OP_HASH160 144739367df0ff8d1c61d03704298d49cf93ef3f OP_EQUALVERIFY OP_CHECKSIG',\n",
              "    'script_hex': '76a914144739367df0ff8d1c61d03704298d49cf93ef3f88ac',\n",
              "    'spent': {'input_no': 0,\n",
              "     'txid': 'cf0f325d00cc33cedde905f1132855c569ae573f3aa1493c837652aeebee18bc'},\n",
              "    'type': 'pubkeyhash',\n",
              "    'value': '5.81201619'},\n",
              "   {'address': 'D6zKNnkupqRbkB9p5rwix8QiobQWJazjyX',\n",
              "    'output_no': 2,\n",
              "    'req_sigs': 1,\n",
              "    'script_asm': 'OP_DUP OP_HASH160 144739367df0ff8d1c61d03704298d49cf93ef3f OP_EQUALVERIFY OP_CHECKSIG',\n",
              "    'script_hex': '76a914144739367df0ff8d1c61d03704298d49cf93ef3f88ac',\n",
              "    'spent': {'input_no': 0,\n",
              "     'txid': 'c682f3de33dd6e882d6cbf499d28d6ebd87fecd2fad7108065fa5390d7a00458'},\n",
              "    'type': 'pubkeyhash',\n",
              "    'value': '5.81201619'},\n",
              "   {'address': 'D6zKNnkupqRbkB9p5rwix8QiobQWJazjyX',\n",
              "    'output_no': 3,\n",
              "    'req_sigs': 1,\n",
              "    'script_asm': 'OP_DUP OP_HASH160 144739367df0ff8d1c61d03704298d49cf93ef3f OP_EQUALVERIFY OP_CHECKSIG',\n",
              "    'script_hex': '76a914144739367df0ff8d1c61d03704298d49cf93ef3f88ac',\n",
              "    'spent': {'input_no': 0,\n",
              "     'txid': '7f9b29b2044836633e01d4d47f503f53633433eaa4916e816ac7e59bc3adc60f'},\n",
              "    'type': 'pubkeyhash',\n",
              "    'value': '5.81201619'},\n",
              "   {'address': 'D6zKNnkupqRbkB9p5rwix8QiobQWJazjyX',\n",
              "    'output_no': 4,\n",
              "    'req_sigs': 1,\n",
              "    'script_asm': 'OP_DUP OP_HASH160 144739367df0ff8d1c61d03704298d49cf93ef3f OP_EQUALVERIFY OP_CHECKSIG',\n",
              "    'script_hex': '76a914144739367df0ff8d1c61d03704298d49cf93ef3f88ac',\n",
              "    'spent': {'input_no': 0,\n",
              "     'txid': '2ae27a0deaa2d5d9552cddca69d230f3805d96a33d9f7b23441545fea3449b15'},\n",
              "    'type': 'pubkeyhash',\n",
              "    'value': '5.81201619'},\n",
              "   {'address': 'D6zKNnkupqRbkB9p5rwix8QiobQWJazjyX',\n",
              "    'output_no': 5,\n",
              "    'req_sigs': 1,\n",
              "    'script_asm': 'OP_DUP OP_HASH160 144739367df0ff8d1c61d03704298d49cf93ef3f OP_EQUALVERIFY OP_CHECKSIG',\n",
              "    'script_hex': '76a914144739367df0ff8d1c61d03704298d49cf93ef3f88ac',\n",
              "    'spent': {'input_no': 0,\n",
              "     'txid': '7d2b514eec23fd6e5fe54b9ff6ef960e497006bb67e9d9346dc17afa773441e0'},\n",
              "    'type': 'pubkeyhash',\n",
              "    'value': '5.81201619'},\n",
              "   {'address': 'D6zKNnkupqRbkB9p5rwix8QiobQWJazjyX',\n",
              "    'output_no': 6,\n",
              "    'req_sigs': 1,\n",
              "    'script_asm': 'OP_DUP OP_HASH160 144739367df0ff8d1c61d03704298d49cf93ef3f OP_EQUALVERIFY OP_CHECKSIG',\n",
              "    'script_hex': '76a914144739367df0ff8d1c61d03704298d49cf93ef3f88ac',\n",
              "    'spent': {'input_no': 0,\n",
              "     'txid': 'e37652ffd099b7228e54c6c5c1409ae005c18f4d8b4ba84e006311c056a311f2'},\n",
              "    'type': 'pubkeyhash',\n",
              "    'value': '5.81201619'},\n",
              "   {'address': 'D6zKNnkupqRbkB9p5rwix8QiobQWJazjyX',\n",
              "    'output_no': 7,\n",
              "    'req_sigs': 1,\n",
              "    'script_asm': 'OP_DUP OP_HASH160 144739367df0ff8d1c61d03704298d49cf93ef3f OP_EQUALVERIFY OP_CHECKSIG',\n",
              "    'script_hex': '76a914144739367df0ff8d1c61d03704298d49cf93ef3f88ac',\n",
              "    'spent': {'input_no': 0,\n",
              "     'txid': '0238f55d0b9f7072fbb8d7c55c75624cc61c3b9bf3a49710ddc5c1b8ee370d59'},\n",
              "    'type': 'pubkeyhash',\n",
              "    'value': '5.81201619'},\n",
              "   {'address': 'D6zKNnkupqRbkB9p5rwix8QiobQWJazjyX',\n",
              "    'output_no': 8,\n",
              "    'req_sigs': 1,\n",
              "    'script_asm': 'OP_DUP OP_HASH160 144739367df0ff8d1c61d03704298d49cf93ef3f OP_EQUALVERIFY OP_CHECKSIG',\n",
              "    'script_hex': '76a914144739367df0ff8d1c61d03704298d49cf93ef3f88ac',\n",
              "    'spent': {'input_no': 0,\n",
              "     'txid': '40a1252151a21a47834a1e34f467ccdcf9eae17aba7a12334e02d1aae4193e4a'},\n",
              "    'type': 'pubkeyhash',\n",
              "    'value': '5.81201619'},\n",
              "   {'address': 'D6zKNnkupqRbkB9p5rwix8QiobQWJazjyX',\n",
              "    'output_no': 9,\n",
              "    'req_sigs': 1,\n",
              "    'script_asm': 'OP_DUP OP_HASH160 144739367df0ff8d1c61d03704298d49cf93ef3f OP_EQUALVERIFY OP_CHECKSIG',\n",
              "    'script_hex': '76a914144739367df0ff8d1c61d03704298d49cf93ef3f88ac',\n",
              "    'spent': {'input_no': 0,\n",
              "     'txid': 'fc77eabae6b98782fe9e53a4d1682d8a5da798aec4c77992b947913e03c3f314'},\n",
              "    'type': 'pubkeyhash',\n",
              "    'value': '5.81201619'},\n",
              "   {'address': 'D6zKNnkupqRbkB9p5rwix8QiobQWJazjyX',\n",
              "    'output_no': 10,\n",
              "    'req_sigs': 1,\n",
              "    'script_asm': 'OP_DUP OP_HASH160 144739367df0ff8d1c61d03704298d49cf93ef3f OP_EQUALVERIFY OP_CHECKSIG',\n",
              "    'script_hex': '76a914144739367df0ff8d1c61d03704298d49cf93ef3f88ac',\n",
              "    'spent': {'input_no': 0,\n",
              "     'txid': '0f888cafb1a66e00cb7a9186a2b0ec88424d1ca17c84f9087d45d8dae80ebcea'},\n",
              "    'type': 'pubkeyhash',\n",
              "    'value': '5.81201619'},\n",
              "   {'address': 'D6zKNnkupqRbkB9p5rwix8QiobQWJazjyX',\n",
              "    'output_no': 11,\n",
              "    'req_sigs': 1,\n",
              "    'script_asm': 'OP_DUP OP_HASH160 144739367df0ff8d1c61d03704298d49cf93ef3f OP_EQUALVERIFY OP_CHECKSIG',\n",
              "    'script_hex': '76a914144739367df0ff8d1c61d03704298d49cf93ef3f88ac',\n",
              "    'spent': {'input_no': 0,\n",
              "     'txid': 'c8b41a54da2a57288d14e31fb380dc74e5866b4341e5c279a4e1c596c3aa2ea0'},\n",
              "    'type': 'pubkeyhash',\n",
              "    'value': '5.81201619'},\n",
              "   {'address': 'D6zKNnkupqRbkB9p5rwix8QiobQWJazjyX',\n",
              "    'output_no': 12,\n",
              "    'req_sigs': 1,\n",
              "    'script_asm': 'OP_DUP OP_HASH160 144739367df0ff8d1c61d03704298d49cf93ef3f OP_EQUALVERIFY OP_CHECKSIG',\n",
              "    'script_hex': '76a914144739367df0ff8d1c61d03704298d49cf93ef3f88ac',\n",
              "    'spent': {'input_no': 0,\n",
              "     'txid': 'd1265f7ae5cf0cde3bb1450ea5623f17cf5c86ad5064f64925421645e54c95e8'},\n",
              "    'type': 'pubkeyhash',\n",
              "    'value': '5.81201619'},\n",
              "   {'address': 'D6zKNnkupqRbkB9p5rwix8QiobQWJazjyX',\n",
              "    'output_no': 13,\n",
              "    'req_sigs': 1,\n",
              "    'script_asm': 'OP_DUP OP_HASH160 144739367df0ff8d1c61d03704298d49cf93ef3f OP_EQUALVERIFY OP_CHECKSIG',\n",
              "    'script_hex': '76a914144739367df0ff8d1c61d03704298d49cf93ef3f88ac',\n",
              "    'spent': {'input_no': 0,\n",
              "     'txid': 'c60866a55c283d3cbb4ffe09dd678a7fe2e48c8304e8472a41889ffbbc7eb277'},\n",
              "    'type': 'pubkeyhash',\n",
              "    'value': '5.81201619'},\n",
              "   {'address': 'D6zKNnkupqRbkB9p5rwix8QiobQWJazjyX',\n",
              "    'output_no': 14,\n",
              "    'req_sigs': 1,\n",
              "    'script_asm': 'OP_DUP OP_HASH160 144739367df0ff8d1c61d03704298d49cf93ef3f OP_EQUALVERIFY OP_CHECKSIG',\n",
              "    'script_hex': '76a914144739367df0ff8d1c61d03704298d49cf93ef3f88ac',\n",
              "    'spent': {'input_no': 0,\n",
              "     'txid': '5f746e2bf3f21b192430938e340ae3ae90c53bd1171a302207c487d8f8477adb'},\n",
              "    'type': 'pubkeyhash',\n",
              "    'value': '5.81201619'},\n",
              "   {'address': 'D6zKNnkupqRbkB9p5rwix8QiobQWJazjyX',\n",
              "    'output_no': 15,\n",
              "    'req_sigs': 1,\n",
              "    'script_asm': 'OP_DUP OP_HASH160 144739367df0ff8d1c61d03704298d49cf93ef3f OP_EQUALVERIFY OP_CHECKSIG',\n",
              "    'script_hex': '76a914144739367df0ff8d1c61d03704298d49cf93ef3f88ac',\n",
              "    'spent': {'input_no': 0,\n",
              "     'txid': '9f1ff70299b078ee5f379c0d06a07315c4410d421977507726fc8213ac9c2bf9'},\n",
              "    'type': 'pubkeyhash',\n",
              "    'value': '5.81201619'},\n",
              "   {'address': 'D6zKNnkupqRbkB9p5rwix8QiobQWJazjyX',\n",
              "    'output_no': 16,\n",
              "    'req_sigs': 1,\n",
              "    'script_asm': 'OP_DUP OP_HASH160 144739367df0ff8d1c61d03704298d49cf93ef3f OP_EQUALVERIFY OP_CHECKSIG',\n",
              "    'script_hex': '76a914144739367df0ff8d1c61d03704298d49cf93ef3f88ac',\n",
              "    'spent': {'input_no': 0,\n",
              "     'txid': 'c89ff8f7072d68ba8e247fe82c50c4b82b1bf3213dfb42562d19f9f1da271424'},\n",
              "    'type': 'pubkeyhash',\n",
              "    'value': '5.81201619'},\n",
              "   {'address': 'D6zKNnkupqRbkB9p5rwix8QiobQWJazjyX',\n",
              "    'output_no': 17,\n",
              "    'req_sigs': 1,\n",
              "    'script_asm': 'OP_DUP OP_HASH160 144739367df0ff8d1c61d03704298d49cf93ef3f OP_EQUALVERIFY OP_CHECKSIG',\n",
              "    'script_hex': '76a914144739367df0ff8d1c61d03704298d49cf93ef3f88ac',\n",
              "    'spent': {'input_no': 0,\n",
              "     'txid': '4bf826fefdfef41cdfedaf4751bf061dd176e8bbd0fe95fb631dfa9016c014b1'},\n",
              "    'type': 'pubkeyhash',\n",
              "    'value': '5.81201619'},\n",
              "   {'address': 'D6zKNnkupqRbkB9p5rwix8QiobQWJazjyX',\n",
              "    'output_no': 18,\n",
              "    'req_sigs': 1,\n",
              "    'script_asm': 'OP_DUP OP_HASH160 144739367df0ff8d1c61d03704298d49cf93ef3f OP_EQUALVERIFY OP_CHECKSIG',\n",
              "    'script_hex': '76a914144739367df0ff8d1c61d03704298d49cf93ef3f88ac',\n",
              "    'spent': {'input_no': 0,\n",
              "     'txid': '66c955eb95380d15aea91a62af4db992fc771f3141795ae538881c6b82843db8'},\n",
              "    'type': 'pubkeyhash',\n",
              "    'value': '5.81201619'},\n",
              "   {'address': 'D6zKNnkupqRbkB9p5rwix8QiobQWJazjyX',\n",
              "    'output_no': 19,\n",
              "    'req_sigs': 1,\n",
              "    'script_asm': 'OP_DUP OP_HASH160 144739367df0ff8d1c61d03704298d49cf93ef3f OP_EQUALVERIFY OP_CHECKSIG',\n",
              "    'script_hex': '76a914144739367df0ff8d1c61d03704298d49cf93ef3f88ac',\n",
              "    'spent': {'input_no': 0,\n",
              "     'txid': 'ddf7931c3496951277e0649e8b41cffb128bb3173cc97cd304ec52a8afcb6ca9'},\n",
              "    'type': 'pubkeyhash',\n",
              "    'value': '5.81201619'},\n",
              "   {'address': 'D6zKNnkupqRbkB9p5rwix8QiobQWJazjyX',\n",
              "    'output_no': 20,\n",
              "    'req_sigs': 1,\n",
              "    'script_asm': 'OP_DUP OP_HASH160 144739367df0ff8d1c61d03704298d49cf93ef3f OP_EQUALVERIFY OP_CHECKSIG',\n",
              "    'script_hex': '76a914144739367df0ff8d1c61d03704298d49cf93ef3f88ac',\n",
              "    'spent': {'input_no': 0,\n",
              "     'txid': '180266599f7e86a7a5145d41e38d91f17062a627c4d7ec57b9de9c4ac57f7b30'},\n",
              "    'type': 'pubkeyhash',\n",
              "    'value': '5.81201619'},\n",
              "   {'address': 'D6zKNnkupqRbkB9p5rwix8QiobQWJazjyX',\n",
              "    'output_no': 21,\n",
              "    'req_sigs': 1,\n",
              "    'script_asm': 'OP_DUP OP_HASH160 144739367df0ff8d1c61d03704298d49cf93ef3f OP_EQUALVERIFY OP_CHECKSIG',\n",
              "    'script_hex': '76a914144739367df0ff8d1c61d03704298d49cf93ef3f88ac',\n",
              "    'spent': {'input_no': 0,\n",
              "     'txid': '0b2553583268d2fe005ccbb7749f5bee9b7d06e0ccc90a3ae3c242c7f4de2b4a'},\n",
              "    'type': 'pubkeyhash',\n",
              "    'value': '5.81201619'},\n",
              "   {'address': 'D6zKNnkupqRbkB9p5rwix8QiobQWJazjyX',\n",
              "    'output_no': 22,\n",
              "    'req_sigs': 1,\n",
              "    'script_asm': 'OP_DUP OP_HASH160 144739367df0ff8d1c61d03704298d49cf93ef3f OP_EQUALVERIFY OP_CHECKSIG',\n",
              "    'script_hex': '76a914144739367df0ff8d1c61d03704298d49cf93ef3f88ac',\n",
              "    'spent': {'input_no': 0,\n",
              "     'txid': 'c6b60a5cc92f39856378232a8fd684b43ad2cecdfa843976d70d44dd8c1a6daf'},\n",
              "    'type': 'pubkeyhash',\n",
              "    'value': '5.81201619'},\n",
              "   {'address': 'D6zKNnkupqRbkB9p5rwix8QiobQWJazjyX',\n",
              "    'output_no': 23,\n",
              "    'req_sigs': 1,\n",
              "    'script_asm': 'OP_DUP OP_HASH160 144739367df0ff8d1c61d03704298d49cf93ef3f OP_EQUALVERIFY OP_CHECKSIG',\n",
              "    'script_hex': '76a914144739367df0ff8d1c61d03704298d49cf93ef3f88ac',\n",
              "    'spent': {'input_no': 0,\n",
              "     'txid': '262fd6e7c5baa3709490491e1788b076683333cc81b72f0a756ea9dbc248914c'},\n",
              "    'type': 'pubkeyhash',\n",
              "    'value': '5.81201619'},\n",
              "   {'address': 'D6zKNnkupqRbkB9p5rwix8QiobQWJazjyX',\n",
              "    'output_no': 24,\n",
              "    'req_sigs': 1,\n",
              "    'script_asm': 'OP_DUP OP_HASH160 144739367df0ff8d1c61d03704298d49cf93ef3f OP_EQUALVERIFY OP_CHECKSIG',\n",
              "    'script_hex': '76a914144739367df0ff8d1c61d03704298d49cf93ef3f88ac',\n",
              "    'spent': {'input_no': 0,\n",
              "     'txid': 'bcb3cc090a3aecbd62f840e236d4ff057011c4425baef15ae8980e6142fc2a44'},\n",
              "    'type': 'pubkeyhash',\n",
              "    'value': '5.81201619'},\n",
              "   {'address': 'D6zKNnkupqRbkB9p5rwix8QiobQWJazjyX',\n",
              "    'output_no': 25,\n",
              "    'req_sigs': 1,\n",
              "    'script_asm': 'OP_DUP OP_HASH160 144739367df0ff8d1c61d03704298d49cf93ef3f OP_EQUALVERIFY OP_CHECKSIG',\n",
              "    'script_hex': '76a914144739367df0ff8d1c61d03704298d49cf93ef3f88ac',\n",
              "    'spent': {'input_no': 0,\n",
              "     'txid': '10bd23d4102714d59f2b49370b895ee29927f596438612a3ee233078a2cd1ea6'},\n",
              "    'type': 'pubkeyhash',\n",
              "    'value': '5.81201619'},\n",
              "   {'address': 'D6zKNnkupqRbkB9p5rwix8QiobQWJazjyX',\n",
              "    'output_no': 26,\n",
              "    'req_sigs': 1,\n",
              "    'script_asm': 'OP_DUP OP_HASH160 144739367df0ff8d1c61d03704298d49cf93ef3f OP_EQUALVERIFY OP_CHECKSIG',\n",
              "    'script_hex': '76a914144739367df0ff8d1c61d03704298d49cf93ef3f88ac',\n",
              "    'spent': {'input_no': 0,\n",
              "     'txid': '9f78e3b51675f12af2c543b0b64e8127efe3c1fa84c914f438bb1bb912775bba'},\n",
              "    'type': 'pubkeyhash',\n",
              "    'value': '5.81201619'},\n",
              "   {'address': 'D6zKNnkupqRbkB9p5rwix8QiobQWJazjyX',\n",
              "    'output_no': 27,\n",
              "    'req_sigs': 1,\n",
              "    'script_asm': 'OP_DUP OP_HASH160 144739367df0ff8d1c61d03704298d49cf93ef3f OP_EQUALVERIFY OP_CHECKSIG',\n",
              "    'script_hex': '76a914144739367df0ff8d1c61d03704298d49cf93ef3f88ac',\n",
              "    'spent': {'input_no': 0,\n",
              "     'txid': 'd9a70d4bc60da66f2274a1055135318fc1aa30424e0a859da08ca0e0a0718b8a'},\n",
              "    'type': 'pubkeyhash',\n",
              "    'value': '5.81201619'},\n",
              "   {'address': 'D6zKNnkupqRbkB9p5rwix8QiobQWJazjyX',\n",
              "    'output_no': 28,\n",
              "    'req_sigs': 1,\n",
              "    'script_asm': 'OP_DUP OP_HASH160 144739367df0ff8d1c61d03704298d49cf93ef3f OP_EQUALVERIFY OP_CHECKSIG',\n",
              "    'script_hex': '76a914144739367df0ff8d1c61d03704298d49cf93ef3f88ac',\n",
              "    'spent': {'input_no': 0,\n",
              "     'txid': 'a08031856af787fad11190821048790d8b58ac399564d90a54e250990d3a49bb'},\n",
              "    'type': 'pubkeyhash',\n",
              "    'value': '5.81201619'},\n",
              "   {'address': 'D6zKNnkupqRbkB9p5rwix8QiobQWJazjyX',\n",
              "    'output_no': 29,\n",
              "    'req_sigs': 1,\n",
              "    'script_asm': 'OP_DUP OP_HASH160 144739367df0ff8d1c61d03704298d49cf93ef3f OP_EQUALVERIFY OP_CHECKSIG',\n",
              "    'script_hex': '76a914144739367df0ff8d1c61d03704298d49cf93ef3f88ac',\n",
              "    'spent': {'input_no': 0,\n",
              "     'txid': '03400a6574c16e9921c0f663356f9cf9cbd3143ec14c33a0c08e55dcada35e72'},\n",
              "    'type': 'pubkeyhash',\n",
              "    'value': '5.81201619'},\n",
              "   {'address': 'D6zKNnkupqRbkB9p5rwix8QiobQWJazjyX',\n",
              "    'output_no': 30,\n",
              "    'req_sigs': 1,\n",
              "    'script_asm': 'OP_DUP OP_HASH160 144739367df0ff8d1c61d03704298d49cf93ef3f OP_EQUALVERIFY OP_CHECKSIG',\n",
              "    'script_hex': '76a914144739367df0ff8d1c61d03704298d49cf93ef3f88ac',\n",
              "    'spent': {'input_no': 0,\n",
              "     'txid': '9487370ec1a5b1c70f90934751853ba617154d8b05df7b99a14a05ae3b268041'},\n",
              "    'type': 'pubkeyhash',\n",
              "    'value': '5.81201619'},\n",
              "   {'address': 'D6zKNnkupqRbkB9p5rwix8QiobQWJazjyX',\n",
              "    'output_no': 31,\n",
              "    'req_sigs': 1,\n",
              "    'script_asm': 'OP_DUP OP_HASH160 144739367df0ff8d1c61d03704298d49cf93ef3f OP_EQUALVERIFY OP_CHECKSIG',\n",
              "    'script_hex': '76a914144739367df0ff8d1c61d03704298d49cf93ef3f88ac',\n",
              "    'spent': {'input_no': 0,\n",
              "     'txid': '222a41643de2a8a4e16953ccd80b4d641968a7fa31d528f0a60cd0dc807e5106'},\n",
              "    'type': 'pubkeyhash',\n",
              "    'value': '5.81201619'},\n",
              "   {'address': 'D6zKNnkupqRbkB9p5rwix8QiobQWJazjyX',\n",
              "    'output_no': 32,\n",
              "    'req_sigs': 1,\n",
              "    'script_asm': 'OP_DUP OP_HASH160 144739367df0ff8d1c61d03704298d49cf93ef3f OP_EQUALVERIFY OP_CHECKSIG',\n",
              "    'script_hex': '76a914144739367df0ff8d1c61d03704298d49cf93ef3f88ac',\n",
              "    'spent': {'input_no': 0,\n",
              "     'txid': 'c071ee86a369002e05f8c3045797d7b122f7544c4a6b797e0fa743912e216c7a'},\n",
              "    'type': 'pubkeyhash',\n",
              "    'value': '5.81201619'},\n",
              "   {'address': 'D6zKNnkupqRbkB9p5rwix8QiobQWJazjyX',\n",
              "    'output_no': 33,\n",
              "    'req_sigs': 1,\n",
              "    'script_asm': 'OP_DUP OP_HASH160 144739367df0ff8d1c61d03704298d49cf93ef3f OP_EQUALVERIFY OP_CHECKSIG',\n",
              "    'script_hex': '76a914144739367df0ff8d1c61d03704298d49cf93ef3f88ac',\n",
              "    'spent': {'input_no': 0,\n",
              "     'txid': '309ea930f13173083f4d18371302911328a3e6f3008e9520d9227e6bab7b4fe4'},\n",
              "    'type': 'pubkeyhash',\n",
              "    'value': '5.81201619'},\n",
              "   {'address': 'D6zKNnkupqRbkB9p5rwix8QiobQWJazjyX',\n",
              "    'output_no': 34,\n",
              "    'req_sigs': 1,\n",
              "    'script_asm': 'OP_DUP OP_HASH160 144739367df0ff8d1c61d03704298d49cf93ef3f OP_EQUALVERIFY OP_CHECKSIG',\n",
              "    'script_hex': '76a914144739367df0ff8d1c61d03704298d49cf93ef3f88ac',\n",
              "    'spent': {'input_no': 0,\n",
              "     'txid': 'b7dc71ea27c14f658447fecd0323713733ede6690d27bb6589d9222dd039e975'},\n",
              "    'type': 'pubkeyhash',\n",
              "    'value': '5.81201619'},\n",
              "   {'address': 'D6zKNnkupqRbkB9p5rwix8QiobQWJazjyX',\n",
              "    'output_no': 35,\n",
              "    'req_sigs': 1,\n",
              "    'script_asm': 'OP_DUP OP_HASH160 144739367df0ff8d1c61d03704298d49cf93ef3f OP_EQUALVERIFY OP_CHECKSIG',\n",
              "    'script_hex': '76a914144739367df0ff8d1c61d03704298d49cf93ef3f88ac',\n",
              "    'spent': {'input_no': 0,\n",
              "     'txid': '90cc928faf256e36942b83a27338c8ef6e26ea33e6d3836d07d67d3c2a702b75'},\n",
              "    'type': 'pubkeyhash',\n",
              "    'value': '5.81201619'},\n",
              "   {'address': 'D6zKNnkupqRbkB9p5rwix8QiobQWJazjyX',\n",
              "    'output_no': 36,\n",
              "    'req_sigs': 1,\n",
              "    'script_asm': 'OP_DUP OP_HASH160 144739367df0ff8d1c61d03704298d49cf93ef3f OP_EQUALVERIFY OP_CHECKSIG',\n",
              "    'script_hex': '76a914144739367df0ff8d1c61d03704298d49cf93ef3f88ac',\n",
              "    'spent': {'input_no': 0,\n",
              "     'txid': '437567570aa719f03cb60376b6fe0244ecf5df8702e33f0f6557f411dea6354d'},\n",
              "    'type': 'pubkeyhash',\n",
              "    'value': '5.81201619'},\n",
              "   {'address': 'D6zKNnkupqRbkB9p5rwix8QiobQWJazjyX',\n",
              "    'output_no': 37,\n",
              "    'req_sigs': 1,\n",
              "    'script_asm': 'OP_DUP OP_HASH160 144739367df0ff8d1c61d03704298d49cf93ef3f OP_EQUALVERIFY OP_CHECKSIG',\n",
              "    'script_hex': '76a914144739367df0ff8d1c61d03704298d49cf93ef3f88ac',\n",
              "    'spent': {'input_no': 0,\n",
              "     'txid': '0aabb58fd889a5a1c8d40d2a7e1a580eec7bf10af447a455168aca04cd9e1573'},\n",
              "    'type': 'pubkeyhash',\n",
              "    'value': '5.81201619'},\n",
              "   {'address': 'D6zKNnkupqRbkB9p5rwix8QiobQWJazjyX',\n",
              "    'output_no': 38,\n",
              "    'req_sigs': 1,\n",
              "    'script_asm': 'OP_DUP OP_HASH160 144739367df0ff8d1c61d03704298d49cf93ef3f OP_EQUALVERIFY OP_CHECKSIG',\n",
              "    'script_hex': '76a914144739367df0ff8d1c61d03704298d49cf93ef3f88ac',\n",
              "    'spent': {'input_no': 0,\n",
              "     'txid': 'af8e8c63f9a7c87e99810e5158f6838bf70d44bad1f2854b8c90187b88bac35b'},\n",
              "    'type': 'pubkeyhash',\n",
              "    'value': '5.81201619'},\n",
              "   {'address': 'D6zKNnkupqRbkB9p5rwix8QiobQWJazjyX',\n",
              "    'output_no': 39,\n",
              "    'req_sigs': 1,\n",
              "    'script_asm': 'OP_DUP OP_HASH160 144739367df0ff8d1c61d03704298d49cf93ef3f OP_EQUALVERIFY OP_CHECKSIG',\n",
              "    'script_hex': '76a914144739367df0ff8d1c61d03704298d49cf93ef3f88ac',\n",
              "    'spent': {'input_no': 0,\n",
              "     'txid': '9ffc0dbeb9d28864727472778bfc064358b6535661c37612ef155fe75c1cd190'},\n",
              "    'type': 'pubkeyhash',\n",
              "    'value': '5.81201619'},\n",
              "   {'address': 'D6zKNnkupqRbkB9p5rwix8QiobQWJazjyX',\n",
              "    'output_no': 40,\n",
              "    'req_sigs': 1,\n",
              "    'script_asm': 'OP_DUP OP_HASH160 144739367df0ff8d1c61d03704298d49cf93ef3f OP_EQUALVERIFY OP_CHECKSIG',\n",
              "    'script_hex': '76a914144739367df0ff8d1c61d03704298d49cf93ef3f88ac',\n",
              "    'spent': {'input_no': 0,\n",
              "     'txid': 'ad47d7ce7f0fd6c9b31f477525ea7cd3c263e83e7823137964113b86999dcf3f'},\n",
              "    'type': 'pubkeyhash',\n",
              "    'value': '5.81201619'},\n",
              "   {'address': 'D6zKNnkupqRbkB9p5rwix8QiobQWJazjyX',\n",
              "    'output_no': 41,\n",
              "    'req_sigs': 1,\n",
              "    'script_asm': 'OP_DUP OP_HASH160 144739367df0ff8d1c61d03704298d49cf93ef3f OP_EQUALVERIFY OP_CHECKSIG',\n",
              "    'script_hex': '76a914144739367df0ff8d1c61d03704298d49cf93ef3f88ac',\n",
              "    'spent': {'input_no': 0,\n",
              "     'txid': '7767c489efb2b168c60f55b2675ae389659390b5e4fb8ab81182fd42f596bb53'},\n",
              "    'type': 'pubkeyhash',\n",
              "    'value': '5.81201619'},\n",
              "   {'address': 'D6zKNnkupqRbkB9p5rwix8QiobQWJazjyX',\n",
              "    'output_no': 42,\n",
              "    'req_sigs': 1,\n",
              "    'script_asm': 'OP_DUP OP_HASH160 144739367df0ff8d1c61d03704298d49cf93ef3f OP_EQUALVERIFY OP_CHECKSIG',\n",
              "    'script_hex': '76a914144739367df0ff8d1c61d03704298d49cf93ef3f88ac',\n",
              "    'spent': {'input_no': 0,\n",
              "     'txid': 'b4f4f10e1d5273db2dad770ae0365409b600fe7e383c11add2bd41f4b3813d9a'},\n",
              "    'type': 'pubkeyhash',\n",
              "    'value': '5.81201619'},\n",
              "   {'address': 'D6zKNnkupqRbkB9p5rwix8QiobQWJazjyX',\n",
              "    'output_no': 43,\n",
              "    'req_sigs': 1,\n",
              "    'script_asm': 'OP_DUP OP_HASH160 144739367df0ff8d1c61d03704298d49cf93ef3f OP_EQUALVERIFY OP_CHECKSIG',\n",
              "    'script_hex': '76a914144739367df0ff8d1c61d03704298d49cf93ef3f88ac',\n",
              "    'spent': {'input_no': 0,\n",
              "     'txid': '3687ac2c4627b7ab8346b18d4dc451666e92e84b7586bbe49935a5ae28c4575a'},\n",
              "    'type': 'pubkeyhash',\n",
              "    'value': '5.81201619'},\n",
              "   {'address': 'D6zKNnkupqRbkB9p5rwix8QiobQWJazjyX',\n",
              "    'output_no': 44,\n",
              "    'req_sigs': 1,\n",
              "    'script_asm': 'OP_DUP OP_HASH160 144739367df0ff8d1c61d03704298d49cf93ef3f OP_EQUALVERIFY OP_CHECKSIG',\n",
              "    'script_hex': '76a914144739367df0ff8d1c61d03704298d49cf93ef3f88ac',\n",
              "    'spent': {'input_no': 0,\n",
              "     'txid': 'd3a2e785c19670e6fb8bee680113c25d5ddc60c22961d81b8b9518def944fdae'},\n",
              "    'type': 'pubkeyhash',\n",
              "    'value': '5.81201619'},\n",
              "   {'address': 'D6zKNnkupqRbkB9p5rwix8QiobQWJazjyX',\n",
              "    'output_no': 45,\n",
              "    'req_sigs': 1,\n",
              "    'script_asm': 'OP_DUP OP_HASH160 144739367df0ff8d1c61d03704298d49cf93ef3f OP_EQUALVERIFY OP_CHECKSIG',\n",
              "    'script_hex': '76a914144739367df0ff8d1c61d03704298d49cf93ef3f88ac',\n",
              "    'spent': {'input_no': 0,\n",
              "     'txid': '383528ee4350b341f8da29f4b77aee95ac736fea254b9eada70a281da2ed9fb7'},\n",
              "    'type': 'pubkeyhash',\n",
              "    'value': '5.81201619'},\n",
              "   {'address': 'D6zKNnkupqRbkB9p5rwix8QiobQWJazjyX',\n",
              "    'output_no': 46,\n",
              "    'req_sigs': 1,\n",
              "    'script_asm': 'OP_DUP OP_HASH160 144739367df0ff8d1c61d03704298d49cf93ef3f OP_EQUALVERIFY OP_CHECKSIG',\n",
              "    'script_hex': '76a914144739367df0ff8d1c61d03704298d49cf93ef3f88ac',\n",
              "    'spent': {'input_no': 0,\n",
              "     'txid': 'a370003aaeca0c34e2dd8fec9b75691f2936c6edcf4454cc6afbcf8dac05c320'},\n",
              "    'type': 'pubkeyhash',\n",
              "    'value': '5.81201619'},\n",
              "   {'address': 'D6zKNnkupqRbkB9p5rwix8QiobQWJazjyX',\n",
              "    'output_no': 47,\n",
              "    'req_sigs': 1,\n",
              "    'script_asm': 'OP_DUP OP_HASH160 144739367df0ff8d1c61d03704298d49cf93ef3f OP_EQUALVERIFY OP_CHECKSIG',\n",
              "    'script_hex': '76a914144739367df0ff8d1c61d03704298d49cf93ef3f88ac',\n",
              "    'spent': {'input_no': 0,\n",
              "     'txid': 'abe82abdc08f9f15bc960ab4bbc06633aa264d9cf820ca98c5008e53c7fda6bc'},\n",
              "    'type': 'pubkeyhash',\n",
              "    'value': '5.81201619'},\n",
              "   {'address': 'D6zKNnkupqRbkB9p5rwix8QiobQWJazjyX',\n",
              "    'output_no': 48,\n",
              "    'req_sigs': 1,\n",
              "    'script_asm': 'OP_DUP OP_HASH160 144739367df0ff8d1c61d03704298d49cf93ef3f OP_EQUALVERIFY OP_CHECKSIG',\n",
              "    'script_hex': '76a914144739367df0ff8d1c61d03704298d49cf93ef3f88ac',\n",
              "    'spent': {'input_no': 0,\n",
              "     'txid': '12535e35946edada7230251e7f02907dd9249215eecedfdd3b5f80ca5db4681e'},\n",
              "    'type': 'pubkeyhash',\n",
              "    'value': '5.81201619'},\n",
              "   {'address': 'D6zKNnkupqRbkB9p5rwix8QiobQWJazjyX',\n",
              "    'output_no': 49,\n",
              "    'req_sigs': 1,\n",
              "    'script_asm': 'OP_DUP OP_HASH160 144739367df0ff8d1c61d03704298d49cf93ef3f OP_EQUALVERIFY OP_CHECKSIG',\n",
              "    'script_hex': '76a914144739367df0ff8d1c61d03704298d49cf93ef3f88ac',\n",
              "    'spent': {'input_no': 0,\n",
              "     'txid': '081540527d59df80ab658ea41c6da6a4227fc4b69543e1f7883a0cb1e31e31da'},\n",
              "    'type': 'pubkeyhash',\n",
              "    'value': '5.81201619'},\n",
              "   {'address': 'D6zKNnkupqRbkB9p5rwix8QiobQWJazjyX',\n",
              "    'output_no': 50,\n",
              "    'req_sigs': 1,\n",
              "    'script_asm': 'OP_DUP OP_HASH160 144739367df0ff8d1c61d03704298d49cf93ef3f OP_EQUALVERIFY OP_CHECKSIG',\n",
              "    'script_hex': '76a914144739367df0ff8d1c61d03704298d49cf93ef3f88ac',\n",
              "    'spent': {'input_no': 0,\n",
              "     'txid': '6664b2eb9d5815b3b9842df6c85cd0547ec623f636e7208eac9c084093484972'},\n",
              "    'type': 'pubkeyhash',\n",
              "    'value': '5.81201619'},\n",
              "   {'address': 'D6zKNnkupqRbkB9p5rwix8QiobQWJazjyX',\n",
              "    'output_no': 51,\n",
              "    'req_sigs': 1,\n",
              "    'script_asm': 'OP_DUP OP_HASH160 144739367df0ff8d1c61d03704298d49cf93ef3f OP_EQUALVERIFY OP_CHECKSIG',\n",
              "    'script_hex': '76a914144739367df0ff8d1c61d03704298d49cf93ef3f88ac',\n",
              "    'spent': {'input_no': 0,\n",
              "     'txid': 'ad0d49ad271254a000bec48f2189e8378ced4de80af8468d625be01a964cf178'},\n",
              "    'type': 'pubkeyhash',\n",
              "    'value': '5.81201619'},\n",
              "   {'address': 'D6zKNnkupqRbkB9p5rwix8QiobQWJazjyX',\n",
              "    'output_no': 52,\n",
              "    'req_sigs': 1,\n",
              "    'script_asm': 'OP_DUP OP_HASH160 144739367df0ff8d1c61d03704298d49cf93ef3f OP_EQUALVERIFY OP_CHECKSIG',\n",
              "    'script_hex': '76a914144739367df0ff8d1c61d03704298d49cf93ef3f88ac',\n",
              "    'spent': {'input_no': 0,\n",
              "     'txid': 'bf18a6d8568c9ac646751ac003cad0bc93b7df985a27867b9466a6a118749700'},\n",
              "    'type': 'pubkeyhash',\n",
              "    'value': '5.81201619'},\n",
              "   {'address': 'D6zKNnkupqRbkB9p5rwix8QiobQWJazjyX',\n",
              "    'output_no': 53,\n",
              "    'req_sigs': 1,\n",
              "    'script_asm': 'OP_DUP OP_HASH160 144739367df0ff8d1c61d03704298d49cf93ef3f OP_EQUALVERIFY OP_CHECKSIG',\n",
              "    'script_hex': '76a914144739367df0ff8d1c61d03704298d49cf93ef3f88ac',\n",
              "    'spent': {'input_no': 0,\n",
              "     'txid': '68d3bfb1dddd9fc3fbae65a804a44a0e5e702d19171636906284141f80d247a9'},\n",
              "    'type': 'pubkeyhash',\n",
              "    'value': '5.81201619'},\n",
              "   {'address': 'D6zKNnkupqRbkB9p5rwix8QiobQWJazjyX',\n",
              "    'output_no': 54,\n",
              "    'req_sigs': 1,\n",
              "    'script_asm': 'OP_DUP OP_HASH160 144739367df0ff8d1c61d03704298d49cf93ef3f OP_EQUALVERIFY OP_CHECKSIG',\n",
              "    'script_hex': '76a914144739367df0ff8d1c61d03704298d49cf93ef3f88ac',\n",
              "    'spent': {'input_no': 0,\n",
              "     'txid': '7af59d776c6608e88cbe97edd972a474caf8bbc245f5e050bc933815edd31dd7'},\n",
              "    'type': 'pubkeyhash',\n",
              "    'value': '5.81201619'},\n",
              "   {'address': 'D6zKNnkupqRbkB9p5rwix8QiobQWJazjyX',\n",
              "    'output_no': 55,\n",
              "    'req_sigs': 1,\n",
              "    'script_asm': 'OP_DUP OP_HASH160 144739367df0ff8d1c61d03704298d49cf93ef3f OP_EQUALVERIFY OP_CHECKSIG',\n",
              "    'script_hex': '76a914144739367df0ff8d1c61d03704298d49cf93ef3f88ac',\n",
              "    'spent': {'input_no': 0,\n",
              "     'txid': 'e0c2cec1c6bfb05ac2456c90349388b972d274346f927f2ef8e0d3ff58a30795'},\n",
              "    'type': 'pubkeyhash',\n",
              "    'value': '5.81201619'},\n",
              "   {'address': 'D6zKNnkupqRbkB9p5rwix8QiobQWJazjyX',\n",
              "    'output_no': 56,\n",
              "    'req_sigs': 1,\n",
              "    'script_asm': 'OP_DUP OP_HASH160 144739367df0ff8d1c61d03704298d49cf93ef3f OP_EQUALVERIFY OP_CHECKSIG',\n",
              "    'script_hex': '76a914144739367df0ff8d1c61d03704298d49cf93ef3f88ac',\n",
              "    'spent': {'input_no': 0,\n",
              "     'txid': 'b0af23b60e6a74ae58fe037e46203faaae0ac86dc0f391094376ef86409cc056'},\n",
              "    'type': 'pubkeyhash',\n",
              "    'value': '5.81201619'},\n",
              "   {'address': 'D6zKNnkupqRbkB9p5rwix8QiobQWJazjyX',\n",
              "    'output_no': 57,\n",
              "    'req_sigs': 1,\n",
              "    'script_asm': 'OP_DUP OP_HASH160 144739367df0ff8d1c61d03704298d49cf93ef3f OP_EQUALVERIFY OP_CHECKSIG',\n",
              "    'script_hex': '76a914144739367df0ff8d1c61d03704298d49cf93ef3f88ac',\n",
              "    'spent': {'input_no': 0,\n",
              "     'txid': '39d400543327c556a68c052bfcbc88057b9c69ca920e15c02d65cea92268d3e1'},\n",
              "    'type': 'pubkeyhash',\n",
              "    'value': '5.81201619'},\n",
              "   {'address': 'D6zKNnkupqRbkB9p5rwix8QiobQWJazjyX',\n",
              "    'output_no': 58,\n",
              "    'req_sigs': 1,\n",
              "    'script_asm': 'OP_DUP OP_HASH160 144739367df0ff8d1c61d03704298d49cf93ef3f OP_EQUALVERIFY OP_CHECKSIG',\n",
              "    'script_hex': '76a914144739367df0ff8d1c61d03704298d49cf93ef3f88ac',\n",
              "    'spent': {'input_no': 0,\n",
              "     'txid': '92e1f7cecd860214e29ed4812587adb229c9a01223f979ba251574de40ebefea'},\n",
              "    'type': 'pubkeyhash',\n",
              "    'value': '5.81201619'},\n",
              "   {'address': 'D6zKNnkupqRbkB9p5rwix8QiobQWJazjyX',\n",
              "    'output_no': 59,\n",
              "    'req_sigs': 1,\n",
              "    'script_asm': 'OP_DUP OP_HASH160 144739367df0ff8d1c61d03704298d49cf93ef3f OP_EQUALVERIFY OP_CHECKSIG',\n",
              "    'script_hex': '76a914144739367df0ff8d1c61d03704298d49cf93ef3f88ac',\n",
              "    'spent': {'input_no': 0,\n",
              "     'txid': '02692a84b320424672717ceb5fecc3810f40c1b2cc08a72942453c1e7e0f33a9'},\n",
              "    'type': 'pubkeyhash',\n",
              "    'value': '5.81201619'},\n",
              "   {'address': 'D6zKNnkupqRbkB9p5rwix8QiobQWJazjyX',\n",
              "    'output_no': 60,\n",
              "    'req_sigs': 1,\n",
              "    'script_asm': 'OP_DUP OP_HASH160 144739367df0ff8d1c61d03704298d49cf93ef3f OP_EQUALVERIFY OP_CHECKSIG',\n",
              "    'script_hex': '76a914144739367df0ff8d1c61d03704298d49cf93ef3f88ac',\n",
              "    'spent': {'input_no': 0,\n",
              "     'txid': 'a08027c1dc768c42a05656758acb754a96807aacb55e1543f59bee0716f5a7e7'},\n",
              "    'type': 'pubkeyhash',\n",
              "    'value': '5.81201619'},\n",
              "   {'address': 'D6zKNnkupqRbkB9p5rwix8QiobQWJazjyX',\n",
              "    'output_no': 61,\n",
              "    'req_sigs': 1,\n",
              "    'script_asm': 'OP_DUP OP_HASH160 144739367df0ff8d1c61d03704298d49cf93ef3f OP_EQUALVERIFY OP_CHECKSIG',\n",
              "    'script_hex': '76a914144739367df0ff8d1c61d03704298d49cf93ef3f88ac',\n",
              "    'spent': {'input_no': 0,\n",
              "     'txid': 'dcb7b63d5674b6348d7dbd09b7dead726869eac3abda28af662df8a2c1c7201d'},\n",
              "    'type': 'pubkeyhash',\n",
              "    'value': '5.81201619'},\n",
              "   {'address': 'D6zKNnkupqRbkB9p5rwix8QiobQWJazjyX',\n",
              "    'output_no': 62,\n",
              "    'req_sigs': 1,\n",
              "    'script_asm': 'OP_DUP OP_HASH160 144739367df0ff8d1c61d03704298d49cf93ef3f OP_EQUALVERIFY OP_CHECKSIG',\n",
              "    'script_hex': '76a914144739367df0ff8d1c61d03704298d49cf93ef3f88ac',\n",
              "    'spent': {'input_no': 0,\n",
              "     'txid': 'b9cc27fe275432a2bc5271a110717b80f7c38eb98488ba7c5badc81aca8c9ce2'},\n",
              "    'type': 'pubkeyhash',\n",
              "    'value': '5.81201619'},\n",
              "   {'address': 'D6zKNnkupqRbkB9p5rwix8QiobQWJazjyX',\n",
              "    'output_no': 63,\n",
              "    'req_sigs': 1,\n",
              "    'script_asm': 'OP_DUP OP_HASH160 144739367df0ff8d1c61d03704298d49cf93ef3f OP_EQUALVERIFY OP_CHECKSIG',\n",
              "    'script_hex': '76a914144739367df0ff8d1c61d03704298d49cf93ef3f88ac',\n",
              "    'spent': {'input_no': 0,\n",
              "     'txid': 'eb4f18ef7fb289fa6308f81c9ce7ffc2e67a465c9bd4b341a0031eba0f91c969'},\n",
              "    'type': 'pubkeyhash',\n",
              "    'value': '5.81201619'},\n",
              "   {'address': 'D6zKNnkupqRbkB9p5rwix8QiobQWJazjyX',\n",
              "    'output_no': 64,\n",
              "    'req_sigs': 1,\n",
              "    'script_asm': 'OP_DUP OP_HASH160 144739367df0ff8d1c61d03704298d49cf93ef3f OP_EQUALVERIFY OP_CHECKSIG',\n",
              "    'script_hex': '76a914144739367df0ff8d1c61d03704298d49cf93ef3f88ac',\n",
              "    'spent': {'input_no': 0,\n",
              "     'txid': 'aea03646805aab297381a91cc932944ee8c5acd94a478a8aec6e12145f187a25'},\n",
              "    'type': 'pubkeyhash',\n",
              "    'value': '5.81201619'},\n",
              "   {'address': 'D6zKNnkupqRbkB9p5rwix8QiobQWJazjyX',\n",
              "    'output_no': 65,\n",
              "    'req_sigs': 1,\n",
              "    'script_asm': 'OP_DUP OP_HASH160 144739367df0ff8d1c61d03704298d49cf93ef3f OP_EQUALVERIFY OP_CHECKSIG',\n",
              "    'script_hex': '76a914144739367df0ff8d1c61d03704298d49cf93ef3f88ac',\n",
              "    'spent': {'input_no': 0,\n",
              "     'txid': '626395187fd315223dee06b32b4665b7a60b29b44327666999833a61634a91a4'},\n",
              "    'type': 'pubkeyhash',\n",
              "    'value': '5.81201619'},\n",
              "   {'address': 'D6zKNnkupqRbkB9p5rwix8QiobQWJazjyX',\n",
              "    'output_no': 66,\n",
              "    'req_sigs': 1,\n",
              "    'script_asm': 'OP_DUP OP_HASH160 144739367df0ff8d1c61d03704298d49cf93ef3f OP_EQUALVERIFY OP_CHECKSIG',\n",
              "    'script_hex': '76a914144739367df0ff8d1c61d03704298d49cf93ef3f88ac',\n",
              "    'spent': {'input_no': 0,\n",
              "     'txid': 'c9adcfbeab9a6dad91e9a829e40136afee93e68cd8084b74647f4d05c455a0b6'},\n",
              "    'type': 'pubkeyhash',\n",
              "    'value': '5.81201619'},\n",
              "   {'address': 'D6zKNnkupqRbkB9p5rwix8QiobQWJazjyX',\n",
              "    'output_no': 67,\n",
              "    'req_sigs': 1,\n",
              "    'script_asm': 'OP_DUP OP_HASH160 144739367df0ff8d1c61d03704298d49cf93ef3f OP_EQUALVERIFY OP_CHECKSIG',\n",
              "    'script_hex': '76a914144739367df0ff8d1c61d03704298d49cf93ef3f88ac',\n",
              "    'spent': {'input_no': 0,\n",
              "     'txid': '889cb63f36b5570eb5e7923953b593766879901334e61b25e8d9c2fdebd719e3'},\n",
              "    'type': 'pubkeyhash',\n",
              "    'value': '5.81201619'},\n",
              "   {'address': 'D6zKNnkupqRbkB9p5rwix8QiobQWJazjyX',\n",
              "    'output_no': 68,\n",
              "    'req_sigs': 1,\n",
              "    'script_asm': 'OP_DUP OP_HASH160 144739367df0ff8d1c61d03704298d49cf93ef3f OP_EQUALVERIFY OP_CHECKSIG',\n",
              "    'script_hex': '76a914144739367df0ff8d1c61d03704298d49cf93ef3f88ac',\n",
              "    'spent': {'input_no': 0,\n",
              "     'txid': 'f20cffc21bbca27cb199f8af2d8818da18cb0ffcead6e24c2d49cffb5edcc87e'},\n",
              "    'type': 'pubkeyhash',\n",
              "    'value': '5.81201619'},\n",
              "   {'address': 'D6zKNnkupqRbkB9p5rwix8QiobQWJazjyX',\n",
              "    'output_no': 69,\n",
              "    'req_sigs': 1,\n",
              "    'script_asm': 'OP_DUP OP_HASH160 144739367df0ff8d1c61d03704298d49cf93ef3f OP_EQUALVERIFY OP_CHECKSIG',\n",
              "    'script_hex': '76a914144739367df0ff8d1c61d03704298d49cf93ef3f88ac',\n",
              "    'spent': {'input_no': 0,\n",
              "     'txid': 'c4979860c533118bcabe815ef6c59e36c7904619fdbb3fbabdeeea332778a38e'},\n",
              "    'type': 'pubkeyhash',\n",
              "    'value': '5.81201619'},\n",
              "   {'address': 'D6zKNnkupqRbkB9p5rwix8QiobQWJazjyX',\n",
              "    'output_no': 70,\n",
              "    'req_sigs': 1,\n",
              "    'script_asm': 'OP_DUP OP_HASH160 144739367df0ff8d1c61d03704298d49cf93ef3f OP_EQUALVERIFY OP_CHECKSIG',\n",
              "    'script_hex': '76a914144739367df0ff8d1c61d03704298d49cf93ef3f88ac',\n",
              "    'spent': {'input_no': 0,\n",
              "     'txid': 'abc0380548a183da56a3a9a1d68a62c43b495850207814c3960cdd94db1988c0'},\n",
              "    'type': 'pubkeyhash',\n",
              "    'value': '5.81201619'},\n",
              "   {'address': 'D6zKNnkupqRbkB9p5rwix8QiobQWJazjyX',\n",
              "    'output_no': 71,\n",
              "    'req_sigs': 1,\n",
              "    'script_asm': 'OP_DUP OP_HASH160 144739367df0ff8d1c61d03704298d49cf93ef3f OP_EQUALVERIFY OP_CHECKSIG',\n",
              "    'script_hex': '76a914144739367df0ff8d1c61d03704298d49cf93ef3f88ac',\n",
              "    'spent': {'input_no': 0,\n",
              "     'txid': '7295fd0f0077113e380eb11dbc396a7e90a13784938e5b5fb357eef233d045c3'},\n",
              "    'type': 'pubkeyhash',\n",
              "    'value': '5.81201619'},\n",
              "   {'address': 'D6zKNnkupqRbkB9p5rwix8QiobQWJazjyX',\n",
              "    'output_no': 72,\n",
              "    'req_sigs': 1,\n",
              "    'script_asm': 'OP_DUP OP_HASH160 144739367df0ff8d1c61d03704298d49cf93ef3f OP_EQUALVERIFY OP_CHECKSIG',\n",
              "    'script_hex': '76a914144739367df0ff8d1c61d03704298d49cf93ef3f88ac',\n",
              "    'spent': {'input_no': 0,\n",
              "     'txid': 'b4b2f97aea774a8f36ee529b34f2b7120aa796ea94b1be504e41cfe6072535ad'},\n",
              "    'type': 'pubkeyhash',\n",
              "    'value': '5.81201619'},\n",
              "   {'address': 'D6zKNnkupqRbkB9p5rwix8QiobQWJazjyX',\n",
              "    'output_no': 73,\n",
              "    'req_sigs': 1,\n",
              "    'script_asm': 'OP_DUP OP_HASH160 144739367df0ff8d1c61d03704298d49cf93ef3f OP_EQUALVERIFY OP_CHECKSIG',\n",
              "    'script_hex': '76a914144739367df0ff8d1c61d03704298d49cf93ef3f88ac',\n",
              "    'spent': {'input_no': 0,\n",
              "     'txid': '0ef29b72d74744793c3ba12ee25722369c9295547ae6cd449309d97996119dd4'},\n",
              "    'type': 'pubkeyhash',\n",
              "    'value': '5.81201619'},\n",
              "   {'address': 'D6zKNnkupqRbkB9p5rwix8QiobQWJazjyX',\n",
              "    'output_no': 74,\n",
              "    'req_sigs': 1,\n",
              "    'script_asm': 'OP_DUP OP_HASH160 144739367df0ff8d1c61d03704298d49cf93ef3f OP_EQUALVERIFY OP_CHECKSIG',\n",
              "    'script_hex': '76a914144739367df0ff8d1c61d03704298d49cf93ef3f88ac',\n",
              "    'spent': {'input_no': 0,\n",
              "     'txid': 'd31e438f44adca12f0810f57e5985f97ab8ad7d92c4030519c90388eeb58dc75'},\n",
              "    'type': 'pubkeyhash',\n",
              "    'value': '5.81201619'},\n",
              "   {'address': 'D6zKNnkupqRbkB9p5rwix8QiobQWJazjyX',\n",
              "    'output_no': 75,\n",
              "    'req_sigs': 1,\n",
              "    'script_asm': 'OP_DUP OP_HASH160 144739367df0ff8d1c61d03704298d49cf93ef3f OP_EQUALVERIFY OP_CHECKSIG',\n",
              "    'script_hex': '76a914144739367df0ff8d1c61d03704298d49cf93ef3f88ac',\n",
              "    'spent': {'input_no': 0,\n",
              "     'txid': '0519da18d8c5b8a34d1db9cf5026a724d82405f70dcf8e188aa2097db41bc758'},\n",
              "    'type': 'pubkeyhash',\n",
              "    'value': '5.81201619'},\n",
              "   {'address': 'D6zKNnkupqRbkB9p5rwix8QiobQWJazjyX',\n",
              "    'output_no': 76,\n",
              "    'req_sigs': 1,\n",
              "    'script_asm': 'OP_DUP OP_HASH160 144739367df0ff8d1c61d03704298d49cf93ef3f OP_EQUALVERIFY OP_CHECKSIG',\n",
              "    'script_hex': '76a914144739367df0ff8d1c61d03704298d49cf93ef3f88ac',\n",
              "    'spent': {'input_no': 0,\n",
              "     'txid': '75276ac84d81f8860245f33d30128b4778370400b8523266b7c7df14622674fb'},\n",
              "    'type': 'pubkeyhash',\n",
              "    'value': '5.81201619'},\n",
              "   {'address': 'D6zKNnkupqRbkB9p5rwix8QiobQWJazjyX',\n",
              "    'output_no': 77,\n",
              "    'req_sigs': 1,\n",
              "    'script_asm': 'OP_DUP OP_HASH160 144739367df0ff8d1c61d03704298d49cf93ef3f OP_EQUALVERIFY OP_CHECKSIG',\n",
              "    'script_hex': '76a914144739367df0ff8d1c61d03704298d49cf93ef3f88ac',\n",
              "    'spent': {'input_no': 0,\n",
              "     'txid': 'cb53631d1887c7dc1ace696af823ab3c40e397307b07e395b6c0932fa7fc4a40'},\n",
              "    'type': 'pubkeyhash',\n",
              "    'value': '5.81201619'},\n",
              "   {'address': 'D6zKNnkupqRbkB9p5rwix8QiobQWJazjyX',\n",
              "    'output_no': 78,\n",
              "    'req_sigs': 1,\n",
              "    'script_asm': 'OP_DUP OP_HASH160 144739367df0ff8d1c61d03704298d49cf93ef3f OP_EQUALVERIFY OP_CHECKSIG',\n",
              "    'script_hex': '76a914144739367df0ff8d1c61d03704298d49cf93ef3f88ac',\n",
              "    'spent': {'input_no': 0,\n",
              "     'txid': '3ec57790a913cbcfe0fd0c755179f1b955a1824fff04102f84b166ea99ced159'},\n",
              "    'type': 'pubkeyhash',\n",
              "    'value': '5.81201619'},\n",
              "   {'address': 'D6zKNnkupqRbkB9p5rwix8QiobQWJazjyX',\n",
              "    'output_no': 79,\n",
              "    'req_sigs': 1,\n",
              "    'script_asm': 'OP_DUP OP_HASH160 144739367df0ff8d1c61d03704298d49cf93ef3f OP_EQUALVERIFY OP_CHECKSIG',\n",
              "    'script_hex': '76a914144739367df0ff8d1c61d03704298d49cf93ef3f88ac',\n",
              "    'spent': {'input_no': 0,\n",
              "     'txid': '0c6e2b90d493b7ba92edfdeee49844dd5554ebba4b2a45bf88798587b1eff520'},\n",
              "    'type': 'pubkeyhash',\n",
              "    'value': '5.81201619'},\n",
              "   {'address': 'D6zKNnkupqRbkB9p5rwix8QiobQWJazjyX',\n",
              "    'output_no': 80,\n",
              "    'req_sigs': 1,\n",
              "    'script_asm': 'OP_DUP OP_HASH160 144739367df0ff8d1c61d03704298d49cf93ef3f OP_EQUALVERIFY OP_CHECKSIG',\n",
              "    'script_hex': '76a914144739367df0ff8d1c61d03704298d49cf93ef3f88ac',\n",
              "    'spent': {'input_no': 0,\n",
              "     'txid': '9a4189cfaeeab32c7360bd3593b0183c9d146e10495d836efd42edc92fd7fb90'},\n",
              "    'type': 'pubkeyhash',\n",
              "    'value': '5.81201619'},\n",
              "   {'address': 'D6zKNnkupqRbkB9p5rwix8QiobQWJazjyX',\n",
              "    'output_no': 81,\n",
              "    'req_sigs': 1,\n",
              "    'script_asm': 'OP_DUP OP_HASH160 144739367df0ff8d1c61d03704298d49cf93ef3f OP_EQUALVERIFY OP_CHECKSIG',\n",
              "    'script_hex': '76a914144739367df0ff8d1c61d03704298d49cf93ef3f88ac',\n",
              "    'spent': {'input_no': 0,\n",
              "     'txid': '9f7a12875ba05495c0fcf4bd708f5cd993d6fda7bb9841cc22a397372d179c8b'},\n",
              "    'type': 'pubkeyhash',\n",
              "    'value': '5.81201619'},\n",
              "   {'address': 'D6zKNnkupqRbkB9p5rwix8QiobQWJazjyX',\n",
              "    'output_no': 82,\n",
              "    'req_sigs': 1,\n",
              "    'script_asm': 'OP_DUP OP_HASH160 144739367df0ff8d1c61d03704298d49cf93ef3f OP_EQUALVERIFY OP_CHECKSIG',\n",
              "    'script_hex': '76a914144739367df0ff8d1c61d03704298d49cf93ef3f88ac',\n",
              "    'spent': {'input_no': 0,\n",
              "     'txid': '744c6bc87e4868e00f0d6e3fe8246fccafb1f28e19da44210f995593455a2bd8'},\n",
              "    'type': 'pubkeyhash',\n",
              "    'value': '5.81201619'},\n",
              "   {'address': 'D6zKNnkupqRbkB9p5rwix8QiobQWJazjyX',\n",
              "    'output_no': 83,\n",
              "    'req_sigs': 1,\n",
              "    'script_asm': 'OP_DUP OP_HASH160 144739367df0ff8d1c61d03704298d49cf93ef3f OP_EQUALVERIFY OP_CHECKSIG',\n",
              "    'script_hex': '76a914144739367df0ff8d1c61d03704298d49cf93ef3f88ac',\n",
              "    'spent': {'input_no': 0,\n",
              "     'txid': '66e30736ce21c22e26fc1c3801887a7aec15f7a299e73dc9ea665b9496796eec'},\n",
              "    'type': 'pubkeyhash',\n",
              "    'value': '5.81201619'},\n",
              "   {'address': 'D6zKNnkupqRbkB9p5rwix8QiobQWJazjyX',\n",
              "    'output_no': 84,\n",
              "    'req_sigs': 1,\n",
              "    'script_asm': 'OP_DUP OP_HASH160 144739367df0ff8d1c61d03704298d49cf93ef3f OP_EQUALVERIFY OP_CHECKSIG',\n",
              "    'script_hex': '76a914144739367df0ff8d1c61d03704298d49cf93ef3f88ac',\n",
              "    'spent': {'input_no': 0,\n",
              "     'txid': '4fc22683a724233157c17bd8efcb21af531d5b7041d79f1ce3dedb53135cb24a'},\n",
              "    'type': 'pubkeyhash',\n",
              "    'value': '5.81201619'},\n",
              "   {'address': 'D6zKNnkupqRbkB9p5rwix8QiobQWJazjyX',\n",
              "    'output_no': 85,\n",
              "    'req_sigs': 1,\n",
              "    'script_asm': 'OP_DUP OP_HASH160 144739367df0ff8d1c61d03704298d49cf93ef3f OP_EQUALVERIFY OP_CHECKSIG',\n",
              "    'script_hex': '76a914144739367df0ff8d1c61d03704298d49cf93ef3f88ac',\n",
              "    'spent': {'input_no': 0,\n",
              "     'txid': '46a44c5954995664a7880aa4fd407617171d42fa48281676c8e08040d61ee2de'},\n",
              "    'type': 'pubkeyhash',\n",
              "    'value': '5.81201619'},\n",
              "   {'address': 'D6zKNnkupqRbkB9p5rwix8QiobQWJazjyX',\n",
              "    'output_no': 86,\n",
              "    'req_sigs': 1,\n",
              "    'script_asm': 'OP_DUP OP_HASH160 144739367df0ff8d1c61d03704298d49cf93ef3f OP_EQUALVERIFY OP_CHECKSIG',\n",
              "    'script_hex': '76a914144739367df0ff8d1c61d03704298d49cf93ef3f88ac',\n",
              "    'spent': {'input_no': 0,\n",
              "     'txid': 'e8aa6877639e2ad2dcd48beaf4eb40948a8066de07a9b646c81864594e746dc5'},\n",
              "    'type': 'pubkeyhash',\n",
              "    'value': '5.81201619'},\n",
              "   {'address': 'D6zKNnkupqRbkB9p5rwix8QiobQWJazjyX',\n",
              "    'output_no': 87,\n",
              "    'req_sigs': 1,\n",
              "    'script_asm': 'OP_DUP OP_HASH160 144739367df0ff8d1c61d03704298d49cf93ef3f OP_EQUALVERIFY OP_CHECKSIG',\n",
              "    'script_hex': '76a914144739367df0ff8d1c61d03704298d49cf93ef3f88ac',\n",
              "    'spent': {'input_no': 0,\n",
              "     'txid': '1bcb9dfd5c910284f10cd1d153ad6cb74cd2602399bf238cdb358a867c6c042a'},\n",
              "    'type': 'pubkeyhash',\n",
              "    'value': '5.81201619'},\n",
              "   {'address': 'D6zKNnkupqRbkB9p5rwix8QiobQWJazjyX',\n",
              "    'output_no': 88,\n",
              "    'req_sigs': 1,\n",
              "    'script_asm': 'OP_DUP OP_HASH160 144739367df0ff8d1c61d03704298d49cf93ef3f OP_EQUALVERIFY OP_CHECKSIG',\n",
              "    'script_hex': '76a914144739367df0ff8d1c61d03704298d49cf93ef3f88ac',\n",
              "    'spent': {'input_no': 0,\n",
              "     'txid': '79f40bb83121120e949e6b7a79bc95ddcd43a31881a262aa1227e0e53adfcc45'},\n",
              "    'type': 'pubkeyhash',\n",
              "    'value': '5.81201619'},\n",
              "   {'address': 'D6zKNnkupqRbkB9p5rwix8QiobQWJazjyX',\n",
              "    'output_no': 89,\n",
              "    'req_sigs': 1,\n",
              "    'script_asm': 'OP_DUP OP_HASH160 144739367df0ff8d1c61d03704298d49cf93ef3f OP_EQUALVERIFY OP_CHECKSIG',\n",
              "    'script_hex': '76a914144739367df0ff8d1c61d03704298d49cf93ef3f88ac',\n",
              "    'spent': {'input_no': 0,\n",
              "     'txid': '49bb82e6976c0bbc2309581d647a5e94beef3d2620a90d2f492d0f8a469c7cfe'},\n",
              "    'type': 'pubkeyhash',\n",
              "    'value': '5.81201619'},\n",
              "   {'address': 'D6zKNnkupqRbkB9p5rwix8QiobQWJazjyX',\n",
              "    'output_no': 90,\n",
              "    'req_sigs': 1,\n",
              "    'script_asm': 'OP_DUP OP_HASH160 144739367df0ff8d1c61d03704298d49cf93ef3f OP_EQUALVERIFY OP_CHECKSIG',\n",
              "    'script_hex': '76a914144739367df0ff8d1c61d03704298d49cf93ef3f88ac',\n",
              "    'spent': {'input_no': 0,\n",
              "     'txid': '0e2f7c1df82b6cda5996085819a9a73b7555d115d85f4edc5623678809e6b6cb'},\n",
              "    'type': 'pubkeyhash',\n",
              "    'value': '5.81201619'},\n",
              "   {'address': 'D6zKNnkupqRbkB9p5rwix8QiobQWJazjyX',\n",
              "    'output_no': 91,\n",
              "    'req_sigs': 1,\n",
              "    'script_asm': 'OP_DUP OP_HASH160 144739367df0ff8d1c61d03704298d49cf93ef3f OP_EQUALVERIFY OP_CHECKSIG',\n",
              "    'script_hex': '76a914144739367df0ff8d1c61d03704298d49cf93ef3f88ac',\n",
              "    'spent': {'input_no': 0,\n",
              "     'txid': 'ba8b77d77d812f0e4e1ba0fe722d89daa3e596923e031d2b7baf1124f0532099'},\n",
              "    'type': 'pubkeyhash',\n",
              "    'value': '5.81201619'},\n",
              "   {'address': 'D6zKNnkupqRbkB9p5rwix8QiobQWJazjyX',\n",
              "    'output_no': 92,\n",
              "    'req_sigs': 1,\n",
              "    'script_asm': 'OP_DUP OP_HASH160 144739367df0ff8d1c61d03704298d49cf93ef3f OP_EQUALVERIFY OP_CHECKSIG',\n",
              "    'script_hex': '76a914144739367df0ff8d1c61d03704298d49cf93ef3f88ac',\n",
              "    'spent': {'input_no': 0,\n",
              "     'txid': '375a55faf217c90327849c973c07ad9d00f3ad7ca6b5285ac7b80c4b6583bb14'},\n",
              "    'type': 'pubkeyhash',\n",
              "    'value': '5.81201619'},\n",
              "   {'address': 'D6zKNnkupqRbkB9p5rwix8QiobQWJazjyX',\n",
              "    'output_no': 93,\n",
              "    'req_sigs': 1,\n",
              "    'script_asm': 'OP_DUP OP_HASH160 144739367df0ff8d1c61d03704298d49cf93ef3f OP_EQUALVERIFY OP_CHECKSIG',\n",
              "    'script_hex': '76a914144739367df0ff8d1c61d03704298d49cf93ef3f88ac',\n",
              "    'spent': {'input_no': 0,\n",
              "     'txid': '91dd52cab0b3ea190fe58b67559b066d4f02808960e053dea5111e252d3fe902'},\n",
              "    'type': 'pubkeyhash',\n",
              "    'value': '5.81201619'},\n",
              "   {'address': 'D6zKNnkupqRbkB9p5rwix8QiobQWJazjyX',\n",
              "    'output_no': 94,\n",
              "    'req_sigs': 1,\n",
              "    'script_asm': 'OP_DUP OP_HASH160 144739367df0ff8d1c61d03704298d49cf93ef3f OP_EQUALVERIFY OP_CHECKSIG',\n",
              "    'script_hex': '76a914144739367df0ff8d1c61d03704298d49cf93ef3f88ac',\n",
              "    'spent': {'input_no': 0,\n",
              "     'txid': 'ae981cae8df2f29ce95654a61484341070947e1d4adf2a91a21765559a6cd20c'},\n",
              "    'type': 'pubkeyhash',\n",
              "    'value': '5.81201619'},\n",
              "   {'address': 'D6zKNnkupqRbkB9p5rwix8QiobQWJazjyX',\n",
              "    'output_no': 95,\n",
              "    'req_sigs': 1,\n",
              "    'script_asm': 'OP_DUP OP_HASH160 144739367df0ff8d1c61d03704298d49cf93ef3f OP_EQUALVERIFY OP_CHECKSIG',\n",
              "    'script_hex': '76a914144739367df0ff8d1c61d03704298d49cf93ef3f88ac',\n",
              "    'spent': {'input_no': 0,\n",
              "     'txid': '67a83f6b33cb8492a750ee0bc9ab9c9c26fb048a15261c939a8a1f748cfc0af9'},\n",
              "    'type': 'pubkeyhash',\n",
              "    'value': '5.81201619'},\n",
              "   {'address': 'D6zKNnkupqRbkB9p5rwix8QiobQWJazjyX',\n",
              "    'output_no': 96,\n",
              "    'req_sigs': 1,\n",
              "    'script_asm': 'OP_DUP OP_HASH160 144739367df0ff8d1c61d03704298d49cf93ef3f OP_EQUALVERIFY OP_CHECKSIG',\n",
              "    'script_hex': '76a914144739367df0ff8d1c61d03704298d49cf93ef3f88ac',\n",
              "    'spent': {'input_no': 0,\n",
              "     'txid': '499ea653841751ff89eb02d049b20a08ee75b112d345c72e495afa6dcd86130d'},\n",
              "    'type': 'pubkeyhash',\n",
              "    'value': '5.81201619'}],\n",
              "  'sent_value': '577.46557057',\n",
              "  'size': 9415,\n",
              "  'time': 1652540740,\n",
              "  'tx_hex': '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',\n",
              "  'txid': 'a01e8625d653f4a8686b5b9e20ca653e59ebcd8bf2ca2a7b8370fdc52417f7b9',\n",
              "  'version': 1,\n",
              "  'vsize': 9415},\n",
              " 'message': '',\n",
              " 'status': 'success'}"
            ]
          },
          "metadata": {},
          "execution_count": 11
        }
      ]
    },
    {
      "cell_type": "code",
      "source": [
        "get_output_spend_txns('a01e8625d653f4a8686b5b9e20ca653e59ebcd8bf2ca2a7b8370fdc52417f7b9')"
      ],
      "metadata": {
        "colab": {
          "base_uri": "https://localhost:8080/"
        },
        "id": "lnfAvfeCwNK4",
        "outputId": "3fb6955e-9c75-423d-9a5a-8f47981f592b"
      },
      "execution_count": null,
      "outputs": [
        {
          "output_type": "execute_result",
          "data": {
            "text/plain": [
              "['90c01813156e594c4dbe8bd39436597c68ffaaa201c458f9c1ccae3e86d2c33f',\n",
              " 'cf0f325d00cc33cedde905f1132855c569ae573f3aa1493c837652aeebee18bc',\n",
              " 'c682f3de33dd6e882d6cbf499d28d6ebd87fecd2fad7108065fa5390d7a00458',\n",
              " '7f9b29b2044836633e01d4d47f503f53633433eaa4916e816ac7e59bc3adc60f',\n",
              " '2ae27a0deaa2d5d9552cddca69d230f3805d96a33d9f7b23441545fea3449b15',\n",
              " '7d2b514eec23fd6e5fe54b9ff6ef960e497006bb67e9d9346dc17afa773441e0',\n",
              " 'e37652ffd099b7228e54c6c5c1409ae005c18f4d8b4ba84e006311c056a311f2',\n",
              " '0238f55d0b9f7072fbb8d7c55c75624cc61c3b9bf3a49710ddc5c1b8ee370d59',\n",
              " '40a1252151a21a47834a1e34f467ccdcf9eae17aba7a12334e02d1aae4193e4a',\n",
              " 'fc77eabae6b98782fe9e53a4d1682d8a5da798aec4c77992b947913e03c3f314',\n",
              " '0f888cafb1a66e00cb7a9186a2b0ec88424d1ca17c84f9087d45d8dae80ebcea',\n",
              " 'c8b41a54da2a57288d14e31fb380dc74e5866b4341e5c279a4e1c596c3aa2ea0',\n",
              " 'd1265f7ae5cf0cde3bb1450ea5623f17cf5c86ad5064f64925421645e54c95e8',\n",
              " 'c60866a55c283d3cbb4ffe09dd678a7fe2e48c8304e8472a41889ffbbc7eb277',\n",
              " '5f746e2bf3f21b192430938e340ae3ae90c53bd1171a302207c487d8f8477adb',\n",
              " '9f1ff70299b078ee5f379c0d06a07315c4410d421977507726fc8213ac9c2bf9',\n",
              " 'c89ff8f7072d68ba8e247fe82c50c4b82b1bf3213dfb42562d19f9f1da271424',\n",
              " '4bf826fefdfef41cdfedaf4751bf061dd176e8bbd0fe95fb631dfa9016c014b1',\n",
              " '66c955eb95380d15aea91a62af4db992fc771f3141795ae538881c6b82843db8',\n",
              " 'ddf7931c3496951277e0649e8b41cffb128bb3173cc97cd304ec52a8afcb6ca9',\n",
              " '180266599f7e86a7a5145d41e38d91f17062a627c4d7ec57b9de9c4ac57f7b30',\n",
              " '0b2553583268d2fe005ccbb7749f5bee9b7d06e0ccc90a3ae3c242c7f4de2b4a',\n",
              " 'c6b60a5cc92f39856378232a8fd684b43ad2cecdfa843976d70d44dd8c1a6daf',\n",
              " '262fd6e7c5baa3709490491e1788b076683333cc81b72f0a756ea9dbc248914c',\n",
              " 'bcb3cc090a3aecbd62f840e236d4ff057011c4425baef15ae8980e6142fc2a44',\n",
              " '10bd23d4102714d59f2b49370b895ee29927f596438612a3ee233078a2cd1ea6',\n",
              " '9f78e3b51675f12af2c543b0b64e8127efe3c1fa84c914f438bb1bb912775bba',\n",
              " 'd9a70d4bc60da66f2274a1055135318fc1aa30424e0a859da08ca0e0a0718b8a',\n",
              " 'a08031856af787fad11190821048790d8b58ac399564d90a54e250990d3a49bb',\n",
              " '03400a6574c16e9921c0f663356f9cf9cbd3143ec14c33a0c08e55dcada35e72',\n",
              " '9487370ec1a5b1c70f90934751853ba617154d8b05df7b99a14a05ae3b268041',\n",
              " '222a41643de2a8a4e16953ccd80b4d641968a7fa31d528f0a60cd0dc807e5106',\n",
              " 'c071ee86a369002e05f8c3045797d7b122f7544c4a6b797e0fa743912e216c7a',\n",
              " '309ea930f13173083f4d18371302911328a3e6f3008e9520d9227e6bab7b4fe4',\n",
              " 'b7dc71ea27c14f658447fecd0323713733ede6690d27bb6589d9222dd039e975',\n",
              " '90cc928faf256e36942b83a27338c8ef6e26ea33e6d3836d07d67d3c2a702b75',\n",
              " '437567570aa719f03cb60376b6fe0244ecf5df8702e33f0f6557f411dea6354d',\n",
              " '0aabb58fd889a5a1c8d40d2a7e1a580eec7bf10af447a455168aca04cd9e1573',\n",
              " 'af8e8c63f9a7c87e99810e5158f6838bf70d44bad1f2854b8c90187b88bac35b',\n",
              " '9ffc0dbeb9d28864727472778bfc064358b6535661c37612ef155fe75c1cd190',\n",
              " 'ad47d7ce7f0fd6c9b31f477525ea7cd3c263e83e7823137964113b86999dcf3f',\n",
              " '7767c489efb2b168c60f55b2675ae389659390b5e4fb8ab81182fd42f596bb53',\n",
              " 'b4f4f10e1d5273db2dad770ae0365409b600fe7e383c11add2bd41f4b3813d9a',\n",
              " '3687ac2c4627b7ab8346b18d4dc451666e92e84b7586bbe49935a5ae28c4575a',\n",
              " 'd3a2e785c19670e6fb8bee680113c25d5ddc60c22961d81b8b9518def944fdae',\n",
              " '383528ee4350b341f8da29f4b77aee95ac736fea254b9eada70a281da2ed9fb7',\n",
              " 'a370003aaeca0c34e2dd8fec9b75691f2936c6edcf4454cc6afbcf8dac05c320',\n",
              " 'abe82abdc08f9f15bc960ab4bbc06633aa264d9cf820ca98c5008e53c7fda6bc',\n",
              " '12535e35946edada7230251e7f02907dd9249215eecedfdd3b5f80ca5db4681e',\n",
              " '081540527d59df80ab658ea41c6da6a4227fc4b69543e1f7883a0cb1e31e31da',\n",
              " '6664b2eb9d5815b3b9842df6c85cd0547ec623f636e7208eac9c084093484972',\n",
              " 'ad0d49ad271254a000bec48f2189e8378ced4de80af8468d625be01a964cf178',\n",
              " 'bf18a6d8568c9ac646751ac003cad0bc93b7df985a27867b9466a6a118749700',\n",
              " '68d3bfb1dddd9fc3fbae65a804a44a0e5e702d19171636906284141f80d247a9',\n",
              " '7af59d776c6608e88cbe97edd972a474caf8bbc245f5e050bc933815edd31dd7',\n",
              " 'e0c2cec1c6bfb05ac2456c90349388b972d274346f927f2ef8e0d3ff58a30795',\n",
              " 'b0af23b60e6a74ae58fe037e46203faaae0ac86dc0f391094376ef86409cc056',\n",
              " '39d400543327c556a68c052bfcbc88057b9c69ca920e15c02d65cea92268d3e1',\n",
              " '92e1f7cecd860214e29ed4812587adb229c9a01223f979ba251574de40ebefea',\n",
              " '02692a84b320424672717ceb5fecc3810f40c1b2cc08a72942453c1e7e0f33a9',\n",
              " 'a08027c1dc768c42a05656758acb754a96807aacb55e1543f59bee0716f5a7e7',\n",
              " 'dcb7b63d5674b6348d7dbd09b7dead726869eac3abda28af662df8a2c1c7201d',\n",
              " 'b9cc27fe275432a2bc5271a110717b80f7c38eb98488ba7c5badc81aca8c9ce2',\n",
              " 'eb4f18ef7fb289fa6308f81c9ce7ffc2e67a465c9bd4b341a0031eba0f91c969',\n",
              " 'aea03646805aab297381a91cc932944ee8c5acd94a478a8aec6e12145f187a25',\n",
              " '626395187fd315223dee06b32b4665b7a60b29b44327666999833a61634a91a4',\n",
              " 'c9adcfbeab9a6dad91e9a829e40136afee93e68cd8084b74647f4d05c455a0b6',\n",
              " '889cb63f36b5570eb5e7923953b593766879901334e61b25e8d9c2fdebd719e3',\n",
              " 'f20cffc21bbca27cb199f8af2d8818da18cb0ffcead6e24c2d49cffb5edcc87e',\n",
              " 'c4979860c533118bcabe815ef6c59e36c7904619fdbb3fbabdeeea332778a38e',\n",
              " 'abc0380548a183da56a3a9a1d68a62c43b495850207814c3960cdd94db1988c0',\n",
              " '7295fd0f0077113e380eb11dbc396a7e90a13784938e5b5fb357eef233d045c3',\n",
              " 'b4b2f97aea774a8f36ee529b34f2b7120aa796ea94b1be504e41cfe6072535ad',\n",
              " '0ef29b72d74744793c3ba12ee25722369c9295547ae6cd449309d97996119dd4',\n",
              " 'd31e438f44adca12f0810f57e5985f97ab8ad7d92c4030519c90388eeb58dc75',\n",
              " '0519da18d8c5b8a34d1db9cf5026a724d82405f70dcf8e188aa2097db41bc758',\n",
              " '75276ac84d81f8860245f33d30128b4778370400b8523266b7c7df14622674fb',\n",
              " 'cb53631d1887c7dc1ace696af823ab3c40e397307b07e395b6c0932fa7fc4a40',\n",
              " '3ec57790a913cbcfe0fd0c755179f1b955a1824fff04102f84b166ea99ced159',\n",
              " '0c6e2b90d493b7ba92edfdeee49844dd5554ebba4b2a45bf88798587b1eff520',\n",
              " '9a4189cfaeeab32c7360bd3593b0183c9d146e10495d836efd42edc92fd7fb90',\n",
              " '9f7a12875ba05495c0fcf4bd708f5cd993d6fda7bb9841cc22a397372d179c8b',\n",
              " '744c6bc87e4868e00f0d6e3fe8246fccafb1f28e19da44210f995593455a2bd8',\n",
              " '66e30736ce21c22e26fc1c3801887a7aec15f7a299e73dc9ea665b9496796eec',\n",
              " '4fc22683a724233157c17bd8efcb21af531d5b7041d79f1ce3dedb53135cb24a',\n",
              " '46a44c5954995664a7880aa4fd407617171d42fa48281676c8e08040d61ee2de',\n",
              " 'e8aa6877639e2ad2dcd48beaf4eb40948a8066de07a9b646c81864594e746dc5',\n",
              " '1bcb9dfd5c910284f10cd1d153ad6cb74cd2602399bf238cdb358a867c6c042a',\n",
              " '79f40bb83121120e949e6b7a79bc95ddcd43a31881a262aa1227e0e53adfcc45',\n",
              " '49bb82e6976c0bbc2309581d647a5e94beef3d2620a90d2f492d0f8a469c7cfe',\n",
              " '0e2f7c1df82b6cda5996085819a9a73b7555d115d85f4edc5623678809e6b6cb',\n",
              " 'ba8b77d77d812f0e4e1ba0fe722d89daa3e596923e031d2b7baf1124f0532099',\n",
              " '375a55faf217c90327849c973c07ad9d00f3ad7ca6b5285ac7b80c4b6583bb14',\n",
              " '91dd52cab0b3ea190fe58b67559b066d4f02808960e053dea5111e252d3fe902',\n",
              " 'ae981cae8df2f29ce95654a61484341070947e1d4adf2a91a21765559a6cd20c',\n",
              " '67a83f6b33cb8492a750ee0bc9ab9c9c26fb048a15261c939a8a1f748cfc0af9',\n",
              " '499ea653841751ff89eb02d049b20a08ee75b112d345c72e495afa6dcd86130d']"
            ]
          },
          "metadata": {},
          "execution_count": 12
        }
      ]
    },
    {
      "cell_type": "code",
      "source": [
        "x={1:2}\n",
        "x.get(3)\n",
        "x[3]"
      ],
      "metadata": {
        "colab": {
          "base_uri": "https://localhost:8080/",
          "height": 205
        },
        "id": "1fTRC_rKmBK8",
        "outputId": "197b20bc-4f1f-4466-bad1-c76b85cfe5ed"
      },
      "execution_count": null,
      "outputs": [
        {
          "output_type": "error",
          "ename": "KeyError",
          "evalue": "ignored",
          "traceback": [
            "\u001b[0;31m---------------------------------------------------------------------------\u001b[0m",
            "\u001b[0;31mKeyError\u001b[0m                                  Traceback (most recent call last)",
            "\u001b[0;32m<ipython-input-13-32a984003d52>\u001b[0m in \u001b[0;36m<module>\u001b[0;34m()\u001b[0m\n\u001b[1;32m      1\u001b[0m \u001b[0mx\u001b[0m\u001b[0;34m=\u001b[0m\u001b[0;34m{\u001b[0m\u001b[0;36m1\u001b[0m\u001b[0;34m:\u001b[0m\u001b[0;36m2\u001b[0m\u001b[0;34m}\u001b[0m\u001b[0;34m\u001b[0m\u001b[0;34m\u001b[0m\u001b[0m\n\u001b[1;32m      2\u001b[0m \u001b[0mx\u001b[0m\u001b[0;34m.\u001b[0m\u001b[0mget\u001b[0m\u001b[0;34m(\u001b[0m\u001b[0;36m3\u001b[0m\u001b[0;34m)\u001b[0m\u001b[0;34m\u001b[0m\u001b[0;34m\u001b[0m\u001b[0m\n\u001b[0;32m----> 3\u001b[0;31m \u001b[0mx\u001b[0m\u001b[0;34m[\u001b[0m\u001b[0;36m3\u001b[0m\u001b[0;34m]\u001b[0m\u001b[0;34m\u001b[0m\u001b[0;34m\u001b[0m\u001b[0m\n\u001b[0m",
            "\u001b[0;31mKeyError\u001b[0m: 3"
          ]
        }
      ]
    },
    {
      "cell_type": "code",
      "source": [
        "def get_op_return(txn_ident):\n",
        "  import requests\n",
        "  import json\n",
        "  \n",
        "  r = requests.get(f'https://sochain.com/api/v2/tx/DOGE/{txn_ident}')\n",
        "  outs=json.loads(r.text)['data']['outputs']\n",
        "  asm=outs[-1]['script_asm']\n",
        "  return (asm[10:] if 'OP_RETURN' in asm else None),outs[0]['spent']['txid'] if outs[0]['spent'] else None #( outs[0]['spent']['txid'] if 'spent'in list(outs[0].keys()) else None)"
      ],
      "metadata": {
        "id": "pPogkAmVdXzM"
      },
      "execution_count": null,
      "outputs": []
    },
    {
      "cell_type": "code",
      "source": [
        "get_op_return('90c01813156e594c4dbe8bd39436597c68ffaaa201c458f9c1ccae3e86d2c33f')"
      ],
      "metadata": {
        "colab": {
          "base_uri": "https://localhost:8080/"
        },
        "id": "vTUY87UOfT7S",
        "outputId": "6407361f-0ef4-46e2-eb1c-7376d17c58e0"
      },
      "execution_count": null,
      "outputs": [
        {
          "output_type": "execute_result",
          "data": {
            "text/plain": [
              "('c1dd000103ff010040004005506574657220426561', None)"
            ]
          },
          "metadata": {},
          "execution_count": 15
        }
      ]
    },
    {
      "cell_type": "markdown",
      "source": [
        ""
      ],
      "metadata": {
        "id": "5Wm1OUeSweR-"
      }
    },
    {
      "cell_type": "code",
      "source": [
        "get_op_return('a01e8625d653f4a8686b5b9e20ca653e59ebcd8bf2ca2a7b8370fdc52417f7b9')"
      ],
      "metadata": {
        "colab": {
          "base_uri": "https://localhost:8080/"
        },
        "id": "w7Fx7ltqf3Cy",
        "outputId": "3665405a-435a-4e3e-cb52-2924a97c1c2b"
      },
      "execution_count": null,
      "outputs": [
        {
          "output_type": "execute_result",
          "data": {
            "text/plain": [
              "(None, '90c01813156e594c4dbe8bd39436597c68ffaaa201c458f9c1ccae3e86d2c33f')"
            ]
          },
          "metadata": {},
          "execution_count": 16
        }
      ]
    },
    {
      "cell_type": "code",
      "source": [
        "get_op_return('a01e8625d653f4a8686b5b9e20ca653e59ebcd8bf2ca2a7b8370fdc52417f7b9')"
      ],
      "metadata": {
        "colab": {
          "base_uri": "https://localhost:8080/"
        },
        "id": "Ocfp76dwpgRT",
        "outputId": "4ccae2e7-15b4-4b59-800d-47ea351118c2"
      },
      "execution_count": null,
      "outputs": [
        {
          "output_type": "execute_result",
          "data": {
            "text/plain": [
              "(None, '90c01813156e594c4dbe8bd39436597c68ffaaa201c458f9c1ccae3e86d2c33f')"
            ]
          },
          "metadata": {},
          "execution_count": 17
        }
      ]
    },
    {
      "cell_type": "code",
      "source": [
        "get_output_spend_txns(bea_txn)"
      ],
      "metadata": {
        "colab": {
          "base_uri": "https://localhost:8080/"
        },
        "id": "ebEQluSgZIld",
        "outputId": "cde181b2-8203-4bc9-e53f-75bb21318b3f"
      },
      "execution_count": null,
      "outputs": [
        {
          "output_type": "execute_result",
          "data": {
            "text/plain": [
              "['90c01813156e594c4dbe8bd39436597c68ffaaa201c458f9c1ccae3e86d2c33f',\n",
              " 'cf0f325d00cc33cedde905f1132855c569ae573f3aa1493c837652aeebee18bc',\n",
              " 'c682f3de33dd6e882d6cbf499d28d6ebd87fecd2fad7108065fa5390d7a00458',\n",
              " '7f9b29b2044836633e01d4d47f503f53633433eaa4916e816ac7e59bc3adc60f',\n",
              " '2ae27a0deaa2d5d9552cddca69d230f3805d96a33d9f7b23441545fea3449b15',\n",
              " '7d2b514eec23fd6e5fe54b9ff6ef960e497006bb67e9d9346dc17afa773441e0',\n",
              " 'e37652ffd099b7228e54c6c5c1409ae005c18f4d8b4ba84e006311c056a311f2',\n",
              " '0238f55d0b9f7072fbb8d7c55c75624cc61c3b9bf3a49710ddc5c1b8ee370d59',\n",
              " '40a1252151a21a47834a1e34f467ccdcf9eae17aba7a12334e02d1aae4193e4a',\n",
              " 'fc77eabae6b98782fe9e53a4d1682d8a5da798aec4c77992b947913e03c3f314',\n",
              " '0f888cafb1a66e00cb7a9186a2b0ec88424d1ca17c84f9087d45d8dae80ebcea',\n",
              " 'c8b41a54da2a57288d14e31fb380dc74e5866b4341e5c279a4e1c596c3aa2ea0',\n",
              " 'd1265f7ae5cf0cde3bb1450ea5623f17cf5c86ad5064f64925421645e54c95e8',\n",
              " 'c60866a55c283d3cbb4ffe09dd678a7fe2e48c8304e8472a41889ffbbc7eb277',\n",
              " '5f746e2bf3f21b192430938e340ae3ae90c53bd1171a302207c487d8f8477adb',\n",
              " '9f1ff70299b078ee5f379c0d06a07315c4410d421977507726fc8213ac9c2bf9',\n",
              " 'c89ff8f7072d68ba8e247fe82c50c4b82b1bf3213dfb42562d19f9f1da271424',\n",
              " '4bf826fefdfef41cdfedaf4751bf061dd176e8bbd0fe95fb631dfa9016c014b1',\n",
              " '66c955eb95380d15aea91a62af4db992fc771f3141795ae538881c6b82843db8',\n",
              " 'ddf7931c3496951277e0649e8b41cffb128bb3173cc97cd304ec52a8afcb6ca9',\n",
              " '180266599f7e86a7a5145d41e38d91f17062a627c4d7ec57b9de9c4ac57f7b30',\n",
              " '0b2553583268d2fe005ccbb7749f5bee9b7d06e0ccc90a3ae3c242c7f4de2b4a',\n",
              " 'c6b60a5cc92f39856378232a8fd684b43ad2cecdfa843976d70d44dd8c1a6daf',\n",
              " '262fd6e7c5baa3709490491e1788b076683333cc81b72f0a756ea9dbc248914c',\n",
              " 'bcb3cc090a3aecbd62f840e236d4ff057011c4425baef15ae8980e6142fc2a44',\n",
              " '10bd23d4102714d59f2b49370b895ee29927f596438612a3ee233078a2cd1ea6',\n",
              " '9f78e3b51675f12af2c543b0b64e8127efe3c1fa84c914f438bb1bb912775bba',\n",
              " 'd9a70d4bc60da66f2274a1055135318fc1aa30424e0a859da08ca0e0a0718b8a',\n",
              " 'a08031856af787fad11190821048790d8b58ac399564d90a54e250990d3a49bb',\n",
              " '03400a6574c16e9921c0f663356f9cf9cbd3143ec14c33a0c08e55dcada35e72',\n",
              " '9487370ec1a5b1c70f90934751853ba617154d8b05df7b99a14a05ae3b268041',\n",
              " '222a41643de2a8a4e16953ccd80b4d641968a7fa31d528f0a60cd0dc807e5106',\n",
              " 'c071ee86a369002e05f8c3045797d7b122f7544c4a6b797e0fa743912e216c7a',\n",
              " '309ea930f13173083f4d18371302911328a3e6f3008e9520d9227e6bab7b4fe4',\n",
              " 'b7dc71ea27c14f658447fecd0323713733ede6690d27bb6589d9222dd039e975',\n",
              " '90cc928faf256e36942b83a27338c8ef6e26ea33e6d3836d07d67d3c2a702b75',\n",
              " '437567570aa719f03cb60376b6fe0244ecf5df8702e33f0f6557f411dea6354d',\n",
              " '0aabb58fd889a5a1c8d40d2a7e1a580eec7bf10af447a455168aca04cd9e1573',\n",
              " 'af8e8c63f9a7c87e99810e5158f6838bf70d44bad1f2854b8c90187b88bac35b',\n",
              " '9ffc0dbeb9d28864727472778bfc064358b6535661c37612ef155fe75c1cd190',\n",
              " 'ad47d7ce7f0fd6c9b31f477525ea7cd3c263e83e7823137964113b86999dcf3f',\n",
              " '7767c489efb2b168c60f55b2675ae389659390b5e4fb8ab81182fd42f596bb53',\n",
              " 'b4f4f10e1d5273db2dad770ae0365409b600fe7e383c11add2bd41f4b3813d9a',\n",
              " '3687ac2c4627b7ab8346b18d4dc451666e92e84b7586bbe49935a5ae28c4575a',\n",
              " 'd3a2e785c19670e6fb8bee680113c25d5ddc60c22961d81b8b9518def944fdae',\n",
              " '383528ee4350b341f8da29f4b77aee95ac736fea254b9eada70a281da2ed9fb7',\n",
              " 'a370003aaeca0c34e2dd8fec9b75691f2936c6edcf4454cc6afbcf8dac05c320',\n",
              " 'abe82abdc08f9f15bc960ab4bbc06633aa264d9cf820ca98c5008e53c7fda6bc',\n",
              " '12535e35946edada7230251e7f02907dd9249215eecedfdd3b5f80ca5db4681e',\n",
              " '081540527d59df80ab658ea41c6da6a4227fc4b69543e1f7883a0cb1e31e31da',\n",
              " '6664b2eb9d5815b3b9842df6c85cd0547ec623f636e7208eac9c084093484972',\n",
              " 'ad0d49ad271254a000bec48f2189e8378ced4de80af8468d625be01a964cf178',\n",
              " 'bf18a6d8568c9ac646751ac003cad0bc93b7df985a27867b9466a6a118749700',\n",
              " '68d3bfb1dddd9fc3fbae65a804a44a0e5e702d19171636906284141f80d247a9',\n",
              " '7af59d776c6608e88cbe97edd972a474caf8bbc245f5e050bc933815edd31dd7',\n",
              " 'e0c2cec1c6bfb05ac2456c90349388b972d274346f927f2ef8e0d3ff58a30795',\n",
              " 'b0af23b60e6a74ae58fe037e46203faaae0ac86dc0f391094376ef86409cc056',\n",
              " '39d400543327c556a68c052bfcbc88057b9c69ca920e15c02d65cea92268d3e1',\n",
              " '92e1f7cecd860214e29ed4812587adb229c9a01223f979ba251574de40ebefea',\n",
              " '02692a84b320424672717ceb5fecc3810f40c1b2cc08a72942453c1e7e0f33a9',\n",
              " 'a08027c1dc768c42a05656758acb754a96807aacb55e1543f59bee0716f5a7e7',\n",
              " 'dcb7b63d5674b6348d7dbd09b7dead726869eac3abda28af662df8a2c1c7201d',\n",
              " 'b9cc27fe275432a2bc5271a110717b80f7c38eb98488ba7c5badc81aca8c9ce2',\n",
              " 'eb4f18ef7fb289fa6308f81c9ce7ffc2e67a465c9bd4b341a0031eba0f91c969',\n",
              " 'aea03646805aab297381a91cc932944ee8c5acd94a478a8aec6e12145f187a25',\n",
              " '626395187fd315223dee06b32b4665b7a60b29b44327666999833a61634a91a4',\n",
              " 'c9adcfbeab9a6dad91e9a829e40136afee93e68cd8084b74647f4d05c455a0b6',\n",
              " '889cb63f36b5570eb5e7923953b593766879901334e61b25e8d9c2fdebd719e3',\n",
              " 'f20cffc21bbca27cb199f8af2d8818da18cb0ffcead6e24c2d49cffb5edcc87e',\n",
              " 'c4979860c533118bcabe815ef6c59e36c7904619fdbb3fbabdeeea332778a38e',\n",
              " 'abc0380548a183da56a3a9a1d68a62c43b495850207814c3960cdd94db1988c0',\n",
              " '7295fd0f0077113e380eb11dbc396a7e90a13784938e5b5fb357eef233d045c3',\n",
              " 'b4b2f97aea774a8f36ee529b34f2b7120aa796ea94b1be504e41cfe6072535ad',\n",
              " '0ef29b72d74744793c3ba12ee25722369c9295547ae6cd449309d97996119dd4',\n",
              " 'd31e438f44adca12f0810f57e5985f97ab8ad7d92c4030519c90388eeb58dc75',\n",
              " '0519da18d8c5b8a34d1db9cf5026a724d82405f70dcf8e188aa2097db41bc758',\n",
              " '75276ac84d81f8860245f33d30128b4778370400b8523266b7c7df14622674fb',\n",
              " 'cb53631d1887c7dc1ace696af823ab3c40e397307b07e395b6c0932fa7fc4a40',\n",
              " '3ec57790a913cbcfe0fd0c755179f1b955a1824fff04102f84b166ea99ced159',\n",
              " '0c6e2b90d493b7ba92edfdeee49844dd5554ebba4b2a45bf88798587b1eff520',\n",
              " '9a4189cfaeeab32c7360bd3593b0183c9d146e10495d836efd42edc92fd7fb90',\n",
              " '9f7a12875ba05495c0fcf4bd708f5cd993d6fda7bb9841cc22a397372d179c8b',\n",
              " '744c6bc87e4868e00f0d6e3fe8246fccafb1f28e19da44210f995593455a2bd8',\n",
              " '66e30736ce21c22e26fc1c3801887a7aec15f7a299e73dc9ea665b9496796eec',\n",
              " '4fc22683a724233157c17bd8efcb21af531d5b7041d79f1ce3dedb53135cb24a',\n",
              " '46a44c5954995664a7880aa4fd407617171d42fa48281676c8e08040d61ee2de',\n",
              " 'e8aa6877639e2ad2dcd48beaf4eb40948a8066de07a9b646c81864594e746dc5',\n",
              " '1bcb9dfd5c910284f10cd1d153ad6cb74cd2602399bf238cdb358a867c6c042a',\n",
              " '79f40bb83121120e949e6b7a79bc95ddcd43a31881a262aa1227e0e53adfcc45',\n",
              " '49bb82e6976c0bbc2309581d647a5e94beef3d2620a90d2f492d0f8a469c7cfe',\n",
              " '0e2f7c1df82b6cda5996085819a9a73b7555d115d85f4edc5623678809e6b6cb',\n",
              " 'ba8b77d77d812f0e4e1ba0fe722d89daa3e596923e031d2b7baf1124f0532099',\n",
              " '375a55faf217c90327849c973c07ad9d00f3ad7ca6b5285ac7b80c4b6583bb14',\n",
              " '91dd52cab0b3ea190fe58b67559b066d4f02808960e053dea5111e252d3fe902',\n",
              " 'ae981cae8df2f29ce95654a61484341070947e1d4adf2a91a21765559a6cd20c',\n",
              " '67a83f6b33cb8492a750ee0bc9ab9c9c26fb048a15261c939a8a1f748cfc0af9',\n",
              " '499ea653841751ff89eb02d049b20a08ee75b112d345c72e495afa6dcd86130d']"
            ]
          },
          "metadata": {},
          "execution_count": 18
        }
      ]
    },
    {
      "cell_type": "code",
      "source": [
        "get_output_spend_txns('a01e8625d653f4a8686b5b9e20ca653e59ebcd8bf2ca2a7b8370fdc52417f7b9')"
      ],
      "metadata": {
        "id": "pl6bocdV94uF",
        "outputId": "00facfc1-f6ab-4b09-c3e3-c6b0ccb3f0dd",
        "colab": {
          "base_uri": "https://localhost:8080/"
        }
      },
      "execution_count": null,
      "outputs": [
        {
          "output_type": "execute_result",
          "data": {
            "text/plain": [
              "['90c01813156e594c4dbe8bd39436597c68ffaaa201c458f9c1ccae3e86d2c33f',\n",
              " 'cf0f325d00cc33cedde905f1132855c569ae573f3aa1493c837652aeebee18bc',\n",
              " 'c682f3de33dd6e882d6cbf499d28d6ebd87fecd2fad7108065fa5390d7a00458',\n",
              " '7f9b29b2044836633e01d4d47f503f53633433eaa4916e816ac7e59bc3adc60f',\n",
              " '2ae27a0deaa2d5d9552cddca69d230f3805d96a33d9f7b23441545fea3449b15',\n",
              " '7d2b514eec23fd6e5fe54b9ff6ef960e497006bb67e9d9346dc17afa773441e0',\n",
              " 'e37652ffd099b7228e54c6c5c1409ae005c18f4d8b4ba84e006311c056a311f2',\n",
              " '0238f55d0b9f7072fbb8d7c55c75624cc61c3b9bf3a49710ddc5c1b8ee370d59',\n",
              " '40a1252151a21a47834a1e34f467ccdcf9eae17aba7a12334e02d1aae4193e4a',\n",
              " 'fc77eabae6b98782fe9e53a4d1682d8a5da798aec4c77992b947913e03c3f314',\n",
              " '0f888cafb1a66e00cb7a9186a2b0ec88424d1ca17c84f9087d45d8dae80ebcea',\n",
              " 'c8b41a54da2a57288d14e31fb380dc74e5866b4341e5c279a4e1c596c3aa2ea0',\n",
              " 'd1265f7ae5cf0cde3bb1450ea5623f17cf5c86ad5064f64925421645e54c95e8',\n",
              " 'c60866a55c283d3cbb4ffe09dd678a7fe2e48c8304e8472a41889ffbbc7eb277',\n",
              " '5f746e2bf3f21b192430938e340ae3ae90c53bd1171a302207c487d8f8477adb',\n",
              " '9f1ff70299b078ee5f379c0d06a07315c4410d421977507726fc8213ac9c2bf9',\n",
              " 'c89ff8f7072d68ba8e247fe82c50c4b82b1bf3213dfb42562d19f9f1da271424',\n",
              " '4bf826fefdfef41cdfedaf4751bf061dd176e8bbd0fe95fb631dfa9016c014b1',\n",
              " '66c955eb95380d15aea91a62af4db992fc771f3141795ae538881c6b82843db8',\n",
              " 'ddf7931c3496951277e0649e8b41cffb128bb3173cc97cd304ec52a8afcb6ca9',\n",
              " '180266599f7e86a7a5145d41e38d91f17062a627c4d7ec57b9de9c4ac57f7b30',\n",
              " '0b2553583268d2fe005ccbb7749f5bee9b7d06e0ccc90a3ae3c242c7f4de2b4a',\n",
              " 'c6b60a5cc92f39856378232a8fd684b43ad2cecdfa843976d70d44dd8c1a6daf',\n",
              " '262fd6e7c5baa3709490491e1788b076683333cc81b72f0a756ea9dbc248914c',\n",
              " 'bcb3cc090a3aecbd62f840e236d4ff057011c4425baef15ae8980e6142fc2a44',\n",
              " '10bd23d4102714d59f2b49370b895ee29927f596438612a3ee233078a2cd1ea6',\n",
              " '9f78e3b51675f12af2c543b0b64e8127efe3c1fa84c914f438bb1bb912775bba',\n",
              " 'd9a70d4bc60da66f2274a1055135318fc1aa30424e0a859da08ca0e0a0718b8a',\n",
              " 'a08031856af787fad11190821048790d8b58ac399564d90a54e250990d3a49bb',\n",
              " '03400a6574c16e9921c0f663356f9cf9cbd3143ec14c33a0c08e55dcada35e72',\n",
              " '9487370ec1a5b1c70f90934751853ba617154d8b05df7b99a14a05ae3b268041',\n",
              " '222a41643de2a8a4e16953ccd80b4d641968a7fa31d528f0a60cd0dc807e5106',\n",
              " 'c071ee86a369002e05f8c3045797d7b122f7544c4a6b797e0fa743912e216c7a',\n",
              " '309ea930f13173083f4d18371302911328a3e6f3008e9520d9227e6bab7b4fe4',\n",
              " 'b7dc71ea27c14f658447fecd0323713733ede6690d27bb6589d9222dd039e975',\n",
              " '90cc928faf256e36942b83a27338c8ef6e26ea33e6d3836d07d67d3c2a702b75',\n",
              " '437567570aa719f03cb60376b6fe0244ecf5df8702e33f0f6557f411dea6354d',\n",
              " '0aabb58fd889a5a1c8d40d2a7e1a580eec7bf10af447a455168aca04cd9e1573',\n",
              " 'af8e8c63f9a7c87e99810e5158f6838bf70d44bad1f2854b8c90187b88bac35b',\n",
              " '9ffc0dbeb9d28864727472778bfc064358b6535661c37612ef155fe75c1cd190',\n",
              " 'ad47d7ce7f0fd6c9b31f477525ea7cd3c263e83e7823137964113b86999dcf3f',\n",
              " '7767c489efb2b168c60f55b2675ae389659390b5e4fb8ab81182fd42f596bb53',\n",
              " 'b4f4f10e1d5273db2dad770ae0365409b600fe7e383c11add2bd41f4b3813d9a',\n",
              " '3687ac2c4627b7ab8346b18d4dc451666e92e84b7586bbe49935a5ae28c4575a',\n",
              " 'd3a2e785c19670e6fb8bee680113c25d5ddc60c22961d81b8b9518def944fdae',\n",
              " '383528ee4350b341f8da29f4b77aee95ac736fea254b9eada70a281da2ed9fb7',\n",
              " 'a370003aaeca0c34e2dd8fec9b75691f2936c6edcf4454cc6afbcf8dac05c320',\n",
              " 'abe82abdc08f9f15bc960ab4bbc06633aa264d9cf820ca98c5008e53c7fda6bc',\n",
              " '12535e35946edada7230251e7f02907dd9249215eecedfdd3b5f80ca5db4681e',\n",
              " '081540527d59df80ab658ea41c6da6a4227fc4b69543e1f7883a0cb1e31e31da',\n",
              " '6664b2eb9d5815b3b9842df6c85cd0547ec623f636e7208eac9c084093484972',\n",
              " 'ad0d49ad271254a000bec48f2189e8378ced4de80af8468d625be01a964cf178',\n",
              " 'bf18a6d8568c9ac646751ac003cad0bc93b7df985a27867b9466a6a118749700',\n",
              " '68d3bfb1dddd9fc3fbae65a804a44a0e5e702d19171636906284141f80d247a9',\n",
              " '7af59d776c6608e88cbe97edd972a474caf8bbc245f5e050bc933815edd31dd7',\n",
              " 'e0c2cec1c6bfb05ac2456c90349388b972d274346f927f2ef8e0d3ff58a30795',\n",
              " 'b0af23b60e6a74ae58fe037e46203faaae0ac86dc0f391094376ef86409cc056',\n",
              " '39d400543327c556a68c052bfcbc88057b9c69ca920e15c02d65cea92268d3e1',\n",
              " '92e1f7cecd860214e29ed4812587adb229c9a01223f979ba251574de40ebefea',\n",
              " '02692a84b320424672717ceb5fecc3810f40c1b2cc08a72942453c1e7e0f33a9',\n",
              " 'a08027c1dc768c42a05656758acb754a96807aacb55e1543f59bee0716f5a7e7',\n",
              " 'dcb7b63d5674b6348d7dbd09b7dead726869eac3abda28af662df8a2c1c7201d',\n",
              " 'b9cc27fe275432a2bc5271a110717b80f7c38eb98488ba7c5badc81aca8c9ce2',\n",
              " 'eb4f18ef7fb289fa6308f81c9ce7ffc2e67a465c9bd4b341a0031eba0f91c969',\n",
              " 'aea03646805aab297381a91cc932944ee8c5acd94a478a8aec6e12145f187a25',\n",
              " '626395187fd315223dee06b32b4665b7a60b29b44327666999833a61634a91a4',\n",
              " 'c9adcfbeab9a6dad91e9a829e40136afee93e68cd8084b74647f4d05c455a0b6',\n",
              " '889cb63f36b5570eb5e7923953b593766879901334e61b25e8d9c2fdebd719e3',\n",
              " 'f20cffc21bbca27cb199f8af2d8818da18cb0ffcead6e24c2d49cffb5edcc87e',\n",
              " 'c4979860c533118bcabe815ef6c59e36c7904619fdbb3fbabdeeea332778a38e',\n",
              " 'abc0380548a183da56a3a9a1d68a62c43b495850207814c3960cdd94db1988c0',\n",
              " '7295fd0f0077113e380eb11dbc396a7e90a13784938e5b5fb357eef233d045c3',\n",
              " 'b4b2f97aea774a8f36ee529b34f2b7120aa796ea94b1be504e41cfe6072535ad',\n",
              " '0ef29b72d74744793c3ba12ee25722369c9295547ae6cd449309d97996119dd4',\n",
              " 'd31e438f44adca12f0810f57e5985f97ab8ad7d92c4030519c90388eeb58dc75',\n",
              " '0519da18d8c5b8a34d1db9cf5026a724d82405f70dcf8e188aa2097db41bc758',\n",
              " '75276ac84d81f8860245f33d30128b4778370400b8523266b7c7df14622674fb',\n",
              " 'cb53631d1887c7dc1ace696af823ab3c40e397307b07e395b6c0932fa7fc4a40',\n",
              " '3ec57790a913cbcfe0fd0c755179f1b955a1824fff04102f84b166ea99ced159',\n",
              " '0c6e2b90d493b7ba92edfdeee49844dd5554ebba4b2a45bf88798587b1eff520',\n",
              " '9a4189cfaeeab32c7360bd3593b0183c9d146e10495d836efd42edc92fd7fb90',\n",
              " '9f7a12875ba05495c0fcf4bd708f5cd993d6fda7bb9841cc22a397372d179c8b',\n",
              " '744c6bc87e4868e00f0d6e3fe8246fccafb1f28e19da44210f995593455a2bd8',\n",
              " '66e30736ce21c22e26fc1c3801887a7aec15f7a299e73dc9ea665b9496796eec',\n",
              " '4fc22683a724233157c17bd8efcb21af531d5b7041d79f1ce3dedb53135cb24a',\n",
              " '46a44c5954995664a7880aa4fd407617171d42fa48281676c8e08040d61ee2de',\n",
              " 'e8aa6877639e2ad2dcd48beaf4eb40948a8066de07a9b646c81864594e746dc5',\n",
              " '1bcb9dfd5c910284f10cd1d153ad6cb74cd2602399bf238cdb358a867c6c042a',\n",
              " '79f40bb83121120e949e6b7a79bc95ddcd43a31881a262aa1227e0e53adfcc45',\n",
              " '49bb82e6976c0bbc2309581d647a5e94beef3d2620a90d2f492d0f8a469c7cfe',\n",
              " '0e2f7c1df82b6cda5996085819a9a73b7555d115d85f4edc5623678809e6b6cb',\n",
              " 'ba8b77d77d812f0e4e1ba0fe722d89daa3e596923e031d2b7baf1124f0532099',\n",
              " '375a55faf217c90327849c973c07ad9d00f3ad7ca6b5285ac7b80c4b6583bb14',\n",
              " '91dd52cab0b3ea190fe58b67559b066d4f02808960e053dea5111e252d3fe902',\n",
              " 'ae981cae8df2f29ce95654a61484341070947e1d4adf2a91a21765559a6cd20c',\n",
              " '67a83f6b33cb8492a750ee0bc9ab9c9c26fb048a15261c939a8a1f748cfc0af9',\n",
              " '499ea653841751ff89eb02d049b20a08ee75b112d345c72e495afa6dcd86130d']"
            ]
          },
          "metadata": {},
          "execution_count": 19
        }
      ]
    },
    {
      "cell_type": "code",
      "source": [
        "get_op_return('c1542c10399a09a5471799133c472a6652d5cb3b7b421e1a7e80e2039f5b393b')"
      ],
      "metadata": {
        "colab": {
          "base_uri": "https://localhost:8080/"
        },
        "id": "zHvAFXZ6pqZt",
        "outputId": "e99502dd-9779-4b08-8175-462b42fc2e68"
      },
      "execution_count": null,
      "outputs": [
        {
          "output_type": "execute_result",
          "data": {
            "text/plain": [
              "(None, '53ae86951b38d91cc01a90e7cf9e7089ffff0a4b81a46fcd02a104d696247cb2')"
            ]
          },
          "metadata": {},
          "execution_count": 20
        }
      ]
    },
    {
      "cell_type": "code",
      "source": [
        "def get_op_returns(tx_head,prefix=''):\n",
        "  op_ret,next_txn=get_op_return(tx_head)\n",
        "  if (op_ret and next_txn):\n",
        "    return get_op_returns(next_txn,prefix+op_ret)\n",
        "  if op_ret==None:\n",
        "    return prefix\n",
        "  else:\n",
        "    return prefix+op_ret"
      ],
      "metadata": {
        "id": "Nxrtw5KZqOP7"
      },
      "execution_count": null,
      "outputs": []
    },
    {
      "cell_type": "code",
      "source": [
        "print(bytes.fromhex(get_op_returns('6de5b84940f73653196800c747f3a6f86752e4dcc5ccbb3fbc81fcb2d20e1672')).decode('latin'))"
      ],
      "metadata": {
        "id": "4WJIxtxhn8Ej",
        "outputId": "3ec79079-92a8-42d2-8557-4370448ed17f",
        "colab": {
          "base_uri": "https://localhost:8080/"
        }
      },
      "execution_count": null,
      "outputs": [
        {
          "output_type": "stream",
          "name": "stdout",
          "text": [
            "Ý\u0002\u0000\rBlue Monday\n",
            "\n",
            "How does it feel\n",
            "When you treat me like you do\n",
            "And you've laid Ý\u0002\u0001\ryour hands upon me\n",
            "And told me who you are?\n",
            "I thought I was mistaken\n",
            "And I tÝ\u0002\u0002\rhought I heard your words\n",
            "Tell me, how do I feel?\n",
            "Tell me now, how do I feelÝ\u0002\u0003\r?\n",
            "Those who came before me\n",
            "Lived through their vocations\n",
            "From the past untilÝ\u0002\u0004\r completion\n",
            "They will turn away no more\n",
            "And I still find it so hard\n",
            "To say wÝ\u0002\u0005\rhat I need to say\n",
            "But I'm quite sure that you'll tell me\n",
            "Just how I should fÝ\u0002\u0006\reel today\n",
            "I see a ship in the harbor\n",
            "I can and shall obey\n",
            "But if it wasn't fÝ\u0002\u0007\ror your misfortunes\n",
            "I'd be a heavenly person today\n",
            "And I thought I was mistaÝ\u0002\b\rken\n",
            "And I thought I heard you speak\n",
            "Tell me how do I feel?\n",
            "Tell me now, how Ý\u0002\t\rshould I feel?\n",
            "Now I stand here waiting\n",
            "I thought I told you to leave me\n",
            "WhiÝ\u0002\n",
            "\rle I walked down to the beach\n",
            "Tell me, how does it feel\n",
            "When your heart growÝ\u0002\u000b\rs cold?\n",
            "How does it feel?\n",
            "How does it feel?\n",
            "How does it feel?\n",
            "And I thought Ý\u0002\f\rI told you to leave me\n",
            "While I walked down to the beach\n",
            "Tell me, how does itÝ\u0002\r\r feel\n",
            "When your heart grows cold\n"
          ]
        }
      ]
    },
    {
      "cell_type": "code",
      "source": [
        "get_op_returns('90c01813156e594c4dbe8bd39436597c68ffaaa201c458f9c1ccae3e86d2c33f')"
      ],
      "metadata": {
        "colab": {
          "base_uri": "https://localhost:8080/",
          "height": 35
        },
        "id": "V_kCgEn-s3X5",
        "outputId": "0d3f9d74-c32d-4c73-d1a5-373acceee844"
      },
      "execution_count": null,
      "outputs": [
        {
          "output_type": "execute_result",
          "data": {
            "text/plain": [
              "'c1dd000103ff010040004005506574657220426561'"
            ],
            "application/vnd.google.colaboratory.intrinsic+json": {
              "type": "string"
            }
          },
          "metadata": {},
          "execution_count": 22
        }
      ]
    },
    {
      "cell_type": "code",
      "source": [
        "full_op=get_op_returns('74de5e9bf0c292287e08c201d26676e26a5c2f21ddb639e9268af6d52d0e0c1c')"
      ],
      "metadata": {
        "id": "jOgm1piHtHRo"
      },
      "execution_count": null,
      "outputs": []
    },
    {
      "cell_type": "code",
      "source": [
        "A= [get_op_returns(trans) for trans in get_output_spend_txns('a01e8625d653f4a8686b5b9e20ca653e59ebcd8bf2ca2a7b8370fdc52417f7b9')]"
      ],
      "metadata": {
        "id": "0gp-DfclLdR1"
      },
      "execution_count": null,
      "outputs": []
    },
    {
      "cell_type": "code",
      "source": [
        "A"
      ],
      "metadata": {
        "id": "8SsqXIuhMGRD",
        "outputId": "d4c2fe02-3210-4594-e039-6e35e5de0444",
        "colab": {
          "base_uri": "https://localhost:8080/"
        }
      },
      "execution_count": null,
      "outputs": [
        {
          "output_type": "execute_result",
          "data": {
            "text/plain": [
              "['c1dd000103ff010040004005506574657220426561',\n",
              " '841f28c230841ee7b9ce6b5cd639ad7b5af739ee73dce83df184230846108c6318c65294a529ce739d273a5294a52b4a56b5b56d6adad5b5eb6bdad7b5af5b5eb6bd6d7adaf5b5ed6c5af8e73bdef79d',\n",
              " 'ef39ddf39ef7b18cd6d79d2b39d2b5b529594a7294a319423184630846108421083e0f7c1ef841ef8c1ef739ed6bdcd735ad631ac639ac735af735ee73dce83df07be0f7c6108c2118c6318ca529ce73',\n",
              " '9ce739ce749ce94a5694adad7ad6d4adab5b56b6adaf6b5f18cdaf8adaf5ade95b5f19f7bdef7b7ce6b7be77bdef6d7c4e95a52b6b5e94aca5394a518c65295ad794a708421083df07be0f7c20f841ef',\n",
              " '7358e6b1cd6bdad7358d631ac5b58c7358e6b5ee73dce7b9d07be0f7c1f084211842318ca5294a5294a529ca539ce75ad6f7c5ad7ad6d4a5694ad295a52b4ad73ad6f9cceb55b5eb5b6f9cffffffffde',\n",
              " 'ff7bdf7bddefad6bce95c6739d6b18cd6b694a76b5bbdef39cc6335ad61083def7bdf07c20f7bdef7358e6b1cd639ac6b18d62d8b5b58c6b18e631cd6bdce7b9cf73a0f7c1ef83df1842528ca5194a52',\n",
              " '94a52956b5ad6d294eb5b6339c6313a5274a5294a5293a5294adaf7bdf1ad6fbdeffffffffffffdef77bdffffbdf294ad295df39ef7bdef739cdef7defb9ce7bdeef7b9ce6108bdef7bdef7bdef7bdef',\n",
              " '7316e631cd6398c6b16c5ad8b5b16b6b16d631ac639ad739cf739ee73def83df18c6318c6318c6318c6318d6b5def79ce695ad294bdef6bde94ace74a52b5b5b5ad6b5be739ffffffffbdef7bdffffff',\n",
              " 'ffbdef7bd8c6694a6739f7bbbdeb7bdf7bdf7bdce73bdf739dce734a52318d294a52b07bdef7bdef6ad4d5adac5b58b6b16c5ad8b5b16b62d6c5ad8b5b58c735ae6b5ce73dce8421184210846308c631',\n",
              " '8c6318c63194a55ad739ce739b5ad9d6b39ceb5bf7bdfffffffffffffffdef7bdeffffef7bfffbfffffffef7b6bdf18c739cef7bbdefbdefffff7bdffffbdee318ad6b8c637bdf39cbdef18c61083def',\n",
              " '5a92b5258a5316a62d4c5ad8b5b16b5ad6b5ad8b5b16b6318d631cd6bdef841f083e0f7c2108c611842318c6318c63294a5295ef7e739def7def7bdeffffef7bdef7fffffffeffbdef7ffef7bdce73de',\n",
              " 'efffeef79ef77def7bddefbbce73ffffffffffdce735ad6f7be739ce77ffffbded6b56b5a94a4a31739ae6b1ac5c1cd839ae6318b5b16b5ad6b5296a5ad6b6316d631ce73def7bdef7be0f7c61094630',\n",
              " '8421084a52a5297bdf5ad77bdf7bdffffffffbdef7bddef339cf39bfffdef7bfff7fddfffdce6fdeeffddfffffffffffffffffffffffffffffff7bddef7fffffffffffffffffff39ce739bdef39cd695',\n",
              " '946149cb17a66f4eef3cde717b460f62d6b5294a52d4a62d6d6b5ce739ce739ce73a108529494a54a4e739def7f7bdffffffffffeffffffffffffffffffffffb5ad6318def7ce73deefffdfffdff77ff',\n",
              " 'f7fddfffffffffffffffffffffffffffffffffffffffffffffffffffff9ce6738b5ad2949ef7bdce83dd6a4b99b6f36eef1fff3fff779aad28f7398c62d6b62d6d6b5ad6b5ad735af73a5296f7be739a',\n",
              " 'd6bbdef7bdffffffffffffbdcfffdffffffffffffffffffffffef7bdef7def7fffffdcffb7eeefffffbddffffffffddefbddfffdfffbffffffffffffffffffffffffffdef77bd527394a549ce52939ce',\n",
              " '9ca38ace90735697317283b169ef57f7797b560f739cd7b9cf739cd6b58c6b5b0842b5aef7bfffffffffffffffffffffffffffffffffdfffbfff7ffffffffffffffffffffffffffffffbbbf733ef73ff',\n",
              " 'ff7bbef37cdebbce7ffefffffffffffffffffffffffdef7fffffffef777bdeb59c6312949ce739adace369c20d5a9285210a4a5ab541cc941f6ad339bd272841ef735ef746308c611842528e739fffff',\n",
              " 'ffffffffffffffffffffffffffffffffffff7ffeffbbfff7fffffffffffffffffff779e6afef73deeef59e6f3bd67bce7ffefffffffffffffffffffffffdeeffffffffffffdeeeb599ce6e739ce6b5ad',\n",
              " 'a4a17a462e629085210a4a5494a9295a52d5aa0f7e717b5ab6b56318c1efad69bdefbdefbdefffffffffffffffffffffffffffffefffffffbfeefffdffb9de6bfee7ffdfffdfffffee7357de6dde6b9b',\n",
              " 'cef59d671bde7fff7ffffffffffffffffffffffffffdde7bdeffffdef318bd29494a3083dce6b5ac839959c270729084a10a421694ad295212a4a56a52d6b94a3ad6bdff6738ad6bbdefffffffffffff',\n",
              " 'ffffff7ffffffffffbfeefbbbf777de6bbcd7799f735dde77abf779f735ff73bcceb16d5e9cd5f7ac6b37d66fde6bbcd7bbcfffffffffffffddf7b9fffbffff7bcd6b59ce718c5ef6a5271841ad6b58c',\n",
              " '7b1517322e5a9084a10a421694ad295a52a4a5694b14b8c61bdebfffffffffffffffffffffffffffffbbddf79bef77de6b79beb16d66dbcdb37aeb15cde99bd716a66d4de6dcd5f79b66f4c565ac5b59',\n",
              " 'be716d62dbcdf7ac737ae6f5ce6b9bcf379f777ef73fff77bcdef5bdef7bd63178c20e735ad6b58c7314f6ae0e6292841ce94214842d295a52b4a5694b58c7b9d394759bf379e6f3de6bfff7ffff7bbc',\n",
              " 'de759be2d4c5eb9bd716a5eb3ad257acef495671ace359c6b38d671c5a7ac57169e6f4b4e38b5316a62d4cdebacdb58b62f6ce2fbd6379bef37e6f3ce6f9ce77bcef7bbdeed6b4e7294a4f7bdac6318b',\n",
              " '6ad4e62e2f6356a418e939d4842d295a52b4a5694b14a6b1738c2d495250ce2dde6bbcd779adeb1acdf38b62d4c5eb7aceb4952519c5f38be9284e2f941f38be717da71bd657acaf495eb3aca18b52f5',\n",
              " '9deb2c5a98bd316a6716deb1bcdf59b6f57ef35ef73dde7bdcf7bbeffbfff739bb5ad083dad6316b6ad4e62a0e5c1cb41ce839d2842d295a52b4a5694b16a7b59283eb38da92ce2dacdf38b6716cdeb8',\n",
              " 'b52f59d692b52559c67184a0f8bdd07364f745ee839b17ba507d650ace149429285692a4a16a4b16a5671b5258b4f37ae6f5cdeb8b5337a6b16deafbd63bcd7ffdfffdff77bde739bd6b339cdcd6b58c',\n",
              " '5a92d5a5ed5ce0e5210731d073a5085a50b4a1694b1497b5938c2b38deb4c5ab8bd717ae2f5b56759c67284a0e8bdd17ba0f6c1cd7b58e6b20e6bdcd735af6b62f74a0e93dd283a7284e5193dd283a92',\n",
              " '85671b5257aced595a92b5256a4af59deb3c5a9acdb9ac7379deb3bd675ace317b5ab4a4e72941ef520eb4a1ab549ed5a507319063a0e749cea42169431297317183e517ce30ad258b5337adeb3ace13',\n",
              " '8be2f73dcd7358e631ac5b58b62d6d5adcc6358c62d6d62ded6358b7358f7360e739ac7b5906b22f6d250b52559c6b495ed4cded8b52d59da92bd657acef6a62d4c5eb8bd717b4e727bded6318b5ad4a',\n",
              " '5a50941d69445cc8356939d06320c7418e939d48429086292d5ae5185ed5d62d8b52f59d2508bdcf6b1cc6316b5ad4a529294a94a5a94a5296a52d4a5a94c5ad8b5a92a5a94c5adac5b98c6b1706b271',\n",
              " '7d2509ca14946b395671a4a1383e927d670ace16a4af59dab3bd677b52d59ce5162d6b5254a4ad496ad2b4a1483c1aba45cd5a50631cc6398e839d273a9296294c52a0e6d250ace549422f6b98b6ad4c',\n",
              " '5a96a52529421284250849d084a52a4a5294a92a5a94b529494a1094a52a5298b5c5ee941f17b60e6bdac7b58f735ed63dac8bdb383a927d24fa4a138be717d250ace35a4ad49460f5ad4a4a5494a928',\n",
              " '6ad4d5a56942d48839917312739cc6398c7319073a5085250e62e717ce308bdaf6adcc5356a629494a50841ce831d063a0e741d083a109425284a5095252a4a5284a1083a108425494b58c7358c5ad6a',\n",
              " '52d2a5252b529ab5bdac839917b65074a0e8bdb17362f6ca0e941d38beb38e2f6ce738c5ed5ad2736ad4d5a98a4b5697b571731aa49cc6398c7318e6320e75a9307320e63d8a72d4d5a5ab531494a107',\n",
              " '3a0c6398c831d063a0c741ce839d073a0e7421084a1284210841ce839d0842108421084210842108421084a109425494b14a7316e62ded641cc8b9b17b62f6c5ed8bdb17b6717d692b5696b5738bf37b',\n",
              " '6ad4d5a9ab4b5697314f6adec52507398c7319073a9085a50e629ec5396a6ad2d5a58a4ad2839d0631cc6398c8318e639ca6398e839d0639cc639ce739d073a0e741ce839d073a0e741ce839d0739ce7',\n",
              " '421084210842108425296294d5a9cc5bdab8b9b17b60e63dac7316f6ae0e641cd7b9b17ba728d2726ad4d5a9ab4b5697b14f629cc4b12849ce839d483a9286292e629cc539696a92d525894a90839ce7',\n",
              " '39ce7398c7318e631cc739ce839d0739ce7398c731ce73a0e741ce731ce631cc739ce739ce631ce739ce839d073a0e739ce839d094218a5398b7b58f6b1ab5356a62d2c5258a4b1696b16f7360e6c5ee',\n",
              " '6ad2d5a9ab4b56a6ad4d5a5ab4b5485a508399483ad286292d5a5cb535496290c4a1484250741ce739ce7398c7318e739ce7398e739d073a0e739ce7318e739ce7398c7318e631cc6398c7318e631cc6',\n",
              " '398c7318e631cc6398c7298e5318e73b14a6ad4c5258a4b1496b14e6b20f74a309ca339465184a0f6ad2d5a5ab4b56962d2c525ab4b98a6a92a41d483ad286292d525ab4b5496a90d521894290849ce7',\n",
              " '39ce739ce7318e631cc6398c7318e84210841ce739ce631cc6398c7318e631cc6398c739ce731cc6398c6318c631ca6394c6298e5298a6329085a52b4a58a4bdab8c1d49c6f6aeb38def5eef7fff7ffe',\n",
              " '6ad2d5a9ab535696ad2c5a58b4b98a6a92a41d483ad285a50d525ab4b5486a92c5218942d284a0e839ce739cc7398e731cc6398c7318e739d0841ce7318e631cc6398c7318e631cc639ce739ce739cc6',\n",
              " '398c7318c5298a5314a6294c5298a5320e74a1094218a4b98b839928be938dab3c5edad679cdf7bd6ad2d5a5ab4b5696ad4d5a9ab4b56a6ad2b4a189431286292d5a5aa431486290c5218942d2852509',\n",
              " '420e739cc6398e739d073a0e841ce839ce73a0e739ce7318c6398c7318c5318c639ce739ce631cc6398c7318e631cc6394a6294c4298a5318c6398c941d6a4b58b7b99183a517d271b5678bdb38beb59',\n",
              " '6292d5a5ab4b5696ad2c5a5ab4b56962d2c521aa435496a92c521aa435486250c4a16942d285a10941d273a5074a10942128425084a10839d0739ce739ce839ce6318c6318c6318c6318c6318c6318c6',\n",
              " '318c6318c631cc6314c6294c5298a5314a6318c94216a4b58a7b5907b65074e50a4e56ad2f6ae7176292c5258a4b56962d2c5258b4b5696292c5258a435496250d525aa431486250c5218942d285a50b',\n",
              " '421483a9075a50c5258a4ad285210939d073a0e741ce939d0739ce74210739cc6318c6318c739ce739cc6398c6318c6314a6294c5298a5314a6318c94216a4b56a735907b63074a2fa4e36acef6ae2f6',\n",
              " '6290b5216a431496292c5258a4b1496292c52589431286290d5a5aa435486a90d5218a431486250c4a16942d285a50b4a14842d285a50a4210739cc6398c739ce739ce7421073a0e7420e84a10a4a149',\n",
              " '4250841ce7318c6318c6318c5298a5314a5398c94216a4b56a7358f7362f74a2fa4e35a4ef6a5ed55a90b4a16942d286292c5258a4b1496292c52589431486ad2d521aa435486a90c4a189431286250b',\n",
              " '4a16942d085a10b41d6842908520e939d0631cc6398ca3a14849cc7294c5298c6398c742109421494290841ce839d0739ce7318c6318c6318c639ce94a16a4b56a735707b63074e509ca35a4ab49dab4',\n",
              " '5a50b4a169429285a50b4a16a42d486292c525aa4b5486a92d521aa435486a90d521aa435486250b49d6942d285a50b41d483a50741ce7318c5324c75a10c4258642ce8314c42148429085214a5298c6',\n",
              " '3a0e749ce839d0739cc6318c5294a5294a539ce94a16a4b58b7b9907b63074a2f9ca35a4ad59ded462d6a4a149429085210a4214942d285a50b4a18a4b5486a90c521aa435486a90e525cb4b5496290c',\n",
              " '4a189431486290b4a14739cc6398c93a1895352a6a54f52d05324c749d052988429085210a421485294c6398c83990631cc6318c5294a5298c6420ea4a58b5358b7358f7360f6c60e945f39429395692',\n",
              " '6b18c62d6a529284a10941d283a5084a10a4a18a431486a92d521aa435496a92e5a5cb4b96972d2e5a5aa4b5486290b49d68431296a54e5b20d73d8d82d8d4a90631885394c73188429085210a421484',\n",
              " '29085398c839d0731cc6314a5294a529cc64a10a5258b5358b7358f7360f6c5ee8c1d283e72852716318e735ce7316b5a94a52529421084210a4a18a4b1496ad2c521aa435486290c52189431276250c',\n",
              " '4a18a4396a7292e529ea5b94b6a54c425a9535297254c42589528e8498e7298c529085210a32106421085318c8318e6298a5294a5214a529cc6420ea4a18b4b58b7358f7320f6c60e946149cab495693',\n",
              " '7c20e739ad6b5ad5ad6c62d6b521084a10a4a18a4b1496290c521aa43127624ec49d893b1276250c4a1aa4c14b7a54d4a9a84b10959d0b3a167435096212b3a16742ce85a12b42547418a620c8319063',\n",
              " '21084314a7318e6298a5294a4214a529cc6420ea4a16a4b58a7358f7362f74a2fa4e35a4ad5a5ed5631ad6b9ad6b1ac5ad4b5ad4a525294a10a4a16a431486292d52189431286250c4a1aa435486290c',\n",
              " '521ca4bd0969d0c3a1663a8c759d0b3a1664310859d0a31d263a4c759d0c425aa5b96c418e31906321084314a7318e631cc6294a5294c6320e74a10a5258b4b58b7b9907ba307ce50a4a349cad5a5ef5',\n",
              " '8420f7c1ce735ad5294a4a54a525295252a4a16942d285a50b4a1693b1286250c5218a431275a0eb41da943d0961d0b31d663a8c759d0b3a1663ace8518ea31d26324c759d0c3a1884b94b7254831864',\n",
              " '21084314a7314e631cc6294a5294e6321075250b525ac53dac83db183a517ce50a4e56ad2f6ae2f6635ab6316b62d6b529494a54a521084210841d083a0e741ce839d483b1286250c4a1693ad0751cc9',\n",
              " '3998843909618eb31d663ace859d0b3a1463ace7598e931d263a8e759d0c42187430e869d0d424a429484398c7318e6318a5314a6315073a9285a92d629cd63dcd83db183a517ce50ad256aced5a5ed5',\n",
              " '4a54a5294a525294a52b5ad6b5a52939ce6318c6318c6318c7319283ad286250c49d683ad0751cca39d884390961ceb31d663ace86212c3a1663ace8518e931d263a8e761d0d3a187430e869d0a31c84',\n",
              " '21485398a83990731cc6318a73992842d4962d4d629ac5b9ab839907b63074a2f9ca149c6b495ab36318c6b56b6294b4a5294a5294a52939ce6318a5294a5294a629507329076250c49d893ad275a0ea',\n",
              " '41d483b50969cea29946328c759d0c3a167430e859ce931d463ace86210d3a187434e861d052148421485314a731907320e641ce841d4942d4962d4c5a9ac5bdac7b9907b63074a0e945f3942938d672',\n",
              " '5ad6a529294a529529494a5294a10839ce6318a5294a5294a629507329075a4eb49d8942d275a0ea39d073310869cea29925324c6598eb3a1673ace851cea31d473b0e86a10d421c7434e8394c4210a4',\n",
              " '21485314a7318e6320e641ce941d4942d4962d4d62dcd5bdcc839907b62f6c60e945f38be72852505ad6a529294a94a4a5294a5084210739ce6318a5290a5294a5294c62a4e65a50b4a1683a4e649cc8',\n",
              " '398e52a8e769cea299052a4a6518ea31d663acc7518e9319463a8c761d0e421e84a8c721084210a421485314a6294c5298c5398c941d494b16a6ad4e62dcd63dcc83db17b62f6c60e8c1d28ba517ce2f',\n",
              " '6318a5294a5294a4a528421084210839ce6318a5294a5294a5294c52a4e75a50a41d27324e6418c7294a4224c769cea298e42a0a6518ea31d463a8c7498c931926324a6598ee3a1a73948420c84210a4',\n",
              " '21485290a5210a4294a5398a941d6a4b16a6b14e6aded63dcc83db17b6306c60e941d28ba717d2506b5aa5294a529294210841d0739ce739ce7398c6318c6294a4214a52a5075a50941d0731cc5394a6',\n",
              " '294c52a4c6598c9214c429ca5518ca31946328c7498c829905324a6598ed39d263106421084210a42148421084210a4214a5398c94216a4b16a7316e6adee641cc83db17b63074a0e9c5f39429285250',\n",
              " 'bdeeb62d4a525294a108421083a508420e739ce6318c6294a5294a52a0e7520e8318e629cc5418a7314e629ca5394a62148421485494ca31946328a6494c8298e52a0a6598cc39d263108420c8421084',\n",
              " '2106421084210a4218a541cea4a16a4b56a7316f6b20e641ed8c1b28ba717ce4fa4a149c6938d671ffff5ad56b5a5294210739ce73a1074a10942107398c6294a5294a529cc6318a529506320e649cc8',\n",
              " '3990631cc5314a52948421484414ca31946324a6414c8298e529ca5494cc39d063106418c83190832106421085210c529cc64a0eb4a18b4b58a7356f7320f6c60d945d393e9285671ad255a4ad59dab3',\n",
              " 'ffffef7a739a52939ce842129425084a1094210739cc6314a5294a5294a521085294e6324e649cc7314e62a0c5398a7294c529484310a8294e529c85394a7294a429084390aa318c52906420c8319083',\n",
              " '2108429086294e6320e75250b525ab5398b7b5707322f6ca0e9c5f4942938d691b5256acef59ded4ffffffffbdec6315294a525494a5285250a4a12839cc6314a5294c5294a529085294e631cc6398c8',\n",
              " '39907320c5398a7294c5298a5210841906320c6420c841906320c6420c84210842106420c841908421484314a731907329075a50c525ab5398b7b570732306ca0e9c5f4942b38d691ad256a4ad59deb3',\n",
              " 'ffffffffffff39c7bde739cc631ce739ce839d073a0e7318c5294c6314a5294a5294a5298a5314a731906320c6394a6294a4218a531485210842106420c84190842108421084210842106420c84210a5',\n",
              " '298a5398c8399483ad286292d5a5cc53dab839907b6306ca0e9c5f39429285270ace35a4ad495ab3fffffffffffffffdef6e73929425084a1094210739ce6398c6318a5294a5314a6294a421484294a6',\n",
              " '294c5298a5314a5210a4214a429085210a42148429085210a42148429085210842106421085294c529cc641cc941d6942d486ad2e629ed5c1ab839917b6306ca0e9c5f38be727d250a4e15a4ad59ded4',\n",
              " 'fffffffffffffffffffad69ee729494a5094a128420e739cc6318a5294a5318a5294a42108421084210a5214a429084210842148429085210a4218a529086210a421484314a6210a421084314a6294e6',\n",
              " '320e64a0ea4a18a435697314f629ed5c1cc839917b6506ca0e945d38be717d250ace35a4ad59deb4fffffffffffffffffffffff39cb5ad4a50841d284250741cc7318a529084294a6294a52108421084',\n",
              " '210842108421084210842106429085210c5218a4314a6294e5298a5394a6294e529cc5398c83990732507524eb521ab4b96a7b14f6ae0e5c1cc8bd917b6506ca0e945d38ba727d250ace35a46d495ab3',\n",
              " 'ffffffffffffffffffffffffffe7386b18839ce73a10741ce7398c6314a5294a6318a52908421084210842108421084210842106421086294a421484314a731907320c6418c831907320e641cc941d48',\n",
              " '3ad286292d5a5ab5398a7b57072e0e645ec8bd917b6506ca0d945d38ba727d250a4e35a46d495ab3ffffffffffffffffffffffffffffffc630d6b50841ce741ce7398e6318a5294a6318c63108421084',\n",
              " '2108421084210842108421084210852908421084398a941d283a5074a0e941d283a507524eb4a169431496ad2d629cc53dab8357072e0e645ec8bd917b6506ca0d941d38ba717ce4fa4a149c6d4962d4',\n",
              " 'ffffffffffffffffffffffffffffffffff8c5d8c5a0e741ce7398e6318c6314a6294e63108421084210632108421085294a421084210842108420c63398cb5216942928520ea4a149429285a50c5258b',\n",
              " '4b5697314e629ed5bdab8397072e0e645ec8bd917b64f6ca0d941b283a7174e2fa4a159c6d495ed3ffffffffffffffffffffffffffffffffffef7ab5aa94a39cc7318e6318c6318a5294c6314a521084',\n",
              " '210842108421085210a521484210842106320c64398cc5a58a4ad285250b4a16942d486292c5a5ab4b98a7314f6aded5c1ab839707322f645ec8bdb17b6506ca0d941b28365074e2ea4a159c6b48da92',\n",
              " 'ffffffffffffffffffffffffffffffffffffffbded2734a507318c6318c6318c6294c6314a5294a5294a42108421084210a5294a5294a42108421084318ad5a9ab4b1495a90b4a16a4314962d2d5a5ab',\n",
              " '5398a7b56f6aded5c1cb839917322f645ec8bdb2836506ca0d941b28365074e2ea49f49c2b38d691ffffffffffffffffffffffffffffffffffffffffff39b8c6294a4e7318c6318c6314c6318c6294a5',\n",
              " '294a5294a5294a6294a5294a5210842108421084294ac5a5ac535696292b5216a4b1696ad2d5a5cc53dab7b56f6ae0e5c1cc839917b22f645ed8bdb2836506ca0d941b28365174e2e9c9f4942b38d691',\n",
              " 'fffffffffffffffffffffffffffffffffffffffffffffdef5084107398a5314a6318e6318c621085294a5298a5318c6294a5210842108421084210842908b521cd5b98a6ad4c5a58b5356a6ad4d629cd',\n",
              " '5bdab7b5706ae0e641cc8bd917b22f6c5ed8bdb17b6506ca0d941b283a5174e2fa49f4942b385671ffffffffffffffffffffffffffffffffffffffffffffffffd9ce1cd69ce7318c6318c6314a5214a5',\n",
              " '294a5298a5318c5294a52108429485294a529484294aa49dcd5b9ab7314d629ac5398a7314e629ed5bdab7b57072e0e645cc8bd917b22f6c5ed8bdb17b6506ca0d941b283a5174e2e9c5f493e9285670']"
            ]
          },
          "metadata": {},
          "execution_count": 25
        }
      ]
    },
    {
      "cell_type": "code",
      "source": [
        "print(bytes.fromhex(full_op))"
      ],
      "metadata": {
        "id": "-uG1wb6cKEva"
      },
      "execution_count": null,
      "outputs": []
    },
    {
      "cell_type": "code",
      "source": [
        "import numpy as np\n",
        "import cryptos\n",
        "from PIL import Image\n",
        "\n",
        "def read_image(txn_id):\n",
        "  doge=cryptos.Doge()\n",
        "  img_header_tx_data=doge.fetchtx(txn_id)\n",
        "  op_return=img_header_tx_data['outputs'][1]['script'][10:]\n",
        "  utxo_id=img_header_tx_data['inputs'][0]['from_output']['txid']\n",
        "  blk_height= doge.block_height(txn_id)\n",
        "  cand_txns=doge.block_info(blk_height)['tx_hashes'][1:]+doge.block_info(blk_height-1)['tx_hashes'][1:]+doge.block_info(blk_height+1)['tx_hashes'][1:]+doge.block_info(blk_height+2)['tx_hashes'][1:]\n",
        "  cand_txns_info=[(cand,doge.fetchtx(cand)) for cand in cand_txns]\n",
        "  img_txn_info=[ ( info['inputs'][0]['from_output']['output_no'],info['outputs'][1]['script'][10:] ) for (_,info) in cand_txns_info if info['inputs'][0]['from_output']['txid']==utxo_id]\n",
        "  img_data_list=sorted(img_txn_info)\n",
        "  hex_header=img_data_list[0][1]\n",
        "  img_hex = ''.join([elem[1] for elem in img_data_list[1:]])\n",
        "  image_bytes=bytes.fromhex(img_hex)\n",
        "  L=int(hex_header[14:18],16)\n",
        "  W=int(hex_header[18:22],16)\n",
        "  B=int(hex_header[22:24],16)\n",
        "  print(L,W,B)\n",
        "  print(len(img_data_list))\n",
        "  sparkle_bits=message_2_bit_array(image_bytes,mode=None)\n",
        "  spark_array=bitarray2imgarr(sparkle_bits,imgshape=(L,W),bit=B,color=1).squeeze()\n",
        "  return op_return,spark_array\n",
        "  \n",
        "def read_image_color(txn_id):\n",
        "  doge=cryptos.Doge()\n",
        "  img_header_tx_data=doge.fetchtx(txn_id)\n",
        "  op_return=img_header_tx_data['outputs'][1]['script'][10:]\n",
        "  utxo_id=img_header_tx_data['inputs'][0]['from_output']['txid']\n",
        "  blk_height= doge.block_height(txn_id)\n",
        "  cand_txns=doge.block_info(blk_height)['tx_hashes'][1:]+doge.block_info(blk_height-1)['tx_hashes'][1:]+doge.block_info(blk_height+1)['tx_hashes'][1:]+doge.block_info(blk_height+2)['tx_hashes'][1:]\n",
        "  cand_txns_info=[(cand,doge.fetchtx(cand)) for cand in cand_txns]\n",
        "  img_txn_info=[ ( info['inputs'][0]['from_output']['output_no'],info['outputs'][1]['script'][10:] ) for (_,info) in cand_txns_info if info['inputs'][0]['from_output']['txid']==utxo_id]\n",
        "  img_data_list=sorted(img_txn_info)\n",
        "  hex_header=img_data_list[0][1]\n",
        "  img_hex = ''.join([elem[1] for elem in img_data_list[1:]])\n",
        "  image_bytes=bytes.fromhex(img_hex)\n",
        "  L=int(hex_header[14:18],16)\n",
        "  W=int(hex_header[18:22],16)\n",
        "  B=int(hex_header[22:24],16)\n",
        "  print(L,W,B)\n",
        "  print(len(img_data_list))\n",
        "  sparkle_bits=message_2_bit_array(image_bytes,mode=None)\n",
        "  spark_array=bitarray2imgarr(sparkle_bits,imgshape=(L,W),bit=B,color=3).squeeze()\n",
        "  return op_return,spark_array\n",
        "  "
      ],
      "metadata": {
        "id": "cWrzYStAO6SY"
      },
      "execution_count": null,
      "outputs": []
    },
    {
      "cell_type": "code",
      "source": [
        "def read_image_fund(txn_id):\n",
        "  doge=cryptos.Doge()\n",
        "  List=get_output_spend_txns(txn_id)\n",
        "  #img_header_tx_data=doge.fetchtx(L[0])\n",
        "  #op_return=img_header_tx_data['outputs'][1]['script'][10:]\n",
        "  img_data_list=[doge.fetchtx(elem)['outputs'][1]['script'][10:] for elem in List ]\n",
        "  hex_header=img_data_list[0]\n",
        "  img_hex = ''.join([elem for elem in img_data_list[1:]])\n",
        "  image_bytes=bytes.fromhex(img_hex)\n",
        "  L=int(hex_header[14:18],16)\n",
        "  W=int(hex_header[18:22],16)\n",
        "  B=int(hex_header[22:24],16)\n",
        "  print(L,W,B)\n",
        "  print(len(img_data_list))\n",
        "  sparkle_bits=message_2_bit_array(image_bytes,mode=None)\n",
        "  spark_array=bitarray2imgarr(sparkle_bits,imgshape=(L,W),bit=B,color=1).squeeze()\n",
        "  return hex_header,spark_array\n",
        "\n",
        "def read_image_fund_color(txn_id):\n",
        "  doge=cryptos.Doge()\n",
        "  List=get_output_spend_txns(txn_id)\n",
        "  #img_header_tx_data=doge.fetchtx(L[0])\n",
        "  #op_return=img_header_tx_data['outputs'][1]['script'][10:]\n",
        "  img_data_list=[doge.fetchtx(elem)['outputs'][1]['script'][10:] for elem in List ]\n",
        "  hex_header=img_data_list[0]\n",
        "  img_hex = ''.join([elem for elem in img_data_list[1:]])\n",
        "  image_bytes=bytes.fromhex(img_hex)\n",
        "  L=int(hex_header[14:18],16)\n",
        "  W=int(hex_header[18:22],16)\n",
        "  B=int(hex_header[22:24],16)\n",
        "  print(L,W,B)\n",
        "  print(len(img_data_list))\n",
        "  sparkle_bits=message_2_bit_array(image_bytes,mode=None)\n",
        "  spark_array=bitarray2imgarr(sparkle_bits,imgshape=(L,W),bit=B,color=3).squeeze()\n",
        "  return hex_header,spark_array"
      ],
      "metadata": {
        "id": "5koX26ubUvx7"
      },
      "execution_count": null,
      "outputs": []
    },
    {
      "cell_type": "code",
      "source": [
        "\n",
        "op_ret,sp_ar=read_image('53ae86951b38d91cc01a90e7cf9e7089ffff0a4b81a46fcd02a104d696247cb2')"
      ],
      "metadata": {
        "colab": {
          "base_uri": "https://localhost:8080/"
        },
        "id": "qY_BU0bMWH_m",
        "outputId": "94e5a187-ce50-4f1f-d894-0a83ebca99bb"
      },
      "execution_count": null,
      "outputs": [
        {
          "output_type": "stream",
          "name": "stdout",
          "text": [
            "64 64 5\n",
            "33\n"
          ]
        }
      ]
    },
    {
      "cell_type": "code",
      "source": [
        "from PIL import Image\n",
        "Image.fromarray(sp_ar)"
      ],
      "metadata": {
        "colab": {
          "base_uri": "https://localhost:8080/",
          "height": 81
        },
        "id": "XOMXNCV_Y63R",
        "outputId": "8b655681-f019-47c0-cb22-92a5a5293575"
      },
      "execution_count": null,
      "outputs": [
        {
          "output_type": "execute_result",
          "data": {
            "text/plain": [
              "<PIL.Image.Image image mode=L size=64x64 at 0x7F1814CD5650>"
            ],
            "image/png": "[encoded data removed]"
          },
          "metadata": {},
          "execution_count": 30
        }
      ]
    },
    {
      "cell_type": "code",
      "source": [
        "op_ret_color,sp_ar_color=read_image_color('90c01813156e594c4dbe8bd39436597c68ffaaa201c458f9c1ccae3e86d2c33f')"
      ],
      "metadata": {
        "id": "-v-Meq_2KzZd",
        "outputId": "b3522b6b-7db6-4ce2-82aa-7999d02304f0",
        "colab": {
          "base_uri": "https://localhost:8080/"
        }
      },
      "execution_count": null,
      "outputs": [
        {
          "output_type": "stream",
          "name": "stdout",
          "text": [
            "64 64 5\n",
            "97\n"
          ]
        }
      ]
    },
    {
      "cell_type": "code",
      "source": [
        "\n",
        "sp_ar_color.shape"
      ],
      "metadata": {
        "id": "JNtAa9mwLxf4"
      },
      "execution_count": null,
      "outputs": []
    },
    {
      "cell_type": "code",
      "source": [
        "Image.fromarray(sp_ar_color)"
      ],
      "metadata": {
        "id": "PX_l1JSNLXvY",
        "outputId": "6417c9be-2a59-4387-88b0-4edd0c4bba92",
        "colab": {
          "base_uri": "https://localhost:8080/",
          "height": 81
        }
      },
      "execution_count": null,
      "outputs": [
        {
          "output_type": "execute_result",
          "data": {
            "text/plain": [
              "<PIL.Image.Image image mode=RGB size=64x64 at 0x7F1814794B10>"
            ],
            "image/png": "[encoded data removed]"
          },
          "metadata": {},
          "execution_count": 28
        }
      ]
    },
    {
      "cell_type": "code",
      "source": [
        "op_ret_color"
      ],
      "metadata": {
        "id": "ydPX5PxOZaut"
      },
      "execution_count": null,
      "outputs": []
    },
    {
      "cell_type": "code",
      "source": [
        "bytes.fromhex(op_ret_color[24:]).decode()"
      ],
      "metadata": {
        "id": "bN8fsg8MoJ0T"
      },
      "execution_count": null,
      "outputs": []
    },
    {
      "cell_type": "code",
      "source": [
        "OPR,IMG=read_image_fund('c1542c10399a09a5471799133c472a6652d5cb3b7b421e1a7e80e2039f5b393b')"
      ],
      "metadata": {
        "id": "UJGnj3S7qHnJ",
        "colab": {
          "base_uri": "https://localhost:8080/"
        },
        "outputId": "12e223fe-8000-4d38-a348-590f3e2200bd"
      },
      "execution_count": null,
      "outputs": [
        {
          "output_type": "stream",
          "name": "stdout",
          "text": [
            "64 64 5\n",
            "33\n"
          ]
        }
      ]
    },
    {
      "cell_type": "code",
      "source": [
        "print(OPR)\n",
        "Image.fromarray(IMG)"
      ],
      "metadata": {
        "colab": {
          "base_uri": "https://localhost:8080/",
          "height": 99
        },
        "id": "uEIlcnbBIjsi",
        "outputId": "93f5b98e-e9c4-480d-f82a-a35ac7f42423"
      },
      "execution_count": null,
      "outputs": [
        {
          "output_type": "stream",
          "name": "stdout",
          "text": [
            "c1dd000103ff000040004005537061726b6c65f09f9088e2808de2ac9b4d61676963616c436174f09f9088e2808de2ac9be29ca8f09f929c466f7665766572f09f929ce29ca8\n"
          ]
        },
        {
          "output_type": "execute_result",
          "data": {
            "text/plain": [
              "<PIL.Image.Image image mode=L size=64x64 at 0x7F1812C1E910>"
            ],
            "image/png": "[encoded data removed]"
          },
          "metadata": {},
          "execution_count": 40
        }
      ]
    },
    {
      "cell_type": "code",
      "source": [
        "OPR_c,IMG_c=read_image_fund_color('a01e8625d653f4a8686b5b9e20ca653e59ebcd8bf2ca2a7b8370fdc52417f7b9')"
      ],
      "metadata": {
        "colab": {
          "base_uri": "https://localhost:8080/"
        },
        "id": "U-YVyR9sJT_Q",
        "outputId": "3ceb1697-b523-4be6-8f8c-2498ad945d3b"
      },
      "execution_count": null,
      "outputs": [
        {
          "output_type": "stream",
          "name": "stdout",
          "text": [
            "64 64 5\n",
            "97\n"
          ]
        }
      ]
    },
    {
      "cell_type": "code",
      "source": [
        "print(OPR_c)\n",
        "Image.fromarray(IMG_c)"
      ],
      "metadata": {
        "colab": {
          "base_uri": "https://localhost:8080/",
          "height": 99
        },
        "id": "xquyiItSJ2Ng",
        "outputId": "13d9a638-fc88-4357-d3fc-f2d92dc18917"
      },
      "execution_count": null,
      "outputs": [
        {
          "output_type": "stream",
          "name": "stdout",
          "text": [
            "c1dd000103ff010040004005506574657220426561\n"
          ]
        },
        {
          "output_type": "execute_result",
          "data": {
            "text/plain": [
              "<PIL.Image.Image image mode=RGB size=64x64 at 0x7F1812BA1650>"
            ],
            "image/png": "[encoded data removed]"
          },
          "metadata": {},
          "execution_count": 44
        }
      ]
    },
    {
      "cell_type": "code",
      "source": [
        "class Cadena():\n",
        "\n",
        "  def __init__(self,prvkey,data,root_txn):\n",
        "    self.data=data\n",
        "    self.doge=doge=cryptos.Doge()\n",
        "    self.clip=[self.data[i:i+80] for i in range(0,len(self.data),80) ]\n",
        "    self.og_len=len(self.clip)\n",
        "    \n",
        "\n",
        "\n",
        "\n",
        "\n",
        "\n",
        "\n",
        "def embed_message_list(L,privkeyhex,tip=2_00_000_000):\n",
        "    import time\n",
        "    txn_ids=[]\n",
        "    doge=cryptos.Doge()\n",
        "    addy=doge.privtoaddr(privkeyhex)\n",
        "    doge_unspents=only_conf( doge.unspent(addy) )\n",
        "    doge_unspent_total=sum([unspent['value'] for unspent in doge_unspents])\n",
        "    if ( tip*len(L) + 3_00_000_000 ) > doge_unspent_total:\n",
        "        raise Exception(\"Not enough coins available\")\n",
        "    # at this point we know we have enough coins...\n",
        "    # now we will iterate through the list\n",
        "    for op_return in L:\n",
        "        print(op_return)\n",
        "    # make sure to wait for utxos to confirm, if not wait 10 sec\n",
        "        while True:\n",
        "            doge_unspents=only_conf( doge.unspent(addy) )\n",
        "            if doge_unspents != []:\n",
        "              print('COINS UP')\n",
        "              break\n",
        "            time.sleep(20)\n",
        "        doge_unspent_total=sum([unspent['value'] for unspent in doge_unspents]) \n",
        "        doge_gift=doge_unspent_total-tip\n",
        "        doge_outputs=[ {'value':doge_gift , 'address': addy}]\n",
        "        doge_tx=doge.mktx(doge_unspents,doge_outputs)\n",
        "        doge_serial_tx=cryptos.serialize(doge_tx)\n",
        "        doge_inscribed_serial_tx=mk_opreturn( op_return , doge_serial_tx)\n",
        "        doge_inscribed_tx=cryptos.deserialize(doge_inscribed_serial_tx)\n",
        "        doge_signed_inscribed_tx=doge.signall(doge_inscribed_tx,privkeyhex)\n",
        "        broadcast_doge_signed_inscribed_tx=doge.pushtx(doge_signed_inscribed_tx)\n",
        "        txn_ids.append(broadcast_doge_signed_inscribed_tx['data']['txid'])\n",
        "    return txn_ids"
      ],
      "metadata": {
        "id": "kzClIKZQJ8Ni"
      },
      "execution_count": null,
      "outputs": []
    }
  ]
}