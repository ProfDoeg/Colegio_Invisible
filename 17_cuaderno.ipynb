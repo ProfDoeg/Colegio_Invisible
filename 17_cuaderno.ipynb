{
  "nbformat": 4,
  "nbformat_minor": 0,
  "metadata": {
    "colab": {
      "name": "17_cuaderno.ipynb",
      "provenance": [],
      "authorship_tag": "ABX9TyMXsZg7R4A8mEgsci5x94cN",
      "include_colab_link": true
    },
    "kernelspec": {
      "name": "python3",
      "display_name": "Python 3"
    },
    "language_info": {
      "name": "python"
    }
  },
  "cells": [
    {
      "cell_type": "markdown",
      "metadata": {
        "id": "view-in-github",
        "colab_type": "text"
      },
      "source": [
        "<a href=\"https://colab.research.google.com/github/ProfDoeg/Colegio_Invisible/blob/main/17_cuaderno.ipynb\" target=\"_parent\"><img src=\"https://colab.research.google.com/assets/colab-badge.svg\" alt=\"Open In Colab\"/></a>"
      ]
    },
    {
      "cell_type": "code",
      "execution_count": 1,
      "metadata": {
        "colab": {
          "base_uri": "https://localhost:8080/"
        },
        "id": "QU-j-ie4xl3n",
        "outputId": "8b3edbf3-f98d-4f6d-f0cf-e3472ad46cb4"
      },
      "outputs": [
        {
          "output_type": "stream",
          "name": "stdout",
          "text": [
            "Looking in indexes: https://pypi.org/simple, https://us-python.pkg.dev/colab-wheels/public/simple/\n",
            "Collecting eciespy\n",
            "  Downloading eciespy-0.3.11-py3-none-any.whl (11 kB)\n",
            "Collecting eth_keys\n",
            "  Downloading eth_keys-0.4.0-py3-none-any.whl (21 kB)\n",
            "Collecting cryptos\n",
            "  Downloading cryptos-1.36-py3-none-any.whl (69 kB)\n",
            "\u001b[K     |████████████████████████████████| 69 kB 2.9 MB/s \n",
            "\u001b[?25hCollecting coincurve<16,>=13\n",
            "  Downloading coincurve-15.0.1-cp37-cp37m-manylinux_2_17_x86_64.manylinux2014_x86_64.whl (555 kB)\n",
            "\u001b[K     |████████████████████████████████| 555 kB 15.3 MB/s \n",
            "\u001b[?25hCollecting pycryptodome<4.0.0,>=3.9.9\n",
            "  Downloading pycryptodome-3.14.1-cp35-abi3-manylinux2010_x86_64.whl (2.0 MB)\n",
            "\u001b[K     |████████████████████████████████| 2.0 MB 31.3 MB/s \n",
            "\u001b[?25hCollecting eth_keys\n",
            "  Downloading eth_keys-0.3.4-py3-none-any.whl (21 kB)\n",
            "Collecting eth-utils<2.0.0,>=1.8.2\n",
            "  Downloading eth_utils-1.10.0-py3-none-any.whl (24 kB)\n",
            "Collecting eth-typing<3.0.0,>=2.2.1\n",
            "  Downloading eth_typing-2.3.0-py3-none-any.whl (6.2 kB)\n",
            "Requirement already satisfied: cffi>=1.3.0 in /usr/local/lib/python3.7/dist-packages (from coincurve<16,>=13->eciespy) (1.15.0)\n",
            "Collecting asn1crypto\n",
            "  Downloading asn1crypto-1.5.1-py2.py3-none-any.whl (105 kB)\n",
            "\u001b[K     |████████████████████████████████| 105 kB 62.7 MB/s \n",
            "\u001b[?25hRequirement already satisfied: pycparser in /usr/local/lib/python3.7/dist-packages (from cffi>=1.3.0->coincurve<16,>=13->eciespy) (2.21)\n",
            "Collecting eth-hash<0.4.0,>=0.3.1\n",
            "  Downloading eth_hash-0.3.2-py3-none-any.whl (8.8 kB)\n",
            "Collecting cytoolz<1.0.0,>=0.10.1\n",
            "  Downloading cytoolz-0.11.2.tar.gz (481 kB)\n",
            "\u001b[K     |████████████████████████████████| 481 kB 59.8 MB/s \n",
            "\u001b[?25hRequirement already satisfied: toolz>=0.8.0 in /usr/local/lib/python3.7/dist-packages (from cytoolz<1.0.0,>=0.10.1->eth-utils<2.0.0,>=1.8.2->eth_keys) (0.11.2)\n",
            "Building wheels for collected packages: cytoolz\n",
            "  Building wheel for cytoolz (setup.py) ... \u001b[?25l\u001b[?25hdone\n",
            "  Created wheel for cytoolz: filename=cytoolz-0.11.2-cp37-cp37m-linux_x86_64.whl size=1236692 sha256=d801ae332e544395534917224a8e36aa1cffb8e759311543fe273e0c9a38e666\n",
            "  Stored in directory: /root/.cache/pip/wheels/38/70/71/ca13ea3d36ccd0b3d0ec7d7a4ca67522048d695b556bba4f59\n",
            "Successfully built cytoolz\n",
            "Installing collected packages: eth-typing, eth-hash, cytoolz, eth-utils, asn1crypto, pycryptodome, eth-keys, coincurve, eciespy, cryptos\n",
            "Successfully installed asn1crypto-1.5.1 coincurve-15.0.1 cryptos-1.36 cytoolz-0.11.2 eciespy-0.3.11 eth-hash-0.3.2 eth-keys-0.3.4 eth-typing-2.3.0 eth-utils-1.10.0 pycryptodome-3.14.1\n"
          ]
        }
      ],
      "source": [
        "! pip install eciespy eth_keys cryptos"
      ]
    },
    {
      "cell_type": "code",
      "source": [
        "import ecies\n",
        "import eth_keys\n",
        "import coincurve\n",
        "import hashlib"
      ],
      "metadata": {
        "id": "zarlKnDDxuEI"
      },
      "execution_count": 2,
      "outputs": []
    },
    {
      "cell_type": "code",
      "source": [
        "broad_message=b'''Tell the world something. Encrypt with AES key.\n",
        "AES encrypt multiple copes of that key using a list of shared secrets.'''\n",
        "print(broad_message.decode(),len(broad_message))"
      ],
      "metadata": {
        "id": "qz8wc0m3qJPL",
        "outputId": "7fbf91a2-9800-46e4-fa59-c4dc74fd38e0",
        "colab": {
          "base_uri": "https://localhost:8080/"
        }
      },
      "execution_count": 19,
      "outputs": [
        {
          "output_type": "stream",
          "name": "stdout",
          "text": [
            "Tell the world something. Encrypt with AES key.\n",
            "AES encrypt multiple copes of that key using a list of shared secrets. 118\n"
          ]
        }
      ]
    },
    {
      "cell_type": "code",
      "source": [
        "from coincurve.utils import get_valid_secret\n",
        "\n",
        "master_aes=get_valid_secret()\n",
        "broad_message_aes=ecies.aes_encrypt(master_aes,broad_message)"
      ],
      "metadata": {
        "id": "7hCqAYj60hyn"
      },
      "execution_count": 39,
      "outputs": []
    },
    {
      "cell_type": "markdown",
      "source": [
        "Now we have an encrypted message and we want to distribute it so select key holders can open it. \n",
        "\n",
        "We will encrypt the `master_aes` encryption key (using aes) so that each recipient can access it using their special-unique encrypted copy.\n",
        "\n",
        "**HOT DIGGITY DOG !!! HOW DO WE MAKE SURE ONLY THE SELECT KEY HOLDER CAN OPEN THEIR COPY ???**\n",
        "\n",
        "#Diffie Helman Key Exchange...Broadcast"
      ],
      "metadata": {
        "id": "c1k8Q48e1DxY"
      }
    },
    {
      "cell_type": "code",
      "source": [
        ""
      ],
      "metadata": {
        "id": "qUChCFme1Cn-"
      },
      "execution_count": null,
      "outputs": []
    },
    {
      "cell_type": "code",
      "source": [
        "privKey1 = ecies.utils.generate_eth_key()\n",
        "privKey2 = ecies.utils.generate_eth_key()\n",
        "privKey3 = ecies.utils.generate_eth_key()\n",
        "print(privKey1, type(privKey1))\n",
        "print(privKey2, type(privKey2))\n",
        "print(privKey3, type(privKey3))"
      ],
      "metadata": {
        "colab": {
          "base_uri": "https://localhost:8080/"
        },
        "id": "pr1ytF2yUC0m",
        "outputId": "3801c3fb-7782-4249-f8c7-b2106e6dcb58"
      },
      "execution_count": 20,
      "outputs": [
        {
          "output_type": "stream",
          "name": "stdout",
          "text": [
            "0x56b61df9c372f3a4c59fc986c7c1745c6b733de1dd8cdb8ce0dfaab39a48b86c <class 'eth_keys.datatypes.PrivateKey'>\n",
            "0x6655df8927cd5df81737292294210336eb80298d379d5a17b105f60df0eb5751 <class 'eth_keys.datatypes.PrivateKey'>\n",
            "0xa4d3efc650a78d101a9581c24dd273c95511783c58d21b8cc42bdbbbac060623 <class 'eth_keys.datatypes.PrivateKey'>\n"
          ]
        }
      ]
    },
    {
      "cell_type": "code",
      "source": [
        "#convert from ecies private/public key to concurve private/public key\n",
        "\n",
        "k1 = coincurve.PrivateKey(privKey1.to_bytes())\n",
        "k2 = coincurve.PrivateKey(privKey2.to_bytes())\n",
        "k3 = coincurve.PrivateKey(privKey2.to_bytes())\n",
        "\n",
        "p1 = coincurve.PublicKey( privKey1.public_key.to_compressed_bytes() )\n",
        "p2 = coincurve.PublicKey( privKey2.public_key.to_compressed_bytes() )\n",
        "p3 = coincurve.PublicKey( privKey3.public_key.to_compressed_bytes() )"
      ],
      "metadata": {
        "id": "RrCx912DULLJ"
      },
      "execution_count": 41,
      "outputs": []
    },
    {
      "cell_type": "code",
      "source": [
        "shared12 = p2.multiply(k1.secret)\n",
        "shared21 = p1.multiply(k2.secret)"
      ],
      "metadata": {
        "id": "dUQEo3NVUcNT"
      },
      "execution_count": 42,
      "outputs": []
    },
    {
      "cell_type": "code",
      "source": [
        "shared12.format().hex(),shared21.format().hex()"
      ],
      "metadata": {
        "colab": {
          "base_uri": "https://localhost:8080/"
        },
        "id": "JNIBLpVzUiV4",
        "outputId": "58cf559f-ecc4-4e93-89bc-17e97016112d"
      },
      "execution_count": 23,
      "outputs": [
        {
          "output_type": "execute_result",
          "data": {
            "text/plain": [
              "('02097d7834368fbdc1c1e016a5301a9f71be7ed7578fa0aa63ff43e1755b0f34b8',\n",
              " '02097d7834368fbdc1c1e016a5301a9f71be7ed7578fa0aa63ff43e1755b0f34b8')"
            ]
          },
          "metadata": {},
          "execution_count": 23
        }
      ]
    },
    {
      "cell_type": "code",
      "source": [
        "from Crypto.Protocol.KDF import HKDF\n",
        "AES_KEY_BYTES_LEN = 32\n",
        "from Crypto.Hash import SHA256"
      ],
      "metadata": {
        "id": "HNlkFRQxWSJX"
      },
      "execution_count": 32,
      "outputs": []
    },
    {
      "cell_type": "code",
      "source": [
        "ps=[p1,p2,p3]\n",
        "shared_secrets=[p.multiply(k1.secret) for p in ps]\n",
        "shared_keys=[ HKDF(shared_secret.format(), AES_KEY_BYTES_LEN, b\"\", SHA256) for shared_secret in shared_secrets]\n"
      ],
      "metadata": {
        "id": "ki5TAOoA4ET7"
      },
      "execution_count": 44,
      "outputs": []
    },
    {
      "cell_type": "code",
      "source": [
        "access_keys=[ ecies.aes_encrypt(shared_key,master_aes) for shared_key in shared_keys]\n",
        "print(len(b''.join(access_keys)))\n",
        "access_keys"
      ],
      "metadata": {
        "id": "_d16pr3F8RSi",
        "outputId": "a5e0d528-0b09-42f8-a6c9-a2aed6766011",
        "colab": {
          "base_uri": "https://localhost:8080/"
        }
      },
      "execution_count": 47,
      "outputs": [
        {
          "output_type": "stream",
          "name": "stdout",
          "text": [
            "192\n"
          ]
        },
        {
          "output_type": "execute_result",
          "data": {
            "text/plain": [
              "[b'`\\xcc\"\\xcc\\xd6]\\x98M^\\xc5\\x88\\x01\\x0b\\xd49G\\xedG\\tK\\xa8\\xfc(\\x1dC\\xces1,wr\\xd8!\\xe1.\\xae\\x1c\\xae#7\\xd6\\xb5(\\xa4R\\x9f\\xfe\\xce\\x89-d\\x7f\\xb0\\xfb\\xae?s\\xe4X\\xd4\\xae\\xc3\\xc8\\x85',\n",
              " b'\\x8a\\xe1\\xe4\\x91\\x1e\"kP\"\\x82e\\xb9\\xde\\xcd\\xc8A\\xcaq\\x8a`\\xc2\\xa5\\x87\\x00\\xb65\\xcb\\xce\\x8b\\xbc\\x1e\\x15\\xc2\\xdei\\x81\\x89qn\\xbb0.\\xfd\\xff\\x88\\x86A\\x86\\xc3L,\\xf6\\x83\\xfe\\xca\\x13A\\xf7\\x08\\x13\\xd2oc\\xbb',\n",
              " b'\\x9bTZ\\x08\\x8f\\xa5\\xc1\\xccY\\x0c.h\\xd7\\xe5\\x85\\x8f\\x92\\x13\\xa4\\x9c\\xae\\x8a\\x17\\x1dY\\xb6\\xa5\\xcf\\x17\\x04\\x15\\xd0\\x0f\\n_\\xc5\\xb5b2jt&5\\x8b\\x12\\x98\\xf2\\x08NE\\x8c7\\xab\\x9cTT\\xd9^\\xac\\xa5\\x94\\xad\\xc7*']"
            ]
          },
          "metadata": {},
          "execution_count": 47
        }
      ]
    },
    {
      "cell_type": "code",
      "source": [
        "ecies.aes_decrypt(,access_keys[0])"
      ],
      "metadata": {
        "id": "xYWix2Q8Aco6",
        "outputId": "af4e6501-50a9-442d-d9db-9afdc876e2af",
        "colab": {
          "base_uri": "https://localhost:8080/",
          "height": 318
        }
      },
      "execution_count": 58,
      "outputs": [
        {
          "output_type": "error",
          "ename": "ValueError",
          "evalue": "ignored",
          "traceback": [
            "\u001b[0;31m---------------------------------------------------------------------------\u001b[0m",
            "\u001b[0;31mValueError\u001b[0m                                Traceback (most recent call last)",
            "\u001b[0;32m<ipython-input-58-57cf5e39a339>\u001b[0m in \u001b[0;36m<module>\u001b[0;34m()\u001b[0m\n\u001b[0;32m----> 1\u001b[0;31m \u001b[0mecies\u001b[0m\u001b[0;34m.\u001b[0m\u001b[0maes_decrypt\u001b[0m\u001b[0;34m(\u001b[0m\u001b[0mprivKey1\u001b[0m\u001b[0;34m.\u001b[0m\u001b[0mto_bytes\u001b[0m\u001b[0;34m(\u001b[0m\u001b[0;34m)\u001b[0m\u001b[0;34m,\u001b[0m\u001b[0maccess_keys\u001b[0m\u001b[0;34m[\u001b[0m\u001b[0;36m0\u001b[0m\u001b[0;34m]\u001b[0m\u001b[0;34m)\u001b[0m\u001b[0;34m\u001b[0m\u001b[0;34m\u001b[0m\u001b[0m\n\u001b[0m",
            "\u001b[0;32m/usr/local/lib/python3.7/dist-packages/ecies/utils.py\u001b[0m in \u001b[0;36maes_decrypt\u001b[0;34m(key, cipher_text)\u001b[0m\n\u001b[1;32m    216\u001b[0m     \u001b[0;31m# See https://crypto.stackexchange.com/a/71219\u001b[0m\u001b[0;34m\u001b[0m\u001b[0;34m\u001b[0m\u001b[0;34m\u001b[0m\u001b[0m\n\u001b[1;32m    217\u001b[0m     \u001b[0maes_cipher\u001b[0m \u001b[0;34m=\u001b[0m \u001b[0mAES\u001b[0m\u001b[0;34m.\u001b[0m\u001b[0mnew\u001b[0m\u001b[0;34m(\u001b[0m\u001b[0mkey\u001b[0m\u001b[0;34m,\u001b[0m \u001b[0mAES_CIPHER_MODE\u001b[0m\u001b[0;34m,\u001b[0m \u001b[0mnonce\u001b[0m\u001b[0;34m=\u001b[0m\u001b[0miv\u001b[0m\u001b[0;34m)\u001b[0m\u001b[0;34m\u001b[0m\u001b[0;34m\u001b[0m\u001b[0m\n\u001b[0;32m--> 218\u001b[0;31m     \u001b[0;32mreturn\u001b[0m \u001b[0maes_cipher\u001b[0m\u001b[0;34m.\u001b[0m\u001b[0mdecrypt_and_verify\u001b[0m\u001b[0;34m(\u001b[0m\u001b[0mciphered_data\u001b[0m\u001b[0;34m,\u001b[0m \u001b[0mtag\u001b[0m\u001b[0;34m)\u001b[0m  \u001b[0;31m# type: ignore\u001b[0m\u001b[0;34m\u001b[0m\u001b[0;34m\u001b[0m\u001b[0m\n\u001b[0m",
            "\u001b[0;32m/usr/local/lib/python3.7/dist-packages/Crypto/Cipher/_mode_gcm.py\u001b[0m in \u001b[0;36mdecrypt_and_verify\u001b[0;34m(self, ciphertext, received_mac_tag, output)\u001b[0m\n\u001b[1;32m    565\u001b[0m \u001b[0;34m\u001b[0m\u001b[0m\n\u001b[1;32m    566\u001b[0m         \u001b[0mplaintext\u001b[0m \u001b[0;34m=\u001b[0m \u001b[0mself\u001b[0m\u001b[0;34m.\u001b[0m\u001b[0mdecrypt\u001b[0m\u001b[0;34m(\u001b[0m\u001b[0mciphertext\u001b[0m\u001b[0;34m,\u001b[0m \u001b[0moutput\u001b[0m\u001b[0;34m=\u001b[0m\u001b[0moutput\u001b[0m\u001b[0;34m)\u001b[0m\u001b[0;34m\u001b[0m\u001b[0;34m\u001b[0m\u001b[0m\n\u001b[0;32m--> 567\u001b[0;31m         \u001b[0mself\u001b[0m\u001b[0;34m.\u001b[0m\u001b[0mverify\u001b[0m\u001b[0;34m(\u001b[0m\u001b[0mreceived_mac_tag\u001b[0m\u001b[0;34m)\u001b[0m\u001b[0;34m\u001b[0m\u001b[0;34m\u001b[0m\u001b[0m\n\u001b[0m\u001b[1;32m    568\u001b[0m         \u001b[0;32mreturn\u001b[0m \u001b[0mplaintext\u001b[0m\u001b[0;34m\u001b[0m\u001b[0;34m\u001b[0m\u001b[0m\n\u001b[1;32m    569\u001b[0m \u001b[0;34m\u001b[0m\u001b[0m\n",
            "\u001b[0;32m/usr/local/lib/python3.7/dist-packages/Crypto/Cipher/_mode_gcm.py\u001b[0m in \u001b[0;36mverify\u001b[0;34m(self, received_mac_tag)\u001b[0m\n\u001b[1;32m    506\u001b[0m \u001b[0;34m\u001b[0m\u001b[0m\n\u001b[1;32m    507\u001b[0m         \u001b[0;32mif\u001b[0m \u001b[0mmac1\u001b[0m\u001b[0;34m.\u001b[0m\u001b[0mdigest\u001b[0m\u001b[0;34m(\u001b[0m\u001b[0;34m)\u001b[0m \u001b[0;34m!=\u001b[0m \u001b[0mmac2\u001b[0m\u001b[0;34m.\u001b[0m\u001b[0mdigest\u001b[0m\u001b[0;34m(\u001b[0m\u001b[0;34m)\u001b[0m\u001b[0;34m:\u001b[0m\u001b[0;34m\u001b[0m\u001b[0;34m\u001b[0m\u001b[0m\n\u001b[0;32m--> 508\u001b[0;31m             \u001b[0;32mraise\u001b[0m \u001b[0mValueError\u001b[0m\u001b[0;34m(\u001b[0m\u001b[0;34m\"MAC check failed\"\u001b[0m\u001b[0;34m)\u001b[0m\u001b[0;34m\u001b[0m\u001b[0;34m\u001b[0m\u001b[0m\n\u001b[0m\u001b[1;32m    509\u001b[0m \u001b[0;34m\u001b[0m\u001b[0m\n\u001b[1;32m    510\u001b[0m     \u001b[0;32mdef\u001b[0m \u001b[0mhexverify\u001b[0m\u001b[0;34m(\u001b[0m\u001b[0mself\u001b[0m\u001b[0;34m,\u001b[0m \u001b[0mhex_mac_tag\u001b[0m\u001b[0;34m)\u001b[0m\u001b[0;34m:\u001b[0m\u001b[0;34m\u001b[0m\u001b[0;34m\u001b[0m\u001b[0m\n",
            "\u001b[0;31mValueError\u001b[0m: MAC check failed"
          ]
        }
      ]
    },
    {
      "cell_type": "code",
      "source": [
        "dist_keys=[ecies.aes_decrypt(*args)  for args in zip([privKey1.to_bytes(),\n",
        "                                                      privKey2.to_bytes(),\n",
        "                                                      privKey3.to_bytes()],access_keys)]"
      ],
      "metadata": {
        "colab": {
          "base_uri": "https://localhost:8080/",
          "height": 353
        },
        "id": "oOSS3xVxW3iR",
        "outputId": "3cddcd48-af10-47f6-e3b5-9d0d5366a1b9"
      },
      "execution_count": 56,
      "outputs": [
        {
          "output_type": "error",
          "ename": "ValueError",
          "evalue": "ignored",
          "traceback": [
            "\u001b[0;31m---------------------------------------------------------------------------\u001b[0m",
            "\u001b[0;31mValueError\u001b[0m                                Traceback (most recent call last)",
            "\u001b[0;32m<ipython-input-56-aeb975c21727>\u001b[0m in \u001b[0;36m<module>\u001b[0;34m()\u001b[0m\n\u001b[1;32m      1\u001b[0m dist_keys=[ecies.aes_decrypt(*args)  for args in zip([privKey1.to_bytes(),\n\u001b[1;32m      2\u001b[0m                                                       \u001b[0mprivKey2\u001b[0m\u001b[0;34m.\u001b[0m\u001b[0mto_bytes\u001b[0m\u001b[0;34m(\u001b[0m\u001b[0;34m)\u001b[0m\u001b[0;34m,\u001b[0m\u001b[0;34m\u001b[0m\u001b[0;34m\u001b[0m\u001b[0m\n\u001b[0;32m----> 3\u001b[0;31m                                                       privKey3.to_bytes()],access_keys)]\n\u001b[0m",
            "\u001b[0;32m<ipython-input-56-aeb975c21727>\u001b[0m in \u001b[0;36m<listcomp>\u001b[0;34m(.0)\u001b[0m\n\u001b[0;32m----> 1\u001b[0;31m dist_keys=[ecies.aes_decrypt(*args)  for args in zip([privKey1.to_bytes(),\n\u001b[0m\u001b[1;32m      2\u001b[0m                                                       \u001b[0mprivKey2\u001b[0m\u001b[0;34m.\u001b[0m\u001b[0mto_bytes\u001b[0m\u001b[0;34m(\u001b[0m\u001b[0;34m)\u001b[0m\u001b[0;34m,\u001b[0m\u001b[0;34m\u001b[0m\u001b[0;34m\u001b[0m\u001b[0m\n\u001b[1;32m      3\u001b[0m                                                       privKey3.to_bytes()],access_keys)]\n",
            "\u001b[0;32m/usr/local/lib/python3.7/dist-packages/ecies/utils.py\u001b[0m in \u001b[0;36maes_decrypt\u001b[0;34m(key, cipher_text)\u001b[0m\n\u001b[1;32m    216\u001b[0m     \u001b[0;31m# See https://crypto.stackexchange.com/a/71219\u001b[0m\u001b[0;34m\u001b[0m\u001b[0;34m\u001b[0m\u001b[0;34m\u001b[0m\u001b[0m\n\u001b[1;32m    217\u001b[0m     \u001b[0maes_cipher\u001b[0m \u001b[0;34m=\u001b[0m \u001b[0mAES\u001b[0m\u001b[0;34m.\u001b[0m\u001b[0mnew\u001b[0m\u001b[0;34m(\u001b[0m\u001b[0mkey\u001b[0m\u001b[0;34m,\u001b[0m \u001b[0mAES_CIPHER_MODE\u001b[0m\u001b[0;34m,\u001b[0m \u001b[0mnonce\u001b[0m\u001b[0;34m=\u001b[0m\u001b[0miv\u001b[0m\u001b[0;34m)\u001b[0m\u001b[0;34m\u001b[0m\u001b[0;34m\u001b[0m\u001b[0m\n\u001b[0;32m--> 218\u001b[0;31m     \u001b[0;32mreturn\u001b[0m \u001b[0maes_cipher\u001b[0m\u001b[0;34m.\u001b[0m\u001b[0mdecrypt_and_verify\u001b[0m\u001b[0;34m(\u001b[0m\u001b[0mciphered_data\u001b[0m\u001b[0;34m,\u001b[0m \u001b[0mtag\u001b[0m\u001b[0;34m)\u001b[0m  \u001b[0;31m# type: ignore\u001b[0m\u001b[0;34m\u001b[0m\u001b[0;34m\u001b[0m\u001b[0m\n\u001b[0m",
            "\u001b[0;32m/usr/local/lib/python3.7/dist-packages/Crypto/Cipher/_mode_gcm.py\u001b[0m in \u001b[0;36mdecrypt_and_verify\u001b[0;34m(self, ciphertext, received_mac_tag, output)\u001b[0m\n\u001b[1;32m    565\u001b[0m \u001b[0;34m\u001b[0m\u001b[0m\n\u001b[1;32m    566\u001b[0m         \u001b[0mplaintext\u001b[0m \u001b[0;34m=\u001b[0m \u001b[0mself\u001b[0m\u001b[0;34m.\u001b[0m\u001b[0mdecrypt\u001b[0m\u001b[0;34m(\u001b[0m\u001b[0mciphertext\u001b[0m\u001b[0;34m,\u001b[0m \u001b[0moutput\u001b[0m\u001b[0;34m=\u001b[0m\u001b[0moutput\u001b[0m\u001b[0;34m)\u001b[0m\u001b[0;34m\u001b[0m\u001b[0;34m\u001b[0m\u001b[0m\n\u001b[0;32m--> 567\u001b[0;31m         \u001b[0mself\u001b[0m\u001b[0;34m.\u001b[0m\u001b[0mverify\u001b[0m\u001b[0;34m(\u001b[0m\u001b[0mreceived_mac_tag\u001b[0m\u001b[0;34m)\u001b[0m\u001b[0;34m\u001b[0m\u001b[0;34m\u001b[0m\u001b[0m\n\u001b[0m\u001b[1;32m    568\u001b[0m         \u001b[0;32mreturn\u001b[0m \u001b[0mplaintext\u001b[0m\u001b[0;34m\u001b[0m\u001b[0;34m\u001b[0m\u001b[0m\n\u001b[1;32m    569\u001b[0m \u001b[0;34m\u001b[0m\u001b[0m\n",
            "\u001b[0;32m/usr/local/lib/python3.7/dist-packages/Crypto/Cipher/_mode_gcm.py\u001b[0m in \u001b[0;36mverify\u001b[0;34m(self, received_mac_tag)\u001b[0m\n\u001b[1;32m    506\u001b[0m \u001b[0;34m\u001b[0m\u001b[0m\n\u001b[1;32m    507\u001b[0m         \u001b[0;32mif\u001b[0m \u001b[0mmac1\u001b[0m\u001b[0;34m.\u001b[0m\u001b[0mdigest\u001b[0m\u001b[0;34m(\u001b[0m\u001b[0;34m)\u001b[0m \u001b[0;34m!=\u001b[0m \u001b[0mmac2\u001b[0m\u001b[0;34m.\u001b[0m\u001b[0mdigest\u001b[0m\u001b[0;34m(\u001b[0m\u001b[0;34m)\u001b[0m\u001b[0;34m:\u001b[0m\u001b[0;34m\u001b[0m\u001b[0;34m\u001b[0m\u001b[0m\n\u001b[0;32m--> 508\u001b[0;31m             \u001b[0;32mraise\u001b[0m \u001b[0mValueError\u001b[0m\u001b[0;34m(\u001b[0m\u001b[0;34m\"MAC check failed\"\u001b[0m\u001b[0;34m)\u001b[0m\u001b[0;34m\u001b[0m\u001b[0;34m\u001b[0m\u001b[0m\n\u001b[0m\u001b[1;32m    509\u001b[0m \u001b[0;34m\u001b[0m\u001b[0m\n\u001b[1;32m    510\u001b[0m     \u001b[0;32mdef\u001b[0m \u001b[0mhexverify\u001b[0m\u001b[0;34m(\u001b[0m\u001b[0mself\u001b[0m\u001b[0;34m,\u001b[0m \u001b[0mhex_mac_tag\u001b[0m\u001b[0;34m)\u001b[0m\u001b[0;34m:\u001b[0m\u001b[0;34m\u001b[0m\u001b[0;34m\u001b[0m\u001b[0m\n",
            "\u001b[0;31mValueError\u001b[0m: MAC check failed"
          ]
        }
      ]
    },
    {
      "cell_type": "code",
      "source": [
        "shared_aes_key=hashlib.sha256(shared12.format()).digest()"
      ],
      "metadata": {
        "id": "gGmnf3g8UlHd"
      },
      "execution_count": 26,
      "outputs": []
    },
    {
      "cell_type": "code",
      "source": [
        "len(shared_aes_key),len(shared12.format())"
      ],
      "metadata": {
        "colab": {
          "base_uri": "https://localhost:8080/"
        },
        "id": "tLbyK7UXVVPs",
        "outputId": "7f24f3c6-7ce4-470c-c066-34a8cb0d047a"
      },
      "execution_count": 28,
      "outputs": [
        {
          "output_type": "execute_result",
          "data": {
            "text/plain": [
              "(32, 33)"
            ]
          },
          "metadata": {},
          "execution_count": 28
        }
      ]
    },
    {
      "cell_type": "code",
      "source": [
        "len(ecies.aes_encrypt(shared_aes_key,shared_aes_key))"
      ],
      "metadata": {
        "colab": {
          "base_uri": "https://localhost:8080/"
        },
        "id": "i2x9AkddVXxJ",
        "outputId": "edab5653-7c99-4bc4-98ca-d79d61b537cd"
      },
      "execution_count": 29,
      "outputs": [
        {
          "output_type": "execute_result",
          "data": {
            "text/plain": [
              "64"
            ]
          },
          "metadata": {},
          "execution_count": 29
        }
      ]
    },
    {
      "cell_type": "code",
      "source": [
        "HKDF(shared21.format(), AES_KEY_BYTES_LEN, b\"\", SHA256)"
      ],
      "metadata": {
        "id": "WZKxX5v2vrCB",
        "outputId": "db124da9-8ffa-47bd-8beb-f2ccf6d5a684",
        "colab": {
          "base_uri": "https://localhost:8080/"
        }
      },
      "execution_count": 36,
      "outputs": [
        {
          "output_type": "execute_result",
          "data": {
            "text/plain": [
              "b'\\x19Vu\\x98\\xeb\\x14\\xb3\\x1d\\xde7\\xef\\x93\\xdf\\reX\\xa0\\xac\\xa6P\\xe3(\\xd8\\xf4\\x9cw\\x93\\x03\\xb9\\x92\\xbc?'"
            ]
          },
          "metadata": {},
          "execution_count": 36
        }
      ]
    },
    {
      "cell_type": "code",
      "source": [
        "HKDF(shared12.format(), AES_KEY_BYTES_LEN, b\"\", SHA256)"
      ],
      "metadata": {
        "id": "EtHpz0WQvbyX",
        "outputId": "ffac9a3e-5099-4918-c156-4444afd6978c",
        "colab": {
          "base_uri": "https://localhost:8080/"
        }
      },
      "execution_count": 37,
      "outputs": [
        {
          "output_type": "execute_result",
          "data": {
            "text/plain": [
              "b'\\x19Vu\\x98\\xeb\\x14\\xb3\\x1d\\xde7\\xef\\x93\\xdf\\reX\\xa0\\xac\\xa6P\\xe3(\\xd8\\xf4\\x9cw\\x93\\x03\\xb9\\x92\\xbc?'"
            ]
          },
          "metadata": {},
          "execution_count": 37
        }
      ]
    },
    {
      "cell_type": "code",
      "source": [
        ""
      ],
      "metadata": {
        "id": "VTVrQNeax1eI"
      },
      "execution_count": null,
      "outputs": []
    }
  ]
}