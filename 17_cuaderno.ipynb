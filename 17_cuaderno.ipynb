{
  "nbformat": 4,
  "nbformat_minor": 0,
  "metadata": {
    "colab": {
      "name": "17_cuaderno.ipynb",
      "provenance": [],
      "authorship_tag": "ABX9TyPODcPMmVbRw7nsNa6lYsrb",
      "include_colab_link": true
    },
    "kernelspec": {
      "name": "python3",
      "display_name": "Python 3"
    },
    "language_info": {
      "name": "python"
    }
  },
  "cells": [
    {
      "cell_type": "markdown",
      "metadata": {
        "id": "view-in-github",
        "colab_type": "text"
      },
      "source": [
        "<a href=\"https://colab.research.google.com/github/ProfDoeg/Colegio_Invisible/blob/main/17_cuaderno.ipynb\" target=\"_parent\"><img src=\"https://colab.research.google.com/assets/colab-badge.svg\" alt=\"Open In Colab\"/></a>"
      ]
    },
    {
      "cell_type": "code",
      "execution_count": 38,
      "metadata": {
        "colab": {
          "base_uri": "https://localhost:8080/"
        },
        "id": "QU-j-ie4xl3n",
        "outputId": "d8cfa5ec-1547-44ab-882a-f04e9ce7e36b"
      },
      "outputs": [
        {
          "output_type": "stream",
          "name": "stdout",
          "text": [
            "Looking in indexes: https://pypi.org/simple, https://us-python.pkg.dev/colab-wheels/public/simple/\n",
            "Requirement already satisfied: eciespy in /usr/local/lib/python3.7/dist-packages (0.3.11)\n",
            "Requirement already satisfied: eth_keys in /usr/local/lib/python3.7/dist-packages (0.3.4)\n",
            "Requirement already satisfied: cryptos in /usr/local/lib/python3.7/dist-packages (1.36)\n",
            "Collecting qrcode\n",
            "  Downloading qrcode-7.3.1.tar.gz (43 kB)\n",
            "\u001b[K     |████████████████████████████████| 43 kB 1.7 MB/s \n",
            "\u001b[?25hRequirement already satisfied: coincurve<16,>=13 in /usr/local/lib/python3.7/dist-packages (from eciespy) (15.0.1)\n",
            "Requirement already satisfied: pycryptodome<4.0.0,>=3.9.9 in /usr/local/lib/python3.7/dist-packages (from eciespy) (3.14.1)\n",
            "Requirement already satisfied: eth-utils<2.0.0,>=1.8.2 in /usr/local/lib/python3.7/dist-packages (from eth_keys) (1.10.0)\n",
            "Requirement already satisfied: eth-typing<3.0.0,>=2.2.1 in /usr/local/lib/python3.7/dist-packages (from eth_keys) (2.3.0)\n",
            "Requirement already satisfied: asn1crypto in /usr/local/lib/python3.7/dist-packages (from coincurve<16,>=13->eciespy) (1.5.1)\n",
            "Requirement already satisfied: cffi>=1.3.0 in /usr/local/lib/python3.7/dist-packages (from coincurve<16,>=13->eciespy) (1.15.0)\n",
            "Requirement already satisfied: pycparser in /usr/local/lib/python3.7/dist-packages (from cffi>=1.3.0->coincurve<16,>=13->eciespy) (2.21)\n",
            "Requirement already satisfied: eth-hash<0.4.0,>=0.3.1 in /usr/local/lib/python3.7/dist-packages (from eth-utils<2.0.0,>=1.8.2->eth_keys) (0.3.2)\n",
            "Requirement already satisfied: cytoolz<1.0.0,>=0.10.1 in /usr/local/lib/python3.7/dist-packages (from eth-utils<2.0.0,>=1.8.2->eth_keys) (0.11.2)\n",
            "Requirement already satisfied: toolz>=0.8.0 in /usr/local/lib/python3.7/dist-packages (from cytoolz<1.0.0,>=0.10.1->eth-utils<2.0.0,>=1.8.2->eth_keys) (0.11.2)\n",
            "Building wheels for collected packages: qrcode\n",
            "  Building wheel for qrcode (setup.py) ... \u001b[?25l\u001b[?25hdone\n",
            "  Created wheel for qrcode: filename=qrcode-7.3.1-py3-none-any.whl size=40402 sha256=d0b5898bf70feb761c3fac093834062f4465b433c6b0c07df8deddb927b293ce\n",
            "  Stored in directory: /root/.cache/pip/wheels/93/d7/39/a4111be2cfb8e679938aa671a37888b6afb1f9e7d748e94492\n",
            "Successfully built qrcode\n",
            "Installing collected packages: qrcode\n",
            "Successfully installed qrcode-7.3.1\n"
          ]
        }
      ],
      "source": [
        "! pip install eciespy eth_keys cryptos qrcode"
      ]
    },
    {
      "cell_type": "code",
      "source": [
        "import ecies\n",
        "import eth_keys\n",
        "import coincurve\n",
        "import hashlib"
      ],
      "metadata": {
        "id": "zarlKnDDxuEI"
      },
      "execution_count": 4,
      "outputs": []
    },
    {
      "cell_type": "code",
      "source": [
        "broad_message=b'''Tell the world something. Encrypt with AES key.\n",
        "AES encrypt multiple copes of that key using a list of shared secrets.'''\n",
        "print(broad_message.decode(),len(broad_message))"
      ],
      "metadata": {
        "colab": {
          "base_uri": "https://localhost:8080/"
        },
        "id": "qz8wc0m3qJPL",
        "outputId": "62bb18db-651e-493b-d36f-c3ce54e5a4ea"
      },
      "execution_count": 5,
      "outputs": [
        {
          "output_type": "stream",
          "name": "stdout",
          "text": [
            "Tell the world something. Encrypt with AES key.\n",
            "AES encrypt multiple copes of that key using a list of shared secrets. 118\n"
          ]
        }
      ]
    },
    {
      "cell_type": "code",
      "source": [
        "from coincurve.utils import get_valid_secret\n",
        "\n",
        "master_aes=get_valid_secret()\n",
        "broad_message_aes=ecies.aes_encrypt(master_aes,broad_message)"
      ],
      "metadata": {
        "id": "7hCqAYj60hyn"
      },
      "execution_count": 6,
      "outputs": []
    },
    {
      "cell_type": "markdown",
      "source": [
        "Now we have an encrypted message and we want to distribute it so select key holders can open it. \n",
        "\n",
        "We will encrypt the `master_aes` encryption key (using aes) so that each recipient can access it using their special-unique encrypted copy.\n",
        "\n",
        "**HOT DIGGITY DOG !!! HOW DO WE MAKE SURE ONLY THE SELECT KEY HOLDER CAN OPEN THEIR COPY ???**\n",
        "\n",
        "#Diffie Helman Key Exchange...Broadcast"
      ],
      "metadata": {
        "id": "c1k8Q48e1DxY"
      }
    },
    {
      "cell_type": "code",
      "source": [
        ""
      ],
      "metadata": {
        "id": "qUChCFme1Cn-"
      },
      "execution_count": null,
      "outputs": []
    },
    {
      "cell_type": "code",
      "source": [
        "privKey1 = ecies.utils.generate_eth_key()\n",
        "privKey2 = ecies.utils.generate_eth_key()\n",
        "privKey3 = ecies.utils.generate_eth_key()\n",
        "print(privKey1, type(privKey1))\n",
        "print(privKey2, type(privKey2))\n",
        "print(privKey3, type(privKey3))"
      ],
      "metadata": {
        "colab": {
          "base_uri": "https://localhost:8080/"
        },
        "id": "pr1ytF2yUC0m",
        "outputId": "1bd964d9-5600-4a4d-f199-6e45cd00c467"
      },
      "execution_count": 7,
      "outputs": [
        {
          "output_type": "stream",
          "name": "stdout",
          "text": [
            "0xdca87f90bd5b6a44d8190d2457eeed81e7f433575fc8212684e3158534e62f5b <class 'eth_keys.datatypes.PrivateKey'>\n",
            "0x655a6d66426d69f0ca6ea9c5fddd596a7adc5fb70d18cc543af714bb6697262d <class 'eth_keys.datatypes.PrivateKey'>\n",
            "0x6641d7a39ffbb3296fcd16ba066a8caeeea8ab18d5ba4e007147e5d7084992fc <class 'eth_keys.datatypes.PrivateKey'>\n"
          ]
        }
      ]
    },
    {
      "cell_type": "code",
      "source": [
        "#convert from ecies private/public key to concurve private/public key\n",
        "\n",
        "k1 = coincurve.PrivateKey(privKey1.to_bytes())\n",
        "k2 = coincurve.PrivateKey(privKey2.to_bytes())\n",
        "k3 = coincurve.PrivateKey(privKey2.to_bytes())\n",
        "\n",
        "p1 = coincurve.PublicKey( privKey1.public_key.to_compressed_bytes() )\n",
        "p2 = coincurve.PublicKey( privKey2.public_key.to_compressed_bytes() )\n",
        "p3 = coincurve.PublicKey( privKey3.public_key.to_compressed_bytes() )"
      ],
      "metadata": {
        "id": "RrCx912DULLJ"
      },
      "execution_count": 8,
      "outputs": []
    },
    {
      "cell_type": "code",
      "source": [
        "shared12 = p2.multiply(k1.secret)\n",
        "shared21 = p1.multiply(k2.secret)"
      ],
      "metadata": {
        "id": "dUQEo3NVUcNT"
      },
      "execution_count": 9,
      "outputs": []
    },
    {
      "cell_type": "code",
      "source": [
        "shared12.format().hex(),shared21.format().hex()"
      ],
      "metadata": {
        "colab": {
          "base_uri": "https://localhost:8080/"
        },
        "id": "JNIBLpVzUiV4",
        "outputId": "c5f7333c-70fa-4c84-930e-386bf8e2796a"
      },
      "execution_count": 10,
      "outputs": [
        {
          "output_type": "execute_result",
          "data": {
            "text/plain": [
              "('03494315c53ff8f6eca88866fb289f4619f9c45750bf58a5d5b28ad1892257534c',\n",
              " '03494315c53ff8f6eca88866fb289f4619f9c45750bf58a5d5b28ad1892257534c')"
            ]
          },
          "metadata": {},
          "execution_count": 10
        }
      ]
    },
    {
      "cell_type": "code",
      "source": [
        "from Crypto.Protocol.KDF import HKDF\n",
        "AES_KEY_BYTES_LEN = 32\n",
        "from Crypto.Hash import SHA256"
      ],
      "metadata": {
        "id": "HNlkFRQxWSJX"
      },
      "execution_count": 11,
      "outputs": []
    },
    {
      "cell_type": "code",
      "source": [
        "ps=[p1,p2,p3]\n",
        "shared_secrets=[p.multiply(k1.secret) for p in ps]"
      ],
      "metadata": {
        "id": "ki5TAOoA4ET7"
      },
      "execution_count": 12,
      "outputs": []
    },
    {
      "cell_type": "code",
      "source": [
        "def shared_key(prvKey,pubKey):\n",
        "  cc_prvKey=coincurve.PrivateKey(prvKey.to_bytes())\n",
        "  cc_pubKey= coincurve.PublicKey( pubKey.to_compressed_bytes() )\n",
        "  return HKDF(cc_pubKey.multiply(cc_prvKey.secret).format(), AES_KEY_BYTES_LEN, b\"\", SHA256)"
      ],
      "metadata": {
        "id": "gJHZWz4_ISOO"
      },
      "execution_count": 13,
      "outputs": []
    },
    {
      "cell_type": "code",
      "source": [
        "shared_key(privKey3,privKey1.public_key)"
      ],
      "metadata": {
        "colab": {
          "base_uri": "https://localhost:8080/"
        },
        "id": "zvN00RiKKcck",
        "outputId": "d1e81e18-feed-4c3f-ae2b-e9908355475b"
      },
      "execution_count": 14,
      "outputs": [
        {
          "output_type": "execute_result",
          "data": {
            "text/plain": [
              "b'\\xe6\\xc0:D\\xc2\\xfdmi\\x18a\\x12\\xdb\\x97\\xbe_\\x1d\\x0f)\\xb2\\xb3\\x84\\xd5)\\xb4%\\xa4\\x86\\xa1I\\xab\\x15 '"
            ]
          },
          "metadata": {},
          "execution_count": 14
        }
      ]
    },
    {
      "cell_type": "code",
      "source": [
        "shared_keys=[ HKDF(shared_secret.format(), AES_KEY_BYTES_LEN, b\"\", SHA256) for shared_secret in shared_secrets]"
      ],
      "metadata": {
        "id": "Wa5Bq5THJuev"
      },
      "execution_count": 15,
      "outputs": []
    },
    {
      "cell_type": "code",
      "source": [
        "access_keys=[ ecies.aes_encrypt(shared_key,master_aes) for shared_key in shared_keys]\n",
        "print(len(b''.join(access_keys)))\n",
        "access_keys"
      ],
      "metadata": {
        "colab": {
          "base_uri": "https://localhost:8080/"
        },
        "id": "_d16pr3F8RSi",
        "outputId": "eda6adfb-3b28-40d0-e4da-07aa58748175"
      },
      "execution_count": 16,
      "outputs": [
        {
          "output_type": "stream",
          "name": "stdout",
          "text": [
            "192\n"
          ]
        },
        {
          "output_type": "execute_result",
          "data": {
            "text/plain": [
              "[b\"\\xb8\\rH'9\\xfa\\xff\\x07\\x0f\\x8a9\\x7f\\xa7\\xdbK\\xb7YO_Y2C\\xd3M\\xcf\\x96\\xb5\\xe2\\xf2\\xe3\\xda\\xa6\\x04\\x80h\\xb6\\xbf6\\xcc|u4\\xca\\xd8\\xcb\\x0b2/\\xba\\xef@\\x8d\\xeb1k\\xb6)\\x8b\\xd8\\xc7d\\x18Q\\xe0\",\n",
              " b'\\x19@\\xe5Y\\xf5$\\xa0\\xa6\\xcf)0U>\\xca\\xcf\\xb3\\x14\\x11c\\xf3W\\x1f\\xfb\\xdd\"\\xe5r!J\\xac\\x97\\xe0\\xe6{\\x18\\\\p\\xff\\xdbE\\x99U\\xde\\xf5\\xfb\\x93y\\x9a\\xb5\\x96\\xf7\\xbc\\x82]\\x8b\\xc4\\x85\\x146\\xa8\\x89\\xa9\\xdc\\xe3',\n",
              " b'\\x9d)\\xb8\\x90\\x90f\\xfc)N\\xf0\\xa9\\x14\\xab\\x9c\\x7f\\xf7_\\xd5r1C\\x9cn\\x05\\x14\\x9dH\\x19\\x91\\x88E\\xf8\\r\\xcd\\xa7\\xef\\xe4\\xa3\\xe2\\x1bA\\xad\\xebWK\\x93\\x9aP\\xee\\x03\\xf1s~\\x9a/A\\xa6\\xde\\xcf\\xcdJh$Z']"
            ]
          },
          "metadata": {},
          "execution_count": 16
        }
      ]
    },
    {
      "cell_type": "code",
      "source": [
        "ecies.aes_decrypt(shared_keys[0],access_keys[0])"
      ],
      "metadata": {
        "colab": {
          "base_uri": "https://localhost:8080/"
        },
        "id": "xYWix2Q8Aco6",
        "outputId": "8289bc0d-0bc1-41d8-8279-a8aef1216ce8"
      },
      "execution_count": 17,
      "outputs": [
        {
          "output_type": "execute_result",
          "data": {
            "text/plain": [
              "b'\\xb2p\\xa7v\\xa0_VM\\x96\\r\\x02\\xcf\\xd7X\\x81m\\x06XW\\x8e\\xc8\\xee:\\r}\\x0cd\\xd8#E\\xe2$'"
            ]
          },
          "metadata": {},
          "execution_count": 17
        }
      ]
    },
    {
      "cell_type": "code",
      "source": [
        "dist_keys=[ecies.aes_decrypt(*args)  for args in zip(shared_keys,access_keys)]\n",
        "dist_keys"
      ],
      "metadata": {
        "colab": {
          "base_uri": "https://localhost:8080/"
        },
        "id": "oOSS3xVxW3iR",
        "outputId": "2f3aa03e-595b-4532-f39f-3f4db33b9597"
      },
      "execution_count": 18,
      "outputs": [
        {
          "output_type": "execute_result",
          "data": {
            "text/plain": [
              "[b'\\xb2p\\xa7v\\xa0_VM\\x96\\r\\x02\\xcf\\xd7X\\x81m\\x06XW\\x8e\\xc8\\xee:\\r}\\x0cd\\xd8#E\\xe2$',\n",
              " b'\\xb2p\\xa7v\\xa0_VM\\x96\\r\\x02\\xcf\\xd7X\\x81m\\x06XW\\x8e\\xc8\\xee:\\r}\\x0cd\\xd8#E\\xe2$',\n",
              " b'\\xb2p\\xa7v\\xa0_VM\\x96\\r\\x02\\xcf\\xd7X\\x81m\\x06XW\\x8e\\xc8\\xee:\\r}\\x0cd\\xd8#E\\xe2$']"
            ]
          },
          "metadata": {},
          "execution_count": 18
        }
      ]
    },
    {
      "cell_type": "code",
      "source": [
        "master_aes"
      ],
      "metadata": {
        "id": "gGmnf3g8UlHd",
        "colab": {
          "base_uri": "https://localhost:8080/"
        },
        "outputId": "c13ca49e-67c4-4b32-ac41-474030b05f5b"
      },
      "execution_count": 19,
      "outputs": [
        {
          "output_type": "execute_result",
          "data": {
            "text/plain": [
              "b'\\xb2p\\xa7v\\xa0_VM\\x96\\r\\x02\\xcf\\xd7X\\x81m\\x06XW\\x8e\\xc8\\xee:\\r}\\x0cd\\xd8#E\\xe2$'"
            ]
          },
          "metadata": {},
          "execution_count": 19
        }
      ]
    },
    {
      "cell_type": "code",
      "source": [
        "ecies.aes_decrypt(dist_keys[2],broad_message_aes)"
      ],
      "metadata": {
        "colab": {
          "base_uri": "https://localhost:8080/"
        },
        "id": "VTVrQNeax1eI",
        "outputId": "650643a3-c382-4d4f-acdf-28f705d20dce"
      },
      "execution_count": 20,
      "outputs": [
        {
          "output_type": "execute_result",
          "data": {
            "text/plain": [
              "b'Tell the world something. Encrypt with AES key.\\nAES encrypt multiple copes of that key using a list of shared secrets.'"
            ]
          },
          "metadata": {},
          "execution_count": 20
        }
      ]
    },
    {
      "cell_type": "code",
      "source": [
        "mess2post=len(access_keys).to_bytes(1,'big')+b''.join(access_keys)+broad_message_aes"
      ],
      "metadata": {
        "id": "lnzqRxtlEJeG"
      },
      "execution_count": 21,
      "outputs": []
    },
    {
      "cell_type": "code",
      "source": [
        "mess2post"
      ],
      "metadata": {
        "colab": {
          "base_uri": "https://localhost:8080/"
        },
        "id": "t7MFiqePWJAK",
        "outputId": "d41a55d6-f6f6-41cf-c72d-f8e2fe416df8"
      },
      "execution_count": 22,
      "outputs": [
        {
          "output_type": "execute_result",
          "data": {
            "text/plain": [
              "b'\\x03\\xb8\\rH\\'9\\xfa\\xff\\x07\\x0f\\x8a9\\x7f\\xa7\\xdbK\\xb7YO_Y2C\\xd3M\\xcf\\x96\\xb5\\xe2\\xf2\\xe3\\xda\\xa6\\x04\\x80h\\xb6\\xbf6\\xcc|u4\\xca\\xd8\\xcb\\x0b2/\\xba\\xef@\\x8d\\xeb1k\\xb6)\\x8b\\xd8\\xc7d\\x18Q\\xe0\\x19@\\xe5Y\\xf5$\\xa0\\xa6\\xcf)0U>\\xca\\xcf\\xb3\\x14\\x11c\\xf3W\\x1f\\xfb\\xdd\"\\xe5r!J\\xac\\x97\\xe0\\xe6{\\x18\\\\p\\xff\\xdbE\\x99U\\xde\\xf5\\xfb\\x93y\\x9a\\xb5\\x96\\xf7\\xbc\\x82]\\x8b\\xc4\\x85\\x146\\xa8\\x89\\xa9\\xdc\\xe3\\x9d)\\xb8\\x90\\x90f\\xfc)N\\xf0\\xa9\\x14\\xab\\x9c\\x7f\\xf7_\\xd5r1C\\x9cn\\x05\\x14\\x9dH\\x19\\x91\\x88E\\xf8\\r\\xcd\\xa7\\xef\\xe4\\xa3\\xe2\\x1bA\\xad\\xebWK\\x93\\x9aP\\xee\\x03\\xf1s~\\x9a/A\\xa6\\xde\\xcf\\xcdJh$Z/Jn*\\xaa?^\\xf0A\\xb6\\x90\\x06mZ\\xbdX\\xf5\\xdc^&.\\xc8\\xfb\\xee\\x01(9a\\x1c\\xcfz\\xe2\\xddJ\\x17\\xaev\\xbd\\xb9\\x04yb\\xfaU\\'~\\x9dT\\xd0\\x92\\xb8\\xca\\x02\\x18\\xe7^-\\xcf2\\xac\\x01\\xef\\x03\\xd3\\xf6|\\x11\\x0b@N\\xf5\\xfa\\x12\\n!\\xc7\\xc5\\x15u\\x0c\\x99\\xe1p\\x85\\x8e\\'\\\\W\\x83\\x8b\\x88p\\x00\\x0cl\\x9b\\xd0\\x8f\\xd9\\xd1#\\x05}\\xa0]\\x9b\\x1f\\xb6\\xc1i\\xbb\\x00\\xf3\\x92\\xf5F;U\\xdb#8t\\xf39\\x8d`\\x88\\xee\\xcb\\xb0%\\x88\\x12\\xdbj\\x00,\\xbd\\xbf\\x1d\"C\\x97\\x0ef\\x94\\x9cA5\\x1a'"
            ]
          },
          "metadata": {},
          "execution_count": 22
        }
      ]
    },
    {
      "cell_type": "code",
      "source": [
        "len(mess2post)"
      ],
      "metadata": {
        "colab": {
          "base_uri": "https://localhost:8080/"
        },
        "id": "QgPC7n95WRv-",
        "outputId": "2ad8fef8-4df1-43c9-ff0a-8d298728314c"
      },
      "execution_count": 23,
      "outputs": [
        {
          "output_type": "execute_result",
          "data": {
            "text/plain": [
              "343"
            ]
          },
          "metadata": {},
          "execution_count": 23
        }
      ]
    },
    {
      "cell_type": "code",
      "source": [
        "len(broad_message)"
      ],
      "metadata": {
        "colab": {
          "base_uri": "https://localhost:8080/"
        },
        "id": "tiCD2oZOWW5F",
        "outputId": "01ca9d9f-0897-4875-c188-d713e58f0865"
      },
      "execution_count": 24,
      "outputs": [
        {
          "output_type": "execute_result",
          "data": {
            "text/plain": [
              "118"
            ]
          },
          "metadata": {},
          "execution_count": 24
        }
      ]
    },
    {
      "cell_type": "code",
      "source": [
        ""
      ],
      "metadata": {
        "id": "UF6nvlJ1Wq7o"
      },
      "execution_count": 24,
      "outputs": []
    },
    {
      "cell_type": "code",
      "source": [
        "! git clone https://github.com/ProfDoeg/Colegio_Invisible.git\n",
        "! pip install cryptos"
      ],
      "metadata": {
        "colab": {
          "base_uri": "https://localhost:8080/"
        },
        "id": "qhDM2aRqoNWT",
        "outputId": "adaeae34-221b-4880-f3d5-62adf305d3ae"
      },
      "execution_count": 26,
      "outputs": [
        {
          "output_type": "stream",
          "name": "stdout",
          "text": [
            "Cloning into 'Colegio_Invisible'...\n",
            "remote: Enumerating objects: 1185, done.\u001b[K\n",
            "remote: Counting objects: 100% (55/55), done.\u001b[K\n",
            "remote: Compressing objects: 100% (55/55), done.\u001b[K\n",
            "remote: Total 1185 (delta 34), reused 0 (delta 0), pack-reused 1130\u001b[K\n",
            "Receiving objects: 100% (1185/1185), 137.51 MiB | 33.31 MiB/s, done.\n",
            "Resolving deltas: 100% (817/817), done.\n",
            "Looking in indexes: https://pypi.org/simple, https://us-python.pkg.dev/colab-wheels/public/simple/\n",
            "Requirement already satisfied: cryptos in /usr/local/lib/python3.7/dist-packages (1.36)\n"
          ]
        }
      ]
    },
    {
      "cell_type": "code",
      "source": [
        "from PIL import Image\n",
        "import numpy as np\n",
        "\n",
        "def grey_imgarr(imgarr):\n",
        "  return imgarr[:,:,:3].mean(axis=2).astype('uint8')\n",
        "\n",
        "def message_2_bit_array(message,mode=None):\n",
        "    '''This function takes in a message as string, bytestring or hextring.\n",
        "    If hexstring input the set mode='hex' '''\n",
        "    if type(message)==bytes:\n",
        "        hex_str=message.hex()\n",
        "    elif (type(message)==str):\n",
        "        if mode not in ('hex','hexstring'):\n",
        "            hex_str=message.encode().hex()\n",
        "        else:\n",
        "            hex_str=message\n",
        "    else:\n",
        "        print('fix the input and mode')\n",
        "        return None\n",
        "    \n",
        "    num=int('0x'+hex_str,base=16)\n",
        "    byte_len=(len(hex_str)+1)//2\n",
        "    bit_len=byte_len*8\n",
        "    bin_str=bin(num)\n",
        "    bit_list=[int(bit) for bit in bin_str[2:]]\n",
        "    bit_list=[0]*(bit_len-len(bit_list))+bit_list\n",
        "    bit_array=np.array(bit_list,dtype='uint8')\n",
        "    return bit_array\n",
        "\n",
        "def bit_array_2_byte_str(bit_array):\n",
        "    '''Convert bit array to a bytestring'''\n",
        "    bit_list=[ str(bit) for bit in bit_array]\n",
        "    bin_str='0b'+(''.join(bit_list))\n",
        "    num=int(bin_str,base=2)\n",
        "    return num.to_bytes(len(bit_array)//8,'big')\n",
        "\n",
        "def bit_array_2_hex_str(bit_array):  \n",
        "    '''Convert a bit array to a hexstring'''\n",
        "    return bit_array_2_byte_str(bit_array).hex()\n",
        "\n",
        "def bit_array_2_str(bit_array,encoding='utf-8'):\n",
        "    '''Convert a bit array to a string'''\n",
        "    return bit_array_2_byte_str(bit_array).decode(encoding)\n",
        "\n",
        "def int2bitarray(x,bit=8):\n",
        "  return message_2_bit_array(hex(x)[2:],mode='hex')[:bit]\n",
        "\n",
        "def bitarray2int(b_arr):\n",
        "  ln=b_arr.shape[0]\n",
        "  scales=(2**np.arange(7,-1,-1))[:ln]\n",
        "  return (b_arr*scales).sum()\n",
        "\n",
        "def imgarr2bitarray(imgarr,bit=8):\n",
        "  return np.array([ int2bitarray(it,bit) for it in imgarr.reshape(-1)]).reshape(-1)\n",
        "\n",
        "def bitarray2imgarr(barrs,imgshape=(16,16),bit=2,color=1):\n",
        "  lns=len(barrs.reshape(-1))\n",
        "  #Bs=barrs.reshape(*imgshape,bit)\n",
        "  intlst=[ bitarray2int(barrs.reshape(-1)[i:i+bit]) for i in range(0,lns,bit) ]\n",
        "  intarr=np.array(intlst).reshape(*imgshape,color).astype('uint8')\n",
        "  return intarr\n",
        " \n",
        "def bitarray2imgarr_scale(barrs,imgshape=(16,16),bit=2,color=1):\n",
        "  lns=len(barrs.reshape(-1))\n",
        "  #Bs=barrs.reshape(*imgshape,bit)\n",
        "  intlst=[ bitarray2int_scale(barrs.reshape(-1)[i:i+bit]) for i in range(0,lns,bit) ]\n",
        "  intarr=np.array(intlst).reshape(*imgshape,color).astype('uint8')\n",
        "  return intarr\n",
        "\n",
        "class bitimage():\n",
        "\n",
        "  def __init__(self,imgpath,dims=(16,16),bit=2,color=1):\n",
        "    from PIL import Image\n",
        "    self.color=color\n",
        "    self.bit=bit\n",
        "    self.dims=list(dims)\n",
        "    self.img_og=Image.open(imgpath)\n",
        "    self.img_resize=self.img_og.resize(dims)\n",
        "    self.grey=grey_imgarr(np.array(self.img_resize))\n",
        "    self.img_grey=Image.fromarray(self.grey)\n",
        "    self.bitarray=imgarr2bitarray(self.grey,bit)\n",
        "    self.bitarray_color=imgarr2bitarray(np.array(self.img_resize)[:,:,:color],bit)\n",
        "    self.newimg=Image.fromarray(bitarray2imgarr(self.bitarray,imgshape=dims[::-1],bit=bit,color=1).squeeze())\n",
        "    self.newimg_color=Image.fromarray(bitarray2imgarr(self.bitarray_color,imgshape=dims[::-1],bit=bit,color=3).squeeze())\n",
        "    self.bytestring=bit_array_2_byte_str(self.bitarray)\n",
        "    self.bytestring_color=bit_array_2_byte_str(self.bitarray_color)"
      ],
      "metadata": {
        "id": "eJxLhJRm-atP"
      },
      "execution_count": 27,
      "outputs": []
    },
    {
      "cell_type": "code",
      "source": [
        "!ls Colegio_Invisible/img"
      ],
      "metadata": {
        "id": "GqFnyKLQ_V5I",
        "outputId": "1f6aa1fc-d768-4f60-af51-63b1eab9c4d5",
        "colab": {
          "base_uri": "https://localhost:8080/"
        }
      },
      "execution_count": 28,
      "outputs": [
        {
          "output_type": "stream",
          "name": "stdout",
          "text": [
            "Apollo_Slays_Python_1853.jpeg  hg_cry.jpeg\t PubKeyToAddr.png\n",
            "asymmetric.png\t\t       hg_drop.jpeg\t rum_0.jpeg\n",
            "bab_crop.jpeg\t\t       hg_hide.jpeg\t rum_1.jpeg\n",
            "barb_1.jpeg\t\t       hg_house.jpeg\t rum_2.jpeg\n",
            "barb_2.jpeg\t\t       hg_invite.jpeg\t rum_3.jpeg\n",
            "barb_3.jpeg\t\t       hg_rough.png\t rum_4.jpeg\n",
            "barb_4.jpeg\t\t       hg_xmas.jpeg\t rum_5.jpeg\n",
            "barb_5.jpeg\t\t       mask.png\t\t rum_6.jpeg\n",
            "barb_6.jpeg\t\t       paco.png\t\t rum_7.jpeg\n",
            "barb_7.jpeg\t\t       peter2.png\t rump_final.jpeg\n",
            "cat.png\t\t\t       peter3.png\t signature.png\n",
            "chris.png\t\t       peter4.png\t stego.png\n",
            "clavis.jpeg\t\t       peter.png\t symmetric.png\n",
            "colegio_invisible.jpeg\t       prv_pub_addr.png  zomnd.png\n"
          ]
        }
      ]
    },
    {
      "cell_type": "code",
      "source": [
        "length=64\n",
        "width=64\n",
        "bit_num=5\n",
        "\n",
        "\n",
        "bimg=bitimage('Colegio_Invisible/img/zomnd.png',dims=(length,width),bit=bit_num,color=3)\n",
        "display(bimg.newimg)\n",
        "display(bimg.img_grey)\n",
        "display(bimg.newimg_color)\n",
        "display(bimg.img_resize)\n",
        "len(bimg.bytestring)/80,len(bimg.bytestring_color)/80"
      ],
      "metadata": {
        "id": "mzDzOE42-tr1",
        "outputId": "3c03efa7-ea0e-4396-9ac0-58a2c73abfb9",
        "colab": {
          "base_uri": "https://localhost:8080/",
          "height": 291
        }
      },
      "execution_count": 31,
      "outputs": [
        {
          "output_type": "display_data",
          "data": {
            "text/plain": [
              "<PIL.Image.Image image mode=L size=64x64 at 0x7F905E2767D0>"
            ],
            "image/png": "[encoded data removed]"
          },
          "metadata": {}
        },
        {
          "output_type": "display_data",
          "data": {
            "text/plain": [
              "<PIL.Image.Image image mode=L size=64x64 at 0x7F905E4A3390>"
            ],
            "image/png": "[encoded data removed]"
          },
          "metadata": {}
        },
        {
          "output_type": "display_data",
          "data": {
            "text/plain": [
              "<PIL.Image.Image image mode=RGB size=64x64 at 0x7F905E276250>"
            ],
            "image/png": "[encoded data removed]"
          },
          "metadata": {}
        },
        {
          "output_type": "display_data",
          "data": {
            "text/plain": [
              "<PIL.Image.Image image mode=RGBA size=64x64 at 0x7F905E276950>"
            ],
            "image/png": "[encoded data removed]"
          },
          "metadata": {}
        },
        {
          "output_type": "execute_result",
          "data": {
            "text/plain": [
              "(32.0, 96.0)"
            ]
          },
          "metadata": {},
          "execution_count": 31
        }
      ]
    },
    {
      "cell_type": "markdown",
      "source": [
        "We will encrypt this message for ourselves and ... \n",
        "\n",
        "```0x2478459160f8e4563ad84a1faa998158c2e47b3c8eac04654ca30f892d4c873db08339cabb0f5c775f1f798919ab4ce5772666a88ea39cf811b73c95d28ee9f9```"
      ],
      "metadata": {
        "id": "hLt2mkp_8FSQ"
      }
    },
    {
      "cell_type": "code",
      "source": [
        "p2hex='2478459160f8e4563ad84a1faa998158c2e47b3c8eac04654ca30f892d4c873db08339cabb0f5c775f1f798919ab4ce5772666a88ea39cf811b73c95d28ee9f9'"
      ],
      "metadata": {
        "id": "ofCSPjKZ_h7U"
      },
      "execution_count": 44,
      "outputs": []
    },
    {
      "cell_type": "markdown",
      "source": [
        "# Step 1: Create a Session Key and Encrypt Payload "
      ],
      "metadata": {
        "id": "NcYRkOLGCEWl"
      }
    },
    {
      "cell_type": "code",
      "source": [
        "session_aes=get_valid_secret()\n",
        "enc_img=ecies.aes_encrypt(session_aes,bimg.bytestring)"
      ],
      "metadata": {
        "id": "CaFK7UamCg0d"
      },
      "execution_count": 48,
      "outputs": []
    },
    {
      "cell_type": "markdown",
      "source": [
        "## Load Real Keys"
      ],
      "metadata": {
        "id": "1EKLOFme-8PH"
      }
    },
    {
      "cell_type": "code",
      "source": [
        "import os\n",
        "import getpass\n",
        "import ecies\n",
        "import eth_keys\n",
        "import qrcode\n",
        "\n",
        "\n",
        "%matplotlib inline\n",
        "\n",
        "def import_privKey(privkey_filepath,password=None):\n",
        "    if password==None:\n",
        "        password = getpass.getpass(\"Input password for decrypting keyfile: \")\n",
        "    password=password.encode()\n",
        "    f=open(privkey_filepath,'rb')\n",
        "    decrypted_bytes=ecies.aes_decrypt(key=hashlib.sha256(password).digest(),cipher_text=f.read())\n",
        "    privKey=eth_keys.keys.PrivateKey(decrypted_bytes)\n",
        "    return privKey\n",
        "\n",
        "def import_pubKey(pubkey_filepath):\n",
        "    f=open(pubkey_filepath,'rb')\n",
        "    privKey=eth_keys.keys.PublicKey(f.read())\n",
        "    return privKey\n",
        "\n",
        "def import_addr(addr_filepath):\n",
        "    return open(addr_filepath,'rb').read().decode()"
      ],
      "metadata": {
        "id": "fNGbTssS_m7u"
      },
      "execution_count": 40,
      "outputs": []
    },
    {
      "cell_type": "code",
      "source": [
        "from google.colab import drive\n",
        "drive.mount('/content/drive')"
      ],
      "metadata": {
        "id": "lygP0eiD-7HW",
        "outputId": "ca4253ff-9b59-4d9f-ed0b-f98bbcd60447",
        "colab": {
          "base_uri": "https://localhost:8080/"
        }
      },
      "execution_count": 34,
      "outputs": [
        {
          "output_type": "stream",
          "name": "stdout",
          "text": [
            "Mounted at /content/drive\n"
          ]
        }
      ]
    },
    {
      "cell_type": "code",
      "source": [
        "! cp drive/MyDrive/cinv/llaves.zip llaves.zip \n",
        "! unzip llaves.zip"
      ],
      "metadata": {
        "id": "wMysZY0d-7D9",
        "outputId": "756a9e05-ae29-43b8-c068-97bc4d1b05ce",
        "colab": {
          "base_uri": "https://localhost:8080/"
        }
      },
      "execution_count": 35,
      "outputs": [
        {
          "output_type": "stream",
          "name": "stdout",
          "text": [
            "Archive:  llaves.zip\n",
            "   creating: llaves/\n",
            " extracting: llaves/mi_addr.bin      \n",
            " extracting: llaves/mi_addr.png      \n",
            " extracting: llaves/mi_pub.bin       \n",
            " extracting: llaves/mi_prv.enc       \n"
          ]
        }
      ]
    },
    {
      "cell_type": "code",
      "source": [
        "import IPython.display\n",
        "my_qr=IPython.display.Image('llaves/mi_addr.png')\n",
        "\n",
        "my_privKey=import_privKey('llaves/mi_prv.enc','')\n",
        "my_pub=import_pubKey('llaves/mi_pub.bin')\n",
        "my_addr=import_addr('llaves/mi_addr.bin')\n",
        "\n",
        "display(my_qr)\n",
        "display(my_pub)\n",
        "display(my_addr)"
      ],
      "metadata": {
        "id": "gxyqvA0R-V6T",
        "outputId": "2f4cc053-0676-4c09-a8d9-9841c30e2f97",
        "colab": {
          "base_uri": "https://localhost:8080/",
          "height": 218
        }
      },
      "execution_count": 46,
      "outputs": [
        {
          "output_type": "display_data",
          "data": {
            "text/plain": [
              "<IPython.core.display.Image object>"
            ],
            "image/png": "[encoded data removed]"
          },
          "metadata": {}
        },
        {
          "output_type": "display_data",
          "data": {
            "text/plain": [
              "'0x7c88e9a4df6e9f45656c10bf66f28e28be235a15b64820b254f1b9eb2738314e6769f5c94da0c7640ffe76dcffca053b07a0804cd53a1c51ad03bfe0133ce8c5'"
            ]
          },
          "metadata": {}
        },
        {
          "output_type": "display_data",
          "data": {
            "text/plain": [
              "'D6zKNnkupqRbkB9p5rwix8QiobQWJazjyX'"
            ],
            "application/vnd.google.colaboratory.intrinsic+json": {
              "type": "string"
            }
          },
          "metadata": {}
        }
      ]
    },
    {
      "cell_type": "code",
      "source": [
        "pub2=eth_keys.keys.PublicKey(bytes.fromhex(p2hex))\n",
        "pub2"
      ],
      "metadata": {
        "id": "0ovw2tww-V3F",
        "outputId": "39b41fc8-1c55-4933-d147-132b9ddf9e26",
        "colab": {
          "base_uri": "https://localhost:8080/"
        }
      },
      "execution_count": 47,
      "outputs": [
        {
          "output_type": "execute_result",
          "data": {
            "text/plain": [
              "'0x2478459160f8e4563ad84a1faa998158c2e47b3c8eac04654ca30f892d4c873db08339cabb0f5c775f1f798919ab4ce5772666a88ea39cf811b73c95d28ee9f9'"
            ]
          },
          "metadata": {},
          "execution_count": 47
        }
      ]
    },
    {
      "cell_type": "code",
      "source": [
        "#make list of shared secrets\n",
        "our_shared_keys=[ shared_key(prvKey=my_privKey,pubKey=p) for p in [my_pub,pub2]]"
      ],
      "metadata": {
        "id": "o7Vo1igy-Von"
      },
      "execution_count": 50,
      "outputs": []
    },
    {
      "cell_type": "code",
      "source": [
        "locked_keys=[ ecies.aes_encrypt(sharekey,session_aes) for sharekey in our_shared_keys ]\n",
        "#key_prepend=len(locked_keys).to_bytes(1,'big')+b''.join(locked_keys)\n",
        "key_prepend=b''.join(locked_keys)\n",
        "print(key_prepend)\n",
        "print(len(key_prepend))"
      ],
      "metadata": {
        "id": "yPzRSve8-Vkv",
        "outputId": "74a72ded-169b-4fe6-e8b7-691d1ccf33bb",
        "colab": {
          "base_uri": "https://localhost:8080/"
        }
      },
      "execution_count": 56,
      "outputs": [
        {
          "output_type": "stream",
          "name": "stdout",
          "text": [
            "b'\\x80\\n\\xa5t2\\x99p \\x91=}\\x8d\\x88\\x1c\\xcd\\x14\\x91\\x13\\xb2G\"\\x87\\'U\\xe2`QFas\\x13\\x97\\xee~\\xbb\\xc5\\nh\\x06X\\xf0\\x01\\x8e5S\\x07\\xf2p\\xee)E0Xb\\x8b\\xfc\\xc4>; AH\\xe0x\\xfap\\xb8\\xee\\x1a4L\\xa2\\xbf\\x0c\\xcfHx\\xa7\"L\\xe7\\x89Y\\xa3\\xab\\xcc\\xabO\\xd1\\xb7=\\xf2\\x1f\\xb9\"\\xb1\\xa1~\"\\xb6f\\x98\\xb51z\\xf5q\\xce\\x9a\\x85\\x0fO\\xc5\\x18\\x85\\xe2W\\xb7c\\xbf\\x83\\x8f\\xa2P\\x8e\\xcd8\\x97'\n",
            "128\n"
          ]
        }
      ]
    },
    {
      "cell_type": "code",
      "source": [
        "\n",
        "\n",
        "#message=bimg.bytestring\n",
        "message=key_prepend+enc_img\n",
        "\n",
        "n=2*80\n",
        "chunks = [message[i:i+n] for i in range(0, len(message), n)]\n",
        "\n",
        "print(len(message))\n",
        "print(len(chunks))\n",
        "print(len(chunks[0]))\n",
        "print(len(chunks[-1]))\n",
        "\n"
      ],
      "metadata": {
        "id": "ZDvj0ajd8Vig",
        "outputId": "71eaf1b1-4aa7-4cae-e0ad-13f87c6df839",
        "colab": {
          "base_uri": "https://localhost:8080/"
        }
      },
      "execution_count": 101,
      "outputs": [
        {
          "output_type": "stream",
          "name": "stdout",
          "text": [
            "2720\n",
            "17\n",
            "160\n",
            "160\n"
          ]
        }
      ]
    },
    {
      "cell_type": "markdown",
      "source": [
        "For encrypted transmissions to single recipients...it is possible to encrypt directly with the shared key (derived from shared secret). This way both sender and recipient will have access without needing to post anything else.\n",
        "\n",
        "Sometimes we may post an AES encrypted message without any intended recipient. In this case we will use a temporary AES key and encrypt for ourselves using the same protocol. It could be for personal access or the session AES key could be published at some point in the future. In other words, the encoding protocol is identical for the case when the only recipient is ourselves."
      ],
      "metadata": {
        "id": "4PQwSkjTFOti"
      }
    },
    {
      "cell_type": "code",
      "source": [
        "recip_bytes=len(locked_keys).to_bytes(1,'big')\n",
        "length_bytes=length.to_bytes(2,'big')\n",
        "width_bytes=width.to_bytes(2,'big')\n",
        "bitnum_bytes=bit_num.to_bytes(1,'big')\n",
        "print(recip_bytes)\n",
        "print(length_bytes)\n",
        "print(width_bytes)\n",
        "print(bitnum_bytes)"
      ],
      "metadata": {
        "id": "E3Du3AnR-NWg",
        "outputId": "852c99a4-56fe-46ea-8505-30bbb599524a",
        "colab": {
          "base_uri": "https://localhost:8080/"
        }
      },
      "execution_count": 86,
      "outputs": [
        {
          "output_type": "stream",
          "name": "stdout",
          "text": [
            "b'\\x02'\n",
            "b'\\x00@'\n",
            "b'\\x00@'\n",
            "b'\\x05'\n"
          ]
        }
      ]
    },
    {
      "cell_type": "code",
      "source": [
        "#04 videos\n",
        "#05 files\n",
        "#0e encryption\n",
        "\n",
        "#For 0e we can declare encoding of encrypted data\n",
        "#This would be greyscale image\n",
        "\n",
        "header=b'\\xc1\\xdd\\x00\\x01\\x0e\\x03\\x00'+length_bytes+width_bytes+bitnum_bytes+recip_bytes\n",
        "\n",
        "#For opaque encoding with internal/encryption header we use ...\n",
        "#header=b'\\xc1\\xdd\\x00\\x01\\x0e\\x0e\\x00 + recip_bytes'\n",
        "\n",
        "header"
      ],
      "metadata": {
        "colab": {
          "base_uri": "https://localhost:8080/"
        },
        "id": "mtgfcTHSFz-4",
        "outputId": "00423f87-a404-4691-9835-5a432405faae"
      },
      "execution_count": 87,
      "outputs": [
        {
          "output_type": "execute_result",
          "data": {
            "text/plain": [
              "b'\\xc1\\xdd\\x00\\x01\\x0e\\x03\\x00\\x00@\\x00@\\x05\\x02'"
            ]
          },
          "metadata": {},
          "execution_count": 87
        }
      ]
    },
    {
      "cell_type": "code",
      "source": [
        "text='''|Here is an encrypted image going out to a very special lady...Wow|'''.encode() \n",
        "print(len(header))\n",
        "print(len(text))\n",
        "print(len(header+text))\n",
        "package=[header+text]+chunks\n",
        "print(len(package))"
      ],
      "metadata": {
        "id": "Koqa8JWCIcz_",
        "outputId": "89bd4a79-dea2-4c1f-c239-215d48a50d68",
        "colab": {
          "base_uri": "https://localhost:8080/"
        }
      },
      "execution_count": 88,
      "outputs": [
        {
          "output_type": "stream",
          "name": "stdout",
          "text": [
            "13\n",
            "67\n",
            "80\n",
            "18\n"
          ]
        }
      ]
    },
    {
      "cell_type": "code",
      "source": [
        "import cryptos\n",
        "doge=cryptos.Doge()\n",
        "#addy=doge.privtoaddr(privkeyhex)\n",
        "doge_unspents=doge.unspent(addr) \n",
        "doge_unspent_total=sum([unspent['value'] for unspent in doge_unspents])\n",
        "print(doge_unspent_total/10**8)\n",
        "print(len(doge_unspents))"
      ],
      "metadata": {
        "id": "Ch8I6YcxLq6P",
        "outputId": "3876ca74-67a0-42d5-bed8-1e5b94ba2c85",
        "colab": {
          "base_uri": "https://localhost:8080/"
        }
      },
      "execution_count": 92,
      "outputs": [
        {
          "output_type": "stream",
          "name": "stdout",
          "text": [
            "1451.91706944\n",
            "64\n"
          ]
        }
      ]
    },
    {
      "cell_type": "code",
      "source": [
        "tip=20_00_000_000\n",
        "available=doge_unspent_total-tip\n",
        "n=len(package)\n",
        "gift=int(available/n)\n",
        "outputs=[{'value':gift , 'address': addr} for i in range(len(package))]\n",
        "setup_tx=doge.mktx(doge_unspents,outputs)\n",
        "gift/100_000_000"
      ],
      "metadata": {
        "id": "6doIe-QlOFKr",
        "outputId": "aad8b114-7e36-4b16-9e84-6f0c82debc51",
        "colab": {
          "base_uri": "https://localhost:8080/"
        }
      },
      "execution_count": 98,
      "outputs": [
        {
          "output_type": "execute_result",
          "data": {
            "text/plain": [
              "79.5509483"
            ]
          },
          "metadata": {},
          "execution_count": 98
        }
      ]
    },
    {
      "cell_type": "code",
      "source": [
        "doge.signall(setup_tx,my_privKey.to_hex()[2:])"
      ],
      "metadata": {
        "id": "c_c7kVzDOfrd",
        "outputId": "df7e2810-f4fc-4a7a-ed6e-6fabc4f92941",
        "colab": {
          "base_uri": "https://localhost:8080/",
          "height": 160
        }
      },
      "execution_count": 99,
      "outputs": [
        {
          "output_type": "execute_result",
          "data": {
            "text/plain": [
              "'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'"
            ],
            "application/vnd.google.colaboratory.intrinsic+json": {
              "type": "string"
            }
          },
          "metadata": {},
          "execution_count": 99
        }
      ]
    },
    {
      "cell_type": "code",
      "source": [
        "tip/(len(cryptos.serialize(setup_tx))/2)/100000"
      ],
      "metadata": {
        "id": "37ydeFupOq_8",
        "outputId": "d0047d8a-5759-47c7-9a5d-29665f2d157f",
        "colab": {
          "base_uri": "https://localhost:8080/"
        }
      },
      "execution_count": 100,
      "outputs": [
        {
          "output_type": "execute_result",
          "data": {
            "text/plain": [
              "1.6515276630883569"
            ]
          },
          "metadata": {},
          "execution_count": 100
        }
      ]
    },
    {
      "cell_type": "code",
      "source": [
        "funding=doge.pushtx(cryptos.serialize(setup_tx))\n",
        "funding"
      ],
      "metadata": {
        "id": "qvKhFjEROwO2",
        "outputId": "2fae4cec-24c4-4720-fe3c-a82e29bddcd4",
        "colab": {
          "base_uri": "https://localhost:8080/"
        }
      },
      "execution_count": 102,
      "outputs": [
        {
          "output_type": "execute_result",
          "data": {
            "text/plain": [
              "{'data': {'network': 'DOGE',\n",
              "  'txid': 'd68175766b70f7163aec93e5a4e81480a6c6dd51d0577319d6f3392e8725f53b'},\n",
              " 'status': 'success'}"
            ]
          },
          "metadata": {},
          "execution_count": 102
        }
      ]
    },
    {
      "cell_type": "markdown",
      "source": [
        "```d68175766b70f7163aec93e5a4e81480a6c6dd51d0577319d6f3392e8725f53b```"
      ],
      "metadata": {
        "id": "RYTq-jH1RJCY"
      }
    },
    {
      "cell_type": "code",
      "source": [
        "doge.fetchtx(funding['data']['txid'])['confirmations']"
      ],
      "metadata": {
        "id": "pkJbRPNJPYsq",
        "outputId": "2d997eb5-1591-4a07-c7fa-62ec75c6c37b",
        "colab": {
          "base_uri": "https://localhost:8080/"
        }
      },
      "execution_count": 114,
      "outputs": [
        {
          "output_type": "execute_result",
          "data": {
            "text/plain": [
              "5"
            ]
          },
          "metadata": {},
          "execution_count": 114
        }
      ]
    },
    {
      "cell_type": "code",
      "source": [
        "class Cadena():\n",
        "\n",
        "  def __init__(self,prvkey,data,utxo_dct,tip):\n",
        "    self.data=data\n",
        "    self.doge=cryptos.Doge()\n",
        "    self.clip=[self.data[i:i+80] for i in range(0,len(self.data),80) ]\n",
        "    self.og_len=len(self.clip)\n",
        "    self.state='CONF'\n",
        "    self.utxo=utxo_dct\n",
        "    self.head_utxo=self.utxo\n",
        "    self.txn_ids=[self.utxo['output'].split(':')[0]]\n",
        "    self.prv=prvkey\n",
        "    self.addr=self.doge.privtoaddr(self.prv)\n",
        "    self.tip=tip\n",
        "    self.index=0\n",
        "\n",
        "  def make_tx(self):\n",
        "    tx = self.doge.mktx([self.head_utxo],[ {'value':self.head_utxo['value']-self.tip , 'address': self.addr}])\n",
        "    doge_inscribed_serial_tx=mk_opreturn( self.clip[self.index] , cryptos.serialize(tx))\n",
        "    doge_inscribed_tx=cryptos.deserialize(doge_inscribed_serial_tx)\n",
        "    self.signed_inscribed_tx=self.doge.signall(doge_inscribed_tx,self.prv)\n",
        "    self.state='READY'\n",
        "  \n",
        "  def broadcast(self):\n",
        "    self.cast=self.doge.pushtx(self.signed_inscribed_tx)\n",
        "    cast_txid=self.cast['data']['txid']\n",
        "    self.txn_ids.append(cast_txid)\n",
        "    self.head_utxo={'output':cast_txid+':0' ,'value':self.head_utxo['value']-self.tip }\n",
        "    self.index=self.index+1\n",
        "    self.state='SENT'\n",
        "\n",
        "  def update(self):\n",
        "    if self.doge.fetchtx(self.head_utxo['output'].split(':')[0])['confirmations']:\n",
        "      self.state='CONF'\n",
        "      if self.index==self.og_len:\n",
        "        self.state='DONE'\n",
        "\n",
        "import pandas as pd\n",
        "from cryptos.py3specials import safe_hexlify, from_string_to_bytes, from_int_to_byte, from_string_to_bytes\n",
        "from cryptos import serialize,deserialize\n",
        "\n",
        "def only_conf(utxos):\n",
        "    return [utxo for utxo in utxos\n",
        "            if doge.fetchtx(utxo['output'].split(':')[0])['confirmations']>0]\n",
        "\n",
        "def mk_opreturn(msg, rawtx=None, json=0):\n",
        "    \n",
        "    def op_push(data):\n",
        "        if type(data) == bytes:\n",
        "            bytedata=data\n",
        "        else:\n",
        "            bytedata=data.encode()\n",
        "        import struct\n",
        "        if len(data) < 0x4c:\n",
        "            return from_int_to_byte(len(bytedata)) + bytedata\n",
        "        elif len(data) < 0xff:\n",
        "            return from_int_to_byte(76) + struct.pack('<B', len(bytedata)) + bytedata\n",
        "        elif len(data) < 0xffff:\n",
        "            return from_int_to_byte(77) + struct.pack('<H', len(bytedata)) + bytedata\n",
        "        elif len(data) < 0xffffffff:\n",
        "            return from_int_to_byte(78) + struct.pack('<I', len(bytedata)) + bytedata\n",
        "        else: raise Exception(\"Input data error. Rawtx must be hex chars\" \\\n",
        "                            + \"0xffffffff > len(data) > 0\")\n",
        "\n",
        "    orhex = safe_hexlify(b'\\x6a' + op_push(msg))\n",
        "    orjson = {'script' : orhex, 'value' : 0}\n",
        "    if rawtx is not None:\n",
        "        try:\n",
        "            txo = deserialize(rawtx)\n",
        "            if not 'outs' in txo.keys(): raise Exception(\"OP_Return cannot be the sole output!\")\n",
        "            txo['outs'].append(orjson)\n",
        "            newrawtx = serialize(txo)\n",
        "            return newrawtx\n",
        "        except Exception as E:\n",
        "            print(E)\n",
        "            print(type(E))\n",
        "            raise Exception(\"Raw Tx Error!\")\n",
        "    return orhex if not json else orjson"
      ],
      "metadata": {
        "id": "OGL2KbcSPc6U"
      },
      "execution_count": 123,
      "outputs": []
    },
    {
      "cell_type": "code",
      "source": [
        "sparkle_unspents=only_conf(doge.unspent(addr) )"
      ],
      "metadata": {
        "id": "TFf-8JXtQ2Sz"
      },
      "execution_count": 124,
      "outputs": []
    },
    {
      "cell_type": "code",
      "source": [
        "len(sparkle_unspents)"
      ],
      "metadata": {
        "id": "6FZmCz3QRvgS",
        "outputId": "63bdde79-7622-489b-8405-f4309227e30f",
        "colab": {
          "base_uri": "https://localhost:8080/"
        }
      },
      "execution_count": 125,
      "outputs": [
        {
          "output_type": "execute_result",
          "data": {
            "text/plain": [
              "18"
            ]
          },
          "metadata": {},
          "execution_count": 125
        }
      ]
    },
    {
      "cell_type": "code",
      "source": [
        "cadenas=[ Cadena(privKey.to_hex()[2:],*datum_utxo,100_000_000)for datum_utxo in zip(package,sparkle_unspents) ]"
      ],
      "metadata": {
        "id": "eUxe63uUQlhc"
      },
      "execution_count": 126,
      "outputs": []
    },
    {
      "cell_type": "code",
      "source": [
        "import time\n",
        "\n",
        "height=doge.current_block_height()-1\n",
        "print(height)\n",
        "while True:\n",
        "  check_height=doge.current_block_height()\n",
        "  if check_height>height:\n",
        "    height=check_height\n",
        "    print(height)\n",
        "    [cad.make_tx() for cad in cadenas if cad.state=='CONF'];\n",
        "    [cad.broadcast() for cad in cadenas if cad.state=='READY'];\n",
        "    [cad.update() for cad in cadenas if cad.state=='SENT'];\n",
        "    [cad.make_tx() for cad in cadenas if cad.state=='CONF'];\n",
        "    [cad.broadcast() for cad in cadenas if cad.state=='READY'];\n",
        "    print([cad.state for cad in cadenas])\n",
        "    if all([cad.state=='DONE' for cad in cadenas]):\n",
        "      break\n",
        "  time.sleep(30)\n"
      ],
      "metadata": {
        "id": "9gdtAphqQsSl",
        "outputId": "c7416850-38ea-4798-d4a7-2a82a8972ae7",
        "colab": {
          "base_uri": "https://localhost:8080/"
        }
      },
      "execution_count": 127,
      "outputs": [
        {
          "output_type": "stream",
          "name": "stdout",
          "text": [
            "4251807\n",
            "4251808\n",
            "['SENT', 'SENT', 'SENT', 'SENT', 'SENT', 'SENT', 'SENT', 'SENT', 'SENT', 'SENT', 'SENT', 'SENT', 'SENT', 'SENT', 'SENT', 'SENT', 'SENT', 'SENT']\n",
            "4251809\n",
            "['DONE', 'SENT', 'SENT', 'SENT', 'SENT', 'SENT', 'SENT', 'SENT', 'SENT', 'SENT', 'SENT', 'SENT', 'SENT', 'SENT', 'SENT', 'SENT', 'SENT', 'SENT']\n",
            "4251812\n",
            "['DONE', 'DONE', 'DONE', 'DONE', 'DONE', 'DONE', 'DONE', 'DONE', 'DONE', 'DONE', 'DONE', 'DONE', 'DONE', 'DONE', 'DONE', 'DONE', 'DONE', 'DONE']\n"
          ]
        }
      ]
    },
    {
      "cell_type": "code",
      "source": [
        "doge.privtopub(my_privKey.to_hex()[2:])"
      ],
      "metadata": {
        "id": "pxZifSYSge3W",
        "outputId": "bde1c2a6-605c-4841-b0cb-bf5a7906c861",
        "colab": {
          "base_uri": "https://localhost:8080/",
          "height": 35
        }
      },
      "execution_count": 133,
      "outputs": [
        {
          "output_type": "execute_result",
          "data": {
            "text/plain": [
              "'047c88e9a4df6e9f45656c10bf66f28e28be235a15b64820b254f1b9eb2738314e6769f5c94da0c7640ffe76dcffca053b07a0804cd53a1c51ad03bfe0133ce8c5'"
            ],
            "application/vnd.google.colaboratory.intrinsic+json": {
              "type": "string"
            }
          },
          "metadata": {},
          "execution_count": 133
        }
      ]
    },
    {
      "cell_type": "code",
      "source": [
        "addys=[doge.pubtoaddr(bytes.fromhex('04'+p.to_hex()[2:])) for p in [my_pub,pub2]]\n",
        "addys"
      ],
      "metadata": {
        "id": "sVHUjmKIfjLC",
        "outputId": "4085f05d-3b3e-42f2-ff8f-c0eb367b6c44",
        "colab": {
          "base_uri": "https://localhost:8080/"
        }
      },
      "execution_count": 135,
      "outputs": [
        {
          "output_type": "execute_result",
          "data": {
            "text/plain": [
              "['D6zKNnkupqRbkB9p5rwix8QiobQWJazjyX', 'DJBkcc9zShCCWPTvPuLUiHQegNPbmMipEH']"
            ]
          },
          "metadata": {},
          "execution_count": 135
        }
      ]
    },
    {
      "cell_type": "code",
      "source": [
        "doge_unspents=doge.unspent(addr) \n",
        "doge_unspent_total=sum([unspent['value'] for unspent in doge_unspents])\n",
        "tip=6_00_000_000\n",
        "available=doge_unspent_total-tip\n",
        "\n",
        "outputs=[{'value':doge_unspent_total-tip-2_00_000_000 , 'address': 'D6zKNnkupqRbkB9p5rwix8QiobQWJazjyX'},\n",
        "         {'value':2_00_000_000 , 'address': 'DJBkcc9zShCCWPTvPuLUiHQegNPbmMipEH'}]\n",
        "close_tx=doge.mktx(doge_unspents,outputs)"
      ],
      "metadata": {
        "id": "5ItWf44tRP_w"
      },
      "execution_count": 141,
      "outputs": []
    },
    {
      "cell_type": "code",
      "source": [
        "doge.signall(close_tx,my_privKey.to_hex()[2:])"
      ],
      "metadata": {
        "id": "87YSY49PiZhQ",
        "outputId": "53215812-0b5c-429d-abe5-06cfa23cfc9a",
        "colab": {
          "base_uri": "https://localhost:8080/",
          "height": 160
        }
      },
      "execution_count": 142,
      "outputs": [
        {
          "output_type": "execute_result",
          "data": {
            "text/plain": [
              "'010000001268329e20c399f8d764530da04f50cda3bb210a63c378b9faaebd284580a8c637000000008a473044022079aabb71356f4df849db83a11715b2551c2bab47002a79af9ed956f373ca91ac022065c509632cfaff1a04d76b85224f4c996c8b4325a1cdcf762ef61923ae29afaf0141047c88e9a4df6e9f45656c10bf66f28e28be235a15b64820b254f1b9eb2738314e6769f5c94da0c7640ffe76dcffca053b07a0804cd53a1c51ad03bfe0133ce8c5fffffffffacf7de20f6a13bd26abfefe64ebc25504b4859b6a71e85ededdc927d777ea4d000000008a473044022071948c8c74f5d3d45e575c812faa97861d1a86c9d009f350f8e0eb8cd1f93a8902206720dbe8e34b65d49a40b0727eec639d7086d05fb57231c718985b275cbbf2e40141047c88e9a4df6e9f45656c10bf66f28e28be235a15b64820b254f1b9eb2738314e6769f5c94da0c7640ffe76dcffca053b07a0804cd53a1c51ad03bfe0133ce8c5ffffffffe91bfa3e01f6716c9c71a613b8596849c1ef395f86f132a492347e7a686c6f59000000008b483045022100c1ad11b0386ff368ddc79d88e9dcd066fc759b78b66fdedc9b1300a9448f2cb602200e008370f42cae2cd163d5e56d4d6e9b3f38d04008955918274064a6e1a4706b0141047c88e9a4df6e9f45656c10bf66f28e28be235a15b64820b254f1b9eb2738314e6769f5c94da0c7640ffe76dcffca053b07a0804cd53a1c51ad03bfe0133ce8c5ffffffffd9e25031dd5703a0ef3ff2282f7e1e60ec240cc801ba10063cea8f8362b92048000000008b483045022100c059c02232e08975633233fb828006a818efa0903e1d10e1819173c2c7df99a90220063fa387bcb179424820a6aeaaa98322b57f363981ee506763101b45bf2585ea0141047c88e9a4df6e9f45656c10bf66f28e28be235a15b64820b254f1b9eb2738314e6769f5c94da0c7640ffe76dcffca053b07a0804cd53a1c51ad03bfe0133ce8c5ffffffffd335b3e574d1ed8fe8c92ab3c13a5dd304876fa5b0581f55ed7748bf74157013000000008b48304502210082b73b141fd1594cd478c016b5d3bf81363469bf3f68a8bafaa57fa707febc1b02206263a31b7cf91f94eb22c45b5381c1ebd1cd2c8b0408cef18df8c8354c75595a0141047c88e9a4df6e9f45656c10bf66f28e28be235a15b64820b254f1b9eb2738314e6769f5c94da0c7640ffe76dcffca053b07a0804cd53a1c51ad03bfe0133ce8c5ffffffffaf6e35e3a4224683256c1162618c475589026c5423529346cb92a8522150cf59000000008a4730440220144e7773fa33e22b47c896eb7735370930cce7f52973f275cef05206ff8e4672022014279f6d8aa1f1ddd661911c5084dddd58c0cc0071930279d2f1c7e64dcb482c0141047c88e9a4df6e9f45656c10bf66f28e28be235a15b64820b254f1b9eb2738314e6769f5c94da0c7640ffe76dcffca053b07a0804cd53a1c51ad03bfe0133ce8c5ffffffffa648a020cc222925ac9775d18d723852a30afd93ea5c63d62d1eaf5e9cefa115000000008b483045022100c35277f9035b4f3f618c711e35e20eb46f08a17d01f89e4c198c1d6b67882e75022052baa660b5db148383560ba4c2177118e9a690a81457e7bea774350bc4410ddc0141047c88e9a4df6e9f45656c10bf66f28e28be235a15b64820b254f1b9eb2738314e6769f5c94da0c7640ffe76dcffca053b07a0804cd53a1c51ad03bfe0133ce8c5ffffffff91ee565be8b3264848de5181c435f0036be89fc2a59fd82e75490959b59e6517000000008b483045022100b0e4b0fbfd3ad150aacd87757e57268fb91bf03757028a722245396dff3aadbe022060ae7eda2214795089350f1de0e9a9e81da9de66ac0c103a9ccce8b2c2731c760141047c88e9a4df6e9f45656c10bf66f28e28be235a15b64820b254f1b9eb2738314e6769f5c94da0c7640ffe76dcffca053b07a0804cd53a1c51ad03bfe0133ce8c5ffffffff68e0b2a8f33b066b5d81d2ec12b3e118683323633d99704b033eae75f1563d4a000000008b483045022100c3780f0536792c008ad49c89b57ff6ec3e1a1d37d90b1064f5c8301fe27a1fe6022026ab331516a8b8aa990b27234808527389ad9fb908e3e1ca30c67fb3e4bdca120141047c88e9a4df6e9f45656c10bf66f28e28be235a15b64820b254f1b9eb2738314e6769f5c94da0c7640ffe76dcffca053b07a0804cd53a1c51ad03bfe0133ce8c5ffffffff423d2ac9f3af1fe548ce8d405c40f5615329d331075c32e97fe45d4528a3470f000000008b483045022100efaeb75a4cb352f5cab7c78340b0d56e5c7c87e4e71081a40134a6ebaff997c70220378f8ae2fffe656faa5efa27c78a029f85d3a8491ba6c885e080183f992060750141047c88e9a4df6e9f45656c10bf66f28e28be235a15b64820b254f1b9eb2738314e6769f5c94da0c7640ffe76dcffca053b07a0804cd53a1c51ad03bfe0133ce8c5ffffffff40e6104ba4b56fed570a57226d4917bffa96ff96101651980c4b612f79afdcb4000000008a47304402203fd20332c4af1ff40755946ed7713c03af77416a04ec756c0125cad2b3cc208702204efda6c47f5a966267e30f77206eff212a46a316d4ac0d1d9de473cb64d0de160141047c88e9a4df6e9f45656c10bf66f28e28be235a15b64820b254f1b9eb2738314e6769f5c94da0c7640ffe76dcffca053b07a0804cd53a1c51ad03bfe0133ce8c5ffffffff28c8e0bd9c2ec5f2b8c735f4fe4a6192053d26111688f97b67f47090022425e4000000008a47304402203ac9c53e03461bba482ca72d4a94100569434c75fbbeb6ce75233acddbf916ac02204ce986cdd5a95e1364196dc3a204ef339c99b729a280f36fea81e82eca261c960141047c88e9a4df6e9f45656c10bf66f28e28be235a15b64820b254f1b9eb2738314e6769f5c94da0c7640ffe76dcffca053b07a0804cd53a1c51ad03bfe0133ce8c5ffffffffe645d8cd65ebde2dfe6478e7dbec112fb7f3dd80129115227638ab0152e69f17000000008a47304402202c724d32ecd93f62212e495fa58951f5348e66957736ee165675891c2465baef02205454cb72789217872f68047565ef868ae63da1807921d81bf60e8359873da1090141047c88e9a4df6e9f45656c10bf66f28e28be235a15b64820b254f1b9eb2738314e6769f5c94da0c7640ffe76dcffca053b07a0804cd53a1c51ad03bfe0133ce8c5ffffffffbe7dfe00b974c7fb2ab8b4b549d9eff15d46805c8edf779a2420286d726a6596000000008b48304502210088e0798fd28809c0da74a6d7bc037a8eaaafbc4e0aad9b0c80f4e6994279a5120220371577c5d7d2a19748dff364e700fa3991db6d0a0e5a8e5ba41873efec8edbdd0141047c88e9a4df6e9f45656c10bf66f28e28be235a15b64820b254f1b9eb2738314e6769f5c94da0c7640ffe76dcffca053b07a0804cd53a1c51ad03bfe0133ce8c5ffffffffb2c2df51e5ff4ded8579985be415bf76cf3d42e2fd79caa952af6aeca9a59d9c000000008a473044022041d7f240412ad1c7a42ff8174012e788f7bfeaa646243a24b15cea5d0242d12902207519b4b344a2fdf77adce81bf4e86d8d25a17ccb74bc016a10b96a4e8fc255b60141047c88e9a4df6e9f45656c10bf66f28e28be235a15b64820b254f1b9eb2738314e6769f5c94da0c7640ffe76dcffca053b07a0804cd53a1c51ad03bfe0133ce8c5ffffffff998d8ba81b130c2cb579e6507d51ca58aa43132dc2bd7bd721009b361d546ae2000000008b48304502210086b878491776700b9221f3e6d412f95b500cc9f161ea43d04ef0318abad77ebb0220010312f5bac8a46e59a8e66bd7cee2ce5ee42477f1017e658fc7e7a20ed8ee4f0141047c88e9a4df6e9f45656c10bf66f28e28be235a15b64820b254f1b9eb2738314e6769f5c94da0c7640ffe76dcffca053b07a0804cd53a1c51ad03bfe0133ce8c5ffffffff8f3d488b4fe658cf40bc8bbaf23daa90354c0b89d5b2b312fa447d2c0e301543000000008a47304402202077b0fae23fb876a1e94c9b30ffc0d8d7bd10f211f55baa13d19771d7c7599e02205c0883a215aecf987516a9d6b47aa9c9a4cd72bb5d7421c77b07147a12c6ae000141047c88e9a4df6e9f45656c10bf66f28e28be235a15b64820b254f1b9eb2738314e6769f5c94da0c7640ffe76dcffca053b07a0804cd53a1c51ad03bfe0133ce8c5ffffffff56bb0d01491f4e853f5c30529592dfe6bf1a7ed6b51b5eb06a985a9f366b2bc7000000008a473044022040d7510aa0a10bcb438c65699151f317ae3cb20ec6602d5133629ecff5e71c7c0220175c0108114690aabb74f5251219669bf4a46f718088b68e5205bf3922edda580141047c88e9a4df6e9f45656c10bf66f28e28be235a15b64820b254f1b9eb2738314e6769f5c94da0c7640ffe76dcffca053b07a0804cd53a1c51ad03bfe0133ce8c5ffffffff023c429756200000001976a914144739367df0ff8d1c61d03704298d49cf93ef3f88ac00c2eb0b000000001976a9148f1a4020cc7a25b8adfe2a04c7a8fe72c8a7665a88ac00000000'"
            ],
            "application/vnd.google.colaboratory.intrinsic+json": {
              "type": "string"
            }
          },
          "metadata": {},
          "execution_count": 142
        }
      ]
    },
    {
      "cell_type": "code",
      "source": [
        "tip/(len(cryptos.serialize(close_tx))/2)/100000"
      ],
      "metadata": {
        "id": "Y4j9sanBifmS",
        "outputId": "04edf0cf-d55b-4b2e-f0ee-fd9892964d86",
        "colab": {
          "base_uri": "https://localhost:8080/"
        }
      },
      "execution_count": 143,
      "outputs": [
        {
          "output_type": "execute_result",
          "data": {
            "text/plain": [
              "1.813236627379873"
            ]
          },
          "metadata": {},
          "execution_count": 143
        }
      ]
    },
    {
      "cell_type": "code",
      "source": [
        "closing=doge.pushtx(cryptos.serialize(close_tx))\n",
        "closing"
      ],
      "metadata": {
        "id": "Q5Z_2nPPiwEv",
        "outputId": "caec7cb8-d7ad-4d1f-f7a6-814fce64e39d",
        "colab": {
          "base_uri": "https://localhost:8080/"
        }
      },
      "execution_count": 144,
      "outputs": [
        {
          "output_type": "execute_result",
          "data": {
            "text/plain": [
              "{'data': {'network': 'DOGE',\n",
              "  'txid': '9c2dba0f88a48791eaf74dbf16e573a967dff255bb63fea8066107f992ffd0eb'},\n",
              " 'status': 'success'}"
            ]
          },
          "metadata": {},
          "execution_count": 144
        }
      ]
    },
    {
      "cell_type": "code",
      "source": [
        "doge.fetchtx(closing['data']['txid'])['confirmations']"
      ],
      "metadata": {
        "id": "OcH-Bd1gjAiD",
        "outputId": "7d4cfd50-0c50-4a46-9dd7-c10a16dedf4c",
        "colab": {
          "base_uri": "https://localhost:8080/"
        }
      },
      "execution_count": 145,
      "outputs": [
        {
          "output_type": "execute_result",
          "data": {
            "text/plain": [
              "1"
            ]
          },
          "metadata": {},
          "execution_count": 145
        }
      ]
    },
    {
      "cell_type": "code",
      "source": [
        ""
      ],
      "metadata": {
        "id": "s6k6jU9LjI7h"
      },
      "execution_count": null,
      "outputs": []
    }
  ]
}