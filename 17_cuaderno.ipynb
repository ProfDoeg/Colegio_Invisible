{
  "nbformat": 4,
  "nbformat_minor": 0,
  "metadata": {
    "colab": {
      "name": "17_cuaderno.ipynb",
      "provenance": [],
      "authorship_tag": "ABX9TyOzOky5vd/3IG1cH6+Zt1p1",
      "include_colab_link": true
    },
    "kernelspec": {
      "name": "python3",
      "display_name": "Python 3"
    },
    "language_info": {
      "name": "python"
    }
  },
  "cells": [
    {
      "cell_type": "markdown",
      "metadata": {
        "id": "view-in-github",
        "colab_type": "text"
      },
      "source": [
        "<a href=\"https://colab.research.google.com/github/ProfDoeg/Colegio_Invisible/blob/main/17_cuaderno.ipynb\" target=\"_parent\"><img src=\"https://colab.research.google.com/assets/colab-badge.svg\" alt=\"Open In Colab\"/></a>"
      ]
    },
    {
      "cell_type": "code",
      "execution_count": 1,
      "metadata": {
        "colab": {
          "base_uri": "https://localhost:8080/"
        },
        "id": "QU-j-ie4xl3n",
        "outputId": "8b3edbf3-f98d-4f6d-f0cf-e3472ad46cb4"
      },
      "outputs": [
        {
          "output_type": "stream",
          "name": "stdout",
          "text": [
            "Looking in indexes: https://pypi.org/simple, https://us-python.pkg.dev/colab-wheels/public/simple/\n",
            "Collecting eciespy\n",
            "  Downloading eciespy-0.3.11-py3-none-any.whl (11 kB)\n",
            "Collecting eth_keys\n",
            "  Downloading eth_keys-0.4.0-py3-none-any.whl (21 kB)\n",
            "Collecting cryptos\n",
            "  Downloading cryptos-1.36-py3-none-any.whl (69 kB)\n",
            "\u001b[K     |████████████████████████████████| 69 kB 2.9 MB/s \n",
            "\u001b[?25hCollecting coincurve<16,>=13\n",
            "  Downloading coincurve-15.0.1-cp37-cp37m-manylinux_2_17_x86_64.manylinux2014_x86_64.whl (555 kB)\n",
            "\u001b[K     |████████████████████████████████| 555 kB 15.3 MB/s \n",
            "\u001b[?25hCollecting pycryptodome<4.0.0,>=3.9.9\n",
            "  Downloading pycryptodome-3.14.1-cp35-abi3-manylinux2010_x86_64.whl (2.0 MB)\n",
            "\u001b[K     |████████████████████████████████| 2.0 MB 31.3 MB/s \n",
            "\u001b[?25hCollecting eth_keys\n",
            "  Downloading eth_keys-0.3.4-py3-none-any.whl (21 kB)\n",
            "Collecting eth-utils<2.0.0,>=1.8.2\n",
            "  Downloading eth_utils-1.10.0-py3-none-any.whl (24 kB)\n",
            "Collecting eth-typing<3.0.0,>=2.2.1\n",
            "  Downloading eth_typing-2.3.0-py3-none-any.whl (6.2 kB)\n",
            "Requirement already satisfied: cffi>=1.3.0 in /usr/local/lib/python3.7/dist-packages (from coincurve<16,>=13->eciespy) (1.15.0)\n",
            "Collecting asn1crypto\n",
            "  Downloading asn1crypto-1.5.1-py2.py3-none-any.whl (105 kB)\n",
            "\u001b[K     |████████████████████████████████| 105 kB 62.7 MB/s \n",
            "\u001b[?25hRequirement already satisfied: pycparser in /usr/local/lib/python3.7/dist-packages (from cffi>=1.3.0->coincurve<16,>=13->eciespy) (2.21)\n",
            "Collecting eth-hash<0.4.0,>=0.3.1\n",
            "  Downloading eth_hash-0.3.2-py3-none-any.whl (8.8 kB)\n",
            "Collecting cytoolz<1.0.0,>=0.10.1\n",
            "  Downloading cytoolz-0.11.2.tar.gz (481 kB)\n",
            "\u001b[K     |████████████████████████████████| 481 kB 59.8 MB/s \n",
            "\u001b[?25hRequirement already satisfied: toolz>=0.8.0 in /usr/local/lib/python3.7/dist-packages (from cytoolz<1.0.0,>=0.10.1->eth-utils<2.0.0,>=1.8.2->eth_keys) (0.11.2)\n",
            "Building wheels for collected packages: cytoolz\n",
            "  Building wheel for cytoolz (setup.py) ... \u001b[?25l\u001b[?25hdone\n",
            "  Created wheel for cytoolz: filename=cytoolz-0.11.2-cp37-cp37m-linux_x86_64.whl size=1236692 sha256=d801ae332e544395534917224a8e36aa1cffb8e759311543fe273e0c9a38e666\n",
            "  Stored in directory: /root/.cache/pip/wheels/38/70/71/ca13ea3d36ccd0b3d0ec7d7a4ca67522048d695b556bba4f59\n",
            "Successfully built cytoolz\n",
            "Installing collected packages: eth-typing, eth-hash, cytoolz, eth-utils, asn1crypto, pycryptodome, eth-keys, coincurve, eciespy, cryptos\n",
            "Successfully installed asn1crypto-1.5.1 coincurve-15.0.1 cryptos-1.36 cytoolz-0.11.2 eciespy-0.3.11 eth-hash-0.3.2 eth-keys-0.3.4 eth-typing-2.3.0 eth-utils-1.10.0 pycryptodome-3.14.1\n"
          ]
        }
      ],
      "source": [
        "! pip install eciespy eth_keys cryptos"
      ]
    },
    {
      "cell_type": "code",
      "source": [
        "import ecies\n",
        "import eth_keys\n",
        "import coincurve\n",
        "import hashlib"
      ],
      "metadata": {
        "id": "zarlKnDDxuEI"
      },
      "execution_count": 2,
      "outputs": []
    },
    {
      "cell_type": "code",
      "source": [
        "broad_message=b'''Tell the world something. Encrypt with AES key.\n",
        "AES encrypt multiple copes of that key using a list of shared secrets.'''\n",
        "print(broad_message.decode(),len(broad_message))"
      ],
      "metadata": {
        "colab": {
          "base_uri": "https://localhost:8080/"
        },
        "id": "qz8wc0m3qJPL",
        "outputId": "7fbf91a2-9800-46e4-fa59-c4dc74fd38e0"
      },
      "execution_count": 19,
      "outputs": [
        {
          "output_type": "stream",
          "name": "stdout",
          "text": [
            "Tell the world something. Encrypt with AES key.\n",
            "AES encrypt multiple copes of that key using a list of shared secrets. 118\n"
          ]
        }
      ]
    },
    {
      "cell_type": "code",
      "source": [
        "from coincurve.utils import get_valid_secret\n",
        "\n",
        "master_aes=get_valid_secret()\n",
        "broad_message_aes=ecies.aes_encrypt(master_aes,broad_message)"
      ],
      "metadata": {
        "id": "7hCqAYj60hyn"
      },
      "execution_count": 39,
      "outputs": []
    },
    {
      "cell_type": "markdown",
      "source": [
        "Now we have an encrypted message and we want to distribute it so select key holders can open it. \n",
        "\n",
        "We will encrypt the `master_aes` encryption key (using aes) so that each recipient can access it using their special-unique encrypted copy.\n",
        "\n",
        "**HOT DIGGITY DOG !!! HOW DO WE MAKE SURE ONLY THE SELECT KEY HOLDER CAN OPEN THEIR COPY ???**\n",
        "\n",
        "#Diffie Helman Key Exchange...Broadcast"
      ],
      "metadata": {
        "id": "c1k8Q48e1DxY"
      }
    },
    {
      "cell_type": "code",
      "source": [
        ""
      ],
      "metadata": {
        "id": "qUChCFme1Cn-"
      },
      "execution_count": null,
      "outputs": []
    },
    {
      "cell_type": "code",
      "source": [
        "privKey1 = ecies.utils.generate_eth_key()\n",
        "privKey2 = ecies.utils.generate_eth_key()\n",
        "privKey3 = ecies.utils.generate_eth_key()\n",
        "print(privKey1, type(privKey1))\n",
        "print(privKey2, type(privKey2))\n",
        "print(privKey3, type(privKey3))"
      ],
      "metadata": {
        "colab": {
          "base_uri": "https://localhost:8080/"
        },
        "id": "pr1ytF2yUC0m",
        "outputId": "3801c3fb-7782-4249-f8c7-b2106e6dcb58"
      },
      "execution_count": 20,
      "outputs": [
        {
          "output_type": "stream",
          "name": "stdout",
          "text": [
            "0x56b61df9c372f3a4c59fc986c7c1745c6b733de1dd8cdb8ce0dfaab39a48b86c <class 'eth_keys.datatypes.PrivateKey'>\n",
            "0x6655df8927cd5df81737292294210336eb80298d379d5a17b105f60df0eb5751 <class 'eth_keys.datatypes.PrivateKey'>\n",
            "0xa4d3efc650a78d101a9581c24dd273c95511783c58d21b8cc42bdbbbac060623 <class 'eth_keys.datatypes.PrivateKey'>\n"
          ]
        }
      ]
    },
    {
      "cell_type": "code",
      "source": [
        "#convert from ecies private/public key to concurve private/public key\n",
        "\n",
        "k1 = coincurve.PrivateKey(privKey1.to_bytes())\n",
        "k2 = coincurve.PrivateKey(privKey2.to_bytes())\n",
        "k3 = coincurve.PrivateKey(privKey2.to_bytes())\n",
        "\n",
        "p1 = coincurve.PublicKey( privKey1.public_key.to_compressed_bytes() )\n",
        "p2 = coincurve.PublicKey( privKey2.public_key.to_compressed_bytes() )\n",
        "p3 = coincurve.PublicKey( privKey3.public_key.to_compressed_bytes() )"
      ],
      "metadata": {
        "id": "RrCx912DULLJ"
      },
      "execution_count": 41,
      "outputs": []
    },
    {
      "cell_type": "code",
      "source": [
        "shared12 = p2.multiply(k1.secret)\n",
        "shared21 = p1.multiply(k2.secret)"
      ],
      "metadata": {
        "id": "dUQEo3NVUcNT"
      },
      "execution_count": 42,
      "outputs": []
    },
    {
      "cell_type": "code",
      "source": [
        "shared12.format().hex(),shared21.format().hex()"
      ],
      "metadata": {
        "colab": {
          "base_uri": "https://localhost:8080/"
        },
        "id": "JNIBLpVzUiV4",
        "outputId": "58cf559f-ecc4-4e93-89bc-17e97016112d"
      },
      "execution_count": 23,
      "outputs": [
        {
          "output_type": "execute_result",
          "data": {
            "text/plain": [
              "('02097d7834368fbdc1c1e016a5301a9f71be7ed7578fa0aa63ff43e1755b0f34b8',\n",
              " '02097d7834368fbdc1c1e016a5301a9f71be7ed7578fa0aa63ff43e1755b0f34b8')"
            ]
          },
          "metadata": {},
          "execution_count": 23
        }
      ]
    },
    {
      "cell_type": "code",
      "source": [
        "from Crypto.Protocol.KDF import HKDF\n",
        "AES_KEY_BYTES_LEN = 32\n",
        "from Crypto.Hash import SHA256"
      ],
      "metadata": {
        "id": "HNlkFRQxWSJX"
      },
      "execution_count": 32,
      "outputs": []
    },
    {
      "cell_type": "code",
      "source": [
        "ps=[p1,p2,p3]\n",
        "shared_secrets=[p.multiply(k1.secret) for p in ps]"
      ],
      "metadata": {
        "id": "ki5TAOoA4ET7"
      },
      "execution_count": 44,
      "outputs": []
    },
    {
      "cell_type": "code",
      "source": [
        "def shared_key(prvKey,pubKey):\n",
        "  cc_prvKey=coincurve.PrivateKey(prvKey.to_bytes())\n",
        "  cc_pubKey= coincurve.PublicKey( pubKey.to_compressed_bytes() )\n",
        "  return HKDF(cc_pubKey.multiply(cc_prvKey.secret).format(), AES_KEY_BYTES_LEN, b\"\", SHA256)"
      ],
      "metadata": {
        "id": "gJHZWz4_ISOO"
      },
      "execution_count": 67,
      "outputs": []
    },
    {
      "cell_type": "code",
      "source": [
        "shared_key(privKey3,privKey1.public_key)"
      ],
      "metadata": {
        "colab": {
          "base_uri": "https://localhost:8080/"
        },
        "id": "zvN00RiKKcck",
        "outputId": "3f6be705-91b3-4a28-fcd4-faa1ad7f2458"
      },
      "execution_count": 73,
      "outputs": [
        {
          "output_type": "execute_result",
          "data": {
            "text/plain": [
              "b'\\xfcc/\\n\\x89\\x1a\\x16\\xd8\\xdbL\\x9a\\x00\\xb2\\x0b:\\xfe\\xdc\\xd3\"\\x85\\x0b\\x90\\xca_\\xe7\\x91\\x1c\\xdf0[J\\xc4'"
            ]
          },
          "metadata": {},
          "execution_count": 73
        }
      ]
    },
    {
      "cell_type": "code",
      "source": [
        "shared_keys=[ HKDF(shared_secret.format(), AES_KEY_BYTES_LEN, b\"\", SHA256) for shared_secret in shared_secrets]"
      ],
      "metadata": {
        "id": "Wa5Bq5THJuev"
      },
      "execution_count": null,
      "outputs": []
    },
    {
      "cell_type": "code",
      "source": [
        "access_keys=[ ecies.aes_encrypt(shared_key,master_aes) for shared_key in shared_keys]\n",
        "print(len(b''.join(access_keys)))\n",
        "access_keys"
      ],
      "metadata": {
        "colab": {
          "base_uri": "https://localhost:8080/"
        },
        "id": "_d16pr3F8RSi",
        "outputId": "a5e0d528-0b09-42f8-a6c9-a2aed6766011"
      },
      "execution_count": 47,
      "outputs": [
        {
          "output_type": "stream",
          "name": "stdout",
          "text": [
            "192\n"
          ]
        },
        {
          "output_type": "execute_result",
          "data": {
            "text/plain": [
              "[b'`\\xcc\"\\xcc\\xd6]\\x98M^\\xc5\\x88\\x01\\x0b\\xd49G\\xedG\\tK\\xa8\\xfc(\\x1dC\\xces1,wr\\xd8!\\xe1.\\xae\\x1c\\xae#7\\xd6\\xb5(\\xa4R\\x9f\\xfe\\xce\\x89-d\\x7f\\xb0\\xfb\\xae?s\\xe4X\\xd4\\xae\\xc3\\xc8\\x85',\n",
              " b'\\x8a\\xe1\\xe4\\x91\\x1e\"kP\"\\x82e\\xb9\\xde\\xcd\\xc8A\\xcaq\\x8a`\\xc2\\xa5\\x87\\x00\\xb65\\xcb\\xce\\x8b\\xbc\\x1e\\x15\\xc2\\xdei\\x81\\x89qn\\xbb0.\\xfd\\xff\\x88\\x86A\\x86\\xc3L,\\xf6\\x83\\xfe\\xca\\x13A\\xf7\\x08\\x13\\xd2oc\\xbb',\n",
              " b'\\x9bTZ\\x08\\x8f\\xa5\\xc1\\xccY\\x0c.h\\xd7\\xe5\\x85\\x8f\\x92\\x13\\xa4\\x9c\\xae\\x8a\\x17\\x1dY\\xb6\\xa5\\xcf\\x17\\x04\\x15\\xd0\\x0f\\n_\\xc5\\xb5b2jt&5\\x8b\\x12\\x98\\xf2\\x08NE\\x8c7\\xab\\x9cTT\\xd9^\\xac\\xa5\\x94\\xad\\xc7*']"
            ]
          },
          "metadata": {},
          "execution_count": 47
        }
      ]
    },
    {
      "cell_type": "code",
      "source": [
        "ecies.aes_decrypt(shared_keys[0],access_keys[0])"
      ],
      "metadata": {
        "colab": {
          "base_uri": "https://localhost:8080/"
        },
        "id": "xYWix2Q8Aco6",
        "outputId": "f8fbe08b-2a07-437c-967b-07540c4e02ca"
      },
      "execution_count": 59,
      "outputs": [
        {
          "output_type": "execute_result",
          "data": {
            "text/plain": [
              "b'Nv\\x07a_\\xb3\\xabwA\\x97\\x85A\\x04i\\n\\x00\\xfc\\xdf5\\xb3c+\\x03\\\\}\\xbbA\\x8a8\\xbb\\xbf\\xe3'"
            ]
          },
          "metadata": {},
          "execution_count": 59
        }
      ]
    },
    {
      "cell_type": "code",
      "source": [
        "dist_keys=[ecies.aes_decrypt(*args)  for args in zip(shared_keys,access_keys)]\n",
        "dist_keys"
      ],
      "metadata": {
        "colab": {
          "base_uri": "https://localhost:8080/"
        },
        "id": "oOSS3xVxW3iR",
        "outputId": "8bdd5f4d-9cf6-4ba5-ded1-d88ef9bdd501"
      },
      "execution_count": 61,
      "outputs": [
        {
          "output_type": "execute_result",
          "data": {
            "text/plain": [
              "[b'Nv\\x07a_\\xb3\\xabwA\\x97\\x85A\\x04i\\n\\x00\\xfc\\xdf5\\xb3c+\\x03\\\\}\\xbbA\\x8a8\\xbb\\xbf\\xe3',\n",
              " b'Nv\\x07a_\\xb3\\xabwA\\x97\\x85A\\x04i\\n\\x00\\xfc\\xdf5\\xb3c+\\x03\\\\}\\xbbA\\x8a8\\xbb\\xbf\\xe3',\n",
              " b'Nv\\x07a_\\xb3\\xabwA\\x97\\x85A\\x04i\\n\\x00\\xfc\\xdf5\\xb3c+\\x03\\\\}\\xbbA\\x8a8\\xbb\\xbf\\xe3']"
            ]
          },
          "metadata": {},
          "execution_count": 61
        }
      ]
    },
    {
      "cell_type": "code",
      "source": [
        "master_aes"
      ],
      "metadata": {
        "id": "gGmnf3g8UlHd",
        "colab": {
          "base_uri": "https://localhost:8080/"
        },
        "outputId": "5a3d866c-1979-407b-9712-789d5bf5fb36"
      },
      "execution_count": 62,
      "outputs": [
        {
          "output_type": "execute_result",
          "data": {
            "text/plain": [
              "b'Nv\\x07a_\\xb3\\xabwA\\x97\\x85A\\x04i\\n\\x00\\xfc\\xdf5\\xb3c+\\x03\\\\}\\xbbA\\x8a8\\xbb\\xbf\\xe3'"
            ]
          },
          "metadata": {},
          "execution_count": 62
        }
      ]
    },
    {
      "cell_type": "code",
      "source": [
        "ecies.aes_decrypt(dist_keys[2],broad_message_aes)"
      ],
      "metadata": {
        "colab": {
          "base_uri": "https://localhost:8080/"
        },
        "id": "VTVrQNeax1eI",
        "outputId": "66896cac-8e17-4aa6-d829-5022e09b9f2e"
      },
      "execution_count": 64,
      "outputs": [
        {
          "output_type": "execute_result",
          "data": {
            "text/plain": [
              "b'Tell the world something. Encrypt with AES key.\\nAES encrypt multiple copes of that key using a list of shared secrets.'"
            ]
          },
          "metadata": {},
          "execution_count": 64
        }
      ]
    },
    {
      "cell_type": "code",
      "source": [
        "mess2post=len(access_keys).to_bytes(1,'big')+b''.join(access_keys)+broad_message_aes"
      ],
      "metadata": {
        "id": "lnzqRxtlEJeG"
      },
      "execution_count": 75,
      "outputs": []
    },
    {
      "cell_type": "code",
      "source": [
        "mess2post"
      ],
      "metadata": {
        "colab": {
          "base_uri": "https://localhost:8080/"
        },
        "id": "t7MFiqePWJAK",
        "outputId": "cad43330-8978-4e28-e360-37eeb3c6ed3c"
      },
      "execution_count": 76,
      "outputs": [
        {
          "output_type": "execute_result",
          "data": {
            "text/plain": [
              "b'\\x03`\\xcc\"\\xcc\\xd6]\\x98M^\\xc5\\x88\\x01\\x0b\\xd49G\\xedG\\tK\\xa8\\xfc(\\x1dC\\xces1,wr\\xd8!\\xe1.\\xae\\x1c\\xae#7\\xd6\\xb5(\\xa4R\\x9f\\xfe\\xce\\x89-d\\x7f\\xb0\\xfb\\xae?s\\xe4X\\xd4\\xae\\xc3\\xc8\\x85\\x8a\\xe1\\xe4\\x91\\x1e\"kP\"\\x82e\\xb9\\xde\\xcd\\xc8A\\xcaq\\x8a`\\xc2\\xa5\\x87\\x00\\xb65\\xcb\\xce\\x8b\\xbc\\x1e\\x15\\xc2\\xdei\\x81\\x89qn\\xbb0.\\xfd\\xff\\x88\\x86A\\x86\\xc3L,\\xf6\\x83\\xfe\\xca\\x13A\\xf7\\x08\\x13\\xd2oc\\xbb\\x9bTZ\\x08\\x8f\\xa5\\xc1\\xccY\\x0c.h\\xd7\\xe5\\x85\\x8f\\x92\\x13\\xa4\\x9c\\xae\\x8a\\x17\\x1dY\\xb6\\xa5\\xcf\\x17\\x04\\x15\\xd0\\x0f\\n_\\xc5\\xb5b2jt&5\\x8b\\x12\\x98\\xf2\\x08NE\\x8c7\\xab\\x9cTT\\xd9^\\xac\\xa5\\x94\\xad\\xc7*\\xc5\\xae\\xe0=D1\\xef&m\\xcf\\xd9\\\\\\x0b\\xc2\\xde\\xa2\\x90l\\xd1\\x18x\\xdb\\xb4\\x80\\xf3\\xc0m\\x91^1\\xa8\\xdf5!\\x1d)\\xe1\\xc7\\xfeV\\x93\\xc9\\xfb\\xc1E\\xce\\xa4A\\xf8\\x86\\xca<38\\xbe\\x1f\\xf1\\xe6%\\xd0<\\xdf^\\xb819\\x9b,\\xbc\\xc6p@\\xac\\'\\xcd\\xa1\\x01i\\x14\\xb0Q\\x91\\x9ah\\x99\\xa4\\xbb\\xf5\\r\\x9b\\x86\\xbf\\xa4n\\xec\\xe0\\xa4&\\xc8\\xa7b\\xd1\\x8f\\xb821\\xe4@k\\xf8]5\\x0b\\xc5\\xcd\\x82\\x06l\\xd1\\xac\\t2Y\\x040\\x15\\xf5\\xa19\\x8dEUq\\xaa~\\xf2\\xdbc\\xfd5\\x80vu\\x81\\xb8\\x0cb\\xddZ\\xa8'"
            ]
          },
          "metadata": {},
          "execution_count": 76
        }
      ]
    },
    {
      "cell_type": "code",
      "source": [
        "len(mess2post)"
      ],
      "metadata": {
        "colab": {
          "base_uri": "https://localhost:8080/"
        },
        "id": "QgPC7n95WRv-",
        "outputId": "1880cb21-081e-443f-cbda-8262e4ba15a5"
      },
      "execution_count": 80,
      "outputs": [
        {
          "output_type": "execute_result",
          "data": {
            "text/plain": [
              "343"
            ]
          },
          "metadata": {},
          "execution_count": 80
        }
      ]
    },
    {
      "cell_type": "code",
      "source": [
        "len(broad_message)"
      ],
      "metadata": {
        "colab": {
          "base_uri": "https://localhost:8080/"
        },
        "id": "tiCD2oZOWW5F",
        "outputId": "7350d583-7d5d-4ae3-b520-84d5f03adb4d"
      },
      "execution_count": 81,
      "outputs": [
        {
          "output_type": "execute_result",
          "data": {
            "text/plain": [
              "118"
            ]
          },
          "metadata": {},
          "execution_count": 81
        }
      ]
    },
    {
      "cell_type": "code",
      "source": [
        ""
      ],
      "metadata": {
        "id": "UF6nvlJ1Wq7o"
      },
      "execution_count": null,
      "outputs": []
    },
    {
      "cell_type": "markdown",
      "source": [
        "For encrypted transmissions to single recipients...it is possible to encrypt directly with the shared key (derived from shared secret). This way both sender and recipient will have access without needing to post anything else.\n",
        "\n",
        "Sometimes we may post an AES encrypted message without any intended recipient. In this case we will use a temporary AES key and encrypt for ourselves using the same protocol. It could be for personal access or the session AES key could be published at some point in the future. In other words, the encoding protocol is identical for the case when the only recipient is ourselves."
      ],
      "metadata": {
        "id": "4PQwSkjTFOti"
      }
    },
    {
      "cell_type": "code",
      "source": [
        ""
      ],
      "metadata": {
        "id": "mtgfcTHSFz-4"
      },
      "execution_count": null,
      "outputs": []
    },
    {
      "cell_type": "code",
      "source": [
        ""
      ],
      "metadata": {
        "id": "qhDM2aRqoNWT"
      },
      "execution_count": null,
      "outputs": []
    }
  ]
}