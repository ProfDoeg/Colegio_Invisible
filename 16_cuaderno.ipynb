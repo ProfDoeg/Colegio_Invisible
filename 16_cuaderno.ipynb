{
  "nbformat": 4,
  "nbformat_minor": 0,
  "metadata": {
    "colab": {
      "name": "15_cuaderno.ipynb",
      "provenance": [],
      "include_colab_link": true
    },
    "kernelspec": {
      "name": "python3",
      "display_name": "Python 3"
    },
    "language_info": {
      "name": "python"
    }
  },
  "cells": [
    {
      "cell_type": "markdown",
      "metadata": {
        "id": "view-in-github",
        "colab_type": "text"
      },
      "source": [
        "<a href=\"https://colab.research.google.com/github/ProfDoeg/Colegio_Invisible/blob/main/16_cuaderno.ipynb\" target=\"_parent\"><img src=\"https://colab.research.google.com/assets/colab-badge.svg\" alt=\"Open In Colab\"/></a>"
      ]
    },
    {
      "cell_type": "code",
      "source": [
        "#! rm Colegio_Invisible -r"
      ],
      "metadata": {
        "id": "6YV5qP8RODUW"
      },
      "execution_count": null,
      "outputs": []
    },
    {
      "cell_type": "code",
      "execution_count": 1,
      "metadata": {
        "id": "p80LxM-iMpBC",
        "colab": {
          "base_uri": "https://localhost:8080/"
        },
        "outputId": "9ba58968-3678-4214-c9eb-001a09c07787"
      },
      "outputs": [
        {
          "output_type": "stream",
          "name": "stdout",
          "text": [
            "Cloning into 'Colegio_Invisible'...\n",
            "remote: Enumerating objects: 1152, done.\u001b[K\n",
            "remote: Counting objects: 100% (22/22), done.\u001b[K\n",
            "remote: Compressing objects: 100% (22/22), done.\u001b[K\n",
            "remote: Total 1152 (delta 11), reused 0 (delta 0), pack-reused 1130\u001b[K\n",
            "Receiving objects: 100% (1152/1152), 137.36 MiB | 15.55 MiB/s, done.\n",
            "Resolving deltas: 100% (794/794), done.\n",
            "Checking out files: 100% (90/90), done.\n",
            "Looking in indexes: https://pypi.org/simple, https://us-python.pkg.dev/colab-wheels/public/simple/\n",
            "Collecting cryptos\n",
            "  Downloading cryptos-1.36-py3-none-any.whl (69 kB)\n",
            "\u001b[K     |████████████████████████████████| 69 kB 5.7 MB/s \n",
            "\u001b[?25hInstalling collected packages: cryptos\n",
            "Successfully installed cryptos-1.36\n"
          ]
        }
      ],
      "source": [
        "! git clone https://github.com/ProfDoeg/Colegio_Invisible.git\n",
        "! pip install cryptos"
      ]
    },
    {
      "cell_type": "markdown",
      "source": [
        "#Parallel Transaction Chains\n",
        "\n"
      ],
      "metadata": {
        "id": "A54RU5ZeUZZk"
      }
    },
    {
      "cell_type": "code",
      "source": [
        "from PIL import Image\n",
        "import numpy as np"
      ],
      "metadata": {
        "id": "jSzywLaHMsem"
      },
      "execution_count": 2,
      "outputs": []
    },
    {
      "cell_type": "code",
      "source": [
        "def grey_imgarr(imgarr):\n",
        "  return imgarr[:,:,:3].mean(axis=2).astype('uint8')\n",
        "\n",
        "def message_2_bit_array(message,mode=None):\n",
        "    '''This function takes in a message as string, bytestring or hextring.\n",
        "    If hexstring input the set mode='hex' '''\n",
        "    if type(message)==bytes:\n",
        "        hex_str=message.hex()\n",
        "    elif (type(message)==str):\n",
        "        if mode not in ('hex','hexstring'):\n",
        "            hex_str=message.encode().hex()\n",
        "        else:\n",
        "            hex_str=message\n",
        "    else:\n",
        "        print('fix the input and mode')\n",
        "        return None\n",
        "    \n",
        "    num=int('0x'+hex_str,base=16)\n",
        "    byte_len=(len(hex_str)+1)//2\n",
        "    bit_len=byte_len*8\n",
        "    bin_str=bin(num)\n",
        "    bit_list=[int(bit) for bit in bin_str[2:]]\n",
        "    bit_list=[0]*(bit_len-len(bit_list))+bit_list\n",
        "    bit_array=np.array(bit_list,dtype='uint8')\n",
        "    return bit_array\n",
        "\n",
        "def bit_array_2_byte_str(bit_array):\n",
        "    '''Convert bit array to a bytestring'''\n",
        "    bit_list=[ str(bit) for bit in bit_array]\n",
        "    bin_str='0b'+(''.join(bit_list))\n",
        "    num=int(bin_str,base=2)\n",
        "    return num.to_bytes(len(bit_array)//8,'big')\n",
        "\n",
        "def bit_array_2_hex_str(bit_array):  \n",
        "    '''Convert a bit array to a hexstring'''\n",
        "    return bit_array_2_byte_str(bit_array).hex()\n",
        "\n",
        "def bit_array_2_str(bit_array,encoding='utf-8'):\n",
        "    '''Convert a bit array to a string'''\n",
        "    return bit_array_2_byte_str(bit_array).decode(encoding)\n",
        "\n",
        "def int2bitarray(x,bit=8):\n",
        "  return message_2_bit_array(hex(x)[2:],mode='hex')[:bit]\n",
        "\n",
        "def bitarray2int(b_arr):\n",
        "  ln=b_arr.shape[0]\n",
        "  scales=(2**np.arange(7,-1,-1))[:ln]\n",
        "  return (b_arr*scales).sum()\n",
        "\n",
        "def imgarr2bitarray(imgarr,bit=8):\n",
        "  return np.array([ int2bitarray(it,bit) for it in imgarr.reshape(-1)]).reshape(-1)\n",
        "\n",
        "def bitarray2imgarr(barrs,imgshape=(16,16),bit=2,color=1):\n",
        "  lns=len(barrs.reshape(-1))\n",
        "  #Bs=barrs.reshape(*imgshape,bit)\n",
        "  intlst=[ bitarray2int(barrs.reshape(-1)[i:i+bit]) for i in range(0,lns,bit) ]\n",
        "  intarr=np.array(intlst).reshape(*imgshape,color).astype('uint8')\n",
        "  return intarr\n",
        " \n",
        "def bitarray2imgarr_scale(barrs,imgshape=(16,16),bit=2,color=1):\n",
        "  lns=len(barrs.reshape(-1))\n",
        "  #Bs=barrs.reshape(*imgshape,bit)\n",
        "  intlst=[ bitarray2int_scale(barrs.reshape(-1)[i:i+bit]) for i in range(0,lns,bit) ]\n",
        "  intarr=np.array(intlst).reshape(*imgshape,color).astype('uint8')\n",
        "  return intarr"
      ],
      "metadata": {
        "id": "rsUqVeQXiaH4"
      },
      "execution_count": 3,
      "outputs": []
    },
    {
      "cell_type": "code",
      "source": [
        "class bitimage():\n",
        "\n",
        "  def __init__(self,imgpath,dims=(16,16),bit=2,color=1):\n",
        "    from PIL import Image\n",
        "    self.color=color\n",
        "    self.bit=bit\n",
        "    self.dims=list(dims)\n",
        "    self.img_og=Image.open(imgpath)\n",
        "    self.img_resize=self.img_og.resize(dims)\n",
        "    self.grey=grey_imgarr(np.array(self.img_resize))\n",
        "    self.img_grey=Image.fromarray(self.grey)\n",
        "    self.bitarray=imgarr2bitarray(self.grey,bit)\n",
        "    self.bitarray_color=imgarr2bitarray(np.array(self.img_resize)[:,:,:color],bit)\n",
        "    self.newimg=Image.fromarray(bitarray2imgarr(self.bitarray,imgshape=dims[::-1],bit=bit,color=1).squeeze())\n",
        "    self.newimg_color=Image.fromarray(bitarray2imgarr(self.bitarray_color,imgshape=dims[::-1],bit=bit,color=3).squeeze())\n",
        "    self.bytestring=bit_array_2_byte_str(self.bitarray)\n",
        "    self.bytestring_color=bit_array_2_byte_str(self.bitarray_color)\n",
        "\n",
        "\n"
      ],
      "metadata": {
        "id": "zaDY5mN6q_eR"
      },
      "execution_count": 4,
      "outputs": []
    },
    {
      "cell_type": "code",
      "source": [
        "!ls Colegio_Invisible/img"
      ],
      "metadata": {
        "id": "BMHGoycbRTmT"
      },
      "execution_count": null,
      "outputs": []
    },
    {
      "cell_type": "markdown",
      "source": [
        "# Transform Image and Create Byte Encoding "
      ],
      "metadata": {
        "id": "2XqOjTOpAFSm"
      }
    },
    {
      "cell_type": "code",
      "source": [
        "length=7*24\n",
        "width=5*24\n",
        "bit_num=4\n",
        "\n",
        "\n",
        "bimg=bitimage('Colegio_Invisible/img/paco.png',dims=(length,width),bit=bit_num,color=3)\n",
        "display(bimg.newimg)\n",
        "display(bimg.img_grey)\n",
        "display(bimg.newimg_color)\n",
        "display(bimg.img_resize)\n",
        "len(bimg.bytestring)/80,len(bimg.bytestring_color)/80"
      ],
      "metadata": {
        "colab": {
          "base_uri": "https://localhost:8080/",
          "height": 515
        },
        "id": "JNi4bF6sH_Gd",
        "outputId": "41fbfa78-8c13-48b4-d933-b40ac5d4e0a2"
      },
      "execution_count": 13,
      "outputs": [
        {
          "output_type": "display_data",
          "data": {
            "text/plain": [
              "<PIL.Image.Image image mode=L size=168x120 at 0x7EFD5C3A9E50>"
            ],
            "image/png": "[encoded data removed]"
          },
          "metadata": {}
        },
        {
          "output_type": "display_data",
          "data": {
            "text/plain": [
              "<PIL.Image.Image image mode=L size=168x120 at 0x7EFD5C3A93D0>"
            ],
            "image/png": "[encoded data removed]"
          },
          "metadata": {}
        },
        {
          "output_type": "display_data",
          "data": {
            "text/plain": [
              "<PIL.Image.Image image mode=RGB size=168x120 at 0x7EFD5C87B510>"
            ],
            "image/png": "[encoded data removed]"
          },
          "metadata": {}
        },
        {
          "output_type": "display_data",
          "data": {
            "text/plain": [
              "<PIL.Image.Image image mode=RGBA size=168x120 at 0x7EFD5C3A9FD0>"
            ],
            "image/png": "[encoded data removed]"
          },
          "metadata": {}
        },
        {
          "output_type": "execute_result",
          "data": {
            "text/plain": [
              "(126.0, 378.0)"
            ]
          },
          "metadata": {},
          "execution_count": 13
        }
      ]
    },
    {
      "cell_type": "markdown",
      "source": [
        "# Create Embedding for Blockchain"
      ],
      "metadata": {
        "id": "XUPKMXFM_-QB"
      }
    },
    {
      "cell_type": "code",
      "source": [
        "length"
      ],
      "metadata": {
        "id": "hveHLetVd8of"
      },
      "execution_count": null,
      "outputs": []
    },
    {
      "cell_type": "code",
      "source": [
        "depth=4 #depth of transaction chain\n",
        "\n",
        "import hashlib \n",
        "\n",
        "message=bimg.bytestring_color\n",
        "H=hashlib.sha256(message)\n",
        "\n",
        "n=6*80\n",
        "chunks = [message[i:i+n] for i in range(0, len(message), n)]\n",
        "\n",
        "print(len(chunks))\n",
        "print(len(chunks[-1]))\n",
        "\n",
        "print(H.digest())"
      ],
      "metadata": {
        "id": "clOFe3jmD8Iq",
        "colab": {
          "base_uri": "https://localhost:8080/"
        },
        "outputId": "167c3959-caa0-45a7-c0f7-8514575e7b53"
      },
      "execution_count": 14,
      "outputs": [
        {
          "output_type": "stream",
          "name": "stdout",
          "text": [
            "63\n",
            "480\n",
            "b'\\xf4?1-\\r\\xd7f\\xa2\\xd6\\x91\\xbc%F\\x12\\xbb\\x12\\xd3\\x06\\n\\x9b\\xbc\\xae\\x96\\xba}=*\\xcb\\x02\\x0c\\xc7\\x0f'\n"
          ]
        }
      ]
    },
    {
      "cell_type": "code",
      "source": [
        "length_bytes=length.to_bytes(2,'big')\n",
        "width_bytes=width.to_bytes(2,'big')\n",
        "bitnum_bytes=bit_num.to_bytes(1,'big')\n",
        "print(length_bytes)\n",
        "print(width_bytes)\n",
        "print(bitnum_bytes)"
      ],
      "metadata": {
        "colab": {
          "base_uri": "https://localhost:8080/"
        },
        "id": "UI1fkdjRcr9v",
        "outputId": "ad1ed09d-ffae-405e-9027-90fdc87125c7"
      },
      "execution_count": 15,
      "outputs": [
        {
          "output_type": "stream",
          "name": "stdout",
          "text": [
            "b'\\x00\\xa8'\n",
            "b'\\x00x'\n",
            "b'\\x04'\n"
          ]
        }
      ]
    },
    {
      "cell_type": "code",
      "source": [
        "header=b'\\xc1\\xdd\\x00\\x01\\x03\\xff\\x01'+length_bytes+width_bytes+bitnum_bytes\n",
        "text='''|Paco was a kitten I found on the side of the road in a drain ditch.\n",
        " The first night after taking him home he slept in a bag. \n",
        " He was named after fashion designer Paco Rabanne|'''.encode() \n",
        "print(len(header))\n",
        "print(len(text))\n",
        "len(header+text)"
      ],
      "metadata": {
        "id": "3rv-SKod-DXx",
        "colab": {
          "base_uri": "https://localhost:8080/"
        },
        "outputId": "ee5dc094-7ff5-4207-e864-5989a34ae808"
      },
      "execution_count": 17,
      "outputs": [
        {
          "output_type": "stream",
          "name": "stdout",
          "text": [
            "12\n",
            "178\n"
          ]
        },
        {
          "output_type": "execute_result",
          "data": {
            "text/plain": [
              "190"
            ]
          },
          "metadata": {},
          "execution_count": 17
        }
      ]
    },
    {
      "cell_type": "code",
      "source": [
        "package=[header+text]+chunks\n",
        "len(package)"
      ],
      "metadata": {
        "id": "yXA37A0yLCJB",
        "colab": {
          "base_uri": "https://localhost:8080/"
        },
        "outputId": "b5c3c30f-0f33-43dc-fc63-e27a598bfe28"
      },
      "execution_count": 18,
      "outputs": [
        {
          "output_type": "execute_result",
          "data": {
            "text/plain": [
              "64"
            ]
          },
          "metadata": {},
          "execution_count": 18
        }
      ]
    },
    {
      "cell_type": "code",
      "source": [
        "! pip install eciespy eth_keys cryptos qrcode base58 "
      ],
      "metadata": {
        "colab": {
          "base_uri": "https://localhost:8080/"
        },
        "id": "QZifm154JW46",
        "outputId": "ee1198be-b7b3-464a-dfe1-f5141649aa7d"
      },
      "execution_count": 19,
      "outputs": [
        {
          "output_type": "stream",
          "name": "stdout",
          "text": [
            "Looking in indexes: https://pypi.org/simple, https://us-python.pkg.dev/colab-wheels/public/simple/\n",
            "Collecting eciespy\n",
            "  Downloading eciespy-0.3.11-py3-none-any.whl (11 kB)\n",
            "Collecting eth_keys\n",
            "  Downloading eth_keys-0.4.0-py3-none-any.whl (21 kB)\n",
            "Requirement already satisfied: cryptos in /usr/local/lib/python3.7/dist-packages (1.36)\n",
            "Collecting qrcode\n",
            "  Downloading qrcode-7.3.1.tar.gz (43 kB)\n",
            "\u001b[K     |████████████████████████████████| 43 kB 1.8 MB/s \n",
            "\u001b[?25hCollecting base58\n",
            "  Downloading base58-2.1.1-py3-none-any.whl (5.6 kB)\n",
            "Collecting coincurve<16,>=13\n",
            "  Downloading coincurve-15.0.1-cp37-cp37m-manylinux_2_17_x86_64.manylinux2014_x86_64.whl (555 kB)\n",
            "\u001b[K     |████████████████████████████████| 555 kB 42.0 MB/s \n",
            "\u001b[?25hCollecting eth_keys\n",
            "  Downloading eth_keys-0.3.4-py3-none-any.whl (21 kB)\n",
            "Collecting pycryptodome<4.0.0,>=3.9.9\n",
            "  Downloading pycryptodome-3.14.1-cp35-abi3-manylinux2010_x86_64.whl (2.0 MB)\n",
            "\u001b[K     |████████████████████████████████| 2.0 MB 44.4 MB/s \n",
            "\u001b[?25hCollecting eth-typing<3.0.0,>=2.2.1\n",
            "  Downloading eth_typing-2.3.0-py3-none-any.whl (6.2 kB)\n",
            "Collecting eth-utils<2.0.0,>=1.8.2\n",
            "  Downloading eth_utils-1.10.0-py3-none-any.whl (24 kB)\n",
            "Collecting asn1crypto\n",
            "  Downloading asn1crypto-1.5.1-py2.py3-none-any.whl (105 kB)\n",
            "\u001b[K     |████████████████████████████████| 105 kB 69.7 MB/s \n",
            "\u001b[?25hRequirement already satisfied: cffi>=1.3.0 in /usr/local/lib/python3.7/dist-packages (from coincurve<16,>=13->eciespy) (1.15.0)\n",
            "Requirement already satisfied: pycparser in /usr/local/lib/python3.7/dist-packages (from cffi>=1.3.0->coincurve<16,>=13->eciespy) (2.21)\n",
            "Collecting cytoolz<1.0.0,>=0.10.1\n",
            "  Downloading cytoolz-0.11.2.tar.gz (481 kB)\n",
            "\u001b[K     |████████████████████████████████| 481 kB 70.0 MB/s \n",
            "\u001b[?25hCollecting eth-hash<0.4.0,>=0.3.1\n",
            "  Downloading eth_hash-0.3.2-py3-none-any.whl (8.8 kB)\n",
            "Requirement already satisfied: toolz>=0.8.0 in /usr/local/lib/python3.7/dist-packages (from cytoolz<1.0.0,>=0.10.1->eth-utils<2.0.0,>=1.8.2->eth_keys) (0.11.2)\n",
            "Building wheels for collected packages: cytoolz, qrcode\n",
            "  Building wheel for cytoolz (setup.py) ... \u001b[?25l\u001b[?25hdone\n",
            "  Created wheel for cytoolz: filename=cytoolz-0.11.2-cp37-cp37m-linux_x86_64.whl size=1236733 sha256=d28ab71d5bbd290eeabda5d0845e4e230ce7a3c22461a7cf348ea35b6e3f9a3c\n",
            "  Stored in directory: /root/.cache/pip/wheels/38/70/71/ca13ea3d36ccd0b3d0ec7d7a4ca67522048d695b556bba4f59\n",
            "  Building wheel for qrcode (setup.py) ... \u001b[?25l\u001b[?25hdone\n",
            "  Created wheel for qrcode: filename=qrcode-7.3.1-py3-none-any.whl size=40402 sha256=2883f397fdfbd0f8d57df908ded147c93641a393f1adf5c7d2a3e2692e3826f0\n",
            "  Stored in directory: /root/.cache/pip/wheels/93/d7/39/a4111be2cfb8e679938aa671a37888b6afb1f9e7d748e94492\n",
            "Successfully built cytoolz qrcode\n",
            "Installing collected packages: eth-typing, eth-hash, cytoolz, eth-utils, asn1crypto, pycryptodome, eth-keys, coincurve, qrcode, eciespy, base58\n",
            "Successfully installed asn1crypto-1.5.1 base58-2.1.1 coincurve-15.0.1 cytoolz-0.11.2 eciespy-0.3.11 eth-hash-0.3.2 eth-keys-0.3.4 eth-typing-2.3.0 eth-utils-1.10.0 pycryptodome-3.14.1 qrcode-7.3.1\n"
          ]
        }
      ]
    },
    {
      "cell_type": "code",
      "source": [
        "import pandas as pd\n",
        "from cryptos.py3specials import safe_hexlify, from_string_to_bytes, from_int_to_byte, from_string_to_bytes\n",
        "from cryptos import serialize,deserialize\n",
        "\n",
        "import hashlib\n",
        "import os\n",
        "import getpass\n",
        "import ecies\n",
        "import eth_keys\n",
        "import cryptos\n",
        "import qrcode\n",
        "import base58\n",
        "from PIL import Image\n",
        "import matplotlib.pyplot as plt\n",
        "%matplotlib inline\n",
        "\n",
        "def import_privKey(privkey_filepath,password=None):\n",
        "    if password==None:\n",
        "        password = getpass.getpass(\"Input password for decrypting keyfile: \")\n",
        "    password=password.encode()\n",
        "    f=open(privkey_filepath,'rb')\n",
        "    decrypted_bytes=ecies.aes_decrypt(key=hashlib.sha256(password).digest(),cipher_text=f.read())\n",
        "    privKey=eth_keys.keys.PrivateKey(decrypted_bytes)\n",
        "    return privKey\n",
        "\n",
        "def import_pubKey(pubkey_filepath):\n",
        "    f=open(pubkey_filepath,'rb')\n",
        "    privKey=eth_keys.keys.PublicKey(f.read())\n",
        "    return privKey\n",
        "\n",
        "def import_addr(addr_filepath):\n",
        "    return open(addr_filepath,'rb').read().decode()\n",
        "\n",
        "def only_conf(utxos):\n",
        "    return [utxo for utxo in utxos\n",
        "            if doge.fetchtx(utxo['output'].split(':')[0])['confirmations']>0]\n",
        "\n",
        "def mk_opreturn(msg, rawtx=None, json=0):\n",
        "    \n",
        "    def op_push(data):\n",
        "        if type(data) == bytes:\n",
        "            bytedata=data\n",
        "        else:\n",
        "            bytedata=data.encode()\n",
        "        import struct\n",
        "        if len(data) < 0x4c:\n",
        "            return from_int_to_byte(len(bytedata)) + bytedata\n",
        "        elif len(data) < 0xff:\n",
        "            return from_int_to_byte(76) + struct.pack('<B', len(bytedata)) + bytedata\n",
        "        elif len(data) < 0xffff:\n",
        "            return from_int_to_byte(77) + struct.pack('<H', len(bytedata)) + bytedata\n",
        "        elif len(data) < 0xffffffff:\n",
        "            return from_int_to_byte(78) + struct.pack('<I', len(bytedata)) + bytedata\n",
        "        else: raise Exception(\"Input data error. Rawtx must be hex chars\" \\\n",
        "                            + \"0xffffffff > len(data) > 0\")\n",
        "\n",
        "    orhex = safe_hexlify(b'\\x6a' + op_push(msg))\n",
        "    orjson = {'script' : orhex, 'value' : 0}\n",
        "    if rawtx is not None:\n",
        "        try:\n",
        "            txo = deserialize(rawtx)\n",
        "            if not 'outs' in txo.keys(): raise Exception(\"OP_Return cannot be the sole output!\")\n",
        "            txo['outs'].append(orjson)\n",
        "            newrawtx = serialize(txo)\n",
        "            return newrawtx\n",
        "        except Exception as E:\n",
        "            print(E)\n",
        "            print(type(E))\n",
        "            raise Exception(\"Raw Tx Error!\")\n",
        "    return orhex if not json else orjson"
      ],
      "metadata": {
        "id": "grmMh1V2M9sL"
      },
      "execution_count": 20,
      "outputs": []
    },
    {
      "cell_type": "markdown",
      "source": [
        "# Load Keys and Addresses"
      ],
      "metadata": {
        "id": "gUmrbQ38-h9c"
      }
    },
    {
      "cell_type": "code",
      "source": [
        "from google.colab import drive\n",
        "drive.mount('/content/drive')"
      ],
      "metadata": {
        "id": "qsBg50AOOqE_",
        "colab": {
          "base_uri": "https://localhost:8080/"
        },
        "outputId": "41c3e1a6-f7b2-4bbf-f56d-941a53dc0305"
      },
      "execution_count": 21,
      "outputs": [
        {
          "output_type": "stream",
          "name": "stdout",
          "text": [
            "Mounted at /content/drive\n"
          ]
        }
      ]
    },
    {
      "cell_type": "code",
      "source": [
        "! cp drive/MyDrive/cinv/llaves.zip llaves.zip \n",
        "! unzip llaves.zip"
      ],
      "metadata": {
        "id": "6KAu2_OsQBf_",
        "colab": {
          "base_uri": "https://localhost:8080/"
        },
        "outputId": "77763896-4a88-4782-8be9-0b429d234ca8"
      },
      "execution_count": 22,
      "outputs": [
        {
          "output_type": "stream",
          "name": "stdout",
          "text": [
            "Archive:  llaves.zip\n",
            "   creating: llaves/\n",
            " extracting: llaves/mi_addr.bin      \n",
            " extracting: llaves/mi_addr.png      \n",
            " extracting: llaves/mi_pub.bin       \n",
            " extracting: llaves/mi_prv.enc       \n"
          ]
        }
      ]
    },
    {
      "cell_type": "code",
      "source": [
        "import IPython.display\n",
        "qr=IPython.display.Image('llaves/mi_addr.png')\n",
        "\n",
        "privKey=import_privKey('llaves/mi_prv.enc','')\n",
        "pub=import_pubKey('llaves/mi_pub.bin').to_hex()\n",
        "addr=import_addr('llaves/mi_addr.bin')\n",
        "\n",
        "display(qr)\n",
        "display(pub)\n",
        "display(addr)"
      ],
      "metadata": {
        "id": "_Zok6MGCQKnu",
        "colab": {
          "base_uri": "https://localhost:8080/",
          "height": 236
        },
        "outputId": "f5361fdd-1534-4eea-8618-c255aa07280e"
      },
      "execution_count": 23,
      "outputs": [
        {
          "output_type": "display_data",
          "data": {
            "text/plain": [
              "<IPython.core.display.Image object>"
            ],
            "image/png": "[encoded data removed]"
          },
          "metadata": {}
        },
        {
          "output_type": "display_data",
          "data": {
            "text/plain": [
              "'0x7c88e9a4df6e9f45656c10bf66f28e28be235a15b64820b254f1b9eb2738314e6769f5c94da0c7640ffe76dcffca053b07a0804cd53a1c51ad03bfe0133ce8c5'"
            ],
            "application/vnd.google.colaboratory.intrinsic+json": {
              "type": "string"
            }
          },
          "metadata": {}
        },
        {
          "output_type": "display_data",
          "data": {
            "text/plain": [
              "'D6zKNnkupqRbkB9p5rwix8QiobQWJazjyX'"
            ],
            "application/vnd.google.colaboratory.intrinsic+json": {
              "type": "string"
            }
          },
          "metadata": {}
        }
      ]
    },
    {
      "cell_type": "markdown",
      "source": [
        "# Inspect Outputs"
      ],
      "metadata": {
        "id": "-5nTrJB_-zsM"
      }
    },
    {
      "cell_type": "code",
      "source": [
        "doge=cryptos.Doge()\n",
        "#addy=doge.privtoaddr(privkeyhex)\n",
        "doge_unspents=only_conf( doge.unspent(addr) )\n",
        "doge_unspent_total=sum([unspent['value'] for unspent in doge_unspents])\n",
        "doge_unspent_total/10**8"
      ],
      "metadata": {
        "id": "LcQ5g4f_QP67",
        "colab": {
          "base_uri": "https://localhost:8080/"
        },
        "outputId": "e975fe06-0234-4b41-c296-1358bf7e23e9"
      },
      "execution_count": 24,
      "outputs": [
        {
          "output_type": "execute_result",
          "data": {
            "text/plain": [
              "1872.91706972"
            ]
          },
          "metadata": {},
          "execution_count": 24
        }
      ]
    },
    {
      "cell_type": "code",
      "source": [
        "len(doge_unspents)"
      ],
      "metadata": {
        "id": "o_4hn5nrkiAb",
        "outputId": "8f098dc3-cf27-45b9-ba65-6da2a766f7f5",
        "colab": {
          "base_uri": "https://localhost:8080/"
        }
      },
      "execution_count": 25,
      "outputs": [
        {
          "output_type": "execute_result",
          "data": {
            "text/plain": [
              "82"
            ]
          },
          "metadata": {},
          "execution_count": 25
        }
      ]
    },
    {
      "cell_type": "markdown",
      "source": [
        "# Create UTXO set for Enscription"
      ],
      "metadata": {
        "id": "Wund19uk-6kJ"
      }
    },
    {
      "cell_type": "code",
      "source": [
        "len(package),len(package[0]),len(package[1]),len(package[-1])"
      ],
      "metadata": {
        "colab": {
          "base_uri": "https://localhost:8080/"
        },
        "id": "ZsSN0gK1l62O",
        "outputId": "56922341-c0f0-4c8f-b3d6-0ad928eeb990"
      },
      "execution_count": 26,
      "outputs": [
        {
          "output_type": "execute_result",
          "data": {
            "text/plain": [
              "(64, 190, 480, 480)"
            ]
          },
          "metadata": {},
          "execution_count": 26
        }
      ]
    },
    {
      "cell_type": "code",
      "source": [
        "tip=40_00_000_000\n",
        "available=doge_unspent_total-tip\n",
        "n=len(package)\n",
        "gift=int(available/n)\n",
        "outputs=[{'value':gift , 'address': addr} for i in range(len(package))]\n",
        "setup_tx=doge.mktx(doge_unspents,outputs)\n",
        "gift/100_000_000"
      ],
      "metadata": {
        "id": "HHyH8E3yQ8Mg",
        "colab": {
          "base_uri": "https://localhost:8080/"
        },
        "outputId": "95d5e658-1bc0-4e1a-f418-51ebb62f75f1"
      },
      "execution_count": 30,
      "outputs": [
        {
          "output_type": "execute_result",
          "data": {
            "text/plain": [
              "28.63932921"
            ]
          },
          "metadata": {},
          "execution_count": 30
        }
      ]
    },
    {
      "cell_type": "code",
      "source": [
        "doge.signall(setup_tx,privKey.to_hex()[2:])"
      ],
      "metadata": {
        "id": "am6AtFyBQ-uI",
        "colab": {
          "base_uri": "https://localhost:8080/",
          "height": 178
        },
        "outputId": "26f240fe-2b02-4a76-c430-69b0f1218f73"
      },
      "execution_count": 31,
      "outputs": [
        {
          "output_type": "execute_result",
          "data": {
            "text/plain": [
              "'01000000527e1abfe553b92acbfd298132a5539671c4c9dec68c7187a58be26b1266186e0f000000008a47304402204ddf517d6655be9fb6cc14314eff1b2c3ccc060107ea9065ddfa10bfdf52cdf102201631938d1e786530126be272503714b8867ba6e49135d4d6fdb4cfc9267fe5fa0141047c88e9a4df6e9f45656c10bf66f28e28be235a15b64820b254f1b9eb2738314e6769f5c94da0c7640ffe76dcffca053b07a0804cd53a1c51ad03bfe0133ce8c5ffffffff0272ee6f2885911fa0bd73ec6da97b6441957b3d6d8d9a86a81b6aeb8fb01108000000008b483045022100883992a30a2b17bef9a266d0dad4be3ed6ec7f0c2642e5df4a408999144fac7e02203d61480ffb6bd0e13973cb88dbf5d95b1477bb81a8a086eddc0fd25974a765330141047c88e9a4df6e9f45656c10bf66f28e28be235a15b64820b254f1b9eb2738314e6769f5c94da0c7640ffe76dcffca053b07a0804cd53a1c51ad03bfe0133ce8c5ffffffff07008c4fe7ec82d2624840d98007f3bfc3271d7ecc7d0cd5c53d22fa32d48a23000000008b48304502210091fd11151da616ac2022b447032bc54a408d3b131411e91b27358a42f48c6c2802204bc74e9fd00bded9b21fa4fd9e97a952c07e3b8824a13bc9809a8ae13464d5830141047c88e9a4df6e9f45656c10bf66f28e28be235a15b64820b254f1b9eb2738314e6769f5c94da0c7640ffe76dcffca053b07a0804cd53a1c51ad03bfe0133ce8c5ffffffff0b30a22dc1f145b6396b435cbfcfc89c64a65d3d2316b07dae9c1deaa41d1fd1000000008a473044022057cd0d2c7e145f15d68f7cf0972cedaf040a9e16f66a4cd3fe7f7e6e79ff5de702202f0edda57b171af4759185cc4b17c2ede70face11badbeb346646a55b6bdf10d0141047c88e9a4df6e9f45656c10bf66f28e28be235a15b64820b254f1b9eb2738314e6769f5c94da0c7640ffe76dcffca053b07a0804cd53a1c51ad03bfe0133ce8c5ffffffff0e746b893821650dda8e80998e6ca03a448576ff993c2cc1265643ecbc5b130d000000008b483045022100c758112b8d35c1402a6a2e24e5a3f9a2605e82df0291ed8adadbe7a69c4b760f0220525fa9d063ea2a65f75bdc0bc12151267e1197f8673c056b1f5703af9f00baed0141047c88e9a4df6e9f45656c10bf66f28e28be235a15b64820b254f1b9eb2738314e6769f5c94da0c7640ffe76dcffca053b07a0804cd53a1c51ad03bfe0133ce8c5ffffffff1b21e7471a822d530752b989e73ed13c3a4f8f235224fda290113723d52d8c62000000008a47304402201acf9a825a9e1bd750bd4b9c8d86ee6238e2a3325332b9b9aa024039f1f1d1be022059df9018aca7a07c72cc1586a8431e746e81a797dbeff98178f0d4cb7615b1ee0141047c88e9a4df6e9f45656c10bf66f28e28be235a15b64820b254f1b9eb2738314e6769f5c94da0c7640ffe76dcffca053b07a0804cd53a1c51ad03bfe0133ce8c5ffffffff2064e8fbbaf73dfc035112a8c2bfb91b6aa7656f043d6c33ecb8b34199660ee3000000008b4830450221009b9022c50069a2b09b02bb24d71c301b94076ba8e98b8fee2890057f63be422f02200bafe1c1fb83d9bd9a7081f52eff4a1048e397bf8fe56a605851e37094df08c40141047c88e9a4df6e9f45656c10bf66f28e28be235a15b64820b254f1b9eb2738314e6769f5c94da0c7640ffe76dcffca053b07a0804cd53a1c51ad03bfe0133ce8c5ffffffff2ccf9f2fb66dfc71dd829ea6c243795b0d19ad71e2a3e326262bac5603fb246e000000008b483045022100a6ea19712574b84b24b9de11349394a2e7a97f4de7756cedf2e5793c7e21286702204f10fd5c9604c1584d5e128c01dcaa6ecfde61d2e207251f65b6cc248f2e77700141047c88e9a4df6e9f45656c10bf66f28e28be235a15b64820b254f1b9eb2738314e6769f5c94da0c7640ffe76dcffca053b07a0804cd53a1c51ad03bfe0133ce8c5ffffffff2ceb841ea0b14e7e7dcffc18f3c8588ea797caa7308d17806866a88cac3e5c35000000008a473044022073eaaaf0b15de9ad3e80b5fa2a52310d5fb10485c838c3d27a119c69f06520a0022062dbf4e092234286808a45bb51dff508f25f231dd50b3331bac53b669391970a0141047c88e9a4df6e9f45656c10bf66f28e28be235a15b64820b254f1b9eb2738314e6769f5c94da0c7640ffe76dcffca053b07a0804cd53a1c51ad03bfe0133ce8c5ffffffff325fb0ae16d584ef9eb24efaa01ac53495280193a7feb9e9aeb4cf23da66af69000000008a4730440220296805103ab5ec892c19196d4654afc59732fd1576bf868582bc268c3ee9031302205c892802b6fe3293b0399c182a997f751fa4efb15cbdbab4ec5dbe4c7b9ec1200141047c88e9a4df6e9f45656c10bf66f28e28be235a15b64820b254f1b9eb2738314e6769f5c94da0c7640ffe76dcffca053b07a0804cd53a1c51ad03bfe0133ce8c5ffffffff3b3d2f972d61d55acb6737786119967487f4a73ef1b0412def7021159c63eca6000000008a47304402207d3e0b799e62bdd9ff2f102a72baefe0a6765228af64803bd4bb0e401b1ff6e60220745f8cea07a9c131d5764d3bcd113efb54805045e9810be22b1c0a2b7b998fee0141047c88e9a4df6e9f45656c10bf66f28e28be235a15b64820b254f1b9eb2738314e6769f5c94da0c7640ffe76dcffca053b07a0804cd53a1c51ad03bfe0133ce8c5ffffffff40b8eb27ec8a205b555ab618d1444b4c418d507af49da1a98d282e0b37e85051000000008b483045022100f1aafba0d49ec7c079feb2524c3cd2b931a7223007045c1181c085e52c736966022059c688d83fed254d749c1eebee57983f3cc3139458e685026ad4d070c3d3d4f20141047c88e9a4df6e9f45656c10bf66f28e28be235a15b64820b254f1b9eb2738314e6769f5c94da0c7640ffe76dcffca053b07a0804cd53a1c51ad03bfe0133ce8c5ffffffff414c599d1e88adcee62c747ac646ee8d3a5a0b97c69c737d6b80ce5a1fbfaff8000000008a473044022069c60e0b44ec3a49e709a1b4bf90cfc94e0754d8cd2e63fb908acf0dbfde4fa2022043811d1330b1bbe4f62aeb7ac38d7f127fc981cabeb2a09f505ef029cff5906f0141047c88e9a4df6e9f45656c10bf66f28e28be235a15b64820b254f1b9eb2738314e6769f5c94da0c7640ffe76dcffca053b07a0804cd53a1c51ad03bfe0133ce8c5ffffffff4af61e83134596b418306b4e79c67ae6d451b80c5009f1cf8bcc262e7f5ee66f000000008b483045022100d81536c119e051da0f9353242644b02d47f8cb485e4f7f2a594f6e3d88a601b802204172207729a415560b2beb887b65265068ff0e43a629f30c23da394eb07f11640141047c88e9a4df6e9f45656c10bf66f28e28be235a15b64820b254f1b9eb2738314e6769f5c94da0c7640ffe76dcffca053b07a0804cd53a1c51ad03bfe0133ce8c5ffffffff5793ea6edcb11dc7cead2eade38ed61174c87a07b51afbb53861771c790d593b000000008a4730440220302d306b0d8017876cb244afc6d76c39068b81ea3dc7576377919b21b497ea610220481b91b5591ed8deaf33c3b5dcdb3ebbacf1ceadfb4cfc8d3b551b13776f39750141047c88e9a4df6e9f45656c10bf66f28e28be235a15b64820b254f1b9eb2738314e6769f5c94da0c7640ffe76dcffca053b07a0804cd53a1c51ad03bfe0133ce8c5ffffffff60d16d8001f09335410181857581dd26c2091cf7894826c197176384364d47b4000000008b483045022100d9e8fef2bbccad8d5f5a49b1bf5a238f5ccfbf16f6a0b75468f6b1e701eab9fa02205a718487939ad942cc0ea2598204167f19468b95c25be75f87a920aadb1c6a540141047c88e9a4df6e9f45656c10bf66f28e28be235a15b64820b254f1b9eb2738314e6769f5c94da0c7640ffe76dcffca053b07a0804cd53a1c51ad03bfe0133ce8c5ffffffff64478e34b44e21d35ad846be2cd7556c557021434611abbddc166a1a3a60d707000000008a47304402202bf31fe08eb2c2e31f65870718c92c7b3f8c9b8321bac7aa23df10aadfc894cc022043580b1477a26691d0d9344a13c4e375e2d466f2e2e7440b6c3efc47402de13d0141047c88e9a4df6e9f45656c10bf66f28e28be235a15b64820b254f1b9eb2738314e6769f5c94da0c7640ffe76dcffca053b07a0804cd53a1c51ad03bfe0133ce8c5ffffffff68f23c6653aa3011f29389366d46785c2c54b4fb482d16eb46deaf87dc53639f000000008b48304502210095d613981827cc0eabc5f4f544731a60e84775e2c15fd7f4f805c9af684a0eb302205361a81e62946e76e293d1cf2ec5b5d3f94f2ffb8680398419b94f7b057438330141047c88e9a4df6e9f45656c10bf66f28e28be235a15b64820b254f1b9eb2738314e6769f5c94da0c7640ffe76dcffca053b07a0804cd53a1c51ad03bfe0133ce8c5ffffffff6959395c9b078023c963db3ca31f913228f785f1f29b3e62f7a4de7f30d62f7f000000008a4730440220785a656733b8143a28a019f678f830da1beea18b90411b4d8384d837cd4c13a10220432287f3abc38a70a54710da30de1fab9a6645965850cfa0222d2220cab4576a0141047c88e9a4df6e9f45656c10bf66f28e28be235a15b64820b254f1b9eb2738314e6769f5c94da0c7640ffe76dcffca053b07a0804cd53a1c51ad03bfe0133ce8c5ffffffff6bd2f3f731e5c2d22951a9afafb13f9c5cb32fca878649733850d92d71d27567000000008b483045022100e920ea277c20468cc8b09f4f1e2c6678e2c700e81c59191fff426567a6c9b78f02200b1e67b057786a452169304576a652c4c2c1f0cb07361d55088846d494655ec10141047c88e9a4df6e9f45656c10bf66f28e28be235a15b64820b254f1b9eb2738314e6769f5c94da0c7640ffe76dcffca053b07a0804cd53a1c51ad03bfe0133ce8c5ffffffff748daf6310dea3d199e5357ee5acd6ff7d97d9d8a10ad28b361d5d081df626a2000000008a47304402206ffa5236b7b15ddabe8750b4a52a8d9e59081a0caaa00a63bf89c0e831ea2d4802204a54a05ac33032baa4eef0887d9b09f4f829d43d30785152c9a42f8a7ec237d80141047c88e9a4df6e9f45656c10bf66f28e28be235a15b64820b254f1b9eb2738314e6769f5c94da0c7640ffe76dcffca053b07a0804cd53a1c51ad03bfe0133ce8c5ffffffff74a13d5ccdd452c55d2037675734fdf5b15e6e79e2ab67f97f68d3f104148d98000000008a47304402205f8970f2b4ad27de99d6dfc70e8bc470d29b37a5143ab88405a266238034d04a02207aeeea55aba1b9190dad845bc6aefa6645fcf4946f702ec7123067e65d74135c0141047c88e9a4df6e9f45656c10bf66f28e28be235a15b64820b254f1b9eb2738314e6769f5c94da0c7640ffe76dcffca053b07a0804cd53a1c51ad03bfe0133ce8c5ffffffff7f1f51846443e4bfd1c2b9f80a157426acaec281e2d87213c7f4496c79cefd38000000008b4830450221009ca533c9246f0c063870d693ab7c0cd7e1359093b20406c0d6b4ff8efff112660220220c7f93352bf12f42718ca5a2cc5d3b2caafe0976708d59f6b9a71b2633c8cf0141047c88e9a4df6e9f45656c10bf66f28e28be235a15b64820b254f1b9eb2738314e6769f5c94da0c7640ffe76dcffca053b07a0804cd53a1c51ad03bfe0133ce8c5ffffffff86897459728f6fa031d109338d289fa06035aeb449c52bb3f9ec55f674dc5388000000008b483045022100fe679a1c6b61d06440dfaa5ab8a2c8f9d941e5a8ddce57f0c54b24b8f27f23fd02202878588edcdad36f772c895ba555fd49860671aeab0f58c06a5b33a5f4e78d180141047c88e9a4df6e9f45656c10bf66f28e28be235a15b64820b254f1b9eb2738314e6769f5c94da0c7640ffe76dcffca053b07a0804cd53a1c51ad03bfe0133ce8c5ffffffff8e2b65795be422617ad8da070d2983de5f429743ffa3412f18f6cd02a664ae04000000008a473044022036bebbb2c5dc5857bdb0581a6e0d735d93129b2f6fbe6219a105965936fb1e690220760964246b4eeddf4a689ac414bd59ff3103ca280c90efa1cd7b56a89d5ceba40141047c88e9a4df6e9f45656c10bf66f28e28be235a15b64820b254f1b9eb2738314e6769f5c94da0c7640ffe76dcffca053b07a0804cd53a1c51ad03bfe0133ce8c5ffffffff906a0e4dd3ce2365b968e70c1205cc3fb1ac6137e10444ddaf050350c8aefb52000000008b483045022100a87c6a775fa856c3b9b9a816deba8adb4e5cd18e79d7cdc00701d0a939df628e02203abc94856205e673e3f56436893de0f0ffb9fe0b8953bef69096b3b1d91515a70141047c88e9a4df6e9f45656c10bf66f28e28be235a15b64820b254f1b9eb2738314e6769f5c94da0c7640ffe76dcffca053b07a0804cd53a1c51ad03bfe0133ce8c5ffffffff911d66ebc4c05d9bc4e86264110112e37e50fc66d9141a861ed9a6bd31132ef8000000008b483045022100fba03824ae5ff5dbdd53bcefdae627f55fbd5e6694f98a3117d914f9c8b462f802204fe25415d393908a6f3820ed60112e4c0b498290c640c8d0e77551117b00e63c0141047c88e9a4df6e9f45656c10bf66f28e28be235a15b64820b254f1b9eb2738314e6769f5c94da0c7640ffe76dcffca053b07a0804cd53a1c51ad03bfe0133ce8c5ffffffff9caad1e1dd99fff8b6452819b0f20650f6655aa0123001529fc66e18f10f89ca000000008b483045022100d20900dec028eaa2d0d1185b2564fdba35dab00ca84820c5a3c199abdf6b291702201637d191fcf5fccab71cc22402b3f75e52cc9eb2eb15143fe7d029473e2dd7960141047c88e9a4df6e9f45656c10bf66f28e28be235a15b64820b254f1b9eb2738314e6769f5c94da0c7640ffe76dcffca053b07a0804cd53a1c51ad03bfe0133ce8c5ffffffffa15bd112f92f4165d4e252b8ee38adcb687baa680e9c89d1ecf3b40d469e8346000000008b483045022100852b64563335da7cebc91b32d0564e5f8fe47ffd43ac95e4d101bc7107628d9602205e2138ced0cc0e2453079f7f64c18cff3b5c52c6a333ebf9c9b851b16a651f1c0141047c88e9a4df6e9f45656c10bf66f28e28be235a15b64820b254f1b9eb2738314e6769f5c94da0c7640ffe76dcffca053b07a0804cd53a1c51ad03bfe0133ce8c5ffffffffa568c33b5ee93a17940d6e9e0baa2de60e633f0da22cf59f11a195969859fc4a000000008a4730440220100cbe7876de468216e683d2ed20e60239194b803b46a6c7ec857f4ca31cf57c0220172c177107f353d0ce345cf09b135418dbe062e3227413ed24d07dd78dd645900141047c88e9a4df6e9f45656c10bf66f28e28be235a15b64820b254f1b9eb2738314e6769f5c94da0c7640ffe76dcffca053b07a0804cd53a1c51ad03bfe0133ce8c5ffffffffa9c12175962135172e127228ce220be7a4838d18a63822aee803032e1fd20481000000008a473044022036f62855d8a08c6ecdac9e8261648b0d352df6fac51ec3420b48ebe8c046c67202205f9dc638dd8cdb3e59da79616ae5a8dccecf42bcb98c6834396075024d76d3cf0141047c88e9a4df6e9f45656c10bf66f28e28be235a15b64820b254f1b9eb2738314e6769f5c94da0c7640ffe76dcffca053b07a0804cd53a1c51ad03bfe0133ce8c5ffffffffaf657e94725c3b9eca718bde45d68e2d537635ce5c51c8fe26dd536d8643aee7000000008a473044022032026b3d009f3d236e31cb22e85ddc8c7a27c94dbd0dd54ac3fd9acda54aa815022023512e7f8f3db01059b30113b84c3345a896b29bc64961efc3b02dd0b13914a20141047c88e9a4df6e9f45656c10bf66f28e28be235a15b64820b254f1b9eb2738314e6769f5c94da0c7640ffe76dcffca053b07a0804cd53a1c51ad03bfe0133ce8c5ffffffffb45337947806deae251b3516d8001b2e3cc35ece3cb41828b3e2dd61f442af5f000000008a47304402203d74edacec1dca8eac1493a6b927dfcd8ca463e2608bd4520a99f592b809dfb4022035dcd0d41af6bb047e1e8f49ce842cf5cfb60cb85ecfd6c40e96eae84af849f50141047c88e9a4df6e9f45656c10bf66f28e28be235a15b64820b254f1b9eb2738314e6769f5c94da0c7640ffe76dcffca053b07a0804cd53a1c51ad03bfe0133ce8c5ffffffffb5353016fb362763276ebd4b8de885ddce7697c8e90db3377d2a96ccdedaeafc000000008a4730440220187cd6745b5c4093395832b1406073fe1af784f793f93a2ccf2a8344d1f3d32b0220090827270a6176de70c19bcc5f34e4151b736558238556369ef7dd5c121b4a890141047c88e9a4df6e9f45656c10bf66f28e28be235a15b64820b254f1b9eb2738314e6769f5c94da0c7640ffe76dcffca053b07a0804cd53a1c51ad03bfe0133ce8c5ffffffffbee1a7a78fef5933e74255813a320f8cacd5b06634dde41cdee48004eff1a694000000008a473044022022a6f67a2e8c5ece72a5e612f7371ee287827ab2598157d70de91298aed846ff02201514e26dbc10c4f7effede4d1e6f010e930910b00e2a74f3bad2acdcadac7f180141047c88e9a4df6e9f45656c10bf66f28e28be235a15b64820b254f1b9eb2738314e6769f5c94da0c7640ffe76dcffca053b07a0804cd53a1c51ad03bfe0133ce8c5ffffffffc16c55964fac54730fd21f9ceed602e6aaa0e25c477c616dd6fe428218a87974000000008b483045022100a56196266cc7ffeaedcfb9d806dbca5b5da9584b6b0ad46017c026d0762a4a3302206d43016c7112535c76599c223a3a8f178ba903d645b5b9f438ef562f2ea56fe70141047c88e9a4df6e9f45656c10bf66f28e28be235a15b64820b254f1b9eb2738314e6769f5c94da0c7640ffe76dcffca053b07a0804cd53a1c51ad03bfe0133ce8c5ffffffffc39856d8855a4e44dc5b306eb64ad81058a66be7c7658f293d8d5c18292751f1000000008a473044022060d23be2a8d111241da21ada4d712f6180c29e0e4fbac905e99b43725516911d0220622c33f3b92796e88618a5d7850595f5bf83d064e12ffe4926b161dff1f174870141047c88e9a4df6e9f45656c10bf66f28e28be235a15b64820b254f1b9eb2738314e6769f5c94da0c7640ffe76dcffca053b07a0804cd53a1c51ad03bfe0133ce8c5ffffffffc5ad5d517d48e11258a8a308b262e90b61370fc46a6b7956fe341b60b2497312000000008b483045022100f5ed225f814c704070f89b44546f0cd3852f69caaa01312d6edf8e4ce9e845020220660452ac6f567bb97c5dc8875c2fdd8606dd11957fd9a777f0fb6f68176a78630141047c88e9a4df6e9f45656c10bf66f28e28be235a15b64820b254f1b9eb2738314e6769f5c94da0c7640ffe76dcffca053b07a0804cd53a1c51ad03bfe0133ce8c5ffffffffdbcf7251c2dd1889d2a53c84a779ec0288ab8ac651770849ae41b9ef4f997d03000000008b483045022100f54e3d7fd0c1ca119bebfeb5a1143e00ba9a1b9156950e65666da2d3abf9b17702203ee6109ea8773d99650d366935ab4ef17303c4b07eae6364255b35ed7ce9d2500141047c88e9a4df6e9f45656c10bf66f28e28be235a15b64820b254f1b9eb2738314e6769f5c94da0c7640ffe76dcffca053b07a0804cd53a1c51ad03bfe0133ce8c5ffffffffe777ab87af0f0469ac129ae57991f1607fe79a4c903eefb4ae6833c304fadfe9000000008b4830450221008e26091102bd5c0afa9c9e10da5fc61dcf0c72edf5caaf14b36c65c25865bf8c02207d18ab6ff0bd86911d1a0106cd5333663c8235f638998650433e2c114dea624f0141047c88e9a4df6e9f45656c10bf66f28e28be235a15b64820b254f1b9eb2738314e6769f5c94da0c7640ffe76dcffca053b07a0804cd53a1c51ad03bfe0133ce8c5ffffffffe805b192a981ef50322f9935807b0787b8389fd43d86d26a491d7d39a29bce18000000008a47304402203e71dd001104ccc02cbf885d9eabb6b0e9fc05664561c0ce05efe0c969385953022075b5bdd0680ce17bef3879eac80030638a8c63974c4c94fa5ff4bf21b1c330f80141047c88e9a4df6e9f45656c10bf66f28e28be235a15b64820b254f1b9eb2738314e6769f5c94da0c7640ffe76dcffca053b07a0804cd53a1c51ad03bfe0133ce8c5ffffffffeb8cc8c6d5b4f0e2e5c02d5bb0212e4c325151ee1479db531f5ce617f3d1006e000000008b483045022100f8ae53df2da8f923f5237dcc0aa70c9713c6c467b19f61f1d40c0c8d895412d002205985afec597361ce7113c2b8e07b4a4e8edc13667faf81c302f262a0878b213e0141047c88e9a4df6e9f45656c10bf66f28e28be235a15b64820b254f1b9eb2738314e6769f5c94da0c7640ffe76dcffca053b07a0804cd53a1c51ad03bfe0133ce8c5fffffffff0562baecec92fe56c79ffc95fcd31cb60fe69d6afc802b1a350325143a49533000000008b483045022100cb80e3f6bb91acc7455e723b081dc75b2ac253333c7f9deee7f2bec346ec502902202be631144df09b9fd5c8725806cf6ec2f06404cf8c4fb9d5462af34963ef61930141047c88e9a4df6e9f45656c10bf66f28e28be235a15b64820b254f1b9eb2738314e6769f5c94da0c7640ffe76dcffca053b07a0804cd53a1c51ad03bfe0133ce8c5ffffffff051db79227a85a23cf3cd0a05d81454d841600d090c5f7cf7eb202e616da4ee8000000008a47304402201def9d87d1578faf866a343408230cd4c5236ef1592ba950b0979010a8ffe9bd02200a7bb3339785b7a1fae73b49bc86190ae352757b4463a178ebcb87fa090871fd0141047c88e9a4df6e9f45656c10bf66f28e28be235a15b64820b254f1b9eb2738314e6769f5c94da0c7640ffe76dcffca053b07a0804cd53a1c51ad03bfe0133ce8c5ffffffff090610fc43f13be997b2e02300cd98d25c45ad4c1ac3e37a4ff2df91e38ee5f4000000008a4730440220701e78e4a796b70c6c35ee2eee33c8bd716da11c22f87d4c1e6932c722407865022050a949538ebd698899d440fd730c0a651219a94633192a1e52e6d15b431d95cf0141047c88e9a4df6e9f45656c10bf66f28e28be235a15b64820b254f1b9eb2738314e6769f5c94da0c7640ffe76dcffca053b07a0804cd53a1c51ad03bfe0133ce8c5ffffffff1adebc2b778e5698683321bbb60b97dde57062fe8cc755fe90168a6531413861000000008a4730440220527b10e7606d6140433f617d28dc9529ead147e08fa04a7f95eb5c80688ec8fe0220254dd415167fd1a366c10dddbce94dda0f8dcf8c47a822697343b4a2d170e5780141047c88e9a4df6e9f45656c10bf66f28e28be235a15b64820b254f1b9eb2738314e6769f5c94da0c7640ffe76dcffca053b07a0804cd53a1c51ad03bfe0133ce8c5ffffffff1b0835779f4418143ac65c0f9cf0498286f0882d7d9082d59f8c24d6d555336a000000008a473044022012067ff14a3ade1df25a9b127b82b4e352f92b5f4e90d30b59c8064f0e5b2f710220445596f3925006402f2f5e8346488baa2ef7d0857c54c78fdad6a799eeb1c1470141047c88e9a4df6e9f45656c10bf66f28e28be235a15b64820b254f1b9eb2738314e6769f5c94da0c7640ffe76dcffca053b07a0804cd53a1c51ad03bfe0133ce8c5ffffffff2451e4c8b8e90ec851eafe0a1a06150228580b5612d7b0336a2cd1c00050a5ff000000008b4830450221008cc49ba977023552adf97cf0a1d082f2454b5200d1324dfa1e8d37c4d00d4b0a02207d63b3998a77fbf0166b2e5e5ea364a01627ebfc6ae3a0a46cd95b85ce19ad4e0141047c88e9a4df6e9f45656c10bf66f28e28be235a15b64820b254f1b9eb2738314e6769f5c94da0c7640ffe76dcffca053b07a0804cd53a1c51ad03bfe0133ce8c5ffffffff2ac42bd3877dff13b3faeecd6ef9d6c97a876998fe6428371d779d509e32679a000000008a473044022047ef417bbbe330f2880c7b49519b9e9a28db1fcd9637a4027ec2346c2e3567810220644239dd6c3a51c5ac00599d4ef943f05ac40b12af660535b488aab0b5edb5bd0141047c88e9a4df6e9f45656c10bf66f28e28be235a15b64820b254f1b9eb2738314e6769f5c94da0c7640ffe76dcffca053b07a0804cd53a1c51ad03bfe0133ce8c5ffffffff35abe3df423fb423c2ab9acca8192eda2bf5c7b04c5c632107584907ff4e5e01000000008a473044022007c4d303120528bb1383e8f1a9529637f7523ceddaa35c241bce267ae3c8afaf022039a5240d2197671d6c1d3c19a3a694999c6f5c8f622625c47097bdba2c92b30d0141047c88e9a4df6e9f45656c10bf66f28e28be235a15b64820b254f1b9eb2738314e6769f5c94da0c7640ffe76dcffca053b07a0804cd53a1c51ad03bfe0133ce8c5ffffffff377783dcb0b96c0aa418cbca3eb6a7b4e84a297032a869553159b2790db92bd0000000008a47304402202757bd3d3c271ecf6087db0d24e2f7eefdcafbbe1984fffc15117f044d566ae602206c79d807a9f81624c3e9ac6be1b32e20c8ca60fd25cd61d26f603b03cf519ebb0141047c88e9a4df6e9f45656c10bf66f28e28be235a15b64820b254f1b9eb2738314e6769f5c94da0c7640ffe76dcffca053b07a0804cd53a1c51ad03bfe0133ce8c5ffffffff379389f8b001a76297f7314c382aa1563e0bba61d21bd875eba37ac685dfb710000000008a47304402207433050c747412ad5bca5aad2cc24623ba5efeec70015b32168e16200fb9612f02206f206ddb9e80c5d7651529a758cb236468e431735403aaacbd26577cc29f57500141047c88e9a4df6e9f45656c10bf66f28e28be235a15b64820b254f1b9eb2738314e6769f5c94da0c7640ffe76dcffca053b07a0804cd53a1c51ad03bfe0133ce8c5ffffffff3d0afa130ca49195059251cb61b723333a6e7fa2caede5a2529772019b22044b000000008a47304402203dbebd2f23fab560cfa1fd0e8655bd3ca287a3b9e30d8d7f3c75f03c51e65b5d022006d68ccc897d8a1ba4741a2dd3295c3c7f1d5648a28ce13b61e38055f636fb8f0141047c88e9a4df6e9f45656c10bf66f28e28be235a15b64820b254f1b9eb2738314e6769f5c94da0c7640ffe76dcffca053b07a0804cd53a1c51ad03bfe0133ce8c5ffffffff443571ab67199584385b9250d6d5545ace303dfd5181a7d8e50cb2018611704b000000008a473044022007087392c6634b48a24bfd7a1c79f3686613133d1fe12eeba44a78a64a4abb430220043fc0f82afe338a5cccba1bc4ac810b5996368abb8c5d223dfba294ef6455ac0141047c88e9a4df6e9f45656c10bf66f28e28be235a15b64820b254f1b9eb2738314e6769f5c94da0c7640ffe76dcffca053b07a0804cd53a1c51ad03bfe0133ce8c5ffffffff451ee5f6c15d5c4a957a8c30887f0c96b47a73156dea01319920d64b04cdb40e000000008b483045022100833af188ec39c767d014960c2e3eb6fca473ab2ca0cec24089eebe82d81a8fa302205548733f156d9c2e7bb8f6e7070730c8d32f436acbd4fd0c2d56402bb7b8ea680141047c88e9a4df6e9f45656c10bf66f28e28be235a15b64820b254f1b9eb2738314e6769f5c94da0c7640ffe76dcffca053b07a0804cd53a1c51ad03bfe0133ce8c5ffffffff4c8a3b9c46c7f4d4829a94ea7c2cb20fec1c22ca5bdb0c21f930e9b3fd7c65e8000000008a4730440220579981b5786b26ad9fa4a52bfe13e86d25fcbe64d9c02f9ec01fbe41e26d0eb902202c546c767a110c3f4f1ad94283bc53a971b07479eaeaf14aca4dee340038706a0141047c88e9a4df6e9f45656c10bf66f28e28be235a15b64820b254f1b9eb2738314e6769f5c94da0c7640ffe76dcffca053b07a0804cd53a1c51ad03bfe0133ce8c5ffffffff5ad07eef08e22afbbbed4981459c732a816c4b7e31b0449d2b52ca3cbab27976000000008b483045022100b24a1400ec7fc37adc07d3d76602cf3316ced9ed6f95f541793a3e20e08c559702205d6732bf543f57829c07c61bccd767b086c18a89011c5a38b5c5ff0d07fd16220141047c88e9a4df6e9f45656c10bf66f28e28be235a15b64820b254f1b9eb2738314e6769f5c94da0c7640ffe76dcffca053b07a0804cd53a1c51ad03bfe0133ce8c5ffffffff5bc3fcf23af1dcc40bfc9ea93017f69bb30f5b9b20e83583c237cf8187e70997000000008b483045022100f8dd9f215878894389b9d11770021df2cd11844666a9aacfb5de19212935d9fc02207ad51f77fb0c7950d0926bb7dd210c3cc2a47680ae4f1a15185ba73557ad81400141047c88e9a4df6e9f45656c10bf66f28e28be235a15b64820b254f1b9eb2738314e6769f5c94da0c7640ffe76dcffca053b07a0804cd53a1c51ad03bfe0133ce8c5ffffffff5e38eb303fd8c33f6108bbb6742a14f7c9948683e12c6c27a99d4189e264da8e000000008b483045022100923422165824b180df8d386f8f6557c8339f9232a33b8197243e46681e066994022069dc9673c6286ebf54a745d5789ed7d5c60e6f681fb06070a4b13f75824ed13c0141047c88e9a4df6e9f45656c10bf66f28e28be235a15b64820b254f1b9eb2738314e6769f5c94da0c7640ffe76dcffca053b07a0804cd53a1c51ad03bfe0133ce8c5ffffffff6ea75745a6ac641cb9fab603c3d1358dff4a089e495d2468fd682354db42ea43000000008b483045022100b0ee8adbb9b1859389a6656560308d80a1eb086b54d63738ca725a9c8012feb802203098491e50b900806984c5435ae10d60745b1729d5e111d6d32876566942dd610141047c88e9a4df6e9f45656c10bf66f28e28be235a15b64820b254f1b9eb2738314e6769f5c94da0c7640ffe76dcffca053b07a0804cd53a1c51ad03bfe0133ce8c5ffffffff70a8e619ac8d7187095764b33da2533ee50ed227d1b4171e9ccc751e2eecda69000000008a47304402202c66a2a7bf19ebe12b6d3fbae82d117105aade72c66481edbeec837bafe5ec3802207066c3b950c4233312ad78417b0cd00aecc8f1336596afb1db142259ec1790a60141047c88e9a4df6e9f45656c10bf66f28e28be235a15b64820b254f1b9eb2738314e6769f5c94da0c7640ffe76dcffca053b07a0804cd53a1c51ad03bfe0133ce8c5ffffffff772d465c354f258b7b0fb95e9fbd439933f96d31b6d471b0efda3a2e9ac91b54000000008b4830450221009a2bcb2b959f890d340a818ae0942537ed3dd619662773948827511539ea023202206adc133b290b4470fe2e83463800561b4655927a1faa971a1fe617946732ae420141047c88e9a4df6e9f45656c10bf66f28e28be235a15b64820b254f1b9eb2738314e6769f5c94da0c7640ffe76dcffca053b07a0804cd53a1c51ad03bfe0133ce8c5ffffffff7c18b341b8c08698202d6b9ab6f33509334252a9ac58166597258dd3d790cc83000000008a473044022076b9c21bf0fbabfa45e45831d32194c78fdda464de480868062e8e0bc0fcc7e4022030341ed2f2eb808d9789fd8f9d7147e32e24f70c1e0c5606bf5d1b27e15864620141047c88e9a4df6e9f45656c10bf66f28e28be235a15b64820b254f1b9eb2738314e6769f5c94da0c7640ffe76dcffca053b07a0804cd53a1c51ad03bfe0133ce8c5ffffffff8349c50c93789df36f342ff0164645d2e3f530ccaeb2eb967482cb9f165c44e9000000008a473044022038fc67abe4cf6f0c48f4013089147587dc057d968fe5f14ad40b9a4824cba5890220463fd5ae81d6a1ea1fc607ac0c8a6e3511001273e479042883f9b93c5c3145f10141047c88e9a4df6e9f45656c10bf66f28e28be235a15b64820b254f1b9eb2738314e6769f5c94da0c7640ffe76dcffca053b07a0804cd53a1c51ad03bfe0133ce8c5ffffffff8935083cefbc201d8ed727ffa3cd43b29b3fdad45b99d2214b1d05d9a8f654a6000000008a47304402206b55d96a0f4bfcd3fee1a90d4defbb4e84cabd2b7b03351f751b91ffad849bc402206b44efde3de056a6f6cb90ea5365fe007cc5ba123ad812eac9b47cfed664d2950141047c88e9a4df6e9f45656c10bf66f28e28be235a15b64820b254f1b9eb2738314e6769f5c94da0c7640ffe76dcffca053b07a0804cd53a1c51ad03bfe0133ce8c5ffffffff9a40bc1637527a45c5f9df6a9b5965d00bcdc94fa5c8a79ce754b92a9262c563000000008a4730440220471dc3bb80b43b6c8a21be3632a5d57d3a827956a94dcf1057f40e0035ebfc10022059de81ebcbfb55fb728b0ee1c4ef1a5e12476cafe6822b93758055dcddc834570141047c88e9a4df6e9f45656c10bf66f28e28be235a15b64820b254f1b9eb2738314e6769f5c94da0c7640ffe76dcffca053b07a0804cd53a1c51ad03bfe0133ce8c5ffffffff9a9d909a617b63e7027abe5bc913f81d0e2dbcaa3b2e88f3eeda3b16d22c7a8c000000008a4730440220561d61fe8e7b1443011a73470c38dc5ae7f1d289efdedaab13aca4c92d51d1ff022070bf92ae0ab368ff1d28ca9eaf7954a4251f8a51f897c9aa694c8de0a81e75080141047c88e9a4df6e9f45656c10bf66f28e28be235a15b64820b254f1b9eb2738314e6769f5c94da0c7640ffe76dcffca053b07a0804cd53a1c51ad03bfe0133ce8c5ffffffff9db2e23a56cd47d9a7dd0fe4dd9310f11f12fd271380bd957266f571b622842f000000008b483045022100ca8906286c5af10c64e766acb989344e1260b43f98072e03cd86a7a434b5b8450220531ee91c0ec83111bf112af6aa029079bf3f737a7c0ab9bfa43caaa1a4ecaccb0141047c88e9a4df6e9f45656c10bf66f28e28be235a15b64820b254f1b9eb2738314e6769f5c94da0c7640ffe76dcffca053b07a0804cd53a1c51ad03bfe0133ce8c5ffffffffa27d291af63c008efe93167d63bd596ad52f01917e2ea3c1adc266a87c704803000000008a473044022020788f19fca3dc90cd953543ea970710523f4b1d4a815c47a52e34ee5a8d8a2c02202f1dddcafb80552490414a3ef766a9a635f5eb33e0255d0486c3e4cdc22fb52c0141047c88e9a4df6e9f45656c10bf66f28e28be235a15b64820b254f1b9eb2738314e6769f5c94da0c7640ffe76dcffca053b07a0804cd53a1c51ad03bfe0133ce8c5ffffffffa591c2f13944cc1f4a9288cac7a77b305375458e54362db4f37d94d6d085193b000000008b483045022100fc5ce07bcc3fce2c4b8443aa968434ec802369e377846e5121af248dc9d0160d02201c00f8a05df5dbd303f71871d049ae12ee5f11074c032f14e47c8ea25557a5dd0141047c88e9a4df6e9f45656c10bf66f28e28be235a15b64820b254f1b9eb2738314e6769f5c94da0c7640ffe76dcffca053b07a0804cd53a1c51ad03bfe0133ce8c5ffffffffb1322f447752f8c020bd33d0fc050d240f2ffdca2fdf6d614d2b5d60b9526d27000000008a4730440220028871c599d079256ae65959a33432ec2632369d4df635d63a680c6a3374b722022048fa258dc2b77e312a7cf89be60de01d14177c0a0f30c74e079402466c8e397b0141047c88e9a4df6e9f45656c10bf66f28e28be235a15b64820b254f1b9eb2738314e6769f5c94da0c7640ffe76dcffca053b07a0804cd53a1c51ad03bfe0133ce8c5ffffffffb4107166a71100a82f2990259a186fc4c38e514c9ceb98077864a5a4a3232135000000008a47304402207c2ffd0f5855645422c83a220d0f666461f050fc72f67ecf37a5fd1841c297f102207bf83d6f96e7c264f6f61b0fbc5eed626b352980932b2445f99f4ae6e8933bee0141047c88e9a4df6e9f45656c10bf66f28e28be235a15b64820b254f1b9eb2738314e6769f5c94da0c7640ffe76dcffca053b07a0804cd53a1c51ad03bfe0133ce8c5ffffffffb5d2c3945b3f35dc26ed107d4048d1651bc039407711cdd911b0d53785828ed3000000008b4830450221009ab4ca39b7be77cb3742c29bb8a2a527f3edf24242e2a049b43d6ba5b0b66323022038f688637a4bac38252d638928b067c163df998cab5973d4bc316624de110e150141047c88e9a4df6e9f45656c10bf66f28e28be235a15b64820b254f1b9eb2738314e6769f5c94da0c7640ffe76dcffca053b07a0804cd53a1c51ad03bfe0133ce8c5ffffffffb7a7bc92fe55bec46c9465d6e694c7406d7c0c8a2fd3d1efeb2b878b5e342689000000008b483045022100913f166ff7903aec875aeccbbd7d6407fa6e35b3b28e26e1c15a863657bc00a9022025c9d46b27fc413c84addda76f7659860310ca3af9476b6d2a2a6242bc8ca9f30141047c88e9a4df6e9f45656c10bf66f28e28be235a15b64820b254f1b9eb2738314e6769f5c94da0c7640ffe76dcffca053b07a0804cd53a1c51ad03bfe0133ce8c5ffffffffca7b3e8d00f17c22081b044e830e557e142e28f5f0e6adb78563631c6f25185d000000008b483045022100874783aea137575c1d2c7fa93c2811af56a8d1bd7cbc195146046e4066d530a002204641c4087797fdef0e3e463d21f87343f50c218bf4fe38f0efe6d2138e3087df0141047c88e9a4df6e9f45656c10bf66f28e28be235a15b64820b254f1b9eb2738314e6769f5c94da0c7640ffe76dcffca053b07a0804cd53a1c51ad03bfe0133ce8c5ffffffffcf94c84edeaeda046c23502182f6b51d062c25b3fca41936ffeda59359826c36000000008b483045022100f508a1bcbd2053f9f48a63df0e656b77ebf10693ae6550e5a44807ec4bf84dde0220708226be09a4fbddd0f2523828df8819fafafb88f1515d8b56adfe6d603a5a000141047c88e9a4df6e9f45656c10bf66f28e28be235a15b64820b254f1b9eb2738314e6769f5c94da0c7640ffe76dcffca053b07a0804cd53a1c51ad03bfe0133ce8c5ffffffffe400e7e28b2e4201c073e334ae3b3c6d0cdb5787380b1a572c9d625f6a7edb87000000008b483045022100ceb84e57fce0d934f2f13a1d852a9ec360bd13de1ce685e2ac58c3bcf375456a022070e3c20b96cb6b169d0ba78c847e815180f488f9e0cc440241e4e6fb08a416420141047c88e9a4df6e9f45656c10bf66f28e28be235a15b64820b254f1b9eb2738314e6769f5c94da0c7640ffe76dcffca053b07a0804cd53a1c51ad03bfe0133ce8c5ffffffffe6aa526a2c85659b92d2e46e966fdddd06c77c35d0324977f43a93fc65747867000000008a4730440220516d43ca1cd7c08c2a21dd70e6e427a1fe552b8647e41fc13eada39621463ce4022029f55ba21f1bef14a6a92c88704f17c78c02b075643df949d88181f4ff615a8a0141047c88e9a4df6e9f45656c10bf66f28e28be235a15b64820b254f1b9eb2738314e6769f5c94da0c7640ffe76dcffca053b07a0804cd53a1c51ad03bfe0133ce8c5ffffffffe7bc77d466f5af749dc6712428fb70bf455725a2b80fb3d751a7931bfe9e7f13000000008a47304402204a831092185c56f1ab972fb125a6b11f780cd482a8c9e7718fc4deac86bb9e3b02200fdd2ad6b86cb0aa3799dc94161631e8a38eb014580ab74e42624a1bbe15f6300141047c88e9a4df6e9f45656c10bf66f28e28be235a15b64820b254f1b9eb2738314e6769f5c94da0c7640ffe76dcffca053b07a0804cd53a1c51ad03bfe0133ce8c5ffffffffedc0a4c0d1664430edddad51b395eefa76701ba8ae8fc2f0176a7bcc4878dbfb000000008b483045022100f73b7db9b626711a9c7c3ed4f4444ac988f6bea72fc516a1baef512c489ba36f0220426273c41034a3f6cdfc93f45fe69d62323eef187b9ae19c4ab58299a94ef1080141047c88e9a4df6e9f45656c10bf66f28e28be235a15b64820b254f1b9eb2738314e6769f5c94da0c7640ffe76dcffca053b07a0804cd53a1c51ad03bfe0133ce8c5fffffffff5fa8aa1529b62f2fa768a66706f19576383bd71dadbfc395a14708af6549d47000000008b483045022100a1f868b17726aeb23fbd0d80d5c4fa9c67cf751683cbe109dc1ea349b894847302205962a0ff8b95609c4bd752c8e5f1572acf428a971faa7ea0a9478694530e10390141047c88e9a4df6e9f45656c10bf66f28e28be235a15b64820b254f1b9eb2738314e6769f5c94da0c7640ffe76dcffca053b07a0804cd53a1c51ad03bfe0133ce8c5fffffffffe05b5c7e4a880f956f42d3b1e8bdb718d50934f1c55d2b73292495236621a38000000008b483045022100acbdd7dffe3c65ea83da1b745ad5bcd96738a52282ac4e95017be2113a113207022030ad6638179eef917815c888aa0662e162bb338d39ed17585a582eaac71562cd0141047c88e9a4df6e9f45656c10bf66f28e28be235a15b64820b254f1b9eb2738314e6769f5c94da0c7640ffe76dcffca053b07a0804cd53a1c51ad03bfe0133ce8c5ffffffff40f925b4aa000000001976a914144739367df0ff8d1c61d03704298d49cf93ef3f88acf925b4aa000000001976a914144739367df0ff8d1c61d03704298d49cf93ef3f88acf925b4aa000000001976a914144739367df0ff8d1c61d03704298d49cf93ef3f88acf925b4aa000000001976a914144739367df0ff8d1c61d03704298d49cf93ef3f88acf925b4aa000000001976a914144739367df0ff8d1c61d03704298d49cf93ef3f88acf925b4aa000000001976a914144739367df0ff8d1c61d03704298d49cf93ef3f88acf925b4aa000000001976a914144739367df0ff8d1c61d03704298d49cf93ef3f88acf925b4aa000000001976a914144739367df0ff8d1c61d03704298d49cf93ef3f88acf925b4aa000000001976a914144739367df0ff8d1c61d03704298d49cf93ef3f88acf925b4aa000000001976a914144739367df0ff8d1c61d03704298d49cf93ef3f88acf925b4aa000000001976a914144739367df0ff8d1c61d03704298d49cf93ef3f88acf925b4aa000000001976a914144739367df0ff8d1c61d03704298d49cf93ef3f88acf925b4aa000000001976a914144739367df0ff8d1c61d03704298d49cf93ef3f88acf925b4aa000000001976a914144739367df0ff8d1c61d03704298d49cf93ef3f88acf925b4aa000000001976a914144739367df0ff8d1c61d03704298d49cf93ef3f88acf925b4aa000000001976a914144739367df0ff8d1c61d03704298d49cf93ef3f88acf925b4aa000000001976a914144739367df0ff8d1c61d03704298d49cf93ef3f88acf925b4aa000000001976a914144739367df0ff8d1c61d03704298d49cf93ef3f88acf925b4aa000000001976a914144739367df0ff8d1c61d03704298d49cf93ef3f88acf925b4aa000000001976a914144739367df0ff8d1c61d03704298d49cf93ef3f88acf925b4aa000000001976a914144739367df0ff8d1c61d03704298d49cf93ef3f88acf925b4aa000000001976a914144739367df0ff8d1c61d03704298d49cf93ef3f88acf925b4aa000000001976a914144739367df0ff8d1c61d03704298d49cf93ef3f88acf925b4aa000000001976a914144739367df0ff8d1c61d03704298d49cf93ef3f88acf925b4aa000000001976a914144739367df0ff8d1c61d03704298d49cf93ef3f88acf925b4aa000000001976a914144739367df0ff8d1c61d03704298d49cf93ef3f88acf925b4aa000000001976a914144739367df0ff8d1c61d03704298d49cf93ef3f88acf925b4aa000000001976a914144739367df0ff8d1c61d03704298d49cf93ef3f88acf925b4aa000000001976a914144739367df0ff8d1c61d03704298d49cf93ef3f88acf925b4aa000000001976a914144739367df0ff8d1c61d03704298d49cf93ef3f88acf925b4aa000000001976a914144739367df0ff8d1c61d03704298d49cf93ef3f88acf925b4aa000000001976a914144739367df0ff8d1c61d03704298d49cf93ef3f88acf925b4aa000000001976a914144739367df0ff8d1c61d03704298d49cf93ef3f88acf925b4aa000000001976a914144739367df0ff8d1c61d03704298d49cf93ef3f88acf925b4aa000000001976a914144739367df0ff8d1c61d03704298d49cf93ef3f88acf925b4aa000000001976a914144739367df0ff8d1c61d03704298d49cf93ef3f88acf925b4aa000000001976a914144739367df0ff8d1c61d03704298d49cf93ef3f88acf925b4aa000000001976a914144739367df0ff8d1c61d03704298d49cf93ef3f88acf925b4aa000000001976a914144739367df0ff8d1c61d03704298d49cf93ef3f88acf925b4aa000000001976a914144739367df0ff8d1c61d03704298d49cf93ef3f88acf925b4aa000000001976a914144739367df0ff8d1c61d03704298d49cf93ef3f88acf925b4aa000000001976a914144739367df0ff8d1c61d03704298d49cf93ef3f88acf925b4aa000000001976a914144739367df0ff8d1c61d03704298d49cf93ef3f88acf925b4aa000000001976a914144739367df0ff8d1c61d03704298d49cf93ef3f88acf925b4aa000000001976a914144739367df0ff8d1c61d03704298d49cf93ef3f88acf925b4aa000000001976a914144739367df0ff8d1c61d03704298d49cf93ef3f88acf925b4aa000000001976a914144739367df0ff8d1c61d03704298d49cf93ef3f88acf925b4aa000000001976a914144739367df0ff8d1c61d03704298d49cf93ef3f88acf925b4aa000000001976a914144739367df0ff8d1c61d03704298d49cf93ef3f88acf925b4aa000000001976a914144739367df0ff8d1c61d03704298d49cf93ef3f88acf925b4aa000000001976a914144739367df0ff8d1c61d03704298d49cf93ef3f88acf925b4aa000000001976a914144739367df0ff8d1c61d03704298d49cf93ef3f88acf925b4aa000000001976a914144739367df0ff8d1c61d03704298d49cf93ef3f88acf925b4aa000000001976a914144739367df0ff8d1c61d03704298d49cf93ef3f88acf925b4aa000000001976a914144739367df0ff8d1c61d03704298d49cf93ef3f88acf925b4aa000000001976a914144739367df0ff8d1c61d03704298d49cf93ef3f88acf925b4aa000000001976a914144739367df0ff8d1c61d03704298d49cf93ef3f88acf925b4aa000000001976a914144739367df0ff8d1c61d03704298d49cf93ef3f88acf925b4aa000000001976a914144739367df0ff8d1c61d03704298d49cf93ef3f88acf925b4aa000000001976a914144739367df0ff8d1c61d03704298d49cf93ef3f88acf925b4aa000000001976a914144739367df0ff8d1c61d03704298d49cf93ef3f88acf925b4aa000000001976a914144739367df0ff8d1c61d03704298d49cf93ef3f88acf925b4aa000000001976a914144739367df0ff8d1c61d03704298d49cf93ef3f88acf925b4aa000000001976a914144739367df0ff8d1c61d03704298d49cf93ef3f88ac00000000'"
            ],
            "application/vnd.google.colaboratory.intrinsic+json": {
              "type": "string"
            }
          },
          "metadata": {},
          "execution_count": 31
        }
      ]
    },
    {
      "cell_type": "code",
      "source": [
        "tip/(len(cryptos.serialize(setup_tx))/2)/100000"
      ],
      "metadata": {
        "id": "JeOmghAEWoZa",
        "colab": {
          "base_uri": "https://localhost:8080/"
        },
        "outputId": "5907b3c6-f69c-434a-c61d-7bf9f9f249b5"
      },
      "execution_count": 32,
      "outputs": [
        {
          "output_type": "execute_result",
          "data": {
            "text/plain": [
              "2.3664438265396677"
            ]
          },
          "metadata": {},
          "execution_count": 32
        }
      ]
    },
    {
      "cell_type": "code",
      "source": [
        "funding=doge.pushtx(cryptos.serialize(setup_tx))\n",
        "funding"
      ],
      "metadata": {
        "id": "cjn_Pt28WDJx",
        "colab": {
          "base_uri": "https://localhost:8080/"
        },
        "outputId": "7ac33472-fa2f-4ca9-9b30-c1184cfbebe6"
      },
      "execution_count": 33,
      "outputs": [
        {
          "output_type": "execute_result",
          "data": {
            "text/plain": [
              "{'data': {'network': 'DOGE',\n",
              "  'txid': '014123b21a99b50e28219522af50a7a970dd3f8feeb0dd1d07e4ab2d384b40d1'},\n",
              " 'status': 'success'}"
            ]
          },
          "metadata": {},
          "execution_count": 33
        }
      ]
    },
    {
      "cell_type": "code",
      "source": [
        "doge.fetchtx(funding['data']['txid'])['confirmations']"
      ],
      "metadata": {
        "id": "aSKkBI_MWN-4",
        "colab": {
          "base_uri": "https://localhost:8080/"
        },
        "outputId": "a31b6d51-f855-4f14-bb93-46e30764ff08"
      },
      "execution_count": 37,
      "outputs": [
        {
          "output_type": "execute_result",
          "data": {
            "text/plain": [
              "2"
            ]
          },
          "metadata": {},
          "execution_count": 37
        }
      ]
    },
    {
      "cell_type": "code",
      "source": [
        "#UTXO set\n",
        "#sparkle_unspents=only_conf( doge.unspent(addr) )\n",
        "#sparkle_unspents"
      ],
      "metadata": {
        "id": "f7_3zSOzWa5f",
        "colab": {
          "base_uri": "https://localhost:8080/"
        },
        "outputId": "df490eb6-0ef2-4b47-f67c-3a18ff082400"
      },
      "execution_count": 38,
      "outputs": [
        {
          "output_type": "execute_result",
          "data": {
            "text/plain": [
              "[{'output': '014123b21a99b50e28219522af50a7a970dd3f8feeb0dd1d07e4ab2d384b40d1:0',\n",
              "  'value': 2863932921},\n",
              " {'output': '014123b21a99b50e28219522af50a7a970dd3f8feeb0dd1d07e4ab2d384b40d1:1',\n",
              "  'value': 2863932921},\n",
              " {'output': '014123b21a99b50e28219522af50a7a970dd3f8feeb0dd1d07e4ab2d384b40d1:2',\n",
              "  'value': 2863932921},\n",
              " {'output': '014123b21a99b50e28219522af50a7a970dd3f8feeb0dd1d07e4ab2d384b40d1:3',\n",
              "  'value': 2863932921},\n",
              " {'output': '014123b21a99b50e28219522af50a7a970dd3f8feeb0dd1d07e4ab2d384b40d1:4',\n",
              "  'value': 2863932921},\n",
              " {'output': '014123b21a99b50e28219522af50a7a970dd3f8feeb0dd1d07e4ab2d384b40d1:5',\n",
              "  'value': 2863932921},\n",
              " {'output': '014123b21a99b50e28219522af50a7a970dd3f8feeb0dd1d07e4ab2d384b40d1:6',\n",
              "  'value': 2863932921},\n",
              " {'output': '014123b21a99b50e28219522af50a7a970dd3f8feeb0dd1d07e4ab2d384b40d1:7',\n",
              "  'value': 2863932921},\n",
              " {'output': '014123b21a99b50e28219522af50a7a970dd3f8feeb0dd1d07e4ab2d384b40d1:8',\n",
              "  'value': 2863932921},\n",
              " {'output': '014123b21a99b50e28219522af50a7a970dd3f8feeb0dd1d07e4ab2d384b40d1:9',\n",
              "  'value': 2863932921},\n",
              " {'output': '014123b21a99b50e28219522af50a7a970dd3f8feeb0dd1d07e4ab2d384b40d1:10',\n",
              "  'value': 2863932921},\n",
              " {'output': '014123b21a99b50e28219522af50a7a970dd3f8feeb0dd1d07e4ab2d384b40d1:11',\n",
              "  'value': 2863932921},\n",
              " {'output': '014123b21a99b50e28219522af50a7a970dd3f8feeb0dd1d07e4ab2d384b40d1:12',\n",
              "  'value': 2863932921},\n",
              " {'output': '014123b21a99b50e28219522af50a7a970dd3f8feeb0dd1d07e4ab2d384b40d1:13',\n",
              "  'value': 2863932921},\n",
              " {'output': '014123b21a99b50e28219522af50a7a970dd3f8feeb0dd1d07e4ab2d384b40d1:14',\n",
              "  'value': 2863932921},\n",
              " {'output': '014123b21a99b50e28219522af50a7a970dd3f8feeb0dd1d07e4ab2d384b40d1:15',\n",
              "  'value': 2863932921},\n",
              " {'output': '014123b21a99b50e28219522af50a7a970dd3f8feeb0dd1d07e4ab2d384b40d1:16',\n",
              "  'value': 2863932921},\n",
              " {'output': '014123b21a99b50e28219522af50a7a970dd3f8feeb0dd1d07e4ab2d384b40d1:17',\n",
              "  'value': 2863932921},\n",
              " {'output': '014123b21a99b50e28219522af50a7a970dd3f8feeb0dd1d07e4ab2d384b40d1:18',\n",
              "  'value': 2863932921},\n",
              " {'output': '014123b21a99b50e28219522af50a7a970dd3f8feeb0dd1d07e4ab2d384b40d1:19',\n",
              "  'value': 2863932921},\n",
              " {'output': '014123b21a99b50e28219522af50a7a970dd3f8feeb0dd1d07e4ab2d384b40d1:20',\n",
              "  'value': 2863932921},\n",
              " {'output': '014123b21a99b50e28219522af50a7a970dd3f8feeb0dd1d07e4ab2d384b40d1:21',\n",
              "  'value': 2863932921},\n",
              " {'output': '014123b21a99b50e28219522af50a7a970dd3f8feeb0dd1d07e4ab2d384b40d1:22',\n",
              "  'value': 2863932921},\n",
              " {'output': '014123b21a99b50e28219522af50a7a970dd3f8feeb0dd1d07e4ab2d384b40d1:23',\n",
              "  'value': 2863932921},\n",
              " {'output': '014123b21a99b50e28219522af50a7a970dd3f8feeb0dd1d07e4ab2d384b40d1:24',\n",
              "  'value': 2863932921},\n",
              " {'output': '014123b21a99b50e28219522af50a7a970dd3f8feeb0dd1d07e4ab2d384b40d1:25',\n",
              "  'value': 2863932921},\n",
              " {'output': '014123b21a99b50e28219522af50a7a970dd3f8feeb0dd1d07e4ab2d384b40d1:26',\n",
              "  'value': 2863932921},\n",
              " {'output': '014123b21a99b50e28219522af50a7a970dd3f8feeb0dd1d07e4ab2d384b40d1:27',\n",
              "  'value': 2863932921},\n",
              " {'output': '014123b21a99b50e28219522af50a7a970dd3f8feeb0dd1d07e4ab2d384b40d1:28',\n",
              "  'value': 2863932921},\n",
              " {'output': '014123b21a99b50e28219522af50a7a970dd3f8feeb0dd1d07e4ab2d384b40d1:29',\n",
              "  'value': 2863932921},\n",
              " {'output': '014123b21a99b50e28219522af50a7a970dd3f8feeb0dd1d07e4ab2d384b40d1:30',\n",
              "  'value': 2863932921},\n",
              " {'output': '014123b21a99b50e28219522af50a7a970dd3f8feeb0dd1d07e4ab2d384b40d1:31',\n",
              "  'value': 2863932921},\n",
              " {'output': '014123b21a99b50e28219522af50a7a970dd3f8feeb0dd1d07e4ab2d384b40d1:32',\n",
              "  'value': 2863932921},\n",
              " {'output': '014123b21a99b50e28219522af50a7a970dd3f8feeb0dd1d07e4ab2d384b40d1:33',\n",
              "  'value': 2863932921},\n",
              " {'output': '014123b21a99b50e28219522af50a7a970dd3f8feeb0dd1d07e4ab2d384b40d1:34',\n",
              "  'value': 2863932921},\n",
              " {'output': '014123b21a99b50e28219522af50a7a970dd3f8feeb0dd1d07e4ab2d384b40d1:35',\n",
              "  'value': 2863932921},\n",
              " {'output': '014123b21a99b50e28219522af50a7a970dd3f8feeb0dd1d07e4ab2d384b40d1:36',\n",
              "  'value': 2863932921},\n",
              " {'output': '014123b21a99b50e28219522af50a7a970dd3f8feeb0dd1d07e4ab2d384b40d1:37',\n",
              "  'value': 2863932921},\n",
              " {'output': '014123b21a99b50e28219522af50a7a970dd3f8feeb0dd1d07e4ab2d384b40d1:38',\n",
              "  'value': 2863932921},\n",
              " {'output': '014123b21a99b50e28219522af50a7a970dd3f8feeb0dd1d07e4ab2d384b40d1:39',\n",
              "  'value': 2863932921},\n",
              " {'output': '014123b21a99b50e28219522af50a7a970dd3f8feeb0dd1d07e4ab2d384b40d1:40',\n",
              "  'value': 2863932921},\n",
              " {'output': '014123b21a99b50e28219522af50a7a970dd3f8feeb0dd1d07e4ab2d384b40d1:41',\n",
              "  'value': 2863932921},\n",
              " {'output': '014123b21a99b50e28219522af50a7a970dd3f8feeb0dd1d07e4ab2d384b40d1:42',\n",
              "  'value': 2863932921},\n",
              " {'output': '014123b21a99b50e28219522af50a7a970dd3f8feeb0dd1d07e4ab2d384b40d1:43',\n",
              "  'value': 2863932921},\n",
              " {'output': '014123b21a99b50e28219522af50a7a970dd3f8feeb0dd1d07e4ab2d384b40d1:44',\n",
              "  'value': 2863932921},\n",
              " {'output': '014123b21a99b50e28219522af50a7a970dd3f8feeb0dd1d07e4ab2d384b40d1:45',\n",
              "  'value': 2863932921},\n",
              " {'output': '014123b21a99b50e28219522af50a7a970dd3f8feeb0dd1d07e4ab2d384b40d1:46',\n",
              "  'value': 2863932921},\n",
              " {'output': '014123b21a99b50e28219522af50a7a970dd3f8feeb0dd1d07e4ab2d384b40d1:47',\n",
              "  'value': 2863932921},\n",
              " {'output': '014123b21a99b50e28219522af50a7a970dd3f8feeb0dd1d07e4ab2d384b40d1:48',\n",
              "  'value': 2863932921},\n",
              " {'output': '014123b21a99b50e28219522af50a7a970dd3f8feeb0dd1d07e4ab2d384b40d1:49',\n",
              "  'value': 2863932921},\n",
              " {'output': '014123b21a99b50e28219522af50a7a970dd3f8feeb0dd1d07e4ab2d384b40d1:50',\n",
              "  'value': 2863932921},\n",
              " {'output': '014123b21a99b50e28219522af50a7a970dd3f8feeb0dd1d07e4ab2d384b40d1:51',\n",
              "  'value': 2863932921},\n",
              " {'output': '014123b21a99b50e28219522af50a7a970dd3f8feeb0dd1d07e4ab2d384b40d1:52',\n",
              "  'value': 2863932921},\n",
              " {'output': '014123b21a99b50e28219522af50a7a970dd3f8feeb0dd1d07e4ab2d384b40d1:53',\n",
              "  'value': 2863932921},\n",
              " {'output': '014123b21a99b50e28219522af50a7a970dd3f8feeb0dd1d07e4ab2d384b40d1:54',\n",
              "  'value': 2863932921},\n",
              " {'output': '014123b21a99b50e28219522af50a7a970dd3f8feeb0dd1d07e4ab2d384b40d1:55',\n",
              "  'value': 2863932921},\n",
              " {'output': '014123b21a99b50e28219522af50a7a970dd3f8feeb0dd1d07e4ab2d384b40d1:56',\n",
              "  'value': 2863932921},\n",
              " {'output': '014123b21a99b50e28219522af50a7a970dd3f8feeb0dd1d07e4ab2d384b40d1:57',\n",
              "  'value': 2863932921},\n",
              " {'output': '014123b21a99b50e28219522af50a7a970dd3f8feeb0dd1d07e4ab2d384b40d1:58',\n",
              "  'value': 2863932921},\n",
              " {'output': '014123b21a99b50e28219522af50a7a970dd3f8feeb0dd1d07e4ab2d384b40d1:59',\n",
              "  'value': 2863932921},\n",
              " {'output': '014123b21a99b50e28219522af50a7a970dd3f8feeb0dd1d07e4ab2d384b40d1:60',\n",
              "  'value': 2863932921},\n",
              " {'output': '014123b21a99b50e28219522af50a7a970dd3f8feeb0dd1d07e4ab2d384b40d1:61',\n",
              "  'value': 2863932921},\n",
              " {'output': '014123b21a99b50e28219522af50a7a970dd3f8feeb0dd1d07e4ab2d384b40d1:62',\n",
              "  'value': 2863932921},\n",
              " {'output': '014123b21a99b50e28219522af50a7a970dd3f8feeb0dd1d07e4ab2d384b40d1:63',\n",
              "  'value': 2863932921}]"
            ]
          },
          "metadata": {},
          "execution_count": 38
        }
      ]
    },
    {
      "cell_type": "code",
      "source": [
        "\n",
        "len(sparkle_unspents),len(package)"
      ],
      "metadata": {
        "id": "W7HfG-KLHwXo",
        "colab": {
          "base_uri": "https://localhost:8080/"
        },
        "outputId": "2351b5c4-7750-41b5-9348-c61a0699f23c"
      },
      "execution_count": 39,
      "outputs": [
        {
          "output_type": "execute_result",
          "data": {
            "text/plain": [
              "(64, 64)"
            ]
          },
          "metadata": {},
          "execution_count": 39
        }
      ]
    },
    {
      "cell_type": "code",
      "source": [
        "data_and_utxo=zip(package,sparkle_unspents)"
      ],
      "metadata": {
        "id": "3zkWduyzwt2G"
      },
      "execution_count": 40,
      "outputs": []
    },
    {
      "cell_type": "code",
      "source": [
        "class Cadena():\n",
        "\n",
        "  def __init__(self,prvkey,data,utxo_dct,tip):\n",
        "    self.data=data\n",
        "    self.doge=cryptos.Doge()\n",
        "    self.clip=[self.data[i:i+80] for i in range(0,len(self.data),80) ]\n",
        "    self.og_len=len(self.clip)\n",
        "    self.state='CONF'\n",
        "    self.utxo=utxo_dct\n",
        "    self.head_utxo=self.utxo\n",
        "    self.txn_ids=[self.utxo['output'].split(':')[0]]\n",
        "    self.prv=prvkey\n",
        "    self.addr=self.doge.privtoaddr(self.prv)\n",
        "    self.tip=tip\n",
        "    self.index=0\n",
        "\n",
        "  def make_tx(self):\n",
        "    tx = self.doge.mktx([self.head_utxo],[ {'value':self.head_utxo['value']-self.tip , 'address': self.addr}])\n",
        "    doge_inscribed_serial_tx=mk_opreturn( self.clip[self.index] , cryptos.serialize(tx))\n",
        "    doge_inscribed_tx=cryptos.deserialize(doge_inscribed_serial_tx)\n",
        "    self.signed_inscribed_tx=self.doge.signall(doge_inscribed_tx,self.prv)\n",
        "    self.state='READY'\n",
        "  \n",
        "  def broadcast(self):\n",
        "    self.cast=self.doge.pushtx(self.signed_inscribed_tx)\n",
        "    cast_txid=self.cast['data']['txid']\n",
        "    self.txn_ids.append(cast_txid)\n",
        "    self.head_utxo={'output':cast_txid+':0' ,'value':self.head_utxo['value']-self.tip }\n",
        "    self.index=self.index+1\n",
        "    self.state='SENT'\n",
        "\n",
        "  def update(self):\n",
        "    if self.doge.fetchtx(self.head_utxo['output'].split(':')[0])['confirmations']:\n",
        "      self.state='CONF'\n",
        "      if self.index==self.og_len:\n",
        "        self.state='DONE'\n",
        "    "
      ],
      "metadata": {
        "id": "kzClIKZQJ8Ni"
      },
      "execution_count": 42,
      "outputs": []
    },
    {
      "cell_type": "code",
      "source": [
        "cadenas=[ Cadena(privKey.to_hex()[2:],*datum_utxo,100_000_000)for datum_utxo in zip(package,sparkle_unspents) ]"
      ],
      "metadata": {
        "id": "yhpcOVrZvkw7"
      },
      "execution_count": 43,
      "outputs": []
    },
    {
      "cell_type": "code",
      "source": [
        "import time\n",
        "\n",
        "height=doge.current_block_height()-1\n",
        "print(height)\n",
        "while True:\n",
        "  check_height=doge.current_block_height()\n",
        "  if check_height>height:\n",
        "    height=check_height\n",
        "    print(height)\n",
        "    [cad.make_tx() for cad in cadenas if cad.state=='CONF'];\n",
        "    [cad.broadcast() for cad in cadenas if cad.state=='READY'];\n",
        "    [cad.update() for cad in cadenas if cad.state=='SENT'];\n",
        "    [cad.make_tx() for cad in cadenas if cad.state=='CONF'];\n",
        "    [cad.broadcast() for cad in cadenas if cad.state=='READY'];\n",
        "    print([cad.state for cad in cadenas])\n",
        "    if all([cad.state=='DONE' for cad in cadenas]):\n",
        "      break\n",
        "  time.sleep(30)\n"
      ],
      "metadata": {
        "id": "KM-z1gdPTra4",
        "outputId": "46a98c71-9be2-4f51-b6ee-88bdffa9221a",
        "colab": {
          "base_uri": "https://localhost:8080/"
        }
      },
      "execution_count": 44,
      "outputs": [
        {
          "output_type": "stream",
          "name": "stdout",
          "text": [
            "4244557\n",
            "4244558\n",
            "['SENT', 'SENT', 'SENT', 'SENT', 'SENT', 'SENT', 'SENT', 'SENT', 'SENT', 'SENT', 'SENT', 'SENT', 'SENT', 'SENT', 'SENT', 'SENT', 'SENT', 'SENT', 'SENT', 'SENT', 'SENT', 'SENT', 'SENT', 'SENT', 'SENT', 'SENT', 'SENT', 'SENT', 'SENT', 'SENT', 'SENT', 'SENT', 'SENT', 'SENT', 'SENT', 'SENT', 'SENT', 'SENT', 'SENT', 'SENT', 'SENT', 'SENT', 'SENT', 'SENT', 'SENT', 'SENT', 'SENT', 'SENT', 'SENT', 'SENT', 'SENT', 'SENT', 'SENT', 'SENT', 'SENT', 'SENT', 'SENT', 'SENT', 'SENT', 'SENT', 'SENT', 'SENT', 'SENT', 'SENT']\n",
            "4244560\n",
            "['SENT', 'SENT', 'SENT', 'SENT', 'SENT', 'SENT', 'SENT', 'SENT', 'SENT', 'SENT', 'SENT', 'SENT', 'SENT', 'SENT', 'SENT', 'SENT', 'SENT', 'SENT', 'SENT', 'SENT', 'SENT', 'SENT', 'SENT', 'SENT', 'SENT', 'SENT', 'SENT', 'SENT', 'SENT', 'SENT', 'SENT', 'SENT', 'SENT', 'SENT', 'SENT', 'SENT', 'SENT', 'SENT', 'SENT', 'SENT', 'SENT', 'SENT', 'SENT', 'SENT', 'SENT', 'SENT', 'SENT', 'SENT', 'SENT', 'SENT', 'SENT', 'SENT', 'SENT', 'SENT', 'SENT', 'SENT', 'SENT', 'SENT', 'SENT', 'SENT', 'SENT', 'SENT', 'SENT', 'SENT']\n",
            "4244561\n",
            "['SENT', 'SENT', 'SENT', 'SENT', 'SENT', 'SENT', 'SENT', 'SENT', 'SENT', 'SENT', 'SENT', 'SENT', 'SENT', 'SENT', 'SENT', 'SENT', 'SENT', 'SENT', 'SENT', 'SENT', 'SENT', 'SENT', 'SENT', 'SENT', 'SENT', 'SENT', 'SENT', 'SENT', 'SENT', 'SENT', 'SENT', 'SENT', 'SENT', 'SENT', 'SENT', 'SENT', 'SENT', 'SENT', 'SENT', 'SENT', 'SENT', 'SENT', 'SENT', 'SENT', 'SENT', 'SENT', 'SENT', 'SENT', 'SENT', 'SENT', 'SENT', 'SENT', 'SENT', 'SENT', 'SENT', 'SENT', 'SENT', 'SENT', 'SENT', 'SENT', 'SENT', 'SENT', 'SENT', 'SENT']\n",
            "4244562\n",
            "['DONE', 'SENT', 'SENT', 'SENT', 'SENT', 'SENT', 'SENT', 'SENT', 'SENT', 'SENT', 'SENT', 'SENT', 'SENT', 'SENT', 'SENT', 'SENT', 'SENT', 'SENT', 'SENT', 'SENT', 'SENT', 'SENT', 'SENT', 'SENT', 'SENT', 'SENT', 'SENT', 'SENT', 'SENT', 'SENT', 'SENT', 'SENT', 'SENT', 'SENT', 'SENT', 'SENT', 'SENT', 'SENT', 'SENT', 'SENT', 'SENT', 'SENT', 'SENT', 'SENT', 'SENT', 'SENT', 'SENT', 'SENT', 'SENT', 'SENT', 'SENT', 'SENT', 'SENT', 'SENT', 'SENT', 'SENT', 'SENT', 'SENT', 'SENT', 'SENT', 'SENT', 'SENT', 'SENT', 'SENT']\n",
            "4244565\n",
            "['DONE', 'SENT', 'SENT', 'SENT', 'SENT', 'SENT', 'SENT', 'SENT', 'SENT', 'SENT', 'SENT', 'SENT', 'SENT', 'SENT', 'SENT', 'SENT', 'SENT', 'SENT', 'SENT', 'SENT', 'SENT', 'SENT', 'SENT', 'SENT', 'SENT', 'SENT', 'SENT', 'SENT', 'SENT', 'SENT', 'SENT', 'SENT', 'SENT', 'SENT', 'SENT', 'SENT', 'SENT', 'SENT', 'SENT', 'SENT', 'SENT', 'SENT', 'SENT', 'SENT', 'SENT', 'SENT', 'SENT', 'SENT', 'SENT', 'SENT', 'SENT', 'SENT', 'SENT', 'SENT', 'SENT', 'SENT', 'SENT', 'SENT', 'SENT', 'SENT', 'SENT', 'SENT', 'SENT', 'SENT']\n",
            "4244566\n",
            "['DONE', 'SENT', 'SENT', 'SENT', 'SENT', 'SENT', 'SENT', 'SENT', 'SENT', 'SENT', 'SENT', 'SENT', 'SENT', 'SENT', 'SENT', 'SENT', 'SENT', 'SENT', 'SENT', 'SENT', 'SENT', 'SENT', 'SENT', 'SENT', 'SENT', 'SENT', 'SENT', 'SENT', 'SENT', 'SENT', 'SENT', 'SENT', 'SENT', 'SENT', 'SENT', 'SENT', 'SENT', 'SENT', 'SENT', 'SENT', 'SENT', 'SENT', 'SENT', 'SENT', 'SENT', 'SENT', 'SENT', 'SENT', 'SENT', 'SENT', 'SENT', 'SENT', 'SENT', 'SENT', 'SENT', 'SENT', 'SENT', 'SENT', 'SENT', 'SENT', 'SENT', 'SENT', 'SENT', 'SENT']\n",
            "4244567\n",
            "['DONE', 'SENT', 'SENT', 'SENT', 'SENT', 'SENT', 'SENT', 'SENT', 'SENT', 'SENT', 'SENT', 'SENT', 'SENT', 'SENT', 'SENT', 'SENT', 'SENT', 'SENT', 'SENT', 'SENT', 'SENT', 'SENT', 'SENT', 'SENT', 'SENT', 'SENT', 'SENT', 'SENT', 'SENT', 'SENT', 'SENT', 'SENT', 'SENT', 'SENT', 'SENT', 'SENT', 'SENT', 'SENT', 'SENT', 'SENT', 'SENT', 'SENT', 'SENT', 'SENT', 'SENT', 'SENT', 'SENT', 'SENT', 'SENT', 'SENT', 'SENT', 'SENT', 'SENT', 'SENT', 'SENT', 'SENT', 'SENT', 'SENT', 'SENT', 'SENT', 'SENT', 'SENT', 'SENT', 'SENT']\n",
            "4244568\n",
            "['DONE', 'SENT', 'SENT', 'SENT', 'SENT', 'SENT', 'SENT', 'SENT', 'SENT', 'SENT', 'SENT', 'SENT', 'SENT', 'SENT', 'SENT', 'SENT', 'SENT', 'SENT', 'SENT', 'SENT', 'SENT', 'SENT', 'SENT', 'SENT', 'SENT', 'SENT', 'SENT', 'SENT', 'SENT', 'SENT', 'SENT', 'SENT', 'SENT', 'SENT', 'SENT', 'SENT', 'SENT', 'SENT', 'SENT', 'SENT', 'SENT', 'SENT', 'SENT', 'SENT', 'SENT', 'SENT', 'SENT', 'SENT', 'SENT', 'SENT', 'SENT', 'SENT', 'SENT', 'SENT', 'SENT', 'SENT', 'SENT', 'SENT', 'SENT', 'SENT', 'SENT', 'SENT', 'SENT', 'SENT']\n",
            "4244570\n",
            "['DONE', 'DONE', 'DONE', 'DONE', 'DONE', 'DONE', 'DONE', 'DONE', 'DONE', 'DONE', 'DONE', 'DONE', 'DONE', 'DONE', 'DONE', 'DONE', 'DONE', 'DONE', 'DONE', 'DONE', 'DONE', 'DONE', 'DONE', 'DONE', 'DONE', 'DONE', 'DONE', 'DONE', 'DONE', 'DONE', 'DONE', 'DONE', 'DONE', 'DONE', 'DONE', 'DONE', 'DONE', 'DONE', 'DONE', 'DONE', 'DONE', 'DONE', 'DONE', 'DONE', 'DONE', 'DONE', 'DONE', 'DONE', 'DONE', 'DONE', 'DONE', 'DONE', 'DONE', 'DONE', 'DONE', 'DONE', 'DONE', 'DONE', 'DONE', 'DONE', 'DONE', 'DONE', 'DONE', 'DONE']\n"
          ]
        }
      ]
    },
    {
      "cell_type": "code",
      "source": [
        "#[cad.index for cad in cadenas]"
      ],
      "metadata": {
        "id": "O2oNkLF6iReX"
      },
      "execution_count": 46,
      "outputs": []
    },
    {
      "cell_type": "code",
      "source": [
        "cadenas[50].utxo"
      ],
      "metadata": {
        "colab": {
          "base_uri": "https://localhost:8080/"
        },
        "id": "mVzHg_Wb2UiH",
        "outputId": "8dfc437b-c480-4364-be29-ce5501f47c6b"
      },
      "execution_count": 50,
      "outputs": [
        {
          "output_type": "execute_result",
          "data": {
            "text/plain": [
              "{'output': '014123b21a99b50e28219522af50a7a970dd3f8feeb0dd1d07e4ab2d384b40d1:50',\n",
              " 'value': 2863932921}"
            ]
          },
          "metadata": {},
          "execution_count": 50
        }
      ]
    },
    {
      "cell_type": "code",
      "source": [
        "cadenas[0].head_utxo"
      ],
      "metadata": {
        "colab": {
          "base_uri": "https://localhost:8080/"
        },
        "id": "XnSusnlj2Yow",
        "outputId": "c5b342cc-5954-47a1-c8aa-ee2d275f527a"
      },
      "execution_count": 53,
      "outputs": [
        {
          "output_type": "execute_result",
          "data": {
            "text/plain": [
              "{'output': 'd547bc43bbea87478c791aa3473f39406b3cb80253471f974f8a2c7fef3cbc6a:0',\n",
              " 'value': 2563932921}"
            ]
          },
          "metadata": {},
          "execution_count": 53
        }
      ]
    },
    {
      "cell_type": "markdown",
      "source": [
        "# Everything is Retrievable From the Original TX Hash\n",
        "\n",
        "\n",
        "\n",
        "Use the UTXO set transactions\n",
        "\n",
        "The first is greyscale. The second is color. They are both super parallel, meaning there is no series processing of the data.\n",
        "\n",
        "The third is multi strand\n",
        "\n",
        "The fourth is single strand\n",
        "\n",
        "The fifth and sixth are multistrand\n",
        "\n",
        "```\n",
        "c1542c10399a09a5471799133c472a6652d5cb3b7b421e1a7e80e2039f5b393b\n",
        "\n",
        "a01e8625d653f4a8686b5b9e20ca653e59ebcd8bf2ca2a7b8370fdc52417f7b9\n",
        "\n",
        "9e42c7ab6f47dadc0c36d22fb20f69c9db0daa5c719cd8ff83c8ecf250efa519\n",
        "\n",
        "6de5b84940f73653196800c747f3a6f86752e4dcc5ccbb3fbc81fcb2d20e1672\n",
        "\n",
        "dcd31fa39202c9018dfb28e17da108dd3bd6b98ffc1cd30040f636012e3236ee\n",
        "\n",
        "014123b21a99b50e28219522af50a7a970dd3f8feeb0dd1d07e4ab2d384b40d1\n",
        "```"
      ],
      "metadata": {
        "id": "PLKBeRyZNsfW"
      }
    },
    {
      "cell_type": "markdown",
      "source": [
        "# Automate Reading From Dogecoin Blockchain"
      ],
      "metadata": {
        "id": "IlK7oSOV91Dw"
      }
    },
    {
      "cell_type": "code",
      "source": [
        "def get_output_spend_txns(txn_ident):\n",
        "  import requests\n",
        "  import json\n",
        "  r = requests.get(f'https://sochain.com/api/v2/tx/DOGE/{txn_ident}')\n",
        "  return [out['spent']['txid'] for out in json.loads(r.text)['data']['outputs']]\n",
        "\n",
        "def get_op_return(txn_ident):\n",
        "  import requests\n",
        "  import json\n",
        "  r = requests.get(f'https://sochain.com/api/v2/tx/DOGE/{txn_ident}')\n",
        "  outs=json.loads(r.text)['data']['outputs']\n",
        "  asm=outs[-1]['script_asm']\n",
        "  return (asm[10:] if 'OP_RETURN' in asm else None),outs[0]['spent']['txid'] if outs[0]['spent'] else None\n",
        "\n",
        "def get_op_returns(tx_head,prefix=''):\n",
        "  import time\n",
        "  time.sleep(0.25)\n",
        "  op_ret,next_txn=get_op_return(tx_head)\n",
        "  if (op_ret and next_txn):\n",
        "    return get_op_returns(next_txn,prefix+op_ret)\n",
        "  if op_ret==None:\n",
        "    return prefix\n",
        "  else:\n",
        "    return prefix+op_ret\n",
        "\n",
        "def read_cadenas(txn_ident):\n",
        "  datalist=[get_op_returns(txn) for txn in get_output_spend_txns(txn_ident)]\n",
        "  return datalist[0],b''.join([bytes.fromhex(x) for x in datalist[1:] ])"
      ],
      "metadata": {
        "id": "wjibUI2b3k9o"
      },
      "execution_count": 68,
      "outputs": []
    },
    {
      "cell_type": "code",
      "source": [
        "print(bytes.fromhex(get_op_returns('6de5b84940f73653196800c747f3a6f86752e4dcc5ccbb3fbc81fcb2d20e1672')).decode('latin'))"
      ],
      "metadata": {
        "id": "4WJIxtxhn8Ej",
        "outputId": "36d05972-a923-4dfe-a004-9ebcc53d3174",
        "colab": {
          "base_uri": "https://localhost:8080/"
        }
      },
      "execution_count": 57,
      "outputs": [
        {
          "output_type": "stream",
          "name": "stdout",
          "text": [
            "Ý\u0002\u0000\rBlue Monday\n",
            "\n",
            "How does it feel\n",
            "When you treat me like you do\n",
            "And you've laid Ý\u0002\u0001\ryour hands upon me\n",
            "And told me who you are?\n",
            "I thought I was mistaken\n",
            "And I tÝ\u0002\u0002\rhought I heard your words\n",
            "Tell me, how do I feel?\n",
            "Tell me now, how do I feelÝ\u0002\u0003\r?\n",
            "Those who came before me\n",
            "Lived through their vocations\n",
            "From the past untilÝ\u0002\u0004\r completion\n",
            "They will turn away no more\n",
            "And I still find it so hard\n",
            "To say wÝ\u0002\u0005\rhat I need to say\n",
            "But I'm quite sure that you'll tell me\n",
            "Just how I should fÝ\u0002\u0006\reel today\n",
            "I see a ship in the harbor\n",
            "I can and shall obey\n",
            "But if it wasn't fÝ\u0002\u0007\ror your misfortunes\n",
            "I'd be a heavenly person today\n",
            "And I thought I was mistaÝ\u0002\b\rken\n",
            "And I thought I heard you speak\n",
            "Tell me how do I feel?\n",
            "Tell me now, how Ý\u0002\t\rshould I feel?\n",
            "Now I stand here waiting\n",
            "I thought I told you to leave me\n",
            "WhiÝ\u0002\n",
            "\rle I walked down to the beach\n",
            "Tell me, how does it feel\n",
            "When your heart growÝ\u0002\u000b\rs cold?\n",
            "How does it feel?\n",
            "How does it feel?\n",
            "How does it feel?\n",
            "And I thought Ý\u0002\f\rI told you to leave me\n",
            "While I walked down to the beach\n",
            "Tell me, how does itÝ\u0002\r\r feel\n",
            "When your heart grows cold\n"
          ]
        }
      ]
    },
    {
      "cell_type": "code",
      "source": [
        "(head_a01,bytes_a01)=read_cadenas('a01e8625d653f4a8686b5b9e20ca653e59ebcd8bf2ca2a7b8370fdc52417f7b9')"
      ],
      "metadata": {
        "id": "Nf6zTtjjB28-",
        "outputId": "45d40354-b3d7-4dec-b9f3-17b43b5f2f0f",
        "colab": {
          "base_uri": "https://localhost:8080/",
          "height": 318
        }
      },
      "execution_count": 58,
      "outputs": [
        {
          "output_type": "error",
          "ename": "KeyboardInterrupt",
          "evalue": "ignored",
          "traceback": [
            "\u001b[0;31m---------------------------------------------------------------------------\u001b[0m",
            "\u001b[0;31mKeyboardInterrupt\u001b[0m                         Traceback (most recent call last)",
            "\u001b[0;32m<ipython-input-58-81531a7dea5d>\u001b[0m in \u001b[0;36m<module>\u001b[0;34m()\u001b[0m\n\u001b[0;32m----> 1\u001b[0;31m \u001b[0;34m(\u001b[0m\u001b[0mhead_a01\u001b[0m\u001b[0;34m,\u001b[0m\u001b[0mbytes_a01\u001b[0m\u001b[0;34m)\u001b[0m\u001b[0;34m=\u001b[0m\u001b[0mread_cadenas\u001b[0m\u001b[0;34m(\u001b[0m\u001b[0;34m'a01e8625d653f4a8686b5b9e20ca653e59ebcd8bf2ca2a7b8370fdc52417f7b9'\u001b[0m\u001b[0;34m)\u001b[0m\u001b[0;34m\u001b[0m\u001b[0;34m\u001b[0m\u001b[0m\n\u001b[0m",
            "\u001b[0;32m<ipython-input-56-da74fef2caf9>\u001b[0m in \u001b[0;36mread_cadenas\u001b[0;34m(txn_ident)\u001b[0m\n\u001b[1;32m     25\u001b[0m \u001b[0;34m\u001b[0m\u001b[0m\n\u001b[1;32m     26\u001b[0m \u001b[0;32mdef\u001b[0m \u001b[0mread_cadenas\u001b[0m\u001b[0;34m(\u001b[0m\u001b[0mtxn_ident\u001b[0m\u001b[0;34m)\u001b[0m\u001b[0;34m:\u001b[0m\u001b[0;34m\u001b[0m\u001b[0;34m\u001b[0m\u001b[0m\n\u001b[0;32m---> 27\u001b[0;31m   \u001b[0mdatalist\u001b[0m\u001b[0;34m=\u001b[0m\u001b[0;34m[\u001b[0m\u001b[0mget_op_returns\u001b[0m\u001b[0;34m(\u001b[0m\u001b[0mtxn\u001b[0m\u001b[0;34m)\u001b[0m \u001b[0;32mfor\u001b[0m \u001b[0mtxn\u001b[0m \u001b[0;32min\u001b[0m \u001b[0mget_output_spend_txns\u001b[0m\u001b[0;34m(\u001b[0m\u001b[0mtxn_ident\u001b[0m\u001b[0;34m)\u001b[0m\u001b[0;34m]\u001b[0m\u001b[0;34m\u001b[0m\u001b[0;34m\u001b[0m\u001b[0m\n\u001b[0m\u001b[1;32m     28\u001b[0m   \u001b[0;32mreturn\u001b[0m \u001b[0mdatalist\u001b[0m\u001b[0;34m[\u001b[0m\u001b[0;36m0\u001b[0m\u001b[0;34m]\u001b[0m\u001b[0;34m,\u001b[0m\u001b[0;34mb''\u001b[0m\u001b[0;34m.\u001b[0m\u001b[0mjoin\u001b[0m\u001b[0;34m(\u001b[0m\u001b[0;34m[\u001b[0m\u001b[0mbytes\u001b[0m\u001b[0;34m.\u001b[0m\u001b[0mfromhex\u001b[0m\u001b[0;34m(\u001b[0m\u001b[0mx\u001b[0m\u001b[0;34m)\u001b[0m \u001b[0;32mfor\u001b[0m \u001b[0mx\u001b[0m \u001b[0;32min\u001b[0m \u001b[0mdatalist\u001b[0m\u001b[0;34m[\u001b[0m\u001b[0;36m1\u001b[0m\u001b[0;34m:\u001b[0m\u001b[0;34m]\u001b[0m \u001b[0;34m]\u001b[0m\u001b[0;34m)\u001b[0m\u001b[0;34m\u001b[0m\u001b[0;34m\u001b[0m\u001b[0m\n",
            "\u001b[0;32m<ipython-input-56-da74fef2caf9>\u001b[0m in \u001b[0;36m<listcomp>\u001b[0;34m(.0)\u001b[0m\n\u001b[1;32m     25\u001b[0m \u001b[0;34m\u001b[0m\u001b[0m\n\u001b[1;32m     26\u001b[0m \u001b[0;32mdef\u001b[0m \u001b[0mread_cadenas\u001b[0m\u001b[0;34m(\u001b[0m\u001b[0mtxn_ident\u001b[0m\u001b[0;34m)\u001b[0m\u001b[0;34m:\u001b[0m\u001b[0;34m\u001b[0m\u001b[0;34m\u001b[0m\u001b[0m\n\u001b[0;32m---> 27\u001b[0;31m   \u001b[0mdatalist\u001b[0m\u001b[0;34m=\u001b[0m\u001b[0;34m[\u001b[0m\u001b[0mget_op_returns\u001b[0m\u001b[0;34m(\u001b[0m\u001b[0mtxn\u001b[0m\u001b[0;34m)\u001b[0m \u001b[0;32mfor\u001b[0m \u001b[0mtxn\u001b[0m \u001b[0;32min\u001b[0m \u001b[0mget_output_spend_txns\u001b[0m\u001b[0;34m(\u001b[0m\u001b[0mtxn_ident\u001b[0m\u001b[0;34m)\u001b[0m\u001b[0;34m]\u001b[0m\u001b[0;34m\u001b[0m\u001b[0;34m\u001b[0m\u001b[0m\n\u001b[0m\u001b[1;32m     28\u001b[0m   \u001b[0;32mreturn\u001b[0m \u001b[0mdatalist\u001b[0m\u001b[0;34m[\u001b[0m\u001b[0;36m0\u001b[0m\u001b[0;34m]\u001b[0m\u001b[0;34m,\u001b[0m\u001b[0;34mb''\u001b[0m\u001b[0;34m.\u001b[0m\u001b[0mjoin\u001b[0m\u001b[0;34m(\u001b[0m\u001b[0;34m[\u001b[0m\u001b[0mbytes\u001b[0m\u001b[0;34m.\u001b[0m\u001b[0mfromhex\u001b[0m\u001b[0;34m(\u001b[0m\u001b[0mx\u001b[0m\u001b[0;34m)\u001b[0m \u001b[0;32mfor\u001b[0m \u001b[0mx\u001b[0m \u001b[0;32min\u001b[0m \u001b[0mdatalist\u001b[0m\u001b[0;34m[\u001b[0m\u001b[0;36m1\u001b[0m\u001b[0;34m:\u001b[0m\u001b[0;34m]\u001b[0m \u001b[0;34m]\u001b[0m\u001b[0;34m)\u001b[0m\u001b[0;34m\u001b[0m\u001b[0;34m\u001b[0m\u001b[0m\n",
            "\u001b[0;32m<ipython-input-56-da74fef2caf9>\u001b[0m in \u001b[0;36mget_op_returns\u001b[0;34m(tx_head, prefix)\u001b[0m\n\u001b[1;32m     18\u001b[0m   \u001b[0mop_ret\u001b[0m\u001b[0;34m,\u001b[0m\u001b[0mnext_txn\u001b[0m\u001b[0;34m=\u001b[0m\u001b[0mget_op_return\u001b[0m\u001b[0;34m(\u001b[0m\u001b[0mtx_head\u001b[0m\u001b[0;34m)\u001b[0m\u001b[0;34m\u001b[0m\u001b[0;34m\u001b[0m\u001b[0m\n\u001b[1;32m     19\u001b[0m   \u001b[0;32mif\u001b[0m \u001b[0;34m(\u001b[0m\u001b[0mop_ret\u001b[0m \u001b[0;32mand\u001b[0m \u001b[0mnext_txn\u001b[0m\u001b[0;34m)\u001b[0m\u001b[0;34m:\u001b[0m\u001b[0;34m\u001b[0m\u001b[0;34m\u001b[0m\u001b[0m\n\u001b[0;32m---> 20\u001b[0;31m     \u001b[0;32mreturn\u001b[0m \u001b[0mget_op_returns\u001b[0m\u001b[0;34m(\u001b[0m\u001b[0mnext_txn\u001b[0m\u001b[0;34m,\u001b[0m\u001b[0mprefix\u001b[0m\u001b[0;34m+\u001b[0m\u001b[0mop_ret\u001b[0m\u001b[0;34m)\u001b[0m\u001b[0;34m\u001b[0m\u001b[0;34m\u001b[0m\u001b[0m\n\u001b[0m\u001b[1;32m     21\u001b[0m   \u001b[0;32mif\u001b[0m \u001b[0mop_ret\u001b[0m\u001b[0;34m==\u001b[0m\u001b[0;32mNone\u001b[0m\u001b[0;34m:\u001b[0m\u001b[0;34m\u001b[0m\u001b[0;34m\u001b[0m\u001b[0m\n\u001b[1;32m     22\u001b[0m     \u001b[0;32mreturn\u001b[0m \u001b[0mprefix\u001b[0m\u001b[0;34m\u001b[0m\u001b[0;34m\u001b[0m\u001b[0m\n",
            "\u001b[0;32m<ipython-input-56-da74fef2caf9>\u001b[0m in \u001b[0;36mget_op_returns\u001b[0;34m(tx_head, prefix)\u001b[0m\n\u001b[1;32m     15\u001b[0m \u001b[0;32mdef\u001b[0m \u001b[0mget_op_returns\u001b[0m\u001b[0;34m(\u001b[0m\u001b[0mtx_head\u001b[0m\u001b[0;34m,\u001b[0m\u001b[0mprefix\u001b[0m\u001b[0;34m=\u001b[0m\u001b[0;34m''\u001b[0m\u001b[0;34m)\u001b[0m\u001b[0;34m:\u001b[0m\u001b[0;34m\u001b[0m\u001b[0;34m\u001b[0m\u001b[0m\n\u001b[1;32m     16\u001b[0m   \u001b[0;32mimport\u001b[0m \u001b[0mtime\u001b[0m\u001b[0;34m\u001b[0m\u001b[0;34m\u001b[0m\u001b[0m\n\u001b[0;32m---> 17\u001b[0;31m   \u001b[0mtime\u001b[0m\u001b[0;34m.\u001b[0m\u001b[0msleep\u001b[0m\u001b[0;34m(\u001b[0m\u001b[0;36m0.25\u001b[0m\u001b[0;34m)\u001b[0m\u001b[0;34m\u001b[0m\u001b[0;34m\u001b[0m\u001b[0m\n\u001b[0m\u001b[1;32m     18\u001b[0m   \u001b[0mop_ret\u001b[0m\u001b[0;34m,\u001b[0m\u001b[0mnext_txn\u001b[0m\u001b[0;34m=\u001b[0m\u001b[0mget_op_return\u001b[0m\u001b[0;34m(\u001b[0m\u001b[0mtx_head\u001b[0m\u001b[0;34m)\u001b[0m\u001b[0;34m\u001b[0m\u001b[0;34m\u001b[0m\u001b[0m\n\u001b[1;32m     19\u001b[0m   \u001b[0;32mif\u001b[0m \u001b[0;34m(\u001b[0m\u001b[0mop_ret\u001b[0m \u001b[0;32mand\u001b[0m \u001b[0mnext_txn\u001b[0m\u001b[0;34m)\u001b[0m\u001b[0;34m:\u001b[0m\u001b[0;34m\u001b[0m\u001b[0;34m\u001b[0m\u001b[0m\n",
            "\u001b[0;31mKeyboardInterrupt\u001b[0m: "
          ]
        }
      ]
    },
    {
      "cell_type": "code",
      "source": [
        "def read_image_chain(txn_id):\n",
        "  (hex_header,image_bytes)=read_cadenas(txn_id)\n",
        "  C={0:1,1:3}[int(hex_header[12:14],16)]\n",
        "  L=int(hex_header[14:18],16)\n",
        "  W=int(hex_header[18:22],16)\n",
        "  B=int(hex_header[22:24],16)\n",
        "  print(C,L,W,B)\n",
        "  sparkle_bits=message_2_bit_array(image_bytes,mode=None)\n",
        "  spark_array=bitarray2imgarr(sparkle_bits,imgshape=(W,L),bit=B,color=C).squeeze()\n",
        "  return hex_header,spark_array"
      ],
      "metadata": {
        "id": "r3vhNl1lDHB_"
      },
      "execution_count": 59,
      "outputs": []
    },
    {
      "cell_type": "code",
      "source": [
        "(hdr_a01,ar_a01)=read_image_chain('a01e8625d653f4a8686b5b9e20ca653e59ebcd8bf2ca2a7b8370fdc52417f7b9')\n",
        "Image.fromarray(ar_a01)"
      ],
      "metadata": {
        "colab": {
          "base_uri": "https://localhost:8080/",
          "height": 99
        },
        "id": "R39MQAKQFEe9",
        "outputId": "3fa5bae1-0a7a-4fad-fbf6-d19cb16c51c5"
      },
      "execution_count": 62,
      "outputs": [
        {
          "output_type": "stream",
          "name": "stdout",
          "text": [
            "3 64 64 5\n"
          ]
        },
        {
          "output_type": "execute_result",
          "data": {
            "text/plain": [
              "<PIL.Image.Image image mode=RGB size=64x64 at 0x7EFD51401610>"
            ],
            "image/png": "[encoded data removed]"
          },
          "metadata": {},
          "execution_count": 62
        }
      ]
    },
    {
      "cell_type": "code",
      "source": [
        "bytes.fromhex(hdr_a01[24:]).decode()"
      ],
      "metadata": {
        "colab": {
          "base_uri": "https://localhost:8080/",
          "height": 35
        },
        "id": "p5QIGkmhNuyQ",
        "outputId": "cb893ba5-26d0-413b-a780-8197bd3f5e93"
      },
      "execution_count": 63,
      "outputs": [
        {
          "output_type": "execute_result",
          "data": {
            "text/plain": [
              "'Peter Bea'"
            ],
            "application/vnd.google.colaboratory.intrinsic+json": {
              "type": "string"
            }
          },
          "metadata": {},
          "execution_count": 63
        }
      ]
    },
    {
      "cell_type": "code",
      "source": [
        "hdr_c15,ar_c15=read_image_chain('c1542c10399a09a5471799133c472a6652d5cb3b7b421e1a7e80e2039f5b393b')\n",
        "Image.fromarray(ar_c15)"
      ],
      "metadata": {
        "colab": {
          "base_uri": "https://localhost:8080/",
          "height": 99
        },
        "id": "qY_BU0bMWH_m",
        "outputId": "7d8c2c2a-6ebc-4125-b809-cf00000c51dc"
      },
      "execution_count": 64,
      "outputs": [
        {
          "output_type": "stream",
          "name": "stdout",
          "text": [
            "1 64 64 5\n"
          ]
        },
        {
          "output_type": "execute_result",
          "data": {
            "text/plain": [
              "<PIL.Image.Image image mode=L size=64x64 at 0x7EFD512D7FD0>"
            ],
            "image/png": "[encoded data removed]"
          },
          "metadata": {},
          "execution_count": 64
        }
      ]
    },
    {
      "cell_type": "code",
      "source": [
        "#bytes.fromhex(hdr_c15[24:]).decode()"
      ],
      "metadata": {
        "id": "ZT0SL0klNVIG"
      },
      "execution_count": null,
      "outputs": []
    },
    {
      "cell_type": "code",
      "source": [
        "hdr_9e4,ar_9e4=read_image_chain('9e42c7ab6f47dadc0c36d22fb20f69c9db0daa5c719cd8ff83c8ecf250efa519')\n",
        "Image.fromarray(ar_9e4)"
      ],
      "metadata": {
        "colab": {
          "base_uri": "https://localhost:8080/",
          "height": 99
        },
        "id": "XOMXNCV_Y63R",
        "outputId": "828b15fd-b95b-48c0-879b-69cdda198819"
      },
      "execution_count": 65,
      "outputs": [
        {
          "output_type": "stream",
          "name": "stdout",
          "text": [
            "3 128 64 5\n"
          ]
        },
        {
          "output_type": "execute_result",
          "data": {
            "text/plain": [
              "<PIL.Image.Image image mode=RGB size=128x64 at 0x7EFD512DE390>"
            ],
            "image/png": "[encoded data removed]"
          },
          "metadata": {},
          "execution_count": 65
        }
      ]
    },
    {
      "cell_type": "code",
      "source": [
        "bytes.fromhex(hdr_9e4)"
      ],
      "metadata": {
        "colab": {
          "base_uri": "https://localhost:8080/"
        },
        "id": "398gYqAQLFjG",
        "outputId": "39f9771a-ed21-478b-bd5f-6c557361ac9e"
      },
      "execution_count": 66,
      "outputs": [
        {
          "output_type": "execute_result",
          "data": {
            "text/plain": [
              "b'\\xc1\\xdd\\x00\\x01\\x03\\xff\\x01\\x00\\x80\\x00@\\x05|This was Peter on her blanket during a ride to the country|\\xf0\\x9f\\x90\\xb4\\xf0\\x9f\\x90\\xb6\\x08\\xbb\\xbe\\x8a\\x13\\x9c,\\xa1\\xf4?\\xffI\\xack\\xb2\"e\\x84h\\xe2)\\xc3O\\x13\\x80\\xcc\\x91\\x0eO\\x1a\\xa4P'"
            ]
          },
          "metadata": {},
          "execution_count": 66
        }
      ]
    },
    {
      "cell_type": "code",
      "source": [
        "bytes.fromhex(hdr_9e4[24:-64]).decode()"
      ],
      "metadata": {
        "colab": {
          "base_uri": "https://localhost:8080/",
          "height": 35
        },
        "id": "JZldleEzLPma",
        "outputId": "5b334bb8-b565-4cc0-ebed-4eae33ddac80"
      },
      "execution_count": 67,
      "outputs": [
        {
          "output_type": "execute_result",
          "data": {
            "text/plain": [
              "'|This was Peter on her blanket during a ride to the country|🐴🐶'"
            ],
            "application/vnd.google.colaboratory.intrinsic+json": {
              "type": "string"
            }
          },
          "metadata": {},
          "execution_count": 67
        }
      ]
    },
    {
      "cell_type": "code",
      "source": [
        "(hdr_dcd,ar_dcd)=read_image_chain('dcd31fa39202c9018dfb28e17da108dd3bd6b98ffc1cd30040f636012e3236ee')\n",
        "Image.fromarray(ar_dcd)"
      ],
      "metadata": {
        "id": "IWP1lAVJhWcl",
        "outputId": "5bf77be1-699d-4357-fca4-fd7501777f8d",
        "colab": {
          "base_uri": "https://localhost:8080/",
          "height": 179
        }
      },
      "execution_count": 69,
      "outputs": [
        {
          "output_type": "stream",
          "name": "stdout",
          "text": [
            "3 144 144 5\n"
          ]
        },
        {
          "output_type": "execute_result",
          "data": {
            "text/plain": [
              "<PIL.Image.Image image mode=RGB size=144x144 at 0x7EFD513C8BD0>"
            ],
            "image/png": "[encoded data removed]"
          },
          "metadata": {},
          "execution_count": 69
        }
      ]
    },
    {
      "cell_type": "code",
      "source": [
        "(hdr_014,ar_014)=read_image_chain('014123b21a99b50e28219522af50a7a970dd3f8feeb0dd1d07e4ab2d384b40d1')\n",
        "Image.fromarray(ar_014)"
      ],
      "metadata": {
        "id": "LlYLED5Fhldc",
        "outputId": "7f96c8ba-5e06-42bd-fd2b-51084811b393",
        "colab": {
          "base_uri": "https://localhost:8080/",
          "height": 155
        }
      },
      "execution_count": 70,
      "outputs": [
        {
          "output_type": "stream",
          "name": "stdout",
          "text": [
            "3 168 120 4\n"
          ]
        },
        {
          "output_type": "execute_result",
          "data": {
            "text/plain": [
              "<PIL.Image.Image image mode=RGB size=168x120 at 0x7EFD51342F10>"
            ],
            "image/png": "[encoded data removed]"
          },
          "metadata": {},
          "execution_count": 70
        }
      ]
    },
    {
      "cell_type": "code",
      "source": [
        "print(bytes.fromhex(hdr_dcd[24:]).decode())\n"
      ],
      "metadata": {
        "id": "6Q8kzBiftwiy",
        "outputId": "44c76854-f3f8-49ca-a730-263c7f76d420",
        "colab": {
          "base_uri": "https://localhost:8080/"
        }
      },
      "execution_count": 73,
      "outputs": [
        {
          "output_type": "stream",
          "name": "stdout",
          "text": [
            "|Paco was a kitten I found on the side of the road in a drain ditch.\n",
            " The first night after taking him home he slept in a bag. \n",
            " He was named after fashion designer Paco Rabanne|\n"
          ]
        }
      ]
    },
    {
      "cell_type": "code",
      "source": [
        ""
      ],
      "metadata": {
        "id": "GXcJKdf2ul5v"
      },
      "execution_count": null,
      "outputs": []
    }
  ]
}