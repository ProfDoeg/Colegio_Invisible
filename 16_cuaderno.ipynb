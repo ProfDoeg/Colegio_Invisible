{
  "nbformat": 4,
  "nbformat_minor": 0,
  "metadata": {
    "colab": {
      "name": "15_cuaderno.ipynb",
      "provenance": [],
      "include_colab_link": true
    },
    "kernelspec": {
      "name": "python3",
      "display_name": "Python 3"
    },
    "language_info": {
      "name": "python"
    }
  },
  "cells": [
    {
      "cell_type": "markdown",
      "metadata": {
        "id": "view-in-github",
        "colab_type": "text"
      },
      "source": [
        "<a href=\"https://colab.research.google.com/github/ProfDoeg/Colegio_Invisible/blob/main/16_cuaderno.ipynb\" target=\"_parent\"><img src=\"https://colab.research.google.com/assets/colab-badge.svg\" alt=\"Open In Colab\"/></a>"
      ]
    },
    {
      "cell_type": "code",
      "source": [
        "#! rm Colegio_Invisible -r"
      ],
      "metadata": {
        "id": "6YV5qP8RODUW"
      },
      "execution_count": null,
      "outputs": []
    },
    {
      "cell_type": "code",
      "execution_count": 2,
      "metadata": {
        "id": "p80LxM-iMpBC",
        "colab": {
          "base_uri": "https://localhost:8080/"
        },
        "outputId": "0ec7da0e-3881-4d76-c6b9-299356bb24c3"
      },
      "outputs": [
        {
          "output_type": "stream",
          "name": "stdout",
          "text": [
            "Cloning into 'Colegio_Invisible'...\n",
            "remote: Enumerating objects: 1136, done.\u001b[K\n",
            "remote: Counting objects: 100% (6/6), done.\u001b[K\n",
            "remote: Compressing objects: 100% (6/6), done.\u001b[K\n",
            "remote: Total 1136 (delta 2), reused 0 (delta 0), pack-reused 1130\u001b[K\n",
            "Receiving objects: 100% (1136/1136), 131.61 MiB | 21.05 MiB/s, done.\n",
            "Resolving deltas: 100% (785/785), done.\n",
            "Looking in indexes: https://pypi.org/simple, https://us-python.pkg.dev/colab-wheels/public/simple/\n",
            "Collecting cryptos\n",
            "  Downloading cryptos-1.36-py3-none-any.whl (69 kB)\n",
            "\u001b[K     |████████████████████████████████| 69 kB 3.5 MB/s \n",
            "\u001b[?25hInstalling collected packages: cryptos\n",
            "Successfully installed cryptos-1.36\n"
          ]
        }
      ],
      "source": [
        "! git clone https://github.com/ProfDoeg/Colegio_Invisible.git\n",
        "! pip install cryptos"
      ]
    },
    {
      "cell_type": "markdown",
      "source": [
        "#Parallel Transaction Chains\n",
        "\n"
      ],
      "metadata": {
        "id": "A54RU5ZeUZZk"
      }
    },
    {
      "cell_type": "code",
      "source": [
        "from PIL import Image\n",
        "import numpy as np"
      ],
      "metadata": {
        "id": "jSzywLaHMsem"
      },
      "execution_count": 3,
      "outputs": []
    },
    {
      "cell_type": "code",
      "source": [
        "def grey_imgarr(imgarr):\n",
        "  return imgarr[:,:,:3].mean(axis=2).astype('uint8')\n",
        "\n",
        "def message_2_bit_array(message,mode=None):\n",
        "    '''This function takes in a message as string, bytestring or hextring.\n",
        "    If hexstring input the set mode='hex' '''\n",
        "    if type(message)==bytes:\n",
        "        hex_str=message.hex()\n",
        "    elif (type(message)==str):\n",
        "        if mode not in ('hex','hexstring'):\n",
        "            hex_str=message.encode().hex()\n",
        "        else:\n",
        "            hex_str=message\n",
        "    else:\n",
        "        print('fix the input and mode')\n",
        "        return None\n",
        "    \n",
        "    num=int('0x'+hex_str,base=16)\n",
        "    byte_len=(len(hex_str)+1)//2\n",
        "    bit_len=byte_len*8\n",
        "    bin_str=bin(num)\n",
        "    bit_list=[int(bit) for bit in bin_str[2:]]\n",
        "    bit_list=[0]*(bit_len-len(bit_list))+bit_list\n",
        "    bit_array=np.array(bit_list,dtype='uint8')\n",
        "    return bit_array\n",
        "\n",
        "def bit_array_2_byte_str(bit_array):\n",
        "    '''Convert bit array to a bytestring'''\n",
        "    bit_list=[ str(bit) for bit in bit_array]\n",
        "    bin_str='0b'+(''.join(bit_list))\n",
        "    num=int(bin_str,base=2)\n",
        "    return num.to_bytes(len(bit_array)//8,'big')\n",
        "\n",
        "def bit_array_2_hex_str(bit_array):  \n",
        "    '''Convert a bit array to a hexstring'''\n",
        "    return bit_array_2_byte_str(bit_array).hex()\n",
        "\n",
        "def bit_array_2_str(bit_array,encoding='utf-8'):\n",
        "    '''Convert a bit array to a string'''\n",
        "    return bit_array_2_byte_str(bit_array).decode(encoding)\n",
        "\n",
        "def int2bitarray(x,bit=8):\n",
        "  return message_2_bit_array(hex(x)[2:],mode='hex')[:bit]\n",
        "\n",
        "def bitarray2int(b_arr):\n",
        "  ln=b_arr.shape[0]\n",
        "  scales=(2**np.arange(7,-1,-1))[:ln]\n",
        "  return (b_arr*scales).sum()\n",
        "\n",
        "def imgarr2bitarray(imgarr,bit=8):\n",
        "  return np.array([ int2bitarray(it,bit) for it in imgarr.reshape(-1)]).reshape(-1)\n",
        "\n",
        "def bitarray2imgarr(barrs,imgshape=(16,16),bit=2,color=1):\n",
        "  lns=len(barrs.reshape(-1))\n",
        "  #Bs=barrs.reshape(*imgshape,bit)\n",
        "  intlst=[ bitarray2int(barrs.reshape(-1)[i:i+bit]) for i in range(0,lns,bit) ]\n",
        "  intarr=np.array(intlst).reshape(*imgshape,color).astype('uint8')\n",
        "  return intarr\n",
        " \n",
        "def bitarray2imgarr_scale(barrs,imgshape=(16,16),bit=2,color=1):\n",
        "  lns=len(barrs.reshape(-1))\n",
        "  #Bs=barrs.reshape(*imgshape,bit)\n",
        "  intlst=[ bitarray2int_scale(barrs.reshape(-1)[i:i+bit]) for i in range(0,lns,bit) ]\n",
        "  intarr=np.array(intlst).reshape(*imgshape,color).astype('uint8')\n",
        "  return intarr"
      ],
      "metadata": {
        "id": "rsUqVeQXiaH4"
      },
      "execution_count": 4,
      "outputs": []
    },
    {
      "cell_type": "code",
      "source": [
        "class bitimage():\n",
        "\n",
        "  def __init__(self,imgpath,dims=(16,16),bit=2,color=1):\n",
        "    from PIL import Image\n",
        "    self.color=color\n",
        "    self.bit=bit\n",
        "    self.dims=list(dims)\n",
        "    self.img_og=Image.open(imgpath)\n",
        "    self.img_resize=self.img_og.resize(dims)\n",
        "    self.grey=grey_imgarr(np.array(self.img_resize))\n",
        "    self.img_grey=Image.fromarray(self.grey)\n",
        "    self.bitarray=imgarr2bitarray(self.grey,bit)\n",
        "    self.bitarray_color=imgarr2bitarray(np.array(self.img_resize)[:,:,:color],bit)\n",
        "    self.newimg=Image.fromarray(bitarray2imgarr(self.bitarray,imgshape=dims[::-1],bit=bit,color=1).squeeze())\n",
        "    self.newimg_color=Image.fromarray(bitarray2imgarr(self.bitarray_color,imgshape=dims[::-1],bit=bit,color=3).squeeze())\n",
        "    self.bytestring=bit_array_2_byte_str(self.bitarray)\n",
        "    self.bytestring_color=bit_array_2_byte_str(self.bitarray_color)\n",
        "\n",
        "\n"
      ],
      "metadata": {
        "id": "zaDY5mN6q_eR"
      },
      "execution_count": 5,
      "outputs": []
    },
    {
      "cell_type": "code",
      "source": [
        "!ls Colegio_Invisible/img"
      ],
      "metadata": {
        "id": "BMHGoycbRTmT",
        "colab": {
          "base_uri": "https://localhost:8080/"
        },
        "outputId": "528adee3-655d-48d7-ace5-9fd643ad9236"
      },
      "execution_count": 9,
      "outputs": [
        {
          "output_type": "stream",
          "name": "stdout",
          "text": [
            "Apollo_Slays_Python_1853.jpeg  hg_cry.jpeg\t rum_0.jpeg\n",
            "asymmetric.png\t\t       hg_drop.jpeg\t rum_1.jpeg\n",
            "bab_crop.jpeg\t\t       hg_hide.jpeg\t rum_2.jpeg\n",
            "barb_1.jpeg\t\t       hg_house.jpeg\t rum_3.jpeg\n",
            "barb_2.jpeg\t\t       hg_invite.jpeg\t rum_4.jpeg\n",
            "barb_3.jpeg\t\t       hg_rough.png\t rum_5.jpeg\n",
            "barb_4.jpeg\t\t       hg_xmas.jpeg\t rum_6.jpeg\n",
            "barb_5.jpeg\t\t       mask.png\t\t rum_7.jpeg\n",
            "barb_6.jpeg\t\t       peter2.png\t rump_final.jpeg\n",
            "barb_7.jpeg\t\t       peter3.png\t signature.png\n",
            "cat.png\t\t\t       peter4.png\t stego.png\n",
            "chris.png\t\t       peter.png\t symmetric.png\n",
            "clavis.jpeg\t\t       prv_pub_addr.png  zomnd.png\n",
            "colegio_invisible.jpeg\t       PubKeyToAddr.png\n"
          ]
        }
      ]
    },
    {
      "cell_type": "markdown",
      "source": [
        "# Transform Image and Create Byte Encoding "
      ],
      "metadata": {
        "id": "2XqOjTOpAFSm"
      }
    },
    {
      "cell_type": "code",
      "source": [
        "length=144\n",
        "width=144\n",
        "bit_num=5\n",
        "\n",
        "\n",
        "bimg=bitimage('Colegio_Invisible/img/peter4.png',dims=(length,width),bit=bit_num,color=3)\n",
        "display(bimg.newimg)\n",
        "display(bimg.img_grey)\n",
        "display(bimg.newimg_color)\n",
        "display(bimg.img_resize)\n",
        "len(bimg.bytestring)/80,len(bimg.bytestring_color)/80"
      ],
      "metadata": {
        "colab": {
          "base_uri": "https://localhost:8080/",
          "height": 611
        },
        "id": "JNi4bF6sH_Gd",
        "outputId": "dc53a727-2abb-4567-b9ce-4837f5fcdb14"
      },
      "execution_count": 217,
      "outputs": [
        {
          "output_type": "display_data",
          "data": {
            "text/plain": [
              "<PIL.Image.Image image mode=L size=144x144 at 0x7F6D744A5490>"
            ],
            "image/png": "[encoded data removed]"
          },
          "metadata": {}
        },
        {
          "output_type": "display_data",
          "data": {
            "text/plain": [
              "<PIL.Image.Image image mode=L size=144x144 at 0x7F6D74457710>"
            ],
            "image/png": "[encoded data removed]"
          },
          "metadata": {}
        },
        {
          "output_type": "display_data",
          "data": {
            "text/plain": [
              "<PIL.Image.Image image mode=RGB size=144x144 at 0x7F6D744576D0>"
            ],
            "image/png": "[encoded data removed]"
          },
          "metadata": {}
        },
        {
          "output_type": "display_data",
          "data": {
            "text/plain": [
              "<PIL.Image.Image image mode=RGBA size=144x144 at 0x7F6D74457CD0>"
            ],
            "image/png": "[encoded data removed]"
          },
          "metadata": {}
        },
        {
          "output_type": "execute_result",
          "data": {
            "text/plain": [
              "(162.0, 486.0)"
            ]
          },
          "metadata": {},
          "execution_count": 217
        }
      ]
    },
    {
      "cell_type": "markdown",
      "source": [
        "# Create Embedding for Blockchain"
      ],
      "metadata": {
        "id": "XUPKMXFM_-QB"
      }
    },
    {
      "cell_type": "code",
      "source": [
        "length"
      ],
      "metadata": {
        "colab": {
          "base_uri": "https://localhost:8080/"
        },
        "id": "hveHLetVd8of",
        "outputId": "448cfeec-f669-4479-fe85-09343131ae5b"
      },
      "execution_count": 21,
      "outputs": [
        {
          "output_type": "execute_result",
          "data": {
            "text/plain": [
              "128"
            ]
          },
          "metadata": {},
          "execution_count": 21
        }
      ]
    },
    {
      "cell_type": "code",
      "source": [
        "depth=4 #depth of transaction chain\n",
        "\n",
        "import hashlib \n",
        "\n",
        "message=bimg.bytestring_color\n",
        "H=hashlib.sha256(message)\n",
        "\n",
        "n=6*80\n",
        "chunks = [message[i:i+n] for i in range(0, len(message), n)]\n",
        "\n",
        "print(len(chunks))\n",
        "print(len(chunks[-1]))\n",
        "\n",
        "print(H.digest())"
      ],
      "metadata": {
        "id": "clOFe3jmD8Iq",
        "colab": {
          "base_uri": "https://localhost:8080/"
        },
        "outputId": "773bb86f-6dbc-4874-987e-af13b7236f7d"
      },
      "execution_count": 220,
      "outputs": [
        {
          "output_type": "stream",
          "name": "stdout",
          "text": [
            "81\n",
            "480\n",
            "b'!\\xb5\\xe3Hx\\xfc.5p\\x8d\\xc1\\x80-\\xa8\\xfc\\xf2\\x9a\\x03\\x9a4\\xce=\\x8a\\xfd&\\xc9\\x99\\x90\\x12\\xdc\\x8a\\xcf'\n"
          ]
        }
      ]
    },
    {
      "cell_type": "code",
      "source": [
        "length_bytes=length.to_bytes(2,'big')\n",
        "width_bytes=width.to_bytes(2,'big')\n",
        "bitnum_bytes=bit_num.to_bytes(1,'big')\n",
        "print(length_bytes)\n",
        "print(width_bytes)\n",
        "print(bitnum_bytes)"
      ],
      "metadata": {
        "colab": {
          "base_uri": "https://localhost:8080/"
        },
        "id": "UI1fkdjRcr9v",
        "outputId": "0cba3cce-9164-4eb5-c8d5-2f7f4bb1a159"
      },
      "execution_count": 221,
      "outputs": [
        {
          "output_type": "stream",
          "name": "stdout",
          "text": [
            "b'\\x00\\x90'\n",
            "b'\\x00\\x90'\n",
            "b'\\x05'\n"
          ]
        }
      ]
    },
    {
      "cell_type": "code",
      "source": [
        "header=b'\\xc1\\xdd\\x00\\x01\\x03\\xff\\x01'+length_bytes+width_bytes+bitnum_bytes\n",
        "text='|Sun Face|'.encode() \n",
        "print(len(header))\n",
        "print(len(text))\n",
        "header+text"
      ],
      "metadata": {
        "id": "3rv-SKod-DXx",
        "colab": {
          "base_uri": "https://localhost:8080/"
        },
        "outputId": "d4c2a42b-91b2-4e44-8e1d-0a389b956be4"
      },
      "execution_count": 222,
      "outputs": [
        {
          "output_type": "stream",
          "name": "stdout",
          "text": [
            "12\n",
            "10\n"
          ]
        },
        {
          "output_type": "execute_result",
          "data": {
            "text/plain": [
              "b'\\xc1\\xdd\\x00\\x01\\x03\\xff\\x01\\x00\\x90\\x00\\x90\\x05|Sun Face|'"
            ]
          },
          "metadata": {},
          "execution_count": 222
        }
      ]
    },
    {
      "cell_type": "code",
      "source": [
        "package=[header+text]+chunks\n",
        "package"
      ],
      "metadata": {
        "id": "yXA37A0yLCJB",
        "colab": {
          "base_uri": "https://localhost:8080/"
        },
        "outputId": "4a505008-e545-44c9-b72c-11ead2024506"
      },
      "execution_count": 223,
      "outputs": [
        {
          "output_type": "execute_result",
          "data": {
            "text/plain": [
              "[b'\\xc1\\xdd\\x00\\x01\\x03\\xff\\x01\\x00\\x90\\x00\\x90\\x05|Sun Face|',\n",
              " b'\\x18\\xc61\\x8cc\\x18\\xc61\\x8cc\\x18\\xc61\\x8cc\\x18\\xc61\\x8cc\\x18\\xc61\\x8cc\\x18\\xc61\\x8cc\\x18\\xc61\\x8cc\\x18\\xc61\\x8cc\\x18\\xc61\\x8cc\\x18\\xc61\\x8cc\\x18\\xc61\\x8cc\\x18\\xc61\\x8cc\\x18\\xc61\\x8cc\\x18\\xc61\\x8cc\\x18\\xc61\\x8cc\\x18\\xc61\\x8cc\\x18\\xc61\\x8cc\\x18\\xc61\\x8cc\\x18\\xc61\\x8cc\\x18\\xc61\\x8cc\\x18\\xc61\\x8cc\\x19\\x062\\x0cc\\x18\\xc61\\x8cc\\x18\\xc61\\x8cc\\x18\\xc61\\x8cc\\x19\\x081\\x90d \\xc6A\\x90\\x83!\\x082\\x0c\\x84\\x18\\xc81\\x8cc\\x18\\xc61\\x8cc!\\x062\\x0cc\\x18\\xc81\\x8cc \\xc6A\\x8c\\x83!\\x06B\\x0c\\x84\\x19\\x081\\x90c \\xc8A\\x90\\x84!\\x062\\x0cd\\x19\\x082\\x10c\\x18\\xc61\\x8cc\\x18\\xc61\\x8cd\\x18\\xc61\\x90d \\xc8A\\x8c\\x83\\x19\\x061\\x8cc\\x18\\xc61\\x8cc\\x18\\xc61\\x8cc\\x18\\xc61\\x8cc\\x18\\xc61\\x8cc\\x18\\xc61\\x8cc\\x18\\xc61\\x8cc\\x18\\xc61\\x8cc\\x18\\xc61\\x8cb\\x18\\xc61\\x88c\\x18\\xc61\\x0cc\\x18\\xc61\\x88c\\x18\\xc61\\x8cc\\x18\\xc61\\x8cc\\x18\\xc61\\x8cc\\x18\\xc61\\x8cc\\x18\\xc61\\x8cc\\x18\\xc61\\x8cc\\x18\\xc61\\x8cc\\x18\\xc61\\x8cc\\x18\\xc61\\x8cc\\x18\\xc61\\x8cc\\x18\\xc61\\x8cb\\x10\\x861\\x8cc\\x18\\xc61\\x8cc\\x18\\xc61\\x8cc\\x18\\xc61\\x8cc\\x18\\xc61\\x8cc\\x18\\xc61\\x8cc\\x18\\xc8A\\x8cc\\x18\\xc61\\x8cc\\x18\\xc61\\x8cc\\x18\\xc61\\x8cc\\x18\\xc61\\x8cc\\x18\\xc61\\x8cc\\x18\\xc61\\x8cc\\x18\\xc61\\x8cc\\x18\\xc81\\x8cc\\x18\\xc61\\x8cc!\\x06B\\x0c\\x84\\x19\\x081\\x8cc\\x18\\xc61\\x8cc\\x18\\xc61\\x8cd\\x18\\xc81\\x8cd \\xc6A\\x8c\\x83\\x19\\x06B\\x0cd\\x19\\x082\\x10d \\xc8A\\x90\\x83!\\x06B\\x0cd\\x19\\x082\\x10c \\xc6A\\x8c\\x83\\x18\\xc62\\x0cd\\x18\\xc62\\x10\\x84 \\xc61\\x8cc',\n",
              " b'\\x18\\xc61\\x8cc\\x18\\xc61\\x8cc\\x18\\xc61\\x8cc\\x18\\xc61\\x8cc\\x18\\xc61\\x8cc\\x18\\xc61\\x8cc\\x18\\xc61\\x8cc\\x18\\xc61\\x8cc\\x18\\x861\\x8cc\\x18\\xc61\\x88C\\x10\\x86!\\x0cc\\x18\\xc61\\x8cc\\x18\\xc61\\x8cc\\x18\\xc61\\x8cc\\x18\\xc61\\x8cc\\x18\\xc61\\x8cc\\x18\\xc61\\x8cc\\x18\\xc61\\x8cc\\x18\\xc61\\x8cc\\x18\\xc61\\x8cc\\x18\\xc61\\x8cc\\x18\\xc61\\x8cC\\x18\\xc61\\x8cc\\x18\\xc61\\x8cc\\x18\\xc61\\x8cc\\x18\\x86!\\x0cC\\x18\\xc61\\x8cc\\x18\\xc61\\x8cc\\x18\\xc61\\x8cc\\x18\\xc61\\x8cc\\x18\\xc61\\x8cc\\x18\\xc61\\x8cc\\x18\\xc81\\x8c\\x83\\x18\\xc61\\x8cc\\x18\\xc61\\x8cc\\x18\\xc61\\x8cc\\x18\\xc61\\x8cc\\x18\\xc61\\x90c\\x18\\xc61\\x8c\\x83!\\x06B\\x0c\\x84\\x18\\xc61\\x8cc \\xc61\\x8cc\\x18\\xc6B\\x0cd\\x18\\xc81\\x90d \\xc61\\x90\\x83\\x19\\x062\\x0cd\\x18\\xc82\\x10d \\xc8A\\x8c\\x83!\\x06B\\x0cd\\x18\\xc82\\x10d \\xc8A\\x90\\x83\\x19\\x062\\x0cd\\x18\\xc82\\x10c\\x18\\xc61\\x8cc\\x18\\xc61\\x8cc\\x18\\xc61\\x90c \\xc61\\x8cc\\x18\\xc61\\x8cc\\x18\\xc61\\x8cc\\x18\\xc61\\x8cc\\x18\\xc61\\x8cc\\x18\\xc6!\\x8cc\\x18\\xc61\\x8cc\\x18\\xc61\\x88C\\x18\\x861\\x0cb\\x18\\x861\\x8cc\\x18\\xc61\\x8cc\\x18\\xc61\\x8cc\\x18\\xc61\\x8cc\\x18\\xc61\\x8cc\\x18\\xc61\\x8cc\\x18\\xc61\\x8cc\\x18\\xc61\\x8cc\\x18\\xc61\\x8cc\\x18\\xc61\\x8cc\\x18\\xc61\\x8cC\\x18\\x861\\x0cC\\x18\\xc61\\x8cb\\x18\\xc61\\x8cB\\x10\\xc61\\x8cc\\x18\\xc61\\x8cb\\x18\\xc61\\x88c\\x10\\xc61\\x8cc\\x18\\xc61\\x8cc\\x18\\xc61\\x8cc\\x18\\xc61\\x8cc\\x18\\xc61\\x90\\x83\\x18\\xc61\\x8cc\\x18\\xc61\\x8cc\\x18\\xc61\\x8cc!\\x061\\x8cc\\x18\\xc61\\x8cc\\x18\\xc61\\x8cc\\x18\\xc6B\\x0cd\\x18\\xc61\\x90c \\xc61\\x90\\x83',\n",
              " b'\\x19\\x061\\x8cd\\x18\\xc81\\x90c \\xc61\\x90\\x83\\x19\\x062\\x0cd\\x18\\xc61\\x90c \\xc8B\\x10\\x83!\\x06B\\x0c\\x84\\x18\\xc82\\x10d \\xc8A\\x90\\x83\\x19\\x062\\x0cd\\x19\\x082\\x10d \\xc61\\x8cc\\x18\\xc61\\x8cc\\x18\\xc61\\x8cc\\x18\\xc61\\x8cc\\x18\\xc61\\x8cc\\x18\\xc61\\x8cc\\x18\\xc61\\x8cc\\x18\\xc61\\x88c\\x18\\xc61\\x8cC\\x18\\xc61\\x8cc\\x18\\xc4!\\x8cC\\x10\\x861\\x0cb\\x18\\x861\\x08b\\x18\\xc61\\x8cc\\x18\\xc61\\x8cc\\x18\\xc61\\x8cc\\x18\\xc61\\x8cc\\x18\\xc61\\x8cc\\x18\\xc61\\x8cc\\x18\\xc61\\x8cc\\x18\\xc61\\x8cc\\x18\\xc61\\x8cc\\x18\\xc61\\x8cC\\x10\\x861\\x0cB\\x10\\x841\\x0cc\\x10\\x84!\\x08c\\x18\\xc61\\x8cc\\x18\\xc61\\x8cc\\x18\\xc61\\x8cc\\x18\\xc61\\x8cd \\xc61\\x8cc!\\x061\\x8c\\x84\\x18\\xc61\\x8cc\\x18\\xc61\\x8cc!\\x061\\x8cc\\x18\\xc61\\x8cc\\x18\\xc61\\x8cc!\\x061\\x8cc\\x18\\xc62\\x10\\x84 \\xc61\\x8cc\\x18\\xc61\\x8cc\\x18\\xc61\\x8cc \\xc8A\\x90\\x83!\\x062\\x0cd\\x18\\xc61\\x8cc\\x18\\xc6A\\x90\\x83\\x18\\xc62\\x0cc\\x18\\xc62\\x10d \\xc8A\\x90\\x83!\\x06B\\x0c\\x84\\x19\\x082\\x10d \\xc8A\\x90\\x83!\\x061\\x8cd\\x18\\xc81\\x90c\\x18\\xc61\\x8cc\\x18\\xc61\\x8cd\\x18\\xc61\\x8cc\\x18\\xc61\\x8cc\\x18\\xc61\\x8cc\\x18\\xc61\\x8cc\\x18\\xc61\\x8cc\\x18\\xc61\\x8cc\\x18\\xc61\\x8cc\\x18\\xc61\\x8cc\\x18\\xc41\\x88c\\x10\\xc6!\\x0cb\\x18\\x861\\x8cc\\x18\\xc61\\x8cc\\x18\\xc61\\x8cc\\x18\\xc61\\x8cc\\x18\\xc61\\x8cc\\x18\\xc61\\x8cc\\x18\\xc61\\x8cc\\x18\\xc61\\x8cc\\x18\\xc61\\x8cc\\x18\\xc61\\x88c\\x10\\xc4!\\x08c\\x10\\x861\\x08B\\x18\\xc4!\\x08b\\x10\\xc61\\x8cc\\x18\\xc6!\\x8cC\\x18\\x861\\x8cc\\x18\\xc61\\x8cc\\x19\\x082\\x10d \\xc8A\\x90\\x83',\n",
              " b'!\\x06R\\x90\\xa6)\\x082\\x10d \\xc61\\x8cc\\x18\\xc61\\x8cc\\x18\\xc61\\x8cc\\x18\\xc61\\x8cc\\x18\\xc61\\x8cd\\x19\\x082\\x94\\x861HA\\x8cc!\\x061\\x8cc\\x18\\xc61\\x8cc\\x18\\xc61\\x8cc!\\x061\\x8cc\\x18\\xc61\\x8cc\\x18\\xc6A\\x8cc\\x18\\xc61\\x8cc\\x18\\xc82\\x10d \\xc6A\\x90\\x83!\\x061\\x8cc\\x19\\x081\\x8cd \\xc8A\\x8c\\x83!\\x061\\x8cc\\x18\\xc61\\x8cc\\x18\\xc61\\x8cc\\x18\\xc61\\x8cc\\x18\\xc61\\x8cc\\x18\\xc61\\x8cc\\x18\\xc61\\x8cc\\x18\\xc61\\x8cc \\xc61\\x8cc\\x18\\xc61\\x8cc\\x18\\xc61\\x8cc\\x18\\xc61\\x8cc\\x18\\xc6!\\x88c\\x10\\xc6!\\x0cB\\x18\\x841\\x08c\\x18\\xc6!\\x8cC\\x18\\xc61\\x8cc\\x18\\xc61\\x8cc\\x18\\xc61\\x8cc\\x18\\xc61\\x8cb\\x18\\xc61\\x8cc\\x10\\xc61\\x8cc\\x18\\xc61\\x8cc\\x18\\xc61\\x8cc\\x10\\xc4!\\x08B\\x10\\x84!\\x08C\\x18\\x861\\x8cb\\x18\\xc61\\x8cc\\x18\\xc62\\x10d!\\x08A\\x8cc\\x18\\xc62\\x0cc\\x19\\x08C\\x9c\\xc8A\\xce\\x83\\x18\\xc51\\x8as\\x98\\xc6)JB\\x94\\x84)\\x08A\\x8cc\\x18\\xc61\\x8cc\\x18\\xc82\\x10c\\x18\\xc6A\\x90\\x83\\x18\\xc62\\x0c\\x84\\x19\\x082\\x10g9\\x90\\x83\\x94\\xa5!\\x061\\x88c\\x19\\x081\\x8cC\\x18\\xc61\\x8cc\\x19\\x061\\x8cc\\x19\\x081\\x8cc\\x18\\xc61\\x8cc\\x18\\xc6B\\x0c\\x84\\x19\\x082\\x10c \\xc61\\x8cc\\x18\\xc61\\x8c\\x84\\x18\\xc61\\x8cd \\xc6A\\x8cc\\x19\\x062\\x0c\\x84\\x18\\xc61\\x90c\\x18\\xc61\\x8cc\\x18\\xc61\\x8cc\\x18\\xc61\\x8cc\\x18\\xc61\\x8cc\\x18\\xc61\\x8cc\\x18\\xc61\\x8cd!\\x061\\x8cc\\x18\\xc61\\x8cc\\x18\\xc61\\x8cC\\x18\\x861\\x0cc\\x10\\xc6!\\x88c\\x10\\xc61\\x0cb\\x18\\x841\\x0cb\\x10\\x84!\\x8cc\\x18\\x841\\x8cc\\x18\\xc61\\x8cc\\x18\\xc61\\x8cc\\x18\\xc61\\x0cC\\x18\\xc61\\x8cc',\n",
              " b'\\x10\\xc61\\x8cC\\x18\\x86!\\x0cc\\x18\\xc61\\x8cc\\x10\\xc4!\\x08B\\x10\\x86!\\x8cC\\x18\\xc61\\x0cb\\x18\\xc61\\x88c\\x10\\xc61\\x8cd \\xc8A\\x94\\xa4)\\x8ac\\x98\\xa5)\\x08C\\x9c\\xaaR\\x14\\xb4)HB\\x0c\\x84\\x19\\x08:\\x10t \\xc79\\x8cb\\x94\\xa4\\x19\\x061\\x8cc\\x18\\xc62\\x10\\x84 \\xc61\\x90\\x84!\\x06B\\x0c\\x84!\\x082\\x10e)\\x10\\x83\\xa1()\\x8aB\\x90\\x84\\x18\\xc81\\x8cc\\x18\\xc61\\x8cc\\x18\\xc61\\x8cc\\x19\\x081\\x8cc\\x18\\xc61\\x8cc\\x18\\xc6B\\x0c\\x84\\x19\\x082\\x10c\\x18\\xc61\\x8cc\\x18\\xc62\\x0cd\\x18\\xc61\\x8cc \\xc61\\x8c\\x83\\x19\\x062\\x0cd\\x19\\x08B\\x10d \\xc61\\x8cc\\x18\\xc61\\x8cc\\x18\\xc61\\x8cc\\x18\\xc61\\x8cc\\x18\\xc61\\x8cc\\x18\\xc61\\x8cc\\x18\\xc61\\x8cc\\x18\\xc61\\x8cc\\x18\\xc61\\x8cb\\x18\\x861\\x08b\\x18\\xc61\\x8cc\\x10\\xc61\\x0cc\\x18\\xc61\\x8cc\\x10\\xc4!\\x0cB\\x18\\x841\\x08c\\x18\\xc61\\x88c\\x18\\xc6!\\x8cC\\x18\\xc61\\x8cc\\x18\\xc61\\x88B\\x10\\xc4!\\x88C\\x18\\x84!\\x0cC\\x18\\xc41\\x88B\\x10\\x84!\\x08B\\x10\\x84!\\x08B\\x10\\x861\\x8cc\\x18\\xc61\\x8c\\x84\\x19\\x082\\x10d \\xc8A\\x90\\x83)Ht\\x19kR\\x94\\x83\\x18\\xa5)\\x12\\xa3\\xb5\\xcb|\\x18\\xb5\\xa5\\x082\\x10d \\xc9I\\xd4\\xa4)H9\\xccR\\x90\\x84\\x18\\xc62\\x10d \\xcaR\\x10\\x83!\\x06B\\x0c\\x84!\\nB\\x98\\x869N\\x83-iJ\\x90t\\x18\\xa6)\\nB\\x10c \\xc61\\x8cc\\x18\\xc61\\x8cc\\x18\\xc62\\x10c\\x18\\xc61\\x8cc\\x18\\xc6B\\x0cd\\x18\\xc81\\x90d \\xc61\\x8cc\\x18\\xc62\\x0c\\x84\\x18\\xc61\\x8cc\\x18\\xc8A\\x90\\x83\\x18\\xc61\\x88\\x85!LQ\\x8cc\\x18\\xc61\\x8cc\\x18\\xc61\\x8cc\\x18\\xc61\\x8cc\\x18\\xc61\\x8cc\\x18\\xc61\\x8cc\\x18\\xc61\\x8cc\\x18\\xc61\\x8cc',\n",
              " b\"\\x18\\xc61\\x8cc\\x18\\xc61\\x8cC\\x18\\xc61\\x08b\\x10\\xc41\\x88C\\x10\\x86!\\x8cC\\x18\\xc41\\x08b\\x10\\x84!\\x08c\\x18\\xc61\\x8cb\\x18\\x861\\x8cc\\x18\\xc6!\\x8cc\\x18\\x861\\x08B\\x10\\x841\\x08b\\x10\\xc6!\\x08B\\x10\\x84!\\x08B\\x10\\x861\\x88B\\x10\\x84!\\x08B\\x10\\xc6!\\x8cC\\x18\\xc61\\x8cc\\x18\\xc61\\x8c\\x84\\x19\\x082\\x10e)\\x0cb\\x98\\xc5)\\x88R\\x90\\xe72\\x96\\x965kb\\x8cr\\x98\\xe5c\\x12\\xf7\\xb1\\x8cJ\\x94\\x85(\\xeaQ\\xd8\\xc4\\xb1\\x88Z\\xd2\\x95 \\xc6)JB\\x10d \\xcaR\\x18\\xc5)HR\\x90\\x85!JC\\x1c\\xa8A\\x90\\x83)H[\\x14\\xb5\\xa4\\xe89\\x8eb\\x10d!\\x061\\x8cc\\x18\\xc61\\x8cc\\x19\\x061\\x8cc\\x18\\xc61\\x8cc\\x18\\xc6B\\x0c\\x84\\x18\\xc61\\x90c \\xc61\\x8cc\\x18\\xc6B\\x0cd\\x18\\xc61\\x8cc\\x18\\xc61\\x90\\x83\\x18\\xc6B\\x0c\\xe8A\\nA\\x8cc\\x18\\xc61\\x8cc\\x18\\xc61\\x8cc\\x18\\xc61\\x8cc\\x18\\xc61\\x8cc\\x18\\xc61\\x8c\\x84\\x18\\xc61\\x8cc\\x18\\xc61\\x8cc\\x18\\xc61\\x8cc\\x10\\xc6!\\x8cc\\x18\\x841\\x08b\\x10\\xc41\\x88C\\x10\\x86!\\x08B\\x10\\x84!\\x08b\\x10\\x841\\x88c\\x18\\xc61\\x8cc\\x18\\xc4!\\x08b\\x18\\xc6!\\x88C\\x18\\x84!\\x08B\\x18\\x841\\x08b\\x10\\x84!\\x8cB\\x10\\x84!\\x08B\\x10\\x84!\\x08B\\x10\\x84!\\x08B\\x10\\x84!\\x88C\\x18\\x861\\x0cc\\x18\\xc61\\x8c\\x83\\x19\\x082\\x10d \\xcaR\\x18\\xa41\\x8as\\x95\\x082Rt\\xa8\\xef\\x83#')\\x89:\\x0c\\x84\\x19\\xadS\\xde\\xb7\\xbdnr\\x98\\xc4\\xb1ic\\x12\\xc6%KBRs\\x9c\\xc5)\\nb\\x18\\xc59\\xcc\\x94\\x9c\\xe81\\x8eS\\x9c\\xc9I\\xd4\\xb4%G[T\\xd7\\xad\\x8dR\\x96\\x92\\x98\\x84)\\x08B\\x0cc\\x18\\xc61\\x8cc\\x19\\x082\\x0cc\\x18\\xc8A\\x90\\x83!\\x06B\\x0c\\x84\\x18\\xc62\\x10c \\xc6A\\x8cc\",\n",
              " b\"\\x18\\xc61\\x8cc\\x18\\xc61\\x90c\\x18\\xc61\\x8cc\\x19\\x06\\xa5\\xa9LY\\nA\\x8cc\\x18\\xc61\\x8cc\\x18\\xc61\\x8cc\\x18\\xc61\\x8cc\\x18\\xc61\\x8cc\\x18\\xc61\\x8cc\\x18\\xc61\\x8cc\\x18\\xc61\\x8cc\\x18\\xc61\\x8cc\\x18\\xc61\\x8cC\\x18\\x841\\x08b\\x10\\xc41\\x88B\\x10\\x84!\\x0cB\\x10\\x84!\\x08b\\x18\\xc6!\\x88C\\x18\\x861\\x8cb\\x10\\x84!\\x08b\\x10\\xc4!\\x88C\\x10\\x84!\\x0cB\\x10\\x841\\x08B\\x10\\x84!\\x08B\\x10\\x84!\\x08B\\x10\\x84!\\x08B\\x10\\x84!\\x08c\\x10\\xc4!\\x8cc\\x18\\xc61\\x8cb \\xc6B\\x0c\\x84\\x19\\x082\\x10e)\\nR\\x14\\xa4)H\\x84\\x19):\\x96\\x85\\xad+b\\\\\\xf5\\xca\\x8f\\x84\\x9c\\xa5\\xa5);\\x9c\\xaa\\xd1\\xf6\\xb4'7=\\xeckT\\xd6\\xa9\\xadS\\x18\\x965IJ\\x0e\\x83\\x1c\\xe5B\\x0c\\xd6\\xa9\\xceb\\x94\\x94\\xa4\\xe9Q\\xd8\\xc4\\xad\\x89[\\x12\\xe82\\x11k\\x9e\\xc4 \\xc4 \\xcaR\\x0c\\x83!\\x06B\\x0c\\x84\\x19\\x082\\x10c\\x18\\x88A\\x94\\x84)\\x08B\\x0cc\\x18\\xc61\\x90c \\xc61\\x8c\\x83\\x18\\xc61\\x8cc\\x19\\x082\\x10c\\x18\\xc6A\\x90\\x83R\\xd3\\x19\\xc5\\nI\\nB\\x10c\\x18\\xc61\\x8cc\\x18\\xc61\\x8cc\\x18\\xc62\\x10d \\xc8B\\x0cc\\x18\\xc61\\x8cc\\x18\\xc61\\x8cc\\x18\\xc61\\x8cc\\x18\\xc61\\x8cc\\x18\\xc61\\x8cC\\x18\\x861\\x8cb\\x18\\xc4!\\x88C\\x10\\x86!\\x0cb\\x18\\x84!\\x08b\\x10\\xc6!\\x08B\\x10\\x86!\\x08B\\x10\\x84!\\x08b\\x10\\x84!\\x08B\\x10\\x84!\\x0cC\\x18\\xc4!\\x08B\\x10\\x84!\\x08B\\x10\\x84!\\x08B\\x10\\x84!\\x08B\\x10\\x84!\\x08c\\x18\\xc61\\x8cc\\x18\\xc61\\x90c!\\x06B\\x0cc\\x10\\xc61\\x8cd!\\x0cb\\x98\\xc5)Hc\\x11)3\\x18\\x97=mj\\x9a\\xd5>\\x0c\\x95\\x1fKF1s\\x9c\\xa8=u\\xab\\xafxc1\\xb5\\xa1\\x08\\xb5\\xce[\\x9c\\xb79mr\\xd8\\xd5\\xa5G\",\n",
              " b'R\\x8e\\xf7\\xb2s|\\xa6\\xf7\\xc1\\xaaZV\\xc4\\xb5\\xebs\\xd7\\t62s\\xe2\\xd65F1Lb\\x90\\x83!\\x06B\\x0cc\\x19\\x082\\x94\\x84 \\xc8A\\x98\\xa4)HB\\x0cc\\x19\\x081\\x8cc \\xc61\\x8cc!\\x06B\\x0c\\x84\\x19\\x082\\x10d \\xcaR%&\\x9da\\t\\xc1\\tA\\nB\\x10\\x84 \\xc61\\x8cc\\x18\\xc61\\x8c\\x84\\x19JS\\x18\\xc5)HA\\x8cc\\x18\\xc61\\x8cc\\x18\\xc61\\x8cc\\x18\\xc61\\x8cc\\x18\\xc61\\x8cc\\x18\\xc61\\x8cc\\x18\\x861\\x88c\\x10\\xc41\\x88c\\x10\\xc61\\x0cB\\x18\\x84!\\x08b\\x10\\xc4!\\x08B\\x10\\x84!\\x0cb\\x10\\x861\\x88B\\x10\\x84!\\x08C\\x10\\x84!\\x08B\\x18\\x841\\x08B\\x10\\xc6!\\x08B\\x10\\x84!\\x08B\\x10\\x84!\\x08B\\x10\\x84!\\x08b\\x10\\x84!\\x8cC\\x18\\xc4!\\x0cb\\x18\\xc6B\\x10\\xa4\\x19\\x081\\x8cc\\x18\\xc8A\\x9c\\xc5J\\x0e\\x83\\x95\\x08*\\x94f\\xb1/r\\x9e\\xe5=\\xeb\\x8cYJ>\\xd6\\x8d)\\x08\\xc5\\xb0\\x83%&_\\x10\\xd6\\xa5\\xadN\\xb5\\x8cb\\xd8A\\x8f\\x83!\\x06\\xb9\\xebkR\\xe7*\\xb6\\x865;^Q\\x93\\x9f\\x06>\\x0c\\x8c\\x9b)\\xbet\\x84d\\xe7\\xc5\\xa9I\\xccb\\x98\\xc5!\\x06R\\x90\\x84\\x19\\x084\\x1c\\xc61H1\\x18\\xc59\\x8aR\\x90\\x84\\x19JA\\x8cd \\xc8A\\x90\\x83!\\x06B\\x0c\\xa5!\\x082\\x94f1\\x12\\x93F,\\xad\\xe4\\xd7\\xb4\\xc71LR\\x94\\xa4!\\x061\\x8cc\\x18\\xc6S\\x15\\x089\\xceb\\x10\\x83\\x18\\xc61\\x8cc\\x18\\xc61\\x8cc\\x18\\xc61\\x8cc\\x18\\x861\\x8cc\\x18\\xc61\\x8cc\\x18\\xc6!\\x8cB\\x18\\x861\\x08b\\x18\\xc41\\x88c\\x10\\x86!\\x0cB\\x10\\x84!\\x08b\\x10\\x84!\\x88B\\x10\\x84!\\x08B\\x10\\x84!\\x08B\\x10\\x84!\\x08C\\x10\\x84!\\x08B\\x10\\x84!\\x08B\\x18\\xc6!\\x08B\\x10\\x84!\\x08B\\x10\\x84!\\x0cc\\x18\\xc6!\\x08B\\x10\\x84!\\x88C\\x18\\x861\\x0cB',\n",
              " b'\\x18\\x841\\x88\\xa5!\\x8cS\\x14\\x84 \\xc8A\\x94\\x839\\x8a\\xa4\\x9d\\x8bKX\\x96\\xb1\\rb\\x1e\\xe5E\\xea\\x8c\\x17I\\xba\\x95}*\\xfa\\xda4\\xa3\\xe77R\\x8e\\xbd\\xdf\\xadK\\x9c\\xae\\xb7Z\\xd61\\x8ba\\x16F-\\x8cZ\\xf7\\xaeRn1\\x1c\\xeax\\xcc\\xa9W\\xcaM\\xa5\\x1dJ\\xc2\\x95\\x84\\xe8\\xf9\\xd1\\xecj\\x90\\x93)(1Hb\\x90\\xc6!J5(\\xe9I\\xcaQ\\xa5\\x06J\\x0cs\\x94\\xe71\\x8cQ\\x8cD \\xc8A\\x90\\x83!\\x06R\\x90\\xa5!H3\\x18\\x89I\\x9e\\xe5^\\xf1\\x9db\\xa5\\xa4\\xe71\\xceb\\x94\\xa4!\\x06A\\x90\\x84JP\\xa6(\\xa6(\\xc61\\x8cc\\x18\\xc61\\x8cc\\x18\\xc61\\x8c\\x84\\x18\\xc61\\x8cc\\x18\\xc61\\x8cc\\x18\\xc61\\x8cc\\x18\\xc6!\\x8cB\\x18\\x861\\x0cb\\x18\\xc41\\x88c\\x10\\x84!\\x0cB\\x10\\x861\\x08B\\x10\\x84!\\x08B\\x10\\x84!\\x08B\\x10\\x84!\\x08B\\x10\\x84!\\x08B\\x10\\x84!\\x08B\\x10\\x84!\\x08B\\x10\\x84!\\x08B\\x10\\x84!\\x08B\\x10\\x84!\\x08B\\x10\\x84!\\x08B\\x10\\x84!\\x88C\\x10\\x861\\x0cc \\xc61\\x8c\\x84\\x19\\x8aC\\x18\\xa6)JR\\x14\\xa4)\\x06\\x94\\x19\\x8bC\\x9a\\xa8=or\\xa2\\xf5\\xd2\\x0c\\xa4\\x9bI\\xb6\\xb4u*\\xfaQ\\xf4\\xa3\\xebXV\\xd0\\xad_{\\xc3{\\x9f{^v\\xd9\\xcd)XF-\\x9c\\x9b9\\xbaRe(\\xec\\xe6;\\xdc\\xf3\\x98\\xd6\\xae\\xad\\x1d[B\\xb7\\x8d+\\n\\xda/\\x83\\x16\\xb4)H9\\x8ac\\x10\\xe7*\\x10V\\xb5+Z\\x10r\\xb1\\x88Z\\x8e\\x94\\x99\\x8cJ\\x0eb\\x0ce \\xcaQ\\x90\\x831\\x8as\\x98\\xc5!J4\\xa0\\xcejmWc2\\x84\\x9c\\x95!KBT\\x83\\x18\\xa5)\\x10\\x835\\xcb[\\x14t\\x18\\x85 \\xc81\\x8cc\\x18\\xc61\\x8cc\\x18\\xc61\\x8cc\\x18\\xc61\\x8cC\\x18\\xc61\\x8cc\\x18\\xc61\\x8cc\\x18\\xc6!\\x0cB\\x18\\x861\\x0cb\\x18\\xc41\\x88c\\x10\\x84!\\x08B\\x10\\x841\\x08b',\n",
              " b'\\x10\\x841\\x8cB\\x10\\x84!\\x08B\\x10\\x84!\\x08B\\x10\\x84!\\x08B\\x10\\x84!\\x08B\\x10\\x84!\\x08B\\x10\\x84!\\x08B\\x10\\x84!\\x8cc\\x18\\x84!\\x08B\\x10\\x84!\\x08B\\x10\\x84!\\x8cC\\x18\\x861\\x8cb\\x18\\xc6B\\x0c\\x84\\x19\\x082\\x10e \\xccR\\x9c\\xc59\\x8as\\x15I3\\x98\\x98\\xb9qr\\xa7\\x05\\xd6M\\xac\\xddZ6\\xb4uj\\xfa\\xda\\x15\\xab\\xe9G\\xd2\\x8f\\x9c\\xddZ\\xbf\\x17\\x86\\xf5>r\\xbc\\xed\\xb5\\xaa\\xd6\\xb0\\x9c\\xdb9\\xb6\\x94t\\xe6\\xdbU\\xda\\xd4w\\xc9c\\x10\\xad]{\\xc3\\x18\\x95m\\x1a\\xda2\\x93\\x9a\\xd4\\xadhB\\x0cc\\x11\\x07+X\\x88=nr\\x96\\xa3\\xbd\\xeakR\\xc6&0jRt\\x1c\\xc71Nb\\x1c\\xc4R\\x90\\xa5\\xa0\\xe71\\xccV\\xad\\x13\\x8a\\xb3\\x88_2|Z\\xc6\\xa9\\xcfZTt\\xa4\\xecbc\\x16\\xba\\x0cJ\\x90\\x95\\xa4\\xa60\\xc8A\\x8cc\\x18\\xc61\\x8cc\\x18\\xc61\\x8cc\\x18\\xc61\\x8cc\\x18\\xc61\\x8cb\\x18\\xc41\\x8cc\\x18\\xc6!\\x0cC\\x18\\x861\\x8cc\\x18\\xc41\\x88C\\x10\\x86!\\x0cB\\x18\\x841\\x08b\\x10\\x84!\\x08C\\x18\\x84!\\x08B\\x10\\x84!\\x08B\\x10\\x84!\\x08B\\x10\\x84!\\x08B\\x10\\x84!\\x08B\\x10\\x84!\\x08B\\x10\\x84!\\x88C\\x18\\xc4!\\x08B\\x10\\x84!\\x08B\\x10\\x84!\\x08C\\x18\\xc61\\x8cc\\x18\\xc4A\\x8c\\x83\\x19\\x082\\x10d \\xcaA\\x94\\xa4A\\xca\\x94\\x19(*\\xd4w\\xb1\\x12r\\xa9\\x16RM\\xac\\xdbz\\xbe\\xf5}j\\xfbZ\\x18\\xc4\\xaf\\x89V\\xd1\\x9c\\xdd(\\xb6sm\\xed\\rj{\\xe5w\\xca\\xdf\\x12\\xada9\\xba\\x94uh\\xea\\xd5\\xd7\\xb3\\xf5\\xa8\\xebR\\xb5\\x9f{\\xbf9\\x95m\\x1b^S\\xa3\\xdc\\xe55\\xaaZ\\xd0\\x83\\x95(,\\x1e\\xb9I\\xb0\\x83\\x1a\\xd4\\xcaL\\x83\\xd4\\xe6\\xaaQj\\x92v-\\x0bQ\\xd4\\x93\\xb1h\\x83\\xd7\\x081kJ\\xd2x57\\xa3s\\x88\\xda\\xf0\\x95\\x1f\\x08\\xb5\\xaeS\\x1a\\x97\\xc1\\x93\\xa3\\xe3&\\xba\\x0c',\n",
              " b'c\\x98t\\x1c\\x84!\\x08A\\x90\\x84!\\x06A\\x8cc\\x18\\xc61\\x8cc\\x18\\xc61\\x8cc\\x18\\xc61\\x8cc\\x18\\xc61\\x8cc\\x18\\xc61\\x8cb\\x18\\x861\\x0cc\\x18\\xc6!\\x88C\\x10\\x86!\\x0cB\\x10\\x84!\\x08b\\x10\\x84!\\x08B\\x10\\x84!\\x08B\\x10\\x84!\\x08B\\x10\\x84!\\x08B\\x10\\x84!\\x08B\\x10\\x84!\\x08B\\x10\\x84!\\x08B\\x10\\xc61\\x8cc\\x18\\xc61\\x0cc\\x18\\xc6!\\x08B\\x10\\xc4!\\x08B\\x10\\x86!\\x0cb\\x18\\xc41\\x8c\\x83\\x19\\x082\\x90d \\xc8A\\x90\\x831H\\x83\\x95I:\\x92g\\xb1\\x12r\\xa7\\x05\\xce+\\x9c\\x99I6\\xd5u\\xed\\n\\xd5\\xd6\\xb41\\x99\\xdf\\x12\\xb5\\xe5Z\\xc2rt\\xa4\\xdbU\\xfa\\xd4\\xf5\\xb9\\xebS\\xc6ekB\\x94uh\\xea\\xd5\\xd8\\xbc3\\x88\\xeb2\\xbd\\xdf\\x8b\\xc39\\x95\\xad\\x1b\\xe2V\\xb4a\\x06A\\xebkT\\x83\\x95H,\\xe4\\xca\\xd5\\xf2\\x8b^\\xf5Rm\\x94\\x99(\\xb2Rj\\xd4w50r\\x9a\\xc4J,\\xa5\\x1dJ=\\xceS\\x98\\x88\\xb98\\xb3\\xb3\\x88_\\x10\\xa5\\xa0\\xf8\\xb1\\xf0\\\\\\xea\\xeb\\xe6S\\xab\\xe37BoS\\x14\\x84\\xa0\\xe9A\\x8eq\\x90\\x83!\\x06A\\x8cc\\x18\\xc61\\x8cc\\x18\\xc61\\x8cc\\x18\\xc61\\x8cc\\x18\\xc61\\x8cc\\x18\\xc61\\x8cc\\x18\\xc61\\x0cb\\x18\\xc41\\x88C\\x10\\x84!\\x08B\\x10\\x84!\\x08b\\x10\\x84!\\x08B\\x10\\x84!\\x08B\\x10\\x84!\\x08B\\x10\\x84!\\x08B\\x10\\x84!\\x08B\\x10\\x861\\x88B\\x10\\x84!\\x08B\\x10\\xc6!\\x8cc\\x10\\x84!\\x0cc\\x18\\x841\\x88B\\x10\\xc4!\\x88B\\x10\\x84!\\x0cB\\x18\\xc41\\x8c\\x84\\x19JC\\x9c\\xa89\\x8aA\\x94\\x83!\\x06R\\r(2\\xd4v\\xa8\\xf2r\\xa9\\x16RL\\xa4\\x99j:\\xf5}\\xec\\xfc^6\\xb4/x\\xe3\\x12\\xc6%\\x8cK\\x18\\x8d(\\xe9\\xcd\\xd6\\xb43\\x99g2\\xcec\\x9c\\xc7\\x17\\x85h\\xdbU\\xd8\\xbb\\xf3\\x88\\xeb1\\xce#\\x9c\\xc7[\\x9e3,b7\\xbcc\\x06=\\xea',\n",
              " b's\\x94\\x94\\x19\\x8a5\\xa8\\xdc^\\x13\\x9be\\x15\\xd6\\x8d\\xad\\x1bZ:\\x93sX\\x889S\\x93c\\x05\\xd2M\\xb5_Z\\xbe\\x0f\\\\\\x1c\\xaaEy\\xbb\\xf3\\x98c1\\xa5_)6\\xd7\\x86\\xb7K\\xe6t\\xbciy>NtZ\\xf9A+Y\\nQ\\x90\\x83!\\x06B\\x10\\x84!\\x082\\x0cc\\x18\\xc61\\x8cc\\x18\\xc61\\x8cc\\x18\\xc61\\x8cc\\x18\\xc6!\\x8cC\\x18\\x861\\x0cb\\x10\\xc4!\\x88C\\x10\\x86!\\x0cB\\x18\\x84!\\x08b\\x10\\x84!\\x08B\\x10\\x84!\\x08B\\x10\\x84!\\x08B\\x10\\x84!\\x08B\\x10\\x84!\\x08B\\x10\\x84!\\x08B\\x10\\x84!\\x08C\\x10\\x84!\\x08B\\x10\\x84!\\x08B\\x10\\x84!\\x08c\\x10\\xc6!\\x88C\\x18\\x86!\\x0cb\\x18\\xc41\\x88c\\x19\\x063\\x14\\x8bR\\x1a\\xc5)H9\\xcaR\\x0c\\xc5\\x1a\\xd2w-\\x10jg\\x05\\xd6M\\xb4\\xdbz;7\\x86q\\x1b\\xde8\\xc4\\xafh\\xda\\xd1\\xc6%\\x8cG9\\x95\\xed\\nQ\\xd5\\xab\\xf1xc\\x11\\xc5\\xe1\\xac\\xc7Y\\x95\\xec\\xfb\\xd5\\xf8\\xbc1xZ\\xaf\\xc5\\xe1\\xbdK{\\x9e\\xb5;\\xe26\\xb4%\\x16A\\xea{\\xd4\\xc5\\x1e\\x0eM\\xea\\xec\\xe25\\xa3\\xadF\\xd6\\x8d\\xb5]\\x8b>\\xb4t\\x1c\\xa9Aw\\xab\\xe9&\\xd6m\\xbd\\x9f{\\xc2rl\\xe2\\xbbM\\xba\\xc45\\xa8\\xe71\\xb5\\xe1\\x8cK\\x9c\\xae\\xf9\\\\jv\\xcd)yR\\xf2\\xa6(\\xf9\\xc0\\xe9I\\x90\\x82\\x9c\\xe51\\x8as\\x94\\xc6!\\x08B\\x14\\xa61La\\x8cc\\x18\\xc61\\x8cc\\x18\\xc61\\x8cc\\x18\\xc6!\\x8cC\\x18\\x841\\x08b\\x10\\xc4!\\x88C\\x10\\x86!\\x08B\\x10\\x84!\\x08B\\x10\\x84!\\x08B\\x10\\x84!\\x08B\\x10\\x84!\\x08B\\x10\\x84!\\x08B\\x10\\x84!\\x08B\\x10\\x84!\\x08B\\x10\\x84!\\x08B\\x10\\x84!\\x08B\\x10\\x84!\\x08B\\x10\\x841\\x08b\\x10\\xc6!\\x8cC\\x18\\xc61\\x90c \\xc6A\\x8c\\x83\\x11\\x062\\x90f(\\xd0r\\xadHsT\\xe6\\xa8\\xe7*NW-\\x0eb\\x1e\\xc4I\\xea',\n",
              " b\"\\xac\\x99z;7~\\xf5,\\xe6W\\xbcq\\x89c\\x11\\xc5\\xe3\\x8cG\\x18\\x8e/\\x0b\\xda\\x16\\xb3\\xefx^\\xd0\\xbd\\x9f\\xacCy\\x8e\\xb1\\x1cY\\xf9\\xbc1w\\xd2m\\xb5\\x1d\\xbdG{\\x96s\\x1c\\xe27\\xb4'&F\\x0b\\x83\\xd5\\x07&\\xb1^n\\xfcb\\x17\\xb3\\xf1w\\xde\\xae\\xc5\\x9f\\xacB\\xd5t\\xe2\\xca\\xcd\\x99\\xb4-6\\xda\\x8e\\xcd\\xe3\\x8b\\xc6\\xf5}\\xa6\\xdc\\xd9\\xdb\\xd4w\\xa9g1\\xd6\\xa7\\xde\\xdf\\xbd\\xbe\\xf9\\\\\\xee\\xb6\\xcc\\xef\\xaa_U\\x8db\\xe8\\xbe\\x13\\x8b\\xe5\\x16=\\xcac\\x16\\xd6\\xbe0\\x84\\xa5\\x1a\\xce6\\xa2\\x98\\xc1\\x90\\x83\\x18\\xc61\\x8cc\\x18\\xc41\\x88c\\x10\\xc6!\\x8cC\\x18\\x841\\x08b\\x10\\x84!\\x08B\\x10\\x84!\\x08B\\x10\\x84!\\x08B\\x10\\x84!\\x08B\\x10\\x84!\\x08B\\x10\\x84!\\x08B\\x10\\x84!\\x08B\\x10\\x84!\\x08B\\x10\\x84!\\x08B\\x10\\x84!\\x08B\\x10\\x84!\\x08B\\x10\\x84!\\x08B\\x10\\x84!\\x08B\\x10\\xc4!\\x8cc\\x18\\xc81\\x90\\x83!\\x06R\\x0c\\xa4\\x19\\x8aB\\x90e \\xcaA\\x98\\xa49\\x88\\xc5\\xa20c\\x9a\\xa6-\\x0fr\\x9e\\xd4\\xbd\\xa9\\x94\\x15Y6\\xf6~.\\xfdjY\\xcc\\xb1\\x88\\xe7\\x11\\xc5\\xe1\\x8cG\\x18\\x8e/\\x0c^\\x18\\xbc1hb\\xd0\\xc5\\xa1\\x9b\\xc3X~\\xf3\\x0c\\xd9\\xfa\\xbc5\\x88\\xd2L\\xac\\xdb\\xbc\\xc3\\x9b\\x96\\xb3\\x0c\\xe2\\x18\\xbb\\xe96J\\x0b\\x8b\\xd58.\\xf4n\\xb1\\rf9\\xc4u\\x88\\xe2\\xef\\xd6!\\xbdJ\\xf5ud\\xcb\\xd1\\xba\\xc41Wb\\xcf\\xce#\\xacK\\x16\\x86l\\xfdf\\x1c\\xdc\\xb7\\xb9kR\\xefm\\xde\\xe3\\x9d\\xbe\\xf9\\\\\\xee\\x98\\xd53\\xba\\xd2\\xf2t\\x9d*\\xc6\\x97\\xad/Z\\xe2\\xd7\\xcd\\xf7\\xdd\\xef\\xbc\\xdfy\\x8ej5\\x99\\x90\\x81\\x8cc\\x18\\xc61\\x8cc\\x18\\xc41\\x88c\\x10\\xc6!\\x8cB\\x18\\x841\\x08B\\x10\\x84!\\x08C\\x10\\x84!\\x08B\\x10\\x84!\\x08B\\x10\\x84!\\x08B\\x10\\x84!\\x08B\\x10\\x84!\\x08B\\x10\\x84!\\x08B\\x10\\x84!\\x08B\\x10\\x84!\\x08B\",\n",
              " b'\\x10\\x84!\\x08B\\x10\\x84!\\x08B\\x10\\x84!\\x08B\\x10\\x84!\\x08b\\x10\\xc4!\\x8cD\\x18\\xc81\\x90c)\\x06R\\x90\\xc5!\\x8aC\\x98\\xa71Nb\\x1c\\xc59\\x88r\\x91\\x07,\\xa0\\xc9\\xc9\\xd0z\\xe2\\xf5\\xc6\\x0b\\x94\\x17H\\xb2\\xd4u\\xea\\xecY\\xfb\\xd4\\xb5\\x99g\\x11\\xce#\\x9b\\xc3Y\\x96o\\x1c^\\x18\\xb4/g\\xde\\xaf\\xcd\\xe1\\x9b\\xbfW~\\xb0\\xfd]\\xfa\\xc47\\x98\\xd6\\x8d\\xa4\\x99\\xacC\\xbc\\x96\\xb3\\x1df\\x18\\xbb\\xeb6\\xce+\\x9c\\x15i35v\\xf3\\x0en|\\xdc\\xf5\\x88b\\xef\\xdec\\xcdK\\x15}\\xa6\\xccU\\xdb\\xc45w\\xe6\\xf0\\xd6!\\xacK7\\x86\\xb1\\r\\xea\\x1c\\xe4\\xf9\\xc9\\xf3t\\xefo\\xde\\xdf\\x9c\\xb6\\xf9L\\xeay\\xd4\\xef\\x89J\\x8f\\x9da\\x9d[\\\\\\xd6\\xb9\\xads\\x1b\\xe6y\\xed\\xf3\\xdc\\xd7yK\\xd5LYLa\\x90c\\x18\\xc61\\x8cb\\x18\\xc41\\x88c\\x10\\xc6!\\x0cB\\x18\\x841\\x08B\\x10\\x84!\\x08B\\x10\\x84!\\x08B\\x10\\x84!\\x08B\\x10\\x84!\\x08B\\x10\\x84!\\x08B\\x10\\x84!\\x08B\\x10\\x84!\\x08B\\x10\\x84!\\x08B\\x10\\x84!\\x08B\\x10\\x84!\\x08B\\x10\\x84!\\x08B\\x10\\x84!\\x08B\\x10\\x84!\\x08B\\x10\\xc4!\\x88C\\x18\\x881\\x90\\x83!\\x06R\\x0c\\xa5\\x19\\xccD\\x1c\\xa9A\\x94\\x93\\xa9&J\\x0c\\x94\\x19\\x082\\x0eG53\\x8be\\x06F\\x0b\\x93\\xd78.\\xb1e\\xa8\\xdb\\xd5\\xd9\\xb3\\xf5\\x99k1\\xd6#\\x8b\\xc37\\x86\\xb1\\x1c^\\x16\\xab\\xafW\\xd6m\\xc5]\\xacCW~l\\xed]\\xfb\\xc49\\xa9b\\xf0\\xa4\\xd9\\x9b\\xbf\\x9b\\x977-f\\x19\\xc4-WR+\\xacW\\x9a\\xbbV~\\xf1\\x0ej\\\\\\xdc\\xb5\\x88k\\x10\\xe6\\xa5\\xcdK\\x16}\\xe8\\xdc\\xd9\\xdb\\xccw\\x98\\xeb1\\xdec\\xbc\\xcbX\\x86\\xb3\\x0en=\\xec\\xf9\\xc9\\xf3\\x94\\xefm\\xde\\xdb\\x9c\\xae\\xb5<\\xe6Y\\xcc\\xadh^\\xf1\\xde\\xeb\\xbe_:\\xb6\\xb7~w<\\xe67\\xbb\\xe35\\xbe+[\\xd2\\x12\\x82\\x14\\x92\\x14\\xa4!\\x061\\x88c',\n",
              " b\"\\x10\\xc41\\x88c\\x10\\xc61\\x0cB\\x10\\x841\\x08B\\x10\\x84!\\x08B\\x10\\x84!\\x08B\\x10\\x84!\\x08B\\x10\\x84!\\x08B\\x10\\x84!\\x08B\\x10\\x84!\\x08B\\x10\\x84!\\x08B\\x10\\x84!\\x8cc\\x18\\xc4!\\x08B\\x10\\x84!\\x08B\\x10\\x84!\\x08C\\x10\\x861\\x8cB\\x10\\x84!\\x08b\\x10\\xc4!\\x8cC\\x18\\xc61\\x10c!\\x06R\\x0c\\xa5\\x19\\xccC\\x98\\x871T\\x93\\xb5ik\\x12\\xd5\\xa5\\x8cJ\\x92t\\x1c\\xacQ\\xe5\\x05\\xce,\\xa4\\x9b8\\xb2OUd\\xcbM\\xb7\\xa3\\xb1g\\xeb\\x11\\xdee\\x9cB\\xf6~o\\x0cZ\\x17\\xab\\xafWVM\\xb4\\x99\\x9b;X~l\\xed]\\xfb\\xcc9\\xb9g1\\xad\\x1b\\x8b;z\\x8fy=f\\x1a\\xcc1g\\xdam\\xb4\\xd9\\x9a\\xbbw~\\xf0\\xfej<\\xd4\\xb7\\x88o\\x10\\xef'\\xcdG6~*\\xdc\\xd5\\xdc\\xd4y\\xb9oR\\xde\\xa5\\xcdOy\\x8f5\\x1e\\xf2]\\xe4\\xfb\\xcaw\\xb6\\xefk\\xde\\xd7\\x9c\\xa6s\\x1djZ\\xd4\\xefxc\\x11\\xc6e\\xbeW\\x9c\\xbe\\xf9|\\xe6\\xb7\\xc4\\xb1\\x99\\xe7T\\xdf/\\xae^\\xd8\\xab\\xe2\\xf4%$!F1\\x90\\xa51\\x8eB\\x10c\\x10\\xc61\\x0cB\\x18\\x84!\\x08B\\x10\\x84!\\x08B\\x10\\x84!\\x08B\\x10\\x841\\x88c\\x10\\x84!\\x08B\\x10\\x84!\\x08B\\x10\\x84!\\x08B\\x10\\x84!\\x08B\\x10\\x84!\\x08C\\x18\\xc4!\\x08B\\x18\\x841\\x0cB\\x10\\x84!\\x88C\\x18\\x86!\\x0cc\\x18\\xc61\\x8cc\\x10\\x84!\\x88C\\x18\\x881\\x90c \\xc4B\\x0c\\xc5!\\xccC\\x98\\x889Pr\\xa5\\x06s\\x13\\x07\\xb1\\xef[\\xde\\xb6\\xb1*I\\x98\\xa3\\xc1\\xca\\xa4\\x9bY\\xba\\x92l\\xe2\\xba\\xcd\\xb6\\x9bm7b\\xd0\\xd6#\\xbc\\xc7\\x16}\\xea\\xecY\\xf9\\xbc1W\\xd6M\\xacYz7X~\\xb1\\r]\\xfb\\xcc;\\xc9\\xefR\\xad\\x1d\\x8b;z\\x8fy=f\\x1a\\xccs\\x88f\\xcf\\xc5\\x1b\\x9a\\xbbw~\\xf1\\x0ej[\\xccuw\\xf31\\xee\\xe7\\xbcCVv(\\xcc\\xd5\\xbc\\xd4{\\xdaw\\x93\",\n",
              " b'\\xe6\\xe7\\xcd\\xcfz\\x8f5\\x1en]\\xec\\xfb\\xda\\xf7\\xb5\\xefk\\xceO\\x9b\\x96\\xf5\\x1enw\\xb3\\xe96g2\\xde\\xeb\\xad\\xd7\\x19\\x9d\\xaf,bz\\xdd7\\xca\\xebt\\xb5\\xe5J\\xc6\\x96\\x8d+(F\\x10\\x8c!(\\xbeRSZB\\x94C\\x18\\xc61\\x0cB\\x10\\x84!\\x08B\\x10\\x84!\\x08B\\x10\\x84!\\x08B\\x18\\xc6B\\x0c\\x84\\x10\\x84!\\x08B\\x10\\x84!\\x08B\\x10\\x84!\\x08B\\x10\\x84!\\x08B\\x10\\x84!\\x08B\\x10\\x84!\\x08B\\x18\\x841\\x8cb\\x10\\x84!\\x88C\\x10\\x861\\x0cB\\x18\\x841\\x88c\\x10\\xc6!\\x88C\\x10\\x881\\x94\\x83)\\x06A\\x88\\x83\\x11\\x8aD\\x1c\\xaaI\\xd4\\x83)\\x06ZL\\xd5\\xa1\\xeeT\\xa2\\xd9E\\xafr\\xda\\xb4-F{\\x93I6\\xd4uf\\xda\\xcd\\xb6\\xa3\\xadGb\\xaf\\xcd\\xe1\\x9cC7\\x85h\\xdb\\xd5\\xdb\\xc4u\\x88\\xdam\\xa4YH\\xaf7\\x7f5,\\xdd\\xfa\\xc3\\xf9\\xb9sr\\xad\\x1bi\\xb3y\\x877,\\xe2\\x1a\\xc47\\x98\\xea\\xef\\xcd]\\x9a\\xbbWv\\xae\\xfd^\\x1b\\xc45w\\xf3\\x10\\xe6c\\xab;Vv&\\xcc\\xd5\\xbd\\xd4{\\xc9\\xf3r\\xe6\\xe5\\xcdGy\\x86\\xf3\\x0en]\\xed;\\xdas\\x94\\xd6\\xa3\\xcd\\xc7\\x9a\\x8f5\\x1bQ\\xb1zoW\\xefS\\xcee\\x8cG9\\x96\\xf7Nv\\xdb\\xe5s\\xa9\\xebt\\xd6\\xe9\\xbeW|\\xbf;\\x9ew[\\xee\\xb1\\xbc\\xd3\\x16t\\xa2t\\xa8e(\\xc8A\\x0cB\\x10\\x84!\\x08b\\x10\\x84!\\x08B\\x10\\x86!\\x8cd)HR\\x8c\\xa5\\x10\\x84!\\x08B\\x10\\x84!\\x08B\\x10\\x84!\\x08B\\x10\\x84!\\x08B\\x10\\x84!\\x08B\\x10\\x84!\\x08B\\x18\\x841\\x08c\\x10\\xc61\\x88B\\x10\\x86!\\x0cB\\x18\\x841\\x08b\\x10\\xc61\\x8cC\\x10\\x861\\x14\\x831\\x08b\\x90\\xa4\\x19H3\\x14\\x89A\\x98\\xb41Gb\\x8e\\xd5\\xa1\\xccL`\\xcaM\\xd4\\x9b\\xa5\\x16\\xb9\\xa9b\\xcf\\x07\\xaa\\xd4u\\xa8\\xebQ\\xd6\\xa3\\xa9&\\xd6n\\xc5\\xa1\\x8bC7\\x86,\\xfa\\xd1\\xba\\xc47\\x99b\\xaf',\n",
              " b'\\xac\\xdbH\\xb2\\xf4o3-b:\\xc3\\xf9\\xa8\\xf3r\\xac\\xdbY/X\\x877-\\xea:\\xc47\\x98\\xea\\xef\\xcd\\x9d\\x9a\\xbb6vl\\xed\\xe2\\x1b\\xc47xs\\x10\\xdd\\xdf\\xbb;vv&\\xbcQ\\x9c\\xc3\\xf9\\xa8\\xeb\\x10\\xde!\\xac?Vv\\xae\\xeen=\\xec\\xfb\\xcaor\\xde\\xa3\\xcd\\xc7\\x9b\\x95\\xea\\xe8\\xbd7\\xa3u\\x88\\xe2\\xd0\\xd6e\\xceS\\xbd\\xb79m\\xee\\xb9\\xcc\\xf5\\xbas\\xb6\\xe7m\\xce\\xdb\\\\\\xb6wk\\xe6\\xb6\\xc5k\\x8a\\xd3\\x16\\x95\\xa8\\xe9D\\xc8@\\x861\\x0cB\\x10\\x84!\\x08B\\x10\\xc4!\\x88c\\x18\\xc8B\\x14\\xa51\\x8ac\\x14\\xc6\\x10\\x84!\\x08B\\x10\\x84!\\x08B\\x10\\x84!\\x08B\\x10\\x84!\\x08B\\x10\\x84!\\x08B\\x10\\x86!\\x0cB\\x18\\x841\\x08b\\x10\\xc6!\\x8cD\\x18\\xc61\\x0cb\\x18\\xc41\\x8cb\\x10\\xc4!\\x8cD\\x18\\xc81\\x90b)\\x06r\\x90\\xe6!\\xcaC\\x14\\x86)\\x12\\x835hs\\x12\\xe6\\xa5\\xeeT\\x1e\\xb8\\xbdr\\x8bi7RN\\x83\\xd6\\xd6\"/U\\xa6\\xdbQ\\xd6\\xab\\xe97J\\x0b\\xac\\xdb\\x8b?\\x16~q\\x1bU\\xd7\\xab\\xf5\\x88\\xeb\\x11\\xbd\\x1dI2\\xd3n\\xf1\\r\\xe6:\\xbb\\xf9\\x98sR\\xb5\\x1dY/6w5\\x1d\\xeaZ\\xc47\\x98\\xea\\xef\\xdd\\xe1\\x9a\\xbb6v\\xf1\\r\\xe2\\x1a\\xbb\\xf5w\\xee\\xef\\xd5[\\xbb\\xbbUm\\xe4\\xbb\\xc9z\\xb3\\xb5w\\xe2\\xad\\xcd\\x9d\\x8a3\\x14f\\xac\\xdej>\\xed9\\xb9k\\x0f\\xde!\\xdd\\xc7\\x16|\\x9e\\xab\\xd5\\xdb\\xccsxo2\\xef)\\xcd\\xd3Z\\x96\\xb5=j{\\xddw\\xca\\xe7T\\xbe%KF\\x96\\x8d-\\x1bbx\\xd5\\xb1\\xbc[W\\x85&\\xb74\\xe8@\\xc8A\\x8cb\\x10\\x84!\\x08B\\x10\\x84!\\x08C\\x10\\xc8B\\x10\\x84)Jc\\x14\\xc5\\x10\\x84!\\x08B\\x10\\x84!\\x08B\\x10\\x84!\\x08B\\x10\\x84!\\x08B\\x10\\x84!\\x08D\\x18\\xc61\\x8cc \\xc61\\x8cc\\x10\\xc6!\\x8cC\\x18\\x861\\x0cc\\x18\\xc4R\\x0c\\xc5!HB\\x0cd\\x18\\x8aA\\x98\\x84',\n",
              " b'1Hs\\x11\\x06\"NT\\x9c\\xaaA\\x94\\x83-&s\\x12\\xf7)\\xeeT^\\xb8=r\\x8b#\\x06NM\\xac\\xdf(1\\xccD^\\xaa\\xcd\\xb6\\xab\\xe9&\\xd2L\\xa4YY\\xb6\\xf5vo\\x0c\\xde6\\xa3\\xb3xk\\x11\\xcd\\x9fi\\xb6\\xd3nl\\xfd\\xe2\\x1a\\xbb\\xf7\\x98k\\x11\\xb5\\x1di3\\x15v\\xf1\\x0ef:\\xbc7\\x88f\\xce\\xd5\\x9f\\x8a\\xb7W\\x7f3\\x1d]\\xfa\\xb3\\xb5gf\\xad\\xcd\\x1b\\xbb?4m\\xa2\\xbbEx\\xa31W^l\\xbc\\xd9i/\\x13^\\xaa\\xde\\xee=\\xdc\\xb5w\\xea\\xce\\xdd\\xdf\\x9a\\xba\\x90Vl\\xeen[\\xcc7\\xa8\\xf3s\\xe6\\xe7\\xac\\xc7Y\\x8e\\xf7=n\\x97\\xc4\\xadh\\xd2\\x90\\x94\\xdf:B\\xb7\\x95\\xb1;\\xea\\xb8\\xd5\\xab\\x8a\\xc6\\xb3[\\x9ad \\x85(\\x861\\x08B\\x10\\x84!\\x08B\\x10\\x84!\\x08B\\x10\\x861\\x0cc\\x18\\xc41\\x88c\\x10\\x84!\\x08B\\x10\\x84!\\x08B\\x10\\x84!\\x08B\\x10\\x84!\\x08B\\x10\\x84!\\x08C\\x10\\x881\\x8cc\\x18\\xc61\\x8cc\\x19\\x062\\x0cd\\x18\\xc81\\x90b \\xc6A\\x8c\\xc5\"\\x0cU\\xa4\\xe99\\x8aA\\x94\\x831\\x06r\\x91&\"\\xd0f$\\xedQ\\xda\\xa3\\xb5hs\\x10\\xf6\\xa6/\\\\\\xa0\\xc8=q\\x83)\\'F\\x0c\\x94Yi\\xbe\\x92l\\xa0\\xb9\\xc1\\x97\\xa3\\xed7\\xd2M\\xac\\x9bH\\xb2\\xd3n*\\xed^7\\xab\\xedGf\\xd0\\xcd\\xe1\\x8a\\xbe\\xd3n*\\xed]\\xfa\\xbb\\xf7\\x87\\xea\\xf0\\xac\\x99i\\xb75v\\xf0\\xfd\\xe2\\x19\\xb3\\xf3g\\xe2\\x8d\\xc5[\\x9a\\xbbx\\x86\\xae\\xfc\\xd9\\xd9\\xab\\xb3F\\xe2l\\xc4\\xd9\\xab;\\x13e`\\xabEw\\x93-&ZL\\xb4WX+\\x13^\\xee\\xee\\xea;\\xbb\\xf5Wj\\xae\\xcd\\x1bH+6ww.j<\\xd4y\\xa9w\\x94\\xde\\xa5\\x9b\\xbfz\\x979L\\xe6Y\\xcc\\xf5\\xaa\\xefv\\xd6\\xed\\xae_\\\\\\xbe\\xb7mr\\xfa\\xe65\\xcccx\\x95\\xa8\\xa60\\x85(\\x86!\\x0cB\\x18\\x841\\x0cc\\x18\\xc62\\x0c\\x84 \\xc8A\\x8cc\\x18\\xc61\\x88c',\n",
              " b\"\\x10\\x84!\\x08B\\x10\\x84!\\x08B\\x10\\x84!\\x08B\\x18\\xc6!\\x08B\\x10\\x84!\\x08B\\x10\\x86!\\x0cC\\x18\\xc41\\x8cc\\x18\\xc61\\x88C\\x18\\x881\\x90\\x83 \\xc6A\\x8c\\x83\\x19H3\\x14\\x899V\\x93\\xa9\\x06A\\x88r\\x91'*\\x8eU\\xa0\\xcdQ\\xdc\\xb3\\xbdh\\x8bS\\x17&OT\\xe0\\xc9A\\x90r\\xa0\\xf5\\xceN\\x94[(2\\xb3u\\xa6\\xeaI\\xb4\\x8boG\\xce\\x0c\\xa4YY\\xb6\\xb2e\\xe8\\xecY\\xf8\\xb3\\xedF\\xe2\\xaf\\xcd\\xa1\\x9bB\\xf4u\\xe8\\xedY\\xf9\\xb3\\xb5w\\xe2\\xae\\x9c\\x17z7\\x15n\\xae\\xfd]\\xf7\\xa3qGZL\\xbc\\xd9\\x9a\\xbbV~(\\xecQ\\xd7\\x9b/&^K\\xcd\\x1b\\xbb>\\xf2e\\x1e\\xaa\\xc1v\\x8b+\\x15\\xda,\\xac\\x15X+\\x12^\\xec\\xedU\\xd9\\xa35V\\xe6l\\xab\\xd3y/\\x99\\x873\\r\\xe2\\x1c\\xcc{\\xb9\\xef1\\xcd\\xdf\\xacC\\x9b\\x96\\xf7>r\\xbd\\xed\\xfb\\xdcs\\xb7\\xdf/\\xad\\xdb:\\xb5\\xf5\\\\j\\xb7\\xcdm\\x8aV\\xf3\\xa5\\xa6\\xe8<\\xe8@\\xc61\\x8cC\\x18\\xc61\\x8cc\\x18\\xc6B\\x10\\x84 \\xc61\\x8cb\\x18\\xc41\\x8c\\x83\\x10\\x84!\\x08B\\x10\\x84!\\x08B\\x10\\x84!\\x08B\\x10\\x84!\\x08B\\x10\\x84!\\x08B\\x10\\x84!\\x0cB\\x18\\x841\\x0cc\\x11\\x061\\x8cC\\x10\\x861\\x10c \\xc6A\\x8c\\x83\\x11\\x062\\x0cd\\x18\\x8cB)\\x06b\\x8e\\xb4\\x19h2\\x8eU\\x1c\\xacA\\x9e\\xb4E\\xa9\\x83\\x11\\x17&NT\\xe0\\xb9\\xc1\\x94\\x8bg\\x16\\xc6\\x0c\\x9c[(\\xb6/\\\\\\xe0\\xcaE\\xb4\\x8bk&\\xd6M\\x93\\xd5X\\xb2\\xb2ed\\xbb\\xd1\\xd8\\xab\\xefW^\\x8e\\xc5_\\x8a\\xbf\\x16}\\xe6\\xdc\\xd5\\xd9\\xab\\xb3W^m\\xa4\\x17X\\xb3\\x14nl\\xfc\\xd9\\xf6\\x9bm&V+\\xbc\\xdb\\x8a7\\x14m\\xe6\\xcb\\xcd\\x96\\x8a\\xed\\x15\\xda+\\xd5\\x1b\\x9a\\xba\\xd0]\\x1e\\xaa=Sr\\xa6\\xe5Q\\xea\\xa3\\xd3G'\\x12^\\xa8\\xdcMy\\x9b3F\\xda\\n\\xab\\xd3\\xbb;\\x98~\\xee\\xfd\\xe2\\x1c\\xccu\\x88f\\xef\",\n",
              " b'\\xcd\\xdf\\xbcCy\\x8e\\xf5.r\\x9a\\xddq\\x99\\xe7T\\xdf-\\xbec}\\xce\\xb9\\x8cn\\xf7\\xcdiiBOk\\xd8\\xa5\\xa8\\xc78\\xc81\\x0cB\\x18\\x841\\x88b\\x10\\xc4!\\x8cc\\x18\\xc61\\x90\\x83!\\x08R\\x94\\xc6\\x10\\x84!\\x08B\\x10\\x84!\\x08B\\x10\\x84!\\x08B\\x10\\x84!\\x08B\\x10\\x84!\\x08B\\x10\\x84!\\x0cB\\x18\\x841\\x08b\\x10\\xc4!\\x88C\\x10\\x86!\\x0cB \\xc6A\\x8c\\x83\\x19\\x062\\x0ce\\x18\\xc81\\x14\\x839H\\xa3\\x95\\xaa;\\x10e\\xa0\\xccA\\x9a\\x939G\\x83\\x11\\x16\\xa6NT\\xde\\xbaA\\x94\\x83+&\\xd2M\\x9c[9:ql\\xe2\\xd9\\xc5\\xb3\\x8be\\x06N\\x0b\\xa4Y7\\xaa\\x91e\"\\xbbM\\xb6\\x9boGb\\xae\\xbd\\x1d\\x8a;5}\\xe8\\xeb\\xd1\\xb8\\xa3\\xb1F\\xd6\\x0b\\xb4\\x99X\\xaf\\x13u\\xe6\\xdb\\xcd\\xd7\\x9bm&ZL\\xbc\\xdby\\xb7\\x13m\\xa4\\xcb\\xc9\\x95\\x82\\xab\\x05Z\\x0b\\xcd\\x1by6\\x8eM\\x1c\\xaa9Rjb\\xc4M\\xc9\\xa3\\x93W\\'3fh\\xdc\\xcd\\x98\\x92\\xef\\x15U\\xe9\\xcd\\x19\\xbb;vv\\xee\\xed\\xe1\\xfb\\xc3\\xf5w\\xea\\xf0\\xd5\\xdf\\xab\\xbfy\\x86\\xb3\\x1c\\xe68\\xc4q\\x89o\\x95\\xefq\\xce\\xe7;\\xc5/6\\xbd\\x88I\\xcaR\\x0cc\\x19\\x062\\x0cc\\x18\\xc6!\\x0cB\\x18\\x84!\\x08b\\x10\\xc61\\x8cc\\x18\\xc8B\\x14\\xa41\\x88c\\x18\\xe8\\x10\\x84!\\x08B\\x10\\x84!\\x08B\\x10\\x84!\\x08B\\x10\\x84!\\x08B\\x10\\x84!\\x08B\\x10\\x84!\\x08B\\x18\\x841\\x8cc\\x11\\x062\\x0cc\\x10\\x86!\\x0cB\\x18\\x841\\x88\\x83\\x11\\x062\\x0cf)\\x0cB\\x14c(\\xc6b\\x0c\\xe5\\x1a\\x8eV\\xa4\\xeeQ\\xda\\x93-\\x05b\\n\\xf5\\x9e-L\\x9c\\xaaAsz\\xe6\\xf5\\xce\\x0c\\xa4[8\\xb6qm$\\xeaE\\xb2\\x83\\'\\x06I\\xeb\\x9c\\x177\\xae\\x90]\"\\xba\\xc9\\x96\\x93+&^\\x8d\\xc5]z7\\x14u\\xe6\\xebI\\x97\\x9bo&M\\xc9\\xbc\\xdbX\\xb3\\x14u\\xa4\\xcbE\\x96\\x93m&ZL',\n",
              " b'\\xbc\\x99y2\\xd2e\\xa2\\xca\\xc1tz\\xaa\\xf5U\\xea\\xc4\\xdbX.mM\\x1c\\xa951j\"\\xd4\\xc9\\xc9\\x93QW\\xab3f\\xa8\\xdc\\xcd\\x97\\x8a\\xea\\xe4b+\\xcd\\x19\\xaa3Vv\\xee\\xfd\\xdd\\xfa\\xb3\\xf5w\\xef\\x10\\xd5\\xdf\\xab?6~.\\xfc\\xe2\\x1a\\xcc\\xb9\\xcas\\x96\\xe7-\\x8c\\xd2S\\x83\\x18\\xa3\\xa0\\xc5)\\x08B\\x10\\x84!H2\\x0cc\\x18\\xc61\\x8cb\\x18\\x861\\x90\\x84!JS\\x18\\xa69Ns!\\x06B\\x0c\\x84\\x1d\\t\\x10\\x84!\\x08B\\x10\\x84!\\x08B\\x10\\x84!\\x08B\\x10\\x84!\\x08B\\x10\\x84!\\x08B\\x10\\x84!\\x08B\\x18\\x841\\x08\\x83\\x19F2\\x8ce\\x18\\xc81\\x8cb\\x18\\x841\\x08b\\x11\\x06\"\\x0ce \\xceR\\x98\\x841\\x06r\\x10\\xc4\\x19\\xcaE\\x1c\\xacA\\x9a\\x93-\\x05Q\\xc8\\xb3\\x95\\xa94\\x18\\x899Sz\\xe6\\xf5\\xc5\\xca\\x8b\\x95\\'\\xaepd\\xa0\\xb9As\\x83)\\x16\\xd2,\\x9b\\xd7H2\\x91e\"\\xcaAu\\x93+&VL\\xac\\x99i2\\xf3m\\xa4\\xdbI\\x97\\x93k\\x05\\xc9\\xc9\\xb4YG\\xaa\\xd2e\\x1e\\xabE\\x96\\x93-\\x16Z,\\xa3\\xd5X.\\xb0]\\xa2\\xb9\\xb92jf\\xe4\\xd1\\xea\\xb4YG\\xaamL\\xdc\\xa951b\"\\xd4\\xc1\\x88\\x8b\\x11W\\xa6\\xf1^\\xa8\\xdc\\xcd\\xb5zo\\x05bK\\xc4\\x95\\x9a3Vn\\xee\\xed\\xdd\\xfa\\xb3\\xb7w\\xee\\xef\\xcd]\\x9a\\xbb5v,\\xec\\xde\\x1a\\xccw\\xa9\\xebS\\xceg{\\xca2r\\x96\\x93\\xa0\\xc61HA\\x8cc\\x18\\xc61\\x8cc\\x18\\x86\"\\x14\\x869\\xce\\x84\\xa5\\x8cSZ\\xa6\\xb5\\nZ\\x16\\xb51\\xa7JL\\x84\\x14\\xc7\\x10\\x84!\\x08B\\x10\\x84!\\x08B\\x10\\x84!\\x08B\\x10\\x84!\\x08B\\x10\\x84!\\x08C\\x10\\x861\\x90c(\\xc6A\\x8c\\xa3\\x19H2\\x8ce\\x18\\xccA\\x94\\x83)\\x06A\\x8cb\\x11\\x06\"\\x0cd\\x18\\xcaA\\x9c\\xa4A\\x8ar\\x90\\xe5\\x19\\xcaC\\x94\\x891\\x14r\\xb1\\x06b\\x0c\\xb4\\x15F*\\x8cU\\xa0\\xaeZ&\\xf5\\xd2-',\n",
              " b'\\x9c\\x1982pd\\xe0\\xc9=rz\\xe4\\xf5\\xce\\x0c\\x9c\\x19\\'*.T\\xde\\xb9=T\\x82\\xeb\\x16V,\\xacYi6\\xb1eb\\xcaAu\\x82\\xe6\\xf5A\\x87\\xb4YX.\\x8fU`\\xbb\\xc9\\xb6\\x8b+\\x05\\xd1\\xea\\xa4\\x17G\\xaa\\x8fU\\x1e\\xa9\\xb9Rjd\\xd4\\xd1\\xea\\xa4\\x17&\\xa6,D\\x9a\\x9952jd\\xd4\\xc5\\x88\\x93QG&\\xcfN$\\xca\\xbdTr1\\x15\\xde\\n\\xcc\\xd7\\xaa\\xb7Uo.\\xfd\\xdd\\xfa\\xb3\\xf5gf\\xad\\xcd]\\x9a\\xbb5v\\xac\\xfd\\xea<\\xe4\\xfb\\xdas\\x94\\xde\\xa7\\x8cJ\\xd6\\x8c\\xa4\\xf6\\xb5jRP\\x83\\x98\\xc5!HB\\x10\\x84!\\nU1\\x8e\\x9c\\xdb)\\xb2\\x10KXu(\\xe9I\\x90\\x83!\\x051\\x88R\\x90\\xa5\\x10\\x84!\\x08B\\x10\\x84!\\x08B\\x10\\x84!\\x08B\\x10\\x84!\\x08B\\x10\\x84!\\x88C\\x10\\x861\\x10c)\\x08b\\x10\\xa4\\x19F2\\x90f \\xccA\\x9c\\xa41\\x08\\x83\\x14\\xe5!H2\\x0cd\\x18\\x881\\x98\\x839H\\x93\\x15\\x06\"\\nC\\x94\\x881\\x12b\\xad\\x06Z\\x0c\\xb4\\x19G*LC\\x94g(\\xd6\\x82\\xc9\\xca\\xac\\x9bY:\\xb2ud\\xeaE\\xb1r\\xa2\\xe5\\xc9\\xca\\x9c\\x1982NT\\x9c\\xa9\\xbdsz\\xe4\\xe5ZM\\xbc\\xddi2\\x90]`\\xba=Rjb\\xc4E\\xa8\\xb4W7\\xa6nMb\\xbbI\\x96\\x8b(\\xf5M\\xea\\xa3\\xd5G\\xaanT\\x9c\\xa951jf\\xe5Q\\xea\\x9b\\xd5\\x06\"-D\\x9c\\x98\\xb1\\x13rd\\xd4\\xc1g\\x8a\\xd1&\"\\xafM\\xe0\\xaa9\\x16zl\\xf4\\xe6K\\xd5\\x19\\xaa3vw.\\xfdY\\xda\\xb3\\xf3Wb\\x8d\\xcd\\x1b\\x9a\\xbb5v\\xac\\xfd\\xe2\\x1c\\xdc\\xb9\\xc9\\xf3\\x93\\xe7)\\xbdO9\\x95\\xef*R\\x0cj\\xccc\\x14\\xc5)HR\\x94\\xc7:\\xda\\xc6\\xc6+\\x84\\x10\\xc6\\x15\\x08)\\xceS\\x18\\x85)\\nQ\\x90\\x83!\\x06B\\x0c\\x84\\x10\\x84!\\x08B\\x10\\x84!\\x08B\\x10\\x84!\\x08B\\x10\\x84!\\x08B\\x10\\x84!\\x8cc\\x10\\x861\\x10c',\n",
              " b'(\\xc6b\\x10\\xe5!H3\\x10\\x87!\\x0eB \\xa4AH\\x82\\x91\\'*\\x90d\\x9c\\xc5!\\x06!\\x14c1\\x06r\\x8dG*\\x8ed\\x98\\xaaA\\x96\\x83$\\xe5I\\xca\\x93\\x15\\'*LT\\x18\\x881\\x0eQ\\xa4\\xc4bO\\'\\xae\\xb1m\"\\xdaE\\xb3\\x83)\\x16Z\\x8e\\xa4\\x9b\\x06\\xa9\\xecD\\x1a\\xa9\\xbd\\x93\\x82\\xe9\\x16I\\xca\\x93\\x93\\'*-LZ\\x98\\xb50b\\x1e\\xb3\\xc1\\x88\\xa3\\xd57&nM`\\xbbE\\x95\\x82\\xe6\\xe4\\xcd\\xc9\\x9b\\x937*nT\\x18\\x881\\x10b&\\xe5E\\xa9\\x8b\\x10\\xf5\\x9e-D\\x18\\x88,\\xf2j^\\xb3\\xbdG\\x8a\\xcf&\\xa2\\xcfM\\\\\\x9a5\\x16zq\\x15\\xea\\x8c\\xd5\\x19\\xba\\xb7vv\\xaa\\xec\\xd5\\xb9\\xab\\xb16\\xdel\\xc5\\x1b\\x8a75v\\xae\\xfej;\\xd4\\xb5\\x98oR\\xde\\xe7\\xbdO{\\xa6\\xb5\\\\f\\x91\\x9cLc\\x0cc!\\x08t\\x1d\\x8dc\\xa3\\x05\\xb9\\xc7JHR\\x8c\\x84\\x18\\xc6!\\x8cc\\x18\\xc61\\x8cc!\\x06B\\x0cc\\x10\\x84!\\x08B\\x10\\x84!\\x08B\\x10\\x84!\\x08B\\x10\\x84!\\x08b\\x10\\xc4!\\x88C\\x18\\xc61\\x10c \\xc6Q\\x8c\\xa4\\x19\\x883\\x10f!\\x0eB$\\xc5Q\\xca\\xb4\\x19G*\\x8eV\\xa9\\x0fb\\x92\\x83\\x10B \\xc4b\\x0c\\xc4\\x1a\\nD\\x9c\\xaaAX\\x93\\xad\\x06R\\x0c\\x93\\x95\\x06\"\\x0cD\\x18\\x881\\x0eR\\x1c\\xa41\\x06\\x82\\x91\\x893\\xd8\\x87\\xb1\\x13\\x82\\xefGVM\\x8b\\xd6\\xd5\\xa1\\xabC\\x98\\x96\\xa9\\x0cI\\x98\\x935&bL\\xd5\\x1d\\xaa;Tf \\xadQ\\xd8\\x931\\x06r\\x8f\\x06\"-M\\x1e\\xba=srd\\xd4M\\xc9\\x9b\\x93&\\xa6,C\\xd6x,\\xf1b \\xc4E\\xa9\\x82\\xd1\\x05\\x9eMLZ\\x8990b\\x1e\\xb3\\xbdG\\x82\\xcf&\"\\x8dD\\x96z5\\x17\\x82\\xb56j\\x8d\\xd5\\x19\\xba7uv\\xaa\\xdc\\xd5\\xd8\\xa3qF\\xe6\\xae\\xd5]\\x9a\\xbbVv\\xf1\\rY\\xf8\\xab\\xb5\\x88oR\\xde\\xa5\\xbdO{\\xa6\\xb7lj\\xd3\\xac\\xd0\\x84\\x0cb',\n",
              " b'\\x18\\xc6R\\x94\\xc89\\x8er\\x14\\xa4)F2\\x08c\\x10\\xc61\\x8cc\\x18\\x861\\x8cc!\\x061\\x88c\\x10\\x84!\\x08B\\x10\\x84!\\x08B\\x10\\x84!\\x08B\\x10\\x84!\\x08b\\x10\\xc4!\\x88C\\x10\\x86!\\x10c \\xc6Q\\x8c\\xa3\\x19\\x883\\x10f \\xccA\\x9c\\x84AH\\x93\\x15\\x883\\x12f\\xa8\\xf0bf\\xf5\\xb9iA\\x8aA\\x88\\xe5!\\xcaD\\x18\\x899Pb\\x1c\\xa4A\\x8a\\x83\\x15\\x06!\\xcaC\\x10\\x86(\\xccR\\x18\\x849Hr\\x90\\xc4\\x19\\xca5\\xa0\\xd0j\\xa2\\xe5\\xc5\\xca\\x8b\\x95\\x07-\\xccJ\\xd2u \\xaa9Rr\\xa8\\xe5Q\\xca\\x93\\x11&\"\\xd0d\\x9c\\xa91\\x14r\\xa8\\xe5Q\\xca\\xa3\\x95\\x884\\x18\\x89\\xb92jf\\xe5M\\xa9\\xa3\\x95\\x16!\\xea;\\xd4x,\\xf0Y\\xe0\\xb3\\xc5\\x88\\x82\\xcf\\x16\",D\\x18\\x880\\xefY\\xde\\xb3\\xb9Fz\\x8dF\\xa6l<\\xd8\\x8b99\\x92\\xf5Fj\\x8d\\xd4\\xd9\\xaa7Un\\xaa\\xdd\\xd9\\xfa\\xab\\xb3F\\xea\\xae\\xd5]\\x9a;4v(\\xdbI\\x9a\\xb3\\xf7\\x88oR\\xe7)\\xde\\xd7[\\xad\\xb19R\\nZ\\x88B\\x0cc!HR\\x94\\x85!\\nR\\x14\\xa3!\\x06B\\x0c\\x84\\x18\\xc61\\x8cC\\x10\\xc61\\x8cc\\x18\\xc41\\x0cc\\x10\\x84!\\x08B\\x10\\x84!\\x08B\\x10\\x84!\\x0cc\\x10\\x84!\\x08b\\x10\\xc62\\x0cd\\x18\\xc81\\x8cb\\x18\\x84A\\x8c\\x83\\x19F2\\x8ce\\x18\\xccA\\x9c\\x849H\\x93\\x11G+\\x10f\\xa4\\xcfZ$\\xd5Z-\\xacZ\\xd5 \\xa4\\x19\\x8aC\\x94\\x87)\\x0eR\\x1c\\xa41Hb\\x0c\\xc5!\\x88B\\x90e \\xcaA\\x98\\x831\\x08b\\x0c\\xe5\\x1b\\x94\\x8aA\\xb1r\\xdc\\xb41\\'\\x83S\\'-\\xedS\\x14\\x85\\xa0\\xc99Pb\\x9c\\xa41Fr\\x90\\xc5!\\xcaD\\x14\\x87)\\x0eR \\xc4I\\x88\\x82\\x8d&#\\x10W\\xac\\xf1b$\\xd4\\xc9\\x88\\x8b\\x10\\xf5\\x1d\\xea;\\xd6w\\xa8\\xefQ\\xde\\xb3\\xbdG\\x82\\xcf\\x05\\x9d\\xca4\\x16\\x87\\xac\\xefY\\xde\\xa3\\xa8\\xe5',\n",
              " b'rMF\\xa6K=Z\\x8b\\xc1Z\\xa35Fj\\x8c\\xd4\\xd9\\xaa7uv\\xea\\xedQ\\xd8\\x9bq6\\xdeL\\xb4WX*\\x8fU \\xaa\\xc5v\\x9boGf\\xf0\\xd6e\\x9c\\xcb\\x19\\x95\\xb18E\\xe61\\x86A\\x90\\x83!\\x08B\\x90\\xa5)Lb\\x10\\xa4!\\x06B\\x0cc\\x10\\xc6!\\x8cc\\x18\\xc61\\x8cb\\x10\\x84!\\x0cc\\x10\\x84!\\x08B\\x10\\x84!\\x08B\\x10\\x84!\\x0cB\\x18\\x84!\\x08B\\x10\\xc4!\\x88C\\x10\\x861\\x10c \\xc6A\\x08b\\x11\\x06\"\\x0cE\\x18\\xccA\\x9c\\x849H\\x93\\x15F*\\xd0f \\xceI\\xe0\\xb4M\\xca\\xac\\x19y:Oa\\xcaB\\x0cF \\xccA\\x98\\x83)\\x06Q\\x8c\\xa3\\x19H2\\x0cd\\x18\\xc81\\x90\\x83)\\x06Q\\x8dh;\\x94\\x94\\x98\\xaaA\\x94\\x83$\\xc5I\\xca\\xa4\\x19\\x89;T\\x86)\\x0eb\\x96\\x93\\xa0\\xc59HR\\x0c\\xa4\\x19F2\\x90f \\xceA\\xa0\\xa49F\\x93\\x11\\x89;Rw$\\xd0Z$\\xc4\\xc5\\x88\\x82\\xcf\\x05\\x9d\\xea;\\xd4v\\xa4\\xcdI\\x9a\\x92\\xb9&\\x82\\xd0\\xf5\\x1d\\xca;\\x94g(\\xefZ\\x1a\\x93\\x98\\x83a\\xcb5\\xa2K=Z\\x8c\\xc9z\\xabuF\\xee\\xad\\xcc\\xd9\\xaa7uvh\\xdb\\xc5\\x95\\x82\\xa6\\xe4\\xc9\\xa8\\x9b\\x937&nL\\xdc\\x99\\xbdS\\x82\\xe2\\xe4\\xd2M\\xad\\x1d9\\xb6RsX\\xa4$\\xe5)\\x08A\\x90\\x83!HS\\x18\\xc60\\xc8A\\x8c\\x83 \\xc61\\x88b\\x10\\xc61\\x8cc\\x18\\x861\\x0cB\\x10\\x841\\x88B\\x10\\x84!\\x08B\\x10\\x84!\\x08B\\x10\\x84!\\x08B\\x10\\x841\\x0cb\\x10\\xc4!\\x88C\\x18\\x881\\x90c1\\x08s\\x14\\xc4!\\x04\"\\x0cE\\x18\\xcaA\\x98\\x831\\x06r\\x90\\xe5\"LE\\x9c\\xaeQ\\xde\\xa3\\xc1h\\x93UX3\\x13t\\xde\\xc5 \\xc5\\x18\\x881\\x10c \\xc6A\\x8c\\x83\\x19\\x06\"\\x0cd\\x18\\xc81\\x90c!\\x06\\x83\\x15iA\\xccR\\x90e \\xcaB\\x18\\xa49H\\x83\\x15H2\\xd2u \\xcbI\\xda\\xb49i',\n",
              " b'b\\x90\\x83\\x94\\xa4\\x19F2\\x0cd\\x18\\x8aA\\x94\\x831\\x06\\x82\\x91h3\\x10g\\xa8\\xefY\\xe0\\xb4Agz\\x8e\\xf5\\x1d\\xea;Pf \\xadA\\\\\\x93=Gz\\x8e\\xe4\\x99\\xa93\\x92g\\xad\\x11j\\x96\\x83\\x94bb\\x0b%\\xa2*5\\\\\\x9c\\xc9\\x9a\\xa35F\\xea\\xad\\xcc\\x99\\xaa7\\x13e\\xa0\\xab\\xc5tzd\\xd4M\\xc9\\x9b\\x937&\\x8fU \\xaaArz\\xa4\\xf5N,\\x8b\\xd6\\xd6%\\x08)\\x8aC\\x18\\x85)\\nR\\x18\\xc6)\\x8cR\\x98d \\xc61\\x8c\\x82\\x18\\xc61\\x8cc\\x18\\xc6!\\x8cB\\x10\\x86!\\x0cB\\x10\\x84!\\x08B\\x10\\x84!\\x08B\\x10\\x84!\\x08B\\x10\\x84!\\x08B\\x10\\x841\\x08c\\x19\\x061\\x88C\\x10\\x881\\x94\\x83 \\xc6b\\x91\\x06*\\x0eb\\x90e\\x18\\xca1\\x94c(\\xc6a\\x8c\\xe4!\\xcaD\\x98\\xacA\\x9c\\xa3\\xc1h\\x8bS7*\\x8f]\\xa2\\xd8\\xb5J9\\x8eR\\x14c \\xc41\\x88c\\x18\\xc62\\x0cd\\x18\\xc81\\x8ccA\\x8a\\xb4\\xa0\\xe6)\\x062\\x0ce!\\x081\\x90c!\\x06R\\x0c\\xc5\"\\x0ed\\x9c\\xc99T\\x83-\\'J\\x0c\\x83\\x14\\xc5!H2\\x8ce\\x18\\xca1\\x90b(\\xc6r\\r\\x05\\x1bPg\\xa8\\xeeI\\xda\\x935&rL\\xe4\\x99\\xca;Rf \\xacAZ\\x939Gz\\x8e\\xd4\\x99\\xa93\\x94y=oj\\x8eR\\x14bb\\x0b%\\xa1\\xe9-\\\\\\x9cIx\\x92\\xf36fl\\xc4W\\x892\\xf1^&\\xcb\\xc5uz\\xad\\x05\\xda\\x0b\\xac\\x17X.\\xb0] \\xb994\\x82\\xeb\\x16R\\x0c\\x9cX\\xf6\\xa9(2\\x0eT\\x1c\\xc79\\x8cs\\x14\\xa6!\\n2\\x10c\\x18\\xc61\\x8cb\\x18\\xc41\\x8cc\\x10\\xc6!\\x08C\\x18\\x86!\\x08B\\x18\\x84!\\x08B\\x10\\x84!\\x08B\\x10\\x84!\\x08B\\x10\\x84!\\x08B\\x10\\x84!\\x08B\\x10\\xc4\"\\x90\\x85 \\xcaA\\x9c\\xc5I\\xccb\\x90\\xc4\\x1a\\x0cT\\x18\\xa81J1\\x94c(\\xc6R\\x0c\\xc4\\x19\\x884\\x14\\x891\\x18\\x835\\'',\n",
              " b'jN\\xf5\\xa2,LX\\x999u\\x83d\\xe5\\xb1\\'1\\x061\\x88c\\x10\\xc6\"\\x0cd\\x18\\xc61 \\xe6s\\x16s\\x14\\x83\\x19\\x062\\x0ce)\\x08A\\x94\\x84)\\x08R\\x10\\xa4!HC\\x94\\x87)\\x10b\\xa0\\xe5J\\x0c\\x94\\x1dI:\\x0cR\\x90e \\xca1\\x94c1\\x06\\x93\\x15g3\\x94v\\xa0\\xcb9Z\\x835&jL\\xc4\\x15\\xa83PV \\xacAZ\\x939Gb\\x0c\\xc4\\x15\\xa94\\x1a\\xa9=kR\\x0cR\\x14bb\\x0b&\"\\t5\\x1a\\x8bAw\\x8a\\xf1&^+\\xbc\\x17x.\\xf1]\\xa2\\xbbEv\\x82\\xed\\x05\\xda\\x0b\\xbcYX.nT\\x9c\\x9993z\\xa6\\xf5I\\xea\\x8b\\x95\\x07)\\xeeS\\x9a\\xa6-\\'9\\x8aR\\x10\\xa5)\\x8cB\\x14c\\x18\\xc61\\x8cc\\x18\\xc41\\x08b\\x10\\x84!\\x08c\\x10\\x84!\\x08B\\x10\\x84!\\x08B\\x10\\x84!\\x08B\\x10\\x84!\\x08B\\x10\\x84!\\x08B\\x10\\x84!\\x08B\\x10\\xc4!\\x8cF)\\x0cR\\x18\\x84A\\x8a\\xd5\\xa5\\xabK\\x14\\x85 \\xcbJ\\x16\\x93\\xa0\\xc51\\x06Q\\x8c\\xc4\\x19\\xc8C\\x90\\x88)\\x12b\\xb5\\'jN\\xc4\\x1a\\x0bD\\x9c\\xa9\\xb9sz\\xed\\'^O\\x93\\x98\\x93\\x98c\\x19\\x062\\x0cc\\x18\\xccR\\xb1i1J1\\x8c\\x84\\x19\\x08B\\x90\\x84\\x18\\xc8A\\x94\\xa41Jb\\x90\\xc6)\\x8aB\\x90\\x85\\x18\\xccR\\x18\\xa41Hs\\x15\\x071\\xccb\\x0cd\\x18\\x881\\x90b \\xc6\\x83\\x15&+\\x10g$\\xedA\\x9a\\x935&jL\\xd4\\x99\\x88+\\x10V \\xacAZ\\x935\\'Z\\n\\xc4\\x99\\xcbD\\x1a\\xa71)9NR\\x10bb\\x0b6\\xa5\\xe94\\xd8\\x8a\\xbdTrj\\xf5U\\xca\\xab\\x93W&\\xd0]^\\xaa\\xc1W\\x82\\xef\\x05\\xda\\x0b\\xb4W7&MDZ\\x88\\xb52r\\xa4\\xf5E\\xca{R\\xe6%\\xccJPb\\x94\\x84 \\xces\\x1c\\xe7!J!\\x8cB\\x10\\xc61\\x8cb\\x18\\xc41\\x88b\\x10\\x84!\\x08B\\x10\\x84!\\x08B\\x10\\x84!\\x08B',\n",
              " b'\\x10\\x84!\\x08B\\x10\\x84!\\x08B\\x10\\x84!\\x08B\\x10\\x84!\\x08B\\x10\\x84!\\x88C\\x10\\x8aB \\xc5)\\x06b\\x11\\x06*\\xd2\\x85\\xa4\\xecR\\x1a\\xa4=\\x8a{V\\xc5!H:LS\\x94\\x87 \\xd0R$\\xc4bL\\xe5!\\xebD\\x16\\x995T\\x83\\'\\x06N-\\xb4\\xe1(4\\xc5)\\x062\\x0ce \\xd4\\x94\\x14\\x84 \\xc6B\\x0c\\x84\\x19\\x062\\x94\\x85!\\x081\\x90\\x83!\\x06R\\x10\\x84\\x19\\x082\\x90f)\\nB\\x14\\x84)HR\\x10\\x83\\x18\\xc6!\\x8cC\\x18\\x861\\x0cB\\x18\\xc4b\\x0c\\xe5#\\x12w(\\xeeI\\xd8r\\xac\\xe4b\\n\\xc4\\x15g\"\\x8eE\\x9c\\xadI\\x98\\x831\\x06R\\n\\xb4\\x19\\x8a;V\\x86\\xa9(1\\x0cA\\x94bQ\\x89\\x15\\xa1\\xe95\\x1a\\x99\\xb51b$\\xd4\\xcd\\xa9\\x92\\xcf6\\xa6\\x8eU\\x1c\\x9bAvz\\xaa\\xf5Q\\xc9\\x93Q\\x16\"\\x0c;\\xd6w,\\xefY\\xdc\\xb3\\xb1Gj\\xd0\\xc5!\\x07)\\x8aB\\x10e)\\x08B\\x08b\\x10\\x84!\\x08c\\x18\\xc61\\x8cb\\x10\\x861\\x88B\\x10\\x84!\\x08B\\x10\\x86!\\x08B\\x10\\x84!\\x08B\\x10\\x84!\\x08B\\x10\\x84!\\x08B\\x10\\x84!\\x08B\\x10\\x84!\\x08B\\x10\\xc4!\\x88B\\x10\\x84!\\x0cb)\\x08R\\x10b\\x10\\xc4#\\x98\\xadZ\\x9e\\xd5\\xb5ij\\xd2\\xd5\\xa1\\xecL\\x1c\\xb7\\xb1Ob\\x9a\\xa45\\'jN\\xe5!\\xebD\\x18\\x995T\\x83-7\\xd6N\\x83\\x96\\xe6\\xa9\\x071\\x082\\x0chA\\xccb\\x90c!\\x08B\\x0c\\x84\\x19\\x082\\x90\\x86)HB\\x14\\x84)HR\\x10\\xa5!HB\\x0cc\\x18\\x86!\\x0cb\\x18\\xc4A\\x8c\\x83\\x18\\xc6!\\x8cC\\x18\\x861\\x0cb\\x18\\xc4R\\r\\x06*\\x8ee\\xa0\\xcb9Rb$\\xc4Y\\xca\\xc4\\x15g*\\xceF \\xcdI\\xd8\\x83-&Q\\xca\\xc5!\\xedT\\x1c\\xc5\\xa5\\x07)\\x0cA\\x94c9\\x06\\xc4\\x19\\xa8,\\x98\\x98\\xb1\\x11b \\xb3\\xc1F\\x8a\\xcf\\x15\\xa2,D\\xda\\x9a9Tr\\xa6\\xd4\\xc9\\x88',\n",
              " b'\\x8a\\xcf\\x05\\x9e-D\\x9a\\x981\\x0fb \\xc4\\xbd\\x89j\\xd0\\xa4\\x9c\\xe6)\\x081\\x8cC\\x18\\x84!\\x08B\\x10\\xc4!\\x88c\\x18\\xc61\\x08B\\x10\\x84!\\x08B\\x10\\x84!\\x08B\\x10\\xc6!\\x08B\\x10\\x84!\\x08B\\x10\\x84!\\x08b\\x10\\xc4!\\x08B\\x10\\x84!\\x08B\\x10\\x84!\\x08B\\x10\\xc4!\\x88C\\x10\\x84!\\x08B\\x18\\x84R\\x11\\'1\\xccQ\\x8cC\\x10\\x8eb\\xb1H{U\\x07-\\xccK\\x14\\x86\\xad.Z`\\xd5I\\xcc\\x8b\\x98\\xf5\\xa6\\x0bL\\xde\\xca=\\x93z\\xe6\\xf6R.\\x8b\\xda\\xf6\\xadH9\\x083\\x98\\xa89\\xc81\\x90\\x83!\\x06B\\x0c\\x84\\x19\\x082\\x10d \\xcaR\\x18\\xa51Js\\x19\\x071\\x8aC\\x98\\xa6)LR\\x94\\x84!\\x081\\x88b\\x10\\xc6!\\x8cC\\x18\\x86!\\x0cb\\x18\\xc4A\\x88\\xc5\"\\x0cT\\x9c\\xa99Tr\\xa4\\xc4Q\\x88\\xd4\\x99\\x883\\x10V \\xadI\\x9a\\xa3\\xb5Gb\\x90\\xf6\\xaeqt\\xe2\\xf4\\x9c\\xc7)\\nA\\x94c1\\x06\\x92\\x8d\\x87,V\\x88-\\x11b\\\\\\x93AG\\x8a\\xcf\\x05\\x1e\\n<X\\x88\\xb1\\x12j&\\xd4I\\x88\\x8a\\xcf\\x16\"\\x0b;\\xd6w,\\xefZ\\x18\\x93 \\xc41FA\\x88\\x83\\x10\\xc4!\\x08C\\x18\\x861\\x08B\\x10\\x841\\x88c\\x10\\x84!\\x08B\\x10\\x84!\\x08B\\x10\\x84!\\x08B\\x10\\x86!\\x08B\\x10\\x84!\\x08B\\x18\\x841\\x08b\\x10\\xc4\"\\x0cC\\x18\\xc81\\x90b \\xc6Q\\x8c\\xa3\\x19\\x062\\x0cd\\x18\\x881\\x90c\\x18\\x841\\x08\\xa4\\x1a\\xd2\\x86\\xad(1F1\\x88A \\xc6\\x83\\x15\\x8aD\\x1a\\xb8\\xb9\\x8dZZ\\xb4\\xbd\\x89r\\xd1\\x06&\\x8feb\\xda\\xc5\\xb5\\x93\\xa4\\xf6-\\'9\\x88\\x94\\x19H:Ng1e)HA\\x90\\x83!\\x06B\\x10\\x84!\\x08B\\x10\\x84 \\xcaA\\x98\\xa41Js\\x14\\xe61\\x8aC\\x98\\xa89\\xd0s\\xa9IB\\x0eb\\x94\\x84!\\x061\\x88C\\x18\\x86!\\x0cB)\\x08c\\x14\\xa5!\\xcaT\\x9c\\xc81Rb\\xa4\\xe5',\n",
              " b'Q\\xca\\xb4\\x19\\x883\\x12f$\\xcdI\\xda\\xa4=\\x89j\\xd3\\x07.\\x92|\\x1c\\xc4\\x1c\\xa81LB\\x18\\x83Q\\xca\\xd4\\x9d\\x883\\xd4w\\xa8\\xeeI\\x9a\\x82\\xbd&\\x8b\\x10\\xe4\\x9d\\xc9;Rh-\\x12b\"\\xb4Eh\\x8b\\x11\\x05\\xa1\\xeb<\\x16x-\\x10b\\x1e\\xb41GZN\\xa4\\x19H:Ps\\x18\\xa3\\x18\\xc41\\x08B\\x10\\x84!\\x88B\\x10\\x84!\\x08B\\x10\\x84!\\x08B\\x10\\x84!\\x08B\\x10\\x84!\\x08B\\x10\\x84!\\x08B\\x18\\x841\\x08b\\x10\\xc4\"\\x0cC\\x10\\x881\\x10c)\\x06b\\x10\\xa4\\x19H2\\x90e!\\x0cB\\x18\\x84)\\x06R\\x0c\\xa3\\x19\\x88E \\xedZT\\x93\\x98\\xa4)\\x06A\\x8c\\x83\\x11\\x884\\x9c\\xccR\\x1c\\xc4\\xb9\\x89\\x83U\\'\\xb2\\x90mb\\xdaA\\xb2{ \\xd5\\xc1\\xabj\\xd2r\\x90\\xc5#\\xda\\xb5%\\x04\\x18\\xc8A\\x90\\x83!\\x06B\\x0c\\x84!\\x08B\\x10\\x84 \\xc8A\\x94\\x849Js\\x14\\xe6)\\xcaD\\x1c\\xcaJ\\x14\\x94\\xadJZ\\xd4\\xa5%\\x08A\\x8aQ\\x8cC\\x18\\x86!\\x0cB\\x18\\x84c\\x14\\xe79\\x8aS\\x98\\xa81Pb\\xa0\\xa49H\\x93\\x15h3Tw-\\x0cI\\xda\\xa4=\\xabb\\xd2\\xe6*\\x0e[V\\x93\\x98\\x871\\x0cQ\\x98\\x83bO\\'-\\xcaC\\x10f\\xa4\\xceI\\x9a\\x839&rL\\xc4\\x15\\xa93\\x10h-\\x10Z \\xa3\\xc1g\\x82\\xcf\\x16\"ML\\x9a\\x9951jd\\xe5N\\x0b\\xb4\\x9di\\xbe\\xb2t\\x1c\\xc4\\xa0\\xe3\\x18\\xc4!\\x08B\\x10\\x84!\\x08B\\x10\\x84!\\x08B\\x10\\x84!\\x08B\\x10\\x84!\\x08B\\x10\\x84!\\x08B\\x10\\x84!\\x08B\\x18\\x841\\x08b\\x10\\xc4!\\x88C\\x10\\x86!\\x0cb \\xc6R\\x0c\\xc5!\\x88B\\x90d\\x18\\xc81\\x90c \\xc6Q\\x8c\\xa3\\x19HB\\x90g)\\x12s$\\xe6R\\x0e\\xa4\\x1d\\'2\\x0ed\\x18\\xa7)\\x12r\\xb9i\\x8bV\\xd5\\x1d\\xebL\\x18\\x98\\xb5Qr\\xe2\\xe5\\xc1\\xaa{\\x14\\xd5!\\xaaC\\xd8\\xb2\\x90\\x84 \\xc8A\\x90\\x83',\n",
              " b'!\\x06B\\x0c\\x84\\x19\\x08B\\x10e!\\nR\\x18\\xa59\\x8ab\\x90\\xc4!\\x8aD\\x9c\\xc9A\\xd2\\x83\\xad)RR\\x94!\\x072\\x0er\\x94\\xa4\\x18\\xccb\\x90\\x83\\x18\\x84A\\x8c\\xa4!JB\\x90\\x87)NR \\xe5R\\x0c\\xc4\\xa1\\xabK\\x14\\x86(\\xeeZ\\\\\\xb4\\xb9\\x8asT\\xe6)jB\\xd4\\x83\\x94\\x871\\x10b\\xa0\\xc4Z\\x0c\\xe5\\xa1\\x89:\\x8eF \\xadA\\x9a\\x835&jN\\xd4\\x9d\\x883Rv\\xa8\\xecA\\x9c\\x93\\xb9&rL\\xd4\\x99\\xa93\\x12f\\xa4\\xccA\\x98\\x931&ZL\\xb4\\x99i9\\xccQ\\x8cB\\x10\\x84!\\x08B\\x10\\x84!\\x08B\\x10\\x84!\\x08B\\x10\\x84!\\x08B\\x10\\x84!\\x08B\\x10\\x84!\\x08B\\x10\\x84!\\x08B\\x10\\x84!\\x08B\\x10\\x84!\\x08B\\x10\\x86!\\x0cB \\xc6A\\x8c\\xa3\\x19H3\\x10\\x84\\x18\\xc81\\x90c \\xc6A\\x8c\\x83\\x19\\x06\"\\x0cE\\x18\\xca1\\x98\\x839H\\x93\\x99iB\\x90t\\x9c\\xc81Rr\\xad\\'\\x8bW\\x06\\xa9\\x89:\\x8eU\\xa0\\xcbA\\x98\\x93\\xb5Gz\\xd0\\xf5\\xa6\\x0cR\\x90s\\x14\\x85!\\x08A\\x90\\x84!\\x06B\\x0c\\x84\\x19\\x082\\x10\\x84!\\nB\\x18\\xa4)\\x08R\\x10\\xa4!\\xcaC\\x10\\x871Rs$\\xe6R\\x10\\xa4 \\xc5*\\x0ed\\x1c\\xe79\\xces\\x18\\xc5\\x18\\xc41\\x08\\x83\\x19\\x8aC\\x98\\xc89\\x8cB\\x18\\x83A\\xca\\xc5!\\xcd[V\\x96\\xad,R\\x1c\\xc51hsT\\xe6\\xadi9\\xcaC\\x10g)\\x12s$\\xe6Q\\xca\\xc4\\x9d&*LE\\x9c\\xacA\\x98\\x835&jL\\xe5!\\xcaC\\x94v \\xca1Xr\\xb0\\xe5b\\x0c\\xb3\\x94\\xe5!\\x882\\x90g1\\x0eb\\x18\\xa4)\\x06A\\x8cb\\x10\\x84!\\x08B\\x10\\x84!\\x08B\\x10\\x84!\\x08B\\x10\\x84!\\x08B\\x10\\x84!\\x08B\\x10\\x84!\\x08B\\x10\\x84!\\x08B\\x10\\x84!\\x08B\\x10\\x84!\\x08B\\x10\\x84!\\x08B\\x10\\x84!\\x08B\\x10\\x841\\x08b\\x11\\x062\\x0cd\\x18\\xc81\\x94\\x83',\n",
              " b')\\x08Q\\x8c\\xa4\\x19F2\\x90f!\\x0cA\\x9c\\xa4A\\x8a\\x93\\x95\\x06*\\xd0u \\xccJ \\xc5=\\x8a\\x8bW7\\xb6.c\\x98\\x96\\xa9\\x0cI\\xd8\\x83\\xad\\x06Q\\xcc\\xb4\\x19\\x06)\\x8aC\\x10\\x85!\\nB\\x14\\x84!\\x08B\\x0c\\x84\\x19\\x08B\\x10\\x84!\\x08B\\x10\\x84!\\x06R\\x10\\xa4\\x19\\x8aC\\x94\\x871NR-(b\\x94\\x94 \\xe5)\\x8aS\\x14\\xa79\\x8aB\\x10c \\xc61\\x88\\x83\\x1aNt\\x1c\\xcaB\\x10c\\x18\\x841\\x08b\\r\\x8aD\\x1c\\xc75mZV\\xa41ik\\x14\\x94\\x1d\\xabJPb\\x90e \\xceb$\\xe6I\\xca\\xc5 \\xc5\"\\x0cD\\x9c\\xa81\\x14r\\xa8\\xe6Q\\xca\\xa3\\x95\\x89;\\x10t\\x98\\x89)\\x14b\\xac\\xe5I\\x88r\\x90\\xe5!\\x8aB\\x90e \\xc61\\x8cb\\x18\\x84!\\x08B\\x10\\x84!\\x08B\\x10\\x84!\\x08B\\x10\\x84!\\x08B\\x10\\x84!\\x08B\\x10\\x84!\\x08B\\x10\\x84!\\x08B\\x10\\x84!\\x08B\\x10\\x84!\\x08B\\x10\\x84!\\x08B\\x10\\x84!\\x08B\\x10\\x84!\\x08B\\x18\\x841\\x08b\\x10\\xc4!\\x88C\\x18\\x881\\x90c \\xc6A\\x8c\\x83\\x19H4\\x9c\\xcdZ^\\xc5\\xbd\\xabs\\x16\\xf6\\xaePl^\\xd6\\xad/b\\xa0\\xe6E\\xec\\x83\\x99\\x06\\xae\\x0ec\\x98\\xa6\\xad+I\\xd2r\\xa4\\xe59Hb\\x90\\xc4!HB\\x90\\x85!\\nB\\x14\\x84!\\x08B\\x0c\\x84\\x19\\x08B\\x10\\x84!\\x08B\\x10\\x84!\\x06R\\x0c\\x83\\x19\\x8aC\\x94\\x87)\\x10b\\xad(9Jb\\x90\\xc5!H2\\x90\\x84\\x18\\xc6!\\x0cB\\x18\\x84A\\x8cc\\x11\\x8aS\\x98\\xa89\\xcaA\\x8cB \\xc4b\\r\\x05#V\\x87\\xb5Pr\\xde\\xe5\\xb1jsX\\x83\\x98\\xe6*\\xd2\\x83\\x94\\xa6)\\x0eb\\xa0\\xe5A\\x8a\\xe6)\\x089\\x063\\x94\\x8aA\\xd4\\x83\\x98\\x84)\\x06Q\\x8c\\xc4\\x19\\x883\\x94\\x88)\\x1a\\xa4=\\x8aR\\x0eR\\x0cc\\x10\\xc4!\\x8cB\\x10\\x84!\\x08B\\x10\\x84!\\x08B\\x10\\x84!\\x08B\\x10\\x84!\\x08B',\n",
              " b'\\x10\\x84!\\x08B\\x10\\x84!\\x08B\\x10\\x84!\\x08B\\x10\\x84!\\x08B\\x10\\x84!\\x08B\\x10\\x84!\\x08B\\x10\\x84!\\x08B\\x10\\x84!\\x08B\\x10\\x84!\\x08B\\x10\\x841\\x08b\\x10\\xc4!\\x88D\\x18\\xc81\\x90c \\xc6A\\x8c\\xa4\\x19\\xcaS\\x94\\x881Rs)\\x07I\\xccr\\x90\\xe6\"\\xd2h1Ob\\x98\\xa45i\\x83\\x97H\\xba\\xb3\\x85$\\xfa\\xc9\\xf5\\x93\\xe2\\xe6=\\xabR\\x0es\\x14\\xe5)\\x8aB\\x90\\x85!\\nB\\x14\\x84)\\x08B\\x0c\\x84\\x19\\x08B\\x10\\x84!\\x08A\\x90\\x83!\\x06R\\x0c\\xa4!\\x8aB\\x90g)Rs\\x1c\\xa59HR\\x10\\xa4\\x19HB\\x90d\\x18\\xc81\\x8cc!\\x06B\\x0c\\x83\\x19\\x062\\x0cd\\x18\\xc61\\x0cB\\x18\\x84Q\\x88\\xe5\\x1a\\x8eV(\\xeeb^\\xe5\\xc1\\xed{\\x98\\xc6,\\xe72\\x0cS\\x98\\xa5 \\xceb\\x9c\\xc59\\x8a\\xc5\\xa5\\x8bQH2\\x90g1Nb\\x98\\x84)\\x08R\\x0c\\xa4!HD\\x1c\\xcbJ\\x16\\xa45jZ\\x92B\\x0cc\\x10\\x84!\\x08B\\x10\\x84!\\x08B\\x10\\x84!\\x08B\\x10\\x84!\\x08B\\x10\\x84!\\x08B\\x10\\x84!\\x08B\\x10\\x84!\\x08B\\x10\\x84!\\x08B\\x10\\x84!\\x08B\\x10\\x84!\\x08B\\x10\\x84!\\x08B\\x10\\x84!\\x08B\\x10\\x84!\\x08B\\x10\\x84!\\x0cB\\x18\\x841\\x08b\\x10\\xc4!\\x88C\\x18\\xc61\\x10c \\xc6A\\x8c\\xa4\\x19H2\\x8ce\\x18\\xccA\\xa0\\xa4Q\\xca\\xb4\\x19\\xaaD\\x18\\x981Qj\\xa4\\xe5\\xce\\x0c\\xac[y\\xbf\\x15\\x8eo-^x\\xacmHNO{\\xda\\xb5\\xa5(:\\x0cS\\x14\\xa6)\\nB\\x14\\x83!\\x06B\\x0c\\x84\\x19\\x082\\x10\\x84!\\x08A\\x90\\x83)\\x06R\\x0c\\xa4\\x19F2\\x8cf)\\x0eR\\x1c\\xa59Hs\\x14\\xa4\\x19\\x062\\x90e \\xccR\\x94\\x84!\\x061\\x08\\x83\\x19\\x062\\x0cc\\x10\\x86!\\x0cb \\xc6b\\x0c\\xe5\\x1a\\x0cD\\x9c\\xabQ\\xdc\\xd59\\xcbs\\x98\\xe71IB\\x0ed\\x1c\\xc4\\x18\\x8eb\\x94\\x84',\n",
              " b\"!\\x06s\\x15JJ\\x10r\\x90f)\\x081\\x94\\x831Js\\x18\\xe61JD\\xa0\\xeaRV\\xa4\\xa5(!\\x06!\\x08B\\x10\\x84!\\x08B\\x10\\x84!\\x08B\\x10\\x84!\\x08B\\x10\\x84!\\x08B\\x10\\x84!\\x08B\\x10\\x84!\\x08B\\x10\\x84!\\x08B\\x10\\x84!\\x08B\\x10\\x84!\\x08B\\x10\\x84!\\x08B\\x10\\x84!\\x08B\\x10\\x84!\\x08B\\x10\\x84!\\x08C\\x10\\x86!\\x0cB\\x18\\x841\\x08c\\x10\\xc4!\\x88C\\x18\\x861\\x10c\\x18\\xc6A\\x88\\x83\\x19F2\\x90h)\\x14r\\xad\\x06j\\x8f\\x06\\xaa\\rS\\xd8\\x981Pj\\xa4\\xe5\\xcd\\xeb\\xbc\\xdf\\xabK7\\x96o,\\xdeZ\\xc4\\xf9\\xbb\\xebV\\xade9BQ|\\x1c\\xd7\\xb5\\x89A\\xcaB\\x14\\x84)\\x08R\\x10\\xa4!\\x08B\\x10\\x84!\\x08A\\x94\\x839Jr\\x94\\xc4\\x19F2\\x90g)X\\xa4)\\x079Jb\\x90\\xa4\\x19F2\\x90e!\\x0cR\\x14\\x84 \\xc61\\x08b\\x10\\xc4!\\x8cC\\x10\\x861\\x14\\x831H\\x82\\x91'*\\x90d\\x18\\x899X\\xb4\\xb5\\x8ak\\x15\\x07\\xb9\\x8cZ\\x10s\\x9c\\xc5!\\x0cR\\x98\\xa5 \\xc4A\\x8c\\xe72\\x92\\x83\\x14\\xa5!\\x081\\x10c9\\xcc\\x83\\x9c\\x84\\x18\\xc4!\\x8cC\\x18\\xc61\\x8cb\\x10\\x84!\\x08B\\x10\\x84!\\x08B\\x10\\x84!\\x08B\\x10\\x84!\\x08B\\x10\\x84!\\x08B\\x10\\x84!\\x08B\\x10\\x84!\\x08B\\x10\\x84!\\x08B\\x10\\x84!\\x08B\\x10\\x84!\\x08B\\x10\\x84!\\x08B\\x10\\x84!\\x08B\\x10\\x84!\\x08B\\x10\\x84!\\x08C\\x10\\x86!\\x0cB\\x18\\x841\\x08b\\x10\\xc6!\\x8cC\\x18\\xc81\\x90c \\xc6A\\x8c\\xa3\\x19H3\\x94\\x891Tr\\xb1'r\\xd0\\xf6%\\xcbC\\xd8\\xa85S\\x831Hj\\xf3\\xcd\\xe7\\x9b\\xcb8\\x9e\\xf3Nj\\x9d\\xddy\\xbb^\\xf3\\xbdc\\xac\\xd7Z\\xbd\\xedH9\\xa99\\x92s \\xc51Hb\\x10\\xa4!\\x88C\\x10\\x85!\\x0cB \\xc5I\\xccr\\x90\\xc5!\\x884\\x18\\xacRT\\x83\\xb1(\",\n",
              " b'R\\x0e\\x93\\x98\\xa4\\x19\\x062\\x8cd\\x18\\xc81\\x90b\\x18\\x841\\x08\\x83\\x11\\x06\"\\x0cD\\x18\\x8a1\\x18\\xa39H\\x93\\x95\\'*Nd\\x1c\\xaaI\\xd8\\xb4\\xa9HRN\\xe6\\xb1\\x8cZ\\x10t\\x1c\\xc71\\x8cR\\x98\\xc5\\x18\\xc41\\x88\\x83\\x19\\xccT\\xa0\\xe71\\x8cR\\x0cbA\\xceR\\x94c\\x10\\xc4!\\x08B\\x10\\x84!\\x08B\\x10\\x84!\\x08B\\x10\\x84!\\x08B\\x10\\x84!\\x08B\\x10\\x84!\\x08B\\x10\\x84!\\x08B\\x10\\x84!\\x08B\\x10\\x84!\\x08B\\x10\\x84!\\x08B\\x10\\x84!\\x08B\\x10\\x84!\\x08B\\x10\\x84!\\x08B\\x10\\x84!\\x08B\\x10\\x84!\\x08B\\x10\\xc41\\x88C\\x10\\x86!\\x0cB\\x18\\x841\\x08b\\x10\\xc6!\\x8cc\\x10\\x861\\x90c \\xc6A\\x8c\\xa4\\x19\\x88C\\x94\\x881\\x16\\x839Hr\\xd0\\xf5\\xa6.\\\\\\xde\\xcbI\\xd9\\xacw\\x89\\xf3V\\xe6\\xed\\xde[\\xbb\\xb77]\\xe6\\x99\\xb4uyoU\\xef/\\xcd\\xe3\\x18\\xac\\xa5\\x05\\xa9\\x0cR\\x1e\\xc55HZ\\x0er\\x95\\x06*Nd\\x98\\xc81PR\\xa4\\xc5A\\x8ar\\x90\\xe5\"\\x90f\\xadKJ\\x14\\x83\\xa4\\xe5R\\x0cr\\x94\\x83\\x19\\x062\\x8ce \\xc81\\x8cB\\x18\\x84A\\x89\\x06\"NT\\x98\\xaaA\\x9a\\xa4\\xad\\'9Hr\\x91\\'*\\x92u\\xa9\\x0cZV\\xa41iB\\x0cs\\x95):\\x10s\\x18\\xa6)\\nR\\x18\\xa4A\\xccR\\x10b\\x11\\x065%\\tA\\xd2\\x83\\x98\\xa5!\\x08s\\x18\\xa5)\\x08B\\x0cc\\x18\\xc4!\\x08B\\x18\\xc6!\\x08B\\x10\\x84!\\x08B\\x10\\x84!\\x08B\\x10\\x84!\\x08B\\x10\\x84!\\x08B\\x10\\x84!\\x08B\\x10\\x84!\\x08B\\x10\\x84!\\x08B\\x10\\x84!\\x08B\\x10\\x84!\\x08B\\x10\\x84!\\x08B\\x10\\x84!\\x08B\\x10\\x841\\x08b\\x10\\xc4!\\x88C\\x10\\x84!\\x0cB\\x18\\x841\\x08b\\x10\\xc6\"\\x0cc\\x18\\x86!\\x0cc \\xc6A\\x8c\\xa3\\x19H3\\x10\\x87)\\x16s1\\x06r\\x8f\\x06\\xa6O]d\\xdc\\xdeZ\\xc4\\xf7\\x9aww',\n",
              " b'\\xef/\\xcd\\xd7\\x9b\\xaf5]bZ\\xbc\\xb9\\xaa\\xf7\\x98\\xde\\xf1Z\\xcaR|\\x1e\\xc8\\xbd\\x91r\\xe4\\xf6=\\x8ar\\x92\\xc4\\xa1\\xaaC\\x12\\x85\\xa0\\xea9\\x96\\x83\\xa4\\xe6A\\x8a\\x83\\x15&*\\xd2\\x84\\x9c\\xa99\\x98\\x94-\\'I\\xceQ\\x8c\\x83\\x11\\x062\\x0ce\\x18\\xc81\\x98\\x849\\x8a\\x83\\x99\\'2\\x0cT\\x98\\xadR\\x1e\\xd5\\xa9\\x07A\\x8a\\x93\\x99\\x06)\\xcaD\\x18\\xa89\\x92\\x83 \\xe6Z\\x90s\\x14\\xa4!\\x8aR\\x10e!\\x081\\x94\\x83{\\x14\\xf6(\\xe6)\\x064\\x1c\\xcbR\\x14\\x94 \\xe61JR\\x90\\xa4!\\xces\\x9c\\xe4!\\x04!\\x08B\\x10\\x84!\\x08B\\x10\\x84!\\x08B\\x10\\x84!\\x08B\\x10\\x84!\\x08B\\x10\\x84!\\x08B\\x10\\x84!\\x08B\\x10\\x84!\\x08B\\x10\\x84!\\x08B\\x10\\x84!\\x08B\\x10\\x84!\\x08B\\x10\\x84!\\x08B\\x10\\x84!\\x08B\\x10\\x841\\x08b\\x10\\xc4!\\x08C\\x10\\x86!\\x0cb \\xc61\\x08c\\x19\\x062\\x0cc\\x18\\xc6!\\x0cb \\xc6R\\x0c\\xa3\\x19\\x884\\x14\\xa99Vr\\xb1\\x06z\\xd1\\'*\\xf3w3>j\\xbd\\xdd\\xb9\\xaa\\xf3v\\xe6\\xab\\xcd\\xd7\\x9a\\xa75N\\xea\\xbc\\xcd9\\xabg\\x14\\xbd\\xe7j\\xca\\xb4\\x8c\\xe2\\xfaE\\xd5\\x93\\xa2\\xe5\\xb5Hz\\xd4\\xf5\\xa5\\x89;\\x10v\\xa5\\x0cI\\xd4s \\xa59\\x08\\x82\\x95\\'2\\x0cS\\x94\\x881\\x10b\\x9c\\xa4 \\xc6A\\x08\\x83\\x11\\x06\"\\x0cE\\x18\\xccR\\x18\\xa4)\\x06R\\x0c\\xe5\"Pf)\\nA\\x92s \\xc59Hr\\x91\\x072\\x0eS\\x10e \\xccR\\x18\\x841Hs\\x14\\xc5!H2\\x0cD\\x18\\xc8A\\x94\\x83jOH5\\xaaAH3\\x98\\x8cZX\\xb4\\xa9(J\\x0e\\x83\\x9c\\xc6)\\x8cS\\x18\\xa3\\x18\\xc4!\\x0cB\\x10\\x84!\\x08B\\x10\\x84!\\x08B\\x10\\x84!\\x08B\\x10\\x84!\\x08B\\x10\\x84!\\x08B\\x10\\x84!\\x08B\\x10\\x84!\\x08B\\x10\\x84!\\x08B\\x10\\x84!\\x08B\\x10\\x84!\\x08B\\x10\\x84!\\x08B\\x10\\x84!\\x08B',\n",
              " b'\\x10\\x84!\\x08b\\x10\\xc4!\\x88C\\x10\\x86!\\x0cb\\x18\\xc61\\x88\\x83\\x19\\x061\\x88D\\x18\\xc6!\\x10b \\xc6R\\x10\\xe4!\\xcaD\\x98\\xaa9Z\\x93\\xc1h\\xac\\x19\\x9a\\xc35\\x86)\\x0cV\\x17\\x9b\\xed\\'b\\xb0\\xd5\\xe5\\xacO\\x9a\\xa75]\\xe6\\x99\\xb4uysV\\xe6\\xad\\xbcSx\\xa5\\xa7\\n\\xc5\\xb4{\"\\xd5A\\x8br\\xd2\\xc4\\x9d\\x89;\\x96\\x96%\\x07)LB\\x18\\x839\\x06\\x82\\x90\\xe4\"\\nD\\x98\\xa8)\\x0cA\\x90b \\xc4A\\x88b\\x11\\x884\\x9c\\xabJ\\x12s\\x10b)\\x06\\xd5\\xa5\\xedT\\x1c\\xc8=\\xafj\\xd2\\x83\\x1c\\xa4A\\x8a\\x83\\x14\\xa4\\x19\\x8aD\\x1c\\xc7)\\x0cR\\x10c \\x84R\\x0c\\xe6)H1\\x8cD\\x18\\x881\\x14\\x839G\\x16\\xa6oZ\\x90c\\x14\\x8aI\\xd6\\xa41iZ\\x90\\xb5%\\x088\\xc61\\x8cC\\x18\\x84!\\x10\\x84!\\x061\\x08c\\x18\\xc6!\\x08B\\x10\\x84!\\x08B\\x10\\x84!\\x08B\\x10\\x84!\\x08B\\x10\\x84!\\x08B\\x10\\x84!\\x08B\\x10\\x84!\\x08B\\x10\\x84!\\x08B\\x10\\x84!\\x08B\\x10\\x84!\\x08B\\x10\\x84!\\x08B\\x10\\x84!\\x08B\\x10\\xc4!\\x88C\\x10\\x861\\x0cb\\x18\\xc4A\\x8c\\x83\\x18\\xc6!\\x88D\\x18\\x881\\x10c(\\xc6b\\r\\x05\"LU\\x9c\\xadI\\xe4\\xc5V\\r\\xb4\\x9fX\\xb6o\\\\\\x9c\\xb99s{-\\'j\\xf2\\xde\\'\\xbc\\xd3\\x99\\xae\\xf1=^z\\xbc\\xb7\\x9asV\\xde)\\x8aB\\xf3~\\'\\t\\xbd\\x90b`\\xb4\\xbdijP\\xe5%\\xcaK\\x12u \\xcaA\\x98\\xa4A\\xab\\x83\\x15\\x05\\xa6,L\\x16\\x96\\xa4\\xe91NR\\x14b \\xc4b\\x91i;\\xd6\\x96\\xa9\\x06 \\xc81\\x1c\\xa4R\\x0e\\xc5!\\xccRNc\\x14\\x871\\x0eb\\x14\\x83 \\xc4A\\x88\\xc4!\\x062\\x8cI9\\x8eb\\x90B\\x18\\x84Q\\x88\\xe6\"\\xd2s\\x14\\x85 \\xcaA\\x90b(\\xc4\\xd4\\x9a\\x8f\\\\\\x1a\\xa5 \\xe89V\\xa3\\xb9\\xaak\\x12\\xe6\\xad)9\\x8aB\\x90\\x85)\\x061\\x18\\xa5',\n",
              " b')\\x08R\\x10\\xa5!\\x061\\x8cB\\x10\\x84!\\x08B\\x10\\x84!\\x08B\\x10\\x84!\\x08B\\x10\\x84!\\x08B\\x10\\x84!\\x08B\\x10\\x84!\\x08B\\x10\\x84!\\x08B\\x10\\x84!\\x08B\\x10\\x84!\\x08B\\x10\\x84!\\x08B\\x10\\x84!\\x08b\\x10\\xc4!\\x88C\\x10\\x86!\\x0cB\\x18\\x841\\x08b\\x18\\xc6\"\\x0cd\\x18\\xc81\\x94\\x831\\x06r\\x91&+Rx-2r\\xe8\\xf6\\xc5\\xaar\\xd0\\xe5\\x1d\\xca;\\xd6\\x99\\xb9u\\x8buis4\\xe6\\xad\\xcd[\\x9a\\xae\\xf1=ZZ\\xc4\\xf9\\x9a\\xf34\\xcd\\xa5X\\xb6\\xf3~k\\x1a=\\xb1j\\xdc\\xa4-\\x06Q\\xcc\\xb4\\x1d\\xcaL\\xe0\\xdbR\\x18\\xbc\\xf7\\xabwx\\xe6\\xad\\xcc\\xd7V\\x8d\\xa0\\xd95OR\\x1e\\xa45\\'jN\\xf5\\xa5\\xebK\\xd6\\x95 \\xc81\\x16\\x83\\xb9\\x8a{X\\xc5!\\xabJ\\x90d\\xa0\\xc9A\\x92s\\x1c\\xc51Hb\\x90\\xc4\\x19\\x8aD\\x9c\\xaa9V\\x93(\\xe61\\x06A\\x89\\x05\"\\xd0g1+A\\x92r\\x94b \\xc4\\x93\\x12ME`\\xc7\\xb1-Z\\x16\\x935h{V\\xe6)jB\\x0ec\\x14\\x861HB\\x14\\xa41JR\\x10\\xc5!\\x8aB\\x90c\\x10\\x84!\\x08B\\x10\\x84!\\x08B\\x10\\x84!\\x08B\\x10\\x84!\\x08B\\x10\\x84!\\x08B\\x10\\x84!\\x08B\\x10\\x84!\\x08B\\x10\\x84!\\x08B\\x10\\x84!\\x08B\\x10\\x84!\\x08B\\x10\\x84!\\x08B\\x10\\xc4!\\x88C\\x18\\x86!\\x0cB\\x18\\x841\\x08\\x83\\x19\\x062\\x0cE\\x18\\xca1\\x98\\x839H\\xa3\\x15\\xebLX\\xa95ss$\\xd5\\xc1\\x8a\\x8bU\\'.\\x8fe\\xa4\\xebI\\xf9\\xacw\\x9aww\\xf7s\\xbc\\xd77\\x9em-\\xe2{\\xcd/HZN\\xb4\\x9d\\x99\\xc3\\x13\\x85\\x1e\\xd8\\xb5oZ\\\\\\xa4A\\x8a\\xac[\\x8aCW\\x9fwow^\\xf6\\xfd\\xed\\xfb\\xdb\\xf7\\xb5\\xcdW\\x14}\\xe4\\xdb\\xc9\\xb6\\x8bf\\xe5\\xb1\\'AH\\xb3\\x95\\xebC\\xd8\\xa7\\xb1Qj\\xe4\\xf6J\\x0eb\\xd2\\xb4\\x9d\\xccS\\x14\\x95 \\xebJ\\x14\\x83\\x98\\xa4',\n",
              " b'R\\x0e\\xd5\\xa5\\x8aJ\\xd0w)\\x11bb\\xc4\\xc1hz\\xd0\\x93\\x14\\xe5\\x1a\\xd0f$\\xccI\\xd6\\x83$\\xe5(\\xc4\\x82\\x8d\\xeb=\\x1e\\xb850bZ\\xa4-&\\x8b\\xd9\\x17\\xb1\\xeeZ\\x92t\\x1c\\xc9A\\xd0s\\x18\\xa41H\\x83\\x15\\'1\\xcaC\\x14\\x83\\x10\\x84!\\x08B\\x10\\x84!\\x08B\\x10\\x84!\\x08B\\x10\\x84!\\x08B\\x10\\x84!\\x08B\\x10\\x84!\\x08B\\x10\\x84!\\x08B\\x10\\x84!\\x08B\\x10\\x84!\\x08B\\x10\\x84!\\x08B\\x10\\x84!\\x08b\\x10\\xc4!\\x88C\\x10\\x86!\\x0cB\\x18\\x841\\x08c\\x10\\xc4\"\\x0ce \\xccA\\xa4\\xc5Z\\x0c\\xe5\"\\x0bLZ\\xa95oZ\\\\\\xa4=H\\x83\\x13&\\xaao]b\\xeb\\xce\\x19\\xb4\\xb3i\\xe6\\xf3\\xc5\\xa5zCW\\x9e\\xf1LV4\\x83(\\xf6^.\\xc4\\x9fh6nd\\x18\\xa99v\\x8b\\xb17\\xe6\\x90\\xd5\\xa3\\xccO\\xba\\xa7\\xb9~\\xf7=\\xee\\xbb\\xddw\\x98\\xee\\xed\\xbcOU~\\xa8\\xfcI\\xb4z\\xe2\\xc45&rO\\x16%\\xeaC\\x96\\x971-R\\x16\\x93\\xa9\\x06j\\xd2\\xf6\\xadH1\\xccC\\x94g)\\x0eR\\x18\\xa49\\x88r\\x90\\xe5\"\\x0cD\\x98\\xadA\\xa2\\xc4\\xc9\\x89\\x9b\\x13\\x15\\xa1g*LE\\x1c\\xaa1\\x14b\\xb1G9F\\x82\\x91\\x883Rh\\xb5MQ\\xdc\\xb41\\'\\x83U86/cV\\x95 \\xebI\\xd2\\x83$\\xe6b\\x90\\xb4\\x9dG*\\x0cC\\x10b\\x10\\x84!\\x08B\\x10\\x84!\\x08B\\x10\\x84!\\x08B\\x10\\x84!\\x08B\\x10\\x84!\\x08B\\x10\\x84!\\x08B\\x10\\x84!\\x08B\\x10\\x84!\\x08B\\x10\\x84!\\x08B\\x10\\x84!\\x08B\\x18\\x84!\\x08B\\x10\\x84!\\x88C\\x18\\xc6!\\x0cB\\x18\\x841\\x08\\x83\\x11\\x063\\x10i1V\\x83-\\x06Q\\xca\\xb3\\x99\\xa83\\xd4\\x87$\\xedI\\x9c\\xa4=Hz\\xd1&\\xaa\\xb0n\\'\\x0cR5\\x8b\\xab\\x17VO\\xbc\\xe1\\xabKW\\x9d\\xa6\\xfaA\\x96\\x8bq\\'\\xda\\r\\xa3\\x976\\xaa\\xaf]\\xa0\\xcb\\xc5\\xb8\\x93\\xb37\\xe6\\x8f',\n",
              " b'\\xcd\\x1f\\xaa\\xc3V\\x8f3>j\\xbc\\xdd\\xb9\\xbbww\\xee\\xed\\xcdS\\x98\\x97/.bz\\xac*\\xf5\\xd1\\xeb\\xa3\\x977.oc\\xd8\\xa5\\xa4\\xea9\\x92b\\xad\\x06R\\x0c\\xa4\\x1dH:\\x90d\\x98\\xa91NR\\x18\\xa41FR\\x0c\\xa4\\x19\\x883\\x10f \\x94b9\\x06\\x82\\x8dF\\xaaLK\\x10U\\x18\\x8b9V\\x83(\\xe5R\\x0c\\x83\\x11G*\\xd0X10bZ\\xa3\\xb9i\\x8b\\x97\\'\\xb2Oc\\xda\\xa6\\xad\\x0ebZ\\xb4A\\xcb\\x94Z\\xf6%\\xebC\\x10d\\x18\\xa3\\x18\\x84!\\x08B\\x10\\x84!\\x08B\\x10\\x84!\\x08B\\x10\\x84!\\x08B\\x10\\x84!\\x08B\\x10\\x84\\x11\\x08B\\x10\\x84!\\x08B\\x10\\x84!\\x08B\\x10\\x84!\\x08B\\x10\\x84!\\x08B\\x10\\x84!\\x08B\\x10\\x84!\\x8cc\\x18\\xc6!\\x0cB\\x18\\x841\\x88\\xa4\\x19\\xcaD\\x9c\\xaa9Ts$\\xc5AH\\x93\\x11g3Pg\\xa9\\x10Z`\\xb4\\xc5\\x89\\x93\\x97X6\\xb1u \\xdaA\\xb5\\x8b\\xab\\x17f\\x91\\xd5e\\x9a\\xc6\\xf3}b\\xea\\xc1\\xb4{&\\xd5I\\x89\\x93SG*\\xaf]\\xa0\\xcb\\xc5\\x96\\x83-\\x06Z-\\xbc[\\x89\\xbb3~\\xed\\x1d\\xe2|\\xcd;\\xbbw\\x98\\xf7s\\xee\\xe3\\xbc\\xbfwl\\xdeY\\xa3\\xf3G\\xe2o\\xb4\\x9c\\xf6)i2\\xd0e \\xc91\\x12r\\xa8\\xe6A\\x8ab\\x0c\\xe5!\\xcaC\\x10g)\\x12b\\xa4\\xc59Hb\\x90\\xa3\\x12NV\\xa9\\t1PQ\\xa4\\xc4i\\xcb\\x15\\x1elL\\xda\\x98)\\rI\\x98\\x93$\\xe5Z\\x0c\\x93\\x95\\x89;\\x12v\\xa9\\x0fj\\x9a\\xb4\\xadG{T\\xe6&\\rT\\x1c\\xb7\\xb1Pr\\xa5\\x06VN\\xa4[i:\\xb0e\\x1e\\xc6$\\xe5 \\xc4!\\x08B\\x10\\x84!\\x08B\\x10\\x84!\\x08B\\x10\\x84!\\x08B\\x10\\x84!\\x08B\\x10\\x84!\\x08B\\x10\\x84!\\x08B\\x10\\x84!\\x08B\\x10\\x84!\\x08B\\x10\\x84!\\x08B\\x10\\x84!\\x08B\\x10\\xc4!\\x8cc\\x10\\x86!\\x8cB\\x18\\xc6R\\x0c\\xe5\"\\xd0f$\\xecJ\\x18\\x83\\xb1\\'',\n",
              " b'b\\x0e\\xd4\\x9d\\xcaC\\xd6\\x98\\xb1Qb\\xa2\\xd5I\\xab\\x9b\\xd9H6N\\\\\\x9c\\xc99s{+\\x06\\xdeN\\xb4[G\\xb2n\\\\\\x9a\\xa95Qbb\\xc4\\xc5h\\x93\\x136\\xaa\\x8eU^\\xba\\xbduz\\xeb\\x06Z\\r\\xbc\\x9d\\x89\\xbfT\\x86\\xab\\x1dV;\\xbc\\xb9\\x9asU\\xe6\\xeb\\xcc\\xd3w\\x96k\\rZ\\x1a\\xac)\\x06\\xc5\\xab{\\x12\\xa4\\x19G*\\xd2t\\x98\\x8b9\\x94\\x83 \\xc49Hb\\x0c\\xa4\\x19\\xcaC\\x94\\x86 \\xccA\\x9c\\xa4R\\x0c\\xb4\\x9d\\xebL\\xe0\\xd7\\xb1NR\\x12b$\\xa49\\x06\\xa3\\x11\\xe94\\xda\\xaa\\xbd\\x90Z\\x1e\\xb49iZL\\xb4\\x9dH3T\\x94\\x1c\\xa89Ps\\x10c)\\x061\\x88\\xa4\\x1aPd\\xa0\\xccR\"\\xf6J\\x0c\\x8b\\xd7X\\xb6\\xb0c\\xd6\\x84\\x98\\x86!\\x06!\\x08B\\x10\\x84!\\x08B\\x10\\x84!\\x08B\\x10\\x84!\\x08B\\x10\\x84!\\x08B\\x10\\x84!\\x08B\\x10\\x84!\\x08B\\x10\\x84!\\x08B\\x10\\x84!\\x08B\\x10\\x84!\\x08B\\x10\\x84!\\x08B\\x10\\xc4!\\x88C\\x18\\x86!\\x0cB)\\x06\\x83\\x15H2\\xd0v\\xa9\\x0cI\\xda\\x93\\xb9Hz\\xd3\\x05\\xa6\\x0cL\\x9a\\xa8\\xb1Qb\\xa2\\xc5I\\xab\\x93W\\x16*-TX\\x98\\xb5Sr\\xe8\\xf5\\xc9\\xaa\\x8b\\x13\\x16&,LV\\x88\\xb11Z\"\\xb4Ah\\x8a\\xd1&&lL\\xda\\xaa9u{-\\x06\\xdeN\\xbc\\xdfy\\xbe\\xf3}\\xe6\\xfcR\\x1a\\xb4\\xb9\\x8an\\xf2\\xd5\\xa3\\xbb\\xcbv\\x96\\xab\\x1b\\xc9\\xf0b\\x96s-\\x06I\\xca\\xa3\\x15h2\\nE\\x1c\\xadR\\x10b\\x98\\xa41\\x08R\\x0c\\xc4!\\x883\\x10\\x85 \\xc81\\x10b1H\\xa4\\x19\\xaaCT\\x86$\\xf0Z\\\\\\xa41\\x06AHQ\\x89&+\\x10X\\xb11j\\x9a\\xa3\\xad\\'b\\xd0\\xb4\\xa1\\x071\\x8aA\\x08B\\x10D \\x88B\\x10\\x82!\\x08B\\x10\\x84!\\x08B\\x10\\x861\\x14\\x839\\x88\\xe6&.S\\xd8\\x96$\\xe7)\\x061\\x88B\\x10\\x84!\\x08B\\x10\\x84!\\x08B\\x10\\x84!\\x08B',\n",
              " b'\\x10\\x84!\\x08B\\x10\\x84!\\x08B\\x10\\x84!\\x08B\\x10\\x84!\\x08B\\x10\\x84!\\x08B\\x10\\x84!\\x08B\\x10\\x84!\\x08B\\x10\\xc4!\\x88C\\x10\\x861\\x90c1H\\x93\\x99\\x06*LV\\xa9\\x0fb`\\xc4\\xbdhz\\x90\\xf5\\xa2\\x0bLX\\x98\\xb1Pb`\\xb4\\xc1iz\\xd1\\x05\\xa6\\x0bLX\\xa95Qb`\\xb4=H\\x82\\xd1\\x05\\xa2\\nD\\x14\\x88-\\x11Z\"\\xb4Eh\\x8a\\xd1&&mU\\x1c\\xbbA\\xb7\\x8b\\xaf\\'\\xe2p\\xb4\\xdfzC\\x15\\x8e+,\\xday\\xac\\xb3Ybp\\xc4\\xdf\\x89\\xc2\\xb1t\\x9c\\xc7-J9\\x90R \\xa4I\\x8a\\x92\\x91\\x05\\x1b\\x12t\\x9c\\xc5 \\xc81\\x10b \\xc41\\x08b\\x10\\xc4!\\x88C\\x10\\x86!\\x0cB\\x18\\x84A\\x88\\xe5\"\\x8eU\\x1c\\xab9Z\\x93\\xb5\\'j\\x8e\\xa3\\x95%\"LG(\\xeeZ\\x1e\\xd5%\\x071HB\\x0cB\\x10\\x84!\\x08B\\x10\\x84!\\x08B\\x10\\x84!\\x08B\\x10\\x84!\\x08B\\x10\\x84!\\x0cc\\x10\\x841\\x08\\x83\\x1a\\xd0v\\xad\\'1H1\\x8cc\\x10\\x84!\\x08B\\x10\\x84!\\x08B\\x10\\x84!\\x08B\\x10\\x84!\\x08B\\x10\\x84!\\x08B\\x10\\x84!\\x08B\\x10\\x84!\\x08B\\x10\\x84!\\x0cC\\x18\\xc61\\x8cc\\x10\\x84!\\x08B\\x10\\x84!\\x08C\\x10\\x861\\x8cc)\\x06b\\x10\\xe5\"\\x90f\\xa9\\x0eR\\x1e\\xb4=ir\\x90\\xd4\\x9d\\xcaCT\\x86\\xa4\\xedI\\xde\\xa4E\\x8a\\x93W&\\xaa\\x0bL\\x14\\x87\\xa9\\x0fI\\xdc\\x93\\xbd\\'\\x82\\x91\\x05\"\\nD\\x14x-\\x10Q\\xe0\\xb4I\\x89\\x93U7.\\x8e]`\\xdbE\\xd6\\x8b\\xab\\x06\\xcd\\xec\\x93\\xd9H\\xbe\\xb2\\x85\\xe7\\x0c\\xdaV\\x9c&\\xf6\\xcd\\xcc\\x83V\\xd5%\\x8aBPs\\x94\\x85 \\xccA\\xa8\\xe6I\\x8a\\x82\\x91&)\\xcaR\\x0cD\\x18\\x881\\x0cB \\xc41\\x88b\\x10\\xc4!\\x88C\\x10\\x86!\\x0cB\\x18\\x841\\x08b\\x11F5\\x1c\\xca9\\x92b\\xa8\\xe5jL\\xf5\\xa1\\xa9:\\x8eU\\x1c\\xaaA\\x9a\\xb4\\xa5\\'',\n",
              " b'\\x10\\x84 \\x84B\\x10\\x84\\x11\\x08B\\x10\\x84!\\x08B\\x10\\x84!\\x08B\\x10\\x84!\\x08B\\x10\\x84!\\x0cc\\x10\\x84!\\x08B\\x10\\xc62\\x10d \\xc4!\\x08B\\x10\\x84!\\x08B\\x10\\x84!\\x08B\\x10\\x84!\\x08B\\x10\\x84!\\x08B\\x10\\x84!\\x08B\\x10\\x84!\\x08B\\x10\\x84!\\x08C\\x10\\xc61\\x8cc\\x18\\xc62\\x0cc\\x10\\x84!\\x08B\\x10\\x84!\\x08C\\x10\\x861\\x8cc \\xc6b\\x11\\'*\\x90e\\x1c\\xccA\\x98\\x93\\xb9Hr\\xd0\\x93\\x15&*\\nD\\x98\\xab9\\x9a\\x93\\xc1iz\\x90\\xf5!\\xe9;\\xd2w$\\xeeI\\xde\\x93\\xb9\\'rN\\xe4\\x19\\xe9;\\xd2x)\\x10Z$\\xc5I\\xaa\\x9b\\x97\\x16*,LX\\xa99\\x91j\\xe4\\xe5\\xce\\x0e\\xa4]z\\xca\\xb3\\x8c\\xde\\xe85jA\\x90b\\x9c\\xa41\\x06\\x82\\x91\\x05\"\\x0cU\\xa0\\xebA\\xd0b\\xa0\\xc49\\x06\\x93\\x98\\x83\\x18\\xc4\"\\x0cD\\x18\\x86!\\x10b\\x18\\x84A\\x8c\\x83\\x19\\x062\\x90d\\x18\\x86!\\x0cB\\x18\\xc41\\x08B\\x10\\x84!\\x88D\\x18\\xc81\\x10b1H\\xc4\\x9d\\x89;\\x12t\\x9c\\xc7)\\x0cb\\x18\\xc51\\x8a!\\x08B\\x10\\x84!\\x08B\\x10\\x84!\\x08B\\x10\\x84!\\x08B\\x10\\x84!\\x08B\\x10\\x86B\\x08C\\x10\\xc61\\x90c \\xc8Q\\x0cc\\x18\\xc61\\x88B\\x10\\x84!\\x08B\\x10\\x84!\\x08B\\x10\\x84!\\x08B\\x10\\x84!\\x08B\\x10\\x84!\\x08B\\x10\\x84!\\x08B\\x10\\x84!\\x08B\\x10\\xc61\\x8cc\\x19\\x061\\x88B\\x10\\x84!\\x08B\\x10\\x84!\\x8cC\\x10\\x861\\x8cb \\xc6R\\x0c\\xc5!\\xcaD\\x98\\xab9\\x96s$\\xc5I\\x8ar\\x90\\xe5\"\\nD\\x98\\xa81Tb\\xac\\xe6jN\\xe4\\x9d\\xc8;\\x90w \\xceA\\xda\\x835\\x06j\\x0c\\xd4\\x19\\xc94\\x14\\x88\\xad2j\\xa4\\xd5A\\x89j\\x90\\xb4\\x19\\x89;Rw)\\x10b\\xa4\\xf6\\xc1\\xabr\\xd4\\xd5\\xa9\\'1\\xcaC\\x90g)\\x10b\\xa0\\xc5I\\xcc\\xa3\\x99&)\\xcaC\\x10f \\xccA\\x98\\x83',\n",
              " b'1\\x06A\\x8cb\\x10\\xc4!\\x88C\\x18\\x881\\x0cB\\x18\\x84A\\x88\\x83\\x11\\x06\"\\x0ce \\xceR\\x14\\x83\\x18\\x841\\x08b\\x10\\xc6!\\x88D\\x18\\xc6!\\x0cB\\x18\\x84Q\\x89\\x06*\\xd2v)%!\\x04!\\x08B\\x10\\x84!\\x08B\\x10\\x84!\\x08B\\x10\\x84!\\x08B\\x10\\x84!\\x08B\\x10\\xc61\\x8cb\\x10\\x8e\\x95\\x1d*J\\xdad(\\x869\\na\\x90\\xa3!\\x062\\x08B\\x10\\x84!\\x08B\\x10\\x84!\\x08B\\x10\\x84!\\x08B\\x10\\x84!\\x08B\\x10\\x84!\\x08B\\x10\\x84!\\x08B\\x10\\x84!\\x08C\\x10\\xc61\\x8cc\\x18\\xc4!\\x08B\\x10\\x84!\\x08B\\x10\\x84!\\x08B\\x10\\x86!\\x0cB\\x18\\x861\\x88\\x83\\x19\\xcaF%\\x0cI\\xd2b\\x9c\\xa41\\x08r\\x10\\xc4!\\x883\\x10f \\xceB$\\xc5a\\xcc\\xd4\\x9d\\xc9;\\x92v\\xa0\\xcdA\\x9c\\x839\\x07zN\\xf4\\x9e\\x0bDX\\x98\\xb5Pb\\x98\\x93\\xac\\xe6Q\\xcc\\xb3\\x99g3\\x94\\x88\\xb5pb\\xd8\\x94 \\xc59\\x08b\\x0c\\xc4!\\xcaD\\x98\\xa99\\x94s \\xc51HR\\x0c\\x83\\x11\\x04\"\\x8cf!\\n1\\x94b(\\xc6Q\\x8c\\xe5\"\\x0cc\\x94\\xa4\\x18\\xc6!\\x0cB \\xc4A\\x88\\xa3\\x19H2\\x0cf!\\x0cB\\x1c\\xa49H\\x83\\x15\\'1\\xccS\\x10\\x86)\\nA\\x94\\x83A\\x8a\\xc5!\\x8aB\\x0eS\\x98\\xa5!\\x061\\x08B\\x10\\x84!\\x08B\\x10\\x84!\\x08B\\x10\\x84!\\x08B\\x10\\x84!\\x08B\\x10\\xc61\\x08B\\x10\\x861\\x98\\xe7B\\x96\\x850\\xe9ZX\\xd3%e1\\xc6B\\x08B\\x10\\x84!\\x08B\\x10\\x84!\\x08B\\x10\\x84 \\x88B\\x10\\x84!\\x08B\\x10\\x84!\\x08B\\x10\\x84!\\x08b\\x18\\xc61\\x8cC\\x10\\xc61\\x8cb\\x18\\xc4!\\x08B\\x10\\x84!\\x08B\\x10\\x84!\\x08C\\x10\\x861\\x0cC\\x18\\x841\\x08\\x83\\x1aNu\\xa1\\t9\\x8cR\\x18\\x831\\x06R\\x0c\\xa3\\x19\\x062\\x90f!\\x0eA\\xa4\\xc5b\\x0c\\xe4\\x9d\\xc9;Pf\\xa0\\xceA\\xdc\\x93\\xc1H',\n",
              " b'\\x82\\xd1\\x05\\xa2N\\\\\\x9c\\xb81LI\\xd6\\x83-\\x06b\\x0e\\xc4\\x1d\\x89;T\\x86$\\xe91NR\\x1c\\xa49H\\x82\\x95\\x05)\\xcaD\\x18\\xa7)\\x081\\x90b \\xc4Q\\x8c\\xc4!\\x88C\\x94\\x86 \\xcaA\\x98\\x83A\\x8a\\x93\\x99G:\\x8ed\\x18\\xa6!\\n1\\x98\\x839\\x8a\\xa4\\xa1\\'9\\x88C\\x10h)Rs \\xc4I\\x8a\\x93\\x95H2Nc\\x98\\x881\\x14s=\\x8a\\x8bW\\x171\\xedZ\\x90d\\x18\\xa71Ps\\x10\\x83\\x10\\x84!\\x08B\\x10\\x84!\\x08B\\x10\\x84!\\x08B\\x10\\x841\\x8cB\\x10\\x84!\\x08B\\x10\\x84!\\x04!1\\x8c\\xb6\\xb9Mr\\xdd\\x05:\\x07SHS\\x90\\x85\\x10\\x84!\\x08B\\x10\\x84!\\x08B\\x10\\x84!\\x08B\\x10\\x84!\\x08B\\x10\\x84!\\x08C\\x18\\x84!\\x08B\\x10\\xc41\\x8cB\\x10\\x84!\\x08B\\x10\\x861\\x8cc\\x10\\x84!\\x08B\\x10\\x84!\\x08B\\x10\\x861\\x0cb\\x18\\xc41\\x88\\x83\\x19\\x8aR\\x90\\x85 \\xca1\\x94c)\\x06Q\\x8c\\xa3\\x19F3\\x94\\x899Tb\\xac\\xe6b\\x0c\\xc4\\x19\\x883Pg\\xa4\\xf0R \\xb4Ah\\x8b\\x13&\\xa9\\xecK\\x96\\x95\\xa4\\xebA\\x98\\x93\\xb1\\x07Z\\x0e\\xc4\\x9dh:\\x0cT\\x18\\xaa9\\x92b\\xa0\\xc5I\\x8c\\x82\\x94\\xc4!\\x88B\\x8cd\\x18\\x881\\x90c(\\xc6b\\x10\\xe5!\\x883\\x10e\\x18\\x8cB \\xc51\\x08Q\\x8c\\x83\\x11H3\\x10\\x86!\\x0cR\\x1c\\xa5)\\x06b\\x90\\xa4\\x19H3\\x94\\x88)\\x12b\\xa4\\xc5A\\x88\\xa3\\x95h3\\x12x1R{ \\xc5=ir\\x90\\xe5\"\\rT\\xde\\xc8\\xbd\\x8fj\\xd6\\x94\\x14\\x84\\x10\\x84!\\x08B\\x10\\x84\\x11\\x08\"\\x10\\x84!\\x08B\\x10\\x841\\x8cC\\x18\\x84!\\x08B\\x10\\x84!\\x08B\\x10\\x84s\\xa1Kb\\xda\\xf4-\\xa6B\\x862\\x0cc\\x10\\x84!\\x08B\\x10\\x84!\\x08B\\x10\\x84!\\x08B\\x10\\x84!\\x08B\\x10\\x84!\\x08B\\x10\\x84!\\x08B\\x10\\x84!\\x08B\\x10\\x84!\\x08B\\x10\\x84!\\x0cc',\n",
              " b'\\x10\\x84!\\x08B\\x10\\x84!\\x08B\\x10\\x861\\x0cc\\x18\\xc61\\x08c\\x19\\x062\\x0ce \\xcaA\\x98\\x831\\x08r\\x11G+Rw--J\\x18\\x93\\xb5HbN\\xc4\\x19\\xc9<\\x16\\x98-\\x10Z\"\\xc4\\xc1\\x89\\x83\\x12\\xf5\\xa5\\xcaCT\\x86)\\x0bA\\xd4s \\xc5I\\x8a\\x93\\x15\\x05*\\x0cU\\x1c\\xc81NR\\x1c\\xa49Hb\\x10\\x83\\x19\\x062\\x0cd\\x18\\xcaA\\x98\\x841\\x06r\\x90\\xe6)\\x88C\\x10\\x87)Pb\\x9c\\xa5 \\xc6Q\\x8c\\xc4!\\xcaC\\x10f \\xc81\\x10b\\x18\\x841\\x08\\xa4\\x1a\\nT\\x18\\xa91Rb\\xb1\\'r\\x90\\xe5!\\xebL\\xdc\\xbaA\\xb7\\x9b\\xeb\\x17E\\xab\\x8b\\x1572\\xb1mb\\xdaE\\xb0s\\x12\\x83\\x18\\xa4!\\x061\\x88B\\x08B\\x11\\x04\"\\x10D!\\x08B\\x18\\xc6!\\x08B\\x10\\x84\\x11\\x08\"\\x10\\x84!\\x08B\\x10\\x841\\x90\\x84)\\nr\\x14\\xc2\\x10\\xc4!\\x08B\\x10\\x84!\\x08B\\x10\\x84!\\x08B\\x10\\x84!\\x08B\\x10\\x84!\\x08B\\x10\\x84!\\x08B\\x10\\x84!\\x08B\\x10\\x84!\\x08B\\x10\\x84!\\x8cc\\x18\\xc4!\\x0cc\\x10\\x84!\\x08B\\x10\\x84!\\x08C\\x18\\xc61\\x0cb\\x18\\xc41\\x88c\\x19\\x062\\x90e!\\x0cB\\x14\\x831\\x06\\xd4\\x1eM\\\\\\xde\\xc8\\xb5Qr\\xedHZ\\x92\\x94\\x1c\\xf6*-\\\\X\\xa8\\xb1Qbb\\xc5=ib\\x0c\\xe5!\\xebKT\\x85\\xa0\\xc91Pb\\xa8\\xe6Z\\x0e\\xa3\\x99\\'2\\x0cS\\x94\\x86!\\x0cB\\x18\\x841\\x08A\\x8c\\x83\\x19\\x062\\x0ce \\xca1\\x94\\x83)\\x06Q\\x8c\\xa3\\x19\\xccT\\x1c\\xc6)\\x081\\x90c \\xc6r\\x91H;T\\x95\\xa5*A\\xcaA\\x8cB\\x18\\x84Q\\x8d\\x05*\\x0cT\\x98\\xa8)\\x0eA\\xa4\\xc4jL\\xe5!\\xebK\\xd6\\x96\\xa4\\xedI\\xdc\\xa3\\xbdh\\x8b\\x15\\x16*-T\\x9c\\xb7\\xb1-R\\x10b\\x94\\x83)Hc\\x14\\xa5 \\xc61\\x08B\\x10\\x84\\x10\\x84!\\x10\\x84!\\x08B\\x10\\x84!\\x08B\\x10\\x84!\\x04B',\n",
              " b'\\x10\\x841\\x8c\\xa50\\xc6A\\x08B\\x10\\x84!\\x08B\\x10\\x84!\\x08B\\x10\\x84!\\x08B\\x10\\x84!\\x08B\\x10\\x84!\\x08B\\x10\\x84!\\x08B\\x10\\x84!\\x08B\\x10\\x84!\\x08B\\x10\\xc6!\\x8cc\\x18\\xc4!\\x0cc\\x10\\x84!\\x08B\\x10\\x84!\\x88C\\x18\\xc61\\x8cc\\x18\\xc61\\x8cc\\x19H3\\x10\\x86!\\x0cA\\x98\\x84Y\\xcd\\x16*\\x90l\\x9e\\xca\\xc9\\xf6\\xa4k8Vp\\x94_\\x176OlZ\\xba=\\x94\\x83`\\xd55HbN\\xc4\\x19\\x88:\\x8ee\\x1c\\xadR\\x1a\\xa4\\xad\\x07RP\\x83\\x98\\xc5)HB\\x90\\x86)\\x0cR\\x18\\xa4!\\x06A\\x8c\\x83\\x19\\x062\\x90e \\xc81\\x8cb\\x18\\xc41\\x88\\x83\\x19\\x8aB\\x90\\x84\\x18\\xc81\\x90b1\\x06\\x83\\x15\\x05)\\x88C\\x10\\x87)\\n1\\x90b1\\x06\\x82\\x91\\x05!\\xc83\\x10i1\\\\\\xa4=i\\x83\\x14\\xe5\\xa1\\xa9;T\\x86\\xa5\\x0eR\"\\xe5\\xd6.\\xb4\\x9fi:\\xb0m\\xa4\\xea\\xc5\\xd2{Z\\xb4\\xad\\'I\\xccb\\x90\\xa4\\x19JB\\x10\\x87B\\x10\\x94\\x94\\xc6\\x10\\x84!\\x08B\\x10\\x84!\\x08B\\x10\\x84!\\x08B\\x10\\x841\\x8cc\\x18\\x84!\\x08\"\\x10\\x861\\x88B\\x10\\x84!\\x08B\\x10\\x84!\\x8cc\\x18\\xc61\\x88B\\x10\\x84!\\x08B\\x10\\x84!\\x08B\\x10\\x861\\x08B\\x18\\xc61\\x8cc\\x18\\xc6!\\x8cc\\x18\\x84!\\x0cb\\x18\\xc4!\\x08B\\x10\\xc61\\x8cc\\x18\\xc61\\x8cc\\x18\\xc6A\\x8c\\x83\\x19HB\\x90\\x86)\\x0eR \\xc4b\\x0c\\xf5\"\\x0bK\\x96\\x96\\xad-Z\\\\\\xb59ib\\x92\\xb5\"\\r]\"\\xea\\xc5\\xf0j\\xda\\xa45\\'b\\x0e\\x93\\x15&*\\xd0h5oj\\xd4\\x83\\xa9(1\\x8as\\x18\\xc5)HB\\x90\\x85!\\x0cR\\x14\\x84 \\xc6A\\x8c\\x83\\x19H2\\x8cd\\x18\\xc61\\x8cc\\x18\\xc4A\\x8c\\xa4!HA\\x8cc\\x10\\x861 \\xe6ZP\\x83\\x14\\xc4\\x19\\x883\\x90\\x88)Ts-\\x06Q\\xcc\\xc4\\x9dh2\\nD\\x14\\x8bA\\x98\\x93\\xad\\x06',\n",
              " b'Z\\x0c\\xb4\\x19\\xaaC\\x96\\x985rsb\\xd5\\xc9\\xcb\\x9b\\xd97\\xae-S\\xd6\\x8810b\\xa4\\xf6A\\xcbb\\x90\\x83\\x15\\x071\\x8aB\\x94\\xa4!\\x12\\xa56\\x10:\\x12B\\x94!\\x08\\x84!\\x08B\\x10\\x84!\\x08B\\x10\\x84!\\x08B\\x10\\x84!\\x04#\\x18\\xc61\\x90c\\x18\\xc4!\\x08B\\x10\\xc61\\x8cc\\x18\\xc61\\x8cc\\x18\\xc6!\\x08B\\x10\\x84!\\x08B\\x10\\x84!\\x08B\\x18\\xc41\\x8cc\\x10\\xc6!\\x08B\\x10\\x861\\x8cc\\x18\\xc61\\x8cc\\x10\\xc61\\x8cc\\x18\\xc61\\x8cc\\x18\\xc61\\x8cc\\x19\\x082\\x90\\x87)\\x10b\\xad\\x06\\x83U\\x16\\xad\\x88:LT\\x98\\xaaA\\x94s(\\xe6Q\\xcc\\xa4\\x19\\x89;Rw--I\\xda\\x93\\xb5\\'z\\xd0\\xf5\\xa6Ne\"\\xe9\\xc5\\xecZ\\x9c\\xc5\\xa9(1Jc\\x14\\x84\\x19\\x062\\x8cf!\\nB\\x10\\x83 \\xc6A\\x8c\\x84\\x19H2\\x0cd\\x18\\xc61\\x8cc\\x18\\xc6R\\x10\\x83\\x18\\xc61\\x8cc\\x18\\x8aR\\x18\\xa4 \\xc6A\\x8c\\x83\\x19\\xc8D\\x94\\xaa9X\\x83\\xad\\x06Y\\xcc\\xa3\\x95g2LT\\x94\\x88)\\x10Q\\xa0\\xc4R\\x0c\\xd5\"\\r[\\xd8\\xa7-.Z`\\xc5E\\xcb\\x93\\xd97\\xb2Oc\\xd6\\x96$\\xecR\\x16\\x93\\xa4\\xc5I\\x88\\xa4\\x19\\x07)\\xccc\\x98\\xc4!\\x08R\\x90\\xa5)\\x8c1\\x8cB\\x10\\x84!\\x08B\\x10D!\\x08B\\x10\\x84!\\x08B\\x10B\\x10\\x84!\\x08JA\\xa0\\xe6\\x18\\xc4!\\x08B\\x10\\x84!\\x08B\\x10\\x84!\\x88B\\x18\\xc61\\x88B\\x10\\x84!\\x08C\\x18\\xc61\\x08b\\x18\\xc4!\\x88B\\x10\\xc61\\x08C\\x18\\xc61\\x8cc\\x18\\xc61\\x8cc\\x19\\x062\\x0cc\\x18\\xc61\\x8cc\\x18\\xc61\\x8cc\\x19\\x062\\x90\\x871X\\x94N\\r\\xb4\\xe2\\xf6\\xb1\\x061\\x8aC\\x10\\x86!\\x0eR$\\xc5bP\\xd5!\\xebKT\\x86\\xa9\\x0eZ \\xc5E\\xcc\\x93\\xdb\\x06\\xae\\r[X\\xa5\\xa5\\x0eb\\xd6\\xa5\\x14\\x84)\\x081\\x8cc\\x19\\x062\\x90e!\\nA\\x90\\x83',\n",
              " b' \\xc6A\\x8c\\x84\\x19\\x082\\x0cc\\x18\\xc61\\x8cb9\\x8cs\\x18b\\x10\\xc6!\\x8cC\\x18\\xc61\\x8cB\\x18\\xc61\\x8c\\x83\\x19\\x88C\\x94\\x8bA\\xd2b\\xa4\\xc4Q\\x8a\\x92\\x91&*\\x8eU\\x1c\\xa91Tr\\xb5(r\\xd2\\xf6)\\xecS\\x96\\x98\\xb9u\\x8b\\xafHN\\rr\\xd2\\xd5!G2\\x0cS\\x14\\x86)\\x10b\\xa9\\x06bP\\xd5\\xa5\\xabR\\x92\\x82\\x90\\x84!\\x04!\\x08B\\x10\\xc6!\\x08B\\x10\\x84!\\x08B\\x10\\x84!\\x08B\\x10\\x84!\\x08B\\x10\\xc63\\x14\\xadZ\\xa0\\xe6)\\'\\x18\\xc6!\\x08B\\x10\\x84!\\x08B\\x10\\x84!\\x08B\\x10\\x84!\\x08B\\x10\\x84!\\x08C\\x18\\xc4!\\x08B\\x10\\x84!\\x08c\\x18\\xc61\\x8cc\\x18\\xc61\\x8cc\\x18\\xc61\\x8cc\\x19\\x08A\\x8cc\\x18\\xc61\\x8cc\\x18\\xc61\\x8cc\\x18\\xc62\\x0cg)\\x1c\\xc5J/b\\xd4R\\x10\\xa4\\x19\\x88C\\x10\\x85 \\xccR)\\x07s\\x15\\x06\\xad\\xccK\\xd8\\xb85r\\x83\\xa7\\x17A\\xccb\\xd2\\xa4\\x1c\\xe6)\\x8aC\\x98\\xabRNc\\x10c \\xc61\\x8c\\x83\\x19HD\\x18\\xa7)HA\\x8cc\\x18\\xc6A\\x8c\\x84\\x19\\x081\\x8cc\\x18\\xc61\\x90c9\\x8cA\\x8cc\\x18\\xc61\\x8cc\\x18\\xc61\\x8cc\\x18\\xc6A\\x8c\\x83\\x19\\x063\\x94\\xa7)\\x0cB$\\xa5AHr\\r\\x05\"\\x8cV \\xcdJ\\x18\\x93\\xb5\\'b\\x0e\\xe5\".\\\\\\xde\\xdbN\\x17\\xa4k\\x17V/\\x93\\xda\\x93\\x18\\xa3\\x19\\xcaD\\x98\\xabA\\xda\\xa4=\\x8ar\\xd4\\xd5\\xa5iB\\x0er\\x94\\x82\\x10\\x84!\\x08B\\x10\\x84!\\x08B\\x10\\x84!\\x08B\\x10\\x84!\\x08B\\x10\\x841\\x8cc\\x19\\x8cg\\xb5x\\xb4\\xe9\\x171H\\x18\\xc4!\\x08c\\x18\\xc61\\x08B\\x10\\x84!\\x08B\\x10\\x84!\\x08B\\x10\\xc6!\\x8cc\\x18\\xc61\\x8cc\\x10\\x841\\x8cc\\x18\\xc61\\x8cc\\x18\\xc61\\x90d\\x18\\xc61\\x8c\\x84\\x19\\x08A\\x8cC\\x18\\x861\\x8cc\\x18\\xc61\\x8cc\\x18\\xc61\\x8cf)\\x12\\x94\\x1c\\xc6',\n",
              " b' \\xc6R\\x0c\\xc4!HB\\x90f!\\x0eR\\x9c\\xc5A\\x8c\\xa4\\x1d\\xcbT\\x1c\\xdaJ2\\x8c\\x1c\\xd5\\xb1H\\x83\\x98\\xe6\\xb1(:Ns\\x98\\xa6)\\nB\\x10c \\xc6r\\x95\\'3\\x14\\x86-E!\\x061\\x8cc\\x18\\xc6B\\x0c\\xc5)\\x08A\\x8cc\\x18\\xc61\\x90\\x84!\\x081\\x88c\\x18\\xc61\\x8cc\\x18\\xc61\\x8cc)\\x08A\\x8cb\\x11\\x8aC\\x10\\x86 \\xccA\\x98c1\\x06b\\r\\x05\"LT\\x94\\x8a1Vr\\xb1\\x06z\\xd1&\\xae-\\\\\\xde\\xdb\\xd2\\x15\\x94 \\xc5\\xc5\\xab{V\\x93\\x95\\x06+\\x12w\\xb1MJ\\x1c\\xa4=ij\\x90\\xe5\\xa5\\x8bJ\\x0eb\\x10\\x84!\\x04!\\x08B\\x10\\x84!\\x08B\\x10\\x84!\\x08B\\x10\\x84!\\x08B\\x18\\xc6B\\x10c\\x1a\\x0ek\\xce\\x1a\\xc5-7\\xbd\\x89)\\x06!\\x08B\\x10\\x84!\\x08B\\x10\\x84!\\x08B\\x18\\xc61\\x8cc\\x18\\xc61\\x8cc\\x18\\xc61\\x8cc\\x18\\xc61\\x8c\\x84 \\xc61\\x8cc\\x18\\xc8B\\x10\\x84\\x18\\xc61\\x8c\\x84\\x19HA\\x8cc\\x18\\xc61\\x8cc\\x18\\xc61\\x8cc\\x18\\xc61\\x8cd\\x18\\xc81\\x90c)\\x08R\\x10\\xa4!HB\\x90\\x85!\\nB\\x14\\x831\\x08\\x83\\x15\\x072\\x0cU\\xa5\\x11{\\'\\x07N\\x0e\\x83X\\x94\\x1c\\xe6)\\xcaS\\x14\\x871R\\x83\\xa0\\xe6I\\xce\\xc5%\\xcbR\\xd2\\x82\\x90\\x84\\x18\\xc8B\\x10c \\xc6R\\x94\\xe61\\x061\\x8cc\\x18\\xc61\\x90d\\x18\\xc61\\x8cc\\x18\\xc61\\x8cc\\x18\\xc4!\\x0cc \\xc6A\\x8c\\xe5)\\xcaR\\x8ce\\x18\\xca1\\x98c9\\x08\\x83\\x15&*\\nD\\x98\\x8a1Vs5\\'z\\xd372oe \\xd99lI\\xe0\\xd5\\xc9\\xccQ\\xccr\\x8d\\xcbL\\x1a\\xb7)/Z^\\xb4\\xbdi\\x83\\x98\\xe6-H:Ps\\x18\\xa4!\\x04!\\x08B\\x10\\x84!\\x08B\\x10\\x84!\\x08B\\x10\\x84!\\x0cc!\\x08B\\x10\\xa5$\\xe0\\xed\\xde\\x9a\\xbc\\xef7M\\xcbA\\x8aA\\x8cc\\x18\\x84!\\x08B\\x10\\x84!\\x08B',\n",
              " b'\\x10\\x841\\x8cc\\x18\\xc61\\x8cc\\x18\\xc61\\x0cc\\x18\\xc6B\\x10c\\x18\\xc61\\x8cd!\\x08B\\x0cc\\x18\\xc61\\x8c\\x83\\x19JB\\x0cc\\x18\\xc61\\x8cc\\x18\\xc61\\x8cc\\x18\\xc61\\x8cc\\x18\\xc81\\x90c!\\x06R\\x10\\xa4!HB\\x90\\x85 \\xcaB\\x18\\x841Hb\\x0c\\xe5\"\\x8ei=\\x93\\x8b\\x9c\\xc5)\\x079Hb\\x10\\xc5\"Nu\\xa5.b\\xde\\xe7\\x1c\\xc6A\\x8a\\xe6-\\x8bQ\\x8aR\\x0cd \\xc8A\\x90c \\xc6B\\x10\\x84 \\xc61\\x8cc\\x18\\xc61\\x90\\x84\\x18\\xc61\\x8cc\\x18\\xc61\\x8cc\\x18\\xc6!\\x0cb \\xc6R\\x10\\xc4!F2\\x8ce\\x18\\xcc1\\x9c\\x849\\x08\\x82\\x90\\xe5!\\xc8D\\x14\\x891\\x14b\\xb5Hr\\x90\\xd4\\x9d\\xa9;\\xd6\\x87\\xad\\x10b\\xa0\\xc5\\xb9IQ\\x8a\\xf5\\xa6Nd\\x1a\\xb8\\xb5oZ\\x96\\x83I\\xccj\\xd2\\x94\\x19\\xabKV\\xa4\\xa1\\x06)JB\\x08B\\x08B!\\x08B\\x10\\x84!\\x08B\\x10\\x88B\\x18\\xc6)J1\\x89\\xaaF\\xad-\\xdey\\xacm\\'M\\xebQ\\xccA\\x8cB\\x10\\x84!\\x08B\\x10\\x84!\\x08B\\x10\\x84!\\x08B\\x10\\x84!\\x08B\\x10\\x84!\\x0cc\\x18\\xc61\\x8c\\x84!\\x081\\x8cc\\x18\\xc61\\x8cc)\\x08B\\x0c\\x83\\x19HB\\x90\\x83\\x18\\xc61\\x8cc\\x18\\xc61\\x8cc\\x18\\xc61\\x8cc\\x18\\xc81\\x90c \\xc6B\\x0c\\x84!HB\\x90e!\\nB\\x18\\xa4)\\x08\\x93\\x9a\\x0cT\\xde\\xda\\xc9\\xf4\\x8b\\xda\\xb5 \\xc61\\x08b\\x11H;\\x98\\xb6)I9\\xceR\\xa0\\xe6j\\xd4\\xc5\\xa8\\xe6)H2\\x0ce!\\nB\\x1c\\xa5)\\x08b\\x90\\xc5!\\x062\\x0cc\\x18\\xc8B\\x14\\x84\\x18\\xc61\\x8cc\\x18\\xc62\\x0cc\\x18\\x881\\x94\\x831HR\\x10\\x83\\x19F3\\x10\\x87)\\x0eB\\x1c\\xa49\\x08b\\x10\\xc4\\x19\\xc8D\\x98\\xab9\\x96s-\\x06Y\\xcc\\xd4\\x9e-] \\xd99\\x91j\\xe2\\xd5\\xd1\\xed\\x9b\\xd9\\x16\\xad\\xebK\\xd8\\xa7\\xadLA\\xde\\xc59i',\n",
              " b'b\\x90\\xb4\\xa1jC\\x98\\xb5\\xa9-b\\xd4\\x94\\x94\\xa5\\x10\\x84 \\x84B\\x10\\x84!\\x08B\\x10\\x861\\x8cc \\xc6\\xb4\\x1a\\xf3~\\xef,\\xd65\\x8bi\\x06I\\xaaQ\\xcc1\\x08B\\x10\\x84!\\x08B\\x10\\x84!\\x0cc\\x18\\xc61\\x8cc\\x18\\xc61\\x8cb\\x10\\x861\\x0cc\\x18\\xc61\\x8cc\\x18\\xc61\\x8cc\\x18\\xc61\\x8cc9\\x8a\\x83\\x9c\\xc5)\\x08B\\x94\\x85!\\x061\\x8cc\\x18\\xc61\\x8cc\\x18\\xc61\\x8cc\\x18\\xc61\\x8cc \\xc6B\\x0c\\x84\\x19\\x082\\x90\\x85!\\x0cR\\x98\\xa41\\x08\\xa3\\x99\\xcaL\\\\\\xc7\\xb1jA\\xd0c\\x1c\\xa59J\\x93\\x99\\x8aR\\x90\\x86-LR^\\xd6A\\xccs\\x14\\x94\\x1c\\xc4!\\x8aS\\x14\\xa6)LB \\xc69Jr\\x94\\xa4!HB\\x10e!\\x0cR\\x94\\x84 \\xc61\\x8cc\\x19\\x062\\x0ce \\xca1\\x98\\x841HQ\\x8c\\xa4\\x19\\x88C\\x90\\x87!\\x0cA\\x98\\x831\\x08b\\x10\\xe5\"LT\\x14\\x88)\\x12b\\xb1\\x06z\\x93\\x06)\\xecR\\xd0v\\xa4\\xf0bb\\xc5E\\x8a\\x83\\x12\\xf5\\xa5\\xaaB\\xd0e\\xa0\\xcdR\"\\xe6I\\xed{V\\xb4\\xa1\\xcc[X\\xa5%\\x0bRV\\xa5)J!\\x08!\\x08!\\x08B\\x11\\x8cc\\x18\\xc8B\\x14\\x84b\\x91i?w\\x96\\xed+\\xcd\\xf4\\x83(\\xf5\\xc5\\xaaI\\xcc1\\x88c\\x18\\xc6!\\x08C\\x18\\xc61\\x8cc\\x18\\xc61\\x8cc\\x18\\xc61\\x8cc\\x18\\x861\\x8cc\\x18\\xc6B\\x0cc\\x18\\xc61\\x8cc\\x18\\xc8B\\x10\\x84Z\\xd4\\xb5)jQ\\xccc\\x18\\xa5)\\nR\\x10\\x84 \\xc61\\x8cc\\x18\\xc61\\x8cc\\x18\\xc61\\x90c \\xc6B\\x0c\\x84!HB\\x90\\x85!\\x0cR\\x18\\xa49H\\x83\\x19\\x89C\\x12\\x84\\x18\\xc81\\x8eb\\x9c\\xa51\\x08\\x93\\x9d\\xabSX\\xb7\\xb5t\\x8b\\xadH\\xd6q{Zb\\x94\\xa4!HC\\x10\\x86!\\nA\\x98\\x84)\\x08R\\x0c\\xa4!\\x062\\x0ce!\\nB\\x10c\\x18\\xc6A\\x8c\\x84\\x19\\x062\\x0cd\\x18\\xc81\\x98\\x84',\n",
              " b')\\x06b\\x10\\xc4!\\x882\\x8cd\\x18\\xc81\\x90c \\xc6Q\\x8c\\xc4\\x19\\xc8C\\x94\\x891Rb\\xa8\\xc5Q\\xcc\\xb4\\x1d\\x06*\\nD\\x98\\xacA\\x9c\\x93\\xc1i\\x8b\\x96\\xe5\\xa5h;\\x12v \\xefZ\\x9e\\xc59\\x8ab\\x90\\xc5\\xa5\\xedb\\xd4\\x94\\xa0\\xedb\\xe3\\x07\\xb5\\x8cR\\x941\\x8c\\x84!\\x8ae),b\\xd6\\xb4\\xbd\\xab\\xac\\x9f\\x9a\\xc7V\\x8ei\\x0bE\\xb5\\x83$\\xd4\\xbdiA\\x8a1\\x88B\\x10\\xc61\\x8cc\\x18\\xc61\\x8cc\\x18\\xc61\\x8cc\\x18\\xc61\\x8cc\\x18\\xc61\\x8cc\\x18\\xc41\\x8cc\\x18\\xc61\\x8cd!\\x08B\\x10\\x84{\\x98\\xd6\\xb1kZR\\x94\\xa5\\x079\\xcaR\\x98\\xc6!\\x081\\x8c\\x84!\\x08A\\x8cc\\x18\\xc61\\x8cc \\xc6A\\x8c\\x84!HB\\x90\\x85!\\x0cB\\x18\\xa49Hs\\x15\\x062\\x0cS\\x14\\x85!\\x0cB\\x18\\x841\\x08\\x83\\x15\\xaaL\\x9c\\xcb\\xd2:\\xc5+H\\xb9\\xac1JA\\x8c\\xa4!\\xcaV%\\rZ\\x8aB\\x14\\x84 \\xc6R\\x10\\xe5)\\x062\\x0cd\\x18\\xc8A\\x90c \\xc6A\\x8c\\x83\\x19\\x062\\x0cd\\x18\\xc8A\\x90\\x83 \\xc6A\\x8c\\x83\\x19\\x062\\x0cd\\x18\\xc81\\x90c \\xc6Q\\x8c\\xc4\"\\nS\\x94\\x86!\\nA\\x98\\x849H\\x93\\x14\\xe5\"\\x0cU\\x1c\\xccI\\xdc\\xa4\\xbd\\x8aj\\x90\\xb4\\x9dh3\\x10v\\xa9\\rJ\\x12s$\\xe5j\\xd4\\xc5%\\'2Pg\\xb5\\x91{\\x9e\\xe6\\xadJR\\x92R\\x94\\xe63\\x16\\xc6\\xb1s\\x8b\\xe7\\x18N\\r\\xcde\\x9aG5\\x85\\xe4\\xea\\xc1u{&\\xe5\\xb9H9J1\\x8cB\\x10\\xc61\\x8cc\\x18\\xc61\\x8cc\\x18\\xc41\\x08c\\x18\\xc61\\x8cc\\x18\\xc61\\x8cb\\x10\\xc41\\x8cc\\x18\\xc61\\x8cd!\\x061\\x8c\\x84\\x8c\\x1d\\x18\\xb9\\xefj\\xd6\\xa5%*R\\x8es\\x98\\xc61\\x8cR\\x94\\xa5)\\x082\\x10d!\\x08B\\x10\\x84 \\xc6A\\x8c\\x84!HB\\x90\\x86)NR\\x9c\\xa5A\\x8ar\\x94\\xc4!\\x88B\\x90\\x85!\\x0cB\\x1c\\xa4',\n",
              " b'9J\\xa3\\x9a-]\\xa7\\x0cVT\\x9c\\x18\\xa4\\x98\\xa4)\\x08b\\x91G3\\xd6\\x97-I9\\x8cR\\x94\\x84 \\xc6R\\x11\\x071H2\\x90\\x85!\\x081\\x90\\x83 \\xc6A\\x8c\\x83\\x19\\x062\\x0cd\\x18\\xc8A\\x90c \\xc6A\\x8cc\\x18\\xc6!\\x8cd\\x18\\xc81\\x90c \\xc6A\\x8c\\xa3\\x19\\x061\\x88C\\x10\\x881\\x14\\x839Hr\\x90\\xe4!\\xc8D\\x18\\xa81\\x90c \\xc5Q\\xce\\x83\\x19\\x05*\\nT\\x98\\xa8)Rb\\xa9\\x07J\\x0c\\x83\\x15H<\\x1c\\xc71mZ\\x98\\xb5-JJ\\x10R\\x94\\xa4\"\\xd2\\x88\\xbd\\xb4\\x8b\\xad8\\xdaO\\xcdc\\x89\\xbf\\x14}\\xa2\\xca9u{(\\xe5\\xb9i1H1\\x88b\\x10\\xc61\\x8cc\\x18\\xc61\\x8cb\\x18\\xc6B\\x10\\x83\\x19\\x061\\x8cc\\x18\\xc61\\x8cc\\x18\\xc61\\x8cc\\x19\\x08B\\x10\\x83\\x18\\xc8B\\x10\\x84k\\x14\\xe6\\xad\\xeec\\x9c\\xc6\\xb5\\x8bZ\\x94\\xa5)JB\\x10s\\x9c\\x84!\\x08B\\x10\\x84!\\x08A\\x90\\x84!\\x08B\\x10\\x84!JR\\x94\\x86)Pc$\\xe6A\\x8cr\\x94\\xc4!\\x8aC\\x94\\xa81Pb\\xa0\\xc5A\\x8a\\x93\\x15\\x89<\\\\\\xc89\\x8bR\\x10s$\\xe6A\\x8a\\xb4\\x1d\\xaaD\\x9e\\xd4\\x9c\\xc7)LR\\x10c)\\x08r\\x95\\x061\\x8aB\\x90\\x85 \\xcaB\\x14\\x84)\\x08B\\x0c\\x83\\x19\\x061\\x8cc\\x18\\xc81\\x90c\\x18\\xc61\\x8cc\\x18\\xc62\\x0cc\\x18\\xc61\\x8cb\\x18\\xc41\\x88c\\x18\\xc4!\\x88D\\x18\\xcaB\\x18\\x841\\x08R\\x10\\xa4!\\x061\\x88C\\x10\\x86!\\x14c)\\x06Q\\x8c\\x83\\x19F2\\x8ce\\x18\\xd0b\\x98\\x841\\x08\\x93\\x99iB\\xd2\\x85\\xa5\\x0eb\\xd6\\x949\\x8bsZs\\x18\\xe5+\\x14\\x99\\xc1\\xd2s)\\x06\\xdaO\\xbc\\x9fh\\xb6\\xd0e^\\xca9uz\\xe8\\xf6=\\x8aA\\xccR\\x10c\\x18\\xc61\\x8cc\\x18\\xc61\\x8cc\\x18\\xc61\\x8cc\\x18\\xc61\\x8cB\\x10\\x861\\x90c \\xc61\\x8cc\\x18\\xc62\\x10\\x83\\x18\\xc8A\\x90\\x84',\n",
              " b'R\\x0e\\xc5%\\xabSX\\xa75\\x8db\\xd6\\xb51kk\\x18\\x84 \\xa4!\\x08B\\x10\\x84!\\x08B\\x10\\x84!\\x08B\\x10\\x84!\\x08B\\x90\\x87)Pc)\\x07R\\x0er\\x95\\x06*Ne\\x1c\\xc91Rc)\\x06r\\xd2\\xe5\\xa9\\xec\\\\^\\xd8\\xbd\\xb1{g\\x07\\xc5\\xcd{V\\xf6\\xaeOkV\\xa5\\xa5\\rZ\\x94\\x83\\xb1Ib\\x92\\x93\\x9c\\xc5)HB\\x90e!\\x0cR\\x14\\x84 \\xc6A\\x8cc\\x18\\xc61\\x8cc\\x18\\xc61\\x8cc \\xc6A\\x8c\\x84\\x18\\xc61\\x8cc\\x18\\xc61\\x8cb\\x18\\xc41\\x88c\\x18\\xc62\\x0cd\\x18\\xc61\\x8cc\\x18\\xc61\\x08b\\x10\\xc4!\\x88C\\x18\\x881\\x8cc\\x18\\xc61\\x88b\\x10\\xc4!\\x88E!\\x0cR\\x98\\xa49Jb\\x10\\xe6*\\x90\\x85%\\x0bJ\\x1e\\xd6I\\xefsZ\\x83\\x19G;T\\x999\\x91j\\xe2\\xd5\\xd2\\r\\xa3\\xd76\\xaaMT\\x98\\x99\\xb9Sj\\xa6\\xe5\\xc9\\xedZ\\x92R\\x90c\\x18\\xc61\\x8cc\\x18\\xc61\\x8cc\\x18\\xc61\\x8cc\\x18\\xc61\\x8cc\\x18\\xc81\\x90c\\x18\\xc61\\x8cc\\x18\\xc62\\x10\\x83\\x18\\xc8B\\x10\\x841Js\\x19(;\\x14\\x96\\xb1mb\\xda\\xb55\\x8bb\\xd4\\xa4\\xa1\\x079JB\\x10\\x85!\\nB\\x10\\x84!\\x08B\\x10\\x84!\\x08B\\x90\\x87)Rs-\\x07Q\\xcc\\x93\\x99\\x06*\\x8ef%\\n9\\x90R(\\xe6\\xa3\\xdb\\xac[y\\xbemL\\xde\\xb7\\xa4\\xa9\\x17\\xc5\\xedr\\xd4\\xf6*\\x0ed\\x1c\\xd6-JA\\xd2\\x83\\xa5\\x07A\\xccb\\x10\\xa4\\x19HB\\x90\\x86)\\nB\\x10c \\xc61\\x8cc\\x19\\x061\\x8cc\\x18\\xc81\\x8cc \\xc6A\\x8cc\\x18\\xc61\\x8cc\\x18\\xc61\\x8cc\\x18\\xc6A\\x8c\\x84!\\x061\\x8cB\\x10\\x84!\\x08B\\x10\\x84!\\x08B\\x10\\xc4!\\x88C\\x10\\x86!\\x0cB\\x18\\x84!\\x08B\\x10\\xc4\"\\x0cf)H1\\x94\\x84 \\xc61\\x08\\x83\\x19\\x8aD\\xa0\\xeaJ\\x18\\xb59\\x8cJ\\x0e\\x83\\x19\\xaaK\\xd8\\xb7\\xb1NR \\xc5Ai',\n",
              " b'\\x82\\xd0\\xf5\\x1e\\n<\\x14\\x88)\\x11Z\\x1c\\xb4A\\xabs\\x14\\x94\\xa4\\xa5)\\x08A\\x8cc\\x18\\xc61\\x8cc\\x18\\xc6B\\x10\\x84!\\x082\\x10\\x84!\\x061\\x8cc!\\x061\\x8cc\\x19\\x082\\x10d \\xc8B\\x0cc!\\x08R\\x10\\xa5\"\\x0cd\\xa0\\xecR\\\\\\xc5\\xc1\\xedsX\\xb4\\xa5IBPs\\x14\\xa5)\\nB\\x14\\x84)\\x08R\\x10\\xa4!HB\\x90\\x86)Rs)\\x07Q\\xcc\\xb4\\x9d\\'2\\x8cV \\xeeZ\\x94s$\\xe6Q\\x8a\\xc5!\\xaaK\\x12\\x85\\xa0\\xecI\\xda\\x94(\\xe6A\\x8ar\\x91\\x061\\x8aR\\x90\\x85!\\nB\\x18\\xa41\\x08b\\x10\\xc5!\\x8aS\\x14\\xa6)JB\\x10c \\xc6A\\x8c\\xc5!HB\\x90\\x84 \\xc81\\x90c \\xc6A\\x8c\\x83\\x19\\x062\\x0cd\\x18\\xc6!\\x90c \\xc6A\\x8cc\\x18\\xc4!\\x08B\\x10\\x84!\\x08B\\x10\\x84!\\x08B\\x10\\xc4!\\x88B\\x10\\x84!\\x08B\\x10\\x84!\\x08B\\x10\\xc62\\x10\\x871\\x8eb\\xadJA\\xceA\\x8cb\\x11\\x064\\x1c\\xe71\\x98\\xb5\\xc1\\xee9\\xccb\\x91\\xaaKR\\x87)/R\\x1a\\x93\\xb0\\xe5j\\x0e\\xd4\\x19f+\\x0ef \\xcdI\\xd8\\x93\\xb5Ib\\x92\\x84\\x1c\\xa51Ja\\x8cc\\x18\\xc61\\x8cc\\x18\\xc61\\x8c\\x84!\\x08B\\x10\\x84!\\x08B\\x10\\x84!\\x06B\\x10\\x84\\x19\\x08B\\x10d!\\x08B\\x10\\x84)HR\\x90\\xa5!\\x8aS\\x14\\xa6)R\\x83\\xbd\\xac\\x83\\xda\\xf75\\x8bJ\\xd2\\x84\\xa0\\xe61JR\\x14\\xa4)\\x08R\\x10\\xa4!JR\\x94\\xa6)Pc(\\xe6r\\x93\\'5\\xaaJ\\xcef \\xf0b\\xdc\\xc5\\xa4\\xc5Q\\xcc\\x93\\x15F*\\xd0u\\x9c\\xcdJ\\x16s(\\xe6A\\x8a\\x83\\x19\\'9\\xcaS\\x98\\xa7)NR\\x9c\\xc59Jb\\x95\\x06)\\xccS\\x10\\x86!\\nB\\x14\\x849J\\x83\\x19\\x061\\xcaC\\x10\\x86!\\x0cB\\x18\\xa4)\\x08Q\\x8c\\x83\\x19\\x062\\x0cd\\x18\\xc81\\x94\\x84 \\xc61\\x8cc\\x10\\xc4!\\x88C\\x18\\x861\\x0cc',\n",
              " b'\\x18\\xc61\\x08B\\x10\\x84!\\x88C\\x10\\x84!\\x08B\\x10\\x84!\\x08B\\x10\\xc4!\\x88C\\x18\\xc8B\\x1c\\xc6JRs\\x1c\\x83!\\xccc\\x98\\xc5!\\x10s\\xa5\\x07 \\xc6A\\x8c\\xe4\"\\nU\\x18\\xab9\\x92b\\xa0\\x83IH\\xa3\\x15\\x88:Lc\\x94\\x8bA\\xd0b\\xa0\\xc5RPc\\x14\\x84)\\x08A\\x8cc\\x18\\xc8B\\x10\\x84!\\x081\\x8cc\\x19\\x08B\\x10\\x84!\\x08B\\x10\\x84!\\x08B\\x10\\x84\\x18\\xc62\\x10c\\x18\\xc61\\x90\\x841\\x8ac\\x14\\xe61\\xccS\\x98\\xa6)Nc%\\x07b\\x92\\xe6\\xae\\x0fk\\x9a\\xb5%\\x089\\xccb\\x94\\xa4)HR\\x90\\xc5)\\x8aS\\x14\\xa6)Pc%\\x07\\x8b\\x99H\\xc1\\x8aKR\\x87)\\x10b\\xe0\\xd6-\\x07Z\\x0e\\xa3\\x99g3\\x10v\\xa5\\x0b9\\x94s,\\xe6Q\\xcc\\x83\\x15\\x05*Le\\x1c\\xcb9\\xd8\\x84,\\xe7I\\x8c\\x93\\x19G2\\x0cT\\x18\\xc6)\\x0eR$\\xc5bP\\xa3\\x9d\\x06*\\nT\\x98\\xc7)Rc\\x18\\x84)\\x08Q\\x8c\\x83\\x19\\x062\\x8ce!\\nB\\x14\\x83)\\x06R\\x0c\\x83\\x19HB\\x90d\\x18\\xcaR\\x10c!\\x06A\\x8cB\\x10\\xc4!\\x88C\\x18\\xcaB\\x10\\x84\\x18\\x84!\\x08B\\x10\\xc41\\x8cC\\x18\\x881\\x8cc!\\x08R\\x10\\xa4\"\\x92\\x93\\x98\\xc71Nb\\x94\\x84\\x10\\x821\\x04\\xa4\\x19\\x863\\x0cf \\xccA\\x9c\\x841\\x06r\\x90\\xe5\"\\x0ed\\x18\\xc71Nb\\x94\\x84J\\x0eR\\x94\\x84)\\x08A\\x90\\x83\\x18\\xc8B\\x10\\x84!\\x08B\\x10c\\x18\\xc61\\x8cc\\x18\\xc8B\\x10\\x84!\\x08B\\x10c\\x18\\xc62\\x10\\x84 \\xc8A\\x90\\x84A\\xces\\x98\\xe61\\x8aS\\x98\\xa71Lb\\xa0\\xe6R\\x10\\xa4!\\xabT\\x1c\\xd8\\xbd\\xcfsT\\x94\\x1c\\xc51Jb\\x94\\xc6)\\x8aS\\x18\\xa6)Pc9\\xab\\xad#9E\\x8aK\\x94\\x97\\xad1s\"\\xf71IbN\\xc4\\x1d\\xa9C\\x10v \\xeb9\\x9a\\x93\\xbdHb\\x0e\\xc4\\x1d\\xa9B\\xcee\\x1c\\xccA\\xd8\\x83\\xac\\xe6',\n",
              " b'b\\x0e\\xe4\\xa1G2Lc\\x94\\x87)\\x12b\\xb1\\x07Y\\xcc\\x92\\x95&2\\x8cd\\x98\\xc81NR\\x98\\x84)\\x08Q\\x8c\\xa3\\x19\\x88C\\x94\\x86!\\n1\\x98\\xa41\\x08R\\x11\\x061\\x8aS\\x14\\xa6)H1\\x94\\x849\\x8aA\\x8cc\\x12\\x0es\\x98\\xc5!\\x0ec\\x18\\xa5\\x18\\xc61\\x08B\\x10\\xc61\\x88C\\x18\\xc8B\\x0cc)\\x08s\\x19\\x062P\\x84\\x18\\xcaA\\xd4\\x83$\\xc51\\x08A\\x88\\x83\\x11\\x06\"\\x0cD\\x10\\x88!\\x14\\x84(\\xc6A\\x8c\\x83\\x19\\x082\\x10g1\\x92\\x84\\x14\\x84A\\xceR\\x94\\x84 \\xc62\\x10\\x84!\\x08B\\x10\\x84!\\x081\\x8cc\\x18\\xc61\\x8cc\\x18\\xc8B\\x0cc!\\x08B\\x0c\\x84\\x19\\x081\\x8cd\\x18\\xc61\\x8ccA\\xces\\x19\\x072\\x0et\\x1c\\xe89\\x8ec \\xe6J\\x0e\\x94\\x1diC\\x98\\xb8\\xbd\\xd4\\x9ci9=\\xeeB\\x10b\\x94\\xe6)\\xccc\\x14\\xa71Z\\xc5V\\x91\\xce-ZN\\x0ek\\x94\\x97\\xb1S\\x83\\xa98\\xbd\\x8bjN\\xc4\\x9d\\xa9C\\x10v \\xecA\\xdc\\x94=HzP\\xd4\\x1d\\xa8;\\x10v\\xa4\\xeeJ\\x18\\x839(z\\x92\\xb3\\x99G2\\nT\\x14\\x8bA\\xda\\x941\\x07Y\\xcc\\xc4\\x1d\\x89:LT\\x98\\xa8)LB\\x18\\x84)\\x06b\\x11\\x05*Ld\\x14\\xa7)\\x10b\\xa0\\xc51\\x08r\\x94\\xe5)\\xcaC\\x94\\xa7)LR\\x94\\x83(\\xc6A\\x8d\\x061\\x8cR\\x0cc\\x10\\x881\\x90\\x84\\x18\\x84!\\x08c\\x19\\x081\\x08D\\x18\\xcaB\\x10c1\\x08b\\x94\\xa4\\x19\\xcaT\\x9c\\xccJ\\x1e\\xc5A\\x8bI\\x8aQ\\x8c\\x83\\x18\\xc4!\\x88C\\x10\\x84!\\x08B\\x10\\x841\\x08c\\x18\\xc6\"\\x0cf1T\\xa4\\x94\\xa51\\x8cB\\x10c\\x18\\xc62\\x10\\x84!\\x08B\\x14\\xa5!\\x081\\x90d\\x19\\x08B\\x10\\x84!\\x08B\\x0cc\\x19\\x081\\x8cd\\x19\\x08A\\x8cc\\x18\\xc61\\x8ccA\\xcc\\x83\\x9d(B\\x90\\x84\\x9c\\xeaB\\x10s\\xa0\\xe6J\\x0e\\x94\\x1d\\x072Ng1S\\x94+Y\\xde\\xf5',\n",
              " b'\\xb5\\xaa\\xe74\\xe71\\xccd\\x1c\\xcbJ)8\\xefx\\xbe1ZJQ\\x83\\x12\\x87\\xad8\\xac\\xafz\\xc1\\xacr\\x90\\xe5!\\xa9C\\x10u\\xa0\\xccA\\xdc\\x94Ei\\x93\\x14\\xf5%\\xa9;\\x92\\x86\\xa0\\xeb9\\x96s=IY\\xcc\\x93\\x15\\x05\"LW)\\x10b\\xa0\\xc59IjP\\xb3\\x99F*\\x8ed\\x98\\xa8)NR \\xa5I\\x8a\\xa3\\x99&*\\nD\\x14\\xa91\\x92s\\x1c\\x841\\x08r\\x90\\xe5\"\\x0cU\\x1c\\xe81LB\\x18\\xa49H\\xa4\\x1diI\\x06\"\\x0ce!\\x081\\x9c\\xa5)\\x08A\\x08\\x83\\x19\\x061\\x88D\\x18\\xcaA\\xa4\\xc6Q\\xcer\\x94\\xe5*\\xd0\\x86\\xa9.b\\xa4\\xf7E\\xccbPb\\x10b\\x10\\xc4!\\x08B\\x10\\x84!\\x08B\\x10\\x84!\\x08B\\x10\\xc6!\\x8ce)\\x14\\x94\\x94\\xa41\\x8c1\\x8cc\\x18\\xc62\\x10\\x84!\\x08B\\x10\\x84!\\nB\\x10\\x84!\\x08B\\x10\\x84!\\x08B\\x0cc\\x18\\xc6B\\x10\\x84!\\x08A\\x90c\\x18\\xc61\\x8ccJ\\x0e\\x84\\x1dIJ\\xd4\\xa4\\x1c\\xe9B\\x14\\x94)(A\\xce\\x83\\x9c\\xe61\\xccT\\x9c\\xd1{iIV\\xd4\\xc6-\\x8c^\\x94\\x9bZ\\xc5\\xa5\\x13\\x8b\\xf3\\x9b\\xf7\\xbb\\xa5mZJ\\xb5\\xaa\\xd4\\x99=\\x9c\\xde/\\x8cA\\xacjP\\xd5%G2LV \\xf0Zf\\xe5\\xcd\\xab\\x8a\\xd2\\xe4\\xa1\\xa8;\\x10u\\x9c\\xca1^\\xa49\\'j\\x0e\\xb3\\x95\\xa8<X\\xa9\\xbd\\xb1j\\xe2\\xd5\\xc5\\xabz\\xd4\\xb3\\x99F*\\xcee\\x9c\\xcb9\\x96b\\xac\\xe6Y\\xcc\\xb3\\x99F*JE\\x9c\\xc91PR\\x1c\\xa4AJ\\x82\\x95\\x05\"LT\\x14\\xa91\\x94s$\\xc5I\\x8a\\xc4\\x1d\\x05)\\x883\\x94\\x86!\\nA\\x94c9H\\x82\\x95\\x05\"\\x8ee\\xa0\\xeb9\\x94s-\\x07R\\x0e\\x82\\x95\\x05*\\x0cS\\x94\\xa6!\\x0cB\\x14\\x841\\x08b\\x94c\\x18\\x84 \\x84\"\\x10\\x84!\\x08B\\x10\\x84!\\x08B\\x10\\x84!\\x8cd \\xces\\x14\\xa5)J1\\x8cc\\x19\\x08B\\x10\\x84!\\x062\\x0c\\x84',\n",
              " b'!\\x08B\\x10\\x84!\\x08B\\x10\\x84!\\x061\\x8cc\\x19\\x06B\\x10d\\x18\\xc61\\x8cc\\x18\\xc61\\x8ccRR\\xb5\\xa9\\x8cZ\\xd4\\xa4\\x1c\\xebR\\x9a\\xc5\\xadIZP\\xa4\\x1d(:\\x0cc\\x98\\xc99\\xa0\\xf6\\xceq\\xa5%{\\xd7\\x19\\xbd)(\\xc1\\xd6\\xac\\xb5\\xacw\\xdc\\x94\\xe9ZK:\\xd3\\x18\\xb9\\xc5\\xdd\\xee\\xab[1(j\\x90\\xb3\\x99&+R\\x881Rj\\xe8\\xe6Eiz\\x90\\xc4\\x1df*\\xcee\\x18\\xafR$\\xc5\\xbdHrO\\x05\"m\\\\\\xdc\\xb9\\xb9\\x90b\\xa2\\xd5\\xc1\\x8br\\xd2\\xe5%\\xcaC\\x92w%\\rA\\xd8\\x830\\xe6Y\\xcc\\xb3\\x99\\x873\\x92v\\xa0\\xeb9\\x96s,\\xe6a\\xcc\\xa3\\x15g3\\x12\\x86\\xa9\\rRTs \\xa4Y\\xcc\\xf5%%*LT\\x98\\xa8)\\x0eB \\xa4Y\\xcc\\xa3\\x15g3Pg$\\xecA\\x92b\\x9c\\x849Hb\\x10\\xe4\"LS\\x10e\\x18\\xc6!\\x08!\\x10\\x841\\x0cb\\x10\\xc61\\x08A\\x08D!\\x08B\\x10\\x84!\\x08B\\x10\\x84!\\x8cc\\x18\\x8aR\\x98\\xc6\\x18\\xc6!\\x08c\\x18\\xc61\\x90\\x84!\\x062\\x10\\x84!\\x08B\\x10\\x84!\\x08B\\x10\\x84!\\x061\\x90\\x84\\x18\\xc61\\x8cc\\x18\\xc61\\x8cc\\x18\\xc61\\x8ccZ\\x94\\xb5%jK\\x18\\xc5\\xadmk\\x16\\xa4\\xb5js\\x14\\xd5\\xa9iBPu \\xebJ\\x1c\\xc5\\xc5\\xee\\x94\\xa19F\\x94\\x9d\\xadK\\xde\\xb8\\xbdy\\xcc\\xf7\\xdd\\x8cc{O|\\xe4 \\xecZ|\\xe6\\xa1\\x08\\xb5(jP\\xb4\\x1d\\xebL\\x18\\xa81Rr\\xe2\\xc5AIrN\\xd4\\x1d\\xa9;\\xd4\\x86\\xa0\\xf3s\\x1c\\x94AH\\xab\\xd9X6\\xb0m\\xa2\\xebI\\xf6\\x8b\\xa6\\xf7A\\x8az\\xd3\\x06*\\x0bK\\xd4\\x87\\xa9.J\\x1c\\x945\\x07rP\\xe5!\\xc9C\\x92\\x87%\\x0eI\\xdc\\x93\\xb9\\'rN\\xe4\\xa2\\x0bK\\xd8\\xa7\\xb1J9\\x8eR\\x1c\\x84jP\\xe4\\xa1g2\\x8cT\\x98\\xa8)\\x12R\\xa4\\xa4a\\xcc\\xa3\\x15g+\\x0ef\\x9c\\xcc9\\x90R\\x14\\x83',\n",
              " b' \\xc4A\\x88\\xa3\\x19\\x88C\\x14\\x85!\\x081\\x88B\\x10\\x84!\\x08B\\x10\\x84!\\x08b\\x10\\x84!\\x04B\\x10\\x84!\\x08B\\x10\\x84!\\x08C\\x10\\x8cc\\x10\\x84\\x10\\x84!\\x08c\\x18\\xc61\\x8cc\\x19\\x062\\x0c\\x84!\\x081\\x90\\x84!\\x08B\\x10\\x83\\x18\\xc6A\\x8cc\\x18\\xc61\\x8cc\\x18\\xc61\\x0cb\\x18\\xc4!\\x88cRR\\xb5)\\xac\\\\c\\x07=\\xeaR\\x94\\x94-)j\\xd4\\xd5\\xa9\\xcc[\\x98\\xb7\\xb1ok\\x1c\\xc5\\xb9\\x8b\\x83\\xdbI\\xc79\\xbe1{Z\\x98\\xc5\\xb9\\xcc\\xebz\\x8c\\x1f\\xbd_[\\xdcb\\xfdf\\xba\\xcd\\xe3\\x07=\\x8bj\\x90\\xd4\\xa1\\xecS\\x94\\x981Pb\\x9e\\xb4\\xc1i\\x82\\xd2\\xf5!\\xeaD\\x14\\x991V\\x83\\xa6\\xe5\\xdeN\\xc4\\xe1i>\\xb0nk\\x1c\\xd64\\x83b\\xd5\\xc1\\x8a\\x8b\\x15&\\xaeM\\\\X\\xa8\\xb5qb\\xa2\\xc5I\\xab\\x93\\x99&\\xb1\\xe9DV\\xa7\\xa9\\x10Z`\\xa4\\xb9(rP\\xe4\\x9d\\xa8;R\\x85\\x1c\\xc7)\\x0eR \\xa4r\\x92\\xd4\\x9d%!\\xc8D\\x94\\xa8!\\x14b\\xa8\\xc5Y\\xca\\xa3\\x11F+\\x0eV\\x1c\\xac9Rb\\x90c\\x18\\x84!\\x08B\\x10\\x84!\\x08C\\x10\\x86!\\x08B\\x10\\x84!\\x08B\\x10\\x84!\\x08B\\x10\\x84!\\x08B\\x10\\x84!\\x08B\\x10\\x84!\\x08C\\x18\\xc61\\x88B\\x10\\x84!\\x08B\\x10\\x861\\x8cc\\x18\\xc61\\x8cc\\x18\\xc61\\x8cc \\xc8B\\x10\\x83!\\x061\\x88B\\x10\\x841\\x8cc\\x18\\xc61\\x0cb\\x18\\xc4!\\x08BsZ\\xc5\\xad\\xcdd\\xa5\\x179\\xc9JX\\xb5\\xb5kR\\x10\\xb5)jJ\\x90\\x85\\xa9.b\\xda\\xb5-({X\\xf76\\x0fm\\xed[Z\\xb8\\xc5y\\xcc\\xe37\\xa4\\xa1\\xdeg:\\xd4\\xe2\\xfdb\\xb5\\xa4\\xa0\\xe6E\\xcdr\\xd4\\xf5\\xa9\\xebS\\xd6\\x97\\xadOZb\\xc5E\\x8a\\x8b\\x13\\x16*m]\\x1c\\xcbE\\xb7\\x93\\xeb\\x07bp\\xac]G\\xb7\\x13~\\xad*\\xca\\x11j\\xe2\\xd5\\xc5\\x8b\\x8bU72\\x8fm\\xa7\\t9\\x91j\\xa4\\xd5\\xc9\\xcb',\n",
              " b\"\\x82\\xd5\\x05\\xa6,T\\x9a\\xb8\\xb11b\\xa0\\xb4\\xbdIj\\x0e\\xe5!\\xa9;\\x10u\\x9c\\xca9\\x96s0\\xe6z\\x92\\xb3\\x98\\xe4!\\xc8D\\x18\\xa91RR$\\xc5Y\\xca\\xa3\\x15\\x04\\x1a\\x8cU\\x9c\\xab9PR\\x0cB\\x10\\x84!\\x08B\\x10\\x84!\\x08B\\x10\\x84!\\x08B\\x10\\x84!\\x08B\\x10\\x84!\\x08B\\x10\\x84!\\x08B\\x10\\x84!\\x08B\\x10\\x84!\\x08C\\x18\\xc4!\\x08B\\x10\\x84!\\x08B\\x10\\x84!\\x08b\\x10\\x84!\\x88c\\x18\\xc61\\x8cc\\x18\\xc61\\x8cc\\x18\\xc61\\x88B\\x10\\x841\\x8cc\\x18\\xc61\\x0cb\\x10\\xc4!\\x08B{\\xdc\\xd61\\xeem)8\\xcaO{\\xe3\\x081kJ\\x10\\x94!\\x8bZ\\x92\\x85\\xa5,Z\\x9c\\xd6=\\xcdsX\\xf75\\xcdc\\x9a\\xbaN8\\xbd7\\xbb\\xd6\\xb3\\xb4\\xe3\\xdek\\x19\\xc5\\xab-f\\xb1\\x83\\xdc\\xb5A\\xacj\\x90\\xd4\\xa1\\xcaC\\x94\\x87\\xad0b\\xa6\\xe6I\\xcb\\x9b\\x97X6\\xd1u\\xa2\\xeb\\xc9\\xf6\\x93\\xe9\\x06\\xd2\\r\\x9b\\xd9H7\\x13~\\xab)\\xbd\\xd1s \\xc5I\\xcc\\x93W7\\xb2\\xd2}d\\xf8\\xb9\\x91j\\xe2\\xc5M\\xec\\x8bU\\x05\\xa6+TV\\xa95pb\\xa0\\xc5A\\x8az\\xd2\\xd4\\xa1\\x88;\\x92\\x86\\xa0\\xcdI\\xda\\x83\\xb9'r\\x92\\x82\\x90\\xe4!\\xcaD\\x18\\xa8)Rb\\xa8\\xc5Q\\x8a\\x82\\x0c\\xe4\\x1a\\x8cU\\x9c\\xcb9\\x8cB\\x08B\\x10\\x84!\\x08B\\x10\\x84!\\x08B\\x10\\x84!\\x08B\\x10\\x84!\\x08B\\x10\\x84!\\x08B\\x10\\x84!\\x08B\\x10\\x84!\\x08B\\x10\\x84!\\x08B\\x10\\x84!\\x08B\\x10\\x84!\\x08B\\x10\\x84!\\x08B\\x10\\x84!\\x08B\\x10\\x84!\\x08B\\x10\\x84!\\x08B\\x10\\x84!\\x08B\\x08\\x84!\\x08B\\x10\\x84!\\x08B\\x10\\x84!\\x08B{\\xdc\\xe6\\xb2\\x10u\\xf1jZ\\xd1\\x94\\x9e\\xe7-JZ\\x94\\xa4\\xa1\\x8bSV\\xb71\\x8fk`\\xf7F\\x0f\\xa4\\xe59Fr\\x84\\xa2\\xf9E\\xd8\\xbc\\xf5\\x9bNP\\xc5e\\xcej\\xf7\\xae-<\\xde\\x91{\\x9a\\xb5=\\x8a\",\n",
              " b'bP\\xb4\\x1d\\xa9;Rw)\\x11j\\xe4\\xe6M\\xec\\xac\\x1bh\\xbb\\x12}`\\xdbI\\xd5\\x93\\xe8\\xf6M\\xec\\xa4\\x1bH7\\x13~\\xad:A\\xd2{f\\xf6R\\r\\xa3\\xdb72\\xd1|\\xe0\\xd81Pb\\xa2\\xd5I\\xaa\\x9b\\x97&\\xaeM\\\\\\x9a\\xb81Qk \\xd5\\xb9i\\x93\\x98\\xf5\\xa5\\xcaC\\x94\\x87\\xa9\\x0eJ \\xb4\\xc5\\xaa\\x83\\x14\\xa3\\x98\\xc4!\\x884\\x14\\x88)Vs\\xa4\\xc5AH\\xa3\\x19\\x05\"\\x8cU\\x18\\xa81F1\\x08B\\x10\\x84!\\x08B\\x10\\x84!\\x08B\\x10\\x84!\\x08B\\x10\\x84!\\x08B\\x10\\x84!\\x08B\\x10\\x84!\\x08B\\x10\\x84!\\x08B\\x10\\x84!\\x08B\\x10\\x84!\\x08B\\x10\\x84!\\x08B\\x10\\x84!\\x08B\\x10\\x84!\\x08B\\x10\\x84!\\x08B\\x10\\x84!\\x08B\\x10\\x84!\\x08B\\x08\\x84 \\x88B\\x10D!\\x08A\\x10\\x84!\\x04\"\\x84\\x1d\\x18>s\\x8e\\xf9\\x9ck3\\xa5\\x1a\\xc61kb\\xd6\\xc5\\xad\\xaccX\\xb75\\x8fsb\\xf7J/\\x9ca(:Q|\\xe2\\xf9\\xc5\\xd8\\xac\\xafYN.\\xd6+\\xbdb\\xf5\\x96m;\\xd6Pk\\x1c\\xb59\\x8aj\\x92\\xe5%\\xebT\\x18\\xb8\\xb5\\x92s$\\xe6Q\\xed\\xac\\x1bX7\\x13}\\xa5\\t\\xbd\\xb6\\x93\\xe6\\xf6R\\r\\xb4\\x9fX\\xba\\xf2v\\xad:E\\xd3\\x83i\\x07V\\r\\xac\\x1dG\\xb6\\xb1ub\\xe99\\x93{i\\x07M\\xcc\\xac\\x1bi>\\x91|\\\\\\xc7\\xad0j\\xde\\xc6)\\x07s\\x15\\x171\\xebLZ\\xa8\\xb5Pb\\x9e\\xa4E\\xaa\\x9c\\x1a\\xf6-\\x06)\\xcaC\\x94\\x899\\x90b\\xa0\\xa5(\\xc6\\x93\\x15g2LD\\x98\\xa5 \\xc4!\\x08B\\x10\\x84!\\x08B\\x10\\x84!\\x08B\\x10\\x84!\\x08B\\x10\\x84\\x11\\x08B\\x10\\x84!\\x08B\\x10\\x84!\\x04B\\x10\\x84!\\x08B\\x10\\x84!\\x08B\\x10\\xc4!\\x08B\\x10\\x84!\\x0cB\\x10\\x84!\\x08B\\x10\\x84!\\x08B\\x10\\x84!\\x08B\\x10\\x84!\\x08B\\x10\\x84!\\x08B\\x10\\x84!\\x08B\\x10\\x84!\\x08A\\x10\\x84!\\x08B',\n",
              " b'\\xa5%)B\\x94\\x8f{\\xbc\\xeb7\\xc6\\x1c\\xe71\\x8b{\\x9a\\xf75\\xees\\x9a\\xc7\\xbd\\xb2\\x8b\\xe7\\'\\xda\\x92\\xad#IBPt\\xe2\\xe9\\xc1\\xb5\\x93\\xe9\\x17Z\\x90\\xe6\\xef\\x9cZ\\xf5\\x96-:\\xce/b\\x9e\\xc59i{\\x14\\xe5\\xa9\\xecS\\xd8\\xb7\\xb1Qj\\xe4\\xd5\\xcd\\xcb\\x93\\x97&\\xaf\\x13\\x86k:A\\xd7\\x9c+\\x17R\\x0e\\xac]X\\xba\\x8ffk:A\\xd4\\x83i\\x07Q\\xed\\xa4\\x1dH6\\xd2}\\xa5\\n\\xc5\\xd4\\x8b\\xab\\x17V.\\xbc\\xe1y\\xc2\\xd4\\x8d%\\x08\\xbd\\xafj\\xde\\xd6)\\'s\\x158\\xbepu\\xe9\\x1a\\xc5\\xd1s\\x1a\\xa4R\\r\\xbc\\xe1zI\\xabJNc\\x94\\x899\\x90b\\x98\\x84A\\x8a\\xa3\\x99\\xcbJ\\xcee\\x1c\\xc4 \\xc4!\\x08B\\x10\\x84!\\x08B\\x10\\x84!\\x08B\\x10\\x84!\\x08B\\x10\\x84!\\x08B\\x10\\x84!\\x08A\\x10\\x82!\\x04B\\x10\\x84!\\x0cB\\x10\\x84!\\x08b\\x10\\xc4!\\x08B\\x10\\x86!\\x0cB\\x10\\x84!\\x08B\\x10\\x84!\\x08B\\x10\\x84!\\x08B\\x10\\x84!\\x08B\\x10\\x84!\\x08B\\x10\\x84!\\x08B\\x10D!\\x08B\\x10\\x84!\\x08B\\xad\\xa9)B\\xf7\\xa7\\xbd\\xcdo[\\xde\\xadj\\xd2q\\xad\\'JN\\xb5\\xa5\\xed\\\\b\\xd9\\xcd\\xadYVq\\xb5#Y\\xc2\\x91|\\xe2\\xf9A\\xb3\\x83k\\'f\\xd2\\xe6\\xaf\\x8bN\\xf4\\x8e+*I\\xefb\\xa0\\xc5\\xc1\\x8b\\x83W\\x172-\\\\\\x1a\\xb95rj\\xe2\\xd5\\xc9\\xab\\x93\\x97G\\xb2\\xf2~)\\x0b\\xce\\x16\\x93\\xed\\'\\xdaO\\xb4\\x9fH\\xba\\x90n)\\x1bN3\\x83i\\x06\\xce\\r\\xac]i;\\x13\\x85\\xa4\\xfa\\xc5\\xf5\\x8b\\xab\\x17^\\x90\\xd6)\\x9bK7\\x9dg\\x171nb\\xa5\\x17A\\xed\\x83\\xdb9>\\x92\\x85\\xeb*\\xcd\\xf2{\\\\\\xb5=\\x8a\\xac\\x9fz\\xca0s\\x14\\x93\\x94\\xa7)Pb\\x98\\x84(\\xc6r\\x11\\xcbKT\\x85 \\xe4\\x18\\xc6!\\x08B\\x10\\x84!\\x08B\\x10\\x84!\\x08B\\x10\\x84!\\x08B\\x10\\x84!\\x08\"\\x10D!\\x08B\\x10\\x84!\\x08B',\n",
              " b\"\\x10\\x84!\\x0cB\\x18D!\\x08b\\x10\\xc4!\\x08B\\x10\\x86!\\x0cB\\x18\\x841\\x08B\\x10\\x84!\\x08B\\x10\\x84!\\x08B\\x10\\x84!\\x08B\\x10\\x84!\\x08B\\x10\\x84!\\x08B\\x10\\x84!\\x08B\\x10\\x84!\\x04B\\xbd\\xeb{\\xd7Z\\xbf\\xbd\\xde\\xf7\\x9d\\xee\\xf7\\xbc\\xe2\\xf5\\xe6\\xf3\\xefw\\xff\\xf7\\xff\\xeesw\\xb5'\\x17\\xca\\r\\xa4\\x9fIBq|\\xe2\\xf9=\\x93{/7\\xef\\x13\\xcd\\xe9zF\\xf4\\x85\\xe9\\x19=\\xb1s$\\xe6N\\r\\xac\\xe1zF\\xf4\\x8c\\xde\\xca\\xc1\\xb6\\x8b\\xab\\x06\\xd6\\r\\xa3\\xd9X6\\xf2u\\xe4\\xeb\\xcd\\xf8\\xa41Hb\\x90\\xc5!zB\\xf4\\x8d\\xe9\\x1d^\\x95\\x93\\xeb'\\xd6o\\xb4\\xe1y?\\x14\\x86+\\x1c\\xdaY\\xbd1X\\xf3V\\xe6\\xf1\\xacR\\xf6\\x94\\xe2\\xf71ps'\\x17\\xca\\x0e\\x83\\xda\\xe6-\\xed]\\xe9\\x1a\\xd2LZ\\x9a\\xc69\\x8b\\x8b\\xdbY\\xbes\\x8aPt\\x9c\\xc6!\\x0eb\\x94c \\xc6R\\r\\x8aBNb\\x90\\x83\\x10\\x86!\\x08B\\x10\\x84!\\x08B\\x10\\x84!\\x08B\\x10\\x84!\\x08B\\x10\\x84!\\x08B\\x10\\x84!\\x08B\\x10\\x84!\\x08B\\x10\\x84!\\x08B\\x18\\x841\\x08b\\x10\\xc4!\\x08B\\x10\\x84!\\x0cC\\x18\\x841\\x08B\\x10\\x84!\\x88B\\x10\\x84!\\x08B\\x10\\x84!\\x08B\\x10\\x84!\\x08B\\x10\\x84!\\x08B\\x10\\x84!\\x08B\\x10\\x84!\\x08B\\xbd\\xa7\\x8b\\xd79\\xb7\\xbd\\xce\\xf7\\x9c\\xee\\xb7\\xbc\\xda\\xd4\\xbd\\xa9\\xcd\\xe7\\x9c\\xd6u\\x98\\xca\\x11\\x83d\\xf6\\xc5\\xcc\\x93\\xd98:pt\\x9e\\xd99\\x94\\x83o8f\\xb2\\xbd#\\x8a\\xc7\\x15\\x8d\\xe9\\x19=\\xb4\\x8b\\xafYk\\x15\\xdem\\xcd[y\\xb6++I\\xf8\\x9c1Hb\\x90\\xbc\\x9dh\\xba\\xf2}\\xa4\\xfb\\xcd\\xf8\\xa41Hb\\x90\\xcdc\\xabK7\\x9e+-b\\x9a\\xcd\\xb1i\\xda\\x91\\xb4\\xa1\\x8aC\\x14\\x86\\xf1?w<\\xdeu\\x8a{\\xba\\xd6-z\\xca\\xd4\\x8d\\xeb*N1\\x83\\xa0\\xe61iR\\x0e\\xb4\\xa1\\xccU\\xe9\\x1aRkR\\x9a\\xc69\\xac\",\n",
              " b'j\\xd3Y>s\\x89\\xccS\\x98\\xa99\\x98\\xb5\\x10c)\\x06Q\\x8d\\xaaI\\xccQ\\x88C\\x10\\x86!\\x08B\\x10\\x84!\\x08B\\x10\\x84!\\x08B\\x10\\x84!\\x08B\\x10\\x84!\\x08B\\x10\\x84!\\x08A\\x10\\x84!\\x08B\\x10\\x84!\\x0cB\\x18\\x841\\x08b\\x10\\xc4!\\x88C\\x10\\x86!\\x8cB\\x18\\x841\\x08b\\x10\\xc4!\\x88B\\x10\\x84!\\x08B\\x10\\x84!\\x08B\\x10\\x84!\\x88C\\x10\\x86!\\x0cB\\x18\\x841\\x08B\\x10\\x84!\\x04B\\xad%JJ\\xb3\\x8f7\\x8e\\xf7\\x98\\xcd\\xf5\\xacNR\\x83\\xdd(\\xbe\\xb4\\x95\\xefYF\\x11{d\\xf6\\xc1\\xcc\\x83W\\'2Nd\\x9c\\xc9\\xbd\\xb6\\x93\\xef8Zo\\xb4\\xdf\\x9a\\xc76\\x96+,Z|\\xde{\\xdd\\xf7\\xba\\xef3\\xcd\\xe3y\\xb6\\xafKN\\x17\\x9b\\xf3X\\xe6\\xb1\\xcd!y\\xbe\\xd2u\\xa4\\xebI\\xd7\\x9b\\xf17\\xe2\\x90\\xcdc\\xab\\xcfy\\xae\\xf3m\\xe6\\xdc\\xde7\\xbck7\\xd6+\\xab\\xcfV\\x8e\\xef.\\xf3<\\xdeu\\x8ak\\x15\\xa4\\xa1I>\\x92\\x85\\xab,\\xe6\\xd4\\xa4\\x9a\\xc6%\\x08RP\\xe6-\\x8aL\\\\\\xc9E\\xe6)V\\x94-(j\\xd3Y\\xbeS\\x89\\x8aR\\x0ci9\\xd8\\xb5\\x94c)\\x08Q\\x8d\\xabIJQ\\x88b\\x10\\x84!\\x0cB\\x10\\x84!\\x08B\\x10\\x84!\\x08B\\x10\\x84!\\x08B\\x10\\x84!\\x08\"\\x10\\x84!\\x08B\\x10\\x84!\\x08B\\x08\\x84!\\x0cB\\x18\\x841\\x08b\\x10\\x84!\\x08C\\x18\\xc6!\\x8cC\\x18\\x861\\x0cb\\x10\\xc4!\\x88C\\x10\\x86!\\x0cB\\x10\\x84!\\x08b\\x18\\xc4!\\x88C\\x10\\x86!\\x0cB\\x10\\x84!\\x08B\\x10\\x84!\\x04B\\x9c\\xe3\\x17\\xbaPv\\xb1^\\xf7w\\xc5\\xb5\\xbcV\\xb4{\\x9a\\xf6\\xb2Q}\\'\\x1a\\xd2Q{`\\xd5\\xc1\\xab\\x83\\x17\\x16\\xae\\x0cT\\x9c\\xca=\\xb5\\x8b\\xad\\'\\xd6.\\xbc\\xe1\\x9a\\xc7x\\xa79\\x9f{\\xbe\\xf7\\xbb\\xdes\\x9a\\xd6-zF\\xb0u \\xdbI\\xf4\\x83m\\x17j\\xb1\\xcdc\\x9a\\xc6\\xf3\\x85\\xa4\\xfb\\xcd\\xf7\\xa4/H^\\x91',\n",
              " b'\\xc5e\\x9b\\xcfx\\xa77~\\xf7>\\xee\\xfd\\xde{\\xdc\\xf7\\xb9\\xdegy\\xae\\xaf.f\\xbc\\xd5\\xf1i\\xd6p\\x9c]IBQ\\x84\\xe4\\xfdf\\xdb\\xdee99\\xcdk\\x16\\xd5\\xac\\xe5+T\\x88\\xbd\\xaaA\\xd8\\xa4\\xadHs\\x15\\x8bN1\\x81JB\\x90h1\\x96\\xa4\\x98\\xa5 \\xc6A\\x89jI\\x06A\\x8cb\\x10\\x84!\\x08B\\x10\\x84!\\x08B\\x10\\x84!\\x08B\\x10\\x84!\\x08B\\x10\\x84!\\x08B\\x10\\x84!\\x08B\\x10\\x82!\\x04B\\x08\\x84!\\x0cB\\x18D!\\x08B\\x10\\xc4!\\x88C\\x18\\xc61\\x8cC\\x18\\x861\\x0cb\\x10\\xc4!\\x88C\\x10\\x86!\\x0cB\\x18\\x84!\\x08B\\x10\\xc4!\\x88C\\x10\\x86!\\x0cB\\x18\\x841\\x08B\\x10\\x84!\\x08BsZ\\xe62.m\\xe9\\x1d\\xef\\x16\\xb4\\xf3\\x8a\\xe7\\x16\\x8c\\x1d\\x07\\xb6Pu%\\nJ\\x13\\x8b\\xde\\xd5\\xc1\\xab\\x8bW\\x16\\xaeN] \\xdaA\\xd5\\x93\\xe9\\x06\\xd2\\r\\xc5!\\xcd_\\xde\\xe7\\xbd\\xee\\xf7\\x9d\\xef5\\xac^\\xb2\\xac]7\\xb2\\x8fe\\x1e\\xca\\xc5\\xd4{d\\xe6ZN\\xcdc\\xab\\xcbW\\x9e\\xaf<\\xdaZ\\xc59\\xab\\xeb6\\xbdezF\\xf5\\x8em-\\xe2\\xbc\\xde=\\xdd\\xfb\\xdc\\xff\\xfb\\xefs\\x9c\\xde\\xb3|\\xde\\x9a\\xc5szZ\\x91\\xac\\xa1IBr\\x8c`\\xfaN\\x1b\\xd5\\xf9\\xcdR\\xb3s\\x9a\\xb5(\\xe63\\x96\\x989jA\\xd2s-I\\x83\\x97\\xac\\xd9\\xcei\\x061\\x88G1Nc\\x0cc\\x18\\xc6A\\x8dH@\\xc61\\x88b\\x10\\x84!\\x0cB\\x10\\x84!\\x08B\\x10\\x84 \\x88A\\x10\\x84!\\x84C\\x08\\x84!\\x08\"\\x10D!\\x08B\\x10\\x84!\\x04B\\x10\\x84!\\x0c\"\\x10\\x84!\\x08b\\x10\\xc4!\\x88c\\x10\\xc6!\\x8cC\\x18\\xc61\\x0cb\\x10\\xc4!\\x88c\\x10\\x86!\\x0cB\\x18\\x84!\\x08b\\x10\\xc41\\x88c\\x18\\xc61\\x8cC\\x18\\x841\\x08B\\x10\\x84!\\x08B\\x8cb\\xd6-\\xedeg\\r\\xe6\\xd7\\xb4\\xedYoW\\x94\\xa1\\x071\\xed\\\\\\xa0\\xe9A\\xb4\\x93\\xe0\\xd69i',\n",
              " b'\\x8bWG\\xb6\\xb1ub\\xebI\\xf6\\x93\\xe6\\xf6\\xe2\\x91\\xee\\xf1\\xefw\\xbd\\xe7;\\xbesy\\xcd\\xedH\\xd6O\\xac]X\\xba\\xb0mb\\xea\\xc5\\xd4{f\\xf6\\xd2\\r\\xc5!\\xbcS\\x9a\\xae\\xf5l^\\x96\\xa4+8^\\xb2\\xc5ei\\xc2\\xb2}f\\xfbN\\x16\\x9cqX\\xe2\\xd2\\xd6+\\xac\\xdf9\\xbd\\xedKR4\\x93\\xe5\\x07I\\xed\\x94\\x1b\\x17\\xb6/s\\xda\\xb7\\xb9\\x95\\x9c9\\xbco\\x9a\\xad\\xa9\\x08=\\xac\\\\\\x1c\\xb89kJ\\x14\\x83\\xb1I\\xb5%{\\xd5\\x088\\xc4\"\\x0ciB\\x0cR\\x8cc\\x18\\x84!\\x08\\x84 \\xc61\\x8cb\\x10\\x84!\\x0cC\\x18\\xc6!\\x0cB\\x10\\x841\\x08b\\x19\\x04!\\x88d\\x10\\xc8!\\x0c\"\\x10D \\x88B\\x10\\x82!\\x08B\\x10\\x84\\x11\\x08B\\x10\\x841\\x08b\\x18\\xc41\\x88c\\x10\\xc6!\\x0cB\\x18\\x861\\x08b\\x18\\xc4!\\x88C\\x10\\x86!\\x0cB\\x18\\x841\\x0cc\\x18\\xc61\\x8cc\\x10\\xc6!\\x8cB\\x18\\x841\\x08B\\x10\\x84!\\x04B\\xc6-I\\xca\\x92\\x8di\\x1db\\xb8\\xbd-Yk6\\xad%\\x075\\xcbT\\x1c\\xc8\\xbd\\xb4\\x8b\\xe7\\x07A\\x8b\\x9b\\xd9X\\xba\\xd2}\\xe7\\x0bJ\\x14\\x83\\xb1Ysx\\xe75\\xde\\xef\\x9c\\xde\\xb5\\x8c\\xe2\\xd7\\xac\\xab\\'\\xd6O\\xb4\\x9fh\\xba\\xf2~\\'\\n\\xc5\\xf5\\x83\\xab\\x17\\xd6/\\xc5#\\xacSz\\xb77|\\xe2\\xb7\\xa4m8Zp\\xbd#\\x9bN\\xf5\\x95$\\xfaE\\xf4\\x83\\xa6\\xf6VN\\xb5!Y\\xc6\\xb4\\x95g\\x1a\\xce\\x13\\x8b\\xe5\\x07A\\xcc\\x8b\\x99\\'\\xb6\\x0ed\\x1c\\xc7\\xb5oj\\xefX\\xebW\\xc6mZ\\xcer\\x84^\\xd4\\xa0\\xe81T\\x83\\xd2P\\xcen\\xb5\\xac\\x84\\x19\\x08B\\x90\\x89B\\x08A\\x8cB\\x18\\x841\\x08c\\x18\\xc41\\x8cb\\x10\\x86!\\x8cC\\x18\\xc61\\x90c \\xc6A\\x8c\\x83!\\x06B\\x90\\xa7)\\x90B\\x18C \\x840\\x88A\\x10\\x84!\\x08C\\x10\\x84!\\x08B\\x10\\x841\\x0cb\\x19\\x042\\x08c\\x10\\x86!\\x0cB\\x18\\x861\\x0cb\\x18\\xc41\\x88c',\n",
              " b'\\x10\\x86!\\x0cB\\x18\\x841\\x0cc\\x18\\xc61\\x88C\\x10\\x86!\\x0cB\\x18\\x861\\x0cb\\x10\\xc4!\\x04\"\\xceo\\x8cZ\\xd5\\xa5i,^\\x98\\xbd\\'\\'\\xda\\x91\\xcd\\xeb\\x17\\xb9\\xcbS\\xd8\\xb89\\x94\\x8b\\xafH\\xce\\x0e\\x9b\\xdbi>\\xf3\\x85\\xa7\\n\\xca\\x17\\xac\\xf5\\x9b\\xe7\\x16\\xd6o\\x9c\\xde\\xf4\\x95\\xe9\\x1cVX\\xa4\\xafH\\xde\\x91\\xbc\\xe1\\x89\\xc3\\x14\\x8e)\\x1a\\xc9\\xf6\\x9c-8^q\\xc5e\\x9b\\xcfX\\xa6\\xf5no\\x1a\\xcd\\xb1i\\xdaq\\xb4\\xa1i\\xc77\\xa6/KR3\\x83\\xa9\\x06\\xd6N\\xb4\\xe1Y\\xc6\\xb4\\x95\\xa9+RU\\x9cb\\xf7=\\xabZP\\xb4\\xa1\\xcd[\\xda\\xb71Nb\\xe2\\xf6\\xda\\x92\\xbd\\xa9kN\\xd6\\x9b\\xde\\xd4\\x1c\\xe9A\\xe5\\x17\\xe2\\xf6s\\x9cB\\x10\\xa4!\\x062\\x10\\x86)F!\\x0cC\\x18\\x861\\x0cc\\x18\\xc41\\x08C\\x10\\x861\\x8cc\\x18\\x861\\x8c\\x84!\\nR\\x10\\xa3\\x19\\x08C\\x18\\xe9)\\xd2B\\x9cd0\\x84@\\x88C\\x19\\x041\\x84C\\x10\\x86!\\x0cB\\x18\\x841\\x0c\\x83\\x19\\x042\\x08d\\x10\\xc6!\\x8cB\\x18\\x841\\x0cb\\x18\\xc41\\x88c\\x10\\x86!\\x0cB\\x18\\x841\\x08b\\x10\\xc4!\\x88C\\x10\\x86!\\x0cC\\x18\\x861\\x08b\\x10\\xc4!\\x08B\\xbd\\xeb{\\xd6\\x94\\x94\\xa5\\n\\xd28\\xbd\\'\\x17\\xce/\\xbdgY\\xc6\\x0ec\\xd8\\xb7\\xb1Qs/H\\xe2\\xd3\\xbd%Y\\xc2\\xd3\\x85g\\x0cZ\\x99\\xc5\\xabI\\xda\\x92\\xac\\xa1iC\\x14\\x8e+,R8\\xa4qYb\\xb2\\xc5#\\x8aG4\\x8ek,\\xdax\\xac\\xb1Yb\\xb2\\xcd\\xa7\\x8bO\\x16\\x9e\\xb3^o\\x1c\\xe6qz^\\xb2\\xbd#i\\xc6\\xf4\\x8e+,\\xde\\x99\\xbd1YZ\\xb2\\xb5gI\\xca\\x93\\x8di*\\xce4\\x8c\\x1e\\xd6=\\x8bb\\x92\\x83\\x99\\x072Pt\\xa0\\xeaB\\x18\\xa4\\xbd\\xcc\\x94\\x1d\\x18:\\x10kZ\\xc5\\xadQ\\x8c%9-k)\\x08A\\x8c\\x83\\x18\\xc62\\x0cc\\x18\\xc61\\x90c\\x18\\xc61\\x08c\\x18\\xc61\\x88c\\x10\\xc61\\x8cc',\n",
              " b\"\\x10\\x841\\x8cc!\\x08R\\x10\\xa3!\\x062\\x14\\xa72\\x14B\\xa0d0\\x86A\\x08c\\x19\\x08B\\x90\\x85!L!\\x90B\\x18\\x86A\\x0c\\x82\\x19\\x062\\x08d\\x10\\xc8!\\x90B\\x18\\x861\\x08b\\x18\\xc41\\x88c\\x10\\xc6!\\x0cB\\x18\\x841\\x08b\\x10\\xc4!\\x88C\\x10\\x86!\\x8cC\\x18\\x861\\x0cb\\x10\\x84!\\x08B\\xceo\\x9c\\xde\\xf7\\xad'\\x19\\xca\\x17\\xb4\\xefY\\xce0\\xac\\xe3\\xab\\xd6\\x92\\x83\\xd8\\xb81r{m8b\\xd3\\xbd#i\\xc2\\xf5\\x95\\xeb-f\\xd7\\xb5+(VO\\xac\\x9fi?\\x14\\x8ek,\\xd6X\\xa4qYf\\xb2\\xcde\\x9a\\xcb5\\x96+\\x1db\\xb9\\xb51Yf\\xd3\\xc5gzJ\\xf5\\x96-=b\\x9c\\xde7\\xbc\\xe7\\x15\\xc5e\\x9bK\\x15\\x95\\xa4\\xfb\\xce\\x1a\\xb4\\xf7\\xab\\xe7X\\xc6/{\\xd6\\xd6\\xa4\\xe7\\x189\\xb0k \\xd6=\\xab\\x83\\x98\\xe6-HA\\xccS\\x14\\xa89\\x92\\x83\\xa9\\x07s\\x14\\xe6.\\x0flb\\xf7\\xbd\\xccb\\xccc\\x10\\x84 \\xc6A\\x8cc\\x18\\xc62\\x0cc\\x18\\xc81\\x90\\x84 \\xc61\\x08c\\x18\\xc61\\x8cc\\x18\\xc61\\x8cc!\\x081\\x90c \\xc61\\x8c\\x83\\x19\\x062\\x0cc!\\x0cS \\x850\\x86A\\x8ce)\\x88B\\x98\\xc71\\xd0S\\x1c\\xa69\\nq\\x90\\xc2\\x19D2\\x08d\\x10\\xc8!\\x8cB\\x18\\x841\\x08b\\x10\\xc41\\x88c\\x10\\xc6!\\x0cB\\x18\\x841\\x0cb\\x18\\xc4!\\x88C\\x10\\x86!\\x8cC\\x18\\x861\\x08b\\x10\\x84!\\x08B\\xc5\\xa9\\x9c\\xdfZ\\xbd\\xedJ\\xd2V\\xac\\xb5\\x9b^\\xb3\\x9c\\x9f\\x8a\\xcb7\\xad%\\t\\xc1\\xd5\\x93\\xefH\\xe2\\xb2\\xbdei\\xc2\\xd4\\x8d\\xeb,\\xe6\\xf5\\x9co8\\xd6O\\xa4]y\\xc3\\x14\\x8ek-Zy\\xac\\xb3Yf\\xd2\\xd5\\xe9\\x9bO5\\x96m=b\\xb9\\xb53i\\xe6\\xd3\\xc5gz\\xcb\\x15\\x96-<Zz\\xcd\\xb9\\xcdg\\x16\\xbde\\x8a\\xca\\xf4\\x8d\\xe9\\x1cVY\\xbd7\\xab\\xebY\\xd6\\xb1\\xbd\\xe7{\\xd6\\xf7\\x9c\\xe6\\xf6\\xad%\\x18E\\xee\",\n",
              " b\"\\x8b\\xdc\\xe6\\xb1\\x8aR\\x92\\x84\\x1c\\xc71LR\\x98\\xa5A\\xcc\\xa4\\xa1JJ\\x0er\\x94\\xa5)JR\\x94\\x84!\\x08A\\x90\\x83\\x18\\xc62\\x0cd!\\x08B\\x10\\x84 \\xc61\\x8cc\\x18\\xc61\\x8cc\\x18\\xc82\\x10\\x84)JB\\x98\\xa51\\na\\x8c\\x83\\x18\\xc8B\\x14\\xa5!\\x08R\\x98\\x84(\\xc6A\\x8ce)HB\\x94\\xa61\\x8eS\\x1c\\xe8Q\\x90\\xb3!d2\\x06C\\x08d\\x10\\xc8!\\x8cC\\x18\\x861\\x0cb\\x18\\xc41\\x88c\\x10\\xc6!\\x0cB\\x18\\x841\\x08b\\x10\\xc4!\\x88C\\x10\\xc6!\\x8cC\\x18\\x841\\x08b\\x10\\x84!\\x08B\\xac\\xe3\\x8b\\xd7Z\\xc6qk\\xde\\x97\\xb4\\xf3\\x8ak6\\xb5gIB\\xf5\\x96m<VX\\xac\\xf1Yb\\xb2\\xcd\\xa7z\\xca\\x91}\\xe9\\x1c\\xe3\\x16\\x9c\\xad8\\xd6O\\xb4\\xa1\\x8aG\\x15\\x8em-Zy\\xb4\\xb5i\\xf3V\\xe6\\xaf\\xab\\xd37\\x9e\\xafMb\\xb9\\xbd3zb\\xd3\\xc5gz\\xcb\\x15\\x9e-<Zx\\xbd9\\xbck7\\xb5ejG\\x16\\x9eo<^\\x99\\xc5\\xb5\\xab\\xebX\\xd6\\xb1\\xbd\\xebZ\\xce\\xb5\\x8cb\\xf6\\xb5\\xaf{g\\x17\\xbd\\xedJN0{\\x18\\xb4\\xa1\\tA\\xd0s\\xa0\\xe7A\\xccs\\x18\\xe61\\xces\\x18\\xc61JR\\x14\\xa5!\\x08B\\x10\\x84!\\x08B\\x10\\x84!\\x061\\x90\\x84 \\xc61\\x8cc\\x18\\x84!\\x8cc\\x18\\xc8B\\x10\\x85!\\nB\\x14\\xa51Lr\\x94\\xc4!HB\\x10\\x85!\\x08B\\x10\\x84 \\xc61\\x8cc\\x18\\xc82\\x10d1\\x8cR\\x98\\xc7A\\x90\\xb3!\\x86B\\xc8d\\x8c\\x86\\x10\\xc8!\\x90C \\x861\\x08b\\x10\\xc4!\\x88C\\x10\\x86!\\x0cC\\x18\\x861\\x0cb\\x18\\xc61\\x8cc\\x10\\xc6!\\x8cC\\x18\\x841\\x08b\\x10\\x84!\\x88B\\xc5\\xa9z\\xcf8\\xae\\xb3mj\\xf8\\xc5qzoW\\xde\\xaf\\x8b\\xd2\\xd4\\x8d\\xeb,Vy\\xb4\\xf3jb\\xd3\\xbdeY\\xc2\\xd3\\x8e\\xafMg\\x13\\x8c+'\\xde\\x91\\xc5e\\x9a\\xcb6\\x96\\xad=^\\x9a\\xbd7\\x8a\\xf3W\",\n",
              " b'\\xdem\\xab\\xd3W\\xa6\\xafMf\\xda\\xc5szb\\xf4\\xc5\\xa7\\x8bS7\\xa6\\xafL\\xday\\xb55\\x8a\\xeb7\\xcd\\xeb\\x8b\\xd3\\x17\\xa6q\\\\b\\xd7\\xb5kI\\xd2\\x92\\xa4\\xe3Z\\xce\\xb5\\x9c\\xa7\\x19N\\x12\\x94g9\\xe3\\x16\\xd6q\\x8c[Y\\xbes\\x8aV\\x8es\\x96\\xa5)(J\\x0e\\x83\\x9c\\xe79\\xces\\x98\\xc61\\x8cc\\x18\\xc61\\x8cc\\x18\\xc51JR\\x0c\\x82\\x10\\x861\\x94\\xa5\\x18\\xc61\\x8cc\\x18\\xc61\\x8cc\\x18\\xc41\\x8cc\\x18\\xc6!\\x8cd!Jb\\x94\\xc4!H2\\x10\\x85)JR\\x94\\xa5)\\x08Q\\x8cc\\x18\\xc82\\x10d)\\x08R\\x94\\xa61\\xd0\\xa3\\xa5\\xa6K\\x0c\\x86\\x10\\xc9\\x19\\x0c!\\x94C \\x86A\\x08b\\x18\\xc41\\x88c\\x10\\xc6!\\x8cC\\x18\\x861\\x0cb\\x18\\xc41\\x88c\\x10\\xc6!\\x8cC\\x18\\x841\\x0cb\\x10\\xc4!\\x88B\\xad%z\\xcf\\x16\\xa6\\xb1^j\\xfb\\xd65\\x8a\\xeb\\x15\\xde\\xad\\xbd[7\\xa6-<Zy\\xbd3zf\\xf4\\xc5\\xa7\\x8bO\\x16\\x9e/Mk\\x15\\xa4\\xad8\\xe6\\xb2\\xd5\\xe9\\x9bOV\\x9e\\xafM^\\x9a\\xbd7\\x8a\\xef\\x15\\xd5\\xe9\\xab\\xd3V\\x9e\\xafMb\\xba\\xc5u\\x8bf\\xf5\\xce+\\x9b\\xd77\\xa6oL\\xday\\xbd5\\x8a\\xeb6\\xd6m\\x8b\\xd3\\x17\\xad\\xefKZ\\x95\\xad)9Rq\\xb5g\\x9cW9\\xb6s}k\\x1b\\xdey\\xcd\\xf7\\xbb\\xefw\\xbek:\\xc63\\x8b\\xe3\\x15\\xbd\\x9e\\xf7\\xa9(RP\\x94!\\x08B\\x0et\\x1c\\xe79\\xcec\\x18\\xc61\\x8cR\\x94\\x84 \\xc61\\x08B\\x10\\x8aR\\x94\\xa5!\\x081\\x8cB\\x18\\xc41\\x08B\\x10\\xc4!\\x88C\\x10\\x86!\\x8c\\x84!JR\\x10\\xa4!HB\\x90\\x85!JR\\x98\\xc61Jb\\x94\\xc4!\\x061\\x90\\x84)Jb\\x94\\xa5)\\x8e\\x83\\xa5\\x87KL\\x86\\x18\\xeb!\\x92B\\x9cC(\\x86A\\x08b\\x10\\xc4!\\x88c\\x10\\xc6!\\x8cB\\x18\\x861\\x0cb\\x18\\xc41\\x8cd\\x10\\xc6!\\x8cC\\x18\\x861\\x0cb\\x10\\xc4!\\x88B',\n",
              " b\"\\xb5eY\\xc6\\xd3\\x8d\\xe9,\\xda\\x9b\\xcd\\xb9\\xab\\xef5\\xd6)\\xab\\xd3W\\xa6\\xb1]b\\xba\\xc5szj\\xf5\\xd5\\xeb\\xacW7\\xae/L\\xe2\\xda\\xcd\\xb5\\x8a\\xeb\\x15\\xd6+\\xab\\xd3W\\xa6\\xafMb\\xbb\\xc5wzo\\x14\\xde+\\xab\\xd37\\x9e\\xf1]b\\xb9\\xbd5\\x9bg\\x15\\xcd\\xeb\\x9bO6\\x9em<\\xday\\xbd5z\\xe6\\xf4\\xd6m\\x8b\\xd7\\x17\\xad\\xedLb\\xb9\\xcd\\xb3\\x9b\\xebX\\xde\\xaf\\xbd_{\\xce\\xb5\\x9dk:\\xd6u\\xbc\\xeby\\xd6\\xf1\\xbeg|\\xd6\\xb7\\xadoZ\\xd6\\xaf\\x8b\\xb9\\xefB\\x0eb\\x94\\xc61\\x8cc\\x14\\xa5)JR\\x94\\xa5!\\x081\\x8cC\\x18\\x84!\\x8ce)Lc\\x10\\x85\\x18\\xc8!\\x08B\\x10\\x84!\\x08B\\x10\\xc4!\\x8cc\\x18\\xc8B\\x10c \\xc6B\\x10\\xa4!\\x06B\\x0c\\x84!\\x08B\\x10\\xa5)\\x8cc\\x18\\xe61\\xc62\\x10c!\\x08R\\x94\\xc5)Jc\\x9d&C\\nu\\x94\\xea)\\xd4C$d0\\xc8a\\x90\\xa3!D2\\x08C\\x10\\x86!\\x90d(\\xc8Q\\x8c\\x82\\x10\\xc42\\x08c\\x10\\xc8!\\x8cc \\xc6A\\x08b\\x10\\xc4!\\x88C\\xbd'jJ\\xd4\\x95\\xa7\\x1bN7\\xa4\\xb3zo\\x15\\xde+\\xacWW\\xae\\xb1]b\\xba\\xbdu\\x8bo6\\xd6-\\xac[X\\xaeo]^\\xbb\\xcd\\xb5\\x9bk\\x16\\xd6-\\xbcWX\\xae\\xf1]\\xe6\\xbb\\xcd\\xb7\\x8a\\xef\\x15\\xdem\\xac[X\\xb6\\xf3l\\xde\\x99\\xbd7\\x9boX\\xce-\\x9bO6\\x96m<\\xday\\xb4\\xf3jf\\xf4\\xcd\\xeb\\x8b\\xd6\\xf6\\xa5\\xefKZ\\x95\\xac\\xe9IJq\\x9c\\xe5JN\\x94\\x9c\\xa5)J2\\x94e\\x18\\xc6\\x10{\\xdd\\x07\\xbaQ\\x84\\xa5\\x19J4\\xa4\\xf5\\x9cw\\xbc\\xcer\\xe78\\xc61\\x08B\\x10\\x84\\x19\\x081\\x8cc\\x18\\xc6!\\x0cc\\x19\\x08C\\x18\\xc61\\x8aR\\x90\\x85\\x10\\x84!\\x08B\\x10\\x84!\\x08C\\x18\\xc8B\\x10\\xa51\\x8ec\\x1c\\xa51\\x8cc\\x18\\xe5)\\x8aS\\x10\\xa5)JR\\x14\\x84)\\x08B\\x10\\x85)JS\\x14\\x85\",\n",
              " b\")\\nR\\x94\\xc51\\x8ac\\x18\\xe6:Ju\\x18\\xea2\\x16S(\\xa7Q\\x0c\\x82\\x99\\x052\\x0ct\\x90\\x86\\x10\\xc8B\\x98\\xa7AN\\x82\\x99%2\\nd\\x0c\\xa6\\x19\\n!\\x90C \\x86A\\x08b\\x10\\xc4!\\x88C\\xbdi\\x8bR\\xf5\\xa5\\xeb<Z\\x99\\xbdsz\\xeb\\x15\\xd5\\xeb\\xab\\xd3W\\xae\\xb1]\\xe2\\xbb\\xcd\\xb9\\xab\\xf3W\\xde\\xaf\\xbc\\xdfy\\xb6\\xf1m\\xe2\\xdb\\xcd\\xb7\\xab\\xeb6\\xd6m\\xacWX\\xae\\xf3]f\\xdb\\xcd\\xb7\\x9bo6\\xe6\\xaf\\xcd_\\x9a\\xc6\\xb3|^\\x99\\xbd5\\x8a\\xf3\\x9a\\xd6q\\x9a\\xcf5\\x96m<\\xday\\xac\\xf3i\\xe6\\xf4\\xce+\\x9c[\\x17\\xaeslb\\xd7\\xbdq\\x8bg7\\xc6q\\xadgZ\\xcd\\xafjRs\\x94`\\xf7-JJ\\x10\\x83\\x99':\\xd4\\xa5%\\tB\\x16\\xa4\\xbd\\xcd\\xce+\\xde\\xf22\\x91\\x08Q\\x8cc\\x18\\xc61\\x8cc!\\x08R\\x94\\xc61\\x8cc\\x18\\xc61\\x8cc\\x10\\x85\\x10\\x84!\\x08B\\x10\\x84!\\x08C\\x18\\xc8B\\x10\\x85)LB\\x14\\x84)JR\\x14\\xa4!HB\\x90\\x84!\\x08B\\x10\\x84)\\x08A\\x8c\\x84!\\nR\\x94\\xa5)JR\\x94\\xe69\\x8cc\\x98\\xe7:\\nd\\x14\\xe9:\\x16d,\\xc7Q\\x8e\\xa3!e2Jd\\x94\\xc8\\x19\\nB\\x98\\xa69\\x8e\\x92\\x9dFB\\xce\\xa6\\x94\\xeb1\\xd4S\\xa8\\x86@\\xc8a\\x0c\\x82\\x10\\xc4!\\x88C\\xd6-\\xac\\xdf7\\xaeqmb\\xdb\\xcd\\xf7\\xack\\x16\\xd6+\\xac[y\\xb6\\xf1m\\xe2\\xdb\\xc5\\xb7\\x9b\\xf3X\\xe6\\xb1\\xcd_y\\xbe\\xf3}\\xe6\\xdc\\xd5\\xf7\\xab\\xefW\\xde\\xaf\\xbd_z\\xbf7\\x8d\\xea\\xfb\\xcd\\xb7\\x9bo6\\xde\\xaf\\xcd\\xe3\\x9b\\xce\\xf5\\x8c\\xe2\\xb9\\xbd3\\x8a\\xf3\\x9a\\xd6\\xb1\\x8a\\xcb5\\x96k<\\xdaz\\xbd5z\\xe7\\x15\\xd6\\xaf\\xbd\\xe3{\\xcf9\\xae\\xf7}\\xee\\xfb\\xdes\\x9c\\xcesZ\\xd6Q\\x8c\\xa3\\tA\\xf2\\x83\\xe0\\xe6\\xb5jJ\\x0e\\x83\\x99':Pu%\\t9\\xd0s\\x9c\\xc5A\\xcc\\xe6\\xb2Q\\x82\\xd4\\xb3\\x14\\xa5)LR\\x98\\xc6\",\n",
              " b'1\\x8cb\\x94\\xc51\\x8cc\\x18\\xc5)JR\\x90\\x85\\x18\\xc81\\x8cB\\x10\\x84!\\x08C\\x18\\xc6!\\x88B\\x10\\x861\\x8cC\\x10\\x861\\x8cc\\x18\\xc61\\x8cc\\x18\\xc6A\\x8c\\x84!\\x08B\\x10\\x84!\\x08B\\x10\\x84!\\x08B\\x10\\xa4!JS\\x98\\xe7B\\nS\\x14\\xa6)\\x8eS \\xc7A\\x8e\\x93!F:\\x8ad\\x90\\xa7!L2\\x14\\x851\\xd0\\xa3\\xa5\\x852\\x8au\\x99\\x0b)\\xd4u4\\xeai\\x92\\xc2\\x19\"\\x19B!\\x84B\\xdeo\\xcdgz\\xc77\\x9d\\xeb\\x1b\\xd67\\xacoW\\xe6\\xf1\\xcd\\xe7z\\xc6\\xf3m\\xe2\\xdb\\xc5\\xb7\\x9b\\xf3X\\xe6\\xf3\\xdeg\\x9b\\xc77\\x8eo\\x1c\\xe6y\\xcc\\xf3\\x9a\\xe75\\xde\\xef\\x9c\\xd75\\x8d\\xe6\\xdb\\xcd\\xb9\\xab\\xf3X\\xde\\xaf\\xceg\\x9c\\xd79\\xadk\\x1a\\xc5u\\x9bsy\\xde\\xb3\\x8bO\\x15\\x96++\\xd2X\\xac\\xf3\\x8a\\xe3\\x16\\xc6-\\x9dc:\\xc6s\\x8b\\xe2\\xd6\\xb5c\\x189\\xceRT\\xa4\\xa1HB\\xd4\\x97\\xb1pk\"\\xf6E\\xed{V\\xc5%(:Nu%\\nJ\\x12\\x83\\xa5\\x07A\\xce\\x83\\x19\\x072\\xd2\\x95%&1\\x8aR\\x94\\x841\\x8c\\x83\\x9c\\xe79\\x8cb\\x94\\xa4!\\x08B\\x08C\\x18\\xc61\\x8cB\\x10\\x84!\\x08C\\x18\\xc61\\x88B\\x18\\xc61\\x8cc\\x18\\xc61\\x8cd!\\x08B\\x10\\x84!\\x08B\\x10\\x84!\\x08B\\x10\\x84!\\nB\\x10d\\x18\\xc61\\x8cc\\x19\\x08B\\x94\\xa8BJS\\x10\\x84!\\nB\\x14\\xa51L\\x83\\x1d%2\\nd\\x14\\xc7!L2\\x14\\xa69\\xd0\\xa4%\\xa7KJu\\x99,*\\x16C\\xa8\\xc9a\\xd4\\xd2\\xa1\\x82!\\xc42\\x0c\\x85\\xde\\xb1\\xcd\\xe7\\x9c\\xd7y\\xaeo;\\xd69\\xbc\\xf7\\xba\\xef5\\xceg\\x9b\\xc75\\x8d\\xe6\\xfb\\xcd\\xf9\\x9b\\xf3x\\xef3\\xdek\\xbc\\xd79\\x9e\\xf7]\\xee\\xfd\\xee\\xfb\\xdd\\xefy\\xcek{\\xc6\\xf5}\\xe6\\xdb\\xcd\\xb9\\xab\\xf3x\\xe73\\xcek\\x9c\\xd7{\\xbes{\\xd65\\x9b\\xf3y\\xde\\xf3\\x9b\\xd36\\x9eoMb\\xdb\\xd67\\xbc\\xe7\\x17',\n",
              " b'\\xbd\\xabkV\\x94\\x9cc\\x18B\\x10{\\xda\\xc6%)9\\xce\\x83\\x19(BPv).b\\xa2\\xe6N\\x0e\\x94\\x1d\\x071\\xedc\\x16\\xa5!\\x081\\x8ec\\x1c\\xa51Jb\\x94\\xc5)\\x8aC\\x98\\xc89\\xccc!\\x08JPs\\x9c\\xe61\\x8aR\\x10\\x85!HB\\x88B\\x10\\x84!\\x08b\\x18\\x84!\\x08C\\x10\\xc61\\x8cB\\x18\\xc6A\\x90c\\x18\\xc62\\x0c\\x84!\\x08B\\x10\\x84!\\x08B\\x10\\x83!\\x08B\\x10\\x84!\\x08B\\x10d\\x18\\xc81\\x90\\x84!\\x08B\\x10\\x879\\xces\\x90\\x85!\\nB\\x94\\xa51\\x8c\\x83\\x1dE:Jc\\x94\\xc7!LB\\x98\\x851\\x8e\\x84%\\x88[\\xce\\xa7\\x1dM2XC(\\x87Q\\x90\\xc2\\xa1\\x83*FC\\x10\\xc7\\xde\\xb1\\xcd\\xe7\\x9c\\xd77\\x9d\\xeb\\x1c\\xe6\\xbb\\xddw\\xba\\xefw\\xdek\\xbc\\xd77\\x8ef\\xfc\\xcd\\xf9\\xab\\xf3x\\xef5\\xde\\xeb\\xbc\\xd7{\\xbf{\\xbe\\xf7}\\xee\\xf7\\xdd\\xefy\\xdeo\\x9c\\xcf7\\x8ej\\xfc\\xd5\\xf9\\xab\\xf3x\\xef5\\xdek\\xbc\\xdf9\\xae\\xf7|\\xe6\\xb5\\xacox\\xde\\xf3\\x9b\\xd7W\\xaeql\\xe2\\xd7\\xb5+I\\xceQ\\x8c\\x1f(B0\\x83\\x9a\\xd6\\xadlZ\\xda\\xc6))9\\xces\\x19\\x07:\\x0ce \\xf0s\"\\xe6\\xbd\\xac\\x8b\\xda\\xf6\\xb1\\xcc[\\xda\\xc71\\x8dZ\\x98\\xa4\\xa4\\xe7A\\xcc\\x83\\x9d\\x07:\\x0et\\xa0\\xe9B\\x12\\x84!\\x08A\\x8cs\\x19\\x072\\x0es\\x94\\xa5!\\nR\\x8cC\\x10\\x84!\\x08B\\x10\\x84!\\x08B\\x10\\x861\\x8cc!\\x081\\x8cc\\x19\\x06B\\x10\\x84!\\x08B\\x10\\x84!\\x08B\\x10\\x83\\x19HB\\x90\\x85!\\x081\\x90c\\x18\\xc61\\x8cc\\x19\\x08B\\x10\\x85)Nc\\x14\\xa5!\\nB\\x14\\xc7A\\xd0\\xb3\\xa1gB\\xcct\\x98\\xe8)\\x8eB\\x98d0\\xc8S\\x1d\\x08S\\x0e\\xa6\\xa1oK\\x1ed\\xb0\\xa8Y\\x92\\xc2\\xa1c2FC\\x90\\xc8\\xe6\\xf3\\xcd\\xeb\\x9b\\xce\\xf7\\x9es]\\xee\\xbb\\xddw\\xbb\\xefw\\xefs\\xbd\\xdf7\\x9eo=\\xdey\\x9b\\xf3x',\n",
              " b'\\xefu\\xde\\xeb\\xbd\\xdf\\xbd\\xdf{\\xbe\\xf7}\\xee\\xfb\\xdd\\xef\\xbb\\xde\\xf3\\xbc\\xdf9\\xaeo\\x1c\\xe6y\\xbcs\\x99\\xef3\\xde\\xeb\\xbd\\xdfy\\xbes}\\xef7\\xbdoy\\xde\\xf1\\xac[8\\xb5\\xedKRT\\x94i(\\xca0\\x8b\\xdf(>/{\\x9a\\xd71\\x8ec\\x18\\xa5\\xa5\\x08J\\x10s\\x1c\\xe62\\x92\\x86\\xadJB\\x14\\x941I\\x83\\x99\\x075jJ\\xd2\\x85\\xa9,Z\\x9a\\xb5\\xb1Jb\\x94\\xb5%IJ\\xd2\\x95%\\x089\\xcec\\x1c\\xc6)\\x08R\\x10\\xa4!HC\\x98\\xc71\\x8cR\\x90\\x84\\x10\\x84!\\x08B\\x10\\x84!\\x08B\\x10\\x86!\\x90c\\x18\\xc61\\x8c\\x83\\x19\\x08B\\x0c\\x84\\x18\\xc81\\x90d!\\x08B\\x10\\x83\\x19HB\\x90\\x85!JB\\x10\\x84 \\xc61\\x8cb\\x10\\xc62\\x10\\x85!\\x0cb\\x94\\xa5\\x18\\xc8B\\x10\\x84)\\x08R\\x94\\xc5)\\x8aS\\x14\\xc7:\\x12\\x84\\xb4\\xe9q\\x0c\\x92\\x14\\xe42\\nu\\x19\\x0cB\\x9cu4\\xc9i\\xd4\\xe3%\\xa32DC\\x10\\xc9\\xe75\\xcd\\xeb\\x9b\\xd79\\xae\\xf7}\\xee\\xbb\\xddw\\xba\\xefw\\xefs\\xbd\\xdfy\\xbeo<\\xcd\\xf9\\x9b\\xf3y\\xef5\\xde\\xef\\xde\\xef\\xbd\\xdf{\\xbe\\xf7\\xbd\\xef{\\xdd\\xf7\\xbd\\xef{\\xbd\\xe7{\\xbe\\xf3}\\xee\\xf9\\xcdsx\\xe6\\xf1\\xdeg\\xbd\\xd7{\\xbes>\\xf7;\\xdeo\\x9a\\xde\\xf3\\xad_8\\xad\\xeb;RT\\x94\\xa7(\\xca\\x10\\x83\\xdd\\x17\\xbd\\xees\\x9a\\xd75\\xacZ\\xd6\\x95)\\x08J\\x10\\x83\\x9d(CV\\xb4\\x9c\\xe71\\x90s\\xa5\\x07sW\\x07\\xb9jJ\\xd2\\x95\\xa5+JT\\x84)\\x08J\\x0e\\x83\\x9d\\x07:\\x0et\\x1c\\xe9B\\x10s\\x9c\\xc5)\\x08R\\x10c\\x18\\xc62\\x10\\x86)Nc\\x18\\xa5 \\xc6!\\x08B\\x10\\x84!\\x08C\\x18\\xc61\\x90c\\x18\\xc6A\\x8c\\x83\\x19\\x062\\x0ce!\\n2\\x14\\x84)\\x08A\\x8c\\x83\\x19HB\\x10\\x84\\x18\\xc82\\x10c \\xc61\\x8cc\\x18\\xc62\\x0ce!\\x0cR\\x14\\x84\\x18\\xc8B\\x10\\x84!\\x08R\\x10\\xa4!HR\\x90\\x85',\n",
              " b')Lt)+rV\\xf3\\xa9\\xc7KL\\x85\\x90\\xca)\\xd4d,\\xc8a\\x92\\xd3%\\xa5B\\xc6T\\x10\\xc8\\xe75\\xcek\\x9c\\xd79\\xae\\xf7]\\xe6\\xbb\\xdd\\xf7\\xbb\\xefw\\xde\\xef\\xbd\\xe7{\\xbes<\\xd69\\xacs\\x99\\xefu\\xdfs\\xbe\\xe7\\xbd\\xdf{\\xdf\\xff\\xbf\\xff\\x7f\\xfe\\xf7\\xfd\\xff\\xfb\\xde\\xef\\xbd\\xde\\xf7\\x9d\\xef;\\xdd\\xf3y\\xe6\\xf1\\xcd\\xe3\\xbc\\xd7{\\xbd\\xef=\\xee\\xfb\\xee\\xef\\x9b\\xde\\xf3\\xbdc8\\xad\\xeb;RS\\x94e\\x18E\\xef\\x8b\\xdf\\x18A\\xefs\\xdc\\xe6\\xb1\\x8cZ\\xd6\\xa5)\\x08J\\x10\\x94\\x1djR\\xd2\\x94\\x1c\\xc71\\x90s\\xa5\\x08Z\\x93\\x07\\xb9(B\\x92\\x85%\\nJ\\x12s\\xa4\\xe7A\\xce\\x83\\x9c\\xe61HB\\x90\\x889\\xd0s\\x9c\\xc59\\x8cb\\x94\\x83\\x19\\x062\\x10\\x85!\\x08B\\x18\\xa51JA\\x8cb\\x10\\xc4!\\x88C\\x10\\xc6!\\x0cc \\xc6A\\x90\\x83\\x19\\x062\\x8ce!\\nB\\x14c \\x861\\x08b\\x11HB\\x0c\\x84\\x19\\x081\\x8cC\\x18\\x861\\x8cc\\x18\\xc42\\x0ce!\\nB\\x10\\x84 \\xc6B\\x10\\x83!JR\\x94\\xc5)\\x8aS\\x94\\xc7)\\x8cS\\x18\\x851N\\xa2\\xa1\\x87S\\x90\\xb7\\x9dN*\\x18S\\xac\\x86Q\\x0e\\xb2\\xa1\\x86K\\x0c\\x96\\x90\\xea\\xde\\xf3\\xcek\\x9c\\xd79\\xaes]\\xee\\xbb\\xdd\\xf7\\xbb\\xefw\\xde\\xef\\xbd\\xdf{\\xbe\\xf7|\\xdey\\xbc\\xf7\\x9a\\xefw\\xde\\xef\\xde\\xe7\\xbd\\xdf\\x7f\\xdf\\xff\\xbf\\xff\\x7f\\xfe\\xf7\\xfd\\xff\\xfb\\xdf\\xf7\\xbd\\xef{\\xbe\\xf7{\\xdew\\xbb\\xe73\\xcd\\xe3\\x9b\\xcf{\\xbd\\xef;\\xde{\\xee\\xef{\\xd6\\xb1\\xbc\\xdf7\\xad\\xab:J3\\x8cg\\x18E\\xef\\x8b\\xdf\\x07\\xbd\\xefs\\xdc\\xe6\\xb5\\xacZ\\xd4\\x94\\xa5\\x08J\\x10\\x94\\x1dHB\\x92\\x94\\x1c\\xe9B\\x12\\x84\\x1c\\xc6A\\xcf\\x079JJ\\x0es\\x98\\xc61LR\\x98\\xa51\\x8cR\\x94\\xa5)\\x08B\\x94\\x86)Ps\\xa0\\xe6)H\\x83\\x98\\xc5!\\x062\\x10\\x83\\x18\\xc61\\x90\\x841Jb\\x94\\xa4!\\x062\\x0cc\\x10\\x86!\\x10c',\n",
              " b' \\xc6Q\\x8c\\xa4!H2\\x8cd\\x18\\xc81\\x90c\\x18\\x84A\\x0c\\x82\\x19\\x062\\x0cd\\x18\\xc81\\x8cB\\x18\\x84!\\x08B\\x10\\xc4\"\\x0ce \\xca1\\x90c\\x18\\xc61\\x8cb\\x19\\x08B\\x94\\xc5)\\x8cd\\x18\\xc8!LB\\x98\\xc7A\\xd0\\xa3\\xa9\\xa7SP\\xb7\\xa1o:\\xdeu8\\xcaq\\x92\\xd2\\xa1\\x85B\\xcc\\x96\\x99,\\xe6\\xf3\\xcd\\xe7\\x9c\\xd7y\\xae\\xf3]\\xee\\xfb\\xdd\\xf7\\xbb\\xefw\\xde\\xef\\xbd\\xdf{\\xbe\\xf7|\\xe6\\xb9\\xcdw\\x9a\\xefw\\xde\\xef\\xde\\xe7\\xbd\\xdf\\xff\\xdf\\xff\\xbf\\xff\\x7f\\xfe\\xff\\xfd\\xff\\xfb\\xff\\xf7\\xff\\xef{\\xde\\xf7}\\xee\\xf7\\xbc\\xef7\\xcd\\xe3z\\xc79\\xad\\xeb\\x1a\\xcd\\xf9\\xcd\\xe79\\xce/\\x9b\\xda\\xf5\\xa5\\xa7*J2\\x84%\\x07\\xc1\\xee\\x83\\xde\\xf79\\xack\\x16\\xb5\\xa9KR\\x94\\x94\\xa9\\tRR\\x94!(B\\xd2\\x95\\xa9)A\\xd0s\\xa0\\xe7RP\\xf75JQ\\x8cc\\x14\\xc6)Lc\\x18\\xc6)JB\\x10\\xa4!\\x08C\\x14\\xa6)Ns\\x1c\\xc61Js\\x15(9\\x062\\x10\\x83\\x18\\xc6!\\x0cB)\\x08b\\x94\\xc5)HB\\x90\\x84\\x18\\xca1\\x90c \\xc6Q\\x8c\\xa3\\x19F2\\x0cd\\x18\\xc8!\\x10c\\x18\\x841\\x0c\\x82\\x19\\x062\\x0ce\\x19\\n2\\x10c\\x18\\x861\\x08B\\x10\\x84!\\x88D\\x18\\xc81\\x8cB\\x18\\x84!\\x08c\\x18\\xc61\\x8cc\\x18\\xcaR\\x94\\xa6\\x19\\nB\\x14\\xa69\\x8e\\x93!FB\\x8e\\xa6\\xa1nB\\xdeu8\\xc9aP\\xb2\\xa1e:\\xca\\x85\\x95\\x0c\\xe6\\xf3\\xcd\\xe7\\xbc\\xd7y\\xae\\xf7}\\xef=\\xee{\\xdc\\xefw\\xde\\xef\\xbc\\xdf9\\xae\\xf3}\\xe6\\xb9\\xcdw\\x9a\\xefw\\xde\\xf3\\xde\\xef\\xbd\\xdf\\xff\\xdf\\xff\\xbf\\xff\\xff\\xff\\xff\\xff\\xff\\xff\\xff\\xf7\\xff\\xef\\x7f\\xde\\xf7\\xbd\\xee\\xf7\\xdd\\xefy\\xcek{\\xce\\xf7\\x9dk\\x19\\xbdy\\xbd^\\xf6\\xc5\\xeb{R\\xb3\\x94\\xe3\\x08\\xbd\\xd0{\\xa0\\xe7=\\xads\\x18\\xe61\\xacb\\xd4\\xb6)kR\\x98\\xb5-JZ\\x94\\xb5)iK\\x14\\xa6)IA\\xd4\\x94-)',\n",
              " b'J\\x0e\\xc5)II\\x8cS\\x9c\\xe89\\xccc\\x10\\x84!\\x08B\\x10\\x84!\\x08C\\x14\\xa6)Ns\\x10\\x841Jb\\x95(A\\xccb\\x0cc\\x18\\xc4!\\x0cB\\x18\\xc6A\\x8c\\xa5)\\x8aS\\x14\\xa5!\\nB\\x14c \\xc6R\\x10\\x83\\x19\\x04!\\x88D\\x18\\xc81\\x90B\\x18\\x841\\x08\\x82\\x19\\x062\\x08e\\x18\\xca1\\x94\\x84)\\x08R\\x10\\x83\\x18\\xc4!\\x88D\\x18\\x86!\\x08B\\x10\\x84!\\x08B\\x10\\x84!\\x08B\\x10\\xc61\\x8cc\\x18\\xc81\\x90\\xa5)Lb\\x14\\xc4)\\x88c\\x94\\xe82\\x12d,\\xe9Y\\xd2\\xc3!e:\\x8au\\x90\\xea\\xde\\xb1\\xcd\\xe7\\xbc\\xd77\\x9e\\xf7~\\xf7}\\xee\\xfb\\xdc\\xefw\\xdek\\xbc\\xdf{\\xbe\\xf7}\\xee\\xfb\\xcd\\xf7\\xbb\\xefy\\xde\\xf3\\xde\\xef\\xbd\\xdf\\xff\\xdf\\xff\\xbf\\xff\\xff\\xff\\xff\\xff\\xff\\xff\\xff\\xff\\xff\\xff\\x7f\\xde\\xf7\\xbd\\xee\\xfb\\xdd\\xf7\\xbb\\xceo{\\xd6\\xf5\\x9dg\\x19\\xbdw\\xac\\xda\\xb4\\xbdiZNr\\x8c^\\xf89\\xafs^\\xd6\\xb9\\xads\\x18\\xd61\\xcccV\\xc6\\xadmZ\\xda\\xb5\\xb5kj\\xd6\\xd5\\xa9\\xabS\\x96\\xb6\\xa9MZ\\x9a\\xb5-)b\\x92\\xe6-jRP\\x83\\x98\\xc5)JR\\x90\\x84!\\x08R\\x10\\xa4!HB\\x90\\x871\\x8cc\\x0cc \\xc6b\\x95\\x07:P\\x82\\x94\\xa3\\x18\\xc6!\\x0cB\\x18\\x861\\x8c\\xa4!\\x8aS\\x14\\xa6)LR\\x94\\x84)\\x08Q\\x90\\x83\\x19\\x062\\x08D\\x18\\xc81\\x94\\x84 \\xc61\\x08\\x82\\x19\\x062\\x08D\\x18\\xc81\\x90c\\x18\\x84A\\x8c\\xc5!\\xcaR\\x0cc\\x10\\x84!\\x08\"\\x10D!\\x08B\\x10\\x84!\\x08B\\x18\\xc4!\\x08C\\x18\\xc61\\x90\\x84!Jb\\x98\\xe51\\xc8S\\x0c\\x85\\x19\\n2\\x14d1\\nr\\x99\\x06B\\x8e\\xa6\\x9dM\\xde\\xb3\\xbdg\\x9b\\xd77\\x9es^\\xf7=\\xee\\xfb\\xdc\\xefw\\xde\\xef\\xbd\\xdf{\\xbe\\xf7\\x9d\\xef;\\xde{\\xdd\\xf7\\xbb\\xefw\\xde\\xef\\xbd\\xdf\\xff\\xdf\\xff\\xff\\xff\\xff\\xff\\xff\\xff\\xff\\xff\\xff\\xff\\xff\\xff\\x7f\\xde\\xff\\xbd\\xef{\\xde',\n",
              " b'\\xf7\\xbb\\xde\\xf7\\x9c\\xd6\\xb5\\x8dg\\x19\\xbd\\xb3\\x8b\\xd2r\\xb5\\'IF0|\\x1e\\xe89\\xcek\\\\\\xd6\\xbd\\xce{Z\\xd61\\xaccX\\xc6\\xb1\\x8ec\\x1e\\xd6\\xbd\\xad{\\x18\\xf6\\xb1\\xedd\\x1c\\xc7\\xb1nb\\xde\\xd5\\xb9\\x8bj\\xd4\\xc5)iJ\\x0es\\x18\\xc6)LR\\x98\\xa51\\x8cR\\x94\\x84!\\x08C\\x98\\xc89\\xcaB\\x0cc \\xc6R\\x11\\x062P\\x84\\xa1\\x04!\\x04!\\x0cc \\xc6A\\x8c\\x83\\x19HB\\x90\\x86)JB\\x18\\xa5)\\x08A\\x8c\\x83\\x18\\xc4\"\\x0ce!\\x081\\x90c)\\x08A\\x0c\\x82\\x10\\xc4\"\\x08d\\x18\\xc81\\x90c\\x18\\x841\\x08b\\x11\\x8aT\\x1d\\x03\\x18\\xc2\\x10\\x84\"\\x08B!\\x08B\\x10\\x84!\\x08B\\x10\\x84!\\x08C\\x18\\xc61\\x8c\\x84!Jb\\x94\\xc4)\\x86B\\x10\\x85!LB\\x98\\x851\\nr\\x14\\xe7J\\xd0\\xb7\\xa1o\\xe6\\xb3\\xcd\\xe7\\x9b\\xcf7\\x9e\\xef=\\xee\\xfd\\xee{\\xdc\\xf7\\xb9\\xefs\\xde\\xe7\\xbd\\xce\\xf7\\x9d\\xef=\\xee{\\xdd\\xf7\\xbb\\xdfw\\xde\\xef\\xbd\\xdf\\x7f\\xdf\\xff\\xbf\\xff\\xff\\xff\\xff\\xff\\xff\\xff\\xff\\xff\\xff\\xff\\xff\\xde\\xff\\xbd\\xff{\\xde\\xf7\\xbb\\xde\\xf7\\x9c\\xde\\xb5\\x9dg\\x19\\xc5\\xadZ\\xceQ\\xa4\\xa58\\xc20|^\\xf7\\xb9\\xcfk\\x9e\\xe7=\\xce{\\x9c\\xf6\\xb5\\xedk\\x9a\\xd7\\xb5\\xb0s`\\xe7A\\xcd{Y\\x06\\xb2/l\\x1c\\xd7\\xb5\\x8dZ\\x96\\xa4\\xa9(RP\\xb4\\xa5IB\\x0es\\x18\\xc61\\x8aR\\x94\\xa5)JB\\x10\\xc5)\\xces\\x14\\xc4!\\x08B\\x0cc\\x18\\xc6A\\x8c\\xe61\\xcce%(B\\x081\\x90c\\x18\\xc6A\\x8c\\x83\\x19FB\\x90\\x85!\\nB\\x18\\xa4)\\x08A\\x8c\\xa3 \\xc4\"\\x08e\\x18\\xca1\\x90c \\xc6A\\x8cb\\x10\\xc4\"\\x0cd\\x18\\xc6!\\x0cB\\x18\\x84!\\x08B\\x10\\x84\"\\x94\\xa79\\xc4!\\x08B\\x08D!\\x08B\\x10\\x84!\\x08B\\x10\\x84!\\x08B\\x10\\x841\\x8c\\x84!\\x8cr\\x98\\xe3!FB\\x90\\xa6)\\x8eS \\xa6AL\\x82\\x14\\xe5:P\\xa7!\\x8f']"
            ]
          },
          "metadata": {},
          "execution_count": 223
        }
      ]
    },
    {
      "cell_type": "code",
      "source": [
        "! pip install eciespy eth_keys cryptos qrcode base58 "
      ],
      "metadata": {
        "colab": {
          "base_uri": "https://localhost:8080/"
        },
        "id": "QZifm154JW46",
        "outputId": "906ba999-8582-469b-9468-2b1626f657c0"
      },
      "execution_count": 224,
      "outputs": [
        {
          "output_type": "stream",
          "name": "stdout",
          "text": [
            "Looking in indexes: https://pypi.org/simple, https://us-python.pkg.dev/colab-wheels/public/simple/\n",
            "Requirement already satisfied: eciespy in /usr/local/lib/python3.7/dist-packages (0.3.11)\n",
            "Requirement already satisfied: eth_keys in /usr/local/lib/python3.7/dist-packages (0.3.4)\n",
            "Requirement already satisfied: cryptos in /usr/local/lib/python3.7/dist-packages (1.36)\n",
            "Requirement already satisfied: qrcode in /usr/local/lib/python3.7/dist-packages (7.3.1)\n",
            "Requirement already satisfied: base58 in /usr/local/lib/python3.7/dist-packages (2.1.1)\n",
            "Requirement already satisfied: coincurve<16,>=13 in /usr/local/lib/python3.7/dist-packages (from eciespy) (15.0.1)\n",
            "Requirement already satisfied: pycryptodome<4.0.0,>=3.9.9 in /usr/local/lib/python3.7/dist-packages (from eciespy) (3.14.1)\n",
            "Requirement already satisfied: eth-utils<2.0.0,>=1.8.2 in /usr/local/lib/python3.7/dist-packages (from eth_keys) (1.10.0)\n",
            "Requirement already satisfied: eth-typing<3.0.0,>=2.2.1 in /usr/local/lib/python3.7/dist-packages (from eth_keys) (2.3.0)\n",
            "Requirement already satisfied: cffi>=1.3.0 in /usr/local/lib/python3.7/dist-packages (from coincurve<16,>=13->eciespy) (1.15.0)\n",
            "Requirement already satisfied: asn1crypto in /usr/local/lib/python3.7/dist-packages (from coincurve<16,>=13->eciespy) (1.5.1)\n",
            "Requirement already satisfied: pycparser in /usr/local/lib/python3.7/dist-packages (from cffi>=1.3.0->coincurve<16,>=13->eciespy) (2.21)\n",
            "Requirement already satisfied: eth-hash<0.4.0,>=0.3.1 in /usr/local/lib/python3.7/dist-packages (from eth-utils<2.0.0,>=1.8.2->eth_keys) (0.3.2)\n",
            "Requirement already satisfied: cytoolz<1.0.0,>=0.10.1 in /usr/local/lib/python3.7/dist-packages (from eth-utils<2.0.0,>=1.8.2->eth_keys) (0.11.2)\n",
            "Requirement already satisfied: toolz>=0.8.0 in /usr/local/lib/python3.7/dist-packages (from cytoolz<1.0.0,>=0.10.1->eth-utils<2.0.0,>=1.8.2->eth_keys) (0.11.2)\n"
          ]
        }
      ]
    },
    {
      "cell_type": "code",
      "source": [
        "import pandas as pd\n",
        "from cryptos.py3specials import safe_hexlify, from_string_to_bytes, from_int_to_byte, from_string_to_bytes\n",
        "from cryptos import serialize,deserialize\n",
        "\n",
        "import hashlib\n",
        "import os\n",
        "import getpass\n",
        "import ecies\n",
        "import eth_keys\n",
        "import cryptos\n",
        "import qrcode\n",
        "import base58\n",
        "from PIL import Image\n",
        "import matplotlib.pyplot as plt\n",
        "%matplotlib inline\n",
        "\n",
        "def import_privKey(privkey_filepath,password=None):\n",
        "    if password==None:\n",
        "        password = getpass.getpass(\"Input password for decrypting keyfile: \")\n",
        "    password=password.encode()\n",
        "    f=open(privkey_filepath,'rb')\n",
        "    decrypted_bytes=ecies.aes_decrypt(key=hashlib.sha256(password).digest(),cipher_text=f.read())\n",
        "    privKey=eth_keys.keys.PrivateKey(decrypted_bytes)\n",
        "    return privKey\n",
        "\n",
        "def import_pubKey(pubkey_filepath):\n",
        "    f=open(pubkey_filepath,'rb')\n",
        "    privKey=eth_keys.keys.PublicKey(f.read())\n",
        "    return privKey\n",
        "\n",
        "def import_addr(addr_filepath):\n",
        "    return open(addr_filepath,'rb').read().decode()\n",
        "\n",
        "def only_conf(utxos):\n",
        "    return [utxo for utxo in utxos\n",
        "            if doge.fetchtx(utxo['output'].split(':')[0])['confirmations']>0]\n",
        "\n",
        "def mk_opreturn(msg, rawtx=None, json=0):\n",
        "    \n",
        "    def op_push(data):\n",
        "        if type(data) == bytes:\n",
        "            bytedata=data\n",
        "        else:\n",
        "            bytedata=data.encode()\n",
        "        import struct\n",
        "        if len(data) < 0x4c:\n",
        "            return from_int_to_byte(len(bytedata)) + bytedata\n",
        "        elif len(data) < 0xff:\n",
        "            return from_int_to_byte(76) + struct.pack('<B', len(bytedata)) + bytedata\n",
        "        elif len(data) < 0xffff:\n",
        "            return from_int_to_byte(77) + struct.pack('<H', len(bytedata)) + bytedata\n",
        "        elif len(data) < 0xffffffff:\n",
        "            return from_int_to_byte(78) + struct.pack('<I', len(bytedata)) + bytedata\n",
        "        else: raise Exception(\"Input data error. Rawtx must be hex chars\" \\\n",
        "                            + \"0xffffffff > len(data) > 0\")\n",
        "\n",
        "    orhex = safe_hexlify(b'\\x6a' + op_push(msg))\n",
        "    orjson = {'script' : orhex, 'value' : 0}\n",
        "    if rawtx is not None:\n",
        "        try:\n",
        "            txo = deserialize(rawtx)\n",
        "            if not 'outs' in txo.keys(): raise Exception(\"OP_Return cannot be the sole output!\")\n",
        "            txo['outs'].append(orjson)\n",
        "            newrawtx = serialize(txo)\n",
        "            return newrawtx\n",
        "        except Exception as E:\n",
        "            print(E)\n",
        "            print(type(E))\n",
        "            raise Exception(\"Raw Tx Error!\")\n",
        "    return orhex if not json else orjson"
      ],
      "metadata": {
        "id": "grmMh1V2M9sL"
      },
      "execution_count": 225,
      "outputs": []
    },
    {
      "cell_type": "markdown",
      "source": [
        "# Load Keys and Addresses"
      ],
      "metadata": {
        "id": "gUmrbQ38-h9c"
      }
    },
    {
      "cell_type": "code",
      "source": [
        "from google.colab import drive\n",
        "drive.mount('/content/drive')"
      ],
      "metadata": {
        "id": "qsBg50AOOqE_",
        "colab": {
          "base_uri": "https://localhost:8080/"
        },
        "outputId": "806520a5-ce6e-4dfd-ed60-63e0939122b8"
      },
      "execution_count": 46,
      "outputs": [
        {
          "output_type": "stream",
          "name": "stdout",
          "text": [
            "Mounted at /content/drive\n"
          ]
        }
      ]
    },
    {
      "cell_type": "code",
      "source": [
        "! cp drive/MyDrive/cinv/llaves.zip llaves.zip \n",
        "! unzip llaves.zip"
      ],
      "metadata": {
        "id": "6KAu2_OsQBf_",
        "colab": {
          "base_uri": "https://localhost:8080/"
        },
        "outputId": "f4cd55c5-9fc5-4922-ed4d-d6ff5578b2ee"
      },
      "execution_count": 47,
      "outputs": [
        {
          "output_type": "stream",
          "name": "stdout",
          "text": [
            "Archive:  llaves.zip\n",
            "   creating: llaves/\n",
            " extracting: llaves/mi_addr.bin      \n",
            " extracting: llaves/mi_addr.png      \n",
            " extracting: llaves/mi_pub.bin       \n",
            " extracting: llaves/mi_prv.enc       \n"
          ]
        }
      ]
    },
    {
      "cell_type": "code",
      "source": [
        "import IPython.display\n",
        "qr=IPython.display.Image('llaves/mi_addr.png')\n",
        "\n",
        "privKey=import_privKey('llaves/mi_prv.enc','')\n",
        "pub=import_pubKey('llaves/mi_pub.bin').to_hex()\n",
        "addr=import_addr('llaves/mi_addr.bin')\n",
        "\n",
        "display(qr)\n",
        "display(pub)\n",
        "display(addr)"
      ],
      "metadata": {
        "id": "_Zok6MGCQKnu",
        "colab": {
          "base_uri": "https://localhost:8080/",
          "height": 236
        },
        "outputId": "248c69f9-d9bf-406b-c8b6-688ad45b34da"
      },
      "execution_count": 48,
      "outputs": [
        {
          "output_type": "display_data",
          "data": {
            "text/plain": [
              "<IPython.core.display.Image object>"
            ],
            "image/png": "[encoded data removed]"
          },
          "metadata": {}
        },
        {
          "output_type": "display_data",
          "data": {
            "text/plain": [
              "'0x7c88e9a4df6e9f45656c10bf66f28e28be235a15b64820b254f1b9eb2738314e6769f5c94da0c7640ffe76dcffca053b07a0804cd53a1c51ad03bfe0133ce8c5'"
            ],
            "application/vnd.google.colaboratory.intrinsic+json": {
              "type": "string"
            }
          },
          "metadata": {}
        },
        {
          "output_type": "display_data",
          "data": {
            "text/plain": [
              "'D6zKNnkupqRbkB9p5rwix8QiobQWJazjyX'"
            ],
            "application/vnd.google.colaboratory.intrinsic+json": {
              "type": "string"
            }
          },
          "metadata": {}
        }
      ]
    },
    {
      "cell_type": "markdown",
      "source": [
        "# Inspect Outputs"
      ],
      "metadata": {
        "id": "-5nTrJB_-zsM"
      }
    },
    {
      "cell_type": "code",
      "source": [
        "doge=cryptos.Doge()\n",
        "#addy=doge.privtoaddr(privkeyhex)\n",
        "doge_unspents=only_conf( doge.unspent(addr) )\n",
        "doge_unspent_total=sum([unspent['value'] for unspent in doge_unspents])\n",
        "doge_unspent_total/10**8"
      ],
      "metadata": {
        "id": "LcQ5g4f_QP67",
        "colab": {
          "base_uri": "https://localhost:8080/"
        },
        "outputId": "df063dfe-aba5-4cea-8b54-b8b375874d66"
      },
      "execution_count": 226,
      "outputs": [
        {
          "output_type": "execute_result",
          "data": {
            "text/plain": [
              "2383.91707005"
            ]
          },
          "metadata": {},
          "execution_count": 226
        }
      ]
    },
    {
      "cell_type": "markdown",
      "source": [
        "# Create UTXO set for Enscription"
      ],
      "metadata": {
        "id": "Wund19uk-6kJ"
      }
    },
    {
      "cell_type": "code",
      "source": [
        "len(package),len(package[0]),len(package[1]),len(package[-1])"
      ],
      "metadata": {
        "colab": {
          "base_uri": "https://localhost:8080/"
        },
        "id": "ZsSN0gK1l62O",
        "outputId": "a8676319-d223-40a9-d141-b7f6849df4d7"
      },
      "execution_count": 227,
      "outputs": [
        {
          "output_type": "execute_result",
          "data": {
            "text/plain": [
              "(82, 22, 480, 480)"
            ]
          },
          "metadata": {},
          "execution_count": 227
        }
      ]
    },
    {
      "cell_type": "code",
      "source": [
        "tip=24_00_000_000\n",
        "available=doge_unspent_total-tip\n",
        "n=len(package)\n",
        "gift=int(available/n)\n",
        "outputs=[{'value':gift , 'address': addr} for i in range(len(package))]\n",
        "setup_tx=doge.mktx(doge_unspents,outputs)\n",
        "gift/100_000_000"
      ],
      "metadata": {
        "id": "HHyH8E3yQ8Mg",
        "colab": {
          "base_uri": "https://localhost:8080/"
        },
        "outputId": "01b63e74-baf4-4ae6-b3e5-108e6962360c"
      },
      "execution_count": 243,
      "outputs": [
        {
          "output_type": "execute_result",
          "data": {
            "text/plain": [
              "28.77947646"
            ]
          },
          "metadata": {},
          "execution_count": 243
        }
      ]
    },
    {
      "cell_type": "code",
      "source": [
        "doge.signall(setup_tx,privKey.to_hex()[2:])"
      ],
      "metadata": {
        "id": "am6AtFyBQ-uI",
        "colab": {
          "base_uri": "https://localhost:8080/",
          "height": 178
        },
        "outputId": "c373d864-bdd8-4e9e-d5e8-d47383f6f64f"
      },
      "execution_count": 244,
      "outputs": [
        {
          "output_type": "execute_result",
          "data": {
            "text/plain": [
              "'01000000315a979ef3d624b0fb8de8c95e296ebb151964a94785b000aa868af599b1c008f8000000008b48304502210097a2943f3e487102fad98b4a367f7b21cb78b86b49c392822a3144d3d4dc32aa0220642998aa6d2d14e453beee20a2cf22ce99d89ac13a6e5212223eeea2c303c9ac0141047c88e9a4df6e9f45656c10bf66f28e28be235a15b64820b254f1b9eb2738314e6769f5c94da0c7640ffe76dcffca053b07a0804cd53a1c51ad03bfe0133ce8c5ffffffffe4bdd4b452b49a725fd04f987cfe9f1f3ca90798e0ff18840e2c18404803f118000000008b483045022100e2e3225f9b4e252716287e8e0ed40589529edcf979b2924db2f6d1777a1365d702206a56e1e90c453e4844bda191886d255a020d6fe289502e346db3a73fab5a9d250141047c88e9a4df6e9f45656c10bf66f28e28be235a15b64820b254f1b9eb2738314e6769f5c94da0c7640ffe76dcffca053b07a0804cd53a1c51ad03bfe0133ce8c5ffffffffe4126f9224833bbc2c4a5969163f768afde0ca76c85f558366e899d6f75a9dd4000000008b483045022100915b046520f455928caed6a308f1c33feb9de045484faaa7b7737ecb4c5231f802203c73dee93bd930633c7893c1eb432e923c03ad8edc5cf80d38674018269f321b0141047c88e9a4df6e9f45656c10bf66f28e28be235a15b64820b254f1b9eb2738314e6769f5c94da0c7640ffe76dcffca053b07a0804cd53a1c51ad03bfe0133ce8c5ffffffffd7af0572bc5486af42a053d091fbf83791fc447ecf13a31aca3c148d90a451fb000000008b483045022100a024e83600d7d354edb2773b7738e7ed9f5cfd339e36fc9b552b3930cc147ac302206dae2bfb9af3b5927b8f16288b84103c841a4b52f5d2bb58bc640d1979fb8f2c0141047c88e9a4df6e9f45656c10bf66f28e28be235a15b64820b254f1b9eb2738314e6769f5c94da0c7640ffe76dcffca053b07a0804cd53a1c51ad03bfe0133ce8c5ffffffffd6f176217ceda340d68105d2dec204cb330313353581575365fc020ae8a67d7b000000008a47304402205b44f603709aca24782a2ac839b1067bdafe8325952968a202a3c1e1c4cfa34602202dc7c4e9421cb0a01611269676142ba007dbc262f02c808e9416a06817620e3d0141047c88e9a4df6e9f45656c10bf66f28e28be235a15b64820b254f1b9eb2738314e6769f5c94da0c7640ffe76dcffca053b07a0804cd53a1c51ad03bfe0133ce8c5ffffffffd3f105cb36130bab3ea33e2d822179c6d193e1326025199f6f9c75528016810a000000008b4830450221008e9c730bcfb013b4f9d09abc8f0e693da0d979cb2f103d1dcb5f6104bac0cf8102207ff9c89e6268d1c59d98850e39783f3cce70b697f9ebe2caff324f4c7f630db10141047c88e9a4df6e9f45656c10bf66f28e28be235a15b64820b254f1b9eb2738314e6769f5c94da0c7640ffe76dcffca053b07a0804cd53a1c51ad03bfe0133ce8c5ffffffffd23beeb908a8e9259ddd77dd99a636f6d4468fdc6e694b7aa0b37e4ae13f8988000000008a47304402200a029dc7d5ac1821334e07127a8236ac75a7202f842feee16591af148d0e1cc2022047ed5f991db813d629303fd3ea6a75135c911036cdf55696f505293daf3ec5450141047c88e9a4df6e9f45656c10bf66f28e28be235a15b64820b254f1b9eb2738314e6769f5c94da0c7640ffe76dcffca053b07a0804cd53a1c51ad03bfe0133ce8c5ffffffffd18eb1967a6fae42e0b1e04521ca78ca7450f9bd4b175e9357ad7956186070b0000000008b4830450221008c60d42d1471cdf7ccd4ac8178678a5229d31e5b29824078efe0331c719eb63b022036de9c4afac423d9db7a2ea48c2b07ba302617f5207bdfa3c57271b29c2174110141047c88e9a4df6e9f45656c10bf66f28e28be235a15b64820b254f1b9eb2738314e6769f5c94da0c7640ffe76dcffca053b07a0804cd53a1c51ad03bfe0133ce8c5ffffffffbe1a11021209dd1447e55d22216563696ff6884ec73229722e9deb8287c417f0000000008b483045022100abd9ebd7e1b954c9d6cfe4623558c07a046dafe46bb7484618c6eae6a286686a02200442a191c7fcdccb250b2ac1dcccb22bd11444f4be37294623b0fa53b06c27c00141047c88e9a4df6e9f45656c10bf66f28e28be235a15b64820b254f1b9eb2738314e6769f5c94da0c7640ffe76dcffca053b07a0804cd53a1c51ad03bfe0133ce8c5ffffffffb93d6b78564b134bde4cfbd3fd4481364ab43e25b925ef53cb5e61a92b521637000000008a47304402205271df4cd3f63e15a72f5ad49a628b73f3a3928c30c118006a0008ae23f0192c0220295322301ea8086057690ea3ffdc45296def932b29a5b784d51c1782de9ad5900141047c88e9a4df6e9f45656c10bf66f28e28be235a15b64820b254f1b9eb2738314e6769f5c94da0c7640ffe76dcffca053b07a0804cd53a1c51ad03bfe0133ce8c5ffffffffb4b290b0bf7cd6dd9152bbbcfece97b272812b2ed8a5d8c3120df31b67bdd45d000000008b483045022100c6bcb6172a3a6d4b0d5ec774ec192729d78e414db07e3065249c083be02303080220079f6502cf87f9d357ff9ddaa24827502477cc99822d704f6a1b2f78e52bf2890141047c88e9a4df6e9f45656c10bf66f28e28be235a15b64820b254f1b9eb2738314e6769f5c94da0c7640ffe76dcffca053b07a0804cd53a1c51ad03bfe0133ce8c5ffffffffa7fe5ff2ae4798782200b0b4f7707d95ddc2b12a3347f263b54ffc2a460eb70b000000008b483045022100bd275900d80cbe79cbcd8d63d8098403c250127d979531ed6087f2d89ea3b5ca022078a7d2adcf96d8b9afa751dd8f1bc0738f5ea8893ce4856cd9676a2b7e569e470141047c88e9a4df6e9f45656c10bf66f28e28be235a15b64820b254f1b9eb2738314e6769f5c94da0c7640ffe76dcffca053b07a0804cd53a1c51ad03bfe0133ce8c5ffffffffa4da6a20cd172408f6a3a58052432cec183aab1e8b740338877ea9aed0e26e88000000008b483045022100ae77d5dca20fe1c2d9c13c35b1d81e24287103fe0ca4120f4d18afcb40a6bd950220723fcf885b7f1aa0cdbb746e4d19717f6fe04fab6fc94304647b651ad37383950141047c88e9a4df6e9f45656c10bf66f28e28be235a15b64820b254f1b9eb2738314e6769f5c94da0c7640ffe76dcffca053b07a0804cd53a1c51ad03bfe0133ce8c5ffffffff99630ef26c2a8124ddaeb4b0dec81e06fe33d90cbdd607e11bfd091ea1fb3d23000000008a4730440220769960c54b347d0e502dde6acd6862b82708a04340fa5e1f67840f3f4875993a0220012439c9280a8168676d1f50fbb5cb18f30f6f09e0dbdda3d2e6797eab4626fb0141047c88e9a4df6e9f45656c10bf66f28e28be235a15b64820b254f1b9eb2738314e6769f5c94da0c7640ffe76dcffca053b07a0804cd53a1c51ad03bfe0133ce8c5ffffffff906f1cb24d5aa7c47a3d5282f0455ea4b18610e2c2784b5826cf32e908c01d22000000008a4730440220740267769198854bdf7a87425a7fda7a808c9bc2bd6018a9c449c9ddb9a2ddb60220012edfe2f62a501fcdc5e7aa8aa28a1d36d7779d9fdd8e9fd899330dbb7f26ad0141047c88e9a4df6e9f45656c10bf66f28e28be235a15b64820b254f1b9eb2738314e6769f5c94da0c7640ffe76dcffca053b07a0804cd53a1c51ad03bfe0133ce8c5ffffffff823f4c25d2852dd2f716592f29af2934ede053e9a42e5012a64a04cccd4c3464000000008b483045022100b150e061b1a4471f0b64af7f1cee0a12979653ee709da2d4f62f085bd2b2a87002202c58fbd0c90422dfc60a544757c2ea7a130aa23afb2e87c0e8f74afb077693e50141047c88e9a4df6e9f45656c10bf66f28e28be235a15b64820b254f1b9eb2738314e6769f5c94da0c7640ffe76dcffca053b07a0804cd53a1c51ad03bfe0133ce8c5ffffffff6bf54cf27f000c7901e0541d8724eab7a08c9c6d3606920918edce72d482b628000000008b483045022100c3e2e339d22af4493b0f743ce8f3985531ba46a34915abf044f8af81f18f32ea022038c64d75d2735cf7400bdf4abf0893070a218297c8da32400d60957b9fce991b0141047c88e9a4df6e9f45656c10bf66f28e28be235a15b64820b254f1b9eb2738314e6769f5c94da0c7640ffe76dcffca053b07a0804cd53a1c51ad03bfe0133ce8c5ffffffff6a5c836b4ff0ac41b585ff0b6ba289cca0cfa45935be2ab8cda2844408fadb96000000008b48304502210093d6fcc29c807cfb5ad8e45116e82456af49a384ba1dfd3b388307406ff93f970220033d67a1b2e329efe86ff20c9ac6cdc491424d9f3ae2ea0d55efe4a7175e14bf0141047c88e9a4df6e9f45656c10bf66f28e28be235a15b64820b254f1b9eb2738314e6769f5c94da0c7640ffe76dcffca053b07a0804cd53a1c51ad03bfe0133ce8c5ffffffff642a9a84b42829b465ca99f99361ec701a6899dae7f17db4ecf03a0c2266fe5e000000008b483045022100d0f43eed8315f846182fd51d672499fd143b343d3b41244d196a54e62ef4292902204a9e8e5aab36d0e8e3d18402329a5e753ad8c11f7f1ca43d0d7428e3dca11cac0141047c88e9a4df6e9f45656c10bf66f28e28be235a15b64820b254f1b9eb2738314e6769f5c94da0c7640ffe76dcffca053b07a0804cd53a1c51ad03bfe0133ce8c5ffffffff6366b07a8d906891a7bf59e0b8458a5f0514ec87a3b523e3d3203638bc0ca5eb000000008a47304402203b58f252fe24916010448ff0cb8a06c9f0e06f3ec4a5bf9cc34006fe76b6597e02205c1b81c8611024f3c5761b31e4661f3395aa2397c4452633b2cdc295e443f1540141047c88e9a4df6e9f45656c10bf66f28e28be235a15b64820b254f1b9eb2738314e6769f5c94da0c7640ffe76dcffca053b07a0804cd53a1c51ad03bfe0133ce8c5ffffffff58dc035ef49399f1d05efcaf3324d501b27201477c48e30805d28c96a2fc1d12000000008a47304402207cd0cf340fd719070819c2d60cb7a3307ab38b26604c498db1cd9badccb8c70f02203ff1c2073d1c554ce2422227877cbc78f7f6d05b14e26a61f4487ed35e46469b0141047c88e9a4df6e9f45656c10bf66f28e28be235a15b64820b254f1b9eb2738314e6769f5c94da0c7640ffe76dcffca053b07a0804cd53a1c51ad03bfe0133ce8c5ffffffff56ce7d7e2ccc3219ebb9742785baea85028307036fb4353aa4524179f1d714d2000000008a4730440220115f47b6fd990895a60389b985e16f7a5c6631f7fde5fe6db4423fdfdb98839102205ce9b3f008e6b26b02d2fcb1cbf45785f4c491b64b149d9a696b489cae58af290141047c88e9a4df6e9f45656c10bf66f28e28be235a15b64820b254f1b9eb2738314e6769f5c94da0c7640ffe76dcffca053b07a0804cd53a1c51ad03bfe0133ce8c5ffffffff48bae85d78b6c5d5033b2da02580757c64b8ba66b4d8029f4080b9a40c8710c5000000008b483045022100cb8a1710c7bd01b9f4c0f89704a8507619b252357dc44531a99882844c283390022051aa5ac8d0c0882ebbaeb3c7c23212614a234139dd1c6c21b83e9825159701870141047c88e9a4df6e9f45656c10bf66f28e28be235a15b64820b254f1b9eb2738314e6769f5c94da0c7640ffe76dcffca053b07a0804cd53a1c51ad03bfe0133ce8c5ffffffff486b211d6c91c78d522bf80e4cf69f1b58bd0206fecab0d2964af67a2be42f2a000000008b483045022100a6cb07ff8f49e56ba159c1939c8eb5b94af2a5ed422ec12e2f06a0800888a2810220723e451c026880534c2467db437dc991444bdbf5918c78b32e24402e7d5c32e00141047c88e9a4df6e9f45656c10bf66f28e28be235a15b64820b254f1b9eb2738314e6769f5c94da0c7640ffe76dcffca053b07a0804cd53a1c51ad03bfe0133ce8c5ffffffff348191a49b911aec99769738777f37d68f56480deaff0f834c836f2e067d3574000000008a47304402202eed5166d446207b7d7cec8f1117195996a26aee96c2d011ed30925e62d4a4f6022063458bdb4e0af6c97cd75fe6d68c7c72d1444ca183431d444bfdb960b74c3fa90141047c88e9a4df6e9f45656c10bf66f28e28be235a15b64820b254f1b9eb2738314e6769f5c94da0c7640ffe76dcffca053b07a0804cd53a1c51ad03bfe0133ce8c5ffffffff314ec039b6a65675b73b3ba0b59185155b0ff5aff747bdfe4d508f853063a17c000000008b483045022100b316f5800d0555e5833ebbef56d3a1a056424dbeb3d52cf7f77f90f3718e5e0902200e97bdc99c0247e5362bfdcc6dc4b687154e42b2f4433be7a914f805937bc7760141047c88e9a4df6e9f45656c10bf66f28e28be235a15b64820b254f1b9eb2738314e6769f5c94da0c7640ffe76dcffca053b07a0804cd53a1c51ad03bfe0133ce8c5ffffffff2f390d813c897d656f04292813295b235eb96fb32b75634eb972bc21cc02c8df000000008b4830450221009fd2094a05091b2f59670c4981df6ba5eb02dcadeae6e64ebaa48d3c481d6ec9022047c17dacc152902d25c67fd48b6f2073a8c4c49ea7876a3c5bedc8af172881700141047c88e9a4df6e9f45656c10bf66f28e28be235a15b64820b254f1b9eb2738314e6769f5c94da0c7640ffe76dcffca053b07a0804cd53a1c51ad03bfe0133ce8c5ffffffff2a8e611b39383875921128660168f535ee0b15c03ae2284f007558bb140d0c42000000008a473044022022994cd55ee2b7b052683e6234be43d3df495496614c3ea56b1aab6d01e1dfe00220596842c79f200d51575b8560f42a45d5ac8e2354c312d9b216ce011a8fa0b35b0141047c88e9a4df6e9f45656c10bf66f28e28be235a15b64820b254f1b9eb2738314e6769f5c94da0c7640ffe76dcffca053b07a0804cd53a1c51ad03bfe0133ce8c5ffffffff26660f094d77a549522f310976f9192af4d5659e550e3955e659a227b2a83a5d000000008b483045022100d814487d800275cec8d8a2ca4b9c1a01fb8ef50338c2833c4247fd5db264d728022049618b9e5f5b9bdec589c3128adce247e800bc612f2d4ae73dcdefe249e9cf9e0141047c88e9a4df6e9f45656c10bf66f28e28be235a15b64820b254f1b9eb2738314e6769f5c94da0c7640ffe76dcffca053b07a0804cd53a1c51ad03bfe0133ce8c5ffffffff12a80106dbc45a7f4f5cc1149bf2a6072f55d93775e33c26b8da4dc65acd3032000000008a473044022038f2cfc69ee59aad7238fc665786c752adee958186ddc8536a61bfbcfb5d18df02202ea9bb4bbc70b9a9f9ac50f95729ecfef40d717e846ae2382fcb6e88ed75291c0141047c88e9a4df6e9f45656c10bf66f28e28be235a15b64820b254f1b9eb2738314e6769f5c94da0c7640ffe76dcffca053b07a0804cd53a1c51ad03bfe0133ce8c5ffffffff0cb62be647563d12b0bb1f4dde795aca938e9567c3f832bd0651f426ca721e09000000008b483045022100b5c27fa2216e7085024a6c734fb648c2c3bdb2ba11457ea41586a36220dd973f02201780cc74f42ba38357c38e72522de89d74182df8515febe5b14b4368176b6b220141047c88e9a4df6e9f45656c10bf66f28e28be235a15b64820b254f1b9eb2738314e6769f5c94da0c7640ffe76dcffca053b07a0804cd53a1c51ad03bfe0133ce8c5ffffffff070bea61a710f2eb4cf9c6bd429f28dfb7cfbb6df7ef663f42b31957cdd4c6cc000000008b4830450221008519bf4d9e9a7336ea804ec7ec2b09a2a00988290941ef85ebf3ad12f6d6923502206adc15384341a332e183f69deeeb01fcddd1829929ef07a62608e086d31ab6e80141047c88e9a4df6e9f45656c10bf66f28e28be235a15b64820b254f1b9eb2738314e6769f5c94da0c7640ffe76dcffca053b07a0804cd53a1c51ad03bfe0133ce8c5ffffffff009f27a98bda2c3e84085e6ac4c44cd71ccdbc02574001410658e82746b656b2000000008b483045022100b62faa24f71e2c6b52f6c8dd3f084ca931d9f3500adbb4761845477084918bb2022078ecc2988c9617a5725c4ee0d3d723dc022035cd707d68d7554c94a92ead30320141047c88e9a4df6e9f45656c10bf66f28e28be235a15b64820b254f1b9eb2738314e6769f5c94da0c7640ffe76dcffca053b07a0804cd53a1c51ad03bfe0133ce8c5fffffffff03f249c93d7e2c8929995b8ec9991606e1c5ea6dd563445463bc32701129031000000008b483045022100d6248c6296df59c3e51e07ab25a4bfa21ef2853db4d3e0d78e5d8efbb9f17ab702205f0a4ea5656f0482a7ada57b2df16acd48f6ade7b43ab6df6d57a6272399e30e0141047c88e9a4df6e9f45656c10bf66f28e28be235a15b64820b254f1b9eb2738314e6769f5c94da0c7640ffe76dcffca053b07a0804cd53a1c51ad03bfe0133ce8c5ffffffffebd8dcae3177333e1685e981a36ab52494f1f373705d9d931f2a5724d280ad58000000008a47304402204c4cd074358b9c8ed1417eff5665c8e6f1de3edd55e267a48bdf1508d6ee5ba402201ae419c1fe5d5816b71b8a9db6c676eea74d620d80a52f657f40f925c63b3ab40141047c88e9a4df6e9f45656c10bf66f28e28be235a15b64820b254f1b9eb2738314e6769f5c94da0c7640ffe76dcffca053b07a0804cd53a1c51ad03bfe0133ce8c5ffffffffe933c4d17049f6094d7dc104fcfd0dccf074c385eeb30f4c640c074649b41680000000008b483045022100f416cbe7e45f4cbccd1623e00f0e6d32e7adab06d0588b191ff1671d63a9840e022062566dc1c6bfbdfbfb891cae94a2a967f99ac28525cdc3910be099180c4366dc0141047c88e9a4df6e9f45656c10bf66f28e28be235a15b64820b254f1b9eb2738314e6769f5c94da0c7640ffe76dcffca053b07a0804cd53a1c51ad03bfe0133ce8c5ffffffffcd5e1b51da95bfe34dd5aaa0c51e32808f47c1af01ab0ce246b4ef7ee5f68c0f000000008b48304502210090327c0cedabc302a9a54e4e145ad78a6627b6052897e106817ea7da44fd377402201100d98e88d2611ec991d9525e4f0d05460e3167da6eb9e19718d2a7decc6f850141047c88e9a4df6e9f45656c10bf66f28e28be235a15b64820b254f1b9eb2738314e6769f5c94da0c7640ffe76dcffca053b07a0804cd53a1c51ad03bfe0133ce8c5ffffffff95e1cd91833ffa1aca5c62249de6a07e9f4e4d78e9f9411d03791af08819d7a9000000008a4730440220565f3fbc3576c0eea8d1805f012ecead4a81930af709fb073bd6924c24b53362022034d301553a1b781096bdc72a8cf98f829e754f06ba60438613de85efe6e73e6b0141047c88e9a4df6e9f45656c10bf66f28e28be235a15b64820b254f1b9eb2738314e6769f5c94da0c7640ffe76dcffca053b07a0804cd53a1c51ad03bfe0133ce8c5ffffffff90e3bce36a258e27a7972352fad3629360c78f8d85b8482e11ff51e8bd321a3a000000008b483045022100ab6757a8f37d9a094f70d2cde2ac53f748ffe4d4b904af45d711c9bc158d7d8902202997ae5afa5cb31a0d3751bf05fe004cbb308aec6aa847c6c1aca0702b5350770141047c88e9a4df6e9f45656c10bf66f28e28be235a15b64820b254f1b9eb2738314e6769f5c94da0c7640ffe76dcffca053b07a0804cd53a1c51ad03bfe0133ce8c5ffffffff7f399bbe452d3aa8ff4a35cd23fe3cbe1109158a3d955595c56099bc5e54f09d000000008a47304402206e2eedb0cfef9e8b5dc7f07a884682d202e7f633c8b5ea936be88c7c39f571fb02201ef5c4a36214cc912cec234c28007c4ab0298e1bae0b30e9919ab033e161cfe30141047c88e9a4df6e9f45656c10bf66f28e28be235a15b64820b254f1b9eb2738314e6769f5c94da0c7640ffe76dcffca053b07a0804cd53a1c51ad03bfe0133ce8c5ffffffff737bbc48056511d8a9b193eb634449344ad3fa4daffe5c4e3ae528ac2325c59b000000008b483045022100bd44ca97cbe1572311a63a7845030d931766c22ff6c92fd26a22136f22f691130220142abe81c2dddfefac10d46f5a1653f07251e7950fe3bea96404893205f1e7a90141047c88e9a4df6e9f45656c10bf66f28e28be235a15b64820b254f1b9eb2738314e6769f5c94da0c7640ffe76dcffca053b07a0804cd53a1c51ad03bfe0133ce8c5ffffffff6477d85a19a971130c42f21366e1d958eb04dfb101a30e4042ba111aa0fbcc76000000008b48304502210087c3473d2f35954d00a9d7522ea652aa90ce09c78ce21d192788bb7e38de9f6d0220675be5ea88abe4b4588d5c002dbf765c0525a30b0ba3c6e78366207f71a2a82a0141047c88e9a4df6e9f45656c10bf66f28e28be235a15b64820b254f1b9eb2738314e6769f5c94da0c7640ffe76dcffca053b07a0804cd53a1c51ad03bfe0133ce8c5ffffffff59b3d646ebb12c829882c002bf02119ca718b172423d7c8599b57db8ab42e164000000008a47304402203884226d222bce08cdda21d4b8182ac21f5ee02314a671f9c225bd4f20afebf602205d8bc2c28b5b571eb0e09ed7828718a81ce9d83b009cf2160e6cfe35e2871a540141047c88e9a4df6e9f45656c10bf66f28e28be235a15b64820b254f1b9eb2738314e6769f5c94da0c7640ffe76dcffca053b07a0804cd53a1c51ad03bfe0133ce8c5ffffffff57a76012ee5306d496e6de42db9a78a85599208a75435806f5cd4e684ae25a8e000000008a473044022027296876d0776ed12017da5a25ac61f434380ec2149ae3a70defc1c676277b05022064b1b027f6a06448c0a808954f459febd199e6032a92fadc35c68387c25e81260141047c88e9a4df6e9f45656c10bf66f28e28be235a15b64820b254f1b9eb2738314e6769f5c94da0c7640ffe76dcffca053b07a0804cd53a1c51ad03bfe0133ce8c5ffffffff499c7654aa662d85977fbf539723d07b1bbf4bd16f10423349c21e50a2e1887f000000008b483045022100ad63adece3b0e10c81599882fbf73b2536da558e2859c42853fa55a8f6e2cc6e02201607f55ea39a425d350839ede9c0ce907a883f04dda3e999161d282007238c930141047c88e9a4df6e9f45656c10bf66f28e28be235a15b64820b254f1b9eb2738314e6769f5c94da0c7640ffe76dcffca053b07a0804cd53a1c51ad03bfe0133ce8c5ffffffff499c3edfb8b74db4827552afa1d8347714994a85e1936c82c4f48efeb560ca3c000000008b4830450221009292d56f20e83c144a0563ce48fe8e325a5c7b2a214f1888fcdd0b2b7ccfeedc02200140124dc18c32eb51e62dace84008e0b2504b7703c30eb52115a1edd47364210141047c88e9a4df6e9f45656c10bf66f28e28be235a15b64820b254f1b9eb2738314e6769f5c94da0c7640ffe76dcffca053b07a0804cd53a1c51ad03bfe0133ce8c5ffffffff48d4bccf0a0262b8d07214c94ad3e1b62de4da09e460eea5da9b23987c468a90000000008a47304402204f58e3e30c105d87f809b1d19e26894ab891e144bcfc74f2cb25f151fa0e10e302203cea966dd78baf00805a3cd8a004c854dbefcffd0ba7e3030d4800013a3aeb2c0141047c88e9a4df6e9f45656c10bf66f28e28be235a15b64820b254f1b9eb2738314e6769f5c94da0c7640ffe76dcffca053b07a0804cd53a1c51ad03bfe0133ce8c5ffffffff3c6b460949beda360f5266a191f546db8fb6794715b6b2074d0c0312996e159d000000008b483045022100d4e6a597d101e93a6d4b04e455ddc12396e6daa35a6729d69aa89be3d0e0a60c022007bcbe2de39313d29455c3845ec3a305feb0288544d73eacf17af4b02d3f623b0141047c88e9a4df6e9f45656c10bf66f28e28be235a15b64820b254f1b9eb2738314e6769f5c94da0c7640ffe76dcffca053b07a0804cd53a1c51ad03bfe0133ce8c5ffffffff23d9fd190169b805c7cccacc338d8eef02e6168d421a64bd868b9a7e630065a9000000008a4730440220436ac23122bd85d07527140769fee639424cc9653e0d45d34da2a3bcb572f684022042c21aa51c4e379c786c2b8b9db17d1bddd96a1cea1fd1bfaf58496f952889840141047c88e9a4df6e9f45656c10bf66f28e28be235a15b64820b254f1b9eb2738314e6769f5c94da0c7640ffe76dcffca053b07a0804cd53a1c51ad03bfe0133ce8c5ffffffff52fefe89ab000000001976a914144739367df0ff8d1c61d03704298d49cf93ef3f88acfefe89ab000000001976a914144739367df0ff8d1c61d03704298d49cf93ef3f88acfefe89ab000000001976a914144739367df0ff8d1c61d03704298d49cf93ef3f88acfefe89ab000000001976a914144739367df0ff8d1c61d03704298d49cf93ef3f88acfefe89ab000000001976a914144739367df0ff8d1c61d03704298d49cf93ef3f88acfefe89ab000000001976a914144739367df0ff8d1c61d03704298d49cf93ef3f88acfefe89ab000000001976a914144739367df0ff8d1c61d03704298d49cf93ef3f88acfefe89ab000000001976a914144739367df0ff8d1c61d03704298d49cf93ef3f88acfefe89ab000000001976a914144739367df0ff8d1c61d03704298d49cf93ef3f88acfefe89ab000000001976a914144739367df0ff8d1c61d03704298d49cf93ef3f88acfefe89ab000000001976a914144739367df0ff8d1c61d03704298d49cf93ef3f88acfefe89ab000000001976a914144739367df0ff8d1c61d03704298d49cf93ef3f88acfefe89ab000000001976a914144739367df0ff8d1c61d03704298d49cf93ef3f88acfefe89ab000000001976a914144739367df0ff8d1c61d03704298d49cf93ef3f88acfefe89ab000000001976a914144739367df0ff8d1c61d03704298d49cf93ef3f88acfefe89ab000000001976a914144739367df0ff8d1c61d03704298d49cf93ef3f88acfefe89ab000000001976a914144739367df0ff8d1c61d03704298d49cf93ef3f88acfefe89ab000000001976a914144739367df0ff8d1c61d03704298d49cf93ef3f88acfefe89ab000000001976a914144739367df0ff8d1c61d03704298d49cf93ef3f88acfefe89ab000000001976a914144739367df0ff8d1c61d03704298d49cf93ef3f88acfefe89ab000000001976a914144739367df0ff8d1c61d03704298d49cf93ef3f88acfefe89ab000000001976a914144739367df0ff8d1c61d03704298d49cf93ef3f88acfefe89ab000000001976a914144739367df0ff8d1c61d03704298d49cf93ef3f88acfefe89ab000000001976a914144739367df0ff8d1c61d03704298d49cf93ef3f88acfefe89ab000000001976a914144739367df0ff8d1c61d03704298d49cf93ef3f88acfefe89ab000000001976a914144739367df0ff8d1c61d03704298d49cf93ef3f88acfefe89ab000000001976a914144739367df0ff8d1c61d03704298d49cf93ef3f88acfefe89ab000000001976a914144739367df0ff8d1c61d03704298d49cf93ef3f88acfefe89ab000000001976a914144739367df0ff8d1c61d03704298d49cf93ef3f88acfefe89ab000000001976a914144739367df0ff8d1c61d03704298d49cf93ef3f88acfefe89ab000000001976a914144739367df0ff8d1c61d03704298d49cf93ef3f88acfefe89ab000000001976a914144739367df0ff8d1c61d03704298d49cf93ef3f88acfefe89ab000000001976a914144739367df0ff8d1c61d03704298d49cf93ef3f88acfefe89ab000000001976a914144739367df0ff8d1c61d03704298d49cf93ef3f88acfefe89ab000000001976a914144739367df0ff8d1c61d03704298d49cf93ef3f88acfefe89ab000000001976a914144739367df0ff8d1c61d03704298d49cf93ef3f88acfefe89ab000000001976a914144739367df0ff8d1c61d03704298d49cf93ef3f88acfefe89ab000000001976a914144739367df0ff8d1c61d03704298d49cf93ef3f88acfefe89ab000000001976a914144739367df0ff8d1c61d03704298d49cf93ef3f88acfefe89ab000000001976a914144739367df0ff8d1c61d03704298d49cf93ef3f88acfefe89ab000000001976a914144739367df0ff8d1c61d03704298d49cf93ef3f88acfefe89ab000000001976a914144739367df0ff8d1c61d03704298d49cf93ef3f88acfefe89ab000000001976a914144739367df0ff8d1c61d03704298d49cf93ef3f88acfefe89ab000000001976a914144739367df0ff8d1c61d03704298d49cf93ef3f88acfefe89ab000000001976a914144739367df0ff8d1c61d03704298d49cf93ef3f88acfefe89ab000000001976a914144739367df0ff8d1c61d03704298d49cf93ef3f88acfefe89ab000000001976a914144739367df0ff8d1c61d03704298d49cf93ef3f88acfefe89ab000000001976a914144739367df0ff8d1c61d03704298d49cf93ef3f88acfefe89ab000000001976a914144739367df0ff8d1c61d03704298d49cf93ef3f88acfefe89ab000000001976a914144739367df0ff8d1c61d03704298d49cf93ef3f88acfefe89ab000000001976a914144739367df0ff8d1c61d03704298d49cf93ef3f88acfefe89ab000000001976a914144739367df0ff8d1c61d03704298d49cf93ef3f88acfefe89ab000000001976a914144739367df0ff8d1c61d03704298d49cf93ef3f88acfefe89ab000000001976a914144739367df0ff8d1c61d03704298d49cf93ef3f88acfefe89ab000000001976a914144739367df0ff8d1c61d03704298d49cf93ef3f88acfefe89ab000000001976a914144739367df0ff8d1c61d03704298d49cf93ef3f88acfefe89ab000000001976a914144739367df0ff8d1c61d03704298d49cf93ef3f88acfefe89ab000000001976a914144739367df0ff8d1c61d03704298d49cf93ef3f88acfefe89ab000000001976a914144739367df0ff8d1c61d03704298d49cf93ef3f88acfefe89ab000000001976a914144739367df0ff8d1c61d03704298d49cf93ef3f88acfefe89ab000000001976a914144739367df0ff8d1c61d03704298d49cf93ef3f88acfefe89ab000000001976a914144739367df0ff8d1c61d03704298d49cf93ef3f88acfefe89ab000000001976a914144739367df0ff8d1c61d03704298d49cf93ef3f88acfefe89ab000000001976a914144739367df0ff8d1c61d03704298d49cf93ef3f88acfefe89ab000000001976a914144739367df0ff8d1c61d03704298d49cf93ef3f88acfefe89ab000000001976a914144739367df0ff8d1c61d03704298d49cf93ef3f88acfefe89ab000000001976a914144739367df0ff8d1c61d03704298d49cf93ef3f88acfefe89ab000000001976a914144739367df0ff8d1c61d03704298d49cf93ef3f88acfefe89ab000000001976a914144739367df0ff8d1c61d03704298d49cf93ef3f88acfefe89ab000000001976a914144739367df0ff8d1c61d03704298d49cf93ef3f88acfefe89ab000000001976a914144739367df0ff8d1c61d03704298d49cf93ef3f88acfefe89ab000000001976a914144739367df0ff8d1c61d03704298d49cf93ef3f88acfefe89ab000000001976a914144739367df0ff8d1c61d03704298d49cf93ef3f88acfefe89ab000000001976a914144739367df0ff8d1c61d03704298d49cf93ef3f88acfefe89ab000000001976a914144739367df0ff8d1c61d03704298d49cf93ef3f88acfefe89ab000000001976a914144739367df0ff8d1c61d03704298d49cf93ef3f88acfefe89ab000000001976a914144739367df0ff8d1c61d03704298d49cf93ef3f88acfefe89ab000000001976a914144739367df0ff8d1c61d03704298d49cf93ef3f88acfefe89ab000000001976a914144739367df0ff8d1c61d03704298d49cf93ef3f88acfefe89ab000000001976a914144739367df0ff8d1c61d03704298d49cf93ef3f88acfefe89ab000000001976a914144739367df0ff8d1c61d03704298d49cf93ef3f88acfefe89ab000000001976a914144739367df0ff8d1c61d03704298d49cf93ef3f88ac00000000'"
            ],
            "application/vnd.google.colaboratory.intrinsic+json": {
              "type": "string"
            }
          },
          "metadata": {},
          "execution_count": 244
        }
      ]
    },
    {
      "cell_type": "code",
      "source": [
        "tip/(len(cryptos.serialize(setup_tx))/2)/100000"
      ],
      "metadata": {
        "id": "JeOmghAEWoZa",
        "colab": {
          "base_uri": "https://localhost:8080/"
        },
        "outputId": "30500209-731b-4453-ca1e-3893b708b5ac"
      },
      "execution_count": 245,
      "outputs": [
        {
          "output_type": "execute_result",
          "data": {
            "text/plain": [
              "2.0689655172413794"
            ]
          },
          "metadata": {},
          "execution_count": 245
        }
      ]
    },
    {
      "cell_type": "code",
      "source": [
        "funding=doge.pushtx(cryptos.serialize(setup_tx))\n",
        "funding"
      ],
      "metadata": {
        "id": "cjn_Pt28WDJx",
        "colab": {
          "base_uri": "https://localhost:8080/"
        },
        "outputId": "b662fef3-1160-4e6e-ba27-9886c3b52e47"
      },
      "execution_count": 246,
      "outputs": [
        {
          "output_type": "execute_result",
          "data": {
            "text/plain": [
              "{'data': {'network': 'DOGE',\n",
              "  'txid': 'dcd31fa39202c9018dfb28e17da108dd3bd6b98ffc1cd30040f636012e3236ee'},\n",
              " 'status': 'success'}"
            ]
          },
          "metadata": {},
          "execution_count": 246
        }
      ]
    },
    {
      "cell_type": "code",
      "source": [
        "doge.fetchtx(funding['data']['txid'])['confirmations']"
      ],
      "metadata": {
        "id": "aSKkBI_MWN-4",
        "colab": {
          "base_uri": "https://localhost:8080/"
        },
        "outputId": "a8761b2c-9471-421b-b62c-80faaee28604"
      },
      "execution_count": 251,
      "outputs": [
        {
          "output_type": "execute_result",
          "data": {
            "text/plain": [
              "1"
            ]
          },
          "metadata": {},
          "execution_count": 251
        }
      ]
    },
    {
      "cell_type": "code",
      "source": [
        "#UTXO set\n",
        "sparkle_unspents=only_conf( doge.unspent(addr) )\n",
        "sparkle_unspents"
      ],
      "metadata": {
        "id": "f7_3zSOzWa5f",
        "colab": {
          "base_uri": "https://localhost:8080/"
        },
        "outputId": "a7129077-b049-4975-8828-104ae407a47f"
      },
      "execution_count": 252,
      "outputs": [
        {
          "output_type": "execute_result",
          "data": {
            "text/plain": [
              "[{'output': 'dcd31fa39202c9018dfb28e17da108dd3bd6b98ffc1cd30040f636012e3236ee:0',\n",
              "  'value': 2877947646},\n",
              " {'output': 'dcd31fa39202c9018dfb28e17da108dd3bd6b98ffc1cd30040f636012e3236ee:1',\n",
              "  'value': 2877947646},\n",
              " {'output': 'dcd31fa39202c9018dfb28e17da108dd3bd6b98ffc1cd30040f636012e3236ee:2',\n",
              "  'value': 2877947646},\n",
              " {'output': 'dcd31fa39202c9018dfb28e17da108dd3bd6b98ffc1cd30040f636012e3236ee:3',\n",
              "  'value': 2877947646},\n",
              " {'output': 'dcd31fa39202c9018dfb28e17da108dd3bd6b98ffc1cd30040f636012e3236ee:4',\n",
              "  'value': 2877947646},\n",
              " {'output': 'dcd31fa39202c9018dfb28e17da108dd3bd6b98ffc1cd30040f636012e3236ee:5',\n",
              "  'value': 2877947646},\n",
              " {'output': 'dcd31fa39202c9018dfb28e17da108dd3bd6b98ffc1cd30040f636012e3236ee:6',\n",
              "  'value': 2877947646},\n",
              " {'output': 'dcd31fa39202c9018dfb28e17da108dd3bd6b98ffc1cd30040f636012e3236ee:7',\n",
              "  'value': 2877947646},\n",
              " {'output': 'dcd31fa39202c9018dfb28e17da108dd3bd6b98ffc1cd30040f636012e3236ee:8',\n",
              "  'value': 2877947646},\n",
              " {'output': 'dcd31fa39202c9018dfb28e17da108dd3bd6b98ffc1cd30040f636012e3236ee:9',\n",
              "  'value': 2877947646},\n",
              " {'output': 'dcd31fa39202c9018dfb28e17da108dd3bd6b98ffc1cd30040f636012e3236ee:10',\n",
              "  'value': 2877947646},\n",
              " {'output': 'dcd31fa39202c9018dfb28e17da108dd3bd6b98ffc1cd30040f636012e3236ee:11',\n",
              "  'value': 2877947646},\n",
              " {'output': 'dcd31fa39202c9018dfb28e17da108dd3bd6b98ffc1cd30040f636012e3236ee:12',\n",
              "  'value': 2877947646},\n",
              " {'output': 'dcd31fa39202c9018dfb28e17da108dd3bd6b98ffc1cd30040f636012e3236ee:13',\n",
              "  'value': 2877947646},\n",
              " {'output': 'dcd31fa39202c9018dfb28e17da108dd3bd6b98ffc1cd30040f636012e3236ee:14',\n",
              "  'value': 2877947646},\n",
              " {'output': 'dcd31fa39202c9018dfb28e17da108dd3bd6b98ffc1cd30040f636012e3236ee:15',\n",
              "  'value': 2877947646},\n",
              " {'output': 'dcd31fa39202c9018dfb28e17da108dd3bd6b98ffc1cd30040f636012e3236ee:16',\n",
              "  'value': 2877947646},\n",
              " {'output': 'dcd31fa39202c9018dfb28e17da108dd3bd6b98ffc1cd30040f636012e3236ee:17',\n",
              "  'value': 2877947646},\n",
              " {'output': 'dcd31fa39202c9018dfb28e17da108dd3bd6b98ffc1cd30040f636012e3236ee:18',\n",
              "  'value': 2877947646},\n",
              " {'output': 'dcd31fa39202c9018dfb28e17da108dd3bd6b98ffc1cd30040f636012e3236ee:19',\n",
              "  'value': 2877947646},\n",
              " {'output': 'dcd31fa39202c9018dfb28e17da108dd3bd6b98ffc1cd30040f636012e3236ee:20',\n",
              "  'value': 2877947646},\n",
              " {'output': 'dcd31fa39202c9018dfb28e17da108dd3bd6b98ffc1cd30040f636012e3236ee:21',\n",
              "  'value': 2877947646},\n",
              " {'output': 'dcd31fa39202c9018dfb28e17da108dd3bd6b98ffc1cd30040f636012e3236ee:22',\n",
              "  'value': 2877947646},\n",
              " {'output': 'dcd31fa39202c9018dfb28e17da108dd3bd6b98ffc1cd30040f636012e3236ee:23',\n",
              "  'value': 2877947646},\n",
              " {'output': 'dcd31fa39202c9018dfb28e17da108dd3bd6b98ffc1cd30040f636012e3236ee:24',\n",
              "  'value': 2877947646},\n",
              " {'output': 'dcd31fa39202c9018dfb28e17da108dd3bd6b98ffc1cd30040f636012e3236ee:25',\n",
              "  'value': 2877947646},\n",
              " {'output': 'dcd31fa39202c9018dfb28e17da108dd3bd6b98ffc1cd30040f636012e3236ee:26',\n",
              "  'value': 2877947646},\n",
              " {'output': 'dcd31fa39202c9018dfb28e17da108dd3bd6b98ffc1cd30040f636012e3236ee:27',\n",
              "  'value': 2877947646},\n",
              " {'output': 'dcd31fa39202c9018dfb28e17da108dd3bd6b98ffc1cd30040f636012e3236ee:28',\n",
              "  'value': 2877947646},\n",
              " {'output': 'dcd31fa39202c9018dfb28e17da108dd3bd6b98ffc1cd30040f636012e3236ee:29',\n",
              "  'value': 2877947646},\n",
              " {'output': 'dcd31fa39202c9018dfb28e17da108dd3bd6b98ffc1cd30040f636012e3236ee:30',\n",
              "  'value': 2877947646},\n",
              " {'output': 'dcd31fa39202c9018dfb28e17da108dd3bd6b98ffc1cd30040f636012e3236ee:31',\n",
              "  'value': 2877947646},\n",
              " {'output': 'dcd31fa39202c9018dfb28e17da108dd3bd6b98ffc1cd30040f636012e3236ee:32',\n",
              "  'value': 2877947646},\n",
              " {'output': 'dcd31fa39202c9018dfb28e17da108dd3bd6b98ffc1cd30040f636012e3236ee:33',\n",
              "  'value': 2877947646},\n",
              " {'output': 'dcd31fa39202c9018dfb28e17da108dd3bd6b98ffc1cd30040f636012e3236ee:34',\n",
              "  'value': 2877947646},\n",
              " {'output': 'dcd31fa39202c9018dfb28e17da108dd3bd6b98ffc1cd30040f636012e3236ee:35',\n",
              "  'value': 2877947646},\n",
              " {'output': 'dcd31fa39202c9018dfb28e17da108dd3bd6b98ffc1cd30040f636012e3236ee:36',\n",
              "  'value': 2877947646},\n",
              " {'output': 'dcd31fa39202c9018dfb28e17da108dd3bd6b98ffc1cd30040f636012e3236ee:37',\n",
              "  'value': 2877947646},\n",
              " {'output': 'dcd31fa39202c9018dfb28e17da108dd3bd6b98ffc1cd30040f636012e3236ee:38',\n",
              "  'value': 2877947646},\n",
              " {'output': 'dcd31fa39202c9018dfb28e17da108dd3bd6b98ffc1cd30040f636012e3236ee:39',\n",
              "  'value': 2877947646},\n",
              " {'output': 'dcd31fa39202c9018dfb28e17da108dd3bd6b98ffc1cd30040f636012e3236ee:40',\n",
              "  'value': 2877947646},\n",
              " {'output': 'dcd31fa39202c9018dfb28e17da108dd3bd6b98ffc1cd30040f636012e3236ee:41',\n",
              "  'value': 2877947646},\n",
              " {'output': 'dcd31fa39202c9018dfb28e17da108dd3bd6b98ffc1cd30040f636012e3236ee:42',\n",
              "  'value': 2877947646},\n",
              " {'output': 'dcd31fa39202c9018dfb28e17da108dd3bd6b98ffc1cd30040f636012e3236ee:43',\n",
              "  'value': 2877947646},\n",
              " {'output': 'dcd31fa39202c9018dfb28e17da108dd3bd6b98ffc1cd30040f636012e3236ee:44',\n",
              "  'value': 2877947646},\n",
              " {'output': 'dcd31fa39202c9018dfb28e17da108dd3bd6b98ffc1cd30040f636012e3236ee:45',\n",
              "  'value': 2877947646},\n",
              " {'output': 'dcd31fa39202c9018dfb28e17da108dd3bd6b98ffc1cd30040f636012e3236ee:46',\n",
              "  'value': 2877947646},\n",
              " {'output': 'dcd31fa39202c9018dfb28e17da108dd3bd6b98ffc1cd30040f636012e3236ee:47',\n",
              "  'value': 2877947646},\n",
              " {'output': 'dcd31fa39202c9018dfb28e17da108dd3bd6b98ffc1cd30040f636012e3236ee:48',\n",
              "  'value': 2877947646},\n",
              " {'output': 'dcd31fa39202c9018dfb28e17da108dd3bd6b98ffc1cd30040f636012e3236ee:49',\n",
              "  'value': 2877947646},\n",
              " {'output': 'dcd31fa39202c9018dfb28e17da108dd3bd6b98ffc1cd30040f636012e3236ee:50',\n",
              "  'value': 2877947646},\n",
              " {'output': 'dcd31fa39202c9018dfb28e17da108dd3bd6b98ffc1cd30040f636012e3236ee:51',\n",
              "  'value': 2877947646},\n",
              " {'output': 'dcd31fa39202c9018dfb28e17da108dd3bd6b98ffc1cd30040f636012e3236ee:52',\n",
              "  'value': 2877947646},\n",
              " {'output': 'dcd31fa39202c9018dfb28e17da108dd3bd6b98ffc1cd30040f636012e3236ee:53',\n",
              "  'value': 2877947646},\n",
              " {'output': 'dcd31fa39202c9018dfb28e17da108dd3bd6b98ffc1cd30040f636012e3236ee:54',\n",
              "  'value': 2877947646},\n",
              " {'output': 'dcd31fa39202c9018dfb28e17da108dd3bd6b98ffc1cd30040f636012e3236ee:55',\n",
              "  'value': 2877947646},\n",
              " {'output': 'dcd31fa39202c9018dfb28e17da108dd3bd6b98ffc1cd30040f636012e3236ee:56',\n",
              "  'value': 2877947646},\n",
              " {'output': 'dcd31fa39202c9018dfb28e17da108dd3bd6b98ffc1cd30040f636012e3236ee:57',\n",
              "  'value': 2877947646},\n",
              " {'output': 'dcd31fa39202c9018dfb28e17da108dd3bd6b98ffc1cd30040f636012e3236ee:58',\n",
              "  'value': 2877947646},\n",
              " {'output': 'dcd31fa39202c9018dfb28e17da108dd3bd6b98ffc1cd30040f636012e3236ee:59',\n",
              "  'value': 2877947646},\n",
              " {'output': 'dcd31fa39202c9018dfb28e17da108dd3bd6b98ffc1cd30040f636012e3236ee:60',\n",
              "  'value': 2877947646},\n",
              " {'output': 'dcd31fa39202c9018dfb28e17da108dd3bd6b98ffc1cd30040f636012e3236ee:61',\n",
              "  'value': 2877947646},\n",
              " {'output': 'dcd31fa39202c9018dfb28e17da108dd3bd6b98ffc1cd30040f636012e3236ee:62',\n",
              "  'value': 2877947646},\n",
              " {'output': 'dcd31fa39202c9018dfb28e17da108dd3bd6b98ffc1cd30040f636012e3236ee:63',\n",
              "  'value': 2877947646},\n",
              " {'output': 'dcd31fa39202c9018dfb28e17da108dd3bd6b98ffc1cd30040f636012e3236ee:64',\n",
              "  'value': 2877947646},\n",
              " {'output': 'dcd31fa39202c9018dfb28e17da108dd3bd6b98ffc1cd30040f636012e3236ee:65',\n",
              "  'value': 2877947646},\n",
              " {'output': 'dcd31fa39202c9018dfb28e17da108dd3bd6b98ffc1cd30040f636012e3236ee:66',\n",
              "  'value': 2877947646},\n",
              " {'output': 'dcd31fa39202c9018dfb28e17da108dd3bd6b98ffc1cd30040f636012e3236ee:67',\n",
              "  'value': 2877947646},\n",
              " {'output': 'dcd31fa39202c9018dfb28e17da108dd3bd6b98ffc1cd30040f636012e3236ee:68',\n",
              "  'value': 2877947646},\n",
              " {'output': 'dcd31fa39202c9018dfb28e17da108dd3bd6b98ffc1cd30040f636012e3236ee:69',\n",
              "  'value': 2877947646},\n",
              " {'output': 'dcd31fa39202c9018dfb28e17da108dd3bd6b98ffc1cd30040f636012e3236ee:70',\n",
              "  'value': 2877947646},\n",
              " {'output': 'dcd31fa39202c9018dfb28e17da108dd3bd6b98ffc1cd30040f636012e3236ee:71',\n",
              "  'value': 2877947646},\n",
              " {'output': 'dcd31fa39202c9018dfb28e17da108dd3bd6b98ffc1cd30040f636012e3236ee:72',\n",
              "  'value': 2877947646},\n",
              " {'output': 'dcd31fa39202c9018dfb28e17da108dd3bd6b98ffc1cd30040f636012e3236ee:73',\n",
              "  'value': 2877947646},\n",
              " {'output': 'dcd31fa39202c9018dfb28e17da108dd3bd6b98ffc1cd30040f636012e3236ee:74',\n",
              "  'value': 2877947646},\n",
              " {'output': 'dcd31fa39202c9018dfb28e17da108dd3bd6b98ffc1cd30040f636012e3236ee:75',\n",
              "  'value': 2877947646},\n",
              " {'output': 'dcd31fa39202c9018dfb28e17da108dd3bd6b98ffc1cd30040f636012e3236ee:76',\n",
              "  'value': 2877947646},\n",
              " {'output': 'dcd31fa39202c9018dfb28e17da108dd3bd6b98ffc1cd30040f636012e3236ee:77',\n",
              "  'value': 2877947646},\n",
              " {'output': 'dcd31fa39202c9018dfb28e17da108dd3bd6b98ffc1cd30040f636012e3236ee:78',\n",
              "  'value': 2877947646},\n",
              " {'output': 'dcd31fa39202c9018dfb28e17da108dd3bd6b98ffc1cd30040f636012e3236ee:79',\n",
              "  'value': 2877947646},\n",
              " {'output': 'dcd31fa39202c9018dfb28e17da108dd3bd6b98ffc1cd30040f636012e3236ee:80',\n",
              "  'value': 2877947646},\n",
              " {'output': 'dcd31fa39202c9018dfb28e17da108dd3bd6b98ffc1cd30040f636012e3236ee:81',\n",
              "  'value': 2877947646}]"
            ]
          },
          "metadata": {},
          "execution_count": 252
        }
      ]
    },
    {
      "cell_type": "code",
      "source": [
        "\n",
        "len(sparkle_unspents),len(package)"
      ],
      "metadata": {
        "id": "W7HfG-KLHwXo",
        "colab": {
          "base_uri": "https://localhost:8080/"
        },
        "outputId": "5ddc5cad-01a0-44d2-a3f0-2cfbd214bb9b"
      },
      "execution_count": 253,
      "outputs": [
        {
          "output_type": "execute_result",
          "data": {
            "text/plain": [
              "(82, 82)"
            ]
          },
          "metadata": {},
          "execution_count": 253
        }
      ]
    },
    {
      "cell_type": "code",
      "source": [
        "data_and_utxo=zip(package,sparkle_unspents)"
      ],
      "metadata": {
        "id": "3zkWduyzwt2G"
      },
      "execution_count": 255,
      "outputs": []
    },
    {
      "cell_type": "code",
      "source": [
        "class Cadena():\n",
        "\n",
        "  def __init__(self,prvkey,data,utxo_dct,tip):\n",
        "    self.data=data\n",
        "    self.doge=cryptos.Doge()\n",
        "    self.clip=[self.data[i:i+80] for i in range(0,len(self.data),80) ]\n",
        "    self.og_len=len(self.clip)\n",
        "    self.state='CONF'\n",
        "    self.utxo=utxo_dct\n",
        "    self.head_utxo=self.utxo\n",
        "    self.txn_ids=[self.utxo['output'].split(':')[0]]\n",
        "    self.prv=prvkey\n",
        "    self.addr=self.doge.privtoaddr(self.prv)\n",
        "    self.tip=tip\n",
        "    self.index=0\n",
        "\n",
        "  def make_tx(self):\n",
        "    tx = self.doge.mktx([self.head_utxo],[ {'value':self.head_utxo['value']-self.tip , 'address': self.addr}])\n",
        "    doge_inscribed_serial_tx=mk_opreturn( self.clip[self.index] , cryptos.serialize(tx))\n",
        "    doge_inscribed_tx=cryptos.deserialize(doge_inscribed_serial_tx)\n",
        "    self.signed_inscribed_tx=self.doge.signall(doge_inscribed_tx,self.prv)\n",
        "    self.state='READY'\n",
        "  \n",
        "  def broadcast(self):\n",
        "    self.cast=self.doge.pushtx(self.signed_inscribed_tx)\n",
        "    cast_txid=self.cast['data']['txid']\n",
        "    self.txn_ids.append(cast_txid)\n",
        "    self.head_utxo={'output':cast_txid+':0' ,'value':self.head_utxo['value']-self.tip }\n",
        "    self.index=self.index+1\n",
        "    self.state='SENT'\n",
        "\n",
        "  def update(self):\n",
        "    if self.doge.fetchtx(self.head_utxo['output'].split(':')[0])['confirmations']:\n",
        "      self.state='CONF'\n",
        "      if self.index==self.og_len:\n",
        "        self.state='DONE'\n",
        "    "
      ],
      "metadata": {
        "id": "kzClIKZQJ8Ni"
      },
      "execution_count": 256,
      "outputs": []
    },
    {
      "cell_type": "code",
      "source": [
        "cadenas=[ Cadena(privKey.to_hex()[2:],*datum_utxo,100_000_000)for datum_utxo in zip(package,sparkle_unspents) ]"
      ],
      "metadata": {
        "id": "yhpcOVrZvkw7"
      },
      "execution_count": 257,
      "outputs": []
    },
    {
      "cell_type": "code",
      "source": [
        "import time\n",
        "\n",
        "height=doge.current_block_height()-1\n",
        "print(height)\n",
        "while True:\n",
        "  check_height=doge.current_block_height()\n",
        "  if check_height>height:\n",
        "    height=check_height\n",
        "    print(height)\n",
        "    [cad.make_tx() for cad in cadenas if cad.state=='CONF'];\n",
        "    [cad.broadcast() for cad in cadenas if cad.state=='READY'];\n",
        "    [cad.update() for cad in cadenas if cad.state=='SENT'];\n",
        "    [cad.make_tx() for cad in cadenas if cad.state=='CONF'];\n",
        "    [cad.broadcast() for cad in cadenas if cad.state=='READY'];\n",
        "    print([cad.state for cad in cadenas])\n",
        "    if all([cad.state=='DONE' for cad in cadenas]):\n",
        "      break\n",
        "  time.sleep(30)\n"
      ],
      "metadata": {
        "id": "KM-z1gdPTra4",
        "outputId": "d4a40749-0d9a-405d-ff36-df228d43f76c",
        "colab": {
          "base_uri": "https://localhost:8080/"
        }
      },
      "execution_count": 258,
      "outputs": [
        {
          "output_type": "stream",
          "name": "stdout",
          "text": [
            "4241099\n",
            "4241100\n",
            "['SENT', 'SENT', 'SENT', 'SENT', 'SENT', 'SENT', 'SENT', 'SENT', 'SENT', 'SENT', 'SENT', 'SENT', 'SENT', 'SENT', 'SENT', 'SENT', 'SENT', 'SENT', 'SENT', 'SENT', 'SENT', 'SENT', 'SENT', 'SENT', 'SENT', 'SENT', 'SENT', 'SENT', 'SENT', 'SENT', 'SENT', 'SENT', 'SENT', 'SENT', 'SENT', 'SENT', 'SENT', 'SENT', 'SENT', 'SENT', 'SENT', 'SENT', 'SENT', 'SENT', 'SENT', 'SENT', 'SENT', 'SENT', 'SENT', 'SENT', 'SENT', 'SENT', 'SENT', 'SENT', 'SENT', 'SENT', 'SENT', 'SENT', 'SENT', 'SENT', 'SENT', 'SENT', 'SENT', 'SENT', 'SENT', 'SENT', 'SENT', 'SENT', 'SENT', 'SENT', 'SENT', 'SENT', 'SENT', 'SENT', 'SENT', 'SENT', 'SENT', 'SENT', 'SENT', 'SENT', 'SENT', 'SENT']\n",
            "4241101\n",
            "['DONE', 'SENT', 'SENT', 'SENT', 'SENT', 'SENT', 'SENT', 'SENT', 'SENT', 'SENT', 'SENT', 'SENT', 'SENT', 'SENT', 'SENT', 'SENT', 'SENT', 'SENT', 'SENT', 'SENT', 'SENT', 'SENT', 'SENT', 'SENT', 'SENT', 'SENT', 'SENT', 'SENT', 'SENT', 'SENT', 'SENT', 'SENT', 'SENT', 'SENT', 'SENT', 'SENT', 'SENT', 'SENT', 'SENT', 'SENT', 'SENT', 'SENT', 'SENT', 'SENT', 'SENT', 'SENT', 'SENT', 'SENT', 'SENT', 'SENT', 'SENT', 'SENT', 'SENT', 'SENT', 'SENT', 'SENT', 'SENT', 'SENT', 'SENT', 'SENT', 'SENT', 'SENT', 'SENT', 'SENT', 'SENT', 'SENT', 'SENT', 'SENT', 'SENT', 'SENT', 'SENT', 'SENT', 'SENT', 'SENT', 'SENT', 'SENT', 'SENT', 'SENT', 'SENT', 'SENT', 'SENT', 'SENT']\n",
            "4241102\n",
            "['DONE', 'SENT', 'SENT', 'SENT', 'SENT', 'SENT', 'SENT', 'SENT', 'SENT', 'SENT', 'SENT', 'SENT', 'SENT', 'SENT', 'SENT', 'SENT', 'SENT', 'SENT', 'SENT', 'SENT', 'SENT', 'SENT', 'SENT', 'SENT', 'SENT', 'SENT', 'SENT', 'SENT', 'SENT', 'SENT', 'SENT', 'SENT', 'SENT', 'SENT', 'SENT', 'SENT', 'SENT', 'SENT', 'SENT', 'SENT', 'SENT', 'SENT', 'SENT', 'SENT', 'SENT', 'SENT', 'SENT', 'SENT', 'SENT', 'SENT', 'SENT', 'SENT', 'SENT', 'SENT', 'SENT', 'SENT', 'SENT', 'SENT', 'SENT', 'SENT', 'SENT', 'SENT', 'SENT', 'SENT', 'SENT', 'SENT', 'SENT', 'SENT', 'SENT', 'SENT', 'SENT', 'SENT', 'SENT', 'SENT', 'SENT', 'SENT', 'SENT', 'SENT', 'SENT', 'SENT', 'SENT', 'SENT']\n",
            "4241103\n",
            "['DONE', 'SENT', 'SENT', 'SENT', 'SENT', 'SENT', 'SENT', 'SENT', 'SENT', 'SENT', 'SENT', 'SENT', 'SENT', 'SENT', 'SENT', 'SENT', 'SENT', 'SENT', 'SENT', 'SENT', 'SENT', 'SENT', 'SENT', 'SENT', 'SENT', 'SENT', 'SENT', 'SENT', 'SENT', 'SENT', 'SENT', 'SENT', 'SENT', 'SENT', 'SENT', 'SENT', 'SENT', 'SENT', 'SENT', 'SENT', 'SENT', 'SENT', 'SENT', 'SENT', 'SENT', 'SENT', 'SENT', 'SENT', 'SENT', 'SENT', 'SENT', 'SENT', 'SENT', 'SENT', 'SENT', 'SENT', 'SENT', 'SENT', 'SENT', 'SENT', 'SENT', 'SENT', 'SENT', 'SENT', 'SENT', 'SENT', 'SENT', 'SENT', 'SENT', 'SENT', 'SENT', 'SENT', 'SENT', 'SENT', 'SENT', 'SENT', 'SENT', 'SENT', 'SENT', 'SENT', 'SENT', 'SENT']\n",
            "4241104\n",
            "['DONE', 'SENT', 'SENT', 'SENT', 'SENT', 'SENT', 'SENT', 'SENT', 'SENT', 'SENT', 'SENT', 'SENT', 'SENT', 'SENT', 'SENT', 'SENT', 'SENT', 'SENT', 'SENT', 'SENT', 'SENT', 'SENT', 'SENT', 'SENT', 'SENT', 'SENT', 'SENT', 'SENT', 'SENT', 'SENT', 'SENT', 'SENT', 'SENT', 'SENT', 'SENT', 'SENT', 'SENT', 'SENT', 'SENT', 'SENT', 'SENT', 'SENT', 'SENT', 'SENT', 'SENT', 'SENT', 'SENT', 'SENT', 'SENT', 'SENT', 'SENT', 'SENT', 'SENT', 'SENT', 'SENT', 'SENT', 'SENT', 'SENT', 'SENT', 'SENT', 'SENT', 'SENT', 'SENT', 'SENT', 'SENT', 'SENT', 'SENT', 'SENT', 'SENT', 'SENT', 'SENT', 'SENT', 'SENT', 'SENT', 'SENT', 'SENT', 'SENT', 'SENT', 'SENT', 'SENT', 'SENT', 'SENT']\n",
            "4241106\n",
            "['DONE', 'SENT', 'SENT', 'SENT', 'SENT', 'SENT', 'SENT', 'SENT', 'SENT', 'SENT', 'SENT', 'SENT', 'SENT', 'SENT', 'SENT', 'SENT', 'SENT', 'SENT', 'SENT', 'SENT', 'SENT', 'SENT', 'SENT', 'SENT', 'SENT', 'SENT', 'SENT', 'SENT', 'SENT', 'SENT', 'SENT', 'SENT', 'SENT', 'SENT', 'SENT', 'SENT', 'SENT', 'SENT', 'SENT', 'SENT', 'SENT', 'SENT', 'SENT', 'SENT', 'SENT', 'SENT', 'SENT', 'SENT', 'SENT', 'SENT', 'SENT', 'SENT', 'SENT', 'SENT', 'SENT', 'SENT', 'SENT', 'SENT', 'SENT', 'SENT', 'SENT', 'SENT', 'SENT', 'SENT', 'SENT', 'SENT', 'SENT', 'SENT', 'SENT', 'SENT', 'SENT', 'SENT', 'SENT', 'SENT', 'SENT', 'SENT', 'SENT', 'SENT', 'SENT', 'SENT', 'SENT', 'SENT']\n",
            "4241107\n",
            "['DONE', 'SENT', 'SENT', 'SENT', 'SENT', 'SENT', 'SENT', 'SENT', 'SENT', 'SENT', 'SENT', 'SENT', 'SENT', 'SENT', 'SENT', 'SENT', 'SENT', 'SENT', 'SENT', 'SENT', 'SENT', 'SENT', 'SENT', 'SENT', 'SENT', 'SENT', 'SENT', 'SENT', 'SENT', 'SENT', 'SENT', 'SENT', 'SENT', 'SENT', 'SENT', 'SENT', 'SENT', 'SENT', 'SENT', 'SENT', 'SENT', 'SENT', 'SENT', 'SENT', 'SENT', 'SENT', 'SENT', 'SENT', 'SENT', 'SENT', 'SENT', 'SENT', 'SENT', 'SENT', 'SENT', 'SENT', 'SENT', 'SENT', 'SENT', 'SENT', 'SENT', 'SENT', 'SENT', 'SENT', 'SENT', 'SENT', 'SENT', 'SENT', 'SENT', 'SENT', 'SENT', 'SENT', 'SENT', 'SENT', 'SENT', 'SENT', 'SENT', 'SENT', 'SENT', 'SENT', 'SENT', 'SENT']\n",
            "4241108\n",
            "['DONE', 'SENT', 'SENT', 'SENT', 'SENT', 'SENT', 'SENT', 'SENT', 'SENT', 'SENT', 'SENT', 'SENT', 'SENT', 'SENT', 'SENT', 'SENT', 'SENT', 'SENT', 'SENT', 'SENT', 'SENT', 'SENT', 'SENT', 'SENT', 'SENT', 'SENT', 'SENT', 'SENT', 'SENT', 'SENT', 'SENT', 'SENT', 'SENT', 'SENT', 'SENT', 'SENT', 'SENT', 'SENT', 'SENT', 'SENT', 'SENT', 'SENT', 'SENT', 'SENT', 'SENT', 'SENT', 'SENT', 'SENT', 'SENT', 'SENT', 'SENT', 'SENT', 'SENT', 'SENT', 'SENT', 'SENT', 'SENT', 'SENT', 'SENT', 'SENT', 'SENT', 'SENT', 'SENT', 'SENT', 'SENT', 'SENT', 'SENT', 'SENT', 'SENT', 'SENT', 'SENT', 'SENT', 'SENT', 'SENT', 'SENT', 'SENT', 'SENT', 'SENT', 'SENT', 'SENT', 'SENT', 'SENT']\n",
            "4241110\n",
            "['DONE', 'SENT', 'SENT', 'SENT', 'SENT', 'SENT', 'SENT', 'SENT', 'SENT', 'SENT', 'SENT', 'SENT', 'SENT', 'SENT', 'SENT', 'SENT', 'SENT', 'SENT', 'SENT', 'SENT', 'SENT', 'SENT', 'SENT', 'SENT', 'SENT', 'SENT', 'SENT', 'SENT', 'SENT', 'SENT', 'SENT', 'SENT', 'SENT', 'SENT', 'SENT', 'SENT', 'SENT', 'SENT', 'SENT', 'SENT', 'SENT', 'SENT', 'SENT', 'SENT', 'SENT', 'SENT', 'SENT', 'SENT', 'SENT', 'SENT', 'SENT', 'SENT', 'SENT', 'SENT', 'SENT', 'SENT', 'SENT', 'SENT', 'SENT', 'SENT', 'SENT', 'SENT', 'SENT', 'SENT', 'SENT', 'SENT', 'SENT', 'SENT', 'SENT', 'SENT', 'SENT', 'SENT', 'SENT', 'SENT', 'SENT', 'SENT', 'SENT', 'SENT', 'SENT', 'SENT', 'SENT', 'SENT']\n",
            "4241111\n",
            "['DONE', 'DONE', 'DONE', 'DONE', 'DONE', 'DONE', 'DONE', 'DONE', 'DONE', 'DONE', 'DONE', 'DONE', 'DONE', 'DONE', 'DONE', 'DONE', 'DONE', 'DONE', 'DONE', 'DONE', 'DONE', 'DONE', 'DONE', 'DONE', 'DONE', 'DONE', 'DONE', 'DONE', 'DONE', 'DONE', 'DONE', 'DONE', 'DONE', 'DONE', 'DONE', 'DONE', 'DONE', 'DONE', 'DONE', 'DONE', 'DONE', 'DONE', 'DONE', 'DONE', 'DONE', 'DONE', 'DONE', 'DONE', 'DONE', 'DONE', 'DONE', 'DONE', 'DONE', 'DONE', 'DONE', 'DONE', 'DONE', 'DONE', 'DONE', 'DONE', 'DONE', 'DONE', 'DONE', 'DONE', 'DONE', 'DONE', 'DONE', 'DONE', 'DONE', 'DONE', 'DONE', 'DONE', 'DONE', 'DONE', 'DONE', 'DONE', 'DONE', 'DONE', 'DONE', 'DONE', 'DONE', 'DONE']\n"
          ]
        }
      ]
    },
    {
      "cell_type": "code",
      "source": [
        "[cad.index for cad in cadenas]"
      ],
      "metadata": {
        "id": "O2oNkLF6iReX",
        "outputId": "afd6bb43-73c1-432d-be3f-40631437f96d",
        "colab": {
          "base_uri": "https://localhost:8080/"
        }
      },
      "execution_count": 265,
      "outputs": [
        {
          "output_type": "execute_result",
          "data": {
            "text/plain": [
              "[1,\n",
              " 6,\n",
              " 6,\n",
              " 6,\n",
              " 6,\n",
              " 6,\n",
              " 6,\n",
              " 6,\n",
              " 6,\n",
              " 6,\n",
              " 6,\n",
              " 6,\n",
              " 6,\n",
              " 6,\n",
              " 6,\n",
              " 6,\n",
              " 6,\n",
              " 6,\n",
              " 6,\n",
              " 6,\n",
              " 6,\n",
              " 6,\n",
              " 6,\n",
              " 6,\n",
              " 6,\n",
              " 6,\n",
              " 6,\n",
              " 6,\n",
              " 6,\n",
              " 6,\n",
              " 6,\n",
              " 6,\n",
              " 6,\n",
              " 6,\n",
              " 6,\n",
              " 6,\n",
              " 6,\n",
              " 6,\n",
              " 6,\n",
              " 6,\n",
              " 6,\n",
              " 6,\n",
              " 6,\n",
              " 6,\n",
              " 6,\n",
              " 6,\n",
              " 6,\n",
              " 6,\n",
              " 6,\n",
              " 6,\n",
              " 6,\n",
              " 6,\n",
              " 6,\n",
              " 6,\n",
              " 6,\n",
              " 6,\n",
              " 6,\n",
              " 6,\n",
              " 6,\n",
              " 6,\n",
              " 6,\n",
              " 6,\n",
              " 6,\n",
              " 6,\n",
              " 6,\n",
              " 6,\n",
              " 6,\n",
              " 6,\n",
              " 6,\n",
              " 6,\n",
              " 6,\n",
              " 6,\n",
              " 6,\n",
              " 6,\n",
              " 6,\n",
              " 6,\n",
              " 6,\n",
              " 6,\n",
              " 6,\n",
              " 6,\n",
              " 6,\n",
              " 6]"
            ]
          },
          "metadata": {},
          "execution_count": 265
        }
      ]
    },
    {
      "cell_type": "code",
      "source": [
        "cadenas[1].utxo"
      ],
      "metadata": {
        "colab": {
          "base_uri": "https://localhost:8080/"
        },
        "id": "mVzHg_Wb2UiH",
        "outputId": "0ae67963-8012-4d30-b10d-0f29d8359450"
      },
      "execution_count": 259,
      "outputs": [
        {
          "output_type": "execute_result",
          "data": {
            "text/plain": [
              "{'output': 'dcd31fa39202c9018dfb28e17da108dd3bd6b98ffc1cd30040f636012e3236ee:1',\n",
              " 'value': 2877947646}"
            ]
          },
          "metadata": {},
          "execution_count": 259
        }
      ]
    },
    {
      "cell_type": "code",
      "source": [
        "cadenas[0].head_utxo"
      ],
      "metadata": {
        "colab": {
          "base_uri": "https://localhost:8080/"
        },
        "id": "XnSusnlj2Yow",
        "outputId": "a6a35b36-467d-435e-b8db-a6127cc85584"
      },
      "execution_count": 260,
      "outputs": [
        {
          "output_type": "execute_result",
          "data": {
            "text/plain": [
              "{'output': '0f6e1866126be28ba587718cc6dec9c4719653a5328129fdcb2ab953e5bf1a7e:0',\n",
              " 'value': 2777947646}"
            ]
          },
          "metadata": {},
          "execution_count": 260
        }
      ]
    },
    {
      "cell_type": "markdown",
      "source": [
        "# Everything is Retrievable From the TX Hash of Header Transaction \n",
        "\n",
        "\n",
        "\n",
        "Use the UTXO set transactions\n",
        "\n",
        "The first is greyscale. The second is color. They are both super parallel, meaning there is no series processing of the data.\n",
        "\n",
        "The third is multi strand\n",
        "\n",
        "The fourth is single strand\n",
        "\n",
        "The fifth is multistrand\n",
        "\n",
        "```\n",
        "c1542c10399a09a5471799133c472a6652d5cb3b7b421e1a7e80e2039f5b393b\n",
        "\n",
        "a01e8625d653f4a8686b5b9e20ca653e59ebcd8bf2ca2a7b8370fdc52417f7b9\n",
        "\n",
        "9e42c7ab6f47dadc0c36d22fb20f69c9db0daa5c719cd8ff83c8ecf250efa519\n",
        "\n",
        "6de5b84940f73653196800c747f3a6f86752e4dcc5ccbb3fbc81fcb2d20e1672\n",
        "\n",
        "dcd31fa39202c9018dfb28e17da108dd3bd6b98ffc1cd30040f636012e3236ee\n",
        "```"
      ],
      "metadata": {
        "id": "PLKBeRyZNsfW"
      }
    },
    {
      "cell_type": "markdown",
      "source": [
        "# Automate Reading From Dogecoin Blockchain"
      ],
      "metadata": {
        "id": "IlK7oSOV91Dw"
      }
    },
    {
      "cell_type": "code",
      "source": [
        "def get_output_spend_txns(txn_ident):\n",
        "  import requests\n",
        "  import json\n",
        "  r = requests.get(f'https://sochain.com/api/v2/tx/DOGE/{txn_ident}')\n",
        "  return [out['spent']['txid'] for out in json.loads(r.text)['data']['outputs']]\n",
        "\n",
        "def get_op_return(txn_ident):\n",
        "  import requests\n",
        "  import json\n",
        "  r = requests.get(f'https://sochain.com/api/v2/tx/DOGE/{txn_ident}')\n",
        "  outs=json.loads(r.text)['data']['outputs']\n",
        "  asm=outs[-1]['script_asm']\n",
        "  return (asm[10:] if 'OP_RETURN' in asm else None),outs[0]['spent']['txid'] if outs[0]['spent'] else None\n",
        "\n",
        "def get_op_returns(tx_head,prefix=''):\n",
        "  import time\n",
        "  time.sleep(0.25)\n",
        "  op_ret,next_txn=get_op_return(tx_head)\n",
        "  if (op_ret and next_txn):\n",
        "    return get_op_returns(next_txn,prefix+op_ret)\n",
        "  if op_ret==None:\n",
        "    return prefix\n",
        "  else:\n",
        "    return prefix+op_ret\n",
        "\n",
        "def read_cadenas(txn_ident):\n",
        "  datalist=[get_op_returns(txn) for txn in get_output_spend_txns(txn_ident)]\n",
        "  return datalist[0],b''.join([bytes.fromhex(x) for x in datalist[1:] ])"
      ],
      "metadata": {
        "id": "wjibUI2b3k9o"
      },
      "execution_count": 273,
      "outputs": []
    },
    {
      "cell_type": "code",
      "source": [
        "print(bytes.fromhex(get_op_returns('6de5b84940f73653196800c747f3a6f86752e4dcc5ccbb3fbc81fcb2d20e1672')).decode('latin'))"
      ],
      "metadata": {
        "id": "4WJIxtxhn8Ej",
        "outputId": "fcf63fc1-d915-4e91-ca84-7d1b4651c9f1",
        "colab": {
          "base_uri": "https://localhost:8080/"
        }
      },
      "execution_count": 262,
      "outputs": [
        {
          "output_type": "stream",
          "name": "stdout",
          "text": [
            "Ý\u0002\u0000\rBlue Monday\n",
            "\n",
            "How does it feel\n",
            "When you treat me like you do\n",
            "And you've laid Ý\u0002\u0001\ryour hands upon me\n",
            "And told me who you are?\n",
            "I thought I was mistaken\n",
            "And I tÝ\u0002\u0002\rhought I heard your words\n",
            "Tell me, how do I feel?\n",
            "Tell me now, how do I feelÝ\u0002\u0003\r?\n",
            "Those who came before me\n",
            "Lived through their vocations\n",
            "From the past untilÝ\u0002\u0004\r completion\n",
            "They will turn away no more\n",
            "And I still find it so hard\n",
            "To say wÝ\u0002\u0005\rhat I need to say\n",
            "But I'm quite sure that you'll tell me\n",
            "Just how I should fÝ\u0002\u0006\reel today\n",
            "I see a ship in the harbor\n",
            "I can and shall obey\n",
            "But if it wasn't fÝ\u0002\u0007\ror your misfortunes\n",
            "I'd be a heavenly person today\n",
            "And I thought I was mistaÝ\u0002\b\rken\n",
            "And I thought I heard you speak\n",
            "Tell me how do I feel?\n",
            "Tell me now, how Ý\u0002\t\rshould I feel?\n",
            "Now I stand here waiting\n",
            "I thought I told you to leave me\n",
            "WhiÝ\u0002\n",
            "\rle I walked down to the beach\n",
            "Tell me, how does it feel\n",
            "When your heart growÝ\u0002\u000b\rs cold?\n",
            "How does it feel?\n",
            "How does it feel?\n",
            "How does it feel?\n",
            "And I thought Ý\u0002\f\rI told you to leave me\n",
            "While I walked down to the beach\n",
            "Tell me, how does itÝ\u0002\r\r feel\n",
            "When your heart grows cold\n"
          ]
        }
      ]
    },
    {
      "cell_type": "code",
      "source": [
        "(head_a01,bytes_a01)=read_cadenas('a01e8625d653f4a8686b5b9e20ca653e59ebcd8bf2ca2a7b8370fdc52417f7b9')"
      ],
      "metadata": {
        "id": "Nf6zTtjjB28-"
      },
      "execution_count": 263,
      "outputs": []
    },
    {
      "cell_type": "code",
      "source": [
        "def read_image_chain(txn_id):\n",
        "  (hex_header,image_bytes)=read_cadenas(txn_id)\n",
        "  C={0:1,1:3}[int(hex_header[12:14],16)]\n",
        "  L=int(hex_header[14:18],16)\n",
        "  W=int(hex_header[18:22],16)\n",
        "  B=int(hex_header[22:24],16)\n",
        "  print(C,L,W,B)\n",
        "  sparkle_bits=message_2_bit_array(image_bytes,mode=None)\n",
        "  spark_array=bitarray2imgarr(sparkle_bits,imgshape=(W,L),bit=B,color=C).squeeze()\n",
        "  return hex_header,spark_array"
      ],
      "metadata": {
        "id": "r3vhNl1lDHB_"
      },
      "execution_count": 274,
      "outputs": []
    },
    {
      "cell_type": "code",
      "source": [
        "(hdr_a01,ar_a01)=read_image_chain('a01e8625d653f4a8686b5b9e20ca653e59ebcd8bf2ca2a7b8370fdc52417f7b9')\n",
        "Image.fromarray(ar_a01)"
      ],
      "metadata": {
        "colab": {
          "base_uri": "https://localhost:8080/",
          "height": 99
        },
        "id": "R39MQAKQFEe9",
        "outputId": "1965fead-d777-42f7-c6b0-ebc8f16585aa"
      },
      "execution_count": 267,
      "outputs": [
        {
          "output_type": "stream",
          "name": "stdout",
          "text": [
            "3 64 64 5\n"
          ]
        },
        {
          "output_type": "execute_result",
          "data": {
            "text/plain": [
              "<PIL.Image.Image image mode=RGB size=64x64 at 0x7F6D7452BB90>"
            ],
            "image/png": "[encoded data removed]"
          },
          "metadata": {},
          "execution_count": 267
        }
      ]
    },
    {
      "cell_type": "code",
      "source": [
        "bytes.fromhex(hdr_a01[24:]).decode()"
      ],
      "metadata": {
        "colab": {
          "base_uri": "https://localhost:8080/",
          "height": 35
        },
        "id": "p5QIGkmhNuyQ",
        "outputId": "2e4097c7-2b69-4eeb-f45f-ae43e11e9e84"
      },
      "execution_count": 206,
      "outputs": [
        {
          "output_type": "execute_result",
          "data": {
            "text/plain": [
              "'Peter Bea'"
            ],
            "application/vnd.google.colaboratory.intrinsic+json": {
              "type": "string"
            }
          },
          "metadata": {},
          "execution_count": 206
        }
      ]
    },
    {
      "cell_type": "code",
      "source": [
        "hdr_c15,ar_c15=read_image_chain('c1542c10399a09a5471799133c472a6652d5cb3b7b421e1a7e80e2039f5b393b')\n",
        "Image.fromarray(ar_c15)"
      ],
      "metadata": {
        "colab": {
          "base_uri": "https://localhost:8080/",
          "height": 99
        },
        "id": "qY_BU0bMWH_m",
        "outputId": "01a35826-a071-40ec-d885-d09558c5d4db"
      },
      "execution_count": 270,
      "outputs": [
        {
          "output_type": "stream",
          "name": "stdout",
          "text": [
            "1 64 64 5\n"
          ]
        },
        {
          "output_type": "execute_result",
          "data": {
            "text/plain": [
              "<PIL.Image.Image image mode=L size=64x64 at 0x7F6D743145D0>"
            ],
            "image/png": "[encoded data removed]"
          },
          "metadata": {},
          "execution_count": 270
        }
      ]
    },
    {
      "cell_type": "code",
      "source": [
        "#bytes.fromhex(hdr_c15[24:]).decode()"
      ],
      "metadata": {
        "id": "ZT0SL0klNVIG"
      },
      "execution_count": 205,
      "outputs": []
    },
    {
      "cell_type": "code",
      "source": [
        "hdr_9e4,ar_9e4=read_image_chain('9e42c7ab6f47dadc0c36d22fb20f69c9db0daa5c719cd8ff83c8ecf250efa519')\n",
        "Image.fromarray(ar_9e4)"
      ],
      "metadata": {
        "colab": {
          "base_uri": "https://localhost:8080/",
          "height": 99
        },
        "id": "XOMXNCV_Y63R",
        "outputId": "a6de233b-adab-4850-aa11-357d640fef8f"
      },
      "execution_count": 271,
      "outputs": [
        {
          "output_type": "stream",
          "name": "stdout",
          "text": [
            "3 128 64 5\n"
          ]
        },
        {
          "output_type": "execute_result",
          "data": {
            "text/plain": [
              "<PIL.Image.Image image mode=RGB size=128x64 at 0x7F6D745595D0>"
            ],
            "image/png": "[encoded data removed]"
          },
          "metadata": {},
          "execution_count": 271
        }
      ]
    },
    {
      "cell_type": "code",
      "source": [
        "bytes.fromhex(hdr_9e4)"
      ],
      "metadata": {
        "colab": {
          "base_uri": "https://localhost:8080/"
        },
        "id": "398gYqAQLFjG",
        "outputId": "85936f71-a8b2-474c-e2ed-f2d9b8c30e3f"
      },
      "execution_count": 199,
      "outputs": [
        {
          "output_type": "execute_result",
          "data": {
            "text/plain": [
              "b'\\xc1\\xdd\\x00\\x01\\x03\\xff\\x01\\x00\\x80\\x00@\\x05|This was Peter on her blanket during a ride to the country|\\xf0\\x9f\\x90\\xb4\\xf0\\x9f\\x90\\xb6\\x08\\xbb\\xbe\\x8a\\x13\\x9c,\\xa1\\xf4?\\xffI\\xack\\xb2\"e\\x84h\\xe2)\\xc3O\\x13\\x80\\xcc\\x91\\x0eO\\x1a\\xa4P'"
            ]
          },
          "metadata": {},
          "execution_count": 199
        }
      ]
    },
    {
      "cell_type": "code",
      "source": [
        "bytes.fromhex(hdr_9e4[24:-64]).decode()"
      ],
      "metadata": {
        "colab": {
          "base_uri": "https://localhost:8080/",
          "height": 35
        },
        "id": "JZldleEzLPma",
        "outputId": "2ebeb1c0-03f4-4f4b-af96-c8238ca9f823"
      },
      "execution_count": 203,
      "outputs": [
        {
          "output_type": "execute_result",
          "data": {
            "text/plain": [
              "'|This was Peter on her blanket during a ride to the country|🐴🐶'"
            ],
            "application/vnd.google.colaboratory.intrinsic+json": {
              "type": "string"
            }
          },
          "metadata": {},
          "execution_count": 203
        }
      ]
    },
    {
      "cell_type": "code",
      "source": [
        "(hdr_dcd,ar_dcd)=read_image_chain('dcd31fa39202c9018dfb28e17da108dd3bd6b98ffc1cd30040f636012e3236ee')\n",
        "Image.fromarray(ar_dcd)"
      ],
      "metadata": {
        "id": "IWP1lAVJhWcl",
        "outputId": "34627424-366c-48bb-c894-76fd21f8f9ac",
        "colab": {
          "base_uri": "https://localhost:8080/",
          "height": 179
        }
      },
      "execution_count": 275,
      "outputs": [
        {
          "output_type": "stream",
          "name": "stdout",
          "text": [
            "3 144 144 5\n"
          ]
        },
        {
          "output_type": "execute_result",
          "data": {
            "text/plain": [
              "<PIL.Image.Image image mode=RGB size=144x144 at 0x7F6D745A4990>"
            ],
            "image/png": "[encoded data removed]"
          },
          "metadata": {},
          "execution_count": 275
        }
      ]
    },
    {
      "cell_type": "code",
      "source": [
        ""
      ],
      "metadata": {
        "id": "LlYLED5Fhldc"
      },
      "execution_count": null,
      "outputs": []
    }
  ]
}