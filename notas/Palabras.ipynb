{
  "cells": [
    {
      "cell_type": "code",
      "execution_count": null,
      "metadata": {
        "id": "0uDzvT-12sJT"
      },
      "outputs": [],
      "source": [
        "!pip install cryptos"
      ]
    },
    {
      "cell_type": "markdown",
      "metadata": {
        "id": "4xAWF6bZ2sJX"
      },
      "source": [
        "<a href=\"https://colab.research.google.com/github/ProfDoeg/Colegio_Invisible/blob/master/notas/Palabras.ipynb\" target=\"_parent\"><img src=\"https://colab.research.google.com/assets/colab-badge.svg\" alt=\"Open In Colab\"/></a>"
      ]
    },
    {
      "cell_type": "markdown",
      "metadata": {
        "id": "vdiOuERQ2sJY"
      },
      "source": [
        "# Dark Arts\n",
        "\n",
        "On first glance programming can look like an impenitrable assembly of words and symbols arranged in relation to each other; with various colors, fonts and patterns. The very term \"coding\" invokes a gestalt of secrecy and obfuscation. Because it can be difficult to assign meanings to programs, at first glance, they can invoke terror, as with any dark art.\n",
        "\n",
        "# Theatric Autopsy\n",
        "\n",
        "We will dissect the code along the following axes:\n",
        "\n",
        "- Data and Data Structures\n",
        "- Objects, Functions and Methods\n",
        "- Statements and Control\n",
        "\n",
        "Here is an example from the end of `cuaderno_01.ipynb`\n",
        "***\n",
        "***\n",
        "```python\n",
        "#de quaderno 1\n",
        "\n",
        "import cryptos\n",
        "\n",
        "btc = cryptos.Bitcoin()\n",
        "\n",
        "j=0\n",
        "while True:\n",
        "    B1=btc.block_info(j)\n",
        "    if len(B1['tx_hashes'])!=1:\n",
        "        break\n",
        "    j=j+1\n",
        "B1,j\n",
        "\n",
        "```\n",
        "***\n",
        "When executed by the Python interpreter, the above code returns the following dictionary:\n",
        "***\n",
        "```text\n",
        "({'version': 1,\n",
        "  'hash': '00000000d1145790a8694403d4063f323d499e655c83426834d4ce2f8dd4a2ee',\n",
        "  'prevhash': '000000002a22cfee1f2c846adbd12b3e183d4f97683f85dad08a79780a84bd55',\n",
        "  'timestamp': 1231731025,\n",
        "  'merkle_root': '7dac2c5666815c17a3b36427de37bb9d2e2c5ccec3f8633eb91a4205cb4c10ff',\n",
        "  'bits': 486604799,\n",
        "  'nonce': 1889418792,\n",
        "  'tx_hashes': ['b1fea52486ce0c62bb442b530a3f0132b826c74e473d1f2c220bfa78111c5082',\n",
        "   'f4184fc596403b9d638783cf57adfe4c75c605f6356fbc91338530e9831e9e16']},\n",
        " 170)\n",
        "```\n",
        "---\n",
        "---"
      ]
    },
    {
      "cell_type": "markdown",
      "metadata": {
        "id": "3Hplwv1z2sJZ"
      },
      "source": [
        "Try it yourself"
      ]
    },
    {
      "cell_type": "code",
      "execution_count": null,
      "metadata": {
        "id": "ZUYNDvKG2sJZ"
      },
      "outputs": [],
      "source": [
        "#de quaderno 1\n",
        "\n",
        "import cryptos\n",
        "\n",
        "btc = cryptos.Bitcoin()\n",
        "j=0\n",
        "\n",
        "while True:\n",
        "    B1=btc.block_info(j)\n",
        "    if len(B1['tx_hashes'])!=1:\n",
        "        break\n",
        "    j=j+1\n",
        "B1,j"
      ]
    },
    {
      "cell_type": "markdown",
      "metadata": {
        "id": "wy76s5Xp2sJa"
      },
      "source": [
        "\n",
        "\n",
        "## Comments\n",
        "***\n",
        "```python\n",
        "#de quaderno 1\n",
        "```\n",
        "***\n",
        "\n",
        "This first part is a **comment**. A comment starts with the pound sign **`#`**.\\\n",
        "Anything after the poind sign is not parsed by the Python interpreter"
      ]
    },
    {
      "cell_type": "code",
      "execution_count": null,
      "metadata": {
        "id": "8ug41H322sJa"
      },
      "outputs": [],
      "source": [
        "#de quaderno 1"
      ]
    },
    {
      "cell_type": "markdown",
      "metadata": {
        "id": "c6G39BaJ2sJb"
      },
      "source": [
        "# Statements\n",
        "\n",
        "A statement is an instruction that a Python interpreter can execute. Put simply, anything written in Python is a statement. A statement is either an expression or one of several constructs with a keyword, such as **`def`**, **`import`**, **`if`**, **`while`** or **`for`**. Statement keywords are usually shown bold.\n",
        "\n",
        "# Simple Statements\n",
        "A simple statement is comprised within a single logical line. This includes expression statements, import statements, assignment statements, break and continue.\n",
        "\n",
        "## Import Statement\n",
        "\n",
        "Python code in one module gains access to the code in another module by the process of importing it. The import statement is the most common way of invoking the import machinery.\n",
        "\n",
        "***\n",
        "```python\n",
        "import cryptos\n",
        "```\n",
        "***\n",
        "\n",
        "We begin by importing the `cryptos` library. This will bring `cryptos` into the scope and allow reperence to its components."
      ]
    },
    {
      "cell_type": "code",
      "execution_count": null,
      "metadata": {
        "id": "vXFZeChR2sJc"
      },
      "outputs": [],
      "source": [
        "import cryptos"
      ]
    },
    {
      "cell_type": "markdown",
      "metadata": {
        "id": "uH7aHIja2sJc"
      },
      "source": [
        "## Assignment Statement\n",
        "\n",
        "An assignment statement consists of a **variable**, **equal-sign** (`=`) and **expression**\n",
        "\n",
        "### Variables\n",
        "\n",
        "Variables are used as object identifier names. \\\n",
        "They are case sensitive and consisit of alphanumerics with underscores. \\\n",
        "The first character may not be a numeral.\n",
        "\n",
        "\n",
        "### Expression\n",
        "\n",
        "An expression is an inscription that reduces, or simplifies, to a value. In Python this means a single object. \\\n",
        "Expressions are assemblies consisting of object identifiers, literals, operators and enclosures.\n",
        "\n",
        "\n",
        "\n",
        "***\n",
        "```python\n",
        "btc = cryptos.Bitcoin()\n",
        "j=0\n",
        "```\n",
        "***\n",
        "\n",
        "The `cryptos.Bitcoin()` expression is a call to a `Bitcoin()` class constructor in the `cryptos` library. The expression returns a `Bitcoin` object. The assignment statement assigns the variable name `btc` to the `Bitcoin` object so that it can be used as an identifying name.\n",
        "\n",
        "|   Variable|   | Expression |\n",
        "| :---        |    :----:   |     ----:   |   \n",
        "| `btc`      | `=`       | `cryptos.Bitcoin()`  |   \n",
        "| `j`   | `=`   | `0` |\n",
        "\n",
        "$$\\tt{btc}\\longleftarrow \\tt{cryptos.Bitcoin()}$$\n",
        "$$ $$\n",
        "$$\\tt{j}\\longleftarrow \\tt{0}$$\n",
        "\n"
      ]
    },
    {
      "cell_type": "code",
      "execution_count": null,
      "metadata": {
        "id": "LJQRZYf22sJd"
      },
      "outputs": [],
      "source": [
        "#expression\n",
        "cryptos.Bitcoin()"
      ]
    },
    {
      "cell_type": "code",
      "execution_count": null,
      "metadata": {
        "id": "4g61LGsF2sJd"
      },
      "outputs": [],
      "source": [
        "#variable assignment\n",
        "btc=cryptos.Bitcoin()"
      ]
    },
    {
      "cell_type": "code",
      "execution_count": null,
      "metadata": {
        "id": "FkW_YVtn2sJe"
      },
      "outputs": [],
      "source": [
        "#object reference using variable\n",
        "btc"
      ]
    },
    {
      "cell_type": "code",
      "execution_count": null,
      "metadata": {
        "id": "GdMUL__e2sJe"
      },
      "outputs": [],
      "source": [
        "#variable assignment using literal expression\n",
        "j=0"
      ]
    },
    {
      "cell_type": "code",
      "execution_count": null,
      "metadata": {
        "id": "84Vz5SUl2sJe"
      },
      "outputs": [],
      "source": [
        "#object reference using variable\n",
        "j"
      ]
    },
    {
      "cell_type": "markdown",
      "metadata": {
        "id": "9xmpI1ry2sJf"
      },
      "source": [
        "# Compound Statements\n",
        "\n",
        "Compound affect or control the execution other statements contained in a block of code. The if, while and for statements implement traditional control flow constructs. Function and class definitions are also syntactically compound statements.\n",
        "\n",
        "## Blocks\n",
        "\n",
        "A code block associated with a compund statement is designated by indentation. The block is delimited by a TAB or 4 spaces.\n",
        "\n",
        "## While Statement\n",
        "\n",
        "The while statement is used for repeated execution as long as an expression is true. The code within the while block will run. The following for loop is rigged to execute indefinitely until a termination `break` statement is in the conditional `if` statement.\n",
        "\n",
        "***\n",
        "```python\n",
        "while True:\n",
        "    B1=btc.block_info(j)\n",
        "    if len(B1['tx_hashes'])!=1:\n",
        "        break\n",
        "    j=j+1\n",
        "```\n",
        "***\n",
        "\n",
        "For each execution of the while loop:\n",
        "1. Use of `btc` object to query jth block and assign variable name `B1` to returned data dictionary \n",
        "2. Use **`if`** statement to terminate while loop if jth-block `B1` has more than one transaction\n",
        "3. Increment to the next `j` value by re-assigning variable name `j` to expression `j+1`\n",
        "\n",
        "***\n",
        "Every time the while block executes it is called an *iteration*.\\\n",
        "In the first iteration j=0.\\\n",
        "We will run through an iteration of the code by hand."
      ]
    },
    {
      "cell_type": "markdown",
      "metadata": {
        "id": "754Qd9jO2sJf"
      },
      "source": [
        "### Single Iteration"
      ]
    },
    {
      "cell_type": "code",
      "execution_count": null,
      "metadata": {
        "id": "pOs9iRAF2sJf"
      },
      "outputs": [],
      "source": [
        "#j=170\n",
        "j"
      ]
    },
    {
      "cell_type": "code",
      "execution_count": null,
      "metadata": {
        "id": "2UYuffv02sJf"
      },
      "outputs": [],
      "source": [
        "# use btc object method to query jth block transaction information\n",
        "B1=btc.block_info(j)\n",
        "B1"
      ]
    },
    {
      "cell_type": "code",
      "execution_count": null,
      "metadata": {
        "id": "M5_wx72Y2sJg"
      },
      "outputs": [],
      "source": [
        "# access the transaction list\n",
        "B1['tx_hashes']"
      ]
    },
    {
      "cell_type": "code",
      "execution_count": null,
      "metadata": {
        "id": "LiG0qw9r2sJg"
      },
      "outputs": [],
      "source": [
        "# get the length of the transaction list \n",
        "len(B1['tx_hashes'])"
      ]
    },
    {
      "cell_type": "code",
      "execution_count": null,
      "metadata": {
        "id": "ANfXmaMi2sJg"
      },
      "outputs": [],
      "source": [
        "#is it True or False\n",
        "# once True STOP THE LOOP\n",
        "len(B1['tx_hashes']) != 1"
      ]
    },
    {
      "cell_type": "code",
      "execution_count": null,
      "metadata": {
        "id": "LgjhIq_p2sJg"
      },
      "outputs": [],
      "source": [
        "j=j+1"
      ]
    },
    {
      "cell_type": "markdown",
      "metadata": {
        "id": "nD9qMOfa2sJh"
      },
      "source": [
        "*Now return to SINGLE ITERATION and run cells again*\n",
        "\n",
        "***\n",
        "\n",
        "## Stop the Loop\n",
        "\n",
        "To stop the `while` loop we use the **`break`** statement. We only want to break the `while` loop once the condition is met that there is more than one transaction in the block. The break statement is therefore placed in the body of an `if` statement.\n",
        "\n",
        "### If Statement\n",
        "\n",
        "The `if` statement is used for conditional execution. The code in the block will execute if and only if the expression to the right of the `if` evaluates as `True`\n",
        "\n",
        "***\n",
        "```python\n",
        "if len(B1['tx_hashes'])!=1:\n",
        "    break\n",
        "```\n",
        "***"
      ]
    },
    {
      "cell_type": "code",
      "execution_count": null,
      "metadata": {
        "id": "UsdrB9B22sJh"
      },
      "outputs": [],
      "source": [
        "if len(B1['tx_hashes'])!=1:\n",
        "    #break\n",
        "    print('break')"
      ]
    },
    {
      "cell_type": "markdown",
      "metadata": {
        "id": "z_oY4NUx2sJh"
      },
      "source": [
        "## Iterate While Loop to Termination"
      ]
    },
    {
      "cell_type": "code",
      "execution_count": null,
      "metadata": {
        "id": "BRTm2YvN2sJh"
      },
      "outputs": [],
      "source": [
        "j=0\n",
        "while True:\n",
        "    B1=btc.block_info(j)\n",
        "    if len(B1['tx_hashes'])!=1:\n",
        "        break\n",
        "    j=j+1"
      ]
    },
    {
      "cell_type": "code",
      "execution_count": null,
      "metadata": {
        "id": "TJJ8xlmk2sJh"
      },
      "outputs": [],
      "source": [
        "# check block index with 2 transactions\n",
        "j"
      ]
    },
    {
      "cell_type": "code",
      "execution_count": null,
      "metadata": {
        "id": "VQq7JdvT2sJh"
      },
      "outputs": [],
      "source": [
        "# check block info\n",
        "B1"
      ]
    },
    {
      "cell_type": "markdown",
      "source": [
        "# Data and Data Structures\n",
        "\n",
        "Lets revisit the last line and return of the example code\n",
        "\n",
        "***\n",
        "***\n",
        "This is an expression statement of a **`tuple`**. The tuple contains two elements: `B1` the block data and `j` the block index. \n",
        "```python\n",
        "B1,j\n",
        "```\n",
        "***\n",
        "***\n",
        "This is what is giving in the return:\n",
        "```text\n",
        "({'version': 1,\n",
        "  'hash': '00000000d1145790a8694403d4063f323d499e655c83426834d4ce2f8dd4a2ee',\n",
        "  'prevhash': '000000002a22cfee1f2c846adbd12b3e183d4f97683f85dad08a79780a84bd55',\n",
        "  'timestamp': 1231731025,\n",
        "  'merkle_root': '7dac2c5666815c17a3b36427de37bb9d2e2c5ccec3f8633eb91a4205cb4c10ff',\n",
        "  'bits': 486604799,\n",
        "  'nonce': 1889418792,\n",
        "  'tx_hashes': ['b1fea52486ce0c62bb442b530a3f0132b826c74e473d1f2c220bfa78111c5082',\n",
        "   'f4184fc596403b9d638783cf57adfe4c75c605f6356fbc91338530e9831e9e16']},\n",
        " 170)\n",
        "```\n",
        "***\n",
        "***\n",
        "The first element of the tuple contains a ***dictionary*** object or **`dict`** named `B1`. It contains data on the `j` block of the Bitcoin chain. \n",
        "\n",
        "## Dictionaries\n",
        "\n",
        "Dictionaries are associative arrays of values, indexed by keys. The key/value pairs are known as items.\n",
        "\n",
        "The dictionary has the following items:\n",
        "\n",
        "- `'version'` contains an integer value\n",
        "- `'hash'` contains a hex string representing the block hash\n",
        "- `'prevhash'` contains a hex string representing the previous block hash\n",
        "- `'timestamp'` contains an integer representing UTC time value\n",
        "- `'merkle_root'` contains a hex string representing the Bitcoin-style merkle root of the transaction list\n",
        "- `'bits'` contains an integer representing the bit size of the block\n",
        "- `'nonce'` contains an integer representing the nonce value of the block\n",
        "- `'tx_hashes'` contains a list of hex strings, each representing the hash of a Bitcoin transaction\n",
        "\n",
        "\n",
        "### Value Types\n",
        "While the data on the blockchain is bytes, the dictionary holds integer **`int`**, string **`str`**, and **`list`** objects.\\\n",
        " The strings are special because they represent hex values. These are refered to as hexstrings even though they are not a formal type in Python.\n",
        "\n",
        "### Indexing the Dictionary\n",
        "\n",
        "We call an element of the dictionary using the hard bracket operator `[]` to get value.\n",
        "\n",
        "To index into the list of transaction hashes we use the `'tx_hashes'` key.\\\n"
      ],
      "metadata": {
        "id": "-NjkWTwXlhff"
      }
    },
    {
      "cell_type": "code",
      "execution_count": null,
      "metadata": {
        "id": "hdO1b5KY2sJj"
      },
      "outputs": [],
      "source": [
        "B1['tx_hashes']"
      ]
    },
    {
      "cell_type": "markdown",
      "source": [
        "## Lists\n",
        "\n",
        "A **`list`** a set of comma seperated values between hard brackets `[]`. \n",
        "\n",
        "***\n",
        "```text\n",
        "['b1fea52486ce0c62bb442b530a3f0132b826c74e473d1f2c220bfa78111c5082',\n",
        " 'f4184fc596403b9d638783cf57adfe4c75c605f6356fbc91338530e9831e9e16']\n",
        " ```\n",
        "***\n",
        "\n",
        "For this specific list all elements are hexstrings.\\\n",
        "From `j=0` to `j=169` the `txn_hashes` list has one element, representing only the coinbase transaction, minting new coins.\\\n",
        "In block `j=170`there is a second transaction. This is the first non-coinbase transaction.\n",
        "\n"
      ],
      "metadata": {
        "id": "lKkvgRtPNTeH"
      }
    },
    {
      "cell_type": "markdown",
      "source": [
        "### Indexing the List\n",
        "\n",
        "We call an element of the list using the hard bracket operator `[]` containing a numerical index. The index starts from `0`.\n",
        "\n"
      ],
      "metadata": {
        "id": "_YfnJAtA-I2t"
      }
    },
    {
      "cell_type": "code",
      "source": [
        "B1['tx_hashes'][1]"
      ],
      "metadata": {
        "id": "fPH4B4zNR2i2"
      },
      "execution_count": null,
      "outputs": []
    },
    {
      "cell_type": "markdown",
      "source": [
        "# Functions and Objects\n",
        "\n",
        "## Functions\n",
        "\n",
        "A function is a computing machine that uses a set of inputs to direct a set of actions, including returning a value. \\\n",
        "This makes a function call an expression.\n",
        "\n",
        "***\n",
        "***\n",
        "```python\n",
        "len(B1['tx_hashes'])\n",
        "```\n",
        "***\n",
        "***\n",
        "The `len()` function tells us the length of the input. We use the `len()` function to determine when the list of tranaction hashes has a length more than one."
      ],
      "metadata": {
        "id": "g7c-gRWzlfMf"
      }
    },
    {
      "cell_type": "code",
      "source": [
        "len(B1['tx_hashes'])"
      ],
      "metadata": {
        "id": "4bsAIbW0fO09"
      },
      "execution_count": null,
      "outputs": []
    },
    {
      "cell_type": "markdown",
      "source": [
        "## Objects\n",
        "\n",
        "***In Python...everything is an object.***\n",
        "\n",
        "The featured object in this piece of code is the `Bitcoin` object from the `cryptos` module. We begin by declaring the object using the variable name `btc`. The object creating function `Bitcoin()` returns the object.\n",
        "***\n",
        "```python\n",
        "btc = cryptos.Bitcoin()\n",
        "```\n",
        "***\n",
        "The object type is `cryptos.coins.bitcoin.Bitcoin`"
      ],
      "metadata": {
        "id": "pXrgHqAzW8nE"
      }
    },
    {
      "cell_type": "code",
      "source": [
        "btc = cryptos.Bitcoin()"
      ],
      "metadata": {
        "id": "oKlLIyUtleSc"
      },
      "execution_count": null,
      "outputs": []
    },
    {
      "cell_type": "code",
      "source": [
        "type(btc)"
      ],
      "metadata": {
        "id": "zx69DF3QleVT"
      },
      "execution_count": null,
      "outputs": []
    },
    {
      "cell_type": "markdown",
      "source": [
        "### Object Attributes\n",
        "\n",
        "An attribute is data stored inside of an object. We can access the attribute using dot notation."
      ],
      "metadata": {
        "id": "u-blpL5wT_8i"
      }
    },
    {
      "cell_type": "code",
      "source": [
        "btc.coin_symbol"
      ],
      "metadata": {
        "id": "CWTxSUE7leYw"
      },
      "execution_count": null,
      "outputs": []
    },
    {
      "cell_type": "markdown",
      "source": [
        "# Object Method\n",
        "\n",
        "A method is a function stored inside an object. We can access the method using dot notation."
      ],
      "metadata": {
        "id": "V_bF2_pJLoJN"
      }
    },
    {
      "cell_type": "code",
      "source": [
        "btc.block_info(j)"
      ],
      "metadata": {
        "id": "z13yWgpXLdui"
      },
      "execution_count": null,
      "outputs": []
    },
    {
      "cell_type": "code",
      "source": [
        ""
      ],
      "metadata": {
        "id": "cZ9m6kvTMSou"
      },
      "execution_count": null,
      "outputs": []
    },
    {
      "cell_type": "code",
      "source": [
        ""
      ],
      "metadata": {
        "id": "-6hweWF6MSjp"
      },
      "execution_count": null,
      "outputs": []
    },
    {
      "cell_type": "markdown",
      "source": [
        "# Problemas\n",
        "\n",
        "1. Determine how many transactions are in block number 666666\n",
        "2. Determine the index of the first block with exactly 3 transactions, including the coinbase.\n",
        "3. Use `btc.fetchtx()` to get information about the third transaction of the first 3 transaction block."
      ],
      "metadata": {
        "id": "GDc6UTbcOGwu"
      }
    },
    {
      "cell_type": "code",
      "source": [
        ""
      ],
      "metadata": {
        "id": "3zNgtT13TB1U"
      },
      "execution_count": null,
      "outputs": []
    },
    {
      "cell_type": "code",
      "source": [
        ""
      ],
      "metadata": {
        "id": "dtxOsF3rTBsC"
      },
      "execution_count": null,
      "outputs": []
    },
    {
      "cell_type": "code",
      "source": [
        ""
      ],
      "metadata": {
        "id": "272xT9YVOK4A"
      },
      "execution_count": null,
      "outputs": []
    },
    {
      "cell_type": "code",
      "source": [
        ""
      ],
      "metadata": {
        "id": "_dcD7QPASOI4"
      },
      "execution_count": null,
      "outputs": []
    }
  ],
  "metadata": {
    "kernelspec": {
      "display_name": "Python 3",
      "language": "python",
      "name": "python3"
    },
    "language_info": {
      "codemirror_mode": {
        "name": "ipython",
        "version": 3
      },
      "file_extension": ".py",
      "mimetype": "text/x-python",
      "name": "python",
      "nbconvert_exporter": "python",
      "pygments_lexer": "ipython3",
      "version": "3.7.6"
    },
    "colab": {
      "name": "Palabras.ipynb",
      "provenance": [],
      "machine_shape": "hm",
      "background_execution": "on"
    }
  },
  "nbformat": 4,
  "nbformat_minor": 0
}