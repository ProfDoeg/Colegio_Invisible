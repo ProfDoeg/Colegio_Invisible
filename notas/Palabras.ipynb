{
  "cells": [
    {
      "cell_type": "code",
      "execution_count": null,
      "metadata": {
        "id": "0uDzvT-12sJT"
      },
      "outputs": [],
      "source": [
        "!pip install cryptos"
      ]
    },
    {
      "cell_type": "markdown",
      "metadata": {
        "id": "4xAWF6bZ2sJX"
      },
      "source": [
        "<a href=\"https://colab.research.google.com/github/ProfDoeg/Colegio_Invisible/blob/master/notas/Palabras.ipynb\" target=\"_parent\"><img src=\"https://colab.research.google.com/assets/colab-badge.svg\" alt=\"Open In Colab\"/></a>"
      ]
    },
    {
      "cell_type": "markdown",
      "metadata": {
        "id": "vdiOuERQ2sJY"
      },
      "source": [
        "# Dark Arts\n",
        "\n",
        "On first glance programming can look like an impenitrable assembly of words and symbols arranged in relation to each other with various colors, fonts and patterns. The very term \"coding\" invokes a gestalt of secrecy and obfuscation. Because it can be difficult to assign meanings to programs at first glance they can invoke terror, as any dark art.\n",
        "\n",
        "- Data and Data Structures\n",
        "- Functions and Methods\n",
        "- Statements and Control\n",
        "\n",
        "Here is an example from `cuaderno_01.ipynb`\n",
        "\n",
        "\n",
        "\n",
        "---\n",
        "---\n",
        "```python\n",
        "\n",
        "#de quaderno 1\n",
        "\n",
        "import cryptos\n",
        "\n",
        "btc = cryptos.Bitcoin()\n",
        "\n",
        "j=0\n",
        "while True:\n",
        "    B1=btc.block_info(j)\n",
        "    if len(B1['tx_hashes'])!=1:\n",
        "        break\n",
        "    j=j+1\n",
        "B1,j\n",
        "\n",
        "```\n",
        "***\n",
        "When executed by the Python interpreter, the above code returns:\n",
        "***\n",
        "```text\n",
        "({'version': 1,\n",
        "  'hash': '00000000d1145790a8694403d4063f323d499e655c83426834d4ce2f8dd4a2ee',\n",
        "  'prevhash': '000000002a22cfee1f2c846adbd12b3e183d4f97683f85dad08a79780a84bd55',\n",
        "  'timestamp': 1231731025,\n",
        "  'merkle_root': '7dac2c5666815c17a3b36427de37bb9d2e2c5ccec3f8633eb91a4205cb4c10ff',\n",
        "  'bits': 486604799,\n",
        "  'nonce': 1889418792,\n",
        "  'tx_hashes': ['b1fea52486ce0c62bb442b530a3f0132b826c74e473d1f2c220bfa78111c5082',\n",
        "   'f4184fc596403b9d638783cf57adfe4c75c605f6356fbc91338530e9831e9e16']},\n",
        " 170)\n",
        "```\n",
        "---\n",
        "---"
      ]
    },
    {
      "cell_type": "markdown",
      "metadata": {
        "id": "3Hplwv1z2sJZ"
      },
      "source": [
        "Try it yourself"
      ]
    },
    {
      "cell_type": "code",
      "execution_count": null,
      "metadata": {
        "id": "ZUYNDvKG2sJZ"
      },
      "outputs": [],
      "source": [
        "#de quaderno 1\n",
        "\n",
        "import cryptos\n",
        "\n",
        "btc = cryptos.Bitcoin()\n",
        "j=0\n",
        "\n",
        "while True:\n",
        "    B1=btc.block_info(j)\n",
        "    if len(B1['tx_hashes'])!=1:\n",
        "        break\n",
        "    j=j+1\n",
        "B1,j"
      ]
    },
    {
      "cell_type": "markdown",
      "metadata": {
        "id": "wy76s5Xp2sJa"
      },
      "source": [
        "# Forensic Dissection\n",
        "\n",
        "We will go through a line by line autopsy of code.\n",
        "\n",
        "## Comments\n",
        "***\n",
        "```python\n",
        "#de quaderno 1\n",
        "```\n",
        "***\n",
        "\n",
        "This first part is a **comment**. A comment starts with the pound sign **`#`**.\\\n",
        "Anything after the poind sign is not parsed by the Python interpreter"
      ]
    },
    {
      "cell_type": "code",
      "execution_count": null,
      "metadata": {
        "id": "8ug41H322sJa"
      },
      "outputs": [],
      "source": [
        "#de quaderno 1"
      ]
    },
    {
      "cell_type": "markdown",
      "metadata": {
        "id": "c6G39BaJ2sJb"
      },
      "source": [
        "# Statements\n",
        "\n",
        "A statement is an instruction that a Python interpreter can execute. Put simply, anything written in Python is a statement. A statement is either an expression or one of several constructs with a keyword, such as **`def`**, **`import`**, **`if`**, **`while`** or **`for`**. Statement keywords are usually shown bold.\n",
        "\n",
        "# Simple Statements\n",
        "A simple statement is comprised within a single logical line. This includes expression statements, import statements, assignment statements, break and continue.\n",
        "\n",
        "## Import Statement\n",
        "\n",
        "Python code in one module gains access to the code in another module by the process of importing it. The import statement is the most common way of invoking the import machinery.\n",
        "\n",
        "***\n",
        "```python\n",
        "import cryptos\n",
        "```\n",
        "***\n",
        "\n",
        "We begin by importing the `cryptos` library. This will bring `cryptos` into the scope and allow reperence to its components."
      ]
    },
    {
      "cell_type": "code",
      "execution_count": null,
      "metadata": {
        "id": "vXFZeChR2sJc"
      },
      "outputs": [],
      "source": [
        "import cryptos"
      ]
    },
    {
      "cell_type": "markdown",
      "metadata": {
        "id": "uH7aHIja2sJc"
      },
      "source": [
        "## Assignment Statement\n",
        "\n",
        "An assignment statement consists of a **variable**, **equal-sign** (`=`) and **expression**\n",
        "\n",
        "### Variables\n",
        "\n",
        "Variables are used as object identifier names. \\\n",
        "They are case sensitive and consisit of alphanumerics with underscores. \\\n",
        "The first character may not be a numeral.\n",
        "\n",
        "\n",
        "### Expression\n",
        "\n",
        "An expression is an inscription that reduces, or simplifies, to a value. In Python this means a single object. \\\n",
        "Expressions are assemblies consisting of object identifiers, literals, operators and enclosures.\n",
        "\n",
        "\n",
        "\n",
        "***\n",
        "```python\n",
        "btc = cryptos.Bitcoin()\n",
        "j=0\n",
        "```\n",
        "***\n",
        "\n",
        "The `cryptos.Bitcoin()` expression is a call to a `Bitcoin()` class constructor in the `cryptos` library. The expression returns a `Bitcoin` object. The assignment statement assigns the variable name `btc` to the `Bitcoin` object so that it can be used as an identifying name.\n",
        "\n",
        "|   Variable|   | Expression |\n",
        "| :---        |    :----:   |     ----:   |   \n",
        "| `btc`      | `=`       | `cryptos.Bitcoin()`  |   \n",
        "| `j`   | `=`   | `0` |\n",
        "\n",
        "$$\\tt{btc}\\longleftarrow \\tt{cryptos.Bitcoin()}$$\n",
        "$$ $$\n",
        "$$\\tt{j}\\longleftarrow \\tt{0}$$\n",
        "\n"
      ]
    },
    {
      "cell_type": "code",
      "execution_count": null,
      "metadata": {
        "id": "LJQRZYf22sJd"
      },
      "outputs": [],
      "source": [
        "#expression\n",
        "cryptos.Bitcoin()"
      ]
    },
    {
      "cell_type": "code",
      "execution_count": null,
      "metadata": {
        "id": "4g61LGsF2sJd"
      },
      "outputs": [],
      "source": [
        "#variable assignment\n",
        "btc=cryptos.Bitcoin()"
      ]
    },
    {
      "cell_type": "code",
      "execution_count": null,
      "metadata": {
        "id": "FkW_YVtn2sJe"
      },
      "outputs": [],
      "source": [
        "#object reference using variable\n",
        "btc.coin_symbol"
      ]
    },
    {
      "cell_type": "code",
      "execution_count": null,
      "metadata": {
        "id": "GdMUL__e2sJe"
      },
      "outputs": [],
      "source": [
        "#variable assignment using literal expression\n",
        "j=0"
      ]
    },
    {
      "cell_type": "code",
      "execution_count": null,
      "metadata": {
        "id": "84Vz5SUl2sJe"
      },
      "outputs": [],
      "source": [
        "#object reference using variable\n",
        "j"
      ]
    },
    {
      "cell_type": "markdown",
      "metadata": {
        "id": "9xmpI1ry2sJf"
      },
      "source": [
        "# Compound Statements\n",
        "\n",
        "Compound affect or control the execution other statements contained in a block of code. The if, while and for statements implement traditional control flow constructs. Function and class definitions are also syntactically compound statements.\n",
        "\n",
        "## Blocks\n",
        "\n",
        "A code block associated with a compund statement is designated by indentation. The block is delimited by a TAB or 4 spaces.\n",
        "\n",
        "## While Statement\n",
        "\n",
        "The while statement is used for repeated execution as long as an expression is true. The code within the while block will run. The following for loop is rigged to execute indefinitely until a termination `break` statement is in the conditional `if` statement.\n",
        "\n",
        "***\n",
        "```python\n",
        "while True:\n",
        "    B1=btc.block_info(j)\n",
        "    if len(B1['tx_hashes'])!=1:\n",
        "        break\n",
        "    j=j+1\n",
        "```\n",
        "***\n",
        "\n",
        "For each execution of the while loop:\n",
        "1. Use of `btc` object to query jth block and assign variable name `B1` to returned data dictionary \n",
        "2. Use **`if`** statement to terminate while loop if jth-block `B1` has more than one transaction\n",
        "3. Increment to the next `j` value by re-assigning variable name `j` to expression `j+1`\n",
        "\n",
        "***\n",
        "Every time the while block executes it is called an *iteration*.\\\n",
        "In the first iteration j=0.\\\n",
        "We will run through an iteration of the code by hand."
      ]
    },
    {
      "cell_type": "markdown",
      "metadata": {
        "id": "754Qd9jO2sJf"
      },
      "source": [
        "### Single Iteration"
      ]
    },
    {
      "cell_type": "code",
      "execution_count": null,
      "metadata": {
        "id": "pOs9iRAF2sJf"
      },
      "outputs": [],
      "source": [
        "#j=170\n",
        "j"
      ]
    },
    {
      "cell_type": "code",
      "execution_count": null,
      "metadata": {
        "id": "2UYuffv02sJf"
      },
      "outputs": [],
      "source": [
        "# use btc object method to query jth block transaction information\n",
        "B1=btc.block_info(j)\n",
        "B1"
      ]
    },
    {
      "cell_type": "code",
      "execution_count": null,
      "metadata": {
        "id": "M5_wx72Y2sJg"
      },
      "outputs": [],
      "source": [
        "# access the transaction list\n",
        "B1['tx_hashes']"
      ]
    },
    {
      "cell_type": "code",
      "execution_count": null,
      "metadata": {
        "id": "LiG0qw9r2sJg"
      },
      "outputs": [],
      "source": [
        "# get the length of the transaction list \n",
        "len(B1['tx_hashes'])"
      ]
    },
    {
      "cell_type": "code",
      "execution_count": null,
      "metadata": {
        "id": "ANfXmaMi2sJg"
      },
      "outputs": [],
      "source": [
        "#is it True or False\n",
        "# once True STOP THE LOOP\n",
        "len(B1['tx_hashes']) != 1"
      ]
    },
    {
      "cell_type": "code",
      "execution_count": null,
      "metadata": {
        "id": "LgjhIq_p2sJg"
      },
      "outputs": [],
      "source": [
        "j=j+1"
      ]
    },
    {
      "cell_type": "markdown",
      "metadata": {
        "id": "nD9qMOfa2sJh"
      },
      "source": [
        "*Now return to SINGLE ITERATION and run cells again*\n",
        "\n",
        "***\n",
        "\n",
        "## Stop the Loop\n",
        "\n",
        "To stop the `while` loop we use the **`break`** statement. We only want to break the `while` loop once the condition is met that there is more than one transaction in the block. The break statement is therefore placed in the body of an `if` statement.\n",
        "\n",
        "### If Statement\n",
        "\n",
        "The `if` statement is used for conditional execution. The code in the block will execute if and only if the expression to the right of the `if` evaluates as `True`\n",
        "\n",
        "***\n",
        "```python\n",
        "if len(B1['tx_hashes'])!=1:\n",
        "    break\n",
        "```\n",
        "***"
      ]
    },
    {
      "cell_type": "code",
      "execution_count": null,
      "metadata": {
        "id": "UsdrB9B22sJh"
      },
      "outputs": [],
      "source": [
        "if len(B1['tx_hashes'])!=1:\n",
        "    #break\n",
        "    print('break')"
      ]
    },
    {
      "cell_type": "markdown",
      "metadata": {
        "id": "z_oY4NUx2sJh"
      },
      "source": [
        "## Iterate While Loop to Termination"
      ]
    },
    {
      "cell_type": "code",
      "execution_count": null,
      "metadata": {
        "id": "BRTm2YvN2sJh"
      },
      "outputs": [],
      "source": [
        "j=0\n",
        "while True:\n",
        "    B1=btc.block_info(j)\n",
        "    if len(B1['tx_hashes'])!=1:\n",
        "        break\n",
        "    j=j+1"
      ]
    },
    {
      "cell_type": "code",
      "execution_count": null,
      "metadata": {
        "id": "TJJ8xlmk2sJh"
      },
      "outputs": [],
      "source": [
        "# check block index with 2 transactions\n",
        "j"
      ]
    },
    {
      "cell_type": "code",
      "execution_count": null,
      "metadata": {
        "id": "VQq7JdvT2sJh"
      },
      "outputs": [],
      "source": [
        "# check block info\n",
        "B1"
      ]
    },
    {
      "cell_type": "code",
      "execution_count": null,
      "metadata": {
        "id": "hdO1b5KY2sJj"
      },
      "outputs": [],
      "source": [
        ""
      ]
    }
  ],
  "metadata": {
    "kernelspec": {
      "display_name": "Python 3",
      "language": "python",
      "name": "python3"
    },
    "language_info": {
      "codemirror_mode": {
        "name": "ipython",
        "version": 3
      },
      "file_extension": ".py",
      "mimetype": "text/x-python",
      "name": "python",
      "nbconvert_exporter": "python",
      "pygments_lexer": "ipython3",
      "version": "3.7.6"
    },
    "colab": {
      "name": "Palabras.ipynb",
      "provenance": []
    }
  },
  "nbformat": 4,
  "nbformat_minor": 0
}