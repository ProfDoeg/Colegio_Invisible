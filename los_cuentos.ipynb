{
  "nbformat": 4,
  "nbformat_minor": 0,
  "metadata": {
    "colab": {
      "name": "los_cuentos.ipynb",
      "provenance": [],
      "mount_file_id": "1srwFHUJW-WLQgcQh7wdt39eRebqjBelO",
      "authorship_tag": "ABX9TyNISYoVEsWUww5klE8PlYF0",
      "include_colab_link": true
    },
    "kernelspec": {
      "name": "python3",
      "display_name": "Python 3"
    },
    "language_info": {
      "name": "python"
    }
  },
  "cells": [
    {
      "cell_type": "markdown",
      "metadata": {
        "id": "view-in-github",
        "colab_type": "text"
      },
      "source": [
        "<a href=\"https://colab.research.google.com/github/ProfDoeg/Colegio_Invisible/blob/main/los_cuentos.ipynb\" target=\"_parent\"><img src=\"https://colab.research.google.com/assets/colab-badge.svg\" alt=\"Open In Colab\"/></a>"
      ]
    },
    {
      "cell_type": "code",
      "execution_count": 2,
      "metadata": {
        "colab": {
          "base_uri": "https://localhost:8080/"
        },
        "id": "RXfy2PyWOqZl",
        "outputId": "eafbc676-59ac-4b1c-ad8a-879c91366aec"
      },
      "outputs": [
        {
          "output_type": "stream",
          "name": "stdout",
          "text": [
            "Cloning into 'Cuentos_Grimm'...\n",
            "remote: Enumerating objects: 13, done.\u001b[K\n",
            "remote: Counting objects: 100% (13/13), done.\u001b[K\n",
            "remote: Compressing objects: 100% (11/11), done.\u001b[K\n",
            "remote: Total 13 (delta 0), reused 0 (delta 0), pack-reused 0\u001b[K\n",
            "Unpacking objects: 100% (13/13), done.\n"
          ]
        }
      ],
      "source": [
        "! git clone https://github.com/ProfDoeg/Cuentos_Grimm.git"
      ]
    },
    {
      "cell_type": "code",
      "source": [
        "def reconstruct_file(filepath):\n",
        "    import os\n",
        "    path='/'.join(filepath.split('/')[:-1])\n",
        "    path= None if path=='' else path\n",
        "    filename=filepath.split('/')[-1]\n",
        "    files=sorted([ f for f in os.listdir(path) if filename+'_' in f])\n",
        "    big=open(filepath,'wb')\n",
        "    [big.write(open(path+'/'+file,'rb').read()) for file in files]\n",
        "    big.close()"
      ],
      "metadata": {
        "id": "iyKzvw8GRTwi"
      },
      "execution_count": 28,
      "outputs": []
    },
    {
      "cell_type": "code",
      "source": [
        "! ls Cuentos_Grimm"
      ],
      "metadata": {
        "colab": {
          "base_uri": "https://localhost:8080/"
        },
        "id": "TeUI_yDeRWSz",
        "outputId": "d9a26688-5be2-43b8-a54a-e8bc22fa7f19"
      },
      "execution_count": 36,
      "outputs": [
        {
          "output_type": "stream",
          "name": "stdout",
          "text": [
            "hansel_radio.m4a     rapunsel_radio.m4a     rumple_radio.m4a\n",
            "hansel_radio.m4a_01  rapunsel_radio.m4a_01  rumple_radio.m4a_01\n",
            "hansel_radio.m4a_02  rapunsel_radio.m4a_02  rumple_radio.m4a_02\n",
            "hansel_radio.m4a_03  README.md\t\t    rumple_radio.m4a_03\n"
          ]
        }
      ]
    },
    {
      "cell_type": "code",
      "source": [
        "[reconstruct_file(f'Cuentos_Grimm/{nombre}_radio.m4a') for nombre in ['rapunsel','hansel','rumple']]"
      ],
      "metadata": {
        "colab": {
          "base_uri": "https://localhost:8080/"
        },
        "id": "LXoPZlYNRgyx",
        "outputId": "c4723051-170f-40e4-b2c2-b48d65e13bf4"
      },
      "execution_count": 29,
      "outputs": [
        {
          "output_type": "execute_result",
          "data": {
            "text/plain": [
              "[None, None, None]"
            ]
          },
          "metadata": {},
          "execution_count": 29
        }
      ]
    },
    {
      "cell_type": "code",
      "source": [
        "from IPython.display import Audio \n",
        "\n",
        "#for audio in [Audio(f'Cuentos_Grimm/{nombre}_radio.m4a') for nombre in ['rapunsel','hansel','rumple']]:\n",
        "#  display(audio)\n",
        "\n",
        "for nombre in ['rapunsel','hansel','rumple']:\n",
        "    path = f'Cuentos_Grimm/{nombre}_radio.m4a'\n",
        "    show=Audio(path)\n",
        "    display(show)"
      ],
      "metadata": {
        "id": "-CAPzLgEO3wq"
      },
      "execution_count": null,
      "outputs": []
    },
    {
      "cell_type": "code",
      "source": [
        "show=Audio('Cuentos_Grimm/hansel_radio.m4a')"
      ],
      "metadata": {
        "id": "sPkMxMRwU03b"
      },
      "execution_count": 41,
      "outputs": []
    },
    {
      "cell_type": "code",
      "source": [
        "display(show)"
      ],
      "metadata": {
        "id": "mpXwbEoUWTAm"
      },
      "execution_count": 42,
      "outputs": []
    },
    {
      "cell_type": "code",
      "source": [
        ""
      ],
      "metadata": {
        "id": "iVr7VciGWpyg"
      },
      "execution_count": null,
      "outputs": []
    }
  ]
}