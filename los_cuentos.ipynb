{
  "nbformat": 4,
  "nbformat_minor": 0,
  "metadata": {
    "colab": {
      "name": "los_cuentos.ipynb",
      "provenance": []
    },
    "kernelspec": {
      "name": "python3",
      "display_name": "Python 3"
    },
    "language_info": {
      "name": "python"
    }
  },
  "cells": [
    {
      "cell_type": "markdown",
      "source": [
        "# Santa Barbara\n",
        "# Locution, Cerraduras \n",
        "# Locks y Location"
      ],
      "metadata": {
        "id": "Yic5NEihFxkY"
      }
    },
    {
      "cell_type": "markdown",
      "source": [
        "<a href=\"https://colab.research.google.com/github/ProfDoeg/Colegio_Invisible/blob/master/los_cuentos.ipynb\" target=\"_parent\"><img src=\"https://colab.research.google.com/assets/colab-badge.svg\" alt=\"Open In Colab\"/></a>"
      ],
      "metadata": {
        "id": "_1kF83S5J6ZR"
      }
    },
    {
      "cell_type": "markdown",
      "source": [
        "# Preparar el Espacio (Prepare the Space)"
      ],
      "metadata": {
        "id": "cybwQ9UsJ6pa"
      }
    },
    {
      "cell_type": "code",
      "source": [
        "! git clone https://github.com/ProfDoeg/Colegio_Invisible.git\n",
        "! pip install eciespy"
      ],
      "metadata": {
        "id": "8Z2GvrR-Z5VA"
      },
      "execution_count": null,
      "outputs": []
    },
    {
      "cell_type": "markdown",
      "source": [
        "```\n",
        "#from IPython.display import Audio \n",
        "snds = ['loc_barbara','loc_simbolos','loc_ventana','loc_palabras']\n",
        "#for snd in snds:\n",
        "#    path = f'Colegio_Invisible/sound/{snd}.m4a'\n",
        "#    show=Audio(path)\n",
        "#    display(show)\n",
        "```"
      ],
      "metadata": {
        "id": "1vN32VptJQvf"
      }
    }
  ]
}
