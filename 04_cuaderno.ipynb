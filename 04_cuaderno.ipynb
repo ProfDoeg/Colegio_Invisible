{
  "cells": [
    {
      "cell_type": "markdown",
      "metadata": {
        "id": "V0ZeHUAcjaPF"
      },
      "source": [
        "# Autenticidad, \n",
        "# los Mensajes Secretos,\n",
        "# y Seguridad\n",
        "\n"
      ]
    },
    {
      "cell_type": "markdown",
      "metadata": {
        "id": "RQdcZFCXjaPC"
      },
      "source": [
        "<a href=\"https://colab.research.google.com/github/ProfDoeg/Colegio_Invisible/blob/master/04_cuaderno.ipynb\" target=\"_parent\"><img src=\"https://colab.research.google.com/assets/colab-badge.svg\" alt=\"Open In Colab\"/></a>"
      ]
    },
    {
      "cell_type": "markdown",
      "source": [
        "# Preparar el Espacio (Prepare the Space)"
      ],
      "metadata": {
        "id": "s3aBh2Q-caF9"
      }
    },
    {
      "cell_type": "code",
      "execution_count": null,
      "metadata": {
        "id": "iOt3lIV-jaPG"
      },
      "outputs": [],
      "source": [
        "! pip install eciespy eth_keys gspread oauth2client\n",
        "! git clone https://github.com/ProfDoeg/Colegio_Invisible.git\n",
        "! pip install --upgrade gspread"
      ]
    },
    {
      "cell_type": "code",
      "source": [
        "#rm llaves -r\n",
        "#!rm llaves.zip\n",
        "!ls"
      ],
      "metadata": {
        "id": "NTrN4EDJoNUd"
      },
      "execution_count": null,
      "outputs": []
    },
    {
      "cell_type": "markdown",
      "source": [
        "# Aplicar Criptografía Para Crear un Ensamblaje de Mensajería Seguro \n",
        "# (Apply Cryptography to Create a Secure Messaging Assembly)\n",
        "\n",
        "## Esquema (Outline) \n",
        "\n",
        "Aplicar criptografía para crear un tablero de mensajes securos.\n",
        "***\n",
        "Apply cryptography to build a secure messaging board.\n",
        "\n",
        "# Metas (Goals)\n",
        "\n",
        "- crear y guardar claves\\\n",
        "(create and save keys)\n",
        "- descargar/cargar claves\\\n",
        "(download/upload keys)\n",
        "- descifrar el token de acceso a la hoja de cálculo\\\n",
        "(decrypt spreadsheet access token)\n",
        "- entender `gspread`\\\n",
        "(understand `gspread`)\n",
        "- publicar: nombre, clave pública, mensaje público y firma\\\n",
        "(post: name, public key, public message, and signature)\n",
        "- firmar mensaje\\\n",
        "(sign message)\n",
        "- verificar mensaje\\\n",
        "(verify message)\n",
        "- escribir mensaje a otros participantes\\\n",
        "(write message to other participants)\n",
        "- escribir un mensaje encriptado a otro participante\\\n",
        "(write encrypted message to other participant)\n",
        "- escribir mensaje firmado y encriptado\\\n",
        "(write signed and encrypted message)\n"
      ],
      "metadata": {
        "id": "LI7dlYfxGVCR"
      }
    },
    {
      "cell_type": "markdown",
      "source": [
        "# Make New Keys"
      ],
      "metadata": {
        "id": "0rXCUBbefqzQ"
      }
    },
    {
      "cell_type": "markdown",
      "source": [
        ""
      ],
      "metadata": {
        "id": "gR5ijbTxu2Y3"
      }
    },
    {
      "cell_type": "code",
      "source": [
        "! mkdir llaves\n"
      ],
      "metadata": {
        "id": "YjCzL1LVwFdw"
      },
      "execution_count": null,
      "outputs": []
    },
    {
      "cell_type": "code",
      "source": [
        "! python Colegio_Invisible/scripts/ecc_generate.py llaves/prvkey1.eck"
      ],
      "metadata": {
        "id": "knENRpKUvfyx"
      },
      "execution_count": null,
      "outputs": []
    },
    {
      "cell_type": "code",
      "source": [
        "! python Colegio_Invisible/scripts/ecc_pubkey_extract.py llaves/prvkey1.eck llaves/pubkey1.eck "
      ],
      "metadata": {
        "id": "OWfZF_rrxVZJ"
      },
      "execution_count": null,
      "outputs": []
    },
    {
      "cell_type": "code",
      "source": [
        ""
      ],
      "metadata": {
        "id": "h-2IZggwf-_8"
      },
      "execution_count": null,
      "outputs": []
    },
    {
      "cell_type": "markdown",
      "source": [
        "# Saving Keys"
      ],
      "metadata": {
        "id": "psYayEMxgAWa"
      }
    },
    {
      "cell_type": "code",
      "source": [
        "#note\n",
        "! zip -r llaves.zip llaves"
      ],
      "metadata": {
        "id": "NTj5GlPKdIAb"
      },
      "execution_count": null,
      "outputs": []
    },
    {
      "cell_type": "code",
      "source": [
        "#note\n",
        "from google.colab import files\n",
        "f=files.download('llaves.zip');"
      ],
      "metadata": {
        "id": "v2f9HCM9dPdf"
      },
      "execution_count": null,
      "outputs": []
    },
    {
      "cell_type": "markdown",
      "source": [
        "# Uploading Keys"
      ],
      "metadata": {
        "id": "X8Ay9_UOgOzg"
      }
    },
    {
      "cell_type": "code",
      "source": [
        "from google.colab import files\n",
        "fu=files.upload();"
      ],
      "metadata": {
        "id": "OM3tnc6Ce8yF"
      },
      "execution_count": null,
      "outputs": []
    },
    {
      "cell_type": "code",
      "source": [
        "! unzip llaves.zip"
      ],
      "metadata": {
        "id": "8CZjo15bfMqI"
      },
      "execution_count": null,
      "outputs": []
    },
    {
      "cell_type": "markdown",
      "source": [
        "# Access Pubkey Using Script"
      ],
      "metadata": {
        "id": "tQsnoXMOiQto"
      }
    },
    {
      "cell_type": "code",
      "source": [
        "ret=!{ 'python Colegio_Invisible/scripts/ecc_keydump.py llaves/pubkey1.eck'}\n",
        "pubkey1=ret[-1]\n",
        "pubkey1"
      ],
      "metadata": {
        "id": "qInALQ0e03RH"
      },
      "execution_count": null,
      "outputs": []
    },
    {
      "cell_type": "markdown",
      "source": [
        "# `gspread` \n",
        "\n",
        "\n",
        "## Decrypt Credentials"
      ],
      "metadata": {
        "id": "euUO0urHigI7"
      }
    },
    {
      "cell_type": "markdown",
      "source": [
        "colegioinvisible binary"
      ],
      "metadata": {
        "id": "lPfAgCEHqANV"
      }
    },
    {
      "cell_type": "markdown",
      "source": [
        "Decrypt `client_secret.aes` using password\n",
        "\n",
        "This will be communicated over voice by DrDoeg\n",
        "\n"
      ],
      "metadata": {
        "id": "-Pu3mgzGin5K"
      }
    },
    {
      "cell_type": "code",
      "source": [
        "! python Colegio_Invisible/scripts/aes_decrypt.py Colegio_Invisible/secrets/client_secret.aes Colegio_Invisible/secrets/client_secret.json "
      ],
      "metadata": {
        "id": "_spdugChrzcl"
      },
      "execution_count": null,
      "outputs": []
    },
    {
      "cell_type": "code",
      "source": [
        "! ls Colegio_Invisible/secrets"
      ],
      "metadata": {
        "id": "wHRKKx020tyr"
      },
      "execution_count": null,
      "outputs": []
    },
    {
      "cell_type": "markdown",
      "source": [
        "`gspread` is a python module for programmatic interaction with Google Sheets. \n",
        "\n",
        "All the participants will have access to the same spreadsheet in the cloud."
      ],
      "metadata": {
        "id": "2oEHDjMTnMLD"
      }
    },
    {
      "cell_type": "markdown",
      "source": [
        "https://docs.gspread.org/en/latest/user-guide.html"
      ],
      "metadata": {
        "id": "OZlTWab55ESc"
      }
    },
    {
      "cell_type": "markdown",
      "source": [
        "We use the decrypted credentials to authenticate and gain API access to the spreadsheet"
      ],
      "metadata": {
        "id": "ljlmDL7en1jB"
      }
    },
    {
      "cell_type": "code",
      "execution_count": null,
      "metadata": {
        "id": "mU3aBoN3jaPI"
      },
      "outputs": [],
      "source": [
        "import gspread\n",
        "from oauth2client.service_account import ServiceAccountCredentials\n",
        "# use creds to create a client to interact with the Google Drive API\n",
        "scope = ['https://spreadsheets.google.com/feeds',\n",
        "         'https://www.googleapis.com/auth/drive']\n",
        "creds = ServiceAccountCredentials.from_json_keyfile_name('Colegio_Invisible/secrets/client_secret.json', scope)\n",
        "client = gspread.authorize(creds)\n",
        "sheets = client.open(\"signatures\")"
      ]
    },
    {
      "cell_type": "markdown",
      "source": [
        "Here we can see the structure of the spreadsheet and all of the layers or `Worksheet`"
      ],
      "metadata": {
        "id": "NvzeBI7Xo8R-"
      }
    },
    {
      "cell_type": "code",
      "source": [
        "sheets.worksheets()"
      ],
      "metadata": {
        "id": "Jh9kVHwao_7H"
      },
      "execution_count": null,
      "outputs": []
    },
    {
      "cell_type": "markdown",
      "source": [
        "Isolating the first sheet where we query the first row"
      ],
      "metadata": {
        "id": "wr0GwHR5pVpL"
      }
    },
    {
      "cell_type": "code",
      "source": [
        "sheet=sheets.worksheets()[0]\n",
        "sheet.row_values(1)"
      ],
      "metadata": {
        "id": "4TpJzRis965I"
      },
      "execution_count": null,
      "outputs": []
    },
    {
      "cell_type": "code",
      "source": [
        "#sheet.clear()\n",
        "#sheet.update_cell(1, \"name\")\n",
        "#sheet.append_row([\"name\", \"pubkey\",\"statement\",\"signature\"])\n",
        "#sheet.__dir__()"
      ],
      "metadata": {
        "id": "lY-DDACNIbI2"
      },
      "execution_count": null,
      "outputs": []
    },
    {
      "cell_type": "markdown",
      "source": [
        "On this layer we meet to post:\n",
        "\n",
        "- `name` of participant\n",
        "- `pubkey` public key of participant in hex\n",
        "- `statement` is the declaration signed by participant \n",
        "- `signature` is the ecc signature of the statement"
      ],
      "metadata": {
        "id": "bI3XiqSTp7ZV"
      }
    },
    {
      "cell_type": "code",
      "source": [
        "my_name=input('input name')\n",
        "my_statement=input('input statement')\n",
        "open('llaves/statement1.txt','wb').write(my_statement.encode())"
      ],
      "metadata": {
        "id": "qhFmS9bqPLVt"
      },
      "execution_count": null,
      "outputs": []
    },
    {
      "cell_type": "markdown",
      "source": [
        "In addition we use the python scripts to perform the cryptography"
      ],
      "metadata": {
        "id": "LDRfuR9JsXP-"
      }
    },
    {
      "cell_type": "code",
      "source": [
        "! cat llaves/statement1.txt"
      ],
      "metadata": {
        "id": "brExuacy55Sr"
      },
      "execution_count": null,
      "outputs": []
    },
    {
      "cell_type": "code",
      "source": [
        "ret = !{ 'python Colegio_Invisible/scripts/ecc_sign.py llaves/prvkey1.eck llaves/statement1.txt llaves/sig1.sig'}\n",
        "sig1=ret[-1]\n",
        "sig1"
      ],
      "metadata": {
        "id": "11kzlTsR4Ki8"
      },
      "execution_count": null,
      "outputs": []
    },
    {
      "cell_type": "markdown",
      "source": [
        "Here we post to the Worksheet to create a roster of all the participants"
      ],
      "metadata": {
        "id": "G27NckVds8xd"
      }
    },
    {
      "cell_type": "code",
      "source": [
        "sheet.append_row([my_name,pubkey1,my_statement,sig1])"
      ],
      "metadata": {
        "id": "aYIkcV_rFHpO"
      },
      "execution_count": null,
      "outputs": []
    },
    {
      "cell_type": "markdown",
      "source": [
        "This is a bird sound"
      ],
      "metadata": {
        "id": "1_CHaIf5tvWe"
      }
    },
    {
      "cell_type": "code",
      "source": [
        "import IPython\n",
        "IPython.display.Audio(\"Colegio_Invisible/sound/bird2.wav\")"
      ],
      "metadata": {
        "id": "WTGuUEE06R-7"
      },
      "execution_count": null,
      "outputs": []
    },
    {
      "cell_type": "markdown",
      "source": [
        "Reading the data a Pandas Dataframe"
      ],
      "metadata": {
        "id": "0_WO-jart9zf"
      }
    },
    {
      "cell_type": "code",
      "source": [
        "import pandas as pd\n",
        "\n",
        "dataframe = pd.DataFrame(sheet.get_all_records())\n",
        "dataframe"
      ],
      "metadata": {
        "id": "vKL2w8CB_m9f"
      },
      "execution_count": null,
      "outputs": []
    },
    {
      "cell_type": "markdown",
      "source": [
        "We can verify statements. Here we use the `ecies` cryptography library directly without using the external scripts. "
      ],
      "metadata": {
        "id": "_nkacjetuqiJ"
      }
    },
    {
      "cell_type": "code",
      "source": [
        "import eth_keys\n",
        "import ecies\n",
        "\n",
        "eth_keys.datatypes.Signature(bytes.fromhex(sig1)).verify_msg(my_statement.encode(),eth_keys.keys.PublicKey(bytes.fromhex(pubkey1)))"
      ],
      "metadata": {
        "id": "rIYQBHGhVY6c"
      },
      "execution_count": null,
      "outputs": []
    },
    {
      "cell_type": "code",
      "source": [
        "def verify(sig,statement,pubkey):\n",
        "  return eth_keys.datatypes.Signature(bytes.fromhex(sig)).verify_msg(statement.encode() if type(statement)!=bytes else statement,eth_keys.keys.PublicKey(bytes.fromhex(pubkey)))"
      ],
      "metadata": {
        "id": "4QV22WHmTs-_"
      },
      "execution_count": null,
      "outputs": []
    },
    {
      "cell_type": "code",
      "source": [
        "verify(sig1,my_statement,pubkey1)"
      ],
      "metadata": {
        "id": "hAdUtVWfWLlP"
      },
      "execution_count": null,
      "outputs": []
    },
    {
      "cell_type": "markdown",
      "source": [
        "Here we verify all rows of the roster"
      ],
      "metadata": {
        "id": "XAM2Xl2BvSnv"
      }
    },
    {
      "cell_type": "code",
      "source": [
        "dataframe.set_index('name').apply(lambda row: verify(row.signature,row.statement,row.pubkey),axis=1)"
      ],
      "metadata": {
        "id": "rNkF3WrPWTvw"
      },
      "execution_count": null,
      "outputs": []
    },
    {
      "cell_type": "markdown",
      "source": [
        "Collecting the names of all the participants"
      ],
      "metadata": {
        "id": "KQHswOH9vlPc"
      }
    },
    {
      "cell_type": "code",
      "source": [
        "participants=dataframe.name.tolist()\n",
        "participants"
      ],
      "metadata": {
        "id": "8VFsk0L9Bz9_"
      },
      "execution_count": null,
      "outputs": []
    },
    {
      "cell_type": "markdown",
      "source": [
        "Doing variable assignment for needed Worksheets"
      ],
      "metadata": {
        "id": "0aYK2ixlv-yH"
      }
    },
    {
      "cell_type": "code",
      "source": [
        "sheet1=sheets.worksheets()[1]\n",
        "sheet2=sheets.worksheets()[2]\n",
        "sheet3=sheets.worksheets()[3]\n",
        "sheet1,sheet2,sheet3"
      ],
      "metadata": {
        "id": "0cA1SFS4Tuyb"
      },
      "execution_count": null,
      "outputs": []
    },
    {
      "cell_type": "code",
      "source": [
        "#ONLY FOR DDOG MC\n",
        "#df=pd.DataFrame('dada',columns=participants,index=participants)\n",
        "#sheet1.clear()\n",
        "#sheet1.update([df.columns.values.tolist()] + df.values.tolist())\n",
        "#sheet2.clear()\n",
        "#sheet2.update([df.columns.values.tolist()] + df.values.tolist())\n",
        "#sheet3.clear()\n",
        "#sheet3.update([df.columns.values.tolist()] + df.values.tolist())\n",
        "#df"
      ],
      "metadata": {
        "id": "c6tM_RvpUOkH"
      },
      "execution_count": null,
      "outputs": []
    },
    {
      "cell_type": "markdown",
      "source": [
        "## Worksheet 1\n",
        "\n",
        "This is a place for casual public chats\n",
        "- row is sender\n",
        "- column is recipient"
      ],
      "metadata": {
        "id": "vzG8Iqv8xfph"
      }
    },
    {
      "cell_type": "code",
      "source": [
        "dataframe1 = pd.DataFrame(sheet1.get_all_records())\n",
        "dataframe1.index=dataframe1.columns\n",
        "dataframe1"
      ],
      "metadata": {
        "id": "1JeW89rRVVNP"
      },
      "execution_count": null,
      "outputs": []
    },
    {
      "cell_type": "markdown",
      "source": [
        "Make a little recipient widget interface"
      ],
      "metadata": {
        "id": "yvx4jlTeyJir"
      }
    },
    {
      "cell_type": "code",
      "source": [
        "import ipywidgets as widgets\n",
        "w=widgets.Dropdown(\n",
        "    options=participants,\n",
        "    value='DrDoeg',\n",
        "    description='Recipient:',\n",
        "    disabled=False,\n",
        ")"
      ],
      "metadata": {
        "id": "g_vi5fjEyHjh"
      },
      "execution_count": null,
      "outputs": []
    },
    {
      "cell_type": "code",
      "source": [
        "#have a look\n",
        "w"
      ],
      "metadata": {
        "id": "CUFmHTv2g9G8"
      },
      "execution_count": null,
      "outputs": []
    },
    {
      "cell_type": "code",
      "source": [
        "w.value"
      ],
      "metadata": {
        "id": "7cRk6xtQixhy"
      },
      "execution_count": null,
      "outputs": []
    },
    {
      "cell_type": "code",
      "source": [
        "my_name"
      ],
      "metadata": {
        "id": "8GkfPn5xc77Q"
      },
      "execution_count": null,
      "outputs": []
    },
    {
      "cell_type": "markdown",
      "source": [
        "Creating messaging"
      ],
      "metadata": {
        "id": "B2Q_fDGQymjc"
      }
    },
    {
      "cell_type": "code",
      "source": [
        "p_dict=dict([ (e,i) for i,e in enumerate(participants)])\n",
        "p_dict"
      ],
      "metadata": {
        "id": "Hth5kCTvoUbh"
      },
      "execution_count": null,
      "outputs": []
    },
    {
      "cell_type": "markdown",
      "source": [
        "Select your message recipient using the widget."
      ],
      "metadata": {
        "id": "mqo0u-apythd"
      }
    },
    {
      "cell_type": "code",
      "source": [
        "print(f'You are {my_name}')\n",
        "print('Select a message recipient')\n",
        "w"
      ],
      "metadata": {
        "id": "Y6Aq1Jmrv6ot"
      },
      "execution_count": null,
      "outputs": []
    },
    {
      "cell_type": "markdown",
      "source": [
        "Write message \n",
        "\n",
        "Post to spreadsheet\n",
        "\n",
        "refresh dataframe from worksheet"
      ],
      "metadata": {
        "id": "aWKVdDH2y6P-"
      }
    },
    {
      "cell_type": "code",
      "source": [
        "message=input('send a message')\n",
        "write_cell=(p_dict[my_name]+2,p_dict[w.value]+1)\n",
        "sheet1.update_cell(*write_cell, message)\n",
        "dataframe1 = pd.DataFrame(sheet1.get_all_records())\n",
        "dataframe1.index=dataframe1.columns\n",
        "dataframe1"
      ],
      "metadata": {
        "id": "HgP-GlczsjiK"
      },
      "execution_count": null,
      "outputs": []
    },
    {
      "cell_type": "code",
      "source": [
        "dataframe1 = pd.DataFrame(sheet1.get_all_records())\n",
        "dataframe1.index=dataframe1.columns\n",
        "dataframe1"
      ],
      "metadata": {
        "id": "QWhVRzANqUoW"
      },
      "execution_count": null,
      "outputs": []
    },
    {
      "cell_type": "code",
      "source": [
        "dataframe1[my_name]"
      ],
      "metadata": {
        "id": "9tyQ7fx8qZk-"
      },
      "execution_count": null,
      "outputs": []
    },
    {
      "cell_type": "markdown",
      "source": [
        "# Encrypted Messaging"
      ],
      "metadata": {
        "id": "FLOxmlhKzbuB"
      }
    },
    {
      "cell_type": "markdown",
      "source": [
        ""
      ],
      "metadata": {
        "id": "SqcTexPzjXuR"
      }
    },
    {
      "cell_type": "code",
      "source": [
        "dataframe2 = pd.DataFrame(sheet2.get_all_records())\n",
        "dataframe2.index=dataframe2.columns\n",
        "dataframe2"
      ],
      "metadata": {
        "id": "u5cVM59SwqoR"
      },
      "execution_count": null,
      "outputs": []
    },
    {
      "cell_type": "code",
      "source": [
        "def encrypt_message(hexPubKey,message):\n",
        "    if type(message)!=bytes:\n",
        "        message=message.encode()\n",
        "    return ecies.encrypt(hexPubKey,message).hex()"
      ],
      "metadata": {
        "id": "zUnwSc5MYtx0"
      },
      "execution_count": null,
      "outputs": []
    },
    {
      "cell_type": "code",
      "source": [
        "w"
      ],
      "metadata": {
        "id": "54B8FB32nLxN"
      },
      "execution_count": null,
      "outputs": []
    },
    {
      "cell_type": "code",
      "source": [
        "encrypt_message(dataframe.set_index('name').pubkey[w.value],'hey guys hey hey')"
      ],
      "metadata": {
        "id": "SQF7GYL6Shi1"
      },
      "execution_count": null,
      "outputs": []
    },
    {
      "cell_type": "code",
      "source": [
        "message=input('send an encrypted message')\n",
        "write_cell=(p_dict[my_name]+2,p_dict[w.value]+1)\n",
        "sheet2.update_cell(*write_cell, encrypt_message(dataframe.set_index('name').pubkey[w.value],message))\n",
        "dataframe2 = pd.DataFrame(sheet2.get_all_records())\n",
        "dataframe2.index=dataframe2.columns\n",
        "dataframe2"
      ],
      "metadata": {
        "id": "57EM8VGFas_B"
      },
      "execution_count": null,
      "outputs": []
    },
    {
      "cell_type": "code",
      "source": [
        "dataframe2 = pd.DataFrame(sheet2.get_all_records())\n",
        "dataframe2.index=dataframe2.columns\n",
        "dataframe2"
      ],
      "metadata": {
        "id": "XpnawJKL9QFa"
      },
      "execution_count": null,
      "outputs": []
    },
    {
      "cell_type": "code",
      "source": [
        "def import_privKey(path,password):\n",
        "  import hashlib\n",
        "  if type(password)!=bytes:\n",
        "    password=password.encode()\n",
        "  f=open(path,'rb')\n",
        "  decrypted_bytes=ecies.aes_decrypt(key=hashlib.sha256(password).digest(),cipher_text=f.read())\n",
        "  privKey=eth_keys.keys.PrivateKey(decrypted_bytes)\n",
        "  f.close()\n",
        "  return privKey\n",
        "\n",
        "def decrypt_message(privKey,cipherhex):\n",
        "    ciphertext=bytes.fromhex(cipherhex)\n",
        "    try:\n",
        "      return ecies.decrypt(privKey.to_hex(),ciphertext)\n",
        "    except:\n",
        "      return None"
      ],
      "metadata": {
        "id": "nOof0MakbGX8"
      },
      "execution_count": null,
      "outputs": []
    },
    {
      "cell_type": "code",
      "source": [
        "decrypt_message(import_privKey('llaves/prvkey1.eck',''),dataframe2[my_name][my_name])\n"
      ],
      "metadata": {
        "id": "JTDE-5zIg9vq"
      },
      "execution_count": null,
      "outputs": []
    },
    {
      "cell_type": "code",
      "source": [
        "dataframe2 = pd.DataFrame(sheet2.get_all_records())\n",
        "dataframe2.index=dataframe2.columns\n",
        "dataframe2\n",
        "\n",
        "k=import_privKey('llaves/prvkey1.eck','')\n",
        "tr=dataframe2[my_name].apply(lambda x: decrypt_message(k,x))\n",
        "tr"
      ],
      "metadata": {
        "id": "-6xzJ10Be8zD"
      },
      "execution_count": null,
      "outputs": []
    },
    {
      "cell_type": "code",
      "source": [
        ""
      ],
      "metadata": {
        "id": "zK4hUxnFeLfr"
      },
      "execution_count": null,
      "outputs": []
    },
    {
      "cell_type": "code",
      "source": [
        "def sign_message(privKey,message):\n",
        "    if type(message)!=bytes:\n",
        "        message=message.encode()\n",
        "    signature= privKey.sign_msg(message)\n",
        "    return signature.to_bytes().hex()"
      ],
      "metadata": {
        "id": "qlpB7gF3mQlz"
      },
      "execution_count": null,
      "outputs": []
    },
    {
      "cell_type": "code",
      "source": [
        "mess=input('message')\n",
        "mess_sig=sign_message(import_privKey('llaves/prvkey1.eck',''),mess)\n",
        "mess_sig"
      ],
      "metadata": {
        "id": "xdP29gqtrvED"
      },
      "execution_count": null,
      "outputs": []
    },
    {
      "cell_type": "code",
      "source": [
        "emess=encrypt_message(pubkey1,mess)\n",
        "emess"
      ],
      "metadata": {
        "id": "c2XYMcf4VS5b"
      },
      "execution_count": null,
      "outputs": []
    },
    {
      "cell_type": "code",
      "source": [
        "emess_sig=sign_message(k,bytes.fromhex(emess))\n",
        "emess_sig,len(emess_sig)"
      ],
      "metadata": {
        "id": "UPOzyzuQVz9u"
      },
      "execution_count": null,
      "outputs": []
    },
    {
      "cell_type": "code",
      "source": [
        "emess_sig,emess"
      ],
      "metadata": {
        "id": "uTraoPVGkmYB"
      },
      "execution_count": null,
      "outputs": []
    },
    {
      "cell_type": "code",
      "source": [
        "def sign_encrypt_message(privKey,hexpubKey,message):\n",
        "    if type(message)!=bytes:\n",
        "        message=message.encode()\n",
        "    byte_enc=bytes.fromhex(encrypt_message(hexpubKey,message))\n",
        "    signature= privKey.sign_msg(byte_enc)\n",
        "    return signature.to_bytes().hex()+byte_enc.hex()"
      ],
      "metadata": {
        "id": "9spAIuUtXNwk"
      },
      "execution_count": null,
      "outputs": []
    },
    {
      "cell_type": "code",
      "source": [
        "sgen=sign_encrypt_message(k,pubkey1,mess)\n",
        "sgen"
      ],
      "metadata": {
        "id": "9jHj1CEIZvJK"
      },
      "execution_count": null,
      "outputs": []
    },
    {
      "cell_type": "code",
      "source": [
        "def decrypt_verify(pubkey,privkey,block):\n",
        "  try:\n",
        "    ver=verify(block[:130],bytes.fromhex(block[130:]),pubkey)\n",
        "    return decrypt_message(privkey,block[130:]),ver\n",
        "  except:\n",
        "    return None"
      ],
      "metadata": {
        "id": "Xk76WMZhlu-h"
      },
      "execution_count": null,
      "outputs": []
    },
    {
      "cell_type": "code",
      "source": [
        "decrypt_verify(pubkey1,k,sgen)"
      ],
      "metadata": {
        "id": "j9lRRIjZrUEv"
      },
      "execution_count": null,
      "outputs": []
    },
    {
      "cell_type": "code",
      "source": [
        "message=input('send a signed and encrypted message')\n",
        "write_cell=(p_dict[my_name]+2,p_dict[w.value]+1)\n",
        "signed_enc_message=sign_encrypt_message(k,pubkey1,message)\n",
        "sheet3.update_cell(*write_cell, encrypt_message(dataframe.set_index('name').pubkey[w.value],signed_enc_message))\n",
        "dataframe3 = pd.DataFrame(sheet3.get_all_records())\n",
        "dataframe3.index=dataframe3.columns\n",
        "dataframe3"
      ],
      "metadata": {
        "id": "b_sTTlD5rnsp"
      },
      "execution_count": null,
      "outputs": []
    },
    {
      "cell_type": "code",
      "source": [
        "dataframe3 = pd.DataFrame(sheet3.get_all_records())\n",
        "dataframe3.index=dataframe3.columns\n",
        "dataframe3"
      ],
      "metadata": {
        "id": "76aYgtllrawL"
      },
      "execution_count": null,
      "outputs": []
    },
    {
      "cell_type": "code",
      "source": [
        "pubkey_name=dataframe.set_index('name')['pubkey']\n",
        "dataframe3[[my_name]].reset_index().apply(lambda x: decrypt_verify(pubkey_name[x['index']],k,x[my_name])  ,axis=1)"
      ],
      "metadata": {
        "id": "j3cJtgCcsSWs"
      },
      "execution_count": null,
      "outputs": []
    },
    {
      "cell_type": "code",
      "source": [
        ""
      ],
      "metadata": {
        "id": "8ikxz9TRcMoD"
      },
      "execution_count": null,
      "outputs": []
    },
    {
      "cell_type": "code",
      "source": [
        ""
      ],
      "metadata": {
        "id": "wj0Omb7tfLlW"
      },
      "execution_count": null,
      "outputs": []
    }
  ],
  "metadata": {
    "kernelspec": {
      "display_name": "Python 3",
      "language": "python",
      "name": "python3"
    },
    "language_info": {
      "codemirror_mode": {
        "name": "ipython",
        "version": 3
      },
      "file_extension": ".py",
      "mimetype": "text/x-python",
      "name": "python",
      "nbconvert_exporter": "python",
      "pygments_lexer": "ipython3",
      "version": "3.7.6"
    },
    "colab": {
      "name": "04_cuaderno.ipynb",
      "provenance": []
    }
  },
  "nbformat": 4,
  "nbformat_minor": 0
}