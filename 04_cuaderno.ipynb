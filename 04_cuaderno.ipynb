{
  "cells": [
    {
      "cell_type": "markdown",
      "metadata": {
        "id": "RQdcZFCXjaPC"
      },
      "source": [
        "<a href=\"https://colab.research.google.com/github/ProfDoeg/Colegio_Invisible/blob/master/04_cuaderno.ipynb\" target=\"_parent\"><img src=\"https://colab.research.google.com/assets/colab-badge.svg\" alt=\"Open In Colab\"/></a>"
      ]
    },
    {
      "cell_type": "markdown",
      "metadata": {
        "id": "V0ZeHUAcjaPF"
      },
      "source": [
        "# Secure Communications"
      ]
    },
    {
      "cell_type": "code",
      "source": [
        "! ls"
      ],
      "metadata": {
        "colab": {
          "base_uri": "https://localhost:8080/"
        },
        "id": "PnZM-TVg1My7",
        "outputId": "34750e5a-a1fe-46ad-9f7a-6e5750a2f7a4"
      },
      "execution_count": 2,
      "outputs": [
        {
          "output_type": "stream",
          "name": "stdout",
          "text": [
            "sample_data\n"
          ]
        }
      ]
    },
    {
      "cell_type": "code",
      "source": [
        "#! pip install cryptos"
      ],
      "metadata": {
        "id": "eflkCFwQzFMn"
      },
      "execution_count": null,
      "outputs": []
    },
    {
      "cell_type": "code",
      "execution_count": 3,
      "metadata": {
        "colab": {
          "base_uri": "https://localhost:8080/"
        },
        "id": "iOt3lIV-jaPG",
        "outputId": "e654cfe0-2c84-42f7-e0a8-50c245e41355"
      },
      "outputs": [
        {
          "output_type": "stream",
          "name": "stdout",
          "text": [
            "Collecting eciespy\n",
            "  Downloading eciespy-0.3.11-py3-none-any.whl (11 kB)\n",
            "Collecting eth_keys\n",
            "  Downloading eth_keys-0.4.0-py3-none-any.whl (21 kB)\n",
            "Requirement already satisfied: gspread in /usr/local/lib/python3.7/dist-packages (3.0.1)\n",
            "Requirement already satisfied: oauth2client in /usr/local/lib/python3.7/dist-packages (4.1.3)\n",
            "Collecting coincurve<16,>=13\n",
            "  Downloading coincurve-15.0.1-cp37-cp37m-manylinux_2_17_x86_64.manylinux2014_x86_64.whl (555 kB)\n",
            "\u001b[K     |████████████████████████████████| 555 kB 7.3 MB/s \n",
            "\u001b[?25hCollecting pycryptodome<4.0.0,>=3.9.9\n",
            "  Downloading pycryptodome-3.12.0-cp35-abi3-manylinux2010_x86_64.whl (2.0 MB)\n",
            "\u001b[K     |████████████████████████████████| 2.0 MB 57.0 MB/s \n",
            "\u001b[?25hCollecting eth_keys\n",
            "  Downloading eth_keys-0.3.3-py3-none-any.whl (20 kB)\n",
            "Collecting eth-utils<2.0.0,>=1.3.0\n",
            "  Downloading eth_utils-1.10.0-py3-none-any.whl (24 kB)\n",
            "Collecting eth-typing<3.0.0,>=2.2.1\n",
            "  Downloading eth_typing-2.2.2-py3-none-any.whl (6.2 kB)\n",
            "Requirement already satisfied: cffi>=1.3.0 in /usr/local/lib/python3.7/dist-packages (from coincurve<16,>=13->eciespy) (1.15.0)\n",
            "Collecting asn1crypto\n",
            "  Downloading asn1crypto-1.4.0-py2.py3-none-any.whl (104 kB)\n",
            "\u001b[K     |████████████████████████████████| 104 kB 40.5 MB/s \n",
            "\u001b[?25hRequirement already satisfied: pycparser in /usr/local/lib/python3.7/dist-packages (from cffi>=1.3.0->coincurve<16,>=13->eciespy) (2.21)\n",
            "Collecting cytoolz<1.0.0,>=0.10.1\n",
            "  Downloading cytoolz-0.11.2.tar.gz (481 kB)\n",
            "\u001b[K     |████████████████████████████████| 481 kB 54.1 MB/s \n",
            "\u001b[?25hCollecting eth-hash<0.4.0,>=0.3.1\n",
            "  Downloading eth_hash-0.3.2-py3-none-any.whl (8.8 kB)\n",
            "Requirement already satisfied: toolz>=0.8.0 in /usr/local/lib/python3.7/dist-packages (from cytoolz<1.0.0,>=0.10.1->eth-utils<2.0.0,>=1.3.0->eth_keys) (0.11.2)\n",
            "Requirement already satisfied: requests>=2.2.1 in /usr/local/lib/python3.7/dist-packages (from gspread) (2.23.0)\n",
            "Requirement already satisfied: certifi>=2017.4.17 in /usr/local/lib/python3.7/dist-packages (from requests>=2.2.1->gspread) (2021.10.8)\n",
            "Requirement already satisfied: idna<3,>=2.5 in /usr/local/lib/python3.7/dist-packages (from requests>=2.2.1->gspread) (2.10)\n",
            "Requirement already satisfied: chardet<4,>=3.0.2 in /usr/local/lib/python3.7/dist-packages (from requests>=2.2.1->gspread) (3.0.4)\n",
            "Requirement already satisfied: urllib3!=1.25.0,!=1.25.1,<1.26,>=1.21.1 in /usr/local/lib/python3.7/dist-packages (from requests>=2.2.1->gspread) (1.24.3)\n",
            "Requirement already satisfied: pyasn1-modules>=0.0.5 in /usr/local/lib/python3.7/dist-packages (from oauth2client) (0.2.8)\n",
            "Requirement already satisfied: pyasn1>=0.1.7 in /usr/local/lib/python3.7/dist-packages (from oauth2client) (0.4.8)\n",
            "Requirement already satisfied: six>=1.6.1 in /usr/local/lib/python3.7/dist-packages (from oauth2client) (1.15.0)\n",
            "Requirement already satisfied: httplib2>=0.9.1 in /usr/local/lib/python3.7/dist-packages (from oauth2client) (0.17.4)\n",
            "Requirement already satisfied: rsa>=3.1.4 in /usr/local/lib/python3.7/dist-packages (from oauth2client) (4.8)\n",
            "Building wheels for collected packages: cytoolz\n",
            "  Building wheel for cytoolz (setup.py) ... \u001b[?25l\u001b[?25hdone\n",
            "  Created wheel for cytoolz: filename=cytoolz-0.11.2-cp37-cp37m-linux_x86_64.whl size=1231105 sha256=40cbe12102ba0f1f836da41ce52a5fb48c50f193963be5178fefc7425e5e193b\n",
            "  Stored in directory: /root/.cache/pip/wheels/38/70/71/ca13ea3d36ccd0b3d0ec7d7a4ca67522048d695b556bba4f59\n",
            "Successfully built cytoolz\n",
            "Installing collected packages: eth-typing, eth-hash, cytoolz, eth-utils, asn1crypto, pycryptodome, eth-keys, coincurve, eciespy\n",
            "Successfully installed asn1crypto-1.4.0 coincurve-15.0.1 cytoolz-0.11.2 eciespy-0.3.11 eth-hash-0.3.2 eth-keys-0.3.3 eth-typing-2.2.2 eth-utils-1.10.0 pycryptodome-3.12.0\n",
            "Cloning into 'Colegio_Invisible'...\n",
            "remote: Enumerating objects: 350, done.\u001b[K\n",
            "remote: Counting objects: 100% (164/164), done.\u001b[K\n",
            "remote: Compressing objects: 100% (139/139), done.\u001b[K\n",
            "remote: Total 350 (delta 114), reused 23 (delta 23), pack-reused 186\u001b[K\n",
            "Receiving objects: 100% (350/350), 12.34 MiB | 17.77 MiB/s, done.\n",
            "Resolving deltas: 100% (226/226), done.\n",
            "Requirement already satisfied: gspread in /usr/local/lib/python3.7/dist-packages (3.0.1)\n",
            "Collecting gspread\n",
            "  Downloading gspread-5.1.1-py3-none-any.whl (31 kB)\n",
            "Requirement already satisfied: google-auth-oauthlib>=0.4.1 in /usr/local/lib/python3.7/dist-packages (from gspread) (0.4.6)\n",
            "Requirement already satisfied: google-auth>=1.12.0 in /usr/local/lib/python3.7/dist-packages (from gspread) (1.35.0)\n",
            "Requirement already satisfied: rsa<5,>=3.1.4 in /usr/local/lib/python3.7/dist-packages (from google-auth>=1.12.0->gspread) (4.8)\n",
            "Requirement already satisfied: cachetools<5.0,>=2.0.0 in /usr/local/lib/python3.7/dist-packages (from google-auth>=1.12.0->gspread) (4.2.4)\n",
            "Requirement already satisfied: setuptools>=40.3.0 in /usr/local/lib/python3.7/dist-packages (from google-auth>=1.12.0->gspread) (57.4.0)\n",
            "Requirement already satisfied: six>=1.9.0 in /usr/local/lib/python3.7/dist-packages (from google-auth>=1.12.0->gspread) (1.15.0)\n",
            "Requirement already satisfied: pyasn1-modules>=0.2.1 in /usr/local/lib/python3.7/dist-packages (from google-auth>=1.12.0->gspread) (0.2.8)\n",
            "Requirement already satisfied: requests-oauthlib>=0.7.0 in /usr/local/lib/python3.7/dist-packages (from google-auth-oauthlib>=0.4.1->gspread) (1.3.0)\n",
            "Requirement already satisfied: pyasn1<0.5.0,>=0.4.6 in /usr/local/lib/python3.7/dist-packages (from pyasn1-modules>=0.2.1->google-auth>=1.12.0->gspread) (0.4.8)\n",
            "Requirement already satisfied: requests>=2.0.0 in /usr/local/lib/python3.7/dist-packages (from requests-oauthlib>=0.7.0->google-auth-oauthlib>=0.4.1->gspread) (2.23.0)\n",
            "Requirement already satisfied: oauthlib>=3.0.0 in /usr/local/lib/python3.7/dist-packages (from requests-oauthlib>=0.7.0->google-auth-oauthlib>=0.4.1->gspread) (3.1.1)\n",
            "Requirement already satisfied: urllib3!=1.25.0,!=1.25.1,<1.26,>=1.21.1 in /usr/local/lib/python3.7/dist-packages (from requests>=2.0.0->requests-oauthlib>=0.7.0->google-auth-oauthlib>=0.4.1->gspread) (1.24.3)\n",
            "Requirement already satisfied: idna<3,>=2.5 in /usr/local/lib/python3.7/dist-packages (from requests>=2.0.0->requests-oauthlib>=0.7.0->google-auth-oauthlib>=0.4.1->gspread) (2.10)\n",
            "Requirement already satisfied: certifi>=2017.4.17 in /usr/local/lib/python3.7/dist-packages (from requests>=2.0.0->requests-oauthlib>=0.7.0->google-auth-oauthlib>=0.4.1->gspread) (2021.10.8)\n",
            "Requirement already satisfied: chardet<4,>=3.0.2 in /usr/local/lib/python3.7/dist-packages (from requests>=2.0.0->requests-oauthlib>=0.7.0->google-auth-oauthlib>=0.4.1->gspread) (3.0.4)\n",
            "Installing collected packages: gspread\n",
            "  Attempting uninstall: gspread\n",
            "    Found existing installation: gspread 3.0.1\n",
            "    Uninstalling gspread-3.0.1:\n",
            "      Successfully uninstalled gspread-3.0.1\n",
            "Successfully installed gspread-5.1.1\n"
          ]
        }
      ],
      "source": [
        "! pip install eciespy eth_keys gspread oauth2client\n",
        "! git clone https://github.com/ProfDoeg/Colegio_Invisible.git\n",
        "! pip install --upgrade gspread"
      ]
    },
    {
      "cell_type": "code",
      "source": [
        "! mkdir llaves"
      ],
      "metadata": {
        "id": "YjCzL1LVwFdw"
      },
      "execution_count": 4,
      "outputs": []
    },
    {
      "cell_type": "code",
      "source": [
        "! python Colegio_Invisible/scripts/ecc_generate.py llaves/prvkey1.eck"
      ],
      "metadata": {
        "colab": {
          "base_uri": "https://localhost:8080/"
        },
        "id": "knENRpKUvfyx",
        "outputId": "4f6efefb-a6a4-46fe-b453-2a140a796277"
      },
      "execution_count": 5,
      "outputs": [
        {
          "output_type": "stream",
          "name": "stdout",
          "text": [
            "Input password for encrypting keyfile: \n",
            "Repeat password for encrypting keyfile: \n",
            "\n",
            "Passwords match...\n",
            "Private key generation complete\n",
            "Private key encrypted and written to binary file: llaves/prvkey1.eck\n",
            "50f98f74cffdba47767b7e80b89420810f44fdee0606bc37c5d7924dc758707d07cf18dc975d36a7d65cfcdd548cbe649f58dd977fd25aa162c7f2734eada0fb\n"
          ]
        }
      ]
    },
    {
      "cell_type": "code",
      "source": [
        "! python Colegio_Invisible/scripts/ecc_pubkey_extract.py llaves/prvkey1.eck llaves/pubkey1.eck "
      ],
      "metadata": {
        "colab": {
          "base_uri": "https://localhost:8080/"
        },
        "id": "OWfZF_rrxVZJ",
        "outputId": "94841ebb-aedd-49b7-c3b0-df719dada34f"
      },
      "execution_count": 6,
      "outputs": [
        {
          "output_type": "stream",
          "name": "stdout",
          "text": [
            "Input password for private key file: \n",
            "Input password for public key file: \n",
            "Repeat password for public key file: \n",
            "\n",
            "Passwords match...\n",
            "Completed public key extraction from: llaves/prvkey1.eck\n",
            "Public key encrypted and written to binary file: llaves/pubkey1.eck\n",
            "3941c6fff65d07f3fd40ab077c8ccb1a58f315b33302e7a4f25609543c82aa64e6bcc86d04bc15706ce7ff8e99fed1f329e3a7c99a0aa45d735885a8f4bcf47e55c640e4a8769f2f6273d771e79bed0c02ff54cf0511edf8face9d2f08cf701b\n"
          ]
        }
      ]
    },
    {
      "cell_type": "code",
      "source": [
        "ret = !{ 'python Colegio_Invisible/scripts/ecc_keydump.py llaves/pubkey1.eck'}\n",
        "ret"
      ],
      "metadata": {
        "colab": {
          "base_uri": "https://localhost:8080/"
        },
        "id": "LqaOEPC4yrQK",
        "outputId": "17fa74eb-05b0-4b97-b9cc-83653164f25f"
      },
      "execution_count": 7,
      "outputs": [
        {
          "output_type": "execute_result",
          "data": {
            "text/plain": [
              "['Input password for key file: ',\n",
              " 'fb33714111767cf52bb4a4d7ed2d6caba5d2cbb4264b6cfe4797c2836a98376eb107207065f9f0b4ecc7b50bed3cee0628118931b648db60274268a88b40fd2d']"
            ]
          },
          "metadata": {},
          "execution_count": 7
        }
      ]
    },
    {
      "cell_type": "code",
      "source": [
        "pubkey1=ret[-1]\n",
        "pubkey1"
      ],
      "metadata": {
        "colab": {
          "base_uri": "https://localhost:8080/",
          "height": 35
        },
        "id": "qInALQ0e03RH",
        "outputId": "fcf7fe82-e289-4f75-c311-8cae4c5db81d"
      },
      "execution_count": 8,
      "outputs": [
        {
          "output_type": "execute_result",
          "data": {
            "application/vnd.google.colaboratory.intrinsic+json": {
              "type": "string"
            },
            "text/plain": [
              "'fb33714111767cf52bb4a4d7ed2d6caba5d2cbb4264b6cfe4797c2836a98376eb107207065f9f0b4ecc7b50bed3cee0628118931b648db60274268a88b40fd2d'"
            ]
          },
          "metadata": {},
          "execution_count": 8
        }
      ]
    },
    {
      "cell_type": "code",
      "source": [
        "! python Colegio_Invisible/scripts/aes_decrypt.py Colegio_Invisible/secrets/client_secret.aes Colegio_Invisible/secrets/client_secret.json "
      ],
      "metadata": {
        "colab": {
          "base_uri": "https://localhost:8080/"
        },
        "id": "_spdugChrzcl",
        "outputId": "70892c5e-5deb-4fcc-9279-6c19d19649e5"
      },
      "execution_count": 10,
      "outputs": [
        {
          "output_type": "stream",
          "name": "stdout",
          "text": [
            "Input password for decryption: \n",
            "Success: Colegio_Invisible/secrets/client_secret.aes decryption complete\n",
            "Written to: Colegio_Invisible/secrets/client_secret.json\n"
          ]
        }
      ]
    },
    {
      "cell_type": "markdown",
      "source": [
        "https://docs.gspread.org/en/latest/user-guide.html"
      ],
      "metadata": {
        "id": "OZlTWab55ESc"
      }
    },
    {
      "cell_type": "code",
      "execution_count": 11,
      "metadata": {
        "id": "mU3aBoN3jaPI"
      },
      "outputs": [],
      "source": [
        "import gspread\n",
        "from oauth2client.service_account import ServiceAccountCredentials\n",
        "# use creds to create a client to interact with the Google Drive API\n",
        "scope = ['https://spreadsheets.google.com/feeds',\n",
        "         'https://www.googleapis.com/auth/drive']\n",
        "creds = ServiceAccountCredentials.from_json_keyfile_name('Colegio_Invisible/secrets/client_secret.json', scope)\n",
        "client = gspread.authorize(creds)\n",
        "sheets = client.open(\"signatures\")"
      ]
    },
    {
      "cell_type": "code",
      "source": [
        "sheet=sheets.worksheets()[0]\n",
        "sheet.row_values(1)"
      ],
      "metadata": {
        "colab": {
          "base_uri": "https://localhost:8080/"
        },
        "id": "4TpJzRis965I",
        "outputId": "f058f8f8-bbca-4f2c-adaf-3b31ea3cb816"
      },
      "execution_count": 12,
      "outputs": [
        {
          "output_type": "execute_result",
          "data": {
            "text/plain": [
              "['name', 'pubkey', 'statement', 'signature']"
            ]
          },
          "metadata": {},
          "execution_count": 12
        }
      ]
    },
    {
      "cell_type": "code",
      "source": [
        "#sheet.clear()\n",
        "#sheet.update_cell(1, \"name\")\n",
        "#sheet.append_row([\"name\", \"pubkey\",\"statement\",\"signature\"])\n",
        "#sheet.__dir__()"
      ],
      "metadata": {
        "id": "lY-DDACNIbI2"
      },
      "execution_count": null,
      "outputs": []
    },
    {
      "cell_type": "code",
      "source": [
        "my_name=input('input name')\n",
        "my_statement=input('input statement')\n",
        "open('llaves/statement1.txt','wb').write(my_statement.encode())"
      ],
      "metadata": {
        "colab": {
          "base_uri": "https://localhost:8080/"
        },
        "id": "qhFmS9bqPLVt",
        "outputId": "96f00b61-ba42-4eb1-a737-833263e0fe2f"
      },
      "execution_count": 13,
      "outputs": [
        {
          "name": "stdout",
          "output_type": "stream",
          "text": [
            "input nameXdos\n",
            "input statementdang\n"
          ]
        },
        {
          "output_type": "execute_result",
          "data": {
            "text/plain": [
              "4"
            ]
          },
          "metadata": {},
          "execution_count": 13
        }
      ]
    },
    {
      "cell_type": "code",
      "source": [
        "! cat llaves/statement1.txt"
      ],
      "metadata": {
        "colab": {
          "base_uri": "https://localhost:8080/"
        },
        "id": "brExuacy55Sr",
        "outputId": "1f1275c0-d60f-408b-e096-f27b9f9fa1d4"
      },
      "execution_count": 14,
      "outputs": [
        {
          "output_type": "stream",
          "name": "stdout",
          "text": [
            "dang"
          ]
        }
      ]
    },
    {
      "cell_type": "code",
      "source": [
        "ret = !{ 'python Colegio_Invisible/scripts/ecc_sign.py llaves/prvkey1.eck llaves/statement1.txt llaves/sig1.sig'}\n",
        "ret"
      ],
      "metadata": {
        "colab": {
          "base_uri": "https://localhost:8080/"
        },
        "id": "11kzlTsR4Ki8",
        "outputId": "7d3056ba-4158-4a1a-fb02-ff95adf7eec7"
      },
      "execution_count": 15,
      "outputs": [
        {
          "output_type": "execute_result",
          "data": {
            "text/plain": [
              "['Input password for private key file: ',\n",
              " 'Success: llaves/statement1.txt signature complete using llaves/prvkey1.eck',\n",
              " 'Written to: llaves/sig1.sig',\n",
              " 'd9460dc9b1c3bbad26a3c35b6bad5e04005f3e85bcee2ea9adb5bf8fbf2256675fd81abfa05d54bc086dd211ad5a6348e20087c5982f51e8a89d52848c71735800']"
            ]
          },
          "metadata": {},
          "execution_count": 15
        }
      ]
    },
    {
      "cell_type": "code",
      "source": [
        "sig1=ret[-1]\n",
        "sig1"
      ],
      "metadata": {
        "colab": {
          "base_uri": "https://localhost:8080/",
          "height": 35
        },
        "id": "iJH9mEfO77pW",
        "outputId": "931f8985-7835-4946-d770-b86c48faade4"
      },
      "execution_count": 16,
      "outputs": [
        {
          "output_type": "execute_result",
          "data": {
            "application/vnd.google.colaboratory.intrinsic+json": {
              "type": "string"
            },
            "text/plain": [
              "'d9460dc9b1c3bbad26a3c35b6bad5e04005f3e85bcee2ea9adb5bf8fbf2256675fd81abfa05d54bc086dd211ad5a6348e20087c5982f51e8a89d52848c71735800'"
            ]
          },
          "metadata": {},
          "execution_count": 16
        }
      ]
    },
    {
      "cell_type": "markdown",
      "source": [
        "\"name\", \"pubkey\",\"statement\",\"signature\""
      ],
      "metadata": {
        "id": "FTnfiP5B9vBv"
      }
    },
    {
      "cell_type": "code",
      "source": [
        "sheet.append_row([my_name,pubkey1,my_statement,sig1])"
      ],
      "metadata": {
        "colab": {
          "base_uri": "https://localhost:8080/"
        },
        "id": "aYIkcV_rFHpO",
        "outputId": "2427f846-9de6-4274-8a4e-254c6982ce66"
      },
      "execution_count": 17,
      "outputs": [
        {
          "output_type": "execute_result",
          "data": {
            "text/plain": [
              "{'spreadsheetId': '1z_iLwzlqa_JX7AdRR3OsBeFEgvS0jVYh1oo-X23bMOY',\n",
              " 'tableRange': 'Multi!A1:D7',\n",
              " 'updates': {'spreadsheetId': '1z_iLwzlqa_JX7AdRR3OsBeFEgvS0jVYh1oo-X23bMOY',\n",
              "  'updatedCells': 4,\n",
              "  'updatedColumns': 4,\n",
              "  'updatedRange': 'Multi!A8:D8',\n",
              "  'updatedRows': 1}}"
            ]
          },
          "metadata": {},
          "execution_count": 17
        }
      ]
    },
    {
      "cell_type": "code",
      "source": [
        "import IPython\n",
        "IPython.display.Audio(\"Colegio_Invisible/sound/bird2.wav\")"
      ],
      "metadata": {
        "id": "WTGuUEE06R-7"
      },
      "execution_count": null,
      "outputs": []
    },
    {
      "cell_type": "code",
      "source": [
        "import pandas as pd\n",
        "\n",
        "dataframe = pd.DataFrame(sheet.get_all_records())\n",
        "dataframe"
      ],
      "metadata": {
        "colab": {
          "base_uri": "https://localhost:8080/",
          "height": 269
        },
        "id": "vKL2w8CB_m9f",
        "outputId": "e4dacd5e-903f-4dab-87df-e358282e9883"
      },
      "execution_count": 18,
      "outputs": [
        {
          "output_type": "execute_result",
          "data": {
            "text/html": [
              "\n",
              "  <div id=\"df-c4732c44-674b-40d3-b3c7-e3e224ade5fa\">\n",
              "    <div class=\"colab-df-container\">\n",
              "      <div>\n",
              "<style scoped>\n",
              "    .dataframe tbody tr th:only-of-type {\n",
              "        vertical-align: middle;\n",
              "    }\n",
              "\n",
              "    .dataframe tbody tr th {\n",
              "        vertical-align: top;\n",
              "    }\n",
              "\n",
              "    .dataframe thead th {\n",
              "        text-align: right;\n",
              "    }\n",
              "</style>\n",
              "<table border=\"1\" class=\"dataframe\">\n",
              "  <thead>\n",
              "    <tr style=\"text-align: right;\">\n",
              "      <th></th>\n",
              "      <th>name</th>\n",
              "      <th>pubkey</th>\n",
              "      <th>statement</th>\n",
              "      <th>signature</th>\n",
              "    </tr>\n",
              "  </thead>\n",
              "  <tbody>\n",
              "    <tr>\n",
              "      <th>0</th>\n",
              "      <td>DrDoeg</td>\n",
              "      <td>a8a74228607881a4f3f80df52efdf0167fa327ce0d90ec...</td>\n",
              "      <td>I am Sirius</td>\n",
              "      <td>067aa773ee743b7c76be4c931a26fd6d2d7b5c583e8037...</td>\n",
              "    </tr>\n",
              "    <tr>\n",
              "      <th>1</th>\n",
              "      <td>Mono</td>\n",
              "      <td>a8a74228607881a4f3f80df52efdf0167fa327ce0d90ec...</td>\n",
              "      <td>Beneath the water</td>\n",
              "      <td>0774199a527b34cf07d88f908ccfec14755e9c80ffc481...</td>\n",
              "    </tr>\n",
              "    <tr>\n",
              "      <th>2</th>\n",
              "      <td>Homie</td>\n",
              "      <td>631b3ec130ab1af024059a45f3b43883f8379cc7ea0363...</td>\n",
              "      <td>i am a sweet homie</td>\n",
              "      <td>811e4a977631b5c9c3dc49ab1218f276a040ce585b79b3...</td>\n",
              "    </tr>\n",
              "    <tr>\n",
              "      <th>3</th>\n",
              "      <td>jojo</td>\n",
              "      <td>631b3ec130ab1af024059a45f3b43883f8379cc7ea0363...</td>\n",
              "      <td>jojo bee</td>\n",
              "      <td>2efa0cbb380007b941365ce0f97fc523746850f30ee215...</td>\n",
              "    </tr>\n",
              "    <tr>\n",
              "      <th>4</th>\n",
              "      <td>Captain</td>\n",
              "      <td>986e40e4d04689c17dd341f9fbd7f394200d729160570a...</td>\n",
              "      <td>ahoy</td>\n",
              "      <td>8fee10d21ecd3b95932b06f4ac346aa4df74951f4cf58a...</td>\n",
              "    </tr>\n",
              "    <tr>\n",
              "      <th>5</th>\n",
              "      <td>Ro</td>\n",
              "      <td>986e40e4d04689c17dd341f9fbd7f394200d729160570a...</td>\n",
              "      <td>Ro ro</td>\n",
              "      <td>54a16212d9af4a4f53947f6091a0137a292f53da836d8a...</td>\n",
              "    </tr>\n",
              "    <tr>\n",
              "      <th>6</th>\n",
              "      <td>Xdos</td>\n",
              "      <td>fb33714111767cf52bb4a4d7ed2d6caba5d2cbb4264b6c...</td>\n",
              "      <td>dang</td>\n",
              "      <td>d9460dc9b1c3bbad26a3c35b6bad5e04005f3e85bcee2e...</td>\n",
              "    </tr>\n",
              "  </tbody>\n",
              "</table>\n",
              "</div>\n",
              "      <button class=\"colab-df-convert\" onclick=\"convertToInteractive('df-c4732c44-674b-40d3-b3c7-e3e224ade5fa')\"\n",
              "              title=\"Convert this dataframe to an interactive table.\"\n",
              "              style=\"display:none;\">\n",
              "        \n",
              "  <svg xmlns=\"http://www.w3.org/2000/svg\" height=\"24px\"viewBox=\"0 0 24 24\"\n",
              "       width=\"24px\">\n",
              "    <path d=\"M0 0h24v24H0V0z\" fill=\"none\"/>\n",
              "    <path d=\"M18.56 5.44l.94 2.06.94-2.06 2.06-.94-2.06-.94-.94-2.06-.94 2.06-2.06.94zm-11 1L8.5 8.5l.94-2.06 2.06-.94-2.06-.94L8.5 2.5l-.94 2.06-2.06.94zm10 10l.94 2.06.94-2.06 2.06-.94-2.06-.94-.94-2.06-.94 2.06-2.06.94z\"/><path d=\"M17.41 7.96l-1.37-1.37c-.4-.4-.92-.59-1.43-.59-.52 0-1.04.2-1.43.59L10.3 9.45l-7.72 7.72c-.78.78-.78 2.05 0 2.83L4 21.41c.39.39.9.59 1.41.59.51 0 1.02-.2 1.41-.59l7.78-7.78 2.81-2.81c.8-.78.8-2.07 0-2.86zM5.41 20L4 18.59l7.72-7.72 1.47 1.35L5.41 20z\"/>\n",
              "  </svg>\n",
              "      </button>\n",
              "      \n",
              "  <style>\n",
              "    .colab-df-container {\n",
              "      display:flex;\n",
              "      flex-wrap:wrap;\n",
              "      gap: 12px;\n",
              "    }\n",
              "\n",
              "    .colab-df-convert {\n",
              "      background-color: #E8F0FE;\n",
              "      border: none;\n",
              "      border-radius: 50%;\n",
              "      cursor: pointer;\n",
              "      display: none;\n",
              "      fill: #1967D2;\n",
              "      height: 32px;\n",
              "      padding: 0 0 0 0;\n",
              "      width: 32px;\n",
              "    }\n",
              "\n",
              "    .colab-df-convert:hover {\n",
              "      background-color: #E2EBFA;\n",
              "      box-shadow: 0px 1px 2px rgba(60, 64, 67, 0.3), 0px 1px 3px 1px rgba(60, 64, 67, 0.15);\n",
              "      fill: #174EA6;\n",
              "    }\n",
              "\n",
              "    [theme=dark] .colab-df-convert {\n",
              "      background-color: #3B4455;\n",
              "      fill: #D2E3FC;\n",
              "    }\n",
              "\n",
              "    [theme=dark] .colab-df-convert:hover {\n",
              "      background-color: #434B5C;\n",
              "      box-shadow: 0px 1px 3px 1px rgba(0, 0, 0, 0.15);\n",
              "      filter: drop-shadow(0px 1px 2px rgba(0, 0, 0, 0.3));\n",
              "      fill: #FFFFFF;\n",
              "    }\n",
              "  </style>\n",
              "\n",
              "      <script>\n",
              "        const buttonEl =\n",
              "          document.querySelector('#df-c4732c44-674b-40d3-b3c7-e3e224ade5fa button.colab-df-convert');\n",
              "        buttonEl.style.display =\n",
              "          google.colab.kernel.accessAllowed ? 'block' : 'none';\n",
              "\n",
              "        async function convertToInteractive(key) {\n",
              "          const element = document.querySelector('#df-c4732c44-674b-40d3-b3c7-e3e224ade5fa');\n",
              "          const dataTable =\n",
              "            await google.colab.kernel.invokeFunction('convertToInteractive',\n",
              "                                                     [key], {});\n",
              "          if (!dataTable) return;\n",
              "\n",
              "          const docLinkHtml = 'Like what you see? Visit the ' +\n",
              "            '<a target=\"_blank\" href=https://colab.research.google.com/notebooks/data_table.ipynb>data table notebook</a>'\n",
              "            + ' to learn more about interactive tables.';\n",
              "          element.innerHTML = '';\n",
              "          dataTable['output_type'] = 'display_data';\n",
              "          await google.colab.output.renderOutput(dataTable, element);\n",
              "          const docLink = document.createElement('div');\n",
              "          docLink.innerHTML = docLinkHtml;\n",
              "          element.appendChild(docLink);\n",
              "        }\n",
              "      </script>\n",
              "    </div>\n",
              "  </div>\n",
              "  "
            ],
            "text/plain": [
              "      name  ...                                          signature\n",
              "0   DrDoeg  ...  067aa773ee743b7c76be4c931a26fd6d2d7b5c583e8037...\n",
              "1     Mono  ...  0774199a527b34cf07d88f908ccfec14755e9c80ffc481...\n",
              "2    Homie  ...  811e4a977631b5c9c3dc49ab1218f276a040ce585b79b3...\n",
              "3     jojo  ...  2efa0cbb380007b941365ce0f97fc523746850f30ee215...\n",
              "4  Captain  ...  8fee10d21ecd3b95932b06f4ac346aa4df74951f4cf58a...\n",
              "5       Ro  ...  54a16212d9af4a4f53947f6091a0137a292f53da836d8a...\n",
              "6     Xdos  ...  d9460dc9b1c3bbad26a3c35b6bad5e04005f3e85bcee2e...\n",
              "\n",
              "[7 rows x 4 columns]"
            ]
          },
          "metadata": {},
          "execution_count": 18
        }
      ]
    },
    {
      "cell_type": "code",
      "source": [
        "import eth_keys\n",
        "import ecies\n",
        "\n",
        "eth_keys.datatypes.Signature(bytes.fromhex(sig1)).verify_msg(my_statement.encode(),eth_keys.keys.PublicKey(bytes.fromhex(pubkey1)))"
      ],
      "metadata": {
        "colab": {
          "base_uri": "https://localhost:8080/"
        },
        "id": "rIYQBHGhVY6c",
        "outputId": "a80fd218-060b-4652-d8ef-6b9d268685f0"
      },
      "execution_count": 19,
      "outputs": [
        {
          "output_type": "execute_result",
          "data": {
            "text/plain": [
              "True"
            ]
          },
          "metadata": {},
          "execution_count": 19
        }
      ]
    },
    {
      "cell_type": "code",
      "source": [
        "def verify(sig,statement,pubkey):\n",
        "  return eth_keys.datatypes.Signature(bytes.fromhex(sig)).verify_msg(statement.encode(),eth_keys.keys.PublicKey(bytes.fromhex(pubkey)))"
      ],
      "metadata": {
        "id": "4QV22WHmTs-_"
      },
      "execution_count": 20,
      "outputs": []
    },
    {
      "cell_type": "code",
      "source": [
        "verify(sig1,my_statement,pubkey1)"
      ],
      "metadata": {
        "colab": {
          "base_uri": "https://localhost:8080/"
        },
        "id": "hAdUtVWfWLlP",
        "outputId": "ee7f5a29-c4db-4e7b-bf81-bf8637fbcc14"
      },
      "execution_count": 21,
      "outputs": [
        {
          "output_type": "execute_result",
          "data": {
            "text/plain": [
              "True"
            ]
          },
          "metadata": {},
          "execution_count": 21
        }
      ]
    },
    {
      "cell_type": "code",
      "source": [
        "dataframe.set_index('name').apply(lambda row: verify(row.signature,row.statement,row.pubkey),axis=1)"
      ],
      "metadata": {
        "colab": {
          "base_uri": "https://localhost:8080/"
        },
        "id": "rNkF3WrPWTvw",
        "outputId": "63b2a991-11d5-4a20-fdd7-ac816df002d0"
      },
      "execution_count": 22,
      "outputs": [
        {
          "output_type": "execute_result",
          "data": {
            "text/plain": [
              "name\n",
              "DrDoeg     True\n",
              "Mono       True\n",
              "Homie      True\n",
              "jojo       True\n",
              "Captain    True\n",
              "Ro         True\n",
              "Xdos       True\n",
              "dtype: bool"
            ]
          },
          "metadata": {},
          "execution_count": 22
        }
      ]
    },
    {
      "cell_type": "code",
      "source": [
        ""
      ],
      "metadata": {
        "id": "PV8DIykpTe8e"
      },
      "execution_count": null,
      "outputs": []
    },
    {
      "cell_type": "code",
      "source": [
        "participants=dataframe.name.tolist()\n",
        "participants"
      ],
      "metadata": {
        "colab": {
          "base_uri": "https://localhost:8080/"
        },
        "id": "8VFsk0L9Bz9_",
        "outputId": "1b73a228-893a-4dc1-e9c5-dd49a4238e00"
      },
      "execution_count": 23,
      "outputs": [
        {
          "output_type": "execute_result",
          "data": {
            "text/plain": [
              "['DrDoeg', 'Mono', 'Homie', 'jojo', 'Captain', 'Ro', 'Xdos']"
            ]
          },
          "metadata": {},
          "execution_count": 23
        }
      ]
    },
    {
      "cell_type": "code",
      "source": [
        "sheet1=sheets.worksheets()[1]\n",
        "sheet2=sheets.worksheets()[2]\n",
        "sheet1,sheet2"
      ],
      "metadata": {
        "colab": {
          "base_uri": "https://localhost:8080/"
        },
        "id": "0cA1SFS4Tuyb",
        "outputId": "b73d370d-8ca4-4829-a18a-c48434d7dacb"
      },
      "execution_count": 38,
      "outputs": [
        {
          "output_type": "execute_result",
          "data": {
            "text/plain": [
              "(<Worksheet 'Magic' id:2092809244>, <Worksheet 'ChorusSignature' id:549527758>)"
            ]
          },
          "metadata": {},
          "execution_count": 38
        }
      ]
    },
    {
      "cell_type": "code",
      "source": [
        "pd.DataFrame(sheet1.get_all_records())"
      ],
      "metadata": {
        "colab": {
          "base_uri": "https://localhost:8080/",
          "height": 238
        },
        "id": "96D4G95zT_W3",
        "outputId": "eccbc89b-2138-4a31-bffc-20ea0469cd74"
      },
      "execution_count": 25,
      "outputs": [
        {
          "output_type": "execute_result",
          "data": {
            "text/html": [
              "\n",
              "  <div id=\"df-71793ee3-f2a4-4850-8f20-e8aa8910cdb0\">\n",
              "    <div class=\"colab-df-container\">\n",
              "      <div>\n",
              "<style scoped>\n",
              "    .dataframe tbody tr th:only-of-type {\n",
              "        vertical-align: middle;\n",
              "    }\n",
              "\n",
              "    .dataframe tbody tr th {\n",
              "        vertical-align: top;\n",
              "    }\n",
              "\n",
              "    .dataframe thead th {\n",
              "        text-align: right;\n",
              "    }\n",
              "</style>\n",
              "<table border=\"1\" class=\"dataframe\">\n",
              "  <thead>\n",
              "    <tr style=\"text-align: right;\">\n",
              "      <th></th>\n",
              "      <th>DrDoeg</th>\n",
              "      <th>Mono</th>\n",
              "      <th>Homie</th>\n",
              "      <th>jojo</th>\n",
              "      <th>Captain</th>\n",
              "      <th>Ro</th>\n",
              "    </tr>\n",
              "  </thead>\n",
              "  <tbody>\n",
              "    <tr>\n",
              "      <th>0</th>\n",
              "      <td>dada</td>\n",
              "      <td>dada</td>\n",
              "      <td>dada</td>\n",
              "      <td>dada</td>\n",
              "      <td>dada</td>\n",
              "      <td>dada</td>\n",
              "    </tr>\n",
              "    <tr>\n",
              "      <th>1</th>\n",
              "      <td>dada</td>\n",
              "      <td>dada</td>\n",
              "      <td>dada</td>\n",
              "      <td>dada</td>\n",
              "      <td>dada</td>\n",
              "      <td>dada</td>\n",
              "    </tr>\n",
              "    <tr>\n",
              "      <th>2</th>\n",
              "      <td>dada</td>\n",
              "      <td>dada</td>\n",
              "      <td>dada</td>\n",
              "      <td>dada</td>\n",
              "      <td>dada</td>\n",
              "      <td>dada</td>\n",
              "    </tr>\n",
              "    <tr>\n",
              "      <th>3</th>\n",
              "      <td>dada</td>\n",
              "      <td>dada</td>\n",
              "      <td>dada</td>\n",
              "      <td>dada</td>\n",
              "      <td>dada</td>\n",
              "      <td>dada</td>\n",
              "    </tr>\n",
              "    <tr>\n",
              "      <th>4</th>\n",
              "      <td>dada</td>\n",
              "      <td>dada</td>\n",
              "      <td>dada</td>\n",
              "      <td>dada</td>\n",
              "      <td>dada</td>\n",
              "      <td>dada</td>\n",
              "    </tr>\n",
              "    <tr>\n",
              "      <th>5</th>\n",
              "      <td>dada</td>\n",
              "      <td>dada</td>\n",
              "      <td>Bingo!</td>\n",
              "      <td>dada</td>\n",
              "      <td>hello to Captain</td>\n",
              "      <td>dada</td>\n",
              "    </tr>\n",
              "  </tbody>\n",
              "</table>\n",
              "</div>\n",
              "      <button class=\"colab-df-convert\" onclick=\"convertToInteractive('df-71793ee3-f2a4-4850-8f20-e8aa8910cdb0')\"\n",
              "              title=\"Convert this dataframe to an interactive table.\"\n",
              "              style=\"display:none;\">\n",
              "        \n",
              "  <svg xmlns=\"http://www.w3.org/2000/svg\" height=\"24px\"viewBox=\"0 0 24 24\"\n",
              "       width=\"24px\">\n",
              "    <path d=\"M0 0h24v24H0V0z\" fill=\"none\"/>\n",
              "    <path d=\"M18.56 5.44l.94 2.06.94-2.06 2.06-.94-2.06-.94-.94-2.06-.94 2.06-2.06.94zm-11 1L8.5 8.5l.94-2.06 2.06-.94-2.06-.94L8.5 2.5l-.94 2.06-2.06.94zm10 10l.94 2.06.94-2.06 2.06-.94-2.06-.94-.94-2.06-.94 2.06-2.06.94z\"/><path d=\"M17.41 7.96l-1.37-1.37c-.4-.4-.92-.59-1.43-.59-.52 0-1.04.2-1.43.59L10.3 9.45l-7.72 7.72c-.78.78-.78 2.05 0 2.83L4 21.41c.39.39.9.59 1.41.59.51 0 1.02-.2 1.41-.59l7.78-7.78 2.81-2.81c.8-.78.8-2.07 0-2.86zM5.41 20L4 18.59l7.72-7.72 1.47 1.35L5.41 20z\"/>\n",
              "  </svg>\n",
              "      </button>\n",
              "      \n",
              "  <style>\n",
              "    .colab-df-container {\n",
              "      display:flex;\n",
              "      flex-wrap:wrap;\n",
              "      gap: 12px;\n",
              "    }\n",
              "\n",
              "    .colab-df-convert {\n",
              "      background-color: #E8F0FE;\n",
              "      border: none;\n",
              "      border-radius: 50%;\n",
              "      cursor: pointer;\n",
              "      display: none;\n",
              "      fill: #1967D2;\n",
              "      height: 32px;\n",
              "      padding: 0 0 0 0;\n",
              "      width: 32px;\n",
              "    }\n",
              "\n",
              "    .colab-df-convert:hover {\n",
              "      background-color: #E2EBFA;\n",
              "      box-shadow: 0px 1px 2px rgba(60, 64, 67, 0.3), 0px 1px 3px 1px rgba(60, 64, 67, 0.15);\n",
              "      fill: #174EA6;\n",
              "    }\n",
              "\n",
              "    [theme=dark] .colab-df-convert {\n",
              "      background-color: #3B4455;\n",
              "      fill: #D2E3FC;\n",
              "    }\n",
              "\n",
              "    [theme=dark] .colab-df-convert:hover {\n",
              "      background-color: #434B5C;\n",
              "      box-shadow: 0px 1px 3px 1px rgba(0, 0, 0, 0.15);\n",
              "      filter: drop-shadow(0px 1px 2px rgba(0, 0, 0, 0.3));\n",
              "      fill: #FFFFFF;\n",
              "    }\n",
              "  </style>\n",
              "\n",
              "      <script>\n",
              "        const buttonEl =\n",
              "          document.querySelector('#df-71793ee3-f2a4-4850-8f20-e8aa8910cdb0 button.colab-df-convert');\n",
              "        buttonEl.style.display =\n",
              "          google.colab.kernel.accessAllowed ? 'block' : 'none';\n",
              "\n",
              "        async function convertToInteractive(key) {\n",
              "          const element = document.querySelector('#df-71793ee3-f2a4-4850-8f20-e8aa8910cdb0');\n",
              "          const dataTable =\n",
              "            await google.colab.kernel.invokeFunction('convertToInteractive',\n",
              "                                                     [key], {});\n",
              "          if (!dataTable) return;\n",
              "\n",
              "          const docLinkHtml = 'Like what you see? Visit the ' +\n",
              "            '<a target=\"_blank\" href=https://colab.research.google.com/notebooks/data_table.ipynb>data table notebook</a>'\n",
              "            + ' to learn more about interactive tables.';\n",
              "          element.innerHTML = '';\n",
              "          dataTable['output_type'] = 'display_data';\n",
              "          await google.colab.output.renderOutput(dataTable, element);\n",
              "          const docLink = document.createElement('div');\n",
              "          docLink.innerHTML = docLinkHtml;\n",
              "          element.appendChild(docLink);\n",
              "        }\n",
              "      </script>\n",
              "    </div>\n",
              "  </div>\n",
              "  "
            ],
            "text/plain": [
              "  DrDoeg  Mono   Homie  jojo           Captain    Ro\n",
              "0   dada  dada    dada  dada              dada  dada\n",
              "1   dada  dada    dada  dada              dada  dada\n",
              "2   dada  dada    dada  dada              dada  dada\n",
              "3   dada  dada    dada  dada              dada  dada\n",
              "4   dada  dada    dada  dada              dada  dada\n",
              "5   dada  dada  Bingo!  dada  hello to Captain  dada"
            ]
          },
          "metadata": {},
          "execution_count": 25
        }
      ]
    },
    {
      "cell_type": "code",
      "source": [
        "df=pd.DataFrame('dada',columns=participants,index=participants)\n",
        "sheet1.update([df.columns.values.tolist()] + df.values.tolist())\n",
        "sheet2.update([df.columns.values.tolist()] + df.values.tolist())\n",
        "df"
      ],
      "metadata": {
        "colab": {
          "base_uri": "https://localhost:8080/",
          "height": 269
        },
        "id": "c6tM_RvpUOkH",
        "outputId": "0be492c5-c5e3-42d3-d8de-5ea71f13fdd1"
      },
      "execution_count": 39,
      "outputs": [
        {
          "output_type": "execute_result",
          "data": {
            "text/html": [
              "\n",
              "  <div id=\"df-a8a59d4a-08ba-473f-915b-3258bf89b34a\">\n",
              "    <div class=\"colab-df-container\">\n",
              "      <div>\n",
              "<style scoped>\n",
              "    .dataframe tbody tr th:only-of-type {\n",
              "        vertical-align: middle;\n",
              "    }\n",
              "\n",
              "    .dataframe tbody tr th {\n",
              "        vertical-align: top;\n",
              "    }\n",
              "\n",
              "    .dataframe thead th {\n",
              "        text-align: right;\n",
              "    }\n",
              "</style>\n",
              "<table border=\"1\" class=\"dataframe\">\n",
              "  <thead>\n",
              "    <tr style=\"text-align: right;\">\n",
              "      <th></th>\n",
              "      <th>DrDoeg</th>\n",
              "      <th>Mono</th>\n",
              "      <th>Homie</th>\n",
              "      <th>jojo</th>\n",
              "      <th>Captain</th>\n",
              "      <th>Ro</th>\n",
              "      <th>Xdos</th>\n",
              "    </tr>\n",
              "  </thead>\n",
              "  <tbody>\n",
              "    <tr>\n",
              "      <th>DrDoeg</th>\n",
              "      <td>dada</td>\n",
              "      <td>dada</td>\n",
              "      <td>dada</td>\n",
              "      <td>dada</td>\n",
              "      <td>dada</td>\n",
              "      <td>dada</td>\n",
              "      <td>dada</td>\n",
              "    </tr>\n",
              "    <tr>\n",
              "      <th>Mono</th>\n",
              "      <td>dada</td>\n",
              "      <td>dada</td>\n",
              "      <td>dada</td>\n",
              "      <td>dada</td>\n",
              "      <td>dada</td>\n",
              "      <td>dada</td>\n",
              "      <td>dada</td>\n",
              "    </tr>\n",
              "    <tr>\n",
              "      <th>Homie</th>\n",
              "      <td>dada</td>\n",
              "      <td>dada</td>\n",
              "      <td>dada</td>\n",
              "      <td>dada</td>\n",
              "      <td>dada</td>\n",
              "      <td>dada</td>\n",
              "      <td>dada</td>\n",
              "    </tr>\n",
              "    <tr>\n",
              "      <th>jojo</th>\n",
              "      <td>dada</td>\n",
              "      <td>dada</td>\n",
              "      <td>dada</td>\n",
              "      <td>dada</td>\n",
              "      <td>dada</td>\n",
              "      <td>dada</td>\n",
              "      <td>dada</td>\n",
              "    </tr>\n",
              "    <tr>\n",
              "      <th>Captain</th>\n",
              "      <td>dada</td>\n",
              "      <td>dada</td>\n",
              "      <td>dada</td>\n",
              "      <td>dada</td>\n",
              "      <td>dada</td>\n",
              "      <td>dada</td>\n",
              "      <td>dada</td>\n",
              "    </tr>\n",
              "    <tr>\n",
              "      <th>Ro</th>\n",
              "      <td>dada</td>\n",
              "      <td>dada</td>\n",
              "      <td>dada</td>\n",
              "      <td>dada</td>\n",
              "      <td>dada</td>\n",
              "      <td>dada</td>\n",
              "      <td>dada</td>\n",
              "    </tr>\n",
              "    <tr>\n",
              "      <th>Xdos</th>\n",
              "      <td>dada</td>\n",
              "      <td>dada</td>\n",
              "      <td>dada</td>\n",
              "      <td>dada</td>\n",
              "      <td>dada</td>\n",
              "      <td>dada</td>\n",
              "      <td>dada</td>\n",
              "    </tr>\n",
              "  </tbody>\n",
              "</table>\n",
              "</div>\n",
              "      <button class=\"colab-df-convert\" onclick=\"convertToInteractive('df-a8a59d4a-08ba-473f-915b-3258bf89b34a')\"\n",
              "              title=\"Convert this dataframe to an interactive table.\"\n",
              "              style=\"display:none;\">\n",
              "        \n",
              "  <svg xmlns=\"http://www.w3.org/2000/svg\" height=\"24px\"viewBox=\"0 0 24 24\"\n",
              "       width=\"24px\">\n",
              "    <path d=\"M0 0h24v24H0V0z\" fill=\"none\"/>\n",
              "    <path d=\"M18.56 5.44l.94 2.06.94-2.06 2.06-.94-2.06-.94-.94-2.06-.94 2.06-2.06.94zm-11 1L8.5 8.5l.94-2.06 2.06-.94-2.06-.94L8.5 2.5l-.94 2.06-2.06.94zm10 10l.94 2.06.94-2.06 2.06-.94-2.06-.94-.94-2.06-.94 2.06-2.06.94z\"/><path d=\"M17.41 7.96l-1.37-1.37c-.4-.4-.92-.59-1.43-.59-.52 0-1.04.2-1.43.59L10.3 9.45l-7.72 7.72c-.78.78-.78 2.05 0 2.83L4 21.41c.39.39.9.59 1.41.59.51 0 1.02-.2 1.41-.59l7.78-7.78 2.81-2.81c.8-.78.8-2.07 0-2.86zM5.41 20L4 18.59l7.72-7.72 1.47 1.35L5.41 20z\"/>\n",
              "  </svg>\n",
              "      </button>\n",
              "      \n",
              "  <style>\n",
              "    .colab-df-container {\n",
              "      display:flex;\n",
              "      flex-wrap:wrap;\n",
              "      gap: 12px;\n",
              "    }\n",
              "\n",
              "    .colab-df-convert {\n",
              "      background-color: #E8F0FE;\n",
              "      border: none;\n",
              "      border-radius: 50%;\n",
              "      cursor: pointer;\n",
              "      display: none;\n",
              "      fill: #1967D2;\n",
              "      height: 32px;\n",
              "      padding: 0 0 0 0;\n",
              "      width: 32px;\n",
              "    }\n",
              "\n",
              "    .colab-df-convert:hover {\n",
              "      background-color: #E2EBFA;\n",
              "      box-shadow: 0px 1px 2px rgba(60, 64, 67, 0.3), 0px 1px 3px 1px rgba(60, 64, 67, 0.15);\n",
              "      fill: #174EA6;\n",
              "    }\n",
              "\n",
              "    [theme=dark] .colab-df-convert {\n",
              "      background-color: #3B4455;\n",
              "      fill: #D2E3FC;\n",
              "    }\n",
              "\n",
              "    [theme=dark] .colab-df-convert:hover {\n",
              "      background-color: #434B5C;\n",
              "      box-shadow: 0px 1px 3px 1px rgba(0, 0, 0, 0.15);\n",
              "      filter: drop-shadow(0px 1px 2px rgba(0, 0, 0, 0.3));\n",
              "      fill: #FFFFFF;\n",
              "    }\n",
              "  </style>\n",
              "\n",
              "      <script>\n",
              "        const buttonEl =\n",
              "          document.querySelector('#df-a8a59d4a-08ba-473f-915b-3258bf89b34a button.colab-df-convert');\n",
              "        buttonEl.style.display =\n",
              "          google.colab.kernel.accessAllowed ? 'block' : 'none';\n",
              "\n",
              "        async function convertToInteractive(key) {\n",
              "          const element = document.querySelector('#df-a8a59d4a-08ba-473f-915b-3258bf89b34a');\n",
              "          const dataTable =\n",
              "            await google.colab.kernel.invokeFunction('convertToInteractive',\n",
              "                                                     [key], {});\n",
              "          if (!dataTable) return;\n",
              "\n",
              "          const docLinkHtml = 'Like what you see? Visit the ' +\n",
              "            '<a target=\"_blank\" href=https://colab.research.google.com/notebooks/data_table.ipynb>data table notebook</a>'\n",
              "            + ' to learn more about interactive tables.';\n",
              "          element.innerHTML = '';\n",
              "          dataTable['output_type'] = 'display_data';\n",
              "          await google.colab.output.renderOutput(dataTable, element);\n",
              "          const docLink = document.createElement('div');\n",
              "          docLink.innerHTML = docLinkHtml;\n",
              "          element.appendChild(docLink);\n",
              "        }\n",
              "      </script>\n",
              "    </div>\n",
              "  </div>\n",
              "  "
            ],
            "text/plain": [
              "        DrDoeg  Mono Homie  jojo Captain    Ro  Xdos\n",
              "DrDoeg    dada  dada  dada  dada    dada  dada  dada\n",
              "Mono      dada  dada  dada  dada    dada  dada  dada\n",
              "Homie     dada  dada  dada  dada    dada  dada  dada\n",
              "jojo      dada  dada  dada  dada    dada  dada  dada\n",
              "Captain   dada  dada  dada  dada    dada  dada  dada\n",
              "Ro        dada  dada  dada  dada    dada  dada  dada\n",
              "Xdos      dada  dada  dada  dada    dada  dada  dada"
            ]
          },
          "metadata": {},
          "execution_count": 39
        }
      ]
    },
    {
      "cell_type": "code",
      "source": [
        ""
      ],
      "metadata": {
        "id": "MPEVR5DGK2AU"
      },
      "execution_count": 18,
      "outputs": []
    },
    {
      "cell_type": "code",
      "source": [
        "dataframe1 = pd.DataFrame(sheet1.get_all_records())\n",
        "dataframe1.index=dataframe1.columns\n",
        "dataframe1"
      ],
      "metadata": {
        "colab": {
          "base_uri": "https://localhost:8080/",
          "height": 269
        },
        "id": "1JeW89rRVVNP",
        "outputId": "4a9317a7-c24f-46c9-c2ab-a3398576fa9f"
      },
      "execution_count": 40,
      "outputs": [
        {
          "output_type": "execute_result",
          "data": {
            "text/html": [
              "\n",
              "  <div id=\"df-568c4fd7-decc-43dd-941e-dc253a186610\">\n",
              "    <div class=\"colab-df-container\">\n",
              "      <div>\n",
              "<style scoped>\n",
              "    .dataframe tbody tr th:only-of-type {\n",
              "        vertical-align: middle;\n",
              "    }\n",
              "\n",
              "    .dataframe tbody tr th {\n",
              "        vertical-align: top;\n",
              "    }\n",
              "\n",
              "    .dataframe thead th {\n",
              "        text-align: right;\n",
              "    }\n",
              "</style>\n",
              "<table border=\"1\" class=\"dataframe\">\n",
              "  <thead>\n",
              "    <tr style=\"text-align: right;\">\n",
              "      <th></th>\n",
              "      <th>DrDoeg</th>\n",
              "      <th>Mono</th>\n",
              "      <th>Homie</th>\n",
              "      <th>jojo</th>\n",
              "      <th>Captain</th>\n",
              "      <th>Ro</th>\n",
              "      <th>Xdos</th>\n",
              "    </tr>\n",
              "  </thead>\n",
              "  <tbody>\n",
              "    <tr>\n",
              "      <th>DrDoeg</th>\n",
              "      <td>dada</td>\n",
              "      <td>dada</td>\n",
              "      <td>dada</td>\n",
              "      <td>dada</td>\n",
              "      <td>dada</td>\n",
              "      <td>dada</td>\n",
              "      <td>dada</td>\n",
              "    </tr>\n",
              "    <tr>\n",
              "      <th>Mono</th>\n",
              "      <td>dada</td>\n",
              "      <td>dada</td>\n",
              "      <td>dada</td>\n",
              "      <td>dada</td>\n",
              "      <td>dada</td>\n",
              "      <td>dada</td>\n",
              "      <td>dada</td>\n",
              "    </tr>\n",
              "    <tr>\n",
              "      <th>Homie</th>\n",
              "      <td>dada</td>\n",
              "      <td>dada</td>\n",
              "      <td>dada</td>\n",
              "      <td>dada</td>\n",
              "      <td>dada</td>\n",
              "      <td>dada</td>\n",
              "      <td>dada</td>\n",
              "    </tr>\n",
              "    <tr>\n",
              "      <th>jojo</th>\n",
              "      <td>dada</td>\n",
              "      <td>dada</td>\n",
              "      <td>dada</td>\n",
              "      <td>dada</td>\n",
              "      <td>dada</td>\n",
              "      <td>dada</td>\n",
              "      <td>dada</td>\n",
              "    </tr>\n",
              "    <tr>\n",
              "      <th>Captain</th>\n",
              "      <td>dada</td>\n",
              "      <td>dada</td>\n",
              "      <td>dada</td>\n",
              "      <td>dada</td>\n",
              "      <td>dada</td>\n",
              "      <td>dada</td>\n",
              "      <td>dada</td>\n",
              "    </tr>\n",
              "    <tr>\n",
              "      <th>Ro</th>\n",
              "      <td>dada</td>\n",
              "      <td>dada</td>\n",
              "      <td>dada</td>\n",
              "      <td>dada</td>\n",
              "      <td>dada</td>\n",
              "      <td>dada</td>\n",
              "      <td>dada</td>\n",
              "    </tr>\n",
              "    <tr>\n",
              "      <th>Xdos</th>\n",
              "      <td>dada</td>\n",
              "      <td>dada</td>\n",
              "      <td>dada</td>\n",
              "      <td>dada</td>\n",
              "      <td>dada</td>\n",
              "      <td>dada</td>\n",
              "      <td>dada</td>\n",
              "    </tr>\n",
              "  </tbody>\n",
              "</table>\n",
              "</div>\n",
              "      <button class=\"colab-df-convert\" onclick=\"convertToInteractive('df-568c4fd7-decc-43dd-941e-dc253a186610')\"\n",
              "              title=\"Convert this dataframe to an interactive table.\"\n",
              "              style=\"display:none;\">\n",
              "        \n",
              "  <svg xmlns=\"http://www.w3.org/2000/svg\" height=\"24px\"viewBox=\"0 0 24 24\"\n",
              "       width=\"24px\">\n",
              "    <path d=\"M0 0h24v24H0V0z\" fill=\"none\"/>\n",
              "    <path d=\"M18.56 5.44l.94 2.06.94-2.06 2.06-.94-2.06-.94-.94-2.06-.94 2.06-2.06.94zm-11 1L8.5 8.5l.94-2.06 2.06-.94-2.06-.94L8.5 2.5l-.94 2.06-2.06.94zm10 10l.94 2.06.94-2.06 2.06-.94-2.06-.94-.94-2.06-.94 2.06-2.06.94z\"/><path d=\"M17.41 7.96l-1.37-1.37c-.4-.4-.92-.59-1.43-.59-.52 0-1.04.2-1.43.59L10.3 9.45l-7.72 7.72c-.78.78-.78 2.05 0 2.83L4 21.41c.39.39.9.59 1.41.59.51 0 1.02-.2 1.41-.59l7.78-7.78 2.81-2.81c.8-.78.8-2.07 0-2.86zM5.41 20L4 18.59l7.72-7.72 1.47 1.35L5.41 20z\"/>\n",
              "  </svg>\n",
              "      </button>\n",
              "      \n",
              "  <style>\n",
              "    .colab-df-container {\n",
              "      display:flex;\n",
              "      flex-wrap:wrap;\n",
              "      gap: 12px;\n",
              "    }\n",
              "\n",
              "    .colab-df-convert {\n",
              "      background-color: #E8F0FE;\n",
              "      border: none;\n",
              "      border-radius: 50%;\n",
              "      cursor: pointer;\n",
              "      display: none;\n",
              "      fill: #1967D2;\n",
              "      height: 32px;\n",
              "      padding: 0 0 0 0;\n",
              "      width: 32px;\n",
              "    }\n",
              "\n",
              "    .colab-df-convert:hover {\n",
              "      background-color: #E2EBFA;\n",
              "      box-shadow: 0px 1px 2px rgba(60, 64, 67, 0.3), 0px 1px 3px 1px rgba(60, 64, 67, 0.15);\n",
              "      fill: #174EA6;\n",
              "    }\n",
              "\n",
              "    [theme=dark] .colab-df-convert {\n",
              "      background-color: #3B4455;\n",
              "      fill: #D2E3FC;\n",
              "    }\n",
              "\n",
              "    [theme=dark] .colab-df-convert:hover {\n",
              "      background-color: #434B5C;\n",
              "      box-shadow: 0px 1px 3px 1px rgba(0, 0, 0, 0.15);\n",
              "      filter: drop-shadow(0px 1px 2px rgba(0, 0, 0, 0.3));\n",
              "      fill: #FFFFFF;\n",
              "    }\n",
              "  </style>\n",
              "\n",
              "      <script>\n",
              "        const buttonEl =\n",
              "          document.querySelector('#df-568c4fd7-decc-43dd-941e-dc253a186610 button.colab-df-convert');\n",
              "        buttonEl.style.display =\n",
              "          google.colab.kernel.accessAllowed ? 'block' : 'none';\n",
              "\n",
              "        async function convertToInteractive(key) {\n",
              "          const element = document.querySelector('#df-568c4fd7-decc-43dd-941e-dc253a186610');\n",
              "          const dataTable =\n",
              "            await google.colab.kernel.invokeFunction('convertToInteractive',\n",
              "                                                     [key], {});\n",
              "          if (!dataTable) return;\n",
              "\n",
              "          const docLinkHtml = 'Like what you see? Visit the ' +\n",
              "            '<a target=\"_blank\" href=https://colab.research.google.com/notebooks/data_table.ipynb>data table notebook</a>'\n",
              "            + ' to learn more about interactive tables.';\n",
              "          element.innerHTML = '';\n",
              "          dataTable['output_type'] = 'display_data';\n",
              "          await google.colab.output.renderOutput(dataTable, element);\n",
              "          const docLink = document.createElement('div');\n",
              "          docLink.innerHTML = docLinkHtml;\n",
              "          element.appendChild(docLink);\n",
              "        }\n",
              "      </script>\n",
              "    </div>\n",
              "  </div>\n",
              "  "
            ],
            "text/plain": [
              "        DrDoeg  Mono Homie  jojo Captain    Ro  Xdos\n",
              "DrDoeg    dada  dada  dada  dada    dada  dada  dada\n",
              "Mono      dada  dada  dada  dada    dada  dada  dada\n",
              "Homie     dada  dada  dada  dada    dada  dada  dada\n",
              "jojo      dada  dada  dada  dada    dada  dada  dada\n",
              "Captain   dada  dada  dada  dada    dada  dada  dada\n",
              "Ro        dada  dada  dada  dada    dada  dada  dada\n",
              "Xdos      dada  dada  dada  dada    dada  dada  dada"
            ]
          },
          "metadata": {},
          "execution_count": 40
        }
      ]
    },
    {
      "cell_type": "code",
      "source": [
        "import ipywidgets as widgets\n",
        "w=widgets.Dropdown(\n",
        "    options=participants,\n",
        "    value='DrDoeg',\n",
        "    description='Number:',\n",
        "    disabled=False,\n",
        ")\n",
        "w"
      ],
      "metadata": {
        "colab": {
          "base_uri": "https://localhost:8080/",
          "height": 49,
          "referenced_widgets": [
            "94c3d5182c174e838e8f62b8702a8b3d",
            "431ffaf97ce24439958f71dc576b2770",
            "be5040adf3b142cea578b8158cde952f"
          ]
        },
        "id": "CUFmHTv2g9G8",
        "outputId": "d1e3bb36-9a95-4f88-c6c7-0e8bb9edff2e"
      },
      "execution_count": 29,
      "outputs": [
        {
          "output_type": "display_data",
          "data": {
            "application/vnd.jupyter.widget-view+json": {
              "model_id": "94c3d5182c174e838e8f62b8702a8b3d",
              "version_minor": 0,
              "version_major": 2
            },
            "text/plain": [
              "Dropdown(description='Number:', options=('DrDoeg', 'Mono', 'Homie', 'jojo', 'Captain', 'Ro', 'Xdos'), value='D…"
            ]
          },
          "metadata": {}
        }
      ]
    },
    {
      "cell_type": "code",
      "source": [
        "w.value"
      ],
      "metadata": {
        "colab": {
          "base_uri": "https://localhost:8080/",
          "height": 35
        },
        "id": "7cRk6xtQixhy",
        "outputId": "816804ef-66f5-453a-9069-95bcf478bf8e"
      },
      "execution_count": 30,
      "outputs": [
        {
          "output_type": "execute_result",
          "data": {
            "application/vnd.google.colaboratory.intrinsic+json": {
              "type": "string"
            },
            "text/plain": [
              "'Homie'"
            ]
          },
          "metadata": {},
          "execution_count": 30
        }
      ]
    },
    {
      "cell_type": "code",
      "source": [
        "my_name"
      ],
      "metadata": {
        "colab": {
          "base_uri": "https://localhost:8080/",
          "height": 35
        },
        "id": "8GkfPn5xc77Q",
        "outputId": "a6183792-4a3b-4ffa-af3c-dcadeafce8d8"
      },
      "execution_count": 31,
      "outputs": [
        {
          "output_type": "execute_result",
          "data": {
            "application/vnd.google.colaboratory.intrinsic+json": {
              "type": "string"
            },
            "text/plain": [
              "'Xdos'"
            ]
          },
          "metadata": {},
          "execution_count": 31
        }
      ]
    },
    {
      "cell_type": "code",
      "source": [
        "p_dict=dict([ (e,i) for i,e in enumerate(participants)])\n",
        "p_dict"
      ],
      "metadata": {
        "colab": {
          "base_uri": "https://localhost:8080/"
        },
        "id": "Hth5kCTvoUbh",
        "outputId": "1f47b3e2-6784-4db8-86b3-ee9bce1b29ff"
      },
      "execution_count": 32,
      "outputs": [
        {
          "output_type": "execute_result",
          "data": {
            "text/plain": [
              "{'Captain': 4,\n",
              " 'DrDoeg': 0,\n",
              " 'Homie': 2,\n",
              " 'Mono': 1,\n",
              " 'Ro': 5,\n",
              " 'Xdos': 6,\n",
              " 'jojo': 3}"
            ]
          },
          "metadata": {},
          "execution_count": 32
        }
      ]
    },
    {
      "cell_type": "code",
      "source": [
        "write_cell=(p_dict[my_name]+2,p_dict[w.value]+1)\n",
        "write_cell"
      ],
      "metadata": {
        "colab": {
          "base_uri": "https://localhost:8080/"
        },
        "id": "Q5u41xgoo8IP",
        "outputId": "c02b717a-ddfb-44b2-bbae-30503cb47436"
      },
      "execution_count": 33,
      "outputs": [
        {
          "output_type": "execute_result",
          "data": {
            "text/plain": [
              "(8, 3)"
            ]
          },
          "metadata": {},
          "execution_count": 33
        }
      ]
    },
    {
      "cell_type": "code",
      "source": [
        "sheet1.update_cell(*write_cell, 'Bingo!')"
      ],
      "metadata": {
        "colab": {
          "base_uri": "https://localhost:8080/"
        },
        "id": "etMGCEv8sGcI",
        "outputId": "6cc9d275-14b3-4802-dec8-ead0b6720afd"
      },
      "execution_count": 35,
      "outputs": [
        {
          "output_type": "execute_result",
          "data": {
            "text/plain": [
              "{'spreadsheetId': '1z_iLwzlqa_JX7AdRR3OsBeFEgvS0jVYh1oo-X23bMOY',\n",
              " 'updatedCells': 1,\n",
              " 'updatedColumns': 1,\n",
              " 'updatedRange': 'Magic!C8',\n",
              " 'updatedRows': 1}"
            ]
          },
          "metadata": {},
          "execution_count": 35
        }
      ]
    },
    {
      "cell_type": "code",
      "source": [
        "print(f'You are {my_name}')\n",
        "print('Select a message recipient')\n",
        "w"
      ],
      "metadata": {
        "colab": {
          "base_uri": "https://localhost:8080/",
          "height": 84,
          "referenced_widgets": [
            "94c3d5182c174e838e8f62b8702a8b3d",
            "431ffaf97ce24439958f71dc576b2770",
            "be5040adf3b142cea578b8158cde952f"
          ]
        },
        "id": "Y6Aq1Jmrv6ot",
        "outputId": "9984f6b3-9aad-40e8-b078-9eabb30341e7"
      },
      "execution_count": 36,
      "outputs": [
        {
          "output_type": "stream",
          "name": "stdout",
          "text": [
            "You are Xdos\n",
            "Select a message recipient\n"
          ]
        },
        {
          "output_type": "display_data",
          "data": {
            "application/vnd.jupyter.widget-view+json": {
              "model_id": "94c3d5182c174e838e8f62b8702a8b3d",
              "version_minor": 0,
              "version_major": 2
            },
            "text/plain": [
              "Dropdown(description='Number:', index=2, options=('DrDoeg', 'Mono', 'Homie', 'jojo', 'Captain', 'Ro', 'Xdos'),…"
            ]
          },
          "metadata": {}
        }
      ]
    },
    {
      "cell_type": "code",
      "source": [
        "message=input('send a message')\n",
        "write_cell=(p_dict[my_name]+2,p_dict[w.value]+1)\n",
        "sheet1.update_cell(*write_cell, message)\n",
        "dataframe1 = pd.DataFrame(sheet1.get_all_records())\n",
        "dataframe1.index=dataframe1.columns\n",
        "dataframe1"
      ],
      "metadata": {
        "colab": {
          "base_uri": "https://localhost:8080/",
          "height": 286
        },
        "id": "HgP-GlczsjiK",
        "outputId": "5e01e263-b828-48bf-925d-000f1510fbe9"
      },
      "execution_count": 42,
      "outputs": [
        {
          "name": "stdout",
          "output_type": "stream",
          "text": [
            "send a messageyo bro\n"
          ]
        },
        {
          "output_type": "execute_result",
          "data": {
            "text/html": [
              "\n",
              "  <div id=\"df-e7de17d2-ce5f-4bc0-83ac-5b541216bc62\">\n",
              "    <div class=\"colab-df-container\">\n",
              "      <div>\n",
              "<style scoped>\n",
              "    .dataframe tbody tr th:only-of-type {\n",
              "        vertical-align: middle;\n",
              "    }\n",
              "\n",
              "    .dataframe tbody tr th {\n",
              "        vertical-align: top;\n",
              "    }\n",
              "\n",
              "    .dataframe thead th {\n",
              "        text-align: right;\n",
              "    }\n",
              "</style>\n",
              "<table border=\"1\" class=\"dataframe\">\n",
              "  <thead>\n",
              "    <tr style=\"text-align: right;\">\n",
              "      <th></th>\n",
              "      <th>DrDoeg</th>\n",
              "      <th>Mono</th>\n",
              "      <th>Homie</th>\n",
              "      <th>jojo</th>\n",
              "      <th>Captain</th>\n",
              "      <th>Ro</th>\n",
              "      <th>Xdos</th>\n",
              "    </tr>\n",
              "  </thead>\n",
              "  <tbody>\n",
              "    <tr>\n",
              "      <th>DrDoeg</th>\n",
              "      <td>dada</td>\n",
              "      <td>dada</td>\n",
              "      <td>dada</td>\n",
              "      <td>dada</td>\n",
              "      <td>dada</td>\n",
              "      <td>dada</td>\n",
              "      <td>dada</td>\n",
              "    </tr>\n",
              "    <tr>\n",
              "      <th>Mono</th>\n",
              "      <td>dada</td>\n",
              "      <td>dada</td>\n",
              "      <td>dada</td>\n",
              "      <td>dada</td>\n",
              "      <td>dada</td>\n",
              "      <td>dada</td>\n",
              "      <td>dada</td>\n",
              "    </tr>\n",
              "    <tr>\n",
              "      <th>Homie</th>\n",
              "      <td>dada</td>\n",
              "      <td>dada</td>\n",
              "      <td>dada</td>\n",
              "      <td>dada</td>\n",
              "      <td>dada</td>\n",
              "      <td>dada</td>\n",
              "      <td>dada</td>\n",
              "    </tr>\n",
              "    <tr>\n",
              "      <th>jojo</th>\n",
              "      <td>dada</td>\n",
              "      <td>dada</td>\n",
              "      <td>dada</td>\n",
              "      <td>dada</td>\n",
              "      <td>dada</td>\n",
              "      <td>dada</td>\n",
              "      <td>dada</td>\n",
              "    </tr>\n",
              "    <tr>\n",
              "      <th>Captain</th>\n",
              "      <td>dada</td>\n",
              "      <td>dada</td>\n",
              "      <td>dada</td>\n",
              "      <td>dada</td>\n",
              "      <td>dada</td>\n",
              "      <td>dada</td>\n",
              "      <td>dada</td>\n",
              "    </tr>\n",
              "    <tr>\n",
              "      <th>Ro</th>\n",
              "      <td>dada</td>\n",
              "      <td>dada</td>\n",
              "      <td>dada</td>\n",
              "      <td>dada</td>\n",
              "      <td>dada</td>\n",
              "      <td>dada</td>\n",
              "      <td>dada</td>\n",
              "    </tr>\n",
              "    <tr>\n",
              "      <th>Xdos</th>\n",
              "      <td>yo bro</td>\n",
              "      <td>dada</td>\n",
              "      <td>dada</td>\n",
              "      <td>dada</td>\n",
              "      <td>dada</td>\n",
              "      <td>dada</td>\n",
              "      <td>dada</td>\n",
              "    </tr>\n",
              "  </tbody>\n",
              "</table>\n",
              "</div>\n",
              "      <button class=\"colab-df-convert\" onclick=\"convertToInteractive('df-e7de17d2-ce5f-4bc0-83ac-5b541216bc62')\"\n",
              "              title=\"Convert this dataframe to an interactive table.\"\n",
              "              style=\"display:none;\">\n",
              "        \n",
              "  <svg xmlns=\"http://www.w3.org/2000/svg\" height=\"24px\"viewBox=\"0 0 24 24\"\n",
              "       width=\"24px\">\n",
              "    <path d=\"M0 0h24v24H0V0z\" fill=\"none\"/>\n",
              "    <path d=\"M18.56 5.44l.94 2.06.94-2.06 2.06-.94-2.06-.94-.94-2.06-.94 2.06-2.06.94zm-11 1L8.5 8.5l.94-2.06 2.06-.94-2.06-.94L8.5 2.5l-.94 2.06-2.06.94zm10 10l.94 2.06.94-2.06 2.06-.94-2.06-.94-.94-2.06-.94 2.06-2.06.94z\"/><path d=\"M17.41 7.96l-1.37-1.37c-.4-.4-.92-.59-1.43-.59-.52 0-1.04.2-1.43.59L10.3 9.45l-7.72 7.72c-.78.78-.78 2.05 0 2.83L4 21.41c.39.39.9.59 1.41.59.51 0 1.02-.2 1.41-.59l7.78-7.78 2.81-2.81c.8-.78.8-2.07 0-2.86zM5.41 20L4 18.59l7.72-7.72 1.47 1.35L5.41 20z\"/>\n",
              "  </svg>\n",
              "      </button>\n",
              "      \n",
              "  <style>\n",
              "    .colab-df-container {\n",
              "      display:flex;\n",
              "      flex-wrap:wrap;\n",
              "      gap: 12px;\n",
              "    }\n",
              "\n",
              "    .colab-df-convert {\n",
              "      background-color: #E8F0FE;\n",
              "      border: none;\n",
              "      border-radius: 50%;\n",
              "      cursor: pointer;\n",
              "      display: none;\n",
              "      fill: #1967D2;\n",
              "      height: 32px;\n",
              "      padding: 0 0 0 0;\n",
              "      width: 32px;\n",
              "    }\n",
              "\n",
              "    .colab-df-convert:hover {\n",
              "      background-color: #E2EBFA;\n",
              "      box-shadow: 0px 1px 2px rgba(60, 64, 67, 0.3), 0px 1px 3px 1px rgba(60, 64, 67, 0.15);\n",
              "      fill: #174EA6;\n",
              "    }\n",
              "\n",
              "    [theme=dark] .colab-df-convert {\n",
              "      background-color: #3B4455;\n",
              "      fill: #D2E3FC;\n",
              "    }\n",
              "\n",
              "    [theme=dark] .colab-df-convert:hover {\n",
              "      background-color: #434B5C;\n",
              "      box-shadow: 0px 1px 3px 1px rgba(0, 0, 0, 0.15);\n",
              "      filter: drop-shadow(0px 1px 2px rgba(0, 0, 0, 0.3));\n",
              "      fill: #FFFFFF;\n",
              "    }\n",
              "  </style>\n",
              "\n",
              "      <script>\n",
              "        const buttonEl =\n",
              "          document.querySelector('#df-e7de17d2-ce5f-4bc0-83ac-5b541216bc62 button.colab-df-convert');\n",
              "        buttonEl.style.display =\n",
              "          google.colab.kernel.accessAllowed ? 'block' : 'none';\n",
              "\n",
              "        async function convertToInteractive(key) {\n",
              "          const element = document.querySelector('#df-e7de17d2-ce5f-4bc0-83ac-5b541216bc62');\n",
              "          const dataTable =\n",
              "            await google.colab.kernel.invokeFunction('convertToInteractive',\n",
              "                                                     [key], {});\n",
              "          if (!dataTable) return;\n",
              "\n",
              "          const docLinkHtml = 'Like what you see? Visit the ' +\n",
              "            '<a target=\"_blank\" href=https://colab.research.google.com/notebooks/data_table.ipynb>data table notebook</a>'\n",
              "            + ' to learn more about interactive tables.';\n",
              "          element.innerHTML = '';\n",
              "          dataTable['output_type'] = 'display_data';\n",
              "          await google.colab.output.renderOutput(dataTable, element);\n",
              "          const docLink = document.createElement('div');\n",
              "          docLink.innerHTML = docLinkHtml;\n",
              "          element.appendChild(docLink);\n",
              "        }\n",
              "      </script>\n",
              "    </div>\n",
              "  </div>\n",
              "  "
            ],
            "text/plain": [
              "         DrDoeg  Mono Homie  jojo Captain    Ro  Xdos\n",
              "DrDoeg     dada  dada  dada  dada    dada  dada  dada\n",
              "Mono       dada  dada  dada  dada    dada  dada  dada\n",
              "Homie      dada  dada  dada  dada    dada  dada  dada\n",
              "jojo       dada  dada  dada  dada    dada  dada  dada\n",
              "Captain    dada  dada  dada  dada    dada  dada  dada\n",
              "Ro         dada  dada  dada  dada    dada  dada  dada\n",
              "Xdos     yo bro  dada  dada  dada    dada  dada  dada"
            ]
          },
          "metadata": {},
          "execution_count": 42
        }
      ]
    },
    {
      "cell_type": "code",
      "source": [
        "dataframe2 = pd.DataFrame(sheet2.get_all_records())\n",
        "dataframe2.index=dataframe2.columns\n",
        "dataframe2"
      ],
      "metadata": {
        "colab": {
          "base_uri": "https://localhost:8080/",
          "height": 269
        },
        "id": "u5cVM59SwqoR",
        "outputId": "25f5776b-06cb-4587-cd36-740d383c2dd7"
      },
      "execution_count": 41,
      "outputs": [
        {
          "output_type": "execute_result",
          "data": {
            "text/html": [
              "\n",
              "  <div id=\"df-28e477fa-1c38-47b6-8938-c17a1323c099\">\n",
              "    <div class=\"colab-df-container\">\n",
              "      <div>\n",
              "<style scoped>\n",
              "    .dataframe tbody tr th:only-of-type {\n",
              "        vertical-align: middle;\n",
              "    }\n",
              "\n",
              "    .dataframe tbody tr th {\n",
              "        vertical-align: top;\n",
              "    }\n",
              "\n",
              "    .dataframe thead th {\n",
              "        text-align: right;\n",
              "    }\n",
              "</style>\n",
              "<table border=\"1\" class=\"dataframe\">\n",
              "  <thead>\n",
              "    <tr style=\"text-align: right;\">\n",
              "      <th></th>\n",
              "      <th>DrDoeg</th>\n",
              "      <th>Mono</th>\n",
              "      <th>Homie</th>\n",
              "      <th>jojo</th>\n",
              "      <th>Captain</th>\n",
              "      <th>Ro</th>\n",
              "      <th>Xdos</th>\n",
              "    </tr>\n",
              "  </thead>\n",
              "  <tbody>\n",
              "    <tr>\n",
              "      <th>DrDoeg</th>\n",
              "      <td>dada</td>\n",
              "      <td>dada</td>\n",
              "      <td>dada</td>\n",
              "      <td>dada</td>\n",
              "      <td>dada</td>\n",
              "      <td>dada</td>\n",
              "      <td>dada</td>\n",
              "    </tr>\n",
              "    <tr>\n",
              "      <th>Mono</th>\n",
              "      <td>dada</td>\n",
              "      <td>dada</td>\n",
              "      <td>dada</td>\n",
              "      <td>dada</td>\n",
              "      <td>dada</td>\n",
              "      <td>dada</td>\n",
              "      <td>dada</td>\n",
              "    </tr>\n",
              "    <tr>\n",
              "      <th>Homie</th>\n",
              "      <td>dada</td>\n",
              "      <td>dada</td>\n",
              "      <td>dada</td>\n",
              "      <td>dada</td>\n",
              "      <td>dada</td>\n",
              "      <td>dada</td>\n",
              "      <td>dada</td>\n",
              "    </tr>\n",
              "    <tr>\n",
              "      <th>jojo</th>\n",
              "      <td>dada</td>\n",
              "      <td>dada</td>\n",
              "      <td>dada</td>\n",
              "      <td>dada</td>\n",
              "      <td>dada</td>\n",
              "      <td>dada</td>\n",
              "      <td>dada</td>\n",
              "    </tr>\n",
              "    <tr>\n",
              "      <th>Captain</th>\n",
              "      <td>dada</td>\n",
              "      <td>dada</td>\n",
              "      <td>dada</td>\n",
              "      <td>dada</td>\n",
              "      <td>dada</td>\n",
              "      <td>dada</td>\n",
              "      <td>dada</td>\n",
              "    </tr>\n",
              "    <tr>\n",
              "      <th>Ro</th>\n",
              "      <td>dada</td>\n",
              "      <td>dada</td>\n",
              "      <td>dada</td>\n",
              "      <td>dada</td>\n",
              "      <td>dada</td>\n",
              "      <td>dada</td>\n",
              "      <td>dada</td>\n",
              "    </tr>\n",
              "    <tr>\n",
              "      <th>Xdos</th>\n",
              "      <td>dada</td>\n",
              "      <td>dada</td>\n",
              "      <td>dada</td>\n",
              "      <td>dada</td>\n",
              "      <td>dada</td>\n",
              "      <td>dada</td>\n",
              "      <td>dada</td>\n",
              "    </tr>\n",
              "  </tbody>\n",
              "</table>\n",
              "</div>\n",
              "      <button class=\"colab-df-convert\" onclick=\"convertToInteractive('df-28e477fa-1c38-47b6-8938-c17a1323c099')\"\n",
              "              title=\"Convert this dataframe to an interactive table.\"\n",
              "              style=\"display:none;\">\n",
              "        \n",
              "  <svg xmlns=\"http://www.w3.org/2000/svg\" height=\"24px\"viewBox=\"0 0 24 24\"\n",
              "       width=\"24px\">\n",
              "    <path d=\"M0 0h24v24H0V0z\" fill=\"none\"/>\n",
              "    <path d=\"M18.56 5.44l.94 2.06.94-2.06 2.06-.94-2.06-.94-.94-2.06-.94 2.06-2.06.94zm-11 1L8.5 8.5l.94-2.06 2.06-.94-2.06-.94L8.5 2.5l-.94 2.06-2.06.94zm10 10l.94 2.06.94-2.06 2.06-.94-2.06-.94-.94-2.06-.94 2.06-2.06.94z\"/><path d=\"M17.41 7.96l-1.37-1.37c-.4-.4-.92-.59-1.43-.59-.52 0-1.04.2-1.43.59L10.3 9.45l-7.72 7.72c-.78.78-.78 2.05 0 2.83L4 21.41c.39.39.9.59 1.41.59.51 0 1.02-.2 1.41-.59l7.78-7.78 2.81-2.81c.8-.78.8-2.07 0-2.86zM5.41 20L4 18.59l7.72-7.72 1.47 1.35L5.41 20z\"/>\n",
              "  </svg>\n",
              "      </button>\n",
              "      \n",
              "  <style>\n",
              "    .colab-df-container {\n",
              "      display:flex;\n",
              "      flex-wrap:wrap;\n",
              "      gap: 12px;\n",
              "    }\n",
              "\n",
              "    .colab-df-convert {\n",
              "      background-color: #E8F0FE;\n",
              "      border: none;\n",
              "      border-radius: 50%;\n",
              "      cursor: pointer;\n",
              "      display: none;\n",
              "      fill: #1967D2;\n",
              "      height: 32px;\n",
              "      padding: 0 0 0 0;\n",
              "      width: 32px;\n",
              "    }\n",
              "\n",
              "    .colab-df-convert:hover {\n",
              "      background-color: #E2EBFA;\n",
              "      box-shadow: 0px 1px 2px rgba(60, 64, 67, 0.3), 0px 1px 3px 1px rgba(60, 64, 67, 0.15);\n",
              "      fill: #174EA6;\n",
              "    }\n",
              "\n",
              "    [theme=dark] .colab-df-convert {\n",
              "      background-color: #3B4455;\n",
              "      fill: #D2E3FC;\n",
              "    }\n",
              "\n",
              "    [theme=dark] .colab-df-convert:hover {\n",
              "      background-color: #434B5C;\n",
              "      box-shadow: 0px 1px 3px 1px rgba(0, 0, 0, 0.15);\n",
              "      filter: drop-shadow(0px 1px 2px rgba(0, 0, 0, 0.3));\n",
              "      fill: #FFFFFF;\n",
              "    }\n",
              "  </style>\n",
              "\n",
              "      <script>\n",
              "        const buttonEl =\n",
              "          document.querySelector('#df-28e477fa-1c38-47b6-8938-c17a1323c099 button.colab-df-convert');\n",
              "        buttonEl.style.display =\n",
              "          google.colab.kernel.accessAllowed ? 'block' : 'none';\n",
              "\n",
              "        async function convertToInteractive(key) {\n",
              "          const element = document.querySelector('#df-28e477fa-1c38-47b6-8938-c17a1323c099');\n",
              "          const dataTable =\n",
              "            await google.colab.kernel.invokeFunction('convertToInteractive',\n",
              "                                                     [key], {});\n",
              "          if (!dataTable) return;\n",
              "\n",
              "          const docLinkHtml = 'Like what you see? Visit the ' +\n",
              "            '<a target=\"_blank\" href=https://colab.research.google.com/notebooks/data_table.ipynb>data table notebook</a>'\n",
              "            + ' to learn more about interactive tables.';\n",
              "          element.innerHTML = '';\n",
              "          dataTable['output_type'] = 'display_data';\n",
              "          await google.colab.output.renderOutput(dataTable, element);\n",
              "          const docLink = document.createElement('div');\n",
              "          docLink.innerHTML = docLinkHtml;\n",
              "          element.appendChild(docLink);\n",
              "        }\n",
              "      </script>\n",
              "    </div>\n",
              "  </div>\n",
              "  "
            ],
            "text/plain": [
              "        DrDoeg  Mono Homie  jojo Captain    Ro  Xdos\n",
              "DrDoeg    dada  dada  dada  dada    dada  dada  dada\n",
              "Mono      dada  dada  dada  dada    dada  dada  dada\n",
              "Homie     dada  dada  dada  dada    dada  dada  dada\n",
              "jojo      dada  dada  dada  dada    dada  dada  dada\n",
              "Captain   dada  dada  dada  dada    dada  dada  dada\n",
              "Ro        dada  dada  dada  dada    dada  dada  dada\n",
              "Xdos      dada  dada  dada  dada    dada  dada  dada"
            ]
          },
          "metadata": {},
          "execution_count": 41
        }
      ]
    },
    {
      "cell_type": "code",
      "source": [
        ""
      ],
      "metadata": {
        "id": "SQF7GYL6Shi1"
      },
      "execution_count": null,
      "outputs": []
    }
  ],
  "metadata": {
    "kernelspec": {
      "display_name": "Python 3",
      "language": "python",
      "name": "python3"
    },
    "language_info": {
      "codemirror_mode": {
        "name": "ipython",
        "version": 3
      },
      "file_extension": ".py",
      "mimetype": "text/x-python",
      "name": "python",
      "nbconvert_exporter": "python",
      "pygments_lexer": "ipython3",
      "version": "3.7.6"
    },
    "colab": {
      "name": "04_cuaderno.ipynb",
      "provenance": []
    },
    "widgets": {
      "application/vnd.jupyter.widget-state+json": {
        "94c3d5182c174e838e8f62b8702a8b3d": {
          "model_module": "@jupyter-widgets/controls",
          "model_name": "DropdownModel",
          "model_module_version": "1.5.0",
          "state": {
            "_options_labels": [
              "DrDoeg",
              "Mono",
              "Homie",
              "jojo",
              "Captain",
              "Ro",
              "Xdos"
            ],
            "_view_name": "DropdownView",
            "style": "IPY_MODEL_431ffaf97ce24439958f71dc576b2770",
            "_dom_classes": [],
            "description": "Number:",
            "_model_name": "DropdownModel",
            "index": 0,
            "_view_module": "@jupyter-widgets/controls",
            "_model_module_version": "1.5.0",
            "_view_count": null,
            "disabled": false,
            "_view_module_version": "1.5.0",
            "description_tooltip": null,
            "_model_module": "@jupyter-widgets/controls",
            "layout": "IPY_MODEL_be5040adf3b142cea578b8158cde952f"
          }
        },
        "431ffaf97ce24439958f71dc576b2770": {
          "model_module": "@jupyter-widgets/controls",
          "model_name": "DescriptionStyleModel",
          "model_module_version": "1.5.0",
          "state": {
            "_view_name": "StyleView",
            "_model_name": "DescriptionStyleModel",
            "description_width": "",
            "_view_module": "@jupyter-widgets/base",
            "_model_module_version": "1.5.0",
            "_view_count": null,
            "_view_module_version": "1.2.0",
            "_model_module": "@jupyter-widgets/controls"
          }
        },
        "be5040adf3b142cea578b8158cde952f": {
          "model_module": "@jupyter-widgets/base",
          "model_name": "LayoutModel",
          "model_module_version": "1.2.0",
          "state": {
            "_view_name": "LayoutView",
            "grid_template_rows": null,
            "right": null,
            "justify_content": null,
            "_view_module": "@jupyter-widgets/base",
            "overflow": null,
            "_model_module_version": "1.2.0",
            "_view_count": null,
            "flex_flow": null,
            "width": null,
            "min_width": null,
            "border": null,
            "align_items": null,
            "bottom": null,
            "_model_module": "@jupyter-widgets/base",
            "top": null,
            "grid_column": null,
            "overflow_y": null,
            "overflow_x": null,
            "grid_auto_flow": null,
            "grid_area": null,
            "grid_template_columns": null,
            "flex": null,
            "_model_name": "LayoutModel",
            "justify_items": null,
            "grid_row": null,
            "max_height": null,
            "align_content": null,
            "visibility": null,
            "align_self": null,
            "height": null,
            "min_height": null,
            "padding": null,
            "grid_auto_rows": null,
            "grid_gap": null,
            "max_width": null,
            "order": null,
            "_view_module_version": "1.2.0",
            "grid_template_areas": null,
            "object_position": null,
            "object_fit": null,
            "grid_auto_columns": null,
            "margin": null,
            "display": null,
            "left": null
          }
        }
      }
    }
  },
  "nbformat": 4,
  "nbformat_minor": 0
}