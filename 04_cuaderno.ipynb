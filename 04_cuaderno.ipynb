{
  "cells": [
    {
      "cell_type": "markdown",
      "metadata": {
        "id": "RQdcZFCXjaPC"
      },
      "source": [
        "<a href=\"https://colab.research.google.com/github/ProfDoeg/Colegio_Invisible/blob/master/04_cuaderno.ipynb\" target=\"_parent\"><img src=\"https://colab.research.google.com/assets/colab-badge.svg\" alt=\"Open In Colab\"/></a>"
      ]
    },
    {
      "cell_type": "markdown",
      "metadata": {
        "id": "V0ZeHUAcjaPF"
      },
      "source": [
        "# Secure Communications"
      ]
    },
    {
      "cell_type": "code",
      "source": [
        "! ls"
      ],
      "metadata": {
        "id": "PnZM-TVg1My7"
      },
      "execution_count": null,
      "outputs": []
    },
    {
      "cell_type": "code",
      "source": [
        "#! pip install cryptos"
      ],
      "metadata": {
        "id": "eflkCFwQzFMn"
      },
      "execution_count": null,
      "outputs": []
    },
    {
      "cell_type": "code",
      "execution_count": null,
      "metadata": {
        "id": "iOt3lIV-jaPG"
      },
      "outputs": [],
      "source": [
        "! pip install eciespy eth_keys gspread oauth2client\n",
        "! git clone https://github.com/ProfDoeg/Colegio_Invisible.git"
      ]
    },
    {
      "cell_type": "code",
      "source": [
        "! mkdir llaves"
      ],
      "metadata": {
        "id": "YjCzL1LVwFdw"
      },
      "execution_count": null,
      "outputs": []
    },
    {
      "cell_type": "code",
      "source": [
        "! python Colegio_Invisible/scripts/ecc_generate.py llaves/prvkey1.eck"
      ],
      "metadata": {
        "id": "knENRpKUvfyx"
      },
      "execution_count": null,
      "outputs": []
    },
    {
      "cell_type": "code",
      "source": [
        "! python Colegio_Invisible/scripts/ecc_pubkey_extract.py llaves/prvkey1.eck llaves/pubkey1.eck "
      ],
      "metadata": {
        "id": "OWfZF_rrxVZJ"
      },
      "execution_count": null,
      "outputs": []
    },
    {
      "cell_type": "code",
      "source": [
        "ret = !{ 'python Colegio_Invisible/scripts/ecc_keydump.py llaves/pubkey1.eck'}\n",
        "ret"
      ],
      "metadata": {
        "id": "LqaOEPC4yrQK"
      },
      "execution_count": null,
      "outputs": []
    },
    {
      "cell_type": "code",
      "source": [
        "pubkey1=ret[-1]\n",
        "pubkey1"
      ],
      "metadata": {
        "id": "qInALQ0e03RH"
      },
      "execution_count": null,
      "outputs": []
    },
    {
      "cell_type": "code",
      "source": [
        "! python Colegio_Invisible/scripts/aes_decrypt.py Colegio_Invisible/secrets/client_secret.aes Colegio_Invisible/secrets/client_secret.json "
      ],
      "metadata": {
        "id": "_spdugChrzcl"
      },
      "execution_count": null,
      "outputs": []
    },
    {
      "cell_type": "markdown",
      "source": [
        "https://docs.gspread.org/en/latest/user-guide.html"
      ],
      "metadata": {
        "id": "OZlTWab55ESc"
      }
    },
    {
      "cell_type": "code",
      "execution_count": null,
      "metadata": {
        "id": "mU3aBoN3jaPI"
      },
      "outputs": [],
      "source": [
        "import gspread\n",
        "from oauth2client.service_account import ServiceAccountCredentials\n",
        "# use creds to create a client to interact with the Google Drive API\n",
        "scope = ['https://spreadsheets.google.com/feeds',\n",
        "         'https://www.googleapis.com/auth/drive']\n",
        "creds = ServiceAccountCredentials.from_json_keyfile_name('Colegio_Invisible/secrets/client_secret.json', scope)\n",
        "client = gspread.authorize(creds)\n",
        "sheets = client.open(\"signatures\")"
      ]
    },
    {
      "cell_type": "code",
      "source": [
        "sheet=sheets.worksheets()[0]\n",
        "sheet.row_values(1)"
      ],
      "metadata": {
        "id": "4TpJzRis965I"
      },
      "execution_count": null,
      "outputs": []
    },
    {
      "cell_type": "code",
      "source": [
        "#sheet.clear()\n",
        "#sheet.update_cell(1, \"name\")\n",
        "#sheet.append_row([\"name\", \"pubkey\",\"statement\",\"signature\"])\n",
        "#sheet.__dir__()"
      ],
      "metadata": {
        "id": "lY-DDACNIbI2"
      },
      "execution_count": null,
      "outputs": []
    },
    {
      "cell_type": "code",
      "source": [
        "my_name=input('input name')\n",
        "my_statement=input('input statement')\n",
        "open('llaves/statement1.txt','wb').write(my_statement.encode())"
      ],
      "metadata": {
        "id": "qhFmS9bqPLVt"
      },
      "execution_count": null,
      "outputs": []
    },
    {
      "cell_type": "code",
      "source": [
        "! cat llaves/statement1.txt"
      ],
      "metadata": {
        "id": "brExuacy55Sr"
      },
      "execution_count": null,
      "outputs": []
    },
    {
      "cell_type": "code",
      "source": [
        "ret = !{ 'python Colegio_Invisible/scripts/ecc_sign.py llaves/prvkey1.eck llaves/statement1.txt llaves/sig1.sig'}\n",
        "ret"
      ],
      "metadata": {
        "id": "11kzlTsR4Ki8"
      },
      "execution_count": null,
      "outputs": []
    },
    {
      "cell_type": "code",
      "source": [
        "sig1=ret[-1]\n",
        "sig1"
      ],
      "metadata": {
        "id": "iJH9mEfO77pW"
      },
      "execution_count": null,
      "outputs": []
    },
    {
      "cell_type": "markdown",
      "source": [
        "\"name\", \"pubkey\",\"statement\",\"signature\""
      ],
      "metadata": {
        "id": "FTnfiP5B9vBv"
      }
    },
    {
      "cell_type": "code",
      "source": [
        "sheet.append_row([my_name,pubkey1,my_statement,sig1])"
      ],
      "metadata": {
        "id": "aYIkcV_rFHpO"
      },
      "execution_count": null,
      "outputs": []
    },
    {
      "cell_type": "code",
      "source": [
        "import IPython\n",
        "IPython.display.Audio(\"Colegio_Invisible/sound/bird2.wav\")"
      ],
      "metadata": {
        "id": "WTGuUEE06R-7"
      },
      "execution_count": null,
      "outputs": []
    },
    {
      "cell_type": "code",
      "source": [
        "import pandas as pd\n",
        "\n",
        "dataframe = pd.DataFrame(sheet.get_all_records())\n",
        "dataframe"
      ],
      "metadata": {
        "id": "vKL2w8CB_m9f"
      },
      "execution_count": null,
      "outputs": []
    },
    {
      "cell_type": "code",
      "source": [
        "participants=dataframe.name.tolist()\n",
        "participants"
      ],
      "metadata": {
        "id": "8VFsk0L9Bz9_"
      },
      "execution_count": null,
      "outputs": []
    },
    {
      "cell_type": "code",
      "source": [
        "sheet1=sheets.worksheets()[1]\n",
        "sheet1"
      ],
      "metadata": {
        "id": "0cA1SFS4Tuyb"
      },
      "execution_count": null,
      "outputs": []
    },
    {
      "cell_type": "code",
      "source": [
        "pd.DataFrame(sheet1.get_all_records())"
      ],
      "metadata": {
        "id": "96D4G95zT_W3"
      },
      "execution_count": null,
      "outputs": []
    },
    {
      "cell_type": "code",
      "source": [
        "#!pip install --upgrade gspread"
      ],
      "metadata": {
        "id": "UuY3r0OpXJZk"
      },
      "execution_count": null,
      "outputs": []
    },
    {
      "cell_type": "code",
      "source": [
        "df=pd.DataFrame('dada',columns=participants,index=participants)\n",
        "sheet1.update([df.columns.values.tolist()] + df.values.tolist())\n",
        "df"
      ],
      "metadata": {
        "id": "c6tM_RvpUOkH"
      },
      "execution_count": null,
      "outputs": []
    },
    {
      "cell_type": "code",
      "source": [
        ""
      ],
      "metadata": {
        "id": "MPEVR5DGK2AU"
      },
      "execution_count": null,
      "outputs": []
    },
    {
      "cell_type": "code",
      "source": [
        "dataframe1 = pd.DataFrame(sheet1.get_all_records())\n",
        "dataframe1.index=dataframe1.columns\n",
        "dataframe1"
      ],
      "metadata": {
        "id": "1JeW89rRVVNP"
      },
      "execution_count": null,
      "outputs": []
    },
    {
      "cell_type": "code",
      "source": [
        "import eth_keys\n",
        "import ecies\n"
      ],
      "metadata": {
        "id": "rIYQBHGhVY6c"
      },
      "execution_count": null,
      "outputs": []
    },
    {
      "cell_type": "code",
      "source": [
        "eth_keys.datatypes.Signature(bytes.fromhex(sig1)).verify_msg(my_statement.encode(),eth_keys.keys.PublicKey(bytes.fromhex(pubkey1)))"
      ],
      "metadata": {
        "id": "5Js8eogicdTl"
      },
      "execution_count": null,
      "outputs": []
    },
    {
      "cell_type": "code",
      "source": [
        ""
      ],
      "metadata": {
        "id": "8GkfPn5xc77Q"
      },
      "execution_count": null,
      "outputs": []
    }
  ],
  "metadata": {
    "kernelspec": {
      "display_name": "Python 3",
      "language": "python",
      "name": "python3"
    },
    "language_info": {
      "codemirror_mode": {
        "name": "ipython",
        "version": 3
      },
      "file_extension": ".py",
      "mimetype": "text/x-python",
      "name": "python",
      "nbconvert_exporter": "python",
      "pygments_lexer": "ipython3",
      "version": "3.7.6"
    },
    "colab": {
      "name": "04_cuaderno.ipynb",
      "provenance": []
    }
  },
  "nbformat": 4,
  "nbformat_minor": 0
}