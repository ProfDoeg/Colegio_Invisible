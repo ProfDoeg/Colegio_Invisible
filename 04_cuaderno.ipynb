{
  "cells": [
    {
      "cell_type": "markdown",
      "metadata": {
        "id": "RQdcZFCXjaPC"
      },
      "source": [
        "<a href=\"https://colab.research.google.com/github/ProfDoeg/Colegio_Invisible/blob/master/04_cuaderno.ipynb\" target=\"_parent\"><img src=\"https://colab.research.google.com/assets/colab-badge.svg\" alt=\"Open In Colab\"/></a>"
      ]
    },
    {
      "cell_type": "markdown",
      "metadata": {
        "id": "V0ZeHUAcjaPF"
      },
      "source": [
        "# Secure Communications\n",
        "\n",
        "# Outline \n",
        "\n",
        "Apply asymmetric cyptography to build messaging protocol.\n",
        "\n",
        "# Goals\n",
        "\n",
        "- create and save keys\n",
        "- download/upload keys\n",
        "- decrypt spreadsheet access token\n",
        "- understand `gspread`\n",
        "- post name, public key, public message, and signature \n",
        "- sign message\n",
        "- verify message\n",
        "- write message to other participants\n",
        "- write encrypted message to other participant\n",
        "- write signed and encrypted message"
      ]
    },
    {
      "cell_type": "markdown",
      "source": [
        "# Preparing the Space"
      ],
      "metadata": {
        "id": "s3aBh2Q-caF9"
      }
    },
    {
      "cell_type": "code",
      "source": [
        "! ls"
      ],
      "metadata": {
        "colab": {
          "base_uri": "https://localhost:8080/"
        },
        "id": "PnZM-TVg1My7",
        "outputId": "2f62a5f1-1b07-4f83-c409-c3d78f0f21e2"
      },
      "execution_count": 115,
      "outputs": [
        {
          "output_type": "stream",
          "name": "stdout",
          "text": [
            " Colegio_Invisible   llaves  'llaves (1).zip'   llaves.zip   sample_data\n"
          ]
        }
      ]
    },
    {
      "cell_type": "code",
      "execution_count": 116,
      "metadata": {
        "colab": {
          "base_uri": "https://localhost:8080/"
        },
        "id": "iOt3lIV-jaPG",
        "outputId": "fa4f0e01-daa4-4932-f275-25a8ceff2e57"
      },
      "outputs": [
        {
          "output_type": "stream",
          "name": "stdout",
          "text": [
            "Requirement already satisfied: eciespy in /usr/local/lib/python3.7/dist-packages (0.3.11)\n",
            "Requirement already satisfied: eth_keys in /usr/local/lib/python3.7/dist-packages (0.3.3)\n",
            "Requirement already satisfied: gspread in /usr/local/lib/python3.7/dist-packages (5.1.1)\n",
            "Requirement already satisfied: oauth2client in /usr/local/lib/python3.7/dist-packages (4.1.3)\n",
            "Requirement already satisfied: pycryptodome<4.0.0,>=3.9.9 in /usr/local/lib/python3.7/dist-packages (from eciespy) (3.12.0)\n",
            "Requirement already satisfied: coincurve<16,>=13 in /usr/local/lib/python3.7/dist-packages (from eciespy) (15.0.1)\n",
            "Requirement already satisfied: eth-utils<2.0.0,>=1.3.0 in /usr/local/lib/python3.7/dist-packages (from eth_keys) (1.10.0)\n",
            "Requirement already satisfied: eth-typing<3.0.0,>=2.2.1 in /usr/local/lib/python3.7/dist-packages (from eth_keys) (2.2.2)\n",
            "Requirement already satisfied: cffi>=1.3.0 in /usr/local/lib/python3.7/dist-packages (from coincurve<16,>=13->eciespy) (1.15.0)\n",
            "Requirement already satisfied: asn1crypto in /usr/local/lib/python3.7/dist-packages (from coincurve<16,>=13->eciespy) (1.4.0)\n",
            "Requirement already satisfied: pycparser in /usr/local/lib/python3.7/dist-packages (from cffi>=1.3.0->coincurve<16,>=13->eciespy) (2.21)\n",
            "Requirement already satisfied: cytoolz<1.0.0,>=0.10.1 in /usr/local/lib/python3.7/dist-packages (from eth-utils<2.0.0,>=1.3.0->eth_keys) (0.11.2)\n",
            "Requirement already satisfied: eth-hash<0.4.0,>=0.3.1 in /usr/local/lib/python3.7/dist-packages (from eth-utils<2.0.0,>=1.3.0->eth_keys) (0.3.2)\n",
            "Requirement already satisfied: toolz>=0.8.0 in /usr/local/lib/python3.7/dist-packages (from cytoolz<1.0.0,>=0.10.1->eth-utils<2.0.0,>=1.3.0->eth_keys) (0.11.2)\n",
            "Requirement already satisfied: google-auth>=1.12.0 in /usr/local/lib/python3.7/dist-packages (from gspread) (1.35.0)\n",
            "Requirement already satisfied: google-auth-oauthlib>=0.4.1 in /usr/local/lib/python3.7/dist-packages (from gspread) (0.4.6)\n",
            "Requirement already satisfied: six>=1.9.0 in /usr/local/lib/python3.7/dist-packages (from google-auth>=1.12.0->gspread) (1.15.0)\n",
            "Requirement already satisfied: rsa<5,>=3.1.4 in /usr/local/lib/python3.7/dist-packages (from google-auth>=1.12.0->gspread) (4.8)\n",
            "Requirement already satisfied: cachetools<5.0,>=2.0.0 in /usr/local/lib/python3.7/dist-packages (from google-auth>=1.12.0->gspread) (4.2.4)\n",
            "Requirement already satisfied: pyasn1-modules>=0.2.1 in /usr/local/lib/python3.7/dist-packages (from google-auth>=1.12.0->gspread) (0.2.8)\n",
            "Requirement already satisfied: setuptools>=40.3.0 in /usr/local/lib/python3.7/dist-packages (from google-auth>=1.12.0->gspread) (57.4.0)\n",
            "Requirement already satisfied: requests-oauthlib>=0.7.0 in /usr/local/lib/python3.7/dist-packages (from google-auth-oauthlib>=0.4.1->gspread) (1.3.0)\n",
            "Requirement already satisfied: pyasn1<0.5.0,>=0.4.6 in /usr/local/lib/python3.7/dist-packages (from pyasn1-modules>=0.2.1->google-auth>=1.12.0->gspread) (0.4.8)\n",
            "Requirement already satisfied: oauthlib>=3.0.0 in /usr/local/lib/python3.7/dist-packages (from requests-oauthlib>=0.7.0->google-auth-oauthlib>=0.4.1->gspread) (3.1.1)\n",
            "Requirement already satisfied: requests>=2.0.0 in /usr/local/lib/python3.7/dist-packages (from requests-oauthlib>=0.7.0->google-auth-oauthlib>=0.4.1->gspread) (2.23.0)\n",
            "Requirement already satisfied: chardet<4,>=3.0.2 in /usr/local/lib/python3.7/dist-packages (from requests>=2.0.0->requests-oauthlib>=0.7.0->google-auth-oauthlib>=0.4.1->gspread) (3.0.4)\n",
            "Requirement already satisfied: certifi>=2017.4.17 in /usr/local/lib/python3.7/dist-packages (from requests>=2.0.0->requests-oauthlib>=0.7.0->google-auth-oauthlib>=0.4.1->gspread) (2021.10.8)\n",
            "Requirement already satisfied: urllib3!=1.25.0,!=1.25.1,<1.26,>=1.21.1 in /usr/local/lib/python3.7/dist-packages (from requests>=2.0.0->requests-oauthlib>=0.7.0->google-auth-oauthlib>=0.4.1->gspread) (1.24.3)\n",
            "Requirement already satisfied: idna<3,>=2.5 in /usr/local/lib/python3.7/dist-packages (from requests>=2.0.0->requests-oauthlib>=0.7.0->google-auth-oauthlib>=0.4.1->gspread) (2.10)\n",
            "Requirement already satisfied: httplib2>=0.9.1 in /usr/local/lib/python3.7/dist-packages (from oauth2client) (0.17.4)\n",
            "fatal: destination path 'Colegio_Invisible' already exists and is not an empty directory.\n",
            "Requirement already satisfied: gspread in /usr/local/lib/python3.7/dist-packages (5.1.1)\n",
            "Requirement already satisfied: google-auth-oauthlib>=0.4.1 in /usr/local/lib/python3.7/dist-packages (from gspread) (0.4.6)\n",
            "Requirement already satisfied: google-auth>=1.12.0 in /usr/local/lib/python3.7/dist-packages (from gspread) (1.35.0)\n",
            "Requirement already satisfied: cachetools<5.0,>=2.0.0 in /usr/local/lib/python3.7/dist-packages (from google-auth>=1.12.0->gspread) (4.2.4)\n",
            "Requirement already satisfied: six>=1.9.0 in /usr/local/lib/python3.7/dist-packages (from google-auth>=1.12.0->gspread) (1.15.0)\n",
            "Requirement already satisfied: rsa<5,>=3.1.4 in /usr/local/lib/python3.7/dist-packages (from google-auth>=1.12.0->gspread) (4.8)\n",
            "Requirement already satisfied: pyasn1-modules>=0.2.1 in /usr/local/lib/python3.7/dist-packages (from google-auth>=1.12.0->gspread) (0.2.8)\n",
            "Requirement already satisfied: setuptools>=40.3.0 in /usr/local/lib/python3.7/dist-packages (from google-auth>=1.12.0->gspread) (57.4.0)\n",
            "Requirement already satisfied: requests-oauthlib>=0.7.0 in /usr/local/lib/python3.7/dist-packages (from google-auth-oauthlib>=0.4.1->gspread) (1.3.0)\n",
            "Requirement already satisfied: pyasn1<0.5.0,>=0.4.6 in /usr/local/lib/python3.7/dist-packages (from pyasn1-modules>=0.2.1->google-auth>=1.12.0->gspread) (0.4.8)\n",
            "Requirement already satisfied: requests>=2.0.0 in /usr/local/lib/python3.7/dist-packages (from requests-oauthlib>=0.7.0->google-auth-oauthlib>=0.4.1->gspread) (2.23.0)\n",
            "Requirement already satisfied: oauthlib>=3.0.0 in /usr/local/lib/python3.7/dist-packages (from requests-oauthlib>=0.7.0->google-auth-oauthlib>=0.4.1->gspread) (3.1.1)\n",
            "Requirement already satisfied: chardet<4,>=3.0.2 in /usr/local/lib/python3.7/dist-packages (from requests>=2.0.0->requests-oauthlib>=0.7.0->google-auth-oauthlib>=0.4.1->gspread) (3.0.4)\n",
            "Requirement already satisfied: idna<3,>=2.5 in /usr/local/lib/python3.7/dist-packages (from requests>=2.0.0->requests-oauthlib>=0.7.0->google-auth-oauthlib>=0.4.1->gspread) (2.10)\n",
            "Requirement already satisfied: certifi>=2017.4.17 in /usr/local/lib/python3.7/dist-packages (from requests>=2.0.0->requests-oauthlib>=0.7.0->google-auth-oauthlib>=0.4.1->gspread) (2021.10.8)\n",
            "Requirement already satisfied: urllib3!=1.25.0,!=1.25.1,<1.26,>=1.21.1 in /usr/local/lib/python3.7/dist-packages (from requests>=2.0.0->requests-oauthlib>=0.7.0->google-auth-oauthlib>=0.4.1->gspread) (1.24.3)\n"
          ]
        }
      ],
      "source": [
        "! pip install eciespy eth_keys gspread oauth2client\n",
        "! git clone https://github.com/ProfDoeg/Colegio_Invisible.git\n",
        "! pip install --upgrade gspread"
      ]
    },
    {
      "cell_type": "code",
      "source": [
        ""
      ],
      "metadata": {
        "id": "kjq91mtsfqAh"
      },
      "execution_count": null,
      "outputs": []
    },
    {
      "cell_type": "markdown",
      "source": [
        "# Make New Keys"
      ],
      "metadata": {
        "id": "0rXCUBbefqzQ"
      }
    },
    {
      "cell_type": "code",
      "source": [
        "! mkdir llaves"
      ],
      "metadata": {
        "id": "YjCzL1LVwFdw"
      },
      "execution_count": null,
      "outputs": []
    },
    {
      "cell_type": "code",
      "source": [
        "! python Colegio_Invisible/scripts/ecc_generate.py llaves/prvkey1.eck"
      ],
      "metadata": {
        "colab": {
          "base_uri": "https://localhost:8080/"
        },
        "id": "knENRpKUvfyx",
        "outputId": "4f6efefb-a6a4-46fe-b453-2a140a796277"
      },
      "execution_count": null,
      "outputs": [
        {
          "output_type": "stream",
          "name": "stdout",
          "text": [
            "Input password for encrypting keyfile: \n",
            "Repeat password for encrypting keyfile: \n",
            "\n",
            "Passwords match...\n",
            "Private key generation complete\n",
            "Private key encrypted and written to binary file: llaves/prvkey1.eck\n",
            "50f98f74cffdba47767b7e80b89420810f44fdee0606bc37c5d7924dc758707d07cf18dc975d36a7d65cfcdd548cbe649f58dd977fd25aa162c7f2734eada0fb\n"
          ]
        }
      ]
    },
    {
      "cell_type": "code",
      "source": [
        "! python Colegio_Invisible/scripts/ecc_pubkey_extract.py llaves/prvkey1.eck llaves/pubkey1.eck "
      ],
      "metadata": {
        "colab": {
          "base_uri": "https://localhost:8080/"
        },
        "id": "OWfZF_rrxVZJ",
        "outputId": "94841ebb-aedd-49b7-c3b0-df719dada34f"
      },
      "execution_count": null,
      "outputs": [
        {
          "output_type": "stream",
          "name": "stdout",
          "text": [
            "Input password for private key file: \n",
            "Input password for public key file: \n",
            "Repeat password for public key file: \n",
            "\n",
            "Passwords match...\n",
            "Completed public key extraction from: llaves/prvkey1.eck\n",
            "Public key encrypted and written to binary file: llaves/pubkey1.eck\n",
            "3941c6fff65d07f3fd40ab077c8ccb1a58f315b33302e7a4f25609543c82aa64e6bcc86d04bc15706ce7ff8e99fed1f329e3a7c99a0aa45d735885a8f4bcf47e55c640e4a8769f2f6273d771e79bed0c02ff54cf0511edf8face9d2f08cf701b\n"
          ]
        }
      ]
    },
    {
      "cell_type": "code",
      "source": [
        ""
      ],
      "metadata": {
        "id": "h-2IZggwf-_8"
      },
      "execution_count": null,
      "outputs": []
    },
    {
      "cell_type": "markdown",
      "source": [
        "# Saving Keys"
      ],
      "metadata": {
        "id": "psYayEMxgAWa"
      }
    },
    {
      "cell_type": "code",
      "source": [
        "! zip -r llaves.zip llaves"
      ],
      "metadata": {
        "id": "NTj5GlPKdIAb",
        "outputId": "d8f05922-ac88-4b28-c19a-a37c872a44d2",
        "colab": {
          "base_uri": "https://localhost:8080/"
        }
      },
      "execution_count": null,
      "outputs": [
        {
          "output_type": "stream",
          "name": "stdout",
          "text": [
            "  adding: llaves/ (stored 0%)\n",
            "  adding: llaves/statement1.txt (stored 0%)\n",
            "  adding: llaves/pubkey1.eck (stored 0%)\n",
            "  adding: llaves/sig1.sig (stored 0%)\n",
            "  adding: llaves/prvkey1.eck (stored 0%)\n"
          ]
        }
      ]
    },
    {
      "cell_type": "code",
      "source": [
        "from google.colab import files\n",
        "f=files.download('llaves.zip');"
      ],
      "metadata": {
        "id": "v2f9HCM9dPdf",
        "outputId": "61275054-4a59-4a93-fea5-e368a27aa3f0",
        "colab": {
          "base_uri": "https://localhost:8080/",
          "height": 17
        }
      },
      "execution_count": null,
      "outputs": [
        {
          "output_type": "display_data",
          "data": {
            "application/javascript": [
              "\n",
              "    async function download(id, filename, size) {\n",
              "      if (!google.colab.kernel.accessAllowed) {\n",
              "        return;\n",
              "      }\n",
              "      const div = document.createElement('div');\n",
              "      const label = document.createElement('label');\n",
              "      label.textContent = `Downloading \"${filename}\": `;\n",
              "      div.appendChild(label);\n",
              "      const progress = document.createElement('progress');\n",
              "      progress.max = size;\n",
              "      div.appendChild(progress);\n",
              "      document.body.appendChild(div);\n",
              "\n",
              "      const buffers = [];\n",
              "      let downloaded = 0;\n",
              "\n",
              "      const channel = await google.colab.kernel.comms.open(id);\n",
              "      // Send a message to notify the kernel that we're ready.\n",
              "      channel.send({})\n",
              "\n",
              "      for await (const message of channel.messages) {\n",
              "        // Send a message to notify the kernel that we're ready.\n",
              "        channel.send({})\n",
              "        if (message.buffers) {\n",
              "          for (const buffer of message.buffers) {\n",
              "            buffers.push(buffer);\n",
              "            downloaded += buffer.byteLength;\n",
              "            progress.value = downloaded;\n",
              "          }\n",
              "        }\n",
              "      }\n",
              "      const blob = new Blob(buffers, {type: 'application/binary'});\n",
              "      const a = document.createElement('a');\n",
              "      a.href = window.URL.createObjectURL(blob);\n",
              "      a.download = filename;\n",
              "      div.appendChild(a);\n",
              "      a.click();\n",
              "      div.remove();\n",
              "    }\n",
              "  "
            ],
            "text/plain": [
              "<IPython.core.display.Javascript object>"
            ]
          },
          "metadata": {}
        },
        {
          "output_type": "display_data",
          "data": {
            "application/javascript": [
              "download(\"download_f465e084-78c9-4862-8873-bb59c97076df\", \"llaves.zip\", 1049)"
            ],
            "text/plain": [
              "<IPython.core.display.Javascript object>"
            ]
          },
          "metadata": {}
        }
      ]
    },
    {
      "cell_type": "markdown",
      "source": [
        "# Uploading Keys"
      ],
      "metadata": {
        "id": "X8Ay9_UOgOzg"
      }
    },
    {
      "cell_type": "code",
      "source": [
        "from google.colab import files\n",
        "fu=files.upload();"
      ],
      "metadata": {
        "id": "OM3tnc6Ce8yF",
        "outputId": "edddbf0b-099f-4c67-8798-71a5177684b9",
        "colab": {
          "resources": {
            "http://localhost:8080/nbextensions/google.colab/files.js": {
              "data": "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",
              "ok": true,
              "headers": [
                [
                  "content-type",
                  "application/javascript"
                ]
              ],
              "status": 200,
              "status_text": ""
            }
          },
          "base_uri": "https://localhost:8080/",
          "height": 55
        }
      },
      "execution_count": null,
      "outputs": [
        {
          "output_type": "display_data",
          "data": {
            "text/html": [
              "\n",
              "     <input type=\"file\" id=\"files-b3376eef-fb22-4e18-8c71-11d268db5b28\" name=\"files[]\" multiple disabled\n",
              "        style=\"border:none\" />\n",
              "     <output id=\"result-b3376eef-fb22-4e18-8c71-11d268db5b28\">\n",
              "      Upload widget is only available when the cell has been executed in the\n",
              "      current browser session. Please rerun this cell to enable.\n",
              "      </output>\n",
              "      <script src=\"/nbextensions/google.colab/files.js\"></script> "
            ],
            "text/plain": [
              "<IPython.core.display.HTML object>"
            ]
          },
          "metadata": {}
        },
        {
          "output_type": "stream",
          "name": "stdout",
          "text": [
            "Saving llaves.zip to llaves (1).zip\n"
          ]
        }
      ]
    },
    {
      "cell_type": "code",
      "source": [
        "! unzip llaves.zip"
      ],
      "metadata": {
        "id": "8CZjo15bfMqI",
        "outputId": "73050bc0-cdab-4621-be48-7b8d1b56610b",
        "colab": {
          "base_uri": "https://localhost:8080/"
        }
      },
      "execution_count": null,
      "outputs": [
        {
          "output_type": "stream",
          "name": "stdout",
          "text": [
            "Archive:  llaves.zip\n",
            "replace llaves/statement1.txt? [y]es, [n]o, [A]ll, [N]one, [r]ename: y\n",
            " extracting: llaves/statement1.txt   \n",
            "replace llaves/pubkey1.eck? [y]es, [n]o, [A]ll, [N]one, [r]ename: a\n",
            "error:  invalid response [a]\n",
            "replace llaves/pubkey1.eck? [y]es, [n]o, [A]ll, [N]one, [r]ename: A\n",
            " extracting: llaves/pubkey1.eck      \n",
            " extracting: llaves/sig1.sig         \n",
            " extracting: llaves/prvkey1.eck      \n"
          ]
        }
      ]
    },
    {
      "cell_type": "markdown",
      "source": [
        "# Access Pubkey Using Script"
      ],
      "metadata": {
        "id": "tQsnoXMOiQto"
      }
    },
    {
      "cell_type": "code",
      "source": [
        "ret=!{ 'python Colegio_Invisible/scripts/ecc_keydump.py llaves/pubkey1.eck'}\n",
        "pubkey1=ret[-1]\n",
        "pubkey1"
      ],
      "metadata": {
        "colab": {
          "base_uri": "https://localhost:8080/",
          "height": 35
        },
        "id": "qInALQ0e03RH",
        "outputId": "af6cfdd4-7cf8-487b-d5dd-399019eb9c32"
      },
      "execution_count": 119,
      "outputs": [
        {
          "output_type": "execute_result",
          "data": {
            "application/vnd.google.colaboratory.intrinsic+json": {
              "type": "string"
            },
            "text/plain": [
              "'fb33714111767cf52bb4a4d7ed2d6caba5d2cbb4264b6cfe4797c2836a98376eb107207065f9f0b4ecc7b50bed3cee0628118931b648db60274268a88b40fd2d'"
            ]
          },
          "metadata": {},
          "execution_count": 119
        }
      ]
    },
    {
      "cell_type": "markdown",
      "source": [
        "# `gspread` \n",
        "\n",
        "\n",
        "## Decrypt Credentials"
      ],
      "metadata": {
        "id": "euUO0urHigI7"
      }
    },
    {
      "cell_type": "markdown",
      "source": [
        "Decrypt `client_secret.aes` using password\n",
        "\n",
        "This will be communicated over voice by DrDoeg\n",
        "\n"
      ],
      "metadata": {
        "id": "-Pu3mgzGin5K"
      }
    },
    {
      "cell_type": "code",
      "source": [
        "! python Colegio_Invisible/scripts/aes_decrypt.py Colegio_Invisible/secrets/client_secret.aes Colegio_Invisible/secrets/client_secret.json "
      ],
      "metadata": {
        "colab": {
          "base_uri": "https://localhost:8080/"
        },
        "id": "_spdugChrzcl",
        "outputId": "70892c5e-5deb-4fcc-9279-6c19d19649e5"
      },
      "execution_count": null,
      "outputs": [
        {
          "output_type": "stream",
          "name": "stdout",
          "text": [
            "Input password for decryption: \n",
            "Success: Colegio_Invisible/secrets/client_secret.aes decryption complete\n",
            "Written to: Colegio_Invisible/secrets/client_secret.json\n"
          ]
        }
      ]
    },
    {
      "cell_type": "markdown",
      "source": [
        "`gspread` is a python module for programmatic interaction with Google Sheets. \n",
        "\n",
        "All the participants will have access to the same spreadsheet in the cloud."
      ],
      "metadata": {
        "id": "2oEHDjMTnMLD"
      }
    },
    {
      "cell_type": "markdown",
      "source": [
        "https://docs.gspread.org/en/latest/user-guide.html"
      ],
      "metadata": {
        "id": "OZlTWab55ESc"
      }
    },
    {
      "cell_type": "markdown",
      "source": [
        "We use the decrypted credentials to authenticate and gain API access to the spreadsheet"
      ],
      "metadata": {
        "id": "ljlmDL7en1jB"
      }
    },
    {
      "cell_type": "code",
      "execution_count": 120,
      "metadata": {
        "id": "mU3aBoN3jaPI"
      },
      "outputs": [],
      "source": [
        "import gspread\n",
        "from oauth2client.service_account import ServiceAccountCredentials\n",
        "# use creds to create a client to interact with the Google Drive API\n",
        "scope = ['https://spreadsheets.google.com/feeds',\n",
        "         'https://www.googleapis.com/auth/drive']\n",
        "creds = ServiceAccountCredentials.from_json_keyfile_name('Colegio_Invisible/secrets/client_secret.json', scope)\n",
        "client = gspread.authorize(creds)\n",
        "sheets = client.open(\"signatures\")"
      ]
    },
    {
      "cell_type": "markdown",
      "source": [
        "Here we can see the structure of the spreadsheet and all of the layers or `Worksheet`"
      ],
      "metadata": {
        "id": "NvzeBI7Xo8R-"
      }
    },
    {
      "cell_type": "code",
      "source": [
        "sheets.worksheets()"
      ],
      "metadata": {
        "id": "Jh9kVHwao_7H",
        "outputId": "c6095a33-1908-408e-c1ad-7f8057a0c01c",
        "colab": {
          "base_uri": "https://localhost:8080/"
        }
      },
      "execution_count": 121,
      "outputs": [
        {
          "output_type": "execute_result",
          "data": {
            "text/plain": [
              "[<Worksheet 'Multi' id:0>,\n",
              " <Worksheet 'Magic' id:2092809244>,\n",
              " <Worksheet 'ChorusSignature' id:549527758>,\n",
              " <Worksheet 'StealProposal' id:858983463>,\n",
              " <Worksheet 'StealSignature' id:475665302>,\n",
              " <Worksheet 'test' id:2104752728>]"
            ]
          },
          "metadata": {},
          "execution_count": 121
        }
      ]
    },
    {
      "cell_type": "markdown",
      "source": [
        "Isolating the first sheet where we query the first row"
      ],
      "metadata": {
        "id": "wr0GwHR5pVpL"
      }
    },
    {
      "cell_type": "code",
      "source": [
        "sheet=sheets.worksheets()[0]\n",
        "sheet.row_values(1)"
      ],
      "metadata": {
        "colab": {
          "base_uri": "https://localhost:8080/"
        },
        "id": "4TpJzRis965I",
        "outputId": "582df1cc-4b23-4a94-f0ac-ab9543f047bf"
      },
      "execution_count": 122,
      "outputs": [
        {
          "output_type": "execute_result",
          "data": {
            "text/plain": [
              "['name', 'pubkey', 'statement', 'signature']"
            ]
          },
          "metadata": {},
          "execution_count": 122
        }
      ]
    },
    {
      "cell_type": "code",
      "source": [
        "#sheet.clear()\n",
        "#sheet.update_cell(1, \"name\")\n",
        "#sheet.append_row([\"name\", \"pubkey\",\"statement\",\"signature\"])\n",
        "#sheet.__dir__()"
      ],
      "metadata": {
        "id": "lY-DDACNIbI2"
      },
      "execution_count": null,
      "outputs": []
    },
    {
      "cell_type": "markdown",
      "source": [
        "On this layer we meet to post:\n",
        "\n",
        "- `name` of participant\n",
        "- `pubkey` public key of participant in hex\n",
        "- `statement` is the declaration signed by participant \n",
        "- `signature` is the ecc signature of the statement"
      ],
      "metadata": {
        "id": "bI3XiqSTp7ZV"
      }
    },
    {
      "cell_type": "code",
      "source": [
        "my_name=input('input name')\n",
        "my_statement=input('input statement')\n",
        "open('llaves/statement1.txt','wb').write(my_statement.encode())"
      ],
      "metadata": {
        "colab": {
          "base_uri": "https://localhost:8080/"
        },
        "id": "qhFmS9bqPLVt",
        "outputId": "dcbfb849-8d48-4ef3-ab2f-d7330bc0bc39"
      },
      "execution_count": 123,
      "outputs": [
        {
          "name": "stdout",
          "output_type": "stream",
          "text": [
            "input namefanny\n",
            "input statementfanny 2 the moon\n"
          ]
        },
        {
          "output_type": "execute_result",
          "data": {
            "text/plain": [
              "16"
            ]
          },
          "metadata": {},
          "execution_count": 123
        }
      ]
    },
    {
      "cell_type": "markdown",
      "source": [
        "In addition we use the python scripts to perform the cryptography"
      ],
      "metadata": {
        "id": "LDRfuR9JsXP-"
      }
    },
    {
      "cell_type": "code",
      "source": [
        "! cat llaves/statement1.txt"
      ],
      "metadata": {
        "colab": {
          "base_uri": "https://localhost:8080/"
        },
        "id": "brExuacy55Sr",
        "outputId": "f033912e-86c3-409d-e2c0-ca3330b48ee3"
      },
      "execution_count": 124,
      "outputs": [
        {
          "output_type": "stream",
          "name": "stdout",
          "text": [
            "fanny 2 the moon"
          ]
        }
      ]
    },
    {
      "cell_type": "code",
      "source": [
        "ret = !{ 'python Colegio_Invisible/scripts/ecc_sign.py llaves/prvkey1.eck llaves/statement1.txt llaves/sig1.sig'}\n",
        "sig1=ret[-1]\n",
        "sig1"
      ],
      "metadata": {
        "colab": {
          "base_uri": "https://localhost:8080/",
          "height": 35
        },
        "id": "11kzlTsR4Ki8",
        "outputId": "170cbad5-68df-4766-f29b-ee5e38b76b72"
      },
      "execution_count": 125,
      "outputs": [
        {
          "output_type": "execute_result",
          "data": {
            "application/vnd.google.colaboratory.intrinsic+json": {
              "type": "string"
            },
            "text/plain": [
              "'94850a63f119038690e5a7c78f006439d48c7002282d57fbfb6cd63436a52dcd59acc5c2f8df82b3471ed5973e23f632d980a583c27c5ba1c8b684ca7bdc15c801'"
            ]
          },
          "metadata": {},
          "execution_count": 125
        }
      ]
    },
    {
      "cell_type": "markdown",
      "source": [
        "Here we post to the Worksheet to create a roster of all the participants"
      ],
      "metadata": {
        "id": "G27NckVds8xd"
      }
    },
    {
      "cell_type": "code",
      "source": [
        "sheet.append_row([my_name,pubkey1,my_statement,sig1])"
      ],
      "metadata": {
        "colab": {
          "base_uri": "https://localhost:8080/"
        },
        "id": "aYIkcV_rFHpO",
        "outputId": "4eba0ef1-e498-41e4-afa7-23bd5bfa25a7"
      },
      "execution_count": 126,
      "outputs": [
        {
          "output_type": "execute_result",
          "data": {
            "text/plain": [
              "{'spreadsheetId': '1z_iLwzlqa_JX7AdRR3OsBeFEgvS0jVYh1oo-X23bMOY',\n",
              " 'tableRange': 'Multi!A1:D8',\n",
              " 'updates': {'spreadsheetId': '1z_iLwzlqa_JX7AdRR3OsBeFEgvS0jVYh1oo-X23bMOY',\n",
              "  'updatedCells': 4,\n",
              "  'updatedColumns': 4,\n",
              "  'updatedRange': 'Multi!A9:D9',\n",
              "  'updatedRows': 1}}"
            ]
          },
          "metadata": {},
          "execution_count": 126
        }
      ]
    },
    {
      "cell_type": "markdown",
      "source": [
        "This is a bird sound"
      ],
      "metadata": {
        "id": "1_CHaIf5tvWe"
      }
    },
    {
      "cell_type": "code",
      "source": [
        "import IPython\n",
        "IPython.display.Audio(\"Colegio_Invisible/sound/bird2.wav\")"
      ],
      "metadata": {
        "colab": {
          "base_uri": "https://localhost:8080/",
          "height": 75
        },
        "id": "WTGuUEE06R-7",
        "outputId": "3bcf0704-d808-4a1a-c5f7-1eaa5096dc50"
      },
      "execution_count": null,
      "outputs": [
        {
          "output_type": "execute_result",
          "data": {
            "text/html": [
              "\n",
              "                <audio controls=\"controls\" >\n",
              "                    <source src=\"data:audio/x-wav;base64,UklGRvEbAgBXQVZFZm10IBAAAAABAAEAESsAABErAAABAAgAZGF0YakZAgB/f39/f39/f39/f4CAgICAgICAgICAgICAf39/f39/f39/f3+AgICAgICAgICAgICAgH9/f39/f39/f39/f3+AgICAgICAgICAgIB/f39/f39/f39/f39/f4CAgICAgICAgICAgIB/f39/f39/f39/f3+AgICAgICAgICAgICAf39/f39/f39/f39/gICAgICAgICAgICAf39/f39/f39/f39/gICAgICAgICAgICAf39/f39/f39/f4CAgICAgICAgICAgH9/f39/f39/f39/f4CAgICAgICAgICAgH9/f39/f39/f39/f3+AgICAgICAgICAgICAf39/f39/f39/f39/f3+AgICAgICAgICAgICAf39/f39/f39/f39/gICAgICAgICAgICAgICAf39/f39/f39/f39/f4CAgICAgICAgICAgIB/f39/f39/f39/f3+AgICAgICAgICAgICAf39/f39/f39/f3+AgICAgICAgICAgH9/f39/f4B/f3+AgICAgICAgICAgICAgH9/f39/f39/f39/gICAgICAgICAgICAgICAf39/f39/f39/f4CAgICAgICAgICAgICAf39/f39/f39/f39/f4CAgICAgICAgICAgH9/f39/f39/f39/f3+AgICAgICAgICAgH9/f39/f39/f39/f3+AgICAgICAgICAgICAgH9/f39/f39/f39/f3+AgICAgICAgICAgH9/f39/f39/f39/f4CAgICAgICAgICAgH9/f39/f39/f4CAgICAgICAgICAf39/f39/f39/f4CAgICAgICAgICAgIB/f39/f39/f39/f4CAgICAgICAgICAgIB/f39/f3+AgH9/f39/f39/gH+AgICAgICAgICAgH9/f39/f39/f39/f4CAgICAgICAgICAgIB/f39/f39/f39/f3+AgH+AgICAgH9/gICAgICAf39/gIB/f39/f39/f3+AgICAgICAgICAgIB/f39/f39/f39/f3+AgICAgICAgICAf39/f39/f39/f4CAgICAgH9/f39/f39/f39/gICAgICAgICAgICAgH9/f39/f39/f4CAgICAgICAgICAf39/gICAgICAgICAf39/f39/f39/f39/f4CAgICAgICAgICAf4B/f39/f39/f39/f3+AgICAgICAgICAgICAgICAgICAf4B/f39/f39/f39/gICAgICAgICAgIB/f39/f39/f39/f3+AgICAgICAgICAgIB/f39/f39/f39/gICAgICAgICAgIB/f39/f39/f39/gIB/f4CAgICAgH9/f4CAgH9/f39/gIB/f39/f39/f4CAgICAgICAgICAgIB/f39/f39/f39/gICAgICAgICAgH9/f39/f39/f39/gICAgICAgICAgICAgH9/f39/f39/gICAgICAgICAf39/f39/gICAgICAgIB/f39/f39/f39/f4CAgICAgICAgICAgH9/f39/f39/f39/f4CAgICAgICAgICAgIB/f39/f3+AgH9/f4CAgICAgICAgIB/f39/gICAgH9/f4CAgIB/f39/f39/f39/gICAgIB/f3+Af39/f39/gICAgICAgICAgH9/f39/f39/f3+AgICAgICAgICAgH9/f39/f39/f3+AgICAgICAgICAgICAf39/f39/f4CAgICAgICAgICAf39/f39/f39/f4CAgICAgICAgICAf39/f39/f39/gICAgICAgICAgIB/f39/f39/f39/f4CAgH9/f4CAgICAgICAgICAf39/gIB/f39/f3+AgIB/f3+AgICAgICAf39/f39/f39/f39/f4CAgICAgICAgICAf39/f39/f39/gICAgICAgICAgIB/f39/f39/f39/f39/gICAgICAgICAgIB/f39/f39/f39/f4B/gICAgICAgICAgICAgIB/f39/f39/f4B/f39/gICAgICAgICAgIB/f39/f3+Af39/f4CAgIB/gICAgICAf39/f39/gICAgH9/gICAgH9/gH9/gH9/gICAgICAf39/gH9/f39/f39/f4B/f3+AgICAgICAgICAgIB/f39/f39/f39/gICAgICAgICAgH9/f39/f39/f3+AgICAgICAgICAf39/f3+AgICAf39/gICAgIB/f39/gICAgIB/f39/f39/gICAgICAgICAgICAgICAf4B/f39/f39/f4CAf4CAgICAgICAgICAgH9/f39/f39/f39/gICAgICAgICAgIB/f39/f39/gICAgICAgIB/f3+AgH9/f39/f4CAgICAgICAgICAgIB/f39/f39/f39/f39/f4CAgICAgICAgICAf39/f39/f39/f3+AgICAgICAgICAf39/f39/f39/f3+AgICAgICAgICAgIB/f39/f39/f39/gICAgICAgICAgICAf39/f39/f39/f39/gICAgICAgICAgICAgIB/f39/f39/f39/f3+AgICAgICAgICAgIB/f39/f39/f39/f3+AgICAgH9/gICAgICAgICAgICAgH9/f39/f39/f39/f4CAgICAgICAgICAgICAgH9/f39/f39/f39/f3+AgICAgICAgICAgICAf39/f39/f39/f39/f4CAgICAgICAgICAgIB/f39/f39/f39/gH9/f39/f39/f39/f4CAgICAgICAgICAgH9/f39/f39/f39/f4CAgICAgICAgICAgIB/f39/f39/f39/f39/f4CAgICAgICAgICAgH9/f39/f39/f39/f4CAgICAgIB/f39/gICAgICAgICAgICAf39/f39/f39/f39/f3+AgICAgICAgICAgICAf39/f39/f39/f39/f4CAgICAgICAgICAgIB/f39/f39/f39/f3+AgICAgICAgICAgICAgH9/f39/f39/f4CAgICAgH9/f39/f39/gICAgICAgICAgICAf39/f39/f39/f39/f3+AgICAgICAgICAgICAgH9/f39/f39/f39/f3+AgICAgICAgICAgH9/f39/f39/f39/f39/gICAgICAf39/f39/f4CAgICAgICAgICAf39/f39/f39/f39/gICAgICAgICAgICAgH9/f39/f39/f39/gICAgICAgICAgH+AgIB/f39/f39/f4CAgICAgICAgICAgH9/f39/gICAgIB/gICAgIB/f39/f39/f39/f4CAf4CAgICAgICAgICAgIB/f39/f39/f39/f39/gICAgICAgICAgICAf39/f39/f39/f4CAgICAgICAgICAf39/f39/f39/f3+AgICAgICAgH9/f39/f39/f3+AgICAgICAgICAgICAgIB/f39/f39/f39/f4CAgICAgICAgICAgICAf39/f39/gH9/f39/f3+AgICAgICAgICAgICAgH9/f39/f39/f39/gICAgIB/gICAgICAgICAgICAgICAgIB/f35+fn9/f39/f4CAgICAgIGAgICAgIB/f39/f35+f39/gICAgICAgICAgICAf39/f39/f3+AgIB/f4CAgICAf39/f39/f39/f4CAgICAgICAgIB/f39/f39/f39/f3+AgICAgICAgICAgICAf39/f39/f39/f39/f39/f3+AgICAgICAgICAgIB/f39/f39/f39/f39/gICAgICAgICAgICAf3+AgH9/gIB/f39/f39/f39/f39/f4CAgICAgICAgICAgICAf39/f39/f39/f39/gICAgYGBgYGAgIB/f39/fn5/f39/f3+AgICAgICAgICAgICAf39/f39/f39/f3+AgH9/f4CAgICAgICAgICAgH9/f39/gH9/f39/f39/f39/gH+AgICAgICAgICAgH9/f3+AgICAgICAgICAgH9/f39/f4CAgICAgICAgH9/f39/f39/f4CAgH9/f39/gICAgICAgICAgICAgICAf39/f39/f39/f39/f39/gICAgICAgICAgIB/f39/f39/f39/f3+AgICAgICAgICAgICAf39/f39/f39/f39/f4CAgICAgICAgICAgICAgIB/f39/f4B/f39/f39/gH+AgICAgICAgH9/f39/f39/f39/f39/gICAgICAf4CAgH9/f39/f39/f4CAgICAgICAf39/f39/f3+AgICAgH9/f3+AgICAf39/f3+Af39/f3+AgICAgICAgIB/f39/f39/fn5/f4CAgICAgICAgICAgICAf39/f35+f3+Af39/f39/gICAgYCAgICAgICAf39/f39/f39/f39/f39/gICAgYGBgICAgIB/f39/fn5+f39/f3+AgICAgIGBgYCAf3+AgH9/fn5+f39/gICAgICBgICAgIB/f39/f39/f39/gICAgIGBgYCAgH9/f39/f39/f39/fn5/gICAgYGBgYGBgIB/f39/f35+fn5/f4CAgICAgICAgICAgICAgIB/f39/f39/f39/f39/gIB/f39/f4CAgICAgYCAgH+AgH9/f39/f39+f39/gICAgICAgIGBgYF/f39/f39/f39+fn5/f3+Af4CAgYGBgYGBgYCAf35+f3+AgH9/f35+f3+AgIB/f4CBgYGBgIB/f39/f39/f39/gICAf39/f4CAgIB/f4CAgICAf39/gICAf3+AgIB/f39/f39/f4CAgICAgICAf4CAgICAgH9/gICAf39/f35+f39/gICBgYGBgIB/f39/f35+fn9/gICAgICAgICAf39/gICBgICAgIB/f39/f39+fn9/gIGCgYGAf35+fn5+f3+AgIGBgYGAgYCAf35+fn+AgYCAf35+fn9/f3+AgIGBgYGBgYB/fn59fX19f4CAgYCAgICAgICAgICBgYGBgICAf359fX19fn5/gIGCgoGBgH9/fn5/gIGBgYCAf35+fn19fn5/gIKCgoKCgYB/fn5+f3+AgIGAf39+fX19fX5/gIGDg4OCgH9+fn1+foCAgYCAgICAf39+fn5/f4CCg4OCgH9+fX19fn+AgYGBgYGBgH59fXx9fn+AgoKCgoB/f35/f4CBgYGAgICBgH59fHt8fX6Bg4SEg4GAf35/f4CAf39/f3+AgH9+fnx9fn+Bg4SEgoB/fn5+f4CAf39+fn+BgYF/fn18fX6AgoODg4GAfn5+f4CBgoF/fn1+gICAfn17fH5/goSEg4KAf35+f3+AgIB/fn5/gYGAf318fX+AgoODgoB/f39/f4CAgICAf3+AgYF/fn18fX5/gYKCgoB+fX5/gIGCgoGAf36AgoB+fXx8fX5/gIGCgYB+fX5/gYOEhIKAfn6AgoB/fXt7fH1+f4GCgYGAf3+AgIGCg4KBgH9+fn19fn5/fn5+f4CAgYGAgIGBgYCAf3+AgYCAf35/f39/f35+f4CAgYB/fn9/f3+AgYGBgYCAgICAgICAf35+fn9+fn5+fn5+gIGBgoGBgYGCgoGBf318fH1+fn9+fn9/f39/gIGCg4OCgoGAgH9/f39/fn59fHx9fn+AgYGCgoGAgICAgICAgIB/fn5+fn9/f4CAgH9+f4CBgoGBgYB/f39/f39/f4CAf39/f4B/f39/gICAf35+fn+AgYGBgYGBgIB/f39+fn9/f39/f4CAgYCAgH9/fn5/f4CAgICAgIB/f39/f39/gICAgICAf39/f3+AgICAf3+AgICAgIGAf39+fn5/f39/f39/f3+BgYGCgYGBgIB/f35+fn9/f39+f4CAgYGBgYGBgIB/f39/f35/fn5/f3+Af3+AgICBgYB/f4CAgYGAf39/f39/f39/gICBgH9/f4CAgICAf39/f39/f39/f39/f39/f39/f4B/gIGBgYGBgICAgH9+f39/f39/f3+AgICBgIB/f39/f4CAgH9/f39/f39/gICAgICAgICAgICAgIB/f39/f39/f39/f39/f4CAgICAgIGAgH9/f39+fn5/f39/f39/gICCgoGCgIGAgYB/gH9/f359fX5/f39/gICAgICAgICBgYCAgIB/fn9/fn5+fn5/gH9/gYGAgIGDgYKDgX9/f359fn9+fH5/fX5/gH9/gYB/gIKBgIGDgYCBgX9+f399fX9+fn6AgH+AgYGAgYOCgIGBf31+f319f4B+foCAf3+Af35/gYGAgYF/f4CAf4CBgX9/f39+f4GBf4CAfn1+gH9/f39+f4GBgH+AgICAgYCAgYGAf4CAf35/f35+f35+fn9/f4CBgoKCgoKBgYF/f35+fXx7fHx9fn9/gIGCgYKDgoKCgYCBgH9+fX5+fn59fn5+f3+AgIGAgIGCgoGBgICAgH9/f35+fX19fX5/f3+AgYCAgIGBgYGBgYGBgH9/f39+fn19fn1+f4CAgICAgYGBgYCAf39/f39+fn5/f4B/gH+AgYKBgICAf4CAf39+fn+AgH9/f3+BgYGBgYCAgH9/fn59fn5+fX19f4GCgoKBgYGCgYGBgH9/f35+fn5/f39/fn5+f39/gICAgYKCgYGAgIGAf319fH1+fX5+f3+BgoKCgoGBgoKAgH5+f39/fn5+f4CAgH9/fn+Af39/fn+AgH9/f4CBgoGBgH9/gIB/fn59fn9/f3+AgIKCgYGBgICBgH9+fn5/f35+fn1+f39/f35/gYODgoGAf4CBgIB/fn5/gH9/f36AgYKBgH9/gIB/gH9/gIB/fX5+f4CAgIB/f3+BgYGAgH+AgIB/f35+f4CAgIB/gIGCgYCAf3+Af39/fn5/f35+fn5/gIGAf39/gIKBgYCAgIGAgH9/f3+Af39/fn6AgIB/gICAgYF/f39/f39/f39+fn+Af39/fn+AgICAgICAgoKBgICAgYGAgH9/f4CAf359fH1/f4B/f4CBgoKBgYCAgIGAf318fH1+fn5+fn+BgoODgoKBgYGAgH5+fn5+fn1+f3+AgIB/f4CAgIGAf3+AgIB/f39/gIGAgH9+f39/gH9/f4CAgYKBgICAgIGAfn19fX5/f39+f4GCgoGAf3+AgIB/fn5/f4CAgIB/gIGBgYB/f3+AgYB/f39/gICAgH9+fn5/f35+f3+AgYGAf3+AgYCAgH9/f3+AgH9+fX5/gIB/f4CAgIKDgYCAgICBgH9+fn1+fn59fX5+f4GBgICAgYKCgYB/fn9/f39/f35/f39/gH+BgYGBgYCAgYGAgIB+fX5+fn5+fn1+f4CAgX9/gIGBgYKAf3+BgICAgH9+gICAgIB/f39/fn+Af3+AgH+AgH9/gH9/gIB+fX9/fn+BgYCBgYCBgYGAgH9/fn9/f39/f36AgYCAgIB/gIF/f4B/fn5+fn5/f3+AgYB/gIGBgoKCgICAf36AgH5+f359f4B/foCAgIGDgX+BgH+AgYB+fn58fYB/fX6Afn6BgoCAgoKAgoKBf4CAfn9/fX1+f39/gYB/gIF/foGBfn5/f36AgX9/gICAgYKBf4B/fn+AgH9/f35+gIF/f4CAf4GDgX+BgX5+gH98fX59fX+Afn5/f3+ChIKBgoF/gIOBfn9/fXx/f31+gH9+gYKBgIGBf4GCgH1+f319f399foGBgIGCgH+AgYCAgYB8fYB/fYCCf36BgYCAgoF+gIKAfn+AfHyAgX5+gYB9f4KAfoGCf3+BgX+BgoB9fn99fYCBfn+BgX+BgoB+gIB9fYGBfn6Af31/gn99gYJ/f4OCfX6Bf31/gn98fn98fIGBfX6CgoGEh4N/goN+fYGAe3l9fHp8gH98f4KBgISGgoCEhH9+g4F8fIB+enuAfnt+gn99goWAf4SFf3+EhH59gYB6fIF/enyAfXp+goB+goWAf4SFgH6Cg359g4N8e4B/e3yBgHx9goB9gYWBfoGEgH6ChH98gIJ9e35/e3p/gX59goSAgISEf36Dg35+goB6eoCAfH2CgXx+hYSAgYSBfH2Cgn1+gX56fIGAfH6CgHx+g4J+f4SDf3+CgX1+goF8fYGAfHyBgX1+goOAgISDfXyBgn18gIF8en+BfXuAgn9+g4aCfoKFgX2Ag397foF/fH6Bf3x+goJ+f4ODf36CgXx6foF+fH+Cf3x9gYKBgYKCgYB/gICBgH+AgX9+foGBfn2Agn97fYGAfX2Agn9+gYSDgYCBgH5+f4GBf319f4B/fX+CgH1+goOBf4GDg4F/gIKAfXt+gH17e36Af31+gYGBgYOEg4B/gIGAfn1+gIB9fYCBf35/gYGAf3+BgYB/f4CAf35+gIB/fX+AgX9+fn+AgH9/f4B/fn6AgoF/f4CCgYB/f4GBgICAgIB/fn+AgH9/fn5/f318fX59fX6AgoKBgYKDg4KCgYGAgH9+fX5+fXx9fX5/gICCg4OCgYKCgoGAf359fHt7e3t8fX1/gYKCgoOEhISDgoGAgIB/fn19fX19fn5+f39+fn+BgoGAgICAgIGCgYB/fn19fn5+f4B/gICAgICAgIGBgYGCgoGBgYB+fn5+f399fX1+fn1+gIGBgYB/gIKCgoGAf35+fn9/gH9/fn5/gIGCgoGAgIGBgH+Af359fn5+fn+Af39/f3+AgICAgYKBgH+AgH5+fn59fn+AgICBgYGAgYGAgYGAf4B/f35+fn5+fn9/f39+f35/f4CBgYKDgoGBgICAgIB/fn59fX5+f4B/f3+AgYKCgoGAgICAgH9/fn59e3t9fn5+f4CAgICBg4WEgoGBgIB/f35+fXx8fHx9fn+AgYGCg4OEhYSCgH9/fn19fHp4eXt+f4GBgoKCg4SFhYWEgoB+fHx9fX19fX18fX5/gYKCgoKCgoKCgoKBf318fH1+f39/fn1+f4CBgoKBgYKCgYGAfn5+fn5+f4CBgoGBgH9+fn5+f4CAf399fXx9fn+BgoODg4SEg4KAf35+fnx6ent8fX+BgoKCg4OCgoKCgoKCgH58fHx7fH1/f39/fn9/gIGCgoKCgoKBgIB/f39/f4CAf359fX5/gIB/fn1+f4OFhIJ/fHx9fn+BgoKCgX9+gIGEhIF7dXJydn2DhoiKh4WDgoGChIWGhYSCfHRtaWlveoSJi4mHg4OChIeKioeDgYF9d3BqaW13gomMjYqGg4KCgoSGhoSCgoB7cm1qa3N+iI+RjYaBfXp7foKHio2Mg3ZrZWVufIuWmpWNgnlzcnZ+h4+UkIFuX1heb4SWoJ+UiHxzcHN7hY+XmI13Y1ZTYXmRn6Sdj4F2cHB2f4mSmJSEblxSVmqEmaOhloh7c3ByeoOMkpaPfmlaVF10jqGmn5GEeHJxdXyEi5GTiHRgVVRkf5inp5uMf3ZxcXiBiI6Sjn5oV1BYb4yjraeYiXtzb3N7hYuSlIhxXVBPXnuYqq2hjoB2cHF4gouSlpF+ZVJKUWuMpbCploN3cHB2gYuSl5aHcFpOTWB+na6tnYd4cG1xfIePlZePe2NRSlNujqewp5B7cW90foqTlpaThnBbTkxbd5SnqpuGd3JzeYKLk5WVkIFqV01RZIGcqqeUfXBudHyIkpaWkot7Z1dSWG2JoKqjjXdubnR9iJCTkpCId2RZVF10jqKqoYl1bW93gouSko2IgHVlXFlgdIyfp6CMeXBweISNkpGMhYB2amFeX22DlqCgkX5xcHaDjZSTjYN9d3FpZmVqd4iWnJiLenJ0fIaOkpCIf3t3c25tbG53g42Tk4p9dnZ9h4+RjYZ9eHh4dHFvb3J8ho+SkId/eXuDjI+PioB2c3Z4dXRycnN5gIeNjouHgX1/hImLiYN6dHR5fHt6eHZ4fYKGiIiGg4B9foKHiIaBfHd4foKAfHl2dnp+gYOEhISCf35/g4eIh4N/e3t/g4J9eHR1eX+Cg4SDgX9+foCDhoeHg399e3t/g4N9eHZ3en2AgYKDgoKBgICBg4SEhIKAfXt6fYGCf3p4eHp/hIWFg4GAfn5+f3+AgYKBgIB/f4CBg4SEgHx4eHp9gIGBf39+f4CAgYOEhISCgYCAf359fX19fHx7e3t9f4KDhIOEgoGBgYGCg4OBfnx7e3t+fX1+gIB/f39/gIGCgoKBgYGBgYB/fn1+f4CAf39+fn5/fn9/gICBgYGAgIB/f3+AgYKCgYB/fn18fX5/f39+fn1+f4CBgoKCgoKBgICAf4CBgYB/fHt6e3x9fX5/gYKEhIODg4OCgoKAf317enp7fH1+f39/gICBgoKCgoKBgYCAf4CBgYB+fn5+f4CAf317e3x9f4GBgoKBgYGBgoODgoGAfn59fX1+fXx9fX1+f3+AgYGBgoKChISCgYF/fn9/fn59fHx8fHx9f4CBgoKCgoOEhIKCgH59fn18fHx8fX5+fn+Bg4OCgoKCg4OCgX59fHx8fX9/f35/gICBgYGBgYCAf39/fn19fn5+f4GCg4SDgoGAf4CBgH9+fXx7fH1/f3+AgYGBgYCBgYB/f35/f4B/f39/f3+AgH9/f39/f39/gIGCg4KBgYGAgH9+fX18fHx8fX9/gIGCgYCBgoKCgYGAf39+fX19fX6AgICAgICBgoKBgH9+fn5/f4CAgICAgICAgICAf39/fXx8fX1+fn9/gIGDhIOBgIGBgoKCgH9+fX1+fn9/fn1+f4CAgIB/f39/f39/gIGBgIB/f4CBgYB/fn5+fn5/gICAgIGCgoGCgoKBgH9+fX59fX19fX19fX+AgIGBgoODg4OBgH59fX5+f4CAf3+AgIGBgYB/fn1+f39+f39+f39/gICBgoGAf35/gIGBgH9+fXx9f4CAgYGBf3+AgYCBgYGBgYGAgH9+fn5/f39+fX19fn9/gIGBgICAgICAgYGBgH9+fX5/f39/f3+AgYGCgYGAgICAgICAf39+fn19fX5/gICAgIGAgICAgICAf4B/f39/fn1+fn+Bg4ODgoGBgICAf39/fn19fHt8fX+AgICBgYGBgYGBgoKCgYB9fX19fX5/f39/f3+AgIGBgYCAgICAgICBgYB/fn19fn5+fn9/f39/gICAgIGAgYGBgICAgICBgH9+fn5/gIB/fn5+fn+AgYGCgoGAgICAgIB/f35+fX1+f4CCgoKBgIB/f39/fn19fX59fn+ChISCgoOCgoCAf4F/fXt8fXx9fX18fn+AgYKCg4KCgoKCgoKDgoB+e3p5ent8fn9/gICAgYOEhIWEg4KAf359fn5/f35+fX5+fn19fX1/gIGCgoKBgoKDg4ODgoB/fnx7enp7fH1+gIGCgoODgoKCgoGBgH9+fn19fX5/f39/fn5/gIGBgYGAf39/gICBgIB/f3+AgICAf4CAgYGBf39+fX19fX1+f39+f4CAgYKCg4KCgoKBgIB/f35/f319fHt7fH1/gICAgYGCg4ODg4OCgoF/f359fHx8fH19fX5/gIGCg4ODhISDgYGAf39/fXx7e3t8fX+Af39/f4CBg4ODgoGBgICAgICAf39/f39/f35+fn5+f35+fn5/gIGBgYCAgYKCgYB/f359fXx9foCAgYGBgICBgYGBgYGAgH9/f4CAgIB/fn1+fn5+fn19fX+AgYKDg4KBgICAgYGBgX9+fX19fX9/gICAgH9+f4CBgYGBgICAf4CAgH9/f35+fn5+f4CAgIB/gICAf4CAf39/gIGBgYGBgoGAgIB/f39/fn19fX19fX5+f3+AgYGBgoKBgICAgIGBgH9+fX19fn9/f3+AgYGBgYGBgYGBgYGAf39/fn5+fn5/f35+fX1+f4CBgYCAgYGBgoKCgYGAf35+fX1+fn59fn+AgIGBgYGCgYKCgIB+fn5+fn9/fn5/gICAf39/f4CAgYB/f39/f3+AgICBgYKCgoGAgIB/fn19fX19fX5+fn+AgYKCgoKCgoKCgYB9fHx8fX5+fn5+f4CCg4SDg4KBgH9+fn9/f39+fn5/f4CAgYB/fX5+f4CAgIB/f4CCg4OCgH9/fn18fH19foCBgoODgoODg4F/f35+fn5+fX19fX5+f39/f4CBgYKCgYGCgoKBgH58fHx9fX1+fn5/gYOEg4ODgoKBgYCAfn5+fXx8fH1+fX5/f3+AgYKDg4OEg4KBgH99fX1+fn5+fX5+fn+AgYGBgYKCgYGBgYGBgYCAf359fHt7e3x9fn9/gICAgYKEhYWEg4F/f39/fn5+fn5+fn9/gIGCgYB/fn19fn9/f3+AgICAgICAgICBgIGBgH9/fX19fn+AgICAgIGBgYGBgYGAf359fn5/gIB/fn1+f4B/f39/f4CCgYKBgYCBgYGBgH9/f359fX1+f4CAgIB/f3+AgIGBgYGBgIGBgX9+fn5+fn5+fn9+f4CAgYGCgYGBgoGBgIB/fn1+fn5+fn5+foCBgYGCgYB/f39/f4CAf39+fn1+gIKCgYCAgoSDgX59f4GCgXx4dXd9hIiFgHp3eX+FiYqJh4N+eXd4fYSIhX1za2pzfoiOkZCMh4F+fHx+g4iLin9xZV5gbH6MlpqVjIN/e3t9goeMkYx/bF1XXW6El5+ckIV9eHh7g4mNjo6IeWddWWBxh5ienJKJgHp1d3qAh4+Ti3hjVVFfeZKiqaWainxva254hpaelHtgS0VUc5Gps6+hjHdmX2V1jqSolXVVQURcf6G2urCZfGJUV2iDoa6hg2JGQFN2m7fBuqODYlFRYHudrqOEY0U9TnKZtb+7qYtsWVVgdpSrqIxoRzZCY46xwburk3ZiW2J0jKatmnVTOTZQe6S7vbCaf2dbXW2Cna+oimRENEBlkbPBvKqMbllVX3WSrbKac04zNVWGsMbEspRzWFBacIyqtaJ6VDczS3qmwsa5nXxdUFVphaa4rIVZNy5EcqTFyLaZfGFTWGyDnbGuj2RCMDxilLvIvKKFaldXZn2Tp7Cdd1A4M016qsjIsJJ2YFdgc4qcrKiMY0IxOl6Pucu/ooRrWltqgJOjq559Vz01R3Ggw8mykHNgWWV4jpukpJJyUT07UXmjwMKqiW9hYG1+kJmbmYx0WUpHVXaatryrjXFkZXGBkJiWk4t6Y1FLUWmKp7SulnhoZ3KCj5aVjod/cmNZV190jqKqoo54bm94g42Qj4qGf3NkXVxjdoyco52Ne3FxeYSMkI+JgXx2a2VlaXSEkpmYj4N4c3WAiY+QioF6eHZxbm5xd4GKjY2Jg316e4CGiYuJhX56e3x5dXR0dn2ChIWFhIJ/fH+EiYqKh4B7fH9/enh2dXZ6foGCgoOCgH+ChYiJiIWAfH6DhH95dXJyeH2AgoOEhYSBgIGDhYiIhX97eXyBgn97eHh6fH+BgYKCgX9+fn+ChIaEgX9+fn+EhoR+eXZ3fICDg4KAfXx8fYCChIWDgX98fH5/gYSEgHx6en2AgoKCgX+Af359fX5/gIKDgoB/f4CBg4SEgn99e3p7fX1+fXx8fX9/goOEhISDg4SFhIF/fXt6enx9fX19e3x+gIKEhYWFhIKBgYGAf358e3t7e3x+fn9/gYGDhIKBgYB/gIKCgYB/fn5+fn5/f39+fn1+f4CAgYGBgH9/gIGBgYCAf4CAgIB/fn5+fn+AgYGAf35+f3+AgIGBgICAgICAgIGBgYCAfn5+fn1+fn5+gYF/gIB/f4CAgoKCgYCAgH9/f39/f359fn5+f39/f3+AgIGBgYGAf35+fn+AgYGBgoGAf39/f318e3x8fn5/gIGCgoOEhIODgoB/f39+fX18e3p7fX5/f39/gIGDg4WGhYSDgYB/fn18e3t7e3x8fX1+f4GDhIWFhYOCgYCAgIB/fXt6ent7fX5+f4CCg4KDgoKBgoGAf39+fn5/f35/f4GBgYGAf35+fn5/fn9/f36AgYKCgYGBgoKBgH9/fn59fXx8fn5/fn5+f4GDhISDgoGCgoGAfn18fH19fX5+f39/f4CBgYGBgYKBgYF/f39/fn5+f4CAgYCAgICAf4B/fn5+fn+AgYB/fn+AgoODgoB/f39/fn19fX5+fn9/f4CBgoKBgYCAgICAgIB/f35+f39/fn5+f4CAgoGBgICAgYCAf35+fn9/f3+AgYGAgH9/f39/fn5+fn5/gYKBgYGBgYGBgYCAf318fn5/f39/f35+fn5/gICAgYGCg4KCgYB/f35+fn5+fn1+f4GBgYGBgICAf4CAgH9/f35+f35/gIGAgH9+f3+BgYB/f35+fn+BgoKBgYB/f39/gIB/fn+Af39/f35+fn5+fn5+f36AgoSEhIOCgYB/fn+AgH9+fHx8fH6AgYKCgoGAgH9/gICAf359fn5+foCAgYGBgIB/gICAgYGCgH9+fn59fn5+fn6AgICAgoODg4KBf39+fX19fX19fn9/gH+BgoODg4KBgH9+fn59fX1/f35/fn9/gYKDgoGAgICAgYGAgH5+fHx8fX5/gIGBgYCAgYKDg4KBf318fH19fX6AgICAgYKBgYCBgYCBgYB/fXx9fn9/f39+fn5/gIGCgoKBgH99fX+AgYKBf319fn5+f39/gICAgYGAgICCg4OCgH99fXx9fX19fn19fX5/gIGDhISEg4GAgICAf39+fn19fX19fX1/gIGCgoGBgYKBgYCAf39+fX1+f4CAf359fX5/gIGBgoKBgYGBgoGCgYB/fnt7fH19f4CBgH+Af3+AgIGCgoKCgYB/f39+fn5+fn19fn9/gIGBgIGAgYCAgYKDg4GAf35+fn59fX19fX1+f4CBgoKCgoKBgYGBf35+fn5/fn5+fn59foCBgoKCgoGBgICAf35+f39/f35+fn5/gICAgIGBgH9/fn+AgICBgH9+fX5/f4CAgoKCgYGAgICAgYCAfn18fH1+gICAgH9/f4CBgYGAgIB/f4CBgICAf39/f39/f39+fn5+f35/gIGAgYGCgoODgoKAf318fHx9fX1+fn5+f4GCg4KCgYGAgICBgYGAgH9+fn59fn5+f3+AgYKCgYCBgYGAgH9+fX18fX5+fn+AgYKCgoKCgYGBgYB/fXt6e3x+gIGCgoKDg4ODgYGAf359fXt6ent8fX6AgoOCgoKChISDgoCAf39+fX18fH19fn9/f3+AgYGBgIGCg4OBgIB+f3+Af39/fn5+fH1+fn9/gIGAgYKCgoKDg4KCgX99fn5+fn59fX1+fn+AgYGAgIGAgYGAgICAgICAgYGBf359fX1+f39/f3+AgYGBgoKCgYCAf359fX18fn5+fn6AgYOEg4OBgYGAgH9+fXx8fH1/gIGAf4CAgYKCg4GBgH59fH1+f39/f35+fX1+gIKCgoKCg4ODgYB/fn18fX5+fn1+f4CBgYGBgYGBgYGAgH9+fn5/f35+fn59fn9/gICCgYKCgoKBgYB/f359fXx9fn9/f3+AgIGBgIGAgICAgH9/fXt8fn+AgoODgoB+fn5/gICBf39/fn5+foCAgIGCgYGBgH9+f3+BgH59fX1+f4GDg4KBgH59fX1/f4B/fn1+gYSEhYODgYF/f318fH19fXx7dXN3goqNj42KhYB/fHt7e36ChoF1aWFiboGVoKKbkIR7c3N2foeRk4dxXVJUZX+YpaecjoB3cXN6hI6Wl4p0XExLXHiWq66gi3tycHWAipCRkYx9Z1VPVGmGoKqnmIt9dG9yeYKOm52Nb1VFR2CDpbKvoIx4aWNpdoaXqKOLZ00/SGiSsLuyn4VtXFlkdYykq516WUE/WYSrwcCuk3ZdVFlqgJuqo4RdQjdJc6LCyr6mhGVSU2N7ma6ri2BALz5nmr7Kv6iJaVVVZHycs7CRYz8pNF2Svc3ErIppUlFhepm0tZhoQiozW5K+0MasiGdPTl96mra3m2lBKDBXkL3Tya+IZU1LXXqcubufa0AlLVWQwNPJrIdlTEpcepq3u59tQygwV5LD18uuiGRMSlt4l7O2nGk9JCxVksje0KyEZVFTZICXqa+bckUqKUd+tdfVto9uWFJgeJGisKeIWTYpN2Ocx9XCoHtgUVdth52vr5ZrQCosUIa61c2tiWpYV2iBlqauoH9SNCk9a6HK07qTb11XZXyUo6qmjmtFMzVSga7JxaaAZFtgdIucpJ+XgWZKP0Rdg6rAv6OBZV9neY2anZaLfGhTSU5ffZuxs6WKcmhufYyWmZCHfXFjWFVba4OZpqWYg3RxeIWQlpOLhH53bWJfYGt7i5aYkIN4dnuEjJCQjIeEf3dsZGNodIKNkpCJgHp5fIWLkJCNhX56dW9sbnF2foWIiIiEf31+g4iMjYqDe3h7e3p1dnR1eHyBhIaHhIN/gYWIiomHgX19f356dHN0d3t/goOCg4OCgIGEhoiGhH96eXyBgn55d3V2en6BhIaHh4aCgICChIWEgX16eXx/gH15eXl8gISDgoGBgYGAgICCgoKCf317e32AhISAe3h3fICEhoWDgYB/f4GBgYKCgX99enl7fYCCgX57enyAg4aGhIKAf39/f3+AgH9+fHx8fX+AgYGAgYGBgICBgoKBgH9+fn5+fn5+fn5/fn5+gIGCgoKCgYCAgICAf359fHx9fX5/gYGBgYGBgYKCg4ODgoF+fX19fnx9fX19fHx9f4CBg4OCgoODg4OCgYB/f318e3t7fX5/f3+AgYKBgoKDg4SEgX99fHt6e3x9fn5+f4CBgoOEhIOBgoKAf318fHx9fX5+fX5/f4GBg4SEg4KAf35/gICAf399fH19fn+AgICBgYGAgH9+fn59fn+AgIKBgYCAgIKDg4GAf359fH1+fn18fX5/gIGCg4KBgYKBgYB/fn19fn9/f4B/f39/f4CAf39/f3+AgIGBgoKCgoF/fn19fHt7fHx+f4CBgoOEhISDgoGAf399fX18fHx9fX5/gYKCgoKBgYCAgH9+fn59f35+f4CCg4ODgoF/fn99fX18fX5+fn5+foCChISEg4KBgYCAfn59fHx9fX19fX1+f4CAgIGBg4ODg4OCgoKBgH99fHt7fHx9fHx9f4CChISFhISCgYGAf317e3t7fH19foCBg4ODgoKCgYGBgX9+fX1+f3+AgICAf39/fn5+fn+AgoODgX9/fn9/fn19fH19fn6AgYKEhYaFg4KAfn5+fXx7fHx9fH1+gIKCg4SDg4OCgH58e3x8fX5+fn9/gICCgYGBgYCBgYGAgICAf39/f4CAf35+fn9/fn6AgIB/gICAgICBgYB/f35+fn+AgH9/f3+AgIGBgYGBgYB/fXx9f4GCgoB/f35+foCAgYGAgH9/fn+AgIGAgH5+fn5+fn+AgIGAgH9/gICBgYGBgYKBgH9/f39/f35+fXx8fX6AgYKBgYGCgoKBgYB/fX19fn5+f39/f4CAgICCgoKDgYB+fX1+fn5/f35+f4CBgoODgoGBf359fHx8fX6BgoKAf39/gIGCgoF/fnx8fX1/gYGCgYCAf3+AgYKCgoGAf359fX1+f4GBgIB+fn5/gYGAf358fX5/f4GCg4OCgYB/f3+AgICAfn19fX5+f4CAgYCBgICBgYGBgYGBgH18e3x+gIGBgH9+fn+AgYGBgIB/f35+fn+BgYGAf359fn+BgICAf35+f4CBgoKCgIB/fn5+f39/f4B/fXx9fn9/gICAf4CAgIGBgoKBgYGAf359fX1+f4CAgIB/fn5/f4CAgYGBgICAgH+AgIGAf359fH1+f4CAgIB/fn+AgYKCg4KCgYB/f359fXx9fX19fX6AgoOEhISDgoGAf39/f359fHx8e31+gIGCgoGBgYCBgYGBgYB+fHt7fX6AgoKCgYGAgICAgIGBgH9+fHt8fX6AgYGBgYGAgICBgYCAgIB/f35+f3+AgIB/f39+f3+AgH9/f4CBgYGBgYGBgIB/fn1+fn9/gIB/gICAgICAgICAgIB/fn5+fn+AgIB/f39/gH9/f4CAgYKCgoKAgH9+fn5/f39+f39/f39/f4CAgIB/f35/f3+AgYGBgYGBgIB/fn5+f4GBf39/fn+AgYCAgH9/f39/f3+AgIB/f4CAgICAf4B/f39/gIGAgICAf39/f4CAf39+f4CAgICAgIGCgYB/f35+fn5+fn9/gIGBgICAgIGBgoGAf35+fn1+fn9/f39/gIGCgYGBgYCBgICAgH59fX19fX19fn5/gIKDg4OCgoGBgoKBf359fHx8fX9/f4CAgICBgoKCgoGAf39/fn19fn5+fn5/f3+AgYCBgYGBg4KBgYGAgICAf359fX59fX19fn5/gICBgYGCgoKCgYF/f39/fn5+fn5+fX1+fn+AgYGBgoGCgoKCgYGAf359fXx8fX5+f3+Af39/f4CCg4ODgoGAf39/f3+AgH59fH19fn+BgoGAgH9/gIGBgYF/f39/gIGAgH+AgH9/fX18fH1/gICAgYGCgoKCgYF/f359fX1+f4GAgICAf4CAgH9/f4CBf317fH6BhIWEgYB+fn19f4OEg352bm94hY2OjoqFgH1+fn59gISKiH5uY11jd4yboJqPhHt0cnh+h5Obk31kUkxYc5CmqqCNfnRvcnuGjpOXk4JpVU1TaoijrqiUgHRvb3aCjJCTlIp1XE9MWniZrbClk39xaGhyfY6fpZZ3V0I/Vn6lurqrlHljWWBxhZ+wp4lgRDZEapi4wrScfmRUWGh/mrKwlmtKNT1hkrrJv6aGaVNSYnmSrLGcckszMlCCsMrHtZZzWE5acI2st6V5TzErSHyvy826m3dYTVhwja26p3pMLSZCd6zMzbqbeFlNVm+Mr72tfk0tJkN5sNDPuJVxVEpXco6tu6p+TC0nRXyz09O8mHFUR1Jsi6y6qnxKKSJCfbjZ2cCZclNIVXGRsLumdEIjIEN+uNfVu5dxVU5eepi1vaVyPyAcQHu32NKzimpSUWSCnLC7p3tIKSM+drHX1raMaVNOX3yXqLSohlY0JzhmoMzYwpt1WkxWcIyhs7KVZz0pL1WOv9XJqINjT1FnhJyxt6B0RSooR3+318+tg2VTUWaCm6mypYJVNCw+bKLL07mRbltTYHmRoaenkW1IMzVQgbHPyquDZFlbboebo6KbgmVHOkBbhq7FvqB9ZF9kdoqYnpqXhGxQQ0ZZf6S+vqOCZmFmdouZn5aPgG5ZTE5ad5avt6mMcGRpdYaUmpKIg3dqW1ZaZ4GarK2eg25pb3yLlJWNhH51al5cX22BlKGil4R0cXaBiZCQi4J+e3RrZWZrd4aSmJaMgHd2eoWLkI+He3V2c3FvcnV6gomOjoqEfnt6f4SJioeCend7fn56eXh2eX2DhYaFgn97fYGGi4yJgnx9gIF9d3VzdXl+gYOCgoF/fX6DiIuMiIJ7eHyEhoJ7d3Nzd3yAgoSEhYSBf36ChIeGg396d3t+f357e3x/gIOCgYGBgYF/fn6AgYKCgX9/gYOFhYF7eXZ3e35/f35+fn+AgoOFhYWFg4F/fX5/gIB+fHl5e35/gYGAgICCgoSEgoKCgYB+fXx7fH6AgIB/fn5+foCAgICAgH9/f3+AgYGCgoGBgYGCgIB/fnx8fHx8fX5/gYKCg4KCgYCBgYB/f39+fnx8fn+AgICAgYCAgIGBgYGAf39/gH+AgICAgICAf359fX6AgH9+fn1+f4CBgH9+fn+AgoODg4KCgH9+fn1+fX19fXx9fn6AgYOEhIOCgYCAgIGBgH9/fn18e3t7fX6AgICBgYGBgoKDgoOCgoF/fnx7fH5/gH9/fn59fn9/gH9/f4CBgoOEg4KBgH9/f399fHt7fHx9f4CBgYKCgoODg4ODgYB/fXx8fX19fn5/f4GCgoGAf4B/f39/fn5+fn9/gIGBgYGBgYCAgH+Af39/f35+f39/f4CAgIGAf4B/gYCAf35/f39/f39+fn5/gYGBgoKBgICBgH9/f39+fn9/f3+AgYGBgX9/gIB/f359fX5+f3+AgICAgIGCgoKBgIB/fn9/f4CAgYB/gH9/fn5+f39+fn5+foCChISEg4GAfn59fn5+fn5+fX1+f3+AgoODgYB/fn9/gICAgH+AgIGBgYB/f39/fn18fHx9f4CBgYGBgIGCg4ODgoGAf317ent8fX5+fn5+foCCg4aGhYSCgIB/f35+fn59fHx8e3t8foCCgoKCgYGCg4OEhISCgH59fH18fX19fHx7e3x+goOFhoWEg4ODgoKBf3x6eHh4eXt9f4CBgoKDhIWFhYSDgX9+fXx7e3x8fX5/f35/gIKCgoGBgYGAgICAgICBgIB/fn5+fn5+fn59fX1+gIKCgYGCgoKDg4GBgH9+fn59fXx8fH19fX5/gYKDg4ODgoGBgYGAf318e3p7fH1/gICBgoKCgYGAgYKCgoKBgH9+fX19fXx+f39+fXx9fn+Bg4SEg4KDg4ODgoF/fXt6eXt9fX5/f39/f4CBhIaHhoSCgH59fXt8fHx9fH19fn+AgYOEhIODgoB/f4CAgIB+fXx8fH1/f4CBgYB+fn5/gYKDgYCAgICCgoGAf35+fX18ent9foCBgYGCgoODhISEgoB+fHx8fX19fX19fH5/gIKDhIWEg4KAf35+fn5+fX19fX1+f4CAgYKDgoGAf39+f4CAgH9/f3+AgICAf39/fn59fX18fn6AgYODg4SDg4KCgYB/fn19fHt8fX5/f39/f39+f4GCgoKCgoGAgICBgH9/f35+fn59fn5+f39/f4CAgYKCgoKCgIB/gH9/fn18fX19fX5+gIKCg4OCgYCAgYGAgYB+fXt8fH5/gYGAf39+fn+AgYKDgoKBf39/gIGAgH5+fX19fHx+gIKDg4KBgYCAgH9/fn19fX19fX6AgoWGhYSCf359fn9/f319fH1+gIGCg4KBgH59fX19fn9/f3+BgYKCgoGBgYGBgYB/fn59fX5+fX19fn+AgIGCg4ODg4KBf35+fX19fX19fX1+fX+BgoODg4KDg4OCgoB/fn18fXx8fH19fX5/gICBgYGBgoKCg4KCgYB/f399fHt7e3x9fn+AgIGBg4OEhIOEg4KBf359fHt8fH19fn5+f4CAgYGCgoGAgICBgYKBf39/f4CAf35+fX1/f3+AgICAgH9/f4CBgYKBgICBgYGBgH9+fX19fHx7e3x+f4GBgoOEhIWEg4SDg4F+fHp7e3x8fH19fn5+gIGCg4KCgoCAf39/gICAf39/f35+f4CBgoGAfn18fX5/gYGBgICAgYKDg4KCgX59fHx8fHx9fn5+f3+BgoSEhISCgYCAgH9/fn19fX19fX5+f3+BgYCBgYGAgICAgYGCgYGAf39+fn5+fXx8fHx8fX+Bg4SEhISDg4KBgH5+fX18fHt7fH1+gIGCg4KDgoGBgYGBgX9+fHp7fH5/gYKCgYGBgYGBgIB/fn5+fn+AgYGBgIB/gICAf399fn+AgH9+f359foGDhYaFgn56eXuBh4eCeXFrbneCj5STj4iBenl5foSLkIl6Z1tXYXWMnaOflIh7c3F1f4uYnI52XEtHWXeYq66jkoFybG94hZKgoZByVURCWXyhtrOiindoZGx6ipOdn49zVUZFWX6iuLmqlXxnXWFugJenpY5pSjg/YY60xcGtjm5YVGB2k6yul29KMzJRga7IzL2cd1hOV26SsLadcUgsLlGEs8rMuZpzV05ZcZKwtJlsQikuVYq4z8y3lnFWT1tzlLO3m2tBJixUjL/UzLGPaU5NX3qYtbmdbEAnKVCIutTOtZJtUUpbdZW0up9tQCIlTYnB29S3kGxOTF17mbW6nms8IiRKhbrX0riSak9JXHqcu7+jbj4hI06JwNjOr4diSEhdfqC8vqBsPyYuWpXF2Muqgl1HSF58nLa1l2M4IS1dm9Di0ap/XUdNZoeitrORXjIeKlqazd/OqoFfTVJph5+0s5dlNyAnUY/F3s+thWROUGWDnLK2nW0+JCVKh7/b07ONZ1BOYn+YsLehdEMnJEV9ttjTtIxrU09igJuut6V8SyskO3Cq0dS3j21YUmN/maiyqotfOys0WpC+0cCbdV5WXnmSo6qrmXdRNjFCbZ/EyrCMa1tZaYSaqKmlj25MNzhOe6jFxaaAYVZab4yfqKSdh2lNQUVcgqe+vKB9YVhecoqaoZyUgmxXTVBhgKC2uaaFaFxicomZnpaLfmxdU1RfdpKpsaePdWZodIWUmpWLg3dsYFtcaHyRoaSah3Rsb3yJk5aPiIJ8cGViZG18jpqclIV1bm95hI2QjoiDfXZtaWtxfYqTlpGHfHVzd4CIjIyHgn56dXFwc3d+hYmJhoN+e3t9g4iJiYWAenx+fnt5eHh6fYGDg4KBgH59f4SIiYmGgX1/g4F8dnNydHl9gYKCgYCAgIKHi4yKhoF8en2Cg394cm9wdn2DhoeHhoSAf3+DiIuJg312dXh/g4J+enl4e4CCg4KCgoB/fn+AgoSGhYOAf31+gIF/e3h4eHp+gYKBgYGCgoOEhYSEgoB9fHx8fn5+fXx6enx/goWFhIF/f3+AgoOCgX9+fXx9f4CBgoKBf3x8fH5/gYKAf319fn+AgIGBgoKCgoGBgH9+gICAf318e3x+f4CBgYGBgICAgYGBgoGAfnx8fH1+f3+AgIB/gIGDgoKBgH9/f3+Afn19fn5/gYGBgYKCgYB/f35/fn59fX5/gIGAf35/gYKCgoCAgIB/gIF/fn5+fX1/gICAgICBgYCAgIGAf35+foCAf39+fn9/gYCBgH9/fn5/gICAgYCAgIGBf3+AgYB/f39/fn5/gICAgH9/gIGBgH9+fn5+f39/f3+AgYGCgYCAgIB/f39/f39/f35/gIKCgoGAf39+f4CAgIB/f3+Af4B/f4B/f319fX1+f4CBgYKCgoKCgoGBgH9/fn59fH19fn5+f4CAgICAgIGCgoOCgYB/f39/f359fX19fX1+fn+AgIGBgoSEhYWEgX9+fX19fX19fX5+fn+AgYKCgoGAf359fn5/f39/f39/f3+AgIGCgoGAf319fn+AgoOCgH5+fn+AgYCAf358fX5/gIGCgX9+fn9/f4CBf39/f3+AgYGAgICBgoKBgYF/f35+fn9/fn19fn1+gIKBgIB/f3+AgYKCgoF/fn1+f4CAf35+f3+AgYCBgYGAgH9+fn5/f4CAf3+AgYCAgYB/gYGAf39+fn5+fn5+f4CBgH9/f4CBgoODgoF/fn1+fn5+fn5+fn5/gYGCgoGBgYGAgH9/f39+fn1+fn5+f3+AgYKDg4KBgH9/f4GBgYB/fn19fX5/gIGAf318fX6AgYOCg4OCgH9/fn5/gYB/fXx8fYCBgoKCgoGAf39+fn+AgH9+fXx9f4KEhISDgX58e3t8foCAf319fn+Ag4aHhYSCf3x8fH19f4CAfn19fn+AgYOCgYB+fXx9foCBg4OCgH99fX+AgYGAf359fH1+gIGBgYGBgICAgYKCgoGAfn59fX19fn9/f39+fXx8foCCg4OCgIGCg4KCgoGBgH9+fHt8fH1/gYB/fn5/gIGCgoGBgYGAf4CBgYB/f359e3p7fH5/gICBgoOFhoWEg4KAgH9+fXx7e3p6e31+f4CAgYOFhYWDgoCAf4CAfn17e3t8fn9/gICAf4CBgYGBgoKCgYGBgYCAgH9+fX19fX19fn5+fn5/gYGCgYCAgYKCgoB/fX19fn+AgIB+fn5/f4GBgYGBgYGBgYGBgYGAf399fHx9fX1+fn5/f39/f4CBg4OCgoGBgH9/gICBgX9/fn19f4CCgYGAf4CAf3+Af39/fn19fn5+gICAgYGAgH9/f4CAgYGAgH9+fn1+f4CCg4SDgn9/f39/f39/f319fX18fH1+fn+AgYGCg4ODg4KCgH5+f35/f359fHx9fn+BgoKCgoKCgICAf39/fn5+f35+fn59fX1+f4CBgYKCgYKCgoKCgYB/fn5+fn59fXx+f4CAgYKBgICBgYGBgYB+fX59fn5/f39/f39+foCBgoKCgYCAgIGBgYB/f35/gH+Af359fX5/f4B/fn5+gYGDg4KBgH9+fn9/f39/fn18fH6AgoOEhIOCgYCAgYGAf358e3t7fH1+f4CBgYGCgYGBgoGBgIB/f35+fXx9fn+AgYGBgIB/gICCgoKCgYB/f39/f35+fX18fHx9f4CBgH+AgIGDhISCgYB/fn5+fn19fX5+foCBgoOEhISCgYGBf318fHx8fHx8fX5+f4CCg4ODgYGBgH5+fn9/f4CBgYGBgYCAgYGAgYB/fX1+fn5+fn5+fn5+gICBgYODg4KAf35+fn5/fn59fX1+gIGCgoKDg4KDgoKCgH59e3p6ent7fX5/gIGCgYKCg4SDgoGAf39/f35+fn19fX5/f39+fn+AgIKCgICBg4aHiIaCfXl6fH17d3NubnR8iI6Tk5CNhoB8enuAio6Id2RWUV53kqSpo5eIeG9vdoGQnpuIa1NDRl+Do7OwoIt4amhwfouXopuDZExASGaMrry2oYlzYmBre4ucp5yBXkU6R2yWuMS6pIZqWVtoepClp5VxUDk1UX2ow8e6n3xgU1ptiam0pX9WNixEcJ/Ayr+lf15OU2eGqriqglc1KkNwocLNwqV/XEtPZIaru6yCVzQrRnamxs/DpHtXR05jia68qHtQLipKfbDLzbqZclJJVW6Ss7yldkksLFCFttHPuJJqTUZUcJi4vKBuQiYtWI6/1M6zi2NIRVd3obu4lWU6IzRknMna0LCEW0JEWn+ovbKIVi8iP3Su0tnGoHNQQUxokbW+pXVFJidPiL3X1LuRZkpFV3agu7mYZDggLl+czNnKp39aSE9mhqa7sYxZMiIzZaHN2MakfFlKUmyLq76yi1cxHzJkn8vXxaJ5V0hSbY2twLSMWTIgNGeiy9XCnndVRk9si6u9sotZMyM4bKbR2cGZc1VJVXGQqLisiFg1Jjdln8vYwpt0Wk5Zco+isKyRZ0EsMlSJudPJqIJkU1VtiaCtsJ98UzcwQmyfxMy2kG5aUl96k6OqqZJxTTg2T32ryMerhWZWVGmEm6apooppSz1BXIasxL6jf2RYWW2GnKOflYBmTkNKYIapv7uggGVdX3KKnKKakYBrWE1RX3ybsrelh21jZ3OHlp2VjIFxY1ZVW2yGnq6ql35tanB/jZeVjYd+cWNcXGN0i52moI95b295hZCWk4mCfHRqY2Fkb3+Ol5eOgHZ1eoWNlJWQhn97dW1naGtzf4iPjomAeXh9ho6TkoyEfXx5d3Jxc3R3e3+Cg4WDg4B/g4eMjImEfHp8fHp4d3R2e3+DhYeGg398fIGGiouIgXp4fH5+fXt4dXd5fYCEhoaGg4KAgIGDgoF/fX2BgYB8e3p6foGEhYSBfn5+fn+BhYaGgXx4dnl/hYaCfnp4eX2Bg4WEg4F/fHx9gIKEhIF/fHx+gYSFhIF9e3p8fn9/f399fn+AgICAgICBgoODgX99fH1+f4CAgH9/fn5+f4CCg4OCgH9/f3+BgYB/f39/fn19fH1/gYGBf35+fn+CgoKCgoKCgX9+fn5/gIGAf35+fn+Af39/gIGBgYGAf39/fn5/f35+fn5/f4GBgYGAgICAgICBgICAgH9/f319fX9/gIGCgoGBgICAf39+fXt8fYCAgYCAgYCBgYKBgH9+f39/f35/gYGBgYGBgICAf39+fn5+f39/f35+foCAgoKBgICAgIB/fn59fn5/f4CBgYKCgoGBgoGBgH99fHx9f39/f39+fn+BgoODgoB+fn19foCBgYF/f35+f39+fn+AgYGCgoGBgoKCgoKAf399fHt8fH5+fX5+f4CBg4OCgoGBf39/gIGBf35+fn19fn5/f39/gIGBgoGCgoKCgoGBgH9+fn18fHx9fX1/f3+AgIGAgYGBgoGBgIB/gIB+fn1+f4CBgYB/fn5/gIGCg4ODgYB+fn5+fn58fHt7fH1+gIKEhISDgoKBgoOCgYB+fn17e3t7e31/gYOEhISEg4GAgH9+fn1+fn19fX5+f4CAf39/f35+fn+BgYKCg4OCgYGBgoKCgX99fXx7e3t7e3x+gIKDhISFhYWEgoB+fHx7e3t7e3x+f4GDhISDg4ODg4GAfn5+f3+Af359fHx+gIGBgYB/f35+fn6AgoKAf39+f4CBgYCAgH9/f39/fn+AgYGBgICAf39/gIGAf35+fX5/f4CAgYCAgICAgH9/f4CAgH5+fX1/gIGCgoKAgH9/gICCg4OBfnx7fH6AgYCAf358fX+AgICBgX9+fn6AgoODgoF/f39/gH9/f39/fn19fX1/gICBgoKCgYCBgYGBgYF/fXt5eXt9gIGBgH9+foGDhYWFg4GAf39+fn9+fn19fH19f4CBgYGBgIB/fn+AgIGBgH9/fn19fX5/gYGAgH9/f4GChISDgH9+f3+AgH9+fX1+f4CAf4CAgIB/f35+f4CBgYB+fn+AgYGBgH5/f3+Af35/gICBgoKBgoGAgIB/fn59fX18fH1+f4CAgYCAgICBgoODg4KAf359fn5+fn5+fn+Af39/gICCgoKCgoKBgYCAf359fHx8fHx8fX19foCBgoKDg4SEhIOBf35+f4GBf317e3t9fn+AgICAgH9/gIGCgoODgoB+fnx9fX19fH19fn19f4KEhYWEhIODgX9/f39/f358fHt7fH6AgYCBgYCAgIGCgoCAf359fn5+fX5/gICBgYGAgIGCgoGAgIB/f39/fn5/f39+fn5+f4CCg4OCgYB/f35+fn5/fnx8fH1/goSEg4KBgH9/gICBgYOCgH59fX1+f39+fX19fn+AgYGBgoKCgH9/f3+AgYF/f319fX5/f4GBgoKAgICBgYKCgX9/fn19fn9/f39/fn9/f39/f39/f3+AgICAgICAgIGBgYCAf39/f39/f39+f3+AgICBgoODgoB+fn59fX19fHx8fX6BgoKCgoKBgIGBgYGBf318fn+BgYKCgH9+fn5/f39/gH9/gIGBgYF/fn5+fn5/f39+fn1+f4CBgICCgoKDhISFg4KAfn18e3t8fH19fX5+f4CCg4ODgoGBgIB/f319fn5+fX19fn+AgYKCgoOEhIKBgH9+f4B/fn19fHx9fn9/f3+AgICBgoKCgoJ/fn19fn9/gIB/fn1+f4CBgoODhIODgoCAf358fHx8fX19fX1+f4CBgYGCgoODgoGBgICAf359fXx9fX18fX6Bg4SEg4OCgYKBgIB/fn18e3t8fn+AgICAgICAgYGBgICAf39+fn5/gIGCg4KCgH99foCBgoGAfn18fX1/f4CBgH99fX1/goSFhIOAfXt7fH1/f4GAfn5+f4CCg4ODgoF+fX6BhoiIhYB6d3l8fn57eHNyd36Gi46NiYWAfnt7foSOkIh4aFtYZ3+VoaCXinxzcHV9hpOcl4RqVUdPaYyos6mUfm1la3iHkpeakXxjUEhRbY+uuq+Xf25na3mIk5eZkH1jTkRKZIqsurOfh3FjZG9/jpukmYBfRTlGbJe5wrefgmZZXW6DmaypkGtKNjtdjLPHw66Oa1ZRXnSSq6yUbUkxN1uLtcrIspBrVFJhe5y1s5RpQis2X5K7ysGnhGJPUmaDo7mxjmA7KjtonMHMwKN+XU1TZ4Wmt6yHWTUpP2+my9LAoHtbTlVtja25p31NKSE/d67R1L2XcFNMWnSXtbujdUYlJUyEudTQtIxkSkhce6G8u5tqPyYwXpnG18qofllGSmKDp7quh1cwIjxxrdPYwppwUUpZdpi0u6F0RSUjR4G619GziWRPUmiFore2mGg7IiZQib7Vy6qDYU1UbIyou7WUYzkhKlaSw9bHpX5eTVVujam7tJFhOSQvW5TE08Wie1pLVG+NqLixjl43JDVknsvVwZpyVUtZdZSsuayHWTcpOmmgy9S8lW9VTl55laexpoZcPC48ZZnC0b2Xc1xSXnaQoaynjWlHNTlZi7fPxaR+ZFVab4ibp6mWc001Mkl3qMrNsYtqWlhphJmkqJ2CXkI1QWWUu8u6l3VgWGJ5kZ+koo9xUj89UnymwsOphmlcXG6Elp2fl4FlTUFHYoqtwbuffmhgZXmMmp6dkXpfSUFKaIysu7KYemdhaHyPnZ+cjnheTEZQa4yqt6+WeWZjbYGTnp2Wh3RgU1BYbYmhrKeTemtpdIOSmpiSh3hoW1VXZnuSoaOXg3RudIKSm5qTin5yZmBhZ3OCkJWRh3tzc3uHkJSRjYiBeG5oZ2x3g4yPi4N6dnZ7g4qNjYuIgnpycHF1foaKiYaBfHp7foKFiYmHhYB6c29wdXuBhoaEgH1+f4GEh4mJhYF9e31/fn17eXh6foGCg4OBgICAgIKEhYWBfXp7f39/fHt6fICBgoF+fXt8fYCDhoeHhoOAf4CEiIeBenRxcXh+gYKBf318fX6ChoqLioaBfXl5fICAfXl2dnh+g4WEhISDgoGCgYGBgoGAfn18fX5/gH99e3x+gIGBgICAf39/f39/gIGCg4KBf35+fn+AgIGAfn5+f39/gIB/f4CAgYB/f3+BgYCAgYGAgH9/f319fn5/f39+fn5/gICAgYKDg4ODgYB/fn9+fX19fn5+foCAgoOEg4J/fHt8fX5/f35+fn6AgoKDg4SDgX9+fX19fXx+f35+f3+BgoOCg4SEgoF/fn59fX19fnx8e31/gIGCgYGBgYGCgYGAgH9+fH18f3+DgoKBgYCAgYCBf39/fnx+e318fX9/f4CAf4F/goWEhISAgH99fn18fX5+fn+Af3+BgoGAgoKAfoB+fX1/f39+gICAgICBgYGAgn+AfoB/fnx8fn5+f4GCgoGCgoOCg4KCgIB+fHp5e3t8e35/gX9/gYSFh4eHhYOCf358fXt8e3t8e3t6fYCDg4ODg4KDg4ODg4GAfn5+fHp7e3t9f4B/f39/f4KEhISDgoB/f4CAgYGAgH9+fn59f4B/fnx7e3x+gIKCgX+AgIGCgoODg4ODgX9+fXx8fX19fX1+fn5+f4GDhIWFhIGAf35+f4CBgH57enp7fH6AgoKBf4CAgIGCgoGAf39/gH+BgYGAfn59fn6AgIGAgIB/f3+AgICAgYGBf318fX5/fn+Af3+AgICBgIGAgH+AgICAgICAgH9/fn19fn6AgIKBgYCAf39/f4CAgICAf35+f4CAgIB+fXx8fX6AgoODgoB/f3+BgoODgX57e3t8foCBgYKCgYGBgYB/f359fXx9fX59fn5/gYKDg4OCgYCAgICBgH9+fHx+f4CAgH5+f4CCg4ODgX9+fn59fn+AgH99fX1+f4GDg4OBgH9+fX5+f4CAf4B/f4CAgYKCg4KAf358fH1/gICAgH59fn5/f4GDg4KAfXx8fX+BgoF/f35+f4CBgoGBgoGBgICAgX9+fXt8fX5/fn19f4CBgoKCgYCAgIGCgYGAf359fX1/f39/f3+BgYGAgIGBgIB/fn19fX1/gICAgYGAgICAgYKCgX9+fHx9fX+AgICAf3+BgYKCg4GAf35+fn9/gIB/fn59fn+BgYF/fn5+f4CBgoGAf39/gIGCgoKAf399fX1+f39/f3+AgYKDg4KBgH9+fn9+fX19fX5/f4CBgoGAgICBgYGAfn19fn5/gIGBgoKBgICAgIF/fn18fH19fn+AgICAgICBgYKDg4OCgH9+fXx8fX5/f39+fn1+gIKDhIOCgH9/gH9/gIB/f359fX5+gIKCgoF/fXt7fH6AgYODgoB/f4CBgoSEg4F+e3p5en1/gYGBgH5+gIKEhISEg4F/fXx7fHx9fn59fX19f4GCgoOCgoKCgYGBgYGAgH99fHx9f4CAgIB/fn5/f4CAgoKCf35+fn+AgYB/f359fHx+f4GCgoKBgYKDg4ODgX99fHt8fH1/gIGBgH+AgIGBgYGAf39+fHt7fH1/gIGBgYOEhYWEhIOCgYB+e3x8fHx8e3t9fX6AgYKEhISDgoGAgYCAf39+fHp6e3x+f4CBgYGCgoODg4OCgoKBf317e31+f39/fn5/f4CBgYGBgYGAf35/f39/fn19fX+AgYKDg4KCgYGAf35/fn5+fn19fX5/gIGCg4KBgH5+f4CBgIB/fn5+f39/f319fX5/f4CAgYKDgoKBgoKCgYGAfn18fHt8fHx9fXx9gIKDhYWFhYSCgYCAgIB/fnx7enl5e31/gYGBgoKCg4ODg4KBgH9+fn9/gH9+fX19fX5+fn+AgYKCgYCAf35/gYKCgoGAfn5+fn5/gICAfn19foCCg4KAfn1+foCCgoKBf359fX9/gYGBgH9+fn+AgYKCgn9+fX1/gYKBgH99fHx+f3+AgIGDhIaGhIB9fHt8fHp2c3R4gIeMjo2MiISAfHh5f4mNh3hnWldmf5emppyMfXFtcHqFk5yXg2lTR1Brjaq0qZN9bmdteoqVnJ6Se2FORVBtj6y1qpR+bGRqd4aSmp6TfF9JQExsk7S9sZmBa2FndoeUoaKRdFU/O1J5ory9rZN3Yl1oeo2jraGCX0EzQ2iVtb+1noFmWl9xiKOyp4dfPjBCa5q7xLidgGRYXXCIo7OnhVs7LUBrnL3GuJ5/Y1ddcYumtaiDVzUoP26iw8i3mnhdVF52kq25qIBSMChDdavKyrORb1VQXXiXs7ifdUgqK0+Ft8/JrYhlUlRngqC3tZVnPiQuWZLB08alf15OVWyKqLqxjV84JjhnoMfPvJhzVUxYcpGuuqiAUi8mRHiw0dK6lW5STF16mbS3nG9DJipSir3UyqmDYE5TaYektrGSYzsmM1+WxNPEoHpbT1hxjaa1rIpdNyY3Zp3I08CeeVxSXHWQqLSng1Y0JjlonsXMuZd1W1VjfpmvuKeCVjUpPWygxcqzjm1VUWJ9l6u1poNaPDFFcqPIy7KNbVZRYnuSo66jg10/MkFrncTOuZVzXVVjepKgqqOIY0Q0O12Nt8q+n35nW2F2jJqkppR0Uzw5TXilwsKph2tcW22ElqGmnIFhRjtFapa5xrWUdWJbZXuPmqCfjXBUQ0JXgKa+vKOEa19fb4OTmp+ZhWlQQ0djiqy/t5t8aGBmeYuYmpmPe2RQSE5pjKq5sZd7aGNrfo6ZmJSLemdYUVRmgZ2trJl/bWlwgJGcm5OJfGxeWFdieI6fo5mEcmxyfYyYmpKKhHpuZWBha3yOmZmPf3Nwd4KMkZGNiIV9cmllZm9+jJWVjH90cnd/ho2PjYmGgXhwa2tueYOLjYyFf3p5fYSIi4yJgn15dnJydHZ8gYSFhYOBgICBhIiKiYaBfHl6e3p4eHd3e3+Cg4WGhIJ/gIKGh4mGgHt4e35+fHp4dnl8gIGCg4SEgoGChIaGhIB9enl+hIOAe3Z0eHyAg4aGhYKAfn5/g4WHhH96eHh9g4WDfnp3eHuAgoOCgYGBgYGBgoOEhIKBf359f39/fXt5eXp8foCAgoKDg4SEhIOCgH9+fX18fX18fH1+f4GCg4ODgoGAgH59f4GBgIB/fXx9f4GCgoKBf358fHx9f4GCgYB+fX6BhIWFhIGAf39+fX19fX19fXx9foCChISEg4OBgYB/fn+AgH9+fHx8fX1+f3+AgYB/fn6AgoOEg4OCgH9/f35/f4CAf318fH1/gIGBgYKAgH58fX+BgYKCgX59fH1+gIKBgH9+fX6AgoOEg4KAf3+AgH9+f39+fn5+fX5/gIGBgYB/f39+f35+f35/fn+AgYKDhISCgH9+fn5/gH9+fXx8fX5/gIKCgoKBgX9/f35/gH9/fn5+fn+AgICAgYCBgYGAgICAgH9/fn1+f4CAgICAgH9/f3+AgIB/f39/fn5+f4CBgoGAgH9/gIGCgYB/fn18fH1+f4CBgoKCgoKCgYGAgIB+fXx8fHx9fX5+f4CBgoKCgoKCgYCAgICAgH9+fXx8fX+AgIGBgYGAgYCBgoGCgX99fHx8fX5/gIB/f36AgYODg4KAfn5+f39/f39/gH9/f35/gIGBgYGBgYF/fn5+f39/f39+fn5/gIGCg4OCgoKBgYCAf359fHt6enx9f3+BgoODhISEhISDgoB+fXx7e3t6e3t9gIGCgoGBgoODg4OCgYB+fn19fn5/fn5+fX5+f4CAgICBg4OCgYCBgYKDgYB+fHt7fX1+f3+AgYCAfn5/gIKBgYB/gH9/fn6AgIGBgIGBgIGAgYGBgoGAfXx8ent9foB/f39/gIGChISFg4F/fX59fn9/f359fXx+f4CBgoODgoF/f39/gYCAgX9/fn5/f3+AgH9+fXx7fH1/goKCgICAgYODhIWDg4B/fXt8fH1+fHx8e319gIKEhoaGhYKBfn5+foB+fHt5eXp8gIGDg4ODgYGBgYGBgoB+fXt7fX6AgYKCgYF/fn5/gICAgYB/fnx9fH2AgIKBgIB/gIKEhYOCgH19e3x9fICAgYB+f35/gYKEgoGAfn59fX+AgoOCgX9+fXx8fH19foB/gIGAgYKDhYWEgoB/fn5+fn9/fn17e3t9f4CCgoGBgIKCgYOBgX99fn1/gICAgIB9fX1+gIGCgoGBgH5+fn5/f4B/f35+fn+AgYKDg4KCgYB/f35+fX5+fn19fH19f4GCg4ODgoKCgYGBf35+f359fXx8fX6AgICAgICBgYKCgoKCgYGAf35+fn5/f35/fn19fHx9fn9/gYGDhIWGhYWEg4F/fnx6eXh4eHl7fn+AgoOFhoiIh4WCgH58e3t7e3p6ent9f4GChISEhISEgoF/fn5/fn58e3t7fH2AgYGCgoKCgoKCgoGBf358fHx8fH1+f4CBgoKCgYGBgYGCgoB/fn18fHx8fH1+f3+AgICBgoSFhoSCgH59fn+Af318e3p7fH1/gICAgYKDhIODgoKCgYB/fn18e3p8fX5/f4CBgYGCg4ODgYCAf359fX1+fn5/gIGBgoKCgYCAfn1+fn5+f39+fn5+foCBg4KCgYGCgYGAgIB/f318fX1+fXx9f4CAgYKBgoKDg4KCgICAf318fHx9fn5+fn19f4CCgoKBgYGBgoKDgoKBfn19fXx9fX9/f35+fn5/gIGBgYCAgICAgYGBgoKCgYB+fXx8fH19fn9/f4B/gIKEhYSCgX59fX1+f39/f35+fn+AgYKCgH5+fn6AgoODgoB/f3+AgYB/fn59fX1+fn9/gIKCgoKBgH9/fn+AgICAgH59fX1+f4GBgoKBf39/gICCg4KAfnt6fH5/gICAfn+AgYKDhISEgoB+fHx8fX1+fX19foCBgoKCgYCAgICAf39/fn+Af3+AgH9/f39/gICAgICAgYCAgIB/fn9/f39+fn5/gICAf39+f4CBgYGAfX1+gIODgoKBf35+fn9/f39/f35+f4CCgYF+fXx9foCBgoKBgIB/gH+AgIGAfn18fX9/fn19f4SJioaBe3l7gIaIgnpybWxyfIiSlZKLgXh0d3+KkZCEcWJcY3OGlZiSi4R+foGDhYeIjIh6bF9YXG6EmKGcj4V+enyBhoiJjIuAb15TVGR/maqpm4h6c3J6g4qNjo2EcV1QT157m6+wo5B/c25ye4OKlJWHb1lIR1x9oLW0pJF+bmlwfIiXn5d/Ykk+S2qQr7mumoRxZ2p2hZWjoIlqTjxDYYiqurKchnJlZ3GAj5+klHZXQT9WfaS8uqaMdWVibHuMnKWZfVxBOEpynLvCsph/amBmdYaaqJ+CX0EzQWiVusS2nIFrYGZ2iZyrpIZgQDA+ZZS4xLSYfWphaHmLnKmkiWRFND5ij7XDtJl+aV9mdomZqKaOakk1PV+NtcS4nH9rX2Nzhpinp5BsSjU4WYmzxryhgmxeYHCFmKipk29MNTdXh7LHvaCAaV5ic4iZp6eTb002N1WEsMe+oYBpXWJyh5aipJNzUjs4UX6qxsOpiHFkZHGEkZuhlntaQDVFbJm7w7CRd2hkcIKUnqWdg2FEND1hj7TDtJV6amVtgJGcpKGMa0w4O1iFrMG5nH1qYmd4i5efoZN1VkE8T3ehvcCoiXFmZHKElJyfmYNkSjxDYYqsvbGWemtnb4CQmp6fk3ZZRD1MbpaxuKaKc2pqdYaUmZ2aiW5WRkddgKG1s5yAbWZpd4eTmJmTgWpVTFFnh6SyrZZ8bGhufYuUlpWMemVVT1VsiaKuqZWAcW92go2Tk4+FdmRYVFpshZqlo5SCc292gYuSk5CIempfWV1sgZWhoJSDdG9zf4uSk5CIfG5lYGFtfo+am5OHenJzfIaOj46Ge29nZGdxfoqTlZGJgXl3fIWKjYuGfHRtamxzfISKjIqHg35+f4OFiIiGgnx1cW9xd36EhoiGgoB/gIOGiIiFgn99eXZ0dHd8gIKDg4KBgYKEhoaGhIJ/fn9/fnt5eHh7f4GAgICAgH9/gIOEhoaDgX9+gYKBfXp5en1+f39/fn5/f3+Ag4aIh4SAfXt+hIWCfHd0dHh9gYKDg4KCgYCAgoSGhoWAfHl5fYKDgH16eHp9gYKDgoGCgX9/f3+AgoODgX59fn+BgoB+fX19fn9/f3+AgYGBgYGBgoGBgYB/f39+fn18e3x9foCCgoODg4KCgoKDgoB/fXt6enp8fX6AgYGBgYKDg4KBgYGBgH9+fX19fH1+f4CAgH9/gIGCgoOCgH9+fn1+fn9/f39/fn+AgYGAgIGBgH9+fn1+f4CAgICAgIGCgYCAf39+fn5+fn5/gICAgYGBgICAgIGBgH9+fn1+f39/f4CAgICAgH9/f4CBgIB+fn5+foCBgYGAf39/gIGCgoKCgH9/fn5+fXx9fn+AgH+BgoOEg4F/fn5+fX18fX19fX5/gIGCgoOEhIOCgYGBgX9+fHx7fHx9fX9/gIGDhIOCgoGBgX9+fXx7fHx+fn5+gICBgYGBgoKDgoGAf3+AgIB/fnx9fX+AgIGAgH9/f39+foCBgYF/fXx9gIGCgoGBgH9/f39/f39/fn5+fn5/gIOEhYSCgH59fn+AgYGAf399fXx8fX6AgIB+fX1+gIKDg4KCgoGAgICBgYKBf318fHx9f4CAgICBgYGBgYKBgYCAf359fn59fX19fH1+fn+Bg4ODgoKBgYGBgoGAf399fHt7fH1/gYGBgYB/fn9/gIGBgIB/fn5+gIGCgYB/fn5+fn9/gICAgICAf39/f4CAgIGAgYGAgH9/f4B/f39/fnx8fX5/gIGBgYGBgYGCgYGBgH9+fHx9fn9/gH9/fn+AgIGCg4KBgH9/fn5/f4CAf39/fn5+f4CBgIB/fn5+f4CBgoKBgYB+fn+AgIGBgX9+fX19fn+AgIB/f359f4CDg4OCgH57fH1+gYKCgoB/fn5+gIGCgoF/fXx8fH6BgoOCgX9+fn6AgYKBgX99fHx8fX6AgoKCgYCAgIGBgoKCgH59fHx9fX+AgoKBgH5+fn+AgYGBgIB/fn1+gICBgYB/fn5+f3+AgYGAgH9+fn5/gYKCgoF/fn9/gIB/f359fX5/f35/f4GCgYCAgICAgYKCgYB+fn19fn+AgYGAf35+f4CBgYGBgYGAf4CAf4B/f35+fH1+fn+AgIB/f4CBgYGBgoKCgX9/f359fn9+fn9+fn5/gIGDg4SDgoF/f319fXx9fHx9fX1+gIKDg4ODgX+AgYGBgoF/fn19fn5+f39/f3+AgICBgICAgH9/f39/f39/fn9/f4CAf3+AgYKCgoF/f39/gICAgH9/f35/f39/gICBgIB/f39+f3+AgIB/f39/f3+AgYGAgH9/gICBgYCAgIB/f39/fX1+f4GBgYCBgYCAgH9/gH9/fn9/f4CAgYCAf35/f39/fn9+f4B/f39/gYGCgYGAgICBgIB/f3+Af359fHx9foCBgYGBgYCAgICBgYGBgH9+fX1+fn+AgIF/fn5+f3+AgoSFhIOBgH9+f39/fn19fHt8fH1+f4CBgoOEhISEg4KBgH99fHx7e3p7fH1/gYKDhISEhYOBgH9/fn59fXt7e31/gIGBgYKBgYCBgYGAf399fX1+f4CAf4CAgIGCgYCAgYGBgICAf359fX59fn9/f39/f4CBgoSDg4B/f35+fn9/f318e3t8foGCg4OCgoKCgoODg4OCgH58enl5enx9fn5+fn+AgoSFhoaFg4GAfnx8fH19fXx8fHx+f4GDhIOEhIOCgYGBgYB/fXt5enx+f4B+fn5+f4CBgoSFhISBf359fn+AgoKAfnx7fH1/gYGAf35+f4CAgYKDhYOBf318fX5/gH9+fX19f4CBgYGCgYCAf39/gIGCgYB/fXx9f4CAgYF/f35+f4CAgYKBgH9/f3+AgYB/f318e3x+gIKCgoKBgH9/gIKEhIKBf318fHx+f39/fn19fn9/gYOFhIKBf39/gICBgH18e3t7fX+AgoSEhISDgH9/f4CAgH9+fHt7fH1/gIGBgYGAgIGBgoKCgoB+fHx9fn+AgH9+fn9/gIGBgYGBgYGAgICAf359fn5/f39/gH5+fn9/f4GCgoKCgYF/f36AgYCAfn19fX19fn+AgYGBgoGAgH+AgYKCgoF/fXx7fH1+f4B/fn19f4GChIOCgYGAgIB/gICAf35+fX1+f4CAgIB/f4CAgH+Af39+fn5+f4GCgoKBgX9/fn5/f39/fn19fX1+f4GChISEgoB+fn+AgYKAfn18fX18e31/goWGg396d3qAiIyKgnlycHV8hYyPjoqDenVydX2Ij46CdGdjaXiJlZmUi4J7d3h8gYWKj4t/cGRcYG+DlZ+ckIJ6dnh+hYuOj46GdWRaV2J3jp+imId6dXZ7gomNjY6LgW5eVVdogZmnpZaFe3Rzd4CIjpOUinRfUE1depqur6CNfXFscHqEjpiZi3FZSEdcfaC1tKOOe2tmbXmIlqCchmlQQklliqy8s52GcWRkbn6NnKKUeFpEP1F1m7e8rJR9bGRpdoeXo6CKak49QV2Fqby3oot1ZGJsfY+hqJp7WkE6TXKbub2skXllXGR3jJ+rooZjRjpIapS1wrSZfWdbX3GGmainj2xNOT9diK7Du6KFbl1da3+To6eXdVQ8OVJ8p8LBqo11Y15pfI+hqp5+Wj82SG+ausGvknpnX2V4jJ6qpYllRjZBZZG0wrWZfWhcYHCFmKipk29OOz5dirDFvaCAal5ebIKToaWWdlQ+OlB5o77BrI52aGNugJCbopp/XUQ4RGeRtMK0mH5uZWp6jJmjoY5uUDw9Vn6jurefgm9mZ3WHlqClmX1dRTxLb5e0u6mNdWhkb4GRmp+biGxURUdegaC1s5yBb2hqeImVmpuSfWNPRk9pi6i2rJN6bGpygY6YmJaLeGBPS1VvjqexpY13a2t0go+XmJaMemRUTlVsi6SupI13a2x2go+WlJGKe2hbVVltiKCspY93ampygI2UkpCMgG9hWlpof5akpJR+b2xzf4uSko+Kg3ZoXltic4qdpJ2Ld25weoWOkpGNiH5vY11fan2Rm5uRgXRwdoCLkZGOiYR6bmZjZ3OBjpSTi4B3dXmDi4+OioWAeXBram53gYqNi4aAfHt+goeKioiFgXx1cXFzeYCDhYSBfn9/gIKDhYaHh4WDfnl3dnh7f4GBf359fX5/f3+ChYeHhoOCgH58e3t9fn9/fXt6enx+gIKFh4iGg399f4KEgn15eHh5e31+gIKDg4KBgIGCg4SDgn58fH+CgX57ent9gIKDg4GAgH5+fX+BgIGAgH9+f4CChYSBfHp5e36AgYF/fHx9gIOEhYWFhIF+fXx+gICAf317enp8gIKEhIOBgYB/fn1+f4CBgX9+fX5/gIGDg4KAgIB/fX19fX1/gYGAfn5/gYOEhIOCgYB9fHt8fH19fn5/f39/gYOGhYOBgH9/f35+fX1+f359fX5/gYKEhIOCgX9/gIB/fn19fX18fHx+gIOEhIOCgYCAgYGBgH99e3p6e31+f4CCg4ODg4ODhISDgX99e3t7e3t9fX19fX6Ag4ODhISFhIOBf39+f319fH19fX1+gIGBgoODg4OBgH9/gIB/fnx8fHx9fX6AgoKCgYGBgYKCgYKBgX99e3t7fX6AgoKBf35+gICCgoOCgoF+fX19fn+Af359fHx9foGCgoKCgoKBgH9/gIGBgH59fHx9foCBgoGAf35/f3+AgIGBgX9+fX5/gYKCgYB/fn5+f39/f39/f35+f4CBhISEgoGAf35+fn5+f359fX5/gICAgYGCgoB/fn+Af4CAgICAf35+fn+AgYKCgYB+fn5/gICBgYB/f35+fn9/f4CBgIB/f3+AgYKCgH59fn9/f39/gICAf39+f4CBgoOCgYB/f4CBgYB+fHx8fHx8fH6AgoOCgYCBgYKCgoOBf319fn19fX5/gIB/f35/gIKEhIODgoB/fXx9fn5+fX19fX1+f4GDhISDg4GAf39/gH9/fn5+fX5+f3+AgYKBgYB/fn5+gIKCgYB/fX5+f4CBgYF/fn5/f4CAgYGAgICAf4CAgH9/f4CAgH9/gH9+f39/gIGBgH5+fn6AgICAgICAgICAgIB/f39/f35+fX5/gIGBgYGCg4KCgH9/f359fHt7fH1+foCBgYGCgoKCgYGAgICAf39+fX1+f4CAgICBgYCAgICBgYCAfn19fn5+f35/f4B/f4CAgICAgICAgIB/f3+AgIGBgYB/fn1+f4CAgH9/fn9/gICBgYCAf35+fn5+fn9+fn5/f4CBgoKCgoKCgoKBgH9/f39+fX18fHx8fX+AgYKDg4KCgICBgYGAf318e3t8fH6AgICBgYKDg4ODg4OBgH9+fX19fX1+f35+fn+AgYGBgoKCgoF/fX5+f4CAf359fX19fn+AgICAgICAgYKDhIOCgX9+fX5/f39+fnx7fX19fn+AgIGBgICAgICBgoKCgX9+fX1+f39/gH9/f39/gIKCgYB/fn5+f3+AgYGAf39/fn9/f4CAf35+fX1/gIGBgYGAgICAgICBgYGBgX9+fn18fX5/gYGAf39/f3+BgoKCgX99fH1+fn9/f39/f4CAgYKCgoKCgoB/fn19fn5/fn9+f39/f4CBgoKBgYCAf3+AgIB/fn18fH1+f4CAgYGBgYKCgYGAgIB/fn59fn5/f4CAgICAf3+AgIGBgIB/fn18fX5/gICAf35+f4CBgoOCgX9+f3+BgYF/fn59fX5/gIGCgYGAf39+f4CAgIB/fXx8fH1+f4CAgIKDg4KBgYKDg4OCgH58e3x9fn5/fn5+fX1+gICCg4ODgoGBgYGBgH59fXx8fHx9fX5/gIKDg4OCgH+BgYKCgIB+fn1+fn5/f4CAf39/fn5/f4CAgH9/fn5/gICBgYB/f39/gICBgoKBgH9/f3+AgH9/f4B/f39/gICBf39+fX5/f39/f3+BgYKAgH9/f4CBgICAf39/f3+AgICAgICAf4CBgYGBgH9/f39/fn59fH19fX6AgYGBgYCBgYKCgoGAgH9/f35+fn5+fn59foCBgoGBgYGBgYGBgH5+fX19fX5+f39/f35+f4CCgoKCg4KAf3+AgICAf39/f39/fn5/gICAf35+fX1+f4CBgoGAf3+AgYKDgoGAf318fX1+f35+f4GCg4OBgYGBgICAf39+fX19fn6Af39/f3+Af4CBgYGCgYB/fn9/f39/f39+f4CAgYGBgIGAgIB+fn9/fn+Af39/f4CAgIB/f4B/f35/f3+AgIGAgICAgICAf3+AgYGAf319fn+AgYGAgH9+fn5+fn9/f39+fX5/gIKEhYaEgoB+fX1+fn58fHx8e31+f4KDhISFhIKBgYB/f35+fXx6ent8f4GCg4ODg4KBfn1+goaFgnx3dXl9goWFgn9/gIGCgoCAgX96eXp6fYOFhIB/gIKEhIOBf4CAgHx2c3J2fIOIioeFhYWEgoKBgIGFhoF3bGRianmLmZuUioJ8eXt/hYmMjop9a11WW26FmaKfk4Z9dnV5gIiOlJOHcVxQUWN/m6qpnIt8cG1xeoWQmZeHb1pMTWKBn7CvoI58bWhteYeVn5qFaVFFTGeLqriumIJyZmdzgpCcoJR6X0pEU3KVsLanj3prY2p3h5WgoZJ3XEhGW36ht7ehh3BhXWd3ipqknodoT0NNa5Kyv7KZf2peX22Ak6KkknJUQEFagai/vaeLdWRfaHqPoKeZelg/Ok10nbu/rJB4Z2FneY6fqZ6BXkM5SG2XucOzlXpnXmR1ipyooodjRzhDZpK2xLeafmldX3CGmaaji2dINz5gjrfKwKKDbF9ebYOYp6aNZkUyOFqKtMnBo4RuYGBwh5qpqJFrSDM2VYOuxsCjgmpeX2+Gm6qrmHNPOTdRfanEwqiHbV5eaoGVoqaYeVhAOUtynr3EsZF2ZF5me5GhqJ+DYEU4Q2aStcKylXloYWh6kKCoo4pmSjtAXomuv7WYe2hhZnaMnKWjkHBSPz9WfqW8uaCCbmZodomYn5+Ve11HQEtrkbC7rpJ4a2hwgJCZm5iHa1FCRFp/ori4ooRxaWt4iZacnJJ7YExETWiOrLivlHlsaXB+jpeZlohwWUxKWneWrLKjiHNsbXeEkJaXk4ZyXlRVY3yWqKuchXJqbHaDjpOTjoJwYVpaZn2VpKaZhHNtcHuGj5ORjIBwZF5gan2PnZ+Wh3lxc3yFjpCPin5wZWFja3qKlpmUiHx0dX6Ij5CPiH5zamdobniDjZGQiYJ8eX2Ei46Nh351bmxscXl/hYmKiIWBfn6Bh4qMi4V+dnBtb3R5f4OGh4WCf4GFh4mJiIaDfndzcXJ2e36AgYGAgH+BhIeLjYyIhIB9eXV0dHZ5e31/f39/gYOFiImJhoSCgYGCgn54dHN1eHx/goOCgoGAgIKFiIiGhIB8en2AgX98eXh4enx+gIKBgoKBgIGEhoeFg4F+fX6BgX14dnZ4fICChISDgoGBgYKCg4KBfnx7e31/goKBfXt6e36BhISDgX9+f4GCgoKBgIB/fXx8fX5/gICAf35+f4CCgYGAgH9/fn5+f4B/f4CBgYGBgYKDg4GAfn59fX1+fX19fX5/f4CAgYKCgoCAgYGBgoF/f319f4B/fn5+foCAgICBgYGBgYGBgH9/f359fX1+gIGAgYCAf3+AgIGBgIB/fn1+foCBgYB/f39/f4CBgoKBf35+fX1+f39/f3+AgICBgYGAgH9/f4CAf39+f39/f39/gICBgoKCgoF/fn59fX5/gICAf35/f35/gIGBgYGAf35+fn+AgYB/gIB/fn5+gIGBgYCBgYGAgIB/gIB/f39+fn5+fn5/gICAf359fn+AgYGCgoGBgIB/gH9+f39/fn5+fX5/f4CCgoKCgYGBgYB/f39/fn59e3t7fH1/gYKEhIOCgYGAgYGAgH99fHt7fH1/gYOEg4KBgICCg4OBfnt5eXl7fX5/gICCgoODg4SEhYSCf317enl6e3x/f4CAgYKCg4SEhIKAfn59fX5+f35+f39+f35/gIKCgYB/fn5/f4CAgH9/f4CAgIGBgoKBgYB/fn19fX19fn9/f4CBgoKBgICAgIB/fn5+fn9/fn5+fn+AgYGBgYGBgYGBgYGAgIB/f39+fn5+fn1+fn5+f4CAgIB/f4CChISCgH5+f4CAgH9+fn5/gICBgIB/gIB/fn5/gYGBgH9+fn+AgYGAgH5+fn5+fn+AgIGAgIB/fn5/gICAgICBgYGBgICAgH+Af39/fn9/fn5/gIGBgH9/gICAgIGAfn1+fn5/gICBgH9/f3+AgoKCgoB/fn+AgIB/f39+f3+AgICAgYGBgH9+fXx8fX5/gICAf3+BgYKDg4KBgICAgICAf39+fXx8fX+AgYKCgX9/fn+AgoGBgH99fX1+f4CBgYB/f359fn+AgYGCgYF/gH9/gIGBgYCAf39+fX5/gIGAgH99fHx+f4GCgoGAf39+foCBgoGAf359fn+BgoKCgYB+fX1+gICBgYB+fn5+gIGBgoKBgH59fX5+f39/f39/fn1+foCBhISEhIKBgH+AgYGAf3x6eXp7foCBgoGBgICAgYOEg4KBfnt6e3t9f4CBgYCAgICBgYKDgoCAfn19fX6AgYKBgYB+fn5+f39+fn5+fn+AgYKDg4OCgYB/f35+fn5+fn9+fn5/gIGCgoOCgYB/fn9/gH9/fnx7fH1/gIKEhIODgoGAgICAgH58e3p7fH1/gIGCg4SDg4OCgYB/f399e3p7e3x+gIGDhIOCgYGBgoKCf358e3p7fH5/gIGBgICAgIGDg4OBf359fX1+foCAgIGAf39/f4CCgYB/fn19fn+AgYGBgICAf4CBgYGAgIB/fn19fX5/gIGBgoGAgICAgICAgIB/fXx7fX6AgYGBgICAf4CAgYGAgH9/fn9/f4GBgYGAgH9/fn19fn5/f39/fn5/gIGDg4KCgYB/fn5/f35+fX1+fX1+gIKDhIOBgH9/f4CBgICAf35+fn5+f39/f3+AgICAf35+fn+BgYGAgYGBgYGBgoKCgH99fHt8fX5+fn5+f4CBgoKDg4OCgH99fHx9fX19fn1+fn+BgoSFhYSCgX9+fn9/fn18fHx9foCBgoKCgoGAgH9+fn5/gYB+fHt7e32AgoODhIODg4KCgYGAgH99e3p7e3x+f3+AgYKCgoKBgYGBgYKAf317ent8f4CAgH9/f4CCg4SEg4KBfn18fH5/f4CAf35+foCBgYCBgYB/f359fX5/f39+fX19f4GCg4KCgYCAgYGBgYGAgH9+fn5+fn59fn5+fX5/gYKCgoKBgICAf4B/f39/f39+fXx+fn+AgYKAgIB/gICCgoKBgIB+fn9/gICAf318fH1/gYGCgX9+fn5/gIKCgoCAf35+f3+AgYGBgH9+fX5/f4CAgYGBgH+Af4CBgoKBgH59fX5/f39/f4B/fn1+fn+BgoKBgYB/fn+AgYKCgoF+fX1+f4CCgoF/fn19fH1+gICAgH9+f4CBgoODgYCAfn18fH1+f35/f3+AgYKDhIWEhIOAfn18fHx+f359e3t7fH+AgYOEhIKCgH9/f4CBgYGAfnx8fX+AgYKCgoKBgH9+fn5+f4CAgH99fX+AgIGBgYGBgIB+fX1+fn9/gH9/f3+BgoODg4F/fX1+gYOEgHt3d3l9hIiIhYB7dnh+h4yJgXp1dHeAiIqIhYB6dnh/hIiHgnp1dHh9gIWJioiEf3x8e36Eh4V9dG5udH6GioqHhIWEgoKCgYGFh4R4bWRhaXiKl5uVioN+fH2AhIaIiYh/bV9XWmmBmaajlol/d3V5goiNkZGFbllMS159nK6unYl7cnF5hY6UmJSDaVNGSWCCorSxnYd3bGt1g4+WmpR/Y05ES2aLq7qxmYFwZ2t4iZWcnZF3W0hCTm6TsrytknpsZWt8jZienIxwVURCVnqfuLqjhnFlY3CDk56knINjTEFJZ4+wvrKVe2lfYnOImKSijWxPPkBchqzCvqKCbGBgb4WYpaSRb1A+PlV9pb/AqIlxZWRwhZafoJN1VkE7SW2Wtb+vknlrZm1/kp+mn4ZkSTpAXomtv7WYfGthZXeOn6qnkGtMOj1ZhKvAu559aF9icomdqKaSbU07PFeDq8PBpIFpX2Fxh5qkpJRzUj88UXmjvb+ph25iYm6DlaCjmYBeRj1Ja5a2wrOSdGVhaHmMmaGdiGdNP0VhjLHDup5/bGRndomYoJ6La0w6OlN+p8C/poVvZmh3jZyjo5NyUTw5THKcub6ph29maHaLnaSkl31cRj1GZo+wvLCQcmVlb4KTnZ6ai29VR0ZYep2ztqKDcGpseImXnZ2Uf2RPRUhghaW2sZd7bGlwgJGanJmMc1pLSFVxkqu0p4tyZ2l2iJeenZaEa1hPUWB8mausm39rZmx7i5aZl49/bFxXW2l/lqWnmYJvaW57h5CTkIp9bWFeYW6ClqOlmYZ0bG54hI2Qjoh8bWNgYmx9j5ufmIt8dHN7h5CSkIl7bWRjZW56hY6SkIiBe3p+h4+SkIt/dGxqbHN7gISGhoOAfHt+g4iLjIiBenRzdHl8gYSGhoaDgH5+gYOEhIKAfHl1dHV4foOHiYeEgoGAf4GDg4KBf317eXd3eH2AgoODgYB+f4CChIaJh4N/fX1/goF9eHV1dnp9gIKDg4OBf4CDiIqKh4N/fH6BgX14dHJ0d3yAgoSDg4OCgYOGiIqIg317enyAgn95dXR2en2Bg4SEg4KBgYOFhYWFgn58e3t9goSCfnp5eXp9f4CCgYGAf3+Bg4OEhISCgH5+fn9/f318e3p7fH1/f3+AgYKDhISEgoGBgYGCgX99fHp6e3x9f4CAgICAf3+BgYKDgn9+fn+AgYKBgYCAfn59fX19f4CBgYCAf35+f3+BgoODg4F+fHt8foGBgX9+fX1+f4CAgYGAgICAf3+AgIGBgYGAf39/f39/gIB/fn5/fn5/gIGAf359fX6AgYGCgYCAgICAgIGBgYF/fn19fX5/f35+fn5+f4CBg4SEhIOCgX9+fn5+fn59fXx8fH1/gIGCgoGAfn6AgYOEhIOCgH9/foCAgH99e3p6ent9f4GDhISDgoKDg4SEgoF9e3l5e3t9fn5/gIGBgYCAgYGChISCgYB/fn5/f3+Afn19fH19foCBgoKBf359fn6BgoOCgIB/f4CBgoGBf359fX5+f39/f39/gICAgICAgIGBgH9+fn9/f4CCgYGAgH9/f35/fn5/f4CAf35+foCBgoODgoB+fn5/gYGAgH9+fn5+fn9/gIGAf39+fn+Bg4OCgH9+f4CBgYCAgH9+fXx8fH1+fn9/f4CCg4SFhIOCgoF/fn19e3x8fHx9fX6AgYKDg4SDgoCAf39+fn1+f35+f39/gIGBgYGAgH9/fn5/f4CAf35+fn+BgYGBgYB/fn5+fn+AgIB/f3+Af4CAgIGAgH+Af39/f3+AgICAgICAf39/fn5/f39+fn1+gICBgICBgYKCgoKCgYCAgH99fHx8fX5+f35+foCBgoKCgoGAgIGBgYGBgH9+fn5+fn59fX19foCAf4CAgYKDg4OCgYGAf39/fn18fH1+fn+AgICBgIGBgYGAgH9/gH9/f35+f39/f39/f3+AgIGBgYGBgICAf35+f3+AgIB/f39/f4CAf39/fn5/f4CAgYKCgoGAf35/f3+AgIB/fn5/gICAgYCAgIB+fX5+f4CAgIB/f39/f4CCgoB/fn5/f3+AgYGAgH9/f4CBgoKBgH9/fXx9fn9/f39/f39/f4CAgICAgICAgYCAgICBgYB/fn59fX1+gICAgICAf3+AgYKCgoF/fn19fn9/f39+fX19fn+Bg4ODg4KBgICAgICAf359fHx8fX+BgYGCgYGBgICAgYGAf39+fn5/fn9/f4B/f35+fn+AgoKCgoKCgoGBgH9+fXx8fHx9foCBgICBgYGDg4ODgoB+fHt7fX5/f35+fn9/gYKCgoODg4KBgH9+fn5/f39/fn5+fn9/gIGCgYCAf39/f4CAgYCAf319fX5/gICAgH9/f4CBg4OEgoF/fX1+f4CAf39+fX19fn6AgYGBgICAgICAgYGAf39/fXx8fH5/gYKCgoGAgYCBgYGBgYB+fX19fX5/f39/fn9/fn9/gYGBgoGAf3+AgYKCgX9/fn19fHx9f39/gICAgIGBgoKCgoKBgH9+fn1+fn5+fn18fH1+gIGCgoKCgYCBgYKCgoGAfn18e3x9f4CAf4CAgICBgYKCgYCAfnx8fX19f3+AgYGAgIGAf4GCgoGAfn1+fn1/f4B/gIGAgIGBgoOCgYF/fX1+fn19fXx9fX5/gYGCg4WEg4KAfn5+f4CBgH5+fn5+fnx9f3+AgYF/fn+AgoSFhIOCf319fXx9f359fn18fX5/gYOCgYKCgIGCgoKCgYCAfnx8fHx8fn99fn9/gIKCg4SEgoKBf35/fn1+fXx8fX19foCBgoKBgoOCgYKBgIB/fn1+fn19fn5/gIGBgYGBgICAf359fX19fX+AgYKCgYGCgoGAgIB/f39/f39+fHx9foCAgYGCgYGAgYGAgIB+f35+fn5+fn9/fn5/gICBgoCBgYCBgoKBf359fX5/gIB/fn59fX6AgIGBgYGBgICAgICAgIB/f359fX+Af39/gH9/gIGBgYGCgoGAgH9+fn9+fn5/f4B+fn5/gIGBgYB/f3+AgICAgH+AgH9/f35/f39/fn5+f4CAgYGCgoKCgYGAf39+fn5+fn59fH1+f4GCgoKBgX9/f4GCgoKBfnx8fH1+f4GCgH9+fn+AgoODgoF/fn5+f4CAgIB/fn59fX1+fn9/f3+AgYGAgYKCg4OCgH9+fX1+f4CAf359fX1+f3+BgoGAgYGAf3+AgIGAfn59fX1/gIGCgYGAgH9+fn+BgYGBf359fX6AgIKDgoGAf359fn+Af39+fXx7fH6Ag4SFg4GAgICBgYKAf358e3t8fX9/gYKBgYCAgYCBgoODg4F/fnx7fHx9fX1+fn+AgIGCg4SEhIKBf319fX5/gH9/f359foCBgoKBgH9+fX5+fn+AgYB/f3+AgYGBgYGBgH99fHx9fn5+fn6BhIWEgn9/gIKGh4J8dnJxdHuDiYuIhoOAfn1/gYSJi4d8b2ZjanmKlpeRhn55eHyCh4mIiId/c2dhYm1+j5udlIZ9eXl9goiKiYeEe25iXF1qfpKhopeHfXh4foWMjoyIhXxsXldYZ3+XpaWYiXxzcXeBiY+Vlot2YFFNWnaWq6+hi3hrZm18ipSdno51XU1JWnmbsbOjjHZnY2x6i5egn41wVkZEWX2huLeih3FjYW6BlJ+lnolqUUJGXoOmurWbfmlfYnGGmaGjm4RlTUJJZIyuvrSZe2ZbYXKImaKjlntcRT9Ocpu5wrGSc2BZY3iQoKikjmxPPT1Wf6a/vaSEa11dbYWaqKyef1xDOEZqlrjEtJJzYFhieI+fqaWNbFA/QVyHrcO+o4BnWVlqgpikp5l7WUI7THGdvcazkXJgWmR6kaKpoolmSjtBXoqyxryefGRZXHCKnainlHFRPjxSe6W/wquHaVtca4Obp6mbf1tDO0lslrjFtZNxYFtke5OhpJ2HaE0/QluDqsLApoRrYGFvhZmgoJN3WEQ+TG+Zuce3lndkXWZ8kqCknoVjSDs/WoSrwb6if2lgZHaMn6akk3VVQDxNcZq4wq+Mb2JhbYSYoaGYgmRMQ0hghqi8up9+aWNneIuZm5eNeF9NRk9pjay8s5d6a2hwgZKcnJaIclpJRVFtka24qo1zaGp2iJifnJSFblhMS1p2lq6zoYRtZGh3ipmdmZGCbVpSU2F8maywn4RsY2h3iZicl41+alpUV2V+maqsnoVvZWt5ipWYlIt9a15ZW2Z7kqKmnIh1a258i5aZlY19bF9bXGh7jJiblIZ3b3B7ipWYlIx+cGZjZ3B9iZGTj4Z9dXJ4gouQkYt/c2pobHaBiY+OioV/e3l7gIWKioZ+dW5tcHd/hYmKiomGgn+Ag4WGg4B8eHNxc3Z6f4SHh4eGhYODgoGBgYGAfnt5eHd5e3+Bg4ODg4KAf4GEhYSCgH1+f4B+fHt7fH5/gIGCgX9+fX19gIKDgoGBgYOEgn58fH2AgYB+fHt7e35/gYSGhYSDgX9+gYSEgHt3dXd7gIODg4GAf3+AgYOFhoSCfnp4eX6DhIB8eXl7gISFhIKAf35+f39/gIGCgoGBf3+BgoOBfnt4eXt+gIB/fn19f4GDhISEhIOCgoGBgYGAfXt4eHh7fX+AgICBgYKDhYaEg4GAfn18fH1+fn58fHx9f4GCgoKCgoKCgYGBgYCBgH9/fX19fn9/gH9+fX5+fn5/gIGBgYGCgoGAgIGBgICAfn5+fX19fn+AgICAf39/gIGDg4OCgX9+fn19fn9/fX19fX1/gYKCgoKBgYGAgICAgYGAf39/f3+AgIB/f35+fX19fn9/f4B/f3+AgYKDg4KCgYF/fn19fX1+fn5+f4CAgYGBgoKBgYGAgYCAf35+fX19fX1+f4CBgYKCgoGAf35+f39/gICAf3+AgICAgIB/gIB/fn5+f4CAf39/f4GBgoKCgYCAgH9/fnx8fn9/fn5/f39/gIGBgoKCgYB+fn6AgoKBf35+f39/gIGBgH59fX1+f4B/gH9/f39/gIGBgYKCgYB/fn5+f4B/gICAf39+fn+AgYKCgYB+fX5/f39/f3+AgH9+fn5/gICAgH9/f4CAgICBgYGBgH9/gIGBgYB+fn18fH5/gICAf319fYCBg4ODgoCAgICAf4B+fX19fX1+fn9/gIGCgoOBgIGBgICAgIB/fXx8fX5/gYGBgIB/fn5/gICAgIB/fn5/gICCg4OCgH59fH1+fn9/f3+AgICBgoODg4F/fn19fn5+fHx9fn5/f3+AgYODg4OCgH9/fn5+f4CAf39/fn+AgICAgH9/fn9+f4GBgoKBgH59fn5/f39+fX19f4CCg4KCg4KAgIB+fn9/f39+fn19foCAgYKCgYB/fn5+f39/f39/fn9/gICAgICBgYCBgH9/gH+AgIB/fn5+f39/f3+AgYGAgH+AgIGCgYB9fHx8fn+AgH9/f3+AgYGCg4OCgoB/f39/f39+fXx7fH5/gYKCgoKBgIGCgoKBgH58fHx9fX5+f3+AgICAgICBgoOCgYGBgYB/fn5+fn5/f39/f35+f4CCg4OCgH59fX5/gICAf318fH1/gYODgoGAgIGCg4OCgH59fXx9fn9/f35+fn1+gIGBgYCAgH9/gH+AgICBgH9/f39/gIGAgYGBgH5+fX1+f4CBgoKBgH9/f3+AgYGAfn18e3t9f4GCgYGAf4CBgoOEg4F/fn19fX5/f39/fn9/gICAgIGCgoGBgYB+fn5/f39/gH59fX19f4CCgoKCgX9/f3+AgYKBgIB/fn5/gIGBgIB/fn5+f3+AgH9/fn5+f3+AgYKCgoKAfn19fn+AgYB+fXx9foCBgoKDgoKBgYCAgH9/f358e3t7fX+BgoKCgoKBgYGBgIB/f359fHx9fn+AgYGBgYGBgYGBgYCAgYGBgH99fH1+gICAf359fX1+gICBgYGCgoGAgICAf3+AgH9+fXx8fn+AgIGAgICBgYKBgYGCgH9+fHx8fX5/f39+fn+AgYKCgoKCgYGBf359fn5+fn59fn+AgIKDg4KBgH9+fn9+f39/f39/f39/gIGCgYF/fX19fn+BgYCAgICAgYGBgYGAgH9+fHx9fn9/gIGBgIGAgIGCgYB/fnx8fX6AgYF/fn19fn+AgYKCgoGAgICBgIGBf35+fn18fX5/gICAgYKBgYGBgICAgH9+fn18fX5/f4CBgYGAgIGAgYKDgoKBf35+fn5/f39+fn19fX1/gIGCgYGAgICAgYGAf399fHx9fn+AgYKCgYGAgYKCgoGAfn19fn5+fn5/f3+Af3+AgICBgH9+f39/fn5+fn5/f4GBgoODg4KCgoGAf359fHt7fH19fH1/gYGCg4KCgoGAf39+fn5+fn5/f4CAgYGBgYGAgH59fX1/gIGBgYF/f4CAgYKDgH9+fXx9fn9+fn9/fn+AgIGCg4KBgYGAgYGAf39/fnx9fHx9f4CAgYGAgICAgIGCg4OCgoB+fX9/f39/fXx9fHt7fH5/gIKCgYCBgoSFhYSEg4F/fn18fH19fHt7e3t8foCBgoSFhYWDgYB/f35/gH9+fn59fH1+f4GCgoGAgH9/f4CBgYKBf319fX6AgoGAf4CAf39/f35/fn9/f35+gH+AgYKCgYGBgH9/gIB/gH9/fn5/f4CAgH9/f39+f39+f4GBgYKCgoKBgYB+fn5+fn18fHx8fH1/gYGCg4ODg4ODgoKBgH59fXx9fn9+fn5+f3+AgICAgICAgIB/f3+Af39/f3+AgYGBgYB/fn5+fn5/f4CBgYGBgYKBgYKBf318fHt7fX1+f4CAgoOCg4ODgoGAfn5+fn59fX1+f4CAgYGCgoODg4GAf39+fX18e3x8fHx9foCBgYKEhIWFhIOCgX99fHx8fH19fH19fn6AgoODg4OCgH9/f35/f39/gYB/f35+f4B/fn9/f39+f3+AgYKCgoKAgH+AgH+AgH9+fHx8fH1/gICCgoKCgYKCgoKBgH99fHt7fHx+f4CAgoODgoGBgYKDgoF/fHt7fX5/f35+f3+BgoOCgoB+fn5+fn+AgH+AgICBgYGAgIB/f39+fX1+f4CAgIGCgoKBf35+foCAgYF/fn18fH1/f3+Af3+Bg4ODg4OCgYKBf318e3t8fX1+fn5/gYKDg4SDgoKAfn18fX5+fX1+fn6AgYGCgoKBgICBgoSDf3t2dHh9gYSGhYSBf4CBgICCgYCBg4J9dnBtcHmFj5SQh356eXt/hoqJhoKAe3RubW1zfIeOko6FfHh6gIeOj4uCfXx6eHRwbG52gYuSkIZ8eHd9hY6Rj4mDf3x1bmppbHiGk5eRhXt3dnqCio2LiYmFe25kYGV0h5qhm4t7cW9ze4WOj46LhHNjWllle5SmrKGMeW9udoCLkZCNhnpnWFBTZH+crq+eh3Vtb3qIlJiVkIRyXU5LVm+OqLKpkXlsaXB+jZiZl4+AaVZOUGSDorSznoFsYmNvgJCVl5SGcVpOTV19oru/q4xyZGFsfI2WmpWEa1NFRVh7oby/q4xxY2Jwg5Wen5eDZ09DRVyApLu4oYFqYGNziJmgoZeAZE5ESmSKrL+4nn5pYGR1iJaamI13XkpETWqRscK4nH1pYWd5jZygno5zV0M/TW+Xtb+uj3FhXmuBlqOnoIttUUJEW4GnvbugfGFXXHCJnKSilX1gTEVQbJKywbaXdmJeZ3uQnZ6Yh29WR0VTcZazvrCSdWdlb4KUnp2Xhm1VRkVXeJ24vKeHa2FjcoeaoZ+VfmNORUxkiaq8tpt6ZV9neY+dn5qJcllKR1Vzl7O+r5BwYWJvhZihnpSBaVRKTFx6m7K2o4RqYGV1i5ugm5KBbFlRUmF+nbK0oYFnXmNyhpaalY1+bFxVV2eCoLW3pIZrYWNzhZWZk4l5Z1dSVWaAnLCyooZwZmp5jJqemYx5ZFVRVmiCmqmnln1qY2t+kJ2gm4x4Zl1cY3OGlp+ajHhpZG5+jpmak4NyZWFmcYGPmZ2WinxxbXSAiY6Oh3ttZmVrdYGLkpSQiYJ7eHuCiYuLhnxxa2ptdX+Hi42LhoF8enyBh4mKh4F6dHFyd3yCh4mIhYB7eXt/g4SFhYJ+eHV1d3yAhIeIh4SBgH5+gIKEhYSBfHd1dXd6f4KDg4KBgoKDgoKDg4KCgYB9e3l5enx+f4B/gICAfn19gIOHiYiEgX9/gYB+e3p6e319fXx8fH2Ag4SGh4eEgoF/foCDg355dnN2e4CDhYWDgX59foGEh4eEgXx5eX2DhYSAfHh2e3+DhYWDgH5+fn+AgYGBf318fX+ChYaDfnp5eXx/goOBf35+f4CChISEg4GAfn1+fn9+fHt6e32AgYOEhISDg4ODgX99fHt6e3t8f4CAgIGCgoOFhIF/f359fX5+fn9/f35+f3+AgoOCgoB/fn+BgYGAgH59fn19fX9/f4GBgX+AgYCAgYGAgIB/fX59fX1/gYGBgoGAgYKCgYGBfn19fn5+f4GAf39+f39/f4CAgIB/gICAgH9+fn6AgoKBgYB/f4GBgYB/fn19fX1/f3+AgYB/gIGAgYKCgYB/fn5+f39/fn19fX5/f39/gICBgoOCgoGBgH9/gH5+fn59fX5+gIGCgoGAgH+AgIB/f39+fn9/f3+AgIGAgYGAf39/fXx9fn+AgoGAgICAgIKCgYCAfnx8fn5/gYGBgIB/gIGCgoGAfn18fX19foCAgICAgICAgICAgIB/f39/f4CAgICBgoKCgoB+fX5+f4CAgIB/f3+AgYGBgYB+fn18fX5+fn5/f4CBgYKDg4OCgH9/gICAf39+fX5+f39/gIB/gICBgICAgIB/f39/gH9+fX1+f4CAgYGAf3+AgYKCgoKBgH9+fn1+fn5+fn5+f4B/f4CBgoOCgoGAgH9/f39/f359fX1+f4CBgoB/fn5/gIKCgoGBf35+f3+AgYGAgH9+fn5/f39+f35+fn5/gIGCgYKDgoKCgoF/fn59fHx8fHt7fX5/gIGCg4SFhYODg4OBgX99e3p6ent9fX5/gIGBgoGCg4WFhIOAf39+fX59fXx8e3t9fX1/gICChISDgoKBgYGBgX9+fn18fn9+f39/fn5+f3+AgICBgYCBgYGCgoODgYB/fXx9e3t8fX5+f4CAgYGCg4OEhYSDgX18e3t8fX5/fn19fX6AgYOEhIWDgYB+f39+f318fHx8fH1/gIKDgoGBgoKCgoGAf35+f39+fX19foCBgoGAf3+AgICBgYGBgIB/fn5+fn6AgYB+fX19fYCBgoKAf39+gICBgoKCgoGBf4B/f39+fn17fXt8fX5/gIOEhYaFhIKAf318fX18e3x8e3x/goOEhYSBgYCAf4CBgIB/fXx7fH5/goKCgH9/fn+AgIGBgYF/fn5+fn+BgICAgIB+f4B/gIGBgH9/fn1/f3+AgIKBgYGBgYCAgH+Af319fX17fX9/gYKDgX+Af4GBgoKAf399fn5/gICCgYB/fn59foB/gICAf35+f3+BgYKBgIB+fn1/gH9/gH+AgH9/f4GAgYKBgH9+fXx+fn9/gIKCgYGAf35/gICAgH5+fn+AgIGAf4B/f35+fn5/gIGCgoKCgYGAgH9+f319fn5/f3+AgIGCgoKAf4B/gH9/f39/fn5+fHx+gIGBgYB/f4CAgYKCgoKBf35+foCBgIB/fn59fn5/f35+f39/f4CAgIGBgoKCgoGAf39+fX19fX5/f4B/f3+AgYKDg4KCgoGBgIB+fXx7ent8fX5+f4CBgoKDgoKBgoKBgYB/f39/gH9+fn19fX19foCAgIGCgoKCgoGAf3+AgICAf318fHx8fn+AgICAgICAgIKDg4SDgoB+fn19fn5+fn1+fn+AgYKCgoKCgX9/gH9+fX1+fn+AgIB/gICAgoOCgYCAf35+fX19foCAgYB/f39/gYKEhIOCgYB+fn5+fn9/fnx8fX1/gIGCgYGBgIB/gICAf4CAgH9/gIGCgoKBgH5/f39/f359fX1+fn1+foCBg4ODg4GAgH9/f35+fn9/fn9+f4CCg4KBgH9+fX1+f4CBgoGAf35/f4CBgX9+fHx9fn+BgYGCgoCAf39/gYKCgYF/fXx8fX6AgH9/f39/f4CBgYGBgoGAf319fn9/gIGAf39/gICBgYGAgH+Af359fn9/f4CBgICAgH9/f4CAgH9+fn5+f4CBgoGBgYGAf4CAgYGBf318fH18fX5/gIGCgYCAgIKEhIOCgH5+fX18fHx9f39+fn5+foGDhIODgoB/f4CBgIB/f359fHx8fH2Ag4SDgoGAf4CBgYGBgH9+fX19fn5/gH9+fn9+fn+AgoKCgoKCgICBgH+AgYF/fnx9fXx+gIGAgH+Af4CAgYGBgICBgH9+fXx8fX+BgoKCgYB/f4GCgoGBf359fH19fH5/f39/gIB/gIKCgoKBgYGAf3+Af31+gH9+f4B/f3+AgH+AgIGAf39/gH9+f4GBgIGBgH59fn1+f4GAf4CAgYGBgYKCgYGBgX59fX19fH19fn5+f39/f4GEg4KDg4J/f4B+fn+BgYB/fn59fX+BgIB/gIB/fX1/gH+AgYGAgICAgICAgYF/fn59fX1+f4CBgoOCgICAgYCBgoF/fX19fHx8fH1+gIGBgICBgoOCgoKCgH9/fn59fX5+fX5/gICBgYGBgIKCgYGAgH99e3t8fX1+gICAgYODgoKCgoCAgH99fX5+fn59fn9+f4GCgYCBgYB/fn5/f4CBgYB+fn9/f4CCgoB/fn59foCAf3+AgYF/f4CBgYKDgX99fHt8fX5/f39/gICBgoOEg4KCgYB/fn5+fX1+fn19fX59fX6AgIKCg4KBgYGCgoKBgH9+fX59fX5+fn5+f39/fn+AgYGBgoGAgYGAgICBgYB/fn59fH1/f35+f39+f4GDhIWFhYJ/foCBgX59enh4fH59e3t7e36BhYqLiYaGhIKBgYF+fHx+gH14cWxqcX2JkpWQhn15eoCHjI2JgXx8eXRvbWpueYaRlI+FfHl7gomPjoqFgoF7cmplZW5+jpeWjH1zcXeCjJSSi4SAfXZvaWZodIaUm5aIeXJ1fIaPk5CIhIF4bWFbXWuAlaOikn1ycXWAjZaWkYyFd2VWUFZrhp6rppF7b251gZCam5eRg25ZTUtadpassKCFcGZodIaWnp+ai3RcSkVTcpWwuaqMb2BhboGUoKGbjHdeS0VRb5Kvu7CTdGFgan2QnJ6ajnpiT0RKZIioubWcfWhhaHmMm6Cgln9jTEBHY4uuvbSYeWNbZHiOnqemlXZWQTtPdZ+9w6yJalhYaIGYpqmghWRJPERjjLDDvJ15YVpido2eo5+QdlhCPExvmLnFtZN0YV5qfZGfop2KbVE/PlN6pMDDq4lsXV1sg5ikp5t/XUI3Q2eUucm7mHNeWGR7lKSro4llRzY7Woewx8Chel5VYHeRpKumkXFRPTtReqTAw6uEZVZbboidp6aZf2BIP0lokLPCtpVzXVhjepGgpaGOcVNAP1V8psLFrIZoWVtshJmlpph8WkI5RmuYvMm5lXBaVWR8lKSpoYdkRzpBYIy0ycKgd1tTXnaPoKWgjnFTQT9Sd6C+xrKMa1teboWYoJ6VgWZOQkRbgaa9vqWCaF5ld4ydoqGVfWBJP0hljK6+tJZ1YF1ofZOgo56Nc1hHRVZ4nLa8qohpW15vh5qjoZaAZE9GTWSFpbeznH5mXml9kZ+hmot3YVFNVmuHoK2nk3lnZHCDlZ+dlYd1ZFhVXG+HnKejk3xqZ3GBkJqalIZzZFtaY3aLnKKcjnttaHGAjpaYkH9tY2BlcoKQl5iTiH1zcXeDjZKQhndsaGpweoOLjYyJhHx4eX+Gi4uHgHlzcXJ3fIKHioqHg397e32ChoeFgXt1cXN3fYOGiIeFgoGAfnx+goWFhIB7dnR2e3+BhISDgoKBgYGChYaEgX18e3p6ent7fX+BgYGBgIKCgoKDgYCAgIGDg4F9enl6foCBgoF+fH19fX6BhYaGhIKAgIGCgX17ent7fH59e3t8f4GCg4aIh4WCf35+gYWHhH14c3N3fYGCgoF+fXx9f4KFh4mIhIF9fH2AhIN/end2eHt+goKAf3+AgIKCg4SEhIOCgH9/gIB+fXx6eXt+gH9+fX5+gIOEhYWEg4GAgICAgIB/fnt6eXp8fYCCgoGAgIGBgYKDgoGAf319foCBgYGBgH9+fn9/f35/fn59fX5+foCCgoOCg4KBgYKCgYCAf357enp6e3x/gICBgoOCg4OEg4KBf359fX19fHx9fX1/gICAgYGCg4ODgoGAf35+fX59fn5+foCBgYGBgICAgH9/fn59foCAgYGBgIGAf3+AgIB/fn19fX1+f4CAgYKCgYGBgYGBgYKAfn19fX19fn5+f4GBgYCBgoGAgIB/f39/fn5+f39/gIGAgIGBgoGAf39/f4CAf359fX5/gYKCgX9/f35/f4CAgH9/fn5+f4GDg4OCgYGAgIB/fn19fX19fX1+f4GBgoODhIOBgIB/fn18fX1+fn5+fn5/gIKCgoKCgoKCgYGAf35+fX18e3x8foCBgYGBgYKDg4GAf39/f359fXx9fX+AgYKCgoKDgoGBgH9+fn5+fX19fX1+gIGBgYGBgIGCgYCAgIB/fn19fX1+fn9/gICBgYGBgIGBgYGAgICAgYGBf359fHx8fn5/gIB/f39/gIGCgoOBgYCAgICAf35+f359fX1+fn+AgYKDg4KCgYGAf39/fX17e3x8fX6AgYKBgoODgoKCgYCAf317ent7fH6BgoKDg4ODgoGAgH9+fX18e3x8fX+AgIGBgYGBgIGCgYGBgIB/f35+fn5+fn5+fn5/gIGCgoGAgICAgYKCgoB+fX18fH1+fn5/f4CBgYKCg4KCgoF/fn5+fXx8fH1+f4CBgYGBgICAgoKCgYGAf359fX19fX5/fn5/f4CBgoODg4KBgIB/fn19fX19fn5+f4CAgICBgoKBgoKBgYGAf39+fn5+fn5+fn5/gIGBgYGAf4CBgYB/f39/f35+fn5/gIGBgYCAgICAf35+fn59fn5/gYKDg4ODgoKCgYB+fXx8e3t7e3x+f4CAgoKCg4ODg4ODgYB/fn19fHx8fH5/gIGBgICBgYKCgoGAf39/fn5+f39/f4B/fn5/f3+AgYKBgYB/f35/gICAf39/f39/gICBgoKCgH99fX6AgIB/fXx8fn9/gICBgoKCgYCAgICBgoKBf318fHx9fn+AgYCAf39/gIKCgoKBgH9/f35+f39/fn5+fn19foCBgoOCgYB/gICBgYGBgH9+fHt7fH6AgYGBgH+AgYGBgYB/f39/fn1+f4CBgYGBgICAgIGAgIB/fn18fX5/gICAgICAgYGBgoGBgYGAfn18fH1+fn5/f3+AgYGBgYKDgoGCgH9+fn5+fn9/f359fn5/f4CCgoGAgIB/f3+AgICAgH9+fn5/f4CAgIGBgoGBgICAf35+fX19fn9/gICAgIGBgYGBgYGAf359fn5/f35+fn6AgoKCgoKCgYB/f39/fn5+fX6AgYB/f39/f4CAf39/f39/gIGCgoGAfn5/gICAgH9/fn5+f4CBgoKCgIB/fn5/gIB/f39+fn5+fn9/f4B/f3+AgICBgYKBgIGBgYGBgH9+fXx8fX1+fn5/f4CBgoODg4KCgYGBf319fHt7fHx8fX6AgYGCg4SEhIOCgYGAf359fX18fXx9fn59fn+AgYGCgoKChIOCgYB/fn1+fn59fXx7fX5/gIGBgYKDhIWFhIKBgH59fHt7e3x8fH5/gICCg4ODg4OCgYB/f358fX1+fn9/f39/f4CAgYGCgoKBgYCAgH9/f39+fn18fH1+f4CAgICAgYKCg4ODgX9+fn5+f35+fXx8fX5/gICBgoODg4ODgoKBgH9+fXx8fHx8fX5/gIGBgoGBgoGBgYGBf35+f39/f39/f3+AgH9+fn+BgoKBgH5+fn5/gICAf39+fn+AgIGDg4KBf39+fn5/f319fn9/f35/f4CCg4KBgIB/f4CCgoF/fn58fH19fn9/f39/fn5/gIGDhIOCgH9/f4CBgYB/fn59fHx8fX6AgYKCgYCAgYGChIOCgX9+fX19fXx7e3t8fn+BgoODg4SEhIOCgYB/f359fHx8fHx9fn9/gICBgYGBgYGBgoGCgH9/fn1+f4CAf359fX19foCBg4KCgX9/f3+AgoGBgYB/f3+AgICAf39+fHx7fH1+gIGBgIGBgYKCg4KCgoKBf359fHx8fX5+fn5/f3+AgYGCg4ODgoB+fn+AgYGAf359fX1+fn9/f39+fn+AgYKCgoKCgYGBgoKBgH9/fXx8ent7fX+AgYGAf4CBgYKDg4OCgYGAgH9/f318fHt8fH1+fn+AgYKCg4ODg4OCgoGAf39+fX18fX19fn5+fXx8fYCDhYWEgoGAgIGCgoKBf358e3t7fH1/f39/f4CBgoOCgoKCgYCAgH9/fX1+fn9/f35+fn+AgYGBgH9/f39+f4CBgoKCgH9+f4CAgIB/fn19fX1+f4CBgYGAgICAgICCg4OBf318fH1/gYGAf359fn+AgYKCgoGAf35+fn5/f4CBgYB+fn+AgICAgIB/f39+fX5/gYKCgIB/f39/gYGBgH9/fn5+fn9/f39/f39/fn+AgoKCgX9/fn9/f39/gICAf3+AgICBgYB/fn19f3+AgIB/f3+AgIGBgYGBgYGBgH9+fHx9fX5+f35+fn+AgYODhISDgoB/fn1+f39/fnx8fX5/gIGAgICAgICBgoGAgH9/f39/gIGAgYCBgH9+fXx+f4CAgH9+fn6AgYKDg4OCgYCAgIGBgH9+fXx7e3t8fn+BgoKCgYGBgICBgYKCgX9/fn5+f39/fX18fX1+f4CBgoODgoGBgYCAgIB/fn19fHx9f39/gIGBgYGBgYCAf3+Af35/gIB/f4B/gICBgICAf39+fn5+fn5+fn+AgoODgoGBgYGBgH9+fXx8fHx7fH5/gIGCg4OEhIOCgoGAgIB+fXt8fH19fn5/fn9/f4CCgoODg4GBgIB/gYCAfn58fXt9fX9/f4CAgoGCgYKCgoGCgH99fnx9fX5+gH+Af39/gYGCgYF/gH9/f3+AgX9/gH9/gYF/gIB+fn9/fn9/f36AgICAgICAf4CAgYGAgICBfoCAgH5+f3+Af39+fn19gIGEgoGBgIB/gIGBgX59fH1+gIKCgX58fH2AgoOBf3x8foCEhoWCfnx8foGDgoF+e3t6en2BhISCfHl7gIWKi4iCfHl5foOGhH10bW10f4iOjIaAfn6BhYiJh4J+fX9/fHdxbGxyfYiPkIqBe3t/hoyQjod/e3x9eXNvamtzfoqQkImAenl+ho6RkIl/eXl4dXFtam55hpCTj4Z/e32DiI2Nh4B6enp3cWpmZ3SFlZ2ajoF6en2Ei42IgX59eHBoY2Jqe46eopiHe3d5gIeMjYqFhH90ZlxYYHSMn6efjHpzdHuFjZKQi4iBc2JXU1xzjqSso4t1a2x3hZOZlo+If3BhVlJcdJClrKGKdWxteIWRlpWPi4BuWk5OW3iYr7Oih3JrbXiGkJaWlIx7Yk9GTWmMrLqxlXdlYmx9jZicnJWEa1JERl+DqLy3m3pjXGR3ipmenpmHbVRHR12Cpbu6oH1jWmBziZqfnZeJcVhJSFl8oLm7pIFlW2BwhZWcnJiLdV1LR1h6oby/qYZoWltqgJGanZmJcFVFRFqBqcXFq4VmWV1uhJWbmpOBZ09CRV6GrcTCpn9jW2J2jJqem5OAZk5CRWCIrcG7nntiXGV5jZufm5N+ZU5DSWWMsMG3mHZhXWd7jpqdm5F7X0pBTG2XuMW1k3BeXGh9kZyemYpwVENCVn2kv8OqhWdbXm+Glp6cloRqUURHXoetw76hfGJbY3aMmZqWjn1lT0RJY4uvwryeeWFdaH2Rm5qTiXdgTUZNZ46wwruceWRhbICSmpiRh3RdS0RMaI+wwLeZdmNiboSWnpqShnNeTEZQbJGwvbOVc2Bfb4eZoJqQg3FfUExUbY6ptq6TdWJicYeWnJeMg3hqW1NVZYGfsrCbfmhjboGSm5iOhXxvYFdVX3eTqq+iiG9la3uMl5iQh4B2aV5ZW2qDm6mnln5rZnGDk5uYjYR8cmdgX2RziZqhmop3a2t3iJSYlIuDfHJoZGRse4uVl5CCdW5veYeRlJGKhH51bmtsc36IkJGLgXlycnmEjpKQjIV9dW9tb3R9hYmKh395dnh8g4qPj4uGgnx3c3N1eoCDhYN/fHp7foKFiYuKhoOBf3t4dnZ5fICAf318fYCBg4WGiIeFgn17fYCAfnx6eHp+gYODgoGAf3+AgYODgn99fH6DhIF8enl7foCBgYCAgIGAfn6AgoODf3t6fYGGiIV/enp9gIODgn98e3p7e36BhIaHhIF+fX6BhYaCfHZ0dnt/gYKBf3+BgoGCg4OEhISCf319fn+Af317en1/goOCf35+f4CAgH9+fn5+f4GCgoOCgoGBfn1+f4CAgH58fHx9gIGBgH+AgYGCg4SEg4SDgHx7e3p7e3t7fHx9f4GDhISFhISEg4KAfn19fX5+fHx8e3x+fn+Bg4OEg4KBf4CBgoKBf359fHx8fH1+fn9/f4CBgoOEhIOBgYCAf39/fn59fn5+fn5+f39/gIGBgYGBgICBgIGAf35+fn9+f3+AgYGBgIB/fn+Af39/gIB/f35+f4CBgoGBgH9/f39/f39/fn5+fn+AgICBgYGCgoGBgIGAgH59fX19fX5+fn9/f3+AgIGCgoKCgYB/f3+AgIB/fn1+fX5+fn9/gH+AgIGCg4ODgoB/f39/gH9+fXx8fX5/gICAf39/f39/gYKDgoODg4GAgH9/f359fHx8fX1+f4CAgYGBgYKCgoGAgH+AgIB/fX18fH1+fn9/gIGBgYCAgYKCg4OCgoGAf399fXx8fH19fn9/f4CBgoKBgoKCgYGBgH9/f35+fn19fX5/f4CBgICAgICAgYGBgYKBgH9+fX5+gH9/f319fH1+f4GCgoKBgYB/f3+AgIF/gH9/f39/f4B/f35+f39/f4CAgICAgYGBgYB+fn+AgIB/fn1+fn5/f4CAgYGBgYCAgYGBgH9+fn5/f39+fn9/gIGCgoGAgICAgH9+fn19fn5+f39/gIGDgoKCgYGAgIB/fn19fX19fX+BgYCAf3+AgYOEg4F/fn1+f39+fn19fX1+f4CBgoSEg4OCgYGBgIB/fnx8fH19fn5/f39/f4B/f4CCg4ODgoF/f4CAgICAf35+fX19fX5/f4CAf3+AgYGBgYGAgYKBgYCAf35+fX5/f35+fn5+f4CCg4OBgIB/f3+AgICAgH9/f3+AgYCAf35+fn5/f39/f4CBgYB/f39/f4CBgYGBgIGBgYB/fn19fn5/fn9+fn+AgYGCg4ODgoGAf39/gH9+fHt7fHx9fn9/gICBgoODhIODgYGAgH9+fX19fH1+fn5+f4CBgYGBf3+AgYGAf39+f4CBgH9/f3+AgIB+fX19f39/f4CBgoKCgYGAgIGAgICAfn5+f39+fX19fn5/fn5+foCBgoKDhIOEg4KAf319fHx8fHx7fH1/gIGCgoKCg4KDgoF/f39/f39+fn5/gH9/fn5+fn5+f4CAgYGBgYGBgYGBgYB/f319fn+AgIGBgYB/fn5+fX5/gIGBgYCAgYGBgYGAfn19fX1+fn5/f4CAgICAgYKDg4KBgH9/f35+fn9/f39/f39/f39/f3+AgH9/f39/f4GDg4KCgH9+fX1+fn5+fn5+fn9/f4CAgYKCgoKCgoKAgH9/fn5+fHx8fHx9foCBgoODgoKCgoKBgIB/fXt7fX5/f39/f4CBgoODgYCAgICAfn18fH1+fn5/gIGBgoKCgoKCgoGAfn19fX18e3t8fX5/gYKDg4SEhISEg4OBgH59e3p7ent7e3x9fn9/gYKDhISEhIODg4OBgH59fHx9fXx9e3t7fH6Bg4SDg4ODg4ODgoGAf39+fXx8fH19fn9+fn5+f3+BgoODg4KBgYGBgYGBf35+f39/fn59fX1+fn9+fn5+f3+AgYKDhIWEgoGAgICAf359e3p5enx9fn+AgYKDhISEhISEgoF/f358fHx9fX1+fn19fX5+f4GBgYGCgoODgoGBgYKCgYB+fHx8fX1+fX1+f35/gIGCgoODgoGAf3+BgoGBf358fX5+fn19fX5+f4GCgoGBgIGBgYKCgYB/fn1+f39/fn5+f35+f39/gICBgoKCgYCAgYGBgH99fH5+fn1+f3+AgH+AgYGCgoKBgYB/f39/f35+fn5+fn9/f4CBgYKCgX9+fn9/f39+fn9+f4CCg4OEg4KBgH59fX1+fn59fX19fn6AgIGBgYKCgoKBgH9+f4CBgH99fH1+gIGAf35/f39/fn+AgICBgICAgYGBgYGBgH9+fX19fn9/f39/f3+AgYGAgICAgYGAgH9+fn+AgICBgIB/f39+fn5+fn+Af4CBgoGBgYCAf4CAgH9/fn5+f3+Af35+fn+AgYKCgH9+gICBgYGAgICAgIB/fn+Af39/f39/f39+fn5+f4CAf39/gYKDhIOBgICAgYGAfnx7e3x9fX1+f4CAgICBg4SEg4KBgH9/f39+fn19fH19fn6AgIGCgoGAgIB/f3+AgYOCgYB/fn5+f4B/gH5+fX19fn5/f4CAgICBgYKCgoKCg4OBf359fHt8fX5/fn5+fn5/gYOEg4OCgX9/f35/f399fX1+f4CBgYGCgoGBgIB/f35+fXx8fX6AgYKBgICCg4SEg4GAf35+fXx7ent7fX6AgIGBg4OCgoKCgoODgX99fH1+fn59fX19fn5/gIGAgIGBgYKCgYGBgYGCgYB+fXx8fX59fn59fX19foCCg4SDgYKEhISEgn9+fX18e3t6enp7fX6AgICBgoOEhYWFhoWCgH59fHx9fHp6enx+gIGBgIGAgoSEg4OBgIB/f4CAgICAfn18e3x+f39/f35+f4GBgYGCg4OCgH9/gICAgH59fn9/f39+fn5+fn+AgYGAgIB/f4CAgYKCgICAf4CAf35+fX18fX1+f3+BgYCAgYOEhIOCgYCAgH9+fXx7e3t7fHx9foCCg4ODhISEhIODgX99e3p6e31+fn+AgYKCgoOCgYB/fn19fn5+fn9/gIGDhIWEgYB/gH59fX18e3p6fH6AgIGChISEhIODg4J/f39+f319e3x9fX1/gYB/fn+AgYGAgICBgYGCgYGAf3+BgoSCf3t6eXp+f4B+f359fYCDhYeFhYWFhIOAfXp2dXd7gIKAe3d3e4GHjI+LhH15en+GiIeAeHFwdX2EhYWDgYB/gICDhYaEgXx4dXR4fYOHh4OAfn1/goSGhYJ+fX+CgHx2cnB0fIWNkI2GfXl6gIaMjYmDenNzd3p5eHVydHyEio6Oi4aAfYCGio2Jgnpzc3l7fHl1cHN5g4yQjYZ+eHqCiY6PioF5dHZ8fXp1b251foiPkIuDfn2BhoqLiYJ6dnp8eXRvbW95h5GXlIh9eXqAhYmKh394d3p4dG9rbHeGlJ2bj392dnyEiouIgHh1eHh1bmpqc4SUnp6Tg3ZzeIKKj4+Ge3V1dHBtampxgZKcnJB/dXR8h4+SkId8eXl2cGplZXGElJ2ZinlydoCLkZKNhH58eXBoYV9qgJWiopR/cG12gouQj4iCgX1xZV5fa4GWpaaZgm5ocH6Lk5SLg4B5bWJdXm2FmqaklX9tZ3B/jZWVjoSAeWxhXGBuhZuopZR7aWVvf42Vlo6GgnhqX1tgcoyiraWOdGVkcICNk5KMh4F1ZlxZY3qXrLCihmxgZniJlJaQiYN4alxVWm2LpbKslXhjYW+FlJmVi4R8cGJXVWF5laquoIVsYml8jpiZkomDe21gWFpqhJ+tqJN1YmFvgI+Vk42IgXRlWlhlgJyvsZ+AZ19oeYmSk42Ig3ZoW1ZfdpWttKeKbV9kdIaSlZCJg3hqX1lecIuksKmSdWNjcYSSlpKKhX1xYllZZ4Gcra2cgWlibH2Mk5GKhH5yZVpXX3WSqbKpkXVlZ3eIlJaPh4F4a15XWWiCm6qol31pZXKFlJqXjoh+cWRcXGZ6kKCiloJuZGp6jJaZlY2CdGhhYmt8jpyelINxaGp4iJKWk4t/cmhjZW9+jZiak4d5b295h5GSjIR9dGxnZ214hpGXlIt/dnN5hI6QjomDe3JsaWtyfIePkY2Ee3V1fYePkIyFfnhybm5yeICJjo+Kgnt3dn2GjI2JhH95c3Byd36Dh4eGgn16eXt/hImMioeBenV0dnp+goKDgoB9e3p7gYiLioWBgIB/fHh3eX6BgoF+e3t8fX6AgoWHiIaDfnt6fICDhIF+e3l5e31/gYGCg4OBgYKDgoB+fX1/f39/fn59fX5/f4GDhIJ/fX6AgoGAf35+f39/fXx9f4GCgYGAgIGDg4OCgH99fHp7fX5/gIB/f4CAgIGAgIKDhIKBgICBgYF/fHl5e3+BgH59fH1/goWFhIOCgoKCgX9/fn5+fn57enp7fH+BgYCAgYGDhISDg4KBgYGAfn5+fn1+fn9+fHp7fYCDhIOBgH9/gYKDg4KAfn19f4CAf35+fn+AgH9+fn+AgICAgIB/gIGBgYGBgoKBf359fn5+fHx8fX1+f4CAgYGChISEgoGAf39+fn5+fn59fX1+f4B/gIGBgYGBgICAgIGBgYGAf318fX6AgIKCgYB/f35+f35+fn1+fn9/gYOCgoKAgIGBgYGBgH9+fH19fX59fX9/gICAgICBgYKDgoKCgH+AgH9/gH9/fXx8e3x8fn+BgoKBgoOCg4ODgoKBf318e3x9fX5+fn18fX6AgYGBgoODhIWEg4KBf35+fXx7enp7fH1+fn+AgoOEhIODgoKBgIB/fn59fH19fn5+f4CAgIB/f4CBgoKCgYGAf39/gICAf39+fX1+f39+foCAgH9/fn+AgIGBg4KCgoGBgIB/fn59fXx9fX5/gICAgYB/gIGAgH9+foCAgH9/gICBgYGCgoB/fXx8fX5/f39+f39/gYOEg4OCgYB/f35+fn19fX19fX1+f4CCgoKBgYGAgYGBgoGBgYCAf39/f35+fXx8fHx+gICBgYGBgYKBgYGBgYGAgIB/f39/f35+fn1+fn5/f3+AgIKCgoKCgX9/f3+Af39+fX5+fn5+f39/gH+AgICAgYKBgYGBgoKBgX9+fn5+f359fH19fn5+gICAgYKDg4KBgIGBgYF/f399fn5+fnx9fX5/f4B/f4CBgoODg4GBgYCBgYCAf39+fXx7fHx9f3+BgoGBgICBgYKBgoGAgX9/fn5+fn9/f4B/fn59f35/gICBgYGBgYGCgYKBgX9+fnx8fX19fX5+fn+AgIGBgoKCg4OCgICAf4B/f359fX19fn5/fn6AgIGAgH9/gYKCgoGBgICBgICBf359fX19fn5+fn5/f4CAgIKDg4KBgYGAgH+AgH9+fX5+fX9/gICAgICAf3+Af4B/f4B/gICBgYGAgH9+fn5/f39/f4CBgYGBgYB/f39/f35/f39/f39+f4CAgYCAgH9/f3+AgICAgICAgIB/f3+Af39/f3+AgYCAgIB/f4CAf318fH1+f4CBgYCBgYGCgYGBgIB/f359fX1+f3+AgICAgICAgICAgICAgICAfn5/f39/f4B/fn5/gICAgICBgYGBgYCAgIB/f39+fn19fX5/gIGCgYGAgICBgYGBgH9+fn9+fn5/f39/f39/f39+f4CBgoKBgYKBgH9+fn5/f39+fX1+f4CBgYGBgYGBgYB/f39/f39+fX5+fn5+f4GBgYGBgIGBgYGBgYGBgH9/fn5+fX1+f4CAgH9+fn5/gYKBgYCAgICAgICAgICAf39+fn5/f39/gH5/f4CBgYKCgYGBgYB/fn19fn5+fn5+fn5+f4CCgoKCgYB/gICAgICAf35+fn5+fn9/f4CAgICBgH9/gICAgYCAgH9/gICAgYCAf319fX5/f35+fn6AgYGBgoKCgoKCgoGAf359fX19fn9/f39/gH+AgIB/f39/f3+AgICAgICBgYKBgH9+fn5+f35+fX1+f4GCgoKCgYGBgICAf39/fn5+fn5+fn9+f39/gICAf4CAgYKCgoOCgYCAgH9/fn59fX19fn5/f4CAgYGBgYGAgICAgIB/f39/gIB/f4B/f39/f39/f3+AgICBgoKBgICAf39/f39+fn5+fn5/gICAf39/f39/f4CAgYCBgYGAgICAgH9/fn59fn5+f4CAgYCAgICBgICAgICAgICAgH9+fn5+f4CAf35+fn5+f4CBgoGCgoKBgoGAgH9+fn18fX19fX9/gYKCgoGAgICAgYCAf359fX1+fn9/gICBgYCAf4CAgIB/gICAgYGBgYCAf39/f359fX5/f35+fn5+gIKCgoKAf4CAgYGAf35+fn9/gH9+fn5+f4GBgoKBgH+AgIB/f39/f4B/fn5+fn9+fn9/f4CBgICBgoKCgYB/f35+fn5/f39/fn5/gYKDg4KBgICAf35+fX1+fn5+fn5/gICBgYGBgYGAgICAf359fn6AgYGBgIB/f4CAgIB/f39+fn5/gIGBgYGAgICAgH9+fn5+fn+Af4CAfn5/f4CBgYCAgICAgYGBgYGBgYB/fn18fX19fX6AgICAgICAgYGBgYCAf35+fn5/gICBgYGAf3+AgIB/gH9/fn9/f39/f4CAgYGBgYB/fn5/f3+Af35+fX1+f3+AgYGCgYCBgYGBgYCAf35+fn5+fn5/f3+AgICAf39/gIGBgYB/fn1+fn5/f3+AgICBgYGCg4KBgH58e3x+f4CAgIGBgYKBgYGBgYB/fn59e3t7fHx+foCBg4SDg4KBgYKCgoF/fXx8fHx9fn9/f39/gIGBgoKCgoKBgH9+fn19fX1+foCAgH9+f3+AgoKCgYB/gICAgICAgIB/fn19fX1+f4CAgYGBgYCBgoKCgYB/fn19fHx9fX5+f4CAgIGCg4ODgYGCgYF/fX19fn5/f3+AgICAgH+Af39/f39/fn5/f4CBgoKCgIB/f4CAgIB/fn19fn5/f4CAgYGBgYGBgYGAf39/fn59fn59fX1+f4CAgIGBgYGCgoGBgX9/f4CAf39/f35/f35+fn5+fn5/gYKCg4KBgIB/gICAf35+fX1+fn5/f4CAgICAgICAgYKCgYGAgIB/f39/f35+fn5+f39/f3+AgICBgYGCgoKBgYB+fn59fX19fX19f4CBgYKCgoKCgoKBf39+fn5/f3+AgICAgH9/fn5+f3+Af39/f3+AgIGBgYGBgH9/f35+f39/f3+AgICBgYGAgIB/f39/fn5+fn5+fn+AgICBgYB/f3+AgYCAf39+fn5/f4B/f4CBgYGBgYCBgIB/gIB/fn18fHx+f3+AgICAgICBgYKCgoKBgIB/f39+fX19fX5/gIGBgICAgIGCgoGBgH9/fn5/fn59fX5/f4CAgICAgICBgYCAgICAgYGBgYGAf35+fX19fX19fX5/gIGBgoOCg4OCgYGAgH9+fXx7fHx9fX1+gIGCg4WEhIODgoKAf399fHt7fHx8fX5/gIGBgYKCgoKCgoF/fn5+fn5+fX19fn5/f3+AgYKCgoKCgoKCgYGBf318fH1+fn5+fn5+fn9/f3+AgIGBgYGBgoKCgoKBgIB/fn9/gH59e3p7fX+AgYKCg4ODgoKCgYB/fn18e3t8fX1+f4CAgICBgoKCgoKCgYB/fn5+fn9/f39/fn59fn+AgIGAgYGBgYGBgYGAf39/fn59fX19fn+AgYGCgYCAgYGCgYB/fn59fX5/f4CAgICAf3+AgoGAf35+fn5/f39/f39/gICAgIB/f3+AgH9/gICAf39/f4CBgYKCgYCAgH9+fX19fn18fX5/f4GDg4KBgYB/gIGBgX9+fn18fX1+f4CBgoKCgYKCgoGBgX9+fX19fXx7e3t9f4GBgIB/gIOFh4aEgX9/gIB/fXp3eHyDhYF7d3Z6gYmMjImEgH18fX5/gIKDgn13cG1vd4GLj42Gf3t8gIaKjIuHgHl1dHqAgX14c3BzeoOLj42HgH19gYaLjIiAeHJzeoF/fHZxcHZ/iI+QjIR+fH2BhouLiIF5c3h/gX13cW5yfIaOkYyDe3d6f4aLjomAeHV6f4B8dnBvdoGKkpGIf3l4fYOJjY2GfXl7f3t1cGxtdoOOk4+Eend6gIaLjYqCe3uAf3dybGpzgI2YmI1+dHN4gIiMjIeAfH59dnBranF+jJeakYBzcXd/h4yOiYB9fn11b2pqcoGSnJyQfnBudX+Ijo+JgHx8d29oZml2iZmgnI16cXR8hIyRjYR8e3huZWBgan6UoqaahXRwd4KLkJGKgX17cGRdXWR3j6GooIp1bXJ+iZGVkIV+e29hWFhgdo+iqqKNd21xfYuUl5OJgXxvYVhWXnOOoqqhiXJpbnyLlZqXjYR/cV9UU152kaatoIZuZWx7ipabmI2GgHFgVlVhe5irr51/Z2Bpd4aSl5OLh4BvXlVXaIaktbOce2RfanqJk5WOhoF3ZVdSWXCRrbqyl3dkZG9/jJSSioR9b11SUV14mbG5qotvZGh3h5SYlIyFe2dWT1JkhKK1sZp7ZmNtf4+ZmpKKhHdlV1FYcI+os6mOcGFjcICOl5aPioJxX1VWZIGdsrOggGdhaXqJk5aRiIF3ZlhTWGuJpbSvmXpmZHCBj5WVjoZ+cWFXVV51kqiyqI9zZGZ2iJSYlIuCeWxdVVdkfJaoq52Fb2dvgI+WlpCHgHlrX1hbaICXp6iagm1mb4CPl5eQhYB4a2BcYGyAlKCgk35taHKDkZiXjoR+enFmYWJrfI+cn5aFc2twfouUlY+Ff3tyaGNlbHqMl5qVh3lwcn2Ij5GOhX98dGtmaG55h5GWk4p/d3V7hY6Sj4iBe3NqaGxzfYaLi4iDfXt7foGHjI2Lh4F5cnBydnuAgoSEhIB+fHx/h4uLhoF/fnx4dnZ5fYGDg4KBgH59foCDhYSCgH5+fnt5eXp9goWGhIKBgYCAgICBgoGAfXt8f399enl7f4OFhIKAgIGCgX9/gIOCgH17e36Dg397ent9gICAgYGDg4ODgH+Ag4J/fnx9f4OEgHp2eHt/goKCgoJ/fX5/gYKFhoaDf3x6fH+ChYJ9d3Z5fYCCg4KBgYGCgoGAf3+BgYB/fn5+foB/fXt8fX+Dg4GBf3+AgYGCgn+Af36AgH5/gH6Agn59fnx+goGBg399f35+gYB+gYB+gYF/gYKAgIF+fn9+fn9/f4B/fX5+f4GCgoODgoKCgYGBgH5+fHt7ent9f35/gICBgoODhIODg4KDgYB+fXx7e3t8fX1+fn5/gIKCgoODhIOCgoGBgH+Afn17e3p6fHx+f4CBgYGBgoODhYSCgoGBf39+fn19fX18fX19fX1/f4CAgIKDhYWEg4KAgH9+fX18e3t8fHx8fX+Bg4SFhYWEgoGAgIGBgH9+e3l6ent8fX9/gIGBg4ODhISEg4OBf359fHx8fH1+f4CBgYGBgYGCgoGAgH9/fn19fX1+fn9/f4CBgoKCgYGBgYGBgH58e3t7fX5/gIGCgoKCgoOEg4KAf318fHx8fH1+fn5/f4CAgYGCg4OEg4KBgH9+fX19fX1+f4CBgYCBgYGAgYGAf319fXx9fn6AgYGCgYGCg4ODgoGAfn18e3p7fH1+f3+AgYKChIWFhIOBgH9+fn19fHx7e3t8fn5+gIGDhIWFhYWEgoGAgH99e3t6enp6enx+f4GChIWGhoWEgoGAfn19fX1+fXx8fn5+foCBgYGBgoKCgoGAgH9/f39/fn5+fn6AgICAgH+AgIB/f4CAf39/f39/gIGBgH9/f39/f3+AgICAgH9+f39+f3+AgYGAgICAgIGBgYB/fn5+fX5/f4CBgYGBgYB/fn9/fn+AgH+AgH9/gIGAgIGBgICAfn1/gYCAgYB9fH5+fX6BgH+Bg4OCgoJ/f4GBf35+fHt8fX19f4GBgYOCgH+CgoCAgH58fH+AgIGCgH5/gYB+f39+foGBf3+BgH5/goF+f4B+foCBgICBgYCAgYB+fn9+fX1/f3+AgYKBgYKCgYB/fn1+f35+fn9+fX+Af4GDgoGAgIB/foCAfn+AgH9+foCAgIODf4CCgH19fX6BgICAfXx/fn1/gX+BhIOCgoGAgYB/gH58fn16fH18f4KBgYOBgYSDgoKAfYCBfn9/e3x/fn1/fn6BgYCBgX6Ag4GBg4CAgYB/gX98fn99fn57fICAf4KCgIKDgoGBf3+BgH9/fXt8f3+AgX9+f4GBgoJ/fn+AgIGAfX6Af4B/fXx/gYGCg4B/gYB/gYB9fX9/f39+e31/f4KEgX+Cg4GCg359gYF/goF7enx8fYCAfX6BgIGEgn6Bg4GChIF+gIF+f4B9e3x+foCBfnx/gYCCg4B+gIB/gYJ/foCCgYKDfnx9fn1/f3x8f3+AgoOAf4CAgIODgH6AgICCgn99fX19f397enx+f4KDgYCCgoSGhYF/f39+fn59fH1+fX9/fXx/gYCChIF/gYGBg4OAfn9+fn9/fHt9foCDg4F+f4CBgYJ/fX6AgIKCf3x9fn+Bgn99fn9/gYGAfn9/gIKDgX1+f3+BgYB9fn9/gIJ/fHx/f4GCgH5/gIGChIF/fn9/gIF/fHx9fX+BgX9/f4CCg4J/f4CBgoSCfnx+f4CCgHx7e3x9gIB9fYCAgoWEgoGCg4SEgX57e3x8fX17ent8foKDgYCCg4SGh4SBgYB+fn58eXp8fHx9fHt9gYOFhoOAgYKCgoOCf35/f39/fnt7fn5+f359fYCBgoOCf36BgoODgX58f4CBgoJ/fX5/f39/fXt7fH1/gH58f4SFhoeFgoGCg4KCf3t4eXt7fHx6enx+gYSEhISEhoeGhIB9fH1+fn18eXh7fX+BgX9/goSEhYOAfoCBgoKBfnx9f39+gH99fX9/f399fHx/gYKCgoB/gYODg4F/fX+BgYGBfnt8fn+AgH98fH5/fn9/fn+Bg4SFhIKAgIGCgoF/fHp6ent7e3t7foGEhoaFhIOChIWDgX58e3t9fXx7e3t8foCAgIGBgYKEhISEgoB/gIB/fn57e31/f35/fn19gIKCgoF/f4GDgoKCgX9/gH9+fX18fX6AgIGAgH9/gYGBgYF/f4B/f39/f35+gIGAgICAf3+BgH+AgYB+f4B+fX5/fn+BgYCBgoF/goKBf399fH1/gICAf358fX5/f4GAfn6AgoOEhIKAf4CBf359fHt8f39/f39/gIGCgYGAgICAgYGAfn5+f4CBgoF+fXx9foCBgH9+fX5/goGBgYB/f4GCgYCBgH9/gH9+f4B/fn5+fX1+f39/gIGBgICBf3+CgoGAgYF/gIKBfn5/fX1/gX99fn58fYGCgYCBgH+Ag4SDgoKAf39/fnx9fnx7fH59fX+CgIGEhYODhISBgIGBfXx+fHp7fn17fX9+fX+Dg4GDhIGAg4WDgYGAfX1+f317fHt5en1+fX+BgYCChYaGhoaDgICBf318e3l4enx7e36Af4CEhoSDhIOBgYODgH5/fnx8fn17fH19fX+CgYCBgYCAg4WEg4KCgICAgYB9fXx6eXt8fH1/f36AgoWFhYWFgoGDgoB9fXt5eX19fHx/f3+Bg4SCgoOCgICDgX9/gH99fn9+fH1+fXx9f39/gYKCgoSFhIKBgH59fn5+fX5/fX1/gH9+gYKBgYODgH5/f31+gIF/fX5/fX6BgoB/gIB+f4GBgICCgn9/gYJ/fn9/fn5/f35+f399foCAf4CCgoCAgoB/gIGBgH9/fn1+fn9/f4CBgH5/gH9+gIKBf3+AgICBg4F/f4F/fX6Af31+gH59foCAf4CDgoCBg4J+foGAfX2BgX19gIB+fYCBfn2Bgn9/g4SAf4OCfn2AgX18f397en6Afn2Bg4J/gYOCgYKEgoCAgH99fX59fHx+fn1/gYF/f4CAgIGDhIKAgYB+fn+Afn5/f318fX5+foCBgICBg4KCg4SDgH99fHx8fHx8fn5/gIKDgoCBgoB/foCAf3+BgX59fn+Bf4CBgX99fYCCgYGBgYB+fX5/f3+AgYF/fn+AgYGAgIB+fX1+gIGAgIGBf35/gYKAfn5/f359fn9/f3+Bg4SBgICBgH9/gIB+fXx9fX1+foGDg4GBgoGBf3+AgH99fH19fn1+gIKCgICBgoKBgYGCgX9+f35+fX1+f39+fn5/f4CAgIGCgoGAgICAf39/f39/fn19foCBgYGCg4F/fn+AgICAf3+Af319fn9/fn5+f39+f4CCgoOCg4OCgX9+f39+fn18fH5/fn5/f4CBgIGBgYKCgYKCgoB+fn5+fHt7e3x+fn6Ag4ODg4OCg4KBgoKCgX99fHt7e3x8fX19fX2AgYOEhISEhISCgoGAgH99fHt8fHt7e3t8fX5/goSGhYSFhYSCgYF/fXx7ent8fH1+fn+AgYKCg4ODgoKBgX9+fn19fn5+fn5+f35+gIGBgYGCgoGBgYGAgH9+fX1+fn5/f4CAgICAf35/gICAgYB/f3+AgIGBgYCAgICBgYGAfn1+f35+fn5+f4CAgIGCgoKAf39+fn1/f35+f4CAgoKBgICBgH9/fn5/f4CBgoGAf39/fn5+fn5+fn9/gICBgYGBgH9/fn9/f4CBgYCAgICAgH+AgYB/f39/fn9+fn5+f3+AgIGAgICAgICBgYF/f4B+fn9/f39/f39/f39/gH+AgYGBgYGAgH9+f39+f35+fn+AgIGBgYGAgICAgX9/gIB/fn59fX9/f35+fn+BgoKBgoKBgICAgYB/gIB+fXx8fX5/gICBgYCBgYGBgYGAgH9/fn19fn+AgYGCgoGAgIB/fn59fH1+gIGCgoCAgIGCgoGBf35+fn5/f39+fXx9fX6AgYGCg4KDhISDgoF/fn17e3p6ent9fn+Bg4SFhYWEhISDgH59e3t6enp7fHx+f4GCgoOEhISDg4KBf35+fn18fHx8fX5/gICBgoKCgoGBgYGAf39/fn5+fn5+f3+Af39+fn+AgYGBgYCAgYGAgICAf35/f35/fn5/gH9/f4CAgYGCgoGAgIB/fn5+fn59fX5+f4CBgYGBgYGAgICAgYGBgH9+fn6AgICAf39/fn59fn+AgICAgIB/gYKBgYGBf39+fXx9fn5+f3+AgYGBgYGCgoKCgYGAgIB/fn19fX19fn5+fn9/gYGBgYGAgH+AgYB/f39/fn+AgICAgYGAgH9/f39/fn5+f35+f3+AgYGBgYGBgIB/f39+fn5+fn+AgIGBgICAgICBgYGAgH9/fn5/gICAgIB/f39/fn5/fn5+fn+AgYGBgoODgoGAgH9/f4CAfn59fXx7fX5/gICBgYGCg4ODg4OCgYB/fXx7e3t7fHx9fn+AgoKCg4SEg4SDgoCAf359fX19fX5+fX1+fn5/gIGBgYGBgYGCgoGBgX9+fn5/fn59fn5+f4GBgICAgICAf39/f3+AgYGBgYGAgICBgYCAfn59fX19fn19fX1+f3+AgoOEhYWEhISCgH58e3t7e3t7e3t8fYCChIWFhIWFhYOCgX9+fHt7e3t6eXp7fX+BgoSEg4ODhISEhIKBgH59fHt7e3t8fH1+f4CAgYKDg4SDg4OCgYB+fX18fX19fX19fX6AgIGCgoOCgYGBgYCAgIB/f35+fX1+gICAf39+fn9/f3+AgIB/gICBgoKBgIB/f4CAgIB/fn19fn9/f39+fn6AgIGBgoKBgYGBgYGAf359fX5+fn5+fn6AgICBgYGCgoGAf39/f4CAf39/fn5+f3+AgYCAf39/f39/gICAgIB/f4CBgYKBgIB/fn59fH19fn+AgIGBgYCBgoKBgYGAgICAgIB/fn1+fX1+fn5+fn9/f4CBgoKCgoKCgYGAf4B/f39/fn1+fn5/f39/gIGBgYGAgICAf4B/f39+fn5+f39/gIGBgYGBgIB/fn5/gH+AgH9/f3+AgYOCgYB/f39/fn5+fn9/f3+Af39/f39/gIGBgYB/f4CAgYGBgIB/f359fX5+fn5+fn1+f4CBgoODg4OCgoKBgH9+fXx7enp7fH1+f4CBgoODg4OCgYGAgIB/fn5+fX19fn5+fn9/gIGCgoKBgICAgIGBgYB/fn5+fX5+f39/f35+f39/f4B/gIGBgoGCgoOCgIB/f35+fX18fH19fn5/gIGBgoKCgoODgoKBgYB/fXx8fHx8fX5/f35/gICBgYGCgYGAgICAgYGCgoGBgH59fHx8fX19fX5/gIGDg4SEhISDgoF/fXx8fHx8fHx8fX+AgoKDg4OBgICAgICAgIB/fn5/f3+Af39+fn5/f4CBgYGAgICBgYKCgYCAf39+fX19fX19f3+AgYCAgICAgYKCgYGAgICAgH+Af39+fn19fX1+f39/f4CBg4ODgYGBgH9/fn5+fn9+fn19fX1/f4CBgoKCgYGBgYCAgICAgIB/f39+fX19fn9/f3+AgIGBgoKCgYGAgH9/f35+fn5+fX5/f35/gICAgIGCgYKCgoCAf3+Af39+fn19fX5+fn5/gYKCgoKCg4OCgX9+fn5+fX18fH1+fn5/gIGCgYGBgICBgYCAgICBgICAf39/f39+fn59fn9/f4CAgICAgYGBgYGBgICAgIGAf359fX19fn9/f3+AgIGCg4KCgYGAgH9+fn19fX19fn+AgYGCgYGCgoGCgYB/fn19fX5/f4B/fX1+f4CAgYCAgIGBgYGCgYB/f4B/f39/f35/f4CAf39/f39/gICAgYCAf39/gIGAgICAgIB/f4B/fn59fX5/gICBgYGBgoKBgYB/f319fX19fn9+fn+AgYKDg4SDgoKBgH9+fn19e3p7e3x+fn+AgYKDg4SEg4ODgoGAgH9+fXt6e3x9fX1+fn6AgYKCg4ODg4OCgYGAf359fXx8fHx9fX+AgIGBgYKCgoOCgoKBgIB/fn5+fn59fHt7e3x+f4CCg4SEhISDg4OCgX9+fXx8fHx8fX5/gICAgYGBgoKBgYB/gIB/f3+Af39/fn19fX5+f35+foCBgYGBgIGBgYGBgYGBgYF/fn18fH1+f35+f4CBgYKCgYB/f35+f39/f39/fn+AgICAgICAf4CAf4CBgX9/gH9/gICAgH9/f3+AgICAgICBgH9/fn5+fX1+fX19foCCg4ODg4KAgICAf39+fXx8fX5/gIGCgoGBgYGBgYGAf35+fX19f39/gIGBgYGBgIB+f35+fn5/fn9/gIGBgoGBgICAgICBf35+fn19fn+AgIGBgYCBgYGBgYCAf39+fn5+fXx9fn5/f3+AgYGCgoKCgYGAf39+fn5/fX1+f36AgYGBgYKCgoKBgH9+fn59fn18fX1+f3+AgYGCgoKCgoGBgYB/f39/f35+fn5+gICAgIB/f39/f3+AgICAgICAf4B/f39+f35/gH9/gYCAgH5/f35/fn9/gIGBgoOCgoKBgH9+fXx9fnx9fHx+f4CCgoODgoKBgYGAgH9+f35/f35/fn5/fn+Af39/gIGAgICAgoCBgX9/f3+Af4CAf4GAf4B9fn1+f3+AgH+AgIGDgoKCgYOAgIB9fXt7fXt8fX1/f3+CgoSFhIaDgoF+gH9+f319fHp8fH5/foGBgYKBg4SCgoCAf31+fn5/fn9/f4GAgIB/gYB+gH1/f3+BgIGCgYOBgIB9fX18fn5+f36Af3+BgIOEgoJ/fn9/gH9/gHx9f36Afn+BfoB/foB/gYOBg4GBgn+Af31/fX19e318fX9/gYKBgoKDhYKDg4GCf359e3x8e318fX19gIGDhYOFhIOEgoGAfn59e3x6e3x8fn5/gH+BgYGEg4ODgoKCgoOAgYB9fHx6fHt8fHx+foCCgoWFhIWCgYF/f359fnt8fHt9fn6Af4GBgYOCgoKAgIB/gYB/gH5/f36Af4B/fn9/f4CAgIB+f319gH+CgoCBgICAgIGBgIB+fn59f39/gH+Af32Af4CBgIGAgIB/gIGAgYCAgX9/f36AgIB/fX1/fn9/f4B/f4CAgYGAgoCAgH5/fn6Af4GAf39/f39/gIGBgX9/f35/gICAfn5+fX+BgYKBf39/f4CAgYGAgH9+fn5/f39/f35/fn+AgIGBgYGAgICAgYGAgH9+fX19fn1/f4CAgIGCgoODg4OBgH59fXx8fX19fn5+fn+AgIGCgoKBgoKCgYGAf39+fn59fn5+fn5+fn9/f4CAgH9/gIGCgoKCgoGBgH5+f39/fn19fX1+f4CAgIGBgIB/f4GBgYGBgH9/f4CAf39+fX5/gIB/gH9/f4GBgYGBgYGAf39/fn5+f3+AgIB/f39/f39+fn59fn9/f4GCg4OEhIODgoGAf359fXx7e3t7fH19f4CBg4OFhYWEhIOBgH99fXt7e3t7fHx9fX6AgYGCg4SEhISDg4ODgX9+fHx7fHx8fHx9fX5/gIGCgoKCgoGBgYGBgICAgICAgH9/fn5+f39/fn19fX6AgICAgICBgYGBgYKBgH9/gH9/f39+f39/gIB/f39/f4CAgIGAgIB/f3+AgICAf35+fn5+f4B/f35+f4CBgYGBgICAgYGBgoGAgIB/f35+fn19fX1+f39/gIGBgYCAgYGBgYF/f39/gICAgH9+fX19fn5/f3+AgIGBgYKCgYGBgYCAf35+f3+AgH9/fn5+f39+fn5+foCAgYGBgYGBgYCAgICAgIB/fn59fX5+f39/f3+AgIGBgoKDgoGAgH9/f39+fn5+f3+Af39+fn9/fn5+f39/gICBgYKBgYGBgIB/fn5+f4CAgICBgYCAgH9/f39/f4B/f4CAgICAgH9/fn5+fH1+fn5/f4CAgYGBgYGCgoKCg4KBgH9/f39/fn59fX19fn+AgICBgYGBgIGAgH9+fX19f4CBgICAgICAgICAgIB/fn9/f4CAgICBgoKBgH9/f39/f39/fn9/f39/fn5/gIB/f35+fn+AgYCAf4CBgYKBgYGAf39/fn19fX19fn+AgYOEhIODg4KBf359fHx8e3p7fX5+f4CBgoKDgoGBgYGAgIB/f359fn9/f3+AgIGBgYGAgICAgICAf39/f35+f35/f39/f39/f4CAgICAf39/gH9/gICBgICAgIB/f4CAgIB/f39/f39/gICAgIB/fn5+f3+AgICAf35+f4CAgIB/f4CBgYGAgICAgIGBf35+fX1+fn59fn+AgYKDg4KCgIB/f39/f4B/fn19fn5+f4CAgIGBgYGBgYKAf35+fX59fX19fX5/gIGCg4KDgoKBgYGBgYCAfn19fH19fX19fX5/gYKCg4SDgoGBgH9+fn18fX1+fn5/f4GBgoKBgYGBgICAf3+AgICAgIB/fn9/fn59fX1+fn9/f4CBgoKCgoGBgICBgYB+fn19fX1+fn5+fn+AgYGCgoKCgYCBgYCAf39/fn5+fn19fn5/f3+AgIGBgoKBgICBgH9+fn59fX5/gIGBgYGBgIB/gICAf39/fn5/f39/f39/gICBgYGAf4CAf35+fn5/f4CAgICAgIGBgYCAf3+Af39/f39/gICAgH9+fn5+f4CAgIB/f39/f4CBgYCAgIB/f39/fn+AgIGAgH9/fn+Af39/f39/f4CAgYCAgH9/f4B/gICAgICAf39+fX5+f4CAgICBgYGAgYKCgYGAf35+fXx7fX5+fn9/gIGDg4KCgoGAgH9/f359fH1+fn9/gYKCgoGBgH9/f39/f4B/f4B/gICAgICAf4CAgIB/fn19fX1+f39/gIGCgoKCgYGBgYB/f39/fn9/f39/f35+f35+f39/gIGBgYGCgoKBgH9+fX19fn5+fn5+fn+AgYGCgoGCgoKCgoGAf35+fXx7e3x9foCBgoKCg4KBgYGAgH9+fX18fH1/f4CAgICAgYGCg4KBgYCAf35+fn19fX5/f4CAf4CBgYGBgYCAgICAgH9/f39/fn59fX5/gIGBgYGAgYGAgICAfn5+f3+AgICAf39/gIB/fn5+fn6AgYGBgoGAgIB/gIB/f39/fn9/f39/f4CAgH9/f35/gIGCgYGAgICAf39+f35/fn5+f39/f4CBgYGBgYGBgIGBgIB/fn59fX19fn6AgIGCgoGCgYGBgYCAf39+fn5+fX19fX5/gICBgYGBgYGBgYCAgICAf39/gIB/fn1+fn5/f39/gICBgoKBgYGAgH9/fn5+fn5+f3+AgICAgH+Af39/f3+AgYGBgYCAgIGBgIB/fn1+fn1+fn5+fn+AgYKDg4KBgH9/fn5+fn5+fn5+f3+AgIGBgYGBgYKBgICAgH9/f35+fn5+fn5+f4CAgYKCgYB/f39+f3+AgIB/fn5+f4CAgYGBgYGBgYCAgICAf39+fn9/f39+fn5+f39/f3+AgYGBgYGBgIKBgIB/f359fn19fn99foCAgoGCgoGCg4GBgH+Bf35+fXx9fH1+fX9/f4GCgoOBgYKCgoGAgH9+f35/fn19fX5+fn+AgYGBgYCBgYGAgYGBgH9+fn5+fn+AgICAf4CBgoGBgICAgH+Af39/fX19fX5/gIGBgIGBgYKBgIB/f35/f39+f35+fn9/gIGCgoKBgYGBgYB/fn18e3t8fX+AgICBgYKCg4ODgYCAf3+AgH9/fnx8fH1/gICAgICBgYGCgYB/f35/f39/f39/f39/gIGBgYF/f39+f4CAgIGAgIB/f39/f35+fn9/gICAgH9/f39/gICAf39/f39/gIGBgYGAgICBgYGAgH9+fn5+fn19fX1+f4CAgYCAgICBgYGBgYCAf4CAgYCAf39+fn5+fn5+f39/f4CAgYGAgYGBgYCAgIB/fn59fX5+fn5/gICAgYKDgoODg4KBgH5+fn5+fX18fH19fn+AgICBgYGCgoKCgoGAgICAf359fn5+fn+AgICAgICAgIGBgX9+fX5+fn9+fn5+f4CBgYKCgoKAgIGCgYGAf35+fX19fX1+f39/gIGBgoKBgoGAf39/f35+fX19fn+AgYGAgICAgIGBgYGBgH9/gIB/f359fn9+fn5+fn5/gIGBgoKCgYGBf39/f4B/fn59fX59fn9/f4CAgoKDg4KBgYCAf39/f359fH19fX5+f4CAgYGBgoKCgoKBgH9+fn5+fn59fX5/f4CAgICAgICBgYGBgYB/gICAgH9/fn5+fX5+f39/gICAf4CBgYGAgIB+fn9/f39/f4CAgICAgYGAf39/gIGBgH9/f35+f39/f35+fn+AgICAgH+AgICBgYCAgICAgICAf39/fn9/f3+AgICAgICAgICAgYGAf359fXx8fX5/f4CBgYKCgoODgoOCgYB/fn59fHx8fHx9fn+AgICCgoKDg4OCgYB/fn5+fn19fX19fX5/f4B/gIKDg4ODgoGBgYB/f319fHx7fH1/gICBgIGBgYKCgYGAf39+fn5+f39/f3+Af4CAgYGBgYCAgH9/f39/f35/f39/f35/f4CBgYGBgICAgICAgH9+fn5+fn5+f4CAgICBgYGBgIB+fn5/gICAgH9/fn5+f4GBgoGAgICBgYGBgX9+fn5+fn5+fn5/gICAgICAgICBgYGBgICAf35/gICBgYCAf39/f39/f35+fn5+fn+AgIGBgYCAgIGAgICAgIB/f39/f39/f35+f39/f4CAgYGCgoGBgYGAgH9+fn5+fn5+fn59fn5+fn5/gIGBgoKDgoKCgYGBgX9/fXt7e3x8fX5/gIGCg4SDgoKBf39+fn5+fn5+fn5+f4CAgYGBgYKBgX9+f39/gICAf359fn9/gIGAf39/gIGBgYGAf35+f39+fn59fn6AgYKCg4KCgoKCgoGAfn18fHx9fX19fX6AgYKCgoGAgICBgYKCgoB+fX5+fn9+fn5+f3+AgICAgICBgYGBgICAgICAf39+f39+fn5+fn+Af3+AgYCBgoKBgICAgH9/f35+f35+f35+fn9/f4CBgYGCgoGBgYGAf39+fn5+fn9/fn9/gICAgYCAgIB/f3+Af4CBgICAf39/f3+Af39/f39/f4CBgYGAf39/gICAgIB/f35+fn9/f3+Af4CAgICAgH+Af39/f35/f4CAgYGAgH+AgYGBgYB/f35+fn19fn5+fn+AgYGAgYGAgIGBgYCBgIB/f3+AgH9/fn5+fX1+f3+AgICAgIGBgYKCgYCAf39+fn19fn5+f4CBgYGCgoGBgH9/fn5/f39+fn5/f4GBgICAgIB/f3+Af3+AgIB/gIB/f35+fn+AgIGCgYGAgH9+fn+AgH9+fn9/f4CAgICAgIGAf39/f39/gIB/f39/gICAgYGAgH9+f3+AgICAf35+f39/gYGBgICAf4CAgICAgH9/f39+f39/f35+f4CAgIB/f39/f4CBgYGBgIB/f39/fn5+f4CAgYGBgYB/f39/gICAf319fH1+f4CBgYGBgICAgICAgYB/fn5+f3+AgYGBgICAgICAgIB/fn59fX5/gIB/gICAgICAf4CAgICAgIB/f39/gICAgIB/f4CAgH9/gICAgH9/f35/gICAgICAgH9/fn+AgH9/f39/gICAgYGAgICAf4CAgIGAf35+fn5+f4CBgICAf4B/gICAgICAgICAf35+f4CAgH9+f3+AgIGBgYGAf39/f39/f359fX5/gH+AgYGBgYGBgICAgYB/f39+fn19fX5/f39/gIGBgoKCgoKBgYB/fn19fH19fn5/f4CAgYGCgoGBgICAgH9+fn9/f3+Af4B/f39/f39/gIGAgH9/fn+AgYKCgYGAf39/f39+fX19fX5/gICAgIGCgoKBgYCAf39/f359fn9/fn5/f4CBgYKBgYGBgH9+fn5+fn5+fn9/gIGBgoKBgICAf35/f35+fn5+fn6AgICAgYKCgoKBgIGAgYGAfXx8fH19f39+fn+AgIGCg4OCgYCAgIGBgH9+fn1+fn5+f39/f39/gICBgYGBgICAgICAgH9/f35+fX5/f39+fn9/gIGBgYGBgYGBgYGBgICAf39+fXx8fX5/f39/f3+AgoKCgYGAf3+AgICAgIB/f4CAgH9/f39/f39/f35/f3+AgICBgICBgYCAf39/f39/fn5/fn5/gIGBgICAgYGCgYB/f39/gIB/fn1+fn9/gH9/f4CAgICAgICAgICAf4CAgICAgYGAf35/f39/gH9+fn5+f4CBgoKBgX9/gICAgIB/fn5+f39+f4CAgICBgYB/gICAgYCAf39+fn9/f4CAgIGAf39+fn9/gIB/f39/f3+AgIKCgoKAgH9/f39/f39+fn5+f3+AgIGAgICAgIB/gH9/f4CAgICAgH+AgICAgIB/fn5+f39/f359fn9/gYGCgoKBgYGBgYGBgH5+fXx7fH5+f4CBgYGBgYKCgYCAf39/f359fn5+f4CAgICAgYGBgYGAf39/fn5+f4CBgYGBgICAgH9/f39/f35+fX1+fn+BgoGBgYGAgIGBgYGAf35/f39+fn5+fn9/gICAf4CAgICBgYGBgICAf35+fn5/f39/f39/gH9/f3+AgH+AgICBgYGAgIB/gICAgYGAf39+fX1+fn59fX19gIKDg4ODg4KCgYF/f359fHx9fn5+fn5+f3+AgYGCgoKCgYGCgoGBgH59fXx8fX19fX5/gIGBgICAgICBgoKCgoGAgIB/f39/fn19fXx8fH19fn+BgYKDg4SEhIOCgX9+fXx8fHx8fHx9fn+AgoKCg4ODg4ODgYB/f35+fX19fHt8fX5/gIGBgYGBgYKBgYCAgICAgICAf39+fn1+f35+fn+AgYGBgYGAgYGBgH9/f39/f35+f4CAgH9/gH9/f4CAf3+AgYGBgYCAgH9/f35+fn1+f4CAgYGAgIGAgH9/f3+Af39/fn5+f4CBgYCAgICAgYGAgH9/f39+fn5+fn1+f4CAgoKDg4KBgH+AgIB/fn59fX18fn5+f4CAgYKCgYKDgoKBgYB/f359fXx9fX19fn+BgoOCgoKCgICBgH9+fXx8fH19fn9/gIGCgoODg4OCgYCAf359fHx9fn5/f39/f3+BgoKCgoKBgYCAf39+fX19fX1+fn9/f4GCgoGAgYKCgYCAf39+fX1+fn+Af39/f39/gICAgIB/f39/gICBgICAgICBgYGAf35+fn19fX1+f39/gIGCgoKCgoOCgYB/fn19fX19fH19fn5/gICAgoKDg4OCgoKCgYB/fn18fHt8fH19fn+AgYKDg4ODgoKCgYGAgH9+fXx9fX19fn5+fX6AgIGCgoKCgoGBgYGBgH9/fn59fXx8fX5/f4CAgICBgYGBgYGBgYCAgH9/fn9/f39/f39+fX5+f4CAgICBgYGBgYGCgoGBgH9/fn19fn19fn5/f39/f3+BgoKCgoKCgoGAgH9/fn5/fn59fX19fn9/gIGBgYCAgIGCgoKCgYB/f39+fn1+fX19fn9/f39/f4CAgYKCgoKBgYGAf39/fn5+fn5+fn19fn5/f4CBgYGBgoKCgoKBgX9+fn5+fXx8fHx9fX+AgYKDg4KBgYKDgYGAf39+fXx8fH1+fn9/gICBgYKBgYKBgYB/fn19fX5+fn+AgIGBgYKCgoGBgIGAf359fXx8fX5+fn9/f4CBgoKDgoKCgYGAgH9/fn59fX19fn5/f3+AgIGCgoKBgYCAgYGAgH9+fn5+fX18fX1+fn+AgYODg4OCgoGBgIB/fn9+f31+fn59fX5/f4F/foCCgoKCgYGBgX5+fn5/f39+fn9/gICBgoOBgIB/f4B+fHx+f39/fn1+gICBgoKDg4KBgH9+fX18fX5/f35+gICAgYGAgYGBgH+AgYGAgH9/f359fX5+fn5/gICAgICBgoGAgYCAgYGBf35+f4CAgH9+fn1+fn9/f39/fn+AgYGBgYKBgYGBgIB/f35+fX19fHx9f4CBgoKDgoGBgYGBgH99fX19fX5/f39/f39/gICBgYCAgYGAgICAgICBgIB/fn5/f4B/fn5+fn5/gIB/gH+AgoODgYCAgICAf35+fXx9fX1+gIGBgoODg4KBgYCAf39+fXx8fHt7fH6AgYKCgoODg4ODgoGBgH99fHt7e3t8fX6AgYKCgoGCg4OCgYB/f359fX19fX5/f39/gICAgIGCgoGBgH9/f3+Af4B/gICAgH9/fX18fX5+f4CBgYGBgYKDg4OCf359fXx9fn5+fn+AgIGBgYKCgYCAgICAf39/f35+fn5/gICAgIB/gICBgoOCgX9/f39/f359fH1+f4CAgH9/f4CAgYKBgoKEgH19fHx8fX1+f3+AgYGAgICBgIGBgYCAf39/f39/gICAf39+fX5+f39/f4CBgYGCgYGBgIGBgH99fH19fn5+fX5/f4GCgYKCgoGBgYCAgIB/fn19fn5+f3+AgH9+f39/gIGCgoGAgICAgYGAf35+fn5/f39/f4CAgH+Af4CAgICAf3+AgYKCgYB/fn59fn59fn9/f39/f4CBg4OCgYF/f39/fn59fX5+f4CBgYKCgYGAgICAf359fHx9fn5/gIGBgoKCgoGAgIGCgYB/fX18fHx+f3+Af4CBgYGBgYGBgYB/fn5+f4CAf39+fn5/gH9/f4CAgICAgYGBgICAgIB/fn19fX5+f4CAgICAf35/gIKBgoGAgYGBgYGAf359fX5+fn9/fn+AgYGAgICAf39+fn5/f3+AgH9/gIGBgICAgYGAgIB/f4CAgH9/f39/f39/f39/fn9/gIGAf3+Af39/fn1+f4CBgYGBgICBgoKCgYF/f3+Af39+fX18fH1+f4CCg4OCgYCBgH9+fX18fX1/gICBgoKCgYCAgYCAf3+Af39/f39/f35+f39/gICAgYKCgYB/fn5+fn5+fnx9fn5/gIGCgoGBg4KCgoGAgIB/fn19fXx9fn5+f3+AgoGBgYCAgYGAgICBgYCAf39+fn19fX1+fn5+foCAgYGCg4ODg4KCgYF/fXx8fHx8fX1/f4CCgoKCg4KCgoGAgH5+fXx7fHx9fn9/gICBgYKDgoGCgYB/f39/f39/fn1+f3+AgICAgIGCgoGAf359fX5+f4CAgIB/f35+f4CBgIGBgYGCgYGBgH9/fn18fX19fn6AgICAgICBgoOFhIKBgH9/fnx8e3t7fX5+fn+AgYODhISDg4KAgIB+fX18fHx9foCAgICAgYCBgICAgH9+fn5+f4CAgYGBgYGBgIB/f359fH1+f3+AgICBgICAgIGBgH5+fn+BgYGBgH5+fn5/f4B/f35+f4B/gICAgICAgICBgYKCgYGAgH9+fX19fn5/f35+fn+AgoGBgYGBgIB/gICAgIB/fn9/gH9/f39/gICAf35+fn9/f39/gICAgYKCgoKCgH9+fX19fn5+fn5+fn+AgYKBgYGAf3+AgYKCgYB/f4CAgH5+fn19fn5+fX5+f4CBgoGBgYGBgYGCgoKCgH9/fn19fXt7fH1/gIGBgYGBgoOEgoKBgIB/fnx8e3t7e31+f4CCg4OCgoKDg4KCgYB/fn59fX5+f35+f3+Af4CAgICAgICAf39/gIGBgYGAf359fn9/f359fX5+gIGBgoKBgIGBgoGBgH9+fn+AgH9/f39/gH9+fX19f4CAgH9/f4CBgYGAgH9/gICBgYGAgIB/fn9/f39/f4B/fn1+f3+AgICAgYKBgYGAf35/gIB/fn59fH19f4CAgIB/gIGBgoKEg4OCgYCAgH9+fn59fHx8e3t6fH6Ag4WFhYODg4KBgH9+fX19fn59fX1+fn+AgYGBgYGAgIGCgoKBgICAf39+fXx9fn5/f39/f4CAgIGBgYCAgIGBgH9/fn5/gIGAgYGAfn19fX1+f39/f3+AgYKDg4KCgYB+fX1+f39+fX1+fn19foCBgYGBgYODgoGBgH99fX5+fn5/f39+fn9/gYKBgICAgYGBgYB/f39+fn5+fn5+f4CBgYGBgYKBgH9+fn5/f35+fn9/f4CAgYKBgICAgIGBgIB/f35+f359fH1/f39/f3+AgoOEhYOBgX9/f39+fHx7fHx+f4CAgICAgICAgYKDg4OCgoKBgH9+fX18fHt7fH2AgIGBgIB/gIKDhIOCgH9/f35+fn5+fX19fX1+f4GCg4KCgYGBgYGBgX59fX5/gICAf35/f39/gH9/fn9/f3+AgICAgICAgIB/f3+AgYGAfn5+fn5/gYGBgYGAgICAgIB/fn5+f4CAf359fX6AgoKBf35+f4GCgoKAf35/f4CBgYB/fn5+fn+AgIB/f4CBgoKBgIB/f39/f359fHx9f3+AgYGBgIKDg4KCgH59fn9/f317enp9f4KCg4OCgoOFhYSBf3x8fH1+fXt7e3t9gIKDg4KBgYKCgYB/fn1+gICAgH5+fn+BgYGBgH58fH6AgYGBgICBg4SDf39/fX6AgH5+fHt8fX+BgYB/f4CCgoODgH9/gICBgH58e3x+gIKCgX9/gIGDg4F/fXx8foCBgYB/fX1/gYKCf317e32AgoKBf3+BgoODgoB9fX6AgYGAfnx8foGCgoF/fX1/gYGBf359foCBgoF/fXx8foGBgIB+fH2Bg4SDgX9+foKDgoB+fH1+gIKBf317e32BgoOCf35+f4KEhIJ/fX5/gIKBfnt6fH6BhIOAfXx9gIOEg4KAfn5/gYOBgH59fX9/gIB9e3t8f4GDgoB/gIGDhYWDf318fH1/gH59e3t9gIKEhIOAgIGDg4ODgH18e3x8fX18e3x+gYOFhIJ/f4CBgoKBf358fn9/gH9+fn5/gYKCgYB/fn5/gIB/f359fn9/gIKCgYGAgYGBgH9+fX5+f39+f39/f4CBgYGBgH59fX6Bg4KAfX1+f4GCgoB/fX5/gIGBf319foCBgoKBf35/gIGBgIB/fn5/gIKCgHx6fH5/f39/gH+AgoODgoCAfn+AgYKAfnx8fX+BgYGAf3+AgYKCgYB+fX1/gYGAfn18fYCBgoKAf31+fn+AgYB/fn5/f4GCg4KCgoKCgoF/fXx8fX19fXx8e31/gIGCgoKCgoSEg4F/fn5+fn9+fXx7fH1/gYGCgYCAgYKEhISDgX59fX5+fn18enp8foCBgH59foGDhIOCgYCBgoOCgoB+fHx9fX5/fn18fH2AgYKCgYGCgoKAgIGAf3+AgH9+fn19fn+AgH9+fn1+f4CAgYKDg4ODg4KBgH9+fn18fH19fHx8fX9/gYOEhIODgoODgoKBgH58enl7fH5/gH9+fX1+gIKDg4KCgYKCg4KCgX5+fX19fX5/gIB/f3+AgH+AgIB/f4B/gICAgICAgH+Af35+fn5+fn5+gICAgIGBgYKCgoCAgICBgYGBgIB/fn19fX19fX5+fn9/f4CCg4KBgH9/gIGDgoGAf35+fn9/f39/fX1+gIGAgH+AgIGCgYGBgH9+fn5+f39/f4B/f3+AgIB/f359fn6AgICAf39/f4GCgoGCgoF/f39+fXx8e3t8fn+AgYKCgoOEhIODgoF/f35+fHt8fHx8fX5/gIGBgYGCgYGBgYGAgYGAf39/gICBf359fX5+fn59fX6AgYKDg4OCgoGBgX9+fXx8fX5+fX19fn+AgYGBgYGCgoKBgH+AgYGBgYF/fX19fX6AgYB+fH19foCBg4KCgoODgoGBgH59fHt7e3t7fX6AgYKDgoKCgoKBgoKDgoGAfn5/f35+fXx8fX5+fn9+f35+f4GBgoKDgoKCgoKAfn59fXx8fX1+fX5/gYKDg4GCgoSGhoSCf318e3x8e3t6enp8fX+Cg4ODg4ODhIODgoB/fX19foCAgH9+fn2AgYGAf359fH1/gIKDg4KCgoGAgICAfn59fXx9fn5+fn9/f4CBgoKCgYGBgYGAf35+gICAgH99fX6AgIB/fn5/f3+AgYGCgYCBgYCAf35+f35/f35+f3+Af4CBgYB/fn5+f4GCg4KBgH+AgIGAgH9+fn5+fn5+fn19fn+AgIGAgICAgYGCgoOCgX9+fX1+fn5+fX1+f4CAgYKCg4GAgYCBgYCBgIB/gH9/f319fH1/f39+fX1/gICAgYGBgICBgoKCgoGAf319fn9/fn59fn5/gICAgIGBgYGCgYCAgICAfn5+fn19fX19fHx9foCBgYCBgYKDhYaEg4GBgH5/fn9/fn18e3p6fH5/gH9/gYGBg4SEg4OBgYF/gH5+fX17e3t8fX1+gICBgoOCgoKDhIODgoKBfn18e3x8fX19fH1+gH9/gYKEg4OCgYCAgIB+fn5/gIGBfn19fn5/f35/gH9/f36AgoSEg4GAgIB/f35+fn5/f359fX9/f35+f4GBgH9/gIKCg4F/fn1/gYB+fX6AgYF/fn5/gYKBgYCAgoKAfn2AgYF/fn1+f4CAf35+f4B/fXt8gIKDgoF/gIKDgoGAf4CAf318fYCBgH9/f4CBgoB/fn6AgoF/fn5/gIB/f39/gH9+fX1/gIGAfn5/gYKDg4F/fn5+f4KEg4B9fn6Bg4OBfnx8fn+Af358fX5/gIGBgICAgYGBgoOCf3x7fYCCgX98e3yAhoiDfXp7f4OHiIR9eHZ4fIOIiIJ7dXZ8g4iIgnt3eH2ChoeFgHt6fIKGh4WAe3h5fYGFhIB7eXt/g4aGg357fICEh4WAenh5fYGDgn97eXt/g4aEgH57fYCDhYWAfHl6foKFhoJ9eXh+hYqKhH12dnyDiYiCeXNzd4CIioZ/d3Z8g4iKhoB5d3l/hYeDfnl3en+EhoR/fHt+g4eHg358fX6AgYGAfXp5fX+AgH9/f3+AgoSDf318foCCgX9+f4GCg4KCf318f4KBfnx8foCAgYF/fXx+goaHhIB8e32AgoOBfXh2eH6DhIF+fX6BhIiJhX55eX6DhYR/eXZ3fYSJiIF5dXiAh4mGgHp4e4KIiYR7dnh9goWDf3p3d3yDiYmEfHh5f4aJiIN8d3h/h4mFfXd3en+DhYN+eHZ6gYiKhH14en+GioiCfHh7f4SEfnd1d3yBhYWDfnl5fYWKioV+enp/hIeGgXt3eH6DhIB8eXp8gISHhH98fYCFiIaBfHl3eX+DhIB7eHuAhoeFgH57e36DhoN9enp9f4KDhIJ/fn+DhYR/e3l7f4CAf316eXyBhoaDf3+AgICBgoF/fX6BgYB/fH19foCBgoF+fHx+g4aFg4B+fX+Cg4J/e3p8fX5+f39+fHt/goWGhIB/f4GEhYOAfHl6fX9/fn9+fXx+gIKDg4KCgoKDg4J/fX19f4B+fnx7fH19f4CAf39/gIGChIaHhIB/fn5/f359e3t8foCBgICBgYGCgoOCgYB+fX1/gIB/fXt7foGCgoCAf35+f4GCgoF+fn19foCBgYB/gICCgYCBg4OBfn1+f359fXx7fH+BgYB+foCCg4OCgoKAf35+f39/fn59fH6BgX98foCCgoKCgoB/gIKEg4KBfnt6fH6Bf316eXt+gYKCgYGCgoOEhIJ/fHx9f4CCgX56eXyAg4KAfn6AgYKEhISBf35+f39+fHp5en6DhIJ9e36BhIWDgX99fX5/gYGBf319foKEg4B8e36Bg4KAfX1+f4GBgYB/fHx9foKCgoB/foCCg4B9e32AgYKCgX9/f39+f4B/f359fn+BgoKBf3+AgH9/gIGCgn99fX19fX5/f3+AgICAgYCBgICAgIGBgH99fX5/gH9+fX19f4CBgoOEhIKBgYB/fn9/fn59fX18e32AgoGBgYGBgYGCgoGAfn59fX19fn9/gIGCgYB+foCBgoODgoB/fX1/gYF+fHt8fn+BgoF+fYCCg4KCgYB/fn6AgIB9enp8f4GBgoGBgICAgYGBgoGBgYGBgX98ent7fX+AfXx+f4CChISEg4GAf4B/gIB/fHp8f4B+fX5/gIGCg4GAgIKCgYGBf3+AgX9+f358fX9/fn+Af31+gIGBgoF/f4CAgIKDgH9+fn1/gH99foCAf4CCgn99gISDfXuBhoF7fYWEfHyCgXl4g4Z9eYGDe3qDh3x3gIZ+eoKIg36ChH17goaBfICCfXl/hH97gIJ9e4B/en6Hg3p9hYJ7f4aEfX6Eg318fn+Af3p3fYSAeHyJiXtzgpOKdHSLkXlsgpeEaXKOim9viotvbYuSd2+Lk3hxjZV4b4qSdG2JkXZuhYtzbIaQe3CDjn52hY6De4SHfXmCgnd3g4N1dISHeniFiX13g42FeHqEh4F9foGCfnZ4hIuAb3OMlXxme5ySameNmnVhgp6CYHecjGh3mYpndJaLaHKVjGp0lIttd5KFa3iTh254kYdsdpGOdniKhnR5ioR1fop7bX2Sgm17lIlwepKIb3aOjnpyfoeAeHqAgoF5c3yOjXVqgp+QaGeTpXpbfKeMWmecm2lgjZlwYouZcWaPmXJpk5xxZpCacGeQmG5mkJZuZo+ZcmWImXhpg5J7boSOe3eMjXNxjZJzaoeWe2p+kYFvfpKGb3KGiHx6gYSBfn18gouId3GFmIVkaZOec1Z6p49aZJ2kbluLp4Jie5yIZnKTi2pwk49tbpGRb2mMlnhuiZF4cIiReW+EkXtrfpGDbHWOi3RziYt5eYmHeXyLg3J6kIhwdI2Kc3CJkn5veomFe3l/hIJ7en6Ghn51eImSgGp0lJhyX4ChiV9tnp1qX4+meVh+p4VXc6aMVWynlVpno5tfZZ2aY2OanWlklpxrYZKhcVyJpXpYfqaEWXeljV1wopFeaJ2aZ2SWnm1ci6eAXHSZkXFtg4p+e4J9d4GOf2x8m45jZJmreFB5q5JaYJefcV6Gn3xffqSMYXakk11lnZxjWpOmcFWEo31ggp+BY32bhWh8nYpkcpuQZWmWl2tolJhqYZKhclyKpHtae6CFYHSbknJxiIp9fod+c3yIfnR7hn91e4eHgoSGgHyIj3xqeZOIZWeQm3Nfg6GHZnackW5wkZJxa4iPcmiEknppgZaEa3uXjXR3jY52bH+Ofm19lYpsc5KVcGaHm3xff56KYXGdi2tuk5Nwa4iXcmaIlnhmgpmGbHWQkHhxho6AdX6IgXp4foSGgHZ6goJ6eISLgHWCkINzeYqIeHJ/i4Byd4iJeXOCjod4eoiLfXiBiYJ4d32Cf3p6gYV+eH6Minl2h5F8b3+Qg250i4l0coaLe3GCj4V3fIiIe3iCiYF1d4WIenSCjYBze4yHeHmIiXt0foeAdnmDhX13f4uHd3WFjoF1gI6FcnOGi310gYqDdnaFjH9yfIyGc3SIjnpvgJCEc32QinVxgYqAdnuIiXpzgYyDcneKi3hyho98bn6PhXR5iot8c36Lh3Z0hYx8b3uNhXJ2jY55dIWOgnN6iIh3coKMfWx3jIp1dIqTfnGCkoVzeoyJeXaBh31zdoSHfHR9ioZ2eIuNeHOHk4F0fouDc3ODiXxxfIyFc3eLj3txgo+CcHuNhnV3h4h6doGJg3t7goZ/dnuGhXdzgol8dIGNhHd7iIl8eIKLhHh4hYV2cYGMgXN7i4d1dYeMfXWAi4V3eoeKfXR+iYN2doWJe3F+jYJyeo6Jd3iJi395gIeEe3h/hH51eoeGeHSBiHt0gYuDeHyIin53goqDeHuIiHpzfYeBdXqJiXh0gop/eIGJhHl5hIZ+eH6Fgnl4god+dX2JhHl8iYl9eYKIgXh6g4R8eH6Gg3l6hop+doKOgnJ4iIRzdYeJeXR/iYN7foaGgHyAh4Z7doCGf3V7hYJ4eoSJf3d9h4R8eoSJgXqAiIZ5dYCHfnZ7hoN2dICHfnZ+i4h8fYmJf3yCh4N5eX+Be3d7g4N7eICJg3p/iYZ6eYWIf3Z9h4V6eYGFf3h8g4N5doCHgXh7h4h+eoWLgXh/ioZ5eYKCfHp+g4J7eX6Fgn17gIJ+fIKIhHp5goR8eYCHg3p8hod/eX6GgXl4gYN8d36HhHp7hoqBe4KLhXp7hIV7d36Ce3R2f4F8eX6FhoB+hIqFfoGKh3p3goZ8dXqAfHh7g4N9e4GHhIB/goR/fICDgXx+g4N8en+DgX19f39+fH2AgX5+f4GAfn+EhYB+goWEgH+EgXx8gIB6eHx/fn1+gH9+f4KFhYWDgYGBfnt9fn59fX1+gH99fX+Bgn6Ag4B7fYKEgICEhH+Ag4N/fH+Bfnx9fXp9fX19fX9/gYSGhoWCg4SBgH58fHx8fH9+fX6CgH2BhH96foKBgIGEgX1/gIGAgYGBgYSDfnt8fn1+f359fH1+fX+Bf4KFgoSCf4CBgIOCfn9/enh/fXl7fHt+g4SAg4OCiYR/g4KCfnqDfHqEc3uMeXt+eYF/gYJ5h358kXh3jXh8hnyGgIKGc4qMcIKBeIh+enl4hnN9jnGBjXOLiXmMiIV7eZR6bIRzeYh0en19hXqIf3KShXqTfHeKgoF2g45wfoVzjoNsgXyChn6Hc3mMcISNbYSJeoR+hYR3iHZ7nHVuinuChXuAdIKGdI1/bo15eI14g4h/iXaIlmx9iXSMgXOBdXx5co13dJB3hY1yjId3iHaLkmyEhXGKe3mGdIaBdZB4dotxg4VtkId4inOIkmuFh3WNe3mGcoN9b492dJBzhIlrjIZ2jXaGlm2DiHSLfXmKd4N+b416co91gpBqhoxxh3x5kHl8g3WHgHiKfn+Fd4aEeYd9f4pyeYt1fYVxgIZ2fYSFh4SHg3+Ff32IgHV/e3l8coKDdYR+eI9/d42CgIZ+hH98hHuBh3eDgnaHeHOMe3yIdIGHc4OEfIZ9hId7hoF5h318h3l/gnKBgnOCf3aEgX6GgoODf4iDfoV+foN6f4F6gHd4iHp7iHx+g3mBhH+CgIWCfIV+fYh3eYh7eoN6gYJ7hIWAgHqChXh9hHt8gX2AgoGBfYWGeX2CgIF7fYR/f395gIB7hYJ8gn58gYCCg4GCgIJ/fIJ/fYKAgn5zfIV+e4OGhHuAhoGBgHp6fYCBfoGAeX+Egn96hIt7eY6Eb32JfXZ9hYR4d4eFeoCHfn2KhHmFhHF6i3xwgIl7cn+JgXmAiYh+e4WCe4ODdoOJcneQg25/kn5wfod/e3yBh394gIR/hoN5g4tzb46NbXORiW52i4V5fYOIhHh+hnx/iHt5iYBtgpZ5aYqTdHSJh3t7gIWDe3mBgHyDgneCh3F4lodrf5V/b36Kgnp7gYeAeIKGeX+JenmMf26Hj29wjYhyeYeEfnx/hYZ7fIV/foV5dYqHb32UgG2Ckn5yhIh8en+BgHp9hX14iYlxdpCHcYCSfnB+h4B4fIaAdHuGgnt+iYZ7f4aCgYKFhYB4e4WBdHyFd3F+hH98gIeCfoKGiIR9f4GAf31/e3h9fn2BfXp+gYSGhYB+gH+BhoN6foF9fIKCfYCAen+BfH+Bfnx/fnqCh3x+h4OBg4J+f4B8f4Z5dYaDc3yKhHl9hoaCfnqDhXV8j4Jte4+EcnuIhHVyh494dYuGdoKMeXuQfnCMiWx3joJvfY6FdnaEjHx2iol3gId4foh2dot+aoGTd2qGkH16hIiFfHyIh31/f36DeXOFiHF0j4hteZCFdoCKhn16hIV7f4N2e4t8cYqKbXaSg258jYR2fYyMenWHhnmEhnmEiXJ4jH5sf5F9cIOMfHJ/j4d1fot8doN+dYODc4CPfHOJj3h0i498dIGPf21/i3d0hXp7j4Bxio92dY6McXWKg3h5gId7cYOHd3uGe3uMhXWCkoFzgouAdX+Mg3eAhXZxg4t4dYeCdHqJiHp9i4J6g4aCe3d+gX6BgX16fYF+fIGCen2Kin99gYB+gIODfXuBgHt+goB8f4R/fYB/gX9+goB6fYKBfH6CgIKCfoCGgnt9g4N6eYSHfXZ9iH1yhpJ8cYePeXCDi3t1gImAeICGe3uFfnSGi3N6kn5pgZR7bYWRfnJ+ioN3f46CeYZ/dIWGc4GOcmyLi2twjYh1e4mMgnmBiYCAhn1+iXpyiIVpc5KCZ3+YgG1/jYJ4gYyEe4WGeYKHd3uIeW+DinJuh4l1domNgHqFi3+Ah3x9iXtziIVueI2DcXyNhHR6iYh4eIuGd4GDdICNdnWRhnCAkYBzf4mBdXiIhnJ2ioJ2hIN4ho13epOKbXaQhW16kIRveo2DdH+KfnWCf3WChHR9jIB2hI6AdYiPfHiJi3lzgoB0fIB8f317foKCf3yBh4J/hoV6eIOFgH99fX58foKCfnx/gH6AgYJ/fYCEgX+ChoB7goV/f4B/fnt7fX56eHyCgH1/hoR6foyLf3yAhYB2gI18bYCQfW+AiXx1gIyEd32IgHyEgniEinZ6kX9of5J5bISPenJ+iIN2fYuDeoWDeoWDcoKTeW+Nk3RzjIt4eICFgHV4hH93fn58h4B0iZF0cZKRcXSQi3Z3hIh7cYCJeXmIfHaJgG+Hk3VylJNydZGLdHaHi3lwgoVxeIJ0eIt8dZCQbnKXjm19l4RwfIqGeHaFg3eChnV9i3dykZBtc5WGZ32TfG6BiYB5gIiBd4GMf3qGgXZ8hHx2gIV8eoCEgXx/ioZ3f5CHdXuMgW98ioB6fH6Be3uBgH59fYCBgoF+goN8f4iGf32AgIB/fH+AfHuAgH59fYGCf36BiIN5g4Z5eICGhXt+hIF+fX+BfXt9fYSCdnyFfnqDhYCAgYKFhX17hIl3c4mKb3COj3RwiI12coaId3SEh3uCi39+jH5yjZNzbo2LamyIh3JyhIp/d4SMe32MgHyNgXKKj29wj4hsdIuEc3aBiIB1gYt9fId/f4l8eo+Ha3iThGp7joFyeoSGfHeDhnmAhHiCj3x3kItrdpWJa3eOgnF2hIh7c4SKen+GeX6Me3OQkW1vlY9rdpGDcHmDhX93foV+foR6eomAb4SZfWWHmXhtiox2dX2BhH56hYd5gId5f456c4+IZ3STgmuAj4F8gIKGgHaBhXt/hnp4i4BshJN0bIyOc3eNhnh9goOEfn6HgHiChX9+fnx+fn2AgHx9gn9/iIJ1fot/c4KNfXKCjHtygoh/eYCIf3qBgoCDgn6Ch396gYN+fYCBfXd5gIN8fIOBe4CFf4CCfICCfX5+fYB/f3+ChX+Dinx5hoF7gYB7f4B8gId8doWGeX6Hhnx6gIN+dniEhHN8j4BufY2Ed4CPhXV6i4h1eYx/coaHdH6PenOOh218lIBrfpGAb3mMhnF4joJxgIZ7g4d3go51cJCQb3KQjHV4hod7c4GMf3qEfnqGfHSNi2x0lYppdZOHbXiLi3hyiIt2e4h5eIl9c46ObXOVjnF6k4x1cYSMdmuEi3R4h3p7iXl1k5FvdpeManSThmx2iod1c4WFeICIfYGNfHWRj21ylIhleJSAb3yIg3Z4iYd4fol+fYV+d4GHe3eIiXV2iId6fYaCenqEhHh5hIF6gYqBeIKGd3qHg32Af357fIB/gYF7f4SCgYN/fn+BhIB7fn99f4SCe32EgX6DgXh5gn9+hYN/f3+Cf3t/gn59gX58f4GAgIGAf4KDf3uAhH95gIh/dH+JgXp9hId9eYuKcHCIiHJzi4l3eYeIe3mGiH2BiHx3hX5ugotvcY+LcHWQjHd7jIt8eISHeX6FeHyIeHWLhGp5lIJsgZF+cn2Kh3d3hoN4g4d9hIVyfJJ/boaTeGuFkHpwgIuEdn6Of3SGg3aEhXB9j3hqhpF2cImPfHWBjIJwfZB/d4h+domBcImTc26Pk3Nwjo90coaNfG5+inZ1hHp6i35zjpJxcpSTb3GRiGpwiIl1cYqMdoGNen+Re3SQi253koZodpKDaXaQiG11j4V0f4N9h4J0ho94dYqJdXeJiHt7goN9d36IgXyEf3mBgHh/h4F8gIWDfIGJgXh/hn10gIl3cYKBc3mGiH99iIV3go+FfoSDfYCCfHl8e36CfX2BfHiDiIF/fXyBgn6Cg3x9hIOAhIB5foB3e4R/dXyGgH2FhX9/g4OCh4N7e4F+e4OFfHh/g358f36DgXeDinlxgYx9coWRfG+Ek35uhY91dYh/eYaAdoOEdHuOhnZ+joh1d42JcXiNgXN+gXqBgXiDiHZ4jYdzeY2IdXeJh3h4iIh8gIN5f4Z3eY2Ab4OUfG6FjXh1hYuDdnmGfneDgHmEgHKEjXFzk4tvf5SDdX+FhX92f4l8eoV9fIV3dIuEb4KTe3CCh357fYOHe3aHiXl9g3qCiXZ5joBrf5GAcYGRh3d7jIlvco6DboOFcn+IcnmQhHKClYJuf45/cX6Qgmt9j3p0iYR4h4h3gY59boCQe22HjnNxiId2eIeFdn2Kg36Ef32Cg398f4B7fIB7eoGDfX2IhXh/jId7gYd7eoWAfXt2fYF5e4R9eYOGgICEfn6HhYGCfXp/f4CCfX2CfXh/gnx9goB+goWCfoKDe3+HgXuAhHx6hIF7gX56hIN2d4WAcn6QgG+Dln9uiZh5aYaSdnKNim14jXp0ioJxgYd2eJCIcX6Rg3J8joNwgpF9dYR/d4F/eoaDb3aOg257joV1fZCKdXyPgniMhXOEiXB5jnlmf492a4aPd3GFkIN1g4+AfIqEgIN6eYiBbXmMfGh+k35sgI6Dd3+OhHiEhn+Fg3yHhXR7in5ufIZ9dnl/g3t0hIt9f4d+f4uCf4uCdIOMeXiFf3p9e36EeHKChnp+hn5/h4B+iol7foqEdnyDenJ7hYN4d4OAdICLf3qFhnt/jIh5fYiEeoCGf32Afn17eXp/gHp5fnx9gISHg36Hi3x/i392hYd5eIB6eIF/e3+BfnyDh394gIZ9e4qKe4CJgniCiH54fX51dIGCdnWGhHh/ioaAfoKKiX18iYlzeJGCaHiSgGt9kIBsd4mFdHmMgHWJineCj3l8k4VyhpF3aH2KeWt2iIFteo+DeYmJgYyKfIiMdnSMjG9uh4ZxcH+GfW96iX95hISBi4N7j45xd5eOa3OTiGpwiYhtaouLb36PeHiNf3uPhXKCkoFyfoyAb3aOim5zjIBvgoV1hYlzfpZ+a4WVfG+JmIBvgJGDbHqQeW2DfW6DgGyClHlxj5V2c5GUeHOJj3tthYxyd4h5d417boqMbnSRim11k4xyeJCQdXOPjHSAhXF9iHB1jX1tgo9+c4KLgHeBkYd0fI6CeIaDd4GDdXyLf3J6iH1wgYx7dIOJg3uBi4F7hoZ9f355fYCBf3t+g3t3gYZ/fIKFf3t+goeAe4iGd4GIf358eX+Bd3h/fHiAhoGAg4GBiIWBhIJ5fIaCeXuDgXd4hYF5fYKCfHqDhICCgoCAgoJ/gYV8eoWEfHp+gn95e4GBenmFiH14fomFd4SVgm1+koJtfI1/b3aJhnJ1iIJ5g4Z+hIt5eZKGanyUgGt+kIJudImMd3SOiHB+iHqCiHV8j31shJN4bIaRgnZ+kIpwdY2Abn+EeH+AdYWOdnKPknRzkZJ3coaOfGyAjnVxh3xzhn9yiY9xdJOOcHiUjnp4ho18bIGMdHODd3eHeXGNknBuk5NvdJaPdHaHjH5ygot3doV5doqAboSZemCFnXdojpZ4c4OJgXZ6iIN4gYZ6f4p4dI+HZXeXgWd9joB1fIyNfHmMinWAkHx2iX5xhIFodI59bIKPfneBioqAgIyHe3+DfoCAdniIgnB4jIFtepCEc3+NhHiAiH92goh/gYeAfIF/fH+BfXx7eXt+fn19gIR/fYaMgnyGiH5+hYZ/d32Denh9fXx+e3+CfHuAgICEhoB+hIKEh358h4J2gYd5dH+CeniAhHx8g4N8fYmIeYGOfnKFjHt1g4d8eH6AgHp1gYx7coOMfHGDjH52gY+FeYaMfnqGh3p5hXxwfIFzc4aLeXKLkHVzj5B2dI2PfHmDg397fYJ9fYJ7eYeAaniVgWeDm35phpuGc4GRhnN4i39tgoNteYp0cpCEZ3uYg3CGlId6eoeOenGIjHl7gnl7gXR4j4Vnd5eCZ4GVgniCh4iAeIOIfH6Fd3qJe26HkW5oj5JtcJGMdXiHiYJ8goeAfYSAeYWFcHyWgGR/lXZmgo98c32Hh3x4h4h6gYt/go18dY2IanOPg2p2h35zeYGHhHyGkYN/iYJ6hoR2gIt6boCKd26CiHd3gYSBe3+JgXuFiIGDhIKDgX5+fX1/e3h/hHl3goF7gIiGfX6FgXiAjId4e4Z9doSIfHh/gX2AhH15fn6Ag4GBgXt8iYd6f4eBgIaBen99d32AfX6AfXx+fn6FhHuBh319h4aAgIGAg4N3doOCd3uDf3d6gYR+enyFiX16j5J2bYmWe2yGlHpoeox+bXuLfXSEhHiGinaEmH9thpR5aoKSfWt5jINtepGAcoeGd4eHdYOQenGNknNsh413bH6Rg2t9ln9vhYd8gX13iIxxc5GOcHSPi3d0gI6EbnyOe3WGfnqJfm2FknNpjpZ0b42QeXKBjIRzf4x9d4V/doWFcnyUgGF8mn1oh5V9dYCJh3p4hod7foJ4fIV3dI6HZ3ebiWx/k4R2fISIf3SAjHt1hX92hoNzho5xcY+NcHSOi3d1g42AcYGNeXWGgXyIf3WLkHBukY5pb5CLcnODiX90hZF8eY1/dIyHbH+VeGODlnZmhJN+cYCRh3B7j390ioV0hopxepR9Z4SYemqGkXdvgo9/b4KQeHKJhHN/iX19i39xhIx2eI+Gc32IgX2BgYB6eH9+fYaAd4OIeXqOjnZ5i39zgod+d3qChH18gH16foWDgISDfIOKf3qAfnqBgnp8f359gIKCg4OAgn56hIR6fYJ5eIOCfICDfH2GiYB5f4iAeICGfnR7iYZ6eH2IgW+AmX9ngpmBaYCWgXB8joVwd42Cc4GFd4GIc3iQf2mElntthpSCdH2Nh3F4kYNuf4R2gIR4go13bYiRdnGLj3xzf4+FbHmRf2+Din5+fHuJh3N4kIdtdIyIdXWGj3xuiJN4fI59doh+cYeLcHKNinFziox2boWUeWqNknN7jH1/iXl5kYVrepSDZniTgmt1joxuc5OGcISKfIeKd4GRfW6DkndlgI91aX2Pf2yBlX57kIV8i4Jzho11cIaIb3CKh3R2h417cImOdH6RfXWGf3mEg3t8foKBgYOAfX18gIF+hIF7goF4gop+d3+De3qGiH14foF9gIWEen2EgH6Df3l/gH2BgHx+fYGIf3+Gf3yDhYB6goV4fIJ6e4KBgICAfnt/f3t/hoF+hIR8foeEfH6CfHh+hYJ9e3yEg3h/in11f4yFc3uOhHB4kohsfpZ8cIWCdoKEeICIeHKGjHdziZJ/cIOZgmqElHRsiIJ0fn53goZ6fJCLcXqSind1hIx1Z4SOdHeMgnqFf3yMhXB5j4Fqe5WGb3aNi250lolsg5B3e4l+e4R8dYGHfXeBh31yfIuCcoOPeneKhnqBhn59gIGCf3x8e3h5fYB/f4OBgoaChIuCfYeFd3qFgXJ1h39ufIx8dIOJfoCKhoOEf3yEhHp4f4B2cX6Jf3eFjH58iId+g4R6e4R8eYWEdnqCfX+Fg4CAf4CAgIKFgn18fH5/eXV9hn10f4yIfICIhICEhYOBfHh+g311eX9/eniAh4R+gIaKhnp7jIx6cXyEfXR4gYB7fX+BhIJ9g4qDe4CIhoB6e4WEdnSDjH5sc4uOenKBjIF1e4iIfnl/hYR7fIaGeXaEiYB6fYWJfW54jotza4GTg254kY56doKJhXx5g4h7cn2IgHF4jYlwa4ibiG1ykJl+aXqXjW1pg419dH2BfYOIgHp+jJB5ZHiZkGxkhJqDZ3ORkn1zfoeHhX90eIeOgW5vjJyBXmyXm3Fcfp2NbXCLlYh7eXqDj4lwZX6bil1ZiaeFWmqaoX5sf5eWgXNygJSPb1twlZdqUHanm2haiKyZcmiEnJZ0YnCRmXhaZJCkgFhkmKuFXGeYqYdhZIymj2NbgqSSY1Z+qp1mT3mroG1Weaagb1NxpKl4UGigrHpPZJysg1Rgl7GMVlWPt5FTUIu1lVZPjbyaWE6Fs55iTHmvpmZDcLOvbEdxsK9vSGqmrndJYZ+yg05ZmLqQUVSUuZBRT4y4mFVKg7ObYFKBsaRtUXSprXVIZKCqdklfm7CDUl2YtpFYWJC2l1xShbCbXkt7r6FlTnaqp3FNbaiueExkobOAS1ybs4dQV5W1ik5RjraVWVKJt59gToK4pmJGeLCjZERuq61wR2yutXpLZaa7gkVWnrh/P1Cbu4lJTpTCm1FKksaeUEWIwqRTO3/Dqlg7ebysXzxyvLZnOGi4v3M6YbPCeDZUrMd9MU2pyYQ5SqTPkD9JoNCYQkCV0KFIOYfKpkgvgM2uUDF6yrleM3LHv2MsZsHDZypdu8dzLla1y3wyUbDShzVKq9SON0Ge0ZY6OpXRnj8zitKpSDSK1rFOMH/OtFIrcsi6WSlryMJkLmjEyG0tXbzKdC1Wt815LE6vzX8wSarSizdGo9OWPEGc0ZY9O5PRoEE1is+mSjWGz7BVN37JtFkwccS2XCxnvb1pNGe/xnI2YLnIezVTq8Z/NkujyYg7SaHOlUFEl8uaRT6Qy6FKOobJp1E8hMmwWDV2wrNcM2++t2I0aby9cDpjuMR2NluwxHw6VKfEgjpOo8aKP0mdyJNGRpPGmUpEj8ehUkKGxKdUOXm8qVo5c7u0aD5wu7txQWixuXM8XKm8fD9XpcCFQk+dw49ITJbDlkpGjsKcUEWJwKFWQX++ql4+dbquYz1wt7RqPmu1uW87Ya68eT9cqL1/RFqlwIZFUpu+i0dMkr2TTUmNvZtXSYa9o1tGgLyqZEV1sqdkQW2wsW5BaK21dkRjq7t+Rl2ju4RJWZ26h0hPk7mPTUuOvJdSTIy9nllLhrykXkd8uKdiRHWyqmdDbq+vbkNprLN0RGKmt31IX6S6hEpanriGSlOVuo1LTpG8llVRjrqbWEqEuaBbRn63pF9GfLirZkR0s6tmQmysrGxEaq2zdkpprLh9SWKltnxEWJ20gEhZnbmKTVeavZBQVJW4jk5OjbaTVFCNuZhWUIq3mltMgbKbW0p/s6NoUn+ypWhNd6yjZkhyqqVsTG+nq3NPcausdFBsoql1TGWfqnpQZ6KwgVZpnayAUl6UqYFVYZWrh1thlK2KW2CQqoxdX4yojF1aiKmQYVyJqZBjXYenk2NZgqaUZ12DppVoXIGjlGlbf6SXalt+oZVsXn6glm1dfJ+Yblx8oZlxX3qclnBeep+acF15nZdxXHicmHFdeZ+bdWJ6nJh0XnWYl3BbdpuXc150mJp4YXednnpjeZubeGFxlJl3W26VmnhecZWbfGJxl6GAYnCWoH9gbJOdfV1oj51+X2uToIFgbJWkhmVtlKOEYGePoIFdZI2egFtkjqGFYWiSpoljaJKnimRojqKFXWCGnYVfYYymjGNijKePZ2aOp41jYIajjGBeh6KLY1+Foo9nYIalkmdghKKSamGEo5NoXIChkWddgKCUbV5+oJVuYYGilm5ffJyWb157n5dvXXmalHFgd5mXdF94nJp2YXeZmXljdpeaeGBylZh4YXGTmn1lc5aegGRwk5p9YmyOmX9jbI6bgWVsjZyGaG2LnIpsa4mZhmhphpiHbGmEmYttaoSaj3JqgpeOcml/lY5yZ3uTjXJmd5CPdml8lJF4bX+WlX5ueI+QeGd0jI95anaMj3pseZGUgHF6jo98bniLjXpud4eKenB5iYx/dHqJjH91fYqKf3p/h4d8dnmAgn55fIGCgH5+goaGgn+Ag4B8e31/gX57fH6AgH1+gYSCgX+Ag4SBfX+Dgn16e4CCfnp9goSCf3+Dh4N8en6Afnl4foWDfn2BhYR/e3+EgXx7foKDf3x/g4J/fX6DhoJ8fYOEfnl7gIJ+enuBg356fIGFgX5/hIaEgICDhIB8en1/fnp6foKAfHyChYR/f4OEgn59gIOCfn5/gn97en2BgX17fH+Bf36ChoWEhIWGhIB9fYCAe3h5enx8d3yCg4OFg4WGgn6AgoOAf39+fHt6fH1/gIGBg4GAf4CBgYGBgH+Af39/f35+fn1/gX9/gH9+gIGAgICAgH9+f3+AgYCBgH59gIGAf4GCgX9/fn5+fn1/f4B/fn1/gYGAgYSFgoB/gH58e31+f359foCBgICBgoKCg4GAgH98fYCBgHx7foB+fYCEg4J/gIKBfn6AgX9/f39+f39/f359f359f4GBgH6BhISAgYOEgX1+gH98e3x8e31/fn6AgoSEgoOGhYF/gYJ+enp9fHh3eoCBgICCg4OEg4SEg4KAfX1/f319foCAfXt8f398e4CDgoCChIWDgH+Cg4N+ent7e3p6fYGCgH+Bg4N/f4KEg4F+f3+Af36AgX9/fXx+gIB+foKEgX18f4GAfn+Cgn9/gIB+fn59foCDgn9+gYOCfn2Agn97fYKDfXqAhISAfn+Bgn58f4F/fX1+f4B/e3uAg4J+foKFgn5+g4aCfX6Dg316fIGAfXt9f399fX+Cg4KAgIGCgoCAgYKBfXt7fn58fICCgX5/goSCf3+Cgn9+fn+AgICAf4CBgIB+foCAfX1+gH98e3+DgX+Ag4OCgYKCgn58fX5+f39/fX5/f36AgoOBgH+AgH18foGBfn5/goOBgH9/fn1+gYF+fHx9gISEgX5+g4WDf35/gH58fX18enyAgoF+f4KEg4CBgoF/f35+f39/fn+ChIJ9en+Dgn59fX9/fn+AgH59gYOCf3+Ag4KAf4B/f39+fX5/gH9+f4GCf32AgoJ/f4CBgH5+f4CBgYKCf35+fn99fX9/f35/gH9+gIODgYCAgoF/fn9/fn19fn+BgoGAgIGBgH59fn59fH1/gYCAgYODgYGBgX99fH6Af3x8foGBgH5/goOBgH9/f35+gIGBfnx+gYKCgH9/gYB9fYCBgH1+gIGAf4GDgX58fYGAf35/goF/f3+BgX58foCBgH9+gIF/fX2BhIGAgIKBgH5/gIB/fn+Af319fX5+fX9/gIGAgYOEhIKAf3+Af318fH59fX9/gH+AgYKBgIGCgYKBgX98fH6AgYGAfn18fX6AgH9/gIGBgH5/gIGBgYKDgX9/f4B/fnx8f39+fX6AgICCgoOCf35/gYOAf35+fH1+f4GAf3+AgoGAfn+Af35+fn+BgYF/gIB/fn+AgoKAf4GBgH5+fn5+fX1/gICAgoKCgH9/gICBgX9+f39+fHx+f319foCBf36Ag4OBgYKBgH+BgYGAgIB+fHx9fn19gIB/f4CCgYB/gYOBf3+BgH17fn9/fn+BgX9/gYJ+fX+CgX5+g4R/fICCgX5+gIF/fX6AgH+AgYB/fn9/fn1+gH99foGDgHx/hYSAfoGDgHx9goJ/fH+BgH5+f399fX+Cgn9/f39+f4GCgX+Bg4KAfn9/fXp9gH99foGDgX+Ag4OBgYKBfXx+f359foCBf32AgoJ/f4CBgH58f4GAf39+f35+f4KCgYGAgYKCgH+AgH98e31/f319gIKAfn+BgoKCgYCAgH98fH+CgX+AgYJ/e3yBgX59gIB+fH6DhoOAgIKCgH9+fXt6fH17fH6AgYGEh4aDgIGEg359gH97eXt9fXt8gYOBgIGDgoCAgYF/fX+Bf31+gIB/foCCgn9/gYJ/fX6BgH59f39+fX2AgX+BgoKBgYKCgH+Af4B+fX5/fHp9gIB/f4CBg4KCg4OCgYGBgH5+fXx+f39+fHt9fn+AgoGBgYCDhIKAgIGAf39+fn19foB/gIGAf4CAf35+f4B/fn+BgICBgYF/f4CBgIB+fn9+fn+AgH99gIKAfoCDgYCAgH99fX1/gH9/gYKAf4CAgH9+f4B/fX2AgH9+gIKCgIGDgX+AgIF+fX6Af3x8f399fYGCgH9/goOAgIKCgICAf359fH1/gYB+f39/gYGCgX9/gIB+fYCBf31+f359foGCgYCAgYKBgYKCgH59fn19fX19fX+BgH9/gIKCg4SEg4B/fn9+fXx8fn17e32AgYKEh4WCgYKBfn5+fnx8fX5/f35/gICBgICBgoCAgYOCfn19f359fX+BgYCAgYGBf36AgYB/foCAgH9/gIKBf35/fn5+fn5/f31+foCFhIKCgH6AgIB/fH5/fX98f3+AgoSCgIGBgH5+gIGBfHt8fH1/gIGAgIKCgoGBg4KBgX9+fn19fnx9fn9/fn+BhIOAf4GCgYCAf3+AgIB/fn5+fX5+fn+AgH9/gYGAgYKCgoKCgICAf318fHt9fX19fn5/g4ODg4aFgn9/fnx+fXp+f31/f36BgYGCgYGCgYKAfoCAfX18fn19f319fYCCgoGBgYWEgIGBfn18en6AgH9+gIODgICBf32AgIB/e3+DfX2Af4OAfoB9fIOEgX+AgYGAgH97gYKBfn+CgXt7fX5+f4B+gH+BhIKBg4SDgXx+f3t8fn59fH2Agn9/gYKEgoKAgICAfoCBgX59fH19fX+AgIGCgoKCgYGBf398fn9/f35+gH+AgYF+gH99fn5+foCAfoCAgYGAgYCCgH+AgYB+f3+Af4CBf31+foCAgH9/f4B/gIGBgICAgYCAf36AgIB/fn59fX1+f4B/gIB/gIKCgoKDgoB+f3+AgICAf318fH5+gICAf39/gICAgYGCgYB/fn5+f39/f39/fn6AgYKCgoKCgoKBgH59fHx+fn19fn1+gICAgIGCgoKDgoGAf39/f318fHx9fn+AgYGCg4ODgoB/fn5+fX18fX5+foCBgYKDg4KCgoGAgIB+fn58e3x9fH5/gICBgoODg4KCgYGAf39/fX5+fXx9fH1+gICAgICBgoOCgoGAf4CBgH5+fnx8fH1+gH+AgYGBgYGBgYCCgX9+fX17fH5/fn1/gYKBgoKCg4SEgoB+fHt8fX59fX18fX+BgoOCg4KBgICAgIB/f399fn5+foCBf35+f4CAgYGAgYCAgYGAgIGBgH9/gH9+fXx8fHx+f4GCgoSFg4KBf39/gH19fXx7fH6AgYKEg4KCgH5+f4CAf35+fH18fX+AgoODgoKAgYCBgH99fHx8fYCAgIKBgYCAf36AgIB/gIB/f4CBgoGAfn5+fn6Af31+fn5+f4KDg4OEg4B9f4B+fH2Bf31+f3x6gYKAgIKFgX+BgH5/f359foCAgIGBgX+AgYB+f3+Af39/f39+fn9+foGBgIKCgX9/f35+gIB/fn9/gICBgX+AgICAf39+gH+AgIB/f39/gIGBgX9+fXt9fn5/goKCgYGCgYB+fX+Afn59fH1/gICBgoGBgoKCgYGAfn19fHt9f4GBgIGBgIB/gIGBf4B/f35+gICAgIB/f4CAgYGBgH9/fXt8f4CAgIKCgH9+fn9/gYOCgX59fn9/f3+Af35/f4CCgYGCgX9/f359fH1+fn+BgYGBgYCAgYGBgYB/fn59fX5+fn+AgYGBgYGBgYGBgH9/f4CAf39/fn5+fn5+f4B/gIGAgYGBgYGBgH5+f35+f4B/f39/fn5/f3+BgoOCgYGBgoKAgYB+fXx9fHx9fX+AgIGAgYGAf4CAgIGBgYGAf39+fn5+f39/gYF/fn+AgICBgICAgH+AgICAgIB/fX1/f4CAgYB+fX1/f3+AgYCBgIJ/gHyDf3iBfoZ4hISBfIKIfIF/hoF8gH57d35+fHp7gIGAgIOFgoODgoGAgIB9gH18fX9/fX1+gXyAhYSCgYKAf3+Af39/gH9+f35/f39+f4B/gH+Af4GAfn5/fn+DgYGAf4B/fICCgICBgX9+f4KBf39+fnx9f4CAgIGBgYCBgICAgIF/gX9/fn9+fX19f35+gH9+f3+AgYGBgoKDg4OCgYB+fX19fn9/fn19fX59fX+BgYCBgoKBgoGCgYCAgH+AfXx9fn19fXx9foGCgoKDhIKCgYGAf359fn19fn+AgYCAgYGBgYGBgH58fHx8fX+Af4CAgYGCgoKBgYGBgYB/fn5/fn59fHx9fX6AgIGDg4ODg4GAgH9+fXx9fX19fn9/f3+AgIGDgoKAf39/f4CAgH9+f39/f4CAgIB+fn+AgIB/gIGAf4CAgH5+gIB+fn9/gYSCfnx+fnt7fX9/gYKBgIGDhIKBgoJ/fn5/gYB/fXx8fX5/fn6AgH+BgoCAgoOCgIB/fn9/f35/f359fX5+f39/gICAgYKChISDgoB+fn18fH18fH9/fX5/gICBgoKDgoGBgICBgIF/fX5+fnx8fHx9f4CBgoKCgYGCgoOEhIOBf3x7e319fX59fXx9fX1/goKEhISDg4KBgoGAfnx+gX99fnh4hIB+gHJ8iYF+goSJg3qGioF+ent+e4CEfHl7f4B8fYCBgYCAgYSDgYKFgICEfn18eX5/fX57en99foOBgIGChYeCgoF/fX1/gH56fH1+fX+AgX5/hIaCgYB/gYB/fn59fnx+foCCf4SBgoCCgX18foOAe3x7f4F/fn+AgYKDgoGBgYCAhYN+fXl7gX98fn58foCAf36CgYGDgoGFgn9+fn9/fX1/fn19f39+f4GCgIGCgnx9gYODgYKBfn1+fXx9fX9+f4OCf36Ag4SCgYB+fn9+fXx9fXx/gYGCgoOEg4GCgX9/fn58enx9fn5/gYKAgoGCg4KAgYF/fn19e3t+fn19fX+AgIGDg4ODgoOCgoGAfXx9fnx6e3t8f4CAgIKDg4KBg4OCgIB+fn99fn18e3p7fn+BgYKBgYKDgoKCgYCAgYF/fXx8fX19f359gIB+f4GDgYKDgoB/f4F/gIKBf3x+f318fH5+fX+BgYCBg4SDgoKDgICAf39/gH99fH17fH5/gH+CgX+Ag4SDgIB/gH+AgoGAf357enx+gYB+f39/gIB/foCCgYGBgIGBgYKDgoB/fn58fH59e3t9f36AgX+BgoODg4GBgYGAgH59fX56ent8f4CAgIGCgoODgoKCgoKBgYF+fn98en5/fn5+fXt9gH9/goSEgYKEgX1/gYB+fnx6eXt+gH9+gIGBhYeHhYJ/gIB/fn18fXx8fH5+fn6AgoKCgYF/gIGBf36AgH59fn9/f35+f4GBg4OCgoB+gICAhIF/gn55fHx9fXl7gIKIiH97foSFf32AfX+CgH16e31+fH6ChoSAgYSGhIKCf3x+f318e36BgH18fn9/gIGAf4GDg4B/gIB+fHx+fn6AgYF/fH6BgYGBgYGEhYN+fn1+fXt9gH9+fnx9gICAf4CEhYSCgIGAf4B+eXp8fX1/gIB/gIODgoKDgoGBgH9/fn59fX59fX1/fn6AgoKCgoCAgYKCgYB/fn9/fn9/fn5+gICAf399fn+AgX+AgYKBgYGAgYB/gIGAfn59fn5/gIB/f39/gIGBgoKBf4CAgICAf35+f359fX9/f4CBf39/gH+AgYGAf4CBgoOCgH9/fX+Af35+fn5/gIB/f39/gYKCgoKBgIB+fXx8fH+AgYB/fn1+gIKBgICAgIGCg4GAgYB+f4GAf35+fHt8fX19fn+AgIKEhISDgoKCgYB/fXt8e3t7fX5+gIGCg4ODgoGBgoCAgH98fH5/f3+Af4CBgYGBgX9+fX1+fn5/f4GBgYKBgH9+f35/f39/fn6AgYGCgoKBgoKBgH98fHx7fX9/fn+BgYGBgoKBgH9/f39+fn1+fn+BgoGBgH9/f39+fn5+f39/f35/goSEhIKBgYCAf4B/fH18e3t8fH5/f4CCgoKCg4ODgoGBf35+fX19fX19fX1+f4GBgoKCgoGDhIKBgYB+f39+fXx7e3x+f4CAgICAf4CBgYGBgYGBgIB/f3+AgIB/fn5+f4GAf3+AgICAgICAgH9/gICAgIGAf39/f39/gIB/fX19fX1+f4CAgYKDgoKCg4OBgIB/fXx8fH1+fX19f4CAgIGBgYKDgoKCgYGAf35+fHt8fXx8foCCgYCCgoGCg4SDgYB/fn5+f399fX9/fn5/gYKBgYGBf4CCgIB9fIF/e31+f4F+fYKBgIKBgH9+f35/gIGAgYF/gYKCgIGBf317fYB+fn9/gH9+f4CBgoKAf4CAf319fn5+f39/gYKDgoGAfn5/f39/f4CBgIB+fX+AgYGBf39/foCAf39/fn+AgYJ/f4KBf39/f35/gH99fn59fX5/gIODg4SEhIKBgH58e319fX19fn5/gIKDgoGBgYCAgoF/fX5/fn19gIGAf4CBgYCAgIB+fn5+fX6AgYGAgIGBf35/gYGAf39/f3+BgoB+f4GAf39/gH59fX59foCCgYGBgoB+foCAgIB/fn59fn+BgoOEg4KBgH9/f3+Af317enp7fX1+gIGBgoSEg4KDhIKAf39+fHt7e3t7fYCBgYKEgoGCg4OCgX+AgH9+f358fX5/fn19f39+foCAgYGAgYKCgoGAf39+fn5+fn9+fX1/gIKCgoKBgH+BgoGAgYB/f35+fn59fn5+fX19fn+AgYGBgoODhIODg4KAfnx8fH1+fXx9fn5/f4GEhYODg4KAf39/f319fXx7fH5/gIGCgYKCgoOEg4B+fn99fX5+fXx+f39/gIGCgYCAgYGBgYGBgH9/gIB/fn5+fX1+f39+gIGBgICBgYB/gIGCgICBgYB+fX59fX19fn6AgYKBgYKCgYKBgH9/f31/iYl4b3yFe3qCgHuFi354gIJ8fIODg4aCfX58foF/e3x/gYGAgX5/g4WCf36ChYF8fH59fX99fH6CgH1+gIGCg3+AhIR+fX9/fXt9gIB9f4J/foF/gYOBgIGBgICCgoB+fX17e35+gIF/fn+BgH+Bg4SBgH9+f31+gIGAf4CAgH59gYSAfoCBgH9/fn+Dg395eX59fH+AgIWIg36Bg39+gH97gIB+fX6AgX16fH99foGFhYOBhIaCfn+CgX19fXt7fn99fH1/f4CBgoOEhIOCgICAf31+f3x8fn17foCBgH+AgoWCgIKEf35+fn17fYCDgX19gn97gISEg4SEgHx9fnx7e35/fn2BgoCBgYB/gIGBgoKBgICBgX98fH5+ent/fnx+hISAgIKEgoGDhIJ+fX59fHp8fHx9foCBgICCg4OCg4OCgH9/fn19fn59fH5/fn+FhoKAgIGAgIB/e3p8f4CAf3+AgoKBgYKBgH+AgIB+fX18fX+CgYB+fX+AgYGBgYKCf36BgH59f4B+gIKAfH1/fn5/gIF/f3+BgYCAgYB+foCBgYGAgH+AgH5+f39+f3+AgIGEg4CAf35+f39+fn5/gIB+fn+Bg4OCgX9+fn5+fnx7e35+gIOEhISDgX+AgoOAfn5+fX19fHx+f39/f3+AgoKCgYGBgIGAf39/f359fn5/f39/f4GBgYKDgYCAfn1+fn9/fn5+fX+AgYKDg4KAgH99fX5/f39+fn9+f4CBgICBgoGBgYB/f4CAgYB/fXx8fH6AgICAgoGBgoKBf359fn+AgH9+fX19gIKCgYKAf4CAf35/f4CBgH5+fn9+f4GBf39/f3+Cg4KCgYB/gIB9fn59e31+fn1/gYKCgoODg4OCgH59fHt9fX1/gYGBgYGAf4CBgH9/fX1+f4CCg4F/f3+AgIB/fn5+f39/f39/f35/gIGCgYCAgYGAgYGAf39/fnx9fX18fX9/gYOEg4CAgH+AgYF/fn19fn9+f4GAf3+Af3+BgoGAgYF+f3+AgIB/f35/f39/gH9/fn+BgICAf3+BgYB/gICAgH59f35+f4CBgYGAf35/gYGBgYGBf35+fn1/gH9/gICAf35+f4CBgoGAf3+Af39/gIB/f39/gIGBgH9/fn5/f3+AgH9/gYKBgYB+fX1/gH9/f35+f39/gIKDgoGAfn1+f35/gH9+f4CAgIGCgYGBgH5/f3+Af35+fn9/gIKBgH9+fn5/f4CAgICAgIGBgIB/gH9+fX5/gICBgYGAf4B/gICAgH+AgH9+fX5/f39+f4GBgYGAgICBgH9+fn9/gH9+fn+AgICAgYGCgYB/fn58fX5/gIGBgIGCgYCAgH5+fX5+fn5+fX+AgYGCgoKBgIB/fn59fH5+foCBgYKBgoKBgIB/fn9+fX19fH2AgYKCgYCBgYGBgoGBf3x9fn5+f39/gICAgICAgICAgIGBgYF/fX19f35/gH9/f3+AgYGDg4KBgYCAf319fHx8fH5/f3+BgoGChIODgoB+fX+Af39/fn19fXx9fn+AgIGBgYGCg4SEg4KBgH17e3t7e3x8fH1+f4GDg4SEhYSDgYB/fn19fX5+fn5+fn1+f4CCg4ODgYB/f39/f39/f4CAgIGAf39+fn5+fn5/f3+AgYGBgYKBf39/f4CAgIB/fn5/gICAgIB/f4B/f3+Af35+fX19foCAgIGBgYKBgYGBgYGAgH99fH19fn+AgIB/f3+AgIGBgYB+f4CAgICAgH9/fn5+f39/f359foCBgoSCgICAgIGBgoKBf318fHx8fX19fn+AgYKCgYKCgoGBgH5+f39+gH99fn9+gIKBgICAgIGCgoGBgHx9fX1+fn9/fn9+fX6AgYKChIOBgoB/gH9/gH59fXt8fX5/gICAgYODg4ODgoGAgH99fX17e3t7fHx9foCCg4SEhIKCgYGBgYGAf35+fX19fn1+f39/gH9/f4CBgYGCgoKBgH9+fXx8fH19fn9+f4CBgoKDg4OCgYB/f39+f35/f319fX1+foCBg4SDgYB/fX5/fX+Af399fH1/gIGBg4KBf35+gIGCgYB/fXx+fn+AgYGAgH9/gIGAgYGAfn1+gH9/f319fH2AgYGCgYKCgYKBgIGAfn9+fX18fH19fX5+gYKDhIKCgYGBgH+Af319fH1/gIB/gIGAf4CBgoKAf39+fn1+gIB/f3+AgYCAgH9+fn+BgICBgYGAf4CAf35+fn5+fn5/gIGBgoODg4KCgoB+fHt7e3x9fn19f4GDhISEg4B/f3+AgIB/fn18foCBgYGBgH59fX9/f4CAfn6AgoOEgoGBf318fH1+f35/gIB/gIGCg4OBgH19fn5/f35/fn+BgYKCgYB/f3+AgIB/fnx8fn9/gH+AgYGAgIGAf4CBgX9+foB/fn+AgIB+foCAf3+BgX+AgYGAgH+Af3+AgH9+fX1+f39/gIB/gICBgoOCgYGBgoB/f35+fHx8fX5+f4CAgIGBgYKBgYGBgH9/f39/f3+AgICAf35+fn5/fn9/f39/gICBgYGCgYCBgYGAgH59fn19f39+fn19foCBgoKBgICAgoOCgoGAf359fH59fX5+fX1+fn+Bg4OCgoKCgYCAgH9+fn5+f35/gICAgYCAgH9+fn5/gIGBgH5+f35/gICBgYGAgH9/f4CBf39/fn19fX1+gIGAgYGBgYKDg4KBgH59fXx8fX19fn+AgIGCgoKBgICAgH5+f39+fn+AgICBgYCAf39/f39/f35+fn9/gIGCg4OCgYB/f39/f4B/fn5+fn9/f35+f39+fn+BgYGCgoKBgICAgYCAf39+fn+Af35/f3x7foCAgYKDg4KCgoSCgH9+fn19fHx8e3x9foCBg4KBgYGDg4GBgYB/f39/gH9/fn5+fn5+f4CAf36AgoKBgYKBgYB/fn5+f39/f4CAgH99fX9+fX1/gYF/f4KDgYCChYWDgX9+fX19fX5+f399fX6Bf31+goOBgYOEgX59fX5+fX5/fn1+gYGCg4OCgH+Af35+f4B/fn+BgYB+gIOCgYCBgH18fHx7e31+f3+BgoODg4SDgoGBgH9+fX19fHx9fn9/f3+BgoOCgoOCgYCAgYCAf359e3t7fH19f4CAgIKBgYKDhIODgoGAfn59fX18fH1+fX1+f4GBgoODg4OCgYGAgH9+fn59fX1+fn5/gIB/f4CBgYCBgoKAf4B/fn5/gIB/gIF/f4CAgH5/gH9+fn9/f3+AgIB/fn+AgICBgoKCgYB/f4B/f39/fn59fX+Afn19f39+f4GDg4ODhYSCgIB+fHx8fHt7fH5/gIGDhIODg4OBfn+BgX5+gH99e31/fXt8gIJ/f4GCf31+goF/f4KDgH+BgoF+f4KBfn2Bgn58foB+e32BgX59f4F/fYCDgX5+gYJ/fYGDgX5/gH58fYCCf36Bg4B9f4SEgX+Bgn97foGAfH2BgX58f4F/fX+CgX19f4B9e3+Dgn+BhIN/foGCf3x+goB8fIKCfn2AgoB8fYKBf3+DhYF+f4KAfH2BgHx6foF9en2BgX1+g4WBf4KFgn6AhIR/fYGCfnp8f316en+BfX2BhYN/gYWEf4CDgnx5fIB+enyBgHx9goSBfoGFg319gYN/fYGEgHt9g4J+fYGCfnp9goF8fYODf32Agn98f4SDfn2AgX58gIWDfn2BgX16f4KAfH6CgXx8gIN/foGEgX6AhoaBf4GCfXh6gH97e3+BfHp/g4F/gYaFgH+DhH96fYF+enuAgXx6f4OBf4KGhYF+goN/fH6Bf3t9gYJ9fIGCfn1/g4B8fICAe3uBhYF+gISDf3+EhYF9f4B9eXp/gH19goWBfoCEg35/hIV/fH6Ae3h7gX98fYKDf32Bg4J+gISCfXt+gH58f4KAfH+DhIB/goWBfYCDgXt5foB7eX6Cf32AhYSAfoKEgX6Bg4B6en6AfHp+gn98f4OBfn+Eh4J/goSAfH+CgHx7foB9fH+Dgn5+gYF+fYGDgHx8f4B9fYGEgH6Ag4J+foKCfnx+gX58f4KBfX2Bg39+gYN/foCCgn5+gYN/e3x/fn19gYF8en6DgoCDhoN+fYGBfn2BhIB8fH5+fXyBg4B9f4KBfn+Cg4B+gYJ/fH+Cf3x8f4F+foKFgn5+gYF9fYCCfnp7f39+gYSEgX+Bg4B+gIF/fHx/f318gIOAfn+Cg4B+gYJ/fYGDgX19f4B8en+BfnyAgoF+fYGDgYCEhoN+foB/e3uAgn57f4B9fICCg4CAhISAfoCBgH5+f4B7eHyCgH1+goF+f4OEgX+Bg358foGBf36AgX17fYGAfn6ChIJ+goSAe32Bf3x8gIB+fH+BgH6BhIR/fYCCgHyAg4F+foCAfHp9gH98f4OCgIGDhYOAgYN/fH2Af3x8fn98eXyBg4B/goKAf4KEgX5+goF9fX9+fX1/goF+foGBf36AgoGAgYOBfXt/gH99gIGAfn+AgX5+gIF/fn+BgX59fn58foGBgYB/gYOAf4KEgX5/gYB8e31+fXx+f39/gIOEgH9/g4F/f4CAfn+Bgn99foF/fX5/fn19f4B/foCDg4GAgYGBgoKCgX18fn98fH1+fHx+gYB/gIODgYCDhIGBgYB9fH1+fnx9fn9/f3+BgYCAgoSCfn5/f39/gYJ/foGBfn1+f39+f4KBgH5/gH9+f4GCgX9/f3x7foGBgYGCgYCAgYB+fn+Af39+fn1+f4CBgYCAgoGBgoKBgH9/gIB+fX59fHx9fn9/f4GBgYKEgoKCgYCAf3+Afn19fX19fH1/gYKBg4KAf4GDg4KCgoB+e3t8fXx8f39/f4CAgICBgoKCgoGAgIB+fXx8fHt+goWGhIF/fXx9gYSFhIJ/fn+AgH57dnV4e4CFiYiEgX5/f4CChIWDfn1+f316d3V0dnyBiIyLh4OBgoSEhIWDfnl3eHx9end2dHZ8goeJi4yKh4KAfn18fH+BgoN/eHJvcHV9hYySkouFgHx6en6ChYeIhXlvZ2dveoSOlJSOhoB6dnV6gYaIi4p9cWpnbHeGk5iTioJ9eXh8gYaHhIOEf3VtaGlve4qTk4yIhIF/f4KEhoSDhIJ4bmhmaXWEkJWRioN/fn2AhYmLiIWEfnJpZWZueomTlI+IgHx8fX+EiYqIh4N4bGRjaXeIlZuYjoN8eXd4fYWGhoaFem5mZWt3iJabmpGGfHh2eH2Eh4eGhHtvZGFmc4STnJyRg3p4eHyDioyKiYd+b2NeY3CCkpqXjYJ6d3d5f4mOj42Kf3BkYGZzgpKcmo1/d3Z2eH+JjYqGhH5yaWRncICRm5yViH16eHl7gYaGhoZ/b2FcYXCDlqKilYZ8enl8gYiLiISDfG1kX2Ntfo+Zm5WIfnp7fH+GiomGhYFzZ2JjbH2RnJ+Tg3Z0d3yDiYyJg39/eW9paW54iZaalol9eXx9foOGhIB/gXxwZ2RocYOUnp6Tg3t4e4GHi4uFfnd5d29ra252go2Uk4p/enyBhIiLioaBgIJ6cmtoanSCjZORhXdydX+HjJCQioB6fH56eXh2dHiBiIuIgHl1eH+GiYuJgnp2fIOBfXl3dXh/hYqMiYF7e32BhIeIg3t2eH1+fHp6eXt/g4aIioiEf39/gYKDgH57ent8fHl5eHl6e3+EiImHhoaFg4ODhIOAfnt5en18dnN1eH2Ag4eIiIaFg4KDhIaEgn16d3Z3fH99enh6fYCDhYaGhoaFg4B+f4GBgH9+e3p6fIGFgHx7e3x+gYKEhIKBf3x9f4CBg4OBf35+f4CBg4OAfXl4en6AgoSDf35+fn+BgoSDgoKBfnx9f3+AgIF+end6f4GBgIB/f4KDgoKDg4KBgICBgIB+fXx7e319fX1/f3+AgYOCgYGBg4OCgoB/f39+fn18fn18foGCgX9/gH+AgH+AgICAgICAgIGBgYGBgYB+f3x7fH1/f4B/gICAgIGBgoKAgH9/gYKCgoKAfn18fX5+fn19fn+AgYGAf3+Bg4SFhIF/fn5/f318fHt9fn9/f4CBgYKDhIODgn9/f39+fH19fX1+f4CAgIGBgoKBgIB/f359fX5+f4CAf3+BgYSDgoF/gH+Af39/fn19fHx7fH+AgYKAgH+Ag4SEhISAfn5/foB+fHx8e318f4CDgoOEgYGAgYKAfoB/fH17hIGEdYSAeYZ3d4aDfnx/foF/gIaBhISCg4SEgXt8fHp9fXx8enl8f4SAf4CBhoaHh4OCgoGBfX16eHh5enx/fn+AgYKBgoSDg4SDgoB/f39/gH58e3x7enx+fn+BgoSEg4KEg4SCgH98fHt8fH2AgH+Bg4KCgYB+f39+f39/fn5+f4B+gICBgoODgoGAgYGBf318e3t8fX19f4CAgIODgoGDhIOCgH59fH1+fn59foB+fX1+gIKCgoGAf4CCgYB/f39/gIB+fn1+f4CAgIB+fX2AgYKAfn1+f3+BgYCAgIGBgYGCgoCAfn18fHx9f39/f4B/gIKCgYKAgIB/gIB/fn5/fn5/fn1+gIOCgoOBgH6AgH9/f399fH1+fn+BgoOBgICAgYKCgYB9fX19fX19fn5/gICAgISEg4GBgYCBgYCBgH59fX19fXt8fX+BgICAgYGCgoKBgIGCgoGAfXx8fX5/gX99fn+Af4CAgICAgIB+f4CCgYGCgICAgICAfnx7fH1+gH9/f39/f4CBgoOCg4ODgoKAf39/fXt6eXp7fX+AgYGCg4OEg4OBgoOCgH59fXx8fn19fX5/gIGAgIGCgoKBf39+f39/fn9/f4CAgICBgYCAgYB/fn5+fn18fX1+f4GCg4KCg4KDgoGBgH5+fnx8e3p6fX+BgYGBgoGCg4KCgoB/f39/f39/fn19fX19fX+BgYGAgH+BgoODgoGAf35+fn+AgICAfn19f3+AgIB/fX1+f4CBgoKBgoODgYF/f359fXx8fX6AgH9+fn9/gYKCgYGAgIGBgoKAfn1+f39/fn5+fX5/gICBgYCAgYKCgoKBf359fH1+fn59fn5+f4CCgoKCgoKBgYGAf35+f4B/fn58fH5/gICBgoGAf4CBf39/gIF/fX19fX+AgICAgYGBgoGBgH9/gH9+f4CAgH9/fn5+f39/gIB/f35+gIGAgICBgYKBgYB/f35+f39+fX5/gH9/f4CCg4KBgYGBgYB/fn19fHx9f4B/f3+AgIGBgICAgoKCgYGAf39/fn19fn+Af359fX6BgoGBgoKCgoKBf318fH1+fn19f4CBgoGBgoKDg4KAf359fX59fX1+fn9/f4CBgoOCgYCAgH9/fn9/fn5+fX1+f3+AgYGCgoODgoB/gIB+fn59fn9/fn5/f3+BgYCAf39+foCAgICAgICAgIB/f35/gIGAf4CAgIB/fn5/gICAf39/gICAgIGAf39/f39/f359fH1/gIGCgoCAgYGBgIB/gH9/f39/fn9/fn6AgICCg4OCgH9+fn5/fn18fH6AgYB+fn6Ag4SCgYCAgIGCgH59fn5+fX1+foCCgoCAgYCCgoF/fn19fn5/f3+AgoKCgYB/fn9/fn5/fn5+fX5/f35/gYKDg4OCgYGAf318fH5/gH9/fn1/gICAf39/gIB/f4CCg4GAgH9/gIGAf35+fn18fH1+fn9/f3+AgYKDg4SDg4GAf39/gIB/fXx8fXx9fX19f4CBgoKDg4ODhIOCgX99fH19fX19e3t8fX+BgoKBgoODg4ODgYGBgH9/f399fHx8fX1+fX1+fn+AgIKDgoOEg4KCgYGBfnx8fX19fHt6fH6BgoKCgoKBgoKBgICCgoKAfn5+fn18e3x+gIB+fX6AgYKCgYGAgYKDgoB/f4CAf318fH1/gH9/f39+f3+AgIGCgoB/gIGCg4KAf3+AgH99e3t8fHx9fn6AgYKCgoKDhIOCgYGBgIGAf3x7e3x9fn19foCChIKAf4CBgX9/gIGBgoF/fn5/gIB/fn5/fnx8fH+AgYGAgH+AgIKCgYGCgYB+fn6AgICAfn5/gYB/fn1+f4CBgH59gIGDg4KBgH9/gH9+fn9/fnx8fX+AgH9/gICAgYGBgYKEhYOAfX1+gIB/fXx9fX19fn+Cg4KBf35+fn9/f3+AgoKAfn6Bg4SCf35+gIB+fHp8fn9/fn1/goWGhIODg4KBf318fH5+fHp6e31+gIGBgYKCgoKDg4KAf4CAgYB/f39+fX5/fn16e36Bg4J/fX+DhIKBgYKDgoB/f35/fXx7fH5+fHx9f39/f4OGhoSBgH+BgoB/gIGAf3x7e31/f35/f3+Af35+gIKEhYOBgYKAfn6AgYB+fn17eHl8fn+AgYGBgYOEg4KDhISDgH+Afn17e3t7fH1/gICAgICBgYKBgYOEgoCAgH59fXx7e31+f39+f4GChIWEg4GAgH9+fX1+fn19fX5/gIKBgH9+gIGCgYKBgYB/fn9/f39+fXx+f4CBgYF/f4GDg4GBgIB/gH58fHx8fX5/gICBg4WFg4KAf35+fHx8fX5+foCBgYKCg4OBf359e3x+f39/fn+AgIGCgYCBgYGAf35+fn5+fn6AgYKCgYKCgYB/fn19fX1+fX1+gIKCg4OCgIKCgH59fHx9fX5+fn6Ag4WDgoKCgoKBgH99fHx9fX19fHx9gYaHg399fICEhIF8eHd6f4WGg39+foKGh4eEf3p4e4CBfXh1dHZ7gYWJjI+NiYaDgH17fH6Cg31yaGJjbX2Ml5qUjomFf31/g4eHh4Z8bmJcYGt9jpmakYeBgH5+gIaLjIyMgW9gWl1pfpGenZOHgHp1d3yEiYuOjHtpW1lidIyeo6GYjYB1cHB3gIuUkX5nVE5Xb4mgrKuhk4BwZ2l0g5Sfl39jT0lUcZCnrqmdinZmY218jZ2jk3hdTUxde5qsr6WUgXBkY219jp2gjnJVRklhhKKzsqWTgG9jZ3aIl6Kcg2RKP0hnjKm1sJ+Mdmhka3yPoamafl5GPU5zmbG1qJR/bF5ebYOXpqiSclVERmCIq7y4o4x1Y1lecYaYpKGGZktAS2uUs76ym4ZxY11ofZKiqJl6WUM+T3OatbmrlH5tYmFvgpWhppV2VkNDWoGnvrujiXRlXWN0iZienYdnTUFJZ5Czw7qfhXFnY2p9jpeblX1fRj1JaZGywLWZgXFraXGDk5yel39hSkFNa5GttqqRemxnanWGlJydl4JmUEdPbJGuuKuQeWtoanODkJaWkoBmU0tVbI6ruK+XgHJsbXSDjpKQjH9pVEtQZYWjtLOdgnNwdHmDjZGOhoFxYFVUYXeTp66jjXpxc3Z7hIyNh4aCc2NZXGqBmamqm4Jwa3J4gImOi4F9fHBnYWh0hJehopV/dHF4fIGHi4mAfX52bWdpcHyLlZqXi3xzdHuCiI2NhX15enNvb3N3foaNkI6GfXV1fIOKjIuFfnp8fHl2dnd5fYOIioeCfHl8gYaKiIaCfXl8fnl3eHt8fH+BgoODgoCAgYSGhoSAfXt6foJ/e3h4eHp+g4eJiIWBgH6AgoSCf318e3uAgn55d3p9gIKEh4aDgX59e32AhIWEgX98enyBhIF9e319fX1/goGBgYGAgIGDhIODgX16eXp+goOBfHp5e3+ChISEg4J/gH9/f4CCgYF/fX19f4CBgn9/fn+AgICAgIGBgoB/fX1/f39/f39+fn+BgoOEgoB/fn59fn5+fX1+foCBgoODg4OCgYB/fn58e31/f3+Af3+AgYGBgYCAf31+gIGBgYGAfn5/f4CAgH9/f3+Af4CAf3+AgYB/fn9/f4CBf35/gICCgoF+fX5/gIB/fn5/gYKBgIB/gICAgYB/fn9/gIB/fnx8f3+AgIGBgIGBgoGBgIGAf3+Afn19fn1+f4CAgIKBgoOCgX9/gH9+fX59fX6AgX9/gYF/f39/f4GBgYB/f39/gIGCgoGAgH59fH5/f4CBgH+AgX9/f4B/gIB/fn5/gH59fn9/fn6Bg4N/gYSDf36BgX17foF/enuBgn9/goSBfX+Dg39+goJ9en1/fnt8gYJ9fYGDgH6BhIOAgISDf3x+f317fYCBf36AgoB/gIODgYCCg399foCAfX1/fnt5fH5/f4GEhIKBgoKAfoCCgoB+fn18e31/f35/goOCgYKCgICBgoKAfX18enp8f4CAgYKAf4CCgoCBgoKAfn9/fXt7fX9/gIKDgYCBg4OBgIGAfnx9fX18foGCf36AgYB/gYKBf35/f319f39/f4GDgoGAgYCAf39/fn19fX1+f3+AgYKEhISCgYGAf35+fHt6e3t8fH1+gIGDhISDg4KBgICAgH59fX5/fn5+fn5+gIGBgH9/gICAgYOCgICAf359f39+foCAgH+AgH9+fX6Af36BgoGBgYGAf35/f39/f39/f3+AgYB/f4CAgH9/f4B/fn9/f3+AgYGBgYKBgICAfn19fX1+gIKBgH9/fn1/gIGBgYGBgYB/f4CAgH9/fn5+fX1+f3+AgIGBgIKDgYCAgoKBgH9+fHx9fn59fX5+gIKCgYCAf4CBgYGCgYGBgYB/fn19fX1+fn5+f4CBgYGAgIKAgIGBgYCAgYF/fX19fXx+f39+fX6BgYGCgoGAf3+AgYOCgYGAf35+fX1/f35+fn59fYCBgYOEg4J/f359fHx+gICAgYCAf3+AgYCAgIGAf35+fn1+gIGBgIKCgYCAgYCBgoKAfXx7enp7fX5/gICBgYKCg4WEhISDgH17fH19fX18fHx8fX+Bg4SEhYSCgYGAf35+f39+fX18fH5/gICBgICAgYCAgIGBgYCAgH9/fn+AgH9/gIB/f39/f3+BgoGAf39/foCBgX9+fn9+fn9/gICBgICAf319f39/f39/f4GDgoCAgYGAgYGAfn1+fn5+f39/fn6Af35+f4CBgYKDgX+AgYKCgoB/fXx7e3x+fn6AgYGBgYKCgoKDg4KBgH5+fX19fHx8fX+Af39/f3+AgYGAgYGBgoKAgIB/f3+AgH9+fn18fH5/gIGDg4KBgYGBf35/gH59fX9/fX6AgoCAgYGAf4CAf39/gIB+fn9/gICAgYGBgoOCgH+Af319fn59fX5+fn5/gICAgYKDgoGAgH9/gIGAf35/f35+fXx+f4CBgoF/f3+AgIKDg4KBgH99fX5/fXx9fXx9f4GAgICBg4SDgoKAf39/fn5+f4B/f39/f4CBgYCAfn9+fn9/gIGBgICAf39/gICAgoGAf39/f35+fn9+fn9/gICBgYODgYB/f35/gYB/f4CAf39/f318fH1/f4CCgoKBgoKBgIGCgoB/f399fHx8fH1+f399fX+Cg4SEhYOBgYKBf318fHx+f39+fH1/gIGBgYCAf4CAgIB/f4GCgYCBgH9/gH+Af35+fn18fH59foCCg4SEgoGBgYGCgoB+fXx7ent8fX6AgoKBf3+AgICCg4KAf4CBgYGCgYB+fn17e3p7fYCAgoKBgYGBgYGCgoKBgIB/f35+fX19fHx8fX+Cg4OCgoKBgH+Afn1+gICAf39/f4CBgoKBf399fH1/gICAgYGAf39/f3+Ag4OCgX99fX5/gIGAf318fX1+fn+BgYKCgoGBgYKDgoGBgH59fXx8fHt8f4CAgYGAgIGDhISCgoF/fn9/fnx8fX5+f359fX5/goODg4KBgYCAgIB/f4GBf319fX1+gIKCgYCAf35+f39/gYKCgIB/fnx7fH5/gICAgICAg4SFhIODgIB+fXt7ent9fn1+f39/goWFhIWFhIKBf3x6eXp6eXh5fH+Cg4WGh4eIh4WCgH59fHx7e3t8enx9fX1/gYGBgoSDgoKEg4KBgX98e3x9fn5+fXt8fH+Bg4SDg4KCgYGAgICAgH5+f35+fn5+fn5+fn+AgICAf39/gIGCgYGAgH9+f4GBgH+AgH99fHx9foCBg4KCgX98fYKIiIR+eXh8gYKAfHh3eoKFhoN+e32Eh4eFg4J/fnx7eHRzeH+EhYqLioaFhIF7d3Z6gouIfW9lYWl6jZyhnZSJfHJscHuEj5WMeGJVVWN8lqirn5CDeXBtdX+JkJWPemNRTltzkKWrppeHe25pbnqJlZ2XgGVPR1JvkaixrJ+MdWZhaXqOoqWPcVNCRFyDpri2qJZ/aV1gboKYqJ6AXkdBT3GZtLqwn4lxXltmepGop49vTz9EYoytvLqrk3VdUlpviaSsmHZSPT9ahq7CwbKZd1tPWG+Kp7CZdVA6OVSDrcK9rpd5YFZfc46ps5x2UTk3UHynvburl31kV15zjaa1o3xTOTRLd6bAwrGafWJTWG2JpLSkf1Y6M0h2p8LFtp6AYlJWa4aitKeCVzgxRnKkw8azmn5kVFdsiKK0qoZcPTNFcKLDxrKWeWFTV2uFnrCrimNEOUdtnL/ItJd9ZVhWZ4CXpqqSbEo4Pl2MuMvApIhvYFlkfJOkq5x2UDg1THemxcasjnZkW2F1jqGsqIlhPzNBZ5i+y7iWeGRcXW2FmKWolXFPOztUg7DHxKeGb2FfaH2RnKKcgV1BN0JllbrGtpd+bWZneY+bo52Rd1dBNUh1nLm8o4NvaWxtgJahop6NcFRERFd8ori3n3xoZGp2g5WenJiJbFVGSV9/orW0oX9qZWx5h5Oal5GFbllNTFt4ma2wooZuZ298iJWbmZCGd2RYVFtwiJyjnIp2aW56ho+VlpCJg3VmXV5peIuXm5SEdWxxfoqQkZGJgn51bGhqcHmGkZSQiH11dn6Fh4eHg318e3Zxb3F2gImPkY6Hfnd4fYKIiYeCfHp8e3VzdHh9gYaLi4eCfXt9g4iJhoF9enp/fnh2dnp8f4GCg4SEgoCBgoaHh4aDfXh4foF+enh5eXt9f4OGhoWBf3+BhIaGg4B8eXuAg394c3R4fYCDhoiHhoSCfn1+gYSFhH97eXl+hIJ9ent9foGCgoKCgX+Af359f4CCg4B9fn9+goSDf3x6enyAgICBgX9/gIKCgoSFg4GAfn18fH5/fn19fXx9f3+BgICBgIGBgYGAgYCAf4CBgH+AgYB+gIF/fn5+fX1+f39/gICBgoOCgIB9foCBgoF/fHt7fH1/gIB+f4GCgoGCgoGCg4OBf39+fXx+f359fX1+foCBgICBgoODgX9/fn5+fn19fX5+f4GDgoGAf3+BgoKBgYB+fXx9fn19gICAgICBgIGBgoGAf39/f359fn5+gIKBgoF/fX5+f4CBgX9/f39+f4GBgYGCgX9+fX1+foCBgIB/f35+fn+AgIB/gYGAf4CBgoOCgoB+fX5+fn5+fXx8fX5/gH9/gIKEhYOBgH+AgYB/f39+fX5+fn19fn6AgH+BgYGAgYGAgYGCgX9+fn9/fn59fH1/gIGBgH9/f4CBgoGBgYGBgH9+fn+AgYGAgH59fH1+gIB/fn5+f4GBgYGAgICAgICBgYGBgH9+f39+fn17e3x+gYGBgYKBgYODg4KBgH9+fH19fX1+fn19fX5/gYKDhISCgH9/gYKAf39/fn1/gIB/gICAf35+fn+AgYGAgH+AgICAf35/gIKDg4OBgH5+fn18fXx7e31/f4CBgoGCg4KCgH9/f4CAgYGAf3+AgH9+fX19fX5+fnx8fYCCgoOEg4KDhYWDgYB/fXx6e3p5enx9foCBgoKCg4SDg4ODg4B+fn59fn5+fXx7fH19f4CBgYCAgIGCgoODgoCAf359fH1+f39/gICAf39/gICBgYCAfn1+fn9/goOCgICAf3+AgYB/f35/gIB/fn59fn9/fn5/f4CAgoSEg4ODgoB/fn1+f359enl5e36AgoOBgYKDhISFhYSCgH59e3p6enp8fX5+fn+AgYOGhoaFg4B/fX1+fn9/fnx7ent9gIKDg4GBgYGAgIB/gICBgH5+fn+AgYKBf35+f39+f4GBgYKAfn59fH5+fn59fn6AgYOEhISEgoGAf358e3x9fX5+fn6AgYGCg4OCgoKBgH59foCAgH99e3t9foCAf3+AgICCg4OCg4SCgIB+fHx9f4B/fn19fX5/fn+BgoODg4F/fX6AgIB/fn59fX+AgYGBgYGAgH9+fX6Bg4F+fn5/f35/gH9/gYKBgH9/gH+AgYGAf35+f3+BgoCAf35+fn18fX9/gH9/f4CBhIWEgoKBgH5+fX19fX+Afnx7e31/goSFg4GAgH+AgYKCgICAf317ent9fX6BgYGBgYKBgIKEhISDgX57ent9fn5+fn18fX+Cg4SEhIOCgX9+fX1+fn5+fX18foCBgoOBgYKCgoGAgIGAf359e3t8fn+BgoKBf4CAgIGBgoKCgoF/fHt6fH1+gICAf4CAgYGChIODgoF/fX19f4CCgoB9fHt7fH5/gYGBgYGAgIGDhIWDgoF+fXx8fHt7fH5+fn+AgIKEhoaEgoB/f359fX1+fn9+fn59foCAgYKCgH9+f4CBgYGCgYB/f39+foCBgX9/f359f4GCgIB/fn58fn+Af4CBgYGAgICAgIKBgX9+fn59fn9/fn5/gIGBgICBgYGCgoKAfn5+fX1+fn19fX5/f3+BgoKDg4KCgH+BgX9+fn5+fX+Af31+gIGAgYGAfn19f4CAgIGCgoKCgn9/gIB/fXx8e3x9f4CAf3+AgoKBgYCCgoGCgYB/fn5+fn1+fn9/f4B/f3+BgYGAgIB/fn+BgYCAgH9/f4CAfn5/gIB/gH9/fn5/gYKBgYGBgH9+fn5/f39/f39/gICAf4CAgH+AgYB/fn5/fn1/gIGBgYGBgIGBgYCAf359fH19fn9+f39/gYGBgoODgoGAf359foCBgX9/fn5+f4B/f35+fn+AgYGAgYGAgICAgYCAf39+foB/f4CAf3+AgICBgH58fH1+gIGBgH9/f4GAgIGCg4KBf317fH5/f39/f35+f4CAgoGCgoGBf359fn+BgYGAfn19fH1+gIB/f39+fX+BgoKChIODgoKBgYCAf358e3t6eHl7fX+Bg4SFhYSEhISEg4KBf317enl5eXl7fX+AgoKDhIaGhYSEg4J/fX18eXp8fH19f399fH2Ag4eJh4F8en6Dg4B8eXl8gYaGg4GCgoB/fn+AgYF9d3Bwc3mCiY2OjYuHg398e3yBiY2Ec2JYW2uClqCflo2Ee3N0e4WQmpeDa1ZLUWiFnqmklYV5cW5zf4yWnZuHbFNITmeIpLCqmId3a2VqeYqYo5+HaE1DTGuRrbiyoYxzX1hhdIylqpRzUkBCXYarvr6vmXthU1drhaGtm3pWPz5Vf6a+wLOef2JSVmqFo6+ee1Q8PFWAqL2+spx7Xk9SaYeotKB8VDw7V4WuxMKymnlbS1JqiaivmXVOOTtaibDFw7Oad1lNV3CQrq+TakQ0O1+PtcXAr5RxV09depy2ro1iQDNCapi5w7mlhmNOTWGCprqrhVg6NUx8qMPFs5p7XkxPaYusuKN6TjM1VIaxxsSwlXJWS1ZylLS3m25DMDpfkrvMvaSHa1VOXXmYsrKTZ0IxPGSYwc/ApYdqVVFhfJewro9jOyw5YpfB0MGliG1aVGR/ma+ukGU9KzZckbvNwqiKbFdUZYGctLWUZz4rNVuPu8y9oINoV1Vmg5+0tJZqQi83Wo25yr6ihmtYVWWAmrC2mm5DLTNUiLfNwqKEbF1YZH6ZrLahd0swL0p6rMfEqoxzYFtjepKls6eCVzYuQW6ixsywjXJgW2B1jaKuqoxiPzA6X5K9zb2be2ZcX3CHm6ismXNONjRLearHxqmDaF1gbICVpKmjiGRHOkJfirHDupp2YV1ldIiapKSYe1xHQ1Fwl7W/sZBvXV5qe4yZoJ+OcldKTFx5mrG2p4xwYmZygY6WmZeHbVdPVGN7lqitn4lzaGt4h5CXmZWHb1tUWWh8j5ygloZ1bXB6h5GWlpCDcWNfY29/i5OUj4R4cnV8hIyQkYyDeG1oa3R+houMioR9enp+goeIh4WCfXdxcHR7g4iIhoOBfn19f4KDhYOBf35/fHl4en6AgYKDg4KBf31+gIOEhIF/fn+Dgn99e3x8fH19f39/f319f4KFhoWEg4GAhIWBe3d2eHp7fH+AgIGDg4OFhoiIhoJ+eXh7f4F9eHV3eXx/gIKEhYWDgoCAf4KEhYOAfXt7fYGDf3t6fHx+gIGCg4OCg4KBf35+gH9/fn9+foCBgoB+fHt8foGBgYCAf3+BgoOEhIOBf39/f35+gIB+fHp6enx/goODgoOBgYGBgoKCgH58fH19fn5/gICAgoGAf4CAgICBgoF/fn19foCCg4KAf39+fn9/gIB/fX18foCAgYGAgIB/gIGCgoKBgH5+fn5/gH+AgYB+fX5+fn+AgoKAgH9/fn5/gYGBgYF/fXt9fn+AgYKBf31+gIGCg4ODgoB+f39+fn5+fX19fHt7foGDg4SDgoCAgYGAgIB/fnx6eXt+gYOEg4KBgoOEgoF/fn19fHt7eXt+gYKBgoKBgYGCgYCAgH+Af359fX1+gIGAgICAf4CBgYGCgoCAf3x8fX5/goKAf39+f35/f3+AgH9+fH1+iIJ4hIKEg4R8foR+fH5+fn2Ae31/f39/gYOEhIR/f4GAgH9+f39+fHt8fH6Af4GDg4OEg4KCgn9+fn5+fXx+fn1+gICAgYOEg4KCgX99fn9+fX5+fX18fYB/gIOCgn9/gH+AgoKBgICBgH9+fn5+fX1+f4CAgICCg4ODf32AgoN+eHuHgnp5doCIfnl6f4iJgn9/hIeFgH5+gIB7eHh8gH9+fn+Cg4ODgoKDgYB9e319fn16e32Bg4KCg4OEg39/gICAfn19fn58fHx+gIGBgICBg4OBgYKCgn9+fn19fX1+f4CAfXx+gIGBgoKDgoKCgoB+fXx8fX5/f39/fn+AgICBgYCBgYCBgYGBgoF/f359e3p8fX+Af3+AgYGBgoKDg4KBgH9+fn1+gIB/fHt6e3x+gYKDg4GAf4CCg4WEhIJ/fXt7e31+fn5+fn9/gIGChISDgoB/fn9/f39/f318fHx+f4CBgoGBgYGAgYGCgoKBfn18fHx8f4CBgoKCgYB/f4CBgoF/fXx8fH1+f4CAgYKCgX9/gICAgYGBgYCAf39+f39+fn58e31/gYODg4KCgH+Af3+AgIB/fn19fX5/foCBgH9+fn5/gIKDgoKBgX9/f4CCgoKBgH57e3x9fX5/gIB/fn9/gYOFhoSCf318fHx9fn5+fn59fH6AgoODhISCgH9/gIB/f39+fX19f3+AgIKBgIGAgYB/gIF/fn58fH5+foCBgYGBgH+AgIKCgYF/f359fXx9f4GCg4F/f39+f4GCgoGAf3x9foCBgYCAf358fH1+f39/f39+fn+Cg4SDg4SCgYKAgH9+f358e3t6enx+gIGCgYGAgYKDhISEgoGAfnx8fX59fX18fHx9foCBgYGDg4OEg4GBgYCAgYCAf3x7e3t8fn6AgH9/f4CBgoODg4KBgYB/fn5+fn19fn5+fn9/gIGDg4GCgX9/foCAgICBf359fn5/f4CBf35/fn5/gIGEhIB/fX+CgX9/gICAfnx8fX9/gIGBgYGBgoKCgYB/fn1+fn19fX9/gYKAfn+BgYODgoGAf39+fX1+fn5+f399fX5/gYGAgYGAgYKCgoGCgoKBgH59fXx8fX19fHt9foCBgYKDhYaFhIKCgX99fHx9fHx8e3t7fX6AgYKDg4ODg4KDg4OCgH9+fnx6e3x+fHx9fH+AfoCCg4WEhIKAgIKBgX9+fX17fH1/f35+f3+AgIKDgoGCgYF/gIGAf359fn5+f4CAgYB/f39/f4GAgIB/gICAgYKBgH59fX1/gYKBgICAf35+f3+Af35+fn9/f39+f4GCg4OCgoGAgICAf399fXx8fX19f4CAgYKDgYB/f39/gICAgIB/gH5+gIGBgYGAfn5+fX6AgYB/f39/gIGCg4GBgH9+fX19fHx+f4CBgYGAfn+CgoKCgYKAf359fX1+f4GBf39+fn+AgIKCgoF/fX1+gIGAf35+fn5/gICBgYGCgH5+f4CAgH9/fn5+gYGBgYGBgYKCgoB+fX18fHt9fn6AgYGBgYCBgYKCgH5+fX1+f3+BgYKBgYGAf39+fn9/f39/fn+AgYKCgoJ/fXx8fX5+fn5+fX6Ag4WFhYSBf318e3t8foCBgYCAgICBgoKBgIB/f35+f4CAfn5/f359fn5/gIGBgYGAgH9/f4CChISCgH59fH1+gIB+fX19fHx+g4iNjoqBeHV3fYKDf3hwbm53hZGXlJKLgHZvcXqIkox/a15cZnqOnaKdlop9dG9zfIeVlYRrVEtSaIWfq6eckYR3b3F6hpSfl35eR0FPcJKttKeVhXdrZ29/kJuilXpcRkdZe5+ytKWSf2lcWml/l6ymjGhIP0xwmrnCs5+HbFlTYXmTq6mOaUY3QWOQs8TBr5RyWlBcdpayq41lQDI+ZJO1w72tkGxUT2F9n7WrimA/NkdxmrnGv6mCXklKY4estJx2TTg8XYiswsO1mnVYTFl0l62kiF8/Nkp0nbnFv6qFZU9QZomsrpdwSjlAZI6uv7uqj25WTl58n7GkhFk+OlF+pr/FuqF6WklQa4+wr5RqQzVCa5q7xbqmiWhRTmCAorSkf1M4NVGBrMTEtJt2WEpUcJW1tJdqQDA+apzAyLaegGVSUmaDo7aphVc2L0d3p8XHtJp6XU5Ubo2vuqN5SC80WIy3zsSpimxVTFp3lrGzmGo/LDdflL7PxKqLalROYH+gubGLWTImOmuiyM+4m31mV1lvjKe4q4RUMCk/cKTExrGWeF9UWnOQqbmpgFI0MUx+rszJq4tuWlFac4+msKB6UDY2UYGwzMmvkHRdUlhwi6Oyo3xPMjBLfa7Oz7CNcV9YYHaOoqyhf1Q3Mkd1psnOtZN2YVhdcIueqaWHXTsxQWqdxM+6k3ViW2B0jJ+nppBpRTQ6WYi0y8GffmphYm6El6GmnHxXPDZJcZ6/x6+JbWBibH6QnKCci2xQQURcg6rAvKB9Z2FpdoaUmpuWg2dQRk1kiKi4spZ4Z2ZxfouVmJWOf2hWT1Vng52rqZd+bGp0gYuSlZKNg3JhWFtmeY+do5qJdmtweIOLj4+Khn5xZF5kdIGSmJuPf31xeIKFjIyLgoB6cGhmbnWCjJGTjYd/e3yAhYmJhH14dnVxb3N5gISJjYyJhoKAfn6Cg4OBf359fXt3c3N4foOFh4eFgn9+gIGFiIeEf3t6fYCAe3l7e3p6en6BhIeFhIKChYWEgX58e32BhIB7dnd5fX+Ag4ODgoF/f4CChoeGgn99fHyBhYJ8dHJ1eHyAhIeIhoOCgH+Bg4WFg396dnZ4fYOGg356ent+gYKEhISDgYB/gICBgoOBf318e3t8f4B+fX1+f4GCgoKCgYGBgH59f4GCgYCAf35+fn5/gYKBgH18fH19fn+BgoGBgYCAf4GCg4OCgX57fX1+fnx8fHx9fX19f4KGh4aFhoaEgoGAf3x6eHh4enh3gX+ChYCDg4SIiIeEg4B+e3p5eXp7fn5/f35/f4GDhYWDgH1+f4CBgICDgYGAfn5+f4CAf358e3t7fYCCgoOCgYKBgYKDg4OCgH18e3p7e3x+f399fX5+goSGh4aDgn9+fn9/f39+fXx7fH5/gIGCgYB/gYF/fn9/f3+AgH+AgICAgIGBgX9+fn19fX9/f39/fn5/gYKEhoaEgYB/fn59fX19fXx9fn1+f4CCgoODgYCAf359foCCgoGBgYCAgH+Afn5+fn59fH5+f4CCg4OCgoOCgYGAf358fX58e31+fn5+f4CAgIKDg4SDgoKAf35+fn5+gICAfn5/f39/gICAgICAgX9+f39/gICBgn99fn9/f4CBgX+AgIGAf39+fX59f39/f4CBgoOEhIOAf319fX5/fn5+fn5/gYGAgH9+fn5/gICBgoF/fn6AgoODg4F+fn59fXt7e31+gIGCgYGDhYSDgoB+fXx8fH1+f3+AgIB/f4CAgIB+fn19fX5/f4CChISDhIOCgYGBgH18enh3eXt9gIKDg4KDg4KCg4OCgoF/fXt7fHx8fn9/f3+Af3+AgYGBgoODg4F/fn5/gICAfn58fH1+f39/gICAgH9/f4CAf3+AgYGCg4OCgIGAf359fXx7e3p6en2BhIeHhYSDgoKDg4OCgH17eHh4eXt8foCAgH+AgYKDhYaFg4GBgICAgIB9fHx7e3t9f3+AgIB/f39/gICBgoODgoB/f4CAgIB+fn5/f39/f3+AgH9+f35+fn+AgYGAgYGCgYKCgYGBgX59fHt8fHx+fn18fX+Bg4SFhYSEhISDgYB+fXx7eHd4enx+gIGCgoKDhISEg4KAgIB/fXx9fn6AgYGAfn18fH1+f4GCgX+AgICCg4WFhIKAfXx8e3x9fHx8fHt8foKEhYWEgoGBgICAgICAgIB/fX1+fX+AgYB+fX18fH6AgIGBgoGAgICCg4OCgYF/fX1+fn9/gIB/fX19fn+AgYGBgYGBgH+AgYGAgYGAf319fH1+f4B/fn5+f4CBgoODgoCAgX9/f4B/f39/f359fn9/f4CAf3+AgYGAf39/f35+f4CBgoKCgoKBgH59fHx8fX5/gICAfn+AgoODgoGAf3+AgYGAf359fX5/fn5+fn9/gIGAgICCg4KCgH9/fn+AgIB/fn19fX+AgIGBgIB/f4CAf4CAgIGBgYB/f39/gH5+fn9/f39+fX5/gIGCgoGAgIGBf39/f39+fXx+f4GChISEgoF/fn59e3p6ent9fn+Bg4SFhYWFgoGBf319fHx7e31/gICAgH9/f4CBgYGBgYGAgYGBgYGBf359fHt8fX5+fn9/gIGBgYGCg4KCgYGAf35+fn5+f4CBgYB/f39/f39/fn5+fn9/f4CCg4OEgoF/fn19fX19fn5/f3+AgYKCgoF/fn1+foCCgoCAgH9/f39/f4B/f35+fn+AgYGBgYGAgICAf39+fn5+f3+BgICAgIGCgoGAf39/f35+fn1+gICAgIB/gIGAf39+fn5/f3+AgICAgYGBgYGAgH9+fX1+fn+AgIB/f4CCg4SDgX59fHt7fH1/gIKCgoGBgICAgYGBgH59fHx9f4GDg4GBf319fX1+gICBgoB+fn1/gYODgYB/fn5+f4CAfn9/f3+AgICBgoOCgH59fX1+fn9+fn1+fX5/gYODg4SDgoGAf4CAf319fH1+fn59fn9/gICAgICAgYGCgoGBgYGAgH9/f359fX1/f359fX5/gICBgoGCgYKCg4OCgYB/fn19fX18fX1+f3+AgH+AgYCBgYKCgYGBgICAf39+fn5/f4B/f399fn+BgoGAgH9/gIB/fn5+f3+AgYGAgYGCgoB/f39/fn18fH1/gYGBgoGAf35+foCCgoKAfXx7fX+BgX9/fn5/gIGCg4ODg4KBgIB/fn18enl5enx+gIGBgYKDhYaFgX9+gYaJhXxxbG53hY+Ng3h0dX6Lk5CCdXF1gouMhXp2eoCBgX56fIGGhXtwa3B+j5qblIh/eXR0d36IjYd2ZFpdbYOYpaOXioB6dXR5gIeQlIdwWE9WbImirqaUhHpzbW94hI6WmIZrVEpRa4+tt62aiXdoYWh4iZynmXlVPj1TfaW8uqiTfGZbYXaNo7ChfVU7OE95ory7qJJ9aVtecYmgsaeEWj02S3OgvsKym4FnVlZqhZ6xp4JVNjBHdaTEybmihWZSUmmHp7enfU0wLUt9rMbEsZd6Xk5WcJGxuaF0RS0zWY25y76liG1YUF99nbW0lWU8KjplmcLNvJ+BZlNRZIOiubSMWTInPW2jyMy1l3piUlVuj66+roNPLSlGeazLyrKSdFlLU2+TtL6nd0ImKlKLvdXJq4puWU5ce563tZNfMyExYJrI1cCefmdZV2uJpLavilgyJTlrosvSuJR1YVVYbY2nt62GVjEpQHGoy8+3lXdeUlZujqi5qoFPLChDea7Qzq+OcmJZX3mVrLOhdUcrK0t+sM3GpoZvYl1nf5qss6B2SS4vT4CwzMOgfWhgXmmBnK2yoXlNMS9Nfq3KxqWBamFeZ3uVpa2jgFQ0LkZ3qcrMrYdtYmBmeZGjqqSFXDsxQWqcwsuzjnJkYGZ3jZ2kpI9nQzI6Xo+5zb+ZeWZhZHGHmqKjmXdRODVNd6TDxaiFb2ZocIGVoKKfimZFNDtaiLDEupd3ZmVseo+doqCXfFtEPU1vl7W8qIVqYGZygpWdnZiNd15NS1t6nLS3ooBlXWRygZCXmJKJdWBSUmF9nLO3poZqYGd1g46UkYmCc2JYV2J2kKSspJB5bG16iJCRjoeAeGtgXGFtgJKeoJWFdW93hI+Qj4qEgHpvZmRpcn6JkJGLgnl4fISMjo2KhYN9cmppb3iBhouLh4J9e3yBhoiJhoGAfnhyb3F3fYKGiYmHhoOBg4WGh4R/fHt7eXNvb3J5gIWIi4uJh4SEg4WHh4N+eXd4e3x5dXR3e3+ChIWGhoSBgIOFh4mIg356d3mAgn53dHV3eXt+g4eJiIiGg4KEhoaEgXx4dnh+f3lzc3d8gIOFhoaGhYWDg4OEhYSCf3t5eHp+g4J9eHV3e36BhIaFhIOBgIGDhYaEg4B9e3t7fX2Af357eXp9foGDhISDgoKCgICBgYKCgoF/fHt7fX6Af35+fn5+fn5/f3+Bg4SCgYKDg4OCgYB9e3p5eXp7e3x+gIOEhYWGhoaGhIKBgH99fHt5eXl7fX1+f3+AgYKDg4OCgoGAgIGBgICAf358fH1+f39/f39/f39/f4CBgYKCgoGAf35+f3+AgYCBgoB+fX19fX19fn5+fX6AgYKDg4OEg4KBgYGAf359fXx9fX18fX19fX6AgoSEhISBgYGCgoF/fXx6e3x8fX5/gH+AgH9/gIOFhYWDgX5+fn9/gIB/fnx7enp7fYGDg4KBgYGBgICBgYB/f35/fn+BgoKAf319fX6AgIGBgYB9fHx9foCDhIOBf35/f4GBgH9/f359fX5+fn9/gYGCgoGBgYGAgYGCgYB/fn18e31+fn5/f35+gIGBgYGBf39/goKBgYGCgH9+fn5/gIB/f39/fn5/gYCAgYB+fn5/f4CBgH9/gIGAf35+fn6AgYB+fn59fH5/gIGCg4SCgoKCgYKCf358fHx8fX18fH1/gYCAgYCAgoSEgoB/fn5/gYGAf39+fn19fn9/gYGAgH+AgYCBgoGCgoKBgH9/fn1+f359fXx7e3x+f4CChISDgoKCgYGBgICAf358e3t8fX+BgICBgoKBgoKBgYGAf39/fn59fX5/f3+Af35/gIB/gICBgH9+fn6AgYKBgoKBgICAgH+AgH99fX19fX6AgYKBgX9+foCBgoKCgoB+fHx8fX6Af359fHx+gIOEhISDgoGAf4CAgIB/fn5+fn5+fn9/gIGBf35+fn5/gYKBgIGAf39/gIB/f39+fX1+f3+AgYGAgICAgIGCgoGAgH9/gIGAf359fXx9fn5+f4GCgYKBf35+fn+AgYOCgH9/gICAgYGAf35+fX1+f3+AgYGBgH+AgYCAgYB+fX18fX1+gIB/gYKCgoGBgICAgIB/f39/fn5/f39/f39/fn5+f4CBgYGBgIB/f4GAgH9/f39+foCAgICAgYGAf39+fn9+f3+AgIGBgICAgYGBgYGAf359fHx8fH5/f3+AgYGBgoOEg4KAgH9/f3+Af39+fX19fn9/gIGBgYF/fn5+f4CBgH9+fn5+fn9/gIKCgIB/f3+AgYGBgICAgICAf4CAgoF/fXx9fn5/f4B/f35+fn+BgIB/f39/f3+AgYODg4F/f4CAf39+f4CAfn18foCAgYGBgYB/f3+AgYKAfXt8fn9/gH+AgIB/fn6AgoKCgoGAf318fH6BgoGAgICBgX9+f4CCg4J/fX19fn5+f4B/fn19f4CBgoKAf39/f4CAgYKBgYKBf39/f3+AgH99fn5+fX5/gIGCgH99f4KDgX9+gH9+fXx9f4KCgYCAgYCAfn1+f39/fn59f3+Bg4WFhIF/f4B/fnp5en6AgHx7foGEhYODhISCf3x7fH6Af359fn+Af4CAgYKCgH5/gICAgH9/gIB/f3+AgIB+f4KEgn97e3x/gH99fH6BgYB+foGEhIOAgIGCgoB+foGBf317e31/fn19f4KDgoB/gYWFg39+f4F/fHl6fYCBf31+f4GCgn+AgoOCf31+gYODgH5+gIB9enl8f4GBf36Bg4SDgH+Bg4J/fn6AgX97eHt+gYB+fX+DhoWAfoCEhoR+e31/f315eX2BgoB9foGEg4B+gIKFg357fICBf3t7foOEgn59foKEg4B/gYGAfXt8gIF/e3h6f4KCf3+ChYaDfn1/g4OBfXx9f399enp+goODgH+AgoOAgICCg4J/fXx9f357en1/gX9+gIKFhoSAfn+BgX97e31/gIF/fn+AgYB+foCCgH9+fX+Cg4KAgIOFg4B+fX5/f3x6eXp7fHx9gISHh4WCgYOEg4F+foB/fnt6e3x+fHt7f4SHhYGAgIKEg4F+foB/fHp7f4OCf3x7fX+Afn2Ag4WEgX+Ag4SDgHx+gIF/e3p7f4KAfnx/g4SCgICChIJ+e3p8f4GAfn1/gIB9fH+ChISBfn1/gYF+fH6Cg4F8e32BhYaDgIGDg4B9e31/fn16eXp+f399foKFhoOAfn+DhYWBf35/fn18fHx/gYGAf4CAgH5+gYKCgX99fX+BgoB+f4GCgX99e3p8gIOFhIB7eHh+g4aGhIB+gIKCgoGBgYF/eHR0dnuDhoJ8eoCKkI6Kh4N9d3h/hYF2a2Znb32OmZiSjoyFfHd4fYOKj4NuWlJYaYKYqKaYi4N9dnZ9h42Qk4dwV0dJXXycr66ejoF3cG96iJScnoxuUUFEW36htbGfi3ptZ2t7jZuloIVkRztGZo6wv7KZhHJlYWyClaKomHZUPTtRdqC8v6mRempgYXKJm6mnjWZEND5hjrbHuZ+HcWBYYnuUqLGcdE01N1N+qsXFsJd5Xk9VcIyntqR8UDIvS3yryciwlXtkU1Zsi6i4qH1OLyxKfK3MybKXfGNRVG2NprenfU4vKkR2q87QtZV3YFNYcI6ouKuCUC4lP3Kpzc+3mHthUFRtkKy9roFOLCZAdKrMzrSUeGBRVG6QrLusglAuKEJ1q87OsY1xXFJcdpWsuKmBUC8oQ3WqztCxjXBeVFt1lq24qH5MKydDdavP0bKNcGBYX3aTp7CnhFQwJz1spc3VuZJ0Y11gcY2kr6yMXDQmNmKZxNK+mHhkW15wiqGurJJmPy01XJG+z72ZeWZeXm2Hn62wmG1DLzVXiLXNw516Y1tdbISbqK2gfFI3M0p3qcnJqYJpYWNrfZWipqCFXkA1QmaTuMi6lXVjYGZ2jZ6joZNyUTw7UnypxcSlf2ZgZW5/k5+in4dlRzxHaJK0w7iWdGBdZXWKmZ+dk3pdR0JQcZi2v6yKbmFlcICQm52ZiW9XSU1gfp2zuKWGa15kcYSSmpiShW1YTlJkgZ2vsJ+FbmVreIaQlJSOgGxaU1ppfpWlqJ2Jdm1xfouSko6If3BjW19qeomUmZWKfXV1fIePkIyGgntyamhtdoCIjo+Jgnt6fICIjIyIhIJ7cmtscHV9hIuNi4WBf4CEiImHg3+Afndwa250e4GEiIiHhIF/gYWJioiCfnx9fnt3dXh6fH5/gIKDgn99foOGiIaDg4KAgYSDfHZ0c3R3fICCg4KCgoKDhYaIh4WAe3l9goJ9d3Z5fH1+f4GEhYSCgH6AhYmIg398fHx+f3x4d3l7fX5/g4aHhoOCgYCAgIGBfnt5eXp9goWEgH+Bg4OBgICAgH99enl8fn+AgICBgoSFg4KCgX99fHt7e3x+gICBgYCAgYOEg4J/fXx9f39/fn5/gYKCgoKBgYGAfnx7e3x9fn5+fn+Bg4SEg4KCgYCAf35+fHt6enx9fn5/gYOEhYSCg4WFhYJ/fHt7e3t7fH5/f35/gIGBgYGBgoKBgH9+f4GCgH59fX5/f35+f4KDgoB/f3+AgYKCg4F/fXt7fX5/f3+AgH9/fn6AgYKCg4KBgH9+fX19fX5+fn19foGDhIWFhYOCf39/f39+fXx7e3x9f4CCg4OCgYB/fn18fH1+f39/f3+AgoSEhIWEgn99fHt7e3x8fn+AgIGCg4WFhYSBf35+fXx7e3t7fH1+f3+BgoKBgoOCgYGBgoKBgH5+f4CAf359fn9/fn19fn9/gICAgYKCgYB/gIGBgH5/gIB/fn5+fn9/fn5+f4B/f3+AgoKCgYGDhISCf39/f3x7fH1+fn18e36Bg4OCgYCCg4GAf4CAgH5+fX1+fn5/gIKCgX9+fn9/f35+foCAgIGAgYGCgYGBgYKBf318fX5+fn19foCBgIB/gIGCgoKCg4SDgH59fHx8fHx8fn5+f3+Ag4SEgoKCg4OBf39/f399e3l6fH5+fn1/gIGCgoKDhIWGhYOCgH17eXh6fHt8fH6Bg4SEgoGCgoOBf39/f359fH1+f4CAgYOEhIKAfn19fn18fH6AgIB/f4CAgIB/f4CBgYB/gYGBf3x7fYGCgoB/f39/f39/gIGEhIJ/fn5+fn9/gIB/fXx8fX+AgIGDg4KAf3+AgYGBf3x8fX5/f4CAgoSDgX9/f4B/fn5/f359fH2AgoODgoKBgH9+fn5/gIB+fHt8fX+AgoKDg4GAgICDhIWCgH59fHt7e31+gYF/f4CBgoOCgoODgX98enp7fYCAgIGAgH9+f4GDhIOBgH59fn5+gIKBf39+fX1+fn+AgYODgX9+f4CBgoGBgH59fHp7fX+AgYB+fn+AgYOFhYSCgX99fH19fn5+f39/fn5/gYODgoB+fn19fX+Bg4OCf359fX+AgYB+fX59fX1+gIKEhISDgoF/fX19f3+Af319fn5+fn+BgoSDgoGBgYB/fnx9f39/f39/gICAf39/f35+foCBg4SDgX9/f4B/gICAfn17e3x+f4GBg4ODgoF/f3+BgX9+fXx8fH1+gIGDg4KBgICBgYGAgH9+fXp6fH2AgoODg4GAgH9/gIGCgH58e3t9f4CChISDgH58fX5/f4B/gICBf35+f4KDhISCf317enp9f4GBgH58fn+ChIWHhoSCf3x7fH19fn17e3t8foCChYaGhIJ/fn5+fn+AgH99enl6fIGEhIODgX9/f4GCg4KBfnx7e3x+gIKCgoGAfn5/gYKCgYB+fnx8fX6AgoKCgX9+fX5/gIKCg4J/fX19f4CBgX9+fX19fH1+gIGCg4OCgYCCgoKCgH58e3p7fH19f4GDhIWCf36AgIGCgX99fHx8fH6AgYGCgoB+f4CBgoKCgH58fH5+fn+AgIB/f4CAgYKDgoB/f39/fn19fn5+fn9+fn5/gIKCgoKCgYKDg4OCgH57eXl6fH5/gIGBgICAgIGCg4OCgYB+fX1+f4CBgX9+fX59fn9/gIGAgH+AgYGAf39/f4CAgH9+f3+AgIGAgH9+f4GCgoB9fX19f4B/fn+BgYODgYGAf35/f35/f359fXx9f4B/gIKCgIKDgoKCgH9/f4CBf35+fX19fn19foCBgYF/foCCgYGBgICCgH9/f35+f3+AgX99fHx8f4GBgoGBgoOCgIGAgICBgH5/f316e3t8f4CAgICAgoSFhIOBf35/fnx9fn1+f39+fn+BgIKDg4CAgH9/gX99f4GBgoN/fX9/fn5+fn1/f3+AgICAgH9+gICAgoKAgIF/fX59fH6AgYGCg4KDgX9/gX9+fn17fH+AfoCAgIKDgoGAf39/f35/f31+gH5/gIB/f3+Bg4OBgH5+gIKCgH99fX6AgH9/f359fn9/f4KCgoOBf4CAf36AgIB+fn58e319foOGhIKCgH6AgoF/f319fn5+f4CCgYGBgH9+fn5/gIGBgoF/fn5/gIGCgX58e3t6fH6BgoKBgIGBgYOFhYWFgn98enp5enx9fH19foCChIWFhISFgoGBfXp7fHx8fX17fYCAgYKCgYCAf4CDg4ODgn+AgoB+fnx6en1+gIF/fHx7f4WMjIZ9dnN3goyPh312dHmCh4V9dXF4gomLiIB3dX2FhoB9goWDfXp5d3uFkJKKgHp3dHZ9f39+fHh5fYCEiY+RjoiAeXR4g4yIe2peW2R3jZ2dkoqGgnx7gIeLkJSHcVtNTmF+m62rmop+cmpteoeToJ6EZExCTGyTsrqumYJxYlxof5OkqpNtTDk+W4auwr2nkXpoXGF2jaOxoXhOMzBLeajGxq2QeWhbXnKLnqukgVk7MkRtocXLuJyAZldXaIScr6yMYTwvPWaYwtK/oYRqVVFigJ61sY1dNyg2YZbB0cCihGpXVGaFpLq2kF40ITJhmcXUv5t9aFhWaoqluLOOXTUlM1+YxdK+n4BoVlRoiaS1sItZMCEzY57K2MGcfmdXVWqLqLmxiVUwJTlqoszTu5h4YE9QaIyrvrKIUy0lP3Os1NSyjG5bUFhzk625qHxLLClGe7HRz66KbmFaYHmYrbSkekkrKEV3q8zLq4hwYltjeZettqd+Ty0oQnWqy82uiG5fWGF7mq63qX9MLCpFdanMzayHb19YYnyZrLWofk4uKkNzqMvLq4RpXVxkfJqvtKaBVTYuQ3Kmx8qshWpeXWV6lKatp4dbOzNEaZrD0LaLbmNhYXGPpKmjimM/MDpfkrzPwJt4ZWBjcoqepqeVbEc0OFN+rcvIpH5pY2Ntg5qjoph7Vz04S3OfvcWuiWxjZ3GBkp2emoRjSkBGYImuv7eZemlnb32Nm5+ekXJURENTdZivtaOHb2drdoaWoKOdg2NMRlFriqOuqJF2YmJvgI+aoJuEaFdVX3KJnaijlIBuZGh3iZebk39qXFtkdoiUm5qShnhub3uJkZOOgG5jYmp2gImQk42Ffnp7gYeKi4iCeHBtb3N6goeKioeEfXh4foWKjouBd3Jxcnl+gYWIhoKBfnt9g4mJhIGAe3RxdXuAhIeFg4J+fYCGh4eIhYGAf3l0cnZ6fX5/f39/gYODhYiJh4R/e32Af3t5eXl7foB/f4CChIWCgYKEhIOBgYKBgH14dXV6fn+AgoB9fn9/gYSIiIaEgHx9fYGFg3x3dXZ5fYGFh4eFgn58en2ChoeFgHt5eX6Fg315e31+foCBgYKBgoOBf35/goKBgX98fH+BgoF9enp9gIKBf4CBg4SBfoCBf3+Afnt7fH2AgoKCgX9/f3+ChIODgH98ent9fn+AgYB/gYF/gYGBg4F+fXx8fX6Ag4N/gH59f4CCg4KCgX19fXt9f4CEhIGAfn2Bf4CBgIB/fn5+fn+AgYGAgoF+fnx8f36Agn5+gH+BgYSGhIOBgIF+fX97e359fnx7fX1+goODhIOEg4GDgX+AfX58eXx5eX5+gIOBgoKBhYOChIODgX9+fXp8fHt8fH6Bf4GCgYODgIGAgH99fX18fX5/f4CEhIOEhICAf39+fHx9e3t9fX+AgoOBg4SCgoOCgn5+f3p7fnt8fX+Cf3+BgIKDgYKAf4B9fX9+fX5/f31/goCBg4KCgoGBfn5/fXx+fn5+fn9+foKEhIKCgH5+gIB/gIF+fn5+fn19f4CBgH9/gIKCgYKCf4CBgH9+f399foB/fX5/fn2AgoCAgH9+f4CBgYGBgH9+gH18f35+goODgX+Af31/gH5+f4GAfX+BgIB/gIGAgoKAf35+f4CAf359fX1/f3+AgYGAgIGAf4CBgYGBgX99fX9/gH+BgX+AgX9/fn+Af4GBfn5+fn+AgYKBgIF/fn5/f4CCgn59fn59fYGCgYCAgX59fn5+gIKBgYCAgYGDg4GAgX59fn59e3p8fHt+f3+Bg4WGhoeHhIKBfnt7e3h3ent8foGEgYGDg4KEhISDgYB+fHx6eHp8fn6AgoOCg4ODg4OBgYB+fXt6fX5+goJ/f39+gICCgoCBgoKAgH59fHx8fXx/gH+AgoKBgoODg4OAfn9/fn5+fn19fX1/gIKCgoGAf358fX1+f4CBgoKAgIGBgIGAgYB/fXp6e3x+goOCgYGAgYSEhIKBgH9+fHx8e31/f39/fn1/goKCg4J/fn58fH6AgYKEg4F/f4CAgIKDgH9+fHx9fn9/f4CAgIGAgIF/foGDgoGBgHx7e3t8fX9/fn6AgIGChISEhYSBf4GAfX1/gH9/fn57e3x/f4GCgn+Af35+gYSCgIB/fXx9f4CBgoKAfn5/f4GBgYCCgX59fX18f4OEgYGCgH5+gIB/gIF+fHx9fHx/goKAgIB/f4CAgYKEgoCAgX59foCAf4CBfn19fXx9f4CBgICBgH+AgYGChISBfn1+fHx9gIF/foCBgX9/gIGCg4B+fXp7fX+AgYOBgH+AgoKChISCgH18enl6fH19fXt8gIGFhYaHhoWDgYB/fX19fX18fHt7fHx9f4KDhISCgH9/gYKDg4KBfnx9fH9+f4GAfXx7fHx+gYKEg4SCgIGCgoGCgYB9fHp5eXp8f4GBgYB/gIKFhoSCgX59fXx8fX5+gIKBgH+AgIGCgYF/fn18e31/gIKDgoF/fn9/foCCgH9/fn5/gIKCgICAfn6Afn1+gICAgoKBfn6AgIGDg4F9fX17fH+AgIGAfn1+gH5/gYF/gYKBf4CAgYGBgoF/fn18e3x+fn+AgH9/f4CBg4OCgoKCfn1/fn1/gIB9fHx9fX6BgYGBgYCAf4CBgYCCgYF/fHx/g4V/eHuJintpcpWSgXJwiZB+eHt3d4CEh4F5f4mGfnx+gYWEfXp6gYF8eHyCh4V+e3uFiH97fYCIhHx7fYGCgHt7f4GCgHp8goF/gH19goWEf3t+g4J/foCCg4J8e3+AgH98fYB+fX9/goSBgIB+f4ODgYCAf35+fX5/foB/fXt+gYKAf4CDg4KBgYB/f359fX2BgoGAgYOAfn1/f35+fnx7f4KCgH6AgoKCgH+BgoF+fX2AgH9/f39/fnx+f36Ag4KBgIGBf35/gYGAgoJ/fHx9fH2AgYB/f39+f4F/f4GCgH+BgYB/f4GAgIKDgn+Af3t8fn59fX58fH5/gIKFhYKAgoKAf39/fX1+fXt7fX6Ag4SDg4KBgICAgH+BgX99fXx7fX+AgICBgX5+f4CBg4KAfn5+gIKBfnp6gYiKhn91cnqEjI2FeXBvcHeFk5mVjIF2bWt0g5KUiXZlXWFyh5ifmpGJgHRwdX6HlJyPdVpLUGWBnq+okYF5dnN0f4uTmpmEZ09GT2yNqLSnjXlxb3B3g4+VmJWAYkpFVHSat72pjXZtamp1hpOYnY5uUD1AXIWsw72iiXVnYGd4jJyqn3tTOjVLeKjHx6uNdmheY3aNn62ogFQ3LkVypMjNro55aFpecoqbqqeEVzUtQnCmzNK1knppXVxwjKGup4NUMipAcKXJzbSUeGNYXHCOqbmqf00qJkR7sNLNrYluXFJZdpm0uqNzRCkuV5DC18ScemJUUGKAoLWzkmE3Jjlpo8/avZRzX1RXbI2ptaeATisnRHu02NSxim9aU155lq61nWs7JS5UkcXaxZ57ZFhZa4alurKKWTEiNm2p0NW3jWtcV2B5la63o3dFJiVIg7vZz6Z8Y1tcbIahsbGWZDYgK1aRxNjFmndlX2JzkKi1rotZMCI1ZaDJzrKKbV9eZXqTqrWogVMzL0d7sM/KpXxkXFtkfJaor5xyRC42WpHB2cicdmJeYnCGmqeliWA7KzdimsTTv5ZzYmRsd4udp6SKXzsuPGWZwtC4jG1iZGx9kZ+joophPjE+ZZa+zruQb2NlbXuOnKGeiWRBMz9hkLfIuZJyZmhvfY+fpaKOakY0O12MssO4knBjZ298jp2hoJJxTj4/WIOtw72admRiaXaGlp2clHpXQkBTeKK/xayDa2dsdIKRmJWTg2NIPkZjjrLEuZZ2Z2lzgY+XmZeLcFNCQVR5oLi5ooJrZnB9i5ecmpaAYUxHT2mKprSrjnRnaXWGlJmYlolvWU5RYXyVpquchXFqcX+Lk5aUjXtlV1Vfc4mbpJ+QfnFsc4KPlZWPf2xgXGJwgo6WmJKJfnZzeoSQlZKFcmZhZW58h42Qj4uGfXV4hY6Qjol8cGpqbnN7gYaIiYqGgXt8hIuNiod/dG1scHR9hYiHhYWBfH6EioqJh4J/dm9vcnp/hIOBfnx+goSGh4eGhYSDgXx4dnd4enx9fX1/goOFhoWEhoeGg3+AgoB5c3J1eXx/gIGBg4OAf4GFiYuIhH97en2Af3p2d3p7fX+AgISGhoSAgYSFhoWBfnp6f4WCe3Rzc3l/f3+BhIWDhIWEhIeLh4J8eHV0eoGCfnl4en2AgoSFhYSCgYCAgIGCgoB+enh6foGEhYB8fH5+f4CDgoB+fX19f4OCgYGAgIGAgYKEhYJ/fXx6eXt8fHx8fX1+gYSFhYaFg4OBgICBf3x8enl5enx+fn+BgoKEhYWEhIOBgX9+fn5+fX5+fn19fn19f39+f4KBgYCAgYGCg4OBgIGAf319fn1+fXx+f39/gYGBgICAgIKDgoGBgICAf318fX59fH5+fX6BgoKCgYGAgIGAgIGBf4CBfn1+gH9/gIB/f4B/f39+fHx/gH6AgoB+gYSEg4SFgn9/fnp5e3p6fX59fX9/gISHiIeFhYJ/fn59fX18enx9fH1+f4CBgoOCgIB/fn+Bg4KBgYGAgIB/fn5+fn5+f3+Af4B/f4CAgIB/f39/gYKBf4CAgICBgYB/fn19fX5+fX5/gH5/gYGChIaDgYCAfn6AgH5+fnt8fn99fX+BgYGBgX+AgoKBgYF/fX6Af4CBf3x9fn59f4OCgIGBf3+BgYKBgX99fX18fH5+fn5/gICBhIWDg4J/fX19fn5/fn19f36AgYGBgoKCgH+AgICCgoB+fHt8fX+BgYCAgYCAf35+f4CBgoOBfn5+fn5/gICAgH9/f3+AgYGAgYOCgYGAfXx8foGAf359fX+AgIGBgICAgYB/f39/gYOCgH5/f359fX19fn9+f4GBgYKEg4GCg4GAgIB9fH5+fHt6enp9gIGAgYOChIaGhISDg4F/fnt6eXt7e3x8e31/goSGh4eHhIOCgH19fHt8e3t7e3x+gIKDg4KCg4GBgYKBgH5+fXx9f39/gYGBgYGBf35/gH5/f357fX9/f4CCgICCgoGBgoOBf39/fXt7fH5/gIB/gIGBgIGDgoGCgoB+f35+fX1/f319fn5/gYGBgYGBgICAgIGCgX+BgoB+fn9+fX+Af35+f35+gIGAgYKCgoGAfn19fX1+f359foCBgoOEg4ODgoF+fXt7fH1+f399fYCBgYKEhIKAf4B/gICAfX19fX1+f4CBgX9/f35+f4KCgYGCgYCBgoKBgH9+fXx7fH5+fn+BgICAgIB/gIKBgYOCgH59fH6AgYGAgX98fH5/f4GCgH9/f4CChISDgoB8fHx9fX6AgICAgH58fX+AgYKCgYCAf31/gYKBgYKAfnx9fHx+f35/gYGAgIGDg4KBgH9/fn1+gICAf358fH1+f4CBgX9+f4GCg4SCgIF+fX5+fn9+gIB/f4CAgICCg4F/gIB+fX59e3x+f31+gYGBgoSEgoGCgX5+fn18fH5+f4CAf3+BgoODg4KAf359fX5+fn18fX1+gYGBhIWDgYGBgH9/f358fH18fX+BgICBgoKDg4B/gIB/fn9/fX1/gH+AgIB+fn9/fn+BgH+Af35+gIKCg4OCf3+BgX9+fn59fX5/fn19fX+BgoSEgoGAgH9/gYKAf399fHp6e3x+gYKBgYGCg4ODg4OCgH59fHp5fX9/gH99fn+AgoODg4KCgH9+fn5/gYKBf319fXx8fH1/gYGAgYB+f4KFhoWFgn59fn59fHx7enp7fX6AgYOFhYSCgoGAgIB/fX1+fn18fX19gIKDhYWCgH5+f35/gIB+fX18fYCCg4KDg4B+fX5/fn5+fn5/gYB+f4GEhIWEgn57fH19fX+AgICAf35/gYKCgoKAfHt8fn5/gH+AgH9/fn+Bg4ODgYB+fn5+f35/f39/f319foGDhYSDgH58e32AgYGBgYB9fX59fH+DhIKCgX15en6AgYKCf31+gICBgoOBgYKAfn+AgH+Af318fX18fX+BgoSEhIOAf35/gIGAf317e3x+fn+ChIKAgYF/f4GEhIKAgIB+fX9/fXx+f35/gH9+fn+BgoGAf35+fn5+gIOEg4KAf31+f4CBgH59fX5/gYGCgoKBf318fX+AgYGAfn5+f3+AgYB/gIB/f3+Af3+AgIGCgYGAf35+foCAgYOBf39/fX5/goJ/fX59fX+Cf3+AgYB/f39/foGCg4B/f3+AgYGAfn1+gIB+f4CAgIGCgn9/gH9+fn5+f4CAgH99fX1+gYODgoCAf35/gIB/f39+fX5/gYKBgYODgoB/gIB9fX59e3x/f35/gICAgoSFg4GAgH99fX18e31+fn6Af4CCg4WEg4OCgH9/f39+fX5+fn19fX6AgYF/fX2Bh4iGf3h0dnyEiomCdm5wdX6Mmp6Vin5zaWp4iI6LgHBjY2x7jZudlo+JfXVydXuCkJaGblpQVGqGoK2nlIR7eXh5gYqPkpGBZ1FHUGuLpbOpkXtvcHZ+iJGWk45/Z1BGT2mMqLWuk3twb3B4hZCXmZaBY0tDTmyVtb6tkXprZGVyg5KdpJVyUD0/WoKqxcGig29kX2h7kJ2moH5WPDhNdaLDyrCPd2hhY3OImKOjh15AMkFpmsDQu5Z5Zl5fbYWapqePZUExPGOWvcy8nIBsYF9sg5qqrpBiPCkyWZLA0sGegWxhYW+Fm6ysjV04KDNdl8bUwZp6aGBjc4yisquGVjImN2afytK2kHNlYWh5kKKtpYFTMSg9bKXMz7GMcWRian2Upayhe08yLUd6rs/MqYJrYV9mfJSmrJtzRy0yVom51Mmfd2NfYnCInauqkGQ6KTZglcLTwJVwYWNtfpKhqqKCVzcsPWicwsy0jGtgZXGEl6aqoH5VODFEb6HCyKuEaWNpcoKVoaece1M5NUx2pMTGqINtZ2hwgZShppdySjM2U4Gtx8CffGlocHyLmqSkjWVDND1ejbbHuJBvY2t4hZCanpuGZEc4P2KOscC0kHBmb3uGkZucmYhoSz1BXYitv7WTc2hudoGOmJqcj29QPz9WgKm/upp4Z2hxfYuVmZqSdVVCQFN7pL69oH1raW97jJiZmJR5V0M/T3ObuL6lgWxpb3qJlJiVk4FiS0RNaI6uvLCPc2pweISQlZKPiHJaS0taeZuxtaKDbm53f4iQk4+MfmdUSk9khaCwrZZ9bnB5hpKXlJKKc1xRUVtyjqGon4t3bHB+jZSVlJCAa11XXGyAj5uelIR1b3J9i5STj4d2aGNkbXqGjpKRjIR7dnmBio2PjYN1a2dpcXqBiIuMiIN+eHd9ho2Qjod9cmxscHmDiIqJhoF9e3t8gYuQioN/enNxc3h8gYSEg4KAf31/hImJhX97en19enZ1d3yChYaGhoWCgoOBgYKDgH16en6BgHt3eH2AgoODgYB/gH9/goSFg4KAfXp8hIiEfXd2eHx/gICAgYCBgYCAg4mKiIN/end7g4Z/d3N1eX6BgoOCgoGDgoGBgoSDgn59e3t+goeGfnVydn+HiYmFf3t6e4CFhoSBfXt6enx/g4WFhoN7dXV8gYOFhIB8enx+gYOEg4GAgYF/f4B/f4KCgH18e3p9gYGAgIB/fn+BgoGBgICAf35+fn5+gIGAfn+AgYB/goKAgIGAfn18fH+Bg4OBf319f3+BgoKCgX9+fHt6fH5/f35+f4GDg4OEg4KCgYCAgIB/fn59e3p6e36Af4CBgYKCgoOCgoGBgYCAfn16eXp7fYCBgX99fX+ChYeHh4SAf358fH5/gH58enh4fICDhYODg4GAgYGAfn5+fnt8fXx9gYSFhIOCgH5/fn1+fn19f4CAgIKDgoGDhIJ/fXx8fH1/fXt8fX9/gYKBgYKCgoOCgYB/f39/fn58fX+AgICBgH9/gIB/gIGBgIGBf35+fn+AgICAf39+fX1+fX6AgYGBgoKCgoKDgYGAf318e3p8fX+AgoKBgH+AgYGCg4F+fn17e31/gICBgYB/gICAgoKCgYCAf39+fn5/f318fn9/gYOEg4ODgYB/fnx8fX19fHx7fH+CgoKDhIOCgYGAfnx9gIKEgn98e3x+f4KDgoB+fX19fX+Bg4OBf39/f4CBgYB/f398e3x7fYCDg4ODg4KCgH9/gH9/gIB+fn5/f3+AgYB/fn5+fX2AgYF/gIB/f4GCgYGAgH5+f39+fn5/fn5/gIKEhIODgH9+gH9/fn99e3t9fX5/goKCgoKBgYB/gIB/f39/fn1+f35/gYOCgYGAgH9+gIGAf39/gH9/gIB/gIF/fX5+fn19fX+AgIGBgICBgoKDg4KBfnx7fH2AgIB/fX1+gIGChIOBf39+fX5/gICAf35+f4B/gIB/f4CCgoB9enh6foKFiIaBfXx9f4KHh4J8eHd5fYGGhoN9eHl8gIWJh4J9ent9gYOCfnx6e3+CgoKBfnx+goaGgn98enuAhYWCfXl5e3+Eh4eEgHx6enyAhIN/fHp6fYKGh4WAfHp7gIWGhIB7eXp+g4aFgHt3d3qAhomHgnx4eX2DiImGf3p5eXyBhISBfXp6e36Cg4KAfn5+goeIhoF9ent8gIOEf3l3eHp/hIeEgX58fH+DhoeDfnp5e3+EiIaBfXp5e3+Cgn98eXt/g4eIhYF9fH6AgoSDfnl4en2AhIWDfXp6foGEiIiBend5foSHiIR+enp7foGEhIF8eXt+gYOGhYB9e32AgoWEf3t5en2Bg4SBfXl6fICEh4eDfXl6foOHiIR/enl6foGEhIF8e3x/gYOGhYB8ent9gIGCf3t5enyAg4WGg4GCg4SEhYN9eHV3e36ChIOAfX1/gYSFhYF+fHt7fH+Cgn56enyBhIWEgoB/gICAgYGBfXx8f4CAgoKAfX1/gYOEhIB9eXl8f4KEg397eXyAgoWHhH97e3x/gYKBf3x8foGCgoKBfn2Ag4SCgH58eXt/g4SCf3t6en2BhIaFgn57fH6DhYSBfn18fX+CgX57e31/goSFgn58fH6ChoeEf3t5en2AgoSBfXp5e36ChISCgH19f4OHiIaCf3x7e318e3t7fH6Ag4SEgoGBgYSFhYOAfHl4eXt+gIB/fn1+f4GDhYWDgH59gIGDgn99fH1+gIKCgX9+fX1+f4CBgH5+fn+AgYKBf31+f4CAgIB/fn5/gYKCgoB/f35/gIGCgoB8e3x+gIGBgoB+fn5+gICAgICAf3+AgICAf39/gH9/f4F/fn+AgICCgYCAgICAgICAf39/fX5+fX5/f4CAgYGBgoOBf35+fn+AgICAfnt5eX2BhISDgH9+gIGCgoGAf35/gYGAgH9+fH1+f35/f4B/gIKDg4KAfXx7fX+AgH9/f35+f4CCgoODgX9+fn+AgICAf4CAgYKCgX9+fX5/f359fHx8fH+Cg4KAf3+AgYKDg4F/fn19fn9+f39/f39/fn6BhIWGhYOBgH58fHt8fX19fHx9fX1/gYOEhYSCgYGCgYGBgH59fX19fHt7fX+Cg4ODgoCAgYKDgoB+fnx7e319f4GCg4KAf35+f4GDgoJ+e3t8foCCgoGAf39/gIKCg4KAf319fHx9f4CAgIB/f3+AgYGBgYGAgYGAfXx7fH+BgoF+fH1+gYSFhIF/fn5/f4CAf4B/f359fX9/f39+f3+AgICAgICAgYKDg4GAgH9/f39/gH99fXx8fH5+f3+AgYKDgoGBgH+Cg4OBf318e3t9fX5+fn+BgoKDg4OCgX9/fn5/f4B/f35+fn9/gIKCgX99fX1+f399fHyAh4uLg315eYCKjIJ4cW1udICMko+Kh4B6eHuAhYuSjXljVVVmgZikoY97dHqDiY6OiH9+gndoXVhfc42fpZ2KdnN+ipCPjIV9f4FzYFRSX3yZqamXfGtxgI+XmJGEen59bV1TU2aFoK2mjHRud4GLko+Kg4WFdWBQT1+CpLizlXhrb3V+iY+Lio1+aFNITWaPsMK2k3VqbHSBjZSSk4ptUkJBVn6owsKjfWdncX6Mk5SVknlbSEFOcJu4wauEaWVve4mTlZCThmdNQEVhjLTHu5NwZWp1gpCVkpOMb1FAP1aBrsbDn3lnaHB5iZaXmZJyUT47UH6sx8WkemVjanaHl6Clk21HNTpajLnNwZdsW2JygZGdnpuFYEAzQ2mcwcuzh2ZgbXyJlJeVk4NiRzxGaJe9yK+DZ2Nsd4WSl5qZhWNHPUltncLJq35jYWt4hpKVmpV5VTw6T32ty8mleGFlc4KQmZmXimhHNDhVh7bMwphsXGd7jZufm5WFY0U3QGGRuci3imVdbYCOmZmTjn9jSD1GZZS7yLOJaGRwfYmTlJKRf2BHPkhrmbvErYRlY3CBjpibnJR3Vj89UXqmwb6fdFpecoaUmpeTiW9TRUliiq6/tZJrXGh9jJSUjIiEcVpMSl2Bp727nHVia3yJkZONiIh3Xk1IVHSct7qhd2Fmd4aRlpKOjnxhTklTcpq1u6eCZmRygY2Tk5CQf2RQSVFtlK+2pYJlYnGEkpiWj4x+Z1VQWG+PqK+jhGhgboGPlJKMiYRxYVpcaoWeqqeRdmZsfIqQjomHhHJfVldke5ioqZmCb2x5iJKUkYyGdmRbW2NzipidlYZ3b3SCj5WVkYd2Z2RmbnqGjpCLhXx1d4CHjI+Ohnlua251fIOJiomHhH97gIiKiIN9eHV0c3N2eX2DiIuKiIR/fYOMjomAeHRyc3Z5e36BhIaGhIF+fH+IjYuGfnVxdHh8gIB/fn+Cg4WFgX+CiIiDfnx6eHd5eXp9foKEhYSEhYSDhIaGg398en1+enNvcHZ+g4SDgoOFh4iIh4eGhIB8eXl8f314dHR4foOGh4WCgH+AgYGChISBfn19f4KFg3x2dHd9goSCgH17foGDg4KDhYeFgX59foGFhoJ6dHN3foGCgH17fH6AhIaEg4SEhIKAf35+fn9/fHl6fH+AgH9/gIKCgoODgoB+fHx+gYKCgYB+fn+BgoF/fn18e3t7fX+BgoODgoGCg4WEg4B9fHx8fX5+fX19fn+AgYGBgYGBgIB/f4B/gIGBgICAgYGAf3x8fX5/gIB/f359f4CBgoOEg4F9fH1/f35/f35/f4CBgYKCgoB+fn18fH1/f35/gIGDg4OBgICAf4CBgH9/fX19fn9/gIB/gH9+f39/gIGCgoGAgIGBgoKBgH9/f35+fXx7fX19fn+AgYKDg4KCgoKCgX9/f39+fX19fX5+f4CBgH9/f4CAgYKBgH+AgYGBgICAf359fX6AgYF/fn5/fn9/f39/gIGBgIB/gIKDhIOBf359fX5+fn17fHx9fX6BgoODhISEhIWCgYB9fHt7ent8fX+AgIGCgYKDhIOCgYB+fn5+fX19fn5+gICAfoCAfoCDgX6Ag399gYWAfYKBenuCf3p/hH57hYZ9fIODfICFgXx/gXx7gH96fYF/fYGBfn+DhIKEhoOAgYF8en1/e3uBgXt9g4J8gIaCfICFgH2Dg3t7gYF8foKAfH2Bf3x/gHx7f4OCgoKAfn6Bg4SDgH19fn9/gIB+f4B/foKAe3l9f3+ChIF8fYGCgoWGgXx9f35+gIF8en2AgIGCgHt6foOEhISBfn6AgoKBgH59fX5/gH59fX1/gIGBf359f4GEg4F/fX2Ag4SDgX59fX6AgYB+fXx8fX9+fXx8foKGiIaFhIGAgoSCf356d3h6e3l5e3x9g4eGg4OCgYSJioWAfXx7fX9+e3p5d3p/gICAf4CChoeFgoB+fYGFhYOAf3t6foB9fHx7eXuChIB9fn5+hYqIgn9/fX6DhH98fHt7f4SCfnx8e36DhYJ/f319f4OCgICAfoCEhIKAgH15e4OCend7fHyAhISCgYKChYaEf39/e3t/gH17fX18gIWFgoCAfX2Bgn59fn17f4WFgICCf36EhoGAgHx4e39+fH18enyBg4GChIKAhImGgYF/enuAgn58fHp4foSFgYB+e3yAg4F/gYB/gYWDgIGBfXuAgoB+f315en+Afn6Bf36EiYaDgoF8fYKDgH5+end7gIB/gYF9fYGBf3+AgH+ChYSAf358fIGFg4GAfnp6fX9+fX5+foGEhYSDgX9+f4CAf358e3x/goOBf35/gIKDg397fH1+gIOBfn6Af3+DhIB+gIF9f4ODfXt/gHx9gYJ9fICAgIGEhIKCgH19f358fIB/fX2AgX59goSCgYKCf31+gIB8e36CgH1/goF/fYCDgn9/goF/fYCCf3x+gH98fYKDgH1+gIB+gIOEgX1+gYB/gIKBfn2AgX98fX9+fX+BgoGBgYKCgX6AgH99fn9/fX5/gIB/gIB/fn5/gICAgIGBgYGDhIKBgYB+fXx9fn57ent8fH+DhoaFhIGBgYGAgIB/fXt8fX19fn9+fH2AgYGBhYSAf4KCgYKDgoGBf316enp6e35+f4GBgH+AgIGCg4OEg4F/f39+fH6Af39/gH59fX6AgIKCgX99fHx+f4KEhYSBfn5+fn+CgoB9fHp6fH+ChYWEgoGAf35/gICAgH98ent9fYCCgYGBgICAgoODgoF+fXx9gH9+f398f4F/f4KBf4CBg4OBg4F/fnx7e3x8fX6AfX+DgoKFg4OEgYCBf35/fHx9fH1+f39+f3+AgYCBgoCCg4GAgH5/f39+fn6AgYCAgIB+f398f399gH9+gYGBg4GCg4KAfX1/f3+CgX97fH57fIF/gYOAgYF+gIKBhIODgn+Bf3t+fnx8fIB9eX19eoGCgoeFg4SDgYKBgIB/fn18fnx6eX1/e36DgIKEgYOFgoOGgn+Af3x6e35+f4GBfnx/fHmAg4GDg4GCgX2AgoGDhIB+fnx7en1/fnyBgHt/gn6Bg4GDhIOCgn59gIGAgYF+fX5/f3t9f3l6gYKBhIF/goSBgoN9fYB9fX59fn18fnx8hIN/goOAhIOBgYKAgIOAfIB/ent8fH6Agn97f4J8fIODgIKAfoCCgYOCf4GBfX5/fH6AfoB+fYOBfH+DgYKFgX+AgH1/f3+Dgn59e3x9fICAfX+Bf32BhIKDg4B/gH59gH6AgoCBgH2CgIGEfn1/fn16foJ+gH58f4F/gYGAgoOCgn59gHx/gX2BgX59en+BgIOAf4GAgoGAgoGAgH99f317f35/gn9/fnyAgYGCgIOCgIF/fX99fX59f4F+gIF+goSCgYCBgX9+fX1/f31+fn6Afn+BgIKAfoJ/fYKCgIKCgn9+fX1+f359fn18fn6AgX+EhIOFgoGDgH+Af4B9fHt6fHx9gIB/gYGAgoGAgoKBgH+CgX1+f318fX5+foGCgIGBf4CBg4J/fn19foOHhYJ8d3V7g4iJh350bW51f4yUkId/enl7gISGi4l+c2tpbnqGkJSMg3x8fn+EhYSGi4l9bmJcZHiMmJyUgnR4foOKkIuCfn6Be3FnX2R2ipefl4NzcXyEjJKRhXp9hH1waFtZbYqcpKGKcG16gomRlIp6fId/bWFZWGuOpqmfiXJreISIj5GKf4GFdF1QU2F+n7exknlub3aFkpKOiYeAcmBOS1t9nLK3n3lpbnd/jpuUiIqHb1pPS1Z5ori1nH5nZXSCi5SYjomGdVlIS1x9o766mnpsam59kZSNjY98ZFZHRF+Orby6nXdpcXd/jpqTiot4WEFBTmyavsSriW5hZnuOlpyfmX1hSz5EY5KzvbOUbFxldoORnJqWiG9UQUZhhqnCvppzYWJtgZGXk5KNdVpIQ1J0oL3AqYVrZm98iZOTkJF/ZE0/R2WPtMW4knBla3GBk5mVmYxrTTxBWIKwyLyYeGRgcIiTlpqdiWZRQD1Yh669u6J5XmR2go6empGKclM/Qlp8oby9oXxoZ3CBkZeRk5N3W09HTG2dtbWpimhhc4OJk5qUjX5oTz9Na46twLGHbGlrdYqYmZaWgmFMSE5mjrG6qZB0Ymh9iJCcn45zXUtEVXiXq7OmhmtqdoCMmZyUhm9WS1NlfpmrqJV9bG14iZKTlJGAalpSWGqBmqejknxscYCMj4+PjYBuYVlZZ4CUoaKTfG9zfYqRkZGRhnBiWVdieJCenpOAcHB8h4+Vl5OFb2BaX2yAkpqXi3lvcn2KkpOUkIBsZGJmdIiTkY+KenF5hYeIjIyDdWxoZWt7h4iOlYx+foaGhYyNhYJ+cWRkbXR2go6NiY2Gen2IiYiMjYJ4cGhpcXl/hImKhoJ/fHyEkI2Eh4l8cXJwa3KBh4iNjIN6en6BhoyKgYKHfG9tbm52hIiHiYZ/e3+EhYiOjYWCg3pvb3JzeYGBfoCAfYCFhoiKjImCgH99fHt3c3V7e3p9fnx/homGhomHg4KCfn2ChH55d3R0fYF/gYSCfn2Cfn2FioaEg356fYWGgHt4dnd+fnx8gH9+g4WAgIaJh4eFf3t9gISDfnZwcXh/gYODgH6AgoKDhIaGhoN/enl8foGFg3p0d3l8goeDgYF+fYCDhYaEgn57fX5/gH9/fnt7fn58goaCgISBenyCf3yBhHx7gYF8f4WCfoGEgH2CgHt9gH18gIJ/f4GAf4CBf32BhIB9f4B8fYKBfoGCfHp/gn6BhYJ+gIN+e4CDf3+DgHt8fnx9gYOBgIKAfX2AgYGDgn9+f317e35+f4KCgIGBf3+BgYGCg4B9fHt4eX+CgoSFgoCBgH+Ag4KAgH57en18fYCBgICCgX5+gIB+goSAfX9/fn6DhIGCg4B8fH17e4CCgICCf32AgoCAg4J+f4J/fH6Afn6BgX9/f359fYGBgYOCfnx+fXp+goKChYWBgICAf4CDgXx8fXh2fH57fYODgYOEgYGFhoODg4F+ent8eXh7fH1+gICBgoSGhYOEg4GAf359fX19f359fX16foJ+foSFf4CFgn6BhIB9f4J9eHx/e3qChH1/hYR+goeBfYGEgHx/f3l6gYB7foF9fYOFgYGFgXyAgn16fX59f4OCfH+Cfn2DhH+BhH98gIR9eoKCe3+DgH1/gnx5goR8foN+e4KCfoCEg31/hYF9goF6e399fH+DgX6Bg4CBhIGBgoGAf3x8enl7fX2Bgn6Bgn+Bg4KCgoGAfn+Afn1/gH+Af318foB+fYGDgYOFgX+Af36AgoJ+fX99en5+en2AgICBg4F+gIOCg4SBfoCAfnx9gH98f398f4B+gYKDhoSAgYB9f357fX9+fH6Bf32AgH+BgoGBgICAgIGDgoGDf3x/f3t7fn9+f35+gIKCgYOCgH+BgICAfn19fX9/fn+Af39/f3+AgICBf4CCgX6AhIF/goF8fIB+eX2Af36AgX99gYN/f4SDf4GEf3yBgXx9gn98foB+foGCfnx/gH+DhIF+gIB8foOCfn+Ef3uAgnx7goF7foJ9e4KEfn+DgX6BhIF+gYF+f4J/e35/fX6CgX1/gH9+gYF/f4GAfn6AgH+BgoCAgoB8fX58foGBgYKAgH+AgH9/gIF/f4B9fX5/f4GBgIGDgX9/f3x/g4J/fX19enyBgH+Cg4CAg4J/gIGAgYGAf357enx+f3+AgIB/gYSCgoODgYGAfXx8e3t+f35/gH5/goKBg4SFgoCBfnt8f319fn18foCAf4KEg4SFgn9/fnx6fICAfX5/e3t/gIKEh4aCgYB8e3+Af4CBfXt9gH1+g4N+gIN+fH+BfHyDhICAg4F9foGAfoGDf31/fHp8f36AhIV+fICAfYCFhIGCgn98fn9+f4CAfn19e3p+gYCBhYWAgYN/f4OBfX+Bfnx+fXt8fn1+goOAgIKAfoGFhIOGg3x5fHx5fX99fH6BgYCChIOChYaBfX9+eXmAgHl8g396gIR/f4SGgYCCg39/goB9foB8eH2Ae3yDgX1/gYCBhIWCgICCgH+CgXx+gXx7goB4e4J8eYGEf4GHhYCAhYN+gYWAen9/eHqBe3Z+g319hIF8gYiFgIKEgH2Agnx6gH56gYV+fIOCe36Cf32ChH17gIJ/foKBfX6CgYCDgXx9gH59f319f4CAfn2AgoGDhYKAgIB+foB+fYKDgIGAe3yAgH9/f359foGBf36Af4CFhn9+gn98gYB7fYGBfn5+fXt+g4aEgoKAf4KCfnx/gX9+gH14eoB/foGCfn+DgH+CgX2Ag4J/gIB/gIF/fHx+f39/gX58gYOCgoN/fYCBf39/fX6AgYB/fnx/gYCBgH18foGDgn9/goGAhYR7eYGBe3+De3h/g4CBg4F+gIOEf36Afn2AhH94fH99f4WFfXuAgX2BhYB9hIV8fIB9e4CEgH1/f35/g4OAf4OCfoCCe3Z+gHp/hoB6gYV9fYSBfYSIgnx+f319gYJ8e39+e4CDfXqBhIGEh4J8f4R/fYF/eXyDgHx+gHp8g4N+gYJ/foKDgYCAgX9/gYB8e3+AfoCAfX2BgoGDg39/gIB+fn98e3+BgICAfX6EhIGDhoB+gYF8fYF9en6AfX1+fH2BhIWFhIKAf4GCgX5+fHp7fX9+f4GAfX6BgX+Bgn9/gYB+gYSBf4F+e36CgYGEgXp6fX19gH99fX+BgYKCgoGCgoKDgX5+f35+fnt6fXt7foJ/f4SDgoSEgIGEgYCDg318gH16gIJ7eX5+eX2BfnuChYOCh4Z/foOFgH6Bf3h4f315fH97eoKFg4OGhYGChoaAfn98ent8enp8fX1/gX9/f4OGiImGgH6Afnx/gHl4fXt5f4J9foaGhIeGgX6Agn5/gX53eX15eX+BfoGFg4KEg4GCg4KBgIB9ent7e32Bgn+BgX5/goF/gIB/gYKCgX9/gH+Bgn99fXx5e359foKDgYGEg4GCg4J/gIN/e35+en2EgX2BgHt8gYF+f399f4OFgoCBgH6AhIJ8fX17fYGAgIB9en6DgoCAg4OAgYJ+en1/f4CEg39+gH9/g4N+fX9+enp9fXyAgoCAgoSAgYWEgYOEgHx+fXh7fn5/f319foGCgoOCgYCBgoKBgH9+f4CBfnx7fH19f4GBf31/fn6ChYOBg4OAgICAfX6AgH+Bgnx3eoCAf4WHgHx+fn2Ag4F/f4F/f4CBfn+BgoCBgXx6fn57f4J+foODfn+Cg4GBg4J9fYKAe3+DfXqAgX1+gn99goWBfH5/e3uDhYCAg357gIOAgYSCfX9/e3p+gH19gYF/g4WCgIOEfn6Bf3t9f3x5e35+gYSDf35/f4KGh4B+fnt7goR+foF/en6Bf35/gX58f4GBhYmDfHx7eYGLiYJ8dW5veYaHhYSEgoCBgIKGhYGBg399gHpvbXV8gIiRjoF8fHt8h4+MhH11cXiJiH52bmZsgIyUmJJ+cnZ/homMi4V7e4R/dGxoaHKDjpSSiXx0dn6IkpaNgHp9gHhxbWloc4aSko6Iem92iJGUlY18dHmAenRwZ2Z0iZKVkol1bHuJjZKUhnh2fn1xbmZhZ4KZoZ+UfWhyg4+RlYp4dH59b2xiWmWHn6SglHtocIKRlpWKeXmDd2RgW1ltkaWpoIxwY2+ElJiXjHx7gnRiW1tkfJqqqJZ5YmZ7kJiWkYN6fXxtXlRVaYyosaSKb2Vxg5Obl4qAg39sWFBSYoSmtqqPcWNtgI+WmZOKgXVoWE5VcI+nsaKFbGVqfpWdmJCPfWZYUlVniqSro5R6ZGV7jpOWk4yCcWBPUmR/mKurl3tpanaJlZSLiot5ZVpTVm+RqK6mjGxjcoOMkJOLiIFwXVJUZICftbSaeGZqc4ORlZCPh21bUE5cf6Cysp+AZGZ1ho+WmZOEbFhMUGOCnK6umH1oZ3SHk5mXkYRsVk1VZ4agq6WTemltfY6RkY+MgGxgVFNkhpulp5h7aHGAjJCUkYuBcGJSU2V/laurk3dpanSJmZuWjntlV1lkc4qgp5iIdWNnf5KVl5WBa2NhY22Ck5iZloFvb32Gh4+RhHVsYVpnfo6ao5qDcHJ7hY+SjYN8b2JeZW17kJ+ek4d0a3iOlZCOiXhnZGNjbYCNlJmVhnVyfImTlZCJfm9jYGZueouXlYyFeW90h5OTkop3amttbneCh4qLioJ6fIGFh4mFf315c3F1dnqGj42HgXt3f4yPiIJ/eXFzdnR0fYaJjo+FeXV3foqVjntydHV2en15eYSNjYqIfXJ6iY2JhXtvc319eHl6eHyJkY2FgHl1gZCSh352c3Z8enRydnuDjY6GgX14eoeUlo6AdnJ0d3p7enl8foGBgX+AhIiKiomGgX15dnd5ent8fHp8f4GDgoOHi4mFg4OBf315dXV4fICAgIF/foGGhIKFhoB/gYF9gIJ7dHZ7fn+BgX98gIOBfIGDgoKJhXx9goKCg396eH2Bf35/fHd8g4KAg4SAhIiBfYCAfYCGg3p1dnh6gYaCfICCfX+Ih4CBhH9+goN+foB9fICBe3p9gH6DhoJ8gISAf4GAent8fHuAhYJ/goF+f4KCf4GCgH+Bf3t8f31+gYF/f4KCgIGEgX1/gX9/gn56fH17fYGAfoCBgYGCg399f4F+f4SBfX+AfH6EhYCBg4B9gH97e35+fX+BgH2Ag4B/goOAf4KCfn6BgHx8f35+gIB+f4GBgIGCgH6AgYCAf357fX+BgoSDf4CBf36Agn58fX16e36Af4GDgoGCgoKChYWBgH96en5/fX5+fXx9gIB/gIGCgoSGgn+AgX5+gYB7e39/fH2BgX5+gYF/gYSCfoCFgn2Ag3x3foF8foOCfH6DgX+CgX9/goF8fIB/e3+DgHt/g3+Ah4iBfoB+fH+Cf3x+f3t7f4B8gIWDgIKDfHyAgH+ChYF/gYF+fYF/fH6Bfn2BgX19goKAgYN/fYCCgICDgH19f359f317fYCAgIKBfn+Ag4KBgYB9foCAgICBgYGBf36Afn1/f3x8fn1+gYKBgICAgIGDgoB/gX56fYKBfoGCfXuAgH5/gYB/gYJ/fYCBgIGFgXp8gH59g4R8fIKBfX+Cfnt+gYGAgoJ+fH5/gIGEgn1+f35+gYKBgYOBf3+Af3x/fnp8gH58gIOBgYOCgIGEgX+Bf319fX9+fHx9fn9/gYGBgoODgYCAgICBgX9+gH57fIF+e4GEf36Dg359g4J+fYB/en2CgHuAhoB+hYR8fYOBfoGDfn2Af3x6fn98f4KAfoOHgoGFgXx/gH59gX56e35/fYCDgYCDhX17gIJ9gIaCfX+Be3p/gH1+hISAgIJ+en6Cfn+Eg32Ag397foB+foGAfH2BgH2Ag4KAgYB/f3+AgH9+fn5+gYGAgIB/gYKBgX9/gYF/gIF9enx+fX+BgX9/gYB/gIB+foGDgX+BgHp8goF9f4J/f4ODf3+Af3+AgYF9fX9+fH+Cfn+EgX2AhIB+gYJ/fYGAfHt+f35/gYB/gYOBgYODgYGCgH59fX5+foCAfXx+fXx/g4KChIOAgoOBgIF/fHx+fXt9f35+f4F/gIGDg4ODgYB+fn59fX9+fX9/f4CCgYB/gIOBf4GBe3uBgHx/hYF9goR9e3+Af36AgHx9goB8gIR/foSFfn6Cf3p8gn98gYJ/fX+AfX+EgX2Bg35+g4F8foF+fICBfXyAgH+Ag4N+foOAfYGEfXuBgHt9gX18gYSBf4ODf36Cf3yAgn17gYB8fYJ+fICEgYGFgnx9gH9+gIF+foCAfn9/f36AgYCAgH+AgIF/f4KBf3+Af3+Afn+AgIB+fn5+gIKAf39/fn1/gYCAgYB/gIKAf4GBfnx+fnx9gYF+goWCgYOBfnx+fnx+f358f4B+f4KDgIGFg4CAgX17fn98fIB/foCCgH+BgX+AgoKAf4B+fYCBgYB/f359fX9+fH1/foCDg4GDg4CBg4GAgYB+fHt9fXx+gX99f399f4GDg4OEhIB/g4J9foJ9d36Be3uAf3x9gYKAgoaDf4GDf36Dgn1/g356fn96fIB+fH+BgH6BhIOBhIV/f4J+en6BfHt/fnt9gH5+goWDgoSCfn+BfnyAgHx9gIB+gIB+f4KDgoCBgH99fn5+fn9/gX99gIF+foKCgICAf3+AgYF/gIB/f4B/fHx+fH2BgX+Bgn5+goKBgIKBf3+CgHt8fnt8gYJ/f4F/foGDgYCBgH5/gYB9foF/foCAfn9/fn5/f39/f4GBgYKCgICBgH9/goF8fYB+fH6Bfn2Cgn1+hIF8f4J/f4KCgH5/fn5+f4CAf3+BgoKBgYGBgH9/fX5/fX6AfHp/gHyBhoJ+goN/foKCfn6BgHx8gX98f4N+fYODfH6Egn2BhX97f4J9foODfn6Afnt/gX17gYJ7fISDfoKHgn+Cgn19gYF+fn9+fH6AfH2BgX6BhIGBhIJ+f4F+fH5/fHt+gICAgYB+fn+AgoKBgoKAgIF/fn5/fn1+f319gYB+gIOAf4OCfoCDgH2AgX58f358e35+foCCgX+Dg3+AhYKAgYN/foGAfHt/fnt+gH5+gIB9f4OBgYKDgYB/fn6BgYB+fX19fH5/f4CCgoGCgYKDg4F+fXx9fn6AgH9/f3+AgYB/f39/gH9+f399fn9/gIODgoGCgoF/f39/gIB+f356e399fIKEgICCgX+AgH+AgYGCgn99fXt7fH6AgIGDgn+AgH5/goGAgIF/f4F/foCAfX6Af35+f399foGCgIGCgX+BgoF+f399foCAf4CBf3+Bgn5+gH18gIF/gIKAfn+AgYGCgn9+f4B/gYOAfn59e3t+fn+AgIGBgIGCgX+BgYCAgH5+fn19f39/gH9+gIGBgIB/gIGBgoKBgYF/f399fX18fH5/fn6AgICBgoKCgoKAfn5+fX6Afn6BgoGCgX9+f4GCgH1+fXt8f4B/gIB+foGBgoOEg4GAf318fXx8fYGCgYB+fX2AgYGCg4F/f4GBgH9/f31/gICAgH9/f35+foCAfn5+fX6Bg4OCgoGAgH9+fn+Af3+Af35/f39/gIGCgoGAf39+fX1/f39/f39/gIB/gICBgYB9fn+Af35+f4CAf4GBgYGBgYGAgYF/fH6BgYB+fn5/fn1+foGBf39/f39/gH+Ag4OAf4CBg4KAfX1+f35+f4B/fn59foKDgoCAgoSEgn9/gIB/fHt8fXx6e3yAgoGAgYOGhYJ/gIKDgoB9foGAfXp6fYB/fH1/gYKAfX6ChIOAfoCEg398fYGCgHx6e36BgH5/hIaCfXp8gYOAfX2BhYWAfn6AgoB8e36BgX57e4CDgXx7gIWEf3x8f4ODgH6BhYWCfXt/goF8eXyAgH58e36DhIF+gIOGhYF/gIKBfnx8fn99e3l7fX9/fX6BhIaEgoKDhIOCgICAf39+fX19fnx6e31+gIGBgICAgYODgoGBgoB+fX1+f4B/fn6BgX9+f4CBgoB+f4KDgX9+f4CAgH59gIJ/fn1+fn59fH2BgoB8fYCDhIKAf4OFg4B/gIB/fXt7foGAfXx/goKAfX2AgoKAfoCCgn99foCBgHx7f4KDgH18gIKBgH+BhYSBfX6AgoF9e3x/f3x5e3+Cg4B+f4OFg4CBg4SBfnt7f4F+e3p8fn58fH+EiIWCgYOFhYN/foCBfXl5e319enl8goSCgICEh4WCf3+Cg4B+fn+Af317fH5/fXx+gYSDgH5/goOBf3+BgoGAfn5/f317e36BgX5+f4KDgX9+goSDgH5+gIB9enyAhIN/fH2ChYSAfn+BgX57e36Bf3x8f4KDgX9/goKAfXx/g4SBfn1/goJ/fX2AgH57fH+DhIF+f4GDgX9+gIKCf35+f4CAfX1+gIB/fX5/gYGAfn1+f4CBgoWGhIB8e3x+gIGCgHx5eHp+goWFhIKAgYKDgX17fH+BgoB+fH19fn+AgICBgYF/fX+DhYN/e3l4eX6EiYiDfXp7f4OEhYWCf3x4eYCHh394dnZ4e36Ch4iGgHl3fIOIioqJhX54dHiEjYd6cGxtc3yDi4+Nh352eYOLjpCNhn1ya2x4iIyCdGtnbHmEjpWVjYN8eX6GjY6LhX11b3N/hIB5cGdodoKMkpKMg317f4aOk5CHfHNwd4B/eHNubHB5goyRj4iAfH+GjJCRjIJ4b3N+g353b2hsdYCJjoyIgXt8goqQkY2FenJ1goN8dHBtcHqCio6Mg3t3fIeNj42IfnZxeYOBe3RtaHSCjZSSh3x5eoKIi4yLg3h0fIF7dGxoa3uKk5aRiX13eIGMko+IfnJyfHtxa2lsdoSNkpGNhX98f4iRkIiAfHx5cGhma3WCi46OjIR9eXqAipKQhn98fXhxbW5yeYGIjY2HgXt3fIiSkYqBenh6enJub3N6g42Tk4t/dnaAjJGMhHx1dHp3b2xsbneJlp2bjnxxdoONj4qBend6eXBraWtzgpGbnZSDdnF6h42LhYB8f3puZmlveYiTmpeNfHFudYWQkYiAeXx5cWlnbHiJlp+dk4N0bXWGkpGHe3N3eXBmYWVwhJagoJeHeHF4h5OVjX90dnlzaGBhan+SnZyRgXRweIiWmpWJfHx8dWtkYWd6jZmXinpxbXWFlJiTi4OAeXBqaGp0hpWclYd4cW93hI6QioR9eXFsamxzf42XmpGEd3FzgI2SjoZ/fHlwaWZnb36MlZaRhXp2eoeSlZCHf3t4b2hlZ258iZGRi4J7eX2IkZOPh4B8dW9sbG93g4yQjYZ+eXh8hIqOjIiAd29tcHR6gIWJjIqEf3t7f4WKi4qFfnVxcXR5fYGBgoSEgHx9goaIh4aCgIGAfHp5eXt9f4GDg4F+e3p9hIqMiIN7dnV3e31+fn2AhYiHg4B9fX+Dh4eDf3l1dXp+f39+f4CCgoGCg4KAgoiLh4N9enp7end1dHd8gYOEg4OCgoeKi4iDgH19fn16eHh4en1+fn1+goODgoGFiIeGgoB+gIKAe3d2eHt9foCCg4KCgH9/gIKCgoGAgYCAf318e36Bg4WFgn58fH1+fn1+f4B/fn2Ag4eHhIB8fX5/gH58fHt8fX5/gIGBg4WFhIKAgIGCgX56d3l8gIGAfn+AgoGAgICBgH9/f4CCgX9+f39/fXp6fH+AgYGCgYKBgYKFhoWAfX1+fnx6enx+f399fX+Af3+BhIaFg4B/gIGAfXx9foB+fH1/gIGAgIGBgYB/fn+BgH59fX+BgH+AgYGCgYGAf39+fX1+f4B/f4CBg4OBgH+AgH9+fn5/f4B/gIGAf35+f4F/fn1+f4CBgICAgICAgIGCg4KBgYCBgYB+fX19fn19fH5+fn+AgYKCgoGCgYKCgYB/gH5+fXx9fX59fn19f4GEhYWEgn9+fn+AgX9+fX19fn9/gYODgYB9fHx+f4CAgH9/gIGCg4SDgH59fX5+fn19fX1+f4GCg4OCgH9/gH+AgYCAf35+fn+BgoKAfn5+f4CBgYB/f399fX1/fn+AgIGAfn+Bg4ODgoGBgIB/fXx9f3+AgICAf35+foCAgIB/fn5+f4CBgoKBgH+AgH9+fn19fn9/f4CAgIGBgYGBgH+AgIGBgH+AgIB/fXx8fH1+fn5+fX6BgoOEhIODgoGAgH9/fn1+fXx9fn5+gIB/f39/gIKDg4KAgIGAgH9+fn5+fn59fX19foCChISEhIOBgH9+fn5+fn18fn5+fn6AgYKCgYKCgYCAf359fn59fX5+fn+AgoODhIWEgoB/fn59fH18fH1/gIB+fn+BgoKCgoOCgX99fX5/f39+fn19fX5+gICAgIGCgYGChISEg4F+fHt6enp8fX1/gICAgYOEhISDgX9+fX1+fn5+fn5/f3+AgICBgoGBgYGCgH99fX+AgX9/fn5+fn+AgoKBgH18fH5/gIGBgH9/gIGBgoKBgH9+gIB+fn9/f39/fn9/f39+fn+BgH+AgYKCgYCAgYGBf319fX18gIB9fn1+foCDgoKBgoF/gH9+f3+AgIGAf39+gIGAf39+fX1+gIGBgYGAfn1+f39/gYGBgIB/fn5/f4CAfn5+f4CAgICAf3+BgoGBgH9+fX6AgIB/fn9/gH9+fn6AgIB/gIKBgICCg4GAf31+f359fn5+fn5/f3+BgoKCgoB/f39/f4CAf39/f3+AgH9/gH9+fX6Af3+AgYGCgoKCgYCAfn19fX5+fX1+fn+BgoOCgoB+gICAgYKBfn19fX19fn+AgYCAgYB/gIGCgoGAgH58fH5+f39+f4CAgIGBgYGCgoB/f359fH1/gIGBgH9/gICAgIGBgYCAgH+AgH9+fn5/f35+f39/gYKBf35/fn5/gYKDg4KBf39+fX1+f3+Af35+f3+AgYGBgoGAf3+AgYGBgH9/fn19fn+AgIGBgIB+fXx+f4CBgIGAgICAgIKCgYKBfXx8fHx+gYKAf39+foCBgYGCg4KAfn5+fn9/gIB+fn19fX2AgYGBgYCAgYGBgIGCgYB/fnx8fHx9fn+AgH+AgoKDg4SDgoB/fn59fX19fX5+fn5/f4CCg4OBgYGBgH9/gH9/f399fX18fH6Bg4ODgoKBgYKCgYCAfn17e3t7fH5/f4CBgoKBg4WEg4KBf318fHt7fX5/fn5/gIGCgoOCg4ODgoGAfn19fn59fHx8fH1+f4CCg4SEhIOCgYCBgX9+fXx8fHx9fX1+f4CAgYKCgoOEg4GAgH9+f3+Af35+fXx8fX5/f4GCgYGCg4ODg4OBf35+fXx8fHx9fn+Af3+AgYGBgoODgoODgYB/fnt7fH19fX5/fn+AgICCg4SDgoGAf3+AgoKAf318e3t8fH1/f4CAgYGCgoOEg4B/f39/f39+fX1+fn9+f4CAgIGDg4F/fX1+f4CBgIGBgICAgYKBgIB/fnx7ent8fX5+f3+BhIWGhoWDg4SBf359e3p7e3p6enx+gYKEhYSEhIWEgoKBgH58e3p5enp7e35+f4CBg4SFhoaFg4KAf39+fnt6ent8fX6AgoGBgYKCg4OCgH9+fn1+f39+fn+BgYCAgIB/f39/f4GBgH9/fn19f4GBgYB/f4CAgYKBgH9/f39/fn19fX19foCCg4OCgYGBgoKCgYB+fHx8fX5+fX19fX1/gIGCg4SEg4ODgoGAf359fXx7e3t7fH2AgoSEg4KBgYODg4F/fXx7ent9fn+AgICAgYKEhIKBf318fH6AgoKBf35+fn9/f35+f39/gIB/gIGCg4SDgYB/fX19fX18fH1/f3+AgYGBgYKDhISCgYB/fn19fX19fH1+fn6AgICBgoODgoGAgYGAgIB+fXx7e3x9fn+AgYKBgIGBgoOFhYSBf317e319fXx8fH1/gICBgoOEhYSCgH9/gIF/fHp8fX5+fn5+gIGCg4KCgoKBgIB+fn1+fX19fX6AgIGDg4KBgH+AgYGAgH9+fXt7fX5/gISEg4KCgoGAgYF/fXx7fHx8fH19gIKEhYSDgYGCgoKBgH99fHx7fHx7fH5/gYKEhIOCgoKBgIB/f35+fXx9fX6AgYGAgICAf4GAgICAf35/f39/gYGBgYCBgYCAfn19fn+BgH9+fXx+goWEg4GAgH+Af39+fn59fX5+foCBgoKCgYB/gICBgYF/f359fH19fX6BgoKBgICAgIGBgX+Af35/fn19fHx/goOBgH9/gICBgYGCgoKBf318e3t8fn9/f3+AgIGDg4SEhIKAf318fHx9fX5+fn19gIGCg4ODgoGAgICAf39/fn18fH19fX5/f4KEhIOCgYCAgICBf318e3p7fYGCg4ODg4GAf359foCAgH9/fn1+fn+AgIKCgYGBgX9+fn5+f4CBgoF/fn1+gIGBgH9+f39/gIKCg4KCgYB/fn18fHx8fX1/f4CAgYSEg4GBgYGAfn1+foCBgH58enl9gIODgoB/f4GDhIOCgH+Ag4N+eHNzdnuChYWEgoJ/f4CDhoaEgn9+fYGEgXt1cW92f4iNjYR7dnh+hImMi4Z+eXeAiYZ9dnFtcnuBh4yIfXd4fYSLkJCMg3lzeoeGfnVuaW55g4uPioF5eH2Gi4+Pi4F5c3mFhH10b2tyfIWOkIl+eXh+homLjIZ8d3uFhH50bGhwgIuUkol7dXmAh4uKiIN6d3+BeXFsanGCjZWWjn1zdXyGjY+Lg3lze4B6cWtobH6NmJqRf3J0foiOko+HfXZ8fHNnYGJsgZKcmo15cnuHj5KTjIJ5e4F4al1aYHWOnqWZgnByfoqQk5GIfnmBe21eWF1uip6nn4lwbHeEj5KTjIJ7gXxrW1RYbI2irqeQc2x2go2Rk42Ben5zYVRRWHGTqbKmjHFrd4iUl5eNf3t8a1hMTVt8n7O0noBoaXqPmpmShX17dGNVUVVrkKu2qY1sYW2DlZuWiX58e29gVFNggqO1tZ17ZGV0h5KVkIaBfnFeTkxZeJ62u6iEZWFzh5WalYl/fXNfT0lRb5a0vq6NbGFtg5OZlouCgHZhT0hPbJGwvrCQbWFrf4+YmI+EgXdkU0pPaI+uvLKSbV9qf4+ZmY+EgXhmUklMZY6vvbGQbF9rgJOdnJGHgnRgTkVMZ5CvvK6NbGJuhJacmY+HhHdiUEpQbJKvuKmGZV1rgZOcmY+Ig3dkVFBXcpWvtqeEZF1sgpKZlouEgHdmVlBWcZWxuaeEZF1tg5ScmIyCgXdkUkxUb5WxuaiFZWBvg5Sal4yHhHZhUU5Wc5awt6SEZV1rgZSbmIuFfnBfVFZhfpqwsqCBZmBuhpealYiAdWdcVVhlgp6wr5yAZ2VziJaXkYiDeGxeWFxrhpyppJB3Zmh3ipSWkImFeGpfXWJyipyknox3amx6ipKRjIeBc2ZgYWl5jJuhmot4b3OAjpOQh4J5bGNgZG5+jJaZk4d8d3uEjJCPioN4bGVmbHaAiI2QjYd/eHZ9h42PjYV3bWttdH2DhYeHh4WDgH19goiKhYB6dHJzdXl+gYSGiIeCgYOEhIaJh4J8eHVyc3R3fH+Bg4aGhYWCgoaIiIaFgHhycHF1fIGDg4OCgoGCg4SEhoiEgX5+fXp3dnd6foKDgoCAgH9/gYWGhYN/fH2Bgn55d3h8gIOEgoB/gICCg4OEhIKAfn18f4F+enZ3e4CBgH5+f4GDhYOBg4aHhIB9e3yAhIJ9d3V3fIGDg4B+gIOEhYOBgIGBgIB+fXx9f4GAfHh3e4CEhoSBf36AgoODgoB/gICAf35/foCAgoB8eHd6f4OEgoB+fn6BhISEgYF/fn5/f359fX1/f359fn+DhIOBf3+AgYGAf35+f4CAf3+AgIGBgX99fH1/gIB+fXx+gIGAgYCAgIGBgYKDgoKAf39+f4CBgIB/fn18fH1+fXx9foCBgoSFhYOCgoKBgH58e3t6e3p7fH5/gIGDhIWHh4WDg4GAf359fHt6eXl6fH6AgIGDhIOCgoGBgICAgICAfn5+fn+AgICBgIB/f319f4CAgYGAgIF/gIGAf4B/f4B+fX5+foCAgIKBgICAf35+f4CBgYCAfn5/foCCgYB/fX6AgYKCgH+AgYOCgH58fH19f39+fn5+gYKCg4KCg4KAf35+fHx+fX1+fX5/f4KCgYOCgYKBgYCAf35/gH9+fn1+f35+fn5/f3+AgYCAf3+BgYKCgoKCgX9+fHx8fX9/gH9+gIB+fn+Bg4ODgoGAf4CBgYKAfn18fH99fX9+f39/gYGBgYCBgYGBf35/f36Af4CAf4GBgoKBgX98fHx9fn1+f3+BgoGDgYCBgYOEgX98enx9f4F/fn58fn9/goKBgX+AgYGCgoKCgYGBfX59fH59fH17fH5+goOCg4KBgoKBgX5/f36AgH9/fX6AgIGCgYB/f39+fXx6fX5/goODhIKBgICBgYGBf318e3x+fX5/gYKCgIGBgYGAgYGBgYB+fn1+fn1+f4CBgIB/f359f4CCgYB/gICBgoKBf359f4CCgYB/fX5/f4GAf359foCAgIB/gICAgYGAgH5+f4CBgoGAfnx8fH6AgYKDgoF/fn1+gIKBgH9/f35+fn+AgICAgIGBgH9+fn9/f39+fn18fX+Ag4SDgoCAf4CBgoKAf319fX18fX19fn+AgoOCgoCAgYGDg4F/fXx9fX59fX19foCAf4CAgoWEg4KBgIB/gIB+fHt8foCBgH5+f4GCgYB/fXx8foCBgYCAgYGBgYGBgYGBgIB/fnx7e31+fn5+f4CBg4ODhIKAgYGAgH9+fn5+fn19fHx+foCBgYKCgoKCgoOCgYGAfn19fn5+fHx9fn+AgYCAgYKCgoKBf359fn5/gH9/fn+AgoKCgYB/gH9+fX19fX5+f39/gIGDhIWEgoGAf39/fn59e3p7fH1/f3+AgoOEg4KBgoGCgH9/fXt7fX6AgYGAf35+gIOBgoGAf39+fn9/f3+AgYB/f4CAgIGBf35+fn9/f39/f35+f4CAgICAgYKDg4KBfn19fn5+fn19fn+BgoF/fn1/goSDgn99fHx8fn9/gICBgYGBgYCBgoKCgX99fHx9fn5/fn1/gIKCgYGAgYODg4F/fXx7fH19fn5+fn+AgYODg4GAgICBgYGAgIB/f39+fn19fX59fn9/f4CAgYCBgIGCgoKCgYGAf35+f39+fXx7e3x+f4GBgYKCgoODgoGAgYKCgoF+fXt7fH19fn18fXx+gIKCg4KCg4SEhIKAfn5+fn19fXx9fH1+fn+AgYOEhIOCgYGBgYF/fX19fn59fX19fX+AgYCAgH+AgYKDgoKAgH9/f39/gICAgIB/fn5/f39/f319fX5/f4CAgIGCgoKCgoGAgICAgH9+fn5+fX18fX6AgYGBgH9+f4CAgYKCgoKBgIB/f39+fX18e3t8f4CBgYGBgYKDg4OCg4GAf35+fX19fX18fH19fn+AgYGBgoODg4OBgYCBgYB/fn19fH1+fn59fX5/gIGCgoKCgYKCgoKBf359fX1+fn5+fX5+f3+AgYGBgoGBgYCBgYB/f35/f3+AgH59fX1+f4GBgYB/f3+BgoKCgoKBf359fHx9fX+Af39/f4CBgYGCgoKCgYF/fn5+fX19fHx+f4CCgoGBgYGBgX9/f35/f35+fn+BgYB/fn5+f4CBgoKBgICAgYGBgH9+fn5+fn5/f39/f3+AgIGBgX9/f3+BgYGBgX9+fn5/gICAfn1+f4CBgYCAgIB/f39/gICAf39+f39/f3+AgIGAgH9/f39/f39+fn+AgIGBgIGAgIGBgICAf3+Af319fn+AgICAfn6AgYGBgIB/f3+AgICAgH5+f39/f39/f35/f4CAgYKDgoKBgH9+f4B/f39+fn59fn+AgICAgICAgICAf4B/gICAgYGBf359fn+AgYB/f4CBgICAgICBgICAf35+f4CAgYKBf35+f39/f359fH1/gIGBgICBgYGAf39/gICAgH+AgYKBgoGAf359fX1+f39+fX1+gIKDg4OCgYKBgYB/fnx8fH1/gICAf4CBgYGBgICBgoKAf35+f39/f359fX19fn+BgoGBgYGCg4OBgYGBgH99e3l6e35/f4CAgICCg4SEg4KBgH9/f359fX19fn5/gICAf3+AgIGBgX9+fn5+fn9/gIGBgIB/gIGBgYCAgICAf359fX5+f4CBgYGBgIB/f4CAgIB/fn59fX5/f39+fX5/gYKDg4SCgoKCgIB+fn18fX1+fX19f3+AgYKBgYKBgoGAf39/f39/fn19fX1+gIKCg4KBgoGBf35+fX5+fn5+fn5/gYGCgoKCgH9/gH9+fXx9fX+AgH9+foCBgoSDgoGAgICAgH9+fX18fHx8fH5/gYSEhIOCgoKCgoF/fHt6e3x9fX1+f4GCg4OCgYGCg4OCgH18fHx+f4B+fn5/gICBgYCAgIGBgICAgH+AgIF/fnx8fX6AgIGAgICBgoKCgICAf319fX1+f4B/f4CBgYGBgoGBgH9+fXx9fn5+f4CBgYKCg4OCgYB/fX18fHx9fX6AgYODgoKCgH9/gICAf39+fn5+fn9/f39/gH9/f4CBgoGBgICAgIKBgYGCgYB+fXx9fX59fHx9foCCg4ODgoGBgICAgH9+fX1+f39/gH9/gIGCgoKBf35+fX1+f39/f4GBgYCAf4CBgYB+fn5/f4CAgH9/gIGBgYGAf39/f3+AgICAgIGBgYB+fX1+f39+fn5/gIGBgYCBgoODgoGAf3x7enp7fH5/gICAgYKEhYWEg4KAf39+fX18fHx9fn9/f3+AgICBgoGBgYGBgH+Af39+fn5+fn+Af35/gICBgoKCgYCAgIGAgH59fX1+fn9/f39/gIGBgH5+foCAgIB/gICAgYKCgYF/fn5+fn5+fn59fn+AgIGCg4ODgoGAfn1+fn5+fn18fHx9f4GDg4KBgYCAgICAgIGBgYB/f39+fn5+fn5+fn+AgYGAgH+AgYKBgH9+fn5/f4CBgYGAf35+fn9/gICAgH9/fn5/gIKDg4OCgYCAf399fX18e3t7fH2AgoODg4SEhISCgICAgH9+e3h4enx8fX6AgoSEhYaEgoGAgH9/f35+fX18fX5/f4CAgH99fX6AgoODg4F/fn5+f3+BgYB/f319fn+AgYKBgH+AgICAf4CAf39/f39/gICAgICAf35+fn5/f359fX1+gIKDg4ODg4KDgoB+fn5/fn18fHx9f4CAf39/gICAgYGBgoKBgYCAf35+f35+fX18fH1+gIGCgoKDg4SDgoKCg4J/fHt6e3x9fX19fX1+f4GDhIWFg4GAgYGCgoB+fHt7e3x9fn5+fX6AgYOEhYaGhYOCgH9+fXx7ent6ent8fn+AgYKCgoOEhISFg4KBgH9+fX18fXx8fH1+fn5/gIGCgoGCg4SEgoGAf35+fXt6ent8fX9/gIGDg4KDg4KDgoGAgH9+fn59fX18fX1+f4GCgoGAf35/goKCgH9/f4CAgYF/fn1+fn9/fn19fX1/gYGDg4KDg4KCgoF+fXx7fHx9f4CAf359fn+BgoODgX9/f4CBgoGBf39+fn5+fXx8fX1+f4CBgoSFhYWEhIKBf317enl5eXp7fH6AgoSEhIWEhISDgYB/fXt7fHx+f39/gYGAgICAgIGBgYB+fn6Ag4SDgoB/f359fHx8fX18fH5/gYKEhIOBgICAgIKCgoGAgH+AgIB+fXt7e3x8fHx9fX+BgoOEhoaGhYSDgoF+fHt5eHl5enx+f4CAgYKDhISEhIOBgYGBgYCAgH57enl6e31/gH99fYCBgoODg4OEhIWDgoGAgH9+fHp4d3h6fX5/f4CChYeGhIKBgoKCgoF+fH18fHx7ent8fX5/f4CAgYKEhYWFhIGAgICBgX57fHx8fHx7fH1+gIGBgYGDg4SDgX9/gIGAf319fX9/gIF/fn59foCBgIB+fn1+gIGCg4ODgoGCgYB/fnx7ent8f4GAf3+AgYGDg4OCgH59fn1+gIGBgH9/f39/gIGAf39+fX6AgoOCf35/gYKBgYB+fX19fX1+gIGBgYKCgYB/f35+fX9/fn5+f4CAgYOEhISBf318f4OEgn98e3x+f39/fXx8fX6AgYB/f3+Bg4WGhoKAf4CAgH9+fXp3eHp8fX+BgoODg4SDg4SFhYSBfXp3eHp+gIB9fX59enh6gIaHhYWGhYSDgoKCgoKDgHt1c3R2e4CDhYSBfXl5fYSIioqJhX96eXt/g4iGfXVxcHJ6gYaJiYR+e3p/hoqNjYqEfXh4en2Fh35zbWxtdX+HjYyGgoCBg4iLi4qFf3l1dXuFhHpzb25xe4SMkZCJf3t8gYiMjYqCd29scH2KiH90bmx0gYyUlY+FfHd4f4eLjImBd29tc4OMhnx0bm13g4ySkouBeXd6gouPjIV7cWxwgIqEe3NubHaDj5WUjYN7eHuCio6NhXpwbHOChH52cGxveoWPlZSMgnp5f4mPj4qBdm1wfYJ9dnJtb3mCjZKRi4V8eH+HjY2LgnpzdHt5dXFyc3uDiY6OioSAe3uDio6Jgnp0dX5/eXV0dHiBiI2NiYF8eHd/io2KhXx2eYB9eXZ0dnyDiIuJhoF/fX2EioqDfXd4fHx3c3FyeoOLkJCJgn58fYKKjId/eXV6e3hzcnF1f4eNj4uDfXp8hpGVjoV7dnh+e3JtaWpzgouPjoZ+eXyGkZaSioJ5eH15cWppbHWEjZGOhXx2e4aQlY+Fe3Z6gHpwaWhreoyXmpKDdm5yf4+Wk4l+eXt4cWtqbXSDkJeUiHtzcn2MlpaMgXl8fHNpZWdufYyWloyAeHV6iZSXj4Z7ent0bGZna3mIk5aPg3l2eYWSmJSIfXl6c2plaG15iJOXkYZ7dneDjpWSiX55fHRsZWdue4mRlY6Cd3J0g5Kal4yAen14b2poa3WEj5SOhHlycX2MlZSLgn2Ae3VubG93g42Uj4V6cnB4h5GTioF6fHt1b2tvdoKNlZSNhHt2eIOMj4l/d3Z5dW5pbXN/i5SXkYd9eXmDjpOPhXt2dnFram50fYWKjImDf4CAhIqPkIqFgHx2cXBzdnp9f4CAf39/foCGi4yJh4SBend2dnp8f3+BgoKCf32AhomIg398fn16dnV3fIKFhYSDgoODgoOEhIJ+fn99eHR0d32BgoKBgYKEhIKCgoWHhoKAgH98enp6e3t7e3x8fX5/f4CDhoiHhIKCgoKCf318e3x8fXt7e3x/goSDgH6AgoSDgYGCg4F/fHx9f4B/fXx9fn59fHt8f4OEg4KBgoSIiIN9enp8gIB/fHx8fX5+fXyAg4WFg4GAgIGDhoR+dnR2fIGDgoF/fn9/gYKBgYOEg4B+e3t8f4OGgnx4eHuAhYWDf39/gIGCg4OCf3x7e3x9fn9/f35+fX+Ag4WGhIOBgYGAf399e3t8fHx9f3+AgYKCgoOEg4F/fXt8fn9/f39+fn6AgIGBgoKCgoB/fn5+f3+AgH9+fX5/f3+AgIGDg4KCgX9/fn9/f359fXx8e3x9f4GDhISDg4ODgoGAfn19fHx8fX5+f4CBgoKBgIB/f39/f4CAf4CBgICAgYCAf4CAfn18fX19fn5+f4GCg4SEg4KBgYB/fn5+fn18fHx8fH6AgYKCg4GAgIGDhIODgYB+fn1+fn58fH19fn6AgYKDg4KBgICAf4CAgH9/fn5+fX5/gIGAgICAgIGBgYB/f35+fX1+f4CBgoODg4GBgYF/fn58enl6e31+f4CCg4SEhIWEg4GAgH99fHt7e3x8fH1+f4KEhYWEg4GBgH+AgH99fHx8fX5+fn6AgYGBgYGBgYGBgIB/foCBgYB+fXt8fX5/gIGBgoGBgYKCgoGAf359fHx8fX+AgYGBgYKCgoKBgH9+fX19fX5+fn5+f4CBgoODgoGAgIGBgoB+fXt6e31+f4CAgICAgYKCgYCAgIGBgX9/fXx8fH1+gICAgIKDg4OCgYCAf359fX5/gH5+fH1/gYSFhYSDgoB+fXt7e3t8fX19foCCg4SEhIODgoKBgH99fX18fX59fX59fX5/gIGCg4ODgoGBgYKDgX99fHp6e3x+f4CAgIGBgYKBgYKCgYCAgICAf318fH1+f4CBgIB/fn5/f4CBgoF/fn1+f4CBgoKBgYB/gH9/gIB+fXx9fn+AgH9/f3+BgoKCgYCAgICBgYGAgH58e3p7fH6AgIGAgYKDg4ODgoF/f35+fn5+fX5/gICBgICAgH9/f3+AgYCAgH9/fn9/f3+AgYCAgICAf4CBgoKAfnt5eXx/gYGCgoB/gIKDhISFhIKBf357eXh4eXt8fn5/gYKDhIWHh4aFgoB+fHt6ent7fX19foCAgYKDg4ODgoKBgYB+fX1+fn5+fX1+f4CBgYGAf39/f35/fn+AgYGAgH+AgYGBgoKBgH59fX18fX19fn9+f3+AgoSEhISCgYB/f39/gH59fHx+f3+Af35+fn+AgYKDgYF/gICBgoKBf318fH6AgYGAf35/f39/f39/gIB/gICAgYGBgX9+fn9+f4CAgIB/f4CAf39+fn5+f4CBgYKCgoGBgYGAf35+fX19fX5/f4CAf39/gIGCgoGBgYB/f35+fn9/f39/gICAgIB/gIGCgoGAfn19fn5/gICAf359foCBgYKCgIB/f4CBgIB+fn19fX+AgYGAgICBgYKDg4GAfXx9fX5+fn5/f4CAgICAgIGAf39/fn5+fn+AgYKCg4KCgoGAgH9+fn59fHx7e3x+gYKDg4KCgoOEhIOBfn58e3p6e3x+f4GBgYKCg4ODg4KAf3+Af359fHt8fn5/f4CBgYGBgYB/f35+f3+AgYGBgYCBgYGBgIB/gH9/fn59fn5/fn9/gICAgH9+fn+Cg4OCgX9+fn+Af35/fn5+f39/f4CAgYGBgYGBgIGAgH9+fXx8fX5+f4CAgIGAgIGBgYGAgIGBgYCAgYB/fn18fX1+fn5+f4CBgYKDgoKCgoF/fXx8fHx9fn+AgYGBgYGCgoKCgoB/fXx8e3t8fn+AgYKBgoODgoKCgH9/fnx7e3t8fn+AgYKBgYODgoKCgYB/fn19fX5+fn19fn5+gIGBgYKAf4CBgYKCgH9+f39+fXx8fX6AgYF/gIB/gIGBgYGBgYB/fn5/f39/gICAf39/f4CBgH9/fn5+f39/gIGCgoGAgH9/f4GBgH9+fXx+f4CAgICAf4CAgYGAgIB/f39/gIGBgICAfX19fX+BgYGAf39/gICAgIGCgYGAf359fX59fX5/gIKDg4KAf39/f35/gIB/f35+f4CBgoKBgoGAf35+fXx8fH19f3+BgoKBgYGBg4ODgoB/fn59fHx9fn5/f3+AgICAgIGCgoGBgYKCgX9/fn59fX1+fn5+fX1/gIGCgoKCgoGBgICAgIB+fnx9fn9/gH9+fn5+f4CAgYKCgoKBgYB/f4CAf39+fHx9fn9/gICAgIGCgoOCgYB/f4CAgH9+fnx8fX5+fn+BgYGBgICAgYKBgYGAf39/fn9/f39/f3+Af35+fX5/gICBgYGBgYGBgYGBgH9+fX19fX5/gH+AgIGBgYKBgYGBgH9+fX19fX5+gICAgH9/gIGCgoGAfn+AgYB/fnx8fX9/f3+AgoKDgoF/f4CCgoF/fXx8fX1+fn+AgYGAgYGBgYCAgICAf359fX5/f39/fn5/gIGCgoKBgH9+fn+AgICAf35/f39+fn5/gICBgYB/gICBgYGBgX9/f35+fn59fX6AgICAgICAgIGBgYKAf39/f4B/f39+fn9/f39/gICAgYB/f4CAgICAgH+AgICAgYGBgH5+f39/f39+fX6AgYGAgIGAgIGBgH9/f4CAf39/f39/gIB/f39+fn9/gYGBgIB/f4CAgYKBf35+fn5/gIGBgH59fX6AgYGBgH+AgICAgICAgICAgICAf359fX1+f4CBgYGAgICAgICAgICAgICAf4CAgX99fX5/gIB/fn1+f4GCg4J/fn+AgYGBgH9/fn19fn9/gIB/f3+AgYGBgoGBgYB/fn5/f39+fn5+f3+AgIB/f3+AgYODgoF/fn5/f39+fn5/gICAf39/f4CAgIB/f3+AgICAgYKBgYB/f3+AgH9+fn1+fn+Af39/f4CBgYKBgYGAgIGBgH9+fn19fX19fX6AgYKCgoKCgoKBgX99fH1+fn1+fn+AgIB/f39/gICBgoKCgoGAgICAf35+fn9+fX1+fn+AgIGCgoKBgH9+foCAf39/gIGBf319gIOCfnt7g4qAdHV9h42IeXN6gYaIgnt7f3+BhIN9e3t+hIZ/eXl8goeEfXp8gYWHg317fH2Ag4KAf39+f4F/fX1+gIODgX58fX+CgoB+fX+AgYGAgIB/gICBgH9+fX5/gICAf3+AgH9+f4CAgYGCgoKBgICAgIB/fnx7fH1+fn5+gIGCgoODg4KBf39/f39+fn19fX1+f4B+fn+AgYOCgYGBgYGCgYB/f39/f318fX19fX1+f4CCgoKCgYCAgIGCgoKAgH9+fn5+fn5/f359fn5/f4CCgoKDgoGAf39/f39/f39/fn9/fn5/gICBgH9/f4GCgoGAgH9/f4CAf39+fn9/f4B/f4CAgIB/f39/f39/gIGBgYGAgH9+fn5/gYGBgH9+f4CAgICAgIB/f39+fX5+fn6AgYKCgYGBgH+AgYCAf359fX1+fn+AgYKBgICBgIGAf4CAf39/fn5+fn+AgICAf39/gYKDgoB/fn5/fn9/f35+fn+AgIB/gICAgYKCgoGBgYGAgH58e3t8fX19fX1/gYOEhIOCgoKBgIB/f359fX19fX5/f39/f3+AgIGBgYKCg4KBgH9/f39/fn19fX1+f39/gIGBgYGBgICBgYB/f39/gICAf35/gIGBgH9+fX5+f359fX5/gYKBgYGCgoKCgYGAgH9/fn59fHx9fX5+fn19foCChISFhYOCgoGBgX9+fXx8e3t7e3x9fn+BgoOEhIODg4OCgIB/f359fXx8fX5/f39+fn+BgYCAgIGBgYKCgoGAgICAf3+AgH9+fX19fX5+fn5+fn+AgYKCg4KCg4KBgoGAf35+fn59fXx7fH1/gICAf3+AgYKCgoKCgoGAf39/f35+fX19fX5+fn5/f4CBgYKCgoKCgICAgICBgH9+fX1+f35+fn59fn9/gIGBgYGAgYGBgYGAgIB/f35+fn5+fn5+fn5+fn9/gIKCg4OCgYCAf4CAf35+fn5+fn59fn+Af39/gIGBgYGBgoGCgYB/gIB/fn5+fn5/gIB/f35/f39/f4CAgH9/gIGBgYGBgICAf35+fn5/fn59fX1/gYKCgoKCgoGBf39+fn9+f35+fX5+fn9/gIGBgYGAgICAgICAgYGAf35/f35+fn5/gIGBgYCAgYGBgIB/fn1+fn9/fn5+f3+AgYGCgoKCgoGAf35+f39/f359fX+AgICAf39/gIGAgH9+foCAgIB/f3+AgYKCgYB/fn5/f35+fX1+f4CAgICBgYGCgoKCgYCAf39+f359fX19fH19foCBgoGBgICBgoKDgoGBgYB+fXx8fH1+fn5+fn5/gIGCgYCBgoKCgoGAf35+f39+fn5+fn5+fn5/gIGBgYCAgICBgoKBgH9/f39/gIB/f39+fn59fX5/gICAgICAgICBgoODg4KBgH9/fn59fn5+fn59fX5+f4GBgYGBgYKCgoGBgYGBgX9+fX18fHx8fH1+fn5/gICBg4SFhoWDgoGAgH59fHx8fHx8fHx8fn+BgoODg4ODg4OCgYCAgIB/fn18e3x9fn5/f3+AgICAgYKCg4KCgX9+fn+AgYGAfn19fn5+f35+fn+AgIB+f4CBg4SDgoGAgH9/f359fn+AgH99fX1+f4CAgICAgYKDgoKBgICAgIB/fn19fX19fX1+fn+AgIGBgoKDhIOCgYCAgH9/fn18fHx9fn5/f4CBgoGBgICBgYGBgICAgH9/fn5/f39/f4B/f3+AgICAgICAgICAgICAf35+f4CAgIB/gICAgICAgH9/fn5/f35+f3+AgYGBgoODgYB/f35+fn5+fXx9fn9/gH9/gIKDg4OCgYB/f39/fn5+fn19fX5+f4CAgICAgYKCgoGBgH9/f39/f35/f3+Af35+fn+AgICAf3+AgYGBgICAgICAgH9+fn5+fn5+fn+AgYKCgoKBgH9/f359fX5+fn5/gIGBgoGBgIB/fn5/fn5+f39/gICBgoGBgoF/fn5+f3+Af39/f4CAf39/f39/gIGCgoGAgIB/f39+fX19fX5+f4CBgYKCgoGBgYGBgYB/fn5+fn1+fn5/gIB/f39/f4CBgoGBgYGBgH9/fn5+f39/f35+f3+AgYKCgoGBgH9/f35+fn5+fn9/f4CBgYCAgICAgIGAgH9/f39/fn5+fn+AgIGBgoKBgICAf39/gH9+fn1+f4CBgYCAf4CAgIGBgYCAf35+fn5+fn9/gIB/gICBgYGBgIGBgIB/f39+fn5/f39/f3+AgIGAgH9/f3+AgIB/f3+AgYCAf39/f39/f39/f3+AgIGBgYCAgH9/f39+fn5+fn+AgYKBgYCAf4CAf39+fn5+f39+fn+AgYGCg4OBgH9/f39/f35+f35+fX1+f4CBgoOCgYGAgICAgICAf359fHx9f4CBgICAgIGCgoKCgYB/fn9+fn19fn9/fn9/f4CBgICBgYGBgIB/fn5+fn5/f3+AgICBgYGAgIGBgICAf35+fn5+f39/f4CAgH9/gIGCgoKBf35+fn9/f39/fn9/gICAgIGBgYB/f35+f4CAgH9/gICBgH9/f39/gIB/fn5/f3+AgICAgIGBf39/gICAgIB/f39/f39/f39/fn9/f3+AgICAgYGBgICAgIB/f39/f39/gIB/f3+Af4B/fn5+f39/f3+AgIGCg4KCgYGAf39+fX19fX1+fn5/gIGCgoKCgoKBgICAf39/fn5+fn59fn+Af39/gICBgYGBgICAgYCAgH9+f39/f39/f4CAf39/f39/f39/f35/f4CBgYGAgH9/gIGAgH9/f39/f39/fn+AgICAgH+AgICAgH9/gIB/f39/f4CBgYB/fn5/f39/f3+AgICAgH+AgIGCgoB/f39/f39+fXx9fn+AgYB/f35/gYGCgYGBgYGAgH9/f39/fn19fX6AgIGAgICAgICAgH9/f4B/f39/fn5/gICAgIB/f3+Af39/gIGBgIB/f3+AgIB/gH9/f39/gICAgIB/f35+fn5/gIGAf3+AgYKCgoGAgICAgH9+fX5+fn5+fn+AgIB/f39/gIGBgYGBgICAgICAgH9+fn19fn5+fn9/gYGCgYGCg4KBgH9+fX19fX19foCBgYCAgICAgIGBgH9/f35/f4CAgIGBgICAgICAgIB/fn5+fn5/f39/f39/gICBgYGBgYGBgYCAfn5+f39+fn19fn6AgIGBgYGBgICAgICAgIB/fn5+fn5/f39/f4CBgICAf39/f39/f4CBgYGBgYGAgICAf35+fX1+fn5+fn+AgYKCgoGBgIGAgH9/fn5+f39/f3+AgICAgH9/f4CAf35/f39/f4CAf4CAgICAgICAgICAf35+fn1+f4CAgICAgIGBgYB/f3+AgIB+fn5/gICAf39/f4CAgH9/f4CAgYCAgICAgIB/f39/f4CAgH9/gICAf39/f39/f39+fn9/gIGBgYGAgIGBgYCAf35+fX19fn+AgIB/f39/gIKCgoGAf35+f39/f3+AgIGBf35+fn+Af39/f3+AgYCAf4GCgoKBf359fX5+fn5/f3+AgYGAgIGBgYGAgH5+f4CAf39/fn5/gICAgICBgICAf39/f4CAgICAgH9/f39+fn9/f39/f3+AgYKCgYGAf39/f35+fn5/gICBgYCAgYGAgH9/f35+fn59fn9/gIGBgYCAgYKCgYGAgH5+fn59fn+AgIB/f35/gIGBgICAf3+AgIB/f3+Af39/f39/gIGBgH9/f39/gIGBgYGBgH5+fn5+f4CAgICAgICBgYGAgH9/fn5+fn5+f4CAgYGBgYB/gIB/f4B/f39/f3+AgYGAf39+fn5/gH9/f4CAgICAgYCAgICAf35+fn5+fn9/gIGCgoGAf39/gIGBgIB/fn5+f4CAf4CAgICAf39/gIGBgIB/f35/f39/f3+AgH9/fn5/gIGCgoGAgH+AgIGAf35+fn19fn5+gIGCgoGBgICAgYKBf35+fX19fX5+f4GCgoGAgICBgYKBgH5+fn5+fn59fX+BgoKBgYCAf39/f39/gIB/f35+fn+AgICAf39/gIB/gICAgYGAgH9/fn5/f39/f3+AgICAgICAgIB/f39/f3+AgYB/fn9/gIGBgX9+fn9/gICAf3+AgICAf3+AgICBgH9+fn5/f39/f35/gIGBgICAf39/f39/f39/gICAgH9/gIGAf39/fn5/f39/f3+AgIGCgYGAgIB/fn5+fn5+f39/f3+AgYGBgICAgYGBgH9+fn9/gICAf39/f39/f39/f4CBgoGAgH9/f4B/f3+AgH9/f35+fn+AgYGBgH9/f4CAgICAf39+fn5+fn+BgYGBgYCAgICAf35+f4B/f39/fn5/gIGAgIB/f39/f3+AgYKBgH9/fn5/gIB/f39/f39/gICAgYGBgYB/f35/gIB/fn5+fn6AgICAgIGBgYGAgH9/gICAf39/f35/f39/f4CBgYGBgH9/gIGAf39/f39/f39+fn+AgICAgICAgIGBgH9/f39+fn5+fn+AgYGBgIB/f4CBgYCAf359fX5+fn9/gICAgYCAgICAgICAgICAgIB/fn19fn9/gICAf3+BgYGAgICAgIGBgH9+fn5+fn5+f3+BgYGAgIGBgICAgH9+fn9/gH9/fn5+gIGBgYGAgIB/f35+f39/f39/f35+f4CAgYGBgICAgICAgICAf39/fn5/f4CAf39/f39/gICAgICAgICBgIB/f4B/fn19fn5+f4CAgIGBgYGAgICAgIGAf35+fn5+fn+Af4CBgYCAgIB/gICBgYGAf39+fn9/f39/gICAf39/f4CBgoKBgH9+fn5+fn5+f3+AgIGAgICAgYGAgIB/f39/gH9+fn9/f4CAf4CAgICAf39/f3+AgIB/f39/f3+AgICAgIGAgH9/f39/gICAf4B/f39/f39/f4CAgICAgICAgIB/f3+AgH9/f359fX+AgICBgYGBgYGBgH9/f39/f39+fX5/f39/gICAgYGBgYB/gH9/gIB/f35/f39/f39/f4CBgYGBgYCAf39/fn5+fn9/f4B/f39/gICAgIGBgYCAf35/gICAf39+fn5+f4B/f4CAgIGBgYCAgICAgH9/fn59fn9/f3+AgICBgYGAgIGBgYB/fn5+fn5/f39/gICAgIB/gICBgYGBgIB/fn5+fX1+gICAgIB/f3+BgYGBgYB/f4CAf39+fn9/f39/f3+AgICAgICAgIGBgYB/f4B/fn5+fn5/gIGAf39/f4CAgIB/gICBgIB/f35+f4CAf39/f3+AgICAf4CBgICBgH9+fn9/f35+f39/gICAf4CAgICBgICAgICAf35+fn5/f4CAgICAgICAgICAf4CBgH9/f39+fn5+fX5/gYKCgYGAf4CAgYB/f4B/f39+fn1+gIGBgICAf4CAgYGAf39/f39/f35+fn9/f3+AgIGBgoKBgIB/f39/gH9+fn5+fn5/f4CAgYGBgICAgIB/gH9/f39/f39/f39/gICAgICBgYCAgIB/f4CAgH9/fn5+f4CAgH9/gICAgYGAgH9/f35/f39/f4CAgH9/gICAgICBgICAgICAgH9/fn9/f35+fn5/f4CBgYGBgYGBgH9+fn5+f39/f39/f4CAgICAgICAgICAf39/gICAf39/f3+AgIB/f39/f4CAgICAgICAf39/f39/f39/f39/f39/gIGBgYGBgH9/gIB/f35+fX5/gICAgH+AgIKCgoGAf39+fn9/f35+fn5/gICAgICAgICAgICAf3+AgH+AgICAf39+fn+AgIB/f4CAgYCBgH9/gICAgH9/fn5+gIGBgH9/f3+AgICAgIGBgH9/f3+AgIGAf35/f3+AgICAf3+AgICAf35+f4CAf35+f4CAgIB/f4CBgoKBgYB/fn9/f35+fn9/gH9/f4CBgoGAf39/gICAf39/gH9/fn5/f3+AgIB/f3+AgIGCgoGAf39/f39+fn59fn9/gIGAgICAgYGBgH9/gIB/f35+fn+AgICAf39/f4CAgH9/f39/gIB/f3+AgICAgH9/f4CBgYB/f39/f39/f39/gH+AgICAgICBgYB/f4CAgH9/fn5+f39/f39/f39/gICAgYGBgICAgH9/f39/fn9/f39/f4CAgICBgH9+fn+AgYGAf35+gIGCgYF/fX1+f4CAf359foCCg4KAf35+f4CBgH9/f39/f39/f39/f39/f39/f3+AgICAgYGCgYB/f39/f39/fn5+fn+AgYGAf3+AgIGAgIB/f39/f39/gICAgYGAf39/gIB/f35+f3+AgICAgH9/f4CBgYB/f39/f39/f39/f39/f4CAgICAgH9/gICAgICAf3+AgH9/f39+f39/f39/f4CBgYCAgICBgYGAf35+f39/f35+fn+AgICAf39/gICAgH9/f4CBgYGAf39/f39+fn5+fn+AgICAgICBgoKBf35+f3+AgIB/fn5/gICBgYB/f39/f35+f3+AgIGBgICAgICAgH9+fn6AgYB/f35/f4CBgIB/f4CAgICAf3+AgYGBgH9+fn5+f39+f39/gICAgICAgYGAgICAgIB/f39+fn5+fn+AgICAgICAgICAgIB/f39/f4CBgICAf39/gICAf35+fn9/f39/gIGCgoGAf39/f4CAf39+f4CAgICAf39/gH9/f39/f4CAgYCAgICAgICAf39+fn5+fn5/f4CBgYGBgH9/f4CAgIB/f3+AgICAf39/gICAf35+fn9/gICAgIGBgYGAgICAgIB/f35+fn9/f39/f3+AgIGBgIB/f4CAgIB/f39/f3+Af39/f3+Af39/f3+AgICAgICAgICAgH9/f35+f39/gICAgICAgIGAgH9/f35+fn9/f4CAgIGBgYGBgICAf39/fn5+fn5/f39/f4CBgYKCgYGAf39/f39/fn5/f39/f39/f4CAgYGAgICAgYGBgH9/f39/fn59fX5/gICAgICAgYGBgYCAf39/f39+fn5+f4CAf39/f4CAgICAgICAgICAf35+f3+AgH9/f3+AgICAf3+AgIGBgIB/f39/f39/f39/f4CAgICAgIGBgYGAgH9/f35+fn5+f4CAgICBgYGBgYCAf39/fn9/f35/f39/gICAgIGBgH+AgH9/gIB/gICAf4CAf35/f35+f4B/f4CAgICBgYCAgH9+fn9+fn5/f3+AgYCAgYCAgICAf39/f39/f39/gIGBgYGAf39/f39/f39/gIB/f4CAf4CAgIB/gH9+f4B/f3+AgICBgYB/f4B/f3+Af35/gH+AgYGAgICAf3+Af35+gH9+gIB/f4CBgICBgH9/gIB+f39/foCBgYCAgH9+gIB/f39/fn+AgH+AgIB/gIGAgICAf35/f35/gICAgICAgICAgICAf39/f39/gIB/f4B/f4CAf39/f39/gICAgICAf3+AgH+AgIB/f39/f4CAgICAgH9/gIB/f4B/fn+AgH9/gIB/gIGAf3+Af3+AgH9/gIB/f3+Af3+AgH+AgIB/f4CAf4CAgICAgH9+fn9/f4CAgH+AgICAgIB/gIB/f39/f35/gICAgYCAgIB/f39/f39/f3+AgICAgICAgIB/f39/f4CAgH9/f3+AgICAf3+Af39/f39/gICAf4CAgICAgH9/f39/f4CAf39/f3+AgICAgIB/f4CAf4CAgH+AgIB/gIB/f39/f39/f39/gH9/f4CBgYGBgH9/f39/f39/f4CAgH+AgH9/gICAgIGAgH9/f39/gICAgIB/f3+Af39/gH9/gICAgICAf39/f39/gIB/f4CAf3+AgH9/gIB/f4B/f3+Af3+AgYCAgICAf3+Af3+AgH9/gIB/f4CAf3+AgH9/gIB/f4CAf4CBgH9/gYB/f4B/fn+Af3+AgH9/gIB/f4CAf3+AgH9/gYGAgIGAf3+Af39/f39+f4B/f4CBgICAgYCAgIB/f39/fn5/f39/gIB/f4CAf3+AgH+AgICAgIGAf4B/f39/f35+f39/f4CAgICBgYCAgH9/f39/fn9/f3+AgICAgICAgICAf39/f3+AgIB/f4CAgICAgH9/f39/f39/f4CAgICAgICAgH+Af35+fn9/f4CAgICBgICAgH9/f39/f39/f3+AgICAgICAgIB/f39/f39/f3+AgIGAgICAf39/f39/gH9/gICAgIGBgICAgH9/f39+fn5/f3+AgICBgYGAgIB/f39/f39/f39/gICAf39/f3+AgH9/f39/gIGAgICAgIB/f39+fn9/f4CAgH+AgICAgIGAgICAf39/f35/f4B/f4CAgICAgICAgIB/f3+Af4CAgH9/f39/gIB/f39/f3+AgICAgICAgICAgH9/f39/f39/f4CAgICAgICAgICAgIB/f39/f4CAgH9/f4B/f4CAf4CAgICAgIB/f39/f39/f39/f39/f3+AgIGAgICAf4B/f39/f39/f39/f39/f4CAgICAgICAgIB/f39/f39/f39/gIB/gICAgICBgICAgH9/f39/f39/f39/f3+AgIGAgICAf3+AgH9/f39/f39/f4CAf3+AgICAgICAf4CAf4CAgICAgH9/f39/f3+AgICAgH+AgICAf39/f3+AgH9/f39/gICAgICAgH+AgH9/f39/f4CAgICAgH9/f39/f39/gICAgH9/gICAgICAf3+AgH9/f39/f3+AgICAgIB/f39/f4CAgH9/f39/gICAf39/f39/f39/f4CAgICAgICAgH9/f39/f39/f4CAf39/gICAgIB/f39/f4B/f39/gICAgIB/f3+AgICAgIB/gICAgICAf39/gIB/f39/f3+Af4CAgICAgIB/f39/f3+Af39/f39/gICAgICAgICAgICAgH9/f39/f4B/f39/f39/f4CAgICAgICAgIB/gIB/f39/f39/f39/gICAgICAgICAf39/f39/gH9/f39/f4CAgH+AgH9/f39/f4CAgICAgH9/gIB/f39/f3+AgICAgH+AgIB/f39/f39/f39/gICAgICAf39/f39/f3+AgH9/gICAf4CAf4CAf39/f4CAgICAf4CAgICAgH9/f39/f3+AgICAgIB/f4CAgICAf39/f39/gICAgICAf4CAgH9/f39/gICAgICAgICAgIB/gH9/f39/f3+Af3+AgICAgICAf39/f39/f3+AgICAgICAf4CAf3+Af39/f39/f4CAgICAgICAgH9/f39/f39/f3+AgICAgICAgICAf39/f39/f4B/gICAf39/f3+AgICAgICAgICAf3+AgH9/f39/f3+Af4CAgICAgICAgICAgIB/f39/f39/f39/f39/f4CAgICAgH+AgICAf3+Af3+AgICAf3+Af4CAgH+Af3+Af3+Af4CAf4CAf39/gIB/f4B/gICAgIB/gH9/gH9/gH9/gH9/gH+AgH+AgICAgH+AgH+Af3+Af4CAf39/f4CAf4B/f4B/f4B/f4B/gIB/gIB/gH9/gH9/gH+AgH+AgH+Af3+Af3+Af3+Af3+AgH+AgH+AgH+Af3+Af3+Af3+Afn+Af4CAgICAgIB/f39/f39/f4CAf4CAf4CAf4B/f4B/f4B/f4B/f4B/f4CAgICAf3+Af4CAf4CAf4CAf4B/f4B/f4B/f39/f3+AgH+AgH+AgH+Af36Af3+Af3+AgH+AgH+AgH9/gH9/gH+AgH+Af4CAgICAf4B/f4B/f4B/f4B/gIB/gIB/f39/f4B/f4B/f4CAf4GAf4CAfoCAfoCAf3+Af3+Bf3+Bf3+Af3+Afn+Afn+Af4CAgICAgIB/gIB/gH9/gH9/f3+AgH+AgH9/gH9/gIB/gH9+gIB/gIGAgH+AgH+Af39/f39/f4CAf4CAgICAgH+AgH9/f39/f39/f4CAf4CAf4CAf4B/f4CAf39/gIB/f39/gIB/f4CBf3+AgICAgH+AgIB/f4CAf39/f4CAf39/gICAf4CBgH9/gICAf39/f4B/f4B/f3+AgICAgH+AgH9/gIB/fn+Af39/gICAf3+AgIB/f4CAf39/gIB/f4CAgH9/f4CAf39/gH9/gICAgIB/f4CAf3+Af39/gH9/gIB/f4CAf3+AgIB/f3+AgH9/gIB/f3+AgH9/gIB/f3+AgH+AgIB/f3+AgH9/gIB/gICAf3+AgH+AgICAgH+AgH9/f3+Af3+AgIB/f4CAgICAf4CAf39/f39/f4B/gIB/f4CAgIB/f4B/f39/gIB/gICAgH+AgH9/gICAf39/gIB/f3+AgH9/gIB/f39/f39/gH9/gICAgH+AgIB/f4CAf39/gIB/gICAgH+AgH9/f4B/f3+AgIB/gICAgICAgH9/f3+Af39/f39/gICAgICAgH+AgH9/f39/f3+Af3+AgICAgICAf4B/f4CAf3+Af4CAgH+AgH9/f4CAf4B/f4CAgICAgIB/f39/gH9/f39/gH9/gICAgICAgICAgH9/gH9/f39/gH9/gICAgH+AgH9/gH+AgH9/gH+AgH+Af4CAf3+Af39/f39/gH+AgICAgH+Af4CAf39/f39/f3+AgICAgH+AgH9/f4CAf39/f4B/f4CAgIB/gH9/gH9/gICAgH+AgICAgH+Af39/f3+Af3+AgICAgICAf4CAf4B/f39/f4CAf4CAgICAgICAf39/f4B/f4B/f4B/gH9/gIB/gICAgH9/f39/gH9/f4CAgH9/gH9/gICAgH9/gH+AgICAgICAgH9/gIB/f39/f39/f4CAgICAgICAf3+Af3+Af3+AgICAf3+Af4CAf3+Af39/f39/gICAgH+AgH9/gH9/f39/f39/gICAgICAgICAgH9/gH9/f4B/f4CAgICAf4CAf3+Af39/f4CAgICAgICAgICAf3+Af3+Af3+AgH+AgICAgH+Af3+AgH+Af39/gH+AgIB/gH9/f39/f39/gICAgH9/gIB/gIB/f4B/f39/f3+Af4CAgIB/gICAf4B/f4B/f4CAf3+AgICAgICAf39/f39/f39/f3+Af4CAgICAgH+Af39/f39/f39/gICAgICAgH9/f39/f39/gH+AgICAgIB/f39/f39/f39/f4CAgICAgICAgIB/f4B/f39/f4CAgH+AgH+AgH9/gH9/f4CAf4CAgH+AgH+AgH9/gH9/f4B/f4CAgICAgICAgH9/gH9/f4B/f4B/f4CAf4CAgICAgIB/f4B/f4B/f4CAf4CAf4CAgICAf3+Af3+Af3+Af3+Af3+Af3+AgH9/gH9/gH+AgICAgICAf39/f39/gH9/gIB/gICAgICAgIB/f39/f39/f4B/f4B/gICAf4CAf4B/f4B/f39/gICAgICAf3+Af3+AgH9/gICAgICAgICAgH9/f39/f39/f39/gICAgICAgICAgIB/f39/f4B/gIB/f4CAf4CAf4CAgH9/f39/gIB/gIB/f3+Af3+Af3+Af3+AgICAgICAgIB/f39/f39/f39/gIB/gIB/gICAf4B/f39/f39/f4B/gIB/gIB/f4CAf4CAf3+AgH+AgICAgIB/f39/f3+Af3+AgH+AgICAgIB/gH9/f39/f3+AgH+AgH+AgH9/gIB/gIB/gIB/gICAgICAgH9/gH9/gIB/f4B/f4CAf4CAf3+Af39/f4B/f4B/f4CAf4CAgH+AgICAgH9/f39/f39/f39/f3+AgICAgICAf3+Af39/f39/gH9/f3+AgICAgICAgH+AgH+AgH9/gH9/f39/f39/f3+Af3+AgICAgIB/gIB/f39/f4B/f39/f39/gIB/gIB/gICAf4B/gICAf4B/f39/f39/f39/f4B/f4CAf4CAf4CAf3+AgH+AgH9/gH9/f4B/f4CAgICAgH9/gH9/gH9/f39/f4CAf4CAgICAgH9/gIB/f4B/f4CAf4CAf4CAf3+AgH9/f4CAf4CAf3+Af3+Af3+Af39/f3+AgICAgICAgH+AgH9/gH9/gH9/gH9/gIB/gIB/gIB/f4B/gIB/gH9/gIB/f4B/f4B/f4CAf4CAgICAgIB/f4B/f4CAf3+Af3+Af3+AgICAgICAgICAgH+Af39/gH9/f39/f3+AgICAgH+AgICAgIB/gIB/gIB/gH9/f39/f39/gIB/gIB/gICAgICAf39/f39/f39/gICAgICAgICAf3+Af3+Af3+Af39/gICAgIB/f39/f3+Af39/gH+AgH9/gIB/gIB/gIB/f4CAgICAgICAgH9/f4B/f4B/f39/f3+Af3+AgICAgICAf4CAf4B/f3+Af3+Af3+AgICAgICAgH+AgICAgH9/f39/gH9/gH9/f39/gICAgICAgICAgICAgH9/gH9/f4B/f4B/f4CAgICAgH9/gH9/f4B/f4B/f4CAf4CAf39/f39/f4CAgICAf4CAf3+Af39/f39/f3+AgICAgICAgH9/gH9/f39/gH9/gH9/gICAgIB/gIB/gICAgIB/f39/f39/f39/f4B/f4B/f4CAgICAf4CAf39/f39/f39/f39/f4CAgICAgICAgH+AgH+AgH9/f39/f39/f4CAf3+AgICAgIB/gIB/gIB/f4B/f4B/f39/f39/gICAgICAgICAf4CAf39/f39/f3+AgH+AgH+AgH+Af3+Af3+AgH+AgH+AgH9/gH9/gH9/gH9/gICAgICAgH9/gH9/gIB/gIB/gICAgIB/gIB/f4B/f4B/f4B/f4CAf4CAf4CAf4CAf4CAf4CAf4CAf3+Af3+Af3+AgH+AgH+AgICAgH+Af3+Af3+AgH9/gH9/gH9/gICAgICAgICAgH9/gH9/f39/f4B/f4B/f4CAgICAgIB/gIB/f4CAf4CAf3+Af39/f3+Af3+AgICAgICAf3+Af3+Af39/f3+AgH+AgH+AgH+AgH+AgH9/gH9/gICAgICAf39/f39/gH9/gIB/gIB/f4B/f4B/f4CAf4CAgICAgICAf4B/f39/f3+Af3+Af3+AgH+AgH9/gIB/gICAf3+Af3+Af39/gH9/gIB/gICAgICAgICAgH+AgH9/gH9/f4B/f4B/f3+Af3+AgICAgICAgIB/f4B/f39/f3+Af3+AgICAgIB/gICAgICAf3+Af3+Af39/f39/f39/f4CAf4CAgICAgH+AgH9/f39/f4CAf4CAgH+AgH9/gH9/gIB/gIB/f4CAf3+Af39/gH9/gIB/gICAgICAf4B/f39/f39/gICAgICAf4CAf39/f39/f3+Af3+Af39/f3+Af3+AgH+AgICAgICAgICAf39/f39/f3+AgICAgICAgICAgIB/f4B/f39/f39/f39/f39/gICAgICAgICAgICAgH9/gH9/f39/f3+Af3+AgH+AgH+AgICAgIB/gH9/gH9/f39/f39/gICAgICAgICAgIB/f39/f39/f4CAf39/f4B/gIB/f4B/f4CAgICAf3+Af3+Af39/f39/gICAgICAgICAf4CAf39/f39/f3+AgICAgIB/gICAgH9/f39/gIB/gIB/f39/f4B/f4CAgICAgICAgICAf39/f3+Af39/f3+AgICAgICAgICAgICAgIB/f39/f39/f39/f39/gICAgICAgICAgICAf39/f39/f39/f4B/f4CAf4CAgH+AgICAgICAgH9/f3+Af3+Af3+AgICAgICAgICAgH+AgIB/f39/f39/gH9/gH9/gICAgICAgICAgIB/gH9/f39/f39/gICAgICAgICAgIB/gIB/f4B/f4B/TElTVAACAABJTkZPSVNGVDQAAABDb29sIEVkaXQgdi45NiBieSBTeW50cmlsbGl1bSBTb2Z0d2FyZSBDb3Jwb3JhdGlvbgAASUNSRAwAAAAxOTk5LTAzLTEwAABJQ01UVAEAAEEgR3JlYXRlciBSb2FkcnVubmVyIGNhbGxzIGZyb20gYXRvcCBhIHRyZWUgYXQgdGhlIFNvdXRoIGVuZCBvZiBQZWNrJ3MgTGFrZSwgMy8xMC85OS4gSGUgd291bGQgY2FsbCBsaWtlIHRoaXMsIGFuc3dlcmVkIHNpbWlsYXJseSBieSBhIGJpcmQgb24gdGhlIG90aGVyIHNob3JlICi9IG1pbGUgYXdheSksIHJlcGVhdGluZyBoaXMgY2FsbCBldmVyeSBtaW51dGUgb3Igc28sIHRoZW4gY2hhbmdlIHBvc2l0aW9ucyBieSAxMDAgbWV0ZXJzIG9yIHNvLCBjbGltYiB1cCBpbnRvIG9yIG9udG8gc29tZXRoaW5nIGFuZCBjYWxsIGFnYWluLiBSZWNvcmRlZCBhdCAxOjMwLTI6MDAgcG0gLSBUZWxpbmdhAABJQ09QFgAAAERvdWcgVm9uIEdhdXNpZywgMTk5OQBJR05SGAAAAEdlb2NvY2N5eCBjYWxpZm9ybmlhbnVzAElOQU0KAAAAZ3JybzIud2F2AERJU1AUAAAAAQAAAEQgNTIsIFRSIDQyLCA0MwA=\" type=\"audio/x-wav\" />\n",
              "                    Your browser does not support the audio element.\n",
              "                </audio>\n",
              "              "
            ],
            "text/plain": [
              "<IPython.lib.display.Audio object>"
            ]
          },
          "metadata": {},
          "execution_count": 90
        }
      ]
    },
    {
      "cell_type": "markdown",
      "source": [
        "Reading the data a Pandas Dataframe"
      ],
      "metadata": {
        "id": "0_WO-jart9zf"
      }
    },
    {
      "cell_type": "code",
      "source": [
        "import pandas as pd\n",
        "\n",
        "dataframe = pd.DataFrame(sheet.get_all_records())\n",
        "dataframe"
      ],
      "metadata": {
        "colab": {
          "base_uri": "https://localhost:8080/",
          "height": 300
        },
        "id": "vKL2w8CB_m9f",
        "outputId": "a05fd809-c9f0-4ef1-8b57-4b8bf2a2c986"
      },
      "execution_count": 127,
      "outputs": [
        {
          "output_type": "execute_result",
          "data": {
            "text/html": [
              "\n",
              "  <div id=\"df-1182aa82-4e94-4312-92ed-5791e0fbabd7\">\n",
              "    <div class=\"colab-df-container\">\n",
              "      <div>\n",
              "<style scoped>\n",
              "    .dataframe tbody tr th:only-of-type {\n",
              "        vertical-align: middle;\n",
              "    }\n",
              "\n",
              "    .dataframe tbody tr th {\n",
              "        vertical-align: top;\n",
              "    }\n",
              "\n",
              "    .dataframe thead th {\n",
              "        text-align: right;\n",
              "    }\n",
              "</style>\n",
              "<table border=\"1\" class=\"dataframe\">\n",
              "  <thead>\n",
              "    <tr style=\"text-align: right;\">\n",
              "      <th></th>\n",
              "      <th>name</th>\n",
              "      <th>pubkey</th>\n",
              "      <th>statement</th>\n",
              "      <th>signature</th>\n",
              "    </tr>\n",
              "  </thead>\n",
              "  <tbody>\n",
              "    <tr>\n",
              "      <th>0</th>\n",
              "      <td>DrDoeg</td>\n",
              "      <td>a8a74228607881a4f3f80df52efdf0167fa327ce0d90ec...</td>\n",
              "      <td>I am Sirius</td>\n",
              "      <td>067aa773ee743b7c76be4c931a26fd6d2d7b5c583e8037...</td>\n",
              "    </tr>\n",
              "    <tr>\n",
              "      <th>1</th>\n",
              "      <td>Mono</td>\n",
              "      <td>a8a74228607881a4f3f80df52efdf0167fa327ce0d90ec...</td>\n",
              "      <td>Beneath the water</td>\n",
              "      <td>0774199a527b34cf07d88f908ccfec14755e9c80ffc481...</td>\n",
              "    </tr>\n",
              "    <tr>\n",
              "      <th>2</th>\n",
              "      <td>Homie</td>\n",
              "      <td>631b3ec130ab1af024059a45f3b43883f8379cc7ea0363...</td>\n",
              "      <td>i am a sweet homie</td>\n",
              "      <td>811e4a977631b5c9c3dc49ab1218f276a040ce585b79b3...</td>\n",
              "    </tr>\n",
              "    <tr>\n",
              "      <th>3</th>\n",
              "      <td>jojo</td>\n",
              "      <td>631b3ec130ab1af024059a45f3b43883f8379cc7ea0363...</td>\n",
              "      <td>jojo bee</td>\n",
              "      <td>2efa0cbb380007b941365ce0f97fc523746850f30ee215...</td>\n",
              "    </tr>\n",
              "    <tr>\n",
              "      <th>4</th>\n",
              "      <td>Captain</td>\n",
              "      <td>986e40e4d04689c17dd341f9fbd7f394200d729160570a...</td>\n",
              "      <td>ahoy</td>\n",
              "      <td>8fee10d21ecd3b95932b06f4ac346aa4df74951f4cf58a...</td>\n",
              "    </tr>\n",
              "    <tr>\n",
              "      <th>5</th>\n",
              "      <td>Ro</td>\n",
              "      <td>986e40e4d04689c17dd341f9fbd7f394200d729160570a...</td>\n",
              "      <td>Ro ro</td>\n",
              "      <td>54a16212d9af4a4f53947f6091a0137a292f53da836d8a...</td>\n",
              "    </tr>\n",
              "    <tr>\n",
              "      <th>6</th>\n",
              "      <td>Xdos</td>\n",
              "      <td>fb33714111767cf52bb4a4d7ed2d6caba5d2cbb4264b6c...</td>\n",
              "      <td>dang</td>\n",
              "      <td>d9460dc9b1c3bbad26a3c35b6bad5e04005f3e85bcee2e...</td>\n",
              "    </tr>\n",
              "    <tr>\n",
              "      <th>7</th>\n",
              "      <td>fanny</td>\n",
              "      <td>fb33714111767cf52bb4a4d7ed2d6caba5d2cbb4264b6c...</td>\n",
              "      <td>fanny 2 the moon</td>\n",
              "      <td>94850a63f119038690e5a7c78f006439d48c7002282d57...</td>\n",
              "    </tr>\n",
              "  </tbody>\n",
              "</table>\n",
              "</div>\n",
              "      <button class=\"colab-df-convert\" onclick=\"convertToInteractive('df-1182aa82-4e94-4312-92ed-5791e0fbabd7')\"\n",
              "              title=\"Convert this dataframe to an interactive table.\"\n",
              "              style=\"display:none;\">\n",
              "        \n",
              "  <svg xmlns=\"http://www.w3.org/2000/svg\" height=\"24px\"viewBox=\"0 0 24 24\"\n",
              "       width=\"24px\">\n",
              "    <path d=\"M0 0h24v24H0V0z\" fill=\"none\"/>\n",
              "    <path d=\"M18.56 5.44l.94 2.06.94-2.06 2.06-.94-2.06-.94-.94-2.06-.94 2.06-2.06.94zm-11 1L8.5 8.5l.94-2.06 2.06-.94-2.06-.94L8.5 2.5l-.94 2.06-2.06.94zm10 10l.94 2.06.94-2.06 2.06-.94-2.06-.94-.94-2.06-.94 2.06-2.06.94z\"/><path d=\"M17.41 7.96l-1.37-1.37c-.4-.4-.92-.59-1.43-.59-.52 0-1.04.2-1.43.59L10.3 9.45l-7.72 7.72c-.78.78-.78 2.05 0 2.83L4 21.41c.39.39.9.59 1.41.59.51 0 1.02-.2 1.41-.59l7.78-7.78 2.81-2.81c.8-.78.8-2.07 0-2.86zM5.41 20L4 18.59l7.72-7.72 1.47 1.35L5.41 20z\"/>\n",
              "  </svg>\n",
              "      </button>\n",
              "      \n",
              "  <style>\n",
              "    .colab-df-container {\n",
              "      display:flex;\n",
              "      flex-wrap:wrap;\n",
              "      gap: 12px;\n",
              "    }\n",
              "\n",
              "    .colab-df-convert {\n",
              "      background-color: #E8F0FE;\n",
              "      border: none;\n",
              "      border-radius: 50%;\n",
              "      cursor: pointer;\n",
              "      display: none;\n",
              "      fill: #1967D2;\n",
              "      height: 32px;\n",
              "      padding: 0 0 0 0;\n",
              "      width: 32px;\n",
              "    }\n",
              "\n",
              "    .colab-df-convert:hover {\n",
              "      background-color: #E2EBFA;\n",
              "      box-shadow: 0px 1px 2px rgba(60, 64, 67, 0.3), 0px 1px 3px 1px rgba(60, 64, 67, 0.15);\n",
              "      fill: #174EA6;\n",
              "    }\n",
              "\n",
              "    [theme=dark] .colab-df-convert {\n",
              "      background-color: #3B4455;\n",
              "      fill: #D2E3FC;\n",
              "    }\n",
              "\n",
              "    [theme=dark] .colab-df-convert:hover {\n",
              "      background-color: #434B5C;\n",
              "      box-shadow: 0px 1px 3px 1px rgba(0, 0, 0, 0.15);\n",
              "      filter: drop-shadow(0px 1px 2px rgba(0, 0, 0, 0.3));\n",
              "      fill: #FFFFFF;\n",
              "    }\n",
              "  </style>\n",
              "\n",
              "      <script>\n",
              "        const buttonEl =\n",
              "          document.querySelector('#df-1182aa82-4e94-4312-92ed-5791e0fbabd7 button.colab-df-convert');\n",
              "        buttonEl.style.display =\n",
              "          google.colab.kernel.accessAllowed ? 'block' : 'none';\n",
              "\n",
              "        async function convertToInteractive(key) {\n",
              "          const element = document.querySelector('#df-1182aa82-4e94-4312-92ed-5791e0fbabd7');\n",
              "          const dataTable =\n",
              "            await google.colab.kernel.invokeFunction('convertToInteractive',\n",
              "                                                     [key], {});\n",
              "          if (!dataTable) return;\n",
              "\n",
              "          const docLinkHtml = 'Like what you see? Visit the ' +\n",
              "            '<a target=\"_blank\" href=https://colab.research.google.com/notebooks/data_table.ipynb>data table notebook</a>'\n",
              "            + ' to learn more about interactive tables.';\n",
              "          element.innerHTML = '';\n",
              "          dataTable['output_type'] = 'display_data';\n",
              "          await google.colab.output.renderOutput(dataTable, element);\n",
              "          const docLink = document.createElement('div');\n",
              "          docLink.innerHTML = docLinkHtml;\n",
              "          element.appendChild(docLink);\n",
              "        }\n",
              "      </script>\n",
              "    </div>\n",
              "  </div>\n",
              "  "
            ],
            "text/plain": [
              "      name  ...                                          signature\n",
              "0   DrDoeg  ...  067aa773ee743b7c76be4c931a26fd6d2d7b5c583e8037...\n",
              "1     Mono  ...  0774199a527b34cf07d88f908ccfec14755e9c80ffc481...\n",
              "2    Homie  ...  811e4a977631b5c9c3dc49ab1218f276a040ce585b79b3...\n",
              "3     jojo  ...  2efa0cbb380007b941365ce0f97fc523746850f30ee215...\n",
              "4  Captain  ...  8fee10d21ecd3b95932b06f4ac346aa4df74951f4cf58a...\n",
              "5       Ro  ...  54a16212d9af4a4f53947f6091a0137a292f53da836d8a...\n",
              "6     Xdos  ...  d9460dc9b1c3bbad26a3c35b6bad5e04005f3e85bcee2e...\n",
              "7    fanny  ...  94850a63f119038690e5a7c78f006439d48c7002282d57...\n",
              "\n",
              "[8 rows x 4 columns]"
            ]
          },
          "metadata": {},
          "execution_count": 127
        }
      ]
    },
    {
      "cell_type": "markdown",
      "source": [
        "We can verify statements. Here we use the `ecies` cryptography library directly without using the external scripts. "
      ],
      "metadata": {
        "id": "_nkacjetuqiJ"
      }
    },
    {
      "cell_type": "code",
      "source": [
        "import eth_keys\n",
        "import ecies\n",
        "\n",
        "eth_keys.datatypes.Signature(bytes.fromhex(sig1)).verify_msg(my_statement.encode(),eth_keys.keys.PublicKey(bytes.fromhex(pubkey1)))"
      ],
      "metadata": {
        "colab": {
          "base_uri": "https://localhost:8080/"
        },
        "id": "rIYQBHGhVY6c",
        "outputId": "b8d5c43a-c758-4a4a-e97d-4e6c91d64d87"
      },
      "execution_count": 128,
      "outputs": [
        {
          "output_type": "execute_result",
          "data": {
            "text/plain": [
              "True"
            ]
          },
          "metadata": {},
          "execution_count": 128
        }
      ]
    },
    {
      "cell_type": "code",
      "source": [
        "def verify(sig,statement,pubkey):\n",
        "  return eth_keys.datatypes.Signature(bytes.fromhex(sig)).verify_msg(statement.encode() if type(statement)!=bytes else statement,eth_keys.keys.PublicKey(bytes.fromhex(pubkey)))"
      ],
      "metadata": {
        "id": "4QV22WHmTs-_"
      },
      "execution_count": 188,
      "outputs": []
    },
    {
      "cell_type": "code",
      "source": [
        "verify(sig1,my_statement,pubkey1)"
      ],
      "metadata": {
        "colab": {
          "base_uri": "https://localhost:8080/"
        },
        "id": "hAdUtVWfWLlP",
        "outputId": "40a0eba7-48f4-4290-d63b-618e06ab3abe"
      },
      "execution_count": 189,
      "outputs": [
        {
          "output_type": "execute_result",
          "data": {
            "text/plain": [
              "True"
            ]
          },
          "metadata": {},
          "execution_count": 189
        }
      ]
    },
    {
      "cell_type": "markdown",
      "source": [
        "Here we verify all rows of the roster"
      ],
      "metadata": {
        "id": "XAM2Xl2BvSnv"
      }
    },
    {
      "cell_type": "code",
      "source": [
        "dataframe.set_index('name').apply(lambda row: verify(row.signature,row.statement,row.pubkey),axis=1)"
      ],
      "metadata": {
        "colab": {
          "base_uri": "https://localhost:8080/"
        },
        "id": "rNkF3WrPWTvw",
        "outputId": "fd1eb1bd-da36-4d17-afb3-598381c85768"
      },
      "execution_count": 190,
      "outputs": [
        {
          "output_type": "execute_result",
          "data": {
            "text/plain": [
              "name\n",
              "DrDoeg     True\n",
              "Mono       True\n",
              "Homie      True\n",
              "jojo       True\n",
              "Captain    True\n",
              "Ro         True\n",
              "Xdos       True\n",
              "fanny      True\n",
              "dtype: bool"
            ]
          },
          "metadata": {},
          "execution_count": 190
        }
      ]
    },
    {
      "cell_type": "markdown",
      "source": [
        "Collecting the names of all the participants"
      ],
      "metadata": {
        "id": "KQHswOH9vlPc"
      }
    },
    {
      "cell_type": "code",
      "source": [
        "participants=dataframe.name.tolist()\n",
        "participants"
      ],
      "metadata": {
        "colab": {
          "base_uri": "https://localhost:8080/"
        },
        "id": "8VFsk0L9Bz9_",
        "outputId": "15ef8c26-e318-43bb-d004-e3f1faf23f4f"
      },
      "execution_count": 132,
      "outputs": [
        {
          "output_type": "execute_result",
          "data": {
            "text/plain": [
              "['DrDoeg', 'Mono', 'Homie', 'jojo', 'Captain', 'Ro', 'Xdos', 'fanny']"
            ]
          },
          "metadata": {},
          "execution_count": 132
        }
      ]
    },
    {
      "cell_type": "markdown",
      "source": [
        "Doing variable assignment for needed Worksheets"
      ],
      "metadata": {
        "id": "0aYK2ixlv-yH"
      }
    },
    {
      "cell_type": "code",
      "source": [
        "sheet1=sheets.worksheets()[1]\n",
        "sheet2=sheets.worksheets()[2]\n",
        "sheet3=sheets.worksheets()[3]\n",
        "sheet1,sheet2,sheet3"
      ],
      "metadata": {
        "colab": {
          "base_uri": "https://localhost:8080/"
        },
        "id": "0cA1SFS4Tuyb",
        "outputId": "428c2021-5281-4522-a3ee-1dd6f6e49530"
      },
      "execution_count": 133,
      "outputs": [
        {
          "output_type": "execute_result",
          "data": {
            "text/plain": [
              "(<Worksheet 'Magic' id:2092809244>,\n",
              " <Worksheet 'ChorusSignature' id:549527758>,\n",
              " <Worksheet 'StealProposal' id:858983463>)"
            ]
          },
          "metadata": {},
          "execution_count": 133
        }
      ]
    },
    {
      "cell_type": "code",
      "source": [
        "#ONLY FOR DDOG MC\n",
        "#df=pd.DataFrame('dada',columns=participants,index=participants)\n",
        "#sheet1.update([df.columns.values.tolist()] + df.values.tolist())\n",
        "#sheet2.update([df.columns.values.tolist()] + df.values.tolist())\n",
        "#sheet3.update([df.columns.values.tolist()] + df.values.tolist())\n",
        "#df"
      ],
      "metadata": {
        "id": "c6tM_RvpUOkH",
        "colab": {
          "base_uri": "https://localhost:8080/",
          "height": 300
        },
        "outputId": "51fbc387-781a-4218-bce9-de60a8253781"
      },
      "execution_count": 145,
      "outputs": [
        {
          "output_type": "execute_result",
          "data": {
            "text/html": [
              "\n",
              "  <div id=\"df-953140aa-6b69-4a5b-8603-b33d08d8373c\">\n",
              "    <div class=\"colab-df-container\">\n",
              "      <div>\n",
              "<style scoped>\n",
              "    .dataframe tbody tr th:only-of-type {\n",
              "        vertical-align: middle;\n",
              "    }\n",
              "\n",
              "    .dataframe tbody tr th {\n",
              "        vertical-align: top;\n",
              "    }\n",
              "\n",
              "    .dataframe thead th {\n",
              "        text-align: right;\n",
              "    }\n",
              "</style>\n",
              "<table border=\"1\" class=\"dataframe\">\n",
              "  <thead>\n",
              "    <tr style=\"text-align: right;\">\n",
              "      <th></th>\n",
              "      <th>DrDoeg</th>\n",
              "      <th>Mono</th>\n",
              "      <th>Homie</th>\n",
              "      <th>jojo</th>\n",
              "      <th>Captain</th>\n",
              "      <th>Ro</th>\n",
              "      <th>Xdos</th>\n",
              "      <th>fanny</th>\n",
              "    </tr>\n",
              "  </thead>\n",
              "  <tbody>\n",
              "    <tr>\n",
              "      <th>DrDoeg</th>\n",
              "      <td>dada</td>\n",
              "      <td>dada</td>\n",
              "      <td>dada</td>\n",
              "      <td>dada</td>\n",
              "      <td>dada</td>\n",
              "      <td>dada</td>\n",
              "      <td>dada</td>\n",
              "      <td>dada</td>\n",
              "    </tr>\n",
              "    <tr>\n",
              "      <th>Mono</th>\n",
              "      <td>dada</td>\n",
              "      <td>dada</td>\n",
              "      <td>dada</td>\n",
              "      <td>dada</td>\n",
              "      <td>dada</td>\n",
              "      <td>dada</td>\n",
              "      <td>dada</td>\n",
              "      <td>dada</td>\n",
              "    </tr>\n",
              "    <tr>\n",
              "      <th>Homie</th>\n",
              "      <td>dada</td>\n",
              "      <td>dada</td>\n",
              "      <td>dada</td>\n",
              "      <td>dada</td>\n",
              "      <td>dada</td>\n",
              "      <td>dada</td>\n",
              "      <td>dada</td>\n",
              "      <td>dada</td>\n",
              "    </tr>\n",
              "    <tr>\n",
              "      <th>jojo</th>\n",
              "      <td>dada</td>\n",
              "      <td>dada</td>\n",
              "      <td>dada</td>\n",
              "      <td>dada</td>\n",
              "      <td>dada</td>\n",
              "      <td>dada</td>\n",
              "      <td>dada</td>\n",
              "      <td>dada</td>\n",
              "    </tr>\n",
              "    <tr>\n",
              "      <th>Captain</th>\n",
              "      <td>dada</td>\n",
              "      <td>dada</td>\n",
              "      <td>dada</td>\n",
              "      <td>dada</td>\n",
              "      <td>dada</td>\n",
              "      <td>dada</td>\n",
              "      <td>dada</td>\n",
              "      <td>dada</td>\n",
              "    </tr>\n",
              "    <tr>\n",
              "      <th>Ro</th>\n",
              "      <td>dada</td>\n",
              "      <td>dada</td>\n",
              "      <td>dada</td>\n",
              "      <td>dada</td>\n",
              "      <td>dada</td>\n",
              "      <td>dada</td>\n",
              "      <td>dada</td>\n",
              "      <td>dada</td>\n",
              "    </tr>\n",
              "    <tr>\n",
              "      <th>Xdos</th>\n",
              "      <td>dada</td>\n",
              "      <td>dada</td>\n",
              "      <td>dada</td>\n",
              "      <td>dada</td>\n",
              "      <td>dada</td>\n",
              "      <td>dada</td>\n",
              "      <td>dada</td>\n",
              "      <td>dada</td>\n",
              "    </tr>\n",
              "    <tr>\n",
              "      <th>fanny</th>\n",
              "      <td>dada</td>\n",
              "      <td>dada</td>\n",
              "      <td>dada</td>\n",
              "      <td>dada</td>\n",
              "      <td>dada</td>\n",
              "      <td>dada</td>\n",
              "      <td>dada</td>\n",
              "      <td>dada</td>\n",
              "    </tr>\n",
              "  </tbody>\n",
              "</table>\n",
              "</div>\n",
              "      <button class=\"colab-df-convert\" onclick=\"convertToInteractive('df-953140aa-6b69-4a5b-8603-b33d08d8373c')\"\n",
              "              title=\"Convert this dataframe to an interactive table.\"\n",
              "              style=\"display:none;\">\n",
              "        \n",
              "  <svg xmlns=\"http://www.w3.org/2000/svg\" height=\"24px\"viewBox=\"0 0 24 24\"\n",
              "       width=\"24px\">\n",
              "    <path d=\"M0 0h24v24H0V0z\" fill=\"none\"/>\n",
              "    <path d=\"M18.56 5.44l.94 2.06.94-2.06 2.06-.94-2.06-.94-.94-2.06-.94 2.06-2.06.94zm-11 1L8.5 8.5l.94-2.06 2.06-.94-2.06-.94L8.5 2.5l-.94 2.06-2.06.94zm10 10l.94 2.06.94-2.06 2.06-.94-2.06-.94-.94-2.06-.94 2.06-2.06.94z\"/><path d=\"M17.41 7.96l-1.37-1.37c-.4-.4-.92-.59-1.43-.59-.52 0-1.04.2-1.43.59L10.3 9.45l-7.72 7.72c-.78.78-.78 2.05 0 2.83L4 21.41c.39.39.9.59 1.41.59.51 0 1.02-.2 1.41-.59l7.78-7.78 2.81-2.81c.8-.78.8-2.07 0-2.86zM5.41 20L4 18.59l7.72-7.72 1.47 1.35L5.41 20z\"/>\n",
              "  </svg>\n",
              "      </button>\n",
              "      \n",
              "  <style>\n",
              "    .colab-df-container {\n",
              "      display:flex;\n",
              "      flex-wrap:wrap;\n",
              "      gap: 12px;\n",
              "    }\n",
              "\n",
              "    .colab-df-convert {\n",
              "      background-color: #E8F0FE;\n",
              "      border: none;\n",
              "      border-radius: 50%;\n",
              "      cursor: pointer;\n",
              "      display: none;\n",
              "      fill: #1967D2;\n",
              "      height: 32px;\n",
              "      padding: 0 0 0 0;\n",
              "      width: 32px;\n",
              "    }\n",
              "\n",
              "    .colab-df-convert:hover {\n",
              "      background-color: #E2EBFA;\n",
              "      box-shadow: 0px 1px 2px rgba(60, 64, 67, 0.3), 0px 1px 3px 1px rgba(60, 64, 67, 0.15);\n",
              "      fill: #174EA6;\n",
              "    }\n",
              "\n",
              "    [theme=dark] .colab-df-convert {\n",
              "      background-color: #3B4455;\n",
              "      fill: #D2E3FC;\n",
              "    }\n",
              "\n",
              "    [theme=dark] .colab-df-convert:hover {\n",
              "      background-color: #434B5C;\n",
              "      box-shadow: 0px 1px 3px 1px rgba(0, 0, 0, 0.15);\n",
              "      filter: drop-shadow(0px 1px 2px rgba(0, 0, 0, 0.3));\n",
              "      fill: #FFFFFF;\n",
              "    }\n",
              "  </style>\n",
              "\n",
              "      <script>\n",
              "        const buttonEl =\n",
              "          document.querySelector('#df-953140aa-6b69-4a5b-8603-b33d08d8373c button.colab-df-convert');\n",
              "        buttonEl.style.display =\n",
              "          google.colab.kernel.accessAllowed ? 'block' : 'none';\n",
              "\n",
              "        async function convertToInteractive(key) {\n",
              "          const element = document.querySelector('#df-953140aa-6b69-4a5b-8603-b33d08d8373c');\n",
              "          const dataTable =\n",
              "            await google.colab.kernel.invokeFunction('convertToInteractive',\n",
              "                                                     [key], {});\n",
              "          if (!dataTable) return;\n",
              "\n",
              "          const docLinkHtml = 'Like what you see? Visit the ' +\n",
              "            '<a target=\"_blank\" href=https://colab.research.google.com/notebooks/data_table.ipynb>data table notebook</a>'\n",
              "            + ' to learn more about interactive tables.';\n",
              "          element.innerHTML = '';\n",
              "          dataTable['output_type'] = 'display_data';\n",
              "          await google.colab.output.renderOutput(dataTable, element);\n",
              "          const docLink = document.createElement('div');\n",
              "          docLink.innerHTML = docLinkHtml;\n",
              "          element.appendChild(docLink);\n",
              "        }\n",
              "      </script>\n",
              "    </div>\n",
              "  </div>\n",
              "  "
            ],
            "text/plain": [
              "        DrDoeg  Mono Homie  jojo Captain    Ro  Xdos fanny\n",
              "DrDoeg    dada  dada  dada  dada    dada  dada  dada  dada\n",
              "Mono      dada  dada  dada  dada    dada  dada  dada  dada\n",
              "Homie     dada  dada  dada  dada    dada  dada  dada  dada\n",
              "jojo      dada  dada  dada  dada    dada  dada  dada  dada\n",
              "Captain   dada  dada  dada  dada    dada  dada  dada  dada\n",
              "Ro        dada  dada  dada  dada    dada  dada  dada  dada\n",
              "Xdos      dada  dada  dada  dada    dada  dada  dada  dada\n",
              "fanny     dada  dada  dada  dada    dada  dada  dada  dada"
            ]
          },
          "metadata": {},
          "execution_count": 145
        }
      ]
    },
    {
      "cell_type": "markdown",
      "source": [
        "## Worksheet 1\n",
        "\n",
        "This is a place for casual public chats\n",
        "- row is sender\n",
        "- column is recipient"
      ],
      "metadata": {
        "id": "vzG8Iqv8xfph"
      }
    },
    {
      "cell_type": "code",
      "source": [
        "dataframe1 = pd.DataFrame(sheet1.get_all_records())\n",
        "dataframe1.index=dataframe1.columns\n",
        "dataframe1"
      ],
      "metadata": {
        "colab": {
          "base_uri": "https://localhost:8080/",
          "height": 300
        },
        "id": "1JeW89rRVVNP",
        "outputId": "59403c6e-ef32-4f50-e17c-7ef1e69eb847"
      },
      "execution_count": 146,
      "outputs": [
        {
          "output_type": "execute_result",
          "data": {
            "text/html": [
              "\n",
              "  <div id=\"df-58d9e6f9-347f-430a-a93e-d31fa4242d8e\">\n",
              "    <div class=\"colab-df-container\">\n",
              "      <div>\n",
              "<style scoped>\n",
              "    .dataframe tbody tr th:only-of-type {\n",
              "        vertical-align: middle;\n",
              "    }\n",
              "\n",
              "    .dataframe tbody tr th {\n",
              "        vertical-align: top;\n",
              "    }\n",
              "\n",
              "    .dataframe thead th {\n",
              "        text-align: right;\n",
              "    }\n",
              "</style>\n",
              "<table border=\"1\" class=\"dataframe\">\n",
              "  <thead>\n",
              "    <tr style=\"text-align: right;\">\n",
              "      <th></th>\n",
              "      <th>DrDoeg</th>\n",
              "      <th>Mono</th>\n",
              "      <th>Homie</th>\n",
              "      <th>jojo</th>\n",
              "      <th>Captain</th>\n",
              "      <th>Ro</th>\n",
              "      <th>Xdos</th>\n",
              "      <th>fanny</th>\n",
              "    </tr>\n",
              "  </thead>\n",
              "  <tbody>\n",
              "    <tr>\n",
              "      <th>DrDoeg</th>\n",
              "      <td>dada</td>\n",
              "      <td>dada</td>\n",
              "      <td>dada</td>\n",
              "      <td>dada</td>\n",
              "      <td>dada</td>\n",
              "      <td>dada</td>\n",
              "      <td>dada</td>\n",
              "      <td>dada</td>\n",
              "    </tr>\n",
              "    <tr>\n",
              "      <th>Mono</th>\n",
              "      <td>dada</td>\n",
              "      <td>dada</td>\n",
              "      <td>dada</td>\n",
              "      <td>dada</td>\n",
              "      <td>dada</td>\n",
              "      <td>dada</td>\n",
              "      <td>dada</td>\n",
              "      <td>dada</td>\n",
              "    </tr>\n",
              "    <tr>\n",
              "      <th>Homie</th>\n",
              "      <td>dada</td>\n",
              "      <td>dada</td>\n",
              "      <td>dada</td>\n",
              "      <td>dada</td>\n",
              "      <td>dada</td>\n",
              "      <td>dada</td>\n",
              "      <td>dada</td>\n",
              "      <td>dada</td>\n",
              "    </tr>\n",
              "    <tr>\n",
              "      <th>jojo</th>\n",
              "      <td>dada</td>\n",
              "      <td>dada</td>\n",
              "      <td>dada</td>\n",
              "      <td>dada</td>\n",
              "      <td>dada</td>\n",
              "      <td>dada</td>\n",
              "      <td>dada</td>\n",
              "      <td>dada</td>\n",
              "    </tr>\n",
              "    <tr>\n",
              "      <th>Captain</th>\n",
              "      <td>dada</td>\n",
              "      <td>dada</td>\n",
              "      <td>dada</td>\n",
              "      <td>dada</td>\n",
              "      <td>dada</td>\n",
              "      <td>dada</td>\n",
              "      <td>dada</td>\n",
              "      <td>dada</td>\n",
              "    </tr>\n",
              "    <tr>\n",
              "      <th>Ro</th>\n",
              "      <td>dada</td>\n",
              "      <td>dada</td>\n",
              "      <td>dada</td>\n",
              "      <td>dada</td>\n",
              "      <td>dada</td>\n",
              "      <td>dada</td>\n",
              "      <td>dada</td>\n",
              "      <td>dada</td>\n",
              "    </tr>\n",
              "    <tr>\n",
              "      <th>Xdos</th>\n",
              "      <td>dada</td>\n",
              "      <td>dada</td>\n",
              "      <td>dada</td>\n",
              "      <td>dada</td>\n",
              "      <td>dada</td>\n",
              "      <td>dada</td>\n",
              "      <td>dada</td>\n",
              "      <td>dada</td>\n",
              "    </tr>\n",
              "    <tr>\n",
              "      <th>fanny</th>\n",
              "      <td>dada</td>\n",
              "      <td>dada</td>\n",
              "      <td>dada</td>\n",
              "      <td>dada</td>\n",
              "      <td>dada</td>\n",
              "      <td>dada</td>\n",
              "      <td>dada</td>\n",
              "      <td>dada</td>\n",
              "    </tr>\n",
              "  </tbody>\n",
              "</table>\n",
              "</div>\n",
              "      <button class=\"colab-df-convert\" onclick=\"convertToInteractive('df-58d9e6f9-347f-430a-a93e-d31fa4242d8e')\"\n",
              "              title=\"Convert this dataframe to an interactive table.\"\n",
              "              style=\"display:none;\">\n",
              "        \n",
              "  <svg xmlns=\"http://www.w3.org/2000/svg\" height=\"24px\"viewBox=\"0 0 24 24\"\n",
              "       width=\"24px\">\n",
              "    <path d=\"M0 0h24v24H0V0z\" fill=\"none\"/>\n",
              "    <path d=\"M18.56 5.44l.94 2.06.94-2.06 2.06-.94-2.06-.94-.94-2.06-.94 2.06-2.06.94zm-11 1L8.5 8.5l.94-2.06 2.06-.94-2.06-.94L8.5 2.5l-.94 2.06-2.06.94zm10 10l.94 2.06.94-2.06 2.06-.94-2.06-.94-.94-2.06-.94 2.06-2.06.94z\"/><path d=\"M17.41 7.96l-1.37-1.37c-.4-.4-.92-.59-1.43-.59-.52 0-1.04.2-1.43.59L10.3 9.45l-7.72 7.72c-.78.78-.78 2.05 0 2.83L4 21.41c.39.39.9.59 1.41.59.51 0 1.02-.2 1.41-.59l7.78-7.78 2.81-2.81c.8-.78.8-2.07 0-2.86zM5.41 20L4 18.59l7.72-7.72 1.47 1.35L5.41 20z\"/>\n",
              "  </svg>\n",
              "      </button>\n",
              "      \n",
              "  <style>\n",
              "    .colab-df-container {\n",
              "      display:flex;\n",
              "      flex-wrap:wrap;\n",
              "      gap: 12px;\n",
              "    }\n",
              "\n",
              "    .colab-df-convert {\n",
              "      background-color: #E8F0FE;\n",
              "      border: none;\n",
              "      border-radius: 50%;\n",
              "      cursor: pointer;\n",
              "      display: none;\n",
              "      fill: #1967D2;\n",
              "      height: 32px;\n",
              "      padding: 0 0 0 0;\n",
              "      width: 32px;\n",
              "    }\n",
              "\n",
              "    .colab-df-convert:hover {\n",
              "      background-color: #E2EBFA;\n",
              "      box-shadow: 0px 1px 2px rgba(60, 64, 67, 0.3), 0px 1px 3px 1px rgba(60, 64, 67, 0.15);\n",
              "      fill: #174EA6;\n",
              "    }\n",
              "\n",
              "    [theme=dark] .colab-df-convert {\n",
              "      background-color: #3B4455;\n",
              "      fill: #D2E3FC;\n",
              "    }\n",
              "\n",
              "    [theme=dark] .colab-df-convert:hover {\n",
              "      background-color: #434B5C;\n",
              "      box-shadow: 0px 1px 3px 1px rgba(0, 0, 0, 0.15);\n",
              "      filter: drop-shadow(0px 1px 2px rgba(0, 0, 0, 0.3));\n",
              "      fill: #FFFFFF;\n",
              "    }\n",
              "  </style>\n",
              "\n",
              "      <script>\n",
              "        const buttonEl =\n",
              "          document.querySelector('#df-58d9e6f9-347f-430a-a93e-d31fa4242d8e button.colab-df-convert');\n",
              "        buttonEl.style.display =\n",
              "          google.colab.kernel.accessAllowed ? 'block' : 'none';\n",
              "\n",
              "        async function convertToInteractive(key) {\n",
              "          const element = document.querySelector('#df-58d9e6f9-347f-430a-a93e-d31fa4242d8e');\n",
              "          const dataTable =\n",
              "            await google.colab.kernel.invokeFunction('convertToInteractive',\n",
              "                                                     [key], {});\n",
              "          if (!dataTable) return;\n",
              "\n",
              "          const docLinkHtml = 'Like what you see? Visit the ' +\n",
              "            '<a target=\"_blank\" href=https://colab.research.google.com/notebooks/data_table.ipynb>data table notebook</a>'\n",
              "            + ' to learn more about interactive tables.';\n",
              "          element.innerHTML = '';\n",
              "          dataTable['output_type'] = 'display_data';\n",
              "          await google.colab.output.renderOutput(dataTable, element);\n",
              "          const docLink = document.createElement('div');\n",
              "          docLink.innerHTML = docLinkHtml;\n",
              "          element.appendChild(docLink);\n",
              "        }\n",
              "      </script>\n",
              "    </div>\n",
              "  </div>\n",
              "  "
            ],
            "text/plain": [
              "        DrDoeg  Mono Homie  jojo Captain    Ro  Xdos fanny\n",
              "DrDoeg    dada  dada  dada  dada    dada  dada  dada  dada\n",
              "Mono      dada  dada  dada  dada    dada  dada  dada  dada\n",
              "Homie     dada  dada  dada  dada    dada  dada  dada  dada\n",
              "jojo      dada  dada  dada  dada    dada  dada  dada  dada\n",
              "Captain   dada  dada  dada  dada    dada  dada  dada  dada\n",
              "Ro        dada  dada  dada  dada    dada  dada  dada  dada\n",
              "Xdos      dada  dada  dada  dada    dada  dada  dada  dada\n",
              "fanny     dada  dada  dada  dada    dada  dada  dada  dada"
            ]
          },
          "metadata": {},
          "execution_count": 146
        }
      ]
    },
    {
      "cell_type": "markdown",
      "source": [
        "Make a little recipient widget interface"
      ],
      "metadata": {
        "id": "yvx4jlTeyJir"
      }
    },
    {
      "cell_type": "code",
      "source": [
        "import ipywidgets as widgets\n",
        "w=widgets.Dropdown(\n",
        "    options=participants,\n",
        "    value='DrDoeg',\n",
        "    description='Recipient:',\n",
        "    disabled=False,\n",
        ")"
      ],
      "metadata": {
        "id": "g_vi5fjEyHjh"
      },
      "execution_count": 147,
      "outputs": []
    },
    {
      "cell_type": "code",
      "source": [
        "#have a look\n",
        "w"
      ],
      "metadata": {
        "colab": {
          "base_uri": "https://localhost:8080/",
          "height": 49,
          "referenced_widgets": [
            "5a560f3a756547d6a7f3936937f2c201",
            "652614dc4adb41f08bba3396150b0753",
            "99d1510dd7e34fbc9d460795882dd270"
          ]
        },
        "id": "CUFmHTv2g9G8",
        "outputId": "c6104f9f-7ef7-4d6d-b575-61b10017b081"
      },
      "execution_count": 148,
      "outputs": [
        {
          "output_type": "display_data",
          "data": {
            "application/vnd.jupyter.widget-view+json": {
              "model_id": "5a560f3a756547d6a7f3936937f2c201",
              "version_minor": 0,
              "version_major": 2
            },
            "text/plain": [
              "Dropdown(description='Recipient:', options=('DrDoeg', 'Mono', 'Homie', 'jojo', 'Captain', 'Ro', 'Xdos', 'fanny…"
            ]
          },
          "metadata": {}
        }
      ]
    },
    {
      "cell_type": "code",
      "source": [
        "w.value"
      ],
      "metadata": {
        "colab": {
          "base_uri": "https://localhost:8080/",
          "height": 35
        },
        "id": "7cRk6xtQixhy",
        "outputId": "5007d68d-df5d-4f94-b5c0-c080db185b0f"
      },
      "execution_count": 149,
      "outputs": [
        {
          "output_type": "execute_result",
          "data": {
            "application/vnd.google.colaboratory.intrinsic+json": {
              "type": "string"
            },
            "text/plain": [
              "'fanny'"
            ]
          },
          "metadata": {},
          "execution_count": 149
        }
      ]
    },
    {
      "cell_type": "code",
      "source": [
        "my_name"
      ],
      "metadata": {
        "colab": {
          "base_uri": "https://localhost:8080/",
          "height": 35
        },
        "id": "8GkfPn5xc77Q",
        "outputId": "69e5c6a7-bca0-4c21-86fd-36a629aaeac7"
      },
      "execution_count": 150,
      "outputs": [
        {
          "output_type": "execute_result",
          "data": {
            "application/vnd.google.colaboratory.intrinsic+json": {
              "type": "string"
            },
            "text/plain": [
              "'fanny'"
            ]
          },
          "metadata": {},
          "execution_count": 150
        }
      ]
    },
    {
      "cell_type": "markdown",
      "source": [
        "Creating messaging"
      ],
      "metadata": {
        "id": "B2Q_fDGQymjc"
      }
    },
    {
      "cell_type": "code",
      "source": [
        "p_dict=dict([ (e,i) for i,e in enumerate(participants)])\n",
        "p_dict"
      ],
      "metadata": {
        "colab": {
          "base_uri": "https://localhost:8080/"
        },
        "id": "Hth5kCTvoUbh",
        "outputId": "b62bd711-7876-49ec-bcdf-dbf50a7506fc"
      },
      "execution_count": 151,
      "outputs": [
        {
          "output_type": "execute_result",
          "data": {
            "text/plain": [
              "{'Captain': 4,\n",
              " 'DrDoeg': 0,\n",
              " 'Homie': 2,\n",
              " 'Mono': 1,\n",
              " 'Ro': 5,\n",
              " 'Xdos': 6,\n",
              " 'fanny': 7,\n",
              " 'jojo': 3}"
            ]
          },
          "metadata": {},
          "execution_count": 151
        }
      ]
    },
    {
      "cell_type": "markdown",
      "source": [
        "Select your message recipient using the widget."
      ],
      "metadata": {
        "id": "mqo0u-apythd"
      }
    },
    {
      "cell_type": "code",
      "source": [
        "print(f'You are {my_name}')\n",
        "print('Select a message recipient')\n",
        "w"
      ],
      "metadata": {
        "colab": {
          "base_uri": "https://localhost:8080/",
          "height": 84,
          "referenced_widgets": [
            "5a560f3a756547d6a7f3936937f2c201",
            "652614dc4adb41f08bba3396150b0753",
            "99d1510dd7e34fbc9d460795882dd270"
          ]
        },
        "id": "Y6Aq1Jmrv6ot",
        "outputId": "1dd55886-3e61-44c9-cfd5-23d4e6a35e32"
      },
      "execution_count": 152,
      "outputs": [
        {
          "output_type": "stream",
          "name": "stdout",
          "text": [
            "You are fanny\n",
            "Select a message recipient\n"
          ]
        },
        {
          "output_type": "display_data",
          "data": {
            "application/vnd.jupyter.widget-view+json": {
              "model_id": "5a560f3a756547d6a7f3936937f2c201",
              "version_minor": 0,
              "version_major": 2
            },
            "text/plain": [
              "Dropdown(description='Recipient:', index=7, options=('DrDoeg', 'Mono', 'Homie', 'jojo', 'Captain', 'Ro', 'Xdos…"
            ]
          },
          "metadata": {}
        }
      ]
    },
    {
      "cell_type": "markdown",
      "source": [
        "Write message \n",
        "\n",
        "Post to spreadsheet\n",
        "\n",
        "refresh dataframe from worksheet"
      ],
      "metadata": {
        "id": "aWKVdDH2y6P-"
      }
    },
    {
      "cell_type": "code",
      "source": [
        "message=input('send a message')\n",
        "write_cell=(p_dict[my_name]+2,p_dict[w.value]+1)\n",
        "sheet1.update_cell(*write_cell, message)\n",
        "dataframe1 = pd.DataFrame(sheet1.get_all_records())\n",
        "dataframe1.index=dataframe1.columns\n",
        "dataframe1"
      ],
      "metadata": {
        "colab": {
          "base_uri": "https://localhost:8080/",
          "height": 318
        },
        "id": "HgP-GlczsjiK",
        "outputId": "fa724c6c-258e-4ad0-9d40-df74b2df1223"
      },
      "execution_count": 153,
      "outputs": [
        {
          "name": "stdout",
          "output_type": "stream",
          "text": [
            "send a messageyo fanny\n"
          ]
        },
        {
          "output_type": "execute_result",
          "data": {
            "text/html": [
              "\n",
              "  <div id=\"df-4000bb4d-94c2-4bd3-8a84-8067079bd14a\">\n",
              "    <div class=\"colab-df-container\">\n",
              "      <div>\n",
              "<style scoped>\n",
              "    .dataframe tbody tr th:only-of-type {\n",
              "        vertical-align: middle;\n",
              "    }\n",
              "\n",
              "    .dataframe tbody tr th {\n",
              "        vertical-align: top;\n",
              "    }\n",
              "\n",
              "    .dataframe thead th {\n",
              "        text-align: right;\n",
              "    }\n",
              "</style>\n",
              "<table border=\"1\" class=\"dataframe\">\n",
              "  <thead>\n",
              "    <tr style=\"text-align: right;\">\n",
              "      <th></th>\n",
              "      <th>DrDoeg</th>\n",
              "      <th>Mono</th>\n",
              "      <th>Homie</th>\n",
              "      <th>jojo</th>\n",
              "      <th>Captain</th>\n",
              "      <th>Ro</th>\n",
              "      <th>Xdos</th>\n",
              "      <th>fanny</th>\n",
              "    </tr>\n",
              "  </thead>\n",
              "  <tbody>\n",
              "    <tr>\n",
              "      <th>DrDoeg</th>\n",
              "      <td>dada</td>\n",
              "      <td>dada</td>\n",
              "      <td>dada</td>\n",
              "      <td>dada</td>\n",
              "      <td>dada</td>\n",
              "      <td>dada</td>\n",
              "      <td>dada</td>\n",
              "      <td>dada</td>\n",
              "    </tr>\n",
              "    <tr>\n",
              "      <th>Mono</th>\n",
              "      <td>dada</td>\n",
              "      <td>dada</td>\n",
              "      <td>dada</td>\n",
              "      <td>dada</td>\n",
              "      <td>dada</td>\n",
              "      <td>dada</td>\n",
              "      <td>dada</td>\n",
              "      <td>dada</td>\n",
              "    </tr>\n",
              "    <tr>\n",
              "      <th>Homie</th>\n",
              "      <td>dada</td>\n",
              "      <td>dada</td>\n",
              "      <td>dada</td>\n",
              "      <td>dada</td>\n",
              "      <td>dada</td>\n",
              "      <td>dada</td>\n",
              "      <td>dada</td>\n",
              "      <td>dada</td>\n",
              "    </tr>\n",
              "    <tr>\n",
              "      <th>jojo</th>\n",
              "      <td>dada</td>\n",
              "      <td>dada</td>\n",
              "      <td>dada</td>\n",
              "      <td>dada</td>\n",
              "      <td>dada</td>\n",
              "      <td>dada</td>\n",
              "      <td>dada</td>\n",
              "      <td>dada</td>\n",
              "    </tr>\n",
              "    <tr>\n",
              "      <th>Captain</th>\n",
              "      <td>dada</td>\n",
              "      <td>dada</td>\n",
              "      <td>dada</td>\n",
              "      <td>dada</td>\n",
              "      <td>dada</td>\n",
              "      <td>dada</td>\n",
              "      <td>dada</td>\n",
              "      <td>dada</td>\n",
              "    </tr>\n",
              "    <tr>\n",
              "      <th>Ro</th>\n",
              "      <td>dada</td>\n",
              "      <td>dada</td>\n",
              "      <td>dada</td>\n",
              "      <td>dada</td>\n",
              "      <td>dada</td>\n",
              "      <td>dada</td>\n",
              "      <td>dada</td>\n",
              "      <td>dada</td>\n",
              "    </tr>\n",
              "    <tr>\n",
              "      <th>Xdos</th>\n",
              "      <td>dada</td>\n",
              "      <td>dada</td>\n",
              "      <td>dada</td>\n",
              "      <td>dada</td>\n",
              "      <td>dada</td>\n",
              "      <td>dada</td>\n",
              "      <td>dada</td>\n",
              "      <td>dada</td>\n",
              "    </tr>\n",
              "    <tr>\n",
              "      <th>fanny</th>\n",
              "      <td>dada</td>\n",
              "      <td>dada</td>\n",
              "      <td>dada</td>\n",
              "      <td>dada</td>\n",
              "      <td>dada</td>\n",
              "      <td>dada</td>\n",
              "      <td>dada</td>\n",
              "      <td>yo fanny</td>\n",
              "    </tr>\n",
              "  </tbody>\n",
              "</table>\n",
              "</div>\n",
              "      <button class=\"colab-df-convert\" onclick=\"convertToInteractive('df-4000bb4d-94c2-4bd3-8a84-8067079bd14a')\"\n",
              "              title=\"Convert this dataframe to an interactive table.\"\n",
              "              style=\"display:none;\">\n",
              "        \n",
              "  <svg xmlns=\"http://www.w3.org/2000/svg\" height=\"24px\"viewBox=\"0 0 24 24\"\n",
              "       width=\"24px\">\n",
              "    <path d=\"M0 0h24v24H0V0z\" fill=\"none\"/>\n",
              "    <path d=\"M18.56 5.44l.94 2.06.94-2.06 2.06-.94-2.06-.94-.94-2.06-.94 2.06-2.06.94zm-11 1L8.5 8.5l.94-2.06 2.06-.94-2.06-.94L8.5 2.5l-.94 2.06-2.06.94zm10 10l.94 2.06.94-2.06 2.06-.94-2.06-.94-.94-2.06-.94 2.06-2.06.94z\"/><path d=\"M17.41 7.96l-1.37-1.37c-.4-.4-.92-.59-1.43-.59-.52 0-1.04.2-1.43.59L10.3 9.45l-7.72 7.72c-.78.78-.78 2.05 0 2.83L4 21.41c.39.39.9.59 1.41.59.51 0 1.02-.2 1.41-.59l7.78-7.78 2.81-2.81c.8-.78.8-2.07 0-2.86zM5.41 20L4 18.59l7.72-7.72 1.47 1.35L5.41 20z\"/>\n",
              "  </svg>\n",
              "      </button>\n",
              "      \n",
              "  <style>\n",
              "    .colab-df-container {\n",
              "      display:flex;\n",
              "      flex-wrap:wrap;\n",
              "      gap: 12px;\n",
              "    }\n",
              "\n",
              "    .colab-df-convert {\n",
              "      background-color: #E8F0FE;\n",
              "      border: none;\n",
              "      border-radius: 50%;\n",
              "      cursor: pointer;\n",
              "      display: none;\n",
              "      fill: #1967D2;\n",
              "      height: 32px;\n",
              "      padding: 0 0 0 0;\n",
              "      width: 32px;\n",
              "    }\n",
              "\n",
              "    .colab-df-convert:hover {\n",
              "      background-color: #E2EBFA;\n",
              "      box-shadow: 0px 1px 2px rgba(60, 64, 67, 0.3), 0px 1px 3px 1px rgba(60, 64, 67, 0.15);\n",
              "      fill: #174EA6;\n",
              "    }\n",
              "\n",
              "    [theme=dark] .colab-df-convert {\n",
              "      background-color: #3B4455;\n",
              "      fill: #D2E3FC;\n",
              "    }\n",
              "\n",
              "    [theme=dark] .colab-df-convert:hover {\n",
              "      background-color: #434B5C;\n",
              "      box-shadow: 0px 1px 3px 1px rgba(0, 0, 0, 0.15);\n",
              "      filter: drop-shadow(0px 1px 2px rgba(0, 0, 0, 0.3));\n",
              "      fill: #FFFFFF;\n",
              "    }\n",
              "  </style>\n",
              "\n",
              "      <script>\n",
              "        const buttonEl =\n",
              "          document.querySelector('#df-4000bb4d-94c2-4bd3-8a84-8067079bd14a button.colab-df-convert');\n",
              "        buttonEl.style.display =\n",
              "          google.colab.kernel.accessAllowed ? 'block' : 'none';\n",
              "\n",
              "        async function convertToInteractive(key) {\n",
              "          const element = document.querySelector('#df-4000bb4d-94c2-4bd3-8a84-8067079bd14a');\n",
              "          const dataTable =\n",
              "            await google.colab.kernel.invokeFunction('convertToInteractive',\n",
              "                                                     [key], {});\n",
              "          if (!dataTable) return;\n",
              "\n",
              "          const docLinkHtml = 'Like what you see? Visit the ' +\n",
              "            '<a target=\"_blank\" href=https://colab.research.google.com/notebooks/data_table.ipynb>data table notebook</a>'\n",
              "            + ' to learn more about interactive tables.';\n",
              "          element.innerHTML = '';\n",
              "          dataTable['output_type'] = 'display_data';\n",
              "          await google.colab.output.renderOutput(dataTable, element);\n",
              "          const docLink = document.createElement('div');\n",
              "          docLink.innerHTML = docLinkHtml;\n",
              "          element.appendChild(docLink);\n",
              "        }\n",
              "      </script>\n",
              "    </div>\n",
              "  </div>\n",
              "  "
            ],
            "text/plain": [
              "        DrDoeg  Mono Homie  jojo Captain    Ro  Xdos     fanny\n",
              "DrDoeg    dada  dada  dada  dada    dada  dada  dada      dada\n",
              "Mono      dada  dada  dada  dada    dada  dada  dada      dada\n",
              "Homie     dada  dada  dada  dada    dada  dada  dada      dada\n",
              "jojo      dada  dada  dada  dada    dada  dada  dada      dada\n",
              "Captain   dada  dada  dada  dada    dada  dada  dada      dada\n",
              "Ro        dada  dada  dada  dada    dada  dada  dada      dada\n",
              "Xdos      dada  dada  dada  dada    dada  dada  dada      dada\n",
              "fanny     dada  dada  dada  dada    dada  dada  dada  yo fanny"
            ]
          },
          "metadata": {},
          "execution_count": 153
        }
      ]
    },
    {
      "cell_type": "markdown",
      "source": [
        "# Encrypted Messaging"
      ],
      "metadata": {
        "id": "FLOxmlhKzbuB"
      }
    },
    {
      "cell_type": "markdown",
      "source": [
        ""
      ],
      "metadata": {
        "id": "SqcTexPzjXuR"
      }
    },
    {
      "cell_type": "code",
      "source": [
        "dataframe2 = pd.DataFrame(sheet2.get_all_records())\n",
        "dataframe2.index=dataframe2.columns\n",
        "dataframe2"
      ],
      "metadata": {
        "colab": {
          "base_uri": "https://localhost:8080/",
          "height": 300
        },
        "id": "u5cVM59SwqoR",
        "outputId": "f6195d7d-f565-4f4f-e083-34ed2bb1e691"
      },
      "execution_count": 154,
      "outputs": [
        {
          "output_type": "execute_result",
          "data": {
            "text/html": [
              "\n",
              "  <div id=\"df-ab439d04-278e-4cc7-b904-6536832833d1\">\n",
              "    <div class=\"colab-df-container\">\n",
              "      <div>\n",
              "<style scoped>\n",
              "    .dataframe tbody tr th:only-of-type {\n",
              "        vertical-align: middle;\n",
              "    }\n",
              "\n",
              "    .dataframe tbody tr th {\n",
              "        vertical-align: top;\n",
              "    }\n",
              "\n",
              "    .dataframe thead th {\n",
              "        text-align: right;\n",
              "    }\n",
              "</style>\n",
              "<table border=\"1\" class=\"dataframe\">\n",
              "  <thead>\n",
              "    <tr style=\"text-align: right;\">\n",
              "      <th></th>\n",
              "      <th>DrDoeg</th>\n",
              "      <th>Mono</th>\n",
              "      <th>Homie</th>\n",
              "      <th>jojo</th>\n",
              "      <th>Captain</th>\n",
              "      <th>Ro</th>\n",
              "      <th>Xdos</th>\n",
              "      <th>fanny</th>\n",
              "    </tr>\n",
              "  </thead>\n",
              "  <tbody>\n",
              "    <tr>\n",
              "      <th>DrDoeg</th>\n",
              "      <td>dada</td>\n",
              "      <td>dada</td>\n",
              "      <td>dada</td>\n",
              "      <td>dada</td>\n",
              "      <td>dada</td>\n",
              "      <td>dada</td>\n",
              "      <td>dada</td>\n",
              "      <td>dada</td>\n",
              "    </tr>\n",
              "    <tr>\n",
              "      <th>Mono</th>\n",
              "      <td>dada</td>\n",
              "      <td>dada</td>\n",
              "      <td>dada</td>\n",
              "      <td>dada</td>\n",
              "      <td>dada</td>\n",
              "      <td>dada</td>\n",
              "      <td>dada</td>\n",
              "      <td>dada</td>\n",
              "    </tr>\n",
              "    <tr>\n",
              "      <th>Homie</th>\n",
              "      <td>dada</td>\n",
              "      <td>dada</td>\n",
              "      <td>dada</td>\n",
              "      <td>dada</td>\n",
              "      <td>dada</td>\n",
              "      <td>dada</td>\n",
              "      <td>dada</td>\n",
              "      <td>dada</td>\n",
              "    </tr>\n",
              "    <tr>\n",
              "      <th>jojo</th>\n",
              "      <td>dada</td>\n",
              "      <td>dada</td>\n",
              "      <td>dada</td>\n",
              "      <td>dada</td>\n",
              "      <td>dada</td>\n",
              "      <td>dada</td>\n",
              "      <td>dada</td>\n",
              "      <td>dada</td>\n",
              "    </tr>\n",
              "    <tr>\n",
              "      <th>Captain</th>\n",
              "      <td>dada</td>\n",
              "      <td>dada</td>\n",
              "      <td>dada</td>\n",
              "      <td>dada</td>\n",
              "      <td>dada</td>\n",
              "      <td>dada</td>\n",
              "      <td>dada</td>\n",
              "      <td>dada</td>\n",
              "    </tr>\n",
              "    <tr>\n",
              "      <th>Ro</th>\n",
              "      <td>dada</td>\n",
              "      <td>dada</td>\n",
              "      <td>dada</td>\n",
              "      <td>dada</td>\n",
              "      <td>dada</td>\n",
              "      <td>dada</td>\n",
              "      <td>dada</td>\n",
              "      <td>dada</td>\n",
              "    </tr>\n",
              "    <tr>\n",
              "      <th>Xdos</th>\n",
              "      <td>dada</td>\n",
              "      <td>dada</td>\n",
              "      <td>dada</td>\n",
              "      <td>dada</td>\n",
              "      <td>dada</td>\n",
              "      <td>dada</td>\n",
              "      <td>dada</td>\n",
              "      <td>dada</td>\n",
              "    </tr>\n",
              "    <tr>\n",
              "      <th>fanny</th>\n",
              "      <td>dada</td>\n",
              "      <td>dada</td>\n",
              "      <td>dada</td>\n",
              "      <td>dada</td>\n",
              "      <td>dada</td>\n",
              "      <td>dada</td>\n",
              "      <td>dada</td>\n",
              "      <td>dada</td>\n",
              "    </tr>\n",
              "  </tbody>\n",
              "</table>\n",
              "</div>\n",
              "      <button class=\"colab-df-convert\" onclick=\"convertToInteractive('df-ab439d04-278e-4cc7-b904-6536832833d1')\"\n",
              "              title=\"Convert this dataframe to an interactive table.\"\n",
              "              style=\"display:none;\">\n",
              "        \n",
              "  <svg xmlns=\"http://www.w3.org/2000/svg\" height=\"24px\"viewBox=\"0 0 24 24\"\n",
              "       width=\"24px\">\n",
              "    <path d=\"M0 0h24v24H0V0z\" fill=\"none\"/>\n",
              "    <path d=\"M18.56 5.44l.94 2.06.94-2.06 2.06-.94-2.06-.94-.94-2.06-.94 2.06-2.06.94zm-11 1L8.5 8.5l.94-2.06 2.06-.94-2.06-.94L8.5 2.5l-.94 2.06-2.06.94zm10 10l.94 2.06.94-2.06 2.06-.94-2.06-.94-.94-2.06-.94 2.06-2.06.94z\"/><path d=\"M17.41 7.96l-1.37-1.37c-.4-.4-.92-.59-1.43-.59-.52 0-1.04.2-1.43.59L10.3 9.45l-7.72 7.72c-.78.78-.78 2.05 0 2.83L4 21.41c.39.39.9.59 1.41.59.51 0 1.02-.2 1.41-.59l7.78-7.78 2.81-2.81c.8-.78.8-2.07 0-2.86zM5.41 20L4 18.59l7.72-7.72 1.47 1.35L5.41 20z\"/>\n",
              "  </svg>\n",
              "      </button>\n",
              "      \n",
              "  <style>\n",
              "    .colab-df-container {\n",
              "      display:flex;\n",
              "      flex-wrap:wrap;\n",
              "      gap: 12px;\n",
              "    }\n",
              "\n",
              "    .colab-df-convert {\n",
              "      background-color: #E8F0FE;\n",
              "      border: none;\n",
              "      border-radius: 50%;\n",
              "      cursor: pointer;\n",
              "      display: none;\n",
              "      fill: #1967D2;\n",
              "      height: 32px;\n",
              "      padding: 0 0 0 0;\n",
              "      width: 32px;\n",
              "    }\n",
              "\n",
              "    .colab-df-convert:hover {\n",
              "      background-color: #E2EBFA;\n",
              "      box-shadow: 0px 1px 2px rgba(60, 64, 67, 0.3), 0px 1px 3px 1px rgba(60, 64, 67, 0.15);\n",
              "      fill: #174EA6;\n",
              "    }\n",
              "\n",
              "    [theme=dark] .colab-df-convert {\n",
              "      background-color: #3B4455;\n",
              "      fill: #D2E3FC;\n",
              "    }\n",
              "\n",
              "    [theme=dark] .colab-df-convert:hover {\n",
              "      background-color: #434B5C;\n",
              "      box-shadow: 0px 1px 3px 1px rgba(0, 0, 0, 0.15);\n",
              "      filter: drop-shadow(0px 1px 2px rgba(0, 0, 0, 0.3));\n",
              "      fill: #FFFFFF;\n",
              "    }\n",
              "  </style>\n",
              "\n",
              "      <script>\n",
              "        const buttonEl =\n",
              "          document.querySelector('#df-ab439d04-278e-4cc7-b904-6536832833d1 button.colab-df-convert');\n",
              "        buttonEl.style.display =\n",
              "          google.colab.kernel.accessAllowed ? 'block' : 'none';\n",
              "\n",
              "        async function convertToInteractive(key) {\n",
              "          const element = document.querySelector('#df-ab439d04-278e-4cc7-b904-6536832833d1');\n",
              "          const dataTable =\n",
              "            await google.colab.kernel.invokeFunction('convertToInteractive',\n",
              "                                                     [key], {});\n",
              "          if (!dataTable) return;\n",
              "\n",
              "          const docLinkHtml = 'Like what you see? Visit the ' +\n",
              "            '<a target=\"_blank\" href=https://colab.research.google.com/notebooks/data_table.ipynb>data table notebook</a>'\n",
              "            + ' to learn more about interactive tables.';\n",
              "          element.innerHTML = '';\n",
              "          dataTable['output_type'] = 'display_data';\n",
              "          await google.colab.output.renderOutput(dataTable, element);\n",
              "          const docLink = document.createElement('div');\n",
              "          docLink.innerHTML = docLinkHtml;\n",
              "          element.appendChild(docLink);\n",
              "        }\n",
              "      </script>\n",
              "    </div>\n",
              "  </div>\n",
              "  "
            ],
            "text/plain": [
              "        DrDoeg  Mono Homie  jojo Captain    Ro  Xdos fanny\n",
              "DrDoeg    dada  dada  dada  dada    dada  dada  dada  dada\n",
              "Mono      dada  dada  dada  dada    dada  dada  dada  dada\n",
              "Homie     dada  dada  dada  dada    dada  dada  dada  dada\n",
              "jojo      dada  dada  dada  dada    dada  dada  dada  dada\n",
              "Captain   dada  dada  dada  dada    dada  dada  dada  dada\n",
              "Ro        dada  dada  dada  dada    dada  dada  dada  dada\n",
              "Xdos      dada  dada  dada  dada    dada  dada  dada  dada\n",
              "fanny     dada  dada  dada  dada    dada  dada  dada  dada"
            ]
          },
          "metadata": {},
          "execution_count": 154
        }
      ]
    },
    {
      "cell_type": "code",
      "source": [
        "def encrypt_message(hexPubKey,message):\n",
        "    if type(message)!=bytes:\n",
        "        message=message.encode()\n",
        "    return ecies.encrypt(hexPubKey,message).hex()"
      ],
      "metadata": {
        "id": "zUnwSc5MYtx0"
      },
      "execution_count": 155,
      "outputs": []
    },
    {
      "cell_type": "code",
      "source": [
        "w"
      ],
      "metadata": {
        "colab": {
          "base_uri": "https://localhost:8080/",
          "height": 49,
          "referenced_widgets": [
            "5a560f3a756547d6a7f3936937f2c201",
            "652614dc4adb41f08bba3396150b0753",
            "99d1510dd7e34fbc9d460795882dd270"
          ]
        },
        "id": "54B8FB32nLxN",
        "outputId": "839f439e-85a8-4944-80ac-3f6754122895"
      },
      "execution_count": 156,
      "outputs": [
        {
          "output_type": "display_data",
          "data": {
            "application/vnd.jupyter.widget-view+json": {
              "model_id": "5a560f3a756547d6a7f3936937f2c201",
              "version_minor": 0,
              "version_major": 2
            },
            "text/plain": [
              "Dropdown(description='Recipient:', index=7, options=('DrDoeg', 'Mono', 'Homie', 'jojo', 'Captain', 'Ro', 'Xdos…"
            ]
          },
          "metadata": {}
        }
      ]
    },
    {
      "cell_type": "code",
      "source": [
        "encrypt_message(dataframe.set_index('name').pubkey[w.value],'hey guys hey hey')"
      ],
      "metadata": {
        "colab": {
          "base_uri": "https://localhost:8080/",
          "height": 53
        },
        "id": "SQF7GYL6Shi1",
        "outputId": "6a6060c8-0f3b-470f-81d0-5938bb06517b"
      },
      "execution_count": 157,
      "outputs": [
        {
          "output_type": "execute_result",
          "data": {
            "application/vnd.google.colaboratory.intrinsic+json": {
              "type": "string"
            },
            "text/plain": [
              "'0463a91c178e1b195110265b0f3d5641cc54633db41ebd8a17533839ba3c857b3a066c92ba64630dc600aa79e534eb6f77f90e3bfab4d0bbea5c4d92c5afaaaa2877ad6ed62680147d7304cb723bf4b6c01aa170d8fe92c9cabb6d8ad28ecc2cbd7e0d510111a9277479078930ab2b6c12'"
            ]
          },
          "metadata": {},
          "execution_count": 157
        }
      ]
    },
    {
      "cell_type": "code",
      "source": [
        "message=input('send an encrypted message')\n",
        "write_cell=(p_dict[my_name]+2,p_dict[w.value]+1)\n",
        "sheet2.update_cell(*write_cell, encrypt_message(dataframe.set_index('name').pubkey[w.value],message))\n",
        "dataframe2 = pd.DataFrame(sheet2.get_all_records())\n",
        "dataframe2.index=dataframe2.columns\n",
        "dataframe2"
      ],
      "metadata": {
        "colab": {
          "base_uri": "https://localhost:8080/",
          "height": 318
        },
        "id": "57EM8VGFas_B",
        "outputId": "b3621fbf-de96-41a4-9510-f9d418ab23f2"
      },
      "execution_count": 158,
      "outputs": [
        {
          "name": "stdout",
          "output_type": "stream",
          "text": [
            "send an encrypted messagehey hey\n"
          ]
        },
        {
          "output_type": "execute_result",
          "data": {
            "text/html": [
              "\n",
              "  <div id=\"df-69360866-02cd-4628-977c-b428abd3994c\">\n",
              "    <div class=\"colab-df-container\">\n",
              "      <div>\n",
              "<style scoped>\n",
              "    .dataframe tbody tr th:only-of-type {\n",
              "        vertical-align: middle;\n",
              "    }\n",
              "\n",
              "    .dataframe tbody tr th {\n",
              "        vertical-align: top;\n",
              "    }\n",
              "\n",
              "    .dataframe thead th {\n",
              "        text-align: right;\n",
              "    }\n",
              "</style>\n",
              "<table border=\"1\" class=\"dataframe\">\n",
              "  <thead>\n",
              "    <tr style=\"text-align: right;\">\n",
              "      <th></th>\n",
              "      <th>DrDoeg</th>\n",
              "      <th>Mono</th>\n",
              "      <th>Homie</th>\n",
              "      <th>jojo</th>\n",
              "      <th>Captain</th>\n",
              "      <th>Ro</th>\n",
              "      <th>Xdos</th>\n",
              "      <th>fanny</th>\n",
              "    </tr>\n",
              "  </thead>\n",
              "  <tbody>\n",
              "    <tr>\n",
              "      <th>DrDoeg</th>\n",
              "      <td>dada</td>\n",
              "      <td>dada</td>\n",
              "      <td>dada</td>\n",
              "      <td>dada</td>\n",
              "      <td>dada</td>\n",
              "      <td>dada</td>\n",
              "      <td>dada</td>\n",
              "      <td>dada</td>\n",
              "    </tr>\n",
              "    <tr>\n",
              "      <th>Mono</th>\n",
              "      <td>dada</td>\n",
              "      <td>dada</td>\n",
              "      <td>dada</td>\n",
              "      <td>dada</td>\n",
              "      <td>dada</td>\n",
              "      <td>dada</td>\n",
              "      <td>dada</td>\n",
              "      <td>dada</td>\n",
              "    </tr>\n",
              "    <tr>\n",
              "      <th>Homie</th>\n",
              "      <td>dada</td>\n",
              "      <td>dada</td>\n",
              "      <td>dada</td>\n",
              "      <td>dada</td>\n",
              "      <td>dada</td>\n",
              "      <td>dada</td>\n",
              "      <td>dada</td>\n",
              "      <td>dada</td>\n",
              "    </tr>\n",
              "    <tr>\n",
              "      <th>jojo</th>\n",
              "      <td>dada</td>\n",
              "      <td>dada</td>\n",
              "      <td>dada</td>\n",
              "      <td>dada</td>\n",
              "      <td>dada</td>\n",
              "      <td>dada</td>\n",
              "      <td>dada</td>\n",
              "      <td>dada</td>\n",
              "    </tr>\n",
              "    <tr>\n",
              "      <th>Captain</th>\n",
              "      <td>dada</td>\n",
              "      <td>dada</td>\n",
              "      <td>dada</td>\n",
              "      <td>dada</td>\n",
              "      <td>dada</td>\n",
              "      <td>dada</td>\n",
              "      <td>dada</td>\n",
              "      <td>dada</td>\n",
              "    </tr>\n",
              "    <tr>\n",
              "      <th>Ro</th>\n",
              "      <td>dada</td>\n",
              "      <td>dada</td>\n",
              "      <td>dada</td>\n",
              "      <td>dada</td>\n",
              "      <td>dada</td>\n",
              "      <td>dada</td>\n",
              "      <td>dada</td>\n",
              "      <td>dada</td>\n",
              "    </tr>\n",
              "    <tr>\n",
              "      <th>Xdos</th>\n",
              "      <td>dada</td>\n",
              "      <td>dada</td>\n",
              "      <td>dada</td>\n",
              "      <td>dada</td>\n",
              "      <td>dada</td>\n",
              "      <td>dada</td>\n",
              "      <td>dada</td>\n",
              "      <td>dada</td>\n",
              "    </tr>\n",
              "    <tr>\n",
              "      <th>fanny</th>\n",
              "      <td>dada</td>\n",
              "      <td>dada</td>\n",
              "      <td>dada</td>\n",
              "      <td>dada</td>\n",
              "      <td>dada</td>\n",
              "      <td>dada</td>\n",
              "      <td>dada</td>\n",
              "      <td>04ab9ca9ef0aea91234b6e36c2068b643a15a605a9bc5e...</td>\n",
              "    </tr>\n",
              "  </tbody>\n",
              "</table>\n",
              "</div>\n",
              "      <button class=\"colab-df-convert\" onclick=\"convertToInteractive('df-69360866-02cd-4628-977c-b428abd3994c')\"\n",
              "              title=\"Convert this dataframe to an interactive table.\"\n",
              "              style=\"display:none;\">\n",
              "        \n",
              "  <svg xmlns=\"http://www.w3.org/2000/svg\" height=\"24px\"viewBox=\"0 0 24 24\"\n",
              "       width=\"24px\">\n",
              "    <path d=\"M0 0h24v24H0V0z\" fill=\"none\"/>\n",
              "    <path d=\"M18.56 5.44l.94 2.06.94-2.06 2.06-.94-2.06-.94-.94-2.06-.94 2.06-2.06.94zm-11 1L8.5 8.5l.94-2.06 2.06-.94-2.06-.94L8.5 2.5l-.94 2.06-2.06.94zm10 10l.94 2.06.94-2.06 2.06-.94-2.06-.94-.94-2.06-.94 2.06-2.06.94z\"/><path d=\"M17.41 7.96l-1.37-1.37c-.4-.4-.92-.59-1.43-.59-.52 0-1.04.2-1.43.59L10.3 9.45l-7.72 7.72c-.78.78-.78 2.05 0 2.83L4 21.41c.39.39.9.59 1.41.59.51 0 1.02-.2 1.41-.59l7.78-7.78 2.81-2.81c.8-.78.8-2.07 0-2.86zM5.41 20L4 18.59l7.72-7.72 1.47 1.35L5.41 20z\"/>\n",
              "  </svg>\n",
              "      </button>\n",
              "      \n",
              "  <style>\n",
              "    .colab-df-container {\n",
              "      display:flex;\n",
              "      flex-wrap:wrap;\n",
              "      gap: 12px;\n",
              "    }\n",
              "\n",
              "    .colab-df-convert {\n",
              "      background-color: #E8F0FE;\n",
              "      border: none;\n",
              "      border-radius: 50%;\n",
              "      cursor: pointer;\n",
              "      display: none;\n",
              "      fill: #1967D2;\n",
              "      height: 32px;\n",
              "      padding: 0 0 0 0;\n",
              "      width: 32px;\n",
              "    }\n",
              "\n",
              "    .colab-df-convert:hover {\n",
              "      background-color: #E2EBFA;\n",
              "      box-shadow: 0px 1px 2px rgba(60, 64, 67, 0.3), 0px 1px 3px 1px rgba(60, 64, 67, 0.15);\n",
              "      fill: #174EA6;\n",
              "    }\n",
              "\n",
              "    [theme=dark] .colab-df-convert {\n",
              "      background-color: #3B4455;\n",
              "      fill: #D2E3FC;\n",
              "    }\n",
              "\n",
              "    [theme=dark] .colab-df-convert:hover {\n",
              "      background-color: #434B5C;\n",
              "      box-shadow: 0px 1px 3px 1px rgba(0, 0, 0, 0.15);\n",
              "      filter: drop-shadow(0px 1px 2px rgba(0, 0, 0, 0.3));\n",
              "      fill: #FFFFFF;\n",
              "    }\n",
              "  </style>\n",
              "\n",
              "      <script>\n",
              "        const buttonEl =\n",
              "          document.querySelector('#df-69360866-02cd-4628-977c-b428abd3994c button.colab-df-convert');\n",
              "        buttonEl.style.display =\n",
              "          google.colab.kernel.accessAllowed ? 'block' : 'none';\n",
              "\n",
              "        async function convertToInteractive(key) {\n",
              "          const element = document.querySelector('#df-69360866-02cd-4628-977c-b428abd3994c');\n",
              "          const dataTable =\n",
              "            await google.colab.kernel.invokeFunction('convertToInteractive',\n",
              "                                                     [key], {});\n",
              "          if (!dataTable) return;\n",
              "\n",
              "          const docLinkHtml = 'Like what you see? Visit the ' +\n",
              "            '<a target=\"_blank\" href=https://colab.research.google.com/notebooks/data_table.ipynb>data table notebook</a>'\n",
              "            + ' to learn more about interactive tables.';\n",
              "          element.innerHTML = '';\n",
              "          dataTable['output_type'] = 'display_data';\n",
              "          await google.colab.output.renderOutput(dataTable, element);\n",
              "          const docLink = document.createElement('div');\n",
              "          docLink.innerHTML = docLinkHtml;\n",
              "          element.appendChild(docLink);\n",
              "        }\n",
              "      </script>\n",
              "    </div>\n",
              "  </div>\n",
              "  "
            ],
            "text/plain": [
              "        DrDoeg  Mono  ...  Xdos                                              fanny\n",
              "DrDoeg    dada  dada  ...  dada                                               dada\n",
              "Mono      dada  dada  ...  dada                                               dada\n",
              "Homie     dada  dada  ...  dada                                               dada\n",
              "jojo      dada  dada  ...  dada                                               dada\n",
              "Captain   dada  dada  ...  dada                                               dada\n",
              "Ro        dada  dada  ...  dada                                               dada\n",
              "Xdos      dada  dada  ...  dada                                               dada\n",
              "fanny     dada  dada  ...  dada  04ab9ca9ef0aea91234b6e36c2068b643a15a605a9bc5e...\n",
              "\n",
              "[8 rows x 8 columns]"
            ]
          },
          "metadata": {},
          "execution_count": 158
        }
      ]
    },
    {
      "cell_type": "code",
      "source": [
        "def import_privKey(path,password):\n",
        "  import hashlib\n",
        "  if type(password)!=bytes:\n",
        "    password=password.encode()\n",
        "  f=open(path,'rb')\n",
        "  decrypted_bytes=ecies.aes_decrypt(key=hashlib.sha256(password).digest(),cipher_text=f.read())\n",
        "  privKey=eth_keys.keys.PrivateKey(decrypted_bytes)\n",
        "  f.close()\n",
        "  return privKey\n",
        "\n",
        "def decrypt_message(privKey,cipherhex):\n",
        "    ciphertext=bytes.fromhex(cipherhex)\n",
        "    try:\n",
        "      return ecies.decrypt(privKey.to_hex(),ciphertext)\n",
        "    except:\n",
        "      return None"
      ],
      "metadata": {
        "id": "nOof0MakbGX8"
      },
      "execution_count": 159,
      "outputs": []
    },
    {
      "cell_type": "code",
      "source": [
        "decrypt_message(import_privKey('llaves/prvkey1.eck',''),dataframe2[my_name][my_name])\n"
      ],
      "metadata": {
        "colab": {
          "base_uri": "https://localhost:8080/"
        },
        "id": "JTDE-5zIg9vq",
        "outputId": "63ef8af9-3797-41d7-80e3-460d09508618"
      },
      "execution_count": 160,
      "outputs": [
        {
          "output_type": "execute_result",
          "data": {
            "text/plain": [
              "b'hey hey'"
            ]
          },
          "metadata": {},
          "execution_count": 160
        }
      ]
    },
    {
      "cell_type": "code",
      "source": [
        "k=import_privKey('llaves/prvkey1.eck','')\n",
        "tr=dataframe2[my_name].apply(lambda x: decrypt_message(k,x))\n",
        "tr"
      ],
      "metadata": {
        "colab": {
          "base_uri": "https://localhost:8080/"
        },
        "id": "-6xzJ10Be8zD",
        "outputId": "d4d24ada-3370-478f-8242-e1feeb307111"
      },
      "execution_count": 170,
      "outputs": [
        {
          "output_type": "execute_result",
          "data": {
            "text/plain": [
              "DrDoeg           None\n",
              "Mono             None\n",
              "Homie            None\n",
              "jojo             None\n",
              "Captain          None\n",
              "Ro               None\n",
              "Xdos             None\n",
              "fanny      b'hey hey'\n",
              "Name: fanny, dtype: object"
            ]
          },
          "metadata": {},
          "execution_count": 170
        }
      ]
    },
    {
      "cell_type": "code",
      "source": [
        ""
      ],
      "metadata": {
        "id": "zK4hUxnFeLfr"
      },
      "execution_count": null,
      "outputs": []
    },
    {
      "cell_type": "code",
      "source": [
        "def sign_message(privKey,message):\n",
        "    if type(message)!=bytes:\n",
        "        message=message.encode()\n",
        "    signature= privKey.sign_msg(message)\n",
        "    return signature.to_bytes().hex()"
      ],
      "metadata": {
        "id": "qlpB7gF3mQlz"
      },
      "execution_count": 167,
      "outputs": []
    },
    {
      "cell_type": "code",
      "source": [
        "mess=input('message')\n",
        "mess_sig=sign_message(import_privKey('llaves/prvkey1.eck',''),mess)\n",
        "mess_sig"
      ],
      "metadata": {
        "colab": {
          "base_uri": "https://localhost:8080/",
          "height": 53
        },
        "id": "xdP29gqtrvED",
        "outputId": "d1d2205d-c48d-49cb-dfbb-393ff9609c7a"
      },
      "execution_count": 181,
      "outputs": [
        {
          "name": "stdout",
          "output_type": "stream",
          "text": [
            "messagehey guys\n"
          ]
        },
        {
          "output_type": "execute_result",
          "data": {
            "application/vnd.google.colaboratory.intrinsic+json": {
              "type": "string"
            },
            "text/plain": [
              "'e150cecc1e4eab64056825d45ca7ac00d18baaf9467f5a43c42e608339c502e23ac4fdf652b05f10f736eea2359c5163592a31f1194deeb61d1a3b2669e3e49d01'"
            ]
          },
          "metadata": {},
          "execution_count": 181
        }
      ]
    },
    {
      "cell_type": "code",
      "source": [
        "emess=encrypt_message(pubkey1,mess)\n",
        "emess"
      ],
      "metadata": {
        "id": "c2XYMcf4VS5b",
        "outputId": "b68f1776-1977-4a3e-9cb5-520936407dc6",
        "colab": {
          "base_uri": "https://localhost:8080/",
          "height": 53
        }
      },
      "execution_count": 182,
      "outputs": [
        {
          "output_type": "execute_result",
          "data": {
            "application/vnd.google.colaboratory.intrinsic+json": {
              "type": "string"
            },
            "text/plain": [
              "'0402c356c90fb7ec9da96fcb2c9e7a5fd785308864fbe11133025ca71355820a9669d2f5d90e5feeedf40dfc6373522ba1a889b9b8585696a0a1169f4ace4d2aa3eb7f80a96cc4a7c5946d0a91bf8ee359ec4dba96380363915c2c7b8e27a83705d7793ade86e01354'"
            ]
          },
          "metadata": {},
          "execution_count": 182
        }
      ]
    },
    {
      "cell_type": "code",
      "source": [
        "emess_sig=sign_message(k,bytes.fromhex(emess))\n",
        "emess_sig,len(emess_sig)"
      ],
      "metadata": {
        "id": "UPOzyzuQVz9u",
        "colab": {
          "base_uri": "https://localhost:8080/"
        },
        "outputId": "395df5b9-1b8e-4d41-f144-cfecbee6169e"
      },
      "execution_count": 183,
      "outputs": [
        {
          "output_type": "execute_result",
          "data": {
            "text/plain": [
              "('0e1c62e889ee490e48a8ec78940e680b9ac0058206f516f03b5a318e969448d229d2e2cce6abe8949d027e7ad6357c4f7889cdbc8a55132dd4a60ebdc1ebe5ff00',\n",
              " 130)"
            ]
          },
          "metadata": {},
          "execution_count": 183
        }
      ]
    },
    {
      "cell_type": "code",
      "source": [
        "emess_sig+emess"
      ],
      "metadata": {
        "id": "uTraoPVGkmYB",
        "outputId": "1a0fbe53-d2ba-4ce6-de30-5fc41e54977a",
        "colab": {
          "base_uri": "https://localhost:8080/",
          "height": 70
        }
      },
      "execution_count": 184,
      "outputs": [
        {
          "output_type": "execute_result",
          "data": {
            "application/vnd.google.colaboratory.intrinsic+json": {
              "type": "string"
            },
            "text/plain": [
              "'0e1c62e889ee490e48a8ec78940e680b9ac0058206f516f03b5a318e969448d229d2e2cce6abe8949d027e7ad6357c4f7889cdbc8a55132dd4a60ebdc1ebe5ff000402c356c90fb7ec9da96fcb2c9e7a5fd785308864fbe11133025ca71355820a9669d2f5d90e5feeedf40dfc6373522ba1a889b9b8585696a0a1169f4ace4d2aa3eb7f80a96cc4a7c5946d0a91bf8ee359ec4dba96380363915c2c7b8e27a83705d7793ade86e01354'"
            ]
          },
          "metadata": {},
          "execution_count": 184
        }
      ]
    },
    {
      "cell_type": "code",
      "source": [
        "def decrypt_verify(pubkey,privkey,block):\n",
        "  ver=verify(block[:130],bytes.fromhex(block[130:]),pubkey)\n",
        "  return decrypt_message(privkey,block[130:]),ver"
      ],
      "metadata": {
        "id": "Xk76WMZhlu-h"
      },
      "execution_count": 195,
      "outputs": []
    },
    {
      "cell_type": "code",
      "source": [
        "decrypt_verify(pubkey1,k,emess_sig+emess)"
      ],
      "metadata": {
        "id": "j9lRRIjZrUEv",
        "outputId": "bfe21357-9fb4-4c4b-c46a-ebc725639444",
        "colab": {
          "base_uri": "https://localhost:8080/"
        }
      },
      "execution_count": 196,
      "outputs": [
        {
          "output_type": "execute_result",
          "data": {
            "text/plain": [
              "(b'hey guys', True)"
            ]
          },
          "metadata": {},
          "execution_count": 196
        }
      ]
    },
    {
      "cell_type": "code",
      "source": [
        ""
      ],
      "metadata": {
        "id": "b_sTTlD5rnsp"
      },
      "execution_count": null,
      "outputs": []
    }
  ],
  "metadata": {
    "kernelspec": {
      "display_name": "Python 3",
      "language": "python",
      "name": "python3"
    },
    "language_info": {
      "codemirror_mode": {
        "name": "ipython",
        "version": 3
      },
      "file_extension": ".py",
      "mimetype": "text/x-python",
      "name": "python",
      "nbconvert_exporter": "python",
      "pygments_lexer": "ipython3",
      "version": "3.7.6"
    },
    "colab": {
      "name": "04_cuaderno.ipynb",
      "provenance": []
    },
    "widgets": {
      "application/vnd.jupyter.widget-state+json": {
        "5a560f3a756547d6a7f3936937f2c201": {
          "model_module": "@jupyter-widgets/controls",
          "model_name": "DropdownModel",
          "model_module_version": "1.5.0",
          "state": {
            "_options_labels": [
              "DrDoeg",
              "Mono",
              "Homie",
              "jojo",
              "Captain",
              "Ro",
              "Xdos",
              "fanny"
            ],
            "_view_name": "DropdownView",
            "style": "IPY_MODEL_652614dc4adb41f08bba3396150b0753",
            "_dom_classes": [],
            "description": "Recipient:",
            "_model_name": "DropdownModel",
            "index": 7,
            "_view_module": "@jupyter-widgets/controls",
            "_model_module_version": "1.5.0",
            "_view_count": null,
            "disabled": false,
            "_view_module_version": "1.5.0",
            "description_tooltip": null,
            "_model_module": "@jupyter-widgets/controls",
            "layout": "IPY_MODEL_99d1510dd7e34fbc9d460795882dd270"
          }
        },
        "652614dc4adb41f08bba3396150b0753": {
          "model_module": "@jupyter-widgets/controls",
          "model_name": "DescriptionStyleModel",
          "model_module_version": "1.5.0",
          "state": {
            "_view_name": "StyleView",
            "_model_name": "DescriptionStyleModel",
            "description_width": "",
            "_view_module": "@jupyter-widgets/base",
            "_model_module_version": "1.5.0",
            "_view_count": null,
            "_view_module_version": "1.2.0",
            "_model_module": "@jupyter-widgets/controls"
          }
        },
        "99d1510dd7e34fbc9d460795882dd270": {
          "model_module": "@jupyter-widgets/base",
          "model_name": "LayoutModel",
          "model_module_version": "1.2.0",
          "state": {
            "_view_name": "LayoutView",
            "grid_template_rows": null,
            "right": null,
            "justify_content": null,
            "_view_module": "@jupyter-widgets/base",
            "overflow": null,
            "_model_module_version": "1.2.0",
            "_view_count": null,
            "flex_flow": null,
            "width": null,
            "min_width": null,
            "border": null,
            "align_items": null,
            "bottom": null,
            "_model_module": "@jupyter-widgets/base",
            "top": null,
            "grid_column": null,
            "overflow_y": null,
            "overflow_x": null,
            "grid_auto_flow": null,
            "grid_area": null,
            "grid_template_columns": null,
            "flex": null,
            "_model_name": "LayoutModel",
            "justify_items": null,
            "grid_row": null,
            "max_height": null,
            "align_content": null,
            "visibility": null,
            "align_self": null,
            "height": null,
            "min_height": null,
            "padding": null,
            "grid_auto_rows": null,
            "grid_gap": null,
            "max_width": null,
            "order": null,
            "_view_module_version": "1.2.0",
            "grid_template_areas": null,
            "object_position": null,
            "object_fit": null,
            "grid_auto_columns": null,
            "margin": null,
            "display": null,
            "left": null
          }
        }
      }
    }
  },
  "nbformat": 4,
  "nbformat_minor": 0
}