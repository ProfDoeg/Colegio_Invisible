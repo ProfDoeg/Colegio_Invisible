{
  "cells": [
    {
      "cell_type": "markdown",
      "metadata": {
        "id": "V0ZeHUAcjaPF"
      },
      "source": [
        "# Autenticidad, \n",
        "# los Mensajes Secretos,\n",
        "# y Seguridad\n",
        "\n"
      ]
    },
    {
      "cell_type": "markdown",
      "metadata": {
        "id": "RQdcZFCXjaPC"
      },
      "source": [
        "<a href=\"https://colab.research.google.com/github/ProfDoeg/Colegio_Invisible/blob/master/04_cuaderno.ipynb\" target=\"_parent\"><img src=\"https://colab.research.google.com/assets/colab-badge.svg\" alt=\"Open In Colab\"/></a>"
      ]
    },
    {
      "cell_type": "markdown",
      "source": [
        "# Preparar el Espacio (Prepare the Space)"
      ],
      "metadata": {
        "id": "s3aBh2Q-caF9"
      }
    },
    {
      "cell_type": "code",
      "execution_count": 2,
      "metadata": {
        "id": "iOt3lIV-jaPG",
        "colab": {
          "base_uri": "https://localhost:8080/"
        },
        "outputId": "33961934-40fa-4063-dbf6-6b65c761a5c8"
      },
      "outputs": [
        {
          "output_type": "stream",
          "name": "stdout",
          "text": [
            "Collecting eciespy\n",
            "  Downloading eciespy-0.3.11-py3-none-any.whl (11 kB)\n",
            "Collecting eth_keys\n",
            "  Downloading eth_keys-0.4.0-py3-none-any.whl (21 kB)\n",
            "Requirement already satisfied: gspread in /usr/local/lib/python3.7/dist-packages (3.4.2)\n",
            "Requirement already satisfied: oauth2client in /usr/local/lib/python3.7/dist-packages (4.1.3)\n",
            "Collecting coincurve<16,>=13\n",
            "  Downloading coincurve-15.0.1-cp37-cp37m-manylinux_2_17_x86_64.manylinux2014_x86_64.whl (555 kB)\n",
            "\u001b[K     |████████████████████████████████| 555 kB 21.1 MB/s \n",
            "\u001b[?25hCollecting pycryptodome<4.0.0,>=3.9.9\n",
            "  Downloading pycryptodome-3.13.0-cp35-abi3-manylinux2010_x86_64.whl (2.0 MB)\n",
            "\u001b[K     |████████████████████████████████| 2.0 MB 48.8 MB/s \n",
            "\u001b[?25hCollecting eth_keys\n",
            "  Downloading eth_keys-0.3.4-py3-none-any.whl (21 kB)\n",
            "Collecting eth-utils<2.0.0,>=1.8.2\n",
            "  Downloading eth_utils-1.10.0-py3-none-any.whl (24 kB)\n",
            "Collecting eth-typing<3.0.0,>=2.2.1\n",
            "  Downloading eth_typing-2.3.0-py3-none-any.whl (6.2 kB)\n",
            "Requirement already satisfied: cffi>=1.3.0 in /usr/local/lib/python3.7/dist-packages (from coincurve<16,>=13->eciespy) (1.15.0)\n",
            "Collecting asn1crypto\n",
            "  Downloading asn1crypto-1.4.0-py2.py3-none-any.whl (104 kB)\n",
            "\u001b[K     |████████████████████████████████| 104 kB 51.3 MB/s \n",
            "\u001b[?25hRequirement already satisfied: pycparser in /usr/local/lib/python3.7/dist-packages (from cffi>=1.3.0->coincurve<16,>=13->eciespy) (2.21)\n",
            "Collecting eth-hash<0.4.0,>=0.3.1\n",
            "  Downloading eth_hash-0.3.2-py3-none-any.whl (8.8 kB)\n",
            "Collecting cytoolz<1.0.0,>=0.10.1\n",
            "  Downloading cytoolz-0.11.2.tar.gz (481 kB)\n",
            "\u001b[K     |████████████████████████████████| 481 kB 51.0 MB/s \n",
            "\u001b[?25hRequirement already satisfied: toolz>=0.8.0 in /usr/local/lib/python3.7/dist-packages (from cytoolz<1.0.0,>=0.10.1->eth-utils<2.0.0,>=1.8.2->eth_keys) (0.11.2)\n",
            "Requirement already satisfied: google-auth in /usr/local/lib/python3.7/dist-packages (from gspread) (1.35.0)\n",
            "Requirement already satisfied: requests>=2.2.1 in /usr/local/lib/python3.7/dist-packages (from gspread) (2.23.0)\n",
            "Requirement already satisfied: urllib3!=1.25.0,!=1.25.1,<1.26,>=1.21.1 in /usr/local/lib/python3.7/dist-packages (from requests>=2.2.1->gspread) (1.24.3)\n",
            "Requirement already satisfied: idna<3,>=2.5 in /usr/local/lib/python3.7/dist-packages (from requests>=2.2.1->gspread) (2.10)\n",
            "Requirement already satisfied: chardet<4,>=3.0.2 in /usr/local/lib/python3.7/dist-packages (from requests>=2.2.1->gspread) (3.0.4)\n",
            "Requirement already satisfied: certifi>=2017.4.17 in /usr/local/lib/python3.7/dist-packages (from requests>=2.2.1->gspread) (2021.10.8)\n",
            "Requirement already satisfied: httplib2>=0.9.1 in /usr/local/lib/python3.7/dist-packages (from oauth2client) (0.17.4)\n",
            "Requirement already satisfied: pyasn1-modules>=0.0.5 in /usr/local/lib/python3.7/dist-packages (from oauth2client) (0.2.8)\n",
            "Requirement already satisfied: pyasn1>=0.1.7 in /usr/local/lib/python3.7/dist-packages (from oauth2client) (0.4.8)\n",
            "Requirement already satisfied: six>=1.6.1 in /usr/local/lib/python3.7/dist-packages (from oauth2client) (1.15.0)\n",
            "Requirement already satisfied: rsa>=3.1.4 in /usr/local/lib/python3.7/dist-packages (from oauth2client) (4.8)\n",
            "Requirement already satisfied: setuptools>=40.3.0 in /usr/local/lib/python3.7/dist-packages (from google-auth->gspread) (57.4.0)\n",
            "Requirement already satisfied: cachetools<5.0,>=2.0.0 in /usr/local/lib/python3.7/dist-packages (from google-auth->gspread) (4.2.4)\n",
            "Building wheels for collected packages: cytoolz\n",
            "  Building wheel for cytoolz (setup.py) ... \u001b[?25l\u001b[?25hdone\n",
            "  Created wheel for cytoolz: filename=cytoolz-0.11.2-cp37-cp37m-linux_x86_64.whl size=1230789 sha256=f11a5fe107f228e7072416192b847130ae92331eeed6e999b7816694db3f4ad8\n",
            "  Stored in directory: /root/.cache/pip/wheels/38/70/71/ca13ea3d36ccd0b3d0ec7d7a4ca67522048d695b556bba4f59\n",
            "Successfully built cytoolz\n",
            "Installing collected packages: eth-typing, eth-hash, cytoolz, eth-utils, asn1crypto, pycryptodome, eth-keys, coincurve, eciespy\n",
            "Successfully installed asn1crypto-1.4.0 coincurve-15.0.1 cytoolz-0.11.2 eciespy-0.3.11 eth-hash-0.3.2 eth-keys-0.3.4 eth-typing-2.3.0 eth-utils-1.10.0 pycryptodome-3.13.0\n",
            "Cloning into 'Colegio_Invisible'...\n",
            "remote: Enumerating objects: 648, done.\u001b[K\n",
            "remote: Counting objects: 100% (462/462), done.\u001b[K\n",
            "remote: Compressing objects: 100% (437/437), done.\u001b[K\n",
            "remote: Total 648 (delta 317), reused 23 (delta 23), pack-reused 186\u001b[K\n",
            "Receiving objects: 100% (648/648), 42.57 MiB | 4.60 MiB/s, done.\n",
            "Resolving deltas: 100% (429/429), done.\n",
            "Requirement already satisfied: gspread in /usr/local/lib/python3.7/dist-packages (3.4.2)\n",
            "Collecting gspread\n",
            "  Downloading gspread-5.1.1-py3-none-any.whl (31 kB)\n",
            "Requirement already satisfied: google-auth-oauthlib>=0.4.1 in /usr/local/lib/python3.7/dist-packages (from gspread) (0.4.6)\n",
            "Requirement already satisfied: google-auth>=1.12.0 in /usr/local/lib/python3.7/dist-packages (from gspread) (1.35.0)\n",
            "Requirement already satisfied: cachetools<5.0,>=2.0.0 in /usr/local/lib/python3.7/dist-packages (from google-auth>=1.12.0->gspread) (4.2.4)\n",
            "Requirement already satisfied: rsa<5,>=3.1.4 in /usr/local/lib/python3.7/dist-packages (from google-auth>=1.12.0->gspread) (4.8)\n",
            "Requirement already satisfied: six>=1.9.0 in /usr/local/lib/python3.7/dist-packages (from google-auth>=1.12.0->gspread) (1.15.0)\n",
            "Requirement already satisfied: setuptools>=40.3.0 in /usr/local/lib/python3.7/dist-packages (from google-auth>=1.12.0->gspread) (57.4.0)\n",
            "Requirement already satisfied: pyasn1-modules>=0.2.1 in /usr/local/lib/python3.7/dist-packages (from google-auth>=1.12.0->gspread) (0.2.8)\n",
            "Requirement already satisfied: requests-oauthlib>=0.7.0 in /usr/local/lib/python3.7/dist-packages (from google-auth-oauthlib>=0.4.1->gspread) (1.3.0)\n",
            "Requirement already satisfied: pyasn1<0.5.0,>=0.4.6 in /usr/local/lib/python3.7/dist-packages (from pyasn1-modules>=0.2.1->google-auth>=1.12.0->gspread) (0.4.8)\n",
            "Requirement already satisfied: requests>=2.0.0 in /usr/local/lib/python3.7/dist-packages (from requests-oauthlib>=0.7.0->google-auth-oauthlib>=0.4.1->gspread) (2.23.0)\n",
            "Requirement already satisfied: oauthlib>=3.0.0 in /usr/local/lib/python3.7/dist-packages (from requests-oauthlib>=0.7.0->google-auth-oauthlib>=0.4.1->gspread) (3.1.1)\n",
            "Requirement already satisfied: idna<3,>=2.5 in /usr/local/lib/python3.7/dist-packages (from requests>=2.0.0->requests-oauthlib>=0.7.0->google-auth-oauthlib>=0.4.1->gspread) (2.10)\n",
            "Requirement already satisfied: certifi>=2017.4.17 in /usr/local/lib/python3.7/dist-packages (from requests>=2.0.0->requests-oauthlib>=0.7.0->google-auth-oauthlib>=0.4.1->gspread) (2021.10.8)\n",
            "Requirement already satisfied: chardet<4,>=3.0.2 in /usr/local/lib/python3.7/dist-packages (from requests>=2.0.0->requests-oauthlib>=0.7.0->google-auth-oauthlib>=0.4.1->gspread) (3.0.4)\n",
            "Requirement already satisfied: urllib3!=1.25.0,!=1.25.1,<1.26,>=1.21.1 in /usr/local/lib/python3.7/dist-packages (from requests>=2.0.0->requests-oauthlib>=0.7.0->google-auth-oauthlib>=0.4.1->gspread) (1.24.3)\n",
            "Installing collected packages: gspread\n",
            "  Attempting uninstall: gspread\n",
            "    Found existing installation: gspread 3.4.2\n",
            "    Uninstalling gspread-3.4.2:\n",
            "      Successfully uninstalled gspread-3.4.2\n",
            "Successfully installed gspread-5.1.1\n"
          ]
        }
      ],
      "source": [
        "! pip install eciespy eth_keys gspread oauth2client\n",
        "! git clone https://github.com/ProfDoeg/Colegio_Invisible.git\n",
        "! pip install --upgrade gspread"
      ]
    },
    {
      "cell_type": "markdown",
      "source": [
        "# Historias\n",
        "\n",
        "<img src=\"https://github.com/ProfDoeg/Colegio_Invisible/raw/main/img/barb_2.jpeg\" width=\"250\"/>\n",
        "\n",
        "\n",
        "*¡Verdezuela, Verdezuela,\\\n",
        "Suéltame tu cabellera!*\\\n",
        "-La Bruja\n",
        "\n",
        "*Encryption is a powerful defensive\\\n",
        "weapon for free people.*\\\n",
        "-Esther Dyson\n",
        "\n",
        "\n"
      ],
      "metadata": {
        "id": "jn1G2OUIzoAz"
      }
    },
    {
      "cell_type": "markdown",
      "source": [
        "# Aplicar Criptografía Para Crear un Ensamblaje de Mensajería Seguro \n",
        "# (Apply Cryptography to Create a Secure Messaging Assembly)\n",
        "\n",
        "## Esquema (Outline) \n",
        "\n",
        "Aplicar criptografía para crear un tablero de mensajes securos.\n",
        "***\n",
        "Apply cryptography to build a secure messaging board.\n",
        "\n",
        "## Metas (Goals)\n",
        "\n",
        "- crear y guardar claves\\\n",
        "(create and save keys)\n",
        "- descargar/cargar claves\\\n",
        "(download/upload keys)\n",
        "- descifrar el token de acceso a la hoja de cálculo\\\n",
        "(decrypt spreadsheet access token)\n",
        "- entender `gspread`\\\n",
        "(understand `gspread`)\n",
        "- publicar: nombre, clave pública, mensaje público y firma\\\n",
        "(post: name, public key, public message, and signature)\n",
        "- firmar mensaje\\\n",
        "(sign message)\n",
        "- verificar mensaje\\\n",
        "(verify message)\n",
        "- escribir mensaje a otros participantes\\\n",
        "(write message to other participants)\n",
        "- escribir un mensaje encriptado a otro participante\\\n",
        "(write encrypted message to other participant)\n",
        "- escribir mensaje firmado y encriptado\\\n",
        "(write signed and encrypted message)\n"
      ],
      "metadata": {
        "id": "LI7dlYfxGVCR"
      }
    },
    {
      "cell_type": "markdown",
      "source": [
        "# Gestionar Archivos de Claves (Manage Key Files)\n",
        "\n",
        "## Obtener Claves (Get Keys)\n",
        "\n",
        "3 Opciones (3 Options):\n",
        "- hacer nuevas claves\\\n",
        "(make new keys)\n",
        "- cargar claves generadas previamente\\\n",
        "(load previously generated keys)\n",
        "  - desde la disco local\\\n",
        "  (from local drive)\n",
        "  - desde Google Drive\\\n",
        "  (from Google Drive)\n"
      ],
      "metadata": {
        "id": "hegcdI1x8CCX"
      }
    },
    {
      "cell_type": "markdown",
      "source": [
        "### Hacer Nuevas Claves (Make New Keys)"
      ],
      "metadata": {
        "id": "0rXCUBbefqzQ"
      }
    },
    {
      "cell_type": "code",
      "source": [
        "! mkdir llaves"
      ],
      "metadata": {
        "id": "YjCzL1LVwFdw"
      },
      "execution_count": 6,
      "outputs": []
    },
    {
      "cell_type": "code",
      "source": [
        "! python Colegio_Invisible/scripts/ecc_generate.py llaves/prvkey1.eck"
      ],
      "metadata": {
        "id": "knENRpKUvfyx",
        "colab": {
          "base_uri": "https://localhost:8080/"
        },
        "outputId": "9531d915-1e77-43e9-c4b0-6522e47a1f69"
      },
      "execution_count": 7,
      "outputs": [
        {
          "output_type": "stream",
          "name": "stdout",
          "text": [
            "Input password for encrypting keyfile:\n",
            "Ingresar password para cifrar el archivo de la clave:\n",
            "Repetir (Repeat): \n",
            "\n",
            "Passwords match...\n",
            "\n",
            "Passwords son iguales...\n",
            "Generación de la clave privada está terminada (Private key generation complete)\n",
            "La clave privada está cifrada y escrita en un archivo binario:\n",
            "Private key encrypted and written to binary file: llaves/prvkey1.eck\n",
            "66cb3828d13377934b38fa235fe8d49ae6d38b88a0016e8c62f6d41b2ffd342e2c605c0903ebedb7ed8382b01ddd8ef947603e87a98d2aa548744bba19e7b29c\n"
          ]
        }
      ]
    },
    {
      "cell_type": "code",
      "source": [
        "! python Colegio_Invisible/scripts/ecc_pubkey_extract.py llaves/prvkey1.eck llaves/pubkey1.eck "
      ],
      "metadata": {
        "id": "OWfZF_rrxVZJ",
        "colab": {
          "base_uri": "https://localhost:8080/"
        },
        "outputId": "5f23077e-cfb1-4bde-c24c-a443220136c4"
      },
      "execution_count": 8,
      "outputs": [
        {
          "output_type": "stream",
          "name": "stdout",
          "text": [
            "Input password for private key file:\n",
            "Ingresar password para acceder al archivo del la clave privada:\n",
            "Input password for public key file:\n",
            "Ingresar password para acceder al archivo del la clave pública: \n",
            "Repetir (Repeat): \n",
            "\n",
            "Passwords match...\n",
            "\n",
            "Passwords son iguales...\n",
            "Extracción de la clave pública terminada desde\n",
            "(Completed public key extraction from): llaves/prvkey1.eck\n",
            "La clave pública está cifrada y escrita en archivo binario\n",
            "(Public key encrypted and written to binary file): llaves/pubkey1.eck\n",
            "3b5a8c15885fae604cb40ed3aafb14610b173562bd3b06ee7fef09b103523eb38ae4cdaf2bef3a6a514d93c82d685e8cba99c6743c7d2bab155c3d07e94fae0a6d1f77ee26717fc6c3aaa86c672c389ccd0f61ada21f324413b6316348b897b1\n"
          ]
        }
      ]
    },
    {
      "cell_type": "markdown",
      "source": [
        "### Cargar Claves (Load Keys)\n",
        "\n",
        "**EJECUTAR SOLO SI HAS GUARDADO PREVIAMENTE LAS CLAVES**\n",
        "***\n",
        "**ONLY RUN IF YOU HAVE PREVIOUSLY SAVED KEYS**"
      ],
      "metadata": {
        "id": "X8Ay9_UOgOzg"
      }
    },
    {
      "cell_type": "markdown",
      "source": [
        "#### De Disco Local (From Local Disk)"
      ],
      "metadata": {
        "id": "vszQAQ7wfHE7"
      }
    },
    {
      "cell_type": "code",
      "source": [
        "from google.colab import files\n",
        "fu=files.upload();"
      ],
      "metadata": {
        "id": "OM3tnc6Ce8yF"
      },
      "execution_count": null,
      "outputs": []
    },
    {
      "cell_type": "code",
      "source": [
        "! unzip llaves.zip"
      ],
      "metadata": {
        "id": "8CZjo15bfMqI"
      },
      "execution_count": null,
      "outputs": []
    },
    {
      "cell_type": "markdown",
      "source": [
        "#### De Google Drive (From Google Drive)\n",
        "\n",
        "1. Montar Google Drive\\\n",
        "(Mount Google Drive)\n",
        "2. Copiar el archivo de clave desde la ubicación al directorio actual\\\n",
        "(Copy key file from location to present directory)\n",
        "3. Unzip archivo de clave\\\n",
        "(Unzip key file)"
      ],
      "metadata": {
        "id": "28lO-mHxkZIn"
      }
    },
    {
      "cell_type": "code",
      "source": [
        "from google.colab import drive\n",
        "drive.mount('/content/drive')"
      ],
      "metadata": {
        "id": "puBq-maLZrZI"
      },
      "execution_count": null,
      "outputs": []
    },
    {
      "cell_type": "code",
      "source": [
        "! cp drive/MyDrive/cinv/llaves.zip llaves.zip \n",
        "! unzip llaves.zip"
      ],
      "metadata": {
        "id": "Gn__M4u3ZpGU"
      },
      "execution_count": null,
      "outputs": []
    },
    {
      "cell_type": "markdown",
      "source": [
        "### Guardar Llaves (Save Keys) "
      ],
      "metadata": {
        "id": "psYayEMxgAWa"
      }
    },
    {
      "cell_type": "markdown",
      "source": [
        "#### A Disco Local (To Local Disk)"
      ],
      "metadata": {
        "id": "cwZ4aBsjf2ba"
      }
    },
    {
      "cell_type": "code",
      "source": [
        "#note\n",
        "! zip -r llaves.zip llaves"
      ],
      "metadata": {
        "id": "NTj5GlPKdIAb"
      },
      "execution_count": null,
      "outputs": []
    },
    {
      "cell_type": "code",
      "source": [
        "#note\n",
        "from google.colab import files\n",
        "f=files.download('llaves.zip');"
      ],
      "metadata": {
        "id": "v2f9HCM9dPdf"
      },
      "execution_count": null,
      "outputs": []
    },
    {
      "cell_type": "markdown",
      "source": [
        "#### A Google Drive (To Google Drive)"
      ],
      "metadata": {
        "id": "PXfGYBbZgMKj"
      }
    },
    {
      "cell_type": "code",
      "source": [
        "from google.colab import drive\n",
        "drive.mount('/content/drive')"
      ],
      "metadata": {
        "id": "_XvgQ0WHg6KV"
      },
      "execution_count": null,
      "outputs": []
    },
    {
      "cell_type": "code",
      "source": [
        "! cp llaves.zip drive/MyDrive/cinv/llaves.zip "
      ],
      "metadata": {
        "id": "LicuYQ0Bg52C"
      },
      "execution_count": null,
      "outputs": []
    },
    {
      "cell_type": "markdown",
      "source": [
        "# Usar Guion Para Acceder Clave Pública (Use Script to Access Public Key)"
      ],
      "metadata": {
        "id": "tQsnoXMOiQto"
      }
    },
    {
      "cell_type": "code",
      "source": [
        "ret=!{ 'python Colegio_Invisible/scripts/ecc_keydump.py llaves/pubkey1.eck'}\n",
        "pubkey1=ret[-1]\n",
        "pubkey1"
      ],
      "metadata": {
        "id": "qInALQ0e03RH",
        "colab": {
          "base_uri": "https://localhost:8080/",
          "height": 54
        },
        "outputId": "a62c3d02-351e-4de6-c50d-32e218959006"
      },
      "execution_count": 9,
      "outputs": [
        {
          "output_type": "execute_result",
          "data": {
            "application/vnd.google.colaboratory.intrinsic+json": {
              "type": "string"
            },
            "text/plain": [
              "'8a58c1e7a54a9f48b21e57d2600ca2a35659d6c488e7ef7c5b6280edee632857fb8c233b294e24f516fd4b102d4b9cbfbc61c2566ce8f57db0ed6d05e1de7bc9'"
            ]
          },
          "metadata": {},
          "execution_count": 9
        }
      ]
    },
    {
      "cell_type": "markdown",
      "source": [
        "# Gestionar el Acceso a Google Sheets (Manage Access to Google Sheets)\n",
        "\n",
        "\n",
        "## Descifrar Credenciales de API (Decrypt API Credentials)\n",
        "\n",
        "$\\color{white}{\\text{c0leg101nv1s1ble}}$"
      ],
      "metadata": {
        "id": "euUO0urHigI7"
      }
    },
    {
      "cell_type": "markdown",
      "source": [
        "Usar la contraseña de arriba para descifrar `client_secret.aes`\n",
        "***\n",
        "Use the above password to decrypt `client_secret.aes`\n",
        "\n",
        "\n",
        "\n"
      ],
      "metadata": {
        "id": "-Pu3mgzGin5K"
      }
    },
    {
      "cell_type": "code",
      "source": [
        "! python Colegio_Invisible/scripts/aes_decrypt.py Colegio_Invisible/secrets/client_secret.aes Colegio_Invisible/secrets/client_secret.json "
      ],
      "metadata": {
        "id": "_spdugChrzcl",
        "colab": {
          "base_uri": "https://localhost:8080/"
        },
        "outputId": "616bfaa7-bb27-46d3-9c47-ef2f6ed63e4b"
      },
      "execution_count": 11,
      "outputs": [
        {
          "output_type": "stream",
          "name": "stdout",
          "text": [
            "Input password for decryption:\n",
            "Ingresar password para decifrar: \n",
            "Éxito (Success): Colegio_Invisible/secrets/client_secret.aes decifrado con éxito (decryption complete)\n",
            "Escrito a (Written to): Colegio_Invisible/secrets/client_secret.json\n"
          ]
        }
      ]
    },
    {
      "cell_type": "code",
      "source": [
        "! ls Colegio_Invisible/secrets"
      ],
      "metadata": {
        "id": "wHRKKx020tyr",
        "colab": {
          "base_uri": "https://localhost:8080/"
        },
        "outputId": "9e110a77-fe6b-4e7d-ca2a-8bf01f31c7b0"
      },
      "execution_count": 12,
      "outputs": [
        {
          "output_type": "stream",
          "name": "stdout",
          "text": [
            "client_secret.aes  client_secret.json\n"
          ]
        }
      ]
    },
    {
      "cell_type": "markdown",
      "source": [
        "## `gspread` 🪴\n",
        "\n"
      ],
      "metadata": {
        "id": "ljlmDL7en1jB"
      }
    },
    {
      "cell_type": "markdown",
      "source": [
        "`gspread` es un módulo de Python para la interacción programática con Google Sheets.\\\n",
        "Todos los participantes tendrán acceso a la misma hoja de cálculo en la nube.\n",
        "***\n",
        "`gspread` is a python module for programmatic interaction with Google Sheets.\\\n",
        "All the participants will have access to the same spreadsheet in the cloud.\n",
        "\n"
      ],
      "metadata": {
        "id": "2oEHDjMTnMLD"
      }
    },
    {
      "cell_type": "markdown",
      "source": [
        "https://docs.gspread.org/en/latest/user-guide.html"
      ],
      "metadata": {
        "id": "OZlTWab55ESc"
      }
    },
    {
      "cell_type": "markdown",
      "source": [
        "Usar las credenciales descifradas para autenticar y obtener acceso API a la hoja de cálculo\n",
        "***\n",
        "Use the decrypted credentials to authenticate and gain API access to the spreadsheet"
      ],
      "metadata": {
        "id": "vZAzWXoeVrda"
      }
    },
    {
      "cell_type": "code",
      "execution_count": 12,
      "metadata": {
        "id": "mU3aBoN3jaPI"
      },
      "outputs": [],
      "source": [
        "import gspread\n",
        "from oauth2client.service_account import ServiceAccountCredentials\n",
        "# use creds to create a client to interact with the Google Drive API\n",
        "scope = ['https://spreadsheets.google.com/feeds',\n",
        "         'https://www.googleapis.com/auth/drive']\n",
        "creds = ServiceAccountCredentials.from_json_keyfile_name('Colegio_Invisible/secrets/client_secret.json', scope)\n",
        "client = gspread.authorize(creds)\n",
        "sheets = client.open(\"signatures\")"
      ]
    },
    {
      "cell_type": "markdown",
      "source": [
        "# Sheets"
      ],
      "metadata": {
        "id": "BmK_oPUizxHP"
      }
    },
    {
      "cell_type": "markdown",
      "source": [
        "Aquí podemos ver la estructura de la hoja de cálculo y todas las capas o `Worksheet`\n",
        "***\n",
        "Here we can see the structure of the spreadsheet and all of the layers or `Worksheet`"
      ],
      "metadata": {
        "id": "NvzeBI7Xo8R-"
      }
    },
    {
      "cell_type": "code",
      "source": [
        "sheets.worksheets()"
      ],
      "metadata": {
        "id": "Jh9kVHwao_7H",
        "colab": {
          "base_uri": "https://localhost:8080/"
        },
        "outputId": "a1fc28e4-77c8-44bf-da4e-809230915d74"
      },
      "execution_count": 13,
      "outputs": [
        {
          "output_type": "execute_result",
          "data": {
            "text/plain": [
              "[<Worksheet 'Multi' id:0>,\n",
              " <Worksheet 'Magic' id:2092809244>,\n",
              " <Worksheet 'ChorusSignature' id:549527758>,\n",
              " <Worksheet 'StealProposal' id:858983463>,\n",
              " <Worksheet 'StealSignature' id:475665302>,\n",
              " <Worksheet 'test' id:2104752728>]"
            ]
          },
          "metadata": {},
          "execution_count": 13
        }
      ]
    },
    {
      "cell_type": "code",
      "source": [
        "sheet=sheets.worksheets()[0]\n",
        "sheet1=sheets.worksheets()[1]\n",
        "sheet2=sheets.worksheets()[2]\n",
        "sheet3=sheets.worksheets()[3]\n",
        "sheet,sheet1,sheet2,sheet3"
      ],
      "metadata": {
        "id": "0cA1SFS4Tuyb",
        "colab": {
          "base_uri": "https://localhost:8080/"
        },
        "outputId": "6c31a16c-0122-44d0-d2f6-cdea6610aad1"
      },
      "execution_count": 14,
      "outputs": [
        {
          "output_type": "execute_result",
          "data": {
            "text/plain": [
              "(<Worksheet 'Multi' id:0>,\n",
              " <Worksheet 'Magic' id:2092809244>,\n",
              " <Worksheet 'ChorusSignature' id:549527758>,\n",
              " <Worksheet 'StealProposal' id:858983463>)"
            ]
          },
          "metadata": {},
          "execution_count": 14
        }
      ]
    },
    {
      "cell_type": "markdown",
      "source": [
        "## Sheet 0 : Registro (Roster)"
      ],
      "metadata": {
        "id": "uwpNqis9z_yg"
      }
    },
    {
      "cell_type": "markdown",
      "source": [
        "Aislar la primera hoja donde consultamos la primera fila\n",
        "***\n",
        "Isolate the first sheet where we query the first row"
      ],
      "metadata": {
        "id": "wr0GwHR5pVpL"
      }
    },
    {
      "cell_type": "code",
      "source": [
        "sheet.row_values(1)"
      ],
      "metadata": {
        "id": "4TpJzRis965I",
        "colab": {
          "base_uri": "https://localhost:8080/"
        },
        "outputId": "69be6de4-ef10-48f7-ed79-af06da9c3aae"
      },
      "execution_count": 15,
      "outputs": [
        {
          "output_type": "execute_result",
          "data": {
            "text/plain": [
              "['name', 'pubkey', 'statement', 'signature']"
            ]
          },
          "metadata": {},
          "execution_count": 15
        }
      ]
    },
    {
      "cell_type": "markdown",
      "source": [
        "**PELIGRO: NO EJECUTAR**\n",
        "***\n",
        "**DANGER: DO NOT RUN**"
      ],
      "metadata": {
        "id": "rhAmowGH1At8"
      }
    },
    {
      "cell_type": "code",
      "source": [
        "#sheet.clear()\n",
        "#sheet.update_cell(1, \"name\")\n",
        "#sheet.append_row([\"name\", \"pubkey\",\"statement\",\"signature\"])\n",
        "#sheet.__dir__()"
      ],
      "metadata": {
        "id": "lY-DDACNIbI2"
      },
      "execution_count": 16,
      "outputs": []
    },
    {
      "cell_type": "markdown",
      "source": [
        "### Tomar el Registro (Make the Roster)\n",
        "\n",
        "Publicar (Publish):\n",
        "\n",
        "- `name` nombre de participante\\\n",
        "(`name` title of participant)\n",
        "- `pubkey` clave público de participante en hexadecimal\\\n",
        "(`pubkey` public key of participant in hex)\n",
        "- `statement` la declaración firmada por el participante\\\n",
        "(`statement` data signed by participant)\n",
        "- `signature` firma ecc de la declaración\\\n",
        "(`signature` ecc signature of the statement)"
      ],
      "metadata": {
        "id": "bI3XiqSTp7ZV"
      }
    },
    {
      "cell_type": "markdown",
      "source": [
        "#### Entrada Datos (Input Data)"
      ],
      "metadata": {
        "id": "gwdjExph3hKD"
      }
    },
    {
      "cell_type": "code",
      "source": [
        "my_name=input('input name')\n",
        "my_statement=input('input statement')\n",
        "open('llaves/statement1.txt','wb').write(my_statement.encode())"
      ],
      "metadata": {
        "id": "qhFmS9bqPLVt",
        "colab": {
          "base_uri": "https://localhost:8080/"
        },
        "outputId": "c72349b2-4b02-4cf2-e445-ebaffa3779ae"
      },
      "execution_count": 29,
      "outputs": [
        {
          "name": "stdout",
          "output_type": "stream",
          "text": [
            "input namejj\n",
            "input statementyo jj\n"
          ]
        },
        {
          "output_type": "execute_result",
          "data": {
            "text/plain": [
              "5"
            ]
          },
          "metadata": {},
          "execution_count": 29
        }
      ]
    },
    {
      "cell_type": "code",
      "source": [
        "! cat llaves/statement1.txt"
      ],
      "metadata": {
        "id": "brExuacy55Sr",
        "colab": {
          "base_uri": "https://localhost:8080/"
        },
        "outputId": "e925b2bb-6fc6-49ac-ae26-89821fc01dc4"
      },
      "execution_count": 30,
      "outputs": [
        {
          "output_type": "stream",
          "name": "stdout",
          "text": [
            "yo jj"
          ]
        }
      ]
    },
    {
      "cell_type": "markdown",
      "source": [
        "Usar script para firmar la declaración\n",
        "***\n",
        "Use script to sign statement"
      ],
      "metadata": {
        "id": "LDRfuR9JsXP-"
      }
    },
    {
      "cell_type": "code",
      "source": [
        "ret = !{ 'python Colegio_Invisible/scripts/ecc_sign.py llaves/prvkey1.eck llaves/statement1.txt llaves/sig1.sig'}\n",
        "sig1=ret[-1]\n",
        "sig1"
      ],
      "metadata": {
        "id": "11kzlTsR4Ki8",
        "colab": {
          "base_uri": "https://localhost:8080/",
          "height": 54
        },
        "outputId": "e8e3d908-849f-403b-b5c9-98cff711d360"
      },
      "execution_count": 31,
      "outputs": [
        {
          "output_type": "execute_result",
          "data": {
            "application/vnd.google.colaboratory.intrinsic+json": {
              "type": "string"
            },
            "text/plain": [
              "'118a2aae4484ef5742913ffbde97981438fb54ba22ed564dba8f108e656e7aa1114e47a8efeca893885bec9e4ea0793645b810895a9f385d14d62805e2ac992101'"
            ]
          },
          "metadata": {},
          "execution_count": 31
        }
      ]
    },
    {
      "cell_type": "markdown",
      "source": [
        "#### Publicar Datos (Publish Data)\n"
      ],
      "metadata": {
        "id": "G27NckVds8xd"
      }
    },
    {
      "cell_type": "code",
      "source": [
        "peeps=sheet.col_values(1)[1:]\n",
        "datas=[my_name,pubkey1,my_statement,sig1]\n",
        "if not (my_name in peeps) :\n",
        "  sheet.append_row(datas)\n",
        "else:\n",
        "  row=peeps.index(my_name)+2\n",
        "  for i,value in enumerate(datas[1:]):\n",
        "    sheet.update_cell(row=row,col=i+2,value=value)"
      ],
      "metadata": {
        "id": "aYIkcV_rFHpO"
      },
      "execution_count": 33,
      "outputs": []
    },
    {
      "cell_type": "markdown",
      "source": [
        "## Leer Sheet 0 (Read Sheet 0)"
      ],
      "metadata": {
        "id": "0_WO-jart9zf"
      }
    },
    {
      "cell_type": "code",
      "source": [
        "import pandas as pd\n",
        "\n",
        "dataframe = pd.DataFrame(sheet.get_all_records())\n",
        "dataframe"
      ],
      "metadata": {
        "id": "vKL2w8CB_m9f",
        "colab": {
          "base_uri": "https://localhost:8080/",
          "height": 300
        },
        "outputId": "0ef0bc30-f832-4eda-e2f7-147d47c6aa19"
      },
      "execution_count": 50,
      "outputs": [
        {
          "output_type": "execute_result",
          "data": {
            "text/html": [
              "\n",
              "  <div id=\"df-7640a76f-5ef7-44a5-9bc0-3d5083e4ef4d\">\n",
              "    <div class=\"colab-df-container\">\n",
              "      <div>\n",
              "<style scoped>\n",
              "    .dataframe tbody tr th:only-of-type {\n",
              "        vertical-align: middle;\n",
              "    }\n",
              "\n",
              "    .dataframe tbody tr th {\n",
              "        vertical-align: top;\n",
              "    }\n",
              "\n",
              "    .dataframe thead th {\n",
              "        text-align: right;\n",
              "    }\n",
              "</style>\n",
              "<table border=\"1\" class=\"dataframe\">\n",
              "  <thead>\n",
              "    <tr style=\"text-align: right;\">\n",
              "      <th></th>\n",
              "      <th>name</th>\n",
              "      <th>pubkey</th>\n",
              "      <th>statement</th>\n",
              "      <th>signature</th>\n",
              "    </tr>\n",
              "  </thead>\n",
              "  <tbody>\n",
              "    <tr>\n",
              "      <th>0</th>\n",
              "      <td>DrDoeg</td>\n",
              "      <td>aa403c5cc3bd3f8970f4b69a19b19f758a01b8b7df51dc...</td>\n",
              "      <td>I am DrDoeg</td>\n",
              "      <td>2671da66309b34b396f42983350e213205f0510124058d...</td>\n",
              "    </tr>\n",
              "    <tr>\n",
              "      <th>1</th>\n",
              "      <td>lil late</td>\n",
              "      <td>d4870b35f981df8a87545c0d4e3879c52417e3c914cbf4...</td>\n",
              "      <td>das aright</td>\n",
              "      <td>2c10c648ea437d08e33f0a28a83c5ca56986d23b3e046f...</td>\n",
              "    </tr>\n",
              "    <tr>\n",
              "      <th>2</th>\n",
              "      <td>Paulina</td>\n",
              "      <td>f7ee21788227541ac7d9d684fed40f1c89772ebba67027...</td>\n",
              "      <td>I am Paulina R</td>\n",
              "      <td>346d7e2fad7856a8b86ef1435fb328284ef123668c39a2...</td>\n",
              "    </tr>\n",
              "    <tr>\n",
              "      <th>3</th>\n",
              "      <td>Lau</td>\n",
              "      <td>cbf0666e1f02013145d325d813aaaa5f0ffd49361136cf...</td>\n",
              "      <td>Soy Lau</td>\n",
              "      <td>7eb257548a943314a2818a1a9f649c6cfc1d9c475e598b...</td>\n",
              "    </tr>\n",
              "    <tr>\n",
              "      <th>4</th>\n",
              "      <td>Pamela</td>\n",
              "      <td>74bb3d46084d27eb4341b5e3531b16e8911bb6fb765aa9...</td>\n",
              "      <td>Soy Pamela</td>\n",
              "      <td>f68597821580b15584f42574b812d3d3b4b043ffb70dbe...</td>\n",
              "    </tr>\n",
              "    <tr>\n",
              "      <th>5</th>\n",
              "      <td>Seco</td>\n",
              "      <td>7da1b363b5942d7aeeeedb092520701b44f12e39d6c297...</td>\n",
              "      <td>I am Seco</td>\n",
              "      <td>Fallada (Fail) [Errno 2] No such file or direc...</td>\n",
              "    </tr>\n",
              "    <tr>\n",
              "      <th>6</th>\n",
              "      <td>Joeq</td>\n",
              "      <td>8081496f8bdca4dac2ffa446df3901b6b020ef621fa1c0...</td>\n",
              "      <td>Joeq Nince</td>\n",
              "      <td>a5fcf6f0589868bb118b9938936bd3b600a31159699426...</td>\n",
              "    </tr>\n",
              "    <tr>\n",
              "      <th>7</th>\n",
              "      <td>jj</td>\n",
              "      <td>8a58c1e7a54a9f48b21e57d2600ca2a35659d6c488e7ef...</td>\n",
              "      <td>yo jj</td>\n",
              "      <td>118a2aae4484ef5742913ffbde97981438fb54ba22ed56...</td>\n",
              "    </tr>\n",
              "  </tbody>\n",
              "</table>\n",
              "</div>\n",
              "      <button class=\"colab-df-convert\" onclick=\"convertToInteractive('df-7640a76f-5ef7-44a5-9bc0-3d5083e4ef4d')\"\n",
              "              title=\"Convert this dataframe to an interactive table.\"\n",
              "              style=\"display:none;\">\n",
              "        \n",
              "  <svg xmlns=\"http://www.w3.org/2000/svg\" height=\"24px\"viewBox=\"0 0 24 24\"\n",
              "       width=\"24px\">\n",
              "    <path d=\"M0 0h24v24H0V0z\" fill=\"none\"/>\n",
              "    <path d=\"M18.56 5.44l.94 2.06.94-2.06 2.06-.94-2.06-.94-.94-2.06-.94 2.06-2.06.94zm-11 1L8.5 8.5l.94-2.06 2.06-.94-2.06-.94L8.5 2.5l-.94 2.06-2.06.94zm10 10l.94 2.06.94-2.06 2.06-.94-2.06-.94-.94-2.06-.94 2.06-2.06.94z\"/><path d=\"M17.41 7.96l-1.37-1.37c-.4-.4-.92-.59-1.43-.59-.52 0-1.04.2-1.43.59L10.3 9.45l-7.72 7.72c-.78.78-.78 2.05 0 2.83L4 21.41c.39.39.9.59 1.41.59.51 0 1.02-.2 1.41-.59l7.78-7.78 2.81-2.81c.8-.78.8-2.07 0-2.86zM5.41 20L4 18.59l7.72-7.72 1.47 1.35L5.41 20z\"/>\n",
              "  </svg>\n",
              "      </button>\n",
              "      \n",
              "  <style>\n",
              "    .colab-df-container {\n",
              "      display:flex;\n",
              "      flex-wrap:wrap;\n",
              "      gap: 12px;\n",
              "    }\n",
              "\n",
              "    .colab-df-convert {\n",
              "      background-color: #E8F0FE;\n",
              "      border: none;\n",
              "      border-radius: 50%;\n",
              "      cursor: pointer;\n",
              "      display: none;\n",
              "      fill: #1967D2;\n",
              "      height: 32px;\n",
              "      padding: 0 0 0 0;\n",
              "      width: 32px;\n",
              "    }\n",
              "\n",
              "    .colab-df-convert:hover {\n",
              "      background-color: #E2EBFA;\n",
              "      box-shadow: 0px 1px 2px rgba(60, 64, 67, 0.3), 0px 1px 3px 1px rgba(60, 64, 67, 0.15);\n",
              "      fill: #174EA6;\n",
              "    }\n",
              "\n",
              "    [theme=dark] .colab-df-convert {\n",
              "      background-color: #3B4455;\n",
              "      fill: #D2E3FC;\n",
              "    }\n",
              "\n",
              "    [theme=dark] .colab-df-convert:hover {\n",
              "      background-color: #434B5C;\n",
              "      box-shadow: 0px 1px 3px 1px rgba(0, 0, 0, 0.15);\n",
              "      filter: drop-shadow(0px 1px 2px rgba(0, 0, 0, 0.3));\n",
              "      fill: #FFFFFF;\n",
              "    }\n",
              "  </style>\n",
              "\n",
              "      <script>\n",
              "        const buttonEl =\n",
              "          document.querySelector('#df-7640a76f-5ef7-44a5-9bc0-3d5083e4ef4d button.colab-df-convert');\n",
              "        buttonEl.style.display =\n",
              "          google.colab.kernel.accessAllowed ? 'block' : 'none';\n",
              "\n",
              "        async function convertToInteractive(key) {\n",
              "          const element = document.querySelector('#df-7640a76f-5ef7-44a5-9bc0-3d5083e4ef4d');\n",
              "          const dataTable =\n",
              "            await google.colab.kernel.invokeFunction('convertToInteractive',\n",
              "                                                     [key], {});\n",
              "          if (!dataTable) return;\n",
              "\n",
              "          const docLinkHtml = 'Like what you see? Visit the ' +\n",
              "            '<a target=\"_blank\" href=https://colab.research.google.com/notebooks/data_table.ipynb>data table notebook</a>'\n",
              "            + ' to learn more about interactive tables.';\n",
              "          element.innerHTML = '';\n",
              "          dataTable['output_type'] = 'display_data';\n",
              "          await google.colab.output.renderOutput(dataTable, element);\n",
              "          const docLink = document.createElement('div');\n",
              "          docLink.innerHTML = docLinkHtml;\n",
              "          element.appendChild(docLink);\n",
              "        }\n",
              "      </script>\n",
              "    </div>\n",
              "  </div>\n",
              "  "
            ],
            "text/plain": [
              "       name  ...                                          signature\n",
              "0    DrDoeg  ...  2671da66309b34b396f42983350e213205f0510124058d...\n",
              "1  lil late  ...  2c10c648ea437d08e33f0a28a83c5ca56986d23b3e046f...\n",
              "2   Paulina  ...  346d7e2fad7856a8b86ef1435fb328284ef123668c39a2...\n",
              "3       Lau  ...  7eb257548a943314a2818a1a9f649c6cfc1d9c475e598b...\n",
              "4    Pamela  ...  f68597821580b15584f42574b812d3d3b4b043ffb70dbe...\n",
              "5      Seco  ...  Fallada (Fail) [Errno 2] No such file or direc...\n",
              "6      Joeq  ...  a5fcf6f0589868bb118b9938936bd3b600a31159699426...\n",
              "7        jj  ...  118a2aae4484ef5742913ffbde97981438fb54ba22ed56...\n",
              "\n",
              "[8 rows x 4 columns]"
            ]
          },
          "metadata": {},
          "execution_count": 50
        }
      ]
    },
    {
      "cell_type": "markdown",
      "source": [
        "## Verificar Sheet0 Firma/Declaración/Clave Pública (Verify Sheet0 Signature/Statement/PublicKey)\n",
        "\n",
        "Usar la biblioteca de criptografía `ecies` directamente sin usar los scripts externos.\n",
        "***\n",
        "Use the `ecies` cryptography library directly without using the external scripts.\n",
        "\n",
        "- importar la biblioteca\\\n",
        " (import library)\n",
        "- definir la función de verificación\\\n",
        "(define verification function)\n",
        "- probar la función\\\n",
        "(test function)\n",
        "- aplicar a cada fila de la tabla\\\n",
        "(apply to every row of table)"
      ],
      "metadata": {
        "id": "_nkacjetuqiJ"
      }
    },
    {
      "cell_type": "code",
      "source": [
        "import eth_keys\n",
        "import ecies\n",
        "\n",
        "def verify(sig,statement,pubkey):\n",
        "  try:\n",
        "    return eth_keys.datatypes.Signature(bytes.fromhex(sig)).verify_msg(statement.encode() if type(statement)!=bytes else statement,eth_keys.keys.PublicKey(bytes.fromhex(pubkey)))\n",
        "  except Exception as E:\n",
        "    return E\n",
        "verify(sig1,my_statement,pubkey1)"
      ],
      "metadata": {
        "id": "rIYQBHGhVY6c",
        "colab": {
          "base_uri": "https://localhost:8080/"
        },
        "outputId": "6181471f-e99a-4bd5-8f62-c6dc98bc976b"
      },
      "execution_count": 46,
      "outputs": [
        {
          "output_type": "execute_result",
          "data": {
            "text/plain": [
              "True"
            ]
          },
          "metadata": {},
          "execution_count": 46
        }
      ]
    },
    {
      "cell_type": "code",
      "source": [
        "dataframe.set_index('name').apply(lambda row: verify(row.signature,row.statement,row.pubkey),axis=1)"
      ],
      "metadata": {
        "id": "rNkF3WrPWTvw",
        "colab": {
          "base_uri": "https://localhost:8080/"
        },
        "outputId": "796ab339-f2ae-4a79-885d-de7edc375df0"
      },
      "execution_count": 47,
      "outputs": [
        {
          "output_type": "execute_result",
          "data": {
            "text/plain": [
              "name\n",
              "DrDoeg                                                   True\n",
              "lil late                                                 True\n",
              "Paulina                                                  True\n",
              "Lau                                                      True\n",
              "Pamela                                                   True\n",
              "Seco        non-hexadecimal number found in fromhex() arg ...\n",
              "Joeq                                                     True\n",
              "jj                                                       True\n",
              "dtype: object"
            ]
          },
          "metadata": {},
          "execution_count": 47
        }
      ]
    },
    {
      "cell_type": "markdown",
      "source": [
        "# Configurar Tableros de Comunicación: Sheets 1-3\n",
        "# (Setup Communication Boards: Sheets 1-3)\n"
      ],
      "metadata": {
        "id": "0aYK2ixlv-yH"
      }
    },
    {
      "cell_type": "code",
      "source": [
        "#ONLY FOR DDOG MC\n",
        "hojas=[sheet1,sheet2,sheet3]\n",
        "participants = dataframe.name.tolist()\n",
        "df=pd.DataFrame('None',columns=participants,index=participants)\n",
        "\n",
        "def fill_sheets(h,dfrm):\n",
        "  for hoja in h:\n",
        "    hoja.clear()\n",
        "    hoja.update([dfrm.columns.values.tolist()] + dfrm.values.tolist())\n",
        "\n",
        "#fill_sheets(hojas,df)\n",
        "\n",
        "df"
      ],
      "metadata": {
        "id": "c6tM_RvpUOkH",
        "colab": {
          "base_uri": "https://localhost:8080/",
          "height": 300
        },
        "outputId": "e18ad046-7974-4983-abd3-1dd508455a27"
      },
      "execution_count": 54,
      "outputs": [
        {
          "output_type": "execute_result",
          "data": {
            "text/html": [
              "\n",
              "  <div id=\"df-be8679b6-d633-44ed-968f-730fbd3537ac\">\n",
              "    <div class=\"colab-df-container\">\n",
              "      <div>\n",
              "<style scoped>\n",
              "    .dataframe tbody tr th:only-of-type {\n",
              "        vertical-align: middle;\n",
              "    }\n",
              "\n",
              "    .dataframe tbody tr th {\n",
              "        vertical-align: top;\n",
              "    }\n",
              "\n",
              "    .dataframe thead th {\n",
              "        text-align: right;\n",
              "    }\n",
              "</style>\n",
              "<table border=\"1\" class=\"dataframe\">\n",
              "  <thead>\n",
              "    <tr style=\"text-align: right;\">\n",
              "      <th></th>\n",
              "      <th>DrDoeg</th>\n",
              "      <th>lil late</th>\n",
              "      <th>Paulina</th>\n",
              "      <th>Lau</th>\n",
              "      <th>Pamela</th>\n",
              "      <th>Seco</th>\n",
              "      <th>Joeq</th>\n",
              "      <th>jj</th>\n",
              "    </tr>\n",
              "  </thead>\n",
              "  <tbody>\n",
              "    <tr>\n",
              "      <th>DrDoeg</th>\n",
              "      <td>None</td>\n",
              "      <td>None</td>\n",
              "      <td>None</td>\n",
              "      <td>None</td>\n",
              "      <td>None</td>\n",
              "      <td>None</td>\n",
              "      <td>None</td>\n",
              "      <td>None</td>\n",
              "    </tr>\n",
              "    <tr>\n",
              "      <th>lil late</th>\n",
              "      <td>None</td>\n",
              "      <td>None</td>\n",
              "      <td>None</td>\n",
              "      <td>None</td>\n",
              "      <td>None</td>\n",
              "      <td>None</td>\n",
              "      <td>None</td>\n",
              "      <td>None</td>\n",
              "    </tr>\n",
              "    <tr>\n",
              "      <th>Paulina</th>\n",
              "      <td>None</td>\n",
              "      <td>None</td>\n",
              "      <td>None</td>\n",
              "      <td>None</td>\n",
              "      <td>None</td>\n",
              "      <td>None</td>\n",
              "      <td>None</td>\n",
              "      <td>None</td>\n",
              "    </tr>\n",
              "    <tr>\n",
              "      <th>Lau</th>\n",
              "      <td>None</td>\n",
              "      <td>None</td>\n",
              "      <td>None</td>\n",
              "      <td>None</td>\n",
              "      <td>None</td>\n",
              "      <td>None</td>\n",
              "      <td>None</td>\n",
              "      <td>None</td>\n",
              "    </tr>\n",
              "    <tr>\n",
              "      <th>Pamela</th>\n",
              "      <td>None</td>\n",
              "      <td>None</td>\n",
              "      <td>None</td>\n",
              "      <td>None</td>\n",
              "      <td>None</td>\n",
              "      <td>None</td>\n",
              "      <td>None</td>\n",
              "      <td>None</td>\n",
              "    </tr>\n",
              "    <tr>\n",
              "      <th>Seco</th>\n",
              "      <td>None</td>\n",
              "      <td>None</td>\n",
              "      <td>None</td>\n",
              "      <td>None</td>\n",
              "      <td>None</td>\n",
              "      <td>None</td>\n",
              "      <td>None</td>\n",
              "      <td>None</td>\n",
              "    </tr>\n",
              "    <tr>\n",
              "      <th>Joeq</th>\n",
              "      <td>None</td>\n",
              "      <td>None</td>\n",
              "      <td>None</td>\n",
              "      <td>None</td>\n",
              "      <td>None</td>\n",
              "      <td>None</td>\n",
              "      <td>None</td>\n",
              "      <td>None</td>\n",
              "    </tr>\n",
              "    <tr>\n",
              "      <th>jj</th>\n",
              "      <td>None</td>\n",
              "      <td>None</td>\n",
              "      <td>None</td>\n",
              "      <td>None</td>\n",
              "      <td>None</td>\n",
              "      <td>None</td>\n",
              "      <td>None</td>\n",
              "      <td>None</td>\n",
              "    </tr>\n",
              "  </tbody>\n",
              "</table>\n",
              "</div>\n",
              "      <button class=\"colab-df-convert\" onclick=\"convertToInteractive('df-be8679b6-d633-44ed-968f-730fbd3537ac')\"\n",
              "              title=\"Convert this dataframe to an interactive table.\"\n",
              "              style=\"display:none;\">\n",
              "        \n",
              "  <svg xmlns=\"http://www.w3.org/2000/svg\" height=\"24px\"viewBox=\"0 0 24 24\"\n",
              "       width=\"24px\">\n",
              "    <path d=\"M0 0h24v24H0V0z\" fill=\"none\"/>\n",
              "    <path d=\"M18.56 5.44l.94 2.06.94-2.06 2.06-.94-2.06-.94-.94-2.06-.94 2.06-2.06.94zm-11 1L8.5 8.5l.94-2.06 2.06-.94-2.06-.94L8.5 2.5l-.94 2.06-2.06.94zm10 10l.94 2.06.94-2.06 2.06-.94-2.06-.94-.94-2.06-.94 2.06-2.06.94z\"/><path d=\"M17.41 7.96l-1.37-1.37c-.4-.4-.92-.59-1.43-.59-.52 0-1.04.2-1.43.59L10.3 9.45l-7.72 7.72c-.78.78-.78 2.05 0 2.83L4 21.41c.39.39.9.59 1.41.59.51 0 1.02-.2 1.41-.59l7.78-7.78 2.81-2.81c.8-.78.8-2.07 0-2.86zM5.41 20L4 18.59l7.72-7.72 1.47 1.35L5.41 20z\"/>\n",
              "  </svg>\n",
              "      </button>\n",
              "      \n",
              "  <style>\n",
              "    .colab-df-container {\n",
              "      display:flex;\n",
              "      flex-wrap:wrap;\n",
              "      gap: 12px;\n",
              "    }\n",
              "\n",
              "    .colab-df-convert {\n",
              "      background-color: #E8F0FE;\n",
              "      border: none;\n",
              "      border-radius: 50%;\n",
              "      cursor: pointer;\n",
              "      display: none;\n",
              "      fill: #1967D2;\n",
              "      height: 32px;\n",
              "      padding: 0 0 0 0;\n",
              "      width: 32px;\n",
              "    }\n",
              "\n",
              "    .colab-df-convert:hover {\n",
              "      background-color: #E2EBFA;\n",
              "      box-shadow: 0px 1px 2px rgba(60, 64, 67, 0.3), 0px 1px 3px 1px rgba(60, 64, 67, 0.15);\n",
              "      fill: #174EA6;\n",
              "    }\n",
              "\n",
              "    [theme=dark] .colab-df-convert {\n",
              "      background-color: #3B4455;\n",
              "      fill: #D2E3FC;\n",
              "    }\n",
              "\n",
              "    [theme=dark] .colab-df-convert:hover {\n",
              "      background-color: #434B5C;\n",
              "      box-shadow: 0px 1px 3px 1px rgba(0, 0, 0, 0.15);\n",
              "      filter: drop-shadow(0px 1px 2px rgba(0, 0, 0, 0.3));\n",
              "      fill: #FFFFFF;\n",
              "    }\n",
              "  </style>\n",
              "\n",
              "      <script>\n",
              "        const buttonEl =\n",
              "          document.querySelector('#df-be8679b6-d633-44ed-968f-730fbd3537ac button.colab-df-convert');\n",
              "        buttonEl.style.display =\n",
              "          google.colab.kernel.accessAllowed ? 'block' : 'none';\n",
              "\n",
              "        async function convertToInteractive(key) {\n",
              "          const element = document.querySelector('#df-be8679b6-d633-44ed-968f-730fbd3537ac');\n",
              "          const dataTable =\n",
              "            await google.colab.kernel.invokeFunction('convertToInteractive',\n",
              "                                                     [key], {});\n",
              "          if (!dataTable) return;\n",
              "\n",
              "          const docLinkHtml = 'Like what you see? Visit the ' +\n",
              "            '<a target=\"_blank\" href=https://colab.research.google.com/notebooks/data_table.ipynb>data table notebook</a>'\n",
              "            + ' to learn more about interactive tables.';\n",
              "          element.innerHTML = '';\n",
              "          dataTable['output_type'] = 'display_data';\n",
              "          await google.colab.output.renderOutput(dataTable, element);\n",
              "          const docLink = document.createElement('div');\n",
              "          docLink.innerHTML = docLinkHtml;\n",
              "          element.appendChild(docLink);\n",
              "        }\n",
              "      </script>\n",
              "    </div>\n",
              "  </div>\n",
              "  "
            ],
            "text/plain": [
              "         DrDoeg lil late Paulina   Lau Pamela  Seco  Joeq    jj\n",
              "DrDoeg     None     None    None  None   None  None  None  None\n",
              "lil late   None     None    None  None   None  None  None  None\n",
              "Paulina    None     None    None  None   None  None  None  None\n",
              "Lau        None     None    None  None   None  None  None  None\n",
              "Pamela     None     None    None  None   None  None  None  None\n",
              "Seco       None     None    None  None   None  None  None  None\n",
              "Joeq       None     None    None  None   None  None  None  None\n",
              "jj         None     None    None  None   None  None  None  None"
            ]
          },
          "metadata": {},
          "execution_count": 54
        }
      ]
    },
    {
      "cell_type": "markdown",
      "source": [
        "# Mensajes Abiertos: Sheet 1 (Open Messages: Sheet 1)\n",
        "\n",
        "***\n",
        "**SHEET 1**: Este es un lugar para charlas públicas informales.\\\n",
        " Todos los mensajes son visibles y cualquier participante puede escribir en cualquier celda. No hay seguridad.\n",
        "***\n",
        "**SHEET 1**: This is a place for casual public chats.\\\n",
        "All messages are visible and any participant can write to any cell. There is no security.\n",
        "***\n",
        "- la fila representa el remitente\\\n",
        "(the row represents the sender)\n",
        "- la columna representa  el destinatario\\\n",
        "(column represents the recipient)"
      ],
      "metadata": {
        "id": "vzG8Iqv8xfph"
      }
    },
    {
      "cell_type": "code",
      "source": [
        "def sheet2df(she):\n",
        "  datafr = pd.DataFrame(she.get_all_records())\n",
        "  datafr.index=datafr.columns\n",
        "  return datafr"
      ],
      "metadata": {
        "id": "8ojeca3Eit_G"
      },
      "execution_count": 71,
      "outputs": []
    },
    {
      "cell_type": "code",
      "source": [
        "dataframe1 = sheet2df(sheet1)\n",
        "dataframe1"
      ],
      "metadata": {
        "id": "1JeW89rRVVNP",
        "colab": {
          "base_uri": "https://localhost:8080/",
          "height": 300
        },
        "outputId": "ae72e358-45a9-492c-a54c-f5c291dd1a96"
      },
      "execution_count": 72,
      "outputs": [
        {
          "output_type": "execute_result",
          "data": {
            "text/html": [
              "\n",
              "  <div id=\"df-44b258c9-7a7d-40e8-9fb8-216d2686596d\">\n",
              "    <div class=\"colab-df-container\">\n",
              "      <div>\n",
              "<style scoped>\n",
              "    .dataframe tbody tr th:only-of-type {\n",
              "        vertical-align: middle;\n",
              "    }\n",
              "\n",
              "    .dataframe tbody tr th {\n",
              "        vertical-align: top;\n",
              "    }\n",
              "\n",
              "    .dataframe thead th {\n",
              "        text-align: right;\n",
              "    }\n",
              "</style>\n",
              "<table border=\"1\" class=\"dataframe\">\n",
              "  <thead>\n",
              "    <tr style=\"text-align: right;\">\n",
              "      <th></th>\n",
              "      <th>DrDoeg</th>\n",
              "      <th>lil late</th>\n",
              "      <th>Paulina</th>\n",
              "      <th>Lau</th>\n",
              "      <th>Pamela</th>\n",
              "      <th>Seco</th>\n",
              "      <th>Joeq</th>\n",
              "      <th>jj</th>\n",
              "    </tr>\n",
              "  </thead>\n",
              "  <tbody>\n",
              "    <tr>\n",
              "      <th>DrDoeg</th>\n",
              "      <td>None</td>\n",
              "      <td>None</td>\n",
              "      <td>None</td>\n",
              "      <td>None</td>\n",
              "      <td>None</td>\n",
              "      <td>None</td>\n",
              "      <td>None</td>\n",
              "      <td>None</td>\n",
              "    </tr>\n",
              "    <tr>\n",
              "      <th>lil late</th>\n",
              "      <td>None</td>\n",
              "      <td>None</td>\n",
              "      <td>None</td>\n",
              "      <td>None</td>\n",
              "      <td>None</td>\n",
              "      <td>None</td>\n",
              "      <td>None</td>\n",
              "      <td>None</td>\n",
              "    </tr>\n",
              "    <tr>\n",
              "      <th>Paulina</th>\n",
              "      <td>None</td>\n",
              "      <td>None</td>\n",
              "      <td>None</td>\n",
              "      <td>None</td>\n",
              "      <td>None</td>\n",
              "      <td>None</td>\n",
              "      <td>None</td>\n",
              "      <td>None</td>\n",
              "    </tr>\n",
              "    <tr>\n",
              "      <th>Lau</th>\n",
              "      <td>None</td>\n",
              "      <td>None</td>\n",
              "      <td>None</td>\n",
              "      <td>None</td>\n",
              "      <td>None</td>\n",
              "      <td>None</td>\n",
              "      <td>None</td>\n",
              "      <td>None</td>\n",
              "    </tr>\n",
              "    <tr>\n",
              "      <th>Pamela</th>\n",
              "      <td>None</td>\n",
              "      <td>None</td>\n",
              "      <td>None</td>\n",
              "      <td>None</td>\n",
              "      <td>None</td>\n",
              "      <td>None</td>\n",
              "      <td>None</td>\n",
              "      <td>None</td>\n",
              "    </tr>\n",
              "    <tr>\n",
              "      <th>Seco</th>\n",
              "      <td>None</td>\n",
              "      <td>None</td>\n",
              "      <td>None</td>\n",
              "      <td>None</td>\n",
              "      <td>None</td>\n",
              "      <td>None</td>\n",
              "      <td>None</td>\n",
              "      <td>None</td>\n",
              "    </tr>\n",
              "    <tr>\n",
              "      <th>Joeq</th>\n",
              "      <td>None</td>\n",
              "      <td>None</td>\n",
              "      <td>None</td>\n",
              "      <td>None</td>\n",
              "      <td>None</td>\n",
              "      <td>None</td>\n",
              "      <td>None</td>\n",
              "      <td>None</td>\n",
              "    </tr>\n",
              "    <tr>\n",
              "      <th>jj</th>\n",
              "      <td>None</td>\n",
              "      <td>None</td>\n",
              "      <td>None</td>\n",
              "      <td>hola</td>\n",
              "      <td>None</td>\n",
              "      <td>None</td>\n",
              "      <td>None</td>\n",
              "      <td>None</td>\n",
              "    </tr>\n",
              "  </tbody>\n",
              "</table>\n",
              "</div>\n",
              "      <button class=\"colab-df-convert\" onclick=\"convertToInteractive('df-44b258c9-7a7d-40e8-9fb8-216d2686596d')\"\n",
              "              title=\"Convert this dataframe to an interactive table.\"\n",
              "              style=\"display:none;\">\n",
              "        \n",
              "  <svg xmlns=\"http://www.w3.org/2000/svg\" height=\"24px\"viewBox=\"0 0 24 24\"\n",
              "       width=\"24px\">\n",
              "    <path d=\"M0 0h24v24H0V0z\" fill=\"none\"/>\n",
              "    <path d=\"M18.56 5.44l.94 2.06.94-2.06 2.06-.94-2.06-.94-.94-2.06-.94 2.06-2.06.94zm-11 1L8.5 8.5l.94-2.06 2.06-.94-2.06-.94L8.5 2.5l-.94 2.06-2.06.94zm10 10l.94 2.06.94-2.06 2.06-.94-2.06-.94-.94-2.06-.94 2.06-2.06.94z\"/><path d=\"M17.41 7.96l-1.37-1.37c-.4-.4-.92-.59-1.43-.59-.52 0-1.04.2-1.43.59L10.3 9.45l-7.72 7.72c-.78.78-.78 2.05 0 2.83L4 21.41c.39.39.9.59 1.41.59.51 0 1.02-.2 1.41-.59l7.78-7.78 2.81-2.81c.8-.78.8-2.07 0-2.86zM5.41 20L4 18.59l7.72-7.72 1.47 1.35L5.41 20z\"/>\n",
              "  </svg>\n",
              "      </button>\n",
              "      \n",
              "  <style>\n",
              "    .colab-df-container {\n",
              "      display:flex;\n",
              "      flex-wrap:wrap;\n",
              "      gap: 12px;\n",
              "    }\n",
              "\n",
              "    .colab-df-convert {\n",
              "      background-color: #E8F0FE;\n",
              "      border: none;\n",
              "      border-radius: 50%;\n",
              "      cursor: pointer;\n",
              "      display: none;\n",
              "      fill: #1967D2;\n",
              "      height: 32px;\n",
              "      padding: 0 0 0 0;\n",
              "      width: 32px;\n",
              "    }\n",
              "\n",
              "    .colab-df-convert:hover {\n",
              "      background-color: #E2EBFA;\n",
              "      box-shadow: 0px 1px 2px rgba(60, 64, 67, 0.3), 0px 1px 3px 1px rgba(60, 64, 67, 0.15);\n",
              "      fill: #174EA6;\n",
              "    }\n",
              "\n",
              "    [theme=dark] .colab-df-convert {\n",
              "      background-color: #3B4455;\n",
              "      fill: #D2E3FC;\n",
              "    }\n",
              "\n",
              "    [theme=dark] .colab-df-convert:hover {\n",
              "      background-color: #434B5C;\n",
              "      box-shadow: 0px 1px 3px 1px rgba(0, 0, 0, 0.15);\n",
              "      filter: drop-shadow(0px 1px 2px rgba(0, 0, 0, 0.3));\n",
              "      fill: #FFFFFF;\n",
              "    }\n",
              "  </style>\n",
              "\n",
              "      <script>\n",
              "        const buttonEl =\n",
              "          document.querySelector('#df-44b258c9-7a7d-40e8-9fb8-216d2686596d button.colab-df-convert');\n",
              "        buttonEl.style.display =\n",
              "          google.colab.kernel.accessAllowed ? 'block' : 'none';\n",
              "\n",
              "        async function convertToInteractive(key) {\n",
              "          const element = document.querySelector('#df-44b258c9-7a7d-40e8-9fb8-216d2686596d');\n",
              "          const dataTable =\n",
              "            await google.colab.kernel.invokeFunction('convertToInteractive',\n",
              "                                                     [key], {});\n",
              "          if (!dataTable) return;\n",
              "\n",
              "          const docLinkHtml = 'Like what you see? Visit the ' +\n",
              "            '<a target=\"_blank\" href=https://colab.research.google.com/notebooks/data_table.ipynb>data table notebook</a>'\n",
              "            + ' to learn more about interactive tables.';\n",
              "          element.innerHTML = '';\n",
              "          dataTable['output_type'] = 'display_data';\n",
              "          await google.colab.output.renderOutput(dataTable, element);\n",
              "          const docLink = document.createElement('div');\n",
              "          docLink.innerHTML = docLinkHtml;\n",
              "          element.appendChild(docLink);\n",
              "        }\n",
              "      </script>\n",
              "    </div>\n",
              "  </div>\n",
              "  "
            ],
            "text/plain": [
              "         DrDoeg lil late Paulina   Lau Pamela  Seco  Joeq    jj\n",
              "DrDoeg     None     None    None  None   None  None  None  None\n",
              "lil late   None     None    None  None   None  None  None  None\n",
              "Paulina    None     None    None  None   None  None  None  None\n",
              "Lau        None     None    None  None   None  None  None  None\n",
              "Pamela     None     None    None  None   None  None  None  None\n",
              "Seco       None     None    None  None   None  None  None  None\n",
              "Joeq       None     None    None  None   None  None  None  None\n",
              "jj         None     None    None  hola   None  None  None  None"
            ]
          },
          "metadata": {},
          "execution_count": 72
        }
      ]
    },
    {
      "cell_type": "markdown",
      "source": [
        "## Crear Widget para Seleccionar el Destinatario del Mensaje (Create Widget for Selecting Message Recipient) "
      ],
      "metadata": {
        "id": "yvx4jlTeyJir"
      }
    },
    {
      "cell_type": "code",
      "source": [
        "import ipywidgets as widgets\n",
        "w=widgets.Dropdown(\n",
        "    options=participants,\n",
        "    value='DrDoeg',\n",
        "    description='Recipient:',\n",
        "    disabled=False,\n",
        ")"
      ],
      "metadata": {
        "id": "g_vi5fjEyHjh"
      },
      "execution_count": 65,
      "outputs": []
    },
    {
      "cell_type": "code",
      "source": [
        "#variable returns dropdown menu\n",
        "#change value by clicking on it\n",
        "w"
      ],
      "metadata": {
        "id": "CUFmHTv2g9G8",
        "colab": {
          "base_uri": "https://localhost:8080/",
          "height": 48,
          "referenced_widgets": [
            "9c562639db2a46bdaa7b44f58ed6e8d2",
            "34b6dd9eb1b8476483f6201eca16e417",
            "e75eebc72603416bab1d9747399d98d2"
          ]
        },
        "outputId": "3068ebf1-420c-4891-ed0a-ff25a68a3d6a"
      },
      "execution_count": 66,
      "outputs": [
        {
          "output_type": "display_data",
          "data": {
            "application/vnd.jupyter.widget-view+json": {
              "model_id": "9c562639db2a46bdaa7b44f58ed6e8d2",
              "version_minor": 0,
              "version_major": 2
            },
            "text/plain": [
              "Dropdown(description='Recipient:', options=('DrDoeg', 'lil late', 'Paulina', 'Lau', 'Pamela', 'Seco', 'Joeq', …"
            ]
          },
          "metadata": {}
        }
      ]
    },
    {
      "cell_type": "code",
      "source": [
        "#\n",
        "w.value"
      ],
      "metadata": {
        "id": "7cRk6xtQixhy",
        "colab": {
          "base_uri": "https://localhost:8080/",
          "height": 36
        },
        "outputId": "a71bdbca-2468-4995-b6e3-bf21ba474301"
      },
      "execution_count": 67,
      "outputs": [
        {
          "output_type": "execute_result",
          "data": {
            "application/vnd.google.colaboratory.intrinsic+json": {
              "type": "string"
            },
            "text/plain": [
              "'DrDoeg'"
            ]
          },
          "metadata": {},
          "execution_count": 67
        }
      ]
    },
    {
      "cell_type": "markdown",
      "source": [
        "## Crear u Publicar Mesaje (Create and Post Message)\n",
        "\n",
        "- Seleccionar contenedor\\\n",
        "(Select recipient)\n",
        "- Escribir un mensaje\\\n",
        "(Write message)\n",
        "- Publicar mensaje\\\n",
        "(Publish message)\n",
        "- Ver tablero de mensajes\\\n",
        "(View message board)"
      ],
      "metadata": {
        "id": "B2Q_fDGQymjc"
      }
    },
    {
      "cell_type": "code",
      "source": [
        "print(f'Vos eres:')\n",
        "print(f'You are: {my_name}')\n",
        "print('~'*20)\n",
        "print('Selectar destinatario del mensaje')\n",
        "print('Select a message recipient')\n",
        "w"
      ],
      "metadata": {
        "id": "Y6Aq1Jmrv6ot",
        "colab": {
          "base_uri": "https://localhost:8080/",
          "height": 141,
          "referenced_widgets": [
            "9c562639db2a46bdaa7b44f58ed6e8d2",
            "34b6dd9eb1b8476483f6201eca16e417",
            "e75eebc72603416bab1d9747399d98d2"
          ]
        },
        "outputId": "99bd4a89-ee4f-4a1e-b813-ad45e21121c2"
      },
      "execution_count": 77,
      "outputs": [
        {
          "output_type": "stream",
          "name": "stdout",
          "text": [
            "Vos eres:\n",
            "You are: jj\n",
            "~~~~~~~~~~~~~~~~~~~~\n",
            "Selectar destinatario del mensaje\n",
            "Select a message recipient\n"
          ]
        },
        {
          "output_type": "display_data",
          "data": {
            "application/vnd.jupyter.widget-view+json": {
              "model_id": "9c562639db2a46bdaa7b44f58ed6e8d2",
              "version_minor": 0,
              "version_major": 2
            },
            "text/plain": [
              "Dropdown(description='Recipient:', index=3, options=('DrDoeg', 'lil late', 'Paulina', 'Lau', 'Pamela', 'Seco',…"
            ]
          },
          "metadata": {}
        }
      ]
    },
    {
      "cell_type": "code",
      "source": [
        "p_dict=dict([ (e,i) for i,e in enumerate(participants)])\n",
        "message=input('send a message')\n",
        "write_cell=(p_dict[my_name]+2,p_dict[w.value]+1)\n",
        "sheet1.update_cell(*write_cell, message)"
      ],
      "metadata": {
        "id": "Hth5kCTvoUbh",
        "colab": {
          "base_uri": "https://localhost:8080/"
        },
        "outputId": "aa845e86-dde4-4837-8ba9-b470f3fdf2d5"
      },
      "execution_count": 69,
      "outputs": [
        {
          "name": "stdout",
          "output_type": "stream",
          "text": [
            "send a messagehola\n"
          ]
        },
        {
          "output_type": "execute_result",
          "data": {
            "text/plain": [
              "{'spreadsheetId': '1z_iLwzlqa_JX7AdRR3OsBeFEgvS0jVYh1oo-X23bMOY',\n",
              " 'updatedCells': 1,\n",
              " 'updatedColumns': 1,\n",
              " 'updatedRange': 'Magic!D9',\n",
              " 'updatedRows': 1}"
            ]
          },
          "metadata": {},
          "execution_count": 69
        }
      ]
    },
    {
      "cell_type": "code",
      "source": [
        "dataframe1 = sheet2df(sheet1)\n",
        "dataframe1"
      ],
      "metadata": {
        "id": "HgP-GlczsjiK",
        "colab": {
          "base_uri": "https://localhost:8080/",
          "height": 300
        },
        "outputId": "b82ccbdf-fab6-4b9a-ec85-22307313ee46"
      },
      "execution_count": 73,
      "outputs": [
        {
          "output_type": "execute_result",
          "data": {
            "text/html": [
              "\n",
              "  <div id=\"df-d71e593a-26fa-4e9f-9f69-ebe5835af67e\">\n",
              "    <div class=\"colab-df-container\">\n",
              "      <div>\n",
              "<style scoped>\n",
              "    .dataframe tbody tr th:only-of-type {\n",
              "        vertical-align: middle;\n",
              "    }\n",
              "\n",
              "    .dataframe tbody tr th {\n",
              "        vertical-align: top;\n",
              "    }\n",
              "\n",
              "    .dataframe thead th {\n",
              "        text-align: right;\n",
              "    }\n",
              "</style>\n",
              "<table border=\"1\" class=\"dataframe\">\n",
              "  <thead>\n",
              "    <tr style=\"text-align: right;\">\n",
              "      <th></th>\n",
              "      <th>DrDoeg</th>\n",
              "      <th>lil late</th>\n",
              "      <th>Paulina</th>\n",
              "      <th>Lau</th>\n",
              "      <th>Pamela</th>\n",
              "      <th>Seco</th>\n",
              "      <th>Joeq</th>\n",
              "      <th>jj</th>\n",
              "    </tr>\n",
              "  </thead>\n",
              "  <tbody>\n",
              "    <tr>\n",
              "      <th>DrDoeg</th>\n",
              "      <td>None</td>\n",
              "      <td>None</td>\n",
              "      <td>None</td>\n",
              "      <td>None</td>\n",
              "      <td>None</td>\n",
              "      <td>None</td>\n",
              "      <td>None</td>\n",
              "      <td>None</td>\n",
              "    </tr>\n",
              "    <tr>\n",
              "      <th>lil late</th>\n",
              "      <td>None</td>\n",
              "      <td>None</td>\n",
              "      <td>None</td>\n",
              "      <td>None</td>\n",
              "      <td>None</td>\n",
              "      <td>None</td>\n",
              "      <td>None</td>\n",
              "      <td>None</td>\n",
              "    </tr>\n",
              "    <tr>\n",
              "      <th>Paulina</th>\n",
              "      <td>None</td>\n",
              "      <td>None</td>\n",
              "      <td>None</td>\n",
              "      <td>None</td>\n",
              "      <td>None</td>\n",
              "      <td>None</td>\n",
              "      <td>None</td>\n",
              "      <td>None</td>\n",
              "    </tr>\n",
              "    <tr>\n",
              "      <th>Lau</th>\n",
              "      <td>None</td>\n",
              "      <td>None</td>\n",
              "      <td>None</td>\n",
              "      <td>None</td>\n",
              "      <td>None</td>\n",
              "      <td>None</td>\n",
              "      <td>None</td>\n",
              "      <td>None</td>\n",
              "    </tr>\n",
              "    <tr>\n",
              "      <th>Pamela</th>\n",
              "      <td>None</td>\n",
              "      <td>None</td>\n",
              "      <td>None</td>\n",
              "      <td>None</td>\n",
              "      <td>None</td>\n",
              "      <td>None</td>\n",
              "      <td>None</td>\n",
              "      <td>None</td>\n",
              "    </tr>\n",
              "    <tr>\n",
              "      <th>Seco</th>\n",
              "      <td>None</td>\n",
              "      <td>None</td>\n",
              "      <td>None</td>\n",
              "      <td>None</td>\n",
              "      <td>None</td>\n",
              "      <td>None</td>\n",
              "      <td>None</td>\n",
              "      <td>None</td>\n",
              "    </tr>\n",
              "    <tr>\n",
              "      <th>Joeq</th>\n",
              "      <td>None</td>\n",
              "      <td>None</td>\n",
              "      <td>None</td>\n",
              "      <td>None</td>\n",
              "      <td>None</td>\n",
              "      <td>None</td>\n",
              "      <td>None</td>\n",
              "      <td>None</td>\n",
              "    </tr>\n",
              "    <tr>\n",
              "      <th>jj</th>\n",
              "      <td>None</td>\n",
              "      <td>None</td>\n",
              "      <td>None</td>\n",
              "      <td>hola</td>\n",
              "      <td>None</td>\n",
              "      <td>None</td>\n",
              "      <td>None</td>\n",
              "      <td>None</td>\n",
              "    </tr>\n",
              "  </tbody>\n",
              "</table>\n",
              "</div>\n",
              "      <button class=\"colab-df-convert\" onclick=\"convertToInteractive('df-d71e593a-26fa-4e9f-9f69-ebe5835af67e')\"\n",
              "              title=\"Convert this dataframe to an interactive table.\"\n",
              "              style=\"display:none;\">\n",
              "        \n",
              "  <svg xmlns=\"http://www.w3.org/2000/svg\" height=\"24px\"viewBox=\"0 0 24 24\"\n",
              "       width=\"24px\">\n",
              "    <path d=\"M0 0h24v24H0V0z\" fill=\"none\"/>\n",
              "    <path d=\"M18.56 5.44l.94 2.06.94-2.06 2.06-.94-2.06-.94-.94-2.06-.94 2.06-2.06.94zm-11 1L8.5 8.5l.94-2.06 2.06-.94-2.06-.94L8.5 2.5l-.94 2.06-2.06.94zm10 10l.94 2.06.94-2.06 2.06-.94-2.06-.94-.94-2.06-.94 2.06-2.06.94z\"/><path d=\"M17.41 7.96l-1.37-1.37c-.4-.4-.92-.59-1.43-.59-.52 0-1.04.2-1.43.59L10.3 9.45l-7.72 7.72c-.78.78-.78 2.05 0 2.83L4 21.41c.39.39.9.59 1.41.59.51 0 1.02-.2 1.41-.59l7.78-7.78 2.81-2.81c.8-.78.8-2.07 0-2.86zM5.41 20L4 18.59l7.72-7.72 1.47 1.35L5.41 20z\"/>\n",
              "  </svg>\n",
              "      </button>\n",
              "      \n",
              "  <style>\n",
              "    .colab-df-container {\n",
              "      display:flex;\n",
              "      flex-wrap:wrap;\n",
              "      gap: 12px;\n",
              "    }\n",
              "\n",
              "    .colab-df-convert {\n",
              "      background-color: #E8F0FE;\n",
              "      border: none;\n",
              "      border-radius: 50%;\n",
              "      cursor: pointer;\n",
              "      display: none;\n",
              "      fill: #1967D2;\n",
              "      height: 32px;\n",
              "      padding: 0 0 0 0;\n",
              "      width: 32px;\n",
              "    }\n",
              "\n",
              "    .colab-df-convert:hover {\n",
              "      background-color: #E2EBFA;\n",
              "      box-shadow: 0px 1px 2px rgba(60, 64, 67, 0.3), 0px 1px 3px 1px rgba(60, 64, 67, 0.15);\n",
              "      fill: #174EA6;\n",
              "    }\n",
              "\n",
              "    [theme=dark] .colab-df-convert {\n",
              "      background-color: #3B4455;\n",
              "      fill: #D2E3FC;\n",
              "    }\n",
              "\n",
              "    [theme=dark] .colab-df-convert:hover {\n",
              "      background-color: #434B5C;\n",
              "      box-shadow: 0px 1px 3px 1px rgba(0, 0, 0, 0.15);\n",
              "      filter: drop-shadow(0px 1px 2px rgba(0, 0, 0, 0.3));\n",
              "      fill: #FFFFFF;\n",
              "    }\n",
              "  </style>\n",
              "\n",
              "      <script>\n",
              "        const buttonEl =\n",
              "          document.querySelector('#df-d71e593a-26fa-4e9f-9f69-ebe5835af67e button.colab-df-convert');\n",
              "        buttonEl.style.display =\n",
              "          google.colab.kernel.accessAllowed ? 'block' : 'none';\n",
              "\n",
              "        async function convertToInteractive(key) {\n",
              "          const element = document.querySelector('#df-d71e593a-26fa-4e9f-9f69-ebe5835af67e');\n",
              "          const dataTable =\n",
              "            await google.colab.kernel.invokeFunction('convertToInteractive',\n",
              "                                                     [key], {});\n",
              "          if (!dataTable) return;\n",
              "\n",
              "          const docLinkHtml = 'Like what you see? Visit the ' +\n",
              "            '<a target=\"_blank\" href=https://colab.research.google.com/notebooks/data_table.ipynb>data table notebook</a>'\n",
              "            + ' to learn more about interactive tables.';\n",
              "          element.innerHTML = '';\n",
              "          dataTable['output_type'] = 'display_data';\n",
              "          await google.colab.output.renderOutput(dataTable, element);\n",
              "          const docLink = document.createElement('div');\n",
              "          docLink.innerHTML = docLinkHtml;\n",
              "          element.appendChild(docLink);\n",
              "        }\n",
              "      </script>\n",
              "    </div>\n",
              "  </div>\n",
              "  "
            ],
            "text/plain": [
              "         DrDoeg lil late Paulina   Lau Pamela  Seco  Joeq    jj\n",
              "DrDoeg     None     None    None  None   None  None  None  None\n",
              "lil late   None     None    None  None   None  None  None  None\n",
              "Paulina    None     None    None  None   None  None  None  None\n",
              "Lau        None     None    None  None   None  None  None  None\n",
              "Pamela     None     None    None  None   None  None  None  None\n",
              "Seco       None     None    None  None   None  None  None  None\n",
              "Joeq       None     None    None  None   None  None  None  None\n",
              "jj         None     None    None  hola   None  None  None  None"
            ]
          },
          "metadata": {},
          "execution_count": 73
        }
      ]
    },
    {
      "cell_type": "code",
      "source": [
        "dataframe1[my_name]"
      ],
      "metadata": {
        "id": "9tyQ7fx8qZk-",
        "colab": {
          "base_uri": "https://localhost:8080/"
        },
        "outputId": "d079e969-461d-440b-8e63-b38e9c82e4be"
      },
      "execution_count": 78,
      "outputs": [
        {
          "output_type": "execute_result",
          "data": {
            "text/plain": [
              "DrDoeg      None\n",
              "lil late    None\n",
              "Paulina     None\n",
              "Lau         None\n",
              "Pamela      None\n",
              "Seco        None\n",
              "Joeq        None\n",
              "jj          None\n",
              "Name: jj, dtype: object"
            ]
          },
          "metadata": {},
          "execution_count": 78
        }
      ]
    },
    {
      "cell_type": "markdown",
      "source": [
        "# Mensajes Cifradas (Encrypted Messages) : Sheet2"
      ],
      "metadata": {
        "id": "FLOxmlhKzbuB"
      }
    },
    {
      "cell_type": "code",
      "source": [
        "dataframe2 = sheet2df(sheet2)\n",
        "dataframe2"
      ],
      "metadata": {
        "id": "u5cVM59SwqoR",
        "colab": {
          "base_uri": "https://localhost:8080/",
          "height": 300
        },
        "outputId": "bab27459-3a40-48d5-e595-a1d99aa6d02c"
      },
      "execution_count": 79,
      "outputs": [
        {
          "output_type": "execute_result",
          "data": {
            "text/html": [
              "\n",
              "  <div id=\"df-b97589b4-4a06-433a-a3b5-cce74c699327\">\n",
              "    <div class=\"colab-df-container\">\n",
              "      <div>\n",
              "<style scoped>\n",
              "    .dataframe tbody tr th:only-of-type {\n",
              "        vertical-align: middle;\n",
              "    }\n",
              "\n",
              "    .dataframe tbody tr th {\n",
              "        vertical-align: top;\n",
              "    }\n",
              "\n",
              "    .dataframe thead th {\n",
              "        text-align: right;\n",
              "    }\n",
              "</style>\n",
              "<table border=\"1\" class=\"dataframe\">\n",
              "  <thead>\n",
              "    <tr style=\"text-align: right;\">\n",
              "      <th></th>\n",
              "      <th>DrDoeg</th>\n",
              "      <th>lil late</th>\n",
              "      <th>Paulina</th>\n",
              "      <th>Lau</th>\n",
              "      <th>Pamela</th>\n",
              "      <th>Seco</th>\n",
              "      <th>Joeq</th>\n",
              "      <th>jj</th>\n",
              "    </tr>\n",
              "  </thead>\n",
              "  <tbody>\n",
              "    <tr>\n",
              "      <th>DrDoeg</th>\n",
              "      <td>None</td>\n",
              "      <td>None</td>\n",
              "      <td>None</td>\n",
              "      <td>None</td>\n",
              "      <td>None</td>\n",
              "      <td>None</td>\n",
              "      <td>None</td>\n",
              "      <td>None</td>\n",
              "    </tr>\n",
              "    <tr>\n",
              "      <th>lil late</th>\n",
              "      <td>None</td>\n",
              "      <td>None</td>\n",
              "      <td>None</td>\n",
              "      <td>None</td>\n",
              "      <td>None</td>\n",
              "      <td>None</td>\n",
              "      <td>None</td>\n",
              "      <td>None</td>\n",
              "    </tr>\n",
              "    <tr>\n",
              "      <th>Paulina</th>\n",
              "      <td>None</td>\n",
              "      <td>None</td>\n",
              "      <td>None</td>\n",
              "      <td>None</td>\n",
              "      <td>None</td>\n",
              "      <td>None</td>\n",
              "      <td>None</td>\n",
              "      <td>None</td>\n",
              "    </tr>\n",
              "    <tr>\n",
              "      <th>Lau</th>\n",
              "      <td>None</td>\n",
              "      <td>None</td>\n",
              "      <td>None</td>\n",
              "      <td>None</td>\n",
              "      <td>None</td>\n",
              "      <td>None</td>\n",
              "      <td>None</td>\n",
              "      <td>None</td>\n",
              "    </tr>\n",
              "    <tr>\n",
              "      <th>Pamela</th>\n",
              "      <td>None</td>\n",
              "      <td>None</td>\n",
              "      <td>None</td>\n",
              "      <td>None</td>\n",
              "      <td>None</td>\n",
              "      <td>None</td>\n",
              "      <td>None</td>\n",
              "      <td>None</td>\n",
              "    </tr>\n",
              "    <tr>\n",
              "      <th>Seco</th>\n",
              "      <td>None</td>\n",
              "      <td>None</td>\n",
              "      <td>None</td>\n",
              "      <td>None</td>\n",
              "      <td>None</td>\n",
              "      <td>None</td>\n",
              "      <td>None</td>\n",
              "      <td>None</td>\n",
              "    </tr>\n",
              "    <tr>\n",
              "      <th>Joeq</th>\n",
              "      <td>None</td>\n",
              "      <td>None</td>\n",
              "      <td>None</td>\n",
              "      <td>None</td>\n",
              "      <td>None</td>\n",
              "      <td>None</td>\n",
              "      <td>None</td>\n",
              "      <td>None</td>\n",
              "    </tr>\n",
              "    <tr>\n",
              "      <th>jj</th>\n",
              "      <td>None</td>\n",
              "      <td>None</td>\n",
              "      <td>None</td>\n",
              "      <td>None</td>\n",
              "      <td>None</td>\n",
              "      <td>None</td>\n",
              "      <td>None</td>\n",
              "      <td>None</td>\n",
              "    </tr>\n",
              "  </tbody>\n",
              "</table>\n",
              "</div>\n",
              "      <button class=\"colab-df-convert\" onclick=\"convertToInteractive('df-b97589b4-4a06-433a-a3b5-cce74c699327')\"\n",
              "              title=\"Convert this dataframe to an interactive table.\"\n",
              "              style=\"display:none;\">\n",
              "        \n",
              "  <svg xmlns=\"http://www.w3.org/2000/svg\" height=\"24px\"viewBox=\"0 0 24 24\"\n",
              "       width=\"24px\">\n",
              "    <path d=\"M0 0h24v24H0V0z\" fill=\"none\"/>\n",
              "    <path d=\"M18.56 5.44l.94 2.06.94-2.06 2.06-.94-2.06-.94-.94-2.06-.94 2.06-2.06.94zm-11 1L8.5 8.5l.94-2.06 2.06-.94-2.06-.94L8.5 2.5l-.94 2.06-2.06.94zm10 10l.94 2.06.94-2.06 2.06-.94-2.06-.94-.94-2.06-.94 2.06-2.06.94z\"/><path d=\"M17.41 7.96l-1.37-1.37c-.4-.4-.92-.59-1.43-.59-.52 0-1.04.2-1.43.59L10.3 9.45l-7.72 7.72c-.78.78-.78 2.05 0 2.83L4 21.41c.39.39.9.59 1.41.59.51 0 1.02-.2 1.41-.59l7.78-7.78 2.81-2.81c.8-.78.8-2.07 0-2.86zM5.41 20L4 18.59l7.72-7.72 1.47 1.35L5.41 20z\"/>\n",
              "  </svg>\n",
              "      </button>\n",
              "      \n",
              "  <style>\n",
              "    .colab-df-container {\n",
              "      display:flex;\n",
              "      flex-wrap:wrap;\n",
              "      gap: 12px;\n",
              "    }\n",
              "\n",
              "    .colab-df-convert {\n",
              "      background-color: #E8F0FE;\n",
              "      border: none;\n",
              "      border-radius: 50%;\n",
              "      cursor: pointer;\n",
              "      display: none;\n",
              "      fill: #1967D2;\n",
              "      height: 32px;\n",
              "      padding: 0 0 0 0;\n",
              "      width: 32px;\n",
              "    }\n",
              "\n",
              "    .colab-df-convert:hover {\n",
              "      background-color: #E2EBFA;\n",
              "      box-shadow: 0px 1px 2px rgba(60, 64, 67, 0.3), 0px 1px 3px 1px rgba(60, 64, 67, 0.15);\n",
              "      fill: #174EA6;\n",
              "    }\n",
              "\n",
              "    [theme=dark] .colab-df-convert {\n",
              "      background-color: #3B4455;\n",
              "      fill: #D2E3FC;\n",
              "    }\n",
              "\n",
              "    [theme=dark] .colab-df-convert:hover {\n",
              "      background-color: #434B5C;\n",
              "      box-shadow: 0px 1px 3px 1px rgba(0, 0, 0, 0.15);\n",
              "      filter: drop-shadow(0px 1px 2px rgba(0, 0, 0, 0.3));\n",
              "      fill: #FFFFFF;\n",
              "    }\n",
              "  </style>\n",
              "\n",
              "      <script>\n",
              "        const buttonEl =\n",
              "          document.querySelector('#df-b97589b4-4a06-433a-a3b5-cce74c699327 button.colab-df-convert');\n",
              "        buttonEl.style.display =\n",
              "          google.colab.kernel.accessAllowed ? 'block' : 'none';\n",
              "\n",
              "        async function convertToInteractive(key) {\n",
              "          const element = document.querySelector('#df-b97589b4-4a06-433a-a3b5-cce74c699327');\n",
              "          const dataTable =\n",
              "            await google.colab.kernel.invokeFunction('convertToInteractive',\n",
              "                                                     [key], {});\n",
              "          if (!dataTable) return;\n",
              "\n",
              "          const docLinkHtml = 'Like what you see? Visit the ' +\n",
              "            '<a target=\"_blank\" href=https://colab.research.google.com/notebooks/data_table.ipynb>data table notebook</a>'\n",
              "            + ' to learn more about interactive tables.';\n",
              "          element.innerHTML = '';\n",
              "          dataTable['output_type'] = 'display_data';\n",
              "          await google.colab.output.renderOutput(dataTable, element);\n",
              "          const docLink = document.createElement('div');\n",
              "          docLink.innerHTML = docLinkHtml;\n",
              "          element.appendChild(docLink);\n",
              "        }\n",
              "      </script>\n",
              "    </div>\n",
              "  </div>\n",
              "  "
            ],
            "text/plain": [
              "         DrDoeg lil late Paulina   Lau Pamela  Seco  Joeq    jj\n",
              "DrDoeg     None     None    None  None   None  None  None  None\n",
              "lil late   None     None    None  None   None  None  None  None\n",
              "Paulina    None     None    None  None   None  None  None  None\n",
              "Lau        None     None    None  None   None  None  None  None\n",
              "Pamela     None     None    None  None   None  None  None  None\n",
              "Seco       None     None    None  None   None  None  None  None\n",
              "Joeq       None     None    None  None   None  None  None  None\n",
              "jj         None     None    None  None   None  None  None  None"
            ]
          },
          "metadata": {},
          "execution_count": 79
        }
      ]
    },
    {
      "cell_type": "code",
      "source": [
        "def encrypt_message(hexPubKey,message):\n",
        "    if type(message)!=bytes:\n",
        "        message=message.encode()\n",
        "    return ecies.encrypt(hexPubKey,message).hex()"
      ],
      "metadata": {
        "id": "zUnwSc5MYtx0"
      },
      "execution_count": 80,
      "outputs": []
    },
    {
      "cell_type": "code",
      "source": [
        "w"
      ],
      "metadata": {
        "id": "54B8FB32nLxN",
        "colab": {
          "base_uri": "https://localhost:8080/",
          "height": 48,
          "referenced_widgets": [
            "9c562639db2a46bdaa7b44f58ed6e8d2",
            "34b6dd9eb1b8476483f6201eca16e417",
            "e75eebc72603416bab1d9747399d98d2"
          ]
        },
        "outputId": "16439240-15e5-418a-c842-3bd1faa37590"
      },
      "execution_count": 81,
      "outputs": [
        {
          "output_type": "display_data",
          "data": {
            "application/vnd.jupyter.widget-view+json": {
              "model_id": "9c562639db2a46bdaa7b44f58ed6e8d2",
              "version_minor": 0,
              "version_major": 2
            },
            "text/plain": [
              "Dropdown(description='Recipient:', index=3, options=('DrDoeg', 'lil late', 'Paulina', 'Lau', 'Pamela', 'Seco',…"
            ]
          },
          "metadata": {}
        }
      ]
    },
    {
      "cell_type": "code",
      "source": [
        "message=input('send an encrypted message')\n",
        "write_cell=(p_dict[my_name]+2,p_dict[w.value]+1)\n",
        "sheet2.update_cell(*write_cell, encrypt_message(dataframe.set_index('name').pubkey[w.value],message))"
      ],
      "metadata": {
        "id": "57EM8VGFas_B",
        "colab": {
          "base_uri": "https://localhost:8080/"
        },
        "outputId": "ee4b02b3-9553-435f-cfa9-a51b5f415e04"
      },
      "execution_count": 87,
      "outputs": [
        {
          "name": "stdout",
          "output_type": "stream",
          "text": [
            "send an encrypted messageme\n"
          ]
        },
        {
          "output_type": "execute_result",
          "data": {
            "text/plain": [
              "{'spreadsheetId': '1z_iLwzlqa_JX7AdRR3OsBeFEgvS0jVYh1oo-X23bMOY',\n",
              " 'updatedCells': 1,\n",
              " 'updatedColumns': 1,\n",
              " 'updatedRange': 'ChorusSignature!H9',\n",
              " 'updatedRows': 1}"
            ]
          },
          "metadata": {},
          "execution_count": 87
        }
      ]
    },
    {
      "cell_type": "code",
      "source": [
        "dataframe2 = sheet2df(sheet2)\n",
        "dataframe2"
      ],
      "metadata": {
        "id": "XpnawJKL9QFa",
        "colab": {
          "base_uri": "https://localhost:8080/",
          "height": 381
        },
        "outputId": "4d2281d2-929d-4722-facf-07c2e5c2169c"
      },
      "execution_count": 88,
      "outputs": [
        {
          "output_type": "execute_result",
          "data": {
            "text/html": [
              "\n",
              "  <div id=\"df-b48c38bf-6061-4007-a2a1-76a2735bf27d\">\n",
              "    <div class=\"colab-df-container\">\n",
              "      <div>\n",
              "<style scoped>\n",
              "    .dataframe tbody tr th:only-of-type {\n",
              "        vertical-align: middle;\n",
              "    }\n",
              "\n",
              "    .dataframe tbody tr th {\n",
              "        vertical-align: top;\n",
              "    }\n",
              "\n",
              "    .dataframe thead th {\n",
              "        text-align: right;\n",
              "    }\n",
              "</style>\n",
              "<table border=\"1\" class=\"dataframe\">\n",
              "  <thead>\n",
              "    <tr style=\"text-align: right;\">\n",
              "      <th></th>\n",
              "      <th>DrDoeg</th>\n",
              "      <th>lil late</th>\n",
              "      <th>Paulina</th>\n",
              "      <th>Lau</th>\n",
              "      <th>Pamela</th>\n",
              "      <th>Seco</th>\n",
              "      <th>Joeq</th>\n",
              "      <th>jj</th>\n",
              "    </tr>\n",
              "  </thead>\n",
              "  <tbody>\n",
              "    <tr>\n",
              "      <th>DrDoeg</th>\n",
              "      <td>None</td>\n",
              "      <td>None</td>\n",
              "      <td>None</td>\n",
              "      <td>None</td>\n",
              "      <td>None</td>\n",
              "      <td>None</td>\n",
              "      <td>None</td>\n",
              "      <td>None</td>\n",
              "    </tr>\n",
              "    <tr>\n",
              "      <th>lil late</th>\n",
              "      <td>None</td>\n",
              "      <td>None</td>\n",
              "      <td>None</td>\n",
              "      <td>None</td>\n",
              "      <td>None</td>\n",
              "      <td>None</td>\n",
              "      <td>None</td>\n",
              "      <td>None</td>\n",
              "    </tr>\n",
              "    <tr>\n",
              "      <th>Paulina</th>\n",
              "      <td>None</td>\n",
              "      <td>None</td>\n",
              "      <td>None</td>\n",
              "      <td>None</td>\n",
              "      <td>None</td>\n",
              "      <td>None</td>\n",
              "      <td>None</td>\n",
              "      <td>None</td>\n",
              "    </tr>\n",
              "    <tr>\n",
              "      <th>Lau</th>\n",
              "      <td>None</td>\n",
              "      <td>None</td>\n",
              "      <td>None</td>\n",
              "      <td>None</td>\n",
              "      <td>None</td>\n",
              "      <td>None</td>\n",
              "      <td>None</td>\n",
              "      <td>None</td>\n",
              "    </tr>\n",
              "    <tr>\n",
              "      <th>Pamela</th>\n",
              "      <td>None</td>\n",
              "      <td>None</td>\n",
              "      <td>None</td>\n",
              "      <td>None</td>\n",
              "      <td>None</td>\n",
              "      <td>None</td>\n",
              "      <td>None</td>\n",
              "      <td>None</td>\n",
              "    </tr>\n",
              "    <tr>\n",
              "      <th>Seco</th>\n",
              "      <td>None</td>\n",
              "      <td>None</td>\n",
              "      <td>None</td>\n",
              "      <td>None</td>\n",
              "      <td>None</td>\n",
              "      <td>None</td>\n",
              "      <td>None</td>\n",
              "      <td>None</td>\n",
              "    </tr>\n",
              "    <tr>\n",
              "      <th>Joeq</th>\n",
              "      <td>None</td>\n",
              "      <td>None</td>\n",
              "      <td>None</td>\n",
              "      <td>None</td>\n",
              "      <td>None</td>\n",
              "      <td>None</td>\n",
              "      <td>None</td>\n",
              "      <td>None</td>\n",
              "    </tr>\n",
              "    <tr>\n",
              "      <th>jj</th>\n",
              "      <td>None</td>\n",
              "      <td>None</td>\n",
              "      <td>None</td>\n",
              "      <td>04da56c8c4854ac6ff84ef169ac8b7fcef9bec055d12c8...</td>\n",
              "      <td>None</td>\n",
              "      <td>None</td>\n",
              "      <td>None</td>\n",
              "      <td>04a026888092a8f67c77e8cf6626912f22159df6cb2236...</td>\n",
              "    </tr>\n",
              "  </tbody>\n",
              "</table>\n",
              "</div>\n",
              "      <button class=\"colab-df-convert\" onclick=\"convertToInteractive('df-b48c38bf-6061-4007-a2a1-76a2735bf27d')\"\n",
              "              title=\"Convert this dataframe to an interactive table.\"\n",
              "              style=\"display:none;\">\n",
              "        \n",
              "  <svg xmlns=\"http://www.w3.org/2000/svg\" height=\"24px\"viewBox=\"0 0 24 24\"\n",
              "       width=\"24px\">\n",
              "    <path d=\"M0 0h24v24H0V0z\" fill=\"none\"/>\n",
              "    <path d=\"M18.56 5.44l.94 2.06.94-2.06 2.06-.94-2.06-.94-.94-2.06-.94 2.06-2.06.94zm-11 1L8.5 8.5l.94-2.06 2.06-.94-2.06-.94L8.5 2.5l-.94 2.06-2.06.94zm10 10l.94 2.06.94-2.06 2.06-.94-2.06-.94-.94-2.06-.94 2.06-2.06.94z\"/><path d=\"M17.41 7.96l-1.37-1.37c-.4-.4-.92-.59-1.43-.59-.52 0-1.04.2-1.43.59L10.3 9.45l-7.72 7.72c-.78.78-.78 2.05 0 2.83L4 21.41c.39.39.9.59 1.41.59.51 0 1.02-.2 1.41-.59l7.78-7.78 2.81-2.81c.8-.78.8-2.07 0-2.86zM5.41 20L4 18.59l7.72-7.72 1.47 1.35L5.41 20z\"/>\n",
              "  </svg>\n",
              "      </button>\n",
              "      \n",
              "  <style>\n",
              "    .colab-df-container {\n",
              "      display:flex;\n",
              "      flex-wrap:wrap;\n",
              "      gap: 12px;\n",
              "    }\n",
              "\n",
              "    .colab-df-convert {\n",
              "      background-color: #E8F0FE;\n",
              "      border: none;\n",
              "      border-radius: 50%;\n",
              "      cursor: pointer;\n",
              "      display: none;\n",
              "      fill: #1967D2;\n",
              "      height: 32px;\n",
              "      padding: 0 0 0 0;\n",
              "      width: 32px;\n",
              "    }\n",
              "\n",
              "    .colab-df-convert:hover {\n",
              "      background-color: #E2EBFA;\n",
              "      box-shadow: 0px 1px 2px rgba(60, 64, 67, 0.3), 0px 1px 3px 1px rgba(60, 64, 67, 0.15);\n",
              "      fill: #174EA6;\n",
              "    }\n",
              "\n",
              "    [theme=dark] .colab-df-convert {\n",
              "      background-color: #3B4455;\n",
              "      fill: #D2E3FC;\n",
              "    }\n",
              "\n",
              "    [theme=dark] .colab-df-convert:hover {\n",
              "      background-color: #434B5C;\n",
              "      box-shadow: 0px 1px 3px 1px rgba(0, 0, 0, 0.15);\n",
              "      filter: drop-shadow(0px 1px 2px rgba(0, 0, 0, 0.3));\n",
              "      fill: #FFFFFF;\n",
              "    }\n",
              "  </style>\n",
              "\n",
              "      <script>\n",
              "        const buttonEl =\n",
              "          document.querySelector('#df-b48c38bf-6061-4007-a2a1-76a2735bf27d button.colab-df-convert');\n",
              "        buttonEl.style.display =\n",
              "          google.colab.kernel.accessAllowed ? 'block' : 'none';\n",
              "\n",
              "        async function convertToInteractive(key) {\n",
              "          const element = document.querySelector('#df-b48c38bf-6061-4007-a2a1-76a2735bf27d');\n",
              "          const dataTable =\n",
              "            await google.colab.kernel.invokeFunction('convertToInteractive',\n",
              "                                                     [key], {});\n",
              "          if (!dataTable) return;\n",
              "\n",
              "          const docLinkHtml = 'Like what you see? Visit the ' +\n",
              "            '<a target=\"_blank\" href=https://colab.research.google.com/notebooks/data_table.ipynb>data table notebook</a>'\n",
              "            + ' to learn more about interactive tables.';\n",
              "          element.innerHTML = '';\n",
              "          dataTable['output_type'] = 'display_data';\n",
              "          await google.colab.output.renderOutput(dataTable, element);\n",
              "          const docLink = document.createElement('div');\n",
              "          docLink.innerHTML = docLinkHtml;\n",
              "          element.appendChild(docLink);\n",
              "        }\n",
              "      </script>\n",
              "    </div>\n",
              "  </div>\n",
              "  "
            ],
            "text/plain": [
              "         DrDoeg  ...                                                 jj\n",
              "DrDoeg     None  ...                                               None\n",
              "lil late   None  ...                                               None\n",
              "Paulina    None  ...                                               None\n",
              "Lau        None  ...                                               None\n",
              "Pamela     None  ...                                               None\n",
              "Seco       None  ...                                               None\n",
              "Joeq       None  ...                                               None\n",
              "jj         None  ...  04a026888092a8f67c77e8cf6626912f22159df6cb2236...\n",
              "\n",
              "[8 rows x 8 columns]"
            ]
          },
          "metadata": {},
          "execution_count": 88
        }
      ]
    },
    {
      "cell_type": "code",
      "source": [
        "def import_privKey(path,password):\n",
        "  import hashlib\n",
        "  if type(password)!=bytes:\n",
        "    password=password.encode()\n",
        "  f=open(path,'rb')\n",
        "  decrypted_bytes=ecies.aes_decrypt(key=hashlib.sha256(password).digest(),cipher_text=f.read())\n",
        "  privKey=eth_keys.keys.PrivateKey(decrypted_bytes)\n",
        "  f.close()\n",
        "  return privKey\n",
        "\n",
        "def decrypt_message(privKey,cipherhex):\n",
        "    try:\n",
        "      ciphertext=bytes.fromhex(cipherhex)\n",
        "      return ecies.decrypt(privKey.to_hex(),ciphertext)\n",
        "    except:\n",
        "      return None"
      ],
      "metadata": {
        "id": "nOof0MakbGX8"
      },
      "execution_count": 93,
      "outputs": []
    },
    {
      "cell_type": "code",
      "source": [
        "decrypt_message(import_privKey('llaves/prvkey1.eck',''),dataframe2[my_name][my_name])"
      ],
      "metadata": {
        "id": "JTDE-5zIg9vq",
        "colab": {
          "base_uri": "https://localhost:8080/"
        },
        "outputId": "2d657f8a-56b0-420b-8a46-fffab7a4a4f1"
      },
      "execution_count": 96,
      "outputs": [
        {
          "output_type": "execute_result",
          "data": {
            "text/plain": [
              "b'me'"
            ]
          },
          "metadata": {},
          "execution_count": 96
        }
      ]
    },
    {
      "cell_type": "code",
      "source": [
        "k=import_privKey('llaves/prvkey1.eck','')\n",
        "tr=dataframe2[my_name].apply(lambda x: decrypt_message(k,x))\n",
        "tr"
      ],
      "metadata": {
        "id": "-6xzJ10Be8zD",
        "colab": {
          "base_uri": "https://localhost:8080/"
        },
        "outputId": "09f371a9-e339-45f5-971f-45dbd1014db8"
      },
      "execution_count": 97,
      "outputs": [
        {
          "output_type": "execute_result",
          "data": {
            "text/plain": [
              "DrDoeg       None\n",
              "lil late     None\n",
              "Paulina      None\n",
              "Lau          None\n",
              "Pamela       None\n",
              "Seco         None\n",
              "Joeq         None\n",
              "jj          b'me'\n",
              "Name: jj, dtype: object"
            ]
          },
          "metadata": {},
          "execution_count": 97
        }
      ]
    },
    {
      "cell_type": "markdown",
      "source": [
        "# Firmada y Cifrada (Signed and Encrypted) : Sheet3"
      ],
      "metadata": {
        "id": "6AReJROPrgJd"
      }
    },
    {
      "cell_type": "code",
      "source": [
        "def sign_message(privKey,message):\n",
        "    if type(message)!=bytes:\n",
        "        message=message.encode()\n",
        "    signature= privKey.sign_msg(message)\n",
        "    return signature.to_bytes().hex()"
      ],
      "metadata": {
        "id": "qlpB7gF3mQlz"
      },
      "execution_count": null,
      "outputs": []
    },
    {
      "cell_type": "code",
      "source": [
        "mess=input('message')\n",
        "mess_sig=sign_message(import_privKey('llaves/prvkey1.eck',''),mess)\n",
        "mess_sig"
      ],
      "metadata": {
        "id": "xdP29gqtrvED"
      },
      "execution_count": null,
      "outputs": []
    },
    {
      "cell_type": "code",
      "source": [
        "emess=encrypt_message(pubkey1,mess)\n",
        "emess"
      ],
      "metadata": {
        "id": "c2XYMcf4VS5b"
      },
      "execution_count": null,
      "outputs": []
    },
    {
      "cell_type": "code",
      "source": [
        "emess_sig=sign_message(k,bytes.fromhex(emess))\n",
        "emess_sig,len(emess_sig)"
      ],
      "metadata": {
        "id": "UPOzyzuQVz9u"
      },
      "execution_count": null,
      "outputs": []
    },
    {
      "cell_type": "code",
      "source": [
        "emess_sig,emess"
      ],
      "metadata": {
        "id": "uTraoPVGkmYB"
      },
      "execution_count": null,
      "outputs": []
    },
    {
      "cell_type": "code",
      "source": [
        "def sign_encrypt_message(privKey,hexpubKey,message):\n",
        "    if type(message)!=bytes:\n",
        "        message=message.encode()\n",
        "    byte_enc=bytes.fromhex(encrypt_message(hexpubKey,message))\n",
        "    signature= privKey.sign_msg(byte_enc)\n",
        "    return signature.to_bytes().hex()+byte_enc.hex()"
      ],
      "metadata": {
        "id": "9spAIuUtXNwk"
      },
      "execution_count": null,
      "outputs": []
    },
    {
      "cell_type": "code",
      "source": [
        "sgen=sign_encrypt_message(k,pubkey1,mess)\n",
        "sgen"
      ],
      "metadata": {
        "id": "9jHj1CEIZvJK"
      },
      "execution_count": null,
      "outputs": []
    },
    {
      "cell_type": "code",
      "source": [
        "def decrypt_verify(pubkey,privkey,block):\n",
        "  try:\n",
        "    ver=verify(block[:130],bytes.fromhex(block[130:]),pubkey)\n",
        "    return decrypt_message(privkey,block[130:]),ver\n",
        "  except:\n",
        "    return None"
      ],
      "metadata": {
        "id": "Xk76WMZhlu-h"
      },
      "execution_count": null,
      "outputs": []
    },
    {
      "cell_type": "code",
      "source": [
        "decrypt_verify(pubkey1,k,sgen)"
      ],
      "metadata": {
        "id": "j9lRRIjZrUEv"
      },
      "execution_count": null,
      "outputs": []
    },
    {
      "cell_type": "code",
      "source": [
        "message=input('send a signed and encrypted message')\n",
        "write_cell=(p_dict[my_name]+2,p_dict[w.value]+1)\n",
        "signed_enc_message=sign_encrypt_message(k,pubkey1,message)\n",
        "sheet3.update_cell(*write_cell, encrypt_message(dataframe.set_index('name').pubkey[w.value],signed_enc_message))\n",
        "dataframe3 = pd.DataFrame(sheet3.get_all_records())\n",
        "dataframe3.index=dataframe3.columns\n",
        "dataframe3"
      ],
      "metadata": {
        "id": "b_sTTlD5rnsp"
      },
      "execution_count": null,
      "outputs": []
    },
    {
      "cell_type": "code",
      "source": [
        "dataframe3 = pd.DataFrame(sheet3.get_all_records())\n",
        "dataframe3.index=dataframe3.columns\n",
        "dataframe3"
      ],
      "metadata": {
        "id": "76aYgtllrawL"
      },
      "execution_count": null,
      "outputs": []
    },
    {
      "cell_type": "code",
      "source": [
        "pubkey_name=dataframe.set_index('name')['pubkey']\n",
        "dataframe3[[my_name]].reset_index().apply(lambda x: decrypt_verify(pubkey_name[x['index']],k,x[my_name])  ,axis=1)"
      ],
      "metadata": {
        "id": "j3cJtgCcsSWs"
      },
      "execution_count": null,
      "outputs": []
    },
    {
      "cell_type": "code",
      "source": [
        ""
      ],
      "metadata": {
        "id": "8ikxz9TRcMoD"
      },
      "execution_count": null,
      "outputs": []
    },
    {
      "cell_type": "code",
      "source": [
        ""
      ],
      "metadata": {
        "id": "wj0Omb7tfLlW"
      },
      "execution_count": null,
      "outputs": []
    }
  ],
  "metadata": {
    "kernelspec": {
      "display_name": "Python 3",
      "language": "python",
      "name": "python3"
    },
    "language_info": {
      "codemirror_mode": {
        "name": "ipython",
        "version": 3
      },
      "file_extension": ".py",
      "mimetype": "text/x-python",
      "name": "python",
      "nbconvert_exporter": "python",
      "pygments_lexer": "ipython3",
      "version": "3.7.6"
    },
    "colab": {
      "name": "04_cuaderno.ipynb",
      "provenance": []
    },
    "widgets": {
      "application/vnd.jupyter.widget-state+json": {
        "9c562639db2a46bdaa7b44f58ed6e8d2": {
          "model_module": "@jupyter-widgets/controls",
          "model_name": "DropdownModel",
          "model_module_version": "1.5.0",
          "state": {
            "_options_labels": [
              "DrDoeg",
              "lil late",
              "Paulina",
              "Lau",
              "Pamela",
              "Seco",
              "Joeq",
              "jj"
            ],
            "_view_name": "DropdownView",
            "style": "IPY_MODEL_34b6dd9eb1b8476483f6201eca16e417",
            "_dom_classes": [],
            "description": "Recipient:",
            "_model_name": "DropdownModel",
            "index": 7,
            "_view_module": "@jupyter-widgets/controls",
            "_model_module_version": "1.5.0",
            "_view_count": null,
            "disabled": false,
            "_view_module_version": "1.5.0",
            "description_tooltip": null,
            "_model_module": "@jupyter-widgets/controls",
            "layout": "IPY_MODEL_e75eebc72603416bab1d9747399d98d2"
          }
        },
        "34b6dd9eb1b8476483f6201eca16e417": {
          "model_module": "@jupyter-widgets/controls",
          "model_name": "DescriptionStyleModel",
          "model_module_version": "1.5.0",
          "state": {
            "_view_name": "StyleView",
            "_model_name": "DescriptionStyleModel",
            "description_width": "",
            "_view_module": "@jupyter-widgets/base",
            "_model_module_version": "1.5.0",
            "_view_count": null,
            "_view_module_version": "1.2.0",
            "_model_module": "@jupyter-widgets/controls"
          }
        },
        "e75eebc72603416bab1d9747399d98d2": {
          "model_module": "@jupyter-widgets/base",
          "model_name": "LayoutModel",
          "model_module_version": "1.2.0",
          "state": {
            "_view_name": "LayoutView",
            "grid_template_rows": null,
            "right": null,
            "justify_content": null,
            "_view_module": "@jupyter-widgets/base",
            "overflow": null,
            "_model_module_version": "1.2.0",
            "_view_count": null,
            "flex_flow": null,
            "width": null,
            "min_width": null,
            "border": null,
            "align_items": null,
            "bottom": null,
            "_model_module": "@jupyter-widgets/base",
            "top": null,
            "grid_column": null,
            "overflow_y": null,
            "overflow_x": null,
            "grid_auto_flow": null,
            "grid_area": null,
            "grid_template_columns": null,
            "flex": null,
            "_model_name": "LayoutModel",
            "justify_items": null,
            "grid_row": null,
            "max_height": null,
            "align_content": null,
            "visibility": null,
            "align_self": null,
            "height": null,
            "min_height": null,
            "padding": null,
            "grid_auto_rows": null,
            "grid_gap": null,
            "max_width": null,
            "order": null,
            "_view_module_version": "1.2.0",
            "grid_template_areas": null,
            "object_position": null,
            "object_fit": null,
            "grid_auto_columns": null,
            "margin": null,
            "display": null,
            "left": null
          }
        }
      }
    }
  },
  "nbformat": 4,
  "nbformat_minor": 0
}