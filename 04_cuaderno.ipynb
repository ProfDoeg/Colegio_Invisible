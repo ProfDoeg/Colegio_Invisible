{
  "cells": [
    {
      "cell_type": "markdown",
      "metadata": {
        "id": "V0ZeHUAcjaPF"
      },
      "source": [
        "# Autenticidad, \n",
        "# los Mensajes Secretos,\n",
        "# y Seguridad\n",
        "\n"
      ]
    },
    {
      "cell_type": "markdown",
      "metadata": {
        "id": "RQdcZFCXjaPC"
      },
      "source": [
        "<a href=\"https://colab.research.google.com/github/ProfDoeg/Colegio_Invisible/blob/master/04_cuaderno.ipynb\" target=\"_parent\"><img src=\"https://colab.research.google.com/assets/colab-badge.svg\" alt=\"Open In Colab\"/></a>"
      ]
    },
    {
      "cell_type": "markdown",
      "source": [
        "# Preparar el Espacio (Prepare the Space)"
      ],
      "metadata": {
        "id": "s3aBh2Q-caF9"
      }
    },
    {
      "cell_type": "code",
      "execution_count": 9,
      "metadata": {
        "id": "iOt3lIV-jaPG",
        "colab": {
          "base_uri": "https://localhost:8080/"
        },
        "outputId": "9c56ae87-e32f-45e1-c5a5-6b85b90e3c18"
      },
      "outputs": [
        {
          "output_type": "stream",
          "name": "stdout",
          "text": [
            "Requirement already satisfied: eciespy in /usr/local/lib/python3.7/dist-packages (0.3.11)\n",
            "Requirement already satisfied: eth_keys in /usr/local/lib/python3.7/dist-packages (0.3.4)\n",
            "Requirement already satisfied: gspread in /usr/local/lib/python3.7/dist-packages (5.1.1)\n",
            "Requirement already satisfied: oauth2client in /usr/local/lib/python3.7/dist-packages (4.1.3)\n",
            "Requirement already satisfied: coincurve<16,>=13 in /usr/local/lib/python3.7/dist-packages (from eciespy) (15.0.1)\n",
            "Requirement already satisfied: pycryptodome<4.0.0,>=3.9.9 in /usr/local/lib/python3.7/dist-packages (from eciespy) (3.13.0)\n",
            "Requirement already satisfied: eth-utils<2.0.0,>=1.8.2 in /usr/local/lib/python3.7/dist-packages (from eth_keys) (1.10.0)\n",
            "Requirement already satisfied: eth-typing<3.0.0,>=2.2.1 in /usr/local/lib/python3.7/dist-packages (from eth_keys) (2.3.0)\n",
            "Requirement already satisfied: asn1crypto in /usr/local/lib/python3.7/dist-packages (from coincurve<16,>=13->eciespy) (1.4.0)\n",
            "Requirement already satisfied: cffi>=1.3.0 in /usr/local/lib/python3.7/dist-packages (from coincurve<16,>=13->eciespy) (1.15.0)\n",
            "Requirement already satisfied: pycparser in /usr/local/lib/python3.7/dist-packages (from cffi>=1.3.0->coincurve<16,>=13->eciespy) (2.21)\n",
            "Requirement already satisfied: eth-hash<0.4.0,>=0.3.1 in /usr/local/lib/python3.7/dist-packages (from eth-utils<2.0.0,>=1.8.2->eth_keys) (0.3.2)\n",
            "Requirement already satisfied: cytoolz<1.0.0,>=0.10.1 in /usr/local/lib/python3.7/dist-packages (from eth-utils<2.0.0,>=1.8.2->eth_keys) (0.11.2)\n",
            "Requirement already satisfied: toolz>=0.8.0 in /usr/local/lib/python3.7/dist-packages (from cytoolz<1.0.0,>=0.10.1->eth-utils<2.0.0,>=1.8.2->eth_keys) (0.11.2)\n",
            "Requirement already satisfied: google-auth-oauthlib>=0.4.1 in /usr/local/lib/python3.7/dist-packages (from gspread) (0.4.6)\n",
            "Requirement already satisfied: google-auth>=1.12.0 in /usr/local/lib/python3.7/dist-packages (from gspread) (1.35.0)\n",
            "Requirement already satisfied: cachetools<5.0,>=2.0.0 in /usr/local/lib/python3.7/dist-packages (from google-auth>=1.12.0->gspread) (4.2.4)\n",
            "Requirement already satisfied: six>=1.9.0 in /usr/local/lib/python3.7/dist-packages (from google-auth>=1.12.0->gspread) (1.15.0)\n",
            "Requirement already satisfied: rsa<5,>=3.1.4 in /usr/local/lib/python3.7/dist-packages (from google-auth>=1.12.0->gspread) (4.8)\n",
            "Requirement already satisfied: pyasn1-modules>=0.2.1 in /usr/local/lib/python3.7/dist-packages (from google-auth>=1.12.0->gspread) (0.2.8)\n",
            "Requirement already satisfied: setuptools>=40.3.0 in /usr/local/lib/python3.7/dist-packages (from google-auth>=1.12.0->gspread) (57.4.0)\n",
            "Requirement already satisfied: requests-oauthlib>=0.7.0 in /usr/local/lib/python3.7/dist-packages (from google-auth-oauthlib>=0.4.1->gspread) (1.3.0)\n",
            "Requirement already satisfied: pyasn1<0.5.0,>=0.4.6 in /usr/local/lib/python3.7/dist-packages (from pyasn1-modules>=0.2.1->google-auth>=1.12.0->gspread) (0.4.8)\n",
            "Requirement already satisfied: oauthlib>=3.0.0 in /usr/local/lib/python3.7/dist-packages (from requests-oauthlib>=0.7.0->google-auth-oauthlib>=0.4.1->gspread) (3.1.1)\n",
            "Requirement already satisfied: requests>=2.0.0 in /usr/local/lib/python3.7/dist-packages (from requests-oauthlib>=0.7.0->google-auth-oauthlib>=0.4.1->gspread) (2.23.0)\n",
            "Requirement already satisfied: urllib3!=1.25.0,!=1.25.1,<1.26,>=1.21.1 in /usr/local/lib/python3.7/dist-packages (from requests>=2.0.0->requests-oauthlib>=0.7.0->google-auth-oauthlib>=0.4.1->gspread) (1.24.3)\n",
            "Requirement already satisfied: chardet<4,>=3.0.2 in /usr/local/lib/python3.7/dist-packages (from requests>=2.0.0->requests-oauthlib>=0.7.0->google-auth-oauthlib>=0.4.1->gspread) (3.0.4)\n",
            "Requirement already satisfied: idna<3,>=2.5 in /usr/local/lib/python3.7/dist-packages (from requests>=2.0.0->requests-oauthlib>=0.7.0->google-auth-oauthlib>=0.4.1->gspread) (2.10)\n",
            "Requirement already satisfied: certifi>=2017.4.17 in /usr/local/lib/python3.7/dist-packages (from requests>=2.0.0->requests-oauthlib>=0.7.0->google-auth-oauthlib>=0.4.1->gspread) (2021.10.8)\n",
            "Requirement already satisfied: httplib2>=0.9.1 in /usr/local/lib/python3.7/dist-packages (from oauth2client) (0.17.4)\n",
            "Cloning into 'Colegio_Invisible'...\n",
            "remote: Enumerating objects: 610, done.\u001b[K\n",
            "remote: Counting objects: 100% (424/424), done.\u001b[K\n",
            "remote: Compressing objects: 100% (399/399), done.\u001b[K\n",
            "remote: Total 610 (delta 293), reused 23 (delta 23), pack-reused 186\u001b[K\n",
            "Receiving objects: 100% (610/610), 35.03 MiB | 16.43 MiB/s, done.\n",
            "Resolving deltas: 100% (405/405), done.\n",
            "Requirement already satisfied: gspread in /usr/local/lib/python3.7/dist-packages (5.1.1)\n",
            "Requirement already satisfied: google-auth-oauthlib>=0.4.1 in /usr/local/lib/python3.7/dist-packages (from gspread) (0.4.6)\n",
            "Requirement already satisfied: google-auth>=1.12.0 in /usr/local/lib/python3.7/dist-packages (from gspread) (1.35.0)\n",
            "Requirement already satisfied: setuptools>=40.3.0 in /usr/local/lib/python3.7/dist-packages (from google-auth>=1.12.0->gspread) (57.4.0)\n",
            "Requirement already satisfied: six>=1.9.0 in /usr/local/lib/python3.7/dist-packages (from google-auth>=1.12.0->gspread) (1.15.0)\n",
            "Requirement already satisfied: cachetools<5.0,>=2.0.0 in /usr/local/lib/python3.7/dist-packages (from google-auth>=1.12.0->gspread) (4.2.4)\n",
            "Requirement already satisfied: pyasn1-modules>=0.2.1 in /usr/local/lib/python3.7/dist-packages (from google-auth>=1.12.0->gspread) (0.2.8)\n",
            "Requirement already satisfied: rsa<5,>=3.1.4 in /usr/local/lib/python3.7/dist-packages (from google-auth>=1.12.0->gspread) (4.8)\n",
            "Requirement already satisfied: requests-oauthlib>=0.7.0 in /usr/local/lib/python3.7/dist-packages (from google-auth-oauthlib>=0.4.1->gspread) (1.3.0)\n",
            "Requirement already satisfied: pyasn1<0.5.0,>=0.4.6 in /usr/local/lib/python3.7/dist-packages (from pyasn1-modules>=0.2.1->google-auth>=1.12.0->gspread) (0.4.8)\n",
            "Requirement already satisfied: oauthlib>=3.0.0 in /usr/local/lib/python3.7/dist-packages (from requests-oauthlib>=0.7.0->google-auth-oauthlib>=0.4.1->gspread) (3.1.1)\n",
            "Requirement already satisfied: requests>=2.0.0 in /usr/local/lib/python3.7/dist-packages (from requests-oauthlib>=0.7.0->google-auth-oauthlib>=0.4.1->gspread) (2.23.0)\n",
            "Requirement already satisfied: urllib3!=1.25.0,!=1.25.1,<1.26,>=1.21.1 in /usr/local/lib/python3.7/dist-packages (from requests>=2.0.0->requests-oauthlib>=0.7.0->google-auth-oauthlib>=0.4.1->gspread) (1.24.3)\n",
            "Requirement already satisfied: certifi>=2017.4.17 in /usr/local/lib/python3.7/dist-packages (from requests>=2.0.0->requests-oauthlib>=0.7.0->google-auth-oauthlib>=0.4.1->gspread) (2021.10.8)\n",
            "Requirement already satisfied: idna<3,>=2.5 in /usr/local/lib/python3.7/dist-packages (from requests>=2.0.0->requests-oauthlib>=0.7.0->google-auth-oauthlib>=0.4.1->gspread) (2.10)\n",
            "Requirement already satisfied: chardet<4,>=3.0.2 in /usr/local/lib/python3.7/dist-packages (from requests>=2.0.0->requests-oauthlib>=0.7.0->google-auth-oauthlib>=0.4.1->gspread) (3.0.4)\n"
          ]
        }
      ],
      "source": [
        "! pip install eciespy eth_keys gspread oauth2client\n",
        "! git clone https://github.com/ProfDoeg/Colegio_Invisible.git\n",
        "! pip install --upgrade gspread"
      ]
    },
    {
      "cell_type": "markdown",
      "source": [
        "# Historias\n",
        "\n",
        "<img src=\"https://github.com/ProfDoeg/Colegio_Invisible/raw/main/img/barb_2.jpeg\" width=\"250\"/>\n",
        "\n",
        "\n",
        "*¡Verdezuela, Verdezuela,\\\n",
        "Suéltame tu cabellera!*\\\n",
        "-La Bruja\n",
        "\n",
        "*Encryption is a powerful defensive\\\n",
        "weapon for free people.*\\\n",
        "-Esther Dyson\n",
        "\n",
        "\n"
      ],
      "metadata": {
        "id": "jn1G2OUIzoAz"
      }
    },
    {
      "cell_type": "markdown",
      "source": [
        "# Aplicar Criptografía Para Crear un Ensamblaje de Mensajería Seguro \n",
        "# (Apply Cryptography to Create a Secure Messaging Assembly)\n",
        "\n",
        "## Esquema (Outline) \n",
        "\n",
        "Aplicar criptografía para crear un tablero de mensajes securos.\n",
        "***\n",
        "Apply cryptography to build a secure messaging board.\n",
        "\n",
        "## Metas (Goals)\n",
        "\n",
        "- crear y guardar claves\\\n",
        "(create and save keys)\n",
        "- descargar/cargar claves\\\n",
        "(download/upload keys)\n",
        "- descifrar el token de acceso a la hoja de cálculo\\\n",
        "(decrypt spreadsheet access token)\n",
        "- entender `gspread`\\\n",
        "(understand `gspread`)\n",
        "- publicar: nombre, clave pública, mensaje público y firma\\\n",
        "(post: name, public key, public message, and signature)\n",
        "- firmar mensaje\\\n",
        "(sign message)\n",
        "- verificar mensaje\\\n",
        "(verify message)\n",
        "- escribir mensaje a otros participantes\\\n",
        "(write message to other participants)\n",
        "- escribir un mensaje encriptado a otro participante\\\n",
        "(write encrypted message to other participant)\n",
        "- escribir mensaje firmado y encriptado\\\n",
        "(write signed and encrypted message)\n"
      ],
      "metadata": {
        "id": "LI7dlYfxGVCR"
      }
    },
    {
      "cell_type": "markdown",
      "source": [
        "# Gestionar Archivos de Claves (Manage Key Files)\n",
        "\n",
        "## Obtener Claves (Get Keys)\n",
        "\n",
        "3 Opciones (3 Options):\n",
        "- hacer nuevas claves\\\n",
        "(make new keys)\n",
        "- cargar claves generadas previamente\\\n",
        "(load previously generated keys)\n",
        "  - desde la disco local\\\n",
        "  (from local drive)\n",
        "  - desde Google Drive\\\n",
        "  (from Google Drive)\n"
      ],
      "metadata": {
        "id": "hegcdI1x8CCX"
      }
    },
    {
      "cell_type": "markdown",
      "source": [
        "### Hacer Nuevas Claves (Make New Keys)"
      ],
      "metadata": {
        "id": "0rXCUBbefqzQ"
      }
    },
    {
      "cell_type": "code",
      "source": [
        "! mkdir llaves"
      ],
      "metadata": {
        "id": "YjCzL1LVwFdw"
      },
      "execution_count": 3,
      "outputs": []
    },
    {
      "cell_type": "code",
      "source": [
        "! python Colegio_Invisible/scripts/ecc_generate.py llaves/prvkey1.eck"
      ],
      "metadata": {
        "id": "knENRpKUvfyx",
        "colab": {
          "base_uri": "https://localhost:8080/"
        },
        "outputId": "4babd1e0-c01c-43b5-96e6-8cf65a8eb763"
      },
      "execution_count": 4,
      "outputs": [
        {
          "output_type": "stream",
          "name": "stdout",
          "text": [
            "Input password for encrypting keyfile:\n",
            "Ingresar password para cifrar el archivo de la clave:\n",
            "Repetir (Repeat): \n",
            "\n",
            "Passwords match...\n",
            "\n",
            "Passwords son iguales...\n",
            "Generación de la clave privada está terminada (Private key generation complete)\n",
            "La clave privada está cifrada y escrita en un archivo binario:\n",
            "Private key encrypted and written to binary file: llaves/prvkey1.eck\n",
            "cb9b7dc1a693039e6390a4e4f2d3f6d84ecf218cdc45c20aafcf4e4ea0a3a7fcbc21a34f0883dc3f050f71f14cef629c0cd85eaa3dc7f6d43ff711dc8c201d60\n"
          ]
        }
      ]
    },
    {
      "cell_type": "code",
      "source": [
        "! python Colegio_Invisible/scripts/ecc_pubkey_extract.py llaves/prvkey1.eck llaves/pubkey1.eck "
      ],
      "metadata": {
        "id": "OWfZF_rrxVZJ",
        "colab": {
          "base_uri": "https://localhost:8080/"
        },
        "outputId": "5e2d5ba0-a6ad-44f5-e99e-cf389075cf2e"
      },
      "execution_count": 5,
      "outputs": [
        {
          "output_type": "stream",
          "name": "stdout",
          "text": [
            "Input password for private key file:\n",
            "Ingresar password para acceder al archivo del la clave privada:\n",
            "Input password for public key file:\n",
            "Ingresar password para acceder al archivo del la clave pública: \n",
            "Repetir (Repeat): \n",
            "\n",
            "Passwords match...\n",
            "\n",
            "Passwords son iguales...\n",
            "Extracción de la clave pública terminada desde\n",
            "(Completed public key extraction from): llaves/prvkey1.eck\n",
            "La clave pública está cifrada y escrita en archivo binario\n",
            "(Public key encrypted and written to binary file): llaves/pubkey1.eck\n",
            "62cab2c31c9a13f8e912ba14e1706e0f0b15de2b1ea0d6026e65611d8e651a20d9b31241dcac3362b4e5f0d47c594f9980fc45f312f11e749b26c15756f762a967f8f152c5680482517d92df458c976ee175977f023294308e7738591b675f10\n"
          ]
        }
      ]
    },
    {
      "cell_type": "markdown",
      "source": [
        "### Cargar Claves (Load Keys)\n",
        "\n",
        "**EJECUTAR SOLO SI HAS GUARDADO PREVIAMENTE LAS CLAVES**\n",
        "***\n",
        "**ONLY RUN IF YOU HAVE PREVIOUSLY SAVED KEYS**"
      ],
      "metadata": {
        "id": "X8Ay9_UOgOzg"
      }
    },
    {
      "cell_type": "markdown",
      "source": [
        "#### De Disco Local (From Local Disk)"
      ],
      "metadata": {
        "id": "vszQAQ7wfHE7"
      }
    },
    {
      "cell_type": "code",
      "source": [
        "from google.colab import files\n",
        "fu=files.upload();"
      ],
      "metadata": {
        "id": "OM3tnc6Ce8yF"
      },
      "execution_count": null,
      "outputs": []
    },
    {
      "cell_type": "code",
      "source": [
        "! unzip llaves.zip"
      ],
      "metadata": {
        "id": "8CZjo15bfMqI"
      },
      "execution_count": null,
      "outputs": []
    },
    {
      "cell_type": "markdown",
      "source": [
        "#### De Google Drive (From Google Drive)\n",
        "\n",
        "1. Montar Google Drive\\\n",
        "(Mount Google Drive)\n",
        "2. Copiar el archivo de clave desde la ubicación al directorio actual\\\n",
        "(Copy key file from location to present directory)\n",
        "3. Unzip archivo de clave\\\n",
        "(Unzip key file)"
      ],
      "metadata": {
        "id": "28lO-mHxkZIn"
      }
    },
    {
      "cell_type": "code",
      "source": [
        "from google.colab import drive\n",
        "drive.mount('/content/drive')"
      ],
      "metadata": {
        "id": "puBq-maLZrZI"
      },
      "execution_count": null,
      "outputs": []
    },
    {
      "cell_type": "code",
      "source": [
        "! cp drive/MyDrive/cinv/llaves.zip llaves.zip \n",
        "! unzip llaves.zip"
      ],
      "metadata": {
        "id": "Gn__M4u3ZpGU"
      },
      "execution_count": null,
      "outputs": []
    },
    {
      "cell_type": "markdown",
      "source": [
        "### Guardar Llaves (Save Keys) "
      ],
      "metadata": {
        "id": "psYayEMxgAWa"
      }
    },
    {
      "cell_type": "markdown",
      "source": [
        "#### A Disco Local (To Local Disk)"
      ],
      "metadata": {
        "id": "cwZ4aBsjf2ba"
      }
    },
    {
      "cell_type": "code",
      "source": [
        "#note\n",
        "! zip -r llaves.zip llaves"
      ],
      "metadata": {
        "id": "NTj5GlPKdIAb"
      },
      "execution_count": null,
      "outputs": []
    },
    {
      "cell_type": "code",
      "source": [
        "#note\n",
        "from google.colab import files\n",
        "f=files.download('llaves.zip');"
      ],
      "metadata": {
        "id": "v2f9HCM9dPdf"
      },
      "execution_count": null,
      "outputs": []
    },
    {
      "cell_type": "markdown",
      "source": [
        "#### A Google Drive (To Google Drive)"
      ],
      "metadata": {
        "id": "PXfGYBbZgMKj"
      }
    },
    {
      "cell_type": "code",
      "source": [
        "from google.colab import drive\n",
        "drive.mount('/content/drive')"
      ],
      "metadata": {
        "id": "_XvgQ0WHg6KV"
      },
      "execution_count": null,
      "outputs": []
    },
    {
      "cell_type": "code",
      "source": [
        "! cp llaves.zip drive/MyDrive/cinv/llaves.zip "
      ],
      "metadata": {
        "id": "LicuYQ0Bg52C"
      },
      "execution_count": null,
      "outputs": []
    },
    {
      "cell_type": "markdown",
      "source": [
        "# Usar Guion Para Acceder Clave Pública (Use Script to Access Public Key)"
      ],
      "metadata": {
        "id": "tQsnoXMOiQto"
      }
    },
    {
      "cell_type": "code",
      "source": [
        "ret=!{ 'python Colegio_Invisible/scripts/ecc_keydump.py llaves/pubkey1.eck'}\n",
        "pubkey1=ret[-1]\n",
        "pubkey1"
      ],
      "metadata": {
        "id": "qInALQ0e03RH",
        "colab": {
          "base_uri": "https://localhost:8080/",
          "height": 54
        },
        "outputId": "8721ae32-6e03-4437-e074-fcf51967ac94"
      },
      "execution_count": 10,
      "outputs": [
        {
          "output_type": "execute_result",
          "data": {
            "application/vnd.google.colaboratory.intrinsic+json": {
              "type": "string"
            },
            "text/plain": [
              "'7da1b363b5942d7aeeeedb092520701b44f12e39d6c2972edd11821ad1db4f8c137f604db9b099fc37f41d8033d66f16b93b234760c1ba6bf05850d6b2917965'"
            ]
          },
          "metadata": {},
          "execution_count": 10
        }
      ]
    },
    {
      "cell_type": "markdown",
      "source": [
        "# Gestionar el Acceso a Google Sheets (Manage Access to Google Sheets)\n",
        "\n",
        "\n",
        "## Descifrar Credenciales de API (Decrypt API Credentials)\n",
        "\n",
        "$\\color{white}{\\text{c0leg101nv1s1ble}}$"
      ],
      "metadata": {
        "id": "euUO0urHigI7"
      }
    },
    {
      "cell_type": "markdown",
      "source": [
        "Usar la contraseña de arriba para descifrar `client_secret.aes`\n",
        "***\n",
        "Use the above password to decrypt `client_secret.aes`\n",
        "\n",
        "\n",
        "\n"
      ],
      "metadata": {
        "id": "-Pu3mgzGin5K"
      }
    },
    {
      "cell_type": "code",
      "source": [
        "! python Colegio_Invisible/scripts/aes_decrypt.py Colegio_Invisible/secrets/client_secret.aes Colegio_Invisible/secrets/client_secret.json "
      ],
      "metadata": {
        "id": "_spdugChrzcl",
        "colab": {
          "base_uri": "https://localhost:8080/"
        },
        "outputId": "c34c1ae6-3a55-496f-e29d-f9eaab5a200a"
      },
      "execution_count": 11,
      "outputs": [
        {
          "output_type": "stream",
          "name": "stdout",
          "text": [
            "Input password for decryption:\n",
            "Ingresar password para decifrar: \n",
            "Éxito (Success): Colegio_Invisible/secrets/client_secret.aes decifrado con éxito (decryption complete)\n",
            "Escrito a (Written to): Colegio_Invisible/secrets/client_secret.json\n"
          ]
        }
      ]
    },
    {
      "cell_type": "code",
      "source": [
        "! ls Colegio_Invisible/secrets"
      ],
      "metadata": {
        "id": "wHRKKx020tyr",
        "colab": {
          "base_uri": "https://localhost:8080/"
        },
        "outputId": "9e110a77-fe6b-4e7d-ca2a-8bf01f31c7b0"
      },
      "execution_count": 12,
      "outputs": [
        {
          "output_type": "stream",
          "name": "stdout",
          "text": [
            "client_secret.aes  client_secret.json\n"
          ]
        }
      ]
    },
    {
      "cell_type": "markdown",
      "source": [
        "## `gspread` \n",
        "\n"
      ],
      "metadata": {
        "id": "ljlmDL7en1jB"
      }
    },
    {
      "cell_type": "markdown",
      "source": [
        "`gspread` es un módulo de Python para la interacción programática con Google Sheets.\n",
        "***\n",
        "`gspread` is a python module for programmatic interaction with Google Sheets. \n",
        "***\n",
        "***\n",
        "Todos los participantes tendrán acceso a la misma hoja de cálculo en la nube.\n",
        "***\n",
        "All the participants will have access to the same spreadsheet in the cloud."
      ],
      "metadata": {
        "id": "2oEHDjMTnMLD"
      }
    },
    {
      "cell_type": "markdown",
      "source": [
        "https://docs.gspread.org/en/latest/user-guide.html"
      ],
      "metadata": {
        "id": "OZlTWab55ESc"
      }
    },
    {
      "cell_type": "markdown",
      "source": [
        "Usar las credenciales descifradas para autenticar y obtener acceso API a la hoja de cálculo\n",
        "***\n",
        "Use the decrypted credentials to authenticate and gain API access to the spreadsheet"
      ],
      "metadata": {
        "id": "vZAzWXoeVrda"
      }
    },
    {
      "cell_type": "code",
      "execution_count": 13,
      "metadata": {
        "id": "mU3aBoN3jaPI"
      },
      "outputs": [],
      "source": [
        "import gspread\n",
        "from oauth2client.service_account import ServiceAccountCredentials\n",
        "# use creds to create a client to interact with the Google Drive API\n",
        "scope = ['https://spreadsheets.google.com/feeds',\n",
        "         'https://www.googleapis.com/auth/drive']\n",
        "creds = ServiceAccountCredentials.from_json_keyfile_name('Colegio_Invisible/secrets/client_secret.json', scope)\n",
        "client = gspread.authorize(creds)\n",
        "sheets = client.open(\"signatures\")"
      ]
    },
    {
      "cell_type": "markdown",
      "source": [
        "# Sheets"
      ],
      "metadata": {
        "id": "BmK_oPUizxHP"
      }
    },
    {
      "cell_type": "markdown",
      "source": [
        "Aquí podemos ver la estructura de la hoja de cálculo y todas las capas o `Worksheet`\n",
        "***\n",
        "Here we can see the structure of the spreadsheet and all of the layers or `Worksheet`"
      ],
      "metadata": {
        "id": "NvzeBI7Xo8R-"
      }
    },
    {
      "cell_type": "code",
      "source": [
        "sheets.worksheets()"
      ],
      "metadata": {
        "id": "Jh9kVHwao_7H",
        "colab": {
          "base_uri": "https://localhost:8080/"
        },
        "outputId": "64876430-a4f8-47fe-aa94-bc326e003bd6"
      },
      "execution_count": 14,
      "outputs": [
        {
          "output_type": "execute_result",
          "data": {
            "text/plain": [
              "[<Worksheet 'Multi' id:0>,\n",
              " <Worksheet 'Magic' id:2092809244>,\n",
              " <Worksheet 'ChorusSignature' id:549527758>,\n",
              " <Worksheet 'StealProposal' id:858983463>,\n",
              " <Worksheet 'StealSignature' id:475665302>,\n",
              " <Worksheet 'test' id:2104752728>]"
            ]
          },
          "metadata": {},
          "execution_count": 14
        }
      ]
    },
    {
      "cell_type": "markdown",
      "source": [
        "## Sheet 0 : Roster"
      ],
      "metadata": {
        "id": "uwpNqis9z_yg"
      }
    },
    {
      "cell_type": "markdown",
      "source": [
        "Aislar la primera hoja donde consultamos la primera fila\n",
        "***\n",
        "Isolate the first sheet where we query the first row"
      ],
      "metadata": {
        "id": "wr0GwHR5pVpL"
      }
    },
    {
      "cell_type": "code",
      "source": [
        "sheet=sheets.worksheets()[0]\n",
        "sheet.row_values(1)"
      ],
      "metadata": {
        "id": "4TpJzRis965I",
        "colab": {
          "base_uri": "https://localhost:8080/"
        },
        "outputId": "80d5694e-2e63-428d-9fbe-dad439fb4209"
      },
      "execution_count": 15,
      "outputs": [
        {
          "output_type": "execute_result",
          "data": {
            "text/plain": [
              "['name', 'pubkey', 'statement', 'signature']"
            ]
          },
          "metadata": {},
          "execution_count": 15
        }
      ]
    },
    {
      "cell_type": "markdown",
      "source": [
        "**PELIGRO: NO EJECUTAR**\n",
        "***\n",
        "**DANGER: DO NOT RUN**"
      ],
      "metadata": {
        "id": "rhAmowGH1At8"
      }
    },
    {
      "cell_type": "code",
      "source": [
        "#sheet.clear()\n",
        "#sheet.update_cell(1, \"name\")\n",
        "#sheet.append_row([\"name\", \"pubkey\",\"statement\",\"signature\"])\n",
        "#sheet.__dir__()"
      ],
      "metadata": {
        "id": "lY-DDACNIbI2"
      },
      "execution_count": null,
      "outputs": []
    },
    {
      "cell_type": "markdown",
      "source": [
        "### Publicar en la Lista (Publish in the Roster)\n",
        "\n",
        "Publicar (Publish):\n",
        "\n",
        "- `name` of participant\\\n",
        "(nombre)\n",
        "- `pubkey` public key of participant in hex\\\n",
        "(clave público de participante en hexadecimal)\n",
        "- `statement` is the declaration signed by participant\\\n",
        "(la declaración firmada por el participante)\n",
        "- `signature` is the ecc signature of the statement\\\n",
        "(es la firma ecc de la declaración)"
      ],
      "metadata": {
        "id": "bI3XiqSTp7ZV"
      }
    },
    {
      "cell_type": "markdown",
      "source": [
        "#### Entrada Datos (Input Data)"
      ],
      "metadata": {
        "id": "gwdjExph3hKD"
      }
    },
    {
      "cell_type": "code",
      "source": [
        "my_name=input('input name')\n",
        "my_statement=input('input statement')\n",
        "open('llaves/statement1.txt','wb').write(my_statement.encode())"
      ],
      "metadata": {
        "id": "qhFmS9bqPLVt",
        "colab": {
          "base_uri": "https://localhost:8080/"
        },
        "outputId": "7bdff2eb-dcd9-4f3a-e311-afaf4e9a3dc7"
      },
      "execution_count": 18,
      "outputs": [
        {
          "name": "stdout",
          "output_type": "stream",
          "text": [
            "input nameSeco\n",
            "input statementI am Seco\n"
          ]
        },
        {
          "output_type": "execute_result",
          "data": {
            "text/plain": [
              "9"
            ]
          },
          "metadata": {},
          "execution_count": 18
        }
      ]
    },
    {
      "cell_type": "code",
      "source": [
        "! cat llaves/statement1.txt"
      ],
      "metadata": {
        "id": "brExuacy55Sr",
        "colab": {
          "base_uri": "https://localhost:8080/"
        },
        "outputId": "f3efcee1-7d58-4ad0-a9a4-6b9ac260df8d"
      },
      "execution_count": 19,
      "outputs": [
        {
          "output_type": "stream",
          "name": "stdout",
          "text": [
            "I am Seco"
          ]
        }
      ]
    },
    {
      "cell_type": "markdown",
      "source": [
        "Usar script para firmar la declaración\n",
        "***\n",
        "Use script to sign statement"
      ],
      "metadata": {
        "id": "LDRfuR9JsXP-"
      }
    },
    {
      "cell_type": "code",
      "source": [
        "ret = !{ 'python Colegio_Invisible/scripts/ecc_sign.py llaves/prvkey1.eck llaves/statement1.txt llaves/sig1.sig'}\n",
        "sig1=ret[-1]\n",
        "sig1"
      ],
      "metadata": {
        "id": "11kzlTsR4Ki8",
        "colab": {
          "base_uri": "https://localhost:8080/",
          "height": 54
        },
        "outputId": "2796f184-af26-47ca-8ea8-5f2e07d2e5d9"
      },
      "execution_count": 22,
      "outputs": [
        {
          "output_type": "execute_result",
          "data": {
            "application/vnd.google.colaboratory.intrinsic+json": {
              "type": "string"
            },
            "text/plain": [
              "'66689eb5107196fac83544bf25627018707ad1badddfdf3cf9b9e57c584ce8974ddd2f6ccad1a2e309fefc3004a1fea3c39b7fa77dffdcaf983efcce7b1ee40d00'"
            ]
          },
          "metadata": {},
          "execution_count": 22
        }
      ]
    },
    {
      "cell_type": "markdown",
      "source": [
        "#### Publicar Datos (Publish Data)\n"
      ],
      "metadata": {
        "id": "G27NckVds8xd"
      }
    },
    {
      "cell_type": "code",
      "source": [
        "sheet.append_row([my_name,pubkey1,my_statement,sig1])"
      ],
      "metadata": {
        "id": "aYIkcV_rFHpO",
        "colab": {
          "base_uri": "https://localhost:8080/"
        },
        "outputId": "e74d4986-2416-42b2-9b8d-2e7f736f6104"
      },
      "execution_count": 20,
      "outputs": [
        {
          "output_type": "execute_result",
          "data": {
            "text/plain": [
              "{'spreadsheetId': '1z_iLwzlqa_JX7AdRR3OsBeFEgvS0jVYh1oo-X23bMOY',\n",
              " 'tableRange': 'Multi!A1:D6',\n",
              " 'updates': {'spreadsheetId': '1z_iLwzlqa_JX7AdRR3OsBeFEgvS0jVYh1oo-X23bMOY',\n",
              "  'updatedCells': 4,\n",
              "  'updatedColumns': 4,\n",
              "  'updatedRange': 'Multi!A7:D7',\n",
              "  'updatedRows': 1}}"
            ]
          },
          "metadata": {},
          "execution_count": 20
        }
      ]
    },
    {
      "cell_type": "markdown",
      "source": [
        "## Leer Sheet 0 (Read Sheet 0)"
      ],
      "metadata": {
        "id": "0_WO-jart9zf"
      }
    },
    {
      "cell_type": "code",
      "source": [
        "import pandas as pd\n",
        "\n",
        "dataframe = pd.DataFrame(sheet.get_all_records())\n",
        "dataframe"
      ],
      "metadata": {
        "id": "vKL2w8CB_m9f",
        "colab": {
          "base_uri": "https://localhost:8080/",
          "height": 336
        },
        "outputId": "809b6066-feec-4322-c92e-ad092238dd06"
      },
      "execution_count": 23,
      "outputs": [
        {
          "output_type": "execute_result",
          "data": {
            "text/html": [
              "\n",
              "  <div id=\"df-eb7163c1-436c-4f44-8872-f1452208673c\">\n",
              "    <div class=\"colab-df-container\">\n",
              "      <div>\n",
              "<style scoped>\n",
              "    .dataframe tbody tr th:only-of-type {\n",
              "        vertical-align: middle;\n",
              "    }\n",
              "\n",
              "    .dataframe tbody tr th {\n",
              "        vertical-align: top;\n",
              "    }\n",
              "\n",
              "    .dataframe thead th {\n",
              "        text-align: right;\n",
              "    }\n",
              "</style>\n",
              "<table border=\"1\" class=\"dataframe\">\n",
              "  <thead>\n",
              "    <tr style=\"text-align: right;\">\n",
              "      <th></th>\n",
              "      <th>name</th>\n",
              "      <th>pubkey</th>\n",
              "      <th>statement</th>\n",
              "      <th>signature</th>\n",
              "    </tr>\n",
              "  </thead>\n",
              "  <tbody>\n",
              "    <tr>\n",
              "      <th>0</th>\n",
              "      <td>DrDoeg</td>\n",
              "      <td>aa403c5cc3bd3f8970f4b69a19b19f758a01b8b7df51dc...</td>\n",
              "      <td>I am DrDoeg</td>\n",
              "      <td>2671da66309b34b396f42983350e213205f0510124058d...</td>\n",
              "    </tr>\n",
              "    <tr>\n",
              "      <th>1</th>\n",
              "      <td>lil late</td>\n",
              "      <td>d4870b35f981df8a87545c0d4e3879c52417e3c914cbf4...</td>\n",
              "      <td>das aright</td>\n",
              "      <td>2c10c648ea437d08e33f0a28a83c5ca56986d23b3e046f...</td>\n",
              "    </tr>\n",
              "    <tr>\n",
              "      <th>2</th>\n",
              "      <td>Paulina</td>\n",
              "      <td>f7ee21788227541ac7d9d684fed40f1c89772ebba67027...</td>\n",
              "      <td>I am Paulina R</td>\n",
              "      <td>346d7e2fad7856a8b86ef1435fb328284ef123668c39a2...</td>\n",
              "    </tr>\n",
              "    <tr>\n",
              "      <th>3</th>\n",
              "      <td>Lau</td>\n",
              "      <td>cbf0666e1f02013145d325d813aaaa5f0ffd49361136cf...</td>\n",
              "      <td>Soy Lau</td>\n",
              "      <td>7eb257548a943314a2818a1a9f649c6cfc1d9c475e598b...</td>\n",
              "    </tr>\n",
              "    <tr>\n",
              "      <th>4</th>\n",
              "      <td>Pamela</td>\n",
              "      <td>74bb3d46084d27eb4341b5e3531b16e8911bb6fb765aa9...</td>\n",
              "      <td>Soy Pamela</td>\n",
              "      <td>f68597821580b15584f42574b812d3d3b4b043ffb70dbe...</td>\n",
              "    </tr>\n",
              "    <tr>\n",
              "      <th>5</th>\n",
              "      <td>Seco</td>\n",
              "      <td>7da1b363b5942d7aeeeedb092520701b44f12e39d6c297...</td>\n",
              "      <td>I am Seco</td>\n",
              "      <td>Fallada (Fail) [Errno 2] No such file or direc...</td>\n",
              "    </tr>\n",
              "  </tbody>\n",
              "</table>\n",
              "</div>\n",
              "      <button class=\"colab-df-convert\" onclick=\"convertToInteractive('df-eb7163c1-436c-4f44-8872-f1452208673c')\"\n",
              "              title=\"Convert this dataframe to an interactive table.\"\n",
              "              style=\"display:none;\">\n",
              "        \n",
              "  <svg xmlns=\"http://www.w3.org/2000/svg\" height=\"24px\"viewBox=\"0 0 24 24\"\n",
              "       width=\"24px\">\n",
              "    <path d=\"M0 0h24v24H0V0z\" fill=\"none\"/>\n",
              "    <path d=\"M18.56 5.44l.94 2.06.94-2.06 2.06-.94-2.06-.94-.94-2.06-.94 2.06-2.06.94zm-11 1L8.5 8.5l.94-2.06 2.06-.94-2.06-.94L8.5 2.5l-.94 2.06-2.06.94zm10 10l.94 2.06.94-2.06 2.06-.94-2.06-.94-.94-2.06-.94 2.06-2.06.94z\"/><path d=\"M17.41 7.96l-1.37-1.37c-.4-.4-.92-.59-1.43-.59-.52 0-1.04.2-1.43.59L10.3 9.45l-7.72 7.72c-.78.78-.78 2.05 0 2.83L4 21.41c.39.39.9.59 1.41.59.51 0 1.02-.2 1.41-.59l7.78-7.78 2.81-2.81c.8-.78.8-2.07 0-2.86zM5.41 20L4 18.59l7.72-7.72 1.47 1.35L5.41 20z\"/>\n",
              "  </svg>\n",
              "      </button>\n",
              "      \n",
              "  <style>\n",
              "    .colab-df-container {\n",
              "      display:flex;\n",
              "      flex-wrap:wrap;\n",
              "      gap: 12px;\n",
              "    }\n",
              "\n",
              "    .colab-df-convert {\n",
              "      background-color: #E8F0FE;\n",
              "      border: none;\n",
              "      border-radius: 50%;\n",
              "      cursor: pointer;\n",
              "      display: none;\n",
              "      fill: #1967D2;\n",
              "      height: 32px;\n",
              "      padding: 0 0 0 0;\n",
              "      width: 32px;\n",
              "    }\n",
              "\n",
              "    .colab-df-convert:hover {\n",
              "      background-color: #E2EBFA;\n",
              "      box-shadow: 0px 1px 2px rgba(60, 64, 67, 0.3), 0px 1px 3px 1px rgba(60, 64, 67, 0.15);\n",
              "      fill: #174EA6;\n",
              "    }\n",
              "\n",
              "    [theme=dark] .colab-df-convert {\n",
              "      background-color: #3B4455;\n",
              "      fill: #D2E3FC;\n",
              "    }\n",
              "\n",
              "    [theme=dark] .colab-df-convert:hover {\n",
              "      background-color: #434B5C;\n",
              "      box-shadow: 0px 1px 3px 1px rgba(0, 0, 0, 0.15);\n",
              "      filter: drop-shadow(0px 1px 2px rgba(0, 0, 0, 0.3));\n",
              "      fill: #FFFFFF;\n",
              "    }\n",
              "  </style>\n",
              "\n",
              "      <script>\n",
              "        const buttonEl =\n",
              "          document.querySelector('#df-eb7163c1-436c-4f44-8872-f1452208673c button.colab-df-convert');\n",
              "        buttonEl.style.display =\n",
              "          google.colab.kernel.accessAllowed ? 'block' : 'none';\n",
              "\n",
              "        async function convertToInteractive(key) {\n",
              "          const element = document.querySelector('#df-eb7163c1-436c-4f44-8872-f1452208673c');\n",
              "          const dataTable =\n",
              "            await google.colab.kernel.invokeFunction('convertToInteractive',\n",
              "                                                     [key], {});\n",
              "          if (!dataTable) return;\n",
              "\n",
              "          const docLinkHtml = 'Like what you see? Visit the ' +\n",
              "            '<a target=\"_blank\" href=https://colab.research.google.com/notebooks/data_table.ipynb>data table notebook</a>'\n",
              "            + ' to learn more about interactive tables.';\n",
              "          element.innerHTML = '';\n",
              "          dataTable['output_type'] = 'display_data';\n",
              "          await google.colab.output.renderOutput(dataTable, element);\n",
              "          const docLink = document.createElement('div');\n",
              "          docLink.innerHTML = docLinkHtml;\n",
              "          element.appendChild(docLink);\n",
              "        }\n",
              "      </script>\n",
              "    </div>\n",
              "  </div>\n",
              "  "
            ],
            "text/plain": [
              "       name  ...                                          signature\n",
              "0    DrDoeg  ...  2671da66309b34b396f42983350e213205f0510124058d...\n",
              "1  lil late  ...  2c10c648ea437d08e33f0a28a83c5ca56986d23b3e046f...\n",
              "2   Paulina  ...  346d7e2fad7856a8b86ef1435fb328284ef123668c39a2...\n",
              "3       Lau  ...  7eb257548a943314a2818a1a9f649c6cfc1d9c475e598b...\n",
              "4    Pamela  ...  f68597821580b15584f42574b812d3d3b4b043ffb70dbe...\n",
              "5      Seco  ...  Fallada (Fail) [Errno 2] No such file or direc...\n",
              "\n",
              "[6 rows x 4 columns]"
            ]
          },
          "metadata": {},
          "execution_count": 23
        }
      ]
    },
    {
      "cell_type": "markdown",
      "source": [
        "We can verify statements. Here we use the `ecies` cryptography library directly without using the external scripts. "
      ],
      "metadata": {
        "id": "_nkacjetuqiJ"
      }
    },
    {
      "cell_type": "code",
      "source": [
        "import eth_keys\n",
        "import ecies\n",
        "\n",
        "eth_keys.datatypes.Signature(bytes.fromhex(sig1)).verify_msg(my_statement.encode(),eth_keys.keys.PublicKey(bytes.fromhex(pubkey1)))"
      ],
      "metadata": {
        "id": "rIYQBHGhVY6c"
      },
      "execution_count": null,
      "outputs": []
    },
    {
      "cell_type": "code",
      "source": [
        "def verify(sig,statement,pubkey):\n",
        "  return eth_keys.datatypes.Signature(bytes.fromhex(sig)).verify_msg(statement.encode() if type(statement)!=bytes else statement,eth_keys.keys.PublicKey(bytes.fromhex(pubkey)))"
      ],
      "metadata": {
        "id": "4QV22WHmTs-_"
      },
      "execution_count": null,
      "outputs": []
    },
    {
      "cell_type": "code",
      "source": [
        "verify(sig1,my_statement,pubkey1)"
      ],
      "metadata": {
        "id": "hAdUtVWfWLlP"
      },
      "execution_count": null,
      "outputs": []
    },
    {
      "cell_type": "markdown",
      "source": [
        "Here we verify all rows of the roster"
      ],
      "metadata": {
        "id": "XAM2Xl2BvSnv"
      }
    },
    {
      "cell_type": "code",
      "source": [
        "dataframe.set_index('name').apply(lambda row: verify(row.signature,row.statement,row.pubkey),axis=1)"
      ],
      "metadata": {
        "id": "rNkF3WrPWTvw"
      },
      "execution_count": null,
      "outputs": []
    },
    {
      "cell_type": "markdown",
      "source": [
        "Collecting the names of all the participants"
      ],
      "metadata": {
        "id": "KQHswOH9vlPc"
      }
    },
    {
      "cell_type": "code",
      "source": [
        "participants=dataframe.name.tolist()\n",
        "participants"
      ],
      "metadata": {
        "id": "8VFsk0L9Bz9_"
      },
      "execution_count": null,
      "outputs": []
    },
    {
      "cell_type": "markdown",
      "source": [
        "Doing variable assignment for needed Worksheets"
      ],
      "metadata": {
        "id": "0aYK2ixlv-yH"
      }
    },
    {
      "cell_type": "code",
      "source": [
        "sheet1=sheets.worksheets()[1]\n",
        "sheet2=sheets.worksheets()[2]\n",
        "sheet3=sheets.worksheets()[3]\n",
        "sheet1,sheet2,sheet3"
      ],
      "metadata": {
        "id": "0cA1SFS4Tuyb"
      },
      "execution_count": null,
      "outputs": []
    },
    {
      "cell_type": "code",
      "source": [
        "#ONLY FOR DDOG MC\n",
        "#df=pd.DataFrame('dada',columns=participants,index=participants)\n",
        "#sheet1.clear()\n",
        "#sheet1.update([df.columns.values.tolist()] + df.values.tolist())\n",
        "#sheet2.clear()\n",
        "#sheet2.update([df.columns.values.tolist()] + df.values.tolist())\n",
        "#sheet3.clear()\n",
        "#sheet3.update([df.columns.values.tolist()] + df.values.tolist())\n",
        "#df"
      ],
      "metadata": {
        "id": "c6tM_RvpUOkH"
      },
      "execution_count": null,
      "outputs": []
    },
    {
      "cell_type": "markdown",
      "source": [
        "## Worksheet 1\n",
        "\n",
        "This is a place for casual public chats\n",
        "- row is sender\n",
        "- column is recipient"
      ],
      "metadata": {
        "id": "vzG8Iqv8xfph"
      }
    },
    {
      "cell_type": "code",
      "source": [
        "dataframe1 = pd.DataFrame(sheet1.get_all_records())\n",
        "dataframe1.index=dataframe1.columns\n",
        "dataframe1"
      ],
      "metadata": {
        "id": "1JeW89rRVVNP"
      },
      "execution_count": null,
      "outputs": []
    },
    {
      "cell_type": "markdown",
      "source": [
        "Make a little recipient widget interface"
      ],
      "metadata": {
        "id": "yvx4jlTeyJir"
      }
    },
    {
      "cell_type": "code",
      "source": [
        "import ipywidgets as widgets\n",
        "w=widgets.Dropdown(\n",
        "    options=participants,\n",
        "    value='DrDoeg',\n",
        "    description='Recipient:',\n",
        "    disabled=False,\n",
        ")"
      ],
      "metadata": {
        "id": "g_vi5fjEyHjh"
      },
      "execution_count": null,
      "outputs": []
    },
    {
      "cell_type": "code",
      "source": [
        "#have a look\n",
        "w"
      ],
      "metadata": {
        "id": "CUFmHTv2g9G8"
      },
      "execution_count": null,
      "outputs": []
    },
    {
      "cell_type": "code",
      "source": [
        "w.value"
      ],
      "metadata": {
        "id": "7cRk6xtQixhy"
      },
      "execution_count": null,
      "outputs": []
    },
    {
      "cell_type": "code",
      "source": [
        "my_name"
      ],
      "metadata": {
        "id": "8GkfPn5xc77Q"
      },
      "execution_count": null,
      "outputs": []
    },
    {
      "cell_type": "markdown",
      "source": [
        "Creating messaging"
      ],
      "metadata": {
        "id": "B2Q_fDGQymjc"
      }
    },
    {
      "cell_type": "code",
      "source": [
        "p_dict=dict([ (e,i) for i,e in enumerate(participants)])\n",
        "p_dict"
      ],
      "metadata": {
        "id": "Hth5kCTvoUbh"
      },
      "execution_count": null,
      "outputs": []
    },
    {
      "cell_type": "markdown",
      "source": [
        "Select your message recipient using the widget."
      ],
      "metadata": {
        "id": "mqo0u-apythd"
      }
    },
    {
      "cell_type": "code",
      "source": [
        "print(f'You are {my_name}')\n",
        "print('Select a message recipient')\n",
        "w"
      ],
      "metadata": {
        "id": "Y6Aq1Jmrv6ot"
      },
      "execution_count": null,
      "outputs": []
    },
    {
      "cell_type": "markdown",
      "source": [
        "Write message \n",
        "\n",
        "Post to spreadsheet\n",
        "\n",
        "refresh dataframe from worksheet"
      ],
      "metadata": {
        "id": "aWKVdDH2y6P-"
      }
    },
    {
      "cell_type": "code",
      "source": [
        "message=input('send a message')\n",
        "write_cell=(p_dict[my_name]+2,p_dict[w.value]+1)\n",
        "sheet1.update_cell(*write_cell, message)\n",
        "dataframe1 = pd.DataFrame(sheet1.get_all_records())\n",
        "dataframe1.index=dataframe1.columns\n",
        "dataframe1"
      ],
      "metadata": {
        "id": "HgP-GlczsjiK"
      },
      "execution_count": null,
      "outputs": []
    },
    {
      "cell_type": "code",
      "source": [
        "dataframe1 = pd.DataFrame(sheet1.get_all_records())\n",
        "dataframe1.index=dataframe1.columns\n",
        "dataframe1"
      ],
      "metadata": {
        "id": "QWhVRzANqUoW"
      },
      "execution_count": null,
      "outputs": []
    },
    {
      "cell_type": "code",
      "source": [
        "dataframe1[my_name]"
      ],
      "metadata": {
        "id": "9tyQ7fx8qZk-"
      },
      "execution_count": null,
      "outputs": []
    },
    {
      "cell_type": "markdown",
      "source": [
        "# Encrypted Messaging"
      ],
      "metadata": {
        "id": "FLOxmlhKzbuB"
      }
    },
    {
      "cell_type": "markdown",
      "source": [
        ""
      ],
      "metadata": {
        "id": "SqcTexPzjXuR"
      }
    },
    {
      "cell_type": "code",
      "source": [
        "dataframe2 = pd.DataFrame(sheet2.get_all_records())\n",
        "dataframe2.index=dataframe2.columns\n",
        "dataframe2"
      ],
      "metadata": {
        "id": "u5cVM59SwqoR"
      },
      "execution_count": null,
      "outputs": []
    },
    {
      "cell_type": "code",
      "source": [
        "def encrypt_message(hexPubKey,message):\n",
        "    if type(message)!=bytes:\n",
        "        message=message.encode()\n",
        "    return ecies.encrypt(hexPubKey,message).hex()"
      ],
      "metadata": {
        "id": "zUnwSc5MYtx0"
      },
      "execution_count": null,
      "outputs": []
    },
    {
      "cell_type": "code",
      "source": [
        "w"
      ],
      "metadata": {
        "id": "54B8FB32nLxN"
      },
      "execution_count": null,
      "outputs": []
    },
    {
      "cell_type": "code",
      "source": [
        "encrypt_message(dataframe.set_index('name').pubkey[w.value],'hey guys hey hey')"
      ],
      "metadata": {
        "id": "SQF7GYL6Shi1"
      },
      "execution_count": null,
      "outputs": []
    },
    {
      "cell_type": "code",
      "source": [
        "message=input('send an encrypted message')\n",
        "write_cell=(p_dict[my_name]+2,p_dict[w.value]+1)\n",
        "sheet2.update_cell(*write_cell, encrypt_message(dataframe.set_index('name').pubkey[w.value],message))\n",
        "dataframe2 = pd.DataFrame(sheet2.get_all_records())\n",
        "dataframe2.index=dataframe2.columns\n",
        "dataframe2"
      ],
      "metadata": {
        "id": "57EM8VGFas_B"
      },
      "execution_count": null,
      "outputs": []
    },
    {
      "cell_type": "code",
      "source": [
        "dataframe2 = pd.DataFrame(sheet2.get_all_records())\n",
        "dataframe2.index=dataframe2.columns\n",
        "dataframe2"
      ],
      "metadata": {
        "id": "XpnawJKL9QFa"
      },
      "execution_count": null,
      "outputs": []
    },
    {
      "cell_type": "code",
      "source": [
        "def import_privKey(path,password):\n",
        "  import hashlib\n",
        "  if type(password)!=bytes:\n",
        "    password=password.encode()\n",
        "  f=open(path,'rb')\n",
        "  decrypted_bytes=ecies.aes_decrypt(key=hashlib.sha256(password).digest(),cipher_text=f.read())\n",
        "  privKey=eth_keys.keys.PrivateKey(decrypted_bytes)\n",
        "  f.close()\n",
        "  return privKey\n",
        "\n",
        "def decrypt_message(privKey,cipherhex):\n",
        "    ciphertext=bytes.fromhex(cipherhex)\n",
        "    try:\n",
        "      return ecies.decrypt(privKey.to_hex(),ciphertext)\n",
        "    except:\n",
        "      return None"
      ],
      "metadata": {
        "id": "nOof0MakbGX8"
      },
      "execution_count": null,
      "outputs": []
    },
    {
      "cell_type": "code",
      "source": [
        "decrypt_message(import_privKey('llaves/prvkey1.eck',''),dataframe2[my_name][my_name])\n"
      ],
      "metadata": {
        "id": "JTDE-5zIg9vq"
      },
      "execution_count": null,
      "outputs": []
    },
    {
      "cell_type": "code",
      "source": [
        "dataframe2 = pd.DataFrame(sheet2.get_all_records())\n",
        "dataframe2.index=dataframe2.columns\n",
        "dataframe2\n",
        "\n",
        "k=import_privKey('llaves/prvkey1.eck','')\n",
        "tr=dataframe2[my_name].apply(lambda x: decrypt_message(k,x))\n",
        "tr"
      ],
      "metadata": {
        "id": "-6xzJ10Be8zD"
      },
      "execution_count": null,
      "outputs": []
    },
    {
      "cell_type": "code",
      "source": [
        ""
      ],
      "metadata": {
        "id": "zK4hUxnFeLfr"
      },
      "execution_count": null,
      "outputs": []
    },
    {
      "cell_type": "code",
      "source": [
        "def sign_message(privKey,message):\n",
        "    if type(message)!=bytes:\n",
        "        message=message.encode()\n",
        "    signature= privKey.sign_msg(message)\n",
        "    return signature.to_bytes().hex()"
      ],
      "metadata": {
        "id": "qlpB7gF3mQlz"
      },
      "execution_count": null,
      "outputs": []
    },
    {
      "cell_type": "code",
      "source": [
        "mess=input('message')\n",
        "mess_sig=sign_message(import_privKey('llaves/prvkey1.eck',''),mess)\n",
        "mess_sig"
      ],
      "metadata": {
        "id": "xdP29gqtrvED"
      },
      "execution_count": null,
      "outputs": []
    },
    {
      "cell_type": "code",
      "source": [
        "emess=encrypt_message(pubkey1,mess)\n",
        "emess"
      ],
      "metadata": {
        "id": "c2XYMcf4VS5b"
      },
      "execution_count": null,
      "outputs": []
    },
    {
      "cell_type": "code",
      "source": [
        "emess_sig=sign_message(k,bytes.fromhex(emess))\n",
        "emess_sig,len(emess_sig)"
      ],
      "metadata": {
        "id": "UPOzyzuQVz9u"
      },
      "execution_count": null,
      "outputs": []
    },
    {
      "cell_type": "code",
      "source": [
        "emess_sig,emess"
      ],
      "metadata": {
        "id": "uTraoPVGkmYB"
      },
      "execution_count": null,
      "outputs": []
    },
    {
      "cell_type": "code",
      "source": [
        "def sign_encrypt_message(privKey,hexpubKey,message):\n",
        "    if type(message)!=bytes:\n",
        "        message=message.encode()\n",
        "    byte_enc=bytes.fromhex(encrypt_message(hexpubKey,message))\n",
        "    signature= privKey.sign_msg(byte_enc)\n",
        "    return signature.to_bytes().hex()+byte_enc.hex()"
      ],
      "metadata": {
        "id": "9spAIuUtXNwk"
      },
      "execution_count": null,
      "outputs": []
    },
    {
      "cell_type": "code",
      "source": [
        "sgen=sign_encrypt_message(k,pubkey1,mess)\n",
        "sgen"
      ],
      "metadata": {
        "id": "9jHj1CEIZvJK"
      },
      "execution_count": null,
      "outputs": []
    },
    {
      "cell_type": "code",
      "source": [
        "def decrypt_verify(pubkey,privkey,block):\n",
        "  try:\n",
        "    ver=verify(block[:130],bytes.fromhex(block[130:]),pubkey)\n",
        "    return decrypt_message(privkey,block[130:]),ver\n",
        "  except:\n",
        "    return None"
      ],
      "metadata": {
        "id": "Xk76WMZhlu-h"
      },
      "execution_count": null,
      "outputs": []
    },
    {
      "cell_type": "code",
      "source": [
        "decrypt_verify(pubkey1,k,sgen)"
      ],
      "metadata": {
        "id": "j9lRRIjZrUEv"
      },
      "execution_count": null,
      "outputs": []
    },
    {
      "cell_type": "code",
      "source": [
        "message=input('send a signed and encrypted message')\n",
        "write_cell=(p_dict[my_name]+2,p_dict[w.value]+1)\n",
        "signed_enc_message=sign_encrypt_message(k,pubkey1,message)\n",
        "sheet3.update_cell(*write_cell, encrypt_message(dataframe.set_index('name').pubkey[w.value],signed_enc_message))\n",
        "dataframe3 = pd.DataFrame(sheet3.get_all_records())\n",
        "dataframe3.index=dataframe3.columns\n",
        "dataframe3"
      ],
      "metadata": {
        "id": "b_sTTlD5rnsp"
      },
      "execution_count": null,
      "outputs": []
    },
    {
      "cell_type": "code",
      "source": [
        "dataframe3 = pd.DataFrame(sheet3.get_all_records())\n",
        "dataframe3.index=dataframe3.columns\n",
        "dataframe3"
      ],
      "metadata": {
        "id": "76aYgtllrawL"
      },
      "execution_count": null,
      "outputs": []
    },
    {
      "cell_type": "code",
      "source": [
        "pubkey_name=dataframe.set_index('name')['pubkey']\n",
        "dataframe3[[my_name]].reset_index().apply(lambda x: decrypt_verify(pubkey_name[x['index']],k,x[my_name])  ,axis=1)"
      ],
      "metadata": {
        "id": "j3cJtgCcsSWs"
      },
      "execution_count": null,
      "outputs": []
    },
    {
      "cell_type": "code",
      "source": [
        ""
      ],
      "metadata": {
        "id": "8ikxz9TRcMoD"
      },
      "execution_count": null,
      "outputs": []
    },
    {
      "cell_type": "code",
      "source": [
        ""
      ],
      "metadata": {
        "id": "wj0Omb7tfLlW"
      },
      "execution_count": null,
      "outputs": []
    }
  ],
  "metadata": {
    "kernelspec": {
      "display_name": "Python 3",
      "language": "python",
      "name": "python3"
    },
    "language_info": {
      "codemirror_mode": {
        "name": "ipython",
        "version": 3
      },
      "file_extension": ".py",
      "mimetype": "text/x-python",
      "name": "python",
      "nbconvert_exporter": "python",
      "pygments_lexer": "ipython3",
      "version": "3.7.6"
    },
    "colab": {
      "name": "04_cuaderno.ipynb",
      "provenance": []
    }
  },
  "nbformat": 4,
  "nbformat_minor": 0
}