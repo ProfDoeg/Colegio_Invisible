{
  "cells": [
    {
      "cell_type": "markdown",
      "metadata": {
        "id": "V0ZeHUAcjaPF"
      },
      "source": [
        "# Autenticidad, \n",
        "# los Mensajes Secretos,\n",
        "# y Seguridad\n",
        "\n"
      ]
    },
    {
      "cell_type": "markdown",
      "metadata": {
        "id": "RQdcZFCXjaPC"
      },
      "source": [
        "<a href=\"https://colab.research.google.com/github/ProfDoeg/Colegio_Invisible/blob/master/04_cuaderno.ipynb\" target=\"_parent\"><img src=\"https://colab.research.google.com/assets/colab-badge.svg\" alt=\"Open In Colab\"/></a>"
      ]
    },
    {
      "cell_type": "markdown",
      "source": [
        "# Preparar el Espacio (Prepare the Space)"
      ],
      "metadata": {
        "id": "s3aBh2Q-caF9"
      }
    },
    {
      "cell_type": "code",
      "execution_count": null,
      "metadata": {
        "id": "iOt3lIV-jaPG"
      },
      "outputs": [],
      "source": [
        "! pip install eciespy eth_keys gspread oauth2client\n",
        "! git clone https://github.com/ProfDoeg/Colegio_Invisible.git\n",
        "! pip install --upgrade gspread"
      ]
    },
    {
      "cell_type": "markdown",
      "source": [
        "# Historias\n",
        "\n",
        "<img src=\"https://github.com/ProfDoeg/Colegio_Invisible/raw/main/img/barb_2.jpeg\" width=\"250\"/>\n",
        "\n",
        "\n",
        "*¡Verdezuela, Verdezuela,\\\n",
        "Suéltame tu cabellera!*\\\n",
        "-La Bruja\n",
        "\n",
        "*El cifrado es una poderosa defensa arma para gente libre.*\\\n",
        "(*Encryption is a powerful defensive weapon for free people.*)\\\n",
        "-Esther Dyson\n",
        "\n",
        "\n"
      ],
      "metadata": {
        "id": "jn1G2OUIzoAz"
      }
    },
    {
      "cell_type": "markdown",
      "source": [
        "# Aplicar Criptografía Para Crear un Ensamblaje de Mensajería Seguro \n",
        "# (Apply Cryptography to Create a Secure Messaging Assembly)\n",
        "\n",
        "## Esquema (Outline) \n",
        "\n",
        "Aplicar criptografía para crear un tablero de mensajes securos.\n",
        "***\n",
        "Apply cryptography to build a secure messaging board.\n",
        "\n",
        "## Metas (Goals)\n",
        "\n",
        "- crear y guardar claves\\\n",
        "(create and save keys)\n",
        "- descifrar el token de acceso a la hoja de cálculo\\\n",
        "(decrypt spreadsheet access token)\n",
        "- entender `gspread`\\\n",
        "(understand `gspread`)\n",
        "- publicar: nombre, clave pública, mensaje público y firma\\\n",
        "(post: name, public key, public message, and signature)\n",
        "- firmar mensaje\\\n",
        "(sign message)\n",
        "- verificar mensaje\\\n",
        "(verify message)\n",
        "- escribir mensaje a otros participantes\\\n",
        "(write message to other participants)\n",
        "- escribir un mensaje encriptado a otro participante\\\n",
        "(write encrypted message to other participant)\n",
        "- escribir mensaje firmado y encriptado\\\n",
        "(write signed and encrypted message)\n"
      ],
      "metadata": {
        "id": "LI7dlYfxGVCR"
      }
    },
    {
      "cell_type": "markdown",
      "source": [
        "# Hacer Nuevas Claves (Make New Keys)\n",
        "\n",
        "\n"
      ],
      "metadata": {
        "id": "hegcdI1x8CCX"
      }
    },
    {
      "cell_type": "code",
      "source": [
        "! mkdir llaves"
      ],
      "metadata": {
        "id": "YjCzL1LVwFdw"
      },
      "execution_count": null,
      "outputs": []
    },
    {
      "cell_type": "code",
      "source": [
        "! ls"
      ],
      "metadata": {
        "id": "U-pPg--ZjWXw"
      },
      "execution_count": null,
      "outputs": []
    },
    {
      "cell_type": "code",
      "source": [
        "! python Colegio_Invisible/scripts/ecc_generate.py llaves/prvkey1.eck ''"
      ],
      "metadata": {
        "id": "knENRpKUvfyx"
      },
      "execution_count": null,
      "outputs": []
    },
    {
      "cell_type": "code",
      "source": [
        "! python Colegio_Invisible/scripts/ecc_pubkey_extract.py llaves/prvkey1.eck '' llaves/pubkey1.eck '' "
      ],
      "metadata": {
        "id": "OWfZF_rrxVZJ"
      },
      "execution_count": null,
      "outputs": []
    },
    {
      "cell_type": "markdown",
      "source": [
        "# Usar Guion Para Acceder Clave Pública (Use Script to Access Public Key)"
      ],
      "metadata": {
        "id": "tQsnoXMOiQto"
      }
    },
    {
      "cell_type": "code",
      "source": [
        "ret=!{ \"python Colegio_Invisible/scripts/ecc_keydump.py llaves/pubkey1.eck ''\"}\n",
        "pubkey1=ret[-1]\n",
        "pubkey1"
      ],
      "metadata": {
        "id": "qInALQ0e03RH"
      },
      "execution_count": null,
      "outputs": []
    },
    {
      "cell_type": "markdown",
      "source": [
        "# Gestionar el Acceso a Google Sheets (Manage Access to Google Sheets)\n",
        "\n",
        "\n",
        "## Descifrar Credenciales de API (Decrypt API Credentials)\n",
        "\n",
        "$\\color{white}{\\text{c0leg101nv1s1ble}}$"
      ],
      "metadata": {
        "id": "euUO0urHigI7"
      }
    },
    {
      "cell_type": "markdown",
      "source": [
        "Usar la contraseña de arriba para descifrar `client_secret.aes`\n",
        "***\n",
        "Use the above password to decrypt `client_secret.aes`\n",
        "\n",
        "\n",
        "\n"
      ],
      "metadata": {
        "id": "-Pu3mgzGin5K"
      }
    },
    {
      "cell_type": "code",
      "source": [
        "! python Colegio_Invisible/scripts/aes_decrypt.py c0leg101nv1s1ble Colegio_Invisible/secrets/client_secret.aes Colegio_Invisible/secrets/client_secret.json"
      ],
      "metadata": {
        "id": "_spdugChrzcl"
      },
      "execution_count": null,
      "outputs": []
    },
    {
      "cell_type": "code",
      "source": [
        "! ls Colegio_Invisible/secrets"
      ],
      "metadata": {
        "id": "wHRKKx020tyr"
      },
      "execution_count": null,
      "outputs": []
    },
    {
      "cell_type": "markdown",
      "source": [
        "## `gspread` 🪴\n",
        "\n"
      ],
      "metadata": {
        "id": "ljlmDL7en1jB"
      }
    },
    {
      "cell_type": "markdown",
      "source": [
        "`gspread` es un módulo de Python para la interacción programática con Google Sheets.\\\n",
        "Todos los participantes tendrán acceso a la misma hoja de cálculo en la nube.\n",
        "***\n",
        "`gspread` is a python module for programmatic interaction with Google Sheets.\\\n",
        "All the participants will have access to the same spreadsheet in the cloud.\n",
        "\n"
      ],
      "metadata": {
        "id": "2oEHDjMTnMLD"
      }
    },
    {
      "cell_type": "markdown",
      "source": [
        "https://docs.gspread.org/en/latest/user-guide.html"
      ],
      "metadata": {
        "id": "OZlTWab55ESc"
      }
    },
    {
      "cell_type": "markdown",
      "source": [
        "Usar las credenciales descifradas para autenticar y obtener acceso API a la hoja de cálculo\n",
        "***\n",
        "Use the decrypted credentials to authenticate and gain API access to the spreadsheet"
      ],
      "metadata": {
        "id": "vZAzWXoeVrda"
      }
    },
    {
      "cell_type": "code",
      "execution_count": null,
      "metadata": {
        "id": "mU3aBoN3jaPI"
      },
      "outputs": [],
      "source": [
        "import gspread\n",
        "from oauth2client.service_account import ServiceAccountCredentials\n",
        "# use creds to create a client to interact with the Google Drive API\n",
        "scope = ['https://spreadsheets.google.com/feeds',\n",
        "         'https://www.googleapis.com/auth/drive']\n",
        "creds = ServiceAccountCredentials.from_json_keyfile_name('Colegio_Invisible/secrets/client_secret.json', scope)\n",
        "client = gspread.authorize(creds)\n",
        "sheets = client.open(\"signatures\")"
      ]
    },
    {
      "cell_type": "markdown",
      "source": [
        "# Sheets"
      ],
      "metadata": {
        "id": "BmK_oPUizxHP"
      }
    },
    {
      "cell_type": "markdown",
      "source": [
        "Aquí podemos ver la estructura de la hoja de cálculo y todas las capas o `Worksheet`\n",
        "***\n",
        "Here we can see the structure of the spreadsheet and all of the layers or `Worksheet`"
      ],
      "metadata": {
        "id": "NvzeBI7Xo8R-"
      }
    },
    {
      "cell_type": "code",
      "source": [
        "sheets.worksheets()"
      ],
      "metadata": {
        "id": "Jh9kVHwao_7H"
      },
      "execution_count": null,
      "outputs": []
    },
    {
      "cell_type": "code",
      "source": [
        "sheet=sheets.worksheets()[0]\n",
        "sheet1=sheets.worksheets()[1]\n",
        "sheet2=sheets.worksheets()[2]\n",
        "sheet3=sheets.worksheets()[3]\n",
        "sheet,sheet1,sheet2,sheet3"
      ],
      "metadata": {
        "id": "0cA1SFS4Tuyb"
      },
      "execution_count": null,
      "outputs": []
    },
    {
      "cell_type": "markdown",
      "source": [
        "## Sheet 0 : Registro (Roster)"
      ],
      "metadata": {
        "id": "uwpNqis9z_yg"
      }
    },
    {
      "cell_type": "markdown",
      "source": [
        "Aislar la primera hoja donde consultamos la primera fila\n",
        "***\n",
        "Isolate the first sheet where we query the first row"
      ],
      "metadata": {
        "id": "wr0GwHR5pVpL"
      }
    },
    {
      "cell_type": "code",
      "source": [
        "sheet.row_values(1)"
      ],
      "metadata": {
        "id": "4TpJzRis965I"
      },
      "execution_count": null,
      "outputs": []
    },
    {
      "cell_type": "markdown",
      "source": [
        "**PELIGRO: NO EJECUTAR**\n",
        "***\n",
        "**DANGER: DO NOT RUN**"
      ],
      "metadata": {
        "id": "rhAmowGH1At8"
      }
    },
    {
      "cell_type": "code",
      "source": [
        "sheet.clear()\n",
        "\n",
        "sheet.append_row([\"name\", \"pubkey\",\"statement\",\"signature\"])\n"
      ],
      "metadata": {
        "id": "lY-DDACNIbI2"
      },
      "execution_count": null,
      "outputs": []
    },
    {
      "cell_type": "markdown",
      "source": [
        "### Tomar el Registro (Make the Roster)\n",
        "\n",
        "Publicar (Publish):\n",
        "\n",
        "- `name` nombre de participante\\\n",
        "(`name` title of participant)\n",
        "- `pubkey` clave público de participante en hexadecimal\\\n",
        "(`pubkey` public key of participant in hex)\n",
        "- `statement` la declaración firmada por el participante\\\n",
        "(`statement` data signed by participant)\n",
        "- `signature` firma ecc de la declaración\\\n",
        "(`signature` ecc signature of the statement)"
      ],
      "metadata": {
        "id": "bI3XiqSTp7ZV"
      }
    },
    {
      "cell_type": "markdown",
      "source": [
        "#### Entrada Datos (Input Data)"
      ],
      "metadata": {
        "id": "gwdjExph3hKD"
      }
    },
    {
      "cell_type": "code",
      "source": [
        "my_name=input('input name')\n",
        "my_statement=input('input statement')\n",
        "open('llaves/statement1.txt','wb').write(my_statement.encode())"
      ],
      "metadata": {
        "id": "qhFmS9bqPLVt"
      },
      "execution_count": null,
      "outputs": []
    },
    {
      "cell_type": "code",
      "source": [
        "! cat llaves/statement1.txt"
      ],
      "metadata": {
        "id": "brExuacy55Sr"
      },
      "execution_count": null,
      "outputs": []
    },
    {
      "cell_type": "markdown",
      "source": [
        "Usar script para firmar la declaración\n",
        "***\n",
        "Use script to sign statement"
      ],
      "metadata": {
        "id": "LDRfuR9JsXP-"
      }
    },
    {
      "cell_type": "code",
      "source": [
        "ret = !{ \"python Colegio_Invisible/scripts/ecc_sign.py llaves/prvkey1.eck '' llaves/statement1.txt llaves/sig1.sig\"}\n",
        "sig1=ret[-1]\n",
        "sig1"
      ],
      "metadata": {
        "id": "11kzlTsR4Ki8"
      },
      "execution_count": null,
      "outputs": []
    },
    {
      "cell_type": "markdown",
      "source": [
        "#### Publicar Datos (Publish Data)\n"
      ],
      "metadata": {
        "id": "G27NckVds8xd"
      }
    },
    {
      "cell_type": "code",
      "source": [
        "peeps=sheet.col_values(1)[1:]\n",
        "datas=[my_name,pubkey1,my_statement,sig1]\n",
        "if not (my_name in peeps) :\n",
        "  sheet.append_row(datas)\n",
        "else:\n",
        "  row=peeps.index(my_name)+2\n",
        "  for i,value in enumerate(datas[1:]):\n",
        "    sheet.update_cell(row=row,col=i+2,value=value)"
      ],
      "metadata": {
        "id": "aYIkcV_rFHpO"
      },
      "execution_count": null,
      "outputs": []
    },
    {
      "cell_type": "markdown",
      "source": [
        "## Leer Sheet 0 (Read Sheet 0)"
      ],
      "metadata": {
        "id": "0_WO-jart9zf"
      }
    },
    {
      "cell_type": "code",
      "source": [
        "import pandas as pd\n",
        "\n",
        "dataframe = pd.DataFrame(sheet.get_all_records())\n",
        "dataframe"
      ],
      "metadata": {
        "id": "vKL2w8CB_m9f"
      },
      "execution_count": null,
      "outputs": []
    },
    {
      "cell_type": "markdown",
      "source": [
        "## Verificar Sheet0 Firma/Declaración/Clave Pública (Verify Sheet0 Signature/Statement/PublicKey)\n",
        "\n",
        "Usar la biblioteca de criptografía `ecies` directamente sin usar los scripts externos.\n",
        "***\n",
        "Use the `ecies` cryptography library directly without using the external scripts.\n",
        "\n",
        "- importar la biblioteca\\\n",
        " (import library)\n",
        "- definir la función de verificación\\\n",
        "(define verification function)\n",
        "- probar la función\\\n",
        "(test function)\n",
        "- aplicar a cada fila de la tabla\\\n",
        "(apply to every row of table)"
      ],
      "metadata": {
        "id": "_nkacjetuqiJ"
      }
    },
    {
      "cell_type": "code",
      "source": [
        "import eth_keys\n",
        "import ecies\n",
        "\n",
        "def verify_message(sig,statement,pubkey):\n",
        "  try:\n",
        "    return eth_keys.datatypes.Signature(bytes.fromhex(sig)).verify_msg(statement.encode() if type(statement)!=bytes else statement,eth_keys.keys.PublicKey(bytes.fromhex(pubkey)))\n",
        "  except Exception as E:\n",
        "    return E\n",
        "verify_message(sig1,my_statement,pubkey1)"
      ],
      "metadata": {
        "id": "rIYQBHGhVY6c"
      },
      "execution_count": null,
      "outputs": []
    },
    {
      "cell_type": "code",
      "source": [
        "dataframe.set_index('name').apply(lambda row: verify_message(row.signature,row.statement,row.pubkey),axis=1)"
      ],
      "metadata": {
        "id": "rNkF3WrPWTvw"
      },
      "execution_count": null,
      "outputs": []
    },
    {
      "cell_type": "markdown",
      "source": [
        "# Configurar Tableros de Comunicación: Sheets 1-3\n",
        "# (Setup Communication Boards: Sheets 1-3)\n"
      ],
      "metadata": {
        "id": "0aYK2ixlv-yH"
      }
    },
    {
      "cell_type": "code",
      "source": [
        "#ONLY FOR DDOG MC\n",
        "hojas=[sheet1,sheet2,sheet3]\n",
        "participants = dataframe.name.tolist()\n",
        "df=pd.DataFrame('None',columns=participants,index=participants)\n",
        "\n",
        "def fill_sheets(h,dfrm):\n",
        "  for hoja in h:\n",
        "    hoja.clear()\n",
        "    hoja.update([dfrm.columns.values.tolist()] + dfrm.values.tolist())\n",
        "\n",
        "fill_sheets(hojas,df)\n",
        "\n",
        "df"
      ],
      "metadata": {
        "id": "c6tM_RvpUOkH"
      },
      "execution_count": null,
      "outputs": []
    },
    {
      "cell_type": "markdown",
      "source": [
        "# Mensajes Abiertos: Sheet 1 (Open Messages: Sheet 1)\n",
        "\n",
        "***\n",
        "**SHEET 1**: Este es un lugar para charlas públicas informales.\\\n",
        " Todos los mensajes son visibles y cualquier participante puede escribir en cualquier celda. No hay seguridad.\n",
        "***\n",
        "**SHEET 1**: This is a place for casual public chats.\\\n",
        "All messages are visible and any participant can write to any cell. There is no security.\n",
        "***\n",
        "- la fila representa el remitente\\\n",
        "(the row represents the sender)\n",
        "- la columna representa  el destinatario\\\n",
        "(column represents the recipient)"
      ],
      "metadata": {
        "id": "vzG8Iqv8xfph"
      }
    },
    {
      "cell_type": "code",
      "source": [
        "def sheet2df(she):\n",
        "  datafr = pd.DataFrame(she.get_all_records())\n",
        "  datafr.index=datafr.columns\n",
        "  return datafr"
      ],
      "metadata": {
        "id": "8ojeca3Eit_G"
      },
      "execution_count": null,
      "outputs": []
    },
    {
      "cell_type": "code",
      "source": [
        "dataframe1 = sheet2df(sheet1)\n",
        "dataframe1"
      ],
      "metadata": {
        "id": "1JeW89rRVVNP"
      },
      "execution_count": null,
      "outputs": []
    },
    {
      "cell_type": "markdown",
      "source": [
        "## Crear Widget para Seleccionar el Destinatario del Mensaje (Create Widget for Selecting Message Recipient) "
      ],
      "metadata": {
        "id": "yvx4jlTeyJir"
      }
    },
    {
      "cell_type": "code",
      "source": [
        "import ipywidgets as widgets\n",
        "w=widgets.Dropdown(\n",
        "    options=participants,\n",
        "    value='DrDoeg',\n",
        "    description='Recipient:',\n",
        "    disabled=False,\n",
        ")"
      ],
      "metadata": {
        "id": "g_vi5fjEyHjh"
      },
      "execution_count": null,
      "outputs": []
    },
    {
      "cell_type": "code",
      "source": [
        "#variable returns dropdown menu\n",
        "#change value by clicking on it\n",
        "w"
      ],
      "metadata": {
        "id": "CUFmHTv2g9G8"
      },
      "execution_count": null,
      "outputs": []
    },
    {
      "cell_type": "code",
      "source": [
        "def dest():\n",
        "  print(f'Vos eres:')\n",
        "  print(f'You are: {my_name}')\n",
        "  print('~'*20)\n",
        "  print('Selectar destinatario del mensaje')\n",
        "  print('Select a message recipient')\n",
        "  return w\n",
        "\n",
        "dest()"
      ],
      "metadata": {
        "id": "coWaXfl_u0wX"
      },
      "execution_count": null,
      "outputs": []
    },
    {
      "cell_type": "code",
      "source": [
        "#\n",
        "w.value"
      ],
      "metadata": {
        "id": "7cRk6xtQixhy"
      },
      "execution_count": null,
      "outputs": []
    },
    {
      "cell_type": "markdown",
      "source": [
        "## Crear y Publicar Mensaje (Create and Post Message)\n",
        "\n",
        "- Seleccionar contenedor\\\n",
        "(Select recipient)\n",
        "- Escribir un mensaje\\\n",
        "(Write message)\n",
        "- Publicar mensaje\\\n",
        "(Publish message)\n",
        "- Ver tablero de mensajes\\\n",
        "(View message board)"
      ],
      "metadata": {
        "id": "B2Q_fDGQymjc"
      }
    },
    {
      "cell_type": "code",
      "source": [
        "dest()"
      ],
      "metadata": {
        "id": "Y6Aq1Jmrv6ot"
      },
      "execution_count": null,
      "outputs": []
    },
    {
      "cell_type": "code",
      "source": [
        "p_dict=dict([ (e,i) for i,e in enumerate(participants)])\n",
        "message=input('send a message')\n",
        "write_cell=(p_dict[my_name]+2,p_dict[w.value]+1)\n",
        "sheet1.update_cell(*write_cell, message);"
      ],
      "metadata": {
        "id": "Hth5kCTvoUbh"
      },
      "execution_count": null,
      "outputs": []
    },
    {
      "cell_type": "code",
      "source": [
        "\n",
        "dataframe1 = sheet2df(sheet1)\n",
        "dataframe1"
      ],
      "metadata": {
        "id": "HgP-GlczsjiK"
      },
      "execution_count": null,
      "outputs": []
    },
    {
      "cell_type": "markdown",
      "source": [
        "## Leer Tus Mensajes (Read Your Messages)"
      ],
      "metadata": {
        "id": "11zpLNW8vNhM"
      }
    },
    {
      "cell_type": "code",
      "source": [
        "dataframe1[my_name]"
      ],
      "metadata": {
        "id": "9tyQ7fx8qZk-"
      },
      "execution_count": null,
      "outputs": []
    },
    {
      "cell_type": "markdown",
      "source": [
        "# Mensajes Cifradas (Encrypted Messages) : Sheet2"
      ],
      "metadata": {
        "id": "FLOxmlhKzbuB"
      }
    },
    {
      "cell_type": "code",
      "source": [
        "dataframe2 = sheet2df(sheet2)\n",
        "dataframe2"
      ],
      "metadata": {
        "id": "u5cVM59SwqoR"
      },
      "execution_count": null,
      "outputs": []
    },
    {
      "cell_type": "code",
      "source": [
        "def encrypt_message(hexPubKey,message):\n",
        "    if type(message)!=bytes:\n",
        "        message=message.encode()\n",
        "    return ecies.encrypt(hexPubKey,message).hex()"
      ],
      "metadata": {
        "id": "zUnwSc5MYtx0"
      },
      "execution_count": null,
      "outputs": []
    },
    {
      "cell_type": "code",
      "source": [
        "dest()"
      ],
      "metadata": {
        "id": "54B8FB32nLxN"
      },
      "execution_count": null,
      "outputs": []
    },
    {
      "cell_type": "code",
      "source": [
        "message=input('send an encrypted message')\n",
        "write_cell=(p_dict['michelle']+2,p_dict[w.value]+1)\n",
        "sheet2.update_cell(*write_cell, encrypt_message(dataframe.set_index('name').pubkey[w.value],message));"
      ],
      "metadata": {
        "id": "57EM8VGFas_B"
      },
      "execution_count": null,
      "outputs": []
    },
    {
      "cell_type": "code",
      "source": [
        "dataframe2 = sheet2df(sheet2)\n",
        "dataframe2"
      ],
      "metadata": {
        "id": "XpnawJKL9QFa"
      },
      "execution_count": null,
      "outputs": []
    },
    {
      "cell_type": "code",
      "source": [
        "def import_privKey(path,password):\n",
        "  import hashlib\n",
        "  if type(password)!=bytes:\n",
        "    password=password.encode()\n",
        "  f=open(path,'rb')\n",
        "  decrypted_bytes=ecies.aes_decrypt(key=hashlib.sha256(password).digest(),cipher_text=f.read())\n",
        "  privKey=eth_keys.keys.PrivateKey(decrypted_bytes)\n",
        "  f.close()\n",
        "  return privKey\n",
        "\n",
        "def decrypt_message(privKey,cipherhex):\n",
        "    try:\n",
        "      ciphertext=bytes.fromhex(cipherhex)\n",
        "      return ecies.decrypt(privKey.to_hex(),ciphertext)\n",
        "    except:\n",
        "      return None"
      ],
      "metadata": {
        "id": "nOof0MakbGX8"
      },
      "execution_count": null,
      "outputs": []
    },
    {
      "cell_type": "code",
      "source": [
        "decrypt_message(import_privKey('llaves/prvkey1.eck',''),dataframe2[my_name][my_name])"
      ],
      "metadata": {
        "id": "JTDE-5zIg9vq"
      },
      "execution_count": null,
      "outputs": []
    },
    {
      "cell_type": "code",
      "source": [
        "k=import_privKey('llaves/prvkey1.eck','')\n",
        "tr=dataframe2[my_name].apply(lambda x: decrypt_message(k,x))\n",
        "tr"
      ],
      "metadata": {
        "id": "-6xzJ10Be8zD"
      },
      "execution_count": null,
      "outputs": []
    },
    {
      "cell_type": "markdown",
      "source": [
        "# Firmada y Cifrada Mensajes (Signed and Encrypted Messages) : Sheet3\n",
        "\n",
        "Escribir funciones (Write functions):\n",
        "- sign\n",
        "- sign and encrypt\n",
        "- decrypt and verify"
      ],
      "metadata": {
        "id": "6AReJROPrgJd"
      }
    },
    {
      "cell_type": "code",
      "source": [
        "def sign_message(privKey,message):\n",
        "    if type(message)!=bytes:\n",
        "        message=message.encode()\n",
        "    signature= privKey.sign_msg(message)\n",
        "    return signature.to_bytes().hex()"
      ],
      "metadata": {
        "id": "qlpB7gF3mQlz"
      },
      "execution_count": null,
      "outputs": []
    },
    {
      "cell_type": "code",
      "source": [
        "def sign_encrypt_message(privKey,hexpubKey,message):\n",
        "    if type(message)!=bytes:\n",
        "        message=message.encode()\n",
        "    byte_enc=bytes.fromhex(encrypt_message(hexpubKey,message))\n",
        "    signature= privKey.sign_msg(byte_enc)\n",
        "    return signature.to_bytes().hex()+byte_enc.hex()"
      ],
      "metadata": {
        "id": "9spAIuUtXNwk"
      },
      "execution_count": null,
      "outputs": []
    },
    {
      "cell_type": "code",
      "source": [
        "def decrypt_verify(pubkey,privkey,block):\n",
        "  try:\n",
        "    ver=verify_message(block[:130],bytes.fromhex(block[130:]),pubkey)\n",
        "    return decrypt_message(privkey,block[130:]),ver\n",
        "  except:\n",
        "    return None"
      ],
      "metadata": {
        "id": "Xk76WMZhlu-h"
      },
      "execution_count": null,
      "outputs": []
    },
    {
      "cell_type": "code",
      "source": [
        "dest()"
      ],
      "metadata": {
        "id": "UcqnV7v9x8ag"
      },
      "execution_count": null,
      "outputs": []
    },
    {
      "cell_type": "code",
      "source": [
        "message=input('send a signed and encrypted message to '+w.value)\n",
        "write_cell=(p_dict[my_name]+2,p_dict[w.value]+1)\n",
        "signed_enc_message=sign_encrypt_message(k,pubkey1,message)\n",
        "sheet3.update_cell(*write_cell,signed_enc_message);"
      ],
      "metadata": {
        "id": "b_sTTlD5rnsp"
      },
      "execution_count": null,
      "outputs": []
    },
    {
      "cell_type": "code",
      "source": [
        "dataframe3 = sheet2df(sheet3)\n",
        "dataframe3"
      ],
      "metadata": {
        "id": "76aYgtllrawL"
      },
      "execution_count": null,
      "outputs": []
    },
    {
      "cell_type": "markdown",
      "source": [
        "## Check Signed and Encrypted Messages"
      ],
      "metadata": {
        "id": "su-mDp212v3D"
      }
    },
    {
      "cell_type": "code",
      "source": [
        "pubkey_name=dataframe.set_index('name')['pubkey']\n",
        "dataframe3[[my_name]].reset_index().apply(lambda x: decrypt_verify(pubkey_name[x['index']],k,x[my_name])  ,axis=1)"
      ],
      "metadata": {
        "id": "j3cJtgCcsSWs"
      },
      "execution_count": null,
      "outputs": []
    },
    {
      "cell_type": "code",
      "source": [
        "pubkey_name"
      ],
      "metadata": {
        "id": "OSkGdx6oxvwu"
      },
      "execution_count": null,
      "outputs": []
    },
    {
      "cell_type": "code",
      "source": [
        "dataframe3[[my_name]].reset_index()"
      ],
      "metadata": {
        "id": "iruG6lETxnTE"
      },
      "execution_count": null,
      "outputs": []
    },
    {
      "cell_type": "markdown",
      "source": [
        "# Funciones\n",
        "\n",
        "```python\n",
        "sign_message(privKey,message)\n",
        "verify_message(sig,statement,pubkey)\n",
        "encrypt_message(hexPubKey,message)\n",
        "decrypt_message(privKey,cipherhex)\n",
        "sign_encrypt_message(privKey,hexpubKey,message)\n",
        "decrypt_verify(pubkey,privkey,block)\n",
        "```"
      ],
      "metadata": {
        "id": "LMs663jY6DzS"
      }
    },
    {
      "cell_type": "code",
      "source": [
        ""
      ],
      "metadata": {
        "id": "QlR2hp9X6I0N"
      },
      "execution_count": null,
      "outputs": []
    }
  ],
  "metadata": {
    "kernelspec": {
      "display_name": "Python 3",
      "language": "python",
      "name": "python3"
    },
    "language_info": {
      "codemirror_mode": {
        "name": "ipython",
        "version": 3
      },
      "file_extension": ".py",
      "mimetype": "text/x-python",
      "name": "python",
      "nbconvert_exporter": "python",
      "pygments_lexer": "ipython3",
      "version": "3.7.6"
    },
    "colab": {
      "name": "04_cuaderno.ipynb",
      "provenance": []
    }
  },
  "nbformat": 4,
  "nbformat_minor": 0
}