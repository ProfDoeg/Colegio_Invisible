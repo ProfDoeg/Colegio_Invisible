{
 "cells": [
  {
   "cell_type": "markdown",
   "metadata": {},
   "source": [
    "<a href=\"https://colab.research.google.com/github/ProfDoeg/Colegio_Invisible/blob/master/04_cuaderno.ipynb\" target=\"_parent\"><img src=\"https://colab.research.google.com/assets/colab-badge.svg\" alt=\"Open In Colab\"/></a>"
   ]
  },
  {
   "cell_type": "markdown",
   "metadata": {},
   "source": [
    "# Colegio Invisible"
   ]
  },
  {
   "cell_type": "code",
   "execution_count": 1,
   "metadata": {},
   "outputs": [
    {
     "name": "stdout",
     "output_type": "stream",
     "text": [
      "Requirement already satisfied: eciespy in /Users/tony/anaconda3/lib/python3.7/site-packages (0.3.10)\n",
      "Requirement already satisfied: eth_keys in /Users/tony/anaconda3/lib/python3.7/site-packages (0.3.3)\n",
      "Requirement already satisfied: gspread in /Users/tony/anaconda3/lib/python3.7/site-packages (4.0.1)\n",
      "Requirement already satisfied: oauth2client in /Users/tony/anaconda3/lib/python3.7/site-packages (4.1.3)\n",
      "Requirement already satisfied: coincurve<16,>=13 in /Users/tony/anaconda3/lib/python3.7/site-packages (from eciespy) (13.0.0)\n",
      "Requirement already satisfied: pycryptodome<4.0.0,>=3.9.9 in /Users/tony/anaconda3/lib/python3.7/site-packages (from eciespy) (3.9.9)\n",
      "Requirement already satisfied: eth-typing<3.0.0,>=2.2.1 in /Users/tony/anaconda3/lib/python3.7/site-packages (from eth_keys) (2.2.2)\n",
      "Requirement already satisfied: eth-utils<2.0.0,>=1.3.0 in /Users/tony/anaconda3/lib/python3.7/site-packages (from eth_keys) (1.9.5)\n",
      "Requirement already satisfied: google-auth>=1.12.0 in /Users/tony/anaconda3/lib/python3.7/site-packages (from gspread) (1.34.0)\n",
      "Requirement already satisfied: google-auth-oauthlib>=0.4.1 in /Users/tony/anaconda3/lib/python3.7/site-packages (from gspread) (0.4.5)\n",
      "Requirement already satisfied: pyasn1-modules>=0.0.5 in /Users/tony/anaconda3/lib/python3.7/site-packages (from oauth2client) (0.2.8)\n",
      "Requirement already satisfied: httplib2>=0.9.1 in /Users/tony/anaconda3/lib/python3.7/site-packages (from oauth2client) (0.19.1)\n",
      "Requirement already satisfied: rsa>=3.1.4 in /Users/tony/anaconda3/lib/python3.7/site-packages (from oauth2client) (4.7.2)\n",
      "Requirement already satisfied: pyasn1>=0.1.7 in /Users/tony/anaconda3/lib/python3.7/site-packages (from oauth2client) (0.4.8)\n",
      "Requirement already satisfied: six>=1.6.1 in /Users/tony/anaconda3/lib/python3.7/site-packages (from oauth2client) (1.14.0)\n",
      "Requirement already satisfied: cffi>=1.3.0 in /Users/tony/anaconda3/lib/python3.7/site-packages (from coincurve<16,>=13->eciespy) (1.14.0)\n",
      "Requirement already satisfied: asn1crypto in /Users/tony/anaconda3/lib/python3.7/site-packages (from coincurve<16,>=13->eciespy) (1.3.0)\n",
      "Requirement already satisfied: cytoolz<1.0.0,>=0.10.1; implementation_name == \"cpython\" in /Users/tony/anaconda3/lib/python3.7/site-packages (from eth-utils<2.0.0,>=1.3.0->eth_keys) (0.10.1)\n",
      "Requirement already satisfied: eth-hash<1.0.0,>=0.1.0 in /Users/tony/anaconda3/lib/python3.7/site-packages (from eth-utils<2.0.0,>=1.3.0->eth_keys) (0.2.0)\n",
      "Requirement already satisfied: cachetools<5.0,>=2.0.0 in /Users/tony/anaconda3/lib/python3.7/site-packages (from google-auth>=1.12.0->gspread) (4.2.2)\n",
      "Requirement already satisfied: setuptools>=40.3.0 in /Users/tony/anaconda3/lib/python3.7/site-packages (from google-auth>=1.12.0->gspread) (46.0.0.post20200309)\n",
      "Requirement already satisfied: requests-oauthlib>=0.7.0 in /Users/tony/anaconda3/lib/python3.7/site-packages (from google-auth-oauthlib>=0.4.1->gspread) (1.3.0)\n",
      "Requirement already satisfied: pyparsing<3,>=2.4.2 in /Users/tony/anaconda3/lib/python3.7/site-packages (from httplib2>=0.9.1->oauth2client) (2.4.6)\n",
      "Requirement already satisfied: pycparser in /Users/tony/anaconda3/lib/python3.7/site-packages (from cffi>=1.3.0->coincurve<16,>=13->eciespy) (2.19)\n",
      "Requirement already satisfied: toolz>=0.8.0 in /Users/tony/anaconda3/lib/python3.7/site-packages (from cytoolz<1.0.0,>=0.10.1; implementation_name == \"cpython\"->eth-utils<2.0.0,>=1.3.0->eth_keys) (0.10.0)\n",
      "Requirement already satisfied: oauthlib>=3.0.0 in /Users/tony/anaconda3/lib/python3.7/site-packages (from requests-oauthlib>=0.7.0->google-auth-oauthlib>=0.4.1->gspread) (3.1.1)\n",
      "Requirement already satisfied: requests>=2.0.0 in /Users/tony/anaconda3/lib/python3.7/site-packages (from requests-oauthlib>=0.7.0->google-auth-oauthlib>=0.4.1->gspread) (2.22.0)\n",
      "Requirement already satisfied: urllib3!=1.25.0,!=1.25.1,<1.26,>=1.21.1 in /Users/tony/anaconda3/lib/python3.7/site-packages (from requests>=2.0.0->requests-oauthlib>=0.7.0->google-auth-oauthlib>=0.4.1->gspread) (1.25.8)\n",
      "Requirement already satisfied: chardet<3.1.0,>=3.0.2 in /Users/tony/anaconda3/lib/python3.7/site-packages (from requests>=2.0.0->requests-oauthlib>=0.7.0->google-auth-oauthlib>=0.4.1->gspread) (3.0.4)\n",
      "Requirement already satisfied: idna<2.9,>=2.5 in /Users/tony/anaconda3/lib/python3.7/site-packages (from requests>=2.0.0->requests-oauthlib>=0.7.0->google-auth-oauthlib>=0.4.1->gspread) (2.8)\n",
      "Requirement already satisfied: certifi>=2017.4.17 in /Users/tony/anaconda3/lib/python3.7/site-packages (from requests>=2.0.0->requests-oauthlib>=0.7.0->google-auth-oauthlib>=0.4.1->gspread) (2019.11.28)\n"
     ]
    }
   ],
   "source": [
    "!pip install eciespy eth_keys gspread oauth2client"
   ]
  },
  {
   "cell_type": "code",
   "execution_count": null,
   "metadata": {},
   "outputs": [],
   "source": []
  }
 ],
 "metadata": {
  "kernelspec": {
   "display_name": "Python 3",
   "language": "python",
   "name": "python3"
  },
  "language_info": {
   "codemirror_mode": {
    "name": "ipython",
    "version": 3
   },
   "file_extension": ".py",
   "mimetype": "text/x-python",
   "name": "python",
   "nbconvert_exporter": "python",
   "pygments_lexer": "ipython3",
   "version": "3.7.6"
  }
 },
 "nbformat": 4,
 "nbformat_minor": 4
}
